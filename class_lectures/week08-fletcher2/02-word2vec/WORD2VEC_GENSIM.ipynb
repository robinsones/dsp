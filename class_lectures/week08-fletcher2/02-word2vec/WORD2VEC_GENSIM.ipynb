{
 "cells": [
  {
   "cell_type": "markdown",
   "metadata": {},
   "source": [
    "#WORD2VEC\n",
    "\n",
    "## Working with Word2Vec with Gensim\n"
   ]
  },
  {
   "cell_type": "markdown",
   "metadata": {},
   "source": [
    "We have been working with a number of techniques and tools that help us navigate the world of NLP.       \n",
    "**For example, we have our Vectorizer:**\n"
   ]
  },
  {
   "cell_type": "code",
   "execution_count": 1,
   "metadata": {
    "collapsed": false
   },
   "outputs": [
    {
     "name": "stdout",
     "output_type": "stream",
     "text": [
      "Populating the interactive namespace from numpy and matplotlib\n"
     ]
    },
    {
     "data": {
      "text/html": [
       "<div>\n",
       "<table border=\"1\" class=\"dataframe\">\n",
       "  <thead>\n",
       "    <tr style=\"text-align: right;\">\n",
       "      <th></th>\n",
       "      <th>above</th>\n",
       "      <th>above all</th>\n",
       "      <th>all</th>\n",
       "      <th>all to</th>\n",
       "      <th>be</th>\n",
       "      <th>be true</th>\n",
       "      <th>come</th>\n",
       "      <th>come to</th>\n",
       "      <th>denmark</th>\n",
       "      <th>in</th>\n",
       "      <th>...</th>\n",
       "      <th>the</th>\n",
       "      <th>the state</th>\n",
       "      <th>thine</th>\n",
       "      <th>thine own</th>\n",
       "      <th>this</th>\n",
       "      <th>this above</th>\n",
       "      <th>to</th>\n",
       "      <th>to thine</th>\n",
       "      <th>to this</th>\n",
       "      <th>true</th>\n",
       "    </tr>\n",
       "  </thead>\n",
       "  <tbody>\n",
       "    <tr>\n",
       "      <th>0</th>\n",
       "      <td>0</td>\n",
       "      <td>0</td>\n",
       "      <td>0</td>\n",
       "      <td>0</td>\n",
       "      <td>0</td>\n",
       "      <td>0</td>\n",
       "      <td>1</td>\n",
       "      <td>1</td>\n",
       "      <td>0</td>\n",
       "      <td>0</td>\n",
       "      <td>...</td>\n",
       "      <td>0</td>\n",
       "      <td>0</td>\n",
       "      <td>0</td>\n",
       "      <td>0</td>\n",
       "      <td>1</td>\n",
       "      <td>0</td>\n",
       "      <td>1</td>\n",
       "      <td>0</td>\n",
       "      <td>1</td>\n",
       "      <td>0</td>\n",
       "    </tr>\n",
       "    <tr>\n",
       "      <th>1</th>\n",
       "      <td>1</td>\n",
       "      <td>1</td>\n",
       "      <td>1</td>\n",
       "      <td>1</td>\n",
       "      <td>1</td>\n",
       "      <td>1</td>\n",
       "      <td>0</td>\n",
       "      <td>0</td>\n",
       "      <td>0</td>\n",
       "      <td>0</td>\n",
       "      <td>...</td>\n",
       "      <td>0</td>\n",
       "      <td>0</td>\n",
       "      <td>1</td>\n",
       "      <td>1</td>\n",
       "      <td>1</td>\n",
       "      <td>1</td>\n",
       "      <td>1</td>\n",
       "      <td>1</td>\n",
       "      <td>0</td>\n",
       "      <td>1</td>\n",
       "    </tr>\n",
       "    <tr>\n",
       "      <th>2</th>\n",
       "      <td>0</td>\n",
       "      <td>0</td>\n",
       "      <td>0</td>\n",
       "      <td>0</td>\n",
       "      <td>0</td>\n",
       "      <td>0</td>\n",
       "      <td>0</td>\n",
       "      <td>0</td>\n",
       "      <td>1</td>\n",
       "      <td>1</td>\n",
       "      <td>...</td>\n",
       "      <td>1</td>\n",
       "      <td>1</td>\n",
       "      <td>0</td>\n",
       "      <td>0</td>\n",
       "      <td>0</td>\n",
       "      <td>0</td>\n",
       "      <td>0</td>\n",
       "      <td>0</td>\n",
       "      <td>0</td>\n",
       "      <td>0</td>\n",
       "    </tr>\n",
       "  </tbody>\n",
       "</table>\n",
       "<p>3 rows × 40 columns</p>\n",
       "</div>"
      ],
      "text/plain": [
       "   above  above all  all  all to  be  be true  come  come to  denmark  in  \\\n",
       "0      0          0    0       0   0        0     1        1        0   0   \n",
       "1      1          1    1       1   1        1     0        0        0   0   \n",
       "2      0          0    0       0   0        0     0        0        1   1   \n",
       "\n",
       "   ...   the  the state  thine  thine own  this  this above  to  to thine  \\\n",
       "0  ...     0          0      0          0     1           0   1         0   \n",
       "1  ...     0          0      1          1     1           1   1         1   \n",
       "2  ...     1          1      0          0     0           0   0         0   \n",
       "\n",
       "   to this  true  \n",
       "0        1     0  \n",
       "1        0     1  \n",
       "2        0     0  \n",
       "\n",
       "[3 rows x 40 columns]"
      ]
     },
     "execution_count": 1,
     "metadata": {},
     "output_type": "execute_result"
    }
   ],
   "source": [
    "%pylab inline\n",
    "import pandas as pd\n",
    "from sklearn.feature_extraction.text import CountVectorizer\n",
    "\n",
    "text = ['That is should come to this!', 'This above all: to thine own self be true.', 'Something is rotten in the state of Denmark.']\n",
    "vectorizer = CountVectorizer(ngram_range=(1,2))\n",
    "\n",
    "vectorizer.fit(text)\n",
    "x = vectorizer.transform(text)\n",
    "x_back = x.toarray()\n",
    "\n",
    "pd.DataFrame(x_back, columns=vectorizer.get_feature_names())"
   ]
  },
  {
   "cell_type": "markdown",
   "metadata": {},
   "source": [
    "** An Adverse Traits abou the Bag of Words model:**      \n",
    "    - Word Context & semantic meaning does not play a role   \n",
    "\n",
    "\n",
    "** And then came Word2Vec** \n",
    "\n",
    "We will see that with Word2Vec context does play a role and it can decipher the relationship between words \n"
   ]
  },
  {
   "cell_type": "code",
   "execution_count": 2,
   "metadata": {
    "collapsed": false
   },
   "outputs": [
    {
     "data": {
      "image/png": "[encoded data removed]",
      "text/plain": [
       "<matplotlib.figure.Figure at 0x10724b250>"
      ]
     },
     "metadata": {},
     "output_type": "display_data"
    }
   ],
   "source": [
    "import seaborn as sb  \n",
    "import numpy as np\n",
    "\n",
    "words = ['king','queen', 'man', 'woman']  \n",
    "\n",
    "\n",
    "vectors = np.array([[0.6,   0.8], \n",
    "                    [0.8, 0.6],\n",
    "                   [.2,.4],[.4,.2]]\n",
    "                 ) \n",
    "\n",
    "sb.plt.plot(vectors[:,0], vectors[:,1], 'o')  \n",
    "sb.plt.xlim(0, 1.5)  \n",
    "sb.plt.ylim(0, 1.5)  \n",
    "for word, x, y in zip(words, vectors[:,0], vectors[:,1]):  \n",
    "    sb.plt.annotate(word, (x, y), size=12)"
   ]
  },
  {
   "cell_type": "markdown",
   "metadata": {},
   "source": [
    "## First things first :\n",
    "\n",
    "\n",
    "## First things first :\n",
    "\n",
    "\n",
    "**1) Install Gensim: **\n",
    "\n",
    "pip install gensim\n",
    "\n",
    "**  2)  Make sure cython is installed ? **\n",
    "\n",
    "cython -V\n",
    "\n",
    "(if no cython):\n",
    "\n",
    "pip install cython\n",
    "\n",
    "\n",
    "** 3) test (Run the sample code in following cell) **\n"
   ]
  },
  {
   "cell_type": "code",
   "execution_count": 4,
   "metadata": {
    "collapsed": false
   },
   "outputs": [
    {
     "name": "stdout",
     "output_type": "stream",
     "text": [
      "[['will', 'this', 'work?', \"i'm\", 'not', 'sure.', 'if', 'not', 'go', 'to', 'step', '#4', '(above)']]\n"
     ]
    }
   ],
   "source": [
    "import gensim\n",
    "documents = [\"Will this work?  I'm not sure.  If not go to step #4 (above)\"]\n",
    "texts = [[word for word in document.lower().split()]\n",
    "         for document in documents]\n",
    "\n",
    "print texts\n",
    "model = gensim.models.Word2Vec(texts, size=100, window=5, min_count=1, workers=4,sg=1)"
   ]
  },
  {
   "cell_type": "markdown",
   "metadata": {},
   "source": [
    "\n",
    "**4) If you see the following error : \"UserWarning: C extension not loaded for Word2Vec\"**\n",
    "\n",
    "\n",
    "Do the following:\n",
    "\n",
    "1.  pip uninstall gensim\n",
    "2.  pip uninstall scipy \n",
    "\n",
    "3. pip install --no-cache-dir scipy==0.15.1\n",
    "4. pip install --no-cache-dir gensim==0.12.1\n",
    "\n",
    "\n",
    "**Refer to the following:** https://groups.google.com/forum/#!topic/gensim/isBqIhrw9mk"
   ]
  },
  {
   "cell_type": "code",
   "execution_count": 5,
   "metadata": {
    "collapsed": true
   },
   "outputs": [],
   "source": [
    "#  A 'Gensim' example: \n",
    "\n",
    "documents = [\"Human machine interface for lab abc computer applications\",\n",
    "             \"A survey of user opinion of computer system response time\",\n",
    "             \"The EPS user interface management system\",\n",
    "             \"System and human system engineering testing of EPS\",\n",
    "              \"Relation of user perceived response time to error measurement\",\n",
    "              \"The generation of random binary unordered trees\",\n",
    "              \"The intersection graph of paths in trees\",\n",
    "              \"Graph minors IV Widths of trees and well quasi ordering\",\n",
    "              \"Graph minors A survey\"]"
   ]
  },
  {
   "cell_type": "markdown",
   "metadata": {},
   "source": [
    "##  Word2Vec (In a Word..)\n",
    "\n",
    "###  1: Preprocessing\n",
    "\n",
    "1) Tokenization   \n",
    "2) Remove stop words    \n",
    "3) Convert to lowercase     \n",
    "4) Others: stemming.. "
   ]
  },
  {
   "cell_type": "code",
   "execution_count": 6,
   "metadata": {
    "collapsed": false
   },
   "outputs": [
    {
     "name": "stdout",
     "output_type": "stream",
     "text": [
      "[['human', 'machine', 'interface', 'lab', 'abc', 'computer', 'applications'], ['survey', 'user', 'opinion', 'computer', 'system', 'response', 'time'], ['eps', 'user', 'interface', 'management', 'system'], ['system', 'human', 'system', 'engineering', 'testing', 'eps'], ['relation', 'user', 'perceived', 'response', 'time', 'error', 'measurement'], ['generation', 'random', 'binary', 'unordered', 'trees'], ['intersection', 'graph', 'paths', 'trees'], ['graph', 'minors', 'iv', 'widths', 'trees', 'well', 'quasi', 'ordering'], ['graph', 'minors', 'survey']]\n"
     ]
    }
   ],
   "source": [
    "# The type of input that Word2Vec is looking for.. \n",
    "stoplist = set('for a of the and to in'.split())\n",
    "texts = [[word for word in document.lower().split() if word not in stoplist]\n",
    "         for document in documents]\n",
    "\n",
    "print texts"
   ]
  },
  {
   "cell_type": "markdown",
   "metadata": {},
   "source": [
    "###  2: Word Representation\n",
    "\n",
    "Learn a continuous representation of words.\n",
    "Each word (w) is associated with it's own word vector C(w)"
   ]
  },
  {
   "cell_type": "code",
   "execution_count": 46,
   "metadata": {
    "collapsed": false
   },
   "outputs": [
    {
     "name": "stdout",
     "output_type": "stream",
     "text": [
      "Vocab(count:2, index:4, sample_int:804211817)\n"
     ]
    }
   ],
   "source": [
    "import gensim\n",
    "model = gensim.models.Word2Vec(texts, size=100, window=5, min_count=1, workers=2,sg=1)\n",
    "\n",
    "#print model.vocab\n",
    "print model.vocab['minors']"
   ]
  },
  {
   "cell_type": "code",
   "execution_count": 11,
   "metadata": {
    "collapsed": false
   },
   "outputs": [
    {
     "name": "stdout",
     "output_type": "stream",
     "text": [
      "[ 0.00358155  0.00264495 -0.00401788  0.00149795 -0.00194208  0.00045494\n",
      " -0.00017517  0.0013563  -0.00399634  0.00104367 -0.00279939  0.00215701\n",
      " -0.0022176  -0.00280289 -0.00152524  0.00427915  0.00151263 -0.00368231\n",
      " -0.00362804  0.0014829   0.00033702  0.0014282  -0.00318798 -0.00481104\n",
      "  0.00064264  0.0041865  -0.00427888  0.00062682 -0.00080342 -0.00499865\n",
      " -0.00364611  0.00132216 -0.00449747 -0.00371323 -0.00272111  0.00494667\n",
      " -0.00280392  0.00320229  0.00346256 -0.00225677 -0.001115   -0.00231972\n",
      "  0.00036926 -0.00090166 -0.00046707 -0.00385928 -0.00196428 -0.00238861\n",
      " -0.00350803 -0.00146319  0.00112949  0.00418342  0.00376145  0.00302149\n",
      "  0.00321145  0.00430367  0.00351456  0.00297585  0.00080843 -0.00160295\n",
      " -0.00343848  0.00124714  0.00095836  0.00302949 -0.00010518 -0.0009199\n",
      " -0.00101466 -0.00157668  0.00212804  0.00119765  0.00340973  0.00465541\n",
      "  0.00158798 -0.00401529  0.00153894 -0.00358201  0.00212459  0.00414292\n",
      " -0.00073451 -0.0025579   0.00218826 -0.0028648  -0.00212531  0.00244971\n",
      "  0.00201649  0.00487883  0.00135356 -0.00052304 -0.00479682 -0.00333597\n",
      "  0.00125275 -0.00255924  0.00279517  0.00099833  0.00157377 -0.00353028\n",
      "  0.00076364  0.00337701  0.00400746  0.00096725]\n"
     ]
    }
   ],
   "source": [
    "#  and Voila !    We have our word vector \n",
    "print model['computer']"
   ]
  },
  {
   "cell_type": "markdown",
   "metadata": {},
   "source": [
    "###  What do we have?   Word Embeddings \n",
    "\n",
    "**A word embedding W : words → ℝn **\n",
    "\n",
    "The output above is the result of 'word' projections in a latent space\n",
    "of N dimensions, (N ~ size of NN layer we chose).     \n",
    "Our float values above represent the coordinates for the word 'computer' in our 100-dimensional space!\n",
    "\n",
    "Our high dimensional vectors stand in place for words.    \n",
    "Note, that these dimensions are encoding 'latent' properties for 'computer' (such that 'queen' will be geometrically closer to 'king' than it would to be to (let's say) 'computer'. \n",
    "\n",
    "\n",
    "Word Embeddings are useful because:\n",
    "\n",
    "1.  We can measure the semantic similarity between two words\n",
    "2.  We can use these word vectors as features for various NLP supervised learning tasks (such as classifcation, sentiment analysis). \n",
    "\n",
    "We will see how we get here.. \n"
   ]
  },
  {
   "cell_type": "markdown",
   "metadata": {
    "collapsed": true
   },
   "source": [
    "### 3  Skip-Gram Methods &  CBOW Methods : \n",
    "\n",
    "#### Skip-Gram: \n",
    "\n",
    "**example sentence:**  \n",
    "\n",
    "**  \"We are on the cusp of deep learning for the masses\"\n",
    "\n",
    "Example Context window: \"deep learning for the masses\"  (Context Window = 3 & Skip-Gram = 1)\n",
    "\n",
    "Input of skip-gram is a single word (Wi) 'learning', we will determine the probability of seeing the words (Wo) : 'deep', 'for','masses'\n",
    "\n",
    "Step 1) Transform our vobabulary into a 'bag of indices'\n",
    "\n",
    "Step 2) One-hot encode (input/ output vectors) \n",
    "\n",
    "Step 3) Randomly initialize our Weight Vectors\n",
    "\n",
    "(W is what we are after by the way!) \n",
    "\n",
    "Step 4) Calculate Softmax probabilities\n",
    "What is the probability of 'seeing' the word 'deep' given that we've seen the word 'learning'?  -- >  Using SGD together with softmax regression, we will maximize the probability of seeing 'deep' and 'learning' together. \n",
    "\n",
    "P(Wo|Wi) = (exp(Wi.Wo)/ sum(exp(Wi.Woj)   (sum~ sum of all Woj for all j in Vocabulary)\n",
    "\n",
    "Step 5) Gradient Descent (Update Matrix values (Corrections made in the direction of Gradient))\n",
    "\n",
    "Wo = Wo - a*ej*Wi\n",
    "    \n",
    "(ej~ error = 1 - p_deep) \n",
    "\n",
    "Step 6) Now update our W matrix: \n",
    "Wi=Wi-a*ej*Wo\n",
    "\n",
    "Step 7) Repeat..\n",
    "\n",
    " \n",
    "<img src='skip_gram.png'/>"
   ]
  },
  {
   "cell_type": "markdown",
   "metadata": {},
   "source": [
    "\n",
    "### CBOW: \n",
    "\n",
    "\n",
    "CBOW: very similiar model with the inputs & outputs reversed.  The input layer consists of our word window (Size C)\n",
    "\n",
    "<img src='CBOW.png'/>\n",
    "\n"
   ]
  },
  {
   "cell_type": "code",
   "execution_count": 24,
   "metadata": {
    "collapsed": false
   },
   "outputs": [],
   "source": [
    "# Build corpus from \n",
    "import os\n",
    "import nltk\n",
    "from nltk.corpus import stopwords\n",
    "\n",
    "# we may need to download gutenberg\n",
    "#nltk.download()\n",
    "\n",
    "stop = stopwords.words('english')\n",
    "stop+=['?','!','.',',',':',';']\n",
    "\n",
    "\n",
    "class MySentences2(object):\n",
    "     def __init__(self, dirname):\n",
    "            self.dirname = dirname\n",
    " \n",
    "     def __iter__(self):\n",
    "         for fname in os.listdir(self.dirname):\n",
    "                for line in open(os.path.join(self.dirname, fname)):\n",
    "                    word=line.lower().split()\n",
    "                    if word not in stop:\n",
    "                        yield word\n",
    "                    \n",
    "sentences = MySentences2('/Users/username/nltk_data/corpora/gutenberg') \n",
    "model = gensim.models.Word2Vec(sentences, size=100, window=5, min_count=1, workers=4)"
   ]
  },
  {
   "cell_type": "code",
   "execution_count": 31,
   "metadata": {
    "collapsed": false
   },
   "outputs": [
    {
     "data": {
      "text/plain": [
       "[('moses', 0.8525396585464478),\n",
       " ('david', 0.8345323204994202),\n",
       " ('jesus', 0.8198438882827759),\n",
       " ('son', 0.7985716462135315)]"
      ]
     },
     "execution_count": 31,
     "metadata": {},
     "output_type": "execute_result"
    }
   ],
   "source": [
    "model.most_similar('king' ,topn=4)"
   ]
  },
  {
   "cell_type": "code",
   "execution_count": 27,
   "metadata": {
    "collapsed": false
   },
   "outputs": [
    {
     "data": {
      "text/plain": [
       "0.78856501844242932"
      ]
     },
     "execution_count": 27,
     "metadata": {},
     "output_type": "execute_result"
    }
   ],
   "source": [
    "# Similarity\n",
    "\n",
    "model.similarity('woman','man')"
   ]
  },
  {
   "cell_type": "code",
   "execution_count": 28,
   "metadata": {
    "collapsed": false
   },
   "outputs": [
    {
     "data": {
      "text/plain": [
       "0.82794807792722214"
      ]
     },
     "execution_count": 28,
     "metadata": {},
     "output_type": "execute_result"
    }
   ],
   "source": [
    "# Compute cosine_similarity\n",
    "\n",
    "model.n_similarity(['woman', 'girl'], ['man', 'boy'])"
   ]
  },
  {
   "cell_type": "code",
   "execution_count": 35,
   "metadata": {
    "collapsed": false
   },
   "outputs": [
    {
     "data": {
      "text/plain": [
       "'breakfast'"
      ]
     },
     "execution_count": 35,
     "metadata": {},
     "output_type": "execute_result"
    }
   ],
   "source": [
    "model.doesnt_match(\"breakfast soldier cowboy warrior\".split())"
   ]
  },
  {
   "cell_type": "markdown",
   "metadata": {},
   "source": [
    "Other very cool methods!:      \n",
    "\n",
    "\n",
    "Doc2Vec extends the word2vec algorithm to larger blocks of texts (paragraphs, documents, articles):    \n",
    "https://radimrehurek.com/gensim/models/doc2vec.html\n",
    "\n",
    "http://learningaboutdata.blogspot.com/2014/06/plotting-word-embedding-using-tsne-with.html\n",
    "\n",
    "https://districtdatalabs.silvrback.com/modern-methods-for-sentiment-analysis\n",
    "\n",
    "https://radimrehurek.com/gensim/models/word2vec.html"
   ]
  },
  {
   "cell_type": "markdown",
   "metadata": {},
   "source": [
    "### But if you really want to refine your model, you'll need more data:\n",
    "\n",
    "\n",
    "https://code.google.com/p/word2vec/\n",
    "\n",
    "Download:  'freebase-vectors-skipgram1000-en.bin.gz'"
   ]
  },
  {
   "cell_type": "markdown",
   "metadata": {},
   "source": [
    "###   Some things to keep in Mind when using Word2Vec:\n",
    "\n",
    "Word2vec requires a lot of data to train.\n",
    "\n",
    "As we've illustrated, you can download pretrained vectors. However, if you would need to train your own data \n",
    "you will need a lot of it!  (Think Hundreds of Millions of Words!) \n"
   ]
  }
 ],
 "metadata": {
  "kernelspec": {
   "display_name": "Python 2",
   "language": "python",
   "name": "python2"
  },
  "language_info": {
   "codemirror_mode": {
    "name": "ipython",
    "version": 2
   },
   "file_extension": ".py",
   "mimetype": "text/x-python",
   "name": "python",
   "nbconvert_exporter": "python",
   "pygments_lexer": "ipython2",
   "version": "2.7.11"
  }
 },
 "nbformat": 4,
 "nbformat_minor": 0
}
