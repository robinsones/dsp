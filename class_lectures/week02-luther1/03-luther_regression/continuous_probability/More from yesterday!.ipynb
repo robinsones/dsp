{
 "cells": [
  {
   "cell_type": "markdown",
   "metadata": {},
   "source": [
    "# Discrete Probability Revisited"
   ]
  },
  {
   "cell_type": "markdown",
   "metadata": {},
   "source": [
    "### Dependent variables and Conditional probabilty\n",
    "\n",
    "#### Not all probabilities are independent -- here's an example:\n",
    "\n",
    "I am allergic to dogs. (Sad but true.)  They make me sneeze.\n",
    "Sometimes dogs say hello to me.  What is the probability that I sneeze?\n",
    "\n",
    "Here I know some probabilities about the friendliness of dogs:\n",
    "- $P(``\\text{Dog greets me}\") = 1/4$ \n",
    "- $P(``\\text{Dog doesn't greet me}\") = 3/4$ \n",
    "\n",
    "Sometimes we know the **conditional probabilities** that depend on whether dogs say hello:\n",
    "- $P(``\\text{I sneeze}\" |\\, ``\\text{Dog greets me}\") = 9/10$\n",
    "- $P(``\\text{I don't sneeze}\" |\\, ``\\text{Dog greets me}\") = 1/10$\n",
    "- $P(``\\text{I sneeze}\" |\\, ``\\text{Dog doesn't greet me}\") = 2/10$\n",
    "- $P(``\\text{I don't sneeze}\" |\\, ``\\text{Dog doesn't greet me}\") = 8/10$\n",
    "\n",
    "How can I find the probability of sneezing in general?\n",
    "$$ $$\n",
    "\\begin{align}\n",
    "P(``\\text{I sneeze}\") \n",
    "&= P(``\\text{I sneeze}\" |\\, ``\\text{Dog greets me}\") \\times P(``\\text{Dog greets me}\") \n",
    "\\\\\n",
    "&= P(``\\text{I sneeze}\" |\\, ``\\text{Dog doesn't greet me}\") \\times P(``\\text{Dog doesn't greet me}\") \n",
    "\\\\\n",
    "&= \\frac{9}{10} \\times \\frac{1}{4} + \\frac{2}{10} \\times \\frac{3}{4}\n",
    "\\\\\n",
    "&= \\frac{9 + 6}{40} = \\frac{3}{8} = 37.5\\%\n",
    "\\end{align}\n",
    "\n",
    "What does the probability space look like?  **DRAW IT!**\n",
    "\n",
    "Note that $P(``\\text{I sneeze}\")$ depends on the value of $``\\text{Dog greets me}\"$!\n",
    "  \n",
    "   **The random variables \"I sneeze\" and \"Dog greets me\" are not independent!**\n",
    "  \n",
    "If we thought they were independent, we would conclude that the probabilty \n",
    "  that I sneeze when a dog greets me is $\\frac{1}{4} \\cdot \\frac{3}{8} = \\frac{3}{32} \\approx 9.3\\%$, \n",
    "  but its actually $\\frac{1}{4} \\cdot \\frac{9}{10} = 22.5\\%$!\n"
   ]
  },
  {
   "cell_type": "code",
   "execution_count": null,
   "metadata": {
    "collapsed": true
   },
   "outputs": [],
   "source": []
  },
  {
   "cell_type": "markdown",
   "metadata": {},
   "source": [
    "##An important Probability theorem:\n",
    "\n",
    "**Law of Large Numbers (LLN informal)** -- The average value of a large number of independent \n",
    "samples of a random variable $X$ gets arbitrarily close to its expected value $E(X)$.\n",
    "\n",
    "**Law of Large Numbers (LLN formal)** -- Suppose that $X_1, ..., X_n$ are independent random \n",
    "variables with the same probability densities as the random variable $X$, then \n",
    "\n",
    "$$\n",
    "\\lim_{n \\rightarrow \\infty} \\frac{X_1 + X_2 + \\cdots + X_n}{n} = E(X).\n",
    "$$\n",
    "\n"
   ]
  },
  {
   "cell_type": "code",
   "execution_count": 6,
   "metadata": {
    "collapsed": true
   },
   "outputs": [],
   "source": [
    "## Let's do an example -- rolling many dice!\n",
    "D_list = [make_die()]\n",
    "for i in range(10):\n",
    "    D_list.append(make_sum_of_two_variables(D_list[-1], D_list[-1]))"
   ]
  },
  {
   "cell_type": "code",
   "execution_count": 23,
   "metadata": {
    "collapsed": false
   },
   "outputs": [
    {
     "data": {
      "image/png": "[encoded data removed]",
      "text/plain": [
       "<matplotlib.figure.Figure at 0x1085e5bd0>"
      ]
     },
     "metadata": {},
     "output_type": "display_data"
    }
   ],
   "source": [
    "## Try varying 0 <= k <= 10\n",
    "k = 0\n",
    "RV_mean_scaled_histogram(D_list[k],n = 2**k)"
   ]
  },
  {
   "cell_type": "code",
   "execution_count": null,
   "metadata": {
    "collapsed": true
   },
   "outputs": [],
   "source": []
  },
  {
   "cell_type": "code",
   "execution_count": null,
   "metadata": {
    "collapsed": true
   },
   "outputs": [],
   "source": []
  },
  {
   "cell_type": "code",
   "execution_count": null,
   "metadata": {
    "collapsed": true
   },
   "outputs": [],
   "source": []
  },
  {
   "cell_type": "code",
   "execution_count": 12,
   "metadata": {
    "collapsed": false
   },
   "outputs": [],
   "source": [
    "## Python Code to create and view probability distributions!\n",
    "\n",
    "%matplotlib inline\n",
    "import matplotlib.pyplot as plt\n",
    "\n",
    "\n",
    "## PROBABILITIES FOR A FAIR DIE\n",
    "def make_die(d = 6):\n",
    "    RV = {}\n",
    "    for val in range(1,d+1):\n",
    "        RV[val] = 1.0/6    \n",
    "    return RV\n",
    "\n",
    "\n",
    "def make_sum_of_two_variables(V1, V2):\n",
    "    \"\"\"\n",
    "    RV = ([val_list], [prob_list])    \n",
    "    \"\"\"\n",
    "    new_V = {}\n",
    "    for v1 in V1:\n",
    "        for v2 in V2:            \n",
    "            new_V[v1 + v2] = new_V.get(v1 + v2, 0) + V1[v1] * V2[v2]\n",
    "\n",
    "    ## Adjust for roundoff error -- Rescale the probabilities to sum to one\n",
    "    inv_prob_sum = 1.0 / sum(new_V.values())\n",
    "    for k in new_V:\n",
    "        new_V[k] *= inv_prob_sum \n",
    "        \n",
    "    return new_V\n",
    "            \n",
    "\n",
    "def RV_mean(V):\n",
    "    \"\"\"\n",
    "    Return the mean of the random variable.    \n",
    "    \"\"\"\n",
    "    mean = 0.0\n",
    "    for val, prob in V.iteritems():\n",
    "        mean += prob * val\n",
    "    return mean\n",
    "\n",
    "    \n",
    "def RV_histogram(V, n):\n",
    "    \n",
    "    Vals = V.keys()\n",
    "    Probs = [V[val] for val in Vals]\n",
    "    d = len(Vals)\n",
    "    Left = Vals\n",
    "    \n",
    "    ## Plot the histogram\n",
    "    fig = plt.figure()\n",
    "    H = plt.bar(Left, Probs, align='center', width = 1.0)\n",
    "    H = plt.xticks(Left, Vals)\n",
    "    H = plt.ylim((0,1))\n",
    "    if n == 1:\n",
    "        H = plt.title(\"Probabilities for one fair die\")\n",
    "    else:\n",
    "        H = plt.title(\"Probabilities for the sum of \" + str(n) + \" fair dice\")\n",
    "        \n",
    "    \n",
    "def RV_histogram__dots(V, n):\n",
    "    \n",
    "    Vals = V.keys()\n",
    "    Probs = [V[val] for val in Vals]\n",
    "    d = len(Vals)\n",
    "    Left = Vals\n",
    "    \n",
    "    ## Plot the histogram\n",
    "    fig = plt.figure()\n",
    "    H = plt.plot(Left, Probs, 'bo')\n",
    "    H = plt.xticks(Left, Vals)\n",
    "    H = plt.ylim((0,1))\n",
    "    x_min, x_max = plt.xlim()  \n",
    "    eps = 0.5\n",
    "    H = plt.xlim([x_min - eps, x_max + eps])\n",
    "    if n == 1:\n",
    "        H = plt.title(\"Probabilities for one fair die\")\n",
    "    else:\n",
    "        H = plt.title(\"Probabilities for the sum of \" + str(n) + \" fair dice\")\n",
    "        \n",
    "    \n",
    "def RV_mean_scaled_histogram(V, n, use_unscaled_xticks=True):\n",
    "    \n",
    "    mean = RV_mean(V)\n",
    "\n",
    "    Vals = V.keys()\n",
    "    Scaled_Vals = [1.0 * v / n   for v in V.keys()]\n",
    "    Probs = [n*V[val] for val in Vals]\n",
    "    max_prob = max(Probs + [1])\n",
    "    d = len(Vals)\n",
    "    Left = Vals\n",
    "    Scaled_Left = Scaled_Vals\n",
    "    \n",
    "    ## Plot the histogram\n",
    "    fig = plt.figure()\n",
    "    H = plt.bar(Scaled_Left, Probs, align='center', width=1.0/n)\n",
    "    if not use_unscaled_xticks:\n",
    "        H = plt.xticks(Scaled_Left, Scaled_Vals)\n",
    "    H = plt.ylim((0,max_prob))\n",
    "    if n == 1:\n",
    "        H = plt.title(\"Scaled Probabilities for one fair die\")\n",
    "    else:\n",
    "        H = plt.title(\"Scaled Probabilities for the sum of \" + str(n) + \" fair dice\")"
   ]
  },
  {
   "cell_type": "code",
   "execution_count": null,
   "metadata": {
    "collapsed": true
   },
   "outputs": [],
   "source": []
  }
 ],
 "metadata": {
  "kernelspec": {
   "display_name": "Python 2",
   "language": "python",
   "name": "python2"
  },
  "language_info": {
   "codemirror_mode": {
    "name": "ipython",
    "version": 2
   },
   "file_extension": ".py",
   "mimetype": "text/x-python",
   "name": "python",
   "nbconvert_exporter": "python",
   "pygments_lexer": "ipython2",
   "version": "2.7.12"
  }
 },
 "nbformat": 4,
 "nbformat_minor": 0
}
