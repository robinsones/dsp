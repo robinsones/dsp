{
 "cells": [
  {
   "cell_type": "markdown",
   "metadata": {},
   "source": [
    "# Read in Data"
   ]
  },
  {
   "cell_type": "code",
   "execution_count": 1,
   "metadata": {
    "collapsed": false
   },
   "outputs": [],
   "source": [
    "import pandas as pd\n",
    "import numpy as np\n",
    "df = pd.read_csv('yelp.csv')"
   ]
  },
  {
   "cell_type": "code",
   "execution_count": 2,
   "metadata": {
    "collapsed": false
   },
   "outputs": [
    {
     "data": {
      "text/plain": [
       "4    3526\n",
       "5    3337\n",
       "3    1461\n",
       "2     927\n",
       "1     749\n",
       "Name: stars, dtype: int64"
      ]
     },
     "execution_count": 2,
     "metadata": {},
     "output_type": "execute_result"
    }
   ],
   "source": [
    "df['stars'].value_counts()"
   ]
  },
  {
   "cell_type": "code",
   "execution_count": 3,
   "metadata": {
    "collapsed": false
   },
   "outputs": [],
   "source": [
    "df['labels'] = [0 if i in [1,2] else -1 if i == 3 else 1 for i in df['stars']]"
   ]
  },
  {
   "cell_type": "code",
   "execution_count": 4,
   "metadata": {
    "collapsed": false
   },
   "outputs": [],
   "source": [
    "mask = [False if i == -1 else True for i in df['labels']]"
   ]
  },
  {
   "cell_type": "markdown",
   "metadata": {},
   "source": [
    "# Train Test Split"
   ]
  },
  {
   "cell_type": "code",
   "execution_count": 5,
   "metadata": {
    "collapsed": true
   },
   "outputs": [],
   "source": [
    "from sklearn.cross_validation import train_test_split\n",
    "\n",
    "X_train, X_test, y_train, y_test = train_test_split(df[mask]['text'], df[mask]['labels'])"
   ]
  },
  {
   "cell_type": "code",
   "execution_count": 7,
   "metadata": {
    "collapsed": false
   },
   "outputs": [
    {
     "name": "stdout",
     "output_type": "stream",
     "text": [
      "0.803716427233\n",
      "0.8037470726\n"
     ]
    }
   ],
   "source": [
    "print 1.0*y_train.sum()/len(y_train)\n",
    "print 1.0*y_test.sum()/len(y_test)"
   ]
  },
  {
   "cell_type": "markdown",
   "metadata": {
    "collapsed": false
   },
   "source": [
    "# Features"
   ]
  },
  {
   "cell_type": "code",
   "execution_count": 12,
   "metadata": {
    "collapsed": true
   },
   "outputs": [],
   "source": [
    "from sklearn.decomposition import TruncatedSVD\n",
    "from sklearn.feature_extraction.text import TfidfVectorizer\n",
    "from sklearn.feature_extraction.text import CountVectorizer\n",
    "\n",
    "import numpy as np"
   ]
  },
  {
   "cell_type": "code",
   "execution_count": 13,
   "metadata": {
    "collapsed": false
   },
   "outputs": [],
   "source": [
    "vect = CountVectorizer().fit(np.array(X_train))\n",
    "train = vect.transform(np.array(X_train))\n",
    "test =  vect.transform(np.array(X_test))"
   ]
  },
  {
   "cell_type": "code",
   "execution_count": 15,
   "metadata": {
    "collapsed": false
   },
   "outputs": [
    {
     "data": {
      "text/plain": [
       "TruncatedSVD(algorithm='randomized', n_components=20, n_iter=5,\n",
       "       random_state=42, tol=0.0)"
      ]
     },
     "execution_count": 15,
     "metadata": {},
     "output_type": "execute_result"
    }
   ],
   "source": [
    "svd = TruncatedSVD(n_components=20, random_state=42)\n",
    "svd.fit(train) "
   ]
  },
  {
   "cell_type": "code",
   "execution_count": 16,
   "metadata": {
    "collapsed": true
   },
   "outputs": [],
   "source": [
    "train_svd = svd.transform(train)\n",
    "test_svd = svd.transform(test)"
   ]
  },
  {
   "cell_type": "markdown",
   "metadata": {},
   "source": [
    "# Model"
   ]
  },
  {
   "cell_type": "code",
   "execution_count": 21,
   "metadata": {
    "collapsed": false
   },
   "outputs": [],
   "source": [
    "from sklearn.cross_validation import cross_val_score\n",
    "from sklearn.linear_model import LogisticRegression\n",
    "from sklearn.naive_bayes import MultinomialNB\n",
    "from sklearn.metrics import confusion_matrix"
   ]
  },
  {
   "cell_type": "code",
   "execution_count": 38,
   "metadata": {
    "collapsed": false
   },
   "outputs": [
    {
     "name": "stdout",
     "output_type": "stream",
     "text": [
      "0.884309133489\n"
     ]
    },
    {
     "data": {
      "text/plain": [
       "array([[ 232,  187],\n",
       "       [  60, 1656]])"
      ]
     },
     "execution_count": 38,
     "metadata": {},
     "output_type": "execute_result"
    }
   ],
   "source": [
    "#### Naive Bayes\n",
    "mnb = MultinomialNB()\n",
    "mnb.fit(train, y_train)\n",
    "mnb_pred = mnb.predict(test)\n",
    "\n",
    "print 1.0*sum(mnb_pred == y_test)/len(y_test)\n",
    "confusion_matrix(y_test, mnb_pred)"
   ]
  },
  {
   "cell_type": "code",
   "execution_count": 39,
   "metadata": {
    "collapsed": false
   },
   "outputs": [
    {
     "name": "stdout",
     "output_type": "stream",
     "text": [
      "0.884309133489\n"
     ]
    },
    {
     "data": {
      "text/plain": [
       "array([[ 232,  187],\n",
       "       [  60, 1656]])"
      ]
     },
     "execution_count": 39,
     "metadata": {},
     "output_type": "execute_result"
    }
   ],
   "source": [
    "#### Logistic Regression \n",
    "lr = LogisticRegression()\n",
    "lr.fit(train, y_train)\n",
    "lr_pred = mnb.predict(test)\n",
    "\n",
    "print 1.0*sum(lr_pred == y_test)/len(y_test)\n",
    "confusion_matrix(y_test, lr_pred)"
   ]
  },
  {
   "cell_type": "code",
   "execution_count": 37,
   "metadata": {
    "collapsed": false
   },
   "outputs": [
    {
     "name": "stdout",
     "output_type": "stream",
     "text": [
      "0.826229508197\n"
     ]
    },
    {
     "data": {
      "text/plain": [
       "array([[  90,  329],\n",
       "       [  42, 1674]])"
      ]
     },
     "execution_count": 37,
     "metadata": {},
     "output_type": "execute_result"
    }
   ],
   "source": [
    "### SVD\n",
    "log_svd = LogisticRegression()\n",
    "log_svd.fit(train_svd, y_train)\n",
    "log_svd_pred = log_svd.predict(test_svd)\n",
    "\n",
    "print 1.0*sum(log_svd_pred == y_test)/len(y_test)\n",
    "confusion_matrix(y_test, log_svd_pred)\n"
   ]
  },
  {
   "cell_type": "code",
   "execution_count": 40,
   "metadata": {
    "collapsed": false
   },
   "outputs": [
    {
     "data": {
      "text/plain": [
       "TruncatedSVD(algorithm='randomized', n_components=200, n_iter=5,\n",
       "       random_state=42, tol=0.0)"
      ]
     },
     "execution_count": 40,
     "metadata": {},
     "output_type": "execute_result"
    }
   ],
   "source": [
    "svd_200 = TruncatedSVD(n_components=200, random_state=42)\n",
    "svd_200.fit(train) "
   ]
  },
  {
   "cell_type": "code",
   "execution_count": 41,
   "metadata": {
    "collapsed": true
   },
   "outputs": [],
   "source": [
    "train_svd_200 = svd_200.transform(train)\n",
    "test_svd_200 = svd_200.transform(test)"
   ]
  },
  {
   "cell_type": "code",
   "execution_count": 43,
   "metadata": {
    "collapsed": false
   },
   "outputs": [
    {
     "name": "stdout",
     "output_type": "stream",
     "text": [
      "0.885714285714\n"
     ]
    },
    {
     "data": {
      "text/plain": [
       "array([[ 242,  177],\n",
       "       [  67, 1649]])"
      ]
     },
     "execution_count": 43,
     "metadata": {},
     "output_type": "execute_result"
    }
   ],
   "source": [
    "log_svd_200 = LogisticRegression()\n",
    "log_svd_200.fit(train_svd_200, y_train)\n",
    "log_svd_200_pred = log_svd_200.predict(test_svd_200)\n",
    "\n",
    "print 1.0*sum(log_svd_200_pred == y_test)/len(y_test)\n",
    "confusion_matrix(y_test, log_svd_200_pred)"
   ]
  },
  {
   "cell_type": "code",
   "execution_count": 44,
   "metadata": {
    "collapsed": true
   },
   "outputs": [],
   "source": [
    "#stop words min_df, bigrams\n",
    "vect2 = CountVectorizer(stop_words='english', ngram_range=(1,2) ,min_df=3).fit(np.array(X_train))\n",
    "train2 = vect2.transform(np.array(X_train))\n",
    "test2 =  vect2.transform(np.array(X_test))"
   ]
  },
  {
   "cell_type": "code",
   "execution_count": 45,
   "metadata": {
    "collapsed": false
   },
   "outputs": [
    {
     "data": {
      "text/plain": [
       "TruncatedSVD(algorithm='randomized', n_components=250, n_iter=5,\n",
       "       random_state=42, tol=0.0)"
      ]
     },
     "execution_count": 45,
     "metadata": {},
     "output_type": "execute_result"
    }
   ],
   "source": [
    "svd_200 = TruncatedSVD(n_components=250, random_state=42)\n",
    "svd_200.fit(train2) "
   ]
  },
  {
   "cell_type": "code",
   "execution_count": 46,
   "metadata": {
    "collapsed": true
   },
   "outputs": [],
   "source": [
    "train_svd_200 = svd_200.transform(train2)\n",
    "test_svd_200 = svd_200.transform(test2)"
   ]
  },
  {
   "cell_type": "code",
   "execution_count": 47,
   "metadata": {
    "collapsed": false
   },
   "outputs": [
    {
     "name": "stdout",
     "output_type": "stream",
     "text": [
      "0.88149882904\n"
     ]
    },
    {
     "data": {
      "text/plain": [
       "array([[ 242,  177],\n",
       "       [  76, 1640]])"
      ]
     },
     "execution_count": 47,
     "metadata": {},
     "output_type": "execute_result"
    }
   ],
   "source": [
    "log_svd_200 = LogisticRegression()\n",
    "log_svd_200.fit(train_svd_200, y_train)\n",
    "log_svd_200_pred = log_svd_200.predict(test_svd_200)\n",
    "\n",
    "print 1.0*sum(log_svd_200_pred == y_test)/len(y_test)\n",
    "confusion_matrix(y_test, log_svd_200_pred)"
   ]
  },
  {
   "cell_type": "markdown",
   "metadata": {},
   "source": [
    "# Game"
   ]
  },
  {
   "cell_type": "markdown",
   "metadata": {},
   "source": [
    "\n",
    "**Analytical Solution**\n",
    "For a board of length M, we need to move forward M times. And the rest of the moves are stays. We will have N-M of those.\n",
    "\n",
    "So we can view this as a combination. Of the N moves, we have to pick M to the forwards. So that's N-Combination-M, which is **N!/(M!(N-M)!)**\n",
    "\n",
    "It can also be viewed as a permutation of N moves, where M are of type F and (N-M) of stays. So it's permutations with repetitions: N!/(M!(N-M)!). Which is the same thing as before."
   ]
  },
  {
   "cell_type": "code",
   "execution_count": 48,
   "metadata": {
    "collapsed": true
   },
   "outputs": [],
   "source": [
    "import numpy as np\n",
    "def fac(n):\n",
    "    return np.prod(range(1,n+1))"
   ]
  },
  {
   "cell_type": "code",
   "execution_count": 49,
   "metadata": {
    "collapsed": true
   },
   "outputs": [],
   "source": [
    "def ways(n,m):\n",
    "    return fac(n)/(fac(n-m)*fac(m))"
   ]
  },
  {
   "cell_type": "code",
   "execution_count": 50,
   "metadata": {
    "collapsed": false
   },
   "outputs": [
    {
     "data": {
      "text/plain": [
       "56"
      ]
     },
     "execution_count": 50,
     "metadata": {},
     "output_type": "execute_result"
    }
   ],
   "source": [
    "ways(8,5)"
   ]
  },
  {
   "cell_type": "markdown",
   "metadata": {},
   "source": [
    "### Recursion"
   ]
  },
  {
   "cell_type": "markdown",
   "metadata": {},
   "source": [
    "\n",
    "For recursion, we just have to figure out the first step. In this case, we can either stay or go. If we stay, we have N-1 moves and M positions. If we go forward, we have N-1 moves and M-1 postions. The total solutions is the sum of the two options. So we'll just sum them up.\n",
    "For every recursion problem, the steps we take are the same 3.\n",
    "* What is the first step (in this case: go forward or stay)\n",
    "* How do we combine the pieces (in this case: sum the two cases)\n",
    "* What are the end conditions (in this case: if M>N then 0, if M=1 then N)\n",
    "\n",
    "If M=1 then N or If M=N then 1."
   ]
  },
  {
   "cell_type": "code",
   "execution_count": 51,
   "metadata": {
    "collapsed": true
   },
   "outputs": [],
   "source": [
    "def ways2(n,m):\n",
    "    if n<m or m<0:\n",
    "        return 0\n",
    "    elif n==m:\n",
    "        return 1\n",
    "    else:\n",
    "        return ways2(n-1,m)+ways2(n-1,m-1)"
   ]
  },
  {
   "cell_type": "code",
   "execution_count": 53,
   "metadata": {
    "collapsed": false
   },
   "outputs": [
    {
     "data": {
      "text/plain": [
       "56"
      ]
     },
     "execution_count": 53,
     "metadata": {},
     "output_type": "execute_result"
    }
   ],
   "source": [
    "ways2(8,5)"
   ]
  },
  {
   "cell_type": "code",
   "execution_count": null,
   "metadata": {
    "collapsed": true
   },
   "outputs": [],
   "source": []
  }
 ],
 "metadata": {
  "kernelspec": {
   "display_name": "Python 2",
   "language": "python",
   "name": "python2"
  },
  "language_info": {
   "codemirror_mode": {
    "name": "ipython",
    "version": 2
   },
   "file_extension": ".py",
   "mimetype": "text/x-python",
   "name": "python",
   "nbconvert_exporter": "python",
   "pygments_lexer": "ipython2",
   "version": "2.7.12"
  }
 },
 "nbformat": 4,
 "nbformat_minor": 0
}
