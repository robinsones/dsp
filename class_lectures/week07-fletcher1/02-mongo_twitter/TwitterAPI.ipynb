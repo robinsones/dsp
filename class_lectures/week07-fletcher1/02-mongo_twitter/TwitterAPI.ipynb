{
 "cells": [
  {
   "cell_type": "markdown",
   "metadata": {},
   "source": [
    "# Twitter API"
   ]
  },
  {
   "cell_type": "markdown",
   "metadata": {},
   "source": [
    "## Lecture Notes"
   ]
  },
  {
   "cell_type": "markdown",
   "metadata": {},
   "source": [
    "#####Why Twitter ?\n",
    "\n",
    "\n",
    "\"While physics and math may tell us how the universe began, they are not much use in predicting Human Behavior because there are far too many Equations to Solve\" \n",
    "    \n",
    "    -Stephan Hawking\n",
    "    "
   ]
  },
  {
   "cell_type": "markdown",
   "metadata": {},
   "source": [
    "#### Rest API vs Streaming API: \n",
    "\n",
    "\n",
    "REST:  \n",
    "    - Query user accounts using OAuth\n",
    "    - Allows you to access 'historical' tweets\n",
    "\n",
    "STREAM: \n",
    "    - Essentially long-running request (left Open) using OAuth\n",
    "    - Access realtime stream of data\n",
    "       "
   ]
  },
  {
   "cell_type": "markdown",
   "metadata": {},
   "source": [
    "#### Rest API"
   ]
  },
  {
   "cell_type": "code",
   "execution_count": 1,
   "metadata": {
    "collapsed": false
   },
   "outputs": [],
   "source": [
    "# pip install requests_oauthlib\n",
    "import requests\n",
    "from requests_oauthlib import OAuth1\n",
    "\n",
    "#OAuth ~ simple way to to publish & interact with data"
   ]
  },
  {
   "cell_type": "code",
   "execution_count": 4,
   "metadata": {
    "collapsed": false
   },
   "outputs": [],
   "source": [
    "# Importing our Config\n",
    "#pip install cnfg   ##  Create a config file in your home directory \n",
    "\n",
    "import cnfg\n",
    "config = cnfg.load(\".twitter_config\")\n",
    "\n",
    "oauth = OAuth1(config[\"consumer_key\"],\n",
    "               config[\"consumer_secret\"],\n",
    "               config[\"access_token\"],\n",
    "               config[\"access_token_secret\"])"
   ]
  },
  {
   "cell_type": "code",
   "execution_count": 5,
   "metadata": {
    "collapsed": false
   },
   "outputs": [
    {
     "name": "stdout",
     "output_type": "stream",
     "text": [
      "contributors\n",
      "truncated\n",
      "text\n",
      "is_quote_status\n",
      "in_reply_to_status_id\n",
      "id\n",
      "favorite_count\n",
      "source\n",
      "retweeted\n",
      "coordinates\n",
      "entities\n",
      "in_reply_to_screen_name\n",
      "in_reply_to_user_id\n",
      "retweet_count\n",
      "id_str\n",
      "favorited\n",
      "user\n",
      "geo\n",
      "in_reply_to_user_id_str\n",
      "possibly_sensitive\n",
      "lang\n",
      "created_at\n",
      "in_reply_to_status_id_str\n",
      "place\n"
     ]
    }
   ],
   "source": [
    "# ?? this is an instance \n",
    "\n",
    "response = requests.get(\"https://api.twitter.com/1.1/statuses/user_timeline.json\",\n",
    "                        auth=oauth)\n",
    "tweets = response.json()\n",
    "\n",
    "for key in tweets[0].keys():\n",
    "    print key\n",
    "    "
   ]
  },
  {
   "cell_type": "code",
   "execution_count": null,
   "metadata": {
    "collapsed": false
   },
   "outputs": [],
   "source": [
    "for tweet in tweets:\n",
    "    print tweet['text']\n",
    "    print"
   ]
  },
  {
   "cell_type": "code",
   "execution_count": 17,
   "metadata": {
    "collapsed": false
   },
   "outputs": [
    {
     "name": "stdout",
     "output_type": "stream",
     "text": [
      "{u'completed_in': 0.092,\n",
      " u'count': 40,\n",
      " u'max_id': 762993388878725120,\n",
      " u'max_id_str': u'762993388878725120',\n",
      " u'next_results': u'?max_id=762993375037489151&q=rio&count=40&include_entities=1',\n",
      " u'query': u'rio',\n",
      " u'refresh_url': u'?since_id=762993388878725120&q=rio&include_entities=1',\n",
      " u'since_id': 0,\n",
      " u'since_id_str': u'0'}\n"
     ]
    }
   ],
   "source": [
    "parameters = {\"q\": [\"rio\", \"olympics\"], \"count\":40}\n",
    "response = requests.get(\"https://api.twitter.com/1.1/search/tweets.json\",\n",
    "                        params = parameters,\n",
    "                        auth=oauth)\n",
    "\n",
    "from pprint import pprint\n",
    "pprint(response.json()['search_metadata'])"
   ]
  },
  {
   "cell_type": "code",
   "execution_count": 18,
   "metadata": {
    "collapsed": false
   },
   "outputs": [
    {
     "name": "stdout",
     "output_type": "stream",
     "text": [
      "PAGE 1\n",
      "762993388878725120 RT @MeridianoTV: #Rio2016 || Silvio Fernández cae en la primera ronda de espada individual https://t.co/D9LWL3DpMS https://t.co/fmOfVjvcgD\n",
      "\n",
      "762993387850969088 Odette Giuffrida argento a Rio: “Ragazze, avvicinatevi al judo” https://t.co/j1jtcPuyYn\n",
      "\n",
      "762993387230199808 15 Names To Watch In Rio. Who's your favorite? 📷: @haffeyphoto / @GettyImages https://t.co/9mpPEe9kip https://t.co/y30mmqbS7c\n",
      "\n",
      "762993387003908096 #Chile lo que se llama literalmente dar la cacha en @JJOO_Rio_2016 #JJOOenTVN\n",
      "\n",
      "762993386878038016 RT @MeridianoTV: #VenezolanosEnRio||Francisco Limardo supera primera ronda en espada individual|| #Esgrima https://t.co/tMVeckD8oX https://…\n",
      "\n",
      "762993386278178817 En Río 2016, el golf y el rugby volvieron a formar parte del programa olímpico https://t.co/EZIFzRL5xi https://t.co/gcsgSs2dgv\n",
      "\n",
      "762993385917386752 @takeshi_worst 久しぶりにつけまつげつけたら、目のインパクトが・・🙀笑\n",
      "\n",
      "762993384852115457 RT @ayaya_dean: 凄い✨✨Rioバージョンのドラえもんとピカチュウ⚡️⚡️だ👀👀\n",
      "@DeanFujioka https://t.co/4soSOCtri9\n",
      "\n",
      "762993384478957568 RT @beckywaite_: These women are amazing athletes, and they're still getting judged on what they're wearing @EverydaySexism \n",
      "\n",
      "https://t.co/…\n",
      "\n",
      "762993384323559424 Lilly King Beats Yulia Efimova in Olympic Grudge Race: It was one of the most anticipated swimming races of the Rio… https://t.co/2mGh8jmX9w\n",
      "\n",
      "762993383828664320 Five things to watch on Tuesday at the Olympics https://t.co/4dlvQHdXWo\n",
      "\n",
      "762993383753195520 RT @outsports: The 1st Olympic marriage proposal in #Rio2016 is between this rugby player &amp; her girlfriend https://t.co/U8rRwOJ1so https://…\n",
      "\n",
      "762993383438749696 #JudoRio2016 #Olimpiadi #Rio2016\n",
      "#Gwend e #Marconcini saranno impegnati subito per i loro primi incontri: seguite... https://t.co/Jkk1TWgO1R\n",
      "\n",
      "762993383279239168 Ini Make-Up Terbaik Tim Amerika di Olimpiade Rio 2016\n",
      "\n",
      "762993383014961152 En Río 2016, el golf y el rugby volvieron a formar parte del programa olímpico https://t.co/iTNFzl98vc\n",
      "\n",
      "762993382696292353 Jason Gay: Mara Abbott’s beautiful ride through Rio https://t.co/fQIb0prrJO via @WSJ\n",
      "\n",
      "762993382591438849 RT @CNNEE: Polémica en Río: nadador australiano llama \"tramposo que se dopa\" a un rival chino https://t.co/mm3laebYJp\n",
      "\n",
      "762993381748252673 \"club RIOの今夜は寝かさナイト！\n",
      "【ホスト未公開動画】\n",
      "\n",
      "club RIO\n",
      "TEL:03-3204-7150\n",
      "※過去放送はコチラから→https://t.co/DhnpAO350o\" https://t.co/5oK0ffk1tb\n",
      "\n",
      "762993381714735104 Ini Make-Up Terbaik Tim Amerika di Olimpiade Rio 2016: Pembukaan ajang Olimpiade Rio 2016 telah berlangsung s... https://t.co/vtvtCGMy4E\n",
      "\n",
      "762993381526102016 \"Hay mucho turismo. También observo los contrastes sociales de Río. Es emocionante ver ésto y acompañar a nuestros atletas\", dice Cerain.\n",
      "\n",
      "762993381463232512 Skiffeur Hannes Obreno met derde tijd naar halve finale in Rio https://t.co/HWhNgfHG77\n",
      "\n",
      "762993381270257664 RT @LadyGhostVzla: Los ojos de Chiabe que Alejandra Benítez llevó a Río le dieron más pava que el carajo #MeMeo 😂😂😂😂😂 https://t.co/SCTfBeDj…\n",
      "\n",
      "762993381094064128 Gostei de um vídeo @YouTube de @Mardecupons https://t.co/MLH6qtHKaE Rio 2016 é ouro (Created with @Magisto)\n",
      "\n",
      "762993380674723840 Gimnasta Ariana Orrego mostró cómo quedaron sus manos en #Rio2016 ►  https://t.co/boWXI9uGqq https://t.co/2FSPNdfwhY\n",
      "\n",
      "762993380498542592 Finalmente amanhã vou para o rio\n",
      "\n",
      "762993379567206401 #RBR - Criança de nove anos morre ao tentar capturar pokémons em rio https://t.co/UAe4N4Icwt\n",
      "\n",
      "762993379454033920 Alessandra Ambrósio deu show de antipatia em festa no Rio de Janeiro, diz jornal: \n",
      "\n",
      "... https://t.co/qtyHZyP0dr\n",
      "\n",
      "762993379206500354 RT @avengeiras: DOCTOR STRANGE Official Trailer #3 - Rio Olympics (2016) Benedict Cumber... https://t.co/s8woAIcdDA\n",
      "\n",
      "762993378350866433 Good morning Rio! #morning #riodejaneiro https://t.co/o6lpnpfosn\n",
      "\n",
      "762993377914658817 Francisco Limardo ganó su primer combate en Río 2016 https://t.co/BrKJNTTulp https://t.co/g40Z1ueIfg\n",
      "\n",
      "762993377705164800 Stars&gt;Rio 2016: Camille Lacourt jette un pavé dans la mare&gt;Cinquiè =&gt; https://t.co/p9vVMAxkkU #star https://t.co/3u0j6rNwVi\n",
      "\n",
      "762993377570721792 En Río 2016, el golf y el rugby volvieron a formar parte del programa olímpico https://t.co/uXvKi8vTe8\n",
      "\n",
      "762993377558171649 @Fate_hidamari よろしくね～\n",
      "\n",
      "762993377453367297 Angelito Trailhead, Luquillo / Rio Grande - https://t.co/sNpR4QU7QB https://t.co/3YhXK5BJ0J\n",
      "\n",
      "762993377239597057 RT @tomseyms: The fairytale comeback for William Fox-Pitt looks to have disappeared ahead of third day of eventing #Rio2016 https://t.co/fU…\n",
      "\n",
      "762993376803360768 https://t.co/28wEBe1Wny – 5. DEN OH: Drysdale ve skifu předčil Synka. Sáblíková v Riu nebude - iDNES.cz https://t.co/sivSEzct9y\n",
      "\n",
      "762993376501243904 Social media have some fun with Michael Phelps' death stare - Los Angeles Times https://t.co/73Q3lclEKU https://t.co/pw5t8PkGdK\n",
      "\n",
      "762993375670788097 Francisco Limardo ganó su primer combate en Río 2016 https://t.co/YEjw27mn1n https://t.co/1ASgYmzu6x\n",
      "\n",
      "762993375280762880 RT @FastSlon: Россия24 почитала нашу историю про Майкла Фелпса и банки на спине... и объявила это ДОПИНГОМ\n",
      "https://t.co/AjBqPBKcOH https://…\n",
      "\n",
      "762993375037489152 NOTA: Kenia Lechuga se mete a semifinales de #Remo corto en #Rio2016 #LaAficiónEnRío https://t.co/9OzqJhqynB https://t.co/HL8k06Z7VK\n",
      "\n"
     ]
    }
   ],
   "source": [
    "tweets = response.json()['statuses']\n",
    "\n",
    "print 'PAGE 1'\n",
    "for tweet in tweets:\n",
    "    print tweet['id'], tweet['text']\n",
    "    print"
   ]
  },
  {
   "cell_type": "code",
   "execution_count": 19,
   "metadata": {
    "collapsed": false
   },
   "outputs": [
    {
     "name": "stdout",
     "output_type": "stream",
     "text": [
      "PAGE 2\n",
      "RT @TeamGB: ICYMI: Relive #TeamGB moment of day 3 in our live blog @TomDaley1994 &amp; @danngoodfellow's \n",
      "\n",
      "https://t.co/JeDB5Uv2MM https://t.co…\n",
      "\n",
      "RT @shoutarotttt: お待たせしました！ホシクイのゲームアプリついに登場！\n",
      "今すぐホシクイたちと星を集める旅へレッツゴー！✨✨👿\n",
      "\n",
      "https://t.co/nDVTVAQdcd https://t.co/sosr4x6Esk\n",
      "\n",
      "#LaAficionEnRío: Los ‘Plan B’ de la selección #Rio2016\n",
      "https://t.co/5dv2CnoUmJ https://t.co/awdr9ObpK0\n",
      "\n",
      "Encontrado corpo de homem que desapareceuem rio, no Noroeste do RS https://t.co/P4l5WhjabS\n",
      "\n",
      "RT @iexplore: What to eat in #Rio (and how to burn off the calories afterward) https://t.co/qwp20yF3Vn https://t.co/Hjf10rYCDt\n",
      "\n",
      "RT @CHANBAEKUNION: Chanyeol Lucky One phonecase seen on Rio Olympics news.\n",
      "(cr on pic) https://t.co/M51Ej1mOCS\n",
      "\n",
      "bukas na ehh, kaso naurong dahil sa rio olympics hahahaha\n",
      "\n",
      "RT @Ireenw: Kan iemand zeggen of @AvVleuten oke is? Wat een crash!! Holy moly! #rio\n",
      "\n",
      "#LaAficiónEnRío: MichaelPhelps clasifica a la Final de 200 metros mariposa https://t.co/TE9NjmM1Ut https://t.co/hsDx8kdhBZ\n",
      "\n",
      "RT @Kantar_Media: New data from @KMUKSocialTV shows how UK TV audiences are engaging with #Rio2016 on Twitter https://t.co/ZFAX2RTSCw https…\n",
      "\n",
      "@MSMN_rio \n",
      "やんなー。ふーい。\n",
      "まじでとみたんにだけツンな感じ可愛いでーす。はーい。\n",
      "\n",
      "Driving to Rio de Janeiro, sharing real-time road info with wazers in my area. ETA 9:39 AM using @waze - Drive Social.\n",
      "\n",
      "How I feel Watchin’ the Americans in Rio. Merica. https://t.co/AqpiCWsFA4 by @Psolemn via @c0nvey\n",
      "\n",
      "@Rio_Nakanishi_ がんばれ〜💪🏻😘✨\n",
      "\n",
      "RT @ColGritaGol: #EnRioSomosTodos Óscar Figueroa 🏅 pide un Centro de Alto Rendimiento para deportistas https://t.co/eRjbDI3jox https://t.co…\n",
      "\n",
      "Blame it on Rio: Summer #Olympics ratings sag #Rio2016 https://t.co/PoQz9gePQ2 https://t.co/ysAe0Ix5BW\n",
      "\n",
      "Doping reacende “guerra fria” nas piscinas do Rio de Janeiro https://t.co/Y44PJo8BhN https://t.co/Da5ZOQFVzc\n",
      "\n",
      "Ritual yang Dilakukan 6 Atlet Jelang Tampil di Olimpiade: \n",
      "          Bisa tampil dalam Olimpiade di Rio de Ja... https://t.co/S0daQmuBKf\n",
      "\n",
      "RT @victorcaparica: Duas crianças de 9 anos, sem nenhum adulto por perto, com um barco à disposição e ao lado de um rio. E tinha o Pokémon…\n",
      "\n",
      "RT @Actualites_FOOT: Quand une caricature datant de la Coupe du Monde 2014 devient réalité avec les JO de Rio... 🇧🇷 https://t.co/JtyeScY2Z5\n",
      "\n",
      "RT @outsports: The 1st Olympic marriage proposal in #Rio2016 is between this rugby player &amp; her girlfriend https://t.co/U8rRwOJ1so https://…\n",
      "\n",
      "It's all in the wrist: Apple's tactic for a little #Olympic Games glory: https://t.co/OSCvYZ2mA2 https://t.co/TnzqsxOrVS\n",
      "\n",
      "RT @CauseWereGuys: How I feel Watchin’ the Americans in Rio. Merica. https://t.co/yo5uqOaxux\n",
      "\n",
      "@rio___ura んー！今日の髪型のりいいわ〜とか？？\n",
      "可愛い可愛いめっちゃかわいいパリコレ？でれるんちゃう\n",
      "\n",
      "Volgens @NOSsport is dit de 4e rustdag. Als zij niet live uitzenden gebeurt er op dat moment NIETS in Rio! https://t.co/TyMLIWVxpD\n",
      "\n",
      "RT @Independent: Olympic volleyball player capturing global attention for her hijab speaks out  https://t.co/NbHoKgI0Y5 https://t.co/yKDVgh…\n",
      "\n",
      "RT @B3zero: 🇧🇷 Filmée en mars, cette vidéo sur les voleurs de rue de #Rio devient virale avec le début des #JO2016 https://t.co/04mHbTz4mh\n",
      "\n",
      "RT @habibthink: Kuliah di lahan sengketa, kasihan para mahasiswa.\n",
      "\n",
      "#Anonymous starts hacking Brazilian government websites as the protests in #Rio intensify https://t.co/ByXq6WY9qY https://t.co/8eyWVLQo8d\n",
      "\n",
      "Rematch in Rio: Phelps, Le Clos face off in 200 fly https://t.co/iYdEYXWs3R\n",
      "\n",
      "#RIO2016 Day 4: Dattu will compete in men's singles sculls semi-final C/D for classification.Out of medal contention https://t.co/ciEwdOAWK8\n",
      "\n",
      "Rio will be Usain Bolt's final Olympic games 'for sure' \n",
      " https://t.co/dOsD1rDNtx by @TIME via @c0nvey\n",
      "\n",
      "Of the 23 Finn sailors in Rio, seven will today sail their first Olympic races. Racing starts 13.05 local time.... https://t.co/hWnuty9Vnp\n",
      "\n",
      "山田が欠場した理由が田原の死球らしいゾ\n",
      "\n",
      "RT @ATPWorldTour: .@keinishikori survives scare; @delpotrojuan backs up #Djokovic W at #Rio2016  #tennis More: https://t.co/8nfC5F9vmn http…\n",
      "\n",
      "RT @baltimoresun: Michael Phelps meant business last night in Rio. Introducing #PhelpsFace. https://t.co/f3NlpkpI1d https://t.co/pyxYjCnTG8\n",
      "\n",
      "Bom dia gauchada do Rio Grande, terça feira é igual a meia canha todo mundo gosta mas ninguém quer falar verso...\n",
      "\n",
      "RT @CauseWereGuys: How I feel Watchin’ the Americans in Rio. Merica. https://t.co/yo5uqOaxux\n",
      "\n",
      "RT @boomlive_in: Dipa Karmakar to become 1st Indian #woman in Olympics #history to participate in #gymnastic events. Watch: https://t.co/yD…\n",
      "\n"
     ]
    }
   ],
   "source": [
    "search_url = \"https://api.twitter.com/1.1/search/tweets.json\"\n",
    "next_page_url = search_url + response.json()['search_metadata']['next_results']\n",
    "\n",
    "response = requests.get(next_page_url, auth=oauth)\n",
    "\n",
    "print 'PAGE 2'\n",
    "for tweet in response.json()['statuses']:\n",
    "    print tweet['text']\n",
    "    print"
   ]
  },
  {
   "cell_type": "markdown",
   "metadata": {
    "collapsed": false
   },
   "source": [
    "#### STREAMING API ~ TWEEPY"
   ]
  },
  {
   "cell_type": "code",
   "execution_count": 21,
   "metadata": {
    "collapsed": false
   },
   "outputs": [],
   "source": [
    "# pip install tweepy\n",
    "import tweepy\n",
    "import pandas as pd\n",
    "\n",
    "auth = tweepy.OAuthHandler(config[\"consumer_key\"],\n",
    "                           config[\"consumer_secret\"])\n",
    "auth.set_access_token(config[\"access_token\"],\n",
    "                      config[\"access_token_secret\"])\n",
    "\n",
    "api=tweepy.API(auth)"
   ]
  },
  {
   "cell_type": "code",
   "execution_count": 43,
   "metadata": {
    "collapsed": false
   },
   "outputs": [
    {
     "name": "stdout",
     "output_type": "stream",
     "text": [
      "Status(contributors=None, truncated=False, text=u\"RT @ABC: Sen. Susan Collins joins list of prominent Republicans who won't be supporting Donald Trump. https://t.co/dLRgLjkKLL https://t.co/\\u2026\", is_quote_status=False, in_reply_to_status_id=None, id=762995517857071104, favorite_count=0, _api=<tweepy.api.API object at 0x10943d050>, author=User(follow_request_sent=False, has_extended_profile=False, profile_use_background_image=True, _json={u'follow_request_sent': False, u'has_extended_profile': False, u'profile_use_background_image': True, u'default_profile_image': False, u'id': 32405178, u'profile_background_image_url_https': u'https://pbs.twimg.com/profile_background_images/671843364447342592/uwnj0S7E.jpg', u'verified': True, u'profile_text_color': u'333333', u'profile_image_url_https': u'https://pbs.twimg.com/profile_images/479747609406365696/eimq6qTZ_normal.jpeg', u'profile_sidebar_fill_color': u'DDEEF6', u'entities': {u'url': {u'urls': [{u'url': u'http://t.co/yMpam6EjYh', u'indices': [0, 22], u'expanded_url': u'http://abc7.com', u'display_url': u'abc7.com'}]}, u'description': {u'urls': []}}, u'followers_count': 5962, u'profile_sidebar_border_color': u'FFFFFF', u'id_str': u'32405178', u'profile_background_color': u'044CC1', u'listed_count': 91, u'is_translation_enabled': False, u'utc_offset': -25200, u'statuses_count': 9399, u'description': u'@abc7 Eyewitness News Anchor', u'friends_count': 597, u'location': u'Los Angeles, CA', u'profile_link_color': u'044CC1', u'profile_image_url': u'http://pbs.twimg.com/profile_images/479747609406365696/eimq6qTZ_normal.jpeg', u'following': False, u'geo_enabled': False, u'profile_banner_url': u'https://pbs.twimg.com/profile_banners/32405178/1403215709', u'profile_background_image_url': u'http://pbs.twimg.com/profile_background_images/671843364447342592/uwnj0S7E.jpg', u'screen_name': u'abc7phillip', u'lang': u'en', u'profile_background_tile': False, u'favourites_count': 3226, u'name': u'Phillip Palmer', u'notifications': False, u'url': u'http://t.co/yMpam6EjYh', u'created_at': u'Fri Apr 17 13:33:36 +0000 2009', u'contributors_enabled': False, u'time_zone': u'Pacific Time (US & Canada)', u'protected': False, u'default_profile': False, u'is_translator': False}, time_zone=u'Pacific Time (US & Canada)', id=32405178, _api=<tweepy.api.API object at 0x10943d050>, verified=True, profile_text_color=u'333333', profile_image_url_https=u'https://pbs.twimg.com/profile_images/479747609406365696/eimq6qTZ_normal.jpeg', profile_sidebar_fill_color=u'DDEEF6', is_translator=False, geo_enabled=False, entities={u'url': {u'urls': [{u'url': u'http://t.co/yMpam6EjYh', u'indices': [0, 22], u'expanded_url': u'http://abc7.com', u'display_url': u'abc7.com'}]}, u'description': {u'urls': []}}, followers_count=5962, protected=False, id_str=u'32405178', default_profile_image=False, listed_count=91, lang=u'en', utc_offset=-25200, statuses_count=9399, description=u'@abc7 Eyewitness News Anchor', friends_count=597, profile_link_color=u'044CC1', profile_image_url=u'http://pbs.twimg.com/profile_images/479747609406365696/eimq6qTZ_normal.jpeg', notifications=False, profile_background_image_url_https=u'https://pbs.twimg.com/profile_background_images/671843364447342592/uwnj0S7E.jpg', profile_background_color=u'044CC1', profile_banner_url=u'https://pbs.twimg.com/profile_banners/32405178/1403215709', profile_background_image_url=u'http://pbs.twimg.com/profile_background_images/671843364447342592/uwnj0S7E.jpg', name=u'Phillip Palmer', is_translation_enabled=False, profile_background_tile=False, favourites_count=3226, screen_name=u'abc7phillip', url=u'http://t.co/yMpam6EjYh', created_at=datetime.datetime(2009, 4, 17, 13, 33, 36), contributors_enabled=False, location=u'Los Angeles, CA', profile_sidebar_border_color=u'FFFFFF', default_profile=False, following=False), _json={u'contributors': None, u'truncated': False, u'text': u\"RT @ABC: Sen. Susan Collins joins list of prominent Republicans who won't be supporting Donald Trump. https://t.co/dLRgLjkKLL https://t.co/\\u2026\", u'is_quote_status': False, u'in_reply_to_status_id': None, u'id': 762995517857071104, u'favorite_count': 0, u'entities': {u'symbols': [], u'user_mentions': [{u'id': 28785486, u'indices': [3, 7], u'id_str': u'28785486', u'screen_name': u'ABC', u'name': u'ABC News'}], u'hashtags': [], u'urls': [{u'url': u'https://t.co/dLRgLjkKLL', u'indices': [102, 125], u'expanded_url': u'http://abcn.ws/2aNRW2t', u'display_url': u'abcn.ws/2aNRW2t'}], u'media': [{u'source_user_id': 28785486, u'source_status_id_str': u'762995413255421953', u'expanded_url': u'http://twitter.com/ABC/status/762995413255421953/photo/1', u'display_url': u'pic.twitter.com/j5DIQgl6m0', u'url': u'https://t.co/j5DIQgl6m0', u'media_url_https': u'https://pbs.twimg.com/media/Cpa0SJNWgAEOP_R.jpg', u'source_user_id_str': u'28785486', u'source_status_id': 762995413255421953, u'id_str': u'762995410688442369', u'sizes': {u'large': {u'h': 671, u'resize': u'fit', u'w': 1199}, u'small': {u'h': 381, u'resize': u'fit', u'w': 680}, u'medium': {u'h': 671, u'resize': u'fit', u'w': 1199}, u'thumb': {u'h': 150, u'resize': u'crop', u'w': 150}}, u'indices': [126, 140], u'type': u'photo', u'id': 762995410688442369, u'media_url': u'http://pbs.twimg.com/media/Cpa0SJNWgAEOP_R.jpg'}]}, u'retweeted': False, u'coordinates': None, u'source': u'<a href=\"http://twitter.com\" rel=\"nofollow\">Twitter Web Client</a>', u'in_reply_to_screen_name': None, u'in_reply_to_user_id': None, u'retweet_count': 7, u'id_str': u'762995517857071104', u'favorited': False, u'retweeted_status': {u'contributors': None, u'truncated': False, u'text': u\"Sen. Susan Collins joins list of prominent Republicans who won't be supporting Donald Trump. https://t.co/dLRgLjkKLL https://t.co/j5DIQgl6m0\", u'is_quote_status': False, u'in_reply_to_status_id': None, u'id': 762995413255421953, u'favorite_count': 7, u'entities': {u'symbols': [], u'user_mentions': [], u'hashtags': [], u'urls': [{u'url': u'https://t.co/dLRgLjkKLL', u'indices': [93, 116], u'expanded_url': u'http://abcn.ws/2aNRW2t', u'display_url': u'abcn.ws/2aNRW2t'}], u'media': [{u'expanded_url': u'http://twitter.com/ABC/status/762995413255421953/photo/1', u'display_url': u'pic.twitter.com/j5DIQgl6m0', u'url': u'https://t.co/j5DIQgl6m0', u'media_url_https': u'https://pbs.twimg.com/media/Cpa0SJNWgAEOP_R.jpg', u'id_str': u'762995410688442369', u'sizes': {u'large': {u'h': 671, u'resize': u'fit', u'w': 1199}, u'small': {u'h': 381, u'resize': u'fit', u'w': 680}, u'medium': {u'h': 671, u'resize': u'fit', u'w': 1199}, u'thumb': {u'h': 150, u'resize': u'crop', u'w': 150}}, u'indices': [117, 140], u'type': u'photo', u'id': 762995410688442369, u'media_url': u'http://pbs.twimg.com/media/Cpa0SJNWgAEOP_R.jpg'}]}, u'retweeted': False, u'coordinates': None, u'source': u'<a href=\"http://www.socialflow.com\" rel=\"nofollow\">SocialFlow</a>', u'in_reply_to_screen_name': None, u'in_reply_to_user_id': None, u'retweet_count': 7, u'id_str': u'762995413255421953', u'favorited': False, u'user': {u'follow_request_sent': False, u'has_extended_profile': False, u'profile_use_background_image': True, u'default_profile_image': False, u'id': 28785486, u'profile_background_image_url_https': u'https://pbs.twimg.com/profile_background_images/441965491024719872/pAv-lzCZ.jpeg', u'verified': True, u'profile_text_color': u'333333', u'profile_image_url_https': u'https://pbs.twimg.com/profile_images/658688193651277824/Kv_cNNub_normal.png', u'profile_sidebar_fill_color': u'DDEEF6', u'entities': {u'url': {u'urls': [{u'url': u'https://t.co/v7GWW7ho1l', u'indices': [0, 23], u'expanded_url': u'http://ABCNews.com', u'display_url': u'ABCNews.com'}]}, u'description': {u'urls': [{u'url': u'https://t.co/ewMNZ54axm', u'indices': [59, 82], u'expanded_url': u'https://www.facebook.com/abcnews', u'display_url': u'facebook.com/abcnews'}]}}, u'followers_count': 7023303, u'profile_sidebar_border_color': u'FFFFFF', u'id_str': u'28785486', u'profile_background_color': u'6E8EB5', u'listed_count': 43822, u'is_translation_enabled': True, u'utc_offset': -14400, u'statuses_count': 139159, u'description': u'See the whole picture with @ABC News. Join us on Facebook: https://t.co/ewMNZ54axm', u'friends_count': 827, u'location': u'New York City / Worldwide', u'profile_link_color': u'336699', u'profile_image_url': u'http://pbs.twimg.com/profile_images/658688193651277824/Kv_cNNub_normal.png', u'following': False, u'geo_enabled': True, u'profile_banner_url': u'https://pbs.twimg.com/profile_banners/28785486/1468943694', u'profile_background_image_url': u'http://pbs.twimg.com/profile_background_images/441965491024719872/pAv-lzCZ.jpeg', u'screen_name': u'ABC', u'lang': u'en', u'profile_background_tile': False, u'favourites_count': 516, u'name': u'ABC News', u'notifications': False, u'url': u'https://t.co/v7GWW7ho1l', u'created_at': u'Sat Apr 04 12:40:32 +0000 2009', u'contributors_enabled': False, u'time_zone': u'Eastern Time (US & Canada)', u'protected': False, u'default_profile': False, u'is_translator': False}, u'geo': None, u'in_reply_to_user_id_str': None, u'possibly_sensitive': False, u'lang': u'en', u'created_at': u'Tue Aug 09 12:54:16 +0000 2016', u'in_reply_to_status_id_str': None, u'place': None, u'extended_entities': {u'media': [{u'expanded_url': u'http://twitter.com/ABC/status/762995413255421953/photo/1', u'display_url': u'pic.twitter.com/j5DIQgl6m0', u'url': u'https://t.co/j5DIQgl6m0', u'media_url_https': u'https://pbs.twimg.com/media/Cpa0SJNWgAEOP_R.jpg', u'id_str': u'762995410688442369', u'sizes': {u'large': {u'h': 671, u'resize': u'fit', u'w': 1199}, u'small': {u'h': 381, u'resize': u'fit', u'w': 680}, u'medium': {u'h': 671, u'resize': u'fit', u'w': 1199}, u'thumb': {u'h': 150, u'resize': u'crop', u'w': 150}}, u'indices': [117, 140], u'type': u'photo', u'id': 762995410688442369, u'media_url': u'http://pbs.twimg.com/media/Cpa0SJNWgAEOP_R.jpg'}]}, u'metadata': {u'iso_language_code': u'en', u'result_type': u'recent'}}, u'user': {u'follow_request_sent': False, u'has_extended_profile': False, u'profile_use_background_image': True, u'default_profile_image': False, u'id': 32405178, u'profile_background_image_url_https': u'https://pbs.twimg.com/profile_background_images/671843364447342592/uwnj0S7E.jpg', u'verified': True, u'profile_text_color': u'333333', u'profile_image_url_https': u'https://pbs.twimg.com/profile_images/479747609406365696/eimq6qTZ_normal.jpeg', u'profile_sidebar_fill_color': u'DDEEF6', u'entities': {u'url': {u'urls': [{u'url': u'http://t.co/yMpam6EjYh', u'indices': [0, 22], u'expanded_url': u'http://abc7.com', u'display_url': u'abc7.com'}]}, u'description': {u'urls': []}}, u'followers_count': 5962, u'profile_sidebar_border_color': u'FFFFFF', u'id_str': u'32405178', u'profile_background_color': u'044CC1', u'listed_count': 91, u'is_translation_enabled': False, u'utc_offset': -25200, u'statuses_count': 9399, u'description': u'@abc7 Eyewitness News Anchor', u'friends_count': 597, u'location': u'Los Angeles, CA', u'profile_link_color': u'044CC1', u'profile_image_url': u'http://pbs.twimg.com/profile_images/479747609406365696/eimq6qTZ_normal.jpeg', u'following': False, u'geo_enabled': False, u'profile_banner_url': u'https://pbs.twimg.com/profile_banners/32405178/1403215709', u'profile_background_image_url': u'http://pbs.twimg.com/profile_background_images/671843364447342592/uwnj0S7E.jpg', u'screen_name': u'abc7phillip', u'lang': u'en', u'profile_background_tile': False, u'favourites_count': 3226, u'name': u'Phillip Palmer', u'notifications': False, u'url': u'http://t.co/yMpam6EjYh', u'created_at': u'Fri Apr 17 13:33:36 +0000 2009', u'contributors_enabled': False, u'time_zone': u'Pacific Time (US & Canada)', u'protected': False, u'default_profile': False, u'is_translator': False}, u'geo': None, u'in_reply_to_user_id_str': None, u'possibly_sensitive': False, u'lang': u'en', u'created_at': u'Tue Aug 09 12:54:41 +0000 2016', u'in_reply_to_status_id_str': None, u'place': None, u'extended_entities': {u'media': [{u'source_user_id': 28785486, u'source_status_id_str': u'762995413255421953', u'expanded_url': u'http://twitter.com/ABC/status/762995413255421953/photo/1', u'display_url': u'pic.twitter.com/j5DIQgl6m0', u'url': u'https://t.co/j5DIQgl6m0', u'media_url_https': u'https://pbs.twimg.com/media/Cpa0SJNWgAEOP_R.jpg', u'source_user_id_str': u'28785486', u'source_status_id': 762995413255421953, u'id_str': u'762995410688442369', u'sizes': {u'large': {u'h': 671, u'resize': u'fit', u'w': 1199}, u'small': {u'h': 381, u'resize': u'fit', u'w': 680}, u'medium': {u'h': 671, u'resize': u'fit', u'w': 1199}, u'thumb': {u'h': 150, u'resize': u'crop', u'w': 150}}, u'indices': [126, 140], u'type': u'photo', u'id': 762995410688442369, u'media_url': u'http://pbs.twimg.com/media/Cpa0SJNWgAEOP_R.jpg'}]}, u'metadata': {u'iso_language_code': u'en', u'result_type': u'recent'}}, coordinates=None, entities={u'symbols': [], u'user_mentions': [{u'id': 28785486, u'indices': [3, 7], u'id_str': u'28785486', u'screen_name': u'ABC', u'name': u'ABC News'}], u'hashtags': [], u'urls': [{u'url': u'https://t.co/dLRgLjkKLL', u'indices': [102, 125], u'expanded_url': u'http://abcn.ws/2aNRW2t', u'display_url': u'abcn.ws/2aNRW2t'}], u'media': [{u'source_user_id': 28785486, u'source_status_id_str': u'762995413255421953', u'expanded_url': u'http://twitter.com/ABC/status/762995413255421953/photo/1', u'display_url': u'pic.twitter.com/j5DIQgl6m0', u'url': u'https://t.co/j5DIQgl6m0', u'media_url_https': u'https://pbs.twimg.com/media/Cpa0SJNWgAEOP_R.jpg', u'source_user_id_str': u'28785486', u'source_status_id': 762995413255421953, u'id_str': u'762995410688442369', u'sizes': {u'large': {u'h': 671, u'resize': u'fit', u'w': 1199}, u'small': {u'h': 381, u'resize': u'fit', u'w': 680}, u'medium': {u'h': 671, u'resize': u'fit', u'w': 1199}, u'thumb': {u'h': 150, u'resize': u'crop', u'w': 150}}, u'indices': [126, 140], u'type': u'photo', u'id': 762995410688442369, u'media_url': u'http://pbs.twimg.com/media/Cpa0SJNWgAEOP_R.jpg'}]}, in_reply_to_screen_name=None, id_str=u'762995517857071104', retweet_count=7, in_reply_to_user_id=None, favorited=False, retweeted_status=Status(contributors=None, truncated=False, text=u\"Sen. Susan Collins joins list of prominent Republicans who won't be supporting Donald Trump. https://t.co/dLRgLjkKLL https://t.co/j5DIQgl6m0\", is_quote_status=False, in_reply_to_status_id=None, id=762995413255421953, favorite_count=7, _api=<tweepy.api.API object at 0x10943d050>, author=User(follow_request_sent=False, has_extended_profile=False, profile_use_background_image=True, _json={u'follow_request_sent': False, u'has_extended_profile': False, u'profile_use_background_image': True, u'default_profile_image': False, u'id': 28785486, u'profile_background_image_url_https': u'https://pbs.twimg.com/profile_background_images/441965491024719872/pAv-lzCZ.jpeg', u'verified': True, u'profile_text_color': u'333333', u'profile_image_url_https': u'https://pbs.twimg.com/profile_images/658688193651277824/Kv_cNNub_normal.png', u'profile_sidebar_fill_color': u'DDEEF6', u'entities': {u'url': {u'urls': [{u'url': u'https://t.co/v7GWW7ho1l', u'indices': [0, 23], u'expanded_url': u'http://ABCNews.com', u'display_url': u'ABCNews.com'}]}, u'description': {u'urls': [{u'url': u'https://t.co/ewMNZ54axm', u'indices': [59, 82], u'expanded_url': u'https://www.facebook.com/abcnews', u'display_url': u'facebook.com/abcnews'}]}}, u'followers_count': 7023303, u'profile_sidebar_border_color': u'FFFFFF', u'id_str': u'28785486', u'profile_background_color': u'6E8EB5', u'listed_count': 43822, u'is_translation_enabled': True, u'utc_offset': -14400, u'statuses_count': 139159, u'description': u'See the whole picture with @ABC News. Join us on Facebook: https://t.co/ewMNZ54axm', u'friends_count': 827, u'location': u'New York City / Worldwide', u'profile_link_color': u'336699', u'profile_image_url': u'http://pbs.twimg.com/profile_images/658688193651277824/Kv_cNNub_normal.png', u'following': False, u'geo_enabled': True, u'profile_banner_url': u'https://pbs.twimg.com/profile_banners/28785486/1468943694', u'profile_background_image_url': u'http://pbs.twimg.com/profile_background_images/441965491024719872/pAv-lzCZ.jpeg', u'screen_name': u'ABC', u'lang': u'en', u'profile_background_tile': False, u'favourites_count': 516, u'name': u'ABC News', u'notifications': False, u'url': u'https://t.co/v7GWW7ho1l', u'created_at': u'Sat Apr 04 12:40:32 +0000 2009', u'contributors_enabled': False, u'time_zone': u'Eastern Time (US & Canada)', u'protected': False, u'default_profile': False, u'is_translator': False}, time_zone=u'Eastern Time (US & Canada)', id=28785486, _api=<tweepy.api.API object at 0x10943d050>, verified=True, profile_text_color=u'333333', profile_image_url_https=u'https://pbs.twimg.com/profile_images/658688193651277824/Kv_cNNub_normal.png', profile_sidebar_fill_color=u'DDEEF6', is_translator=False, geo_enabled=True, entities={u'url': {u'urls': [{u'url': u'https://t.co/v7GWW7ho1l', u'indices': [0, 23], u'expanded_url': u'http://ABCNews.com', u'display_url': u'ABCNews.com'}]}, u'description': {u'urls': [{u'url': u'https://t.co/ewMNZ54axm', u'indices': [59, 82], u'expanded_url': u'https://www.facebook.com/abcnews', u'display_url': u'facebook.com/abcnews'}]}}, followers_count=7023303, protected=False, id_str=u'28785486', default_profile_image=False, listed_count=43822, lang=u'en', utc_offset=-14400, statuses_count=139159, description=u'See the whole picture with @ABC News. Join us on Facebook: https://t.co/ewMNZ54axm', friends_count=827, profile_link_color=u'336699', profile_image_url=u'http://pbs.twimg.com/profile_images/658688193651277824/Kv_cNNub_normal.png', notifications=False, profile_background_image_url_https=u'https://pbs.twimg.com/profile_background_images/441965491024719872/pAv-lzCZ.jpeg', profile_background_color=u'6E8EB5', profile_banner_url=u'https://pbs.twimg.com/profile_banners/28785486/1468943694', profile_background_image_url=u'http://pbs.twimg.com/profile_background_images/441965491024719872/pAv-lzCZ.jpeg', name=u'ABC News', is_translation_enabled=True, profile_background_tile=False, favourites_count=516, screen_name=u'ABC', url=u'https://t.co/v7GWW7ho1l', created_at=datetime.datetime(2009, 4, 4, 12, 40, 32), contributors_enabled=False, location=u'New York City / Worldwide', profile_sidebar_border_color=u'FFFFFF', default_profile=False, following=False), _json={u'contributors': None, u'truncated': False, u'text': u\"Sen. Susan Collins joins list of prominent Republicans who won't be supporting Donald Trump. https://t.co/dLRgLjkKLL https://t.co/j5DIQgl6m0\", u'is_quote_status': False, u'in_reply_to_status_id': None, u'id': 762995413255421953, u'favorite_count': 7, u'entities': {u'symbols': [], u'user_mentions': [], u'hashtags': [], u'urls': [{u'url': u'https://t.co/dLRgLjkKLL', u'indices': [93, 116], u'expanded_url': u'http://abcn.ws/2aNRW2t', u'display_url': u'abcn.ws/2aNRW2t'}], u'media': [{u'expanded_url': u'http://twitter.com/ABC/status/762995413255421953/photo/1', u'display_url': u'pic.twitter.com/j5DIQgl6m0', u'url': u'https://t.co/j5DIQgl6m0', u'media_url_https': u'https://pbs.twimg.com/media/Cpa0SJNWgAEOP_R.jpg', u'id_str': u'762995410688442369', u'sizes': {u'large': {u'h': 671, u'resize': u'fit', u'w': 1199}, u'small': {u'h': 381, u'resize': u'fit', u'w': 680}, u'medium': {u'h': 671, u'resize': u'fit', u'w': 1199}, u'thumb': {u'h': 150, u'resize': u'crop', u'w': 150}}, u'indices': [117, 140], u'type': u'photo', u'id': 762995410688442369, u'media_url': u'http://pbs.twimg.com/media/Cpa0SJNWgAEOP_R.jpg'}]}, u'retweeted': False, u'coordinates': None, u'source': u'<a href=\"http://www.socialflow.com\" rel=\"nofollow\">SocialFlow</a>', u'in_reply_to_screen_name': None, u'in_reply_to_user_id': None, u'retweet_count': 7, u'id_str': u'762995413255421953', u'favorited': False, u'user': {u'follow_request_sent': False, u'has_extended_profile': False, u'profile_use_background_image': True, u'default_profile_image': False, u'id': 28785486, u'profile_background_image_url_https': u'https://pbs.twimg.com/profile_background_images/441965491024719872/pAv-lzCZ.jpeg', u'verified': True, u'profile_text_color': u'333333', u'profile_image_url_https': u'https://pbs.twimg.com/profile_images/658688193651277824/Kv_cNNub_normal.png', u'profile_sidebar_fill_color': u'DDEEF6', u'entities': {u'url': {u'urls': [{u'url': u'https://t.co/v7GWW7ho1l', u'indices': [0, 23], u'expanded_url': u'http://ABCNews.com', u'display_url': u'ABCNews.com'}]}, u'description': {u'urls': [{u'url': u'https://t.co/ewMNZ54axm', u'indices': [59, 82], u'expanded_url': u'https://www.facebook.com/abcnews', u'display_url': u'facebook.com/abcnews'}]}}, u'followers_count': 7023303, u'profile_sidebar_border_color': u'FFFFFF', u'id_str': u'28785486', u'profile_background_color': u'6E8EB5', u'listed_count': 43822, u'is_translation_enabled': True, u'utc_offset': -14400, u'statuses_count': 139159, u'description': u'See the whole picture with @ABC News. Join us on Facebook: https://t.co/ewMNZ54axm', u'friends_count': 827, u'location': u'New York City / Worldwide', u'profile_link_color': u'336699', u'profile_image_url': u'http://pbs.twimg.com/profile_images/658688193651277824/Kv_cNNub_normal.png', u'following': False, u'geo_enabled': True, u'profile_banner_url': u'https://pbs.twimg.com/profile_banners/28785486/1468943694', u'profile_background_image_url': u'http://pbs.twimg.com/profile_background_images/441965491024719872/pAv-lzCZ.jpeg', u'screen_name': u'ABC', u'lang': u'en', u'profile_background_tile': False, u'favourites_count': 516, u'name': u'ABC News', u'notifications': False, u'url': u'https://t.co/v7GWW7ho1l', u'created_at': u'Sat Apr 04 12:40:32 +0000 2009', u'contributors_enabled': False, u'time_zone': u'Eastern Time (US & Canada)', u'protected': False, u'default_profile': False, u'is_translator': False}, u'geo': None, u'in_reply_to_user_id_str': None, u'possibly_sensitive': False, u'lang': u'en', u'created_at': u'Tue Aug 09 12:54:16 +0000 2016', u'in_reply_to_status_id_str': None, u'place': None, u'extended_entities': {u'media': [{u'expanded_url': u'http://twitter.com/ABC/status/762995413255421953/photo/1', u'display_url': u'pic.twitter.com/j5DIQgl6m0', u'url': u'https://t.co/j5DIQgl6m0', u'media_url_https': u'https://pbs.twimg.com/media/Cpa0SJNWgAEOP_R.jpg', u'id_str': u'762995410688442369', u'sizes': {u'large': {u'h': 671, u'resize': u'fit', u'w': 1199}, u'small': {u'h': 381, u'resize': u'fit', u'w': 680}, u'medium': {u'h': 671, u'resize': u'fit', u'w': 1199}, u'thumb': {u'h': 150, u'resize': u'crop', u'w': 150}}, u'indices': [117, 140], u'type': u'photo', u'id': 762995410688442369, u'media_url': u'http://pbs.twimg.com/media/Cpa0SJNWgAEOP_R.jpg'}]}, u'metadata': {u'iso_language_code': u'en', u'result_type': u'recent'}}, coordinates=None, entities={u'symbols': [], u'user_mentions': [], u'hashtags': [], u'urls': [{u'url': u'https://t.co/dLRgLjkKLL', u'indices': [93, 116], u'expanded_url': u'http://abcn.ws/2aNRW2t', u'display_url': u'abcn.ws/2aNRW2t'}], u'media': [{u'expanded_url': u'http://twitter.com/ABC/status/762995413255421953/photo/1', u'display_url': u'pic.twitter.com/j5DIQgl6m0', u'url': u'https://t.co/j5DIQgl6m0', u'media_url_https': u'https://pbs.twimg.com/media/Cpa0SJNWgAEOP_R.jpg', u'id_str': u'762995410688442369', u'sizes': {u'large': {u'h': 671, u'resize': u'fit', u'w': 1199}, u'small': {u'h': 381, u'resize': u'fit', u'w': 680}, u'medium': {u'h': 671, u'resize': u'fit', u'w': 1199}, u'thumb': {u'h': 150, u'resize': u'crop', u'w': 150}}, u'indices': [117, 140], u'type': u'photo', u'id': 762995410688442369, u'media_url': u'http://pbs.twimg.com/media/Cpa0SJNWgAEOP_R.jpg'}]}, in_reply_to_screen_name=None, id_str=u'762995413255421953', retweet_count=7, in_reply_to_user_id=None, favorited=False, source_url=u'http://www.socialflow.com', user=User(follow_request_sent=False, has_extended_profile=False, profile_use_background_image=True, _json={u'follow_request_sent': False, u'has_extended_profile': False, u'profile_use_background_image': True, u'default_profile_image': False, u'id': 28785486, u'profile_background_image_url_https': u'https://pbs.twimg.com/profile_background_images/441965491024719872/pAv-lzCZ.jpeg', u'verified': True, u'profile_text_color': u'333333', u'profile_image_url_https': u'https://pbs.twimg.com/profile_images/658688193651277824/Kv_cNNub_normal.png', u'profile_sidebar_fill_color': u'DDEEF6', u'entities': {u'url': {u'urls': [{u'url': u'https://t.co/v7GWW7ho1l', u'indices': [0, 23], u'expanded_url': u'http://ABCNews.com', u'display_url': u'ABCNews.com'}]}, u'description': {u'urls': [{u'url': u'https://t.co/ewMNZ54axm', u'indices': [59, 82], u'expanded_url': u'https://www.facebook.com/abcnews', u'display_url': u'facebook.com/abcnews'}]}}, u'followers_count': 7023303, u'profile_sidebar_border_color': u'FFFFFF', u'id_str': u'28785486', u'profile_background_color': u'6E8EB5', u'listed_count': 43822, u'is_translation_enabled': True, u'utc_offset': -14400, u'statuses_count': 139159, u'description': u'See the whole picture with @ABC News. Join us on Facebook: https://t.co/ewMNZ54axm', u'friends_count': 827, u'location': u'New York City / Worldwide', u'profile_link_color': u'336699', u'profile_image_url': u'http://pbs.twimg.com/profile_images/658688193651277824/Kv_cNNub_normal.png', u'following': False, u'geo_enabled': True, u'profile_banner_url': u'https://pbs.twimg.com/profile_banners/28785486/1468943694', u'profile_background_image_url': u'http://pbs.twimg.com/profile_background_images/441965491024719872/pAv-lzCZ.jpeg', u'screen_name': u'ABC', u'lang': u'en', u'profile_background_tile': False, u'favourites_count': 516, u'name': u'ABC News', u'notifications': False, u'url': u'https://t.co/v7GWW7ho1l', u'created_at': u'Sat Apr 04 12:40:32 +0000 2009', u'contributors_enabled': False, u'time_zone': u'Eastern Time (US & Canada)', u'protected': False, u'default_profile': False, u'is_translator': False}, time_zone=u'Eastern Time (US & Canada)', id=28785486, _api=<tweepy.api.API object at 0x10943d050>, verified=True, profile_text_color=u'333333', profile_image_url_https=u'https://pbs.twimg.com/profile_images/658688193651277824/Kv_cNNub_normal.png', profile_sidebar_fill_color=u'DDEEF6', is_translator=False, geo_enabled=True, entities={u'url': {u'urls': [{u'url': u'https://t.co/v7GWW7ho1l', u'indices': [0, 23], u'expanded_url': u'http://ABCNews.com', u'display_url': u'ABCNews.com'}]}, u'description': {u'urls': [{u'url': u'https://t.co/ewMNZ54axm', u'indices': [59, 82], u'expanded_url': u'https://www.facebook.com/abcnews', u'display_url': u'facebook.com/abcnews'}]}}, followers_count=7023303, protected=False, id_str=u'28785486', default_profile_image=False, listed_count=43822, lang=u'en', utc_offset=-14400, statuses_count=139159, description=u'See the whole picture with @ABC News. Join us on Facebook: https://t.co/ewMNZ54axm', friends_count=827, profile_link_color=u'336699', profile_image_url=u'http://pbs.twimg.com/profile_images/658688193651277824/Kv_cNNub_normal.png', notifications=False, profile_background_image_url_https=u'https://pbs.twimg.com/profile_background_images/441965491024719872/pAv-lzCZ.jpeg', profile_background_color=u'6E8EB5', profile_banner_url=u'https://pbs.twimg.com/profile_banners/28785486/1468943694', profile_background_image_url=u'http://pbs.twimg.com/profile_background_images/441965491024719872/pAv-lzCZ.jpeg', name=u'ABC News', is_translation_enabled=True, profile_background_tile=False, favourites_count=516, screen_name=u'ABC', url=u'https://t.co/v7GWW7ho1l', created_at=datetime.datetime(2009, 4, 4, 12, 40, 32), contributors_enabled=False, location=u'New York City / Worldwide', profile_sidebar_border_color=u'FFFFFF', default_profile=False, following=False), geo=None, in_reply_to_user_id_str=None, possibly_sensitive=False, lang=u'en', created_at=datetime.datetime(2016, 8, 9, 12, 54, 16), in_reply_to_status_id_str=None, place=None, source=u'SocialFlow', extended_entities={u'media': [{u'expanded_url': u'http://twitter.com/ABC/status/762995413255421953/photo/1', u'display_url': u'pic.twitter.com/j5DIQgl6m0', u'url': u'https://t.co/j5DIQgl6m0', u'media_url_https': u'https://pbs.twimg.com/media/Cpa0SJNWgAEOP_R.jpg', u'id_str': u'762995410688442369', u'sizes': {u'large': {u'h': 671, u'resize': u'fit', u'w': 1199}, u'small': {u'h': 381, u'resize': u'fit', u'w': 680}, u'medium': {u'h': 671, u'resize': u'fit', u'w': 1199}, u'thumb': {u'h': 150, u'resize': u'crop', u'w': 150}}, u'indices': [117, 140], u'type': u'photo', u'id': 762995410688442369, u'media_url': u'http://pbs.twimg.com/media/Cpa0SJNWgAEOP_R.jpg'}]}, retweeted=False, metadata={u'iso_language_code': u'en', u'result_type': u'recent'}), source_url=u'http://twitter.com', user=User(follow_request_sent=False, has_extended_profile=False, profile_use_background_image=True, _json={u'follow_request_sent': False, u'has_extended_profile': False, u'profile_use_background_image': True, u'default_profile_image': False, u'id': 32405178, u'profile_background_image_url_https': u'https://pbs.twimg.com/profile_background_images/671843364447342592/uwnj0S7E.jpg', u'verified': True, u'profile_text_color': u'333333', u'profile_image_url_https': u'https://pbs.twimg.com/profile_images/479747609406365696/eimq6qTZ_normal.jpeg', u'profile_sidebar_fill_color': u'DDEEF6', u'entities': {u'url': {u'urls': [{u'url': u'http://t.co/yMpam6EjYh', u'indices': [0, 22], u'expanded_url': u'http://abc7.com', u'display_url': u'abc7.com'}]}, u'description': {u'urls': []}}, u'followers_count': 5962, u'profile_sidebar_border_color': u'FFFFFF', u'id_str': u'32405178', u'profile_background_color': u'044CC1', u'listed_count': 91, u'is_translation_enabled': False, u'utc_offset': -25200, u'statuses_count': 9399, u'description': u'@abc7 Eyewitness News Anchor', u'friends_count': 597, u'location': u'Los Angeles, CA', u'profile_link_color': u'044CC1', u'profile_image_url': u'http://pbs.twimg.com/profile_images/479747609406365696/eimq6qTZ_normal.jpeg', u'following': False, u'geo_enabled': False, u'profile_banner_url': u'https://pbs.twimg.com/profile_banners/32405178/1403215709', u'profile_background_image_url': u'http://pbs.twimg.com/profile_background_images/671843364447342592/uwnj0S7E.jpg', u'screen_name': u'abc7phillip', u'lang': u'en', u'profile_background_tile': False, u'favourites_count': 3226, u'name': u'Phillip Palmer', u'notifications': False, u'url': u'http://t.co/yMpam6EjYh', u'created_at': u'Fri Apr 17 13:33:36 +0000 2009', u'contributors_enabled': False, u'time_zone': u'Pacific Time (US & Canada)', u'protected': False, u'default_profile': False, u'is_translator': False}, time_zone=u'Pacific Time (US & Canada)', id=32405178, _api=<tweepy.api.API object at 0x10943d050>, verified=True, profile_text_color=u'333333', profile_image_url_https=u'https://pbs.twimg.com/profile_images/479747609406365696/eimq6qTZ_normal.jpeg', profile_sidebar_fill_color=u'DDEEF6', is_translator=False, geo_enabled=False, entities={u'url': {u'urls': [{u'url': u'http://t.co/yMpam6EjYh', u'indices': [0, 22], u'expanded_url': u'http://abc7.com', u'display_url': u'abc7.com'}]}, u'description': {u'urls': []}}, followers_count=5962, protected=False, id_str=u'32405178', default_profile_image=False, listed_count=91, lang=u'en', utc_offset=-25200, statuses_count=9399, description=u'@abc7 Eyewitness News Anchor', friends_count=597, profile_link_color=u'044CC1', profile_image_url=u'http://pbs.twimg.com/profile_images/479747609406365696/eimq6qTZ_normal.jpeg', notifications=False, profile_background_image_url_https=u'https://pbs.twimg.com/profile_background_images/671843364447342592/uwnj0S7E.jpg', profile_background_color=u'044CC1', profile_banner_url=u'https://pbs.twimg.com/profile_banners/32405178/1403215709', profile_background_image_url=u'http://pbs.twimg.com/profile_background_images/671843364447342592/uwnj0S7E.jpg', name=u'Phillip Palmer', is_translation_enabled=False, profile_background_tile=False, favourites_count=3226, screen_name=u'abc7phillip', url=u'http://t.co/yMpam6EjYh', created_at=datetime.datetime(2009, 4, 17, 13, 33, 36), contributors_enabled=False, location=u'Los Angeles, CA', profile_sidebar_border_color=u'FFFFFF', default_profile=False, following=False), geo=None, in_reply_to_user_id_str=None, possibly_sensitive=False, lang=u'en', created_at=datetime.datetime(2016, 8, 9, 12, 54, 41), in_reply_to_status_id_str=None, place=None, source=u'Twitter Web Client', extended_entities={u'media': [{u'source_user_id': 28785486, u'source_status_id_str': u'762995413255421953', u'expanded_url': u'http://twitter.com/ABC/status/762995413255421953/photo/1', u'display_url': u'pic.twitter.com/j5DIQgl6m0', u'url': u'https://t.co/j5DIQgl6m0', u'media_url_https': u'https://pbs.twimg.com/media/Cpa0SJNWgAEOP_R.jpg', u'source_user_id_str': u'28785486', u'source_status_id': 762995413255421953, u'id_str': u'762995410688442369', u'sizes': {u'large': {u'h': 671, u'resize': u'fit', u'w': 1199}, u'small': {u'h': 381, u'resize': u'fit', u'w': 680}, u'medium': {u'h': 671, u'resize': u'fit', u'w': 1199}, u'thumb': {u'h': 150, u'resize': u'crop', u'w': 150}}, u'indices': [126, 140], u'type': u'photo', u'id': 762995410688442369, u'media_url': u'http://pbs.twimg.com/media/Cpa0SJNWgAEOP_R.jpg'}]}, retweeted=False, metadata={u'iso_language_code': u'en', u'result_type': u'recent'})\n"
     ]
    }
   ],
   "source": [
    "\n",
    "max_tweets=1\n",
    "\n",
    "#Tweepy Cursor handles pagination .. \n",
    "\n",
    "for tweet in tweepy.Cursor(api.search,q=[\"Susan Collins\"]).items(max_tweets):\n",
    "    print tweet"
   ]
  },
  {
   "cell_type": "code",
   "execution_count": 44,
   "metadata": {
    "collapsed": false
   },
   "outputs": [],
   "source": [
    "results=[]\n",
    "\n",
    "\n",
    "for tweet in tweepy.Cursor(api.search,q=\"Susan Collins\").items(10):\n",
    "    results.append(tweet)"
   ]
  },
  {
   "cell_type": "markdown",
   "metadata": {},
   "source": [
    "#### Import tweets into Pandas"
   ]
  },
  {
   "cell_type": "code",
   "execution_count": 45,
   "metadata": {
    "collapsed": false
   },
   "outputs": [],
   "source": [
    "#  import pandas as pd\n",
    "def structure_results(results):\n",
    "    id_list=[tweet.id for tweet in results]\n",
    "    data=pd.DataFrame(id_list,columns=['id'])\n",
    "    \n",
    "    data[\"text\"]= [tweet.text.encode('utf-8') for tweet in results]\n",
    "    data[\"datetime\"]=[tweet.created_at for tweet in results]\n",
    "    data[\"Location\"]=[tweet.place for tweet in results]\n",
    "    \n",
    "    return data"
   ]
  },
  {
   "cell_type": "code",
   "execution_count": 46,
   "metadata": {
    "collapsed": false
   },
   "outputs": [
    {
     "data": {
      "text/html": [
       "<div>\n",
       "<table border=\"1\" class=\"dataframe\">\n",
       "  <thead>\n",
       "    <tr style=\"text-align: right;\">\n",
       "      <th></th>\n",
       "      <th>id</th>\n",
       "      <th>text</th>\n",
       "      <th>datetime</th>\n",
       "      <th>Location</th>\n",
       "    </tr>\n",
       "  </thead>\n",
       "  <tbody>\n",
       "    <tr>\n",
       "      <th>0</th>\n",
       "      <td>762995517857071104</td>\n",
       "      <td>RT @ABC: Sen. Susan Collins joins list of prom...</td>\n",
       "      <td>2016-08-09 12:54:41</td>\n",
       "      <td>None</td>\n",
       "    </tr>\n",
       "    <tr>\n",
       "      <th>1</th>\n",
       "      <td>762995508235345920</td>\n",
       "      <td>RT @KarenAttiah: Republican Sen. Susan Collins...</td>\n",
       "      <td>2016-08-09 12:54:39</td>\n",
       "      <td>None</td>\n",
       "    </tr>\n",
       "    <tr>\n",
       "      <th>2</th>\n",
       "      <td>762995505051889664</td>\n",
       "      <td>RT @NBCNews: GOP Sen. Collins: 'I will not be ...</td>\n",
       "      <td>2016-08-09 12:54:38</td>\n",
       "      <td>None</td>\n",
       "    </tr>\n",
       "    <tr>\n",
       "      <th>3</th>\n",
       "      <td>762995499452473344</td>\n",
       "      <td>RT @BostonGlobe: Add Sen. Susan Collins of Mai...</td>\n",
       "      <td>2016-08-09 12:54:37</td>\n",
       "      <td>None</td>\n",
       "    </tr>\n",
       "    <tr>\n",
       "      <th>4</th>\n",
       "      <td>762995496105508864</td>\n",
       "      <td>RT @MarkHalperin: .@JoeNBC &amp;amp; I agree this ...</td>\n",
       "      <td>2016-08-09 12:54:36</td>\n",
       "      <td>None</td>\n",
       "    </tr>\n",
       "  </tbody>\n",
       "</table>\n",
       "</div>"
      ],
      "text/plain": [
       "                   id                                               text  \\\n",
       "0  762995517857071104  RT @ABC: Sen. Susan Collins joins list of prom...   \n",
       "1  762995508235345920  RT @KarenAttiah: Republican Sen. Susan Collins...   \n",
       "2  762995505051889664  RT @NBCNews: GOP Sen. Collins: 'I will not be ...   \n",
       "3  762995499452473344  RT @BostonGlobe: Add Sen. Susan Collins of Mai...   \n",
       "4  762995496105508864  RT @MarkHalperin: .@JoeNBC &amp; I agree this ...   \n",
       "\n",
       "             datetime Location  \n",
       "0 2016-08-09 12:54:41     None  \n",
       "1 2016-08-09 12:54:39     None  \n",
       "2 2016-08-09 12:54:38     None  \n",
       "3 2016-08-09 12:54:37     None  \n",
       "4 2016-08-09 12:54:36     None  "
      ]
     },
     "execution_count": 46,
     "metadata": {},
     "output_type": "execute_result"
    }
   ],
   "source": [
    "data=structure_results(results)\n",
    "data.head()"
   ]
  },
  {
   "cell_type": "markdown",
   "metadata": {},
   "source": [
    "#### Import Tweets into MongoDB"
   ]
  },
  {
   "cell_type": "code",
   "execution_count": 48,
   "metadata": {
    "collapsed": false
   },
   "outputs": [],
   "source": [
    "import json\n",
    "from pymongo import MongoClient\n",
    "\n",
    "\n",
    "client = MongoClient()\n",
    "db = client.legislation\n",
    "# Our collection: \n",
    "tweets = db.new_tweet"
   ]
  },
  {
   "cell_type": "code",
   "execution_count": 49,
   "metadata": {
    "collapsed": false
   },
   "outputs": [],
   "source": [
    "for tweet in results:\n",
    "    data={}\n",
    "    data['tweet']=tweet.text.encode('utf-8') \n",
    "    data['datetime']=tweet.created_at\n",
    "    tweets.insert_one(data)"
   ]
  },
  {
   "cell_type": "code",
   "execution_count": 50,
   "metadata": {
    "collapsed": false
   },
   "outputs": [
    {
     "data": {
      "text/plain": [
       "{u'_id': ObjectId('57a9d2ea24b5a51931c897c3'),\n",
       " u'datetime': datetime.datetime(2016, 8, 9, 12, 54, 41),\n",
       " u'tweet': u\"RT @ABC: Sen. Susan Collins joins list of prominent Republicans who won't be supporting Donald Trump. https://t.co/dLRgLjkKLL https://t.co/\\u2026\"}"
      ]
     },
     "execution_count": 50,
     "metadata": {},
     "output_type": "execute_result"
    }
   ],
   "source": [
    "tweets.find_one()"
   ]
  },
  {
   "cell_type": "code",
   "execution_count": null,
   "metadata": {
    "collapsed": true
   },
   "outputs": [],
   "source": []
  }
 ],
 "metadata": {
  "kernelspec": {
   "display_name": "Python 2",
   "language": "python",
   "name": "python2"
  },
  "language_info": {
   "codemirror_mode": {
    "name": "ipython",
    "version": 2
   },
   "file_extension": ".py",
   "mimetype": "text/x-python",
   "name": "python",
   "nbconvert_exporter": "python",
   "pygments_lexer": "ipython2",
   "version": "2.7.11"
  }
 },
 "nbformat": 4,
 "nbformat_minor": 0
}
