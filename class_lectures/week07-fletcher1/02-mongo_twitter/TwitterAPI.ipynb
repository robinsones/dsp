{
 "cells": [
  {
   "cell_type": "markdown",
   "metadata": {},
   "source": [
    "# Twitter API"
   ]
  },
  {
   "cell_type": "markdown",
   "metadata": {},
   "source": [
    "## Lecture Notes"
   ]
  },
  {
   "cell_type": "markdown",
   "metadata": {},
   "source": [
    "#####Why Twitter ?\n",
    "\n",
    "\n",
    "\"While physics and math may tell us how the universe began, they are not much use in predicting Human Behavior because there are far too many Equations to Solve\" \n",
    "    \n",
    "    -Stephan Hawking\n",
    "    "
   ]
  },
  {
   "cell_type": "markdown",
   "metadata": {},
   "source": [
    "#### Rest API vs Streaming API: \n",
    "\n",
    "\n",
    "REST:  \n",
    "    - Query user accounts using OAuth\n",
    "    - Allows you to access 'historical' tweets\n",
    "\n",
    "STREAM: \n",
    "    - Essentially long-running request (left Open) using OAuth\n",
    "    - Access realtime stream of data\n",
    "       "
   ]
  },
  {
   "cell_type": "markdown",
   "metadata": {},
   "source": [
    "#### Rest API"
   ]
  },
  {
   "cell_type": "code",
   "execution_count": 1,
   "metadata": {
    "collapsed": false
   },
   "outputs": [],
   "source": [
    "# pip install requests_oauthlib\n",
    "import requests\n",
    "from requests_oauthlib import OAuth1\n",
    "\n",
    "#OAuth ~ simple way to to publish & interact with data"
   ]
  },
  {
   "cell_type": "code",
   "execution_count": 2,
   "metadata": {
    "collapsed": false
   },
   "outputs": [],
   "source": [
    "# Importing our Config\n",
    "#pip install cnfg   ##  Create a config file in your home directory \n",
    "\n",
    "import cnfg\n",
    "config = cnfg.load(\".twitter_config\")\n",
    "\n",
    "oauth = OAuth1(config[\"consumer_key\"],\n",
    "               config[\"consumer_secret\"],\n",
    "               config[\"access_token\"],\n",
    "               config[\"access_token_secret\"])"
   ]
  },
  {
   "cell_type": "code",
   "execution_count": 3,
   "metadata": {
    "collapsed": false
   },
   "outputs": [
    {
     "name": "stdout",
     "output_type": "stream",
     "text": [
      "contributors\n",
      "truncated\n",
      "text\n",
      "is_quote_status\n",
      "in_reply_to_status_id\n",
      "id\n",
      "favorite_count\n",
      "source\n",
      "retweeted\n",
      "coordinates\n",
      "entities\n",
      "in_reply_to_screen_name\n",
      "id_str\n",
      "retweet_count\n",
      "in_reply_to_user_id\n",
      "favorited\n",
      "user\n",
      "geo\n",
      "in_reply_to_user_id_str\n",
      "possibly_sensitive\n",
      "lang\n",
      "created_at\n",
      "in_reply_to_status_id_str\n",
      "place\n"
     ]
    }
   ],
   "source": [
    "# ?? this is an instance \n",
    "\n",
    "response = requests.get(\"https://api.twitter.com/1.1/statuses/user_timeline.json\",\n",
    "                        auth=oauth)\n",
    "tweets = response.json()\n",
    "\n",
    "for key in tweets[0].keys():\n",
    "    print key\n",
    "    "
   ]
  },
  {
   "cell_type": "code",
   "execution_count": 4,
   "metadata": {
    "collapsed": false
   },
   "outputs": [
    {
     "name": "stdout",
     "output_type": "stream",
     "text": [
      "We need responsible solutions on reducing gun violence.  Join us today: https://t.co/0qgznP0Vr6\n",
      "\n",
      "twas an honor to share a panel with these rock star machine learners @andreasmuller @jaredlander @StefanKarpinski\n",
      "\n",
      "such an awesome event --  so great to meet you all!  @katersully @zooeypurdy @CColwell9 @mercebent @GWWIBConference\n",
      "\n",
      "so thrilled to see @hmason speak last night at the women in machine learning meet-up..  what an inspiration!\n",
      "\n",
      "wait a sec, how have I missed this ?\n",
      "http://t.co/uGEIb7bqka\n",
      "\n"
     ]
    }
   ],
   "source": [
    "for tweet in tweets:\n",
    "    print tweet['text']\n",
    "    print"
   ]
  },
  {
   "cell_type": "code",
   "execution_count": 24,
   "metadata": {
    "collapsed": false
   },
   "outputs": [
    {
     "name": "stdout",
     "output_type": "stream",
     "text": [
      "{u'completed_in': 0.062,\n",
      " u'count': 40,\n",
      " u'max_id': 702081154921451520,\n",
      " u'max_id_str': u'702081154921451520',\n",
      " u'next_results': u'?max_id=701972224157360127&q=triumph%20comic&count=40&include_entities=1',\n",
      " u'query': u'triumph+comic',\n",
      " u'refresh_url': u'?since_id=702081154921451520&q=triumph%20comic&include_entities=1',\n",
      " u'since_id': 0,\n",
      " u'since_id_str': u'0'}\n"
     ]
    }
   ],
   "source": [
    "parameters = {\"q\": [\"triumph comic\"], \"count\":40}\n",
    "response = requests.get(\"https://api.twitter.com/1.1/search/tweets.json\",\n",
    "                        params = parameters,\n",
    "                        auth=oauth)\n",
    "\n",
    "from pprint import pprint\n",
    "pprint(response.json()['search_metadata'])"
   ]
  },
  {
   "cell_type": "code",
   "execution_count": 25,
   "metadata": {
    "collapsed": false
   },
   "outputs": [
    {
     "name": "stdout",
     "output_type": "stream",
     "text": [
      "PAGE 1\n",
      "702081154921451520 I liked a @YouTube video https://t.co/2soxhosXe6 Triumph the Insult Comic Dog Talks to Young Voters • Triumph on Hulu\n",
      "\n",
      "702062478327418880 RT @HuffingtonPost: Why the man behind \"Triumph, the Insult Comic Dog\" won't be making anti-gay jokes https://t.co/XYd0l5x8H2 https://t.co/…\n",
      "\n",
      "702059885668790272 i probs would've had mika's hair done if i didn't let my friend weasel me into watching triumph the insult comic dog stalk ted cruz\n",
      "\n",
      "702059329088843782 In an interview with HuffPost Live this week, the man behind \"Triumph the Insult Comic Dog\" recalled a time he'd written a sketch with an\n",
      "\n",
      "702044644994060288 I liked a @YouTube video https://t.co/JVP1nKTL3g Donald Trump Supporters Interviewed by Triumph the Insult Comic Dog • Triumph on\n",
      "\n",
      "702041840703422464 I liked a @YouTube video https://t.co/A45ByAJzLM Triumph the Insult Comic Dog Sends Fake Fox News Girls to Trump Rally • Triumph on\n",
      "\n",
      "702030420859195393 Re: Triumph the Insult Comic Dog talks to Young Voters https://t.co/fIAVtw7cSC #videogames #gaming\n",
      "\n",
      "702028402195300352 I liked a @YouTube video https://t.co/ddaXHzxzb7 Triumph the Insult Comic Dog's Ben Carson Social Experiment • Triumph on Hulu\n",
      "\n",
      "702025058512928768 RT @mcdonaldcomedy: Hilarious -&gt; Triumph the Insult Comic Dog Talks to Young Voters • Triumph on Hulu https://t.co/yrms53oUkY via @YouTube\n",
      "\n",
      "702023811395407872 Triumph the Insult Comic Dog at the Democratic Debate • Triumph on Hulu @Spriggan55 @answerAi3_  https://t.co/m2hDr7PPt9\n",
      "\n",
      "702023362290307072 Triumph the Insult Comic Dog sends women posing as Fox News Girls to GOP political events to ask some tough... https://t.co/aNTWgmdgp4\n",
      "\n",
      "702023359765164033 Triumph the Insult Comic Dog Sends Fake Fox News Girls to Trump Rally  Triumph on Hulu https://t.co/nMvTgKSgsK\n",
      "\n",
      "702020583261753344 Why 'Triumph The Insult Comic Dog' Won't Be Making Any Anti-Gay Jokes https://t.co/4WAwBsLlIQ\n",
      "\n",
      "702020097704120320 #ufosfacts Triumph the Insult Comic Dog Sends Fake Fox News Girls to Trump Rally Triumph on Hulu... https://t.co/24HdK07TZ2\n",
      "\n",
      "702020092150697984 DiscloseTVwww- Triumph the Insult Comic Dog Sends Fake Fox News Girls to Trump Rally Triumph on Hulu https://t.co/93k6D1sH4E\n",
      "\n",
      "702020090317832192 #ufosfacts Triumph the Insult Comic Dog Sends Fake Fox News Girls to Trump… https://t.co/9nPK8qNfq5 #ufos #ufosfacts https://t.co/dxNkKJad3C\n",
      "\n",
      "702012161246121984 Just watched the Triumph the Insult Comic Dog Election Special on Hulu and I need a face transplant from laughing so hard.\n",
      "\n",
      "702008378554355712 @TriumphICDHQ how can u censor great comedy? #MoreAmendments triumph the Insult Comic Dog Kicked Out of GOP Event https://t.co/mfkm9zVoqC\n",
      "\n",
      "702008131207823360 RT @HuffingtonPost: Why the man behind \"Triumph, the Insult Comic Dog\" won't be making anti-gay jokes https://t.co/XYd0l5x8H2 https://t.co/…\n",
      "\n",
      "702006080323330048 RT @nofm_radio: Triumph está haciendo de las suyas en las elecciones de EUA. No se lo pierda #porNoFM https://t.co/FqpfP223Ek https://t.co/…\n",
      "\n",
      "702004764159008768 Triumph está haciendo de las suyas en las elecciones de EUA. No se lo pierda #porNoFM https://t.co/FqpfP223Ek https://t.co/6v0tr3BwFV\n",
      "\n",
      "702003864917172224 RT @dbmillerphoto: Triumph the Insult Comic Dog Sends Fake Fox News Girls to Trump Rally • ... https://t.co/iaT7OL3H9x via @YouTube\n",
      "\n",
      "702003657739337728 Triumph the Insult Comic Dog is fucking awesome!\n",
      "\n",
      "702003429023940609 Triumph the Insult Comic Dog Sends Fake Fox News Girls to Trump Rally • ... https://t.co/iaT7OL3H9x via @YouTube\n",
      "\n",
      "702002912642240513 RT @PwnParrot: Donald Trump Supporters Interviewed by Triumph the Insult Comic Dog  • T... https://t.co/HzBiDnfwo2 via @YouTube\n",
      "\n",
      "701989288179662848 Re: Triumph the Insult Comic Dog talks to Young Voters https://t.co/vQSLsvfcG9 #videogames #gaming\n",
      "\n",
      "701986894796746752 RT @HuffPostLive: WATCH: Triumph The Insult Comic Dog talks about the 2016 election https://t.co/rqPGx41a0p\n",
      "\n",
      "701985746580860928 WATCH: Triumph The Insult Comic Dog talks about the 2016 election https://t.co/rqPGx41a0p\n",
      "\n",
      "701981782225190912 Triumph the Insult Comic Dog Sends Fake Fox News Girls to Trump Rally • ... https://t.co/70cU6W3Ucj via @YouTube\n",
      "\n",
      "701978797390876672 Triumph the Insult Comic Dog Sends Fake Fox News Girls to Trump Rally • ... https://t.co/xgZnP450Tk via @YouTube\n",
      "\n",
      "701977660054867968 Insult Comic Dog 이 왜 콜베르에? ( 위키에도 크리에이터 코난으로 돼 있군요 https://t.co/mVaF7WShJp ) Robert Smigel 게스트 출연인듯 https://t.co/6HQYV7EN4d\n",
      "\n",
      "701977574067593216 Triumph the Insult Comic Dog's #BenCarson Social Experiment • Triumph on Hulu #YouTube... https://t.co/Es3c2ZD2JL https://t.co/jhodDx49xe\n",
      "\n",
      "701975388361195520 Triumph the Insult Comic Dog Sends Fake Fox News Girls to Trump Rally • Triumph on Hulu https://t.co/1YTlDEFgUQ\n",
      "\n",
      "701975141450964993 Why the man behind \"Triumph, the Insult Comic Dog\" won't be making anti-gay jokes https://t.co/P5mu8pI4bj https://t.co/gUK9TFcvZz\n",
      "\n",
      "701975077143846913 RT @HuffingtonPost: Why the man behind \"Triumph, the Insult Comic Dog\" won't be making anti-gay jokes https://t.co/XYd0l5x8H2 https://t.co/…\n",
      "\n",
      "701974537185824769 Every time I see Triumph the Insult Comic Dog I like his schtick a little bit less.\n",
      "\n",
      "701974034179686400 RT @HuffingtonPost: Why the man behind \"Triumph, the Insult Comic Dog\" won't be making anti-gay jokes https://t.co/XYd0l5x8H2 https://t.co/…\n",
      "\n",
      "701972662038335495 RT @HuffingtonPost: Why the man behind \"Triumph, the Insult Comic Dog\" won't be making anti-gay jokes https://t.co/XYd0l5x8H2 https://t.co/…\n",
      "\n",
      "701972529041125376 RT @HuffingtonPost: Why the man behind \"Triumph, the Insult Comic Dog\" won't be making anti-gay jokes https://t.co/XYd0l5x8H2 https://t.co/…\n",
      "\n",
      "701972224157360128 RT @HuffingtonPost: Why the man behind \"Triumph, the Insult Comic Dog\" won't be making anti-gay jokes https://t.co/XYd0l5x8H2 https://t.co/…\n",
      "\n"
     ]
    }
   ],
   "source": [
    "tweets = response.json()['statuses']\n",
    "\n",
    "print 'PAGE 1'\n",
    "for tweet in tweets:\n",
    "    print tweet['id'], tweet['text']\n",
    "    print"
   ]
  },
  {
   "cell_type": "code",
   "execution_count": 26,
   "metadata": {
    "collapsed": false
   },
   "outputs": [
    {
     "name": "stdout",
     "output_type": "stream",
     "text": [
      "PAGE 2\n",
      "HuffingtonPost: Why the man behind \"Triumph, the Insult Comic Dog\" won't be making anti-gay jokes … https://t.co/Xa5jWmCUhf\n",
      "\n",
      "RT @HuffingtonPost: Why the man behind \"Triumph, the Insult Comic Dog\" won't be making anti-gay jokes https://t.co/XYd0l5x8H2 https://t.co/…\n",
      "\n",
      "RT @HuffingtonPost: Why the man behind \"Triumph, the Insult Comic Dog\" won't be making anti-gay jokes https://t.co/XYd0l5x8H2 https://t.co/…\n",
      "\n",
      "RT @HuffingtonPost: Why the man behind \"Triumph, the Insult Comic Dog\" won't be making anti-gay jokes https://t.co/XYd0l5x8H2 https://t.co/…\n",
      "\n",
      "RT @HuffingtonPost: Why the man behind \"Triumph, the Insult Comic Dog\" won't be making anti-gay jokes https://t.co/XYd0l5x8H2 https://t.co/…\n",
      "\n",
      "RT @HuffingtonPost: Why the man behind \"Triumph, the Insult Comic Dog\" won't be making anti-gay jokes https://t.co/XYd0l5x8H2 https://t.co/…\n",
      "\n",
      "RT @HuffingtonPost: Why the man behind \"Triumph, the Insult Comic Dog\" won't be making anti-gay jokes https://t.co/XYd0l5x8H2 https://t.co/…\n",
      "\n",
      "RT @HuffingtonPost: Why the man behind \"Triumph, the Insult Comic Dog\" won't be making anti-gay jokes https://t.co/XYd0l5x8H2 https://t.co/…\n",
      "\n",
      "RT @HuffingtonPost: Why the man behind \"Triumph, the Insult Comic Dog\" won't be making anti-gay jokes https://t.co/XYd0l5x8H2 https://t.co/…\n",
      "\n",
      "Why the man behind \"Triumph, the Insult Comic Dog\" won't be making anti-gay jokes https://t.co/XYd0l5x8H2 https://t.co/4wvOJNAAvJ\n",
      "\n",
      "I liked a @YouTube video https://t.co/nnBy24nEcq Triumph the Insult Comic Dog at the Democratic Debate • Triumph on Hulu\n",
      "\n",
      "I liked a @YouTube video https://t.co/dTglFVzRQx Triumph the Insult Comic Dog Mentors Mike Huckabee • Triumph on Hulu\n",
      "\n",
      "RT @nofm_radio: ¿Ya vieron lo que @TriumphICDHQ está haciendo sobre las elecciones en EUA?Es genial.#porNoFM https://t.co/FqpfP223Ek https:…\n",
      "\n",
      "I liked a @YouTube video https://t.co/iRx0K26E3e Donald Trump Supporters Interviewed by Triumph the Insult Comic Dog • Triumph on\n",
      "\n",
      "VIDEO: Triumph The Insult Comic Dog Talks Presidential Election on LATE SHOW... https://t.co/PXYiYvKFkr https://t.co/sZSJIyQpsq\n",
      "\n",
      "Why The Man Behind Triumph The Insult Comic Dog Won't Tell Gay Jokes https://t.co/QMV6Le30HA\n",
      "\n",
      "RT @nofm_radio: ¿Ya vieron lo que @TriumphICDHQ está haciendo sobre las elecciones en EUA?Es genial.#porNoFM https://t.co/FqpfP223Ek https:…\n",
      "\n",
      "seriously though this triumph the insult comic dog 2016 politics special is amazing. #allThePaddingWeCouldFind\n",
      "\n",
      "RT @nofm_radio: ¿Ya vieron lo que @TriumphICDHQ está haciendo sobre las elecciones en EUA?Es genial.#porNoFM https://t.co/FqpfP223Ek https:…\n",
      "\n",
      "RT @sidescrollers_O: Re: Triumph the Insult Comic Dog talks to Young Voters https://t.co/3PT9DbOOHE #videogames #gaming\n",
      "\n",
      "Re: Triumph the Insult Comic Dog talks to Young Voters https://t.co/3PT9DbOOHE #videogames #gaming\n",
      "\n",
      "I liked a @YouTube video https://t.co/cBIwFHejtW Triumph the insult comic dog (Star Wars) subtitulado\n",
      "\n",
      "RT @nofm_radio: ¿Ya vieron lo que @TriumphICDHQ está haciendo sobre las elecciones en EUA?Es genial.#porNoFM https://t.co/FqpfP223Ek https:…\n",
      "\n",
      "RT @nofm_radio: ¿Ya vieron lo que @TriumphICDHQ está haciendo sobre las elecciones en EUA?Es genial.#porNoFM https://t.co/FqpfP223Ek https:…\n",
      "\n",
      "¿Ya vieron lo que @TriumphICDHQ está haciendo sobre las elecciones en EUA?Es genial.#porNoFM https://t.co/FqpfP223Ek https://t.co/5ZYnFbXBh6\n",
      "\n",
      "I added a video to a @YouTube playlist https://t.co/JmgY0gTup1 Triumph the Insult Comic Dog Hangs Out With Alan Dershowitz and The\n",
      "\n",
      "Stephen Colbert interviews Triumph the Insult Comic Dog https://t.co/Rg8YJCmPeM #atheist #atheism\n",
      "\n",
      "Just a heads up that the Triumph The Insult Comic Dog Election Special is next level great. HULU\n",
      "\n",
      "https://t.co/d9jHDSKKgX Stephen Colbert interviews Triumph the Insult Comic Dog https://t.co/2fiVvSiLpK\n",
      "\n",
      "Triumph the Insult Comic Dog Kicked Out of GOP Event for New Hampshire P... https://t.co/zm0vU0v15K via @YouTube\n",
      "\n",
      "Liberal Stick In The Mud\n",
      "\n",
      "\"@FoxNews! LOL! Triumph the Insult Comic Dog Sends Fake Fox News Girls to Trump Rally • ... https://t.co/dlsr9LlNle via @YouTube\n",
      "\n",
      "@RealGilbert First there was Jack E. Leonard, Rickles, Rodney, and then Triumph the Insult Comic Dog. Hope you saw election special on Hulu.\n",
      "\n",
      "I liked a @YouTube video https://t.co/cr7RyRPM5M Triumph the Insult Comic Dog Talks to Young Voters • Triumph on Hulu\n",
      "\n",
      "I liked a @YouTube video https://t.co/KK7orCaXLX Donald Trump Supporters Interviewed by Triumph the Insult Comic Dog • Triumph on\n",
      "\n",
      "ARISH is in the new Triumph the Insult Comic Dog 2016 Election Year Special! Hear all about that and more on this... https://t.co/VTwfE38OTJ\n",
      "\n",
      "Retweet if you want Triumph the insult comic dog to interview @realDonaldTrump ,make it happen @kristapley @TriumphICDHQ @ConanOBrien #trump\n",
      "\n",
      "Y la mejor cobertura de las elecciones del EUA es de @TriumphICDHQ.Comedia fina #porNoFM https://t.co/FqpfP223Ek https://t.co/CuuFhFAe5v\n",
      "\n",
      "Triumph, the Insult Comic Dog at the American Idol Audition - Part 1 https://t.co/5kNxukbWry via @YouTube\n",
      "\n",
      "Re: Triumph the Insult Comic Dog talks to Young Voters https://t.co/hZ43QeVqoY #videogames #gaming\n",
      "\n",
      "Triumph the Insult Comic Dog talks to Young Voters https://t.co/lVAJU7WHoX #videogames #gaming\n",
      "\n"
     ]
    }
   ],
   "source": [
    "search_url = \"https://api.twitter.com/1.1/search/tweets.json\"\n",
    "next_page_url = search_url + response.json()['search_metadata']['next_results']\n",
    "\n",
    "response = requests.get(next_page_url, auth=oauth)\n",
    "\n",
    "print 'PAGE 2'\n",
    "for tweet in response.json()['statuses']:\n",
    "    print tweet['text']\n",
    "    print"
   ]
  },
  {
   "cell_type": "markdown",
   "metadata": {
    "collapsed": false
   },
   "source": [
    "#### STREAMING API ~ TWEEPY"
   ]
  },
  {
   "cell_type": "code",
   "execution_count": 34,
   "metadata": {
    "collapsed": false
   },
   "outputs": [],
   "source": [
    "# pip install tweepy\n",
    "import tweepy\n",
    "import pandas as pd\n",
    "\n",
    "auth = tweepy.OAuthHandler(config[\"consumer_key\"],\n",
    "                           config[\"consumer_secret\"])\n",
    "auth.set_access_token(config[\"access_token\"],\n",
    "                      config[\"access_token_secret\"])\n",
    "\n",
    "api=tweepy.API(auth)"
   ]
  },
  {
   "cell_type": "code",
   "execution_count": 35,
   "metadata": {
    "collapsed": false
   },
   "outputs": [
    {
     "name": "stdout",
     "output_type": "stream",
     "text": [
      "Status(contributors=None, truncated=False, text=u'Troy was in vintage super bowl highlights. Serving water.', is_quote_status=False, in_reply_to_status_id=None, id=701995342661885953, favorite_count=0, _api=<tweepy.api.API object at 0x1076f0410>, author=User(follow_request_sent=False, has_extended_profile=True, profile_use_background_image=True, _json={u'follow_request_sent': False, u'has_extended_profile': True, u'profile_use_background_image': True, u'default_profile_image': False, u'id': 406617622, u'profile_background_image_url_https': u'https://pbs.twimg.com/profile_background_images/734935283/91afecafff0e6015f1cfcdf8df112833.jpeg', u'verified': False, u'profile_text_color': u'1955CC', u'profile_image_url_https': u'https://pbs.twimg.com/profile_images/696586151407329281/MVyeKPyq_normal.jpg', u'profile_sidebar_fill_color': u'0D0E0F', u'entities': {u'description': {u'urls': []}}, u'followers_count': 382, u'profile_sidebar_border_color': u'FFFFFF', u'id_str': u'406617622', u'profile_background_color': u'82ABBF', u'listed_count': 2, u'is_translation_enabled': False, u'utc_offset': -18000, u'statuses_count': 17263, u'description': u'', u'friends_count': 218, u'location': u'Atlanta, Ga', u'profile_link_color': u'B30024', u'profile_image_url': u'http://pbs.twimg.com/profile_images/696586151407329281/MVyeKPyq_normal.jpg', u'following': False, u'geo_enabled': False, u'profile_banner_url': u'https://pbs.twimg.com/profile_banners/406617622/1454825561', u'profile_background_image_url': u'http://pbs.twimg.com/profile_background_images/734935283/91afecafff0e6015f1cfcdf8df112833.jpeg', u'screen_name': u'Deed_Died_Dope', u'lang': u'en', u'profile_background_tile': True, u'favourites_count': 384, u'name': u'Aidid Byer', u'notifications': False, u'url': None, u'created_at': u'Sun Nov 06 23:28:24 +0000 2011', u'contributors_enabled': False, u'time_zone': u'Eastern Time (US & Canada)', u'protected': False, u'default_profile': False, u'is_translator': False}, time_zone=u'Eastern Time (US & Canada)', id=406617622, _api=<tweepy.api.API object at 0x1076f0410>, verified=False, profile_text_color=u'1955CC', profile_image_url_https=u'https://pbs.twimg.com/profile_images/696586151407329281/MVyeKPyq_normal.jpg', profile_sidebar_fill_color=u'0D0E0F', is_translator=False, geo_enabled=False, entities={u'description': {u'urls': []}}, followers_count=382, protected=False, id_str=u'406617622', default_profile_image=False, listed_count=2, lang=u'en', utc_offset=-18000, statuses_count=17263, description=u'', friends_count=218, profile_link_color=u'B30024', profile_image_url=u'http://pbs.twimg.com/profile_images/696586151407329281/MVyeKPyq_normal.jpg', notifications=False, profile_background_image_url_https=u'https://pbs.twimg.com/profile_background_images/734935283/91afecafff0e6015f1cfcdf8df112833.jpeg', profile_background_color=u'82ABBF', profile_banner_url=u'https://pbs.twimg.com/profile_banners/406617622/1454825561', profile_background_image_url=u'http://pbs.twimg.com/profile_background_images/734935283/91afecafff0e6015f1cfcdf8df112833.jpeg', name=u'Aidid Byer', is_translation_enabled=False, profile_background_tile=True, favourites_count=384, screen_name=u'Deed_Died_Dope', url=None, created_at=datetime.datetime(2011, 11, 6, 23, 28, 24), contributors_enabled=False, location=u'Atlanta, Ga', profile_sidebar_border_color=u'FFFFFF', default_profile=False, following=False), _json={u'contributors': None, u'truncated': False, u'text': u'Troy was in vintage super bowl highlights. Serving water.', u'is_quote_status': False, u'in_reply_to_status_id': None, u'id': 701995342661885953, u'favorite_count': 0, u'source': u'<a href=\"http://twitter.com/download/iphone\" rel=\"nofollow\">Twitter for iPhone</a>', u'retweeted': False, u'coordinates': None, u'entities': {u'symbols': [], u'user_mentions': [], u'hashtags': [], u'urls': []}, u'in_reply_to_screen_name': None, u'in_reply_to_user_id': None, u'retweet_count': 0, u'id_str': u'701995342661885953', u'favorited': False, u'user': {u'follow_request_sent': False, u'has_extended_profile': True, u'profile_use_background_image': True, u'default_profile_image': False, u'id': 406617622, u'profile_background_image_url_https': u'https://pbs.twimg.com/profile_background_images/734935283/91afecafff0e6015f1cfcdf8df112833.jpeg', u'verified': False, u'profile_text_color': u'1955CC', u'profile_image_url_https': u'https://pbs.twimg.com/profile_images/696586151407329281/MVyeKPyq_normal.jpg', u'profile_sidebar_fill_color': u'0D0E0F', u'entities': {u'description': {u'urls': []}}, u'followers_count': 382, u'profile_sidebar_border_color': u'FFFFFF', u'id_str': u'406617622', u'profile_background_color': u'82ABBF', u'listed_count': 2, u'is_translation_enabled': False, u'utc_offset': -18000, u'statuses_count': 17263, u'description': u'', u'friends_count': 218, u'location': u'Atlanta, Ga', u'profile_link_color': u'B30024', u'profile_image_url': u'http://pbs.twimg.com/profile_images/696586151407329281/MVyeKPyq_normal.jpg', u'following': False, u'geo_enabled': False, u'profile_banner_url': u'https://pbs.twimg.com/profile_banners/406617622/1454825561', u'profile_background_image_url': u'http://pbs.twimg.com/profile_background_images/734935283/91afecafff0e6015f1cfcdf8df112833.jpeg', u'screen_name': u'Deed_Died_Dope', u'lang': u'en', u'profile_background_tile': True, u'favourites_count': 384, u'name': u'Aidid Byer', u'notifications': False, u'url': None, u'created_at': u'Sun Nov 06 23:28:24 +0000 2011', u'contributors_enabled': False, u'time_zone': u'Eastern Time (US & Canada)', u'protected': False, u'default_profile': False, u'is_translator': False}, u'geo': None, u'in_reply_to_user_id_str': None, u'lang': u'en', u'created_at': u'Tue Feb 23 05:01:46 +0000 2016', u'in_reply_to_status_id_str': None, u'place': None, u'metadata': {u'iso_language_code': u'en', u'result_type': u'recent'}}, coordinates=None, entities={u'symbols': [], u'user_mentions': [], u'hashtags': [], u'urls': []}, in_reply_to_screen_name=None, id_str=u'701995342661885953', retweet_count=0, in_reply_to_user_id=None, favorited=False, source_url=u'http://twitter.com/download/iphone', user=User(follow_request_sent=False, has_extended_profile=True, profile_use_background_image=True, _json={u'follow_request_sent': False, u'has_extended_profile': True, u'profile_use_background_image': True, u'default_profile_image': False, u'id': 406617622, u'profile_background_image_url_https': u'https://pbs.twimg.com/profile_background_images/734935283/91afecafff0e6015f1cfcdf8df112833.jpeg', u'verified': False, u'profile_text_color': u'1955CC', u'profile_image_url_https': u'https://pbs.twimg.com/profile_images/696586151407329281/MVyeKPyq_normal.jpg', u'profile_sidebar_fill_color': u'0D0E0F', u'entities': {u'description': {u'urls': []}}, u'followers_count': 382, u'profile_sidebar_border_color': u'FFFFFF', u'id_str': u'406617622', u'profile_background_color': u'82ABBF', u'listed_count': 2, u'is_translation_enabled': False, u'utc_offset': -18000, u'statuses_count': 17263, u'description': u'', u'friends_count': 218, u'location': u'Atlanta, Ga', u'profile_link_color': u'B30024', u'profile_image_url': u'http://pbs.twimg.com/profile_images/696586151407329281/MVyeKPyq_normal.jpg', u'following': False, u'geo_enabled': False, u'profile_banner_url': u'https://pbs.twimg.com/profile_banners/406617622/1454825561', u'profile_background_image_url': u'http://pbs.twimg.com/profile_background_images/734935283/91afecafff0e6015f1cfcdf8df112833.jpeg', u'screen_name': u'Deed_Died_Dope', u'lang': u'en', u'profile_background_tile': True, u'favourites_count': 384, u'name': u'Aidid Byer', u'notifications': False, u'url': None, u'created_at': u'Sun Nov 06 23:28:24 +0000 2011', u'contributors_enabled': False, u'time_zone': u'Eastern Time (US & Canada)', u'protected': False, u'default_profile': False, u'is_translator': False}, time_zone=u'Eastern Time (US & Canada)', id=406617622, _api=<tweepy.api.API object at 0x1076f0410>, verified=False, profile_text_color=u'1955CC', profile_image_url_https=u'https://pbs.twimg.com/profile_images/696586151407329281/MVyeKPyq_normal.jpg', profile_sidebar_fill_color=u'0D0E0F', is_translator=False, geo_enabled=False, entities={u'description': {u'urls': []}}, followers_count=382, protected=False, id_str=u'406617622', default_profile_image=False, listed_count=2, lang=u'en', utc_offset=-18000, statuses_count=17263, description=u'', friends_count=218, profile_link_color=u'B30024', profile_image_url=u'http://pbs.twimg.com/profile_images/696586151407329281/MVyeKPyq_normal.jpg', notifications=False, profile_background_image_url_https=u'https://pbs.twimg.com/profile_background_images/734935283/91afecafff0e6015f1cfcdf8df112833.jpeg', profile_background_color=u'82ABBF', profile_banner_url=u'https://pbs.twimg.com/profile_banners/406617622/1454825561', profile_background_image_url=u'http://pbs.twimg.com/profile_background_images/734935283/91afecafff0e6015f1cfcdf8df112833.jpeg', name=u'Aidid Byer', is_translation_enabled=False, profile_background_tile=True, favourites_count=384, screen_name=u'Deed_Died_Dope', url=None, created_at=datetime.datetime(2011, 11, 6, 23, 28, 24), contributors_enabled=False, location=u'Atlanta, Ga', profile_sidebar_border_color=u'FFFFFF', default_profile=False, following=False), geo=None, in_reply_to_user_id_str=None, lang=u'en', created_at=datetime.datetime(2016, 2, 23, 5, 1, 46), in_reply_to_status_id_str=None, place=None, source=u'Twitter for iPhone', retweeted=False, metadata={u'iso_language_code': u'en', u'result_type': u'recent'})\n"
     ]
    }
   ],
   "source": [
    "\n",
    "max_tweets=1\n",
    "\n",
    "#Tweepy Cursor handles pagination .. \n",
    "\n",
    "for tweet in tweepy.Cursor(api.search,q=[\"Troy water\"]).items(max_tweets):\n",
    "    print tweet"
   ]
  },
  {
   "cell_type": "code",
   "execution_count": 41,
   "metadata": {
    "collapsed": false
   },
   "outputs": [],
   "source": [
    "results=[]\n",
    "\n",
    "\n",
    "for tweet in tweepy.Cursor(api.search,q=\"Troy water\").items(10):\n",
    "    results.append(tweet)"
   ]
  },
  {
   "cell_type": "markdown",
   "metadata": {},
   "source": [
    "#### Import tweets into Pandas"
   ]
  },
  {
   "cell_type": "code",
   "execution_count": 36,
   "metadata": {
    "collapsed": false
   },
   "outputs": [],
   "source": [
    "#  import pandas as pd\n",
    "def structure_results(results):\n",
    "    id_list=[tweet.id for tweet in results]\n",
    "    data=pd.DataFrame(id_list,columns=['id'])\n",
    "    \n",
    "    data[\"text\"]= [tweet.text.encode('utf-8') for tweet in results]\n",
    "    data[\"datetime\"]=[tweet.created_at for tweet in results]\n",
    "    data[\"Location\"]=[tweet.place for tweet in results]\n",
    "    \n",
    "    return data"
   ]
  },
  {
   "cell_type": "code",
   "execution_count": 37,
   "metadata": {
    "collapsed": false
   },
   "outputs": [
    {
     "data": {
      "text/html": [
       "<div style=\"max-height:1000px;max-width:1500px;overflow:auto;\">\n",
       "<table border=\"1\" class=\"dataframe\">\n",
       "  <thead>\n",
       "    <tr style=\"text-align: right;\">\n",
       "      <th></th>\n",
       "      <th>id</th>\n",
       "      <th>text</th>\n",
       "      <th>datetime</th>\n",
       "      <th>Location</th>\n",
       "    </tr>\n",
       "  </thead>\n",
       "  <tbody>\n",
       "    <tr>\n",
       "      <th>0</th>\n",
       "      <td>701995342661885953</td>\n",
       "      <td>Troy was in vintage super bowl highlights. Ser...</td>\n",
       "      <td>2016-02-23 05:01:46</td>\n",
       "      <td>None</td>\n",
       "    </tr>\n",
       "    <tr>\n",
       "      <th>1</th>\n",
       "      <td>701984688559230980</td>\n",
       "      <td>@sydneykiss I'll get the water my damn self</td>\n",
       "      <td>2016-02-23 04:19:26</td>\n",
       "      <td>None</td>\n",
       "    </tr>\n",
       "    <tr>\n",
       "      <th>2</th>\n",
       "      <td>701983829813231616</td>\n",
       "      <td>@sydneykiss who the fuck leaves the bottled wa...</td>\n",
       "      <td>2016-02-23 04:16:01</td>\n",
       "      <td>None</td>\n",
       "    </tr>\n",
       "    <tr>\n",
       "      <th>3</th>\n",
       "      <td>701973764473376768</td>\n",
       "      <td>RT @ModernizedHippy: Must be nice to live by t...</td>\n",
       "      <td>2016-02-23 03:36:02</td>\n",
       "      <td>None</td>\n",
       "    </tr>\n",
       "    <tr>\n",
       "      <th>4</th>\n",
       "      <td>701960776941109248</td>\n",
       "      <td>RT @CastilloSean2: Understanding the Concept o...</td>\n",
       "      <td>2016-02-23 02:44:25</td>\n",
       "      <td>None</td>\n",
       "    </tr>\n",
       "  </tbody>\n",
       "</table>\n",
       "</div>"
      ],
      "text/plain": [
       "                   id                                               text  \\\n",
       "0  701995342661885953  Troy was in vintage super bowl highlights. Ser...   \n",
       "1  701984688559230980        @sydneykiss I'll get the water my damn self   \n",
       "2  701983829813231616  @sydneykiss who the fuck leaves the bottled wa...   \n",
       "3  701973764473376768  RT @ModernizedHippy: Must be nice to live by t...   \n",
       "4  701960776941109248  RT @CastilloSean2: Understanding the Concept o...   \n",
       "\n",
       "             datetime Location  \n",
       "0 2016-02-23 05:01:46     None  \n",
       "1 2016-02-23 04:19:26     None  \n",
       "2 2016-02-23 04:16:01     None  \n",
       "3 2016-02-23 03:36:02     None  \n",
       "4 2016-02-23 02:44:25     None  "
      ]
     },
     "execution_count": 37,
     "metadata": {},
     "output_type": "execute_result"
    }
   ],
   "source": [
    "data=structure_results(results)\n",
    "data.head()"
   ]
  },
  {
   "cell_type": "markdown",
   "metadata": {},
   "source": [
    "#### Import Tweets into MongoDB"
   ]
  },
  {
   "cell_type": "code",
   "execution_count": 53,
   "metadata": {
    "collapsed": false
   },
   "outputs": [],
   "source": [
    "\n",
    "import json\n",
    "from pymongo import MongoClient\n",
    "\n",
    "\n",
    "client = MongoClient()\n",
    "db = client.legislation\n",
    "# Our collection: \n",
    "tweets = db.new_tweets"
   ]
  },
  {
   "cell_type": "code",
   "execution_count": 54,
   "metadata": {
    "collapsed": false
   },
   "outputs": [],
   "source": [
    "for tweet in results:\n",
    "    data={}\n",
    "    data['tweet']=tweet.text.encode('utf-8') \n",
    "    data['datetime']=tweet.created_at\n",
    "    tweets.insert(data)"
   ]
  },
  {
   "cell_type": "code",
   "execution_count": 57,
   "metadata": {
    "collapsed": false
   },
   "outputs": [
    {
     "data": {
      "text/plain": [
       "{u'_id': ObjectId('56cc3bdd24b5a555771f36d8'),\n",
       " u'datetime': datetime.datetime(2016, 2, 23, 5, 1, 46),\n",
       " u'tweet': u'Troy was in vintage super bowl highlights. Serving water.'}"
      ]
     },
     "execution_count": 57,
     "metadata": {},
     "output_type": "execute_result"
    }
   ],
   "source": [
    "tweets.find_one()"
   ]
  },
  {
   "cell_type": "code",
   "execution_count": null,
   "metadata": {
    "collapsed": true
   },
   "outputs": [],
   "source": []
  }
 ],
 "metadata": {
  "kernelspec": {
   "display_name": "Python 2",
   "language": "python",
   "name": "python2"
  },
  "language_info": {
   "codemirror_mode": {
    "name": "ipython",
    "version": 2
   },
   "file_extension": ".py",
   "mimetype": "text/x-python",
   "name": "python",
   "nbconvert_exporter": "python",
   "pygments_lexer": "ipython2",
   "version": "2.7.11"
  }
 },
 "nbformat": 4,
 "nbformat_minor": 0
}
