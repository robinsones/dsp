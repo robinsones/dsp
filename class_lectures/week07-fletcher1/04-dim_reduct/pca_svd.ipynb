{
 "cells": [
  {
   "cell_type": "markdown",
   "metadata": {},
   "source": [
    "# PCA and SVD\n",
    "\n",
    "Mathematical Coding"
   ]
  },
  {
   "cell_type": "code",
   "execution_count": 1,
   "metadata": {
    "collapsed": false
   },
   "outputs": [],
   "source": [
    "import numpy as np\n",
    "import matplotlib.pyplot as plt\n",
    "%matplotlib inline"
   ]
  },
  {
   "cell_type": "markdown",
   "metadata": {},
   "source": [
    "Set up some data and look at it a little."
   ]
  },
  {
   "cell_type": "code",
   "execution_count": 60,
   "metadata": {
    "collapsed": false
   },
   "outputs": [
    {
     "data": {
      "text/plain": [
       "<matplotlib.collections.PathCollection at 0x10e42f510>"
      ]
     },
     "execution_count": 60,
     "metadata": {},
     "output_type": "execute_result"
    },
    {
     "data": {
      "image/png": "[encoded data removed]",
      "text/plain": [
       "<matplotlib.figure.Figure at 0x1121a4490>"
      ]
     },
     "metadata": {},
     "output_type": "display_data"
    }
   ],
   "source": [
    "x1 = np.random.normal(loc=40, scale=8, size=100)\n",
    "x2 = x1 - 10 + np.random.normal(scale=4, size=100)\n",
    "plt.scatter(x1, x2)"
   ]
  },
  {
   "cell_type": "code",
   "execution_count": 61,
   "metadata": {
    "collapsed": false
   },
   "outputs": [
    {
     "data": {
      "text/plain": [
       "(100, 2)"
      ]
     },
     "execution_count": 61,
     "metadata": {},
     "output_type": "execute_result"
    }
   ],
   "source": [
    "X = np.column_stack((x1, x2))\n",
    "X.shape"
   ]
  },
  {
   "cell_type": "code",
   "execution_count": 62,
   "metadata": {
    "collapsed": false
   },
   "outputs": [
    {
     "data": {
      "text/plain": [
       "array([ 39.6139664 ,  29.95696949])"
      ]
     },
     "execution_count": 62,
     "metadata": {},
     "output_type": "execute_result"
    }
   ],
   "source": [
    "X.mean(axis=0)"
   ]
  },
  {
   "cell_type": "code",
   "execution_count": 82,
   "metadata": {
    "collapsed": false
   },
   "outputs": [],
   "source": [
    "X_centered = X - X.mean(axis=0)"
   ]
  },
  {
   "cell_type": "code",
   "execution_count": 84,
   "metadata": {
    "collapsed": false
   },
   "outputs": [
    {
     "data": {
      "text/plain": [
       "array([[ 55.79200879,  57.25359497],\n",
       "       [ 57.25359497,  75.06442926]])"
      ]
     },
     "execution_count": 84,
     "metadata": {},
     "output_type": "execute_result"
    }
   ],
   "source": [
    "np.cov(X, rowvar=0)"
   ]
  },
  {
   "cell_type": "code",
   "execution_count": 65,
   "metadata": {
    "collapsed": false
   },
   "outputs": [
    {
     "data": {
      "text/plain": [
       "array([[ 55.79200879,  57.25359497],\n",
       "       [ 57.25359497,  75.06442926]])"
      ]
     },
     "execution_count": 65,
     "metadata": {},
     "output_type": "execute_result"
    }
   ],
   "source": [
    "np.cov(X_centered,rowvar=0)   # illustrating, we really did subtract the mean"
   ]
  },
  {
   "cell_type": "code",
   "execution_count": 67,
   "metadata": {
    "collapsed": false
   },
   "outputs": [
    {
     "data": {
      "text/plain": [
       "array([[ 5523.40887003,  5668.10590199],\n",
       "       [ 5668.10590199,  7431.37849648]])"
      ]
     },
     "execution_count": 67,
     "metadata": {},
     "output_type": "execute_result"
    }
   ],
   "source": [
    "# an alternate way to calculate the covariance matrix\n",
    "np.dot(X_centered.T, X_centered)"
   ]
  },
  {
   "cell_type": "code",
   "execution_count": 68,
   "metadata": {
    "collapsed": false
   },
   "outputs": [
    {
     "data": {
      "text/plain": [
       "array([[ 55.79200879,  57.25359497],\n",
       "       [ 57.25359497,  75.06442926]])"
      ]
     },
     "execution_count": 68,
     "metadata": {},
     "output_type": "execute_result"
    }
   ],
   "source": [
    "np.dot(X_centered.T, X_centered)/99 # unimportant scaling"
   ]
  },
  {
   "cell_type": "markdown",
   "metadata": {},
   "source": [
    "### PCA\n",
    "\n",
    "We have data in $X$.\n",
    "\n",
    "$C$ is the covariance matrix of $X$.\n",
    "\n",
    "The eigenvalue decomposition of $C$ is:\n",
    "\n",
    "$det(C - \\lambda*I)=0$\n",
    "\n",
    "$det\\begin{bmatrix}(55.79200879- \\lambda), 57.25359497\\\\57.25359497, (75.06442926-\\lambda)\\end{bmatrix}=0$\n",
    "\n",
    "The eigenvalues $\\lambda$ represent the amount of variance explained by the dimension represented by their eigenvector $v$.   Principle components are eigenvectors with the largest eigenvalues."
   ]
  },
  {
   "cell_type": "markdown",
   "metadata": {},
   "source": [
    "Another look at EigenValue Composition:\n",
    "\n",
    "$Q \\Lambda Q^T = C$\n",
    "\n",
    "Where the columns of $Q$ are eigenvectors $v$ and the diagonal elements of $\\Lambda$ are eigenvalues $\\lambda$.\n",
    "\n",
    "$C v = \\lambda v$\n",
    "\n",
    "The eigenvalues $\\lambda$ represent the amount of variance explained by the dimension represented by their eigenvector $v$."
   ]
  },
  {
   "cell_type": "code",
   "execution_count": 103,
   "metadata": {
    "collapsed": false
   },
   "outputs": [
    {
     "name": "stdout",
     "output_type": "stream",
     "text": [
      "[[-0.76353557 -0.64576577]\n",
      " [ 0.64576577 -0.76353557]]\n"
     ]
    }
   ],
   "source": [
    "# Compute the eigenvalues and right eigenvectors of a square array.\n",
    "\n",
    "eig_vals, Q = np.linalg.eig(np.cov(X_centered, rowvar=0)*99)\n",
    "\n",
    "# what do we notice about our eigenvectors ?\n",
    "print Q"
   ]
  },
  {
   "cell_type": "code",
   "execution_count": 89,
   "metadata": {
    "collapsed": false
   },
   "outputs": [],
   "source": [
    "# just to note:  a special feature of orthonormal matrices\n",
    "#from scipy import linalg\n",
    "#inv = linalg.inv(Q)\n",
    "#print inv"
   ]
  },
  {
   "cell_type": "code",
   "execution_count": 91,
   "metadata": {
    "collapsed": false
   },
   "outputs": [
    {
     "data": {
      "text/plain": [
       "array([[ 5523.40887003,  5668.10590199],\n",
       "       [ 5668.10590199,  7431.37849648]])"
      ]
     },
     "execution_count": 91,
     "metadata": {},
     "output_type": "execute_result"
    }
   ],
   "source": [
    "#Q dot (Diagonal of Eigenvalues dot (transpose of v)\n",
    "\n",
    "# calculating our Covariance matrix (back) : using QΛQT\n",
    "np.dot(Q, np.dot(np.diag(eig_vals), Q.T))"
   ]
  },
  {
   "cell_type": "code",
   "execution_count": 76,
   "metadata": {
    "collapsed": false
   },
   "outputs": [
    {
     "data": {
      "text/plain": [
       "array([[ 5523.40887003,  5668.10590199],\n",
       "       [ 5668.10590199,  7431.37849648]])"
      ]
     },
     "execution_count": 76,
     "metadata": {},
     "output_type": "execute_result"
    }
   ],
   "source": [
    "# sanity check ~ with our original covariance matrix\n",
    "np.cov(X_centered, rowvar=0)*99"
   ]
  },
  {
   "cell_type": "code",
   "execution_count": 146,
   "metadata": {
    "collapsed": false
   },
   "outputs": [
    {
     "name": "stdout",
     "output_type": "stream",
     "text": [
      "[[-0.64576577 -0.76353557]\n",
      " [-0.76353557  0.64576577]]\n"
     ]
    }
   ],
   "source": [
    "# order eigenvectors by eig_vals\n",
    "ordered = sorted(zip(eig_vals, Q.T), reverse=True)\n",
    "eig_vals = np.array([_[0] for _ in ordered])\n",
    "Q = np.column_stack((_[1] for _ in ordered))\n",
    "\n",
    "print Q"
   ]
  },
  {
   "cell_type": "code",
   "execution_count": 150,
   "metadata": {
    "collapsed": false
   },
   "outputs": [],
   "source": [
    "# what are we doing here ?\n",
    "X_transformed = np.dot(Q[:, 0].reshape(2, 1).T, X_centered.T)"
   ]
  },
  {
   "cell_type": "code",
   "execution_count": 149,
   "metadata": {
    "collapsed": false
   },
   "outputs": [
    {
     "data": {
      "text/plain": [
       "(100, 2)"
      ]
     },
     "execution_count": 149,
     "metadata": {},
     "output_type": "execute_result"
    }
   ],
   "source": [
    "X_centered.shape"
   ]
  },
  {
   "cell_type": "code",
   "execution_count": 148,
   "metadata": {
    "collapsed": false
   },
   "outputs": [
    {
     "data": {
      "text/plain": [
       "(2, 1)"
      ]
     },
     "execution_count": 148,
     "metadata": {},
     "output_type": "execute_result"
    }
   ],
   "source": [
    "Q[0].reshape(2,1).shape"
   ]
  },
  {
   "cell_type": "code",
   "execution_count": 144,
   "metadata": {
    "collapsed": false
   },
   "outputs": [
    {
     "data": {
      "text/plain": [
       "(1, 100)"
      ]
     },
     "execution_count": 144,
     "metadata": {},
     "output_type": "execute_result"
    }
   ],
   "source": [
    "test=Q[:, 0].reshape(2, 1)\n",
    "test.shape\n",
    "X_transformed.shape"
   ]
  },
  {
   "cell_type": "code",
   "execution_count": 109,
   "metadata": {
    "collapsed": false
   },
   "outputs": [
    {
     "data": {
      "text/plain": [
       "array([[ -0.19732604,  15.38003956,  11.44439777, -22.91265745,   7.9633046 ]])"
      ]
     },
     "execution_count": 109,
     "metadata": {},
     "output_type": "execute_result"
    }
   ],
   "source": [
    "X_transformed[:, :5]"
   ]
  },
  {
   "cell_type": "code",
   "execution_count": 151,
   "metadata": {
    "collapsed": false
   },
   "outputs": [
    {
     "data": {
      "text/plain": [
       "<matplotlib.collections.PathCollection at 0x1169d2ad0>"
      ]
     },
     "execution_count": 151,
     "metadata": {},
     "output_type": "execute_result"
    },
    {
     "data": {
      "image/png": "[encoded data removed]",
      "text/plain": [
       "<matplotlib.figure.Figure at 0x116508350>"
      ]
     },
     "metadata": {},
     "output_type": "display_data"
    }
   ],
   "source": [
    "X_reconstituted = np.dot(X_transformed.reshape(100, 1),\n",
    "                         Q[:, 0].reshape(1, 2))\n",
    "\n",
    "plt.scatter(X_centered[:, 0], X_centered[:, 1])\n",
    "plt.scatter(X_reconstituted[:, 0], X_reconstituted[:, 1], c='r')"
   ]
  },
  {
   "cell_type": "markdown",
   "metadata": {},
   "source": [
    "### SVD\n",
    "\n",
    "We have data in $X$.\n",
    "\n",
    "The singular value decomposition of $X$ is:\n",
    "\n",
    "$U \\Sigma V^T = X$\n",
    "\n",
    "Where the columns of $U$ and $V$ are the left and right singular vectors of $X$ and the diagonal elements of $\\Sigma$ are the singular values of $X$, also the square roots of the eigenvalues of $X^TX$."
   ]
  },
  {
   "cell_type": "code",
   "execution_count": 114,
   "metadata": {
    "collapsed": true
   },
   "outputs": [],
   "source": [
    "# decompose our matrix (similar to PCA..)\n",
    "U, singular_vals, V_T = np.linalg.svd(X_centered)\n",
    "Sigma = np.zeros((100, 2))\n",
    "Sigma[:2, :2] = np.diag(singular_vals)"
   ]
  },
  {
   "cell_type": "code",
   "execution_count": 116,
   "metadata": {
    "collapsed": false
   },
   "outputs": [
    {
     "data": {
      "text/plain": [
       "array([[ -0.8893717 ,   1.01062985],\n",
       "       [ -8.87133235, -12.64019274],\n",
       "       [ -5.49965169, -10.33731925],\n",
       "       [ 17.44504617,  15.25435642],\n",
       "       [ -0.84510249,  -9.714762  ]])"
      ]
     },
     "execution_count": 116,
     "metadata": {},
     "output_type": "execute_result"
    }
   ],
   "source": [
    "# See how well our decomposition did: calculate the matrix back\n",
    "np.dot(U, np.dot(Sigma, V_T))[:5, :]"
   ]
  },
  {
   "cell_type": "code",
   "execution_count": 118,
   "metadata": {
    "collapsed": false
   },
   "outputs": [
    {
     "data": {
      "text/plain": [
       "array([[ -0.8893717 ,   1.01062985],\n",
       "       [ -8.87133235, -12.64019274],\n",
       "       [ -5.49965169, -10.33731925],\n",
       "       [ 17.44504617,  15.25435642],\n",
       "       [ -0.84510249,  -9.714762  ]])"
      ]
     },
     "execution_count": 118,
     "metadata": {},
     "output_type": "execute_result"
    }
   ],
   "source": [
    "X_centered[:5, :]"
   ]
  },
  {
   "cell_type": "code",
   "execution_count": 119,
   "metadata": {
    "collapsed": false
   },
   "outputs": [
    {
     "data": {
      "text/plain": [
       "array([ 12225.22036297,    729.56700354])"
      ]
     },
     "execution_count": 119,
     "metadata": {},
     "output_type": "execute_result"
    }
   ],
   "source": [
    "singular_vals**2"
   ]
  },
  {
   "cell_type": "code",
   "execution_count": 120,
   "metadata": {
    "collapsed": false
   },
   "outputs": [
    {
     "data": {
      "text/plain": [
       "array([ 12225.22036297,    729.56700354])"
      ]
     },
     "execution_count": 120,
     "metadata": {},
     "output_type": "execute_result"
    }
   ],
   "source": [
    "eig_vals"
   ]
  },
  {
   "cell_type": "code",
   "execution_count": 124,
   "metadata": {
    "collapsed": false
   },
   "outputs": [
    {
     "data": {
      "text/plain": [
       "array([[  0.1274264 ,   0.15066545],\n",
       "       [ -9.93190312, -11.74320728],\n",
       "       [ -7.39040036,  -8.73820478],\n",
       "       [ 14.79620993,  17.49462898],\n",
       "       [ -5.14242955,  -6.08026632]])"
      ]
     },
     "execution_count": 124,
     "metadata": {},
     "output_type": "execute_result"
    }
   ],
   "source": [
    "# this is the same as our reconstituted matrix that we developed above !\n",
    "np.dot(U[:,0].reshape(100, 1), Sigma[0, 0]).dot(V_T[0, :].reshape(1, 2))[:5, :]"
   ]
  },
  {
   "cell_type": "code",
   "execution_count": 126,
   "metadata": {
    "collapsed": false
   },
   "outputs": [
    {
     "data": {
      "text/plain": [
       "array([[  0.1274264 ,   0.15066545],\n",
       "       [ -9.93190312, -11.74320728],\n",
       "       [ -7.39040036,  -8.73820478],\n",
       "       [ 14.79620993,  17.49462898],\n",
       "       [ -5.14242955,  -6.08026632]])"
      ]
     },
     "execution_count": 126,
     "metadata": {},
     "output_type": "execute_result"
    }
   ],
   "source": [
    "X_reconstituted[:5, :]"
   ]
  },
  {
   "cell_type": "markdown",
   "metadata": {},
   "source": [
    "And there's also value in U and V themselves."
   ]
  }
 ],
 "metadata": {
  "kernelspec": {
   "display_name": "Python 2",
   "language": "python",
   "name": "python2"
  },
  "language_info": {
   "codemirror_mode": {
    "name": "ipython",
    "version": 2
   },
   "file_extension": ".py",
   "mimetype": "text/x-python",
   "name": "python",
   "nbconvert_exporter": "python",
   "pygments_lexer": "ipython2",
   "version": "2.7.11"
  }
 },
 "nbformat": 4,
 "nbformat_minor": 0
}
