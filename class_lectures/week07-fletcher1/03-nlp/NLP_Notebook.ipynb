{
 "cells": [
  {
   "cell_type": "markdown",
   "metadata": {},
   "source": [
    "# NLP Notebook"
   ]
  },
  {
   "cell_type": "code",
   "execution_count": 320,
   "metadata": {
    "collapsed": true
   },
   "outputs": [],
   "source": [
    "import nltk\n",
    "import pandas as pd\n",
    "import numpy as np"
   ]
  },
  {
   "cell_type": "markdown",
   "metadata": {},
   "source": [
    "# NLTK"
   ]
  },
  {
   "cell_type": "markdown",
   "metadata": {},
   "source": [
    "## Tokenization"
   ]
  },
  {
   "cell_type": "markdown",
   "metadata": {},
   "source": [
    "### Sentence"
   ]
  },
  {
   "cell_type": "code",
   "execution_count": 321,
   "metadata": {
    "collapsed": false
   },
   "outputs": [
    {
     "name": "stdout",
     "output_type": "stream",
     "text": [
      "['Hello.', 'How are you, dear Mr. Sir?', 'Are you well?', 'Here: drink this!', 'It will make you feel better.', \"I mean, it won't make you feel worse!\"]\n"
     ]
    }
   ],
   "source": [
    "from nltk.tokenize import sent_tokenize\n",
    "\n",
    "text = \"\"\"Hello. How are you, dear Mr. Sir? Are you well?\n",
    "          Here: drink this! It will make you feel better.\n",
    "          I mean, it won't make you feel worse!\"\"\"\n",
    "\n",
    "sentences = sent_tokenize(text)\n",
    "print sentences"
   ]
  },
  {
   "cell_type": "markdown",
   "metadata": {},
   "source": [
    "### Word"
   ]
  },
  {
   "cell_type": "code",
   "execution_count": 322,
   "metadata": {
    "collapsed": false
   },
   "outputs": [
    {
     "name": "stdout",
     "output_type": "stream",
     "text": [
      "['Hello', '.', 'How', 'are', 'you', ',', 'dear', 'Mr.', 'Sir', '?', 'Are', 'you', 'well', '?', 'Here', ':', 'drink', 'this', '!', 'It', 'will', 'make', 'you', 'feel', 'better', '.', 'I', 'mean', ',', 'it', 'wo', \"n't\", 'make', 'you', 'feel', 'worse', '!']\n"
     ]
    }
   ],
   "source": [
    "from nltk.tokenize import word_tokenize\n",
    "word_tokenize(corpus[0])\n",
    "words = word_tokenize(text)\n",
    "print words"
   ]
  },
  {
   "cell_type": "markdown",
   "metadata": {},
   "source": [
    "## Parts of Speech Tagging"
   ]
  },
  {
   "cell_type": "code",
   "execution_count": 323,
   "metadata": {
    "collapsed": false
   },
   "outputs": [
    {
     "data": {
      "text/plain": [
       "[('Who', 'WP'),\n",
       " (\"'s\", 'VBZ'),\n",
       " ('going', 'VBG'),\n",
       " ('to', 'TO'),\n",
       " ('that', 'DT'),\n",
       " ('thing', 'NN'),\n",
       " ('today', 'NN'),\n",
       " ('?', '.')]"
      ]
     },
     "execution_count": 323,
     "metadata": {},
     "output_type": "execute_result"
    }
   ],
   "source": [
    "from nltk.tag import pos_tag\n",
    "words = word_tokenize(\"Who's going to that thing today?\")\n",
    "pos_tag(words)"
   ]
  },
  {
   "cell_type": "markdown",
   "metadata": {},
   "source": [
    "##### Some of POS tags: \n",
    "WP: wh-pronoun (\"who\", \"what\")  \n",
    "VBZ: verb, 3rd person sing. present (\"takes\")  \n",
    "VBG: verb, gerund/present participle (\"taking\")  \n",
    "TO: to (\"to go\", \"to him\")   \n",
    "DT: determiner (\"the\", \"this\")  \n",
    "NN: noun, singular or mass (\"door\")  \n",
    ".: Punctuation (\".\", \"?\")  \n",
    "\n",
    "All tags: http://www.monlp.com/2011/11/08/part-of-speech-tags/"
   ]
  },
  {
   "cell_type": "markdown",
   "metadata": {},
   "source": [
    "# Count Vectorizer"
   ]
  },
  {
   "cell_type": "code",
   "execution_count": 324,
   "metadata": {
    "collapsed": true
   },
   "outputs": [],
   "source": [
    "corpus = [\n",
    "         'This is the first document.',\n",
    "         'This is the second Second document.',\n",
    "         'And the third one.',\n",
    "         'Is this the first document?'\n",
    "          ]"
   ]
  },
  {
   "cell_type": "code",
   "execution_count": 325,
   "metadata": {
    "collapsed": false
   },
   "outputs": [
    {
     "data": {
      "text/plain": [
       "<4x9 sparse matrix of type '<type 'numpy.int64'>'\n",
       "\twith 19 stored elements in Compressed Sparse Row format>"
      ]
     },
     "execution_count": 325,
     "metadata": {},
     "output_type": "execute_result"
    }
   ],
   "source": [
    "from sklearn.feature_extraction.text import CountVectorizer\n",
    "vectorizer = CountVectorizer()\n",
    "\n",
    "X = vectorizer.fit_transform(corpus)\n",
    "X"
   ]
  },
  {
   "cell_type": "code",
   "execution_count": 326,
   "metadata": {
    "collapsed": false
   },
   "outputs": [
    {
     "data": {
      "text/plain": [
       "[u'and',\n",
       " u'document',\n",
       " u'first',\n",
       " u'is',\n",
       " u'one',\n",
       " u'second',\n",
       " u'the',\n",
       " u'third',\n",
       " u'this']"
      ]
     },
     "execution_count": 326,
     "metadata": {},
     "output_type": "execute_result"
    }
   ],
   "source": [
    "vectorizer.get_feature_names()"
   ]
  },
  {
   "cell_type": "code",
   "execution_count": 327,
   "metadata": {
    "collapsed": false
   },
   "outputs": [
    {
     "data": {
      "text/plain": [
       "array([[0, 1, 1, 1, 0, 0, 1, 0, 1],\n",
       "       [0, 1, 0, 1, 0, 2, 1, 0, 1],\n",
       "       [1, 0, 0, 0, 1, 0, 1, 1, 0],\n",
       "       [0, 1, 1, 1, 0, 0, 1, 0, 1]])"
      ]
     },
     "execution_count": 327,
     "metadata": {},
     "output_type": "execute_result"
    }
   ],
   "source": [
    "X.toarray()"
   ]
  },
  {
   "cell_type": "code",
   "execution_count": 328,
   "metadata": {
    "collapsed": false
   },
   "outputs": [
    {
     "name": "stdout",
     "output_type": "stream",
     "text": [
      "[[0 1 1 1 0 0 1 0 1]]\n",
      "[[0 1 1 1 0 0 1 0 1]]\n"
     ]
    }
   ],
   "source": [
    "print(vectorizer.transform(['Is this the first document?']).toarray())\n",
    "print(vectorizer.transform(['This is the first document']).toarray())"
   ]
  },
  {
   "cell_type": "markdown",
   "metadata": {},
   "source": [
    "# Bi-Grams"
   ]
  },
  {
   "cell_type": "code",
   "execution_count": 329,
   "metadata": {
    "collapsed": false
   },
   "outputs": [
    {
     "data": {
      "text/plain": [
       "array([[0, 0],\n",
       "       [1, 1],\n",
       "       [0, 0],\n",
       "       [0, 0]])"
      ]
     },
     "execution_count": 329,
     "metadata": {},
     "output_type": "execute_result"
    }
   ],
   "source": [
    "bigram_vectorizer = CountVectorizer(stop_words= 'english', ngram_range=(2,2),min_df=1)\n",
    "bigram_vectorizer.fit_transform(corpus).toarray()"
   ]
  },
  {
   "cell_type": "code",
   "execution_count": 330,
   "metadata": {
    "collapsed": false
   },
   "outputs": [
    {
     "data": {
      "text/plain": [
       "[u'second document', u'second second']"
      ]
     },
     "execution_count": 330,
     "metadata": {},
     "output_type": "execute_result"
    }
   ],
   "source": [
    "bigram_vectorizer.get_feature_names()"
   ]
  },
  {
   "cell_type": "markdown",
   "metadata": {},
   "source": [
    "# TF IDF"
   ]
  },
  {
   "cell_type": "code",
   "execution_count": 331,
   "metadata": {
    "collapsed": false
   },
   "outputs": [
    {
     "data": {
      "text/plain": [
       "array([[ 0.        ,  0.43877674,  0.54197657,  0.43877674,  0.        ,\n",
       "         0.        ,  0.35872874,  0.        ,  0.43877674],\n",
       "       [ 0.        ,  0.27230147,  0.        ,  0.27230147,  0.        ,\n",
       "         0.85322574,  0.22262429,  0.        ,  0.27230147],\n",
       "       [ 0.55280532,  0.        ,  0.        ,  0.        ,  0.55280532,\n",
       "         0.        ,  0.28847675,  0.55280532,  0.        ],\n",
       "       [ 0.        ,  0.43877674,  0.54197657,  0.43877674,  0.        ,\n",
       "         0.        ,  0.35872874,  0.        ,  0.43877674]])"
      ]
     },
     "execution_count": 331,
     "metadata": {},
     "output_type": "execute_result"
    }
   ],
   "source": [
    "from sklearn.feature_extraction.text import TfidfVectorizer\n",
    "vectorizer = TfidfVectorizer()\n",
    "vectorizer.fit_transform(corpus).toarray()"
   ]
  },
  {
   "cell_type": "markdown",
   "metadata": {},
   "source": [
    "# Stemming"
   ]
  },
  {
   "cell_type": "code",
   "execution_count": 333,
   "metadata": {
    "collapsed": false
   },
   "outputs": [
    {
     "name": "stdout",
     "output_type": "stream",
     "text": [
      "run\n"
     ]
    }
   ],
   "source": [
    "stemmer = nltk.stem.porter.PorterStemmer()\n",
    "print stemmer.stem('running')"
   ]
  },
  {
   "cell_type": "markdown",
   "metadata": {},
   "source": [
    "# Distance"
   ]
  },
  {
   "cell_type": "code",
   "execution_count": 352,
   "metadata": {
    "collapsed": true
   },
   "outputs": [],
   "source": [
    "from sklearn.feature_extraction.text import CountVectorizer\n",
    "vectorizer = CountVectorizer()\n",
    "\n",
    "text = ['hi mike', 'hi hi mike mike']\n",
    "\n",
    "X = vectorizer.fit_transform(text)"
   ]
  },
  {
   "cell_type": "code",
   "execution_count": 353,
   "metadata": {
    "collapsed": false
   },
   "outputs": [
    {
     "name": "stdout",
     "output_type": "stream",
     "text": [
      "[[  2.22044605e-16]]\n",
      "[ 1.41421356]\n"
     ]
    }
   ],
   "source": [
    "from sklearn.metrics.pairwise import cosine_distances\n",
    "from sklearn.metrics.pairwise import paired_euclidean_distances\n",
    "\n",
    "print cosine_distances(X[0], X[1])\n",
    "print paired_euclidean_distances(X[0], X[1])"
   ]
  },
  {
   "cell_type": "code",
   "execution_count": 354,
   "metadata": {
    "collapsed": false
   },
   "outputs": [
    {
     "name": "stdout",
     "output_type": "stream",
     "text": [
      "[[ 0.]]\n",
      "[ 2.82842712]\n"
     ]
    }
   ],
   "source": [
    "from sklearn.feature_extraction.text import CountVectorizer\n",
    "vectorizer = CountVectorizer()\n",
    "\n",
    "text = ['hi mike', 'hi hi hi mike mike mike']\n",
    "\n",
    "X = vectorizer.fit_transform(text)\n",
    "\n",
    "print cosine_distances(X[0], X[1])\n",
    "print paired_euclidean_distances(X[0], X[1])"
   ]
  },
  {
   "cell_type": "markdown",
   "metadata": {},
   "source": [
    "# Pair Programming"
   ]
  },
  {
   "cell_type": "code",
   "execution_count": 383,
   "metadata": {
    "collapsed": false
   },
   "outputs": [],
   "source": [
    "from nltk.corpus import names\n",
    "import random\n",
    "names = ([(name, 'male') for name in names.words('male.txt')] + [(name, 'female') for name in names.words('female.txt')])\n",
    "random.shuffle(names)"
   ]
  },
  {
   "cell_type": "code",
   "execution_count": 384,
   "metadata": {
    "collapsed": true
   },
   "outputs": [],
   "source": [
    "df = pd.read_csv('/Users/mike/Documents/Datasets/names.csv')"
   ]
  },
  {
   "cell_type": "code",
   "execution_count": 385,
   "metadata": {
    "collapsed": true
   },
   "outputs": [],
   "source": [
    "df = df.sample(frac=1)"
   ]
  },
  {
   "cell_type": "code",
   "execution_count": 386,
   "metadata": {
    "collapsed": false
   },
   "outputs": [],
   "source": [
    "mask = (df['year'] >= 1940) & (df['year'] <= 1990)"
   ]
  },
  {
   "cell_type": "code",
   "execution_count": 387,
   "metadata": {
    "collapsed": false
   },
   "outputs": [],
   "source": [
    "names = list(set(zip(map(lambda x: x.lower(),df[mask]['names']), df[mask]['sex'])))"
   ]
  },
  {
   "cell_type": "code",
   "execution_count": 388,
   "metadata": {
    "collapsed": true
   },
   "outputs": [],
   "source": [
    "X, y = np.array(names)[:,0] , np.array(names)[:,1]"
   ]
  },
  {
   "cell_type": "code",
   "execution_count": 394,
   "metadata": {
    "collapsed": false,
    "scrolled": true
   },
   "outputs": [
    {
     "data": {
      "text/plain": [
       "F    26195\n",
       "M    14539\n",
       "dtype: int64"
      ]
     },
     "execution_count": 394,
     "metadata": {},
     "output_type": "execute_result"
    }
   ],
   "source": [
    "pd.Series(y_train).value_counts()"
   ]
  },
  {
   "cell_type": "code",
   "execution_count": 395,
   "metadata": {
    "collapsed": false,
    "scrolled": true
   },
   "outputs": [
    {
     "data": {
      "text/plain": [
       "F    8643\n",
       "M    4935\n",
       "dtype: int64"
      ]
     },
     "execution_count": 395,
     "metadata": {},
     "output_type": "execute_result"
    }
   ],
   "source": [
    "pd.Series(y_test).value_counts()"
   ]
  },
  {
   "cell_type": "code",
   "execution_count": 389,
   "metadata": {
    "collapsed": true
   },
   "outputs": [],
   "source": [
    "def name_length(name):\n",
    "    return len(name)\n",
    "\n",
    "def end_letters(name, num = 1):\n",
    "    return name[-num:]\n",
    "\n",
    "def first_letters(name, num = 1):\n",
    "    return name[:num]\n",
    "\n",
    "def get_df(data):\n",
    "    df = pd.DataFrame({'length': map(name_length,data),\n",
    "    'first_letter': map(first_letters,data),\n",
    "    'end_letter': map(end_letters,data),\n",
    "    'first_two_letter': map(lambda x: first_letters(x,2),data),\n",
    "    'end_two_letter': map(lambda x: end_letters(x,2),data)})\n",
    "    \n",
    "    return df\n",
    "\n",
    "def get_feats(data):\n",
    "    return pd.get_dummies(data, columns = ['end_letter', 'end_two_letter', 'first_letter', 'first_two_letter'], prefix = ['e1','e2','f1','f2'])"
   ]
  },
  {
   "cell_type": "code",
   "execution_count": 392,
   "metadata": {
    "collapsed": false
   },
   "outputs": [],
   "source": [
    "X = map(lambda x: x.lower(), X)\n",
    "\n",
    "df = get_df(X)\n",
    "df = get_feats(df)"
   ]
  },
  {
   "cell_type": "code",
   "execution_count": 393,
   "metadata": {
    "collapsed": false
   },
   "outputs": [],
   "source": [
    "from sklearn.cross_validation import train_test_split\n",
    "X_train, X_test, y_train, y_test = train_test_split(df, y)"
   ]
  },
  {
   "cell_type": "code",
   "execution_count": 396,
   "metadata": {
    "collapsed": false
   },
   "outputs": [],
   "source": [
    "from sklearn.ensemble import RandomForestClassifier\n",
    "from sklearn.grid_search import GridSearchCV\n",
    "clf = RandomForestClassifier()\n",
    "\n",
    "params = {'max_depth':[25,50], 'n_estimators': [500]}\n",
    "\n",
    "grid = GridSearchCV(estimator=clf, param_grid=params, cv=3)\n",
    "grid = grid.fit(X_train, y_train)"
   ]
  },
  {
   "cell_type": "code",
   "execution_count": 397,
   "metadata": {
    "collapsed": false
   },
   "outputs": [
    {
     "name": "stdout",
     "output_type": "stream",
     "text": [
      "RandomForestClassifier(bootstrap=True, class_weight=None, criterion='gini',\n",
      "            max_depth=25, max_features='auto', max_leaf_nodes=None,\n",
      "            min_samples_leaf=1, min_samples_split=2,\n",
      "            min_weight_fraction_leaf=0.0, n_estimators=500, n_jobs=1,\n",
      "            oob_score=False, random_state=None, verbose=0,\n",
      "            warm_start=False)\n",
      "0.777188589385\n"
     ]
    }
   ],
   "source": [
    "print grid.best_estimator_\n",
    "print grid.best_score_"
   ]
  },
  {
   "cell_type": "code",
   "execution_count": 398,
   "metadata": {
    "collapsed": false
   },
   "outputs": [
    {
     "name": "stdout",
     "output_type": "stream",
     "text": [
      "Feature ranking:\n",
      "1 feature e1_a (0.223556380829)\n",
      "2 feature length (0.0720565169912)\n",
      "3 feature e1_o (0.0392225303145)\n",
      "4 feature e1_s (0.0349972716038)\n",
      "5 feature e2_on (0.03430978407)\n",
      "6 feature e1_n (0.029920604106)\n",
      "7 feature e2_ia (0.0291995442838)\n",
      "8 feature e1_d (0.0287237310301)\n",
      "9 feature e2_na (0.0274936760962)\n",
      "10 feature e1_e (0.0230535242114)\n",
      "11 feature e1_r (0.0170097755372)\n",
      "12 feature e1_l (0.0155715288782)\n",
      "13 feature e1_k (0.0143721205531)\n",
      "14 feature e2_ha (0.0141713083894)\n",
      "15 feature e2_us (0.0135117162148)\n",
      "16 feature e2_ta (0.0108220855832)\n",
      "17 feature e2_da (0.0101024986957)\n",
      "18 feature e2_io (0.00987249613906)\n",
      "19 feature e2_an (0.00978937301421)\n",
      "20 feature e2_nn (0.0093913867356)\n",
      "21 feature e1_m (0.00915813083797)\n",
      "22 feature f2_sh (0.008794937525)\n",
      "23 feature e2_ne (0.00826242057651)\n",
      "24 feature e2_rd (0.00789022413687)\n",
      "25 feature e2_ra (0.00765165111639)\n",
      "26 feature e2_la (0.00697500462289)\n",
      "27 feature e2_ck (0.00683177979135)\n",
      "28 feature e2_yn (0.00641695023023)\n",
      "29 feature e2_er (0.00625340195138)\n",
      "30 feature e1_i (0.005846385574)\n",
      "31 feature e2_sa (0.00553575620023)\n",
      "32 feature e2_el (0.00534767531021)\n",
      "33 feature e2_ka (0.00529519031287)\n",
      "34 feature e2_no (0.00519534092876)\n",
      "35 feature f1_s (0.00473334456443)\n",
      "36 feature e2_ah (0.00440360589134)\n",
      "37 feature e2_ee (0.00368516672363)\n",
      "38 feature e2_in (0.00350595295581)\n",
      "39 feature e2_ll (0.00344227863921)\n",
      "40 feature e2_ie (0.00331495251941)\n",
      "41 feature f2_ch (0.00326184229628)\n",
      "42 feature e2_do (0.00319226066176)\n",
      "43 feature e1_c (0.00308787826208)\n",
      "44 feature e1_t (0.00298148968985)\n",
      "45 feature e1_y (0.00294714455777)\n",
      "46 feature f1_m (0.00285214344729)\n",
      "47 feature e2_os (0.00280802454218)\n",
      "48 feature e2_is (0.00266357562391)\n",
      "49 feature e2_ya (0.00248033235142)\n",
      "50 feature e2_ld (0.00243754096632)\n",
      "51 feature f1_j (0.00239172724145)\n",
      "52 feature f1_h (0.00237665087537)\n",
      "53 feature f1_d (0.00236269462474)\n",
      "54 feature e2_ko (0.00222995837518)\n",
      "55 feature e2_es (0.00219297761615)\n",
      "56 feature e2_as (0.00218599907454)\n",
      "57 feature e2_ea (0.00211390188005)\n",
      "58 feature e2_ca (0.00207236449701)\n",
      "59 feature e2_to (0.0020514206528)\n",
      "60 feature e1_f (0.00199101946633)\n",
      "61 feature e2_ro (0.00197571412766)\n",
      "62 feature f1_l (0.0019644767675)\n",
      "63 feature f2_ma (0.00190515284345)\n",
      "64 feature e1_h (0.00189491119281)\n",
      "65 feature f2_je (0.0018679711237)\n",
      "66 feature f2_ka (0.00183544638507)\n",
      "67 feature e2_ad (0.00179168624028)\n",
      "68 feature f2_me (0.00178528194665)\n",
      "69 feature e2_rt (0.001723888398)\n",
      "70 feature f1_c (0.00171299016228)\n",
      "71 feature f2_jo (0.00164307371847)\n",
      "72 feature e2_se (0.00163529529548)\n",
      "73 feature e2_en (0.00162087710927)\n",
      "74 feature e2_em (0.00156045996327)\n",
      "75 feature f1_o (0.00153170897265)\n",
      "76 feature f1_r (0.00151418527438)\n",
      "77 feature e2_jo (0.00151189729929)\n",
      "78 feature e2_te (0.00147031530752)\n",
      "79 feature f1_t (0.00146115086736)\n",
      "80 feature f2_ta (0.00140347705016)\n",
      "81 feature f2_an (0.00139412781707)\n",
      "82 feature e1_b (0.00136966706213)\n",
      "83 feature e1_z (0.0013247884231)\n",
      "84 feature f2_co (0.00129871891467)\n",
      "85 feature f2_de (0.00127499935962)\n",
      "86 feature f2_ca (0.00125750911223)\n",
      "87 feature f1_k (0.00122203794412)\n",
      "88 feature e2_ni (0.00120615791272)\n",
      "89 feature e2_ar (0.00119867449103)\n",
      "90 feature f1_a (0.00119564884852)\n",
      "91 feature f1_b (0.00118054574507)\n",
      "92 feature e2_nt (0.00113078284631)\n",
      "93 feature e2_nd (0.00112787395321)\n",
      "94 feature f2_ja (0.00106873453205)\n",
      "95 feature f2_la (0.00105749339942)\n",
      "96 feature e2_am (0.00105535305038)\n",
      "97 feature f2_ro (0.00103681182149)\n",
      "98 feature e2_ic (0.00103553063083)\n",
      "99 feature f2_da (0.00100345152552)\n",
      "100 feature e2_un (0.00100121534664)\n",
      "101 feature e2_le (0.000998390211569)\n",
      "102 feature e1_g (0.000969865985966)\n",
      "103 feature e2_al (0.00095958045766)\n",
      "104 feature f1_g (0.000959159390609)\n",
      "105 feature f2_li (0.000943401946158)\n",
      "106 feature f2_al (0.000910133855387)\n",
      "107 feature f2_do (0.000901405495442)\n",
      "108 feature f2_sa (0.000900087079033)\n",
      "109 feature e2_ry (0.000880893018039)\n",
      "110 feature f2_mo (0.000875090489578)\n",
      "111 feature e2_ed (0.000865694833554)\n",
      "112 feature f1_n (0.000862871201646)\n",
      "113 feature f1_e (0.000861705657024)\n",
      "114 feature e2_ez (0.000852108849889)\n",
      "115 feature f2_st (0.000830204690386)\n",
      "116 feature f2_tr (0.000824588616952)\n",
      "117 feature f2_ha (0.000823305771606)\n",
      "118 feature e2_li (0.000822781116723)\n",
      "119 feature e2_ma (0.000812136870005)\n",
      "120 feature e2_ir (0.000808194282679)\n",
      "121 feature f2_mi (0.000797130991004)\n",
      "122 feature f2_ra (0.000790639319556)\n",
      "123 feature e2_co (0.000779075612312)\n",
      "124 feature f2_so (0.000778637452962)\n",
      "125 feature f1_z (0.000758776792275)\n",
      "126 feature f2_br (0.000748225770905)\n",
      "127 feature e2_od (0.000742597536774)\n",
      "128 feature f2_le (0.000717883931892)\n",
      "129 feature f1_w (0.000716362981266)\n",
      "130 feature f2_te (0.000709789435831)\n",
      "131 feature f2_cl (0.00070194090631)\n",
      "132 feature e2_im (0.000698437108978)\n",
      "133 feature f2_na (0.000688368370857)\n",
      "134 feature f2_za (0.000684207171583)\n",
      "135 feature f1_p (0.000683969460938)\n",
      "136 feature f1_y (0.000682376167048)\n",
      "137 feature f2_ke (0.000677193026421)\n",
      "138 feature f2_se (0.000672795564135)\n",
      "139 feature f2_lo (0.000665620335413)\n",
      "140 feature f2_du (0.000661533479765)\n",
      "141 feature e2_ss (0.000647756616582)\n",
      "142 feature e2_or (0.000646574067596)\n",
      "143 feature e2_ey (0.000640238696036)\n",
      "144 feature f2_el (0.00063996845389)\n",
      "145 feature e2_ik (0.000639171974817)\n",
      "146 feature e2_ch (0.000637914394269)\n",
      "147 feature e2_sh (0.000627025673915)\n",
      "148 feature f2_re (0.000626408880843)\n",
      "149 feature e2_ua (0.000625288855946)\n",
      "150 feature f2_ki (0.000620678421338)\n",
      "151 feature e2_re (0.00062014454375)\n",
      "152 feature f2_su (0.000600076348774)\n",
      "153 feature f2_si (0.000586264650661)\n",
      "154 feature e2_ce (0.000576371666017)\n",
      "155 feature f2_ni (0.000575593978038)\n",
      "156 feature e2_lo (0.000568885129553)\n",
      "157 feature f1_q (0.000565723586649)\n",
      "158 feature f2_to (0.000560288286143)\n",
      "159 feature f2_gl (0.000548045630676)\n",
      "160 feature f2_ad (0.000547501279831)\n",
      "161 feature f2_lu (0.00054655818398)\n",
      "162 feature f2_ar (0.000545272708093)\n",
      "163 feature f2_am (0.000526143706252)\n",
      "164 feature e2_ly (0.000523972159874)\n",
      "165 feature f2_qu (0.000520726810065)\n",
      "166 feature e2_ge (0.0005173332068)\n",
      "167 feature e2_oy (0.000515404157798)\n",
      "168 feature f2_ho (0.000511505421969)\n",
      "169 feature f1_f (0.00050260795213)\n",
      "170 feature f2_be (0.000495066035524)\n",
      "171 feature f2_bu (0.000484596295094)\n",
      "172 feature f2_ge (0.000482727912197)\n",
      "173 feature f2_bo (0.000480739296834)\n",
      "174 feature e2_ys (0.00047701859475)\n",
      "175 feature e2_wn (0.000476969996983)\n",
      "176 feature f2_kr (0.000476929849574)\n",
      "177 feature f2_ju (0.00047020866573)\n",
      "178 feature f2_gr (0.000462015171126)\n",
      "179 feature e2_hn (0.000458031807979)\n",
      "180 feature e2_ri (0.000453234203187)\n",
      "181 feature f2_th (0.00045061336705)\n",
      "182 feature f2_ab (0.000449298832347)\n",
      "183 feature f2_ga (0.000448947309155)\n",
      "184 feature e2_et (0.000446867860562)\n",
      "185 feature e2_ul (0.000441010612502)\n",
      "186 feature f2_pa (0.000438599921765)\n",
      "187 feature e2_id (0.000437650699902)\n",
      "188 feature e2_ng (0.000437644977942)\n",
      "189 feature f2_di (0.00043749189983)\n",
      "190 feature e2_rn (0.000436400484566)\n",
      "191 feature e2_ke (0.000436046793196)\n",
      "192 feature f2_he (0.000429484421975)\n",
      "193 feature f2_or (0.000428837099565)\n",
      "194 feature e2_ae (0.000425304274682)\n",
      "195 feature e2_il (0.000421938144261)\n",
      "196 feature f2_ty (0.000417388907496)\n",
      "197 feature f1_i (0.000416621990413)\n",
      "198 feature f2_gi (0.000411306622102)\n",
      "199 feature e1_p (0.00039978951001)\n",
      "200 feature f2_hu (0.00039589272705)\n",
      "201 feature f2_wi (0.000391151899581)\n",
      "202 feature f2_in (0.000389664153228)\n",
      "203 feature e2_ny (0.000388471360788)\n",
      "204 feature e2_ek (0.000385348963517)\n",
      "205 feature f2_as (0.000373154682326)\n",
      "206 feature f2_ol (0.000371523573952)\n",
      "207 feature f2_ya (0.000371015031905)\n",
      "208 feature f2_wa (0.000368927715119)\n",
      "209 feature f2_ba (0.000366315297775)\n",
      "210 feature f2_ai (0.000365151316828)\n",
      "211 feature e2_ye (0.000364309564706)\n",
      "212 feature e2_mi (0.000363699768867)\n",
      "213 feature f2_ti (0.000363022251147)\n",
      "214 feature f2_mu (0.000349464312301)\n",
      "215 feature f1_v (0.000346504550359)\n",
      "216 feature f2_cr (0.000345919028816)\n",
      "217 feature f2_ry (0.000343151419307)\n",
      "218 feature f2_pe (0.000342577235219)\n",
      "219 feature f1_u (0.000338212548768)\n",
      "220 feature f2_yo (0.00033760064955)\n",
      "221 feature f2_au (0.000333030509838)\n",
      "222 feature f2_ly (0.000330565181494)\n",
      "223 feature f2_ko (0.000330397150352)\n",
      "224 feature f2_ye (0.000327562392288)\n",
      "225 feature f2_er (0.000325079763095)\n",
      "226 feature f2_es (0.000320025271897)\n",
      "227 feature f2_ve (0.000318310007331)\n",
      "228 feature e2_de (0.000316806087701)\n",
      "229 feature f2_go (0.000314555277738)\n",
      "230 feature f2_os (0.000314482293227)\n",
      "231 feature f2_fa (0.000313243498959)\n",
      "232 feature f2_ri (0.000313169729921)\n",
      "233 feature f2_ce (0.000313088664514)\n",
      "234 feature f2_kh (0.000307910271401)\n",
      "235 feature e1_w (0.000297705014206)\n",
      "236 feature f2_em (0.000296733520329)\n",
      "237 feature f2_hi (0.000292955435053)\n",
      "238 feature e2_sy (0.000292906527581)\n",
      "239 feature e2_za (0.000290906592799)\n",
      "240 feature f2_ne (0.000289388212134)\n",
      "241 feature f2_va (0.000284028029951)\n",
      "242 feature f2_my (0.000280743991139)\n",
      "243 feature e2_yl (0.000273536679875)\n",
      "244 feature e2_eo (0.000270249492645)\n",
      "245 feature e2_mo (0.000267040912865)\n",
      "246 feature f2_is (0.000266087733676)\n",
      "247 feature f2_vi (0.000264158164083)\n",
      "248 feature f2_cy (0.000263405755361)\n",
      "249 feature f2_fr (0.000261634609677)\n",
      "250 feature f2_ji (0.000260979593171)\n",
      "251 feature f2_ev (0.000257162936054)\n",
      "252 feature f2_sp (0.000255719854198)\n",
      "253 feature e2_ns (0.000255646597748)\n",
      "254 feature e2_ty (0.000253625848795)\n",
      "255 feature f2_ak (0.000249963883288)\n",
      "256 feature e2_ef (0.000249641878211)\n",
      "257 feature f2_gw (0.000248551501945)\n",
      "258 feature f2_no (0.000247348180211)\n",
      "259 feature e2_me (0.000246575601861)\n",
      "260 feature f2_bi (0.000245425724549)\n",
      "261 feature e1_v (0.000242120974569)\n",
      "262 feature f2_ea (0.000241863460511)\n",
      "263 feature e2_yo (0.000240542010013)\n",
      "264 feature f2_fe (0.000235118492773)\n",
      "265 feature f2_bl (0.00023272115475)\n",
      "266 feature e2_di (0.000232261967627)\n",
      "267 feature f2_en (0.000231593112577)\n",
      "268 feature f2_ky (0.000227614103429)\n",
      "269 feature e2_ji (0.000224329937931)\n",
      "270 feature e2_dy (0.000222883780012)\n",
      "271 feature f2_ci (0.000220300110166)\n",
      "272 feature f2_at (0.000220221292479)\n",
      "273 feature f2_ru (0.000218834497511)\n",
      "274 feature e2_om (0.000218400016388)\n",
      "275 feature f2_ed (0.000214994919451)\n",
      "276 feature e2_th (0.000213490032041)\n",
      "277 feature e2_ay (0.000209317931608)\n",
      "278 feature f2_ku (0.000208192786344)\n",
      "279 feature f2_ph (0.000203770414112)\n",
      "280 feature e2_tt (0.000203028175205)\n",
      "281 feature f2_ze (0.00020209839757)\n",
      "282 feature f2_od (0.00020010781087)\n",
      "283 feature f2_fl (0.000196367561856)\n",
      "284 feature f2_kw (0.000194738477851)\n",
      "285 feature e2_rl (0.000191785275195)\n",
      "286 feature e1_u (0.000191691494374)\n",
      "287 feature e2_ak (0.000190824600917)\n",
      "288 feature e2_gh (0.000190504284246)\n",
      "289 feature e2_ph (0.000187229432205)\n",
      "290 feature f2_eu (0.000181916452003)\n",
      "291 feature f2_av (0.000180363291825)\n",
      "292 feature e2_ue (0.000178974105064)\n",
      "293 feature e2_ff (0.000177830785792)\n",
      "294 feature e2_ti (0.000177738725369)\n",
      "295 feature f2_et (0.00017771794994)\n",
      "296 feature e2_va (0.000176637662449)\n",
      "297 feature f2_cu (0.000175634179059)\n",
      "298 feature f2_pr (0.000174144794309)\n",
      "299 feature f2_ay (0.000174027609816)\n",
      "300 feature e2_ur (0.000172916113207)\n",
      "301 feature e2_oa (0.000167852786239)\n",
      "302 feature f2_po (0.000166812863859)\n",
      "303 feature f2_gu (0.000166627225911)\n",
      "304 feature e2_ve (0.000161601243968)\n",
      "305 feature e2_ze (0.000160444664318)\n",
      "306 feature f2_sy (0.000159779199099)\n",
      "307 feature e2_ba (0.000159111682188)\n",
      "308 feature f2_yu (0.000157937968606)\n",
      "309 feature f2_sc (0.000157417105234)\n",
      "310 feature f2_mc (0.000156621221196)\n",
      "311 feature f2_we (0.000154893078393)\n",
      "312 feature f2_dr (0.000154518040641)\n",
      "313 feature f2_ir (0.000153867846241)\n",
      "314 feature e2_ai (0.000153624916597)\n",
      "315 feature f2_fi (0.000151361823827)\n",
      "316 feature f2_dy (0.00015005028452)\n",
      "317 feature e1_q (0.000149575611862)\n",
      "318 feature e2_dd (0.000148898803699)\n",
      "319 feature f2_rh (0.000148737279015)\n",
      "320 feature f2_yi (0.000147293336285)\n",
      "321 feature e2_go (0.000147114260019)\n",
      "322 feature e2_wa (0.000146652194735)\n",
      "323 feature f2_pi (0.000144933879981)\n",
      "324 feature e2_rr (0.000142857550792)\n",
      "325 feature f2_ei (0.000142175757226)\n",
      "326 feature f2_dw (0.000138817494169)\n",
      "327 feature e2_ol (0.000137125351118)\n",
      "328 feature e2_ja (0.000135967267251)\n",
      "329 feature f2_ob (0.000134913667783)\n",
      "330 feature f2_af (0.000134116559816)\n",
      "331 feature f2_tu (0.000130776581293)\n",
      "332 feature e2_if (0.000130472007142)\n",
      "333 feature e2_fa (0.000130439724999)\n",
      "334 feature e2_ew (0.000130179758148)\n",
      "335 feature e2_at (0.000129295379651)\n",
      "336 feature e2_ki (0.000129273976634)\n",
      "337 feature e2_ib (0.000128961004818)\n",
      "338 feature e2_um (0.000127748575353)\n",
      "339 feature f2_ap (0.000127543569425)\n",
      "340 feature e2_hy (0.000127022805006)\n",
      "341 feature e2_ga (0.000126939737303)\n",
      "342 feature f2_un (0.000126696995233)\n",
      "343 feature f2_ul (0.000125907795283)\n",
      "344 feature f2_iv (0.000125787877926)\n",
      "345 feature e2_oe (0.000124648689719)\n",
      "346 feature f2_zi (0.000124210494842)\n",
      "347 feature f2_ik (0.000123562780686)\n",
      "348 feature e2_zo (0.000123165546344)\n",
      "349 feature e2_ci (0.000111088789033)\n",
      "350 feature e2_rk (0.000110735812495)\n",
      "351 feature e2_iz (0.000110093141542)\n",
      "352 feature f2_id (0.000106558134774)\n",
      "353 feature f2_fo (0.000106405594173)\n",
      "354 feature f2_il (0.000105442356027)\n",
      "355 feature e2_hi (0.000100779852657)\n",
      "356 feature f2_wo (0.000100710616407)\n",
      "357 feature f2_aa (0.000100665290176)\n",
      "358 feature f2_on (9.85514757791e-05)\n",
      "359 feature f2_ez (9.73336313829e-05)\n",
      "360 feature e2_ao (9.5186614174e-05)\n",
      "361 feature e2_rs (9.49947411397e-05)\n",
      "362 feature f2_ur (9.46297872271e-05)\n",
      "363 feature f2_sl (9.3378778956e-05)\n",
      "364 feature f2_wy (9.31985097828e-05)\n",
      "365 feature e2_aa (9.23739924894e-05)\n",
      "366 feature f2_az (9.11508935938e-05)\n",
      "367 feature e2_it (9.05125437292e-05)\n",
      "368 feature e2_by (9.04704295867e-05)\n",
      "369 feature e2_my (8.82379695913e-05)\n",
      "370 feature e2_ln (8.80643808138e-05)\n",
      "371 feature e2_he (8.7873209044e-05)\n",
      "372 feature e1_j (8.461931023e-05)\n",
      "373 feature e2_st (8.37084945653e-05)\n",
      "374 feature f2_tc (8.31045401275e-05)\n",
      "375 feature f2_ot (8.13779008974e-05)\n",
      "376 feature f2_ok (8.0507261561e-05)\n",
      "377 feature f2_ae (8.04449911381e-05)\n",
      "378 feature e2_pe (7.97100764431e-05)\n",
      "379 feature f2_ug (7.96638504655e-05)\n",
      "380 feature e2_we (7.83799085522e-05)\n",
      "381 feature e2_be (7.74753981052e-05)\n",
      "382 feature e2_ho (7.71927850289e-05)\n",
      "383 feature e2_ei (7.54840104121e-05)\n",
      "384 feature e2_si (7.52643331361e-05)\n",
      "385 feature f2_sk (7.50578821486e-05)\n",
      "386 feature e2_ls (7.42198959437e-05)\n",
      "387 feature f2_ag (7.37128144534e-05)\n",
      "388 feature e2_so (7.28441527895e-05)\n",
      "389 feature f2_om (7.22816775786e-05)\n",
      "390 feature f2_zo (7.21972685862e-05)\n",
      "391 feature f2_ec (7.19228515652e-05)\n",
      "392 feature f2_oc (7.17513765437e-05)\n",
      "393 feature e2_bo (7.16926564153e-05)\n",
      "394 feature f2_ac (7.02070580328e-05)\n",
      "395 feature f2_vo (6.75518401269e-05)\n",
      "396 feature f2_aq (6.62811968776e-05)\n",
      "397 feature e2_cy (6.59537571326e-05)\n",
      "398 feature e2_oo (6.48622742026e-05)\n",
      "399 feature f2_jy (6.29846666173e-05)\n",
      "400 feature f2_by (6.22938159915e-05)\n",
      "401 feature f2_ah (6.21282818632e-05)\n",
      "402 feature f2_jw (6.1846699111e-05)\n",
      "403 feature f2_sw (6.1554516206e-05)\n",
      "404 feature f2_nh (6.06723878964e-05)\n",
      "405 feature f1_x (6.04926810024e-05)\n",
      "406 feature e2_iq (5.79728924567e-05)\n",
      "407 feature e2_ab (5.74102428548e-05)\n",
      "408 feature e2_ud (5.7135957748e-05)\n",
      "409 feature f2_oz (5.69797839047e-05)\n",
      "410 feature e2_vi (5.66604333611e-05)\n",
      "411 feature e2_dr (5.45240877459e-05)\n",
      "412 feature e2_ui (5.35260378362e-05)\n",
      "413 feature e2_ok (5.34929250222e-05)\n",
      "414 feature e2_tl (5.32113768965e-05)\n",
      "415 feature e2_uo (5.22889022083e-05)\n",
      "416 feature e2_eb (4.99352283707e-05)\n",
      "417 feature f2_nu (4.96748595205e-05)\n",
      "418 feature e2_ky (4.91319689439e-05)\n",
      "419 feature e1_x (4.91118814146e-05)\n",
      "420 feature e2_ac (4.90791661128e-05)\n",
      "421 feature e2_ip (4.89207398852e-05)\n",
      "422 feature f2_iz (4.87824941376e-05)\n",
      "423 feature f2_ny (4.85836278507e-05)\n",
      "424 feature f2_op (4.84169268167e-05)\n",
      "425 feature e2_oi (4.75334021262e-05)\n",
      "426 feature f2_tw (4.68185570221e-05)\n",
      "427 feature f2_jh (4.57957334148e-05)\n",
      "428 feature f2_yv (4.56242222571e-05)\n",
      "429 feature e2_yd (4.50110721792e-05)\n",
      "430 feature f2_sm (4.47800790618e-05)\n",
      "431 feature f2_im (4.45848516877e-05)\n",
      "432 feature e2_zy (4.44604396912e-05)\n",
      "433 feature e2_az (4.37325521062e-05)\n",
      "434 feature e2_br (4.35499764694e-05)\n",
      "435 feature e2_eh (4.24938196986e-05)\n",
      "436 feature e2_ot (4.14003320684e-05)\n",
      "437 feature f2_oh (4.13303188354e-05)\n",
      "438 feature e2_je (4.106274274e-05)\n",
      "439 feature e2_vn (4.10025273185e-05)\n",
      "440 feature f2_uz (4.04511536397e-05)\n",
      "441 feature e2_nh (4.04319459362e-05)\n",
      "442 feature f2_pu (4.03481940713e-05)\n",
      "443 feature f2_hy (4.01399298144e-05)\n",
      "444 feature f2_ov (3.87053545676e-05)\n",
      "445 feature e2_fe (3.78711664712e-05)\n",
      "446 feature e2_sz (3.763856726e-05)\n",
      "447 feature f2_um (3.75489125862e-05)\n",
      "448 feature f2_eb (3.67595696016e-05)\n",
      "449 feature f2_zu (3.61816846336e-05)\n",
      "450 feature e2_ig (3.61270037225e-05)\n",
      "451 feature f2_wh (3.59676645006e-05)\n",
      "452 feature e2_au (3.58222521328e-05)\n",
      "453 feature e2_sk (3.52727583441e-05)\n",
      "454 feature f2_aj (3.47831951589e-05)\n",
      "455 feature e2_zz (3.47256561546e-05)\n",
      "456 feature e2_tz (3.42583799381e-05)\n",
      "457 feature e2_ks (3.39661254238e-05)\n",
      "458 feature e2_bi (3.39289781567e-05)\n",
      "459 feature e2_dt (3.34770421656e-05)\n",
      "460 feature f2_ll (3.31903068599e-05)\n",
      "461 feature e2_nc (3.29303839118e-05)\n",
      "462 feature f2_dj (3.29219486755e-05)\n",
      "463 feature e2_nk (3.23914204525e-05)\n",
      "464 feature e2_ou (3.22565634723e-05)\n",
      "465 feature e2_mm (3.18294074259e-05)\n",
      "466 feature f2_fu (3.16769517339e-05)\n",
      "467 feature f2_hj (3.13575184646e-05)\n",
      "468 feature f2_oa (3.11859244349e-05)\n",
      "469 feature f2_xi (3.11765410118e-05)\n",
      "470 feature e2_zi (3.04857765267e-05)\n",
      "471 feature f2_wr (3.04355652023e-05)\n",
      "472 feature e2_ep (2.98199199897e-05)\n",
      "473 feature f2_ys (2.91333399111e-05)\n",
      "474 feature f2_ts (2.91110978972e-05)\n",
      "475 feature f2_ng (2.86985421249e-05)\n",
      "476 feature f2_io (2.8642234481e-05)\n",
      "477 feature e2_uz (2.86146250015e-05)\n",
      "478 feature e2_yr (2.83545622663e-05)\n",
      "479 feature f2_it (2.83305378941e-05)\n",
      "480 feature e2_aj (2.82362738763e-05)\n",
      "481 feature e2_vy (2.74315097352e-05)\n",
      "482 feature e2_ds (2.70614614688e-05)\n",
      "483 feature f2_dh (2.6655085791e-05)\n",
      "484 feature e2_ft (2.63704538567e-05)\n",
      "485 feature f2_qa (2.59590457474e-05)\n",
      "486 feature e2_sl (2.53525689257e-05)\n",
      "487 feature e2_ob (2.4471411696e-05)\n",
      "488 feature e2_rm (2.42368114848e-05)\n",
      "489 feature e2_uk (2.40193317089e-05)\n",
      "490 feature e2_pi (2.3908441022e-05)\n",
      "491 feature e2_wm (2.34486639877e-05)\n",
      "492 feature e2_fi (2.34083486093e-05)\n",
      "493 feature f2_ml (2.33908485324e-05)\n",
      "494 feature e2_af (2.29657266436e-05)\n",
      "495 feature f2_kl (2.29206881744e-05)\n",
      "496 feature e2_jd (2.2909181204e-05)\n",
      "497 feature e2_wo (2.2810477454e-05)\n",
      "498 feature f2_mb (2.2706256158e-05)\n",
      "499 feature f2_yz (2.24147015124e-05)\n",
      "500 feature f2_eg (2.20050201224e-05)\n",
      "501 feature e2_oh (2.19326729971e-05)\n",
      "502 feature f2_sq (2.17079961198e-05)\n",
      "503 feature f2_kn (2.12141034481e-05)\n",
      "504 feature f2_gh (2.12083977827e-05)\n",
      "505 feature e2_gy (2.08275789791e-05)\n",
      "506 feature f2_ib (2.06902096803e-05)\n",
      "507 feature e2_tu (2.06079084238e-05)\n",
      "508 feature e2_lm (1.91295916512e-05)\n",
      "509 feature e2_rc (1.87915358735e-05)\n",
      "510 feature e2_vo (1.87251803025e-05)\n",
      "511 feature e2_bh (1.87088885244e-05)\n",
      "512 feature f2_ut (1.86400720104e-05)\n",
      "513 feature e2_yi (1.82573419483e-05)\n",
      "514 feature e2_ym (1.80207386108e-05)\n",
      "515 feature f2_yn (1.77718089947e-05)\n",
      "516 feature e2_tn (1.75296011802e-05)\n",
      "517 feature e2_uc (1.73882913986e-05)\n",
      "518 feature e2_oc (1.73609541636e-05)\n",
      "519 feature f2_ey (1.73480884431e-05)\n",
      "520 feature e2_av (1.71523403432e-05)\n",
      "521 feature e2_bb (1.70562386005e-05)\n",
      "522 feature e2_po (1.68424780258e-05)\n",
      "523 feature f2_xa (1.68387218173e-05)\n",
      "524 feature e2_op (1.65002300898e-05)\n",
      "525 feature f2_ef (1.64982399817e-05)\n",
      "526 feature f2_ex (1.62942027364e-05)\n",
      "527 feature e2_py (1.58555037485e-05)\n",
      "528 feature f2_ia (1.57146006659e-05)\n",
      "529 feature f2_ow (1.57114141201e-05)\n",
      "530 feature e2_ox (1.56509908343e-05)\n",
      "531 feature e2_xa (1.55450472659e-05)\n",
      "532 feature e2_cc (1.53706644824e-05)\n",
      "533 feature f2_bh (1.53663687848e-05)\n",
      "534 feature e2_ag (1.51484341515e-05)\n",
      "535 feature e2_bs (1.50623807665e-05)\n",
      "536 feature e2_nz (1.4932595409e-05)\n",
      "537 feature e2_fr (1.47630746179e-05)\n",
      "538 feature f2_tz (1.47367113959e-05)\n",
      "539 feature e2_ow (1.47116339827e-05)\n",
      "540 feature f2_rc (1.47052692057e-05)\n",
      "541 feature e2_nu (1.46098816758e-05)\n",
      "542 feature e2_hr (1.44611080444e-05)\n",
      "543 feature e2_ms (1.42241407141e-05)\n",
      "544 feature e2_rg (1.42135677379e-05)\n",
      "545 feature f2_dl (1.37466829359e-05)\n",
      "546 feature f2_of (1.36642884961e-05)\n",
      "547 feature f2_sn (1.36156135469e-05)\n",
      "548 feature f2_gy (1.34965300346e-05)\n",
      "549 feature e2_fo (1.34525057605e-05)\n",
      "550 feature f2_og (1.32899541398e-05)\n",
      "551 feature e2_hm (1.28954490133e-05)\n",
      "552 feature f2_dv (1.27381978903e-05)\n",
      "553 feature f2_ep (1.26042800881e-05)\n",
      "554 feature e2_ut (1.25601259508e-05)\n",
      "555 feature f2_pl (1.25561316515e-05)\n",
      "556 feature e2_ih (1.23880467681e-05)\n",
      "557 feature e2_dl (1.20614714602e-05)\n",
      "558 feature f2_sr (1.19877886086e-05)\n",
      "559 feature e2_gi (1.16961476646e-05)\n",
      "560 feature f2_kc (1.16911343643e-05)\n",
      "561 feature e2_kc (1.16578272146e-05)\n",
      "562 feature e2_uy (1.16436665891e-05)\n",
      "563 feature e2_eu (1.16232595223e-05)\n",
      "564 feature e2_lf (1.1510046258e-05)\n",
      "565 feature f2_ew (1.15048173892e-05)\n",
      "566 feature f2_xo (1.14925958113e-05)\n",
      "567 feature f2_yl (1.13040426551e-05)\n",
      "568 feature e2_rh (1.12124226128e-05)\n",
      "569 feature f2_dn (1.12118659458e-05)\n",
      "570 feature f2_js (1.10313670133e-05)\n",
      "571 feature f2_eh (1.09603030018e-05)\n",
      "572 feature e2_ev (1.09528315872e-05)\n",
      "573 feature e2_iv (1.08772054489e-05)\n",
      "574 feature f2_kj (1.08226796047e-05)\n",
      "575 feature e2_lt (1.06676699367e-05)\n",
      "576 feature e2_ub (1.05770764631e-05)\n",
      "577 feature e2_of (1.05380797111e-05)\n",
      "578 feature e2_ht (1.02301474142e-05)\n",
      "579 feature e2_mu (1.01963016286e-05)\n",
      "580 feature e2_sc (1.0189424598e-05)\n",
      "581 feature e2_hl (1.01865867557e-05)\n",
      "582 feature e2_jr (1.0078950399e-05)\n",
      "583 feature e2_fy (9.94422943056e-06)\n",
      "584 feature e2_rv (9.8544112104e-06)\n",
      "585 feature e2_xi (9.82362102372e-06)\n",
      "586 feature e2_ii (9.67079825755e-06)\n",
      "587 feature f2_eo (9.35310002001e-06)\n",
      "588 feature f2_dm (9.26051339551e-06)\n",
      "589 feature f2_sj (9.04593981263e-06)\n",
      "590 feature e2_yt (8.75326190708e-06)\n",
      "591 feature e2_ec (8.6139517963e-06)\n",
      "592 feature e2_eg (8.55910773413e-06)\n",
      "593 feature f2_mm (8.53814644638e-06)\n",
      "594 feature f2_ax (8.5324511416e-06)\n",
      "595 feature f2_xu (8.4139372893e-06)\n",
      "596 feature f2_if (8.33849062896e-06)\n",
      "597 feature f2_vu (8.05589923386e-06)\n",
      "598 feature f2_ic (7.85651327374e-06)\n",
      "599 feature e2_gs (7.75844210208e-06)\n",
      "600 feature e2_xy (7.74224131806e-06)\n",
      "601 feature e2_mc (7.73974150432e-06)\n",
      "602 feature e2_kk (7.63963741783e-06)\n",
      "603 feature e2_hu (7.55190974137e-06)\n",
      "604 feature e2_eq (7.50501021749e-06)\n",
      "605 feature f2_nk (7.49560391096e-06)\n",
      "606 feature e2_rb (7.18062860506e-06)\n",
      "607 feature f2_us (7.10637510496e-06)\n",
      "608 feature f2_uy (6.96430650421e-06)\n",
      "609 feature e2_ws (6.90964408431e-06)\n",
      "610 feature e2_xs (6.80668658017e-06)\n",
      "611 feature e2_yy (6.71707440798e-06)\n",
      "612 feature f2_zv (6.71640525477e-06)\n",
      "613 feature f2_ix (6.67766120668e-06)\n",
      "614 feature e2_gn (6.64157056392e-06)\n",
      "615 feature e2_ps (6.63549681732e-06)\n",
      "616 feature e2_ex (6.57089685582e-06)\n",
      "617 feature f2_qw (6.40100142844e-06)\n",
      "618 feature f2_ym (6.38999285906e-06)\n",
      "619 feature f2_mr (6.3433533718e-06)\n",
      "620 feature e2_ap (6.2795145971e-06)\n",
      "621 feature f2_zy (6.13065518413e-06)\n",
      "622 feature f2_hr (6.08136061195e-06)\n",
      "623 feature e2_ru (5.77077542331e-06)\n",
      "624 feature f2_zs (5.58595341353e-06)\n",
      "625 feature e2_oz (5.43668491324e-06)\n",
      "626 feature f2_nc (5.40030535803e-06)\n",
      "627 feature f2_aw (5.30444619873e-06)\n",
      "628 feature f2_tj (5.25479070054e-06)\n",
      "629 feature e2_du (5.22251133997e-06)\n",
      "630 feature e2_cs (5.15051216639e-06)\n",
      "631 feature f2_bj (5.05464893379e-06)\n",
      "632 feature e2_pa (5.02970702946e-06)\n",
      "633 feature f2_zh (5.01604257244e-06)\n",
      "634 feature e2_lu (4.98092158556e-06)\n",
      "635 feature f2_nt (4.88434663506e-06)\n",
      "636 feature e2_ax (4.69141713892e-06)\n",
      "637 feature f2_ou (4.68467627153e-06)\n",
      "638 feature e2_ix (4.61391344416e-06)\n",
      "639 feature f2_oy (4.59409237843e-06)\n",
      "640 feature f2_dq (4.43704287231e-06)\n",
      "641 feature e2_dn (4.42702340442e-06)\n",
      "642 feature e2_kt (4.41163484424e-06)\n",
      "643 feature f2_uh (4.24492449858e-06)\n",
      "644 feature e2_tr (4.14530232615e-06)\n",
      "645 feature f2_ww (3.96245707101e-06)\n",
      "646 feature e2_pt (3.94279002051e-06)\n",
      "647 feature e2_js (3.91787282189e-06)\n",
      "648 feature e2_pp (3.88865431558e-06)\n",
      "649 feature f2_xe (3.74685146146e-06)\n",
      "650 feature f2_nn (3.65353163605e-06)\n",
      "651 feature e2_aw (3.649866281e-06)\n",
      "652 feature e2_mn (3.58432156627e-06)\n",
      "653 feature f2_kt (3.43563561786e-06)\n",
      "654 feature e2_mr (3.38791172833e-06)\n",
      "655 feature e2_yk (3.29836958851e-06)\n",
      "656 feature f2_sv (3.28465687446e-06)\n",
      "657 feature e2_ju (3.26388806483e-06)\n",
      "658 feature f2_jn (2.98903104968e-06)\n",
      "659 feature f2_cz (2.94105673136e-06)\n",
      "660 feature e2_ug (2.92035854604e-06)\n",
      "661 feature e2_bu (2.87509646998e-06)\n",
      "662 feature e2_kr (2.84166168201e-06)\n",
      "663 feature e2_yx (2.81867203848e-06)\n",
      "664 feature f2_ld (2.79765154603e-06)\n",
      "665 feature f2_jq (2.77764609592e-06)\n",
      "666 feature e2_qu (2.69733549302e-06)\n",
      "667 feature f2_jm (2.68999626965e-06)\n",
      "668 feature e2_gt (2.6760774344e-06)\n",
      "669 feature f2_dk (2.65586555083e-06)\n",
      "670 feature e2_jl (2.62918849257e-06)\n",
      "671 feature e2_vs (2.61928707989e-06)\n",
      "672 feature e2_jy (2.61345312888e-06)\n",
      "673 feature f2_jt (2.55176647134e-06)\n",
      "674 feature e2_yu (2.53755108008e-06)\n",
      "675 feature e2_ku (2.43240977651e-06)\n",
      "676 feature f2_rp (2.36716368674e-06)\n",
      "677 feature e2_lj (2.35292273064e-06)\n",
      "678 feature f2_ud (2.32540245638e-06)\n",
      "679 feature e2_bt (2.29099452762e-06)\n",
      "680 feature f2_wl (2.28061502497e-06)\n",
      "681 feature e2_xx (2.1603997865e-06)\n",
      "682 feature f2_jj (2.13857001993e-06)\n",
      "683 feature e2_rx (2.12672656957e-06)\n",
      "684 feature e2_wu (2.08261136891e-06)\n",
      "685 feature f2_jl (2.05937445444e-06)\n",
      "686 feature f2_jv (2.01066154627e-06)\n",
      "687 feature f2_iq (1.98595850131e-06)\n",
      "688 feature f2_cn (1.97834902314e-06)\n",
      "689 feature e2_up (1.96491087304e-06)\n",
      "690 feature e2_ts (1.95160132649e-06)\n",
      "691 feature f2_ih (1.923294908e-06)\n",
      "692 feature e2_gg (1.88676619956e-06)\n",
      "693 feature f2_ao (1.85803448685e-06)\n",
      "694 feature e2_ej (1.7762096726e-06)\n",
      "695 feature e2_wy (1.76824730376e-06)\n",
      "696 feature e2_iu (1.75189614854e-06)\n",
      "697 feature f2_gz (1.75135264817e-06)\n",
      "698 feature f2_vy (1.72843585406e-06)\n",
      "699 feature e2_jw (1.68618266997e-06)\n",
      "700 feature e2_nl (1.65404764711e-06)\n",
      "701 feature f2_jd (1.63751975623e-06)\n",
      "702 feature e2_oj (1.62846242454e-06)\n",
      "703 feature f2_ss (1.61475687063e-06)\n",
      "704 feature f2_eq (1.60687075429e-06)\n",
      "705 feature e2_xl (1.57623096803e-06)\n",
      "706 feature f2_lc (1.54732507284e-06)\n",
      "707 feature f2_cc (1.53733965103e-06)\n",
      "708 feature e2_uj (1.52371096641e-06)\n",
      "709 feature f2_ub (1.51351878181e-06)\n",
      "710 feature e2_lc (1.49059324095e-06)\n",
      "711 feature e2_nj (1.45703490555e-06)\n",
      "712 feature f2_iw (1.45681870935e-06)\n",
      "713 feature f2_mt (1.44804259495e-06)\n",
      "714 feature e2_mp (1.40799043522e-06)\n",
      "715 feature e2_cj (1.38665401892e-06)\n",
      "716 feature f2_ee (1.3651874056e-06)\n",
      "717 feature e2_jm (1.30981824824e-06)\n",
      "718 feature f2_bn (1.30874657448e-06)\n",
      "719 feature e2_vd (1.2261068773e-06)\n",
      "720 feature f2_tl (1.22162391621e-06)\n",
      "721 feature e2_lk (1.17873534054e-06)\n",
      "722 feature f2_lh (1.16514180186e-06)\n",
      "723 feature e2_iy (1.13733329454e-06)\n",
      "724 feature f2_lj (1.1277898425e-06)\n",
      "725 feature f2_pt (1.0946455862e-06)\n",
      "726 feature e2_su (1.08655571806e-06)\n",
      "727 feature f2_ig (1.03420473285e-06)\n",
      "728 feature f2_uf (1.02531995189e-06)\n",
      "729 feature e2_ct (9.38957707448e-07)\n",
      "730 feature e2_rw (9.38623969039e-07)\n",
      "731 feature e2_zu (8.55818950007e-07)\n",
      "732 feature e2_jb (8.51002654106e-07)\n",
      "733 feature e2_bn (8.46727848647e-07)\n",
      "734 feature f2_dd (8.30047515002e-07)\n",
      "735 feature f2_hl (8.14236639297e-07)\n",
      "736 feature e2_sn (8.13569609105e-07)\n",
      "737 feature e2_fu (8.08361356531e-07)\n",
      "738 feature f2_ie (7.65621974977e-07)\n",
      "739 feature e2_jt (7.61079780447e-07)\n",
      "740 feature f2_iy (7.42840819733e-07)\n",
      "741 feature e2_ux (7.42105179694e-07)\n",
      "742 feature f2_jb (7.30379913271e-07)\n",
      "743 feature e2_hh (6.92866471741e-07)\n",
      "744 feature e2_hp (6.16704343693e-07)\n",
      "745 feature e2_ov (5.20082547894e-07)\n",
      "746 feature f2_bt (5.13620700225e-07)\n",
      "747 feature e2_rq (5.09615388728e-07)\n",
      "748 feature e2_yc (4.88172905845e-07)\n",
      "749 feature e2_bj (4.84641497915e-07)\n",
      "750 feature e2_rf (4.54526286064e-07)\n",
      "751 feature e2_lp (4.30631862689e-07)\n",
      "752 feature f2_cj (4.19365849357e-07)\n",
      "753 feature f2_uv (3.80545950752e-07)\n",
      "754 feature f2_yd (3.72329764941e-07)\n",
      "755 feature f2_nd (3.6208628978e-07)\n",
      "756 feature e2_vu (3.58186815452e-07)\n",
      "757 feature f2_xy (3.55456865422e-07)\n",
      "758 feature e2_hd (3.55009807254e-07)\n",
      "759 feature f2_tk (3.48455311534e-07)\n",
      "760 feature e2_wd (3.44531631847e-07)\n",
      "761 feature e2_wk (3.29753359802e-07)\n",
      "762 feature f2_ek (2.66609440475e-07)\n",
      "763 feature f2_ns (2.59747502122e-07)\n",
      "764 feature f2_oj (2.56211893848e-07)\n",
      "765 feature f2_vl (2.35643940798e-07)\n",
      "766 feature f2_dz (2.30384601336e-07)\n",
      "767 feature f2_nj (2.05448233824e-07)\n",
      "768 feature e2_rj (2.03821986413e-07)\n",
      "769 feature f2_qi (1.9871047479e-07)\n",
      "770 feature f2_ej (1.93495652344e-07)\n",
      "771 feature e2_qa (1.9058683819e-07)\n",
      "772 feature f2_ij (1.71590531723e-07)\n",
      "773 feature f2_nz (1.71016597038e-07)\n",
      "774 feature e2_wt (1.6997277538e-07)\n",
      "775 feature e2_aq (1.69513054606e-07)\n",
      "776 feature f2_lt (1.60091146363e-07)\n",
      "777 feature f2_rb (1.56995398496e-07)\n",
      "778 feature f2_tm (1.56828528229e-07)\n",
      "779 feature e2_dh (1.08769571254e-07)\n",
      "780 feature f2_sb (8.91300314512e-08)\n",
      "781 feature e2_uf (8.7804870868e-08)\n",
      "782 feature f2_pn (6.72998902122e-08)\n",
      "783 feature e2_nx (6.71808165465e-08)\n",
      "784 feature e2_uv (3.81110277347e-08)\n",
      "785 feature f2_zl (2.49179179078e-08)\n",
      "786 feature e2_jj (1.96204125422e-08)\n",
      "787 feature f2_tn (1.36454738126e-08)\n",
      "788 feature e2_tj (1.15098155361e-08)\n",
      "789 feature f2_ks (1.50120150213e-09)\n",
      "790 feature e2_oq (0.0)\n",
      "791 feature e2_mh (0.0)\n",
      "792 feature f2_xz (0.0)\n",
      "793 feature f2_up (0.0)\n",
      "794 feature f2_ui (0.0)\n",
      "795 feature f2_tp (0.0)\n",
      "796 feature f2_uw (0.0)\n",
      "797 feature f2_zb (0.0)\n",
      "798 feature e2_mz (0.0)\n",
      "799 feature e2_mb (0.0)\n",
      "800 feature f2_wm (0.0)\n",
      "801 feature f2_uc (0.0)\n",
      "802 feature e2_lb (0.0)\n",
      "803 feature f2_wn (0.0)\n",
      "804 feature f2_wu (0.0)\n",
      "805 feature f2_yg (0.0)\n",
      "806 feature f2_vh (0.0)\n",
      "807 feature e2_yf (0.0)\n",
      "808 feature f2_rw (0.0)\n",
      "809 feature f2_ds (0.0)\n",
      "810 feature e2_uq (0.0)\n",
      "811 feature f2_jg (0.0)\n",
      "812 feature e2_uu (0.0)\n",
      "813 feature f2_jc (0.0)\n",
      "814 feature f2_ii (0.0)\n",
      "815 feature f2_gj (0.0)\n",
      "816 feature e2_wi (0.0)\n",
      "817 feature e2_pj (0.0)\n",
      "818 feature e2_hw (0.0)\n",
      "819 feature f2_cs (0.0)\n",
      "820 feature e2_wl (0.0)\n",
      "821 feature f2_bw (0.0)\n",
      "822 feature e2_xu (0.0)\n",
      "823 feature e2_hj (0.0)\n",
      "824 feature e2_tc (0.0)\n",
      "825 feature f2_jp (0.0)\n",
      "826 feature f2_jr (0.0)\n",
      "827 feature e2_dj (0.0)\n",
      "828 feature e2_rz (0.0)\n",
      "829 feature f2_kv (0.0)\n",
      "830 feature f2_lb (0.0)\n",
      "831 feature e2_jc (0.0)\n",
      "832 feature e2_jh (0.0)\n",
      "833 feature f2_oe (0.0)\n",
      "834 feature f2_oo (0.0)\n",
      "835 feature e2_jp (0.0)\n",
      "836 feature f2_pj (0.0)\n",
      "837 feature f2_pp (0.0)\n",
      "838 feature f2_py (0.0)\n",
      "839 feature f2_rd (0.0)\n",
      "840 feature f2_rj (0.0)\n",
      "841 feature e2_zl (0.0)\n"
     ]
    }
   ],
   "source": [
    "importances = grid.best_estimator_.feature_importances_\n",
    "std = np.std([tree.feature_importances_ for tree in grid.best_estimator_.estimators_],axis=0)\n",
    "indices = np.argsort(importances)[::-1]\n",
    "\n",
    "# Print the feature ranking\n",
    "print(\"Feature ranking:\")\n",
    "\n",
    "for f in range(X_train.shape[1]):\n",
    "    print(\"{} feature {} ({})\".format(f + 1, X_train.columns[indices[f]], importances[indices[f]]))"
   ]
  },
  {
   "cell_type": "code",
   "execution_count": 399,
   "metadata": {
    "collapsed": false
   },
   "outputs": [
    {
     "data": {
      "text/plain": [
       "<Container object of 100 artists>"
      ]
     },
     "execution_count": 399,
     "metadata": {},
     "output_type": "execute_result"
    },
    {
     "data": {
      "image/png": "[encoded data removed]",
      "text/plain": [
       "<matplotlib.figure.Figure at 0x160d702d0>"
      ]
     },
     "metadata": {},
     "output_type": "display_data"
    }
   ],
   "source": [
    "import matplotlib.pyplot as plt\n",
    "plt.bar(range(100), importances[indices][:100],\n",
    "       color=\"r\",align=\"center\")"
   ]
  },
  {
   "cell_type": "code",
   "execution_count": 311,
   "metadata": {
    "collapsed": false
   },
   "outputs": [
    {
     "name": "stdout",
     "output_type": "stream",
     "text": [
      "0.057821267278\n",
      "0.465658499234\n"
     ]
    }
   ],
   "source": [
    "print X_train[y_train == 'M']['e1_a'].sum()/sum(y_train == 'M')\n",
    "print X_train[y_train == 'F']['e1_a'].sum()/sum(y_train == 'F')"
   ]
  },
  {
   "cell_type": "code",
   "execution_count": 312,
   "metadata": {
    "collapsed": false
   },
   "outputs": [
    {
     "name": "stdout",
     "output_type": "stream",
     "text": [
      "0.0720541946079\n",
      "0.00991577335375\n"
     ]
    }
   ],
   "source": [
    "print X_train[y_train == 'M']['e1_o'].sum()/sum(y_train == 'M')\n",
    "print X_train[y_train == 'F']['e1_o'].sum()/sum(y_train == 'F')"
   ]
  },
  {
   "cell_type": "code",
   "execution_count": 313,
   "metadata": {
    "collapsed": false
   },
   "outputs": [
    {
     "name": "stdout",
     "output_type": "stream",
     "text": [
      "0.0805392089777\n",
      "0.0168070444104\n"
     ]
    }
   ],
   "source": [
    "print X_train[y_train == 'M']['e1_s'].sum()/sum(y_train == 'M')\n",
    "print X_train[y_train == 'F']['e1_s'].sum()/sum(y_train == 'F')"
   ]
  },
  {
   "cell_type": "code",
   "execution_count": 314,
   "metadata": {
    "collapsed": false
   },
   "outputs": [
    {
     "name": "stdout",
     "output_type": "stream",
     "text": [
      "0.0720541946079\n",
      "0.0126339969372\n"
     ]
    }
   ],
   "source": [
    "print X_train[y_train == 'M']['e2_on'].sum()/sum(y_train == 'M')\n",
    "print X_train[y_train == 'F']['e2_on'].sum()/sum(y_train == 'F')"
   ]
  },
  {
   "cell_type": "code",
   "execution_count": 315,
   "metadata": {
    "collapsed": false
   },
   "outputs": [
    {
     "name": "stdout",
     "output_type": "stream",
     "text": [
      "0.0076638839469\n",
      "0.0812404287902\n"
     ]
    }
   ],
   "source": [
    "print X_train[y_train == 'M']['e2_na'].sum()/sum(y_train == 'M')\n",
    "print X_train[y_train == 'F']['e2_na'].sum()/sum(y_train == 'F')"
   ]
  },
  {
   "cell_type": "code",
   "execution_count": 316,
   "metadata": {
    "collapsed": false
   },
   "outputs": [
    {
     "name": "stdout",
     "output_type": "stream",
     "text": [
      "0.0480361297386\n",
      "0.0051684532925\n"
     ]
    }
   ],
   "source": [
    "print X_train[y_train == 'M']['e1_d'].sum()/sum(y_train == 'M')\n",
    "print X_train[y_train == 'F']['e1_d'].sum()/sum(y_train == 'F')"
   ]
  },
  {
   "cell_type": "code",
   "execution_count": 317,
   "metadata": {
    "collapsed": false
   },
   "outputs": [
    {
     "data": {
      "text/plain": [
       "<matplotlib.axes._subplots.AxesSubplot at 0x180a50610>"
      ]
     },
     "execution_count": 317,
     "metadata": {},
     "output_type": "execute_result"
    },
    {
     "data": {
      "image/png": "[encoded data removed]",
      "text/plain": [
       "<matplotlib.figure.Figure at 0x160df7dd0>"
      ]
     },
     "metadata": {},
     "output_type": "display_data"
    },
    {
     "data": {
      "image/png": "[encoded data removed]",
      "text/plain": [
       "<matplotlib.figure.Figure at 0x160df72d0>"
      ]
     },
     "metadata": {},
     "output_type": "display_data"
    }
   ],
   "source": [
    "%matplotlib inline\n",
    "X_train[y_train == 'M']['length'].hist(color='red', bins = 16)\n",
    "plt.figure()\n",
    "X_train[y_train == 'F']['length'].hist(color='green', bins = 16)"
   ]
  },
  {
   "cell_type": "code",
   "execution_count": 318,
   "metadata": {
    "collapsed": false
   },
   "outputs": [],
   "source": [
    "pred = grid.best_estimator_.predict(X_test)"
   ]
  },
  {
   "cell_type": "code",
   "execution_count": 319,
   "metadata": {
    "collapsed": false
   },
   "outputs": [
    {
     "data": {
      "text/plain": [
       "0.7798644866696126"
      ]
     },
     "execution_count": 319,
     "metadata": {},
     "output_type": "execute_result"
    }
   ],
   "source": [
    "1.0*sum(pred == y_test)/len(y_test)"
   ]
  }
 ],
 "metadata": {
  "kernelspec": {
   "display_name": "Python 2",
   "language": "python",
   "name": "python2"
  },
  "language_info": {
   "codemirror_mode": {
    "name": "ipython",
    "version": 2
   },
   "file_extension": ".py",
   "mimetype": "text/x-python",
   "name": "python",
   "nbconvert_exporter": "python",
   "pygments_lexer": "ipython2",
   "version": "2.7.12"
  }
 },
 "nbformat": 4,
 "nbformat_minor": 0
}
