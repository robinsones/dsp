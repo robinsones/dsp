{
 "cells": [
  {
   "cell_type": "markdown",
   "metadata": {},
   "source": [
    "#Pandas Overview"
   ]
  },
  {
   "cell_type": "markdown",
   "metadata": {},
   "source": [
    "#### From the Pandas documentation:\n",
    "\n",
    "Here are just a few of the things that pandas does well:\n",
    "\n",
    "- Easy handling of **missing data** (represented as NaN) in floating point as well as non-floating point data\n",
    "- Size mutability: columns can be **inserted and deleted** from DataFrame and higher dimensional objects\n",
    "- Automatic and explicit **data alignment**: objects can be explicitly aligned to a set of labels, or the user can simply ignore the labels and let Series, DataFrame, etc. automatically align the data for you in computations\n",
    "- Powerful, flexible **group by** functionality to perform split-apply-combine operations on data sets, for both aggregating and transforming data\n",
    "- Make it **easy to convert** ragged, differently-indexed data in other Python and NumPy data structures into DataFrame objects\n",
    "- Intelligent **label-based slicing**, **fancy indexing**, and **subsetting** of large data sets\n",
    "- Intuitive **merging** and **joining** data sets\n",
    "- Flexible **reshaping** and **pivoting** of data sets\n",
    "- **Hierarchical labeling** of axes (possible to have multiple labels per tick)\n",
    "- **Robust IO tools** for loading data from flat files (CSV and delimited), Excel files, databases, and saving / loading data from the ultrafast HDF5 format\n",
    "- **Time series**-specific functionality: date range generation and frequency conversion, moving window statistics, moving window linear regressions, date shifting and lagging, etc."
   ]
  },
  {
   "cell_type": "markdown",
   "metadata": {},
   "source": [
    "# Quick Introduction"
   ]
  },
  {
   "cell_type": "code",
   "execution_count": 1,
   "metadata": {
    "collapsed": false
   },
   "outputs": [],
   "source": [
    "import pandas as pd  ##\n",
    "import numpy as np    ## Arrays and matrices\n",
    "import matplotlib.pyplot as plt  ## Plots and charts\n",
    "%matplotlib inline   "
   ]
  },
  {
   "cell_type": "code",
   "execution_count": 2,
   "metadata": {
    "collapsed": false
   },
   "outputs": [
    {
     "data": {
      "text/plain": [
       "'0.15.2'"
      ]
     },
     "execution_count": 2,
     "metadata": {},
     "output_type": "execute_result"
    }
   ],
   "source": [
    "pd.__version__"
   ]
  },
  {
   "cell_type": "code",
   "execution_count": 3,
   "metadata": {
    "collapsed": false
   },
   "outputs": [
    {
     "data": {
      "text/plain": [
       "'1.9.2'"
      ]
     },
     "execution_count": 3,
     "metadata": {},
     "output_type": "execute_result"
    }
   ],
   "source": [
    "np.__version__"
   ]
  },
  {
   "cell_type": "code",
   "execution_count": 4,
   "metadata": {
    "collapsed": false
   },
   "outputs": [
    {
     "data": {
      "text/plain": [
       "'1.4.2'"
      ]
     },
     "execution_count": 4,
     "metadata": {},
     "output_type": "execute_result"
    }
   ],
   "source": [
    "import matplotlib\n",
    "matplotlib.__version__"
   ]
  },
  {
   "cell_type": "markdown",
   "metadata": {},
   "source": [
    "## Basic data structures"
   ]
  },
  {
   "cell_type": "markdown",
   "metadata": {},
   "source": [
    "### 1. Series (1-dim'l)"
   ]
  },
  {
   "cell_type": "code",
   "execution_count": 5,
   "metadata": {
    "collapsed": false
   },
   "outputs": [],
   "source": [
    "pd.Series?"
   ]
  },
  {
   "cell_type": "code",
   "execution_count": 6,
   "metadata": {
    "collapsed": false
   },
   "outputs": [
    {
     "data": {
      "text/plain": [
       "0     1\n",
       "1     3\n",
       "2     5\n",
       "3   NaN\n",
       "4     6\n",
       "5     8\n",
       "dtype: float64"
      ]
     },
     "execution_count": 6,
     "metadata": {},
     "output_type": "execute_result"
    }
   ],
   "source": [
    "## Make a Series\n",
    "s = pd.Series([1,3,5,np.nan,6,8]); s"
   ]
  },
  {
   "cell_type": "code",
   "execution_count": 7,
   "metadata": {
    "collapsed": false
   },
   "outputs": [
    {
     "data": {
      "text/plain": [
       "a    1.000000\n",
       "b    3.000000\n",
       "c    5.000000\n",
       "d         NaN\n",
       "e    6.000000\n",
       "f         inf\n",
       "dtype: float64"
      ]
     },
     "execution_count": 7,
     "metadata": {},
     "output_type": "execute_result"
    }
   ],
   "source": [
    "## Make a Series with custom indices \n",
    "s = pd.Series([1,3,5,np.nan,6,np.inf], ['a', 'b', 'c', 'd', 'e', 'f']); s"
   ]
  },
  {
   "cell_type": "code",
   "execution_count": 8,
   "metadata": {
    "collapsed": false
   },
   "outputs": [
    {
     "data": {
      "text/plain": [
       "1.0"
      ]
     },
     "execution_count": 8,
     "metadata": {},
     "output_type": "execute_result"
    }
   ],
   "source": [
    "s['a']  ## Lookup an entry by index label"
   ]
  },
  {
   "cell_type": "code",
   "execution_count": 9,
   "metadata": {
    "collapsed": false
   },
   "outputs": [
    {
     "data": {
      "text/plain": [
       "nan"
      ]
     },
     "execution_count": 9,
     "metadata": {},
     "output_type": "execute_result"
    }
   ],
   "source": [
    "s[3]  ## Lookup an entry by the numerical index"
   ]
  },
  {
   "cell_type": "code",
   "execution_count": 10,
   "metadata": {
    "collapsed": false
   },
   "outputs": [],
   "source": [
    "## Some different lookup examples\n",
    "#s\n",
    "#s.loc['a']\n",
    "#s['a']\n",
    "#s.iloc[2]"
   ]
  },
  {
   "cell_type": "code",
   "execution_count": 11,
   "metadata": {
    "collapsed": false
   },
   "outputs": [
    {
     "data": {
      "text/plain": [
       "numpy.float64"
      ]
     },
     "execution_count": 11,
     "metadata": {},
     "output_type": "execute_result"
    }
   ],
   "source": [
    "type(s[3])"
   ]
  },
  {
   "cell_type": "code",
   "execution_count": 12,
   "metadata": {
    "collapsed": false
   },
   "outputs": [
    {
     "data": {
      "text/plain": [
       "2011-01-01 00:00:00     0\n",
       "2011-01-01 01:00:00     1\n",
       "2011-01-01 02:00:00     4\n",
       "2011-01-01 03:00:00     9\n",
       "2011-01-01 04:00:00    16\n",
       "2011-01-01 05:00:00    25\n",
       "2011-01-01 06:00:00    36\n",
       "2011-01-01 07:00:00    49\n",
       "2011-01-01 08:00:00    64\n",
       "2011-01-01 09:00:00    81\n",
       "Freq: H, dtype: int64"
      ]
     },
     "execution_count": 12,
     "metadata": {},
     "output_type": "execute_result"
    }
   ],
   "source": [
    "## Make a \"time series\" Series\n",
    "rng = pd.date_range('1/1/2011', periods=10, freq='H')\n",
    "ts = pd.Series([x*x  for x in range(10)], rng);\n",
    "ts"
   ]
  },
  {
   "cell_type": "code",
   "execution_count": 13,
   "metadata": {
    "collapsed": false
   },
   "outputs": [
    {
     "data": {
      "text/plain": [
       "count    10.000000\n",
       "mean     28.500000\n",
       "std      28.304888\n",
       "min       0.000000\n",
       "25%       5.250000\n",
       "50%      20.500000\n",
       "75%      45.750000\n",
       "max      81.000000\n",
       "dtype: float64"
      ]
     },
     "execution_count": 13,
     "metadata": {},
     "output_type": "execute_result"
    }
   ],
   "source": [
    "## Tell me some useful info about the timeseries\n",
    "ts.describe()"
   ]
  },
  {
   "cell_type": "code",
   "execution_count": 14,
   "metadata": {
    "collapsed": false
   },
   "outputs": [
    {
     "data": {
      "text/plain": [
       "<matplotlib.axes._subplots.AxesSubplot at 0x10073b8d0>"
      ]
     },
     "execution_count": 14,
     "metadata": {},
     "output_type": "execute_result"
    },
    {
     "data": {
      "image/png": "[encoded data removed]",
      "text/plain": [
       "<matplotlib.figure.Figure at 0x106c6bc50>"
      ]
     },
     "metadata": {},
     "output_type": "display_data"
    }
   ],
   "source": [
    "## Plot the timeseries\n",
    "ts.plot()"
   ]
  },
  {
   "cell_type": "code",
   "execution_count": 15,
   "metadata": {
    "collapsed": false
   },
   "outputs": [
    {
     "data": {
      "text/plain": [
       "2011-01-01 00:00:00      0\n",
       "2011-01-01 01:00:00      2\n",
       "2011-01-01 02:00:00      8\n",
       "2011-01-01 03:00:00     18\n",
       "2011-01-01 04:00:00     32\n",
       "2011-01-01 05:00:00     50\n",
       "2011-01-01 06:00:00     72\n",
       "2011-01-01 07:00:00     98\n",
       "2011-01-01 08:00:00    128\n",
       "2011-01-01 09:00:00    162\n",
       "Freq: H, dtype: int64"
      ]
     },
     "execution_count": 15,
     "metadata": {},
     "output_type": "execute_result"
    }
   ],
   "source": [
    "## Add two Series\n",
    "ts + ts"
   ]
  },
  {
   "cell_type": "code",
   "execution_count": 16,
   "metadata": {
    "collapsed": false
   },
   "outputs": [
    {
     "data": {
      "text/plain": [
       "2011-01-01 00:00:00       0\n",
       "2011-01-01 01:00:00       1\n",
       "2011-01-01 02:00:00      16\n",
       "2011-01-01 03:00:00      81\n",
       "2011-01-01 04:00:00     256\n",
       "2011-01-01 05:00:00     625\n",
       "2011-01-01 06:00:00    1296\n",
       "2011-01-01 07:00:00    2401\n",
       "2011-01-01 08:00:00    4096\n",
       "2011-01-01 09:00:00    6561\n",
       "Freq: H, dtype: int64"
      ]
     },
     "execution_count": 16,
     "metadata": {},
     "output_type": "execute_result"
    }
   ],
   "source": [
    "## Multiply two Series\n",
    "ts * ts"
   ]
  },
  {
   "cell_type": "code",
   "execution_count": 17,
   "metadata": {
    "collapsed": false
   },
   "outputs": [
    {
     "data": {
      "text/plain": [
       "2011-01-01 00:00:00      0\n",
       "2011-01-01 01:00:00      5\n",
       "2011-01-01 02:00:00     20\n",
       "2011-01-01 03:00:00     45\n",
       "2011-01-01 04:00:00     80\n",
       "2011-01-01 05:00:00    125\n",
       "2011-01-01 06:00:00    180\n",
       "2011-01-01 07:00:00    245\n",
       "2011-01-01 08:00:00    320\n",
       "2011-01-01 09:00:00    405\n",
       "Freq: H, dtype: int64"
      ]
     },
     "execution_count": 17,
     "metadata": {},
     "output_type": "execute_result"
    }
   ],
   "source": [
    "## Scale a Series\n",
    "5 * ts"
   ]
  },
  {
   "cell_type": "code",
   "execution_count": 18,
   "metadata": {
    "collapsed": false
   },
   "outputs": [
    {
     "data": {
      "text/plain": [
       "2011-01-01 00:00:00   NaN\n",
       "2011-01-01 01:00:00   NaN\n",
       "2011-01-01 02:00:00   NaN\n",
       "2011-01-01 03:00:00   NaN\n",
       "2011-01-01 04:00:00   NaN\n",
       "2011-01-01 05:00:00   NaN\n",
       "2011-01-01 06:00:00   NaN\n",
       "2011-01-01 07:00:00   NaN\n",
       "2011-01-01 08:00:00   NaN\n",
       "2011-01-01 09:00:00   NaN\n",
       "a                     NaN\n",
       "b                     NaN\n",
       "c                     NaN\n",
       "d                     NaN\n",
       "e                     NaN\n",
       "f                     NaN\n",
       "dtype: float64"
      ]
     },
     "execution_count": 18,
     "metadata": {},
     "output_type": "execute_result"
    }
   ],
   "source": [
    "## Add two Series with different labels\n",
    "ts + s"
   ]
  },
  {
   "cell_type": "code",
   "execution_count": 19,
   "metadata": {
    "collapsed": false
   },
   "outputs": [
    {
     "data": {
      "text/plain": [
       "2011-01-01 00:00:00    7\n",
       "2011-01-01 02:00:00    7\n",
       "2011-01-01 04:00:00    7\n",
       "2011-01-01 06:00:00    7\n",
       "Freq: 2H, dtype: int64"
      ]
     },
     "execution_count": 19,
     "metadata": {},
     "output_type": "execute_result"
    }
   ],
   "source": [
    "## Make another timeseries\n",
    "rng1 = pd.date_range('1/1/2011', periods=4, freq='2H')\n",
    "ts1 = pd.Series(4 * [7], rng1);\n",
    "ts1"
   ]
  },
  {
   "cell_type": "code",
   "execution_count": 20,
   "metadata": {
    "collapsed": false
   },
   "outputs": [
    {
     "data": {
      "text/plain": [
       "2011-01-01 00:00:00     0\n",
       "2011-01-01 01:00:00     1\n",
       "2011-01-01 02:00:00     4\n",
       "2011-01-01 03:00:00     9\n",
       "2011-01-01 04:00:00    16\n",
       "2011-01-01 05:00:00    25\n",
       "2011-01-01 06:00:00    36\n",
       "2011-01-01 07:00:00    49\n",
       "2011-01-01 08:00:00    64\n",
       "2011-01-01 09:00:00    81\n",
       "Freq: H, dtype: int64"
      ]
     },
     "execution_count": 20,
     "metadata": {},
     "output_type": "execute_result"
    }
   ],
   "source": [
    "ts"
   ]
  },
  {
   "cell_type": "code",
   "execution_count": 21,
   "metadata": {
    "collapsed": false
   },
   "outputs": [
    {
     "data": {
      "text/plain": [
       "2011-01-01 00:00:00     7\n",
       "2011-01-01 01:00:00   NaN\n",
       "2011-01-01 02:00:00    11\n",
       "2011-01-01 03:00:00   NaN\n",
       "2011-01-01 04:00:00    23\n",
       "2011-01-01 05:00:00   NaN\n",
       "2011-01-01 06:00:00    43\n",
       "2011-01-01 07:00:00   NaN\n",
       "2011-01-01 08:00:00   NaN\n",
       "2011-01-01 09:00:00   NaN\n",
       "dtype: float64"
      ]
     },
     "execution_count": 21,
     "metadata": {},
     "output_type": "execute_result"
    }
   ],
   "source": [
    "## Add them -- notice how overlaps are handled gracefully!\n",
    "ts2 = ts + ts1\n",
    "ts2"
   ]
  },
  {
   "cell_type": "code",
   "execution_count": 22,
   "metadata": {
    "collapsed": false
   },
   "outputs": [
    {
     "data": {
      "text/plain": [
       "<matplotlib.axes._subplots.AxesSubplot at 0x106d4cf50>"
      ]
     },
     "execution_count": 22,
     "metadata": {},
     "output_type": "execute_result"
    },
    {
     "data": {
      "image/png": "[encoded data removed]",
      "text/plain": [
       "<matplotlib.figure.Figure at 0x106d51290>"
      ]
     },
     "metadata": {},
     "output_type": "display_data"
    }
   ],
   "source": [
    "## Try to plot this -- not so good. =(\n",
    "ts2.plot()"
   ]
  },
  {
   "cell_type": "code",
   "execution_count": 23,
   "metadata": {
    "collapsed": false
   },
   "outputs": [
    {
     "data": {
      "text/plain": [
       "2011-01-01 01:00:00   NaN\n",
       "2011-01-01 03:00:00   NaN\n",
       "2011-01-01 05:00:00   NaN\n",
       "2011-01-01 07:00:00   NaN\n",
       "2011-01-01 08:00:00   NaN\n",
       "2011-01-01 09:00:00   NaN\n",
       "dtype: float64"
      ]
     },
     "execution_count": 23,
     "metadata": {},
     "output_type": "execute_result"
    }
   ],
   "source": [
    "## Extract the null dates\n",
    "ts2[pd.isnull(ts2)]"
   ]
  },
  {
   "cell_type": "code",
   "execution_count": 24,
   "metadata": {
    "collapsed": false
   },
   "outputs": [
    {
     "data": {
      "text/plain": [
       "2011-01-01 02:00:00    11\n",
       "2011-01-01 04:00:00    23\n",
       "2011-01-01 06:00:00    43\n",
       "dtype: float64"
      ]
     },
     "execution_count": 24,
     "metadata": {},
     "output_type": "execute_result"
    }
   ],
   "source": [
    "## Extract the large values\n",
    "ts2[ts2 > 10]"
   ]
  },
  {
   "cell_type": "code",
   "execution_count": 25,
   "metadata": {
    "collapsed": false
   },
   "outputs": [
    {
     "data": {
      "text/plain": [
       "2011-01-01 02:00:00    11\n",
       "2011-01-01 04:00:00    23\n",
       "dtype: float64"
      ]
     },
     "execution_count": 25,
     "metadata": {},
     "output_type": "execute_result"
    }
   ],
   "source": [
    "## Extract the medium values\n",
    "ts2[(ts2 > 10) & (ts2 < 40)]"
   ]
  },
  {
   "cell_type": "code",
   "execution_count": 26,
   "metadata": {
    "collapsed": false
   },
   "outputs": [
    {
     "data": {
      "text/plain": [
       "2011-01-01 00:00:00     7\n",
       "2011-01-01 02:00:00    11\n",
       "2011-01-01 04:00:00    23\n",
       "2011-01-01 06:00:00    43\n",
       "dtype: float64"
      ]
     },
     "execution_count": 26,
     "metadata": {},
     "output_type": "execute_result"
    }
   ],
   "source": [
    "## Extract the \"good\" (non-null) values\n",
    "ts2_good = ts2[pd.notnull(ts2)]\n",
    "ts2_good"
   ]
  },
  {
   "cell_type": "code",
   "execution_count": 27,
   "metadata": {
    "collapsed": false
   },
   "outputs": [
    {
     "data": {
      "text/plain": [
       "<matplotlib.axes._subplots.AxesSubplot at 0x106d7c850>"
      ]
     },
     "execution_count": 27,
     "metadata": {},
     "output_type": "execute_result"
    },
    {
     "data": {
      "image/png": "[encoded data removed]",
      "text/plain": [
       "<matplotlib.figure.Figure at 0x106d95d50>"
      ]
     },
     "metadata": {},
     "output_type": "display_data"
    }
   ],
   "source": [
    "## Plot the good/cleaned series\n",
    "ts2_good.plot()"
   ]
  },
  {
   "cell_type": "markdown",
   "metadata": {},
   "source": [
    "### Dates and times in Pandas\n"
   ]
  },
  {
   "cell_type": "code",
   "execution_count": 28,
   "metadata": {
    "collapsed": false
   },
   "outputs": [
    {
     "data": {
      "text/plain": [
       "<class 'pandas.tseries.index.DatetimeIndex'>\n",
       "[2013-01-01, ..., 2013-01-06]\n",
       "Length: 6, Freq: D, Timezone: None"
      ]
     },
     "execution_count": 28,
     "metadata": {},
     "output_type": "execute_result"
    }
   ],
   "source": [
    "## Make an index of dates\n",
    "dates = pd.date_range('20130101', periods=6); dates"
   ]
  },
  {
   "cell_type": "code",
   "execution_count": 29,
   "metadata": {
    "collapsed": false
   },
   "outputs": [
    {
     "data": {
      "text/plain": [
       "Timestamp('2013-01-01 00:00:00', offset='D')"
      ]
     },
     "execution_count": 29,
     "metadata": {},
     "output_type": "execute_result"
    }
   ],
   "source": [
    "## Extract one of them -- it's *not* a datetime object!\n",
    "dates[0]"
   ]
  },
  {
   "cell_type": "code",
   "execution_count": 30,
   "metadata": {
    "collapsed": false
   },
   "outputs": [
    {
     "data": {
      "text/plain": [
       "Timestamp('2013-01-18 00:00:00', offset='D')"
      ]
     },
     "execution_count": 30,
     "metadata": {},
     "output_type": "execute_result"
    }
   ],
   "source": [
    "dates[0] + 17"
   ]
  },
  {
   "cell_type": "code",
   "execution_count": 31,
   "metadata": {
    "collapsed": false
   },
   "outputs": [
    {
     "data": {
      "text/plain": [
       "Timestamp('2013-02-10 00:00:00', offset='D')"
      ]
     },
     "execution_count": 31,
     "metadata": {},
     "output_type": "execute_result"
    }
   ],
   "source": [
    "dates[0] + 40"
   ]
  },
  {
   "cell_type": "code",
   "execution_count": 32,
   "metadata": {
    "collapsed": false
   },
   "outputs": [
    {
     "data": {
      "text/plain": [
       "Timestamp('2015-06-02 00:00:00')"
      ]
     },
     "execution_count": 32,
     "metadata": {},
     "output_type": "execute_result"
    }
   ],
   "source": [
    "pd.Timestamp(\"2015-06-02\")"
   ]
  },
  {
   "cell_type": "code",
   "execution_count": 33,
   "metadata": {
    "collapsed": false
   },
   "outputs": [
    {
     "data": {
      "text/plain": [
       "Timestamp('2015-06-02 00:00:00')"
      ]
     },
     "execution_count": 33,
     "metadata": {},
     "output_type": "execute_result"
    }
   ],
   "source": [
    "pd.Timestamp(\"6/2/2015\")"
   ]
  },
  {
   "cell_type": "markdown",
   "metadata": {},
   "source": [
    "### 2. Dataframes (2-dim'l)"
   ]
  },
  {
   "cell_type": "code",
   "execution_count": 34,
   "metadata": {
    "collapsed": false
   },
   "outputs": [
    {
     "data": {
      "text/plain": [
       "<class 'pandas.tseries.index.DatetimeIndex'>\n",
       "[2013-01-01, ..., 2013-01-06]\n",
       "Length: 6, Freq: D, Timezone: None"
      ]
     },
     "execution_count": 34,
     "metadata": {},
     "output_type": "execute_result"
    }
   ],
   "source": [
    "## Make a range of dates\n",
    "dates = pd.date_range('20130101', periods=6); dates"
   ]
  },
  {
   "cell_type": "code",
   "execution_count": 35,
   "metadata": {
    "collapsed": false
   },
   "outputs": [
    {
     "data": {
      "text/plain": [
       "Timestamp('2013-01-01 00:00:00', offset='D')"
      ]
     },
     "execution_count": 35,
     "metadata": {},
     "output_type": "execute_result"
    }
   ],
   "source": [
    "dates[0]"
   ]
  },
  {
   "cell_type": "code",
   "execution_count": 36,
   "metadata": {
    "collapsed": false,
    "scrolled": true
   },
   "outputs": [
    {
     "data": {
      "text/html": [
       "<div style=\"max-height:1000px;max-width:1500px;overflow:auto;\">\n",
       "<table border=\"1\" class=\"dataframe\">\n",
       "  <thead>\n",
       "    <tr style=\"text-align: right;\">\n",
       "      <th></th>\n",
       "      <th>A</th>\n",
       "      <th>B</th>\n",
       "      <th>C</th>\n",
       "      <th>D</th>\n",
       "    </tr>\n",
       "  </thead>\n",
       "  <tbody>\n",
       "    <tr>\n",
       "      <th>2013-01-01</th>\n",
       "      <td>-1.680728</td>\n",
       "      <td> 1.639182</td>\n",
       "      <td> 1.101316</td>\n",
       "      <td>-0.153024</td>\n",
       "    </tr>\n",
       "    <tr>\n",
       "      <th>2013-01-02</th>\n",
       "      <td>-0.920413</td>\n",
       "      <td> 0.589343</td>\n",
       "      <td> 1.262636</td>\n",
       "      <td>-0.280432</td>\n",
       "    </tr>\n",
       "    <tr>\n",
       "      <th>2013-01-03</th>\n",
       "      <td> 0.104239</td>\n",
       "      <td> 0.198476</td>\n",
       "      <td>-0.635340</td>\n",
       "      <td> 1.101508</td>\n",
       "    </tr>\n",
       "    <tr>\n",
       "      <th>2013-01-04</th>\n",
       "      <td>-2.465289</td>\n",
       "      <td> 0.027072</td>\n",
       "      <td>-0.619460</td>\n",
       "      <td> 0.001331</td>\n",
       "    </tr>\n",
       "    <tr>\n",
       "      <th>2013-01-05</th>\n",
       "      <td> 1.116624</td>\n",
       "      <td> 0.159274</td>\n",
       "      <td> 0.375661</td>\n",
       "      <td> 0.798596</td>\n",
       "    </tr>\n",
       "    <tr>\n",
       "      <th>2013-01-06</th>\n",
       "      <td>-2.256609</td>\n",
       "      <td> 0.686276</td>\n",
       "      <td> 0.531433</td>\n",
       "      <td> 0.524107</td>\n",
       "    </tr>\n",
       "  </tbody>\n",
       "</table>\n",
       "</div>"
      ],
      "text/plain": [
       "                   A         B         C         D\n",
       "2013-01-01 -1.680728  1.639182  1.101316 -0.153024\n",
       "2013-01-02 -0.920413  0.589343  1.262636 -0.280432\n",
       "2013-01-03  0.104239  0.198476 -0.635340  1.101508\n",
       "2013-01-04 -2.465289  0.027072 -0.619460  0.001331\n",
       "2013-01-05  1.116624  0.159274  0.375661  0.798596\n",
       "2013-01-06 -2.256609  0.686276  0.531433  0.524107"
      ]
     },
     "execution_count": 36,
     "metadata": {},
     "output_type": "execute_result"
    }
   ],
   "source": [
    "## Make a dataframe from a numpy array\n",
    "df = pd.DataFrame(np.random.randn(6,4), index=dates, columns=list('ABCD')) \n",
    "df"
   ]
  },
  {
   "cell_type": "code",
   "execution_count": 37,
   "metadata": {
    "collapsed": false
   },
   "outputs": [
    {
     "data": {
      "text/html": [
       "<div style=\"max-height:1000px;max-width:1500px;overflow:auto;\">\n",
       "<table border=\"1\" class=\"dataframe\">\n",
       "  <thead>\n",
       "    <tr style=\"text-align: right;\">\n",
       "      <th></th>\n",
       "      <th>A</th>\n",
       "      <th>B</th>\n",
       "      <th>C</th>\n",
       "      <th>D</th>\n",
       "      <th>E</th>\n",
       "      <th>F</th>\n",
       "    </tr>\n",
       "  </thead>\n",
       "  <tbody>\n",
       "    <tr>\n",
       "      <th>0</th>\n",
       "      <td> 1</td>\n",
       "      <td>2013-01-02</td>\n",
       "      <td> 1</td>\n",
       "      <td> 3</td>\n",
       "      <td>  test</td>\n",
       "      <td> foo</td>\n",
       "    </tr>\n",
       "    <tr>\n",
       "      <th>1</th>\n",
       "      <td> 1</td>\n",
       "      <td>2013-01-02</td>\n",
       "      <td> 1</td>\n",
       "      <td> 3</td>\n",
       "      <td> train</td>\n",
       "      <td> foo</td>\n",
       "    </tr>\n",
       "    <tr>\n",
       "      <th>2</th>\n",
       "      <td> 1</td>\n",
       "      <td>2013-01-02</td>\n",
       "      <td> 1</td>\n",
       "      <td> 3</td>\n",
       "      <td>  test</td>\n",
       "      <td> foo</td>\n",
       "    </tr>\n",
       "    <tr>\n",
       "      <th>3</th>\n",
       "      <td> 1</td>\n",
       "      <td>2013-01-02</td>\n",
       "      <td> 1</td>\n",
       "      <td> 3</td>\n",
       "      <td> train</td>\n",
       "      <td> foo</td>\n",
       "    </tr>\n",
       "  </tbody>\n",
       "</table>\n",
       "</div>"
      ],
      "text/plain": [
       "   A          B  C  D      E    F\n",
       "0  1 2013-01-02  1  3   test  foo\n",
       "1  1 2013-01-02  1  3  train  foo\n",
       "2  1 2013-01-02  1  3   test  foo\n",
       "3  1 2013-01-02  1  3  train  foo"
      ]
     },
     "execution_count": 37,
     "metadata": {},
     "output_type": "execute_result"
    }
   ],
   "source": [
    "## Make a dataframe from a dictionary\n",
    "df2 = pd.DataFrame({ 'A' : 1., \\\n",
    "                    'B' : pd.Timestamp('20130102'), \\\n",
    "                    'C' : pd.Series(1,index=list(range(4)),dtype='float32'), \\\n",
    "                    'D' : np.array([3] * 4,dtype='int32'), \\\n",
    "                    'E' : pd.Categorical([\"test\",\"train\",\"test\",\"train\"]), \\\n",
    "                    'F' : 'foo' })\n",
    "df2"
   ]
  },
  {
   "cell_type": "code",
   "execution_count": 38,
   "metadata": {
    "collapsed": false
   },
   "outputs": [
    {
     "data": {
      "text/plain": [
       "A           float64\n",
       "B    datetime64[ns]\n",
       "C           float32\n",
       "D             int32\n",
       "E          category\n",
       "F            object\n",
       "dtype: object"
      ]
     },
     "execution_count": 38,
     "metadata": {},
     "output_type": "execute_result"
    }
   ],
   "source": [
    "## Look at the column types\n",
    "df2.dtypes"
   ]
  },
  {
   "cell_type": "code",
   "execution_count": 39,
   "metadata": {
    "collapsed": false
   },
   "outputs": [
    {
     "data": {
      "text/html": [
       "<div style=\"max-height:1000px;max-width:1500px;overflow:auto;\">\n",
       "<table border=\"1\" class=\"dataframe\">\n",
       "  <thead>\n",
       "    <tr style=\"text-align: right;\">\n",
       "      <th></th>\n",
       "      <th>A</th>\n",
       "      <th>B</th>\n",
       "      <th>C</th>\n",
       "      <th>D</th>\n",
       "      <th>E</th>\n",
       "      <th>F</th>\n",
       "    </tr>\n",
       "  </thead>\n",
       "  <tbody>\n",
       "    <tr>\n",
       "      <th>0</th>\n",
       "      <td> 1</td>\n",
       "      <td>2013-01-02</td>\n",
       "      <td> 1</td>\n",
       "      <td> 3</td>\n",
       "      <td>  test</td>\n",
       "      <td> foo</td>\n",
       "    </tr>\n",
       "    <tr>\n",
       "      <th>1</th>\n",
       "      <td> 1</td>\n",
       "      <td>2013-01-02</td>\n",
       "      <td> 1</td>\n",
       "      <td> 3</td>\n",
       "      <td> train</td>\n",
       "      <td> foo</td>\n",
       "    </tr>\n",
       "    <tr>\n",
       "      <th>2</th>\n",
       "      <td> 1</td>\n",
       "      <td>2013-01-02</td>\n",
       "      <td> 1</td>\n",
       "      <td> 3</td>\n",
       "      <td>  test</td>\n",
       "      <td> foo</td>\n",
       "    </tr>\n",
       "    <tr>\n",
       "      <th>3</th>\n",
       "      <td> 1</td>\n",
       "      <td>2013-01-02</td>\n",
       "      <td> 1</td>\n",
       "      <td> 3</td>\n",
       "      <td> train</td>\n",
       "      <td> foo</td>\n",
       "    </tr>\n",
       "  </tbody>\n",
       "</table>\n",
       "</div>"
      ],
      "text/plain": [
       "   A          B  C  D      E    F\n",
       "0  1 2013-01-02  1  3   test  foo\n",
       "1  1 2013-01-02  1  3  train  foo\n",
       "2  1 2013-01-02  1  3   test  foo\n",
       "3  1 2013-01-02  1  3  train  foo"
      ]
     },
     "execution_count": 39,
     "metadata": {},
     "output_type": "execute_result"
    }
   ],
   "source": [
    "## Look at the first few rows\n",
    "df2.head()"
   ]
  },
  {
   "cell_type": "code",
   "execution_count": 40,
   "metadata": {
    "collapsed": false
   },
   "outputs": [
    {
     "data": {
      "text/html": [
       "<div style=\"max-height:1000px;max-width:1500px;overflow:auto;\">\n",
       "<table border=\"1\" class=\"dataframe\">\n",
       "  <thead>\n",
       "    <tr style=\"text-align: right;\">\n",
       "      <th></th>\n",
       "      <th>A</th>\n",
       "      <th>B</th>\n",
       "      <th>C</th>\n",
       "      <th>D</th>\n",
       "      <th>E</th>\n",
       "      <th>F</th>\n",
       "    </tr>\n",
       "  </thead>\n",
       "  <tbody>\n",
       "    <tr>\n",
       "      <th>0</th>\n",
       "      <td> 1</td>\n",
       "      <td>2013-01-02</td>\n",
       "      <td> 1</td>\n",
       "      <td> 3</td>\n",
       "      <td>  test</td>\n",
       "      <td> foo</td>\n",
       "    </tr>\n",
       "    <tr>\n",
       "      <th>1</th>\n",
       "      <td> 1</td>\n",
       "      <td>2013-01-02</td>\n",
       "      <td> 1</td>\n",
       "      <td> 3</td>\n",
       "      <td> train</td>\n",
       "      <td> foo</td>\n",
       "    </tr>\n",
       "    <tr>\n",
       "      <th>2</th>\n",
       "      <td> 1</td>\n",
       "      <td>2013-01-02</td>\n",
       "      <td> 1</td>\n",
       "      <td> 3</td>\n",
       "      <td>  test</td>\n",
       "      <td> foo</td>\n",
       "    </tr>\n",
       "    <tr>\n",
       "      <th>3</th>\n",
       "      <td> 1</td>\n",
       "      <td>2013-01-02</td>\n",
       "      <td> 1</td>\n",
       "      <td> 3</td>\n",
       "      <td> train</td>\n",
       "      <td> foo</td>\n",
       "    </tr>\n",
       "  </tbody>\n",
       "</table>\n",
       "</div>"
      ],
      "text/plain": [
       "   A          B  C  D      E    F\n",
       "0  1 2013-01-02  1  3   test  foo\n",
       "1  1 2013-01-02  1  3  train  foo\n",
       "2  1 2013-01-02  1  3   test  foo\n",
       "3  1 2013-01-02  1  3  train  foo"
      ]
     },
     "execution_count": 40,
     "metadata": {},
     "output_type": "execute_result"
    }
   ],
   "source": [
    "## Look at the last few rows\n",
    "df2.tail()"
   ]
  },
  {
   "cell_type": "code",
   "execution_count": 41,
   "metadata": {
    "collapsed": false
   },
   "outputs": [
    {
     "data": {
      "text/plain": [
       "Index([u'A', u'B', u'C', u'D', u'E', u'F'], dtype='object')"
      ]
     },
     "execution_count": 41,
     "metadata": {},
     "output_type": "execute_result"
    }
   ],
   "source": [
    "## What are the column names?\n",
    "df2.columns"
   ]
  },
  {
   "cell_type": "code",
   "execution_count": 42,
   "metadata": {
    "collapsed": false
   },
   "outputs": [
    {
     "data": {
      "text/plain": [
       "array([[1.0, Timestamp('2013-01-02 00:00:00'), 1.0, 3, 'test', 'foo'],\n",
       "       [1.0, Timestamp('2013-01-02 00:00:00'), 1.0, 3, 'train', 'foo'],\n",
       "       [1.0, Timestamp('2013-01-02 00:00:00'), 1.0, 3, 'test', 'foo'],\n",
       "       [1.0, Timestamp('2013-01-02 00:00:00'), 1.0, 3, 'train', 'foo']], dtype=object)"
      ]
     },
     "execution_count": 42,
     "metadata": {},
     "output_type": "execute_result"
    }
   ],
   "source": [
    "## What are the rows?  (as a numpy array!)\n",
    "df2.values"
   ]
  },
  {
   "cell_type": "code",
   "execution_count": 43,
   "metadata": {
    "collapsed": false
   },
   "outputs": [
    {
     "data": {
      "text/html": [
       "<div style=\"max-height:1000px;max-width:1500px;overflow:auto;\">\n",
       "<table border=\"1\" class=\"dataframe\">\n",
       "  <thead>\n",
       "    <tr style=\"text-align: right;\">\n",
       "      <th></th>\n",
       "      <th>A</th>\n",
       "      <th>C</th>\n",
       "      <th>D</th>\n",
       "    </tr>\n",
       "  </thead>\n",
       "  <tbody>\n",
       "    <tr>\n",
       "      <th>count</th>\n",
       "      <td> 4</td>\n",
       "      <td> 4</td>\n",
       "      <td> 4</td>\n",
       "    </tr>\n",
       "    <tr>\n",
       "      <th>mean</th>\n",
       "      <td> 1</td>\n",
       "      <td> 1</td>\n",
       "      <td> 3</td>\n",
       "    </tr>\n",
       "    <tr>\n",
       "      <th>std</th>\n",
       "      <td> 0</td>\n",
       "      <td> 0</td>\n",
       "      <td> 0</td>\n",
       "    </tr>\n",
       "    <tr>\n",
       "      <th>min</th>\n",
       "      <td> 1</td>\n",
       "      <td> 1</td>\n",
       "      <td> 3</td>\n",
       "    </tr>\n",
       "    <tr>\n",
       "      <th>25%</th>\n",
       "      <td> 1</td>\n",
       "      <td> 1</td>\n",
       "      <td> 3</td>\n",
       "    </tr>\n",
       "    <tr>\n",
       "      <th>50%</th>\n",
       "      <td> 1</td>\n",
       "      <td> 1</td>\n",
       "      <td> 3</td>\n",
       "    </tr>\n",
       "    <tr>\n",
       "      <th>75%</th>\n",
       "      <td> 1</td>\n",
       "      <td> 1</td>\n",
       "      <td> 3</td>\n",
       "    </tr>\n",
       "    <tr>\n",
       "      <th>max</th>\n",
       "      <td> 1</td>\n",
       "      <td> 1</td>\n",
       "      <td> 3</td>\n",
       "    </tr>\n",
       "  </tbody>\n",
       "</table>\n",
       "</div>"
      ],
      "text/plain": [
       "       A  C  D\n",
       "count  4  4  4\n",
       "mean   1  1  3\n",
       "std    0  0  0\n",
       "min    1  1  3\n",
       "25%    1  1  3\n",
       "50%    1  1  3\n",
       "75%    1  1  3\n",
       "max    1  1  3"
      ]
     },
     "execution_count": 43,
     "metadata": {},
     "output_type": "execute_result"
    }
   ],
   "source": [
    "## Some useful info about the dataframe\n",
    "df2.describe()"
   ]
  },
  {
   "cell_type": "code",
   "execution_count": 44,
   "metadata": {
    "collapsed": false
   },
   "outputs": [
    {
     "data": {
      "text/plain": [
       "A    1\n",
       "C    1\n",
       "D    3\n",
       "dtype: float64"
      ]
     },
     "execution_count": 44,
     "metadata": {},
     "output_type": "execute_result"
    }
   ],
   "source": [
    "df2.mean()"
   ]
  },
  {
   "cell_type": "code",
   "execution_count": 45,
   "metadata": {
    "collapsed": false
   },
   "outputs": [
    {
     "data": {
      "text/html": [
       "<div style=\"max-height:1000px;max-width:1500px;overflow:auto;\">\n",
       "<table border=\"1\" class=\"dataframe\">\n",
       "  <thead>\n",
       "    <tr style=\"text-align: right;\">\n",
       "      <th></th>\n",
       "      <th>0</th>\n",
       "      <th>1</th>\n",
       "      <th>2</th>\n",
       "      <th>3</th>\n",
       "    </tr>\n",
       "  </thead>\n",
       "  <tbody>\n",
       "    <tr>\n",
       "      <th>A</th>\n",
       "      <td>                   1</td>\n",
       "      <td>                   1</td>\n",
       "      <td>                   1</td>\n",
       "      <td>                   1</td>\n",
       "    </tr>\n",
       "    <tr>\n",
       "      <th>B</th>\n",
       "      <td> 2013-01-02 00:00:00</td>\n",
       "      <td> 2013-01-02 00:00:00</td>\n",
       "      <td> 2013-01-02 00:00:00</td>\n",
       "      <td> 2013-01-02 00:00:00</td>\n",
       "    </tr>\n",
       "    <tr>\n",
       "      <th>C</th>\n",
       "      <td>                   1</td>\n",
       "      <td>                   1</td>\n",
       "      <td>                   1</td>\n",
       "      <td>                   1</td>\n",
       "    </tr>\n",
       "    <tr>\n",
       "      <th>D</th>\n",
       "      <td>                   3</td>\n",
       "      <td>                   3</td>\n",
       "      <td>                   3</td>\n",
       "      <td>                   3</td>\n",
       "    </tr>\n",
       "    <tr>\n",
       "      <th>E</th>\n",
       "      <td>                test</td>\n",
       "      <td>               train</td>\n",
       "      <td>                test</td>\n",
       "      <td>               train</td>\n",
       "    </tr>\n",
       "    <tr>\n",
       "      <th>F</th>\n",
       "      <td>                 foo</td>\n",
       "      <td>                 foo</td>\n",
       "      <td>                 foo</td>\n",
       "      <td>                 foo</td>\n",
       "    </tr>\n",
       "  </tbody>\n",
       "</table>\n",
       "</div>"
      ],
      "text/plain": [
       "                     0                    1                    2  \\\n",
       "A                    1                    1                    1   \n",
       "B  2013-01-02 00:00:00  2013-01-02 00:00:00  2013-01-02 00:00:00   \n",
       "C                    1                    1                    1   \n",
       "D                    3                    3                    3   \n",
       "E                 test                train                 test   \n",
       "F                  foo                  foo                  foo   \n",
       "\n",
       "                     3  \n",
       "A                    1  \n",
       "B  2013-01-02 00:00:00  \n",
       "C                    1  \n",
       "D                    3  \n",
       "E                train  \n",
       "F                  foo  "
      ]
     },
     "execution_count": 45,
     "metadata": {},
     "output_type": "execute_result"
    }
   ],
   "source": [
    "## Take the transpose of the dataframe\n",
    "df2.T"
   ]
  },
  {
   "cell_type": "markdown",
   "metadata": {},
   "source": [
    "### Sorting in dataframes"
   ]
  },
  {
   "cell_type": "code",
   "execution_count": 46,
   "metadata": {
    "collapsed": false
   },
   "outputs": [
    {
     "data": {
      "text/html": [
       "<div style=\"max-height:1000px;max-width:1500px;overflow:auto;\">\n",
       "<table border=\"1\" class=\"dataframe\">\n",
       "  <thead>\n",
       "    <tr style=\"text-align: right;\">\n",
       "      <th></th>\n",
       "      <th>D</th>\n",
       "      <th>C</th>\n",
       "      <th>B</th>\n",
       "      <th>A</th>\n",
       "    </tr>\n",
       "  </thead>\n",
       "  <tbody>\n",
       "    <tr>\n",
       "      <th>2013-01-01</th>\n",
       "      <td>-0.153024</td>\n",
       "      <td> 1.101316</td>\n",
       "      <td> 1.639182</td>\n",
       "      <td>-1.680728</td>\n",
       "    </tr>\n",
       "    <tr>\n",
       "      <th>2013-01-02</th>\n",
       "      <td>-0.280432</td>\n",
       "      <td> 1.262636</td>\n",
       "      <td> 0.589343</td>\n",
       "      <td>-0.920413</td>\n",
       "    </tr>\n",
       "    <tr>\n",
       "      <th>2013-01-03</th>\n",
       "      <td> 1.101508</td>\n",
       "      <td>-0.635340</td>\n",
       "      <td> 0.198476</td>\n",
       "      <td> 0.104239</td>\n",
       "    </tr>\n",
       "    <tr>\n",
       "      <th>2013-01-04</th>\n",
       "      <td> 0.001331</td>\n",
       "      <td>-0.619460</td>\n",
       "      <td> 0.027072</td>\n",
       "      <td>-2.465289</td>\n",
       "    </tr>\n",
       "    <tr>\n",
       "      <th>2013-01-05</th>\n",
       "      <td> 0.798596</td>\n",
       "      <td> 0.375661</td>\n",
       "      <td> 0.159274</td>\n",
       "      <td> 1.116624</td>\n",
       "    </tr>\n",
       "    <tr>\n",
       "      <th>2013-01-06</th>\n",
       "      <td> 0.524107</td>\n",
       "      <td> 0.531433</td>\n",
       "      <td> 0.686276</td>\n",
       "      <td>-2.256609</td>\n",
       "    </tr>\n",
       "  </tbody>\n",
       "</table>\n",
       "</div>"
      ],
      "text/plain": [
       "                   D         C         B         A\n",
       "2013-01-01 -0.153024  1.101316  1.639182 -1.680728\n",
       "2013-01-02 -0.280432  1.262636  0.589343 -0.920413\n",
       "2013-01-03  1.101508 -0.635340  0.198476  0.104239\n",
       "2013-01-04  0.001331 -0.619460  0.027072 -2.465289\n",
       "2013-01-05  0.798596  0.375661  0.159274  1.116624\n",
       "2013-01-06  0.524107  0.531433  0.686276 -2.256609"
      ]
     },
     "execution_count": 46,
     "metadata": {},
     "output_type": "execute_result"
    }
   ],
   "source": [
    "## Sorting by an axis (i.e. by index or column labels)\n",
    "df.sort_index(axis=1, ascending=False)"
   ]
  },
  {
   "cell_type": "code",
   "execution_count": 47,
   "metadata": {
    "collapsed": false
   },
   "outputs": [
    {
     "data": {
      "text/html": [
       "<div style=\"max-height:1000px;max-width:1500px;overflow:auto;\">\n",
       "<table border=\"1\" class=\"dataframe\">\n",
       "  <thead>\n",
       "    <tr style=\"text-align: right;\">\n",
       "      <th></th>\n",
       "      <th>A</th>\n",
       "      <th>B</th>\n",
       "      <th>C</th>\n",
       "      <th>D</th>\n",
       "    </tr>\n",
       "  </thead>\n",
       "  <tbody>\n",
       "    <tr>\n",
       "      <th>2013-01-04</th>\n",
       "      <td>-2.465289</td>\n",
       "      <td> 0.027072</td>\n",
       "      <td>-0.619460</td>\n",
       "      <td> 0.001331</td>\n",
       "    </tr>\n",
       "    <tr>\n",
       "      <th>2013-01-05</th>\n",
       "      <td> 1.116624</td>\n",
       "      <td> 0.159274</td>\n",
       "      <td> 0.375661</td>\n",
       "      <td> 0.798596</td>\n",
       "    </tr>\n",
       "    <tr>\n",
       "      <th>2013-01-03</th>\n",
       "      <td> 0.104239</td>\n",
       "      <td> 0.198476</td>\n",
       "      <td>-0.635340</td>\n",
       "      <td> 1.101508</td>\n",
       "    </tr>\n",
       "    <tr>\n",
       "      <th>2013-01-02</th>\n",
       "      <td>-0.920413</td>\n",
       "      <td> 0.589343</td>\n",
       "      <td> 1.262636</td>\n",
       "      <td>-0.280432</td>\n",
       "    </tr>\n",
       "    <tr>\n",
       "      <th>2013-01-06</th>\n",
       "      <td>-2.256609</td>\n",
       "      <td> 0.686276</td>\n",
       "      <td> 0.531433</td>\n",
       "      <td> 0.524107</td>\n",
       "    </tr>\n",
       "    <tr>\n",
       "      <th>2013-01-01</th>\n",
       "      <td>-1.680728</td>\n",
       "      <td> 1.639182</td>\n",
       "      <td> 1.101316</td>\n",
       "      <td>-0.153024</td>\n",
       "    </tr>\n",
       "  </tbody>\n",
       "</table>\n",
       "</div>"
      ],
      "text/plain": [
       "                   A         B         C         D\n",
       "2013-01-04 -2.465289  0.027072 -0.619460  0.001331\n",
       "2013-01-05  1.116624  0.159274  0.375661  0.798596\n",
       "2013-01-03  0.104239  0.198476 -0.635340  1.101508\n",
       "2013-01-02 -0.920413  0.589343  1.262636 -0.280432\n",
       "2013-01-06 -2.256609  0.686276  0.531433  0.524107\n",
       "2013-01-01 -1.680728  1.639182  1.101316 -0.153024"
      ]
     },
     "execution_count": 47,
     "metadata": {},
     "output_type": "execute_result"
    }
   ],
   "source": [
    "## Sorting by values\n",
    "df.sort(columns='B')"
   ]
  },
  {
   "cell_type": "code",
   "execution_count": 48,
   "metadata": {
    "collapsed": false
   },
   "outputs": [
    {
     "data": {
      "text/html": [
       "<div style=\"max-height:1000px;max-width:1500px;overflow:auto;\">\n",
       "<table border=\"1\" class=\"dataframe\">\n",
       "  <thead>\n",
       "    <tr style=\"text-align: right;\">\n",
       "      <th></th>\n",
       "      <th>A</th>\n",
       "      <th>B</th>\n",
       "      <th>C</th>\n",
       "      <th>D</th>\n",
       "    </tr>\n",
       "  </thead>\n",
       "  <tbody>\n",
       "    <tr>\n",
       "      <th>2013-01-01</th>\n",
       "      <td>-1.680728</td>\n",
       "      <td> 1.639182</td>\n",
       "      <td> 1.101316</td>\n",
       "      <td>-0.153024</td>\n",
       "    </tr>\n",
       "    <tr>\n",
       "      <th>2013-01-02</th>\n",
       "      <td>-0.920413</td>\n",
       "      <td> 0.589343</td>\n",
       "      <td> 1.262636</td>\n",
       "      <td>-0.280432</td>\n",
       "    </tr>\n",
       "    <tr>\n",
       "      <th>2013-01-03</th>\n",
       "      <td> 0.104239</td>\n",
       "      <td> 0.198476</td>\n",
       "      <td>-0.635340</td>\n",
       "      <td> 1.101508</td>\n",
       "    </tr>\n",
       "    <tr>\n",
       "      <th>2013-01-04</th>\n",
       "      <td>-2.465289</td>\n",
       "      <td> 0.027072</td>\n",
       "      <td>-0.619460</td>\n",
       "      <td> 0.001331</td>\n",
       "    </tr>\n",
       "    <tr>\n",
       "      <th>2013-01-05</th>\n",
       "      <td> 1.116624</td>\n",
       "      <td> 0.159274</td>\n",
       "      <td> 0.375661</td>\n",
       "      <td> 0.798596</td>\n",
       "    </tr>\n",
       "    <tr>\n",
       "      <th>2013-01-06</th>\n",
       "      <td>-2.256609</td>\n",
       "      <td> 0.686276</td>\n",
       "      <td> 0.531433</td>\n",
       "      <td> 0.524107</td>\n",
       "    </tr>\n",
       "  </tbody>\n",
       "</table>\n",
       "</div>"
      ],
      "text/plain": [
       "                   A         B         C         D\n",
       "2013-01-01 -1.680728  1.639182  1.101316 -0.153024\n",
       "2013-01-02 -0.920413  0.589343  1.262636 -0.280432\n",
       "2013-01-03  0.104239  0.198476 -0.635340  1.101508\n",
       "2013-01-04 -2.465289  0.027072 -0.619460  0.001331\n",
       "2013-01-05  1.116624  0.159274  0.375661  0.798596\n",
       "2013-01-06 -2.256609  0.686276  0.531433  0.524107"
      ]
     },
     "execution_count": 48,
     "metadata": {},
     "output_type": "execute_result"
    }
   ],
   "source": [
    "df"
   ]
  },
  {
   "cell_type": "markdown",
   "metadata": {},
   "source": [
    "### Selecting elements"
   ]
  },
  {
   "cell_type": "code",
   "execution_count": 49,
   "metadata": {
    "collapsed": false
   },
   "outputs": [
    {
     "data": {
      "text/plain": [
       "2013-01-01   -1.680728\n",
       "2013-01-02   -0.920413\n",
       "2013-01-03    0.104239\n",
       "2013-01-04   -2.465289\n",
       "2013-01-05    1.116624\n",
       "2013-01-06   -2.256609\n",
       "Freq: D, Name: A, dtype: float64"
      ]
     },
     "execution_count": 49,
     "metadata": {},
     "output_type": "execute_result"
    }
   ],
   "source": [
    "## Pull out a column (Series) from the dataframe\n",
    "df['A']"
   ]
  },
  {
   "cell_type": "code",
   "execution_count": 50,
   "metadata": {
    "collapsed": false
   },
   "outputs": [
    {
     "data": {
      "text/html": [
       "<div style=\"max-height:1000px;max-width:1500px;overflow:auto;\">\n",
       "<table border=\"1\" class=\"dataframe\">\n",
       "  <thead>\n",
       "    <tr style=\"text-align: right;\">\n",
       "      <th></th>\n",
       "      <th>A</th>\n",
       "      <th>B</th>\n",
       "      <th>C</th>\n",
       "      <th>D</th>\n",
       "    </tr>\n",
       "  </thead>\n",
       "  <tbody>\n",
       "    <tr>\n",
       "      <th>2013-01-01</th>\n",
       "      <td>-1.680728</td>\n",
       "      <td> 1.639182</td>\n",
       "      <td> 1.101316</td>\n",
       "      <td>-0.153024</td>\n",
       "    </tr>\n",
       "    <tr>\n",
       "      <th>2013-01-02</th>\n",
       "      <td>-0.920413</td>\n",
       "      <td> 0.589343</td>\n",
       "      <td> 1.262636</td>\n",
       "      <td>-0.280432</td>\n",
       "    </tr>\n",
       "    <tr>\n",
       "      <th>2013-01-03</th>\n",
       "      <td> 0.104239</td>\n",
       "      <td> 0.198476</td>\n",
       "      <td>-0.635340</td>\n",
       "      <td> 1.101508</td>\n",
       "    </tr>\n",
       "  </tbody>\n",
       "</table>\n",
       "</div>"
      ],
      "text/plain": [
       "                   A         B         C         D\n",
       "2013-01-01 -1.680728  1.639182  1.101316 -0.153024\n",
       "2013-01-02 -0.920413  0.589343  1.262636 -0.280432\n",
       "2013-01-03  0.104239  0.198476 -0.635340  1.101508"
      ]
     },
     "execution_count": 50,
     "metadata": {},
     "output_type": "execute_result"
    }
   ],
   "source": [
    "## Pull out some rows from the dataframe (by index numbers)\n",
    "df[0:3]"
   ]
  },
  {
   "cell_type": "code",
   "execution_count": 51,
   "metadata": {
    "collapsed": false
   },
   "outputs": [
    {
     "data": {
      "text/html": [
       "<div style=\"max-height:1000px;max-width:1500px;overflow:auto;\">\n",
       "<table border=\"1\" class=\"dataframe\">\n",
       "  <thead>\n",
       "    <tr style=\"text-align: right;\">\n",
       "      <th></th>\n",
       "      <th>A</th>\n",
       "      <th>B</th>\n",
       "      <th>C</th>\n",
       "      <th>D</th>\n",
       "    </tr>\n",
       "  </thead>\n",
       "  <tbody>\n",
       "    <tr>\n",
       "      <th>2013-01-02</th>\n",
       "      <td>-0.920413</td>\n",
       "      <td> 0.589343</td>\n",
       "      <td> 1.262636</td>\n",
       "      <td>-0.280432</td>\n",
       "    </tr>\n",
       "    <tr>\n",
       "      <th>2013-01-03</th>\n",
       "      <td> 0.104239</td>\n",
       "      <td> 0.198476</td>\n",
       "      <td>-0.635340</td>\n",
       "      <td> 1.101508</td>\n",
       "    </tr>\n",
       "    <tr>\n",
       "      <th>2013-01-04</th>\n",
       "      <td>-2.465289</td>\n",
       "      <td> 0.027072</td>\n",
       "      <td>-0.619460</td>\n",
       "      <td> 0.001331</td>\n",
       "    </tr>\n",
       "  </tbody>\n",
       "</table>\n",
       "</div>"
      ],
      "text/plain": [
       "                   A         B         C         D\n",
       "2013-01-02 -0.920413  0.589343  1.262636 -0.280432\n",
       "2013-01-03  0.104239  0.198476 -0.635340  1.101508\n",
       "2013-01-04 -2.465289  0.027072 -0.619460  0.001331"
      ]
     },
     "execution_count": 51,
     "metadata": {},
     "output_type": "execute_result"
    }
   ],
   "source": [
    "## Pull out some rows from the dataframe (by index labels)\n",
    "df['20130102':'20130104']"
   ]
  },
  {
   "cell_type": "markdown",
   "metadata": {},
   "source": [
    "### Read from a file"
   ]
  },
  {
   "cell_type": "code",
   "execution_count": 52,
   "metadata": {
    "collapsed": false
   },
   "outputs": [
    {
     "name": "stdout",
     "output_type": "stream",
     "text": [
      "C/A,UNIT,SCP,STATION,LINENAME,DIVISION,DATE,TIME,DESC,ENTRIES,EXITS                                                               \r\n",
      "A002,R051,02-00-00,LEXINGTON AVE,NQR456,BMT,06/20/2015,00:00:00,REGULAR,0005192500,0001756572                                     \r\n",
      "A002,R051,02-00-00,LEXINGTON AVE,NQR456,BMT,06/20/2015,04:00:00,REGULAR,0005192550,0001756580                                     \r\n",
      "A002,R051,02-00-00,LEXINGTON AVE,NQR456,BMT,06/20/2015,08:00:00,REGULAR,0005192568,0001756609                                     \r\n",
      "A002,R051,02-00-00,LEXINGTON AVE,NQR456,BMT,06/20/2015,12:00:00,REGULAR,0005192670,0001756706                                     \r\n",
      "A002,R051,02-00-00,LEXINGTON AVE,NQR456,BMT,06/20/2015,16:00:00,REGULAR,0005192886,0001756776                                     \r\n",
      "A002,R051,02-00-00,LEXINGTON AVE,NQR456,BMT,06/20/2015,20:00:00,REGULAR,0005193250,0001756837                                     \r\n",
      "A002,R051,02-00-00,LEXINGTON AVE,NQR456,BMT,06/21/2015,00:00:00,REGULAR,0005193409,0001756875                                     \r\n",
      "A002,R051,02-00-00,LEXINGTON AVE,NQR456,BMT,06/21/2015,04:00:00,REGULAR,0005193435,0001756882                                     \r\n",
      "A002,R051,02-00-00,LEXINGTON AVE,NQR456,BMT,06/21/2015,08:00:00,REGULAR,0005193461,0001756900                                     \r\n"
     ]
    }
   ],
   "source": [
    "## Here's a csv file\n",
    "!head 'turnstile_150627.csv'"
   ]
  },
  {
   "cell_type": "code",
   "execution_count": 53,
   "metadata": {
    "collapsed": false
   },
   "outputs": [
    {
     "data": {
      "text/html": [
       "<div style=\"max-height:1000px;max-width:1500px;overflow:auto;\">\n",
       "<table border=\"1\" class=\"dataframe\">\n",
       "  <thead>\n",
       "    <tr style=\"text-align: right;\">\n",
       "      <th></th>\n",
       "      <th>C/A</th>\n",
       "      <th>UNIT</th>\n",
       "      <th>SCP</th>\n",
       "      <th>STATION</th>\n",
       "      <th>LINENAME</th>\n",
       "      <th>DIVISION</th>\n",
       "      <th>DATE</th>\n",
       "      <th>TIME</th>\n",
       "      <th>DESC</th>\n",
       "      <th>ENTRIES</th>\n",
       "      <th>EXITS                                                               </th>\n",
       "    </tr>\n",
       "  </thead>\n",
       "  <tbody>\n",
       "    <tr>\n",
       "      <th>0     </th>\n",
       "      <td>  A002</td>\n",
       "      <td> R051</td>\n",
       "      <td> 02-00-00</td>\n",
       "      <td> LEXINGTON AVE</td>\n",
       "      <td> NQR456</td>\n",
       "      <td> BMT</td>\n",
       "      <td> 06/20/2015</td>\n",
       "      <td> 00:00:00</td>\n",
       "      <td> REGULAR</td>\n",
       "      <td> 5192500</td>\n",
       "      <td> 1756572</td>\n",
       "    </tr>\n",
       "    <tr>\n",
       "      <th>1     </th>\n",
       "      <td>  A002</td>\n",
       "      <td> R051</td>\n",
       "      <td> 02-00-00</td>\n",
       "      <td> LEXINGTON AVE</td>\n",
       "      <td> NQR456</td>\n",
       "      <td> BMT</td>\n",
       "      <td> 06/20/2015</td>\n",
       "      <td> 04:00:00</td>\n",
       "      <td> REGULAR</td>\n",
       "      <td> 5192550</td>\n",
       "      <td> 1756580</td>\n",
       "    </tr>\n",
       "    <tr>\n",
       "      <th>2     </th>\n",
       "      <td>  A002</td>\n",
       "      <td> R051</td>\n",
       "      <td> 02-00-00</td>\n",
       "      <td> LEXINGTON AVE</td>\n",
       "      <td> NQR456</td>\n",
       "      <td> BMT</td>\n",
       "      <td> 06/20/2015</td>\n",
       "      <td> 08:00:00</td>\n",
       "      <td> REGULAR</td>\n",
       "      <td> 5192568</td>\n",
       "      <td> 1756609</td>\n",
       "    </tr>\n",
       "    <tr>\n",
       "      <th>3     </th>\n",
       "      <td>  A002</td>\n",
       "      <td> R051</td>\n",
       "      <td> 02-00-00</td>\n",
       "      <td> LEXINGTON AVE</td>\n",
       "      <td> NQR456</td>\n",
       "      <td> BMT</td>\n",
       "      <td> 06/20/2015</td>\n",
       "      <td> 12:00:00</td>\n",
       "      <td> REGULAR</td>\n",
       "      <td> 5192670</td>\n",
       "      <td> 1756706</td>\n",
       "    </tr>\n",
       "    <tr>\n",
       "      <th>4     </th>\n",
       "      <td>  A002</td>\n",
       "      <td> R051</td>\n",
       "      <td> 02-00-00</td>\n",
       "      <td> LEXINGTON AVE</td>\n",
       "      <td> NQR456</td>\n",
       "      <td> BMT</td>\n",
       "      <td> 06/20/2015</td>\n",
       "      <td> 16:00:00</td>\n",
       "      <td> REGULAR</td>\n",
       "      <td> 5192886</td>\n",
       "      <td> 1756776</td>\n",
       "    </tr>\n",
       "    <tr>\n",
       "      <th>5     </th>\n",
       "      <td>  A002</td>\n",
       "      <td> R051</td>\n",
       "      <td> 02-00-00</td>\n",
       "      <td> LEXINGTON AVE</td>\n",
       "      <td> NQR456</td>\n",
       "      <td> BMT</td>\n",
       "      <td> 06/20/2015</td>\n",
       "      <td> 20:00:00</td>\n",
       "      <td> REGULAR</td>\n",
       "      <td> 5193250</td>\n",
       "      <td> 1756837</td>\n",
       "    </tr>\n",
       "    <tr>\n",
       "      <th>6     </th>\n",
       "      <td>  A002</td>\n",
       "      <td> R051</td>\n",
       "      <td> 02-00-00</td>\n",
       "      <td> LEXINGTON AVE</td>\n",
       "      <td> NQR456</td>\n",
       "      <td> BMT</td>\n",
       "      <td> 06/21/2015</td>\n",
       "      <td> 00:00:00</td>\n",
       "      <td> REGULAR</td>\n",
       "      <td> 5193409</td>\n",
       "      <td> 1756875</td>\n",
       "    </tr>\n",
       "    <tr>\n",
       "      <th>7     </th>\n",
       "      <td>  A002</td>\n",
       "      <td> R051</td>\n",
       "      <td> 02-00-00</td>\n",
       "      <td> LEXINGTON AVE</td>\n",
       "      <td> NQR456</td>\n",
       "      <td> BMT</td>\n",
       "      <td> 06/21/2015</td>\n",
       "      <td> 04:00:00</td>\n",
       "      <td> REGULAR</td>\n",
       "      <td> 5193435</td>\n",
       "      <td> 1756882</td>\n",
       "    </tr>\n",
       "    <tr>\n",
       "      <th>8     </th>\n",
       "      <td>  A002</td>\n",
       "      <td> R051</td>\n",
       "      <td> 02-00-00</td>\n",
       "      <td> LEXINGTON AVE</td>\n",
       "      <td> NQR456</td>\n",
       "      <td> BMT</td>\n",
       "      <td> 06/21/2015</td>\n",
       "      <td> 08:00:00</td>\n",
       "      <td> REGULAR</td>\n",
       "      <td> 5193461</td>\n",
       "      <td> 1756900</td>\n",
       "    </tr>\n",
       "    <tr>\n",
       "      <th>9     </th>\n",
       "      <td>  A002</td>\n",
       "      <td> R051</td>\n",
       "      <td> 02-00-00</td>\n",
       "      <td> LEXINGTON AVE</td>\n",
       "      <td> NQR456</td>\n",
       "      <td> BMT</td>\n",
       "      <td> 06/21/2015</td>\n",
       "      <td> 12:00:00</td>\n",
       "      <td> REGULAR</td>\n",
       "      <td> 5193533</td>\n",
       "      <td> 1756954</td>\n",
       "    </tr>\n",
       "    <tr>\n",
       "      <th>10    </th>\n",
       "      <td>  A002</td>\n",
       "      <td> R051</td>\n",
       "      <td> 02-00-00</td>\n",
       "      <td> LEXINGTON AVE</td>\n",
       "      <td> NQR456</td>\n",
       "      <td> BMT</td>\n",
       "      <td> 06/21/2015</td>\n",
       "      <td> 16:00:00</td>\n",
       "      <td> REGULAR</td>\n",
       "      <td> 5193752</td>\n",
       "      <td> 1757011</td>\n",
       "    </tr>\n",
       "    <tr>\n",
       "      <th>11    </th>\n",
       "      <td>  A002</td>\n",
       "      <td> R051</td>\n",
       "      <td> 02-00-00</td>\n",
       "      <td> LEXINGTON AVE</td>\n",
       "      <td> NQR456</td>\n",
       "      <td> BMT</td>\n",
       "      <td> 06/21/2015</td>\n",
       "      <td> 20:00:00</td>\n",
       "      <td> REGULAR</td>\n",
       "      <td> 5193985</td>\n",
       "      <td> 1757055</td>\n",
       "    </tr>\n",
       "    <tr>\n",
       "      <th>12    </th>\n",
       "      <td>  A002</td>\n",
       "      <td> R051</td>\n",
       "      <td> 02-00-00</td>\n",
       "      <td> LEXINGTON AVE</td>\n",
       "      <td> NQR456</td>\n",
       "      <td> BMT</td>\n",
       "      <td> 06/22/2015</td>\n",
       "      <td> 00:00:00</td>\n",
       "      <td> REGULAR</td>\n",
       "      <td> 5194109</td>\n",
       "      <td> 1757100</td>\n",
       "    </tr>\n",
       "    <tr>\n",
       "      <th>13    </th>\n",
       "      <td>  A002</td>\n",
       "      <td> R051</td>\n",
       "      <td> 02-00-00</td>\n",
       "      <td> LEXINGTON AVE</td>\n",
       "      <td> NQR456</td>\n",
       "      <td> BMT</td>\n",
       "      <td> 06/22/2015</td>\n",
       "      <td> 04:00:00</td>\n",
       "      <td> REGULAR</td>\n",
       "      <td> 5194120</td>\n",
       "      <td> 1757103</td>\n",
       "    </tr>\n",
       "    <tr>\n",
       "      <th>14    </th>\n",
       "      <td>  A002</td>\n",
       "      <td> R051</td>\n",
       "      <td> 02-00-00</td>\n",
       "      <td> LEXINGTON AVE</td>\n",
       "      <td> NQR456</td>\n",
       "      <td> BMT</td>\n",
       "      <td> 06/22/2015</td>\n",
       "      <td> 08:00:00</td>\n",
       "      <td> REGULAR</td>\n",
       "      <td> 5194164</td>\n",
       "      <td> 1757212</td>\n",
       "    </tr>\n",
       "    <tr>\n",
       "      <th>15    </th>\n",
       "      <td>  A002</td>\n",
       "      <td> R051</td>\n",
       "      <td> 02-00-00</td>\n",
       "      <td> LEXINGTON AVE</td>\n",
       "      <td> NQR456</td>\n",
       "      <td> BMT</td>\n",
       "      <td> 06/22/2015</td>\n",
       "      <td> 12:00:00</td>\n",
       "      <td> REGULAR</td>\n",
       "      <td> 5194383</td>\n",
       "      <td> 1757477</td>\n",
       "    </tr>\n",
       "    <tr>\n",
       "      <th>16    </th>\n",
       "      <td>  A002</td>\n",
       "      <td> R051</td>\n",
       "      <td> 02-00-00</td>\n",
       "      <td> LEXINGTON AVE</td>\n",
       "      <td> NQR456</td>\n",
       "      <td> BMT</td>\n",
       "      <td> 06/22/2015</td>\n",
       "      <td> 16:00:00</td>\n",
       "      <td> REGULAR</td>\n",
       "      <td> 5194686</td>\n",
       "      <td> 1757554</td>\n",
       "    </tr>\n",
       "    <tr>\n",
       "      <th>17    </th>\n",
       "      <td>  A002</td>\n",
       "      <td> R051</td>\n",
       "      <td> 02-00-00</td>\n",
       "      <td> LEXINGTON AVE</td>\n",
       "      <td> NQR456</td>\n",
       "      <td> BMT</td>\n",
       "      <td> 06/22/2015</td>\n",
       "      <td> 20:00:00</td>\n",
       "      <td> REGULAR</td>\n",
       "      <td> 5195595</td>\n",
       "      <td> 1757631</td>\n",
       "    </tr>\n",
       "    <tr>\n",
       "      <th>18    </th>\n",
       "      <td>  A002</td>\n",
       "      <td> R051</td>\n",
       "      <td> 02-00-00</td>\n",
       "      <td> LEXINGTON AVE</td>\n",
       "      <td> NQR456</td>\n",
       "      <td> BMT</td>\n",
       "      <td> 06/23/2015</td>\n",
       "      <td> 00:00:00</td>\n",
       "      <td> REGULAR</td>\n",
       "      <td> 5195847</td>\n",
       "      <td> 1757663</td>\n",
       "    </tr>\n",
       "    <tr>\n",
       "      <th>19    </th>\n",
       "      <td>  A002</td>\n",
       "      <td> R051</td>\n",
       "      <td> 02-00-00</td>\n",
       "      <td> LEXINGTON AVE</td>\n",
       "      <td> NQR456</td>\n",
       "      <td> BMT</td>\n",
       "      <td> 06/23/2015</td>\n",
       "      <td> 04:00:00</td>\n",
       "      <td> REGULAR</td>\n",
       "      <td> 5195870</td>\n",
       "      <td> 1757663</td>\n",
       "    </tr>\n",
       "    <tr>\n",
       "      <th>20    </th>\n",
       "      <td>  A002</td>\n",
       "      <td> R051</td>\n",
       "      <td> 02-00-00</td>\n",
       "      <td> LEXINGTON AVE</td>\n",
       "      <td> NQR456</td>\n",
       "      <td> BMT</td>\n",
       "      <td> 06/23/2015</td>\n",
       "      <td> 07:58:11</td>\n",
       "      <td> REGULAR</td>\n",
       "      <td> 5195932</td>\n",
       "      <td> 1757756</td>\n",
       "    </tr>\n",
       "    <tr>\n",
       "      <th>21    </th>\n",
       "      <td>  A002</td>\n",
       "      <td> R051</td>\n",
       "      <td> 02-00-00</td>\n",
       "      <td> LEXINGTON AVE</td>\n",
       "      <td> NQR456</td>\n",
       "      <td> BMT</td>\n",
       "      <td> 06/23/2015</td>\n",
       "      <td> 08:00:00</td>\n",
       "      <td> REGULAR</td>\n",
       "      <td> 5195933</td>\n",
       "      <td> 1757761</td>\n",
       "    </tr>\n",
       "    <tr>\n",
       "      <th>22    </th>\n",
       "      <td>  A002</td>\n",
       "      <td> R051</td>\n",
       "      <td> 02-00-00</td>\n",
       "      <td> LEXINGTON AVE</td>\n",
       "      <td> NQR456</td>\n",
       "      <td> BMT</td>\n",
       "      <td> 06/23/2015</td>\n",
       "      <td> 12:00:00</td>\n",
       "      <td> REGULAR</td>\n",
       "      <td> 5196120</td>\n",
       "      <td> 1758077</td>\n",
       "    </tr>\n",
       "    <tr>\n",
       "      <th>23    </th>\n",
       "      <td>  A002</td>\n",
       "      <td> R051</td>\n",
       "      <td> 02-00-00</td>\n",
       "      <td> LEXINGTON AVE</td>\n",
       "      <td> NQR456</td>\n",
       "      <td> BMT</td>\n",
       "      <td> 06/23/2015</td>\n",
       "      <td> 16:00:00</td>\n",
       "      <td> REGULAR</td>\n",
       "      <td> 5196442</td>\n",
       "      <td> 1758151</td>\n",
       "    </tr>\n",
       "    <tr>\n",
       "      <th>24    </th>\n",
       "      <td>  A002</td>\n",
       "      <td> R051</td>\n",
       "      <td> 02-00-00</td>\n",
       "      <td> LEXINGTON AVE</td>\n",
       "      <td> NQR456</td>\n",
       "      <td> BMT</td>\n",
       "      <td> 06/23/2015</td>\n",
       "      <td> 20:00:00</td>\n",
       "      <td> REGULAR</td>\n",
       "      <td> 5197366</td>\n",
       "      <td> 1758231</td>\n",
       "    </tr>\n",
       "    <tr>\n",
       "      <th>25    </th>\n",
       "      <td>  A002</td>\n",
       "      <td> R051</td>\n",
       "      <td> 02-00-00</td>\n",
       "      <td> LEXINGTON AVE</td>\n",
       "      <td> NQR456</td>\n",
       "      <td> BMT</td>\n",
       "      <td> 06/24/2015</td>\n",
       "      <td> 00:00:00</td>\n",
       "      <td> REGULAR</td>\n",
       "      <td> 5197638</td>\n",
       "      <td> 1758259</td>\n",
       "    </tr>\n",
       "    <tr>\n",
       "      <th>26    </th>\n",
       "      <td>  A002</td>\n",
       "      <td> R051</td>\n",
       "      <td> 02-00-00</td>\n",
       "      <td> LEXINGTON AVE</td>\n",
       "      <td> NQR456</td>\n",
       "      <td> BMT</td>\n",
       "      <td> 06/24/2015</td>\n",
       "      <td> 04:00:00</td>\n",
       "      <td> REGULAR</td>\n",
       "      <td> 5197656</td>\n",
       "      <td> 1758260</td>\n",
       "    </tr>\n",
       "    <tr>\n",
       "      <th>27    </th>\n",
       "      <td>  A002</td>\n",
       "      <td> R051</td>\n",
       "      <td> 02-00-00</td>\n",
       "      <td> LEXINGTON AVE</td>\n",
       "      <td> NQR456</td>\n",
       "      <td> BMT</td>\n",
       "      <td> 06/24/2015</td>\n",
       "      <td> 08:00:00</td>\n",
       "      <td> REGULAR</td>\n",
       "      <td> 5197714</td>\n",
       "      <td> 1758354</td>\n",
       "    </tr>\n",
       "    <tr>\n",
       "      <th>28    </th>\n",
       "      <td>  A002</td>\n",
       "      <td> R051</td>\n",
       "      <td> 02-00-00</td>\n",
       "      <td> LEXINGTON AVE</td>\n",
       "      <td> NQR456</td>\n",
       "      <td> BMT</td>\n",
       "      <td> 06/24/2015</td>\n",
       "      <td> 12:00:00</td>\n",
       "      <td> REGULAR</td>\n",
       "      <td> 5197903</td>\n",
       "      <td> 1758608</td>\n",
       "    </tr>\n",
       "    <tr>\n",
       "      <th>29    </th>\n",
       "      <td>  A002</td>\n",
       "      <td> R051</td>\n",
       "      <td> 02-00-00</td>\n",
       "      <td> LEXINGTON AVE</td>\n",
       "      <td> NQR456</td>\n",
       "      <td> BMT</td>\n",
       "      <td> 06/24/2015</td>\n",
       "      <td> 16:00:00</td>\n",
       "      <td> REGULAR</td>\n",
       "      <td> 5198207</td>\n",
       "      <td> 1758672</td>\n",
       "    </tr>\n",
       "    <tr>\n",
       "      <th>...</th>\n",
       "      <td>...</td>\n",
       "      <td>...</td>\n",
       "      <td>...</td>\n",
       "      <td>...</td>\n",
       "      <td>...</td>\n",
       "      <td>...</td>\n",
       "      <td>...</td>\n",
       "      <td>...</td>\n",
       "      <td>...</td>\n",
       "      <td>...</td>\n",
       "      <td>...</td>\n",
       "    </tr>\n",
       "    <tr>\n",
       "      <th>192537</th>\n",
       "      <td> TRAM2</td>\n",
       "      <td> R469</td>\n",
       "      <td> 00-05-01</td>\n",
       "      <td> RIT-ROOSEVELT</td>\n",
       "      <td>      R</td>\n",
       "      <td> RIT</td>\n",
       "      <td> 06/22/2015</td>\n",
       "      <td> 01:00:00</td>\n",
       "      <td> REGULAR</td>\n",
       "      <td>    5554</td>\n",
       "      <td>     216</td>\n",
       "    </tr>\n",
       "    <tr>\n",
       "      <th>192538</th>\n",
       "      <td> TRAM2</td>\n",
       "      <td> R469</td>\n",
       "      <td> 00-05-01</td>\n",
       "      <td> RIT-ROOSEVELT</td>\n",
       "      <td>      R</td>\n",
       "      <td> RIT</td>\n",
       "      <td> 06/22/2015</td>\n",
       "      <td> 05:00:00</td>\n",
       "      <td> REGULAR</td>\n",
       "      <td>    5554</td>\n",
       "      <td>     216</td>\n",
       "    </tr>\n",
       "    <tr>\n",
       "      <th>192539</th>\n",
       "      <td> TRAM2</td>\n",
       "      <td> R469</td>\n",
       "      <td> 00-05-01</td>\n",
       "      <td> RIT-ROOSEVELT</td>\n",
       "      <td>      R</td>\n",
       "      <td> RIT</td>\n",
       "      <td> 06/22/2015</td>\n",
       "      <td> 09:00:00</td>\n",
       "      <td> REGULAR</td>\n",
       "      <td>    5554</td>\n",
       "      <td>     216</td>\n",
       "    </tr>\n",
       "    <tr>\n",
       "      <th>192540</th>\n",
       "      <td> TRAM2</td>\n",
       "      <td> R469</td>\n",
       "      <td> 00-05-01</td>\n",
       "      <td> RIT-ROOSEVELT</td>\n",
       "      <td>      R</td>\n",
       "      <td> RIT</td>\n",
       "      <td> 06/22/2015</td>\n",
       "      <td> 13:00:00</td>\n",
       "      <td> REGULAR</td>\n",
       "      <td>    5554</td>\n",
       "      <td>     216</td>\n",
       "    </tr>\n",
       "    <tr>\n",
       "      <th>192541</th>\n",
       "      <td> TRAM2</td>\n",
       "      <td> R469</td>\n",
       "      <td> 00-05-01</td>\n",
       "      <td> RIT-ROOSEVELT</td>\n",
       "      <td>      R</td>\n",
       "      <td> RIT</td>\n",
       "      <td> 06/22/2015</td>\n",
       "      <td> 17:00:00</td>\n",
       "      <td> REGULAR</td>\n",
       "      <td>    5554</td>\n",
       "      <td>     216</td>\n",
       "    </tr>\n",
       "    <tr>\n",
       "      <th>192542</th>\n",
       "      <td> TRAM2</td>\n",
       "      <td> R469</td>\n",
       "      <td> 00-05-01</td>\n",
       "      <td> RIT-ROOSEVELT</td>\n",
       "      <td>      R</td>\n",
       "      <td> RIT</td>\n",
       "      <td> 06/22/2015</td>\n",
       "      <td> 21:00:00</td>\n",
       "      <td> REGULAR</td>\n",
       "      <td>    5554</td>\n",
       "      <td>     216</td>\n",
       "    </tr>\n",
       "    <tr>\n",
       "      <th>192543</th>\n",
       "      <td> TRAM2</td>\n",
       "      <td> R469</td>\n",
       "      <td> 00-05-01</td>\n",
       "      <td> RIT-ROOSEVELT</td>\n",
       "      <td>      R</td>\n",
       "      <td> RIT</td>\n",
       "      <td> 06/23/2015</td>\n",
       "      <td> 01:00:00</td>\n",
       "      <td> REGULAR</td>\n",
       "      <td>    5554</td>\n",
       "      <td>     216</td>\n",
       "    </tr>\n",
       "    <tr>\n",
       "      <th>192544</th>\n",
       "      <td> TRAM2</td>\n",
       "      <td> R469</td>\n",
       "      <td> 00-05-01</td>\n",
       "      <td> RIT-ROOSEVELT</td>\n",
       "      <td>      R</td>\n",
       "      <td> RIT</td>\n",
       "      <td> 06/23/2015</td>\n",
       "      <td> 05:00:00</td>\n",
       "      <td> REGULAR</td>\n",
       "      <td>    5554</td>\n",
       "      <td>     216</td>\n",
       "    </tr>\n",
       "    <tr>\n",
       "      <th>192545</th>\n",
       "      <td> TRAM2</td>\n",
       "      <td> R469</td>\n",
       "      <td> 00-05-01</td>\n",
       "      <td> RIT-ROOSEVELT</td>\n",
       "      <td>      R</td>\n",
       "      <td> RIT</td>\n",
       "      <td> 06/23/2015</td>\n",
       "      <td> 09:00:00</td>\n",
       "      <td> REGULAR</td>\n",
       "      <td>    5554</td>\n",
       "      <td>     216</td>\n",
       "    </tr>\n",
       "    <tr>\n",
       "      <th>192546</th>\n",
       "      <td> TRAM2</td>\n",
       "      <td> R469</td>\n",
       "      <td> 00-05-01</td>\n",
       "      <td> RIT-ROOSEVELT</td>\n",
       "      <td>      R</td>\n",
       "      <td> RIT</td>\n",
       "      <td> 06/23/2015</td>\n",
       "      <td> 13:00:00</td>\n",
       "      <td> REGULAR</td>\n",
       "      <td>    5554</td>\n",
       "      <td>     216</td>\n",
       "    </tr>\n",
       "    <tr>\n",
       "      <th>192547</th>\n",
       "      <td> TRAM2</td>\n",
       "      <td> R469</td>\n",
       "      <td> 00-05-01</td>\n",
       "      <td> RIT-ROOSEVELT</td>\n",
       "      <td>      R</td>\n",
       "      <td> RIT</td>\n",
       "      <td> 06/23/2015</td>\n",
       "      <td> 17:00:00</td>\n",
       "      <td> REGULAR</td>\n",
       "      <td>    5554</td>\n",
       "      <td>     216</td>\n",
       "    </tr>\n",
       "    <tr>\n",
       "      <th>192548</th>\n",
       "      <td> TRAM2</td>\n",
       "      <td> R469</td>\n",
       "      <td> 00-05-01</td>\n",
       "      <td> RIT-ROOSEVELT</td>\n",
       "      <td>      R</td>\n",
       "      <td> RIT</td>\n",
       "      <td> 06/23/2015</td>\n",
       "      <td> 21:00:00</td>\n",
       "      <td> REGULAR</td>\n",
       "      <td>    5554</td>\n",
       "      <td>     216</td>\n",
       "    </tr>\n",
       "    <tr>\n",
       "      <th>192549</th>\n",
       "      <td> TRAM2</td>\n",
       "      <td> R469</td>\n",
       "      <td> 00-05-01</td>\n",
       "      <td> RIT-ROOSEVELT</td>\n",
       "      <td>      R</td>\n",
       "      <td> RIT</td>\n",
       "      <td> 06/24/2015</td>\n",
       "      <td> 01:00:00</td>\n",
       "      <td> REGULAR</td>\n",
       "      <td>    5554</td>\n",
       "      <td>     216</td>\n",
       "    </tr>\n",
       "    <tr>\n",
       "      <th>192550</th>\n",
       "      <td> TRAM2</td>\n",
       "      <td> R469</td>\n",
       "      <td> 00-05-01</td>\n",
       "      <td> RIT-ROOSEVELT</td>\n",
       "      <td>      R</td>\n",
       "      <td> RIT</td>\n",
       "      <td> 06/24/2015</td>\n",
       "      <td> 05:00:00</td>\n",
       "      <td> REGULAR</td>\n",
       "      <td>    5554</td>\n",
       "      <td>     216</td>\n",
       "    </tr>\n",
       "    <tr>\n",
       "      <th>192551</th>\n",
       "      <td> TRAM2</td>\n",
       "      <td> R469</td>\n",
       "      <td> 00-05-01</td>\n",
       "      <td> RIT-ROOSEVELT</td>\n",
       "      <td>      R</td>\n",
       "      <td> RIT</td>\n",
       "      <td> 06/24/2015</td>\n",
       "      <td> 09:00:00</td>\n",
       "      <td> REGULAR</td>\n",
       "      <td>    5554</td>\n",
       "      <td>     216</td>\n",
       "    </tr>\n",
       "    <tr>\n",
       "      <th>192552</th>\n",
       "      <td> TRAM2</td>\n",
       "      <td> R469</td>\n",
       "      <td> 00-05-01</td>\n",
       "      <td> RIT-ROOSEVELT</td>\n",
       "      <td>      R</td>\n",
       "      <td> RIT</td>\n",
       "      <td> 06/24/2015</td>\n",
       "      <td> 13:00:00</td>\n",
       "      <td> REGULAR</td>\n",
       "      <td>    5554</td>\n",
       "      <td>     216</td>\n",
       "    </tr>\n",
       "    <tr>\n",
       "      <th>192553</th>\n",
       "      <td> TRAM2</td>\n",
       "      <td> R469</td>\n",
       "      <td> 00-05-01</td>\n",
       "      <td> RIT-ROOSEVELT</td>\n",
       "      <td>      R</td>\n",
       "      <td> RIT</td>\n",
       "      <td> 06/24/2015</td>\n",
       "      <td> 17:00:00</td>\n",
       "      <td> REGULAR</td>\n",
       "      <td>    5554</td>\n",
       "      <td>     216</td>\n",
       "    </tr>\n",
       "    <tr>\n",
       "      <th>192554</th>\n",
       "      <td> TRAM2</td>\n",
       "      <td> R469</td>\n",
       "      <td> 00-05-01</td>\n",
       "      <td> RIT-ROOSEVELT</td>\n",
       "      <td>      R</td>\n",
       "      <td> RIT</td>\n",
       "      <td> 06/24/2015</td>\n",
       "      <td> 21:00:00</td>\n",
       "      <td> REGULAR</td>\n",
       "      <td>    5554</td>\n",
       "      <td>     216</td>\n",
       "    </tr>\n",
       "    <tr>\n",
       "      <th>192555</th>\n",
       "      <td> TRAM2</td>\n",
       "      <td> R469</td>\n",
       "      <td> 00-05-01</td>\n",
       "      <td> RIT-ROOSEVELT</td>\n",
       "      <td>      R</td>\n",
       "      <td> RIT</td>\n",
       "      <td> 06/25/2015</td>\n",
       "      <td> 01:00:00</td>\n",
       "      <td> REGULAR</td>\n",
       "      <td>    5554</td>\n",
       "      <td>     216</td>\n",
       "    </tr>\n",
       "    <tr>\n",
       "      <th>192556</th>\n",
       "      <td> TRAM2</td>\n",
       "      <td> R469</td>\n",
       "      <td> 00-05-01</td>\n",
       "      <td> RIT-ROOSEVELT</td>\n",
       "      <td>      R</td>\n",
       "      <td> RIT</td>\n",
       "      <td> 06/25/2015</td>\n",
       "      <td> 05:00:00</td>\n",
       "      <td> REGULAR</td>\n",
       "      <td>    5554</td>\n",
       "      <td>     216</td>\n",
       "    </tr>\n",
       "    <tr>\n",
       "      <th>192557</th>\n",
       "      <td> TRAM2</td>\n",
       "      <td> R469</td>\n",
       "      <td> 00-05-01</td>\n",
       "      <td> RIT-ROOSEVELT</td>\n",
       "      <td>      R</td>\n",
       "      <td> RIT</td>\n",
       "      <td> 06/25/2015</td>\n",
       "      <td> 09:00:00</td>\n",
       "      <td> REGULAR</td>\n",
       "      <td>    5554</td>\n",
       "      <td>     216</td>\n",
       "    </tr>\n",
       "    <tr>\n",
       "      <th>192558</th>\n",
       "      <td> TRAM2</td>\n",
       "      <td> R469</td>\n",
       "      <td> 00-05-01</td>\n",
       "      <td> RIT-ROOSEVELT</td>\n",
       "      <td>      R</td>\n",
       "      <td> RIT</td>\n",
       "      <td> 06/25/2015</td>\n",
       "      <td> 13:00:00</td>\n",
       "      <td> REGULAR</td>\n",
       "      <td>    5554</td>\n",
       "      <td>     216</td>\n",
       "    </tr>\n",
       "    <tr>\n",
       "      <th>192559</th>\n",
       "      <td> TRAM2</td>\n",
       "      <td> R469</td>\n",
       "      <td> 00-05-01</td>\n",
       "      <td> RIT-ROOSEVELT</td>\n",
       "      <td>      R</td>\n",
       "      <td> RIT</td>\n",
       "      <td> 06/25/2015</td>\n",
       "      <td> 17:00:00</td>\n",
       "      <td> REGULAR</td>\n",
       "      <td>    5554</td>\n",
       "      <td>     216</td>\n",
       "    </tr>\n",
       "    <tr>\n",
       "      <th>192560</th>\n",
       "      <td> TRAM2</td>\n",
       "      <td> R469</td>\n",
       "      <td> 00-05-01</td>\n",
       "      <td> RIT-ROOSEVELT</td>\n",
       "      <td>      R</td>\n",
       "      <td> RIT</td>\n",
       "      <td> 06/25/2015</td>\n",
       "      <td> 21:00:00</td>\n",
       "      <td> REGULAR</td>\n",
       "      <td>    5554</td>\n",
       "      <td>     216</td>\n",
       "    </tr>\n",
       "    <tr>\n",
       "      <th>192561</th>\n",
       "      <td> TRAM2</td>\n",
       "      <td> R469</td>\n",
       "      <td> 00-05-01</td>\n",
       "      <td> RIT-ROOSEVELT</td>\n",
       "      <td>      R</td>\n",
       "      <td> RIT</td>\n",
       "      <td> 06/26/2015</td>\n",
       "      <td> 01:00:00</td>\n",
       "      <td> REGULAR</td>\n",
       "      <td>    5554</td>\n",
       "      <td>     216</td>\n",
       "    </tr>\n",
       "    <tr>\n",
       "      <th>192562</th>\n",
       "      <td> TRAM2</td>\n",
       "      <td> R469</td>\n",
       "      <td> 00-05-01</td>\n",
       "      <td> RIT-ROOSEVELT</td>\n",
       "      <td>      R</td>\n",
       "      <td> RIT</td>\n",
       "      <td> 06/26/2015</td>\n",
       "      <td> 05:00:00</td>\n",
       "      <td> REGULAR</td>\n",
       "      <td>    5554</td>\n",
       "      <td>     216</td>\n",
       "    </tr>\n",
       "    <tr>\n",
       "      <th>192563</th>\n",
       "      <td> TRAM2</td>\n",
       "      <td> R469</td>\n",
       "      <td> 00-05-01</td>\n",
       "      <td> RIT-ROOSEVELT</td>\n",
       "      <td>      R</td>\n",
       "      <td> RIT</td>\n",
       "      <td> 06/26/2015</td>\n",
       "      <td> 09:00:00</td>\n",
       "      <td> REGULAR</td>\n",
       "      <td>    5554</td>\n",
       "      <td>     216</td>\n",
       "    </tr>\n",
       "    <tr>\n",
       "      <th>192564</th>\n",
       "      <td> TRAM2</td>\n",
       "      <td> R469</td>\n",
       "      <td> 00-05-01</td>\n",
       "      <td> RIT-ROOSEVELT</td>\n",
       "      <td>      R</td>\n",
       "      <td> RIT</td>\n",
       "      <td> 06/26/2015</td>\n",
       "      <td> 13:00:00</td>\n",
       "      <td> REGULAR</td>\n",
       "      <td>    5554</td>\n",
       "      <td>     216</td>\n",
       "    </tr>\n",
       "    <tr>\n",
       "      <th>192565</th>\n",
       "      <td> TRAM2</td>\n",
       "      <td> R469</td>\n",
       "      <td> 00-05-01</td>\n",
       "      <td> RIT-ROOSEVELT</td>\n",
       "      <td>      R</td>\n",
       "      <td> RIT</td>\n",
       "      <td> 06/26/2015</td>\n",
       "      <td> 17:00:00</td>\n",
       "      <td> REGULAR</td>\n",
       "      <td>    5554</td>\n",
       "      <td>     216</td>\n",
       "    </tr>\n",
       "    <tr>\n",
       "      <th>192566</th>\n",
       "      <td> TRAM2</td>\n",
       "      <td> R469</td>\n",
       "      <td> 00-05-01</td>\n",
       "      <td> RIT-ROOSEVELT</td>\n",
       "      <td>      R</td>\n",
       "      <td> RIT</td>\n",
       "      <td> 06/26/2015</td>\n",
       "      <td> 21:00:00</td>\n",
       "      <td> REGULAR</td>\n",
       "      <td>    5554</td>\n",
       "      <td>     216</td>\n",
       "    </tr>\n",
       "  </tbody>\n",
       "</table>\n",
       "<p>192567 rows × 11 columns</p>\n",
       "</div>"
      ],
      "text/plain": [
       "          C/A  UNIT       SCP        STATION LINENAME DIVISION        DATE  \\\n",
       "0        A002  R051  02-00-00  LEXINGTON AVE   NQR456      BMT  06/20/2015   \n",
       "1        A002  R051  02-00-00  LEXINGTON AVE   NQR456      BMT  06/20/2015   \n",
       "2        A002  R051  02-00-00  LEXINGTON AVE   NQR456      BMT  06/20/2015   \n",
       "3        A002  R051  02-00-00  LEXINGTON AVE   NQR456      BMT  06/20/2015   \n",
       "4        A002  R051  02-00-00  LEXINGTON AVE   NQR456      BMT  06/20/2015   \n",
       "5        A002  R051  02-00-00  LEXINGTON AVE   NQR456      BMT  06/20/2015   \n",
       "6        A002  R051  02-00-00  LEXINGTON AVE   NQR456      BMT  06/21/2015   \n",
       "7        A002  R051  02-00-00  LEXINGTON AVE   NQR456      BMT  06/21/2015   \n",
       "8        A002  R051  02-00-00  LEXINGTON AVE   NQR456      BMT  06/21/2015   \n",
       "9        A002  R051  02-00-00  LEXINGTON AVE   NQR456      BMT  06/21/2015   \n",
       "10       A002  R051  02-00-00  LEXINGTON AVE   NQR456      BMT  06/21/2015   \n",
       "11       A002  R051  02-00-00  LEXINGTON AVE   NQR456      BMT  06/21/2015   \n",
       "12       A002  R051  02-00-00  LEXINGTON AVE   NQR456      BMT  06/22/2015   \n",
       "13       A002  R051  02-00-00  LEXINGTON AVE   NQR456      BMT  06/22/2015   \n",
       "14       A002  R051  02-00-00  LEXINGTON AVE   NQR456      BMT  06/22/2015   \n",
       "15       A002  R051  02-00-00  LEXINGTON AVE   NQR456      BMT  06/22/2015   \n",
       "16       A002  R051  02-00-00  LEXINGTON AVE   NQR456      BMT  06/22/2015   \n",
       "17       A002  R051  02-00-00  LEXINGTON AVE   NQR456      BMT  06/22/2015   \n",
       "18       A002  R051  02-00-00  LEXINGTON AVE   NQR456      BMT  06/23/2015   \n",
       "19       A002  R051  02-00-00  LEXINGTON AVE   NQR456      BMT  06/23/2015   \n",
       "20       A002  R051  02-00-00  LEXINGTON AVE   NQR456      BMT  06/23/2015   \n",
       "21       A002  R051  02-00-00  LEXINGTON AVE   NQR456      BMT  06/23/2015   \n",
       "22       A002  R051  02-00-00  LEXINGTON AVE   NQR456      BMT  06/23/2015   \n",
       "23       A002  R051  02-00-00  LEXINGTON AVE   NQR456      BMT  06/23/2015   \n",
       "24       A002  R051  02-00-00  LEXINGTON AVE   NQR456      BMT  06/23/2015   \n",
       "25       A002  R051  02-00-00  LEXINGTON AVE   NQR456      BMT  06/24/2015   \n",
       "26       A002  R051  02-00-00  LEXINGTON AVE   NQR456      BMT  06/24/2015   \n",
       "27       A002  R051  02-00-00  LEXINGTON AVE   NQR456      BMT  06/24/2015   \n",
       "28       A002  R051  02-00-00  LEXINGTON AVE   NQR456      BMT  06/24/2015   \n",
       "29       A002  R051  02-00-00  LEXINGTON AVE   NQR456      BMT  06/24/2015   \n",
       "...       ...   ...       ...            ...      ...      ...         ...   \n",
       "192537  TRAM2  R469  00-05-01  RIT-ROOSEVELT        R      RIT  06/22/2015   \n",
       "192538  TRAM2  R469  00-05-01  RIT-ROOSEVELT        R      RIT  06/22/2015   \n",
       "192539  TRAM2  R469  00-05-01  RIT-ROOSEVELT        R      RIT  06/22/2015   \n",
       "192540  TRAM2  R469  00-05-01  RIT-ROOSEVELT        R      RIT  06/22/2015   \n",
       "192541  TRAM2  R469  00-05-01  RIT-ROOSEVELT        R      RIT  06/22/2015   \n",
       "192542  TRAM2  R469  00-05-01  RIT-ROOSEVELT        R      RIT  06/22/2015   \n",
       "192543  TRAM2  R469  00-05-01  RIT-ROOSEVELT        R      RIT  06/23/2015   \n",
       "192544  TRAM2  R469  00-05-01  RIT-ROOSEVELT        R      RIT  06/23/2015   \n",
       "192545  TRAM2  R469  00-05-01  RIT-ROOSEVELT        R      RIT  06/23/2015   \n",
       "192546  TRAM2  R469  00-05-01  RIT-ROOSEVELT        R      RIT  06/23/2015   \n",
       "192547  TRAM2  R469  00-05-01  RIT-ROOSEVELT        R      RIT  06/23/2015   \n",
       "192548  TRAM2  R469  00-05-01  RIT-ROOSEVELT        R      RIT  06/23/2015   \n",
       "192549  TRAM2  R469  00-05-01  RIT-ROOSEVELT        R      RIT  06/24/2015   \n",
       "192550  TRAM2  R469  00-05-01  RIT-ROOSEVELT        R      RIT  06/24/2015   \n",
       "192551  TRAM2  R469  00-05-01  RIT-ROOSEVELT        R      RIT  06/24/2015   \n",
       "192552  TRAM2  R469  00-05-01  RIT-ROOSEVELT        R      RIT  06/24/2015   \n",
       "192553  TRAM2  R469  00-05-01  RIT-ROOSEVELT        R      RIT  06/24/2015   \n",
       "192554  TRAM2  R469  00-05-01  RIT-ROOSEVELT        R      RIT  06/24/2015   \n",
       "192555  TRAM2  R469  00-05-01  RIT-ROOSEVELT        R      RIT  06/25/2015   \n",
       "192556  TRAM2  R469  00-05-01  RIT-ROOSEVELT        R      RIT  06/25/2015   \n",
       "192557  TRAM2  R469  00-05-01  RIT-ROOSEVELT        R      RIT  06/25/2015   \n",
       "192558  TRAM2  R469  00-05-01  RIT-ROOSEVELT        R      RIT  06/25/2015   \n",
       "192559  TRAM2  R469  00-05-01  RIT-ROOSEVELT        R      RIT  06/25/2015   \n",
       "192560  TRAM2  R469  00-05-01  RIT-ROOSEVELT        R      RIT  06/25/2015   \n",
       "192561  TRAM2  R469  00-05-01  RIT-ROOSEVELT        R      RIT  06/26/2015   \n",
       "192562  TRAM2  R469  00-05-01  RIT-ROOSEVELT        R      RIT  06/26/2015   \n",
       "192563  TRAM2  R469  00-05-01  RIT-ROOSEVELT        R      RIT  06/26/2015   \n",
       "192564  TRAM2  R469  00-05-01  RIT-ROOSEVELT        R      RIT  06/26/2015   \n",
       "192565  TRAM2  R469  00-05-01  RIT-ROOSEVELT        R      RIT  06/26/2015   \n",
       "192566  TRAM2  R469  00-05-01  RIT-ROOSEVELT        R      RIT  06/26/2015   \n",
       "\n",
       "            TIME     DESC  ENTRIES  \\\n",
       "0       00:00:00  REGULAR  5192500   \n",
       "1       04:00:00  REGULAR  5192550   \n",
       "2       08:00:00  REGULAR  5192568   \n",
       "3       12:00:00  REGULAR  5192670   \n",
       "4       16:00:00  REGULAR  5192886   \n",
       "5       20:00:00  REGULAR  5193250   \n",
       "6       00:00:00  REGULAR  5193409   \n",
       "7       04:00:00  REGULAR  5193435   \n",
       "8       08:00:00  REGULAR  5193461   \n",
       "9       12:00:00  REGULAR  5193533   \n",
       "10      16:00:00  REGULAR  5193752   \n",
       "11      20:00:00  REGULAR  5193985   \n",
       "12      00:00:00  REGULAR  5194109   \n",
       "13      04:00:00  REGULAR  5194120   \n",
       "14      08:00:00  REGULAR  5194164   \n",
       "15      12:00:00  REGULAR  5194383   \n",
       "16      16:00:00  REGULAR  5194686   \n",
       "17      20:00:00  REGULAR  5195595   \n",
       "18      00:00:00  REGULAR  5195847   \n",
       "19      04:00:00  REGULAR  5195870   \n",
       "20      07:58:11  REGULAR  5195932   \n",
       "21      08:00:00  REGULAR  5195933   \n",
       "22      12:00:00  REGULAR  5196120   \n",
       "23      16:00:00  REGULAR  5196442   \n",
       "24      20:00:00  REGULAR  5197366   \n",
       "25      00:00:00  REGULAR  5197638   \n",
       "26      04:00:00  REGULAR  5197656   \n",
       "27      08:00:00  REGULAR  5197714   \n",
       "28      12:00:00  REGULAR  5197903   \n",
       "29      16:00:00  REGULAR  5198207   \n",
       "...          ...      ...      ...   \n",
       "192537  01:00:00  REGULAR     5554   \n",
       "192538  05:00:00  REGULAR     5554   \n",
       "192539  09:00:00  REGULAR     5554   \n",
       "192540  13:00:00  REGULAR     5554   \n",
       "192541  17:00:00  REGULAR     5554   \n",
       "192542  21:00:00  REGULAR     5554   \n",
       "192543  01:00:00  REGULAR     5554   \n",
       "192544  05:00:00  REGULAR     5554   \n",
       "192545  09:00:00  REGULAR     5554   \n",
       "192546  13:00:00  REGULAR     5554   \n",
       "192547  17:00:00  REGULAR     5554   \n",
       "192548  21:00:00  REGULAR     5554   \n",
       "192549  01:00:00  REGULAR     5554   \n",
       "192550  05:00:00  REGULAR     5554   \n",
       "192551  09:00:00  REGULAR     5554   \n",
       "192552  13:00:00  REGULAR     5554   \n",
       "192553  17:00:00  REGULAR     5554   \n",
       "192554  21:00:00  REGULAR     5554   \n",
       "192555  01:00:00  REGULAR     5554   \n",
       "192556  05:00:00  REGULAR     5554   \n",
       "192557  09:00:00  REGULAR     5554   \n",
       "192558  13:00:00  REGULAR     5554   \n",
       "192559  17:00:00  REGULAR     5554   \n",
       "192560  21:00:00  REGULAR     5554   \n",
       "192561  01:00:00  REGULAR     5554   \n",
       "192562  05:00:00  REGULAR     5554   \n",
       "192563  09:00:00  REGULAR     5554   \n",
       "192564  13:00:00  REGULAR     5554   \n",
       "192565  17:00:00  REGULAR     5554   \n",
       "192566  21:00:00  REGULAR     5554   \n",
       "\n",
       "        EXITS                                                                 \n",
       "0                                                 1756572                     \n",
       "1                                                 1756580                     \n",
       "2                                                 1756609                     \n",
       "3                                                 1756706                     \n",
       "4                                                 1756776                     \n",
       "5                                                 1756837                     \n",
       "6                                                 1756875                     \n",
       "7                                                 1756882                     \n",
       "8                                                 1756900                     \n",
       "9                                                 1756954                     \n",
       "10                                                1757011                     \n",
       "11                                                1757055                     \n",
       "12                                                1757100                     \n",
       "13                                                1757103                     \n",
       "14                                                1757212                     \n",
       "15                                                1757477                     \n",
       "16                                                1757554                     \n",
       "17                                                1757631                     \n",
       "18                                                1757663                     \n",
       "19                                                1757663                     \n",
       "20                                                1757756                     \n",
       "21                                                1757761                     \n",
       "22                                                1758077                     \n",
       "23                                                1758151                     \n",
       "24                                                1758231                     \n",
       "25                                                1758259                     \n",
       "26                                                1758260                     \n",
       "27                                                1758354                     \n",
       "28                                                1758608                     \n",
       "29                                                1758672                     \n",
       "...                                                   ...                     \n",
       "192537                                                216                     \n",
       "192538                                                216                     \n",
       "192539                                                216                     \n",
       "192540                                                216                     \n",
       "192541                                                216                     \n",
       "192542                                                216                     \n",
       "192543                                                216                     \n",
       "192544                                                216                     \n",
       "192545                                                216                     \n",
       "192546                                                216                     \n",
       "192547                                                216                     \n",
       "192548                                                216                     \n",
       "192549                                                216                     \n",
       "192550                                                216                     \n",
       "192551                                                216                     \n",
       "192552                                                216                     \n",
       "192553                                                216                     \n",
       "192554                                                216                     \n",
       "192555                                                216                     \n",
       "192556                                                216                     \n",
       "192557                                                216                     \n",
       "192558                                                216                     \n",
       "192559                                                216                     \n",
       "192560                                                216                     \n",
       "192561                                                216                     \n",
       "192562                                                216                     \n",
       "192563                                                216                     \n",
       "192564                                                216                     \n",
       "192565                                                216                     \n",
       "192566                                                216                     \n",
       "\n",
       "[192567 rows x 11 columns]"
      ]
     },
     "execution_count": 53,
     "metadata": {},
     "output_type": "execute_result"
    }
   ],
   "source": [
    "## Make a dataframe from a csv file\n",
    "df3 = pd.read_csv(\"turnstile_150627.csv\")\n",
    "df3"
   ]
  },
  {
   "cell_type": "code",
   "execution_count": 54,
   "metadata": {
    "collapsed": false
   },
   "outputs": [
    {
     "data": {
      "text/html": [
       "<div style=\"max-height:1000px;max-width:1500px;overflow:auto;\">\n",
       "<table border=\"1\" class=\"dataframe\">\n",
       "  <thead>\n",
       "    <tr style=\"text-align: right;\">\n",
       "      <th></th>\n",
       "      <th>C/A</th>\n",
       "      <th>UNIT</th>\n",
       "      <th>SCP</th>\n",
       "      <th>STATION</th>\n",
       "      <th>LINENAME</th>\n",
       "      <th>DIVISION</th>\n",
       "      <th>DATE</th>\n",
       "      <th>TIME</th>\n",
       "      <th>DESC</th>\n",
       "      <th>ENTRIES</th>\n",
       "      <th>EXITS                                                               </th>\n",
       "    </tr>\n",
       "  </thead>\n",
       "  <tbody>\n",
       "    <tr>\n",
       "      <th>0</th>\n",
       "      <td> A002</td>\n",
       "      <td> R051</td>\n",
       "      <td> 02-00-00</td>\n",
       "      <td> LEXINGTON AVE</td>\n",
       "      <td> NQR456</td>\n",
       "      <td> BMT</td>\n",
       "      <td> 06/20/2015</td>\n",
       "      <td> 00:00:00</td>\n",
       "      <td> REGULAR</td>\n",
       "      <td> 5192500</td>\n",
       "      <td> 1756572</td>\n",
       "    </tr>\n",
       "    <tr>\n",
       "      <th>1</th>\n",
       "      <td> A002</td>\n",
       "      <td> R051</td>\n",
       "      <td> 02-00-00</td>\n",
       "      <td> LEXINGTON AVE</td>\n",
       "      <td> NQR456</td>\n",
       "      <td> BMT</td>\n",
       "      <td> 06/20/2015</td>\n",
       "      <td> 04:00:00</td>\n",
       "      <td> REGULAR</td>\n",
       "      <td> 5192550</td>\n",
       "      <td> 1756580</td>\n",
       "    </tr>\n",
       "    <tr>\n",
       "      <th>2</th>\n",
       "      <td> A002</td>\n",
       "      <td> R051</td>\n",
       "      <td> 02-00-00</td>\n",
       "      <td> LEXINGTON AVE</td>\n",
       "      <td> NQR456</td>\n",
       "      <td> BMT</td>\n",
       "      <td> 06/20/2015</td>\n",
       "      <td> 08:00:00</td>\n",
       "      <td> REGULAR</td>\n",
       "      <td> 5192568</td>\n",
       "      <td> 1756609</td>\n",
       "    </tr>\n",
       "    <tr>\n",
       "      <th>3</th>\n",
       "      <td> A002</td>\n",
       "      <td> R051</td>\n",
       "      <td> 02-00-00</td>\n",
       "      <td> LEXINGTON AVE</td>\n",
       "      <td> NQR456</td>\n",
       "      <td> BMT</td>\n",
       "      <td> 06/20/2015</td>\n",
       "      <td> 12:00:00</td>\n",
       "      <td> REGULAR</td>\n",
       "      <td> 5192670</td>\n",
       "      <td> 1756706</td>\n",
       "    </tr>\n",
       "    <tr>\n",
       "      <th>4</th>\n",
       "      <td> A002</td>\n",
       "      <td> R051</td>\n",
       "      <td> 02-00-00</td>\n",
       "      <td> LEXINGTON AVE</td>\n",
       "      <td> NQR456</td>\n",
       "      <td> BMT</td>\n",
       "      <td> 06/20/2015</td>\n",
       "      <td> 16:00:00</td>\n",
       "      <td> REGULAR</td>\n",
       "      <td> 5192886</td>\n",
       "      <td> 1756776</td>\n",
       "    </tr>\n",
       "  </tbody>\n",
       "</table>\n",
       "</div>"
      ],
      "text/plain": [
       "    C/A  UNIT       SCP        STATION LINENAME DIVISION        DATE  \\\n",
       "0  A002  R051  02-00-00  LEXINGTON AVE   NQR456      BMT  06/20/2015   \n",
       "1  A002  R051  02-00-00  LEXINGTON AVE   NQR456      BMT  06/20/2015   \n",
       "2  A002  R051  02-00-00  LEXINGTON AVE   NQR456      BMT  06/20/2015   \n",
       "3  A002  R051  02-00-00  LEXINGTON AVE   NQR456      BMT  06/20/2015   \n",
       "4  A002  R051  02-00-00  LEXINGTON AVE   NQR456      BMT  06/20/2015   \n",
       "\n",
       "       TIME     DESC  ENTRIES  \\\n",
       "0  00:00:00  REGULAR  5192500   \n",
       "1  04:00:00  REGULAR  5192550   \n",
       "2  08:00:00  REGULAR  5192568   \n",
       "3  12:00:00  REGULAR  5192670   \n",
       "4  16:00:00  REGULAR  5192886   \n",
       "\n",
       "   EXITS                                                                 \n",
       "0                                            1756572                     \n",
       "1                                            1756580                     \n",
       "2                                            1756609                     \n",
       "3                                            1756706                     \n",
       "4                                            1756776                     "
      ]
     },
     "execution_count": 54,
     "metadata": {},
     "output_type": "execute_result"
    }
   ],
   "source": [
    "df3.head()"
   ]
  },
  {
   "cell_type": "code",
   "execution_count": 55,
   "metadata": {
    "collapsed": false
   },
   "outputs": [
    {
     "data": {
      "text/html": [
       "<div style=\"max-height:1000px;max-width:1500px;overflow:auto;\">\n",
       "<table border=\"1\" class=\"dataframe\">\n",
       "  <thead>\n",
       "    <tr style=\"text-align: right;\">\n",
       "      <th></th>\n",
       "      <th>ENTRIES</th>\n",
       "      <th>EXITS                                                               </th>\n",
       "    </tr>\n",
       "  </thead>\n",
       "  <tbody>\n",
       "    <tr>\n",
       "      <th>count</th>\n",
       "      <td> 1.925670e+05</td>\n",
       "      <td> 1.925670e+05</td>\n",
       "    </tr>\n",
       "    <tr>\n",
       "      <th>mean</th>\n",
       "      <td> 3.007087e+07</td>\n",
       "      <td> 2.456023e+07</td>\n",
       "    </tr>\n",
       "    <tr>\n",
       "      <th>std</th>\n",
       "      <td> 1.803180e+08</td>\n",
       "      <td> 1.630384e+08</td>\n",
       "    </tr>\n",
       "    <tr>\n",
       "      <th>min</th>\n",
       "      <td> 0.000000e+00</td>\n",
       "      <td> 0.000000e+00</td>\n",
       "    </tr>\n",
       "    <tr>\n",
       "      <th>25%</th>\n",
       "      <td> 4.919450e+05</td>\n",
       "      <td> 2.692710e+05</td>\n",
       "    </tr>\n",
       "    <tr>\n",
       "      <th>50%</th>\n",
       "      <td> 2.303768e+06</td>\n",
       "      <td> 1.380938e+06</td>\n",
       "    </tr>\n",
       "    <tr>\n",
       "      <th>75%</th>\n",
       "      <td> 5.990681e+06</td>\n",
       "      <td> 4.377280e+06</td>\n",
       "    </tr>\n",
       "    <tr>\n",
       "      <th>max</th>\n",
       "      <td> 2.118713e+09</td>\n",
       "      <td> 2.087387e+09</td>\n",
       "    </tr>\n",
       "  </tbody>\n",
       "</table>\n",
       "</div>"
      ],
      "text/plain": [
       "            ENTRIES  \\\n",
       "count  1.925670e+05   \n",
       "mean   3.007087e+07   \n",
       "std    1.803180e+08   \n",
       "min    0.000000e+00   \n",
       "25%    4.919450e+05   \n",
       "50%    2.303768e+06   \n",
       "75%    5.990681e+06   \n",
       "max    2.118713e+09   \n",
       "\n",
       "       EXITS                                                                 \n",
       "count                                       1.925670e+05                     \n",
       "mean                                        2.456023e+07                     \n",
       "std                                         1.630384e+08                     \n",
       "min                                         0.000000e+00                     \n",
       "25%                                         2.692710e+05                     \n",
       "50%                                         1.380938e+06                     \n",
       "75%                                         4.377280e+06                     \n",
       "max                                         2.087387e+09                     "
      ]
     },
     "execution_count": 55,
     "metadata": {},
     "output_type": "execute_result"
    }
   ],
   "source": [
    "df3.describe()"
   ]
  },
  {
   "cell_type": "code",
   "execution_count": 56,
   "metadata": {
    "collapsed": true
   },
   "outputs": [],
   "source": [
    "## Grouping indices"
   ]
  },
  {
   "cell_type": "code",
   "execution_count": 57,
   "metadata": {
    "collapsed": true
   },
   "outputs": [],
   "source": [
    "## Hierarchical indices"
   ]
  },
  {
   "cell_type": "code",
   "execution_count": 58,
   "metadata": {
    "collapsed": true
   },
   "outputs": [],
   "source": [
    "## Merge/Join of two dataframes"
   ]
  },
  {
   "cell_type": "markdown",
   "metadata": {},
   "source": [
    "### 3. Panels (3-dim'l)"
   ]
  },
  {
   "cell_type": "code",
   "execution_count": 59,
   "metadata": {
    "collapsed": true
   },
   "outputs": [],
   "source": [
    "## What are these?!?"
   ]
  },
  {
   "cell_type": "code",
   "execution_count": 60,
   "metadata": {
    "collapsed": false
   },
   "outputs": [
    {
     "data": {
      "text/plain": [
       "<class 'pandas.core.panel.Panel'>\n",
       "Dimensions: 2 (items) x 10 (major_axis) x 6 (minor_axis)\n",
       "Items axis: X to Y\n",
       "Major_axis axis: 0 to 2013-01-06 00:00:00\n",
       "Minor_axis axis: A to F"
      ]
     },
     "execution_count": 60,
     "metadata": {},
     "output_type": "execute_result"
    }
   ],
   "source": [
    "pd.Panel({'X':df, 'Y':df2})"
   ]
  },
  {
   "cell_type": "markdown",
   "metadata": {},
   "source": [
    "### Miscellaneous"
   ]
  },
  {
   "cell_type": "code",
   "execution_count": 61,
   "metadata": {
    "collapsed": true
   },
   "outputs": [],
   "source": [
    "## Tell me more!"
   ]
  },
  {
   "cell_type": "code",
   "execution_count": null,
   "metadata": {
    "collapsed": true
   },
   "outputs": [],
   "source": []
  }
 ],
 "metadata": {
  "kernelspec": {
   "display_name": "Python 2",
   "language": "python",
   "name": "python2"
  },
  "language_info": {
   "codemirror_mode": {
    "name": "ipython",
    "version": 2
   },
   "file_extension": ".py",
   "mimetype": "text/x-python",
   "name": "python",
   "nbconvert_exporter": "python",
   "pygments_lexer": "ipython2",
   "version": "2.7.6"
  }
 },
 "nbformat": 4,
 "nbformat_minor": 0
}
