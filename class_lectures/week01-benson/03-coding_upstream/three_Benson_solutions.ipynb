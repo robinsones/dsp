{
 "cells": [
  {
   "cell_type": "markdown",
   "metadata": {},
   "source": [
    "# MTA Data Challenges"
   ]
  },
  {
   "cell_type": "code",
   "execution_count": 1,
   "metadata": {
    "collapsed": true
   },
   "outputs": [],
   "source": [
    "from __future__ import division\n",
    "import csv\n",
    "from datetime import datetime\n",
    "from collections import Counter"
   ]
  },
  {
   "cell_type": "markdown",
   "metadata": {},
   "source": [
    "### Challenge 1"
   ]
  },
  {
   "cell_type": "code",
   "execution_count": 2,
   "metadata": {
    "collapsed": false
   },
   "outputs": [
    {
     "name": "stdout",
     "output_type": "stream",
     "text": [
      "  % Total    % Received % Xferd  Average Speed   Time    Time     Time  Current\n",
      "                                 Dload  Upload   Total   Spent    Left  Speed\n",
      "100 24.0M    0 24.0M    0     0   566k      0 --:--:--  0:00:43 --:--:--  579k\n"
     ]
    }
   ],
   "source": [
    "!curl -O http://web.mta.info/developers/data/nyct/turnstile/turnstile_150627.txt"
   ]
  },
  {
   "cell_type": "code",
   "execution_count": 3,
   "metadata": {
    "collapsed": true
   },
   "outputs": [],
   "source": [
    "with open('turnstile_150627.txt') as f:\n",
    "    reader = csv.reader(f)\n",
    "    rows = [[cell.strip() for cell in row] for row in reader]"
   ]
  },
  {
   "cell_type": "code",
   "execution_count": 4,
   "metadata": {
    "collapsed": true
   },
   "outputs": [],
   "source": [
    "assert rows.pop(0) == ['C/A', 'UNIT', 'SCP', 'STATION', 'LINENAME',\n",
    "                       'DIVISION', 'DATE', 'TIME', 'DESC', 'ENTRIES',\n",
    "                       'EXITS']"
   ]
  },
  {
   "cell_type": "code",
   "execution_count": 5,
   "metadata": {
    "collapsed": true
   },
   "outputs": [],
   "source": [
    "raw_readings = {}\n",
    "for row in rows:\n",
    "    raw_readings.setdefault(tuple(row[:4]), []).append(tuple(row[4:]))"
   ]
  },
  {
   "cell_type": "markdown",
   "metadata": {},
   "source": [
    "`raw_readings` is a solution to Challenge 1."
   ]
  },
  {
   "cell_type": "markdown",
   "metadata": {},
   "source": [
    "### Challenge 2"
   ]
  },
  {
   "cell_type": "code",
   "execution_count": 18,
   "metadata": {
    "collapsed": true
   },
   "outputs": [],
   "source": [
    "datetime_cumulative = {turnstile: [(datetime.strptime(date + time,\n",
    "                                                      '%m/%d/%Y%X'),\n",
    "                                    int(in_cumulative))\n",
    "                                   for _, _, date, time,\n",
    "                                       _, in_cumulative, _ in rows]\n",
    "                       for turnstile, rows in raw_readings.items()}"
   ]
  },
  {
   "cell_type": "code",
   "execution_count": 52,
   "metadata": {
    "collapsed": false
   },
   "outputs": [
    {
     "name": "stdout",
     "output_type": "stream",
     "text": [
      "('A030', 'R083', '01-06-00', '23 ST-5 AVE')\n"
     ]
    },
    {
     "data": {
      "text/plain": [
       "[(datetime.datetime(2015, 6, 20, 0, 0), 5938862),\n",
       " (datetime.datetime(2015, 6, 20, 4, 0), 5938915),\n",
       " (datetime.datetime(2015, 6, 20, 8, 0), 5938934),\n",
       " (datetime.datetime(2015, 6, 20, 12, 0), 5939047),\n",
       " (datetime.datetime(2015, 6, 20, 16, 0), 5939329),\n",
       " (datetime.datetime(2015, 6, 20, 20, 0), 5939679),\n",
       " (datetime.datetime(2015, 6, 21, 0, 0), 5939870),\n",
       " (datetime.datetime(2015, 6, 21, 4, 0), 5939929),\n",
       " (datetime.datetime(2015, 6, 21, 8, 0), 5939946),\n",
       " (datetime.datetime(2015, 6, 21, 12, 0), 5940029),\n",
       " (datetime.datetime(2015, 6, 21, 16, 0), 5940234),\n",
       " (datetime.datetime(2015, 6, 21, 20, 0), 5940488),\n",
       " (datetime.datetime(2015, 6, 22, 0, 0), 5940637),\n",
       " (datetime.datetime(2015, 6, 22, 4, 0), 5940660),\n",
       " (datetime.datetime(2015, 6, 22, 7, 33, 53), 5940726),\n",
       " (datetime.datetime(2015, 6, 22, 7, 35, 9), 5940728),\n",
       " (datetime.datetime(2015, 6, 22, 8, 0), 5940768),\n",
       " (datetime.datetime(2015, 6, 22, 12, 0), 5941224),\n",
       " (datetime.datetime(2015, 6, 22, 16, 0), 5941639),\n",
       " (datetime.datetime(2015, 6, 22, 20, 0), 5942729),\n",
       " (datetime.datetime(2015, 6, 23, 0, 0), 5943075),\n",
       " (datetime.datetime(2015, 6, 23, 4, 0), 5943120),\n",
       " (datetime.datetime(2015, 6, 23, 8, 0), 5943235),\n",
       " (datetime.datetime(2015, 6, 23, 12, 0), 5943747),\n",
       " (datetime.datetime(2015, 6, 23, 16, 0), 5944191),\n",
       " (datetime.datetime(2015, 6, 23, 20, 0), 5945345),\n",
       " (datetime.datetime(2015, 6, 24, 0, 0), 5945726),\n",
       " (datetime.datetime(2015, 6, 24, 4, 0), 5945753),\n",
       " (datetime.datetime(2015, 6, 24, 8, 0), 5945874),\n",
       " (datetime.datetime(2015, 6, 24, 12, 0), 5946395),\n",
       " (datetime.datetime(2015, 6, 24, 16, 0), 5946906),\n",
       " (datetime.datetime(2015, 6, 24, 20, 0), 5948001),\n",
       " (datetime.datetime(2015, 6, 25, 0, 0), 5948406),\n",
       " (datetime.datetime(2015, 6, 25, 4, 0), 5948435),\n",
       " (datetime.datetime(2015, 6, 25, 8, 0), 5948544),\n",
       " (datetime.datetime(2015, 6, 25, 12, 0), 5949080),\n",
       " (datetime.datetime(2015, 6, 25, 16, 0), 5949613),\n",
       " (datetime.datetime(2015, 6, 25, 20, 0), 5950675),\n",
       " (datetime.datetime(2015, 6, 26, 0, 0), 5951089),\n",
       " (datetime.datetime(2015, 6, 26, 4, 0), 5951133),\n",
       " (datetime.datetime(2015, 6, 26, 8, 0), 5951235),\n",
       " (datetime.datetime(2015, 6, 26, 12, 0), 5951716),\n",
       " (datetime.datetime(2015, 6, 26, 16, 0), 5952200),\n",
       " (datetime.datetime(2015, 6, 26, 20, 0), 5953040)]"
      ]
     },
     "execution_count": 52,
     "metadata": {},
     "output_type": "execute_result"
    }
   ],
   "source": [
    "print datetime_cumulative.keys()[0]\n",
    "datetime_cumulative[datetime_cumulative.keys()[0]]"
   ]
  },
  {
   "cell_type": "code",
   "execution_count": 21,
   "metadata": {
    "collapsed": true
   },
   "outputs": [],
   "source": [
    "for rows in datetime_cumulative.values():\n",
    "    assert rows == sorted(rows)"
   ]
  },
  {
   "cell_type": "code",
   "execution_count": 55,
   "metadata": {
    "collapsed": false
   },
   "outputs": [
    {
     "data": {
      "text/plain": [
       "[(0, 3),\n",
       " (0, 4),\n",
       " (0, 5),\n",
       " (1, 3),\n",
       " (1, 4),\n",
       " (1, 5),\n",
       " (2, 3),\n",
       " (2, 4),\n",
       " (2, 5),\n",
       " (3, 3),\n",
       " (3, 4),\n",
       " (3, 5),\n",
       " (4, 3),\n",
       " (4, 4),\n",
       " (4, 5)]"
      ]
     },
     "execution_count": 55,
     "metadata": {},
     "output_type": "execute_result"
    }
   ],
   "source": [
    "[(i,j)   for i in range(5) for j in range(3,6)]"
   ]
  },
  {
   "cell_type": "code",
   "execution_count": 22,
   "metadata": {
    "collapsed": true
   },
   "outputs": [],
   "source": [
    "datetime_count_times = {turnstile: [[rows[i][0],\n",
    "                                     rows[i+1][1] - rows[i][1],\n",
    "                                     rows[i+1][0] - rows[i][0]]\n",
    "                                    for i in range(len(rows) - 1)]\n",
    "                        for turnstile, rows in datetime_cumulative.items()}"
   ]
  },
  {
   "cell_type": "code",
   "execution_count": 30,
   "metadata": {
    "collapsed": false
   },
   "outputs": [
    {
     "name": "stdout",
     "output_type": "stream",
     "text": [
      "[2428, 2443, 2444, 2447, 2448, 2455, 2456, 2459, 2473, 2474, 2487, 2492, 2514, 2521, 2536, 2548, 2552, 2554, 2558, 2567, 2569, 2579, 2602, 2612, 2621, 2622, 2630, 2630, 2644, 2656, 2670, 2671, 2692, 2728, 2731, 2757, 2765, 2804, 2844, 2848, 2920, 2926, 2926, 3488, 87577, 130932, 131711, 131792, 531430, 117440499]\n"
     ]
    }
   ],
   "source": [
    "all_counts = [count for rows in datetime_count_times.values() for _, count, _ in rows]\n",
    "all_counts.sort()\n",
    "print all_counts[-50:]"
   ]
  },
  {
   "cell_type": "code",
   "execution_count": 31,
   "metadata": {
    "collapsed": false
   },
   "outputs": [
    {
     "name": "stdout",
     "output_type": "stream",
     "text": [
      "[-1208464910, -8664797, -7691983, -1958436, -1283643, -531174, -131370, -131215, -130432, -87562, -73467, -65355, -2545, -1929, -1852, -1782, -1720, -1703, -1687, -1677, -1662, -1659, -1645, -1608, -1572, -1571, -1553, -1543, -1533, -1524, -1492, -1484, -1482, -1455, -1410, -1404, -1403, -1402, -1401, -1397, -1378, -1376, -1362, -1357, -1345, -1339, -1332, -1326, -1323, -1311, -1303, -1302, -1299, -1292, -1290, -1290, -1289, -1268, -1263, -1260, -1257, -1246, -1236, -1233, -1226, -1217, -1205, -1196, -1194, -1184, -1182, -1136, -1133, -1130, -1130, -1126, -1120, -1119, -1116, -1113, -1111, -1105, -1094, -1092, -1089, -1086, -1084, -1079, -1077, -1071, -1065, -1059, -1058, -1044, -1036, -1035, -1028, -1021, -1021, -1012, -1000, -995, -994, -991, -991, -978, -968, -965, -965, -962, -957, -957, -954, -952, -943, -937, -933, -932, -930, -919, -911, -908, -886, -885, -884, -882, -882, -873, -871, -869, -868, -862, -858, -842, -840, -838, -832, -825, -822, -820, -818, -814, -813, -801, -800, -794, -786, -784, -783, -780, -777, -776, -776, -771, -757, -757, -756, -754, -752, -751, -750, -746, -743, -741, -736, -732, -731, -730, -730, -723, -722, -722, -716, -713, -711, -711, -701, -700, -697, -694, -693, -692, -691, -690, -690, -688, -688, -688, -687, -686, -683, -683, -677, -676, -674, -673, -671, -671, -670, -670, -669, -669, -667, -666, -664, -662, -662, -661, -660, -659, -653, -652, -651, -651, -649, -649, -647, -645, -643, -639, -639, -638, -637, -633, -631, -631, -628, -624, -623, -622, -622, -621, -620, -619, -617, -617, -614, -614, -612, -603, -603, -602, -601, -598, -598, -596, -595, -593, -587, -586, -585, -585, -583, -582, -577, -574, -570, -570, -569, -567, -564, -563, -561, -558, -558, -557, -557, -555, -554, -554, -547, -546, -545, -544, -542, -541, -540, -538, -538, -536, -532, -531, -529, -528, -528, -525, -525, -524, -523, -523, -520, -520, -515, -514, -514, -513, -513, -511, -510, -509, -504, -504, -502, -500, -496, -496, -495, -494, -494, -493, -493, -491, -490, -490, -489, -485, -485, -483, -483, -482, -481, -479, -479, -478, -478, -477, -473, -472, -472, -471, -471, -469, -468, -467, -467, -466, -465, -464, -464, -464, -463, -461, -461, -460, -460, -460, -458, -455, -455, -453, -452, -451, -450, -450, -447, -446, -445, -444, -444, -442, -442, -435, -435, -433, -433, -433, -432, -431, -431, -430, -429, -429, -429, -428, -424, -423, -422, -420, -416, -412, -412, -411, -411, -410, -409, -409, -406, -406, -406, -405, -405, -404, -404, -402, -397, -397, -393, -393, -393, -391, -389, -388, -388, -387, -385, -385, -384, -384, -382, -381, -381, -379, -378, -378, -377, -376, -376, -376, -376, -375, -374, -374, -373, -371, -366, -365, -364, -362, -358, -358, -357, -356, -354, -353, -352, -352, -351, -351, -351, -351, -350, -349, -348, -347, -347, -344, -344, -343, -343, -342, -342, -341, -340, -338, -337, -337, -336, -336, -336, -336, -335, -332, -331, -330, -330, -327, -326, -326, -325, -323, -323, -323, -322, -322, -320, -320, -318, -317, -315, -314, -313, -312, -311, -304, -303, -302, -302, -302, -301, -300, -300, -300, -299, -299, -299, -298, -298, -297, -297, -296, -296, -296, -295, -295, -294, -293, -292, -292, -290, -290, -289, -286, -285, -284, -283, -283, -282, -280, -280, -279, -279, -279, -278, -278, -277, -275, -272, -272, -271, -271, -269, -269, -268, -265, -263, -262, -262, -258, -257, -257, -255, -253, -253, -250, -249, -248, -247, -247, -245, -245, -243, -243, -243, -243, -243, -242, -242, -242, -242, -241, -239, -238, -237, -237, -234, -233, -232, -231, -229, -229, -229, -228, -226, -226, -226, -226, -225, -224, -223, -222, -222, -222, -220, -219, -216, -215, -215, -215, -214, -214, -213, -212, -208, -207, -206, -205, -205, -205, -205, -205, -203, -203, -202, -201, -201, -201, -200, -199, -198, -198, -197, -196, -196, -195, -194, -194, -193, -193, -192, -191, -190, -190, -189, -188, -188, -188, -186, -186, -184, -184, -184, -183, -183, -183, -181, -180, -179, -179, -178, -176, -175, -173, -171, -170, -170, -170, -169, -167, -167, -165, -165, -165, -165, -164, -163, -163, -163, -163, -162, -162, -162, -161, -160, -160, -160, -159, -159, -158, -158, -155, -155, -154, -153, -153, -151, -150, -150, -150, -148, -148, -148, -146, -143, -142, -142, -141, -141, -141, -139, -139, -138, -138, -138, -137, -137, -137, -137, -136, -135, -134, -134, -134, -133, -133, -132, -131, -130, -130, -130, -130, -129, -129, -127, -126, -126, -125, -124, -121, -121, -121, -120, -120, -118, -118, -118, -118, -116, -116, -115, -115, -115, -115, -114, -114, -113, -113, -112, -112, -112, -111, -110, -110, -109, -109, -109, -108, -108, -108, -107, -107, -107, -107, -106, -106, -104, -103, -102, -101, -101, -101, -100, -100, -99, -98, -97, -97, -97, -96, -94, -94, -92, -92, -92, -90, -90, -90, -89, -89, -88, -88, -87, -87, -86, -86, -86, -85, -85, -85, -85, -84, -84, -84, -84, -83, -82, -81, -81, -81, -80, -80, -78, -77, -77, -76, -76, -75, -72, -72, -72, -72, -71, -71, -71, -70, -68, -67, -67, -67, -67, -66, -66, -66, -65, -65, -65, -65, -65, -64, -63, -63, -63, -62, -62, -61, -60, -60, -60, -59, -59, -59, -59, -59, -58, -58, -58, -58, -57, -57, -57, -56, -56, -56, -55, -55, -54, -53, -52, -52, -52, -52, -51, -51, -51, -51, -51, -51, -51, -51, -50, -50, -50, -50, -49, -49, -49, -49, -48, -48, -48, -48, -48, -48, -48, -48, -47, -47, -47, -45, -45, -45, -45, -44, -44, -44, -44, -44, -44, -44, -43, -43, -43, -43, -42, -42, -41, -41, -41, -41, -40, -40, -40, -39, -38, -38, -38, -38, -38, -38, -38, -37, -37, -37, -36, -36, -36, -36, -36, -35, -35, -35, -35, -35, -35, -34, -34, -34, -33, -33, -33, -32, -32, -32, -32, -32, -32, -32, -32, -31, -31, -30, -30, -30, -30, -29, -29, -29, -29, -29, -28, -28, -27, -27, -27, -27, -26, -26, -26, -25, -24, -24, -24, -24, -24, -22, -22, -22, -22, -22, -22, -21, -21, -21, -21, -21, -21, -21, -21, -20, -20, -20, -20, -20, -19, -19, -19, -19, -19, -19, -19, -19, -18, -18, -18, -18, -18, -17, -17, -17, -17, -16, -16, -16, -15, -15, -14, -13, -13, -13, -13, -12, -12, -12, -12, -11, -11, -11, -10, -10, -10, -10, -10, -10, -10, -10, -10, -9, -9, -9, -8, -8, -7, -7, -7, -7, -6, -6, -6, -6, -5, -5, -5, -5, -5, -5, -4, -3, -3, -3, -3, -3, -3, -2, -2, -2, -2, -2, -2, -2, -2, -2, -2, -2, -1, -1, -1, -1, -1, -1, -1, -1, -1, -1, -1, -1, -1, -1, -1, -1, -1, -1, -1, -1, 0, 0, 0, 0, 0, 0, 0, 0, 0, 0, 0, 0, 0, 0, 0, 0, 0, 0, 0, 0, 0, 0, 0, 0, 0, 0, 0, 0, 0, 0, 0, 0, 0, 0, 0, 0, 0, 0, 0, 0, 0, 0, 0, 0, 0, 0, 0, 0, 0, 0, 0, 0, 0, 0, 0, 0, 0, 0, 0, 0, 0, 0, 0, 0, 0, 0, 0, 0, 0, 0, 0, 0, 0, 0, 0, 0, 0, 0, 0, 0, 0, 0, 0, 0, 0, 0, 0, 0, 0, 0, 0, 0, 0, 0, 0, 0, 0, 0, 0, 0, 0, 0, 0, 0, 0, 0, 0, 0]\n"
     ]
    }
   ],
   "source": [
    "print all_counts[:1200]"
   ]
  },
  {
   "cell_type": "code",
   "execution_count": 29,
   "metadata": {
    "collapsed": false
   },
   "outputs": [
    {
     "name": "stdout",
     "output_type": "stream",
     "text": [
      "[(4.0, 172791), (4.2, 10460), (8.0, 189), (4.433333333333334, 161), (0.02222222222222222, 80), (0.02277777777777778, 64), (0.022500000000000003, 55), (0.02777777777777778, 26), (0.03611111111111111, 24), (3.963888888888889, 24)]\n"
     ]
    }
   ],
   "source": [
    "all_times = [duration.total_seconds() / 60 / 60\n",
    "             for rows in datetime_count_times.values()\n",
    "             for _, _, duration in rows]\n",
    "print Counter(all_times).most_common(10)"
   ]
  },
  {
   "cell_type": "code",
   "execution_count": 32,
   "metadata": {
    "collapsed": true
   },
   "outputs": [],
   "source": [
    "datetime_counts = {turnstile: [(time, count)\n",
    "                               for (time, count, _) in rows\n",
    "                               if 0 <= count <= 5000]\n",
    "                   for turnstile, rows in datetime_count_times.items()}"
   ]
  },
  {
   "cell_type": "markdown",
   "metadata": {},
   "source": [
    "`datetime_counts` is a solution to Challenge 2."
   ]
  },
  {
   "cell_type": "code",
   "execution_count": 34,
   "metadata": {
    "collapsed": false
   },
   "outputs": [
    {
     "name": "stdout",
     "output_type": "stream",
     "text": [
      "0.99415985405\n"
     ]
    }
   ],
   "source": [
    "all_good_counts = [count for rows in datetime_counts.values() for _, count in rows]\n",
    "print len(all_good_counts) / len(all_counts)"
   ]
  },
  {
   "cell_type": "code",
   "execution_count": 35,
   "metadata": {
    "collapsed": false
   },
   "outputs": [
    {
     "name": "stdout",
     "output_type": "stream",
     "text": [
      "[2848, 2920, 2926, 2926, 3488]\n"
     ]
    }
   ],
   "source": [
    "all_good_counts.sort()\n",
    "print all_good_counts[-5:]"
   ]
  },
  {
   "cell_type": "code",
   "execution_count": 36,
   "metadata": {
    "collapsed": false
   },
   "outputs": [
    {
     "name": "stdout",
     "output_type": "stream",
     "text": [
      "[0, 0, 0, 0, 0]\n"
     ]
    }
   ],
   "source": [
    "print all_good_counts[:5]"
   ]
  },
  {
   "cell_type": "markdown",
   "metadata": {},
   "source": [
    "### Challenge 3"
   ]
  },
  {
   "cell_type": "code",
   "execution_count": 37,
   "metadata": {
    "collapsed": true
   },
   "outputs": [],
   "source": [
    "day_counts = {}\n",
    "for turnstile, rows in datetime_counts.items():\n",
    "    by_day = {}\n",
    "    for time, count in rows:\n",
    "        day = time.date()\n",
    "        by_day[day] = by_day.get(day, 0) + count\n",
    "    day_counts[turnstile] = sorted(by_day.items())"
   ]
  },
  {
   "cell_type": "code",
   "execution_count": 58,
   "metadata": {
    "collapsed": false
   },
   "outputs": [
    {
     "data": {
      "text/plain": [
       "[<matplotlib.lines.Line2D at 0x122294290>]"
      ]
     },
     "execution_count": 58,
     "metadata": {},
     "output_type": "execute_result"
    },
    {
     "data": {
      "image/png": "[encoded data removed]",
      "text/plain": [
       "<matplotlib.figure.Figure at 0x112adb750>"
      ]
     },
     "metadata": {},
     "output_type": "display_data"
    }
   ],
   "source": [
    "import matplotlib.pyplot as plt\n",
    "% matplotlib inline\n",
    "x = range(100)\n",
    "plt.plot(x,[i**2 for i in x])\n"
   ]
  },
  {
   "cell_type": "markdown",
   "metadata": {},
   "source": [
    "`day_counts` is a solution to Challenge 3."
   ]
  }
 ],
 "metadata": {
  "kernelspec": {
   "display_name": "Python 2",
   "language": "python",
   "name": "python2"
  },
  "language_info": {
   "codemirror_mode": {
    "name": "ipython",
    "version": 2
   },
   "file_extension": ".py",
   "mimetype": "text/x-python",
   "name": "python",
   "nbconvert_exporter": "python",
   "pygments_lexer": "ipython2",
   "version": "2.7.11"
  }
 },
 "nbformat": 4,
 "nbformat_minor": 0
}
