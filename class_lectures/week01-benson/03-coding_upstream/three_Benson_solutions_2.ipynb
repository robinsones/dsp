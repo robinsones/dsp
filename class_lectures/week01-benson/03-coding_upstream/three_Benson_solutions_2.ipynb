{
 "cells": [
  {
   "cell_type": "markdown",
   "metadata": {},
   "source": [
    "# MTA Data Challenges"
   ]
  },
  {
   "cell_type": "code",
   "execution_count": 5,
   "metadata": {
    "collapsed": true
   },
   "outputs": [],
   "source": [
    "from __future__ import division\n",
    "import csv\n",
    "from datetime import datetime\n",
    "from collections import Counter"
   ]
  },
  {
   "cell_type": "markdown",
   "metadata": {},
   "source": [
    "### Challenge 1"
   ]
  },
  {
   "cell_type": "code",
   "execution_count": 1,
   "metadata": {
    "collapsed": false
   },
   "outputs": [
    {
     "name": "stdout",
     "output_type": "stream",
     "text": [
      "  % Total    % Received % Xferd  Average Speed   Time    Time     Time  Current\n",
      "                                 Dload  Upload   Total   Spent    Left  Speed\n",
      "100 24.0M    0 24.0M    0     0   646k      0 --:--:--  0:00:38 --:--:--  875k\n"
     ]
    }
   ],
   "source": [
    "!curl -O http://web.mta.info/developers/data/nyct/turnstile/turnstile_150627.txt"
   ]
  },
  {
   "cell_type": "code",
   "execution_count": 3,
   "metadata": {
    "collapsed": false
   },
   "outputs": [
    {
     "name": "stdout",
     "output_type": "stream",
     "text": [
      "Best_Practices_for_Scientific_Coding.pdf\r\n",
      "keep\r\n",
      "pair.md\r\n",
      "README.md\r\n",
      "three_Benson_solutions.ipynb\r\n",
      "turnstile_150627.txt\r\n"
     ]
    }
   ],
   "source": [
    "!ls -1"
   ]
  },
  {
   "cell_type": "code",
   "execution_count": 6,
   "metadata": {
    "collapsed": false
   },
   "outputs": [],
   "source": [
    "with open('turnstile_150627.txt') as f:\n",
    "    reader = csv.reader(f)\n",
    "    rows = [[cell.strip() for cell in row] for row in reader]"
   ]
  },
  {
   "cell_type": "code",
   "execution_count": 7,
   "metadata": {
    "collapsed": true
   },
   "outputs": [],
   "source": [
    "assert rows.pop(0) == ['C/A', 'UNIT', 'SCP', 'STATION', 'LINENAME',\n",
    "                       'DIVISION', 'DATE', 'TIME', 'DESC', 'ENTRIES',\n",
    "                       'EXITS']"
   ]
  },
  {
   "cell_type": "code",
   "execution_count": 8,
   "metadata": {
    "collapsed": true
   },
   "outputs": [],
   "source": [
    "raw_readings = {}\n",
    "for row in rows:\n",
    "    raw_readings.setdefault(tuple(row[:4]), []).append(tuple(row[4:]))"
   ]
  },
  {
   "cell_type": "code",
   "execution_count": 63,
   "metadata": {
    "collapsed": false
   },
   "outputs": [
    {
     "data": {
      "text/plain": [
       "(('N196', 'R285', '00-03-00', 'FAR ROCKAWAY'),\n",
       " [('A',\n",
       "   'IND',\n",
       "   '06/20/2015',\n",
       "   '00:00:00',\n",
       "   'REGULAR',\n",
       "   '0000064390',\n",
       "   '0000047287'),\n",
       "  ('A',\n",
       "   'IND',\n",
       "   '06/20/2015',\n",
       "   '04:00:00',\n",
       "   'REGULAR',\n",
       "   '0000064410',\n",
       "   '0000047337'),\n",
       "  ('A',\n",
       "   'IND',\n",
       "   '06/20/2015',\n",
       "   '08:00:00',\n",
       "   'REGULAR',\n",
       "   '0000064552',\n",
       "   '0000047414'),\n",
       "  ('A',\n",
       "   'IND',\n",
       "   '06/20/2015',\n",
       "   '12:00:00',\n",
       "   'REGULAR',\n",
       "   '0000064710',\n",
       "   '0000047502'),\n",
       "  ('A',\n",
       "   'IND',\n",
       "   '06/20/2015',\n",
       "   '16:00:00',\n",
       "   'REGULAR',\n",
       "   '0000064903',\n",
       "   '0000047598'),\n",
       "  ('A',\n",
       "   'IND',\n",
       "   '06/20/2015',\n",
       "   '20:00:00',\n",
       "   'REGULAR',\n",
       "   '0000065083',\n",
       "   '0000047724'),\n",
       "  ('A',\n",
       "   'IND',\n",
       "   '06/21/2015',\n",
       "   '00:00:00',\n",
       "   'REGULAR',\n",
       "   '0000065170',\n",
       "   '0000047833'),\n",
       "  ('A',\n",
       "   'IND',\n",
       "   '06/21/2015',\n",
       "   '04:00:00',\n",
       "   'REGULAR',\n",
       "   '0000065201',\n",
       "   '0000047884'),\n",
       "  ('A',\n",
       "   'IND',\n",
       "   '06/21/2015',\n",
       "   '08:00:00',\n",
       "   'REGULAR',\n",
       "   '0000065303',\n",
       "   '0000047941'),\n",
       "  ('A',\n",
       "   'IND',\n",
       "   '06/21/2015',\n",
       "   '12:00:00',\n",
       "   'REGULAR',\n",
       "   '0000065445',\n",
       "   '0000047993'),\n",
       "  ('A',\n",
       "   'IND',\n",
       "   '06/21/2015',\n",
       "   '16:00:00',\n",
       "   'REGULAR',\n",
       "   '0000065614',\n",
       "   '0000048055'),\n",
       "  ('A',\n",
       "   'IND',\n",
       "   '06/21/2015',\n",
       "   '20:00:00',\n",
       "   'REGULAR',\n",
       "   '0000065738',\n",
       "   '0000048176'),\n",
       "  ('A',\n",
       "   'IND',\n",
       "   '06/22/2015',\n",
       "   '00:00:00',\n",
       "   'REGULAR',\n",
       "   '0000065834',\n",
       "   '0000048290'),\n",
       "  ('A',\n",
       "   'IND',\n",
       "   '06/22/2015',\n",
       "   '04:00:00',\n",
       "   'REGULAR',\n",
       "   '0000065861',\n",
       "   '0000048329'),\n",
       "  ('A',\n",
       "   'IND',\n",
       "   '06/22/2015',\n",
       "   '08:00:00',\n",
       "   'REGULAR',\n",
       "   '0000066242',\n",
       "   '0000048432'),\n",
       "  ('A',\n",
       "   'IND',\n",
       "   '06/22/2015',\n",
       "   '12:00:00',\n",
       "   'REGULAR',\n",
       "   '0000066521',\n",
       "   '0000048569'),\n",
       "  ('A',\n",
       "   'IND',\n",
       "   '06/22/2015',\n",
       "   '16:00:00',\n",
       "   'REGULAR',\n",
       "   '0000066748',\n",
       "   '0000048709'),\n",
       "  ('A',\n",
       "   'IND',\n",
       "   '06/22/2015',\n",
       "   '20:00:00',\n",
       "   'REGULAR',\n",
       "   '0000066982',\n",
       "   '0000048964'),\n",
       "  ('A',\n",
       "   'IND',\n",
       "   '06/23/2015',\n",
       "   '00:00:00',\n",
       "   'REGULAR',\n",
       "   '0000067062',\n",
       "   '0000049131'),\n",
       "  ('A',\n",
       "   'IND',\n",
       "   '06/23/2015',\n",
       "   '04:00:00',\n",
       "   'REGULAR',\n",
       "   '0000067094',\n",
       "   '0000049176'),\n",
       "  ('A',\n",
       "   'IND',\n",
       "   '06/23/2015',\n",
       "   '08:00:00',\n",
       "   'REGULAR',\n",
       "   '0000067451',\n",
       "   '0000049267'),\n",
       "  ('A',\n",
       "   'IND',\n",
       "   '06/23/2015',\n",
       "   '12:00:00',\n",
       "   'REGULAR',\n",
       "   '0000067698',\n",
       "   '0000049407'),\n",
       "  ('A',\n",
       "   'IND',\n",
       "   '06/23/2015',\n",
       "   '16:00:00',\n",
       "   'REGULAR',\n",
       "   '0000067950',\n",
       "   '0000049549'),\n",
       "  ('A',\n",
       "   'IND',\n",
       "   '06/23/2015',\n",
       "   '20:00:00',\n",
       "   'REGULAR',\n",
       "   '0000068223',\n",
       "   '0000049808'),\n",
       "  ('A',\n",
       "   'IND',\n",
       "   '06/24/2015',\n",
       "   '00:00:00',\n",
       "   'REGULAR',\n",
       "   '0000068312',\n",
       "   '0000049961'),\n",
       "  ('A',\n",
       "   'IND',\n",
       "   '06/24/2015',\n",
       "   '04:00:00',\n",
       "   'REGULAR',\n",
       "   '0000068333',\n",
       "   '0000050001'),\n",
       "  ('A',\n",
       "   'IND',\n",
       "   '06/24/2015',\n",
       "   '08:00:00',\n",
       "   'REGULAR',\n",
       "   '0000068669',\n",
       "   '0000050117'),\n",
       "  ('A',\n",
       "   'IND',\n",
       "   '06/24/2015',\n",
       "   '12:00:00',\n",
       "   'REGULAR',\n",
       "   '0000068901',\n",
       "   '0000050254'),\n",
       "  ('A',\n",
       "   'IND',\n",
       "   '06/24/2015',\n",
       "   '16:00:00',\n",
       "   'REGULAR',\n",
       "   '0000069138',\n",
       "   '0000050424'),\n",
       "  ('A',\n",
       "   'IND',\n",
       "   '06/24/2015',\n",
       "   '20:00:00',\n",
       "   'REGULAR',\n",
       "   '0000069370',\n",
       "   '0000050689'),\n",
       "  ('A',\n",
       "   'IND',\n",
       "   '06/25/2015',\n",
       "   '00:00:00',\n",
       "   'REGULAR',\n",
       "   '0000069470',\n",
       "   '0000050829'),\n",
       "  ('A',\n",
       "   'IND',\n",
       "   '06/25/2015',\n",
       "   '04:00:00',\n",
       "   'REGULAR',\n",
       "   '0000069504',\n",
       "   '0000050881'),\n",
       "  ('A',\n",
       "   'IND',\n",
       "   '06/25/2015',\n",
       "   '08:00:00',\n",
       "   'REGULAR',\n",
       "   '0000069838',\n",
       "   '0000050968'),\n",
       "  ('A',\n",
       "   'IND',\n",
       "   '06/25/2015',\n",
       "   '12:00:00',\n",
       "   'REGULAR',\n",
       "   '0000070075',\n",
       "   '0000051087'),\n",
       "  ('A',\n",
       "   'IND',\n",
       "   '06/25/2015',\n",
       "   '16:00:00',\n",
       "   'REGULAR',\n",
       "   '0000070310',\n",
       "   '0000051216'),\n",
       "  ('A',\n",
       "   'IND',\n",
       "   '06/25/2015',\n",
       "   '20:00:00',\n",
       "   'REGULAR',\n",
       "   '0000070558',\n",
       "   '0000051491'),\n",
       "  ('A',\n",
       "   'IND',\n",
       "   '06/26/2015',\n",
       "   '00:00:00',\n",
       "   'REGULAR',\n",
       "   '0000070654',\n",
       "   '0000051639'),\n",
       "  ('A',\n",
       "   'IND',\n",
       "   '06/26/2015',\n",
       "   '04:00:00',\n",
       "   'REGULAR',\n",
       "   '0000070688',\n",
       "   '0000051683'),\n",
       "  ('A',\n",
       "   'IND',\n",
       "   '06/26/2015',\n",
       "   '08:00:00',\n",
       "   'REGULAR',\n",
       "   '0000071019',\n",
       "   '0000051776'),\n",
       "  ('A',\n",
       "   'IND',\n",
       "   '06/26/2015',\n",
       "   '12:00:00',\n",
       "   'REGULAR',\n",
       "   '0000071295',\n",
       "   '0000051929'),\n",
       "  ('A',\n",
       "   'IND',\n",
       "   '06/26/2015',\n",
       "   '16:00:00',\n",
       "   'REGULAR',\n",
       "   '0000071552',\n",
       "   '0000052070'),\n",
       "  ('A',\n",
       "   'IND',\n",
       "   '06/26/2015',\n",
       "   '20:00:00',\n",
       "   'REGULAR',\n",
       "   '0000071839',\n",
       "   '0000052339')])"
      ]
     },
     "execution_count": 63,
     "metadata": {},
     "output_type": "execute_result"
    }
   ],
   "source": [
    "# raw_readings.items()[0]\n",
    "list(raw_readings.items())[0]"
   ]
  },
  {
   "cell_type": "markdown",
   "metadata": {},
   "source": [
    "`raw_readings` is a solution to Challenge 1."
   ]
  },
  {
   "cell_type": "markdown",
   "metadata": {},
   "source": [
    "### Challenge 2"
   ]
  },
  {
   "cell_type": "code",
   "execution_count": 11,
   "metadata": {
    "collapsed": true
   },
   "outputs": [],
   "source": [
    "datetime_cumulative = {turnstile: [(datetime.strptime(date + time,\n",
    "                                                      '%m/%d/%Y%X'),\n",
    "                                    int(in_cumulative))\n",
    "                                   for _, _, date, time,\n",
    "                                       _, in_cumulative, _ in rows]\n",
    "                       for turnstile, rows in raw_readings.items()}"
   ]
  },
  {
   "cell_type": "code",
   "execution_count": null,
   "metadata": {
    "collapsed": true
   },
   "outputs": [],
   "source": [
    "# datetime_cumulative = {turnstile: [(datetime.strptime(date + time,\n",
    "#                                                       '%m/%d/%Y%X'),\n",
    "#                                     int(in_cumulative), int(exit_cumulative))\n",
    "#                                    for _, _, date, time,\n",
    "#                                        _, in_cumulative, exit_cumulative in rows]\n",
    "#                        for turnstile, rows in raw_readings.items()}"
   ]
  },
  {
   "cell_type": "code",
   "execution_count": 32,
   "metadata": {
    "collapsed": false
   },
   "outputs": [
    {
     "name": "stdout",
     "output_type": "stream",
     "text": [
      "[(datetime.datetime(2015, 6, 20, 0, 0), 64390), (datetime.datetime(2015, 6, 20, 4, 0), 64410), (datetime.datetime(2015, 6, 20, 8, 0), 64552), (datetime.datetime(2015, 6, 20, 12, 0), 64710), (datetime.datetime(2015, 6, 20, 16, 0), 64903), (datetime.datetime(2015, 6, 20, 20, 0), 65083), (datetime.datetime(2015, 6, 21, 0, 0), 65170), (datetime.datetime(2015, 6, 21, 4, 0), 65201), (datetime.datetime(2015, 6, 21, 8, 0), 65303), (datetime.datetime(2015, 6, 21, 12, 0), 65445), (datetime.datetime(2015, 6, 21, 16, 0), 65614), (datetime.datetime(2015, 6, 21, 20, 0), 65738), (datetime.datetime(2015, 6, 22, 0, 0), 65834), (datetime.datetime(2015, 6, 22, 4, 0), 65861), (datetime.datetime(2015, 6, 22, 8, 0), 66242), (datetime.datetime(2015, 6, 22, 12, 0), 66521), (datetime.datetime(2015, 6, 22, 16, 0), 66748), (datetime.datetime(2015, 6, 22, 20, 0), 66982), (datetime.datetime(2015, 6, 23, 0, 0), 67062), (datetime.datetime(2015, 6, 23, 4, 0), 67094), (datetime.datetime(2015, 6, 23, 8, 0), 67451), (datetime.datetime(2015, 6, 23, 12, 0), 67698), (datetime.datetime(2015, 6, 23, 16, 0), 67950), (datetime.datetime(2015, 6, 23, 20, 0), 68223), (datetime.datetime(2015, 6, 24, 0, 0), 68312), (datetime.datetime(2015, 6, 24, 4, 0), 68333), (datetime.datetime(2015, 6, 24, 8, 0), 68669), (datetime.datetime(2015, 6, 24, 12, 0), 68901), (datetime.datetime(2015, 6, 24, 16, 0), 69138), (datetime.datetime(2015, 6, 24, 20, 0), 69370), (datetime.datetime(2015, 6, 25, 0, 0), 69470), (datetime.datetime(2015, 6, 25, 4, 0), 69504), (datetime.datetime(2015, 6, 25, 8, 0), 69838), (datetime.datetime(2015, 6, 25, 12, 0), 70075), (datetime.datetime(2015, 6, 25, 16, 0), 70310), (datetime.datetime(2015, 6, 25, 20, 0), 70558), (datetime.datetime(2015, 6, 26, 0, 0), 70654), (datetime.datetime(2015, 6, 26, 4, 0), 70688), (datetime.datetime(2015, 6, 26, 8, 0), 71019), (datetime.datetime(2015, 6, 26, 12, 0), 71295), (datetime.datetime(2015, 6, 26, 16, 0), 71552), (datetime.datetime(2015, 6, 26, 20, 0), 71839)]\n"
     ]
    }
   ],
   "source": [
    "print (list(datetime_cumulative.values())[0])"
   ]
  },
  {
   "cell_type": "code",
   "execution_count": 14,
   "metadata": {
    "collapsed": true
   },
   "outputs": [],
   "source": [
    "for rows in datetime_cumulative.values():\n",
    "    assert rows == sorted(rows)"
   ]
  },
  {
   "cell_type": "code",
   "execution_count": null,
   "metadata": {
    "collapsed": true
   },
   "outputs": [],
   "source": [
    "# Explaining Below\n",
    "# temp_count_times = {turnstile: [datetime,\n",
    "#                                      next_index_entries - current_index_entries,\n",
    "#                                      next_index_datetime - current_index_datetime\n",
    "#                                     for i in range(len(rows) - 1)]\n",
    "#                         for turnstile, rows in datetime_cumulative.items()}"
   ]
  },
  {
   "cell_type": "code",
   "execution_count": 33,
   "metadata": {
    "collapsed": true
   },
   "outputs": [],
   "source": [
    "datetime_count_times = {turnstile: [[rows[i][0],\n",
    "                                     rows[i+1][1] - rows[i][1],\n",
    "                                     rows[i+1][0] - rows[i][0]]\n",
    "                                    for i in range(len(rows) - 1)]\n",
    "                        for turnstile, rows in datetime_cumulative.items()}"
   ]
  },
  {
   "cell_type": "code",
   "execution_count": 37,
   "metadata": {
    "collapsed": false
   },
   "outputs": [
    {
     "name": "stdout",
     "output_type": "stream",
     "text": [
      "[[[datetime.datetime(2015, 6, 20, 0, 0), 20, datetime.timedelta(0, 14400)], [datetime.datetime(2015, 6, 20, 4, 0), 142, datetime.timedelta(0, 14400)], [datetime.datetime(2015, 6, 20, 8, 0), 158, datetime.timedelta(0, 14400)], [datetime.datetime(2015, 6, 20, 12, 0), 193, datetime.timedelta(0, 14400)], [datetime.datetime(2015, 6, 20, 16, 0), 180, datetime.timedelta(0, 14400)], [datetime.datetime(2015, 6, 20, 20, 0), 87, datetime.timedelta(0, 14400)], [datetime.datetime(2015, 6, 21, 0, 0), 31, datetime.timedelta(0, 14400)], [datetime.datetime(2015, 6, 21, 4, 0), 102, datetime.timedelta(0, 14400)], [datetime.datetime(2015, 6, 21, 8, 0), 142, datetime.timedelta(0, 14400)], [datetime.datetime(2015, 6, 21, 12, 0), 169, datetime.timedelta(0, 14400)], [datetime.datetime(2015, 6, 21, 16, 0), 124, datetime.timedelta(0, 14400)], [datetime.datetime(2015, 6, 21, 20, 0), 96, datetime.timedelta(0, 14400)], [datetime.datetime(2015, 6, 22, 0, 0), 27, datetime.timedelta(0, 14400)], [datetime.datetime(2015, 6, 22, 4, 0), 381, datetime.timedelta(0, 14400)], [datetime.datetime(2015, 6, 22, 8, 0), 279, datetime.timedelta(0, 14400)], [datetime.datetime(2015, 6, 22, 12, 0), 227, datetime.timedelta(0, 14400)], [datetime.datetime(2015, 6, 22, 16, 0), 234, datetime.timedelta(0, 14400)], [datetime.datetime(2015, 6, 22, 20, 0), 80, datetime.timedelta(0, 14400)], [datetime.datetime(2015, 6, 23, 0, 0), 32, datetime.timedelta(0, 14400)], [datetime.datetime(2015, 6, 23, 4, 0), 357, datetime.timedelta(0, 14400)], [datetime.datetime(2015, 6, 23, 8, 0), 247, datetime.timedelta(0, 14400)], [datetime.datetime(2015, 6, 23, 12, 0), 252, datetime.timedelta(0, 14400)], [datetime.datetime(2015, 6, 23, 16, 0), 273, datetime.timedelta(0, 14400)], [datetime.datetime(2015, 6, 23, 20, 0), 89, datetime.timedelta(0, 14400)], [datetime.datetime(2015, 6, 24, 0, 0), 21, datetime.timedelta(0, 14400)], [datetime.datetime(2015, 6, 24, 4, 0), 336, datetime.timedelta(0, 14400)], [datetime.datetime(2015, 6, 24, 8, 0), 232, datetime.timedelta(0, 14400)], [datetime.datetime(2015, 6, 24, 12, 0), 237, datetime.timedelta(0, 14400)], [datetime.datetime(2015, 6, 24, 16, 0), 232, datetime.timedelta(0, 14400)], [datetime.datetime(2015, 6, 24, 20, 0), 100, datetime.timedelta(0, 14400)], [datetime.datetime(2015, 6, 25, 0, 0), 34, datetime.timedelta(0, 14400)], [datetime.datetime(2015, 6, 25, 4, 0), 334, datetime.timedelta(0, 14400)], [datetime.datetime(2015, 6, 25, 8, 0), 237, datetime.timedelta(0, 14400)], [datetime.datetime(2015, 6, 25, 12, 0), 235, datetime.timedelta(0, 14400)], [datetime.datetime(2015, 6, 25, 16, 0), 248, datetime.timedelta(0, 14400)], [datetime.datetime(2015, 6, 25, 20, 0), 96, datetime.timedelta(0, 14400)], [datetime.datetime(2015, 6, 26, 0, 0), 34, datetime.timedelta(0, 14400)], [datetime.datetime(2015, 6, 26, 4, 0), 331, datetime.timedelta(0, 14400)], [datetime.datetime(2015, 6, 26, 8, 0), 276, datetime.timedelta(0, 14400)], [datetime.datetime(2015, 6, 26, 12, 0), 257, datetime.timedelta(0, 14400)], [datetime.datetime(2015, 6, 26, 16, 0), 287, datetime.timedelta(0, 14400)]], [[datetime.datetime(2015, 6, 20, 1, 0), 0, datetime.timedelta(0, 14400)], [datetime.datetime(2015, 6, 20, 5, 0), 0, datetime.timedelta(0, 14400)], [datetime.datetime(2015, 6, 20, 9, 0), 0, datetime.timedelta(0, 14400)], [datetime.datetime(2015, 6, 20, 13, 0), 0, datetime.timedelta(0, 14400)], [datetime.datetime(2015, 6, 20, 17, 0), 0, datetime.timedelta(0, 14400)], [datetime.datetime(2015, 6, 20, 21, 0), 0, datetime.timedelta(0, 14400)], [datetime.datetime(2015, 6, 21, 1, 0), 0, datetime.timedelta(0, 14400)], [datetime.datetime(2015, 6, 21, 5, 0), 0, datetime.timedelta(0, 14400)], [datetime.datetime(2015, 6, 21, 9, 0), 0, datetime.timedelta(0, 14400)], [datetime.datetime(2015, 6, 21, 13, 0), 0, datetime.timedelta(0, 14400)], [datetime.datetime(2015, 6, 21, 17, 0), 0, datetime.timedelta(0, 14400)], [datetime.datetime(2015, 6, 21, 21, 0), 0, datetime.timedelta(0, 14400)], [datetime.datetime(2015, 6, 22, 1, 0), 0, datetime.timedelta(0, 14400)], [datetime.datetime(2015, 6, 22, 5, 0), 0, datetime.timedelta(0, 14400)], [datetime.datetime(2015, 6, 22, 9, 0), 0, datetime.timedelta(0, 14400)], [datetime.datetime(2015, 6, 22, 13, 0), 0, datetime.timedelta(0, 14400)], [datetime.datetime(2015, 6, 22, 17, 0), 0, datetime.timedelta(0, 14400)], [datetime.datetime(2015, 6, 22, 21, 0), 0, datetime.timedelta(0, 14400)], [datetime.datetime(2015, 6, 23, 1, 0), 0, datetime.timedelta(0, 14400)], [datetime.datetime(2015, 6, 23, 5, 0), 0, datetime.timedelta(0, 14400)], [datetime.datetime(2015, 6, 23, 9, 0), 0, datetime.timedelta(0, 14400)], [datetime.datetime(2015, 6, 23, 13, 0), 0, datetime.timedelta(0, 14400)], [datetime.datetime(2015, 6, 23, 17, 0), 0, datetime.timedelta(0, 14400)], [datetime.datetime(2015, 6, 23, 21, 0), 0, datetime.timedelta(0, 14400)], [datetime.datetime(2015, 6, 24, 1, 0), 0, datetime.timedelta(0, 14400)], [datetime.datetime(2015, 6, 24, 5, 0), 0, datetime.timedelta(0, 14400)], [datetime.datetime(2015, 6, 24, 9, 0), 0, datetime.timedelta(0, 14400)], [datetime.datetime(2015, 6, 24, 13, 0), 0, datetime.timedelta(0, 14400)], [datetime.datetime(2015, 6, 24, 17, 0), 0, datetime.timedelta(0, 14400)], [datetime.datetime(2015, 6, 24, 21, 0), 0, datetime.timedelta(0, 14400)], [datetime.datetime(2015, 6, 25, 1, 0), 0, datetime.timedelta(0, 14400)], [datetime.datetime(2015, 6, 25, 5, 0), 0, datetime.timedelta(0, 14400)], [datetime.datetime(2015, 6, 25, 9, 0), 0, datetime.timedelta(0, 14400)], [datetime.datetime(2015, 6, 25, 13, 0), 0, datetime.timedelta(0, 14400)], [datetime.datetime(2015, 6, 25, 17, 0), 0, datetime.timedelta(0, 14400)], [datetime.datetime(2015, 6, 25, 21, 0), 0, datetime.timedelta(0, 14400)], [datetime.datetime(2015, 6, 26, 1, 0), 0, datetime.timedelta(0, 14400)], [datetime.datetime(2015, 6, 26, 5, 0), 0, datetime.timedelta(0, 11819)], [datetime.datetime(2015, 6, 26, 8, 16, 59), 0, datetime.timedelta(0, 2581)], [datetime.datetime(2015, 6, 26, 9, 0), 0, datetime.timedelta(0, 14400)], [datetime.datetime(2015, 6, 26, 13, 0), 0, datetime.timedelta(0, 14400)], [datetime.datetime(2015, 6, 26, 17, 0), 0, datetime.timedelta(0, 14400)]], [[datetime.datetime(2015, 6, 20, 0, 0), 64, datetime.timedelta(0, 14400)], [datetime.datetime(2015, 6, 20, 4, 0), 123, datetime.timedelta(0, 14400)], [datetime.datetime(2015, 6, 20, 8, 0), 381, datetime.timedelta(0, 14400)], [datetime.datetime(2015, 6, 20, 12, 0), 529, datetime.timedelta(0, 14400)], [datetime.datetime(2015, 6, 20, 16, 0), 368, datetime.timedelta(0, 14400)], [datetime.datetime(2015, 6, 20, 20, 0), 195, datetime.timedelta(0, 14400)], [datetime.datetime(2015, 6, 21, 0, 0), 47, datetime.timedelta(0, 14400)], [datetime.datetime(2015, 6, 21, 4, 0), 79, datetime.timedelta(0, 14400)], [datetime.datetime(2015, 6, 21, 8, 0), 299, datetime.timedelta(0, 14400)], [datetime.datetime(2015, 6, 21, 12, 0), 456, datetime.timedelta(0, 14400)], [datetime.datetime(2015, 6, 21, 16, 0), 359, datetime.timedelta(0, 14400)], [datetime.datetime(2015, 6, 21, 20, 0), 190, datetime.timedelta(0, 14400)], [datetime.datetime(2015, 6, 22, 0, 0), 24, datetime.timedelta(0, 14400)], [datetime.datetime(2015, 6, 22, 4, 0), 399, datetime.timedelta(0, 14400)], [datetime.datetime(2015, 6, 22, 8, 0), 879, datetime.timedelta(0, 14400)], [datetime.datetime(2015, 6, 22, 12, 0), 372, datetime.timedelta(0, 14400)], [datetime.datetime(2015, 6, 22, 16, 0), 318, datetime.timedelta(0, 14400)], [datetime.datetime(2015, 6, 22, 20, 0), 183, datetime.timedelta(0, 14400)], [datetime.datetime(2015, 6, 23, 0, 0), 32, datetime.timedelta(0, 14400)], [datetime.datetime(2015, 6, 23, 4, 0), 392, datetime.timedelta(0, 14400)], [datetime.datetime(2015, 6, 23, 8, 0), 953, datetime.timedelta(0, 14400)], [datetime.datetime(2015, 6, 23, 12, 0), 393, datetime.timedelta(0, 14400)], [datetime.datetime(2015, 6, 23, 16, 0), 315, datetime.timedelta(0, 14400)], [datetime.datetime(2015, 6, 23, 20, 0), 137, datetime.timedelta(0, 14400)], [datetime.datetime(2015, 6, 24, 0, 0), 25, datetime.timedelta(0, 14400)], [datetime.datetime(2015, 6, 24, 4, 0), 426, datetime.timedelta(0, 14400)], [datetime.datetime(2015, 6, 24, 8, 0), 914, datetime.timedelta(0, 14400)], [datetime.datetime(2015, 6, 24, 12, 0), 394, datetime.timedelta(0, 14400)], [datetime.datetime(2015, 6, 24, 16, 0), 360, datetime.timedelta(0, 14400)], [datetime.datetime(2015, 6, 24, 20, 0), 185, datetime.timedelta(0, 14400)], [datetime.datetime(2015, 6, 25, 0, 0), 28, datetime.timedelta(0, 14400)], [datetime.datetime(2015, 6, 25, 4, 0), 378, datetime.timedelta(0, 14400)], [datetime.datetime(2015, 6, 25, 8, 0), 918, datetime.timedelta(0, 14400)], [datetime.datetime(2015, 6, 25, 12, 0), 451, datetime.timedelta(0, 14400)], [datetime.datetime(2015, 6, 25, 16, 0), 339, datetime.timedelta(0, 14400)], [datetime.datetime(2015, 6, 25, 20, 0), 189, datetime.timedelta(0, 14400)], [datetime.datetime(2015, 6, 26, 0, 0), 42, datetime.timedelta(0, 14400)], [datetime.datetime(2015, 6, 26, 4, 0), 361, datetime.timedelta(0, 14400)], [datetime.datetime(2015, 6, 26, 8, 0), 829, datetime.timedelta(0, 14400)], [datetime.datetime(2015, 6, 26, 12, 0), 458, datetime.timedelta(0, 14400)], [datetime.datetime(2015, 6, 26, 16, 0), 424, datetime.timedelta(0, 14400)]], [[datetime.datetime(2015, 6, 20, 1, 0), 12, datetime.timedelta(0, 14400)], [datetime.datetime(2015, 6, 20, 5, 0), 88, datetime.timedelta(0, 14400)], [datetime.datetime(2015, 6, 20, 9, 0), 110, datetime.timedelta(0, 14400)], [datetime.datetime(2015, 6, 20, 13, 0), 91, datetime.timedelta(0, 14400)], [datetime.datetime(2015, 6, 20, 17, 0), 32, datetime.timedelta(0, 14400)], [datetime.datetime(2015, 6, 20, 21, 0), 34, datetime.timedelta(0, 14400)], [datetime.datetime(2015, 6, 21, 1, 0), 7, datetime.timedelta(0, 14400)], [datetime.datetime(2015, 6, 21, 5, 0), 48, datetime.timedelta(0, 14400)], [datetime.datetime(2015, 6, 21, 9, 0), 72, datetime.timedelta(0, 14400)], [datetime.datetime(2015, 6, 21, 13, 0), 67, datetime.timedelta(0, 14400)], [datetime.datetime(2015, 6, 21, 17, 0), 38, datetime.timedelta(0, 14400)], [datetime.datetime(2015, 6, 21, 21, 0), 23, datetime.timedelta(0, 14400)], [datetime.datetime(2015, 6, 22, 1, 0), 17, datetime.timedelta(0, 14400)], [datetime.datetime(2015, 6, 22, 5, 0), 348, datetime.timedelta(0, 14400)], [datetime.datetime(2015, 6, 22, 9, 0), 159, datetime.timedelta(0, 14400)], [datetime.datetime(2015, 6, 22, 13, 0), 112, datetime.timedelta(0, 14400)], [datetime.datetime(2015, 6, 22, 17, 0), 51, datetime.timedelta(0, 14400)], [datetime.datetime(2015, 6, 22, 21, 0), 30, datetime.timedelta(0, 14400)], [datetime.datetime(2015, 6, 23, 1, 0), 18, datetime.timedelta(0, 14400)], [datetime.datetime(2015, 6, 23, 5, 0), 348, datetime.timedelta(0, 14400)], [datetime.datetime(2015, 6, 23, 9, 0), 159, datetime.timedelta(0, 14400)], [datetime.datetime(2015, 6, 23, 13, 0), 103, datetime.timedelta(0, 14400)], [datetime.datetime(2015, 6, 23, 17, 0), 50, datetime.timedelta(0, 14400)], [datetime.datetime(2015, 6, 23, 21, 0), 28, datetime.timedelta(0, 14400)], [datetime.datetime(2015, 6, 24, 1, 0), 15, datetime.timedelta(0, 14400)], [datetime.datetime(2015, 6, 24, 5, 0), 348, datetime.timedelta(0, 14400)], [datetime.datetime(2015, 6, 24, 9, 0), 165, datetime.timedelta(0, 14400)], [datetime.datetime(2015, 6, 24, 13, 0), 77, datetime.timedelta(0, 14400)], [datetime.datetime(2015, 6, 24, 17, 0), 64, datetime.timedelta(0, 14400)], [datetime.datetime(2015, 6, 24, 21, 0), 29, datetime.timedelta(0, 14400)], [datetime.datetime(2015, 6, 25, 1, 0), 17, datetime.timedelta(0, 14400)], [datetime.datetime(2015, 6, 25, 5, 0), 362, datetime.timedelta(0, 14400)], [datetime.datetime(2015, 6, 25, 9, 0), 169, datetime.timedelta(0, 14400)], [datetime.datetime(2015, 6, 25, 13, 0), 98, datetime.timedelta(0, 14400)], [datetime.datetime(2015, 6, 25, 17, 0), 54, datetime.timedelta(0, 14400)], [datetime.datetime(2015, 6, 25, 21, 0), 26, datetime.timedelta(0, 14400)], [datetime.datetime(2015, 6, 26, 1, 0), 20, datetime.timedelta(0, 14400)], [datetime.datetime(2015, 6, 26, 5, 0), 370, datetime.timedelta(0, 14400)], [datetime.datetime(2015, 6, 26, 9, 0), 142, datetime.timedelta(0, 14400)], [datetime.datetime(2015, 6, 26, 13, 0), 107, datetime.timedelta(0, 14400)], [datetime.datetime(2015, 6, 26, 17, 0), 51, datetime.timedelta(0, 14400)]], [[datetime.datetime(2015, 6, 20, 0, 0), 71, datetime.timedelta(0, 14400)], [datetime.datetime(2015, 6, 20, 4, 0), 19, datetime.timedelta(0, 14400)], [datetime.datetime(2015, 6, 20, 8, 0), 76, datetime.timedelta(0, 14400)], [datetime.datetime(2015, 6, 20, 12, 0), 186, datetime.timedelta(0, 14400)], [datetime.datetime(2015, 6, 20, 16, 0), 292, datetime.timedelta(0, 14400)], [datetime.datetime(2015, 6, 20, 20, 0), 153, datetime.timedelta(0, 14400)], [datetime.datetime(2015, 6, 21, 0, 0), 94, datetime.timedelta(0, 14400)], [datetime.datetime(2015, 6, 21, 4, 0), 12, datetime.timedelta(0, 14400)], [datetime.datetime(2015, 6, 21, 8, 0), 56, datetime.timedelta(0, 14400)], [datetime.datetime(2015, 6, 21, 12, 0), 109, datetime.timedelta(0, 14400)], [datetime.datetime(2015, 6, 21, 16, 0), 178, datetime.timedelta(0, 14400)], [datetime.datetime(2015, 6, 21, 20, 0), 130, datetime.timedelta(0, 14400)], [datetime.datetime(2015, 6, 22, 0, 0), 19, datetime.timedelta(0, 14400)], [datetime.datetime(2015, 6, 22, 4, 0), 48, datetime.timedelta(0, 14400)], [datetime.datetime(2015, 6, 22, 8, 0), 185, datetime.timedelta(0, 14400)], [datetime.datetime(2015, 6, 22, 12, 0), 333, datetime.timedelta(0, 14400)], [datetime.datetime(2015, 6, 22, 16, 0), 1347, datetime.timedelta(0, 14400)], [datetime.datetime(2015, 6, 22, 20, 0), 334, datetime.timedelta(0, 14400)], [datetime.datetime(2015, 6, 23, 0, 0), 52, datetime.timedelta(0, 14400)], [datetime.datetime(2015, 6, 23, 4, 0), 41, datetime.timedelta(0, 14400)], [datetime.datetime(2015, 6, 23, 8, 0), 174, datetime.timedelta(0, 14400)], [datetime.datetime(2015, 6, 23, 12, 0), 339, datetime.timedelta(0, 14400)], [datetime.datetime(2015, 6, 23, 16, 0), 1459, datetime.timedelta(0, 14400)], [datetime.datetime(2015, 6, 23, 20, 0), 303, datetime.timedelta(0, 14400)], [datetime.datetime(2015, 6, 24, 0, 0), 44, datetime.timedelta(0, 14400)], [datetime.datetime(2015, 6, 24, 4, 0), 46, datetime.timedelta(0, 14400)], [datetime.datetime(2015, 6, 24, 8, 0), 174, datetime.timedelta(0, 14400)], [datetime.datetime(2015, 6, 24, 12, 0), 367, datetime.timedelta(0, 14400)], [datetime.datetime(2015, 6, 24, 16, 0), 1446, datetime.timedelta(0, 14400)], [datetime.datetime(2015, 6, 24, 20, 0), 351, datetime.timedelta(0, 14400)], [datetime.datetime(2015, 6, 25, 0, 0), 43, datetime.timedelta(0, 14400)], [datetime.datetime(2015, 6, 25, 4, 0), 56, datetime.timedelta(0, 14400)], [datetime.datetime(2015, 6, 25, 8, 0), 153, datetime.timedelta(0, 14400)], [datetime.datetime(2015, 6, 25, 12, 0), 398, datetime.timedelta(0, 14400)], [datetime.datetime(2015, 6, 25, 16, 0), 1427, datetime.timedelta(0, 14400)], [datetime.datetime(2015, 6, 25, 20, 0), 347, datetime.timedelta(0, 14400)], [datetime.datetime(2015, 6, 26, 0, 0), 58, datetime.timedelta(0, 14400)], [datetime.datetime(2015, 6, 26, 4, 0), 40, datetime.timedelta(0, 14400)], [datetime.datetime(2015, 6, 26, 8, 0), 174, datetime.timedelta(0, 14400)], [datetime.datetime(2015, 6, 26, 12, 0), 495, datetime.timedelta(0, 14400)], [datetime.datetime(2015, 6, 26, 16, 0), 1082, datetime.timedelta(0, 14400)]]]\n"
     ]
    }
   ],
   "source": [
    "print( list(datetime_count_times.values())[0:5])"
   ]
  },
  {
   "cell_type": "code",
   "execution_count": 35,
   "metadata": {
    "collapsed": false
   },
   "outputs": [
    {
     "name": "stdout",
     "output_type": "stream",
     "text": [
      "[2428, 2443, 2444, 2447, 2448, 2455, 2456, 2459, 2473, 2474, 2487, 2492, 2514, 2521, 2536, 2548, 2552, 2554, 2558, 2567, 2569, 2579, 2602, 2612, 2621, 2622, 2630, 2630, 2644, 2656, 2670, 2671, 2692, 2728, 2731, 2757, 2765, 2804, 2844, 2848, 2920, 2926, 2926, 3488, 87577, 130932, 131711, 131792, 531430, 117440499]\n"
     ]
    }
   ],
   "source": [
    "all_counts = [count for rows in datetime_count_times.values() for _, count, _ in rows]\n",
    "all_counts.sort()\n",
    "/print all_counts[-50:]"
   ]
  },
  {
   "cell_type": "code",
   "execution_count": 36,
   "metadata": {
    "collapsed": false
   },
   "outputs": [
    {
     "name": "stdout",
     "output_type": "stream",
     "text": [
      "[-1208464910, -8664797, -7691983, -1958436, -1283643, -531174, -131370, -131215, -130432, -87562, -73467, -65355, -2545, -1929, -1852, -1782, -1720, -1703, -1687, -1677, -1662, -1659, -1645, -1608, -1572, -1571, -1553, -1543, -1533, -1524, -1492, -1484, -1482, -1455, -1410, -1404, -1403, -1402, -1401, -1397, -1378, -1376, -1362, -1357, -1345, -1339, -1332, -1326, -1323, -1311, -1303, -1302, -1299, -1292, -1290, -1290, -1289, -1268, -1263, -1260, -1257, -1246, -1236, -1233, -1226, -1217, -1205, -1196, -1194, -1184, -1182, -1136, -1133, -1130, -1130, -1126, -1120, -1119, -1116, -1113, -1111, -1105, -1094, -1092, -1089, -1086, -1084, -1079, -1077, -1071, -1065, -1059, -1058, -1044, -1036, -1035, -1028, -1021, -1021, -1012, -1000, -995, -994, -991, -991, -978, -968, -965, -965, -962, -957, -957, -954, -952, -943, -937, -933, -932, -930, -919, -911, -908, -886, -885, -884, -882, -882, -873, -871, -869, -868, -862, -858, -842, -840, -838, -832, -825, -822, -820, -818, -814, -813, -801, -800, -794, -786, -784, -783, -780, -777, -776, -776, -771, -757, -757, -756, -754, -752, -751, -750, -746, -743, -741, -736, -732, -731, -730, -730, -723, -722, -722, -716, -713, -711, -711, -701, -700, -697, -694, -693, -692, -691, -690, -690, -688, -688, -688, -687, -686, -683, -683, -677, -676, -674, -673, -671, -671, -670, -670, -669, -669, -667, -666, -664, -662, -662, -661, -660, -659, -653, -652, -651, -651, -649, -649, -647, -645, -643, -639, -639, -638, -637, -633, -631, -631, -628, -624, -623, -622, -622, -621, -620, -619, -617, -617, -614, -614, -612, -603, -603, -602, -601, -598, -598, -596, -595, -593, -587, -586, -585, -585, -583, -582, -577, -574, -570, -570, -569, -567, -564, -563, -561, -558, -558, -557, -557, -555, -554, -554, -547, -546, -545, -544, -542, -541, -540, -538, -538, -536, -532, -531, -529, -528, -528, -525, -525, -524, -523, -523, -520, -520, -515, -514, -514, -513, -513, -511, -510, -509, -504, -504, -502, -500, -496, -496, -495, -494, -494, -493, -493, -491, -490, -490, -489, -485, -485, -483, -483, -482, -481, -479, -479, -478, -478, -477, -473, -472, -472, -471, -471, -469, -468, -467, -467, -466, -465, -464, -464, -464, -463, -461, -461, -460, -460, -460, -458, -455, -455, -453, -452, -451, -450, -450, -447, -446, -445, -444, -444, -442, -442, -435, -435, -433, -433, -433, -432, -431, -431, -430, -429, -429, -429, -428, -424, -423, -422, -420, -416, -412, -412, -411, -411, -410, -409, -409, -406, -406, -406, -405, -405, -404, -404, -402, -397, -397, -393, -393, -393, -391, -389, -388, -388, -387, -385, -385, -384, -384, -382, -381, -381, -379, -378, -378, -377, -376, -376, -376, -376, -375, -374, -374, -373, -371, -366, -365, -364, -362, -358, -358, -357, -356, -354, -353, -352, -352, -351, -351, -351, -351, -350, -349, -348, -347, -347, -344, -344, -343, -343, -342, -342, -341, -340, -338, -337, -337, -336, -336, -336, -336, -335, -332, -331, -330, -330, -327, -326, -326, -325, -323, -323, -323, -322, -322, -320, -320, -318, -317, -315, -314, -313, -312, -311, -304, -303, -302, -302, -302, -301, -300, -300, -300, -299, -299, -299, -298, -298, -297, -297, -296, -296, -296, -295, -295, -294, -293, -292, -292, -290, -290, -289, -286, -285, -284, -283, -283, -282, -280, -280, -279, -279, -279, -278, -278, -277, -275, -272, -272, -271, -271, -269, -269, -268, -265, -263, -262, -262, -258, -257, -257, -255, -253, -253, -250, -249, -248, -247, -247, -245, -245, -243, -243, -243, -243, -243, -242, -242, -242, -242, -241, -239, -238, -237, -237, -234, -233, -232, -231, -229, -229, -229, -228, -226, -226, -226, -226, -225, -224, -223, -222, -222, -222, -220, -219, -216, -215, -215, -215, -214, -214, -213, -212, -208, -207, -206, -205, -205, -205, -205, -205, -203, -203, -202, -201, -201, -201, -200, -199, -198, -198, -197, -196, -196, -195, -194, -194, -193, -193, -192, -191, -190, -190, -189, -188, -188, -188, -186, -186, -184, -184, -184, -183, -183, -183, -181, -180, -179, -179, -178, -176, -175, -173, -171, -170, -170, -170, -169, -167, -167, -165, -165, -165, -165, -164, -163, -163, -163, -163, -162, -162, -162, -161, -160, -160, -160, -159, -159, -158, -158, -155, -155, -154, -153, -153, -151, -150, -150, -150, -148, -148, -148, -146, -143, -142, -142, -141, -141, -141, -139, -139, -138, -138, -138, -137, -137, -137, -137, -136, -135, -134, -134, -134, -133, -133, -132, -131, -130, -130, -130, -130, -129, -129, -127, -126, -126, -125, -124, -121, -121, -121, -120, -120, -118, -118, -118, -118, -116, -116, -115, -115, -115, -115, -114, -114, -113, -113, -112, -112, -112, -111, -110, -110, -109, -109, -109, -108, -108, -108, -107, -107, -107, -107, -106, -106, -104, -103, -102, -101, -101, -101, -100, -100, -99, -98, -97, -97, -97, -96, -94, -94, -92, -92, -92, -90, -90, -90, -89, -89, -88, -88, -87, -87, -86, -86, -86, -85, -85, -85, -85, -84, -84, -84, -84, -83, -82, -81, -81, -81, -80, -80, -78, -77, -77, -76, -76, -75, -72, -72, -72, -72, -71, -71, -71, -70, -68, -67, -67, -67, -67, -66, -66, -66, -65, -65, -65, -65, -65, -64, -63, -63, -63, -62, -62, -61, -60, -60, -60, -59, -59, -59, -59, -59, -58, -58, -58, -58, -57, -57, -57, -56, -56, -56, -55, -55, -54, -53, -52, -52, -52, -52, -51, -51, -51, -51, -51, -51, -51, -51, -50, -50, -50, -50, -49, -49, -49, -49, -48, -48, -48, -48, -48, -48, -48, -48, -47, -47, -47, -45, -45, -45, -45, -44, -44, -44, -44, -44, -44, -44, -43, -43, -43, -43, -42, -42, -41, -41, -41, -41, -40, -40, -40, -39, -38, -38, -38, -38, -38, -38, -38, -37, -37, -37, -36, -36, -36, -36, -36, -35, -35, -35, -35, -35, -35, -34, -34, -34, -33, -33, -33, -32, -32, -32, -32, -32, -32, -32, -32, -31, -31, -30, -30, -30, -30, -29, -29, -29, -29, -29, -28, -28, -27, -27, -27, -27, -26, -26, -26, -25, -24, -24, -24, -24, -24, -22, -22, -22, -22, -22, -22, -21, -21, -21, -21, -21, -21, -21, -21, -20, -20, -20, -20, -20, -19, -19, -19, -19, -19, -19, -19, -19, -18, -18, -18, -18, -18, -17, -17, -17, -17, -16, -16, -16, -15, -15, -14, -13, -13, -13, -13, -12, -12, -12, -12, -11, -11, -11, -10, -10, -10, -10, -10, -10, -10, -10, -10, -9, -9, -9, -8, -8, -7, -7, -7, -7, -6, -6, -6, -6, -5, -5, -5, -5, -5, -5, -4, -3, -3, -3, -3, -3, -3, -2, -2, -2, -2, -2, -2, -2, -2, -2, -2, -2, -1, -1, -1, -1, -1, -1, -1, -1, -1, -1, -1, -1, -1, -1, -1, -1, -1, -1, -1, -1, 0, 0, 0, 0, 0, 0, 0, 0, 0, 0, 0, 0, 0, 0, 0, 0, 0, 0, 0, 0, 0, 0, 0, 0, 0, 0, 0, 0, 0, 0, 0, 0, 0, 0, 0, 0, 0, 0, 0, 0, 0, 0, 0, 0, 0, 0, 0, 0, 0, 0, 0, 0, 0, 0, 0, 0, 0, 0, 0, 0, 0, 0, 0, 0, 0, 0, 0, 0, 0, 0, 0, 0, 0, 0, 0, 0, 0, 0, 0, 0, 0, 0, 0, 0, 0, 0, 0, 0, 0, 0, 0, 0, 0, 0, 0, 0, 0, 0, 0, 0, 0, 0, 0, 0, 0, 0, 0, 0]\n"
     ]
    }
   ],
   "source": [
    "/print all_counts[:1200]"
   ]
  },
  {
   "cell_type": "code",
   "execution_count": 39,
   "metadata": {
    "collapsed": false
   },
   "outputs": [
    {
     "name": "stdout",
     "output_type": "stream",
     "text": [
      "[(4.0, 172791), (4.2, 10460), (8.0, 189), (4.433333333333334, 161), (0.02222222222222222, 80), (0.02277777777777778, 64), (0.022500000000000003, 55), (0.02777777777777778, 26), (3.963888888888889, 24), (0.03611111111111111, 24)]\n"
     ]
    }
   ],
   "source": [
    "all_times = [duration.total_seconds() / 60 / 60\n",
    "             for rows in datetime_count_times.values()\n",
    "             for _, _, duration in rows]\n",
    "/print Counter(all_times).most_common(10)"
   ]
  },
  {
   "cell_type": "code",
   "execution_count": 40,
   "metadata": {
    "collapsed": true
   },
   "outputs": [],
   "source": [
    "datetime_counts = {turnstile: [(time, count)\n",
    "                               for (time, count, _) in rows\n",
    "                               if 0 <= count <= 5000]\n",
    "                   for turnstile, rows in datetime_count_times.items()}"
   ]
  },
  {
   "cell_type": "markdown",
   "metadata": {},
   "source": [
    "`datetime_counts` is a solution to Challenge 2."
   ]
  },
  {
   "cell_type": "code",
   "execution_count": 43,
   "metadata": {
    "collapsed": false
   },
   "outputs": [
    {
     "name": "stdout",
     "output_type": "stream",
     "text": [
      "0.9941598540495402\n"
     ]
    }
   ],
   "source": [
    "all_good_counts = [count for rows in datetime_counts.values() for _, count in rows]\n",
    "print (len(all_good_counts) / len(all_counts))"
   ]
  },
  {
   "cell_type": "code",
   "execution_count": 44,
   "metadata": {
    "collapsed": false
   },
   "outputs": [
    {
     "name": "stdout",
     "output_type": "stream",
     "text": [
      "[2848, 2920, 2926, 2926, 3488]\n"
     ]
    }
   ],
   "source": [
    "all_good_counts.sort()\n",
    "/print all_good_counts[-5:]"
   ]
  },
  {
   "cell_type": "code",
   "execution_count": 46,
   "metadata": {
    "collapsed": false
   },
   "outputs": [
    {
     "name": "stdout",
     "output_type": "stream",
     "text": [
      "[0, 0, 0, 0, 0]\n"
     ]
    }
   ],
   "source": [
    "/print all_good_counts[:5]"
   ]
  },
  {
   "cell_type": "markdown",
   "metadata": {},
   "source": [
    "### Challenge 3"
   ]
  },
  {
   "cell_type": "code",
   "execution_count": 47,
   "metadata": {
    "collapsed": true
   },
   "outputs": [],
   "source": [
    "day_counts = {}\n",
    "for turnstile, rows in datetime_counts.items():\n",
    "    by_day = {}\n",
    "    for time, count in rows:\n",
    "        day = time.date()\n",
    "        by_day[day] = by_day.get(day, 0) + count\n",
    "    day_counts[turnstile] = sorted(by_day.items())"
   ]
  },
  {
   "cell_type": "code",
   "execution_count": 51,
   "metadata": {
    "collapsed": false
   },
   "outputs": [
    {
     "data": {
      "text/plain": [
       "dict"
      ]
     },
     "execution_count": 51,
     "metadata": {},
     "output_type": "execute_result"
    }
   ],
   "source": [
    "type(day_counts)"
   ]
  },
  {
   "cell_type": "code",
   "execution_count": 62,
   "metadata": {
    "collapsed": false
   },
   "outputs": [
    {
     "name": "stdout",
     "output_type": "stream",
     "text": [
      "[[('N196', 'R285', '00-03-00', 'FAR ROCKAWAY'), ('R639', 'R109', '00-05-01', 'CHURCH AVE'), ('B013', 'R196', '01-00-01', 'PROSPECT PARK'), ('N130', 'R383', '01-06-01', 'HUDSON-80 ST'), ('R143', 'R032', '02-03-02', '42 ST-TIMES SQ'), ('N500', 'R020', '00-00-03', '47-50 ST-ROCK'), ('N083', 'R138', '01-02-01', 'W 4 ST-WASH SQ'), ('A058', 'R001', '01-00-00', 'WHITEHALL ST'), ('R417', 'R222', '00-03-04', 'E 177 ST-PARKCH'), ('N194', 'R338', '00-00-01', 'BEACH 36 ST'), ('A041', 'R086', '00-00-00', \"PRINCE ST-B'WAY\"), ('R154', 'R116', '00-00-01', '50 ST'), ('N185', 'R417', '00-00-01', 'BEACH 98 ST'), ('JFK03', 'R536', '00-00-04', 'JFK JAMAICA CT1'), ('N333A', 'R141', '00-00-01', 'FOREST HILLS-71'), ('C026', 'R215', '01-06-00', '86 ST'), ('R175', 'R169', '01-00-03', '137 ST-CITY COL'), ('R201', 'R041', '00-03-04', 'BOWLING GREEN'), ('R202', 'R042', '00-00-00', 'BOWLING GREEN'), ('N400A', 'R359', '02-06-05', 'COURT SQ'), ('R515', 'R095', '00-03-00', 'DITMARS BL-31 S'), ('R102', 'R304', '01-03-02', 'RECTOR ST'), ('N539A', 'R288', '00-00-01', '7 AV-PARK SLOPE'), ('R532H', 'R328', '02-03-07', 'METS-WILLETS PT'), ('N409', 'R268', '00-03-00', 'METROPOLITAN AV'), ('H007', 'R248', '00-00-00', '1 AVE'), ('N304', 'R015', '01-06-01', '5 AVE-53 ST'), ('C012', 'R258', '01-00-02', '9 ST'), ('R514', 'R094', '00-03-00', 'HOYT ST-ASTORIA'), ('R260', 'R205', '01-05-01', '149 ST-GR CONC'), ('N337', 'R255', '00-00-01', 'VAN WYCK BLVD'), ('R169', 'R168', '01-00-04', '96 ST'), ('R170', 'R191', '00-00-02', '103 ST'), ('N322', 'R340', '00-00-00', '65 ST'), ('H026', 'R137', '00-00-00', 'MYRTLE AVE'), ('B020', 'R263', '00-05-02', 'AVE H'), ('H028', 'R266', '00-00-01', 'HALSEY ST'), ('R516', 'R291', '00-00-02', '33 ST/RAWSON ST'), ('H008', 'R248', '01-00-04', '1 AVE'), ('D008', 'R392', '00-06-00', '18 AVE'), ('R261', 'R205', '00-00-02', '149 ST-GR CONC'), ('R515', 'R095', '00-00-01', 'DITMARS BL-31 S'), ('N507', 'R023', '00-00-02', '34 ST-HERALD SQ'), ('N342', 'R019', '01-06-00', 'JAMAICA-179 ST'), ('R293', 'R133', '00-00-03', 'MOSHOLU PARKWAY'), ('R610', 'R057', '00-06-02', 'BARCLAYS CENTER'), ('R421', 'R427', '00-06-01', 'MIDDLETOWN ROAD'), ('R323', 'R387', '00-06-00', 'E TREMONT AVE'), ('R533', 'R055', '00-00-01', 'MAIN ST'), ('R217A', 'R194', '00-00-01', 'BLEECKER ST')]]\n"
     ]
    }
   ],
   "source": [
    "/print [list(day_counts.keys())[:50]]"
   ]
  },
  {
   "cell_type": "markdown",
   "metadata": {},
   "source": [
    "`day_counts` is a solution to Challenge 3."
   ]
  }
 ],
 "metadata": {
  "kernelspec": {
   "display_name": "Python 3",
   "language": "python",
   "name": "python3"
  },
  "language_info": {
   "codemirror_mode": {
    "name": "ipython",
    "version": 3
   },
   "file_extension": ".py",
   "mimetype": "text/x-python",
   "name": "python",
   "nbconvert_exporter": "python",
   "pygments_lexer": "ipython3",
   "version": "3.5.1"
  }
 },
 "nbformat": 4,
 "nbformat_minor": 0
}
