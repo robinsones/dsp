{
 "cells": [
  {
   "cell_type": "code",
   "execution_count": 1,
   "metadata": {
    "ExecuteTime": {
     "end_time": "2016-07-24T11:33:10.339658",
     "start_time": "2016-07-24T11:33:10.308168"
    },
    "collapsed": false
   },
   "outputs": [
    {
     "data": {
      "application/javascript": [
       "$.getScript('https://raw.githubusercontent.com/mlgill/ipython_notebook_goodies/gh-pages/ipython_notebook_toc.js')"
      ],
      "text/plain": [
       "<IPython.core.display.Javascript object>"
      ]
     },
     "metadata": {},
     "output_type": "display_data"
    }
   ],
   "source": [
    "%%javascript\n",
    "$.getScript('https://raw.githubusercontent.com/mlgill/ipython_notebook_goodies/gh-pages/ipython_notebook_toc.js')"
   ]
  },
  {
   "cell_type": "code",
   "execution_count": 2,
   "metadata": {
    "ExecuteTime": {
     "end_time": "2016-07-24T11:33:12.328294",
     "start_time": "2016-07-24T11:33:10.343314"
    },
    "collapsed": true
   },
   "outputs": [],
   "source": [
    "import pandas as pd\n",
    "import numpy as np\n",
    "\n",
    "import matplotlib.pyplot as plt\n",
    "from matplotlib.ticker import FuncFormatter\n",
    "import seaborn as sns\n",
    "\n",
    "sns.set_context('talk')\n",
    "sns.set_style('ticks')\n",
    "sns.set_palette('dark')\n",
    "\n",
    "%matplotlib inline"
   ]
  },
  {
   "cell_type": "markdown",
   "metadata": {},
   "source": [
    "# Challenge 2\n",
    "\n",
    "| Title        | Answer                     |\n",
    "| :---------- | :------------------------ |\n",
    "| Topic:       | Movies and Pandas | \n",
    "| Date:        | 2016/07/09                 |\n",
    "| Name:        | Michelle L. Gill           |\n",
    "| Worked with: | None                       | \n",
    "\n",
    "\n",
    "<h1 id=\"tocheading\">Table of Contents</h1>\n",
    "<div id=\"toc\"></div>"
   ]
  },
  {
   "cell_type": "code",
   "execution_count": 3,
   "metadata": {
    "ExecuteTime": {
     "end_time": "2016-07-24T11:33:12.357191",
     "start_time": "2016-07-24T11:33:12.330461"
    },
    "collapsed": false
   },
   "outputs": [
    {
     "data": {
      "text/html": [
       "<div>\n",
       "<table border=\"1\" class=\"dataframe\">\n",
       "  <thead>\n",
       "    <tr style=\"text-align: right;\">\n",
       "      <th></th>\n",
       "      <th>Title</th>\n",
       "      <th>Budget</th>\n",
       "      <th>DomesticTotalGross</th>\n",
       "      <th>Director</th>\n",
       "      <th>Rating</th>\n",
       "      <th>Runtime</th>\n",
       "      <th>ReleaseDate</th>\n",
       "    </tr>\n",
       "  </thead>\n",
       "  <tbody>\n",
       "    <tr>\n",
       "      <th>0</th>\n",
       "      <td>The Hunger Games: Catching Fire</td>\n",
       "      <td>130000000.0</td>\n",
       "      <td>424668047</td>\n",
       "      <td>Francis Lawrence</td>\n",
       "      <td>PG-13</td>\n",
       "      <td>146</td>\n",
       "      <td>2013-11-22 00:00:00</td>\n",
       "    </tr>\n",
       "    <tr>\n",
       "      <th>1</th>\n",
       "      <td>Iron Man 3</td>\n",
       "      <td>200000000.0</td>\n",
       "      <td>409013994</td>\n",
       "      <td>Shane Black</td>\n",
       "      <td>PG-13</td>\n",
       "      <td>129</td>\n",
       "      <td>2013-05-03 00:00:00</td>\n",
       "    </tr>\n",
       "  </tbody>\n",
       "</table>\n",
       "</div>"
      ],
      "text/plain": [
       "                             Title       Budget  DomesticTotalGross  \\\n",
       "0  The Hunger Games: Catching Fire  130000000.0           424668047   \n",
       "1                       Iron Man 3  200000000.0           409013994   \n",
       "\n",
       "           Director Rating  Runtime          ReleaseDate  \n",
       "0  Francis Lawrence  PG-13      146  2013-11-22 00:00:00  \n",
       "1       Shane Black  PG-13      129  2013-05-03 00:00:00  "
      ]
     },
     "execution_count": 3,
     "metadata": {},
     "output_type": "execute_result"
    }
   ],
   "source": [
    "data = pd.read_csv('../../../challenges_data/2013_movies.csv')\n",
    "data.head(2)"
   ]
  },
  {
   "cell_type": "code",
   "execution_count": 4,
   "metadata": {
    "ExecuteTime": {
     "end_time": "2016-07-24T11:33:12.379240",
     "start_time": "2016-07-24T11:33:12.360205"
    },
    "collapsed": false
   },
   "outputs": [],
   "source": [
    "data['ReleaseDate'] = pd.to_datetime(data.ReleaseDate)\n",
    "data['ReleaseMonth'] = data.ReleaseDate.dt.month\n",
    "data['Rating'] = pd.Categorical(data.Rating, \n",
    "                                categories=['G', 'PG', 'PG-13', 'R'], \n",
    "                                ordered=True)"
   ]
  },
  {
   "cell_type": "markdown",
   "metadata": {},
   "source": [
    "## Question 1\n",
    "\n",
    "Plot domestic total gross over time."
   ]
  },
  {
   "cell_type": "code",
   "execution_count": 5,
   "metadata": {
    "ExecuteTime": {
     "end_time": "2016-07-24T11:33:12.414941",
     "start_time": "2016-07-24T11:33:12.382005"
    },
    "collapsed": false
   },
   "outputs": [],
   "source": [
    "resampled_data = (data[['ReleaseDate', 'DomesticTotalGross']]\n",
    "                  .set_index('ReleaseDate')\n",
    "                  .resample('M').median()\n",
    "                  )"
   ]
  },
  {
   "cell_type": "code",
   "execution_count": 6,
   "metadata": {
    "ExecuteTime": {
     "end_time": "2016-07-24T11:33:13.036860",
     "start_time": "2016-07-24T11:33:12.418921"
    },
    "collapsed": false
   },
   "outputs": [
    {
     "data": {
      "image/png": "[encoded data removed]",
      "text/plain": [
       "<matplotlib.figure.Figure at 0x1047b65d0>"
      ]
     },
     "metadata": {},
     "output_type": "display_data"
    }
   ],
   "source": [
    "def scale_ticklabels(x, p):\n",
    "    return \"%.1f\" % (x / (10 ** scale_pow))\n",
    "\n",
    "ax = data.plot('ReleaseDate', 'DomesticTotalGross', \n",
    "               kind='line', marker='o', ls='', ms=5,\n",
    "               figsize=(7,5), label='actual')\n",
    "ax = resampled_data.reset_index().plot('ReleaseDate','DomesticTotalGross',\n",
    "                                       kind='line',\n",
    "                                       label='monthly median', ax=ax)\n",
    "ax.legend(loc=0)\n",
    "ax.set_xlabel('Release Date')\n",
    "\n",
    "scale_pow = 6\n",
    "ax.get_yaxis().set_major_formatter(FuncFormatter(scale_ticklabels))\n",
    "ax.set_ylabel('Domestic Total Gross (Millions, $)')\n",
    "\n",
    "ax.set_title('Domestic Total Gross by Release Date')\n",
    "\n",
    "plt.tight_layout()\n",
    "sns.despine()"
   ]
  },
  {
   "cell_type": "markdown",
   "metadata": {},
   "source": [
    "## Question 2\n",
    "\n",
    "Plot runtime vs. domestic total gross"
   ]
  },
  {
   "cell_type": "code",
   "execution_count": 7,
   "metadata": {
    "ExecuteTime": {
     "end_time": "2016-07-24T11:33:13.427014",
     "start_time": "2016-07-24T11:33:13.039720"
    },
    "collapsed": false
   },
   "outputs": [
    {
     "data": {
      "image/png": "[encoded data removed]",
      "text/plain": [
       "<matplotlib.figure.Figure at 0x117cb7390>"
      ]
     },
     "metadata": {},
     "output_type": "display_data"
    }
   ],
   "source": [
    "ax = data.plot('Runtime', 'DomesticTotalGross', \n",
    "               kind='scatter', legend=False, figsize=(7,5))\n",
    "\n",
    "ax.set_xlabel('Runtime (min)')\n",
    "\n",
    "scale_pow = 6\n",
    "ax.get_yaxis().set_major_formatter(FuncFormatter(scale_ticklabels))\n",
    "ax.set_ylabel('Domestic Total Gross (Millions, $)')\n",
    "\n",
    "ax.set_title('Domestic Total Gross vs Runtime')\n",
    "\n",
    "plt.tight_layout()\n",
    "sns.despine()"
   ]
  },
  {
   "cell_type": "markdown",
   "metadata": {},
   "source": [
    "## Question 3\n",
    "\n",
    "Group your data by Rating and find the average runtime and domestic total gross at each level of Rating."
   ]
  },
  {
   "cell_type": "code",
   "execution_count": 8,
   "metadata": {
    "ExecuteTime": {
     "end_time": "2016-07-24T11:33:13.459100",
     "start_time": "2016-07-24T11:33:13.430867"
    },
    "collapsed": false
   },
   "outputs": [
    {
     "data": {
      "text/html": [
       "<div>\n",
       "<table border=\"1\" class=\"dataframe\">\n",
       "  <thead>\n",
       "    <tr style=\"text-align: right;\">\n",
       "      <th></th>\n",
       "      <th>Runtime</th>\n",
       "      <th>DomesticTotalGross</th>\n",
       "    </tr>\n",
       "    <tr>\n",
       "      <th>Rating</th>\n",
       "      <th></th>\n",
       "      <th></th>\n",
       "    </tr>\n",
       "  </thead>\n",
       "  <tbody>\n",
       "    <tr>\n",
       "      <th>G</th>\n",
       "      <td>107.000000</td>\n",
       "      <td>2.684928e+08</td>\n",
       "    </tr>\n",
       "    <tr>\n",
       "      <th>PG</th>\n",
       "      <td>99.933333</td>\n",
       "      <td>1.311357e+08</td>\n",
       "    </tr>\n",
       "    <tr>\n",
       "      <th>PG-13</th>\n",
       "      <td>117.510638</td>\n",
       "      <td>1.114498e+08</td>\n",
       "    </tr>\n",
       "    <tr>\n",
       "      <th>R</th>\n",
       "      <td>110.729730</td>\n",
       "      <td>6.989243e+07</td>\n",
       "    </tr>\n",
       "  </tbody>\n",
       "</table>\n",
       "</div>"
      ],
      "text/plain": [
       "           Runtime  DomesticTotalGross\n",
       "Rating                                \n",
       "G       107.000000        2.684928e+08\n",
       "PG       99.933333        1.311357e+08\n",
       "PG-13   117.510638        1.114498e+08\n",
       "R       110.729730        6.989243e+07"
      ]
     },
     "execution_count": 8,
     "metadata": {},
     "output_type": "execute_result"
    }
   ],
   "source": [
    "mean_by_rating = ( data\n",
    "                  [['Rating', 'Runtime', 'DomesticTotalGross']]\n",
    "                  .groupby('Rating')\n",
    "                  .mean()\n",
    "                 )\n",
    "mean_by_rating"
   ]
  },
  {
   "cell_type": "markdown",
   "metadata": {},
   "source": [
    "## Question 4\n",
    "\n",
    "Make one figure with (N=the number of MPAA ratings there are) subplots, and in each plot the release date vs the domestic total gross."
   ]
  },
  {
   "cell_type": "code",
   "execution_count": 9,
   "metadata": {
    "ExecuteTime": {
     "end_time": "2016-07-24T11:33:14.741289",
     "start_time": "2016-07-24T11:33:13.462984"
    },
    "collapsed": false
   },
   "outputs": [
    {
     "name": "stderr",
     "output_type": "stream",
     "text": [
      "/Volumes/Files/miniconda/envs/scienv2/lib/python2.7/site-packages/matplotlib/axes/_base.py:2787: UserWarning: Attempting to set identical left==right results\n",
      "in singular transformations; automatically expanding.\n",
      "left=735040.0, right=735040.0\n",
      "  'left=%s, right=%s') % (left, right))\n"
     ]
    },
    {
     "data": {
      "image/png": "[encoded data removed]",
      "text/plain": [
       "<matplotlib.figure.Figure at 0x119feda50>"
      ]
     },
     "metadata": {},
     "output_type": "display_data"
    }
   ],
   "source": [
    "fig, axList = plt.subplots(nrows=2, ncols=2, sharex=True, sharey=True)\n",
    "fig.set_size_inches(10, 10)\n",
    "\n",
    "for (idx, dat), ax in zip(data.groupby('Rating'), axList.flatten()):\n",
    "    dat.plot('ReleaseDate', 'DomesticTotalGross', \n",
    "             marker='o', ls='',\n",
    "             ax=ax, legend=False)\n",
    "    \n",
    "    ax.set_title('Rating: {}'.format(idx))\n",
    "    \n",
    "    if ax.is_last_row():\n",
    "        ax.set_xlabel('Release Date')\n",
    "    else:\n",
    "        ax.set_xticklabels('')\n",
    "        ax.set_xlabel('')\n",
    "        \n",
    "    scale_pow = 6\n",
    "    ax.get_yaxis().set_major_formatter(FuncFormatter(scale_ticklabels))\n",
    "    ax.set_ylim(0, ax.get_ylim()[1])\n",
    "    \n",
    "    if ax.is_first_col():\n",
    "        ax.set_ylabel('Domestic Total Gross (Millions, $)')\n",
    "    else:\n",
    "        ax.set_ylabel('')\n",
    "        \n",
    "plt.tight_layout()\n",
    "sns.despine()"
   ]
  },
  {
   "cell_type": "code",
   "execution_count": 10,
   "metadata": {
    "ExecuteTime": {
     "end_time": "2016-07-24T11:33:14.779031",
     "start_time": "2016-07-24T11:33:14.744395"
    },
    "collapsed": false
   },
   "outputs": [
    {
     "data": {
      "text/html": [
       "<div>\n",
       "<table border=\"1\" class=\"dataframe\">\n",
       "  <thead>\n",
       "    <tr style=\"text-align: right;\">\n",
       "      <th></th>\n",
       "      <th>Title</th>\n",
       "      <th>Budget</th>\n",
       "      <th>DomesticTotalGross</th>\n",
       "      <th>Director</th>\n",
       "      <th>Rating</th>\n",
       "      <th>Runtime</th>\n",
       "      <th>ReleaseDate</th>\n",
       "      <th>ReleaseMonth</th>\n",
       "    </tr>\n",
       "  </thead>\n",
       "  <tbody>\n",
       "    <tr>\n",
       "      <th>6</th>\n",
       "      <td>Monsters University</td>\n",
       "      <td>NaN</td>\n",
       "      <td>268492764</td>\n",
       "      <td>Dan Scanlon</td>\n",
       "      <td>G</td>\n",
       "      <td>107</td>\n",
       "      <td>2013-06-21</td>\n",
       "      <td>6</td>\n",
       "    </tr>\n",
       "  </tbody>\n",
       "</table>\n",
       "</div>"
      ],
      "text/plain": [
       "                 Title  Budget  DomesticTotalGross     Director Rating  \\\n",
       "6  Monsters University     NaN           268492764  Dan Scanlon      G   \n",
       "\n",
       "   Runtime ReleaseDate  ReleaseMonth  \n",
       "6      107  2013-06-21             6  "
      ]
     },
     "execution_count": 10,
     "metadata": {},
     "output_type": "execute_result"
    }
   ],
   "source": [
    "data.query('Rating==\"G\"')"
   ]
  },
  {
   "cell_type": "markdown",
   "metadata": {},
   "source": [
    "## Question 5\n",
    "\n",
    "What director in your dataset has the highest gross per movie?"
   ]
  },
  {
   "cell_type": "code",
   "execution_count": 11,
   "metadata": {
    "ExecuteTime": {
     "end_time": "2016-07-24T11:33:14.816950",
     "start_time": "2016-07-24T11:33:14.783505"
    },
    "collapsed": false
   },
   "outputs": [
    {
     "data": {
      "text/html": [
       "<div>\n",
       "<table border=\"1\" class=\"dataframe\">\n",
       "  <thead>\n",
       "    <tr style=\"text-align: right;\">\n",
       "      <th></th>\n",
       "      <th>DomesticTotalGross</th>\n",
       "    </tr>\n",
       "    <tr>\n",
       "      <th>Director</th>\n",
       "      <th></th>\n",
       "    </tr>\n",
       "  </thead>\n",
       "  <tbody>\n",
       "    <tr>\n",
       "      <th>Francis Lawrence</th>\n",
       "      <td>424668047</td>\n",
       "    </tr>\n",
       "    <tr>\n",
       "      <th>Shane Black</th>\n",
       "      <td>409013994</td>\n",
       "    </tr>\n",
       "    <tr>\n",
       "      <th>Chris BuckJennifer Lee</th>\n",
       "      <td>400738009</td>\n",
       "    </tr>\n",
       "    <tr>\n",
       "      <th>Pierre CoffinChris Renaud</th>\n",
       "      <td>368061265</td>\n",
       "    </tr>\n",
       "    <tr>\n",
       "      <th>Zack Snyder</th>\n",
       "      <td>291045518</td>\n",
       "    </tr>\n",
       "    <tr>\n",
       "      <th>Alfonso Cuaron</th>\n",
       "      <td>274092705</td>\n",
       "    </tr>\n",
       "    <tr>\n",
       "      <th>Dan Scanlon</th>\n",
       "      <td>268492764</td>\n",
       "    </tr>\n",
       "    <tr>\n",
       "      <th>Peter Jackson</th>\n",
       "      <td>258366855</td>\n",
       "    </tr>\n",
       "    <tr>\n",
       "      <th>Justin Lin</th>\n",
       "      <td>238679850</td>\n",
       "    </tr>\n",
       "    <tr>\n",
       "      <th>Sam Raimi</th>\n",
       "      <td>234911825</td>\n",
       "    </tr>\n",
       "  </tbody>\n",
       "</table>\n",
       "</div>"
      ],
      "text/plain": [
       "                           DomesticTotalGross\n",
       "Director                                     \n",
       "Francis Lawrence                    424668047\n",
       "Shane Black                         409013994\n",
       "Chris BuckJennifer Lee              400738009\n",
       "Pierre CoffinChris Renaud           368061265\n",
       "Zack Snyder                         291045518\n",
       "Alfonso Cuaron                      274092705\n",
       "Dan Scanlon                         268492764\n",
       "Peter Jackson                       258366855\n",
       "Justin Lin                          238679850\n",
       "Sam Raimi                           234911825"
      ]
     },
     "execution_count": 11,
     "metadata": {},
     "output_type": "execute_result"
    }
   ],
   "source": [
    "( data\n",
    " [['Director', 'DomesticTotalGross']]\n",
    " .groupby('Director')\n",
    " .mean()\n",
    " .sort_values('DomesticTotalGross', ascending=False)\n",
    " .head(10)\n",
    " )"
   ]
  },
  {
   "cell_type": "markdown",
   "metadata": {},
   "source": [
    "## Question 6\n",
    "\n",
    "Bin your dataset into months and make a bar graph of the mean domestic total gross by month. Error bars will represent the standard error of the mean.\n",
    "\n",
    "Title of graph should include: Mean Domestic Total Gross by Month in 2013\n",
    "\n",
    "Topic for consideration: what is the correct formula for the standard error of the mean? Examine the error bars and see if they are “reasonable.”"
   ]
  },
  {
   "cell_type": "code",
   "execution_count": 12,
   "metadata": {
    "ExecuteTime": {
     "end_time": "2016-07-24T11:33:14.877767",
     "start_time": "2016-07-24T11:33:14.820887"
    },
    "collapsed": false
   },
   "outputs": [
    {
     "data": {
      "text/html": [
       "<div>\n",
       "<table border=\"1\" class=\"dataframe\">\n",
       "  <thead>\n",
       "    <tr>\n",
       "      <th></th>\n",
       "      <th>ReleaseMonth</th>\n",
       "      <th colspan=\"3\" halign=\"left\">DomesticTotalGross</th>\n",
       "    </tr>\n",
       "    <tr>\n",
       "      <th></th>\n",
       "      <th></th>\n",
       "      <th>mean</th>\n",
       "      <th>sem</th>\n",
       "      <th>len</th>\n",
       "    </tr>\n",
       "  </thead>\n",
       "  <tbody>\n",
       "    <tr>\n",
       "      <th>0</th>\n",
       "      <td>1</td>\n",
       "      <td>49543237</td>\n",
       "      <td>6555914</td>\n",
       "      <td>5</td>\n",
       "    </tr>\n",
       "    <tr>\n",
       "      <th>1</th>\n",
       "      <td>2</td>\n",
       "      <td>67386013</td>\n",
       "      <td>12409272</td>\n",
       "      <td>7</td>\n",
       "    </tr>\n",
       "    <tr>\n",
       "      <th>2</th>\n",
       "      <td>3</td>\n",
       "      <td>96097096</td>\n",
       "      <td>24413138</td>\n",
       "      <td>9</td>\n",
       "    </tr>\n",
       "    <tr>\n",
       "      <th>3</th>\n",
       "      <td>4</td>\n",
       "      <td>60940719</td>\n",
       "      <td>10329105</td>\n",
       "      <td>6</td>\n",
       "    </tr>\n",
       "    <tr>\n",
       "      <th>4</th>\n",
       "      <td>5</td>\n",
       "      <td>177409720</td>\n",
       "      <td>39518588</td>\n",
       "      <td>8</td>\n",
       "    </tr>\n",
       "    <tr>\n",
       "      <th>5</th>\n",
       "      <td>6</td>\n",
       "      <td>150650005</td>\n",
       "      <td>33658260</td>\n",
       "      <td>8</td>\n",
       "    </tr>\n",
       "    <tr>\n",
       "      <th>6</th>\n",
       "      <td>7</td>\n",
       "      <td>105780721</td>\n",
       "      <td>26387322</td>\n",
       "      <td>12</td>\n",
       "    </tr>\n",
       "    <tr>\n",
       "      <th>7</th>\n",
       "      <td>8</td>\n",
       "      <td>68531263</td>\n",
       "      <td>12459149</td>\n",
       "      <td>11</td>\n",
       "    </tr>\n",
       "    <tr>\n",
       "      <th>8</th>\n",
       "      <td>9</td>\n",
       "      <td>61712314</td>\n",
       "      <td>14216539</td>\n",
       "      <td>6</td>\n",
       "    </tr>\n",
       "    <tr>\n",
       "      <th>9</th>\n",
       "      <td>10</td>\n",
       "      <td>115027038</td>\n",
       "      <td>42012719</td>\n",
       "      <td>5</td>\n",
       "    </tr>\n",
       "    <tr>\n",
       "      <th>10</th>\n",
       "      <td>11</td>\n",
       "      <td>137936759</td>\n",
       "      <td>48572933</td>\n",
       "      <td>10</td>\n",
       "    </tr>\n",
       "    <tr>\n",
       "      <th>11</th>\n",
       "      <td>12</td>\n",
       "      <td>87483385</td>\n",
       "      <td>18537593</td>\n",
       "      <td>13</td>\n",
       "    </tr>\n",
       "  </tbody>\n",
       "</table>\n",
       "</div>"
      ],
      "text/plain": [
       "   ReleaseMonth DomesticTotalGross              \n",
       "                              mean       sem len\n",
       "0             1           49543237   6555914   5\n",
       "1             2           67386013  12409272   7\n",
       "2             3           96097096  24413138   9\n",
       "3             4           60940719  10329105   6\n",
       "4             5          177409720  39518588   8\n",
       "5             6          150650005  33658260   8\n",
       "6             7          105780721  26387322  12\n",
       "7             8           68531263  12459149  11\n",
       "8             9           61712314  14216539   6\n",
       "9            10          115027038  42012719   5\n",
       "10           11          137936759  48572933  10\n",
       "11           12           87483385  18537593  13"
      ]
     },
     "execution_count": 12,
     "metadata": {},
     "output_type": "execute_result"
    }
   ],
   "source": [
    "def sem(data):\n",
    "    return data.std(ddof=1)/np.sqrt(data.shape[0])\n",
    "\n",
    "gross_by_month = ( data\n",
    "                  [['ReleaseMonth', 'DomesticTotalGross']]\n",
    "                  .groupby('ReleaseMonth')\n",
    "                  .agg({'DomesticTotalGross':[np.mean, sem, len]})\n",
    "                  .reset_index()\n",
    "                 )\n",
    "\n",
    "gross_by_month"
   ]
  },
  {
   "cell_type": "code",
   "execution_count": 13,
   "metadata": {
    "ExecuteTime": {
     "end_time": "2016-07-24T11:33:15.442421",
     "start_time": "2016-07-24T11:33:14.880869"
    },
    "collapsed": false
   },
   "outputs": [
    {
     "data": {
      "image/png": "[encoded data removed]",
      "text/plain": [
       "<matplotlib.figure.Figure at 0x11a4c6e50>"
      ]
     },
     "metadata": {},
     "output_type": "display_data"
    }
   ],
   "source": [
    "ax = ( gross_by_month\n",
    "      .plot('ReleaseMonth', ('DomesticTotalGross','mean'), kind='bar', \n",
    "            yerr=gross_by_month.loc[:, ('DomesticTotalGross','sem')],\n",
    "            legend=False, figsize=(7,5))\n",
    " )\n",
    "\n",
    "ax.set_xlabel('Month')\n",
    "ax.set_xticklabels(['Jan','Feb','Mar','Apr','May','Jun',\n",
    "                    'July','Aug','Sep','Oct','Nov','Dec'])\n",
    "plt.xticks(rotation=30, ha='right')\n",
    "\n",
    "scale_pow = 6\n",
    "ax.get_yaxis().set_major_formatter(FuncFormatter(scale_ticklabels))\n",
    "ax.set_ylabel('Domestic Total Gross (Millions, $)')\n",
    "\n",
    "ax.set_title('Mean Domestic Total Gross by Month in 2013')\n",
    "\n",
    "plt.tight_layout()\n",
    "sns.despine()"
   ]
  },
  {
   "cell_type": "markdown",
   "metadata": {},
   "source": [
    "For standard error of the mean, I used the sample standard deviation divided by the square root of the sample size. This causes some issues with variable sample sizes because the size of the denominator affects the size of the error."
   ]
  }
 ],
 "metadata": {
  "kernelspec": {
   "display_name": "Python 2",
   "language": "python",
   "name": "python2"
  },
  "language_info": {
   "codemirror_mode": {
    "name": "ipython",
    "version": 2
   },
   "file_extension": ".py",
   "mimetype": "text/x-python",
   "name": "python",
   "nbconvert_exporter": "python",
   "pygments_lexer": "ipython2",
   "version": "2.7.12"
  }
 },
 "nbformat": 4,
 "nbformat_minor": 0
}
