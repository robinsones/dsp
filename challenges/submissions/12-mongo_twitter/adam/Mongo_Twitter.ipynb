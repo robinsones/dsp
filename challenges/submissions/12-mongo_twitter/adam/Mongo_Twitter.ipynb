{
 "cells": [
  {
   "cell_type": "markdown",
   "metadata": {},
   "source": [
    "## Challenge Set 11\n",
    "Name: Adam Levin  \n",
    "Topic: Mongo and Twitter  \n",
    "Date: 8/14/2016"
   ]
  },
  {
   "cell_type": "code",
   "execution_count": 192,
   "metadata": {
    "collapsed": false
   },
   "outputs": [],
   "source": [
    "import pickle\n",
    "with open(\"heavy_metal_parsed.pkl\", 'r') as datafile:\n",
    "    heavy_metal_reviews = pickle.load(datafile)"
   ]
  },
  {
   "cell_type": "code",
   "execution_count": 193,
   "metadata": {
    "collapsed": false
   },
   "outputs": [
    {
     "name": "stdout",
     "output_type": "stream",
     "text": [
      "200 MOTELS (1971)\n",
      "DIRECTORS: Tony Palmer, Frank Zappa\n",
      "CAST: Frank Zappa, Ringo Starr, Mark Volman, Howard Kaylan, Keith\n",
      "Moon\n",
      "METAL CRED\n",
      "Frank Zappa\n"
     ]
    }
   ],
   "source": [
    "first_review = heavy_metal_reviews[0]\n",
    "for line in first_review['raw'][0:5]:\n",
    "    print line"
   ]
  },
  {
   "cell_type": "code",
   "execution_count": 194,
   "metadata": {
    "collapsed": false
   },
   "outputs": [
    {
     "name": "stdout",
     "output_type": "stream",
     "text": [
      "['head', 'metal_cred', 'title', 'direct', 'solid_metal_nuggets', 'cast', 'raw', 'the_meat', 'year', 'sections']\n"
     ]
    }
   ],
   "source": [
    "print first_review.keys()"
   ]
  },
  {
   "cell_type": "code",
   "execution_count": 279,
   "metadata": {
    "collapsed": true
   },
   "outputs": [],
   "source": [
    "from pymongo import MongoClient\n",
    "import pymongo\n",
    "client = MongoClient()"
   ]
  },
  {
   "cell_type": "code",
   "execution_count": 215,
   "metadata": {
    "collapsed": true
   },
   "outputs": [],
   "source": [
    "db = client.heavy_metal\n",
    "reviews = db.reviews"
   ]
  },
  {
   "cell_type": "code",
   "execution_count": 216,
   "metadata": {
    "collapsed": false
   },
   "outputs": [
    {
     "data": {
      "text/plain": [
       "<pymongo.results.InsertManyResult at 0x11cb24190>"
      ]
     },
     "execution_count": 216,
     "metadata": {},
     "output_type": "execute_result"
    }
   ],
   "source": [
    "reviews.insert_many(heavy_metal_reviews)"
   ]
  },
  {
   "cell_type": "code",
   "execution_count": 217,
   "metadata": {
    "collapsed": false
   },
   "outputs": [
    {
     "data": {
      "text/plain": [
       "856"
      ]
     },
     "execution_count": 217,
     "metadata": {},
     "output_type": "execute_result"
    }
   ],
   "source": [
    "reviews.count()"
   ]
  },
  {
   "cell_type": "markdown",
   "metadata": {},
   "source": [
    "**Challenge 1**"
   ]
  },
  {
   "cell_type": "code",
   "execution_count": 218,
   "metadata": {
    "collapsed": false
   },
   "outputs": [],
   "source": [
    "years = [res['year'] for res in reviews.find({},{'year':1,'_id':0})]"
   ]
  },
  {
   "cell_type": "code",
   "execution_count": 219,
   "metadata": {
    "collapsed": true
   },
   "outputs": [],
   "source": [
    "import matplotlib.pyplot as plt\n",
    "import seaborn as sns\n",
    "%matplotlib inline"
   ]
  },
  {
   "cell_type": "code",
   "execution_count": 220,
   "metadata": {
    "collapsed": false
   },
   "outputs": [
    {
     "data": {
      "image/png": "[encoded data removed]",
      "text/plain": [
       "<matplotlib.figure.Figure at 0x11d282b50>"
      ]
     },
     "metadata": {},
     "output_type": "display_data"
    }
   ],
   "source": [
    "plt.hist(years);"
   ]
  },
  {
   "cell_type": "markdown",
   "metadata": {},
   "source": [
    "Many more metal movies starting around 1970"
   ]
  },
  {
   "cell_type": "markdown",
   "metadata": {},
   "source": [
    "**Challenge 2**"
   ]
  },
  {
   "cell_type": "code",
   "execution_count": 221,
   "metadata": {
    "collapsed": false
   },
   "outputs": [],
   "source": [
    "appearances = [star for cast in [res['cast'] for res in \n",
    "               reviews.find({},{'cast':1,'_id':0})] for star in cast if star!='']"
   ]
  },
  {
   "cell_type": "code",
   "execution_count": 222,
   "metadata": {
    "collapsed": false
   },
   "outputs": [
    {
     "data": {
      "text/plain": [
       "[u'Frank Zappa',\n",
       " u'Ringo Starr',\n",
       " u'Mark Volman',\n",
       " u'Howard Kaylan',\n",
       " u'Keith Moon']"
      ]
     },
     "execution_count": 222,
     "metadata": {},
     "output_type": "execute_result"
    }
   ],
   "source": [
    "appearances[0:5]"
   ]
  },
  {
   "cell_type": "code",
   "execution_count": 223,
   "metadata": {
    "collapsed": true
   },
   "outputs": [],
   "source": [
    "from collections import Counter"
   ]
  },
  {
   "cell_type": "code",
   "execution_count": 224,
   "metadata": {
    "collapsed": false
   },
   "outputs": [
    {
     "name": "stdout",
     "output_type": "stream",
     "text": [
      "Alice Cooper 15\n",
      "Christopher Lee 14\n",
      "Arnold Schwarzenegger 10\n",
      "Ozzy Osbourne 9\n",
      "Gwar 8\n"
     ]
    }
   ],
   "source": [
    "appearances_counter = Counter(appearances)\n",
    "for key in sorted(appearances_counter,key=appearances_counter.get)[::-1][:5]:\n",
    "    print key,appearances_counter[key]"
   ]
  },
  {
   "cell_type": "markdown",
   "metadata": {},
   "source": [
    "I think that name makes sense."
   ]
  },
  {
   "cell_type": "markdown",
   "metadata": {},
   "source": [
    "**Challenge 3**"
   ]
  },
  {
   "cell_type": "code",
   "execution_count": 225,
   "metadata": {
    "collapsed": true
   },
   "outputs": [],
   "source": [
    "from sklearn.feature_extraction.stop_words import ENGLISH_STOP_WORDS"
   ]
  },
  {
   "cell_type": "code",
   "execution_count": 226,
   "metadata": {
    "collapsed": true
   },
   "outputs": [],
   "source": [
    "title_blob = [word.lower() for spl in [title.split() for title in [res['title'] for res in \n",
    "               reviews.find({},{'title':1,'_id':0})]] for word in spl if word.lower() not in ENGLISH_STOP_WORDS]"
   ]
  },
  {
   "cell_type": "code",
   "execution_count": 227,
   "metadata": {
    "collapsed": false
   },
   "outputs": [
    {
     "data": {
      "text/plain": [
       "[u'200', u'motels', u'300', u'1984', u'1990:', u'bronx', u'warriors']"
      ]
     },
     "execution_count": 227,
     "metadata": {},
     "output_type": "execute_result"
    }
   ],
   "source": [
    "title_blob[0:7]"
   ]
  },
  {
   "cell_type": "code",
   "execution_count": 228,
   "metadata": {
    "collapsed": false
   },
   "outputs": [
    {
     "name": "stdout",
     "output_type": "stream",
     "text": [
      "metal 29\n",
      "dead 23\n",
      "heavy 18\n",
      "rock 17\n",
      "black 14\n"
     ]
    }
   ],
   "source": [
    "title_words_counter = Counter(title_blob)\n",
    "for key in sorted(title_words_counter,key=title_words_counter.get)[::-1][:5]:\n",
    "    print key,title_words_counter[key]"
   ]
  },
  {
   "cell_type": "markdown",
   "metadata": {},
   "source": [
    "Seems right."
   ]
  },
  {
   "cell_type": "markdown",
   "metadata": {},
   "source": [
    "**Challenge 4**"
   ]
  },
  {
   "cell_type": "code",
   "execution_count": 229,
   "metadata": {
    "collapsed": false
   },
   "outputs": [],
   "source": [
    "metal_cred = [res['metal_cred'] for res in reviews.find({},{'metal_cred':1,'_id':0})]"
   ]
  },
  {
   "cell_type": "code",
   "execution_count": 230,
   "metadata": {
    "collapsed": false
   },
   "outputs": [],
   "source": [
    "import pandas as pd"
   ]
  },
  {
   "cell_type": "code",
   "execution_count": 231,
   "metadata": {
    "collapsed": false
   },
   "outputs": [],
   "source": [
    "metal_cred = pd.DataFrame({'year':years,'metal_cred':metal_cred})\n",
    "metal_cred = metal_cred[['year','metal_cred']]"
   ]
  },
  {
   "cell_type": "code",
   "execution_count": 232,
   "metadata": {
    "collapsed": false
   },
   "outputs": [
    {
     "data": {
      "text/html": [
       "<div>\n",
       "<table border=\"1\" class=\"dataframe\">\n",
       "  <thead>\n",
       "    <tr style=\"text-align: right;\">\n",
       "      <th></th>\n",
       "      <th>year</th>\n",
       "      <th>metal_cred</th>\n",
       "    </tr>\n",
       "  </thead>\n",
       "  <tbody>\n",
       "    <tr>\n",
       "      <th>0</th>\n",
       "      <td>1971</td>\n",
       "      <td>[METAL CRED, Frank Zappa, Nun Desecration]</td>\n",
       "    </tr>\n",
       "    <tr>\n",
       "      <th>1</th>\n",
       "      <td>2006</td>\n",
       "      <td>[METAL CRED, Sword and Sorcery, Battle Elephan...</td>\n",
       "    </tr>\n",
       "    <tr>\n",
       "      <th>2</th>\n",
       "      <td>1984</td>\n",
       "      <td>[METAL CRED, Post-Apocalypse, Big Brother, 198...</td>\n",
       "    </tr>\n",
       "  </tbody>\n",
       "</table>\n",
       "</div>"
      ],
      "text/plain": [
       "   year                                         metal_cred\n",
       "0  1971         [METAL CRED, Frank Zappa, Nun Desecration]\n",
       "1  2006  [METAL CRED, Sword and Sorcery, Battle Elephan...\n",
       "2  1984  [METAL CRED, Post-Apocalypse, Big Brother, 198..."
      ]
     },
     "execution_count": 232,
     "metadata": {},
     "output_type": "execute_result"
    }
   ],
   "source": [
    "metal_cred.head(3)"
   ]
  },
  {
   "cell_type": "markdown",
   "metadata": {},
   "source": [
    "METAL CRED should not be a metal_cred so I will exclude that one."
   ]
  },
  {
   "cell_type": "code",
   "execution_count": 233,
   "metadata": {
    "collapsed": false
   },
   "outputs": [],
   "source": [
    "metal_cred['decade'] = [(year-1900)/10 for year in metal_cred.year]"
   ]
  },
  {
   "cell_type": "code",
   "execution_count": 234,
   "metadata": {
    "collapsed": false
   },
   "outputs": [
    {
     "data": {
      "text/plain": [
       "8     287\n",
       "10    162\n",
       "7     160\n",
       "9     108\n",
       "11     71\n",
       "6      39\n",
       "3       8\n",
       "5       7\n",
       "2       7\n",
       "4       5\n",
       "1       2\n",
       "Name: decade, dtype: int64"
      ]
     },
     "execution_count": 234,
     "metadata": {},
     "output_type": "execute_result"
    }
   ],
   "source": [
    "metal_cred.decade.value_counts()"
   ]
  },
  {
   "cell_type": "code",
   "execution_count": 235,
   "metadata": {
    "collapsed": true
   },
   "outputs": [],
   "source": [
    "metal_cred = metal_cred[metal_cred.decade.isin([7,8,9,10])].drop('year',axis=1)"
   ]
  },
  {
   "cell_type": "code",
   "execution_count": 236,
   "metadata": {
    "collapsed": false
   },
   "outputs": [
    {
     "name": "stdout",
     "output_type": "stream",
     "text": [
      "Decade: 1970\n",
      "\n",
      "satan 19\n",
      "black mass 10\n",
      "video nasty 7\n",
      "post-apocalypse 7\n",
      "zombies 6\n",
      "\n",
      "Decade: 1980\n",
      "\n",
      "post-apocalypse 29\n",
      "sword and sorcery 21\n",
      "satan 16\n",
      "80s slasher 13\n",
      "video nasty 12\n",
      "\n",
      "Decade: 1990\n",
      "\n",
      "satan 7\n",
      "gwar 6\n",
      "post-apocalypse 4\n",
      "lemmy 4\n",
      "ozzy osbourne 3\n",
      "\n",
      "Decade: 2000\n",
      "\n",
      "torture porn 11\n",
      "satan 7\n",
      "metalcred 5\n",
      "jigsaw 4\n",
      "music score: charlie clouser 4\n",
      "\n"
     ]
    }
   ],
   "source": [
    "for decade,df in metal_cred.groupby('decade'):\n",
    "    print 'Decade: %d' % (10*decade+1900,)\n",
    "    metal_cred_counter = Counter([mc.encode('ascii','replace').replace('?',' ').replace('\\n','').lower().strip() for lmc in df.metal_cred for mc in lmc if mc!='METAL CRED'])\n",
    "    print\n",
    "    for key in sorted(metal_cred_counter,key=metal_cred_counter.get)[::-1][:5]:\n",
    "        print key,metal_cred_counter[key]\n",
    "    print"
   ]
  },
  {
   "cell_type": "markdown",
   "metadata": {},
   "source": [
    "This just got dark.."
   ]
  },
  {
   "cell_type": "markdown",
   "metadata": {},
   "source": [
    "**Challenge 5**"
   ]
  },
  {
   "cell_type": "code",
   "execution_count": 250,
   "metadata": {
    "collapsed": false
   },
   "outputs": [],
   "source": [
    "for doc in reviews.find():\n",
    "     reviews.update_one({'_id': doc['_id']},{\"$set\":{'metal_score':len(doc['metal_cred'])}})"
   ]
  },
  {
   "cell_type": "markdown",
   "metadata": {},
   "source": [
    "**Challenge 6**"
   ]
  },
  {
   "cell_type": "code",
   "execution_count": 263,
   "metadata": {
    "collapsed": true
   },
   "outputs": [],
   "source": [
    "directors = [res['direct'] for res in reviews.find({},{'direct':1,'_id':0})]\n",
    "metal_score = [res['metal_score'] for res in reviews.find({},{'metal_score':1,'_id':0})]\n",
    "directors_score = pd.DataFrame({'directors':directors,'metal_score':metal_score})"
   ]
  },
  {
   "cell_type": "code",
   "execution_count": 269,
   "metadata": {
    "collapsed": false
   },
   "outputs": [],
   "source": [
    "from collections import defaultdict\n",
    "d_scores = defaultdict(list)\n",
    "for index,row in directors_score.iterrows():\n",
    "    for d in row.directors:\n",
    "        if d!='':\n",
    "            d_scores[d].append(row.metal_score)"
   ]
  },
  {
   "cell_type": "code",
   "execution_count": 271,
   "metadata": {
    "collapsed": false
   },
   "outputs": [],
   "source": [
    "import numpy as np\n",
    "d_ave_scores = {key:np.mean(d_scores[key]) for key in d_scores}"
   ]
  },
  {
   "cell_type": "code",
   "execution_count": 272,
   "metadata": {
    "collapsed": false
   },
   "outputs": [
    {
     "name": "stdout",
     "output_type": "stream",
     "text": [
      "John Milius 75.0\n",
      "David Jacobson 27.0\n",
      "Robert Hendrickson 18.0\n",
      "Laurence Merrick 18.0\n",
      "Tinto Brass 13.0\n"
     ]
    }
   ],
   "source": [
    "for key in sorted(d_ave_scores,key=d_ave_scores.get,reverse=True)[0:5]:\n",
    "    print key,d_ave_scores[key]"
   ]
  },
  {
   "cell_type": "markdown",
   "metadata": {},
   "source": [
    "That guy must be really hardcore."
   ]
  },
  {
   "cell_type": "markdown",
   "metadata": {},
   "source": [
    "**Challenge 7**"
   ]
  },
  {
   "cell_type": "code",
   "execution_count": 274,
   "metadata": {
    "collapsed": false
   },
   "outputs": [],
   "source": [
    "cast = [res['cast'] for res in reviews.find({},{'cast':1,'_id':0})]"
   ]
  },
  {
   "cell_type": "code",
   "execution_count": 276,
   "metadata": {
    "collapsed": false
   },
   "outputs": [],
   "source": [
    "collaborator_count = defaultdict(int)\n",
    "for c,d in zip(cast,directors):\n",
    "    for actor in c:\n",
    "        if actor!='':\n",
    "            for director in d:\n",
    "                if director!='':\n",
    "                    collaborator_count[(actor,director)] += 1"
   ]
  },
  {
   "cell_type": "code",
   "execution_count": 277,
   "metadata": {
    "collapsed": false
   },
   "outputs": [
    {
     "name": "stdout",
     "output_type": "stream",
     "text": [
      "(u'Christopher Lee', u'Peter Jackson') 4\n",
      "(u'Sheri Moon Zombie', u'Rob Zombie') 4\n",
      "(u'George Eastman', u'Joe D\\u2019Amato') 4\n",
      "(u'Daria Nicolodi', u'Dario Argento') 4\n",
      "(u'Jason Baldwin', u'Joe Berlinger') 3\n"
     ]
    }
   ],
   "source": [
    "for key in sorted(collaborator_count,key=collaborator_count.get,reverse=True)[0:5]:\n",
    "    print key,collaborator_count[key]"
   ]
  },
  {
   "cell_type": "markdown",
   "metadata": {},
   "source": [
    "**Challenge 8**"
   ]
  },
  {
   "cell_type": "code",
   "execution_count": 297,
   "metadata": {
    "collapsed": false
   },
   "outputs": [],
   "source": [
    "result = reviews.create_index([('direct', pymongo.ASCENDING)],unique=False)"
   ]
  },
  {
   "cell_type": "code",
   "execution_count": 298,
   "metadata": {
    "collapsed": false
   },
   "outputs": [
    {
     "data": {
      "text/plain": [
       "[u'direct_1', u'_id_']"
      ]
     },
     "execution_count": 298,
     "metadata": {},
     "output_type": "execute_result"
    }
   ],
   "source": [
    "list(reviews.index_information())"
   ]
  },
  {
   "cell_type": "markdown",
   "metadata": {},
   "source": [
    "**Twitter API**"
   ]
  },
  {
   "cell_type": "code",
   "execution_count": 304,
   "metadata": {
    "collapsed": true
   },
   "outputs": [],
   "source": [
    "import requests\n",
    "from requests_oauthlib import OAuth1"
   ]
  },
  {
   "cell_type": "code",
   "execution_count": 305,
   "metadata": {
    "collapsed": false
   },
   "outputs": [],
   "source": [
    "import cnfg\n",
    "config = cnfg.load(\".twitter_config\")\n",
    "\n",
    "oauth = OAuth1(config[\"consumer_key\"],\n",
    "               config[\"consumer_secret\"],\n",
    "               config[\"access_token\"],\n",
    "               config[\"access_token_secret\"])"
   ]
  },
  {
   "cell_type": "code",
   "execution_count": 357,
   "metadata": {
    "collapsed": true
   },
   "outputs": [],
   "source": [
    "db = client['dogparty']\n",
    "dog_party = db.dog_party"
   ]
  },
  {
   "cell_type": "code",
   "execution_count": 350,
   "metadata": {
    "collapsed": false
   },
   "outputs": [],
   "source": [
    "parameters = {\"q\": [\"dog, party\"], 'language':'en', \"count\":1500, \"exclude\":'nativeretweets',\"exclude\":'retweets'}\n",
    "response = requests.get(\"https://api.twitter.com/1.1/search/tweets.json\",\n",
    "                        params = parameters,\n",
    "                        auth=oauth)"
   ]
  },
  {
   "cell_type": "code",
   "execution_count": 351,
   "metadata": {
    "collapsed": true
   },
   "outputs": [],
   "source": [
    "tweets = response.json()['statuses']"
   ]
  },
  {
   "cell_type": "code",
   "execution_count": 352,
   "metadata": {
    "collapsed": false
   },
   "outputs": [
    {
     "name": "stdout",
     "output_type": "stream",
     "text": [
      "twigs_ebooks 2 0 I'm at a house party bitches. Im plsying beer pong the dog stole the ball lol.\n",
      "Guy_yop_025 0 0 https://t.co/TsQfw2im2I #4862 12x Female Pet Dog Dress Christmas Party Wear Moustache Fancy Costume Apparel M https://t.co/v5vKBWz7rg\n",
      "hellaubs 0 0 The best thing that can happen at a party is getting to meet a new dog \n",
      "kimberlyghughes 0 0 Mom Comes Home And Confronts Her Dog About The Giant Mess. He Points and Rats Out The Guilty Party. https://t.co/oMD3j0hTPg\n",
      "WXU_DEZ_052 0 0 https://t.co/tE5lqzhR4D #7172 SHABBY PINK LACE SIZE XSMALL DOG HARNESS DRESS PET WEDDING PARTY Bridesmaid https://t.co/KVwUKpOLIy\n",
      "uusseerrnnaamm 0 0 At a party for a dog with a bunch of old people. Where is my mind?\n",
      "lindywestdorp 0 0 found a dog at a party  and b&amp;w theme is hard https://t.co/zew6eD6IbH\n",
      "kaylzcurly 0 0 I'm out at a house party and I'm literally no lying spooning the massive dog in the middle of the living room #lifegoals #lovedogs \n",
      "Sophiiep99 2 0 My dog is my life ofc hes gonna have a party for hes first birthday\n",
      "Imthatpurple_ 0 1 Why is it called sausage party when it is about a hot dog??? \n"
     ]
    }
   ],
   "source": [
    "for tweet in tweets[0:10]:\n",
    "    print tweet['user']['screen_name'],tweet['favorite_count'],tweet['retweet_count'],tweet['text'].encode('ascii','ignore')"
   ]
  },
  {
   "cell_type": "code",
   "execution_count": 358,
   "metadata": {
    "collapsed": false
   },
   "outputs": [],
   "source": [
    "for tweet in tweets:\n",
    "    data = {}\n",
    "    data['screen_name'] = tweet['user']['screen_name']\n",
    "    data['favorite_count'] = tweet['favorite_count']\n",
    "    data['retweet_count'] = tweet['retweet_count']\n",
    "    data['text'] = tweet['text'].encode('ascii','ignore')\n",
    "    dog_party.insert_one(data)"
   ]
  },
  {
   "cell_type": "code",
   "execution_count": 359,
   "metadata": {
    "collapsed": false
   },
   "outputs": [
    {
     "data": {
      "text/plain": [
       "100"
      ]
     },
     "execution_count": 359,
     "metadata": {},
     "output_type": "execute_result"
    }
   ],
   "source": [
    "dog_party.count()"
   ]
  }
 ],
 "metadata": {
  "kernelspec": {
   "display_name": "Python 2",
   "language": "python",
   "name": "python2"
  },
  "language_info": {
   "codemirror_mode": {
    "name": "ipython",
    "version": 2
   },
   "file_extension": ".py",
   "mimetype": "text/x-python",
   "name": "python",
   "nbconvert_exporter": "python",
   "pygments_lexer": "ipython2",
   "version": "2.7.11"
  }
 },
 "nbformat": 4,
 "nbformat_minor": 0
}
