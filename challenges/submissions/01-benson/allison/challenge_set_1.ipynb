{
 "cells": [
  {
   "cell_type": "markdown",
   "metadata": {},
   "source": [
    "Challenge 1  \n",
    "Allison Schlissel  \n",
    "  \n",
    "Q1  "
   ]
  },
  {
   "cell_type": "code",
   "execution_count": 169,
   "metadata": {
    "collapsed": false,
    "scrolled": true
   },
   "outputs": [
    {
     "data": {
      "text/html": [
       "<div>\n",
       "<table border=\"1\" class=\"dataframe\">\n",
       "  <thead>\n",
       "    <tr style=\"text-align: right;\">\n",
       "      <th></th>\n",
       "      <th>C/A</th>\n",
       "      <th>UNIT</th>\n",
       "      <th>SCP</th>\n",
       "      <th>STATION</th>\n",
       "      <th>LINENAME</th>\n",
       "      <th>DIVISION</th>\n",
       "      <th>DATE</th>\n",
       "      <th>TIME</th>\n",
       "      <th>DESC</th>\n",
       "      <th>ENTRIES</th>\n",
       "      <th>EXITS</th>\n",
       "    </tr>\n",
       "  </thead>\n",
       "  <tbody>\n",
       "    <tr>\n",
       "      <th>0</th>\n",
       "      <td>A002</td>\n",
       "      <td>R051</td>\n",
       "      <td>02-00-00</td>\n",
       "      <td>59 ST</td>\n",
       "      <td>NQR456</td>\n",
       "      <td>BMT</td>\n",
       "      <td>06/18/2016</td>\n",
       "      <td>00:00:00</td>\n",
       "      <td>REGULAR</td>\n",
       "      <td>5704958.0</td>\n",
       "      <td>1934814.0</td>\n",
       "    </tr>\n",
       "    <tr>\n",
       "      <th>1</th>\n",
       "      <td>A002</td>\n",
       "      <td>R051</td>\n",
       "      <td>02-00-00</td>\n",
       "      <td>59 ST</td>\n",
       "      <td>NQR456</td>\n",
       "      <td>BMT</td>\n",
       "      <td>06/18/2016</td>\n",
       "      <td>04:00:00</td>\n",
       "      <td>REGULAR</td>\n",
       "      <td>5704958.0</td>\n",
       "      <td>1934829.0</td>\n",
       "    </tr>\n",
       "    <tr>\n",
       "      <th>2</th>\n",
       "      <td>A002</td>\n",
       "      <td>R051</td>\n",
       "      <td>02-00-00</td>\n",
       "      <td>59 ST</td>\n",
       "      <td>NQR456</td>\n",
       "      <td>BMT</td>\n",
       "      <td>06/18/2016</td>\n",
       "      <td>08:00:00</td>\n",
       "      <td>REGULAR</td>\n",
       "      <td>5704958.0</td>\n",
       "      <td>1934886.0</td>\n",
       "    </tr>\n",
       "    <tr>\n",
       "      <th>3</th>\n",
       "      <td>A002</td>\n",
       "      <td>R051</td>\n",
       "      <td>02-00-00</td>\n",
       "      <td>59 ST</td>\n",
       "      <td>NQR456</td>\n",
       "      <td>BMT</td>\n",
       "      <td>06/18/2016</td>\n",
       "      <td>12:00:00</td>\n",
       "      <td>REGULAR</td>\n",
       "      <td>5704958.0</td>\n",
       "      <td>1934993.0</td>\n",
       "    </tr>\n",
       "    <tr>\n",
       "      <th>4</th>\n",
       "      <td>A002</td>\n",
       "      <td>R051</td>\n",
       "      <td>02-00-00</td>\n",
       "      <td>59 ST</td>\n",
       "      <td>NQR456</td>\n",
       "      <td>BMT</td>\n",
       "      <td>06/18/2016</td>\n",
       "      <td>16:00:00</td>\n",
       "      <td>REGULAR</td>\n",
       "      <td>5704958.0</td>\n",
       "      <td>1935069.0</td>\n",
       "    </tr>\n",
       "    <tr>\n",
       "      <th>5</th>\n",
       "      <td>A002</td>\n",
       "      <td>R051</td>\n",
       "      <td>02-00-00</td>\n",
       "      <td>59 ST</td>\n",
       "      <td>NQR456</td>\n",
       "      <td>BMT</td>\n",
       "      <td>06/18/2016</td>\n",
       "      <td>20:00:00</td>\n",
       "      <td>REGULAR</td>\n",
       "      <td>5704958.0</td>\n",
       "      <td>1935132.0</td>\n",
       "    </tr>\n",
       "    <tr>\n",
       "      <th>6</th>\n",
       "      <td>A002</td>\n",
       "      <td>R051</td>\n",
       "      <td>02-00-00</td>\n",
       "      <td>59 ST</td>\n",
       "      <td>NQR456</td>\n",
       "      <td>BMT</td>\n",
       "      <td>06/19/2016</td>\n",
       "      <td>00:00:00</td>\n",
       "      <td>REGULAR</td>\n",
       "      <td>5704958.0</td>\n",
       "      <td>1935168.0</td>\n",
       "    </tr>\n",
       "    <tr>\n",
       "      <th>7</th>\n",
       "      <td>A002</td>\n",
       "      <td>R051</td>\n",
       "      <td>02-00-00</td>\n",
       "      <td>59 ST</td>\n",
       "      <td>NQR456</td>\n",
       "      <td>BMT</td>\n",
       "      <td>06/19/2016</td>\n",
       "      <td>04:00:00</td>\n",
       "      <td>REGULAR</td>\n",
       "      <td>5704958.0</td>\n",
       "      <td>1935172.0</td>\n",
       "    </tr>\n",
       "    <tr>\n",
       "      <th>8</th>\n",
       "      <td>A002</td>\n",
       "      <td>R051</td>\n",
       "      <td>02-00-00</td>\n",
       "      <td>59 ST</td>\n",
       "      <td>NQR456</td>\n",
       "      <td>BMT</td>\n",
       "      <td>06/19/2016</td>\n",
       "      <td>08:00:00</td>\n",
       "      <td>REGULAR</td>\n",
       "      <td>5704958.0</td>\n",
       "      <td>1935207.0</td>\n",
       "    </tr>\n",
       "    <tr>\n",
       "      <th>9</th>\n",
       "      <td>A002</td>\n",
       "      <td>R051</td>\n",
       "      <td>02-00-00</td>\n",
       "      <td>59 ST</td>\n",
       "      <td>NQR456</td>\n",
       "      <td>BMT</td>\n",
       "      <td>06/19/2016</td>\n",
       "      <td>12:00:00</td>\n",
       "      <td>REGULAR</td>\n",
       "      <td>5704958.0</td>\n",
       "      <td>1935302.0</td>\n",
       "    </tr>\n",
       "    <tr>\n",
       "      <th>10</th>\n",
       "      <td>A002</td>\n",
       "      <td>R051</td>\n",
       "      <td>02-00-00</td>\n",
       "      <td>59 ST</td>\n",
       "      <td>NQR456</td>\n",
       "      <td>BMT</td>\n",
       "      <td>06/19/2016</td>\n",
       "      <td>16:00:00</td>\n",
       "      <td>REGULAR</td>\n",
       "      <td>5704971.0</td>\n",
       "      <td>1935412.0</td>\n",
       "    </tr>\n",
       "    <tr>\n",
       "      <th>11</th>\n",
       "      <td>A002</td>\n",
       "      <td>R051</td>\n",
       "      <td>02-00-00</td>\n",
       "      <td>59 ST</td>\n",
       "      <td>NQR456</td>\n",
       "      <td>BMT</td>\n",
       "      <td>06/19/2016</td>\n",
       "      <td>20:00:00</td>\n",
       "      <td>REGULAR</td>\n",
       "      <td>5705201.0</td>\n",
       "      <td>1935466.0</td>\n",
       "    </tr>\n",
       "    <tr>\n",
       "      <th>12</th>\n",
       "      <td>A002</td>\n",
       "      <td>R051</td>\n",
       "      <td>02-00-00</td>\n",
       "      <td>59 ST</td>\n",
       "      <td>NQR456</td>\n",
       "      <td>BMT</td>\n",
       "      <td>06/20/2016</td>\n",
       "      <td>00:00:00</td>\n",
       "      <td>REGULAR</td>\n",
       "      <td>5705337.0</td>\n",
       "      <td>1935508.0</td>\n",
       "    </tr>\n",
       "    <tr>\n",
       "      <th>13</th>\n",
       "      <td>A002</td>\n",
       "      <td>R051</td>\n",
       "      <td>02-00-00</td>\n",
       "      <td>59 ST</td>\n",
       "      <td>NQR456</td>\n",
       "      <td>BMT</td>\n",
       "      <td>06/20/2016</td>\n",
       "      <td>04:00:00</td>\n",
       "      <td>REGULAR</td>\n",
       "      <td>5705342.0</td>\n",
       "      <td>1935512.0</td>\n",
       "    </tr>\n",
       "    <tr>\n",
       "      <th>14</th>\n",
       "      <td>A002</td>\n",
       "      <td>R051</td>\n",
       "      <td>02-00-00</td>\n",
       "      <td>59 ST</td>\n",
       "      <td>NQR456</td>\n",
       "      <td>BMT</td>\n",
       "      <td>06/20/2016</td>\n",
       "      <td>08:00:00</td>\n",
       "      <td>REGULAR</td>\n",
       "      <td>5705373.0</td>\n",
       "      <td>1935608.0</td>\n",
       "    </tr>\n",
       "    <tr>\n",
       "      <th>15</th>\n",
       "      <td>A002</td>\n",
       "      <td>R051</td>\n",
       "      <td>02-00-00</td>\n",
       "      <td>59 ST</td>\n",
       "      <td>NQR456</td>\n",
       "      <td>BMT</td>\n",
       "      <td>06/20/2016</td>\n",
       "      <td>12:00:00</td>\n",
       "      <td>REGULAR</td>\n",
       "      <td>5705528.0</td>\n",
       "      <td>1935882.0</td>\n",
       "    </tr>\n",
       "    <tr>\n",
       "      <th>16</th>\n",
       "      <td>A002</td>\n",
       "      <td>R051</td>\n",
       "      <td>02-00-00</td>\n",
       "      <td>59 ST</td>\n",
       "      <td>NQR456</td>\n",
       "      <td>BMT</td>\n",
       "      <td>06/20/2016</td>\n",
       "      <td>16:00:00</td>\n",
       "      <td>REGULAR</td>\n",
       "      <td>5705812.0</td>\n",
       "      <td>1935945.0</td>\n",
       "    </tr>\n",
       "    <tr>\n",
       "      <th>17</th>\n",
       "      <td>A002</td>\n",
       "      <td>R051</td>\n",
       "      <td>02-00-00</td>\n",
       "      <td>59 ST</td>\n",
       "      <td>NQR456</td>\n",
       "      <td>BMT</td>\n",
       "      <td>06/20/2016</td>\n",
       "      <td>20:00:00</td>\n",
       "      <td>REGULAR</td>\n",
       "      <td>5706615.0</td>\n",
       "      <td>1936036.0</td>\n",
       "    </tr>\n",
       "    <tr>\n",
       "      <th>18</th>\n",
       "      <td>A002</td>\n",
       "      <td>R051</td>\n",
       "      <td>02-00-00</td>\n",
       "      <td>59 ST</td>\n",
       "      <td>NQR456</td>\n",
       "      <td>BMT</td>\n",
       "      <td>06/21/2016</td>\n",
       "      <td>00:00:00</td>\n",
       "      <td>REGULAR</td>\n",
       "      <td>5706844.0</td>\n",
       "      <td>1936061.0</td>\n",
       "    </tr>\n",
       "    <tr>\n",
       "      <th>19</th>\n",
       "      <td>A002</td>\n",
       "      <td>R051</td>\n",
       "      <td>02-00-00</td>\n",
       "      <td>59 ST</td>\n",
       "      <td>NQR456</td>\n",
       "      <td>BMT</td>\n",
       "      <td>06/21/2016</td>\n",
       "      <td>04:00:00</td>\n",
       "      <td>REGULAR</td>\n",
       "      <td>5706861.0</td>\n",
       "      <td>1936066.0</td>\n",
       "    </tr>\n",
       "    <tr>\n",
       "      <th>20</th>\n",
       "      <td>A002</td>\n",
       "      <td>R051</td>\n",
       "      <td>02-00-00</td>\n",
       "      <td>59 ST</td>\n",
       "      <td>NQR456</td>\n",
       "      <td>BMT</td>\n",
       "      <td>06/21/2016</td>\n",
       "      <td>08:00:00</td>\n",
       "      <td>REGULAR</td>\n",
       "      <td>5706906.0</td>\n",
       "      <td>1936181.0</td>\n",
       "    </tr>\n",
       "    <tr>\n",
       "      <th>21</th>\n",
       "      <td>A002</td>\n",
       "      <td>R051</td>\n",
       "      <td>02-00-00</td>\n",
       "      <td>59 ST</td>\n",
       "      <td>NQR456</td>\n",
       "      <td>BMT</td>\n",
       "      <td>06/21/2016</td>\n",
       "      <td>12:00:00</td>\n",
       "      <td>REGULAR</td>\n",
       "      <td>5707090.0</td>\n",
       "      <td>1936447.0</td>\n",
       "    </tr>\n",
       "    <tr>\n",
       "      <th>22</th>\n",
       "      <td>A002</td>\n",
       "      <td>R051</td>\n",
       "      <td>02-00-00</td>\n",
       "      <td>59 ST</td>\n",
       "      <td>NQR456</td>\n",
       "      <td>BMT</td>\n",
       "      <td>06/21/2016</td>\n",
       "      <td>16:00:00</td>\n",
       "      <td>REGULAR</td>\n",
       "      <td>5707410.0</td>\n",
       "      <td>1936528.0</td>\n",
       "    </tr>\n",
       "    <tr>\n",
       "      <th>23</th>\n",
       "      <td>A002</td>\n",
       "      <td>R051</td>\n",
       "      <td>02-00-00</td>\n",
       "      <td>59 ST</td>\n",
       "      <td>NQR456</td>\n",
       "      <td>BMT</td>\n",
       "      <td>06/21/2016</td>\n",
       "      <td>20:00:00</td>\n",
       "      <td>REGULAR</td>\n",
       "      <td>5708294.0</td>\n",
       "      <td>1936616.0</td>\n",
       "    </tr>\n",
       "    <tr>\n",
       "      <th>24</th>\n",
       "      <td>A002</td>\n",
       "      <td>R051</td>\n",
       "      <td>02-00-00</td>\n",
       "      <td>59 ST</td>\n",
       "      <td>NQR456</td>\n",
       "      <td>BMT</td>\n",
       "      <td>06/22/2016</td>\n",
       "      <td>00:00:00</td>\n",
       "      <td>REGULAR</td>\n",
       "      <td>5708543.0</td>\n",
       "      <td>1936656.0</td>\n",
       "    </tr>\n",
       "    <tr>\n",
       "      <th>25</th>\n",
       "      <td>A002</td>\n",
       "      <td>R051</td>\n",
       "      <td>02-00-00</td>\n",
       "      <td>59 ST</td>\n",
       "      <td>NQR456</td>\n",
       "      <td>BMT</td>\n",
       "      <td>06/22/2016</td>\n",
       "      <td>04:00:00</td>\n",
       "      <td>REGULAR</td>\n",
       "      <td>5708562.0</td>\n",
       "      <td>1936667.0</td>\n",
       "    </tr>\n",
       "    <tr>\n",
       "      <th>26</th>\n",
       "      <td>A002</td>\n",
       "      <td>R051</td>\n",
       "      <td>02-00-00</td>\n",
       "      <td>59 ST</td>\n",
       "      <td>NQR456</td>\n",
       "      <td>BMT</td>\n",
       "      <td>06/22/2016</td>\n",
       "      <td>08:00:00</td>\n",
       "      <td>REGULAR</td>\n",
       "      <td>5708592.0</td>\n",
       "      <td>1936769.0</td>\n",
       "    </tr>\n",
       "    <tr>\n",
       "      <th>27</th>\n",
       "      <td>A002</td>\n",
       "      <td>R051</td>\n",
       "      <td>02-00-00</td>\n",
       "      <td>59 ST</td>\n",
       "      <td>NQR456</td>\n",
       "      <td>BMT</td>\n",
       "      <td>06/22/2016</td>\n",
       "      <td>12:00:00</td>\n",
       "      <td>REGULAR</td>\n",
       "      <td>5708773.0</td>\n",
       "      <td>1937054.0</td>\n",
       "    </tr>\n",
       "    <tr>\n",
       "      <th>28</th>\n",
       "      <td>A002</td>\n",
       "      <td>R051</td>\n",
       "      <td>02-00-00</td>\n",
       "      <td>59 ST</td>\n",
       "      <td>NQR456</td>\n",
       "      <td>BMT</td>\n",
       "      <td>06/22/2016</td>\n",
       "      <td>16:00:00</td>\n",
       "      <td>REGULAR</td>\n",
       "      <td>5709110.0</td>\n",
       "      <td>1937129.0</td>\n",
       "    </tr>\n",
       "    <tr>\n",
       "      <th>29</th>\n",
       "      <td>A002</td>\n",
       "      <td>R051</td>\n",
       "      <td>02-00-00</td>\n",
       "      <td>59 ST</td>\n",
       "      <td>NQR456</td>\n",
       "      <td>BMT</td>\n",
       "      <td>06/22/2016</td>\n",
       "      <td>20:00:00</td>\n",
       "      <td>REGULAR</td>\n",
       "      <td>5709992.0</td>\n",
       "      <td>1937199.0</td>\n",
       "    </tr>\n",
       "    <tr>\n",
       "      <th>...</th>\n",
       "      <td>...</td>\n",
       "      <td>...</td>\n",
       "      <td>...</td>\n",
       "      <td>...</td>\n",
       "      <td>...</td>\n",
       "      <td>...</td>\n",
       "      <td>...</td>\n",
       "      <td>...</td>\n",
       "      <td>...</td>\n",
       "      <td>...</td>\n",
       "      <td>...</td>\n",
       "    </tr>\n",
       "    <tr>\n",
       "      <th>70</th>\n",
       "      <td>A002</td>\n",
       "      <td>R051</td>\n",
       "      <td>02-00-01</td>\n",
       "      <td>59 ST</td>\n",
       "      <td>NQR456</td>\n",
       "      <td>BMT</td>\n",
       "      <td>06/22/2016</td>\n",
       "      <td>16:00:00</td>\n",
       "      <td>REGULAR</td>\n",
       "      <td>5252588.0</td>\n",
       "      <td>1152306.0</td>\n",
       "    </tr>\n",
       "    <tr>\n",
       "      <th>71</th>\n",
       "      <td>A002</td>\n",
       "      <td>R051</td>\n",
       "      <td>02-00-01</td>\n",
       "      <td>59 ST</td>\n",
       "      <td>NQR456</td>\n",
       "      <td>BMT</td>\n",
       "      <td>06/22/2016</td>\n",
       "      <td>20:00:00</td>\n",
       "      <td>REGULAR</td>\n",
       "      <td>5253335.0</td>\n",
       "      <td>1152361.0</td>\n",
       "    </tr>\n",
       "    <tr>\n",
       "      <th>72</th>\n",
       "      <td>A002</td>\n",
       "      <td>R051</td>\n",
       "      <td>02-00-01</td>\n",
       "      <td>59 ST</td>\n",
       "      <td>NQR456</td>\n",
       "      <td>BMT</td>\n",
       "      <td>06/23/2016</td>\n",
       "      <td>00:00:00</td>\n",
       "      <td>REGULAR</td>\n",
       "      <td>5253572.0</td>\n",
       "      <td>1152389.0</td>\n",
       "    </tr>\n",
       "    <tr>\n",
       "      <th>73</th>\n",
       "      <td>A002</td>\n",
       "      <td>R051</td>\n",
       "      <td>02-00-01</td>\n",
       "      <td>59 ST</td>\n",
       "      <td>NQR456</td>\n",
       "      <td>BMT</td>\n",
       "      <td>06/23/2016</td>\n",
       "      <td>04:00:00</td>\n",
       "      <td>REGULAR</td>\n",
       "      <td>5253589.0</td>\n",
       "      <td>1152395.0</td>\n",
       "    </tr>\n",
       "    <tr>\n",
       "      <th>74</th>\n",
       "      <td>A002</td>\n",
       "      <td>R051</td>\n",
       "      <td>02-00-01</td>\n",
       "      <td>59 ST</td>\n",
       "      <td>NQR456</td>\n",
       "      <td>BMT</td>\n",
       "      <td>06/23/2016</td>\n",
       "      <td>08:00:00</td>\n",
       "      <td>REGULAR</td>\n",
       "      <td>5253640.0</td>\n",
       "      <td>1152430.0</td>\n",
       "    </tr>\n",
       "    <tr>\n",
       "      <th>75</th>\n",
       "      <td>A002</td>\n",
       "      <td>R051</td>\n",
       "      <td>02-00-01</td>\n",
       "      <td>59 ST</td>\n",
       "      <td>NQR456</td>\n",
       "      <td>BMT</td>\n",
       "      <td>06/23/2016</td>\n",
       "      <td>12:00:00</td>\n",
       "      <td>REGULAR</td>\n",
       "      <td>5253832.0</td>\n",
       "      <td>1152567.0</td>\n",
       "    </tr>\n",
       "    <tr>\n",
       "      <th>76</th>\n",
       "      <td>A002</td>\n",
       "      <td>R051</td>\n",
       "      <td>02-00-01</td>\n",
       "      <td>59 ST</td>\n",
       "      <td>NQR456</td>\n",
       "      <td>BMT</td>\n",
       "      <td>06/23/2016</td>\n",
       "      <td>16:00:00</td>\n",
       "      <td>REGULAR</td>\n",
       "      <td>5254090.0</td>\n",
       "      <td>1152617.0</td>\n",
       "    </tr>\n",
       "    <tr>\n",
       "      <th>77</th>\n",
       "      <td>A002</td>\n",
       "      <td>R051</td>\n",
       "      <td>02-00-01</td>\n",
       "      <td>59 ST</td>\n",
       "      <td>NQR456</td>\n",
       "      <td>BMT</td>\n",
       "      <td>06/23/2016</td>\n",
       "      <td>20:00:00</td>\n",
       "      <td>REGULAR</td>\n",
       "      <td>5254806.0</td>\n",
       "      <td>1152698.0</td>\n",
       "    </tr>\n",
       "    <tr>\n",
       "      <th>78</th>\n",
       "      <td>A002</td>\n",
       "      <td>R051</td>\n",
       "      <td>02-00-01</td>\n",
       "      <td>59 ST</td>\n",
       "      <td>NQR456</td>\n",
       "      <td>BMT</td>\n",
       "      <td>06/24/2016</td>\n",
       "      <td>00:00:00</td>\n",
       "      <td>REGULAR</td>\n",
       "      <td>5255018.0</td>\n",
       "      <td>1152717.0</td>\n",
       "    </tr>\n",
       "    <tr>\n",
       "      <th>79</th>\n",
       "      <td>A002</td>\n",
       "      <td>R051</td>\n",
       "      <td>02-00-01</td>\n",
       "      <td>59 ST</td>\n",
       "      <td>NQR456</td>\n",
       "      <td>BMT</td>\n",
       "      <td>06/24/2016</td>\n",
       "      <td>04:00:00</td>\n",
       "      <td>REGULAR</td>\n",
       "      <td>5255040.0</td>\n",
       "      <td>1152722.0</td>\n",
       "    </tr>\n",
       "    <tr>\n",
       "      <th>80</th>\n",
       "      <td>A002</td>\n",
       "      <td>R051</td>\n",
       "      <td>02-00-01</td>\n",
       "      <td>59 ST</td>\n",
       "      <td>NQR456</td>\n",
       "      <td>BMT</td>\n",
       "      <td>06/24/2016</td>\n",
       "      <td>08:00:00</td>\n",
       "      <td>REGULAR</td>\n",
       "      <td>5255081.0</td>\n",
       "      <td>1152765.0</td>\n",
       "    </tr>\n",
       "    <tr>\n",
       "      <th>81</th>\n",
       "      <td>A002</td>\n",
       "      <td>R051</td>\n",
       "      <td>02-00-01</td>\n",
       "      <td>59 ST</td>\n",
       "      <td>NQR456</td>\n",
       "      <td>BMT</td>\n",
       "      <td>06/24/2016</td>\n",
       "      <td>12:00:00</td>\n",
       "      <td>REGULAR</td>\n",
       "      <td>5255283.0</td>\n",
       "      <td>1152890.0</td>\n",
       "    </tr>\n",
       "    <tr>\n",
       "      <th>82</th>\n",
       "      <td>A002</td>\n",
       "      <td>R051</td>\n",
       "      <td>02-00-01</td>\n",
       "      <td>59 ST</td>\n",
       "      <td>NQR456</td>\n",
       "      <td>BMT</td>\n",
       "      <td>06/24/2016</td>\n",
       "      <td>16:00:00</td>\n",
       "      <td>REGULAR</td>\n",
       "      <td>5255573.0</td>\n",
       "      <td>1152951.0</td>\n",
       "    </tr>\n",
       "    <tr>\n",
       "      <th>83</th>\n",
       "      <td>A002</td>\n",
       "      <td>R051</td>\n",
       "      <td>02-00-01</td>\n",
       "      <td>59 ST</td>\n",
       "      <td>NQR456</td>\n",
       "      <td>BMT</td>\n",
       "      <td>06/24/2016</td>\n",
       "      <td>20:00:00</td>\n",
       "      <td>REGULAR</td>\n",
       "      <td>5256196.0</td>\n",
       "      <td>1152982.0</td>\n",
       "    </tr>\n",
       "    <tr>\n",
       "      <th>84</th>\n",
       "      <td>A002</td>\n",
       "      <td>R051</td>\n",
       "      <td>02-03-00</td>\n",
       "      <td>59 ST</td>\n",
       "      <td>NQR456</td>\n",
       "      <td>BMT</td>\n",
       "      <td>06/18/2016</td>\n",
       "      <td>00:00:00</td>\n",
       "      <td>REGULAR</td>\n",
       "      <td>719092.0</td>\n",
       "      <td>2714557.0</td>\n",
       "    </tr>\n",
       "    <tr>\n",
       "      <th>85</th>\n",
       "      <td>A002</td>\n",
       "      <td>R051</td>\n",
       "      <td>02-03-00</td>\n",
       "      <td>59 ST</td>\n",
       "      <td>NQR456</td>\n",
       "      <td>BMT</td>\n",
       "      <td>06/18/2016</td>\n",
       "      <td>04:00:00</td>\n",
       "      <td>REGULAR</td>\n",
       "      <td>719111.0</td>\n",
       "      <td>2714592.0</td>\n",
       "    </tr>\n",
       "    <tr>\n",
       "      <th>86</th>\n",
       "      <td>A002</td>\n",
       "      <td>R051</td>\n",
       "      <td>02-03-00</td>\n",
       "      <td>59 ST</td>\n",
       "      <td>NQR456</td>\n",
       "      <td>BMT</td>\n",
       "      <td>06/18/2016</td>\n",
       "      <td>08:00:00</td>\n",
       "      <td>REGULAR</td>\n",
       "      <td>719118.0</td>\n",
       "      <td>2714708.0</td>\n",
       "    </tr>\n",
       "    <tr>\n",
       "      <th>87</th>\n",
       "      <td>A002</td>\n",
       "      <td>R051</td>\n",
       "      <td>02-03-00</td>\n",
       "      <td>59 ST</td>\n",
       "      <td>NQR456</td>\n",
       "      <td>BMT</td>\n",
       "      <td>06/18/2016</td>\n",
       "      <td>12:00:00</td>\n",
       "      <td>REGULAR</td>\n",
       "      <td>719174.0</td>\n",
       "      <td>2715106.0</td>\n",
       "    </tr>\n",
       "    <tr>\n",
       "      <th>88</th>\n",
       "      <td>A002</td>\n",
       "      <td>R051</td>\n",
       "      <td>02-03-00</td>\n",
       "      <td>59 ST</td>\n",
       "      <td>NQR456</td>\n",
       "      <td>BMT</td>\n",
       "      <td>06/18/2016</td>\n",
       "      <td>16:00:00</td>\n",
       "      <td>REGULAR</td>\n",
       "      <td>719314.0</td>\n",
       "      <td>2715496.0</td>\n",
       "    </tr>\n",
       "    <tr>\n",
       "      <th>89</th>\n",
       "      <td>A002</td>\n",
       "      <td>R051</td>\n",
       "      <td>02-03-00</td>\n",
       "      <td>59 ST</td>\n",
       "      <td>NQR456</td>\n",
       "      <td>BMT</td>\n",
       "      <td>06/18/2016</td>\n",
       "      <td>20:00:00</td>\n",
       "      <td>REGULAR</td>\n",
       "      <td>719481.0</td>\n",
       "      <td>2715905.0</td>\n",
       "    </tr>\n",
       "    <tr>\n",
       "      <th>90</th>\n",
       "      <td>A002</td>\n",
       "      <td>R051</td>\n",
       "      <td>02-03-00</td>\n",
       "      <td>59 ST</td>\n",
       "      <td>NQR456</td>\n",
       "      <td>BMT</td>\n",
       "      <td>06/19/2016</td>\n",
       "      <td>00:00:00</td>\n",
       "      <td>REGULAR</td>\n",
       "      <td>719642.0</td>\n",
       "      <td>2716133.0</td>\n",
       "    </tr>\n",
       "    <tr>\n",
       "      <th>91</th>\n",
       "      <td>A002</td>\n",
       "      <td>R051</td>\n",
       "      <td>02-03-00</td>\n",
       "      <td>59 ST</td>\n",
       "      <td>NQR456</td>\n",
       "      <td>BMT</td>\n",
       "      <td>06/19/2016</td>\n",
       "      <td>04:00:00</td>\n",
       "      <td>REGULAR</td>\n",
       "      <td>719658.0</td>\n",
       "      <td>2716167.0</td>\n",
       "    </tr>\n",
       "    <tr>\n",
       "      <th>92</th>\n",
       "      <td>A002</td>\n",
       "      <td>R051</td>\n",
       "      <td>02-03-00</td>\n",
       "      <td>59 ST</td>\n",
       "      <td>NQR456</td>\n",
       "      <td>BMT</td>\n",
       "      <td>06/19/2016</td>\n",
       "      <td>08:00:00</td>\n",
       "      <td>REGULAR</td>\n",
       "      <td>719662.0</td>\n",
       "      <td>2716213.0</td>\n",
       "    </tr>\n",
       "    <tr>\n",
       "      <th>93</th>\n",
       "      <td>A002</td>\n",
       "      <td>R051</td>\n",
       "      <td>02-03-00</td>\n",
       "      <td>59 ST</td>\n",
       "      <td>NQR456</td>\n",
       "      <td>BMT</td>\n",
       "      <td>06/19/2016</td>\n",
       "      <td>12:00:00</td>\n",
       "      <td>REGULAR</td>\n",
       "      <td>719701.0</td>\n",
       "      <td>2716483.0</td>\n",
       "    </tr>\n",
       "    <tr>\n",
       "      <th>94</th>\n",
       "      <td>A002</td>\n",
       "      <td>R051</td>\n",
       "      <td>02-03-00</td>\n",
       "      <td>59 ST</td>\n",
       "      <td>NQR456</td>\n",
       "      <td>BMT</td>\n",
       "      <td>06/19/2016</td>\n",
       "      <td>16:00:00</td>\n",
       "      <td>REGULAR</td>\n",
       "      <td>719815.0</td>\n",
       "      <td>2716829.0</td>\n",
       "    </tr>\n",
       "    <tr>\n",
       "      <th>95</th>\n",
       "      <td>A002</td>\n",
       "      <td>R051</td>\n",
       "      <td>02-03-00</td>\n",
       "      <td>59 ST</td>\n",
       "      <td>NQR456</td>\n",
       "      <td>BMT</td>\n",
       "      <td>06/19/2016</td>\n",
       "      <td>20:00:00</td>\n",
       "      <td>REGULAR</td>\n",
       "      <td>719904.0</td>\n",
       "      <td>2717171.0</td>\n",
       "    </tr>\n",
       "    <tr>\n",
       "      <th>96</th>\n",
       "      <td>A002</td>\n",
       "      <td>R051</td>\n",
       "      <td>02-03-00</td>\n",
       "      <td>59 ST</td>\n",
       "      <td>NQR456</td>\n",
       "      <td>BMT</td>\n",
       "      <td>06/20/2016</td>\n",
       "      <td>00:00:00</td>\n",
       "      <td>REGULAR</td>\n",
       "      <td>719984.0</td>\n",
       "      <td>2717348.0</td>\n",
       "    </tr>\n",
       "    <tr>\n",
       "      <th>97</th>\n",
       "      <td>A002</td>\n",
       "      <td>R051</td>\n",
       "      <td>02-03-00</td>\n",
       "      <td>59 ST</td>\n",
       "      <td>NQR456</td>\n",
       "      <td>BMT</td>\n",
       "      <td>06/20/2016</td>\n",
       "      <td>04:00:00</td>\n",
       "      <td>REGULAR</td>\n",
       "      <td>719986.0</td>\n",
       "      <td>2717359.0</td>\n",
       "    </tr>\n",
       "    <tr>\n",
       "      <th>98</th>\n",
       "      <td>A002</td>\n",
       "      <td>R051</td>\n",
       "      <td>02-03-00</td>\n",
       "      <td>59 ST</td>\n",
       "      <td>NQR456</td>\n",
       "      <td>BMT</td>\n",
       "      <td>06/20/2016</td>\n",
       "      <td>08:00:00</td>\n",
       "      <td>REGULAR</td>\n",
       "      <td>719994.0</td>\n",
       "      <td>2717667.0</td>\n",
       "    </tr>\n",
       "    <tr>\n",
       "      <th>99</th>\n",
       "      <td>A002</td>\n",
       "      <td>R051</td>\n",
       "      <td>02-03-00</td>\n",
       "      <td>59 ST</td>\n",
       "      <td>NQR456</td>\n",
       "      <td>BMT</td>\n",
       "      <td>06/20/2016</td>\n",
       "      <td>12:00:00</td>\n",
       "      <td>REGULAR</td>\n",
       "      <td>720055.0</td>\n",
       "      <td>2718571.0</td>\n",
       "    </tr>\n",
       "  </tbody>\n",
       "</table>\n",
       "<p>100 rows × 11 columns</p>\n",
       "</div>"
      ],
      "text/plain": [
       "     C/A  UNIT       SCP STATION LINENAME DIVISION        DATE      TIME  \\\n",
       "0   A002  R051  02-00-00   59 ST   NQR456      BMT  06/18/2016  00:00:00   \n",
       "1   A002  R051  02-00-00   59 ST   NQR456      BMT  06/18/2016  04:00:00   \n",
       "2   A002  R051  02-00-00   59 ST   NQR456      BMT  06/18/2016  08:00:00   \n",
       "3   A002  R051  02-00-00   59 ST   NQR456      BMT  06/18/2016  12:00:00   \n",
       "4   A002  R051  02-00-00   59 ST   NQR456      BMT  06/18/2016  16:00:00   \n",
       "5   A002  R051  02-00-00   59 ST   NQR456      BMT  06/18/2016  20:00:00   \n",
       "6   A002  R051  02-00-00   59 ST   NQR456      BMT  06/19/2016  00:00:00   \n",
       "7   A002  R051  02-00-00   59 ST   NQR456      BMT  06/19/2016  04:00:00   \n",
       "8   A002  R051  02-00-00   59 ST   NQR456      BMT  06/19/2016  08:00:00   \n",
       "9   A002  R051  02-00-00   59 ST   NQR456      BMT  06/19/2016  12:00:00   \n",
       "10  A002  R051  02-00-00   59 ST   NQR456      BMT  06/19/2016  16:00:00   \n",
       "11  A002  R051  02-00-00   59 ST   NQR456      BMT  06/19/2016  20:00:00   \n",
       "12  A002  R051  02-00-00   59 ST   NQR456      BMT  06/20/2016  00:00:00   \n",
       "13  A002  R051  02-00-00   59 ST   NQR456      BMT  06/20/2016  04:00:00   \n",
       "14  A002  R051  02-00-00   59 ST   NQR456      BMT  06/20/2016  08:00:00   \n",
       "15  A002  R051  02-00-00   59 ST   NQR456      BMT  06/20/2016  12:00:00   \n",
       "16  A002  R051  02-00-00   59 ST   NQR456      BMT  06/20/2016  16:00:00   \n",
       "17  A002  R051  02-00-00   59 ST   NQR456      BMT  06/20/2016  20:00:00   \n",
       "18  A002  R051  02-00-00   59 ST   NQR456      BMT  06/21/2016  00:00:00   \n",
       "19  A002  R051  02-00-00   59 ST   NQR456      BMT  06/21/2016  04:00:00   \n",
       "20  A002  R051  02-00-00   59 ST   NQR456      BMT  06/21/2016  08:00:00   \n",
       "21  A002  R051  02-00-00   59 ST   NQR456      BMT  06/21/2016  12:00:00   \n",
       "22  A002  R051  02-00-00   59 ST   NQR456      BMT  06/21/2016  16:00:00   \n",
       "23  A002  R051  02-00-00   59 ST   NQR456      BMT  06/21/2016  20:00:00   \n",
       "24  A002  R051  02-00-00   59 ST   NQR456      BMT  06/22/2016  00:00:00   \n",
       "25  A002  R051  02-00-00   59 ST   NQR456      BMT  06/22/2016  04:00:00   \n",
       "26  A002  R051  02-00-00   59 ST   NQR456      BMT  06/22/2016  08:00:00   \n",
       "27  A002  R051  02-00-00   59 ST   NQR456      BMT  06/22/2016  12:00:00   \n",
       "28  A002  R051  02-00-00   59 ST   NQR456      BMT  06/22/2016  16:00:00   \n",
       "29  A002  R051  02-00-00   59 ST   NQR456      BMT  06/22/2016  20:00:00   \n",
       "..   ...   ...       ...     ...      ...      ...         ...       ...   \n",
       "70  A002  R051  02-00-01   59 ST   NQR456      BMT  06/22/2016  16:00:00   \n",
       "71  A002  R051  02-00-01   59 ST   NQR456      BMT  06/22/2016  20:00:00   \n",
       "72  A002  R051  02-00-01   59 ST   NQR456      BMT  06/23/2016  00:00:00   \n",
       "73  A002  R051  02-00-01   59 ST   NQR456      BMT  06/23/2016  04:00:00   \n",
       "74  A002  R051  02-00-01   59 ST   NQR456      BMT  06/23/2016  08:00:00   \n",
       "75  A002  R051  02-00-01   59 ST   NQR456      BMT  06/23/2016  12:00:00   \n",
       "76  A002  R051  02-00-01   59 ST   NQR456      BMT  06/23/2016  16:00:00   \n",
       "77  A002  R051  02-00-01   59 ST   NQR456      BMT  06/23/2016  20:00:00   \n",
       "78  A002  R051  02-00-01   59 ST   NQR456      BMT  06/24/2016  00:00:00   \n",
       "79  A002  R051  02-00-01   59 ST   NQR456      BMT  06/24/2016  04:00:00   \n",
       "80  A002  R051  02-00-01   59 ST   NQR456      BMT  06/24/2016  08:00:00   \n",
       "81  A002  R051  02-00-01   59 ST   NQR456      BMT  06/24/2016  12:00:00   \n",
       "82  A002  R051  02-00-01   59 ST   NQR456      BMT  06/24/2016  16:00:00   \n",
       "83  A002  R051  02-00-01   59 ST   NQR456      BMT  06/24/2016  20:00:00   \n",
       "84  A002  R051  02-03-00   59 ST   NQR456      BMT  06/18/2016  00:00:00   \n",
       "85  A002  R051  02-03-00   59 ST   NQR456      BMT  06/18/2016  04:00:00   \n",
       "86  A002  R051  02-03-00   59 ST   NQR456      BMT  06/18/2016  08:00:00   \n",
       "87  A002  R051  02-03-00   59 ST   NQR456      BMT  06/18/2016  12:00:00   \n",
       "88  A002  R051  02-03-00   59 ST   NQR456      BMT  06/18/2016  16:00:00   \n",
       "89  A002  R051  02-03-00   59 ST   NQR456      BMT  06/18/2016  20:00:00   \n",
       "90  A002  R051  02-03-00   59 ST   NQR456      BMT  06/19/2016  00:00:00   \n",
       "91  A002  R051  02-03-00   59 ST   NQR456      BMT  06/19/2016  04:00:00   \n",
       "92  A002  R051  02-03-00   59 ST   NQR456      BMT  06/19/2016  08:00:00   \n",
       "93  A002  R051  02-03-00   59 ST   NQR456      BMT  06/19/2016  12:00:00   \n",
       "94  A002  R051  02-03-00   59 ST   NQR456      BMT  06/19/2016  16:00:00   \n",
       "95  A002  R051  02-03-00   59 ST   NQR456      BMT  06/19/2016  20:00:00   \n",
       "96  A002  R051  02-03-00   59 ST   NQR456      BMT  06/20/2016  00:00:00   \n",
       "97  A002  R051  02-03-00   59 ST   NQR456      BMT  06/20/2016  04:00:00   \n",
       "98  A002  R051  02-03-00   59 ST   NQR456      BMT  06/20/2016  08:00:00   \n",
       "99  A002  R051  02-03-00   59 ST   NQR456      BMT  06/20/2016  12:00:00   \n",
       "\n",
       "       DESC    ENTRIES  \\\n",
       "0   REGULAR  5704958.0   \n",
       "1   REGULAR  5704958.0   \n",
       "2   REGULAR  5704958.0   \n",
       "3   REGULAR  5704958.0   \n",
       "4   REGULAR  5704958.0   \n",
       "5   REGULAR  5704958.0   \n",
       "6   REGULAR  5704958.0   \n",
       "7   REGULAR  5704958.0   \n",
       "8   REGULAR  5704958.0   \n",
       "9   REGULAR  5704958.0   \n",
       "10  REGULAR  5704971.0   \n",
       "11  REGULAR  5705201.0   \n",
       "12  REGULAR  5705337.0   \n",
       "13  REGULAR  5705342.0   \n",
       "14  REGULAR  5705373.0   \n",
       "15  REGULAR  5705528.0   \n",
       "16  REGULAR  5705812.0   \n",
       "17  REGULAR  5706615.0   \n",
       "18  REGULAR  5706844.0   \n",
       "19  REGULAR  5706861.0   \n",
       "20  REGULAR  5706906.0   \n",
       "21  REGULAR  5707090.0   \n",
       "22  REGULAR  5707410.0   \n",
       "23  REGULAR  5708294.0   \n",
       "24  REGULAR  5708543.0   \n",
       "25  REGULAR  5708562.0   \n",
       "26  REGULAR  5708592.0   \n",
       "27  REGULAR  5708773.0   \n",
       "28  REGULAR  5709110.0   \n",
       "29  REGULAR  5709992.0   \n",
       "..      ...        ...   \n",
       "70  REGULAR  5252588.0   \n",
       "71  REGULAR  5253335.0   \n",
       "72  REGULAR  5253572.0   \n",
       "73  REGULAR  5253589.0   \n",
       "74  REGULAR  5253640.0   \n",
       "75  REGULAR  5253832.0   \n",
       "76  REGULAR  5254090.0   \n",
       "77  REGULAR  5254806.0   \n",
       "78  REGULAR  5255018.0   \n",
       "79  REGULAR  5255040.0   \n",
       "80  REGULAR  5255081.0   \n",
       "81  REGULAR  5255283.0   \n",
       "82  REGULAR  5255573.0   \n",
       "83  REGULAR  5256196.0   \n",
       "84  REGULAR   719092.0   \n",
       "85  REGULAR   719111.0   \n",
       "86  REGULAR   719118.0   \n",
       "87  REGULAR   719174.0   \n",
       "88  REGULAR   719314.0   \n",
       "89  REGULAR   719481.0   \n",
       "90  REGULAR   719642.0   \n",
       "91  REGULAR   719658.0   \n",
       "92  REGULAR   719662.0   \n",
       "93  REGULAR   719701.0   \n",
       "94  REGULAR   719815.0   \n",
       "95  REGULAR   719904.0   \n",
       "96  REGULAR   719984.0   \n",
       "97  REGULAR   719986.0   \n",
       "98  REGULAR   719994.0   \n",
       "99  REGULAR   720055.0   \n",
       "\n",
       "    EXITS                                                                 \n",
       "0                                           1934814.0                     \n",
       "1                                           1934829.0                     \n",
       "2                                           1934886.0                     \n",
       "3                                           1934993.0                     \n",
       "4                                           1935069.0                     \n",
       "5                                           1935132.0                     \n",
       "6                                           1935168.0                     \n",
       "7                                           1935172.0                     \n",
       "8                                           1935207.0                     \n",
       "9                                           1935302.0                     \n",
       "10                                          1935412.0                     \n",
       "11                                          1935466.0                     \n",
       "12                                          1935508.0                     \n",
       "13                                          1935512.0                     \n",
       "14                                          1935608.0                     \n",
       "15                                          1935882.0                     \n",
       "16                                          1935945.0                     \n",
       "17                                          1936036.0                     \n",
       "18                                          1936061.0                     \n",
       "19                                          1936066.0                     \n",
       "20                                          1936181.0                     \n",
       "21                                          1936447.0                     \n",
       "22                                          1936528.0                     \n",
       "23                                          1936616.0                     \n",
       "24                                          1936656.0                     \n",
       "25                                          1936667.0                     \n",
       "26                                          1936769.0                     \n",
       "27                                          1937054.0                     \n",
       "28                                          1937129.0                     \n",
       "29                                          1937199.0                     \n",
       "..                                                ...                     \n",
       "70                                          1152306.0                     \n",
       "71                                          1152361.0                     \n",
       "72                                          1152389.0                     \n",
       "73                                          1152395.0                     \n",
       "74                                          1152430.0                     \n",
       "75                                          1152567.0                     \n",
       "76                                          1152617.0                     \n",
       "77                                          1152698.0                     \n",
       "78                                          1152717.0                     \n",
       "79                                          1152722.0                     \n",
       "80                                          1152765.0                     \n",
       "81                                          1152890.0                     \n",
       "82                                          1152951.0                     \n",
       "83                                          1152982.0                     \n",
       "84                                          2714557.0                     \n",
       "85                                          2714592.0                     \n",
       "86                                          2714708.0                     \n",
       "87                                          2715106.0                     \n",
       "88                                          2715496.0                     \n",
       "89                                          2715905.0                     \n",
       "90                                          2716133.0                     \n",
       "91                                          2716167.0                     \n",
       "92                                          2716213.0                     \n",
       "93                                          2716483.0                     \n",
       "94                                          2716829.0                     \n",
       "95                                          2717171.0                     \n",
       "96                                          2717348.0                     \n",
       "97                                          2717359.0                     \n",
       "98                                          2717667.0                     \n",
       "99                                          2718571.0                     \n",
       "\n",
       "[100 rows x 11 columns]"
      ]
     },
     "execution_count": 169,
     "metadata": {},
     "output_type": "execute_result"
    }
   ],
   "source": [
    "import pandas as pd\n",
    "df = pd.read_csv('turnstile_160625 copy.txt')\n",
    "df.head(100)"
   ]
  },
  {
   "cell_type": "code",
   "execution_count": 170,
   "metadata": {
    "collapsed": false
   },
   "outputs": [
    {
     "data": {
      "text/plain": [
       "['C/A',\n",
       " 'UNIT',\n",
       " 'SCP',\n",
       " 'STATION',\n",
       " 'LINENAME',\n",
       " 'DIVISION',\n",
       " 'DATE',\n",
       " 'TIME',\n",
       " 'DESC',\n",
       " 'ENTRIES',\n",
       " 'EXITS']"
      ]
     },
     "execution_count": 170,
     "metadata": {},
     "output_type": "execute_result"
    }
   ],
   "source": [
    "from collections import Counter\n",
    "from collections import defaultdict\n",
    "import csv\n",
    "with open('turnstile_160625 copy.txt', 'rb') as f:\n",
    "    csv_f = csv.reader(f)\n",
    "    rows = [[cell.strip() for cell in row] for row in csv_f]\n",
    "\n",
    "rows.pop(0)"
   ]
  },
  {
   "cell_type": "code",
   "execution_count": 171,
   "metadata": {
    "collapsed": false
   },
   "outputs": [
    {
     "name": "stdout",
     "output_type": "stream",
     "text": [
      "(('R190', 'R038', '00-00-02', '215 ST'), [['1', 'IRT', '06/18/2016', '00:00:00', 'REGULAR', '0003626353', '0000370951'], ['1', 'IRT', '06/18/2016', '04:00:00', 'RECOVR AUD', '0003626353', '0000370951'], ['1', 'IRT', '06/18/2016', '08:00:00', 'REGULAR', '0003626353', '0000370951'], ['1', 'IRT', '06/18/2016', '12:00:00', 'REGULAR', '0003626353', '0000370951'], ['1', 'IRT', '06/18/2016', '16:00:00', 'REGULAR', '0003626353', '0000370951'], ['1', 'IRT', '06/18/2016', '20:00:00', 'REGULAR', '0003626353', '0000370951'], ['1', 'IRT', '06/19/2016', '00:00:00', 'REGULAR', '0003626353', '0000370951'], ['1', 'IRT', '06/19/2016', '04:00:00', 'REGULAR', '0003626353', '0000370951'], ['1', 'IRT', '06/19/2016', '08:00:00', 'REGULAR', '0003626353', '0000370951'], ['1', 'IRT', '06/19/2016', '12:00:00', 'REGULAR', '0003626353', '0000370951'], ['1', 'IRT', '06/19/2016', '16:00:00', 'REGULAR', '0003626353', '0000370951'], ['1', 'IRT', '06/19/2016', '20:00:00', 'REGULAR', '0003626353', '0000370951'], ['1', 'IRT', '06/20/2016', '00:00:00', 'REGULAR', '0003626353', '0000370951'], ['1', 'IRT', '06/20/2016', '04:00:00', 'REGULAR', '0003626353', '0000370951'], ['1', 'IRT', '06/20/2016', '08:00:00', 'REGULAR', '0003626468', '0000370954'], ['1', 'IRT', '06/20/2016', '12:00:00', 'REGULAR', '0003626631', '0000370975'], ['1', 'IRT', '06/20/2016', '16:00:00', 'REGULAR', '0003626804', '0000370981'], ['1', 'IRT', '06/20/2016', '20:00:00', 'REGULAR', '0003626925', '0000370993'], ['1', 'IRT', '06/21/2016', '00:00:00', 'REGULAR', '0003626989', '0000370994'], ['1', 'IRT', '06/21/2016', '04:00:00', 'REGULAR', '0003626992', '0000370995'], ['1', 'IRT', '06/21/2016', '08:00:00', 'REGULAR', '0003627110', '0000370995'], ['1', 'IRT', '06/21/2016', '12:00:00', 'REGULAR', '0003627282', '0000371006'], ['1', 'IRT', '06/21/2016', '16:00:00', 'REGULAR', '0003627441', '0000371016'], ['1', 'IRT', '06/21/2016', '20:00:00', 'REGULAR', '0003627585', '0000371018'], ['1', 'IRT', '06/22/2016', '00:00:00', 'REGULAR', '0003627633', '0000371031'], ['1', 'IRT', '06/22/2016', '04:00:00', 'REGULAR', '0003627633', '0000371032'], ['1', 'IRT', '06/22/2016', '08:00:00', 'REGULAR', '0003627739', '0000371035'], ['1', 'IRT', '06/22/2016', '12:00:00', 'REGULAR', '0003627898', '0000371043'], ['1', 'IRT', '06/22/2016', '16:00:00', 'REGULAR', '0003628073', '0000371050'], ['1', 'IRT', '06/22/2016', '20:00:00', 'REGULAR', '0003628170', '0000371066'], ['1', 'IRT', '06/23/2016', '00:00:00', 'REGULAR', '0003628227', '0000371069'], ['1', 'IRT', '06/23/2016', '04:00:00', 'REGULAR', '0003628229', '0000371070'], ['1', 'IRT', '06/23/2016', '08:00:00', 'REGULAR', '0003628346', '0000371071'], ['1', 'IRT', '06/23/2016', '12:00:00', 'REGULAR', '0003628506', '0000371080'], ['1', 'IRT', '06/23/2016', '16:00:00', 'REGULAR', '0003628685', '0000371086'], ['1', 'IRT', '06/23/2016', '20:00:00', 'REGULAR', '0003628846', '0000371091'], ['1', 'IRT', '06/24/2016', '00:00:00', 'REGULAR', '0003628905', '0000371097'], ['1', 'IRT', '06/24/2016', '04:00:00', 'REGULAR', '0003628905', '0000371098'], ['1', 'IRT', '06/24/2016', '08:00:00', 'REGULAR', '0003629019', '0000371099'], ['1', 'IRT', '06/24/2016', '12:00:00', 'REGULAR', '0003629166', '0000371109'], ['1', 'IRT', '06/24/2016', '16:00:00', 'REGULAR', '0003629322', '0000371122'], ['1', 'IRT', '06/24/2016', '20:00:00', 'REGULAR', '0003629480', '0000371130']])\n"
     ]
    }
   ],
   "source": [
    "first_dict = {}\n",
    "\n",
    "for row in rows:\n",
    "    key = tuple((row[:4]))\n",
    "    val = row[4:]\n",
    "    first_dict.setdefault(key, []).append(val)\n",
    "print first_dict.items()[1]"
   ]
  },
  {
   "cell_type": "markdown",
   "metadata": {},
   "source": [
    "# Q2"
   ]
  },
  {
   "cell_type": "code",
   "execution_count": 172,
   "metadata": {
    "collapsed": false
   },
   "outputs": [
    {
     "data": {
      "text/plain": [
       "['',\n",
       " 'CORTLANDT ST',\n",
       " 'R',\n",
       " 'BMT',\n",
       " '06/21/2016',\n",
       " '21:00:00',\n",
       " 'REGULAR',\n",
       " '0001755675',\n",
       " '0000146142']"
      ]
     },
     "execution_count": 172,
     "metadata": {},
     "output_type": "execute_result"
    }
   ],
   "source": [
    "from dateutil import parser\n",
    "from datetime import datetime\n",
    "\n",
    "import csv\n",
    "with open('turnstile_160625 copy.txt', 'rb') as f:\n",
    "    csv_f = csv.reader(f)\n",
    "    rows = [[cell.strip() for cell in row] for row in csv_f]\n",
    "\n",
    "rows.pop(0)\n",
    "rows.pop(105)\n",
    "\n",
    "\n",
    "    "
   ]
  },
  {
   "cell_type": "code",
   "execution_count": 173,
   "metadata": {
    "collapsed": false
   },
   "outputs": [
    {
     "name": "stdout",
     "output_type": "stream",
     "text": [
      "06/18/2016\n"
     ]
    }
   ],
   "source": [
    "print rows[2][6]\n"
   ]
  },
  {
   "cell_type": "code",
   "execution_count": 174,
   "metadata": {
    "collapsed": false
   },
   "outputs": [
    {
     "name": "stdout",
     "output_type": "stream",
     "text": [
      "(('R190', 'R038', '00-00-02', '215 ST'), [[datetime.datetime(2016, 6, 18, 0, 0), 370951], [datetime.datetime(2016, 6, 18, 4, 0), 370951], [datetime.datetime(2016, 6, 18, 8, 0), 370951], [datetime.datetime(2016, 6, 18, 12, 0), 370951], [datetime.datetime(2016, 6, 18, 16, 0), 370951], [datetime.datetime(2016, 6, 18, 20, 0), 370951], [datetime.datetime(2016, 6, 19, 0, 0), 370951], [datetime.datetime(2016, 6, 19, 4, 0), 370951], [datetime.datetime(2016, 6, 19, 8, 0), 370951], [datetime.datetime(2016, 6, 19, 12, 0), 370951], [datetime.datetime(2016, 6, 19, 16, 0), 370951], [datetime.datetime(2016, 6, 19, 20, 0), 370951], [datetime.datetime(2016, 6, 20, 0, 0), 370951], [datetime.datetime(2016, 6, 20, 4, 0), 370951], [datetime.datetime(2016, 6, 20, 8, 0), 370954], [datetime.datetime(2016, 6, 20, 12, 0), 370975], [datetime.datetime(2016, 6, 20, 16, 0), 370981], [datetime.datetime(2016, 6, 20, 20, 0), 370993], [datetime.datetime(2016, 6, 21, 0, 0), 370994], [datetime.datetime(2016, 6, 21, 4, 0), 370995], [datetime.datetime(2016, 6, 21, 8, 0), 370995], [datetime.datetime(2016, 6, 21, 12, 0), 371006], [datetime.datetime(2016, 6, 21, 16, 0), 371016], [datetime.datetime(2016, 6, 21, 20, 0), 371018], [datetime.datetime(2016, 6, 22, 0, 0), 371031], [datetime.datetime(2016, 6, 22, 4, 0), 371032], [datetime.datetime(2016, 6, 22, 8, 0), 371035], [datetime.datetime(2016, 6, 22, 12, 0), 371043], [datetime.datetime(2016, 6, 22, 16, 0), 371050], [datetime.datetime(2016, 6, 22, 20, 0), 371066], [datetime.datetime(2016, 6, 23, 0, 0), 371069], [datetime.datetime(2016, 6, 23, 4, 0), 371070], [datetime.datetime(2016, 6, 23, 8, 0), 371071], [datetime.datetime(2016, 6, 23, 12, 0), 371080], [datetime.datetime(2016, 6, 23, 16, 0), 371086], [datetime.datetime(2016, 6, 23, 20, 0), 371091], [datetime.datetime(2016, 6, 24, 0, 0), 371097], [datetime.datetime(2016, 6, 24, 4, 0), 371098], [datetime.datetime(2016, 6, 24, 8, 0), 371099], [datetime.datetime(2016, 6, 24, 12, 0), 371109], [datetime.datetime(2016, 6, 24, 16, 0), 371122], [datetime.datetime(2016, 6, 24, 20, 0), 371130]])\n"
     ]
    }
   ],
   "source": [
    "second_dict = {}\n",
    "\n",
    "for row in rows:\n",
    "    key = tuple((row[:4]))\n",
    "    to_date = row[6:8]\n",
    "    to_date_str = ' '.join(to_date)\n",
    "    try:\n",
    "        val2 = [datetime.strptime(row[6] + row[7], '%m/%d/%Y%X'), int(row[10])]\n",
    "    except:\n",
    "        continue\n",
    "    second_dict.setdefault(key, []).append(val2)\n",
    "\n",
    "print second_dict.items()[1]"
   ]
  },
  {
   "cell_type": "code",
   "execution_count": 175,
   "metadata": {
    "collapsed": false
   },
   "outputs": [],
   "source": [
    "for rows in second_dict.values():\n",
    "    assert rows == sorted(rows)"
   ]
  },
  {
   "cell_type": "code",
   "execution_count": 176,
   "metadata": {
    "collapsed": false
   },
   "outputs": [],
   "source": [
    "datetime_count_times = {turnstile: [[rows[i][0],\n",
    "                                     rows[i+1][1] - rows[i][1],\n",
    "                                     rows[i+1][0] - rows[i][0]]\n",
    "                                    for i in range(len(rows) - 1)]\n",
    "                        for turnstile, rows in second_dict.items()}"
   ]
  },
  {
   "cell_type": "code",
   "execution_count": 177,
   "metadata": {
    "collapsed": false
   },
   "outputs": [
    {
     "name": "stdout",
     "output_type": "stream",
     "text": [
      "[2984, 3029, 3033, 3039, 3046, 3074, 3080, 3080, 3081, 3104, 3107, 3108, 3116, 3129, 3169, 3187, 3188, 3204, 3210, 3234, 3244, 3275, 3281, 3287, 3292, 3297, 3307, 3312, 3313, 3315, 3321, 3324, 3348, 3361, 3385, 3412, 3417, 3482, 3491, 3526, 3537, 3548, 3785, 3894, 4014, 4041, 5037, 5206, 32919, 1906298823]\n"
     ]
    }
   ],
   "source": [
    "all_counts = [count for rows in datetime_count_times.values() for _, count, _ in rows]\n",
    "all_counts.sort()\n",
    "print all_counts[-50:]"
   ]
  },
  {
   "cell_type": "code",
   "execution_count": 178,
   "metadata": {
    "collapsed": false
   },
   "outputs": [
    {
     "name": "stdout",
     "output_type": "stream",
     "text": [
      "[-1023433815, -552184643, -302152431, -9905190, -7958669, -2641442, -1121025, -1008439, -279376, -202408, -155410, -151393, -59611, -11317, -6300, -2066, -2037, -2007, -1935, -1900, -1899, -1868, -1857, -1841, -1829, -1814, -1809, -1700, -1687, -1661, -1633, -1480, -1379, -1349, -1321, -1320, -1281, -1229, -1227, -1223, -1223, -1218, -1191, -1188, -1174, -1172, -1163, -1147, -1140, -1100, -1040, -1007, -996, -988, -985, -984, -983, -976, -963, -963, -962, -941, -939, -938, -931, -931, -930, -923, -913, -911, -907, -900, -898, -896, -874, -867, -865, -858, -851, -850, -843, -835, -834, -834, -827, -817, -816, -815, -813, -805, -799, -798, -795, -792, -790, -770, -770, -757, -755, -754, -753, -749, -731, -731, -726, -719, -715, -707, -703, -701, -700, -697, -697, -684, -682, -681, -675, -667, -656, -653, -647, -645, -641, -640, -636, -635, -627, -625, -625, -623, -621, -619, -616, -612, -602, -592, -592, -590, -590, -589, -584, -577, -574, -574, -570, -566, -544, -540, -536, -535, -528, -528, -526, -522, -518, -517, -517, -517, -514, -512, -510, -509, -507, -506, -504, -501, -501, -496, -493, -493, -492, -484, -480, -473, -472, -471, -467, -466, -464, -462, -461, -460, -459, -454, -452, -450, -445, -444, -441, -440, -431, -431, -427, -425, -421, -419, -418, -418, -418, -412, -412, -411, -410, -402, -402, -401, -400, -398, -398, -395, -393, -392, -390, -388, -386, -386, -385, -384, -384, -382, -382, -381, -381, -380, -377, -374, -372, -370, -369, -368, -364, -364, -362, -360, -360, -358, -357, -357, -357, -353, -352, -352, -349, -347, -346, -343, -342, -342, -338, -337, -335, -331, -331, -330, -328, -322, -322, -320, -315, -314, -312, -312, -312, -312, -308, -308, -307, -307, -306, -306, -305, -304, -304, -301, -300, -298, -298, -297, -295, -295, -293, -293, -292, -290, -290, -290, -290, -289, -286, -286, -285, -283, -283, -281, -281, -281, -276, -275, -275, -270, -264, -259, -256, -254, -253, -252, -251, -249, -248, -248, -247, -246, -246, -246, -245, -244, -243, -241, -241, -241, -240, -239, -239, -239, -238, -235, -234, -234, -233, -232, -230, -230, -228, -227, -225, -225, -225, -224, -223, -222, -219, -219, -219, -218, -217, -216, -216, -215, -211, -208, -207, -207, -207, -206, -205, -205, -204, -203, -203, -202, -201, -200, -198, -196, -195, -194, -193, -193, -192, -192, -191, -191, -188, -188, -188, -187, -186, -185, -184, -184, -183, -183, -181, -181, -180, -178, -178, -178, -177, -177, -175, -175, -174, -173, -173, -171, -170, -170, -169, -169, -167, -167, -166, -164, -163, -163, -163, -162, -162, -161, -161, -161, -160, -160, -159, -158, -157, -157, -157, -156, -156, -155, -154, -154, -154, -154, -153, -153, -152, -151, -151, -151, -150, -149, -149, -149, -148, -148, -147, -147, -146, -146, -145, -145, -143, -143, -142, -142, -141, -141, -141, -141, -140, -140, -140, -139, -139, -138, -138, -138, -137, -137, -136, -136, -135, -135, -134, -133, -132, -132, -132, -131, -130, -129, -129, -129, -128, -128, -128, -126, -126, -125, -124, -124, -124, -123, -123, -123, -123, -122, -122, -122, -121, -121, -121, -120, -120, -120, -120, -119, -119, -118, -118, -117, -117, -116, -116, -116, -116, -116, -115, -114, -114, -114, -113, -113, -112, -112, -111, -110, -110, -108, -108, -108, -108, -107, -107, -107, -106, -106, -106, -106, -105, -105, -104, -103, -103, -102, -102, -102, -102, -102, -102, -101, -101, -101, -100, -100, -98, -98, -98, -97, -97, -97, -97, -96, -96, -95, -95, -94, -93, -92, -92, -91, -91, -91, -90, -90, -90, -90, -89, -89, -87, -86, -86, -85, -84, -83, -82, -82, -81, -81, -80, -80, -80, -79, -79, -79, -79, -78, -78, -77, -77, -76, -76, -76, -75, -75, -75, -75, -74, -74, -74, -73, -73, -73, -73, -72, -72, -71, -71, -70, -70, -70, -69, -69, -69, -68, -68, -68, -68, -68, -68, -68, -67, -67, -67, -67, -67, -66, -66, -66, -66, -65, -65, -64, -64, -63, -63, -63, -63, -63, -63, -62, -61, -61, -61, -61, -61, -61, -60, -60, -60, -60, -59, -59, -59, -59, -59, -58, -56, -56, -56, -56, -55, -54, -53, -53, -53, -53, -52, -52, -52, -51, -51, -51, -49, -49, -48, -48, -48, -48, -48, -47, -47, -47, -46, -46, -46, -45, -44, -44, -44, -44, -44, -43, -43, -43, -43, -43, -43, -42, -42, -42, -42, -42, -41, -41, -41, -41, -41, -41, -41, -41, -40, -40, -40, -40, -40, -40, -39, -39, -39, -38, -38, -38, -38, -38, -38, -38, -38, -38, -38, -37, -37, -37, -37, -37, -37, -36, -36, -36, -36, -35, -35, -35, -35, -35, -34, -34, -34, -34, -34, -34, -34, -34, -33, -33, -33, -33, -33, -33, -33, -33, -33, -33, -32, -32, -32, -32, -31, -31, -31, -31, -31, -31, -31, -31, -31, -31, -31, -30, -30, -30, -30, -29, -29, -29, -29, -29, -29, -29, -28, -28, -28, -28, -27, -27, -27, -27, -27, -27, -27, -26, -26, -26, -26, -25, -25, -25, -25, -24, -24, -24, -24, -24, -24, -24, -23, -23, -23, -23, -23, -23, -23, -22, -22, -22, -22, -22, -22, -21, -21, -21, -21, -21, -21, -20, -20, -20, -20, -20, -20, -20, -19, -19, -19, -19, -19, -19, -19, -19, -18, -18, -18, -18, -18, -18, -18, -18, -18, -18, -18, -17, -17, -17, -17, -17, -16, -16, -16, -16, -16, -16, -16, -16, -16, -16, -16, -16, -15, -15, -15, -15, -15, -15, -15, -14, -14, -14, -14, -14, -14, -13, -13, -13, -13, -13, -13, -13, -13, -13, -13, -12, -12, -12, -12, -12, -12, -12, -12, -12, -12, -11, -11, -11, -11, -11, -11, -11, -11, -11, -11, -11, -10, -10, -10, -10, -10, -10, -10, -9, -9, -9, -9, -9, -9, -9, -9, -9, -9, -9, -8, -8, -8, -8, -8, -8, -7, -7, -7, -7, -7, -7, -7, -7, -7, -6, -6, -6, -6, -6, -6, -6, -6, -5, -5, -5, -5, -5, -5, -5, -5, -5, -4, -4, -4, -4, -4, -4, -4, -4, -4, -4, -4, -4, -4, -4, -4, -4, -3, -3, -3, -3, -3, -2, -2, -2, -2, -2, -2, -2, -2, -2, -2, -2, -1, -1, -1, -1, -1, -1, -1, -1, -1, -1, -1, -1, -1, -1, -1, -1, -1, 0, 0, 0, 0, 0, 0, 0, 0, 0, 0, 0, 0, 0, 0, 0, 0, 0, 0, 0, 0, 0, 0, 0, 0, 0, 0, 0, 0, 0, 0, 0, 0, 0, 0, 0, 0, 0, 0, 0, 0, 0, 0, 0, 0, 0, 0, 0, 0, 0, 0, 0, 0, 0, 0, 0, 0, 0, 0, 0, 0, 0, 0, 0, 0, 0, 0, 0, 0, 0, 0, 0, 0, 0, 0, 0, 0, 0, 0, 0, 0, 0, 0, 0, 0, 0, 0, 0, 0, 0, 0, 0, 0, 0, 0, 0, 0, 0, 0, 0, 0, 0, 0, 0, 0, 0, 0, 0, 0, 0, 0, 0, 0, 0, 0, 0, 0, 0, 0, 0, 0, 0, 0, 0, 0, 0, 0, 0, 0, 0, 0, 0, 0, 0, 0, 0, 0, 0, 0, 0, 0, 0, 0, 0, 0, 0, 0, 0, 0, 0, 0, 0, 0, 0, 0, 0, 0, 0, 0, 0, 0, 0, 0, 0, 0, 0, 0, 0, 0, 0, 0, 0, 0, 0, 0, 0, 0, 0]\n"
     ]
    }
   ],
   "source": [
    "print all_counts[:1200]"
   ]
  },
  {
   "cell_type": "code",
   "execution_count": 179,
   "metadata": {
    "collapsed": false
   },
   "outputs": [
    {
     "name": "stdout",
     "output_type": "stream",
     "text": [
      "[(4.0, 164396), (4.2, 10377), (8.0, 172), (4.433333333333334, 168), (0.022500000000000003, 44), (0.19361111111111112, 33), (3.806388888888889, 33), (0.02222222222222222, 30), (3.108611111111111, 22), (0.02277777777777778, 22)]\n"
     ]
    }
   ],
   "source": [
    "all_times = [duration.total_seconds() / 60 / 60\n",
    "            for rows in datetime_count_times.values()\n",
    "            for _, _, duration in rows]\n",
    "print Counter(all_times).most_common(10)"
   ]
  },
  {
   "cell_type": "code",
   "execution_count": 180,
   "metadata": {
    "collapsed": true
   },
   "outputs": [],
   "source": [
    "datetime_counts = {turnstile: [(time, count)\n",
    "                              for (time, count, _) in rows\n",
    "                              if 0 <= count <= 5000]\n",
    "                  for turnstile, rows in datetime_count_times.items()}"
   ]
  },
  {
   "cell_type": "code",
   "execution_count": 134,
   "metadata": {
    "collapsed": false
   },
   "outputs": [
    {
     "name": "stdout",
     "output_type": "stream",
     "text": [
      "0.994303527154\n"
     ]
    }
   ],
   "source": [
    "all_good_counts = [count for rows in datetime_counts.values() for _, count in rows]\n",
    "print len(all_good_counts) / float(len(all_counts))"
   ]
  },
  {
   "cell_type": "code",
   "execution_count": 135,
   "metadata": {
    "collapsed": false
   },
   "outputs": [
    {
     "name": "stdout",
     "output_type": "stream",
     "text": [
      "[3548, 3785, 3894, 4014, 4041]\n"
     ]
    }
   ],
   "source": [
    "all_good_counts.sort()\n",
    "print all_good_counts[-5:]"
   ]
  },
  {
   "cell_type": "code",
   "execution_count": 136,
   "metadata": {
    "collapsed": false
   },
   "outputs": [
    {
     "name": "stdout",
     "output_type": "stream",
     "text": [
      "[0, 0, 0, 0, 0]\n"
     ]
    }
   ],
   "source": [
    "print all_good_counts[:5]"
   ]
  },
  {
   "cell_type": "markdown",
   "metadata": {
    "collapsed": true
   },
   "source": [
    "# Q3"
   ]
  },
  {
   "cell_type": "code",
   "execution_count": 137,
   "metadata": {
    "collapsed": false
   },
   "outputs": [
    {
     "name": "stdout",
     "output_type": "stream",
     "text": [
      "(('R190', 'R038', '00-00-02', '215 ST'), [(datetime.date(2016, 6, 18), 0), (datetime.date(2016, 6, 19), 0), (datetime.date(2016, 6, 20), 43), (datetime.date(2016, 6, 21), 37), (datetime.date(2016, 6, 22), 38), (datetime.date(2016, 6, 23), 28), (datetime.date(2016, 6, 24), 33)])\n"
     ]
    }
   ],
   "source": [
    "from collections import Counter\n",
    "\n",
    "day_counts = {}\n",
    "for turnstile, rows in datetime_counts.items():\n",
    "    by_day = {}\n",
    "    for time, count in rows:\n",
    "        day = time.date()\n",
    "        by_day[day] = by_day.get(day, 0) + count\n",
    "    day_counts[turnstile] = sorted(by_day.items())\n",
    "\n",
    "print day_counts.items()[1]"
   ]
  },
  {
   "cell_type": "markdown",
   "metadata": {
    "collapsed": true
   },
   "source": [
    "# Q4"
   ]
  },
  {
   "cell_type": "code",
   "execution_count": 138,
   "metadata": {
    "collapsed": true
   },
   "outputs": [],
   "source": [
    "%matplotlib inline\n",
    "import matplotlib.pyplot as plt"
   ]
  },
  {
   "cell_type": "code",
   "execution_count": 139,
   "metadata": {
    "collapsed": false
   },
   "outputs": [
    {
     "name": "stdout",
     "output_type": "stream",
     "text": [
      "[(datetime.date(2016, 6, 18), 0), (datetime.date(2016, 6, 19), 0), (datetime.date(2016, 6, 20), 43), (datetime.date(2016, 6, 21), 37), (datetime.date(2016, 6, 22), 38), (datetime.date(2016, 6, 23), 28), (datetime.date(2016, 6, 24), 33)]\n"
     ]
    }
   ],
   "source": [
    "val_list = list(day_counts.values())\n",
    "print val_list[1]"
   ]
  },
  {
   "cell_type": "code",
   "execution_count": 140,
   "metadata": {
    "collapsed": false
   },
   "outputs": [
    {
     "name": "stdout",
     "output_type": "stream",
     "text": [
      "[393, 443, 320, 313, 312, 312, 363]\n",
      "[0, 0, 43, 37, 38, 28, 33]\n",
      "[6, 5, 56, 56, 57, 78, 36]\n"
     ]
    },
    {
     "data": {
      "image/png": "[encoded data removed]",
      "text/plain": [
       "<matplotlib.figure.Figure at 0x129478490>"
      ]
     },
     "metadata": {},
     "output_type": "display_data"
    },
    {
     "data": {
      "image/png": "[encoded data removed]",
      "text/plain": [
       "<matplotlib.figure.Figure at 0x104c37a90>"
      ]
     },
     "metadata": {},
     "output_type": "display_data"
    },
    {
     "data": {
      "image/png": "[encoded data removed]",
      "text/plain": [
       "<matplotlib.figure.Figure at 0x128425d50>"
      ]
     },
     "metadata": {},
     "output_type": "display_data"
    }
   ],
   "source": [
    "#print val_list[0:5]\n",
    "\n",
    "graphs = 3\n",
    "\n",
    "for i in range(graphs):\n",
    "    date = []\n",
    "    counts = []\n",
    "    for x, y in val_list[i]:\n",
    "        date.append(x)\n",
    "        counts.append(y)\n",
    "\n",
    "    print counts\n",
    "\n",
    "    plt.figure(figsize=(10,3)).suptitle(list(day_counts.keys())[i])\n",
    "    plt.plot(date, counts)"
   ]
  },
  {
   "cell_type": "markdown",
   "metadata": {},
   "source": [
    "# Q5"
   ]
  },
  {
   "cell_type": "code",
   "execution_count": 141,
   "metadata": {
    "collapsed": false
   },
   "outputs": [
    {
     "name": "stdout",
     "output_type": "stream",
     "text": [
      "(('R190', 'R038', '00-00-02', '215 ST'), [(datetime.datetime(2016, 6, 18, 0, 0), 0), (datetime.datetime(2016, 6, 18, 4, 0), 0), (datetime.datetime(2016, 6, 18, 8, 0), 0), (datetime.datetime(2016, 6, 18, 12, 0), 0), (datetime.datetime(2016, 6, 18, 16, 0), 0), (datetime.datetime(2016, 6, 18, 20, 0), 0), (datetime.datetime(2016, 6, 19, 0, 0), 0), (datetime.datetime(2016, 6, 19, 4, 0), 0), (datetime.datetime(2016, 6, 19, 8, 0), 0), (datetime.datetime(2016, 6, 19, 12, 0), 0), (datetime.datetime(2016, 6, 19, 16, 0), 0), (datetime.datetime(2016, 6, 19, 20, 0), 0), (datetime.datetime(2016, 6, 20, 0, 0), 0), (datetime.datetime(2016, 6, 20, 4, 0), 3), (datetime.datetime(2016, 6, 20, 8, 0), 21), (datetime.datetime(2016, 6, 20, 12, 0), 6), (datetime.datetime(2016, 6, 20, 16, 0), 12), (datetime.datetime(2016, 6, 20, 20, 0), 1), (datetime.datetime(2016, 6, 21, 0, 0), 1), (datetime.datetime(2016, 6, 21, 4, 0), 0), (datetime.datetime(2016, 6, 21, 8, 0), 11), (datetime.datetime(2016, 6, 21, 12, 0), 10), (datetime.datetime(2016, 6, 21, 16, 0), 2), (datetime.datetime(2016, 6, 21, 20, 0), 13), (datetime.datetime(2016, 6, 22, 0, 0), 1), (datetime.datetime(2016, 6, 22, 4, 0), 3), (datetime.datetime(2016, 6, 22, 8, 0), 8), (datetime.datetime(2016, 6, 22, 12, 0), 7), (datetime.datetime(2016, 6, 22, 16, 0), 16), (datetime.datetime(2016, 6, 22, 20, 0), 3), (datetime.datetime(2016, 6, 23, 0, 0), 1), (datetime.datetime(2016, 6, 23, 4, 0), 1), (datetime.datetime(2016, 6, 23, 8, 0), 9), (datetime.datetime(2016, 6, 23, 12, 0), 6), (datetime.datetime(2016, 6, 23, 16, 0), 5), (datetime.datetime(2016, 6, 23, 20, 0), 6), (datetime.datetime(2016, 6, 24, 0, 0), 1), (datetime.datetime(2016, 6, 24, 4, 0), 1), (datetime.datetime(2016, 6, 24, 8, 0), 10), (datetime.datetime(2016, 6, 24, 12, 0), 13), (datetime.datetime(2016, 6, 24, 16, 0), 8)])\n"
     ]
    }
   ],
   "source": [
    "print datetime_counts.items()[1]"
   ]
  },
  {
   "cell_type": "code",
   "execution_count": 184,
   "metadata": {
    "collapsed": false
   },
   "outputs": [
    {
     "name": "stdout",
     "output_type": "stream",
     "text": [
      "(('B025', 'R150', 'AVENUE U'), [{datetime.datetime(2016, 6, 18, 5, 0): [], datetime.datetime(2016, 6, 20, 5, 0): [], datetime.datetime(2016, 6, 19, 5, 0): [], datetime.datetime(2016, 6, 21, 13, 0): [], datetime.datetime(2016, 6, 22, 9, 0): [], datetime.datetime(2016, 6, 21, 5, 0): [], datetime.datetime(2016, 6, 22, 1, 0): [], datetime.datetime(2016, 6, 18, 9, 0): [], datetime.datetime(2016, 6, 20, 17, 0): [], datetime.datetime(2016, 6, 18, 21, 0): [], datetime.datetime(2016, 6, 18, 1, 0): [], datetime.datetime(2016, 6, 20, 9, 0): [], datetime.datetime(2016, 6, 19, 9, 0): [], datetime.datetime(2016, 6, 21, 17, 0): [], datetime.datetime(2016, 6, 19, 1, 0): [], datetime.datetime(2016, 6, 21, 9, 0): [], datetime.datetime(2016, 6, 19, 21, 0): [], datetime.datetime(2016, 6, 20, 21, 0): [], datetime.datetime(2016, 6, 22, 5, 0): [], datetime.datetime(2016, 6, 20, 1, 0): [], datetime.datetime(2016, 6, 18, 17, 0): [], datetime.datetime(2016, 6, 21, 1, 0): [], datetime.datetime(2016, 6, 23, 6, 48, 45): [], datetime.datetime(2016, 6, 19, 17, 0): [], datetime.datetime(2016, 6, 19, 13, 0): [], datetime.datetime(2016, 6, 21, 21, 0): [], datetime.datetime(2016, 6, 18, 13, 0): [], datetime.datetime(2016, 6, 20, 13, 0): []}, {datetime.datetime(2016, 6, 18, 5, 0): [], datetime.datetime(2016, 6, 20, 5, 0): [], datetime.datetime(2016, 6, 19, 5, 0): [], datetime.datetime(2016, 6, 21, 13, 0): [], datetime.datetime(2016, 6, 22, 9, 0): [], datetime.datetime(2016, 6, 21, 5, 0): [], datetime.datetime(2016, 6, 22, 1, 0): [], datetime.datetime(2016, 6, 18, 9, 0): [], datetime.datetime(2016, 6, 20, 17, 0): [], datetime.datetime(2016, 6, 18, 21, 0): [], datetime.datetime(2016, 6, 18, 1, 0): [], datetime.datetime(2016, 6, 20, 9, 0): [], datetime.datetime(2016, 6, 19, 9, 0): [], datetime.datetime(2016, 6, 21, 17, 0): [], datetime.datetime(2016, 6, 19, 1, 0): [], datetime.datetime(2016, 6, 21, 9, 0): [], datetime.datetime(2016, 6, 19, 21, 0): [], datetime.datetime(2016, 6, 20, 21, 0): [], datetime.datetime(2016, 6, 22, 5, 0): [], datetime.datetime(2016, 6, 20, 1, 0): [], datetime.datetime(2016, 6, 18, 17, 0): [], datetime.datetime(2016, 6, 21, 1, 0): [], datetime.datetime(2016, 6, 23, 6, 48, 45): [], datetime.datetime(2016, 6, 19, 17, 0): [], datetime.datetime(2016, 6, 19, 13, 0): [], datetime.datetime(2016, 6, 21, 21, 0): [], datetime.datetime(2016, 6, 18, 13, 0): [], datetime.datetime(2016, 6, 20, 13, 0): []}, {datetime.datetime(2016, 6, 18, 5, 0): [], datetime.datetime(2016, 6, 20, 5, 0): [], datetime.datetime(2016, 6, 19, 5, 0): [], datetime.datetime(2016, 6, 21, 13, 0): [], datetime.datetime(2016, 6, 22, 9, 0): [], datetime.datetime(2016, 6, 21, 5, 0): [], datetime.datetime(2016, 6, 22, 1, 0): [], datetime.datetime(2016, 6, 18, 9, 0): [], datetime.datetime(2016, 6, 20, 17, 0): [], datetime.datetime(2016, 6, 18, 21, 0): [], datetime.datetime(2016, 6, 18, 1, 0): [], datetime.datetime(2016, 6, 20, 9, 0): [], datetime.datetime(2016, 6, 19, 9, 0): [], datetime.datetime(2016, 6, 21, 17, 0): [], datetime.datetime(2016, 6, 19, 1, 0): [], datetime.datetime(2016, 6, 21, 9, 0): [], datetime.datetime(2016, 6, 19, 21, 0): [], datetime.datetime(2016, 6, 20, 21, 0): [], datetime.datetime(2016, 6, 22, 5, 0): [], datetime.datetime(2016, 6, 20, 1, 0): [], datetime.datetime(2016, 6, 18, 17, 0): [], datetime.datetime(2016, 6, 21, 1, 0): [], datetime.datetime(2016, 6, 23, 6, 48, 45): [], datetime.datetime(2016, 6, 19, 17, 0): [], datetime.datetime(2016, 6, 19, 13, 0): [], datetime.datetime(2016, 6, 21, 21, 0): [], datetime.datetime(2016, 6, 18, 13, 0): [], datetime.datetime(2016, 6, 20, 13, 0): []}, {datetime.datetime(2016, 6, 18, 5, 0): [], datetime.datetime(2016, 6, 20, 5, 0): [], datetime.datetime(2016, 6, 19, 5, 0): [], datetime.datetime(2016, 6, 21, 13, 0): [], datetime.datetime(2016, 6, 22, 9, 0): [], datetime.datetime(2016, 6, 21, 5, 0): [], datetime.datetime(2016, 6, 22, 1, 0): [], datetime.datetime(2016, 6, 18, 9, 0): [], datetime.datetime(2016, 6, 20, 17, 0): [], datetime.datetime(2016, 6, 18, 21, 0): [], datetime.datetime(2016, 6, 18, 1, 0): [], datetime.datetime(2016, 6, 20, 9, 0): [], datetime.datetime(2016, 6, 19, 9, 0): [], datetime.datetime(2016, 6, 21, 17, 0): [], datetime.datetime(2016, 6, 19, 1, 0): [], datetime.datetime(2016, 6, 21, 9, 0): [], datetime.datetime(2016, 6, 19, 21, 0): [], datetime.datetime(2016, 6, 20, 21, 0): [], datetime.datetime(2016, 6, 22, 5, 0): [], datetime.datetime(2016, 6, 20, 1, 0): [], datetime.datetime(2016, 6, 18, 17, 0): [], datetime.datetime(2016, 6, 21, 1, 0): [], datetime.datetime(2016, 6, 23, 6, 48, 45): [], datetime.datetime(2016, 6, 19, 17, 0): [], datetime.datetime(2016, 6, 19, 13, 0): [], datetime.datetime(2016, 6, 21, 21, 0): [], datetime.datetime(2016, 6, 18, 13, 0): [], datetime.datetime(2016, 6, 20, 13, 0): []}])\n"
     ]
    }
   ],
   "source": [
    "CUS = {}\n",
    "\n",
    "for turnstile, value in datetime_counts.items():\n",
    "    C_A, UNIT, SCP, STATION = turnstile\n",
    "    inner_dictionary = {}\n",
    "    for datetime, count in value:\n",
    "        inner_dictionary.setdefault(datetime, []).append\n",
    "    new_keys = C_A, UNIT, STATION\n",
    "    CUS.setdefault(new_keys, []).append(inner_dictionary)\n",
    "    \n",
    "print CUS.items()[1]"
   ]
  },
  {
   "cell_type": "code",
   "execution_count": 143,
   "metadata": {
    "collapsed": false
   },
   "outputs": [],
   "source": [
    "CUS_turnstile = defaultdict(list)\n",
    "for turnstile, rows in datetime_counts.items():\n",
    "    by_day = {}\n",
    "    for time, count in rows:\n",
    "        day = time.date()\n",
    "        by_day[day] = by_day.get(day, 0) + count\n",
    "    CUS_turnstile[(turnstile[0],turnstile[1],turnstile[3])] = sorted(by_day.items())"
   ]
  },
  {
   "cell_type": "code",
   "execution_count": 144,
   "metadata": {
    "collapsed": false
   },
   "outputs": [
    {
     "name": "stdout",
     "output_type": "stream",
     "text": [
      "('R137', 'R031', '34 ST-PENN STA')\n",
      "(datetime.date(2016, 6, 18), 0)\n",
      "(datetime.date(2016, 6, 19), 0)\n",
      "(datetime.date(2016, 6, 20), 631)\n",
      "(datetime.date(2016, 6, 21), 651)\n",
      "(datetime.date(2016, 6, 22), 621)\n"
     ]
    }
   ],
   "source": [
    "key = list(CUS_turnstile.keys())[0]\n",
    "print (key)\n",
    "for i in range(5):\n",
    "    print (CUS_turnstile[key][i])"
   ]
  },
  {
   "cell_type": "markdown",
   "metadata": {
    "collapsed": false
   },
   "source": [
    "# Q6"
   ]
  },
  {
   "cell_type": "code",
   "execution_count": 151,
   "metadata": {
    "collapsed": false
   },
   "outputs": [],
   "source": [
    "CUS_station = defaultdict(list)\n",
    "for turnstile, rows in datetime_counts.items():\n",
    "    by_day = {}\n",
    "    for time, count in rows:\n",
    "        day = time.date()\n",
    "        by_day[day] = by_day.get(day, 0) + count\n",
    "CUS_station[(turnstile[3])] = sorted(by_day.items())"
   ]
  },
  {
   "cell_type": "code",
   "execution_count": 152,
   "metadata": {
    "collapsed": false
   },
   "outputs": [
    {
     "name": "stdout",
     "output_type": "stream",
     "text": [
      "GRD CNTRL-42 ST\n",
      "(datetime.date(2016, 6, 18), 78)\n",
      "(datetime.date(2016, 6, 19), 49)\n",
      "(datetime.date(2016, 6, 20), 76)\n",
      "(datetime.date(2016, 6, 21), 60)\n",
      "(datetime.date(2016, 6, 22), 75)\n"
     ]
    }
   ],
   "source": [
    "key = list(CUS_station.keys())[0]\n",
    "print (key)\n",
    "for i in range(5):\n",
    "    print (CUS_station[key][i])"
   ]
  },
  {
   "cell_type": "markdown",
   "metadata": {},
   "source": [
    "# Q7"
   ]
  },
  {
   "cell_type": "code",
   "execution_count": 166,
   "metadata": {
    "collapsed": false
   },
   "outputs": [
    {
     "name": "stdout",
     "output_type": "stream",
     "text": [
      "[78, 49, 76, 60, 75, 77, 68]\n"
     ]
    }
   ],
   "source": [
    "vals = CUS_station['GRD CNTRL-42 ST']\n",
    "dates = [val[0] for val in vals]\n",
    "counts = [val[1] for val in vals]\n",
    "print counts"
   ]
  },
  {
   "cell_type": "code",
   "execution_count": 168,
   "metadata": {
    "collapsed": false
   },
   "outputs": [
    {
     "data": {
      "text/plain": [
       "[<matplotlib.lines.Line2D at 0x122936d10>]"
      ]
     },
     "execution_count": 168,
     "metadata": {},
     "output_type": "execute_result"
    },
    {
     "data": {
      "image/png": "[encoded data removed]",
      "text/plain": [
       "<matplotlib.figure.Figure at 0x11c5f2e10>"
      ]
     },
     "metadata": {},
     "output_type": "display_data"
    }
   ],
   "source": [
    "plt.figure(figsize=(10,3))\n",
    "plt.plot(date, counts)"
   ]
  },
  {
   "cell_type": "markdown",
   "metadata": {},
   "source": [
    "# Q8"
   ]
  },
  {
   "cell_type": "code",
   "execution_count": null,
   "metadata": {
    "collapsed": true
   },
   "outputs": [],
   "source": []
  }
 ],
 "metadata": {
  "kernelspec": {
   "display_name": "Python 2",
   "language": "python",
   "name": "python2"
  },
  "language_info": {
   "codemirror_mode": {
    "name": "ipython",
    "version": 2
   },
   "file_extension": ".py",
   "mimetype": "text/x-python",
   "name": "python",
   "nbconvert_exporter": "python",
   "pygments_lexer": "ipython2",
   "version": "2.7.11"
  }
 },
 "nbformat": 4,
 "nbformat_minor": 0
}
