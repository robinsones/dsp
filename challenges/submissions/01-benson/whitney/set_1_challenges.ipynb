{
 "cells": [
  {
   "cell_type": "markdown",
   "metadata": {},
   "source": [
    "# Challenge 1\n",
    "\n",
    "Whitney Chia\n",
    "with help from Matthew Mitchell"
   ]
  },
  {
   "cell_type": "code",
   "execution_count": 35,
   "metadata": {
    "collapsed": true
   },
   "outputs": [],
   "source": [
    "import csv\n",
    "from datetime import date\n",
    "from datetime import datetime\n",
    "\n",
    "import matplotlib.pyplot as plt\n",
    "\n",
    "import seaborn as sns\n",
    "\n",
    "sns.set_context('talk')\n",
    "sns.set_style('ticks')\n",
    "sns.set_palette('dark')\n",
    "\n",
    "%matplotlib inline"
   ]
  },
  {
   "cell_type": "code",
   "execution_count": 2,
   "metadata": {
    "collapsed": false
   },
   "outputs": [],
   "source": [
    "with open('turnstile_160625.txt', 'rb') as f:\n",
    "    csv_f = csv.reader(f)\n",
    "    rows = [[cell.strip() for cell in row] for row in csv_f]"
   ]
  },
  {
   "cell_type": "code",
   "execution_count": 3,
   "metadata": {
    "collapsed": false
   },
   "outputs": [
    {
     "data": {
      "text/plain": [
       "['C/A',\n",
       " 'UNIT',\n",
       " 'SCP',\n",
       " 'STATION',\n",
       " 'LINENAME',\n",
       " 'DIVISION',\n",
       " 'DATE',\n",
       " 'TIME',\n",
       " 'DESC',\n",
       " 'ENTRIES',\n",
       " 'EXITS']"
      ]
     },
     "execution_count": 3,
     "metadata": {},
     "output_type": "execute_result"
    }
   ],
   "source": [
    "June_2016 = {}\n",
    "for row in rows:\n",
    "    June_2016.setdefault(tuple(row[:4]), []).append(row[4:])\n",
    "\n",
    "rows.pop(0)"
   ]
  },
  {
   "cell_type": "code",
   "execution_count": 4,
   "metadata": {
    "collapsed": false
   },
   "outputs": [
    {
     "name": "stdout",
     "output_type": "stream",
     "text": [
      "(('N134', 'R385', '00-00-00', 'ROCKAWAY BLVD'), [['A', 'IND', '06/18/2016', '01:00:00', 'REGULAR', '0007345027', '0002914431'], ['A', 'IND', '06/18/2016', '05:00:00', 'REGULAR', '0007345099', '0002914457'], ['A', 'IND', '06/18/2016', '09:00:00', 'REGULAR', '0007345458', '0002914492'], ['A', 'IND', '06/18/2016', '13:00:00', 'REGULAR', '0007345760', '0002914579'], ['A', 'IND', '06/18/2016', '17:00:00', 'REGULAR', '0007346009', '0002914659'], ['A', 'IND', '06/18/2016', '21:00:00', 'REGULAR', '0007346223', '0002914757'], ['A', 'IND', '06/19/2016', '01:00:00', 'REGULAR', '0007346373', '0002914824'], ['A', 'IND', '06/19/2016', '05:00:00', 'REGULAR', '0007346411', '0002914855'], ['A', 'IND', '06/19/2016', '09:00:00', 'REGULAR', '0007346540', '0002914888'], ['A', 'IND', '06/19/2016', '13:00:00', 'REGULAR', '0007346713', '0002914938'], ['A', 'IND', '06/19/2016', '17:00:00', 'REGULAR', '0007346942', '0002915057'], ['A', 'IND', '06/19/2016', '21:00:00', 'REGULAR', '0007347182', '0002915172'], ['A', 'IND', '06/20/2016', '01:00:00', 'REGULAR', '0007347353', '0002915267'], ['A', 'IND', '06/20/2016', '05:00:00', 'REGULAR', '0007347453', '0002915300'], ['A', 'IND', '06/20/2016', '09:00:00', 'REGULAR', '0007348284', '0002915353'], ['A', 'IND', '06/20/2016', '13:00:00', 'REGULAR', '0007348547', '0002915384'], ['A', 'IND', '06/20/2016', '14:19:20', 'REGULAR', '0007348602', '0002915406'], ['A', 'IND', '06/20/2016', '17:00:00', 'REGULAR', '0007348781', '0002915461'], ['A', 'IND', '06/20/2016', '21:00:00', 'REGULAR', '0007348987', '0002915558'], ['A', 'IND', '06/21/2016', '01:00:00', 'REGULAR', '0007349088', '0002915587'], ['A', 'IND', '06/21/2016', '05:00:00', 'REGULAR', '0007349126', '0002915593'], ['A', 'IND', '06/21/2016', '09:00:00', 'REGULAR', '0007349742', '0002915659'], ['A', 'IND', '06/21/2016', '13:00:00', 'REGULAR', '0007350010', '0002915709'], ['A', 'IND', '06/21/2016', '17:00:00', 'REGULAR', '0007350253', '0002915779'], ['A', 'IND', '06/21/2016', '21:00:00', 'REGULAR', '0007350436', '0002915865'], ['A', 'IND', '06/22/2016', '01:00:00', 'REGULAR', '0007350552', '0002915900'], ['A', 'IND', '06/22/2016', '05:00:00', 'REGULAR', '0007350590', '0002915905'], ['A', 'IND', '06/22/2016', '09:00:00', 'REGULAR', '0007351247', '0002915965'], ['A', 'IND', '06/22/2016', '13:00:00', 'REGULAR', '0007351581', '0002916006'], ['A', 'IND', '06/22/2016', '17:00:00', 'REGULAR', '0007351884', '0002916103'], ['A', 'IND', '06/22/2016', '21:00:00', 'REGULAR', '0007352123', '0002916192'], ['A', 'IND', '06/23/2016', '01:00:00', 'REGULAR', '0007352240', '0002916212'], ['A', 'IND', '06/23/2016', '05:00:00', 'REGULAR', '0007352267', '0002916217'], ['A', 'IND', '06/23/2016', '09:00:00', 'REGULAR', '0007352932', '0002916276'], ['A', 'IND', '06/23/2016', '13:00:00', 'REGULAR', '0007353247', '0002916315'], ['A', 'IND', '06/23/2016', '17:00:00', 'REGULAR', '0007353502', '0002916383'], ['A', 'IND', '06/23/2016', '21:00:00', 'REGULAR', '0007353758', '0002916487'], ['A', 'IND', '06/24/2016', '01:00:00', 'REGULAR', '0007353866', '0002916524'], ['A', 'IND', '06/24/2016', '05:00:00', 'REGULAR', '0007353904', '0002916532'], ['A', 'IND', '06/24/2016', '09:00:00', 'REGULAR', '0007354480', '0002916607'], ['A', 'IND', '06/24/2016', '13:00:00', 'REGULAR', '0007354761', '0002916638'], ['A', 'IND', '06/24/2016', '17:00:00', 'REGULAR', '0007354835', '0002916764'], ['A', 'IND', '06/24/2016', '21:00:00', 'REGULAR', '0007354882', '0002916887']])\n"
     ]
    }
   ],
   "source": [
    "print June_2016.items()[0]"
   ]
  },
  {
   "cell_type": "markdown",
   "metadata": {},
   "source": [
    "# Challenge 2"
   ]
  },
  {
   "cell_type": "code",
   "execution_count": 5,
   "metadata": {
    "collapsed": false
   },
   "outputs": [],
   "source": [
    "import dateutil.parser\n",
    "second_dict = {}\n",
    "\n",
    "for row in rows:\n",
    "    keys = tuple((row[:4]))\n",
    "    datetime_val = str(row[6]) + \" \" + str(row[7])\n",
    "    new_date = dateutil.parser.parse(datetime_val)\n",
    "    second_dict.setdefault(keys, []).append([new_date, int(row[9])])"
   ]
  },
  {
   "cell_type": "code",
   "execution_count": 6,
   "metadata": {
    "collapsed": false
   },
   "outputs": [
    {
     "name": "stdout",
     "output_type": "stream",
     "text": [
      "[(('N134', 'R385', '00-00-00', 'ROCKAWAY BLVD'), [[datetime.datetime(2016, 6, 18, 1, 0), 7345027], [datetime.datetime(2016, 6, 18, 5, 0), 7345099], [datetime.datetime(2016, 6, 18, 9, 0), 7345458], [datetime.datetime(2016, 6, 18, 13, 0), 7345760], [datetime.datetime(2016, 6, 18, 17, 0), 7346009], [datetime.datetime(2016, 6, 18, 21, 0), 7346223], [datetime.datetime(2016, 6, 19, 1, 0), 7346373], [datetime.datetime(2016, 6, 19, 5, 0), 7346411], [datetime.datetime(2016, 6, 19, 9, 0), 7346540], [datetime.datetime(2016, 6, 19, 13, 0), 7346713], [datetime.datetime(2016, 6, 19, 17, 0), 7346942], [datetime.datetime(2016, 6, 19, 21, 0), 7347182], [datetime.datetime(2016, 6, 20, 1, 0), 7347353], [datetime.datetime(2016, 6, 20, 5, 0), 7347453], [datetime.datetime(2016, 6, 20, 9, 0), 7348284], [datetime.datetime(2016, 6, 20, 13, 0), 7348547], [datetime.datetime(2016, 6, 20, 14, 19, 20), 7348602], [datetime.datetime(2016, 6, 20, 17, 0), 7348781], [datetime.datetime(2016, 6, 20, 21, 0), 7348987], [datetime.datetime(2016, 6, 21, 1, 0), 7349088], [datetime.datetime(2016, 6, 21, 5, 0), 7349126], [datetime.datetime(2016, 6, 21, 9, 0), 7349742], [datetime.datetime(2016, 6, 21, 13, 0), 7350010], [datetime.datetime(2016, 6, 21, 17, 0), 7350253], [datetime.datetime(2016, 6, 21, 21, 0), 7350436], [datetime.datetime(2016, 6, 22, 1, 0), 7350552], [datetime.datetime(2016, 6, 22, 5, 0), 7350590], [datetime.datetime(2016, 6, 22, 9, 0), 7351247], [datetime.datetime(2016, 6, 22, 13, 0), 7351581], [datetime.datetime(2016, 6, 22, 17, 0), 7351884], [datetime.datetime(2016, 6, 22, 21, 0), 7352123], [datetime.datetime(2016, 6, 23, 1, 0), 7352240], [datetime.datetime(2016, 6, 23, 5, 0), 7352267], [datetime.datetime(2016, 6, 23, 9, 0), 7352932], [datetime.datetime(2016, 6, 23, 13, 0), 7353247], [datetime.datetime(2016, 6, 23, 17, 0), 7353502], [datetime.datetime(2016, 6, 23, 21, 0), 7353758], [datetime.datetime(2016, 6, 24, 1, 0), 7353866], [datetime.datetime(2016, 6, 24, 5, 0), 7353904], [datetime.datetime(2016, 6, 24, 9, 0), 7354480], [datetime.datetime(2016, 6, 24, 13, 0), 7354761], [datetime.datetime(2016, 6, 24, 17, 0), 7354835], [datetime.datetime(2016, 6, 24, 21, 0), 7354882]])]\n"
     ]
    }
   ],
   "source": [
    "print second_dict.items()[0:1]"
   ]
  },
  {
   "cell_type": "code",
   "execution_count": 7,
   "metadata": {
    "collapsed": false
   },
   "outputs": [],
   "source": [
    "for rows in second_dict.values():\n",
    "    assert rows == sorted(rows)"
   ]
  },
  {
   "cell_type": "code",
   "execution_count": 8,
   "metadata": {
    "collapsed": false
   },
   "outputs": [],
   "source": [
    "third_dict = {turnstile: [[rows[i][0],\n",
    "                                     rows[i+1][1] - rows[i][1],\n",
    "                                     rows[i+1][0] - rows[i][0]]\n",
    "                                    for i in range(len(rows) - 1)]\n",
    "                        for turnstile, rows in second_dict.items()}"
   ]
  },
  {
   "cell_type": "code",
   "execution_count": 9,
   "metadata": {
    "collapsed": false
   },
   "outputs": [
    {
     "name": "stdout",
     "output_type": "stream",
     "text": [
      "(('N134', 'R385', '00-00-00', 'ROCKAWAY BLVD'), [[datetime.datetime(2016, 6, 18, 1, 0), 72, datetime.timedelta(0, 14400)], [datetime.datetime(2016, 6, 18, 5, 0), 359, datetime.timedelta(0, 14400)], [datetime.datetime(2016, 6, 18, 9, 0), 302, datetime.timedelta(0, 14400)], [datetime.datetime(2016, 6, 18, 13, 0), 249, datetime.timedelta(0, 14400)], [datetime.datetime(2016, 6, 18, 17, 0), 214, datetime.timedelta(0, 14400)], [datetime.datetime(2016, 6, 18, 21, 0), 150, datetime.timedelta(0, 14400)], [datetime.datetime(2016, 6, 19, 1, 0), 38, datetime.timedelta(0, 14400)], [datetime.datetime(2016, 6, 19, 5, 0), 129, datetime.timedelta(0, 14400)], [datetime.datetime(2016, 6, 19, 9, 0), 173, datetime.timedelta(0, 14400)], [datetime.datetime(2016, 6, 19, 13, 0), 229, datetime.timedelta(0, 14400)], [datetime.datetime(2016, 6, 19, 17, 0), 240, datetime.timedelta(0, 14400)], [datetime.datetime(2016, 6, 19, 21, 0), 171, datetime.timedelta(0, 14400)], [datetime.datetime(2016, 6, 20, 1, 0), 100, datetime.timedelta(0, 14400)], [datetime.datetime(2016, 6, 20, 5, 0), 831, datetime.timedelta(0, 14400)], [datetime.datetime(2016, 6, 20, 9, 0), 263, datetime.timedelta(0, 14400)], [datetime.datetime(2016, 6, 20, 13, 0), 55, datetime.timedelta(0, 4760)], [datetime.datetime(2016, 6, 20, 14, 19, 20), 179, datetime.timedelta(0, 9640)], [datetime.datetime(2016, 6, 20, 17, 0), 206, datetime.timedelta(0, 14400)], [datetime.datetime(2016, 6, 20, 21, 0), 101, datetime.timedelta(0, 14400)], [datetime.datetime(2016, 6, 21, 1, 0), 38, datetime.timedelta(0, 14400)], [datetime.datetime(2016, 6, 21, 5, 0), 616, datetime.timedelta(0, 14400)], [datetime.datetime(2016, 6, 21, 9, 0), 268, datetime.timedelta(0, 14400)], [datetime.datetime(2016, 6, 21, 13, 0), 243, datetime.timedelta(0, 14400)], [datetime.datetime(2016, 6, 21, 17, 0), 183, datetime.timedelta(0, 14400)], [datetime.datetime(2016, 6, 21, 21, 0), 116, datetime.timedelta(0, 14400)], [datetime.datetime(2016, 6, 22, 1, 0), 38, datetime.timedelta(0, 14400)], [datetime.datetime(2016, 6, 22, 5, 0), 657, datetime.timedelta(0, 14400)], [datetime.datetime(2016, 6, 22, 9, 0), 334, datetime.timedelta(0, 14400)], [datetime.datetime(2016, 6, 22, 13, 0), 303, datetime.timedelta(0, 14400)], [datetime.datetime(2016, 6, 22, 17, 0), 239, datetime.timedelta(0, 14400)], [datetime.datetime(2016, 6, 22, 21, 0), 117, datetime.timedelta(0, 14400)], [datetime.datetime(2016, 6, 23, 1, 0), 27, datetime.timedelta(0, 14400)], [datetime.datetime(2016, 6, 23, 5, 0), 665, datetime.timedelta(0, 14400)], [datetime.datetime(2016, 6, 23, 9, 0), 315, datetime.timedelta(0, 14400)], [datetime.datetime(2016, 6, 23, 13, 0), 255, datetime.timedelta(0, 14400)], [datetime.datetime(2016, 6, 23, 17, 0), 256, datetime.timedelta(0, 14400)], [datetime.datetime(2016, 6, 23, 21, 0), 108, datetime.timedelta(0, 14400)], [datetime.datetime(2016, 6, 24, 1, 0), 38, datetime.timedelta(0, 14400)], [datetime.datetime(2016, 6, 24, 5, 0), 576, datetime.timedelta(0, 14400)], [datetime.datetime(2016, 6, 24, 9, 0), 281, datetime.timedelta(0, 14400)], [datetime.datetime(2016, 6, 24, 13, 0), 74, datetime.timedelta(0, 14400)], [datetime.datetime(2016, 6, 24, 17, 0), 47, datetime.timedelta(0, 14400)]])\n"
     ]
    }
   ],
   "source": [
    "print third_dict.items()[0]"
   ]
  },
  {
   "cell_type": "code",
   "execution_count": 10,
   "metadata": {
    "collapsed": false
   },
   "outputs": [
    {
     "name": "stdout",
     "output_type": "stream",
     "text": [
      "[2440, 2461, 2470, 2477, 2477, 2478, 2481, 2488, 2489, 2490, 2490, 2514, 2515, 2524, 2530, 2541, 2545, 2551, 2557, 2559, 2588, 2609, 2623, 2632, 2653, 2657, 2659, 2660, 2661, 2672, 2676, 2693, 2719, 2740, 2754, 2763, 2766, 2771, 2782, 2868, 2874, 2878, 2886, 2929, 2994, 3083, 3148, 3255, 134216914, 1119107680]\n"
     ]
    }
   ],
   "source": [
    "all_counts = [count for rows in third_dict.values() for _, count, _ in rows]\n",
    "all_counts.sort()\n",
    "print all_counts[-50:]"
   ]
  },
  {
   "cell_type": "code",
   "execution_count": 11,
   "metadata": {
    "collapsed": false
   },
   "outputs": [
    {
     "name": "stdout",
     "output_type": "stream",
     "text": [
      "[(4.0, 173540), (4.2, 10377), (8.0, 172), (4.433333333333334, 168), (0.022500000000000003, 44), (0.19361111111111112, 33), (3.806388888888889, 33), (0.02222222222222222, 30), (3.108611111111111, 22), (1.6830555555555555, 22)]\n"
     ]
    }
   ],
   "source": [
    "from collections import Counter\n",
    "\n",
    "all_times = [duration.total_seconds() / 60 / 60\n",
    "             for rows in third_dict.values()\n",
    "             for _, _, duration in rows]\n",
    "print Counter(all_times).most_common(10)"
   ]
  },
  {
   "cell_type": "code",
   "execution_count": 12,
   "metadata": {
    "collapsed": true
   },
   "outputs": [],
   "source": [
    "datetime_counts = {turnstile: [(time, count)\n",
    "                               for (time, count, _) in rows\n",
    "                               if 0 <= count <= 5000]\n",
    "                   for turnstile, rows in third_dict.items()}"
   ]
  },
  {
   "cell_type": "code",
   "execution_count": 13,
   "metadata": {
    "collapsed": false
   },
   "outputs": [
    {
     "name": "stdout",
     "output_type": "stream",
     "text": [
      "(('N134', 'R385', '00-00-00', 'ROCKAWAY BLVD'), [(datetime.datetime(2016, 6, 18, 1, 0), 72), (datetime.datetime(2016, 6, 18, 5, 0), 359), (datetime.datetime(2016, 6, 18, 9, 0), 302), (datetime.datetime(2016, 6, 18, 13, 0), 249), (datetime.datetime(2016, 6, 18, 17, 0), 214), (datetime.datetime(2016, 6, 18, 21, 0), 150), (datetime.datetime(2016, 6, 19, 1, 0), 38), (datetime.datetime(2016, 6, 19, 5, 0), 129), (datetime.datetime(2016, 6, 19, 9, 0), 173), (datetime.datetime(2016, 6, 19, 13, 0), 229), (datetime.datetime(2016, 6, 19, 17, 0), 240), (datetime.datetime(2016, 6, 19, 21, 0), 171), (datetime.datetime(2016, 6, 20, 1, 0), 100), (datetime.datetime(2016, 6, 20, 5, 0), 831), (datetime.datetime(2016, 6, 20, 9, 0), 263), (datetime.datetime(2016, 6, 20, 13, 0), 55), (datetime.datetime(2016, 6, 20, 14, 19, 20), 179), (datetime.datetime(2016, 6, 20, 17, 0), 206), (datetime.datetime(2016, 6, 20, 21, 0), 101), (datetime.datetime(2016, 6, 21, 1, 0), 38), (datetime.datetime(2016, 6, 21, 5, 0), 616), (datetime.datetime(2016, 6, 21, 9, 0), 268), (datetime.datetime(2016, 6, 21, 13, 0), 243), (datetime.datetime(2016, 6, 21, 17, 0), 183), (datetime.datetime(2016, 6, 21, 21, 0), 116), (datetime.datetime(2016, 6, 22, 1, 0), 38), (datetime.datetime(2016, 6, 22, 5, 0), 657), (datetime.datetime(2016, 6, 22, 9, 0), 334), (datetime.datetime(2016, 6, 22, 13, 0), 303), (datetime.datetime(2016, 6, 22, 17, 0), 239), (datetime.datetime(2016, 6, 22, 21, 0), 117), (datetime.datetime(2016, 6, 23, 1, 0), 27), (datetime.datetime(2016, 6, 23, 5, 0), 665), (datetime.datetime(2016, 6, 23, 9, 0), 315), (datetime.datetime(2016, 6, 23, 13, 0), 255), (datetime.datetime(2016, 6, 23, 17, 0), 256), (datetime.datetime(2016, 6, 23, 21, 0), 108), (datetime.datetime(2016, 6, 24, 1, 0), 38), (datetime.datetime(2016, 6, 24, 5, 0), 576), (datetime.datetime(2016, 6, 24, 9, 0), 281), (datetime.datetime(2016, 6, 24, 13, 0), 74), (datetime.datetime(2016, 6, 24, 17, 0), 47)])\n"
     ]
    }
   ],
   "source": [
    "print datetime_counts.items()[0]"
   ]
  },
  {
   "cell_type": "markdown",
   "metadata": {},
   "source": [
    "# Challenge 3"
   ]
  },
  {
   "cell_type": "code",
   "execution_count": 14,
   "metadata": {
    "collapsed": false
   },
   "outputs": [],
   "source": [
    "day_counts = {}\n",
    "for turnstile, rows in datetime_counts.items():\n",
    "    by_day = {}\n",
    "    for time, count in rows:\n",
    "        day = time.date()\n",
    "        by_day[day] = by_day.get(day, 0) + count\n",
    "    day_counts[turnstile] = sorted(by_day.items())"
   ]
  },
  {
   "cell_type": "code",
   "execution_count": 15,
   "metadata": {
    "collapsed": false
   },
   "outputs": [
    {
     "name": "stdout",
     "output_type": "stream",
     "text": [
      "[(datetime.date(2016, 6, 18), 1346), (datetime.date(2016, 6, 19), 980), (datetime.date(2016, 6, 20), 1735), (datetime.date(2016, 6, 21), 1464), (datetime.date(2016, 6, 22), 1688), (datetime.date(2016, 6, 23), 1626), (datetime.date(2016, 6, 24), 1016)]\n"
     ]
    }
   ],
   "source": [
    "print day_counts['N134', 'R385', '00-00-00', 'ROCKAWAY BLVD']"
   ]
  },
  {
   "cell_type": "markdown",
   "metadata": {},
   "source": [
    "# Challenge 4"
   ]
  },
  {
   "cell_type": "code",
   "execution_count": 16,
   "metadata": {
    "collapsed": true
   },
   "outputs": [],
   "source": [
    "import matplotlib.pyplot as plt\n",
    "% matplotlib inline"
   ]
  },
  {
   "cell_type": "code",
   "execution_count": 17,
   "metadata": {
    "collapsed": true
   },
   "outputs": [],
   "source": [
    "N134 = day_counts[('N134', 'R385', '00-00-00', 'ROCKAWAY BLVD')]"
   ]
  },
  {
   "cell_type": "code",
   "execution_count": 18,
   "metadata": {
    "collapsed": false
   },
   "outputs": [
    {
     "name": "stdout",
     "output_type": "stream",
     "text": [
      "[(datetime.date(2016, 6, 18), 1346), (datetime.date(2016, 6, 19), 980), (datetime.date(2016, 6, 20), 1735), (datetime.date(2016, 6, 21), 1464), (datetime.date(2016, 6, 22), 1688), (datetime.date(2016, 6, 23), 1626), (datetime.date(2016, 6, 24), 1016)]\n"
     ]
    }
   ],
   "source": [
    "print N134"
   ]
  },
  {
   "cell_type": "code",
   "execution_count": 19,
   "metadata": {
    "collapsed": false
   },
   "outputs": [],
   "source": [
    "day_list = []\n",
    "count_list = []\n",
    "for value in N134:\n",
    "    day_list.append(value[0])\n",
    "    \n",
    "for value in N134:\n",
    "    count_list.append(value[1])"
   ]
  },
  {
   "cell_type": "code",
   "execution_count": 22,
   "metadata": {
    "collapsed": false
   },
   "outputs": [
    {
     "data": {
      "text/plain": [
       "<Container object of 7 artists>"
      ]
     },
     "execution_count": 22,
     "metadata": {},
     "output_type": "execute_result"
    },
    {
     "data": {
      "image/png": "[encoded data removed]",
      "text/plain": [
       "<matplotlib.figure.Figure at 0x1170cabd0>"
      ]
     },
     "metadata": {},
     "output_type": "display_data"
    }
   ],
   "source": [
    "plt.figure(figsize=(10,5))\n",
    "plt.ylabel('Date')\n",
    "plt.xlabel('Entries')\n",
    "plt.title(['N134', 'R385', '00-00-00', 'ROCKAWAY BLVD'])\n",
    "plt.bar(day_list,count_list)"
   ]
  },
  {
   "cell_type": "markdown",
   "metadata": {},
   "source": [
    "# Challenge 5"
   ]
  },
  {
   "cell_type": "code",
   "execution_count": 28,
   "metadata": {
    "collapsed": false
   },
   "outputs": [],
   "source": [
    "challenge_5_dict = {}\n",
    "for key, value in day_counts.items():\n",
    "    prev_running_totals = {}\n",
    "    turnstile_daily_counts = {}\n",
    "    current_running_totals = {}\n",
    "    new_key = (key[0], key[1], key[3])\n",
    "    for date, count in challenge_5_dict.setdefault(new_key,[]):\n",
    "        prev_running_totals[date] = count\n",
    "    for date, count in value:\n",
    "        current_running_totals[date] = prev_running_totals.get(date, 0) + count\n",
    "    challenge_5_dict[new_key] = sorted(current_running_totals.items())"
   ]
  },
  {
   "cell_type": "code",
   "execution_count": 29,
   "metadata": {
    "collapsed": false
   },
   "outputs": [
    {
     "name": "stdout",
     "output_type": "stream",
     "text": [
      "[(datetime.date(2016, 6, 18), 3183), (datetime.date(2016, 6, 19), 2059), (datetime.date(2016, 6, 20), 4066), (datetime.date(2016, 6, 21), 4175), (datetime.date(2016, 6, 22), 4209), (datetime.date(2016, 6, 23), 4095), (datetime.date(2016, 6, 24), 3940)]\n"
     ]
    }
   ],
   "source": [
    "print challenge_5_dict['N134', 'R385', 'ROCKAWAY BLVD']"
   ]
  },
  {
   "cell_type": "markdown",
   "metadata": {
    "collapsed": true
   },
   "source": [
    "# Challenge 6"
   ]
  },
  {
   "cell_type": "code",
   "execution_count": 30,
   "metadata": {
    "collapsed": true
   },
   "outputs": [],
   "source": [
    "challenge_6_dict = {}\n",
    "for key, value in day_counts.items():\n",
    "    prev_running_totals = {}\n",
    "    turnstile_daily_counts = {}\n",
    "    current_running_totals = {}\n",
    "    new_key = (key[3])\n",
    "    for date, count in challenge_6_dict.setdefault(new_key,[]):\n",
    "        prev_running_totals[date] = count\n",
    "    for date, count in value:\n",
    "        current_running_totals[date] = prev_running_totals.get(date, 0) + count\n",
    "    challenge_6_dict[new_key] = sorted(current_running_totals.items())"
   ]
  },
  {
   "cell_type": "code",
   "execution_count": 31,
   "metadata": {
    "collapsed": false
   },
   "outputs": [
    {
     "name": "stdout",
     "output_type": "stream",
     "text": [
      "[(datetime.date(2016, 6, 18), 8781), (datetime.date(2016, 6, 19), 6460), (datetime.date(2016, 6, 20), 7647), (datetime.date(2016, 6, 21), 7828), (datetime.date(2016, 6, 22), 7833), (datetime.date(2016, 6, 23), 7738), (datetime.date(2016, 6, 24), 7480)]\n"
     ]
    }
   ],
   "source": [
    "print challenge_6_dict['ROCKAWAY BLVD']"
   ]
  },
  {
   "cell_type": "markdown",
   "metadata": {},
   "source": [
    "# Challenge 7"
   ]
  },
  {
   "cell_type": "code",
   "execution_count": 33,
   "metadata": {
    "collapsed": true
   },
   "outputs": [],
   "source": [
    "gc_station = challenge_6_dict['GRD CNTRL-42 ST']"
   ]
  },
  {
   "cell_type": "code",
   "execution_count": 34,
   "metadata": {
    "collapsed": true
   },
   "outputs": [],
   "source": [
    "day_list_gc = []\n",
    "count_list_gc = []\n",
    "for value in gc_station:\n",
    "    day_list_gc.append(value[0])\n",
    "    \n",
    "for value in gc_station:\n",
    "    count_list_gc.append(value[1])"
   ]
  },
  {
   "cell_type": "code",
   "execution_count": 44,
   "metadata": {
    "collapsed": false
   },
   "outputs": [
    {
     "data": {
      "text/plain": [
       "(0, 150000)"
      ]
     },
     "execution_count": 44,
     "metadata": {},
     "output_type": "execute_result"
    },
    {
     "data": {
      "image/png": "[encoded data removed]",
      "text/plain": [
       "<matplotlib.figure.Figure at 0x11dca1750>"
      ]
     },
     "metadata": {},
     "output_type": "display_data"
    }
   ],
   "source": [
    "plt.figure(figsize=(10,5))\n",
    "plt.ylabel('Date')\n",
    "plt.xlabel('Entries')\n",
    "plt.title('GRD CNTRL-42 ST')\n",
    "plt.bar(day_list_gc,count_list_gc)\n",
    "plt.ylim([0,150000])"
   ]
  },
  {
   "cell_type": "markdown",
   "metadata": {},
   "source": [
    "# Challenge 8, switching to pandas"
   ]
  },
  {
   "cell_type": "code",
   "execution_count": 1,
   "metadata": {
    "collapsed": true
   },
   "outputs": [],
   "source": [
    "import pandas as pd\n",
    "import numpy as np\n",
    "import datetime"
   ]
  },
  {
   "cell_type": "code",
   "execution_count": 2,
   "metadata": {
    "collapsed": true
   },
   "outputs": [],
   "source": [
    "week_1 = pd.read_csv('turnstile_160625.txt', sep=',')\n",
    "week_2 = pd.read_csv('turnstile_160618.txt', sep=',')\n",
    "week_3 = pd.read_csv('turnstile_160611.txt', sep=',')\n",
    "week_4 = pd.read_csv('turnstile_160604.txt', sep=',')"
   ]
  },
  {
   "cell_type": "code",
   "execution_count": 3,
   "metadata": {
    "collapsed": false
   },
   "outputs": [],
   "source": [
    "week_1.columns= map(lambda x: x.strip(), week_1.columns)\n",
    "week_2.columns= map(lambda x: x.strip(), week_2.columns)\n",
    "week_3.columns= map(lambda x: x.strip(), week_3.columns)\n",
    "week_4.columns= map(lambda x: x.strip(), week_4.columns)"
   ]
  },
  {
   "cell_type": "code",
   "execution_count": 5,
   "metadata": {
    "collapsed": false
   },
   "outputs": [],
   "source": [
    "week_1[['ENTRIES', 'EXITS']] = week_1[['ENTRIES', 'EXITS']].astype(np.int)\n",
    "week_1['TIME'] = [pd.to_datetime(time) for time in week_1['TIME']]\n",
    "week_2[['ENTRIES', 'EXITS']] = week_2[['ENTRIES', 'EXITS']].astype(np.int)\n",
    "week_2['TIME'] = [pd.to_datetime(time) for time in week_2['TIME']]\n",
    "week_3[['ENTRIES', 'EXITS']] = week_3[['ENTRIES', 'EXITS']].astype(np.int)\n",
    "week_3['TIME'] = [pd.to_datetime(time) for time in week_3['TIME']]\n",
    "week_4[['ENTRIES', 'EXITS']] = week_4[['ENTRIES', 'EXITS']].astype(np.int)\n",
    "week_4['TIME'] = [pd.to_datetime(time) for time in week_4['TIME']]"
   ]
  },
  {
   "cell_type": "code",
   "execution_count": 6,
   "metadata": {
    "collapsed": true
   },
   "outputs": [],
   "source": [
    "week_1 = week_1.sort_values(by = ['UNIT','SCP','STATION','DATE','TIME'])\n",
    "week_2 = week_2.sort_values(by = ['UNIT','SCP','STATION','DATE','TIME'])\n",
    "week_3 = week_3.sort_values(by = ['UNIT','SCP','STATION','DATE','TIME'])\n",
    "week_4 = week_4.sort_values(by = ['UNIT','SCP','STATION','DATE','TIME'])"
   ]
  },
  {
   "cell_type": "code",
   "execution_count": 7,
   "metadata": {
    "collapsed": false
   },
   "outputs": [],
   "source": [
    "days = {0:'Mon',1:'Tues',2:'Weds',3:'Thurs',4:'Fri',5:'Sat',6:'Sun'}\n",
    "\n",
    "week_1['DATE'] = pd.to_datetime(week_1['DATE'])\n",
    "week_1['day_of_week'] = week_1['DATE'].dt.dayofweek\n",
    "week_1['day_type'] = ['Weekday' if x < 5 else 'Weekend' for x in week_1['day_of_week']]\n",
    "week_1['day'] = week_1['day_of_week'].apply(lambda x: days[x])\n",
    "                                            \n",
    "week_2['DATE'] = pd.to_datetime(week_2['DATE'])\n",
    "week_2['day_of_week'] = week_2['DATE'].dt.dayofweek\n",
    "week_2['day_type'] = ['Weekday' if x < 5 else 'Weekend' for x in week_2['day_of_week']]\n",
    "week_2['day'] = week_2['day_of_week'].apply(lambda x: days[x])\n",
    "                                            \n",
    "week_3['DATE'] = pd.to_datetime(week_3['DATE'])\n",
    "week_3['day_of_week'] = week_3['DATE'].dt.dayofweek\n",
    "week_3['day_type'] = ['Weekday' if x < 5 else 'Weekend' for x in week_3['day_of_week']]\n",
    "week_3['day'] = week_3['day_of_week'].apply(lambda x: days[x])\n",
    "                                            \n",
    "week_4['DATE'] = pd.to_datetime(week_4['DATE'])\n",
    "week_4['day_of_week'] = week_4['DATE'].dt.dayofweek\n",
    "week_4['day_type'] = ['Weekday' if x < 5 else 'Weekend' for x in week_4['day_of_week']]\n",
    "week_4['day'] = week_4['day_of_week'].apply(lambda x: days[x])"
   ]
  },
  {
   "cell_type": "code",
   "execution_count": 8,
   "metadata": {
    "collapsed": true
   },
   "outputs": [],
   "source": [
    "week_1['Net_Entries'] = week_1.groupby([ 'UNIT', 'SCP', 'STATION'])['ENTRIES'].diff()\n",
    "week_1['Net_Exits'] = week_1.groupby(['UNIT', 'SCP', 'STATION'])['EXITS'].diff()\n",
    "week_2['Net_Entries'] = week_2.groupby([ 'UNIT', 'SCP', 'STATION'])['ENTRIES'].diff()\n",
    "week_2['Net_Exits'] = week_2.groupby(['UNIT', 'SCP', 'STATION'])['EXITS'].diff()\n",
    "week_3['Net_Entries'] = week_3.groupby([ 'UNIT', 'SCP', 'STATION'])['ENTRIES'].diff()\n",
    "week_3['Net_Exits'] = week_3.groupby(['UNIT', 'SCP', 'STATION'])['EXITS'].diff()\n",
    "week_4['Net_Entries'] = week_4.groupby([ 'UNIT', 'SCP', 'STATION'])['ENTRIES'].diff()\n",
    "week_4['Net_Exits'] = week_4.groupby(['UNIT', 'SCP', 'STATION'])['EXITS'].diff()"
   ]
  },
  {
   "cell_type": "code",
   "execution_count": 9,
   "metadata": {
    "collapsed": true
   },
   "outputs": [],
   "source": [
    "week_1[week_1['Net_Entries'] > 28800] = np.nan\n",
    "week_1[week_1['Net_Entries'] < 0] = np.nan\n",
    "week_2[week_2['Net_Entries'] > 28800] = np.nan\n",
    "week_2[week_2['Net_Entries'] < 0] = np.nan\n",
    "week_3[week_3['Net_Entries'] > 28800] = np.nan\n",
    "week_3[week_3['Net_Entries'] < 0] = np.nan\n",
    "week_4[week_4['Net_Entries'] > 28800] = np.nan\n",
    "week_4[week_4['Net_Entries'] < 0] = np.nan"
   ]
  },
  {
   "cell_type": "code",
   "execution_count": 10,
   "metadata": {
    "collapsed": true
   },
   "outputs": [],
   "source": [
    "GC_week_1 = week_1[week_1['STATION'] == 'GRD CNTRL-42 ST']\n",
    "GC_week_2 = week_2[week_2['STATION'] == 'GRD CNTRL-42 ST']\n",
    "GC_week_3 = week_3[week_3['STATION'] == 'GRD CNTRL-42 ST']\n",
    "GC_week_4 = week_4[week_4['STATION'] == 'GRD CNTRL-42 ST']"
   ]
  },
  {
   "cell_type": "code",
   "execution_count": 68,
   "metadata": {
    "collapsed": false
   },
   "outputs": [],
   "source": [
    "Days = ['Saturday', 'Sunday', 'Monday', 'Tuesday', 'Wednesday', 'Thursday', 'Friday']\n",
    "\n",
    "GC_1 = GC_week_1.groupby(['day'])['Net_Entries'].sum()\n",
    "GC_2 = GC_week_2.groupby(['day'])['Net_Entries'].sum()\n",
    "GC_3 = GC_week_3.groupby(['day'])['Net_Entries'].sum()\n",
    "GC_4 = GC_week_4.groupby(['day'])['Net_Entries'].sum()"
   ]
  },
  {
   "cell_type": "code",
   "execution_count": 69,
   "metadata": {
    "collapsed": false
   },
   "outputs": [],
   "source": [
    "GC_1.index = pd.CategoricalIndex(GC_1.index, \n",
    "                    categories=['Mon','Tues','Weds','Thurs','Fri','Sat','Sun'], \n",
    "                    ordered=True)\n",
    "\n",
    "GC_2.index = pd.CategoricalIndex(GC_2.index, \n",
    "                    categories=['Mon','Tues','Weds','Thurs','Fri','Sat','Sun'], \n",
    "                    ordered=True)\n",
    "\n",
    "GC_3.index = pd.CategoricalIndex(GC_3.index, \n",
    "                    categories=['Mon','Tues','Weds','Thurs','Fri','Sat','Sun'], \n",
    "                    ordered=True)\n",
    "\n",
    "GC_4.index = pd.CategoricalIndex(GC_4.index, \n",
    "                    categories=['Mon','Tues','Weds','Thurs','Fri','Sat','Sun'], \n",
    "                    ordered=True)"
   ]
  },
  {
   "cell_type": "code",
   "execution_count": 74,
   "metadata": {
    "collapsed": false
   },
   "outputs": [
    {
     "data": {
      "text/plain": [
       "<matplotlib.text.Text at 0x11e7aa3d0>"
      ]
     },
     "execution_count": 74,
     "metadata": {},
     "output_type": "execute_result"
    },
    {
     "data": {
      "image/png": "[encoded data removed]",
      "text/plain": [
       "<matplotlib.figure.Figure at 0x11dc78e50>"
      ]
     },
     "metadata": {},
     "output_type": "display_data"
    }
   ],
   "source": [
    "ax = GC_1.sort_index().plot(label='Week 1')\n",
    "_ = GC_2.sort_index().plot(ax=ax, label='Week 2')\n",
    "_ = GC_3.sort_index().plot(ax=ax, label='Week 3')\n",
    "_ = GC_4.sort_index().plot(ax=ax, label='Week 4')\n",
    "ax.legend(loc=0)\n",
    "sns.despine()\n",
    "ax.set_xlabel('Day of Week')\n",
    "ax.set_ylabel('Ridership by Day')\n",
    "ax.set_title('Ridership by Day for\\nGrand Central-42nd Street')"
   ]
  },
  {
   "cell_type": "code",
   "execution_count": null,
   "metadata": {
    "collapsed": true
   },
   "outputs": [],
   "source": []
  },
  {
   "cell_type": "code",
   "execution_count": 26,
   "metadata": {
    "collapsed": false
   },
   "outputs": [
    {
     "data": {
      "text/plain": [
       "pandas.core.frame.DataFrame"
      ]
     },
     "execution_count": 26,
     "metadata": {},
     "output_type": "execute_result"
    }
   ],
   "source": [
    "type(GC_1.to_frame())"
   ]
  },
  {
   "cell_type": "code",
   "execution_count": 247,
   "metadata": {
    "collapsed": false
   },
   "outputs": [],
   "source": []
  },
  {
   "cell_type": "code",
   "execution_count": 235,
   "metadata": {
    "collapsed": false
   },
   "outputs": [],
   "source": []
  },
  {
   "cell_type": "code",
   "execution_count": 238,
   "metadata": {
    "collapsed": false
   },
   "outputs": [
    {
     "data": {
      "text/html": [
       "<div>\n",
       "<table border=\"1\" class=\"dataframe\">\n",
       "  <thead>\n",
       "    <tr style=\"text-align: right;\">\n",
       "      <th></th>\n",
       "      <th>Net_Entries</th>\n",
       "    </tr>\n",
       "  </thead>\n",
       "  <tbody>\n",
       "    <tr>\n",
       "      <th>0</th>\n",
       "      <td>{u'Sun': 47091.0, u'Fri': 152125.0, u'Thurs': ...</td>\n",
       "    </tr>\n",
       "    <tr>\n",
       "      <th>1</th>\n",
       "      <td>{u'Sun': 52321.0, u'Fri': 154778.0, u'Thurs': ...</td>\n",
       "    </tr>\n",
       "    <tr>\n",
       "      <th>2</th>\n",
       "      <td>{u'Sun': 48017.0, u'Fri': 157484.0, u'Thurs': ...</td>\n",
       "    </tr>\n",
       "    <tr>\n",
       "      <th>3</th>\n",
       "      <td>{u'Sun': 49018.0, u'Fri': 158450.0, u'Thurs': ...</td>\n",
       "    </tr>\n",
       "  </tbody>\n",
       "</table>\n",
       "</div>"
      ],
      "text/plain": [
       "                                         Net_Entries\n",
       "0  {u'Sun': 47091.0, u'Fri': 152125.0, u'Thurs': ...\n",
       "1  {u'Sun': 52321.0, u'Fri': 154778.0, u'Thurs': ...\n",
       "2  {u'Sun': 48017.0, u'Fri': 157484.0, u'Thurs': ...\n",
       "3  {u'Sun': 49018.0, u'Fri': 158450.0, u'Thurs': ..."
      ]
     },
     "execution_count": 238,
     "metadata": {},
     "output_type": "execute_result"
    }
   ],
   "source": []
  },
  {
   "cell_type": "code",
   "execution_count": 237,
   "metadata": {
    "collapsed": false
   },
   "outputs": [
    {
     "ename": "TypeError",
     "evalue": "Empty 'DataFrame': no numeric data to plot",
     "output_type": "error",
     "traceback": [
      "\u001b[0;31m---------------------------------------------------------------------------\u001b[0m",
      "\u001b[0;31mTypeError\u001b[0m                                 Traceback (most recent call last)",
      "\u001b[0;32m<ipython-input-237-03220ef4b188>\u001b[0m in \u001b[0;36m<module>\u001b[0;34m()\u001b[0m\n\u001b[1;32m      1\u001b[0m \u001b[0;32mimport\u001b[0m \u001b[0mmatplotlib\u001b[0m\u001b[0;34m.\u001b[0m\u001b[0mpyplot\u001b[0m \u001b[0;32mas\u001b[0m \u001b[0mplt\u001b[0m\u001b[0;34m\u001b[0m\u001b[0m\n\u001b[1;32m      2\u001b[0m \u001b[0mget_ipython\u001b[0m\u001b[0;34m(\u001b[0m\u001b[0;34m)\u001b[0m\u001b[0;34m.\u001b[0m\u001b[0mmagic\u001b[0m\u001b[0;34m(\u001b[0m\u001b[0;34mu'matplotlib inline'\u001b[0m\u001b[0;34m)\u001b[0m\u001b[0;34m\u001b[0m\u001b[0m\n\u001b[0;32m----> 3\u001b[0;31m \u001b[0mGC\u001b[0m\u001b[0;34m.\u001b[0m\u001b[0mplot\u001b[0m\u001b[0;34m(\u001b[0m\u001b[0mstyle\u001b[0m\u001b[0;34m=\u001b[0m\u001b[0;34m'o-'\u001b[0m\u001b[0;34m)\u001b[0m\u001b[0;34m\u001b[0m\u001b[0m\n\u001b[0m",
      "\u001b[0;32m/Users/whitneychia/anaconda/lib/python2.7/site-packages/pandas/tools/plotting.pyc\u001b[0m in \u001b[0;36m__call__\u001b[0;34m(self, x, y, kind, ax, subplots, sharex, sharey, layout, figsize, use_index, title, grid, legend, style, logx, logy, loglog, xticks, yticks, xlim, ylim, rot, fontsize, colormap, table, yerr, xerr, secondary_y, sort_columns, **kwds)\u001b[0m\n\u001b[1;32m   3735\u001b[0m                           \u001b[0mfontsize\u001b[0m\u001b[0;34m=\u001b[0m\u001b[0mfontsize\u001b[0m\u001b[0;34m,\u001b[0m \u001b[0mcolormap\u001b[0m\u001b[0;34m=\u001b[0m\u001b[0mcolormap\u001b[0m\u001b[0;34m,\u001b[0m \u001b[0mtable\u001b[0m\u001b[0;34m=\u001b[0m\u001b[0mtable\u001b[0m\u001b[0;34m,\u001b[0m\u001b[0;34m\u001b[0m\u001b[0m\n\u001b[1;32m   3736\u001b[0m                           \u001b[0myerr\u001b[0m\u001b[0;34m=\u001b[0m\u001b[0myerr\u001b[0m\u001b[0;34m,\u001b[0m \u001b[0mxerr\u001b[0m\u001b[0;34m=\u001b[0m\u001b[0mxerr\u001b[0m\u001b[0;34m,\u001b[0m \u001b[0msecondary_y\u001b[0m\u001b[0;34m=\u001b[0m\u001b[0msecondary_y\u001b[0m\u001b[0;34m,\u001b[0m\u001b[0;34m\u001b[0m\u001b[0m\n\u001b[0;32m-> 3737\u001b[0;31m                           sort_columns=sort_columns, **kwds)\n\u001b[0m\u001b[1;32m   3738\u001b[0m     \u001b[0m__call__\u001b[0m\u001b[0;34m.\u001b[0m\u001b[0m__doc__\u001b[0m \u001b[0;34m=\u001b[0m \u001b[0mplot_frame\u001b[0m\u001b[0;34m.\u001b[0m\u001b[0m__doc__\u001b[0m\u001b[0;34m\u001b[0m\u001b[0m\n\u001b[1;32m   3739\u001b[0m \u001b[0;34m\u001b[0m\u001b[0m\n",
      "\u001b[0;32m/Users/whitneychia/anaconda/lib/python2.7/site-packages/pandas/tools/plotting.pyc\u001b[0m in \u001b[0;36mplot_frame\u001b[0;34m(data, x, y, kind, ax, subplots, sharex, sharey, layout, figsize, use_index, title, grid, legend, style, logx, logy, loglog, xticks, yticks, xlim, ylim, rot, fontsize, colormap, table, yerr, xerr, secondary_y, sort_columns, **kwds)\u001b[0m\n\u001b[1;32m   2609\u001b[0m                  \u001b[0myerr\u001b[0m\u001b[0;34m=\u001b[0m\u001b[0myerr\u001b[0m\u001b[0;34m,\u001b[0m \u001b[0mxerr\u001b[0m\u001b[0;34m=\u001b[0m\u001b[0mxerr\u001b[0m\u001b[0;34m,\u001b[0m\u001b[0;34m\u001b[0m\u001b[0m\n\u001b[1;32m   2610\u001b[0m                  \u001b[0msecondary_y\u001b[0m\u001b[0;34m=\u001b[0m\u001b[0msecondary_y\u001b[0m\u001b[0;34m,\u001b[0m \u001b[0msort_columns\u001b[0m\u001b[0;34m=\u001b[0m\u001b[0msort_columns\u001b[0m\u001b[0;34m,\u001b[0m\u001b[0;34m\u001b[0m\u001b[0m\n\u001b[0;32m-> 2611\u001b[0;31m                  **kwds)\n\u001b[0m\u001b[1;32m   2612\u001b[0m \u001b[0;34m\u001b[0m\u001b[0m\n\u001b[1;32m   2613\u001b[0m \u001b[0;34m\u001b[0m\u001b[0m\n",
      "\u001b[0;32m/Users/whitneychia/anaconda/lib/python2.7/site-packages/pandas/tools/plotting.pyc\u001b[0m in \u001b[0;36m_plot\u001b[0;34m(data, x, y, subplots, ax, kind, **kwds)\u001b[0m\n\u001b[1;32m   2436\u001b[0m         \u001b[0mplot_obj\u001b[0m \u001b[0;34m=\u001b[0m \u001b[0mklass\u001b[0m\u001b[0;34m(\u001b[0m\u001b[0mdata\u001b[0m\u001b[0;34m,\u001b[0m \u001b[0msubplots\u001b[0m\u001b[0;34m=\u001b[0m\u001b[0msubplots\u001b[0m\u001b[0;34m,\u001b[0m \u001b[0max\u001b[0m\u001b[0;34m=\u001b[0m\u001b[0max\u001b[0m\u001b[0;34m,\u001b[0m \u001b[0mkind\u001b[0m\u001b[0;34m=\u001b[0m\u001b[0mkind\u001b[0m\u001b[0;34m,\u001b[0m \u001b[0;34m**\u001b[0m\u001b[0mkwds\u001b[0m\u001b[0;34m)\u001b[0m\u001b[0;34m\u001b[0m\u001b[0m\n\u001b[1;32m   2437\u001b[0m \u001b[0;34m\u001b[0m\u001b[0m\n\u001b[0;32m-> 2438\u001b[0;31m     \u001b[0mplot_obj\u001b[0m\u001b[0;34m.\u001b[0m\u001b[0mgenerate\u001b[0m\u001b[0;34m(\u001b[0m\u001b[0;34m)\u001b[0m\u001b[0;34m\u001b[0m\u001b[0m\n\u001b[0m\u001b[1;32m   2439\u001b[0m     \u001b[0mplot_obj\u001b[0m\u001b[0;34m.\u001b[0m\u001b[0mdraw\u001b[0m\u001b[0;34m(\u001b[0m\u001b[0;34m)\u001b[0m\u001b[0;34m\u001b[0m\u001b[0m\n\u001b[1;32m   2440\u001b[0m     \u001b[0;32mreturn\u001b[0m \u001b[0mplot_obj\u001b[0m\u001b[0;34m.\u001b[0m\u001b[0mresult\u001b[0m\u001b[0;34m\u001b[0m\u001b[0m\n",
      "\u001b[0;32m/Users/whitneychia/anaconda/lib/python2.7/site-packages/pandas/tools/plotting.pyc\u001b[0m in \u001b[0;36mgenerate\u001b[0;34m(self)\u001b[0m\n\u001b[1;32m   1021\u001b[0m     \u001b[0;32mdef\u001b[0m \u001b[0mgenerate\u001b[0m\u001b[0;34m(\u001b[0m\u001b[0mself\u001b[0m\u001b[0;34m)\u001b[0m\u001b[0;34m:\u001b[0m\u001b[0;34m\u001b[0m\u001b[0m\n\u001b[1;32m   1022\u001b[0m         \u001b[0mself\u001b[0m\u001b[0;34m.\u001b[0m\u001b[0m_args_adjust\u001b[0m\u001b[0;34m(\u001b[0m\u001b[0;34m)\u001b[0m\u001b[0;34m\u001b[0m\u001b[0m\n\u001b[0;32m-> 1023\u001b[0;31m         \u001b[0mself\u001b[0m\u001b[0;34m.\u001b[0m\u001b[0m_compute_plot_data\u001b[0m\u001b[0;34m(\u001b[0m\u001b[0;34m)\u001b[0m\u001b[0;34m\u001b[0m\u001b[0m\n\u001b[0m\u001b[1;32m   1024\u001b[0m         \u001b[0mself\u001b[0m\u001b[0;34m.\u001b[0m\u001b[0m_setup_subplots\u001b[0m\u001b[0;34m(\u001b[0m\u001b[0;34m)\u001b[0m\u001b[0;34m\u001b[0m\u001b[0m\n\u001b[1;32m   1025\u001b[0m         \u001b[0mself\u001b[0m\u001b[0;34m.\u001b[0m\u001b[0m_make_plot\u001b[0m\u001b[0;34m(\u001b[0m\u001b[0;34m)\u001b[0m\u001b[0;34m\u001b[0m\u001b[0m\n",
      "\u001b[0;32m/Users/whitneychia/anaconda/lib/python2.7/site-packages/pandas/tools/plotting.pyc\u001b[0m in \u001b[0;36m_compute_plot_data\u001b[0;34m(self)\u001b[0m\n\u001b[1;32m   1130\u001b[0m         \u001b[0;32mif\u001b[0m \u001b[0mis_empty\u001b[0m\u001b[0;34m:\u001b[0m\u001b[0;34m\u001b[0m\u001b[0m\n\u001b[1;32m   1131\u001b[0m             raise TypeError('Empty {0!r}: no numeric data to '\n\u001b[0;32m-> 1132\u001b[0;31m                             'plot'.format(numeric_data.__class__.__name__))\n\u001b[0m\u001b[1;32m   1133\u001b[0m \u001b[0;34m\u001b[0m\u001b[0m\n\u001b[1;32m   1134\u001b[0m         \u001b[0mself\u001b[0m\u001b[0;34m.\u001b[0m\u001b[0mdata\u001b[0m \u001b[0;34m=\u001b[0m \u001b[0mnumeric_data\u001b[0m\u001b[0;34m\u001b[0m\u001b[0m\n",
      "\u001b[0;31mTypeError\u001b[0m: Empty 'DataFrame': no numeric data to plot"
     ]
    }
   ],
   "source": [
    "import matplotlib.pyplot as plt\n",
    "% matplotlib inline\n",
    "GC.plot(style='o-')"
   ]
  },
  {
   "cell_type": "code",
   "execution_count": null,
   "metadata": {
    "collapsed": true
   },
   "outputs": [],
   "source": []
  },
  {
   "cell_type": "markdown",
   "metadata": {
    "collapsed": true
   },
   "source": [
    "# Challenge 9, switching to pandas"
   ]
  },
  {
   "cell_type": "code",
   "execution_count": 64,
   "metadata": {
    "collapsed": false
   },
   "outputs": [],
   "source": [
    "past_month_MTA = pd.read_csv('June_2016_for_pd.txt', sep='\\t')"
   ]
  },
  {
   "cell_type": "code",
   "execution_count": 65,
   "metadata": {
    "collapsed": false
   },
   "outputs": [],
   "source": [
    "past_month_MTA = pd.DataFrame(past_month_MTA)"
   ]
  },
  {
   "cell_type": "code",
   "execution_count": 83,
   "metadata": {
    "collapsed": false
   },
   "outputs": [
    {
     "data": {
      "text/plain": [
       "C/A         object\n",
       "UNIT        object\n",
       "SCP         object\n",
       "STATION     object\n",
       "LINENAME    object\n",
       "DIVISION    object\n",
       "DATE        object\n",
       "TIME        object\n",
       "DESC        object\n",
       "ENTRIES      int64\n",
       "EXITS        int64\n",
       "dtype: object"
      ]
     },
     "execution_count": 83,
     "metadata": {},
     "output_type": "execute_result"
    }
   ],
   "source": [
    "past_month_MTA.dtypes"
   ]
  },
  {
   "cell_type": "code",
   "execution_count": 67,
   "metadata": {
    "collapsed": true
   },
   "outputs": [],
   "source": [
    "past_month_MTA.columns= map(lambda x: x.strip(), past_month_MTA.columns)"
   ]
  },
  {
   "cell_type": "code",
   "execution_count": 84,
   "metadata": {
    "collapsed": false
   },
   "outputs": [],
   "source": [
    "past_month_MTA[['ENTRIES', 'EXITS']] = past_month_MTA[['ENTRIES', 'EXITS']].astype(np.int)\n",
    "past_month_MTA['TIME'] = [pd.to_datetime(time) for time in past_month_MTA['TIME']]"
   ]
  },
  {
   "cell_type": "code",
   "execution_count": 85,
   "metadata": {
    "collapsed": false
   },
   "outputs": [],
   "source": [
    "past_month_MTA = past_month_MTA.sort_values(by = ['UNIT','SCP','STATION','DATE','TIME'])"
   ]
  },
  {
   "cell_type": "code",
   "execution_count": 86,
   "metadata": {
    "collapsed": true
   },
   "outputs": [],
   "source": [
    "past_month_MTA['Net_Entries'] = past_month_MTA.groupby([ 'UNIT', 'SCP', 'STATION'])['ENTRIES'].diff()\n",
    "past_month_MTA['Net_Exits'] = past_month_MTA.groupby(['UNIT', 'SCP', 'STATION'])['EXITS'].diff()"
   ]
  },
  {
   "cell_type": "code",
   "execution_count": 61,
   "metadata": {
    "collapsed": false
   },
   "outputs": [
    {
     "ename": "TypeError",
     "evalue": "'numpy.dtype' object is not callable",
     "output_type": "error",
     "traceback": [
      "\u001b[0;31m---------------------------------------------------------------------------\u001b[0m",
      "\u001b[0;31mTypeError\u001b[0m                                 Traceback (most recent call last)",
      "\u001b[0;32m<ipython-input-61-e1df9674c02f>\u001b[0m in \u001b[0;36m<module>\u001b[0;34m()\u001b[0m\n\u001b[1;32m      6\u001b[0m \u001b[0;31m# past_month_MTA[past_month_MTA['Net_Exits'] > 28800] = np.nan\u001b[0m\u001b[0;34m\u001b[0m\u001b[0;34m\u001b[0m\u001b[0m\n\u001b[1;32m      7\u001b[0m \u001b[0;31m# past_month_MTA[past_month_MTA['Net_Exits'] < 0] = np.nan\u001b[0m\u001b[0;34m\u001b[0m\u001b[0;34m\u001b[0m\u001b[0m\n\u001b[0;32m----> 8\u001b[0;31m \u001b[0mpast_month_MTA\u001b[0m\u001b[0;34m.\u001b[0m\u001b[0mTIME\u001b[0m\u001b[0;34m.\u001b[0m\u001b[0mdtype\u001b[0m\u001b[0;34m(\u001b[0m\u001b[0;34m)\u001b[0m\u001b[0;34m\u001b[0m\u001b[0m\n\u001b[0m",
      "\u001b[0;31mTypeError\u001b[0m: 'numpy.dtype' object is not callable"
     ]
    }
   ],
   "source": [
    "# #At a granular level of Traffic per turnstile per 4 hour period, it would be very close to physically impossible\n",
    "# #for the total number of Traffic in a 4 hour period to be greater than 1 per second. So, I am treating the data\n",
    "# #that is greater than 2 per second as bad data. 60*60*4*2 = 28800\n",
    "# past_month_MTA[past_month_MTA['Net_Entries'] > 28800] = np.nan\n",
    "# past_month_MTA[past_month_MTA['Net_Entries'] < 0] = np.nan\n",
    "# past_month_MTA[past_month_MTA['Net_Exits'] > 28800] = np.nan\n",
    "# past_month_MTA[past_month_MTA['Net_Exits'] < 0] = np.nan"
   ]
  },
  {
   "cell_type": "code",
   "execution_count": 87,
   "metadata": {
    "collapsed": false
   },
   "outputs": [
    {
     "data": {
      "text/html": [
       "<div>\n",
       "<table border=\"1\" class=\"dataframe\">\n",
       "  <thead>\n",
       "    <tr style=\"text-align: right;\">\n",
       "      <th></th>\n",
       "      <th>C/A</th>\n",
       "      <th>UNIT</th>\n",
       "      <th>SCP</th>\n",
       "      <th>STATION</th>\n",
       "      <th>LINENAME</th>\n",
       "      <th>DIVISION</th>\n",
       "      <th>DATE</th>\n",
       "      <th>TIME</th>\n",
       "      <th>DESC</th>\n",
       "      <th>ENTRIES</th>\n",
       "      <th>EXITS</th>\n",
       "      <th>Net_Entries</th>\n",
       "      <th>Net_Exits</th>\n",
       "    </tr>\n",
       "  </thead>\n",
       "  <tbody>\n",
       "    <tr>\n",
       "      <th>10288</th>\n",
       "      <td>A060</td>\n",
       "      <td>R001</td>\n",
       "      <td>00-00-00</td>\n",
       "      <td>WHITEHALL S-FRY</td>\n",
       "      <td>R1</td>\n",
       "      <td>BMT</td>\n",
       "      <td>5/28/16</td>\n",
       "      <td>2016-07-12 01:00:00</td>\n",
       "      <td>REGULAR</td>\n",
       "      <td>1770933</td>\n",
       "      <td>1646742</td>\n",
       "      <td>NaN</td>\n",
       "      <td>NaN</td>\n",
       "    </tr>\n",
       "    <tr>\n",
       "      <th>10289</th>\n",
       "      <td>A060</td>\n",
       "      <td>R001</td>\n",
       "      <td>00-00-00</td>\n",
       "      <td>WHITEHALL S-FRY</td>\n",
       "      <td>R1</td>\n",
       "      <td>BMT</td>\n",
       "      <td>5/28/16</td>\n",
       "      <td>2016-07-12 05:00:00</td>\n",
       "      <td>REGULAR</td>\n",
       "      <td>1770941</td>\n",
       "      <td>1646748</td>\n",
       "      <td>8.0</td>\n",
       "      <td>6.0</td>\n",
       "    </tr>\n",
       "    <tr>\n",
       "      <th>10290</th>\n",
       "      <td>A060</td>\n",
       "      <td>R001</td>\n",
       "      <td>00-00-00</td>\n",
       "      <td>WHITEHALL S-FRY</td>\n",
       "      <td>R1</td>\n",
       "      <td>BMT</td>\n",
       "      <td>5/28/16</td>\n",
       "      <td>2016-07-12 09:00:00</td>\n",
       "      <td>REGULAR</td>\n",
       "      <td>1770966</td>\n",
       "      <td>1646765</td>\n",
       "      <td>25.0</td>\n",
       "      <td>17.0</td>\n",
       "    </tr>\n",
       "    <tr>\n",
       "      <th>10291</th>\n",
       "      <td>A060</td>\n",
       "      <td>R001</td>\n",
       "      <td>00-00-00</td>\n",
       "      <td>WHITEHALL S-FRY</td>\n",
       "      <td>R1</td>\n",
       "      <td>BMT</td>\n",
       "      <td>5/28/16</td>\n",
       "      <td>2016-07-12 13:00:00</td>\n",
       "      <td>REGULAR</td>\n",
       "      <td>1771148</td>\n",
       "      <td>1646953</td>\n",
       "      <td>182.0</td>\n",
       "      <td>188.0</td>\n",
       "    </tr>\n",
       "    <tr>\n",
       "      <th>10292</th>\n",
       "      <td>A060</td>\n",
       "      <td>R001</td>\n",
       "      <td>00-00-00</td>\n",
       "      <td>WHITEHALL S-FRY</td>\n",
       "      <td>R1</td>\n",
       "      <td>BMT</td>\n",
       "      <td>5/28/16</td>\n",
       "      <td>2016-07-12 17:00:00</td>\n",
       "      <td>REGULAR</td>\n",
       "      <td>1771458</td>\n",
       "      <td>1647145</td>\n",
       "      <td>310.0</td>\n",
       "      <td>192.0</td>\n",
       "    </tr>\n",
       "    <tr>\n",
       "      <th>10293</th>\n",
       "      <td>A060</td>\n",
       "      <td>R001</td>\n",
       "      <td>00-00-00</td>\n",
       "      <td>WHITEHALL S-FRY</td>\n",
       "      <td>R1</td>\n",
       "      <td>BMT</td>\n",
       "      <td>5/28/16</td>\n",
       "      <td>2016-07-12 21:00:00</td>\n",
       "      <td>REGULAR</td>\n",
       "      <td>1771742</td>\n",
       "      <td>1647245</td>\n",
       "      <td>284.0</td>\n",
       "      <td>100.0</td>\n",
       "    </tr>\n",
       "    <tr>\n",
       "      <th>10294</th>\n",
       "      <td>A060</td>\n",
       "      <td>R001</td>\n",
       "      <td>00-00-00</td>\n",
       "      <td>WHITEHALL S-FRY</td>\n",
       "      <td>R1</td>\n",
       "      <td>BMT</td>\n",
       "      <td>5/29/16</td>\n",
       "      <td>2016-07-12 01:00:00</td>\n",
       "      <td>REGULAR</td>\n",
       "      <td>1771825</td>\n",
       "      <td>1647285</td>\n",
       "      <td>83.0</td>\n",
       "      <td>40.0</td>\n",
       "    </tr>\n",
       "    <tr>\n",
       "      <th>10295</th>\n",
       "      <td>A060</td>\n",
       "      <td>R001</td>\n",
       "      <td>00-00-00</td>\n",
       "      <td>WHITEHALL S-FRY</td>\n",
       "      <td>R1</td>\n",
       "      <td>BMT</td>\n",
       "      <td>5/29/16</td>\n",
       "      <td>2016-07-12 05:00:00</td>\n",
       "      <td>REGULAR</td>\n",
       "      <td>1771830</td>\n",
       "      <td>1647290</td>\n",
       "      <td>5.0</td>\n",
       "      <td>5.0</td>\n",
       "    </tr>\n",
       "    <tr>\n",
       "      <th>10296</th>\n",
       "      <td>A060</td>\n",
       "      <td>R001</td>\n",
       "      <td>00-00-00</td>\n",
       "      <td>WHITEHALL S-FRY</td>\n",
       "      <td>R1</td>\n",
       "      <td>BMT</td>\n",
       "      <td>5/29/16</td>\n",
       "      <td>2016-07-12 09:00:00</td>\n",
       "      <td>REGULAR</td>\n",
       "      <td>1771857</td>\n",
       "      <td>1647302</td>\n",
       "      <td>27.0</td>\n",
       "      <td>12.0</td>\n",
       "    </tr>\n",
       "    <tr>\n",
       "      <th>10297</th>\n",
       "      <td>A060</td>\n",
       "      <td>R001</td>\n",
       "      <td>00-00-00</td>\n",
       "      <td>WHITEHALL S-FRY</td>\n",
       "      <td>R1</td>\n",
       "      <td>BMT</td>\n",
       "      <td>5/29/16</td>\n",
       "      <td>2016-07-12 13:00:00</td>\n",
       "      <td>REGULAR</td>\n",
       "      <td>1771996</td>\n",
       "      <td>1647480</td>\n",
       "      <td>139.0</td>\n",
       "      <td>178.0</td>\n",
       "    </tr>\n",
       "    <tr>\n",
       "      <th>10298</th>\n",
       "      <td>A060</td>\n",
       "      <td>R001</td>\n",
       "      <td>00-00-00</td>\n",
       "      <td>WHITEHALL S-FRY</td>\n",
       "      <td>R1</td>\n",
       "      <td>BMT</td>\n",
       "      <td>5/29/16</td>\n",
       "      <td>2016-07-12 17:00:00</td>\n",
       "      <td>REGULAR</td>\n",
       "      <td>1772389</td>\n",
       "      <td>1647635</td>\n",
       "      <td>393.0</td>\n",
       "      <td>155.0</td>\n",
       "    </tr>\n",
       "    <tr>\n",
       "      <th>10299</th>\n",
       "      <td>A060</td>\n",
       "      <td>R001</td>\n",
       "      <td>00-00-00</td>\n",
       "      <td>WHITEHALL S-FRY</td>\n",
       "      <td>R1</td>\n",
       "      <td>BMT</td>\n",
       "      <td>5/29/16</td>\n",
       "      <td>2016-07-12 21:00:00</td>\n",
       "      <td>REGULAR</td>\n",
       "      <td>1772715</td>\n",
       "      <td>1647703</td>\n",
       "      <td>326.0</td>\n",
       "      <td>68.0</td>\n",
       "    </tr>\n",
       "    <tr>\n",
       "      <th>10300</th>\n",
       "      <td>A060</td>\n",
       "      <td>R001</td>\n",
       "      <td>00-00-00</td>\n",
       "      <td>WHITEHALL S-FRY</td>\n",
       "      <td>R1</td>\n",
       "      <td>BMT</td>\n",
       "      <td>5/30/16</td>\n",
       "      <td>2016-07-12 01:00:00</td>\n",
       "      <td>REGULAR</td>\n",
       "      <td>1772784</td>\n",
       "      <td>1647731</td>\n",
       "      <td>69.0</td>\n",
       "      <td>28.0</td>\n",
       "    </tr>\n",
       "    <tr>\n",
       "      <th>10301</th>\n",
       "      <td>A060</td>\n",
       "      <td>R001</td>\n",
       "      <td>00-00-00</td>\n",
       "      <td>WHITEHALL S-FRY</td>\n",
       "      <td>R1</td>\n",
       "      <td>BMT</td>\n",
       "      <td>5/30/16</td>\n",
       "      <td>2016-07-12 05:00:00</td>\n",
       "      <td>REGULAR</td>\n",
       "      <td>1772789</td>\n",
       "      <td>1647735</td>\n",
       "      <td>5.0</td>\n",
       "      <td>4.0</td>\n",
       "    </tr>\n",
       "    <tr>\n",
       "      <th>10302</th>\n",
       "      <td>A060</td>\n",
       "      <td>R001</td>\n",
       "      <td>00-00-00</td>\n",
       "      <td>WHITEHALL S-FRY</td>\n",
       "      <td>R1</td>\n",
       "      <td>BMT</td>\n",
       "      <td>5/30/16</td>\n",
       "      <td>2016-07-12 09:00:00</td>\n",
       "      <td>REGULAR</td>\n",
       "      <td>1772816</td>\n",
       "      <td>1647746</td>\n",
       "      <td>27.0</td>\n",
       "      <td>11.0</td>\n",
       "    </tr>\n",
       "    <tr>\n",
       "      <th>10303</th>\n",
       "      <td>A060</td>\n",
       "      <td>R001</td>\n",
       "      <td>00-00-00</td>\n",
       "      <td>WHITEHALL S-FRY</td>\n",
       "      <td>R1</td>\n",
       "      <td>BMT</td>\n",
       "      <td>5/30/16</td>\n",
       "      <td>2016-07-12 13:00:00</td>\n",
       "      <td>REGULAR</td>\n",
       "      <td>1772917</td>\n",
       "      <td>1647817</td>\n",
       "      <td>101.0</td>\n",
       "      <td>71.0</td>\n",
       "    </tr>\n",
       "    <tr>\n",
       "      <th>10304</th>\n",
       "      <td>A060</td>\n",
       "      <td>R001</td>\n",
       "      <td>00-00-00</td>\n",
       "      <td>WHITEHALL S-FRY</td>\n",
       "      <td>R1</td>\n",
       "      <td>BMT</td>\n",
       "      <td>5/30/16</td>\n",
       "      <td>2016-07-12 17:00:00</td>\n",
       "      <td>REGULAR</td>\n",
       "      <td>1773044</td>\n",
       "      <td>1647869</td>\n",
       "      <td>127.0</td>\n",
       "      <td>52.0</td>\n",
       "    </tr>\n",
       "    <tr>\n",
       "      <th>10305</th>\n",
       "      <td>A060</td>\n",
       "      <td>R001</td>\n",
       "      <td>00-00-00</td>\n",
       "      <td>WHITEHALL S-FRY</td>\n",
       "      <td>R1</td>\n",
       "      <td>BMT</td>\n",
       "      <td>5/30/16</td>\n",
       "      <td>2016-07-12 21:00:00</td>\n",
       "      <td>REGULAR</td>\n",
       "      <td>1773242</td>\n",
       "      <td>1647918</td>\n",
       "      <td>198.0</td>\n",
       "      <td>49.0</td>\n",
       "    </tr>\n",
       "    <tr>\n",
       "      <th>10306</th>\n",
       "      <td>A060</td>\n",
       "      <td>R001</td>\n",
       "      <td>00-00-00</td>\n",
       "      <td>WHITEHALL S-FRY</td>\n",
       "      <td>R1</td>\n",
       "      <td>BMT</td>\n",
       "      <td>5/31/16</td>\n",
       "      <td>2016-07-12 01:00:00</td>\n",
       "      <td>REGULAR</td>\n",
       "      <td>1773285</td>\n",
       "      <td>1647932</td>\n",
       "      <td>43.0</td>\n",
       "      <td>14.0</td>\n",
       "    </tr>\n",
       "    <tr>\n",
       "      <th>10307</th>\n",
       "      <td>A060</td>\n",
       "      <td>R001</td>\n",
       "      <td>00-00-00</td>\n",
       "      <td>WHITEHALL S-FRY</td>\n",
       "      <td>R1</td>\n",
       "      <td>BMT</td>\n",
       "      <td>5/31/16</td>\n",
       "      <td>2016-07-12 05:00:00</td>\n",
       "      <td>REGULAR</td>\n",
       "      <td>1773289</td>\n",
       "      <td>1647937</td>\n",
       "      <td>4.0</td>\n",
       "      <td>5.0</td>\n",
       "    </tr>\n",
       "    <tr>\n",
       "      <th>10308</th>\n",
       "      <td>A060</td>\n",
       "      <td>R001</td>\n",
       "      <td>00-00-00</td>\n",
       "      <td>WHITEHALL S-FRY</td>\n",
       "      <td>R1</td>\n",
       "      <td>BMT</td>\n",
       "      <td>5/31/16</td>\n",
       "      <td>2016-07-12 09:00:00</td>\n",
       "      <td>REGULAR</td>\n",
       "      <td>1773491</td>\n",
       "      <td>1647996</td>\n",
       "      <td>202.0</td>\n",
       "      <td>59.0</td>\n",
       "    </tr>\n",
       "    <tr>\n",
       "      <th>10309</th>\n",
       "      <td>A060</td>\n",
       "      <td>R001</td>\n",
       "      <td>00-00-00</td>\n",
       "      <td>WHITEHALL S-FRY</td>\n",
       "      <td>R1</td>\n",
       "      <td>BMT</td>\n",
       "      <td>5/31/16</td>\n",
       "      <td>2016-07-12 13:00:00</td>\n",
       "      <td>REGULAR</td>\n",
       "      <td>1773654</td>\n",
       "      <td>1648295</td>\n",
       "      <td>163.0</td>\n",
       "      <td>299.0</td>\n",
       "    </tr>\n",
       "    <tr>\n",
       "      <th>10310</th>\n",
       "      <td>A060</td>\n",
       "      <td>R001</td>\n",
       "      <td>00-00-00</td>\n",
       "      <td>WHITEHALL S-FRY</td>\n",
       "      <td>R1</td>\n",
       "      <td>BMT</td>\n",
       "      <td>5/31/16</td>\n",
       "      <td>2016-07-12 17:00:00</td>\n",
       "      <td>REGULAR</td>\n",
       "      <td>1773956</td>\n",
       "      <td>1648516</td>\n",
       "      <td>302.0</td>\n",
       "      <td>221.0</td>\n",
       "    </tr>\n",
       "    <tr>\n",
       "      <th>10311</th>\n",
       "      <td>A060</td>\n",
       "      <td>R001</td>\n",
       "      <td>00-00-00</td>\n",
       "      <td>WHITEHALL S-FRY</td>\n",
       "      <td>R1</td>\n",
       "      <td>BMT</td>\n",
       "      <td>5/31/16</td>\n",
       "      <td>2016-07-12 21:00:00</td>\n",
       "      <td>REGULAR</td>\n",
       "      <td>1774266</td>\n",
       "      <td>1648674</td>\n",
       "      <td>310.0</td>\n",
       "      <td>158.0</td>\n",
       "    </tr>\n",
       "    <tr>\n",
       "      <th>10312</th>\n",
       "      <td>A060</td>\n",
       "      <td>R001</td>\n",
       "      <td>00-00-00</td>\n",
       "      <td>WHITEHALL S-FRY</td>\n",
       "      <td>R1</td>\n",
       "      <td>BMT</td>\n",
       "      <td>6/1/16</td>\n",
       "      <td>2016-07-12 01:00:00</td>\n",
       "      <td>REGULAR</td>\n",
       "      <td>1774304</td>\n",
       "      <td>1648722</td>\n",
       "      <td>38.0</td>\n",
       "      <td>48.0</td>\n",
       "    </tr>\n",
       "    <tr>\n",
       "      <th>10313</th>\n",
       "      <td>A060</td>\n",
       "      <td>R001</td>\n",
       "      <td>00-00-00</td>\n",
       "      <td>WHITEHALL S-FRY</td>\n",
       "      <td>R1</td>\n",
       "      <td>BMT</td>\n",
       "      <td>6/1/16</td>\n",
       "      <td>2016-07-12 05:00:00</td>\n",
       "      <td>REGULAR</td>\n",
       "      <td>1774311</td>\n",
       "      <td>1648729</td>\n",
       "      <td>7.0</td>\n",
       "      <td>7.0</td>\n",
       "    </tr>\n",
       "    <tr>\n",
       "      <th>10314</th>\n",
       "      <td>A060</td>\n",
       "      <td>R001</td>\n",
       "      <td>00-00-00</td>\n",
       "      <td>WHITEHALL S-FRY</td>\n",
       "      <td>R1</td>\n",
       "      <td>BMT</td>\n",
       "      <td>6/1/16</td>\n",
       "      <td>2016-07-12 09:00:00</td>\n",
       "      <td>REGULAR</td>\n",
       "      <td>1774491</td>\n",
       "      <td>1648871</td>\n",
       "      <td>180.0</td>\n",
       "      <td>142.0</td>\n",
       "    </tr>\n",
       "    <tr>\n",
       "      <th>10315</th>\n",
       "      <td>A060</td>\n",
       "      <td>R001</td>\n",
       "      <td>00-00-00</td>\n",
       "      <td>WHITEHALL S-FRY</td>\n",
       "      <td>R1</td>\n",
       "      <td>BMT</td>\n",
       "      <td>6/1/16</td>\n",
       "      <td>2016-07-12 13:00:00</td>\n",
       "      <td>REGULAR</td>\n",
       "      <td>1774651</td>\n",
       "      <td>1649202</td>\n",
       "      <td>160.0</td>\n",
       "      <td>331.0</td>\n",
       "    </tr>\n",
       "    <tr>\n",
       "      <th>10316</th>\n",
       "      <td>A060</td>\n",
       "      <td>R001</td>\n",
       "      <td>00-00-00</td>\n",
       "      <td>WHITEHALL S-FRY</td>\n",
       "      <td>R1</td>\n",
       "      <td>BMT</td>\n",
       "      <td>6/1/16</td>\n",
       "      <td>2016-07-12 17:00:00</td>\n",
       "      <td>REGULAR</td>\n",
       "      <td>1774942</td>\n",
       "      <td>1649417</td>\n",
       "      <td>291.0</td>\n",
       "      <td>215.0</td>\n",
       "    </tr>\n",
       "    <tr>\n",
       "      <th>10317</th>\n",
       "      <td>A060</td>\n",
       "      <td>R001</td>\n",
       "      <td>00-00-00</td>\n",
       "      <td>WHITEHALL S-FRY</td>\n",
       "      <td>R1</td>\n",
       "      <td>BMT</td>\n",
       "      <td>6/1/16</td>\n",
       "      <td>2016-07-12 21:00:00</td>\n",
       "      <td>REGULAR</td>\n",
       "      <td>1775255</td>\n",
       "      <td>1649582</td>\n",
       "      <td>313.0</td>\n",
       "      <td>165.0</td>\n",
       "    </tr>\n",
       "    <tr>\n",
       "      <th>...</th>\n",
       "      <td>...</td>\n",
       "      <td>...</td>\n",
       "      <td>...</td>\n",
       "      <td>...</td>\n",
       "      <td>...</td>\n",
       "      <td>...</td>\n",
       "      <td>...</td>\n",
       "      <td>...</td>\n",
       "      <td>...</td>\n",
       "      <td>...</td>\n",
       "      <td>...</td>\n",
       "      <td>...</td>\n",
       "      <td>...</td>\n",
       "    </tr>\n",
       "    <tr>\n",
       "      <th>398116</th>\n",
       "      <td>A060</td>\n",
       "      <td>R001</td>\n",
       "      <td>00-00-00</td>\n",
       "      <td>WHITEHALL S-FRY</td>\n",
       "      <td>R1</td>\n",
       "      <td>BMT</td>\n",
       "      <td>6/16/16</td>\n",
       "      <td>2016-07-12 17:00:00</td>\n",
       "      <td>REGULAR</td>\n",
       "      <td>1788032</td>\n",
       "      <td>1656379</td>\n",
       "      <td>234.0</td>\n",
       "      <td>90.0</td>\n",
       "    </tr>\n",
       "    <tr>\n",
       "      <th>398117</th>\n",
       "      <td>A060</td>\n",
       "      <td>R001</td>\n",
       "      <td>00-00-00</td>\n",
       "      <td>WHITEHALL S-FRY</td>\n",
       "      <td>R1</td>\n",
       "      <td>BMT</td>\n",
       "      <td>6/16/16</td>\n",
       "      <td>2016-07-12 21:00:00</td>\n",
       "      <td>REGULAR</td>\n",
       "      <td>1788313</td>\n",
       "      <td>1656466</td>\n",
       "      <td>281.0</td>\n",
       "      <td>87.0</td>\n",
       "    </tr>\n",
       "    <tr>\n",
       "      <th>398118</th>\n",
       "      <td>A060</td>\n",
       "      <td>R001</td>\n",
       "      <td>00-00-00</td>\n",
       "      <td>WHITEHALL S-FRY</td>\n",
       "      <td>R1</td>\n",
       "      <td>BMT</td>\n",
       "      <td>6/17/16</td>\n",
       "      <td>2016-07-12 01:00:00</td>\n",
       "      <td>REGULAR</td>\n",
       "      <td>1788341</td>\n",
       "      <td>1656484</td>\n",
       "      <td>28.0</td>\n",
       "      <td>18.0</td>\n",
       "    </tr>\n",
       "    <tr>\n",
       "      <th>398119</th>\n",
       "      <td>A060</td>\n",
       "      <td>R001</td>\n",
       "      <td>00-00-00</td>\n",
       "      <td>WHITEHALL S-FRY</td>\n",
       "      <td>R1</td>\n",
       "      <td>BMT</td>\n",
       "      <td>6/17/16</td>\n",
       "      <td>2016-07-12 05:00:00</td>\n",
       "      <td>REGULAR</td>\n",
       "      <td>1788348</td>\n",
       "      <td>1656487</td>\n",
       "      <td>7.0</td>\n",
       "      <td>3.0</td>\n",
       "    </tr>\n",
       "    <tr>\n",
       "      <th>398120</th>\n",
       "      <td>A060</td>\n",
       "      <td>R001</td>\n",
       "      <td>00-00-00</td>\n",
       "      <td>WHITEHALL S-FRY</td>\n",
       "      <td>R1</td>\n",
       "      <td>BMT</td>\n",
       "      <td>6/17/16</td>\n",
       "      <td>2016-07-12 09:00:00</td>\n",
       "      <td>REGULAR</td>\n",
       "      <td>1788507</td>\n",
       "      <td>1656546</td>\n",
       "      <td>159.0</td>\n",
       "      <td>59.0</td>\n",
       "    </tr>\n",
       "    <tr>\n",
       "      <th>398121</th>\n",
       "      <td>A060</td>\n",
       "      <td>R001</td>\n",
       "      <td>00-00-00</td>\n",
       "      <td>WHITEHALL S-FRY</td>\n",
       "      <td>R1</td>\n",
       "      <td>BMT</td>\n",
       "      <td>6/17/16</td>\n",
       "      <td>2016-07-12 13:00:00</td>\n",
       "      <td>REGULAR</td>\n",
       "      <td>1788682</td>\n",
       "      <td>1656733</td>\n",
       "      <td>175.0</td>\n",
       "      <td>187.0</td>\n",
       "    </tr>\n",
       "    <tr>\n",
       "      <th>398122</th>\n",
       "      <td>A060</td>\n",
       "      <td>R001</td>\n",
       "      <td>00-00-00</td>\n",
       "      <td>WHITEHALL S-FRY</td>\n",
       "      <td>R1</td>\n",
       "      <td>BMT</td>\n",
       "      <td>6/17/16</td>\n",
       "      <td>2016-07-12 17:00:00</td>\n",
       "      <td>REGULAR</td>\n",
       "      <td>1789057</td>\n",
       "      <td>1656839</td>\n",
       "      <td>375.0</td>\n",
       "      <td>106.0</td>\n",
       "    </tr>\n",
       "    <tr>\n",
       "      <th>398123</th>\n",
       "      <td>A060</td>\n",
       "      <td>R001</td>\n",
       "      <td>00-00-00</td>\n",
       "      <td>WHITEHALL S-FRY</td>\n",
       "      <td>R1</td>\n",
       "      <td>BMT</td>\n",
       "      <td>6/17/16</td>\n",
       "      <td>2016-07-12 21:00:00</td>\n",
       "      <td>REGULAR</td>\n",
       "      <td>1789367</td>\n",
       "      <td>1656964</td>\n",
       "      <td>310.0</td>\n",
       "      <td>125.0</td>\n",
       "    </tr>\n",
       "    <tr>\n",
       "      <th>591991</th>\n",
       "      <td>A060</td>\n",
       "      <td>R001</td>\n",
       "      <td>00-00-00</td>\n",
       "      <td>WHITEHALL S-FRY</td>\n",
       "      <td>R1</td>\n",
       "      <td>BMT</td>\n",
       "      <td>6/18/16</td>\n",
       "      <td>2016-07-12 01:00:00</td>\n",
       "      <td>REGULAR</td>\n",
       "      <td>1789418</td>\n",
       "      <td>1656988</td>\n",
       "      <td>51.0</td>\n",
       "      <td>24.0</td>\n",
       "    </tr>\n",
       "    <tr>\n",
       "      <th>591992</th>\n",
       "      <td>A060</td>\n",
       "      <td>R001</td>\n",
       "      <td>00-00-00</td>\n",
       "      <td>WHITEHALL S-FRY</td>\n",
       "      <td>R1</td>\n",
       "      <td>BMT</td>\n",
       "      <td>6/18/16</td>\n",
       "      <td>2016-07-12 05:00:00</td>\n",
       "      <td>REGULAR</td>\n",
       "      <td>1789422</td>\n",
       "      <td>1656995</td>\n",
       "      <td>4.0</td>\n",
       "      <td>7.0</td>\n",
       "    </tr>\n",
       "    <tr>\n",
       "      <th>591993</th>\n",
       "      <td>A060</td>\n",
       "      <td>R001</td>\n",
       "      <td>00-00-00</td>\n",
       "      <td>WHITEHALL S-FRY</td>\n",
       "      <td>R1</td>\n",
       "      <td>BMT</td>\n",
       "      <td>6/18/16</td>\n",
       "      <td>2016-07-12 09:00:00</td>\n",
       "      <td>REGULAR</td>\n",
       "      <td>1789470</td>\n",
       "      <td>1657020</td>\n",
       "      <td>48.0</td>\n",
       "      <td>25.0</td>\n",
       "    </tr>\n",
       "    <tr>\n",
       "      <th>591994</th>\n",
       "      <td>A060</td>\n",
       "      <td>R001</td>\n",
       "      <td>00-00-00</td>\n",
       "      <td>WHITEHALL S-FRY</td>\n",
       "      <td>R1</td>\n",
       "      <td>BMT</td>\n",
       "      <td>6/18/16</td>\n",
       "      <td>2016-07-12 13:00:00</td>\n",
       "      <td>REGULAR</td>\n",
       "      <td>1789668</td>\n",
       "      <td>1657316</td>\n",
       "      <td>198.0</td>\n",
       "      <td>296.0</td>\n",
       "    </tr>\n",
       "    <tr>\n",
       "      <th>591995</th>\n",
       "      <td>A060</td>\n",
       "      <td>R001</td>\n",
       "      <td>00-00-00</td>\n",
       "      <td>WHITEHALL S-FRY</td>\n",
       "      <td>R1</td>\n",
       "      <td>BMT</td>\n",
       "      <td>6/18/16</td>\n",
       "      <td>2016-07-12 17:00:00</td>\n",
       "      <td>REGULAR</td>\n",
       "      <td>1790098</td>\n",
       "      <td>1657577</td>\n",
       "      <td>430.0</td>\n",
       "      <td>261.0</td>\n",
       "    </tr>\n",
       "    <tr>\n",
       "      <th>591996</th>\n",
       "      <td>A060</td>\n",
       "      <td>R001</td>\n",
       "      <td>00-00-00</td>\n",
       "      <td>WHITEHALL S-FRY</td>\n",
       "      <td>R1</td>\n",
       "      <td>BMT</td>\n",
       "      <td>6/18/16</td>\n",
       "      <td>2016-07-12 21:00:00</td>\n",
       "      <td>REGULAR</td>\n",
       "      <td>1790505</td>\n",
       "      <td>1657726</td>\n",
       "      <td>407.0</td>\n",
       "      <td>149.0</td>\n",
       "    </tr>\n",
       "    <tr>\n",
       "      <th>591997</th>\n",
       "      <td>A060</td>\n",
       "      <td>R001</td>\n",
       "      <td>00-00-00</td>\n",
       "      <td>WHITEHALL S-FRY</td>\n",
       "      <td>R1</td>\n",
       "      <td>BMT</td>\n",
       "      <td>6/19/16</td>\n",
       "      <td>2016-07-12 01:00:00</td>\n",
       "      <td>REGULAR</td>\n",
       "      <td>1790645</td>\n",
       "      <td>1657769</td>\n",
       "      <td>140.0</td>\n",
       "      <td>43.0</td>\n",
       "    </tr>\n",
       "    <tr>\n",
       "      <th>591998</th>\n",
       "      <td>A060</td>\n",
       "      <td>R001</td>\n",
       "      <td>00-00-00</td>\n",
       "      <td>WHITEHALL S-FRY</td>\n",
       "      <td>R1</td>\n",
       "      <td>BMT</td>\n",
       "      <td>6/19/16</td>\n",
       "      <td>2016-07-12 05:00:00</td>\n",
       "      <td>REGULAR</td>\n",
       "      <td>1790669</td>\n",
       "      <td>1657784</td>\n",
       "      <td>24.0</td>\n",
       "      <td>15.0</td>\n",
       "    </tr>\n",
       "    <tr>\n",
       "      <th>591999</th>\n",
       "      <td>A060</td>\n",
       "      <td>R001</td>\n",
       "      <td>00-00-00</td>\n",
       "      <td>WHITEHALL S-FRY</td>\n",
       "      <td>R1</td>\n",
       "      <td>BMT</td>\n",
       "      <td>6/19/16</td>\n",
       "      <td>2016-07-12 09:00:00</td>\n",
       "      <td>REGULAR</td>\n",
       "      <td>1790708</td>\n",
       "      <td>1657799</td>\n",
       "      <td>39.0</td>\n",
       "      <td>15.0</td>\n",
       "    </tr>\n",
       "    <tr>\n",
       "      <th>592000</th>\n",
       "      <td>A060</td>\n",
       "      <td>R001</td>\n",
       "      <td>00-00-00</td>\n",
       "      <td>WHITEHALL S-FRY</td>\n",
       "      <td>R1</td>\n",
       "      <td>BMT</td>\n",
       "      <td>6/19/16</td>\n",
       "      <td>2016-07-12 13:00:00</td>\n",
       "      <td>REGULAR</td>\n",
       "      <td>1790846</td>\n",
       "      <td>1657957</td>\n",
       "      <td>138.0</td>\n",
       "      <td>158.0</td>\n",
       "    </tr>\n",
       "    <tr>\n",
       "      <th>592001</th>\n",
       "      <td>A060</td>\n",
       "      <td>R001</td>\n",
       "      <td>00-00-00</td>\n",
       "      <td>WHITEHALL S-FRY</td>\n",
       "      <td>R1</td>\n",
       "      <td>BMT</td>\n",
       "      <td>6/19/16</td>\n",
       "      <td>2016-07-12 17:00:00</td>\n",
       "      <td>REGULAR</td>\n",
       "      <td>1791195</td>\n",
       "      <td>1658207</td>\n",
       "      <td>349.0</td>\n",
       "      <td>250.0</td>\n",
       "    </tr>\n",
       "    <tr>\n",
       "      <th>592002</th>\n",
       "      <td>A060</td>\n",
       "      <td>R001</td>\n",
       "      <td>00-00-00</td>\n",
       "      <td>WHITEHALL S-FRY</td>\n",
       "      <td>R1</td>\n",
       "      <td>BMT</td>\n",
       "      <td>6/19/16</td>\n",
       "      <td>2016-07-12 21:00:00</td>\n",
       "      <td>REGULAR</td>\n",
       "      <td>1791508</td>\n",
       "      <td>1658264</td>\n",
       "      <td>313.0</td>\n",
       "      <td>57.0</td>\n",
       "    </tr>\n",
       "    <tr>\n",
       "      <th>10318</th>\n",
       "      <td>A060</td>\n",
       "      <td>R001</td>\n",
       "      <td>00-00-00</td>\n",
       "      <td>WHITEHALL S-FRY</td>\n",
       "      <td>R1</td>\n",
       "      <td>BMT</td>\n",
       "      <td>6/2/16</td>\n",
       "      <td>2016-07-12 01:00:00</td>\n",
       "      <td>REGULAR</td>\n",
       "      <td>1775301</td>\n",
       "      <td>1649618</td>\n",
       "      <td>-16207.0</td>\n",
       "      <td>-8646.0</td>\n",
       "    </tr>\n",
       "    <tr>\n",
       "      <th>10319</th>\n",
       "      <td>A060</td>\n",
       "      <td>R001</td>\n",
       "      <td>00-00-00</td>\n",
       "      <td>WHITEHALL S-FRY</td>\n",
       "      <td>R1</td>\n",
       "      <td>BMT</td>\n",
       "      <td>6/2/16</td>\n",
       "      <td>2016-07-12 05:00:00</td>\n",
       "      <td>REGULAR</td>\n",
       "      <td>1775305</td>\n",
       "      <td>1649627</td>\n",
       "      <td>4.0</td>\n",
       "      <td>9.0</td>\n",
       "    </tr>\n",
       "    <tr>\n",
       "      <th>10320</th>\n",
       "      <td>A060</td>\n",
       "      <td>R001</td>\n",
       "      <td>00-00-00</td>\n",
       "      <td>WHITEHALL S-FRY</td>\n",
       "      <td>R1</td>\n",
       "      <td>BMT</td>\n",
       "      <td>6/2/16</td>\n",
       "      <td>2016-07-12 09:00:00</td>\n",
       "      <td>REGULAR</td>\n",
       "      <td>1775472</td>\n",
       "      <td>1649739</td>\n",
       "      <td>167.0</td>\n",
       "      <td>112.0</td>\n",
       "    </tr>\n",
       "    <tr>\n",
       "      <th>10321</th>\n",
       "      <td>A060</td>\n",
       "      <td>R001</td>\n",
       "      <td>00-00-00</td>\n",
       "      <td>WHITEHALL S-FRY</td>\n",
       "      <td>R1</td>\n",
       "      <td>BMT</td>\n",
       "      <td>6/2/16</td>\n",
       "      <td>2016-07-12 13:00:00</td>\n",
       "      <td>REGULAR</td>\n",
       "      <td>1775643</td>\n",
       "      <td>1650025</td>\n",
       "      <td>171.0</td>\n",
       "      <td>286.0</td>\n",
       "    </tr>\n",
       "    <tr>\n",
       "      <th>10322</th>\n",
       "      <td>A060</td>\n",
       "      <td>R001</td>\n",
       "      <td>00-00-00</td>\n",
       "      <td>WHITEHALL S-FRY</td>\n",
       "      <td>R1</td>\n",
       "      <td>BMT</td>\n",
       "      <td>6/2/16</td>\n",
       "      <td>2016-07-12 17:00:00</td>\n",
       "      <td>REGULAR</td>\n",
       "      <td>1775866</td>\n",
       "      <td>1650279</td>\n",
       "      <td>223.0</td>\n",
       "      <td>254.0</td>\n",
       "    </tr>\n",
       "    <tr>\n",
       "      <th>10323</th>\n",
       "      <td>A060</td>\n",
       "      <td>R001</td>\n",
       "      <td>00-00-00</td>\n",
       "      <td>WHITEHALL S-FRY</td>\n",
       "      <td>R1</td>\n",
       "      <td>BMT</td>\n",
       "      <td>6/2/16</td>\n",
       "      <td>2016-07-12 21:00:00</td>\n",
       "      <td>REGULAR</td>\n",
       "      <td>1776137</td>\n",
       "      <td>1650466</td>\n",
       "      <td>271.0</td>\n",
       "      <td>187.0</td>\n",
       "    </tr>\n",
       "    <tr>\n",
       "      <th>592003</th>\n",
       "      <td>A060</td>\n",
       "      <td>R001</td>\n",
       "      <td>00-00-00</td>\n",
       "      <td>WHITEHALL S-FRY</td>\n",
       "      <td>R1</td>\n",
       "      <td>BMT</td>\n",
       "      <td>6/20/16</td>\n",
       "      <td>2016-07-12 01:00:00</td>\n",
       "      <td>REGULAR</td>\n",
       "      <td>1791578</td>\n",
       "      <td>1658297</td>\n",
       "      <td>15441.0</td>\n",
       "      <td>7831.0</td>\n",
       "    </tr>\n",
       "    <tr>\n",
       "      <th>592004</th>\n",
       "      <td>A060</td>\n",
       "      <td>R001</td>\n",
       "      <td>00-00-00</td>\n",
       "      <td>WHITEHALL S-FRY</td>\n",
       "      <td>R1</td>\n",
       "      <td>BMT</td>\n",
       "      <td>6/20/16</td>\n",
       "      <td>2016-07-12 05:00:00</td>\n",
       "      <td>REGULAR</td>\n",
       "      <td>1791587</td>\n",
       "      <td>1658298</td>\n",
       "      <td>9.0</td>\n",
       "      <td>1.0</td>\n",
       "    </tr>\n",
       "    <tr>\n",
       "      <th>592005</th>\n",
       "      <td>A060</td>\n",
       "      <td>R001</td>\n",
       "      <td>00-00-00</td>\n",
       "      <td>WHITEHALL S-FRY</td>\n",
       "      <td>R1</td>\n",
       "      <td>BMT</td>\n",
       "      <td>6/20/16</td>\n",
       "      <td>2016-07-12 09:00:00</td>\n",
       "      <td>REGULAR</td>\n",
       "      <td>1791816</td>\n",
       "      <td>1658381</td>\n",
       "      <td>229.0</td>\n",
       "      <td>83.0</td>\n",
       "    </tr>\n",
       "    <tr>\n",
       "      <th>592006</th>\n",
       "      <td>A060</td>\n",
       "      <td>R001</td>\n",
       "      <td>00-00-00</td>\n",
       "      <td>WHITEHALL S-FRY</td>\n",
       "      <td>R1</td>\n",
       "      <td>BMT</td>\n",
       "      <td>6/20/16</td>\n",
       "      <td>2016-07-12 13:00:00</td>\n",
       "      <td>REGULAR</td>\n",
       "      <td>1792006</td>\n",
       "      <td>1658507</td>\n",
       "      <td>190.0</td>\n",
       "      <td>126.0</td>\n",
       "    </tr>\n",
       "  </tbody>\n",
       "</table>\n",
       "<p>100 rows × 13 columns</p>\n",
       "</div>"
      ],
      "text/plain": [
       "         C/A  UNIT       SCP          STATION LINENAME DIVISION     DATE  \\\n",
       "10288   A060  R001  00-00-00  WHITEHALL S-FRY       R1      BMT  5/28/16   \n",
       "10289   A060  R001  00-00-00  WHITEHALL S-FRY       R1      BMT  5/28/16   \n",
       "10290   A060  R001  00-00-00  WHITEHALL S-FRY       R1      BMT  5/28/16   \n",
       "10291   A060  R001  00-00-00  WHITEHALL S-FRY       R1      BMT  5/28/16   \n",
       "10292   A060  R001  00-00-00  WHITEHALL S-FRY       R1      BMT  5/28/16   \n",
       "10293   A060  R001  00-00-00  WHITEHALL S-FRY       R1      BMT  5/28/16   \n",
       "10294   A060  R001  00-00-00  WHITEHALL S-FRY       R1      BMT  5/29/16   \n",
       "10295   A060  R001  00-00-00  WHITEHALL S-FRY       R1      BMT  5/29/16   \n",
       "10296   A060  R001  00-00-00  WHITEHALL S-FRY       R1      BMT  5/29/16   \n",
       "10297   A060  R001  00-00-00  WHITEHALL S-FRY       R1      BMT  5/29/16   \n",
       "10298   A060  R001  00-00-00  WHITEHALL S-FRY       R1      BMT  5/29/16   \n",
       "10299   A060  R001  00-00-00  WHITEHALL S-FRY       R1      BMT  5/29/16   \n",
       "10300   A060  R001  00-00-00  WHITEHALL S-FRY       R1      BMT  5/30/16   \n",
       "10301   A060  R001  00-00-00  WHITEHALL S-FRY       R1      BMT  5/30/16   \n",
       "10302   A060  R001  00-00-00  WHITEHALL S-FRY       R1      BMT  5/30/16   \n",
       "10303   A060  R001  00-00-00  WHITEHALL S-FRY       R1      BMT  5/30/16   \n",
       "10304   A060  R001  00-00-00  WHITEHALL S-FRY       R1      BMT  5/30/16   \n",
       "10305   A060  R001  00-00-00  WHITEHALL S-FRY       R1      BMT  5/30/16   \n",
       "10306   A060  R001  00-00-00  WHITEHALL S-FRY       R1      BMT  5/31/16   \n",
       "10307   A060  R001  00-00-00  WHITEHALL S-FRY       R1      BMT  5/31/16   \n",
       "10308   A060  R001  00-00-00  WHITEHALL S-FRY       R1      BMT  5/31/16   \n",
       "10309   A060  R001  00-00-00  WHITEHALL S-FRY       R1      BMT  5/31/16   \n",
       "10310   A060  R001  00-00-00  WHITEHALL S-FRY       R1      BMT  5/31/16   \n",
       "10311   A060  R001  00-00-00  WHITEHALL S-FRY       R1      BMT  5/31/16   \n",
       "10312   A060  R001  00-00-00  WHITEHALL S-FRY       R1      BMT   6/1/16   \n",
       "10313   A060  R001  00-00-00  WHITEHALL S-FRY       R1      BMT   6/1/16   \n",
       "10314   A060  R001  00-00-00  WHITEHALL S-FRY       R1      BMT   6/1/16   \n",
       "10315   A060  R001  00-00-00  WHITEHALL S-FRY       R1      BMT   6/1/16   \n",
       "10316   A060  R001  00-00-00  WHITEHALL S-FRY       R1      BMT   6/1/16   \n",
       "10317   A060  R001  00-00-00  WHITEHALL S-FRY       R1      BMT   6/1/16   \n",
       "...      ...   ...       ...              ...      ...      ...      ...   \n",
       "398116  A060  R001  00-00-00  WHITEHALL S-FRY       R1      BMT  6/16/16   \n",
       "398117  A060  R001  00-00-00  WHITEHALL S-FRY       R1      BMT  6/16/16   \n",
       "398118  A060  R001  00-00-00  WHITEHALL S-FRY       R1      BMT  6/17/16   \n",
       "398119  A060  R001  00-00-00  WHITEHALL S-FRY       R1      BMT  6/17/16   \n",
       "398120  A060  R001  00-00-00  WHITEHALL S-FRY       R1      BMT  6/17/16   \n",
       "398121  A060  R001  00-00-00  WHITEHALL S-FRY       R1      BMT  6/17/16   \n",
       "398122  A060  R001  00-00-00  WHITEHALL S-FRY       R1      BMT  6/17/16   \n",
       "398123  A060  R001  00-00-00  WHITEHALL S-FRY       R1      BMT  6/17/16   \n",
       "591991  A060  R001  00-00-00  WHITEHALL S-FRY       R1      BMT  6/18/16   \n",
       "591992  A060  R001  00-00-00  WHITEHALL S-FRY       R1      BMT  6/18/16   \n",
       "591993  A060  R001  00-00-00  WHITEHALL S-FRY       R1      BMT  6/18/16   \n",
       "591994  A060  R001  00-00-00  WHITEHALL S-FRY       R1      BMT  6/18/16   \n",
       "591995  A060  R001  00-00-00  WHITEHALL S-FRY       R1      BMT  6/18/16   \n",
       "591996  A060  R001  00-00-00  WHITEHALL S-FRY       R1      BMT  6/18/16   \n",
       "591997  A060  R001  00-00-00  WHITEHALL S-FRY       R1      BMT  6/19/16   \n",
       "591998  A060  R001  00-00-00  WHITEHALL S-FRY       R1      BMT  6/19/16   \n",
       "591999  A060  R001  00-00-00  WHITEHALL S-FRY       R1      BMT  6/19/16   \n",
       "592000  A060  R001  00-00-00  WHITEHALL S-FRY       R1      BMT  6/19/16   \n",
       "592001  A060  R001  00-00-00  WHITEHALL S-FRY       R1      BMT  6/19/16   \n",
       "592002  A060  R001  00-00-00  WHITEHALL S-FRY       R1      BMT  6/19/16   \n",
       "10318   A060  R001  00-00-00  WHITEHALL S-FRY       R1      BMT   6/2/16   \n",
       "10319   A060  R001  00-00-00  WHITEHALL S-FRY       R1      BMT   6/2/16   \n",
       "10320   A060  R001  00-00-00  WHITEHALL S-FRY       R1      BMT   6/2/16   \n",
       "10321   A060  R001  00-00-00  WHITEHALL S-FRY       R1      BMT   6/2/16   \n",
       "10322   A060  R001  00-00-00  WHITEHALL S-FRY       R1      BMT   6/2/16   \n",
       "10323   A060  R001  00-00-00  WHITEHALL S-FRY       R1      BMT   6/2/16   \n",
       "592003  A060  R001  00-00-00  WHITEHALL S-FRY       R1      BMT  6/20/16   \n",
       "592004  A060  R001  00-00-00  WHITEHALL S-FRY       R1      BMT  6/20/16   \n",
       "592005  A060  R001  00-00-00  WHITEHALL S-FRY       R1      BMT  6/20/16   \n",
       "592006  A060  R001  00-00-00  WHITEHALL S-FRY       R1      BMT  6/20/16   \n",
       "\n",
       "                      TIME     DESC  ENTRIES    EXITS  Net_Entries  Net_Exits  \n",
       "10288  2016-07-12 01:00:00  REGULAR  1770933  1646742          NaN        NaN  \n",
       "10289  2016-07-12 05:00:00  REGULAR  1770941  1646748          8.0        6.0  \n",
       "10290  2016-07-12 09:00:00  REGULAR  1770966  1646765         25.0       17.0  \n",
       "10291  2016-07-12 13:00:00  REGULAR  1771148  1646953        182.0      188.0  \n",
       "10292  2016-07-12 17:00:00  REGULAR  1771458  1647145        310.0      192.0  \n",
       "10293  2016-07-12 21:00:00  REGULAR  1771742  1647245        284.0      100.0  \n",
       "10294  2016-07-12 01:00:00  REGULAR  1771825  1647285         83.0       40.0  \n",
       "10295  2016-07-12 05:00:00  REGULAR  1771830  1647290          5.0        5.0  \n",
       "10296  2016-07-12 09:00:00  REGULAR  1771857  1647302         27.0       12.0  \n",
       "10297  2016-07-12 13:00:00  REGULAR  1771996  1647480        139.0      178.0  \n",
       "10298  2016-07-12 17:00:00  REGULAR  1772389  1647635        393.0      155.0  \n",
       "10299  2016-07-12 21:00:00  REGULAR  1772715  1647703        326.0       68.0  \n",
       "10300  2016-07-12 01:00:00  REGULAR  1772784  1647731         69.0       28.0  \n",
       "10301  2016-07-12 05:00:00  REGULAR  1772789  1647735          5.0        4.0  \n",
       "10302  2016-07-12 09:00:00  REGULAR  1772816  1647746         27.0       11.0  \n",
       "10303  2016-07-12 13:00:00  REGULAR  1772917  1647817        101.0       71.0  \n",
       "10304  2016-07-12 17:00:00  REGULAR  1773044  1647869        127.0       52.0  \n",
       "10305  2016-07-12 21:00:00  REGULAR  1773242  1647918        198.0       49.0  \n",
       "10306  2016-07-12 01:00:00  REGULAR  1773285  1647932         43.0       14.0  \n",
       "10307  2016-07-12 05:00:00  REGULAR  1773289  1647937          4.0        5.0  \n",
       "10308  2016-07-12 09:00:00  REGULAR  1773491  1647996        202.0       59.0  \n",
       "10309  2016-07-12 13:00:00  REGULAR  1773654  1648295        163.0      299.0  \n",
       "10310  2016-07-12 17:00:00  REGULAR  1773956  1648516        302.0      221.0  \n",
       "10311  2016-07-12 21:00:00  REGULAR  1774266  1648674        310.0      158.0  \n",
       "10312  2016-07-12 01:00:00  REGULAR  1774304  1648722         38.0       48.0  \n",
       "10313  2016-07-12 05:00:00  REGULAR  1774311  1648729          7.0        7.0  \n",
       "10314  2016-07-12 09:00:00  REGULAR  1774491  1648871        180.0      142.0  \n",
       "10315  2016-07-12 13:00:00  REGULAR  1774651  1649202        160.0      331.0  \n",
       "10316  2016-07-12 17:00:00  REGULAR  1774942  1649417        291.0      215.0  \n",
       "10317  2016-07-12 21:00:00  REGULAR  1775255  1649582        313.0      165.0  \n",
       "...                    ...      ...      ...      ...          ...        ...  \n",
       "398116 2016-07-12 17:00:00  REGULAR  1788032  1656379        234.0       90.0  \n",
       "398117 2016-07-12 21:00:00  REGULAR  1788313  1656466        281.0       87.0  \n",
       "398118 2016-07-12 01:00:00  REGULAR  1788341  1656484         28.0       18.0  \n",
       "398119 2016-07-12 05:00:00  REGULAR  1788348  1656487          7.0        3.0  \n",
       "398120 2016-07-12 09:00:00  REGULAR  1788507  1656546        159.0       59.0  \n",
       "398121 2016-07-12 13:00:00  REGULAR  1788682  1656733        175.0      187.0  \n",
       "398122 2016-07-12 17:00:00  REGULAR  1789057  1656839        375.0      106.0  \n",
       "398123 2016-07-12 21:00:00  REGULAR  1789367  1656964        310.0      125.0  \n",
       "591991 2016-07-12 01:00:00  REGULAR  1789418  1656988         51.0       24.0  \n",
       "591992 2016-07-12 05:00:00  REGULAR  1789422  1656995          4.0        7.0  \n",
       "591993 2016-07-12 09:00:00  REGULAR  1789470  1657020         48.0       25.0  \n",
       "591994 2016-07-12 13:00:00  REGULAR  1789668  1657316        198.0      296.0  \n",
       "591995 2016-07-12 17:00:00  REGULAR  1790098  1657577        430.0      261.0  \n",
       "591996 2016-07-12 21:00:00  REGULAR  1790505  1657726        407.0      149.0  \n",
       "591997 2016-07-12 01:00:00  REGULAR  1790645  1657769        140.0       43.0  \n",
       "591998 2016-07-12 05:00:00  REGULAR  1790669  1657784         24.0       15.0  \n",
       "591999 2016-07-12 09:00:00  REGULAR  1790708  1657799         39.0       15.0  \n",
       "592000 2016-07-12 13:00:00  REGULAR  1790846  1657957        138.0      158.0  \n",
       "592001 2016-07-12 17:00:00  REGULAR  1791195  1658207        349.0      250.0  \n",
       "592002 2016-07-12 21:00:00  REGULAR  1791508  1658264        313.0       57.0  \n",
       "10318  2016-07-12 01:00:00  REGULAR  1775301  1649618     -16207.0    -8646.0  \n",
       "10319  2016-07-12 05:00:00  REGULAR  1775305  1649627          4.0        9.0  \n",
       "10320  2016-07-12 09:00:00  REGULAR  1775472  1649739        167.0      112.0  \n",
       "10321  2016-07-12 13:00:00  REGULAR  1775643  1650025        171.0      286.0  \n",
       "10322  2016-07-12 17:00:00  REGULAR  1775866  1650279        223.0      254.0  \n",
       "10323  2016-07-12 21:00:00  REGULAR  1776137  1650466        271.0      187.0  \n",
       "592003 2016-07-12 01:00:00  REGULAR  1791578  1658297      15441.0     7831.0  \n",
       "592004 2016-07-12 05:00:00  REGULAR  1791587  1658298          9.0        1.0  \n",
       "592005 2016-07-12 09:00:00  REGULAR  1791816  1658381        229.0       83.0  \n",
       "592006 2016-07-12 13:00:00  REGULAR  1792006  1658507        190.0      126.0  \n",
       "\n",
       "[100 rows x 13 columns]"
      ]
     },
     "execution_count": 87,
     "metadata": {},
     "output_type": "execute_result"
    }
   ],
   "source": [
    "past_month_MTA.head(100)"
   ]
  },
  {
   "cell_type": "code",
   "execution_count": 88,
   "metadata": {
    "collapsed": false
   },
   "outputs": [],
   "source": [
    "days = {0:'Mon',1:'Tues',2:'Weds',3:'Thurs',4:'Fri',5:'Sat',6:'Sun'}\n",
    "\n",
    "past_month_MTA['DATE'] = pd.to_datetime(past_month_MTA['DATE'])\n",
    "past_month_MTA['day_of_week'] = past_month_MTA['DATE'].dt.dayofweek\n",
    "past_month_MTA['day_type'] = ['Weekday' if x < 5 else 'Weekend' for x in past_month_MTA['day_of_week']]\n",
    "past_month_MTA['day'] = past_month_MTA['day_of_week'].apply(lambda x: days[x]"
   ]
  },
  {
   "cell_type": "code",
   "execution_count": 89,
   "metadata": {
    "collapsed": false
   },
   "outputs": [],
   "source": []
  },
  {
   "cell_type": "code",
   "execution_count": null,
   "metadata": {
    "collapsed": true
   },
   "outputs": [],
   "source": []
  }
 ],
 "metadata": {
  "kernelspec": {
   "display_name": "Python 2",
   "language": "python",
   "name": "python2"
  },
  "language_info": {
   "codemirror_mode": {
    "name": "ipython",
    "version": 2
   },
   "file_extension": ".py",
   "mimetype": "text/x-python",
   "name": "python",
   "nbconvert_exporter": "python",
   "pygments_lexer": "ipython2",
   "version": "2.7.11"
  }
 },
 "nbformat": 4,
 "nbformat_minor": 0
}
