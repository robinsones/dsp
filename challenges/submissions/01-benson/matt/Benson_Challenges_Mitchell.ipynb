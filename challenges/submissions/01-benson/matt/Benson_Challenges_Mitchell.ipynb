{
 "cells": [
  {
   "cell_type": "markdown",
   "metadata": {
    "collapsed": true
   },
   "source": [
    "Challenge Set Benson\n",
    "Topic:        Explore MTA turnstile data\n",
    "Date:         07/11/2016\n",
    "Name:         Matthew Mitchell"
   ]
  },
  {
   "cell_type": "code",
   "execution_count": 2,
   "metadata": {
    "collapsed": true
   },
   "outputs": [],
   "source": [
    "import csv\n",
    "import datetime\n",
    "import pandas as pd\n",
    "import numpy as np\n",
    "import requests\n",
    "import re\n",
    "import urllib2\n",
    "from bs4 import BeautifulSoup\n",
    "import matplotlib.pyplot as plt\n",
    "%matplotlib inline"
   ]
  },
  {
   "cell_type": "markdown",
   "metadata": {},
   "source": [
    "#Challenge 1"
   ]
  },
  {
   "cell_type": "code",
   "execution_count": 5,
   "metadata": {
    "collapsed": false
   },
   "outputs": [],
   "source": [
    "def mta_file2dict(mta_file):\n",
    "    with open(mta_file,'rb') as csvfile:\n",
    "        reader=csv.reader(csvfile)\n",
    "        rows=[[cell.strip() for cell in row] for row in reader] #Remove whitespace\n",
    "\n",
    "    rows.pop(0) #Remove 1st row which are essentially column names\n",
    "\n",
    "    turnstile_dictionary = dict()\n",
    "    for row in rows:\n",
    "        key=tuple(row[:4])\n",
    "        if not turnstile_dictionary.has_key(key): #Initiate key if it does not exist\n",
    "            turnstile_dictionary[key]=[]\n",
    "        turnstile_dictionary[key].append(row[4:]) #Append information from row to dictionary value\n",
    "    return turnstile_dictionary"
   ]
  },
  {
   "cell_type": "code",
   "execution_count": 7,
   "metadata": {
    "collapsed": false
   },
   "outputs": [
    {
     "name": "stdout",
     "output_type": "stream",
     "text": [
      "[('N134', 'R385', '00-00-00', 'ROCKAWAY BLVD'), ('N192', 'R336', '00-05-00', 'BEACH 60 ST'), ('PTH08', 'R540', '00-01-06', 'PATH WTC'), ('H016', 'R250', '00-00-02', 'GRAND ST'), ('A069', 'R044', '01-00-02', 'CHAMBERS ST')]\n"
     ]
    }
   ],
   "source": [
    "turnstile_dictionary=mta_file2dict('/Users/matthewmitchell/Downloads/turnstile_160625.txt')\n",
    "print turnstile_dictionary.keys()[:5]"
   ]
  },
  {
   "cell_type": "markdown",
   "metadata": {},
   "source": [
    "#Challenge 2 "
   ]
  },
  {
   "cell_type": "code",
   "execution_count": 145,
   "metadata": {
    "collapsed": true
   },
   "outputs": [],
   "source": [
    "def turnstile_dict_2_cumulative_datetime(turnstile_dictionary):\n",
    "    datetime_cumulative = {turnstile: [(datetime.datetime.strptime(date + time,\n",
    "                                                          '%m/%d/%Y%X'),\n",
    "                                        int(in_cumulative))\n",
    "                                       for _, _, date, time,\n",
    "                                           _, in_cumulative, _ in rows]\n",
    "                           for turnstile, rows in turnstile_dictionary.items()}\n",
    "    return datetime_cumulative"
   ]
  },
  {
   "cell_type": "code",
   "execution_count": 146,
   "metadata": {
    "collapsed": false
   },
   "outputs": [],
   "source": [
    "datetime_cumulative=turnstile_dict_2_cumulative_datetime(turnstile_dictionary)"
   ]
  },
  {
   "cell_type": "code",
   "execution_count": 16,
   "metadata": {
    "collapsed": true
   },
   "outputs": [],
   "source": [
    "def cumulative_datetime_2_frequency(datetime_cumulative):\n",
    "    datetime_count_times = {turnstile: [[rows[i][0],\n",
    "                                     rows[i+1][1] - rows[i][1],\n",
    "                                     rows[i+1][0] - rows[i][0]]\n",
    "                                    for i in range(len(rows) - 1)]\n",
    "                        for turnstile, rows in datetime_cumulative.items()}\n",
    "    return datetime_count_times"
   ]
  },
  {
   "cell_type": "code",
   "execution_count": 17,
   "metadata": {
    "collapsed": true
   },
   "outputs": [],
   "source": [
    "def remove_implausible_counts(datetime_counts):\n",
    "    datetime_counts = {turnstile: [(time, count) for (time, count, _) in rows \n",
    "                                   if 0 <= count <= 5000]\n",
    "                       for turnstile, rows in datetime_count_times.items()}\n",
    "    return datetime_counts"
   ]
  },
  {
   "cell_type": "code",
   "execution_count": 20,
   "metadata": {
    "collapsed": false
   },
   "outputs": [],
   "source": [
    "datetime_count_times=cumulative_datetime_2_frequency(datetime_cumulative)\n",
    "cleaned_turnstile_datetime_counts=remove_implausible_counts(datetime_count_times)"
   ]
  },
  {
   "cell_type": "markdown",
   "metadata": {},
   "source": [
    "#Challenge 3"
   ]
  },
  {
   "cell_type": "code",
   "execution_count": 21,
   "metadata": {
    "collapsed": false
   },
   "outputs": [],
   "source": [
    "def turnstile_datetime_counts_2_turnstile_daily_counts(datetime_counts):\n",
    "    turnstile_daily_tot={}\n",
    "    for (k,v) in datetime_counts.items():\n",
    "        temp_day={}\n",
    "        for date, count in v:\n",
    "            day=date.date()\n",
    "            temp_day[day]=temp_day.get(day,0)+count\n",
    "        turnstile_daily_tot[k]=sorted(temp_day.items())\n",
    "    return turnstile_daily_tot"
   ]
  },
  {
   "cell_type": "code",
   "execution_count": 22,
   "metadata": {
    "collapsed": true
   },
   "outputs": [],
   "source": [
    "turnstile_daily_tot=turnstile_datetime_counts_2_turnstile_daily_counts(cleaned_turnstile_datetime_counts)"
   ]
  },
  {
   "cell_type": "code",
   "execution_count": 23,
   "metadata": {
    "collapsed": true
   },
   "outputs": [],
   "source": [
    "import matplotlib.pyplot as plt\n",
    "%matplotlib inline"
   ]
  },
  {
   "cell_type": "code",
   "execution_count": 39,
   "metadata": {
    "collapsed": false
   },
   "outputs": [
    {
     "data": {
      "text/plain": [
       "datetime.date(2016, 6, 18)"
      ]
     },
     "execution_count": 39,
     "metadata": {},
     "output_type": "execute_result"
    }
   ],
   "source": [
    "turnstile_daily_tot[('N134', 'R385', '00-00-00', 'ROCKAWAY BLVD')][0][0]"
   ]
  },
  {
   "cell_type": "markdown",
   "metadata": {},
   "source": [
    "#Challenge 4"
   ]
  },
  {
   "cell_type": "code",
   "execution_count": 40,
   "metadata": {
    "collapsed": false
   },
   "outputs": [
    {
     "data": {
      "text/plain": [
       "[<matplotlib.lines.Line2D at 0x1197439d0>]"
      ]
     },
     "execution_count": 40,
     "metadata": {},
     "output_type": "execute_result"
    },
    {
     "data": {
      "image/png": "[encoded data removed]",
      "text/plain": [
       "<matplotlib.figure.Figure at 0x11247b690>"
      ]
     },
     "metadata": {},
     "output_type": "display_data"
    }
   ],
   "source": [
    "dates=[date for date, count in turnstile_daily_tot[('N134', 'R385', '00-00-00', 'ROCKAWAY BLVD')]]\n",
    "counts=[count for date, count in turnstile_daily_tot[('N134', 'R385', '00-00-00', 'ROCKAWAY BLVD')]]\n",
    "plt.figure(figsize=(10,3))\n",
    "plt.plot(dates,counts)"
   ]
  },
  {
   "cell_type": "markdown",
   "metadata": {},
   "source": [
    "#Challenge 5"
   ]
  },
  {
   "cell_type": "code",
   "execution_count": 45,
   "metadata": {
    "collapsed": true
   },
   "outputs": [],
   "source": [
    "def turnstile_daily_tot_2_area_daily_tot(turnstile_daily_totals):\n",
    "    area_daily_tot={}\n",
    "    for turn_key, turnstile_value in turnstile_daily_totals.items(): #the turnstile value is a list [date object, entries]\n",
    "        running_totals={}\n",
    "        turnstile_daily_counts={}\n",
    "        new_key=(turn_key[0],turn_key[1],turn_key[3]) #we only care about C/A, UNIT and STATION; SCP is discarded\n",
    "        for date, count in area_daily_tot.get(new_key,[]): #Have we seen this (C/A,UNIT,STATION) key before?\n",
    "            running_totals[date]=count #If so make a temporary dictionary for this (C/A,UNIT,STATION) that maps Dates to Entries\n",
    "        for date, count in turnstile_value: #It's important to loop through the turnstile_value not prev_running_totals. Otherwise if we had not seen this (C/A,UNIT,STATION) key before, there would be no information to loop through and we would still have an empty list.\n",
    "            running_totals[date]=running_totals.get(date,0)+count #This code could be consolidated to simply update running totals rather than introduce a second variable.\n",
    "        area_daily_tot[new_key]=sorted(running_totals.items()) #Update our dictionary now having parsed another (key,value) pair from our old dictionary.\n",
    "    return area_daily_tot"
   ]
  },
  {
   "cell_type": "code",
   "execution_count": 46,
   "metadata": {
    "collapsed": false
   },
   "outputs": [],
   "source": [
    "area_daily_tot=turnstile_daily_tot_2_area_daily_tot(turnstile_daily_tot)"
   ]
  },
  {
   "cell_type": "markdown",
   "metadata": {},
   "source": [
    "#Challenge 6"
   ]
  },
  {
   "cell_type": "code",
   "execution_count": 64,
   "metadata": {
    "collapsed": true
   },
   "outputs": [],
   "source": [
    "def turnstile_daily_tot_2_station_daily_tot(turnstile_daily_totals):\n",
    "    station_daily_tot={}\n",
    "    for turn_key, turnstile_value in turnstile_daily_totals.items(): #the turnstile value is a list [date object, entries]\n",
    "        running_totals={}\n",
    "        turnstile_daily_counts={}\n",
    "        new_key=(turn_key[3]) #we only care about C/A, UNIT and STATION; SCP is discarded\n",
    "        for date, count in station_daily_tot.get(new_key,[]): #Have we seen this (C/A,UNIT,STATION) key before?\n",
    "            running_totals[date]=count #If so make a temporary dictionary for this (C/A,UNIT,STATION) that maps Dates to Entries\n",
    "        for date, count in turnstile_value: #It's important to loop through the turnstile_value not prev_running_totals. Otherwise if we had not seen this (C/A,UNIT,STATION) key before, there would be no information to loop through and we would still have an empty list.\n",
    "            running_totals[date]=running_totals.get(date,0)+count #This code could be consolidated to simply update running totals rather than introduce a second variable.\n",
    "        station_daily_tot[new_key]=sorted(running_totals.items()) #Update our dictionary now having parsed another (key,value) pair from our old dictionary.\n",
    "    return station_daily_tot"
   ]
  },
  {
   "cell_type": "code",
   "execution_count": 65,
   "metadata": {
    "collapsed": false
   },
   "outputs": [],
   "source": [
    "station_daily_tot=turnstile_daily_tot_2_station_daily_tot(turnstile_daily_tot)"
   ]
  },
  {
   "cell_type": "markdown",
   "metadata": {},
   "source": [
    "#Challenge 7"
   ]
  },
  {
   "cell_type": "code",
   "execution_count": 67,
   "metadata": {
    "collapsed": false
   },
   "outputs": [
    {
     "data": {
      "text/plain": [
       "[<matplotlib.lines.Line2D at 0x119b1a550>]"
      ]
     },
     "execution_count": 67,
     "metadata": {},
     "output_type": "execute_result"
    },
    {
     "data": {
      "image/png": "[encoded data removed]",
      "text/plain": [
       "<matplotlib.figure.Figure at 0x119598b50>"
      ]
     },
     "metadata": {},
     "output_type": "display_data"
    }
   ],
   "source": [
    "dates=[date for date, count in station_daily_tot[('STEINWAY ST')]]\n",
    "counts=[count for date, count in station_daily_tot[('STEINWAY ST')]]\n",
    "plt.figure(figsize=(10,3))\n",
    "plt.plot(dates,counts)"
   ]
  },
  {
   "cell_type": "markdown",
   "metadata": {},
   "source": [
    "#Challenge 8"
   ]
  },
  {
   "cell_type": "code",
   "execution_count": 87,
   "metadata": {
    "collapsed": false
   },
   "outputs": [],
   "source": [
    "url='http://web.mta.info/developers/turnstile.html'\n",
    "response=requests.get(url)\n",
    "page=response.text\n",
    "soup=BeautifulSoup(page)\n",
    "data_files=[]\n",
    "for link in soup.find_all('a'):\n",
    "    link=(link.get('href'))\n",
    "    dataset=re.findall('data/nyct/turnstile/turnstile_160[3-6][0-9][0-9].txt', str(link))\n",
    "    if dataset!=[]:\n",
    "        data_files.append('http://web.mta.info/developers/'+dataset[0])"
   ]
  },
  {
   "cell_type": "code",
   "execution_count": 89,
   "metadata": {
    "collapsed": false
   },
   "outputs": [
    {
     "data": {
      "text/plain": [
       "['http://web.mta.info/developers/data/nyct/turnstile/turnstile_160305.txt',\n",
       " 'http://web.mta.info/developers/data/nyct/turnstile/turnstile_160312.txt',\n",
       " 'http://web.mta.info/developers/data/nyct/turnstile/turnstile_160319.txt',\n",
       " 'http://web.mta.info/developers/data/nyct/turnstile/turnstile_160326.txt',\n",
       " 'http://web.mta.info/developers/data/nyct/turnstile/turnstile_160402.txt',\n",
       " 'http://web.mta.info/developers/data/nyct/turnstile/turnstile_160409.txt',\n",
       " 'http://web.mta.info/developers/data/nyct/turnstile/turnstile_160416.txt',\n",
       " 'http://web.mta.info/developers/data/nyct/turnstile/turnstile_160423.txt',\n",
       " 'http://web.mta.info/developers/data/nyct/turnstile/turnstile_160430.txt',\n",
       " 'http://web.mta.info/developers/data/nyct/turnstile/turnstile_160507.txt',\n",
       " 'http://web.mta.info/developers/data/nyct/turnstile/turnstile_160514.txt',\n",
       " 'http://web.mta.info/developers/data/nyct/turnstile/turnstile_160521.txt',\n",
       " 'http://web.mta.info/developers/data/nyct/turnstile/turnstile_160528.txt',\n",
       " 'http://web.mta.info/developers/data/nyct/turnstile/turnstile_160604.txt',\n",
       " 'http://web.mta.info/developers/data/nyct/turnstile/turnstile_160611.txt',\n",
       " 'http://web.mta.info/developers/data/nyct/turnstile/turnstile_160618.txt',\n",
       " 'http://web.mta.info/developers/data/nyct/turnstile/turnstile_160625.txt']"
      ]
     },
     "execution_count": 89,
     "metadata": {},
     "output_type": "execute_result"
    }
   ],
   "source": [
    "data_files[::-1]"
   ]
  },
  {
   "cell_type": "code",
   "execution_count": 149,
   "metadata": {
    "collapsed": true
   },
   "outputs": [],
   "source": [
    "def master_mta_file2dict(mta_file):\n",
    "    with open(mta_file,'rb') as csvfile:\n",
    "        reader=csv.reader(csvfile)\n",
    "        rows=[[cell.strip() for cell in row] for row in reader] #Remove whitespace\n",
    "\n",
    "    rows.pop(0) #Remove 1st row which are essentially column names\n",
    "\n",
    "    turnstile_dictionary = dict()\n",
    "    for row in rows:\n",
    "        key=tuple(row[1:5])\n",
    "        if not turnstile_dictionary.has_key(key): #Initiate key if it does not exist\n",
    "            turnstile_dictionary[key]=[]\n",
    "        turnstile_dictionary[key].append(row[5:]) #Append information from row to dictionary value\n",
    "    return turnstile_dictionary"
   ]
  },
  {
   "cell_type": "code",
   "execution_count": 151,
   "metadata": {
    "collapsed": false
   },
   "outputs": [],
   "source": [
    "#Here I was trying to just string together the previous sequence I had followed in earlier challenges,\n",
    "#but having multiple information for specific turnstiles caused data to be overwritten.\n",
    "#There were also many issues with load time. (This csv is 200+mb; is it normal to have a lot of lagging issues?)\n",
    "mta_file='/Users/matthewmitchell/ds/metis/git/nyc16_ds8/challenges/challenges_solutions/MTA_2016Q2_Master.csv'\n",
    "raw_dict=master_mta_file2dict(mta_file)"
   ]
  },
  {
   "cell_type": "code",
   "execution_count": 153,
   "metadata": {
    "collapsed": false
   },
   "outputs": [],
   "source": [
    "Q2_datetime_cum=turnstile_dict_2_cumulative_datetime(raw_dict)"
   ]
  },
  {
   "cell_type": "code",
   "execution_count": 154,
   "metadata": {
    "collapsed": false
   },
   "outputs": [],
   "source": [
    "Q2_datetime_counts=cumulative_datetime_2_frequency(Q2_datetime_cum)"
   ]
  },
  {
   "cell_type": "code",
   "execution_count": 155,
   "metadata": {
    "collapsed": true
   },
   "outputs": [],
   "source": [
    "Q2_datetime_counts=remove_implausible_counts(Q2_datetime_counts)"
   ]
  },
  {
   "cell_type": "code",
   "execution_count": 157,
   "metadata": {
    "collapsed": true
   },
   "outputs": [],
   "source": [
    "Q2_turnstile_daily_counts=turnstile_datetime_counts_2_turnstile_daily_counts(Q2_datetime_counts)"
   ]
  },
  {
   "cell_type": "code",
   "execution_count": 105,
   "metadata": {
    "collapsed": false
   },
   "outputs": [],
   "source": [
    "import glob\n",
    "path = r'/Users/matthewmitchell/Downloads/MTA_Q2_2016/'         \n",
    "all_files = glob.glob(path + \"/*.txt\")\n",
    "big_df = pd.concat(pd.read_csv(f) for f in all_files)"
   ]
  },
  {
   "cell_type": "code",
   "execution_count": 131,
   "metadata": {
    "collapsed": false
   },
   "outputs": [],
   "source": [
    "big_df.to_csv('MTA_2016Q2_Master.csv')"
   ]
  },
  {
   "cell_type": "code",
   "execution_count": 296,
   "metadata": {
    "collapsed": false
   },
   "outputs": [
    {
     "name": "stdout",
     "output_type": "stream",
     "text": [
      "(2016, 28, 1)\n",
      "(2016, 24, 1)\n"
     ]
    }
   ],
   "source": [
    "#Test .isocalendar\n",
    "june13='06/13/2016'\n",
    "print datetime.date.today().isocalendar()\n",
    "print datetime.datetime.strptime(june13,'%m/%d/%Y').isocalendar()"
   ]
  },
  {
   "cell_type": "code",
   "execution_count": 225,
   "metadata": {
    "collapsed": false
   },
   "outputs": [
    {
     "data": {
      "text/plain": [
       "{'Th': 10}"
      ]
     },
     "execution_count": 225,
     "metadata": {},
     "output_type": "execute_result"
    }
   ],
   "source": [
    "#Testing nesting dictionary syntax...\n",
    "nested_dictionary={'station1':{'week1':{'M':1,'T':2,'W':3},'week2':{'M':4,'T':5,'W':6}}}\n",
    "nested_dictionary.setdefault('station1',{'week1':{'Th':215}}) #does station 1 exist?\n",
    "nested_dictionary['station1'].setdefault('week1',{'Th':215}) #does station 1, week 2 exist?\n",
    "nested_dictionary['station1']['week1'].setdefault('Th',210) #does station 1, week 2, Th exist?"
   ]
  },
  {
   "cell_type": "code",
   "execution_count": 226,
   "metadata": {
    "collapsed": false
   },
   "outputs": [],
   "source": [
    "#Create a nested dictionary of the form d={'station1':{'week1':{'M':[min,max],'T':[min,max],'W':[min,max]},'week2':{'M':[min,max],'T':[min,max],'W':[min,max]}}}\n",
    "#Calls can be made as such dictionary['Station']['Week']['Day']\n",
    "#Note that days are numbered 1-7 with 1 corresponding to Monday and 7 to Sunday\n",
    "Q2_station_week_day_tot={}\n",
    "mta_file='/Users/matthewmitchell/ds/metis/git/nyc16_ds8/challenges/challenges_solutions/MTA_2016Q2_Master.csv'\n",
    "with open(mta_file,'rb') as csvfile:\n",
    "        reader=csv.reader(csvfile)\n",
    "        rows=[[cell.strip() for cell in row] for row in reader]\n",
    "        for row in rows:\n",
    "            station=row[4]\n",
    "            entries=row[10]\n",
    "            try:\n",
    "                week=datetime.datetime.strptime(row[7],'%m/%d/%Y').isocalendar()[1]\n",
    "                day=datetime.datetime.strptime(row[7],'%m/%d/%Y').isocalendar()[2]\n",
    "                Q2_station_week_day_tot.setdefault(station, {week:{day:[entries,entries]}}) #Check if station exists, if not create entry\n",
    "                Q2_station_week_day_tot[station].setdefault(week, {day:[entries,entries]}) #Check if station, week exists, if not create entry\n",
    "                Q2_station_week_day_tot[station][week].setdefault(day, [entries,entries]) #Check if station, week, day exists, if not create entry\n",
    "                if entries>Q2_station_week_day_tot[station][week][day][1]:\n",
    "                    Q2_station_week_day_tot[station][week][day][1]=entries #is this entry greater than previous maximum for this station, week, day?\n",
    "                elif entries<Q2_station_week_day_tot[station][week][day][0]:\n",
    "                    Q2_station_week_day_tot[station][week][day][0]=entries #is this entry less than previous minimum for this sation, week, day?\n",
    "                else:\n",
    "                    continue\n",
    "            except:\n",
    "                continue"
   ]
  },
  {
   "cell_type": "code",
   "execution_count": 255,
   "metadata": {
    "collapsed": false
   },
   "outputs": [
    {
     "data": {
      "text/plain": [
       "[9531128.0, 9531559.0, 9531816.0, 9532133.0, 9532434.0, 9531997.0, 9531984.0]"
      ]
     },
     "execution_count": 255,
     "metadata": {},
     "output_type": "execute_result"
    }
   ],
   "source": [
    "# Testing syntax...\n",
    "# wk20=[(float(maximum)-float(minimum)) for minimum, maximum in Q2_station_week_day_tot['STEINWAY ST'][20].values()]\n",
    "# wk20"
   ]
  },
  {
   "cell_type": "code",
   "execution_count": 264,
   "metadata": {
    "collapsed": false
   },
   "outputs": [
    {
     "data": {
      "image/png": "[encoded data removed]",
      "text/plain": [
       "<matplotlib.figure.Figure at 0x1f270d2d0>"
      ]
     },
     "metadata": {},
     "output_type": "display_data"
    }
   ],
   "source": [
    "#Clearly using the Minimum/Maximum for a given day at a given station has caused some serious data errors...\n",
    "for i in Q2_station_week_day_tot['STEINWAY ST'].keys()[1:-2]:\n",
    "    wk=[(float(maximum)-float(minimum)) for minimum, maximum in Q2_station_week_day_tot['STEINWAY ST'][i].values()]\n",
    "    plt.plot(range(1,8),wk)\n"
   ]
  },
  {
   "cell_type": "code",
   "execution_count": 257,
   "metadata": {
    "collapsed": false
   },
   "outputs": [
    {
     "data": {
      "text/plain": [
       "[-4543050.0,\n",
       " -4543842.0,\n",
       " -4544345.0,\n",
       " -4545009.0,\n",
       " -4545693.0,\n",
       " -4547641.0,\n",
       " -4549122.0]"
      ]
     },
     "execution_count": 257,
     "metadata": {},
     "output_type": "execute_result"
    }
   ],
   "source": [
    "wk14=[(float(maximum)-float(minimum)) for minimum, maximum in Q2_station_week_day_tot['STEINWAY ST'][14].values()]\n",
    "wk14"
   ]
  },
  {
   "cell_type": "code",
   "execution_count": 230,
   "metadata": {
    "collapsed": true
   },
   "outputs": [],
   "source": [
    "import pickle\n",
    "\n",
    "with open('my_data.pkl', 'w') as picklefile:\n",
    "    pickle.dump(Q2_station_week_day_tot, picklefile)"
   ]
  },
  {
   "cell_type": "markdown",
   "metadata": {},
   "source": [
    "#Challenge 9"
   ]
  },
  {
   "cell_type": "code",
   "execution_count": 265,
   "metadata": {
    "collapsed": true
   },
   "outputs": [],
   "source": [
    "by_station=df.groupby('STATION')"
   ]
  },
  {
   "cell_type": "code",
   "execution_count": 283,
   "metadata": {
    "collapsed": false
   },
   "outputs": [],
   "source": [
    "df=df[df['STATION']!='STATION']"
   ]
  },
  {
   "cell_type": "code",
   "execution_count": 285,
   "metadata": {
    "collapsed": false
   },
   "outputs": [
    {
     "ename": "ValueError",
     "evalue": "",
     "output_type": "error",
     "traceback": [
      "\u001b[0;31m---------------------------------------------------------------------------\u001b[0m",
      "\u001b[0;31mValueError\u001b[0m                                Traceback (most recent call last)",
      "\u001b[0;32m<ipython-input-285-f5ed11ec0489>\u001b[0m in \u001b[0;36m<module>\u001b[0;34m()\u001b[0m\n\u001b[0;32m----> 1\u001b[0;31m \u001b[0mdf\u001b[0m\u001b[0;34m[\u001b[0m\u001b[0;34m'Net Difference'\u001b[0m\u001b[0;34m]\u001b[0m\u001b[0;34m=\u001b[0m\u001b[0mdf\u001b[0m\u001b[0;34m.\u001b[0m\u001b[0mgroupby\u001b[0m\u001b[0;34m(\u001b[0m\u001b[0;34m[\u001b[0m\u001b[0;34m'UNIT'\u001b[0m\u001b[0;34m,\u001b[0m\u001b[0;34m'SCP'\u001b[0m\u001b[0;34m]\u001b[0m\u001b[0;34m)\u001b[0m\u001b[0;34m[\u001b[0m\u001b[0;34m'ENTRIES'\u001b[0m\u001b[0;34m]\u001b[0m\u001b[0;34m.\u001b[0m\u001b[0mdiff\u001b[0m\u001b[0;34m(\u001b[0m\u001b[0;34m)\u001b[0m\u001b[0;34m\u001b[0m\u001b[0m\n\u001b[0m",
      "\u001b[0;32m/Users/matthewmitchell/anaconda/lib/python2.7/site-packages/pandas/core/groupby.pyc\u001b[0m in \u001b[0;36mdiff\u001b[0;34m(self, periods)\u001b[0m\n",
      "\u001b[0;32m/Users/matthewmitchell/anaconda/lib/python2.7/site-packages/pandas/core/groupby.pyc\u001b[0m in \u001b[0;36mwrapper\u001b[0;34m(*args, **kwargs)\u001b[0m\n\u001b[1;32m    579\u001b[0m                         \u001b[0;32mreturn\u001b[0m \u001b[0mself\u001b[0m\u001b[0;34m.\u001b[0m\u001b[0m_aggregate_item_by_item\u001b[0m\u001b[0;34m(\u001b[0m\u001b[0mname\u001b[0m\u001b[0;34m,\u001b[0m \u001b[0;34m*\u001b[0m\u001b[0margs\u001b[0m\u001b[0;34m,\u001b[0m \u001b[0;34m**\u001b[0m\u001b[0mkwargs\u001b[0m\u001b[0;34m)\u001b[0m\u001b[0;34m\u001b[0m\u001b[0m\n\u001b[1;32m    580\u001b[0m                     \u001b[0;32mexcept\u001b[0m \u001b[0;34m(\u001b[0m\u001b[0mAttributeError\u001b[0m\u001b[0;34m)\u001b[0m\u001b[0;34m:\u001b[0m\u001b[0;34m\u001b[0m\u001b[0m\n\u001b[0;32m--> 581\u001b[0;31m                         \u001b[0;32mraise\u001b[0m \u001b[0mValueError\u001b[0m\u001b[0;34m\u001b[0m\u001b[0m\n\u001b[0m\u001b[1;32m    582\u001b[0m \u001b[0;34m\u001b[0m\u001b[0m\n\u001b[1;32m    583\u001b[0m         \u001b[0;32mreturn\u001b[0m \u001b[0mwrapper\u001b[0m\u001b[0;34m\u001b[0m\u001b[0m\n",
      "\u001b[0;31mValueError\u001b[0m: "
     ]
    }
   ],
   "source": [
    "df['Net Difference']=df.groupby(['UNIT','SCP'])['ENTRIES'].diff()"
   ]
  },
  {
   "cell_type": "markdown",
   "metadata": {},
   "source": [
    "#I really want more help aggregating and cleaning datasets!\n",
    "I continued having difficulty cleaning/processing this larger file so turned back to a single dataset."
   ]
  },
  {
   "cell_type": "code",
   "execution_count": 55,
   "metadata": {
    "collapsed": true
   },
   "outputs": [],
   "source": [
    "data=pd.read_csv('/Users/matthewmitchell/Downloads/MTA_Q2_2016/turnstile_160402.txt')\n",
    "data['NET_ENTRIES']=data.groupby(['UNIT','SCP'])['ENTRIES'].diff()\n",
    "data['DATETIME']=data['DATE']+' '+data['TIME']\n",
    "data['DATETIME']=pd.to_datetime(data['DATETIME'])"
   ]
  },
  {
   "cell_type": "code",
   "execution_count": 25,
   "metadata": {
    "collapsed": false
   },
   "outputs": [],
   "source": [
    "data.sort_index?"
   ]
  },
  {
   "cell_type": "code",
   "execution_count": 56,
   "metadata": {
    "collapsed": false
   },
   "outputs": [],
   "source": [
    "#Remove erroneous data\n",
    "data=data[data['NET_ENTRIES']<5000]\n",
    "data=data[data['NET_ENTRIES']>=0]"
   ]
  },
  {
   "cell_type": "code",
   "execution_count": 57,
   "metadata": {
    "collapsed": false
   },
   "outputs": [
    {
     "data": {
      "text/html": [
       "<div>\n",
       "<table border=\"1\" class=\"dataframe\">\n",
       "  <thead>\n",
       "    <tr style=\"text-align: right;\">\n",
       "      <th></th>\n",
       "      <th>C/A</th>\n",
       "      <th>UNIT</th>\n",
       "      <th>SCP</th>\n",
       "      <th>STATION</th>\n",
       "      <th>LINENAME</th>\n",
       "      <th>DIVISION</th>\n",
       "      <th>DATE</th>\n",
       "      <th>TIME</th>\n",
       "      <th>DESC</th>\n",
       "      <th>ENTRIES</th>\n",
       "      <th>EXITS</th>\n",
       "      <th>NET_ENTRIES</th>\n",
       "      <th>DATETIME</th>\n",
       "    </tr>\n",
       "  </thead>\n",
       "  <tbody>\n",
       "    <tr>\n",
       "      <th>160547</th>\n",
       "      <td>R304</td>\n",
       "      <td>R206</td>\n",
       "      <td>00-00-03</td>\n",
       "      <td>125 ST</td>\n",
       "      <td>23</td>\n",
       "      <td>IRT</td>\n",
       "      <td>03/30/2016</td>\n",
       "      <td>08:01:22</td>\n",
       "      <td>REGULAR</td>\n",
       "      <td>374932</td>\n",
       "      <td>115251</td>\n",
       "      <td>4001</td>\n",
       "      <td>2016-03-30 08:01:22</td>\n",
       "    </tr>\n",
       "    <tr>\n",
       "      <th>160580</th>\n",
       "      <td>R304</td>\n",
       "      <td>R206</td>\n",
       "      <td>00-00-04</td>\n",
       "      <td>125 ST</td>\n",
       "      <td>23</td>\n",
       "      <td>IRT</td>\n",
       "      <td>03/30/2016</td>\n",
       "      <td>08:01:22</td>\n",
       "      <td>REGULAR</td>\n",
       "      <td>5423478</td>\n",
       "      <td>3021974</td>\n",
       "      <td>3992</td>\n",
       "      <td>2016-03-30 08:01:22</td>\n",
       "    </tr>\n",
       "    <tr>\n",
       "      <th>160691</th>\n",
       "      <td>R305</td>\n",
       "      <td>R206</td>\n",
       "      <td>01-00-02</td>\n",
       "      <td>125 ST</td>\n",
       "      <td>23</td>\n",
       "      <td>IRT</td>\n",
       "      <td>03/30/2016</td>\n",
       "      <td>17:00:00</td>\n",
       "      <td>RECOVR AUD</td>\n",
       "      <td>9164293</td>\n",
       "      <td>5889074</td>\n",
       "      <td>3561</td>\n",
       "      <td>2016-03-30 17:00:00</td>\n",
       "    </tr>\n",
       "    <tr>\n",
       "      <th>148840</th>\n",
       "      <td>R238</td>\n",
       "      <td>R046</td>\n",
       "      <td>00-03-01</td>\n",
       "      <td>GRD CNTRL-42 ST</td>\n",
       "      <td>4567S</td>\n",
       "      <td>IRT</td>\n",
       "      <td>03/28/2016</td>\n",
       "      <td>20:00:00</td>\n",
       "      <td>REGULAR</td>\n",
       "      <td>12277741</td>\n",
       "      <td>14200927</td>\n",
       "      <td>3411</td>\n",
       "      <td>2016-03-28 20:00:00</td>\n",
       "    </tr>\n",
       "    <tr>\n",
       "      <th>148864</th>\n",
       "      <td>R238</td>\n",
       "      <td>R046</td>\n",
       "      <td>00-03-01</td>\n",
       "      <td>GRD CNTRL-42 ST</td>\n",
       "      <td>4567S</td>\n",
       "      <td>IRT</td>\n",
       "      <td>04/01/2016</td>\n",
       "      <td>20:00:00</td>\n",
       "      <td>REGULAR</td>\n",
       "      <td>12315162</td>\n",
       "      <td>14209174</td>\n",
       "      <td>3401</td>\n",
       "      <td>2016-04-01 20:00:00</td>\n",
       "    </tr>\n",
       "    <tr>\n",
       "      <th>148858</th>\n",
       "      <td>R238</td>\n",
       "      <td>R046</td>\n",
       "      <td>00-03-01</td>\n",
       "      <td>GRD CNTRL-42 ST</td>\n",
       "      <td>4567S</td>\n",
       "      <td>IRT</td>\n",
       "      <td>03/31/2016</td>\n",
       "      <td>20:00:00</td>\n",
       "      <td>REGULAR</td>\n",
       "      <td>12304754</td>\n",
       "      <td>14207231</td>\n",
       "      <td>3273</td>\n",
       "      <td>2016-03-31 20:00:00</td>\n",
       "    </tr>\n",
       "    <tr>\n",
       "      <th>148846</th>\n",
       "      <td>R238</td>\n",
       "      <td>R046</td>\n",
       "      <td>00-03-01</td>\n",
       "      <td>GRD CNTRL-42 ST</td>\n",
       "      <td>4567S</td>\n",
       "      <td>IRT</td>\n",
       "      <td>03/29/2016</td>\n",
       "      <td>20:00:00</td>\n",
       "      <td>REGULAR</td>\n",
       "      <td>12286577</td>\n",
       "      <td>14202986</td>\n",
       "      <td>3208</td>\n",
       "      <td>2016-03-29 20:00:00</td>\n",
       "    </tr>\n",
       "    <tr>\n",
       "      <th>148852</th>\n",
       "      <td>R238</td>\n",
       "      <td>R046</td>\n",
       "      <td>00-03-01</td>\n",
       "      <td>GRD CNTRL-42 ST</td>\n",
       "      <td>4567S</td>\n",
       "      <td>IRT</td>\n",
       "      <td>03/30/2016</td>\n",
       "      <td>20:00:00</td>\n",
       "      <td>REGULAR</td>\n",
       "      <td>12295599</td>\n",
       "      <td>14205149</td>\n",
       "      <td>3187</td>\n",
       "      <td>2016-03-30 20:00:00</td>\n",
       "    </tr>\n",
       "    <tr>\n",
       "      <th>160620</th>\n",
       "      <td>R305</td>\n",
       "      <td>R206</td>\n",
       "      <td>01-00-00</td>\n",
       "      <td>125 ST</td>\n",
       "      <td>23</td>\n",
       "      <td>IRT</td>\n",
       "      <td>03/30/2016</td>\n",
       "      <td>17:00:00</td>\n",
       "      <td>RECOVR AUD</td>\n",
       "      <td>74405305</td>\n",
       "      <td>37859782</td>\n",
       "      <td>3127</td>\n",
       "      <td>2016-03-30 17:00:00</td>\n",
       "    </tr>\n",
       "    <tr>\n",
       "      <th>148776</th>\n",
       "      <td>R238</td>\n",
       "      <td>R046</td>\n",
       "      <td>00-00-09</td>\n",
       "      <td>GRD CNTRL-42 ST</td>\n",
       "      <td>4567S</td>\n",
       "      <td>IRT</td>\n",
       "      <td>04/01/2016</td>\n",
       "      <td>20:00:00</td>\n",
       "      <td>REGULAR</td>\n",
       "      <td>30470475</td>\n",
       "      <td>6876491</td>\n",
       "      <td>3066</td>\n",
       "      <td>2016-04-01 20:00:00</td>\n",
       "    </tr>\n",
       "    <tr>\n",
       "      <th>149874</th>\n",
       "      <td>R240</td>\n",
       "      <td>R047</td>\n",
       "      <td>00-03-08</td>\n",
       "      <td>GRD CNTRL-42 ST</td>\n",
       "      <td>4567S</td>\n",
       "      <td>IRT</td>\n",
       "      <td>03/29/2016</td>\n",
       "      <td>21:00:00</td>\n",
       "      <td>REGULAR</td>\n",
       "      <td>31607807</td>\n",
       "      <td>7192166</td>\n",
       "      <td>2996</td>\n",
       "      <td>2016-03-29 21:00:00</td>\n",
       "    </tr>\n",
       "    <tr>\n",
       "      <th>47202</th>\n",
       "      <td>N051</td>\n",
       "      <td>R084</td>\n",
       "      <td>02-00-00</td>\n",
       "      <td>59 ST COLUMBUS</td>\n",
       "      <td>ABCD1</td>\n",
       "      <td>IND</td>\n",
       "      <td>03/29/2016</td>\n",
       "      <td>20:00:00</td>\n",
       "      <td>REGULAR</td>\n",
       "      <td>6973539</td>\n",
       "      <td>761507</td>\n",
       "      <td>2986</td>\n",
       "      <td>2016-03-29 20:00:00</td>\n",
       "    </tr>\n",
       "    <tr>\n",
       "      <th>47253</th>\n",
       "      <td>N051</td>\n",
       "      <td>R084</td>\n",
       "      <td>02-00-01</td>\n",
       "      <td>59 ST COLUMBUS</td>\n",
       "      <td>ABCD1</td>\n",
       "      <td>IND</td>\n",
       "      <td>03/30/2016</td>\n",
       "      <td>20:00:00</td>\n",
       "      <td>REGULAR</td>\n",
       "      <td>3944087</td>\n",
       "      <td>824725</td>\n",
       "      <td>2954</td>\n",
       "      <td>2016-03-30 20:00:00</td>\n",
       "    </tr>\n",
       "    <tr>\n",
       "      <th>148732</th>\n",
       "      <td>R238</td>\n",
       "      <td>R046</td>\n",
       "      <td>00-00-08</td>\n",
       "      <td>GRD CNTRL-42 ST</td>\n",
       "      <td>4567S</td>\n",
       "      <td>IRT</td>\n",
       "      <td>04/01/2016</td>\n",
       "      <td>20:00:00</td>\n",
       "      <td>REGULAR</td>\n",
       "      <td>43756129</td>\n",
       "      <td>9858462</td>\n",
       "      <td>2938</td>\n",
       "      <td>2016-04-01 20:00:00</td>\n",
       "    </tr>\n",
       "    <tr>\n",
       "      <th>149880</th>\n",
       "      <td>R240</td>\n",
       "      <td>R047</td>\n",
       "      <td>00-03-08</td>\n",
       "      <td>GRD CNTRL-42 ST</td>\n",
       "      <td>4567S</td>\n",
       "      <td>IRT</td>\n",
       "      <td>03/30/2016</td>\n",
       "      <td>21:00:00</td>\n",
       "      <td>REGULAR</td>\n",
       "      <td>31615804</td>\n",
       "      <td>7193411</td>\n",
       "      <td>2887</td>\n",
       "      <td>2016-03-30 21:00:00</td>\n",
       "    </tr>\n",
       "    <tr>\n",
       "      <th>148820</th>\n",
       "      <td>R238</td>\n",
       "      <td>R046</td>\n",
       "      <td>00-03-00</td>\n",
       "      <td>GRD CNTRL-42 ST</td>\n",
       "      <td>4567S</td>\n",
       "      <td>IRT</td>\n",
       "      <td>04/01/2016</td>\n",
       "      <td>20:00:00</td>\n",
       "      <td>REGULAR</td>\n",
       "      <td>580372</td>\n",
       "      <td>640098</td>\n",
       "      <td>2869</td>\n",
       "      <td>2016-04-01 20:00:00</td>\n",
       "    </tr>\n",
       "    <tr>\n",
       "      <th>47214</th>\n",
       "      <td>N051</td>\n",
       "      <td>R084</td>\n",
       "      <td>02-00-00</td>\n",
       "      <td>59 ST COLUMBUS</td>\n",
       "      <td>ABCD1</td>\n",
       "      <td>IND</td>\n",
       "      <td>03/31/2016</td>\n",
       "      <td>20:00:00</td>\n",
       "      <td>REGULAR</td>\n",
       "      <td>6989601</td>\n",
       "      <td>762542</td>\n",
       "      <td>2866</td>\n",
       "      <td>2016-03-31 20:00:00</td>\n",
       "    </tr>\n",
       "    <tr>\n",
       "      <th>149868</th>\n",
       "      <td>R240</td>\n",
       "      <td>R047</td>\n",
       "      <td>00-03-08</td>\n",
       "      <td>GRD CNTRL-42 ST</td>\n",
       "      <td>4567S</td>\n",
       "      <td>IRT</td>\n",
       "      <td>03/28/2016</td>\n",
       "      <td>21:00:00</td>\n",
       "      <td>REGULAR</td>\n",
       "      <td>31599739</td>\n",
       "      <td>7190963</td>\n",
       "      <td>2855</td>\n",
       "      <td>2016-03-28 21:00:00</td>\n",
       "    </tr>\n",
       "    <tr>\n",
       "      <th>126297</th>\n",
       "      <td>R138</td>\n",
       "      <td>R293</td>\n",
       "      <td>00-00-01</td>\n",
       "      <td>34 ST-PENN STA</td>\n",
       "      <td>123ACE</td>\n",
       "      <td>IRT</td>\n",
       "      <td>04/01/2016</td>\n",
       "      <td>14:00:00</td>\n",
       "      <td>REGULAR</td>\n",
       "      <td>5203620</td>\n",
       "      <td>3119502</td>\n",
       "      <td>2815</td>\n",
       "      <td>2016-04-01 14:00:00</td>\n",
       "    </tr>\n",
       "    <tr>\n",
       "      <th>149886</th>\n",
       "      <td>R240</td>\n",
       "      <td>R047</td>\n",
       "      <td>00-03-08</td>\n",
       "      <td>GRD CNTRL-42 ST</td>\n",
       "      <td>4567S</td>\n",
       "      <td>IRT</td>\n",
       "      <td>03/31/2016</td>\n",
       "      <td>21:00:00</td>\n",
       "      <td>REGULAR</td>\n",
       "      <td>31623762</td>\n",
       "      <td>7194636</td>\n",
       "      <td>2808</td>\n",
       "      <td>2016-03-31 21:00:00</td>\n",
       "    </tr>\n",
       "    <tr>\n",
       "      <th>148796</th>\n",
       "      <td>R238</td>\n",
       "      <td>R046</td>\n",
       "      <td>00-03-00</td>\n",
       "      <td>GRD CNTRL-42 ST</td>\n",
       "      <td>4567S</td>\n",
       "      <td>IRT</td>\n",
       "      <td>03/28/2016</td>\n",
       "      <td>20:00:00</td>\n",
       "      <td>REGULAR</td>\n",
       "      <td>553407</td>\n",
       "      <td>622999</td>\n",
       "      <td>2788</td>\n",
       "      <td>2016-03-28 20:00:00</td>\n",
       "    </tr>\n",
       "    <tr>\n",
       "      <th>148764</th>\n",
       "      <td>R238</td>\n",
       "      <td>R046</td>\n",
       "      <td>00-00-09</td>\n",
       "      <td>GRD CNTRL-42 ST</td>\n",
       "      <td>4567S</td>\n",
       "      <td>IRT</td>\n",
       "      <td>03/30/2016</td>\n",
       "      <td>20:00:00</td>\n",
       "      <td>REGULAR</td>\n",
       "      <td>30452726</td>\n",
       "      <td>6872724</td>\n",
       "      <td>2786</td>\n",
       "      <td>2016-03-30 20:00:00</td>\n",
       "    </tr>\n",
       "    <tr>\n",
       "      <th>148688</th>\n",
       "      <td>R238</td>\n",
       "      <td>R046</td>\n",
       "      <td>00-00-07</td>\n",
       "      <td>GRD CNTRL-42 ST</td>\n",
       "      <td>4567S</td>\n",
       "      <td>IRT</td>\n",
       "      <td>04/01/2016</td>\n",
       "      <td>20:00:00</td>\n",
       "      <td>REGULAR</td>\n",
       "      <td>26703726</td>\n",
       "      <td>7469425</td>\n",
       "      <td>2751</td>\n",
       "      <td>2016-04-01 20:00:00</td>\n",
       "    </tr>\n",
       "    <tr>\n",
       "      <th>148770</th>\n",
       "      <td>R238</td>\n",
       "      <td>R046</td>\n",
       "      <td>00-00-09</td>\n",
       "      <td>GRD CNTRL-42 ST</td>\n",
       "      <td>4567S</td>\n",
       "      <td>IRT</td>\n",
       "      <td>03/31/2016</td>\n",
       "      <td>20:00:00</td>\n",
       "      <td>REGULAR</td>\n",
       "      <td>30461028</td>\n",
       "      <td>6874310</td>\n",
       "      <td>2737</td>\n",
       "      <td>2016-03-31 20:00:00</td>\n",
       "    </tr>\n",
       "    <tr>\n",
       "      <th>148758</th>\n",
       "      <td>R238</td>\n",
       "      <td>R046</td>\n",
       "      <td>00-00-09</td>\n",
       "      <td>GRD CNTRL-42 ST</td>\n",
       "      <td>4567S</td>\n",
       "      <td>IRT</td>\n",
       "      <td>03/29/2016</td>\n",
       "      <td>20:00:00</td>\n",
       "      <td>REGULAR</td>\n",
       "      <td>30444554</td>\n",
       "      <td>6871061</td>\n",
       "      <td>2717</td>\n",
       "      <td>2016-03-29 20:00:00</td>\n",
       "    </tr>\n",
       "    <tr>\n",
       "      <th>148752</th>\n",
       "      <td>R238</td>\n",
       "      <td>R046</td>\n",
       "      <td>00-00-09</td>\n",
       "      <td>GRD CNTRL-42 ST</td>\n",
       "      <td>4567S</td>\n",
       "      <td>IRT</td>\n",
       "      <td>03/28/2016</td>\n",
       "      <td>20:00:00</td>\n",
       "      <td>REGULAR</td>\n",
       "      <td>30436411</td>\n",
       "      <td>6869460</td>\n",
       "      <td>2712</td>\n",
       "      <td>2016-03-28 20:00:00</td>\n",
       "    </tr>\n",
       "    <tr>\n",
       "      <th>47223</th>\n",
       "      <td>N051</td>\n",
       "      <td>R084</td>\n",
       "      <td>02-00-00</td>\n",
       "      <td>59 ST COLUMBUS</td>\n",
       "      <td>ABCD1</td>\n",
       "      <td>IND</td>\n",
       "      <td>04/01/2016</td>\n",
       "      <td>20:00:00</td>\n",
       "      <td>REGULAR</td>\n",
       "      <td>6997674</td>\n",
       "      <td>763083</td>\n",
       "      <td>2712</td>\n",
       "      <td>2016-04-01 20:00:00</td>\n",
       "    </tr>\n",
       "    <tr>\n",
       "      <th>148720</th>\n",
       "      <td>R238</td>\n",
       "      <td>R046</td>\n",
       "      <td>00-00-08</td>\n",
       "      <td>GRD CNTRL-42 ST</td>\n",
       "      <td>4567S</td>\n",
       "      <td>IRT</td>\n",
       "      <td>03/30/2016</td>\n",
       "      <td>20:00:00</td>\n",
       "      <td>REGULAR</td>\n",
       "      <td>43739496</td>\n",
       "      <td>9854597</td>\n",
       "      <td>2704</td>\n",
       "      <td>2016-03-30 20:00:00</td>\n",
       "    </tr>\n",
       "    <tr>\n",
       "      <th>160656</th>\n",
       "      <td>R305</td>\n",
       "      <td>R206</td>\n",
       "      <td>01-00-01</td>\n",
       "      <td>125 ST</td>\n",
       "      <td>23</td>\n",
       "      <td>IRT</td>\n",
       "      <td>03/30/2016</td>\n",
       "      <td>17:00:00</td>\n",
       "      <td>RECOVR AUD</td>\n",
       "      <td>902943</td>\n",
       "      <td>345391</td>\n",
       "      <td>2697</td>\n",
       "      <td>2016-03-30 17:00:00</td>\n",
       "    </tr>\n",
       "    <tr>\n",
       "      <th>173736</th>\n",
       "      <td>R513</td>\n",
       "      <td>R093</td>\n",
       "      <td>00-03-00</td>\n",
       "      <td>30 AV</td>\n",
       "      <td>NQ</td>\n",
       "      <td>BMT</td>\n",
       "      <td>03/30/2016</td>\n",
       "      <td>12:00:00</td>\n",
       "      <td>REGULAR</td>\n",
       "      <td>10842682</td>\n",
       "      <td>692235</td>\n",
       "      <td>2695</td>\n",
       "      <td>2016-03-30 12:00:00</td>\n",
       "    </tr>\n",
       "    <tr>\n",
       "      <th>...</th>\n",
       "      <td>...</td>\n",
       "      <td>...</td>\n",
       "      <td>...</td>\n",
       "      <td>...</td>\n",
       "      <td>...</td>\n",
       "      <td>...</td>\n",
       "      <td>...</td>\n",
       "      <td>...</td>\n",
       "      <td>...</td>\n",
       "      <td>...</td>\n",
       "      <td>...</td>\n",
       "      <td>...</td>\n",
       "      <td>...</td>\n",
       "    </tr>\n",
       "    <tr>\n",
       "      <th>119189</th>\n",
       "      <td>PTH20</td>\n",
       "      <td>R549</td>\n",
       "      <td>03-01-05</td>\n",
       "      <td>NEWARK HM HE</td>\n",
       "      <td>1</td>\n",
       "      <td>PTH</td>\n",
       "      <td>03/28/2016</td>\n",
       "      <td>22:27:12</td>\n",
       "      <td>REGULAR</td>\n",
       "      <td>6497</td>\n",
       "      <td>553844</td>\n",
       "      <td>0</td>\n",
       "      <td>2016-03-28 22:27:12</td>\n",
       "    </tr>\n",
       "    <tr>\n",
       "      <th>119192</th>\n",
       "      <td>PTH20</td>\n",
       "      <td>R549</td>\n",
       "      <td>03-01-05</td>\n",
       "      <td>NEWARK HM HE</td>\n",
       "      <td>1</td>\n",
       "      <td>PTH</td>\n",
       "      <td>03/29/2016</td>\n",
       "      <td>11:03:12</td>\n",
       "      <td>REGULAR</td>\n",
       "      <td>6559</td>\n",
       "      <td>554264</td>\n",
       "      <td>0</td>\n",
       "      <td>2016-03-29 11:03:12</td>\n",
       "    </tr>\n",
       "    <tr>\n",
       "      <th>119193</th>\n",
       "      <td>PTH20</td>\n",
       "      <td>R549</td>\n",
       "      <td>03-01-05</td>\n",
       "      <td>NEWARK HM HE</td>\n",
       "      <td>1</td>\n",
       "      <td>PTH</td>\n",
       "      <td>03/29/2016</td>\n",
       "      <td>15:15:12</td>\n",
       "      <td>REGULAR</td>\n",
       "      <td>6559</td>\n",
       "      <td>554299</td>\n",
       "      <td>0</td>\n",
       "      <td>2016-03-29 15:15:12</td>\n",
       "    </tr>\n",
       "    <tr>\n",
       "      <th>119194</th>\n",
       "      <td>PTH20</td>\n",
       "      <td>R549</td>\n",
       "      <td>03-01-05</td>\n",
       "      <td>NEWARK HM HE</td>\n",
       "      <td>1</td>\n",
       "      <td>PTH</td>\n",
       "      <td>03/29/2016</td>\n",
       "      <td>19:27:12</td>\n",
       "      <td>REGULAR</td>\n",
       "      <td>6559</td>\n",
       "      <td>555104</td>\n",
       "      <td>0</td>\n",
       "      <td>2016-03-29 19:27:12</td>\n",
       "    </tr>\n",
       "    <tr>\n",
       "      <th>119195</th>\n",
       "      <td>PTH20</td>\n",
       "      <td>R549</td>\n",
       "      <td>03-01-05</td>\n",
       "      <td>NEWARK HM HE</td>\n",
       "      <td>1</td>\n",
       "      <td>PTH</td>\n",
       "      <td>03/29/2016</td>\n",
       "      <td>23:39:12</td>\n",
       "      <td>REGULAR</td>\n",
       "      <td>6559</td>\n",
       "      <td>555306</td>\n",
       "      <td>0</td>\n",
       "      <td>2016-03-29 23:39:12</td>\n",
       "    </tr>\n",
       "    <tr>\n",
       "      <th>119198</th>\n",
       "      <td>PTH20</td>\n",
       "      <td>R549</td>\n",
       "      <td>03-01-05</td>\n",
       "      <td>NEWARK HM HE</td>\n",
       "      <td>1</td>\n",
       "      <td>PTH</td>\n",
       "      <td>03/30/2016</td>\n",
       "      <td>12:15:12</td>\n",
       "      <td>REGULAR</td>\n",
       "      <td>6571</td>\n",
       "      <td>555695</td>\n",
       "      <td>0</td>\n",
       "      <td>2016-03-30 12:15:12</td>\n",
       "    </tr>\n",
       "    <tr>\n",
       "      <th>119199</th>\n",
       "      <td>PTH20</td>\n",
       "      <td>R549</td>\n",
       "      <td>03-01-05</td>\n",
       "      <td>NEWARK HM HE</td>\n",
       "      <td>1</td>\n",
       "      <td>PTH</td>\n",
       "      <td>03/30/2016</td>\n",
       "      <td>16:27:12</td>\n",
       "      <td>REGULAR</td>\n",
       "      <td>6571</td>\n",
       "      <td>555918</td>\n",
       "      <td>0</td>\n",
       "      <td>2016-03-30 16:27:12</td>\n",
       "    </tr>\n",
       "    <tr>\n",
       "      <th>119175</th>\n",
       "      <td>PTH20</td>\n",
       "      <td>R549</td>\n",
       "      <td>03-01-05</td>\n",
       "      <td>NEWARK HM HE</td>\n",
       "      <td>1</td>\n",
       "      <td>PTH</td>\n",
       "      <td>03/26/2016</td>\n",
       "      <td>11:47:42</td>\n",
       "      <td>REGULAR</td>\n",
       "      <td>6491</td>\n",
       "      <td>551750</td>\n",
       "      <td>0</td>\n",
       "      <td>2016-03-26 11:47:42</td>\n",
       "    </tr>\n",
       "    <tr>\n",
       "      <th>119174</th>\n",
       "      <td>PTH20</td>\n",
       "      <td>R549</td>\n",
       "      <td>03-01-05</td>\n",
       "      <td>NEWARK HM HE</td>\n",
       "      <td>1</td>\n",
       "      <td>PTH</td>\n",
       "      <td>03/26/2016</td>\n",
       "      <td>07:35:42</td>\n",
       "      <td>REGULAR</td>\n",
       "      <td>6491</td>\n",
       "      <td>551658</td>\n",
       "      <td>0</td>\n",
       "      <td>2016-03-26 07:35:42</td>\n",
       "    </tr>\n",
       "    <tr>\n",
       "      <th>119172</th>\n",
       "      <td>PTH20</td>\n",
       "      <td>R549</td>\n",
       "      <td>03-01-04</td>\n",
       "      <td>NEWARK HM HE</td>\n",
       "      <td>1</td>\n",
       "      <td>PTH</td>\n",
       "      <td>04/01/2016</td>\n",
       "      <td>23:09:08</td>\n",
       "      <td>REGULAR</td>\n",
       "      <td>13848</td>\n",
       "      <td>332337</td>\n",
       "      <td>0</td>\n",
       "      <td>2016-04-01 23:09:08</td>\n",
       "    </tr>\n",
       "    <tr>\n",
       "      <th>119154</th>\n",
       "      <td>PTH20</td>\n",
       "      <td>R549</td>\n",
       "      <td>03-01-04</td>\n",
       "      <td>NEWARK HM HE</td>\n",
       "      <td>1</td>\n",
       "      <td>PTH</td>\n",
       "      <td>03/29/2016</td>\n",
       "      <td>19:33:08</td>\n",
       "      <td>REGULAR</td>\n",
       "      <td>13812</td>\n",
       "      <td>329187</td>\n",
       "      <td>0</td>\n",
       "      <td>2016-03-29 19:33:08</td>\n",
       "    </tr>\n",
       "    <tr>\n",
       "      <th>119143</th>\n",
       "      <td>PTH20</td>\n",
       "      <td>R549</td>\n",
       "      <td>03-01-04</td>\n",
       "      <td>NEWARK HM HE</td>\n",
       "      <td>1</td>\n",
       "      <td>PTH</td>\n",
       "      <td>03/27/2016</td>\n",
       "      <td>21:35:23</td>\n",
       "      <td>REGULAR</td>\n",
       "      <td>13606</td>\n",
       "      <td>327484</td>\n",
       "      <td>0</td>\n",
       "      <td>2016-03-27 21:35:23</td>\n",
       "    </tr>\n",
       "    <tr>\n",
       "      <th>119144</th>\n",
       "      <td>PTH20</td>\n",
       "      <td>R549</td>\n",
       "      <td>03-01-04</td>\n",
       "      <td>NEWARK HM HE</td>\n",
       "      <td>1</td>\n",
       "      <td>PTH</td>\n",
       "      <td>03/28/2016</td>\n",
       "      <td>01:47:23</td>\n",
       "      <td>REGULAR</td>\n",
       "      <td>13606</td>\n",
       "      <td>327540</td>\n",
       "      <td>0</td>\n",
       "      <td>2016-03-28 01:47:23</td>\n",
       "    </tr>\n",
       "    <tr>\n",
       "      <th>119145</th>\n",
       "      <td>PTH20</td>\n",
       "      <td>R549</td>\n",
       "      <td>03-01-04</td>\n",
       "      <td>NEWARK HM HE</td>\n",
       "      <td>1</td>\n",
       "      <td>PTH</td>\n",
       "      <td>03/28/2016</td>\n",
       "      <td>05:59:23</td>\n",
       "      <td>REGULAR</td>\n",
       "      <td>13606</td>\n",
       "      <td>327543</td>\n",
       "      <td>0</td>\n",
       "      <td>2016-03-28 05:59:23</td>\n",
       "    </tr>\n",
       "    <tr>\n",
       "      <th>119146</th>\n",
       "      <td>PTH20</td>\n",
       "      <td>R549</td>\n",
       "      <td>03-01-04</td>\n",
       "      <td>NEWARK HM HE</td>\n",
       "      <td>1</td>\n",
       "      <td>PTH</td>\n",
       "      <td>03/28/2016</td>\n",
       "      <td>10:11:23</td>\n",
       "      <td>REGULAR</td>\n",
       "      <td>13606</td>\n",
       "      <td>327693</td>\n",
       "      <td>0</td>\n",
       "      <td>2016-03-28 10:11:23</td>\n",
       "    </tr>\n",
       "    <tr>\n",
       "      <th>119148</th>\n",
       "      <td>PTH20</td>\n",
       "      <td>R549</td>\n",
       "      <td>03-01-04</td>\n",
       "      <td>NEWARK HM HE</td>\n",
       "      <td>1</td>\n",
       "      <td>PTH</td>\n",
       "      <td>03/28/2016</td>\n",
       "      <td>18:31:43</td>\n",
       "      <td>REGULAR</td>\n",
       "      <td>13638</td>\n",
       "      <td>328117</td>\n",
       "      <td>0</td>\n",
       "      <td>2016-03-28 18:31:43</td>\n",
       "    </tr>\n",
       "    <tr>\n",
       "      <th>119149</th>\n",
       "      <td>PTH20</td>\n",
       "      <td>R549</td>\n",
       "      <td>03-01-04</td>\n",
       "      <td>NEWARK HM HE</td>\n",
       "      <td>1</td>\n",
       "      <td>PTH</td>\n",
       "      <td>03/28/2016</td>\n",
       "      <td>22:33:08</td>\n",
       "      <td>REGULAR</td>\n",
       "      <td>13638</td>\n",
       "      <td>328307</td>\n",
       "      <td>0</td>\n",
       "      <td>2016-03-28 22:33:08</td>\n",
       "    </tr>\n",
       "    <tr>\n",
       "      <th>119152</th>\n",
       "      <td>PTH20</td>\n",
       "      <td>R549</td>\n",
       "      <td>03-01-04</td>\n",
       "      <td>NEWARK HM HE</td>\n",
       "      <td>1</td>\n",
       "      <td>PTH</td>\n",
       "      <td>03/29/2016</td>\n",
       "      <td>11:09:08</td>\n",
       "      <td>REGULAR</td>\n",
       "      <td>13812</td>\n",
       "      <td>328545</td>\n",
       "      <td>0</td>\n",
       "      <td>2016-03-29 11:09:08</td>\n",
       "    </tr>\n",
       "    <tr>\n",
       "      <th>119153</th>\n",
       "      <td>PTH20</td>\n",
       "      <td>R549</td>\n",
       "      <td>03-01-04</td>\n",
       "      <td>NEWARK HM HE</td>\n",
       "      <td>1</td>\n",
       "      <td>PTH</td>\n",
       "      <td>03/29/2016</td>\n",
       "      <td>15:21:08</td>\n",
       "      <td>REGULAR</td>\n",
       "      <td>13812</td>\n",
       "      <td>328563</td>\n",
       "      <td>0</td>\n",
       "      <td>2016-03-29 15:21:08</td>\n",
       "    </tr>\n",
       "    <tr>\n",
       "      <th>119158</th>\n",
       "      <td>PTH20</td>\n",
       "      <td>R549</td>\n",
       "      <td>03-01-04</td>\n",
       "      <td>NEWARK HM HE</td>\n",
       "      <td>1</td>\n",
       "      <td>PTH</td>\n",
       "      <td>03/30/2016</td>\n",
       "      <td>12:21:08</td>\n",
       "      <td>REGULAR</td>\n",
       "      <td>13824</td>\n",
       "      <td>329577</td>\n",
       "      <td>0</td>\n",
       "      <td>2016-03-30 12:21:08</td>\n",
       "    </tr>\n",
       "    <tr>\n",
       "      <th>119171</th>\n",
       "      <td>PTH20</td>\n",
       "      <td>R549</td>\n",
       "      <td>03-01-04</td>\n",
       "      <td>NEWARK HM HE</td>\n",
       "      <td>1</td>\n",
       "      <td>PTH</td>\n",
       "      <td>04/01/2016</td>\n",
       "      <td>18:57:08</td>\n",
       "      <td>REGULAR</td>\n",
       "      <td>13848</td>\n",
       "      <td>332147</td>\n",
       "      <td>0</td>\n",
       "      <td>2016-04-01 18:57:08</td>\n",
       "    </tr>\n",
       "    <tr>\n",
       "      <th>119159</th>\n",
       "      <td>PTH20</td>\n",
       "      <td>R549</td>\n",
       "      <td>03-01-04</td>\n",
       "      <td>NEWARK HM HE</td>\n",
       "      <td>1</td>\n",
       "      <td>PTH</td>\n",
       "      <td>03/30/2016</td>\n",
       "      <td>16:33:08</td>\n",
       "      <td>REGULAR</td>\n",
       "      <td>13824</td>\n",
       "      <td>329735</td>\n",
       "      <td>0</td>\n",
       "      <td>2016-03-30 16:33:08</td>\n",
       "    </tr>\n",
       "    <tr>\n",
       "      <th>119163</th>\n",
       "      <td>PTH20</td>\n",
       "      <td>R549</td>\n",
       "      <td>03-01-04</td>\n",
       "      <td>NEWARK HM HE</td>\n",
       "      <td>1</td>\n",
       "      <td>PTH</td>\n",
       "      <td>03/31/2016</td>\n",
       "      <td>09:21:08</td>\n",
       "      <td>REGULAR</td>\n",
       "      <td>13847</td>\n",
       "      <td>330574</td>\n",
       "      <td>0</td>\n",
       "      <td>2016-03-31 09:21:08</td>\n",
       "    </tr>\n",
       "    <tr>\n",
       "      <th>119164</th>\n",
       "      <td>PTH20</td>\n",
       "      <td>R549</td>\n",
       "      <td>03-01-04</td>\n",
       "      <td>NEWARK HM HE</td>\n",
       "      <td>1</td>\n",
       "      <td>PTH</td>\n",
       "      <td>03/31/2016</td>\n",
       "      <td>13:33:08</td>\n",
       "      <td>REGULAR</td>\n",
       "      <td>13847</td>\n",
       "      <td>330674</td>\n",
       "      <td>0</td>\n",
       "      <td>2016-03-31 13:33:08</td>\n",
       "    </tr>\n",
       "    <tr>\n",
       "      <th>119165</th>\n",
       "      <td>PTH20</td>\n",
       "      <td>R549</td>\n",
       "      <td>03-01-04</td>\n",
       "      <td>NEWARK HM HE</td>\n",
       "      <td>1</td>\n",
       "      <td>PTH</td>\n",
       "      <td>03/31/2016</td>\n",
       "      <td>17:45:08</td>\n",
       "      <td>REGULAR</td>\n",
       "      <td>13847</td>\n",
       "      <td>331019</td>\n",
       "      <td>0</td>\n",
       "      <td>2016-03-31 17:45:08</td>\n",
       "    </tr>\n",
       "    <tr>\n",
       "      <th>119166</th>\n",
       "      <td>PTH20</td>\n",
       "      <td>R549</td>\n",
       "      <td>03-01-04</td>\n",
       "      <td>NEWARK HM HE</td>\n",
       "      <td>1</td>\n",
       "      <td>PTH</td>\n",
       "      <td>03/31/2016</td>\n",
       "      <td>21:57:08</td>\n",
       "      <td>REGULAR</td>\n",
       "      <td>13847</td>\n",
       "      <td>331391</td>\n",
       "      <td>0</td>\n",
       "      <td>2016-03-31 21:57:08</td>\n",
       "    </tr>\n",
       "    <tr>\n",
       "      <th>119167</th>\n",
       "      <td>PTH20</td>\n",
       "      <td>R549</td>\n",
       "      <td>03-01-04</td>\n",
       "      <td>NEWARK HM HE</td>\n",
       "      <td>1</td>\n",
       "      <td>PTH</td>\n",
       "      <td>04/01/2016</td>\n",
       "      <td>02:09:08</td>\n",
       "      <td>REGULAR</td>\n",
       "      <td>13847</td>\n",
       "      <td>331444</td>\n",
       "      <td>0</td>\n",
       "      <td>2016-04-01 02:09:08</td>\n",
       "    </tr>\n",
       "    <tr>\n",
       "      <th>119168</th>\n",
       "      <td>PTH20</td>\n",
       "      <td>R549</td>\n",
       "      <td>03-01-04</td>\n",
       "      <td>NEWARK HM HE</td>\n",
       "      <td>1</td>\n",
       "      <td>PTH</td>\n",
       "      <td>04/01/2016</td>\n",
       "      <td>06:21:08</td>\n",
       "      <td>REGULAR</td>\n",
       "      <td>13847</td>\n",
       "      <td>331458</td>\n",
       "      <td>0</td>\n",
       "      <td>2016-04-01 06:21:08</td>\n",
       "    </tr>\n",
       "    <tr>\n",
       "      <th>119170</th>\n",
       "      <td>PTH20</td>\n",
       "      <td>R549</td>\n",
       "      <td>03-01-04</td>\n",
       "      <td>NEWARK HM HE</td>\n",
       "      <td>1</td>\n",
       "      <td>PTH</td>\n",
       "      <td>04/01/2016</td>\n",
       "      <td>14:45:08</td>\n",
       "      <td>REGULAR</td>\n",
       "      <td>13848</td>\n",
       "      <td>331660</td>\n",
       "      <td>0</td>\n",
       "      <td>2016-04-01 14:45:08</td>\n",
       "    </tr>\n",
       "    <tr>\n",
       "      <th>194153</th>\n",
       "      <td>TRAM2</td>\n",
       "      <td>R469</td>\n",
       "      <td>00-05-01</td>\n",
       "      <td>RIT-ROOSEVELT</td>\n",
       "      <td>R</td>\n",
       "      <td>RIT</td>\n",
       "      <td>04/01/2016</td>\n",
       "      <td>21:00:00</td>\n",
       "      <td>REGULAR</td>\n",
       "      <td>5554</td>\n",
       "      <td>241</td>\n",
       "      <td>0</td>\n",
       "      <td>2016-04-01 21:00:00</td>\n",
       "    </tr>\n",
       "  </tbody>\n",
       "</table>\n",
       "<p>188194 rows × 13 columns</p>\n",
       "</div>"
      ],
      "text/plain": [
       "          C/A  UNIT       SCP          STATION LINENAME DIVISION        DATE  \\\n",
       "160547   R304  R206  00-00-03           125 ST       23      IRT  03/30/2016   \n",
       "160580   R304  R206  00-00-04           125 ST       23      IRT  03/30/2016   \n",
       "160691   R305  R206  01-00-02           125 ST       23      IRT  03/30/2016   \n",
       "148840   R238  R046  00-03-01  GRD CNTRL-42 ST    4567S      IRT  03/28/2016   \n",
       "148864   R238  R046  00-03-01  GRD CNTRL-42 ST    4567S      IRT  04/01/2016   \n",
       "148858   R238  R046  00-03-01  GRD CNTRL-42 ST    4567S      IRT  03/31/2016   \n",
       "148846   R238  R046  00-03-01  GRD CNTRL-42 ST    4567S      IRT  03/29/2016   \n",
       "148852   R238  R046  00-03-01  GRD CNTRL-42 ST    4567S      IRT  03/30/2016   \n",
       "160620   R305  R206  01-00-00           125 ST       23      IRT  03/30/2016   \n",
       "148776   R238  R046  00-00-09  GRD CNTRL-42 ST    4567S      IRT  04/01/2016   \n",
       "149874   R240  R047  00-03-08  GRD CNTRL-42 ST    4567S      IRT  03/29/2016   \n",
       "47202    N051  R084  02-00-00   59 ST COLUMBUS    ABCD1      IND  03/29/2016   \n",
       "47253    N051  R084  02-00-01   59 ST COLUMBUS    ABCD1      IND  03/30/2016   \n",
       "148732   R238  R046  00-00-08  GRD CNTRL-42 ST    4567S      IRT  04/01/2016   \n",
       "149880   R240  R047  00-03-08  GRD CNTRL-42 ST    4567S      IRT  03/30/2016   \n",
       "148820   R238  R046  00-03-00  GRD CNTRL-42 ST    4567S      IRT  04/01/2016   \n",
       "47214    N051  R084  02-00-00   59 ST COLUMBUS    ABCD1      IND  03/31/2016   \n",
       "149868   R240  R047  00-03-08  GRD CNTRL-42 ST    4567S      IRT  03/28/2016   \n",
       "126297   R138  R293  00-00-01   34 ST-PENN STA   123ACE      IRT  04/01/2016   \n",
       "149886   R240  R047  00-03-08  GRD CNTRL-42 ST    4567S      IRT  03/31/2016   \n",
       "148796   R238  R046  00-03-00  GRD CNTRL-42 ST    4567S      IRT  03/28/2016   \n",
       "148764   R238  R046  00-00-09  GRD CNTRL-42 ST    4567S      IRT  03/30/2016   \n",
       "148688   R238  R046  00-00-07  GRD CNTRL-42 ST    4567S      IRT  04/01/2016   \n",
       "148770   R238  R046  00-00-09  GRD CNTRL-42 ST    4567S      IRT  03/31/2016   \n",
       "148758   R238  R046  00-00-09  GRD CNTRL-42 ST    4567S      IRT  03/29/2016   \n",
       "148752   R238  R046  00-00-09  GRD CNTRL-42 ST    4567S      IRT  03/28/2016   \n",
       "47223    N051  R084  02-00-00   59 ST COLUMBUS    ABCD1      IND  04/01/2016   \n",
       "148720   R238  R046  00-00-08  GRD CNTRL-42 ST    4567S      IRT  03/30/2016   \n",
       "160656   R305  R206  01-00-01           125 ST       23      IRT  03/30/2016   \n",
       "173736   R513  R093  00-03-00            30 AV       NQ      BMT  03/30/2016   \n",
       "...       ...   ...       ...              ...      ...      ...         ...   \n",
       "119189  PTH20  R549  03-01-05     NEWARK HM HE        1      PTH  03/28/2016   \n",
       "119192  PTH20  R549  03-01-05     NEWARK HM HE        1      PTH  03/29/2016   \n",
       "119193  PTH20  R549  03-01-05     NEWARK HM HE        1      PTH  03/29/2016   \n",
       "119194  PTH20  R549  03-01-05     NEWARK HM HE        1      PTH  03/29/2016   \n",
       "119195  PTH20  R549  03-01-05     NEWARK HM HE        1      PTH  03/29/2016   \n",
       "119198  PTH20  R549  03-01-05     NEWARK HM HE        1      PTH  03/30/2016   \n",
       "119199  PTH20  R549  03-01-05     NEWARK HM HE        1      PTH  03/30/2016   \n",
       "119175  PTH20  R549  03-01-05     NEWARK HM HE        1      PTH  03/26/2016   \n",
       "119174  PTH20  R549  03-01-05     NEWARK HM HE        1      PTH  03/26/2016   \n",
       "119172  PTH20  R549  03-01-04     NEWARK HM HE        1      PTH  04/01/2016   \n",
       "119154  PTH20  R549  03-01-04     NEWARK HM HE        1      PTH  03/29/2016   \n",
       "119143  PTH20  R549  03-01-04     NEWARK HM HE        1      PTH  03/27/2016   \n",
       "119144  PTH20  R549  03-01-04     NEWARK HM HE        1      PTH  03/28/2016   \n",
       "119145  PTH20  R549  03-01-04     NEWARK HM HE        1      PTH  03/28/2016   \n",
       "119146  PTH20  R549  03-01-04     NEWARK HM HE        1      PTH  03/28/2016   \n",
       "119148  PTH20  R549  03-01-04     NEWARK HM HE        1      PTH  03/28/2016   \n",
       "119149  PTH20  R549  03-01-04     NEWARK HM HE        1      PTH  03/28/2016   \n",
       "119152  PTH20  R549  03-01-04     NEWARK HM HE        1      PTH  03/29/2016   \n",
       "119153  PTH20  R549  03-01-04     NEWARK HM HE        1      PTH  03/29/2016   \n",
       "119158  PTH20  R549  03-01-04     NEWARK HM HE        1      PTH  03/30/2016   \n",
       "119171  PTH20  R549  03-01-04     NEWARK HM HE        1      PTH  04/01/2016   \n",
       "119159  PTH20  R549  03-01-04     NEWARK HM HE        1      PTH  03/30/2016   \n",
       "119163  PTH20  R549  03-01-04     NEWARK HM HE        1      PTH  03/31/2016   \n",
       "119164  PTH20  R549  03-01-04     NEWARK HM HE        1      PTH  03/31/2016   \n",
       "119165  PTH20  R549  03-01-04     NEWARK HM HE        1      PTH  03/31/2016   \n",
       "119166  PTH20  R549  03-01-04     NEWARK HM HE        1      PTH  03/31/2016   \n",
       "119167  PTH20  R549  03-01-04     NEWARK HM HE        1      PTH  04/01/2016   \n",
       "119168  PTH20  R549  03-01-04     NEWARK HM HE        1      PTH  04/01/2016   \n",
       "119170  PTH20  R549  03-01-04     NEWARK HM HE        1      PTH  04/01/2016   \n",
       "194153  TRAM2  R469  00-05-01    RIT-ROOSEVELT        R      RIT  04/01/2016   \n",
       "\n",
       "            TIME        DESC   ENTRIES  \\\n",
       "160547  08:01:22     REGULAR    374932   \n",
       "160580  08:01:22     REGULAR   5423478   \n",
       "160691  17:00:00  RECOVR AUD   9164293   \n",
       "148840  20:00:00     REGULAR  12277741   \n",
       "148864  20:00:00     REGULAR  12315162   \n",
       "148858  20:00:00     REGULAR  12304754   \n",
       "148846  20:00:00     REGULAR  12286577   \n",
       "148852  20:00:00     REGULAR  12295599   \n",
       "160620  17:00:00  RECOVR AUD  74405305   \n",
       "148776  20:00:00     REGULAR  30470475   \n",
       "149874  21:00:00     REGULAR  31607807   \n",
       "47202   20:00:00     REGULAR   6973539   \n",
       "47253   20:00:00     REGULAR   3944087   \n",
       "148732  20:00:00     REGULAR  43756129   \n",
       "149880  21:00:00     REGULAR  31615804   \n",
       "148820  20:00:00     REGULAR    580372   \n",
       "47214   20:00:00     REGULAR   6989601   \n",
       "149868  21:00:00     REGULAR  31599739   \n",
       "126297  14:00:00     REGULAR   5203620   \n",
       "149886  21:00:00     REGULAR  31623762   \n",
       "148796  20:00:00     REGULAR    553407   \n",
       "148764  20:00:00     REGULAR  30452726   \n",
       "148688  20:00:00     REGULAR  26703726   \n",
       "148770  20:00:00     REGULAR  30461028   \n",
       "148758  20:00:00     REGULAR  30444554   \n",
       "148752  20:00:00     REGULAR  30436411   \n",
       "47223   20:00:00     REGULAR   6997674   \n",
       "148720  20:00:00     REGULAR  43739496   \n",
       "160656  17:00:00  RECOVR AUD    902943   \n",
       "173736  12:00:00     REGULAR  10842682   \n",
       "...          ...         ...       ...   \n",
       "119189  22:27:12     REGULAR      6497   \n",
       "119192  11:03:12     REGULAR      6559   \n",
       "119193  15:15:12     REGULAR      6559   \n",
       "119194  19:27:12     REGULAR      6559   \n",
       "119195  23:39:12     REGULAR      6559   \n",
       "119198  12:15:12     REGULAR      6571   \n",
       "119199  16:27:12     REGULAR      6571   \n",
       "119175  11:47:42     REGULAR      6491   \n",
       "119174  07:35:42     REGULAR      6491   \n",
       "119172  23:09:08     REGULAR     13848   \n",
       "119154  19:33:08     REGULAR     13812   \n",
       "119143  21:35:23     REGULAR     13606   \n",
       "119144  01:47:23     REGULAR     13606   \n",
       "119145  05:59:23     REGULAR     13606   \n",
       "119146  10:11:23     REGULAR     13606   \n",
       "119148  18:31:43     REGULAR     13638   \n",
       "119149  22:33:08     REGULAR     13638   \n",
       "119152  11:09:08     REGULAR     13812   \n",
       "119153  15:21:08     REGULAR     13812   \n",
       "119158  12:21:08     REGULAR     13824   \n",
       "119171  18:57:08     REGULAR     13848   \n",
       "119159  16:33:08     REGULAR     13824   \n",
       "119163  09:21:08     REGULAR     13847   \n",
       "119164  13:33:08     REGULAR     13847   \n",
       "119165  17:45:08     REGULAR     13847   \n",
       "119166  21:57:08     REGULAR     13847   \n",
       "119167  02:09:08     REGULAR     13847   \n",
       "119168  06:21:08     REGULAR     13847   \n",
       "119170  14:45:08     REGULAR     13848   \n",
       "194153  21:00:00     REGULAR      5554   \n",
       "\n",
       "        EXITS                                                                 \\\n",
       "160547                                             115251                      \n",
       "160580                                            3021974                      \n",
       "160691                                            5889074                      \n",
       "148840                                           14200927                      \n",
       "148864                                           14209174                      \n",
       "148858                                           14207231                      \n",
       "148846                                           14202986                      \n",
       "148852                                           14205149                      \n",
       "160620                                           37859782                      \n",
       "148776                                            6876491                      \n",
       "149874                                            7192166                      \n",
       "47202                                              761507                      \n",
       "47253                                              824725                      \n",
       "148732                                            9858462                      \n",
       "149880                                            7193411                      \n",
       "148820                                             640098                      \n",
       "47214                                              762542                      \n",
       "149868                                            7190963                      \n",
       "126297                                            3119502                      \n",
       "149886                                            7194636                      \n",
       "148796                                             622999                      \n",
       "148764                                            6872724                      \n",
       "148688                                            7469425                      \n",
       "148770                                            6874310                      \n",
       "148758                                            6871061                      \n",
       "148752                                            6869460                      \n",
       "47223                                              763083                      \n",
       "148720                                            9854597                      \n",
       "160656                                             345391                      \n",
       "173736                                             692235                      \n",
       "...                                                   ...                      \n",
       "119189                                             553844                      \n",
       "119192                                             554264                      \n",
       "119193                                             554299                      \n",
       "119194                                             555104                      \n",
       "119195                                             555306                      \n",
       "119198                                             555695                      \n",
       "119199                                             555918                      \n",
       "119175                                             551750                      \n",
       "119174                                             551658                      \n",
       "119172                                             332337                      \n",
       "119154                                             329187                      \n",
       "119143                                             327484                      \n",
       "119144                                             327540                      \n",
       "119145                                             327543                      \n",
       "119146                                             327693                      \n",
       "119148                                             328117                      \n",
       "119149                                             328307                      \n",
       "119152                                             328545                      \n",
       "119153                                             328563                      \n",
       "119158                                             329577                      \n",
       "119171                                             332147                      \n",
       "119159                                             329735                      \n",
       "119163                                             330574                      \n",
       "119164                                             330674                      \n",
       "119165                                             331019                      \n",
       "119166                                             331391                      \n",
       "119167                                             331444                      \n",
       "119168                                             331458                      \n",
       "119170                                             331660                      \n",
       "194153                                                241                      \n",
       "\n",
       "        NET_ENTRIES            DATETIME  \n",
       "160547         4001 2016-03-30 08:01:22  \n",
       "160580         3992 2016-03-30 08:01:22  \n",
       "160691         3561 2016-03-30 17:00:00  \n",
       "148840         3411 2016-03-28 20:00:00  \n",
       "148864         3401 2016-04-01 20:00:00  \n",
       "148858         3273 2016-03-31 20:00:00  \n",
       "148846         3208 2016-03-29 20:00:00  \n",
       "148852         3187 2016-03-30 20:00:00  \n",
       "160620         3127 2016-03-30 17:00:00  \n",
       "148776         3066 2016-04-01 20:00:00  \n",
       "149874         2996 2016-03-29 21:00:00  \n",
       "47202          2986 2016-03-29 20:00:00  \n",
       "47253          2954 2016-03-30 20:00:00  \n",
       "148732         2938 2016-04-01 20:00:00  \n",
       "149880         2887 2016-03-30 21:00:00  \n",
       "148820         2869 2016-04-01 20:00:00  \n",
       "47214          2866 2016-03-31 20:00:00  \n",
       "149868         2855 2016-03-28 21:00:00  \n",
       "126297         2815 2016-04-01 14:00:00  \n",
       "149886         2808 2016-03-31 21:00:00  \n",
       "148796         2788 2016-03-28 20:00:00  \n",
       "148764         2786 2016-03-30 20:00:00  \n",
       "148688         2751 2016-04-01 20:00:00  \n",
       "148770         2737 2016-03-31 20:00:00  \n",
       "148758         2717 2016-03-29 20:00:00  \n",
       "148752         2712 2016-03-28 20:00:00  \n",
       "47223          2712 2016-04-01 20:00:00  \n",
       "148720         2704 2016-03-30 20:00:00  \n",
       "160656         2697 2016-03-30 17:00:00  \n",
       "173736         2695 2016-03-30 12:00:00  \n",
       "...             ...                 ...  \n",
       "119189            0 2016-03-28 22:27:12  \n",
       "119192            0 2016-03-29 11:03:12  \n",
       "119193            0 2016-03-29 15:15:12  \n",
       "119194            0 2016-03-29 19:27:12  \n",
       "119195            0 2016-03-29 23:39:12  \n",
       "119198            0 2016-03-30 12:15:12  \n",
       "119199            0 2016-03-30 16:27:12  \n",
       "119175            0 2016-03-26 11:47:42  \n",
       "119174            0 2016-03-26 07:35:42  \n",
       "119172            0 2016-04-01 23:09:08  \n",
       "119154            0 2016-03-29 19:33:08  \n",
       "119143            0 2016-03-27 21:35:23  \n",
       "119144            0 2016-03-28 01:47:23  \n",
       "119145            0 2016-03-28 05:59:23  \n",
       "119146            0 2016-03-28 10:11:23  \n",
       "119148            0 2016-03-28 18:31:43  \n",
       "119149            0 2016-03-28 22:33:08  \n",
       "119152            0 2016-03-29 11:09:08  \n",
       "119153            0 2016-03-29 15:21:08  \n",
       "119158            0 2016-03-30 12:21:08  \n",
       "119171            0 2016-04-01 18:57:08  \n",
       "119159            0 2016-03-30 16:33:08  \n",
       "119163            0 2016-03-31 09:21:08  \n",
       "119164            0 2016-03-31 13:33:08  \n",
       "119165            0 2016-03-31 17:45:08  \n",
       "119166            0 2016-03-31 21:57:08  \n",
       "119167            0 2016-04-01 02:09:08  \n",
       "119168            0 2016-04-01 06:21:08  \n",
       "119170            0 2016-04-01 14:45:08  \n",
       "194153            0 2016-04-01 21:00:00  \n",
       "\n",
       "[188194 rows x 13 columns]"
      ]
     },
     "execution_count": 57,
     "metadata": {},
     "output_type": "execute_result"
    }
   ],
   "source": [
    "data.sort_index(by='NET_ENTRIES', ascending=False)"
   ]
  },
  {
   "cell_type": "code",
   "execution_count": 58,
   "metadata": {
    "collapsed": false
   },
   "outputs": [],
   "source": [
    "Net_Entries_by_station_and_time=data.groupby(['STATION','DATETIME'])['NET_ENTRIES'].sum()"
   ]
  },
  {
   "cell_type": "code",
   "execution_count": 59,
   "metadata": {
    "collapsed": false
   },
   "outputs": [],
   "source": [
    "Net_Entries_by_station_and_time=pd.DataFrame(Net_Entries_by_station_and_time)"
   ]
  },
  {
   "cell_type": "code",
   "execution_count": 63,
   "metadata": {
    "collapsed": false
   },
   "outputs": [
    {
     "name": "stdout",
     "output_type": "stream",
     "text": [
      "Amanda Gaudet Beyond the Bars Fellowship Cover Letter\r\n",
      "Amanda Gaudet Beyond the Bars Fellowship Cover Letter.pdf\r\n",
      "Chess Outline Feb22nd.pdf\r\n",
      "GaudetAmandaCoverLetterBtBFellowship\r\n",
      "GaudetAmandaCoverLetterBtBFellowship.pdf\r\n",
      "GaudetAmandaResumeBtBFellowship\r\n",
      "GaudetAmandaResumeBtBFellowship.pdf\r\n",
      "Gaudet_Amanda_References  .pdf\r\n",
      "Gaudet_Amanda_References.pdf\r\n",
      "Gaudet_Amanda_Resume_private.pdf\r\n",
      "Java 8 Update 60\r\n",
      "Jon Kabat-Zinn\r\n",
      "MTA_328_cleaned2.csv\r\n",
      "MitchellResum.pdf\r\n",
      "Percent_PercentChange.pdf\r\n",
      "Photo on 6-25-15 at 10.57 AM\r\n",
      "Problem Solving Period 3 & 7.docx\r\n",
      "Screen Shot 2015-02-19 at 1.35.33 PM\r\n",
      "Screen Shot 2015-05-14 at 10.09.04 PM\r\n",
      "Screen Shot 2015-05-14 at 10.09.44 PM\r\n",
      "Screen Shot 2015-05-17 at 8.59.25 AM\r\n",
      "Screen Shot 2015-05-23 at 10.04.32 AM\r\n",
      "Screen Shot 2015-08-20 at 1.53.03 PM\r\n",
      "Stats+Data Exam Periods 1,2,8.pdf\r\n",
      "Stats_Data_CC Unit Assessment.ps\r\n",
      "Untitled\r\n",
      "Walk 8-22-15\r\n",
      "\u001b[34mWk 11 Raster and Remote Sensing\u001b[m\u001b[m/\r\n",
      "WoodhullOPC_Gaudet_CoverLetter.pdf\r\n",
      "Workbook1 (version 1).xlsx\r\n",
      "Workbook1.xlsx\r\n",
      "Workbook2 (version 1).xlsx\r\n"
     ]
    }
   ],
   "source": [
    "ls"
   ]
  },
  {
   "cell_type": "code",
   "execution_count": 61,
   "metadata": {
    "collapsed": true
   },
   "outputs": [],
   "source": [
    "Net_Entries_by_station_and_time.to_csv('MTA_328_cleaned2.csv')"
   ]
  },
  {
   "cell_type": "code",
   "execution_count": 48,
   "metadata": {
    "collapsed": false
   },
   "outputs": [],
   "source": [
    "top30_place_times=Net_Entries_by_station_and_time.sort_index(by='NET_ENTRIES', ascending=False).head(30)"
   ]
  },
  {
   "cell_type": "code",
   "execution_count": 50,
   "metadata": {
    "collapsed": false
   },
   "outputs": [
    {
     "data": {
      "text/plain": [
       "<matplotlib.axes._subplots.AxesSubplot at 0x115653d50>"
      ]
     },
     "execution_count": 50,
     "metadata": {},
     "output_type": "execute_result"
    },
    {
     "data": {
      "image/png": "[encoded data removed]",
      "text/plain": [
       "<matplotlib.figure.Figure at 0x10e652d90>"
      ]
     },
     "metadata": {},
     "output_type": "display_data"
    }
   ],
   "source": [
    "top30_place_times.plot(kind='bar', figsize=(12,12))"
   ]
  },
  {
   "cell_type": "code",
   "execution_count": 313,
   "metadata": {
    "collapsed": false
   },
   "outputs": [
    {
     "data": {
      "text/plain": [
       "STATION  LINENAME  TIME    \n",
       "1 AV     L         00:00:00    379.683333\n",
       "                   04:00:00     99.385714\n",
       "                   08:00:00    146.671429\n",
       "                   09:25:33     90.200000\n",
       "                   12:00:00    468.085714\n",
       "Name: NET_ENTRIES, dtype: float64"
      ]
     },
     "execution_count": 313,
     "metadata": {},
     "output_type": "execute_result"
    }
   ],
   "source": [
    "avg_by_time=data['NET_ENTRIES'].groupby([data['STATION'],data['LINENAME'],data['TIME']]).mean()\n",
    "avg_by_time.head()"
   ]
  },
  {
   "cell_type": "code",
   "execution_count": 314,
   "metadata": {
    "collapsed": true
   },
   "outputs": [],
   "source": [
    "df = data.groupby(['STATION','LINENAME','TIME']).mean()[['NET_ENTRIES']]\n",
    "df25=df.sort(['NET_ENTRIES'], ascending=False).head(n=25)"
   ]
  },
  {
   "cell_type": "code",
   "execution_count": 315,
   "metadata": {
    "collapsed": false
   },
   "outputs": [
    {
     "data": {
      "text/html": [
       "<div>\n",
       "<table border=\"1\" class=\"dataframe\">\n",
       "  <thead>\n",
       "    <tr style=\"text-align: right;\">\n",
       "      <th></th>\n",
       "      <th></th>\n",
       "      <th></th>\n",
       "      <th>NET_ENTRIES</th>\n",
       "    </tr>\n",
       "    <tr>\n",
       "      <th>STATION</th>\n",
       "      <th>LINENAME</th>\n",
       "      <th>TIME</th>\n",
       "      <th></th>\n",
       "    </tr>\n",
       "  </thead>\n",
       "  <tbody>\n",
       "    <tr>\n",
       "      <th>125 ST</th>\n",
       "      <th>23</th>\n",
       "      <th>08:01:22</th>\n",
       "      <td>3996.5</td>\n",
       "    </tr>\n",
       "    <tr>\n",
       "      <th rowspan=\"4\" valign=\"top\">PATH WTC</th>\n",
       "      <th rowspan=\"4\" valign=\"top\">1</th>\n",
       "      <th>20:10:35</th>\n",
       "      <td>2110.0</td>\n",
       "    </tr>\n",
       "    <tr>\n",
       "      <th>20:12:57</th>\n",
       "      <td>1966.0</td>\n",
       "    </tr>\n",
       "    <tr>\n",
       "      <th>21:22:35</th>\n",
       "      <td>1947.0</td>\n",
       "    </tr>\n",
       "    <tr>\n",
       "      <th>20:03:15</th>\n",
       "      <td>1870.0</td>\n",
       "    </tr>\n",
       "    <tr>\n",
       "      <th>TWENTY THIRD ST</th>\n",
       "      <th>1</th>\n",
       "      <th>20:23:44</th>\n",
       "      <td>1840.0</td>\n",
       "    </tr>\n",
       "    <tr>\n",
       "      <th>PATH WTC</th>\n",
       "      <th>1</th>\n",
       "      <th>20:06:22</th>\n",
       "      <td>1834.0</td>\n",
       "    </tr>\n",
       "    <tr>\n",
       "      <th>TWENTY THIRD ST</th>\n",
       "      <th>1</th>\n",
       "      <th>21:45:15</th>\n",
       "      <td>1792.0</td>\n",
       "    </tr>\n",
       "    <tr>\n",
       "      <th rowspan=\"3\" valign=\"top\">PATH WTC</th>\n",
       "      <th rowspan=\"3\" valign=\"top\">1</th>\n",
       "      <th>18:58:35</th>\n",
       "      <td>1792.0</td>\n",
       "    </tr>\n",
       "    <tr>\n",
       "      <th>19:50:57</th>\n",
       "      <td>1788.0</td>\n",
       "    </tr>\n",
       "    <tr>\n",
       "      <th>20:47:57</th>\n",
       "      <td>1736.0</td>\n",
       "    </tr>\n",
       "    <tr>\n",
       "      <th>TWENTY THIRD ST</th>\n",
       "      <th>1</th>\n",
       "      <th>19:51:04</th>\n",
       "      <td>1734.0</td>\n",
       "    </tr>\n",
       "    <tr>\n",
       "      <th rowspan=\"2\" valign=\"top\">PATH WTC</th>\n",
       "      <th rowspan=\"2\" valign=\"top\">1</th>\n",
       "      <th>21:15:15</th>\n",
       "      <td>1731.0</td>\n",
       "    </tr>\n",
       "    <tr>\n",
       "      <th>21:24:57</th>\n",
       "      <td>1728.0</td>\n",
       "    </tr>\n",
       "    <tr>\n",
       "      <th>TWENTY THIRD ST</th>\n",
       "      <th>1</th>\n",
       "      <th>21:35:44</th>\n",
       "      <td>1726.0</td>\n",
       "    </tr>\n",
       "    <tr>\n",
       "      <th rowspan=\"4\" valign=\"top\">PATH WTC</th>\n",
       "      <th rowspan=\"4\" valign=\"top\">1</th>\n",
       "      <th>18:22:35</th>\n",
       "      <td>1720.0</td>\n",
       "    </tr>\n",
       "    <tr>\n",
       "      <th>19:35:57</th>\n",
       "      <td>1694.0</td>\n",
       "    </tr>\n",
       "    <tr>\n",
       "      <th>19:09:17</th>\n",
       "      <td>1677.0</td>\n",
       "    </tr>\n",
       "    <tr>\n",
       "      <th>19:18:22</th>\n",
       "      <td>1675.0</td>\n",
       "    </tr>\n",
       "    <tr>\n",
       "      <th>PAVONIA/NEWPORT</th>\n",
       "      <th>1</th>\n",
       "      <th>19:18:00</th>\n",
       "      <td>1671.0</td>\n",
       "    </tr>\n",
       "    <tr>\n",
       "      <th>JOURNAL SQUARE</th>\n",
       "      <th>1</th>\n",
       "      <th>10:47:50</th>\n",
       "      <td>1661.0</td>\n",
       "    </tr>\n",
       "    <tr>\n",
       "      <th rowspan=\"2\" valign=\"top\">PATH WTC</th>\n",
       "      <th rowspan=\"2\" valign=\"top\">1</th>\n",
       "      <th>20:10:36</th>\n",
       "      <td>1660.0</td>\n",
       "    </tr>\n",
       "    <tr>\n",
       "      <th>18:24:57</th>\n",
       "      <td>1656.0</td>\n",
       "    </tr>\n",
       "    <tr>\n",
       "      <th>PAVONIA/NEWPORT</th>\n",
       "      <th>1</th>\n",
       "      <th>10:54:00</th>\n",
       "      <td>1633.0</td>\n",
       "    </tr>\n",
       "    <tr>\n",
       "      <th>CITY / BUS</th>\n",
       "      <th>1</th>\n",
       "      <th>09:42:02</th>\n",
       "      <td>1563.0</td>\n",
       "    </tr>\n",
       "  </tbody>\n",
       "</table>\n",
       "</div>"
      ],
      "text/plain": [
       "                                   NET_ENTRIES\n",
       "STATION         LINENAME TIME                 \n",
       "125 ST          23       08:01:22       3996.5\n",
       "PATH WTC        1        20:10:35       2110.0\n",
       "                         20:12:57       1966.0\n",
       "                         21:22:35       1947.0\n",
       "                         20:03:15       1870.0\n",
       "TWENTY THIRD ST 1        20:23:44       1840.0\n",
       "PATH WTC        1        20:06:22       1834.0\n",
       "TWENTY THIRD ST 1        21:45:15       1792.0\n",
       "PATH WTC        1        18:58:35       1792.0\n",
       "                         19:50:57       1788.0\n",
       "                         20:47:57       1736.0\n",
       "TWENTY THIRD ST 1        19:51:04       1734.0\n",
       "PATH WTC        1        21:15:15       1731.0\n",
       "                         21:24:57       1728.0\n",
       "TWENTY THIRD ST 1        21:35:44       1726.0\n",
       "PATH WTC        1        18:22:35       1720.0\n",
       "                         19:35:57       1694.0\n",
       "                         19:09:17       1677.0\n",
       "                         19:18:22       1675.0\n",
       "PAVONIA/NEWPORT 1        19:18:00       1671.0\n",
       "JOURNAL SQUARE  1        10:47:50       1661.0\n",
       "PATH WTC        1        20:10:36       1660.0\n",
       "                         18:24:57       1656.0\n",
       "PAVONIA/NEWPORT 1        10:54:00       1633.0\n",
       "CITY / BUS      1        09:42:02       1563.0"
      ]
     },
     "execution_count": 315,
     "metadata": {},
     "output_type": "execute_result"
    }
   ],
   "source": [
    "df25"
   ]
  },
  {
   "cell_type": "markdown",
   "metadata": {},
   "source": [
    "#Challenge 10"
   ]
  },
  {
   "cell_type": "code",
   "execution_count": 316,
   "metadata": {
    "collapsed": false
   },
   "outputs": [
    {
     "data": {
      "text/plain": [
       "<matplotlib.axes._subplots.AxesSubplot at 0x1ea670c90>"
      ]
     },
     "execution_count": 316,
     "metadata": {},
     "output_type": "execute_result"
    },
    {
     "data": {
      "image/png": "[encoded data removed]",
      "text/plain": [
       "<matplotlib.figure.Figure at 0x11a4c2b90>"
      ]
     },
     "metadata": {},
     "output_type": "display_data"
    }
   ],
   "source": [
    "df25.plot(kind='bar')"
   ]
  },
  {
   "cell_type": "code",
   "execution_count": 19,
   "metadata": {
    "collapsed": false
   },
   "outputs": [
    {
     "data": {
      "text/html": [
       "<div>\n",
       "<table border=\"1\" class=\"dataframe\">\n",
       "  <thead>\n",
       "    <tr style=\"text-align: right;\">\n",
       "      <th></th>\n",
       "      <th>C/A</th>\n",
       "      <th>UNIT</th>\n",
       "      <th>SCP</th>\n",
       "      <th>STATION</th>\n",
       "      <th>LINENAME</th>\n",
       "      <th>DIVISION</th>\n",
       "      <th>DATE</th>\n",
       "      <th>TIME</th>\n",
       "      <th>DESC</th>\n",
       "      <th>ENTRIES</th>\n",
       "      <th>EXITS</th>\n",
       "      <th>NET_ENTRIES</th>\n",
       "      <th>DATETIME</th>\n",
       "    </tr>\n",
       "  </thead>\n",
       "  <tbody>\n",
       "    <tr>\n",
       "      <th>14</th>\n",
       "      <td>A002</td>\n",
       "      <td>R051</td>\n",
       "      <td>02-00-00</td>\n",
       "      <td>59 ST</td>\n",
       "      <td>NQR456</td>\n",
       "      <td>BMT</td>\n",
       "      <td>03/28/2016</td>\n",
       "      <td>08:00:00</td>\n",
       "      <td>REGULAR</td>\n",
       "      <td>5595780</td>\n",
       "      <td>1893382</td>\n",
       "      <td>34</td>\n",
       "      <td>03/28/201608:00:00</td>\n",
       "    </tr>\n",
       "    <tr>\n",
       "      <th>15</th>\n",
       "      <td>A002</td>\n",
       "      <td>R051</td>\n",
       "      <td>02-00-00</td>\n",
       "      <td>59 ST</td>\n",
       "      <td>NQR456</td>\n",
       "      <td>BMT</td>\n",
       "      <td>03/28/2016</td>\n",
       "      <td>12:00:00</td>\n",
       "      <td>REGULAR</td>\n",
       "      <td>5595936</td>\n",
       "      <td>1893679</td>\n",
       "      <td>156</td>\n",
       "      <td>03/28/201612:00:00</td>\n",
       "    </tr>\n",
       "    <tr>\n",
       "      <th>16</th>\n",
       "      <td>A002</td>\n",
       "      <td>R051</td>\n",
       "      <td>02-00-00</td>\n",
       "      <td>59 ST</td>\n",
       "      <td>NQR456</td>\n",
       "      <td>BMT</td>\n",
       "      <td>03/28/2016</td>\n",
       "      <td>16:00:00</td>\n",
       "      <td>REGULAR</td>\n",
       "      <td>5596182</td>\n",
       "      <td>1893748</td>\n",
       "      <td>246</td>\n",
       "      <td>03/28/201616:00:00</td>\n",
       "    </tr>\n",
       "    <tr>\n",
       "      <th>17</th>\n",
       "      <td>A002</td>\n",
       "      <td>R051</td>\n",
       "      <td>02-00-00</td>\n",
       "      <td>59 ST</td>\n",
       "      <td>NQR456</td>\n",
       "      <td>BMT</td>\n",
       "      <td>03/28/2016</td>\n",
       "      <td>20:00:00</td>\n",
       "      <td>REGULAR</td>\n",
       "      <td>5596691</td>\n",
       "      <td>1893934</td>\n",
       "      <td>509</td>\n",
       "      <td>03/28/201620:00:00</td>\n",
       "    </tr>\n",
       "    <tr>\n",
       "      <th>18</th>\n",
       "      <td>A002</td>\n",
       "      <td>R051</td>\n",
       "      <td>02-00-00</td>\n",
       "      <td>59 ST</td>\n",
       "      <td>NQR456</td>\n",
       "      <td>BMT</td>\n",
       "      <td>03/29/2016</td>\n",
       "      <td>00:00:00</td>\n",
       "      <td>REGULAR</td>\n",
       "      <td>5596896</td>\n",
       "      <td>1893974</td>\n",
       "      <td>205</td>\n",
       "      <td>03/29/201600:00:00</td>\n",
       "    </tr>\n",
       "  </tbody>\n",
       "</table>\n",
       "</div>"
      ],
      "text/plain": [
       "     C/A  UNIT       SCP STATION LINENAME DIVISION        DATE      TIME  \\\n",
       "14  A002  R051  02-00-00   59 ST   NQR456      BMT  03/28/2016  08:00:00   \n",
       "15  A002  R051  02-00-00   59 ST   NQR456      BMT  03/28/2016  12:00:00   \n",
       "16  A002  R051  02-00-00   59 ST   NQR456      BMT  03/28/2016  16:00:00   \n",
       "17  A002  R051  02-00-00   59 ST   NQR456      BMT  03/28/2016  20:00:00   \n",
       "18  A002  R051  02-00-00   59 ST   NQR456      BMT  03/29/2016  00:00:00   \n",
       "\n",
       "       DESC  ENTRIES  \\\n",
       "14  REGULAR  5595780   \n",
       "15  REGULAR  5595936   \n",
       "16  REGULAR  5596182   \n",
       "17  REGULAR  5596691   \n",
       "18  REGULAR  5596896   \n",
       "\n",
       "    EXITS                                                                 \\\n",
       "14                                            1893382                      \n",
       "15                                            1893679                      \n",
       "16                                            1893748                      \n",
       "17                                            1893934                      \n",
       "18                                            1893974                      \n",
       "\n",
       "    NET_ENTRIES            DATETIME  \n",
       "14           34  03/28/201608:00:00  \n",
       "15          156  03/28/201612:00:00  \n",
       "16          246  03/28/201616:00:00  \n",
       "17          509  03/28/201620:00:00  \n",
       "18          205  03/29/201600:00:00  "
      ]
     },
     "execution_count": 19,
     "metadata": {},
     "output_type": "execute_result"
    }
   ],
   "source": [
    "data.head()"
   ]
  },
  {
   "cell_type": "code",
   "execution_count": 7,
   "metadata": {
    "collapsed": true
   },
   "outputs": [],
   "source": [
    "data['Date_time']=data.DATE+data.TIME"
   ]
  },
  {
   "cell_type": "code",
   "execution_count": 12,
   "metadata": {
    "collapsed": false
   },
   "outputs": [],
   "source": [
    "data=data.drop('Date_time', axis=1)"
   ]
  },
  {
   "cell_type": "code",
   "execution_count": 15,
   "metadata": {
    "collapsed": false
   },
   "outputs": [
    {
     "data": {
      "text/plain": [
       "14        03/28/201608:00:00\n",
       "15        03/28/201612:00:00\n",
       "16        03/28/201616:00:00\n",
       "17        03/28/201620:00:00\n",
       "18        03/29/201600:00:00\n",
       "19        03/29/201604:00:00\n",
       "20        03/29/201608:00:00\n",
       "21        03/29/201612:00:00\n",
       "22        03/29/201616:00:00\n",
       "23        03/29/201620:00:00\n",
       "24        03/30/201600:00:00\n",
       "25        03/30/201604:00:00\n",
       "26        03/30/201608:00:00\n",
       "27        03/30/201612:00:00\n",
       "28        03/30/201616:00:00\n",
       "29        03/30/201620:00:00\n",
       "30        03/31/201600:00:00\n",
       "32        03/31/201608:00:00\n",
       "33        03/31/201609:22:41\n",
       "36        03/31/201620:00:00\n",
       "37        04/01/201600:00:00\n",
       "38        04/01/201604:00:00\n",
       "39        04/01/201608:00:00\n",
       "40        04/01/201612:00:00\n",
       "41        04/01/201616:00:00\n",
       "42        04/01/201620:00:00\n",
       "57        03/28/201608:00:00\n",
       "58        03/28/201612:00:00\n",
       "59        03/28/201616:00:00\n",
       "60        03/28/201620:00:00\n",
       "                 ...        \n",
       "194044    03/28/201613:00:00\n",
       "194045    03/28/201617:00:00\n",
       "194046    03/28/201621:00:00\n",
       "194047    03/29/201601:00:00\n",
       "194049    03/29/201609:00:00\n",
       "194050    03/29/201613:00:00\n",
       "194051    03/29/201617:00:00\n",
       "194052    03/29/201621:00:00\n",
       "194053    03/30/201601:00:00\n",
       "194055    03/30/201609:00:00\n",
       "194056    03/30/201613:00:00\n",
       "194057    03/30/201617:00:00\n",
       "194058    03/30/201621:00:00\n",
       "194059    03/31/201601:00:00\n",
       "194061    03/31/201609:00:00\n",
       "194062    03/31/201613:00:00\n",
       "194063    03/31/201617:00:00\n",
       "194064    03/31/201621:00:00\n",
       "194065    04/01/201601:00:00\n",
       "194067    04/01/201609:00:00\n",
       "194068    04/01/201613:00:00\n",
       "194069    04/01/201617:00:00\n",
       "194070    04/01/201621:00:00\n",
       "194074    03/26/201613:00:00\n",
       "194079    03/27/201609:00:00\n",
       "194080    03/27/201613:00:00\n",
       "194085    03/28/201609:00:00\n",
       "194092    03/29/201613:00:00\n",
       "194099    03/30/201617:00:00\n",
       "194110    04/01/201613:00:00\n",
       "Name: DATETIME, dtype: object"
      ]
     },
     "execution_count": 15,
     "metadata": {},
     "output_type": "execute_result"
    }
   ],
   "source": [
    "pd.to_datetime(data.DATETIME)"
   ]
  },
  {
   "cell_type": "code",
   "execution_count": 18,
   "metadata": {
    "collapsed": false
   },
   "outputs": [
    {
     "data": {
      "text/plain": [
       "14        03/28/201608:00:00\n",
       "15        03/28/201612:00:00\n",
       "16        03/28/201616:00:00\n",
       "17        03/28/201620:00:00\n",
       "18        03/29/201600:00:00\n",
       "19        03/29/201604:00:00\n",
       "20        03/29/201608:00:00\n",
       "21        03/29/201612:00:00\n",
       "22        03/29/201616:00:00\n",
       "23        03/29/201620:00:00\n",
       "24        03/30/201600:00:00\n",
       "25        03/30/201604:00:00\n",
       "26        03/30/201608:00:00\n",
       "27        03/30/201612:00:00\n",
       "28        03/30/201616:00:00\n",
       "29        03/30/201620:00:00\n",
       "30        03/31/201600:00:00\n",
       "32        03/31/201608:00:00\n",
       "33        03/31/201609:22:41\n",
       "36        03/31/201620:00:00\n",
       "37        04/01/201600:00:00\n",
       "38        04/01/201604:00:00\n",
       "39        04/01/201608:00:00\n",
       "40        04/01/201612:00:00\n",
       "41        04/01/201616:00:00\n",
       "42        04/01/201620:00:00\n",
       "57        03/28/201608:00:00\n",
       "58        03/28/201612:00:00\n",
       "59        03/28/201616:00:00\n",
       "60        03/28/201620:00:00\n",
       "                 ...        \n",
       "194044    03/28/201613:00:00\n",
       "194045    03/28/201617:00:00\n",
       "194046    03/28/201621:00:00\n",
       "194047    03/29/201601:00:00\n",
       "194049    03/29/201609:00:00\n",
       "194050    03/29/201613:00:00\n",
       "194051    03/29/201617:00:00\n",
       "194052    03/29/201621:00:00\n",
       "194053    03/30/201601:00:00\n",
       "194055    03/30/201609:00:00\n",
       "194056    03/30/201613:00:00\n",
       "194057    03/30/201617:00:00\n",
       "194058    03/30/201621:00:00\n",
       "194059    03/31/201601:00:00\n",
       "194061    03/31/201609:00:00\n",
       "194062    03/31/201613:00:00\n",
       "194063    03/31/201617:00:00\n",
       "194064    03/31/201621:00:00\n",
       "194065    04/01/201601:00:00\n",
       "194067    04/01/201609:00:00\n",
       "194068    04/01/201613:00:00\n",
       "194069    04/01/201617:00:00\n",
       "194070    04/01/201621:00:00\n",
       "194074    03/26/201613:00:00\n",
       "194079    03/27/201609:00:00\n",
       "194080    03/27/201613:00:00\n",
       "194085    03/28/201609:00:00\n",
       "194092    03/29/201613:00:00\n",
       "194099    03/30/201617:00:00\n",
       "194110    04/01/201613:00:00\n",
       "Name: DATETIME, dtype: object"
      ]
     },
     "execution_count": 18,
     "metadata": {},
     "output_type": "execute_result"
    }
   ],
   "source": [
    "data.DATETIME"
   ]
  },
  {
   "cell_type": "code",
   "execution_count": null,
   "metadata": {
    "collapsed": true
   },
   "outputs": [],
   "source": []
  }
 ],
 "metadata": {
  "kernelspec": {
   "display_name": "Python 2",
   "language": "python",
   "name": "python2"
  },
  "language_info": {
   "codemirror_mode": {
    "name": "ipython",
    "version": 2
   },
   "file_extension": ".py",
   "mimetype": "text/x-python",
   "name": "python",
   "nbconvert_exporter": "python",
   "pygments_lexer": "ipython2",
   "version": "2.7.12"
  }
 },
 "nbformat": 4,
 "nbformat_minor": 0
}
