{
 "cells": [
  {
   "cell_type": "code",
   "execution_count": 80,
   "metadata": {
    "collapsed": false
   },
   "outputs": [],
   "source": [
    "import pandas\n",
    "from collections import defaultdict\n",
    "import dateutil.parser\n",
    "import itertools\n",
    "import re\n",
    "import datetime\n",
    "import copy"
   ]
  },
  {
   "cell_type": "code",
   "execution_count": 3,
   "metadata": {
    "collapsed": false,
    "scrolled": true
   },
   "outputs": [],
   "source": [
    "#Challenge 1\n",
    "\n",
    "#work out challenges one one set of weekly data\n",
    "df160618 = pandas.read_csv('turnstile_160618.txt')\n",
    "\n",
    "#['C/A', 'UNIT', 'SCP', 'STATION', 'LINENAME', 'DIVISION', 'DATE', 'TIME','DESC', 'ENTRIES','EXITS']     \n",
    "\n",
    "dict160618 = defaultdict(list)\n",
    "\n",
    "for ind, row in df160618.iterrows():\n",
    "    keys = tuple(row[0:4])\n",
    "    dict160618[keys].append(row[4:].tolist())\n"
   ]
  },
  {
   "cell_type": "code",
   "execution_count": 6,
   "metadata": {
    "collapsed": false
   },
   "outputs": [
    {
     "name": "stdout",
     "output_type": "stream",
     "text": [
      "('N512', 'R163', '00-00-01', '14 ST')  :  [['FLM123', 'IND', '06/11/2016', '00:00:00', 'REGULAR', 1570298, 2889034], ['FLM123', 'IND', '06/11/2016', '04:00:00', 'REGULAR', 1570377, 2889077], ['FLM123', 'IND', '06/11/2016', '08:00:00', 'REGULAR', 1570385, 2889130], ['FLM123', 'IND', '06/11/2016', '12:00:00', 'REGULAR', 1570464, 2889370], ['FLM123', 'IND', '06/11/2016', '16:00:00', 'REGULAR', 1570687, 2889689], ['FLM123', 'IND', '06/11/2016', '20:00:00', 'REGULAR', 1570950, 2890001], ['FLM123', 'IND', '06/12/2016', '00:00:00', 'REGULAR', 1571149, 2890171], ['FLM123', 'IND', '06/12/2016', '04:00:00', 'REGULAR', 1571200, 2890255], ['FLM123', 'IND', '06/12/2016', '08:00:00', 'REGULAR', 1571222, 2890289], ['FLM123', 'IND', '06/12/2016', '12:00:00', 'REGULAR', 1571316, 2890462], ['FLM123', 'IND', '06/12/2016', '16:00:00', 'REGULAR', 1571504, 2890780], ['FLM123', 'IND', '06/12/2016', '20:00:00', 'REGULAR', 1571742, 2891037], ['FLM123', 'IND', '06/13/2016', '00:00:00', 'REGULAR', 1571870, 2891134], ['FLM123', 'IND', '06/13/2016', '04:00:00', 'REGULAR', 1571885, 2891142], ['FLM123', 'IND', '06/13/2016', '08:00:00', 'REGULAR', 1571924, 2891295], ['FLM123', 'IND', '06/13/2016', '12:00:00', 'REGULAR', 1572042, 2891786], ['FLM123', 'IND', '06/13/2016', '16:00:00', 'REGULAR', 1572228, 2892158], ['FLM123', 'IND', '06/13/2016', '20:00:00', 'REGULAR', 1572558, 2892905], ['FLM123', 'IND', '06/14/2016', '00:00:00', 'REGULAR', 1572831, 2893057], ['FLM123', 'IND', '06/14/2016', '04:00:00', 'REGULAR', 1572861, 2893082], ['FLM123', 'IND', '06/14/2016', '08:00:00', 'REGULAR', 1572894, 2893231], ['FLM123', 'IND', '06/14/2016', '12:00:00', 'REGULAR', 1573012, 2893728], ['FLM123', 'IND', '06/14/2016', '16:00:00', 'REGULAR', 1573201, 2894118], ['FLM123', 'IND', '06/14/2016', '20:00:00', 'REGULAR', 1573628, 2894833], ['FLM123', 'IND', '06/15/2016', '00:00:00', 'REGULAR', 1573932, 2895011], ['FLM123', 'IND', '06/15/2016', '04:00:00', 'REGULAR', 1573968, 2895043], ['FLM123', 'IND', '06/15/2016', '08:00:00', 'REGULAR', 1574000, 2895192], ['FLM123', 'IND', '06/15/2016', '12:00:00', 'REGULAR', 1574148, 2895671], ['FLM123', 'IND', '06/15/2016', '16:00:00', 'REGULAR', 1574345, 2896085], ['FLM123', 'IND', '06/15/2016', '20:00:00', 'REGULAR', 1574717, 2896868], ['FLM123', 'IND', '06/16/2016', '00:00:00', 'REGULAR', 1575003, 2897087], ['FLM123', 'IND', '06/16/2016', '04:00:00', 'REGULAR', 1575037, 2897113], ['FLM123', 'IND', '06/16/2016', '08:00:00', 'REGULAR', 1575071, 2897259], ['FLM123', 'IND', '06/16/2016', '12:00:00', 'REGULAR', 1575192, 2897812], ['FLM123', 'IND', '06/16/2016', '16:00:00', 'REGULAR', 1575388, 2898252], ['FLM123', 'IND', '06/16/2016', '20:00:00', 'REGULAR', 1575755, 2898999], ['FLM123', 'IND', '06/17/2016', '00:00:00', 'REGULAR', 1576048, 2899206], ['FLM123', 'IND', '06/17/2016', '04:00:00', 'REGULAR', 1576092, 2899245], ['FLM123', 'IND', '06/17/2016', '08:00:00', 'REGULAR', 1576129, 2899397], ['FLM123', 'IND', '06/17/2016', '12:00:00', 'REGULAR', 1576242, 2899860], ['FLM123', 'IND', '06/17/2016', '16:00:00', 'REGULAR', 1576455, 2900348], ['FLM123', 'IND', '06/17/2016', '20:00:00', 'REGULAR', 1576827, 2901107]]\n"
     ]
    }
   ],
   "source": [
    "#CHECK: Challenge 1\n",
    "for k, v in dict160618.items() :\n",
    "    print(k,\" : \", v)\n",
    "    break\n"
   ]
  },
  {
   "cell_type": "code",
   "execution_count": 10,
   "metadata": {
    "collapsed": false,
    "scrolled": true
   },
   "outputs": [],
   "source": [
    "#Challenge 2\n",
    "dict160618byTime.clear()\n",
    "#dict160618byTime= defaultdict(list)\n",
    "\n",
    "\n",
    "for index, row in df160618.iterrows():\n",
    "    \n",
    "    dstr = row['DATE'] + ' ' + row['TIME']\n",
    "    dt = dateutil.parser.parse(dstr)\n",
    "    en = row.values[-2:].tolist()\n",
    "    dict160618byTime[tuple(row[0:4])].append([dt]+en)\n",
    "\n",
    "#adjust counts of entries and extits\n",
    "    \n",
    "    "
   ]
  },
  {
   "cell_type": "code",
   "execution_count": 152,
   "metadata": {
    "collapsed": false
   },
   "outputs": [
    {
     "name": "stdout",
     "output_type": "stream",
     "text": [
      "('N512', 'R163', '00-00-01', '14 ST')  :  [[datetime.datetime(2016, 6, 11, 0, 0), 1570298, 2889034], [datetime.datetime(2016, 6, 11, 4, 0), 1570377, 2889077], [datetime.datetime(2016, 6, 11, 8, 0), 1570385, 2889130], [datetime.datetime(2016, 6, 11, 12, 0), 1570464, 2889370], [datetime.datetime(2016, 6, 11, 16, 0), 1570687, 2889689], [datetime.datetime(2016, 6, 11, 20, 0), 1570950, 2890001], [datetime.datetime(2016, 6, 12, 0, 0), 1571149, 2890171], [datetime.datetime(2016, 6, 12, 4, 0), 1571200, 2890255], [datetime.datetime(2016, 6, 12, 8, 0), 1571222, 2890289], [datetime.datetime(2016, 6, 12, 12, 0), 1571316, 2890462], [datetime.datetime(2016, 6, 12, 16, 0), 1571504, 2890780], [datetime.datetime(2016, 6, 12, 20, 0), 1571742, 2891037], [datetime.datetime(2016, 6, 13, 0, 0), 1571870, 2891134], [datetime.datetime(2016, 6, 13, 4, 0), 1571885, 2891142], [datetime.datetime(2016, 6, 13, 8, 0), 1571924, 2891295], [datetime.datetime(2016, 6, 13, 12, 0), 1572042, 2891786], [datetime.datetime(2016, 6, 13, 16, 0), 1572228, 2892158], [datetime.datetime(2016, 6, 13, 20, 0), 1572558, 2892905], [datetime.datetime(2016, 6, 14, 0, 0), 1572831, 2893057], [datetime.datetime(2016, 6, 14, 4, 0), 1572861, 2893082], [datetime.datetime(2016, 6, 14, 8, 0), 1572894, 2893231], [datetime.datetime(2016, 6, 14, 12, 0), 1573012, 2893728], [datetime.datetime(2016, 6, 14, 16, 0), 1573201, 2894118], [datetime.datetime(2016, 6, 14, 20, 0), 1573628, 2894833], [datetime.datetime(2016, 6, 15, 0, 0), 1573932, 2895011], [datetime.datetime(2016, 6, 15, 4, 0), 1573968, 2895043], [datetime.datetime(2016, 6, 15, 8, 0), 1574000, 2895192], [datetime.datetime(2016, 6, 15, 12, 0), 1574148, 2895671], [datetime.datetime(2016, 6, 15, 16, 0), 1574345, 2896085], [datetime.datetime(2016, 6, 15, 20, 0), 1574717, 2896868], [datetime.datetime(2016, 6, 16, 0, 0), 1575003, 2897087], [datetime.datetime(2016, 6, 16, 4, 0), 1575037, 2897113], [datetime.datetime(2016, 6, 16, 8, 0), 1575071, 2897259], [datetime.datetime(2016, 6, 16, 12, 0), 1575192, 2897812], [datetime.datetime(2016, 6, 16, 16, 0), 1575388, 2898252], [datetime.datetime(2016, 6, 16, 20, 0), 1575755, 2898999], [datetime.datetime(2016, 6, 17, 0, 0), 1576048, 2899206], [datetime.datetime(2016, 6, 17, 4, 0), 1576092, 2899245], [datetime.datetime(2016, 6, 17, 8, 0), 1576129, 2899397], [datetime.datetime(2016, 6, 17, 12, 0), 1576242, 2899860], [datetime.datetime(2016, 6, 17, 16, 0), 1576455, 2900348], [datetime.datetime(2016, 6, 17, 20, 0), 1576827, 2901107]]\n"
     ]
    }
   ],
   "source": [
    "#CHECK: Challenge 2\n",
    "for k, v in dict160618byTime.items() :\n",
    "    print(k,\" : \", v)\n",
    "    break\n"
   ]
  },
  {
   "cell_type": "code",
   "execution_count": 48,
   "metadata": {
    "collapsed": false
   },
   "outputs": [],
   "source": [
    "#Challenge 3\n",
    "#I throw out 0 base(beginner) counts\n",
    "dict160618TimeCounts.clear()\n",
    "dict160618TimeCounts= defaultdict(list)\n",
    "\n",
    "for k,v in dict160618byTime.items():\n",
    "    for i in range(1,len(v)):\n",
    "        val = v[i].copy()\n",
    "        val[-1] = max(v[i][-1] - v[i-1][-1],0)\n",
    "        val[-2] = max(v[i][-2] - v[i-1][-2],0)\n",
    "        dict160618TimeCounts[k].append(val)\n",
    "        \n",
    "    "
   ]
  },
  {
   "cell_type": "code",
   "execution_count": 153,
   "metadata": {
    "collapsed": false
   },
   "outputs": [
    {
     "name": "stdout",
     "output_type": "stream",
     "text": [
      "('N512', 'R163', '00-00-01', '14 ST')  :  [[datetime.datetime(2016, 6, 11, 4, 0), 79, 43], [datetime.datetime(2016, 6, 11, 8, 0), 8, 53], [datetime.datetime(2016, 6, 11, 12, 0), 79, 240], [datetime.datetime(2016, 6, 11, 16, 0), 223, 319], [datetime.datetime(2016, 6, 11, 20, 0), 263, 312], [datetime.datetime(2016, 6, 12, 0, 0), 199, 170], [datetime.datetime(2016, 6, 12, 4, 0), 51, 84], [datetime.datetime(2016, 6, 12, 8, 0), 22, 34], [datetime.datetime(2016, 6, 12, 12, 0), 94, 173], [datetime.datetime(2016, 6, 12, 16, 0), 188, 318], [datetime.datetime(2016, 6, 12, 20, 0), 238, 257], [datetime.datetime(2016, 6, 13, 0, 0), 128, 97], [datetime.datetime(2016, 6, 13, 4, 0), 15, 8], [datetime.datetime(2016, 6, 13, 8, 0), 39, 153], [datetime.datetime(2016, 6, 13, 12, 0), 118, 491], [datetime.datetime(2016, 6, 13, 16, 0), 186, 372], [datetime.datetime(2016, 6, 13, 20, 0), 330, 747], [datetime.datetime(2016, 6, 14, 0, 0), 273, 152], [datetime.datetime(2016, 6, 14, 4, 0), 30, 25], [datetime.datetime(2016, 6, 14, 8, 0), 33, 149], [datetime.datetime(2016, 6, 14, 12, 0), 118, 497], [datetime.datetime(2016, 6, 14, 16, 0), 189, 390], [datetime.datetime(2016, 6, 14, 20, 0), 427, 715], [datetime.datetime(2016, 6, 15, 0, 0), 304, 178], [datetime.datetime(2016, 6, 15, 4, 0), 36, 32], [datetime.datetime(2016, 6, 15, 8, 0), 32, 149], [datetime.datetime(2016, 6, 15, 12, 0), 148, 479], [datetime.datetime(2016, 6, 15, 16, 0), 197, 414], [datetime.datetime(2016, 6, 15, 20, 0), 372, 783], [datetime.datetime(2016, 6, 16, 0, 0), 286, 219], [datetime.datetime(2016, 6, 16, 4, 0), 34, 26], [datetime.datetime(2016, 6, 16, 8, 0), 34, 146], [datetime.datetime(2016, 6, 16, 12, 0), 121, 553], [datetime.datetime(2016, 6, 16, 16, 0), 196, 440], [datetime.datetime(2016, 6, 16, 20, 0), 367, 747], [datetime.datetime(2016, 6, 17, 0, 0), 293, 207], [datetime.datetime(2016, 6, 17, 4, 0), 44, 39], [datetime.datetime(2016, 6, 17, 8, 0), 37, 152], [datetime.datetime(2016, 6, 17, 12, 0), 113, 463], [datetime.datetime(2016, 6, 17, 16, 0), 213, 488], [datetime.datetime(2016, 6, 17, 20, 0), 372, 759]]\n"
     ]
    }
   ],
   "source": [
    "#CHECK: Challenge 3\n",
    "for k, v in dict160618TimeCounts.items() :\n",
    "    print(k,\" : \", v)\n",
    "    break\n"
   ]
  },
  {
   "cell_type": "code",
   "execution_count": 50,
   "metadata": {
    "collapsed": false,
    "scrolled": true
   },
   "outputs": [],
   "source": [
    "#challenge 3\n",
    "#dict160618TimeCounts\n",
    "#dict160618DayTotals.clear()\n",
    "dict160618DayTotals= defaultdict(list)\n",
    "\n",
    "for k,v in dict160618TimeCounts.items():\n",
    "    \n",
    "    #a list of lists grouped by day\n",
    "    daily_entries= [list(val[1]) for val in groupby(list(v), lambda x: x[0].day)]\n",
    "    \n",
    "    #creating dictionary entry for k key, iterationg over different days\n",
    "    for dayrec in daily_entries:\n",
    "        date = dayrec[0][0].date()\n",
    "        exits = sum([x[-1] for x in dayrec])\n",
    "        entries = sum([x[-2] for x in dayrec])\n",
    "        dict160618DayTotals[k].append([date,entries,exits])\n",
    "    "
   ]
  },
  {
   "cell_type": "code",
   "execution_count": 52,
   "metadata": {
    "collapsed": false
   },
   "outputs": [
    {
     "data": {
      "text/plain": [
       "[<matplotlib.lines.Line2D at 0x121627828>]"
      ]
     },
     "execution_count": 52,
     "metadata": {},
     "output_type": "execute_result"
    },
    {
     "data": {
      "image/png": "[encoded data removed]",
      "text/plain": [
       "<matplotlib.figure.Figure at 0x11ac5ff98>"
      ]
     },
     "metadata": {},
     "output_type": "display_data"
    }
   ],
   "source": [
    "#Challenge 4\n",
    "#drop exits from the dataset\n",
    "import matplotlib.pyplot as plt\n",
    "\n",
    "%matplotlib inline\n",
    "#dict160618TimeSeries.clear()\n",
    "dict160618TimeSeries=defaultdict(list)\n",
    "\n",
    "for k,v in dict160618DayTotals.items():\n",
    "    dates = []\n",
    "    entries = []\n",
    "    for dayrec in v:\n",
    "        dates = dates + [dayrec[0]]\n",
    "        entries = entries + [dayrec[1]]\n",
    "    dict160618TimeSeries[k] = [dates, entries]\n",
    "    \n",
    "fig = plt.figure(figsize=(10,3))\n",
    "name = ('N512', 'R163', '00-00-01', '14 ST')\n",
    "plt.plot(dict160618TimeSeries[name][0],dict160618TimeSeries[name][1])\n"
   ]
  },
  {
   "cell_type": "code",
   "execution_count": 139,
   "metadata": {
    "collapsed": false
   },
   "outputs": [],
   "source": [
    "#Challenge 5 - sum accross SCP\n",
    "dictAcrossSCP.clear()\n",
    "newdict.clear()\n",
    "dictAcrossSCP = defaultdict(list)\n",
    "newdict = defaultdict(list)\n",
    "\n",
    "#create new dictionary with key entries that aggregate data accross ('C/A', 'UNIT', STATION)\n",
    "for k,v in dict160618DayTotals.items():\n",
    "    newdict[tuple([k[0],k[1],k[3]])].extend(v)\n",
    "\n",
    "for k,v in newdict.items():\n",
    "    \n",
    "    #sort dictionary values by date(prepare to use groupby())\n",
    "    sortedlist = sorted(v, key = lambda x: x[0])\n",
    "    #groupby the date, sum up accross dates\n",
    "    for i,g in itertools.groupby(sortedlist, key = lambda x: x[0].day):\n",
    "        dayrec = list(g)\n",
    "        date = dayrec[0][0]\n",
    "        entries = sum([x[1] for x in dayrec])\n",
    "        exits = sum([x[2] for x in dayrec])\n",
    "        dictAcrossSCP[k].append([date, entries, exits])"
   ]
  },
  {
   "cell_type": "code",
   "execution_count": 140,
   "metadata": {
    "collapsed": false
   },
   "outputs": [
    {
     "name": "stdout",
     "output_type": "stream",
     "text": [
      "('N340', 'R115', '169 ST')  :  [[datetime.date(2016, 6, 11), 1699, 1575], [datetime.date(2016, 6, 12), 1491, 1634], [datetime.date(2016, 6, 13), 3307, 3695], [datetime.date(2016, 6, 14), 3079, 3711], [datetime.date(2016, 6, 15), 3245, 3736], [datetime.date(2016, 6, 16), 2919, 3625], [datetime.date(2016, 6, 17), 3013, 3570]]\n"
     ]
    }
   ],
   "source": [
    "#CHECK: Challenge 5\n",
    "for k,v in dictAcrossSCP.items():\n",
    "    print(k, \" : \", v)\n",
    "    break\n",
    "    "
   ]
  },
  {
   "cell_type": "code",
   "execution_count": 154,
   "metadata": {
    "collapsed": false
   },
   "outputs": [],
   "source": [
    "#Challenge 6 - sum accross stations\n",
    "#dictAcrossStations.clear()\n",
    "newdict.clear()\n",
    "dictAcrossStations = defaultdict(list)\n",
    "newdict = defaultdict(list)\n",
    "\n",
    "#create new dictionary with key entries that aggregate data accross ('C/A', 'UNIT', STATION)\n",
    "for k,v in dictAcrossSCP.items():\n",
    "    newdict[k[-1]].extend(v)\n",
    "    \n",
    "for k,v in newdict.items():\n",
    "    \n",
    "    #sort dictionary values by date(prepare to use groupby())\n",
    "    sortedlist = sorted(v, key = lambda x: x[0])\n",
    "    #groupby the date, sum up accross dates\n",
    "    for i,g in itertools.groupby(sortedlist, key = lambda x: x[0].day):\n",
    "        dayrec = list(g)\n",
    "        date = dayrec[0][0]\n",
    "        entries = sum([x[1] for x in dayrec])\n",
    "        exits = sum([x[2] for x in dayrec])\n",
    "        dictAcrossStations[k].append([date, entries, exits])\n"
   ]
  },
  {
   "cell_type": "code",
   "execution_count": 155,
   "metadata": {
    "collapsed": false
   },
   "outputs": [
    {
     "name": "stdout",
     "output_type": "stream",
     "text": [
      "AQUEDUCT RACETR  :  [[datetime.date(2016, 6, 11), 1947, 225], [datetime.date(2016, 6, 12), 2576, 203], [datetime.date(2016, 6, 13), 1762, 124], [datetime.date(2016, 6, 14), 1559, 144], [datetime.date(2016, 6, 15), 1815, 195], [datetime.date(2016, 6, 16), 1581, 142], [datetime.date(2016, 6, 17), 2007, 220]]\n"
     ]
    }
   ],
   "source": [
    "#CHECK: Challenge 6\n",
    "for k,v in dictAcrossStations.items():\n",
    "    print(k, \" : \", v)\n",
    "    break\n",
    "    "
   ]
  },
  {
   "cell_type": "code",
   "execution_count": 159,
   "metadata": {
    "collapsed": false
   },
   "outputs": [
    {
     "data": {
      "text/plain": [
       "[<matplotlib.lines.Line2D at 0x123d21a58>]"
      ]
     },
     "execution_count": 159,
     "metadata": {},
     "output_type": "execute_result"
    },
    {
     "data": {
      "image/png": "[encoded data removed]",
      "text/plain": [
       "<matplotlib.figure.Figure at 0x12415bc88>"
      ]
     },
     "metadata": {},
     "output_type": "display_data"
    }
   ],
   "source": [
    "#Challenge 7\n",
    "%matplotlib inline\n",
    "\n",
    "fig = plt.figure(figsize=(10,3))\n",
    "name = '14 ST'\n",
    "dates = [v[0] for v in dictAcrossStations[name]]\n",
    "counts = [v[1] for v in dictAcrossStations[name]]\n",
    "plt.plot(dates,counts)\n"
   ]
  },
  {
   "cell_type": "code",
   "execution_count": 149,
   "metadata": {
    "collapsed": false
   },
   "outputs": [
    {
     "name": "stdout",
     "output_type": "stream",
     "text": [
      "AQUEDUCT RACETR  :  [[datetime.date(2016, 6, 11), 1947, 225], [datetime.date(2016, 6, 12), 2576, 203], [datetime.date(2016, 6, 13), 1762, 124], [datetime.date(2016, 6, 14), 1559, 144], [datetime.date(2016, 6, 15), 1815, 195], [datetime.date(2016, 6, 16), 1581, 142], [datetime.date(2016, 6, 17), 2007, 220], [datetime.date(2016, 6, 11), 1947, 225], [datetime.date(2016, 6, 12), 2576, 203], [datetime.date(2016, 6, 13), 1762, 124], [datetime.date(2016, 6, 14), 1559, 144], [datetime.date(2016, 6, 15), 1815, 195], [datetime.date(2016, 6, 16), 1581, 142], [datetime.date(2016, 6, 17), 2007, 220]]\n"
     ]
    }
   ],
   "source": [
    "for k,v in  dictAcrossStations.items():\n",
    "    print(k, \" : \", v)\n",
    "    break\n",
    "    "
   ]
  },
  {
   "cell_type": "code",
   "execution_count": null,
   "metadata": {
    "collapsed": true
   },
   "outputs": [],
   "source": []
  }
 ],
 "metadata": {
  "celltoolbar": "Raw Cell Format",
  "kernelspec": {
   "display_name": "Python 3",
   "language": "python",
   "name": "python3"
  },
  "language_info": {
   "codemirror_mode": {
    "name": "ipython",
    "version": 3
   },
   "file_extension": ".py",
   "mimetype": "text/x-python",
   "name": "python",
   "nbconvert_exporter": "python",
   "pygments_lexer": "ipython3",
   "version": "3.5.1"
  }
 },
 "nbformat": 4,
 "nbformat_minor": 0
}
