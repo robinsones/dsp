{
 "cells": [
  {
   "cell_type": "code",
   "execution_count": 86,
   "metadata": {
    "collapsed": false
   },
   "outputs": [],
   "source": [
    "import pandas as pd\n",
    "from collections import defaultdict\n",
    "import dateutil.parser\n",
    "import itertools\n",
    "import re\n",
    "import datetime\n",
    "import matplotlib.pyplot as plt\n",
    "import copy"
   ]
  },
  {
   "cell_type": "code",
   "execution_count": 87,
   "metadata": {
    "collapsed": true
   },
   "outputs": [],
   "source": [
    "def time_shift_counts(d):\n",
    "    \n",
    "    newdict = defaultdict(list)\n",
    "    \n",
    "    for k,v in d.items():\n",
    "        for i in range(1,len(v)):\n",
    "            val = v[i].copy()\n",
    "            temp = max(v[i][1] - v[i-1][1],0)\n",
    "            if temp > 5000:\n",
    "                val[1]=0\n",
    "            else:\n",
    "                val[1] = temp\n",
    "            newdict[k].append(val)\n",
    "    return(newdict)\n",
    "   "
   ]
  },
  {
   "cell_type": "code",
   "execution_count": 88,
   "metadata": {
    "collapsed": true
   },
   "outputs": [],
   "source": [
    "def total_day_counts(d):\n",
    "    \n",
    "    newdict= defaultdict(list)\n",
    "    \n",
    "    for k,v in d.items():\n",
    "        \n",
    "        #a list of lists grouped by day\n",
    "        #groupby return groupby object - (key,group) tuple\n",
    "        daily_entries= [list(val[1]) for val in itertools.groupby(list(v), lambda x: x[0].day)]\n",
    "        \n",
    "        #creating dictionary entry for k key, iterationg over different days\n",
    "        for dayrec in daily_entries:\n",
    "            date = dayrec[0][0].date()\n",
    "            entries = sum([x[1] for x in dayrec])\n",
    "            newdict[k].append([date,entries])\n",
    "            \n",
    "    return(newdict)"
   ]
  },
  {
   "cell_type": "code",
   "execution_count": 89,
   "metadata": {
    "collapsed": false,
    "scrolled": true
   },
   "outputs": [],
   "source": [
    "#for a given MTA dataframe returns a dictionary with (C/A', 'UNIT', 'SCP', 'STATION',) keys\n",
    "# and values in (date, entry counts) form\n",
    "def compute_entry_data(df):\n",
    "    \n",
    "    newdict= defaultdict(list)\n",
    "    newdict_res= defaultdict(list)\n",
    "    \n",
    "    for index, row in df.iterrows():\n",
    "        dt = dateutil.parser.parse(row['DATE'] + ' ' + row['TIME'])\n",
    "        newdict[tuple(row[:4])].append([dt, row['ENTRIES']])\n",
    "    \n",
    "    newdict_res = time_shift_counts(newdict)\n",
    "    \n",
    "    return(total_day_counts(newdict_res))\n",
    "    \n",
    "    \n",
    "    "
   ]
  },
  {
   "cell_type": "code",
   "execution_count": 90,
   "metadata": {
    "collapsed": true
   },
   "outputs": [],
   "source": [
    "def data_by_station(d):\n",
    "    \n",
    "    newdict = defaultdict(list)\n",
    "    newdict_res = defaultdict(list)\n",
    "    \n",
    "    #create new dictionary that rearranges data using STATION as a key\n",
    "    for k,v in d.items():\n",
    "        newdict[k[3]].extend(v)\n",
    "        \n",
    "    #create dictionary where STATION key corresponds to (date,entry counts) values\n",
    "    for k,v in newdict.items():\n",
    "        \n",
    "        #sort dictionary values by date(prepare to use groupby())\n",
    "        sortedlist = sorted(v, key = lambda x: x[0])\n",
    "        \n",
    "        #groupby the date, sum up accross dates\n",
    "        for i,g in itertools.groupby(sortedlist, key = lambda x: x[0].day):\n",
    "            dayrec = list(g)\n",
    "            date = dayrec[0][0]\n",
    "            entries = sum([x[1] for x in dayrec])\n",
    "            newdict_res[k].append([date, entries])\n",
    "    return(newdict_res)\n"
   ]
  },
  {
   "cell_type": "code",
   "execution_count": 91,
   "metadata": {
    "collapsed": true
   },
   "outputs": [],
   "source": [
    "def challenge6_by_STATION(filename):\n",
    "    \n",
    "    try:\n",
    "        df = pd.read_csv(filename)\n",
    "    except:\n",
    "        print(\"File could not be read.\")\n",
    "        return(None)\n",
    "    \n",
    "    #returns dictionary with (C/A', 'UNIT', 'SCP', 'STATION',) keys and values in (date, entry counts) form\n",
    "    dct = compute_entry_data(df)\n",
    "    \n",
    "    #returns dictionary with STATION keys and values in (date,entry counts) form\n",
    "    station_dct = data_by_station(dct)\n",
    "    \n",
    "    return(station_dct)\n",
    "    "
   ]
  },
  {
   "cell_type": "code",
   "execution_count": 92,
   "metadata": {
    "collapsed": false
   },
   "outputs": [
    {
     "data": {
      "image/png": "[encoded data removed]",
      "text/plain": [
       "<matplotlib.figure.Figure at 0x118955400>"
      ]
     },
     "metadata": {},
     "output_type": "display_data"
    }
   ],
   "source": [
    "#Challenge 8\n",
    "%matplotlib inline\n",
    "#['C/A', 'UNIT', 'SCP', 'STATION', 'LINENAME', 'DIVISION', 'DATE', 'TIME','DESC', 'ENTRIES','EXITS']     \n",
    "\n",
    "d160528 = challenge6_by_STATION('turnstile_160528.txt')\n",
    "d160604 = challenge6_by_STATION('turnstile_160604.txt')\n",
    "d160611 = challenge6_by_STATION('turnstile_160611.txt')\n",
    "d160618 = challenge6_by_STATION('turnstile_160618.txt')\n",
    "\n",
    "list_of_dict = [d160528, d160604 , d160611, d160618 ]\n",
    "\n",
    "name = '14 ST'\n",
    "\n",
    "fig = plt.figure(figsize=(10,3))\n",
    "\n",
    "for d in list_of_dict:\n",
    "\n",
    "    weekdays = sorted([[v[0].weekday(),v[1]] for v in d[name]], key = lambda x: x[0])\n",
    "    \n",
    "    dates = [v[0] for v in weekdays]\n",
    "    counts = [v[1] for v in weekdays]\n",
    "    plt.plot(dates,counts)\n",
    "    plt.xticks(dates, [ 'Mon','Tue', 'Wed', 'Thu', 'Fri', 'Sat', 'Sun'], rotation='horizontal')\n",
    "    plt.xlabel('Station - ' + name)\n"
   ]
  },
  {
   "cell_type": "code",
   "execution_count": 100,
   "metadata": {
    "collapsed": false
   },
   "outputs": [
    {
     "name": "stdout",
     "output_type": "stream",
     "text": [
      "['34 ST-PENN STA', 730660]\n",
      "['GRD CNTRL-42 ST', 675183]\n",
      "['34 ST-HERALD SQ', 510549]\n",
      "['23 ST', 494480]\n",
      "['86 ST', 472168]\n",
      "['14 ST-UNION SQ', 449515]\n",
      "['TIMES SQ-42 ST', 410314]\n",
      "['42 ST-PORT AUTH', 380751]\n",
      "['FULTON ST', 363010]\n",
      "['59 ST', 344008]\n"
     ]
    }
   ],
   "source": [
    "#Challenges 9 and 10\n",
    "newdict.clear()\n",
    "sorted_dict.clear()\n",
    "d_stations.clear()\n",
    "d_stations= defaultdict(list)\n",
    "newdict = defaultdict(list)\n",
    "sorted_dict = defaultdict(list)\n",
    "\n",
    "#merge dictionaries\n",
    "for d in list_of_dict:\n",
    "    for k,v in d.items():\n",
    "        byweekday = [[x[0].weekday(),x[1]] for x in v]\n",
    "        newdict[k].extend(byweekday)\n",
    "        \n",
    "#aggregate by day of the week\n",
    "for k,v in newdict.items():\n",
    "        \n",
    "        #sort dictionary values by date(prepare to use groupby())\n",
    "        sortedlist = sorted(v, key = lambda x: x[0])\n",
    "        \n",
    "        #groupby the date, sum up accross dates\n",
    "        for i,g in itertools.groupby(sortedlist, key = lambda x: x[0]):\n",
    "            dayrec = list(g)\n",
    "            date = dayrec[0][0]\n",
    "            entries = sum([x[1] for x in dayrec])\n",
    "            d_stations[k].append([date, entries])\n",
    "            \n",
    "def busy_station(day):\n",
    "    \n",
    "    stations=[]\n",
    "    \n",
    "    for k,v in sorted(d_stations.items(), key = lambda x: x[1][day][1], reverse = True):\n",
    "        stations.append([k, v[day][1]])\n",
    "        \n",
    "    return(stations)\n",
    "\n",
    "DAY_OF_THE_WEEK = 2\n",
    "\n",
    "stations = busy_station(DAY_OF_THE_WEEK)\n",
    "\n",
    "for i in range(10):\n",
    "    print(stations[i])"
   ]
  },
  {
   "cell_type": "code",
   "execution_count": 103,
   "metadata": {
    "collapsed": false
   },
   "outputs": [
    {
     "data": {
      "text/plain": [
       "(array([ 290.,   46.,   18.,    5.,    6.,    2.,    4.,    0.,    0.,    2.]),\n",
       " array([  1.60000000e+01,   7.30804000e+04,   1.46144800e+05,\n",
       "          2.19209200e+05,   2.92273600e+05,   3.65338000e+05,\n",
       "          4.38402400e+05,   5.11466800e+05,   5.84531200e+05,\n",
       "          6.57595600e+05,   7.30660000e+05]),\n",
       " <a list of 10 Patch objects>)"
      ]
     },
     "execution_count": 103,
     "metadata": {},
     "output_type": "execute_result"
    },
    {
     "data": {
      "image/png": "[encoded data removed]",
      "text/plain": [
       "<matplotlib.figure.Figure at 0x118362208>"
      ]
     },
     "metadata": {},
     "output_type": "display_data"
    }
   ],
   "source": [
    "import plotly.plotly as py  # tools to communicate with Plotly's server\n",
    "\n",
    "histogram=plt.figure()\n",
    "\n",
    "values = [x[1] for x in stations]\n",
    "plt.hist(values)\n"
   ]
  },
  {
   "cell_type": "code",
   "execution_count": null,
   "metadata": {
    "collapsed": true
   },
   "outputs": [],
   "source": []
  }
 ],
 "metadata": {
  "celltoolbar": "Raw Cell Format",
  "kernelspec": {
   "display_name": "Python 3",
   "language": "python",
   "name": "python3"
  },
  "language_info": {
   "codemirror_mode": {
    "name": "ipython",
    "version": 3
   },
   "file_extension": ".py",
   "mimetype": "text/x-python",
   "name": "python",
   "nbconvert_exporter": "python",
   "pygments_lexer": "ipython3",
   "version": "3.5.1"
  }
 },
 "nbformat": 4,
 "nbformat_minor": 0
}
