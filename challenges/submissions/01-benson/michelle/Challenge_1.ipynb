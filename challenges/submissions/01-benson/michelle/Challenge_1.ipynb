{
 "cells": [
  {
   "cell_type": "code",
   "execution_count": 2,
   "metadata": {
    "ExecuteTime": {
     "end_time": "2016-07-24T11:24:33.001304",
     "start_time": "2016-07-24T11:24:32.994411"
    },
    "collapsed": false
   },
   "outputs": [
    {
     "data": {
      "application/javascript": [
       "$.getScript('https://raw.githubusercontent.com/mlgill/ipython_notebook_goodies/gh-pages/ipython_notebook_toc.js')"
      ],
      "text/plain": [
       "<IPython.core.display.Javascript object>"
      ]
     },
     "metadata": {},
     "output_type": "display_data"
    }
   ],
   "source": [
    "%%javascript\n",
    "$.getScript('https://raw.githubusercontent.com/mlgill/ipython_notebook_goodies/gh-pages/ipython_notebook_toc.js')"
   ]
  },
  {
   "cell_type": "code",
   "execution_count": 2,
   "metadata": {
    "ExecuteTime": {
     "end_time": "2016-07-13T05:06:42.551351",
     "start_time": "2016-07-13T05:06:40.016973"
    },
    "collapsed": true
   },
   "outputs": [],
   "source": [
    "import csv\n",
    "from collections import defaultdict\n",
    "import pprint\n",
    "from dateutil import parser as dtparser\n",
    "import datetime as dt\n",
    "\n",
    "import pandas as pd\n",
    "\n",
    "import matplotlib.pyplot as plt\n",
    "from matplotlib.ticker import FuncFormatter\n",
    "import seaborn as sns\n",
    "\n",
    "pp = pprint.PrettyPrinter(indent=2)\n",
    "\n",
    "sns.set_context('talk')\n",
    "sns.set_style('ticks')\n",
    "sns.set_palette('dark')\n",
    "\n",
    "%matplotlib inline"
   ]
  },
  {
   "cell_type": "markdown",
   "metadata": {},
   "source": [
    "# Challenge 1\n",
    "\n",
    "\n",
    "| Title        | Answer                     |\n",
    "| :---------- | :------------------------ |\n",
    "| Topic:       | Explore MTA turnstile data | \n",
    "| Date:        | 2016/07/02                 |\n",
    "| Name:        | Michelle L. Gill           |\n",
    "| Worked with: | None                       | \n",
    "\n",
    "\n",
    "<h1 id=\"tocheading\">Table of Contents</h1>\n",
    "<div id=\"toc\"></div>\n",
    "\n",
    "\n",
    "Initial three questions were performed with and without Pandas.\n",
    "\n",
    "## Question 1\n",
    "\n",
    "### Without Pandas\n",
    "\n",
    "Import data from an MTA turnstile entry/exit file "
   ]
  },
  {
   "cell_type": "code",
   "execution_count": 8,
   "metadata": {
    "ExecuteTime": {
     "end_time": "2016-07-13T05:11:10.326999",
     "start_time": "2016-07-13T05:10:46.327408"
    },
    "collapsed": false
   },
   "outputs": [
    {
     "name": "stdout",
     "output_type": "stream",
     "text": [
      "  % Total    % Received % Xferd  Average Speed   Time    Time     Time  Current\n",
      "                                 Dload  Upload   Total   Spent    Left  Speed\n",
      "100 24.1M    0 24.1M    0     0  10.4M      0 --:--:--  0:00:02 --:--:-- 10.4M\n",
      "  % Total    % Received % Xferd  Average Speed   Time    Time     Time  Current\n",
      "                                 Dload  Upload   Total   Spent    Left  Speed\n",
      "100 24.2M    0 24.2M    0     0  10.9M      0 --:--:--  0:00:02 --:--:-- 10.9M\n",
      "  % Total    % Received % Xferd  Average Speed   Time    Time     Time  Current\n",
      "                                 Dload  Upload   Total   Spent    Left  Speed\n",
      "100 24.2M    0 24.2M    0     0  9093k      0 --:--:--  0:00:02 --:--:-- 9097k\n",
      "  % Total    % Received % Xferd  Average Speed   Time    Time     Time  Current\n",
      "                                 Dload  Upload   Total   Spent    Left  Speed\n",
      "100 24.1M    0 24.1M    0     0  10.4M      0 --:--:--  0:00:02 --:--:-- 10.4M\n",
      "  % Total    % Received % Xferd  Average Speed   Time    Time     Time  Current\n",
      "                                 Dload  Upload   Total   Spent    Left  Speed\n",
      "100 24.4M    0 24.4M    0     0  10.5M      0 --:--:--  0:00:02 --:--:-- 10.5M\n",
      "  % Total    % Received % Xferd  Average Speed   Time    Time     Time  Current\n",
      "                                 Dload  Upload   Total   Spent    Left  Speed\n",
      "100 24.1M    0 24.1M    0     0  10.5M      0 --:--:--  0:00:02 --:--:-- 10.5M\n",
      "  % Total    % Received % Xferd  Average Speed   Time    Time     Time  Current\n",
      "                                 Dload  Upload   Total   Spent    Left  Speed\n",
      "100 24.2M    0 24.2M    0     0  8313k      0 --:--:--  0:00:02 --:--:-- 8313k\n",
      "  % Total    % Received % Xferd  Average Speed   Time    Time     Time  Current\n",
      "                                 Dload  Upload   Total   Spent    Left  Speed\n",
      "100 24.2M    0 24.2M    0     0  10.8M      0 --:--:--  0:00:02 --:--:-- 10.8M\n",
      "  % Total    % Received % Xferd  Average Speed   Time    Time     Time  Current\n",
      "                                 Dload  Upload   Total   Spent    Left  Speed\n",
      "100 24.2M    0 24.2M    0     0  10.7M      0 --:--:--  0:00:02 --:--:-- 10.7M\n"
     ]
    }
   ],
   "source": [
    "base_url = 'http://web.mta.info/developers/data/nyct/turnstile/{}'\n",
    "\n",
    "filelist = ['turnstile_160430.txt',\n",
    "            'turnstile_160507.txt',\n",
    "            'turnstile_160514.txt',\n",
    "            'turnstile_160521.txt',\n",
    "            'turnstile_160528.txt',\n",
    "            'turnstile_160604.txt',\n",
    "            'turnstile_160611.txt',\n",
    "            'turnstile_160618.txt',\n",
    "            'turnstile_160625.txt'\n",
    "            ]\n",
    "\n",
    "data = defaultdict(list)\n",
    "\n",
    "for fil in filelist:\n",
    "    ! curl -O {base_url.format(fil)}"
   ]
  },
  {
   "cell_type": "code",
   "execution_count": 95,
   "metadata": {
    "ExecuteTime": {
     "end_time": "2016-07-13T06:39:43.863931",
     "start_time": "2016-07-13T06:39:21.628496"
    },
    "collapsed": false
   },
   "outputs": [
    {
     "name": "stdout",
     "output_type": "stream",
     "text": [
      "('N134', 'R385', '00-00-00', 'ROCKAWAY BLVD')\n",
      "['A', 'IND', '04/23/2016', '01:00:00', 'REGULAR', '0007274654', '0002897976']\n",
      "['A', 'IND', '04/23/2016', '05:00:00', 'REGULAR', '0007274671', '0002897987']\n",
      "['A', 'IND', '04/23/2016', '09:00:00', 'REGULAR', '0007274816', '0002898022']\n",
      "['A', 'IND', '04/23/2016', '13:00:00', 'REGULAR', '0007275004', '0002898048']\n",
      "['A', 'IND', '04/23/2016', '17:00:00', 'REGULAR', '0007275199', '0002898105']\n",
      "['A', 'IND', '04/23/2016', '21:00:00', 'REGULAR', '0007275362', '0002898162']\n",
      "['A', 'IND', '04/24/2016', '01:00:00', 'REGULAR', '0007275476', '0002898187']\n",
      "['A', 'IND', '04/24/2016', '05:00:00', 'REGULAR', '0007275495', '0002898191']\n",
      "['A', 'IND', '04/24/2016', '09:00:00', 'REGULAR', '0007275610', '0002898221']\n",
      "['A', 'IND', '04/24/2016', '13:00:00', 'REGULAR', '0007275736', '0002898256']\n"
     ]
    }
   ],
   "source": [
    "data = defaultdict(list)\n",
    "\n",
    "for fil in filelist:\n",
    "    with open(fil, 'r') as fh:\n",
    "\n",
    "        reader = csv.reader(fh, delimiter=',')\n",
    "\n",
    "        for row in reader:\n",
    "            if 'C/A' not in row:\n",
    "                row_str = map(lambda x: x.strip(), row)\n",
    "                data[tuple(row_str[:4])].append(row_str[4:])\n",
    "\n",
    "key = data.keys()[0]\n",
    "print(key)\n",
    "for i in range(10):\n",
    "    print(data[key][i])"
   ]
  },
  {
   "cell_type": "markdown",
   "metadata": {},
   "source": [
    "### With Pandas"
   ]
  },
  {
   "cell_type": "code",
   "execution_count": 96,
   "metadata": {
    "ExecuteTime": {
     "end_time": "2016-07-13T06:39:51.171516",
     "start_time": "2016-07-13T06:39:43.866485"
    },
    "collapsed": false
   },
   "outputs": [],
   "source": [
    "# Data import\n",
    "pd_data = pd.concat([ pd.read_csv(fil) for fil in filelist ], axis=0).reset_index(drop=True)\n",
    "\n",
    "pd_data.columns = map(lambda x: x.strip(), pd_data.columns)\n",
    "pd_data = pd_data.set_index(['C/A', 'UNIT', 'SCP', 'STATION'])"
   ]
  },
  {
   "cell_type": "code",
   "execution_count": 97,
   "metadata": {
    "ExecuteTime": {
     "end_time": "2016-07-13T06:39:58.000397",
     "start_time": "2016-07-13T06:39:51.178258"
    },
    "collapsed": false
   },
   "outputs": [
    {
     "name": "stdout",
     "output_type": "stream",
     "text": [
      "('N134', 'R385', '00-00-00', 'ROCKAWAY BLVD')\n",
      "[ ['A', 'IND', '04/23/2016', '01:00:00', 'REGULAR', 7274654, 2897976],\n",
      "  ['A', 'IND', '04/23/2016', '05:00:00', 'REGULAR', 7274671, 2897987],\n",
      "  ['A', 'IND', '04/23/2016', '09:00:00', 'REGULAR', 7274816, 2898022],\n",
      "  ['A', 'IND', '04/23/2016', '13:00:00', 'REGULAR', 7275004, 2898048],\n",
      "  ['A', 'IND', '04/23/2016', '17:00:00', 'REGULAR', 7275199, 2898105],\n",
      "  ['A', 'IND', '04/23/2016', '21:00:00', 'REGULAR', 7275362, 2898162],\n",
      "  ['A', 'IND', '04/24/2016', '01:00:00', 'REGULAR', 7275476, 2898187],\n",
      "  ['A', 'IND', '04/24/2016', '05:00:00', 'REGULAR', 7275495, 2898191],\n",
      "  ['A', 'IND', '04/24/2016', '09:00:00', 'REGULAR', 7275610, 2898221],\n",
      "  ['A', 'IND', '04/24/2016', '13:00:00', 'REGULAR', 7275736, 2898256]]\n"
     ]
    }
   ],
   "source": [
    "# Dictionary conversion\n",
    "def dataframe_to_dict(df):\n",
    "    \"\"\"A general function to convert\n",
    "       a dataframe with non-unique keys\n",
    "       to a dictionary\"\"\"\n",
    "    \n",
    "    idx_list = range(df.index.nlevels)\n",
    "    \n",
    "    return (df\n",
    "            .groupby(level=idx_list)\n",
    "            .apply(lambda x: x.values\n",
    "                              .tolist())\n",
    "            .to_dict()\n",
    "           )\n",
    "\n",
    "\n",
    "pd_dict = dataframe_to_dict(pd_data)\n",
    "\n",
    "key = pd_dict.keys()[0]\n",
    "pp.pprint(key)\n",
    "pp.pprint(pd_dict[key][:10])"
   ]
  },
  {
   "cell_type": "markdown",
   "metadata": {},
   "source": [
    "## Question 2\n",
    "\n",
    "### Without Pandas"
   ]
  },
  {
   "cell_type": "code",
   "execution_count": 98,
   "metadata": {
    "ExecuteTime": {
     "end_time": "2016-07-13T06:52:44.486914",
     "start_time": "2016-07-13T06:39:58.002640"
    },
    "collapsed": false
   },
   "outputs": [
    {
     "name": "stdout",
     "output_type": "stream",
     "text": [
      "('N134', 'R385', '00-00-00', 'ROCKAWAY BLVD')\n",
      "[datetime.datetime(2016, 4, 23, 1, 0), 7274654.0]\n",
      "[datetime.datetime(2016, 4, 23, 5, 0), 7274671.0]\n",
      "[datetime.datetime(2016, 4, 23, 9, 0), 7274816.0]\n",
      "[datetime.datetime(2016, 4, 23, 13, 0), 7275004.0]\n",
      "[datetime.datetime(2016, 4, 23, 17, 0), 7275199.0]\n",
      "[datetime.datetime(2016, 4, 23, 21, 0), 7275362.0]\n",
      "[datetime.datetime(2016, 4, 24, 1, 0), 7275476.0]\n",
      "[datetime.datetime(2016, 4, 24, 5, 0), 7275495.0]\n",
      "[datetime.datetime(2016, 4, 24, 9, 0), 7275610.0]\n",
      "[datetime.datetime(2016, 4, 24, 13, 0), 7275736.0]\n"
     ]
    }
   ],
   "source": [
    "dt_mapper = lambda d,t: dtparser.parse(' '.join([d,t]))\n",
    "\n",
    "timeseries = dict([(key, [[dt_mapper(x[2],x[3]), float(x[5])] \n",
    "                          for x in val]) \n",
    "                   for key,val in data.iteritems() ])\n",
    "\n",
    "\n",
    "key = timeseries.keys()[0]\n",
    "print(key)\n",
    "for i in range(10):\n",
    "    print(timeseries[key][i])"
   ]
  },
  {
   "cell_type": "markdown",
   "metadata": {},
   "source": [
    "### With Pandas"
   ]
  },
  {
   "cell_type": "code",
   "execution_count": 99,
   "metadata": {
    "ExecuteTime": {
     "end_time": "2016-07-13T06:56:49.970636",
     "start_time": "2016-07-13T06:52:44.489351"
    },
    "collapsed": false
   },
   "outputs": [
    {
     "name": "stderr",
     "output_type": "stream",
     "text": [
      "/Volumes/Files/miniconda/envs/scienv2/lib/python2.7/site-packages/ipykernel/__main__.py:2: SettingWithCopyWarning: \n",
      "A value is trying to be set on a copy of a slice from a DataFrame.\n",
      "Try using .loc[row_indexer,col_indexer] = value instead\n",
      "\n",
      "See the caveats in the documentation: http://pandas.pydata.org/pandas-docs/stable/indexing.html#indexing-view-versus-copy\n",
      "  from ipykernel import kernelapp as app\n",
      "/Volumes/Files/miniconda/envs/scienv2/lib/python2.7/site-packages/ipykernel/__main__.py:3: SettingWithCopyWarning: \n",
      "A value is trying to be set on a copy of a slice from a DataFrame.\n",
      "Try using .loc[row_indexer,col_indexer] = value instead\n",
      "\n",
      "See the caveats in the documentation: http://pandas.pydata.org/pandas-docs/stable/indexing.html#indexing-view-versus-copy\n",
      "  app.launch_new_instance()\n"
     ]
    }
   ],
   "source": [
    "pd_timeseries = pd_data[['ENTRIES', 'DATE', 'TIME']]\n",
    "pd_timeseries['DATE_TIME'] = pd_timeseries[['DATE', 'TIME']].apply(lambda x: ' '.join(x), axis=1)\n",
    "pd_timeseries['DATE_TIME'] = pd.to_datetime(pd_timeseries.DATE_TIME, format='%m/%d/%Y %X')"
   ]
  },
  {
   "cell_type": "code",
   "execution_count": 100,
   "metadata": {
    "ExecuteTime": {
     "end_time": "2016-07-13T06:57:04.314934",
     "start_time": "2016-07-13T06:56:49.973760"
    },
    "collapsed": false
   },
   "outputs": [
    {
     "name": "stdout",
     "output_type": "stream",
     "text": [
      "('N134', 'R385', '00-00-00', 'ROCKAWAY BLVD')\n",
      "[ [7274654, '04/23/2016', '01:00:00', Timestamp('2016-04-23 01:00:00')],\n",
      "  [7274671, '04/23/2016', '05:00:00', Timestamp('2016-04-23 05:00:00')],\n",
      "  [7274816, '04/23/2016', '09:00:00', Timestamp('2016-04-23 09:00:00')],\n",
      "  [7275004, '04/23/2016', '13:00:00', Timestamp('2016-04-23 13:00:00')],\n",
      "  [7275199, '04/23/2016', '17:00:00', Timestamp('2016-04-23 17:00:00')],\n",
      "  [7275362, '04/23/2016', '21:00:00', Timestamp('2016-04-23 21:00:00')],\n",
      "  [7275476, '04/24/2016', '01:00:00', Timestamp('2016-04-24 01:00:00')],\n",
      "  [7275495, '04/24/2016', '05:00:00', Timestamp('2016-04-24 05:00:00')],\n",
      "  [7275610, '04/24/2016', '09:00:00', Timestamp('2016-04-24 09:00:00')],\n",
      "  [7275736, '04/24/2016', '13:00:00', Timestamp('2016-04-24 13:00:00')]]\n"
     ]
    }
   ],
   "source": [
    "pd_timeseries_dict = dataframe_to_dict(pd_timeseries)\n",
    "\n",
    "key = pd_timeseries_dict.keys()[0]\n",
    "pp.pprint(key)\n",
    "pp.pprint(pd_timeseries_dict[key][:10])"
   ]
  },
  {
   "cell_type": "markdown",
   "metadata": {},
   "source": [
    "## Question 3\n",
    "\n",
    "### Answer to Question\n",
    "\n",
    "Most counts were acquired every four hours, so we must dowsample to daily.\n",
    "\n",
    "### Without Pandas"
   ]
  },
  {
   "cell_type": "code",
   "execution_count": 101,
   "metadata": {
    "ExecuteTime": {
     "end_time": "2016-07-13T06:57:12.429698",
     "start_time": "2016-07-13T06:57:04.317198"
    },
    "collapsed": false
   },
   "outputs": [],
   "source": [
    "threshold = 5000\n",
    "timedelta = dict()\n",
    "\n",
    "for key in timeseries.iterkeys():\n",
    "\n",
    "    timedelta[key] = []\n",
    "    assert timeseries[key] == sorted(timeseries[key], key=lambda x: x[0])\n",
    "    \n",
    "    date_entries = dict()\n",
    "    \n",
    "    for row in range(0, len(timeseries[key])-1):\n",
    "        \n",
    "        date = timeseries[key][row][0].date()\n",
    "        if not (date in date_entries.keys()):\n",
    "            date_entries[date] = 0.\n",
    "            \n",
    "        # Calculate entries difference\n",
    "        ed = int(timeseries[key][row+1][1] - timeseries[key][row][1])\n",
    "        \n",
    "        if (ed >= 0) & (ed <= threshold):\n",
    "            date_entries[date] += ed\n",
    "            \n",
    "    timedelta[key].append([list(x) for x in sorted(date_entries.items())])"
   ]
  },
  {
   "cell_type": "code",
   "execution_count": 102,
   "metadata": {
    "ExecuteTime": {
     "end_time": "2016-07-13T06:57:12.442421",
     "start_time": "2016-07-13T06:57:12.432924"
    },
    "collapsed": false
   },
   "outputs": [
    {
     "name": "stdout",
     "output_type": "stream",
     "text": [
      "('N134', 'R385', '00-00-00', 'ROCKAWAY BLVD')\n",
      "[ [datetime.date(2016, 4, 23), 822.0],\n",
      "  [datetime.date(2016, 4, 24), 637.0],\n",
      "  [datetime.date(2016, 4, 25), 1276.0],\n",
      "  [datetime.date(2016, 4, 26), 1289.0],\n",
      "  [datetime.date(2016, 4, 27), 1364.0],\n",
      "  [datetime.date(2016, 4, 28), 1317.0],\n",
      "  [datetime.date(2016, 4, 29), 1294.0],\n",
      "  [datetime.date(2016, 4, 30), 799.0],\n",
      "  [datetime.date(2016, 5, 1), 562.0],\n",
      "  [datetime.date(2016, 5, 2), 1530.0]]\n"
     ]
    }
   ],
   "source": [
    "key = timedelta.keys()[0]\n",
    "print(key)\n",
    "for i in range(1):\n",
    "    pp.pprint(timedelta[key][i][:10])"
   ]
  },
  {
   "cell_type": "markdown",
   "metadata": {},
   "source": [
    "### With Pandas"
   ]
  },
  {
   "cell_type": "code",
   "execution_count": 103,
   "metadata": {
    "ExecuteTime": {
     "end_time": "2016-07-13T07:04:08.811501",
     "start_time": "2016-07-13T06:57:12.445586"
    },
    "collapsed": false
   },
   "outputs": [
    {
     "data": {
      "text/html": [
       "<div>\n",
       "<table border=\"1\" class=\"dataframe\">\n",
       "  <thead>\n",
       "    <tr style=\"text-align: right;\">\n",
       "      <th></th>\n",
       "      <th></th>\n",
       "      <th></th>\n",
       "      <th></th>\n",
       "      <th>DATE</th>\n",
       "      <th>ENTRIES</th>\n",
       "    </tr>\n",
       "    <tr>\n",
       "      <th>C/A</th>\n",
       "      <th>UNIT</th>\n",
       "      <th>SCP</th>\n",
       "      <th>STATION</th>\n",
       "      <th></th>\n",
       "      <th></th>\n",
       "    </tr>\n",
       "  </thead>\n",
       "  <tbody>\n",
       "    <tr>\n",
       "      <th rowspan=\"10\" valign=\"top\">A002</th>\n",
       "      <th rowspan=\"10\" valign=\"top\">R051</th>\n",
       "      <th rowspan=\"10\" valign=\"top\">02-00-00</th>\n",
       "      <th>59 ST</th>\n",
       "      <td>04/23/2016</td>\n",
       "      <td>807</td>\n",
       "    </tr>\n",
       "    <tr>\n",
       "      <th>59 ST</th>\n",
       "      <td>04/24/2016</td>\n",
       "      <td>574</td>\n",
       "    </tr>\n",
       "    <tr>\n",
       "      <th>59 ST</th>\n",
       "      <td>04/25/2016</td>\n",
       "      <td>1687</td>\n",
       "    </tr>\n",
       "    <tr>\n",
       "      <th>59 ST</th>\n",
       "      <td>04/26/2016</td>\n",
       "      <td>1313</td>\n",
       "    </tr>\n",
       "    <tr>\n",
       "      <th>59 ST</th>\n",
       "      <td>04/27/2016</td>\n",
       "      <td>1302</td>\n",
       "    </tr>\n",
       "    <tr>\n",
       "      <th>59 ST</th>\n",
       "      <td>04/28/2016</td>\n",
       "      <td>1272</td>\n",
       "    </tr>\n",
       "    <tr>\n",
       "      <th>59 ST</th>\n",
       "      <td>04/29/2016</td>\n",
       "      <td>1276</td>\n",
       "    </tr>\n",
       "    <tr>\n",
       "      <th>59 ST</th>\n",
       "      <td>04/30/2016</td>\n",
       "      <td>861</td>\n",
       "    </tr>\n",
       "    <tr>\n",
       "      <th>59 ST</th>\n",
       "      <td>05/01/2016</td>\n",
       "      <td>623</td>\n",
       "    </tr>\n",
       "    <tr>\n",
       "      <th>59 ST</th>\n",
       "      <td>05/02/2016</td>\n",
       "      <td>1463</td>\n",
       "    </tr>\n",
       "  </tbody>\n",
       "</table>\n",
       "</div>"
      ],
      "text/plain": [
       "                                  DATE  ENTRIES\n",
       "C/A  UNIT SCP      STATION                     \n",
       "A002 R051 02-00-00 59 ST    04/23/2016      807\n",
       "                   59 ST    04/24/2016      574\n",
       "                   59 ST    04/25/2016     1687\n",
       "                   59 ST    04/26/2016     1313\n",
       "                   59 ST    04/27/2016     1302\n",
       "                   59 ST    04/28/2016     1272\n",
       "                   59 ST    04/29/2016     1276\n",
       "                   59 ST    04/30/2016      861\n",
       "                   59 ST    05/01/2016      623\n",
       "                   59 ST    05/02/2016     1463"
      ]
     },
     "execution_count": 103,
     "metadata": {},
     "output_type": "execute_result"
    }
   ],
   "source": [
    "def difference_mapper(df):\n",
    "    \n",
    "    \"\"\"Calculates differential entries and times.\n",
    "       Returns a dataframe.\"\"\"\n",
    "    \n",
    "    # Ensure these are sorted by date/time\n",
    "    df = df.sort_values('DATE_TIME')\n",
    "    \n",
    "    # Calculate entry/time difference values and ensure none are zero/negative\n",
    "    df['ENTRIES']      = df.ENTRIES.shift(-1) - df.ENTRIES\n",
    "    \n",
    "    #df['TIME_DELTA']   = df.DATE_TIME.shift(-1) - df.DATE_TIME\n",
    "    #mask = (df.TIME_DELTA.dt.total_seconds() <= 0.)\n",
    "    #df.loc[mask, 'TIME_DELTA'] = dt.timedelta(seconds=1)\n",
    "    \n",
    "    return df.ENTRIES.sum()\n",
    "\n",
    "\n",
    "idx_cols = ['C/A', 'UNIT', 'SCP', 'STATION', 'DATE']\n",
    "\n",
    "pd_timeseries = ( pd_timeseries\n",
    "                  .reset_index()\n",
    "                  .groupby(idx_cols, group_keys=False)\n",
    "                  .apply(difference_mapper)\n",
    "                  .dropna()\n",
    "                  .reset_index(level=-1)\n",
    "                  .rename(columns={0:'ENTRIES'})\n",
    "                )\n",
    "\n",
    "\n",
    "\n",
    "pd_timeseries['ENTRIES'] = pd_timeseries.ENTRIES.astype(int)\n",
    "\n",
    "mask = (pd_timeseries.ENTRIES >= 0) & (pd_timeseries.ENTRIES <= threshold)\n",
    "pd_timeseries = pd_timeseries[mask]\n",
    "\n",
    "pd_timeseries.head(n=10)"
   ]
  },
  {
   "cell_type": "markdown",
   "metadata": {},
   "source": [
    "**NOTE**: the dataframe and dictionary above are sorted differently.\n",
    "\n",
    "## Question 4\n",
    "\n",
    "The remaining questions were performed on Pandas data."
   ]
  },
  {
   "cell_type": "code",
   "execution_count": 105,
   "metadata": {
    "ExecuteTime": {
     "end_time": "2016-07-13T07:04:32.815408",
     "start_time": "2016-07-13T07:04:32.417494"
    },
    "collapsed": false
   },
   "outputs": [
    {
     "data": {
      "image/png": "[encoded data removed]",
      "text/plain": [
       "<matplotlib.figure.Figure at 0x15fe18150>"
      ]
     },
     "metadata": {},
     "output_type": "display_data"
    }
   ],
   "source": [
    "def fix_xlim(ax, nudge=0.5):\n",
    "    xlim = ax.get_xlim()\n",
    "    ax.set_xlim(xlim[0]-nudge, xlim[1]+nudge)\n",
    "    return\n",
    "\n",
    "def scale_ticklabels(x, p):\n",
    "    return \"%.1f\" % (x / (10 ** scale_pow))\n",
    "\n",
    "pos = pd_timeseries.index[0]\n",
    "ax = pd_timeseries.loc[pos].plot('DATE', 'ENTRIES',\n",
    "                                 kind='line', marker='o', ls='-',\n",
    "                                 figsize=(12,5), legend=False)\n",
    "\n",
    "fix_xlim(ax)\n",
    "ax.set_xlabel('Date')\n",
    "\n",
    "scale_pow = 3\n",
    "ax.get_yaxis().set_major_formatter(FuncFormatter(scale_ticklabels))\n",
    "ax.set_ylabel('Entries (Thousands)')\n",
    "\n",
    "ax.set_title('Entries for Turnstile: ' + ' '.join(pos))\n",
    "plt.xticks(rotation=30, ha='right')\n",
    "\n",
    "plt.tight_layout()\n",
    "sns.despine()"
   ]
  },
  {
   "cell_type": "markdown",
   "metadata": {},
   "source": [
    "## Question 5\n",
    "\n",
    "Rollup data by control area and date."
   ]
  },
  {
   "cell_type": "code",
   "execution_count": 117,
   "metadata": {
    "ExecuteTime": {
     "end_time": "2016-07-03T06:23:37.318922",
     "start_time": "2016-07-03T06:23:30.328783"
    },
    "collapsed": false
   },
   "outputs": [
    {
     "data": {
      "text/html": [
       "<div>\n",
       "<table border=\"1\" class=\"dataframe\">\n",
       "  <thead>\n",
       "    <tr style=\"text-align: right;\">\n",
       "      <th></th>\n",
       "      <th></th>\n",
       "      <th></th>\n",
       "      <th>DATE</th>\n",
       "      <th>ENTRIES</th>\n",
       "    </tr>\n",
       "    <tr>\n",
       "      <th>C/A</th>\n",
       "      <th>UNIT</th>\n",
       "      <th>STATION</th>\n",
       "      <th></th>\n",
       "      <th></th>\n",
       "    </tr>\n",
       "  </thead>\n",
       "  <tbody>\n",
       "    <tr>\n",
       "      <th rowspan=\"10\" valign=\"top\">A002</th>\n",
       "      <th rowspan=\"10\" valign=\"top\">R051</th>\n",
       "      <th>59 ST</th>\n",
       "      <td>2016-04-23</td>\n",
       "      <td>10394</td>\n",
       "    </tr>\n",
       "    <tr>\n",
       "      <th>59 ST</th>\n",
       "      <td>2016-04-24</td>\n",
       "      <td>8570</td>\n",
       "    </tr>\n",
       "    <tr>\n",
       "      <th>59 ST</th>\n",
       "      <td>2016-04-25</td>\n",
       "      <td>16618</td>\n",
       "    </tr>\n",
       "    <tr>\n",
       "      <th>59 ST</th>\n",
       "      <td>2016-04-26</td>\n",
       "      <td>16889</td>\n",
       "    </tr>\n",
       "    <tr>\n",
       "      <th>59 ST</th>\n",
       "      <td>2016-04-27</td>\n",
       "      <td>17277</td>\n",
       "    </tr>\n",
       "    <tr>\n",
       "      <th>59 ST</th>\n",
       "      <td>2016-04-28</td>\n",
       "      <td>17297</td>\n",
       "    </tr>\n",
       "    <tr>\n",
       "      <th>59 ST</th>\n",
       "      <td>2016-04-29</td>\n",
       "      <td>16598</td>\n",
       "    </tr>\n",
       "    <tr>\n",
       "      <th>59 ST</th>\n",
       "      <td>2016-04-30</td>\n",
       "      <td>11818</td>\n",
       "    </tr>\n",
       "    <tr>\n",
       "      <th>59 ST</th>\n",
       "      <td>2016-05-01</td>\n",
       "      <td>8733</td>\n",
       "    </tr>\n",
       "    <tr>\n",
       "      <th>59 ST</th>\n",
       "      <td>2016-05-02</td>\n",
       "      <td>17040</td>\n",
       "    </tr>\n",
       "  </tbody>\n",
       "</table>\n",
       "</div>"
      ],
      "text/plain": [
       "                         DATE  ENTRIES\n",
       "C/A  UNIT STATION                     \n",
       "A002 R051 59 ST    2016-04-23    10394\n",
       "          59 ST    2016-04-24     8570\n",
       "          59 ST    2016-04-25    16618\n",
       "          59 ST    2016-04-26    16889\n",
       "          59 ST    2016-04-27    17277\n",
       "          59 ST    2016-04-28    17297\n",
       "          59 ST    2016-04-29    16598\n",
       "          59 ST    2016-04-30    11818\n",
       "          59 ST    2016-05-01     8733\n",
       "          59 ST    2016-05-02    17040"
      ]
     },
     "execution_count": 117,
     "metadata": {},
     "output_type": "execute_result"
    }
   ],
   "source": [
    "pd_timeseries['DATE'] = pd_timeseries.DATE_TIME.dt.date\n",
    "\n",
    "pd_timeseries_by_ca = ( pd_timeseries\n",
    "                        .reset_index()\n",
    "                        [['C/A', 'UNIT', 'STATION', 'DATE', 'ENTRIES']]\n",
    "                        .groupby(['C/A', 'UNIT', 'STATION', 'DATE'])\n",
    "                        .sum()\n",
    "                        .reset_index(level=-1)\n",
    "                       )\n",
    "\n",
    "pd_timeseries_by_ca.head(n=10)"
   ]
  },
  {
   "cell_type": "markdown",
   "metadata": {},
   "source": [
    "## Question 6\n",
    "\n",
    "Rollup data by station and date."
   ]
  },
  {
   "cell_type": "code",
   "execution_count": 118,
   "metadata": {
    "ExecuteTime": {
     "end_time": "2016-07-03T06:23:38.228211",
     "start_time": "2016-07-03T06:23:37.321042"
    },
    "collapsed": false
   },
   "outputs": [
    {
     "data": {
      "text/html": [
       "<div>\n",
       "<table border=\"1\" class=\"dataframe\">\n",
       "  <thead>\n",
       "    <tr style=\"text-align: right;\">\n",
       "      <th></th>\n",
       "      <th>DATE</th>\n",
       "      <th>ENTRIES</th>\n",
       "    </tr>\n",
       "    <tr>\n",
       "      <th>STATION</th>\n",
       "      <th></th>\n",
       "      <th></th>\n",
       "    </tr>\n",
       "  </thead>\n",
       "  <tbody>\n",
       "    <tr>\n",
       "      <th>1 AV</th>\n",
       "      <td>2016-04-23</td>\n",
       "      <td>19441</td>\n",
       "    </tr>\n",
       "    <tr>\n",
       "      <th>1 AV</th>\n",
       "      <td>2016-04-24</td>\n",
       "      <td>15811</td>\n",
       "    </tr>\n",
       "    <tr>\n",
       "      <th>1 AV</th>\n",
       "      <td>2016-04-25</td>\n",
       "      <td>20761</td>\n",
       "    </tr>\n",
       "    <tr>\n",
       "      <th>1 AV</th>\n",
       "      <td>2016-04-26</td>\n",
       "      <td>21686</td>\n",
       "    </tr>\n",
       "    <tr>\n",
       "      <th>1 AV</th>\n",
       "      <td>2016-04-27</td>\n",
       "      <td>22780</td>\n",
       "    </tr>\n",
       "    <tr>\n",
       "      <th>1 AV</th>\n",
       "      <td>2016-04-28</td>\n",
       "      <td>22558</td>\n",
       "    </tr>\n",
       "    <tr>\n",
       "      <th>1 AV</th>\n",
       "      <td>2016-04-29</td>\n",
       "      <td>23315</td>\n",
       "    </tr>\n",
       "    <tr>\n",
       "      <th>1 AV</th>\n",
       "      <td>2016-04-30</td>\n",
       "      <td>20367</td>\n",
       "    </tr>\n",
       "    <tr>\n",
       "      <th>1 AV</th>\n",
       "      <td>2016-05-01</td>\n",
       "      <td>14605</td>\n",
       "    </tr>\n",
       "    <tr>\n",
       "      <th>1 AV</th>\n",
       "      <td>2016-05-02</td>\n",
       "      <td>23522</td>\n",
       "    </tr>\n",
       "  </tbody>\n",
       "</table>\n",
       "</div>"
      ],
      "text/plain": [
       "               DATE  ENTRIES\n",
       "STATION                     \n",
       "1 AV     2016-04-23    19441\n",
       "1 AV     2016-04-24    15811\n",
       "1 AV     2016-04-25    20761\n",
       "1 AV     2016-04-26    21686\n",
       "1 AV     2016-04-27    22780\n",
       "1 AV     2016-04-28    22558\n",
       "1 AV     2016-04-29    23315\n",
       "1 AV     2016-04-30    20367\n",
       "1 AV     2016-05-01    14605\n",
       "1 AV     2016-05-02    23522"
      ]
     },
     "execution_count": 118,
     "metadata": {},
     "output_type": "execute_result"
    }
   ],
   "source": [
    "pd_timeseries_by_station_date = ( pd_timeseries\n",
    "                            .reset_index()\n",
    "                            [['STATION', 'DATE', 'ENTRIES']]\n",
    "                            .groupby(['STATION', 'DATE'])\n",
    "                            .sum()\n",
    "                            .reset_index(level=-1)\n",
    "                           )\n",
    "\n",
    "pd_timeseries_by_station_date.head(n=10)"
   ]
  },
  {
   "cell_type": "markdown",
   "metadata": {},
   "source": [
    "## Question 7"
   ]
  },
  {
   "cell_type": "code",
   "execution_count": 140,
   "metadata": {
    "ExecuteTime": {
     "end_time": "2016-07-03T06:31:05.280625",
     "start_time": "2016-07-03T06:31:04.896533"
    },
    "collapsed": false
   },
   "outputs": [
    {
     "data": {
      "image/png": "[encoded data removed]",
      "text/plain": [
       "<matplotlib.figure.Figure at 0x197d7ce90>"
      ]
     },
     "metadata": {},
     "output_type": "display_data"
    }
   ],
   "source": [
    "pos = pd_timeseries_by_station_date.index[0]\n",
    "ax = pd_timeseries_by_station_date.loc[pos].plot('DATE', 'ENTRIES',\n",
    "                                            kind='line',\n",
    "                                            marker='o', ls='-',\n",
    "                                            figsize=(10,5), legend=False)\n",
    "\n",
    "fix_xlim(ax)\n",
    "ax.set_xlabel('Date')\n",
    "\n",
    "ax.set_ylim(0, ax.get_ylim()[1])\n",
    "scale_pow = 3\n",
    "ax.get_yaxis().set_major_formatter(FuncFormatter(scale_ticklabels))\n",
    "ax.set_ylabel('Entries (Thousands)')\n",
    "\n",
    "ax.set_title('Entries for Station: ' + pos)\n",
    "plt.xticks(rotation=30, ha='right')\n",
    "\n",
    "plt.tight_layout()\n",
    "sns.despine()"
   ]
  },
  {
   "cell_type": "markdown",
   "metadata": {},
   "source": [
    "## Question 8\n",
    "\n",
    "Rollup data for a single station by day of week."
   ]
  },
  {
   "cell_type": "code",
   "execution_count": 120,
   "metadata": {
    "ExecuteTime": {
     "end_time": "2016-07-03T06:23:39.229679",
     "start_time": "2016-07-03T06:23:38.737414"
    },
    "collapsed": false
   },
   "outputs": [
    {
     "data": {
      "text/html": [
       "<div>\n",
       "<table border=\"1\" class=\"dataframe\">\n",
       "  <thead>\n",
       "    <tr style=\"text-align: right;\">\n",
       "      <th></th>\n",
       "      <th></th>\n",
       "      <th>DATE</th>\n",
       "      <th>ENTRIES</th>\n",
       "    </tr>\n",
       "    <tr>\n",
       "      <th>WEEK</th>\n",
       "      <th>DAY</th>\n",
       "      <th></th>\n",
       "      <th></th>\n",
       "    </tr>\n",
       "  </thead>\n",
       "  <tbody>\n",
       "    <tr>\n",
       "      <th rowspan=\"2\" valign=\"top\">16</th>\n",
       "      <th>5</th>\n",
       "      <td>2016-04-23</td>\n",
       "      <td>46266</td>\n",
       "    </tr>\n",
       "    <tr>\n",
       "      <th>6</th>\n",
       "      <td>2016-04-24</td>\n",
       "      <td>37759</td>\n",
       "    </tr>\n",
       "    <tr>\n",
       "      <th rowspan=\"7\" valign=\"top\">17</th>\n",
       "      <th>0</th>\n",
       "      <td>2016-04-25</td>\n",
       "      <td>75790</td>\n",
       "    </tr>\n",
       "    <tr>\n",
       "      <th>1</th>\n",
       "      <td>2016-04-26</td>\n",
       "      <td>77998</td>\n",
       "    </tr>\n",
       "    <tr>\n",
       "      <th>2</th>\n",
       "      <td>2016-04-27</td>\n",
       "      <td>80195</td>\n",
       "    </tr>\n",
       "    <tr>\n",
       "      <th>3</th>\n",
       "      <td>2016-04-28</td>\n",
       "      <td>79116</td>\n",
       "    </tr>\n",
       "    <tr>\n",
       "      <th>4</th>\n",
       "      <td>2016-04-29</td>\n",
       "      <td>74877</td>\n",
       "    </tr>\n",
       "    <tr>\n",
       "      <th>5</th>\n",
       "      <td>2016-04-30</td>\n",
       "      <td>49007</td>\n",
       "    </tr>\n",
       "    <tr>\n",
       "      <th>6</th>\n",
       "      <td>2016-05-01</td>\n",
       "      <td>33343</td>\n",
       "    </tr>\n",
       "    <tr>\n",
       "      <th>18</th>\n",
       "      <th>0</th>\n",
       "      <td>2016-05-02</td>\n",
       "      <td>79519</td>\n",
       "    </tr>\n",
       "  </tbody>\n",
       "</table>\n",
       "</div>"
      ],
      "text/plain": [
       "                DATE  ENTRIES\n",
       "WEEK DAY                     \n",
       "16   5    2016-04-23    46266\n",
       "     6    2016-04-24    37759\n",
       "17   0    2016-04-25    75790\n",
       "     1    2016-04-26    77998\n",
       "     2    2016-04-27    80195\n",
       "     3    2016-04-28    79116\n",
       "     4    2016-04-29    74877\n",
       "     5    2016-04-30    49007\n",
       "     6    2016-05-01    33343\n",
       "18   0    2016-05-02    79519"
      ]
     },
     "execution_count": 120,
     "metadata": {},
     "output_type": "execute_result"
    }
   ],
   "source": [
    "pd_timeseries['DAY'] = pd_timeseries.DATE_TIME.dt.dayofweek\n",
    "pd_timeseries['WEEK'] = pd_timeseries.DATE_TIME.dt.weekofyear\n",
    "\n",
    "pd_timeseries_59th_by_day =    ( pd_timeseries\n",
    "                                .reset_index(level=[0,1,2], drop=True)\n",
    "                                .query('STATION==\"59 ST\"')\n",
    "                                [['WEEK', 'DAY', 'DATE', 'ENTRIES']]\n",
    "                                .groupby(['WEEK', 'DAY'])\n",
    "                                .agg({'DATE':min, 'ENTRIES':sum})\n",
    "                                )\n",
    "\n",
    "pd_timeseries_59th_by_day.head(n=10)"
   ]
  },
  {
   "cell_type": "code",
   "execution_count": 143,
   "metadata": {
    "ExecuteTime": {
     "end_time": "2016-07-03T06:32:00.427751",
     "start_time": "2016-07-03T06:31:59.734497"
    },
    "collapsed": false
   },
   "outputs": [
    {
     "data": {
      "image/png": "[encoded data removed]",
      "text/plain": [
       "<matplotlib.figure.Figure at 0x1a0215a10>"
      ]
     },
     "metadata": {},
     "output_type": "display_data"
    }
   ],
   "source": [
    "fig = plt.figure()\n",
    "fig.set_size_inches(10,5)\n",
    "ax = plt.axes()\n",
    "\n",
    "_  = ( pd_timeseries_59th_by_day\n",
    "      .reset_index(level=-1)\n",
    "      .groupby(level=0)\n",
    "      .plot('DAY', 'ENTRIES', \n",
    "            kind='line', marker='o', ls='-', \n",
    "            label='DATE', ax=ax)\n",
    "      )\n",
    "\n",
    "fix_xlim(ax, 0.2)\n",
    "ax.set_xlabel('Day of Week')\n",
    "\n",
    "ax.set_ylim(0, ax.get_ylim()[1])\n",
    "scale_pow = 3\n",
    "ax.get_yaxis().set_major_formatter(FuncFormatter(scale_ticklabels))\n",
    "ax.set_ylabel('Entries (Thousands)')\n",
    "\n",
    "ax.set_title('Entries by Week for 59th Street Station')\n",
    "ax.set_xticklabels(['Sun', 'Mon', 'Tue', 'Wed', 'Thu', 'Fri', 'Sat', 'Sun'])\n",
    "\n",
    "# Fix the legend dates\n",
    "\n",
    "# First week doesn't start on Sunday, must calculate that date\n",
    "def plot_week(x):\n",
    "    return x.min() - dt.timedelta(days=x.min().weekday())\n",
    "\n",
    "date_labels = ( pd_timeseries_59th_by_day\n",
    "               .reset_index()\n",
    "               [['WEEK','DATE']]\n",
    "               .groupby(['WEEK'])\n",
    "               .agg(plot_week)\n",
    "               .DATE\n",
    "               .values\n",
    "               )\n",
    "\n",
    "legend = ax.legend(bbox_to_anchor=(1.2, 0.9))\n",
    "_ = [x[1].set_text(date_labels[x[0]]) for x in enumerate(legend.get_texts())]\n",
    "\n",
    "plt.tight_layout()\n",
    "sns.despine()"
   ]
  },
  {
   "cell_type": "markdown",
   "metadata": {},
   "source": [
    "## Question 9"
   ]
  },
  {
   "cell_type": "code",
   "execution_count": 144,
   "metadata": {
    "ExecuteTime": {
     "end_time": "2016-07-03T06:32:04.991480",
     "start_time": "2016-07-03T06:32:04.286488"
    },
    "collapsed": false
   },
   "outputs": [
    {
     "data": {
      "text/html": [
       "<div>\n",
       "<table border=\"1\" class=\"dataframe\">\n",
       "  <thead>\n",
       "    <tr style=\"text-align: right;\">\n",
       "      <th></th>\n",
       "      <th>ENTRIES</th>\n",
       "    </tr>\n",
       "    <tr>\n",
       "      <th>STATION</th>\n",
       "      <th></th>\n",
       "    </tr>\n",
       "  </thead>\n",
       "  <tbody>\n",
       "    <tr>\n",
       "      <th>34 ST-PENN STA</th>\n",
       "      <td>9383171</td>\n",
       "    </tr>\n",
       "    <tr>\n",
       "      <th>GRD CNTRL-42 ST</th>\n",
       "      <td>8020275</td>\n",
       "    </tr>\n",
       "    <tr>\n",
       "      <th>34 ST-HERALD SQ</th>\n",
       "      <td>6715117</td>\n",
       "    </tr>\n",
       "    <tr>\n",
       "      <th>23 ST</th>\n",
       "      <td>6311575</td>\n",
       "    </tr>\n",
       "    <tr>\n",
       "      <th>86 ST</th>\n",
       "      <td>6159677</td>\n",
       "    </tr>\n",
       "    <tr>\n",
       "      <th>14 ST-UNION SQ</th>\n",
       "      <td>6082710</td>\n",
       "    </tr>\n",
       "    <tr>\n",
       "      <th>TIMES SQ-42 ST</th>\n",
       "      <td>5482283</td>\n",
       "    </tr>\n",
       "    <tr>\n",
       "      <th>42 ST-PORT AUTH</th>\n",
       "      <td>5272600</td>\n",
       "    </tr>\n",
       "    <tr>\n",
       "      <th>59 ST</th>\n",
       "      <td>4450915</td>\n",
       "    </tr>\n",
       "    <tr>\n",
       "      <th>FULTON ST</th>\n",
       "      <td>4411111</td>\n",
       "    </tr>\n",
       "  </tbody>\n",
       "</table>\n",
       "</div>"
      ],
      "text/plain": [
       "                 ENTRIES\n",
       "STATION                 \n",
       "34 ST-PENN STA   9383171\n",
       "GRD CNTRL-42 ST  8020275\n",
       "34 ST-HERALD SQ  6715117\n",
       "23 ST            6311575\n",
       "86 ST            6159677\n",
       "14 ST-UNION SQ   6082710\n",
       "TIMES SQ-42 ST   5482283\n",
       "42 ST-PORT AUTH  5272600\n",
       "59 ST            4450915\n",
       "FULTON ST        4411111"
      ]
     },
     "execution_count": 144,
     "metadata": {},
     "output_type": "execute_result"
    }
   ],
   "source": [
    "pd_timeseries_by_station = ( pd_timeseries\n",
    "                            .reset_index()\n",
    "                            [['STATION', 'ENTRIES']]\n",
    "                            .groupby('STATION')\n",
    "                            .sum()\n",
    "                            .sort_values('ENTRIES', ascending=False)\n",
    "                           )\n",
    "\n",
    "pd_timeseries_by_station.head(n=10)"
   ]
  },
  {
   "cell_type": "markdown",
   "metadata": {},
   "source": [
    "## Question 10"
   ]
  },
  {
   "cell_type": "code",
   "execution_count": 152,
   "metadata": {
    "ExecuteTime": {
     "end_time": "2016-07-03T06:35:16.530857",
     "start_time": "2016-07-03T06:35:15.777986"
    },
    "collapsed": false
   },
   "outputs": [
    {
     "data": {
      "image/png": "[encoded data removed]",
      "text/plain": [
       "<matplotlib.figure.Figure at 0x19fd57610>"
      ]
     },
     "metadata": {},
     "output_type": "display_data"
    }
   ],
   "source": [
    "ax = pd_timeseries_by_station.ENTRIES.hist(bins=50, figsize=(7,5), alpha=0.7)\n",
    "\n",
    "min_date = pd_timeseries.DATE.min()\n",
    "max_date = pd_timeseries.DATE.max()\n",
    "\n",
    "ax.grid('off')\n",
    "\n",
    "fix_xlim(ax, 1e5)\n",
    "scale_pow = 6\n",
    "ax.get_xaxis().set_major_formatter(FuncFormatter(scale_ticklabels))\n",
    "ax.set_xlabel('Total Ridership (Millions)')\n",
    "\n",
    "ax.set_ylabel('Number of Stations')\n",
    "ax.set_title('Distribution of Ridership by Station \\nBetween {} and {}'\n",
    "             .format(min_date, max_date))\n",
    "\n",
    "plt.tight_layout()\n",
    "sns.despine()"
   ]
  },
  {
   "cell_type": "code",
   "execution_count": 150,
   "metadata": {
    "ExecuteTime": {
     "end_time": "2016-07-03T06:33:46.120895",
     "start_time": "2016-07-03T06:33:45.736118"
    },
    "collapsed": false
   },
   "outputs": [
    {
     "data": {
      "image/png": "[encoded data removed]",
      "text/plain": [
       "<matplotlib.figure.Figure at 0x1a4ca8dd0>"
      ]
     },
     "metadata": {},
     "output_type": "display_data"
    }
   ],
   "source": [
    "n_stations = 10\n",
    "\n",
    "ax = ( pd_timeseries_by_station\n",
    "       .head(n=n_stations)\n",
    "       .reset_index()\n",
    "       .plot('STATION', 'ENTRIES',\n",
    "             kind='bar', figsize=(7,6), \n",
    "             legend=False)\n",
    "      )\n",
    "\n",
    "ax.set_xlabel('Station')\n",
    "\n",
    "scale_pow = 6\n",
    "ax.get_yaxis().set_major_formatter(FuncFormatter(scale_ticklabels))\n",
    "ax.set_ylabel('Total Ridership (Millions)')\n",
    "\n",
    "ax.set_title('Top {} Stations by Ridership \\nBetween {} and {}'\n",
    "             .format(n_stations, min_date, max_date))\n",
    "plt.xticks(rotation=30, ha='right')\n",
    "\n",
    "ax.set_xticklabels(map(lambda x: x.get_text().title(), ax.get_xticklabels()))\n",
    "\n",
    "plt.tight_layout()\n",
    "sns.despine()"
   ]
  }
 ],
 "metadata": {
  "kernelspec": {
   "display_name": "Python 2",
   "language": "python",
   "name": "python2"
  },
  "language_info": {
   "codemirror_mode": {
    "name": "ipython",
    "version": 2
   },
   "file_extension": ".py",
   "mimetype": "text/x-python",
   "name": "python",
   "nbconvert_exporter": "python",
   "pygments_lexer": "ipython2",
   "version": "2.7.12"
  }
 },
 "nbformat": 4,
 "nbformat_minor": 0
}
