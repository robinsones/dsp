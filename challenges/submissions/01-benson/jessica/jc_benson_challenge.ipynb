{
 "cells": [
  {
   "cell_type": "markdown",
   "metadata": {},
   "source": [
    "|Challenge Set 1|\n",
    "|---------------|\n",
    "|Topic: |Explore MTA turnstile data|\n",
    "|Date: |07/11/2017|\n",
    "|Name: |Jessica Cox|\n",
    "|Worked with: |Matt, Whitney|"
   ]
  },
  {
   "cell_type": "markdown",
   "metadata": {},
   "source": [
    "# challenge 1"
   ]
  },
  {
   "cell_type": "code",
   "execution_count": 8,
   "metadata": {
    "collapsed": false
   },
   "outputs": [],
   "source": [
    "from __future__ import division\n",
    "import csv\n",
    "from datetime import datetime\n",
    "from collections import Counter, defaultdict\n",
    "import operator "
   ]
  },
  {
   "cell_type": "code",
   "execution_count": 5,
   "metadata": {
    "collapsed": false
   },
   "outputs": [
    {
     "name": "stdout",
     "output_type": "stream",
     "text": [
      "  % Total    % Received % Xferd  Average Speed   Time    Time     Time  Current\n",
      "                                 Dload  Upload   Total   Spent    Left  Speed\n",
      "100 23.9M    0 23.9M    0     0  1132k      0 --:--:--  0:00:21 --:--:-- 1250k\n",
      "100 23.8M    0 23.8M    0     0  1157k      0 --:--:--  0:00:21 --:--:-- 1170k\n",
      "100 23.9M    0 23.9M    0     0  1145k      0 --:--:--  0:00:21 --:--:-- 1144k\n",
      "100 24.0M    0 24.0M    0     0  1172k      0 --:--:--  0:00:21 --:--:-- 1252k\n"
     ]
    }
   ],
   "source": [
    "#download multiple mta files from july 2015\n",
    "!curl -O http://web.mta.info/developers/data/nyct/turnstile/turnstile_150704.txt -O http://web.mta.info/developers/data/nyct/turnstile/turnstile_150711.txt -O http://web.mta.info/developers/data/nyct/turnstile/turnstile_150718.txt -O http://web.mta.info/developers/data/nyct/turnstile/turnstile_150725.txt "
   ]
  },
  {
   "cell_type": "code",
   "execution_count": 9,
   "metadata": {
    "collapsed": false
   },
   "outputs": [],
   "source": [
    "files = ['turnstile_150704.txt', \n",
    "         'turnstile_150711.txt', \n",
    "         'turnstile_150718.txt', \n",
    "         'turnstile_150725.txt']\n",
    "\n",
    "rows = []\n",
    "for filename in files:\n",
    "    with open(filename) as f:\n",
    "        next(f)\n",
    "        reader = csv.reader(f)\n",
    "        rows_temp = [[cell.strip() for cell in row] for row in reader]\n",
    "    rows.extend(rows_temp)\n",
    "    \n",
    "    \n",
    "raw_readings = {}\n",
    "for row in rows:\n",
    "    raw_readings.setdefault(tuple(row[:4]),[]).append(tuple(row[4:]))"
   ]
  },
  {
   "cell_type": "markdown",
   "metadata": {},
   "source": [
    "answer = raw_readings"
   ]
  },
  {
   "cell_type": "markdown",
   "metadata": {},
   "source": [
    "# challenge 2"
   ]
  },
  {
   "cell_type": "code",
   "execution_count": 10,
   "metadata": {
    "collapsed": true
   },
   "outputs": [],
   "source": [
    "datetime_cumulative = {turnstile: [(datetime.strptime(date + time,'%m/%d/%Y%X'), int(in_cumulative))\n",
    "                                   for _, _, date, time,\n",
    "                                       _, in_cumulative, _ in rows]\n",
    "                       for turnstile, rows in raw_readings.items()}"
   ]
  },
  {
   "cell_type": "code",
   "execution_count": 11,
   "metadata": {
    "collapsed": false
   },
   "outputs": [
    {
     "name": "stdout",
     "output_type": "stream",
     "text": [
      "[(datetime.datetime(2015, 6, 27, 0, 0), 9485639), (datetime.datetime(2015, 6, 27, 4, 0), 9485666), (datetime.datetime(2015, 6, 27, 8, 0), 9485706), (datetime.datetime(2015, 6, 27, 12, 0), 9485875), (datetime.datetime(2015, 6, 27, 16, 0), 9486091), (datetime.datetime(2015, 6, 27, 20, 0), 9486357), (datetime.datetime(2015, 6, 28, 0, 0), 9486589), (datetime.datetime(2015, 6, 28, 4, 0), 9486615), (datetime.datetime(2015, 6, 28, 8, 0), 9486643), (datetime.datetime(2015, 6, 28, 12, 0), 9486755), (datetime.datetime(2015, 6, 28, 16, 0), 9487004), (datetime.datetime(2015, 6, 28, 20, 0), 9487296), (datetime.datetime(2015, 6, 29, 0, 0), 9487575), (datetime.datetime(2015, 6, 29, 4, 0), 9487592), (datetime.datetime(2015, 6, 29, 8, 0), 9487962), (datetime.datetime(2015, 6, 29, 12, 0), 9488565), (datetime.datetime(2015, 6, 29, 16, 0), 9488852), (datetime.datetime(2015, 6, 29, 20, 0), 9489196), (datetime.datetime(2015, 6, 30, 0, 0), 9489327), (datetime.datetime(2015, 6, 30, 4, 0), 9489331), (datetime.datetime(2015, 6, 30, 8, 0), 9489737), (datetime.datetime(2015, 6, 30, 12, 0), 9490286), (datetime.datetime(2015, 6, 30, 16, 0), 9490496), (datetime.datetime(2015, 6, 30, 20, 0), 9490832), (datetime.datetime(2015, 7, 1, 0, 0), 9490985), (datetime.datetime(2015, 7, 1, 4, 0), 9490990), (datetime.datetime(2015, 7, 1, 8, 0), 9491395), (datetime.datetime(2015, 7, 1, 12, 0), 9492082), (datetime.datetime(2015, 7, 1, 16, 0), 9492368), (datetime.datetime(2015, 7, 1, 20, 0), 9492764), (datetime.datetime(2015, 7, 2, 0, 0), 9492906), (datetime.datetime(2015, 7, 2, 4, 0), 9492913), (datetime.datetime(2015, 7, 2, 8, 0), 9493230), (datetime.datetime(2015, 7, 2, 12, 0), 9493727), (datetime.datetime(2015, 7, 2, 16, 0), 9494006), (datetime.datetime(2015, 7, 2, 20, 0), 9494352), (datetime.datetime(2015, 7, 3, 0, 0), 9494580), (datetime.datetime(2015, 7, 3, 4, 0), 9494596), (datetime.datetime(2015, 7, 3, 8, 0), 9494670), (datetime.datetime(2015, 7, 3, 12, 0), 9494892), (datetime.datetime(2015, 7, 3, 16, 0), 9495147), (datetime.datetime(2015, 7, 3, 20, 0), 9495459), (datetime.datetime(2015, 7, 4, 0, 0), 9495691), (datetime.datetime(2015, 7, 4, 4, 0), 9495706), (datetime.datetime(2015, 7, 4, 8, 0), 9495741), (datetime.datetime(2015, 7, 4, 12, 0), 9495866), (datetime.datetime(2015, 7, 4, 16, 0), 9496046), (datetime.datetime(2015, 7, 4, 20, 0), 9496248), (datetime.datetime(2015, 7, 5, 0, 0), 9496421), (datetime.datetime(2015, 7, 5, 4, 0), 9496440), (datetime.datetime(2015, 7, 5, 8, 0), 9496478), (datetime.datetime(2015, 7, 5, 12, 0), 9496631), (datetime.datetime(2015, 7, 5, 16, 0), 9496880), (datetime.datetime(2015, 7, 5, 20, 0), 9497249), (datetime.datetime(2015, 7, 6, 0, 0), 9497688), (datetime.datetime(2015, 7, 6, 4, 0), 9497735), (datetime.datetime(2015, 7, 6, 8, 0), 9498129), (datetime.datetime(2015, 7, 6, 12, 0), 9498738), (datetime.datetime(2015, 7, 6, 16, 0), 9499017), (datetime.datetime(2015, 7, 6, 20, 0), 9499413), (datetime.datetime(2015, 7, 7, 0, 0), 9499607), (datetime.datetime(2015, 7, 7, 4, 0), 9499618), (datetime.datetime(2015, 7, 7, 8, 0), 9499976), (datetime.datetime(2015, 7, 7, 12, 0), 9500618), (datetime.datetime(2015, 7, 7, 16, 0), 9500886), (datetime.datetime(2015, 7, 7, 20, 0), 9501202), (datetime.datetime(2015, 7, 8, 0, 0), 9501364), (datetime.datetime(2015, 7, 8, 4, 0), 9501368), (datetime.datetime(2015, 7, 8, 8, 0), 9501704), (datetime.datetime(2015, 7, 8, 12, 0), 9502367), (datetime.datetime(2015, 7, 8, 16, 0), 9502603), (datetime.datetime(2015, 7, 8, 20, 0), 9502981), (datetime.datetime(2015, 7, 9, 0, 0), 9503126), (datetime.datetime(2015, 7, 9, 4, 0), 9503136), (datetime.datetime(2015, 7, 9, 8, 0), 9503492), (datetime.datetime(2015, 7, 9, 12, 0), 9504238), (datetime.datetime(2015, 7, 9, 16, 0), 9504498), (datetime.datetime(2015, 7, 9, 20, 0), 9504884), (datetime.datetime(2015, 7, 10, 0, 0), 9505095), (datetime.datetime(2015, 7, 10, 4, 0), 9505105), (datetime.datetime(2015, 7, 10, 8, 0), 9505413), (datetime.datetime(2015, 7, 10, 9, 32, 32), 9505823), (datetime.datetime(2015, 7, 10, 9, 43, 1), 9505851), (datetime.datetime(2015, 7, 10, 10, 58, 51), 9505953), (datetime.datetime(2015, 7, 10, 12, 0), 9506011), (datetime.datetime(2015, 7, 10, 16, 0), 9506317), (datetime.datetime(2015, 7, 10, 20, 0), 9506729), (datetime.datetime(2015, 7, 11, 0, 0), 9506996), (datetime.datetime(2015, 7, 11, 4, 0), 9507027), (datetime.datetime(2015, 7, 11, 8, 0), 9507073), (datetime.datetime(2015, 7, 11, 12, 0), 9507241), (datetime.datetime(2015, 7, 11, 16, 0), 9507474), (datetime.datetime(2015, 7, 11, 20, 0), 9507702), (datetime.datetime(2015, 7, 12, 0, 0), 9507911), (datetime.datetime(2015, 7, 12, 4, 0), 9507930), (datetime.datetime(2015, 7, 12, 8, 0), 9507968), (datetime.datetime(2015, 7, 12, 12, 0), 9508118), (datetime.datetime(2015, 7, 12, 16, 0), 9508380), (datetime.datetime(2015, 7, 12, 20, 0), 9508670), (datetime.datetime(2015, 7, 13, 0, 0), 9508978), (datetime.datetime(2015, 7, 13, 4, 0), 9508998), (datetime.datetime(2015, 7, 13, 8, 0), 9509357), (datetime.datetime(2015, 7, 13, 12, 0), 9509955), (datetime.datetime(2015, 7, 13, 16, 0), 9510229), (datetime.datetime(2015, 7, 13, 20, 0), 9510547), (datetime.datetime(2015, 7, 14, 0, 0), 9510681), (datetime.datetime(2015, 7, 14, 4, 0), 9510691), (datetime.datetime(2015, 7, 14, 8, 0), 9511110), (datetime.datetime(2015, 7, 14, 12, 0), 9511720), (datetime.datetime(2015, 7, 14, 16, 0), 9511959), (datetime.datetime(2015, 7, 14, 20, 0), 9512280), (datetime.datetime(2015, 7, 15, 0, 0), 9512443), (datetime.datetime(2015, 7, 15, 4, 0), 9512455), (datetime.datetime(2015, 7, 15, 8, 0), 9512815), (datetime.datetime(2015, 7, 15, 12, 0), 9513422), (datetime.datetime(2015, 7, 15, 16, 0), 9513645), (datetime.datetime(2015, 7, 15, 20, 0), 9514024), (datetime.datetime(2015, 7, 16, 0, 0), 9514161), (datetime.datetime(2015, 7, 16, 4, 0), 9514169), (datetime.datetime(2015, 7, 16, 8, 0), 9514508), (datetime.datetime(2015, 7, 16, 12, 0), 9515079), (datetime.datetime(2015, 7, 16, 16, 0), 9515336), (datetime.datetime(2015, 7, 16, 20, 0), 9515669), (datetime.datetime(2015, 7, 17, 0, 0), 9515854), (datetime.datetime(2015, 7, 17, 4, 0), 9515866), (datetime.datetime(2015, 7, 17, 8, 0), 9516168), (datetime.datetime(2015, 7, 17, 12, 0), 9516679), (datetime.datetime(2015, 7, 17, 16, 0), 9517005), (datetime.datetime(2015, 7, 17, 20, 0), 9517421), (datetime.datetime(2015, 7, 18, 0, 0), 9517655), (datetime.datetime(2015, 7, 18, 4, 0), 9517682), (datetime.datetime(2015, 7, 18, 8, 0), 9517725), (datetime.datetime(2015, 7, 18, 12, 0), 9517903), (datetime.datetime(2015, 7, 18, 16, 0), 9518122), (datetime.datetime(2015, 7, 18, 20, 0), 9518334), (datetime.datetime(2015, 7, 19, 0, 0), 9518536), (datetime.datetime(2015, 7, 19, 4, 0), 9518560), (datetime.datetime(2015, 7, 19, 8, 0), 9518585), (datetime.datetime(2015, 7, 19, 12, 0), 9518742), (datetime.datetime(2015, 7, 19, 16, 0), 9518991), (datetime.datetime(2015, 7, 19, 20, 0), 9519366), (datetime.datetime(2015, 7, 20, 0, 0), 9519698), (datetime.datetime(2015, 7, 20, 4, 0), 9519731), (datetime.datetime(2015, 7, 20, 8, 0), 9520102), (datetime.datetime(2015, 7, 20, 8, 20, 20), 9520219), (datetime.datetime(2015, 7, 20, 12, 0), 9520740), (datetime.datetime(2015, 7, 20, 16, 0), 9520997), (datetime.datetime(2015, 7, 20, 20, 0), 9521333), (datetime.datetime(2015, 7, 21, 0, 0), 9521553), (datetime.datetime(2015, 7, 21, 4, 0), 9521567), (datetime.datetime(2015, 7, 21, 8, 0), 9521928), (datetime.datetime(2015, 7, 21, 12, 0), 9522504), (datetime.datetime(2015, 7, 21, 16, 0), 9522732), (datetime.datetime(2015, 7, 21, 20, 0), 9523080), (datetime.datetime(2015, 7, 22, 0, 0), 9523253), (datetime.datetime(2015, 7, 22, 4, 0), 9523266), (datetime.datetime(2015, 7, 22, 8, 0), 9523570), (datetime.datetime(2015, 7, 22, 12, 0), 9524144), (datetime.datetime(2015, 7, 22, 16, 0), 9524395), (datetime.datetime(2015, 7, 22, 20, 0), 9524756), (datetime.datetime(2015, 7, 23, 0, 0), 9524909), (datetime.datetime(2015, 7, 23, 4, 0), 9524920), (datetime.datetime(2015, 7, 23, 7, 51, 20), 9525206), (datetime.datetime(2015, 7, 23, 8, 0), 9525265), (datetime.datetime(2015, 7, 23, 12, 0), 9525906), (datetime.datetime(2015, 7, 23, 16, 0), 9526175), (datetime.datetime(2015, 7, 23, 20, 0), 9526555), (datetime.datetime(2015, 7, 24, 0, 0), 9526743), (datetime.datetime(2015, 7, 24, 4, 0), 9526755), (datetime.datetime(2015, 7, 24, 8, 0), 9527044), (datetime.datetime(2015, 7, 24, 12, 0), 9527584), (datetime.datetime(2015, 7, 24, 16, 0), 9527856), (datetime.datetime(2015, 7, 24, 20, 0), 9528239)]\n"
     ]
    }
   ],
   "source": [
    "print(datetime_cumulative['N062', 'R011', '01-03-00', '42 ST-PA BUS TE'])\n"
   ]
  },
  {
   "cell_type": "code",
   "execution_count": 10,
   "metadata": {
    "collapsed": false
   },
   "outputs": [],
   "source": [
    "for rows in datetime_cumulative.values():\n",
    "    assert rows == sorted(rows)"
   ]
  },
  {
   "cell_type": "code",
   "execution_count": 12,
   "metadata": {
    "collapsed": false
   },
   "outputs": [],
   "source": [
    "datetime_count_times = {turnstile: [[rows[i][0],\n",
    "                                     rows[i+1][1] - rows[i][1],\n",
    "                                     rows[i+1][0] - rows[i][0]]\n",
    "                                    for i in range(len(rows) - 1)]\n",
    "                        for turnstile, rows in datetime_cumulative.items()}"
   ]
  },
  {
   "cell_type": "code",
   "execution_count": 13,
   "metadata": {
    "collapsed": false
   },
   "outputs": [
    {
     "name": "stdout",
     "output_type": "stream",
     "text": [
      "[2428, 2443, 2444, 2447, 2448, 2455, 2456, 2459, 2473, 2474, 2487, 2492, 2514, 2521, 2536, 2548, 2552, 2554, 2558, 2567, 2569, 2579, 2602, 2612, 2621, 2622, 2630, 2630, 2644, 2656, 2670, 2671, 2692, 2728, 2731, 2757, 2765, 2804, 2844, 2848, 2920, 2926, 2926, 3488, 87577, 130932, 131711, 131792, 531430, 117440499]\n"
     ]
    }
   ],
   "source": [
    "all_counts = [count for rows in datetime_count_times.values() for _, count, _ in rows]\n",
    "all_counts.sort()\n",
    "print(all_counts[-50:])"
   ]
  },
  {
   "cell_type": "code",
   "execution_count": 14,
   "metadata": {
    "collapsed": false
   },
   "outputs": [
    {
     "name": "stdout",
     "output_type": "stream",
     "text": [
      "[-1208464910, -8664797, -7691983, -1958436, -1283643, -531174, -131370, -131215, -130432, -87562, -73467, -65355, -2545, -1929, -1852, -1782, -1720, -1703, -1687, -1677, -1662, -1659, -1645, -1608, -1572, -1571, -1553, -1543, -1533, -1524, -1492, -1484, -1482, -1455, -1410, -1404, -1403, -1402, -1401, -1397, -1378, -1376, -1362, -1357, -1345, -1339, -1332, -1326, -1323, -1311, -1303, -1302, -1299, -1292, -1290, -1290, -1289, -1268, -1263, -1260, -1257, -1246, -1236, -1233, -1226, -1217, -1205, -1196, -1194, -1184, -1182, -1136, -1133, -1130, -1130, -1126, -1120, -1119, -1116, -1113, -1111, -1105, -1094, -1092, -1089, -1086, -1084, -1079, -1077, -1071, -1065, -1059, -1058, -1044, -1036, -1035, -1028, -1021, -1021, -1012, -1000, -995, -994, -991, -991, -978, -968, -965, -965, -962, -957, -957, -954, -952, -943, -937, -933, -932, -930, -919, -911, -908, -886, -885, -884, -882, -882, -873, -871, -869, -868, -862, -858, -842, -840, -838, -832, -825, -822, -820, -818, -814, -813, -801, -800, -794, -786, -784, -783, -780, -777, -776, -776, -771, -757, -757, -756, -754, -752, -751, -750, -746, -743, -741, -736, -732, -731, -730, -730, -723, -722, -722, -716, -713, -711, -711, -701, -700, -697, -694, -693, -692, -691, -690, -690, -688, -688, -688, -687, -686, -683, -683, -677, -676, -674, -673, -671, -671, -670, -670, -669, -669, -667, -666, -664, -662, -662, -661, -660, -659, -653, -652, -651, -651, -649, -649, -647, -645, -643, -639, -639, -638, -637, -633, -631, -631, -628, -624, -623, -622, -622, -621, -620, -619, -617, -617, -614, -614, -612, -603, -603, -602, -601, -598, -598, -596, -595, -593, -587, -586, -585, -585, -583, -582, -577, -574, -570, -570, -569, -567, -564, -563, -561, -558, -558, -557, -557, -555, -554, -554, -547, -546, -545, -544, -542, -541, -540, -538, -538, -536, -532, -531, -529, -528, -528, -525, -525, -524, -523, -523, -520, -520, -515, -514, -514, -513, -513, -511, -510, -509, -504, -504, -502, -500, -496, -496, -495, -494, -494, -493, -493, -491, -490, -490, -489, -485, -485, -483, -483, -482, -481, -479, -479, -478, -478, -477, -473, -472, -472, -471, -471, -469, -468, -467, -467, -466, -465, -464, -464, -464, -463, -461, -461, -460, -460, -460, -458, -455, -455, -453, -452, -451, -450, -450, -447, -446, -445, -444, -444, -442, -442, -435, -435, -433, -433, -433, -432, -431, -431, -430, -429, -429, -429, -428, -424, -423, -422, -420, -416, -412, -412, -411, -411, -410, -409, -409, -406, -406, -406, -405, -405, -404, -404, -402, -397, -397, -393, -393, -393, -391, -389, -388, -388, -387, -385, -385, -384, -384, -382, -381, -381, -379, -378, -378, -377, -376, -376, -376, -376, -375, -374, -374, -373, -371, -366, -365, -364, -362, -358, -358, -357, -356, -354, -353, -352, -352, -351, -351, -351, -351, -350, -349, -348, -347, -347, -344, -344, -343, -343, -342, -342, -341, -340, -338, -337, -337, -336, -336, -336, -336, -335, -332, -331, -330, -330, -327, -326, -326, -325, -323, -323, -323, -322, -322, -320, -320, -318, -317, -315, -314, -313, -312, -311, -304, -303, -302, -302, -302, -301, -300, -300, -300, -299, -299, -299, -298, -298, -297, -297, -296, -296, -296, -295, -295, -294, -293, -292, -292, -290, -290, -289, -286, -285, -284, -283, -283, -282, -280, -280, -279, -279, -279, -278, -278, -277, -275, -272, -272, -271, -271, -269, -269, -268, -265, -263, -262, -262, -258, -257, -257, -255, -253, -253, -250, -249, -248, -247, -247, -245, -245, -243, -243, -243, -243, -243, -242, -242, -242, -242, -241, -239, -238, -237, -237, -234, -233, -232, -231, -229, -229, -229, -228, -226, -226, -226, -226, -225, -224, -223, -222, -222, -222, -220, -219, -216, -215, -215, -215, -214, -214, -213, -212, -208, -207, -206, -205, -205, -205, -205, -205, -203, -203, -202, -201, -201, -201, -200, -199, -198, -198, -197, -196, -196, -195, -194, -194, -193, -193, -192, -191, -190, -190, -189, -188, -188, -188, -186, -186, -184, -184, -184, -183, -183, -183, -181, -180, -179, -179, -178, -176, -175, -173, -171, -170, -170, -170, -169, -167, -167, -165, -165, -165, -165, -164, -163, -163, -163, -163, -162, -162, -162, -161, -160, -160, -160, -159, -159, -158, -158, -155, -155, -154, -153, -153, -151, -150, -150, -150, -148, -148, -148, -146, -143, -142, -142, -141, -141, -141, -139, -139, -138, -138, -138, -137, -137, -137, -137, -136, -135, -134, -134, -134, -133, -133, -132, -131, -130, -130, -130, -130, -129, -129, -127, -126, -126, -125, -124, -121, -121, -121, -120, -120, -118, -118, -118, -118, -116, -116, -115, -115, -115, -115, -114, -114, -113, -113, -112, -112, -112, -111, -110, -110, -109, -109, -109, -108, -108, -108, -107, -107, -107, -107, -106, -106, -104, -103, -102, -101, -101, -101, -100, -100, -99, -98, -97, -97, -97, -96, -94, -94, -92, -92, -92, -90, -90, -90, -89, -89, -88, -88, -87, -87, -86, -86, -86, -85, -85, -85, -85, -84, -84, -84, -84, -83, -82, -81, -81, -81, -80, -80, -78, -77, -77, -76, -76, -75, -72, -72, -72, -72, -71, -71, -71, -70, -68, -67, -67, -67, -67, -66, -66, -66, -65, -65, -65, -65, -65, -64, -63, -63, -63, -62, -62, -61, -60, -60, -60, -59, -59, -59, -59, -59, -58, -58, -58, -58, -57, -57, -57, -56, -56, -56, -55, -55, -54, -53, -52, -52, -52, -52, -51, -51, -51, -51, -51, -51, -51, -51, -50, -50, -50, -50, -49, -49, -49, -49, -48, -48, -48, -48, -48, -48, -48, -48, -47, -47, -47, -45, -45, -45, -45, -44, -44, -44, -44, -44, -44, -44, -43, -43, -43, -43, -42, -42, -41, -41, -41, -41, -40, -40, -40, -39, -38, -38, -38, -38, -38, -38, -38, -37, -37, -37, -36, -36, -36, -36, -36, -35, -35, -35, -35, -35, -35, -34, -34, -34, -33, -33, -33, -32, -32, -32, -32, -32, -32, -32, -32, -31, -31, -30, -30, -30, -30, -29, -29, -29, -29, -29, -28, -28, -27, -27, -27, -27, -26, -26, -26, -25, -24, -24, -24, -24, -24, -22, -22, -22, -22, -22, -22, -21, -21, -21, -21, -21, -21, -21, -21, -20, -20, -20, -20, -20, -19, -19, -19, -19, -19, -19, -19, -19, -18, -18, -18, -18, -18, -17, -17, -17, -17, -16, -16, -16, -15, -15, -14, -13, -13, -13, -13, -12, -12, -12, -12, -11, -11, -11, -10, -10, -10, -10, -10, -10, -10, -10, -10, -9, -9, -9, -8, -8, -7, -7, -7, -7, -6, -6, -6, -6, -5, -5, -5, -5, -5, -5, -4, -3, -3, -3, -3, -3, -3, -2, -2, -2, -2, -2, -2, -2, -2, -2, -2, -2, -1, -1, -1, -1, -1, -1, -1, -1, -1, -1, -1, -1, -1, -1, -1, -1, -1, -1, -1, -1, 0, 0, 0, 0, 0, 0, 0, 0, 0, 0, 0, 0, 0, 0, 0, 0, 0, 0, 0, 0, 0, 0, 0, 0, 0, 0, 0, 0, 0, 0, 0, 0, 0, 0, 0, 0, 0, 0, 0, 0, 0, 0, 0, 0, 0, 0, 0, 0, 0, 0, 0, 0, 0, 0, 0, 0, 0, 0, 0, 0, 0, 0, 0, 0, 0, 0, 0, 0, 0, 0, 0, 0, 0, 0, 0, 0, 0, 0, 0, 0, 0, 0, 0, 0, 0, 0, 0, 0, 0, 0, 0, 0, 0, 0, 0, 0, 0, 0, 0, 0, 0, 0, 0, 0, 0, 0, 0, 0]\n"
     ]
    }
   ],
   "source": [
    "print(all_counts[:1200])"
   ]
  },
  {
   "cell_type": "code",
   "execution_count": 13,
   "metadata": {
    "collapsed": false
   },
   "outputs": [
    {
     "name": "stdout",
     "output_type": "stream",
     "text": [
      "[(4.0, 702091), (4.2, 42780), (8.0, 813), (4.433333333333334, 645), (0.02222222222222222, 137), (0.022500000000000003, 67), (0.02638888888888889, 57), (4.199722222222222, 47), (12.0, 45), (0.0275, 42), (24.0, 38), (0.020555555555555556, 31), (3.999722222222222, 31), (3.9916666666666667, 31), (0.008333333333333333, 30), (0.25166666666666665, 30), (0.02666666666666667, 28), (0.0175, 28), (16.0, 27), (3.998888888888889, 27)]\n"
     ]
    }
   ],
   "source": [
    "\n",
    "all_times = [duration.total_seconds() / 60 / 60\n",
    "             for rows in datetime_count_times.values()\n",
    "             for _, _, duration in rows]\n",
    "print(Counter(all_times).most_common(20))"
   ]
  },
  {
   "cell_type": "code",
   "execution_count": 14,
   "metadata": {
    "collapsed": true
   },
   "outputs": [],
   "source": [
    "\n",
    "datetime_counts = {turnstile: [(time, count)\n",
    "                               for (time, count, _) in rows\n",
    "                               if 0 <= count <= 5000]\n",
    "                   for turnstile, rows in datetime_count_times.items()}\n",
    "\n"
   ]
  },
  {
   "cell_type": "code",
   "execution_count": 18,
   "metadata": {
    "collapsed": false
   },
   "outputs": [
    {
     "name": "stdout",
     "output_type": "stream",
     "text": [
      "0.9938929315633283\n"
     ]
    }
   ],
   "source": [
    "all_good_counts = [count for rows in datetime_counts.values() for _, count in rows]\n",
    "print(len(all_good_counts) / len(all_counts))"
   ]
  },
  {
   "cell_type": "code",
   "execution_count": 19,
   "metadata": {
    "collapsed": false
   },
   "outputs": [
    {
     "name": "stdout",
     "output_type": "stream",
     "text": [
      "[4337, 4593, 4663, 4748, 4761]\n"
     ]
    }
   ],
   "source": [
    "\n",
    "all_good_counts.sort()\n",
    "print(all_good_counts[-5:])"
   ]
  },
  {
   "cell_type": "code",
   "execution_count": 20,
   "metadata": {
    "collapsed": false
   },
   "outputs": [
    {
     "name": "stdout",
     "output_type": "stream",
     "text": [
      "[0, 0, 0, 0, 0]\n"
     ]
    }
   ],
   "source": [
    "print(all_good_counts[:5])"
   ]
  },
  {
   "cell_type": "markdown",
   "metadata": {},
   "source": [
    "answer = datetime_counts"
   ]
  },
  {
   "cell_type": "markdown",
   "metadata": {},
   "source": [
    "# challenge 3"
   ]
  },
  {
   "cell_type": "code",
   "execution_count": 15,
   "metadata": {
    "collapsed": true
   },
   "outputs": [],
   "source": [
    "day_counts = {}\n",
    "for turnstile, rows in datetime_counts.items():\n",
    "    by_day = {}\n",
    "    for time, count in rows:\n",
    "        day = time.date()\n",
    "        by_day[day] = by_day.get(day, 0) + count\n",
    "    day_counts[turnstile] = sorted(by_day.items())\n",
    "    "
   ]
  },
  {
   "cell_type": "code",
   "execution_count": 16,
   "metadata": {
    "collapsed": false
   },
   "outputs": [
    {
     "name": "stdout",
     "output_type": "stream",
     "text": [
      "('R118', 'R343', '01-00-00', 'FRANKLIN ST')\n"
     ]
    }
   ],
   "source": [
    "print(list(day_counts)[1])"
   ]
  },
  {
   "cell_type": "markdown",
   "metadata": {},
   "source": [
    "answer = day_counts"
   ]
  },
  {
   "cell_type": "markdown",
   "metadata": {},
   "source": [
    "# challenge 4"
   ]
  },
  {
   "cell_type": "code",
   "execution_count": 17,
   "metadata": {
    "collapsed": true
   },
   "outputs": [],
   "source": [
    "%matplotlib inline"
   ]
  },
  {
   "cell_type": "code",
   "execution_count": 18,
   "metadata": {
    "collapsed": true
   },
   "outputs": [],
   "source": [
    "import matplotlib.pyplot as plt"
   ]
  },
  {
   "cell_type": "code",
   "execution_count": 19,
   "metadata": {
    "collapsed": false
   },
   "outputs": [
    {
     "name": "stdout",
     "output_type": "stream",
     "text": [
      "[('R317', 'R408', '01-05-01', 'SIMPSON ST'), ('R118', 'R343', '01-00-00', 'FRANKLIN ST'), ('R204', 'R043', '02-03-03', 'WALL ST'), ('R208', 'R014', '03-03-01', 'FULTON ST'), ('N009', 'R174', '01-00-02', '181 ST'), ('R419', 'R326', '00-03-01', 'ZEREGA AVE'), ('R262A', 'R195', '04-00-05', '161 ST-YANKEE'), ('R246', 'R177', '00-03-06', '68ST-HUNTER COL'), ('N203', 'R195', '00-00-03', '161 ST-YANKEE'), ('H014', 'R249', '00-00-02', 'GRAHAM AVE')]\n"
     ]
    }
   ],
   "source": [
    "#print day_count dic\n",
    "print(list(day_counts)[0:10])"
   ]
  },
  {
   "cell_type": "code",
   "execution_count": 20,
   "metadata": {
    "collapsed": false
   },
   "outputs": [],
   "source": [
    "#select one turnstile from the dictionary\n",
    "n062 = day_counts['N062','R011','01-03-00','42 ST-PA BUS TE']"
   ]
  },
  {
   "cell_type": "code",
   "execution_count": 21,
   "metadata": {
    "collapsed": false
   },
   "outputs": [],
   "source": [
    "#split lists into two lists\n",
    "dates = []\n",
    "counts = []\n",
    "\n",
    "for turnstile in n062:\n",
    "        dates.append(turnstile[0])\n",
    "        counts.append(turnstile[1])"
   ]
  },
  {
   "cell_type": "code",
   "execution_count": 23,
   "metadata": {
    "collapsed": false
   },
   "outputs": [
    {
     "data": {
      "text/plain": [
       "<matplotlib.text.Text at 0x104c2ddd8>"
      ]
     },
     "execution_count": 23,
     "metadata": {},
     "output_type": "execute_result"
    },
    {
     "data": {
      "image/png": "[encoded data removed]",
      "text/plain": [
       "<matplotlib.figure.Figure at 0x104cc5f98>"
      ]
     },
     "metadata": {},
     "output_type": "display_data"
    }
   ],
   "source": [
    "plt.figure(figsize=(10,3))\n",
    "plt.plot(dates,counts)\n",
    "plt.title('Entries by day over the course of July 2015 at 42 St Tunrstile N062')\n",
    "plt.xlabel('Day of Week')\n",
    "plt.ylabel('Entries per day')"
   ]
  },
  {
   "cell_type": "markdown",
   "metadata": {},
   "source": [
    "# challenge 5"
   ]
  },
  {
   "cell_type": "code",
   "execution_count": 24,
   "metadata": {
    "collapsed": false
   },
   "outputs": [],
   "source": [
    "ca_unit_station_by_day={}\n",
    "for turn_key, turnstile_value in day_counts.items():\n",
    "    prev_running_totals={}\n",
    "    turnstile_daily_counts={}\n",
    "    current_running_totals={}\n",
    "    new_key=(turn_key[0],turn_key[1],turn_key[3])\n",
    "    for date, count in ca_unit_station_by_day.get(new_key,[]):\n",
    "        prev_running_totals[date]=count\n",
    "    for date, count in turnstile_value:\n",
    "        current_running_totals[date]=prev_running_totals.get(date,0)+count\n",
    "    ca_unit_station_by_day[new_key]=sorted(current_running_totals.items())"
   ]
  },
  {
   "cell_type": "code",
   "execution_count": 26,
   "metadata": {
    "collapsed": false
   },
   "outputs": [
    {
     "name": "stdout",
     "output_type": "stream",
     "text": [
      "[('N310', 'R140', 'QUEENS PLAZA'), ('B023', 'R211', 'KINGS HIGHWAY'), ('B020', 'R263', 'AVE H'), ('N558', 'R130', 'KINGS HIGHWAY'), ('N556', 'R424', 'AVE P'), ('R261', 'R205', '149 ST-GR CONC'), ('N548', 'R420', 'DITMAS AVE'), ('N186', 'R418', 'BEACH 105 ST'), ('R404', 'R447', 'CYPRESS AVE'), ('N418', 'R269', 'BEDFORD/NOSTRAN')]\n"
     ]
    }
   ],
   "source": [
    "print(list(ca_unit_station_by_day)[0:10])"
   ]
  },
  {
   "cell_type": "markdown",
   "metadata": {},
   "source": [
    "answer = ca_unit_station_by_day"
   ]
  },
  {
   "cell_type": "markdown",
   "metadata": {},
   "source": [
    "# challenge 6"
   ]
  },
  {
   "cell_type": "code",
   "execution_count": 27,
   "metadata": {
    "collapsed": false
   },
   "outputs": [],
   "source": [
    "station_by_day={}\n",
    "for turn_key, turnstile_value in ca_unit_station_by_day.items():\n",
    "    prev_running_totals={}\n",
    "    turnstile_daily_counts={}\n",
    "    current_running_totals={}\n",
    "    new_key=(turn_key[2])\n",
    "    for date, count in ca_unit_station_by_day.get(new_key,[]):\n",
    "        prev_running_totals[date]=count\n",
    "    for date, count in turnstile_value:\n",
    "        current_running_totals[date]=prev_running_totals.get(date,0)+count\n",
    "    station_by_day[new_key]=sorted(current_running_totals.items())"
   ]
  },
  {
   "cell_type": "code",
   "execution_count": 29,
   "metadata": {
    "collapsed": false
   },
   "outputs": [
    {
     "name": "stdout",
     "output_type": "stream",
     "text": [
      "['CLASSON AVE', '86 ST', 'BEDFORD AVE', 'RECTOR ST', '219 ST', '3 AVE', '149 ST-3 AVE', '161 ST-YANKEE', 'AQUEDUCT TRACK', 'BEACH 44 ST']\n"
     ]
    }
   ],
   "source": [
    "print(list(station_by_day)[0:10])"
   ]
  },
  {
   "cell_type": "markdown",
   "metadata": {},
   "source": [
    "answer = station_by_day"
   ]
  },
  {
   "cell_type": "markdown",
   "metadata": {},
   "source": [
    "# challenge 7"
   ]
  },
  {
   "cell_type": "code",
   "execution_count": 30,
   "metadata": {
    "collapsed": false
   },
   "outputs": [],
   "source": [
    "#select one station for analysis\n",
    "\n",
    "lowery = station_by_day['40 ST-LOWERY ST']"
   ]
  },
  {
   "cell_type": "code",
   "execution_count": 31,
   "metadata": {
    "collapsed": false
   },
   "outputs": [],
   "source": [
    "#split lists into two lists\n",
    "dates = []\n",
    "counts = []\n",
    "\n",
    "for station in lowery:\n",
    "        dates.append(station[0])\n",
    "        counts.append(station[1])"
   ]
  },
  {
   "cell_type": "code",
   "execution_count": 32,
   "metadata": {
    "collapsed": false
   },
   "outputs": [
    {
     "name": "stdout",
     "output_type": "stream",
     "text": [
      "[6634, 5532, 10248, 10394, 10424, 10469, 7452, 5995, 4921, 9963, 10504, 10388, 10321, 10464, 7095, 5427, 10204, 10386, 10497, 10629, 10285, 6812, 5350, 10253, 10617, 10709, 10677, 9550]\n"
     ]
    }
   ],
   "source": [
    "print(counts)"
   ]
  },
  {
   "cell_type": "code",
   "execution_count": 34,
   "metadata": {
    "collapsed": false
   },
   "outputs": [
    {
     "data": {
      "text/plain": [
       "<matplotlib.text.Text at 0x104ee51d0>"
      ]
     },
     "execution_count": 34,
     "metadata": {},
     "output_type": "execute_result"
    },
    {
     "data": {
      "image/png": "[encoded data removed]",
      "text/plain": [
       "<matplotlib.figure.Figure at 0x104eb76a0>"
      ]
     },
     "metadata": {},
     "output_type": "display_data"
    }
   ],
   "source": [
    "plt.figure(figsize=(10,3))\n",
    "plt.plot(dates,counts)\n",
    "plt.title('Daily entries at Lowery - 40 St, July 2015')\n",
    "plt.xlabel('Day of Week')\n",
    "plt.ylabel('Entries per day')"
   ]
  },
  {
   "cell_type": "markdown",
   "metadata": {},
   "source": [
    "# challenge 8"
   ]
  },
  {
   "cell_type": "code",
   "execution_count": 43,
   "metadata": {
    "collapsed": false
   },
   "outputs": [
    {
     "data": {
      "text/plain": [
       "[(datetime.date(2015, 6, 27), 6634),\n",
       " (datetime.date(2015, 6, 28), 5532),\n",
       " (datetime.date(2015, 6, 29), 10248),\n",
       " (datetime.date(2015, 6, 30), 10394),\n",
       " (datetime.date(2015, 7, 1), 10424),\n",
       " (datetime.date(2015, 7, 2), 10469),\n",
       " (datetime.date(2015, 7, 3), 7452),\n",
       " (datetime.date(2015, 7, 4), 5995),\n",
       " (datetime.date(2015, 7, 5), 4921),\n",
       " (datetime.date(2015, 7, 6), 9963),\n",
       " (datetime.date(2015, 7, 7), 10504),\n",
       " (datetime.date(2015, 7, 8), 10388),\n",
       " (datetime.date(2015, 7, 9), 10321),\n",
       " (datetime.date(2015, 7, 10), 10464),\n",
       " (datetime.date(2015, 7, 11), 7095),\n",
       " (datetime.date(2015, 7, 12), 5427),\n",
       " (datetime.date(2015, 7, 13), 10204),\n",
       " (datetime.date(2015, 7, 14), 10386),\n",
       " (datetime.date(2015, 7, 15), 10497),\n",
       " (datetime.date(2015, 7, 16), 10629),\n",
       " (datetime.date(2015, 7, 17), 10285),\n",
       " (datetime.date(2015, 7, 18), 6812),\n",
       " (datetime.date(2015, 7, 19), 5350),\n",
       " (datetime.date(2015, 7, 20), 10253),\n",
       " (datetime.date(2015, 7, 21), 10617),\n",
       " (datetime.date(2015, 7, 22), 10709),\n",
       " (datetime.date(2015, 7, 23), 10677),\n",
       " (datetime.date(2015, 7, 24), 9550)]"
      ]
     },
     "execution_count": 43,
     "metadata": {},
     "output_type": "execute_result"
    }
   ],
   "source": [
    "lowery"
   ]
  },
  {
   "cell_type": "code",
   "execution_count": 35,
   "metadata": {
    "collapsed": true
   },
   "outputs": [],
   "source": [
    "list1 = lowery[:7]\n",
    "list2 = lowery[7:14]\n",
    "list3 = lowery[14:21]\n",
    "list4 = lowery[21:]\n",
    "week1 = [x[1] for x in list1]\n",
    "week2 = [x[1] for x in list2]\n",
    "week3 = [x[1] for x in list3]\n",
    "week4 = [x[1] for x in list4]"
   ]
  },
  {
   "cell_type": "code",
   "execution_count": 36,
   "metadata": {
    "collapsed": false
   },
   "outputs": [
    {
     "data": {
      "text/plain": [
       "(-0.25, 6.25, 4000.0, 11000.0)"
      ]
     },
     "execution_count": 36,
     "metadata": {},
     "output_type": "execute_result"
    },
    {
     "data": {
      "image/png": "[encoded data removed]",
      "text/plain": [
       "<matplotlib.figure.Figure at 0x104e79710>"
      ]
     },
     "metadata": {},
     "output_type": "display_data"
    }
   ],
   "source": [
    "fig = plt.figure(figsize=(10,5))\n",
    "x = [0,1,2,3,4,5,6]\n",
    "plt.plot(x,week1,'blue',label=list1[1][0])\n",
    "plt.plot(x,week2,'red',label=list2[1][0])\n",
    "plt.plot(x,week3,'violet',label=list3[1][0])\n",
    "plt.plot(x,week4,'green', label=list4[1][0])\n",
    "\n",
    "plt.title('Weekly entries at Lowery - 40 St, July 2015')\n",
    "plt.xlabel('Day of Week')\n",
    "plt.ylabel('Entries per day')\n",
    "plt.legend(loc=2,prop={'size':10})\n",
    "\n",
    "\n",
    "days = ['Saturday','Sunday','Monday','Tuesday','Wednesday','Thursday','Friday']\n",
    "plt.xticks(x, days, rotation=0)\n",
    "plot_margin = 0.25\n",
    "\n",
    "x0, x1, y0, y1 = plt.axis()\n",
    "plt.axis((x0 - plot_margin,\n",
    "          x1 + plot_margin,\n",
    "          y0 ,\n",
    "          y1))"
   ]
  },
  {
   "cell_type": "markdown",
   "metadata": {},
   "source": [
    "# challenge 9"
   ]
  },
  {
   "cell_type": "code",
   "execution_count": 37,
   "metadata": {
    "collapsed": false
   },
   "outputs": [],
   "source": [
    "total_counts = defaultdict(list)\n",
    "\n",
    "\n",
    "for station, rows in station_by_day.items():\n",
    "    for _, count in rows:\n",
    "        total_counts[station] = total_counts.get(station, 0) + count\n",
    "        \n",
    "total_counts = sorted(total_counts.items(),key = operator.itemgetter(1),reverse=True)"
   ]
  },
  {
   "cell_type": "code",
   "execution_count": 38,
   "metadata": {
    "collapsed": false
   },
   "outputs": [
    {
     "data": {
      "text/plain": [
       "[('42 ST-GRD CNTRL', 1661950),\n",
       " ('PATH WTC', 944753),\n",
       " ('JAMAICA CENTER', 757789),\n",
       " ('68ST-HUNTER COL', 696889),\n",
       " ('W 4 ST-WASH SQ', 670181),\n",
       " ('77 ST', 661125),\n",
       " ('SUTPHIN BLVD', 612362),\n",
       " ('14 ST-UNION SQ', 601323),\n",
       " ('42 ST-TIMES SQ', 592492),\n",
       " ('JUNCTION BLVD', 530347)]"
      ]
     },
     "execution_count": 38,
     "metadata": {},
     "output_type": "execute_result"
    }
   ],
   "source": [
    "total_counts[:10]"
   ]
  },
  {
   "cell_type": "markdown",
   "metadata": {},
   "source": [
    "answer is total_counts"
   ]
  },
  {
   "cell_type": "markdown",
   "metadata": {},
   "source": [
    "# challenge 10"
   ]
  },
  {
   "cell_type": "code",
   "execution_count": 41,
   "metadata": {
    "collapsed": false
   },
   "outputs": [
    {
     "data": {
      "text/plain": [
       "<matplotlib.text.Text at 0x105256080>"
      ]
     },
     "execution_count": 41,
     "metadata": {},
     "output_type": "execute_result"
    },
    {
     "data": {
      "image/png": "[encoded data removed]",
      "text/plain": [
       "<matplotlib.figure.Figure at 0x10521cdd8>"
      ]
     },
     "metadata": {},
     "output_type": "display_data"
    }
   ],
   "source": [
    "plt.figure(figsize=(10,6\n",
    "                   ))\n",
    "\n",
    "total_ridership_counts = [x[1] for x in total_counts]\n",
    "\n",
    "plt.hist(total_ridership_counts)\n",
    "plt.ylabel('Station Count')\n",
    "plt.xlabel('Entries per Day')\n",
    "plt.title('Histogram of total ridership - July 2015')\n",
    "\n"
   ]
  }
 ],
 "metadata": {
  "kernelspec": {
   "display_name": "Python 3",
   "language": "python",
   "name": "python3"
  },
  "language_info": {
   "codemirror_mode": {
    "name": "ipython",
    "version": 3
   },
   "file_extension": ".py",
   "mimetype": "text/x-python",
   "name": "python",
   "nbconvert_exporter": "python",
   "pygments_lexer": "ipython3",
   "version": "3.5.1"
  }
 },
 "nbformat": 4,
 "nbformat_minor": 0
}
