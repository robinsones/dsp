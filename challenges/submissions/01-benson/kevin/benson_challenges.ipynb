{
 "cells": [
  {
   "cell_type": "markdown",
   "metadata": {},
   "source": [
    "# MTA Data Challenges"
   ]
  },
  {
   "cell_type": "code",
   "execution_count": 1,
   "metadata": {
    "collapsed": true
   },
   "outputs": [],
   "source": [
    "from __future__ import division\n",
    "import csv\n",
    "from datetime import datetime\n",
    "from collections import Counter"
   ]
  },
  {
   "cell_type": "markdown",
   "metadata": {},
   "source": [
    "### Challenge 1"
   ]
  },
  {
   "cell_type": "code",
   "execution_count": 185,
   "metadata": {
    "collapsed": false
   },
   "outputs": [
    {
     "name": "stdout",
     "output_type": "stream",
     "text": [
      "  % Total    % Received % Xferd  Average Speed   Time    Time     Time  Current\n",
      "                                 Dload  Upload   Total   Spent    Left  Speed\n",
      "100 24.0M    0 24.0M    0     0  1493k      0 --:--:--  0:00:16 --:--:-- 1059k\n",
      "  % Total    % Received % Xferd  Average Speed   Time    Time     Time  Current\n",
      "                                 Dload  Upload   Total   Spent    Left  Speed\n",
      "100 24.1M    0 24.1M    0     0  4503k      0 --:--:--  0:00:05 --:--:-- 5285k\n",
      "  % Total    % Received % Xferd  Average Speed   Time    Time     Time  Current\n",
      "                                 Dload  Upload   Total   Spent    Left  Speed\n",
      "100 23.8M    0 23.8M    0     0  2047k      0 --:--:--  0:00:11 --:--:-- 2679k\n",
      "  % Total    % Received % Xferd  Average Speed   Time    Time     Time  Current\n",
      "                                 Dload  Upload   Total   Spent    Left  Speed\n",
      "100 23.9M    0 23.9M    0     0  3140k      0 --:--:--  0:00:07 --:--:-- 4560k\n"
     ]
    }
   ],
   "source": [
    "!curl -O http://web.mta.info/developers/data/nyct/turnstile/turnstile_150627.txt\n",
    "!curl -O http://web.mta.info/developers/data/nyct/turnstile/turnstile_150620.txt\n",
    "!curl -O http://web.mta.info/developers/data/nyct/turnstile/turnstile_150613.txt\n",
    "!curl -O http://web.mta.info/developers/data/nyct/turnstile/turnstile_150606.txt"
   ]
  },
  {
   "cell_type": "code",
   "execution_count": 224,
   "metadata": {
    "collapsed": false
   },
   "outputs": [],
   "source": [
    "files = ['turnstile_150627.txt', 'turnstile_150620.txt', \n",
    "         'turnstile_150613.txt', 'turnstile_150606.txt']\n",
    "\n",
    "all_rows = []\n",
    "\n",
    "for file in files:\n",
    "    with open(file) as f:\n",
    "        reader = csv.reader(f)\n",
    "        rows = [[cell.strip() for cell in row] for row in reader]\n",
    "\n",
    "        rows.pop(0) == ['C/A', 'UNIT', 'SCP', 'STATION', 'LINENAME',\n",
    "                       'DIVISION', 'DATE', 'TIME', 'DESC', 'ENTRIES',\n",
    "                       'EXITS']\n",
    "        \n",
    "        for row in rows:\n",
    "            all_rows.append(row)\n",
    "\n",
    "\n",
    "for row in all_rows:\n",
    "    raw_readings.setdefault(tuple(row[:4]), []).append(tuple(row[4:]))\n",
    "    "
   ]
  },
  {
   "cell_type": "markdown",
   "metadata": {},
   "source": [
    "`raw_readings` is a solution to Challenge 1."
   ]
  },
  {
   "cell_type": "markdown",
   "metadata": {},
   "source": [
    "### Challenge 2"
   ]
  },
  {
   "cell_type": "code",
   "execution_count": 226,
   "metadata": {
    "collapsed": false
   },
   "outputs": [],
   "source": [
    "datetime_cumulative = {turnstile: [(datetime.strptime(date + time,\n",
    "                                                      '%m/%d/%Y%X'),\n",
    "                                    int(in_cumulative))\n",
    "                                   for _, _, date, time,\n",
    "                                       _, in_cumulative, _ in rows]\n",
    "                       for turnstile, rows in raw_readings.items()}"
   ]
  },
  {
   "cell_type": "code",
   "execution_count": 236,
   "metadata": {
    "collapsed": false
   },
   "outputs": [
    {
     "ename": "AssertionError",
     "evalue": "",
     "output_type": "error",
     "traceback": [
      "\u001b[0;31m---------------------------------------------------------------------------\u001b[0m",
      "\u001b[0;31mAssertionError\u001b[0m                            Traceback (most recent call last)",
      "\u001b[0;32m<ipython-input-236-20f7cf215417>\u001b[0m in \u001b[0;36m<module>\u001b[0;34m()\u001b[0m\n\u001b[1;32m      1\u001b[0m \u001b[0;32mfor\u001b[0m \u001b[0mturnstile\u001b[0m\u001b[0;34m,\u001b[0m \u001b[0mrows\u001b[0m \u001b[0;32min\u001b[0m \u001b[0mdatetime_cumulative\u001b[0m\u001b[0;34m.\u001b[0m\u001b[0mitems\u001b[0m\u001b[0;34m(\u001b[0m\u001b[0;34m)\u001b[0m\u001b[0;34m:\u001b[0m\u001b[0;34m\u001b[0m\u001b[0m\n\u001b[0;32m----> 2\u001b[0;31m     \u001b[0;32massert\u001b[0m \u001b[0mrows\u001b[0m \u001b[0;34m==\u001b[0m \u001b[0msorted\u001b[0m\u001b[0;34m(\u001b[0m\u001b[0mrows\u001b[0m\u001b[0;34m)\u001b[0m\u001b[0;34m\u001b[0m\u001b[0m\n\u001b[0m",
      "\u001b[0;31mAssertionError\u001b[0m: "
     ]
    }
   ],
   "source": [
    "for turnstile, rows in datetime_cumulative.items():\n",
    "    assert rows == sorted(rows)"
   ]
  },
  {
   "cell_type": "code",
   "execution_count": 237,
   "metadata": {
    "collapsed": true
   },
   "outputs": [],
   "source": [
    "datetime_count_times = {turnstile: [[rows[i][0],\n",
    "                                     rows[i+1][1] - rows[i][1],\n",
    "                                     rows[i+1][0] - rows[i][0]]\n",
    "                                    for i in range(len(rows) - 1)]\n",
    "                        for turnstile, rows in datetime_cumulative.items()}"
   ]
  },
  {
   "cell_type": "code",
   "execution_count": 238,
   "metadata": {
    "collapsed": false
   },
   "outputs": [
    {
     "data": {
      "text/plain": [
       "[[datetime.datetime(2015, 6, 20, 1, 0), 10, datetime.timedelta(0, 14400)],\n",
       " [datetime.datetime(2015, 6, 20, 5, 0), 182, datetime.timedelta(0, 14400)],\n",
       " [datetime.datetime(2015, 6, 20, 9, 0), 368, datetime.timedelta(0, 14400)],\n",
       " [datetime.datetime(2015, 6, 20, 13, 0), 343, datetime.timedelta(0, 14400)],\n",
       " [datetime.datetime(2015, 6, 20, 17, 0), 231, datetime.timedelta(0, 14400)],\n",
       " [datetime.datetime(2015, 6, 20, 21, 0), 102, datetime.timedelta(0, 14400)],\n",
       " [datetime.datetime(2015, 6, 21, 1, 0), 15, datetime.timedelta(0, 14400)],\n",
       " [datetime.datetime(2015, 6, 21, 5, 0), 123, datetime.timedelta(0, 14400)],\n",
       " [datetime.datetime(2015, 6, 21, 9, 0), 261, datetime.timedelta(0, 14400)],\n",
       " [datetime.datetime(2015, 6, 21, 13, 0), 338, datetime.timedelta(0, 14400)],\n",
       " [datetime.datetime(2015, 6, 21, 17, 0), 179, datetime.timedelta(0, 14400)],\n",
       " [datetime.datetime(2015, 6, 21, 21, 0), 51, datetime.timedelta(0, 14400)],\n",
       " [datetime.datetime(2015, 6, 22, 1, 0), 12, datetime.timedelta(0, 14400)],\n",
       " [datetime.datetime(2015, 6, 22, 5, 0), 598, datetime.timedelta(0, 14400)],\n",
       " [datetime.datetime(2015, 6, 22, 9, 0), 362, datetime.timedelta(0, 14400)],\n",
       " [datetime.datetime(2015, 6, 22, 13, 0), 297, datetime.timedelta(0, 14400)],\n",
       " [datetime.datetime(2015, 6, 22, 17, 0), 285, datetime.timedelta(0, 14400)],\n",
       " [datetime.datetime(2015, 6, 22, 21, 0), 70, datetime.timedelta(0, 14400)],\n",
       " [datetime.datetime(2015, 6, 23, 1, 0), 16, datetime.timedelta(0, 14400)],\n",
       " [datetime.datetime(2015, 6, 23, 5, 0), 623, datetime.timedelta(0, 14400)],\n",
       " [datetime.datetime(2015, 6, 23, 9, 0), 388, datetime.timedelta(0, 14400)],\n",
       " [datetime.datetime(2015, 6, 23, 13, 0), 351, datetime.timedelta(0, 14400)],\n",
       " [datetime.datetime(2015, 6, 23, 17, 0), 259, datetime.timedelta(0, 14400)],\n",
       " [datetime.datetime(2015, 6, 23, 21, 0), 54, datetime.timedelta(0, 14400)],\n",
       " [datetime.datetime(2015, 6, 24, 1, 0), 15, datetime.timedelta(0, 14400)],\n",
       " [datetime.datetime(2015, 6, 24, 5, 0), 633, datetime.timedelta(0, 14400)],\n",
       " [datetime.datetime(2015, 6, 24, 9, 0), 418, datetime.timedelta(0, 14400)],\n",
       " [datetime.datetime(2015, 6, 24, 13, 0), 345, datetime.timedelta(0, 14400)],\n",
       " [datetime.datetime(2015, 6, 24, 17, 0), 269, datetime.timedelta(0, 14400)],\n",
       " [datetime.datetime(2015, 6, 24, 21, 0), 75, datetime.timedelta(0, 14400)],\n",
       " [datetime.datetime(2015, 6, 25, 1, 0), 23, datetime.timedelta(0, 14400)],\n",
       " [datetime.datetime(2015, 6, 25, 5, 0), 614, datetime.timedelta(0, 14400)],\n",
       " [datetime.datetime(2015, 6, 25, 9, 0), 430, datetime.timedelta(0, 14400)],\n",
       " [datetime.datetime(2015, 6, 25, 13, 0), 371, datetime.timedelta(0, 14400)],\n",
       " [datetime.datetime(2015, 6, 25, 17, 0), 255, datetime.timedelta(0, 14400)],\n",
       " [datetime.datetime(2015, 6, 25, 21, 0), 59, datetime.timedelta(0, 14400)],\n",
       " [datetime.datetime(2015, 6, 26, 1, 0), 9, datetime.timedelta(0, 14400)],\n",
       " [datetime.datetime(2015, 6, 26, 5, 0), 544, datetime.timedelta(0, 14400)],\n",
       " [datetime.datetime(2015, 6, 26, 9, 0), 420, datetime.timedelta(0, 14400)],\n",
       " [datetime.datetime(2015, 6, 26, 13, 0), 338, datetime.timedelta(0, 14400)],\n",
       " [datetime.datetime(2015, 6, 26, 17, 0), 312, datetime.timedelta(0, 14400)],\n",
       " [datetime.datetime(2015, 6, 26, 21, 0),\n",
       "  -21512,\n",
       "  datetime.timedelta(-14, 14400)],\n",
       " [datetime.datetime(2015, 6, 13, 1, 0), 18, datetime.timedelta(0, 14400)],\n",
       " [datetime.datetime(2015, 6, 13, 5, 0), 179, datetime.timedelta(0, 14400)],\n",
       " [datetime.datetime(2015, 6, 13, 9, 0), 380, datetime.timedelta(0, 14400)],\n",
       " [datetime.datetime(2015, 6, 13, 13, 0), 382, datetime.timedelta(0, 14400)],\n",
       " [datetime.datetime(2015, 6, 13, 17, 0), 224, datetime.timedelta(0, 14400)],\n",
       " [datetime.datetime(2015, 6, 13, 21, 0), 114, datetime.timedelta(0, 14400)],\n",
       " [datetime.datetime(2015, 6, 14, 1, 0), 14, datetime.timedelta(0, 14400)],\n",
       " [datetime.datetime(2015, 6, 14, 5, 0), 118, datetime.timedelta(0, 14400)],\n",
       " [datetime.datetime(2015, 6, 14, 9, 0), 305, datetime.timedelta(0, 14400)],\n",
       " [datetime.datetime(2015, 6, 14, 13, 0), 346, datetime.timedelta(0, 14400)],\n",
       " [datetime.datetime(2015, 6, 14, 17, 0), 189, datetime.timedelta(0, 14400)],\n",
       " [datetime.datetime(2015, 6, 14, 21, 0), 60, datetime.timedelta(0, 14400)],\n",
       " [datetime.datetime(2015, 6, 15, 1, 0), 8, datetime.timedelta(0, 14400)],\n",
       " [datetime.datetime(2015, 6, 15, 5, 0), 595, datetime.timedelta(0, 14400)],\n",
       " [datetime.datetime(2015, 6, 15, 9, 0), 406, datetime.timedelta(0, 14400)],\n",
       " [datetime.datetime(2015, 6, 15, 13, 0), 325, datetime.timedelta(0, 14400)],\n",
       " [datetime.datetime(2015, 6, 15, 17, 0), 227, datetime.timedelta(0, 14400)],\n",
       " [datetime.datetime(2015, 6, 15, 21, 0), 46, datetime.timedelta(0, 14400)],\n",
       " [datetime.datetime(2015, 6, 16, 1, 0), 21, datetime.timedelta(0, 14400)],\n",
       " [datetime.datetime(2015, 6, 16, 5, 0), 616, datetime.timedelta(0, 14400)],\n",
       " [datetime.datetime(2015, 6, 16, 9, 0), 442, datetime.timedelta(0, 14400)],\n",
       " [datetime.datetime(2015, 6, 16, 13, 0), 325, datetime.timedelta(0, 14400)],\n",
       " [datetime.datetime(2015, 6, 16, 17, 0), 241, datetime.timedelta(0, 14400)],\n",
       " [datetime.datetime(2015, 6, 16, 21, 0), 51, datetime.timedelta(0, 14400)],\n",
       " [datetime.datetime(2015, 6, 17, 1, 0), 9, datetime.timedelta(0, 14400)],\n",
       " [datetime.datetime(2015, 6, 17, 5, 0), 628, datetime.timedelta(0, 14400)],\n",
       " [datetime.datetime(2015, 6, 17, 9, 0), 435, datetime.timedelta(0, 14400)],\n",
       " [datetime.datetime(2015, 6, 17, 13, 0), 361, datetime.timedelta(0, 14400)],\n",
       " [datetime.datetime(2015, 6, 17, 17, 0), 269, datetime.timedelta(0, 14400)],\n",
       " [datetime.datetime(2015, 6, 17, 21, 0), 68, datetime.timedelta(0, 14400)],\n",
       " [datetime.datetime(2015, 6, 18, 1, 0), 13, datetime.timedelta(0, 14400)],\n",
       " [datetime.datetime(2015, 6, 18, 5, 0), 605, datetime.timedelta(0, 14400)],\n",
       " [datetime.datetime(2015, 6, 18, 9, 0), 402, datetime.timedelta(0, 14400)],\n",
       " [datetime.datetime(2015, 6, 18, 13, 0), 378, datetime.timedelta(0, 14400)],\n",
       " [datetime.datetime(2015, 6, 18, 17, 0), 231, datetime.timedelta(0, 14400)],\n",
       " [datetime.datetime(2015, 6, 18, 21, 0), 62, datetime.timedelta(0, 14400)],\n",
       " [datetime.datetime(2015, 6, 19, 1, 0), 12, datetime.timedelta(0, 14400)],\n",
       " [datetime.datetime(2015, 6, 19, 5, 0), 593, datetime.timedelta(0, 14400)],\n",
       " [datetime.datetime(2015, 6, 19, 9, 0), 377, datetime.timedelta(0, 14400)],\n",
       " [datetime.datetime(2015, 6, 19, 13, 0), 369, datetime.timedelta(0, 14400)],\n",
       " [datetime.datetime(2015, 6, 19, 17, 0), 305, datetime.timedelta(0, 14400)],\n",
       " [datetime.datetime(2015, 6, 19, 21, 0),\n",
       "  -21159,\n",
       "  datetime.timedelta(-14, 14400)],\n",
       " [datetime.datetime(2015, 6, 6, 1, 0), 19, datetime.timedelta(0, 14400)],\n",
       " [datetime.datetime(2015, 6, 6, 5, 0), 189, datetime.timedelta(0, 14400)],\n",
       " [datetime.datetime(2015, 6, 6, 9, 0), 351, datetime.timedelta(0, 14400)],\n",
       " [datetime.datetime(2015, 6, 6, 13, 0), 356, datetime.timedelta(0, 14400)],\n",
       " [datetime.datetime(2015, 6, 6, 17, 0), 207, datetime.timedelta(0, 14400)],\n",
       " [datetime.datetime(2015, 6, 6, 21, 0), 105, datetime.timedelta(0, 14400)],\n",
       " [datetime.datetime(2015, 6, 7, 1, 0), 25, datetime.timedelta(0, 14400)],\n",
       " [datetime.datetime(2015, 6, 7, 5, 0), 126, datetime.timedelta(0, 14400)],\n",
       " [datetime.datetime(2015, 6, 7, 9, 0), 305, datetime.timedelta(0, 14400)],\n",
       " [datetime.datetime(2015, 6, 7, 13, 0), 276, datetime.timedelta(0, 14400)],\n",
       " [datetime.datetime(2015, 6, 7, 17, 0), 188, datetime.timedelta(0, 14400)],\n",
       " [datetime.datetime(2015, 6, 7, 21, 0), 74, datetime.timedelta(0, 14400)],\n",
       " [datetime.datetime(2015, 6, 8, 1, 0), 13, datetime.timedelta(0, 14400)],\n",
       " [datetime.datetime(2015, 6, 8, 5, 0), 584, datetime.timedelta(0, 14400)],\n",
       " [datetime.datetime(2015, 6, 8, 9, 0), 353, datetime.timedelta(0, 14400)],\n",
       " [datetime.datetime(2015, 6, 8, 13, 0), 305, datetime.timedelta(0, 14400)],\n",
       " [datetime.datetime(2015, 6, 8, 17, 0), 254, datetime.timedelta(0, 14400)],\n",
       " [datetime.datetime(2015, 6, 8, 21, 0), 53, datetime.timedelta(0, 14400)],\n",
       " [datetime.datetime(2015, 6, 9, 1, 0), 13, datetime.timedelta(0, 14400)],\n",
       " [datetime.datetime(2015, 6, 9, 5, 0), 633, datetime.timedelta(0, 14400)],\n",
       " [datetime.datetime(2015, 6, 9, 9, 0), 391, datetime.timedelta(0, 14400)],\n",
       " [datetime.datetime(2015, 6, 9, 13, 0), 352, datetime.timedelta(0, 14400)],\n",
       " [datetime.datetime(2015, 6, 9, 17, 0), 255, datetime.timedelta(0, 14400)],\n",
       " [datetime.datetime(2015, 6, 9, 21, 0), 75, datetime.timedelta(0, 14400)],\n",
       " [datetime.datetime(2015, 6, 10, 1, 0), 17, datetime.timedelta(0, 14400)],\n",
       " [datetime.datetime(2015, 6, 10, 5, 0), 638, datetime.timedelta(0, 14400)],\n",
       " [datetime.datetime(2015, 6, 10, 9, 0), 88, datetime.timedelta(0, 14400)],\n",
       " [datetime.datetime(2015, 6, 10, 13, 0), 344, datetime.timedelta(0, 14400)],\n",
       " [datetime.datetime(2015, 6, 10, 17, 0), 279, datetime.timedelta(0, 14400)],\n",
       " [datetime.datetime(2015, 6, 10, 21, 0), 62, datetime.timedelta(0, 14400)],\n",
       " [datetime.datetime(2015, 6, 11, 1, 0), 16, datetime.timedelta(0, 14400)],\n",
       " [datetime.datetime(2015, 6, 11, 5, 0), 617, datetime.timedelta(0, 14400)],\n",
       " [datetime.datetime(2015, 6, 11, 9, 0), 410, datetime.timedelta(0, 14400)],\n",
       " [datetime.datetime(2015, 6, 11, 13, 0), 341, datetime.timedelta(0, 14400)],\n",
       " [datetime.datetime(2015, 6, 11, 17, 0), 267, datetime.timedelta(0, 14400)],\n",
       " [datetime.datetime(2015, 6, 11, 21, 0), 72, datetime.timedelta(0, 14400)],\n",
       " [datetime.datetime(2015, 6, 12, 1, 0), 12, datetime.timedelta(0, 14400)],\n",
       " [datetime.datetime(2015, 6, 12, 5, 0), 570, datetime.timedelta(0, 14400)],\n",
       " [datetime.datetime(2015, 6, 12, 9, 0), 406, datetime.timedelta(0, 14400)],\n",
       " [datetime.datetime(2015, 6, 12, 13, 0), 358, datetime.timedelta(0, 14400)],\n",
       " [datetime.datetime(2015, 6, 12, 17, 0), 319, datetime.timedelta(0, 14400)],\n",
       " [datetime.datetime(2015, 6, 12, 21, 0),\n",
       "  -22323,\n",
       "  datetime.timedelta(-14, 14400)],\n",
       " [datetime.datetime(2015, 5, 30, 1, 0), 40, datetime.timedelta(0, 14400)],\n",
       " [datetime.datetime(2015, 5, 30, 5, 0), 321, datetime.timedelta(0, 14400)],\n",
       " [datetime.datetime(2015, 5, 30, 9, 0), 607, datetime.timedelta(0, 14400)],\n",
       " [datetime.datetime(2015, 5, 30, 13, 0), 607, datetime.timedelta(0, 14400)],\n",
       " [datetime.datetime(2015, 5, 30, 17, 0), 411, datetime.timedelta(0, 14400)],\n",
       " [datetime.datetime(2015, 5, 30, 21, 0), 187, datetime.timedelta(0, 14400)],\n",
       " [datetime.datetime(2015, 5, 31, 1, 0), 37, datetime.timedelta(0, 14400)],\n",
       " [datetime.datetime(2015, 5, 31, 5, 0), 182, datetime.timedelta(0, 14400)],\n",
       " [datetime.datetime(2015, 5, 31, 9, 0), 496, datetime.timedelta(0, 14400)],\n",
       " [datetime.datetime(2015, 5, 31, 13, 0), 427, datetime.timedelta(0, 14400)],\n",
       " [datetime.datetime(2015, 5, 31, 17, 0), 227, datetime.timedelta(0, 14400)],\n",
       " [datetime.datetime(2015, 5, 31, 21, 0), 94, datetime.timedelta(0, 14400)],\n",
       " [datetime.datetime(2015, 6, 1, 1, 0), 27, datetime.timedelta(0, 14400)],\n",
       " [datetime.datetime(2015, 6, 1, 5, 0), 563, datetime.timedelta(0, 14400)],\n",
       " [datetime.datetime(2015, 6, 1, 9, 0), 392, datetime.timedelta(0, 14400)],\n",
       " [datetime.datetime(2015, 6, 1, 13, 0), 315, datetime.timedelta(0, 14400)],\n",
       " [datetime.datetime(2015, 6, 1, 17, 0), 211, datetime.timedelta(0, 14400)],\n",
       " [datetime.datetime(2015, 6, 1, 21, 0), 54, datetime.timedelta(0, 14400)],\n",
       " [datetime.datetime(2015, 6, 2, 1, 0), 12, datetime.timedelta(0, 14400)],\n",
       " [datetime.datetime(2015, 6, 2, 5, 0), 603, datetime.timedelta(0, 14400)],\n",
       " [datetime.datetime(2015, 6, 2, 9, 0), 398, datetime.timedelta(0, 14400)],\n",
       " [datetime.datetime(2015, 6, 2, 13, 0), 357, datetime.timedelta(0, 14400)],\n",
       " [datetime.datetime(2015, 6, 2, 17, 0), 253, datetime.timedelta(0, 14400)],\n",
       " [datetime.datetime(2015, 6, 2, 21, 0), 50, datetime.timedelta(0, 14400)],\n",
       " [datetime.datetime(2015, 6, 3, 1, 0), 16, datetime.timedelta(0, 14400)],\n",
       " [datetime.datetime(2015, 6, 3, 5, 0), 621, datetime.timedelta(0, 14400)],\n",
       " [datetime.datetime(2015, 6, 3, 9, 0), 417, datetime.timedelta(0, 14400)],\n",
       " [datetime.datetime(2015, 6, 3, 13, 0), 347, datetime.timedelta(0, 14400)],\n",
       " [datetime.datetime(2015, 6, 3, 17, 0), 262, datetime.timedelta(0, 14400)],\n",
       " [datetime.datetime(2015, 6, 3, 21, 0), 59, datetime.timedelta(0, 14400)],\n",
       " [datetime.datetime(2015, 6, 4, 1, 0), 19, datetime.timedelta(0, 14400)],\n",
       " [datetime.datetime(2015, 6, 4, 5, 0), 536, datetime.timedelta(0, 14400)],\n",
       " [datetime.datetime(2015, 6, 4, 9, 0), 397, datetime.timedelta(0, 14400)],\n",
       " [datetime.datetime(2015, 6, 4, 13, 0), 350, datetime.timedelta(0, 14400)],\n",
       " [datetime.datetime(2015, 6, 4, 17, 0), 260, datetime.timedelta(0, 14400)],\n",
       " [datetime.datetime(2015, 6, 4, 21, 0), 56, datetime.timedelta(0, 14400)],\n",
       " [datetime.datetime(2015, 6, 5, 1, 0), 12, datetime.timedelta(0, 14400)],\n",
       " [datetime.datetime(2015, 6, 5, 5, 0), 585, datetime.timedelta(0, 14400)],\n",
       " [datetime.datetime(2015, 6, 5, 9, 0), 411, datetime.timedelta(0, 14400)],\n",
       " [datetime.datetime(2015, 6, 5, 13, 0), 378, datetime.timedelta(0, 14400)],\n",
       " [datetime.datetime(2015, 6, 5, 17, 0), 290, datetime.timedelta(0, 14400)]]"
      ]
     },
     "execution_count": 238,
     "metadata": {},
     "output_type": "execute_result"
    }
   ],
   "source": [
    "datetime_count_times['N009', 'R174', '01-00-02', '181 ST']"
   ]
  },
  {
   "cell_type": "code",
   "execution_count": 239,
   "metadata": {
    "collapsed": false
   },
   "outputs": [
    {
     "name": "stdout",
     "output_type": "stream",
     "text": [
      "[225056, 241641, 359345, 359683, 377252, 378073, 445150, 490424, 490525, 531430, 540997, 548566, 548684, 574928, 887474, 943123, 1266437, 1499315, 1499522, 1519538, 1712377, 1712828, 1954557, 2153863, 2447603, 2633448, 3412201, 3412202, 4223589, 4223668, 7395381, 7395428, 7666362, 8545675, 8548263, 8647553, 13556075, 13556890, 33554471, 50331648, 83614107, 117440499, 134217727, 451130778, 1208443897, 1541995760, 1654386201, 1654386270, 1981612044, 1981612056]\n"
     ]
    }
   ],
   "source": [
    "all_counts = [count for rows in datetime_count_times.values() for _, count, _ in rows]\n",
    "all_counts.sort()\n",
    "print(all_counts[-50:])"
   ]
  },
  {
   "cell_type": "code",
   "execution_count": 240,
   "metadata": {
    "collapsed": false
   },
   "outputs": [
    {
     "name": "stdout",
     "output_type": "stream",
     "text": [
      "[(4.0, 691878), (4.2, 41954), (-332.0, 12660), (8.0, 812), (4.433333333333334, 701), (0.02222222222222222, 193), (0.022500000000000003, 111), (0.02277777777777778, 106), (-331.8, 106), (-332.03333333333336, 83)]\n"
     ]
    }
   ],
   "source": [
    "all_times = [duration.total_seconds() / 60 / 60\n",
    "             for rows in datetime_count_times.values()\n",
    "             for _, _, duration in rows]\n",
    "print(Counter(all_times).most_common(10))"
   ]
  },
  {
   "cell_type": "code",
   "execution_count": 241,
   "metadata": {
    "collapsed": true
   },
   "outputs": [],
   "source": [
    "datetime_counts = {turnstile: [(time, count)\n",
    "                               for (time, count, _) in rows\n",
    "                               if 0 <= count <= 5000]\n",
    "                   for turnstile, rows in datetime_count_times.items()}"
   ]
  },
  {
   "cell_type": "markdown",
   "metadata": {},
   "source": [
    "`datetime_counts` is a solution to Challenge 2."
   ]
  },
  {
   "cell_type": "markdown",
   "metadata": {},
   "source": [
    "### Challenge 3"
   ]
  },
  {
   "cell_type": "code",
   "execution_count": 243,
   "metadata": {
    "collapsed": true
   },
   "outputs": [],
   "source": [
    "day_counts = {}\n",
    "for turnstile, rows in datetime_counts.items():\n",
    "    by_day = {}\n",
    "    for time, count in rows:\n",
    "        day = time.date()\n",
    "        by_day[day] = by_day.get(day, 0) + count\n",
    "    day_counts[turnstile] = sorted(by_day.items())"
   ]
  },
  {
   "cell_type": "code",
   "execution_count": 244,
   "metadata": {
    "collapsed": false
   },
   "outputs": [
    {
     "data": {
      "text/plain": [
       "[(datetime.date(2015, 5, 30), 2173),\n",
       " (datetime.date(2015, 5, 31), 1463),\n",
       " (datetime.date(2015, 6, 1), 1562),\n",
       " (datetime.date(2015, 6, 2), 1673),\n",
       " (datetime.date(2015, 6, 3), 1722),\n",
       " (datetime.date(2015, 6, 4), 1618),\n",
       " (datetime.date(2015, 6, 5), 1676),\n",
       " (datetime.date(2015, 6, 6), 1227),\n",
       " (datetime.date(2015, 6, 7), 994),\n",
       " (datetime.date(2015, 6, 8), 1562),\n",
       " (datetime.date(2015, 6, 9), 1719),\n",
       " (datetime.date(2015, 6, 10), 1428),\n",
       " (datetime.date(2015, 6, 11), 1723),\n",
       " (datetime.date(2015, 6, 12), 1665),\n",
       " (datetime.date(2015, 6, 13), 1297),\n",
       " (datetime.date(2015, 6, 14), 1032),\n",
       " (datetime.date(2015, 6, 15), 1607),\n",
       " (datetime.date(2015, 6, 16), 1696),\n",
       " (datetime.date(2015, 6, 17), 1770),\n",
       " (datetime.date(2015, 6, 18), 1691),\n",
       " (datetime.date(2015, 6, 19), 1656),\n",
       " (datetime.date(2015, 6, 20), 1236),\n",
       " (datetime.date(2015, 6, 21), 967),\n",
       " (datetime.date(2015, 6, 22), 1624),\n",
       " (datetime.date(2015, 6, 23), 1691),\n",
       " (datetime.date(2015, 6, 24), 1755),\n",
       " (datetime.date(2015, 6, 25), 1752),\n",
       " (datetime.date(2015, 6, 26), 1623)]"
      ]
     },
     "execution_count": 244,
     "metadata": {},
     "output_type": "execute_result"
    }
   ],
   "source": [
    "day_counts['N009', 'R174', '01-00-02', '181 ST']"
   ]
  },
  {
   "cell_type": "markdown",
   "metadata": {},
   "source": [
    "`day_counts` is a solution to Challenge 3."
   ]
  },
  {
   "cell_type": "markdown",
   "metadata": {},
   "source": [
    "### Challenge 4"
   ]
  },
  {
   "cell_type": "code",
   "execution_count": 245,
   "metadata": {
    "collapsed": false
   },
   "outputs": [],
   "source": [
    "import matplotlib.pyplot as plt\n",
    "% matplotlib inline\n"
   ]
  },
  {
   "cell_type": "code",
   "execution_count": 263,
   "metadata": {
    "collapsed": false,
    "scrolled": true
   },
   "outputs": [],
   "source": [
    "dates_counts = day_counts['N009', 'R174', '01-00-02', '181 ST']\n",
    "\n",
    "dates = [date for date, count in dates_counts]\n",
    "counts = [count for date, count in dates_counts]"
   ]
  },
  {
   "cell_type": "code",
   "execution_count": 264,
   "metadata": {
    "collapsed": false
   },
   "outputs": [
    {
     "data": {
      "text/plain": [
       "<matplotlib.text.Text at 0x152a107f0>"
      ]
     },
     "execution_count": 264,
     "metadata": {},
     "output_type": "execute_result"
    },
    {
     "data": {
      "image/png": "[encoded data removed]",
      "text/plain": [
       "<matplotlib.figure.Figure at 0x1c2ca4a20>"
      ]
     },
     "metadata": {},
     "output_type": "display_data"
    }
   ],
   "source": [
    "plt.figure(figsize=(10,3))\n",
    "plt.plot(dates,counts)\n",
    "plt.ylabel('Riders')\n",
    "plt.title('Turnstile: N009, R174, 01-00-02, 181 ST')"
   ]
  },
  {
   "cell_type": "markdown",
   "metadata": {},
   "source": [
    "Plot above is the solution to Challenge 4."
   ]
  },
  {
   "cell_type": "markdown",
   "metadata": {},
   "source": [
    "### Challenge 5"
   ]
  },
  {
   "cell_type": "markdown",
   "metadata": {},
   "source": [
    "'C/A', 'UNIT', 'SCP', 'STATION',"
   ]
  },
  {
   "cell_type": "code",
   "execution_count": 248,
   "metadata": {
    "collapsed": false
   },
   "outputs": [],
   "source": [
    "combo_counts = {}\n",
    "for turnstile, rows in day_counts.items():\n",
    "    combo = turnstile[0], turnstile[1], turnstile[3]\n",
    "    by_date = {}\n",
    "    combo_counts.setdefault(combo, []).append(rows)"
   ]
  },
  {
   "cell_type": "code",
   "execution_count": 249,
   "metadata": {
    "collapsed": false
   },
   "outputs": [
    {
     "data": {
      "text/plain": [
       "[(datetime.date(2015, 5, 30), 11239),\n",
       " (datetime.date(2015, 5, 31), 8653),\n",
       " (datetime.date(2015, 6, 1), 17095),\n",
       " (datetime.date(2015, 6, 2), 18366),\n",
       " (datetime.date(2015, 6, 3), 18934),\n",
       " (datetime.date(2015, 6, 4), 19045),\n",
       " (datetime.date(2015, 6, 5), 15728),\n",
       " (datetime.date(2015, 6, 6), 12239),\n",
       " (datetime.date(2015, 6, 7), 9980),\n",
       " (datetime.date(2015, 6, 8), 17753),\n",
       " (datetime.date(2015, 6, 9), 18594),\n",
       " (datetime.date(2015, 6, 10), 18875),\n",
       " (datetime.date(2015, 6, 11), 19035),\n",
       " (datetime.date(2015, 6, 12), 15673),\n",
       " (datetime.date(2015, 6, 13), 10649),\n",
       " (datetime.date(2015, 6, 14), 8675),\n",
       " (datetime.date(2015, 6, 15), 17383),\n",
       " (datetime.date(2015, 6, 16), 18173),\n",
       " (datetime.date(2015, 6, 17), 18378),\n",
       " (datetime.date(2015, 6, 18), 18951),\n",
       " (datetime.date(2015, 6, 19), 15363),\n",
       " (datetime.date(2015, 6, 20), 10606),\n",
       " (datetime.date(2015, 6, 21), 7952),\n",
       " (datetime.date(2015, 6, 22), 17199),\n",
       " (datetime.date(2015, 6, 23), 18000),\n",
       " (datetime.date(2015, 6, 24), 18585),\n",
       " (datetime.date(2015, 6, 25), 18664),\n",
       " (datetime.date(2015, 6, 26), 15392)]"
      ]
     },
     "execution_count": 249,
     "metadata": {},
     "output_type": "execute_result"
    }
   ],
   "source": [
    "from itertools import chain\n",
    "\n",
    "combo_day_counts = {}\n",
    "for combo, rows in combo_counts.items():\n",
    "    rows = list(chain.from_iterable(rows))\n",
    "    \n",
    "    by_day = {}\n",
    "    for date, count in rows:\n",
    "        by_day[date] = by_day.get(date, 0) + count\n",
    "    combo_day_counts[combo] = sorted(by_day.items())\n",
    "    \n",
    "combo_day_counts['A002', 'R051', 'LEXINGTON AVE']"
   ]
  },
  {
   "cell_type": "markdown",
   "metadata": {},
   "source": [
    "### Challenge 6"
   ]
  },
  {
   "cell_type": "code",
   "execution_count": 250,
   "metadata": {
    "collapsed": false
   },
   "outputs": [],
   "source": [
    "station_counts = {}\n",
    "for combo, rows in combo_day_counts.items():\n",
    "    station = combo[2]\n",
    "    by_date = {}\n",
    "    station_counts.setdefault(station, []).append(rows)"
   ]
  },
  {
   "cell_type": "code",
   "execution_count": 251,
   "metadata": {
    "collapsed": false
   },
   "outputs": [
    {
     "data": {
      "text/plain": [
       "[(datetime.date(2015, 5, 30), 52845),\n",
       " (datetime.date(2015, 5, 31), 38849),\n",
       " (datetime.date(2015, 6, 1), 76843),\n",
       " (datetime.date(2015, 6, 2), 78080),\n",
       " (datetime.date(2015, 6, 3), 82799),\n",
       " (datetime.date(2015, 6, 4), 79128),\n",
       " (datetime.date(2015, 6, 5), 75035),\n",
       " (datetime.date(2015, 6, 6), 70394),\n",
       " (datetime.date(2015, 6, 7), 60265),\n",
       " (datetime.date(2015, 6, 8), 77649),\n",
       " (datetime.date(2015, 6, 9), 79321),\n",
       " (datetime.date(2015, 6, 10), 82820),\n",
       " (datetime.date(2015, 6, 11), 81880),\n",
       " (datetime.date(2015, 6, 12), 73662),\n",
       " (datetime.date(2015, 6, 13), 61116),\n",
       " (datetime.date(2015, 6, 14), 46465),\n",
       " (datetime.date(2015, 6, 15), 74532),\n",
       " (datetime.date(2015, 6, 16), 77620),\n",
       " (datetime.date(2015, 6, 17), 81715),\n",
       " (datetime.date(2015, 6, 18), 78069),\n",
       " (datetime.date(2015, 6, 19), 72092),\n",
       " (datetime.date(2015, 6, 20), 55677),\n",
       " (datetime.date(2015, 6, 21), 45258),\n",
       " (datetime.date(2015, 6, 22), 76930),\n",
       " (datetime.date(2015, 6, 23), 75962),\n",
       " (datetime.date(2015, 6, 24), 79953),\n",
       " (datetime.date(2015, 6, 25), 79060),\n",
       " (datetime.date(2015, 6, 26), 71178)]"
      ]
     },
     "execution_count": 251,
     "metadata": {},
     "output_type": "execute_result"
    }
   ],
   "source": [
    "station_day_counts = {}\n",
    "for station, rows in station_counts.items():\n",
    "    rows = list(chain.from_iterable(rows))\n",
    "    \n",
    "    by_day = {}\n",
    "    for date, count in rows:\n",
    "        by_day[date] = by_day.get(date, 0) + count\n",
    "    station_day_counts[station] = sorted(by_day.items())\n",
    "    \n",
    "station_day_counts['125 ST']"
   ]
  },
  {
   "cell_type": "markdown",
   "metadata": {},
   "source": [
    "### Challenge 7"
   ]
  },
  {
   "cell_type": "code",
   "execution_count": 265,
   "metadata": {
    "collapsed": false
   },
   "outputs": [],
   "source": [
    "dates_counts = station_day_counts['181 ST']\n",
    "\n",
    "dates = [date for date, count in dates_counts]\n",
    "counts = [count for date, count in dates_counts]"
   ]
  },
  {
   "cell_type": "code",
   "execution_count": 296,
   "metadata": {
    "collapsed": false
   },
   "outputs": [
    {
     "data": {
      "text/plain": [
       "<matplotlib.text.Text at 0x1b736d0b8>"
      ]
     },
     "execution_count": 296,
     "metadata": {},
     "output_type": "execute_result"
    },
    {
     "data": {
      "text/plain": [
       "<matplotlib.figure.Figure at 0x1bb8b29b0>"
      ]
     },
     "metadata": {},
     "output_type": "display_data"
    },
    {
     "data": {
      "image/png": "[encoded data removed]",
      "text/plain": [
       "<matplotlib.figure.Figure at 0x1bb8b27b8>"
      ]
     },
     "metadata": {},
     "output_type": "display_data"
    }
   ],
   "source": [
    "plt.figure(figsize=(10,3))\n",
    "plt.figure(figsize=(10,3))\n",
    "plt.plot(dates,counts)\n",
    "plt.ylabel('Riders')\n",
    "plt.title('Station: 181 ST')"
   ]
  },
  {
   "cell_type": "markdown",
   "metadata": {},
   "source": [
    "### Challenge 8"
   ]
  },
  {
   "cell_type": "code",
   "execution_count": 275,
   "metadata": {
    "collapsed": false
   },
   "outputs": [],
   "source": [
    "week1 = [count for date, count in dates_counts[:7]]\n",
    "week2 = [count for date, count in dates_counts[7:14]]\n",
    "week3 = [count for date, count in dates_counts[14:21]]\n",
    "week4 = [count for date, count in dates_counts[21:28]]"
   ]
  },
  {
   "cell_type": "code",
   "execution_count": 276,
   "metadata": {
    "collapsed": false
   },
   "outputs": [
    {
     "data": {
      "text/plain": [
       "[<matplotlib.lines.Line2D at 0x1b75a3f28>]"
      ]
     },
     "execution_count": 276,
     "metadata": {},
     "output_type": "execute_result"
    },
    {
     "data": {
      "image/png": "[encoded data removed]",
      "text/plain": [
       "<matplotlib.figure.Figure at 0x1b6b4ff28>"
      ]
     },
     "metadata": {},
     "output_type": "display_data"
    }
   ],
   "source": [
    "plt.plot(week1)\n",
    "plt.plot(week2)\n",
    "plt.plot(week3)\n",
    "plt.plot(week4)"
   ]
  },
  {
   "cell_type": "markdown",
   "metadata": {},
   "source": [
    "### Challenge 9"
   ]
  },
  {
   "cell_type": "code",
   "execution_count": 290,
   "metadata": {
    "collapsed": false
   },
   "outputs": [],
   "source": [
    "station_total = {}\n",
    "for station, rows in station_day_counts.items():\n",
    "    for date, count in rows:\n",
    "        station_total[station] = station_total.get(station, 0) + count"
   ]
  },
  {
   "cell_type": "code",
   "execution_count": 291,
   "metadata": {
    "collapsed": false
   },
   "outputs": [],
   "source": [
    "import operator\n",
    "station_total_order = sorted(station_total.items(), key=operator.itemgetter(1), \n",
    "                       reverse = True)"
   ]
  },
  {
   "cell_type": "code",
   "execution_count": 292,
   "metadata": {
    "collapsed": false
   },
   "outputs": [
    {
     "data": {
      "text/plain": [
       "[('34 ST-PENN STA', 4365976),\n",
       " ('42 ST-GRD CNTRL', 3794145),\n",
       " ('34 ST-HERALD SQ', 2981461),\n",
       " ('86 ST', 2822514),\n",
       " ('14 ST-UNION SQ', 2782367),\n",
       " ('42 ST-TIMES SQ', 2558214),\n",
       " ('42 ST-PA BUS TE', 2386883),\n",
       " ('96 ST', 2033951),\n",
       " ('125 ST', 1985197),\n",
       " ('FULTON ST', 1890881)]"
      ]
     },
     "execution_count": 292,
     "metadata": {},
     "output_type": "execute_result"
    }
   ],
   "source": [
    "station_total_order[:10]"
   ]
  },
  {
   "cell_type": "markdown",
   "metadata": {},
   "source": [
    "### Challenge 10"
   ]
  },
  {
   "cell_type": "code",
   "execution_count": 293,
   "metadata": {
    "collapsed": false
   },
   "outputs": [],
   "source": [
    "total_ridership_counts = [count for station, count in station_total.items()]"
   ]
  },
  {
   "cell_type": "code",
   "execution_count": 295,
   "metadata": {
    "collapsed": false
   },
   "outputs": [
    {
     "data": {
      "text/plain": [
       "(array([ 299.,   49.,   19.,    5.,    5.,    2.,    3.,    0.,    1.,    1.]),\n",
       " array([  3.78100000e+03,   4.40000500e+05,   8.76220000e+05,\n",
       "          1.31243950e+06,   1.74865900e+06,   2.18487850e+06,\n",
       "          2.62109800e+06,   3.05731750e+06,   3.49353700e+06,\n",
       "          3.92975650e+06,   4.36597600e+06]),\n",
       " <a list of 10 Patch objects>)"
      ]
     },
     "execution_count": 295,
     "metadata": {},
     "output_type": "execute_result"
    },
    {
     "data": {
      "image/png": "[encoded data removed]",
      "text/plain": [
       "<matplotlib.figure.Figure at 0x1b70eee10>"
      ]
     },
     "metadata": {},
     "output_type": "display_data"
    }
   ],
   "source": [
    "plt.figure(figsize=(10,3))\n",
    "plt.hist(total_ridership_counts)"
   ]
  }
 ],
 "metadata": {
  "kernelspec": {
   "display_name": "Python 3",
   "language": "python",
   "name": "python3"
  },
  "language_info": {
   "codemirror_mode": {
    "name": "ipython",
    "version": 3
   },
   "file_extension": ".py",
   "mimetype": "text/x-python",
   "name": "python",
   "nbconvert_exporter": "python",
   "pygments_lexer": "ipython3",
   "version": "3.5.1"
  }
 },
 "nbformat": 4,
 "nbformat_minor": 0
}
