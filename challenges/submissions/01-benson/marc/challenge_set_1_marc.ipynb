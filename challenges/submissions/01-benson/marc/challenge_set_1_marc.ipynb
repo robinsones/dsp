{
 "cells": [
  {
   "cell_type": "markdown",
   "metadata": {},
   "source": [
    "### Challenge Set 1\n",
    "\n",
    "### Topic:   Explore MTA turnstile data   \n",
    "#### Date:    7/7/2016   \n",
    "#### Name:    Marc Gameroff"
   ]
  },
  {
   "cell_type": "markdown",
   "metadata": {},
   "source": [
    "# Challenge 1"
   ]
  },
  {
   "cell_type": "code",
   "execution_count": 1,
   "metadata": {
    "collapsed": false
   },
   "outputs": [
    {
     "name": "stdout",
     "output_type": "stream",
     "text": [
      "  % Total    % Received % Xferd  Average Speed   Time    Time     Time  Current\n",
      "                                 Dload  Upload   Total   Spent    Left  Speed\n",
      "100 24.2M    0 24.2M    0     0  2580k      0 --:--:--  0:00:09 --:--:--  671k\n"
     ]
    }
   ],
   "source": [
    "!curl -O http://web.mta.info/developers/data/nyct/turnstile/turnstile_160611.txt"
   ]
  },
  {
   "cell_type": "code",
   "execution_count": 1,
   "metadata": {
    "collapsed": false
   },
   "outputs": [],
   "source": [
    "import csv, itertools, pprint\n",
    "from dateutil import parser\n",
    "\n",
    "input_file = csv.DictReader(open(\"turnstile_160611.txt\"))\n",
    "rawdict = {}\n",
    "\n",
    "for row in input_file:\n",
    "    # Extract last name to use as key\n",
    "    key = (row['C/A'], row['UNIT'], row['SCP'], row['STATION']) \n",
    "    # delete spaces in final column name\n",
    "    row['EXITS'] = row['EXITS                                                               ']\n",
    "    # Add key and value pairs to dictionary\n",
    "    if key not in rawdict:\n",
    "        rawdict[key] = []\n",
    "    rawdict[key].append([row['LINENAME'], row['DIVISION'], row['DATE'], row['TIME'],\n",
    "                        row['DESC'], row['ENTRIES'], row['EXITS'].strip()])\n"
   ]
  },
  {
   "cell_type": "markdown",
   "metadata": {},
   "source": [
    "```rawdict``` is a solution to Challenge 1."
   ]
  },
  {
   "cell_type": "code",
   "execution_count": 2,
   "metadata": {
    "collapsed": false
   },
   "outputs": [
    {
     "name": "stdout",
     "output_type": "stream",
     "text": [
      "('A002', 'R051', '02-00-00', '59 ST') :\n",
      "    ['NQR456', 'BMT', '06/04/2016', '00:00:00', 'REGULAR', '0005692587', '0001927326']\n",
      "    ['NQR456', 'BMT', '06/04/2016', '04:00:00', 'REGULAR', '0005692650', '0001927338']\n",
      "    ['NQR456', 'BMT', '06/04/2016', '08:00:00', 'REGULAR', '0005692683', '0001927379']\n",
      "    ['NQR456', 'BMT', '06/04/2016', '12:00:00', 'REGULAR', '0005692790', '0001927500']\n",
      "    ['NQR456', 'BMT', '06/04/2016', '16:00:00', 'REGULAR', '0005693055', '0001927552']\n"
     ]
    }
   ],
   "source": [
    "# Print the very beginning of the rawdict dictionary\n",
    "for key in sorted(rawdict)[:1]:\n",
    "    print (key, ':')\n",
    "    for value in rawdict[key][:5]:\n",
    "        print (' '*3, value)"
   ]
  },
  {
   "cell_type": "markdown",
   "metadata": {},
   "source": [
    "# Challenge 2"
   ]
  },
  {
   "cell_type": "code",
   "execution_count": 3,
   "metadata": {
    "collapsed": false
   },
   "outputs": [],
   "source": [
    "import csv, itertools, pprint\n",
    "from dateutil import parser\n",
    "\n",
    "input_file = csv.DictReader(open(\"turnstile_160611.txt\"))\n",
    "time_series = {}\n",
    "\n",
    "for row in input_file:\n",
    "    # Extract last name to use as key\n",
    "    key = (row['C/A'], row['UNIT'], row['SCP'], row['STATION'])  \n",
    "    row['entries_n'] = int(row['ENTRIES'])\n",
    "    # Add key and value pairs to dictionary\n",
    "    if key not in time_series:\n",
    "        time_series[key] = []\n",
    "    dateString = row['DATE'] + \" \" + row['TIME']  \n",
    "    dateObj = parser.parse(dateString)  \n",
    "    time_series[key].append([dateObj, row['entries_n']])  "
   ]
  },
  {
   "cell_type": "markdown",
   "metadata": {},
   "source": [
    "```time_series``` is a solution to Challenge 2."
   ]
  },
  {
   "cell_type": "code",
   "execution_count": 4,
   "metadata": {
    "collapsed": false
   },
   "outputs": [
    {
     "name": "stdout",
     "output_type": "stream",
     "text": [
      "('A002', 'R051', '02-00-00', '59 ST') :\n",
      "    [datetime.datetime(2016, 6, 4, 0, 0), 5692587]\n",
      "    [datetime.datetime(2016, 6, 4, 4, 0), 5692650]\n",
      "    [datetime.datetime(2016, 6, 4, 8, 0), 5692683]\n",
      "('A002', 'R051', '02-00-01', '59 ST') :\n",
      "    [datetime.datetime(2016, 6, 4, 0, 0), 5222784]\n",
      "    [datetime.datetime(2016, 6, 4, 4, 0), 5222817]\n",
      "    [datetime.datetime(2016, 6, 4, 8, 0), 5222840]\n"
     ]
    }
   ],
   "source": [
    "#### Print the first two elements (just a few values per key)\n",
    "for key in sorted(time_series)[:2]:\n",
    "    print (key, ':')\n",
    "    for value in time_series[key][:3]:\n",
    "        print (' '*3, value)"
   ]
  },
  {
   "cell_type": "markdown",
   "metadata": {
    "collapsed": false
   },
   "source": [
    "# Challenge 3"
   ]
  },
  {
   "cell_type": "markdown",
   "metadata": {
    "collapsed": true
   },
   "source": [
    "At this point, the values for each key (i.e., turnstile) in ```time_series``` shows cumulative turnstile entries at 4-hour intervals. "
   ]
  },
  {
   "cell_type": "markdown",
   "metadata": {
    "collapsed": true
   },
   "source": [
    "7/11/16\n",
    "\n",
    "Hi Reshama,\n",
    "I ran into problems with #3 and met with Mike last week about it. My first problem was figuring out how to collapse and sum the elements belonging to a single day. He reminded me of setdefault() as a way to build up the new keys, something like this:\n",
    "\n",
    "```python\n",
    "count_per_date = {}\n",
    "for date_hour_count in one_turnstile_date_hour_values: # for list in list_of_lists\n",
    "    date_, entries = date_hour_count[0].date(), date_hour_count[1]  \n",
    "    # sum the counts for each date\n",
    "    count_per_date[date_] = count_per_date.setdefault(date_, 0) + entries\n",
    "```\n",
    "\n",
    "That evening, I redid the code we worked on to not use setdefault() because I was having trouble again figuring out what the code was doing, just like how I tend to still use nested for loops instead of comprehensions because I'm not solid enough on what's going on under the hood, and for loops are easier to apprehend. (I have time to become a comprehension master later.)  After much trial and error, I was able to accomplish the date collapsing and sorting, leaving the issue of counts for later. While the following is probably as un-Pythonic as it comes, at least I figured out part of it. \n",
    "\n",
    "```python\n",
    "d_final = {}\n",
    "for old_key, old_value in time_series.items():\n",
    "    d = {}\n",
    "    for lst in old_value:\n",
    "        new_key = lst[0].date()\n",
    "        new_value = lst[1]\n",
    "        if new_key not in d:\n",
    "            d[new_key] = 0\n",
    "        d[new_key] = d[new_key] + new_value\n",
    "        d2 = sorted(d)\n",
    "    #print(d)\n",
    "    d_final[old_key] = d2;\n",
    "```  \n",
    "('N063', 'R011', '02-00-00', '42 ST-PORT AUTH') : [datetime.date(2016, 6, 4), datetime.date(2016, 6, 5), datetime.date(2016, 6, 6), datetime.date(2016, 6, 7), datetime.date(2016, 6, 8), datetime.date(2016, 6, 9), datetime.date(2016, 6, 10)]\n",
    "('R421', 'R427', '00-06-01', 'MIDDLETOWN RD') : [datetime.date(2016, 6, 4), datetime.date(2016, 6, 5), datetime.date(2016, 6, 6), datetime.date(2016, 6, 7), datetime.date(2016, 6, 8), datetime.date(2016, 6, 9), datetime.date(2016, 6, 10)]\n",
    "\n",
    "\n",
    "### I intend to figure out all of #3 with some more help, and then do no. 4 and on, which somehow don't look as challenging to me. \n",
    "\n",
    "Note: I thought I'd learn more if I figured this out on my own but I learned my lesson: it doesn't speed/enhance my learning to spend so long on something if it means other assignments have to suffer. When I'm really stuck on something, getting help and tips EARLY and _then_ trying to go it alone, will likely work better for me from now on. (Sounds obvious now, but it wasn't.)"
   ]
  },
  {
   "cell_type": "markdown",
   "metadata": {},
   "source": [
    "## Everything below is just snippets, not part of this homework submission, but I wanted to show some of the things I was trying to do to help myself understand things.\n"
   ]
  },
  {
   "cell_type": "markdown",
   "metadata": {
    "collapsed": true
   },
   "source": [
    "\n",
    "\n",
    "```python\n",
    "d = {\"first_name\": \"Alfred\", \"last_name\":\"Hitchcock\"}\n",
    "\n",
    "for key,val in d.items():\n",
    "    print(\"{} = {}\".format(key, val))\n",
    "```\n",
    "\n",
    "    last_name = Hitchcock\n",
    "    first_name = Alfred\n",
    "\n",
    "\n",
    "\n",
    "```python\n",
    "s = [('yellow', 1), ('blue', 2), ('yellow', 3), ('blue', 4), ('red', 1)]\n",
    "d = defaultdict(list)\n",
    "for k, v in s:\n",
    "    d[k].append(v)\n",
    "\n",
    "list(d.items())\n",
    "```\n",
    "\n",
    "\n",
    "```python\n",
    "from collections import defaultdict\n",
    "s = [('yellow', 1), ('blue', 2), ('yellow', 3), ('blue', 4), ('red', 1)]\n",
    "d = defaultdict(list)\n",
    "```\n",
    "\n",
    "\n",
    "```python\n",
    "tmp   = [['day1',4],\n",
    "         ['day2',5],\n",
    "         ['day3',34],\n",
    "         ['day2',32],\n",
    "         ['day1',2],\n",
    "         ['day3',1]]\n",
    "\n",
    "#want to end up with:\n",
    "#d = { 'aaa': 6,\n",
    "#      'bbb': 37\n",
    "#      'ccc': 35 }\n",
    "\n",
    "\n",
    "d = {}\n",
    "for lst in tmp:\n",
    "    key = lst[0]\n",
    "    value = lst[1]\n",
    "    if key not in d:\n",
    "        d[key] = 0\n",
    "    d[key] = d[key] + value \n",
    "```\n",
    "\n",
    "\n",
    "```python\n",
    "newkey = None\n",
    "d = None\n",
    "```\n",
    "\n",
    "\n",
    "```python\n",
    "\n",
    "```\n",
    "\n",
    "\n",
    "```python\n",
    "d_initial = { 'A' : [['day1',4],\n",
    "                     ['day2',5],\n",
    "                     ['day3',34],\n",
    "                     ['day2',32],\n",
    "                     ['day1',2],\n",
    "                     ['day3',1]],\n",
    "            'B' :   [['day1',40],\n",
    "                     ['day2',50],\n",
    "                     ['day3',340],\n",
    "                     ['day2',320],\n",
    "                     ['day1',20],\n",
    "                     ['day3',10]],\n",
    "            'C' :   [['day1',400],\n",
    "                     ['day2',500],\n",
    "                     ['day3',3400],\n",
    "                     ['day2',3200],\n",
    "                     ['day1',200],\n",
    "                     ['day3',100]] } \n",
    "```\n",
    "\n",
    "\n",
    "```python\n",
    "# i want to end up with this:\n",
    "\n",
    "d_final = {  'A' : [['day1',6],\n",
    "                    ['day2',37],\n",
    "                    ['day3',35]],\n",
    "             'B' : [['day1',60],\n",
    "                    ['day2',370],\n",
    "                    ['day3',350]],\n",
    "             'C' : [['day1',600],\n",
    "                    ['day2',3700],\n",
    "                    ['day3',3500]] }\n",
    "```\n",
    "\n",
    "\n"
   ]
  },
  {
   "cell_type": "markdown",
   "metadata": {
    "collapsed": true
   },
   "source": [
    "```python \n",
    "d = {\"first_name\": \"Alfred\", \"last_name\":\"Hitchcock\"}\n",
    "\n",
    "for key,val in d.items():\n",
    "    print(\"{} = {}\".format(key, val))\n",
    "```    \n",
    "first_name = Alfred\n",
    "last_name = Hitchcock"
   ]
  },
  {
   "cell_type": "markdown",
   "metadata": {
    "collapsed": true
   },
   "source": [
    "\n",
    "```python\n",
    "d_final = {}\n",
    "for k, v in d_initial.items():\n",
    "    for elem in v:\n",
    "        ddd = {}\n",
    "        newkey=elem[0]\n",
    "        num =elem[1]\n",
    "        if newkey not in ddd:\n",
    "            ddd[newkey] = 0\n",
    "        ddd[newkey] = ddd[newkey] + num\n",
    "        print(k, newkey, num)             \n",
    "```\n",
    "\n",
    "    C day1 400\n",
    "    C day2 500\n",
    "    C day3 3400\n",
    "    C day2 3200\n",
    "    C day1 200\n",
    "    C day3 100\n",
    "    A day1 4\n",
    "    A day2 5\n",
    "    A day3 34\n",
    "    A day2 32\n",
    "    A day1 2\n",
    "    A day3 1\n",
    "    B day1 40\n",
    "    B day2 50\n",
    "    B day3 340\n",
    "    B day2 320\n",
    "    B day1 20\n",
    "    B day3 10\n",
    "\n",
    "\n",
    "\n",
    "```python\n",
    "tmp =    {'A': [['aaa', 4],\n",
    "      ['bbb', 5],\n",
    "      ['ccc', 34],\n",
    "      ['bbb', 32],\n",
    "      ['aaa', 2],\n",
    "      ['ccc', 1]],\n",
    "     'B': [['aaa', 40],\n",
    "      ['bbb', 50],\n",
    "      ['ccc', 340],\n",
    "      ['bbb', 320],\n",
    "      ['aaa', 20],\n",
    "      ['ccc', 10]],\n",
    "     'C': [['aaa', 400],\n",
    "      ['bbb', 500],\n",
    "      ['ccc', 3400],\n",
    "      ['bbb', 3200],\n",
    "      ['aaa', 200],\n",
    "      ['ccc', 100]]}\n",
    "```\n"
   ]
  }
 ],
 "metadata": {
  "kernelspec": {
   "display_name": "Python 3",
   "language": "python",
   "name": "python3"
  },
  "language_info": {
   "codemirror_mode": {
    "name": "ipython",
    "version": 3
   },
   "file_extension": ".py",
   "mimetype": "text/x-python",
   "name": "python",
   "nbconvert_exporter": "python",
   "pygments_lexer": "ipython3",
   "version": "3.5.1"
  }
 },
 "nbformat": 4,
 "nbformat_minor": 0
}
