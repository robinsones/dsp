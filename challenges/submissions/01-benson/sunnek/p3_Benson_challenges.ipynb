{
 "cells": [
  {
   "cell_type": "code",
   "execution_count": 31,
   "metadata": {
    "collapsed": true
   },
   "outputs": [],
   "source": [
    "from __future__ import division\n",
    "import csv\n",
    "from datetime import datetime\n",
    "from collections import Counter, defaultdict\n",
    "import pprint\n",
    "import matplotlib.pyplot as plt\n",
    "import numpy as np\n",
    "%matplotlib inline"
   ]
  },
  {
   "cell_type": "code",
   "execution_count": 2,
   "metadata": {
    "collapsed": false
   },
   "outputs": [
    {
     "name": "stdout",
     "output_type": "stream",
     "text": [
      "  % Total    % Received % Xferd  Average Speed   Time    Time     Time  Current\n",
      "                                 Dload  Upload   Total   Spent    Left  Speed\n",
      "100 24.0M    0 24.0M    0     0  1151k      0 --:--:--  0:00:21 --:--:-- 1213k\n"
     ]
    }
   ],
   "source": [
    "!curl -O http://web.mta.info/developers/data/nyct/turnstile/turnstile_150627.txt"
   ]
  },
  {
   "cell_type": "code",
   "execution_count": 3,
   "metadata": {
    "collapsed": true
   },
   "outputs": [],
   "source": [
    "with open('turnstile_150627.txt') as f:\n",
    "    reader = csv.reader(f)\n",
    "    rows = [[cell.strip() for cell in row] for row in reader]"
   ]
  },
  {
   "cell_type": "code",
   "execution_count": 6,
   "metadata": {
    "collapsed": true
   },
   "outputs": [],
   "source": [
    "assert rows.pop(0) == ['C/A', 'UNIT', 'SCP', 'STATION', 'LINENAME',\n",
    "                       'DIVISION', 'DATE', 'TIME', 'DESC', 'ENTRIES',\n",
    "                       'EXITS']"
   ]
  },
  {
   "cell_type": "code",
   "execution_count": 7,
   "metadata": {
    "collapsed": true
   },
   "outputs": [],
   "source": [
    "raw_readings = {}\n",
    "for row in rows:\n",
    "    raw_readings.setdefault(tuple(row[:4]), []).append(tuple(row[4:]))"
   ]
  },
  {
   "cell_type": "code",
   "execution_count": 8,
   "metadata": {
    "collapsed": true
   },
   "outputs": [],
   "source": [
    "datetime_cumulative = {turnstile: [(datetime.strptime(date + time,\n",
    "                                                      '%m/%d/%Y%X'),\n",
    "                                    int(in_cumulative))\n",
    "                                   for _, _, date, time,\n",
    "                                       _, in_cumulative, _ in rows]\n",
    "                       for turnstile, rows in raw_readings.items()}"
   ]
  },
  {
   "cell_type": "code",
   "execution_count": 13,
   "metadata": {
    "collapsed": false
   },
   "outputs": [],
   "source": [
    "#print (datetime_cumulative.keys()[0])\n",
    "#datetime_cumulative[datetime_cumulative.keys()][0]"
   ]
  },
  {
   "cell_type": "code",
   "execution_count": 14,
   "metadata": {
    "collapsed": true
   },
   "outputs": [],
   "source": [
    "for rows in datetime_cumulative.values():\n",
    "    assert rows == sorted(rows)"
   ]
  },
  {
   "cell_type": "code",
   "execution_count": 15,
   "metadata": {
    "collapsed": true
   },
   "outputs": [
    {
     "data": {
      "text/plain": [
       "[(0, 3),\n",
       " (0, 4),\n",
       " (0, 5),\n",
       " (1, 3),\n",
       " (1, 4),\n",
       " (1, 5),\n",
       " (2, 3),\n",
       " (2, 4),\n",
       " (2, 5),\n",
       " (3, 3),\n",
       " (3, 4),\n",
       " (3, 5),\n",
       " (4, 3),\n",
       " (4, 4),\n",
       " (4, 5)]"
      ]
     },
     "execution_count": 15,
     "metadata": {},
     "output_type": "execute_result"
    }
   ],
   "source": [
    "[(i,j)   for i in range(5) for j in range(3,6)]"
   ]
  },
  {
   "cell_type": "code",
   "execution_count": 16,
   "metadata": {
    "collapsed": true
   },
   "outputs": [],
   "source": [
    "datetime_count_times = {turnstile: [[rows[i][0],\n",
    "                                     rows[i+1][1] - rows[i][1],\n",
    "                                     rows[i+1][0] - rows[i][0]]\n",
    "                                    for i in range(len(rows) - 1)]\n",
    "                        for turnstile, rows in datetime_cumulative.items()}"
   ]
  },
  {
   "cell_type": "code",
   "execution_count": 17,
   "metadata": {
    "collapsed": true
   },
   "outputs": [],
   "source": [
    "all_counts = [count for rows in datetime_count_times.values() for _, count, _ in rows]\n",
    "all_counts.sort()\n",
    "#print all_counts[-50:]"
   ]
  },
  {
   "cell_type": "code",
   "execution_count": 18,
   "metadata": {
    "collapsed": true
   },
   "outputs": [],
   "source": [
    "all_times = [duration.total_seconds() / 60 / 60\n",
    "             for rows in datetime_count_times.values()\n",
    "             for _, _, duration in rows]\n",
    "#print Counter(all_times).most_common(10)"
   ]
  },
  {
   "cell_type": "code",
   "execution_count": 19,
   "metadata": {
    "collapsed": true
   },
   "outputs": [],
   "source": [
    "dtc = {turnstile: [(time, count)\n",
    "                               for (time, count, _) in rows\n",
    "                               if 0 <= count <= 5000]\n",
    "                   for turnstile, rows in datetime_count_times.items()}"
   ]
  },
  {
   "cell_type": "code",
   "execution_count": 51,
   "metadata": {
    "collapsed": false
   },
   "outputs": [],
   "source": [
    "x_axis = []\n",
    "y_axis = []\n",
    "\n",
    "for k,v in enumerate(dtc.keys()):\n",
    "    if k == 0:\n",
    "        x_ax = sorted(dtc[v])\n",
    "    \n",
    "for i in range(len(x_ax)):\n",
    "    x_axis.append(x_ax[i][0])\n",
    "    y_axis.append(x_ax[i][1])"
   ]
  },
  {
   "cell_type": "code",
   "execution_count": 52,
   "metadata": {
    "collapsed": false
   },
   "outputs": [
    {
     "data": {
      "text/plain": [
       "<matplotlib.text.Text at 0x10fd944a8>"
      ]
     },
     "execution_count": 52,
     "metadata": {},
     "output_type": "execute_result"
    },
    {
     "data": {
      "image/png": "[encoded data removed]",
      "text/plain": [
       "<matplotlib.figure.Figure at 0x10fd5e3c8>"
      ]
     },
     "metadata": {},
     "output_type": "display_data"
    }
   ],
   "source": [
    "plt.figure(figsize=(10,3))\n",
    "plt.plot(x_axis, y_axis)\n",
    "plt.title('Turnstile Entry Time Series')\n",
    "plt.ylabel('Number of Entries')\n",
    "plt.xlabel('Date')"
   ]
  },
  {
   "cell_type": "code",
   "execution_count": 29,
   "metadata": {
    "collapsed": true
   },
   "outputs": [],
   "source": [
    "cnt_by_days = defaultdict(list)\n",
    "\n",
    "for key, values in dtc.items():\n",
    "        by_days = {}\n",
    "        for time, counts in values:\n",
    "            dates = time.date()\n",
    "            by_days[dates] = by_days.get(dates, 0) + counts\n",
    "        cnt_by_days[(key[0], key[1], key[3])] = sorted(by_days.items())"
   ]
  },
  {
   "cell_type": "code",
   "execution_count": 35,
   "metadata": {
    "collapsed": false
   },
   "outputs": [
    {
     "name": "stdout",
     "output_type": "stream",
     "text": [
      "('R238', 'R046', '42 ST-GRD CNTRL')\n",
      "[(datetime.date(2015, 6, 20), 804),\n",
      " (datetime.date(2015, 6, 21), 708),\n",
      " (datetime.date(2015, 6, 22), 2074),\n",
      " (datetime.date(2015, 6, 23), 2355),\n",
      " (datetime.date(2015, 6, 24), 2191),\n",
      " (datetime.date(2015, 6, 25), 2167),\n",
      " (datetime.date(2015, 6, 26), 1931)]\n"
     ]
    }
   ],
   "source": [
    "print(list(cnt_by_days.keys())[0])\n",
    "pprint.pprint(list(cnt_by_days.values())[0])"
   ]
  },
  {
   "cell_type": "code",
   "execution_count": 36,
   "metadata": {
    "collapsed": true
   },
   "outputs": [],
   "source": [
    "cnt_by_station = defaultdict(list)\n",
    "\n",
    "for key, values in dtc.items():\n",
    "    by_station = {}\n",
    "    for time, counts in values:      \n",
    "        dates = time.date()\n",
    "        by_station[dates] = by_station.get(dates, 0) + counts  \n",
    "    cnt_by_station[key[3]] = sorted(by_station.items())"
   ]
  },
  {
   "cell_type": "code",
   "execution_count": 49,
   "metadata": {
    "collapsed": false
   },
   "outputs": [
    {
     "name": "stdout",
     "output_type": "stream",
     "text": [
      "121 ST\n",
      "[(datetime.date(2015, 6, 20), 318),\n",
      " (datetime.date(2015, 6, 21), 235),\n",
      " (datetime.date(2015, 6, 22), 364),\n",
      " (datetime.date(2015, 6, 23), 377),\n",
      " (datetime.date(2015, 6, 24), 387),\n",
      " (datetime.date(2015, 6, 25), 384),\n",
      " (datetime.date(2015, 6, 26), 371)]\n"
     ]
    }
   ],
   "source": [
    "print(list(cnt_by_station.keys())[0])\n",
    "pprint.pprint(list(cnt_by_station.values())[0])\n"
   ]
  },
  {
   "cell_type": "code",
   "execution_count": 44,
   "metadata": {
    "collapsed": true
   },
   "outputs": [],
   "source": [
    "x_axis1 = []\n",
    "y_axis1 = []\n",
    "\n",
    "for k,v in enumerate(cnt_by_station.keys()):\n",
    "    if k == 0:\n",
    "        x_ax = sorted(cnt_by_station[v])\n",
    "    \n",
    "for i in range(len(x_ax)):\n",
    "    x_axis1.append(x_ax[i][0])\n",
    "    y_axis1.append(x_ax[i][1])"
   ]
  },
  {
   "cell_type": "code",
   "execution_count": 47,
   "metadata": {
    "collapsed": false
   },
   "outputs": [
    {
     "data": {
      "text/plain": [
       "<matplotlib.text.Text at 0x10fccd5c0>"
      ]
     },
     "execution_count": 47,
     "metadata": {},
     "output_type": "execute_result"
    },
    {
     "data": {
      "image/png": "[encoded data removed]",
      "text/plain": [
       "<matplotlib.figure.Figure at 0x10fd58e48>"
      ]
     },
     "metadata": {},
     "output_type": "display_data"
    }
   ],
   "source": [
    "plt.figure(figsize=(10,3))\n",
    "plt.plot(x_axis1, y_axis1)\n",
    "plt.title(list(cnt_by_station.keys())[0]+' '+'Turnstile Entry Time Series')\n",
    "plt.ylabel('Number of Entries')\n",
    "plt.xlabel('Dates')"
   ]
  },
  {
   "cell_type": "code",
   "execution_count": null,
   "metadata": {
    "collapsed": true
   },
   "outputs": [],
   "source": []
  }
 ],
 "metadata": {
  "kernelspec": {
   "display_name": "Python 3",
   "language": "python",
   "name": "python3"
  },
  "language_info": {
   "codemirror_mode": {
    "name": "ipython",
    "version": 3
   },
   "file_extension": ".py",
   "mimetype": "text/x-python",
   "name": "python",
   "nbconvert_exporter": "python",
   "pygments_lexer": "ipython3",
   "version": "3.5.1"
  }
 },
 "nbformat": 4,
 "nbformat_minor": 0
}
