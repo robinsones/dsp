{
 "cells": [
  {
   "cell_type": "markdown",
   "metadata": {},
   "source": [
    "# Challenge Set 1\n",
    "\n",
    "### Topic: Explore MTA Turnstile Data\n",
    "### Date: 7/16/2016\n",
    "### Name: Ahmed El-Razi\n",
    "### Worked with: N/A"
   ]
  },
  {
   "cell_type": "code",
   "execution_count": 15,
   "metadata": {
    "collapsed": false
   },
   "outputs": [],
   "source": [
    "import csv\n",
    "from collections import defaultdict\n",
    "from datetime import datetime\n",
    "from __future__ import division"
   ]
  },
  {
   "cell_type": "markdown",
   "metadata": {},
   "source": [
    "## CHALLENGE 1"
   ]
  },
  {
   "cell_type": "code",
   "execution_count": 2,
   "metadata": {
    "collapsed": false
   },
   "outputs": [
    {
     "data": {
      "text/plain": [
       "['C/A',\n",
       " 'UNIT',\n",
       " 'SCP',\n",
       " 'STATION',\n",
       " 'LINENAME',\n",
       " 'DIVISION',\n",
       " 'DATE',\n",
       " 'TIME',\n",
       " 'DESC',\n",
       " 'ENTRIES',\n",
       " 'EXITS']"
      ]
     },
     "execution_count": 2,
     "metadata": {},
     "output_type": "execute_result"
    }
   ],
   "source": [
    "# open file, read csv, strip whitespace, and pop off row with column names\n",
    "with open('turnstile_160702.txt') as text:\n",
    "    reader = csv.reader(text)\n",
    "    rows = [[cell.strip() for cell in row] for row in reader]\n",
    "\n",
    "rows.pop(0)"
   ]
  },
  {
   "cell_type": "code",
   "execution_count": 3,
   "metadata": {
    "collapsed": false
   },
   "outputs": [],
   "source": [
    "# create dict, with first 4 columns as key and rest of columns as values\n",
    "dictionary = defaultdict()\n",
    "for row in rows:\n",
    "    if tuple(row[:4]) not in dictionary:\n",
    "        dictionary[tuple(row[:4])] = []\n",
    "    else:\n",
    "        dictionary[tuple(row[:4])].append(tuple(row[4:]))"
   ]
  },
  {
   "cell_type": "markdown",
   "metadata": {},
   "source": [
    "## CHALLENGE 2"
   ]
  },
  {
   "cell_type": "code",
   "execution_count": 4,
   "metadata": {
    "collapsed": false
   },
   "outputs": [],
   "source": [
    "new_dict = {turnstile: [(datetime.strptime(date + time, '%m/%d/%Y%X'), int(entries))\n",
    "                        for _, _, date, time,_, entries, _ in rows]\n",
    "                        for turnstile, rows in dictionary.items()}"
   ]
  },
  {
   "cell_type": "code",
   "execution_count": 9,
   "metadata": {
    "collapsed": false
   },
   "outputs": [],
   "source": [
    "time_deltas = {turnstile: [[rows[i][0], rows[i+1][1] - rows[i][1], rows[i+1][0] - rows[i][0]]\n",
    "                        for i in range(len(rows) - 1)]\n",
    "                        for turnstile, rows in new_dict.items()}"
   ]
  },
  {
   "cell_type": "code",
   "execution_count": 20,
   "metadata": {
    "collapsed": false
   },
   "outputs": [],
   "source": [
    "entry_counts = [count for rows in time_deltas.values() for _, count, _ in rows]\n",
    "entry_counts.sort()"
   ]
  },
  {
   "cell_type": "code",
   "execution_count": 18,
   "metadata": {
    "collapsed": false
   },
   "outputs": [],
   "source": [
    "time_series = {turnstile: [(time, count) for (time, count, _) in rows\n",
    "                    if 0 <= count <= 5000]\n",
    "                    for turnstile, rows in time_deltas.items()}"
   ]
  },
  {
   "cell_type": "markdown",
   "metadata": {},
   "source": [
    "## CHALLENGE 3"
   ]
  },
  {
   "cell_type": "code",
   "execution_count": 22,
   "metadata": {
    "collapsed": false
   },
   "outputs": [],
   "source": [
    "daily_entries = {}\n",
    "for turnstile, rows in time_series.items():\n",
    "    day_dict = {}\n",
    "    for time, count in rows:\n",
    "        day = time.date()\n",
    "        day_dict[day] = day_dict.get(day, 0) + count\n",
    "    daily_entries[turnstile] = sorted(day_dict.items())"
   ]
  },
  {
   "cell_type": "code",
   "execution_count": null,
   "metadata": {
    "collapsed": true
   },
   "outputs": [],
   "source": []
  }
 ],
 "metadata": {
  "kernelspec": {
   "display_name": "Python 2",
   "language": "python",
   "name": "python2"
  },
  "language_info": {
   "codemirror_mode": {
    "name": "ipython",
    "version": 2
   },
   "file_extension": ".py",
   "mimetype": "text/x-python",
   "name": "python",
   "nbconvert_exporter": "python",
   "pygments_lexer": "ipython2",
   "version": "2.7.10"
  }
 },
 "nbformat": 4,
 "nbformat_minor": 0
}
