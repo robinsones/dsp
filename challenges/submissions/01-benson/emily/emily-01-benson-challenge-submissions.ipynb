{
 "cells": [
  {
   "cell_type": "markdown",
   "metadata": {},
   "source": [
    "## Challenge Set 1\n",
    "**Topic**:        Explore MTA turnstile data\n",
    "\n",
    "**Date**:         07/11/2016\n",
    "\n",
    "**Name**:         Emily Robinson\n"
   ]
  },
  {
   "cell_type": "code",
   "execution_count": 2,
   "metadata": {
    "collapsed": false
   },
   "outputs": [
    {
     "name": "stderr",
     "output_type": "stream",
     "text": [
      "//anaconda/lib/python2.7/site-packages/IPython/html.py:14: ShimWarning: The `IPython.html` package has been deprecated. You should import from `notebook` instead. `IPython.html.widgets` has moved to `ipywidgets`.\n",
      "  \"`IPython.html.widgets` has moved to `ipywidgets`.\", ShimWarning)\n"
     ]
    }
   ],
   "source": [
    "import matplotlib.pyplot as plt\n",
    "import pandas as pd\n",
    "import numpy as np\n",
    "import csv\n",
    "from datetime import datetime\n",
    "import seaborn as sns\n",
    "from collections import defaultdict\n",
    "\n",
    "%matplotlib inline"
   ]
  },
  {
   "cell_type": "markdown",
   "metadata": {},
   "source": [
    "**Challenge 1** "
   ]
  },
  {
   "cell_type": "markdown",
   "metadata": {},
   "source": [
    "Download 4 weeks of MTA turnstile data, open and use a csv reader to read it. \n",
    "Create a list of four dictionaries, one for each week "
   ]
  },
  {
   "cell_type": "code",
   "execution_count": 9,
   "metadata": {
    "collapsed": false,
    "scrolled": true
   },
   "outputs": [
    {
     "name": "stdout",
     "output_type": "stream",
     "text": [
      "  % Total    % Received % Xferd  Average Speed   Time    Time     Time  Current\n",
      "                                 Dload  Upload   Total   Spent    Left  Speed\n",
      "100 24.0M    0 24.0M    0     0   297k      0 --:--:--  0:01:22 --:--:--  324k\n"
     ]
    }
   ],
   "source": [
    "!curl -O http://web.mta.info/developers/data/nyct/turnstile/turnstile_150627.txt"
   ]
  },
  {
   "cell_type": "code",
   "execution_count": 36,
   "metadata": {
    "collapsed": false
   },
   "outputs": [
    {
     "name": "stdout",
     "output_type": "stream",
     "text": [
      "  % Total    % Received % Xferd  Average Speed   Time    Time     Time  Current\n",
      "                                 Dload  Upload   Total   Spent    Left  Speed\n",
      "100 24.1M    0 24.1M    0     0   569k      0 --:--:--  0:00:43 --:--:--  529k\n",
      "  % Total    % Received % Xferd  Average Speed   Time    Time     Time  Current\n",
      "                                 Dload  Upload   Total   Spent    Left  Speed\n",
      "100 23.9M    0 23.9M    0     0   552k      0 --:--:--  0:00:44 --:--:--  559k\n",
      "  % Total    % Received % Xferd  Average Speed   Time    Time     Time  Current\n",
      "                                 Dload  Upload   Total   Spent    Left  Speed\n",
      "100 23.8M    0 23.8M    0     0   513k      0 --:--:--  0:00:47 --:--:--  582k\n"
     ]
    }
   ],
   "source": [
    "!curl -O http://web.mta.info/developers/data/nyct/turnstile/turnstile_150620.txt\n",
    "!curl -O http://web.mta.info/developers/data/nyct/turnstile/turnstile_150606.txt\n",
    "!curl -O http://web.mta.info/developers/data/nyct/turnstile/turnstile_150613.txt"
   ]
  },
  {
   "cell_type": "code",
   "execution_count": 3,
   "metadata": {
    "collapsed": false
   },
   "outputs": [],
   "source": [
    "def create_dict(list_of_files):\n",
    "    all_raw_readings = []\n",
    "    for MTA_file in list_of_files: \n",
    "        with open(MTA_file) as f:\n",
    "            reader = csv.reader(f)\n",
    "            rows = [[cell.strip() for cell in row] for row in reader]\n",
    "        assert rows.pop(0) == ['C/A', 'UNIT', 'SCP', 'STATION', 'LINENAME',\n",
    "                       'DIVISION', 'DATE', 'TIME', 'DESC', 'ENTRIES',\n",
    "                       'EXITS']\n",
    "        raw_readings = {}    \n",
    "        for row in rows:\n",
    "            raw_readings.setdefault(tuple(row[:4]), []).append(tuple(row[4:]))\n",
    "        all_raw_readings.append(raw_readings)\n",
    "    return(all_raw_readings)"
   ]
  },
  {
   "cell_type": "code",
   "execution_count": 4,
   "metadata": {
    "collapsed": false,
    "scrolled": true
   },
   "outputs": [],
   "source": [
    "list_of_MTA_files = ['turnstile_150613.txt', 'turnstile_150606.txt', 'turnstile_150620.txt', 'turnstile_150627.txt'] \n",
    "MTA_dictionaries = create_dict(list_of_MTA_files)"
   ]
  },
  {
   "cell_type": "code",
   "execution_count": 5,
   "metadata": {
    "collapsed": false
   },
   "outputs": [],
   "source": [
    "# Combine dictionaries\n",
    "raw_readings = defaultdict(list)\n",
    "\n",
    "for d in (MTA_dictionaries): \n",
    "    for key, value in d.iteritems():\n",
    "        raw_readings[key].append(value)     \n",
    "# but now values have values within them \n",
    "#[item for sublist in values for item in sublist]\n",
    "new_dict = {k: np.array(v).flatten() for k, v in raw_readings.items()}"
   ]
  },
  {
   "cell_type": "markdown",
   "metadata": {},
   "source": [
    "raw_readings is the solution to Challenge 1"
   ]
  },
  {
   "cell_type": "markdown",
   "metadata": {},
   "source": [
    "**Challenge 2** "
   ]
  },
  {
   "cell_type": "markdown",
   "metadata": {},
   "source": [
    "Turn raw_readings into a time series"
   ]
  },
  {
   "cell_type": "code",
   "execution_count": 6,
   "metadata": {
    "collapsed": false
   },
   "outputs": [
    {
     "ename": "ValueError",
     "evalue": "too many values to unpack",
     "output_type": "error",
     "traceback": [
      "\u001b[0;31m---------------------------------------------------------------------------\u001b[0m",
      "\u001b[0;31mValueError\u001b[0m                                Traceback (most recent call last)",
      "\u001b[0;32m<ipython-input-6-03508a6dda63>\u001b[0m in \u001b[0;36m<module>\u001b[0;34m()\u001b[0m\n\u001b[1;32m      4\u001b[0m                                    \u001b[0;32mfor\u001b[0m \u001b[0m_\u001b[0m\u001b[0;34m,\u001b[0m \u001b[0m_\u001b[0m\u001b[0;34m,\u001b[0m \u001b[0mdate\u001b[0m\u001b[0;34m,\u001b[0m \u001b[0mtime\u001b[0m\u001b[0;34m,\u001b[0m\u001b[0;34m\u001b[0m\u001b[0m\n\u001b[1;32m      5\u001b[0m                                        _, in_cumulative, _ in rows]\n\u001b[0;32m----> 6\u001b[0;31m                        for turnstile, rows in new_dict.items()}\n\u001b[0m",
      "\u001b[0;32m<ipython-input-6-03508a6dda63>\u001b[0m in \u001b[0;36m<dictcomp>\u001b[0;34m((turnstile, rows))\u001b[0m\n\u001b[1;32m      4\u001b[0m                                    \u001b[0;32mfor\u001b[0m \u001b[0m_\u001b[0m\u001b[0;34m,\u001b[0m \u001b[0m_\u001b[0m\u001b[0;34m,\u001b[0m \u001b[0mdate\u001b[0m\u001b[0;34m,\u001b[0m \u001b[0mtime\u001b[0m\u001b[0;34m,\u001b[0m\u001b[0;34m\u001b[0m\u001b[0m\n\u001b[1;32m      5\u001b[0m                                        _, in_cumulative, _ in rows]\n\u001b[0;32m----> 6\u001b[0;31m                        for turnstile, rows in new_dict.items()}\n\u001b[0m",
      "\u001b[0;31mValueError\u001b[0m: too many values to unpack"
     ]
    }
   ],
   "source": [
    "datetime_cumulative = {turnstile: [(datetime.strptime(date + time,\n",
    "                                                      '%m/%d/%Y%X'),\n",
    "                                    int(in_cumulative))\n",
    "                                   for _, _, date, time,\n",
    "                                       _, in_cumulative, _ in rows]\n",
    "                       for turnstile, rows in new_dict.items()}"
   ]
  },
  {
   "cell_type": "code",
   "execution_count": 29,
   "metadata": {
    "collapsed": false
   },
   "outputs": [],
   "source": [
    "datetime_cumulative_new = defaultdict(lambda: [])\n",
    "\n",
    "for turnstile, rows in raw_readings.items():\n",
    "    for value in rows: \n",
    "        datetime_cumulative_new[turnstile].append([(datetime.strptime(date + time,'%m/%d/%Y%X'),int(in_cumulative))\n",
    "                                   for _, _, date, time,\n",
    "                                       _, in_cumulative, _ in value])\n",
    "        \n",
    "    "
   ]
  },
  {
   "cell_type": "code",
   "execution_count": 65,
   "metadata": {
    "collapsed": false
   },
   "outputs": [],
   "source": [
    "\n",
    "datetime_cumulative_new1 = defaultdict(lambda: [])\n",
    "\n",
    "# flatten dictionary \n",
    "for turnstile, rows in datetime_cumulative_new.items():\n",
    "    flattened  = [val for sublist in rows for val in sublist]\n",
    "    # turn values back into tuples\n",
    "    datetime_cumulative_new1[turnstile] = sorted(flattened)\n"
   ]
  },
  {
   "cell_type": "code",
   "execution_count": 66,
   "metadata": {
    "collapsed": false
   },
   "outputs": [],
   "source": [
    "# Create dictionary with value as a list of datetimes and the entires\n",
    "datetime_count_times = {turnstile: [[rows[i][0],\n",
    "                                     rows[i+1][1] - rows[i][1]]\n",
    "                                    for i in range(len(rows) - 1)]\n",
    "                        for turnstile, rows in datetime_cumulative_new1.items()}"
   ]
  },
  {
   "cell_type": "markdown",
   "metadata": {},
   "source": [
    "datetime_count_times is the answer"
   ]
  },
  {
   "cell_type": "markdown",
   "metadata": {},
   "source": [
    "**Challenge 3** "
   ]
  },
  {
   "cell_type": "markdown",
   "metadata": {},
   "source": [
    "Create dictionary with same keys but value now list of day-entry total pairs"
   ]
  },
  {
   "cell_type": "code",
   "execution_count": 67,
   "metadata": {
    "collapsed": false
   },
   "outputs": [],
   "source": [
    "day_counts = {}\n",
    "for turnstile, rows in datetime_count_times.items():\n",
    "    by_day = {}\n",
    "    for time, count in rows:\n",
    "        day = time.date()\n",
    "        by_day[day] = by_day.get(day, 0) + count\n",
    "    day_counts[turnstile] = sorted(by_day.items())"
   ]
  },
  {
   "cell_type": "markdown",
   "metadata": {},
   "source": [
    "day_counts if the answer"
   ]
  },
  {
   "cell_type": "markdown",
   "metadata": {},
   "source": [
    "**Challenge 4** "
   ]
  },
  {
   "cell_type": "markdown",
   "metadata": {},
   "source": [
    "Plot daily time series for a turnstile. Turn the value list into two lists, date and counts"
   ]
  },
  {
   "cell_type": "code",
   "execution_count": 69,
   "metadata": {
    "collapsed": false
   },
   "outputs": [],
   "source": [
    "# Pick random turnstile for graph\n",
    "turnstile1 = day_counts.items()[8]\n",
    "# turnstile1 is tuple, 2nd one is list of datetime and count\n",
    "dates = []\n",
    "counts = []\n",
    "for i, j in turnstile1[1]:\n",
    "    dates.append(i)\n",
    "    counts.append(j)\n",
    "    "
   ]
  },
  {
   "cell_type": "code",
   "execution_count": 70,
   "metadata": {
    "collapsed": false
   },
   "outputs": [
    {
     "data": {
      "text/plain": [
       "[<matplotlib.lines.Line2D at 0x127226690>]"
      ]
     },
     "execution_count": 70,
     "metadata": {},
     "output_type": "execute_result"
    },
    {
     "data": {
      "image/png": "[encoded data removed]",
      "text/plain": [
       "<matplotlib.figure.Figure at 0x10d117650>"
      ]
     },
     "metadata": {},
     "output_type": "display_data"
    }
   ],
   "source": [
    "plt.figure(figsize=(10,3))\n",
    "plt.plot(dates,counts)"
   ]
  },
  {
   "cell_type": "markdown",
   "metadata": {},
   "source": [
    "**Challenge 5** "
   ]
  },
  {
   "cell_type": "markdown",
   "metadata": {
    "collapsed": true
   },
   "source": [
    "For each ControlArea/UNIT/STATION combo, for each day, add the counts from each turnstile belonging to that combo."
   ]
  },
  {
   "cell_type": "code",
   "execution_count": 71,
   "metadata": {
    "collapsed": true
   },
   "outputs": [],
   "source": [
    "combo_counts = {}\n",
    "for turnstile, date_counts in day_counts.items():\n",
    "    by_day = {}\n",
    "    combo = (turnstile[0], turnstile[1], turnstile[3])\n",
    "    combo_counts[combo] = date_counts"
   ]
  },
  {
   "cell_type": "markdown",
   "metadata": {},
   "source": [
    "combo_counts is the answer"
   ]
  },
  {
   "cell_type": "markdown",
   "metadata": {},
   "source": [
    "**Challenge 6** "
   ]
  },
  {
   "cell_type": "markdown",
   "metadata": {},
   "source": [
    "Combine everything in each station"
   ]
  },
  {
   "cell_type": "code",
   "execution_count": 73,
   "metadata": {
    "collapsed": true
   },
   "outputs": [],
   "source": [
    "station_counts = {}\n",
    "for combo, date_counts in combo_counts.items():\n",
    "    by_day = {}\n",
    "    # get the station for this combo\n",
    "    station = combo[2]\n",
    "    # if the station is already in our new dictionary, add our entries in \n",
    "    if station in station_counts: \n",
    "        # initialize by_day dictionary with current day totals for that station\n",
    "        for date, count in station_counts[station]:\n",
    "            by_day[date] = by_day.get(day, 0) + count\n",
    "        # add in this new combo counts to the station count\n",
    "        for d, c in date_counts:\n",
    "            by_day[d] = by_day.get(day, 0) + c\n",
    "        # change entry to updated count\n",
    "        combo_counts[station] = sorted(by_day.items())\n",
    "    # if station isn't in dictionary yet, make an entry for the station with this turnstile's values\n",
    "    else: \n",
    "        station_counts[station] = date_counts"
   ]
  },
  {
   "cell_type": "markdown",
   "metadata": {},
   "source": [
    "station_counts is the answer"
   ]
  },
  {
   "cell_type": "markdown",
   "metadata": {},
   "source": [
    "**Challenge 7** "
   ]
  },
  {
   "cell_type": "markdown",
   "metadata": {
    "collapsed": true
   },
   "source": [
    "Plot the time series for a station"
   ]
  },
  {
   "cell_type": "code",
   "execution_count": 77,
   "metadata": {
    "collapsed": false
   },
   "outputs": [],
   "source": [
    "# Pick random turnstile for graph\n",
    "station = station_counts.items()[10]\n",
    "# turnstile1 is tuple, 2nd one is list of datetime and count\n",
    "dates = []\n",
    "counts = []\n",
    "for i, j in station[1]:\n",
    "    dates.append(i)\n",
    "    counts.append(j)"
   ]
  },
  {
   "cell_type": "code",
   "execution_count": 76,
   "metadata": {
    "collapsed": false
   },
   "outputs": [
    {
     "data": {
      "text/plain": [
       "[<matplotlib.lines.Line2D at 0x10d117890>]"
      ]
     },
     "execution_count": 76,
     "metadata": {},
     "output_type": "execute_result"
    },
    {
     "data": {
      "image/png": "[encoded data removed]",
      "text/plain": [
       "<matplotlib.figure.Figure at 0x10d117450>"
      ]
     },
     "metadata": {},
     "output_type": "display_data"
    }
   ],
   "source": [
    "plt.figure(figsize=(10,3))\n",
    "plt.plot(dates,counts)"
   ]
  },
  {
   "cell_type": "markdown",
   "metadata": {},
   "source": [
    "**Challenge 8** "
   ]
  },
  {
   "cell_type": "markdown",
   "metadata": {},
   "source": [
    "Make one list of counts for one week for one station. Monday's count, Tuesday's count, etc. so it's a list of 7 counts. Make the same list for another week, and another week, and another week. plt.plot(week_count_list) for every week_count_list you created this way. You should get a rainbow plot of weekly commute numbers on top of each other."
   ]
  },
  {
   "cell_type": "code",
   "execution_count": 99,
   "metadata": {
    "collapsed": false
   },
   "outputs": [
    {
     "name": "stdout",
     "output_type": "stream",
     "text": [
      "[[2169, 1432, 1472, 1411, 1905, 1955, 1887], [2025, 2168, 1862, 1766, 1895, 2015, 2081], [1939, 2005, 1653, 1761, 2054, 1903, 2050], [1561, 1672, 2098, 1774, 2064, 1977, 1619]]\n"
     ]
    }
   ],
   "source": [
    "# Use same station as for challenge 7\n",
    "station\n",
    "# it always starts on a saturday\n",
    "# get a list of counts\n",
    "counts = [count[1] for count in station[1]]\n",
    "# make list of lists for each week\n",
    "chunks = [counts[x:x+7] for x in xrange(0, len(counts), 7)]\n",
    "print chunks"
   ]
  },
  {
   "cell_type": "code",
   "execution_count": 131,
   "metadata": {
    "collapsed": false
   },
   "outputs": [
    {
     "data": {
      "image/png": "[encoded data removed]",
      "text/plain": [
       "<matplotlib.figure.Figure at 0x1381e5b10>"
      ]
     },
     "metadata": {},
     "output_type": "display_data"
    }
   ],
   "source": [
    "for chunk in chunks:\n",
    "    plt.plot(chunk)"
   ]
  },
  {
   "cell_type": "markdown",
   "metadata": {},
   "source": [
    "**Challenge 9**"
   ]
  },
  {
   "cell_type": "markdown",
   "metadata": {},
   "source": [
    "Over multiple weeks, sum total ridership for each station and sort them, so you can find out the stations with the highest traffic during the time you investigate"
   ]
  },
  {
   "cell_type": "code",
   "execution_count": 115,
   "metadata": {
    "collapsed": false
   },
   "outputs": [
    {
     "name": "stdout",
     "output_type": "stream",
     "text": [
      "('HIGH ST', 52173)\n"
     ]
    }
   ],
   "source": [
    "total_ridership = defaultdict(lambda x: 0)\n",
    "for turnstile, date_counts in station_counts.items(): \n",
    "    tr = 0\n",
    "    for dc in date_counts: \n",
    "        tr += dc[1]\n",
    "    total_ridership[turnstile] = tr"
   ]
  },
  {
   "cell_type": "markdown",
   "metadata": {},
   "source": [
    "total_ridership is the answer"
   ]
  },
  {
   "cell_type": "markdown",
   "metadata": {},
   "source": [
    "**Challenge 10**"
   ]
  },
  {
   "cell_type": "markdown",
   "metadata": {},
   "source": [
    "Create histogram of total ridership"
   ]
  },
  {
   "cell_type": "code",
   "execution_count": 133,
   "metadata": {
    "collapsed": false
   },
   "outputs": [
    {
     "data": {
      "text/plain": [
       "(array([ 100.,  102.,   71.,   53.,   26.,    8.,    2.,    2.,    0.,    1.]),\n",
       " array([  2.00000000e+00,   1.51662000e+04,   3.03304000e+04,\n",
       "          4.54946000e+04,   6.06588000e+04,   7.58230000e+04,\n",
       "          9.09872000e+04,   1.06151400e+05,   1.21315600e+05,\n",
       "          1.36479800e+05,   1.51644000e+05]),\n",
       " <a list of 10 Patch objects>)"
      ]
     },
     "execution_count": 133,
     "metadata": {},
     "output_type": "execute_result"
    },
    {
     "data": {
      "image/png": "[encoded data removed]",
      "text/plain": [
       "<matplotlib.figure.Figure at 0x139682090>"
      ]
     },
     "metadata": {},
     "output_type": "display_data"
    }
   ],
   "source": [
    "total_ridership_counts = total_ridership.values()\n",
    "# take out any total_ridership negatives or zeros\n",
    "total_ridership_values = [count for count in total_ridership_counts if count > 0]\n",
    "plt.hist(total_ridership_values)"
   ]
  }
 ],
 "metadata": {
  "kernelspec": {
   "display_name": "Python 2",
   "language": "python",
   "name": "python2"
  }
 },
 "nbformat": 4,
 "nbformat_minor": 0
}
