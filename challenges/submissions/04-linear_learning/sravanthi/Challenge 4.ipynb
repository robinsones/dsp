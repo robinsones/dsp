{
 "cells": [
  {
   "cell_type": "markdown",
   "metadata": {},
   "source": [
    "### Challenge Set 4\n",
    "Topic:        Linear Learning - Luther\n",
    "\n",
    "Date:         07/23/2016\n",
    "\n",
    "Name:         sravanthi ponnana\n"
   ]
  },
  {
   "cell_type": "code",
   "execution_count": 56,
   "metadata": {
    "collapsed": true
   },
   "outputs": [],
   "source": [
    "import pandas as pd\n",
    "%matplotlib inline\n",
    "from datetime import date\n",
    "import matplotlib.pyplot as plt\n",
    "import seaborn as sns\n",
    "import numpy as np\n",
    "from patsy import dmatrices\n",
    "import statsmodels.api as sm\n",
    "import math"
   ]
  },
  {
   "cell_type": "markdown",
   "metadata": {},
   "source": [
    "### Challenge 1"
   ]
  },
  {
   "cell_type": "code",
   "execution_count": 63,
   "metadata": {
    "collapsed": false
   },
   "outputs": [],
   "source": [
    "x = np.random.uniform(1, 1000,size=1000)\n",
    "epsilon = np.random.normal(0, 0.5, 1000)\n",
    "B0 = 12\n",
    "B1 = 1.2\n",
    "y = [B0+(B1*math.log(x[i]))+epsilon[i] for i in range(len(x))]"
   ]
  },
  {
   "cell_type": "code",
   "execution_count": 64,
   "metadata": {
    "collapsed": false
   },
   "outputs": [
    {
     "data": {
      "text/html": [
       "<div>\n",
       "<table border=\"1\" class=\"dataframe\">\n",
       "  <thead>\n",
       "    <tr style=\"text-align: right;\">\n",
       "      <th></th>\n",
       "      <th>x</th>\n",
       "      <th>y</th>\n",
       "      <th>x2</th>\n",
       "      <th>log_x</th>\n",
       "      <th>epsilon</th>\n",
       "    </tr>\n",
       "  </thead>\n",
       "  <tbody>\n",
       "    <tr>\n",
       "      <th>0</th>\n",
       "      <td>250.999621</td>\n",
       "      <td>19.208722</td>\n",
       "      <td>63000.809771</td>\n",
       "      <td>5.525451</td>\n",
       "      <td>0.578180</td>\n",
       "    </tr>\n",
       "    <tr>\n",
       "      <th>1</th>\n",
       "      <td>383.138362</td>\n",
       "      <td>18.803706</td>\n",
       "      <td>146795.004550</td>\n",
       "      <td>5.948396</td>\n",
       "      <td>-0.334370</td>\n",
       "    </tr>\n",
       "    <tr>\n",
       "      <th>2</th>\n",
       "      <td>432.264668</td>\n",
       "      <td>18.973240</td>\n",
       "      <td>186852.743122</td>\n",
       "      <td>6.069038</td>\n",
       "      <td>-0.309606</td>\n",
       "    </tr>\n",
       "    <tr>\n",
       "      <th>3</th>\n",
       "      <td>882.771131</td>\n",
       "      <td>21.443876</td>\n",
       "      <td>779284.869124</td>\n",
       "      <td>6.783066</td>\n",
       "      <td>1.304197</td>\n",
       "    </tr>\n",
       "    <tr>\n",
       "      <th>4</th>\n",
       "      <td>976.207759</td>\n",
       "      <td>19.798201</td>\n",
       "      <td>952981.588262</td>\n",
       "      <td>6.883675</td>\n",
       "      <td>-0.462209</td>\n",
       "    </tr>\n",
       "  </tbody>\n",
       "</table>\n",
       "</div>"
      ],
      "text/plain": [
       "            x          y             x2     log_x   epsilon\n",
       "0  250.999621  19.208722   63000.809771  5.525451  0.578180\n",
       "1  383.138362  18.803706  146795.004550  5.948396 -0.334370\n",
       "2  432.264668  18.973240  186852.743122  6.069038 -0.309606\n",
       "3  882.771131  21.443876  779284.869124  6.783066  1.304197\n",
       "4  976.207759  19.798201  952981.588262  6.883675 -0.462209"
      ]
     },
     "execution_count": 64,
     "metadata": {},
     "output_type": "execute_result"
    }
   ],
   "source": [
    "data = pd.DataFrame(index= range(1000))\n",
    "data[\"x\"] = x\n",
    "data[\"y\"] = y\n",
    "data[\"x2\"] = data[\"x\"].apply(lambda x : x*x)\n",
    "data[\"log_x\"] = data[\"x\"].apply(math.log)\n",
    "data[\"epsilon\"] = epsilon\n",
    "data.head()"
   ]
  },
  {
   "cell_type": "code",
   "execution_count": 65,
   "metadata": {
    "collapsed": false
   },
   "outputs": [
    {
     "data": {
      "text/html": [
       "<table class=\"simpletable\">\n",
       "<caption>OLS Regression Results</caption>\n",
       "<tr>\n",
       "  <th>Dep. Variable:</th>            <td>y</td>        <th>  R-squared:         </th> <td>   0.504</td> \n",
       "</tr>\n",
       "<tr>\n",
       "  <th>Model:</th>                   <td>OLS</td>       <th>  Adj. R-squared:    </th> <td>   0.503</td> \n",
       "</tr>\n",
       "<tr>\n",
       "  <th>Method:</th>             <td>Least Squares</td>  <th>  F-statistic:       </th> <td>   1014.</td> \n",
       "</tr>\n",
       "<tr>\n",
       "  <th>Date:</th>             <td>Sat, 23 Jul 2016</td> <th>  Prob (F-statistic):</th> <td>3.96e-154</td>\n",
       "</tr>\n",
       "<tr>\n",
       "  <th>Time:</th>                 <td>11:41:42</td>     <th>  Log-Likelihood:    </th> <td> -1319.8</td> \n",
       "</tr>\n",
       "<tr>\n",
       "  <th>No. Observations:</th>      <td>  1000</td>      <th>  AIC:               </th> <td>   2644.</td> \n",
       "</tr>\n",
       "<tr>\n",
       "  <th>Df Residuals:</th>          <td>   998</td>      <th>  BIC:               </th> <td>   2653.</td> \n",
       "</tr>\n",
       "<tr>\n",
       "  <th>Df Model:</th>              <td>     1</td>      <th>                     </th>     <td> </td>    \n",
       "</tr>\n",
       "<tr>\n",
       "  <th>Covariance Type:</th>      <td>nonrobust</td>    <th>                     </th>     <td> </td>    \n",
       "</tr>\n",
       "</table>\n",
       "<table class=\"simpletable\">\n",
       "<tr>\n",
       "      <td></td>         <th>coef</th>     <th>std err</th>      <th>t</th>      <th>P>|t|</th> <th>[95.0% Conf. Int.]</th> \n",
       "</tr>\n",
       "<tr>\n",
       "  <th>Intercept</th> <td>   18.0676</td> <td>    0.043</td> <td>  422.761</td> <td> 0.000</td> <td>   17.984    18.151</td>\n",
       "</tr>\n",
       "<tr>\n",
       "  <th>x2</th>        <td> 3.051e-06</td> <td> 9.58e-08</td> <td>   31.845</td> <td> 0.000</td> <td> 2.86e-06  3.24e-06</td>\n",
       "</tr>\n",
       "</table>\n",
       "<table class=\"simpletable\">\n",
       "<tr>\n",
       "  <th>Omnibus:</th>       <td>313.083</td> <th>  Durbin-Watson:     </th> <td>   1.915</td> \n",
       "</tr>\n",
       "<tr>\n",
       "  <th>Prob(Omnibus):</th> <td> 0.000</td>  <th>  Jarque-Bera (JB):  </th> <td>1113.087</td> \n",
       "</tr>\n",
       "<tr>\n",
       "  <th>Skew:</th>          <td>-1.487</td>  <th>  Prob(JB):          </th> <td>1.98e-242</td>\n",
       "</tr>\n",
       "<tr>\n",
       "  <th>Kurtosis:</th>      <td> 7.227</td>  <th>  Cond. No.          </th> <td>6.65e+05</td> \n",
       "</tr>\n",
       "</table>"
      ],
      "text/plain": [
       "<class 'statsmodels.iolib.summary.Summary'>\n",
       "\"\"\"\n",
       "                            OLS Regression Results                            \n",
       "==============================================================================\n",
       "Dep. Variable:                      y   R-squared:                       0.504\n",
       "Model:                            OLS   Adj. R-squared:                  0.503\n",
       "Method:                 Least Squares   F-statistic:                     1014.\n",
       "Date:                Sat, 23 Jul 2016   Prob (F-statistic):          3.96e-154\n",
       "Time:                        11:41:42   Log-Likelihood:                -1319.8\n",
       "No. Observations:                1000   AIC:                             2644.\n",
       "Df Residuals:                     998   BIC:                             2653.\n",
       "Df Model:                           1                                         \n",
       "Covariance Type:            nonrobust                                         \n",
       "==============================================================================\n",
       "                 coef    std err          t      P>|t|      [95.0% Conf. Int.]\n",
       "------------------------------------------------------------------------------\n",
       "Intercept     18.0676      0.043    422.761      0.000        17.984    18.151\n",
       "x2          3.051e-06   9.58e-08     31.845      0.000      2.86e-06  3.24e-06\n",
       "==============================================================================\n",
       "Omnibus:                      313.083   Durbin-Watson:                   1.915\n",
       "Prob(Omnibus):                  0.000   Jarque-Bera (JB):             1113.087\n",
       "Skew:                          -1.487   Prob(JB):                    1.98e-242\n",
       "Kurtosis:                       7.227   Cond. No.                     6.65e+05\n",
       "==============================================================================\n",
       "\n",
       "Warnings:\n",
       "[1] Standard Errors assume that the covariance matrix of the errors is correctly specified.\n",
       "[2] The condition number is large, 6.65e+05. This might indicate that there are\n",
       "strong multicollinearity or other numerical problems.\n",
       "\"\"\""
      ]
     },
     "execution_count": 65,
     "metadata": {},
     "output_type": "execute_result"
    }
   ],
   "source": [
    "y, X = dmatrices('y ~ x2', data=data, return_type='dataframe')\n",
    "model = sm.OLS(y, X)\n",
    "results = model.fit()\n",
    "pred = results.predict(X)\n",
    "results.summary()"
   ]
  },
  {
   "cell_type": "code",
   "execution_count": 66,
   "metadata": {
    "collapsed": false
   },
   "outputs": [
    {
     "data": {
      "image/png": "[encoded data removed]",
      "text/plain": [
       "<matplotlib.figure.Figure at 0x1183387f0>"
      ]
     },
     "metadata": {},
     "output_type": "display_data"
    }
   ],
   "source": [
    "plt.scatter(pred, y)\n",
    "plt.xlabel('Quad_Prediction')\n",
    "plt.ylabel('y')\n",
    "plt.show()"
   ]
  },
  {
   "cell_type": "code",
   "execution_count": 67,
   "metadata": {
    "collapsed": false
   },
   "outputs": [
    {
     "data": {
      "text/html": [
       "<table class=\"simpletable\">\n",
       "<caption>OLS Regression Results</caption>\n",
       "<tr>\n",
       "  <th>Dep. Variable:</th>            <td>y</td>        <th>  R-squared:         </th> <td>   0.853</td>\n",
       "</tr>\n",
       "<tr>\n",
       "  <th>Model:</th>                   <td>OLS</td>       <th>  Adj. R-squared:    </th> <td>   0.853</td>\n",
       "</tr>\n",
       "<tr>\n",
       "  <th>Method:</th>             <td>Least Squares</td>  <th>  F-statistic:       </th> <td>   5813.</td>\n",
       "</tr>\n",
       "<tr>\n",
       "  <th>Date:</th>             <td>Sat, 23 Jul 2016</td> <th>  Prob (F-statistic):</th>  <td>  0.00</td> \n",
       "</tr>\n",
       "<tr>\n",
       "  <th>Time:</th>                 <td>11:41:44</td>     <th>  Log-Likelihood:    </th> <td> -710.14</td>\n",
       "</tr>\n",
       "<tr>\n",
       "  <th>No. Observations:</th>      <td>  1000</td>      <th>  AIC:               </th> <td>   1424.</td>\n",
       "</tr>\n",
       "<tr>\n",
       "  <th>Df Residuals:</th>          <td>   998</td>      <th>  BIC:               </th> <td>   1434.</td>\n",
       "</tr>\n",
       "<tr>\n",
       "  <th>Df Model:</th>              <td>     1</td>      <th>                     </th>     <td> </td>   \n",
       "</tr>\n",
       "<tr>\n",
       "  <th>Covariance Type:</th>      <td>nonrobust</td>    <th>                     </th>     <td> </td>   \n",
       "</tr>\n",
       "</table>\n",
       "<table class=\"simpletable\">\n",
       "<tr>\n",
       "      <td></td>         <th>coef</th>     <th>std err</th>      <th>t</th>      <th>P>|t|</th> <th>[95.0% Conf. Int.]</th> \n",
       "</tr>\n",
       "<tr>\n",
       "  <th>Intercept</th> <td>   12.0479</td> <td>    0.093</td> <td>  128.856</td> <td> 0.000</td> <td>   11.864    12.231</td>\n",
       "</tr>\n",
       "<tr>\n",
       "  <th>log_x</th>     <td>    1.1936</td> <td>    0.016</td> <td>   76.244</td> <td> 0.000</td> <td>    1.163     1.224</td>\n",
       "</tr>\n",
       "</table>\n",
       "<table class=\"simpletable\">\n",
       "<tr>\n",
       "  <th>Omnibus:</th>       <td> 1.215</td> <th>  Durbin-Watson:     </th> <td>   2.022</td>\n",
       "</tr>\n",
       "<tr>\n",
       "  <th>Prob(Omnibus):</th> <td> 0.545</td> <th>  Jarque-Bera (JB):  </th> <td>   1.228</td>\n",
       "</tr>\n",
       "<tr>\n",
       "  <th>Skew:</th>          <td> 0.022</td> <th>  Prob(JB):          </th> <td>   0.541</td>\n",
       "</tr>\n",
       "<tr>\n",
       "  <th>Kurtosis:</th>      <td> 2.834</td> <th>  Cond. No.          </th> <td>    36.8</td>\n",
       "</tr>\n",
       "</table>"
      ],
      "text/plain": [
       "<class 'statsmodels.iolib.summary.Summary'>\n",
       "\"\"\"\n",
       "                            OLS Regression Results                            \n",
       "==============================================================================\n",
       "Dep. Variable:                      y   R-squared:                       0.853\n",
       "Model:                            OLS   Adj. R-squared:                  0.853\n",
       "Method:                 Least Squares   F-statistic:                     5813.\n",
       "Date:                Sat, 23 Jul 2016   Prob (F-statistic):               0.00\n",
       "Time:                        11:41:44   Log-Likelihood:                -710.14\n",
       "No. Observations:                1000   AIC:                             1424.\n",
       "Df Residuals:                     998   BIC:                             1434.\n",
       "Df Model:                           1                                         \n",
       "Covariance Type:            nonrobust                                         \n",
       "==============================================================================\n",
       "                 coef    std err          t      P>|t|      [95.0% Conf. Int.]\n",
       "------------------------------------------------------------------------------\n",
       "Intercept     12.0479      0.093    128.856      0.000        11.864    12.231\n",
       "log_x          1.1936      0.016     76.244      0.000         1.163     1.224\n",
       "==============================================================================\n",
       "Omnibus:                        1.215   Durbin-Watson:                   2.022\n",
       "Prob(Omnibus):                  0.545   Jarque-Bera (JB):                1.228\n",
       "Skew:                           0.022   Prob(JB):                        0.541\n",
       "Kurtosis:                       2.834   Cond. No.                         36.8\n",
       "==============================================================================\n",
       "\n",
       "Warnings:\n",
       "[1] Standard Errors assume that the covariance matrix of the errors is correctly specified.\n",
       "\"\"\""
      ]
     },
     "execution_count": 67,
     "metadata": {},
     "output_type": "execute_result"
    }
   ],
   "source": [
    "y, X = dmatrices('y ~ log_x', data=data, return_type='dataframe')\n",
    "model = sm.OLS(y, X)\n",
    "results = model.fit()\n",
    "pred = results.predict(X)\n",
    "results.summary()"
   ]
  },
  {
   "cell_type": "code",
   "execution_count": 68,
   "metadata": {
    "collapsed": false
   },
   "outputs": [
    {
     "data": {
      "image/png": "[encoded data removed]",
      "text/plain": [
       "<matplotlib.figure.Figure at 0x117eb8f60>"
      ]
     },
     "metadata": {},
     "output_type": "display_data"
    }
   ],
   "source": [
    "plt.scatter(pred, y)\n",
    "plt.xlabel('Log_Prediction')\n",
    "plt.ylabel('y')\n",
    "plt.show()"
   ]
  },
  {
   "cell_type": "markdown",
   "metadata": {},
   "source": [
    "### Challenge 2"
   ]
  },
  {
   "cell_type": "code",
   "execution_count": 101,
   "metadata": {
    "collapsed": true
   },
   "outputs": [],
   "source": [
    "x = np.random.uniform(1, 1000,size=1000)\n",
    "epsilon = np.random.normal(0, 0.5, 1000)\n",
    "B0 = 12\n",
    "B1 = 1.2\n",
    "B2 = 0.15\n",
    "y = [B0+(B1*x[i])+(B2*x[i]*x[i])+epsilon[i] for i in range(len(x))]"
   ]
  },
  {
   "cell_type": "code",
   "execution_count": 102,
   "metadata": {
    "collapsed": false
   },
   "outputs": [
    {
     "data": {
      "text/html": [
       "<div>\n",
       "<table border=\"1\" class=\"dataframe\">\n",
       "  <thead>\n",
       "    <tr style=\"text-align: right;\">\n",
       "      <th></th>\n",
       "      <th>x1</th>\n",
       "      <th>y</th>\n",
       "      <th>x2</th>\n",
       "      <th>epsilon</th>\n",
       "    </tr>\n",
       "  </thead>\n",
       "  <tbody>\n",
       "    <tr>\n",
       "      <th>0</th>\n",
       "      <td>107.126921</td>\n",
       "      <td>1862.613465</td>\n",
       "      <td>11476.177099</td>\n",
       "      <td>0.634595</td>\n",
       "    </tr>\n",
       "    <tr>\n",
       "      <th>1</th>\n",
       "      <td>507.451748</td>\n",
       "      <td>39247.454167</td>\n",
       "      <td>257507.276731</td>\n",
       "      <td>0.420560</td>\n",
       "    </tr>\n",
       "    <tr>\n",
       "      <th>2</th>\n",
       "      <td>189.833425</td>\n",
       "      <td>5644.670721</td>\n",
       "      <td>36036.729350</td>\n",
       "      <td>-0.638791</td>\n",
       "    </tr>\n",
       "    <tr>\n",
       "      <th>3</th>\n",
       "      <td>541.311796</td>\n",
       "      <td>44614.610862</td>\n",
       "      <td>293018.460856</td>\n",
       "      <td>0.267578</td>\n",
       "    </tr>\n",
       "    <tr>\n",
       "      <th>4</th>\n",
       "      <td>146.302644</td>\n",
       "      <td>3398.784051</td>\n",
       "      <td>21404.463576</td>\n",
       "      <td>0.551342</td>\n",
       "    </tr>\n",
       "  </tbody>\n",
       "</table>\n",
       "</div>"
      ],
      "text/plain": [
       "           x1             y             x2   epsilon\n",
       "0  107.126921   1862.613465   11476.177099  0.634595\n",
       "1  507.451748  39247.454167  257507.276731  0.420560\n",
       "2  189.833425   5644.670721   36036.729350 -0.638791\n",
       "3  541.311796  44614.610862  293018.460856  0.267578\n",
       "4  146.302644   3398.784051   21404.463576  0.551342"
      ]
     },
     "execution_count": 102,
     "metadata": {},
     "output_type": "execute_result"
    }
   ],
   "source": [
    "data = pd.DataFrame(index= range(1000))\n",
    "data[\"x1\"] = x\n",
    "data[\"y\"] = y\n",
    "data[\"x2\"] = data[\"x1\"].apply(lambda x : x*x)\n",
    "\n",
    "data[\"epsilon\"] = epsilon\n",
    "data.head()"
   ]
  },
  {
   "cell_type": "code",
   "execution_count": 103,
   "metadata": {
    "collapsed": false
   },
   "outputs": [],
   "source": [
    "from sklearn import cross_validation\n",
    "from sklearn.linear_model import LinearRegression\n",
    "\n",
    "y, X = dmatrices('y ~ x1', data=data, return_type='dataframe')\n",
    "X_train, X_test, y_train, y_test = cross_validation.train_test_split(X, y, test_size=0.25)\n",
    "model = LinearRegression().fit(X_train, y_train)"
   ]
  },
  {
   "cell_type": "code",
   "execution_count": 104,
   "metadata": {
    "collapsed": false
   },
   "outputs": [
    {
     "name": "stdout",
     "output_type": "stream",
     "text": [
      "Training error 120772842.47\n",
      "Test error 134979720.218\n"
     ]
    }
   ],
   "source": [
    "from sklearn import metrics\n",
    "print(\"Training error\",metrics.mean_squared_error(y_train,model.predict(X_train)))\n",
    "print(\"Test error\",metrics.mean_squared_error(y_test,model.predict(X_test)))"
   ]
  },
  {
   "cell_type": "markdown",
   "metadata": {},
   "source": [
    "### Challenge 3"
   ]
  },
  {
   "cell_type": "code",
   "execution_count": 105,
   "metadata": {
    "collapsed": false
   },
   "outputs": [],
   "source": [
    "data[\"x0\"] = 1\n",
    "for i in range(2,8):\n",
    "    data[\"x\"+str(i)] = data[\"x1\"].apply(lambda x: x**i)"
   ]
  },
  {
   "cell_type": "code",
   "execution_count": 106,
   "metadata": {
    "collapsed": false
   },
   "outputs": [
    {
     "data": {
      "text/html": [
       "<div>\n",
       "<table border=\"1\" class=\"dataframe\">\n",
       "  <thead>\n",
       "    <tr style=\"text-align: right;\">\n",
       "      <th></th>\n",
       "      <th>x1</th>\n",
       "      <th>y</th>\n",
       "      <th>x2</th>\n",
       "      <th>epsilon</th>\n",
       "      <th>x0</th>\n",
       "      <th>x3</th>\n",
       "      <th>x4</th>\n",
       "      <th>x5</th>\n",
       "      <th>x6</th>\n",
       "      <th>x7</th>\n",
       "    </tr>\n",
       "  </thead>\n",
       "  <tbody>\n",
       "    <tr>\n",
       "      <th>0</th>\n",
       "      <td>107.126921</td>\n",
       "      <td>1862.613465</td>\n",
       "      <td>11476.177099</td>\n",
       "      <td>0.634595</td>\n",
       "      <td>1</td>\n",
       "      <td>1.229408e+06</td>\n",
       "      <td>1.317026e+08</td>\n",
       "      <td>1.410890e+10</td>\n",
       "      <td>1.511443e+12</td>\n",
       "      <td>1.619162e+14</td>\n",
       "    </tr>\n",
       "    <tr>\n",
       "      <th>1</th>\n",
       "      <td>507.451748</td>\n",
       "      <td>39247.454167</td>\n",
       "      <td>257507.276731</td>\n",
       "      <td>0.420560</td>\n",
       "      <td>1</td>\n",
       "      <td>1.306725e+08</td>\n",
       "      <td>6.631000e+10</td>\n",
       "      <td>3.364912e+13</td>\n",
       "      <td>1.707531e+16</td>\n",
       "      <td>8.664894e+18</td>\n",
       "    </tr>\n",
       "    <tr>\n",
       "      <th>2</th>\n",
       "      <td>189.833425</td>\n",
       "      <td>5644.670721</td>\n",
       "      <td>36036.729350</td>\n",
       "      <td>-0.638791</td>\n",
       "      <td>1</td>\n",
       "      <td>6.840976e+06</td>\n",
       "      <td>1.298646e+09</td>\n",
       "      <td>2.465264e+11</td>\n",
       "      <td>4.679895e+13</td>\n",
       "      <td>8.884005e+15</td>\n",
       "    </tr>\n",
       "    <tr>\n",
       "      <th>3</th>\n",
       "      <td>541.311796</td>\n",
       "      <td>44614.610862</td>\n",
       "      <td>293018.460856</td>\n",
       "      <td>0.267578</td>\n",
       "      <td>1</td>\n",
       "      <td>1.586143e+08</td>\n",
       "      <td>8.585982e+10</td>\n",
       "      <td>4.647693e+13</td>\n",
       "      <td>2.515851e+16</td>\n",
       "      <td>1.361860e+19</td>\n",
       "    </tr>\n",
       "    <tr>\n",
       "      <th>4</th>\n",
       "      <td>146.302644</td>\n",
       "      <td>3398.784051</td>\n",
       "      <td>21404.463576</td>\n",
       "      <td>0.551342</td>\n",
       "      <td>1</td>\n",
       "      <td>3.131530e+06</td>\n",
       "      <td>4.581511e+08</td>\n",
       "      <td>6.702871e+10</td>\n",
       "      <td>9.806478e+12</td>\n",
       "      <td>1.434714e+15</td>\n",
       "    </tr>\n",
       "  </tbody>\n",
       "</table>\n",
       "</div>"
      ],
      "text/plain": [
       "           x1             y             x2   epsilon  x0            x3  \\\n",
       "0  107.126921   1862.613465   11476.177099  0.634595   1  1.229408e+06   \n",
       "1  507.451748  39247.454167  257507.276731  0.420560   1  1.306725e+08   \n",
       "2  189.833425   5644.670721   36036.729350 -0.638791   1  6.840976e+06   \n",
       "3  541.311796  44614.610862  293018.460856  0.267578   1  1.586143e+08   \n",
       "4  146.302644   3398.784051   21404.463576  0.551342   1  3.131530e+06   \n",
       "\n",
       "             x4            x5            x6            x7  \n",
       "0  1.317026e+08  1.410890e+10  1.511443e+12  1.619162e+14  \n",
       "1  6.631000e+10  3.364912e+13  1.707531e+16  8.664894e+18  \n",
       "2  1.298646e+09  2.465264e+11  4.679895e+13  8.884005e+15  \n",
       "3  8.585982e+10  4.647693e+13  2.515851e+16  1.361860e+19  \n",
       "4  4.581511e+08  6.702871e+10  9.806478e+12  1.434714e+15  "
      ]
     },
     "execution_count": 106,
     "metadata": {},
     "output_type": "execute_result"
    }
   ],
   "source": [
    "data.head()"
   ]
  },
  {
   "cell_type": "code",
   "execution_count": 107,
   "metadata": {
    "collapsed": false
   },
   "outputs": [],
   "source": [
    "from sklearn import cross_validation\n",
    "import statsmodels.api as sm\n",
    "\n",
    "y, X = dmatrices('y ~ x0 + x1 + x2 + x3 + x4 + x5 + x6 + x7', data=data, return_type='dataframe')\n",
    "\n",
    "X_train, X_test, y_train, y_test = cross_validation.train_test_split(X, y, test_size=0.25)\n",
    "\n",
    "\n",
    "train_err = []\n",
    "test_err = []\n",
    "r_sqrd = []\n",
    "aic = []\n",
    "\n",
    "for i in range(8):\n",
    "    model = sm.OLS(y_train, X_train[\"x\"+str(i)]).fit()\n",
    "    train_err.append(metrics.mean_squared_error(y_train,model.predict(X_train[\"x\"+str(i)])))\n",
    "    \n",
    "    test_err.append(metrics.mean_squared_error(y_test,model.predict(X_test[\"x\"+str(i)])))\n",
    "    \n",
    "    r_sqrd.append(model.rsquared)\n",
    "    \n",
    "    aic.append(model.aic)"
   ]
  },
  {
   "cell_type": "code",
   "execution_count": 110,
   "metadata": {
    "collapsed": false
   },
   "outputs": [
    {
     "data": {
      "image/png": "[encoded data removed]",
      "text/plain": [
       "<matplotlib.figure.Figure at 0x118d529e8>"
      ]
     },
     "metadata": {},
     "output_type": "display_data"
    },
    {
     "data": {
      "image/png": "[encoded data removed]",
      "text/plain": [
       "<matplotlib.figure.Figure at 0x118c0e2e8>"
      ]
     },
     "metadata": {},
     "output_type": "display_data"
    },
    {
     "data": {
      "image/png": "[encoded data removed]",
      "text/plain": [
       "<matplotlib.figure.Figure at 0x118911668>"
      ]
     },
     "metadata": {},
     "output_type": "display_data"
    },
    {
     "data": {
      "image/png": "[encoded data removed]",
      "text/plain": [
       "<matplotlib.figure.Figure at 0x117ad7240>"
      ]
     },
     "metadata": {},
     "output_type": "display_data"
    }
   ],
   "source": [
    "x= range(8)\n",
    "plt.plot(x,train_err)\n",
    "plt.title(\"Degree vs Train error\")\n",
    "plt.xlabel(\"Degree\")\n",
    "plt.ylabel(\"Train error\")\n",
    "plt.show()\n",
    "\n",
    "plt.plot(x,test_err)\n",
    "plt.title(\"Degree vs Test error\")\n",
    "plt.xlabel(\"Degree\")\n",
    "plt.ylabel(\"Test error\")\n",
    "plt.show()\n",
    "\n",
    "plt.plot(x,r_sqrd)\n",
    "plt.title(\"Degree vs R-squared\")\n",
    "plt.xlabel(\"Degree\")\n",
    "plt.ylabel(\"R-squared\")\n",
    "plt.show()\n",
    "\n",
    "\n",
    "plt.plot(x,aic)\n",
    "plt.title(\"Degree vs AIC\")\n",
    "plt.xlabel(\"Degree\")\n",
    "plt.ylabel(\"AIC\")\n",
    "plt.show()\n",
    "\n"
   ]
  },
  {
   "cell_type": "markdown",
   "metadata": {},
   "source": [
    "### Challenge 4"
   ]
  },
  {
   "cell_type": "code",
   "execution_count": 118,
   "metadata": {
    "collapsed": false
   },
   "outputs": [],
   "source": [
    "m = []\n",
    "train_err = []\n",
    "test_err = []\n",
    "\n",
    "y, X = dmatrices('y ~ x1', data=data, return_type='dataframe')\n",
    "\n",
    "X_train, X_test, y_train, y_test = cross_validation.train_test_split(X, y, test_size=0.25)\n",
    "\n",
    "for rows in range(5,1000,5):\n",
    "    m.append(rows)\n",
    "    model = LinearRegression().fit(X_train[:rows], y_train[:rows])\n",
    "    train_err.append(metrics.mean_squared_error(y_train[:rows], model.predict(X_train[:rows])))\n",
    "    test_err.append(metrics.mean_squared_error(y_test, model.predict(X_test)))"
   ]
  },
  {
   "cell_type": "code",
   "execution_count": 126,
   "metadata": {
    "collapsed": false
   },
   "outputs": [
    {
     "data": {
      "image/png": "[encoded data removed]",
      "text/plain": [
       "<matplotlib.figure.Figure at 0x11898db70>"
      ]
     },
     "metadata": {},
     "output_type": "display_data"
    }
   ],
   "source": [
    "import matplotlib.patches as mpatches\n",
    "\n",
    "plt.plot(m, train_err, 'b-')\n",
    "plt.plot(m, test_err, 'g-')\n",
    "\n",
    "plt.xlabel('m')\n",
    "plt.title(\"Test & Train errors with increasing training sample size\")\n",
    "train = mpatches.Patch(color='blue', label='Training Error')\n",
    "test = mpatches.Patch(color='green', label='Testing Error')\n",
    "plt.legend(handles=[train,test])\n",
    "\n",
    "plt.show()"
   ]
  },
  {
   "cell_type": "code",
   "execution_count": null,
   "metadata": {
    "collapsed": true
   },
   "outputs": [],
   "source": []
  }
 ],
 "metadata": {
  "kernelspec": {
   "display_name": "Python 3",
   "language": "python",
   "name": "python3"
  },
  "language_info": {
   "codemirror_mode": {
    "name": "ipython",
    "version": 3
   },
   "file_extension": ".py",
   "mimetype": "text/x-python",
   "name": "python",
   "nbconvert_exporter": "python",
   "pygments_lexer": "ipython3",
   "version": "3.5.2"
  }
 },
 "nbformat": 4,
 "nbformat_minor": 0
}
