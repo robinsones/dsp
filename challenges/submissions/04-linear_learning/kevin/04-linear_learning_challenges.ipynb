{
 "cells": [
  {
   "cell_type": "markdown",
   "metadata": {},
   "source": [
    "## Challenge Set 4\n",
    "Topic: Linear Regression and Train/Test Split challenges  \n",
    "Date: 07/19/2016  \n",
    "Name: Kevin Cole  "
   ]
  },
  {
   "cell_type": "code",
   "execution_count": 2,
   "metadata": {
    "collapsed": true
   },
   "outputs": [],
   "source": [
    "import pandas as pd\n",
    "%matplotlib inline\n",
    "from datetime import date\n",
    "import matplotlib.pyplot as plt\n",
    "import seaborn as sns\n",
    "import numpy as np\n",
    "from patsy import dmatrices\n",
    "import statsmodels.api as sm"
   ]
  },
  {
   "cell_type": "code",
   "execution_count": 3,
   "metadata": {
    "collapsed": false
   },
   "outputs": [],
   "source": [
    "# B0 + B1*log(x) + epsilon\n",
    "# Create randomly distributed error\n",
    "x = np.random.rand(100)*100\n",
    "mu, sigma = 0, 1\n",
    "epsilon = np.random.normal(mu, sigma, 100)\n",
    "B0 = 22\n",
    "B1 = 1.2\n",
    "y = [[B0 + B1*np.log(x[i]) + epsilon[i]] for i in range(len(x))]\n",
    "\n",
    "df = pd.DataFrame(data = y)\n",
    "df.columns = ['y']\n",
    "df['x'] = [i for i in x]\n",
    "df['epsilon'] = [i for i in epsilon]"
   ]
  },
  {
   "cell_type": "code",
   "execution_count": 4,
   "metadata": {
    "collapsed": false
   },
   "outputs": [
    {
     "data": {
      "text/html": [
       "<div>\n",
       "<table border=\"1\" class=\"dataframe\">\n",
       "  <thead>\n",
       "    <tr style=\"text-align: right;\">\n",
       "      <th></th>\n",
       "      <th>y</th>\n",
       "      <th>x</th>\n",
       "      <th>epsilon</th>\n",
       "    </tr>\n",
       "  </thead>\n",
       "  <tbody>\n",
       "    <tr>\n",
       "      <th>0</th>\n",
       "      <td>26.505738</td>\n",
       "      <td>96.514094</td>\n",
       "      <td>-0.977889</td>\n",
       "    </tr>\n",
       "    <tr>\n",
       "      <th>1</th>\n",
       "      <td>24.713805</td>\n",
       "      <td>27.634364</td>\n",
       "      <td>-1.269067</td>\n",
       "    </tr>\n",
       "  </tbody>\n",
       "</table>\n",
       "</div>"
      ],
      "text/plain": [
       "           y          x   epsilon\n",
       "0  26.505738  96.514094 -0.977889\n",
       "1  24.713805  27.634364 -1.269067"
      ]
     },
     "execution_count": 4,
     "metadata": {},
     "output_type": "execute_result"
    }
   ],
   "source": [
    "df.head(2)"
   ]
  },
  {
   "cell_type": "code",
   "execution_count": 5,
   "metadata": {
    "collapsed": false
   },
   "outputs": [
    {
     "data": {
      "text/plain": [
       "25.043222059946991"
      ]
     },
     "execution_count": 5,
     "metadata": {},
     "output_type": "execute_result"
    }
   ],
   "source": [
    "22 + 1.2*np.log(52.986962) + (-1.720833)"
   ]
  },
  {
   "cell_type": "code",
   "execution_count": 6,
   "metadata": {
    "collapsed": false
   },
   "outputs": [],
   "source": [
    "df['quad_x'] = [i**2 for i in x]\n",
    "df['log_x'] = np.log(x)"
   ]
  },
  {
   "cell_type": "code",
   "execution_count": 7,
   "metadata": {
    "collapsed": false
   },
   "outputs": [
    {
     "data": {
      "text/html": [
       "<div>\n",
       "<table border=\"1\" class=\"dataframe\">\n",
       "  <thead>\n",
       "    <tr style=\"text-align: right;\">\n",
       "      <th></th>\n",
       "      <th>y</th>\n",
       "      <th>x</th>\n",
       "      <th>epsilon</th>\n",
       "      <th>quad_x</th>\n",
       "      <th>log_x</th>\n",
       "    </tr>\n",
       "  </thead>\n",
       "  <tbody>\n",
       "    <tr>\n",
       "      <th>0</th>\n",
       "      <td>26.505738</td>\n",
       "      <td>96.514094</td>\n",
       "      <td>-0.977889</td>\n",
       "      <td>9314.970273</td>\n",
       "      <td>4.569689</td>\n",
       "    </tr>\n",
       "    <tr>\n",
       "      <th>1</th>\n",
       "      <td>24.713805</td>\n",
       "      <td>27.634364</td>\n",
       "      <td>-1.269067</td>\n",
       "      <td>763.658093</td>\n",
       "      <td>3.319060</td>\n",
       "    </tr>\n",
       "  </tbody>\n",
       "</table>\n",
       "</div>"
      ],
      "text/plain": [
       "           y          x   epsilon       quad_x     log_x\n",
       "0  26.505738  96.514094 -0.977889  9314.970273  4.569689\n",
       "1  24.713805  27.634364 -1.269067   763.658093  3.319060"
      ]
     },
     "execution_count": 7,
     "metadata": {},
     "output_type": "execute_result"
    }
   ],
   "source": [
    "df.head(2)"
   ]
  },
  {
   "cell_type": "code",
   "execution_count": 8,
   "metadata": {
    "collapsed": false
   },
   "outputs": [
    {
     "data": {
      "text/html": [
       "<table class=\"simpletable\">\n",
       "<caption>OLS Regression Results</caption>\n",
       "<tr>\n",
       "  <th>Dep. Variable:</th>            <td>y</td>        <th>  R-squared:         </th> <td>   0.444</td>\n",
       "</tr>\n",
       "<tr>\n",
       "  <th>Model:</th>                   <td>OLS</td>       <th>  Adj. R-squared:    </th> <td>   0.438</td>\n",
       "</tr>\n",
       "<tr>\n",
       "  <th>Method:</th>             <td>Least Squares</td>  <th>  F-statistic:       </th> <td>   78.21</td>\n",
       "</tr>\n",
       "<tr>\n",
       "  <th>Date:</th>             <td>Thu, 21 Jul 2016</td> <th>  Prob (F-statistic):</th> <td>3.90e-14</td>\n",
       "</tr>\n",
       "<tr>\n",
       "  <th>Time:</th>                 <td>11:46:49</td>     <th>  Log-Likelihood:    </th> <td> -166.29</td>\n",
       "</tr>\n",
       "<tr>\n",
       "  <th>No. Observations:</th>      <td>   100</td>      <th>  AIC:               </th> <td>   336.6</td>\n",
       "</tr>\n",
       "<tr>\n",
       "  <th>Df Residuals:</th>          <td>    98</td>      <th>  BIC:               </th> <td>   341.8</td>\n",
       "</tr>\n",
       "<tr>\n",
       "  <th>Df Model:</th>              <td>     1</td>      <th>                     </th>     <td> </td>   \n",
       "</tr>\n",
       "<tr>\n",
       "  <th>Covariance Type:</th>      <td>nonrobust</td>    <th>                     </th>     <td> </td>   \n",
       "</tr>\n",
       "</table>\n",
       "<table class=\"simpletable\">\n",
       "<tr>\n",
       "      <td></td>         <th>coef</th>     <th>std err</th>      <th>t</th>      <th>P>|t|</th> <th>[95.0% Conf. Int.]</th> \n",
       "</tr>\n",
       "<tr>\n",
       "  <th>Intercept</th> <td>   25.0305</td> <td>    0.196</td> <td>  127.828</td> <td> 0.000</td> <td>   24.642    25.419</td>\n",
       "</tr>\n",
       "<tr>\n",
       "  <th>quad_x</th>    <td>    0.0003</td> <td> 3.89e-05</td> <td>    8.843</td> <td> 0.000</td> <td>    0.000     0.000</td>\n",
       "</tr>\n",
       "</table>\n",
       "<table class=\"simpletable\">\n",
       "<tr>\n",
       "  <th>Omnibus:</th>       <td>39.742</td> <th>  Durbin-Watson:     </th> <td>   1.884</td>\n",
       "</tr>\n",
       "<tr>\n",
       "  <th>Prob(Omnibus):</th> <td> 0.000</td> <th>  Jarque-Bera (JB):  </th> <td> 117.194</td>\n",
       "</tr>\n",
       "<tr>\n",
       "  <th>Skew:</th>          <td>-1.368</td> <th>  Prob(JB):          </th> <td>3.56e-26</td>\n",
       "</tr>\n",
       "<tr>\n",
       "  <th>Kurtosis:</th>      <td> 7.543</td> <th>  Cond. No.          </th> <td>7.64e+03</td>\n",
       "</tr>\n",
       "</table>"
      ],
      "text/plain": [
       "<class 'statsmodels.iolib.summary.Summary'>\n",
       "\"\"\"\n",
       "                            OLS Regression Results                            \n",
       "==============================================================================\n",
       "Dep. Variable:                      y   R-squared:                       0.444\n",
       "Model:                            OLS   Adj. R-squared:                  0.438\n",
       "Method:                 Least Squares   F-statistic:                     78.21\n",
       "Date:                Thu, 21 Jul 2016   Prob (F-statistic):           3.90e-14\n",
       "Time:                        11:46:49   Log-Likelihood:                -166.29\n",
       "No. Observations:                 100   AIC:                             336.6\n",
       "Df Residuals:                      98   BIC:                             341.8\n",
       "Df Model:                           1                                         \n",
       "Covariance Type:            nonrobust                                         \n",
       "==============================================================================\n",
       "                 coef    std err          t      P>|t|      [95.0% Conf. Int.]\n",
       "------------------------------------------------------------------------------\n",
       "Intercept     25.0305      0.196    127.828      0.000        24.642    25.419\n",
       "quad_x         0.0003   3.89e-05      8.843      0.000         0.000     0.000\n",
       "==============================================================================\n",
       "Omnibus:                       39.742   Durbin-Watson:                   1.884\n",
       "Prob(Omnibus):                  0.000   Jarque-Bera (JB):              117.194\n",
       "Skew:                          -1.368   Prob(JB):                     3.56e-26\n",
       "Kurtosis:                       7.543   Cond. No.                     7.64e+03\n",
       "==============================================================================\n",
       "\n",
       "Warnings:\n",
       "[1] Standard Errors assume that the covariance matrix of the errors is correctly specified.\n",
       "[2] The condition number is large, 7.64e+03. This might indicate that there are\n",
       "strong multicollinearity or other numerical problems.\n",
       "\"\"\""
      ]
     },
     "execution_count": 8,
     "metadata": {},
     "output_type": "execute_result"
    }
   ],
   "source": [
    "y, X = dmatrices('y ~ quad_x', data=df, return_type='dataframe')\n",
    "model = sm.OLS(y, X)\n",
    "results = model.fit()\n",
    "pred = results.predict(X)\n",
    "results.summary()"
   ]
  },
  {
   "cell_type": "code",
   "execution_count": 9,
   "metadata": {
    "collapsed": false
   },
   "outputs": [
    {
     "data": {
      "text/html": [
       "<table class=\"simpletable\">\n",
       "<caption>OLS Regression Results</caption>\n",
       "<tr>\n",
       "  <th>Dep. Variable:</th>            <td>y</td>        <th>  R-squared:         </th> <td>   0.751</td>\n",
       "</tr>\n",
       "<tr>\n",
       "  <th>Model:</th>                   <td>OLS</td>       <th>  Adj. R-squared:    </th> <td>   0.749</td>\n",
       "</tr>\n",
       "<tr>\n",
       "  <th>Method:</th>             <td>Least Squares</td>  <th>  F-statistic:       </th> <td>   295.9</td>\n",
       "</tr>\n",
       "<tr>\n",
       "  <th>Date:</th>             <td>Thu, 21 Jul 2016</td> <th>  Prob (F-statistic):</th> <td>2.32e-31</td>\n",
       "</tr>\n",
       "<tr>\n",
       "  <th>Time:</th>                 <td>11:46:51</td>     <th>  Log-Likelihood:    </th> <td> -126.07</td>\n",
       "</tr>\n",
       "<tr>\n",
       "  <th>No. Observations:</th>      <td>   100</td>      <th>  AIC:               </th> <td>   256.1</td>\n",
       "</tr>\n",
       "<tr>\n",
       "  <th>Df Residuals:</th>          <td>    98</td>      <th>  BIC:               </th> <td>   261.3</td>\n",
       "</tr>\n",
       "<tr>\n",
       "  <th>Df Model:</th>              <td>     1</td>      <th>                     </th>     <td> </td>   \n",
       "</tr>\n",
       "<tr>\n",
       "  <th>Covariance Type:</th>      <td>nonrobust</td>    <th>                     </th>     <td> </td>   \n",
       "</tr>\n",
       "</table>\n",
       "<table class=\"simpletable\">\n",
       "<tr>\n",
       "      <td></td>         <th>coef</th>     <th>std err</th>      <th>t</th>      <th>P>|t|</th> <th>[95.0% Conf. Int.]</th> \n",
       "</tr>\n",
       "<tr>\n",
       "  <th>Intercept</th> <td>   21.4868</td> <td>    0.295</td> <td>   72.910</td> <td> 0.000</td> <td>   20.902    22.072</td>\n",
       "</tr>\n",
       "<tr>\n",
       "  <th>log_x</th>     <td>    1.3425</td> <td>    0.078</td> <td>   17.200</td> <td> 0.000</td> <td>    1.188     1.497</td>\n",
       "</tr>\n",
       "</table>\n",
       "<table class=\"simpletable\">\n",
       "<tr>\n",
       "  <th>Omnibus:</th>       <td> 0.966</td> <th>  Durbin-Watson:     </th> <td>   2.152</td>\n",
       "</tr>\n",
       "<tr>\n",
       "  <th>Prob(Omnibus):</th> <td> 0.617</td> <th>  Jarque-Bera (JB):  </th> <td>   0.945</td>\n",
       "</tr>\n",
       "<tr>\n",
       "  <th>Skew:</th>          <td> 0.056</td> <th>  Prob(JB):          </th> <td>   0.623</td>\n",
       "</tr>\n",
       "<tr>\n",
       "  <th>Kurtosis:</th>      <td> 2.537</td> <th>  Cond. No.          </th> <td>    13.7</td>\n",
       "</tr>\n",
       "</table>"
      ],
      "text/plain": [
       "<class 'statsmodels.iolib.summary.Summary'>\n",
       "\"\"\"\n",
       "                            OLS Regression Results                            \n",
       "==============================================================================\n",
       "Dep. Variable:                      y   R-squared:                       0.751\n",
       "Model:                            OLS   Adj. R-squared:                  0.749\n",
       "Method:                 Least Squares   F-statistic:                     295.9\n",
       "Date:                Thu, 21 Jul 2016   Prob (F-statistic):           2.32e-31\n",
       "Time:                        11:46:51   Log-Likelihood:                -126.07\n",
       "No. Observations:                 100   AIC:                             256.1\n",
       "Df Residuals:                      98   BIC:                             261.3\n",
       "Df Model:                           1                                         \n",
       "Covariance Type:            nonrobust                                         \n",
       "==============================================================================\n",
       "                 coef    std err          t      P>|t|      [95.0% Conf. Int.]\n",
       "------------------------------------------------------------------------------\n",
       "Intercept     21.4868      0.295     72.910      0.000        20.902    22.072\n",
       "log_x          1.3425      0.078     17.200      0.000         1.188     1.497\n",
       "==============================================================================\n",
       "Omnibus:                        0.966   Durbin-Watson:                   2.152\n",
       "Prob(Omnibus):                  0.617   Jarque-Bera (JB):                0.945\n",
       "Skew:                           0.056   Prob(JB):                        0.623\n",
       "Kurtosis:                       2.537   Cond. No.                         13.7\n",
       "==============================================================================\n",
       "\n",
       "Warnings:\n",
       "[1] Standard Errors assume that the covariance matrix of the errors is correctly specified.\n",
       "\"\"\""
      ]
     },
     "execution_count": 9,
     "metadata": {},
     "output_type": "execute_result"
    }
   ],
   "source": [
    "y, X = dmatrices('y ~ log_x', data=df, return_type='dataframe')\n",
    "model = sm.OLS(y, X)\n",
    "results = model.fit()\n",
    "pred = results.predict(X)\n",
    "results.summary()"
   ]
  },
  {
   "cell_type": "code",
   "execution_count": 10,
   "metadata": {
    "collapsed": false
   },
   "outputs": [
    {
     "data": {
      "image/png": "[encoded data removed]",
      "text/plain": [
       "<matplotlib.figure.Figure at 0x118b4ea20>"
      ]
     },
     "metadata": {},
     "output_type": "display_data"
    }
   ],
   "source": [
    "plt.scatter(pred, y)\n",
    "plt.xlabel('log_Prediction')\n",
    "plt.ylabel('y')\n",
    "plt.show()"
   ]
  },
  {
   "cell_type": "markdown",
   "metadata": {},
   "source": [
    "## Challenge 2"
   ]
  },
  {
   "cell_type": "code",
   "execution_count": 11,
   "metadata": {
    "collapsed": true
   },
   "outputs": [],
   "source": [
    "#B0 + B1*x + B2*x^2 + epsilon\n",
    "\n",
    "x = np.random.rand(100)*100\n",
    "mu, sigma = 0, 10\n",
    "epsilon = np.random.normal(mu, sigma, 100)\n",
    "B0 = 22\n",
    "B1 = 1.2\n",
    "B2 = 0.6\n",
    "y = [[B0 + B1*x[i] + B2*(x[i]**2) + epsilon[i]] for i in range(len(x))]\n",
    "\n",
    "df = pd.DataFrame(data = y)\n",
    "df.columns = ['y']\n",
    "df['x'] = [i for i in x]\n",
    "df['epsilon'] = [i for i in epsilon]"
   ]
  },
  {
   "cell_type": "code",
   "execution_count": 69,
   "metadata": {
    "collapsed": false,
    "scrolled": true
   },
   "outputs": [
    {
     "data": {
      "text/html": [
       "<div>\n",
       "<table border=\"1\" class=\"dataframe\">\n",
       "  <thead>\n",
       "    <tr style=\"text-align: right;\">\n",
       "      <th></th>\n",
       "      <th>y</th>\n",
       "      <th>x</th>\n",
       "      <th>epsilon</th>\n",
       "    </tr>\n",
       "  </thead>\n",
       "  <tbody>\n",
       "    <tr>\n",
       "      <th>0</th>\n",
       "      <td>121.794152</td>\n",
       "      <td>11.936263</td>\n",
       "      <td>-0.013982</td>\n",
       "    </tr>\n",
       "    <tr>\n",
       "      <th>1</th>\n",
       "      <td>4395.322023</td>\n",
       "      <td>84.550635</td>\n",
       "      <td>-17.424690</td>\n",
       "    </tr>\n",
       "  </tbody>\n",
       "</table>\n",
       "</div>"
      ],
      "text/plain": [
       "             y          x    epsilon\n",
       "0   121.794152  11.936263  -0.013982\n",
       "1  4395.322023  84.550635 -17.424690"
      ]
     },
     "execution_count": 69,
     "metadata": {},
     "output_type": "execute_result"
    }
   ],
   "source": [
    "df.head(2)"
   ]
  },
  {
   "cell_type": "code",
   "execution_count": 13,
   "metadata": {
    "collapsed": false
   },
   "outputs": [],
   "source": [
    "#Split the data into a training and test set\n",
    "from sklearn import cross_validation\n",
    "from sklearn.linear_model import LinearRegression\n",
    "\n",
    "y, X = dmatrices('y ~ x', data=df, return_type='dataframe')\n",
    "\n",
    "X_train, X_test, y_train, y_test = cross_validation.train_test_split(X, y, test_size=0.25)\n",
    "\n",
    "#Fit a model to your training set.\n",
    "model = LinearRegression().fit(X_train, y_train)"
   ]
  },
  {
   "cell_type": "code",
   "execution_count": 14,
   "metadata": {
    "collapsed": false
   },
   "outputs": [
    {
     "name": "stdout",
     "output_type": "stream",
     "text": [
      "207839.809347\n",
      "160140.131355\n"
     ]
    }
   ],
   "source": [
    "#Calculate mean squared error on your training set.\n",
    "from sklearn import metrics\n",
    "\n",
    "print(metrics.mean_squared_error(y_train,model.predict(X_train)))\n",
    "\n",
    "#Then calculate it on your test set.\n",
    "print(metrics.mean_squared_error(y_test,model.predict(X_test)))"
   ]
  },
  {
   "cell_type": "markdown",
   "metadata": {},
   "source": [
    "## Challenge 3"
   ]
  },
  {
   "cell_type": "code",
   "execution_count": 15,
   "metadata": {
    "collapsed": false
   },
   "outputs": [
    {
     "data": {
      "text/html": [
       "<div>\n",
       "<table border=\"1\" class=\"dataframe\">\n",
       "  <thead>\n",
       "    <tr style=\"text-align: right;\">\n",
       "      <th></th>\n",
       "      <th>y</th>\n",
       "      <th>x</th>\n",
       "      <th>epsilon</th>\n",
       "      <th>x_0</th>\n",
       "      <th>x_1</th>\n",
       "      <th>x_2</th>\n",
       "      <th>x_3</th>\n",
       "      <th>x_4</th>\n",
       "      <th>x_5</th>\n",
       "      <th>x_6</th>\n",
       "      <th>x_7</th>\n",
       "    </tr>\n",
       "  </thead>\n",
       "  <tbody>\n",
       "    <tr>\n",
       "      <th>0</th>\n",
       "      <td>121.794152</td>\n",
       "      <td>11.936263</td>\n",
       "      <td>-0.013982</td>\n",
       "      <td>1.0</td>\n",
       "      <td>11.936263</td>\n",
       "      <td>142.474364</td>\n",
       "      <td>1700.611416</td>\n",
       "      <td>2.029894e+04</td>\n",
       "      <td>2.422935e+05</td>\n",
       "      <td>2.892079e+06</td>\n",
       "      <td>3.452062e+07</td>\n",
       "    </tr>\n",
       "    <tr>\n",
       "      <th>1</th>\n",
       "      <td>4395.322023</td>\n",
       "      <td>84.550635</td>\n",
       "      <td>-17.424690</td>\n",
       "      <td>1.0</td>\n",
       "      <td>84.550635</td>\n",
       "      <td>7148.809919</td>\n",
       "      <td>604436.419809</td>\n",
       "      <td>5.110548e+07</td>\n",
       "      <td>4.321001e+09</td>\n",
       "      <td>3.653434e+11</td>\n",
       "      <td>3.089002e+13</td>\n",
       "    </tr>\n",
       "  </tbody>\n",
       "</table>\n",
       "</div>"
      ],
      "text/plain": [
       "             y          x    epsilon  x_0        x_1          x_2  \\\n",
       "0   121.794152  11.936263  -0.013982  1.0  11.936263   142.474364   \n",
       "1  4395.322023  84.550635 -17.424690  1.0  84.550635  7148.809919   \n",
       "\n",
       "             x_3           x_4           x_5           x_6           x_7  \n",
       "0    1700.611416  2.029894e+04  2.422935e+05  2.892079e+06  3.452062e+07  \n",
       "1  604436.419809  5.110548e+07  4.321001e+09  3.653434e+11  3.089002e+13  "
      ]
     },
     "execution_count": 15,
     "metadata": {},
     "output_type": "execute_result"
    }
   ],
   "source": [
    "# Creating polynomial columns\n",
    "\n",
    "df1 = df.copy()\n",
    "\n",
    "for i in range(8):\n",
    "    df1['x_{}'.format(i)] = [j**i for j in df1.x]\n",
    "\n",
    "df1.head(2)"
   ]
  },
  {
   "cell_type": "code",
   "execution_count": 26,
   "metadata": {
    "collapsed": false
   },
   "outputs": [],
   "source": [
    "#Split the data into a training and test set\n",
    "from sklearn import cross_validation\n",
    "from sklearn.linear_model import LinearRegression\n",
    "import statsmodels.api as sm\n",
    "\n",
    "y, X = dmatrices('y ~ x + x_0 + x_1 + x_2 + x_3 + x_4 + x_5 + x_6 + x_7', data=df1, return_type='dataframe')\n",
    "\n",
    "X_train, X_test, y_train, y_test = cross_validation.train_test_split(X, y, test_size=0.25)\n",
    "\n",
    "\n",
    "train_err = []\n",
    "test_err = []\n",
    "r_sqrd = []\n",
    "aic = []\n",
    "\n",
    "for i in range(8):\n",
    "    model = sm.OLS(y_train, X_train['x_{}'.format(i)]).fit()\n",
    "    \n",
    "    train_err.append(metrics.mean_squared_error(y_train,model.predict(X_train['x_{}'.format(i)])))\n",
    "    \n",
    "    #Then calculate it on your test set.\n",
    "    test_err.append(metrics.mean_squared_error(y_test,model.predict(X_test['x_{}'.format(i)])))\n",
    "    \n",
    "    r_sqrd.append(model.rsquared)\n",
    "    \n",
    "    aic.append(model.aic)"
   ]
  },
  {
   "cell_type": "code",
   "execution_count": 34,
   "metadata": {
    "collapsed": false
   },
   "outputs": [
    {
     "data": {
      "image/png": "[encoded data removed]",
      "text/plain": [
       "<matplotlib.figure.Figure at 0x11d7b3a90>"
      ]
     },
     "metadata": {},
     "output_type": "display_data"
    },
    {
     "data": {
      "image/png": "[encoded data removed]",
      "text/plain": [
       "<matplotlib.figure.Figure at 0x11cff7c88>"
      ]
     },
     "metadata": {},
     "output_type": "display_data"
    },
    {
     "data": {
      "image/png": "[encoded data removed]",
      "text/plain": [
       "<matplotlib.figure.Figure at 0x11bb32fd0>"
      ]
     },
     "metadata": {},
     "output_type": "display_data"
    },
    {
     "data": {
      "image/png": "[encoded data removed]",
      "text/plain": [
       "<matplotlib.figure.Figure at 0x11d3abef0>"
      ]
     },
     "metadata": {},
     "output_type": "display_data"
    }
   ],
   "source": [
    "plt.plot(range(8), train_err)\n",
    "plt.xlabel('Order')\n",
    "plt.ylabel('Training Error')\n",
    "plt.show()\n",
    "plt.plot(range(8), test_err, 'r-')\n",
    "plt.xlabel('Order')\n",
    "plt.ylabel('Testing Error')\n",
    "plt.show()\n",
    "plt.plot(range(8), r_sqrd, 'g-')\n",
    "plt.xlabel('Order')\n",
    "plt.ylabel('R Squared')\n",
    "plt.show()\n",
    "plt.plot(range(8), aic, 'y-')\n",
    "plt.xlabel('Order')\n",
    "plt.ylabel('AIC')\n",
    "plt.show()"
   ]
  },
  {
   "cell_type": "markdown",
   "metadata": {
    "collapsed": true
   },
   "source": [
    "## Challenge 4"
   ]
  },
  {
   "cell_type": "code",
   "execution_count": 98,
   "metadata": {
    "collapsed": false
   },
   "outputs": [],
   "source": [
    "from sklearn import cross_validation\n",
    "from sklearn.linear_model import LinearRegression\n",
    "import statsmodels.api as sm\n",
    "\n",
    "m = []\n",
    "train_err = []\n",
    "test_err = []\n",
    "\n",
    "y, X = dmatrices('y ~ x', data=df, return_type='dataframe')\n",
    "\n",
    "X_train, X_test, y_train, y_test = cross_validation.train_test_split(X, y, test_size=0.25)\n",
    "\n",
    "for i in range(1,21):\n",
    "    \n",
    "    rows = i*5\n",
    "    \n",
    "    m.append(rows)\n",
    "    \n",
    "    model = LinearRegression().fit(X_train[:rows], y_train[:rows])\n",
    "\n",
    "    train_err.append(metrics.mean_squared_error(y_train[:rows], model.predict(X_train[:rows])))\n",
    "    test_err.append(metrics.mean_squared_error(y_test, model.predict(X_test)))"
   ]
  },
  {
   "cell_type": "code",
   "execution_count": 101,
   "metadata": {
    "collapsed": false
   },
   "outputs": [
    {
     "data": {
      "image/png": "[encoded data removed]",
      "text/plain": [
       "<matplotlib.figure.Figure at 0x11dcc0470>"
      ]
     },
     "metadata": {},
     "output_type": "display_data"
    }
   ],
   "source": [
    "import matplotlib.patches as mpatches\n",
    "\n",
    "plt.plot(m, train_err, 'b-')\n",
    "plt.plot(m, test_err, 'r-')\n",
    "\n",
    "plt.xlabel('m')\n",
    "\n",
    "blue = mpatches.Patch(color='blue', label='Training Error')\n",
    "red = mpatches.Patch(color='red', label='Testing Error')\n",
    "plt.legend(handles=[red, blue])\n",
    "\n",
    "plt.show()"
   ]
  }
 ],
 "metadata": {
  "kernelspec": {
   "display_name": "Python 3",
   "language": "python",
   "name": "python3"
  },
  "language_info": {
   "codemirror_mode": {
    "name": "ipython",
    "version": 3
   },
   "file_extension": ".py",
   "mimetype": "text/x-python",
   "name": "python",
   "nbconvert_exporter": "python",
   "pygments_lexer": "ipython3",
   "version": "3.5.1"
  }
 },
 "nbformat": 4,
 "nbformat_minor": 0
}
