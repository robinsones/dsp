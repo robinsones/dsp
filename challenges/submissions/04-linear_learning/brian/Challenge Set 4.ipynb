{
 "cells": [
  {
   "cell_type": "markdown",
   "metadata": {},
   "source": [
    "Challenge Set 4  \n",
    "Topic:        Linear Learning  \n",
    "Date:         07/22/2016  \n",
    "Name:         Brian Cocolicchio "
   ]
  },
  {
   "cell_type": "markdown",
   "metadata": {},
   "source": [
    "**Challenge 1** Generate (fake) data that is linearly related to log(x).\n",
    "\n",
    "You are making this model up. It is of the form B0 + B1*log(x) + epsilon. (You are making up the parameters.)\n",
    "\n",
    "Simulate some data from this model.\n",
    "\n",
    "Then fit two models to it:\n",
    "\n",
    "    quadratic (second degree polynomial)\n",
    "    logarithmic (log(x))\n",
    "\n",
    "(The second one should fit really well, since it has the same form as the underlying model!)"
   ]
  },
  {
   "cell_type": "code",
   "execution_count": 31,
   "metadata": {
    "collapsed": false
   },
   "outputs": [
    {
     "name": "stdout",
     "output_type": "stream",
     "text": [
      "                            OLS Regression Results                            \n",
      "==============================================================================\n",
      "Dep. Variable:                      y   R-squared:                       0.607\n",
      "Model:                            OLS   Adj. R-squared:                  0.602\n",
      "Method:                 Least Squares   F-statistic:                     149.5\n",
      "Date:                Mon, 25 Jul 2016   Prob (F-statistic):           2.33e-21\n",
      "Time:                        23:17:03   Log-Likelihood:                -3.7934\n",
      "No. Observations:                  99   AIC:                             11.59\n",
      "Df Residuals:                      97   BIC:                             16.78\n",
      "Df Model:                           1                                         \n",
      "Covariance Type:            nonrobust                                         \n",
      "==============================================================================\n",
      "                 coef    std err          t      P>|t|      [95.0% Conf. Int.]\n",
      "------------------------------------------------------------------------------\n",
      "Intercept      2.9326      0.038     76.341      0.000         2.856     3.009\n",
      "I(x ** 2)      0.0001   8.65e-06     12.227      0.000      8.86e-05     0.000\n",
      "==============================================================================\n",
      "Omnibus:                       62.707   Durbin-Watson:                   0.029\n",
      "Prob(Omnibus):                  0.000   Jarque-Bera (JB):              244.254\n",
      "Skew:                          -2.207   Prob(JB):                     9.14e-54\n",
      "Kurtosis:                       9.303   Cond. No.                     6.68e+03\n",
      "==============================================================================\n",
      "\n",
      "Warnings:\n",
      "[1] Standard Errors assume that the covariance matrix of the errors is correctly specified.\n",
      "[2] The condition number is large, 6.68e+03. This might indicate that there are\n",
      "strong multicollinearity or other numerical problems.\n"
     ]
    }
   ],
   "source": [
    "import numpy as np\n",
    "import pandas as pd\n",
    "from pandas import Series\n",
    "import matplotlib.pyplot as plt\n",
    "import patsy\n",
    "import statsmodels.formula.api as sm\n",
    "import seaborn as sn\n",
    "\n",
    "b0 = 3\n",
    "b1 = 1\n",
    "x = list(range(1,100))\n",
    "eps = np.random.normal(0,1)\n",
    "y = b0 + b1*np.log10(x)+eps\n",
    "df = pd.DataFrame()\n",
    "df['x'] = x\n",
    "df['y']= y\n",
    "df.reset_index()\n",
    "df\n",
    "\n",
    "quad = sm.ols('y~I(x**2)',data=df).fit()\n",
    "print(quad.summary())"
   ]
  },
  {
   "cell_type": "code",
   "execution_count": 3,
   "metadata": {
    "collapsed": false
   },
   "outputs": [
    {
     "name": "stdout",
     "output_type": "stream",
     "text": [
      "                            OLS Regression Results                            \n",
      "==============================================================================\n",
      "Dep. Variable:                      y   R-squared:                       1.000\n",
      "Model:                            OLS   Adj. R-squared:                  1.000\n",
      "Method:                 Least Squares   F-statistic:                 2.444e+31\n",
      "Date:                Mon, 25 Jul 2016   Prob (F-statistic):               0.00\n",
      "Time:                        21:51:07   Log-Likelihood:                 3301.2\n",
      "No. Observations:                  99   AIC:                            -6598.\n",
      "Df Residuals:                      97   BIC:                            -6593.\n",
      "Df Model:                           1                                         \n",
      "Covariance Type:            nonrobust                                         \n",
      "===============================================================================\n",
      "                  coef    std err          t      P>|t|      [95.0% Conf. Int.]\n",
      "-------------------------------------------------------------------------------\n",
      "Intercept       2.8761   3.29e-16   8.75e+15      0.000         2.876     2.876\n",
      "np.log10(x)     1.0000   2.02e-16   4.94e+15      0.000         1.000     1.000\n",
      "==============================================================================\n",
      "Omnibus:                       34.894   Durbin-Watson:                   0.253\n",
      "Prob(Omnibus):                  0.000   Jarque-Bera (JB):               55.582\n",
      "Skew:                          -1.724   Prob(JB):                     8.52e-13\n",
      "Kurtosis:                       4.260   Cond. No.                         8.98\n",
      "==============================================================================\n",
      "\n",
      "Warnings:\n",
      "[1] Standard Errors assume that the covariance matrix of the errors is correctly specified.\n"
     ]
    }
   ],
   "source": [
    "logMod= sm.ols('y~np.log10(x)',data=df).fit()\n",
    "print(logMod.summary())"
   ]
  },
  {
   "cell_type": "markdown",
   "metadata": {},
   "source": [
    "**Challenge 2** Generate (fake) data from a model of the form B0 + B1*x + B2*x^2 + epsilon. (You are making up the parameters.)\n",
    "\n",
    "Split the data into a training and test set.\n",
    "\n",
    "Fit a model to your training set. Calculate mean squared error on your training set. Then calculate it on your test set.\n",
    "\n",
    "(You could use sklearn.metrics.mean_squared_error.)"
   ]
  },
  {
   "cell_type": "code",
   "execution_count": 8,
   "metadata": {
    "collapsed": false
   },
   "outputs": [
    {
     "data": {
      "text/html": [
       "<div>\n",
       "<table border=\"1\" class=\"dataframe\">\n",
       "  <thead>\n",
       "    <tr style=\"text-align: right;\">\n",
       "      <th></th>\n",
       "      <th>x</th>\n",
       "      <th>y</th>\n",
       "    </tr>\n",
       "  </thead>\n",
       "  <tbody>\n",
       "    <tr>\n",
       "      <th>0</th>\n",
       "      <td>1</td>\n",
       "      <td>6.769087</td>\n",
       "    </tr>\n",
       "    <tr>\n",
       "      <th>1</th>\n",
       "      <td>2</td>\n",
       "      <td>13.769087</td>\n",
       "    </tr>\n",
       "    <tr>\n",
       "      <th>2</th>\n",
       "      <td>3</td>\n",
       "      <td>24.769087</td>\n",
       "    </tr>\n",
       "    <tr>\n",
       "      <th>3</th>\n",
       "      <td>4</td>\n",
       "      <td>39.769087</td>\n",
       "    </tr>\n",
       "    <tr>\n",
       "      <th>4</th>\n",
       "      <td>5</td>\n",
       "      <td>58.769087</td>\n",
       "    </tr>\n",
       "    <tr>\n",
       "      <th>5</th>\n",
       "      <td>6</td>\n",
       "      <td>81.769087</td>\n",
       "    </tr>\n",
       "    <tr>\n",
       "      <th>6</th>\n",
       "      <td>7</td>\n",
       "      <td>108.769087</td>\n",
       "    </tr>\n",
       "    <tr>\n",
       "      <th>7</th>\n",
       "      <td>8</td>\n",
       "      <td>139.769087</td>\n",
       "    </tr>\n",
       "    <tr>\n",
       "      <th>8</th>\n",
       "      <td>9</td>\n",
       "      <td>174.769087</td>\n",
       "    </tr>\n",
       "    <tr>\n",
       "      <th>9</th>\n",
       "      <td>10</td>\n",
       "      <td>213.769087</td>\n",
       "    </tr>\n",
       "  </tbody>\n",
       "</table>\n",
       "</div>"
      ],
      "text/plain": [
       "    x           y\n",
       "0   1    6.769087\n",
       "1   2   13.769087\n",
       "2   3   24.769087\n",
       "3   4   39.769087\n",
       "4   5   58.769087\n",
       "5   6   81.769087\n",
       "6   7  108.769087\n",
       "7   8  139.769087\n",
       "8   9  174.769087\n",
       "9  10  213.769087"
      ]
     },
     "execution_count": 8,
     "metadata": {},
     "output_type": "execute_result"
    }
   ],
   "source": [
    "from sklearn.metrics import mean_squared_error\n",
    "b0 = 3\n",
    "b1 = 1\n",
    "b2 = 2\n",
    "\n",
    "x = pd.Series(range(1,100))\n",
    "eps = np.random.normal(0,1)\n",
    "y = b0 + b1*x + b2*(x**2) + eps\n",
    "df2 = pd.DataFrame()\n",
    "df2['x'] = x\n",
    "df2['y']= y\n",
    "df2.reset_index()\n",
    "df2.head(n=10)"
   ]
  },
  {
   "cell_type": "code",
   "execution_count": 14,
   "metadata": {
    "collapsed": false
   },
   "outputs": [
    {
     "name": "stdout",
     "output_type": "stream",
     "text": [
      "                            OLS Regression Results                            \n",
      "==============================================================================\n",
      "Dep. Variable:                      y   R-squared:                       1.000\n",
      "Model:                            OLS   Adj. R-squared:                  1.000\n",
      "Method:                 Least Squares   F-statistic:                 1.273e+31\n",
      "Date:                Mon, 25 Jul 2016   Prob (F-statistic):               0.00\n",
      "Time:                        21:59:38   Log-Likelihood:                 1885.7\n",
      "No. Observations:                  79   AIC:                            -3765.\n",
      "Df Residuals:                      76   BIC:                            -3758.\n",
      "Df Model:                           2                                         \n",
      "Covariance Type:            nonrobust                                         \n",
      "==============================================================================\n",
      "                 coef    std err          t      P>|t|      [95.0% Conf. Int.]\n",
      "------------------------------------------------------------------------------\n",
      "Intercept      3.7691   4.04e-12   9.32e+11      0.000         3.769     3.769\n",
      "x              1.0000   1.73e-13   5.79e+12      0.000         1.000     1.000\n",
      "I(x ** 2)      2.0000   1.61e-15   1.24e+15      0.000         2.000     2.000\n",
      "==============================================================================\n",
      "Omnibus:                       14.301   Durbin-Watson:                   1.681\n",
      "Prob(Omnibus):                  0.001   Jarque-Bera (JB):               16.823\n",
      "Skew:                           1.128   Prob(JB):                     0.000222\n",
      "Kurtosis:                       3.145   Cond. No.                     1.60e+04\n",
      "==============================================================================\n",
      "\n",
      "Warnings:\n",
      "[1] Standard Errors assume that the covariance matrix of the errors is correctly specified.\n",
      "[2] The condition number is large, 1.6e+04. This might indicate that there are\n",
      "strong multicollinearity or other numerical problems.\n"
     ]
    }
   ],
   "source": [
    "from sklearn.cross_validation import train_test_split\n",
    "train = df2.sample(frac=0.8, random_state=1)\n",
    "test = df2.loc[~df2.index.isin(train.index)]\n",
    "mod2 = sm.ols('y ~ x + I(x**2)',data= train).fit()\n",
    "print(mod2.summary())\n"
   ]
  },
  {
   "cell_type": "code",
   "execution_count": 15,
   "metadata": {
    "collapsed": false
   },
   "outputs": [
    {
     "name": "stdout",
     "output_type": "stream",
     "text": [
      "                            OLS Regression Results                            \n",
      "==============================================================================\n",
      "Dep. Variable:                      y   R-squared:                       1.000\n",
      "Model:                            OLS   Adj. R-squared:                  1.000\n",
      "Method:                 Least Squares   F-statistic:                 9.949e+29\n",
      "Date:                Mon, 25 Jul 2016   Prob (F-statistic):          8.29e-248\n",
      "Time:                        22:00:18   Log-Likelihood:                 471.74\n",
      "No. Observations:                  20   AIC:                            -937.5\n",
      "Df Residuals:                      17   BIC:                            -934.5\n",
      "Df Model:                           2                                         \n",
      "Covariance Type:            nonrobust                                         \n",
      "==============================================================================\n",
      "                 coef    std err          t      P>|t|      [95.0% Conf. Int.]\n",
      "------------------------------------------------------------------------------\n",
      "Intercept      3.7691   9.21e-12   4.09e+11      0.000         3.769     3.769\n",
      "x              1.0000   6.17e-13   1.62e+12      0.000         1.000     1.000\n",
      "I(x ** 2)      2.0000   7.12e-15   2.81e+14      0.000         2.000     2.000\n",
      "==============================================================================\n",
      "Omnibus:                        1.758   Durbin-Watson:                   0.061\n",
      "Prob(Omnibus):                  0.415   Jarque-Bera (JB):                1.425\n",
      "Skew:                           0.502   Prob(JB):                        0.490\n",
      "Kurtosis:                       2.163   Cond. No.                     8.58e+03\n",
      "==============================================================================\n",
      "\n",
      "Warnings:\n",
      "[1] Standard Errors assume that the covariance matrix of the errors is correctly specified.\n",
      "[2] The condition number is large, 8.58e+03. This might indicate that there are\n",
      "strong multicollinearity or other numerical problems.\n"
     ]
    }
   ],
   "source": [
    "mod2test = sm.ols('y ~ x + I(x**2)',data= test).fit()\n",
    "print(mod2test.summary())"
   ]
  },
  {
   "cell_type": "code",
   "execution_count": 23,
   "metadata": {
    "collapsed": false
   },
   "outputs": [
    {
     "name": "stdout",
     "output_type": "stream",
     "text": [
      "1.90536179572e-22\n",
      "1.08385855074e-22\n",
      "The MSE for the training data set is: 36765165.5696\n",
      "The MSE for the test data set is: 23476236.3158\n"
     ]
    }
   ],
   "source": [
    "print(mean_squared_error(test['y'],mod2test.fittedvalues))\n",
    "print(mean_squared_error(train['y'],mod2.fittedvalues))\n",
    "print('The MSE for the training data set is:', mod2.mse_total)\n",
    "print('The MSE for the test data set is:', mod2test.mse_total)"
   ]
  },
  {
   "cell_type": "markdown",
   "metadata": {},
   "source": [
    "Something is not right here."
   ]
  },
  {
   "cell_type": "markdown",
   "metadata": {},
   "source": [
    "**Challenge 3** For the data from two (above), try polynomial fits from 0th (just constant) to 7th order (highest term x^7). Over the x axis of model degree (8 points), plot:\n",
    "\n",
    "    training error\n",
    "    test error\n",
    "    R squared\n",
    "    AIC\n"
   ]
  },
  {
   "cell_type": "code",
   "execution_count": 40,
   "metadata": {
    "collapsed": false
   },
   "outputs": [
    {
     "data": {
      "image/png": "[encoded data removed]",
      "text/plain": [
       "<matplotlib.figure.Figure at 0x7f84064e9908>"
      ]
     },
     "metadata": {},
     "output_type": "display_data"
    }
   ],
   "source": [
    "modConst = sm.ols('y ~ 1',data= test).fit()\n",
    "modOne =sm.ols('y ~ x',data= test).fit()\n",
    "mod2test = sm.ols('y ~ x + I(x**2)',data= test).fit()\n",
    "modThree = sm.ols('y ~ x + I(x**2)+ I(x**3)',data= test).fit()\n",
    "modFour = sm.ols('y ~ x + I(x**2)+ I(x**3) + I(x**4)',data= test).fit() \n",
    "modFive = sm.ols('y ~ x + I(x**2)+ I(x**3) + I(x**4) + I(x**5)',data= test).fit()\n",
    "modSix = sm.ols('y ~ x + I(x**2)+ I(x**3) + I(x**4) + I(x**5)+I(x**6)',data= test).fit()\n",
    "modSeven = sm.ols('y ~ x + I(x**2)+ I(x**3) + I(x**4) + I(x**5)+I(x**6) + I(x**7)',data = test).fit()\n",
    "\n",
    "mod0 = sm.ols('y ~ 1',data= train).fit()\n",
    "mod1 =sm.ols('y ~ x',data= train).fit()\n",
    "mod2 = sm.ols('y ~ x + I(x**2)',data= train).fit()\n",
    "mod3 = sm.ols('y ~ x + I(x**2)+ I(x**3)',data= train).fit()\n",
    "mod4 = sm.ols('y ~ x + I(x**2)+ I(x**3) + I(x**4)',data= train).fit() \n",
    "mod5 = sm.ols('y ~ x + I(x**2)+ I(x**3) + I(x**4) + I(x**5)',data= train).fit()\n",
    "mod6 = sm.ols('y ~ x + I(x**2)+ I(x**3) + I(x**4) + I(x**5)+I(x**6)',data= train).fit()\n",
    "mod7 = sm.ols('y ~ x + I(x**2)+ I(x**3) + I(x**4) + I(x**5)+I(x**6) + I(x**7)',data = train).fit()\n",
    "\n",
    "modDeg = [0,1,2,3,4,5,6,7]\n",
    "trainErr = [mod0.mse_total,mod1.mse_total,mod2.mse_total,mod3.mse_total, mod4.mse_total, mod5.mse_total, mod6.mse_total, mod7.mse_total]\n",
    "testErr = [modConst.mse_total, modOne.mse_total, mod2test.mse_total, modThree.mse_total, modFour.mse_total, modFive.mse_total, modSix.mse_total, modSeven.mse_total]\n",
    "\n",
    "rsqTest = [modConst.rsquared, modOne.rsquared, mod2test.rsquared, modThree.rsquared, modFour.rsquared, modFive.rsquared, modSix.rsquared, modSeven.rsquared]\n",
    "rsqTrain = [mod0.rsquared, mod1.rsquared, mod2.rsquared, mod3.rsquared, mod4.rsquared, mod5.rsquared, mod6.rsquared,mod7.rsquared]\n",
    "\n",
    "AICTest = [modConst.aic, modOne.aic, mod2test.aic,modThree.aic, modFour.aic, modFive.aic, modSix.aic, modSeven.aic]\n",
    "AICTrain = [mod0.aic, mod1.aic, mod2.aic, mod3.aic,mod4.aic, mod5.aic, mod6.aic, mod7.aic]\n",
    "  \n",
    "%matplotlib inline\n",
    "fig = plt.figure()\n",
    "plt.subplot(311)\n",
    "plt.plot(modDeg,trainErr,label ='Training Error')\n",
    "plt.plot(modDeg,testErr,label = 'Test Error')\n",
    "plt.legend()\n",
    "\n",
    "plt.subplot(312)\n",
    "plt.plot(modDeg,rsqTest,label ='Test R^2')\n",
    "plt.plot(modDeg,rsqTrain,label = 'Train R^2')\n",
    "plt.legend()\n",
    "\n",
    "plt.subplot(313)\n",
    "plt.plot(modDeg,AICTrain,label ='Training AIC')\n",
    "plt.plot(modDeg,AICTest,label = 'Test AIC')\n",
    "plt.legend()\n",
    "plt.show()\n"
   ]
  },
  {
   "cell_type": "markdown",
   "metadata": {},
   "source": [
    "** Challenge 4** For the data from two (above), fit a model to only the first 5 of your data points (m=5). Then to first 10 (m=10). Then to first 15 (m=15). In this manner, keep fitting until you fit your entire training set. For each step, calculate the training error and the test error. Plot both (in the same plot) over m. This is called a learning curve."
   ]
  },
  {
   "cell_type": "code",
   "execution_count": null,
   "metadata": {
    "collapsed": true
   },
   "outputs": [],
   "source": []
  }
 ],
 "metadata": {
  "kernelspec": {
   "display_name": "Python 3",
   "language": "python",
   "name": "python3"
  },
  "language_info": {
   "codemirror_mode": {
    "name": "ipython",
    "version": 3
   },
   "file_extension": ".py",
   "mimetype": "text/x-python",
   "name": "python",
   "nbconvert_exporter": "python",
   "pygments_lexer": "ipython3",
   "version": "3.5.2"
  }
 },
 "nbformat": 4,
 "nbformat_minor": 0
}
