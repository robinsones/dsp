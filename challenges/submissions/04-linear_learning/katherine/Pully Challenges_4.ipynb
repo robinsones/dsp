{
 "cells": [
  {
   "cell_type": "markdown",
   "metadata": {},
   "source": [
    "# Challenge Set 4"
   ]
  },
  {
   "cell_type": "markdown",
   "metadata": {},
   "source": [
    "## Table of Contents\n",
    "\n",
    "<a href='#q1'>Q1</a>  \n",
    "<a href='#q2'>Q2</a>  \n",
    "<a href='#q3'>Q3</a>  \n",
    "<a href='#q4'>Q4</a>  "
   ]
  },
  {
   "cell_type": "markdown",
   "metadata": {},
   "source": [
    "#### Imports"
   ]
  },
  {
   "cell_type": "code",
   "execution_count": 1,
   "metadata": {
    "collapsed": true
   },
   "outputs": [],
   "source": [
    "import math\n",
    "import pandas as pd\n",
    "import matplotlib.pyplot as plt\n",
    "import numpy as np\n",
    "from sklearn.cross_validation import train_test_split, cross_val_predict\n",
    "from sklearn.pipeline import make_pipeline\n",
    "from sklearn.linear_model import LinearRegression, Ridge, Lasso, RidgeCV\n",
    "from sklearn import cross_validation as cv\n",
    "from sklearn import metrics\n",
    "import statsmodels.formula.api as smf\n",
    "\n",
    "%matplotlib inline"
   ]
  },
  {
   "cell_type": "markdown",
   "metadata": {},
   "source": [
    "<a id='q1'></a>\n",
    "## Challenge 1\n",
    "\n",
    "Generate (fake) data that is linearly related to log(x).\n",
    "You are making this model up. It is of the form B0 + B1*log(x) + epsilon. (You are making up the parameters.)\n",
    "Simulate some data from this model.\n",
    "Then fit two models to it:\n",
    "quadratic (second degree polynomial) and\n",
    "logarithmic (log(x))\n",
    "(The second one should fit really well, since it has the same form as the underlying model!)"
   ]
  },
  {
   "cell_type": "code",
   "execution_count": 2,
   "metadata": {
    "collapsed": false
   },
   "outputs": [],
   "source": [
    "x, y = [], []\n",
    "for i in range(1, 100):\n",
    "    x.append(i)\n",
    "    y.append(1.2+4*math.log10(i))\n",
    "df = pd.DataFrame({'x': x, 'y': y})"
   ]
  },
  {
   "cell_type": "code",
   "execution_count": 3,
   "metadata": {
    "collapsed": false
   },
   "outputs": [],
   "source": [
    "model_quad = smf.ols(formula='df.y ~ np.power(df.x, 2)', data = df).fit()\n",
    "model_log = smf.ols(formula='df.y ~ np.log10(df.x)', data = df).fit()"
   ]
  },
  {
   "cell_type": "code",
   "execution_count": 4,
   "metadata": {
    "collapsed": false,
    "scrolled": true
   },
   "outputs": [
    {
     "data": {
      "text/html": [
       "<table class=\"simpletable\">\n",
       "<caption>OLS Regression Results</caption>\n",
       "<tr>\n",
       "  <th>Dep. Variable:</th>          <td>df.y</td>       <th>  R-squared:         </th> <td>   0.607</td>\n",
       "</tr>\n",
       "<tr>\n",
       "  <th>Model:</th>                   <td>OLS</td>       <th>  Adj. R-squared:    </th> <td>   0.602</td>\n",
       "</tr>\n",
       "<tr>\n",
       "  <th>Method:</th>             <td>Least Squares</td>  <th>  F-statistic:       </th> <td>   149.5</td>\n",
       "</tr>\n",
       "<tr>\n",
       "  <th>Date:</th>             <td>Tue, 26 Jul 2016</td> <th>  Prob (F-statistic):</th> <td>2.33e-21</td>\n",
       "</tr>\n",
       "<tr>\n",
       "  <th>Time:</th>                 <td>14:59:32</td>     <th>  Log-Likelihood:    </th> <td> -141.04</td>\n",
       "</tr>\n",
       "<tr>\n",
       "  <th>No. Observations:</th>      <td>    99</td>      <th>  AIC:               </th> <td>   286.1</td>\n",
       "</tr>\n",
       "<tr>\n",
       "  <th>Df Residuals:</th>          <td>    97</td>      <th>  BIC:               </th> <td>   291.3</td>\n",
       "</tr>\n",
       "<tr>\n",
       "  <th>Df Model:</th>              <td>     1</td>      <th>                     </th>     <td> </td>   \n",
       "</tr>\n",
       "<tr>\n",
       "  <th>Covariance Type:</th>      <td>nonrobust</td>    <th>                     </th>     <td> </td>   \n",
       "</tr>\n",
       "</table>\n",
       "<table class=\"simpletable\">\n",
       "<tr>\n",
       "          <td></td>             <th>coef</th>     <th>std err</th>      <th>t</th>      <th>P>|t|</th> <th>[95.0% Conf. Int.]</th> \n",
       "</tr>\n",
       "<tr>\n",
       "  <th>Intercept</th>         <td>    6.0979</td> <td>    0.154</td> <td>   39.685</td> <td> 0.000</td> <td>    5.793     6.403</td>\n",
       "</tr>\n",
       "<tr>\n",
       "  <th>np.power(df.x, 2)</th> <td>    0.0004</td> <td> 3.46e-05</td> <td>   12.227</td> <td> 0.000</td> <td>    0.000     0.000</td>\n",
       "</tr>\n",
       "</table>\n",
       "<table class=\"simpletable\">\n",
       "<tr>\n",
       "  <th>Omnibus:</th>       <td>62.707</td> <th>  Durbin-Watson:     </th> <td>   0.029</td>\n",
       "</tr>\n",
       "<tr>\n",
       "  <th>Prob(Omnibus):</th> <td> 0.000</td> <th>  Jarque-Bera (JB):  </th> <td> 244.254</td>\n",
       "</tr>\n",
       "<tr>\n",
       "  <th>Skew:</th>          <td>-2.207</td> <th>  Prob(JB):          </th> <td>9.14e-54</td>\n",
       "</tr>\n",
       "<tr>\n",
       "  <th>Kurtosis:</th>      <td> 9.303</td> <th>  Cond. No.          </th> <td>6.68e+03</td>\n",
       "</tr>\n",
       "</table>"
      ],
      "text/plain": [
       "<class 'statsmodels.iolib.summary.Summary'>\n",
       "\"\"\"\n",
       "                            OLS Regression Results                            \n",
       "==============================================================================\n",
       "Dep. Variable:                   df.y   R-squared:                       0.607\n",
       "Model:                            OLS   Adj. R-squared:                  0.602\n",
       "Method:                 Least Squares   F-statistic:                     149.5\n",
       "Date:                Tue, 26 Jul 2016   Prob (F-statistic):           2.33e-21\n",
       "Time:                        14:59:32   Log-Likelihood:                -141.04\n",
       "No. Observations:                  99   AIC:                             286.1\n",
       "Df Residuals:                      97   BIC:                             291.3\n",
       "Df Model:                           1                                         \n",
       "Covariance Type:            nonrobust                                         \n",
       "=====================================================================================\n",
       "                        coef    std err          t      P>|t|      [95.0% Conf. Int.]\n",
       "-------------------------------------------------------------------------------------\n",
       "Intercept             6.0979      0.154     39.685      0.000         5.793     6.403\n",
       "np.power(df.x, 2)     0.0004   3.46e-05     12.227      0.000         0.000     0.000\n",
       "==============================================================================\n",
       "Omnibus:                       62.707   Durbin-Watson:                   0.029\n",
       "Prob(Omnibus):                  0.000   Jarque-Bera (JB):              244.254\n",
       "Skew:                          -2.207   Prob(JB):                     9.14e-54\n",
       "Kurtosis:                       9.303   Cond. No.                     6.68e+03\n",
       "==============================================================================\n",
       "\n",
       "Warnings:\n",
       "[1] Standard Errors assume that the covariance matrix of the errors is correctly specified.\n",
       "[2] The condition number is large, 6.68e+03. This might indicate that there are\n",
       "strong multicollinearity or other numerical problems.\n",
       "\"\"\""
      ]
     },
     "execution_count": 4,
     "metadata": {},
     "output_type": "execute_result"
    }
   ],
   "source": [
    "model_quad.summary()"
   ]
  },
  {
   "cell_type": "code",
   "execution_count": 5,
   "metadata": {
    "collapsed": false
   },
   "outputs": [
    {
     "data": {
      "text/html": [
       "<table class=\"simpletable\">\n",
       "<caption>OLS Regression Results</caption>\n",
       "<tr>\n",
       "  <th>Dep. Variable:</th>          <td>df.y</td>       <th>  R-squared:         </th> <td>   1.000</td> \n",
       "</tr>\n",
       "<tr>\n",
       "  <th>Model:</th>                   <td>OLS</td>       <th>  Adj. R-squared:    </th> <td>   1.000</td> \n",
       "</tr>\n",
       "<tr>\n",
       "  <th>Method:</th>             <td>Least Squares</td>  <th>  F-statistic:       </th> <td>1.985e+31</td>\n",
       "</tr>\n",
       "<tr>\n",
       "  <th>Date:</th>             <td>Tue, 26 Jul 2016</td> <th>  Prob (F-statistic):</th>  <td>  0.00</td>  \n",
       "</tr>\n",
       "<tr>\n",
       "  <th>Time:</th>                 <td>14:59:33</td>     <th>  Log-Likelihood:    </th> <td>  3153.6</td> \n",
       "</tr>\n",
       "<tr>\n",
       "  <th>No. Observations:</th>      <td>    99</td>      <th>  AIC:               </th> <td>  -6303.</td> \n",
       "</tr>\n",
       "<tr>\n",
       "  <th>Df Residuals:</th>          <td>    97</td>      <th>  BIC:               </th> <td>  -6298.</td> \n",
       "</tr>\n",
       "<tr>\n",
       "  <th>Df Model:</th>              <td>     1</td>      <th>                     </th>     <td> </td>    \n",
       "</tr>\n",
       "<tr>\n",
       "  <th>Covariance Type:</th>      <td>nonrobust</td>    <th>                     </th>     <td> </td>    \n",
       "</tr>\n",
       "</table>\n",
       "<table class=\"simpletable\">\n",
       "<tr>\n",
       "         <td></td>           <th>coef</th>     <th>std err</th>      <th>t</th>      <th>P>|t|</th> <th>[95.0% Conf. Int.]</th> \n",
       "</tr>\n",
       "<tr>\n",
       "  <th>Intercept</th>      <td>    1.2000</td> <td> 1.46e-15</td> <td> 8.22e+14</td> <td> 0.000</td> <td>    1.200     1.200</td>\n",
       "</tr>\n",
       "<tr>\n",
       "  <th>np.log10(df.x)</th> <td>    4.0000</td> <td> 8.98e-16</td> <td> 4.46e+15</td> <td> 0.000</td> <td>    4.000     4.000</td>\n",
       "</tr>\n",
       "</table>\n",
       "<table class=\"simpletable\">\n",
       "<tr>\n",
       "  <th>Omnibus:</th>       <td>19.131</td> <th>  Durbin-Watson:     </th> <td>   0.027</td>\n",
       "</tr>\n",
       "<tr>\n",
       "  <th>Prob(Omnibus):</th> <td> 0.000</td> <th>  Jarque-Bera (JB):  </th> <td>  43.302</td>\n",
       "</tr>\n",
       "<tr>\n",
       "  <th>Skew:</th>          <td> 0.675</td> <th>  Prob(JB):          </th> <td>3.95e-10</td>\n",
       "</tr>\n",
       "<tr>\n",
       "  <th>Kurtosis:</th>      <td> 5.945</td> <th>  Cond. No.          </th> <td>    8.98</td>\n",
       "</tr>\n",
       "</table>"
      ],
      "text/plain": [
       "<class 'statsmodels.iolib.summary.Summary'>\n",
       "\"\"\"\n",
       "                            OLS Regression Results                            \n",
       "==============================================================================\n",
       "Dep. Variable:                   df.y   R-squared:                       1.000\n",
       "Model:                            OLS   Adj. R-squared:                  1.000\n",
       "Method:                 Least Squares   F-statistic:                 1.985e+31\n",
       "Date:                Tue, 26 Jul 2016   Prob (F-statistic):               0.00\n",
       "Time:                        14:59:33   Log-Likelihood:                 3153.6\n",
       "No. Observations:                  99   AIC:                            -6303.\n",
       "Df Residuals:                      97   BIC:                            -6298.\n",
       "Df Model:                           1                                         \n",
       "Covariance Type:            nonrobust                                         \n",
       "==================================================================================\n",
       "                     coef    std err          t      P>|t|      [95.0% Conf. Int.]\n",
       "----------------------------------------------------------------------------------\n",
       "Intercept          1.2000   1.46e-15   8.22e+14      0.000         1.200     1.200\n",
       "np.log10(df.x)     4.0000   8.98e-16   4.46e+15      0.000         4.000     4.000\n",
       "==============================================================================\n",
       "Omnibus:                       19.131   Durbin-Watson:                   0.027\n",
       "Prob(Omnibus):                  0.000   Jarque-Bera (JB):               43.302\n",
       "Skew:                           0.675   Prob(JB):                     3.95e-10\n",
       "Kurtosis:                       5.945   Cond. No.                         8.98\n",
       "==============================================================================\n",
       "\n",
       "Warnings:\n",
       "[1] Standard Errors assume that the covariance matrix of the errors is correctly specified.\n",
       "\"\"\""
      ]
     },
     "execution_count": 5,
     "metadata": {},
     "output_type": "execute_result"
    }
   ],
   "source": [
    "model_log.summary()"
   ]
  },
  {
   "cell_type": "markdown",
   "metadata": {},
   "source": [
    "<a id='q2'></a>\n",
    "## Challenge 2\n",
    "\n",
    "Generate (fake) data from a model of the form B0 + B1*x + B2*x^2 + epsilon. (You are making up the parameters.)\n",
    "Split the data into a training and test set.\n",
    "Fit a model to your training set. Calculate mean squared error on your training set. Then calculate it on your test set.\n",
    "(You could use sklearn.metrics.mean_squared_error.)"
   ]
  },
  {
   "cell_type": "code",
   "execution_count": 6,
   "metadata": {
    "collapsed": true
   },
   "outputs": [],
   "source": [
    "x, y = [], []\n",
    "for i in range(1, 100):\n",
    "    x.append(i)\n",
    "    y.append(1.2+4*4*i + 2*(i**2))\n",
    "df = pd.DataFrame({'x': x, 'y': y})"
   ]
  },
  {
   "cell_type": "code",
   "execution_count": 7,
   "metadata": {
    "collapsed": true
   },
   "outputs": [],
   "source": [
    "x_train, x_test, y_train, y_test = cv.train_test_split(df.x, df.y, test_size = 0.3, random_state=1)"
   ]
  },
  {
   "cell_type": "code",
   "execution_count": 8,
   "metadata": {
    "collapsed": true
   },
   "outputs": [],
   "source": [
    "x_train = x_train.reshape(69, 1)\n",
    "y_train = y_train.reshape(69, 1)"
   ]
  },
  {
   "cell_type": "code",
   "execution_count": 9,
   "metadata": {
    "collapsed": false
   },
   "outputs": [],
   "source": [
    "model = LinearRegression().fit(x_train, y_train)"
   ]
  },
  {
   "cell_type": "code",
   "execution_count": 10,
   "metadata": {
    "collapsed": false
   },
   "outputs": [
    {
     "data": {
      "text/plain": [
       "2069694.6112253515"
      ]
     },
     "execution_count": 10,
     "metadata": {},
     "output_type": "execute_result"
    }
   ],
   "source": [
    "metrics.mean_squared_error(y_train,model.predict(x_train))"
   ]
  },
  {
   "cell_type": "markdown",
   "metadata": {},
   "source": [
    "<a id='q3'></a>\n",
    "## Challenge 3\n",
    "\n",
    "For the data from two (above), try polynomial fits from 0th (just constant) to 7th order (highest term x^7). Over the x axis of model degree (8 points), plot:\n",
    "\n",
    "training error,\n",
    "test error,\n",
    "R squared,\n",
    "AIC\n"
   ]
  },
  {
   "cell_type": "code",
   "execution_count": 122,
   "metadata": {
    "collapsed": false
   },
   "outputs": [],
   "source": [
    "train, test = cv.train_test_split(df, test_size=0.3, random_state=1)"
   ]
  },
  {
   "cell_type": "code",
   "execution_count": 101,
   "metadata": {
    "collapsed": false
   },
   "outputs": [],
   "source": [
    "results_0 = smf.ols(formula = 'y ~ 1+ np.power(x,0)', data=train).fit()\n",
    "results_1 = smf.ols(formula = 'y ~ 1+ np.power(x,1)', data=train).fit()\n",
    "results_2 = smf.ols(formula = 'y ~ 1+ np.power(x,2)', data=train).fit()\n",
    "results_3 = smf.ols(formula = 'y ~ 1+ np.power(x,3)', data=train).fit()\n",
    "results_4 = smf.ols(formula = 'y ~ 1+ np.power(x,4)', data=train).fit()\n",
    "results_5 = smf.ols(formula = 'y ~ 1+ np.power(x,5)', data=train).fit()\n",
    "results_6 = smf.ols(formula = 'y ~ 1+ np.power(x,6)', data=train).fit()\n",
    "results_7 = smf.ols(formula = 'y ~ 1+ np.power(x,7)', data=train).fit()"
   ]
  },
  {
   "cell_type": "code",
   "execution_count": 110,
   "metadata": {
    "collapsed": false
   },
   "outputs": [],
   "source": [
    "pred_0 = results_0.predict(test[['x']])\n",
    "pred_1 = results_1.predict(test[['x']])\n",
    "pred_2 = results_2.predict(test[['x']])\n",
    "pred_3 = results_3.predict(test[['x']])\n",
    "pred_4 = results_4.predict(test[['x']])\n",
    "pred_5 = results_5.predict(test[['x']])\n",
    "pred_6 = results_6.predict(test[['x']])\n",
    "pred_7 = results_7.predict(test[['x']])\n",
    "\n",
    "trn_0 = results_0.predict(train[['x']])\n",
    "trn_1 = results_1.predict(train[['x']])\n",
    "trn_2 = results_2.predict(train[['x']])\n",
    "trn_3 = results_3.predict(train[['x']])\n",
    "trn_4 = results_4.predict(train[['x']])\n",
    "trn_5 = results_5.predict(train[['x']])\n",
    "trn_6 = results_6.predict(train[['x']])\n",
    "trn_7 = results_7.predict(train[['x']])"
   ]
  },
  {
   "cell_type": "code",
   "execution_count": 179,
   "metadata": {
    "collapsed": true
   },
   "outputs": [],
   "source": [
    "tr_err_0 = ((trn_0**2)-(train.x**2)).mean()\n",
    "tr_err_1 = ((trn_1**2)-(train.x**2)).mean()\n",
    "tr_err_2 = ((trn_2**2)-(train.x**2)).mean()\n",
    "tr_err_3 = ((trn_3**2)-(train.x**2)).mean()\n",
    "tr_err_4 = ((trn_4**2)-(train.x**2)).mean()\n",
    "tr_err_5 = ((trn_5**2)-(train.x**2)).mean()\n",
    "tr_err_6 = ((trn_6**2)-(train.x**2)).mean()\n",
    "tr_err_7 = ((trn_7**2)-(train.x**2)).mean()\n",
    "\n",
    "te_err_0 = ((pred_0**2)-(test.x**2)).mean()\n",
    "te_err_1 = ((pred_1**2)-(test.x**2)).mean()\n",
    "te_err_2 = ((pred_2**2)-(test.x**2)).mean()\n",
    "te_err_3 = ((pred_3**2)-(test.x**2)).mean()\n",
    "te_err_4 = ((pred_4**2)-(test.x**2)).mean()\n",
    "te_err_5 = ((pred_5**2)-(test.x**2)).mean()\n",
    "te_err_6 = ((pred_6**2)-(test.x**2)).mean()\n",
    "te_err_7 = ((pred_7**2)-(test.x**2)).mean()"
   ]
  },
  {
   "cell_type": "code",
   "execution_count": 180,
   "metadata": {
    "collapsed": false
   },
   "outputs": [],
   "source": [
    "aic = [results_0.aic, results_1.aic, results_2.aic, results_3.aic, results_4.aic, results_5.aic, results_6.aic, \n",
    "       results_7.aic]\n",
    "\n",
    "r_sq = [results_0.rsquared, results_1.rsquared, results_2.rsquared, results_3.rsquared, results_4.rsquared, \n",
    "        results_5.rsquared, results_6.rsquared, results_7.rsquared]\n",
    "\n",
    "te_err = [te_err_0, te_err_1, te_err_2, te_err_3, te_err_4, te_err_5, te_err_6, te_err_7]\n",
    "\n",
    "tr_err = [tr_err_0, tr_err_1, tr_err_2, tr_err_3, tr_err_4, tr_err_5, tr_err_6, tr_err_7]"
   ]
  },
  {
   "cell_type": "code",
   "execution_count": 181,
   "metadata": {
    "collapsed": false
   },
   "outputs": [
    {
     "data": {
      "image/png": "[encoded data removed]",
      "text/plain": [
       "<matplotlib.figure.Figure at 0x11aa79a90>"
      ]
     },
     "metadata": {},
     "output_type": "display_data"
    }
   ],
   "source": [
    "fig = plt.figure(figsize=(8, 10))\n",
    "x = range(0, 8)\n",
    "\n",
    "ax = fig.add_subplot(221)\n",
    "ax.plot(x, aic, label='aic')\n",
    "ax.set_title(\"AIC\")\n",
    "\n",
    "ax = fig.add_subplot(222)\n",
    "ax.plot(x, r_sq, label = 'r sq')\n",
    "ax.set_title(\"R-Squared\")\n",
    "\n",
    "ax = fig.add_subplot(223)\n",
    "ax.plot(x, te_err, label = 'test err')\n",
    "ax.set_ybound(upper = max(te_err)+1, lower = min(te_err)-1)\n",
    "ax.set_title(\"Test Error\")\n",
    "\n",
    "ax = fig.add_subplot(224)\n",
    "ax.plot(x, tr_err, label='train err')\n",
    "ax.set_title(\"Train Error\")\n",
    "\n",
    "\n",
    "plt.show()"
   ]
  },
  {
   "cell_type": "markdown",
   "metadata": {},
   "source": [
    "<a id='q4'></a>\n",
    "## Challenge 4\n",
    "\n",
    "For the data from two (above), fit a model to only the first 5 of your data points (m=5). Then to first 10 (m=10). Then to first 15 (m=15). In this manner, keep fitting until you fit your entire training set. For each step, calculate the training error and the test error. Plot both (in the same plot) over m. This is called a learning curve."
   ]
  },
  {
   "cell_type": "code",
   "execution_count": 233,
   "metadata": {
    "collapsed": true
   },
   "outputs": [],
   "source": [
    "d = {}\n",
    "for i in range(1, 100):\n",
    "    d[i] = 1.2+4*math.log10(i)\n",
    "    \n",
    "x = np.array(d.keys()).reshape(len(d.keys()), 1)\n",
    "y = np.array(d.values()).reshape(len(d.values()), 1)"
   ]
  },
  {
   "cell_type": "code",
   "execution_count": 254,
   "metadata": {
    "collapsed": false
   },
   "outputs": [],
   "source": [
    "tr_err = []\n",
    "te_err = []\n",
    "for i in range(5, 100, 5):\n",
    "    #print x[:i]\n",
    "    #print y[:i]\n",
    "    x_train, x_test, y_train, y_test = cv.train_test_split(x[:i], y[:i], test_size = 0.3, random_state=1)\n",
    "    model = LinearRegression().fit(x_train, y_train)\n",
    "    tr_err.append(metrics.mean_squared_error(y_train,model.predict(x_train)))\n",
    "    te_err.append(metrics.mean_squared_error(y_test, model.predict(x_test)))"
   ]
  },
  {
   "cell_type": "code",
   "execution_count": 256,
   "metadata": {
    "collapsed": false
   },
   "outputs": [
    {
     "data": {
      "image/png": "[encoded data removed]",
      "text/plain": [
       "<matplotlib.figure.Figure at 0x11b6a07d0>"
      ]
     },
     "metadata": {},
     "output_type": "display_data"
    }
   ],
   "source": [
    "plt.figure(figsize=(8,4))\n",
    "plt.plot(tr_err, label = 'train')\n",
    "plt.plot(te_err, label = 'test')\n",
    "plt.legend()\n",
    "plt.title('Train vs. Test error')\n",
    "plt.show()"
   ]
  }
 ],
 "metadata": {
  "kernelspec": {
   "display_name": "Python 2",
   "language": "python",
   "name": "python2"
  },
  "language_info": {
   "codemirror_mode": {
    "name": "ipython",
    "version": 2
   },
   "file_extension": ".py",
   "mimetype": "text/x-python",
   "name": "python",
   "nbconvert_exporter": "python",
   "pygments_lexer": "ipython2",
   "version": "2.7.12"
  }
 },
 "nbformat": 4,
 "nbformat_minor": 0
}
