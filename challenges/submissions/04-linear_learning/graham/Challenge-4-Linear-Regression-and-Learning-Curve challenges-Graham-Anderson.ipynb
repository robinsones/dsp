{
 "cells": [
  {
   "cell_type": "markdown",
   "metadata": {},
   "source": [
    "## Challenge Set 4\n",
    "Topic: Linear Learning  \n",
    "Date: July 25th, 2016  \n",
    "Name: Graham Anderson  \n",
    "Collaborators: Marc, Allison, Matt  "
   ]
  },
  {
   "cell_type": "markdown",
   "metadata": {},
   "source": [
    "### Challenge 1\n",
    "Generate (fake) data that is linearly related to log(x).\n",
    "You are making this model up. It is of the form B0 + B1\\*log(x) + epsilon. \n",
    "(You are making up the parameters.)\n",
    "Simulate some data from this model.\n",
    "Then fit two models to it:\n",
    "quadratic (second degree polynomial)\n",
    "logarithmic (log(x))\n",
    "(The second one should fit really well, since it has the same form as the underlying model!)"
   ]
  },
  {
   "cell_type": "code",
   "execution_count": 97,
   "metadata": {
    "collapsed": false,
    "scrolled": true
   },
   "outputs": [
    {
     "data": {
      "text/plain": [
       "<matplotlib.text.Text at 0x1187bba58>"
      ]
     },
     "execution_count": 97,
     "metadata": {},
     "output_type": "execute_result"
    },
    {
     "data": {
      "image/png": "[encoded data removed]",
      "text/plain": [
       "<matplotlib.figure.Figure at 0x118baaf60>"
      ]
     },
     "metadata": {},
     "output_type": "display_data"
    }
   ],
   "source": [
    "import numpy as np\n",
    "import matplotlib.pyplot as plt\n",
    "from sklearn import metrics\n",
    "%matplotlib inline\n",
    "\n",
    "epsilon = np.random.rand(100)\n",
    "x = np.linspace(1,100,100)\n",
    "y = 3 +  3* np.log(x) + epsilon\n",
    "\n",
    "plt.scatter(x, y)\n",
    "plt.title('Challenge 1')\n",
    "\n"
   ]
  },
  {
   "cell_type": "markdown",
   "metadata": {},
   "source": [
    "### Challenge 2\n",
    "Generate (fake) data from a model of the form B0 + B1*x + B2*x^2 + epsilon. (You are making up the parameters.)\n",
    "Split the data into a training and test set. Fit a model to your training set. Calculate mean squared error on your training set. Then calculate it on your test set. (You could use sklearn.metrics.mean_squared_error.)"
   ]
  },
  {
   "cell_type": "code",
   "execution_count": 49,
   "metadata": {
    "collapsed": false,
    "scrolled": true
   },
   "outputs": [
    {
     "name": "stdout",
     "output_type": "stream",
     "text": [
      "train mean square error: 2180690616.729163\n",
      "test mean square error: 2639778555.3785176\n"
     ]
    }
   ],
   "source": [
    "import numpy as np\n",
    "import matplotlib.pyplot as plt\n",
    "import sklearn\n",
    "from sklearn import cross_validation as cv\n",
    "from sklearn import preprocessing\n",
    "from patsy import dmatrices,dmatrix\n",
    "from sklearn.linear_model import LinearRegression\n",
    "%matplotlib inline\n",
    "\n",
    "epsilon = np.random.rand(100)\n",
    "X = np.linspace(1,100,100)\n",
    "X = X.reshape(-1,1)\n",
    "y = 3 + 5*X + (8*X)**2 + epsilon\n",
    "\n",
    "x_train, x_test, y_train, y_test = cv.train_test_split(X, y, test_size=0.25, random_state=1234)\n",
    "model = LinearRegression().fit(x_train, y_train)\n",
    "\n",
    "\n",
    "y_test_predicted = model.predict(x_test)\n",
    "y_train_predicted = model.predict(x_train)\n",
    "#plt.scatter(y, model.predict())\n",
    "\n",
    "\n",
    "print(\"train mean square error: {0}\".format(metrics.mean_squared_error(y_train, model.predict(x_train))))\n",
    "print(\"test mean square error: {0}\".format(metrics.mean_squared_error(y_test, model.predict(x_test))))\n",
    "\n",
    "\n",
    "\n",
    "\n"
   ]
  },
  {
   "cell_type": "markdown",
   "metadata": {},
   "source": [
    "### Challenge 3\n",
    "For the data from two (above), try polynomial fits from 0th (just constant) to 7th order (highest term x^7). Over the x axis of model degree (8 points), plot:\n",
    "training error\n",
    "test error\n",
    "R squared\n",
    "AIC"
   ]
  },
  {
   "cell_type": "code",
   "execution_count": 96,
   "metadata": {
    "collapsed": false,
    "scrolled": true
   },
   "outputs": [
    {
     "data": {
      "image/png": "[encoded data removed]",
      "text/plain": [
       "<matplotlib.figure.Figure at 0x118d16e48>"
      ]
     },
     "metadata": {},
     "output_type": "display_data"
    }
   ],
   "source": [
    "import numpy as np\n",
    "from sklearn.mixture import GMM\n",
    "\n",
    "epsilon = np.random.rand(100)\n",
    "X = np.linspace(1,100,100)\n",
    "X = X.reshape(-1,1)\n",
    "y = 3 + 5*X + (6*X)**2 + (7*X)**3 + (8*X)**4 + (9*X)**5 + (10*X)**6 +(11*X)**7 + epsilon\n",
    "\n",
    "x_train, x_test, y_train, y_test = cv.train_test_split(X, y, test_size=0.25, random_state=1234)\n",
    "model = LinearRegression().fit(x_train, y_train)\n",
    "\n",
    "\n",
    "model.predict(X)\n",
    "plt.scatter(y, model.predict(X))\n",
    "\n",
    "plt.title('Accuracy of Model')\n",
    "plt.ylabel('observed')\n",
    "plt.xlabel('predicted')\n",
    "\n",
    "r_squared = model.score(X,y)\n",
    "#aic = GMM.aic(X)\n",
    "\n",
    "# print(\"R score: {0}\".format(model.score(X,y)))\n",
    "# print(\"train mean square error: {0}\".format(metrics.mean_squared_error(y_train, model.predict(x_train))))\n",
    "# print(\"train mean square error: {0}\".format(metrics.mean_squared_error(y_test, model.predict(x_test))))\n"
   ]
  },
  {
   "cell_type": "markdown",
   "metadata": {},
   "source": [
    "### Challenge 4\n",
    "For the data from two (above), fit a model to only the first 5 of your data points (m=5). Then to first 10 (m=10). Then to first 15 (m=15). In this manner, keep fitting until you fit your entire training set. For each step, calculate the training error and the test error. Plot both (in the same plot) over m. This is called a learning curve.\n"
   ]
  },
  {
   "cell_type": "code",
   "execution_count": 47,
   "metadata": {
    "collapsed": false
   },
   "outputs": [
    {
     "name": "stdout",
     "output_type": "stream",
     "text": [
      "train mean square error: 2180690616.729163\n",
      "test mean square error: 2639778555.3785176\n"
     ]
    },
    {
     "data": {
      "text/plain": [
       "100"
      ]
     },
     "execution_count": 47,
     "metadata": {},
     "output_type": "execute_result"
    }
   ],
   "source": [
    "epsilon = np.random.rand(100)\n",
    "X = np.linspace(1,100,100)\n",
    "X = X.reshape(-1,1)\n",
    "y = 3 + 5*X + (8*X)**2 + epsilon\n",
    "\n",
    "x_train, x_test, y_train, y_test = cv.train_test_split(X, y, test_size=0.25, random_state=1234)\n",
    "model = LinearRegression().fit(x_train, y_train)\n",
    "\n",
    "\n",
    "y_test_predicted = model.predict(x_test)\n",
    "y_train_predicted = model.predict(x_train)\n",
    "#plt.scatter(y, model.predict())\n",
    "\n",
    "print(\"train mean square error: {0}\".format(metrics.mean_squared_error(y_train, model.predict(x_train))))\n",
    "print(\"test mean square error: {0}\".format(metrics.mean_squared_error(y_test, model.predict(x_test))))\n",
    "\n",
    "\n",
    "test_train_error= []\n",
    "\n",
    "\n",
    "\n",
    "\n",
    "len(y)\n",
    "#test_train_error\n",
    "\n",
    "\n"
   ]
  },
  {
   "cell_type": "code",
   "execution_count": 94,
   "metadata": {
    "collapsed": false
   },
   "outputs": [
    {
     "data": {
      "text/plain": [
       "<matplotlib.text.Text at 0x118356198>"
      ]
     },
     "execution_count": 94,
     "metadata": {},
     "output_type": "execute_result"
    },
    {
     "data": {
      "image/png": "[encoded data removed]",
      "text/plain": [
       "<matplotlib.figure.Figure at 0x1179a7f28>"
      ]
     },
     "metadata": {},
     "output_type": "display_data"
    }
   ],
   "source": [
    "import matplotlib.pyplot as plt\n",
    "test_train_error= []\n",
    "\n",
    "\n",
    "\n",
    "for i in range(1,100):\n",
    "    X = np.linspace(1,100, 5*i)\n",
    "    X = X.reshape(-1,1)\n",
    "    y = 3 + 5*X + (8*X)**2 + epsilon\n",
    "    \n",
    "   \n",
    "    x_train, x_test, y_train, y_test = cv.train_test_split(X, y, test_size=0.25, random_state=1234)\n",
    "    model = LinearRegression().fit(x_train, y_train)\n",
    "    \n",
    "    train_error = metrics.mean_squared_error(y_train, model.predict(x_train))\n",
    "    test_error = metrics.mean_squared_error(y_test, model.predict(x_test))\n",
    "    \n",
    "    test_train_error.append([train_error, test_error])\n",
    "\n",
    "\n",
    "\n",
    "\n",
    "plt.plot(test_train_error)\n",
    "plt.title('Decreasing Sample Size Increases Error')\n",
    "plt.ylabel('train error')\n",
    "plt.xlabel('test error')"
   ]
  },
  {
   "cell_type": "code",
   "execution_count": 43,
   "metadata": {
    "collapsed": false
   },
   "outputs": [
    {
     "data": {
      "text/plain": [
       "array([   1.  ,   25.75,   50.5 ,   75.25,  100.  ])"
      ]
     },
     "execution_count": 43,
     "metadata": {},
     "output_type": "execute_result"
    }
   ],
   "source": []
  }
 ],
 "metadata": {
  "kernelspec": {
   "display_name": "Python 3",
   "language": "python",
   "name": "python3"
  },
  "language_info": {
   "codemirror_mode": {
    "name": "ipython",
    "version": 3
   },
   "file_extension": ".py",
   "mimetype": "text/x-python",
   "name": "python",
   "nbconvert_exporter": "python",
   "pygments_lexer": "ipython3",
   "version": "3.5.2"
  }
 },
 "nbformat": 4,
 "nbformat_minor": 0
}
