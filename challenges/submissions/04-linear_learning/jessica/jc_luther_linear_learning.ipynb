{
 "cells": [
  {
   "cell_type": "markdown",
   "metadata": {},
   "source": [
    "|Challenge Set 4|\n",
    "|---------------|\n",
    "|Topic: |Linear Learning|\n",
    "|Date: |07/25/2016|\n",
    "|Name: |Jessica Cox|"
   ]
  },
  {
   "cell_type": "markdown",
   "metadata": {},
   "source": [
    "# Challenge 1"
   ]
  },
  {
   "cell_type": "markdown",
   "metadata": {},
   "source": [
    "Generate (fake) data that is linearly related to log(x). You are making this model up. It is of the form B0 + B1*log(x) + epsilon. (You are making up the parameters.) Simulate some data from this model. Then fit two models to it: quadratic (second degree polynomial) logarithmic (log(x)) (The second one should fit really well, since it has the same form as the underlying model!)"
   ]
  },
  {
   "cell_type": "code",
   "execution_count": 92,
   "metadata": {
    "collapsed": true
   },
   "outputs": [],
   "source": [
    "import pandas as pd\n",
    "%matplotlib inline\n",
    "from datetime import date\n",
    "import matplotlib.pyplot as plt\n",
    "import seaborn as sns\n",
    "import numpy as np\n",
    "from patsy import dmatrices\n",
    "import statsmodels.formula.api as sm"
   ]
  },
  {
   "cell_type": "code",
   "execution_count": 151,
   "metadata": {
    "collapsed": false
   },
   "outputs": [],
   "source": [
    "#generate random data\n",
    "x = np.random.rand(500)*500\n",
    "epsilon = np.random.normal(0,5, 500)\n",
    "B0 = 1\n",
    "B1 = 10\n",
    "\n",
    "#log model\n",
    "y = [[B0 + B1*np.log(x[i]) + epsilon[i]] for i in range(len(x))]"
   ]
  },
  {
   "cell_type": "code",
   "execution_count": 157,
   "metadata": {
    "collapsed": false
   },
   "outputs": [],
   "source": [
    "#create dataframe\n",
    "df = pd.DataFrame(data = y)\n",
    "df.columns = ['y']\n",
    "df['x'] = [i for i in x]\n",
    "df['epsilon'] = [i for i in epsilon]\n",
    "df['x_poly2'] = [i**2 for i in x]\n",
    "df['x_log'] = np.log(x)"
   ]
  },
  {
   "cell_type": "code",
   "execution_count": 158,
   "metadata": {
    "collapsed": false
   },
   "outputs": [
    {
     "data": {
      "image/png": "[encoded data removed]",
      "text/plain": [
       "<matplotlib.figure.Figure at 0x10f14fcf8>"
      ]
     },
     "metadata": {},
     "output_type": "display_data"
    }
   ],
   "source": [
    "#plot log model\n",
    "plt.scatter(x, y)\n",
    "plt.title('Log model plot')\n",
    "plt.show()"
   ]
  },
  {
   "cell_type": "code",
   "execution_count": 162,
   "metadata": {
    "collapsed": false
   },
   "outputs": [
    {
     "data": {
      "text/html": [
       "<table class=\"simpletable\">\n",
       "<caption>OLS Regression Results</caption>\n",
       "<tr>\n",
       "  <th>Dep. Variable:</th>            <td>y</td>        <th>  R-squared:         </th> <td>   0.770</td> \n",
       "</tr>\n",
       "<tr>\n",
       "  <th>Model:</th>                   <td>OLS</td>       <th>  Adj. R-squared:    </th> <td>   0.770</td> \n",
       "</tr>\n",
       "<tr>\n",
       "  <th>Method:</th>             <td>Least Squares</td>  <th>  F-statistic:       </th> <td>   1668.</td> \n",
       "</tr>\n",
       "<tr>\n",
       "  <th>Date:</th>             <td>Mon, 25 Jul 2016</td> <th>  Prob (F-statistic):</th> <td>4.24e-161</td>\n",
       "</tr>\n",
       "<tr>\n",
       "  <th>Time:</th>                 <td>21:43:01</td>     <th>  Log-Likelihood:    </th> <td> -1538.8</td> \n",
       "</tr>\n",
       "<tr>\n",
       "  <th>No. Observations:</th>      <td>   500</td>      <th>  AIC:               </th> <td>   3082.</td> \n",
       "</tr>\n",
       "<tr>\n",
       "  <th>Df Residuals:</th>          <td>   498</td>      <th>  BIC:               </th> <td>   3090.</td> \n",
       "</tr>\n",
       "<tr>\n",
       "  <th>Df Model:</th>              <td>     1</td>      <th>                     </th>     <td> </td>    \n",
       "</tr>\n",
       "<tr>\n",
       "  <th>Covariance Type:</th>      <td>nonrobust</td>    <th>                     </th>     <td> </td>    \n",
       "</tr>\n",
       "</table>\n",
       "<table class=\"simpletable\">\n",
       "<tr>\n",
       "      <td></td>         <th>coef</th>     <th>std err</th>      <th>t</th>      <th>P>|t|</th> <th>[95.0% Conf. Int.]</th> \n",
       "</tr>\n",
       "<tr>\n",
       "  <th>Intercept</th> <td>    0.7424</td> <td>    1.297</td> <td>    0.573</td> <td> 0.567</td> <td>   -1.805     3.290</td>\n",
       "</tr>\n",
       "<tr>\n",
       "  <th>x_log</th>     <td>   10.0171</td> <td>    0.245</td> <td>   40.844</td> <td> 0.000</td> <td>    9.535    10.499</td>\n",
       "</tr>\n",
       "</table>\n",
       "<table class=\"simpletable\">\n",
       "<tr>\n",
       "  <th>Omnibus:</th>       <td> 0.404</td> <th>  Durbin-Watson:     </th> <td>   1.904</td>\n",
       "</tr>\n",
       "<tr>\n",
       "  <th>Prob(Omnibus):</th> <td> 0.817</td> <th>  Jarque-Bera (JB):  </th> <td>   0.519</td>\n",
       "</tr>\n",
       "<tr>\n",
       "  <th>Skew:</th>          <td>-0.032</td> <th>  Prob(JB):          </th> <td>   0.772</td>\n",
       "</tr>\n",
       "<tr>\n",
       "  <th>Kurtosis:</th>      <td> 2.856</td> <th>  Cond. No.          </th> <td>    30.1</td>\n",
       "</tr>\n",
       "</table>"
      ],
      "text/plain": [
       "<class 'statsmodels.iolib.summary.Summary'>\n",
       "\"\"\"\n",
       "                            OLS Regression Results                            \n",
       "==============================================================================\n",
       "Dep. Variable:                      y   R-squared:                       0.770\n",
       "Model:                            OLS   Adj. R-squared:                  0.770\n",
       "Method:                 Least Squares   F-statistic:                     1668.\n",
       "Date:                Mon, 25 Jul 2016   Prob (F-statistic):          4.24e-161\n",
       "Time:                        21:43:01   Log-Likelihood:                -1538.8\n",
       "No. Observations:                 500   AIC:                             3082.\n",
       "Df Residuals:                     498   BIC:                             3090.\n",
       "Df Model:                           1                                         \n",
       "Covariance Type:            nonrobust                                         \n",
       "==============================================================================\n",
       "                 coef    std err          t      P>|t|      [95.0% Conf. Int.]\n",
       "------------------------------------------------------------------------------\n",
       "Intercept      0.7424      1.297      0.573      0.567        -1.805     3.290\n",
       "x_log         10.0171      0.245     40.844      0.000         9.535    10.499\n",
       "==============================================================================\n",
       "Omnibus:                        0.404   Durbin-Watson:                   1.904\n",
       "Prob(Omnibus):                  0.817   Jarque-Bera (JB):                0.519\n",
       "Skew:                          -0.032   Prob(JB):                        0.772\n",
       "Kurtosis:                       2.856   Cond. No.                         30.1\n",
       "==============================================================================\n",
       "\n",
       "Warnings:\n",
       "[1] Standard Errors assume that the covariance matrix of the errors is correctly specified.\n",
       "\"\"\""
      ]
     },
     "execution_count": 162,
     "metadata": {},
     "output_type": "execute_result"
    }
   ],
   "source": [
    "#create quad model\n",
    "y_poly2, X_poly2 = dmatrices('y ~ x_poly2', data=df, return_type='dataframe')\n",
    "model_poly2 = sm.OLS(y_poly2, X_poly2)\n",
    "results_poly2 = model_poly2.fit()\n",
    "pred_poly2 = results_poly2.predict(X)\n",
    "results.summary()"
   ]
  },
  {
   "cell_type": "code",
   "execution_count": 163,
   "metadata": {
    "collapsed": false
   },
   "outputs": [
    {
     "data": {
      "text/html": [
       "<table class=\"simpletable\">\n",
       "<caption>OLS Regression Results</caption>\n",
       "<tr>\n",
       "  <th>Dep. Variable:</th>            <td>y</td>        <th>  R-squared:         </th> <td>   0.770</td> \n",
       "</tr>\n",
       "<tr>\n",
       "  <th>Model:</th>                   <td>OLS</td>       <th>  Adj. R-squared:    </th> <td>   0.770</td> \n",
       "</tr>\n",
       "<tr>\n",
       "  <th>Method:</th>             <td>Least Squares</td>  <th>  F-statistic:       </th> <td>   1668.</td> \n",
       "</tr>\n",
       "<tr>\n",
       "  <th>Date:</th>             <td>Mon, 25 Jul 2016</td> <th>  Prob (F-statistic):</th> <td>4.24e-161</td>\n",
       "</tr>\n",
       "<tr>\n",
       "  <th>Time:</th>                 <td>21:43:36</td>     <th>  Log-Likelihood:    </th> <td> -1538.8</td> \n",
       "</tr>\n",
       "<tr>\n",
       "  <th>No. Observations:</th>      <td>   500</td>      <th>  AIC:               </th> <td>   3082.</td> \n",
       "</tr>\n",
       "<tr>\n",
       "  <th>Df Residuals:</th>          <td>   498</td>      <th>  BIC:               </th> <td>   3090.</td> \n",
       "</tr>\n",
       "<tr>\n",
       "  <th>Df Model:</th>              <td>     1</td>      <th>                     </th>     <td> </td>    \n",
       "</tr>\n",
       "<tr>\n",
       "  <th>Covariance Type:</th>      <td>nonrobust</td>    <th>                     </th>     <td> </td>    \n",
       "</tr>\n",
       "</table>\n",
       "<table class=\"simpletable\">\n",
       "<tr>\n",
       "      <td></td>         <th>coef</th>     <th>std err</th>      <th>t</th>      <th>P>|t|</th> <th>[95.0% Conf. Int.]</th> \n",
       "</tr>\n",
       "<tr>\n",
       "  <th>Intercept</th> <td>    0.7424</td> <td>    1.297</td> <td>    0.573</td> <td> 0.567</td> <td>   -1.805     3.290</td>\n",
       "</tr>\n",
       "<tr>\n",
       "  <th>x_log</th>     <td>   10.0171</td> <td>    0.245</td> <td>   40.844</td> <td> 0.000</td> <td>    9.535    10.499</td>\n",
       "</tr>\n",
       "</table>\n",
       "<table class=\"simpletable\">\n",
       "<tr>\n",
       "  <th>Omnibus:</th>       <td> 0.404</td> <th>  Durbin-Watson:     </th> <td>   1.904</td>\n",
       "</tr>\n",
       "<tr>\n",
       "  <th>Prob(Omnibus):</th> <td> 0.817</td> <th>  Jarque-Bera (JB):  </th> <td>   0.519</td>\n",
       "</tr>\n",
       "<tr>\n",
       "  <th>Skew:</th>          <td>-0.032</td> <th>  Prob(JB):          </th> <td>   0.772</td>\n",
       "</tr>\n",
       "<tr>\n",
       "  <th>Kurtosis:</th>      <td> 2.856</td> <th>  Cond. No.          </th> <td>    30.1</td>\n",
       "</tr>\n",
       "</table>"
      ],
      "text/plain": [
       "<class 'statsmodels.iolib.summary.Summary'>\n",
       "\"\"\"\n",
       "                            OLS Regression Results                            \n",
       "==============================================================================\n",
       "Dep. Variable:                      y   R-squared:                       0.770\n",
       "Model:                            OLS   Adj. R-squared:                  0.770\n",
       "Method:                 Least Squares   F-statistic:                     1668.\n",
       "Date:                Mon, 25 Jul 2016   Prob (F-statistic):          4.24e-161\n",
       "Time:                        21:43:36   Log-Likelihood:                -1538.8\n",
       "No. Observations:                 500   AIC:                             3082.\n",
       "Df Residuals:                     498   BIC:                             3090.\n",
       "Df Model:                           1                                         \n",
       "Covariance Type:            nonrobust                                         \n",
       "==============================================================================\n",
       "                 coef    std err          t      P>|t|      [95.0% Conf. Int.]\n",
       "------------------------------------------------------------------------------\n",
       "Intercept      0.7424      1.297      0.573      0.567        -1.805     3.290\n",
       "x_log         10.0171      0.245     40.844      0.000         9.535    10.499\n",
       "==============================================================================\n",
       "Omnibus:                        0.404   Durbin-Watson:                   1.904\n",
       "Prob(Omnibus):                  0.817   Jarque-Bera (JB):                0.519\n",
       "Skew:                          -0.032   Prob(JB):                        0.772\n",
       "Kurtosis:                       2.856   Cond. No.                         30.1\n",
       "==============================================================================\n",
       "\n",
       "Warnings:\n",
       "[1] Standard Errors assume that the covariance matrix of the errors is correctly specified.\n",
       "\"\"\""
      ]
     },
     "execution_count": 163,
     "metadata": {},
     "output_type": "execute_result"
    }
   ],
   "source": [
    "y_log, X_log = dmatrices('y ~ x_log', data=df, return_type='dataframe')\n",
    "model_log = sm.OLS(y_log, X_log)\n",
    "results_log = model_log.fit()\n",
    "pred_log = results_log.predict(X)\n",
    "results_log.summary()"
   ]
  },
  {
   "cell_type": "markdown",
   "metadata": {},
   "source": [
    "# Challenge 2"
   ]
  },
  {
   "cell_type": "markdown",
   "metadata": {},
   "source": [
    "Generate (fake) data from a model of the form B0 + B1*x + B2*x^2 + epsilon. (You are making up the parameters.)\n",
    "Split the data into a training and test set.\n",
    "Fit a model to your training set. Calculate mean squared error on your training set. Then calculate it on your test set.\n",
    "(You could use sklearn.metrics.mean_squared_error.)"
   ]
  },
  {
   "cell_type": "code",
   "execution_count": 168,
   "metadata": {
    "collapsed": false
   },
   "outputs": [],
   "source": [
    "#generate random data\n",
    "x = np.random.rand(500)*500\n",
    "epsilon = np.random.normal(1, 5, 500)\n",
    "B0 = 1\n",
    "B1 = 10\n",
    "B2 = 5\n",
    "\n",
    "#polynomial model\n",
    "y = [[B0 + B1*x[i] + B2*(x[i]**2) + epsilon[i]] for i in range(len(x))]"
   ]
  },
  {
   "cell_type": "code",
   "execution_count": 169,
   "metadata": {
    "collapsed": true
   },
   "outputs": [],
   "source": [
    "#create dataframe\n",
    "df_2 = pd.DataFrame(data = y)\n",
    "df_2.columns = ['y']\n",
    "df_2['x'] = [i for i in x]\n",
    "df_2['epsilon'] = [i for i in epsilon]\n",
    "df_2['x_poly2'] = [i**2 for i in x]\n",
    "df_2['x_log'] = np.log(x)"
   ]
  },
  {
   "cell_type": "code",
   "execution_count": 177,
   "metadata": {
    "collapsed": false
   },
   "outputs": [],
   "source": [
    "#split into training and test set\n",
    "from sklearn import cross_validation\n",
    "from sklearn.linear_model import LinearRegression\n",
    "\n",
    "y, X = dmatrices('y ~ x', data=df, return_type='dataframe')\n",
    "\n",
    "X_train, X_test, y_train, y_test = cross_validation.train_test_split(X, y, test_size=0.2)\n",
    "\n",
    "#fitting model to training set\n",
    "model_train = LinearRegression().fit(X_train, y_train)"
   ]
  },
  {
   "cell_type": "code",
   "execution_count": 178,
   "metadata": {
    "collapsed": false
   },
   "outputs": [
    {
     "name": "stdout",
     "output_type": "stream",
     "text": [
      "48.8262960179\n",
      "39.1022804847\n"
     ]
    }
   ],
   "source": [
    "from sklearn import metrics\n",
    "\n",
    "#calculate MSE on training set\n",
    "print(metrics.mean_squared_error(y_train,model.predict(X_train)))\n",
    "\n",
    "#calculate MSE on test set\n",
    "print(metrics.mean_squared_error(y_test,model.predict(X_test)))"
   ]
  },
  {
   "cell_type": "markdown",
   "metadata": {},
   "source": [
    "The MSE is lower on the the test set, indicating a good fit developed by the traning model"
   ]
  },
  {
   "cell_type": "markdown",
   "metadata": {},
   "source": [
    "# Challenge 3"
   ]
  },
  {
   "cell_type": "markdown",
   "metadata": {},
   "source": [
    "For the data from two (above), try polynomial fits from 0th (just constant) to 7th order (highest term x^7). Over the x axis of model degree (8 points), plot:\n",
    "training error  \n",
    "test error  \n",
    "R squared  \n",
    "AIC  "
   ]
  },
  {
   "cell_type": "code",
   "execution_count": 175,
   "metadata": {
    "collapsed": true
   },
   "outputs": [],
   "source": [
    "df_2['x_poly0'] = [i**0 for i in x]\n",
    "df_2['x_poly1'] = [i**1 for i in x]\n",
    "df_2['x_poly2'] = [i**2 for i in x]\n",
    "df_2['x_poly3'] = [i**3 for i in x]\n",
    "df_2['x_poly4'] = [i**4 for i in x]\n",
    "df_2['x_poly5'] = [i**5 for i in x]\n",
    "df_2['x_poly6'] = [i**6 for i in x]\n",
    "df_2['x_poly7'] = [i**7 for i in x]"
   ]
  },
  {
   "cell_type": "code",
   "execution_count": 176,
   "metadata": {
    "collapsed": false
   },
   "outputs": [
    {
     "data": {
      "text/html": [
       "<div>\n",
       "<table border=\"1\" class=\"dataframe\">\n",
       "  <thead>\n",
       "    <tr style=\"text-align: right;\">\n",
       "      <th></th>\n",
       "      <th>y</th>\n",
       "      <th>x</th>\n",
       "      <th>epsilon</th>\n",
       "      <th>x_poly2</th>\n",
       "      <th>x_log</th>\n",
       "      <th>x_poly0</th>\n",
       "      <th>x_poly1</th>\n",
       "      <th>x_poly3</th>\n",
       "      <th>x_poly4</th>\n",
       "      <th>x_poly5</th>\n",
       "      <th>x_poly6</th>\n",
       "      <th>x_poly7</th>\n",
       "    </tr>\n",
       "  </thead>\n",
       "  <tbody>\n",
       "    <tr>\n",
       "      <th>0</th>\n",
       "      <td>126570.976837</td>\n",
       "      <td>158.105998</td>\n",
       "      <td>1.383336</td>\n",
       "      <td>24997.506704</td>\n",
       "      <td>5.063266</td>\n",
       "      <td>1.0</td>\n",
       "      <td>158.105998</td>\n",
       "      <td>3.952256e+06</td>\n",
       "      <td>6.248753e+08</td>\n",
       "      <td>9.879654e+10</td>\n",
       "      <td>1.562033e+13</td>\n",
       "      <td>2.469667e+15</td>\n",
       "    </tr>\n",
       "    <tr>\n",
       "      <th>1</th>\n",
       "      <td>268175.692435</td>\n",
       "      <td>230.592748</td>\n",
       "      <td>3.687682</td>\n",
       "      <td>53173.015454</td>\n",
       "      <td>5.440653</td>\n",
       "      <td>1.0</td>\n",
       "      <td>230.592748</td>\n",
       "      <td>1.226131e+07</td>\n",
       "      <td>2.827370e+09</td>\n",
       "      <td>6.519709e+11</td>\n",
       "      <td>1.503398e+14</td>\n",
       "      <td>3.466726e+16</td>\n",
       "    </tr>\n",
       "    <tr>\n",
       "      <th>2</th>\n",
       "      <td>158883.491475</td>\n",
       "      <td>177.259567</td>\n",
       "      <td>5.124997</td>\n",
       "      <td>31420.954161</td>\n",
       "      <td>5.177615</td>\n",
       "      <td>1.0</td>\n",
       "      <td>177.259567</td>\n",
       "      <td>5.569665e+06</td>\n",
       "      <td>9.872764e+08</td>\n",
       "      <td>1.750042e+11</td>\n",
       "      <td>3.102117e+13</td>\n",
       "      <td>5.498798e+15</td>\n",
       "    </tr>\n",
       "    <tr>\n",
       "      <th>3</th>\n",
       "      <td>83826.952138</td>\n",
       "      <td>128.476377</td>\n",
       "      <td>10.291357</td>\n",
       "      <td>16506.179403</td>\n",
       "      <td>4.855745</td>\n",
       "      <td>1.0</td>\n",
       "      <td>128.476377</td>\n",
       "      <td>2.120654e+06</td>\n",
       "      <td>2.724540e+08</td>\n",
       "      <td>3.500390e+10</td>\n",
       "      <td>4.497174e+12</td>\n",
       "      <td>5.777806e+14</td>\n",
       "    </tr>\n",
       "    <tr>\n",
       "      <th>4</th>\n",
       "      <td>726907.325508</td>\n",
       "      <td>380.288209</td>\n",
       "      <td>7.833466</td>\n",
       "      <td>144619.121990</td>\n",
       "      <td>5.940929</td>\n",
       "      <td>1.0</td>\n",
       "      <td>380.288209</td>\n",
       "      <td>5.499695e+07</td>\n",
       "      <td>2.091469e+10</td>\n",
       "      <td>7.953610e+12</td>\n",
       "      <td>3.024664e+15</td>\n",
       "      <td>1.150244e+18</td>\n",
       "    </tr>\n",
       "  </tbody>\n",
       "</table>\n",
       "</div>"
      ],
      "text/plain": [
       "               y           x    epsilon        x_poly2     x_log  x_poly0  \\\n",
       "0  126570.976837  158.105998   1.383336   24997.506704  5.063266      1.0   \n",
       "1  268175.692435  230.592748   3.687682   53173.015454  5.440653      1.0   \n",
       "2  158883.491475  177.259567   5.124997   31420.954161  5.177615      1.0   \n",
       "3   83826.952138  128.476377  10.291357   16506.179403  4.855745      1.0   \n",
       "4  726907.325508  380.288209   7.833466  144619.121990  5.940929      1.0   \n",
       "\n",
       "      x_poly1       x_poly3       x_poly4       x_poly5       x_poly6  \\\n",
       "0  158.105998  3.952256e+06  6.248753e+08  9.879654e+10  1.562033e+13   \n",
       "1  230.592748  1.226131e+07  2.827370e+09  6.519709e+11  1.503398e+14   \n",
       "2  177.259567  5.569665e+06  9.872764e+08  1.750042e+11  3.102117e+13   \n",
       "3  128.476377  2.120654e+06  2.724540e+08  3.500390e+10  4.497174e+12   \n",
       "4  380.288209  5.499695e+07  2.091469e+10  7.953610e+12  3.024664e+15   \n",
       "\n",
       "        x_poly7  \n",
       "0  2.469667e+15  \n",
       "1  3.466726e+16  \n",
       "2  5.498798e+15  \n",
       "3  5.777806e+14  \n",
       "4  1.150244e+18  "
      ]
     },
     "execution_count": 176,
     "metadata": {},
     "output_type": "execute_result"
    }
   ],
   "source": [
    "df_2.head()"
   ]
  },
  {
   "cell_type": "code",
   "execution_count": 181,
   "metadata": {
    "collapsed": false
   },
   "outputs": [],
   "source": [
    "#split into test and train\n",
    "from sklearn import cross_validation\n",
    "from sklearn.linear_model import LinearRegression\n",
    "import statsmodels.api as sm\n",
    "\n",
    "y, X = dmatrices('y ~ x_poly0 + x_poly1 + x_poly2 + x_poly3 + x_poly4 + x_poly5 + x_poly6 + x_poly7', \n",
    "                 data=df_2, return_type='dataframe')\n",
    "\n",
    "X_train, X_test, y_train, y_test = cross_validation.train_test_split(X, y, test_size=0.2)"
   ]
  },
  {
   "cell_type": "code",
   "execution_count": 182,
   "metadata": {
    "collapsed": true
   },
   "outputs": [],
   "source": [
    "training_error = []\n",
    "test_error = []\n",
    "rsqrd = []\n",
    "aic = []\n",
    "\n",
    "for i in range(8):\n",
    "    #model\n",
    "    model = sm.OLS(y_train, X_train['x_poly{}'.format(i)]).fit()\n",
    "    #training error list for each poly\n",
    "    training_error.append(metrics.mean_squared_error(y_train,model.predict(X_train['x_poly{}'.format(i)])))\n",
    "    #testing error list for each poly\n",
    "    test_error.append(metrics.mean_squared_error(y_test,model.predict(X_test['x_poly{}'.format(i)])))\n",
    "    #rsqrd list for each poly\n",
    "    rsqrd.append(model.rsquared)\n",
    "    #aic list for each poly\n",
    "    aic.append(model.aic)"
   ]
  },
  {
   "cell_type": "code",
   "execution_count": 183,
   "metadata": {
    "collapsed": false
   },
   "outputs": [
    {
     "data": {
      "image/png": "[encoded data removed]",
      "text/plain": [
       "<matplotlib.figure.Figure at 0x1199ed2e8>"
      ]
     },
     "metadata": {},
     "output_type": "display_data"
    }
   ],
   "source": [
    "#plot training error\n",
    "plt.plot(range(8), training_error)\n",
    "plt.xlabel('Order')\n",
    "plt.ylabel('training error')\n",
    "plt.show()\n"
   ]
  },
  {
   "cell_type": "code",
   "execution_count": 190,
   "metadata": {
    "collapsed": false
   },
   "outputs": [
    {
     "data": {
      "image/png": "[encoded data removed]",
      "text/plain": [
       "<matplotlib.figure.Figure at 0x10f71bb38>"
      ]
     },
     "metadata": {},
     "output_type": "display_data"
    }
   ],
   "source": [
    "plt.plot(range(8), test_error)\n",
    "plt.xlabel('Order')\n",
    "plt.ylabel('Testing Error')\n",
    "plt.show()\n"
   ]
  },
  {
   "cell_type": "code",
   "execution_count": 191,
   "metadata": {
    "collapsed": false
   },
   "outputs": [
    {
     "data": {
      "image/png": "[encoded data removed]",
      "text/plain": [
       "<matplotlib.figure.Figure at 0x11aac77f0>"
      ]
     },
     "metadata": {},
     "output_type": "display_data"
    }
   ],
   "source": [
    "plt.plot(range(8), rsqrd)\n",
    "plt.xlabel('Order')\n",
    "plt.ylabel('R Squared')\n",
    "plt.show()\n"
   ]
  },
  {
   "cell_type": "code",
   "execution_count": 192,
   "metadata": {
    "collapsed": false
   },
   "outputs": [
    {
     "data": {
      "image/png": "[encoded data removed]",
      "text/plain": [
       "<matplotlib.figure.Figure at 0x11a9e38d0>"
      ]
     },
     "metadata": {},
     "output_type": "display_data"
    }
   ],
   "source": [
    "plt.plot(range(8), aic)\n",
    "plt.xlabel('Order')\n",
    "plt.ylabel('AIC')\n",
    "plt.show()"
   ]
  },
  {
   "cell_type": "markdown",
   "metadata": {},
   "source": [
    "# Challenge 4"
   ]
  },
  {
   "cell_type": "markdown",
   "metadata": {},
   "source": [
    "For the data from two (above), fit a model to only the first 5 of your data points (m=5). Then to first 10 (m=10). Then to first 15 (m=15). In this manner, keep fitting until you fit your entire training set. For each step, calculate the training error and the test error. Plot both (in the same plot) over m. This is called a learning curve."
   ]
  },
  {
   "cell_type": "markdown",
   "metadata": {},
   "source": [
    "Still working challenge 4!  Will resubmit this week."
   ]
  },
  {
   "cell_type": "code",
   "execution_count": null,
   "metadata": {
    "collapsed": true
   },
   "outputs": [],
   "source": []
  }
 ],
 "metadata": {
  "kernelspec": {
   "display_name": "Python 3",
   "language": "python",
   "name": "python3"
  },
  "language_info": {
   "codemirror_mode": {
    "name": "ipython",
    "version": 3
   },
   "file_extension": ".py",
   "mimetype": "text/x-python",
   "name": "python",
   "nbconvert_exporter": "python",
   "pygments_lexer": "ipython3",
   "version": "3.5.2"
  }
 },
 "nbformat": 4,
 "nbformat_minor": 0
}
