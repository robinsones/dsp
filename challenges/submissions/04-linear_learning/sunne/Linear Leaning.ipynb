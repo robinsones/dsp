{
 "cells": [
  {
   "cell_type": "markdown",
   "metadata": {},
   "source": [
    "# Challenge Set 4"
   ]
  },
  {
   "cell_type": "markdown",
   "metadata": {},
   "source": [
    "### Challenge #1"
   ]
  },
  {
   "cell_type": "code",
   "execution_count": 10,
   "metadata": {
    "collapsed": false
   },
   "outputs": [],
   "source": [
    "import pandas as pd\n",
    "import random\n",
    "import math\n",
    "import numpy as np\n",
    "%matplotlib inline\n",
    "import matplotlib.pyplot as plt\n",
    "from patsy import dmatrices\n",
    "import scipy as sp\n",
    "import statsmodels.api as sm\n",
    "from sklearn import cross_validation as cv\n",
    "from sklearn import metrics\n",
    "from sklearn.linear_model import LinearRegression"
   ]
  },
  {
   "cell_type": "code",
   "execution_count": 79,
   "metadata": {
    "collapsed": false
   },
   "outputs": [
    {
     "name": "stderr",
     "output_type": "stream",
     "text": [
      "/Users/sunkuo/anaconda/lib/python3.5/site-packages/ipykernel/__main__.py:13: DeprecationWarning: using a non-integer number instead of an integer will result in an error in the future\n",
      "/Users/sunkuo/anaconda/lib/python3.5/site-packages/ipykernel/__main__.py:14: DeprecationWarning: using a non-integer number instead of an integer will result in an error in the future\n"
     ]
    },
    {
     "data": {
      "text/html": [
       "<div>\n",
       "<table border=\"1\" class=\"dataframe\">\n",
       "  <thead>\n",
       "    <tr style=\"text-align: right;\">\n",
       "      <th></th>\n",
       "      <th>y</th>\n",
       "      <th>x</th>\n",
       "      <th>error</th>\n",
       "      <th>log_y</th>\n",
       "      <th>log_x</th>\n",
       "      <th>squared_x</th>\n",
       "    </tr>\n",
       "  </thead>\n",
       "  <tbody>\n",
       "    <tr>\n",
       "      <th>0</th>\n",
       "      <td>62.652432</td>\n",
       "      <td>6.608942</td>\n",
       "      <td>11.898075</td>\n",
       "      <td>4.137603</td>\n",
       "      <td>2.497114</td>\n",
       "      <td>43.678118</td>\n",
       "    </tr>\n",
       "    <tr>\n",
       "      <th>1</th>\n",
       "      <td>57.602533</td>\n",
       "      <td>14.830014</td>\n",
       "      <td>13.559287</td>\n",
       "      <td>4.053567</td>\n",
       "      <td>2.237878</td>\n",
       "      <td>219.929322</td>\n",
       "    </tr>\n",
       "    <tr>\n",
       "      <th>2</th>\n",
       "      <td>67.242073</td>\n",
       "      <td>8.542991</td>\n",
       "      <td>13.987815</td>\n",
       "      <td>4.208299</td>\n",
       "      <td>2.568632</td>\n",
       "      <td>72.982687</td>\n",
       "    </tr>\n",
       "    <tr>\n",
       "      <th>3</th>\n",
       "      <td>40.462446</td>\n",
       "      <td>8.900102</td>\n",
       "      <td>14.010459</td>\n",
       "      <td>3.700374</td>\n",
       "      <td>1.735014</td>\n",
       "      <td>79.211817</td>\n",
       "    </tr>\n",
       "    <tr>\n",
       "      <th>4</th>\n",
       "      <td>47.969164</td>\n",
       "      <td>10.026435</td>\n",
       "      <td>13.987815</td>\n",
       "      <td>3.870558</td>\n",
       "      <td>2.093308</td>\n",
       "      <td>100.529389</td>\n",
       "    </tr>\n",
       "  </tbody>\n",
       "</table>\n",
       "</div>"
      ],
      "text/plain": [
       "           y          x      error     log_y     log_x   squared_x\n",
       "0  62.652432   6.608942  11.898075  4.137603  2.497114   43.678118\n",
       "1  57.602533  14.830014  13.559287  4.053567  2.237878  219.929322\n",
       "2  67.242073   8.542991  13.987815  4.208299  2.568632   72.982687\n",
       "3  40.462446   8.900102  14.010459  3.700374  1.735014   79.211817\n",
       "4  47.969164  10.026435  13.987815  3.870558  2.093308  100.529389"
      ]
     },
     "execution_count": 79,
     "metadata": {},
     "output_type": "execute_result"
    }
   ],
   "source": [
    "mu1, sigma1 = 10, 3 \n",
    "mu2, sigma2 = 12, 2.5\n",
    "beta_0 = 5\n",
    "beta_1 = 4\n",
    "beta_2 = 6.7\n",
    "error = np.random.normal(mu2, sigma2, 1000)\n",
    "x = np.random.normal(mu1, sigma1, 1000)\n",
    "#log_x = [math.log(i) for i in x]\n",
    "#param1 = np.random.uniform(0,20,1000)\n",
    "\n",
    "y = [beta_0 + beta_1 * x[i] + error[i] for i in range(len(x))]\n",
    "df = pd.DataFrame(y, columns = ['y'])\n",
    "df['x'] = [x[i] for i in x]\n",
    "df['error'] = [error[i] for i in error]\n",
    "df['log_y'] = np.log(y)\n",
    "df['log_x'] = np.log(x)\n",
    "df['squared_x'] = df['x'].apply(lambda x: x**2)\n",
    "squared_x = df['squared_x'].tolist()\n",
    "df.head()\n"
   ]
  },
  {
   "cell_type": "code",
   "execution_count": 20,
   "metadata": {
    "collapsed": false
   },
   "outputs": [
    {
     "data": {
      "text/html": [
       "<table class=\"simpletable\">\n",
       "<caption>OLS Regression Results</caption>\n",
       "<tr>\n",
       "  <th>Dep. Variable:</th>       <td>df[\"log_y\"]</td>   <th>  R-squared:         </th> <td>   0.043</td>\n",
       "</tr>\n",
       "<tr>\n",
       "  <th>Model:</th>                   <td>OLS</td>       <th>  Adj. R-squared:    </th> <td>   0.042</td>\n",
       "</tr>\n",
       "<tr>\n",
       "  <th>Method:</th>             <td>Least Squares</td>  <th>  F-statistic:       </th> <td>   44.90</td>\n",
       "</tr>\n",
       "<tr>\n",
       "  <th>Date:</th>             <td>Mon, 25 Jul 2016</td> <th>  Prob (F-statistic):</th> <td>3.46e-11</td>\n",
       "</tr>\n",
       "<tr>\n",
       "  <th>Time:</th>                 <td>12:55:49</td>     <th>  Log-Likelihood:    </th> <td>  45.607</td>\n",
       "</tr>\n",
       "<tr>\n",
       "  <th>No. Observations:</th>      <td>  1000</td>      <th>  AIC:               </th> <td>  -87.21</td>\n",
       "</tr>\n",
       "<tr>\n",
       "  <th>Df Residuals:</th>          <td>   998</td>      <th>  BIC:               </th> <td>  -77.40</td>\n",
       "</tr>\n",
       "<tr>\n",
       "  <th>Df Model:</th>              <td>     1</td>      <th>                     </th>     <td> </td>   \n",
       "</tr>\n",
       "<tr>\n",
       "  <th>Covariance Type:</th>      <td>nonrobust</td>    <th>                     </th>     <td> </td>   \n",
       "</tr>\n",
       "</table>\n",
       "<table class=\"simpletable\">\n",
       "<tr>\n",
       "      <td></td>         <th>coef</th>     <th>std err</th>      <th>t</th>      <th>P>|t|</th> <th>[95.0% Conf. Int.]</th> \n",
       "</tr>\n",
       "<tr>\n",
       "  <th>Intercept</th> <td>    4.2453</td> <td>    0.035</td> <td>  121.683</td> <td> 0.000</td> <td>    4.177     4.314</td>\n",
       "</tr>\n",
       "<tr>\n",
       "  <th>df[\"x\"]</th>   <td>   -0.0223</td> <td>    0.003</td> <td>   -6.701</td> <td> 0.000</td> <td>   -0.029    -0.016</td>\n",
       "</tr>\n",
       "</table>\n",
       "<table class=\"simpletable\">\n",
       "<tr>\n",
       "  <th>Omnibus:</th>       <td>249.862</td> <th>  Durbin-Watson:     </th> <td>   2.003</td> \n",
       "</tr>\n",
       "<tr>\n",
       "  <th>Prob(Omnibus):</th> <td> 0.000</td>  <th>  Jarque-Bera (JB):  </th> <td> 771.528</td> \n",
       "</tr>\n",
       "<tr>\n",
       "  <th>Skew:</th>          <td>-1.223</td>  <th>  Prob(JB):          </th> <td>2.92e-168</td>\n",
       "</tr>\n",
       "<tr>\n",
       "  <th>Kurtosis:</th>      <td> 6.540</td>  <th>  Cond. No.          </th> <td>    50.5</td> \n",
       "</tr>\n",
       "</table>"
      ],
      "text/plain": [
       "<class 'statsmodels.iolib.summary.Summary'>\n",
       "\"\"\"\n",
       "                            OLS Regression Results                            \n",
       "==============================================================================\n",
       "Dep. Variable:            df[\"log_y\"]   R-squared:                       0.043\n",
       "Model:                            OLS   Adj. R-squared:                  0.042\n",
       "Method:                 Least Squares   F-statistic:                     44.90\n",
       "Date:                Mon, 25 Jul 2016   Prob (F-statistic):           3.46e-11\n",
       "Time:                        12:55:49   Log-Likelihood:                 45.607\n",
       "No. Observations:                1000   AIC:                            -87.21\n",
       "Df Residuals:                     998   BIC:                            -77.40\n",
       "Df Model:                           1                                         \n",
       "Covariance Type:            nonrobust                                         \n",
       "==============================================================================\n",
       "                 coef    std err          t      P>|t|      [95.0% Conf. Int.]\n",
       "------------------------------------------------------------------------------\n",
       "Intercept      4.2453      0.035    121.683      0.000         4.177     4.314\n",
       "df[\"x\"]       -0.0223      0.003     -6.701      0.000        -0.029    -0.016\n",
       "==============================================================================\n",
       "Omnibus:                      249.862   Durbin-Watson:                   2.003\n",
       "Prob(Omnibus):                  0.000   Jarque-Bera (JB):              771.528\n",
       "Skew:                          -1.223   Prob(JB):                    2.92e-168\n",
       "Kurtosis:                       6.540   Cond. No.                         50.5\n",
       "==============================================================================\n",
       "\n",
       "Warnings:\n",
       "[1] Standard Errors assume that the covariance matrix of the errors is correctly specified.\n",
       "\"\"\""
      ]
     },
     "execution_count": 20,
     "metadata": {},
     "output_type": "execute_result"
    }
   ],
   "source": [
    "y, x = dmatrices('df[\"log_y\"] ~ df[\"x\"]')\n",
    "model = sm.OLS(y, x).fit()\n",
    "model.summary()"
   ]
  },
  {
   "cell_type": "code",
   "execution_count": 80,
   "metadata": {
    "collapsed": false
   },
   "outputs": [
    {
     "data": {
      "text/html": [
       "<table class=\"simpletable\">\n",
       "<caption>OLS Regression Results</caption>\n",
       "<tr>\n",
       "  <th>Dep. Variable:</th>       <td>df[\"log_y\"]</td>   <th>  R-squared:         </th> <td>   0.020</td>\n",
       "</tr>\n",
       "<tr>\n",
       "  <th>Model:</th>                   <td>OLS</td>       <th>  Adj. R-squared:    </th> <td>   0.018</td>\n",
       "</tr>\n",
       "<tr>\n",
       "  <th>Method:</th>             <td>Least Squares</td>  <th>  F-statistic:       </th> <td>   9.984</td>\n",
       "</tr>\n",
       "<tr>\n",
       "  <th>Date:</th>             <td>Mon, 25 Jul 2016</td> <th>  Prob (F-statistic):</th> <td>5.09e-05</td>\n",
       "</tr>\n",
       "<tr>\n",
       "  <th>Time:</th>                 <td>14:35:40</td>     <th>  Log-Likelihood:    </th> <td>  97.684</td>\n",
       "</tr>\n",
       "<tr>\n",
       "  <th>No. Observations:</th>      <td>  1000</td>      <th>  AIC:               </th> <td>  -189.4</td>\n",
       "</tr>\n",
       "<tr>\n",
       "  <th>Df Residuals:</th>          <td>   997</td>      <th>  BIC:               </th> <td>  -174.6</td>\n",
       "</tr>\n",
       "<tr>\n",
       "  <th>Df Model:</th>              <td>     2</td>      <th>                     </th>     <td> </td>   \n",
       "</tr>\n",
       "<tr>\n",
       "  <th>Covariance Type:</th>      <td>nonrobust</td>    <th>                     </th>     <td> </td>   \n",
       "</tr>\n",
       "</table>\n",
       "<table class=\"simpletable\">\n",
       "<tr>\n",
       "         <td></td>            <th>coef</th>     <th>std err</th>      <th>t</th>      <th>P>|t|</th> <th>[95.0% Conf. Int.]</th> \n",
       "</tr>\n",
       "<tr>\n",
       "  <th>Intercept</th>       <td>    4.3340</td> <td>    0.115</td> <td>   37.746</td> <td> 0.000</td> <td>    4.109     4.559</td>\n",
       "</tr>\n",
       "<tr>\n",
       "  <th>df[\"x\"]</th>         <td>   -0.0529</td> <td>    0.023</td> <td>   -2.343</td> <td> 0.019</td> <td>   -0.097    -0.009</td>\n",
       "</tr>\n",
       "<tr>\n",
       "  <th>df[\"squared_x\"]</th> <td>    0.0019</td> <td>    0.001</td> <td>    1.886</td> <td> 0.060</td> <td>-7.89e-05     0.004</td>\n",
       "</tr>\n",
       "</table>\n",
       "<table class=\"simpletable\">\n",
       "<tr>\n",
       "  <th>Omnibus:</th>       <td>148.817</td> <th>  Durbin-Watson:     </th> <td>   1.997</td>\n",
       "</tr>\n",
       "<tr>\n",
       "  <th>Prob(Omnibus):</th> <td> 0.000</td>  <th>  Jarque-Bera (JB):  </th> <td> 271.472</td>\n",
       "</tr>\n",
       "<tr>\n",
       "  <th>Skew:</th>          <td>-0.914</td>  <th>  Prob(JB):          </th> <td>1.12e-59</td>\n",
       "</tr>\n",
       "<tr>\n",
       "  <th>Kurtosis:</th>      <td> 4.781</td>  <th>  Cond. No.          </th> <td>1.87e+03</td>\n",
       "</tr>\n",
       "</table>"
      ],
      "text/plain": [
       "<class 'statsmodels.iolib.summary.Summary'>\n",
       "\"\"\"\n",
       "                            OLS Regression Results                            \n",
       "==============================================================================\n",
       "Dep. Variable:            df[\"log_y\"]   R-squared:                       0.020\n",
       "Model:                            OLS   Adj. R-squared:                  0.018\n",
       "Method:                 Least Squares   F-statistic:                     9.984\n",
       "Date:                Mon, 25 Jul 2016   Prob (F-statistic):           5.09e-05\n",
       "Time:                        14:35:40   Log-Likelihood:                 97.684\n",
       "No. Observations:                1000   AIC:                            -189.4\n",
       "Df Residuals:                     997   BIC:                            -174.6\n",
       "Df Model:                           2                                         \n",
       "Covariance Type:            nonrobust                                         \n",
       "===================================================================================\n",
       "                      coef    std err          t      P>|t|      [95.0% Conf. Int.]\n",
       "-----------------------------------------------------------------------------------\n",
       "Intercept           4.3340      0.115     37.746      0.000         4.109     4.559\n",
       "df[\"x\"]            -0.0529      0.023     -2.343      0.019        -0.097    -0.009\n",
       "df[\"squared_x\"]     0.0019      0.001      1.886      0.060     -7.89e-05     0.004\n",
       "==============================================================================\n",
       "Omnibus:                      148.817   Durbin-Watson:                   1.997\n",
       "Prob(Omnibus):                  0.000   Jarque-Bera (JB):              271.472\n",
       "Skew:                          -0.914   Prob(JB):                     1.12e-59\n",
       "Kurtosis:                       4.781   Cond. No.                     1.87e+03\n",
       "==============================================================================\n",
       "\n",
       "Warnings:\n",
       "[1] Standard Errors assume that the covariance matrix of the errors is correctly specified.\n",
       "[2] The condition number is large, 1.87e+03. This might indicate that there are\n",
       "strong multicollinearity or other numerical problems.\n",
       "\"\"\""
      ]
     },
     "execution_count": 80,
     "metadata": {},
     "output_type": "execute_result"
    }
   ],
   "source": [
    "y, x = dmatrices('df[\"log_y\"] ~ df [\"x\"] + df[\"squared_x\"]')\n",
    "model = sm.OLS(y, x).fit()\n",
    "model.summary()"
   ]
  },
  {
   "cell_type": "markdown",
   "metadata": {},
   "source": [
    "### Challenge 2"
   ]
  },
  {
   "cell_type": "code",
   "execution_count": 57,
   "metadata": {
    "collapsed": false,
    "scrolled": false
   },
   "outputs": [
    {
     "data": {
      "text/html": [
       "<table class=\"simpletable\">\n",
       "<caption>OLS Regression Results</caption>\n",
       "<tr>\n",
       "  <th>Dep. Variable:</th>       <td>df[\"log_y\"]</td>   <th>  R-squared:         </th> <td>   0.903</td>\n",
       "</tr>\n",
       "<tr>\n",
       "  <th>Model:</th>                   <td>OLS</td>       <th>  Adj. R-squared:    </th> <td>   0.903</td>\n",
       "</tr>\n",
       "<tr>\n",
       "  <th>Method:</th>             <td>Least Squares</td>  <th>  F-statistic:       </th> <td>   9261.</td>\n",
       "</tr>\n",
       "<tr>\n",
       "  <th>Date:</th>             <td>Mon, 25 Jul 2016</td> <th>  Prob (F-statistic):</th>  <td>  0.00</td> \n",
       "</tr>\n",
       "<tr>\n",
       "  <th>Time:</th>                 <td>13:19:33</td>     <th>  Log-Likelihood:    </th> <td>  1207.5</td>\n",
       "</tr>\n",
       "<tr>\n",
       "  <th>No. Observations:</th>      <td>  1000</td>      <th>  AIC:               </th> <td>  -2411.</td>\n",
       "</tr>\n",
       "<tr>\n",
       "  <th>Df Residuals:</th>          <td>   998</td>      <th>  BIC:               </th> <td>  -2401.</td>\n",
       "</tr>\n",
       "<tr>\n",
       "  <th>Df Model:</th>              <td>     1</td>      <th>                     </th>     <td> </td>   \n",
       "</tr>\n",
       "<tr>\n",
       "  <th>Covariance Type:</th>      <td>nonrobust</td>    <th>                     </th>     <td> </td>   \n",
       "</tr>\n",
       "</table>\n",
       "<table class=\"simpletable\">\n",
       "<tr>\n",
       "       <td></td>          <th>coef</th>     <th>std err</th>      <th>t</th>      <th>P>|t|</th> <th>[95.0% Conf. Int.]</th> \n",
       "</tr>\n",
       "<tr>\n",
       "  <th>Intercept</th>   <td>    2.6930</td> <td>    0.014</td> <td>  193.482</td> <td> 0.000</td> <td>    2.666     2.720</td>\n",
       "</tr>\n",
       "<tr>\n",
       "  <th>df[\"log_x\"]</th> <td>    0.5887</td> <td>    0.006</td> <td>   96.233</td> <td> 0.000</td> <td>    0.577     0.601</td>\n",
       "</tr>\n",
       "</table>\n",
       "<table class=\"simpletable\">\n",
       "<tr>\n",
       "  <th>Omnibus:</th>       <td>1212.028</td> <th>  Durbin-Watson:     </th>  <td>   2.005</td> \n",
       "</tr>\n",
       "<tr>\n",
       "  <th>Prob(Omnibus):</th>  <td> 0.000</td>  <th>  Jarque-Bera (JB):  </th> <td>382061.960</td>\n",
       "</tr>\n",
       "<tr>\n",
       "  <th>Skew:</th>           <td> 5.694</td>  <th>  Prob(JB):          </th>  <td>    0.00</td> \n",
       "</tr>\n",
       "<tr>\n",
       "  <th>Kurtosis:</th>       <td>98.078</td>  <th>  Cond. No.          </th>  <td>    16.4</td> \n",
       "</tr>\n",
       "</table>"
      ],
      "text/plain": [
       "<class 'statsmodels.iolib.summary.Summary'>\n",
       "\"\"\"\n",
       "                            OLS Regression Results                            \n",
       "==============================================================================\n",
       "Dep. Variable:            df[\"log_y\"]   R-squared:                       0.903\n",
       "Model:                            OLS   Adj. R-squared:                  0.903\n",
       "Method:                 Least Squares   F-statistic:                     9261.\n",
       "Date:                Mon, 25 Jul 2016   Prob (F-statistic):               0.00\n",
       "Time:                        13:19:33   Log-Likelihood:                 1207.5\n",
       "No. Observations:                1000   AIC:                            -2411.\n",
       "Df Residuals:                     998   BIC:                            -2401.\n",
       "Df Model:                           1                                         \n",
       "Covariance Type:            nonrobust                                         \n",
       "===============================================================================\n",
       "                  coef    std err          t      P>|t|      [95.0% Conf. Int.]\n",
       "-------------------------------------------------------------------------------\n",
       "Intercept       2.6930      0.014    193.482      0.000         2.666     2.720\n",
       "df[\"log_x\"]     0.5887      0.006     96.233      0.000         0.577     0.601\n",
       "==============================================================================\n",
       "Omnibus:                     1212.028   Durbin-Watson:                   2.005\n",
       "Prob(Omnibus):                  0.000   Jarque-Bera (JB):           382061.960\n",
       "Skew:                           5.694   Prob(JB):                         0.00\n",
       "Kurtosis:                      98.078   Cond. No.                         16.4\n",
       "==============================================================================\n",
       "\n",
       "Warnings:\n",
       "[1] Standard Errors assume that the covariance matrix of the errors is correctly specified.\n",
       "\"\"\""
      ]
     },
     "execution_count": 57,
     "metadata": {},
     "output_type": "execute_result"
    }
   ],
   "source": [
    "y, x = dmatrices('df[\"log_y\"] ~ df[\"log_x\"]')\n",
    "model = sm.OLS(y, x).fit()\n",
    "model.summary()"
   ]
  },
  {
   "cell_type": "code",
   "execution_count": 24,
   "metadata": {
    "collapsed": false
   },
   "outputs": [
    {
     "data": {
      "text/html": [
       "<div>\n",
       "<table border=\"1\" class=\"dataframe\">\n",
       "  <thead>\n",
       "    <tr style=\"text-align: right;\">\n",
       "      <th></th>\n",
       "      <th>y</th>\n",
       "      <th>x</th>\n",
       "      <th>error</th>\n",
       "      <th>log_y</th>\n",
       "      <th>log_x</th>\n",
       "      <th>squared_x</th>\n",
       "      <th>y_2</th>\n",
       "    </tr>\n",
       "  </thead>\n",
       "  <tbody>\n",
       "    <tr>\n",
       "      <th>0</th>\n",
       "      <td>74.375141</td>\n",
       "      <td>10.691263</td>\n",
       "      <td>10.888197</td>\n",
       "      <td>4.309122</td>\n",
       "      <td>2.601249</td>\n",
       "      <td>114.303104</td>\n",
       "      <td>840.205939</td>\n",
       "    </tr>\n",
       "    <tr>\n",
       "      <th>1</th>\n",
       "      <td>52.001066</td>\n",
       "      <td>11.927431</td>\n",
       "      <td>8.283205</td>\n",
       "      <td>3.951264</td>\n",
       "      <td>2.152555</td>\n",
       "      <td>142.263611</td>\n",
       "      <td>1005.167259</td>\n",
       "    </tr>\n",
       "    <tr>\n",
       "      <th>2</th>\n",
       "      <td>46.222486</td>\n",
       "      <td>12.871142</td>\n",
       "      <td>12.155473</td>\n",
       "      <td>3.833466</td>\n",
       "      <td>1.895794</td>\n",
       "      <td>165.666306</td>\n",
       "      <td>1156.186735</td>\n",
       "    </tr>\n",
       "    <tr>\n",
       "      <th>3</th>\n",
       "      <td>36.752231</td>\n",
       "      <td>7.004561</td>\n",
       "      <td>11.408396</td>\n",
       "      <td>3.604199</td>\n",
       "      <td>1.704516</td>\n",
       "      <td>49.063870</td>\n",
       "      <td>365.480159</td>\n",
       "    </tr>\n",
       "    <tr>\n",
       "      <th>4</th>\n",
       "      <td>72.353768</td>\n",
       "      <td>6.928367</td>\n",
       "      <td>13.785674</td>\n",
       "      <td>4.281568</td>\n",
       "      <td>2.653071</td>\n",
       "      <td>48.002272</td>\n",
       "      <td>393.968990</td>\n",
       "    </tr>\n",
       "  </tbody>\n",
       "</table>\n",
       "</div>"
      ],
      "text/plain": [
       "           y          x      error     log_y     log_x   squared_x  \\\n",
       "0  74.375141  10.691263  10.888197  4.309122  2.601249  114.303104   \n",
       "1  52.001066  11.927431   8.283205  3.951264  2.152555  142.263611   \n",
       "2  46.222486  12.871142  12.155473  3.833466  1.895794  165.666306   \n",
       "3  36.752231   7.004561  11.408396  3.604199  1.704516   49.063870   \n",
       "4  72.353768   6.928367  13.785674  4.281568  2.653071   48.002272   \n",
       "\n",
       "           y_2  \n",
       "0   840.205939  \n",
       "1  1005.167259  \n",
       "2  1156.186735  \n",
       "3   365.480159  \n",
       "4   393.968990  "
      ]
     },
     "execution_count": 24,
     "metadata": {},
     "output_type": "execute_result"
    }
   ],
   "source": [
    "df['y_2'] = [beta_0 + beta_1 * x[t] + beta_2 * squared_x[t] + error[t] for t in range(len(error))]\n",
    "df.head()"
   ]
  },
  {
   "cell_type": "code",
   "execution_count": 35,
   "metadata": {
    "collapsed": false,
    "scrolled": false
   },
   "outputs": [
    {
     "name": "stdout",
     "output_type": "stream",
     "text": [
      "4322.43718206\n",
      "3601.69088922\n"
     ]
    }
   ],
   "source": [
    "x, y = dmatrices('df[\"y_2\"] ~ df[\"x\"]')\n",
    "x_train, x_test, y_train, y_test = cv.train_test_split(y, x,test_size=0.25,random_state=1234)\n",
    "model = LinearRegression().fit(x_train, y_train)\n",
    "print(metrics.mean_squared_error(y_train,model.predict(x_train)))\n",
    "print(metrics.mean_squared_error(y_test,model.predict(x_test)))"
   ]
  },
  {
   "cell_type": "markdown",
   "metadata": {
    "collapsed": true
   },
   "source": [
    "### Challenge 3 "
   ]
  },
  {
   "cell_type": "code",
   "execution_count": 26,
   "metadata": {
    "collapsed": false
   },
   "outputs": [],
   "source": [
    "df['constant'] = 1\n",
    "df['cubed_x'] = df['x'].apply(lambda x: x**3)\n",
    "df['fourth_x'] = df['x'].apply(lambda x: x**4)\n",
    "df['fifth_x'] = df['x'].apply(lambda x: x**5)\n",
    "df['sixth_x'] = df['x'].apply(lambda x: x**6)\n",
    "df['seventh_x'] = df['x'].apply(lambda x: x**7)"
   ]
  },
  {
   "cell_type": "code",
   "execution_count": 27,
   "metadata": {
    "collapsed": false
   },
   "outputs": [
    {
     "name": "stdout",
     "output_type": "stream",
     "text": [
      "750\n"
     ]
    }
   ],
   "source": [
    "test = df[int(len(df)*.75):]\n",
    "train = df[:int(len(df)*.75)]\n",
    "ols = LinearRegression()\n",
    "train1 = sm.OLS(train['y_2'],train['constant']).fit()\n",
    "print(len(train))"
   ]
  },
  {
   "cell_type": "code",
   "execution_count": 58,
   "metadata": {
    "collapsed": false
   },
   "outputs": [],
   "source": [
    "a, b = dmatrices('train[\"y_2\"] ~ train[\"constant\"]')\n",
    "c, d = dmatrices('train[\"y_2\"] ~ train[\"constant\"]+train[\"x\"]')\n",
    "e, f = dmatrices('train[\"y_2\"] ~ train[\"constant\"]+train[\"x\"]+train[\"squared_x\"]')\n",
    "g, h = dmatrices('train[\"y_2\"] ~ train[\"constant\"]+train[\"x\"]+train[\"squared_x\"]+train[\"cubed_x\"]')\n",
    "i, j = dmatrices('train[\"y_2\"] ~ train[\"constant\"]+train[\"x\"]+train[\"squared_x\"]+train[\"cubed_x\"]+train[\"fourth_x\"]')\n",
    "k, l = dmatrices('train[\"y_2\"] ~ train[\"constant\"]+train[\"x\"]+train[\"squared_x\"]+train[\"cubed_x\"]+train[\"fourth_x\"]+train[\"fifth_x\"]')\n",
    "m, n = dmatrices('train[\"y_2\"] ~ train[\"constant\"]+train[\"x\"]+train[\"squared_x\"]+train[\"cubed_x\"]+train[\"fourth_x\"]+train[\"fifth_x\"]+\\\n",
    "                    train[\"sixth_x\"]')\n",
    "o, p = dmatrices('train[\"y_2\"] ~ train[\"constant\"]+train[\"x\"]+train[\"squared_x\"]+train[\"cubed_x\"]+train[\"fourth_x\"]+train[\"fifth_x\"]+\\\n",
    "                    train[\"sixth_x\"]+train[\"seventh_x\"]')"
   ]
  },
  {
   "cell_type": "code",
   "execution_count": 59,
   "metadata": {
    "collapsed": true
   },
   "outputs": [],
   "source": [
    "at, bt = dmatrices('test[\"y_2\"] ~ test[\"constant\"]')\n",
    "ct, dt = dmatrices('test[\"y_2\"] ~ test[\"constant\"]+test[\"x\"]')\n",
    "et, ft = dmatrices('test[\"y_2\"] ~ test[\"constant\"]+test[\"x\"]+test[\"squared_x\"]')\n",
    "gt, ht = dmatrices('test[\"y_2\"] ~ test[\"constant\"]+test[\"x\"]+test[\"squared_x\"]+test[\"cubed_x\"]')\n",
    "it, jt = dmatrices('test[\"y_2\"] ~ test[\"constant\"]+test[\"x\"]+test[\"squared_x\"]+test[\"cubed_x\"]+test[\"fourth_x\"]')\n",
    "kt, lt = dmatrices('test[\"y_2\"] ~ test[\"constant\"]+test[\"x\"]+test[\"squared_x\"]+test[\"cubed_x\"]+test[\"fourth_x\"]+test[\"fifth_x\"]')\n",
    "mt, nt = dmatrices('test[\"y_2\"] ~ test[\"constant\"]+test[\"x\"]+test[\"squared_x\"]+test[\"cubed_x\"]+test[\"fourth_x\"]+test[\"fifth_x\"]+\\\n",
    "                    test[\"sixth_x\"]')\n",
    "ot, pt = dmatrices('test[\"y_2\"] ~ test[\"constant\"]+test[\"x\"]+test[\"squared_x\"]+test[\"cubed_x\"]+test[\"fourth_x\"]+test[\"fifth_x\"]+\\\n",
    "                    test[\"sixth_x\"]+test[\"seventh_x\"]')\n"
   ]
  },
  {
   "cell_type": "code",
   "execution_count": 60,
   "metadata": {
    "collapsed": false
   },
   "outputs": [],
   "source": [
    "ft1 = sm.OLS(a, b).fit()\n",
    "ft2 = sm.OLS(c, d).fit()\n",
    "ft3 = sm.OLS(e, f).fit()\n",
    "ft4 = sm.OLS(g, h).fit()\n",
    "ft5 = sm.OLS(i, j).fit()\n",
    "ft6 = sm.OLS(k, l).fit()\n",
    "ft7 = sm.OLS(m, n).fit()\n",
    "ft8 = sm.OLS(o, p).fit()"
   ]
  },
  {
   "cell_type": "code",
   "execution_count": 61,
   "metadata": {
    "collapsed": false
   },
   "outputs": [],
   "source": [
    "gt1 = sm.OLS(at, bt).fit()\n",
    "gt2 = sm.OLS(ct, dt).fit()\n",
    "gt3 = sm.OLS(et, ft).fit()\n",
    "gt4 = sm.OLS(gt, ht).fit()\n",
    "gt5 = sm.OLS(it, jt).fit()\n",
    "gt6 = sm.OLS(kt, lt).fit()\n",
    "gt7 = sm.OLS(mt, nt).fit()\n",
    "gt8 = sm.OLS(ot, pt).fit()"
   ]
  },
  {
   "cell_type": "code",
   "execution_count": 62,
   "metadata": {
    "collapsed": false
   },
   "outputs": [],
   "source": [
    "train_list = [ft1, ft2, ft3, ft4, ft5, ft6, ft7, ft8]\n",
    "test_list = [gt1, gt2, gt3, gt4, gt5, gt6, gt7, gt8]\n",
    "train_mse = []\n",
    "test_mse = []\n",
    "aic_list = []\n",
    "r_sq = []\n",
    "\n",
    "for i in train_list:\n",
    "    mse_res = i.mse_resid\n",
    "    #print(mse_res)\n",
    "    train_mse.append(mse_res)\n",
    "    \n",
    "for i in test_list:\n",
    "    mse_res = i.mse_resid\n",
    "    #print(mse_res)\n",
    "    test_mse.append(mse_res)\n",
    "\n",
    "for i in train_list:\n",
    "    aic = i.aic\n",
    "    #print(aic)\n",
    "    aic_list.append(aic)\n",
    "\n",
    "for i in train_list:\n",
    "    r = i.rsquared\n",
    "    #print(r)\n",
    "    r_sq.append(r)"
   ]
  },
  {
   "cell_type": "code",
   "execution_count": 63,
   "metadata": {
    "collapsed": false
   },
   "outputs": [
    {
     "data": {
      "text/plain": [
       "<matplotlib.text.Text at 0x11c231390>"
      ]
     },
     "execution_count": 63,
     "metadata": {},
     "output_type": "execute_result"
    },
    {
     "data": {
      "image/png": "[encoded data removed]",
      "text/plain": [
       "<matplotlib.figure.Figure at 0x119773978>"
      ]
     },
     "metadata": {},
     "output_type": "display_data"
    }
   ],
   "source": [
    "plt.plot(range(8), train_mse)\n",
    "plt.title('Training Error for 0 to 7th Degree Polynomial')\n",
    "plt.xlabel('Degree Polynomial')\n",
    "plt.ylabel('Mean Square Error')\n"
   ]
  },
  {
   "cell_type": "code",
   "execution_count": 64,
   "metadata": {
    "collapsed": false
   },
   "outputs": [
    {
     "data": {
      "text/plain": [
       "<matplotlib.text.Text at 0x11c414710>"
      ]
     },
     "execution_count": 64,
     "metadata": {},
     "output_type": "execute_result"
    },
    {
     "data": {
      "image/png": "[encoded data removed]",
      "text/plain": [
       "<matplotlib.figure.Figure at 0x119773b70>"
      ]
     },
     "metadata": {},
     "output_type": "display_data"
    }
   ],
   "source": [
    "plt.plot(range(8), test_mse)\n",
    "plt.title('Testing Error for 0 to 7th Degree Polynomial')\n",
    "plt.xlabel('Degree Polynomial')\n",
    "plt.ylabel('Mean Square Error')"
   ]
  },
  {
   "cell_type": "code",
   "execution_count": 65,
   "metadata": {
    "collapsed": false
   },
   "outputs": [
    {
     "data": {
      "text/plain": [
       "<matplotlib.text.Text at 0x11c4eefd0>"
      ]
     },
     "execution_count": 65,
     "metadata": {},
     "output_type": "execute_result"
    },
    {
     "data": {
      "image/png": "[encoded data removed]",
      "text/plain": [
       "<matplotlib.figure.Figure at 0x11c4f4470>"
      ]
     },
     "metadata": {},
     "output_type": "display_data"
    }
   ],
   "source": [
    "plt.plot(range(8), aic_list)\n",
    "plt.title('Testing Error for 0 to 7th Degree Polynomial')\n",
    "plt.xlabel('Degree Polynomial')\n",
    "plt.ylabel('AIC')"
   ]
  },
  {
   "cell_type": "code",
   "execution_count": 66,
   "metadata": {
    "collapsed": false
   },
   "outputs": [
    {
     "data": {
      "text/plain": [
       "<matplotlib.text.Text at 0x11c760e80>"
      ]
     },
     "execution_count": 66,
     "metadata": {},
     "output_type": "execute_result"
    },
    {
     "data": {
      "image/png": "[encoded data removed]",
      "text/plain": [
       "<matplotlib.figure.Figure at 0x11c76eac8>"
      ]
     },
     "metadata": {},
     "output_type": "display_data"
    }
   ],
   "source": [
    "plt.plot(range(8), r_sq)\n",
    "plt.title('Testing Error for 0 to 7th Degree Polynomial')\n",
    "plt.xlabel('Degree Polynomial')\n",
    "plt.ylabel('R-Squared')"
   ]
  },
  {
   "cell_type": "markdown",
   "metadata": {},
   "source": [
    "### Challenge 4"
   ]
  },
  {
   "cell_type": "code",
   "execution_count": 67,
   "metadata": {
    "collapsed": false
   },
   "outputs": [],
   "source": [
    "test_pred = test['y_2'].tolist()\n",
    "test_param = test['x'].tolist()\n",
    "train_pred = train['y_2'].tolist()\n",
    "train_param = train['x'].tolist()"
   ]
  },
  {
   "cell_type": "code",
   "execution_count": 68,
   "metadata": {
    "collapsed": false
   },
   "outputs": [],
   "source": [
    "m = []\n",
    "train_err = []\n",
    "test_err = []\n",
    "\n",
    "for rows in range(1, 51):\n",
    "    i = rows * 5\n",
    "    m.append(i)\n",
    "    tr = sm.OLS(train_pred[:i],train_param[:i]).fit()\n",
    "    train_err.append(tr.mse_resid)\n",
    "    te = sm.OLS(test_pred[:i], test_param[:i]).fit()\n",
    "    test_err.append(te.mse_resid)"
   ]
  },
  {
   "cell_type": "code",
   "execution_count": 78,
   "metadata": {
    "collapsed": false
   },
   "outputs": [
    {
     "data": {
      "image/png": "[encoded data removed]",
      "text/plain": [
       "<matplotlib.figure.Figure at 0x11d52fc88>"
      ]
     },
     "metadata": {},
     "output_type": "display_data"
    }
   ],
   "source": [
    "import matplotlib.patches as mpatches\n",
    "\n",
    "plt.plot(m, train_err, 'c-')\n",
    "plt.plot(m, test_err, 'r-')\n",
    "\n",
    "plt.xlabel('Number of Data Points')\n",
    "plt.ylabel('Error')\n",
    "\n",
    "cyan = mpatches.Patch(color='cyan', label='Training Error')\n",
    "red = mpatches.Patch(color='red', label='Testing Error')\n",
    "plt.legend(handles=[cyan, red])\n",
    "\n",
    "plt.show()"
   ]
  },
  {
   "cell_type": "code",
   "execution_count": null,
   "metadata": {
    "collapsed": true
   },
   "outputs": [],
   "source": []
  }
 ],
 "metadata": {
  "kernelspec": {
   "display_name": "Python 3",
   "language": "python",
   "name": "python3"
  },
  "language_info": {
   "codemirror_mode": {
    "name": "ipython",
    "version": 3
   },
   "file_extension": ".py",
   "mimetype": "text/x-python",
   "name": "python",
   "nbconvert_exporter": "python",
   "pygments_lexer": "ipython3",
   "version": "3.5.1"
  }
 },
 "nbformat": 4,
 "nbformat_minor": 0
}
