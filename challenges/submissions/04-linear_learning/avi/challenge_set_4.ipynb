{
 "cells": [
  {
   "cell_type": "markdown",
   "metadata": {},
   "source": [
    "Challenge Set 4  \n",
    "Topic:        Linear Regression  \n",
    "Date:         07/21/2016  \n",
    "Name:         Avi Grunwald  \n",
    "Worked with:  "
   ]
  },
  {
   "cell_type": "code",
   "execution_count": 74,
   "metadata": {
    "collapsed": true
   },
   "outputs": [],
   "source": [
    "import numpy as np\n",
    "import pandas as pd\n",
    "from patsy import dmatrices\n",
    "from sklearn.linear_model import LinearRegression\n",
    "from sklearn import metrics\n",
    "from sklearn import cross_validation as cv\n",
    "import statsmodels.api as sm\n",
    "import matplotlib.pyplot as plt\n",
    "%matplotlib inline"
   ]
  },
  {
   "cell_type": "code",
   "execution_count": 7,
   "metadata": {
    "collapsed": false
   },
   "outputs": [],
   "source": [
    "x = np.random.random(100)\n",
    "\n",
    "epsilon = np.random.normal(0, 1, 100)\n",
    "# y = B0 + B1*log(x) + epsilon"
   ]
  },
  {
   "cell_type": "code",
   "execution_count": 11,
   "metadata": {
    "collapsed": false
   },
   "outputs": [],
   "source": [
    "y = [(3 + 5*np.log(x[i])+epsilon[i]) for i in range(100)]"
   ]
  },
  {
   "cell_type": "code",
   "execution_count": 21,
   "metadata": {
    "collapsed": false
   },
   "outputs": [],
   "source": [
    "df1 = pd.DataFrame({'y': y, 'x': x, 'x2':x**2, 'xlog': np.log(x)})"
   ]
  },
  {
   "cell_type": "code",
   "execution_count": 23,
   "metadata": {
    "collapsed": false
   },
   "outputs": [
    {
     "data": {
      "text/html": [
       "<div>\n",
       "<table border=\"1\" class=\"dataframe\">\n",
       "  <thead>\n",
       "    <tr style=\"text-align: right;\">\n",
       "      <th></th>\n",
       "      <th>x</th>\n",
       "      <th>x2</th>\n",
       "      <th>xlog</th>\n",
       "      <th>y</th>\n",
       "    </tr>\n",
       "  </thead>\n",
       "  <tbody>\n",
       "    <tr>\n",
       "      <th>0</th>\n",
       "      <td>0.860911</td>\n",
       "      <td>0.741168</td>\n",
       "      <td>-0.149764</td>\n",
       "      <td>2.405791</td>\n",
       "    </tr>\n",
       "    <tr>\n",
       "      <th>1</th>\n",
       "      <td>0.793278</td>\n",
       "      <td>0.629291</td>\n",
       "      <td>-0.231581</td>\n",
       "      <td>0.535986</td>\n",
       "    </tr>\n",
       "    <tr>\n",
       "      <th>2</th>\n",
       "      <td>0.836182</td>\n",
       "      <td>0.699200</td>\n",
       "      <td>-0.178909</td>\n",
       "      <td>1.855336</td>\n",
       "    </tr>\n",
       "    <tr>\n",
       "      <th>3</th>\n",
       "      <td>0.332593</td>\n",
       "      <td>0.110618</td>\n",
       "      <td>-1.100836</td>\n",
       "      <td>-1.976203</td>\n",
       "    </tr>\n",
       "    <tr>\n",
       "      <th>4</th>\n",
       "      <td>0.344961</td>\n",
       "      <td>0.118998</td>\n",
       "      <td>-1.064325</td>\n",
       "      <td>-1.591130</td>\n",
       "    </tr>\n",
       "  </tbody>\n",
       "</table>\n",
       "</div>"
      ],
      "text/plain": [
       "          x        x2      xlog         y\n",
       "0  0.860911  0.741168 -0.149764  2.405791\n",
       "1  0.793278  0.629291 -0.231581  0.535986\n",
       "2  0.836182  0.699200 -0.178909  1.855336\n",
       "3  0.332593  0.110618 -1.100836 -1.976203\n",
       "4  0.344961  0.118998 -1.064325 -1.591130"
      ]
     },
     "execution_count": 23,
     "metadata": {},
     "output_type": "execute_result"
    }
   ],
   "source": [
    "df1.head()"
   ]
  },
  {
   "cell_type": "code",
   "execution_count": 30,
   "metadata": {
    "collapsed": false
   },
   "outputs": [
    {
     "name": "stdout",
     "output_type": "stream",
     "text": [
      "Quadratic Score: 0.4043097911316943\n"
     ]
    }
   ],
   "source": [
    "y, X = dmatrices('y ~ x2', data=df1, return_type='dataframe')\n",
    "model = LinearRegression()\n",
    "model.fit(X, y)\n",
    "print ('Quadratic Score: {}'.format(model.score(X, y)) )\n",
    "predictions = model.predict(X)"
   ]
  },
  {
   "cell_type": "code",
   "execution_count": 31,
   "metadata": {
    "collapsed": false
   },
   "outputs": [
    {
     "name": "stdout",
     "output_type": "stream",
     "text": [
      "Log Score: 0.9765279776346589\n"
     ]
    }
   ],
   "source": [
    "y, X = dmatrices('y ~ xlog', data=df1, return_type='dataframe')\n",
    "model = LinearRegression()\n",
    "model.fit(X, y)\n",
    "print ('Log Score: {}'.format(model.score(X, y)) )\n",
    "predictions = model.predict(X)"
   ]
  },
  {
   "cell_type": "markdown",
   "metadata": {},
   "source": [
    "**Challenge 2**"
   ]
  },
  {
   "cell_type": "code",
   "execution_count": 49,
   "metadata": {
    "collapsed": true
   },
   "outputs": [],
   "source": [
    "# B2*x^2\n",
    "y = [(3 + 5*x[i] + 1.25*x[i]**2 + epsilon[i]) for i in range(100)]"
   ]
  },
  {
   "cell_type": "code",
   "execution_count": 35,
   "metadata": {
    "collapsed": true
   },
   "outputs": [],
   "source": [
    "df2 = pd.DataFrame( {'y': y, 'x': x, 'x2':x**2} )\n",
    "y, X = dmatrices('y ~ x2', data=df2, return_type='dataframe')\n",
    "x_train, x_test, y_train, y_test = cv.train_test_split(X,y,test_size=0.25,random_state=1234)\n",
    "model = LinearRegression().fit(x_train, y_train)"
   ]
  },
  {
   "cell_type": "code",
   "execution_count": 42,
   "metadata": {
    "collapsed": false
   },
   "outputs": [
    {
     "name": "stdout",
     "output_type": "stream",
     "text": [
      "MSE on Training Set: 0.8856451992480612\n",
      "MSE on Test Set: 1.2251230150408434\n"
     ]
    }
   ],
   "source": [
    "print ('MSE on Training Set: {}'.format(metrics.mean_squared_error(y_train, model.predict(x_train))) )\n",
    "print ('MSE on Test Set: {}'.format(metrics.mean_squared_error(y_test, model.predict(x_test))) )"
   ]
  },
  {
   "cell_type": "markdown",
   "metadata": {},
   "source": [
    "**Challenge 3**"
   ]
  },
  {
   "cell_type": "code",
   "execution_count": 52,
   "metadata": {
    "collapsed": true
   },
   "outputs": [],
   "source": [
    "df3 = pd.DataFrame( {'y': y, 'x0': x**0, 'x1':x**1, 'x2':x**2, 'x3':x**3, \n",
    "                     'x4':x**4, 'x5':x**5, 'x6':x**6, 'x7':x**7} )"
   ]
  },
  {
   "cell_type": "code",
   "execution_count": null,
   "metadata": {
    "collapsed": false
   },
   "outputs": [],
   "source": [
    "# mse_train = []\n",
    "# mse_test = []\n",
    "# scores = []\n",
    "# aic = []\n",
    "\n",
    "# for i in range(8):\n",
    "#     y, X = dmatrices('y ~ x{}'.format(i), data=df3, return_type='dataframe')\n",
    "#     x_train, x_test, y_train, y_test = cv.train_test_split(X,y,test_size=0.25,random_state=1234)\n",
    "#     model = LinearRegression().fit(x_train, y_train)\n",
    "#     mse_train.append(metrics.mean_squared_error(y_train, model.predict(x_train)))\n",
    "#     mse_test.append(metrics.mean_squared_error(y_test, model.predict(x_test)))\n",
    "#     scores.append(model.score(X, y))"
   ]
  },
  {
   "cell_type": "code",
   "execution_count": 68,
   "metadata": {
    "collapsed": false
   },
   "outputs": [],
   "source": [
    "mse_train = []\n",
    "mse_test = []\n",
    "scores = []\n",
    "aic = []\n",
    "\n",
    "for i in range(8):\n",
    "    y, X = dmatrices('y ~ x{}'.format(i), data=df3, return_type='dataframe')\n",
    "    x_train, x_test, y_train, y_test = cv.train_test_split(X,y,test_size=0.25,random_state=1234)\n",
    "    model = sm.OLS(y_train, x_train)\n",
    "    results = model.fit()\n",
    "    mse_train.append(metrics.mean_squared_error(y_train, results.predict(x_train)))\n",
    "    mse_test.append(metrics.mean_squared_error(y_test, results.predict(x_test)))\n",
    "    scores.append(results.rsquared)\n",
    "    aic.append(results.aic)"
   ]
  },
  {
   "cell_type": "code",
   "execution_count": 80,
   "metadata": {
    "collapsed": false
   },
   "outputs": [
    {
     "data": {
      "image/png": "[encoded data removed]",
      "text/plain": [
       "<matplotlib.figure.Figure at 0x7f273f4f6cf8>"
      ]
     },
     "metadata": {},
     "output_type": "display_data"
    }
   ],
   "source": [
    "plt.plot(range(8), mse_train)\n",
    "plt.xlabel('Polynomial Order of x')\n",
    "plt.ylabel('Mean Squared Error')\n",
    "plt.title('MSE of Training Set for Different Polynomial Orders')\n",
    "plt.show()"
   ]
  },
  {
   "cell_type": "code",
   "execution_count": 81,
   "metadata": {
    "collapsed": false
   },
   "outputs": [
    {
     "data": {
      "image/png": "[encoded data removed]",
      "text/plain": [
       "<matplotlib.figure.Figure at 0x7f273f47b278>"
      ]
     },
     "metadata": {},
     "output_type": "display_data"
    }
   ],
   "source": [
    "plt.plot(range(8), mse_test)\n",
    "plt.xlabel('Polynomial Order of x')\n",
    "plt.ylabel('Mean Squared Error')\n",
    "plt.title('MSE of Test Set for Different Polynomial Orders')\n",
    "plt.show()"
   ]
  },
  {
   "cell_type": "code",
   "execution_count": 82,
   "metadata": {
    "collapsed": false
   },
   "outputs": [
    {
     "data": {
      "image/png": "[encoded data removed]",
      "text/plain": [
       "<matplotlib.figure.Figure at 0x7f273f3dd278>"
      ]
     },
     "metadata": {},
     "output_type": "display_data"
    }
   ],
   "source": [
    "plt.plot(range(8), scores)\n",
    "plt.xlabel('Polynomial Order of x')\n",
    "plt.ylabel('R-Squared')\n",
    "plt.title('R-Squared for Different Polynomial Orders')\n",
    "plt.show()"
   ]
  },
  {
   "cell_type": "code",
   "execution_count": 83,
   "metadata": {
    "collapsed": false
   },
   "outputs": [
    {
     "data": {
      "image/png": "[encoded data removed]",
      "text/plain": [
       "<matplotlib.figure.Figure at 0x7f273f3f7f28>"
      ]
     },
     "metadata": {},
     "output_type": "display_data"
    }
   ],
   "source": [
    "plt.plot(range(8), aic)\n",
    "plt.xlabel('Polynomial Order of x')\n",
    "plt.ylabel('AIC')\n",
    "plt.title('AIC for Different Polynomial Orders')\n",
    "plt.show()"
   ]
  },
  {
   "cell_type": "markdown",
   "metadata": {},
   "source": [
    "**Challenge 4**"
   ]
  },
  {
   "cell_type": "code",
   "execution_count": 102,
   "metadata": {
    "collapsed": false
   },
   "outputs": [],
   "source": [
    "y, X = dmatrices('y ~ x2', data=df2, return_type='dataframe')\n",
    "x_train, x_test, y_train, y_test = cv.train_test_split(X,y,test_size=0.25,random_state=1234)\n",
    "lc_mse_train = []\n",
    "lc_mse_test = []\n",
    "\n",
    "for m in range(5, len(x_train)+1, 5):\n",
    "    model = LinearRegression().fit(x_train[:m], y_train[:m])\n",
    "    lc_mse_train.append(metrics.mean_squared_error(y_train[:m], model.predict(x_train[:m])))\n",
    "    lc_mse_test.append(metrics.mean_squared_error(y_test, model.predict(x_test)))"
   ]
  },
  {
   "cell_type": "code",
   "execution_count": 103,
   "metadata": {
    "collapsed": false
   },
   "outputs": [
    {
     "data": {
      "image/png": "[encoded data removed]",
      "text/plain": [
       "<matplotlib.figure.Figure at 0x7f273f2eef28>"
      ]
     },
     "metadata": {},
     "output_type": "display_data"
    }
   ],
   "source": [
    "plt.plot(range(5, len(x_train)+1, 5), lc_mse_train, label='Train')\n",
    "plt.plot(range(5, len(x_train)+1, 5), lc_mse_test, label='Test')\n",
    "plt.xlim(xmin=0, xmax=75)\n",
    "plt.legend()\n",
    "plt.show()"
   ]
  },
  {
   "cell_type": "code",
   "execution_count": 104,
   "metadata": {
    "collapsed": false
   },
   "outputs": [
    {
     "data": {
      "text/plain": [
       "[5, 10, 15, 20, 25, 30, 35, 40, 45, 50, 55, 60, 65, 70, 75]"
      ]
     },
     "execution_count": 104,
     "metadata": {},
     "output_type": "execute_result"
    }
   ],
   "source": [
    "[x for x in range(5, len(x_train)+1, 5)]"
   ]
  }
 ],
 "metadata": {
  "kernelspec": {
   "display_name": "Python 3",
   "language": "python",
   "name": "python3"
  },
  "language_info": {
   "codemirror_mode": {
    "name": "ipython",
    "version": 3
   },
   "file_extension": ".py",
   "mimetype": "text/x-python",
   "name": "python",
   "nbconvert_exporter": "python",
   "pygments_lexer": "ipython3",
   "version": "3.5.2"
  }
 },
 "nbformat": 4,
 "nbformat_minor": 0
}
