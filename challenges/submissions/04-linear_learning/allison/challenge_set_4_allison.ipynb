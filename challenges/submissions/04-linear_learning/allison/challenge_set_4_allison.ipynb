{
 "cells": [
  {
   "cell_type": "markdown",
   "metadata": {},
   "source": [
    "Challenge Set 4  \n",
    "Topic: Linear Learning  \n",
    "Date: July 25, 2016  \n",
    "Name: Allison Schlissel  \n",
    "Worked with: Graham  "
   ]
  },
  {
   "cell_type": "markdown",
   "metadata": {},
   "source": [
    "## Q1"
   ]
  },
  {
   "cell_type": "markdown",
   "metadata": {},
   "source": [
    "Generate (fake) data that is linearly related to log(x).  \n",
    "\n",
    "You are making this model up. It is of the form B0 + B1*log(x) + epsilon. (You are making up the parameters.)  \n",
    "\n",
    "Simulate some data from this model.  \n",
    "\n",
    "Then fit two models to it:  \n",
    "\n",
    "quadratic (second degree polynomial)  \n",
    "logarithmic (log(x))  \n",
    "(The second one should fit really well, since it has the same form as the underlying model!)  "
   ]
  },
  {
   "cell_type": "code",
   "execution_count": 1,
   "metadata": {
    "collapsed": false,
    "scrolled": true
   },
   "outputs": [
    {
     "data": {
      "text/plain": [
       "<matplotlib.text.Text at 0x10d134a10>"
      ]
     },
     "execution_count": 1,
     "metadata": {},
     "output_type": "execute_result"
    },
    {
     "data": {
      "image/png": "[encoded data removed]",
      "text/plain": [
       "<matplotlib.figure.Figure at 0x104c61b10>"
      ]
     },
     "metadata": {},
     "output_type": "display_data"
    }
   ],
   "source": [
    "import numpy as np\n",
    "import matplotlib.pyplot as plt\n",
    "%matplotlib inline\n",
    "\n",
    "epsilon = np.random.rand(100)\n",
    "x = np.linspace(1, 100, 100)\n",
    "y = 3 + 6*np.log(x) + epsilon\n",
    "\n",
    "plt.scatter(x, y)\n",
    "plt.title('Question 1')"
   ]
  },
  {
   "cell_type": "markdown",
   "metadata": {},
   "source": [
    "## Q2"
   ]
  },
  {
   "cell_type": "markdown",
   "metadata": {},
   "source": [
    "Generate (fake) data from a model of the form B0 + B1*x + B2*x^2 + epsilon. (You are making up the parameters.)  \n",
    "\n",
    "Split the data into a training and test set.  \n",
    "\n",
    "Fit a model to your training set. Calculate mean squared error on your training set. Then calculate it on your test set.  \n",
    "\n",
    "(You could use sklearn.metrics.mean_squared_error.)  "
   ]
  },
  {
   "cell_type": "code",
   "execution_count": 2,
   "metadata": {
    "collapsed": true
   },
   "outputs": [],
   "source": [
    "import sklearn\n",
    "from sklearn import cross_validation as cv\n",
    "from sklearn import metrics\n",
    "from sklearn.linear_model import LinearRegression"
   ]
  },
  {
   "cell_type": "code",
   "execution_count": 3,
   "metadata": {
    "collapsed": false
   },
   "outputs": [
    {
     "name": "stdout",
     "output_type": "stream",
     "text": [
      "trial mean squared error: 2180690616.73\n",
      "test mean squared error: 2639778555.38\n"
     ]
    }
   ],
   "source": [
    "epsilon = np.random.rand(100)\n",
    "X = np.linspace(1,100,100)\n",
    "X = X.reshape(-1,1)\n",
    "y = 3 + 5*X + (8*X)**2 + epsilon\n",
    "\n",
    "x_train, x_test, y_train, y_test = cv.train_test_split(X, y, test_size=0.25, random_state=1234)\n",
    "model = LinearRegression().fit(x_train, y_train)\n",
    "\n",
    "\n",
    "y_test_predicted = model.predict(x_test)\n",
    "y_train_predicted = model.predict(x_train)\n",
    "\n",
    "print('trial mean squared error: ' + format(metrics.mean_squared_error(y_train, model.predict(x_train))))\n",
    "print('test mean squared error: ' + format(metrics.mean_squared_error(y_test, model.predict(x_test))))"
   ]
  },
  {
   "cell_type": "markdown",
   "metadata": {},
   "source": [
    "## Q3"
   ]
  },
  {
   "cell_type": "markdown",
   "metadata": {},
   "source": [
    "For the data from two (above), try polynomial fits from 0th (just constant) to 7th order (highest term x^7). Over the x axis of model degree (8 points), plot:  \n",
    "\n",
    "training error  \n",
    "test error  \n",
    "R squared  \n",
    "AIC  "
   ]
  },
  {
   "cell_type": "code",
   "execution_count": 4,
   "metadata": {
    "collapsed": false
   },
   "outputs": [
    {
     "data": {
      "text/plain": [
       "<matplotlib.text.Text at 0x1121c69d0>"
      ]
     },
     "execution_count": 4,
     "metadata": {},
     "output_type": "execute_result"
    },
    {
     "data": {
      "image/png": "[encoded data removed]",
      "text/plain": [
       "<matplotlib.figure.Figure at 0x1121a7f10>"
      ]
     },
     "metadata": {},
     "output_type": "display_data"
    }
   ],
   "source": [
    "epsilon = np.random.rand(100)\n",
    "X = np.linspace(1,100,100)\n",
    "X = X.reshape(-1,1)\n",
    "y = 3 + 5*X + (6*X)**2 + (7*X)**3 + (8*X)**4 + (9*X)**5 + (10*X)**6 +(11*X)**7 + epsilon\n",
    "\n",
    "x_train, x_test, y_train, y_test = cv.train_test_split(X, y, test_size=0.25, random_state=1234)\n",
    "model = LinearRegression().fit(x_train, y_train)\n",
    "\n",
    "model.predict(X)\n",
    "plt.scatter(y, model.predict(X))\n",
    "plt.title('Accuracy of Model')\n",
    "plt.ylabel('observed')\n",
    "plt.xlabel('predicted')"
   ]
  },
  {
   "cell_type": "code",
   "execution_count": 5,
   "metadata": {
    "collapsed": false
   },
   "outputs": [
    {
     "name": "stdout",
     "output_type": "stream",
     "text": [
      "8.30506783162e+40\n",
      "1.22882891408e+41\n",
      "0.554097099388\n"
     ]
    }
   ],
   "source": [
    "print metrics.mean_squared_error(y_train,model.predict(x_train))\n",
    "print metrics.mean_squared_error(y_test,model.predict(x_test))\n",
    "print model.score(X,y)"
   ]
  },
  {
   "cell_type": "code",
   "execution_count": 6,
   "metadata": {
    "collapsed": false
   },
   "outputs": [],
   "source": [
    "from sklearn.mixture import GMM"
   ]
  },
  {
   "cell_type": "markdown",
   "metadata": {},
   "source": [
    "## Q4"
   ]
  },
  {
   "cell_type": "markdown",
   "metadata": {},
   "source": [
    "For the data from two (above), fit a model to only the first 5 of your data points (m=5). Then to first 10 (m=10). Then to first 15 (m=15). In this manner, keep fitting until you fit your entire training set. For each step, calculate the training error and the test error. Plot both (in the same plot) over m. This is called a learning curve."
   ]
  },
  {
   "cell_type": "code",
   "execution_count": 10,
   "metadata": {
    "collapsed": false
   },
   "outputs": [
    {
     "data": {
      "text/plain": [
       "[[341545247.99999976, 17077262400.0], [2503362460.0975609, 8104244952.607563]]"
      ]
     },
     "execution_count": 10,
     "metadata": {},
     "output_type": "execute_result"
    }
   ],
   "source": [
    "test_train_error = []\n",
    "\n",
    "for i in range(1, 100):\n",
    "    X = np.linspace(1,100, 5*i)\n",
    "    X = X.reshape(-1,1)\n",
    "    y = 3 + 5*X + (8*X)**2 + epsilon\n",
    "    \n",
    "    x_train, x_test, y_train, y_test = cv.train_test_split(X, y, test_size=0.25, random_state=1234)\n",
    "    model = LinearRegression().fit(x_train, y_train)\n",
    "    train_error = metrics.mean_squared_error(y_train, model.predict(x_train))\n",
    "    test_error = metrics.mean_squared_error(y_test, model.predict(x_test))\n",
    "    test_train_error.append([train_error, test_error])\n",
    "\n",
    "test_train_error[:2]"
   ]
  },
  {
   "cell_type": "code",
   "execution_count": 11,
   "metadata": {
    "collapsed": false
   },
   "outputs": [
    {
     "data": {
      "text/plain": [
       "<matplotlib.text.Text at 0x1129669d0>"
      ]
     },
     "execution_count": 11,
     "metadata": {},
     "output_type": "execute_result"
    },
    {
     "data": {
      "image/png": "[encoded data removed]",
      "text/plain": [
       "<matplotlib.figure.Figure at 0x112963610>"
      ]
     },
     "metadata": {},
     "output_type": "display_data"
    }
   ],
   "source": [
    "plt.plot(test_train_error)\n",
    "plt.title('Decreasing the Sample Size Increases Error')\n",
    "plt.ylabel('train error')\n",
    "plt.xlabel('test error')"
   ]
  }
 ],
 "metadata": {
  "kernelspec": {
   "display_name": "Python 2",
   "language": "python",
   "name": "python2"
  },
  "language_info": {
   "codemirror_mode": {
    "name": "ipython",
    "version": 2
   },
   "file_extension": ".py",
   "mimetype": "text/x-python",
   "name": "python",
   "nbconvert_exporter": "python",
   "pygments_lexer": "ipython2",
   "version": "2.7.12"
  }
 },
 "nbformat": 4,
 "nbformat_minor": 0
}
