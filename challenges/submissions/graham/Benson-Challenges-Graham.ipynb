{
 "cells": [
  {
   "cell_type": "markdown",
   "metadata": {},
   "source": [
    "# My First Iteration of the Benson Challenges (More to come)"
   ]
  },
  {
   "cell_type": "markdown",
   "metadata": {},
   "source": [
    "### Challenge 1: Create Pandas Dataframe (as dictionay: ok'd by reshama)"
   ]
  },
  {
   "cell_type": "code",
   "execution_count": 17,
   "metadata": {
    "collapsed": false
   },
   "outputs": [],
   "source": [
    "import pandas as pd\n",
    "import numpy as np\n",
    "\n",
    "f_list=['turnstile_160618.txt',\n",
    "        'turnstile_160625.txt',\n",
    "        'turnstile_160702.txt'\n",
    "        ]\n",
    "\n",
    "df = pd.concat(pd.read_csv(f, sep=\",\") for f in f_list)\n",
    "df.rename(columns=lambda x: x.strip(), inplace=True)\n",
    "df = df.set_index(['C/A', 'UNIT', 'SCP', 'STATION'])\n",
    "\n"
   ]
  },
  {
   "cell_type": "code",
   "execution_count": 18,
   "metadata": {
    "collapsed": false
   },
   "outputs": [
    {
     "data": {
      "text/html": [
       "<div>\n",
       "<table border=\"1\" class=\"dataframe\">\n",
       "  <thead>\n",
       "    <tr style=\"text-align: right;\">\n",
       "      <th></th>\n",
       "      <th></th>\n",
       "      <th></th>\n",
       "      <th></th>\n",
       "      <th>LINENAME</th>\n",
       "      <th>DIVISION</th>\n",
       "      <th>DATE</th>\n",
       "      <th>TIME</th>\n",
       "      <th>DESC</th>\n",
       "      <th>ENTRIES</th>\n",
       "      <th>EXITS</th>\n",
       "    </tr>\n",
       "    <tr>\n",
       "      <th>C/A</th>\n",
       "      <th>UNIT</th>\n",
       "      <th>SCP</th>\n",
       "      <th>STATION</th>\n",
       "      <th></th>\n",
       "      <th></th>\n",
       "      <th></th>\n",
       "      <th></th>\n",
       "      <th></th>\n",
       "      <th></th>\n",
       "      <th></th>\n",
       "    </tr>\n",
       "  </thead>\n",
       "  <tbody>\n",
       "    <tr>\n",
       "      <th rowspan=\"5\" valign=\"top\">A002</th>\n",
       "      <th rowspan=\"5\" valign=\"top\">R051</th>\n",
       "      <th rowspan=\"5\" valign=\"top\">02-00-00</th>\n",
       "      <th>59 ST</th>\n",
       "      <td>NQR456</td>\n",
       "      <td>BMT</td>\n",
       "      <td>06/11/2016</td>\n",
       "      <td>00:00:00</td>\n",
       "      <td>REGULAR</td>\n",
       "      <td>5703420</td>\n",
       "      <td>1930887</td>\n",
       "    </tr>\n",
       "    <tr>\n",
       "      <th>59 ST</th>\n",
       "      <td>NQR456</td>\n",
       "      <td>BMT</td>\n",
       "      <td>06/11/2016</td>\n",
       "      <td>04:00:00</td>\n",
       "      <td>REGULAR</td>\n",
       "      <td>5703465</td>\n",
       "      <td>1930891</td>\n",
       "    </tr>\n",
       "    <tr>\n",
       "      <th>59 ST</th>\n",
       "      <td>NQR456</td>\n",
       "      <td>BMT</td>\n",
       "      <td>06/11/2016</td>\n",
       "      <td>08:00:00</td>\n",
       "      <td>REGULAR</td>\n",
       "      <td>5703487</td>\n",
       "      <td>1930933</td>\n",
       "    </tr>\n",
       "    <tr>\n",
       "      <th>59 ST</th>\n",
       "      <td>NQR456</td>\n",
       "      <td>BMT</td>\n",
       "      <td>06/11/2016</td>\n",
       "      <td>12:00:00</td>\n",
       "      <td>REGULAR</td>\n",
       "      <td>5703589</td>\n",
       "      <td>1931038</td>\n",
       "    </tr>\n",
       "    <tr>\n",
       "      <th>59 ST</th>\n",
       "      <td>NQR456</td>\n",
       "      <td>BMT</td>\n",
       "      <td>06/11/2016</td>\n",
       "      <td>16:00:00</td>\n",
       "      <td>REGULAR</td>\n",
       "      <td>5703880</td>\n",
       "      <td>1931107</td>\n",
       "    </tr>\n",
       "  </tbody>\n",
       "</table>\n",
       "</div>"
      ],
      "text/plain": [
       "                           LINENAME DIVISION        DATE      TIME     DESC  \\\n",
       "C/A  UNIT SCP      STATION                                                    \n",
       "A002 R051 02-00-00 59 ST     NQR456      BMT  06/11/2016  00:00:00  REGULAR   \n",
       "                   59 ST     NQR456      BMT  06/11/2016  04:00:00  REGULAR   \n",
       "                   59 ST     NQR456      BMT  06/11/2016  08:00:00  REGULAR   \n",
       "                   59 ST     NQR456      BMT  06/11/2016  12:00:00  REGULAR   \n",
       "                   59 ST     NQR456      BMT  06/11/2016  16:00:00  REGULAR   \n",
       "\n",
       "                            ENTRIES    EXITS  \n",
       "C/A  UNIT SCP      STATION                    \n",
       "A002 R051 02-00-00 59 ST    5703420  1930887  \n",
       "                   59 ST    5703465  1930891  \n",
       "                   59 ST    5703487  1930933  \n",
       "                   59 ST    5703589  1931038  \n",
       "                   59 ST    5703880  1931107  "
      ]
     },
     "execution_count": 18,
     "metadata": {},
     "output_type": "execute_result"
    }
   ],
   "source": []
  },
  {
   "cell_type": "markdown",
   "metadata": {},
   "source": [
    "### Challenge 2: Convert to Timeseries"
   ]
  },
  {
   "cell_type": "code",
   "execution_count": 20,
   "metadata": {
    "collapsed": false
   },
   "outputs": [
    {
     "name": "stderr",
     "output_type": "stream",
     "text": [
      "//anaconda/lib/python3.5/site-packages/ipykernel/__main__.py:5: SettingWithCopyWarning: \n",
      "A value is trying to be set on a copy of a slice from a DataFrame.\n",
      "Try using .loc[row_indexer,col_indexer] = value instead\n",
      "\n",
      "See the caveats in the documentation: http://pandas.pydata.org/pandas-docs/stable/indexing.html#indexing-view-versus-copy\n",
      "//anaconda/lib/python3.5/site-packages/ipykernel/__main__.py:6: SettingWithCopyWarning: \n",
      "A value is trying to be set on a copy of a slice from a DataFrame.\n",
      "Try using .loc[row_indexer,col_indexer] = value instead\n",
      "\n",
      "See the caveats in the documentation: http://pandas.pydata.org/pandas-docs/stable/indexing.html#indexing-view-versus-copy\n"
     ]
    }
   ],
   "source": [
    "from dateutil import parser as dtparser\n",
    "import datetime as dt\n",
    "\n",
    "df_ts = df[['ENTRIES', 'DATE', 'TIME']]\n",
    "df_ts['DATE_TIME'] = df_ts[['DATE', 'TIME']].apply(lambda x: ' '.join(x), axis=1)\n",
    "df_ts['DATE_TIME'] = pd.to_datetime(df_ts['DATE_TIME'], format='%m/%d/%Y %X')"
   ]
  },
  {
   "cell_type": "code",
   "execution_count": 31,
   "metadata": {
    "collapsed": false
   },
   "outputs": [
    {
     "data": {
      "text/html": [
       "<div>\n",
       "<table border=\"1\" class=\"dataframe\">\n",
       "  <thead>\n",
       "    <tr style=\"text-align: right;\">\n",
       "      <th></th>\n",
       "      <th></th>\n",
       "      <th></th>\n",
       "      <th></th>\n",
       "      <th>ENTRIES</th>\n",
       "      <th>DATE-TIME</th>\n",
       "    </tr>\n",
       "    <tr>\n",
       "      <th>C/A</th>\n",
       "      <th>UNIT</th>\n",
       "      <th>SCP</th>\n",
       "      <th>STATION</th>\n",
       "      <th></th>\n",
       "      <th></th>\n",
       "    </tr>\n",
       "  </thead>\n",
       "  <tbody>\n",
       "    <tr>\n",
       "      <th rowspan=\"5\" valign=\"top\">A002</th>\n",
       "      <th rowspan=\"5\" valign=\"top\">R051</th>\n",
       "      <th rowspan=\"5\" valign=\"top\">02-00-00</th>\n",
       "      <th>59 ST</th>\n",
       "      <td>5703420</td>\n",
       "      <td>2016-06-11 00:00:00</td>\n",
       "    </tr>\n",
       "    <tr>\n",
       "      <th>59 ST</th>\n",
       "      <td>5703465</td>\n",
       "      <td>2016-06-11 04:00:00</td>\n",
       "    </tr>\n",
       "    <tr>\n",
       "      <th>59 ST</th>\n",
       "      <td>5703487</td>\n",
       "      <td>2016-06-11 08:00:00</td>\n",
       "    </tr>\n",
       "    <tr>\n",
       "      <th>59 ST</th>\n",
       "      <td>5703589</td>\n",
       "      <td>2016-06-11 12:00:00</td>\n",
       "    </tr>\n",
       "    <tr>\n",
       "      <th>59 ST</th>\n",
       "      <td>5703880</td>\n",
       "      <td>2016-06-11 16:00:00</td>\n",
       "    </tr>\n",
       "  </tbody>\n",
       "</table>\n",
       "</div>"
      ],
      "text/plain": [
       "                            ENTRIES           DATE-TIME\n",
       "C/A  UNIT SCP      STATION                             \n",
       "A002 R051 02-00-00 59 ST    5703420 2016-06-11 00:00:00\n",
       "                   59 ST    5703465 2016-06-11 04:00:00\n",
       "                   59 ST    5703487 2016-06-11 08:00:00\n",
       "                   59 ST    5703589 2016-06-11 12:00:00\n",
       "                   59 ST    5703880 2016-06-11 16:00:00"
      ]
     },
     "execution_count": 31,
     "metadata": {},
     "output_type": "execute_result"
    }
   ],
   "source": [
    "df_ts.head()"
   ]
  },
  {
   "cell_type": "markdown",
   "metadata": {},
   "source": [
    "### Challenge 3:  Daily Total Entries\n"
   ]
  },
  {
   "cell_type": "code",
   "execution_count": 49,
   "metadata": {
    "collapsed": false
   },
   "outputs": [],
   "source": [
    "df_ts = pd.read_csv('df_ts_benson.csv')\n",
    "# Convert to the Date String imported from csv back into a Date String\n",
    "df_ts['DATE-TIME-S'] = pd.to_datetime(df_ts['DATE-TIME'])"
   ]
  },
  {
   "cell_type": "code",
   "execution_count": 86,
   "metadata": {
    "collapsed": false
   },
   "outputs": [
    {
     "data": {
      "text/html": [
       "<div>\n",
       "<table border=\"1\" class=\"dataframe\">\n",
       "  <thead>\n",
       "    <tr style=\"text-align: right;\">\n",
       "      <th></th>\n",
       "      <th>C/A</th>\n",
       "      <th>UNIT</th>\n",
       "      <th>SCP</th>\n",
       "      <th>STATION</th>\n",
       "      <th>ENTRIES</th>\n",
       "      <th>DATE-TIME</th>\n",
       "      <th>ENTRIES_COUNT</th>\n",
       "      <th>ENTRIES-COUNT</th>\n",
       "      <th>DATE-TIME-S</th>\n",
       "      <th>TIME-DELTA</th>\n",
       "      <th>DATE</th>\n",
       "    </tr>\n",
       "  </thead>\n",
       "  <tbody>\n",
       "    <tr>\n",
       "      <th>0</th>\n",
       "      <td>A002</td>\n",
       "      <td>R051</td>\n",
       "      <td>02-00-00</td>\n",
       "      <td>59 ST</td>\n",
       "      <td>5703420</td>\n",
       "      <td>2016-06-11 00:00:00</td>\n",
       "      <td>NaN</td>\n",
       "      <td>NaN</td>\n",
       "      <td>2016-06-11 00:00:00</td>\n",
       "      <td>NaT</td>\n",
       "      <td>2016-06-11</td>\n",
       "    </tr>\n",
       "    <tr>\n",
       "      <th>1</th>\n",
       "      <td>A002</td>\n",
       "      <td>R051</td>\n",
       "      <td>02-00-00</td>\n",
       "      <td>59 ST</td>\n",
       "      <td>5703465</td>\n",
       "      <td>2016-06-11 04:00:00</td>\n",
       "      <td>45</td>\n",
       "      <td>45</td>\n",
       "      <td>2016-06-11 04:00:00</td>\n",
       "      <td>04:00:00</td>\n",
       "      <td>2016-06-11</td>\n",
       "    </tr>\n",
       "    <tr>\n",
       "      <th>2</th>\n",
       "      <td>A002</td>\n",
       "      <td>R051</td>\n",
       "      <td>02-00-00</td>\n",
       "      <td>59 ST</td>\n",
       "      <td>5703487</td>\n",
       "      <td>2016-06-11 08:00:00</td>\n",
       "      <td>22</td>\n",
       "      <td>22</td>\n",
       "      <td>2016-06-11 08:00:00</td>\n",
       "      <td>04:00:00</td>\n",
       "      <td>2016-06-11</td>\n",
       "    </tr>\n",
       "    <tr>\n",
       "      <th>3</th>\n",
       "      <td>A002</td>\n",
       "      <td>R051</td>\n",
       "      <td>02-00-00</td>\n",
       "      <td>59 ST</td>\n",
       "      <td>5703589</td>\n",
       "      <td>2016-06-11 12:00:00</td>\n",
       "      <td>102</td>\n",
       "      <td>102</td>\n",
       "      <td>2016-06-11 12:00:00</td>\n",
       "      <td>04:00:00</td>\n",
       "      <td>2016-06-11</td>\n",
       "    </tr>\n",
       "    <tr>\n",
       "      <th>4</th>\n",
       "      <td>A002</td>\n",
       "      <td>R051</td>\n",
       "      <td>02-00-00</td>\n",
       "      <td>59 ST</td>\n",
       "      <td>5703880</td>\n",
       "      <td>2016-06-11 16:00:00</td>\n",
       "      <td>291</td>\n",
       "      <td>291</td>\n",
       "      <td>2016-06-11 16:00:00</td>\n",
       "      <td>04:00:00</td>\n",
       "      <td>2016-06-11</td>\n",
       "    </tr>\n",
       "    <tr>\n",
       "      <th>5</th>\n",
       "      <td>A002</td>\n",
       "      <td>R051</td>\n",
       "      <td>02-00-00</td>\n",
       "      <td>59 ST</td>\n",
       "      <td>5704266</td>\n",
       "      <td>2016-06-11 20:00:00</td>\n",
       "      <td>386</td>\n",
       "      <td>386</td>\n",
       "      <td>2016-06-11 20:00:00</td>\n",
       "      <td>04:00:00</td>\n",
       "      <td>2016-06-11</td>\n",
       "    </tr>\n",
       "    <tr>\n",
       "      <th>6</th>\n",
       "      <td>A002</td>\n",
       "      <td>R051</td>\n",
       "      <td>02-00-00</td>\n",
       "      <td>59 ST</td>\n",
       "      <td>5704439</td>\n",
       "      <td>2016-06-12 00:00:00</td>\n",
       "      <td>173</td>\n",
       "      <td>173</td>\n",
       "      <td>2016-06-12 00:00:00</td>\n",
       "      <td>04:00:00</td>\n",
       "      <td>2016-06-12</td>\n",
       "    </tr>\n",
       "    <tr>\n",
       "      <th>7</th>\n",
       "      <td>A002</td>\n",
       "      <td>R051</td>\n",
       "      <td>02-00-00</td>\n",
       "      <td>59 ST</td>\n",
       "      <td>5704481</td>\n",
       "      <td>2016-06-12 04:00:00</td>\n",
       "      <td>42</td>\n",
       "      <td>42</td>\n",
       "      <td>2016-06-12 04:00:00</td>\n",
       "      <td>04:00:00</td>\n",
       "      <td>2016-06-12</td>\n",
       "    </tr>\n",
       "    <tr>\n",
       "      <th>8</th>\n",
       "      <td>A002</td>\n",
       "      <td>R051</td>\n",
       "      <td>02-00-00</td>\n",
       "      <td>59 ST</td>\n",
       "      <td>5704495</td>\n",
       "      <td>2016-06-12 08:00:00</td>\n",
       "      <td>14</td>\n",
       "      <td>14</td>\n",
       "      <td>2016-06-12 08:00:00</td>\n",
       "      <td>04:00:00</td>\n",
       "      <td>2016-06-12</td>\n",
       "    </tr>\n",
       "    <tr>\n",
       "      <th>9</th>\n",
       "      <td>A002</td>\n",
       "      <td>R051</td>\n",
       "      <td>02-00-00</td>\n",
       "      <td>59 ST</td>\n",
       "      <td>5704591</td>\n",
       "      <td>2016-06-12 12:00:00</td>\n",
       "      <td>96</td>\n",
       "      <td>96</td>\n",
       "      <td>2016-06-12 12:00:00</td>\n",
       "      <td>04:00:00</td>\n",
       "      <td>2016-06-12</td>\n",
       "    </tr>\n",
       "  </tbody>\n",
       "</table>\n",
       "</div>"
      ],
      "text/plain": [
       "    C/A  UNIT       SCP STATION  ENTRIES            DATE-TIME  ENTRIES_COUNT  \\\n",
       "0  A002  R051  02-00-00   59 ST  5703420  2016-06-11 00:00:00            NaN   \n",
       "1  A002  R051  02-00-00   59 ST  5703465  2016-06-11 04:00:00             45   \n",
       "2  A002  R051  02-00-00   59 ST  5703487  2016-06-11 08:00:00             22   \n",
       "3  A002  R051  02-00-00   59 ST  5703589  2016-06-11 12:00:00            102   \n",
       "4  A002  R051  02-00-00   59 ST  5703880  2016-06-11 16:00:00            291   \n",
       "5  A002  R051  02-00-00   59 ST  5704266  2016-06-11 20:00:00            386   \n",
       "6  A002  R051  02-00-00   59 ST  5704439  2016-06-12 00:00:00            173   \n",
       "7  A002  R051  02-00-00   59 ST  5704481  2016-06-12 04:00:00             42   \n",
       "8  A002  R051  02-00-00   59 ST  5704495  2016-06-12 08:00:00             14   \n",
       "9  A002  R051  02-00-00   59 ST  5704591  2016-06-12 12:00:00             96   \n",
       "\n",
       "   ENTRIES-COUNT         DATE-TIME-S  TIME-DELTA        DATE  \n",
       "0            NaN 2016-06-11 00:00:00         NaT  2016-06-11  \n",
       "1             45 2016-06-11 04:00:00    04:00:00  2016-06-11  \n",
       "2             22 2016-06-11 08:00:00    04:00:00  2016-06-11  \n",
       "3            102 2016-06-11 12:00:00    04:00:00  2016-06-11  \n",
       "4            291 2016-06-11 16:00:00    04:00:00  2016-06-11  \n",
       "5            386 2016-06-11 20:00:00    04:00:00  2016-06-11  \n",
       "6            173 2016-06-12 00:00:00    04:00:00  2016-06-12  \n",
       "7             42 2016-06-12 04:00:00    04:00:00  2016-06-12  \n",
       "8             14 2016-06-12 08:00:00    04:00:00  2016-06-12  \n",
       "9             96 2016-06-12 12:00:00    04:00:00  2016-06-12  "
      ]
     },
     "execution_count": 86,
     "metadata": {},
     "output_type": "execute_result"
    }
   ],
   "source": [
    "df_ts[0:10]"
   ]
  },
  {
   "cell_type": "code",
   "execution_count": 131,
   "metadata": {
    "collapsed": false
   },
   "outputs": [
    {
     "data": {
      "text/plain": [
       "C/A    UNIT  SCP       STATION        DATE      \n",
       "A002   R051  02-00-00  59 ST          2016-06-11     801\n",
       "                                      2016-06-12     692\n",
       "                                      2016-06-19     230\n",
       "                                      2016-06-20    1414\n",
       "                                      2016-06-21    1679\n",
       "                                      2016-06-22    1698\n",
       "                                      2016-06-23    1599\n",
       "                                      2016-06-24    1439\n",
       "                                      2016-06-25     670\n",
       "                                      2016-06-26     630\n",
       "                                      2016-06-27    1533\n",
       "                                      2016-06-28    1654\n",
       "                                      2016-06-29    1634\n",
       "                                      2016-06-30    1742\n",
       "                                      2016-07-01    1656\n",
       "             02-00-01  59 ST          2016-06-11     678\n",
       "                                      2016-06-12     837\n",
       "                                      2016-06-13    2432\n",
       "                                      2016-06-14    2711\n",
       "                                      2016-06-15    2711\n",
       "                                      2016-06-16     562\n",
       "                                      2016-06-18    1110\n",
       "                                      2016-06-19     980\n",
       "                                      2016-06-20    1357\n",
       "                                      2016-06-21    1468\n",
       "                                      2016-06-22    1485\n",
       "                                      2016-06-23    1471\n",
       "                                      2016-06-24    1390\n",
       "                                      2016-06-25     786\n",
       "                                      2016-06-26     865\n",
       "                                                    ... \n",
       "TRAM2  R469  00-03-01  RIT-ROOSEVELT  2016-06-16     275\n",
       "                                      2016-06-17     350\n",
       "                                      2016-06-18     336\n",
       "                                      2016-06-19     316\n",
       "                                      2016-06-20     328\n",
       "                                      2016-06-21     288\n",
       "                                      2016-06-22     290\n",
       "                                      2016-06-23     305\n",
       "                                      2016-06-24     329\n",
       "                                      2016-06-25     336\n",
       "                                      2016-06-26     391\n",
       "                                      2016-06-27     271\n",
       "                                      2016-06-28     229\n",
       "                                      2016-06-29     276\n",
       "                                      2016-06-30     307\n",
       "                                      2016-07-01     349\n",
       "             00-05-00  RIT-ROOSEVELT  2016-06-11       4\n",
       "                                      2016-06-12       2\n",
       "                                      2016-06-13       2\n",
       "                                      2016-06-14       1\n",
       "                                      2016-06-16       3\n",
       "                                      2016-06-17       2\n",
       "                                      2016-06-20       2\n",
       "                                      2016-06-22       2\n",
       "                                      2016-06-25       1\n",
       "                                      2016-06-26       1\n",
       "                                      2016-06-27       2\n",
       "                                      2016-06-29       2\n",
       "                                      2016-06-30       3\n",
       "                                      2016-07-01       2\n",
       "Name: ENTRIES-COUNT, dtype: float64"
      ]
     },
     "execution_count": 131,
     "metadata": {},
     "output_type": "execute_result"
    }
   ],
   "source": [
    "# Create the Time Delta abd Entries Delta for total Daily counts\n",
    "df_ts['ENTRIES-COUNT'] = df_ts['ENTRIES'].diff(-1)\n",
    "\n",
    "# THROW OUT ENTRIES OVER 1800 and LESS THAN 0 \n",
    "# In future use: # df_ts[(df_ts['ENTRIES-COUNT'] <= 1800) | (df['ENTRIES-COUNT'] < 0 ')]\n",
    "df_ts = df_ts[df_ts['ENTRIES-COUNT'] <= 1800]\n",
    "df_ts = df_ts[df_ts['ENTRIES-COUNT'] > 0]\n",
    "\n",
    "\n",
    "df_ts['TIME-DELTA'] = df_ts['DATE-TIME'].diff()\n",
    "df_ts['DATE'] = df_ts['DATE-TIME'].dt.date\n",
    "df_ts.groupby(by=['C/A','UNIT','SCP','STATION','DATE'])['ENTRIES-COUNT'].sum()"
   ]
  },
  {
   "cell_type": "markdown",
   "metadata": {},
   "source": [
    "### Challenge 4:  Plot the daily time series for a turnstile.\n",
    "Take the list of [(date1, count1), (date2, count2), ...], for the\n",
    "turnstile and turn it into two lists:\n",
    "dates and counts. This should plot it:"
   ]
  },
  {
   "cell_type": "code",
   "execution_count": 152,
   "metadata": {
    "collapsed": false,
    "scrolled": true
   },
   "outputs": [
    {
     "data": {
      "text/plain": [
       "<matplotlib.axes._subplots.AxesSubplot at 0x1471aa320>"
      ]
     },
     "execution_count": 152,
     "metadata": {},
     "output_type": "execute_result"
    },
    {
     "data": {
      "image/png": "[encoded data removed]",
      "text/plain": [
       "<matplotlib.figure.Figure at 0x146c59940>"
      ]
     },
     "metadata": {},
     "output_type": "display_data"
    }
   ],
   "source": [
    "import matplotlib.pyplot as plt\n",
    "%matplotlib inline\n",
    "x = df_ts.groupby(by=['C/A','UNIT','SCP','STATION','DATE'])['ENTRIES-COUNT'].sum()\n",
    "#x.plot(kind='line')\n",
    "\n",
    "x.loc[['A002','59 ST']].plot(kind='line')\n",
    "\n"
   ]
  },
  {
   "cell_type": "markdown",
   "metadata": {},
   "source": [
    "### Challenge 5: Counts/Day from Single Turnstile\n",
    "So far we've been operating on a single turnstile level, let's\n",
    "combine turnstiles in the same ControlArea/Unit/Station combo. There\n",
    "are some ControlArea/Unit/Station groups that have a single\n",
    "turnstile, but most have multiple turnstilea-- same value for the\n",
    "C/A, UNIT and STATION columns, different values for the SCP column.\n",
    "We want to combine the numbers together -- for each\n",
    "ControlArea/UNIT/STATION combo, for each day, add the counts from each\n",
    "turnstile belonging to that combo.\n"
   ]
  },
  {
   "cell_type": "code",
   "execution_count": 139,
   "metadata": {
    "collapsed": false
   },
   "outputs": [
    {
     "data": {
      "text/plain": [
       "C/A   UNIT  STATION  DATE      \n",
       "A002  R051  59 ST    2016-06-11     7839\n",
       "                     2016-06-12     8970\n",
       "                     2016-06-13    16726\n",
       "                     2016-06-14    18357\n",
       "                     2016-06-15    18444\n",
       "                     2016-06-16     4086\n",
       "                     2016-06-18     7465\n",
       "                     2016-06-19     8240\n",
       "                     2016-06-20    16380\n",
       "                     2016-06-21    18349\n",
       "Name: ENTRIES-COUNT, dtype: float64"
      ]
     },
     "execution_count": 139,
     "metadata": {},
     "output_type": "execute_result"
    }
   ],
   "source": [
    "x = df_ts.groupby(by=['C/A','UNIT','STATION','DATE'])['ENTRIES-COUNT'].sum()\n",
    "x[0:10]"
   ]
  },
  {
   "cell_type": "markdown",
   "metadata": {},
   "source": [
    "### Challenge 6:  All Turnstiles for each Station\n",
    "Similarly, combine everything in each station, and come up with a time\n",
    "series of `[(date1, count1),(date2,count2),...]` type of time series\n",
    "for each STATION, by adding up all the turnstiles in a station."
   ]
  },
  {
   "cell_type": "code",
   "execution_count": 150,
   "metadata": {
    "collapsed": false,
    "scrolled": true
   },
   "outputs": [
    {
     "name": "stdout",
     "output_type": "stream",
     "text": [
      "C/A   STATION  DATE      \n",
      "A002  59 ST    2016-06-11     7839\n",
      "               2016-06-12     8970\n",
      "               2016-06-13    16726\n",
      "               2016-06-14    18357\n",
      "               2016-06-15    18444\n",
      "               2016-06-16     4086\n",
      "               2016-06-18     7465\n",
      "               2016-06-19     8240\n",
      "               2016-06-20    16380\n",
      "               2016-06-21    18349\n",
      "               2016-06-22    18662\n",
      "               2016-06-23    18310\n",
      "               2016-06-24    17850\n",
      "               2016-06-25     8084\n",
      "               2016-06-26     8827\n",
      "               2016-06-27    16670\n",
      "               2016-06-28    18153\n",
      "               2016-06-29    18022\n",
      "               2016-06-30    18088\n",
      "               2016-07-01    16908\n",
      "Name: ENTRIES-COUNT, dtype: float64\n"
     ]
    }
   ],
   "source": [
    "x = df_ts.groupby(by=['C/A','STATION','DATE'])['ENTRIES-COUNT'].sum()\n",
    "x.loc[['A002','59 ST']]"
   ]
  },
  {
   "cell_type": "markdown",
   "metadata": {},
   "source": [
    "### Challenge 7: Plot Time Series for Each Station"
   ]
  },
  {
   "cell_type": "code",
   "execution_count": 160,
   "metadata": {
    "collapsed": false
   },
   "outputs": [
    {
     "data": {
      "text/plain": [
       "<matplotlib.axes._subplots.AxesSubplot at 0x147502ac8>"
      ]
     },
     "execution_count": 160,
     "metadata": {},
     "output_type": "execute_result"
    },
    {
     "data": {
      "image/png": "[encoded data removed]",
      "text/plain": [
       "<matplotlib.figure.Figure at 0x145dd9940>"
      ]
     },
     "metadata": {},
     "output_type": "display_data"
    }
   ],
   "source": [
    "x.loc[['A002','59 ST']].plot(kind=\"bar\")"
   ]
  },
  {
   "cell_type": "markdown",
   "metadata": {},
   "source": [
    "### Challenge 8:  \n",
    "- Make one list of counts for **one** week for one station. Monday's\n",
    "count, Tuesday's count, etc. so it's a list of 7 counts.\n",
    "Make the same list for another week, and another week, and another\n",
    "week.\n",
    "`plt.plot(week_count_list)` for every `week_count_list` you created\n",
    "this way. You should get a rainbow plot of weekly commute numbers on\n",
    "top of each other.\n"
   ]
  },
  {
   "cell_type": "code",
   "execution_count": 162,
   "metadata": {
    "collapsed": false
   },
   "outputs": [
    {
     "data": {
      "text/html": [
       "<div>\n",
       "<table border=\"1\" class=\"dataframe\">\n",
       "  <thead>\n",
       "    <tr style=\"text-align: right;\">\n",
       "      <th></th>\n",
       "      <th>C/A</th>\n",
       "      <th>UNIT</th>\n",
       "      <th>SCP</th>\n",
       "      <th>STATION</th>\n",
       "      <th>ENTRIES</th>\n",
       "      <th>ENTRIES-COUNT</th>\n",
       "      <th>DATE-TIME</th>\n",
       "      <th>TIME-DELTA</th>\n",
       "      <th>DATE</th>\n",
       "      <th>DAY</th>\n",
       "    </tr>\n",
       "  </thead>\n",
       "  <tbody>\n",
       "    <tr>\n",
       "      <th>2</th>\n",
       "      <td>A002</td>\n",
       "      <td>R051</td>\n",
       "      <td>02-00-00</td>\n",
       "      <td>59 ST</td>\n",
       "      <td>5703487</td>\n",
       "      <td>22</td>\n",
       "      <td>2016-06-11 08:00:00</td>\n",
       "      <td>NaT</td>\n",
       "      <td>2016-06-11</td>\n",
       "      <td>5</td>\n",
       "    </tr>\n",
       "    <tr>\n",
       "      <th>3</th>\n",
       "      <td>A002</td>\n",
       "      <td>R051</td>\n",
       "      <td>02-00-00</td>\n",
       "      <td>59 ST</td>\n",
       "      <td>5703589</td>\n",
       "      <td>102</td>\n",
       "      <td>2016-06-11 12:00:00</td>\n",
       "      <td>04:00:00</td>\n",
       "      <td>2016-06-11</td>\n",
       "      <td>5</td>\n",
       "    </tr>\n",
       "    <tr>\n",
       "      <th>4</th>\n",
       "      <td>A002</td>\n",
       "      <td>R051</td>\n",
       "      <td>02-00-00</td>\n",
       "      <td>59 ST</td>\n",
       "      <td>5703880</td>\n",
       "      <td>291</td>\n",
       "      <td>2016-06-11 16:00:00</td>\n",
       "      <td>04:00:00</td>\n",
       "      <td>2016-06-11</td>\n",
       "      <td>5</td>\n",
       "    </tr>\n",
       "    <tr>\n",
       "      <th>5</th>\n",
       "      <td>A002</td>\n",
       "      <td>R051</td>\n",
       "      <td>02-00-00</td>\n",
       "      <td>59 ST</td>\n",
       "      <td>5704266</td>\n",
       "      <td>386</td>\n",
       "      <td>2016-06-11 20:00:00</td>\n",
       "      <td>04:00:00</td>\n",
       "      <td>2016-06-11</td>\n",
       "      <td>5</td>\n",
       "    </tr>\n",
       "    <tr>\n",
       "      <th>6</th>\n",
       "      <td>A002</td>\n",
       "      <td>R051</td>\n",
       "      <td>02-00-00</td>\n",
       "      <td>59 ST</td>\n",
       "      <td>5704439</td>\n",
       "      <td>173</td>\n",
       "      <td>2016-06-12 00:00:00</td>\n",
       "      <td>04:00:00</td>\n",
       "      <td>2016-06-12</td>\n",
       "      <td>6</td>\n",
       "    </tr>\n",
       "  </tbody>\n",
       "</table>\n",
       "</div>"
      ],
      "text/plain": [
       "    C/A  UNIT       SCP STATION  ENTRIES  ENTRIES-COUNT           DATE-TIME  \\\n",
       "2  A002  R051  02-00-00   59 ST  5703487             22 2016-06-11 08:00:00   \n",
       "3  A002  R051  02-00-00   59 ST  5703589            102 2016-06-11 12:00:00   \n",
       "4  A002  R051  02-00-00   59 ST  5703880            291 2016-06-11 16:00:00   \n",
       "5  A002  R051  02-00-00   59 ST  5704266            386 2016-06-11 20:00:00   \n",
       "6  A002  R051  02-00-00   59 ST  5704439            173 2016-06-12 00:00:00   \n",
       "\n",
       "   TIME-DELTA        DATE  DAY  \n",
       "2         NaT  2016-06-11    5  \n",
       "3    04:00:00  2016-06-11    5  \n",
       "4    04:00:00  2016-06-11    5  \n",
       "5    04:00:00  2016-06-11    5  \n",
       "6    04:00:00  2016-06-12    6  "
      ]
     },
     "execution_count": 162,
     "metadata": {},
     "output_type": "execute_result"
    }
   ],
   "source": [
    "df_ts.head()"
   ]
  },
  {
   "cell_type": "code",
   "execution_count": 161,
   "metadata": {
    "collapsed": false
   },
   "outputs": [
    {
     "data": {
      "text/plain": [
       "<matplotlib.axes._subplots.AxesSubplot at 0x146372f28>"
      ]
     },
     "execution_count": 161,
     "metadata": {},
     "output_type": "execute_result"
    },
    {
     "data": {
      "image/png": "[encoded data removed]",
      "text/plain": [
       "<matplotlib.figure.Figure at 0x146545cf8>"
      ]
     },
     "metadata": {},
     "output_type": "display_data"
    }
   ],
   "source": [
    "df_ts['DAY'] = df_ts['DATE-TIME'].dt.weekday\n",
    "x = df_ts.groupby(by=['C/A','STATION','DAY'])['ENTRIES-COUNT'].sum()\n",
    "x.loc[['A002','59 ST']].plot(kind='line')"
   ]
  },
  {
   "cell_type": "markdown",
   "metadata": {},
   "source": [
    "### Challenge 9: Sum Total By Station\n",
    "- Over multiple weeks, sum total ridership for each station and sort\n",
    "  them, so you can find out the stations with the highest traffic\n",
    "  during the time you investigate"
   ]
  },
  {
   "cell_type": "code",
   "execution_count": 168,
   "metadata": {
    "collapsed": false
   },
   "outputs": [
    {
     "data": {
      "text/plain": [
       "STATION\n",
       "1 AV                418326\n",
       "103 ST              606359\n",
       "103 ST-CORONA       377488\n",
       "104 ST               66428\n",
       "110 ST              235121\n",
       "111 ST              304118\n",
       "116 ST              665662\n",
       "116 ST-COLUMBIA     247873\n",
       "121 ST               47095\n",
       "125 ST             1365956\n",
       "135 ST              377458\n",
       "137 ST CITY COL     272130\n",
       "138/GRAND CONC       62774\n",
       "14 ST              1090402\n",
       "14 ST-UNION SQ     1795765\n",
       "145 ST              686976\n",
       "149/GRAND CONC      224187\n",
       "14TH STREET         175356\n",
       "15 ST-PROSPECT      116864\n",
       "155 ST              129647\n",
       "157 ST              186492\n",
       "161/YANKEE STAD     533332\n",
       "163 ST-AMSTERDM      86563\n",
       "167 ST              376340\n",
       "168 ST              457069\n",
       "169 ST              156622\n",
       "170 ST              307814\n",
       "174 ST              113999\n",
       "174-175 STS         103724\n",
       "175 ST              255062\n",
       "                    ...   \n",
       "SUTPHIN-ARCHER      465534\n",
       "SUTTER AV            84763\n",
       "SUTTER AV-RUTLD     159143\n",
       "THIRTY ST           188531\n",
       "THIRTY THIRD ST     427179\n",
       "TIMES SQ-42 ST     1720026\n",
       "TOMPKINSVILLE        14213\n",
       "TREMONT AV          186160\n",
       "TWENTY THIRD ST     143722\n",
       "UNION ST            117657\n",
       "UTICA AV            301586\n",
       "V.CORTLANDT PK      124082\n",
       "VAN SICLEN AV       156726\n",
       "VAN SICLEN AVE       59814\n",
       "VERNON-JACKSON      297776\n",
       "W 4 ST-WASH SQ      765193\n",
       "W 8 ST-AQUARIUM      66498\n",
       "WAKEFIELD/241       100335\n",
       "WALL ST             826641\n",
       "WEST FARMS SQ       145189\n",
       "WESTCHESTER SQ      109239\n",
       "WHITEHALL S-FRY     352040\n",
       "WHITLOCK AV          33320\n",
       "WILSON AV            76473\n",
       "WINTHROP ST         125026\n",
       "WOODHAVEN BLVD      483699\n",
       "WOODLAWN            143120\n",
       "WORLD TRADE CTR     269712\n",
       "YORK ST             196065\n",
       "ZEREGA AV            46686\n",
       "Name: ENTRIES-COUNT, dtype: float64"
      ]
     },
     "execution_count": 168,
     "metadata": {},
     "output_type": "execute_result"
    }
   ],
   "source": [
    "x = df_ts.groupby(by=['STATION'])['ENTRIES-COUNT'].sum()\n",
    "x"
   ]
  },
  {
   "cell_type": "markdown",
   "metadata": {},
   "source": [
    "### Challenge 10\n",
    " Make a single list of these total ridership values and plot it with\n",
    "```\n",
    "plt.hist(total_ridership_counts)\n",
    "```\n",
    "To get an idea about the distribution of total ridership among\n",
    "different stations. This should show you that most stations have a small traffic, and the\n",
    "histogram bins for large traffic volumes have small bars."
   ]
  },
  {
   "cell_type": "code",
   "execution_count": 169,
   "metadata": {
    "collapsed": false
   },
   "outputs": [
    {
     "data": {
      "text/plain": [
       "(array([ 271.,   64.,   17.,    7.,    5.,    2.,    5.,    1.,    0.,    1.]),\n",
       " array([  3.40000000e+01,   2.84984400e+05,   5.69934800e+05,\n",
       "          8.54885200e+05,   1.13983560e+06,   1.42478600e+06,\n",
       "          1.70973640e+06,   1.99468680e+06,   2.27963720e+06,\n",
       "          2.56458760e+06,   2.84953800e+06]),\n",
       " <a list of 10 Patch objects>)"
      ]
     },
     "execution_count": 169,
     "metadata": {},
     "output_type": "execute_result"
    },
    {
     "data": {
      "image/png": "[encoded data removed]",
      "text/plain": [
       "<matplotlib.figure.Figure at 0x145e2ad68>"
      ]
     },
     "metadata": {},
     "output_type": "display_data"
    }
   ],
   "source": [
    "plt.hist(x)"
   ]
  }
 ],
 "metadata": {
  "kernelspec": {
   "display_name": "Python 3",
   "language": "python",
   "name": "python3"
  },
  "language_info": {
   "codemirror_mode": {
    "name": "ipython",
    "version": 3
   },
   "file_extension": ".py",
   "mimetype": "text/x-python",
   "name": "python",
   "nbconvert_exporter": "python",
   "pygments_lexer": "ipython3",
   "version": "3.5.1"
  }
 },
 "nbformat": 4,
 "nbformat_minor": 0
}
