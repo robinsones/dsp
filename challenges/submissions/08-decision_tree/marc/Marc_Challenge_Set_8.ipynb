{
 "cells": [
  {
   "cell_type": "markdown",
   "metadata": {},
   "source": [
    "## Challenge Set 8  (challenge 1 only)\n",
    "Topic: Tree / Forest Challenges  \n",
    "Date: 8/8/2016  \n",
    "Name: Marc Gameroff  "
   ]
  },
  {
   "cell_type": "markdown",
   "metadata": {},
   "source": [
    "### Challenge 1"
   ]
  },
  {
   "cell_type": "code",
   "execution_count": 1,
   "metadata": {
    "collapsed": true
   },
   "outputs": [],
   "source": [
    "import numpy as np\n",
    "import pandas as pd\n",
    "import matplotlib.pyplot as plt\n",
    "%matplotlib inline"
   ]
  },
  {
   "cell_type": "code",
   "execution_count": 2,
   "metadata": {
    "collapsed": true
   },
   "outputs": [],
   "source": [
    "#the csv file has no header row\n",
    "df = pd.read_csv('house-votes-84.data.txt')\n",
    "\n",
    "df.columns = ['class-label',\n",
    "    'handicapped-infants',\n",
    "    'water-project-cost-sharing', \n",
    "    'adoption-of-the-budget-resolution', \n",
    "    'physician-fee-freeze', \n",
    "    'el-salvador-aid', \n",
    "    'religious-groups-in-schools', \n",
    "    'anti-satellite-test-ban', \n",
    "    'aid-to-nicaraguan-contras',\n",
    "    'mx-missile', \n",
    "    'immigration', \n",
    "    'synfuels-corporation-cutback', \n",
    "    'education-spending', \n",
    "    'superfund-right-to-sue', \n",
    "    'crime', \n",
    "    'duty-free-exports', \n",
    "    'export-administration-act-south-africa']\n",
    "\n",
    "df['class-label'] = df['class-label'].map({'democrat': 1, 'republican': 0})"
   ]
  },
  {
   "cell_type": "code",
   "execution_count": 3,
   "metadata": {
    "collapsed": false
   },
   "outputs": [
    {
     "data": {
      "text/html": [
       "<div>\n",
       "<table border=\"1\" class=\"dataframe\">\n",
       "  <thead>\n",
       "    <tr style=\"text-align: right;\">\n",
       "      <th></th>\n",
       "      <th>handicapped-infants</th>\n",
       "      <th>water-project-cost-sharing</th>\n",
       "      <th>adoption-of-the-budget-resolution</th>\n",
       "      <th>physician-fee-freeze</th>\n",
       "      <th>el-salvador-aid</th>\n",
       "      <th>religious-groups-in-schools</th>\n",
       "      <th>anti-satellite-test-ban</th>\n",
       "      <th>aid-to-nicaraguan-contras</th>\n",
       "      <th>mx-missile</th>\n",
       "      <th>immigration</th>\n",
       "      <th>synfuels-corporation-cutback</th>\n",
       "      <th>education-spending</th>\n",
       "      <th>superfund-right-to-sue</th>\n",
       "      <th>crime</th>\n",
       "      <th>duty-free-exports</th>\n",
       "      <th>export-administration-act-south-africa</th>\n",
       "    </tr>\n",
       "  </thead>\n",
       "  <tbody>\n",
       "    <tr>\n",
       "      <th>0</th>\n",
       "      <td>0.000000</td>\n",
       "      <td>1</td>\n",
       "      <td>0</td>\n",
       "      <td>1.000000</td>\n",
       "      <td>1.00000</td>\n",
       "      <td>1</td>\n",
       "      <td>0</td>\n",
       "      <td>0</td>\n",
       "      <td>0</td>\n",
       "      <td>0</td>\n",
       "      <td>0</td>\n",
       "      <td>1.000000</td>\n",
       "      <td>1</td>\n",
       "      <td>1</td>\n",
       "      <td>0</td>\n",
       "      <td>0.812121</td>\n",
       "    </tr>\n",
       "    <tr>\n",
       "      <th>1</th>\n",
       "      <td>0.443128</td>\n",
       "      <td>1</td>\n",
       "      <td>1</td>\n",
       "      <td>0.416076</td>\n",
       "      <td>1.00000</td>\n",
       "      <td>1</td>\n",
       "      <td>0</td>\n",
       "      <td>0</td>\n",
       "      <td>0</td>\n",
       "      <td>0</td>\n",
       "      <td>1</td>\n",
       "      <td>0.000000</td>\n",
       "      <td>1</td>\n",
       "      <td>1</td>\n",
       "      <td>0</td>\n",
       "      <td>0.000000</td>\n",
       "    </tr>\n",
       "    <tr>\n",
       "      <th>2</th>\n",
       "      <td>0.000000</td>\n",
       "      <td>1</td>\n",
       "      <td>1</td>\n",
       "      <td>0.000000</td>\n",
       "      <td>0.50358</td>\n",
       "      <td>1</td>\n",
       "      <td>0</td>\n",
       "      <td>0</td>\n",
       "      <td>0</td>\n",
       "      <td>0</td>\n",
       "      <td>1</td>\n",
       "      <td>0.000000</td>\n",
       "      <td>1</td>\n",
       "      <td>0</td>\n",
       "      <td>0</td>\n",
       "      <td>1.000000</td>\n",
       "    </tr>\n",
       "    <tr>\n",
       "      <th>3</th>\n",
       "      <td>1.000000</td>\n",
       "      <td>1</td>\n",
       "      <td>1</td>\n",
       "      <td>0.000000</td>\n",
       "      <td>1.00000</td>\n",
       "      <td>1</td>\n",
       "      <td>0</td>\n",
       "      <td>0</td>\n",
       "      <td>0</td>\n",
       "      <td>0</td>\n",
       "      <td>1</td>\n",
       "      <td>0.421836</td>\n",
       "      <td>1</td>\n",
       "      <td>1</td>\n",
       "      <td>1</td>\n",
       "      <td>1.000000</td>\n",
       "    </tr>\n",
       "    <tr>\n",
       "      <th>4</th>\n",
       "      <td>0.000000</td>\n",
       "      <td>1</td>\n",
       "      <td>1</td>\n",
       "      <td>0.000000</td>\n",
       "      <td>1.00000</td>\n",
       "      <td>1</td>\n",
       "      <td>0</td>\n",
       "      <td>0</td>\n",
       "      <td>0</td>\n",
       "      <td>0</td>\n",
       "      <td>0</td>\n",
       "      <td>0.000000</td>\n",
       "      <td>1</td>\n",
       "      <td>1</td>\n",
       "      <td>1</td>\n",
       "      <td>1.000000</td>\n",
       "    </tr>\n",
       "  </tbody>\n",
       "</table>\n",
       "</div>"
      ],
      "text/plain": [
       "   handicapped-infants  water-project-cost-sharing  \\\n",
       "0             0.000000                           1   \n",
       "1             0.443128                           1   \n",
       "2             0.000000                           1   \n",
       "3             1.000000                           1   \n",
       "4             0.000000                           1   \n",
       "\n",
       "   adoption-of-the-budget-resolution  physician-fee-freeze  el-salvador-aid  \\\n",
       "0                                  0              1.000000          1.00000   \n",
       "1                                  1              0.416076          1.00000   \n",
       "2                                  1              0.000000          0.50358   \n",
       "3                                  1              0.000000          1.00000   \n",
       "4                                  1              0.000000          1.00000   \n",
       "\n",
       "   religious-groups-in-schools  anti-satellite-test-ban  \\\n",
       "0                            1                        0   \n",
       "1                            1                        0   \n",
       "2                            1                        0   \n",
       "3                            1                        0   \n",
       "4                            1                        0   \n",
       "\n",
       "   aid-to-nicaraguan-contras  mx-missile  immigration  \\\n",
       "0                          0           0            0   \n",
       "1                          0           0            0   \n",
       "2                          0           0            0   \n",
       "3                          0           0            0   \n",
       "4                          0           0            0   \n",
       "\n",
       "   synfuels-corporation-cutback  education-spending  superfund-right-to-sue  \\\n",
       "0                             0            1.000000                       1   \n",
       "1                             1            0.000000                       1   \n",
       "2                             1            0.000000                       1   \n",
       "3                             1            0.421836                       1   \n",
       "4                             0            0.000000                       1   \n",
       "\n",
       "   crime  duty-free-exports  export-administration-act-south-africa  \n",
       "0      1                  0                                0.812121  \n",
       "1      1                  0                                0.000000  \n",
       "2      0                  0                                1.000000  \n",
       "3      1                  1                                1.000000  \n",
       "4      1                  1                                1.000000  "
      ]
     },
     "execution_count": 3,
     "metadata": {},
     "output_type": "execute_result"
    }
   ],
   "source": [
    "df = df.replace('y', 1)\n",
    "df = df.replace('n', 0)\n",
    "df = df.replace('?', np.nan)\n",
    "df.head()\n",
    "\n",
    "y = df.iloc[:,:1]\n",
    "y = np.asarray(y)\n",
    "np.ravel(y)\n",
    "X = df.iloc[:,1:]\n",
    "X = X.apply(lambda x: x.fillna(x.mean()),axis=0)\n",
    "X.head()"
   ]
  },
  {
   "cell_type": "code",
   "execution_count": 4,
   "metadata": {
    "collapsed": false
   },
   "outputs": [
    {
     "data": {
      "text/plain": [
       "(434,)"
      ]
     },
     "execution_count": 4,
     "metadata": {},
     "output_type": "execute_result"
    }
   ],
   "source": [
    "np.ravel(y).shape"
   ]
  },
  {
   "cell_type": "code",
   "execution_count": 5,
   "metadata": {
    "collapsed": true
   },
   "outputs": [],
   "source": [
    "from sklearn.cross_validation import train_test_split\n",
    "from sklearn.neighbors import KNeighborsClassifier\n",
    "from sklearn.metrics import accuracy_score\n",
    "from sklearn import tree \n",
    "import sklearn\n",
    "\n",
    "X_train, X_test, y_train, y_test = train_test_split(X, y, test_size=0.30, random_state=4444)\n",
    "y_train = np.ravel(y_train)\n",
    "y_test = np.ravel(y_test)"
   ]
  },
  {
   "cell_type": "code",
   "execution_count": 6,
   "metadata": {
    "collapsed": false
   },
   "outputs": [],
   "source": [
    "clf = tree.DecisionTreeClassifier()\n",
    "clf = clf.fit(X_train, y_train)\n",
    "y_pred = np.ravel(clf.predict(X_test))\n",
    "\n",
    "y_pred_prob = clf.predict_proba(X_test)\n",
    "y_probs = np.array(y_pred_prob[:,1])"
   ]
  },
  {
   "cell_type": "code",
   "execution_count": 7,
   "metadata": {
    "collapsed": false
   },
   "outputs": [
    {
     "name": "stdout",
     "output_type": "stream",
     "text": [
      "Confusion Matrix:  [[46  6]\n",
      " [ 4 75]]\n",
      "Accuracy:  0.923664122137\n",
      "F1 score:  0.9375\n",
      "Recall:  0.949367088608\n",
      "Precision:  0.925925925926\n",
      "AUC:  0.916991236611\n"
     ]
    }
   ],
   "source": [
    "confusion = sklearn.metrics.confusion_matrix(y_test, y_pred)\n",
    "recall = sklearn.metrics.recall_score(y_test, y_pred)\n",
    "precision = sklearn.metrics.precision_score(y_test, y_pred)\n",
    "f1_score = sklearn.metrics.f1_score(y_test, y_pred)\n",
    "accuracy = sklearn.metrics.accuracy_score(y_test, y_pred)\n",
    "report = sklearn.metrics.classification_report(y_test, y_pred)\n",
    "auc = sklearn.metrics.roc_auc_score(y_test, y_probs)\n",
    "print ('Confusion Matrix: ', confusion)\n",
    "print ('Accuracy: ', accuracy)\n",
    "print ('F1 score: ', f1_score)\n",
    "print ('Recall: ', recall)\n",
    "print ('Precision: ', precision)\n",
    "print ('AUC: ', auc)\n"
   ]
  },
  {
   "cell_type": "code",
   "execution_count": 13,
   "metadata": {
    "collapsed": false
   },
   "outputs": [],
   "source": [
    "# Create an SVG of the decision tree (because it wouldn't give us a PNG)\n",
    "\n",
    "from sklearn.externals.six import StringIO  \n",
    "from sklearn import tree\n",
    "import pydot \n",
    "\n",
    "dot_data = StringIO() \n",
    "tree.export_graphviz(clf, out_file='dot_data.dot',feature_names=X_train.columns) \n",
    "#graph = pydot.graph_from_dot_data(dot_data.getvalue())\n",
    "#graph.write_pdf(\"politic.pdf\") \n",
    "!dot -Tsvg dot_data.dot -o data_dot.svg  #this only ran on the command line"
   ]
  },
  {
   "cell_type": "markdown",
   "metadata": {},
   "source": [
    "<img src=\"/files/data_dot.svg\"/>"
   ]
  }
 ],
 "metadata": {
  "kernelspec": {
   "display_name": "Python 3",
   "language": "python",
   "name": "python3"
  },
  "language_info": {
   "codemirror_mode": {
    "name": "ipython",
    "version": 3
   },
   "file_extension": ".py",
   "mimetype": "text/x-python",
   "name": "python",
   "nbconvert_exporter": "python",
   "pygments_lexer": "ipython3",
   "version": "3.5.2"
  }
 },
 "nbformat": 4,
 "nbformat_minor": 0
}
