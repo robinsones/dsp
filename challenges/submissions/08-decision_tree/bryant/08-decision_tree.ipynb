{
 "cells": [
  {
   "cell_type": "markdown",
   "metadata": {},
   "source": [
    "|Challenge Set       |**8 **            |\n",
    "|-------------------:|:-----------------|\n",
    "|Topic:              |Decision Tree     |\n",
    "|Date:               |08/07/2016        | \n",
    "|Name:               |Bryant Biggs      |\n",
    "|Worked with:        |N/A               |\n",
    "---\n",
    "# WRITTEN FOR PYTHON 3\n",
    "### Table of Contents:\n",
    " - [**Challenge 1**](#1)\n",
    " - [**Challenge 2**](#2)\n",
    " - [**Challenge 3**](#3)\n",
    "---"
   ]
  },
  {
   "cell_type": "code",
   "execution_count": 13,
   "metadata": {
    "collapsed": false
   },
   "outputs": [],
   "source": [
    "%matplotlib inline\n",
    "import matplotlib\n",
    "import matplotlib.pyplot as plt\n",
    "\n",
    "import os\n",
    "import urllib.request \n",
    "\n",
    "import pandas as pd\n",
    "import numpy as np\n",
    "\n",
    "from sklearn.cross_validation import train_test_split\n",
    "from sklearn.tree import DecisionTreeClassifier, export_graphviz\n",
    "from sklearn.externals.six import StringIO\n",
    "import pydotplus\n",
    "\n",
    "# default plot stying changes\n",
    "import seaborn as sns\n",
    "sns.set_style(\"white\")\n",
    "sns.set_context(\"poster\", font_scale=1., rc={\"lines.linewidth\": 2.5})\n",
    "sns.set_palette(\"Set2\")\n",
    "colors = sns.color_palette('Set2',12)\n",
    "\n",
    "import warnings\n",
    "warnings.filterwarnings('ignore')"
   ]
  },
  {
   "cell_type": "code",
   "execution_count": 2,
   "metadata": {
    "collapsed": true
   },
   "outputs": [],
   "source": [
    "# Data\n",
    "data = 'house-votes-84.data'\n",
    "names = 'house-votes-84.names'\n",
    "base_url = 'https://archive.ics.uci.edu/ml/machine-learning-databases/voting-records/'\n",
    "\n",
    "files = [data, names]\n",
    "\n",
    "# download files if they do not exist\n",
    "for file in files:\n",
    "    if not os.path.isfile('{0}'.format(file)):\n",
    "        _ = urllib.request.urlretrieve('{0}/{1}'.format(base_url, file), '{0}'.format(file))"
   ]
  },
  {
   "cell_type": "code",
   "execution_count": 3,
   "metadata": {
    "collapsed": false
   },
   "outputs": [],
   "source": [
    "# name columns\n",
    "columns =  ['class', 'infants', 'water', 'budget', 'freeze', 'salvador', 'relig', 'anti-sat', 'nic-aid', \n",
    "            'missile', 'immig', 'synfuels', 'educ', 'su-fund', 'crime', 'duty-free', 'africa']\n",
    "\n",
    "# load dataset\n",
    "df = pd.read_csv(data, sep=',', names=columns)\n",
    "\n",
    "# replace y's and n's with 1, 0\n",
    "df = df.replace(['y', 'n'], [1, 0]) \n",
    "\n",
    "# replace replublican, democrat with 1,0\n",
    "df = df.replace('republican',1)\n",
    "df = df.replace('democrat',0)"
   ]
  },
  {
   "cell_type": "code",
   "execution_count": 4,
   "metadata": {
    "collapsed": false
   },
   "outputs": [],
   "source": [
    "# find majority vote average and replace '?' with majority vote average (1, 0)\n",
    "for col in columns[1:]:\n",
    "    df_temp = df[col].value_counts().to_frame()\n",
    "    ones = int(df_temp.iloc[1])\n",
    "    zeros = int(df_temp.iloc[0])\n",
    "    avg = int(round(ones/(ones+zeros), 0))\n",
    "    df[col] = df[col].replace('?', avg)"
   ]
  },
  {
   "cell_type": "code",
   "execution_count": 5,
   "metadata": {
    "collapsed": false
   },
   "outputs": [],
   "source": [
    "# split dataset into test, train\n",
    "train, test = train_test_split(df, test_size = 0.30, random_state=4444)\n",
    "\n",
    "data_cols = columns[1:]\n",
    "label_cols = columns[0]\n",
    "\n",
    "train_data = train[data_cols]\n",
    "train_labels = train[label_cols]\n",
    "\n",
    "test_data = test[data_cols]\n",
    "test_labels = test[label_cols]"
   ]
  },
  {
   "cell_type": "markdown",
   "metadata": {},
   "source": [
    "# <a id='1'></a>Challenge 1:\n",
    "For the house representatives data set, fit and evaluate a decision tree classifier. Examine the rules your tree uses."
   ]
  },
  {
   "cell_type": "code",
   "execution_count": 6,
   "metadata": {
    "collapsed": false,
    "scrolled": true
   },
   "outputs": [],
   "source": [
    "# fit model\n",
    "dtree_clf = DecisionTreeClassifier()\n",
    "dtree_mdl = dtree_clf.fit(train_data, train_labels)"
   ]
  },
  {
   "cell_type": "code",
   "execution_count": 14,
   "metadata": {
    "collapsed": false
   },
   "outputs": [
    {
     "data": {
      "text/plain": [
       "True"
      ]
     },
     "execution_count": 14,
     "metadata": {},
     "output_type": "execute_result"
    }
   ],
   "source": [
    "# output graphviz plot to pdf\n",
    "dot_data = StringIO() \n",
    "export_graphviz(dtree_mdl, out_file=dot_data) \n",
    "graph = pydotplus.graph_from_dot_data(dot_data.getvalue()) \n",
    "graph.write_pdf(\"representative_tree.pdf\") "
   ]
  },
  {
   "cell_type": "markdown",
   "metadata": {},
   "source": [
    "## Answer for Challenge 1 is:\n",
    "<br>\n",
    "<font color='blue'>Graph output to representative_tree.pdf</font>\n",
    "\n",
    "___"
   ]
  },
  {
   "cell_type": "markdown",
   "metadata": {},
   "source": [
    "# <a id='2'></a>Challenge 2:\n",
    "Fit and evaluate a decision tree classifier for your movie dataset. Examine the rules your tree uses."
   ]
  },
  {
   "cell_type": "code",
   "execution_count": 15,
   "metadata": {
    "collapsed": false
   },
   "outputs": [],
   "source": [
    "# read in data\n",
    "movie_data = '../../../challenges_data/2013_movies.csv'\n",
    "df_mv = pd.read_csv(movie_data, sep=',')"
   ]
  },
  {
   "cell_type": "code",
   "execution_count": 16,
   "metadata": {
    "collapsed": false
   },
   "outputs": [],
   "source": [
    "# remove nan's\n",
    "df_mv = df_mv.dropna(axis=0, how='any')\n",
    "\n",
    "assert df_mv['Budget'].dtype == 'float64'\n",
    "assert df_mv['DomesticTotalGross'].dtype == 'int64'\n",
    "assert df_mv['Runtime'].dtype == 'int64'\n",
    "\n",
    "# split data set\n",
    "train, test = train_test_split(df_mv, test_size = 0.30, random_state=4444)\n",
    "\n",
    "# grab label column\n",
    "train_labels = train['Rating']\n",
    "test_labels = test['Rating']\n",
    "\n",
    "# grab data columns\n",
    "train_data = train[['Budget', 'DomesticTotalGross', 'Runtime']]\n",
    "test_data = test[['Budget', 'DomesticTotalGross', 'Runtime']]"
   ]
  },
  {
   "cell_type": "code",
   "execution_count": 17,
   "metadata": {
    "collapsed": false,
    "scrolled": true
   },
   "outputs": [],
   "source": [
    "# fit model\n",
    "dtree_clf = DecisionTreeClassifier()\n",
    "dtree_mdl = dtree_clf.fit(train_data, train_labels)"
   ]
  },
  {
   "cell_type": "code",
   "execution_count": 18,
   "metadata": {
    "collapsed": false
   },
   "outputs": [
    {
     "data": {
      "text/plain": [
       "True"
      ]
     },
     "execution_count": 18,
     "metadata": {},
     "output_type": "execute_result"
    }
   ],
   "source": [
    "dot_data = StringIO() \n",
    "export_graphviz(dtree_mdl, out_file=dot_data) \n",
    "graph = pydotplus.graph_from_dot_data(dot_data.getvalue()) \n",
    "graph.write_pdf(\"movie_tree.pdf\") "
   ]
  },
  {
   "cell_type": "markdown",
   "metadata": {},
   "source": [
    "## Answer for Challenge 2 is:\n",
    "\n",
    "<font color='blue'>Graph output to movie_tree.pdf</font>\n",
    "\n",
    "___"
   ]
  },
  {
   "cell_type": "markdown",
   "metadata": {},
   "source": [
    "# <a id='3'></a>Challenge 3:\n",
    "Calculate the same metrics you did in challenge 1, but this time in a cross validation scheme with the cross_val_score function (like in Challenge 9)."
   ]
  },
  {
   "cell_type": "markdown",
   "metadata": {},
   "source": [
    "## Answer for Challenge 3 is:\n",
    "\n",
    "<br>\n",
    "<font color='blue'>Shown above</font>\n",
    "\n",
    "___"
   ]
  },
  {
   "cell_type": "markdown",
   "metadata": {
    "collapsed": true
   },
   "source": [
    "# <a id='5'></a>Challenge 5:\n",
    "Draw the ROC curve (and calculate AUC) for the logistic regression classifier from challenge 12."
   ]
  },
  {
   "cell_type": "code",
   "execution_count": null,
   "metadata": {
    "collapsed": true
   },
   "outputs": [],
   "source": [
    "# Data\n",
    "data = 'haberman.data'\n",
    "names = 'haberman.names'\n",
    "base_url = 'https://archive.ics.uci.edu/ml/machine-learning-databases/haberman/'\n",
    "\n",
    "files = [data, names]\n",
    "\n",
    "# download files if they do not exist\n",
    "for file in files:\n",
    "    if not os.path.isfile('{0}'.format(file)):\n",
    "        _ = urllib.request.urlretrieve('{0}/{1}'.format(base_url, file), '{0}'.format(file))"
   ]
  },
  {
   "cell_type": "code",
   "execution_count": null,
   "metadata": {
    "collapsed": false
   },
   "outputs": [],
   "source": [
    "# read in data\n",
    "columns =  ['age', 'year_op', 'num_pos', 'status']\n",
    "df_3 = pd.read_csv(data, sep=',', names=columns)"
   ]
  },
  {
   "cell_type": "code",
   "execution_count": null,
   "metadata": {
    "collapsed": false
   },
   "outputs": [],
   "source": [
    "# replace 1,2 with 0,1\n",
    "df_3['status'] = df_3['status'].replace(1, 0)\n",
    "df_3['status'] = df_3['status'].replace(2, 1)"
   ]
  },
  {
   "cell_type": "code",
   "execution_count": null,
   "metadata": {
    "collapsed": false
   },
   "outputs": [],
   "source": [
    "# split data set\n",
    "train, test = train_test_split(df_3, test_size = 0.30, random_state=4444)\n",
    "\n",
    "# grab label column\n",
    "train_labels = train['status']\n",
    "test_labels = test['status']\n",
    "\n",
    "# grab data columns\n",
    "train_data = train[['age', 'year_op', 'num_pos']]\n",
    "test_data = test[['age', 'year_op', 'num_pos']]"
   ]
  },
  {
   "cell_type": "code",
   "execution_count": null,
   "metadata": {
    "collapsed": false,
    "scrolled": true
   },
   "outputs": [],
   "source": [
    "# fit model\n",
    "logr_clf = LogisticRegression()\n",
    "logr_mdl = log_clf.fit(train_data, train_labels)"
   ]
  },
  {
   "cell_type": "code",
   "execution_count": null,
   "metadata": {
    "collapsed": false
   },
   "outputs": [],
   "source": [
    "# calculate AUC values\n",
    "y_true = test_labels\n",
    "y_score = logr_mdl.predict_proba(test_data)[:,1]\n",
    "fpr, tpr, _ = roc_curve(y_true, y_score)\n",
    "print('Logistic regression AUC: {0:.2f}%'.format(auc(fpr, tpr)*100))"
   ]
  },
  {
   "cell_type": "code",
   "execution_count": null,
   "metadata": {
    "collapsed": false
   },
   "outputs": [],
   "source": [
    "# make figure\n",
    "fig = plt.figure(figsize=(20,12))\n",
    "ax = fig.add_subplot(111)\n",
    "\n",
    "# plots\n",
    "ax.plot([0, 1], 'k--', alpha=0.2)\n",
    "ax.plot(fpr, tpr, color=colors[1])\n",
    "\n",
    "plt.xlim(-0.05,1.05)\n",
    "plt.ylim(-0.05,1.05)\n",
    "\n",
    "# labels/titles\n",
    "plt.legend(loc=\"best\")\n",
    "plt.title('Logistic Regression ROC')\n",
    "plt.xlabel('False Positive Rate')\n",
    "plt.ylabel('True Positive Rate')\n",
    "\n",
    "# remove border\n",
    "ax.spines[\"top\"].set_visible(False)  \n",
    "ax.spines[\"right\"].set_visible(False) \n",
    "ax.spines[\"bottom\"].set_visible(False) \n",
    "ax.spines[\"left\"].set_visible(False)\n",
    "\n",
    "# show grid\n",
    "ax.xaxis.grid(True, alpha=0.2) \n",
    "ax.yaxis.grid(True, alpha=0.2) \n",
    "\n",
    "# plot that biddy\n",
    "plt.tight_layout()\n",
    "_ = plt.show()"
   ]
  },
  {
   "cell_type": "markdown",
   "metadata": {},
   "source": [
    "## Answer for Challenge 5 is:\n",
    "\n",
    "<font color='blue'>Shown above</font>\n",
    "___"
   ]
  }
 ],
 "metadata": {
  "anaconda-cloud": {},
  "kernelspec": {
   "display_name": "Python [Root]",
   "language": "python",
   "name": "Python [Root]"
  },
  "language_info": {
   "codemirror_mode": {
    "name": "ipython",
    "version": 3
   },
   "file_extension": ".py",
   "mimetype": "text/x-python",
   "name": "python",
   "nbconvert_exporter": "python",
   "pygments_lexer": "ipython3",
   "version": "3.5.2"
  }
 },
 "nbformat": 4,
 "nbformat_minor": 0
}
