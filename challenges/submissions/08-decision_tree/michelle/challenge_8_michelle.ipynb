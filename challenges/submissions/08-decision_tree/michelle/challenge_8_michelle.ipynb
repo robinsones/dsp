{
 "cells": [
  {
   "cell_type": "markdown",
   "metadata": {
    "run_control": {
     "marked": true
    }
   },
   "source": [
    "# Challenge 8: Decision Tree Challenges\n",
    "\n",
    "| Title        | Answer                     |\n",
    "| :---------- | :------------------------ |\n",
    "| Topic:       | Decision Tree Challenges | \n",
    "| Date:        | 2016/08/06                 |\n",
    "| Name:        | Michelle L. Gill           |\n",
    "| Worked with: | None                       | \n",
    "\n",
    "\n"
   ]
  },
  {
   "cell_type": "code",
   "execution_count": 65,
   "metadata": {
    "ExecuteTime": {
     "end_time": "2016-08-07T12:15:24.453203",
     "start_time": "2016-08-07T12:15:24.436782"
    },
    "collapsed": false,
    "run_control": {
     "marked": true
    }
   },
   "outputs": [],
   "source": [
    "import pandas as pd\n",
    "import numpy as np\n",
    "\n",
    "from sklearn.cross_validation import train_test_split\n",
    "from sklearn.tree import export_graphviz, DecisionTreeClassifier\n",
    "from sklearn.preprocessing import LabelEncoder\n",
    "\n",
    "import pydotplus\n",
    "from IPython.display import Image"
   ]
  },
  {
   "cell_type": "markdown",
   "metadata": {
    "run_control": {
     "marked": true
    }
   },
   "source": [
    "## Question 1\n",
    "\n",
    "For the house representatives data set, fit and evaluate a decision tree classifier. Examine the rules your tree uses."
   ]
  },
  {
   "cell_type": "code",
   "execution_count": 66,
   "metadata": {
    "ExecuteTime": {
     "end_time": "2016-08-07T12:15:25.847377",
     "start_time": "2016-08-07T12:15:25.711649"
    },
    "collapsed": false
   },
   "outputs": [
    {
     "data": {
      "text/html": [
       "<div>\n",
       "<table border=\"1\" class=\"dataframe\">\n",
       "  <thead>\n",
       "    <tr style=\"text-align: right;\">\n",
       "      <th></th>\n",
       "      <th>v1</th>\n",
       "      <th>v2</th>\n",
       "      <th>v3</th>\n",
       "      <th>v4</th>\n",
       "      <th>v5</th>\n",
       "      <th>v6</th>\n",
       "      <th>v7</th>\n",
       "      <th>v8</th>\n",
       "      <th>v9</th>\n",
       "      <th>v10</th>\n",
       "      <th>v11</th>\n",
       "      <th>v12</th>\n",
       "      <th>v13</th>\n",
       "      <th>v14</th>\n",
       "      <th>v15</th>\n",
       "      <th>v16</th>\n",
       "      <th>party</th>\n",
       "    </tr>\n",
       "  </thead>\n",
       "  <tbody>\n",
       "    <tr>\n",
       "      <th>0</th>\n",
       "      <td>0</td>\n",
       "      <td>1</td>\n",
       "      <td>0</td>\n",
       "      <td>1</td>\n",
       "      <td>1</td>\n",
       "      <td>1</td>\n",
       "      <td>0</td>\n",
       "      <td>0</td>\n",
       "      <td>0</td>\n",
       "      <td>1</td>\n",
       "      <td>1</td>\n",
       "      <td>1</td>\n",
       "      <td>1</td>\n",
       "      <td>1</td>\n",
       "      <td>0</td>\n",
       "      <td>1</td>\n",
       "      <td>republican</td>\n",
       "    </tr>\n",
       "    <tr>\n",
       "      <th>1</th>\n",
       "      <td>0</td>\n",
       "      <td>1</td>\n",
       "      <td>0</td>\n",
       "      <td>1</td>\n",
       "      <td>1</td>\n",
       "      <td>1</td>\n",
       "      <td>0</td>\n",
       "      <td>0</td>\n",
       "      <td>0</td>\n",
       "      <td>0</td>\n",
       "      <td>0</td>\n",
       "      <td>1</td>\n",
       "      <td>1</td>\n",
       "      <td>1</td>\n",
       "      <td>0</td>\n",
       "      <td>0</td>\n",
       "      <td>republican</td>\n",
       "    </tr>\n",
       "    <tr>\n",
       "      <th>2</th>\n",
       "      <td>0</td>\n",
       "      <td>1</td>\n",
       "      <td>1</td>\n",
       "      <td>0</td>\n",
       "      <td>1</td>\n",
       "      <td>1</td>\n",
       "      <td>0</td>\n",
       "      <td>0</td>\n",
       "      <td>0</td>\n",
       "      <td>0</td>\n",
       "      <td>1</td>\n",
       "      <td>0</td>\n",
       "      <td>1</td>\n",
       "      <td>1</td>\n",
       "      <td>0</td>\n",
       "      <td>0</td>\n",
       "      <td>democrat</td>\n",
       "    </tr>\n",
       "    <tr>\n",
       "      <th>3</th>\n",
       "      <td>0</td>\n",
       "      <td>1</td>\n",
       "      <td>1</td>\n",
       "      <td>0</td>\n",
       "      <td>1</td>\n",
       "      <td>1</td>\n",
       "      <td>0</td>\n",
       "      <td>0</td>\n",
       "      <td>0</td>\n",
       "      <td>0</td>\n",
       "      <td>1</td>\n",
       "      <td>0</td>\n",
       "      <td>1</td>\n",
       "      <td>0</td>\n",
       "      <td>0</td>\n",
       "      <td>1</td>\n",
       "      <td>democrat</td>\n",
       "    </tr>\n",
       "    <tr>\n",
       "      <th>4</th>\n",
       "      <td>1</td>\n",
       "      <td>1</td>\n",
       "      <td>1</td>\n",
       "      <td>0</td>\n",
       "      <td>1</td>\n",
       "      <td>1</td>\n",
       "      <td>0</td>\n",
       "      <td>0</td>\n",
       "      <td>0</td>\n",
       "      <td>0</td>\n",
       "      <td>1</td>\n",
       "      <td>0</td>\n",
       "      <td>1</td>\n",
       "      <td>1</td>\n",
       "      <td>1</td>\n",
       "      <td>1</td>\n",
       "      <td>democrat</td>\n",
       "    </tr>\n",
       "  </tbody>\n",
       "</table>\n",
       "</div>"
      ],
      "text/plain": [
       "   v1  v2  v3  v4  v5  v6  v7  v8  v9  v10  v11  v12  v13  v14  v15  v16  \\\n",
       "0   0   1   0   1   1   1   0   0   0    1    1    1    1    1    0    1   \n",
       "1   0   1   0   1   1   1   0   0   0    0    0    1    1    1    0    0   \n",
       "2   0   1   1   0   1   1   0   0   0    0    1    0    1    1    0    0   \n",
       "3   0   1   1   0   1   1   0   0   0    0    1    0    1    0    0    1   \n",
       "4   1   1   1   0   1   1   0   0   0    0    1    0    1    1    1    1   \n",
       "\n",
       "        party  \n",
       "0  republican  \n",
       "1  republican  \n",
       "2    democrat  \n",
       "3    democrat  \n",
       "4    democrat  "
      ]
     },
     "execution_count": 66,
     "metadata": {},
     "output_type": "execute_result"
    }
   ],
   "source": [
    "vote_cols = ['v1', 'v2', 'v3', 'v4', 'v5',\n",
    "             'v6', 'v7', 'v8', 'v9', 'v10',\n",
    "             'v11', 'v12', 'v13', 'v14', 'v15', 'v16']\n",
    "\n",
    "house = pd.read_csv('../../../challenges_data/house-votes-84.data',\n",
    "                    names=vote_cols + ['party'],\n",
    "                    index_col=None)\n",
    "\n",
    "house['party'] = house.party.str.strip().str.replace('.', '')\n",
    "house = house.replace('y', 1).replace('n', 0).replace('?', np.NaN)\n",
    "\n",
    "# house[feat_cols] = house[feat_cols].fillna(house[feat_cols].mean())\n",
    "\n",
    "# Fill with Bernoulli probability distribution\n",
    "vote_totals = (pd.Series(house[vote_cols].values.ravel())\n",
    "               .dropna()\n",
    "               .astype(int)\n",
    "               .value_counts()\n",
    "               )\n",
    "\n",
    "vote_totals /= vote_totals.sum()\n",
    "p_yes = vote_totals.loc[1]\n",
    "\n",
    "def vote_filler(df_col, p_yes=p_yes):\n",
    "    mask = df_col.isnull()\n",
    "    fill_size = mask.sum()\n",
    "    df_col.loc[mask] = np.random.binomial(1, p=p_yes, size=fill_size)\n",
    "    return df_col\n",
    "\n",
    "house[vote_cols] = house[vote_cols].apply(vote_filler, axis=0).astype(int)\n",
    "\n",
    "house.head(5)"
   ]
  },
  {
   "cell_type": "code",
   "execution_count": 67,
   "metadata": {
    "ExecuteTime": {
     "end_time": "2016-08-07T12:15:26.675511",
     "start_time": "2016-08-07T12:15:26.650067"
    },
    "collapsed": true
   },
   "outputs": [],
   "source": [
    "train, test = train_test_split(house, test_size=0.3, random_state=4444)"
   ]
  },
  {
   "cell_type": "code",
   "execution_count": 68,
   "metadata": {
    "ExecuteTime": {
     "end_time": "2016-08-07T12:15:27.604450",
     "start_time": "2016-08-07T12:15:27.598726"
    },
    "collapsed": false
   },
   "outputs": [],
   "source": [
    "model = DecisionTreeClassifier(max_depth=3)\n",
    "model = model.fit(train[vote_cols], train['party'])"
   ]
  },
  {
   "cell_type": "code",
   "execution_count": 69,
   "metadata": {
    "ExecuteTime": {
     "end_time": "2016-08-07T12:15:28.044346",
     "start_time": "2016-08-07T12:15:28.025062"
    },
    "collapsed": true
   },
   "outputs": [],
   "source": [
    "# Function to convert model to image\n",
    "# This makes use of Ghostscript and ImageMagick because my dot\n",
    "# program does not seem to be able to make PNG files\n",
    "\n",
    "def convert_to_image(model, out_dotfile):\n",
    "    out_base = os.path.splitext(out_dotfile)[1]\n",
    "    \n",
    "    export_graphviz(model, out_file=out_dotfile)\n",
    "    \n",
    "    ps_file = out_base + '.ps'\n",
    "    pdf_file = out_base + '.pdf'\n",
    "    png_file = out_base + '.png'\n",
    "\n",
    "    !dot -Tps {out_dotfile} -o {ps_file} >> /dev/null\n",
    "\n",
    "    # Get the sizes from ImageMagick\n",
    "    size = ! identify {ps_file} | cut -d' ' -f3 | sed 's/x/ /g'\n",
    "    size1, size2 = [int(x) for x in size[0].split(' ')]\n",
    "\n",
    "    # Convert to PDF with Ghostscript\n",
    "    size_str = \"\\\"<< /PageSize [{} {}] >> setpagedevice\\\"\".format(size1+200, size2+200)\n",
    "    !gs -sOutputFile={pdf_file} -sDEVICE=pdfwrite  -c {size_str} -dBATCH -dNOPAUSE {ps_file} >> /dev/null\n",
    "\n",
    "    # Convert PDF to PNG and crop with ImageMagick\n",
    "    !convert -trim {pdf_file} {png_file} >> /dev/null\n",
    "\n",
    "    !rm {out_dotfile} {ps_file} {pdf_file}\n",
    "    \n",
    "    return png_file"
   ]
  },
  {
   "cell_type": "code",
   "execution_count": 70,
   "metadata": {
    "ExecuteTime": {
     "end_time": "2016-08-07T12:15:30.802293",
     "start_time": "2016-08-07T12:15:29.069408"
    },
    "collapsed": false
   },
   "outputs": [
    {
     "data": {
      "image/png": "[encoded data removed]",
      "text/plain": [
       "<IPython.core.display.Image object>"
      ]
     },
     "execution_count": 70,
     "metadata": {},
     "output_type": "execute_result"
    }
   ],
   "source": [
    "Image(convert_to_image(model, 'tree_votes.dot'))"
   ]
  },
  {
   "cell_type": "code",
   "execution_count": 79,
   "metadata": {
    "ExecuteTime": {
     "end_time": "2016-08-07T12:21:09.568612",
     "start_time": "2016-08-07T12:21:09.560885"
    },
    "collapsed": false
   },
   "outputs": [
    {
     "data": {
      "text/plain": [
       "'v4'"
      ]
     },
     "execution_count": 79,
     "metadata": {},
     "output_type": "execute_result"
    }
   ],
   "source": [
    "vote_cols[3]"
   ]
  },
  {
   "cell_type": "markdown",
   "metadata": {},
   "source": [
    "Primary decision is on vote `v4`.\n",
    "\n",
    "## Question 2\n",
    "Fit and evaluate a decision tree classifier for your movie dataset. Examine the rules your tree uses."
   ]
  },
  {
   "cell_type": "code",
   "execution_count": 75,
   "metadata": {
    "ExecuteTime": {
     "end_time": "2016-08-07T12:18:44.172390",
     "start_time": "2016-08-07T12:18:43.880596"
    },
    "collapsed": false
   },
   "outputs": [],
   "source": [
    "movies = pd.read_csv('../../../challenges_data/2013_movies.csv')\n",
    "\n",
    "# fill missing data\n",
    "movies = movies.fillna(movies.median())\n",
    "\n",
    "# Convert ratings to integers\n",
    "movies = movies.loc[movies.Rating!='G']\n",
    "conv_dict = {'PG':0, 'PG-13':1, 'R':2}\n",
    "movies['Rating'] = movies.Rating.apply(lambda x: conv_dict[x])\n",
    "\n",
    "feat_cols = ['Budget', 'DomesticTotalGross', 'Runtime']\n",
    "mtrain, mtest = train_test_split(movies, test_size=0.3, random_state=4444)"
   ]
  },
  {
   "cell_type": "code",
   "execution_count": 77,
   "metadata": {
    "ExecuteTime": {
     "end_time": "2016-08-07T12:19:32.995505",
     "start_time": "2016-08-07T12:19:32.988112"
    },
    "collapsed": false
   },
   "outputs": [],
   "source": [
    "model = DecisionTreeClassifier(max_depth=3)\n",
    "model = model.fit(mtrain[feat_cols], mtrain['Rating'])"
   ]
  },
  {
   "cell_type": "code",
   "execution_count": 78,
   "metadata": {
    "ExecuteTime": {
     "end_time": "2016-08-07T12:19:47.878941",
     "start_time": "2016-08-07T12:19:46.153087"
    },
    "collapsed": false
   },
   "outputs": [
    {
     "data": {
      "image/png": "[encoded data removed]",
      "text/plain": [
       "<IPython.core.display.Image object>"
      ]
     },
     "execution_count": 78,
     "metadata": {},
     "output_type": "execute_result"
    }
   ],
   "source": [
    "Image(convert_to_image(model, 'tree_movies.dot'))"
   ]
  },
  {
   "cell_type": "markdown",
   "metadata": {},
   "source": [
    "Primary decision is on `Budget` is less than or equal to $117,500,000.\n",
    "\n",
    "## Question 3\n",
    "Tackle the Titanic Survivors kaggle competition with decision trees. Look at your splits; how does your tree decide?"
   ]
  },
  {
   "cell_type": "code",
   "execution_count": 101,
   "metadata": {
    "ExecuteTime": {
     "end_time": "2016-08-07T12:40:23.130476",
     "start_time": "2016-08-07T12:40:23.106278"
    },
    "collapsed": false
   },
   "outputs": [],
   "source": [
    "ttrain = pd.read_csv('titanic_train.csv')\n",
    "#ttest = pd.read_csv('titanic_test.csv')\n",
    "\n",
    "ttrain = ttrain.fillna(ttrain.median())"
   ]
  },
  {
   "cell_type": "code",
   "execution_count": 102,
   "metadata": {
    "ExecuteTime": {
     "end_time": "2016-08-07T12:40:24.085782",
     "start_time": "2016-08-07T12:40:24.060410"
    },
    "collapsed": false
   },
   "outputs": [
    {
     "data": {
      "text/html": [
       "<div>\n",
       "<table border=\"1\" class=\"dataframe\">\n",
       "  <thead>\n",
       "    <tr style=\"text-align: right;\">\n",
       "      <th></th>\n",
       "      <th>﻿PassengerId</th>\n",
       "      <th>Survived</th>\n",
       "      <th>Pclass</th>\n",
       "      <th>Name</th>\n",
       "      <th>Sex</th>\n",
       "      <th>Age</th>\n",
       "      <th>SibSp</th>\n",
       "      <th>Parch</th>\n",
       "      <th>Ticket</th>\n",
       "      <th>Fare</th>\n",
       "      <th>Cabin</th>\n",
       "      <th>Embarked</th>\n",
       "    </tr>\n",
       "  </thead>\n",
       "  <tbody>\n",
       "    <tr>\n",
       "      <th>0</th>\n",
       "      <td>1</td>\n",
       "      <td>0</td>\n",
       "      <td>3</td>\n",
       "      <td>Braund, Mr. Owen Harris</td>\n",
       "      <td>male</td>\n",
       "      <td>22.0</td>\n",
       "      <td>1</td>\n",
       "      <td>0</td>\n",
       "      <td>A/5 21171</td>\n",
       "      <td>7.25</td>\n",
       "      <td>NaN</td>\n",
       "      <td>S</td>\n",
       "    </tr>\n",
       "  </tbody>\n",
       "</table>\n",
       "</div>"
      ],
      "text/plain": [
       "   ﻿PassengerId  Survived  Pclass                     Name   Sex   Age  SibSp  \\\n",
       "0             1         0       3  Braund, Mr. Owen Harris  male  22.0      1   \n",
       "\n",
       "   Parch     Ticket  Fare Cabin Embarked  \n",
       "0      0  A/5 21171  7.25   NaN        S  "
      ]
     },
     "execution_count": 102,
     "metadata": {},
     "output_type": "execute_result"
    }
   ],
   "source": [
    "ttrain.head(1)"
   ]
  },
  {
   "cell_type": "code",
   "execution_count": 103,
   "metadata": {
    "ExecuteTime": {
     "end_time": "2016-08-07T12:40:27.101785",
     "start_time": "2016-08-07T12:40:27.092253"
    },
    "collapsed": true
   },
   "outputs": [],
   "source": [
    "feat_cols = ['Pclass', 'Sex', 'Embarked', 'SibSp', 'Parch',  'Age', 'Fare']\n",
    "label_cols = ['Pclass', 'Sex', 'Embarked', 'SibSp', 'Parch']\n",
    "pred_col = 'Survived'"
   ]
  },
  {
   "cell_type": "code",
   "execution_count": 108,
   "metadata": {
    "ExecuteTime": {
     "end_time": "2016-08-07T12:42:02.940432",
     "start_time": "2016-08-07T12:42:02.920048"
    },
    "collapsed": false
   },
   "outputs": [
    {
     "name": "stderr",
     "output_type": "stream",
     "text": [
      "/Volumes/Files/miniconda/envs/scienv2/lib/python2.7/site-packages/numpy/lib/arraysetops.py:200: FutureWarning: numpy not_equal will not check object identity in the future. The comparison did not return the same result as suggested by the identity (`is`)) and will change.\n",
      "  flag = np.concatenate(([True], aux[1:] != aux[:-1]))\n",
      "/Volumes/Files/miniconda/envs/scienv2/lib/python2.7/site-packages/numpy/lib/arraysetops.py:259: FutureWarning: numpy equal will not check object identity in the future. The comparison did not return the same result as suggested by the identity (`is`)) and will change.\n",
      "  return aux[:-1][aux[1:] == aux[:-1]]\n"
     ]
    }
   ],
   "source": [
    "for col in label_cols:\n",
    "    lb = LabelEncoder().fit(ttrain[col])\n",
    "    ttrain[col] = lb.transform(ttrain[col])"
   ]
  },
  {
   "cell_type": "code",
   "execution_count": 109,
   "metadata": {
    "ExecuteTime": {
     "end_time": "2016-08-07T12:42:55.669756",
     "start_time": "2016-08-07T12:42:55.660454"
    },
    "collapsed": false
   },
   "outputs": [],
   "source": [
    "model = DecisionTreeClassifier(max_depth=3)\n",
    "model = model.fit(ttrain[feat_cols], ttrain[pred_col])"
   ]
  },
  {
   "cell_type": "code",
   "execution_count": 110,
   "metadata": {
    "ExecuteTime": {
     "end_time": "2016-08-07T12:43:11.037565",
     "start_time": "2016-08-07T12:43:09.155843"
    },
    "collapsed": false
   },
   "outputs": [
    {
     "data": {
      "image/png": "[encoded data removed]",
      "text/plain": [
       "<IPython.core.display.Image object>"
      ]
     },
     "execution_count": 110,
     "metadata": {},
     "output_type": "execute_result"
    }
   ],
   "source": [
    "Image(convert_to_image(model, 'tree_titanic.dot'))"
   ]
  },
  {
   "cell_type": "markdown",
   "metadata": {},
   "source": [
    "The primary node divides on `Sex`. Secondary nodes are `Pclass` (passenger class) and `Age`."
   ]
  }
 ],
 "metadata": {
  "kernelspec": {
   "display_name": "Python 2",
   "language": "python",
   "name": "python2"
  },
  "language_info": {
   "codemirror_mode": {
    "name": "ipython",
    "version": 2
   },
   "file_extension": ".py",
   "mimetype": "text/x-python",
   "name": "python",
   "nbconvert_exporter": "python",
   "pygments_lexer": "ipython2",
   "version": "2.7.12"
  }
 },
 "nbformat": 4,
 "nbformat_minor": 0
}
