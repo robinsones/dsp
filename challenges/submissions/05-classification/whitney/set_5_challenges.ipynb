{
 "cells": [
  {
   "cell_type": "markdown",
   "metadata": {},
   "source": [
    "<a id='top'></a>\n",
    "# Challenge Set 5\n",
    "Topic:        Classification  \n",
    "Date:         8/1/2016  \n",
    "Name:         Whitney Chia  \n",
    "Worked with:  All by myyyyyyyself"
   ]
  },
  {
   "cell_type": "markdown",
   "metadata": {},
   "source": [
    "[Question 1](#question1)   \n",
    "[Question 2](#question2)   \n",
    "[Question 3](#question3)   \n",
    "[Question 4](#question4)  \n",
    "[Question 5](#question5)   \n",
    "[Question 6](#question6)   \n",
    "[Question 7](#question7)   \n",
    "[Question 8](#question8)  \n",
    "[Question 9](#question9)   \n",
    "[Question 10](#question10)     \n",
    "[Question 11](#question11)   \n",
    "[Question 12](#question12)  "
   ]
  },
  {
   "cell_type": "markdown",
   "metadata": {},
   "source": [
    "<a id='question1'></a>\n",
    "# Question 1   \n",
    "[Top](#top)"
   ]
  },
  {
   "cell_type": "code",
   "execution_count": 3,
   "metadata": {
    "collapsed": true
   },
   "outputs": [],
   "source": [
    "%matplotlib inline\n",
    "import matplotlib.pyplot as plt\n",
    "import numpy as np\n",
    "import pandas as pd\n",
    "import seaborn as sns\n",
    "from sklearn.linear_model import LinearRegression\n",
    "from patsy import dmatrices\n",
    "import statsmodels.api as sm\n",
    "pd.options.display.max_rows = 999\n",
    "plt.style.use('ggplot')\n",
    "sns.set_context('poster')\n",
    "sns.set_style('darkgrid')\n",
    "sns.set_palette('dark')\n",
    "import matplotlib.patches as mpatches"
   ]
  },
  {
   "cell_type": "code",
   "execution_count": 4,
   "metadata": {
    "collapsed": false
   },
   "outputs": [],
   "source": [
    "df = pd.read_csv('house-votes-84.data', header=None)"
   ]
  },
  {
   "cell_type": "code",
   "execution_count": 5,
   "metadata": {
    "collapsed": false
   },
   "outputs": [],
   "source": [
    "df.columns = ['Party','handicapped_infants', 'water_project_cost_sharing',\\\n",
    "        'adoption_of_the_budget_resolution', 'physician_fee_freeze', 'el_salvador_aid',\\\n",
    "             'religious_groups_in_schools', 'anti_satellite_test_ban', 'aid_to_nicaraguan_contras',\\\n",
    "             'mx_missile', 'immigration', 'synfuels_corporation_cutback', 'education_spending', 'superfund_right_to_sue',\\\n",
    "             'crime', 'duty_free_exports', 'export_administration_act_south_africa']"
   ]
  },
  {
   "cell_type": "code",
   "execution_count": 6,
   "metadata": {
    "collapsed": false
   },
   "outputs": [],
   "source": [
    "df = df.replace(['republican', 'democrat', 'y','n', '?'], [0,1,1,0, np.nan])"
   ]
  },
  {
   "cell_type": "code",
   "execution_count": 7,
   "metadata": {
    "collapsed": false,
    "scrolled": true
   },
   "outputs": [],
   "source": [
    "df = df.astype(float)"
   ]
  },
  {
   "cell_type": "code",
   "execution_count": 8,
   "metadata": {
    "collapsed": false
   },
   "outputs": [],
   "source": [
    "df = df.fillna(df.mean())"
   ]
  },
  {
   "cell_type": "markdown",
   "metadata": {},
   "source": [
    "# <a id='question2'></a>\n",
    "# Question 2   \n",
    "[Top](#top)"
   ]
  },
  {
   "cell_type": "code",
   "execution_count": 9,
   "metadata": {
    "collapsed": true
   },
   "outputs": [],
   "source": [
    "from sklearn.cross_validation import train_test_split\n",
    "from sklearn import cross_validation as cv\n",
    "from patsy import dmatrices"
   ]
  },
  {
   "cell_type": "code",
   "execution_count": 10,
   "metadata": {
    "collapsed": false
   },
   "outputs": [
    {
     "data": {
      "text/html": [
       "<div>\n",
       "<table border=\"1\" class=\"dataframe\">\n",
       "  <thead>\n",
       "    <tr style=\"text-align: right;\">\n",
       "      <th></th>\n",
       "      <th>Party</th>\n",
       "      <th>handicapped_infants</th>\n",
       "      <th>water_project_cost_sharing</th>\n",
       "      <th>adoption_of_the_budget_resolution</th>\n",
       "      <th>physician_fee_freeze</th>\n",
       "      <th>el_salvador_aid</th>\n",
       "      <th>religious_groups_in_schools</th>\n",
       "      <th>anti_satellite_test_ban</th>\n",
       "      <th>aid_to_nicaraguan_contras</th>\n",
       "      <th>mx_missile</th>\n",
       "      <th>immigration</th>\n",
       "      <th>synfuels_corporation_cutback</th>\n",
       "      <th>education_spending</th>\n",
       "      <th>superfund_right_to_sue</th>\n",
       "      <th>crime</th>\n",
       "      <th>duty_free_exports</th>\n",
       "      <th>export_administration_act_south_africa</th>\n",
       "    </tr>\n",
       "  </thead>\n",
       "  <tbody>\n",
       "    <tr>\n",
       "      <th>0</th>\n",
       "      <td>0.0</td>\n",
       "      <td>0.00000</td>\n",
       "      <td>1.0</td>\n",
       "      <td>0.0</td>\n",
       "      <td>1.000000</td>\n",
       "      <td>1.000000</td>\n",
       "      <td>1.0</td>\n",
       "      <td>0.0</td>\n",
       "      <td>0.0</td>\n",
       "      <td>0.0</td>\n",
       "      <td>1.0</td>\n",
       "      <td>0.362319</td>\n",
       "      <td>1.000000</td>\n",
       "      <td>1.0</td>\n",
       "      <td>1.0</td>\n",
       "      <td>0.0</td>\n",
       "      <td>1.000000</td>\n",
       "    </tr>\n",
       "    <tr>\n",
       "      <th>1</th>\n",
       "      <td>0.0</td>\n",
       "      <td>0.00000</td>\n",
       "      <td>1.0</td>\n",
       "      <td>0.0</td>\n",
       "      <td>1.000000</td>\n",
       "      <td>1.000000</td>\n",
       "      <td>1.0</td>\n",
       "      <td>0.0</td>\n",
       "      <td>0.0</td>\n",
       "      <td>0.0</td>\n",
       "      <td>0.0</td>\n",
       "      <td>0.000000</td>\n",
       "      <td>1.000000</td>\n",
       "      <td>1.0</td>\n",
       "      <td>1.0</td>\n",
       "      <td>0.0</td>\n",
       "      <td>0.812689</td>\n",
       "    </tr>\n",
       "    <tr>\n",
       "      <th>2</th>\n",
       "      <td>1.0</td>\n",
       "      <td>0.44208</td>\n",
       "      <td>1.0</td>\n",
       "      <td>1.0</td>\n",
       "      <td>0.417453</td>\n",
       "      <td>1.000000</td>\n",
       "      <td>1.0</td>\n",
       "      <td>0.0</td>\n",
       "      <td>0.0</td>\n",
       "      <td>0.0</td>\n",
       "      <td>0.0</td>\n",
       "      <td>1.000000</td>\n",
       "      <td>0.000000</td>\n",
       "      <td>1.0</td>\n",
       "      <td>1.0</td>\n",
       "      <td>0.0</td>\n",
       "      <td>0.000000</td>\n",
       "    </tr>\n",
       "    <tr>\n",
       "      <th>3</th>\n",
       "      <td>1.0</td>\n",
       "      <td>0.00000</td>\n",
       "      <td>1.0</td>\n",
       "      <td>1.0</td>\n",
       "      <td>0.000000</td>\n",
       "      <td>0.504762</td>\n",
       "      <td>1.0</td>\n",
       "      <td>0.0</td>\n",
       "      <td>0.0</td>\n",
       "      <td>0.0</td>\n",
       "      <td>0.0</td>\n",
       "      <td>1.000000</td>\n",
       "      <td>0.000000</td>\n",
       "      <td>1.0</td>\n",
       "      <td>0.0</td>\n",
       "      <td>0.0</td>\n",
       "      <td>1.000000</td>\n",
       "    </tr>\n",
       "    <tr>\n",
       "      <th>4</th>\n",
       "      <td>1.0</td>\n",
       "      <td>1.00000</td>\n",
       "      <td>1.0</td>\n",
       "      <td>1.0</td>\n",
       "      <td>0.000000</td>\n",
       "      <td>1.000000</td>\n",
       "      <td>1.0</td>\n",
       "      <td>0.0</td>\n",
       "      <td>0.0</td>\n",
       "      <td>0.0</td>\n",
       "      <td>0.0</td>\n",
       "      <td>1.000000</td>\n",
       "      <td>0.423267</td>\n",
       "      <td>1.0</td>\n",
       "      <td>1.0</td>\n",
       "      <td>1.0</td>\n",
       "      <td>1.000000</td>\n",
       "    </tr>\n",
       "  </tbody>\n",
       "</table>\n",
       "</div>"
      ],
      "text/plain": [
       "   Party  handicapped_infants  water_project_cost_sharing  \\\n",
       "0    0.0              0.00000                         1.0   \n",
       "1    0.0              0.00000                         1.0   \n",
       "2    1.0              0.44208                         1.0   \n",
       "3    1.0              0.00000                         1.0   \n",
       "4    1.0              1.00000                         1.0   \n",
       "\n",
       "   adoption_of_the_budget_resolution  physician_fee_freeze  el_salvador_aid  \\\n",
       "0                                0.0              1.000000         1.000000   \n",
       "1                                0.0              1.000000         1.000000   \n",
       "2                                1.0              0.417453         1.000000   \n",
       "3                                1.0              0.000000         0.504762   \n",
       "4                                1.0              0.000000         1.000000   \n",
       "\n",
       "   religious_groups_in_schools  anti_satellite_test_ban  \\\n",
       "0                          1.0                      0.0   \n",
       "1                          1.0                      0.0   \n",
       "2                          1.0                      0.0   \n",
       "3                          1.0                      0.0   \n",
       "4                          1.0                      0.0   \n",
       "\n",
       "   aid_to_nicaraguan_contras  mx_missile  immigration  \\\n",
       "0                        0.0         0.0          1.0   \n",
       "1                        0.0         0.0          0.0   \n",
       "2                        0.0         0.0          0.0   \n",
       "3                        0.0         0.0          0.0   \n",
       "4                        0.0         0.0          0.0   \n",
       "\n",
       "   synfuels_corporation_cutback  education_spending  superfund_right_to_sue  \\\n",
       "0                      0.362319            1.000000                     1.0   \n",
       "1                      0.000000            1.000000                     1.0   \n",
       "2                      1.000000            0.000000                     1.0   \n",
       "3                      1.000000            0.000000                     1.0   \n",
       "4                      1.000000            0.423267                     1.0   \n",
       "\n",
       "   crime  duty_free_exports  export_administration_act_south_africa  \n",
       "0    1.0                0.0                                1.000000  \n",
       "1    1.0                0.0                                0.812689  \n",
       "2    1.0                0.0                                0.000000  \n",
       "3    0.0                0.0                                1.000000  \n",
       "4    1.0                1.0                                1.000000  "
      ]
     },
     "execution_count": 10,
     "metadata": {},
     "output_type": "execute_result"
    }
   ],
   "source": [
    "df.head()"
   ]
  },
  {
   "cell_type": "code",
   "execution_count": 11,
   "metadata": {
    "collapsed": false
   },
   "outputs": [],
   "source": [
    "y, X = dmatrices('Party ~ handicapped_infants + water_project_cost_sharing\\\n",
    "        + adoption_of_the_budget_resolution + physician_fee_freeze + el_salvador_aid\\\n",
    "             + religious_groups_in_schools + anti_satellite_test_ban + aid_to_nicaraguan_contras\\\n",
    "             + mx_missile + immigration + synfuels_corporation_cutback + education_spending + superfund_right_to_sue\\\n",
    "             + crime + duty_free_exports + export_administration_act_south_africa', data=df, return_type='dataframe')"
   ]
  },
  {
   "cell_type": "code",
   "execution_count": 12,
   "metadata": {
    "collapsed": false
   },
   "outputs": [],
   "source": [
    "x_train, x_test, y_train, y_test = cv.train_test_split(X,y,test_size=.30, random_state=4444)"
   ]
  },
  {
   "cell_type": "markdown",
   "metadata": {},
   "source": [
    "# <a id='question3'></a>\n",
    "# Question 3   \n",
    "[Top](#top)"
   ]
  },
  {
   "cell_type": "code",
   "execution_count": 13,
   "metadata": {
    "collapsed": false
   },
   "outputs": [],
   "source": [
    "from sklearn.neighbors import KNeighborsClassifier\n",
    "from sklearn.metrics import accuracy_score"
   ]
  },
  {
   "cell_type": "code",
   "execution_count": 14,
   "metadata": {
    "collapsed": false
   },
   "outputs": [
    {
     "name": "stdout",
     "output_type": "stream",
     "text": [
      "The accuracy score when K is 1 is: 0.900763358779\n",
      "The accuracy score when K is 2 is: 0.916030534351\n",
      "The accuracy score when K is 3 is: 0.900763358779\n",
      "The accuracy score when K is 4 is: 0.931297709924\n",
      "The accuracy score when K is 5 is: 0.916030534351\n",
      "The accuracy score when K is 6 is: 0.916030534351\n",
      "The accuracy score when K is 7 is: 0.916030534351\n",
      "The accuracy score when K is 8 is: 0.916030534351\n",
      "The accuracy score when K is 9 is: 0.931297709924\n",
      "The accuracy score when K is 10 is: 0.916030534351\n",
      "The accuracy score when K is 11 is: 0.923664122137\n",
      "The accuracy score when K is 12 is: 0.923664122137\n",
      "The accuracy score when K is 13 is: 0.923664122137\n",
      "The accuracy score when K is 14 is: 0.923664122137\n",
      "The accuracy score when K is 15 is: 0.923664122137\n",
      "The accuracy score when K is 16 is: 0.923664122137\n",
      "The accuracy score when K is 17 is: 0.923664122137\n",
      "The accuracy score when K is 18 is: 0.908396946565\n",
      "The accuracy score when K is 19 is: 0.916030534351\n",
      "The accuracy score when K is 20 is: 0.916030534351\n"
     ]
    },
    {
     "name": "stderr",
     "output_type": "stream",
     "text": [
      "/Users/whitneychia/anaconda/lib/python2.7/site-packages/ipykernel/__main__.py:3: DataConversionWarning: A column-vector y was passed when a 1d array was expected. Please change the shape of y to (n_samples, ), for example using ravel().\n",
      "  app.launch_new_instance()\n",
      "/Users/whitneychia/anaconda/lib/python2.7/site-packages/ipykernel/__main__.py:3: DataConversionWarning: A column-vector y was passed when a 1d array was expected. Please change the shape of y to (n_samples, ), for example using ravel().\n",
      "  app.launch_new_instance()\n",
      "/Users/whitneychia/anaconda/lib/python2.7/site-packages/ipykernel/__main__.py:3: DataConversionWarning: A column-vector y was passed when a 1d array was expected. Please change the shape of y to (n_samples, ), for example using ravel().\n",
      "  app.launch_new_instance()\n",
      "/Users/whitneychia/anaconda/lib/python2.7/site-packages/ipykernel/__main__.py:3: DataConversionWarning: A column-vector y was passed when a 1d array was expected. Please change the shape of y to (n_samples, ), for example using ravel().\n",
      "  app.launch_new_instance()\n",
      "/Users/whitneychia/anaconda/lib/python2.7/site-packages/ipykernel/__main__.py:3: DataConversionWarning: A column-vector y was passed when a 1d array was expected. Please change the shape of y to (n_samples, ), for example using ravel().\n",
      "  app.launch_new_instance()\n",
      "/Users/whitneychia/anaconda/lib/python2.7/site-packages/ipykernel/__main__.py:3: DataConversionWarning: A column-vector y was passed when a 1d array was expected. Please change the shape of y to (n_samples, ), for example using ravel().\n",
      "  app.launch_new_instance()\n",
      "/Users/whitneychia/anaconda/lib/python2.7/site-packages/ipykernel/__main__.py:3: DataConversionWarning: A column-vector y was passed when a 1d array was expected. Please change the shape of y to (n_samples, ), for example using ravel().\n",
      "  app.launch_new_instance()\n",
      "/Users/whitneychia/anaconda/lib/python2.7/site-packages/ipykernel/__main__.py:3: DataConversionWarning: A column-vector y was passed when a 1d array was expected. Please change the shape of y to (n_samples, ), for example using ravel().\n",
      "  app.launch_new_instance()\n",
      "/Users/whitneychia/anaconda/lib/python2.7/site-packages/ipykernel/__main__.py:3: DataConversionWarning: A column-vector y was passed when a 1d array was expected. Please change the shape of y to (n_samples, ), for example using ravel().\n",
      "  app.launch_new_instance()\n",
      "/Users/whitneychia/anaconda/lib/python2.7/site-packages/ipykernel/__main__.py:3: DataConversionWarning: A column-vector y was passed when a 1d array was expected. Please change the shape of y to (n_samples, ), for example using ravel().\n",
      "  app.launch_new_instance()\n",
      "/Users/whitneychia/anaconda/lib/python2.7/site-packages/ipykernel/__main__.py:3: DataConversionWarning: A column-vector y was passed when a 1d array was expected. Please change the shape of y to (n_samples, ), for example using ravel().\n",
      "  app.launch_new_instance()\n",
      "/Users/whitneychia/anaconda/lib/python2.7/site-packages/ipykernel/__main__.py:3: DataConversionWarning: A column-vector y was passed when a 1d array was expected. Please change the shape of y to (n_samples, ), for example using ravel().\n",
      "  app.launch_new_instance()\n",
      "/Users/whitneychia/anaconda/lib/python2.7/site-packages/ipykernel/__main__.py:3: DataConversionWarning: A column-vector y was passed when a 1d array was expected. Please change the shape of y to (n_samples, ), for example using ravel().\n",
      "  app.launch_new_instance()\n",
      "/Users/whitneychia/anaconda/lib/python2.7/site-packages/ipykernel/__main__.py:3: DataConversionWarning: A column-vector y was passed when a 1d array was expected. Please change the shape of y to (n_samples, ), for example using ravel().\n",
      "  app.launch_new_instance()\n",
      "/Users/whitneychia/anaconda/lib/python2.7/site-packages/ipykernel/__main__.py:3: DataConversionWarning: A column-vector y was passed when a 1d array was expected. Please change the shape of y to (n_samples, ), for example using ravel().\n",
      "  app.launch_new_instance()\n",
      "/Users/whitneychia/anaconda/lib/python2.7/site-packages/ipykernel/__main__.py:3: DataConversionWarning: A column-vector y was passed when a 1d array was expected. Please change the shape of y to (n_samples, ), for example using ravel().\n",
      "  app.launch_new_instance()\n",
      "/Users/whitneychia/anaconda/lib/python2.7/site-packages/ipykernel/__main__.py:3: DataConversionWarning: A column-vector y was passed when a 1d array was expected. Please change the shape of y to (n_samples, ), for example using ravel().\n",
      "  app.launch_new_instance()\n",
      "/Users/whitneychia/anaconda/lib/python2.7/site-packages/ipykernel/__main__.py:3: DataConversionWarning: A column-vector y was passed when a 1d array was expected. Please change the shape of y to (n_samples, ), for example using ravel().\n",
      "  app.launch_new_instance()\n",
      "/Users/whitneychia/anaconda/lib/python2.7/site-packages/ipykernel/__main__.py:3: DataConversionWarning: A column-vector y was passed when a 1d array was expected. Please change the shape of y to (n_samples, ), for example using ravel().\n",
      "  app.launch_new_instance()\n",
      "/Users/whitneychia/anaconda/lib/python2.7/site-packages/ipykernel/__main__.py:3: DataConversionWarning: A column-vector y was passed when a 1d array was expected. Please change the shape of y to (n_samples, ), for example using ravel().\n",
      "  app.launch_new_instance()\n"
     ]
    }
   ],
   "source": [
    "for i in range(1,21):\n",
    "    KNN = KNeighborsClassifier(n_neighbors=i)\n",
    "    KNN.fit(x_train, y_train)\n",
    "    pred = KNN.predict(x_test)\n",
    "    print 'The accuracy score when K is ' + str(i) + ' is: ' + str(accuracy_score(y_test, pred))"
   ]
  },
  {
   "cell_type": "markdown",
   "metadata": {},
   "source": [
    "The K value with the highest accuracy score is 4 or 9, which have an accuracy score of 0.931297709924."
   ]
  },
  {
   "cell_type": "markdown",
   "metadata": {},
   "source": [
    "# <a id='question4'></a>\n",
    "# Question 4   \n",
    "[Top](#top)"
   ]
  },
  {
   "cell_type": "code",
   "execution_count": 15,
   "metadata": {
    "collapsed": false
   },
   "outputs": [],
   "source": [
    "from sklearn.linear_model import LogisticRegression"
   ]
  },
  {
   "cell_type": "code",
   "execution_count": 16,
   "metadata": {
    "collapsed": false
   },
   "outputs": [
    {
     "name": "stdout",
     "output_type": "stream",
     "text": [
      "the accuracy_score of logistic regression is: 0.93893129771\n"
     ]
    },
    {
     "name": "stderr",
     "output_type": "stream",
     "text": [
      "/Users/whitneychia/anaconda/lib/python2.7/site-packages/sklearn/utils/validation.py:515: DataConversionWarning: A column-vector y was passed when a 1d array was expected. Please change the shape of y to (n_samples, ), for example using ravel().\n",
      "  y = column_or_1d(y, warn=True)\n"
     ]
    }
   ],
   "source": [
    "logreg = LogisticRegression(C=10)\n",
    "logreg.fit(x_train, y_train)\n",
    "pred = logreg.predict(x_test)\n",
    "print 'the accuracy_score of logistic regression is: ' + str(accuracy_score(y_test, pred))"
   ]
  },
  {
   "cell_type": "markdown",
   "metadata": {},
   "source": [
    "# <a id='question5'></a>\n",
    "# Question 5  \n",
    "[Top](#top)"
   ]
  },
  {
   "cell_type": "code",
   "execution_count": 17,
   "metadata": {
    "collapsed": false
   },
   "outputs": [
    {
     "data": {
      "text/plain": [
       "[<matplotlib.text.Text at 0x1174606d0>,\n",
       " <matplotlib.text.Text at 0x11743f790>,\n",
       " <matplotlib.text.Text at 0x117498090>]"
      ]
     },
     "execution_count": 17,
     "metadata": {},
     "output_type": "execute_result"
    },
    {
     "data": {
      "image/png": "[encoded data removed]",
      "text/plain": [
       "<matplotlib.figure.Figure at 0x1039febd0>"
      ]
     },
     "metadata": {},
     "output_type": "display_data"
    }
   ],
   "source": [
    "figsize = (4, 5)\n",
    "\n",
    "ax = sns.countplot(df['Party'], data=df)\n",
    "ax.set(xlabel=\"party\",ylabel=\"Count\",title = \"Party Distribution\")"
   ]
  },
  {
   "cell_type": "code",
   "execution_count": 18,
   "metadata": {
    "collapsed": false
   },
   "outputs": [
    {
     "name": "stdout",
     "output_type": "stream",
     "text": [
      "There are 267 democrats and 168 republicans.\n",
      "This means you are 61.38% likely to be democrat and 38.62% republican with a random guess.\n"
     ]
    }
   ],
   "source": [
    "print 'There are ' + str(len(df[df['Party'] == 1])) + ' democrats and '\\\n",
    "+ str(len(df[df['Party'] == 0])) + ' republicans.'\n",
    "print 'This means you are 61.38% likely to be democrat and 38.62% republican with a random guess.'"
   ]
  },
  {
   "cell_type": "code",
   "execution_count": 19,
   "metadata": {
    "collapsed": false
   },
   "outputs": [],
   "source": [
    "def pred_democrat(X):\n",
    "    dem_array = np.ones(len(X,))\n",
    "    return dem_array"
   ]
  },
  {
   "cell_type": "code",
   "execution_count": 20,
   "metadata": {
    "collapsed": false
   },
   "outputs": [
    {
     "name": "stdout",
     "output_type": "stream",
     "text": [
      "0.587786259542\n",
      "This is about in line with our assumption that you would be democrat 61.38% of the times.\n"
     ]
    }
   ],
   "source": [
    "print accuracy_score(y_test, pred_democrat(y_test))\n",
    "print 'This is about in line with our assumption that you would be democrat 61.38% of the times.'"
   ]
  },
  {
   "cell_type": "code",
   "execution_count": 21,
   "metadata": {
    "collapsed": true
   },
   "outputs": [],
   "source": [
    "def pred_republican(X):\n",
    "    rep_array = np.zeros(len(X,))\n",
    "    return rep_array"
   ]
  },
  {
   "cell_type": "code",
   "execution_count": 22,
   "metadata": {
    "collapsed": false
   },
   "outputs": [
    {
     "name": "stdout",
     "output_type": "stream",
     "text": [
      "0.412213740458\n",
      "This is about in line with our assumption that you would be republican 38.62% of the times.\n"
     ]
    }
   ],
   "source": [
    "print accuracy_score(y_test, pred_republican(y_test))\n",
    "print 'This is about in line with our assumption that you would be republican 38.62% of the times.'"
   ]
  },
  {
   "cell_type": "markdown",
   "metadata": {},
   "source": [
    "# <a id='question6'></a>\n",
    "# Question 6  \n",
    "[Top](#top)"
   ]
  },
  {
   "cell_type": "code",
   "execution_count": 23,
   "metadata": {
    "collapsed": false
   },
   "outputs": [],
   "source": [
    "log_reg_acc = np.array(0.93893129771)\n",
    "log_reg_acc = np.repeat(log_reg_acc, 20)"
   ]
  },
  {
   "cell_type": "code",
   "execution_count": 24,
   "metadata": {
    "collapsed": true
   },
   "outputs": [],
   "source": [
    "KNN_acc =(0.900763358779 ,0.916030534351 ,0.900763358779 ,0.931297709924 ,0.916030534351\\\n",
    "          ,0.916030534351 ,0.916030534351 ,0.916030534351 ,0.931297709924 ,0.916030534351\\\n",
    "          ,0.923664122137 ,0.923664122137 ,0.923664122137 ,0.923664122137 ,0.923664122137\\\n",
    "          ,0.923664122137 ,0.923664122137 ,0.908396946565 ,0.916030534351 ,0.916030534351)"
   ]
  },
  {
   "cell_type": "code",
   "execution_count": 25,
   "metadata": {
    "collapsed": false
   },
   "outputs": [],
   "source": [
    "y_values = ([log_reg_acc, KNN_acc])\n",
    "x_values = (0,20)"
   ]
  },
  {
   "cell_type": "code",
   "execution_count": 26,
   "metadata": {
    "collapsed": false
   },
   "outputs": [
    {
     "data": {
      "image/png": "[encoded data removed]",
      "text/plain": [
       "<matplotlib.figure.Figure at 0x1174a3290>"
      ]
     },
     "metadata": {},
     "output_type": "display_data"
    }
   ],
   "source": [
    "plt.xlabel('K') \n",
    "plt.ylabel('accuracy score')\n",
    "ax=plt.subplot(111)\n",
    "ax.set_xlim(1, 20)\n",
    "dim=np.arange(1,21,1)\n",
    "ax.plot(np.append(np.roll(KNN_acc,1),KNN_acc[1]),'ro', color='r', linewidth=1.0, label=\"Accuracy Score\")\n",
    "ax.plot(np.append(np.roll(log_reg_acc,1),log_reg_acc[1]),'ro', color='b', linewidth=1.0, label=\"Accuracy Score\")\n",
    "KNN = mpatches.Patch(color='red', label='KNN')\n",
    "log_reg = mpatches.Patch(color='blue', label='log_reg')\n",
    "plt.legend(handles=[KNN, log_reg], loc=0)\n",
    "plt.show()"
   ]
  },
  {
   "cell_type": "markdown",
   "metadata": {},
   "source": [
    "# <a id='question7'></a>\n",
    "# Question 7  \n",
    "[Top](#top)"
   ]
  },
  {
   "cell_type": "code",
   "execution_count": 27,
   "metadata": {
    "collapsed": true
   },
   "outputs": [],
   "source": [
    "from sklearn.learning_curve import learning_curve"
   ]
  },
  {
   "cell_type": "code",
   "execution_count": 28,
   "metadata": {
    "collapsed": false
   },
   "outputs": [
    {
     "data": {
      "text/plain": [
       "(array([ 29,  32,  35,  38,  42,  45,  48,  52,  55,  58,  62,  65,  68,\n",
       "         71,  75,  78,  81,  85,  88,  91,  95,  98, 101, 104, 108, 111,\n",
       "        114, 118, 121, 124, 128, 131, 134, 138, 141, 144, 147, 151, 154,\n",
       "        157, 161, 164, 167, 171, 174, 177, 180, 184, 187, 190, 194, 197,\n",
       "        200, 204, 207, 210, 214, 217, 220, 223, 227, 230, 233, 237, 240,\n",
       "        243, 247, 250, 253, 256, 260, 263, 266, 270, 273, 276, 280, 283,\n",
       "        286, 290]), array([[ 1.        ,  1.        ,  1.        ],\n",
       "        [ 1.        ,  1.        ,  1.        ],\n",
       "        [ 1.        ,  1.        ,  1.        ],\n",
       "        [ 1.        ,  1.        ,  1.        ],\n",
       "        [ 1.        ,  1.        ,  1.        ],\n",
       "        [ 1.        ,  1.        ,  1.        ],\n",
       "        [ 1.        ,  1.        ,  1.        ],\n",
       "        [ 1.        ,  1.        ,  1.        ],\n",
       "        [ 1.        ,  1.        ,  1.        ],\n",
       "        [ 1.        ,  1.        ,  1.        ],\n",
       "        [ 1.        ,  1.        ,  1.        ],\n",
       "        [ 1.        ,  1.        ,  1.        ],\n",
       "        [ 1.        ,  1.        ,  1.        ],\n",
       "        [ 1.        ,  1.        ,  1.        ],\n",
       "        [ 1.        ,  1.        ,  1.        ],\n",
       "        [ 1.        ,  1.        ,  1.        ],\n",
       "        [ 1.        ,  1.        ,  1.        ],\n",
       "        [ 1.        ,  1.        ,  1.        ],\n",
       "        [ 1.        ,  1.        ,  1.        ],\n",
       "        [ 1.        ,  1.        ,  1.        ],\n",
       "        [ 1.        ,  1.        ,  1.        ],\n",
       "        [ 1.        ,  1.        ,  1.        ],\n",
       "        [ 1.        ,  1.        ,  1.        ],\n",
       "        [ 0.99038462,  1.        ,  1.        ],\n",
       "        [ 0.99074074,  0.98148148,  0.98148148],\n",
       "        [ 0.99099099,  0.98198198,  0.98198198],\n",
       "        [ 0.99122807,  0.98245614,  0.98245614],\n",
       "        [ 0.99152542,  0.98305085,  0.98305085],\n",
       "        [ 0.99173554,  0.98347107,  0.98347107],\n",
       "        [ 0.99193548,  0.98387097,  0.98387097],\n",
       "        [ 0.9921875 ,  0.984375  ,  0.984375  ],\n",
       "        [ 0.99236641,  0.98473282,  0.98473282],\n",
       "        [ 0.99253731,  0.98507463,  0.98507463],\n",
       "        [ 0.99275362,  0.98550725,  0.98550725],\n",
       "        [ 0.9929078 ,  0.9858156 ,  0.9858156 ],\n",
       "        [ 0.99305556,  0.98611111,  0.98611111],\n",
       "        [ 0.99319728,  0.98639456,  0.98639456],\n",
       "        [ 0.99337748,  0.98675497,  0.98675497],\n",
       "        [ 0.99350649,  0.98701299,  0.98701299],\n",
       "        [ 0.99363057,  0.98726115,  0.98726115],\n",
       "        [ 0.99378882,  0.98757764,  0.98757764],\n",
       "        [ 0.99390244,  0.98780488,  0.98780488],\n",
       "        [ 0.99401198,  0.98802395,  0.98802395],\n",
       "        [ 0.99415205,  0.98830409,  0.98830409],\n",
       "        [ 0.99425287,  0.98850575,  0.98850575],\n",
       "        [ 0.99435028,  0.98870056,  0.98870056],\n",
       "        [ 0.99444444,  0.98888889,  0.98888889],\n",
       "        [ 0.98369565,  0.97826087,  0.98913043],\n",
       "        [ 0.98395722,  0.97860963,  0.98930481],\n",
       "        [ 0.98421053,  0.97894737,  0.98947368],\n",
       "        [ 0.98453608,  0.97938144,  0.98969072],\n",
       "        [ 0.98477157,  0.97969543,  0.98984772],\n",
       "        [ 0.985     ,  0.98      ,  0.99      ],\n",
       "        [ 0.98529412,  0.98039216,  0.99019608],\n",
       "        [ 0.98550725,  0.98067633,  0.99033816],\n",
       "        [ 0.98571429,  0.98095238,  0.99047619],\n",
       "        [ 0.98598131,  0.98130841,  0.99065421],\n",
       "        [ 0.98617512,  0.98156682,  0.99078341],\n",
       "        [ 0.98181818,  0.97727273,  0.99090909],\n",
       "        [ 0.98206278,  0.97757848,  0.99103139],\n",
       "        [ 0.98237885,  0.97797357,  0.99118943],\n",
       "        [ 0.98695652,  0.9826087 ,  0.99130435],\n",
       "        [ 0.98283262,  0.98712446,  0.99141631],\n",
       "        [ 0.98312236,  0.98734177,  0.99156118],\n",
       "        [ 0.97916667,  0.98333333,  0.99166667],\n",
       "        [ 0.97942387,  0.98353909,  0.98353909],\n",
       "        [ 0.97165992,  0.97975709,  0.98380567],\n",
       "        [ 0.968     ,  0.976     ,  0.98      ],\n",
       "        [ 0.96837945,  0.97628458,  0.98023715],\n",
       "        [ 0.96875   ,  0.97265625,  0.98046875],\n",
       "        [ 0.97307692,  0.97307692,  0.98076923],\n",
       "        [ 0.96958175,  0.96958175,  0.98098859],\n",
       "        [ 0.96992481,  0.96992481,  0.98120301],\n",
       "        [ 0.97037037,  0.97037037,  0.98148148],\n",
       "        [ 0.97069597,  0.97069597,  0.98168498],\n",
       "        [ 0.9673913 ,  0.97101449,  0.98188406],\n",
       "        [ 0.96785714,  0.97142857,  0.98214286],\n",
       "        [ 0.96819788,  0.97173145,  0.98233216],\n",
       "        [ 0.96853147,  0.97202797,  0.98251748],\n",
       "        [ 0.96896552,  0.97586207,  0.98275862]]), array([[ 0.96551724,  0.88965517,  0.88275862],\n",
       "        [ 0.96551724,  0.88965517,  0.88275862],\n",
       "        [ 0.96551724,  0.88965517,  0.88275862],\n",
       "        [ 0.96551724,  0.88965517,  0.88275862],\n",
       "        [ 0.96551724,  0.88965517,  0.87586207],\n",
       "        [ 0.96551724,  0.88965517,  0.87586207],\n",
       "        [ 0.96551724,  0.88965517,  0.87586207],\n",
       "        [ 0.96551724,  0.88965517,  0.88275862],\n",
       "        [ 0.96551724,  0.88965517,  0.87586207],\n",
       "        [ 0.96551724,  0.88965517,  0.87586207],\n",
       "        [ 0.97241379,  0.88965517,  0.87586207],\n",
       "        [ 0.97241379,  0.88965517,  0.87586207],\n",
       "        [ 0.97241379,  0.88965517,  0.87586207],\n",
       "        [ 0.97931034,  0.88965517,  0.87586207],\n",
       "        [ 0.97931034,  0.92413793,  0.91034483],\n",
       "        [ 0.97931034,  0.91724138,  0.88275862],\n",
       "        [ 0.97931034,  0.91724138,  0.88275862],\n",
       "        [ 0.97931034,  0.91724138,  0.87586207],\n",
       "        [ 0.97931034,  0.92413793,  0.87586207],\n",
       "        [ 0.97931034,  0.92413793,  0.88275862],\n",
       "        [ 0.97931034,  0.92413793,  0.88275862],\n",
       "        [ 0.97931034,  0.91724138,  0.88275862],\n",
       "        [ 0.97931034,  0.92413793,  0.91724138],\n",
       "        [ 0.96551724,  0.92413793,  0.91034483],\n",
       "        [ 0.96551724,  0.94482759,  0.90344828],\n",
       "        [ 0.96551724,  0.94482759,  0.90344828],\n",
       "        [ 0.96551724,  0.94482759,  0.90344828],\n",
       "        [ 0.96551724,  0.94482759,  0.90344828],\n",
       "        [ 0.96551724,  0.94482759,  0.90344828],\n",
       "        [ 0.95862069,  0.94482759,  0.90344828],\n",
       "        [ 0.95862069,  0.94482759,  0.90344828],\n",
       "        [ 0.95862069,  0.94482759,  0.90344828],\n",
       "        [ 0.95862069,  0.94482759,  0.90344828],\n",
       "        [ 0.95862069,  0.94482759,  0.91034483],\n",
       "        [ 0.95862069,  0.94482759,  0.91034483],\n",
       "        [ 0.95862069,  0.94482759,  0.91034483],\n",
       "        [ 0.96551724,  0.94482759,  0.90344828],\n",
       "        [ 0.96551724,  0.93793103,  0.91724138],\n",
       "        [ 0.96551724,  0.96551724,  0.91724138],\n",
       "        [ 0.96551724,  0.96551724,  0.91724138],\n",
       "        [ 0.96551724,  0.96551724,  0.91724138],\n",
       "        [ 0.96551724,  0.96551724,  0.91724138],\n",
       "        [ 0.97241379,  0.96551724,  0.93103448],\n",
       "        [ 0.97241379,  0.96551724,  0.93793103],\n",
       "        [ 0.97241379,  0.96551724,  0.93793103],\n",
       "        [ 0.97241379,  0.96551724,  0.93793103],\n",
       "        [ 0.97241379,  0.96551724,  0.93793103],\n",
       "        [ 0.95862069,  0.96551724,  0.93793103],\n",
       "        [ 0.95862069,  0.96551724,  0.93793103],\n",
       "        [ 0.95862069,  0.96551724,  0.93793103],\n",
       "        [ 0.95862069,  0.96551724,  0.93793103],\n",
       "        [ 0.96551724,  0.96551724,  0.93793103],\n",
       "        [ 0.96551724,  0.96551724,  0.93793103],\n",
       "        [ 0.95862069,  0.96551724,  0.93793103],\n",
       "        [ 0.95862069,  0.96551724,  0.93793103],\n",
       "        [ 0.96551724,  0.96551724,  0.93793103],\n",
       "        [ 0.96551724,  0.96551724,  0.93793103],\n",
       "        [ 0.97241379,  0.96551724,  0.93793103],\n",
       "        [ 0.96551724,  0.96551724,  0.93793103],\n",
       "        [ 0.96551724,  0.96551724,  0.93793103],\n",
       "        [ 0.96551724,  0.96551724,  0.94482759],\n",
       "        [ 0.97931034,  0.96551724,  0.93793103],\n",
       "        [ 0.97931034,  0.96551724,  0.93793103],\n",
       "        [ 0.97931034,  0.96551724,  0.93793103],\n",
       "        [ 0.97931034,  0.97241379,  0.94482759],\n",
       "        [ 0.97931034,  0.97241379,  0.93793103],\n",
       "        [ 0.97241379,  0.97241379,  0.93793103],\n",
       "        [ 0.97241379,  0.97241379,  0.95172414],\n",
       "        [ 0.97241379,  0.97241379,  0.95172414],\n",
       "        [ 0.97241379,  0.97241379,  0.95172414],\n",
       "        [ 0.97241379,  0.97241379,  0.95172414],\n",
       "        [ 0.97241379,  0.97931034,  0.94482759],\n",
       "        [ 0.97241379,  0.97931034,  0.94482759],\n",
       "        [ 0.97241379,  0.97931034,  0.95172414],\n",
       "        [ 0.97241379,  0.97931034,  0.95172414],\n",
       "        [ 0.97241379,  0.97931034,  0.95172414],\n",
       "        [ 0.97241379,  0.97931034,  0.95172414],\n",
       "        [ 0.97241379,  0.97931034,  0.95172414],\n",
       "        [ 0.97241379,  0.97931034,  0.95172414],\n",
       "        [ 0.97931034,  0.97931034,  0.95172414]]))"
      ]
     },
     "execution_count": 28,
     "metadata": {},
     "output_type": "execute_result"
    }
   ],
   "source": [
    "log_learn = learning_curve(logreg, df.values[:,1:], df.values[:,0], train_sizes = np.linspace(0.1, 1.0, 80))\n",
    "log_learn"
   ]
  },
  {
   "cell_type": "code",
   "execution_count": 29,
   "metadata": {
    "collapsed": true
   },
   "outputs": [],
   "source": [
    "train_cv_log_reg_err = np.mean(log_learn[1], axis=1)\n",
    "test_cv_log_reg_err = np.mean(log_learn[2], axis=1)\n",
    "m = log_learn[0]"
   ]
  },
  {
   "cell_type": "code",
   "execution_count": 30,
   "metadata": {
    "collapsed": false
   },
   "outputs": [
    {
     "data": {
      "text/plain": [
       "<matplotlib.text.Text at 0x1182d3d50>"
      ]
     },
     "execution_count": 30,
     "metadata": {},
     "output_type": "execute_result"
    },
    {
     "data": {
      "image/png": "[encoded data removed]",
      "text/plain": [
       "<matplotlib.figure.Figure at 0x117d9bf90>"
      ]
     },
     "metadata": {},
     "output_type": "display_data"
    }
   ],
   "source": [
    "plt.plot(m, train_cv_log_reg_err, 'red')\n",
    "plt.plot(m, test_cv_log_reg_err, 'blue')\n",
    "red = mpatches.Patch(color='red', label='training error')\n",
    "blue = mpatches.Patch(color='blue', label='testing error')\n",
    "plt.legend(handles=[red, blue], loc = 0 )\n",
    "plt.title('Training and Test error of Logistic Regression model')"
   ]
  },
  {
   "cell_type": "code",
   "execution_count": 31,
   "metadata": {
    "collapsed": false
   },
   "outputs": [
    {
     "data": {
      "text/plain": [
       "(array([ 29,  31,  34,  36,  39,  42,  44,  47,  50,  52,  55,  58,  60,\n",
       "         63,  65,  68,  71,  73,  76,  79,  81,  84,  87,  89,  92,  94,\n",
       "         97, 100, 102, 105, 108, 110, 113, 116, 118, 121, 123, 126, 129,\n",
       "        131, 134, 137, 139, 142, 145, 147, 150, 152, 155, 158, 160, 163,\n",
       "        166, 168, 171, 174, 176, 179, 181, 184, 187, 189, 192, 195, 197,\n",
       "        200, 203, 205, 208, 210, 213, 216, 218, 221, 224, 226, 229, 231,\n",
       "        234, 237, 239, 242, 245, 247, 250, 253, 255, 258, 261, 263, 266,\n",
       "        268, 271, 274, 276, 279, 282, 284, 287, 290]),\n",
       " array([[ 0.82758621,  0.89655172,  0.89655172],\n",
       "        [ 0.83870968,  0.90322581,  0.90322581],\n",
       "        [ 0.82352941,  0.91176471,  0.91176471],\n",
       "        [ 0.83333333,  0.91666667,  0.91666667],\n",
       "        [ 0.84615385,  0.92307692,  0.92307692],\n",
       "        [ 0.85714286,  0.92857143,  0.92857143],\n",
       "        [ 0.86363636,  0.93181818,  0.93181818],\n",
       "        [ 0.85106383,  0.93617021,  0.93617021],\n",
       "        [ 0.86      ,  0.94      ,  0.94      ],\n",
       "        [ 0.86538462,  0.94230769,  0.94230769],\n",
       "        [ 0.87272727,  0.94545455,  0.94545455],\n",
       "        [ 0.87931034,  0.94827586,  0.94827586],\n",
       "        [ 0.88333333,  0.95      ,  0.95      ],\n",
       "        [ 0.88888889,  0.95238095,  0.95238095],\n",
       "        [ 0.89230769,  0.95384615,  0.95384615],\n",
       "        [ 0.89705882,  0.95588235,  0.95588235],\n",
       "        [ 0.90140845,  0.95774648,  0.95774648],\n",
       "        [ 0.89041096,  0.94520548,  0.94520548],\n",
       "        [ 0.90789474,  0.96052632,  0.96052632],\n",
       "        [ 0.91139241,  0.93670886,  0.93670886],\n",
       "        [ 0.90123457,  0.9382716 ,  0.9382716 ],\n",
       "        [ 0.9047619 ,  0.94047619,  0.94047619],\n",
       "        [ 0.89655172,  0.94252874,  0.94252874],\n",
       "        [ 0.8988764 ,  0.94382022,  0.94382022],\n",
       "        [ 0.89130435,  0.94565217,  0.94565217],\n",
       "        [ 0.89361702,  0.94680851,  0.94680851],\n",
       "        [ 0.89690722,  0.93814433,  0.93814433],\n",
       "        [ 0.9       ,  0.94      ,  0.94      ],\n",
       "        [ 0.90196078,  0.94117647,  0.94117647],\n",
       "        [ 0.9047619 ,  0.94285714,  0.94285714],\n",
       "        [ 0.90740741,  0.94444444,  0.94444444],\n",
       "        [ 0.90909091,  0.94545455,  0.94545455],\n",
       "        [ 0.91150442,  0.94690265,  0.94690265],\n",
       "        [ 0.9137931 ,  0.94827586,  0.94827586],\n",
       "        [ 0.91525424,  0.94915254,  0.94915254],\n",
       "        [ 0.91735537,  0.95041322,  0.95041322],\n",
       "        [ 0.91056911,  0.95121951,  0.95121951],\n",
       "        [ 0.91269841,  0.95238095,  0.95238095],\n",
       "        [ 0.91472868,  0.95348837,  0.95348837],\n",
       "        [ 0.90839695,  0.94656489,  0.94656489],\n",
       "        [ 0.91044776,  0.94776119,  0.94776119],\n",
       "        [ 0.91240876,  0.94890511,  0.94890511],\n",
       "        [ 0.91366906,  0.94964029,  0.94964029],\n",
       "        [ 0.91549296,  0.94366197,  0.95070423],\n",
       "        [ 0.91724138,  0.94482759,  0.95172414],\n",
       "        [ 0.91836735,  0.94557823,  0.95238095],\n",
       "        [ 0.92      ,  0.94666667,  0.94666667],\n",
       "        [ 0.92105263,  0.94736842,  0.94078947],\n",
       "        [ 0.92258065,  0.9483871 ,  0.94193548],\n",
       "        [ 0.92405063,  0.9556962 ,  0.93670886],\n",
       "        [ 0.925     ,  0.95625   ,  0.9375    ],\n",
       "        [ 0.92638037,  0.95705521,  0.93865031],\n",
       "        [ 0.92771084,  0.95783133,  0.93373494],\n",
       "        [ 0.92857143,  0.95238095,  0.92857143],\n",
       "        [ 0.92982456,  0.94736842,  0.92397661],\n",
       "        [ 0.93103448,  0.95402299,  0.91954023],\n",
       "        [ 0.93181818,  0.95454545,  0.92045455],\n",
       "        [ 0.93296089,  0.95530726,  0.91620112],\n",
       "        [ 0.9281768 ,  0.95027624,  0.91712707],\n",
       "        [ 0.93478261,  0.95652174,  0.91847826],\n",
       "        [ 0.93048128,  0.95721925,  0.9197861 ],\n",
       "        [ 0.93121693,  0.95238095,  0.92592593],\n",
       "        [ 0.9375    ,  0.953125  ,  0.92708333],\n",
       "        [ 0.93333333,  0.95897436,  0.92820513],\n",
       "        [ 0.93401015,  0.95939086,  0.92385787],\n",
       "        [ 0.94      ,  0.955     ,  0.93      ],\n",
       "        [ 0.93596059,  0.96059113,  0.93596059],\n",
       "        [ 0.93658537,  0.95609756,  0.93658537],\n",
       "        [ 0.9375    ,  0.95673077,  0.93269231],\n",
       "        [ 0.93809524,  0.96190476,  0.93809524],\n",
       "        [ 0.9342723 ,  0.95774648,  0.9342723 ],\n",
       "        [ 0.93518519,  0.95833333,  0.93518519],\n",
       "        [ 0.93577982,  0.9587156 ,  0.93577982],\n",
       "        [ 0.9321267 ,  0.95475113,  0.9321267 ],\n",
       "        [ 0.93303571,  0.95535714,  0.9375    ],\n",
       "        [ 0.93362832,  0.95575221,  0.93362832],\n",
       "        [ 0.93449782,  0.95633188,  0.93886463],\n",
       "        [ 0.93073593,  0.95238095,  0.93939394],\n",
       "        [ 0.93162393,  0.95299145,  0.94017094],\n",
       "        [ 0.93248945,  0.94936709,  0.94092827],\n",
       "        [ 0.93305439,  0.94979079,  0.94142259],\n",
       "        [ 0.92975207,  0.95041322,  0.94214876],\n",
       "        [ 0.93061224,  0.95102041,  0.93877551],\n",
       "        [ 0.93117409,  0.951417  ,  0.93927126],\n",
       "        [ 0.924     ,  0.948     ,  0.94      ],\n",
       "        [ 0.92885375,  0.9486166 ,  0.94071146],\n",
       "        [ 0.92941176,  0.94901961,  0.94117647],\n",
       "        [ 0.92635659,  0.94186047,  0.94573643],\n",
       "        [ 0.92720307,  0.93869732,  0.94636015],\n",
       "        [ 0.92015209,  0.94296578,  0.94676806],\n",
       "        [ 0.92105263,  0.94360902,  0.94736842],\n",
       "        [ 0.92164179,  0.94029851,  0.94402985],\n",
       "        [ 0.92250923,  0.93726937,  0.94464945],\n",
       "        [ 0.92335766,  0.9379562 ,  0.94160584],\n",
       "        [ 0.92028986,  0.93478261,  0.94202899],\n",
       "        [ 0.92473118,  0.93548387,  0.9390681 ],\n",
       "        [ 0.92553191,  0.93617021,  0.93971631],\n",
       "        [ 0.92605634,  0.94014085,  0.94014085],\n",
       "        [ 0.92682927,  0.93728223,  0.94076655],\n",
       "        [ 0.92758621,  0.93793103,  0.94137931]]),\n",
       " array([[ 0.94482759,  0.89655172,  0.90344828],\n",
       "        [ 0.94482759,  0.89655172,  0.89655172],\n",
       "        [ 0.94482759,  0.89655172,  0.89655172],\n",
       "        [ 0.94482759,  0.89655172,  0.89655172],\n",
       "        [ 0.94482759,  0.89655172,  0.88965517],\n",
       "        [ 0.94482759,  0.89655172,  0.88965517],\n",
       "        [ 0.94482759,  0.89655172,  0.88965517],\n",
       "        [ 0.94482759,  0.89655172,  0.88965517],\n",
       "        [ 0.94482759,  0.88965517,  0.88965517],\n",
       "        [ 0.93103448,  0.88965517,  0.88275862],\n",
       "        [ 0.93103448,  0.90344828,  0.88275862],\n",
       "        [ 0.93103448,  0.89655172,  0.88275862],\n",
       "        [ 0.92413793,  0.89655172,  0.88275862],\n",
       "        [ 0.91724138,  0.89655172,  0.88275862],\n",
       "        [ 0.91724138,  0.89655172,  0.88275862],\n",
       "        [ 0.91724138,  0.89655172,  0.88275862],\n",
       "        [ 0.93103448,  0.89655172,  0.88275862],\n",
       "        [ 0.93793103,  0.89655172,  0.88275862],\n",
       "        [ 0.93793103,  0.90344828,  0.88275862],\n",
       "        [ 0.93793103,  0.91724138,  0.89655172],\n",
       "        [ 0.93793103,  0.91034483,  0.89655172],\n",
       "        [ 0.93793103,  0.91034483,  0.89655172],\n",
       "        [ 0.93793103,  0.91034483,  0.89655172],\n",
       "        [ 0.93103448,  0.91724138,  0.89655172],\n",
       "        [ 0.93793103,  0.91034483,  0.88965517],\n",
       "        [ 0.93103448,  0.91034483,  0.88965517],\n",
       "        [ 0.93793103,  0.90344828,  0.90344828],\n",
       "        [ 0.91724138,  0.90344828,  0.90344828],\n",
       "        [ 0.92413793,  0.90344828,  0.91034483],\n",
       "        [ 0.91034483,  0.90344828,  0.91034483],\n",
       "        [ 0.91034483,  0.89655172,  0.91034483],\n",
       "        [ 0.91034483,  0.89655172,  0.91034483],\n",
       "        [ 0.91724138,  0.88965517,  0.91034483],\n",
       "        [ 0.91034483,  0.88965517,  0.91034483],\n",
       "        [ 0.91034483,  0.88965517,  0.91034483],\n",
       "        [ 0.91724138,  0.89655172,  0.91034483],\n",
       "        [ 0.91034483,  0.89655172,  0.91034483],\n",
       "        [ 0.91724138,  0.89655172,  0.91034483],\n",
       "        [ 0.91034483,  0.89655172,  0.91034483],\n",
       "        [ 0.91034483,  0.89655172,  0.91034483],\n",
       "        [ 0.91034483,  0.89655172,  0.91034483],\n",
       "        [ 0.92413793,  0.89655172,  0.91034483],\n",
       "        [ 0.92413793,  0.88965517,  0.90344828],\n",
       "        [ 0.91034483,  0.88965517,  0.91034483],\n",
       "        [ 0.91724138,  0.88965517,  0.91034483],\n",
       "        [ 0.92413793,  0.88965517,  0.90344828],\n",
       "        [ 0.92413793,  0.88965517,  0.91034483],\n",
       "        [ 0.93103448,  0.89655172,  0.91034483],\n",
       "        [ 0.91724138,  0.89655172,  0.91034483],\n",
       "        [ 0.92413793,  0.89655172,  0.91034483],\n",
       "        [ 0.93103448,  0.89655172,  0.91034483],\n",
       "        [ 0.93103448,  0.89655172,  0.91724138],\n",
       "        [ 0.92413793,  0.89655172,  0.91724138],\n",
       "        [ 0.93103448,  0.89655172,  0.93103448],\n",
       "        [ 0.93103448,  0.89655172,  0.92413793],\n",
       "        [ 0.91724138,  0.89655172,  0.92413793],\n",
       "        [ 0.91724138,  0.89655172,  0.93103448],\n",
       "        [ 0.93103448,  0.89655172,  0.91724138],\n",
       "        [ 0.93793103,  0.89655172,  0.92413793],\n",
       "        [ 0.94482759,  0.89655172,  0.91724138],\n",
       "        [ 0.94482759,  0.89655172,  0.91034483],\n",
       "        [ 0.94482759,  0.89655172,  0.91724138],\n",
       "        [ 0.93103448,  0.89655172,  0.91034483],\n",
       "        [ 0.93103448,  0.88965517,  0.91724138],\n",
       "        [ 0.93103448,  0.88965517,  0.91034483],\n",
       "        [ 0.93793103,  0.89655172,  0.91724138],\n",
       "        [ 0.93793103,  0.90344828,  0.91034483],\n",
       "        [ 0.93793103,  0.90344828,  0.92413793],\n",
       "        [ 0.93103448,  0.90344828,  0.92413793],\n",
       "        [ 0.93793103,  0.90344828,  0.91724138],\n",
       "        [ 0.93793103,  0.90344828,  0.92413793],\n",
       "        [ 0.93103448,  0.90344828,  0.92413793],\n",
       "        [ 0.93793103,  0.90344828,  0.92413793],\n",
       "        [ 0.93793103,  0.90344828,  0.92413793],\n",
       "        [ 0.93793103,  0.90344828,  0.92413793],\n",
       "        [ 0.93793103,  0.90344828,  0.92413793],\n",
       "        [ 0.93793103,  0.90344828,  0.92413793],\n",
       "        [ 0.93793103,  0.90344828,  0.92413793],\n",
       "        [ 0.93793103,  0.90344828,  0.92413793],\n",
       "        [ 0.93793103,  0.90344828,  0.92413793],\n",
       "        [ 0.93793103,  0.90344828,  0.92413793],\n",
       "        [ 0.93793103,  0.91034483,  0.92413793],\n",
       "        [ 0.93793103,  0.91034483,  0.92413793],\n",
       "        [ 0.93103448,  0.91034483,  0.92413793],\n",
       "        [ 0.93103448,  0.90344828,  0.91724138],\n",
       "        [ 0.94482759,  0.90344828,  0.91724138],\n",
       "        [ 0.94482759,  0.90344828,  0.91724138],\n",
       "        [ 0.94482759,  0.90344828,  0.91724138],\n",
       "        [ 0.94482759,  0.90344828,  0.91724138],\n",
       "        [ 0.94482759,  0.90344828,  0.91724138],\n",
       "        [ 0.94482759,  0.90344828,  0.91724138],\n",
       "        [ 0.95862069,  0.90344828,  0.91724138],\n",
       "        [ 0.95172414,  0.90344828,  0.91724138],\n",
       "        [ 0.95172414,  0.90344828,  0.91724138],\n",
       "        [ 0.94482759,  0.90344828,  0.91724138],\n",
       "        [ 0.94482759,  0.90344828,  0.91724138],\n",
       "        [ 0.95862069,  0.90344828,  0.91724138],\n",
       "        [ 0.95172414,  0.90344828,  0.91724138],\n",
       "        [ 0.95172414,  0.90344828,  0.91724138],\n",
       "        [ 0.95172414,  0.90344828,  0.91724138]]))"
      ]
     },
     "execution_count": 31,
     "metadata": {},
     "output_type": "execute_result"
    }
   ],
   "source": [
    "model = KNeighborsClassifier(n_neighbors=9)\n",
    "knn_learn = learning_curve(model, df.values[:,1:], df.values[:,0], train_sizes =np.linspace(0.1, 1.0, 100))\n",
    "knn_learn"
   ]
  },
  {
   "cell_type": "code",
   "execution_count": 32,
   "metadata": {
    "collapsed": true
   },
   "outputs": [],
   "source": [
    "train_cv_knn_err = np.mean(knn_learn[1], axis=1)\n",
    "test_cv_knn_err = np.mean(knn_learn[2], axis=1)\n",
    "m = knn_learn[0]"
   ]
  },
  {
   "cell_type": "code",
   "execution_count": 33,
   "metadata": {
    "collapsed": false
   },
   "outputs": [
    {
     "data": {
      "text/plain": [
       "<matplotlib.text.Text at 0x11860c2d0>"
      ]
     },
     "execution_count": 33,
     "metadata": {},
     "output_type": "execute_result"
    },
    {
     "data": {
      "image/png": "[encoded data removed]",
      "text/plain": [
       "<matplotlib.figure.Figure at 0x117d9bdd0>"
      ]
     },
     "metadata": {},
     "output_type": "display_data"
    }
   ],
   "source": [
    "plt.plot(m, train_cv_knn_err, 'red')\n",
    "plt.plot(m, test_cv_knn_err, 'blue')\n",
    "green = mpatches.Patch(color='red', label='training error')\n",
    "blue = mpatches.Patch(color='blue', label='testing error')\n",
    "plt.legend(handles=[green, blue], loc = 0 )\n",
    "plt.title('Training and Test error of KNN')"
   ]
  },
  {
   "cell_type": "markdown",
   "metadata": {},
   "source": [
    "# <a id='question8'></a>\n",
    "# Question 8  \n",
    "[Top](#top)"
   ]
  },
  {
   "cell_type": "code",
   "execution_count": 34,
   "metadata": {
    "collapsed": true
   },
   "outputs": [],
   "source": [
    "from sklearn.naive_bayes import GaussianNB\n",
    "from sklearn.svm import SVC\n",
    "from sklearn.tree import DecisionTreeClassifier\n",
    "from sklearn.ensemble import RandomForestClassifier"
   ]
  },
  {
   "cell_type": "code",
   "execution_count": 35,
   "metadata": {
    "collapsed": false
   },
   "outputs": [
    {
     "name": "stdout",
     "output_type": "stream",
     "text": [
      "the accuracy_score of Naive Bayes is: 0.93893129771\n"
     ]
    },
    {
     "name": "stderr",
     "output_type": "stream",
     "text": [
      "/Users/whitneychia/anaconda/lib/python2.7/site-packages/sklearn/utils/validation.py:515: DataConversionWarning: A column-vector y was passed when a 1d array was expected. Please change the shape of y to (n_samples, ), for example using ravel().\n",
      "  y = column_or_1d(y, warn=True)\n"
     ]
    }
   ],
   "source": [
    "NB = GaussianNB()\n",
    "NB.fit(x_train, y_train)\n",
    "pred = NB.predict(x_test)\n",
    "print 'the accuracy_score of Naive Bayes is: ' + str(accuracy_score(y_test, pred))"
   ]
  },
  {
   "cell_type": "code",
   "execution_count": 36,
   "metadata": {
    "collapsed": false
   },
   "outputs": [
    {
     "name": "stdout",
     "output_type": "stream",
     "text": [
      "the accuracy_score of Support Vector Classifier is: 0.954198473282\n"
     ]
    },
    {
     "name": "stderr",
     "output_type": "stream",
     "text": [
      "/Users/whitneychia/anaconda/lib/python2.7/site-packages/sklearn/svm/base.py:514: DataConversionWarning: A column-vector y was passed when a 1d array was expected. Please change the shape of y to (n_samples, ), for example using ravel().\n",
      "  y_ = column_or_1d(y, warn=True)\n"
     ]
    }
   ],
   "source": [
    "SVC = SVC()\n",
    "SVC.fit(x_train, y_train)\n",
    "pred = SVC.predict(x_test)\n",
    "print 'the accuracy_score of Support Vector Classifier is: ' + str(accuracy_score(y_test, pred))"
   ]
  },
  {
   "cell_type": "code",
   "execution_count": 37,
   "metadata": {
    "collapsed": false
   },
   "outputs": [
    {
     "name": "stdout",
     "output_type": "stream",
     "text": [
      "the accuracy_score of Naive Bayes is: 0.946564885496\n"
     ]
    }
   ],
   "source": [
    "DTC = DecisionTreeClassifier()\n",
    "DTC.fit(x_train, y_train)\n",
    "pred = DTC.predict(x_test)\n",
    "print 'the accuracy_score of Naive Bayes is: ' + str(accuracy_score(y_test, pred))"
   ]
  },
  {
   "cell_type": "code",
   "execution_count": 38,
   "metadata": {
    "collapsed": false
   },
   "outputs": [
    {
     "name": "stdout",
     "output_type": "stream",
     "text": [
      "the accuracy_score of Naive Bayes is: 0.961832061069\n"
     ]
    },
    {
     "name": "stderr",
     "output_type": "stream",
     "text": [
      "/Users/whitneychia/anaconda/lib/python2.7/site-packages/ipykernel/__main__.py:2: DataConversionWarning: A column-vector y was passed when a 1d array was expected. Please change the shape of y to (n_samples,), for example using ravel().\n",
      "  from ipykernel import kernelapp as app\n"
     ]
    }
   ],
   "source": [
    "RFC = RandomForestClassifier()\n",
    "RFC.fit(x_train, y_train)\n",
    "pred = RFC.predict(x_test)\n",
    "print 'the accuracy_score of Naive Bayes is: ' + str(accuracy_score(y_test, pred))"
   ]
  },
  {
   "cell_type": "markdown",
   "metadata": {},
   "source": [
    "# <a id='question9'></a>\n",
    "# Question 9  \n",
    "[Top](#top)"
   ]
  },
  {
   "cell_type": "code",
   "execution_count": 39,
   "metadata": {
    "collapsed": true
   },
   "outputs": [],
   "source": [
    "from sklearn.cross_validation import cross_val_score"
   ]
  },
  {
   "cell_type": "code",
   "execution_count": 40,
   "metadata": {
    "collapsed": false
   },
   "outputs": [],
   "source": [
    "KNN = KNeighborsClassifier(n_neighbors=9)\n",
    "lr_cross_val = cross_val_score(logreg, df.values[:,1:], df.values[:,0])\n",
    "knn_cross_val = cross_val_score(KNN, df.values[:,1:], df.values[:,0])\n",
    "NB_cross_val = cross_val_score(NB, df.values[:,1:], df.values[:,0])\n",
    "svc_cross_val = cross_val_score(SVC, df.values[:,1:], df.values[:,0])\n",
    "dtc_cross_val = cross_val_score(DTC, df.values[:,1:], df.values[:,0])\n",
    "rfc_cross_val = cross_val_score(RFC, df.values[:,1:], df.values[:,0])"
   ]
  },
  {
   "cell_type": "code",
   "execution_count": 41,
   "metadata": {
    "collapsed": false
   },
   "outputs": [
    {
     "name": "stdout",
     "output_type": "stream",
     "text": [
      "The accuracy through cross_val for logistic regression is: 0.970114942529\n",
      "The accuracy through cross_val for KNN is: 0.924137931034\n",
      "The accuracy through cross_val for Naive Bayes is: 0.931034482759\n",
      "The accuracy through cross_val for SVC is: 0.954022988506\n",
      "The accuracy through cross_val for Decision Tree is: 0.954022988506\n",
      "The accuracy through cross_val for logistic Random Forest is: 0.958620689655\n"
     ]
    }
   ],
   "source": [
    "print 'The accuracy through cross_val for logistic regression is: ' + str(np.mean(lr_cross_val))\n",
    "print 'The accuracy through cross_val for KNN is: ' + str(np.mean(knn_cross_val))\n",
    "print 'The accuracy through cross_val for Naive Bayes is: ' + str(np.mean(NB_cross_val))\n",
    "print 'The accuracy through cross_val for SVC is: ' + str(np.mean(svc_cross_val))\n",
    "print 'The accuracy through cross_val for Decision Tree is: ' + str(np.mean(dtc_cross_val))\n",
    "print 'The accuracy through cross_val for logistic Random Forest is: ' + str(np.mean(rfc_cross_val))"
   ]
  },
  {
   "cell_type": "markdown",
   "metadata": {},
   "source": [
    "# <a id='question10'></a>\n",
    "# Question 10  \n",
    "[Top](#top)"
   ]
  },
  {
   "cell_type": "code",
   "execution_count": 42,
   "metadata": {
    "collapsed": true
   },
   "outputs": [],
   "source": [
    "df2 = pd.read_csv('house-votes-84.data', header=None)"
   ]
  },
  {
   "cell_type": "code",
   "execution_count": 43,
   "metadata": {
    "collapsed": true
   },
   "outputs": [],
   "source": [
    "df2.columns = ['Party','handicapped_infants', 'water_project_cost_sharing',\\\n",
    "        'adoption_of_the_budget_resolution', 'physician_fee_freeze', 'el_salvador_aid',\\\n",
    "             'religious_groups_in_schools', 'anti_satellite_test_ban', 'aid_to_nicaraguan_contras',\\\n",
    "             'mx_missile', 'immigration', 'synfuels_corporation_cutback', 'education_spending', 'superfund_right_to_sue',\\\n",
    "             'crime', 'duty_free_exports', 'export_administration_act_south_africa']"
   ]
  },
  {
   "cell_type": "code",
   "execution_count": 44,
   "metadata": {
    "collapsed": true
   },
   "outputs": [],
   "source": [
    "df2 = df2.replace(['republican', 'democrat', 'y','n', '?'], [0,1,1,0, np.nan])"
   ]
  },
  {
   "cell_type": "code",
   "execution_count": 45,
   "metadata": {
    "collapsed": true
   },
   "outputs": [],
   "source": [
    "df2 = df2.astype(float)"
   ]
  },
  {
   "cell_type": "code",
   "execution_count": 46,
   "metadata": {
    "collapsed": false
   },
   "outputs": [],
   "source": [
    "df2 = df2.fillna(df2.mode().iloc[0])"
   ]
  },
  {
   "cell_type": "code",
   "execution_count": 47,
   "metadata": {
    "collapsed": false
   },
   "outputs": [
    {
     "data": {
      "text/html": [
       "<div>\n",
       "<table border=\"1\" class=\"dataframe\">\n",
       "  <thead>\n",
       "    <tr style=\"text-align: right;\">\n",
       "      <th></th>\n",
       "      <th>Party</th>\n",
       "      <th>handicapped_infants</th>\n",
       "      <th>water_project_cost_sharing</th>\n",
       "      <th>adoption_of_the_budget_resolution</th>\n",
       "      <th>physician_fee_freeze</th>\n",
       "      <th>el_salvador_aid</th>\n",
       "      <th>religious_groups_in_schools</th>\n",
       "      <th>anti_satellite_test_ban</th>\n",
       "      <th>aid_to_nicaraguan_contras</th>\n",
       "      <th>mx_missile</th>\n",
       "      <th>immigration</th>\n",
       "      <th>synfuels_corporation_cutback</th>\n",
       "      <th>education_spending</th>\n",
       "      <th>superfund_right_to_sue</th>\n",
       "      <th>crime</th>\n",
       "      <th>duty_free_exports</th>\n",
       "      <th>export_administration_act_south_africa</th>\n",
       "    </tr>\n",
       "  </thead>\n",
       "  <tbody>\n",
       "    <tr>\n",
       "      <th>0</th>\n",
       "      <td>0.0</td>\n",
       "      <td>0.0</td>\n",
       "      <td>1.0</td>\n",
       "      <td>0.0</td>\n",
       "      <td>1.0</td>\n",
       "      <td>1.0</td>\n",
       "      <td>1.0</td>\n",
       "      <td>0.0</td>\n",
       "      <td>0.0</td>\n",
       "      <td>0.0</td>\n",
       "      <td>1.0</td>\n",
       "      <td>0.0</td>\n",
       "      <td>1.0</td>\n",
       "      <td>1.0</td>\n",
       "      <td>1.0</td>\n",
       "      <td>0.0</td>\n",
       "      <td>1.0</td>\n",
       "    </tr>\n",
       "    <tr>\n",
       "      <th>1</th>\n",
       "      <td>0.0</td>\n",
       "      <td>0.0</td>\n",
       "      <td>1.0</td>\n",
       "      <td>0.0</td>\n",
       "      <td>1.0</td>\n",
       "      <td>1.0</td>\n",
       "      <td>1.0</td>\n",
       "      <td>0.0</td>\n",
       "      <td>0.0</td>\n",
       "      <td>0.0</td>\n",
       "      <td>0.0</td>\n",
       "      <td>0.0</td>\n",
       "      <td>1.0</td>\n",
       "      <td>1.0</td>\n",
       "      <td>1.0</td>\n",
       "      <td>0.0</td>\n",
       "      <td>1.0</td>\n",
       "    </tr>\n",
       "    <tr>\n",
       "      <th>2</th>\n",
       "      <td>1.0</td>\n",
       "      <td>0.0</td>\n",
       "      <td>1.0</td>\n",
       "      <td>1.0</td>\n",
       "      <td>0.0</td>\n",
       "      <td>1.0</td>\n",
       "      <td>1.0</td>\n",
       "      <td>0.0</td>\n",
       "      <td>0.0</td>\n",
       "      <td>0.0</td>\n",
       "      <td>0.0</td>\n",
       "      <td>1.0</td>\n",
       "      <td>0.0</td>\n",
       "      <td>1.0</td>\n",
       "      <td>1.0</td>\n",
       "      <td>0.0</td>\n",
       "      <td>0.0</td>\n",
       "    </tr>\n",
       "    <tr>\n",
       "      <th>3</th>\n",
       "      <td>1.0</td>\n",
       "      <td>0.0</td>\n",
       "      <td>1.0</td>\n",
       "      <td>1.0</td>\n",
       "      <td>0.0</td>\n",
       "      <td>1.0</td>\n",
       "      <td>1.0</td>\n",
       "      <td>0.0</td>\n",
       "      <td>0.0</td>\n",
       "      <td>0.0</td>\n",
       "      <td>0.0</td>\n",
       "      <td>1.0</td>\n",
       "      <td>0.0</td>\n",
       "      <td>1.0</td>\n",
       "      <td>0.0</td>\n",
       "      <td>0.0</td>\n",
       "      <td>1.0</td>\n",
       "    </tr>\n",
       "    <tr>\n",
       "      <th>4</th>\n",
       "      <td>1.0</td>\n",
       "      <td>1.0</td>\n",
       "      <td>1.0</td>\n",
       "      <td>1.0</td>\n",
       "      <td>0.0</td>\n",
       "      <td>1.0</td>\n",
       "      <td>1.0</td>\n",
       "      <td>0.0</td>\n",
       "      <td>0.0</td>\n",
       "      <td>0.0</td>\n",
       "      <td>0.0</td>\n",
       "      <td>1.0</td>\n",
       "      <td>0.0</td>\n",
       "      <td>1.0</td>\n",
       "      <td>1.0</td>\n",
       "      <td>1.0</td>\n",
       "      <td>1.0</td>\n",
       "    </tr>\n",
       "  </tbody>\n",
       "</table>\n",
       "</div>"
      ],
      "text/plain": [
       "   Party  handicapped_infants  water_project_cost_sharing  \\\n",
       "0    0.0                  0.0                         1.0   \n",
       "1    0.0                  0.0                         1.0   \n",
       "2    1.0                  0.0                         1.0   \n",
       "3    1.0                  0.0                         1.0   \n",
       "4    1.0                  1.0                         1.0   \n",
       "\n",
       "   adoption_of_the_budget_resolution  physician_fee_freeze  el_salvador_aid  \\\n",
       "0                                0.0                   1.0              1.0   \n",
       "1                                0.0                   1.0              1.0   \n",
       "2                                1.0                   0.0              1.0   \n",
       "3                                1.0                   0.0              1.0   \n",
       "4                                1.0                   0.0              1.0   \n",
       "\n",
       "   religious_groups_in_schools  anti_satellite_test_ban  \\\n",
       "0                          1.0                      0.0   \n",
       "1                          1.0                      0.0   \n",
       "2                          1.0                      0.0   \n",
       "3                          1.0                      0.0   \n",
       "4                          1.0                      0.0   \n",
       "\n",
       "   aid_to_nicaraguan_contras  mx_missile  immigration  \\\n",
       "0                        0.0         0.0          1.0   \n",
       "1                        0.0         0.0          0.0   \n",
       "2                        0.0         0.0          0.0   \n",
       "3                        0.0         0.0          0.0   \n",
       "4                        0.0         0.0          0.0   \n",
       "\n",
       "   synfuels_corporation_cutback  education_spending  superfund_right_to_sue  \\\n",
       "0                           0.0                 1.0                     1.0   \n",
       "1                           0.0                 1.0                     1.0   \n",
       "2                           1.0                 0.0                     1.0   \n",
       "3                           1.0                 0.0                     1.0   \n",
       "4                           1.0                 0.0                     1.0   \n",
       "\n",
       "   crime  duty_free_exports  export_administration_act_south_africa  \n",
       "0    1.0                0.0                                     1.0  \n",
       "1    1.0                0.0                                     1.0  \n",
       "2    1.0                0.0                                     0.0  \n",
       "3    0.0                0.0                                     1.0  \n",
       "4    1.0                1.0                                     1.0  "
      ]
     },
     "execution_count": 47,
     "metadata": {},
     "output_type": "execute_result"
    }
   ],
   "source": [
    "df2.head()"
   ]
  },
  {
   "cell_type": "code",
   "execution_count": 48,
   "metadata": {
    "collapsed": true
   },
   "outputs": [],
   "source": [
    "y, X = dmatrices('handicapped_infants ~ water_project_cost_sharing\\\n",
    "        + adoption_of_the_budget_resolution + physician_fee_freeze + el_salvador_aid\\\n",
    "             + religious_groups_in_schools + anti_satellite_test_ban + aid_to_nicaraguan_contras\\\n",
    "             + mx_missile + immigration + synfuels_corporation_cutback + education_spending + superfund_right_to_sue\\\n",
    "             + crime + duty_free_exports + export_administration_act_south_africa', data=df2, return_type='dataframe')"
   ]
  },
  {
   "cell_type": "code",
   "execution_count": 49,
   "metadata": {
    "collapsed": false
   },
   "outputs": [],
   "source": [
    "logregdf2 = LogisticRegression(C=10)\n",
    "lr_cross_val = cross_val_score(logregdf2, df2.values[:,2:], df2.values[:,1])"
   ]
  },
  {
   "cell_type": "code",
   "execution_count": 50,
   "metadata": {
    "collapsed": false
   },
   "outputs": [
    {
     "name": "stdout",
     "output_type": "stream",
     "text": [
      "For predicting how someone will vote for handicapped_infants, the logistic regression model has an accuracy score of: 0.689455510068\n"
     ]
    }
   ],
   "source": [
    "print 'For predicting how someone will vote for handicapped_infants, the logistic regression model has an accuracy score of: ' + str(np.mean(lr_cross_val))"
   ]
  },
  {
   "cell_type": "markdown",
   "metadata": {},
   "source": [
    "# <a id='question11'></a>\n",
    "# Question 11  \n",
    "[Top](#top)"
   ]
  },
  {
   "cell_type": "code",
   "execution_count": 51,
   "metadata": {
    "collapsed": false
   },
   "outputs": [],
   "source": [
    "df3 = pd.read_csv('2013_movies.csv')"
   ]
  },
  {
   "cell_type": "code",
   "execution_count": 52,
   "metadata": {
    "collapsed": false
   },
   "outputs": [
    {
     "data": {
      "text/html": [
       "<div>\n",
       "<table border=\"1\" class=\"dataframe\">\n",
       "  <thead>\n",
       "    <tr style=\"text-align: right;\">\n",
       "      <th></th>\n",
       "      <th>Title</th>\n",
       "      <th>Budget</th>\n",
       "      <th>DomesticTotalGross</th>\n",
       "      <th>Director</th>\n",
       "      <th>Rating</th>\n",
       "      <th>Runtime</th>\n",
       "      <th>ReleaseDate</th>\n",
       "    </tr>\n",
       "  </thead>\n",
       "  <tbody>\n",
       "    <tr>\n",
       "      <th>0</th>\n",
       "      <td>The Hunger Games: Catching Fire</td>\n",
       "      <td>130000000.0</td>\n",
       "      <td>424668047</td>\n",
       "      <td>Francis Lawrence</td>\n",
       "      <td>PG-13</td>\n",
       "      <td>146</td>\n",
       "      <td>2013-11-22 00:00:00</td>\n",
       "    </tr>\n",
       "    <tr>\n",
       "      <th>1</th>\n",
       "      <td>Iron Man 3</td>\n",
       "      <td>200000000.0</td>\n",
       "      <td>409013994</td>\n",
       "      <td>Shane Black</td>\n",
       "      <td>PG-13</td>\n",
       "      <td>129</td>\n",
       "      <td>2013-05-03 00:00:00</td>\n",
       "    </tr>\n",
       "    <tr>\n",
       "      <th>2</th>\n",
       "      <td>Frozen</td>\n",
       "      <td>150000000.0</td>\n",
       "      <td>400738009</td>\n",
       "      <td>Chris BuckJennifer Lee</td>\n",
       "      <td>PG</td>\n",
       "      <td>108</td>\n",
       "      <td>2013-11-22 00:00:00</td>\n",
       "    </tr>\n",
       "    <tr>\n",
       "      <th>3</th>\n",
       "      <td>Despicable Me 2</td>\n",
       "      <td>76000000.0</td>\n",
       "      <td>368061265</td>\n",
       "      <td>Pierre CoffinChris Renaud</td>\n",
       "      <td>PG</td>\n",
       "      <td>98</td>\n",
       "      <td>2013-07-03 00:00:00</td>\n",
       "    </tr>\n",
       "    <tr>\n",
       "      <th>4</th>\n",
       "      <td>Man of Steel</td>\n",
       "      <td>225000000.0</td>\n",
       "      <td>291045518</td>\n",
       "      <td>Zack Snyder</td>\n",
       "      <td>PG-13</td>\n",
       "      <td>143</td>\n",
       "      <td>2013-06-14 00:00:00</td>\n",
       "    </tr>\n",
       "  </tbody>\n",
       "</table>\n",
       "</div>"
      ],
      "text/plain": [
       "                             Title       Budget  DomesticTotalGross  \\\n",
       "0  The Hunger Games: Catching Fire  130000000.0           424668047   \n",
       "1                       Iron Man 3  200000000.0           409013994   \n",
       "2                           Frozen  150000000.0           400738009   \n",
       "3                  Despicable Me 2   76000000.0           368061265   \n",
       "4                     Man of Steel  225000000.0           291045518   \n",
       "\n",
       "                    Director Rating  Runtime          ReleaseDate  \n",
       "0           Francis Lawrence  PG-13      146  2013-11-22 00:00:00  \n",
       "1                Shane Black  PG-13      129  2013-05-03 00:00:00  \n",
       "2     Chris BuckJennifer Lee     PG      108  2013-11-22 00:00:00  \n",
       "3  Pierre CoffinChris Renaud     PG       98  2013-07-03 00:00:00  \n",
       "4                Zack Snyder  PG-13      143  2013-06-14 00:00:00  "
      ]
     },
     "execution_count": 52,
     "metadata": {},
     "output_type": "execute_result"
    }
   ],
   "source": [
    "df3.head()"
   ]
  },
  {
   "cell_type": "code",
   "execution_count": 53,
   "metadata": {
    "collapsed": false
   },
   "outputs": [],
   "source": [
    "rating_dict = {'R':1,'PG-13':2 ,'PG':3,'G':4 }\n",
    "\n",
    "df3['Rating_bin'] = [rating_dict[x] for x in df3['Rating']]"
   ]
  },
  {
   "cell_type": "code",
   "execution_count": 54,
   "metadata": {
    "collapsed": false,
    "scrolled": true
   },
   "outputs": [
    {
     "data": {
      "text/plain": [
       "array([[<matplotlib.axes._subplots.AxesSubplot object at 0x118c65950>]], dtype=object)"
      ]
     },
     "execution_count": 54,
     "metadata": {},
     "output_type": "execute_result"
    },
    {
     "data": {
      "image/png": "[encoded data removed]",
      "text/plain": [
       "<matplotlib.figure.Figure at 0x118c659d0>"
      ]
     },
     "metadata": {},
     "output_type": "display_data"
    }
   ],
   "source": [
    "figsize = (10,5)\n",
    "df3.hist('Rating_bin', figsize = figsize)"
   ]
  },
  {
   "cell_type": "code",
   "execution_count": 55,
   "metadata": {
    "collapsed": false,
    "scrolled": true
   },
   "outputs": [
    {
     "data": {
      "text/html": [
       "<div>\n",
       "<table border=\"1\" class=\"dataframe\">\n",
       "  <thead>\n",
       "    <tr style=\"text-align: right;\">\n",
       "      <th></th>\n",
       "      <th>Title</th>\n",
       "      <th>Budget</th>\n",
       "      <th>DomesticTotalGross</th>\n",
       "      <th>Director</th>\n",
       "      <th>Rating</th>\n",
       "      <th>Runtime</th>\n",
       "      <th>ReleaseDate</th>\n",
       "      <th>Rating_bin</th>\n",
       "    </tr>\n",
       "  </thead>\n",
       "  <tbody>\n",
       "    <tr>\n",
       "      <th>0</th>\n",
       "      <td>The Hunger Games: Catching Fire</td>\n",
       "      <td>130000000.0</td>\n",
       "      <td>424668047</td>\n",
       "      <td>Francis Lawrence</td>\n",
       "      <td>PG-13</td>\n",
       "      <td>146</td>\n",
       "      <td>2013-11-22 00:00:00</td>\n",
       "      <td>2</td>\n",
       "    </tr>\n",
       "    <tr>\n",
       "      <th>1</th>\n",
       "      <td>Iron Man 3</td>\n",
       "      <td>200000000.0</td>\n",
       "      <td>409013994</td>\n",
       "      <td>Shane Black</td>\n",
       "      <td>PG-13</td>\n",
       "      <td>129</td>\n",
       "      <td>2013-05-03 00:00:00</td>\n",
       "      <td>2</td>\n",
       "    </tr>\n",
       "    <tr>\n",
       "      <th>2</th>\n",
       "      <td>Frozen</td>\n",
       "      <td>150000000.0</td>\n",
       "      <td>400738009</td>\n",
       "      <td>Chris BuckJennifer Lee</td>\n",
       "      <td>PG</td>\n",
       "      <td>108</td>\n",
       "      <td>2013-11-22 00:00:00</td>\n",
       "      <td>3</td>\n",
       "    </tr>\n",
       "    <tr>\n",
       "      <th>3</th>\n",
       "      <td>Despicable Me 2</td>\n",
       "      <td>76000000.0</td>\n",
       "      <td>368061265</td>\n",
       "      <td>Pierre CoffinChris Renaud</td>\n",
       "      <td>PG</td>\n",
       "      <td>98</td>\n",
       "      <td>2013-07-03 00:00:00</td>\n",
       "      <td>3</td>\n",
       "    </tr>\n",
       "    <tr>\n",
       "      <th>4</th>\n",
       "      <td>Man of Steel</td>\n",
       "      <td>225000000.0</td>\n",
       "      <td>291045518</td>\n",
       "      <td>Zack Snyder</td>\n",
       "      <td>PG-13</td>\n",
       "      <td>143</td>\n",
       "      <td>2013-06-14 00:00:00</td>\n",
       "      <td>2</td>\n",
       "    </tr>\n",
       "    <tr>\n",
       "      <th>5</th>\n",
       "      <td>Gravity</td>\n",
       "      <td>100000000.0</td>\n",
       "      <td>274092705</td>\n",
       "      <td>Alfonso Cuaron</td>\n",
       "      <td>PG-13</td>\n",
       "      <td>91</td>\n",
       "      <td>2013-10-04 00:00:00</td>\n",
       "      <td>2</td>\n",
       "    </tr>\n",
       "    <tr>\n",
       "      <th>8</th>\n",
       "      <td>Fast &amp; Furious 6</td>\n",
       "      <td>160000000.0</td>\n",
       "      <td>238679850</td>\n",
       "      <td>Justin Lin</td>\n",
       "      <td>PG-13</td>\n",
       "      <td>130</td>\n",
       "      <td>2013-05-24 00:00:00</td>\n",
       "      <td>2</td>\n",
       "    </tr>\n",
       "    <tr>\n",
       "      <th>9</th>\n",
       "      <td>Oz The Great and Powerful</td>\n",
       "      <td>215000000.0</td>\n",
       "      <td>234911825</td>\n",
       "      <td>Sam Raimi</td>\n",
       "      <td>PG</td>\n",
       "      <td>127</td>\n",
       "      <td>2013-03-08 00:00:00</td>\n",
       "      <td>3</td>\n",
       "    </tr>\n",
       "    <tr>\n",
       "      <th>10</th>\n",
       "      <td>Star Trek Into Darkness</td>\n",
       "      <td>190000000.0</td>\n",
       "      <td>228778661</td>\n",
       "      <td>J.J. Abrams</td>\n",
       "      <td>PG-13</td>\n",
       "      <td>123</td>\n",
       "      <td>2013-05-16 00:00:00</td>\n",
       "      <td>2</td>\n",
       "    </tr>\n",
       "    <tr>\n",
       "      <th>11</th>\n",
       "      <td>Thor: The Dark World</td>\n",
       "      <td>170000000.0</td>\n",
       "      <td>206362140</td>\n",
       "      <td>Alan Taylor</td>\n",
       "      <td>PG-13</td>\n",
       "      <td>120</td>\n",
       "      <td>2013-11-08 00:00:00</td>\n",
       "      <td>2</td>\n",
       "    </tr>\n",
       "    <tr>\n",
       "      <th>12</th>\n",
       "      <td>World War Z</td>\n",
       "      <td>190000000.0</td>\n",
       "      <td>202359711</td>\n",
       "      <td>Marc Forster</td>\n",
       "      <td>PG-13</td>\n",
       "      <td>116</td>\n",
       "      <td>2013-06-21 00:00:00</td>\n",
       "      <td>2</td>\n",
       "    </tr>\n",
       "    <tr>\n",
       "      <th>13</th>\n",
       "      <td>The Croods</td>\n",
       "      <td>135000000.0</td>\n",
       "      <td>187168425</td>\n",
       "      <td>Kirk De MiccoChris Sanders</td>\n",
       "      <td>PG</td>\n",
       "      <td>98</td>\n",
       "      <td>2013-03-22 00:00:00</td>\n",
       "      <td>3</td>\n",
       "    </tr>\n",
       "    <tr>\n",
       "      <th>14</th>\n",
       "      <td>The Heat</td>\n",
       "      <td>43000000.0</td>\n",
       "      <td>159582188</td>\n",
       "      <td>Paul Feig</td>\n",
       "      <td>R</td>\n",
       "      <td>117</td>\n",
       "      <td>2013-06-28 00:00:00</td>\n",
       "      <td>1</td>\n",
       "    </tr>\n",
       "    <tr>\n",
       "      <th>15</th>\n",
       "      <td>We're the Millers</td>\n",
       "      <td>37000000.0</td>\n",
       "      <td>150394119</td>\n",
       "      <td>Rawson Marshall Thurber</td>\n",
       "      <td>R</td>\n",
       "      <td>110</td>\n",
       "      <td>2013-08-07 00:00:00</td>\n",
       "      <td>1</td>\n",
       "    </tr>\n",
       "    <tr>\n",
       "      <th>16</th>\n",
       "      <td>American Hustle</td>\n",
       "      <td>40000000.0</td>\n",
       "      <td>150117807</td>\n",
       "      <td>David O. Russell</td>\n",
       "      <td>R</td>\n",
       "      <td>138</td>\n",
       "      <td>2013-12-13 00:00:00</td>\n",
       "      <td>1</td>\n",
       "    </tr>\n",
       "    <tr>\n",
       "      <th>17</th>\n",
       "      <td>The Great Gatsby</td>\n",
       "      <td>105000000.0</td>\n",
       "      <td>144840419</td>\n",
       "      <td>Baz Luhrmann</td>\n",
       "      <td>PG-13</td>\n",
       "      <td>143</td>\n",
       "      <td>2013-05-10 00:00:00</td>\n",
       "      <td>2</td>\n",
       "    </tr>\n",
       "    <tr>\n",
       "      <th>18</th>\n",
       "      <td>The Conjuring</td>\n",
       "      <td>20000000.0</td>\n",
       "      <td>137400141</td>\n",
       "      <td>James Wan</td>\n",
       "      <td>R</td>\n",
       "      <td>112</td>\n",
       "      <td>2013-07-19 00:00:00</td>\n",
       "      <td>1</td>\n",
       "    </tr>\n",
       "    <tr>\n",
       "      <th>19</th>\n",
       "      <td>Identity Thief</td>\n",
       "      <td>35000000.0</td>\n",
       "      <td>134506920</td>\n",
       "      <td>Seth Gordon</td>\n",
       "      <td>R</td>\n",
       "      <td>111</td>\n",
       "      <td>2013-02-08 00:00:00</td>\n",
       "      <td>1</td>\n",
       "    </tr>\n",
       "    <tr>\n",
       "      <th>20</th>\n",
       "      <td>Grown Ups 2</td>\n",
       "      <td>80000000.0</td>\n",
       "      <td>133668525</td>\n",
       "      <td>Dennis Dugan</td>\n",
       "      <td>PG-13</td>\n",
       "      <td>101</td>\n",
       "      <td>2013-07-12 00:00:00</td>\n",
       "      <td>2</td>\n",
       "    </tr>\n",
       "    <tr>\n",
       "      <th>21</th>\n",
       "      <td>The Wolverine</td>\n",
       "      <td>120000000.0</td>\n",
       "      <td>132556852</td>\n",
       "      <td>James Mangold</td>\n",
       "      <td>PG-13</td>\n",
       "      <td>126</td>\n",
       "      <td>2013-07-26 00:00:00</td>\n",
       "      <td>2</td>\n",
       "    </tr>\n",
       "    <tr>\n",
       "      <th>22</th>\n",
       "      <td>Anchorman 2: The Legend Continues</td>\n",
       "      <td>50000000.0</td>\n",
       "      <td>125168368</td>\n",
       "      <td>Adam McKay</td>\n",
       "      <td>PG-13</td>\n",
       "      <td>119</td>\n",
       "      <td>2013-12-18 00:00:00</td>\n",
       "      <td>2</td>\n",
       "    </tr>\n",
       "    <tr>\n",
       "      <th>23</th>\n",
       "      <td>Lone Survivor</td>\n",
       "      <td>40000000.0</td>\n",
       "      <td>125095601</td>\n",
       "      <td>Peter Berg</td>\n",
       "      <td>R</td>\n",
       "      <td>121</td>\n",
       "      <td>2013-12-25 00:00:00</td>\n",
       "      <td>1</td>\n",
       "    </tr>\n",
       "    <tr>\n",
       "      <th>24</th>\n",
       "      <td>G.I. Joe: Retaliation</td>\n",
       "      <td>130000000.0</td>\n",
       "      <td>122523060</td>\n",
       "      <td>Jon Chu</td>\n",
       "      <td>PG-13</td>\n",
       "      <td>99</td>\n",
       "      <td>2013-03-28 00:00:00</td>\n",
       "      <td>2</td>\n",
       "    </tr>\n",
       "    <tr>\n",
       "      <th>26</th>\n",
       "      <td>Now You See Me</td>\n",
       "      <td>75000000.0</td>\n",
       "      <td>117723989</td>\n",
       "      <td>Louis Leterrier</td>\n",
       "      <td>PG-13</td>\n",
       "      <td>116</td>\n",
       "      <td>2013-05-31 00:00:00</td>\n",
       "      <td>2</td>\n",
       "    </tr>\n",
       "    <tr>\n",
       "      <th>27</th>\n",
       "      <td>The Wolf of Wall Street</td>\n",
       "      <td>100000000.0</td>\n",
       "      <td>116900694</td>\n",
       "      <td>Martin Scorsese</td>\n",
       "      <td>R</td>\n",
       "      <td>180</td>\n",
       "      <td>2013-12-25 00:00:00</td>\n",
       "      <td>1</td>\n",
       "    </tr>\n",
       "    <tr>\n",
       "      <th>28</th>\n",
       "      <td>Lee Daniels' The Butler</td>\n",
       "      <td>30000000.0</td>\n",
       "      <td>116632095</td>\n",
       "      <td>Lee Daniels</td>\n",
       "      <td>PG-13</td>\n",
       "      <td>132</td>\n",
       "      <td>2013-08-16 00:00:00</td>\n",
       "      <td>2</td>\n",
       "    </tr>\n",
       "    <tr>\n",
       "      <th>29</th>\n",
       "      <td>The Hangover Part III</td>\n",
       "      <td>103000000.0</td>\n",
       "      <td>112200072</td>\n",
       "      <td>Todd Phillips</td>\n",
       "      <td>R</td>\n",
       "      <td>100</td>\n",
       "      <td>2013-05-23 00:00:00</td>\n",
       "      <td>1</td>\n",
       "    </tr>\n",
       "    <tr>\n",
       "      <th>30</th>\n",
       "      <td>Epic</td>\n",
       "      <td>100000000.0</td>\n",
       "      <td>107518682</td>\n",
       "      <td>Chris Wedge</td>\n",
       "      <td>PG</td>\n",
       "      <td>102</td>\n",
       "      <td>2013-05-24 00:00:00</td>\n",
       "      <td>3</td>\n",
       "    </tr>\n",
       "    <tr>\n",
       "      <th>31</th>\n",
       "      <td>Captain Phillips</td>\n",
       "      <td>55000000.0</td>\n",
       "      <td>107100855</td>\n",
       "      <td>Paul Greengrass</td>\n",
       "      <td>PG-13</td>\n",
       "      <td>134</td>\n",
       "      <td>2013-10-11 00:00:00</td>\n",
       "      <td>2</td>\n",
       "    </tr>\n",
       "    <tr>\n",
       "      <th>32</th>\n",
       "      <td>Jackass Presents: Bad Grandpa</td>\n",
       "      <td>15000000.0</td>\n",
       "      <td>102003019</td>\n",
       "      <td>Jeff Tremaine</td>\n",
       "      <td>R</td>\n",
       "      <td>93</td>\n",
       "      <td>2013-10-25 00:00:00</td>\n",
       "      <td>1</td>\n",
       "    </tr>\n",
       "    <tr>\n",
       "      <th>33</th>\n",
       "      <td>Pacific Rim</td>\n",
       "      <td>190000000.0</td>\n",
       "      <td>101802906</td>\n",
       "      <td>Guillermo del Toro</td>\n",
       "      <td>PG-13</td>\n",
       "      <td>131</td>\n",
       "      <td>2013-07-12 00:00:00</td>\n",
       "      <td>2</td>\n",
       "    </tr>\n",
       "    <tr>\n",
       "      <th>34</th>\n",
       "      <td>This is the End</td>\n",
       "      <td>32000000.0</td>\n",
       "      <td>101470202</td>\n",
       "      <td>Evan GoldbergSeth Rogen</td>\n",
       "      <td>R</td>\n",
       "      <td>107</td>\n",
       "      <td>2013-06-12 00:00:00</td>\n",
       "      <td>1</td>\n",
       "    </tr>\n",
       "    <tr>\n",
       "      <th>35</th>\n",
       "      <td>Olympus Has Fallen</td>\n",
       "      <td>70000000.0</td>\n",
       "      <td>98925640</td>\n",
       "      <td>Antoine Fuqua</td>\n",
       "      <td>R</td>\n",
       "      <td>120</td>\n",
       "      <td>2013-03-22 00:00:00</td>\n",
       "      <td>1</td>\n",
       "    </tr>\n",
       "    <tr>\n",
       "      <th>36</th>\n",
       "      <td>42</td>\n",
       "      <td>40000000.0</td>\n",
       "      <td>95020213</td>\n",
       "      <td>Brian Helgeland</td>\n",
       "      <td>PG-13</td>\n",
       "      <td>128</td>\n",
       "      <td>2013-04-12 00:00:00</td>\n",
       "      <td>2</td>\n",
       "    </tr>\n",
       "    <tr>\n",
       "      <th>37</th>\n",
       "      <td>Elysium</td>\n",
       "      <td>115000000.0</td>\n",
       "      <td>93050117</td>\n",
       "      <td>Neill Blomkamp</td>\n",
       "      <td>R</td>\n",
       "      <td>109</td>\n",
       "      <td>2013-08-09 00:00:00</td>\n",
       "      <td>1</td>\n",
       "    </tr>\n",
       "    <tr>\n",
       "      <th>38</th>\n",
       "      <td>Planes</td>\n",
       "      <td>50000000.0</td>\n",
       "      <td>90288712</td>\n",
       "      <td>Klay Hall</td>\n",
       "      <td>PG</td>\n",
       "      <td>92</td>\n",
       "      <td>2013-08-09 00:00:00</td>\n",
       "      <td>3</td>\n",
       "    </tr>\n",
       "    <tr>\n",
       "      <th>39</th>\n",
       "      <td>The Lone Ranger</td>\n",
       "      <td>215000000.0</td>\n",
       "      <td>89302115</td>\n",
       "      <td>Gore Verbinski</td>\n",
       "      <td>PG-13</td>\n",
       "      <td>149</td>\n",
       "      <td>2013-07-03 00:00:00</td>\n",
       "      <td>2</td>\n",
       "    </tr>\n",
       "    <tr>\n",
       "      <th>40</th>\n",
       "      <td>Oblivion</td>\n",
       "      <td>120000000.0</td>\n",
       "      <td>89107235</td>\n",
       "      <td>Joseph Kosinski</td>\n",
       "      <td>PG-13</td>\n",
       "      <td>125</td>\n",
       "      <td>2013-04-19 00:00:00</td>\n",
       "      <td>2</td>\n",
       "    </tr>\n",
       "    <tr>\n",
       "      <th>41</th>\n",
       "      <td>Insidious Chapter 2</td>\n",
       "      <td>5000000.0</td>\n",
       "      <td>83586447</td>\n",
       "      <td>James Wan</td>\n",
       "      <td>PG-13</td>\n",
       "      <td>105</td>\n",
       "      <td>2013-09-13 00:00:00</td>\n",
       "      <td>2</td>\n",
       "    </tr>\n",
       "    <tr>\n",
       "      <th>42</th>\n",
       "      <td>Saving Mr. Banks</td>\n",
       "      <td>35000000.0</td>\n",
       "      <td>83301580</td>\n",
       "      <td>John Lee Hancock</td>\n",
       "      <td>PG-13</td>\n",
       "      <td>120</td>\n",
       "      <td>2013-12-13 00:00:00</td>\n",
       "      <td>2</td>\n",
       "    </tr>\n",
       "    <tr>\n",
       "      <th>43</th>\n",
       "      <td>Turbo</td>\n",
       "      <td>135000000.0</td>\n",
       "      <td>83028128</td>\n",
       "      <td>David Soren</td>\n",
       "      <td>PG</td>\n",
       "      <td>96</td>\n",
       "      <td>2013-07-17 00:00:00</td>\n",
       "      <td>3</td>\n",
       "    </tr>\n",
       "    <tr>\n",
       "      <th>44</th>\n",
       "      <td>2 Guns</td>\n",
       "      <td>61000000.0</td>\n",
       "      <td>75612460</td>\n",
       "      <td>Baltasar Kormakur</td>\n",
       "      <td>R</td>\n",
       "      <td>109</td>\n",
       "      <td>2013-08-02 00:00:00</td>\n",
       "      <td>1</td>\n",
       "    </tr>\n",
       "    <tr>\n",
       "      <th>45</th>\n",
       "      <td>White House Down</td>\n",
       "      <td>150000000.0</td>\n",
       "      <td>73103784</td>\n",
       "      <td>Roland Emmerich</td>\n",
       "      <td>PG-13</td>\n",
       "      <td>137</td>\n",
       "      <td>2013-06-28 00:00:00</td>\n",
       "      <td>2</td>\n",
       "    </tr>\n",
       "    <tr>\n",
       "      <th>46</th>\n",
       "      <td>Mama</td>\n",
       "      <td>15000000.0</td>\n",
       "      <td>71628180</td>\n",
       "      <td>Andres Muschietti</td>\n",
       "      <td>PG-13</td>\n",
       "      <td>100</td>\n",
       "      <td>2013-01-18 00:00:00</td>\n",
       "      <td>2</td>\n",
       "    </tr>\n",
       "    <tr>\n",
       "      <th>47</th>\n",
       "      <td>Safe Haven</td>\n",
       "      <td>28000000.0</td>\n",
       "      <td>71349120</td>\n",
       "      <td>Lasse Hallstrom</td>\n",
       "      <td>PG-13</td>\n",
       "      <td>115</td>\n",
       "      <td>2013-02-14 00:00:00</td>\n",
       "      <td>2</td>\n",
       "    </tr>\n",
       "    <tr>\n",
       "      <th>48</th>\n",
       "      <td>The Smurfs 2</td>\n",
       "      <td>105000000.0</td>\n",
       "      <td>71017784</td>\n",
       "      <td>Raja Gosnell</td>\n",
       "      <td>PG</td>\n",
       "      <td>105</td>\n",
       "      <td>2013-07-31 00:00:00</td>\n",
       "      <td>3</td>\n",
       "    </tr>\n",
       "    <tr>\n",
       "      <th>49</th>\n",
       "      <td>The Best Man Holiday</td>\n",
       "      <td>17000000.0</td>\n",
       "      <td>70525195</td>\n",
       "      <td>Malcolm D. Lee</td>\n",
       "      <td>R</td>\n",
       "      <td>122</td>\n",
       "      <td>2013-11-15 00:00:00</td>\n",
       "      <td>1</td>\n",
       "    </tr>\n",
       "    <tr>\n",
       "      <th>50</th>\n",
       "      <td>Percy Jackson: Sea of Monsters</td>\n",
       "      <td>90000000.0</td>\n",
       "      <td>68559554</td>\n",
       "      <td>Thor Freudenthal</td>\n",
       "      <td>PG</td>\n",
       "      <td>106</td>\n",
       "      <td>2013-08-07 00:00:00</td>\n",
       "      <td>3</td>\n",
       "    </tr>\n",
       "    <tr>\n",
       "      <th>51</th>\n",
       "      <td>A Good Day to Die Hard</td>\n",
       "      <td>92000000.0</td>\n",
       "      <td>67349198</td>\n",
       "      <td>John Moore</td>\n",
       "      <td>R</td>\n",
       "      <td>97</td>\n",
       "      <td>2013-02-14 00:00:00</td>\n",
       "      <td>1</td>\n",
       "    </tr>\n",
       "    <tr>\n",
       "      <th>52</th>\n",
       "      <td>Warm Bodies</td>\n",
       "      <td>35000000.0</td>\n",
       "      <td>66380662</td>\n",
       "      <td>Jonathan Levine</td>\n",
       "      <td>PG-13</td>\n",
       "      <td>97</td>\n",
       "      <td>2013-02-01 00:00:00</td>\n",
       "      <td>2</td>\n",
       "    </tr>\n",
       "    <tr>\n",
       "      <th>53</th>\n",
       "      <td>Jack the Giant Slayer</td>\n",
       "      <td>195000000.0</td>\n",
       "      <td>65187603</td>\n",
       "      <td>Bryan Singer</td>\n",
       "      <td>PG-13</td>\n",
       "      <td>114</td>\n",
       "      <td>2013-03-01 00:00:00</td>\n",
       "      <td>2</td>\n",
       "    </tr>\n",
       "    <tr>\n",
       "      <th>54</th>\n",
       "      <td>The Purge</td>\n",
       "      <td>3000000.0</td>\n",
       "      <td>64473115</td>\n",
       "      <td>James DeMonaco</td>\n",
       "      <td>R</td>\n",
       "      <td>85</td>\n",
       "      <td>2013-06-07 00:00:00</td>\n",
       "      <td>1</td>\n",
       "    </tr>\n",
       "    <tr>\n",
       "      <th>55</th>\n",
       "      <td>Last Vegas</td>\n",
       "      <td>28000000.0</td>\n",
       "      <td>63914167</td>\n",
       "      <td>Jon Turteltaub</td>\n",
       "      <td>PG-13</td>\n",
       "      <td>90</td>\n",
       "      <td>2013-11-01 00:00:00</td>\n",
       "      <td>2</td>\n",
       "    </tr>\n",
       "    <tr>\n",
       "      <th>56</th>\n",
       "      <td>Ender's Game</td>\n",
       "      <td>110000000.0</td>\n",
       "      <td>61737191</td>\n",
       "      <td>Gavin Hood</td>\n",
       "      <td>PG-13</td>\n",
       "      <td>114</td>\n",
       "      <td>2013-11-01 00:00:00</td>\n",
       "      <td>2</td>\n",
       "    </tr>\n",
       "    <tr>\n",
       "      <th>57</th>\n",
       "      <td>Prisoners</td>\n",
       "      <td>46000000.0</td>\n",
       "      <td>61002302</td>\n",
       "      <td>Denis Villeneuve</td>\n",
       "      <td>R</td>\n",
       "      <td>146</td>\n",
       "      <td>2013-09-20 00:00:00</td>\n",
       "      <td>1</td>\n",
       "    </tr>\n",
       "    <tr>\n",
       "      <th>58</th>\n",
       "      <td>After Earth</td>\n",
       "      <td>130000000.0</td>\n",
       "      <td>60522097</td>\n",
       "      <td>M. Night Shyamalan</td>\n",
       "      <td>PG-13</td>\n",
       "      <td>100</td>\n",
       "      <td>2013-05-31 00:00:00</td>\n",
       "      <td>2</td>\n",
       "    </tr>\n",
       "    <tr>\n",
       "      <th>59</th>\n",
       "      <td>The Secret Life of Walter Mitty</td>\n",
       "      <td>90000000.0</td>\n",
       "      <td>58236838</td>\n",
       "      <td>Ben Stiller</td>\n",
       "      <td>PG</td>\n",
       "      <td>114</td>\n",
       "      <td>2013-12-25 00:00:00</td>\n",
       "      <td>3</td>\n",
       "    </tr>\n",
       "    <tr>\n",
       "      <th>60</th>\n",
       "      <td>Escape From Planet Earth</td>\n",
       "      <td>40000000.0</td>\n",
       "      <td>57012977</td>\n",
       "      <td>Cal Brunker</td>\n",
       "      <td>PG</td>\n",
       "      <td>89</td>\n",
       "      <td>2013-02-15 00:00:00</td>\n",
       "      <td>3</td>\n",
       "    </tr>\n",
       "    <tr>\n",
       "      <th>61</th>\n",
       "      <td>12 Years a Slave</td>\n",
       "      <td>20000000.0</td>\n",
       "      <td>56671993</td>\n",
       "      <td>Steve McQueen (II)</td>\n",
       "      <td>R</td>\n",
       "      <td>133</td>\n",
       "      <td>2013-10-18 00:00:00</td>\n",
       "      <td>1</td>\n",
       "    </tr>\n",
       "    <tr>\n",
       "      <th>62</th>\n",
       "      <td>Free Birds</td>\n",
       "      <td>55000000.0</td>\n",
       "      <td>55750480</td>\n",
       "      <td>Jimmy Hayward</td>\n",
       "      <td>PG</td>\n",
       "      <td>90</td>\n",
       "      <td>2013-11-01 00:00:00</td>\n",
       "      <td>3</td>\n",
       "    </tr>\n",
       "    <tr>\n",
       "      <th>63</th>\n",
       "      <td>Hansel and Gretel: Witch Hunters</td>\n",
       "      <td>50000000.0</td>\n",
       "      <td>55703475</td>\n",
       "      <td>Tommy Wirkola</td>\n",
       "      <td>R</td>\n",
       "      <td>88</td>\n",
       "      <td>2013-01-25 00:00:00</td>\n",
       "      <td>1</td>\n",
       "    </tr>\n",
       "    <tr>\n",
       "      <th>64</th>\n",
       "      <td>Evil Dead</td>\n",
       "      <td>17000000.0</td>\n",
       "      <td>54239856</td>\n",
       "      <td>Fede Alvarez</td>\n",
       "      <td>R</td>\n",
       "      <td>91</td>\n",
       "      <td>2013-04-05 00:00:00</td>\n",
       "      <td>1</td>\n",
       "    </tr>\n",
       "    <tr>\n",
       "      <th>65</th>\n",
       "      <td>Red 2</td>\n",
       "      <td>84000000.0</td>\n",
       "      <td>53262560</td>\n",
       "      <td>Dean Parisot</td>\n",
       "      <td>PG-13</td>\n",
       "      <td>116</td>\n",
       "      <td>2013-07-19 00:00:00</td>\n",
       "      <td>2</td>\n",
       "    </tr>\n",
       "    <tr>\n",
       "      <th>68</th>\n",
       "      <td>The Call</td>\n",
       "      <td>13000000.0</td>\n",
       "      <td>51872378</td>\n",
       "      <td>Brad Anderson</td>\n",
       "      <td>R</td>\n",
       "      <td>95</td>\n",
       "      <td>2013-03-15 00:00:00</td>\n",
       "      <td>1</td>\n",
       "    </tr>\n",
       "    <tr>\n",
       "      <th>69</th>\n",
       "      <td>Pain and Gain</td>\n",
       "      <td>26000000.0</td>\n",
       "      <td>49875291</td>\n",
       "      <td>Michael Bay</td>\n",
       "      <td>R</td>\n",
       "      <td>129</td>\n",
       "      <td>2013-04-26 00:00:00</td>\n",
       "      <td>1</td>\n",
       "    </tr>\n",
       "    <tr>\n",
       "      <th>70</th>\n",
       "      <td>Gangster Squad</td>\n",
       "      <td>60000000.0</td>\n",
       "      <td>46000903</td>\n",
       "      <td>Ruben Fleischer</td>\n",
       "      <td>R</td>\n",
       "      <td>113</td>\n",
       "      <td>2013-01-11 00:00:00</td>\n",
       "      <td>1</td>\n",
       "    </tr>\n",
       "    <tr>\n",
       "      <th>72</th>\n",
       "      <td>The Internship</td>\n",
       "      <td>58000000.0</td>\n",
       "      <td>44672764</td>\n",
       "      <td>Shawn Levy</td>\n",
       "      <td>PG-13</td>\n",
       "      <td>119</td>\n",
       "      <td>2013-06-07 00:00:00</td>\n",
       "      <td>2</td>\n",
       "    </tr>\n",
       "    <tr>\n",
       "      <th>75</th>\n",
       "      <td>Riddick</td>\n",
       "      <td>38000000.0</td>\n",
       "      <td>42025135</td>\n",
       "      <td>David Twohy</td>\n",
       "      <td>R</td>\n",
       "      <td>119</td>\n",
       "      <td>2013-09-06 00:00:00</td>\n",
       "      <td>1</td>\n",
       "    </tr>\n",
       "    <tr>\n",
       "      <th>76</th>\n",
       "      <td>A Haunted House</td>\n",
       "      <td>2500000.0</td>\n",
       "      <td>40041683</td>\n",
       "      <td>Michael Tiddes</td>\n",
       "      <td>R</td>\n",
       "      <td>80</td>\n",
       "      <td>2013-01-11 00:00:00</td>\n",
       "      <td>1</td>\n",
       "    </tr>\n",
       "    <tr>\n",
       "      <th>77</th>\n",
       "      <td>47 Ronin</td>\n",
       "      <td>175000000.0</td>\n",
       "      <td>38362475</td>\n",
       "      <td>Carl Rinsch</td>\n",
       "      <td>PG-13</td>\n",
       "      <td>127</td>\n",
       "      <td>2013-12-25 00:00:00</td>\n",
       "      <td>2</td>\n",
       "    </tr>\n",
       "    <tr>\n",
       "      <th>79</th>\n",
       "      <td>Philomena</td>\n",
       "      <td>12000000.0</td>\n",
       "      <td>37709979</td>\n",
       "      <td>Stephen Frears</td>\n",
       "      <td>PG-13</td>\n",
       "      <td>95</td>\n",
       "      <td>2013-11-22 00:00:00</td>\n",
       "      <td>2</td>\n",
       "    </tr>\n",
       "    <tr>\n",
       "      <th>80</th>\n",
       "      <td>The Family</td>\n",
       "      <td>30000000.0</td>\n",
       "      <td>36918811</td>\n",
       "      <td>Luc Besson</td>\n",
       "      <td>R</td>\n",
       "      <td>112</td>\n",
       "      <td>2013-09-13 00:00:00</td>\n",
       "      <td>1</td>\n",
       "    </tr>\n",
       "    <tr>\n",
       "      <th>81</th>\n",
       "      <td>Walking with Dinosaurs</td>\n",
       "      <td>80000000.0</td>\n",
       "      <td>36076121</td>\n",
       "      <td>Barry CookNeil Nightingale</td>\n",
       "      <td>PG</td>\n",
       "      <td>87</td>\n",
       "      <td>2013-12-20 00:00:00</td>\n",
       "      <td>3</td>\n",
       "    </tr>\n",
       "    <tr>\n",
       "      <th>82</th>\n",
       "      <td>Carrie</td>\n",
       "      <td>30000000.0</td>\n",
       "      <td>35266619</td>\n",
       "      <td>Kimberly Peirce</td>\n",
       "      <td>R</td>\n",
       "      <td>92</td>\n",
       "      <td>2013-10-18 00:00:00</td>\n",
       "      <td>1</td>\n",
       "    </tr>\n",
       "    <tr>\n",
       "      <th>84</th>\n",
       "      <td>R.I.P.D.</td>\n",
       "      <td>130000000.0</td>\n",
       "      <td>33618855</td>\n",
       "      <td>Robert Schwentke</td>\n",
       "      <td>PG-13</td>\n",
       "      <td>96</td>\n",
       "      <td>2013-07-19 00:00:00</td>\n",
       "      <td>2</td>\n",
       "    </tr>\n",
       "    <tr>\n",
       "      <th>88</th>\n",
       "      <td>Scary Movie 5</td>\n",
       "      <td>20000000.0</td>\n",
       "      <td>32015787</td>\n",
       "      <td>Malcolm D. Lee</td>\n",
       "      <td>PG-13</td>\n",
       "      <td>85</td>\n",
       "      <td>2013-04-12 00:00:00</td>\n",
       "      <td>2</td>\n",
       "    </tr>\n",
       "    <tr>\n",
       "      <th>89</th>\n",
       "      <td>The Mortal Instruments: City of Bones</td>\n",
       "      <td>60000000.0</td>\n",
       "      <td>31165421</td>\n",
       "      <td>Harald Zwart</td>\n",
       "      <td>PG-13</td>\n",
       "      <td>120</td>\n",
       "      <td>2013-08-21 00:00:00</td>\n",
       "      <td>2</td>\n",
       "    </tr>\n",
       "    <tr>\n",
       "      <th>90</th>\n",
       "      <td>Delivery Man</td>\n",
       "      <td>26000000.0</td>\n",
       "      <td>30664106</td>\n",
       "      <td>Ken Scott</td>\n",
       "      <td>PG-13</td>\n",
       "      <td>105</td>\n",
       "      <td>2013-11-22 00:00:00</td>\n",
       "      <td>2</td>\n",
       "    </tr>\n",
       "    <tr>\n",
       "      <th>91</th>\n",
       "      <td>Grudge Match</td>\n",
       "      <td>40000000.0</td>\n",
       "      <td>29807260</td>\n",
       "      <td>Peter Segal</td>\n",
       "      <td>PG-13</td>\n",
       "      <td>113</td>\n",
       "      <td>2013-12-25 00:00:00</td>\n",
       "      <td>2</td>\n",
       "    </tr>\n",
       "    <tr>\n",
       "      <th>92</th>\n",
       "      <td>One Direction: This is Us</td>\n",
       "      <td>10000000.0</td>\n",
       "      <td>28873374</td>\n",
       "      <td>Morgan Spurlock</td>\n",
       "      <td>PG</td>\n",
       "      <td>92</td>\n",
       "      <td>2013-08-30 00:00:00</td>\n",
       "      <td>3</td>\n",
       "    </tr>\n",
       "    <tr>\n",
       "      <th>93</th>\n",
       "      <td>Kick-Ass 2</td>\n",
       "      <td>28000000.0</td>\n",
       "      <td>28795985</td>\n",
       "      <td>Jeff Wadlow</td>\n",
       "      <td>R</td>\n",
       "      <td>103</td>\n",
       "      <td>2013-08-16 00:00:00</td>\n",
       "      <td>1</td>\n",
       "    </tr>\n",
       "    <tr>\n",
       "      <th>94</th>\n",
       "      <td>Dallas Buyers Club</td>\n",
       "      <td>5000000.0</td>\n",
       "      <td>27298285</td>\n",
       "      <td>Jean-Marc Vallee</td>\n",
       "      <td>R</td>\n",
       "      <td>117</td>\n",
       "      <td>2013-11-01 00:00:00</td>\n",
       "      <td>1</td>\n",
       "    </tr>\n",
       "    <tr>\n",
       "      <th>95</th>\n",
       "      <td>Rush</td>\n",
       "      <td>38000000.0</td>\n",
       "      <td>26947624</td>\n",
       "      <td>Ron Howard</td>\n",
       "      <td>R</td>\n",
       "      <td>123</td>\n",
       "      <td>2013-09-20 00:00:00</td>\n",
       "      <td>1</td>\n",
       "    </tr>\n",
       "    <tr>\n",
       "      <th>96</th>\n",
       "      <td>The Host</td>\n",
       "      <td>40000000.0</td>\n",
       "      <td>26627201</td>\n",
       "      <td>Andrew Niccol</td>\n",
       "      <td>PG-13</td>\n",
       "      <td>125</td>\n",
       "      <td>2013-03-29 00:00:00</td>\n",
       "      <td>2</td>\n",
       "    </tr>\n",
       "    <tr>\n",
       "      <th>97</th>\n",
       "      <td>The World's End</td>\n",
       "      <td>20000000.0</td>\n",
       "      <td>26004851</td>\n",
       "      <td>Edgar Wright</td>\n",
       "      <td>R</td>\n",
       "      <td>109</td>\n",
       "      <td>2013-08-23 00:00:00</td>\n",
       "      <td>1</td>\n",
       "    </tr>\n",
       "    <tr>\n",
       "      <th>98</th>\n",
       "      <td>21 and Over</td>\n",
       "      <td>13000000.0</td>\n",
       "      <td>25682380</td>\n",
       "      <td>Jon LucasScott Moore</td>\n",
       "      <td>R</td>\n",
       "      <td>93</td>\n",
       "      <td>2013-03-01 00:00:00</td>\n",
       "      <td>1</td>\n",
       "    </tr>\n",
       "    <tr>\n",
       "      <th>99</th>\n",
       "      <td>Her</td>\n",
       "      <td>23000000.0</td>\n",
       "      <td>25568251</td>\n",
       "      <td>Spike Jonze</td>\n",
       "      <td>R</td>\n",
       "      <td>120</td>\n",
       "      <td>2013-12-18 00:00:00</td>\n",
       "      <td>1</td>\n",
       "    </tr>\n",
       "  </tbody>\n",
       "</table>\n",
       "</div>"
      ],
      "text/plain": [
       "                                    Title       Budget  DomesticTotalGross  \\\n",
       "0         The Hunger Games: Catching Fire  130000000.0           424668047   \n",
       "1                              Iron Man 3  200000000.0           409013994   \n",
       "2                                  Frozen  150000000.0           400738009   \n",
       "3                         Despicable Me 2   76000000.0           368061265   \n",
       "4                            Man of Steel  225000000.0           291045518   \n",
       "5                                 Gravity  100000000.0           274092705   \n",
       "8                        Fast & Furious 6  160000000.0           238679850   \n",
       "9               Oz The Great and Powerful  215000000.0           234911825   \n",
       "10                Star Trek Into Darkness  190000000.0           228778661   \n",
       "11                   Thor: The Dark World  170000000.0           206362140   \n",
       "12                            World War Z  190000000.0           202359711   \n",
       "13                             The Croods  135000000.0           187168425   \n",
       "14                               The Heat   43000000.0           159582188   \n",
       "15                      We're the Millers   37000000.0           150394119   \n",
       "16                        American Hustle   40000000.0           150117807   \n",
       "17                       The Great Gatsby  105000000.0           144840419   \n",
       "18                          The Conjuring   20000000.0           137400141   \n",
       "19                         Identity Thief   35000000.0           134506920   \n",
       "20                            Grown Ups 2   80000000.0           133668525   \n",
       "21                          The Wolverine  120000000.0           132556852   \n",
       "22      Anchorman 2: The Legend Continues   50000000.0           125168368   \n",
       "23                          Lone Survivor   40000000.0           125095601   \n",
       "24                  G.I. Joe: Retaliation  130000000.0           122523060   \n",
       "26                         Now You See Me   75000000.0           117723989   \n",
       "27                The Wolf of Wall Street  100000000.0           116900694   \n",
       "28                Lee Daniels' The Butler   30000000.0           116632095   \n",
       "29                  The Hangover Part III  103000000.0           112200072   \n",
       "30                                   Epic  100000000.0           107518682   \n",
       "31                       Captain Phillips   55000000.0           107100855   \n",
       "32          Jackass Presents: Bad Grandpa   15000000.0           102003019   \n",
       "33                            Pacific Rim  190000000.0           101802906   \n",
       "34                        This is the End   32000000.0           101470202   \n",
       "35                     Olympus Has Fallen   70000000.0            98925640   \n",
       "36                                     42   40000000.0            95020213   \n",
       "37                                Elysium  115000000.0            93050117   \n",
       "38                                 Planes   50000000.0            90288712   \n",
       "39                        The Lone Ranger  215000000.0            89302115   \n",
       "40                               Oblivion  120000000.0            89107235   \n",
       "41                    Insidious Chapter 2    5000000.0            83586447   \n",
       "42                       Saving Mr. Banks   35000000.0            83301580   \n",
       "43                                  Turbo  135000000.0            83028128   \n",
       "44                                 2 Guns   61000000.0            75612460   \n",
       "45                       White House Down  150000000.0            73103784   \n",
       "46                                   Mama   15000000.0            71628180   \n",
       "47                             Safe Haven   28000000.0            71349120   \n",
       "48                           The Smurfs 2  105000000.0            71017784   \n",
       "49                   The Best Man Holiday   17000000.0            70525195   \n",
       "50         Percy Jackson: Sea of Monsters   90000000.0            68559554   \n",
       "51                 A Good Day to Die Hard   92000000.0            67349198   \n",
       "52                            Warm Bodies   35000000.0            66380662   \n",
       "53                  Jack the Giant Slayer  195000000.0            65187603   \n",
       "54                              The Purge    3000000.0            64473115   \n",
       "55                             Last Vegas   28000000.0            63914167   \n",
       "56                           Ender's Game  110000000.0            61737191   \n",
       "57                              Prisoners   46000000.0            61002302   \n",
       "58                            After Earth  130000000.0            60522097   \n",
       "59        The Secret Life of Walter Mitty   90000000.0            58236838   \n",
       "60               Escape From Planet Earth   40000000.0            57012977   \n",
       "61                       12 Years a Slave   20000000.0            56671993   \n",
       "62                             Free Birds   55000000.0            55750480   \n",
       "63       Hansel and Gretel: Witch Hunters   50000000.0            55703475   \n",
       "64                              Evil Dead   17000000.0            54239856   \n",
       "65                                  Red 2   84000000.0            53262560   \n",
       "68                               The Call   13000000.0            51872378   \n",
       "69                          Pain and Gain   26000000.0            49875291   \n",
       "70                         Gangster Squad   60000000.0            46000903   \n",
       "72                         The Internship   58000000.0            44672764   \n",
       "75                                Riddick   38000000.0            42025135   \n",
       "76                        A Haunted House    2500000.0            40041683   \n",
       "77                               47 Ronin  175000000.0            38362475   \n",
       "79                              Philomena   12000000.0            37709979   \n",
       "80                             The Family   30000000.0            36918811   \n",
       "81                 Walking with Dinosaurs   80000000.0            36076121   \n",
       "82                                 Carrie   30000000.0            35266619   \n",
       "84                               R.I.P.D.  130000000.0            33618855   \n",
       "88                          Scary Movie 5   20000000.0            32015787   \n",
       "89  The Mortal Instruments: City of Bones   60000000.0            31165421   \n",
       "90                           Delivery Man   26000000.0            30664106   \n",
       "91                           Grudge Match   40000000.0            29807260   \n",
       "92              One Direction: This is Us   10000000.0            28873374   \n",
       "93                             Kick-Ass 2   28000000.0            28795985   \n",
       "94                     Dallas Buyers Club    5000000.0            27298285   \n",
       "95                                   Rush   38000000.0            26947624   \n",
       "96                               The Host   40000000.0            26627201   \n",
       "97                        The World's End   20000000.0            26004851   \n",
       "98                            21 and Over   13000000.0            25682380   \n",
       "99                                    Her   23000000.0            25568251   \n",
       "\n",
       "                      Director Rating  Runtime          ReleaseDate  \\\n",
       "0             Francis Lawrence  PG-13      146  2013-11-22 00:00:00   \n",
       "1                  Shane Black  PG-13      129  2013-05-03 00:00:00   \n",
       "2       Chris BuckJennifer Lee     PG      108  2013-11-22 00:00:00   \n",
       "3    Pierre CoffinChris Renaud     PG       98  2013-07-03 00:00:00   \n",
       "4                  Zack Snyder  PG-13      143  2013-06-14 00:00:00   \n",
       "5               Alfonso Cuaron  PG-13       91  2013-10-04 00:00:00   \n",
       "8                   Justin Lin  PG-13      130  2013-05-24 00:00:00   \n",
       "9                    Sam Raimi     PG      127  2013-03-08 00:00:00   \n",
       "10                 J.J. Abrams  PG-13      123  2013-05-16 00:00:00   \n",
       "11                 Alan Taylor  PG-13      120  2013-11-08 00:00:00   \n",
       "12                Marc Forster  PG-13      116  2013-06-21 00:00:00   \n",
       "13  Kirk De MiccoChris Sanders     PG       98  2013-03-22 00:00:00   \n",
       "14                   Paul Feig      R      117  2013-06-28 00:00:00   \n",
       "15     Rawson Marshall Thurber      R      110  2013-08-07 00:00:00   \n",
       "16            David O. Russell      R      138  2013-12-13 00:00:00   \n",
       "17                Baz Luhrmann  PG-13      143  2013-05-10 00:00:00   \n",
       "18                   James Wan      R      112  2013-07-19 00:00:00   \n",
       "19                 Seth Gordon      R      111  2013-02-08 00:00:00   \n",
       "20                Dennis Dugan  PG-13      101  2013-07-12 00:00:00   \n",
       "21               James Mangold  PG-13      126  2013-07-26 00:00:00   \n",
       "22                  Adam McKay  PG-13      119  2013-12-18 00:00:00   \n",
       "23                  Peter Berg      R      121  2013-12-25 00:00:00   \n",
       "24                     Jon Chu  PG-13       99  2013-03-28 00:00:00   \n",
       "26             Louis Leterrier  PG-13      116  2013-05-31 00:00:00   \n",
       "27             Martin Scorsese      R      180  2013-12-25 00:00:00   \n",
       "28                 Lee Daniels  PG-13      132  2013-08-16 00:00:00   \n",
       "29               Todd Phillips      R      100  2013-05-23 00:00:00   \n",
       "30                 Chris Wedge     PG      102  2013-05-24 00:00:00   \n",
       "31             Paul Greengrass  PG-13      134  2013-10-11 00:00:00   \n",
       "32               Jeff Tremaine      R       93  2013-10-25 00:00:00   \n",
       "33          Guillermo del Toro  PG-13      131  2013-07-12 00:00:00   \n",
       "34     Evan GoldbergSeth Rogen      R      107  2013-06-12 00:00:00   \n",
       "35               Antoine Fuqua      R      120  2013-03-22 00:00:00   \n",
       "36             Brian Helgeland  PG-13      128  2013-04-12 00:00:00   \n",
       "37              Neill Blomkamp      R      109  2013-08-09 00:00:00   \n",
       "38                   Klay Hall     PG       92  2013-08-09 00:00:00   \n",
       "39              Gore Verbinski  PG-13      149  2013-07-03 00:00:00   \n",
       "40             Joseph Kosinski  PG-13      125  2013-04-19 00:00:00   \n",
       "41                   James Wan  PG-13      105  2013-09-13 00:00:00   \n",
       "42            John Lee Hancock  PG-13      120  2013-12-13 00:00:00   \n",
       "43                 David Soren     PG       96  2013-07-17 00:00:00   \n",
       "44           Baltasar Kormakur      R      109  2013-08-02 00:00:00   \n",
       "45             Roland Emmerich  PG-13      137  2013-06-28 00:00:00   \n",
       "46           Andres Muschietti  PG-13      100  2013-01-18 00:00:00   \n",
       "47             Lasse Hallstrom  PG-13      115  2013-02-14 00:00:00   \n",
       "48                Raja Gosnell     PG      105  2013-07-31 00:00:00   \n",
       "49              Malcolm D. Lee      R      122  2013-11-15 00:00:00   \n",
       "50            Thor Freudenthal     PG      106  2013-08-07 00:00:00   \n",
       "51                  John Moore      R       97  2013-02-14 00:00:00   \n",
       "52             Jonathan Levine  PG-13       97  2013-02-01 00:00:00   \n",
       "53                Bryan Singer  PG-13      114  2013-03-01 00:00:00   \n",
       "54              James DeMonaco      R       85  2013-06-07 00:00:00   \n",
       "55              Jon Turteltaub  PG-13       90  2013-11-01 00:00:00   \n",
       "56                  Gavin Hood  PG-13      114  2013-11-01 00:00:00   \n",
       "57            Denis Villeneuve      R      146  2013-09-20 00:00:00   \n",
       "58          M. Night Shyamalan  PG-13      100  2013-05-31 00:00:00   \n",
       "59                 Ben Stiller     PG      114  2013-12-25 00:00:00   \n",
       "60                 Cal Brunker     PG       89  2013-02-15 00:00:00   \n",
       "61          Steve McQueen (II)      R      133  2013-10-18 00:00:00   \n",
       "62               Jimmy Hayward     PG       90  2013-11-01 00:00:00   \n",
       "63               Tommy Wirkola      R       88  2013-01-25 00:00:00   \n",
       "64                Fede Alvarez      R       91  2013-04-05 00:00:00   \n",
       "65                Dean Parisot  PG-13      116  2013-07-19 00:00:00   \n",
       "68               Brad Anderson      R       95  2013-03-15 00:00:00   \n",
       "69                 Michael Bay      R      129  2013-04-26 00:00:00   \n",
       "70             Ruben Fleischer      R      113  2013-01-11 00:00:00   \n",
       "72                  Shawn Levy  PG-13      119  2013-06-07 00:00:00   \n",
       "75                 David Twohy      R      119  2013-09-06 00:00:00   \n",
       "76              Michael Tiddes      R       80  2013-01-11 00:00:00   \n",
       "77                 Carl Rinsch  PG-13      127  2013-12-25 00:00:00   \n",
       "79              Stephen Frears  PG-13       95  2013-11-22 00:00:00   \n",
       "80                  Luc Besson      R      112  2013-09-13 00:00:00   \n",
       "81  Barry CookNeil Nightingale     PG       87  2013-12-20 00:00:00   \n",
       "82             Kimberly Peirce      R       92  2013-10-18 00:00:00   \n",
       "84            Robert Schwentke  PG-13       96  2013-07-19 00:00:00   \n",
       "88              Malcolm D. Lee  PG-13       85  2013-04-12 00:00:00   \n",
       "89                Harald Zwart  PG-13      120  2013-08-21 00:00:00   \n",
       "90                   Ken Scott  PG-13      105  2013-11-22 00:00:00   \n",
       "91                 Peter Segal  PG-13      113  2013-12-25 00:00:00   \n",
       "92             Morgan Spurlock     PG       92  2013-08-30 00:00:00   \n",
       "93                 Jeff Wadlow      R      103  2013-08-16 00:00:00   \n",
       "94            Jean-Marc Vallee      R      117  2013-11-01 00:00:00   \n",
       "95                  Ron Howard      R      123  2013-09-20 00:00:00   \n",
       "96               Andrew Niccol  PG-13      125  2013-03-29 00:00:00   \n",
       "97                Edgar Wright      R      109  2013-08-23 00:00:00   \n",
       "98        Jon LucasScott Moore      R       93  2013-03-01 00:00:00   \n",
       "99                 Spike Jonze      R      120  2013-12-18 00:00:00   \n",
       "\n",
       "    Rating_bin  \n",
       "0            2  \n",
       "1            2  \n",
       "2            3  \n",
       "3            3  \n",
       "4            2  \n",
       "5            2  \n",
       "8            2  \n",
       "9            3  \n",
       "10           2  \n",
       "11           2  \n",
       "12           2  \n",
       "13           3  \n",
       "14           1  \n",
       "15           1  \n",
       "16           1  \n",
       "17           2  \n",
       "18           1  \n",
       "19           1  \n",
       "20           2  \n",
       "21           2  \n",
       "22           2  \n",
       "23           1  \n",
       "24           2  \n",
       "26           2  \n",
       "27           1  \n",
       "28           2  \n",
       "29           1  \n",
       "30           3  \n",
       "31           2  \n",
       "32           1  \n",
       "33           2  \n",
       "34           1  \n",
       "35           1  \n",
       "36           2  \n",
       "37           1  \n",
       "38           3  \n",
       "39           2  \n",
       "40           2  \n",
       "41           2  \n",
       "42           2  \n",
       "43           3  \n",
       "44           1  \n",
       "45           2  \n",
       "46           2  \n",
       "47           2  \n",
       "48           3  \n",
       "49           1  \n",
       "50           3  \n",
       "51           1  \n",
       "52           2  \n",
       "53           2  \n",
       "54           1  \n",
       "55           2  \n",
       "56           2  \n",
       "57           1  \n",
       "58           2  \n",
       "59           3  \n",
       "60           3  \n",
       "61           1  \n",
       "62           3  \n",
       "63           1  \n",
       "64           1  \n",
       "65           2  \n",
       "68           1  \n",
       "69           1  \n",
       "70           1  \n",
       "72           2  \n",
       "75           1  \n",
       "76           1  \n",
       "77           2  \n",
       "79           2  \n",
       "80           1  \n",
       "81           3  \n",
       "82           1  \n",
       "84           2  \n",
       "88           2  \n",
       "89           2  \n",
       "90           2  \n",
       "91           2  \n",
       "92           3  \n",
       "93           1  \n",
       "94           1  \n",
       "95           1  \n",
       "96           2  \n",
       "97           1  \n",
       "98           1  \n",
       "99           1  "
      ]
     },
     "execution_count": 55,
     "metadata": {},
     "output_type": "execute_result"
    }
   ],
   "source": [
    "df3.dropna()"
   ]
  },
  {
   "cell_type": "code",
   "execution_count": 56,
   "metadata": {
    "collapsed": false
   },
   "outputs": [],
   "source": [
    "y, X = np.ravel(df3[['Rating_bin']]), df3[['Rating_bin', 'DomesticTotalGross']]"
   ]
  },
  {
   "cell_type": "code",
   "execution_count": 57,
   "metadata": {
    "collapsed": true
   },
   "outputs": [],
   "source": [
    "logreg3 = LogisticRegression(C=10)\n",
    "KNN3 = KNeighborsClassifier(n_neighbors=6)"
   ]
  },
  {
   "cell_type": "code",
   "execution_count": 58,
   "metadata": {
    "collapsed": false
   },
   "outputs": [
    {
     "name": "stderr",
     "output_type": "stream",
     "text": [
      "/Users/whitneychia/anaconda/lib/python2.7/site-packages/sklearn/cross_validation.py:516: Warning: The least populated class in y has only 1 members, which is too few. The minimum number of labels for any class cannot be less than n_folds=3.\n",
      "  % (min_labels, self.n_folds)), Warning)\n"
     ]
    }
   ],
   "source": [
    "lr3_cross_val = cross_val_score(logreg3, X, y)\n",
    "KNN3_cross_val = cross_val_score(KNN3, X, y)"
   ]
  },
  {
   "cell_type": "code",
   "execution_count": 59,
   "metadata": {
    "collapsed": false
   },
   "outputs": [
    {
     "name": "stdout",
     "output_type": "stream",
     "text": [
      "The accuracy through cross_val for logistic regression is: 0.689455510068\n",
      "The accuracy through cross_val for KNN is: 0.924137931034\n"
     ]
    }
   ],
   "source": [
    "print 'The accuracy through cross_val for logistic regression is: ' + str(np.mean(lr_cross_val))\n",
    "print 'The accuracy through cross_val for KNN is: ' + str(np.mean(knn_cross_val))"
   ]
  },
  {
   "cell_type": "code",
   "execution_count": 60,
   "metadata": {
    "collapsed": true
   },
   "outputs": [],
   "source": [
    "df3['all_PG13'] = [2 for x in df3['Rating_bin']]"
   ]
  },
  {
   "cell_type": "code",
   "execution_count": 61,
   "metadata": {
    "collapsed": false
   },
   "outputs": [
    {
     "name": "stdout",
     "output_type": "stream",
     "text": [
      "the accuracy_score of the dummy prediction is: 0.47\n",
      "Both KNN and logistic regression perform better than the dummy prediction\n"
     ]
    }
   ],
   "source": [
    "print 'the accuracy_score of the dummy prediction is: ' + str(accuracy_score(df3['Rating_bin'], df3['all_PG13']))\n",
    "print 'Both KNN and logistic regression perform better than the dummy prediction'"
   ]
  },
  {
   "cell_type": "code",
   "execution_count": 62,
   "metadata": {
    "collapsed": false
   },
   "outputs": [
    {
     "data": {
      "text/plain": [
       "array([[ -4.25276186e-16,  -7.03183167e-09],\n",
       "       [  1.27804807e-17,   4.71945999e-10],\n",
       "       [ -2.45583971e-16,  -1.03876992e-08],\n",
       "       [ -3.32708440e-15,  -4.73607155e-08]])"
      ]
     },
     "execution_count": 62,
     "metadata": {},
     "output_type": "execute_result"
    }
   ],
   "source": [
    "logreg3.fit(X, y)\n",
    "logreg3.coef_"
   ]
  },
  {
   "cell_type": "markdown",
   "metadata": {},
   "source": [
    "This would suggest that an important feature is DomesticTotalGross and that Budget doesn't matter at all."
   ]
  },
  {
   "cell_type": "markdown",
   "metadata": {},
   "source": [
    "# <a id='question12'></a>\n",
    "# Question 12  \n",
    "[Top](#top)"
   ]
  },
  {
   "cell_type": "code",
   "execution_count": 63,
   "metadata": {
    "collapsed": true
   },
   "outputs": [],
   "source": [
    "df4 = pd.read_csv('haberman.data', header=None)"
   ]
  },
  {
   "cell_type": "code",
   "execution_count": 64,
   "metadata": {
    "collapsed": true
   },
   "outputs": [],
   "source": [
    "df4.columns = ['age', 'year_operation', 'positive_nodes', 'survival_status']"
   ]
  },
  {
   "cell_type": "code",
   "execution_count": 65,
   "metadata": {
    "collapsed": false
   },
   "outputs": [
    {
     "data": {
      "text/html": [
       "<div>\n",
       "<table border=\"1\" class=\"dataframe\">\n",
       "  <thead>\n",
       "    <tr style=\"text-align: right;\">\n",
       "      <th></th>\n",
       "      <th>age</th>\n",
       "      <th>year_operation</th>\n",
       "      <th>positive_nodes</th>\n",
       "      <th>survival_status</th>\n",
       "    </tr>\n",
       "  </thead>\n",
       "  <tbody>\n",
       "    <tr>\n",
       "      <th>0</th>\n",
       "      <td>30</td>\n",
       "      <td>64</td>\n",
       "      <td>1</td>\n",
       "      <td>1</td>\n",
       "    </tr>\n",
       "    <tr>\n",
       "      <th>1</th>\n",
       "      <td>30</td>\n",
       "      <td>62</td>\n",
       "      <td>3</td>\n",
       "      <td>1</td>\n",
       "    </tr>\n",
       "    <tr>\n",
       "      <th>2</th>\n",
       "      <td>30</td>\n",
       "      <td>65</td>\n",
       "      <td>0</td>\n",
       "      <td>1</td>\n",
       "    </tr>\n",
       "    <tr>\n",
       "      <th>3</th>\n",
       "      <td>31</td>\n",
       "      <td>59</td>\n",
       "      <td>2</td>\n",
       "      <td>1</td>\n",
       "    </tr>\n",
       "    <tr>\n",
       "      <th>4</th>\n",
       "      <td>31</td>\n",
       "      <td>65</td>\n",
       "      <td>4</td>\n",
       "      <td>1</td>\n",
       "    </tr>\n",
       "  </tbody>\n",
       "</table>\n",
       "</div>"
      ],
      "text/plain": [
       "   age  year_operation  positive_nodes  survival_status\n",
       "0   30              64               1                1\n",
       "1   30              62               3                1\n",
       "2   30              65               0                1\n",
       "3   31              59               2                1\n",
       "4   31              65               4                1"
      ]
     },
     "execution_count": 65,
     "metadata": {},
     "output_type": "execute_result"
    }
   ],
   "source": [
    "df4.head()"
   ]
  },
  {
   "cell_type": "code",
   "execution_count": 66,
   "metadata": {
    "collapsed": false
   },
   "outputs": [
    {
     "name": "stdout",
     "output_type": "stream",
     "text": [
      "The average age of all patients is 52.4575163399 and the standard deviation is 10.8034523493\n"
     ]
    }
   ],
   "source": [
    "print 'The average age of all patients is ' + str(df4['age'].mean())\\\n",
    "+ ' and the standard deviation is ' + str(df4['age'].std())"
   ]
  },
  {
   "cell_type": "code",
   "execution_count": 67,
   "metadata": {
    "collapsed": false
   },
   "outputs": [
    {
     "name": "stdout",
     "output_type": "stream",
     "text": [
      "The average age of patients that live longer than 5 years is 52.0177777778 and the standard deviation is 11.0121541799\n"
     ]
    }
   ],
   "source": [
    "over_5 = df4[df4['survival_status'] == 1]\n",
    "print 'The average age of patients that live longer than 5 years is ' + str(over_5['age'].mean())\\\n",
    "+ ' and the standard deviation is ' + str(over_5['age'].std())"
   ]
  },
  {
   "cell_type": "code",
   "execution_count": 68,
   "metadata": {
    "collapsed": false
   },
   "outputs": [
    {
     "name": "stdout",
     "output_type": "stream",
     "text": [
      "The average age of patients that live fewer than 5 years is 53.6790123457 and the standard deviation is 10.1671372083\n"
     ]
    }
   ],
   "source": [
    "less_5 = df4[df4['survival_status'] == 2]\n",
    "print 'The average age of patients that live fewer than 5 years is ' + str(less_5['age'].mean())\\\n",
    "+ ' and the standard deviation is ' + str(less_5['age'].std())"
   ]
  },
  {
   "cell_type": "code",
   "execution_count": 69,
   "metadata": {
    "collapsed": false
   },
   "outputs": [
    {
     "data": {
      "text/plain": [
       "<matplotlib.legend.Legend at 0x1186f8810>"
      ]
     },
     "execution_count": 69,
     "metadata": {},
     "output_type": "execute_result"
    },
    {
     "data": {
      "image/png": "[encoded data removed]",
      "text/plain": [
       "<matplotlib.figure.Figure at 0x118d7bcd0>"
      ]
     },
     "metadata": {},
     "output_type": "display_data"
    }
   ],
   "source": [
    "plt.legend(handles=[red, blue], loc = 0 )\n",
    "plt.hist(df4['age'], color = 'red')\n",
    "plt.title(\"Age and Positive Node Histogram\")\n",
    "red = mpatches.Patch(color='red', label='age')\n",
    "blue = mpatches.Patch(color='blue', label='positive_nodes')\n",
    "plt.xlabel(\"Number\")\n",
    "plt.ylabel(\"Frequency\")\n",
    "plt.hist(df4['positive_nodes'], color = 'blue')\n",
    "plt.legend(handles=[red, blue], loc='best')"
   ]
  },
  {
   "cell_type": "code",
   "execution_count": 70,
   "metadata": {
    "collapsed": false,
    "scrolled": true
   },
   "outputs": [
    {
     "name": "stdout",
     "output_type": "stream",
     "text": [
      "The earliest year of surgery in the dataset was 1958\n",
      "The latest year of surgery in the dataset was 1969\n"
     ]
    }
   ],
   "source": [
    "print 'The earliest year of surgery in the dataset was 19' + str(df4['year_operation'].min())\n",
    "print 'The latest year of surgery in the dataset was 19' + str(df4['year_operation'].max())"
   ]
  },
  {
   "cell_type": "code",
   "execution_count": 71,
   "metadata": {
    "collapsed": true
   },
   "outputs": [],
   "source": [
    "y, X = dmatrices('survival_status ~ age + year_operation + positive_nodes', data=df4, return_type='dataframe')"
   ]
  },
  {
   "cell_type": "code",
   "execution_count": 72,
   "metadata": {
    "collapsed": true
   },
   "outputs": [],
   "source": [
    "x_train, x_test, y_train, y_test = cv.train_test_split(X,y,test_size=.30, random_state=4444)"
   ]
  },
  {
   "cell_type": "code",
   "execution_count": 73,
   "metadata": {
    "collapsed": false,
    "scrolled": true
   },
   "outputs": [
    {
     "name": "stdout",
     "output_type": "stream",
     "text": [
      "the accuracy_score of logistic regression is: 0.815217391304\n"
     ]
    },
    {
     "name": "stderr",
     "output_type": "stream",
     "text": [
      "/Users/whitneychia/anaconda/lib/python2.7/site-packages/sklearn/utils/validation.py:515: DataConversionWarning: A column-vector y was passed when a 1d array was expected. Please change the shape of y to (n_samples, ), for example using ravel().\n",
      "  y = column_or_1d(y, warn=True)\n"
     ]
    }
   ],
   "source": [
    "logreg_UCI = LogisticRegression()\n",
    "logreg_UCI.fit(x_train, y_train)\n",
    "pred_UCI = logreg_UCI.predict(x_test)\n",
    "print 'the accuracy_score of logistic regression is: ' + str(accuracy_score(y_test, pred_UCI))"
   ]
  },
  {
   "cell_type": "code",
   "execution_count": 75,
   "metadata": {
    "collapsed": false,
    "scrolled": true
   },
   "outputs": [
    {
     "data": {
      "text/plain": [
       "array([[-0.22616426,  0.01571678, -0.02588034,  0.07139464]])"
      ]
     },
     "execution_count": 75,
     "metadata": {},
     "output_type": "execute_result"
    }
   ],
   "source": [
    "logreg_UCI.coef_"
   ]
  },
  {
   "cell_type": "markdown",
   "metadata": {},
   "source": [
    "This suggests that the most important feature is the last one, which is positive nodes."
   ]
  },
  {
   "cell_type": "code",
   "execution_count": 76,
   "metadata": {
    "collapsed": false
   },
   "outputs": [
    {
     "data": {
      "text/plain": [
       "(array([ 29,  32,  35,  38,  42,  45,  48,  52,  55,  58,  62,  65,  68,\n",
       "         71,  75,  78,  81,  85,  88,  91,  95,  98, 101, 104, 108, 111,\n",
       "        114, 118, 121, 124, 128, 131, 134, 138, 141, 144, 147, 151, 154,\n",
       "        157, 161, 164, 167, 171, 174, 177, 180, 184, 187, 190, 194, 197,\n",
       "        200, 204, 207, 210, 214, 217, 220, 223, 227, 230, 233, 237, 240,\n",
       "        243, 247, 250, 253, 256, 260, 263, 266, 270, 273, 276, 280, 283,\n",
       "        286, 290]), array([[ 1.        ,  0.96551724,  0.96551724],\n",
       "        [ 1.        ,  0.96875   ,  0.96875   ],\n",
       "        [ 1.        ,  0.97142857,  0.97142857],\n",
       "        [ 1.        ,  0.97368421,  0.97368421],\n",
       "        [ 1.        ,  0.97619048,  0.97619048],\n",
       "        [ 1.        ,  0.97777778,  0.97777778],\n",
       "        [ 1.        ,  0.97916667,  0.97916667],\n",
       "        [ 1.        ,  0.98076923,  0.98076923],\n",
       "        [ 1.        ,  0.98181818,  0.98181818],\n",
       "        [ 1.        ,  0.98275862,  0.98275862],\n",
       "        [ 1.        ,  0.98387097,  0.98387097],\n",
       "        [ 1.        ,  0.98461538,  0.98461538],\n",
       "        [ 1.        ,  0.98529412,  0.98529412],\n",
       "        [ 0.98591549,  0.98591549,  0.98591549],\n",
       "        [ 0.98666667,  0.97333333,  0.97333333],\n",
       "        [ 0.98717949,  0.97435897,  0.97435897],\n",
       "        [ 0.97530864,  0.97530864,  0.97530864],\n",
       "        [ 0.98823529,  0.97647059,  0.97647059],\n",
       "        [ 0.98863636,  0.97727273,  0.97727273],\n",
       "        [ 0.97802198,  0.97802198,  0.97802198],\n",
       "        [ 0.98947368,  0.97894737,  0.97894737],\n",
       "        [ 0.98979592,  0.97959184,  0.97959184],\n",
       "        [ 0.99009901,  0.98019802,  0.98019802],\n",
       "        [ 0.98076923,  0.98076923,  0.98076923],\n",
       "        [ 0.98148148,  0.97222222,  0.97222222],\n",
       "        [ 0.98198198,  0.97297297,  0.97297297],\n",
       "        [ 0.98245614,  0.97368421,  0.97368421],\n",
       "        [ 0.98305085,  0.97457627,  0.97457627],\n",
       "        [ 0.97520661,  0.97520661,  0.97520661],\n",
       "        [ 0.97580645,  0.97580645,  0.97580645],\n",
       "        [ 0.9765625 ,  0.9765625 ,  0.9765625 ],\n",
       "        [ 0.97709924,  0.97709924,  0.97709924],\n",
       "        [ 0.97761194,  0.97761194,  0.97761194],\n",
       "        [ 0.97826087,  0.97826087,  0.97826087],\n",
       "        [ 0.9787234 ,  0.9787234 ,  0.9787234 ],\n",
       "        [ 0.97916667,  0.97222222,  0.97916667],\n",
       "        [ 0.97959184,  0.97278912,  0.97959184],\n",
       "        [ 0.98013245,  0.97350993,  0.97350993],\n",
       "        [ 0.98051948,  0.97402597,  0.98051948],\n",
       "        [ 0.98089172,  0.97452229,  0.98089172],\n",
       "        [ 0.98136646,  0.97515528,  0.97515528],\n",
       "        [ 0.98170732,  0.97560976,  0.9695122 ],\n",
       "        [ 0.98203593,  0.9760479 ,  0.97005988],\n",
       "        [ 0.97660819,  0.97660819,  0.97660819],\n",
       "        [ 0.97701149,  0.97701149,  0.97701149],\n",
       "        [ 0.97740113,  0.97740113,  0.97740113],\n",
       "        [ 0.97777778,  0.97777778,  0.97777778],\n",
       "        [ 0.97826087,  0.97826087,  0.97826087],\n",
       "        [ 0.97860963,  0.97860963,  0.97860963],\n",
       "        [ 0.97894737,  0.97894737,  0.97894737],\n",
       "        [ 0.97938144,  0.97938144,  0.97938144],\n",
       "        [ 0.97969543,  0.97969543,  0.97969543],\n",
       "        [ 0.98      ,  0.98      ,  0.98      ],\n",
       "        [ 0.98039216,  0.98039216,  0.98039216],\n",
       "        [ 0.98067633,  0.98067633,  0.98067633],\n",
       "        [ 0.98095238,  0.98095238,  0.98095238],\n",
       "        [ 0.98130841,  0.97196262,  0.98130841],\n",
       "        [ 0.98156682,  0.97235023,  0.98156682],\n",
       "        [ 0.98181818,  0.97272727,  0.98181818],\n",
       "        [ 0.98206278,  0.97309417,  0.98206278],\n",
       "        [ 0.97797357,  0.97356828,  0.98237885],\n",
       "        [ 0.97826087,  0.97391304,  0.97826087],\n",
       "        [ 0.97854077,  0.96995708,  0.97854077],\n",
       "        [ 0.97890295,  0.97046414,  0.97890295],\n",
       "        [ 0.97916667,  0.96666667,  0.97916667],\n",
       "        [ 0.97942387,  0.96707819,  0.97530864],\n",
       "        [ 0.9757085 ,  0.96356275,  0.9757085 ],\n",
       "        [ 0.968     ,  0.964     ,  0.972     ],\n",
       "        [ 0.96837945,  0.96442688,  0.97233202],\n",
       "        [ 0.96875   ,  0.96484375,  0.97265625],\n",
       "        [ 0.96923077,  0.96538462,  0.97307692],\n",
       "        [ 0.96577947,  0.96197719,  0.97338403],\n",
       "        [ 0.96616541,  0.96240602,  0.97368421],\n",
       "        [ 0.96666667,  0.96296296,  0.97037037],\n",
       "        [ 0.96703297,  0.96336996,  0.97069597],\n",
       "        [ 0.9673913 ,  0.96376812,  0.97463768],\n",
       "        [ 0.96785714,  0.96428571,  0.97142857],\n",
       "        [ 0.96819788,  0.96466431,  0.97173145],\n",
       "        [ 0.96853147,  0.96503497,  0.97202797],\n",
       "        [ 0.96896552,  0.96551724,  0.97241379]]), array([[ 0.97241379,  0.89655172,  0.88965517],\n",
       "        [ 0.96551724,  0.89655172,  0.88965517],\n",
       "        [ 0.96551724,  0.89655172,  0.88965517],\n",
       "        [ 0.96551724,  0.91034483,  0.88965517],\n",
       "        [ 0.96551724,  0.91034483,  0.88965517],\n",
       "        [ 0.96551724,  0.90344828,  0.88965517],\n",
       "        [ 0.96551724,  0.90344828,  0.88275862],\n",
       "        [ 0.96551724,  0.90344828,  0.88275862],\n",
       "        [ 0.96551724,  0.90344828,  0.88275862],\n",
       "        [ 0.96551724,  0.90344828,  0.88275862],\n",
       "        [ 0.97241379,  0.90344828,  0.88275862],\n",
       "        [ 0.97241379,  0.90344828,  0.88275862],\n",
       "        [ 0.97241379,  0.90344828,  0.88275862],\n",
       "        [ 0.97241379,  0.90344828,  0.88275862],\n",
       "        [ 0.97241379,  0.91034483,  0.91034483],\n",
       "        [ 0.97241379,  0.91724138,  0.88965517],\n",
       "        [ 0.97241379,  0.91724138,  0.88965517],\n",
       "        [ 0.97241379,  0.91724138,  0.88965517],\n",
       "        [ 0.97241379,  0.91724138,  0.89655172],\n",
       "        [ 0.97241379,  0.91724138,  0.89655172],\n",
       "        [ 0.97241379,  0.91034483,  0.89655172],\n",
       "        [ 0.97241379,  0.91724138,  0.89655172],\n",
       "        [ 0.97241379,  0.92413793,  0.90344828],\n",
       "        [ 0.97241379,  0.92413793,  0.90344828],\n",
       "        [ 0.97241379,  0.93103448,  0.90344828],\n",
       "        [ 0.97241379,  0.93103448,  0.90344828],\n",
       "        [ 0.97241379,  0.93103448,  0.90344828],\n",
       "        [ 0.97241379,  0.93103448,  0.90344828],\n",
       "        [ 0.97241379,  0.93103448,  0.90344828],\n",
       "        [ 0.96551724,  0.93103448,  0.90344828],\n",
       "        [ 0.96551724,  0.93103448,  0.90344828],\n",
       "        [ 0.96551724,  0.93103448,  0.90344828],\n",
       "        [ 0.96551724,  0.93103448,  0.90344828],\n",
       "        [ 0.96551724,  0.92413793,  0.90344828],\n",
       "        [ 0.96551724,  0.92413793,  0.90344828],\n",
       "        [ 0.96551724,  0.92413793,  0.91724138],\n",
       "        [ 0.97241379,  0.93103448,  0.91034483],\n",
       "        [ 0.96551724,  0.93103448,  0.90344828],\n",
       "        [ 0.97241379,  0.92413793,  0.91034483],\n",
       "        [ 0.97241379,  0.93103448,  0.91724138],\n",
       "        [ 0.97241379,  0.92413793,  0.91724138],\n",
       "        [ 0.97241379,  0.92413793,  0.92413793],\n",
       "        [ 0.97241379,  0.92413793,  0.93103448],\n",
       "        [ 0.97241379,  0.94482759,  0.93103448],\n",
       "        [ 0.97241379,  0.94482759,  0.93103448],\n",
       "        [ 0.97241379,  0.94482759,  0.93103448],\n",
       "        [ 0.97241379,  0.94482759,  0.93103448],\n",
       "        [ 0.97241379,  0.95172414,  0.93103448],\n",
       "        [ 0.97241379,  0.95172414,  0.93103448],\n",
       "        [ 0.97241379,  0.95172414,  0.93103448],\n",
       "        [ 0.97241379,  0.95172414,  0.93103448],\n",
       "        [ 0.97241379,  0.95172414,  0.93103448],\n",
       "        [ 0.97241379,  0.95172414,  0.93103448],\n",
       "        [ 0.97241379,  0.95172414,  0.93103448],\n",
       "        [ 0.97241379,  0.95172414,  0.93103448],\n",
       "        [ 0.97241379,  0.95172414,  0.93103448],\n",
       "        [ 0.97241379,  0.95862069,  0.93103448],\n",
       "        [ 0.97241379,  0.95862069,  0.93103448],\n",
       "        [ 0.97241379,  0.95172414,  0.93103448],\n",
       "        [ 0.97241379,  0.95172414,  0.93103448],\n",
       "        [ 0.97241379,  0.95172414,  0.93103448],\n",
       "        [ 0.97241379,  0.95172414,  0.93103448],\n",
       "        [ 0.97241379,  0.95172414,  0.93103448],\n",
       "        [ 0.97241379,  0.95172414,  0.93103448],\n",
       "        [ 0.97931034,  0.95172414,  0.93103448],\n",
       "        [ 0.97931034,  0.95172414,  0.93793103],\n",
       "        [ 0.97931034,  0.95172414,  0.93793103],\n",
       "        [ 0.97931034,  0.95862069,  0.93793103],\n",
       "        [ 0.97931034,  0.95862069,  0.93793103],\n",
       "        [ 0.97931034,  0.95862069,  0.93793103],\n",
       "        [ 0.97931034,  0.95862069,  0.93793103],\n",
       "        [ 0.97931034,  0.96551724,  0.93793103],\n",
       "        [ 0.97931034,  0.96551724,  0.93793103],\n",
       "        [ 0.97931034,  0.96551724,  0.93793103],\n",
       "        [ 0.97931034,  0.96551724,  0.93793103],\n",
       "        [ 0.97931034,  0.96551724,  0.93793103],\n",
       "        [ 0.97931034,  0.96551724,  0.94482759],\n",
       "        [ 0.97931034,  0.96551724,  0.93793103],\n",
       "        [ 0.97931034,  0.96551724,  0.93793103],\n",
       "        [ 0.97931034,  0.96551724,  0.93793103]]))"
      ]
     },
     "execution_count": 76,
     "metadata": {},
     "output_type": "execute_result"
    }
   ],
   "source": [
    "log_learn_hab = learning_curve(logreg_UCI, df.values[:,1:], df.values[:,0], train_sizes = np.linspace(0.1, 1.0, 80))\n",
    "log_learn_hab"
   ]
  },
  {
   "cell_type": "code",
   "execution_count": 77,
   "metadata": {
    "collapsed": true
   },
   "outputs": [],
   "source": [
    "train_cv_log_reg_err = np.mean(log_learn_hab[1], axis=1)\n",
    "test_cv_log_reg_err = np.mean(log_learn_hab[2], axis=1)\n",
    "m = log_learn_hab[0]"
   ]
  },
  {
   "cell_type": "code",
   "execution_count": 78,
   "metadata": {
    "collapsed": false
   },
   "outputs": [
    {
     "data": {
      "text/plain": [
       "<matplotlib.text.Text at 0x119cc8550>"
      ]
     },
     "execution_count": 78,
     "metadata": {},
     "output_type": "execute_result"
    },
    {
     "data": {
      "image/png": "[encoded data removed]",
      "text/plain": [
       "<matplotlib.figure.Figure at 0x119c7f4d0>"
      ]
     },
     "metadata": {},
     "output_type": "display_data"
    }
   ],
   "source": [
    "plt.plot(m, train_cv_log_reg_err, 'red')\n",
    "plt.plot(m, test_cv_log_reg_err, 'blue')\n",
    "red = mpatches.Patch(color='red', label='training error')\n",
    "blue = mpatches.Patch(color='blue', label='testing error')\n",
    "plt.legend(handles=[red, blue], loc = 0 )\n",
    "plt.title('Training and Test error of Haberman Logistic Regression model')"
   ]
  },
  {
   "cell_type": "code",
   "execution_count": null,
   "metadata": {
    "collapsed": true
   },
   "outputs": [],
   "source": []
  }
 ],
 "metadata": {
  "kernelspec": {
   "display_name": "Python 2",
   "language": "python",
   "name": "python2"
  },
  "language_info": {
   "codemirror_mode": {
    "name": "ipython",
    "version": 2
   },
   "file_extension": ".py",
   "mimetype": "text/x-python",
   "name": "python",
   "nbconvert_exporter": "python",
   "pygments_lexer": "ipython2",
   "version": "2.7.12"
  }
 },
 "nbformat": 4,
 "nbformat_minor": 0
}
