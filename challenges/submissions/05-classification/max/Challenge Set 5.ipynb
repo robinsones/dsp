{
 "cells": [
  {
   "cell_type": "markdown",
   "metadata": {},
   "source": [
    "<center>\n",
    "<font size=5px><b>\n",
    "Challenge Set 5\n",
    "</font>\n",
    "</center>"
   ]
  },
  {
   "cell_type": "markdown",
   "metadata": {},
   "source": [
    "| Topic:    | Classification        |\n",
    "| :-------- | --------------------: |\n",
    "| Student:  | Max Farago            |\n",
    "| Date Due: | 08/01/2016            |"
   ]
  },
  {
   "cell_type": "markdown",
   "metadata": {},
   "source": [
    "## Challenge 1\n",
    "\n",
    "__Load the data into a pandas dataframe and replace 'y's with 1s, 'n's with 0s__"
   ]
  },
  {
   "cell_type": "code",
   "execution_count": 70,
   "metadata": {
    "collapsed": true
   },
   "outputs": [],
   "source": [
    "import pandas as pd\n",
    "import numpy as np"
   ]
  },
  {
   "cell_type": "code",
   "execution_count": 84,
   "metadata": {
    "collapsed": false
   },
   "outputs": [
    {
     "data": {
      "text/html": [
       "<div>\n",
       "<table border=\"1\" class=\"dataframe\">\n",
       "  <thead>\n",
       "    <tr style=\"text-align: right;\">\n",
       "      <th></th>\n",
       "      <th>Vote_1</th>\n",
       "      <th>Vote_2</th>\n",
       "      <th>Vote_3</th>\n",
       "      <th>Vote_4</th>\n",
       "      <th>Vote_5</th>\n",
       "      <th>Vote_6</th>\n",
       "      <th>Vote_7</th>\n",
       "      <th>Vote_8</th>\n",
       "      <th>Vote_9</th>\n",
       "      <th>Vote_10</th>\n",
       "      <th>Vote_11</th>\n",
       "      <th>Vote_12</th>\n",
       "      <th>Vote_13</th>\n",
       "      <th>Vote_14</th>\n",
       "      <th>Vote_15</th>\n",
       "      <th>Vote_16</th>\n",
       "    </tr>\n",
       "  </thead>\n",
       "  <tbody>\n",
       "    <tr>\n",
       "      <th>republican</th>\n",
       "      <td>0</td>\n",
       "      <td>1</td>\n",
       "      <td>0</td>\n",
       "      <td>1</td>\n",
       "      <td>1</td>\n",
       "      <td>1</td>\n",
       "      <td>0</td>\n",
       "      <td>0</td>\n",
       "      <td>0</td>\n",
       "      <td>1</td>\n",
       "      <td>?</td>\n",
       "      <td>1</td>\n",
       "      <td>1</td>\n",
       "      <td>1</td>\n",
       "      <td>0</td>\n",
       "      <td>1</td>\n",
       "    </tr>\n",
       "    <tr>\n",
       "      <th>republican</th>\n",
       "      <td>0</td>\n",
       "      <td>1</td>\n",
       "      <td>0</td>\n",
       "      <td>1</td>\n",
       "      <td>1</td>\n",
       "      <td>1</td>\n",
       "      <td>0</td>\n",
       "      <td>0</td>\n",
       "      <td>0</td>\n",
       "      <td>0</td>\n",
       "      <td>0</td>\n",
       "      <td>1</td>\n",
       "      <td>1</td>\n",
       "      <td>1</td>\n",
       "      <td>0</td>\n",
       "      <td>?</td>\n",
       "    </tr>\n",
       "    <tr>\n",
       "      <th>democrat</th>\n",
       "      <td>?</td>\n",
       "      <td>1</td>\n",
       "      <td>1</td>\n",
       "      <td>?</td>\n",
       "      <td>1</td>\n",
       "      <td>1</td>\n",
       "      <td>0</td>\n",
       "      <td>0</td>\n",
       "      <td>0</td>\n",
       "      <td>0</td>\n",
       "      <td>1</td>\n",
       "      <td>0</td>\n",
       "      <td>1</td>\n",
       "      <td>1</td>\n",
       "      <td>0</td>\n",
       "      <td>0</td>\n",
       "    </tr>\n",
       "    <tr>\n",
       "      <th>democrat</th>\n",
       "      <td>0</td>\n",
       "      <td>1</td>\n",
       "      <td>1</td>\n",
       "      <td>0</td>\n",
       "      <td>?</td>\n",
       "      <td>1</td>\n",
       "      <td>0</td>\n",
       "      <td>0</td>\n",
       "      <td>0</td>\n",
       "      <td>0</td>\n",
       "      <td>1</td>\n",
       "      <td>0</td>\n",
       "      <td>1</td>\n",
       "      <td>0</td>\n",
       "      <td>0</td>\n",
       "      <td>1</td>\n",
       "    </tr>\n",
       "    <tr>\n",
       "      <th>democrat</th>\n",
       "      <td>1</td>\n",
       "      <td>1</td>\n",
       "      <td>1</td>\n",
       "      <td>0</td>\n",
       "      <td>1</td>\n",
       "      <td>1</td>\n",
       "      <td>0</td>\n",
       "      <td>0</td>\n",
       "      <td>0</td>\n",
       "      <td>0</td>\n",
       "      <td>1</td>\n",
       "      <td>?</td>\n",
       "      <td>1</td>\n",
       "      <td>1</td>\n",
       "      <td>1</td>\n",
       "      <td>1</td>\n",
       "    </tr>\n",
       "  </tbody>\n",
       "</table>\n",
       "</div>"
      ],
      "text/plain": [
       "           Vote_1 Vote_2 Vote_3 Vote_4 Vote_5 Vote_6 Vote_7 Vote_8 Vote_9  \\\n",
       "republican      0      1      0      1      1      1      0      0      0   \n",
       "republican      0      1      0      1      1      1      0      0      0   \n",
       "democrat        ?      1      1      ?      1      1      0      0      0   \n",
       "democrat        0      1      1      0      ?      1      0      0      0   \n",
       "democrat        1      1      1      0      1      1      0      0      0   \n",
       "\n",
       "           Vote_10 Vote_11 Vote_12 Vote_13 Vote_14 Vote_15 Vote_16  \n",
       "republican       1       ?       1       1       1       0       1  \n",
       "republican       0       0       1       1       1       0       ?  \n",
       "democrat         0       1       0       1       1       0       0  \n",
       "democrat         0       1       0       1       0       0       1  \n",
       "democrat         0       1       ?       1       1       1       1  "
      ]
     },
     "execution_count": 84,
     "metadata": {},
     "output_type": "execute_result"
    }
   ],
   "source": [
    "vList = [\"Vote_\" + str(i) for i in range(1,17)]\n",
    "df1 = pd.read_csv(\"house-votes-84.data\", names = vList)\n",
    "df1.replace(['y', 'n'], [1, 0], inplace=True)\n",
    "df1.head()"
   ]
  },
  {
   "cell_type": "markdown",
   "metadata": {},
   "source": [
    "__Convert each '?' to the mean of the column)__"
   ]
  },
  {
   "cell_type": "code",
   "execution_count": 86,
   "metadata": {
    "collapsed": false
   },
   "outputs": [
    {
     "data": {
      "text/html": [
       "<div>\n",
       "<table border=\"1\" class=\"dataframe\">\n",
       "  <thead>\n",
       "    <tr style=\"text-align: right;\">\n",
       "      <th></th>\n",
       "      <th>Vote_1</th>\n",
       "      <th>Vote_2</th>\n",
       "      <th>Vote_3</th>\n",
       "      <th>Vote_4</th>\n",
       "      <th>Vote_5</th>\n",
       "      <th>Vote_6</th>\n",
       "      <th>Vote_7</th>\n",
       "      <th>Vote_8</th>\n",
       "      <th>Vote_9</th>\n",
       "      <th>Vote_10</th>\n",
       "      <th>Vote_11</th>\n",
       "      <th>Vote_12</th>\n",
       "      <th>Vote_13</th>\n",
       "      <th>Vote_14</th>\n",
       "      <th>Vote_15</th>\n",
       "      <th>Vote_16</th>\n",
       "    </tr>\n",
       "  </thead>\n",
       "  <tbody>\n",
       "    <tr>\n",
       "      <th>republican</th>\n",
       "      <td>0.0</td>\n",
       "      <td>1.0</td>\n",
       "      <td>0.0</td>\n",
       "      <td>1.0</td>\n",
       "      <td>1.0</td>\n",
       "      <td>1.0</td>\n",
       "      <td>0.0</td>\n",
       "      <td>0.0</td>\n",
       "      <td>0.0</td>\n",
       "      <td>1.0</td>\n",
       "      <td>0.4</td>\n",
       "      <td>1.0</td>\n",
       "      <td>1.0</td>\n",
       "      <td>1.0</td>\n",
       "      <td>0.0</td>\n",
       "      <td>1.0</td>\n",
       "    </tr>\n",
       "    <tr>\n",
       "      <th>republican</th>\n",
       "      <td>0.0</td>\n",
       "      <td>1.0</td>\n",
       "      <td>0.0</td>\n",
       "      <td>1.0</td>\n",
       "      <td>1.0</td>\n",
       "      <td>1.0</td>\n",
       "      <td>0.0</td>\n",
       "      <td>0.0</td>\n",
       "      <td>0.0</td>\n",
       "      <td>0.0</td>\n",
       "      <td>0.0</td>\n",
       "      <td>1.0</td>\n",
       "      <td>1.0</td>\n",
       "      <td>1.0</td>\n",
       "      <td>0.0</td>\n",
       "      <td>0.8</td>\n",
       "    </tr>\n",
       "    <tr>\n",
       "      <th>democrat</th>\n",
       "      <td>0.4</td>\n",
       "      <td>1.0</td>\n",
       "      <td>1.0</td>\n",
       "      <td>0.4</td>\n",
       "      <td>1.0</td>\n",
       "      <td>1.0</td>\n",
       "      <td>0.0</td>\n",
       "      <td>0.0</td>\n",
       "      <td>0.0</td>\n",
       "      <td>0.0</td>\n",
       "      <td>1.0</td>\n",
       "      <td>0.0</td>\n",
       "      <td>1.0</td>\n",
       "      <td>1.0</td>\n",
       "      <td>0.0</td>\n",
       "      <td>0.0</td>\n",
       "    </tr>\n",
       "    <tr>\n",
       "      <th>democrat</th>\n",
       "      <td>0.0</td>\n",
       "      <td>1.0</td>\n",
       "      <td>1.0</td>\n",
       "      <td>0.0</td>\n",
       "      <td>0.5</td>\n",
       "      <td>1.0</td>\n",
       "      <td>0.0</td>\n",
       "      <td>0.0</td>\n",
       "      <td>0.0</td>\n",
       "      <td>0.0</td>\n",
       "      <td>1.0</td>\n",
       "      <td>0.0</td>\n",
       "      <td>1.0</td>\n",
       "      <td>0.0</td>\n",
       "      <td>0.0</td>\n",
       "      <td>1.0</td>\n",
       "    </tr>\n",
       "    <tr>\n",
       "      <th>democrat</th>\n",
       "      <td>1.0</td>\n",
       "      <td>1.0</td>\n",
       "      <td>1.0</td>\n",
       "      <td>0.0</td>\n",
       "      <td>1.0</td>\n",
       "      <td>1.0</td>\n",
       "      <td>0.0</td>\n",
       "      <td>0.0</td>\n",
       "      <td>0.0</td>\n",
       "      <td>0.0</td>\n",
       "      <td>1.0</td>\n",
       "      <td>0.4</td>\n",
       "      <td>1.0</td>\n",
       "      <td>1.0</td>\n",
       "      <td>1.0</td>\n",
       "      <td>1.0</td>\n",
       "    </tr>\n",
       "  </tbody>\n",
       "</table>\n",
       "</div>"
      ],
      "text/plain": [
       "            Vote_1  Vote_2  Vote_3  Vote_4  Vote_5  Vote_6  Vote_7  Vote_8  \\\n",
       "republican     0.0     1.0     0.0     1.0     1.0     1.0     0.0     0.0   \n",
       "republican     0.0     1.0     0.0     1.0     1.0     1.0     0.0     0.0   \n",
       "democrat       0.4     1.0     1.0     0.4     1.0     1.0     0.0     0.0   \n",
       "democrat       0.0     1.0     1.0     0.0     0.5     1.0     0.0     0.0   \n",
       "democrat       1.0     1.0     1.0     0.0     1.0     1.0     0.0     0.0   \n",
       "\n",
       "            Vote_9  Vote_10  Vote_11  Vote_12  Vote_13  Vote_14  Vote_15  \\\n",
       "republican     0.0      1.0      0.4      1.0      1.0      1.0      0.0   \n",
       "republican     0.0      0.0      0.0      1.0      1.0      1.0      0.0   \n",
       "democrat       0.0      0.0      1.0      0.0      1.0      1.0      0.0   \n",
       "democrat       0.0      0.0      1.0      0.0      1.0      0.0      0.0   \n",
       "democrat       0.0      0.0      1.0      0.4      1.0      1.0      1.0   \n",
       "\n",
       "            Vote_16  \n",
       "republican      1.0  \n",
       "republican      0.8  \n",
       "democrat        0.0  \n",
       "democrat        1.0  \n",
       "democrat        1.0  "
      ]
     },
     "execution_count": 86,
     "metadata": {},
     "output_type": "execute_result"
    }
   ],
   "source": [
    "for col in df1.columns.values:\n",
    "    df1[col].replace('?', round( df1[df1[col] != '?'][col].mean(), 1 ), inplace=True)\n",
    "df1.head()"
   ]
  },
  {
   "cell_type": "markdown",
   "metadata": {},
   "source": [
    "## Challenge 2\n",
    "\n",
    "__Split the data into a test and training set__"
   ]
  },
  {
   "cell_type": "code",
   "execution_count": 4,
   "metadata": {
    "collapsed": false
   },
   "outputs": [],
   "source": [
    "from sklearn.cross_validation import train_test_split"
   ]
  },
  {
   "cell_type": "code",
   "execution_count": 100,
   "metadata": {
    "collapsed": false
   },
   "outputs": [
    {
     "name": "stdout",
     "output_type": "stream",
     "text": [
      "[[ 0.   1.   0.  ...,  1.   0.   1. ]\n",
      " [ 0.   1.   0.  ...,  1.   0.   0.8]\n",
      " [ 0.4  1.   1.  ...,  1.   0.   0. ]\n",
      " ..., \n",
      " [ 0.   0.5  0.  ...,  1.   0.   1. ]\n",
      " [ 0.   0.   0.  ...,  1.   0.   1. ]\n",
      " [ 0.   1.   0.  ...,  1.   0.4  0. ]]\n"
     ]
    }
   ],
   "source": [
    "print df1.values"
   ]
  },
  {
   "cell_type": "code",
   "execution_count": 101,
   "metadata": {
    "collapsed": false
   },
   "outputs": [],
   "source": [
    "ydata = df1.index.values\n",
    "xdata = df1.values\n",
    "xTrain, xTest, yTrain, yTest = train_test_split(xdata, ydata, test_size=0.30, random_state=4444)"
   ]
  },
  {
   "cell_type": "markdown",
   "metadata": {},
   "source": [
    "### Challenge 3\n",
    "\n",
    "__Using scikit.learn's KNN algorithm, train a model that predicts the party (republican/democrat)__"
   ]
  },
  {
   "cell_type": "code",
   "execution_count": 102,
   "metadata": {
    "collapsed": true
   },
   "outputs": [],
   "source": [
    "from sklearn.neighbors import KNeighborsClassifier"
   ]
  },
  {
   "cell_type": "markdown",
   "metadata": {},
   "source": [
    "__Try it with k values from 1 to 20.__"
   ]
  },
  {
   "cell_type": "code",
   "execution_count": 104,
   "metadata": {
    "collapsed": false
   },
   "outputs": [],
   "source": [
    "#modelList = [\"k\" + str(i) for i in range(1,21)]\n",
    "modelDictKNN = { \"k\" + str(k) : KNeighborsClassifier(k).fit(xTrain, yTrain).predict(xTest) for k in range(1,21)}"
   ]
  },
  {
   "cell_type": "markdown",
   "metadata": {},
   "source": [
    "__On the test set calculate the accuracy (number of correct predictions / number of all predictions) for each k__"
   ]
  },
  {
   "cell_type": "code",
   "execution_count": 105,
   "metadata": {
    "collapsed": true
   },
   "outputs": [],
   "source": [
    "from sklearn.metrics import accuracy_score"
   ]
  },
  {
   "cell_type": "code",
   "execution_count": 107,
   "metadata": {
    "collapsed": false
   },
   "outputs": [],
   "source": [
    "accDict = { x: accuracy_score(yTest, modelDictKNN[x]) for x in modelDictKNN.keys()}"
   ]
  },
  {
   "cell_type": "markdown",
   "metadata": {},
   "source": [
    "__Which k value gives the highest accuracy?__"
   ]
  },
  {
   "cell_type": "code",
   "execution_count": 123,
   "metadata": {
    "collapsed": false
   },
   "outputs": [
    {
     "name": "stdout",
     "output_type": "stream",
     "text": [
      "Highest accuracy is 0.931297709924 from k value: 9\n"
     ]
    }
   ],
   "source": [
    "print (\"Highest accuracy is \" + str(max(accDict.values()[::-1])) + \n",
    "       \" from k value: \" + max(accDict)[1:])"
   ]
  },
  {
   "cell_type": "code",
   "execution_count": 170,
   "metadata": {
    "collapsed": false
   },
   "outputs": [
    {
     "data": {
      "text/plain": [
       "0.93129770992366412"
      ]
     },
     "execution_count": 170,
     "metadata": {},
     "output_type": "execute_result"
    }
   ],
   "source": [
    "kList = [ int(x[1:]) for x in accDict.keys() ]\n",
    "x, y = zip(*sorted(zip(kList, accDict.values()), key=lambda x: x[0], reverse=True))\n",
    "max(y)"
   ]
  },
  {
   "cell_type": "code",
   "execution_count": 166,
   "metadata": {
    "collapsed": false
   },
   "outputs": [
    {
     "name": "stdout",
     "output_type": "stream",
     "text": [
      "(20, 19, 18)\n"
     ]
    }
   ],
   "source": [
    "a = [(20, 0.91603053435114501), (19, 0.92366412213740456), (18, 0.91603053435114501)]\n",
    "b = [(17, 0.92366412213740456), (16, 0.92366412213740456), (15, 0.92366412213740456)]\n",
    "x,y = zip(*a)\n",
    "print x"
   ]
  },
  {
   "cell_type": "markdown",
   "metadata": {},
   "source": [
    "### Challenge 4\n",
    "\n",
    "__Make a similar model with LogisticRegression and check accuracy__"
   ]
  },
  {
   "cell_type": "code",
   "execution_count": 11,
   "metadata": {
    "collapsed": true
   },
   "outputs": [],
   "source": [
    "from sklearn.linear_model import LogisticRegression"
   ]
  },
  {
   "cell_type": "code",
   "execution_count": 12,
   "metadata": {
    "collapsed": false
   },
   "outputs": [
    {
     "data": {
      "text/plain": [
       "0.93893129770992367"
      ]
     },
     "execution_count": 12,
     "metadata": {},
     "output_type": "execute_result"
    }
   ],
   "source": [
    "modelLR = LogisticRegression()\n",
    "accLR = accuracy_score(modelLR.fit(xTrain, yTrain).predict(xTest), yTest)\n",
    "accLR"
   ]
  },
  {
   "cell_type": "markdown",
   "metadata": {},
   "source": [
    "### Challenge 5\n",
    "\n",
    "__Make a bar graph of democrats and republicans.__"
   ]
  },
  {
   "cell_type": "code",
   "execution_count": 13,
   "metadata": {
    "collapsed": true
   },
   "outputs": [],
   "source": [
    "import matplotlib.pyplot as plt\n",
    "%matplotlib inline\n",
    "import seaborn as sns\n",
    "sns.set(style=\"darkgrid\")"
   ]
  },
  {
   "cell_type": "code",
   "execution_count": 14,
   "metadata": {
    "collapsed": false
   },
   "outputs": [
    {
     "data": {
      "image/png": "[encoded data removed]",
      "text/plain": [
       "<matplotlib.figure.Figure at 0x11353da90>"
      ]
     },
     "metadata": {},
     "output_type": "display_data"
    }
   ],
   "source": [
    "ax = sns.countplot(df.index, data=df)"
   ]
  },
  {
   "cell_type": "markdown",
   "metadata": {},
   "source": [
    "__How many of each are there?__"
   ]
  },
  {
   "cell_type": "code",
   "execution_count": 15,
   "metadata": {
    "collapsed": false
   },
   "outputs": [
    {
     "name": "stdout",
     "output_type": "stream",
     "text": [
      "Democrats: 267 / Republicans: 168\n"
     ]
    }
   ],
   "source": [
    "numDems, numReps = len([x for x in df.index if x == \"democrat\"]), len([x for x in df.index if x == \"republican\"])\n",
    "print \"Democrats: \" + str(numDems) + \" / Republicans: \" + str(numReps)"
   ]
  },
  {
   "cell_type": "markdown",
   "metadata": {},
   "source": [
    "__Make a very simple predictor that predicts 'democrat' for every incoming example.  Do the same with predicting 'republican' all the time__"
   ]
  },
  {
   "cell_type": "code",
   "execution_count": 16,
   "metadata": {
    "collapsed": false
   },
   "outputs": [],
   "source": [
    "def simpleDemPred(inputX):\n",
    "    return [\"democrat\" for x in inputX]\n",
    "\n",
    "def simpleRepPred(inputX):\n",
    "    return [\"republican\" for x in inputX]"
   ]
  },
  {
   "cell_type": "markdown",
   "metadata": {},
   "source": [
    "__Measure accuracy__"
   ]
  },
  {
   "cell_type": "code",
   "execution_count": 17,
   "metadata": {
    "collapsed": false
   },
   "outputs": [
    {
     "name": "stdout",
     "output_type": "stream",
     "text": [
      "0.613793103448\n",
      "0.386206896552\n"
     ]
    }
   ],
   "source": [
    "accSD = accuracy_score(df.index, simpleDemPred(df.index))\n",
    "print accSD\n",
    "accSR = accuracy_score(df.index, simpleRepPred(df.index))\n",
    "print accSR"
   ]
  },
  {
   "cell_type": "code",
   "execution_count": 18,
   "metadata": {
    "collapsed": false
   },
   "outputs": [
    {
     "name": "stdout",
     "output_type": "stream",
     "text": [
      "0.613793103448\n",
      "0.386206896552\n"
     ]
    }
   ],
   "source": [
    "print float(numDems) / len(df.index)\n",
    "print float(numReps) / len(df.index)"
   ]
  },
  {
   "cell_type": "markdown",
   "metadata": {},
   "source": [
    "### Challenge 6\n",
    "\n",
    "__Plot the accuracies as a function of k__"
   ]
  },
  {
   "cell_type": "code",
   "execution_count": 19,
   "metadata": {
    "collapsed": false
   },
   "outputs": [
    {
     "data": {
      "text/plain": [
       "[<matplotlib.lines.Line2D at 0x119d73ad0>]"
      ]
     },
     "execution_count": 19,
     "metadata": {},
     "output_type": "execute_result"
    },
    {
     "data": {
      "image/png": "[encoded data removed]",
      "text/plain": [
       "<matplotlib.figure.Figure at 0x11353ddd0>"
      ]
     },
     "metadata": {},
     "output_type": "display_data"
    }
   ],
   "source": [
    "dfAcc = pd.DataFrame(columns=[\"KNN\", \"LR\", \"SD\", \"SR\"])\n",
    "for i in range(1, 21):\n",
    "    dfAcc.loc[i] = [accDict[\"n\"+str(i)], accLR, accSD, accSR]\n",
    "    \n",
    "plt.plot(dfAcc.index, dfAcc.KNN, '-')\n",
    "plt.plot(dfAcc.index, dfAcc.LR, '-')\n",
    "plt.plot(dfAcc.index, dfAcc.SD, '-')\n",
    "plt.plot(dfAcc.index, dfAcc.SR, '-')"
   ]
  },
  {
   "cell_type": "markdown",
   "metadata": {},
   "source": [
    "### Challenge 7\n",
    "\n",
    "__Plot a learning curve for the logistic regression model and KNN model with best k value__"
   ]
  },
  {
   "cell_type": "code",
   "execution_count": 20,
   "metadata": {
    "collapsed": true
   },
   "outputs": [],
   "source": [
    "from sklearn.learning_curve import learning_curve"
   ]
  },
  {
   "cell_type": "code",
   "execution_count": 66,
   "metadata": {
    "collapsed": false
   },
   "outputs": [],
   "source": [
    "trainSizesLR, trainScoresLR, testScoresLR = (  # Learning Curve for Logistic Regression model\n",
    "    learning_curve(estimator=modelLR, X=xdata, y=ydata, train_sizes=np.linspace(0.1, 1.0, 15)))\n",
    "trainScoresLR_m = np.mean(trainScoresLR, axis=1)\n",
    "testScoresLR_m = np.mean(testScoresLR, axis=1)"
   ]
  },
  {
   "cell_type": "code",
   "execution_count": 22,
   "metadata": {
    "collapsed": false
   },
   "outputs": [],
   "source": [
    "modelKNN = KNeighborsClassifier(10)\n",
    "trainSizesKNN, trainScoresKNN, testScoresKNN = ( # Learning Curve for KNN model with best k value\n",
    "    learning_curve(estimator=modelKNN, X=xdata, y=ydata, train_sizes=np.linspace(0.1, 1.0, 15)))\n",
    "trainScoresKNN_m = np.mean(trainScoresKNN, axis=1)\n",
    "testScoresKNN_m = np.mean(testScoresKNN, axis=1)"
   ]
  },
  {
   "cell_type": "code",
   "execution_count": 23,
   "metadata": {
    "collapsed": false
   },
   "outputs": [
    {
     "data": {
      "text/plain": [
       "[<matplotlib.lines.Line2D at 0x119f51690>]"
      ]
     },
     "execution_count": 23,
     "metadata": {},
     "output_type": "execute_result"
    },
    {
     "data": {
      "image/png": "[encoded data removed]",
      "text/plain": [
       "<matplotlib.figure.Figure at 0x119ada550>"
      ]
     },
     "metadata": {},
     "output_type": "display_data"
    }
   ],
   "source": [
    "plt.plot(trainSizesLR, trainScoresLR_m, '-')\n",
    "plt.plot(trainSizesLR, testScoresLR_m, '-')\n",
    "plt.plot(trainSizesKNN, trainScoresKNN_m, '-')\n",
    "plt.plot(trainSizesKNN, testScoresKNN_m, '-')"
   ]
  },
  {
   "cell_type": "markdown",
   "metadata": {},
   "source": [
    "### Challenge 8\n",
    "\n",
    "__Use different algorithms to classify your data and print the test accuracy of each__"
   ]
  },
  {
   "cell_type": "markdown",
   "metadata": {},
   "source": [
    "*8a: Gaussian Naive Bayes*"
   ]
  },
  {
   "cell_type": "code",
   "execution_count": 24,
   "metadata": {
    "collapsed": true
   },
   "outputs": [],
   "source": [
    "from sklearn.naive_bayes import GaussianNB"
   ]
  },
  {
   "cell_type": "code",
   "execution_count": 25,
   "metadata": {
    "collapsed": false
   },
   "outputs": [
    {
     "name": "stdout",
     "output_type": "stream",
     "text": [
      "0.93893129771\n"
     ]
    }
   ],
   "source": [
    "modelGNB = GaussianNB()\n",
    "accGNB = accuracy_score(modelGNB.fit(xTrain, yTrain).predict(xTest), yTest)\n",
    "print accGNB"
   ]
  },
  {
   "cell_type": "markdown",
   "metadata": {},
   "source": [
    "*8b: SVM (Support Vector Machine) Classifier*"
   ]
  },
  {
   "cell_type": "code",
   "execution_count": 26,
   "metadata": {
    "collapsed": true
   },
   "outputs": [],
   "source": [
    "from sklearn.svm import SVC"
   ]
  },
  {
   "cell_type": "code",
   "execution_count": 27,
   "metadata": {
    "collapsed": false
   },
   "outputs": [
    {
     "name": "stdout",
     "output_type": "stream",
     "text": [
      "0.954198473282\n"
     ]
    }
   ],
   "source": [
    "modelSVM = SVC()\n",
    "accSVM = accuracy_score(modelSVM.fit(xTrain, yTrain).predict(xTest), yTest)\n",
    "print accSVM"
   ]
  },
  {
   "cell_type": "markdown",
   "metadata": {},
   "source": [
    "*8c: Decision Tree Classifier:*"
   ]
  },
  {
   "cell_type": "code",
   "execution_count": 28,
   "metadata": {
    "collapsed": true
   },
   "outputs": [],
   "source": [
    "from sklearn.tree import DecisionTreeClassifier"
   ]
  },
  {
   "cell_type": "code",
   "execution_count": 29,
   "metadata": {
    "collapsed": false
   },
   "outputs": [
    {
     "name": "stdout",
     "output_type": "stream",
     "text": [
      "0.946564885496\n"
     ]
    }
   ],
   "source": [
    "modelDT = DecisionTreeClassifier()\n",
    "accDT = accuracy_score(modelDT.fit(xTrain, yTrain).predict(xTest), yTest)\n",
    "print accDT"
   ]
  },
  {
   "cell_type": "markdown",
   "metadata": {},
   "source": [
    "*8d: Random Forest Classifier*"
   ]
  },
  {
   "cell_type": "code",
   "execution_count": 30,
   "metadata": {
    "collapsed": true
   },
   "outputs": [],
   "source": [
    "from sklearn.ensemble import RandomForestClassifier"
   ]
  },
  {
   "cell_type": "code",
   "execution_count": 31,
   "metadata": {
    "collapsed": false
   },
   "outputs": [
    {
     "name": "stdout",
     "output_type": "stream",
     "text": [
      "0.93893129771\n"
     ]
    }
   ],
   "source": [
    "modelRF = RandomForestClassifier()\n",
    "accRF = accuracy_score(modelRF.fit(xTrain, yTrain).predict(xTest), yTest)\n",
    "print accRF"
   ]
  },
  {
   "cell_type": "markdown",
   "metadata": {},
   "source": [
    "### Challenge 9\n",
    "__Use *cross_val_train* function to calculate the cross validation score of each of the classifiers you tried before__"
   ]
  },
  {
   "cell_type": "code",
   "execution_count": 32,
   "metadata": {
    "collapsed": true
   },
   "outputs": [],
   "source": [
    "from sklearn.cross_validation import cross_val_score"
   ]
  },
  {
   "cell_type": "code",
   "execution_count": 33,
   "metadata": {
    "collapsed": false
   },
   "outputs": [
    {
     "data": {
      "text/plain": [
       "[('KNN', 0.92873563218390809),\n",
       " ('LR', 0.96321839080459759),\n",
       " ('GNB', 0.93103448275862066),\n",
       " ('SVM', 0.95402298850574718),\n",
       " ('DT', 0.9517241379310345),\n",
       " ('RT', 0.94942528735632192)]"
      ]
     },
     "execution_count": 33,
     "metadata": {},
     "output_type": "execute_result"
    }
   ],
   "source": [
    "classifierList = [modelKNN, modelLR, modelGNB, modelSVM, modelDT, modelRF]\n",
    "meanList = zip([\"KNN\", \"LR\", \"GNB\", \"SVM\", \"DT\", \"RT\"] , [np.mean(cross_val_score(estimator=m, X=xdata, y=ydata)) for m in classifierList])\n",
    "meanList"
   ]
  },
  {
   "cell_type": "markdown",
   "metadata": {},
   "source": [
    "### Challenge 10\n",
    "\n",
    "__Predict the vote of a representative based on their other votes__"
   ]
  },
  {
   "cell_type": "markdown",
   "metadata": {},
   "source": [
    "__Reload the data from scratch and convert y-->1, n-->0__"
   ]
  },
  {
   "cell_type": "code",
   "execution_count": 34,
   "metadata": {
    "collapsed": false
   },
   "outputs": [
    {
     "data": {
      "text/html": [
       "<div>\n",
       "<table border=\"1\" class=\"dataframe\">\n",
       "  <thead>\n",
       "    <tr style=\"text-align: right;\">\n",
       "      <th></th>\n",
       "      <th>Vote_1</th>\n",
       "      <th>Vote_2</th>\n",
       "      <th>Vote_3</th>\n",
       "      <th>Vote_4</th>\n",
       "      <th>Vote_5</th>\n",
       "      <th>Vote_6</th>\n",
       "      <th>Vote_7</th>\n",
       "      <th>Vote_8</th>\n",
       "      <th>Vote_9</th>\n",
       "      <th>Vote_10</th>\n",
       "      <th>Vote_11</th>\n",
       "      <th>Vote_12</th>\n",
       "      <th>Vote_13</th>\n",
       "      <th>Vote_14</th>\n",
       "      <th>Vote_15</th>\n",
       "      <th>Vote_16</th>\n",
       "    </tr>\n",
       "  </thead>\n",
       "  <tbody>\n",
       "    <tr>\n",
       "      <th>republican</th>\n",
       "      <td>0</td>\n",
       "      <td>1</td>\n",
       "      <td>0</td>\n",
       "      <td>1</td>\n",
       "      <td>1</td>\n",
       "      <td>1</td>\n",
       "      <td>0</td>\n",
       "      <td>0</td>\n",
       "      <td>0</td>\n",
       "      <td>1</td>\n",
       "      <td>?</td>\n",
       "      <td>1</td>\n",
       "      <td>1</td>\n",
       "      <td>1</td>\n",
       "      <td>0</td>\n",
       "      <td>1</td>\n",
       "    </tr>\n",
       "    <tr>\n",
       "      <th>republican</th>\n",
       "      <td>0</td>\n",
       "      <td>1</td>\n",
       "      <td>0</td>\n",
       "      <td>1</td>\n",
       "      <td>1</td>\n",
       "      <td>1</td>\n",
       "      <td>0</td>\n",
       "      <td>0</td>\n",
       "      <td>0</td>\n",
       "      <td>0</td>\n",
       "      <td>0</td>\n",
       "      <td>1</td>\n",
       "      <td>1</td>\n",
       "      <td>1</td>\n",
       "      <td>0</td>\n",
       "      <td>?</td>\n",
       "    </tr>\n",
       "    <tr>\n",
       "      <th>democrat</th>\n",
       "      <td>?</td>\n",
       "      <td>1</td>\n",
       "      <td>1</td>\n",
       "      <td>?</td>\n",
       "      <td>1</td>\n",
       "      <td>1</td>\n",
       "      <td>0</td>\n",
       "      <td>0</td>\n",
       "      <td>0</td>\n",
       "      <td>0</td>\n",
       "      <td>1</td>\n",
       "      <td>0</td>\n",
       "      <td>1</td>\n",
       "      <td>1</td>\n",
       "      <td>0</td>\n",
       "      <td>0</td>\n",
       "    </tr>\n",
       "    <tr>\n",
       "      <th>democrat</th>\n",
       "      <td>0</td>\n",
       "      <td>1</td>\n",
       "      <td>1</td>\n",
       "      <td>0</td>\n",
       "      <td>?</td>\n",
       "      <td>1</td>\n",
       "      <td>0</td>\n",
       "      <td>0</td>\n",
       "      <td>0</td>\n",
       "      <td>0</td>\n",
       "      <td>1</td>\n",
       "      <td>0</td>\n",
       "      <td>1</td>\n",
       "      <td>0</td>\n",
       "      <td>0</td>\n",
       "      <td>1</td>\n",
       "    </tr>\n",
       "    <tr>\n",
       "      <th>democrat</th>\n",
       "      <td>1</td>\n",
       "      <td>1</td>\n",
       "      <td>1</td>\n",
       "      <td>0</td>\n",
       "      <td>1</td>\n",
       "      <td>1</td>\n",
       "      <td>0</td>\n",
       "      <td>0</td>\n",
       "      <td>0</td>\n",
       "      <td>0</td>\n",
       "      <td>1</td>\n",
       "      <td>?</td>\n",
       "      <td>1</td>\n",
       "      <td>1</td>\n",
       "      <td>1</td>\n",
       "      <td>1</td>\n",
       "    </tr>\n",
       "  </tbody>\n",
       "</table>\n",
       "</div>"
      ],
      "text/plain": [
       "           Vote_1 Vote_2 Vote_3 Vote_4 Vote_5 Vote_6 Vote_7 Vote_8 Vote_9  \\\n",
       "republican      0      1      0      1      1      1      0      0      0   \n",
       "republican      0      1      0      1      1      1      0      0      0   \n",
       "democrat        ?      1      1      ?      1      1      0      0      0   \n",
       "democrat        0      1      1      0      ?      1      0      0      0   \n",
       "democrat        1      1      1      0      1      1      0      0      0   \n",
       "\n",
       "           Vote_10 Vote_11 Vote_12 Vote_13 Vote_14 Vote_15 Vote_16  \n",
       "republican       1       ?       1       1       1       0       1  \n",
       "republican       0       0       1       1       1       0       ?  \n",
       "democrat         0       1       0       1       1       0       0  \n",
       "democrat         0       1       0       1       0       0       1  \n",
       "democrat         0       1       ?       1       1       1       1  "
      ]
     },
     "execution_count": 34,
     "metadata": {},
     "output_type": "execute_result"
    }
   ],
   "source": [
    "vList = [\"Vote_\" + str(i) for i in range(1,17)]\n",
    "df2 = pd.read_csv(\"house-votes-84.data\", names = vList)\n",
    "df2.replace(['y', 'n'], [1, 0], inplace=True)\n",
    "df2.head()"
   ]
  },
  {
   "cell_type": "markdown",
   "metadata": {},
   "source": [
    "__Build a classifier that uses the congressperson's other votes (do not use the party as a feature) to predict if the vote will be 1 or 0__"
   ]
  },
  {
   "cell_type": "code",
   "execution_count": 35,
   "metadata": {
    "collapsed": false
   },
   "outputs": [],
   "source": [
    "xdata2 = [ df2.loc[y].values for y in df2.index.values]\n",
    "modelLR2 = LogisticRegression()"
   ]
  },
  {
   "cell_type": "markdown",
   "metadata": {},
   "source": [
    "__Convert each ? to the mode of the column__"
   ]
  },
  {
   "cell_type": "code",
   "execution_count": 4,
   "metadata": {
    "collapsed": false
   },
   "outputs": [
    {
     "data": {
      "text/html": [
       "<div>\n",
       "<table border=\"1\" class=\"dataframe\">\n",
       "  <thead>\n",
       "    <tr style=\"text-align: right;\">\n",
       "      <th></th>\n",
       "      <th>Vote_1</th>\n",
       "      <th>Vote_2</th>\n",
       "      <th>Vote_3</th>\n",
       "      <th>Vote_4</th>\n",
       "      <th>Vote_5</th>\n",
       "      <th>Vote_6</th>\n",
       "      <th>Vote_7</th>\n",
       "      <th>Vote_8</th>\n",
       "      <th>Vote_9</th>\n",
       "      <th>Vote_10</th>\n",
       "      <th>Vote_11</th>\n",
       "      <th>Vote_12</th>\n",
       "      <th>Vote_13</th>\n",
       "      <th>Vote_14</th>\n",
       "      <th>Vote_15</th>\n",
       "      <th>Vote_16</th>\n",
       "    </tr>\n",
       "  </thead>\n",
       "  <tbody>\n",
       "    <tr>\n",
       "      <th>republican</th>\n",
       "      <td>0</td>\n",
       "      <td>1</td>\n",
       "      <td>0</td>\n",
       "      <td>1</td>\n",
       "      <td>1</td>\n",
       "      <td>1</td>\n",
       "      <td>0</td>\n",
       "      <td>0</td>\n",
       "      <td>0</td>\n",
       "      <td>1</td>\n",
       "      <td>0</td>\n",
       "      <td>1</td>\n",
       "      <td>1</td>\n",
       "      <td>1</td>\n",
       "      <td>0</td>\n",
       "      <td>1</td>\n",
       "    </tr>\n",
       "    <tr>\n",
       "      <th>republican</th>\n",
       "      <td>0</td>\n",
       "      <td>1</td>\n",
       "      <td>0</td>\n",
       "      <td>1</td>\n",
       "      <td>1</td>\n",
       "      <td>1</td>\n",
       "      <td>0</td>\n",
       "      <td>0</td>\n",
       "      <td>0</td>\n",
       "      <td>0</td>\n",
       "      <td>0</td>\n",
       "      <td>1</td>\n",
       "      <td>1</td>\n",
       "      <td>1</td>\n",
       "      <td>0</td>\n",
       "      <td>1</td>\n",
       "    </tr>\n",
       "    <tr>\n",
       "      <th>democrat</th>\n",
       "      <td>0</td>\n",
       "      <td>1</td>\n",
       "      <td>1</td>\n",
       "      <td>0</td>\n",
       "      <td>1</td>\n",
       "      <td>1</td>\n",
       "      <td>0</td>\n",
       "      <td>0</td>\n",
       "      <td>0</td>\n",
       "      <td>0</td>\n",
       "      <td>1</td>\n",
       "      <td>0</td>\n",
       "      <td>1</td>\n",
       "      <td>1</td>\n",
       "      <td>0</td>\n",
       "      <td>0</td>\n",
       "    </tr>\n",
       "    <tr>\n",
       "      <th>democrat</th>\n",
       "      <td>0</td>\n",
       "      <td>1</td>\n",
       "      <td>1</td>\n",
       "      <td>0</td>\n",
       "      <td>1</td>\n",
       "      <td>1</td>\n",
       "      <td>0</td>\n",
       "      <td>0</td>\n",
       "      <td>0</td>\n",
       "      <td>0</td>\n",
       "      <td>1</td>\n",
       "      <td>0</td>\n",
       "      <td>1</td>\n",
       "      <td>0</td>\n",
       "      <td>0</td>\n",
       "      <td>1</td>\n",
       "    </tr>\n",
       "    <tr>\n",
       "      <th>democrat</th>\n",
       "      <td>1</td>\n",
       "      <td>1</td>\n",
       "      <td>1</td>\n",
       "      <td>0</td>\n",
       "      <td>1</td>\n",
       "      <td>1</td>\n",
       "      <td>0</td>\n",
       "      <td>0</td>\n",
       "      <td>0</td>\n",
       "      <td>0</td>\n",
       "      <td>1</td>\n",
       "      <td>0</td>\n",
       "      <td>1</td>\n",
       "      <td>1</td>\n",
       "      <td>1</td>\n",
       "      <td>1</td>\n",
       "    </tr>\n",
       "  </tbody>\n",
       "</table>\n",
       "</div>"
      ],
      "text/plain": [
       "            Vote_1  Vote_2  Vote_3  Vote_4  Vote_5  Vote_6  Vote_7  Vote_8  \\\n",
       "republican       0       1       0       1       1       1       0       0   \n",
       "republican       0       1       0       1       1       1       0       0   \n",
       "democrat         0       1       1       0       1       1       0       0   \n",
       "democrat         0       1       1       0       1       1       0       0   \n",
       "democrat         1       1       1       0       1       1       0       0   \n",
       "\n",
       "            Vote_9  Vote_10  Vote_11  Vote_12  Vote_13  Vote_14  Vote_15  \\\n",
       "republican       0        1        0        1        1        1        0   \n",
       "republican       0        0        0        1        1        1        0   \n",
       "democrat         0        0        1        0        1        1        0   \n",
       "democrat         0        0        1        0        1        0        0   \n",
       "democrat         0        0        1        0        1        1        1   \n",
       "\n",
       "            Vote_16  \n",
       "republican        1  \n",
       "republican        1  \n",
       "democrat          0  \n",
       "democrat          1  \n",
       "democrat          1  "
      ]
     },
     "execution_count": 4,
     "metadata": {},
     "output_type": "execute_result"
    }
   ],
   "source": [
    "for x in df2.columns.values:\n",
    "    df2[x].replace('?', df2.mode()[x][0], inplace=True)\n",
    "df2.head()"
   ]
  },
  {
   "cell_type": "markdown",
   "metadata": {},
   "source": [
    "### Challenge 11\n",
    "\n",
    "__Using movie data, choose a categorical feature and make a bar graph of how many of each movie there is for each feature__"
   ]
  },
  {
   "cell_type": "code",
   "execution_count": 76,
   "metadata": {
    "collapsed": false
   },
   "outputs": [
    {
     "data": {
      "text/html": [
       "<div>\n",
       "<table border=\"1\" class=\"dataframe\">\n",
       "  <thead>\n",
       "    <tr style=\"text-align: right;\">\n",
       "      <th></th>\n",
       "      <th>Title</th>\n",
       "      <th>Budget</th>\n",
       "      <th>DomesticTotalGross</th>\n",
       "      <th>Director</th>\n",
       "      <th>Runtime</th>\n",
       "      <th>ReleaseDate</th>\n",
       "    </tr>\n",
       "    <tr>\n",
       "      <th>Rating</th>\n",
       "      <th></th>\n",
       "      <th></th>\n",
       "      <th></th>\n",
       "      <th></th>\n",
       "      <th></th>\n",
       "      <th></th>\n",
       "    </tr>\n",
       "  </thead>\n",
       "  <tbody>\n",
       "    <tr>\n",
       "      <th>G</th>\n",
       "      <td>1</td>\n",
       "      <td>0</td>\n",
       "      <td>1</td>\n",
       "      <td>1</td>\n",
       "      <td>1</td>\n",
       "      <td>1</td>\n",
       "    </tr>\n",
       "    <tr>\n",
       "      <th>PG</th>\n",
       "      <td>15</td>\n",
       "      <td>15</td>\n",
       "      <td>15</td>\n",
       "      <td>14</td>\n",
       "      <td>15</td>\n",
       "      <td>15</td>\n",
       "    </tr>\n",
       "    <tr>\n",
       "      <th>PG-13</th>\n",
       "      <td>47</td>\n",
       "      <td>41</td>\n",
       "      <td>47</td>\n",
       "      <td>45</td>\n",
       "      <td>47</td>\n",
       "      <td>47</td>\n",
       "    </tr>\n",
       "    <tr>\n",
       "      <th>R</th>\n",
       "      <td>37</td>\n",
       "      <td>33</td>\n",
       "      <td>37</td>\n",
       "      <td>36</td>\n",
       "      <td>37</td>\n",
       "      <td>37</td>\n",
       "    </tr>\n",
       "  </tbody>\n",
       "</table>\n",
       "</div>"
      ],
      "text/plain": [
       "        Title  Budget  DomesticTotalGross  Director  Runtime  ReleaseDate\n",
       "Rating                                                                   \n",
       "G           1       0                   1         1        1            1\n",
       "PG         15      15                  15        14       15           15\n",
       "PG-13      47      41                  47        45       47           47\n",
       "R          37      33                  37        36       37           37"
      ]
     },
     "execution_count": 76,
     "metadata": {},
     "output_type": "execute_result"
    }
   ],
   "source": [
    "df3 = pd.read_csv(\"../../../challenges_data/2013_movies.csv\")\n",
    "df3.groupby(\"Rating\").count()"
   ]
  },
  {
   "cell_type": "code",
   "execution_count": 78,
   "metadata": {
    "collapsed": false
   },
   "outputs": [
    {
     "data": {
      "text/html": [
       "<div>\n",
       "<table border=\"1\" class=\"dataframe\">\n",
       "  <thead>\n",
       "    <tr style=\"text-align: right;\">\n",
       "      <th></th>\n",
       "      <th>Title</th>\n",
       "      <th>Budget</th>\n",
       "      <th>DomesticTotalGross</th>\n",
       "      <th>Director</th>\n",
       "      <th>Runtime</th>\n",
       "      <th>ReleaseDate</th>\n",
       "    </tr>\n",
       "    <tr>\n",
       "      <th>Rating</th>\n",
       "      <th></th>\n",
       "      <th></th>\n",
       "      <th></th>\n",
       "      <th></th>\n",
       "      <th></th>\n",
       "      <th></th>\n",
       "    </tr>\n",
       "  </thead>\n",
       "  <tbody>\n",
       "    <tr>\n",
       "      <th>PG</th>\n",
       "      <td>14</td>\n",
       "      <td>14</td>\n",
       "      <td>14</td>\n",
       "      <td>14</td>\n",
       "      <td>14</td>\n",
       "      <td>14</td>\n",
       "    </tr>\n",
       "    <tr>\n",
       "      <th>PG-13</th>\n",
       "      <td>40</td>\n",
       "      <td>40</td>\n",
       "      <td>40</td>\n",
       "      <td>40</td>\n",
       "      <td>40</td>\n",
       "      <td>40</td>\n",
       "    </tr>\n",
       "    <tr>\n",
       "      <th>R</th>\n",
       "      <td>33</td>\n",
       "      <td>33</td>\n",
       "      <td>33</td>\n",
       "      <td>33</td>\n",
       "      <td>33</td>\n",
       "      <td>33</td>\n",
       "    </tr>\n",
       "  </tbody>\n",
       "</table>\n",
       "</div>"
      ],
      "text/plain": [
       "        Title  Budget  DomesticTotalGross  Director  Runtime  ReleaseDate\n",
       "Rating                                                                   \n",
       "PG         14      14                  14        14       14           14\n",
       "PG-13      40      40                  40        40       40           40\n",
       "R          33      33                  33        33       33           33"
      ]
     },
     "execution_count": 78,
     "metadata": {},
     "output_type": "execute_result"
    }
   ],
   "source": [
    "df3.dropna().groupby(\"Rating\").count() # Loses 13 observations"
   ]
  },
  {
   "cell_type": "markdown",
   "metadata": {},
   "source": [
    "__Replace missing numerical values with column means__"
   ]
  },
  {
   "cell_type": "code",
   "execution_count": 79,
   "metadata": {
    "collapsed": false
   },
   "outputs": [],
   "source": [
    "df3.Budget.replace(np.nan, df3.Budget.mean(), inplace=True)\n",
    "df3.DomesticTotalGross.replace(np.nan, df3.Budget.mean(), inplace=True)\n",
    "df3.Runtime.replace(np.nan, df3.Budget.mean(), inplace=True)"
   ]
  },
  {
   "cell_type": "code",
   "execution_count": 91,
   "metadata": {
    "collapsed": false
   },
   "outputs": [
    {
     "data": {
      "text/html": [
       "<div>\n",
       "<table border=\"1\" class=\"dataframe\">\n",
       "  <thead>\n",
       "    <tr style=\"text-align: right;\">\n",
       "      <th></th>\n",
       "      <th>Title</th>\n",
       "      <th>Budget</th>\n",
       "      <th>DomesticTotalGross</th>\n",
       "      <th>Director</th>\n",
       "      <th>Runtime</th>\n",
       "      <th>ReleaseDate</th>\n",
       "    </tr>\n",
       "    <tr>\n",
       "      <th>Rating</th>\n",
       "      <th></th>\n",
       "      <th></th>\n",
       "      <th></th>\n",
       "      <th></th>\n",
       "      <th></th>\n",
       "      <th></th>\n",
       "    </tr>\n",
       "  </thead>\n",
       "  <tbody>\n",
       "    <tr>\n",
       "      <th>G</th>\n",
       "      <td>1</td>\n",
       "      <td>1</td>\n",
       "      <td>1</td>\n",
       "      <td>1</td>\n",
       "      <td>1</td>\n",
       "      <td>1</td>\n",
       "    </tr>\n",
       "    <tr>\n",
       "      <th>PG</th>\n",
       "      <td>14</td>\n",
       "      <td>14</td>\n",
       "      <td>14</td>\n",
       "      <td>14</td>\n",
       "      <td>14</td>\n",
       "      <td>14</td>\n",
       "    </tr>\n",
       "    <tr>\n",
       "      <th>PG-13</th>\n",
       "      <td>45</td>\n",
       "      <td>45</td>\n",
       "      <td>45</td>\n",
       "      <td>45</td>\n",
       "      <td>45</td>\n",
       "      <td>45</td>\n",
       "    </tr>\n",
       "    <tr>\n",
       "      <th>R</th>\n",
       "      <td>36</td>\n",
       "      <td>36</td>\n",
       "      <td>36</td>\n",
       "      <td>36</td>\n",
       "      <td>36</td>\n",
       "      <td>36</td>\n",
       "    </tr>\n",
       "  </tbody>\n",
       "</table>\n",
       "</div>"
      ],
      "text/plain": [
       "        Title  Budget  DomesticTotalGross  Director  Runtime  ReleaseDate\n",
       "Rating                                                                   \n",
       "G           1       1                   1         1        1            1\n",
       "PG         14      14                  14        14       14           14\n",
       "PG-13      45      45                  45        45       45           45\n",
       "R          36      36                  36        36       36           36"
      ]
     },
     "execution_count": 91,
     "metadata": {},
     "output_type": "execute_result"
    }
   ],
   "source": [
    "df3.dropna().groupby(\"Rating\").count() # Loses only 4 observations (missing values for 'Director')"
   ]
  },
  {
   "cell_type": "code",
   "execution_count": 92,
   "metadata": {
    "collapsed": false
   },
   "outputs": [
    {
     "data": {
      "image/png": "[encoded data removed]",
      "text/plain": [
       "<matplotlib.figure.Figure at 0x11b341d50>"
      ]
     },
     "metadata": {},
     "output_type": "display_data"
    }
   ],
   "source": [
    "ax2 = sns.countplot(\"Rating\", data=df3)"
   ]
  },
  {
   "cell_type": "markdown",
   "metadata": {},
   "source": [
    "__Predict rating using KNN and logistic regression. Calculate their accuracies__"
   ]
  },
  {
   "cell_type": "code",
   "execution_count": 140,
   "metadata": {
    "collapsed": false
   },
   "outputs": [],
   "source": [
    "ydata2 = df3.Rating\n",
    "xdata2 = np.array([ df3.drop([\"Title\", \"Rating\", \"Director\", \"ReleaseDate\"], axis=1).iloc[x] for x in range(len(ydata2)) ])\n",
    "xTrain2, xTest2, yTrain2, yTest2 = train_test_split(xdata2, ydata2, test_size=0.30, random_state=4444)"
   ]
  },
  {
   "cell_type": "code",
   "execution_count": 153,
   "metadata": {
    "collapsed": false
   },
   "outputs": [
    {
     "data": {
      "text/plain": [
       "0.56666666666666665"
      ]
     },
     "execution_count": 153,
     "metadata": {},
     "output_type": "execute_result"
    }
   ],
   "source": [
    "modelKNN3 = KNeighborsClassifier()\n",
    "accuracy_score(yTest2, modelKNN3.fit(xTrain2, yTrain2).predict(xTest2))"
   ]
  },
  {
   "cell_type": "code",
   "execution_count": 154,
   "metadata": {
    "collapsed": false
   },
   "outputs": [
    {
     "data": {
      "text/plain": [
       "0.46666666666666667"
      ]
     },
     "execution_count": 154,
     "metadata": {},
     "output_type": "execute_result"
    }
   ],
   "source": [
    "modelLR3 = LogisticRegression()\n",
    "accuracy_score(yTest2, modelLR3.fit(xTrain2, yTrain2).predict(xTest2))"
   ]
  },
  {
   "cell_type": "markdown",
   "metadata": {},
   "source": [
    "__Make a baseline stupid predictor that always predicts the label that is present the most in the data, and calculate its accuracy on a test set__"
   ]
  },
  {
   "cell_type": "code",
   "execution_count": 155,
   "metadata": {
    "collapsed": false
   },
   "outputs": [
    {
     "data": {
      "text/plain": [
       "0.46666666666666667"
      ]
     },
     "execution_count": 155,
     "metadata": {},
     "output_type": "execute_result"
    }
   ],
   "source": [
    "def baselinePredictor(labelData):\n",
    "    return [ labelData.value_counts().index[0] for x in labelData ]\n",
    "\n",
    "accuracy_score(yTest2, baselinePredictor(yTest2))"
   ]
  },
  {
   "cell_type": "markdown",
   "metadata": {},
   "source": [
    "### Challenge 12"
   ]
  },
  {
   "cell_type": "code",
   "execution_count": 38,
   "metadata": {
    "collapsed": false
   },
   "outputs": [
    {
     "data": {
      "text/html": [
       "<div>\n",
       "<table border=\"1\" class=\"dataframe\">\n",
       "  <thead>\n",
       "    <tr style=\"text-align: right;\">\n",
       "      <th></th>\n",
       "      <th>patientAge</th>\n",
       "      <th>opYear</th>\n",
       "      <th>numNodes</th>\n",
       "      <th>survStat</th>\n",
       "    </tr>\n",
       "  </thead>\n",
       "  <tbody>\n",
       "    <tr>\n",
       "      <th>0</th>\n",
       "      <td>30</td>\n",
       "      <td>64</td>\n",
       "      <td>1</td>\n",
       "      <td>1</td>\n",
       "    </tr>\n",
       "    <tr>\n",
       "      <th>1</th>\n",
       "      <td>30</td>\n",
       "      <td>62</td>\n",
       "      <td>3</td>\n",
       "      <td>1</td>\n",
       "    </tr>\n",
       "    <tr>\n",
       "      <th>2</th>\n",
       "      <td>30</td>\n",
       "      <td>65</td>\n",
       "      <td>0</td>\n",
       "      <td>1</td>\n",
       "    </tr>\n",
       "    <tr>\n",
       "      <th>3</th>\n",
       "      <td>31</td>\n",
       "      <td>59</td>\n",
       "      <td>2</td>\n",
       "      <td>1</td>\n",
       "    </tr>\n",
       "    <tr>\n",
       "      <th>4</th>\n",
       "      <td>31</td>\n",
       "      <td>65</td>\n",
       "      <td>4</td>\n",
       "      <td>1</td>\n",
       "    </tr>\n",
       "  </tbody>\n",
       "</table>\n",
       "</div>"
      ],
      "text/plain": [
       "   patientAge  opYear  numNodes  survStat\n",
       "0          30      64         1         1\n",
       "1          30      62         3         1\n",
       "2          30      65         0         1\n",
       "3          31      59         2         1\n",
       "4          31      65         4         1"
      ]
     },
     "execution_count": 38,
     "metadata": {},
     "output_type": "execute_result"
    }
   ],
   "source": [
    "df4 = pd.read_csv(\"haberman.data\", names = [\"patientAge\", \"opYear\", \"numNodes\", \"survStat\"])\n",
    "df4.head()"
   ]
  },
  {
   "cell_type": "markdown",
   "metadata": {},
   "source": [
    "__12(a): What is the average and standard deviation of the age of all of the patients?__"
   ]
  },
  {
   "cell_type": "code",
   "execution_count": 39,
   "metadata": {
    "collapsed": false
   },
   "outputs": [
    {
     "name": "stdout",
     "output_type": "stream",
     "text": [
      "52.4575163399 10.8034523493\n"
     ]
    }
   ],
   "source": [
    "meanAge, stdAge = df4.patientAge.mean(), df4.patientAge.std()\n",
    "print meanAge, stdAge"
   ]
  },
  {
   "cell_type": "markdown",
   "metadata": {},
   "source": [
    "__12(b): What is the average and standard deviation of the age of those patients that survived 5 or more years after surgery?__"
   ]
  },
  {
   "cell_type": "code",
   "execution_count": 40,
   "metadata": {
    "collapsed": false
   },
   "outputs": [
    {
     "name": "stdout",
     "output_type": "stream",
     "text": [
      "52.0177777778 11.0121541799\n"
     ]
    }
   ],
   "source": [
    "meanAgeSurv, stdAgeSurv = df4[df4.survStat == 1].patientAge.mean(), df4[df4.survStat == 1].patientAge.std()\n",
    "print meanAgeSurv, stdAgeSurv"
   ]
  },
  {
   "cell_type": "markdown",
   "metadata": {},
   "source": [
    "__12(c): What is the average and standard deviation of the age of those patients who survived fewer than 5 years after surgery?__"
   ]
  },
  {
   "cell_type": "code",
   "execution_count": 41,
   "metadata": {
    "collapsed": false
   },
   "outputs": [
    {
     "name": "stdout",
     "output_type": "stream",
     "text": [
      "53.6790123457 10.1671372083\n"
     ]
    }
   ],
   "source": [
    "meanAgeDied, stdAgeDied = df4[df4.survStat == 2].patientAge.mean(), df4[df4.survStat == 2].patientAge.std()\n",
    "print meanAgeDied, stdAgeDied"
   ]
  },
  {
   "cell_type": "markdown",
   "metadata": {},
   "source": [
    "__12(d): Plot a histogram of the ages side by side with a histogram of the number of axillary nodes__"
   ]
  },
  {
   "cell_type": "code",
   "execution_count": 42,
   "metadata": {
    "collapsed": false
   },
   "outputs": [
    {
     "data": {
      "text/plain": [
       "(array([ 236.,   30.,   18.,    8.,    9.,    2.,    1.,    0.,    1.,    1.]),\n",
       " array([  0. ,   5.2,  10.4,  15.6,  20.8,  26. ,  31.2,  36.4,  41.6,\n",
       "         46.8,  52. ]),\n",
       " <a list of 10 Patch objects>)"
      ]
     },
     "execution_count": 42,
     "metadata": {},
     "output_type": "execute_result"
    },
    {
     "data": {
      "image/png": "[encoded data removed]",
      "text/plain": [
       "<matplotlib.figure.Figure at 0x11a672cd0>"
      ]
     },
     "metadata": {},
     "output_type": "display_data"
    }
   ],
   "source": [
    "plt.figure(figsize=(20,6))\n",
    "plt.subplot(121)\n",
    "plt.hist(df4.patientAge)\n",
    "plt.subplot(122)\n",
    "plt.hist(df4.numNodes)"
   ]
  },
  {
   "cell_type": "markdown",
   "metadata": {},
   "source": [
    "__12(e): What is the earliest year of surgery in this dataset?__"
   ]
  },
  {
   "cell_type": "code",
   "execution_count": 43,
   "metadata": {
    "collapsed": false
   },
   "outputs": [
    {
     "name": "stdout",
     "output_type": "stream",
     "text": [
      "Earliest year: 1958\n"
     ]
    }
   ],
   "source": [
    "print \"Earliest year: 19\" + str(min(df4.opYear))"
   ]
  },
  {
   "cell_type": "markdown",
   "metadata": {},
   "source": [
    "__12(f): What is the most recent year of surgery?__"
   ]
  },
  {
   "cell_type": "code",
   "execution_count": 44,
   "metadata": {
    "collapsed": false
   },
   "outputs": [
    {
     "name": "stdout",
     "output_type": "stream",
     "text": [
      "Most recent year: 1969\n"
     ]
    }
   ],
   "source": [
    "print \"Most recent year: 19\" + str(max(df4.opYear))"
   ]
  },
  {
   "cell_type": "markdown",
   "metadata": {},
   "source": [
    "__12(g): Use logistic regression to predict survival after 5 years. How well does your model do?__"
   ]
  },
  {
   "cell_type": "code",
   "execution_count": 45,
   "metadata": {
    "collapsed": false
   },
   "outputs": [],
   "source": [
    "ydata3 = df4.survStat\n",
    "xdata3 = np.array([ df4.drop(\"survStat\", axis=1).iloc[x] for x in range(len(ydata3)) ])\n",
    "xTrain3, xTest3, yTrain3, yTest3 = train_test_split(xdata3, ydata3, test_size=0.30, random_state=4444)"
   ]
  },
  {
   "cell_type": "code",
   "execution_count": 46,
   "metadata": {
    "collapsed": false
   },
   "outputs": [
    {
     "data": {
      "text/plain": [
       "array([1, 1, 1, 1, 1, 1, 1, 1, 1, 1, 1, 1, 1, 2, 1, 1, 1, 1, 1, 1, 1, 1, 1,\n",
       "       1, 1, 1, 1, 1, 1, 1, 1, 1, 1, 1, 1, 1, 1, 1, 1, 1, 1, 1, 1, 1, 1, 1,\n",
       "       1, 1, 1, 1, 1, 1, 1, 1, 1, 1, 1, 1, 1, 1, 1, 1, 1, 1, 1, 1, 1, 1, 1,\n",
       "       1, 1, 1, 1, 1, 1, 1, 1, 1, 1, 1, 1, 1, 1, 1, 1, 1, 1, 1, 1, 1, 1, 1])"
      ]
     },
     "execution_count": 46,
     "metadata": {},
     "output_type": "execute_result"
    }
   ],
   "source": [
    "modelLR4 = LogisticRegression()\n",
    "modelLR4.fit(xTrain3, yTrain3).predict(xTest3)"
   ]
  },
  {
   "cell_type": "code",
   "execution_count": 68,
   "metadata": {
    "collapsed": false
   },
   "outputs": [
    {
     "data": {
      "text/plain": [
       "0.81521739130434778"
      ]
     },
     "execution_count": 68,
     "metadata": {},
     "output_type": "execute_result"
    }
   ],
   "source": [
    "accuracy_score(yTest3, modelLR4.fit(xTrain3, yTrain3).predict(xTest3))\n"
   ]
  },
  {
   "cell_type": "markdown",
   "metadata": {},
   "source": [
    "__12(h): What are the coefficients of logistic regression? Which features affect the outcome how?__"
   ]
  },
  {
   "cell_type": "markdown",
   "metadata": {},
   "source": [
    "Uhh...."
   ]
  },
  {
   "cell_type": "markdown",
   "metadata": {},
   "source": [
    "__12(i): Draw the learning curve for logistic regression in this case__"
   ]
  },
  {
   "cell_type": "code",
   "execution_count": 171,
   "metadata": {
    "collapsed": false
   },
   "outputs": [
    {
     "data": {
      "text/plain": [
       "[<matplotlib.lines.Line2D at 0x121f537d0>]"
      ]
     },
     "execution_count": 171,
     "metadata": {},
     "output_type": "execute_result"
    },
    {
     "data": {
      "image/png": "[encoded data removed]",
      "text/plain": [
       "<matplotlib.figure.Figure at 0x121f53f50>"
      ]
     },
     "metadata": {},
     "output_type": "display_data"
    }
   ],
   "source": [
    "trainSizesLR3, trainScoresLR3, testScoresLR3 = (\n",
    "    learning_curve(estimator=modelLR, X=xdata3, y=ydata3, train_sizes=np.linspace(0.1, 1.0, 15)))\n",
    "trainScoresLR3_m = np.mean(trainScoresLR3, axis=1)\n",
    "testScoresLR3_m = np.mean(testScoresLR3, axis=1)\n",
    "plt.plot(trainSizesLR3, trainScoresLR3_m, '-')\n",
    "plt.plot(trainSizesLR3, testScoresLR3_m, '-')"
   ]
  }
 ],
 "metadata": {
  "kernelspec": {
   "display_name": "Python 2",
   "language": "python",
   "name": "python2"
  },
  "language_info": {
   "codemirror_mode": {
    "name": "ipython",
    "version": 2
   },
   "file_extension": ".py",
   "mimetype": "text/x-python",
   "name": "python",
   "nbconvert_exporter": "python",
   "pygments_lexer": "ipython2",
   "version": "2.7.12"
  }
 },
 "nbformat": 4,
 "nbformat_minor": 0
}
