{
 "cells": [
  {
   "cell_type": "markdown",
   "metadata": {},
   "source": [
    "|Challenge Set       |**5 **              |\n",
    "|-------------------:|:-------------------|\n",
    "|Topic:              |Classification      |\n",
    "|Date:               |08/01/2016          | \n",
    "|Name:               |Bryant Biggs        |\n",
    "|Worked with:        |N/A                 |\n",
    "---\n",
    "# WRITTEN FOR PYTHON 3\n",
    "### Table of Contents:\n",
    " - [**Challenge 1**](#1)\n",
    " - [**Challenge 2**](#2)\n",
    " - [**Challenge 3**](#3)\n",
    " - [**Challenge 4**](#4)\n",
    " - [**Challenge 5**](#5)\n",
    " - [**Challenge 6**](#6)\n",
    " - [**Challenge 7**](#7)\n",
    " - [**Challenge 8**](#8)\n",
    " - [**Challenge 9**](#9)\n",
    " - [**Challenge 10**](#10)\n",
    " - [**Challenge 11**](#11)\n",
    " - [**Challenge 12**](#12)\n",
    "---"
   ]
  },
  {
   "cell_type": "code",
   "execution_count": 5,
   "metadata": {
    "collapsed": false
   },
   "outputs": [],
   "source": [
    "%matplotlib inline\n",
    "import matplotlib\n",
    "import matplotlib.pyplot as plt\n",
    "\n",
    "import os\n",
    "import urllib.request \n",
    "\n",
    "import pandas as pd\n",
    "import numpy as np\n",
    "'''\n",
    "from sklearn.linear_model import LinearRegression\n",
    "from sklearn.cross_validation import train_test_split\n",
    "from sklearn.metrics import mean_squared_error\n",
    "\n",
    "from sklearn.preprocessing import PolynomialFeatures\n",
    "from sklearn.linear_model import LinearRegression\n",
    "from sklearn.pipeline import Pipeline\n",
    "\n",
    "from patsy import dmatrices\n",
    "import statsmodels.api as sm\n",
    "import statsmodels.formula.api as smf\n",
    "'''\n",
    "# default plot stying changes\n",
    "import seaborn as sns\n",
    "sns.set_style(\"white\")\n",
    "sns.set_context(\"poster\", font_scale=1.25, rc={\"lines.linewidth\": 2.5})\n",
    "sns.set_palette(\"Set2\")\n",
    "colors = sns.color_palette('Set2',12)"
   ]
  },
  {
   "cell_type": "code",
   "execution_count": 4,
   "metadata": {
    "collapsed": true
   },
   "outputs": [],
   "source": [
    "# Data\n",
    "data = 'house-votes-84.data'\n",
    "names = 'house-votes-84.names'\n",
    "base_url = 'https://archive.ics.uci.edu/ml/machine-learning-databases/voting-records/'\n",
    "\n",
    "files = [data, names]\n",
    "\n",
    "# download files if they do not exist\n",
    "for file in files:\n",
    "    if not os.path.isfile('{0}'.format(file)):\n",
    "        _ = urllib.request.urlretrieve('{0}/{1}'.format(base_url, file), '{0}'.format(file))"
   ]
  },
  {
   "cell_type": "markdown",
   "metadata": {},
   "source": [
    "# <a id='1'></a>Challenge 1:\n",
    "Load the data into a pandas dataframe. Replace 'y's with 1s, 'n's with 0s.\n",
    "\n",
    "Now, almost every representative has a ?. This represents the absence of a vote (they were absent or some other similar reason). If we dropped all the rows that had a ?, we would throw out most of our data. Instead, we will replace ? with the best guess in the Bayesian sense: in the absence of any other information, we will say that the probability of the representative saying YES is the ratio of others that said YES over the whole votes.\n",
    "\n",
    "So, convert each ? to this probability (when yes=1 and no=0, this is the mean of the column)"
   ]
  },
  {
   "cell_type": "code",
   "execution_count": 95,
   "metadata": {
    "collapsed": false
   },
   "outputs": [
    {
     "data": {
      "text/html": [
       "<div>\n",
       "<table border=\"1\" class=\"dataframe\">\n",
       "  <thead>\n",
       "    <tr style=\"text-align: right;\">\n",
       "      <th></th>\n",
       "      <th>class</th>\n",
       "      <th>infants</th>\n",
       "      <th>water</th>\n",
       "      <th>budget</th>\n",
       "      <th>freeze</th>\n",
       "      <th>salvador</th>\n",
       "      <th>relig</th>\n",
       "      <th>anti-sat</th>\n",
       "      <th>nic-aid</th>\n",
       "      <th>missile</th>\n",
       "      <th>immig</th>\n",
       "      <th>synfuels</th>\n",
       "      <th>educ</th>\n",
       "      <th>su-fund</th>\n",
       "      <th>crime</th>\n",
       "      <th>duty-free</th>\n",
       "      <th>africa</th>\n",
       "    </tr>\n",
       "  </thead>\n",
       "  <tbody>\n",
       "    <tr>\n",
       "      <th>0</th>\n",
       "      <td>republican</td>\n",
       "      <td>0</td>\n",
       "      <td>1</td>\n",
       "      <td>0</td>\n",
       "      <td>1</td>\n",
       "      <td>1</td>\n",
       "      <td>1</td>\n",
       "      <td>0</td>\n",
       "      <td>0</td>\n",
       "      <td>0</td>\n",
       "      <td>1</td>\n",
       "      <td>?</td>\n",
       "      <td>1</td>\n",
       "      <td>1</td>\n",
       "      <td>1</td>\n",
       "      <td>0</td>\n",
       "      <td>1</td>\n",
       "    </tr>\n",
       "    <tr>\n",
       "      <th>1</th>\n",
       "      <td>republican</td>\n",
       "      <td>0</td>\n",
       "      <td>1</td>\n",
       "      <td>0</td>\n",
       "      <td>1</td>\n",
       "      <td>1</td>\n",
       "      <td>1</td>\n",
       "      <td>0</td>\n",
       "      <td>0</td>\n",
       "      <td>0</td>\n",
       "      <td>0</td>\n",
       "      <td>0</td>\n",
       "      <td>1</td>\n",
       "      <td>1</td>\n",
       "      <td>1</td>\n",
       "      <td>0</td>\n",
       "      <td>?</td>\n",
       "    </tr>\n",
       "    <tr>\n",
       "      <th>2</th>\n",
       "      <td>democrat</td>\n",
       "      <td>?</td>\n",
       "      <td>1</td>\n",
       "      <td>1</td>\n",
       "      <td>?</td>\n",
       "      <td>1</td>\n",
       "      <td>1</td>\n",
       "      <td>0</td>\n",
       "      <td>0</td>\n",
       "      <td>0</td>\n",
       "      <td>0</td>\n",
       "      <td>1</td>\n",
       "      <td>0</td>\n",
       "      <td>1</td>\n",
       "      <td>1</td>\n",
       "      <td>0</td>\n",
       "      <td>0</td>\n",
       "    </tr>\n",
       "  </tbody>\n",
       "</table>\n",
       "</div>"
      ],
      "text/plain": [
       "        class infants water budget freeze salvador relig anti-sat nic-aid  \\\n",
       "0  republican       0     1      0      1        1     1        0       0   \n",
       "1  republican       0     1      0      1        1     1        0       0   \n",
       "2    democrat       ?     1      1      ?        1     1        0       0   \n",
       "\n",
       "  missile immig synfuels educ su-fund crime duty-free africa  \n",
       "0       0     1        ?    1       1     1         0      1  \n",
       "1       0     0        0    1       1     1         0      ?  \n",
       "2       0     0        1    0       1     1         0      0  "
      ]
     },
     "execution_count": 95,
     "metadata": {},
     "output_type": "execute_result"
    }
   ],
   "source": [
    "columns =  ['class', 'infants', 'water', 'budget', 'freeze', 'salvador', 'relig', 'anti-sat', 'nic-aid', \n",
    "            'missile', 'immig', 'synfuels', 'educ', 'su-fund', 'crime', 'duty-free', 'africa']\n",
    "df = pd.read_csv(data, sep=',', names=columns)\n",
    "df = df.replace(['y', 'n'], [1, 0]) \n",
    "df.head(3)"
   ]
  },
  {
   "cell_type": "code",
   "execution_count": 96,
   "metadata": {
    "collapsed": false
   },
   "outputs": [
    {
     "data": {
      "text/html": [
       "<div>\n",
       "<table border=\"1\" class=\"dataframe\">\n",
       "  <thead>\n",
       "    <tr style=\"text-align: right;\">\n",
       "      <th></th>\n",
       "      <th>class</th>\n",
       "      <th>infants</th>\n",
       "      <th>water</th>\n",
       "      <th>budget</th>\n",
       "      <th>freeze</th>\n",
       "      <th>salvador</th>\n",
       "      <th>relig</th>\n",
       "      <th>anti-sat</th>\n",
       "      <th>nic-aid</th>\n",
       "      <th>missile</th>\n",
       "      <th>immig</th>\n",
       "      <th>synfuels</th>\n",
       "      <th>educ</th>\n",
       "      <th>su-fund</th>\n",
       "      <th>crime</th>\n",
       "      <th>duty-free</th>\n",
       "      <th>africa</th>\n",
       "    </tr>\n",
       "  </thead>\n",
       "  <tbody>\n",
       "    <tr>\n",
       "      <th>0</th>\n",
       "      <td>republican</td>\n",
       "      <td>0</td>\n",
       "      <td>1</td>\n",
       "      <td>0</td>\n",
       "      <td>1</td>\n",
       "      <td>1</td>\n",
       "      <td>1</td>\n",
       "      <td>0</td>\n",
       "      <td>0</td>\n",
       "      <td>0</td>\n",
       "      <td>1</td>\n",
       "      <td>0</td>\n",
       "      <td>1</td>\n",
       "      <td>1</td>\n",
       "      <td>1</td>\n",
       "      <td>0</td>\n",
       "      <td>1</td>\n",
       "    </tr>\n",
       "    <tr>\n",
       "      <th>1</th>\n",
       "      <td>republican</td>\n",
       "      <td>0</td>\n",
       "      <td>1</td>\n",
       "      <td>0</td>\n",
       "      <td>1</td>\n",
       "      <td>1</td>\n",
       "      <td>1</td>\n",
       "      <td>0</td>\n",
       "      <td>0</td>\n",
       "      <td>0</td>\n",
       "      <td>0</td>\n",
       "      <td>0</td>\n",
       "      <td>1</td>\n",
       "      <td>1</td>\n",
       "      <td>1</td>\n",
       "      <td>0</td>\n",
       "      <td>0</td>\n",
       "    </tr>\n",
       "    <tr>\n",
       "      <th>2</th>\n",
       "      <td>democrat</td>\n",
       "      <td>0</td>\n",
       "      <td>1</td>\n",
       "      <td>1</td>\n",
       "      <td>0</td>\n",
       "      <td>1</td>\n",
       "      <td>1</td>\n",
       "      <td>0</td>\n",
       "      <td>0</td>\n",
       "      <td>0</td>\n",
       "      <td>0</td>\n",
       "      <td>1</td>\n",
       "      <td>0</td>\n",
       "      <td>1</td>\n",
       "      <td>1</td>\n",
       "      <td>0</td>\n",
       "      <td>0</td>\n",
       "    </tr>\n",
       "  </tbody>\n",
       "</table>\n",
       "</div>"
      ],
      "text/plain": [
       "        class  infants  water  budget  freeze  salvador  relig  anti-sat  \\\n",
       "0  republican        0      1       0       1         1      1         0   \n",
       "1  republican        0      1       0       1         1      1         0   \n",
       "2    democrat        0      1       1       0         1      1         0   \n",
       "\n",
       "   nic-aid  missile  immig  synfuels  educ  su-fund  crime  duty-free  africa  \n",
       "0        0        0      1         0     1        1      1          0       1  \n",
       "1        0        0      0         0     1        1      1          0       0  \n",
       "2        0        0      0         1     0        1      1          0       0  "
      ]
     },
     "execution_count": 96,
     "metadata": {},
     "output_type": "execute_result"
    }
   ],
   "source": [
    "# find majority vote average and replace '?' with majority vote average (1, 0)\n",
    "for col in columns[1:]:\n",
    "    df_temp = df[col].value_counts().to_frame()\n",
    "    ones = int(df_temp.iloc[1])\n",
    "    zeros = int(df_temp.iloc[0])\n",
    "    avg = int(round(ones/(ones+zeros), 0))\n",
    "    df[col] = df[col].replace('?', avg)\n",
    "df.head(3)"
   ]
  },
  {
   "cell_type": "markdown",
   "metadata": {},
   "source": [
    "## Answer for Challenge 1 is:\n",
    "<br>\n",
    "<font color='blue'>Dataframe shown above</font>\n",
    "\n",
    "___"
   ]
  },
  {
   "cell_type": "markdown",
   "metadata": {},
   "source": [
    "# <a id='2'></a>Challenge 2:\n",
    "Split the data into a test and training set. Use this function:\n",
    "```\n",
    "from sklearn.cross_validation import train_test_split\n",
    "```"
   ]
  },
  {
   "cell_type": "code",
   "execution_count": 128,
   "metadata": {
    "collapsed": false
   },
   "outputs": [],
   "source": [
    "from sklearn.cross_validation import train_test_split\n",
    "\n",
    "train, test = train_test_split(df, test_size = 0.30, random_state=4444)\n",
    "\n",
    "data_cols = columns[1:]\n",
    "label_cols = columns[0]\n",
    "\n",
    "train_data = train[data_cols]\n",
    "train_labels = train[label_cols]\n",
    "\n",
    "test_data = test[data_cols]\n",
    "test_labels = test[label_cols]"
   ]
  },
  {
   "cell_type": "markdown",
   "metadata": {},
   "source": [
    "## Answer for Challenge 2 is:\n",
    "\n",
    "<font color='blue'>Shown directly above (one cell up)</font><br>\n",
    "\n",
    "___"
   ]
  },
  {
   "cell_type": "markdown",
   "metadata": {},
   "source": [
    "# <a id='3'></a>Challenge 3:\n",
    "Using scikit.learn's KNN algorithm, train a model that predicts the party (republican/democrat):\n",
    "\n",
    "```\n",
    "from sklearn.neighbors import KNeighborsClassifier\n",
    "```\n",
    "\n",
    "Try it with a lot of different k values (number of neighbors), from 1 to 20, and on the test set calculate the accuracy (number of correct predictions / number of all predictions) for each k\n",
    "\n",
    "You can use this to calculate accuracy:\n",
    "\n",
    "```\n",
    "from sklearn.metrics import accuracy_score\n",
    "```\n",
    "\n",
    "Which k value gives the highest accuracy?"
   ]
  },
  {
   "cell_type": "code",
   "execution_count": 150,
   "metadata": {
    "collapsed": false
   },
   "outputs": [
    {
     "name": "stdout",
     "output_type": "stream",
     "text": [
      "Best score: 95.06578947368422%\n",
      "Best parameters set:\n",
      "\talgorithm: ball_tree\n",
      "\tleaf_size: 13\n",
      "\tn_neighbors: 2\n",
      "\tweights: distance\n",
      "             precision    recall  f1-score   support\n",
      "\n",
      "   democrat       0.91      0.94      0.92        77\n",
      " republican       0.90      0.87      0.89        54\n",
      "\n",
      "avg / total       0.91      0.91      0.91       131\n",
      "\n",
      "119\n"
     ]
    }
   ],
   "source": [
    "from sklearn.neighbors import KNeighborsClassifier\n",
    "from sklearn.metrics import accuracy_score, classification_report\n",
    "from sklearn.grid_search import GridSearchCV\n",
    "\n",
    "param_grid = {\n",
    "            'n_neighbors': list(range(1, 20)),\n",
    "            'weights': ['uniform', 'distance'],\n",
    "            'algorithm': ['ball_tree', 'kd_tree'],\n",
    "            'leaf_size' : list(range(1, 30))\n",
    "            }\n",
    "knn_grid = GridSearchCV(KNeighborsClassifier(), param_grid)\n",
    "knn_mdl = knn_grid.fit(train_data, train_labels)\n",
    "\n",
    "print('Best score: {0}%'.format(knn_grid.best_score_*100))\n",
    "print('Best parameters set:')\n",
    "\n",
    "best_parameters = knn_grid.best_estimator_.get_params()\n",
    "\n",
    "for param_name in sorted(param_grid.keys()):\n",
    "    print('\\t{0}: {1}'.format(param_name, best_parameters[param_name]))\n",
    "\n",
    "print(classification_report(test_labels, knn_grid.predict(test_data)))"
   ]
  },
  {
   "cell_type": "markdown",
   "metadata": {},
   "source": [
    "## Answer for Challenge 3 is:\n",
    "<br>\n",
    "<font color='blue'>The best accuracy is when k = 2.</font>\n",
    "\n",
    "___"
   ]
  },
  {
   "cell_type": "markdown",
   "metadata": {},
   "source": [
    "# <a id='4'></a>Challenge 4:\n",
    "Make a similar model but with LogisticRegression instead, calculate test accuracy."
   ]
  },
  {
   "cell_type": "code",
   "execution_count": 159,
   "metadata": {
    "collapsed": false,
    "scrolled": true
   },
   "outputs": [
    {
     "name": "stdout",
     "output_type": "stream",
     "text": [
      "Best score: 96.05263157894737%\n",
      "Testing accuracy: 90.83969465648855%\n",
      "Best parameters set:\n",
      "\tclass_weight: balanced\n",
      "\tmulti_class: ovr\n",
      "\tpenalty: l2\n",
      "\tsolver: newton-cg\n",
      "             precision    recall  f1-score   support\n",
      "\n",
      "   democrat       0.94      0.96      0.95        77\n",
      " republican       0.94      0.91      0.92        54\n",
      "\n",
      "avg / total       0.94      0.94      0.94       131\n",
      "\n"
     ]
    }
   ],
   "source": [
    "from sklearn.linear_model import LogisticRegression\n",
    "param_grid = {\n",
    "            'penalty': ['l2'],\n",
    "            'class_weight': ['balanced'],\n",
    "            'solver': ['newton-cg', 'lbfgs', 'sag'],\n",
    "            'multi_class': ['ovr']\n",
    "            }\n",
    "\n",
    "logr_grid = GridSearchCV(LogisticRegression(n_jobs=-1), param_grid)\n",
    "logr_mdl = logr_grid.fit(train_data, train_labels)\n",
    "\n",
    "print('Best score: {0}%'.format(logr_grid.best_score_*100))\n",
    "print('Testing accuracy: {0}%'.format(accuracy_score(test_labels, knn_grid.predict(test_data))*100))\n",
    "print('Best parameters set:')\n",
    "\n",
    "best_parameters = logr_grid.best_estimator_.get_params()\n",
    "\n",
    "for param_name in sorted(param_grid.keys()):\n",
    "    print('\\t{0}: {1}'.format(param_name, best_parameters[param_name]))\n",
    "\n",
    "print(classification_report(test_labels, logr_grid.predict(test_data)))"
   ]
  },
  {
   "cell_type": "markdown",
   "metadata": {},
   "source": [
    "## Answer for Challenge 4 is:\n",
    "\n",
    "<font color='blue'>The best testing accuracy is 90.84%</font>\n",
    "___"
   ]
  },
  {
   "cell_type": "markdown",
   "metadata": {
    "collapsed": true
   },
   "source": [
    "# <a id='5'></a>Challenge 5:\n",
    "Make a bar graph of democrats and republicans. How many of each are there?\n",
    "\n",
    "Make a very simple predictor that predicts 'democrat' for every incoming example.\n",
    "\n",
    "Just make a function that takes in an X --an array or matrix with input examples--, and returns an array of the same length as X, where each value is 'democrat'. For example, if X is three rows, your function should return ['democrat','democrat','democrat']. Make a y_predicted vector using this and measure its accuracy.\n",
    "\n",
    "Do the same with predicting 'republican' all the time and measure its accuracy."
   ]
  },
  {
   "cell_type": "code",
   "execution_count": null,
   "metadata": {
    "collapsed": true
   },
   "outputs": [],
   "source": []
  }
 ],
 "metadata": {
  "kernelspec": {
   "display_name": "Python [Root]",
   "language": "python",
   "name": "Python [Root]"
  },
  "language_info": {
   "codemirror_mode": {
    "name": "ipython",
    "version": 3
   },
   "file_extension": ".py",
   "mimetype": "text/x-python",
   "name": "python",
   "nbconvert_exporter": "python",
   "pygments_lexer": "ipython3",
   "version": "3.5.2"
  }
 },
 "nbformat": 4,
 "nbformat_minor": 0
}
