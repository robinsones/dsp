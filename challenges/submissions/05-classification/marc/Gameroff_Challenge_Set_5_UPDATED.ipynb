{
 "cells": [
  {
   "cell_type": "markdown",
   "metadata": {},
   "source": [
    "## Challenge Set 5 (challenges #1-#10)\n",
    "\n",
    "**Topic: Classification  \n",
    "Date: 8/1/2016  \n",
    "Name: Marc Gameroff**  \n",
    "\n",
    "Table of Contents:\n",
    "- [**Challenge 1**](#1)\n",
    "- [**Challenge 2**](#2)\n",
    "- [**Challenge 3**](#3)\n",
    "- [**Challenge 4**](#4)\n",
    "- [**Challenge 5**](#5)\n",
    "- [**Challenge 6**](#6)\n",
    "- [**Challenge 7**](#7)\n",
    "- [**Challenge 8**](#8)\n",
    "- [**Challenge 9**](#9)\n",
    "- [**Challenge 10**](#10)    **(ADDED 8/7/2016)**"
   ]
  },
  {
   "cell_type": "code",
   "execution_count": 417,
   "metadata": {
    "collapsed": true
   },
   "outputs": [],
   "source": [
    "import numpy as np\n",
    "import pandas as pd\n",
    "import matplotlib.pyplot as plt\n",
    "%matplotlib inline"
   ]
  },
  {
   "cell_type": "code",
   "execution_count": 428,
   "metadata": {
    "collapsed": false
   },
   "outputs": [],
   "source": [
    "#the csv file has no header row\n",
    "df = pd.read_csv('~/house-votes-84.data.txt')"
   ]
  },
  {
   "cell_type": "code",
   "execution_count": 429,
   "metadata": {
    "collapsed": false
   },
   "outputs": [],
   "source": [
    "df.columns = ['class-label',\n",
    "    'handicapped-infants',\n",
    "    'water-project-cost-sharing', \n",
    "    'adoption-of-the-budget-resolution', \n",
    "    'physician-fee-freeze', \n",
    "    'el-salvador-aid', \n",
    "    'religious-groups-in-schools', \n",
    "    'anti-satellite-test-ban', \n",
    "    'aid-to-nicaraguan-contras',\n",
    "    'mx-missile', \n",
    "    'immigration', \n",
    "    'synfuels-corporation-cutback', \n",
    "    'education-spending', \n",
    "    'superfund-right-to-sue', \n",
    "    'crime', \n",
    "    'duty-free-exports', \n",
    "    'export-administration-act-south-africa']"
   ]
  },
  {
   "cell_type": "markdown",
   "metadata": {},
   "source": [
    "### <a id='1'></a>Challenge 1:"
   ]
  },
  {
   "cell_type": "code",
   "execution_count": 430,
   "metadata": {
    "collapsed": false
   },
   "outputs": [
    {
     "data": {
      "text/html": [
       "<div>\n",
       "<table border=\"1\" class=\"dataframe\">\n",
       "  <thead>\n",
       "    <tr style=\"text-align: right;\">\n",
       "      <th></th>\n",
       "      <th>class-label</th>\n",
       "      <th>handicapped-infants</th>\n",
       "      <th>water-project-cost-sharing</th>\n",
       "      <th>adoption-of-the-budget-resolution</th>\n",
       "      <th>physician-fee-freeze</th>\n",
       "      <th>el-salvador-aid</th>\n",
       "      <th>religious-groups-in-schools</th>\n",
       "      <th>anti-satellite-test-ban</th>\n",
       "      <th>aid-to-nicaraguan-contras</th>\n",
       "      <th>mx-missile</th>\n",
       "      <th>immigration</th>\n",
       "      <th>synfuels-corporation-cutback</th>\n",
       "      <th>education-spending</th>\n",
       "      <th>superfund-right-to-sue</th>\n",
       "      <th>crime</th>\n",
       "      <th>duty-free-exports</th>\n",
       "      <th>export-administration-act-south-africa</th>\n",
       "    </tr>\n",
       "  </thead>\n",
       "  <tbody>\n",
       "    <tr>\n",
       "      <th>0</th>\n",
       "      <td>republican</td>\n",
       "      <td>0</td>\n",
       "      <td>1</td>\n",
       "      <td>0</td>\n",
       "      <td>1</td>\n",
       "      <td>1</td>\n",
       "      <td>1</td>\n",
       "      <td>0</td>\n",
       "      <td>0</td>\n",
       "      <td>0</td>\n",
       "      <td>0</td>\n",
       "      <td>0</td>\n",
       "      <td>1</td>\n",
       "      <td>1</td>\n",
       "      <td>1</td>\n",
       "      <td>0</td>\n",
       "      <td>NaN</td>\n",
       "    </tr>\n",
       "    <tr>\n",
       "      <th>1</th>\n",
       "      <td>democrat</td>\n",
       "      <td>NaN</td>\n",
       "      <td>1</td>\n",
       "      <td>1</td>\n",
       "      <td>NaN</td>\n",
       "      <td>1</td>\n",
       "      <td>1</td>\n",
       "      <td>0</td>\n",
       "      <td>0</td>\n",
       "      <td>0</td>\n",
       "      <td>0</td>\n",
       "      <td>1</td>\n",
       "      <td>0</td>\n",
       "      <td>1</td>\n",
       "      <td>1</td>\n",
       "      <td>0</td>\n",
       "      <td>0</td>\n",
       "    </tr>\n",
       "    <tr>\n",
       "      <th>2</th>\n",
       "      <td>democrat</td>\n",
       "      <td>0</td>\n",
       "      <td>1</td>\n",
       "      <td>1</td>\n",
       "      <td>0</td>\n",
       "      <td>NaN</td>\n",
       "      <td>1</td>\n",
       "      <td>0</td>\n",
       "      <td>0</td>\n",
       "      <td>0</td>\n",
       "      <td>0</td>\n",
       "      <td>1</td>\n",
       "      <td>0</td>\n",
       "      <td>1</td>\n",
       "      <td>0</td>\n",
       "      <td>0</td>\n",
       "      <td>1</td>\n",
       "    </tr>\n",
       "    <tr>\n",
       "      <th>3</th>\n",
       "      <td>democrat</td>\n",
       "      <td>1</td>\n",
       "      <td>1</td>\n",
       "      <td>1</td>\n",
       "      <td>0</td>\n",
       "      <td>1</td>\n",
       "      <td>1</td>\n",
       "      <td>0</td>\n",
       "      <td>0</td>\n",
       "      <td>0</td>\n",
       "      <td>0</td>\n",
       "      <td>1</td>\n",
       "      <td>NaN</td>\n",
       "      <td>1</td>\n",
       "      <td>1</td>\n",
       "      <td>1</td>\n",
       "      <td>1</td>\n",
       "    </tr>\n",
       "    <tr>\n",
       "      <th>4</th>\n",
       "      <td>democrat</td>\n",
       "      <td>0</td>\n",
       "      <td>1</td>\n",
       "      <td>1</td>\n",
       "      <td>0</td>\n",
       "      <td>1</td>\n",
       "      <td>1</td>\n",
       "      <td>0</td>\n",
       "      <td>0</td>\n",
       "      <td>0</td>\n",
       "      <td>0</td>\n",
       "      <td>0</td>\n",
       "      <td>0</td>\n",
       "      <td>1</td>\n",
       "      <td>1</td>\n",
       "      <td>1</td>\n",
       "      <td>1</td>\n",
       "    </tr>\n",
       "  </tbody>\n",
       "</table>\n",
       "</div>"
      ],
      "text/plain": [
       "  class-label  handicapped-infants  water-project-cost-sharing  \\\n",
       "0  republican                    0                           1   \n",
       "1    democrat                  NaN                           1   \n",
       "2    democrat                    0                           1   \n",
       "3    democrat                    1                           1   \n",
       "4    democrat                    0                           1   \n",
       "\n",
       "   adoption-of-the-budget-resolution  physician-fee-freeze  el-salvador-aid  \\\n",
       "0                                  0                     1                1   \n",
       "1                                  1                   NaN                1   \n",
       "2                                  1                     0              NaN   \n",
       "3                                  1                     0                1   \n",
       "4                                  1                     0                1   \n",
       "\n",
       "   religious-groups-in-schools  anti-satellite-test-ban  \\\n",
       "0                            1                        0   \n",
       "1                            1                        0   \n",
       "2                            1                        0   \n",
       "3                            1                        0   \n",
       "4                            1                        0   \n",
       "\n",
       "   aid-to-nicaraguan-contras  mx-missile  immigration  \\\n",
       "0                          0           0            0   \n",
       "1                          0           0            0   \n",
       "2                          0           0            0   \n",
       "3                          0           0            0   \n",
       "4                          0           0            0   \n",
       "\n",
       "   synfuels-corporation-cutback  education-spending  superfund-right-to-sue  \\\n",
       "0                             0                   1                       1   \n",
       "1                             1                   0                       1   \n",
       "2                             1                   0                       1   \n",
       "3                             1                 NaN                       1   \n",
       "4                             0                   0                       1   \n",
       "\n",
       "   crime  duty-free-exports  export-administration-act-south-africa  \n",
       "0      1                  0                                     NaN  \n",
       "1      1                  0                                       0  \n",
       "2      0                  0                                       1  \n",
       "3      1                  1                                       1  \n",
       "4      1                  1                                       1  "
      ]
     },
     "execution_count": 430,
     "metadata": {},
     "output_type": "execute_result"
    }
   ],
   "source": [
    "df = df.replace('y', 1)\n",
    "df = df.replace('n', 0)\n",
    "df = df.replace('?', np.nan)\n",
    "df.head()"
   ]
  },
  {
   "cell_type": "code",
   "execution_count": 434,
   "metadata": {
    "collapsed": false
   },
   "outputs": [
    {
     "data": {
      "text/plain": [
       "array([['republican'],\n",
       "       ['democrat'],\n",
       "       ['democrat'],\n",
       "       ['democrat'],\n",
       "       ['democrat'],\n",
       "       ['democrat'],\n",
       "       ['republican'],\n",
       "       ['republican'],\n",
       "       ['democrat'],\n",
       "       ['republican'],\n",
       "       ['republican'],\n",
       "       ['democrat'],\n",
       "       ['democrat'],\n",
       "       ['republican'],\n",
       "       ['republican'],\n",
       "       ['democrat'],\n",
       "       ['democrat'],\n",
       "       ['republican'],\n",
       "       ['democrat'],\n",
       "       ['democrat'],\n",
       "       ['democrat'],\n",
       "       ['democrat'],\n",
       "       ['democrat'],\n",
       "       ['democrat'],\n",
       "       ['democrat'],\n",
       "       ['democrat'],\n",
       "       ['democrat'],\n",
       "       ['republican'],\n",
       "       ['democrat'],\n",
       "       ['republican'],\n",
       "       ['democrat'],\n",
       "       ['democrat'],\n",
       "       ['republican'],\n",
       "       ['democrat'],\n",
       "       ['republican'],\n",
       "       ['republican'],\n",
       "       ['republican'],\n",
       "       ['republican'],\n",
       "       ['democrat'],\n",
       "       ['democrat'],\n",
       "       ['democrat'],\n",
       "       ['democrat'],\n",
       "       ['democrat'],\n",
       "       ['democrat'],\n",
       "       ['democrat'],\n",
       "       ['democrat'],\n",
       "       ['democrat'],\n",
       "       ['democrat'],\n",
       "       ['republican'],\n",
       "       ['democrat'],\n",
       "       ['republican'],\n",
       "       ['democrat'],\n",
       "       ['republican'],\n",
       "       ['democrat'],\n",
       "       ['republican'],\n",
       "       ['republican'],\n",
       "       ['republican'],\n",
       "       ['republican'],\n",
       "       ['republican'],\n",
       "       ['democrat'],\n",
       "       ['republican'],\n",
       "       ['democrat'],\n",
       "       ['democrat'],\n",
       "       ['democrat'],\n",
       "       ['republican'],\n",
       "       ['republican'],\n",
       "       ['republican'],\n",
       "       ['democrat'],\n",
       "       ['democrat'],\n",
       "       ['democrat'],\n",
       "       ['republican'],\n",
       "       ['democrat'],\n",
       "       ['republican'],\n",
       "       ['democrat'],\n",
       "       ['democrat'],\n",
       "       ['democrat'],\n",
       "       ['democrat'],\n",
       "       ['democrat'],\n",
       "       ['republican'],\n",
       "       ['democrat'],\n",
       "       ['democrat'],\n",
       "       ['republican'],\n",
       "       ['republican'],\n",
       "       ['republican'],\n",
       "       ['democrat'],\n",
       "       ['republican'],\n",
       "       ['republican'],\n",
       "       ['democrat'],\n",
       "       ['republican'],\n",
       "       ['democrat'],\n",
       "       ['democrat'],\n",
       "       ['democrat'],\n",
       "       ['democrat'],\n",
       "       ['democrat'],\n",
       "       ['democrat'],\n",
       "       ['democrat'],\n",
       "       ['democrat'],\n",
       "       ['democrat'],\n",
       "       ['republican'],\n",
       "       ['democrat'],\n",
       "       ['democrat'],\n",
       "       ['democrat'],\n",
       "       ['democrat'],\n",
       "       ['democrat'],\n",
       "       ['democrat'],\n",
       "       ['republican'],\n",
       "       ['republican'],\n",
       "       ['democrat'],\n",
       "       ['democrat'],\n",
       "       ['democrat'],\n",
       "       ['republican'],\n",
       "       ['democrat'],\n",
       "       ['republican'],\n",
       "       ['democrat'],\n",
       "       ['democrat'],\n",
       "       ['democrat'],\n",
       "       ['republican'],\n",
       "       ['democrat'],\n",
       "       ['republican'],\n",
       "       ['republican'],\n",
       "       ['republican'],\n",
       "       ['republican'],\n",
       "       ['republican'],\n",
       "       ['democrat'],\n",
       "       ['republican'],\n",
       "       ['republican'],\n",
       "       ['democrat'],\n",
       "       ['democrat'],\n",
       "       ['democrat'],\n",
       "       ['democrat'],\n",
       "       ['democrat'],\n",
       "       ['republican'],\n",
       "       ['republican'],\n",
       "       ['republican'],\n",
       "       ['republican'],\n",
       "       ['republican'],\n",
       "       ['democrat'],\n",
       "       ['democrat'],\n",
       "       ['democrat'],\n",
       "       ['republican'],\n",
       "       ['republican'],\n",
       "       ['republican'],\n",
       "       ['democrat'],\n",
       "       ['democrat'],\n",
       "       ['democrat'],\n",
       "       ['republican'],\n",
       "       ['democrat'],\n",
       "       ['republican'],\n",
       "       ['democrat'],\n",
       "       ['republican'],\n",
       "       ['democrat'],\n",
       "       ['democrat'],\n",
       "       ['democrat'],\n",
       "       ['republican'],\n",
       "       ['republican'],\n",
       "       ['republican'],\n",
       "       ['democrat'],\n",
       "       ['republican'],\n",
       "       ['democrat'],\n",
       "       ['democrat'],\n",
       "       ['democrat'],\n",
       "       ['democrat'],\n",
       "       ['republican'],\n",
       "       ['democrat'],\n",
       "       ['democrat'],\n",
       "       ['republican'],\n",
       "       ['republican'],\n",
       "       ['democrat'],\n",
       "       ['democrat'],\n",
       "       ['democrat'],\n",
       "       ['republican'],\n",
       "       ['democrat'],\n",
       "       ['democrat'],\n",
       "       ['democrat'],\n",
       "       ['democrat'],\n",
       "       ['republican'],\n",
       "       ['democrat'],\n",
       "       ['democrat'],\n",
       "       ['democrat'],\n",
       "       ['democrat'],\n",
       "       ['democrat'],\n",
       "       ['democrat'],\n",
       "       ['democrat'],\n",
       "       ['democrat'],\n",
       "       ['democrat'],\n",
       "       ['democrat'],\n",
       "       ['democrat'],\n",
       "       ['republican'],\n",
       "       ['democrat'],\n",
       "       ['republican'],\n",
       "       ['republican'],\n",
       "       ['democrat'],\n",
       "       ['democrat'],\n",
       "       ['democrat'],\n",
       "       ['republican'],\n",
       "       ['democrat'],\n",
       "       ['republican'],\n",
       "       ['democrat'],\n",
       "       ['democrat'],\n",
       "       ['democrat'],\n",
       "       ['democrat'],\n",
       "       ['democrat'],\n",
       "       ['democrat'],\n",
       "       ['republican'],\n",
       "       ['democrat'],\n",
       "       ['republican'],\n",
       "       ['republican'],\n",
       "       ['democrat'],\n",
       "       ['democrat'],\n",
       "       ['democrat'],\n",
       "       ['republican'],\n",
       "       ['democrat'],\n",
       "       ['democrat'],\n",
       "       ['republican'],\n",
       "       ['democrat'],\n",
       "       ['democrat'],\n",
       "       ['republican'],\n",
       "       ['democrat'],\n",
       "       ['democrat'],\n",
       "       ['democrat'],\n",
       "       ['democrat'],\n",
       "       ['democrat'],\n",
       "       ['republican'],\n",
       "       ['republican'],\n",
       "       ['republican'],\n",
       "       ['democrat'],\n",
       "       ['democrat'],\n",
       "       ['republican'],\n",
       "       ['republican'],\n",
       "       ['republican'],\n",
       "       ['republican'],\n",
       "       ['democrat'],\n",
       "       ['republican'],\n",
       "       ['democrat'],\n",
       "       ['republican'],\n",
       "       ['democrat'],\n",
       "       ['democrat'],\n",
       "       ['democrat'],\n",
       "       ['republican'],\n",
       "       ['republican'],\n",
       "       ['democrat'],\n",
       "       ['republican'],\n",
       "       ['democrat'],\n",
       "       ['democrat'],\n",
       "       ['democrat'],\n",
       "       ['democrat'],\n",
       "       ['republican'],\n",
       "       ['republican'],\n",
       "       ['democrat'],\n",
       "       ['republican'],\n",
       "       ['republican'],\n",
       "       ['democrat'],\n",
       "       ['republican'],\n",
       "       ['democrat'],\n",
       "       ['democrat'],\n",
       "       ['republican'],\n",
       "       ['republican'],\n",
       "       ['democrat'],\n",
       "       ['democrat'],\n",
       "       ['democrat'],\n",
       "       ['democrat'],\n",
       "       ['democrat'],\n",
       "       ['democrat'],\n",
       "       ['democrat'],\n",
       "       ['democrat'],\n",
       "       ['republican'],\n",
       "       ['republican'],\n",
       "       ['democrat'],\n",
       "       ['democrat'],\n",
       "       ['democrat'],\n",
       "       ['democrat'],\n",
       "       ['democrat'],\n",
       "       ['republican'],\n",
       "       ['republican'],\n",
       "       ['democrat'],\n",
       "       ['republican'],\n",
       "       ['republican'],\n",
       "       ['republican'],\n",
       "       ['republican'],\n",
       "       ['democrat'],\n",
       "       ['republican'],\n",
       "       ['republican'],\n",
       "       ['republican'],\n",
       "       ['democrat'],\n",
       "       ['democrat'],\n",
       "       ['democrat'],\n",
       "       ['democrat'],\n",
       "       ['democrat'],\n",
       "       ['democrat'],\n",
       "       ['democrat'],\n",
       "       ['democrat'],\n",
       "       ['democrat'],\n",
       "       ['democrat'],\n",
       "       ['democrat'],\n",
       "       ['republican'],\n",
       "       ['republican'],\n",
       "       ['democrat'],\n",
       "       ['democrat'],\n",
       "       ['democrat'],\n",
       "       ['republican'],\n",
       "       ['democrat'],\n",
       "       ['republican'],\n",
       "       ['republican'],\n",
       "       ['republican'],\n",
       "       ['republican'],\n",
       "       ['republican'],\n",
       "       ['democrat'],\n",
       "       ['republican'],\n",
       "       ['democrat'],\n",
       "       ['republican'],\n",
       "       ['democrat'],\n",
       "       ['democrat'],\n",
       "       ['republican'],\n",
       "       ['republican'],\n",
       "       ['republican'],\n",
       "       ['democrat'],\n",
       "       ['democrat'],\n",
       "       ['democrat'],\n",
       "       ['democrat'],\n",
       "       ['democrat'],\n",
       "       ['democrat'],\n",
       "       ['democrat'],\n",
       "       ['democrat'],\n",
       "       ['republican'],\n",
       "       ['democrat'],\n",
       "       ['democrat'],\n",
       "       ['republican'],\n",
       "       ['democrat'],\n",
       "       ['democrat'],\n",
       "       ['republican'],\n",
       "       ['democrat'],\n",
       "       ['democrat'],\n",
       "       ['democrat'],\n",
       "       ['democrat'],\n",
       "       ['republican'],\n",
       "       ['democrat'],\n",
       "       ['democrat'],\n",
       "       ['democrat'],\n",
       "       ['republican'],\n",
       "       ['republican'],\n",
       "       ['democrat'],\n",
       "       ['democrat'],\n",
       "       ['republican'],\n",
       "       ['democrat'],\n",
       "       ['republican'],\n",
       "       ['republican'],\n",
       "       ['republican'],\n",
       "       ['democrat'],\n",
       "       ['republican'],\n",
       "       ['democrat'],\n",
       "       ['republican'],\n",
       "       ['democrat'],\n",
       "       ['republican'],\n",
       "       ['democrat'],\n",
       "       ['republican'],\n",
       "       ['republican'],\n",
       "       ['republican'],\n",
       "       ['democrat'],\n",
       "       ['republican'],\n",
       "       ['democrat'],\n",
       "       ['democrat'],\n",
       "       ['democrat'],\n",
       "       ['republican'],\n",
       "       ['republican'],\n",
       "       ['democrat'],\n",
       "       ['democrat'],\n",
       "       ['democrat'],\n",
       "       ['democrat'],\n",
       "       ['republican'],\n",
       "       ['democrat'],\n",
       "       ['democrat'],\n",
       "       ['democrat'],\n",
       "       ['democrat'],\n",
       "       ['republican'],\n",
       "       ['democrat'],\n",
       "       ['democrat'],\n",
       "       ['republican'],\n",
       "       ['republican'],\n",
       "       ['republican'],\n",
       "       ['democrat'],\n",
       "       ['democrat'],\n",
       "       ['democrat'],\n",
       "       ['democrat'],\n",
       "       ['democrat'],\n",
       "       ['democrat'],\n",
       "       ['democrat'],\n",
       "       ['democrat'],\n",
       "       ['democrat'],\n",
       "       ['democrat'],\n",
       "       ['democrat'],\n",
       "       ['democrat'],\n",
       "       ['republican'],\n",
       "       ['republican'],\n",
       "       ['democrat'],\n",
       "       ['democrat'],\n",
       "       ['democrat'],\n",
       "       ['democrat'],\n",
       "       ['democrat'],\n",
       "       ['republican'],\n",
       "       ['republican'],\n",
       "       ['republican'],\n",
       "       ['republican'],\n",
       "       ['republican'],\n",
       "       ['republican'],\n",
       "       ['republican'],\n",
       "       ['democrat'],\n",
       "       ['democrat'],\n",
       "       ['democrat'],\n",
       "       ['republican'],\n",
       "       ['republican'],\n",
       "       ['democrat'],\n",
       "       ['republican'],\n",
       "       ['republican'],\n",
       "       ['democrat'],\n",
       "       ['democrat'],\n",
       "       ['republican'],\n",
       "       ['democrat'],\n",
       "       ['democrat'],\n",
       "       ['democrat'],\n",
       "       ['republican'],\n",
       "       ['democrat'],\n",
       "       ['democrat'],\n",
       "       ['democrat'],\n",
       "       ['democrat'],\n",
       "       ['democrat'],\n",
       "       ['democrat'],\n",
       "       ['republican'],\n",
       "       ['democrat'],\n",
       "       ['democrat'],\n",
       "       ['republican'],\n",
       "       ['democrat'],\n",
       "       ['republican'],\n",
       "       ['republican'],\n",
       "       ['republican']], dtype=object)"
      ]
     },
     "execution_count": 434,
     "metadata": {},
     "output_type": "execute_result"
    }
   ],
   "source": [
    "y = df.iloc[:,:1]\n",
    "y = np.asarray(y)\n",
    "X = df.iloc[:,1:]\n",
    "X = X.apply(lambda x: x.fillna(x.mean()),axis=0)\n",
    "X.head()\n",
    "y"
   ]
  },
  {
   "cell_type": "code",
   "execution_count": 432,
   "metadata": {
    "collapsed": false
   },
   "outputs": [
    {
     "data": {
      "text/plain": [
       "(434, 1)"
      ]
     },
     "execution_count": 432,
     "metadata": {},
     "output_type": "execute_result"
    }
   ],
   "source": [
    "y.shape"
   ]
  },
  {
   "cell_type": "markdown",
   "metadata": {},
   "source": [
    "### <a id='2'></a>Challenge 2:"
   ]
  },
  {
   "cell_type": "code",
   "execution_count": 423,
   "metadata": {
    "collapsed": false
   },
   "outputs": [],
   "source": [
    "from sklearn.cross_validation import train_test_split\n",
    "from sklearn.neighbors import KNeighborsClassifier\n",
    "from sklearn.metrics import accuracy_score\n",
    "\n",
    "X_train, X_test, y_train, y_test = train_test_split(X, y, test_size=0.30, random_state=4444)\n",
    "y_train = np.ravel(y_train)\n",
    "y_test = np.ravel(y_test)"
   ]
  },
  {
   "cell_type": "markdown",
   "metadata": {},
   "source": [
    "### <a id='3'></a>Challenge 3:"
   ]
  },
  {
   "cell_type": "code",
   "execution_count": 435,
   "metadata": {
    "collapsed": false
   },
   "outputs": [],
   "source": [
    "d1 = {}\n",
    "for nabes in range (1,21):\n",
    "    knc = KNeighborsClassifier(n_neighbors = nabes)\n",
    "    knc.fit(X_train, y_train).score(X_test, y_test)\n",
    "    y_pred = knc.predict(X_test)\n",
    "    acc = accuracy_score(y_test,y_pred)\n",
    "    d1[nabes] = [nabes, acc]"
   ]
  },
  {
   "cell_type": "code",
   "execution_count": 425,
   "metadata": {
    "collapsed": false
   },
   "outputs": [],
   "source": [
    "x, y1 = zip(*d1.values())"
   ]
  },
  {
   "cell_type": "code",
   "execution_count": 426,
   "metadata": {
    "collapsed": false
   },
   "outputs": [
    {
     "data": {
      "text/plain": [
       "(0.88, 0.95)"
      ]
     },
     "execution_count": 426,
     "metadata": {},
     "output_type": "execute_result"
    },
    {
     "data": {
      "image/png": "[encoded data removed]",
      "text/plain": [
       "<matplotlib.figure.Figure at 0x11cfb5390>"
      ]
     },
     "metadata": {},
     "output_type": "display_data"
    }
   ],
   "source": [
    "plt.plot(x,y1,'ob')\n",
    "plt.plot(x,y1,'-b')\n",
    "plt.ylabel('Accuracy')\n",
    "plt.xlabel('k')\n",
    "plt.ylim( 0.88, 0.95 ) "
   ]
  },
  {
   "cell_type": "code",
   "execution_count": 427,
   "metadata": {
    "collapsed": false
   },
   "outputs": [
    {
     "data": {
      "text/plain": [
       "{1: [1, 0.90839694656488545],\n",
       " 2: [2, 0.90839694656488545],\n",
       " 3: [3, 0.90839694656488545],\n",
       " 4: [4, 0.91603053435114501],\n",
       " 5: [5, 0.92366412213740456],\n",
       " 6: [6, 0.90839694656488545],\n",
       " 7: [7, 0.91603053435114501],\n",
       " 8: [8, 0.91603053435114501],\n",
       " 9: [9, 0.92366412213740456],\n",
       " 10: [10, 0.90839694656488545],\n",
       " 11: [11, 0.92366412213740456],\n",
       " 12: [12, 0.93129770992366412],\n",
       " 13: [13, 0.93129770992366412],\n",
       " 14: [14, 0.91603053435114501],\n",
       " 15: [15, 0.91603053435114501],\n",
       " 16: [16, 0.91603053435114501],\n",
       " 17: [17, 0.91603053435114501],\n",
       " 18: [18, 0.90839694656488545],\n",
       " 19: [19, 0.91603053435114501],\n",
       " 20: [20, 0.9007633587786259]}"
      ]
     },
     "execution_count": 427,
     "metadata": {},
     "output_type": "execute_result"
    }
   ],
   "source": [
    "d1"
   ]
  },
  {
   "cell_type": "markdown",
   "metadata": {},
   "source": [
    "Maximum accuracy (0.931) is achieved at k = 12 (tied with k = 13)."
   ]
  },
  {
   "cell_type": "markdown",
   "metadata": {},
   "source": [
    "### <a id='4'></a>Challenge 4:\n"
   ]
  },
  {
   "cell_type": "code",
   "execution_count": 13,
   "metadata": {
    "collapsed": false
   },
   "outputs": [
    {
     "data": {
      "text/plain": [
       "{(0.001, 'l1'): 0.60305343511450382,\n",
       " (0.001, 'l2'): 0.86259541984732824,\n",
       " (0.01, 'l1'): 0.60305343511450382,\n",
       " (0.01, 'l2'): 0.87786259541984735,\n",
       " (0.1, 'l1'): 0.92366412213740456,\n",
       " (0.1, 'l2'): 0.93129770992366412,\n",
       " (1, 'l1'): 0.96946564885496178,\n",
       " (1, 'l2'): 0.96183206106870234,\n",
       " (10, 'l1'): 0.96183206106870234,\n",
       " (10, 'l2'): 0.96183206106870234,\n",
       " (100, 'l1'): 0.95419847328244278,\n",
       " (100, 'l2'): 0.96183206106870234,\n",
       " (1000, 'l1'): 0.95419847328244278,\n",
       " (1000, 'l2'): 0.95419847328244278}"
      ]
     },
     "execution_count": 13,
     "metadata": {},
     "output_type": "execute_result"
    }
   ],
   "source": [
    "from sklearn.linear_model import LogisticRegression\n",
    "\n",
    "ps = ['l1','l2']\n",
    "cs = [.001, .01, .1, 1, 10, 100, 1000]\n",
    "d2 = {}\n",
    "\n",
    "for p in ps:\n",
    "    for c in cs:\n",
    "        lgr = LogisticRegression(penalty= p, C = c)\n",
    "        lgr.fit(X_train, y_train).score(X_test, y_test)\n",
    "        y_pred = lgr.predict(X_test)\n",
    "        acc = accuracy_score(y_test,y_pred)\n",
    "        d2[(c,p)] = acc\n",
    "d2"
   ]
  },
  {
   "cell_type": "markdown",
   "metadata": {},
   "source": [
    "Maximum accuracy (0.969) is achieved using C = 1 and penalty type 'L1'."
   ]
  },
  {
   "cell_type": "markdown",
   "metadata": {},
   "source": [
    "### <a id='5'></a>Challenge 5:\n"
   ]
  },
  {
   "cell_type": "code",
   "execution_count": 14,
   "metadata": {
    "collapsed": false
   },
   "outputs": [
    {
     "name": "stdout",
     "output_type": "stream",
     "text": [
      "There are 267 democrats and 167 Republicans.\n"
     ]
    },
    {
     "data": {
      "image/png": "[encoded data removed]",
      "text/plain": [
       "<matplotlib.figure.Figure at 0x11a3ace80>"
      ]
     },
     "metadata": {},
     "output_type": "display_data"
    }
   ],
   "source": [
    "num_dem = sum(df['class-label']=='democrat')\n",
    "num_rep = sum(df['class-label']=='republican')\n",
    "y_axis = [num_dem,num_rep]\n",
    "x_axis = range(len(y_axis))\n",
    "plt.xticks( np.arange(2), ('Democrats', 'Republicans') )\n",
    "plt.bar(x_axis, y_axis, width=0.2, color='red', align='center')\n",
    "plt.margins(.5,0)\n",
    "plt.ylim(0,300)\n",
    "plt.ylabel('Number in data set')\n",
    "print ('There are',num_dem,'democrats and', num_rep, 'Republicans.')"
   ]
  },
  {
   "cell_type": "code",
   "execution_count": 15,
   "metadata": {
    "collapsed": false
   },
   "outputs": [
    {
     "name": "stdout",
     "output_type": "stream",
     "text": [
      "Accuracy when always predicting DEMOCRAT:  0.615207373272\n",
      "Accuracy when always predicting REPUBLICAN:  0.384792626728\n"
     ]
    }
   ],
   "source": [
    "def predict_party(party):\n",
    "    n = None\n",
    "    string = None\n",
    "    if party.upper() == \"DEMOCRAT\":\n",
    "        string = 'democrat'\n",
    "    elif party.upper() == \"REPUBLICAN\":\n",
    "        string = 'republican'\n",
    "    Y_PRED = np.tile(string, 434)\n",
    "    return Y_PRED\n",
    "    print(results.summary())\n",
    "    \n",
    "y = np.ravel(y)\n",
    "knc = KNeighborsClassifier(n_neighbors = 12)\n",
    "knc.fit(X, y)\n",
    "y_pred_dem = predict_party('DEMOCRAT')\n",
    "acc = accuracy_score(y,y_pred_dem)\n",
    "\n",
    "print(\"Accuracy when always predicting DEMOCRAT: \",acc)\n",
    "    \n",
    "y = np.ravel(y)\n",
    "knc = KNeighborsClassifier(n_neighbors = 12)\n",
    "knc.fit(X, y)\n",
    "y_pred_rep = predict_party('REPUBLICAN')\n",
    "acc = accuracy_score(y,y_pred_rep)\n",
    "\n",
    "print(\"Accuracy when always predicting REPUBLICAN: \",acc)  "
   ]
  },
  {
   "cell_type": "markdown",
   "metadata": {},
   "source": [
    "### <a id='6'></a>Challenge 6:"
   ]
  },
  {
   "cell_type": "code",
   "execution_count": 16,
   "metadata": {
    "collapsed": false
   },
   "outputs": [],
   "source": [
    "todraw = [['K', 'KNN_Accuracy', 'LogReg_Accuracy', 'DemSimple_Accuracy','RepSimple_Accuracy']]\n",
    "for k in range (1,21):\n",
    "    todraw.append( [k, d1[k][1], .969, .615, .384] )\n",
    "\n",
    "headers = todraw.pop(0)\n",
    "dfdraw = pd.DataFrame(todraw, columns=headers)"
   ]
  },
  {
   "cell_type": "code",
   "execution_count": 17,
   "metadata": {
    "collapsed": false,
    "scrolled": true
   },
   "outputs": [
    {
     "data": {
      "text/html": [
       "<div>\n",
       "<table border=\"1\" class=\"dataframe\">\n",
       "  <thead>\n",
       "    <tr style=\"text-align: right;\">\n",
       "      <th></th>\n",
       "      <th>K</th>\n",
       "      <th>KNN_Accuracy</th>\n",
       "      <th>LogReg_Accuracy</th>\n",
       "      <th>DemSimple_Accuracy</th>\n",
       "      <th>RepSimple_Accuracy</th>\n",
       "    </tr>\n",
       "  </thead>\n",
       "  <tbody>\n",
       "    <tr>\n",
       "      <th>0</th>\n",
       "      <td>1</td>\n",
       "      <td>0.908397</td>\n",
       "      <td>0.969</td>\n",
       "      <td>0.615</td>\n",
       "      <td>0.384</td>\n",
       "    </tr>\n",
       "    <tr>\n",
       "      <th>1</th>\n",
       "      <td>2</td>\n",
       "      <td>0.908397</td>\n",
       "      <td>0.969</td>\n",
       "      <td>0.615</td>\n",
       "      <td>0.384</td>\n",
       "    </tr>\n",
       "    <tr>\n",
       "      <th>2</th>\n",
       "      <td>3</td>\n",
       "      <td>0.908397</td>\n",
       "      <td>0.969</td>\n",
       "      <td>0.615</td>\n",
       "      <td>0.384</td>\n",
       "    </tr>\n",
       "    <tr>\n",
       "      <th>3</th>\n",
       "      <td>4</td>\n",
       "      <td>0.916031</td>\n",
       "      <td>0.969</td>\n",
       "      <td>0.615</td>\n",
       "      <td>0.384</td>\n",
       "    </tr>\n",
       "    <tr>\n",
       "      <th>4</th>\n",
       "      <td>5</td>\n",
       "      <td>0.923664</td>\n",
       "      <td>0.969</td>\n",
       "      <td>0.615</td>\n",
       "      <td>0.384</td>\n",
       "    </tr>\n",
       "  </tbody>\n",
       "</table>\n",
       "</div>"
      ],
      "text/plain": [
       "   K  KNN_Accuracy  LogReg_Accuracy  DemSimple_Accuracy  RepSimple_Accuracy\n",
       "0  1      0.908397            0.969               0.615               0.384\n",
       "1  2      0.908397            0.969               0.615               0.384\n",
       "2  3      0.908397            0.969               0.615               0.384\n",
       "3  4      0.916031            0.969               0.615               0.384\n",
       "4  5      0.923664            0.969               0.615               0.384"
      ]
     },
     "execution_count": 17,
     "metadata": {},
     "output_type": "execute_result"
    }
   ],
   "source": [
    "dfdraw.head()"
   ]
  },
  {
   "cell_type": "code",
   "execution_count": 18,
   "metadata": {
    "collapsed": false
   },
   "outputs": [
    {
     "data": {
      "text/plain": [
       "<matplotlib.legend.Legend at 0x11a516da0>"
      ]
     },
     "execution_count": 18,
     "metadata": {},
     "output_type": "execute_result"
    },
    {
     "data": {
      "image/png": "[encoded data removed]",
      "text/plain": [
       "<matplotlib.figure.Figure at 0x116d80eb8>"
      ]
     },
     "metadata": {},
     "output_type": "display_data"
    }
   ],
   "source": [
    "plt.plot(dfdraw.K,dfdraw.LogReg_Accuracy,'-',color='blue')\n",
    "plt.plot(dfdraw.K,dfdraw.KNN_Accuracy,'-g')\n",
    "plt.plot(dfdraw.K,dfdraw.DemSimple_Accuracy,'-r')\n",
    "plt.plot(dfdraw.K,dfdraw.RepSimple_Accuracy,'-', color='black')\n",
    "plt.ylabel('Accuracy')\n",
    "plt.xlabel('K')\n",
    "plt.ylim( 0.2, 1 ) \n",
    "plt.legend(loc='center left', bbox_to_anchor=(1, 0.5))"
   ]
  },
  {
   "cell_type": "markdown",
   "metadata": {},
   "source": [
    "### <a id='7'></a>Challenge 7:\n"
   ]
  },
  {
   "cell_type": "code",
   "execution_count": 19,
   "metadata": {
    "collapsed": true
   },
   "outputs": [],
   "source": [
    "from sklearn.learning_curve import learning_curve"
   ]
  },
  {
   "cell_type": "code",
   "execution_count": 20,
   "metadata": {
    "collapsed": false
   },
   "outputs": [],
   "source": [
    "train_sizes, train_scores, valid_scores = learning_curve(LogisticRegression(), X, y, \\\n",
    "       train_sizes=np.linspace(.1, 1.0, 5))\n",
    "train_cv_err = np.mean(train_scores, axis=1)\n",
    "test_cv_err = np.mean(valid_scores, axis=1)\n",
    "mat = np.transpose(np.vstack((train_sizes,train_cv_err,test_cv_err)))"
   ]
  },
  {
   "cell_type": "code",
   "execution_count": 21,
   "metadata": {
    "collapsed": false
   },
   "outputs": [
    {
     "data": {
      "text/html": [
       "<div>\n",
       "<table border=\"1\" class=\"dataframe\">\n",
       "  <thead>\n",
       "    <tr style=\"text-align: right;\">\n",
       "      <th></th>\n",
       "      <th>m</th>\n",
       "      <th>train_cv_err</th>\n",
       "      <th>test_cv_err</th>\n",
       "    </tr>\n",
       "  </thead>\n",
       "  <tbody>\n",
       "    <tr>\n",
       "      <th>0</th>\n",
       "      <td>28</td>\n",
       "      <td>0.976190</td>\n",
       "      <td>0.916986</td>\n",
       "    </tr>\n",
       "    <tr>\n",
       "      <th>1</th>\n",
       "      <td>93</td>\n",
       "      <td>0.978495</td>\n",
       "      <td>0.928496</td>\n",
       "    </tr>\n",
       "    <tr>\n",
       "      <th>2</th>\n",
       "      <td>158</td>\n",
       "      <td>0.978903</td>\n",
       "      <td>0.940038</td>\n",
       "    </tr>\n",
       "    <tr>\n",
       "      <th>3</th>\n",
       "      <td>223</td>\n",
       "      <td>0.979073</td>\n",
       "      <td>0.951564</td>\n",
       "    </tr>\n",
       "    <tr>\n",
       "      <th>4</th>\n",
       "      <td>289</td>\n",
       "      <td>0.968858</td>\n",
       "      <td>0.963091</td>\n",
       "    </tr>\n",
       "  </tbody>\n",
       "</table>\n",
       "</div>"
      ],
      "text/plain": [
       "     m  train_cv_err  test_cv_err\n",
       "0   28      0.976190     0.916986\n",
       "1   93      0.978495     0.928496\n",
       "2  158      0.978903     0.940038\n",
       "3  223      0.979073     0.951564\n",
       "4  289      0.968858     0.963091"
      ]
     },
     "execution_count": 21,
     "metadata": {},
     "output_type": "execute_result"
    }
   ],
   "source": [
    "columns = ['m','train_cv_err','test_cv_err']\n",
    "m = pd.DataFrame(mat,columns=columns)\n",
    "m"
   ]
  },
  {
   "cell_type": "code",
   "execution_count": 22,
   "metadata": {
    "collapsed": false
   },
   "outputs": [
    {
     "data": {
      "text/plain": [
       "<matplotlib.text.Text at 0x11a64c278>"
      ]
     },
     "execution_count": 22,
     "metadata": {},
     "output_type": "execute_result"
    },
    {
     "data": {
      "image/png": "[encoded data removed]",
      "text/plain": [
       "<matplotlib.figure.Figure at 0x11a43dc88>"
      ]
     },
     "metadata": {},
     "output_type": "display_data"
    }
   ],
   "source": [
    "#plt.plot(m.m, m.train_cv_err,'o',color='blue')\n",
    "plt.plot(m.m, m.train_cv_err,'-',color='blue')\n",
    "#plt.plot(m.m, m.test_cv_err,'o',color='red')\n",
    "plt.plot(m.m, m.test_cv_err,'-',color='red')\n",
    "plt.ylabel('Score')\n",
    "plt.xlabel('Training Examples')\n",
    "plt.ylim( 0.80, 1 )\n",
    "plt.legend(loc='center left', bbox_to_anchor=(1, 0.5))\n",
    "plt.title(\"Logistic Regression\")"
   ]
  },
  {
   "cell_type": "code",
   "execution_count": 23,
   "metadata": {
    "collapsed": false
   },
   "outputs": [],
   "source": [
    "train_sizes, train_scores, valid_scores = learning_curve(KNeighborsClassifier(n_neighbors=12), X, y, \\\n",
    "       train_sizes=np.linspace(.1, 1.0, 5))\n",
    "train_cv_err = np.mean(train_scores, axis=1)\n",
    "test_cv_err = np.mean(valid_scores, axis=1)\n",
    "mat2 = np.transpose(np.vstack((train_sizes,train_cv_err,test_cv_err)))"
   ]
  },
  {
   "cell_type": "code",
   "execution_count": 24,
   "metadata": {
    "collapsed": false
   },
   "outputs": [
    {
     "data": {
      "text/html": [
       "<div>\n",
       "<table border=\"1\" class=\"dataframe\">\n",
       "  <thead>\n",
       "    <tr style=\"text-align: right;\">\n",
       "      <th></th>\n",
       "      <th>m</th>\n",
       "      <th>train_cv_err</th>\n",
       "      <th>test_cv_err</th>\n",
       "    </tr>\n",
       "  </thead>\n",
       "  <tbody>\n",
       "    <tr>\n",
       "      <th>0</th>\n",
       "      <td>28</td>\n",
       "      <td>0.845238</td>\n",
       "      <td>0.907775</td>\n",
       "    </tr>\n",
       "    <tr>\n",
       "      <th>1</th>\n",
       "      <td>93</td>\n",
       "      <td>0.931900</td>\n",
       "      <td>0.910105</td>\n",
       "    </tr>\n",
       "    <tr>\n",
       "      <th>2</th>\n",
       "      <td>158</td>\n",
       "      <td>0.934599</td>\n",
       "      <td>0.905540</td>\n",
       "    </tr>\n",
       "    <tr>\n",
       "      <th>3</th>\n",
       "      <td>223</td>\n",
       "      <td>0.940209</td>\n",
       "      <td>0.917050</td>\n",
       "    </tr>\n",
       "    <tr>\n",
       "      <th>4</th>\n",
       "      <td>289</td>\n",
       "      <td>0.937716</td>\n",
       "      <td>0.926261</td>\n",
       "    </tr>\n",
       "  </tbody>\n",
       "</table>\n",
       "</div>"
      ],
      "text/plain": [
       "     m  train_cv_err  test_cv_err\n",
       "0   28      0.845238     0.907775\n",
       "1   93      0.931900     0.910105\n",
       "2  158      0.934599     0.905540\n",
       "3  223      0.940209     0.917050\n",
       "4  289      0.937716     0.926261"
      ]
     },
     "execution_count": 24,
     "metadata": {},
     "output_type": "execute_result"
    }
   ],
   "source": [
    "columns = ['m','train_cv_err','test_cv_err']\n",
    "m2 = pd.DataFrame(mat2,columns=columns)\n",
    "m2"
   ]
  },
  {
   "cell_type": "code",
   "execution_count": 25,
   "metadata": {
    "collapsed": false
   },
   "outputs": [
    {
     "data": {
      "text/plain": [
       "<matplotlib.text.Text at 0x11a41ef28>"
      ]
     },
     "execution_count": 25,
     "metadata": {},
     "output_type": "execute_result"
    },
    {
     "data": {
      "image/png": "[encoded data removed]",
      "text/plain": [
       "<matplotlib.figure.Figure at 0x11a4225c0>"
      ]
     },
     "metadata": {},
     "output_type": "display_data"
    }
   ],
   "source": [
    "#plt.plot(m2.m, m2.train_cv_err,'o',color='blue')\n",
    "plt.plot(m2.m, m2.train_cv_err,'-',color='blue')\n",
    "#plt.plot(m2.m, m2.test_cv_err,'o',color='red')\n",
    "plt.plot(m2.m, m2.test_cv_err,'-',color='red')\n",
    "plt.ylabel('Score')\n",
    "plt.xlabel('Training Examples')\n",
    "plt.ylim( 0.80, 1 )\n",
    "plt.legend(loc='center left', bbox_to_anchor=(1, 0.5))\n",
    "plt.title(\"KNN\")"
   ]
  },
  {
   "cell_type": "markdown",
   "metadata": {
    "collapsed": true
   },
   "source": [
    "### <a id='8'></a>Challenge 8:\n"
   ]
  },
  {
   "cell_type": "code",
   "execution_count": 192,
   "metadata": {
    "collapsed": false
   },
   "outputs": [],
   "source": [
    "from sklearn.naive_bayes import GaussianNB\n",
    "from sklearn.svm import SVC\n",
    "from sklearn.tree import DecisionTreeClassifier\n",
    "from sklearn.ensemble import RandomForestClassifier\n",
    "from sklearn.cross_validation import train_test_split\n",
    "from sklearn.neighbors import KNeighborsClassifier\n",
    "from sklearn.metrics import accuracy_score\n",
    "\n",
    "#X_train, X_test, y_train, y_test = train_test_split(X, y, test_size=0.30, random_state=4444)\n",
    "#y_train = np.ravel(y_train)\n",
    "#y_test = np.ravel(y_test)"
   ]
  },
  {
   "cell_type": "code",
   "execution_count": 193,
   "metadata": {
    "collapsed": false
   },
   "outputs": [
    {
     "name": "stdout",
     "output_type": "stream",
     "text": [
      "Accuracy of Gaussian Naive Bayes:  0.908396946565\n"
     ]
    }
   ],
   "source": [
    "naive = GaussianNB()\n",
    "naive.fit(X_train, y_train).score(X_test, y_test)\n",
    "y_pred = naive.predict(X_test)\n",
    "acc = accuracy_score(y_test,y_pred)\n",
    "print (\"Accuracy of Gaussian Naive Bayes: \", acc)"
   ]
  },
  {
   "cell_type": "code",
   "execution_count": 28,
   "metadata": {
    "collapsed": false
   },
   "outputs": [
    {
     "name": "stdout",
     "output_type": "stream",
     "text": [
      "Accuracy of SVM Classifier:  0.954198473282\n"
     ]
    }
   ],
   "source": [
    "svc = SVC()\n",
    "svc.fit(X_train, y_train).score(X_test, y_test)\n",
    "y_pred = svc.predict(X_test)\n",
    "acc = accuracy_score(y_test,y_pred)\n",
    "print (\"Accuracy of SVM Classifier: \", acc)"
   ]
  },
  {
   "cell_type": "code",
   "execution_count": 29,
   "metadata": {
    "collapsed": false
   },
   "outputs": [
    {
     "name": "stdout",
     "output_type": "stream",
     "text": [
      "Accuracy of Decision Tree:  0.923664122137\n"
     ]
    }
   ],
   "source": [
    "dectree = DecisionTreeClassifier()\n",
    "dectree.fit(X_train, y_train).score(X_test, y_test)\n",
    "y_pred = dectree.predict(X_test)\n",
    "acc = accuracy_score(y_test,y_pred)\n",
    "print (\"Accuracy of Decision Tree: \", acc)"
   ]
  },
  {
   "cell_type": "code",
   "execution_count": 30,
   "metadata": {
    "collapsed": false
   },
   "outputs": [
    {
     "name": "stdout",
     "output_type": "stream",
     "text": [
      "Accuracy of Random Forest:  0.916030534351\n"
     ]
    }
   ],
   "source": [
    "randforest = RandomForestClassifier()\n",
    "randforest.fit(X_train, y_train).score(X_test, y_test)\n",
    "y_pred = randforest.predict(X_test)\n",
    "acc = accuracy_score(y_test,y_pred)\n",
    "print (\"Accuracy of Random Forest: \" , acc)"
   ]
  },
  {
   "cell_type": "markdown",
   "metadata": {},
   "source": [
    "### <a id='9'></a>Challenge 9:"
   ]
  },
  {
   "cell_type": "code",
   "execution_count": 194,
   "metadata": {
    "collapsed": false
   },
   "outputs": [],
   "source": [
    "from sklearn import cross_validation"
   ]
  },
  {
   "cell_type": "code",
   "execution_count": 205,
   "metadata": {
    "collapsed": false
   },
   "outputs": [],
   "source": [
    "logreg = LogisticRegression()\n",
    "naive_bayes = GaussianNB()\n",
    "svc = SVC()\n",
    "rf = RandomForestClassifier()\n",
    "dt = DecisionTreeClassifier()\n",
    "knc = KNeighborsClassifier(n_neighbors = 12)\n",
    "\n",
    "score_logreg = (cross_validation.cross_val_score(logreg, X, y.ravel(), cv=5)).mean()\n",
    "score_naive_bayes = (cross_validation.cross_val_score(naive_bayes, X, y.ravel(), cv=5)).mean()\n",
    "score_svc = (cross_validation.cross_val_score(svc, X, y.ravel(), cv=5)).mean()\n",
    "score_rf = (cross_validation.cross_val_score(rf, X, y.ravel(), cv=5)).mean()\n",
    "score_dt = (cross_validation.cross_val_score(dt, X, y.ravel(), cv=5)).mean()\n",
    "score_knc = (cross_validation.cross_val_score(knc, X, y.ravel(), cv=5)).mean()"
   ]
  },
  {
   "cell_type": "code",
   "execution_count": 191,
   "metadata": {
    "collapsed": false
   },
   "outputs": [
    {
     "name": "stdout",
     "output_type": "stream",
     "text": [
      "0.958403805497\n",
      "0.940010570825\n",
      "0.953858350951\n",
      "0.939957716702\n",
      "0.944608879493\n",
      "0.926374207188\n"
     ]
    }
   ],
   "source": [
    "print (score_logreg)\n",
    "print (score_naive_bayes)\n",
    "print (score_svc)\n",
    "print (score_rf)\n",
    "print (score_dt)\n",
    "print (score_knc)"
   ]
  },
  {
   "cell_type": "markdown",
   "metadata": {},
   "source": [
    "### <a id='10'></a>Challenge 10"
   ]
  },
  {
   "cell_type": "code",
   "execution_count": 206,
   "metadata": {
    "collapsed": true
   },
   "outputs": [],
   "source": [
    "#the csv file has no header row\n",
    "df = pd.read_csv('~/house-votes-84.data.txt')"
   ]
  },
  {
   "cell_type": "code",
   "execution_count": 207,
   "metadata": {
    "collapsed": false
   },
   "outputs": [
    {
     "data": {
      "text/html": [
       "<div>\n",
       "<table border=\"1\" class=\"dataframe\">\n",
       "  <thead>\n",
       "    <tr style=\"text-align: right;\">\n",
       "      <th></th>\n",
       "      <th>republican</th>\n",
       "      <th>n</th>\n",
       "      <th>y</th>\n",
       "      <th>n.1</th>\n",
       "      <th>y.1</th>\n",
       "      <th>y.2</th>\n",
       "      <th>y.3</th>\n",
       "      <th>n.2</th>\n",
       "      <th>n.3</th>\n",
       "      <th>n.4</th>\n",
       "      <th>y.4</th>\n",
       "      <th>?</th>\n",
       "      <th>y.5</th>\n",
       "      <th>y.6</th>\n",
       "      <th>y.7</th>\n",
       "      <th>n.5</th>\n",
       "      <th>y.8</th>\n",
       "    </tr>\n",
       "  </thead>\n",
       "  <tbody>\n",
       "    <tr>\n",
       "      <th>0</th>\n",
       "      <td>republican</td>\n",
       "      <td>n</td>\n",
       "      <td>y</td>\n",
       "      <td>n</td>\n",
       "      <td>y</td>\n",
       "      <td>y</td>\n",
       "      <td>y</td>\n",
       "      <td>n</td>\n",
       "      <td>n</td>\n",
       "      <td>n</td>\n",
       "      <td>n</td>\n",
       "      <td>n</td>\n",
       "      <td>y</td>\n",
       "      <td>y</td>\n",
       "      <td>y</td>\n",
       "      <td>n</td>\n",
       "      <td>?</td>\n",
       "    </tr>\n",
       "    <tr>\n",
       "      <th>1</th>\n",
       "      <td>democrat</td>\n",
       "      <td>?</td>\n",
       "      <td>y</td>\n",
       "      <td>y</td>\n",
       "      <td>?</td>\n",
       "      <td>y</td>\n",
       "      <td>y</td>\n",
       "      <td>n</td>\n",
       "      <td>n</td>\n",
       "      <td>n</td>\n",
       "      <td>n</td>\n",
       "      <td>y</td>\n",
       "      <td>n</td>\n",
       "      <td>y</td>\n",
       "      <td>y</td>\n",
       "      <td>n</td>\n",
       "      <td>n</td>\n",
       "    </tr>\n",
       "  </tbody>\n",
       "</table>\n",
       "</div>"
      ],
      "text/plain": [
       "   republican  n  y n.1 y.1 y.2 y.3 n.2 n.3 n.4 y.4  ? y.5 y.6 y.7 n.5 y.8\n",
       "0  republican  n  y   n   y   y   y   n   n   n   n  n   y   y   y   n   ?\n",
       "1    democrat  ?  y   y   ?   y   y   n   n   n   n  y   n   y   y   n   n"
      ]
     },
     "execution_count": 207,
     "metadata": {},
     "output_type": "execute_result"
    }
   ],
   "source": [
    "df.head(2)"
   ]
  },
  {
   "cell_type": "code",
   "execution_count": 208,
   "metadata": {
    "collapsed": true
   },
   "outputs": [],
   "source": [
    "df.columns = ['class-label',\n",
    "    'handicapped-infants',\n",
    "    'water-project-cost-sharing', \n",
    "    'adoption-of-the-budget-resolution', \n",
    "    'physician-fee-freeze', \n",
    "    'el-salvador-aid', \n",
    "    'religious-groups-in-schools', \n",
    "    'anti-satellite-test-ban', \n",
    "    'aid-to-nicaraguan-contras',\n",
    "    'mx-missile', \n",
    "    'immigration', \n",
    "    'synfuels-corporation-cutback', \n",
    "    'education-spending', \n",
    "    'superfund-right-to-sue', \n",
    "    'crime', \n",
    "    'duty-free-exports', \n",
    "    'export-administration-act-south-africa']"
   ]
  },
  {
   "cell_type": "code",
   "execution_count": 209,
   "metadata": {
    "collapsed": false
   },
   "outputs": [],
   "source": [
    "df = df.replace('y', 1)\n",
    "df = df.replace('n', 0)\n",
    "df = df.replace('?', np.nan)\n",
    "\n",
    "df.drop('class-label',axis=1, inplace=True)\n",
    "df = df.apply(lambda x:x.fillna(x.mode().index[0]))"
   ]
  },
  {
   "cell_type": "code",
   "execution_count": 210,
   "metadata": {
    "collapsed": false
   },
   "outputs": [
    {
     "data": {
      "text/html": [
       "<div>\n",
       "<table border=\"1\" class=\"dataframe\">\n",
       "  <thead>\n",
       "    <tr style=\"text-align: right;\">\n",
       "      <th></th>\n",
       "      <th>handicapped-infants</th>\n",
       "      <th>water-project-cost-sharing</th>\n",
       "      <th>adoption-of-the-budget-resolution</th>\n",
       "      <th>physician-fee-freeze</th>\n",
       "      <th>el-salvador-aid</th>\n",
       "      <th>religious-groups-in-schools</th>\n",
       "      <th>anti-satellite-test-ban</th>\n",
       "      <th>aid-to-nicaraguan-contras</th>\n",
       "      <th>mx-missile</th>\n",
       "      <th>immigration</th>\n",
       "      <th>synfuels-corporation-cutback</th>\n",
       "      <th>education-spending</th>\n",
       "      <th>superfund-right-to-sue</th>\n",
       "      <th>crime</th>\n",
       "      <th>duty-free-exports</th>\n",
       "      <th>export-administration-act-south-africa</th>\n",
       "    </tr>\n",
       "  </thead>\n",
       "  <tbody>\n",
       "    <tr>\n",
       "      <th>0</th>\n",
       "      <td>0</td>\n",
       "      <td>1</td>\n",
       "      <td>0</td>\n",
       "      <td>1</td>\n",
       "      <td>1</td>\n",
       "      <td>1</td>\n",
       "      <td>0</td>\n",
       "      <td>0</td>\n",
       "      <td>0</td>\n",
       "      <td>0</td>\n",
       "      <td>0</td>\n",
       "      <td>1</td>\n",
       "      <td>1</td>\n",
       "      <td>1</td>\n",
       "      <td>0</td>\n",
       "      <td>0</td>\n",
       "    </tr>\n",
       "    <tr>\n",
       "      <th>1</th>\n",
       "      <td>0</td>\n",
       "      <td>1</td>\n",
       "      <td>1</td>\n",
       "      <td>0</td>\n",
       "      <td>1</td>\n",
       "      <td>1</td>\n",
       "      <td>0</td>\n",
       "      <td>0</td>\n",
       "      <td>0</td>\n",
       "      <td>0</td>\n",
       "      <td>1</td>\n",
       "      <td>0</td>\n",
       "      <td>1</td>\n",
       "      <td>1</td>\n",
       "      <td>0</td>\n",
       "      <td>0</td>\n",
       "    </tr>\n",
       "  </tbody>\n",
       "</table>\n",
       "</div>"
      ],
      "text/plain": [
       "   handicapped-infants  water-project-cost-sharing  \\\n",
       "0                    0                           1   \n",
       "1                    0                           1   \n",
       "\n",
       "   adoption-of-the-budget-resolution  physician-fee-freeze  el-salvador-aid  \\\n",
       "0                                  0                     1                1   \n",
       "1                                  1                     0                1   \n",
       "\n",
       "   religious-groups-in-schools  anti-satellite-test-ban  \\\n",
       "0                            1                        0   \n",
       "1                            1                        0   \n",
       "\n",
       "   aid-to-nicaraguan-contras  mx-missile  immigration  \\\n",
       "0                          0           0            0   \n",
       "1                          0           0            0   \n",
       "\n",
       "   synfuels-corporation-cutback  education-spending  superfund-right-to-sue  \\\n",
       "0                             0                   1                       1   \n",
       "1                             1                   0                       1   \n",
       "\n",
       "   crime  duty-free-exports  export-administration-act-south-africa  \n",
       "0      1                  0                                       0  \n",
       "1      1                  0                                       0  "
      ]
     },
     "execution_count": 210,
     "metadata": {},
     "output_type": "execute_result"
    }
   ],
   "source": [
    "df.head(2)"
   ]
  },
  {
   "cell_type": "code",
   "execution_count": 211,
   "metadata": {
    "collapsed": false
   },
   "outputs": [
    {
     "data": {
      "text/html": [
       "<div>\n",
       "<table border=\"1\" class=\"dataframe\">\n",
       "  <thead>\n",
       "    <tr style=\"text-align: right;\">\n",
       "      <th></th>\n",
       "      <th>handicapped-infants</th>\n",
       "      <th>water-project-cost-sharing</th>\n",
       "      <th>adoption-of-the-budget-resolution</th>\n",
       "      <th>physician-fee-freeze</th>\n",
       "      <th>el-salvador-aid</th>\n",
       "      <th>religious-groups-in-schools</th>\n",
       "      <th>anti-satellite-test-ban</th>\n",
       "      <th>aid-to-nicaraguan-contras</th>\n",
       "      <th>immigration</th>\n",
       "      <th>synfuels-corporation-cutback</th>\n",
       "      <th>education-spending</th>\n",
       "      <th>superfund-right-to-sue</th>\n",
       "      <th>crime</th>\n",
       "      <th>duty-free-exports</th>\n",
       "      <th>export-administration-act-south-africa</th>\n",
       "    </tr>\n",
       "  </thead>\n",
       "  <tbody>\n",
       "    <tr>\n",
       "      <th>0</th>\n",
       "      <td>0</td>\n",
       "      <td>1</td>\n",
       "      <td>0</td>\n",
       "      <td>1</td>\n",
       "      <td>1</td>\n",
       "      <td>1</td>\n",
       "      <td>0</td>\n",
       "      <td>0</td>\n",
       "      <td>0</td>\n",
       "      <td>0</td>\n",
       "      <td>1</td>\n",
       "      <td>1</td>\n",
       "      <td>1</td>\n",
       "      <td>0</td>\n",
       "      <td>0</td>\n",
       "    </tr>\n",
       "    <tr>\n",
       "      <th>1</th>\n",
       "      <td>0</td>\n",
       "      <td>1</td>\n",
       "      <td>1</td>\n",
       "      <td>0</td>\n",
       "      <td>1</td>\n",
       "      <td>1</td>\n",
       "      <td>0</td>\n",
       "      <td>0</td>\n",
       "      <td>0</td>\n",
       "      <td>1</td>\n",
       "      <td>0</td>\n",
       "      <td>1</td>\n",
       "      <td>1</td>\n",
       "      <td>0</td>\n",
       "      <td>0</td>\n",
       "    </tr>\n",
       "    <tr>\n",
       "      <th>2</th>\n",
       "      <td>0</td>\n",
       "      <td>1</td>\n",
       "      <td>1</td>\n",
       "      <td>0</td>\n",
       "      <td>0</td>\n",
       "      <td>1</td>\n",
       "      <td>0</td>\n",
       "      <td>0</td>\n",
       "      <td>0</td>\n",
       "      <td>1</td>\n",
       "      <td>0</td>\n",
       "      <td>1</td>\n",
       "      <td>0</td>\n",
       "      <td>0</td>\n",
       "      <td>1</td>\n",
       "    </tr>\n",
       "    <tr>\n",
       "      <th>3</th>\n",
       "      <td>1</td>\n",
       "      <td>1</td>\n",
       "      <td>1</td>\n",
       "      <td>0</td>\n",
       "      <td>1</td>\n",
       "      <td>1</td>\n",
       "      <td>0</td>\n",
       "      <td>0</td>\n",
       "      <td>0</td>\n",
       "      <td>1</td>\n",
       "      <td>0</td>\n",
       "      <td>1</td>\n",
       "      <td>1</td>\n",
       "      <td>1</td>\n",
       "      <td>1</td>\n",
       "    </tr>\n",
       "    <tr>\n",
       "      <th>4</th>\n",
       "      <td>0</td>\n",
       "      <td>1</td>\n",
       "      <td>1</td>\n",
       "      <td>0</td>\n",
       "      <td>1</td>\n",
       "      <td>1</td>\n",
       "      <td>0</td>\n",
       "      <td>0</td>\n",
       "      <td>0</td>\n",
       "      <td>0</td>\n",
       "      <td>0</td>\n",
       "      <td>1</td>\n",
       "      <td>1</td>\n",
       "      <td>1</td>\n",
       "      <td>1</td>\n",
       "    </tr>\n",
       "  </tbody>\n",
       "</table>\n",
       "</div>"
      ],
      "text/plain": [
       "   handicapped-infants  water-project-cost-sharing  \\\n",
       "0                    0                           1   \n",
       "1                    0                           1   \n",
       "2                    0                           1   \n",
       "3                    1                           1   \n",
       "4                    0                           1   \n",
       "\n",
       "   adoption-of-the-budget-resolution  physician-fee-freeze  el-salvador-aid  \\\n",
       "0                                  0                     1                1   \n",
       "1                                  1                     0                1   \n",
       "2                                  1                     0                0   \n",
       "3                                  1                     0                1   \n",
       "4                                  1                     0                1   \n",
       "\n",
       "   religious-groups-in-schools  anti-satellite-test-ban  \\\n",
       "0                            1                        0   \n",
       "1                            1                        0   \n",
       "2                            1                        0   \n",
       "3                            1                        0   \n",
       "4                            1                        0   \n",
       "\n",
       "   aid-to-nicaraguan-contras  immigration  synfuels-corporation-cutback  \\\n",
       "0                          0            0                             0   \n",
       "1                          0            0                             1   \n",
       "2                          0            0                             1   \n",
       "3                          0            0                             1   \n",
       "4                          0            0                             0   \n",
       "\n",
       "   education-spending  superfund-right-to-sue  crime  duty-free-exports  \\\n",
       "0                   1                       1      1                  0   \n",
       "1                   0                       1      1                  0   \n",
       "2                   0                       1      0                  0   \n",
       "3                   0                       1      1                  1   \n",
       "4                   0                       1      1                  1   \n",
       "\n",
       "   export-administration-act-south-africa  \n",
       "0                                       0  \n",
       "1                                       0  \n",
       "2                                       1  \n",
       "3                                       1  \n",
       "4                                       1  "
      ]
     },
     "execution_count": 211,
     "metadata": {},
     "output_type": "execute_result"
    }
   ],
   "source": [
    "y = df['mx-missile']\n",
    "df.drop(['mx-missile'], axis = 1 , inplace= True)\n",
    "df.head()"
   ]
  },
  {
   "cell_type": "code",
   "execution_count": 213,
   "metadata": {
    "collapsed": false
   },
   "outputs": [
    {
     "name": "stdout",
     "output_type": "stream",
     "text": [
      "0.958403805497\n"
     ]
    }
   ],
   "source": [
    "logr = LogisticRegression()\n",
    "score_logr = cross_validation.cross_val_score(logr, df, y)\n",
    "print (score_logreg)"
   ]
  }
 ],
 "metadata": {
  "kernelspec": {
   "display_name": "Python 3",
   "language": "python",
   "name": "python3"
  },
  "language_info": {
   "codemirror_mode": {
    "name": "ipython",
    "version": 3
   },
   "file_extension": ".py",
   "mimetype": "text/x-python",
   "name": "python",
   "nbconvert_exporter": "python",
   "pygments_lexer": "ipython3",
   "version": "3.5.2"
  }
 },
 "nbformat": 4,
 "nbformat_minor": 0
}
