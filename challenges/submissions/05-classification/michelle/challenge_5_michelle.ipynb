{
 "cells": [
  {
   "cell_type": "markdown",
   "metadata": {},
   "source": [
    "# Challenge 5: Classification\n",
    "\n",
    "| Title        | Answer                     |\n",
    "| :---------- | :------------------------ |\n",
    "| Topic:       | Classification | \n",
    "| Date:        | 2016/07/31                 |\n",
    "| Name:        | Michelle L. Gill           |\n",
    "| Worked with: | None                       | \n",
    "\n"
   ]
  },
  {
   "cell_type": "code",
   "execution_count": 1,
   "metadata": {
    "ExecuteTime": {
     "end_time": "2016-08-01T22:03:54.009530",
     "start_time": "2016-08-01T22:03:51.720601"
    },
    "collapsed": true
   },
   "outputs": [],
   "source": [
    "import pandas as pd\n",
    "import numpy as np\n",
    "import cPickle as pickle\n",
    "\n",
    "from sklearn.cross_validation import train_test_split\n",
    "\n",
    "from sklearn.metrics import accuracy_score, f1_score\n",
    "\n",
    "from sklearn.learning_curve import learning_curve\n",
    "from sklearn.cross_validation import cross_val_score\n",
    "\n",
    "from sklearn.preprocessing import normalize, Normalizer\n",
    "from sklearn.naive_bayes import GaussianNB\n",
    "from sklearn.svm import SVC\n",
    "from sklearn.tree import DecisionTreeClassifier\n",
    "from sklearn.ensemble import RandomForestClassifier\n",
    "from sklearn.neighbors import KNeighborsClassifier\n",
    "from sklearn.linear_model import LogisticRegression\n",
    "\n",
    "import matplotlib.pyplot as plt\n",
    "import seaborn as sns\n",
    "\n",
    "sns.set_context('talk')\n",
    "sns.set_style('white')\n",
    "sns.set_palette('dark')\n",
    "\n",
    "%matplotlib inline"
   ]
  },
  {
   "cell_type": "markdown",
   "metadata": {},
   "source": [
    "## Question 1\n",
    "\n",
    "Load the data into a pandas dataframe. Replace 'y's with 1s, 'n's with 0s.\n",
    "\n",
    "Now, almost every representative has a ?. This represents the absence of a vote (they were absent or some other similar reason). If we dropped all the rows that had a ?, we would throw out most of our data. Instead, we will replace ? with the best guess in the Bayesian sense: in the absence of any other information, we will say that the probability of the representative saying YES is the ratio of others that said YES over the whole votes.\n",
    "\n",
    "So, convert each ? to this probability (when yes=1 and no=0, this is the mean of the column)"
   ]
  },
  {
   "cell_type": "code",
   "execution_count": 2,
   "metadata": {
    "ExecuteTime": {
     "end_time": "2016-08-01T22:03:54.756453",
     "start_time": "2016-08-01T22:03:54.011826"
    },
    "collapsed": false
   },
   "outputs": [
    {
     "name": "stdout",
     "output_type": "stream",
     "text": [
      "  % Total    % Received % Xferd  Average Speed   Time    Time     Time  Current\n",
      "                                 Dload  Upload   Total   Spent    Left  Speed\n",
      "100 18171  100 18171    0     0  37640      0 --:--:-- --:--:-- --:--:-- 38014\n",
      "republican,n,y,n,y,y,y,n,n,n,y,?,y,y,y,n,y\n",
      "republican,n,y,n,y,y,y,n,n,n,n,n,y,y,y,n,?\n",
      "democrat,?,y,y,?,y,y,n,n,n,n,y,n,y,y,n,n\n"
     ]
    }
   ],
   "source": [
    "! curl https://archive.ics.uci.edu/ml/machine-learning-databases/voting-records/house-votes-84.data -o 'voting_record.csv'\n",
    "! head -n 3 voting_record.csv"
   ]
  },
  {
   "cell_type": "markdown",
   "metadata": {},
   "source": [
    "Replace 'y' and 'n' values."
   ]
  },
  {
   "cell_type": "code",
   "execution_count": 3,
   "metadata": {
    "ExecuteTime": {
     "end_time": "2016-08-01T22:03:54.833081",
     "start_time": "2016-08-01T22:03:54.759028"
    },
    "collapsed": false
   },
   "outputs": [
    {
     "data": {
      "text/html": [
       "<div>\n",
       "<table border=\"1\" class=\"dataframe\">\n",
       "  <thead>\n",
       "    <tr style=\"text-align: right;\">\n",
       "      <th></th>\n",
       "      <th>party</th>\n",
       "      <th>v1</th>\n",
       "      <th>v2</th>\n",
       "      <th>v3</th>\n",
       "      <th>v4</th>\n",
       "      <th>v5</th>\n",
       "      <th>v6</th>\n",
       "      <th>v7</th>\n",
       "      <th>v8</th>\n",
       "      <th>v9</th>\n",
       "      <th>v10</th>\n",
       "      <th>v11</th>\n",
       "      <th>v12</th>\n",
       "      <th>v13</th>\n",
       "      <th>v14</th>\n",
       "      <th>v15</th>\n",
       "      <th>v16</th>\n",
       "    </tr>\n",
       "  </thead>\n",
       "  <tbody>\n",
       "    <tr>\n",
       "      <th>0</th>\n",
       "      <td>republican</td>\n",
       "      <td>0.0</td>\n",
       "      <td>1.0</td>\n",
       "      <td>0.0</td>\n",
       "      <td>1.0</td>\n",
       "      <td>1.0</td>\n",
       "      <td>1.0</td>\n",
       "      <td>0.0</td>\n",
       "      <td>0.0</td>\n",
       "      <td>0.0</td>\n",
       "      <td>1.0</td>\n",
       "      <td>NaN</td>\n",
       "      <td>1.0</td>\n",
       "      <td>1.0</td>\n",
       "      <td>1.0</td>\n",
       "      <td>0.0</td>\n",
       "      <td>1.0</td>\n",
       "    </tr>\n",
       "    <tr>\n",
       "      <th>1</th>\n",
       "      <td>republican</td>\n",
       "      <td>0.0</td>\n",
       "      <td>1.0</td>\n",
       "      <td>0.0</td>\n",
       "      <td>1.0</td>\n",
       "      <td>1.0</td>\n",
       "      <td>1.0</td>\n",
       "      <td>0.0</td>\n",
       "      <td>0.0</td>\n",
       "      <td>0.0</td>\n",
       "      <td>0.0</td>\n",
       "      <td>0.0</td>\n",
       "      <td>1.0</td>\n",
       "      <td>1.0</td>\n",
       "      <td>1.0</td>\n",
       "      <td>0.0</td>\n",
       "      <td>NaN</td>\n",
       "    </tr>\n",
       "    <tr>\n",
       "      <th>2</th>\n",
       "      <td>democrat</td>\n",
       "      <td>NaN</td>\n",
       "      <td>1.0</td>\n",
       "      <td>1.0</td>\n",
       "      <td>NaN</td>\n",
       "      <td>1.0</td>\n",
       "      <td>1.0</td>\n",
       "      <td>0.0</td>\n",
       "      <td>0.0</td>\n",
       "      <td>0.0</td>\n",
       "      <td>0.0</td>\n",
       "      <td>1.0</td>\n",
       "      <td>0.0</td>\n",
       "      <td>1.0</td>\n",
       "      <td>1.0</td>\n",
       "      <td>0.0</td>\n",
       "      <td>0.0</td>\n",
       "    </tr>\n",
       "  </tbody>\n",
       "</table>\n",
       "</div>"
      ],
      "text/plain": [
       "        party   v1   v2   v3   v4   v5   v6   v7   v8   v9  v10  v11  v12  \\\n",
       "0  republican  0.0  1.0  0.0  1.0  1.0  1.0  0.0  0.0  0.0  1.0  NaN  1.0   \n",
       "1  republican  0.0  1.0  0.0  1.0  1.0  1.0  0.0  0.0  0.0  0.0  0.0  1.0   \n",
       "2    democrat  NaN  1.0  1.0  NaN  1.0  1.0  0.0  0.0  0.0  0.0  1.0  0.0   \n",
       "\n",
       "   v13  v14  v15  v16  \n",
       "0  1.0  1.0  0.0  1.0  \n",
       "1  1.0  1.0  0.0  NaN  \n",
       "2  1.0  1.0  0.0  0.0  "
      ]
     },
     "execution_count": 3,
     "metadata": {},
     "output_type": "execute_result"
    }
   ],
   "source": [
    "vote_cols = ['v{}'.format(x) for x in range(1,17)]\n",
    "all_cols = ['party'] + vote_cols\n",
    "\n",
    "votes = pd.read_csv('voting_record.csv', \n",
    "                    header=None, \n",
    "                    names=all_cols)\n",
    "\n",
    "votes = votes.replace('y', 1).replace('n', 0).replace('?', np.NaN)\n",
    "votes.head(3)"
   ]
  },
  {
   "cell_type": "markdown",
   "metadata": {},
   "source": [
    "Compute the probability of a yes or no vote."
   ]
  },
  {
   "cell_type": "code",
   "execution_count": 4,
   "metadata": {
    "ExecuteTime": {
     "end_time": "2016-08-01T22:03:54.856727",
     "start_time": "2016-08-01T22:03:54.836425"
    },
    "collapsed": false
   },
   "outputs": [
    {
     "name": "stdout",
     "output_type": "stream",
     "text": [
      "1    0.520859\n",
      "0    0.479141\n",
      "dtype: float64\n",
      "0.520858708892\n"
     ]
    }
   ],
   "source": [
    "vote_totals = (pd.Series(votes[vote_cols].values.ravel())\n",
    "               .dropna()\n",
    "               .astype(int)\n",
    "               .value_counts()\n",
    "               )\n",
    "\n",
    "vote_totals /= vote_totals.sum()\n",
    "p_yes = vote_totals.loc[1]\n",
    "\n",
    "print vote_totals\n",
    "print p_yes"
   ]
  },
  {
   "cell_type": "markdown",
   "metadata": {},
   "source": [
    "Compute a binomial distribution with `p_yes` of being true and use this to fill the missing votes."
   ]
  },
  {
   "cell_type": "code",
   "execution_count": 5,
   "metadata": {
    "ExecuteTime": {
     "end_time": "2016-08-01T22:03:54.975822",
     "start_time": "2016-08-01T22:03:54.859906"
    },
    "collapsed": false
   },
   "outputs": [
    {
     "data": {
      "text/html": [
       "<div>\n",
       "<table border=\"1\" class=\"dataframe\">\n",
       "  <thead>\n",
       "    <tr style=\"text-align: right;\">\n",
       "      <th></th>\n",
       "      <th>party</th>\n",
       "      <th>v1</th>\n",
       "      <th>v2</th>\n",
       "      <th>v3</th>\n",
       "      <th>v4</th>\n",
       "      <th>v5</th>\n",
       "      <th>v6</th>\n",
       "      <th>v7</th>\n",
       "      <th>v8</th>\n",
       "      <th>v9</th>\n",
       "      <th>v10</th>\n",
       "      <th>v11</th>\n",
       "      <th>v12</th>\n",
       "      <th>v13</th>\n",
       "      <th>v14</th>\n",
       "      <th>v15</th>\n",
       "      <th>v16</th>\n",
       "    </tr>\n",
       "  </thead>\n",
       "  <tbody>\n",
       "    <tr>\n",
       "      <th>0</th>\n",
       "      <td>republican</td>\n",
       "      <td>0</td>\n",
       "      <td>1</td>\n",
       "      <td>0</td>\n",
       "      <td>1</td>\n",
       "      <td>1</td>\n",
       "      <td>1</td>\n",
       "      <td>0</td>\n",
       "      <td>0</td>\n",
       "      <td>0</td>\n",
       "      <td>1</td>\n",
       "      <td>0</td>\n",
       "      <td>1</td>\n",
       "      <td>1</td>\n",
       "      <td>1</td>\n",
       "      <td>0</td>\n",
       "      <td>1</td>\n",
       "    </tr>\n",
       "    <tr>\n",
       "      <th>1</th>\n",
       "      <td>republican</td>\n",
       "      <td>0</td>\n",
       "      <td>1</td>\n",
       "      <td>0</td>\n",
       "      <td>1</td>\n",
       "      <td>1</td>\n",
       "      <td>1</td>\n",
       "      <td>0</td>\n",
       "      <td>0</td>\n",
       "      <td>0</td>\n",
       "      <td>0</td>\n",
       "      <td>0</td>\n",
       "      <td>1</td>\n",
       "      <td>1</td>\n",
       "      <td>1</td>\n",
       "      <td>0</td>\n",
       "      <td>0</td>\n",
       "    </tr>\n",
       "    <tr>\n",
       "      <th>2</th>\n",
       "      <td>democrat</td>\n",
       "      <td>0</td>\n",
       "      <td>1</td>\n",
       "      <td>1</td>\n",
       "      <td>1</td>\n",
       "      <td>1</td>\n",
       "      <td>1</td>\n",
       "      <td>0</td>\n",
       "      <td>0</td>\n",
       "      <td>0</td>\n",
       "      <td>0</td>\n",
       "      <td>1</td>\n",
       "      <td>0</td>\n",
       "      <td>1</td>\n",
       "      <td>1</td>\n",
       "      <td>0</td>\n",
       "      <td>0</td>\n",
       "    </tr>\n",
       "  </tbody>\n",
       "</table>\n",
       "</div>"
      ],
      "text/plain": [
       "        party  v1  v2  v3  v4  v5  v6  v7  v8  v9  v10  v11  v12  v13  v14  \\\n",
       "0  republican   0   1   0   1   1   1   0   0   0    1    0    1    1    1   \n",
       "1  republican   0   1   0   1   1   1   0   0   0    0    0    1    1    1   \n",
       "2    democrat   0   1   1   1   1   1   0   0   0    0    1    0    1    1   \n",
       "\n",
       "   v15  v16  \n",
       "0    0    1  \n",
       "1    0    0  \n",
       "2    0    0  "
      ]
     },
     "execution_count": 5,
     "metadata": {},
     "output_type": "execute_result"
    }
   ],
   "source": [
    "def vote_filler(df_col, p_yes=p_yes):\n",
    "    mask = df_col.isnull()\n",
    "    fill_size = mask.sum()\n",
    "    df_col.loc[mask] = np.random.binomial(1, p=p_yes, size=fill_size)\n",
    "    return df_col\n",
    "\n",
    "votes[vote_cols] = votes[vote_cols].apply(vote_filler, axis=0).astype(int)\n",
    "votes.head(3)"
   ]
  },
  {
   "cell_type": "markdown",
   "metadata": {},
   "source": [
    "## Question 2\n",
    "\n",
    "Split the data into a test and training set."
   ]
  },
  {
   "cell_type": "code",
   "execution_count": 6,
   "metadata": {
    "ExecuteTime": {
     "end_time": "2016-08-01T22:03:54.992772",
     "start_time": "2016-08-01T22:03:54.979986"
    },
    "collapsed": false
   },
   "outputs": [],
   "source": [
    "train, test = train_test_split(votes, test_size=0.3, random_state=4444)\n",
    "test.to_pickle('votes_test.pkl')\n",
    "votes.to_pickle('votes.pkl')"
   ]
  },
  {
   "cell_type": "markdown",
   "metadata": {},
   "source": [
    "## Question 3\n",
    "\n",
    "Using scikit.learn's KNN algorithm, train a model that predicts the party (republican/democrat).\n",
    "\n",
    "Try it with a lot of different k values (number of neighbors), from 1 to 20, and on the test set calculate the accuracy (number of correct predictions / number of all predictions) for each k"
   ]
  },
  {
   "cell_type": "code",
   "execution_count": 7,
   "metadata": {
    "ExecuteTime": {
     "end_time": "2016-08-01T22:03:55.266520",
     "start_time": "2016-08-01T22:03:54.995480"
    },
    "collapsed": false
   },
   "outputs": [],
   "source": [
    "# I believe that this data should not need to be normalized for KNN since all features are\n",
    "# already on the same scale [0, 1]\n",
    "\n",
    "df_list = list()\n",
    "\n",
    "for k in range(1,21):\n",
    "    knn = KNeighborsClassifier(n_neighbors=k)\n",
    "    knn.fit(train[vote_cols], train['party'])\n",
    "    \n",
    "    accuracy_train = accuracy_score(train['party'],  knn.predict(train[vote_cols]))\n",
    "    accuracy_test = accuracy_score(test['party'],  knn.predict(test[vote_cols]))\n",
    "    \n",
    "    df_list.append(pd.DataFrame({'accuracy_train':accuracy_train,\n",
    "                                 'accuracy_test':accuracy_test,\n",
    "                                 'model':knn},\n",
    "                               index=pd.Index([k], name='k_size'),\n",
    "                               columns=['accuracy_train', 'accuracy_test', 'model']))\n",
    "    \n",
    "knn_df = pd.concat(df_list).reset_index()"
   ]
  },
  {
   "cell_type": "markdown",
   "metadata": {},
   "source": [
    "Which k value gives the highest accuracy?\n",
    "\n",
    "### Answer\n",
    "For k-nearest-neighbors, k=7 gives the highest accuracy."
   ]
  },
  {
   "cell_type": "code",
   "execution_count": 8,
   "metadata": {
    "ExecuteTime": {
     "end_time": "2016-08-01T22:03:55.299059",
     "start_time": "2016-08-01T22:03:55.269085"
    },
    "collapsed": false
   },
   "outputs": [
    {
     "data": {
      "text/plain": [
       "k_size                                                           10\n",
       "accuracy_train                                             0.944079\n",
       "accuracy_test                                              0.931298\n",
       "model             KNeighborsClassifier(algorithm='auto', leaf_si...\n",
       "Name: 9, dtype: object"
      ]
     },
     "execution_count": 8,
     "metadata": {},
     "output_type": "execute_result"
    }
   ],
   "source": [
    "knn_best_model = knn_df.loc[knn_df.accuracy_test.argmax(),'model']\n",
    "\n",
    "with open('knn_house.mdl','w') as fh:\n",
    "    pickle.dump(knn_best_model, fh)\n",
    "\n",
    "knn_df.loc[knn_df.accuracy_test.argmax()]"
   ]
  },
  {
   "cell_type": "markdown",
   "metadata": {},
   "source": [
    "## Question 4\n",
    "\n",
    "Make a similar model but with `LogisticRegression` instead, calculate test accuracy."
   ]
  },
  {
   "cell_type": "code",
   "execution_count": 9,
   "metadata": {
    "ExecuteTime": {
     "end_time": "2016-08-01T22:03:55.450862",
     "start_time": "2016-08-01T22:03:55.301826"
    },
    "collapsed": false
   },
   "outputs": [
    {
     "data": {
      "text/html": [
       "<div>\n",
       "<table border=\"1\" class=\"dataframe\">\n",
       "  <thead>\n",
       "    <tr style=\"text-align: right;\">\n",
       "      <th></th>\n",
       "      <th>C</th>\n",
       "      <th>accuracy_train</th>\n",
       "      <th>accuracy_test</th>\n",
       "      <th>model</th>\n",
       "    </tr>\n",
       "  </thead>\n",
       "  <tbody>\n",
       "    <tr>\n",
       "      <th>0</th>\n",
       "      <td>1000.000</td>\n",
       "      <td>0.990132</td>\n",
       "      <td>0.931298</td>\n",
       "      <td>LogisticRegression(C=1000, class_weight=None, ...</td>\n",
       "    </tr>\n",
       "    <tr>\n",
       "      <th>1</th>\n",
       "      <td>10.000</td>\n",
       "      <td>0.983553</td>\n",
       "      <td>0.938931</td>\n",
       "      <td>LogisticRegression(C=10, class_weight=None, du...</td>\n",
       "    </tr>\n",
       "    <tr>\n",
       "      <th>2</th>\n",
       "      <td>1.000</td>\n",
       "      <td>0.980263</td>\n",
       "      <td>0.938931</td>\n",
       "      <td>LogisticRegression(C=1, class_weight=None, dua...</td>\n",
       "    </tr>\n",
       "    <tr>\n",
       "      <th>3</th>\n",
       "      <td>0.100</td>\n",
       "      <td>0.947368</td>\n",
       "      <td>0.931298</td>\n",
       "      <td>LogisticRegression(C=0.1, class_weight=None, d...</td>\n",
       "    </tr>\n",
       "    <tr>\n",
       "      <th>4</th>\n",
       "      <td>0.010</td>\n",
       "      <td>0.901316</td>\n",
       "      <td>0.893130</td>\n",
       "      <td>LogisticRegression(C=0.01, class_weight=None, ...</td>\n",
       "    </tr>\n",
       "    <tr>\n",
       "      <th>5</th>\n",
       "      <td>0.001</td>\n",
       "      <td>0.884868</td>\n",
       "      <td>0.824427</td>\n",
       "      <td>LogisticRegression(C=0.001, class_weight=None,...</td>\n",
       "    </tr>\n",
       "  </tbody>\n",
       "</table>\n",
       "</div>"
      ],
      "text/plain": [
       "          C  accuracy_train  accuracy_test  \\\n",
       "0  1000.000        0.990132       0.931298   \n",
       "1    10.000        0.983553       0.938931   \n",
       "2     1.000        0.980263       0.938931   \n",
       "3     0.100        0.947368       0.931298   \n",
       "4     0.010        0.901316       0.893130   \n",
       "5     0.001        0.884868       0.824427   \n",
       "\n",
       "                                               model  \n",
       "0  LogisticRegression(C=1000, class_weight=None, ...  \n",
       "1  LogisticRegression(C=10, class_weight=None, du...  \n",
       "2  LogisticRegression(C=1, class_weight=None, dua...  \n",
       "3  LogisticRegression(C=0.1, class_weight=None, d...  \n",
       "4  LogisticRegression(C=0.01, class_weight=None, ...  \n",
       "5  LogisticRegression(C=0.001, class_weight=None,...  "
      ]
     },
     "execution_count": 9,
     "metadata": {},
     "output_type": "execute_result"
    }
   ],
   "source": [
    "df_list = list()\n",
    "\n",
    "for C in [1000, 10, 1, 0.1, 0.01, 0.001]:\n",
    "    log = LogisticRegression(C=C, penalty='l2', tol=0.01)\n",
    "    log.fit(train[vote_cols], train['party'])\n",
    "\n",
    "    accuracy_train = accuracy_score(train['party'], log.predict(train[vote_cols]))\n",
    "    accuract_test = accuracy_score(test['party'], log.predict(test[vote_cols]))\n",
    "    \n",
    "    df_list.append(pd.DataFrame({'accuracy_train': accuracy_train,\n",
    "                                 'accuracy_test': accuract_test,\n",
    "                                 'model':log},\n",
    "                                index=pd.Index([C], name='C'),\n",
    "                                columns=['accuracy_train', 'accuracy_test', 'model']))\n",
    "    \n",
    "logit_df = pd.concat(df_list).reset_index()\n",
    "logit_df"
   ]
  },
  {
   "cell_type": "code",
   "execution_count": 10,
   "metadata": {
    "ExecuteTime": {
     "end_time": "2016-08-01T22:03:55.470467",
     "start_time": "2016-08-01T22:03:55.453479"
    },
    "collapsed": false
   },
   "outputs": [
    {
     "data": {
      "text/plain": [
       "C                                                                10\n",
       "accuracy_train                                             0.983553\n",
       "accuracy_test                                              0.938931\n",
       "model             LogisticRegression(C=10, class_weight=None, du...\n",
       "Name: 1, dtype: object"
      ]
     },
     "execution_count": 10,
     "metadata": {},
     "output_type": "execute_result"
    }
   ],
   "source": [
    "log_best_model = logit_df.loc[logit_df.accuracy_test.argmax(),'model']\n",
    "\n",
    "with open('log_house.mdl','w') as fh:\n",
    "    pickle.dump(log_best_model, fh)\n",
    "\n",
    "logit_df.loc[logit_df.accuracy_test.argmax()]"
   ]
  },
  {
   "cell_type": "markdown",
   "metadata": {},
   "source": [
    "## Question 5\n",
    "\n",
    "Make a bar graph of democrats and republicans. How many of each are there?\n",
    "\n",
    "Make a very simple predictor that predicts 'democrat' for every incoming example.\n",
    "\n",
    "Just make a function that takes in an X --an array or matrix with input examples--, and returns an array of the same length as X, where each value is 'democrat'. For example, if X is three rows, your function should return ['democrat','democrat','democrat']. Make a y_predicted vector using this and measure its accuracy.\n",
    "\n",
    "Do the same with predicting 'republican' all the time and measure its accuracy."
   ]
  },
  {
   "cell_type": "code",
   "execution_count": 11,
   "metadata": {
    "ExecuteTime": {
     "end_time": "2016-08-01T22:03:55.484556",
     "start_time": "2016-08-01T22:03:55.474025"
    },
    "collapsed": false
   },
   "outputs": [
    {
     "data": {
      "text/plain": [
       "democrat      267\n",
       "republican    168\n",
       "Name: party, dtype: int64"
      ]
     },
     "execution_count": 11,
     "metadata": {},
     "output_type": "execute_result"
    }
   ],
   "source": [
    "votes['party'].value_counts()"
   ]
  },
  {
   "cell_type": "code",
   "execution_count": 12,
   "metadata": {
    "ExecuteTime": {
     "end_time": "2016-08-01T22:03:55.868106",
     "start_time": "2016-08-01T22:03:55.487854"
    },
    "collapsed": false
   },
   "outputs": [
    {
     "data": {
      "image/png": "[encoded data removed]",
      "text/plain": [
       "<matplotlib.figure.Figure at 0x1046f3710>"
      ]
     },
     "metadata": {},
     "output_type": "display_data"
    }
   ],
   "source": [
    "ax = votes['party'].value_counts().plot(kind='bar', figsize=(7,5))\n",
    "_ = plt.xticks(rotation=0)\n",
    "_ = ax.set(xlabel='Party', \n",
    "           ylabel='Frequency', \n",
    "           title='Party Affiliation of 1984 House of Representatives')"
   ]
  },
  {
   "cell_type": "code",
   "execution_count": 13,
   "metadata": {
    "ExecuteTime": {
     "end_time": "2016-08-01T22:03:55.875533",
     "start_time": "2016-08-01T22:03:55.870602"
    },
    "collapsed": true
   },
   "outputs": [],
   "source": [
    "def predict_same_party(xdata, predict='democrat'):\n",
    "    return np.array([predict]*xdata.shape[0])"
   ]
  },
  {
   "cell_type": "code",
   "execution_count": 14,
   "metadata": {
    "ExecuteTime": {
     "end_time": "2016-08-01T22:03:55.887291",
     "start_time": "2016-08-01T22:03:55.878439"
    },
    "collapsed": false
   },
   "outputs": [
    {
     "data": {
      "text/plain": [
       "0.625"
      ]
     },
     "execution_count": 14,
     "metadata": {},
     "output_type": "execute_result"
    }
   ],
   "source": [
    "y_dem = predict_same_party(train)\n",
    "y_dem_accuracy = accuracy_score(train['party'], y_dem)\n",
    "y_dem_accuracy"
   ]
  },
  {
   "cell_type": "code",
   "execution_count": 15,
   "metadata": {
    "ExecuteTime": {
     "end_time": "2016-08-01T22:03:55.901156",
     "start_time": "2016-08-01T22:03:55.890416"
    },
    "collapsed": false
   },
   "outputs": [
    {
     "data": {
      "text/plain": [
       "0.375"
      ]
     },
     "execution_count": 15,
     "metadata": {},
     "output_type": "execute_result"
    }
   ],
   "source": [
    "y_repub = predict_same_party(train, 'republican')\n",
    "y_repub_accuracy = accuracy_score(train['party'], y_repub)\n",
    "y_repub_accuracy"
   ]
  },
  {
   "cell_type": "markdown",
   "metadata": {},
   "source": [
    "## Question 6\n",
    "\n",
    "Plot the accuracies as a function of k. Since k only matters for KNN, your logistic regression accuracy, 'democrat' predictor accuracy and 'republican' predictor accuracy will stay the same over all k, so each of these three will be a horizontal line. But the KNN accuracy will change with k."
   ]
  },
  {
   "cell_type": "code",
   "execution_count": 16,
   "metadata": {
    "ExecuteTime": {
     "end_time": "2016-08-01T22:03:56.314428",
     "start_time": "2016-08-01T22:03:55.904051"
    },
    "collapsed": false
   },
   "outputs": [
    {
     "data": {
      "text/plain": [
       "(0, 1)"
      ]
     },
     "execution_count": 16,
     "metadata": {},
     "output_type": "execute_result"
    },
    {
     "data": {
      "image/png": "[encoded data removed]",
      "text/plain": [
       "<matplotlib.figure.Figure at 0x1183d5710>"
      ]
     },
     "metadata": {},
     "output_type": "display_data"
    }
   ],
   "source": [
    "ax = knn_df.plot('k_size', 'accuracy_test', figsize=[7,5])\n",
    "\n",
    "logit_accuracy = logit_df.loc[logit_df.accuracy_test.argmax(), 'accuracy_test']\n",
    "ax.plot(knn_df.k_size, [logit_accuracy]*len(knn_df.k_size), label='logistic regression')\n",
    "ax.plot(knn_df.k_size, [y_dem_accuracy]*len(knn_df.k_size), label='democrat predictor')\n",
    "ax.plot(knn_df.k_size, [y_repub_accuracy]*len(knn_df.k_size), label='republican predictor')\n",
    "\n",
    "labels = ['knn', 'logistic regression', 'democrat predictor', 'republican predictor']\n",
    "legend = ax.legend(loc=0)\n",
    "_ = [x[1].set_text(labels[x[0]]) for x in enumerate(legend.get_texts())]\n",
    "_ = ax.set(xlabel='k size', ylabel='Accuracy', title='Accuracy vs size of k in KNN')\n",
    "ax.set_ylim(0,1)"
   ]
  },
  {
   "cell_type": "markdown",
   "metadata": {},
   "source": [
    "## Question 7\n",
    "\n",
    "Plot a learning curve for the logistic regression model and for KNN."
   ]
  },
  {
   "cell_type": "code",
   "execution_count": 17,
   "metadata": {
    "ExecuteTime": {
     "end_time": "2016-08-01T22:03:57.334178",
     "start_time": "2016-08-01T22:03:56.316984"
    },
    "collapsed": false
   },
   "outputs": [],
   "source": [
    "log_train_sizes, log_train_scores, log_test_scores = learning_curve(log_best_model, \n",
    "                                                                    votes[vote_cols], \n",
    "                                                                    votes['party'],\n",
    "                                                                    np.linspace(0.1, 1.0, 19))\n",
    "\n",
    "log_train_scores = log_train_scores.mean(axis=1)\n",
    "log_test_scores = log_test_scores.mean(axis=1)\n",
    "\n",
    "knn_train_sizes, knn_train_scores, knn_test_scores = learning_curve(knn_best_model, \n",
    "                                                                    votes[vote_cols], \n",
    "                                                                    votes['party'],\n",
    "                                                                    np.linspace(0.1, 1.0, 19))\n",
    "\n",
    "knn_train_scores = knn_train_scores.mean(axis=1)\n",
    "knn_test_scores = knn_test_scores.mean(axis=1)"
   ]
  },
  {
   "cell_type": "code",
   "execution_count": 18,
   "metadata": {
    "ExecuteTime": {
     "end_time": "2016-08-01T22:03:57.815193",
     "start_time": "2016-08-01T22:03:57.336317"
    },
    "collapsed": false
   },
   "outputs": [
    {
     "data": {
      "image/png": "[encoded data removed]",
      "text/plain": [
       "<matplotlib.figure.Figure at 0x11b2e4e50>"
      ]
     },
     "metadata": {},
     "output_type": "display_data"
    }
   ],
   "source": [
    "f = plt.figure()\n",
    "f.set_size_inches(7,5)\n",
    "ax = plt.axes()\n",
    "\n",
    "ax.plot(log_train_sizes, log_train_scores, label='Logistic Training')\n",
    "ax.plot(log_train_sizes, log_test_scores, label='Logistic Testing')\n",
    "ax.plot(knn_train_sizes, knn_train_scores, label='KNN Training')\n",
    "ax.plot(knn_train_sizes, knn_test_scores, label='KNN Testing')\n",
    "ax.legend(loc=0)\n",
    "_ = ax.set(xlabel='Sample Size', \n",
    "       ylabel='Accuracy',\n",
    "       title='Learning Curve for Logistic Regression vs KNN')"
   ]
  },
  {
   "cell_type": "markdown",
   "metadata": {},
   "source": [
    "## Question 8\n",
    "\n",
    "This is a preview of many other classification algorithms that we will go over. Scikit.learn has the same interface for all of these, so you can use them exactly the same way as you did LogisticRegression and KNeighborsClassifier. Use each of these to classify your data and print the test accuracy of each."
   ]
  },
  {
   "cell_type": "code",
   "execution_count": 19,
   "metadata": {
    "ExecuteTime": {
     "end_time": "2016-08-01T22:03:57.931760",
     "start_time": "2016-08-01T22:03:57.817800"
    },
    "collapsed": false
   },
   "outputs": [],
   "source": [
    "algo_list = list()\n",
    "\n",
    "for algo in enumerate(['GaussianNB', 'SVC', \n",
    "                       'DecisionTreeClassifier', 'RandomForestClassifier']):\n",
    "    model = eval(algo[1]+'()')\n",
    "    model.fit(train[vote_cols], train['party'])\n",
    "\n",
    "    accuracy_train = accuracy_score(train['party'], model.predict(train[vote_cols]))\n",
    "    accuracy_test = accuracy_score(test['party'], model.predict(test[vote_cols]))\n",
    "    \n",
    "    if algo[1] == 'RandomForestClassifier':\n",
    "        model = tuple([model])\n",
    "        \n",
    "    algo_list.append(pd.DataFrame({'classifier': algo[1],\n",
    "                                   'accuracy_train': accuracy_train,\n",
    "                                   'accuracy_test': accuracy_test,\n",
    "                                   'model': model},\n",
    "                                index=pd.Index([algo[0]], name='index'),\n",
    "                                columns=['classifier', 'accuracy_train', \n",
    "                                         'accuracy_test', 'model']))\n",
    "    \n",
    "    with open(algo[1].lower()+'_house.mdl','w') as fh:\n",
    "        pickle.dump(model, fh)"
   ]
  },
  {
   "cell_type": "code",
   "execution_count": 20,
   "metadata": {
    "ExecuteTime": {
     "end_time": "2016-08-01T22:03:57.994187",
     "start_time": "2016-08-01T22:03:57.934370"
    },
    "collapsed": false
   },
   "outputs": [
    {
     "data": {
      "text/html": [
       "<div>\n",
       "<table border=\"1\" class=\"dataframe\">\n",
       "  <thead>\n",
       "    <tr style=\"text-align: right;\">\n",
       "      <th></th>\n",
       "      <th>classifier</th>\n",
       "      <th>accuracy_train</th>\n",
       "      <th>accuracy_test</th>\n",
       "      <th>model</th>\n",
       "    </tr>\n",
       "    <tr>\n",
       "      <th>index</th>\n",
       "      <th></th>\n",
       "      <th></th>\n",
       "      <th></th>\n",
       "      <th></th>\n",
       "    </tr>\n",
       "  </thead>\n",
       "  <tbody>\n",
       "    <tr>\n",
       "      <th>0</th>\n",
       "      <td>GaussianNB</td>\n",
       "      <td>0.930921</td>\n",
       "      <td>0.938931</td>\n",
       "      <td>GaussianNB()</td>\n",
       "    </tr>\n",
       "    <tr>\n",
       "      <th>1</th>\n",
       "      <td>SVC</td>\n",
       "      <td>0.973684</td>\n",
       "      <td>0.954198</td>\n",
       "      <td>SVC(C=1.0, cache_size=200, class_weight=None, ...</td>\n",
       "    </tr>\n",
       "    <tr>\n",
       "      <th>2</th>\n",
       "      <td>DecisionTreeClassifier</td>\n",
       "      <td>0.996711</td>\n",
       "      <td>0.923664</td>\n",
       "      <td>DecisionTreeClassifier(class_weight=None, crit...</td>\n",
       "    </tr>\n",
       "    <tr>\n",
       "      <th>3</th>\n",
       "      <td>RandomForestClassifier</td>\n",
       "      <td>0.993421</td>\n",
       "      <td>0.954198</td>\n",
       "      <td>(DecisionTreeClassifier(class_weight=None, cri...</td>\n",
       "    </tr>\n",
       "  </tbody>\n",
       "</table>\n",
       "</div>"
      ],
      "text/plain": [
       "                   classifier  accuracy_train  accuracy_test  \\\n",
       "index                                                          \n",
       "0                  GaussianNB        0.930921       0.938931   \n",
       "1                         SVC        0.973684       0.954198   \n",
       "2      DecisionTreeClassifier        0.996711       0.923664   \n",
       "3      RandomForestClassifier        0.993421       0.954198   \n",
       "\n",
       "                                                   model  \n",
       "index                                                     \n",
       "0                                           GaussianNB()  \n",
       "1      SVC(C=1.0, cache_size=200, class_weight=None, ...  \n",
       "2      DecisionTreeClassifier(class_weight=None, crit...  \n",
       "3      (DecisionTreeClassifier(class_weight=None, cri...  "
      ]
     },
     "execution_count": 20,
     "metadata": {},
     "output_type": "execute_result"
    }
   ],
   "source": [
    "algo_df = pd.concat(algo_list, axis=0)\n",
    "algo_df"
   ]
  },
  {
   "cell_type": "markdown",
   "metadata": {},
   "source": [
    "## Question 9\n",
    "\n",
    "Use `cross_val_score` to calculate the cross validation score of each of the classifiers you tried before."
   ]
  },
  {
   "cell_type": "code",
   "execution_count": 21,
   "metadata": {
    "ExecuteTime": {
     "end_time": "2016-08-01T22:03:58.225982",
     "start_time": "2016-08-01T22:03:57.996991"
    },
    "collapsed": false
   },
   "outputs": [],
   "source": [
    "cv_list = list()\n",
    "\n",
    "for idx,dat in algo_df.iterrows():\n",
    "    model = dat.model\n",
    "    label = dat.classifier\n",
    "    cv_val = cross_val_score(model, train[vote_cols], train['party'])\n",
    "    df = pd.Series({'label':label, 'cv':cv_val.mean()})\n",
    "    cv_list.append(df)"
   ]
  },
  {
   "cell_type": "code",
   "execution_count": 22,
   "metadata": {
    "ExecuteTime": {
     "end_time": "2016-08-01T22:03:58.250241",
     "start_time": "2016-08-01T22:03:58.229063"
    },
    "collapsed": false
   },
   "outputs": [
    {
     "data": {
      "text/html": [
       "<div>\n",
       "<table border=\"1\" class=\"dataframe\">\n",
       "  <thead>\n",
       "    <tr style=\"text-align: right;\">\n",
       "      <th></th>\n",
       "      <th>label</th>\n",
       "      <th>cv</th>\n",
       "    </tr>\n",
       "  </thead>\n",
       "  <tbody>\n",
       "    <tr>\n",
       "      <th>0</th>\n",
       "      <td>GaussianNB</td>\n",
       "      <td>0.934349</td>\n",
       "    </tr>\n",
       "    <tr>\n",
       "      <th>1</th>\n",
       "      <td>SVC</td>\n",
       "      <td>0.960655</td>\n",
       "    </tr>\n",
       "    <tr>\n",
       "      <th>2</th>\n",
       "      <td>DecisionTreeClassifier</td>\n",
       "      <td>0.950722</td>\n",
       "    </tr>\n",
       "    <tr>\n",
       "      <th>3</th>\n",
       "      <td>RandomForestClassifier</td>\n",
       "      <td>0.947421</td>\n",
       "    </tr>\n",
       "  </tbody>\n",
       "</table>\n",
       "</div>"
      ],
      "text/plain": [
       "                    label        cv\n",
       "0              GaussianNB  0.934349\n",
       "1                     SVC  0.960655\n",
       "2  DecisionTreeClassifier  0.950722\n",
       "3  RandomForestClassifier  0.947421"
      ]
     },
     "execution_count": 22,
     "metadata": {},
     "output_type": "execute_result"
    }
   ],
   "source": [
    "pd.concat(cv_list, axis=1).T[['label','cv']]"
   ]
  },
  {
   "cell_type": "markdown",
   "metadata": {
    "ExecuteTime": {
     "end_time": "2016-07-31T14:23:41.171927",
     "start_time": "2016-07-31T14:23:41.160503"
    }
   },
   "source": [
    "## Question 10\n",
    "\n",
    "Instead of 'democrat' or 'republican', can you predict the vote of a representative based on their other votes?"
   ]
  },
  {
   "cell_type": "code",
   "execution_count": 23,
   "metadata": {
    "ExecuteTime": {
     "end_time": "2016-08-01T22:03:58.283152",
     "start_time": "2016-08-01T22:03:58.253646"
    },
    "collapsed": true
   },
   "outputs": [],
   "source": [
    "vote_cols = ['v{}'.format(x) for x in range(1,17)]\n",
    "all_cols = ['party'] + vote_cols\n",
    "\n",
    "votes2 = pd.read_csv('voting_record.csv', \n",
    "                    header=None, \n",
    "                    names=all_cols)\n",
    "\n",
    "votes2 = votes2.replace('y', 1).replace('n', 0).replace('?', np.NaN)"
   ]
  },
  {
   "cell_type": "code",
   "execution_count": 24,
   "metadata": {
    "ExecuteTime": {
     "end_time": "2016-08-01T22:03:58.321033",
     "start_time": "2016-08-01T22:03:58.285919"
    },
    "collapsed": false
   },
   "outputs": [],
   "source": [
    "# Before prediction, fill NaNs with the mode of each column\n",
    "votes2 = votes2.fillna(votes2.mode().iloc[0])\n",
    "votes2[vote_cols] = votes2[vote_cols].astype(int)"
   ]
  },
  {
   "cell_type": "code",
   "execution_count": 25,
   "metadata": {
    "ExecuteTime": {
     "end_time": "2016-08-01T22:03:58.777017",
     "start_time": "2016-08-01T22:03:58.324114"
    },
    "collapsed": false
   },
   "outputs": [],
   "source": [
    "df_list = list()\n",
    "log = LogisticRegression()\n",
    "\n",
    "for col in vote_cols:\n",
    "    label_col = col\n",
    "    data_cols = [x for x in vote_cols if x!=label_col]\n",
    "    \n",
    "    df_list.append((label_col, cross_val_score(log, \n",
    "                                   votes2[data_cols], \n",
    "                                   votes2[label_col], cv=4).mean())\n",
    "                  )"
   ]
  },
  {
   "cell_type": "code",
   "execution_count": 26,
   "metadata": {
    "ExecuteTime": {
     "end_time": "2016-08-01T22:03:58.807564",
     "start_time": "2016-08-01T22:03:58.780471"
    },
    "collapsed": false
   },
   "outputs": [
    {
     "data": {
      "text/html": [
       "<div>\n",
       "<table border=\"1\" class=\"dataframe\">\n",
       "  <thead>\n",
       "    <tr style=\"text-align: right;\">\n",
       "      <th></th>\n",
       "      <th>label</th>\n",
       "      <th>CV_accuracy</th>\n",
       "    </tr>\n",
       "  </thead>\n",
       "  <tbody>\n",
       "    <tr>\n",
       "      <th>0</th>\n",
       "      <td>v1</td>\n",
       "      <td>0.685015</td>\n",
       "    </tr>\n",
       "    <tr>\n",
       "      <th>1</th>\n",
       "      <td>v2</td>\n",
       "      <td>0.639186</td>\n",
       "    </tr>\n",
       "    <tr>\n",
       "      <th>2</th>\n",
       "      <td>v3</td>\n",
       "      <td>0.866611</td>\n",
       "    </tr>\n",
       "    <tr>\n",
       "      <th>3</th>\n",
       "      <td>v4</td>\n",
       "      <td>0.901160</td>\n",
       "    </tr>\n",
       "    <tr>\n",
       "      <th>4</th>\n",
       "      <td>v5</td>\n",
       "      <td>0.926329</td>\n",
       "    </tr>\n",
       "    <tr>\n",
       "      <th>5</th>\n",
       "      <td>v6</td>\n",
       "      <td>0.832165</td>\n",
       "    </tr>\n",
       "    <tr>\n",
       "      <th>6</th>\n",
       "      <td>v7</td>\n",
       "      <td>0.871110</td>\n",
       "    </tr>\n",
       "    <tr>\n",
       "      <th>7</th>\n",
       "      <td>v8</td>\n",
       "      <td>0.891774</td>\n",
       "    </tr>\n",
       "    <tr>\n",
       "      <th>8</th>\n",
       "      <td>v9</td>\n",
       "      <td>0.875633</td>\n",
       "    </tr>\n",
       "    <tr>\n",
       "      <th>9</th>\n",
       "      <td>v10</td>\n",
       "      <td>0.482671</td>\n",
       "    </tr>\n",
       "    <tr>\n",
       "      <th>10</th>\n",
       "      <td>v11</td>\n",
       "      <td>0.675912</td>\n",
       "    </tr>\n",
       "    <tr>\n",
       "      <th>11</th>\n",
       "      <td>v12</td>\n",
       "      <td>0.841297</td>\n",
       "    </tr>\n",
       "    <tr>\n",
       "      <th>12</th>\n",
       "      <td>v13</td>\n",
       "      <td>0.815955</td>\n",
       "    </tr>\n",
       "    <tr>\n",
       "      <th>13</th>\n",
       "      <td>v14</td>\n",
       "      <td>0.859535</td>\n",
       "    </tr>\n",
       "    <tr>\n",
       "      <th>14</th>\n",
       "      <td>v15</td>\n",
       "      <td>0.772120</td>\n",
       "    </tr>\n",
       "    <tr>\n",
       "      <th>15</th>\n",
       "      <td>v16</td>\n",
       "      <td>0.829865</td>\n",
       "    </tr>\n",
       "  </tbody>\n",
       "</table>\n",
       "</div>"
      ],
      "text/plain": [
       "   label  CV_accuracy\n",
       "0     v1     0.685015\n",
       "1     v2     0.639186\n",
       "2     v3     0.866611\n",
       "3     v4     0.901160\n",
       "4     v5     0.926329\n",
       "5     v6     0.832165\n",
       "6     v7     0.871110\n",
       "7     v8     0.891774\n",
       "8     v9     0.875633\n",
       "9    v10     0.482671\n",
       "10   v11     0.675912\n",
       "11   v12     0.841297\n",
       "12   v13     0.815955\n",
       "13   v14     0.859535\n",
       "14   v15     0.772120\n",
       "15   v16     0.829865"
      ]
     },
     "execution_count": 26,
     "metadata": {},
     "output_type": "execute_result"
    }
   ],
   "source": [
    "pd.DataFrame(df_list, columns=['label','CV_accuracy'])"
   ]
  },
  {
   "cell_type": "markdown",
   "metadata": {
    "ExecuteTime": {
     "end_time": "2016-07-31T16:04:40.770132",
     "start_time": "2016-07-31T16:04:40.760904"
    }
   },
   "source": [
    "## Question 11\n",
    "\n",
    "Back to movie data! Choose one categoric feature to predict. I chose MPAA Rating, but genre, month, etc. are all decent choices. If you don't have any non-numeric features, you can make two bins out of a numeric one (like \"Runtime>100 mins\" and \"Runtime<=100 mins\")"
   ]
  },
  {
   "cell_type": "code",
   "execution_count": 27,
   "metadata": {
    "ExecuteTime": {
     "end_time": "2016-08-01T22:03:58.821013",
     "start_time": "2016-08-01T22:03:58.810598"
    },
    "collapsed": false
   },
   "outputs": [],
   "source": [
    "movies = pd.read_csv('../../../challenges_data/2013_movies.csv').dropna()"
   ]
  },
  {
   "cell_type": "code",
   "execution_count": 28,
   "metadata": {
    "ExecuteTime": {
     "end_time": "2016-08-01T22:03:59.038681",
     "start_time": "2016-08-01T22:03:58.823695"
    },
    "collapsed": false
   },
   "outputs": [],
   "source": [
    "knn_list = list()\n",
    "\n",
    "feat_cols = ['Budget', 'DomesticTotalGross', 'Runtime']\n",
    "movies[feat_cols] = Normalizer().fit_transform(movies[feat_cols])\n",
    "mtrain, mtest = train_test_split(movies, test_size=0.3, random_state=4444)\n",
    "\n",
    "for k in range(1,21):\n",
    "    knn = KNeighborsClassifier(n_neighbors=k)\n",
    "    knn.fit(mtrain[feat_cols], mtrain['Rating'])\n",
    "    \n",
    "    Ytest = mtest['Rating']\n",
    "    Ypred = knn.predict(mtest[feat_cols])\n",
    "\n",
    "    accuracy_knn = accuracy_score(Ytest, Ypred)\n",
    "    \n",
    "    simple_predict = [mtest.Rating.value_counts().argmax()]*Ytest.shape[0]\n",
    "    accuracy_simple = accuracy_score(Ytest, simple_predict)\n",
    "\n",
    "    df = pd.Series({'data':label, 'k':k,\n",
    "                    'accuracy_knn':accuracy_knn,\n",
    "                    'accuracy_simple':accuracy_simple,\n",
    "                    'model':knn})\n",
    "    \n",
    "    knn_list.append(df)"
   ]
  },
  {
   "cell_type": "code",
   "execution_count": 29,
   "metadata": {
    "ExecuteTime": {
     "end_time": "2016-08-01T22:03:59.092921",
     "start_time": "2016-08-01T22:03:59.042154"
    },
    "collapsed": false
   },
   "outputs": [
    {
     "data": {
      "text/html": [
       "<div>\n",
       "<table border=\"1\" class=\"dataframe\">\n",
       "  <thead>\n",
       "    <tr style=\"text-align: right;\">\n",
       "      <th></th>\n",
       "      <th>data</th>\n",
       "      <th>k</th>\n",
       "      <th>accuracy_knn</th>\n",
       "      <th>accuracy_simple</th>\n",
       "    </tr>\n",
       "  </thead>\n",
       "  <tbody>\n",
       "    <tr>\n",
       "      <th>0</th>\n",
       "      <td>RandomForestClassifier</td>\n",
       "      <td>1</td>\n",
       "      <td>0.37037</td>\n",
       "      <td>0.407407</td>\n",
       "    </tr>\n",
       "    <tr>\n",
       "      <th>1</th>\n",
       "      <td>RandomForestClassifier</td>\n",
       "      <td>2</td>\n",
       "      <td>0.333333</td>\n",
       "      <td>0.407407</td>\n",
       "    </tr>\n",
       "    <tr>\n",
       "      <th>2</th>\n",
       "      <td>RandomForestClassifier</td>\n",
       "      <td>3</td>\n",
       "      <td>0.407407</td>\n",
       "      <td>0.407407</td>\n",
       "    </tr>\n",
       "    <tr>\n",
       "      <th>3</th>\n",
       "      <td>RandomForestClassifier</td>\n",
       "      <td>4</td>\n",
       "      <td>0.37037</td>\n",
       "      <td>0.407407</td>\n",
       "    </tr>\n",
       "    <tr>\n",
       "      <th>4</th>\n",
       "      <td>RandomForestClassifier</td>\n",
       "      <td>5</td>\n",
       "      <td>0.444444</td>\n",
       "      <td>0.407407</td>\n",
       "    </tr>\n",
       "    <tr>\n",
       "      <th>5</th>\n",
       "      <td>RandomForestClassifier</td>\n",
       "      <td>6</td>\n",
       "      <td>0.444444</td>\n",
       "      <td>0.407407</td>\n",
       "    </tr>\n",
       "    <tr>\n",
       "      <th>6</th>\n",
       "      <td>RandomForestClassifier</td>\n",
       "      <td>7</td>\n",
       "      <td>0.444444</td>\n",
       "      <td>0.407407</td>\n",
       "    </tr>\n",
       "    <tr>\n",
       "      <th>7</th>\n",
       "      <td>RandomForestClassifier</td>\n",
       "      <td>8</td>\n",
       "      <td>0.444444</td>\n",
       "      <td>0.407407</td>\n",
       "    </tr>\n",
       "    <tr>\n",
       "      <th>8</th>\n",
       "      <td>RandomForestClassifier</td>\n",
       "      <td>9</td>\n",
       "      <td>0.444444</td>\n",
       "      <td>0.407407</td>\n",
       "    </tr>\n",
       "    <tr>\n",
       "      <th>9</th>\n",
       "      <td>RandomForestClassifier</td>\n",
       "      <td>10</td>\n",
       "      <td>0.444444</td>\n",
       "      <td>0.407407</td>\n",
       "    </tr>\n",
       "    <tr>\n",
       "      <th>10</th>\n",
       "      <td>RandomForestClassifier</td>\n",
       "      <td>11</td>\n",
       "      <td>0.444444</td>\n",
       "      <td>0.407407</td>\n",
       "    </tr>\n",
       "    <tr>\n",
       "      <th>11</th>\n",
       "      <td>RandomForestClassifier</td>\n",
       "      <td>12</td>\n",
       "      <td>0.444444</td>\n",
       "      <td>0.407407</td>\n",
       "    </tr>\n",
       "    <tr>\n",
       "      <th>12</th>\n",
       "      <td>RandomForestClassifier</td>\n",
       "      <td>13</td>\n",
       "      <td>0.444444</td>\n",
       "      <td>0.407407</td>\n",
       "    </tr>\n",
       "    <tr>\n",
       "      <th>13</th>\n",
       "      <td>RandomForestClassifier</td>\n",
       "      <td>14</td>\n",
       "      <td>0.444444</td>\n",
       "      <td>0.407407</td>\n",
       "    </tr>\n",
       "    <tr>\n",
       "      <th>14</th>\n",
       "      <td>RandomForestClassifier</td>\n",
       "      <td>15</td>\n",
       "      <td>0.444444</td>\n",
       "      <td>0.407407</td>\n",
       "    </tr>\n",
       "    <tr>\n",
       "      <th>15</th>\n",
       "      <td>RandomForestClassifier</td>\n",
       "      <td>16</td>\n",
       "      <td>0.444444</td>\n",
       "      <td>0.407407</td>\n",
       "    </tr>\n",
       "    <tr>\n",
       "      <th>16</th>\n",
       "      <td>RandomForestClassifier</td>\n",
       "      <td>17</td>\n",
       "      <td>0.444444</td>\n",
       "      <td>0.407407</td>\n",
       "    </tr>\n",
       "    <tr>\n",
       "      <th>17</th>\n",
       "      <td>RandomForestClassifier</td>\n",
       "      <td>18</td>\n",
       "      <td>0.407407</td>\n",
       "      <td>0.407407</td>\n",
       "    </tr>\n",
       "    <tr>\n",
       "      <th>18</th>\n",
       "      <td>RandomForestClassifier</td>\n",
       "      <td>19</td>\n",
       "      <td>0.407407</td>\n",
       "      <td>0.407407</td>\n",
       "    </tr>\n",
       "    <tr>\n",
       "      <th>19</th>\n",
       "      <td>RandomForestClassifier</td>\n",
       "      <td>20</td>\n",
       "      <td>0.407407</td>\n",
       "      <td>0.407407</td>\n",
       "    </tr>\n",
       "  </tbody>\n",
       "</table>\n",
       "</div>"
      ],
      "text/plain": [
       "                      data   k accuracy_knn accuracy_simple\n",
       "0   RandomForestClassifier   1      0.37037        0.407407\n",
       "1   RandomForestClassifier   2     0.333333        0.407407\n",
       "2   RandomForestClassifier   3     0.407407        0.407407\n",
       "3   RandomForestClassifier   4      0.37037        0.407407\n",
       "4   RandomForestClassifier   5     0.444444        0.407407\n",
       "5   RandomForestClassifier   6     0.444444        0.407407\n",
       "6   RandomForestClassifier   7     0.444444        0.407407\n",
       "7   RandomForestClassifier   8     0.444444        0.407407\n",
       "8   RandomForestClassifier   9     0.444444        0.407407\n",
       "9   RandomForestClassifier  10     0.444444        0.407407\n",
       "10  RandomForestClassifier  11     0.444444        0.407407\n",
       "11  RandomForestClassifier  12     0.444444        0.407407\n",
       "12  RandomForestClassifier  13     0.444444        0.407407\n",
       "13  RandomForestClassifier  14     0.444444        0.407407\n",
       "14  RandomForestClassifier  15     0.444444        0.407407\n",
       "15  RandomForestClassifier  16     0.444444        0.407407\n",
       "16  RandomForestClassifier  17     0.444444        0.407407\n",
       "17  RandomForestClassifier  18     0.407407        0.407407\n",
       "18  RandomForestClassifier  19     0.407407        0.407407\n",
       "19  RandomForestClassifier  20     0.407407        0.407407"
      ]
     },
     "execution_count": 29,
     "metadata": {},
     "output_type": "execute_result"
    }
   ],
   "source": [
    "knn_df = pd.concat(knn_list, axis=1).T\n",
    "knn_df[['data','k','accuracy_knn','accuracy_simple']]"
   ]
  },
  {
   "cell_type": "code",
   "execution_count": 30,
   "metadata": {
    "ExecuteTime": {
     "end_time": "2016-08-01T22:03:59.104859",
     "start_time": "2016-08-01T22:03:59.096620"
    },
    "collapsed": false
   },
   "outputs": [],
   "source": [
    "knn_best_model = knn_df.loc[knn_df.accuracy_knn.argmax(),'model']\n",
    "\n",
    "with open('knn_movie.mdl','w') as fh:\n",
    "    pickle.dump(knn_best_model, fh)"
   ]
  },
  {
   "cell_type": "code",
   "execution_count": 31,
   "metadata": {
    "ExecuteTime": {
     "end_time": "2016-08-01T22:03:59.124503",
     "start_time": "2016-08-01T22:03:59.107836"
    },
    "collapsed": true
   },
   "outputs": [],
   "source": [
    "log_list = list()\n",
    "\n",
    "LR = LogisticRegression()\n",
    "LR.fit(mtrain[feat_cols], mtrain['Rating'])\n",
    "\n",
    "Ytest = mtest['Rating']\n",
    "Ypred = LR.predict(mtest[feat_cols])\n",
    "\n",
    "accuracy = accuracy_score(Ytest, Ypred)\n",
    "\n",
    "df = pd.Series({'data':label,\n",
    "                'accuracy':accuracy,\n",
    "                'model':LR})\n",
    "\n",
    "log_list.append(df)"
   ]
  },
  {
   "cell_type": "code",
   "execution_count": 32,
   "metadata": {
    "ExecuteTime": {
     "end_time": "2016-08-01T22:03:59.133989",
     "start_time": "2016-08-01T22:03:59.127902"
    },
    "collapsed": true
   },
   "outputs": [],
   "source": [
    "with open('log_movie.mdl','w') as fh:\n",
    "    pickle.dump(LR, fh)"
   ]
  },
  {
   "cell_type": "code",
   "execution_count": 33,
   "metadata": {
    "ExecuteTime": {
     "end_time": "2016-08-01T22:03:59.147970",
     "start_time": "2016-08-01T22:03:59.137080"
    },
    "collapsed": false
   },
   "outputs": [
    {
     "data": {
      "text/plain": [
       "[accuracy                                             0.333333\n",
       " data                                   RandomForestClassifier\n",
       " model       LogisticRegression(C=1.0, class_weight=None, d...\n",
       " dtype: object]"
      ]
     },
     "execution_count": 33,
     "metadata": {},
     "output_type": "execute_result"
    }
   ],
   "source": [
    "log_list"
   ]
  },
  {
   "cell_type": "code",
   "execution_count": 34,
   "metadata": {
    "ExecuteTime": {
     "end_time": "2016-08-01T22:03:59.159764",
     "start_time": "2016-08-01T22:03:59.152040"
    },
    "collapsed": false
   },
   "outputs": [
    {
     "data": {
      "text/plain": [
       "array([[ -2.92661261e-01,  -7.31121786e-01,  -2.22492520e-06],\n",
       "       [  9.24127469e-01,  -7.40087199e-01,  -6.16070237e-06],\n",
       "       [ -1.29643939e+00,   6.10423441e-01,   7.06882779e-06]])"
      ]
     },
     "execution_count": 34,
     "metadata": {},
     "output_type": "execute_result"
    }
   ],
   "source": [
    "LR.coef_"
   ]
  },
  {
   "cell_type": "markdown",
   "metadata": {},
   "source": [
    "## Question 12\n",
    "\n",
    "Now you are a classification master. The representative votes dataset only had 0s and 1s. Let's just swiftly tackle the breast cancer surgery data."
   ]
  },
  {
   "cell_type": "code",
   "execution_count": 35,
   "metadata": {
    "ExecuteTime": {
     "end_time": "2016-08-01T22:04:00.191971",
     "start_time": "2016-08-01T22:03:59.163433"
    },
    "collapsed": false
   },
   "outputs": [
    {
     "name": "stdout",
     "output_type": "stream",
     "text": [
      "  % Total    % Received % Xferd  Average Speed   Time    Time     Time  Current\n",
      "                                 Dload  Upload   Total   Spent    Left  Speed\n",
      "100  3103  100  3103    0     0   8073      0 --:--:-- --:--:-- --:--:--  8208\n",
      "  % Total    % Received % Xferd  Average Speed   Time    Time     Time  Current\n",
      "                                 Dload  Upload   Total   Spent    Left  Speed\n",
      "100  1368  100  1368    0     0   3582      0 --:--:-- --:--:-- --:--:--  3619\n"
     ]
    }
   ],
   "source": [
    "! curl https://archive.ics.uci.edu/ml/machine-learning-databases/haberman/haberman.data  -o 'haberman.data'\n",
    "! curl https://archive.ics.uci.edu/ml/machine-learning-databases/haberman/haberman.names  -o 'haberman.names'    "
   ]
  },
  {
   "cell_type": "code",
   "execution_count": 36,
   "metadata": {
    "ExecuteTime": {
     "end_time": "2016-08-01T22:04:00.205993",
     "start_time": "2016-08-01T22:04:00.196424"
    },
    "collapsed": false
   },
   "outputs": [],
   "source": [
    "hab = pd.read_csv('haberman.data',names=['age_op','year_op','num_nodes','survival'])"
   ]
  },
  {
   "cell_type": "markdown",
   "metadata": {},
   "source": [
    "Age and standard deviation of all patients"
   ]
  },
  {
   "cell_type": "code",
   "execution_count": 37,
   "metadata": {
    "ExecuteTime": {
     "end_time": "2016-08-01T22:04:00.217713",
     "start_time": "2016-08-01T22:04:00.208696"
    },
    "collapsed": false
   },
   "outputs": [
    {
     "data": {
      "text/plain": [
       "(52.457516339869279, 10.80345234930328)"
      ]
     },
     "execution_count": 37,
     "metadata": {},
     "output_type": "execute_result"
    }
   ],
   "source": [
    "hab.age_op.mean(),hab.age_op.std() "
   ]
  },
  {
   "cell_type": "markdown",
   "metadata": {},
   "source": [
    "Age and standard deviation of patients who survived more than 5 years."
   ]
  },
  {
   "cell_type": "code",
   "execution_count": 38,
   "metadata": {
    "ExecuteTime": {
     "end_time": "2016-08-01T22:04:00.229662",
     "start_time": "2016-08-01T22:04:00.220467"
    },
    "collapsed": false
   },
   "outputs": [
    {
     "data": {
      "text/plain": [
       "(52.017777777777781, 11.012154179929542)"
      ]
     },
     "execution_count": 38,
     "metadata": {},
     "output_type": "execute_result"
    }
   ],
   "source": [
    "surv = hab.loc[hab.survival==1,'age_op']\n",
    "surv.mean(), surv.std()"
   ]
  },
  {
   "cell_type": "markdown",
   "metadata": {},
   "source": [
    "Age and standard deviation of patients who survived less than 5 years."
   ]
  },
  {
   "cell_type": "code",
   "execution_count": 39,
   "metadata": {
    "ExecuteTime": {
     "end_time": "2016-08-01T22:04:00.241559",
     "start_time": "2016-08-01T22:04:00.233039"
    },
    "collapsed": false
   },
   "outputs": [
    {
     "data": {
      "text/plain": [
       "(53.679012345679013, 10.167137208297412)"
      ]
     },
     "execution_count": 39,
     "metadata": {},
     "output_type": "execute_result"
    }
   ],
   "source": [
    "no_surv = hab.loc[hab.survival==2,'age_op']\n",
    "no_surv.mean(), no_surv.std()"
   ]
  },
  {
   "cell_type": "code",
   "execution_count": 40,
   "metadata": {
    "ExecuteTime": {
     "end_time": "2016-08-01T22:04:00.980219",
     "start_time": "2016-08-01T22:04:00.244728"
    },
    "collapsed": false
   },
   "outputs": [
    {
     "data": {
      "image/png": "[encoded data removed]",
      "text/plain": [
       "<matplotlib.figure.Figure at 0x11b319d10>"
      ]
     },
     "metadata": {},
     "output_type": "display_data"
    }
   ],
   "source": [
    "fig, axList = plt.subplots(ncols=2)\n",
    "fig.set_size_inches(12,5)\n",
    "\n",
    "ax = axList[0]\n",
    "hab.age_op.hist(ax=ax)\n",
    "ax.grid('off')\n",
    "ax.set(xlabel='Age of Operation', ylabel='Frequency', title='Histogram of Operation Age')\n",
    "\n",
    "ax = axList[1]\n",
    "hab.num_nodes.hist(ax=ax)\n",
    "ax.grid('off')\n",
    "ax.set(xlabel='Number of Nodes', ylabel='Frequency', title='Histogram of Number of Nodes')\n",
    "\n",
    "plt.tight_layout()"
   ]
  },
  {
   "cell_type": "markdown",
   "metadata": {},
   "source": [
    "Earliest and most recent year of surgery."
   ]
  },
  {
   "cell_type": "code",
   "execution_count": 41,
   "metadata": {
    "ExecuteTime": {
     "end_time": "2016-08-01T22:04:00.990784",
     "start_time": "2016-08-01T22:04:00.983282"
    },
    "collapsed": false
   },
   "outputs": [
    {
     "data": {
      "text/plain": [
       "(58, 69)"
      ]
     },
     "execution_count": 41,
     "metadata": {},
     "output_type": "execute_result"
    }
   ],
   "source": [
    "hab.year_op.min(), hab.year_op.max()"
   ]
  },
  {
   "cell_type": "code",
   "execution_count": 48,
   "metadata": {
    "ExecuteTime": {
     "end_time": "2016-08-01T22:05:33.052749",
     "start_time": "2016-08-01T22:05:33.035813"
    },
    "collapsed": false
   },
   "outputs": [],
   "source": [
    "train, test = train_test_split(hab, test_size=0.3, random_state=4444)\n",
    "\n",
    "LR = LogisticRegression()\n",
    "LR.fit(train[['age_op','year_op','num_nodes']], train['survival'])\n",
    "\n",
    "Ytest = test['survival']\n",
    "Ypred = LR.predict(test[['age_op','year_op','num_nodes']])\n",
    "\n",
    "train.to_pickle('haberman_train.pkl')\n",
    "test.to_pickle('haberman_test.pkl')\n",
    "with open('LR_haberman.pkl', 'w') as fh:\n",
    "    pickle.dump(LR, fh)"
   ]
  },
  {
   "cell_type": "code",
   "execution_count": 49,
   "metadata": {
    "ExecuteTime": {
     "end_time": "2016-08-01T22:05:34.403533",
     "start_time": "2016-08-01T22:05:34.395993"
    },
    "collapsed": false
   },
   "outputs": [
    {
     "name": "stdout",
     "output_type": "stream",
     "text": [
      "0.815217391304 0.89696969697\n"
     ]
    }
   ],
   "source": [
    "accuracy = accuracy_score(Ytest, Ypred)\n",
    "f1 = f1_score(Ytest, Ypred)\n",
    "print accuracy, f1"
   ]
  },
  {
   "cell_type": "markdown",
   "metadata": {},
   "source": [
    "Age of operation and number of nodes are positively correlated with survival, which isn't that surprising. Year of operation is inversely correlated with survival--interesting."
   ]
  },
  {
   "cell_type": "code",
   "execution_count": 43,
   "metadata": {
    "ExecuteTime": {
     "end_time": "2016-08-01T22:04:01.030690",
     "start_time": "2016-08-01T22:04:01.022568"
    },
    "collapsed": false
   },
   "outputs": [
    {
     "data": {
      "text/plain": [
       "array([[ 0.0155515 , -0.02899279,  0.07136197]])"
      ]
     },
     "execution_count": 43,
     "metadata": {},
     "output_type": "execute_result"
    }
   ],
   "source": [
    "LR.coef_"
   ]
  },
  {
   "cell_type": "code",
   "execution_count": 44,
   "metadata": {
    "ExecuteTime": {
     "end_time": "2016-08-01T22:04:01.449996",
     "start_time": "2016-08-01T22:04:01.034544"
    },
    "collapsed": true
   },
   "outputs": [],
   "source": [
    "train_sizes, train_scores, test_scores = learning_curve(LR, \n",
    "                                                        test[['age_op','year_op','num_nodes']], \n",
    "                                                        test['survival'],\n",
    "                                                        np.linspace(0.1, 1.0, 19))\n"
   ]
  },
  {
   "cell_type": "code",
   "execution_count": 45,
   "metadata": {
    "ExecuteTime": {
     "end_time": "2016-08-01T22:04:01.866991",
     "start_time": "2016-08-01T22:04:01.454070"
    },
    "collapsed": false
   },
   "outputs": [
    {
     "data": {
      "image/png": "[encoded data removed]",
      "text/plain": [
       "<matplotlib.figure.Figure at 0x11b2e4650>"
      ]
     },
     "metadata": {},
     "output_type": "display_data"
    }
   ],
   "source": [
    "f = plt.figure()\n",
    "f.set_size_inches(7,5)\n",
    "ax = plt.axes()\n",
    "\n",
    "ax.plot(train_sizes, train_scores.mean(axis=1), label='Training')\n",
    "ax.plot(train_sizes, test_scores.mean(axis=1), label='Testing')\n",
    "ax.legend(loc=0)\n",
    "_ = ax.set(xlabel='Sample Size', \n",
    "       ylabel='Accuracy',\n",
    "       title='Learning Curve')"
   ]
  }
 ],
 "metadata": {
  "kernelspec": {
   "display_name": "Python 2",
   "language": "python",
   "name": "python2"
  },
  "language_info": {
   "codemirror_mode": {
    "name": "ipython",
    "version": 2
   },
   "file_extension": ".py",
   "mimetype": "text/x-python",
   "name": "python",
   "nbconvert_exporter": "python",
   "pygments_lexer": "ipython2",
   "version": "2.7.12"
  }
 },
 "nbformat": 4,
 "nbformat_minor": 0
}
