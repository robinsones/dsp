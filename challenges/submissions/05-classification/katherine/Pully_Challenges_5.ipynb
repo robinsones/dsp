{
 "cells": [
  {
   "cell_type": "markdown",
   "metadata": {},
   "source": [
    "# Challenge Set 5\n",
    "\n",
    "Topic: Classification  \n",
    "Settings: Where applicable, use test_size=.30, random_state=4444. This will permit comparison of results across users.  \n",
    "Data:  \n",
    "Challenges 1-10: congressional votes Congressional Voting Records Dataset  \n",
    "Challenge 11: movie data  \n",
    "Challenge 12: breast cancer surgery Haberman Survival Dataset  \n",
    "Data – Congressional Votes  \n",
    "Download the congressional votes data from here:Congressional Voting Records Dataset. These are votes of U.S. House of Representatives Congressmen on 16 key issues in 1984. Read the description of the fields and download the data: house-votes-84.data We will try to see if we can predict the house members' party based on their votes. We will also use some of the general machine learning tools we learned (a bit more efficiently this time).  "
   ]
  },
  {
   "cell_type": "markdown",
   "metadata": {},
   "source": [
    "## Table of Contents\n",
    "\n",
    "<a href='#q1'>Q1</a>  \n",
    "<a href='#q2'>Q2</a>  \n",
    "<a href='#q3'>Q3</a>  \n",
    "<a href='#q4'>Q4</a>  \n",
    "<a href='#q5'>Q5</a>  \n",
    "<a href='#q6'>Q6</a>  \n",
    "<a href='#q7'>Q7</a>  \n",
    "<a href='#q8'>Q8</a>  \n",
    "<a href='#q9'>Q9</a>  \n",
    "<a href='#q10'>Q10</a>  \n",
    "<a href='#q11'>Q11</a>  \n",
    "<a href='#q12'>Q12</a>  "
   ]
  },
  {
   "cell_type": "markdown",
   "metadata": {},
   "source": [
    "## Imports"
   ]
  },
  {
   "cell_type": "code",
   "execution_count": 328,
   "metadata": {
    "collapsed": true
   },
   "outputs": [],
   "source": [
    "import pandas as pd\n",
    "import random\n",
    "import math\n",
    "import matplotlib.pyplot as plt\n",
    "import numpy as np\n",
    "import seaborn as sb\n",
    "\n",
    "%matplotlib inline"
   ]
  },
  {
   "cell_type": "markdown",
   "metadata": {},
   "source": [
    "<a id='q1'></a>\n",
    "## Challenge 1\n",
    "\n",
    "Load the data into a pandas dataframe. Replace 'y's with 1s, 'n's with 0s.\n",
    "Now, almost every representative has a ?. This represents the absence of a vote (they were absent or some other similar reason). If we dropped all the rows that had a ?, we would throw out most of our data. Instead, we will replace ? with the best guess in the Bayesian sense: in the absence of any other information, we will say that the probability of the representative saying YES is the ratio of others that said YES over the whole votes.\n",
    "\n",
    "So, convert each ? to this probability (when yes=1 and no=0, this is the mean of the column)"
   ]
  },
  {
   "cell_type": "code",
   "execution_count": 329,
   "metadata": {
    "collapsed": false
   },
   "outputs": [
    {
     "name": "stdout",
     "output_type": "stream",
     "text": [
      "  % Total    % Received % Xferd  Average Speed   Time    Time     Time  Current\n",
      "                                 Dload  Upload   Total   Spent    Left  Speed\n",
      "100 18171  100 18171    0     0  26458      0 --:--:-- --:--:-- --:--:-- 26449\n"
     ]
    }
   ],
   "source": [
    "!curl -O https://archive.ics.uci.edu/ml/machine-learning-databases/voting-records/house-votes-84.data\n",
    "    \n",
    "df = pd.read_csv('house-votes-84.data', names = ['class', 'r1', 'r2', 'r3', 'r4', 'r5', 'r6', 'r7', 'r8', 'r9', 'r10', \n",
    "                                                 'r11', 'r12', 'r13', 'r14', 'r15', 'r16'])\n",
    "df = df.replace('y', int(1))\n",
    "df = df.replace('n', int(0))\n",
    "\n",
    "for i in df:\n",
    "    if i !='class':\n",
    "        p1 = int(math.floor(df[i][df[i] != '?'].mean()*100))\n",
    "        p0 = 100-p1\n",
    "        df[i] = df[i].replace('?', random.choice([1]*p1 + [0]*p0))\n",
    "\n",
    "df_x = df.drop('class', axis=1)"
   ]
  },
  {
   "cell_type": "markdown",
   "metadata": {},
   "source": [
    "<a id='q2'></a>\n",
    "## Challenge 2\n",
    "\n",
    "Split the data into a test and training set. Use this function: from sklearn.cross_validation import train_test_split"
   ]
  },
  {
   "cell_type": "code",
   "execution_count": 330,
   "metadata": {
    "collapsed": false
   },
   "outputs": [],
   "source": [
    "from sklearn.cross_validation import train_test_split\n",
    "\n",
    "X_train, X_test, y_train, y_test = train_test_split(df_x, df['class'], test_size=.3, random_state=4444)"
   ]
  },
  {
   "cell_type": "markdown",
   "metadata": {},
   "source": [
    "<a id='q3'></a>\n",
    "## Challenge 3  \n",
    "Using scikit.learn's KNN algorithm, train a model that predicts the party (republican/democrat):\n",
    "from sklearn.neighbors import KNeighborsClassifier Try it with a lot of different k values (number of neighbors), from 1 to 20, and on the test set calculate the accuracy (number of correct predictions / number of all predictions) for each k\n",
    "You can use this to calculate accuracy:\n",
    "from sklearn.metrics import accuracy_score Which k value gives the highest accuracy?"
   ]
  },
  {
   "cell_type": "code",
   "execution_count": 331,
   "metadata": {
    "collapsed": false
   },
   "outputs": [
    {
     "data": {
      "text/plain": [
       "[0.93129770992366412, 8]"
      ]
     },
     "execution_count": 331,
     "metadata": {},
     "output_type": "execute_result"
    }
   ],
   "source": [
    "from sklearn.neighbors import KNeighborsClassifier\n",
    "from sklearn.metrics import accuracy_score\n",
    "\n",
    "scores = []\n",
    "for i in range(1, 21):\n",
    "    knn = KNeighborsClassifier(n_neighbors = i, p=2, metric='minkowski')\n",
    "    knn.fit(X_train, y_train)\n",
    "    score = accuracy_score(y_test, knn.predict(X_test))\n",
    "    scores.append([score, i])\n",
    "    \n",
    "max(scores)"
   ]
  },
  {
   "cell_type": "markdown",
   "metadata": {},
   "source": [
    "<a id='q4'></a>\n",
    "## Challenge 4\n",
    "\n",
    "Make a similar model but with LogisticRegression instead, calculate test accuracy."
   ]
  },
  {
   "cell_type": "code",
   "execution_count": 332,
   "metadata": {
    "collapsed": false
   },
   "outputs": [],
   "source": [
    "from sklearn.linear_model import LogisticRegression\n",
    "\n",
    "lr = LogisticRegression()\n",
    "lr.fit(X_train, y_train)\n",
    "log_score = accuracy_score(y_test, lr.predict(X_test))"
   ]
  },
  {
   "cell_type": "markdown",
   "metadata": {},
   "source": [
    "<a id='q5'></a>\n",
    "## Challenge 5\n",
    "\n",
    "Make a bar graph of democrats and republicans. How many of each are there?\n",
    "Make a very simple predictor that predicts 'democrat' for every incoming example.\n",
    "Just make a function that takes in an X --an array or matrix with input examples--, and returns an array of the same length as X, where each value is 'democrat'. For example, if X is three rows, your function should return ['democrat','democrat','democrat']. Make a y_predicted vector using this and measure its accuracy.\n",
    "Do the same with predicting 'republican' all the time and measure its accuracy."
   ]
  },
  {
   "cell_type": "code",
   "execution_count": 336,
   "metadata": {
    "collapsed": false
   },
   "outputs": [
    {
     "data": {
      "image/png": "[encoded data removed]",
      "text/plain": [
       "<matplotlib.figure.Figure at 0x117a560d0>"
      ]
     },
     "metadata": {},
     "output_type": "display_data"
    }
   ],
   "source": [
    "fig, ax = plt.subplots(figsize=(8, 5))\n",
    "\n",
    "labels= ['Republicans', 'Democrats']\n",
    "barlist = plt.bar([1, 2], [len(df[df['class']=='republican']), \n",
    "                           len(df[df['class']=='democrat'])], align='center')\n",
    "barlist[0].set_color('r')\n",
    "plt.xticks([1, 2], labels)\n",
    "\n",
    "plt.suptitle('Republicans vs. Democrats')\n",
    "plt.show()"
   ]
  },
  {
   "cell_type": "code",
   "execution_count": 337,
   "metadata": {
    "collapsed": true
   },
   "outputs": [],
   "source": [
    "def predictor_d(x):\n",
    "    rtn = []\n",
    "    rtn = ['democrat']*len(x)\n",
    "    return rtn\n",
    "\n",
    "    \n",
    "def predictor_r(x):\n",
    "    rtn = []\n",
    "    rtn = ['republican']*len(x)\n",
    "    return rtn\n",
    "\n",
    "d_only = accuracy_score(y_test, predictor_d(X_test))\n",
    "r_only = accuracy_score(y_test, predictor_r(X_test))"
   ]
  },
  {
   "cell_type": "markdown",
   "metadata": {},
   "source": [
    "<a id='q7'></a>\n",
    "## Challenge 6\n",
    "\n",
    "Plot the accuracies as a function of k. Since k only matters for KNN, your logistic regression accuracy, 'democrat' predictor accuracy and 'republican' predictor accuracy will stay the same over all k, so each of these three will be a horizontal line. But the KNN accuracy will change with k."
   ]
  },
  {
   "cell_type": "code",
   "execution_count": 338,
   "metadata": {
    "collapsed": false
   },
   "outputs": [],
   "source": [
    "y = []\n",
    "for i in range(0,20):\n",
    "    y.append(scores[i][0])"
   ]
  },
  {
   "cell_type": "code",
   "execution_count": 339,
   "metadata": {
    "collapsed": false
   },
   "outputs": [
    {
     "data": {
      "image/png": "[encoded data removed]",
      "text/plain": [
       "<matplotlib.figure.Figure at 0x11c19fd50>"
      ]
     },
     "metadata": {},
     "output_type": "display_data"
    }
   ],
   "source": [
    "log = [log_score]*20\n",
    "d = [d_only]*20\n",
    "r = [r_only]*20\n",
    "\n",
    "fig, ax = plt.subplots(figsize=(8, 5))\n",
    "\n",
    "x = np.linspace(1, 21, 20)\n",
    "#range(1, 21)\n",
    "\n",
    "plt.plot(x, y, label='Knn')\n",
    "plt.plot(x, log, label='Logistic Regression')\n",
    "plt.plot(x, d, label='Democrat-only prediction')\n",
    "plt.plot(x, r, label='Republican-only prediction')\n",
    "\n",
    "ax.set_xbound(lower=1, upper=20)\n",
    "ax.set_ybound(lower=.3, upper=1.1)\n",
    "\n",
    "plt.suptitle('Accuracy Scores as a function of K')\n",
    "plt.legend(loc='best')\n",
    "plt.show()\n",
    "    "
   ]
  },
  {
   "cell_type": "markdown",
   "metadata": {},
   "source": [
    "<a id='q7'></a>\n",
    "## Challenge 7\n",
    "\n",
    "Plot a learning curve for the logistic regression model. But instead of going through the painstaking steps of doing it yourself, use this function:\n",
    "from sklearn.learning_curve import learning_curve  \n",
    "This will give you the m, training errors and testing errors. All you need to do is plot them. You don't even need to give it separate training/test sets. It will do crossvalidation all by itself. Easy, isn't it? : ) Remember, since it does cross-validation, it doesn't have a single training error or test error per m value. Instead, it has one for each fold (separate partition) of the cross validation. A good idea is to take the mean of these errors from different folds. This gives you a meaningful single number per m. What I mean is that doing something like:\n",
    "\n",
    "train_cv_err = np.mean(train_err, axis=1)  \n",
    "test_cv_err = np.mean(ts_err, axis=1)  \n",
    "Before plotting m vs train_cv_err and m vs test_cv_err, where train_err and test_err are the vectors returned by the learning curve function. The np.mean(...., axis=1) means take the mean along axis 1 (axis 1 is the columns axis-- for each row, you have a bunch of columns, each corresponding to a cross validation fold, you are averaging these columns for each row).\n",
    "\n",
    "Draw the learning curve for KNN with the best k value as well."
   ]
  },
  {
   "cell_type": "code",
   "execution_count": 340,
   "metadata": {
    "collapsed": false
   },
   "outputs": [],
   "source": [
    "from sklearn.learning_curve import learning_curve\n",
    "\n",
    "estimator = lr\n",
    "train_sizes_abs, train_scores, test_scores = learning_curve(estimator, df_x, df['class'], train_sizes=np.linspace(0.1, 1.0, 10),\n",
    "                   cv=None, scoring=None, exploit_incremental_learning=False, n_jobs=1, pre_dispatch=\"all\", verbose=0)\n",
    "\n",
    "train_cv_err_lr = np.mean(train_scores, axis=1)\n",
    "test_cv_err_lr = np.mean(test_scores, axis=1)"
   ]
  },
  {
   "cell_type": "code",
   "execution_count": 341,
   "metadata": {
    "collapsed": true
   },
   "outputs": [],
   "source": [
    "estimator = KNeighborsClassifier(n_neighbors = 13, p=2, metric='minkowski')\n",
    "train_sizes_abs, train_scores, test_scores = learning_curve(estimator, df_x, df['class'], train_sizes=np.linspace(0.1, 1.0, 10),\n",
    "                   cv=None, scoring=None, exploit_incremental_learning=False, n_jobs=1, pre_dispatch=\"all\", verbose=0)\n",
    "\n",
    "train_cv_err_knn = np.mean(train_scores, axis=1)\n",
    "test_cv_err_knn = np.mean(test_scores, axis=1)"
   ]
  },
  {
   "cell_type": "code",
   "execution_count": 347,
   "metadata": {
    "collapsed": false
   },
   "outputs": [
    {
     "data": {
      "image/png": "[encoded data removed]",
      "text/plain": [
       "<matplotlib.figure.Figure at 0x11c49b610>"
      ]
     },
     "metadata": {},
     "output_type": "display_data"
    }
   ],
   "source": [
    "fig, ax = plt.subplots(figsize=(13, 10))\n",
    "\n",
    "plt.subplot(211)\n",
    "plt.plot(train_sizes_abs, train_cv_err_lr, label=\"Training Score\")\n",
    "plt.plot(train_sizes_abs, test_cv_err_lr, label=\"Test Score\")\n",
    "plt.title(\"Logistic Regression\")\n",
    "plt.ylabel(\"Score\")\n",
    "plt.xlabel(\"m\")\n",
    "plt.legend(loc='best')\n",
    "\n",
    "plt.subplot(212)\n",
    "plt.plot(train_sizes_abs, train_cv_err_knn, label=\"Training Score\")\n",
    "plt.plot(train_sizes_abs, test_cv_err_knn, label=\"Test Score\")\n",
    "plt.title(\"Knn\")\n",
    "plt.ylabel(\"Score\")\n",
    "plt.xlabel(\"m\")\n",
    "plt.legend(loc='best')\n",
    "\n",
    "plt.show()"
   ]
  },
  {
   "cell_type": "markdown",
   "metadata": {},
   "source": [
    "<a id='q8'></a>\n",
    "## Challenge 8\n",
    "\n",
    "This is a preview of many other classification algorithms that we will go over. Scikit.learn has the same interface for all of these, so you can use them exactly the same way as you did LogisticRegression and KNeighborsClassifier. Use each of these to classify your data and print the test accuracy of each:\n",
    "\n",
    "Gaussian Naive Bayes: from sklearn.naive_bayes import GaussianNB  \n",
    "SVM (Support Vector Machine) Classifier: from sklearn.svm import SVC  \n",
    "Decision Tree: from sklearn.tree import DecisionTreeClassifier  \n",
    "Random Forest: from sklearn.ensemble import RandomForestClassifier\n",
    "\n"
   ]
  },
  {
   "cell_type": "code",
   "execution_count": 353,
   "metadata": {
    "collapsed": false
   },
   "outputs": [
    {
     "name": "stdout",
     "output_type": "stream",
     "text": [
      "Naive Bayes: 0.931298\n",
      "SVM: 0.954198\n",
      "Decision Tree: 0.938931\n",
      "Random Forest: 0.946565\n"
     ]
    }
   ],
   "source": [
    "from sklearn.naive_bayes import GaussianNB\n",
    "from sklearn.svm import SVC\n",
    "from sklearn.tree import DecisionTreeClassifier\n",
    "from sklearn.ensemble import RandomForestClassifier\n",
    "\n",
    "gauss = GaussianNB()\n",
    "gauss.fit(X_train, y_train)\n",
    "print \"Naive Bayes: %f\" %accuracy_score(y_test, gauss.predict(X_test))\n",
    "\n",
    "svc = SVC()\n",
    "svc.fit(X_train, y_train)\n",
    "print \"SVM: %f\" %accuracy_score(y_test, svc.predict(X_test))\n",
    "\n",
    "tree = DecisionTreeClassifier()\n",
    "tree.fit(X_train, y_train)\n",
    "print \"Decision Tree: %f\" %accuracy_score(y_test, tree.predict(X_test))\n",
    "\n",
    "forest = RandomForestClassifier()\n",
    "forest.fit(X_train, y_train)\n",
    "print \"Random Forest: %f\" %accuracy_score(y_test, forest.predict(X_test))"
   ]
  },
  {
   "cell_type": "markdown",
   "metadata": {},
   "source": [
    "<a id='q9'></a>\n",
    "## Challenge 9\n",
    "\n",
    "There is actually a way to do cross validation quickly to get your accuracy results for an algorithm, without separating training and test yourself:\n",
    "\n",
    "from sklearn.cross_validation import cross_val_score\n",
    "Just like the learning_curve function, this takes a classifier object, X and Y. Returns accuracy (or whatever score you prefer by using the scoring keyword argument). Of course, it will return a score for each cross validation fold, so to get the generalized accuracy, you need to take the mean of what it returns.\n",
    "\n",
    "Use this function to calculate the cross validation score of each of the classifiers you tried before."
   ]
  },
  {
   "cell_type": "code",
   "execution_count": 354,
   "metadata": {
    "collapsed": false
   },
   "outputs": [
    {
     "name": "stdout",
     "output_type": "stream",
     "text": [
      "0.928735632184\n",
      "0.95632183908\n",
      "0.954022988506\n",
      "0.96091954023\n"
     ]
    }
   ],
   "source": [
    "from sklearn.cross_validation import cross_val_score\n",
    "\n",
    "print np.mean(cross_val_score(gauss, df_x, df['class']))\n",
    "print np.mean(cross_val_score(svc, df_x, df['class']))\n",
    "print np.mean(cross_val_score(tree, df_x, df['class']))\n",
    "print np.mean(cross_val_score(forest, df_x, df['class']))"
   ]
  },
  {
   "cell_type": "markdown",
   "metadata": {},
   "source": [
    "<a id='q10'></a>\n",
    "## Challenge 10\n",
    "\n",
    "Instead of 'democrat' or 'republican', can you predict the vote of a representative based on their other votes?\n",
    "\n",
    "Reload the data from scratch. Convert y-->1, n-->0.\n",
    "\n",
    "Choose one vote. Build a classifier (logistic regression or KNN), that uses the other votes (do not use the party as a feature) to predict if the vote will be 1 or 0.\n",
    "\n",
    "Convert each ? to the mode of the column (if a senator has not voted, make their vote 1 if most others voted 1, make it 0 if most others voted 0).\n",
    "\n",
    "Calculate the cross validation accuracy of your classifier for predicting how each representative will vote on the issue."
   ]
  },
  {
   "cell_type": "code",
   "execution_count": 355,
   "metadata": {
    "collapsed": false
   },
   "outputs": [
    {
     "name": "stdout",
     "output_type": "stream",
     "text": [
      "  % Total    % Received % Xferd  Average Speed   Time    Time     Time  Current\n",
      "                                 Dload  Upload   Total   Spent    Left  Speed\n",
      "100 18171  100 18171    0     0  31831      0 --:--:-- --:--:-- --:--:-- 31823\n"
     ]
    }
   ],
   "source": [
    "!curl -O https://archive.ics.uci.edu/ml/machine-learning-databases/voting-records/house-votes-84.data\n",
    "    \n",
    "df = pd.read_csv('house-votes-84.data', names = ['class', 'r1', 'r2', 'r3', 'r4', 'r5', 'r6', 'r7', 'r8', 'r9', 'r10', \n",
    "                                                 'r11', 'r12', 'r13', 'r14', 'r15', 'r16'])\n",
    "df = df.drop('class', axis=1)\n",
    "\n",
    "df = df.replace('y', int(1))\n",
    "df = df.replace('n', int(0))\n",
    "\n",
    "for i in df:\n",
    "    df[i][df[i]=='?'] = int(df[i][df[i] != '?'].mode())\n",
    "    \n",
    "df = df.apply(pd.to_numeric)\n",
    "\n",
    "df_x = df.drop('r1', axis=1)\n",
    "df_y = df.r1"
   ]
  },
  {
   "cell_type": "code",
   "execution_count": 356,
   "metadata": {
    "collapsed": false
   },
   "outputs": [
    {
     "data": {
      "text/plain": [
       "0.67561451389982319"
      ]
     },
     "execution_count": 356,
     "metadata": {},
     "output_type": "execute_result"
    }
   ],
   "source": [
    "clf = LogisticRegression()\n",
    "np.mean(cross_val_score(clf, df_x, df_y))"
   ]
  },
  {
   "cell_type": "markdown",
   "metadata": {},
   "source": [
    "<a id='q11'></a>\n",
    "## Challenge 11\n",
    "\n",
    "Back to movie data! Choose one categoric feature to predict. I chose MPAA Rating, but genre, month, etc. are all decent choices. If you don't have any non-numeric features, you can make two bins out of a numeric one (like \"Runtime>100 mins\" and \"Runtime<=100 mins\")\n",
    "\n",
    "Make a bar graph of how many of each movie there is in the data. For example, with Ratings, show how many G, PG, PG-13, R movies there are, etc. (basically a histogram of your labels).\n",
    "\n",
    "Predict your outcome variable (labels) using KNN and logistic regression. Calculate their accuracies.\n",
    "\n",
    "Make a baseline stupid predictor that always predicts the label that is present the most in the data. Calculate its accuracy on a test set.\n",
    "\n",
    "How much better do KNN and logistic regression do versus the baseline?\n",
    "\n",
    "What are the coefficients of logistic regression? Which features affect the outcome how?\n"
   ]
  },
  {
   "cell_type": "code",
   "execution_count": 357,
   "metadata": {
    "collapsed": false
   },
   "outputs": [
    {
     "data": {
      "image/png": "[encoded data removed]",
      "text/plain": [
       "<matplotlib.figure.Figure at 0x11c16db50>"
      ]
     },
     "metadata": {},
     "output_type": "display_data"
    }
   ],
   "source": [
    "df = pd.read_csv('2013_movies.csv')\n",
    "df = df.dropna()\n",
    "\n",
    "df.groupby('Rating')['Title'].count().plot(kind='bar')\n",
    "plt.show()"
   ]
  },
  {
   "cell_type": "code",
   "execution_count": 361,
   "metadata": {
    "collapsed": false
   },
   "outputs": [
    {
     "name": "stdout",
     "output_type": "stream",
     "text": [
      "0.555555555556\n",
      "0.444444444444\n",
      "0.407407407407\n"
     ]
    }
   ],
   "source": [
    "X = df[['Budget', 'Runtime', 'DomesticTotalGross']]\n",
    "y = df['Rating']\n",
    "\n",
    "X_train, X_test, y_train, y_test = train_test_split(X, y, test_size=.3, random_state=4444)\n",
    "\n",
    "knn = KNeighborsClassifier()\n",
    "knn.fit(X_train, y_train)\n",
    "knn_score = accuracy_score(y_test, knn.predict(X_test))\n",
    "\n",
    "lr = LogisticRegression()\n",
    "lr.fit(X_train, y_train)\n",
    "lr_score = accuracy_score(y_test, lr.predict(X_test))\n",
    "\n",
    "def stupid_predictor(x):\n",
    "    return ['PG-13']*len(x)\n",
    "\n",
    "stpd_score = accuracy_score(y_test, stupid_predictor(X_test))\n",
    "\n",
    "print knn_score\n",
    "print lr_score\n",
    "print stpd_score"
   ]
  },
  {
   "cell_type": "code",
   "execution_count": 362,
   "metadata": {
    "collapsed": false
   },
   "outputs": [
    {
     "data": {
      "text/plain": [
       "array([[ -1.46124379e-08,  -1.75965536e-13,  -1.93897623e-09],\n",
       "       [  1.49848414e-08,  -9.13751595e-14,  -6.42667083e-09],\n",
       "       [ -2.30763200e-08,   1.16458130e-13,   5.12598612e-09]])"
      ]
     },
     "execution_count": 362,
     "metadata": {},
     "output_type": "execute_result"
    }
   ],
   "source": [
    "lr.coef_"
   ]
  },
  {
   "cell_type": "markdown",
   "metadata": {},
   "source": [
    "<a id='q12'></a>\n",
    "## Challenge 12\n",
    "\n",
    "Now you are a classification master. The representative votes dataset only had 0s and 1s. Let's just swiftly tackle the breast cancer surgery data.\n",
    "\n",
    "Get it from here: Haberman Survival Dataset\n",
    "\n",
    "What is the average and standard deviation of the age of all of the patients?  \n",
    "What is the average and standard deviation of the age of those patients that survived 5 or more years after surgery?  \n",
    "What is the average and standard deviation of the age of those patients who survived fewer than 5 years after surgery?  \n",
    "Plot a histogram of the ages side by side with a histogram of the number of axillary nodes.  \n",
    "What is the earliest year of surgery in this dataset?  \n",
    "What is the most recent year of surgery?  \n",
    "Use logistic regression to predict survival after 5 years. How well does your model do?\n",
    "What are the coefficients of logistic regression? Which features affect the outcome how?\n",
    "Draw the learning curve for logistic regression in this case."
   ]
  },
  {
   "cell_type": "code",
   "execution_count": 363,
   "metadata": {
    "collapsed": false
   },
   "outputs": [
    {
     "name": "stdout",
     "output_type": "stream",
     "text": [
      "52.4575163399\n",
      "10.8034523493\n",
      "52.0177777778\n",
      "11.0121541799\n",
      "53.6790123457\n",
      "10.1671372083\n",
      "1958\n",
      "1969\n"
     ]
    }
   ],
   "source": [
    "df = pd.read_csv('haberman.data', names=['age', 'yr_operation', 'ax_nodes', 'survival'])\n",
    "\n",
    "# All patients\n",
    "print df.age.mean()\n",
    "print df.age.std()\n",
    "\n",
    "#Patients who survived 5+ years after surgery\n",
    "print df[df.survival==1].age.mean()\n",
    "print df[df.survival==1].age.std()\n",
    "\n",
    "#Patients who died within 5 years of surgery\n",
    "print df[df.survival==2].age.mean()\n",
    "print df[df.survival==2].age.std()\n",
    "\n",
    "#Earliest year of surgery\n",
    "print '19%d'%df.yr_operation.min()\n",
    "\n",
    "#Most recent year of surgery\n",
    "print '19%d'%df.yr_operation.max()"
   ]
  },
  {
   "cell_type": "code",
   "execution_count": 380,
   "metadata": {
    "collapsed": false,
    "scrolled": true
   },
   "outputs": [
    {
     "data": {
      "image/png": "[encoded data removed]",
      "text/plain": [
       "<matplotlib.figure.Figure at 0x11c7fac10>"
      ]
     },
     "metadata": {},
     "output_type": "display_data"
    }
   ],
   "source": [
    "plt.figure(figsize=(20, 5))\n",
    "\n",
    "plt.subplot(121)\n",
    "df.age.hist()\n",
    "plt.title(\"Ages\")\n",
    "\n",
    "plt.subplot(122)\n",
    "df.ax_nodes.hist()\n",
    "plt.title(\"Axillary nodes\")\n",
    "\n",
    "plt.show()"
   ]
  },
  {
   "cell_type": "code",
   "execution_count": 369,
   "metadata": {
    "collapsed": false
   },
   "outputs": [],
   "source": [
    "lr = LogisticRegression()\n",
    "X = df.drop('survival', axis=1)\n",
    "y = df.survival\n",
    "\n",
    "train_sizes_abs, train_scores, test_scores = learning_curve(lr, X, y, train_sizes=np.linspace(0.1, 1.0, 10),\n",
    "                   cv=None, scoring=None)\n",
    "\n",
    "train_mean = np.mean(train_scores, axis=1)\n",
    "test_mean = np.mean(test_scores, axis=1)"
   ]
  },
  {
   "cell_type": "code",
   "execution_count": 370,
   "metadata": {
    "collapsed": false
   },
   "outputs": [
    {
     "data": {
      "image/png": "[encoded data removed]",
      "text/plain": [
       "<matplotlib.figure.Figure at 0x11aed3890>"
      ]
     },
     "metadata": {},
     "output_type": "display_data"
    }
   ],
   "source": [
    "plt.figure(figsize=(8, 8))\n",
    "plt.plot(train_sizes_abs, train_mean, label = 'Train Accuracy')\n",
    "plt.plot(train_sizes_abs, test_mean, label='Test Accuracy')\n",
    "plt.legend(loc='best')\n",
    "plt.title('Train & Test Accuracy')\n",
    "plt.ylabel('Accuracy')\n",
    "plt.xlabel('m')\n",
    "plt.show()"
   ]
  },
  {
   "cell_type": "code",
   "execution_count": 325,
   "metadata": {
    "collapsed": false
   },
   "outputs": [
    {
     "data": {
      "text/plain": [
       "array([[ 0.0155515 , -0.02899279,  0.07136197]])"
      ]
     },
     "execution_count": 325,
     "metadata": {},
     "output_type": "execute_result"
    }
   ],
   "source": [
    "X_train, X_test, y_train, y_test = train_test_split(X, y, test_size=.3, random_state=4444)\n",
    "lr.fit(X_train, y_train)\n",
    "lr.coef_"
   ]
  },
  {
   "cell_type": "code",
   "execution_count": null,
   "metadata": {
    "collapsed": true
   },
   "outputs": [],
   "source": []
  }
 ],
 "metadata": {
  "kernelspec": {
   "display_name": "Python 2",
   "language": "python",
   "name": "python2"
  },
  "language_info": {
   "codemirror_mode": {
    "name": "ipython",
    "version": 2
   },
   "file_extension": ".py",
   "mimetype": "text/x-python",
   "name": "python",
   "nbconvert_exporter": "python",
   "pygments_lexer": "ipython2",
   "version": "2.7.12"
  }
 },
 "nbformat": 4,
 "nbformat_minor": 0
}
