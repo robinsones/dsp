{
 "cells": [
  {
   "cell_type": "markdown",
   "metadata": {},
   "source": [
    "## Challenge 13\n",
    "Name: Adam Levin  \n",
    "Topic: Word Clustering"
   ]
  },
  {
   "cell_type": "code",
   "execution_count": 1,
   "metadata": {
    "collapsed": true
   },
   "outputs": [],
   "source": [
    "from pymongo import MongoClient"
   ]
  },
  {
   "cell_type": "code",
   "execution_count": 2,
   "metadata": {
    "collapsed": true
   },
   "outputs": [],
   "source": [
    "client = MongoClient()"
   ]
  },
  {
   "cell_type": "code",
   "execution_count": 3,
   "metadata": {
    "collapsed": false
   },
   "outputs": [],
   "source": [
    "db = client.dogparty"
   ]
  },
  {
   "cell_type": "code",
   "execution_count": 4,
   "metadata": {
    "collapsed": false
   },
   "outputs": [],
   "source": [
    "dog_party = db.dog_party"
   ]
  },
  {
   "cell_type": "code",
   "execution_count": 6,
   "metadata": {
    "collapsed": false
   },
   "outputs": [
    {
     "data": {
      "text/plain": [
       "{u'_id': ObjectId('57b0e47785db9e02fd66222a'),\n",
       " u'favorite_count': 2,\n",
       " u'retweet_count': 0,\n",
       " u'screen_name': u'twigs_ebooks',\n",
       " u'text': u\"I'm at a house party bitches. Im plsying beer pong the dog stole the ball lol.\"}"
      ]
     },
     "execution_count": 6,
     "metadata": {},
     "output_type": "execute_result"
    }
   ],
   "source": [
    "dog_party.find_one()"
   ]
  },
  {
   "cell_type": "markdown",
   "metadata": {},
   "source": [
    "**Challenge 1**"
   ]
  },
  {
   "cell_type": "markdown",
   "metadata": {},
   "source": [
    "When querying tweets with the API, I specified no retweets."
   ]
  },
  {
   "cell_type": "code",
   "execution_count": 7,
   "metadata": {
    "collapsed": true
   },
   "outputs": [],
   "source": [
    "from sklearn.feature_extraction.text import TfidfVectorizer\n",
    "from sklearn.cluster import KMeans\n",
    "import numpy as np"
   ]
  },
  {
   "cell_type": "code",
   "execution_count": 8,
   "metadata": {
    "collapsed": true
   },
   "outputs": [],
   "source": [
    "text = dog_party.find({},{'text':1,'_id':0})\n",
    "text = [t['text'] for t in text]"
   ]
  },
  {
   "cell_type": "code",
   "execution_count": 9,
   "metadata": {
    "collapsed": false
   },
   "outputs": [
    {
     "data": {
      "text/plain": [
       "[u\"I'm at a house party bitches. Im plsying beer pong the dog stole the ball lol.\",\n",
       " u'https://t.co/TsQfw2im2I #4862 12x Female Pet Dog Dress Christmas Party Wear Moustache Fancy Costume Apparel M https://t.co/v5vKBWz7rg']"
      ]
     },
     "execution_count": 9,
     "metadata": {},
     "output_type": "execute_result"
    }
   ],
   "source": [
    "text[0:2]"
   ]
  },
  {
   "cell_type": "code",
   "execution_count": 10,
   "metadata": {
    "collapsed": true
   },
   "outputs": [],
   "source": [
    "def cleanse_tweets(tweets):\n",
    "    return [' '.join([word for word in tweet.split() if 'http://' not in word and 'www.' not in word\n",
    "            and '@' not in word and 'https://' not in word and '.com' not in word and '.net' not in word])\n",
    "            for tweet in tweets]"
   ]
  },
  {
   "cell_type": "code",
   "execution_count": 11,
   "metadata": {
    "collapsed": false
   },
   "outputs": [],
   "source": [
    "text = cleanse_tweets(text)"
   ]
  },
  {
   "cell_type": "code",
   "execution_count": 12,
   "metadata": {
    "collapsed": false
   },
   "outputs": [
    {
     "data": {
      "text/plain": [
       "[u\"I'm at a house party bitches. Im plsying beer pong the dog stole the ball lol.\",\n",
       " u'#4862 12x Female Pet Dog Dress Christmas Party Wear Moustache Fancy Costume Apparel M']"
      ]
     },
     "execution_count": 12,
     "metadata": {},
     "output_type": "execute_result"
    }
   ],
   "source": [
    "text[0:2]"
   ]
  },
  {
   "cell_type": "code",
   "execution_count": 13,
   "metadata": {
    "collapsed": true
   },
   "outputs": [],
   "source": [
    "tfidf = TfidfVectorizer(lowercase=True, analyzer='word', stop_words='english', \n",
    "                        ngram_range=(1, 2), min_df=3,binary=False, use_idf=True)"
   ]
  },
  {
   "cell_type": "code",
   "execution_count": 14,
   "metadata": {
    "collapsed": false
   },
   "outputs": [],
   "source": [
    "X_text = tfidf.fit_transform(text)"
   ]
  },
  {
   "cell_type": "code",
   "execution_count": 15,
   "metadata": {
    "collapsed": false
   },
   "outputs": [
    {
     "data": {
      "text/plain": [
       "(100, 64)"
      ]
     },
     "execution_count": 15,
     "metadata": {},
     "output_type": "execute_result"
    }
   ],
   "source": [
    "X_text.shape"
   ]
  },
  {
   "cell_type": "code",
   "execution_count": 16,
   "metadata": {
    "collapsed": false
   },
   "outputs": [
    {
     "data": {
      "text/plain": [
       "[u'aisle', u'aisle review', u'amp', u'apparel', u'apparel puppy']"
      ]
     },
     "execution_count": 16,
     "metadata": {},
     "output_type": "execute_result"
    }
   ],
   "source": [
    "tfidf.get_feature_names() [0:5]"
   ]
  },
  {
   "cell_type": "code",
   "execution_count": 17,
   "metadata": {
    "collapsed": true
   },
   "outputs": [],
   "source": [
    "kmeans = KMeans(n_clusters = 5, n_init=100)"
   ]
  },
  {
   "cell_type": "code",
   "execution_count": 18,
   "metadata": {
    "collapsed": true
   },
   "outputs": [],
   "source": [
    "kmeans.fit_transform(X_text);"
   ]
  },
  {
   "cell_type": "code",
   "execution_count": 19,
   "metadata": {
    "collapsed": false
   },
   "outputs": [
    {
     "data": {
      "text/plain": [
       "array([ u\"I'm at a house party bitches. Im plsying beer pong the dog stole the ball lol.\",\n",
       "       u'The best thing that can happen at a party is getting to meet a new dog',\n",
       "       u'Mom Comes Home And Confronts Her Dog About The Giant Mess. He Points and Rats Out The Guilty Party.',\n",
       "       u'At a party for a dog with a bunch of old people. Where is my mind?',\n",
       "       u\"I'm out at a house party and I'm literally no lying spooning the massive dog in the middle of the living room #lifegoals #lovedogs\",\n",
       "       u'I blame the GOP for this! They did not put a muzzle nor a leash on their rabid dog &amp; racist party!',\n",
       "       u'yeah, power move to add a free street dog stand after the party ends. Best touch to a party',\n",
       "       u\"It's time for this party to head to my bedroom *grabs series and dog*\",\n",
       "       u'og_short_dog and garciafea wearing Love. Peeps. Party. Shirts made by as bridal',\n",
       "       u\"me when I'm at a party and the owner of the home doesn't have a dog I can be antisocial with\",\n",
       "       u'Man I just want to get this lost dog home and know when the next wine party is being held.',\n",
       "       u\"It's Karaoke Sunday 246 Queen St w/DOG, the original Party Animal ~ 9:30 tonight ~Come sing 'n play!\",\n",
       "       u\"my little cousin saw my tattoo of the dog wearing a party hat he's so confused and disappointed in me\",\n",
       "       u'they had a dog ass entourage. and they like 2 burn incense when they party.',\n",
       "       u\"I went to a party today and there was like 10 dogs there, I felt like I had died and gone to heaven. Ain't no party like a puppy dog party\",\n",
       "       u'LATER IN THIS GAME I GET A DOG PARTY MEMBER??? IM GONNA MAKE HIM KILL DEMONS WERE GONNA BE BEST FRIENDS',\n",
       "       u'Ceramic art by Jeff Koons - rubber balloon dog #rubberart #rubberculture Next Party Oct 8th',\n",
       "       u'Great day for the Dog Days of Summer swim party - Come out to Frontier Pool and swim until 4!',\n",
       "       u'The Sausage Party made me want a chili cheese dog last night, &amp; Suicide Squad made me want my BF to wear his grill, lorddddt lol',\n",
       "       u'you are dog this is the brain power of the Democratic party. The truth is their biggest enemy. #CrookedClinton',\n",
       "       u\"Whoever took a shit at that tynemouth beach party last night, my dog ate it and I'm not happy\",\n",
       "       u'I was planning to not go to a party until my parents told me they have a dog',\n",
       "       u\"Poor dog kicked out of living room for farting during party. I've NEVER trained her to sit in bathroom but she is\",\n",
       "       u\"i'm at a party and i'm baby sitting the dog\",\n",
       "       u\"My favorite part about the party last night was this guy's puppy good strategy, dude. I can't NOT talk to you if you have a dog\",\n",
       "       u\"What's sad about this is Ryan &amp; GOP is only embarassed bcuz he doesn't dog whistle the party's virtues. #EndGOPNow\",\n",
       "       u'I give up.Kids party and dog have joined me in the office to escape.So have parents!! Writing stuffed!',\n",
       "       u'Last night: me at a party sitting in the corner letting the dog lick my face soml',\n",
       "       u'Signal to party to close the Dog and Shit show? #WishfulThinking',\n",
       "       u'Breaking: 3 men and a dog in hostile take over national political party',\n",
       "       u\"Just another democrat party controlled urban area Tawana Brawley ring a bell? It's why #blacklivesmatter has dog shit after it\",\n",
       "       u\"When I'm at a party and the dog comes downstairs\",\n",
       "       u'Having a Almost 15 B-Day party for my big dog.',\n",
       "       u'is the comment lifelong Rep a Confederate the Dog Whistle for loyalty to power of the Party vs Country?',\n",
       "       u\"Panda Cubs party #Hosted by vinzarr I I've my dog Willowbear.\",\n",
       "       u'What\\'s the difference between offended party calling to report \"dog in park\" vs. \"off-leash dog in park.\" There is none.',\n",
       "       u'Last night was the first time I chose sleep over a party. Over that party phase fersure, all I want is a few bowls and to cuddle with my dog',\n",
       "       u'yeah dog white ppl party to hard for me young',\n",
       "       u\"So says the Liberal World Socialist Party's useful idiot. The Globalist Elite are laughing their asses off the dog\",\n",
       "       u'Puppy Perfect Paw Patrol Party!! - Crowning Details I love the dog bowl serving',\n",
       "       u'Every event and party needs a nice cat or dog for the unsocial animal lovers.',\n",
       "       u\"Most of the time at the party I was play w/ Doms dog , &amp; I still don't know the dogs name\",\n",
       "       u'Join us this afternoon for our first ever HOPS &amp; HOUNDS PARTY! 3-7 PM in our hops garden *which is now DOG...',\n",
       "       u'Went to a party last night. Became best friends with the dog',\n",
       "       u\"my dad bought me this since my dog couldn't come to my party\",\n",
       "       u'party dog',\n",
       "       u'Goliath; giant dog with a tender soul Austin, Texas',\n",
       "       u\"I deadass am having a bday party for my dog it's about to be lit\"], \n",
       "      dtype='<U140')"
      ]
     },
     "execution_count": 19,
     "metadata": {},
     "output_type": "execute_result"
    }
   ],
   "source": [
    "np.array(text)[kmeans.labels_==0]"
   ]
  },
  {
   "cell_type": "code",
   "execution_count": 20,
   "metadata": {
    "collapsed": false
   },
   "outputs": [
    {
     "data": {
      "text/plain": [
       "array([u'Why is it called sausage party when it is about a hot dog???',\n",
       "       u'eating a hot dog while watching sausage party',\n",
       "       u'Now every time I see a hot dog and bun I think about the movie sausage party',\n",
       "       u'Clever, funny, yet disturbing. I will never look at a hot dog in a bun the same way again!',\n",
       "       u'Metaphysical questions in the hot dog aisle. Our review of \"Sausage Party.\"',\n",
       "       u'nytimesarts: Metaphysical questions in the hot dog aisle. Our review of \"Sausage Party.\"',\n",
       "       u'Metaphysical questions in the hot dog aisle. Our review of \"Sausage Party.\"',\n",
       "       u'if you wanna see a hot dog bun and a taco fuck each other in the middle of a grocery store...sausage party is the movie for you',\n",
       "       u'whos your sausage party kin? im the tiny hot dog!! &gt;w&lt;',\n",
       "       u\"Just saw Sausage Party! So inappropriate and so funny. Actually very poignant at times. Now I'm eating a hot dog and chips. Yummy! Nom. Nom\",\n",
       "       u\"bieber's dick looks like the deformed hot dog from the sausage party movie\",\n",
       "       u'Just a glamour bun looking for my fancy dog.... Sausage Party was hysterical',\n",
       "       u'why does this girl look like the hot dog bun from sausage party LOL',\n",
       "       u'My thoughts on Sausage Party: Very Disturbed! Probably never gonna eat a hot dog again.',\n",
       "       u'i cant wait til ppl start making porn of the hot dog buns with titties from sausage party',\n",
       "       u\"....... I'm holding a hot dog in my lap......and about to watch..........sausage party.....\",\n",
       "       u\"Dog. You really shouldn't take anyone under 16 to go see sausage party.\",\n",
       "       u'I went to see sausage party and ate a hot dog right after',\n",
       "       u\"it's doing pretty awesome :D lost a sock to my dog but got tickets for sausage party tonight\"], \n",
       "      dtype='<U140')"
      ]
     },
     "execution_count": 20,
     "metadata": {},
     "output_type": "execute_result"
    }
   ],
   "source": [
    "np.array(text)[kmeans.labels_==1]"
   ]
  },
  {
   "cell_type": "markdown",
   "metadata": {},
   "source": [
    "That's the dog-birthday people"
   ]
  },
  {
   "cell_type": "code",
   "execution_count": 21,
   "metadata": {
    "collapsed": false
   },
   "outputs": [
    {
     "data": {
      "text/plain": [
       "array([u'found a dog at a party and b&amp;w theme is hard',\n",
       "       u'PSA: there is a dog party in Freelander Park today.',\n",
       "       u'I am currently on my way to a dog party and I have never been so excited for something before',\n",
       "       u'Always that guy finding the dog at the party',\n",
       "       u\"this dog party was important to me and it started at 4:30 but where's my mom ??? she's still not fucking home\",\n",
       "       u'When theres a dog at the party pt 2',\n",
       "       u'This not fair dog. Whatever. If party dont care I dont care',\n",
       "       u'When theres a dog at the party #gang',\n",
       "       u'Yes sir, Stiegl Radler and a hip-hop hot-dog party Happy birthday',\n",
       "       u'Why am I always the friend that finds the dog at the party',\n",
       "       u\"I'm at a dog party.\",\n",
       "       u'GUYS I WENT TO A DOG PARTY!!!!!! OMFG IT WAS SO CUTE',\n",
       "       u\"That's why you don't bring a dog to a party , slowbrain .... Lol\",\n",
       "       u'When I see a dog at a party'], \n",
       "      dtype='<U140')"
      ]
     },
     "execution_count": 21,
     "metadata": {},
     "output_type": "execute_result"
    }
   ],
   "source": [
    "np.array(text)[kmeans.labels_==2]"
   ]
  },
  {
   "cell_type": "markdown",
   "metadata": {},
   "source": [
    "Referring to hot dogs/sausages"
   ]
  },
  {
   "cell_type": "code",
   "execution_count": 22,
   "metadata": {
    "collapsed": false
   },
   "outputs": [
    {
     "data": {
      "text/plain": [
       "array([u'My dog is my life ofc hes gonna have a party for hes first birthday',\n",
       "       u'My dog birthday party is gonna be so .. You coming over ?',\n",
       "       u\"Someone please tell me why we're having a birthday party for Lexi's dog\",\n",
       "       u'Mom: Marley is so sad you missed her birthday party yesterday Stepdad: (Marley is our dog)',\n",
       "       u\"Downward facing dog - Lola tired out at Beth's birthday party #dachshund\",\n",
       "       u\"my sister just said that she's having a dog birthday party and that everyone has to bring their dogs\",\n",
       "       u'Dog Birthday Party...so doing this for Hank this year!',\n",
       "       u'FLYING SOAP Shower!! RC Truck VS Dog, Birthday Party at Dales, Crazy FIR... via',\n",
       "       u'FLYING SOAP Shower!! RC Truck VS Dog, Birthday Party at Dales, Crazy FIR...',\n",
       "       u\"we're having a birthday party for my dog its about to be a blast !!\"], \n",
       "      dtype='<U140')"
      ]
     },
     "execution_count": 22,
     "metadata": {},
     "output_type": "execute_result"
    }
   ],
   "source": [
    "np.array(text)[kmeans.labels_==3]"
   ]
  },
  {
   "cell_type": "markdown",
   "metadata": {},
   "source": [
    "not sure how that one differs from the first one."
   ]
  },
  {
   "cell_type": "code",
   "execution_count": 23,
   "metadata": {
    "collapsed": false
   },
   "outputs": [
    {
     "data": {
      "text/plain": [
       "array([ u'#4862 12x Female Pet Dog Dress Christmas Party Wear Moustache Fancy Costume Apparel M',\n",
       "       u'#7172 SHABBY PINK LACE SIZE XSMALL DOG HARNESS DRESS PET WEDDING PARTY Bridesmaid',\n",
       "       u'#1818 DOG DRESS IVORY POSH CHIFFON Medium Pet PIG PARTY WEDDING BRIDESMAID',\n",
       "       u'#1595 Small-Jeweled Pink Sparkle Party Dress -Dog dress Clothes Pet apparel puppy',\n",
       "       u'#6795 Small-Jeweled Pink Sparkle Party Dress -Dog dress Clothes Pet apparel puppy',\n",
       "       u'#5897 Pet Dog Clothes Fancy Pumpkin Costume Pup Halloween Apparel Party Coat Jacket',\n",
       "       u'#2376 Small-Jeweled Pink Sparkle Party Dress -Dog dress Clothes Pet apparel puppy',\n",
       "       u'#1827 Small-Jeweled Pink Sparkle Party Dress -Dog dress Clothes Pet apparel puppy',\n",
       "       u'#8190 Small-Jeweled Pink Sparkle Party Dress -Dog dress Clothes Pet apparel puppy'], \n",
       "      dtype='<U140')"
      ]
     },
     "execution_count": 23,
     "metadata": {},
     "output_type": "execute_result"
    }
   ],
   "source": [
    "np.array(text)[kmeans.labels_==4]"
   ]
  },
  {
   "cell_type": "markdown",
   "metadata": {},
   "source": [
    "Those numbers are probably throwing everything off. I will remove them. Then I will remove duplicate tweets because this throws off KMeans."
   ]
  },
  {
   "cell_type": "code",
   "execution_count": 27,
   "metadata": {
    "collapsed": false
   },
   "outputs": [],
   "source": [
    "text = [' '.join([word for word in tweet.split() if not word.startswith('#')]) for tweet in text]"
   ]
  },
  {
   "cell_type": "code",
   "execution_count": 28,
   "metadata": {
    "collapsed": false
   },
   "outputs": [],
   "source": [
    "text = list(set(text))"
   ]
  },
  {
   "cell_type": "code",
   "execution_count": 29,
   "metadata": {
    "collapsed": false
   },
   "outputs": [
    {
     "data": {
      "text/plain": [
       "95"
      ]
     },
     "execution_count": 29,
     "metadata": {},
     "output_type": "execute_result"
    }
   ],
   "source": [
    "len(text)"
   ]
  },
  {
   "cell_type": "code",
   "execution_count": 30,
   "metadata": {
    "collapsed": true
   },
   "outputs": [],
   "source": [
    "X_text = tfidf.fit_transform(text)"
   ]
  },
  {
   "cell_type": "code",
   "execution_count": 31,
   "metadata": {
    "collapsed": false
   },
   "outputs": [
    {
     "data": {
      "text/plain": [
       "(95, 40)"
      ]
     },
     "execution_count": 31,
     "metadata": {},
     "output_type": "execute_result"
    }
   ],
   "source": [
    "X_text.shape"
   ]
  },
  {
   "cell_type": "markdown",
   "metadata": {},
   "source": [
    "**Challenge 2**"
   ]
  },
  {
   "cell_type": "code",
   "execution_count": 32,
   "metadata": {
    "collapsed": true
   },
   "outputs": [],
   "source": [
    "inertias = []\n",
    "for k in range(2,20):\n",
    "    kmeans = KMeans(n_clusters = k, n_init=100)\n",
    "    kmeans.fit(X_text)\n",
    "    inertias.append(kmeans.inertia_)"
   ]
  },
  {
   "cell_type": "code",
   "execution_count": 33,
   "metadata": {
    "collapsed": true
   },
   "outputs": [],
   "source": [
    "import matplotlib.pyplot as plt\n",
    "import seaborn as sns\n",
    "%matplotlib inline"
   ]
  },
  {
   "cell_type": "code",
   "execution_count": 34,
   "metadata": {
    "collapsed": false
   },
   "outputs": [
    {
     "data": {
      "image/png": "[encoded data removed]",
      "text/plain": [
       "<matplotlib.figure.Figure at 0x104f094d0>"
      ]
     },
     "metadata": {},
     "output_type": "display_data"
    }
   ],
   "source": [
    "plt.plot(range(2,20),inertias);"
   ]
  },
  {
   "cell_type": "markdown",
   "metadata": {},
   "source": [
    "Wow, that is a gross looking interia curve."
   ]
  },
  {
   "cell_type": "markdown",
   "metadata": {},
   "source": [
    "**Challenge 3**"
   ]
  },
  {
   "cell_type": "markdown",
   "metadata": {},
   "source": [
    "I'm going to use k=10 for no reason whatsoever."
   ]
  },
  {
   "cell_type": "code",
   "execution_count": 35,
   "metadata": {
    "collapsed": false
   },
   "outputs": [],
   "source": [
    "kmeans = KMeans(n_clusters = 10, n_init=100)\n",
    "kmeans.fit(X_text);"
   ]
  },
  {
   "cell_type": "code",
   "execution_count": 36,
   "metadata": {
    "collapsed": true
   },
   "outputs": [],
   "source": [
    "from collections import Counter\n",
    "from sklearn.metrics import pairwise_distances"
   ]
  },
  {
   "cell_type": "code",
   "execution_count": 37,
   "metadata": {
    "collapsed": true
   },
   "outputs": [],
   "source": [
    "label_counter = Counter(kmeans.labels_)"
   ]
  },
  {
   "cell_type": "code",
   "execution_count": 38,
   "metadata": {
    "collapsed": false
   },
   "outputs": [
    {
     "name": "stdout",
     "output_type": "stream",
     "text": [
      "22 feel like this: \n",
      "Breaking: 3 men and a dog in hostile take over national political party \n",
      "\n",
      "18 feel like this: \n",
      "i cant wait til ppl start making porn of the hot dog buns with titties from sausage party \n",
      "\n",
      "15 feel like this: \n",
      "When theres a dog at the party pt 2 \n",
      "\n"
     ]
    }
   ],
   "source": [
    "for label in sorted(label_counter,key=label_counter.get,reverse=True)[:3]:\n",
    "    print '%d feel like this: ' % label_counter[label]\n",
    "    closest_ind = np.argmin(pairwise_distances(X_text,kmeans.cluster_centers_[label].reshape(1,-1)))\n",
    "    print text[closest_ind],'\\n'"
   ]
  },
  {
   "cell_type": "markdown",
   "metadata": {},
   "source": [
    "**Challenge 4**"
   ]
  },
  {
   "cell_type": "code",
   "execution_count": 39,
   "metadata": {
    "collapsed": true
   },
   "outputs": [],
   "source": [
    "tfidf = TfidfVectorizer(lowercase=True, analyzer='word', stop_words='english', \n",
    "                        ngram_range=(1, 1), min_df=1,binary=False, use_idf=True)"
   ]
  },
  {
   "cell_type": "code",
   "execution_count": 40,
   "metadata": {
    "collapsed": false
   },
   "outputs": [],
   "source": [
    "docs = ['' for _ in range(10)]\n",
    "for cluster in range(10):\n",
    "    docs[cluster] += ' '.join(np.array(text)[kmeans.labels_==cluster])\n",
    "X_docs = tfidf.fit_transform(docs).toarray()"
   ]
  },
  {
   "cell_type": "code",
   "execution_count": 41,
   "metadata": {
    "collapsed": false
   },
   "outputs": [
    {
     "name": "stdout",
     "output_type": "stream",
     "text": [
      "Cluster 0 has 3 tweets.\n",
      "Here are the top 5 keywords:  come, swim, dog, party, bought\n",
      "\n",
      "Cluster 1 has 18 tweets.\n",
      "Here are the top 5 keywords:  sausage, hot, dog, party, bun\n",
      "\n",
      "Cluster 2 has 22 tweets.\n",
      "Here are the top 5 keywords:  party, dog, power, house, living\n",
      "\n",
      "Cluster 3 has 15 tweets.\n",
      "Here are the top 5 keywords:  party, dog, like, care, today\n",
      "\n",
      "Cluster 4 has 11 tweets.\n",
      "Here are the top 5 keywords:  birthday, dog, party, having, truck\n",
      "\n",
      "Cluster 5 has 5 tweets.\n",
      "Here are the top 5 keywords:  amp, gop, hops, dog, party\n",
      "\n",
      "Cluster 6 has 5 tweets.\n",
      "Here are the top 5 keywords:  dog, party, lit, downstairs, deadass\n",
      "\n",
      "Cluster 7 has 7 tweets.\n",
      "Here are the top 5 keywords:  night, party, dog, want, time\n",
      "\n",
      "Cluster 8 has 4 tweets.\n",
      "Here are the top 5 keywords:  home, mom, party, dog, owner\n",
      "\n",
      "Cluster 9 has 5 tweets.\n",
      "Here are the top 5 keywords:  pet, dress, apparel, costume, clothes\n",
      "\n"
     ]
    }
   ],
   "source": [
    "for cluster in range(10):\n",
    "    print 'Cluster %d has %d tweets.' % (cluster,sum(kmeans.labels_==cluster))\n",
    "    print 'Here are the top 5 keywords: ',', '.join(np.array(tfidf.get_feature_names())[np.argsort(X_docs[cluster,:])[::-1][:5]])\n",
    "    print"
   ]
  },
  {
   "cell_type": "markdown",
   "metadata": {},
   "source": [
    "**Challenge 5**"
   ]
  },
  {
   "cell_type": "code",
   "execution_count": 42,
   "metadata": {
    "collapsed": false
   },
   "outputs": [],
   "source": [
    "from nltk.tag import pos_tag\n",
    "from nltk.tokenize import word_tokenize\n",
    "\n",
    "def noun_filter(doc):\n",
    "    words = word_tokenize(doc)\n",
    "    tags = pos_tag(words)\n",
    "    return ' '.join([tup[0] for tup in tags if tup[1]=='NN'])"
   ]
  },
  {
   "cell_type": "code",
   "execution_count": 43,
   "metadata": {
    "collapsed": true
   },
   "outputs": [],
   "source": [
    "docs = [noun_filter(doc) for doc in docs]"
   ]
  },
  {
   "cell_type": "code",
   "execution_count": 44,
   "metadata": {
    "collapsed": false
   },
   "outputs": [],
   "source": [
    "X_docs = tfidf.fit_transform(docs).toarray()"
   ]
  },
  {
   "cell_type": "code",
   "execution_count": 45,
   "metadata": {
    "collapsed": false
   },
   "outputs": [
    {
     "name": "stdout",
     "output_type": "stream",
     "text": [
      "Cluster 0 has 3 tweets.\n",
      "Here are the top 5 key nouns:  dad, day, sing, play, swim\n",
      "\n",
      "Cluster 1 has 18 tweets.\n",
      "Here are the top 5 key nouns:  sausage, dog, bun, party, movie\n",
      "\n",
      "Cluster 2 has 22 tweets.\n",
      "Here are the top 5 key nouns:  dog, party, power, living, house\n",
      "\n",
      "Cluster 3 has 15 tweets.\n",
      "Here are the top 5 key nouns:  party, dog, today, care, balloon\n",
      "\n",
      "Cluster 4 has 11 tweets.\n",
      "Here are the top 5 key nouns:  birthday, dog, party, blast, year\n",
      "\n",
      "Cluster 5 has 5 tweets.\n",
      "Here are the top 5 key nouns:  amp, party, dog, leash, theme\n",
      "\n",
      "Cluster 6 has 5 tweets.\n",
      "Here are the top 5 key nouns:  dog, party, office, bunch, mind\n",
      "\n",
      "Cluster 7 has 7 tweets.\n",
      "Here are the top 5 key nouns:  night, party, dog, time, cheese\n",
      "\n",
      "Cluster 8 has 4 tweets.\n",
      "Here are the top 5 key nouns:  home, dog, party, man, wine\n",
      "\n",
      "Cluster 9 has 5 tweets.\n",
      "Here are the top 5 key nouns:  dress, yummy, friend, day, democrat\n",
      "\n"
     ]
    }
   ],
   "source": [
    "for cluster in range(10):\n",
    "    print 'Cluster %d has %d tweets.' % (cluster,sum(kmeans.labels_==cluster))\n",
    "    print 'Here are the top 5 key nouns: ',', '.join(np.array(tfidf.get_feature_names())[np.argsort(X_docs[cluster,:])[::-1][:5]])\n",
    "    print"
   ]
  },
  {
   "cell_type": "markdown",
   "metadata": {},
   "source": [
    "**Challenge 6**"
   ]
  },
  {
   "cell_type": "markdown",
   "metadata": {},
   "source": [
    "I'm skipping this one since my sample size is already so small that k-means is quick as is."
   ]
  },
  {
   "cell_type": "markdown",
   "metadata": {},
   "source": [
    "**Challenge 7**"
   ]
  },
  {
   "cell_type": "code",
   "execution_count": 46,
   "metadata": {
    "collapsed": true
   },
   "outputs": [],
   "source": [
    "inertias = [[] for _ in [1,2,3,10]]\n",
    "for k in range(2,14):\n",
    "    for u,n_init in enumerate([1,2,3,10]):\n",
    "        kmeans = KMeans(n_clusters=k, init='random', n_init=n_init)\n",
    "        kmeans.fit(X_text)\n",
    "        inertias[u].append(kmeans.inertia_)"
   ]
  },
  {
   "cell_type": "code",
   "execution_count": 47,
   "metadata": {
    "collapsed": false
   },
   "outputs": [
    {
     "data": {
      "image/png": "[encoded data removed]",
      "text/plain": [
       "<matplotlib.figure.Figure at 0x1214c0fd0>"
      ]
     },
     "metadata": {},
     "output_type": "display_data"
    }
   ],
   "source": [
    "for u,n_init in enumerate([1,2,3,10]):\n",
    "    plt.plot(range(2,14),inertias[u],label='n_init = %d' % n_init)\n",
    "plt.legend();"
   ]
  },
  {
   "cell_type": "markdown",
   "metadata": {},
   "source": [
    "Seems like the intertia is smaller for higher n_init."
   ]
  },
  {
   "cell_type": "markdown",
   "metadata": {},
   "source": [
    "**Challenge 8**"
   ]
  },
  {
   "cell_type": "code",
   "execution_count": 48,
   "metadata": {
    "collapsed": false
   },
   "outputs": [
    {
     "name": "stdout",
     "output_type": "stream",
     "text": [
      "  % Total    % Received % Xferd  Average Speed   Time    Time     Time  Current\n",
      "                                 Dload  Upload   Total   Spent    Left  Speed\n",
      "100 15021  100 15021    0     0  11955      0  0:00:01  0:00:01 --:--:-- 26727\n"
     ]
    }
   ],
   "source": [
    "!curl 'https://archive.ics.uci.edu/ml/machine-learning-databases/00292/Wholesale%20customers%20data.csv' > data.csv"
   ]
  },
  {
   "cell_type": "code",
   "execution_count": 73,
   "metadata": {
    "collapsed": false
   },
   "outputs": [],
   "source": [
    "import pandas as pd\n",
    "from sklearn.preprocessing import scale"
   ]
  },
  {
   "cell_type": "code",
   "execution_count": 98,
   "metadata": {
    "collapsed": true
   },
   "outputs": [],
   "source": [
    "data = pd.read_csv('data.csv')"
   ]
  },
  {
   "cell_type": "code",
   "execution_count": 99,
   "metadata": {
    "collapsed": false
   },
   "outputs": [],
   "source": [
    "data.head()\n",
    "data_names = data.columns"
   ]
  },
  {
   "cell_type": "code",
   "execution_count": 103,
   "metadata": {
    "collapsed": false
   },
   "outputs": [],
   "source": [
    "data = scale(data)"
   ]
  },
  {
   "cell_type": "code",
   "execution_count": 104,
   "metadata": {
    "collapsed": false
   },
   "outputs": [],
   "source": [
    "kmeans = KMeans(n_clusters=6, n_init=15)\n",
    "kmeans.fit(data[:,2:]);"
   ]
  },
  {
   "cell_type": "code",
   "execution_count": 105,
   "metadata": {
    "collapsed": false
   },
   "outputs": [
    {
     "name": "stdout",
     "output_type": "stream",
     "text": [
      "0 96\n",
      "1 277\n",
      "2 1\n",
      "3 54\n",
      "4 2\n",
      "5 10\n"
     ]
    }
   ],
   "source": [
    "for cluster in range(6):\n",
    "    print cluster, sum(kmeans.labels_==cluster)"
   ]
  },
  {
   "cell_type": "markdown",
   "metadata": {},
   "source": [
    "That seems like a weird clustering distribution. Let's look at an inertia curve."
   ]
  },
  {
   "cell_type": "code",
   "execution_count": 106,
   "metadata": {
    "collapsed": false
   },
   "outputs": [
    {
     "data": {
      "image/png": "[encoded data removed]",
      "text/plain": [
       "<matplotlib.figure.Figure at 0x123839550>"
      ]
     },
     "metadata": {},
     "output_type": "display_data"
    }
   ],
   "source": [
    "inertias = []\n",
    "for k in range(2,16):\n",
    "    kmeans = KMeans(n_clusters=k, n_init=15)\n",
    "    kmeans.fit(data[:,2:]);\n",
    "    inertias.append(kmeans.inertia_)\n",
    "plt.plot(range(2,16),inertias);"
   ]
  },
  {
   "cell_type": "markdown",
   "metadata": {},
   "source": [
    "There seems to be an elbow around 5 so I'll choose 5."
   ]
  },
  {
   "cell_type": "code",
   "execution_count": 107,
   "metadata": {
    "collapsed": true
   },
   "outputs": [],
   "source": [
    "kmeans = KMeans(n_clusters=5, n_init=55)\n",
    "kmeans.fit(data[:,2:]);"
   ]
  },
  {
   "cell_type": "code",
   "execution_count": 108,
   "metadata": {
    "collapsed": false
   },
   "outputs": [
    {
     "name": "stdout",
     "output_type": "stream",
     "text": [
      "0 63\n",
      "1 269\n",
      "2 1\n",
      "3 10\n",
      "4 97\n"
     ]
    }
   ],
   "source": [
    "for cluster in range(5):\n",
    "    print cluster, sum(kmeans.labels_==cluster)"
   ]
  },
  {
   "cell_type": "markdown",
   "metadata": {},
   "source": [
    "There seems to be one customer who is unlike everyone else."
   ]
  },
  {
   "cell_type": "code",
   "execution_count": 116,
   "metadata": {
    "collapsed": false
   },
   "outputs": [
    {
     "data": {
      "image/png": "[encoded data removed]",
      "text/plain": [
       "<matplotlib.figure.Figure at 0x129851f50>"
      ]
     },
     "metadata": {},
     "output_type": "display_data"
    }
   ],
   "source": [
    "f, axarr = plt.subplots(5, 8, figsize=(24, 20),sharex=True)\n",
    "for cluster in range(5):\n",
    "    for col in range(8):\n",
    "        axarr[cluster,col].hist(data[kmeans.labels_==cluster,col])\n",
    "        axarr[cluster,col].set_title(data_names[col]+' Cluster %d' % cluster)"
   ]
  },
  {
   "cell_type": "markdown",
   "metadata": {},
   "source": [
    "Cluster 0: The Fresh and Frozen Crowd  \n",
    "Cluster 1: Hardly buys anything  \n",
    "Cluster 2: The Deli Fiend  \n",
    "Cluster 3: The Milk Buyers  \n",
    "Cluster 4: The Grocery People"
   ]
  },
  {
   "cell_type": "code",
   "execution_count": null,
   "metadata": {
    "collapsed": true
   },
   "outputs": [],
   "source": []
  }
 ],
 "metadata": {
  "kernelspec": {
   "display_name": "Python 2",
   "language": "python",
   "name": "python2"
  },
  "language_info": {
   "codemirror_mode": {
    "name": "ipython",
    "version": 2
   },
   "file_extension": ".py",
   "mimetype": "text/x-python",
   "name": "python",
   "nbconvert_exporter": "python",
   "pygments_lexer": "ipython2",
   "version": "2.7.11"
  }
 },
 "nbformat": 4,
 "nbformat_minor": 0
}
