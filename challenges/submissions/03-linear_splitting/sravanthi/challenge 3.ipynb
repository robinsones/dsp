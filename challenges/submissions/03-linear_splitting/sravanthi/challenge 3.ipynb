{
 "cells": [
  {
   "cell_type": "markdown",
   "metadata": {},
   "source": [
    "### Challenge Set 3\n",
    "\n",
    "Topic:        Linear splitting\n",
    "\n",
    "Date:         07/23/2016\n",
    "\n",
    "Name:         Sravanthi Ponnana\n"
   ]
  },
  {
   "cell_type": "code",
   "execution_count": 2,
   "metadata": {
    "collapsed": true
   },
   "outputs": [],
   "source": [
    "import pandas as pd\n",
    "%matplotlib inline\n",
    "from datetime import date\n",
    "import matplotlib.pyplot as plt\n",
    "import seaborn as sns\n",
    "import numpy as np\n",
    "from patsy import dmatrices\n",
    "import statsmodels.api as sm"
   ]
  },
  {
   "cell_type": "code",
   "execution_count": 3,
   "metadata": {
    "collapsed": true
   },
   "outputs": [],
   "source": [
    "movies = pd.read_csv(\"2013_movies.csv\")"
   ]
  },
  {
   "cell_type": "markdown",
   "metadata": {},
   "source": [
    "### Challenge 1"
   ]
  },
  {
   "cell_type": "code",
   "execution_count": 6,
   "metadata": {
    "collapsed": false
   },
   "outputs": [
    {
     "name": "stdout",
     "output_type": "stream",
     "text": [
      "                            OLS Regression Results                            \n",
      "==============================================================================\n",
      "Dep. Variable:     DomesticTotalGross   R-squared:                       0.000\n",
      "Model:                            OLS   Adj. R-squared:                  0.000\n",
      "Method:                 Least Squares   F-statistic:                       inf\n",
      "Date:                Sat, 23 Jul 2016   Prob (F-statistic):                nan\n",
      "Time:                        10:12:43   Log-Likelihood:                -1970.0\n",
      "No. Observations:                 100   AIC:                             3942.\n",
      "Df Residuals:                      99   BIC:                             3945.\n",
      "Df Model:                           0                                         \n",
      "Covariance Type:            nonrobust                                         \n",
      "==============================================================================\n",
      "                 coef    std err          t      P>|t|      [95.0% Conf. Int.]\n",
      "------------------------------------------------------------------------------\n",
      "Intercept    5.03e+07   4.37e+06     11.510      0.000      4.16e+07   5.9e+07\n",
      "constant     5.03e+07   4.37e+06     11.510      0.000      4.16e+07   5.9e+07\n",
      "==============================================================================\n",
      "Omnibus:                       51.114   Durbin-Watson:                   0.013\n",
      "Prob(Omnibus):                  0.000   Jarque-Bera (JB):              125.961\n",
      "Skew:                           1.985   Prob(JB):                     4.45e-28\n",
      "Kurtosis:                       6.804   Cond. No.                          inf\n",
      "==============================================================================\n",
      "\n",
      "Warnings:\n",
      "[1] Standard Errors assume that the covariance matrix of the errors is correctly specified.\n",
      "[2] The smallest eigenvalue is      0. This might indicate that there are\n",
      "strong multicollinearity problems or that the design matrix is singular.\n"
     ]
    }
   ],
   "source": [
    "movies[\"constant\"] = 1\n",
    "y, X = dmatrices('DomesticTotalGross ~ constant', data=movies, return_type='dataframe')\n",
    "model = sm.OLS(y, X)\n",
    "res = model.fit()\n",
    "print(res.summary())"
   ]
  },
  {
   "cell_type": "markdown",
   "metadata": {},
   "source": [
    "------------------\n",
    "----------------\n",
    "The model predicts the mean of the response variable .i.e, Domestic Total Gross. Since, the model does not explain any variance in the response variable, the R-squared is zero"
   ]
  },
  {
   "cell_type": "code",
   "execution_count": 7,
   "metadata": {
    "collapsed": false
   },
   "outputs": [],
   "source": [
    "pred = res.predict(X)"
   ]
  },
  {
   "cell_type": "code",
   "execution_count": 11,
   "metadata": {
    "collapsed": false
   },
   "outputs": [
    {
     "data": {
      "text/plain": [
       "<matplotlib.text.Text at 0x114e6ca20>"
      ]
     },
     "execution_count": 11,
     "metadata": {},
     "output_type": "execute_result"
    },
    {
     "data": {
      "image/png": "[encoded data removed]",
      "text/plain": [
       "<matplotlib.figure.Figure at 0x1174ee4a8>"
      ]
     },
     "metadata": {},
     "output_type": "display_data"
    }
   ],
   "source": [
    "plt.scatter(pred,y)\n",
    "plt.xlabel(\"Predictions\")\n",
    "plt.ylabel(\"Actuals (Domestic Total Gross)\")\n",
    "plt.title(\"Actual vs. Prediction\")"
   ]
  },
  {
   "cell_type": "markdown",
   "metadata": {},
   "source": [
    "Since the model predicts mean of the response variable for all values, we have a vertical line of predictions against the actuals"
   ]
  },
  {
   "cell_type": "code",
   "execution_count": 39,
   "metadata": {
    "collapsed": false
   },
   "outputs": [
    {
     "data": {
      "text/plain": [
       "[<matplotlib.text.Text at 0x118e60e48>,\n",
       " <matplotlib.text.Text at 0x117f64e48>,\n",
       " <matplotlib.text.Text at 0x118e6e0b8>]"
      ]
     },
     "execution_count": 39,
     "metadata": {},
     "output_type": "execute_result"
    },
    {
     "data": {
      "image/png": "[encoded data removed]",
      "text/plain": [
       "<matplotlib.figure.Figure at 0x118e26828>"
      ]
     },
     "metadata": {},
     "output_type": "display_data"
    }
   ],
   "source": [
    "ax = sns.distplot(movies[\"DomesticTotalGross\"] - pred, kde=False)\n",
    "ax.set(xlabel='Residual', ylabel='Frequency',title = \"Predictions\")\n"
   ]
  },
  {
   "cell_type": "markdown",
   "metadata": {},
   "source": [
    "The graph is right skewed. "
   ]
  },
  {
   "cell_type": "markdown",
   "metadata": {},
   "source": [
    "### Challenge 2"
   ]
  },
  {
   "cell_type": "code",
   "execution_count": 17,
   "metadata": {
    "collapsed": false
   },
   "outputs": [
    {
     "name": "stdout",
     "output_type": "stream",
     "text": [
      "                            OLS Regression Results                            \n",
      "==============================================================================\n",
      "Dep. Variable:     DomesticTotalGross   R-squared:                       0.286\n",
      "Model:                            OLS   Adj. R-squared:                  0.278\n",
      "Method:                 Least Squares   F-statistic:                     34.82\n",
      "Date:                Sat, 23 Jul 2016   Prob (F-statistic):           6.80e-08\n",
      "Time:                        10:23:59   Log-Likelihood:                -1738.1\n",
      "No. Observations:                  89   AIC:                             3480.\n",
      "Df Residuals:                      87   BIC:                             3485.\n",
      "Df Model:                           1                                         \n",
      "Covariance Type:            nonrobust                                         \n",
      "==============================================================================\n",
      "                 coef    std err          t      P>|t|      [95.0% Conf. Int.]\n",
      "------------------------------------------------------------------------------\n",
      "Intercept    2.22e+07   6.33e+06      3.504      0.001      9.61e+06  3.48e+07\n",
      "constant     2.22e+07   6.33e+06      3.504      0.001      9.61e+06  3.48e+07\n",
      "Budget         0.7846      0.133      5.901      0.000         0.520     1.049\n",
      "==============================================================================\n",
      "Omnibus:                       39.749   Durbin-Watson:                   0.674\n",
      "Prob(Omnibus):                  0.000   Jarque-Bera (JB):               99.441\n",
      "Skew:                           1.587   Prob(JB):                     2.55e-22\n",
      "Kurtosis:                       7.091   Cond. No.                     2.68e+17\n",
      "==============================================================================\n",
      "\n",
      "Warnings:\n",
      "[1] Standard Errors assume that the covariance matrix of the errors is correctly specified.\n",
      "[2] The smallest eigenvalue is 1.13e-17. This might indicate that there are\n",
      "strong multicollinearity problems or that the design matrix is singular.\n"
     ]
    }
   ],
   "source": [
    "y, X = dmatrices('DomesticTotalGross ~ constant + Budget', data=movies)\n",
    "model = sm.OLS(y, X)\n",
    "res = model.fit()\n",
    "print(res.summary())\n",
    "pred = res.predict(X)"
   ]
  },
  {
   "cell_type": "code",
   "execution_count": 32,
   "metadata": {
    "collapsed": false
   },
   "outputs": [
    {
     "data": {
      "image/png": "[encoded data removed]",
      "text/plain": [
       "<matplotlib.figure.Figure at 0x1189f4dd8>"
      ]
     },
     "metadata": {},
     "output_type": "display_data"
    }
   ],
   "source": [
    "plt.scatter(pred, movies.Budget)\n",
    "plt.title('Budget vs. Prediction')\n",
    "plt.xlabel('Budget')\n",
    "plt.ylabel('Prediction')\n",
    "plt.show()\n"
   ]
  },
  {
   "cell_type": "code",
   "execution_count": 33,
   "metadata": {
    "collapsed": false
   },
   "outputs": [
    {
     "data": {
      "image/png": "[encoded data removed]",
      "text/plain": [
       "<matplotlib.figure.Figure at 0x118ce2160>"
      ]
     },
     "metadata": {},
     "output_type": "display_data"
    }
   ],
   "source": [
    "plt.scatter(movies.Budget, pl)\n",
    "plt.title('Budget vs. Residuals')\n",
    "plt.xlabel('Budget')\n",
    "plt.ylabel('Residual')\n",
    "plt.show()"
   ]
  },
  {
   "cell_type": "markdown",
   "metadata": {},
   "source": [
    "The residuals also increase with the budget. This is because the model predicts increasing domestic gross with increasing budget  which is not true per the data "
   ]
  },
  {
   "cell_type": "markdown",
   "metadata": {},
   "source": [
    "### Challenge 3"
   ]
  },
  {
   "cell_type": "code",
   "execution_count": 35,
   "metadata": {
    "collapsed": false
   },
   "outputs": [
    {
     "name": "stdout",
     "output_type": "stream",
     "text": [
      "                            OLS Regression Results                            \n",
      "==============================================================================\n",
      "Dep. Variable:     DomesticTotalGross   R-squared:                       0.069\n",
      "Model:                            OLS   Adj. R-squared:                  0.047\n",
      "Method:                 Least Squares   F-statistic:                     3.180\n",
      "Date:                Sat, 23 Jul 2016   Prob (F-statistic):             0.0465\n",
      "Time:                        10:35:02   Log-Likelihood:                -1749.9\n",
      "No. Observations:                  89   AIC:                             3506.\n",
      "Df Residuals:                      86   BIC:                             3513.\n",
      "Df Model:                           2                                         \n",
      "Covariance Type:            nonrobust                                         \n",
      "===================================================================================\n",
      "                      coef    std err          t      P>|t|      [95.0% Conf. Int.]\n",
      "-----------------------------------------------------------------------------------\n",
      "Intercept        6.557e+07    1.1e+07      5.967      0.000      4.37e+07  8.74e+07\n",
      "Rating[T.PG-13] -1.517e+07   2.57e+07     -0.591      0.556     -6.62e+07  3.59e+07\n",
      "Rating[T.R]     -5.691e+07   2.65e+07     -2.147      0.035      -1.1e+08 -4.21e+06\n",
      "constant         6.557e+07    1.1e+07      5.967      0.000      4.37e+07  8.74e+07\n",
      "==============================================================================\n",
      "Omnibus:                       41.953   Durbin-Watson:                   0.160\n",
      "Prob(Omnibus):                  0.000   Jarque-Bera (JB):               91.921\n",
      "Skew:                           1.796   Prob(JB):                     1.10e-20\n",
      "Kurtosis:                       6.447   Cond. No.                     1.98e+16\n",
      "==============================================================================\n",
      "\n",
      "Warnings:\n",
      "[1] Standard Errors assume that the covariance matrix of the errors is correctly specified.\n",
      "[2] The smallest eigenvalue is 5.35e-31. This might indicate that there are\n",
      "strong multicollinearity problems or that the design matrix is singular.\n"
     ]
    }
   ],
   "source": [
    "y, X = dmatrices('DomesticTotalGross ~ constant + Rating', data=movies)\n",
    "model = sm.OLS(y, X)\n",
    "res = model.fit()\n",
    "print(res.summary())\n",
    "pred = res.predict(X)"
   ]
  },
  {
   "cell_type": "code",
   "execution_count": 38,
   "metadata": {
    "collapsed": false
   },
   "outputs": [
    {
     "data": {
      "text/plain": [
       "PG-13    41\n",
       "R        33\n",
       "PG       15\n",
       "Name: Rating, dtype: int64"
      ]
     },
     "execution_count": 38,
     "metadata": {},
     "output_type": "execute_result"
    }
   ],
   "source": [
    "movies[\"Rating\"].value_counts()"
   ]
  },
  {
   "cell_type": "markdown",
   "metadata": {},
   "source": [
    "There are three categories of ratings. The category 'PG' is taken as the reference and is coded as 0."
   ]
  },
  {
   "cell_type": "markdown",
   "metadata": {},
   "source": [
    "### Challenge 4"
   ]
  },
  {
   "cell_type": "code",
   "execution_count": 37,
   "metadata": {
    "collapsed": false
   },
   "outputs": [
    {
     "name": "stdout",
     "output_type": "stream",
     "text": [
      "                            OLS Regression Results                            \n",
      "==============================================================================\n",
      "Dep. Variable:     DomesticTotalGross   R-squared:                       0.302\n",
      "Model:                            OLS   Adj. R-squared:                  0.269\n",
      "Method:                 Least Squares   F-statistic:                     9.089\n",
      "Date:                Sat, 23 Jul 2016   Prob (F-statistic):           3.77e-06\n",
      "Time:                        10:35:49   Log-Likelihood:                -1737.0\n",
      "No. Observations:                  89   AIC:                             3484.\n",
      "Df Residuals:                      84   BIC:                             3497.\n",
      "Df Model:                           4                                         \n",
      "Covariance Type:            nonrobust                                         \n",
      "===================================================================================\n",
      "                      coef    std err          t      P>|t|      [95.0% Conf. Int.]\n",
      "-----------------------------------------------------------------------------------\n",
      "Intercept        4.255e+06   5.17e+07      0.082      0.935     -9.85e+07  1.07e+08\n",
      "Rating[T.PG-13] -2.779e+07   2.42e+07     -1.146      0.255      -7.6e+07  2.04e+07\n",
      "Rating[T.R]     -2.547e+07   2.66e+07     -0.958      0.341     -7.83e+07  2.74e+07\n",
      "Runtime          6.083e+05   5.21e+05      1.168      0.246     -4.27e+05  1.64e+06\n",
      "Budget              0.7036      0.165      4.255      0.000         0.375     1.032\n",
      "==============================================================================\n",
      "Omnibus:                       36.883   Durbin-Watson:                   0.740\n",
      "Prob(Omnibus):                  0.000   Jarque-Bera (JB):               82.319\n",
      "Skew:                           1.525   Prob(JB):                     1.33e-18\n",
      "Kurtosis:                       6.591   Cond. No.                     6.23e+08\n",
      "==============================================================================\n",
      "\n",
      "Warnings:\n",
      "[1] Standard Errors assume that the covariance matrix of the errors is correctly specified.\n",
      "[2] The condition number is large, 6.23e+08. This might indicate that there are\n",
      "strong multicollinearity or other numerical problems.\n"
     ]
    }
   ],
   "source": [
    "y, X = dmatrices('DomesticTotalGross ~ Rating + Runtime + Budget', data=movies, return_type='dataframe')\n",
    "model = sm.OLS(y, X)\n",
    "results = model.fit()\n",
    "print(results.summary())"
   ]
  },
  {
   "cell_type": "code",
   "execution_count": 40,
   "metadata": {
    "collapsed": false
   },
   "outputs": [
    {
     "data": {
      "text/plain": [
       "[<matplotlib.text.Text at 0x1198cf0b8>,\n",
       " <matplotlib.text.Text at 0x118e62470>,\n",
       " <matplotlib.text.Text at 0x1198e1f28>]"
      ]
     },
     "execution_count": 40,
     "metadata": {},
     "output_type": "execute_result"
    },
    {
     "data": {
      "image/png": "[encoded data removed]",
      "text/plain": [
       "<matplotlib.figure.Figure at 0x1189f6cc0>"
      ]
     },
     "metadata": {},
     "output_type": "display_data"
    }
   ],
   "source": [
    "ax = sns.distplot(movies[\"DomesticTotalGross\"], kde=False)\n",
    "ax.set(xlabel='Residual', ylabel='Frequency',title = \"Domestic Total Gross\")"
   ]
  },
  {
   "cell_type": "markdown",
   "metadata": {},
   "source": [
    "Since the graph is right skewed, we apply log transformation on the variable"
   ]
  },
  {
   "cell_type": "code",
   "execution_count": 43,
   "metadata": {
    "collapsed": false
   },
   "outputs": [
    {
     "data": {
      "text/plain": [
       "[<matplotlib.text.Text at 0x1175e1da0>,\n",
       " <matplotlib.text.Text at 0x118d35ef0>,\n",
       " <matplotlib.text.Text at 0x1189dbe10>]"
      ]
     },
     "execution_count": 43,
     "metadata": {},
     "output_type": "execute_result"
    },
    {
     "data": {
      "image/png": "[encoded data removed]",
      "text/plain": [
       "<matplotlib.figure.Figure at 0x118e3e438>"
      ]
     },
     "metadata": {},
     "output_type": "display_data"
    }
   ],
   "source": [
    "movies['log_DomesticTotalGross'] = np.log(movies.DomesticTotalGross)\n",
    "ax = sns.distplot(movies[\"log_DomesticTotalGross\"], kde=False)\n",
    "ax.set(xlabel='Residual', ylabel='Frequency',title = \"Log(Domestic Total Gross)\")"
   ]
  },
  {
   "cell_type": "markdown",
   "metadata": {},
   "source": [
    "We did take care of the skewness of the data to an extent"
   ]
  },
  {
   "cell_type": "code",
   "execution_count": 48,
   "metadata": {
    "collapsed": false
   },
   "outputs": [
    {
     "name": "stdout",
     "output_type": "stream",
     "text": [
      "                              OLS Regression Results                              \n",
      "==================================================================================\n",
      "Dep. Variable:     log_DomesticTotalGross   R-squared:                       0.318\n",
      "Model:                                OLS   Adj. R-squared:                  0.285\n",
      "Method:                     Least Squares   F-statistic:                     9.788\n",
      "Date:                    Sat, 23 Jul 2016   Prob (F-statistic):           1.51e-06\n",
      "Time:                            10:46:45   Log-Likelihood:                -78.450\n",
      "No. Observations:                      89   AIC:                             166.9\n",
      "Df Residuals:                          84   BIC:                             179.3\n",
      "Df Model:                               4                                         \n",
      "Covariance Type:                nonrobust                                         \n",
      "===================================================================================\n",
      "                      coef    std err          t      P>|t|      [95.0% Conf. Int.]\n",
      "-----------------------------------------------------------------------------------\n",
      "Intercept          17.2502      0.417     41.411      0.000        16.422    18.079\n",
      "Rating[T.PG-13]    -0.2132      0.196     -1.090      0.279        -0.602     0.176\n",
      "Rating[T.R]        -0.1722      0.214     -0.803      0.424        -0.599     0.254\n",
      "Runtime             0.0058      0.004      1.385      0.170        -0.003     0.014\n",
      "Budget           5.892e-09   1.33e-09      4.419      0.000      3.24e-09  8.54e-09\n",
      "==============================================================================\n",
      "Omnibus:                        1.700   Durbin-Watson:                   0.774\n",
      "Prob(Omnibus):                  0.427   Jarque-Bera (JB):                1.421\n",
      "Skew:                           0.143   Prob(JB):                        0.491\n",
      "Kurtosis:                       2.451   Cond. No.                     6.23e+08\n",
      "==============================================================================\n",
      "\n",
      "Warnings:\n",
      "[1] Standard Errors assume that the covariance matrix of the errors is correctly specified.\n",
      "[2] The condition number is large, 6.23e+08. This might indicate that there are\n",
      "strong multicollinearity or other numerical problems.\n"
     ]
    }
   ],
   "source": [
    "y, X = dmatrices('log_DomesticTotalGross ~ Rating + Runtime + Budget', data=movies, return_type='dataframe')\n",
    "model = sm.OLS(y, X)\n",
    "results = model.fit()\n",
    "print(results.summary())"
   ]
  },
  {
   "cell_type": "markdown",
   "metadata": {},
   "source": [
    "Applying log transformation seems to have improved the model. We might need some more features to better explain the response variable"
   ]
  },
  {
   "cell_type": "markdown",
   "metadata": {},
   "source": [
    "### Challenge 5"
   ]
  },
  {
   "cell_type": "code",
   "execution_count": 49,
   "metadata": {
    "collapsed": true
   },
   "outputs": [],
   "source": [
    "from sklearn import cross_validation\n",
    "from sklearn.linear_model import LinearRegression\n",
    "\n",
    "X_train, X_test, y_train, y_test = cross_validation.train_test_split(X, y, test_size=0.25)\n",
    "\n",
    "model = LinearRegression().fit(X_train, y_train)\n",
    "pred = model.predict(X_test)"
   ]
  },
  {
   "cell_type": "code",
   "execution_count": 50,
   "metadata": {
    "collapsed": false
   },
   "outputs": [
    {
     "data": {
      "text/plain": [
       "array([[  0.00000000e+00,  -2.44721584e-01,  -2.44885947e-01,\n",
       "          5.79406156e-03,   5.90735919e-09]])"
      ]
     },
     "execution_count": 50,
     "metadata": {},
     "output_type": "execute_result"
    }
   ],
   "source": [
    "model.coef_"
   ]
  },
  {
   "cell_type": "code",
   "execution_count": 55,
   "metadata": {
    "collapsed": false
   },
   "outputs": [
    {
     "name": "stdout",
     "output_type": "stream",
     "text": [
      "0.253206977243\n"
     ]
    }
   ],
   "source": [
    "from sklearn.metrics import r2_score,mean_squared_error\n",
    "print(r2_score(y_test,pred))"
   ]
  },
  {
   "cell_type": "code",
   "execution_count": 61,
   "metadata": {
    "collapsed": false
   },
   "outputs": [
    {
     "data": {
      "image/png": "[encoded data removed]",
      "text/plain": [
       "<matplotlib.figure.Figure at 0x1199b7630>"
      ]
     },
     "metadata": {},
     "output_type": "display_data"
    }
   ],
   "source": [
    "plt.scatter(y_test, pred)\n",
    "plt.title('Actuals vs. Predictions')\n",
    "plt.xlabel('Actuals')\n",
    "plt.ylabel('Predictions')\n",
    "plt.show()"
   ]
  },
  {
   "cell_type": "code",
   "execution_count": null,
   "metadata": {
    "collapsed": true
   },
   "outputs": [],
   "source": []
  }
 ],
 "metadata": {
  "kernelspec": {
   "display_name": "Python 3",
   "language": "python",
   "name": "python3"
  },
  "language_info": {
   "codemirror_mode": {
    "name": "ipython",
    "version": 3
   },
   "file_extension": ".py",
   "mimetype": "text/x-python",
   "name": "python",
   "nbconvert_exporter": "python",
   "pygments_lexer": "ipython3",
   "version": "3.5.2"
  }
 },
 "nbformat": 4,
 "nbformat_minor": 0
}
