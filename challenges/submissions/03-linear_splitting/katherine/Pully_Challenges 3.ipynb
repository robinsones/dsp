{
 "cells": [
  {
   "cell_type": "markdown",
   "metadata": {},
   "source": [
    "# Challenge Set 3"
   ]
  },
  {
   "cell_type": "markdown",
   "metadata": {},
   "source": [
    "## Table of Contents\n",
    "\n",
    "\n",
    "<a href='#q1'>Q1</a>  \n",
    "<a href='#q2'>Q2</a>  \n",
    "<a href='#q3'>Q3</a>  \n",
    "<a href='#q4'>Q4</a>  \n",
    "<a href='#q5'>Q5</a>  "
   ]
  },
  {
   "cell_type": "markdown",
   "metadata": {
    "collapsed": false
   },
   "source": [
    "import pandas as pd\n",
    "import math\n",
    "import matplotlib.pyplot as plt\n",
    "from patsy import dmatrices\n",
    "from sklearn.linear_model import LinearRegression\n",
    "from sklearn.cross_validation import train_test_split\n",
    "import patsy\n",
    "import numpy as np\n",
    "\n",
    "%matplotlib inline\n",
    "import seaborn as sb\n"
   ]
  },
  {
   "cell_type": "code",
   "execution_count": 78,
   "metadata": {
    "collapsed": false
   },
   "outputs": [],
   "source": [
    "df = pd.read_csv('2013_movies.csv')"
   ]
  },
  {
   "cell_type": "markdown",
   "metadata": {},
   "source": [
    "<a id='q1'></a>\n",
    "## Challenge 1\n",
    "\n",
    "Build a linear model that uses only a constant term (a column of ones) to predict a continuous outcome (like domestic total gross). How can you interpret the results of this model? What does it predict? Make a plot of predictions against actual outcome. Make a histogram of residuals. How are the residuals distributed?\n"
   ]
  },
  {
   "cell_type": "code",
   "execution_count": 79,
   "metadata": {
    "collapsed": false
   },
   "outputs": [],
   "source": [
    "df['Constant'] = 1"
   ]
  },
  {
   "cell_type": "code",
   "execution_count": 80,
   "metadata": {
    "collapsed": false
   },
   "outputs": [
    {
     "name": "stdout",
     "output_type": "stream",
     "text": [
      " \n"
     ]
    },
    {
     "data": {
      "image/png": "[encoded data removed]",
      "text/plain": [
       "<matplotlib.figure.Figure at 0x1177886d0>"
      ]
     },
     "metadata": {},
     "output_type": "display_data"
    }
   ],
   "source": [
    "pd.tools.plotting.scatter_matrix(df[['Constant', 'DomesticTotalGross']])\n",
    "print ' '"
   ]
  },
  {
   "cell_type": "code",
   "execution_count": 153,
   "metadata": {
    "collapsed": false
   },
   "outputs": [
    {
     "name": "stdout",
     "output_type": "stream",
     "text": [
      "                            OLS Regression Results                            \n",
      "==============================================================================\n",
      "Dep. Variable:     DomesticTotalGross   R-squared:                       0.579\n",
      "Model:                            OLS   Adj. R-squared:                  0.573\n",
      "Method:                 Least Squares   F-statistic:                     95.04\n",
      "Date:                Tue, 19 Jul 2016   Prob (F-statistic):           1.32e-14\n",
      "Time:                        16:27:27   Log-Likelihood:                -1382.5\n",
      "No. Observations:                  70   AIC:                             2767.\n",
      "Df Residuals:                      69   BIC:                             2769.\n",
      "Df Model:                           1                                         \n",
      "Covariance Type:            nonrobust                                         \n",
      "==============================================================================\n",
      "                 coef    std err          t      P>|t|      [95.0% Conf. Int.]\n",
      "------------------------------------------------------------------------------\n",
      "Intercept   5.366e+07    5.5e+06      9.749      0.000      4.27e+07  6.46e+07\n",
      "Constant    5.366e+07    5.5e+06      9.749      0.000      4.27e+07  6.46e+07\n",
      "==============================================================================\n",
      "Omnibus:                       31.918   Durbin-Watson:                   2.485\n",
      "Prob(Omnibus):                  0.000   Jarque-Bera (JB):               55.550\n",
      "Skew:                           1.737   Prob(JB):                     8.66e-13\n",
      "Kurtosis:                       5.642   Cond. No.                     3.34e+15\n",
      "==============================================================================\n",
      "\n",
      "Warnings:\n",
      "[1] Standard Errors assume that the covariance matrix of the errors is correctly specified.\n",
      "[2] The smallest eigenvalue is 1.25e-29. This might indicate that there are\n",
      "strong multicollinearity problems or that the design matrix is singular.\n"
     ]
    }
   ],
   "source": [
    "y, X = dmatrices('DomesticTotalGross ~ Constant', data=df, return_type='dataframe')\n",
    "X_train, X_test, y_train, y_test = train_test_split(X, y, test_size=0.3, random_state=1)\n",
    "model = sm.OLS(y_train, X_train, hasconst=False)\n",
    "results = model.fit()\n",
    "print results.summary()"
   ]
  },
  {
   "cell_type": "code",
   "execution_count": 154,
   "metadata": {
    "collapsed": false
   },
   "outputs": [
    {
     "data": {
      "image/png": "[encoded data removed]",
      "text/plain": [
       "<matplotlib.figure.Figure at 0x11ccacb10>"
      ]
     },
     "metadata": {},
     "output_type": "display_data"
    }
   ],
   "source": [
    "pred = results.predict(X_test)\n",
    "\n",
    "plt.scatter(pred, y_test)\n",
    "plt.title(\"Prediction vs Actual\")\n",
    "plt.show()"
   ]
  },
  {
   "cell_type": "code",
   "execution_count": 155,
   "metadata": {
    "collapsed": false
   },
   "outputs": [],
   "source": [
    "y_test.reset_index(inplace=True)"
   ]
  },
  {
   "cell_type": "code",
   "execution_count": 156,
   "metadata": {
    "collapsed": false
   },
   "outputs": [],
   "source": [
    "residuals = {}\n",
    "for i in range(0,30):\n",
    "    residuals[i] = y_test.DomesticTotalGross[i] - pred[i]"
   ]
  },
  {
   "cell_type": "code",
   "execution_count": 157,
   "metadata": {
    "collapsed": false
   },
   "outputs": [
    {
     "data": {
      "image/png": "[encoded data removed]",
      "text/plain": [
       "<matplotlib.figure.Figure at 0x11c971f50>"
      ]
     },
     "metadata": {},
     "output_type": "display_data"
    }
   ],
   "source": [
    "plt.hist(residuals.values())\n",
    "plt.title(\"Histogram of Residuals\")\n",
    "plt.show()"
   ]
  },
  {
   "cell_type": "markdown",
   "metadata": {},
   "source": [
    "<a id='q2'></a>\n",
    "## Challenge 2\n",
    "\n",
    "Repeat the process of challenge one, but also add one continuous (numeric) predictor variable. Also add plots of model prediction against your feature variable and residuals against feature variable. How can you interpret what's happening in the model?\n"
   ]
  },
  {
   "cell_type": "code",
   "execution_count": 159,
   "metadata": {
    "collapsed": false
   },
   "outputs": [
    {
     "name": "stdout",
     "output_type": "stream",
     "text": [
      "                            OLS Regression Results                            \n",
      "==============================================================================\n",
      "Dep. Variable:     DomesticTotalGross   R-squared:                       0.700\n",
      "Model:                            OLS   Adj. R-squared:                  0.690\n",
      "Method:                 Least Squares   F-statistic:                     69.98\n",
      "Date:                Tue, 19 Jul 2016   Prob (F-statistic):           2.07e-16\n",
      "Time:                        16:27:57   Log-Likelihood:                -1215.0\n",
      "No. Observations:                  62   AIC:                             2434.\n",
      "Df Residuals:                      60   BIC:                             2438.\n",
      "Df Model:                           2                                         \n",
      "Covariance Type:            nonrobust                                         \n",
      "==============================================================================\n",
      "                 coef    std err          t      P>|t|      [95.0% Conf. Int.]\n",
      "------------------------------------------------------------------------------\n",
      "Intercept   2.493e+07   8.15e+06      3.058      0.003      8.62e+06  4.12e+07\n",
      "Constant    2.493e+07   8.15e+06      3.058      0.003      8.62e+06  4.12e+07\n",
      "Budget         0.7850      0.167      4.699      0.000         0.451     1.119\n",
      "==============================================================================\n",
      "Omnibus:                       22.809   Durbin-Watson:                   2.211\n",
      "Prob(Omnibus):                  0.000   Jarque-Bera (JB):               38.761\n",
      "Skew:                           1.264   Prob(JB):                     3.83e-09\n",
      "Kurtosis:                       5.934   Cond. No.                     2.34e+17\n",
      "==============================================================================\n",
      "\n",
      "Warnings:\n",
      "[1] Standard Errors assume that the covariance matrix of the errors is correctly specified.\n",
      "[2] The smallest eigenvalue is 1.08e-17. This might indicate that there are\n",
      "strong multicollinearity problems or that the design matrix is singular.\n"
     ]
    }
   ],
   "source": [
    "y, X = dmatrices('DomesticTotalGross ~ Constant + Budget', data=df, return_type='dataframe')\n",
    "X_train, X_test, y_train, y_test = train_test_split(X, y, test_size=0.3, random_state=1)\n",
    "model = sm.OLS(y_train, X_train, hasconst=False)\n",
    "results = model.fit()\n",
    "print results.summary()"
   ]
  },
  {
   "cell_type": "code",
   "execution_count": 161,
   "metadata": {
    "collapsed": false
   },
   "outputs": [
    {
     "data": {
      "image/png": "[encoded data removed]",
      "text/plain": [
       "<matplotlib.figure.Figure at 0x11d97b650>"
      ]
     },
     "metadata": {},
     "output_type": "display_data"
    }
   ],
   "source": [
    "pred = results.predict(X_test)\n",
    "plt.scatter(pred, y_test)\n",
    "plt.title(\"Prediction vs Actual\")\n",
    "plt.show()"
   ]
  },
  {
   "cell_type": "markdown",
   "metadata": {},
   "source": [
    "<a id='q3'></a>\n",
    "## Challenge 3\n",
    "\n",
    "Repeat the process of challenge 1, but add a categorical feature (like genre). You'll have to convert a column of text into a number of numerical columns (\"dummy variables\"). How can you interpret what's happening in the model?\n"
   ]
  },
  {
   "cell_type": "code",
   "execution_count": 162,
   "metadata": {
    "collapsed": false
   },
   "outputs": [
    {
     "data": {
      "text/html": [
       "<div>\n",
       "<table border=\"1\" class=\"dataframe\">\n",
       "  <thead>\n",
       "    <tr style=\"text-align: right;\">\n",
       "      <th></th>\n",
       "      <th>Title</th>\n",
       "      <th>Budget</th>\n",
       "      <th>DomesticTotalGross</th>\n",
       "      <th>Director</th>\n",
       "      <th>Rating</th>\n",
       "      <th>Runtime</th>\n",
       "      <th>ReleaseDate</th>\n",
       "      <th>Constant</th>\n",
       "    </tr>\n",
       "  </thead>\n",
       "  <tbody>\n",
       "    <tr>\n",
       "      <th>0</th>\n",
       "      <td>The Hunger Games: Catching Fire</td>\n",
       "      <td>130000000.0</td>\n",
       "      <td>424668047</td>\n",
       "      <td>Francis Lawrence</td>\n",
       "      <td>PG-13</td>\n",
       "      <td>146</td>\n",
       "      <td>2013-11-22 00:00:00</td>\n",
       "      <td>1</td>\n",
       "    </tr>\n",
       "    <tr>\n",
       "      <th>1</th>\n",
       "      <td>Iron Man 3</td>\n",
       "      <td>200000000.0</td>\n",
       "      <td>409013994</td>\n",
       "      <td>Shane Black</td>\n",
       "      <td>PG-13</td>\n",
       "      <td>129</td>\n",
       "      <td>2013-05-03 00:00:00</td>\n",
       "      <td>1</td>\n",
       "    </tr>\n",
       "    <tr>\n",
       "      <th>2</th>\n",
       "      <td>Frozen</td>\n",
       "      <td>150000000.0</td>\n",
       "      <td>400738009</td>\n",
       "      <td>Chris BuckJennifer Lee</td>\n",
       "      <td>PG</td>\n",
       "      <td>108</td>\n",
       "      <td>2013-11-22 00:00:00</td>\n",
       "      <td>1</td>\n",
       "    </tr>\n",
       "    <tr>\n",
       "      <th>3</th>\n",
       "      <td>Despicable Me 2</td>\n",
       "      <td>76000000.0</td>\n",
       "      <td>368061265</td>\n",
       "      <td>Pierre CoffinChris Renaud</td>\n",
       "      <td>PG</td>\n",
       "      <td>98</td>\n",
       "      <td>2013-07-03 00:00:00</td>\n",
       "      <td>1</td>\n",
       "    </tr>\n",
       "    <tr>\n",
       "      <th>4</th>\n",
       "      <td>Man of Steel</td>\n",
       "      <td>225000000.0</td>\n",
       "      <td>291045518</td>\n",
       "      <td>Zack Snyder</td>\n",
       "      <td>PG-13</td>\n",
       "      <td>143</td>\n",
       "      <td>2013-06-14 00:00:00</td>\n",
       "      <td>1</td>\n",
       "    </tr>\n",
       "  </tbody>\n",
       "</table>\n",
       "</div>"
      ],
      "text/plain": [
       "                             Title       Budget  DomesticTotalGross  \\\n",
       "0  The Hunger Games: Catching Fire  130000000.0           424668047   \n",
       "1                       Iron Man 3  200000000.0           409013994   \n",
       "2                           Frozen  150000000.0           400738009   \n",
       "3                  Despicable Me 2   76000000.0           368061265   \n",
       "4                     Man of Steel  225000000.0           291045518   \n",
       "\n",
       "                    Director Rating  Runtime          ReleaseDate  Constant  \n",
       "0           Francis Lawrence  PG-13      146  2013-11-22 00:00:00         1  \n",
       "1                Shane Black  PG-13      129  2013-05-03 00:00:00         1  \n",
       "2     Chris BuckJennifer Lee     PG      108  2013-11-22 00:00:00         1  \n",
       "3  Pierre CoffinChris Renaud     PG       98  2013-07-03 00:00:00         1  \n",
       "4                Zack Snyder  PG-13      143  2013-06-14 00:00:00         1  "
      ]
     },
     "execution_count": 162,
     "metadata": {},
     "output_type": "execute_result"
    }
   ],
   "source": [
    "df.head()"
   ]
  },
  {
   "cell_type": "code",
   "execution_count": 171,
   "metadata": {
    "collapsed": false
   },
   "outputs": [
    {
     "data": {
      "text/html": [
       "<div>\n",
       "<table border=\"1\" class=\"dataframe\">\n",
       "  <thead>\n",
       "    <tr style=\"text-align: right;\">\n",
       "      <th></th>\n",
       "      <th>Intercept</th>\n",
       "      <th>Rating[T.PG]</th>\n",
       "      <th>Rating[T.PG-13]</th>\n",
       "      <th>Rating[T.R]</th>\n",
       "      <th>Constant</th>\n",
       "      <th>Budget</th>\n",
       "    </tr>\n",
       "  </thead>\n",
       "  <tbody>\n",
       "    <tr>\n",
       "      <th>95</th>\n",
       "      <td>1.0</td>\n",
       "      <td>0.0</td>\n",
       "      <td>0.0</td>\n",
       "      <td>1.0</td>\n",
       "      <td>1.0</td>\n",
       "      <td>38000000.0</td>\n",
       "    </tr>\n",
       "    <tr>\n",
       "      <th>96</th>\n",
       "      <td>1.0</td>\n",
       "      <td>0.0</td>\n",
       "      <td>1.0</td>\n",
       "      <td>0.0</td>\n",
       "      <td>1.0</td>\n",
       "      <td>40000000.0</td>\n",
       "    </tr>\n",
       "    <tr>\n",
       "      <th>97</th>\n",
       "      <td>1.0</td>\n",
       "      <td>0.0</td>\n",
       "      <td>0.0</td>\n",
       "      <td>1.0</td>\n",
       "      <td>1.0</td>\n",
       "      <td>20000000.0</td>\n",
       "    </tr>\n",
       "    <tr>\n",
       "      <th>98</th>\n",
       "      <td>1.0</td>\n",
       "      <td>0.0</td>\n",
       "      <td>0.0</td>\n",
       "      <td>1.0</td>\n",
       "      <td>1.0</td>\n",
       "      <td>13000000.0</td>\n",
       "    </tr>\n",
       "    <tr>\n",
       "      <th>99</th>\n",
       "      <td>1.0</td>\n",
       "      <td>0.0</td>\n",
       "      <td>0.0</td>\n",
       "      <td>1.0</td>\n",
       "      <td>1.0</td>\n",
       "      <td>23000000.0</td>\n",
       "    </tr>\n",
       "  </tbody>\n",
       "</table>\n",
       "</div>"
      ],
      "text/plain": [
       "    Intercept  Rating[T.PG]  Rating[T.PG-13]  Rating[T.R]  Constant  \\\n",
       "95        1.0           0.0              0.0          1.0       1.0   \n",
       "96        1.0           0.0              1.0          0.0       1.0   \n",
       "97        1.0           0.0              0.0          1.0       1.0   \n",
       "98        1.0           0.0              0.0          1.0       1.0   \n",
       "99        1.0           0.0              0.0          1.0       1.0   \n",
       "\n",
       "        Budget  \n",
       "95  38000000.0  \n",
       "96  40000000.0  \n",
       "97  20000000.0  \n",
       "98  13000000.0  \n",
       "99  23000000.0  "
      ]
     },
     "execution_count": 171,
     "metadata": {},
     "output_type": "execute_result"
    }
   ],
   "source": [
    "y, X = dmatrices('DomesticTotalGross ~ Constant + Budget + Rating', data=df, return_type='dataframe')\n",
    "X.tail()"
   ]
  },
  {
   "cell_type": "code",
   "execution_count": 172,
   "metadata": {
    "collapsed": false
   },
   "outputs": [
    {
     "name": "stdout",
     "output_type": "stream",
     "text": [
      "                            OLS Regression Results                            \n",
      "==============================================================================\n",
      "Dep. Variable:     DomesticTotalGross   R-squared:                       0.701\n",
      "Model:                            OLS   Adj. R-squared:                  0.680\n",
      "Method:                 Least Squares   F-statistic:                     33.95\n",
      "Date:                Tue, 19 Jul 2016   Prob (F-statistic):           1.37e-14\n",
      "Time:                        16:46:25   Log-Likelihood:                -1214.9\n",
      "No. Observations:                  62   AIC:                             2438.\n",
      "Df Residuals:                      58   BIC:                             2446.\n",
      "Df Model:                           4                                         \n",
      "Covariance Type:            nonrobust                                         \n",
      "===================================================================================\n",
      "                      coef    std err          t      P>|t|      [95.0% Conf. Int.]\n",
      "-----------------------------------------------------------------------------------\n",
      "Intercept        2.102e+07   8.12e+06      2.588      0.012      4.76e+06  3.73e+07\n",
      "Rating[T.PG]     1.023e+07   2.01e+07      0.509      0.613        -3e+07  5.05e+07\n",
      "Rating[T.PG-13]  1.179e+06   1.56e+07      0.075      0.940     -3.01e+07  3.25e+07\n",
      "Rating[T.R]      9.611e+06   1.62e+07      0.594      0.555     -2.28e+07   4.2e+07\n",
      "Constant         2.102e+07   8.12e+06      2.588      0.012      4.76e+06  3.73e+07\n",
      "Budget              0.8136      0.199      4.089      0.000         0.415     1.212\n",
      "==============================================================================\n",
      "Omnibus:                       23.062   Durbin-Watson:                   2.196\n",
      "Prob(Omnibus):                  0.000   Jarque-Bera (JB):               39.220\n",
      "Skew:                           1.280   Prob(JB):                     3.04e-09\n",
      "Kurtosis:                       5.938   Cond. No.                     5.78e+24\n",
      "==============================================================================\n",
      "\n",
      "Warnings:\n",
      "[1] Standard Errors assume that the covariance matrix of the errors is correctly specified.\n",
      "[2] The smallest eigenvalue is 1.77e-32. This might indicate that there are\n",
      "strong multicollinearity problems or that the design matrix is singular.\n"
     ]
    }
   ],
   "source": [
    "X_train, X_test, y_train, y_test = train_test_split(X, y, test_size=0.3, random_state=1)\n",
    "model = sm.OLS(y_train, X_train, hasconst=False)\n",
    "results = model.fit()\n",
    "print results.summary()"
   ]
  },
  {
   "cell_type": "code",
   "execution_count": 173,
   "metadata": {
    "collapsed": false
   },
   "outputs": [
    {
     "data": {
      "image/png": "[encoded data removed]",
      "text/plain": [
       "<matplotlib.figure.Figure at 0x11d8d7bd0>"
      ]
     },
     "metadata": {},
     "output_type": "display_data"
    }
   ],
   "source": [
    "pred = results.predict(X_test)\n",
    "plt.scatter(pred, y_test)\n",
    "plt.title(\"Prediction vs Actual\")\n",
    "plt.show()"
   ]
  },
  {
   "cell_type": "markdown",
   "metadata": {},
   "source": [
    "<a id='q4'></a>\n",
    "## Challenge 4\n",
    "\n",
    "Enhance your model further by adding more features and/or transforming existing features. Think about how you build the model matrix and how to interpret what the model is doing.\n"
   ]
  },
  {
   "cell_type": "code",
   "execution_count": 178,
   "metadata": {
    "collapsed": false
   },
   "outputs": [],
   "source": [
    "df['dtg_log'] = np.log(df.DomesticTotalGross)\n",
    "df['budget_log'] = np.log(df.Budget)"
   ]
  },
  {
   "cell_type": "code",
   "execution_count": 183,
   "metadata": {
    "collapsed": false
   },
   "outputs": [
    {
     "name": "stdout",
     "output_type": "stream",
     "text": [
      " \n"
     ]
    },
    {
     "data": {
      "image/png": "[encoded data removed]",
      "text/plain": [
       "<matplotlib.figure.Figure at 0x11ce56150>"
      ]
     },
     "metadata": {},
     "output_type": "display_data"
    }
   ],
   "source": [
    "pd.tools.plotting.scatter_matrix(df[['dtg_log', 'budget_log', 'DomesticTotalGross', 'Budget']])\n",
    "print ' '"
   ]
  },
  {
   "cell_type": "code",
   "execution_count": 193,
   "metadata": {
    "collapsed": false
   },
   "outputs": [
    {
     "name": "stdout",
     "output_type": "stream",
     "text": [
      "                            OLS Regression Results                            \n",
      "==============================================================================\n",
      "Dep. Variable:                dtg_log   R-squared:                       0.999\n",
      "Model:                            OLS   Adj. R-squared:                  0.999\n",
      "Method:                 Least Squares   F-statistic:                 1.131e+04\n",
      "Date:                Tue, 19 Jul 2016   Prob (F-statistic):           3.91e-83\n",
      "Time:                        17:13:41   Log-Likelihood:                -61.531\n",
      "No. Observations:                  62   AIC:                             131.1\n",
      "Df Residuals:                      58   BIC:                             139.6\n",
      "Df Model:                           4                                         \n",
      "Covariance Type:            nonrobust                                         \n",
      "===================================================================================\n",
      "                      coef    std err          t      P>|t|      [95.0% Conf. Int.]\n",
      "-----------------------------------------------------------------------------------\n",
      "Intercept           7.9743      1.458      5.471      0.000         5.057    10.892\n",
      "Rating[T.PG]        2.6431      0.545      4.852      0.000         1.553     3.734\n",
      "Rating[T.PG-13]     2.6067      0.537      4.858      0.000         1.533     3.681\n",
      "Rating[T.R]         2.7244      0.431      6.323      0.000         1.862     3.587\n",
      "budget_log          0.4270      0.109      3.917      0.000         0.209     0.645\n",
      "==============================================================================\n",
      "Omnibus:                        5.405   Durbin-Watson:                   2.360\n",
      "Prob(Omnibus):                  0.067   Jarque-Bera (JB):                2.241\n",
      "Skew:                          -0.023   Prob(JB):                        0.326\n",
      "Kurtosis:                       2.070   Cond. No.                     3.62e+17\n",
      "==============================================================================\n",
      "\n",
      "Warnings:\n",
      "[1] Standard Errors assume that the covariance matrix of the errors is correctly specified.\n",
      "[2] The smallest eigenvalue is 1.51e-31. This might indicate that there are\n",
      "strong multicollinearity problems or that the design matrix is singular.\n"
     ]
    }
   ],
   "source": [
    "y, X = dmatrices('dtg_log ~ budget_log + Rating', data=df, return_type='dataframe')\n",
    "X_train, X_test, y_train, y_test = train_test_split(X, y, test_size=0.3, random_state=1)\n",
    "model = sm.OLS(y_train, X_train, hasconst=False)\n",
    "results = model.fit()\n",
    "print results.summary()"
   ]
  },
  {
   "cell_type": "markdown",
   "metadata": {},
   "source": [
    "<a id='q5'></a>\n",
    "## Challenge 5\n",
    "\n",
    "Fitting and checking predictions on the exact same data set can be misleading. Divide your data into two sets: a training and a test set (roughly 75% training, 25% test is a fine split). Fit a model on the training set, check the predictions (by plotting versus actual values) in the test set."
   ]
  },
  {
   "cell_type": "code",
   "execution_count": 195,
   "metadata": {
    "collapsed": false
   },
   "outputs": [
    {
     "name": "stdout",
     "output_type": "stream",
     "text": [
      "                            OLS Regression Results                            \n",
      "==============================================================================\n",
      "Dep. Variable:                dtg_log   R-squared:                       0.999\n",
      "Model:                            OLS   Adj. R-squared:                  0.999\n",
      "Method:                 Least Squares   F-statistic:                 1.269e+04\n",
      "Date:                Tue, 19 Jul 2016   Prob (F-statistic):           1.50e-89\n",
      "Time:                        17:15:27   Log-Likelihood:                -63.901\n",
      "No. Observations:                  66   AIC:                             135.8\n",
      "Df Residuals:                      62   BIC:                             144.6\n",
      "Df Model:                           4                                         \n",
      "Covariance Type:            nonrobust                                         \n",
      "===================================================================================\n",
      "                      coef    std err          t      P>|t|      [95.0% Conf. Int.]\n",
      "-----------------------------------------------------------------------------------\n",
      "Intercept           8.3056      1.333      6.233      0.000         5.642    10.969\n",
      "Rating[T.PG]        2.7548      0.499      5.515      0.000         1.756     3.753\n",
      "Rating[T.PG-13]     2.7329      0.485      5.636      0.000         1.764     3.702\n",
      "Rating[T.R]         2.8179      0.402      7.002      0.000         2.013     3.622\n",
      "budget_log          0.4025      0.100      4.043      0.000         0.203     0.602\n",
      "==============================================================================\n",
      "Omnibus:                        4.103   Durbin-Watson:                   2.381\n",
      "Prob(Omnibus):                  0.129   Jarque-Bera (JB):                1.987\n",
      "Skew:                          -0.044   Prob(JB):                        0.370\n",
      "Kurtosis:                       2.155   Cond. No.                     9.85e+16\n",
      "==============================================================================\n",
      "\n",
      "Warnings:\n",
      "[1] Standard Errors assume that the covariance matrix of the errors is correctly specified.\n",
      "[2] The smallest eigenvalue is 2.17e-30. This might indicate that there are\n",
      "strong multicollinearity problems or that the design matrix is singular.\n"
     ]
    }
   ],
   "source": [
    "y, X = dmatrices('dtg_log ~ budget_log + Rating', data=df, return_type='dataframe')\n",
    "X_train, X_test, y_train, y_test = train_test_split(X, y, test_size=0.25, random_state=1)\n",
    "model = sm.OLS(y_train, X_train, hasconst=False)\n",
    "results = model.fit()\n",
    "print results.summary()"
   ]
  },
  {
   "cell_type": "code",
   "execution_count": 198,
   "metadata": {
    "collapsed": false
   },
   "outputs": [],
   "source": [
    "p = results.predict(X_test)"
   ]
  },
  {
   "cell_type": "code",
   "execution_count": 212,
   "metadata": {
    "collapsed": false
   },
   "outputs": [
    {
     "data": {
      "text/plain": [
       "array([[ 17.83639658],\n",
       "       [ 17.50543154],\n",
       "       [ 17.9730516 ],\n",
       "       [ 17.93839708],\n",
       "       [ 17.28173968],\n",
       "       [ 17.42423176],\n",
       "       [ 17.8527907 ],\n",
       "       [ 18.23469   ],\n",
       "       [ 18.08309557],\n",
       "       [ 18.30535109],\n",
       "       [ 18.24139195],\n",
       "       [ 18.43854921],\n",
       "       [ 17.61487457],\n",
       "       [ 18.53579419],\n",
       "       [ 17.05686194],\n",
       "       [ 18.02540155],\n",
       "       [ 19.12555742],\n",
       "       [ 19.80881843],\n",
       "       [ 18.31852301],\n",
       "       [ 17.55377845],\n",
       "       [ 18.07844088],\n",
       "       [ 18.70252218],\n",
       "       [ 17.12233444]])"
      ]
     },
     "execution_count": 212,
     "metadata": {},
     "output_type": "execute_result"
    }
   ],
   "source": [
    "y_test.values"
   ]
  },
  {
   "cell_type": "code",
   "execution_count": 213,
   "metadata": {
    "collapsed": false
   },
   "outputs": [],
   "source": [
    "zipped = zip(p, y_test.values)"
   ]
  },
  {
   "cell_type": "code",
   "execution_count": 238,
   "metadata": {
    "collapsed": false
   },
   "outputs": [
    {
     "data": {
      "image/png": "[encoded data removed]",
      "text/plain": [
       "<matplotlib.figure.Figure at 0x11c8751d0>"
      ]
     },
     "metadata": {},
     "output_type": "display_data"
    }
   ],
   "source": [
    "plt.scatter(X_test.budget_log.values, y_test.values, color='red', label=\"Actual\")\n",
    "plt.scatter(X_test.budget_log.values, p, label=\"Prediction\")\n",
    "plt.legend(loc='upper left')\n",
    "plt.show()"
   ]
  },
  {
   "cell_type": "code",
   "execution_count": null,
   "metadata": {
    "collapsed": true
   },
   "outputs": [],
   "source": []
  }
 ],
 "metadata": {
  "kernelspec": {
   "display_name": "Python 2",
   "language": "python",
   "name": "python2"
  },
  "language_info": {
   "codemirror_mode": {
    "name": "ipython",
    "version": 2
   },
   "file_extension": ".py",
   "mimetype": "text/x-python",
   "name": "python",
   "nbconvert_exporter": "python",
   "pygments_lexer": "ipython2",
   "version": "2.7.12"
  }
 },
 "nbformat": 4,
 "nbformat_minor": 0
}
