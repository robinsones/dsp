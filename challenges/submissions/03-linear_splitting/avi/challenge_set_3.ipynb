{
 "cells": [
  {
   "cell_type": "markdown",
   "metadata": {},
   "source": [
    "Challenge Set 3  \n",
    "Topic:        Explore Movie Data  \n",
    "Date:         07/19/2016  \n",
    "Name:         Avi Grunwald  \n",
    "Worked with:  "
   ]
  },
  {
   "cell_type": "code",
   "execution_count": 11,
   "metadata": {
    "collapsed": false
   },
   "outputs": [
    {
     "name": "stderr",
     "output_type": "stream",
     "text": [
      "/home/avi/anaconda3/lib/python3.5/site-packages/IPython/core/interactiveshell.py:2885: FutureWarning: \n",
      "mpl_style had been deprecated and will be removed in a future version.\n",
      "Use `matplotlib.pyplot.style.use` instead.\n",
      "\n",
      "  exec(code_obj, self.user_global_ns, self.user_ns)\n"
     ]
    }
   ],
   "source": [
    "from datetime import datetime\n",
    "import pandas as pd\n",
    "import numpy as np\n",
    "import matplotlib.pyplot as plt\n",
    "import statsmodels.api as sm\n",
    "from patsy import dmatrices\n",
    "from sklearn.linear_model import LinearRegression\n",
    "\n",
    "pd.set_option('display.mpl_style', 'default')\n",
    "pd.set_option('display.float_format', lambda x: '%.2f' % x)\n",
    "%matplotlib inline"
   ]
  },
  {
   "cell_type": "code",
   "execution_count": 2,
   "metadata": {
    "collapsed": false
   },
   "outputs": [],
   "source": [
    "data_start = pd.read_csv('../movies_list_all_df.csv', index_col=0)\n",
    "movie_data = pd.read_csv('/home/avi/Documents/metis/ds/metisgh/nyc16_ds8/challenges/challenges_data/2013_movies.csv')"
   ]
  },
  {
   "cell_type": "code",
   "execution_count": 4,
   "metadata": {
    "collapsed": false
   },
   "outputs": [],
   "source": [
    "data_start['rdm'] = data_start['Release Date'].apply(lambda x: datetime.strptime(x, '%B %d, %Y').strftime('%B'))\n",
    "data_start['rdy'] = data_start['Release Date'].apply(lambda x: datetime.strptime(x, '%B %d, %Y').strftime('%Y'))\n",
    "data_start['Release Date'] = data_start['Release Date'].apply(lambda x: datetime.strptime(x, '%B %d, %Y'))\n",
    "# data_start['rd'] = pd.to_datetime(data_start.rd)\n",
    "\n",
    "data_start['Domestic Total Gross'] = data_start['Domestic Total Gross'].apply(lambda x: int(''.join([i for i in x if i.isnumeric()])))\n",
    "data_start['Opening Weekend Gross'] = data_start['Opening Weekend Gross'].apply(lambda x: int(''.join([i for i in x if i.isnumeric()])))\n",
    "\n",
    "data_start['Runtime'].fillna(value='0 hrs. 0 min.', inplace=True)\n",
    "data_start['Runtime'] = data_start['Runtime'].str.replace(' min.', '').str.split(' hrs. ').apply(lambda x: int(x[0]) * 60 + int(x[1]))\n",
    "data_start = data_start[data_start['Runtime']!=0]"
   ]
  },
  {
   "cell_type": "code",
   "execution_count": 5,
   "metadata": {
    "collapsed": false
   },
   "outputs": [
    {
     "data": {
      "text/html": [
       "<div>\n",
       "<table border=\"1\" class=\"dataframe\">\n",
       "  <thead>\n",
       "    <tr style=\"text-align: right;\">\n",
       "      <th></th>\n",
       "      <th>title</th>\n",
       "      <th>dtg</th>\n",
       "      <th>dist</th>\n",
       "      <th>rd</th>\n",
       "      <th>run</th>\n",
       "      <th>rating</th>\n",
       "      <th>pb</th>\n",
       "      <th>owg</th>\n",
       "      <th>owt</th>\n",
       "      <th>act</th>\n",
       "      <th>series</th>\n",
       "      <th>rdm</th>\n",
       "      <th>rdy</th>\n",
       "    </tr>\n",
       "  </thead>\n",
       "  <tbody>\n",
       "    <tr>\n",
       "      <th>0</th>\n",
       "      <td>Star Wars: The Force Awakens</td>\n",
       "      <td>936662225</td>\n",
       "      <td>Buena Vista</td>\n",
       "      <td>2015-12-18</td>\n",
       "      <td>136</td>\n",
       "      <td>PG-13</td>\n",
       "      <td>$245 million</td>\n",
       "      <td>247966675</td>\n",
       "      <td>4,134</td>\n",
       "      <td>15</td>\n",
       "      <td>Yes</td>\n",
       "      <td>December</td>\n",
       "      <td>2015</td>\n",
       "    </tr>\n",
       "    <tr>\n",
       "      <th>1</th>\n",
       "      <td>Marvel's The Avengers</td>\n",
       "      <td>623357910</td>\n",
       "      <td>Buena Vista</td>\n",
       "      <td>2012-05-04</td>\n",
       "      <td>142</td>\n",
       "      <td>PG-13</td>\n",
       "      <td>$220 million</td>\n",
       "      <td>207438708</td>\n",
       "      <td>4,349</td>\n",
       "      <td>13</td>\n",
       "      <td>Yes</td>\n",
       "      <td>May</td>\n",
       "      <td>2012</td>\n",
       "    </tr>\n",
       "    <tr>\n",
       "      <th>2</th>\n",
       "      <td>Jurassic World</td>\n",
       "      <td>652270625</td>\n",
       "      <td>Universal</td>\n",
       "      <td>2015-06-12</td>\n",
       "      <td>124</td>\n",
       "      <td>PG-13</td>\n",
       "      <td>$150 million</td>\n",
       "      <td>208806270</td>\n",
       "      <td>4,274</td>\n",
       "      <td>7</td>\n",
       "      <td>Yes</td>\n",
       "      <td>June</td>\n",
       "      <td>2015</td>\n",
       "    </tr>\n",
       "    <tr>\n",
       "      <th>3</th>\n",
       "      <td>Avengers: Age of Ultron</td>\n",
       "      <td>459005868</td>\n",
       "      <td>Buena Vista</td>\n",
       "      <td>2015-05-01</td>\n",
       "      <td>141</td>\n",
       "      <td>PG-13</td>\n",
       "      <td>$250 million</td>\n",
       "      <td>191271109</td>\n",
       "      <td>4,276</td>\n",
       "      <td>19</td>\n",
       "      <td>Yes</td>\n",
       "      <td>May</td>\n",
       "      <td>2015</td>\n",
       "    </tr>\n",
       "    <tr>\n",
       "      <th>4</th>\n",
       "      <td>The Dark Knight</td>\n",
       "      <td>533345358</td>\n",
       "      <td>Warner Bros.</td>\n",
       "      <td>2008-07-18</td>\n",
       "      <td>150</td>\n",
       "      <td>PG-13</td>\n",
       "      <td>$185 million</td>\n",
       "      <td>158411483</td>\n",
       "      <td>4,366</td>\n",
       "      <td>11</td>\n",
       "      <td>Yes</td>\n",
       "      <td>July</td>\n",
       "      <td>2008</td>\n",
       "    </tr>\n",
       "  </tbody>\n",
       "</table>\n",
       "</div>"
      ],
      "text/plain": [
       "                          title        dtg          dist         rd  run  \\\n",
       "0  Star Wars: The Force Awakens  936662225   Buena Vista 2015-12-18  136   \n",
       "1         Marvel's The Avengers  623357910   Buena Vista 2012-05-04  142   \n",
       "2                Jurassic World  652270625     Universal 2015-06-12  124   \n",
       "3       Avengers: Age of Ultron  459005868   Buena Vista 2015-05-01  141   \n",
       "4               The Dark Knight  533345358  Warner Bros. 2008-07-18  150   \n",
       "\n",
       "  rating            pb        owg    owt  act series       rdm   rdy  \n",
       "0  PG-13  $245 million  247966675  4,134   15    Yes  December  2015  \n",
       "1  PG-13  $220 million  207438708  4,349   13    Yes       May  2012  \n",
       "2  PG-13  $150 million  208806270  4,274    7    Yes      June  2015  \n",
       "3  PG-13  $250 million  191271109  4,276   19    Yes       May  2015  \n",
       "4  PG-13  $185 million  158411483  4,366   11    Yes      July  2008  "
      ]
     },
     "execution_count": 5,
     "metadata": {},
     "output_type": "execute_result"
    }
   ],
   "source": [
    "data_start.columns = [ 'title', 'dtg', 'dist', 'rd', 'run', 'rating', 'pb', 'owg', 'owt', 'act', 'series', 'rdm', 'rdy']\n",
    "data_start.head()"
   ]
  },
  {
   "cell_type": "code",
   "execution_count": null,
   "metadata": {
    "collapsed": true
   },
   "outputs": [],
   "source": []
  },
  {
   "cell_type": "markdown",
   "metadata": {},
   "source": [
    "**Challenge 1**"
   ]
  },
  {
   "cell_type": "code",
   "execution_count": 6,
   "metadata": {
    "collapsed": false
   },
   "outputs": [
    {
     "data": {
      "text/html": [
       "<div>\n",
       "<table border=\"1\" class=\"dataframe\">\n",
       "  <thead>\n",
       "    <tr style=\"text-align: right;\">\n",
       "      <th></th>\n",
       "      <th>dtg</th>\n",
       "      <th>run</th>\n",
       "      <th>owg</th>\n",
       "      <th>act</th>\n",
       "    </tr>\n",
       "  </thead>\n",
       "  <tbody>\n",
       "    <tr>\n",
       "      <th>count</th>\n",
       "      <td>4662.00</td>\n",
       "      <td>4662.00</td>\n",
       "      <td>4662.00</td>\n",
       "      <td>4662.00</td>\n",
       "    </tr>\n",
       "    <tr>\n",
       "      <th>mean</th>\n",
       "      <td>49654769.06</td>\n",
       "      <td>106.66</td>\n",
       "      <td>13250519.78</td>\n",
       "      <td>3.39</td>\n",
       "    </tr>\n",
       "    <tr>\n",
       "      <th>std</th>\n",
       "      <td>64164326.94</td>\n",
       "      <td>17.99</td>\n",
       "      <td>18445315.52</td>\n",
       "      <td>3.05</td>\n",
       "    </tr>\n",
       "    <tr>\n",
       "      <th>min</th>\n",
       "      <td>131357.00</td>\n",
       "      <td>44.00</td>\n",
       "      <td>96076.00</td>\n",
       "      <td>0.00</td>\n",
       "    </tr>\n",
       "    <tr>\n",
       "      <th>25%</th>\n",
       "      <td>12720194.00</td>\n",
       "      <td>95.00</td>\n",
       "      <td>3607208.00</td>\n",
       "      <td>1.00</td>\n",
       "    </tr>\n",
       "    <tr>\n",
       "      <th>50%</th>\n",
       "      <td>28577830.00</td>\n",
       "      <td>104.00</td>\n",
       "      <td>7217190.50</td>\n",
       "      <td>3.00</td>\n",
       "    </tr>\n",
       "    <tr>\n",
       "      <th>75%</th>\n",
       "      <td>60058878.50</td>\n",
       "      <td>116.00</td>\n",
       "      <td>15165165.00</td>\n",
       "      <td>5.00</td>\n",
       "    </tr>\n",
       "    <tr>\n",
       "      <th>max</th>\n",
       "      <td>936662225.00</td>\n",
       "      <td>229.00</td>\n",
       "      <td>247966675.00</td>\n",
       "      <td>27.00</td>\n",
       "    </tr>\n",
       "  </tbody>\n",
       "</table>\n",
       "</div>"
      ],
      "text/plain": [
       "               dtg     run          owg     act\n",
       "count      4662.00 4662.00      4662.00 4662.00\n",
       "mean   49654769.06  106.66  13250519.78    3.39\n",
       "std    64164326.94   17.99  18445315.52    3.05\n",
       "min      131357.00   44.00     96076.00    0.00\n",
       "25%    12720194.00   95.00   3607208.00    1.00\n",
       "50%    28577830.00  104.00   7217190.50    3.00\n",
       "75%    60058878.50  116.00  15165165.00    5.00\n",
       "max   936662225.00  229.00 247966675.00   27.00"
      ]
     },
     "execution_count": 6,
     "metadata": {},
     "output_type": "execute_result"
    }
   ],
   "source": [
    "data_start.describe()"
   ]
  },
  {
   "cell_type": "code",
   "execution_count": 20,
   "metadata": {
    "collapsed": false
   },
   "outputs": [],
   "source": [
    "ones = np.ones((4662,1))"
   ]
  },
  {
   "cell_type": "code",
   "execution_count": 41,
   "metadata": {
    "collapsed": false
   },
   "outputs": [
    {
     "data": {
      "text/html": [
       "<table class=\"simpletable\">\n",
       "<caption>OLS Regression Results</caption>\n",
       "<tr>\n",
       "  <th>Dep. Variable:</th>           <td>dtg</td>       <th>  R-squared:         </th> <td>  -0.000</td> \n",
       "</tr>\n",
       "<tr>\n",
       "  <th>Model:</th>                   <td>OLS</td>       <th>  Adj. R-squared:    </th> <td>  -0.000</td> \n",
       "</tr>\n",
       "<tr>\n",
       "  <th>Method:</th>             <td>Least Squares</td>  <th>  F-statistic:       </th> <td>    -inf</td> \n",
       "</tr>\n",
       "<tr>\n",
       "  <th>Date:</th>             <td>Tue, 19 Jul 2016</td> <th>  Prob (F-statistic):</th>  <td>   nan</td>  \n",
       "</tr>\n",
       "<tr>\n",
       "  <th>Time:</th>                 <td>17:52:34</td>     <th>  Log-Likelihood:    </th> <td> -90423.</td> \n",
       "</tr>\n",
       "<tr>\n",
       "  <th>No. Observations:</th>      <td>  4662</td>      <th>  AIC:               </th> <td>1.808e+05</td>\n",
       "</tr>\n",
       "<tr>\n",
       "  <th>Df Residuals:</th>          <td>  4661</td>      <th>  BIC:               </th> <td>1.809e+05</td>\n",
       "</tr>\n",
       "<tr>\n",
       "  <th>Df Model:</th>              <td>     0</td>      <th>                     </th>     <td> </td>    \n",
       "</tr>\n",
       "<tr>\n",
       "  <th>Covariance Type:</th>      <td>nonrobust</td>    <th>                     </th>     <td> </td>    \n",
       "</tr>\n",
       "</table>\n",
       "<table class=\"simpletable\">\n",
       "<tr>\n",
       "    <td></td>       <th>coef</th>     <th>std err</th>      <th>t</th>      <th>P>|t|</th> <th>[95.0% Conf. Int.]</th> \n",
       "</tr>\n",
       "<tr>\n",
       "  <th>const</th> <td> 4.965e+07</td> <td>  9.4e+05</td> <td>   52.839</td> <td> 0.000</td> <td> 4.78e+07  5.15e+07</td>\n",
       "</tr>\n",
       "</table>\n",
       "<table class=\"simpletable\">\n",
       "<tr>\n",
       "  <th>Omnibus:</th>       <td>3717.185</td> <th>  Durbin-Watson:     </th>  <td>   0.374</td> \n",
       "</tr>\n",
       "<tr>\n",
       "  <th>Prob(Omnibus):</th>  <td> 0.000</td>  <th>  Jarque-Bera (JB):  </th> <td>107721.900</td>\n",
       "</tr>\n",
       "<tr>\n",
       "  <th>Skew:</th>           <td> 3.627</td>  <th>  Prob(JB):          </th>  <td>    0.00</td> \n",
       "</tr>\n",
       "<tr>\n",
       "  <th>Kurtosis:</th>       <td>25.404</td>  <th>  Cond. No.          </th>  <td>    1.00</td> \n",
       "</tr>\n",
       "</table>"
      ],
      "text/plain": [
       "<class 'statsmodels.iolib.summary.Summary'>\n",
       "\"\"\"\n",
       "                            OLS Regression Results                            \n",
       "==============================================================================\n",
       "Dep. Variable:                    dtg   R-squared:                      -0.000\n",
       "Model:                            OLS   Adj. R-squared:                 -0.000\n",
       "Method:                 Least Squares   F-statistic:                      -inf\n",
       "Date:                Tue, 19 Jul 2016   Prob (F-statistic):                nan\n",
       "Time:                        17:52:34   Log-Likelihood:                -90423.\n",
       "No. Observations:                4662   AIC:                         1.808e+05\n",
       "Df Residuals:                    4661   BIC:                         1.809e+05\n",
       "Df Model:                           0                                         \n",
       "Covariance Type:            nonrobust                                         \n",
       "==============================================================================\n",
       "                 coef    std err          t      P>|t|      [95.0% Conf. Int.]\n",
       "------------------------------------------------------------------------------\n",
       "const       4.965e+07    9.4e+05     52.839      0.000      4.78e+07  5.15e+07\n",
       "==============================================================================\n",
       "Omnibus:                     3717.185   Durbin-Watson:                   0.374\n",
       "Prob(Omnibus):                  0.000   Jarque-Bera (JB):           107721.900\n",
       "Skew:                           3.627   Prob(JB):                         0.00\n",
       "Kurtosis:                      25.404   Cond. No.                         1.00\n",
       "==============================================================================\n",
       "\n",
       "Warnings:\n",
       "[1] Standard Errors assume that the covariance matrix of the errors is correctly specified.\n",
       "\"\"\""
      ]
     },
     "execution_count": 41,
     "metadata": {},
     "output_type": "execute_result"
    }
   ],
   "source": [
    "sm_model = sm.OLS(data_start.dtg, ones)\n",
    "sm_results = sm_model.fit()\n",
    "sm_results.summary()"
   ]
  },
  {
   "cell_type": "code",
   "execution_count": 122,
   "metadata": {
    "collapsed": false
   },
   "outputs": [],
   "source": [
    "X = ones\n",
    "y = data_start.dtg"
   ]
  },
  {
   "cell_type": "code",
   "execution_count": 123,
   "metadata": {
    "collapsed": true
   },
   "outputs": [],
   "source": [
    "from sklearn.linear_model import LinearRegression\n",
    "\n",
    "model = LinearRegression()\n",
    "model.fit(X, y)\n",
    "model.score(X, y)\n",
    "predictions = model.predict(X)"
   ]
  },
  {
   "cell_type": "code",
   "execution_count": 124,
   "metadata": {
    "collapsed": false
   },
   "outputs": [
    {
     "data": {
      "image/png": "[encoded data removed]",
      "text/plain": [
       "<matplotlib.figure.Figure at 0x7fb94e077eb8>"
      ]
     },
     "metadata": {},
     "output_type": "display_data"
    }
   ],
   "source": [
    "plt.figure(figsize=(8,8))\n",
    "plt.bar(range(100), y[:100]/1000000, alpha=.75, label='Actual')\n",
    "plt.scatter(np.array(range(100))+.4, predictions[:100]/1000000, c='black', label='Predictions')\n",
    "plt.legend()\n",
    "plt.ylim(ymin=0)\n",
    "plt.xlim(xmin=0, xmax=100)\n",
    "plt.xlabel('Movie by Index')\n",
    "plt.ylabel('DTG (M)')\n",
    "plt.show()"
   ]
  },
  {
   "cell_type": "markdown",
   "metadata": {},
   "source": [
    "The above model does not have any fluctuation and consistently predicts the same thing for every movie."
   ]
  },
  {
   "cell_type": "code",
   "execution_count": 125,
   "metadata": {
    "collapsed": true
   },
   "outputs": [],
   "source": [
    "residuals = (y - model.predict(X))"
   ]
  },
  {
   "cell_type": "code",
   "execution_count": 126,
   "metadata": {
    "collapsed": false,
    "scrolled": true
   },
   "outputs": [
    {
     "data": {
      "image/png": "[encoded data removed]",
      "text/plain": [
       "<matplotlib.figure.Figure at 0x7fb94e2eb208>"
      ]
     },
     "metadata": {},
     "output_type": "display_data"
    }
   ],
   "source": [
    "plt.hist(residuals/1000000)\n",
    "plt.show()"
   ]
  },
  {
   "cell_type": "markdown",
   "metadata": {},
   "source": [
    "The residuals are right skewed."
   ]
  },
  {
   "cell_type": "markdown",
   "metadata": {},
   "source": [
    "Stats Models Residuals Below"
   ]
  },
  {
   "cell_type": "code",
   "execution_count": 52,
   "metadata": {
    "collapsed": false
   },
   "outputs": [
    {
     "data": {
      "image/png": "[encoded data removed]",
      "text/plain": [
       "<matplotlib.figure.Figure at 0x7f3080f6d7f0>"
      ]
     },
     "metadata": {},
     "output_type": "display_data"
    }
   ],
   "source": [
    "plt.hist(sm_results.resid)\n",
    "plt.ylabel('Count')\n",
    "plt.xlabel('Normalized residuals')\n",
    "plt.show()"
   ]
  },
  {
   "cell_type": "markdown",
   "metadata": {},
   "source": [
    "**Challenge 2**"
   ]
  },
  {
   "cell_type": "code",
   "execution_count": 127,
   "metadata": {
    "collapsed": false,
    "scrolled": true
   },
   "outputs": [
    {
     "name": "stderr",
     "output_type": "stream",
     "text": [
      "/home/avi/anaconda3/lib/python3.5/site-packages/numpy/core/numeric.py:294: FutureWarning: in the future, full(4662, 1) will return an array of dtype('int64')\n",
      "  format(shape, fill_value, array(fill_value).dtype), FutureWarning)\n"
     ]
    },
    {
     "data": {
      "text/html": [
       "<div>\n",
       "<table border=\"1\" class=\"dataframe\">\n",
       "  <thead>\n",
       "    <tr style=\"text-align: right;\">\n",
       "      <th></th>\n",
       "      <th>x1</th>\n",
       "      <th>x2</th>\n",
       "      <th>y</th>\n",
       "    </tr>\n",
       "  </thead>\n",
       "  <tbody>\n",
       "    <tr>\n",
       "      <th>0</th>\n",
       "      <td>1.00</td>\n",
       "      <td>0</td>\n",
       "      <td>936662225</td>\n",
       "    </tr>\n",
       "    <tr>\n",
       "      <th>1</th>\n",
       "      <td>1.00</td>\n",
       "      <td>1</td>\n",
       "      <td>623357910</td>\n",
       "    </tr>\n",
       "    <tr>\n",
       "      <th>2</th>\n",
       "      <td>1.00</td>\n",
       "      <td>2</td>\n",
       "      <td>652270625</td>\n",
       "    </tr>\n",
       "    <tr>\n",
       "      <th>3</th>\n",
       "      <td>1.00</td>\n",
       "      <td>3</td>\n",
       "      <td>459005868</td>\n",
       "    </tr>\n",
       "    <tr>\n",
       "      <th>4</th>\n",
       "      <td>1.00</td>\n",
       "      <td>4</td>\n",
       "      <td>533345358</td>\n",
       "    </tr>\n",
       "  </tbody>\n",
       "</table>\n",
       "</div>"
      ],
      "text/plain": [
       "    x1  x2          y\n",
       "0 1.00   0  936662225\n",
       "1 1.00   1  623357910\n",
       "2 1.00   2  652270625\n",
       "3 1.00   3  459005868\n",
       "4 1.00   4  533345358"
      ]
     },
     "execution_count": 127,
     "metadata": {},
     "output_type": "execute_result"
    }
   ],
   "source": [
    "nums = np.arange(4662)\n",
    "ones2 = np.full((4662), 1)\n",
    "y = data_start.dtg\n",
    "df1 = pd.DataFrame({'y': y, 'x1':ones2, 'x2': nums})\n",
    "df1.head()"
   ]
  },
  {
   "cell_type": "code",
   "execution_count": 8,
   "metadata": {
    "collapsed": false,
    "scrolled": true
   },
   "outputs": [],
   "source": [
    "# y = pd.DataFrame(y)"
   ]
  },
  {
   "cell_type": "code",
   "execution_count": 128,
   "metadata": {
    "collapsed": false
   },
   "outputs": [],
   "source": [
    "y, X = dmatrices('y ~ x1 + x2', data=df1, return_type='dataframe')"
   ]
  },
  {
   "cell_type": "code",
   "execution_count": 129,
   "metadata": {
    "collapsed": false
   },
   "outputs": [],
   "source": [
    "model2 = LinearRegression()\n",
    "model2.fit(X, y)\n",
    "model2.score(X, y)\n",
    "predictions = model2.predict(X)"
   ]
  },
  {
   "cell_type": "code",
   "execution_count": 130,
   "metadata": {
    "collapsed": false,
    "scrolled": false
   },
   "outputs": [
    {
     "data": {
      "image/png": "[encoded data removed]",
      "text/plain": [
       "<matplotlib.figure.Figure at 0x7fb94d8a6668>"
      ]
     },
     "metadata": {},
     "output_type": "display_data"
    }
   ],
   "source": [
    "plt.figure(figsize=(8,8))\n",
    "plt.bar(range(100), y.y[:100]/1000000, alpha=.75, label='Actual')\n",
    "plt.scatter(np.array(range(100))+.4, predictions[:100]/1000000, c='black', label='Predictions')\n",
    "plt.legend()\n",
    "plt.ylim(ymin=0)\n",
    "plt.xlim(xmin=0, xmax=100)\n",
    "plt.xlabel('Movie by Index')\n",
    "plt.ylabel('DTG (M)')\n",
    "plt.show()"
   ]
  },
  {
   "cell_type": "code",
   "execution_count": 65,
   "metadata": {
    "collapsed": false
   },
   "outputs": [],
   "source": [
    "residuals = (y - predictions)"
   ]
  },
  {
   "cell_type": "code",
   "execution_count": 74,
   "metadata": {
    "collapsed": false
   },
   "outputs": [
    {
     "data": {
      "image/png": "[encoded data removed]",
      "text/plain": [
       "<matplotlib.figure.Figure at 0x7fb94e5b43c8>"
      ]
     },
     "metadata": {},
     "output_type": "display_data"
    }
   ],
   "source": [
    "plt.plot(X.x2, predictions/1000000)\n",
    "plt.ylabel('Feature: x2')\n",
    "plt.xlabel('DTG Prediction (M)')\n",
    "plt.show()"
   ]
  },
  {
   "cell_type": "markdown",
   "metadata": {},
   "source": [
    "Top grossing got number 0, second 1, third 2, etc. hence declining prediction with higher x2 value."
   ]
  },
  {
   "cell_type": "code",
   "execution_count": 73,
   "metadata": {
    "collapsed": false
   },
   "outputs": [
    {
     "data": {
      "image/png": "[encoded data removed]",
      "text/plain": [
       "<matplotlib.figure.Figure at 0x7fb94e651a58>"
      ]
     },
     "metadata": {},
     "output_type": "display_data"
    }
   ],
   "source": [
    "plt.plot(residuals/1000000, X.x2)\n",
    "plt.ylabel('Feature Residual: x2')\n",
    "plt.xlabel('DTG Prediction (M)')\n",
    "plt.show()"
   ]
  },
  {
   "cell_type": "markdown",
   "metadata": {},
   "source": [
    "**Challenge 3**"
   ]
  },
  {
   "cell_type": "code",
   "execution_count": 131,
   "metadata": {
    "collapsed": true
   },
   "outputs": [],
   "source": [
    "df1['rdm'] = data_start.rdm"
   ]
  },
  {
   "cell_type": "code",
   "execution_count": 132,
   "metadata": {
    "collapsed": false
   },
   "outputs": [],
   "source": [
    "y, X = dmatrices('y ~ x1 + x2 + rdm', data=df1, return_type='dataframe')"
   ]
  },
  {
   "cell_type": "code",
   "execution_count": 133,
   "metadata": {
    "collapsed": false
   },
   "outputs": [],
   "source": [
    "model2 = LinearRegression()\n",
    "model2.fit(X, y)\n",
    "model2.score(X, y)\n",
    "predictions = model2.predict(X)"
   ]
  },
  {
   "cell_type": "code",
   "execution_count": 134,
   "metadata": {
    "collapsed": false
   },
   "outputs": [
    {
     "data": {
      "text/html": [
       "<div>\n",
       "<table border=\"1\" class=\"dataframe\">\n",
       "  <thead>\n",
       "    <tr style=\"text-align: right;\">\n",
       "      <th></th>\n",
       "      <th>Intercept</th>\n",
       "      <th>rdm[T.August]</th>\n",
       "      <th>rdm[T.December]</th>\n",
       "      <th>rdm[T.February]</th>\n",
       "      <th>rdm[T.January]</th>\n",
       "      <th>rdm[T.July]</th>\n",
       "      <th>rdm[T.June]</th>\n",
       "      <th>rdm[T.March]</th>\n",
       "      <th>rdm[T.May]</th>\n",
       "      <th>rdm[T.November]</th>\n",
       "      <th>rdm[T.October]</th>\n",
       "      <th>rdm[T.September]</th>\n",
       "      <th>x1</th>\n",
       "      <th>x2</th>\n",
       "    </tr>\n",
       "  </thead>\n",
       "  <tbody>\n",
       "    <tr>\n",
       "      <th>0</th>\n",
       "      <td>1.00</td>\n",
       "      <td>0.00</td>\n",
       "      <td>1.00</td>\n",
       "      <td>0.00</td>\n",
       "      <td>0.00</td>\n",
       "      <td>0.00</td>\n",
       "      <td>0.00</td>\n",
       "      <td>0.00</td>\n",
       "      <td>0.00</td>\n",
       "      <td>0.00</td>\n",
       "      <td>0.00</td>\n",
       "      <td>0.00</td>\n",
       "      <td>1.00</td>\n",
       "      <td>0.00</td>\n",
       "    </tr>\n",
       "    <tr>\n",
       "      <th>1</th>\n",
       "      <td>1.00</td>\n",
       "      <td>0.00</td>\n",
       "      <td>0.00</td>\n",
       "      <td>0.00</td>\n",
       "      <td>0.00</td>\n",
       "      <td>0.00</td>\n",
       "      <td>0.00</td>\n",
       "      <td>0.00</td>\n",
       "      <td>1.00</td>\n",
       "      <td>0.00</td>\n",
       "      <td>0.00</td>\n",
       "      <td>0.00</td>\n",
       "      <td>1.00</td>\n",
       "      <td>1.00</td>\n",
       "    </tr>\n",
       "    <tr>\n",
       "      <th>2</th>\n",
       "      <td>1.00</td>\n",
       "      <td>0.00</td>\n",
       "      <td>0.00</td>\n",
       "      <td>0.00</td>\n",
       "      <td>0.00</td>\n",
       "      <td>0.00</td>\n",
       "      <td>1.00</td>\n",
       "      <td>0.00</td>\n",
       "      <td>0.00</td>\n",
       "      <td>0.00</td>\n",
       "      <td>0.00</td>\n",
       "      <td>0.00</td>\n",
       "      <td>1.00</td>\n",
       "      <td>2.00</td>\n",
       "    </tr>\n",
       "    <tr>\n",
       "      <th>3</th>\n",
       "      <td>1.00</td>\n",
       "      <td>0.00</td>\n",
       "      <td>0.00</td>\n",
       "      <td>0.00</td>\n",
       "      <td>0.00</td>\n",
       "      <td>0.00</td>\n",
       "      <td>0.00</td>\n",
       "      <td>0.00</td>\n",
       "      <td>1.00</td>\n",
       "      <td>0.00</td>\n",
       "      <td>0.00</td>\n",
       "      <td>0.00</td>\n",
       "      <td>1.00</td>\n",
       "      <td>3.00</td>\n",
       "    </tr>\n",
       "    <tr>\n",
       "      <th>4</th>\n",
       "      <td>1.00</td>\n",
       "      <td>0.00</td>\n",
       "      <td>0.00</td>\n",
       "      <td>0.00</td>\n",
       "      <td>0.00</td>\n",
       "      <td>1.00</td>\n",
       "      <td>0.00</td>\n",
       "      <td>0.00</td>\n",
       "      <td>0.00</td>\n",
       "      <td>0.00</td>\n",
       "      <td>0.00</td>\n",
       "      <td>0.00</td>\n",
       "      <td>1.00</td>\n",
       "      <td>4.00</td>\n",
       "    </tr>\n",
       "  </tbody>\n",
       "</table>\n",
       "</div>"
      ],
      "text/plain": [
       "   Intercept  rdm[T.August]  rdm[T.December]  rdm[T.February]  rdm[T.January]  \\\n",
       "0       1.00           0.00             1.00             0.00            0.00   \n",
       "1       1.00           0.00             0.00             0.00            0.00   \n",
       "2       1.00           0.00             0.00             0.00            0.00   \n",
       "3       1.00           0.00             0.00             0.00            0.00   \n",
       "4       1.00           0.00             0.00             0.00            0.00   \n",
       "\n",
       "   rdm[T.July]  rdm[T.June]  rdm[T.March]  rdm[T.May]  rdm[T.November]  \\\n",
       "0         0.00         0.00          0.00        0.00             0.00   \n",
       "1         0.00         0.00          0.00        1.00             0.00   \n",
       "2         0.00         1.00          0.00        0.00             0.00   \n",
       "3         0.00         0.00          0.00        1.00             0.00   \n",
       "4         1.00         0.00          0.00        0.00             0.00   \n",
       "\n",
       "   rdm[T.October]  rdm[T.September]   x1   x2  \n",
       "0            0.00              0.00 1.00 0.00  \n",
       "1            0.00              0.00 1.00 1.00  \n",
       "2            0.00              0.00 1.00 2.00  \n",
       "3            0.00              0.00 1.00 3.00  \n",
       "4            0.00              0.00 1.00 4.00  "
      ]
     },
     "execution_count": 134,
     "metadata": {},
     "output_type": "execute_result"
    }
   ],
   "source": [
    "X.head()"
   ]
  },
  {
   "cell_type": "code",
   "execution_count": 135,
   "metadata": {
    "collapsed": false
   },
   "outputs": [
    {
     "data": {
      "image/png": "[encoded data removed]",
      "text/plain": [
       "<matplotlib.figure.Figure at 0x7fb94df60518>"
      ]
     },
     "metadata": {},
     "output_type": "display_data"
    }
   ],
   "source": [
    "plt.figure(figsize=(8,8))\n",
    "plt.bar(range(100), y.y[:100]/1000000, alpha=.75, label='Actual')\n",
    "plt.scatter(np.array(range(100))+.4, predictions[:100]/1000000, c='black', label='Predictions')\n",
    "plt.legend()\n",
    "plt.ylim(ymin=0)\n",
    "plt.xlim(xmin=0, xmax=100)\n",
    "plt.xlabel('Movie by Index')\n",
    "plt.ylabel('DTG (M)')\n",
    "plt.show()"
   ]
  },
  {
   "cell_type": "code",
   "execution_count": 84,
   "metadata": {
    "collapsed": false
   },
   "outputs": [],
   "source": [
    "residuals = (y - predictions)"
   ]
  },
  {
   "cell_type": "code",
   "execution_count": 85,
   "metadata": {
    "collapsed": false,
    "scrolled": false
   },
   "outputs": [
    {
     "data": {
      "image/png": "[encoded data removed]",
      "text/plain": [
       "<matplotlib.figure.Figure at 0x7fb94e694e10>"
      ]
     },
     "metadata": {},
     "output_type": "display_data"
    }
   ],
   "source": [
    "plt.plot(residuals/1000000)\n",
    "plt.show()"
   ]
  },
  {
   "cell_type": "markdown",
   "metadata": {},
   "source": [
    "It is converting a categorical into numerical by making each into its own column and associating it with 0 or 1."
   ]
  },
  {
   "cell_type": "markdown",
   "metadata": {},
   "source": [
    "**Challenge 4**"
   ]
  },
  {
   "cell_type": "code",
   "execution_count": 136,
   "metadata": {
    "collapsed": false
   },
   "outputs": [],
   "source": [
    "y, X = dmatrices('dtg ~ series + rdm + owt', data=data_start, return_type='dataframe')"
   ]
  },
  {
   "cell_type": "code",
   "execution_count": 137,
   "metadata": {
    "collapsed": false
   },
   "outputs": [],
   "source": [
    "model2 = LinearRegression()\n",
    "model2.fit(X, y)\n",
    "model2.score(X, y)\n",
    "predictions = model2.predict(X)"
   ]
  },
  {
   "cell_type": "code",
   "execution_count": 104,
   "metadata": {
    "collapsed": false
   },
   "outputs": [
    {
     "data": {
      "text/html": [
       "<div>\n",
       "<table border=\"1\" class=\"dataframe\">\n",
       "  <thead>\n",
       "    <tr style=\"text-align: right;\">\n",
       "      <th></th>\n",
       "      <th>Intercept</th>\n",
       "      <th>series[T.Yes]</th>\n",
       "      <th>rdm[T.August]</th>\n",
       "      <th>rdm[T.December]</th>\n",
       "      <th>rdm[T.February]</th>\n",
       "      <th>rdm[T.January]</th>\n",
       "      <th>rdm[T.July]</th>\n",
       "      <th>rdm[T.June]</th>\n",
       "      <th>rdm[T.March]</th>\n",
       "      <th>rdm[T.May]</th>\n",
       "      <th>...</th>\n",
       "      <th>owt[T.987]</th>\n",
       "      <th>owt[T.988]</th>\n",
       "      <th>owt[T.989]</th>\n",
       "      <th>owt[T.990]</th>\n",
       "      <th>owt[T.991]</th>\n",
       "      <th>owt[T.992]</th>\n",
       "      <th>owt[T.993]</th>\n",
       "      <th>owt[T.994]</th>\n",
       "      <th>owt[T.995]</th>\n",
       "      <th>owt[T.996]</th>\n",
       "    </tr>\n",
       "  </thead>\n",
       "  <tbody>\n",
       "    <tr>\n",
       "      <th>0</th>\n",
       "      <td>1.00</td>\n",
       "      <td>1.00</td>\n",
       "      <td>0.00</td>\n",
       "      <td>1.00</td>\n",
       "      <td>0.00</td>\n",
       "      <td>0.00</td>\n",
       "      <td>0.00</td>\n",
       "      <td>0.00</td>\n",
       "      <td>0.00</td>\n",
       "      <td>0.00</td>\n",
       "      <td>...</td>\n",
       "      <td>0.00</td>\n",
       "      <td>0.00</td>\n",
       "      <td>0.00</td>\n",
       "      <td>0.00</td>\n",
       "      <td>0.00</td>\n",
       "      <td>0.00</td>\n",
       "      <td>0.00</td>\n",
       "      <td>0.00</td>\n",
       "      <td>0.00</td>\n",
       "      <td>0.00</td>\n",
       "    </tr>\n",
       "    <tr>\n",
       "      <th>1</th>\n",
       "      <td>1.00</td>\n",
       "      <td>1.00</td>\n",
       "      <td>0.00</td>\n",
       "      <td>0.00</td>\n",
       "      <td>0.00</td>\n",
       "      <td>0.00</td>\n",
       "      <td>0.00</td>\n",
       "      <td>0.00</td>\n",
       "      <td>0.00</td>\n",
       "      <td>1.00</td>\n",
       "      <td>...</td>\n",
       "      <td>0.00</td>\n",
       "      <td>0.00</td>\n",
       "      <td>0.00</td>\n",
       "      <td>0.00</td>\n",
       "      <td>0.00</td>\n",
       "      <td>0.00</td>\n",
       "      <td>0.00</td>\n",
       "      <td>0.00</td>\n",
       "      <td>0.00</td>\n",
       "      <td>0.00</td>\n",
       "    </tr>\n",
       "    <tr>\n",
       "      <th>2</th>\n",
       "      <td>1.00</td>\n",
       "      <td>1.00</td>\n",
       "      <td>0.00</td>\n",
       "      <td>0.00</td>\n",
       "      <td>0.00</td>\n",
       "      <td>0.00</td>\n",
       "      <td>0.00</td>\n",
       "      <td>1.00</td>\n",
       "      <td>0.00</td>\n",
       "      <td>0.00</td>\n",
       "      <td>...</td>\n",
       "      <td>0.00</td>\n",
       "      <td>0.00</td>\n",
       "      <td>0.00</td>\n",
       "      <td>0.00</td>\n",
       "      <td>0.00</td>\n",
       "      <td>0.00</td>\n",
       "      <td>0.00</td>\n",
       "      <td>0.00</td>\n",
       "      <td>0.00</td>\n",
       "      <td>0.00</td>\n",
       "    </tr>\n",
       "    <tr>\n",
       "      <th>3</th>\n",
       "      <td>1.00</td>\n",
       "      <td>1.00</td>\n",
       "      <td>0.00</td>\n",
       "      <td>0.00</td>\n",
       "      <td>0.00</td>\n",
       "      <td>0.00</td>\n",
       "      <td>0.00</td>\n",
       "      <td>0.00</td>\n",
       "      <td>0.00</td>\n",
       "      <td>1.00</td>\n",
       "      <td>...</td>\n",
       "      <td>0.00</td>\n",
       "      <td>0.00</td>\n",
       "      <td>0.00</td>\n",
       "      <td>0.00</td>\n",
       "      <td>0.00</td>\n",
       "      <td>0.00</td>\n",
       "      <td>0.00</td>\n",
       "      <td>0.00</td>\n",
       "      <td>0.00</td>\n",
       "      <td>0.00</td>\n",
       "    </tr>\n",
       "    <tr>\n",
       "      <th>4</th>\n",
       "      <td>1.00</td>\n",
       "      <td>1.00</td>\n",
       "      <td>0.00</td>\n",
       "      <td>0.00</td>\n",
       "      <td>0.00</td>\n",
       "      <td>0.00</td>\n",
       "      <td>1.00</td>\n",
       "      <td>0.00</td>\n",
       "      <td>0.00</td>\n",
       "      <td>0.00</td>\n",
       "      <td>...</td>\n",
       "      <td>0.00</td>\n",
       "      <td>0.00</td>\n",
       "      <td>0.00</td>\n",
       "      <td>0.00</td>\n",
       "      <td>0.00</td>\n",
       "      <td>0.00</td>\n",
       "      <td>0.00</td>\n",
       "      <td>0.00</td>\n",
       "      <td>0.00</td>\n",
       "      <td>0.00</td>\n",
       "    </tr>\n",
       "  </tbody>\n",
       "</table>\n",
       "<p>5 rows × 2409 columns</p>\n",
       "</div>"
      ],
      "text/plain": [
       "   Intercept  series[T.Yes]  rdm[T.August]  rdm[T.December]  rdm[T.February]  \\\n",
       "0       1.00           1.00           0.00             1.00             0.00   \n",
       "1       1.00           1.00           0.00             0.00             0.00   \n",
       "2       1.00           1.00           0.00             0.00             0.00   \n",
       "3       1.00           1.00           0.00             0.00             0.00   \n",
       "4       1.00           1.00           0.00             0.00             0.00   \n",
       "\n",
       "   rdm[T.January]  rdm[T.July]  rdm[T.June]  rdm[T.March]  rdm[T.May]  \\\n",
       "0            0.00         0.00         0.00          0.00        0.00   \n",
       "1            0.00         0.00         0.00          0.00        1.00   \n",
       "2            0.00         0.00         1.00          0.00        0.00   \n",
       "3            0.00         0.00         0.00          0.00        1.00   \n",
       "4            0.00         1.00         0.00          0.00        0.00   \n",
       "\n",
       "      ...      owt[T.987]  owt[T.988]  owt[T.989]  owt[T.990]  owt[T.991]  \\\n",
       "0     ...            0.00        0.00        0.00        0.00        0.00   \n",
       "1     ...            0.00        0.00        0.00        0.00        0.00   \n",
       "2     ...            0.00        0.00        0.00        0.00        0.00   \n",
       "3     ...            0.00        0.00        0.00        0.00        0.00   \n",
       "4     ...            0.00        0.00        0.00        0.00        0.00   \n",
       "\n",
       "   owt[T.992]  owt[T.993]  owt[T.994]  owt[T.995]  owt[T.996]  \n",
       "0        0.00        0.00        0.00        0.00        0.00  \n",
       "1        0.00        0.00        0.00        0.00        0.00  \n",
       "2        0.00        0.00        0.00        0.00        0.00  \n",
       "3        0.00        0.00        0.00        0.00        0.00  \n",
       "4        0.00        0.00        0.00        0.00        0.00  \n",
       "\n",
       "[5 rows x 2409 columns]"
      ]
     },
     "execution_count": 104,
     "metadata": {},
     "output_type": "execute_result"
    }
   ],
   "source": [
    "X.head()"
   ]
  },
  {
   "cell_type": "code",
   "execution_count": 138,
   "metadata": {
    "collapsed": false
   },
   "outputs": [
    {
     "data": {
      "image/png": "[encoded data removed]",
      "text/plain": [
       "<matplotlib.figure.Figure at 0x7fb94e60de80>"
      ]
     },
     "metadata": {},
     "output_type": "display_data"
    }
   ],
   "source": [
    "plt.figure(figsize=(8,8))\n",
    "plt.bar(range(100), y.dtg[:100]/1000000, alpha=.75, label='Actual')\n",
    "plt.scatter(np.array(range(100))+.4, predictions[:100]/1000000, c='black', label='Predictions')\n",
    "plt.legend()\n",
    "plt.ylim(ymin=0)\n",
    "plt.xlim(xmin=0, xmax=100)\n",
    "plt.xlabel('Movie by Index')\n",
    "plt.ylabel('DTG (M)')\n",
    "plt.show()"
   ]
  },
  {
   "cell_type": "code",
   "execution_count": 106,
   "metadata": {
    "collapsed": false
   },
   "outputs": [],
   "source": [
    "residuals = (y - predictions)"
   ]
  },
  {
   "cell_type": "code",
   "execution_count": 107,
   "metadata": {
    "collapsed": false,
    "scrolled": false
   },
   "outputs": [
    {
     "data": {
      "image/png": "[encoded data removed]",
      "text/plain": [
       "<matplotlib.figure.Figure at 0x7fb94e1c3588>"
      ]
     },
     "metadata": {},
     "output_type": "display_data"
    }
   ],
   "source": [
    "plt.plot(residuals/1000000)\n",
    "plt.show()"
   ]
  },
  {
   "cell_type": "code",
   "execution_count": 87,
   "metadata": {
    "collapsed": false
   },
   "outputs": [
    {
     "data": {
      "text/html": [
       "<div>\n",
       "<table border=\"1\" class=\"dataframe\">\n",
       "  <thead>\n",
       "    <tr style=\"text-align: right;\">\n",
       "      <th></th>\n",
       "      <th>title</th>\n",
       "      <th>dtg</th>\n",
       "      <th>dist</th>\n",
       "      <th>rd</th>\n",
       "      <th>run</th>\n",
       "      <th>rating</th>\n",
       "      <th>pb</th>\n",
       "      <th>owg</th>\n",
       "      <th>owt</th>\n",
       "      <th>act</th>\n",
       "      <th>series</th>\n",
       "      <th>rdm</th>\n",
       "      <th>rdy</th>\n",
       "    </tr>\n",
       "  </thead>\n",
       "  <tbody>\n",
       "    <tr>\n",
       "      <th>0</th>\n",
       "      <td>Star Wars: The Force Awakens</td>\n",
       "      <td>936662225</td>\n",
       "      <td>Buena Vista</td>\n",
       "      <td>2015-12-18</td>\n",
       "      <td>136</td>\n",
       "      <td>PG-13</td>\n",
       "      <td>$245 million</td>\n",
       "      <td>247966675</td>\n",
       "      <td>4,134</td>\n",
       "      <td>15</td>\n",
       "      <td>Yes</td>\n",
       "      <td>December</td>\n",
       "      <td>2015</td>\n",
       "    </tr>\n",
       "    <tr>\n",
       "      <th>1</th>\n",
       "      <td>Marvel's The Avengers</td>\n",
       "      <td>623357910</td>\n",
       "      <td>Buena Vista</td>\n",
       "      <td>2012-05-04</td>\n",
       "      <td>142</td>\n",
       "      <td>PG-13</td>\n",
       "      <td>$220 million</td>\n",
       "      <td>207438708</td>\n",
       "      <td>4,349</td>\n",
       "      <td>13</td>\n",
       "      <td>Yes</td>\n",
       "      <td>May</td>\n",
       "      <td>2012</td>\n",
       "    </tr>\n",
       "    <tr>\n",
       "      <th>2</th>\n",
       "      <td>Jurassic World</td>\n",
       "      <td>652270625</td>\n",
       "      <td>Universal</td>\n",
       "      <td>2015-06-12</td>\n",
       "      <td>124</td>\n",
       "      <td>PG-13</td>\n",
       "      <td>$150 million</td>\n",
       "      <td>208806270</td>\n",
       "      <td>4,274</td>\n",
       "      <td>7</td>\n",
       "      <td>Yes</td>\n",
       "      <td>June</td>\n",
       "      <td>2015</td>\n",
       "    </tr>\n",
       "    <tr>\n",
       "      <th>3</th>\n",
       "      <td>Avengers: Age of Ultron</td>\n",
       "      <td>459005868</td>\n",
       "      <td>Buena Vista</td>\n",
       "      <td>2015-05-01</td>\n",
       "      <td>141</td>\n",
       "      <td>PG-13</td>\n",
       "      <td>$250 million</td>\n",
       "      <td>191271109</td>\n",
       "      <td>4,276</td>\n",
       "      <td>19</td>\n",
       "      <td>Yes</td>\n",
       "      <td>May</td>\n",
       "      <td>2015</td>\n",
       "    </tr>\n",
       "    <tr>\n",
       "      <th>4</th>\n",
       "      <td>The Dark Knight</td>\n",
       "      <td>533345358</td>\n",
       "      <td>Warner Bros.</td>\n",
       "      <td>2008-07-18</td>\n",
       "      <td>150</td>\n",
       "      <td>PG-13</td>\n",
       "      <td>$185 million</td>\n",
       "      <td>158411483</td>\n",
       "      <td>4,366</td>\n",
       "      <td>11</td>\n",
       "      <td>Yes</td>\n",
       "      <td>July</td>\n",
       "      <td>2008</td>\n",
       "    </tr>\n",
       "  </tbody>\n",
       "</table>\n",
       "</div>"
      ],
      "text/plain": [
       "                          title        dtg          dist         rd  run  \\\n",
       "0  Star Wars: The Force Awakens  936662225   Buena Vista 2015-12-18  136   \n",
       "1         Marvel's The Avengers  623357910   Buena Vista 2012-05-04  142   \n",
       "2                Jurassic World  652270625     Universal 2015-06-12  124   \n",
       "3       Avengers: Age of Ultron  459005868   Buena Vista 2015-05-01  141   \n",
       "4               The Dark Knight  533345358  Warner Bros. 2008-07-18  150   \n",
       "\n",
       "  rating            pb        owg    owt  act series       rdm   rdy  \n",
       "0  PG-13  $245 million  247966675  4,134   15    Yes  December  2015  \n",
       "1  PG-13  $220 million  207438708  4,349   13    Yes       May  2012  \n",
       "2  PG-13  $150 million  208806270  4,274    7    Yes      June  2015  \n",
       "3  PG-13  $250 million  191271109  4,276   19    Yes       May  2015  \n",
       "4  PG-13  $185 million  158411483  4,366   11    Yes      July  2008  "
      ]
     },
     "execution_count": 87,
     "metadata": {},
     "output_type": "execute_result"
    }
   ],
   "source": [
    "data_start.head()"
   ]
  },
  {
   "cell_type": "markdown",
   "metadata": {},
   "source": [
    "**Challenge 5**"
   ]
  },
  {
   "cell_type": "code",
   "execution_count": 139,
   "metadata": {
    "collapsed": true
   },
   "outputs": [],
   "source": [
    "from sklearn import cross_validation as cv\n",
    "x_train, x_test, y_train, y_test = cv.train_test_split(X,y,test_size=0.25,random_state=1234)\n",
    "model = LinearRegression().fit(x_train, y_train)"
   ]
  },
  {
   "cell_type": "code",
   "execution_count": 140,
   "metadata": {
    "collapsed": false
   },
   "outputs": [],
   "source": [
    "predictions = model2.predict(x_test)"
   ]
  },
  {
   "cell_type": "code",
   "execution_count": 141,
   "metadata": {
    "collapsed": false
   },
   "outputs": [
    {
     "data": {
      "image/png": "[encoded data removed]",
      "text/plain": [
       "<matplotlib.figure.Figure at 0x7fb94e6b1748>"
      ]
     },
     "metadata": {},
     "output_type": "display_data"
    }
   ],
   "source": [
    "plt.figure(figsize=(8,8))\n",
    "plt.bar(range(200), y_test.dtg[:200]/1000000, alpha=.75, label='Test Actual')\n",
    "plt.scatter(np.array(range(200))+.4, predictions[:200]/1000000, c='black', label='Predictions')\n",
    "plt.legend()\n",
    "plt.ylim(ymin=0)\n",
    "plt.xlim(xmin=0, xmax=200)\n",
    "plt.xlabel('Movie by Index')\n",
    "plt.ylabel('DTG (M)')\n",
    "plt.show()"
   ]
  },
  {
   "cell_type": "code",
   "execution_count": null,
   "metadata": {
    "collapsed": true
   },
   "outputs": [],
   "source": []
  }
 ],
 "metadata": {
  "kernelspec": {
   "display_name": "Python 3",
   "language": "python",
   "name": "python3"
  },
  "language_info": {
   "codemirror_mode": {
    "name": "ipython",
    "version": 3
   },
   "file_extension": ".py",
   "mimetype": "text/x-python",
   "name": "python",
   "nbconvert_exporter": "python",
   "pygments_lexer": "ipython3",
   "version": "3.5.2"
  }
 },
 "nbformat": 4,
 "nbformat_minor": 0
}
