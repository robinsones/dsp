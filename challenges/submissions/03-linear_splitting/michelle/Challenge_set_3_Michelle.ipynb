{
 "cells": [
  {
   "cell_type": "code",
   "execution_count": 1,
   "metadata": {
    "ExecuteTime": {
     "end_time": "2016-07-25T20:06:26.732469",
     "start_time": "2016-07-25T20:06:26.704669"
    },
    "collapsed": false
   },
   "outputs": [
    {
     "data": {
      "application/javascript": [
       "$.getScript('https://raw.githubusercontent.com/mlgill/ipython_notebook_goodies/gh-pages/ipython_notebook_toc.js')"
      ],
      "text/plain": [
       "<IPython.core.display.Javascript object>"
      ]
     },
     "metadata": {},
     "output_type": "display_data"
    }
   ],
   "source": [
    "%%javascript\n",
    "$.getScript('https://raw.githubusercontent.com/mlgill/ipython_notebook_goodies/gh-pages/ipython_notebook_toc.js')"
   ]
  },
  {
   "cell_type": "markdown",
   "metadata": {},
   "source": [
    "# Challenge Set 3\n",
    "\n",
    "| Title        | Answer                     |\n",
    "| :---------- | :------------------------ |\n",
    "| Topic:       | Linear Regression and Train/Test Split | \n",
    "| Date:        | 2016/07/17                 |\n",
    "| Name:        | Michelle L. Gill           |\n",
    "| Worked with: | None                       | \n",
    "\n",
    "<h1 id=\"tocheading\">Table of Contents</h1>\n",
    "<div id=\"toc\"></div>"
   ]
  },
  {
   "cell_type": "code",
   "execution_count": 33,
   "metadata": {
    "ExecuteTime": {
     "end_time": "2016-07-25T20:27:20.293423",
     "start_time": "2016-07-25T20:27:20.279046"
    },
    "collapsed": false
   },
   "outputs": [],
   "source": [
    "import pandas as pd\n",
    "import numpy as np\n",
    "\n",
    "import statsmodels.formula.api as sm\n",
    "from sklearn.cross_validation import train_test_split\n",
    "\n",
    "import matplotlib.pyplot as plt\n",
    "from matplotlib.ticker import FuncFormatter\n",
    "import seaborn as sns\n",
    "\n",
    "sns.set_context('talk')\n",
    "sns.set_palette('dark')\n",
    "sns.set_style('white')\n",
    "\n",
    "%matplotlib inline"
   ]
  },
  {
   "cell_type": "code",
   "execution_count": 34,
   "metadata": {
    "ExecuteTime": {
     "end_time": "2016-07-25T20:27:20.655680",
     "start_time": "2016-07-25T20:27:20.623702"
    },
    "collapsed": false
   },
   "outputs": [
    {
     "data": {
      "text/html": [
       "<div>\n",
       "<table border=\"1\" class=\"dataframe\">\n",
       "  <thead>\n",
       "    <tr style=\"text-align: right;\">\n",
       "      <th></th>\n",
       "      <th>Title</th>\n",
       "      <th>Budget</th>\n",
       "      <th>DomesticTotalGross</th>\n",
       "      <th>Director</th>\n",
       "      <th>Rating</th>\n",
       "      <th>Runtime</th>\n",
       "      <th>ReleaseDate</th>\n",
       "    </tr>\n",
       "  </thead>\n",
       "  <tbody>\n",
       "    <tr>\n",
       "      <th>0</th>\n",
       "      <td>The Hunger Games: Catching Fire</td>\n",
       "      <td>130000000.0</td>\n",
       "      <td>424668047</td>\n",
       "      <td>Francis Lawrence</td>\n",
       "      <td>PG-13</td>\n",
       "      <td>146</td>\n",
       "      <td>2013-11-22 00:00:00</td>\n",
       "    </tr>\n",
       "    <tr>\n",
       "      <th>1</th>\n",
       "      <td>Iron Man 3</td>\n",
       "      <td>200000000.0</td>\n",
       "      <td>409013994</td>\n",
       "      <td>Shane Black</td>\n",
       "      <td>PG-13</td>\n",
       "      <td>129</td>\n",
       "      <td>2013-05-03 00:00:00</td>\n",
       "    </tr>\n",
       "  </tbody>\n",
       "</table>\n",
       "</div>"
      ],
      "text/plain": [
       "                             Title       Budget  DomesticTotalGross  \\\n",
       "0  The Hunger Games: Catching Fire  130000000.0           424668047   \n",
       "1                       Iron Man 3  200000000.0           409013994   \n",
       "\n",
       "           Director Rating  Runtime          ReleaseDate  \n",
       "0  Francis Lawrence  PG-13      146  2013-11-22 00:00:00  \n",
       "1       Shane Black  PG-13      129  2013-05-03 00:00:00  "
      ]
     },
     "execution_count": 34,
     "metadata": {},
     "output_type": "execute_result"
    }
   ],
   "source": [
    "data = pd.read_csv('../../../challenges_data/2013_movies.csv')\n",
    "data.head(2)"
   ]
  },
  {
   "cell_type": "markdown",
   "metadata": {},
   "source": [
    "There are 11 null values in the budget column."
   ]
  },
  {
   "cell_type": "code",
   "execution_count": 35,
   "metadata": {
    "ExecuteTime": {
     "end_time": "2016-07-25T20:27:25.534665",
     "start_time": "2016-07-25T20:27:25.526155"
    },
    "collapsed": false
   },
   "outputs": [
    {
     "data": {
      "text/plain": [
       "Title                  0\n",
       "Budget                11\n",
       "DomesticTotalGross     0\n",
       "Director               4\n",
       "Rating                 0\n",
       "Runtime                0\n",
       "ReleaseDate            0\n",
       "dtype: int64"
      ]
     },
     "execution_count": 35,
     "metadata": {},
     "output_type": "execute_result"
    }
   ],
   "source": [
    "data.isnull().sum()"
   ]
  },
  {
   "cell_type": "code",
   "execution_count": 36,
   "metadata": {
    "ExecuteTime": {
     "end_time": "2016-07-25T20:27:49.361526",
     "start_time": "2016-07-25T20:27:49.353547"
    },
    "collapsed": true
   },
   "outputs": [],
   "source": [
    "data.loc[data.Budget.isnull(),'Budget'] = data.Budget.median()"
   ]
  },
  {
   "cell_type": "code",
   "execution_count": 37,
   "metadata": {
    "ExecuteTime": {
     "end_time": "2016-07-25T20:27:52.649187",
     "start_time": "2016-07-25T20:27:52.641153"
    },
    "collapsed": false
   },
   "outputs": [],
   "source": [
    "data['ReleaseDate'] = pd.to_datetime(data.ReleaseDate)\n",
    "data['ReleaseMonth'] = data.ReleaseDate.dt.month"
   ]
  },
  {
   "cell_type": "markdown",
   "metadata": {},
   "source": [
    "## <a id='1'></a>Question 1\n",
    "\n",
    "Build a linear model that uses only a constant term (a column of ones) to predict a continuous outcome (like domestic total gross). How can you interpret the results of this model? What does it predict? Make a plot of predictions against actual outcome. Make a histogram of residuals. How are the residuals distributed?"
   ]
  },
  {
   "cell_type": "code",
   "execution_count": 38,
   "metadata": {
    "ExecuteTime": {
     "end_time": "2016-07-25T20:27:54.885019",
     "start_time": "2016-07-25T20:27:54.847499"
    },
    "collapsed": false
   },
   "outputs": [
    {
     "data": {
      "text/html": [
       "<table class=\"simpletable\">\n",
       "<caption>OLS Regression Results</caption>\n",
       "<tr>\n",
       "  <th>Dep. Variable:</th>    <td>DomesticTotalGross</td> <th>  R-squared:         </th> <td>   0.000</td>\n",
       "</tr>\n",
       "<tr>\n",
       "  <th>Model:</th>                    <td>OLS</td>        <th>  Adj. R-squared:    </th> <td>   0.000</td>\n",
       "</tr>\n",
       "<tr>\n",
       "  <th>Method:</th>              <td>Least Squares</td>   <th>  F-statistic:       </th> <td>     nan</td>\n",
       "</tr>\n",
       "<tr>\n",
       "  <th>Date:</th>              <td>Mon, 25 Jul 2016</td>  <th>  Prob (F-statistic):</th>  <td>   nan</td> \n",
       "</tr>\n",
       "<tr>\n",
       "  <th>Time:</th>                  <td>20:27:54</td>      <th>  Log-Likelihood:    </th> <td> -1970.0</td>\n",
       "</tr>\n",
       "<tr>\n",
       "  <th>No. Observations:</th>       <td>   100</td>       <th>  AIC:               </th> <td>   3942.</td>\n",
       "</tr>\n",
       "<tr>\n",
       "  <th>Df Residuals:</th>           <td>    99</td>       <th>  BIC:               </th> <td>   3945.</td>\n",
       "</tr>\n",
       "<tr>\n",
       "  <th>Df Model:</th>               <td>     0</td>       <th>                     </th>     <td> </td>   \n",
       "</tr>\n",
       "<tr>\n",
       "  <th>Covariance Type:</th>       <td>nonrobust</td>     <th>                     </th>     <td> </td>   \n",
       "</tr>\n",
       "</table>\n",
       "<table class=\"simpletable\">\n",
       "<tr>\n",
       "      <td></td>         <th>coef</th>     <th>std err</th>      <th>t</th>      <th>P>|t|</th> <th>[95.0% Conf. Int.]</th> \n",
       "</tr>\n",
       "<tr>\n",
       "  <th>Intercept</th> <td> 1.006e+08</td> <td> 8.74e+06</td> <td>   11.510</td> <td> 0.000</td> <td> 8.33e+07  1.18e+08</td>\n",
       "</tr>\n",
       "</table>\n",
       "<table class=\"simpletable\">\n",
       "<tr>\n",
       "  <th>Omnibus:</th>       <td>51.114</td> <th>  Durbin-Watson:     </th> <td>   0.013</td>\n",
       "</tr>\n",
       "<tr>\n",
       "  <th>Prob(Omnibus):</th> <td> 0.000</td> <th>  Jarque-Bera (JB):  </th> <td> 125.961</td>\n",
       "</tr>\n",
       "<tr>\n",
       "  <th>Skew:</th>          <td> 1.985</td> <th>  Prob(JB):          </th> <td>4.45e-28</td>\n",
       "</tr>\n",
       "<tr>\n",
       "  <th>Kurtosis:</th>      <td> 6.804</td> <th>  Cond. No.          </th> <td>    1.00</td>\n",
       "</tr>\n",
       "</table>"
      ],
      "text/plain": [
       "<class 'statsmodels.iolib.summary.Summary'>\n",
       "\"\"\"\n",
       "                            OLS Regression Results                            \n",
       "==============================================================================\n",
       "Dep. Variable:     DomesticTotalGross   R-squared:                       0.000\n",
       "Model:                            OLS   Adj. R-squared:                  0.000\n",
       "Method:                 Least Squares   F-statistic:                       nan\n",
       "Date:                Mon, 25 Jul 2016   Prob (F-statistic):                nan\n",
       "Time:                        20:27:54   Log-Likelihood:                -1970.0\n",
       "No. Observations:                 100   AIC:                             3942.\n",
       "Df Residuals:                      99   BIC:                             3945.\n",
       "Df Model:                           0                                         \n",
       "Covariance Type:            nonrobust                                         \n",
       "==============================================================================\n",
       "                 coef    std err          t      P>|t|      [95.0% Conf. Int.]\n",
       "------------------------------------------------------------------------------\n",
       "Intercept   1.006e+08   8.74e+06     11.510      0.000      8.33e+07  1.18e+08\n",
       "==============================================================================\n",
       "Omnibus:                       51.114   Durbin-Watson:                   0.013\n",
       "Prob(Omnibus):                  0.000   Jarque-Bera (JB):              125.961\n",
       "Skew:                           1.985   Prob(JB):                     4.45e-28\n",
       "Kurtosis:                       6.804   Cond. No.                         1.00\n",
       "==============================================================================\n",
       "\n",
       "Warnings:\n",
       "[1] Standard Errors assume that the covariance matrix of the errors is correctly specified.\n",
       "\"\"\""
      ]
     },
     "execution_count": 38,
     "metadata": {},
     "output_type": "execute_result"
    }
   ],
   "source": [
    "res1 = sm.ols('DomesticTotalGross ~ 1', data).fit()\n",
    "res1.summary()"
   ]
  },
  {
   "cell_type": "code",
   "execution_count": 39,
   "metadata": {
    "ExecuteTime": {
     "end_time": "2016-07-25T20:27:55.777150",
     "start_time": "2016-07-25T20:27:55.416745"
    },
    "collapsed": false
   },
   "outputs": [
    {
     "data": {
      "text/plain": [
       "<matplotlib.text.Text at 0x11b1afd90>"
      ]
     },
     "execution_count": 39,
     "metadata": {},
     "output_type": "execute_result"
    },
    {
     "data": {
      "image/png": "[encoded data removed]",
      "text/plain": [
       "<matplotlib.figure.Figure at 0x11ae55510>"
      ]
     },
     "metadata": {},
     "output_type": "display_data"
    }
   ],
   "source": [
    "colors = sns.color_palette()\n",
    "\n",
    "ax = res1.resid.hist(color=colors[0], figsize=(7,5))\n",
    "ax.grid('off')\n",
    "\n",
    "def scale_ticklabels(x, p):\n",
    "    return \"%.1f\" % (x / (10 ** scale_pow))\n",
    "\n",
    "scale_pow = 6\n",
    "ax.get_xaxis().set_major_formatter(FuncFormatter(scale_ticklabels))\n",
    "\n",
    "ax.set_xlabel('Residual Total Gross (Millions, $)')\n",
    "ax.set_ylabel('Frequency')\n",
    "ax.set_title('Unbiased Domestic Total Gross')"
   ]
  },
  {
   "cell_type": "markdown",
   "metadata": {},
   "source": [
    "### Answer"
   ]
  },
  {
   "cell_type": "code",
   "execution_count": 40,
   "metadata": {
    "ExecuteTime": {
     "end_time": "2016-07-25T20:27:56.893058",
     "start_time": "2016-07-25T20:27:56.886963"
    },
    "collapsed": false
   },
   "outputs": [
    {
     "name": "stdout",
     "output_type": "stream",
     "text": [
      "(100.59687522, 100.59687522000002)\n"
     ]
    }
   ],
   "source": [
    "print(data.DomesticTotalGross.mean()/1e6, res1.params[0]/1e6)"
   ]
  },
  {
   "cell_type": "markdown",
   "metadata": {},
   "source": [
    "In the presence of only a single, constant variable, the model returns the bias (mean) of the dependent data. The residuals will be simply the data values themselves with an offset (the mean) subtracted.\n",
    "\n",
    "## <a id='2'></a>Question 2\n",
    "\n",
    "Repeat the process of challenge one, but also add one continuous (numeric) predictor variable. Also add plots of model prediction against your feature variable and residuals against feature variable. How can you interpret what's happening in the model?"
   ]
  },
  {
   "cell_type": "code",
   "execution_count": 41,
   "metadata": {
    "ExecuteTime": {
     "end_time": "2016-07-25T20:27:58.779770",
     "start_time": "2016-07-25T20:27:58.736689"
    },
    "collapsed": false
   },
   "outputs": [
    {
     "data": {
      "text/html": [
       "<table class=\"simpletable\">\n",
       "<caption>OLS Regression Results</caption>\n",
       "<tr>\n",
       "  <th>Dep. Variable:</th>    <td>DomesticTotalGross</td> <th>  R-squared:         </th> <td>   0.259</td>\n",
       "</tr>\n",
       "<tr>\n",
       "  <th>Model:</th>                    <td>OLS</td>        <th>  Adj. R-squared:    </th> <td>   0.251</td>\n",
       "</tr>\n",
       "<tr>\n",
       "  <th>Method:</th>              <td>Least Squares</td>   <th>  F-statistic:       </th> <td>   34.21</td>\n",
       "</tr>\n",
       "<tr>\n",
       "  <th>Date:</th>              <td>Mon, 25 Jul 2016</td>  <th>  Prob (F-statistic):</th> <td>6.53e-08</td>\n",
       "</tr>\n",
       "<tr>\n",
       "  <th>Time:</th>                  <td>20:27:58</td>      <th>  Log-Likelihood:    </th> <td> -1955.0</td>\n",
       "</tr>\n",
       "<tr>\n",
       "  <th>No. Observations:</th>       <td>   100</td>       <th>  AIC:               </th> <td>   3914.</td>\n",
       "</tr>\n",
       "<tr>\n",
       "  <th>Df Residuals:</th>           <td>    98</td>       <th>  BIC:               </th> <td>   3919.</td>\n",
       "</tr>\n",
       "<tr>\n",
       "  <th>Df Model:</th>               <td>     1</td>       <th>                     </th>     <td> </td>   \n",
       "</tr>\n",
       "<tr>\n",
       "  <th>Covariance Type:</th>       <td>nonrobust</td>     <th>                     </th>     <td> </td>   \n",
       "</tr>\n",
       "</table>\n",
       "<table class=\"simpletable\">\n",
       "<tr>\n",
       "      <td></td>         <th>coef</th>     <th>std err</th>      <th>t</th>      <th>P>|t|</th> <th>[95.0% Conf. Int.]</th> \n",
       "</tr>\n",
       "<tr>\n",
       "  <th>Intercept</th> <td> 4.335e+07</td> <td> 1.24e+07</td> <td>    3.505</td> <td> 0.001</td> <td> 1.88e+07  6.79e+07</td>\n",
       "</tr>\n",
       "<tr>\n",
       "  <th>Budget</th>    <td>    0.7888</td> <td>    0.135</td> <td>    5.849</td> <td> 0.000</td> <td>    0.521     1.056</td>\n",
       "</tr>\n",
       "</table>\n",
       "<table class=\"simpletable\">\n",
       "<tr>\n",
       "  <th>Omnibus:</th>       <td>41.061</td> <th>  Durbin-Watson:     </th> <td>   0.565</td>\n",
       "</tr>\n",
       "<tr>\n",
       "  <th>Prob(Omnibus):</th> <td> 0.000</td> <th>  Jarque-Bera (JB):  </th> <td>  92.014</td>\n",
       "</tr>\n",
       "<tr>\n",
       "  <th>Skew:</th>          <td> 1.583</td> <th>  Prob(JB):          </th> <td>1.05e-20</td>\n",
       "</tr>\n",
       "<tr>\n",
       "  <th>Kurtosis:</th>      <td> 6.472</td> <th>  Cond. No.          </th> <td>1.50e+08</td>\n",
       "</tr>\n",
       "</table>"
      ],
      "text/plain": [
       "<class 'statsmodels.iolib.summary.Summary'>\n",
       "\"\"\"\n",
       "                            OLS Regression Results                            \n",
       "==============================================================================\n",
       "Dep. Variable:     DomesticTotalGross   R-squared:                       0.259\n",
       "Model:                            OLS   Adj. R-squared:                  0.251\n",
       "Method:                 Least Squares   F-statistic:                     34.21\n",
       "Date:                Mon, 25 Jul 2016   Prob (F-statistic):           6.53e-08\n",
       "Time:                        20:27:58   Log-Likelihood:                -1955.0\n",
       "No. Observations:                 100   AIC:                             3914.\n",
       "Df Residuals:                      98   BIC:                             3919.\n",
       "Df Model:                           1                                         \n",
       "Covariance Type:            nonrobust                                         \n",
       "==============================================================================\n",
       "                 coef    std err          t      P>|t|      [95.0% Conf. Int.]\n",
       "------------------------------------------------------------------------------\n",
       "Intercept   4.335e+07   1.24e+07      3.505      0.001      1.88e+07  6.79e+07\n",
       "Budget         0.7888      0.135      5.849      0.000         0.521     1.056\n",
       "==============================================================================\n",
       "Omnibus:                       41.061   Durbin-Watson:                   0.565\n",
       "Prob(Omnibus):                  0.000   Jarque-Bera (JB):               92.014\n",
       "Skew:                           1.583   Prob(JB):                     1.05e-20\n",
       "Kurtosis:                       6.472   Cond. No.                     1.50e+08\n",
       "==============================================================================\n",
       "\n",
       "Warnings:\n",
       "[1] Standard Errors assume that the covariance matrix of the errors is correctly specified.\n",
       "[2] The condition number is large, 1.5e+08. This might indicate that there are\n",
       "strong multicollinearity or other numerical problems.\n",
       "\"\"\""
      ]
     },
     "execution_count": 41,
     "metadata": {},
     "output_type": "execute_result"
    }
   ],
   "source": [
    "res2 = sm.ols('DomesticTotalGross ~ Budget', data).fit()\n",
    "res2.summary()"
   ]
  },
  {
   "cell_type": "code",
   "execution_count": 43,
   "metadata": {
    "ExecuteTime": {
     "end_time": "2016-07-25T20:28:07.254145",
     "start_time": "2016-07-25T20:28:06.861114"
    },
    "collapsed": false
   },
   "outputs": [
    {
     "data": {
      "text/plain": [
       "<matplotlib.text.Text at 0x11b63aed0>"
      ]
     },
     "execution_count": 43,
     "metadata": {},
     "output_type": "execute_result"
    },
    {
     "data": {
      "image/png": "[encoded data removed]",
      "text/plain": [
       "<matplotlib.figure.Figure at 0x11b594450>"
      ]
     },
     "metadata": {},
     "output_type": "display_data"
    }
   ],
   "source": [
    "ax = data.plot('Budget','DomesticTotalGross',\n",
    "              kind='scatter', label='Actual', color=colors[0], figsize=(7,5))\n",
    "ax.plot(data.Budget, res2.predict(), label='Predicted', color=colors[2])\n",
    "\n",
    "ax.legend(loc=2)\n",
    " \n",
    "scale_pow = 6\n",
    "ax.get_xaxis().set_major_formatter(FuncFormatter(scale_ticklabels))\n",
    "ax.get_yaxis().set_major_formatter(FuncFormatter(scale_ticklabels))\n",
    "\n",
    "ax.set_xlabel('Budget (Millions, $)')\n",
    "ax.set_ylabel('Domestic Total Gross (Millions, $)')\n",
    "ax.set_title('Predicted Domestic Total Gross')"
   ]
  },
  {
   "cell_type": "markdown",
   "metadata": {},
   "source": [
    "### Answer"
   ]
  },
  {
   "cell_type": "markdown",
   "metadata": {},
   "source": [
    "The model can be interpreted by plotting a best fit line (as was done here) or by plotting the residuals. Alternatively, a correlation plot of fit vs predicted Domestic Total Gross could have also been made.\n",
    "\n",
    "## <a id='3'></a>Question 3\n",
    "\n",
    "Repeat the process of challenge 1, but add a categorical feature (like genre). You'll have to convert a column of text into a number of numerical columns (\"dummy variables\"). How can you interpret what's happening in the model?"
   ]
  },
  {
   "cell_type": "code",
   "execution_count": 44,
   "metadata": {
    "ExecuteTime": {
     "end_time": "2016-07-25T20:28:10.655837",
     "start_time": "2016-07-25T20:28:10.601892"
    },
    "collapsed": false
   },
   "outputs": [
    {
     "data": {
      "text/html": [
       "<table class=\"simpletable\">\n",
       "<caption>OLS Regression Results</caption>\n",
       "<tr>\n",
       "  <th>Dep. Variable:</th>    <td>DomesticTotalGross</td> <th>  R-squared:         </th> <td>   0.109</td>\n",
       "</tr>\n",
       "<tr>\n",
       "  <th>Model:</th>                    <td>OLS</td>        <th>  Adj. R-squared:    </th> <td>   0.081</td>\n",
       "</tr>\n",
       "<tr>\n",
       "  <th>Method:</th>              <td>Least Squares</td>   <th>  F-statistic:       </th> <td>   3.924</td>\n",
       "</tr>\n",
       "<tr>\n",
       "  <th>Date:</th>              <td>Mon, 25 Jul 2016</td>  <th>  Prob (F-statistic):</th>  <td>0.0109</td> \n",
       "</tr>\n",
       "<tr>\n",
       "  <th>Time:</th>                  <td>20:28:10</td>      <th>  Log-Likelihood:    </th> <td> -1964.2</td>\n",
       "</tr>\n",
       "<tr>\n",
       "  <th>No. Observations:</th>       <td>   100</td>       <th>  AIC:               </th> <td>   3936.</td>\n",
       "</tr>\n",
       "<tr>\n",
       "  <th>Df Residuals:</th>           <td>    96</td>       <th>  BIC:               </th> <td>   3947.</td>\n",
       "</tr>\n",
       "<tr>\n",
       "  <th>Df Model:</th>               <td>     3</td>       <th>                     </th>     <td> </td>   \n",
       "</tr>\n",
       "<tr>\n",
       "  <th>Covariance Type:</th>       <td>nonrobust</td>     <th>                     </th>     <td> </td>   \n",
       "</tr>\n",
       "</table>\n",
       "<table class=\"simpletable\">\n",
       "<tr>\n",
       "         <td></td>            <th>coef</th>     <th>std err</th>      <th>t</th>      <th>P>|t|</th> <th>[95.0% Conf. Int.]</th> \n",
       "</tr>\n",
       "<tr>\n",
       "  <th>Intercept</th>       <td> 2.685e+08</td> <td> 8.38e+07</td> <td>    3.205</td> <td> 0.002</td> <td> 1.02e+08  4.35e+08</td>\n",
       "</tr>\n",
       "<tr>\n",
       "  <th>Rating[T.PG]</th>    <td>-1.374e+08</td> <td> 8.65e+07</td> <td>   -1.588</td> <td> 0.116</td> <td>-3.09e+08  3.44e+07</td>\n",
       "</tr>\n",
       "<tr>\n",
       "  <th>Rating[T.PG-13]</th> <td> -1.57e+08</td> <td> 8.47e+07</td> <td>   -1.855</td> <td> 0.067</td> <td>-3.25e+08   1.1e+07</td>\n",
       "</tr>\n",
       "<tr>\n",
       "  <th>Rating[T.R]</th>     <td>-1.986e+08</td> <td> 8.49e+07</td> <td>   -2.340</td> <td> 0.021</td> <td>-3.67e+08 -3.01e+07</td>\n",
       "</tr>\n",
       "</table>\n",
       "<table class=\"simpletable\">\n",
       "<tr>\n",
       "  <th>Omnibus:</th>       <td>46.897</td> <th>  Durbin-Watson:     </th> <td>   0.240</td>\n",
       "</tr>\n",
       "<tr>\n",
       "  <th>Prob(Omnibus):</th> <td> 0.000</td> <th>  Jarque-Bera (JB):  </th> <td> 109.261</td>\n",
       "</tr>\n",
       "<tr>\n",
       "  <th>Skew:</th>          <td> 1.826</td> <th>  Prob(JB):          </th> <td>1.88e-24</td>\n",
       "</tr>\n",
       "<tr>\n",
       "  <th>Kurtosis:</th>      <td> 6.589</td> <th>  Cond. No.          </th> <td>    23.7</td>\n",
       "</tr>\n",
       "</table>"
      ],
      "text/plain": [
       "<class 'statsmodels.iolib.summary.Summary'>\n",
       "\"\"\"\n",
       "                            OLS Regression Results                            \n",
       "==============================================================================\n",
       "Dep. Variable:     DomesticTotalGross   R-squared:                       0.109\n",
       "Model:                            OLS   Adj. R-squared:                  0.081\n",
       "Method:                 Least Squares   F-statistic:                     3.924\n",
       "Date:                Mon, 25 Jul 2016   Prob (F-statistic):             0.0109\n",
       "Time:                        20:28:10   Log-Likelihood:                -1964.2\n",
       "No. Observations:                 100   AIC:                             3936.\n",
       "Df Residuals:                      96   BIC:                             3947.\n",
       "Df Model:                           3                                         \n",
       "Covariance Type:            nonrobust                                         \n",
       "===================================================================================\n",
       "                      coef    std err          t      P>|t|      [95.0% Conf. Int.]\n",
       "-----------------------------------------------------------------------------------\n",
       "Intercept        2.685e+08   8.38e+07      3.205      0.002      1.02e+08  4.35e+08\n",
       "Rating[T.PG]    -1.374e+08   8.65e+07     -1.588      0.116     -3.09e+08  3.44e+07\n",
       "Rating[T.PG-13]  -1.57e+08   8.47e+07     -1.855      0.067     -3.25e+08   1.1e+07\n",
       "Rating[T.R]     -1.986e+08   8.49e+07     -2.340      0.021     -3.67e+08 -3.01e+07\n",
       "==============================================================================\n",
       "Omnibus:                       46.897   Durbin-Watson:                   0.240\n",
       "Prob(Omnibus):                  0.000   Jarque-Bera (JB):              109.261\n",
       "Skew:                           1.826   Prob(JB):                     1.88e-24\n",
       "Kurtosis:                       6.589   Cond. No.                         23.7\n",
       "==============================================================================\n",
       "\n",
       "Warnings:\n",
       "[1] Standard Errors assume that the covariance matrix of the errors is correctly specified.\n",
       "\"\"\""
      ]
     },
     "execution_count": 44,
     "metadata": {},
     "output_type": "execute_result"
    }
   ],
   "source": [
    "res3 = sm.ols('DomesticTotalGross ~ 1 + Rating', data).fit()\n",
    "res3.summary()"
   ]
  },
  {
   "cell_type": "code",
   "execution_count": 45,
   "metadata": {
    "ExecuteTime": {
     "end_time": "2016-07-25T20:28:11.720857",
     "start_time": "2016-07-25T20:28:11.228077"
    },
    "collapsed": false
   },
   "outputs": [
    {
     "data": {
      "text/plain": [
       "<matplotlib.text.Text at 0x11b7d6350>"
      ]
     },
     "execution_count": 45,
     "metadata": {},
     "output_type": "execute_result"
    },
    {
     "data": {
      "image/png": "[encoded data removed]",
      "text/plain": [
       "<matplotlib.figure.Figure at 0x11b671ed0>"
      ]
     },
     "metadata": {},
     "output_type": "display_data"
    }
   ],
   "source": [
    "f = plt.figure()\n",
    "f.set_size_inches(7,5)\n",
    "ax = plt.axes()\n",
    "\n",
    "for rating in ['PG', 'PG-13', 'R']:\n",
    "    mask = data.Rating==rating\n",
    "    actual = data.DomesticTotalGross.loc[mask]\n",
    "    predict = res3.predict()[mask.values]\n",
    "    ax.plot(actual, predict,\n",
    "            marker='o', ls='', label=rating)\n",
    "\n",
    "ax.legend(loc=0)\n",
    " \n",
    "scale_pow = 6\n",
    "ax.get_xaxis().set_major_formatter(FuncFormatter(scale_ticklabels))\n",
    "ax.get_yaxis().set_major_formatter(FuncFormatter(scale_ticklabels))\n",
    "\n",
    "ax.set_xlabel('Actual Domestic Total Gross (Millions, $)')\n",
    "ax.set_ylabel('Predicted Domestic Total Gross (Millions, $)')\n",
    "ax.set_title('Predicted vs Actual Domestic Total Gross By Rating')"
   ]
  },
  {
   "cell_type": "markdown",
   "metadata": {},
   "source": [
    "### Answer\n",
    "\n",
    "As this model only has a category, the results are similar to the results of question 1, except that the mean for each category (rating) is predicted. This can be seen by comparing the plot to the table below it."
   ]
  },
  {
   "cell_type": "code",
   "execution_count": 46,
   "metadata": {
    "ExecuteTime": {
     "end_time": "2016-07-25T20:28:12.184173",
     "start_time": "2016-07-25T20:28:12.164894"
    },
    "collapsed": false
   },
   "outputs": [
    {
     "data": {
      "text/html": [
       "<div>\n",
       "<table border=\"1\" class=\"dataframe\">\n",
       "  <thead>\n",
       "    <tr style=\"text-align: right;\">\n",
       "      <th></th>\n",
       "      <th>DomesticTotalGross</th>\n",
       "    </tr>\n",
       "    <tr>\n",
       "      <th>Rating</th>\n",
       "      <th></th>\n",
       "    </tr>\n",
       "  </thead>\n",
       "  <tbody>\n",
       "    <tr>\n",
       "      <th>G</th>\n",
       "      <td>268.492764</td>\n",
       "    </tr>\n",
       "    <tr>\n",
       "      <th>PG</th>\n",
       "      <td>131.135716</td>\n",
       "    </tr>\n",
       "    <tr>\n",
       "      <th>PG-13</th>\n",
       "      <td>111.449769</td>\n",
       "    </tr>\n",
       "    <tr>\n",
       "      <th>R</th>\n",
       "      <td>69.892429</td>\n",
       "    </tr>\n",
       "  </tbody>\n",
       "</table>\n",
       "</div>"
      ],
      "text/plain": [
       "        DomesticTotalGross\n",
       "Rating                    \n",
       "G               268.492764\n",
       "PG              131.135716\n",
       "PG-13           111.449769\n",
       "R                69.892429"
      ]
     },
     "execution_count": 46,
     "metadata": {},
     "output_type": "execute_result"
    }
   ],
   "source": [
    "data[['Rating','DomesticTotalGross']].groupby('Rating').mean()/1e6"
   ]
  },
  {
   "cell_type": "code",
   "execution_count": 47,
   "metadata": {
    "ExecuteTime": {
     "end_time": "2016-07-25T20:28:13.257464",
     "start_time": "2016-07-25T20:28:13.249682"
    },
    "collapsed": false
   },
   "outputs": [
    {
     "data": {
      "text/plain": [
       "(268.49276399999934, 131.13571606666653, 111.44976902127648)"
      ]
     },
     "execution_count": 47,
     "metadata": {},
     "output_type": "execute_result"
    }
   ],
   "source": [
    "res3.params[0]/1e6, (res3.params[1]+res3.params[0])/1e6, (res3.params[2]+res3.params[0])/1e6"
   ]
  },
  {
   "cell_type": "markdown",
   "metadata": {},
   "source": [
    "## <a id='4'></a>Question 4\n",
    "\n",
    "Enhance your model further by adding more features and/or transforming existing features. Think about how you build the model matrix and how to interpret what the model is doing."
   ]
  },
  {
   "cell_type": "code",
   "execution_count": 48,
   "metadata": {
    "ExecuteTime": {
     "end_time": "2016-07-25T20:28:19.467566",
     "start_time": "2016-07-25T20:28:14.826398"
    },
    "collapsed": false
   },
   "outputs": [
    {
     "data": {
      "text/plain": [
       "<seaborn.axisgrid.PairGrid at 0x11b609a50>"
      ]
     },
     "execution_count": 48,
     "metadata": {},
     "output_type": "execute_result"
    },
    {
     "data": {
      "image/png": "[encoded data removed]",
      "text/plain": [
       "<matplotlib.figure.Figure at 0x11b5fddd0>"
      ]
     },
     "metadata": {},
     "output_type": "display_data"
    }
   ],
   "source": [
    "# Decide which features to use based on the correlation plots\n",
    "sns.pairplot(data[['DomesticTotalGross','Budget','Runtime','ReleaseMonth','Rating']],\n",
    "            hue='Rating')"
   ]
  },
  {
   "cell_type": "code",
   "execution_count": 49,
   "metadata": {
    "ExecuteTime": {
     "end_time": "2016-07-25T20:28:19.531590",
     "start_time": "2016-07-25T20:28:19.470183"
    },
    "collapsed": false
   },
   "outputs": [
    {
     "data": {
      "text/html": [
       "<table class=\"simpletable\">\n",
       "<caption>OLS Regression Results</caption>\n",
       "<tr>\n",
       "  <th>Dep. Variable:</th>    <td>np.log(DomesticTotalGross)</td> <th>  R-squared:         </th> <td>   0.309</td>\n",
       "</tr>\n",
       "<tr>\n",
       "  <th>Model:</th>                        <td>OLS</td>            <th>  Adj. R-squared:    </th> <td>   0.272</td>\n",
       "</tr>\n",
       "<tr>\n",
       "  <th>Method:</th>                  <td>Least Squares</td>       <th>  F-statistic:       </th> <td>   8.396</td>\n",
       "</tr>\n",
       "<tr>\n",
       "  <th>Date:</th>                  <td>Mon, 25 Jul 2016</td>      <th>  Prob (F-statistic):</th> <td>1.35e-06</td>\n",
       "</tr>\n",
       "<tr>\n",
       "  <th>Time:</th>                      <td>20:28:19</td>          <th>  Log-Likelihood:    </th> <td> -90.652</td>\n",
       "</tr>\n",
       "<tr>\n",
       "  <th>No. Observations:</th>           <td>   100</td>           <th>  AIC:               </th> <td>   193.3</td>\n",
       "</tr>\n",
       "<tr>\n",
       "  <th>Df Residuals:</th>               <td>    94</td>           <th>  BIC:               </th> <td>   208.9</td>\n",
       "</tr>\n",
       "<tr>\n",
       "  <th>Df Model:</th>                   <td>     5</td>           <th>                     </th>     <td> </td>   \n",
       "</tr>\n",
       "<tr>\n",
       "  <th>Covariance Type:</th>           <td>nonrobust</td>         <th>                     </th>     <td> </td>   \n",
       "</tr>\n",
       "</table>\n",
       "<table class=\"simpletable\">\n",
       "<tr>\n",
       "         <td></td>            <th>coef</th>     <th>std err</th>      <th>t</th>      <th>P>|t|</th> <th>[95.0% Conf. Int.]</th> \n",
       "</tr>\n",
       "<tr>\n",
       "  <th>Intercept</th>       <td>   13.6716</td> <td>    1.441</td> <td>    9.486</td> <td> 0.000</td> <td>   10.810    16.533</td>\n",
       "</tr>\n",
       "<tr>\n",
       "  <th>Rating[T.PG]</th>    <td>   -1.0441</td> <td>    0.640</td> <td>   -1.632</td> <td> 0.106</td> <td>   -2.314     0.226</td>\n",
       "</tr>\n",
       "<tr>\n",
       "  <th>Rating[T.PG-13]</th> <td>   -1.3235</td> <td>    0.626</td> <td>   -2.116</td> <td> 0.037</td> <td>   -2.566    -0.081</td>\n",
       "</tr>\n",
       "<tr>\n",
       "  <th>Rating[T.R]</th>     <td>   -1.4000</td> <td>    0.628</td> <td>   -2.228</td> <td> 0.028</td> <td>   -2.648    -0.152</td>\n",
       "</tr>\n",
       "<tr>\n",
       "  <th>np.log(Budget)</th>  <td>    0.2611</td> <td>    0.079</td> <td>    3.324</td> <td> 0.001</td> <td>    0.105     0.417</td>\n",
       "</tr>\n",
       "<tr>\n",
       "  <th>Runtime</th>         <td>    0.0101</td> <td>    0.004</td> <td>    2.590</td> <td> 0.011</td> <td>    0.002     0.018</td>\n",
       "</tr>\n",
       "</table>\n",
       "<table class=\"simpletable\">\n",
       "<tr>\n",
       "  <th>Omnibus:</th>       <td> 6.562</td> <th>  Durbin-Watson:     </th> <td>   0.737</td>\n",
       "</tr>\n",
       "<tr>\n",
       "  <th>Prob(Omnibus):</th> <td> 0.038</td> <th>  Jarque-Bera (JB):  </th> <td>   3.844</td>\n",
       "</tr>\n",
       "<tr>\n",
       "  <th>Skew:</th>          <td> 0.288</td> <th>  Prob(JB):          </th> <td>   0.146</td>\n",
       "</tr>\n",
       "<tr>\n",
       "  <th>Kurtosis:</th>      <td> 2.232</td> <th>  Cond. No.          </th> <td>2.90e+03</td>\n",
       "</tr>\n",
       "</table>"
      ],
      "text/plain": [
       "<class 'statsmodels.iolib.summary.Summary'>\n",
       "\"\"\"\n",
       "                                OLS Regression Results                                \n",
       "======================================================================================\n",
       "Dep. Variable:     np.log(DomesticTotalGross)   R-squared:                       0.309\n",
       "Model:                                    OLS   Adj. R-squared:                  0.272\n",
       "Method:                         Least Squares   F-statistic:                     8.396\n",
       "Date:                        Mon, 25 Jul 2016   Prob (F-statistic):           1.35e-06\n",
       "Time:                                20:28:19   Log-Likelihood:                -90.652\n",
       "No. Observations:                         100   AIC:                             193.3\n",
       "Df Residuals:                              94   BIC:                             208.9\n",
       "Df Model:                                   5                                         \n",
       "Covariance Type:                    nonrobust                                         \n",
       "===================================================================================\n",
       "                      coef    std err          t      P>|t|      [95.0% Conf. Int.]\n",
       "-----------------------------------------------------------------------------------\n",
       "Intercept          13.6716      1.441      9.486      0.000        10.810    16.533\n",
       "Rating[T.PG]       -1.0441      0.640     -1.632      0.106        -2.314     0.226\n",
       "Rating[T.PG-13]    -1.3235      0.626     -2.116      0.037        -2.566    -0.081\n",
       "Rating[T.R]        -1.4000      0.628     -2.228      0.028        -2.648    -0.152\n",
       "np.log(Budget)      0.2611      0.079      3.324      0.001         0.105     0.417\n",
       "Runtime             0.0101      0.004      2.590      0.011         0.002     0.018\n",
       "==============================================================================\n",
       "Omnibus:                        6.562   Durbin-Watson:                   0.737\n",
       "Prob(Omnibus):                  0.038   Jarque-Bera (JB):                3.844\n",
       "Skew:                           0.288   Prob(JB):                        0.146\n",
       "Kurtosis:                       2.232   Cond. No.                     2.90e+03\n",
       "==============================================================================\n",
       "\n",
       "Warnings:\n",
       "[1] Standard Errors assume that the covariance matrix of the errors is correctly specified.\n",
       "[2] The condition number is large, 2.9e+03. This might indicate that there are\n",
       "strong multicollinearity or other numerical problems.\n",
       "\"\"\""
      ]
     },
     "execution_count": 49,
     "metadata": {},
     "output_type": "execute_result"
    }
   ],
   "source": [
    "res4 = sm.ols('np.log(DomesticTotalGross) ~ 1 + np.log(Budget) + Runtime + Rating', data).fit()\n",
    "res4.summary()"
   ]
  },
  {
   "cell_type": "markdown",
   "metadata": {},
   "source": [
    "### Answer\n",
    "\n",
    "This is a considerably more complicated model with log-transformed data and categorical. Based on the P-values, I'd say budget is the primary important predictor of Domestic Total Gross.\n",
    "\n",
    "## <a id='5'></a>Question 5\n",
    "\n",
    "Fitting and checking predictions on the exact same data set can be misleading. Divide your data into two sets: a training and a test set (roughly 75% training, 25% test is a fine split). Fit a model on the training set, check the predictions (by plotting versus actual values) in the test set."
   ]
  },
  {
   "cell_type": "code",
   "execution_count": 50,
   "metadata": {
    "ExecuteTime": {
     "end_time": "2016-07-25T20:28:19.543580",
     "start_time": "2016-07-25T20:28:19.534551"
    },
    "collapsed": false
   },
   "outputs": [],
   "source": [
    "train, test = train_test_split(data, test_size=0.25, random_state=4444)"
   ]
  },
  {
   "cell_type": "code",
   "execution_count": 51,
   "metadata": {
    "ExecuteTime": {
     "end_time": "2016-07-25T20:28:19.612232",
     "start_time": "2016-07-25T20:28:19.547953"
    },
    "collapsed": false
   },
   "outputs": [
    {
     "data": {
      "text/html": [
       "<table class=\"simpletable\">\n",
       "<caption>OLS Regression Results</caption>\n",
       "<tr>\n",
       "  <th>Dep. Variable:</th>    <td>np.log(DomesticTotalGross)</td> <th>  R-squared:         </th> <td>   0.295</td>\n",
       "</tr>\n",
       "<tr>\n",
       "  <th>Model:</th>                        <td>OLS</td>            <th>  Adj. R-squared:    </th> <td>   0.244</td>\n",
       "</tr>\n",
       "<tr>\n",
       "  <th>Method:</th>                  <td>Least Squares</td>       <th>  F-statistic:       </th> <td>   5.779</td>\n",
       "</tr>\n",
       "<tr>\n",
       "  <th>Date:</th>                  <td>Mon, 25 Jul 2016</td>      <th>  Prob (F-statistic):</th> <td>0.000163</td>\n",
       "</tr>\n",
       "<tr>\n",
       "  <th>Time:</th>                      <td>20:28:19</td>          <th>  Log-Likelihood:    </th> <td> -66.768</td>\n",
       "</tr>\n",
       "<tr>\n",
       "  <th>No. Observations:</th>           <td>    75</td>           <th>  AIC:               </th> <td>   145.5</td>\n",
       "</tr>\n",
       "<tr>\n",
       "  <th>Df Residuals:</th>               <td>    69</td>           <th>  BIC:               </th> <td>   159.4</td>\n",
       "</tr>\n",
       "<tr>\n",
       "  <th>Df Model:</th>                   <td>     5</td>           <th>                     </th>     <td> </td>   \n",
       "</tr>\n",
       "<tr>\n",
       "  <th>Covariance Type:</th>           <td>nonrobust</td>         <th>                     </th>     <td> </td>   \n",
       "</tr>\n",
       "</table>\n",
       "<table class=\"simpletable\">\n",
       "<tr>\n",
       "         <td></td>            <th>coef</th>     <th>std err</th>      <th>t</th>      <th>P>|t|</th> <th>[95.0% Conf. Int.]</th> \n",
       "</tr>\n",
       "<tr>\n",
       "  <th>Intercept</th>       <td>   13.8724</td> <td>    1.632</td> <td>    8.500</td> <td> 0.000</td> <td>   10.617    17.128</td>\n",
       "</tr>\n",
       "<tr>\n",
       "  <th>Rating[T.PG]</th>    <td>   -1.0115</td> <td>    0.651</td> <td>   -1.554</td> <td> 0.125</td> <td>   -2.310     0.287</td>\n",
       "</tr>\n",
       "<tr>\n",
       "  <th>Rating[T.PG-13]</th> <td>   -1.3225</td> <td>    0.625</td> <td>   -2.116</td> <td> 0.038</td> <td>   -2.569    -0.076</td>\n",
       "</tr>\n",
       "<tr>\n",
       "  <th>Rating[T.R]</th>     <td>   -1.3309</td> <td>    0.627</td> <td>   -2.122</td> <td> 0.037</td> <td>   -2.582    -0.080</td>\n",
       "</tr>\n",
       "<tr>\n",
       "  <th>np.log(Budget)</th>  <td>    0.2614</td> <td>    0.090</td> <td>    2.888</td> <td> 0.005</td> <td>    0.081     0.442</td>\n",
       "</tr>\n",
       "<tr>\n",
       "  <th>Runtime</th>         <td>    0.0082</td> <td>    0.004</td> <td>    1.914</td> <td> 0.060</td> <td>   -0.000     0.017</td>\n",
       "</tr>\n",
       "</table>\n",
       "<table class=\"simpletable\">\n",
       "<tr>\n",
       "  <th>Omnibus:</th>       <td> 6.427</td> <th>  Durbin-Watson:     </th> <td>   2.100</td>\n",
       "</tr>\n",
       "<tr>\n",
       "  <th>Prob(Omnibus):</th> <td> 0.040</td> <th>  Jarque-Bera (JB):  </th> <td>   3.039</td>\n",
       "</tr>\n",
       "<tr>\n",
       "  <th>Skew:</th>          <td> 0.220</td> <th>  Prob(JB):          </th> <td>   0.219</td>\n",
       "</tr>\n",
       "<tr>\n",
       "  <th>Kurtosis:</th>      <td> 2.117</td> <th>  Cond. No.          </th> <td>2.77e+03</td>\n",
       "</tr>\n",
       "</table>"
      ],
      "text/plain": [
       "<class 'statsmodels.iolib.summary.Summary'>\n",
       "\"\"\"\n",
       "                                OLS Regression Results                                \n",
       "======================================================================================\n",
       "Dep. Variable:     np.log(DomesticTotalGross)   R-squared:                       0.295\n",
       "Model:                                    OLS   Adj. R-squared:                  0.244\n",
       "Method:                         Least Squares   F-statistic:                     5.779\n",
       "Date:                        Mon, 25 Jul 2016   Prob (F-statistic):           0.000163\n",
       "Time:                                20:28:19   Log-Likelihood:                -66.768\n",
       "No. Observations:                          75   AIC:                             145.5\n",
       "Df Residuals:                              69   BIC:                             159.4\n",
       "Df Model:                                   5                                         \n",
       "Covariance Type:                    nonrobust                                         \n",
       "===================================================================================\n",
       "                      coef    std err          t      P>|t|      [95.0% Conf. Int.]\n",
       "-----------------------------------------------------------------------------------\n",
       "Intercept          13.8724      1.632      8.500      0.000        10.617    17.128\n",
       "Rating[T.PG]       -1.0115      0.651     -1.554      0.125        -2.310     0.287\n",
       "Rating[T.PG-13]    -1.3225      0.625     -2.116      0.038        -2.569    -0.076\n",
       "Rating[T.R]        -1.3309      0.627     -2.122      0.037        -2.582    -0.080\n",
       "np.log(Budget)      0.2614      0.090      2.888      0.005         0.081     0.442\n",
       "Runtime             0.0082      0.004      1.914      0.060        -0.000     0.017\n",
       "==============================================================================\n",
       "Omnibus:                        6.427   Durbin-Watson:                   2.100\n",
       "Prob(Omnibus):                  0.040   Jarque-Bera (JB):                3.039\n",
       "Skew:                           0.220   Prob(JB):                        0.219\n",
       "Kurtosis:                       2.117   Cond. No.                     2.77e+03\n",
       "==============================================================================\n",
       "\n",
       "Warnings:\n",
       "[1] Standard Errors assume that the covariance matrix of the errors is correctly specified.\n",
       "[2] The condition number is large, 2.77e+03. This might indicate that there are\n",
       "strong multicollinearity or other numerical problems.\n",
       "\"\"\""
      ]
     },
     "execution_count": 51,
     "metadata": {},
     "output_type": "execute_result"
    }
   ],
   "source": [
    "res5 = sm.ols('np.log(DomesticTotalGross) ~ 1 + np.log(Budget) + Runtime + Rating', train).fit()\n",
    "res5.summary()"
   ]
  },
  {
   "cell_type": "code",
   "execution_count": 52,
   "metadata": {
    "ExecuteTime": {
     "end_time": "2016-07-25T20:28:19.764243",
     "start_time": "2016-07-25T20:28:19.751819"
    },
    "collapsed": false
   },
   "outputs": [],
   "source": [
    "predict = np.exp(res5.predict(test))"
   ]
  },
  {
   "cell_type": "code",
   "execution_count": 53,
   "metadata": {
    "ExecuteTime": {
     "end_time": "2016-07-25T20:28:21.732371",
     "start_time": "2016-07-25T20:28:21.362529"
    },
    "collapsed": false
   },
   "outputs": [
    {
     "data": {
      "image/png": "[encoded data removed]",
      "text/plain": [
       "<matplotlib.figure.Figure at 0x11e48c690>"
      ]
     },
     "metadata": {},
     "output_type": "display_data"
    }
   ],
   "source": [
    "f = plt.figure()\n",
    "f.set_size_inches(7,7)\n",
    "ax = plt.axes()\n",
    "\n",
    "ax.plot(test.DomesticTotalGross, predict, marker='o', ls='', label='data')\n",
    "ax.plot([0,3e8],[0,3e8], color=colors[2], label='ideal', marker='', ls='-')\n",
    "ax.set_xlim(0,3e8)\n",
    "ax.set_ylim(ax.get_xlim())\n",
    "\n",
    "ax.legend(loc=0)\n",
    "\n",
    "scale_pow = 6\n",
    "ax.get_xaxis().set_major_formatter(FuncFormatter(scale_ticklabels))\n",
    "ax.get_yaxis().set_major_formatter(FuncFormatter(scale_ticklabels))\n",
    "\n",
    "_ = ax.set(xlabel='Actual Domestic Total Gross (Millions $)', \n",
    "           ylabel='Predicted Domestic Total Gross (Millions $)',\n",
    "           title='Actual vs Predicted Domestic Total Gross')"
   ]
  }
 ],
 "metadata": {
  "kernelspec": {
   "display_name": "Python 2",
   "language": "python",
   "name": "python2"
  },
  "language_info": {
   "codemirror_mode": {
    "name": "ipython",
    "version": 2
   },
   "file_extension": ".py",
   "mimetype": "text/x-python",
   "name": "python",
   "nbconvert_exporter": "python",
   "pygments_lexer": "ipython2",
   "version": "2.7.12"
  }
 },
 "nbformat": 4,
 "nbformat_minor": 0
}
