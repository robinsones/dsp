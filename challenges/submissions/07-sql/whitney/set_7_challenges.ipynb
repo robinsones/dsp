{
 "cells": [
  {
   "cell_type": "markdown",
   "metadata": {},
   "source": [
    "# <a id='top'></a>\n",
    "# Challenge Set 7\n",
    "Topic:        SQL challenges  \n",
    "Date:         08/1/2016  \n",
    "Name:         Whitney Chia  \n",
    "Worked with:  Alllll by myyyyyself"
   ]
  },
  {
   "cell_type": "markdown",
   "metadata": {},
   "source": [
    "[Question 0](#question0)   \n",
    "[Question 1](#question1)   \n",
    "[Question 2](#question2)   \n",
    "[Question 3](#question3)   \n",
    "[Question 4](#question4)   \n",
    "[Question 5](#question5)   \n",
    "[Question 6](#question6)   \n",
    "[Question 7](#question7)   \n",
    "[Question 8](#question8)   \n",
    "[Question 9](#question9)   "
   ]
  },
  {
   "cell_type": "markdown",
   "metadata": {},
   "source": [
    "<a id='question0'></a>\n",
    "# Question 0   \n",
    "[Top](#top)"
   ]
  },
  {
   "cell_type": "markdown",
   "metadata": {},
   "source": [
    "```\n",
    "SELECT CustomerName FROM Customers WHERE Country = 'Sweden';\n",
    "```"
   ]
  },
  {
   "cell_type": "markdown",
   "metadata": {},
   "source": [
    "The answer is:   \n",
    "**Berglunds snabbköp   \n",
    "Folk och fä HB**"
   ]
  },
  {
   "cell_type": "markdown",
   "metadata": {},
   "source": [
    "<a id='question1'></a>\n",
    "# Question 1   \n",
    "[Top](#top)"
   ]
  },
  {
   "cell_type": "markdown",
   "metadata": {},
   "source": [
    "```\n",
    "SELECT CustomerName FROM Customers WHERE Country = 'UK';\n",
    "```"
   ]
  },
  {
   "cell_type": "markdown",
   "metadata": {},
   "source": [
    "The answer is:   \n",
    "**Around the Horn   \n",
    "B's Beverages   \n",
    "Consolidated Holdings   \n",
    "Eastern Connection   \n",
    "Island Trading   \n",
    "North/South   \n",
    "Seven Seas Imports**"
   ]
  },
  {
   "cell_type": "markdown",
   "metadata": {},
   "source": [
    "<a id='question2'></a>\n",
    "# Question 2   \n",
    "[Top](#top)"
   ]
  },
  {
   "cell_type": "markdown",
   "metadata": {},
   "source": [
    "```\n",
    "SELECT CustomerID, max(count)    \n",
    "    FROM(SELECT CustomerID, COUNT(*) as count    \n",
    "        FROM ORDERS GROUP BY CustomerID);   \n",
    "```"
   ]
  },
  {
   "cell_type": "markdown",
   "metadata": {},
   "source": [
    "This just gets us the CustomerID and the count of orders that CustomerID has. The result of it was a CustomerID of 20, who had a count of 10 orders. Finding the customerID of 20, helps us query another table to get the CustomerName of this customer."
   ]
  },
  {
   "cell_type": "markdown",
   "metadata": {},
   "source": [
    "```\n",
    "SELECT CustomerName FROM Customers WHERE CustomerID = 20;\n",
    "```"
   ]
  },
  {
   "cell_type": "markdown",
   "metadata": {},
   "source": [
    "The answer is: **Ernst Handel**"
   ]
  },
  {
   "cell_type": "markdown",
   "metadata": {},
   "source": [
    "<a id='question3'></a>\n",
    "# Question 3  \n",
    "[Top](#top)"
   ]
  },
  {
   "cell_type": "markdown",
   "metadata": {},
   "source": [
    "```\n",
    "SELECT SupplierID, max(pc_avg)   \n",
    "    FROM(SELECT SupplierID, AVG(Price) as pc_avg \n",
    "        FROM Products GROUP BY SupplierID);\n",
    "```"
   ]
  },
  {
   "cell_type": "markdown",
   "metadata": {},
   "source": [
    "This just gets us the SupplierID and the average pricing that SupplierID has. The result of it was a SupplierID of 18, who had an average of 140.75. Finding the supplierID of 18, helps us query another table to get the SupplierName of this customer."
   ]
  },
  {
   "cell_type": "markdown",
   "metadata": {},
   "source": [
    "```\n",
    "SELECT SupplierName FROM Suppliers WHERE SupplierID = 18;\n",
    "```"
   ]
  },
  {
   "cell_type": "markdown",
   "metadata": {},
   "source": [
    "The answer is : **Aux joyeux ecclésiastiques**"
   ]
  },
  {
   "cell_type": "markdown",
   "metadata": {},
   "source": [
    "<a id='question4'></a>\n",
    "# Question 4  \n",
    "[Top](#top)"
   ]
  },
  {
   "cell_type": "markdown",
   "metadata": {},
   "source": [
    "```\n",
    "SELECT Count(DISTINCT(Country)) FROM Customers;\n",
    "```"
   ]
  },
  {
   "cell_type": "markdown",
   "metadata": {},
   "source": [
    "The answer is: **21**"
   ]
  },
  {
   "cell_type": "markdown",
   "metadata": {},
   "source": [
    "<a id='question5'></a>\n",
    "# Question 5  \n",
    "[Top](#top)"
   ]
  },
  {
   "cell_type": "markdown",
   "metadata": {},
   "source": [
    "```\n",
    "SELECT CategoryID, COUNT(*) as count \n",
    "    FROM OrderDetails\n",
    "        JOIN Products ON OrderDetails.ProductID = Products.ProductID\n",
    "                GROUP BY OrderDetails.ProductID ORDER BY count DESC LIMIT 1;\n",
    "```"
   ]
  },
  {
   "cell_type": "markdown",
   "metadata": {},
   "source": [
    "This just gets us the CategoryID and the count of that CategoryID in terms of orders. The result of it was a CategoryID of 4, which had a count of 14. Finding the CategoryID of 4, helps us query another table to get the CategoryName of this category."
   ]
  },
  {
   "cell_type": "markdown",
   "metadata": {},
   "source": [
    "```\n",
    "SELECT CategoryName FROM Categories WHERE CategoryID = 4;\n",
    "```"
   ]
  },
  {
   "cell_type": "markdown",
   "metadata": {},
   "source": [
    "The answer is: **Dairy Products**"
   ]
  },
  {
   "cell_type": "markdown",
   "metadata": {},
   "source": [
    "<a id='question6'></a>\n",
    "# Question 6  \n",
    "[Top](#top)"
   ]
  },
  {
   "cell_type": "markdown",
   "metadata": {},
   "source": [
    "```\n",
    "SELECT OrderID, sum(Quantity * Price) FROM OrderDetails\n",
    "        JOIN Products ON OrderDetails.ProductID = Products.ProductID GROUP BY OrderID;\n",
    "```"
   ]
  },
  {
   "cell_type": "markdown",
   "metadata": {},
   "source": [
    "I'll only provide the first few results since this question has a long answer.  \n",
    "The first 4 answers is:  \n",
    "**OrderID sum(Quantity * Price)  \n",
    "10248\t    566  \n",
    "10249\t    2329.25  \n",
    "10250\t    2267.25  \n",
    "10251\t    839.5  \n",
    "**"
   ]
  },
  {
   "cell_type": "markdown",
   "metadata": {},
   "source": [
    "<a id='question7'></a>\n",
    "# Question 7  \n",
    "[Top](#top)"
   ]
  },
  {
   "cell_type": "markdown",
   "metadata": {
    "collapsed": true
   },
   "source": [
    "```\n",
    "SELECT FirstName, LastName, SUM(orderdetails.Quantity * products.Price) as Sales FROM Employees\n",
    "    JOIN Orders JOIN OrderDetails JOIN Products\n",
    "    ON employees.EmployeeID = orders.EmployeeID\n",
    "    AND orders.OrderID = orderdetails.OrderID\n",
    "    AND orderdetails.ProductID = products.ProductID\n",
    "        GROUP BY employees.EmployeeID\n",
    "        ORDER BY Sales DESC LIMIT 1;\n",
    "```"
   ]
  },
  {
   "cell_type": "markdown",
   "metadata": {},
   "source": [
    "The answer is:   \n",
    "**Margaret\tPeacock**"
   ]
  },
  {
   "cell_type": "markdown",
   "metadata": {},
   "source": [
    "# <a id='question8'></a>\n",
    "# Question 8  \n",
    "[Top](#top)"
   ]
  },
  {
   "cell_type": "markdown",
   "metadata": {},
   "source": [
    "```\n",
    "SELECT * FROM Employees WHERE Notes LIKE '%BS%'\n",
    "```"
   ]
  },
  {
   "cell_type": "markdown",
   "metadata": {},
   "source": [
    "The answers are:   \n",
    "**Janet\tLeverling and Steven Buchanan**"
   ]
  },
  {
   "cell_type": "markdown",
   "metadata": {},
   "source": [
    "# <a id='question9'></a>\n",
    "# Question 9  \n",
    "[Top](#top)"
   ]
  },
  {
   "cell_type": "markdown",
   "metadata": {},
   "source": [
    "```\n",
    "SELECT SupplierName, COUNT(*) as product_count, AVG(products.Price) FROM Suppliers\n",
    "    JOIN Products \n",
    "    ON suppliers.SupplierID = products.SupplierID\n",
    "    GROUP BY suppliers.SupplierID HAVING 3 <= product_count\n",
    "    ORDER BY AVG(products.Price) DESC LIMIT 1;\n",
    "```"
   ]
  },
  {
   "cell_type": "markdown",
   "metadata": {},
   "source": [
    "The answer is:   \n",
    "**Tokyo Traders**"
   ]
  },
  {
   "cell_type": "code",
   "execution_count": null,
   "metadata": {
    "collapsed": true
   },
   "outputs": [],
   "source": []
  }
 ],
 "metadata": {
  "kernelspec": {
   "display_name": "Python 2",
   "language": "python",
   "name": "python2"
  },
  "language_info": {
   "codemirror_mode": {
    "name": "ipython",
    "version": 2
   },
   "file_extension": ".py",
   "mimetype": "text/x-python",
   "name": "python",
   "nbconvert_exporter": "python",
   "pygments_lexer": "ipython2",
   "version": "2.7.12"
  }
 },
 "nbformat": 4,
 "nbformat_minor": 0
}
