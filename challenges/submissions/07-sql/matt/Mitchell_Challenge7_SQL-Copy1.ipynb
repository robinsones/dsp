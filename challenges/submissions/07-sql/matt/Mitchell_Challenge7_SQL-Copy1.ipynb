{
 "cells": [
  {
   "cell_type": "markdown",
   "metadata": {},
   "source": [
    "Challenge Set 7\n",
    "Topic:        SQL\n",
    "Date:         08/01/2016\n",
    "Name:         Matthew Mitchell\n",
    "Worked with:  N/A"
   ]
  },
  {
   "cell_type": "markdown",
   "metadata": {},
   "source": [
    "Challenge 1\n",
    "\n",
    "What customers are from the UK?"
   ]
  },
  {
   "cell_type": "markdown",
   "metadata": {},
   "source": [
    "SELECT * FROM [Customers] Where Country='UK';"
   ]
  },
  {
   "cell_type": "markdown",
   "metadata": {},
   "source": [
    "Challenge 2\n",
    "\n",
    "What is the name of the customer who has the most orders?"
   ]
  },
  {
   "cell_type": "markdown",
   "metadata": {},
   "source": [
    "SELECT CustomerName, COUNT(*) AS count\n",
    "FROM Customers Join Orders ON Customers.CustomerID = Orders.CustomerID\n",
    "GROUP BY Customers.CustomerID\n",
    "ORDER BY count DESC;\n",
    "\n",
    "CustomerName\tcount\n",
    "Ernst Handel\t10\n",
    "QUICK-Stop\t7\n",
    "Rattlesnake Canyon Grocery\t7"
   ]
  },
  {
   "cell_type": "markdown",
   "metadata": {},
   "source": [
    "####Challenge 3\n",
    "\n",
    "What supplier has the highest average product price?"
   ]
  },
  {
   "cell_type": "code",
   "execution_count": null,
   "metadata": {
    "collapsed": true
   },
   "outputs": [],
   "source": [
    "SELECT SupplierName, AVG(Price)\n",
    "FROM Suppliers Join Products ON Suppliers.SupplierID = Products.SupplierID\n",
    "GROUP BY Suppliers.SupplierID\n",
    "ORDER BY AVG(Price) DESC;\n",
    "\n",
    "Number of Records: 29\n",
    "SupplierName\tAVG(Price)\n",
    "Aux joyeux ecclésiastiques\t140.75"
   ]
  },
  {
   "cell_type": "markdown",
   "metadata": {},
   "source": [
    "####Challenge 4\n",
    "\n",
    "How many different countries are their customers from? (Hint: Consider DISTINCT.)"
   ]
  },
  {
   "cell_type": "markdown",
   "metadata": {},
   "source": [
    "```sql\n",
    "SELECT COUNT(DISTINCT Country) FROM [Customers];\n",
    "```\n",
    "21"
   ]
  },
  {
   "cell_type": "markdown",
   "metadata": {},
   "source": [
    "##Challenge 5\n",
    "\n",
    "What category appears in the most orders?\n"
   ]
  },
  {
   "cell_type": "markdown",
   "metadata": {},
   "source": [
    "```sql\n",
    "SELECT COUNT(category) FROM Orders;\n",
    "```"
   ]
  },
  {
   "cell_type": "markdown",
   "metadata": {},
   "source": [
    "##Challenge 6\n",
    "\n",
    "What was the total cost for each order?"
   ]
  },
  {
   "cell_type": "markdown",
   "metadata": {},
   "source": [
    "```sql\n",
    "SELECT SUM(Cost) FROM Orders;\n",
    "```"
   ]
  },
  {
   "cell_type": "markdown",
   "metadata": {},
   "source": [
    "##Challenge 7\n",
    "\n",
    "What employee made the most sales (by total cost)?"
   ]
  },
  {
   "cell_type": "markdown",
   "metadata": {},
   "source": [
    "```sql\n",
    "SELECT SUM(cost)\n",
    "FROM orders\n",
    "JOIN Employees ON\n",
    "\n",
    "ORDER BY\n",
    "LIMIT 1;"
   ]
  },
  {
   "cell_type": "markdown",
   "metadata": {},
   "source": [
    "##Challenge 8\n",
    "\n",
    "What employees have BS degrees? (Hint: Look at the LIKE operator.)"
   ]
  },
  {
   "cell_type": "markdown",
   "metadata": {},
   "source": [
    "```sql\n",
    "SELECT"
   ]
  },
  {
   "cell_type": "markdown",
   "metadata": {},
   "source": [
    "##Challenge 9\n",
    "\n",
    "What supplier of three or more products has the highest average product price? (Hint: Look at the HAVING operator.)"
   ]
  },
  {
   "cell_type": "markdown",
   "metadata": {},
   "source": [
    "```sql\n",
    "SELECT supplier, AVG(PRICE)\n",
    "FROM supplier\n",
    "JOIN products ON\n",
    "____.____=___.___\n",
    "HAVING\n",
    "ORDER BY \n"
   ]
  }
 ],
 "metadata": {
  "kernelspec": {
   "display_name": "Python 2",
   "language": "python",
   "name": "python2"
  },
  "language_info": {
   "codemirror_mode": {
    "name": "ipython",
    "version": 2
   },
   "file_extension": ".py",
   "mimetype": "text/x-python",
   "name": "python",
   "nbconvert_exporter": "python",
   "pygments_lexer": "ipython2",
   "version": "2.7.12"
  }
 },
 "nbformat": 4,
 "nbformat_minor": 0
}
