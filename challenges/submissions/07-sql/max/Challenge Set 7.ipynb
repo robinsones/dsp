{
 "cells": [
  {
   "cell_type": "markdown",
   "metadata": {},
   "source": [
    "<center>\n",
    "<font size=5px><b>\n",
    "Challenge Set 7\n",
    "</font>\n",
    "</center>"
   ]
  },
  {
   "cell_type": "markdown",
   "metadata": {},
   "source": [
    "| Topic:    | SQL |\n",
    "| :-------- | --------------------: |\n",
    "| Student:  | Max Farago            |\n",
    "| Date Due: | 08/01/2016            |"
   ]
  },
  {
   "cell_type": "markdown",
   "metadata": {},
   "source": [
    "### Challenge 0 - Practice Example\n",
    "__What customers are from Sweden?__"
   ]
  },
  {
   "cell_type": "raw",
   "metadata": {},
   "source": [
    "SELECT * FROM Customers WHERE Country='Sweden';"
   ]
  },
  {
   "cell_type": "markdown",
   "metadata": {},
   "source": [
    "Berglunds snabbköp\tChristina Berglund\t\n",
    "Folk och fä HB\tMaria Larsson"
   ]
  },
  {
   "cell_type": "markdown",
   "metadata": {},
   "source": [
    "### Challenge 1\n",
    "__What customers are from the UK?__"
   ]
  },
  {
   "cell_type": "raw",
   "metadata": {},
   "source": [
    "SELECT * FROM Customers WHERE Country='UK'"
   ]
  },
  {
   "cell_type": "markdown",
   "metadata": {},
   "source": [
    "Around the Horn\tThomas Hardy<br>\n",
    "B's Beverages\tVictoria Ashworth<br>\n",
    "Consolidated Holdings\tElizabeth Brown<br>\n",
    "Eastern Connection\tAnn Devon<br>\n",
    "Island Trading\tHelen Bennett<br>\n",
    "North/South\tSimon Crowther<br>\n",
    "Seven Seas Imports\tHari Kumar"
   ]
  },
  {
   "cell_type": "markdown",
   "metadata": {},
   "source": [
    "### Challenge 2\n",
    "__What is the name of the customer who has the most orders?__"
   ]
  },
  {
   "cell_type": "raw",
   "metadata": {},
   "source": [
    "SELECT CustomerID, Count(CustomerID) AS Count\n",
    "FROM Orders\n",
    "GROUP BY CustomerID\n",
    "ORDER BY Count DESC\n",
    "LIMIT 1"
   ]
  },
  {
   "cell_type": "markdown",
   "metadata": {},
   "source": [
    "|CustomerID|Count|\n",
    "|-|-|\n",
    "|20|10"
   ]
  },
  {
   "cell_type": "markdown",
   "metadata": {},
   "source": [
    "### Challenge 3\n",
    "__What supplier has the highest average product price?__"
   ]
  },
  {
   "cell_type": "raw",
   "metadata": {},
   "source": [
    "SELECT SupplierName\n",
    "FROM Products\n",
    "JOIN Suppliers\n",
    "ON Suppliers.SupplierID = Products.SupplierID\n",
    "GROUP BY Products.SupplierID\n",
    "ORDER BY AVG(Price) DESC"
   ]
  },
  {
   "cell_type": "markdown",
   "metadata": {},
   "source": [
    "|SupplierName|\n",
    "|-|\n",
    "|Aux joyeux ecclésiastiques|"
   ]
  },
  {
   "cell_type": "markdown",
   "metadata": {},
   "source": [
    "### Challenge 4\n",
    "__How many different countries are their customers from?__"
   ]
  },
  {
   "cell_type": "raw",
   "metadata": {},
   "source": [
    "SELECT COUNT(DISTINCT Country) FROM Customers"
   ]
  },
  {
   "cell_type": "markdown",
   "metadata": {},
   "source": [
    "|COUNT(DISTINCT Country)|\n",
    "|-|\n",
    "|21|"
   ]
  },
  {
   "cell_type": "markdown",
   "metadata": {},
   "source": [
    "### Challenge 5\n",
    "__What category appears the most in order details?__"
   ]
  },
  {
   "cell_type": "raw",
   "metadata": {},
   "source": [
    "SELECT CategoryName, COUNT(CategoryName) as Count\n",
    "FROM [OrderDetails]\n",
    "JOIN Products\n",
    "ON Products.ProductID = OrderDetails.ProductID\n",
    "JOIN Categories\n",
    "ON Categories.CategoryID = Products.CategoryID\n",
    "GROUP BY CategoryName\n",
    "ORDER BY Count DESC\n",
    "LIMIT 1"
   ]
  },
  {
   "cell_type": "markdown",
   "metadata": {},
   "source": [
    "|CategoryName|Count|\n",
    "|-|-|\n",
    "|Dairy Products|100|"
   ]
  },
  {
   "cell_type": "markdown",
   "metadata": {},
   "source": [
    "### Challenge 6\n",
    "__What was the total cost for each order?__"
   ]
  },
  {
   "cell_type": "raw",
   "metadata": {},
   "source": [
    "SELECT OrderID, SUM(Price) as Price\n",
    "FROM [OrderDetails]\n",
    "JOIN Products\n",
    "ON OrderDetails.ProductID = Products.ProductID\n",
    "GROUP BY OrderID"
   ]
  },
  {
   "cell_type": "markdown",
   "metadata": {},
   "source": [
    "|OrderID|\tPrice|\n",
    "|-|-|\n",
    "|10248|\t69.8|\n",
    "|10249|\t76.25|\n",
    "|10250|\t83.7|\n",
    "|...|...|"
   ]
  },
  {
   "cell_type": "markdown",
   "metadata": {},
   "source": [
    "### Challenge 7\n",
    "__What employee made the most sales (by total cost)?__"
   ]
  },
  {
   "cell_type": "raw",
   "metadata": {},
   "source": [
    "SELECT FirstName, LastName, SUM(Price) as Sales\n",
    "FROM [OrderDetails]\n",
    "JOIN Products\n",
    "ON OrderDetails.ProductID = Products.ProductID\n",
    "JOIN Orders\n",
    "ON OrderDetails.OrderID = Orders.OrderID\n",
    "JOIN Employees\n",
    "ON Orders.EmployeeID = Employees.EmployeeID\n",
    "GROUP BY Orders.EmployeeID\n",
    "ORDER BY SUM(Price) DESC\n",
    "LIMIT 1"
   ]
  },
  {
   "cell_type": "markdown",
   "metadata": {},
   "source": [
    "|FirstName|\tLastName|\tSales|\n",
    "|-|-|\n",
    "|Margaret\t|Peacock|\t3887.22|"
   ]
  },
  {
   "cell_type": "markdown",
   "metadata": {},
   "source": [
    "### Challenge 8\n",
    "__What employees have BS degrees?__"
   ]
  },
  {
   "cell_type": "raw",
   "metadata": {},
   "source": [
    "SELECT *\n",
    "FROM Employees\n",
    "WHERE Notes LIKE '%BS Degree%'"
   ]
  },
  {
   "cell_type": "markdown",
   "metadata": {},
   "source": [
    "|FirstName|LastName|\n",
    "|-|-|\n",
    "|Janet|Leverling|"
   ]
  },
  {
   "cell_type": "markdown",
   "metadata": {},
   "source": [
    "### Challenge 9\n",
    "__What supplier of three or more products has the highest average product price?__"
   ]
  },
  {
   "cell_type": "markdown",
   "metadata": {},
   "source": [
    "SELECT SupplierName\n",
    "FROM [Products]\n",
    "JOIN Suppliers\n",
    "ON Products.SupplierID = Suppliers.SupplierID\n",
    "GROUP BY Products.SupplierID\n",
    "HAVING Count(ProductID) > 2\n",
    "ORDER BY AVG(Price) DESC\n",
    "LIMIT 1"
   ]
  },
  {
   "cell_type": "markdown",
   "metadata": {},
   "source": [
    "|SupplierName|\n",
    "|-|\n",
    "|Tokyo Traders|"
   ]
  }
 ],
 "metadata": {
  "kernelspec": {
   "display_name": "Python 2",
   "language": "python",
   "name": "python2"
  },
  "language_info": {
   "codemirror_mode": {
    "name": "ipython",
    "version": 2
   },
   "file_extension": ".py",
   "mimetype": "text/x-python",
   "name": "python",
   "nbconvert_exporter": "python",
   "pygments_lexer": "ipython2",
   "version": "2.7.12"
  }
 },
 "nbformat": 4,
 "nbformat_minor": 0
}
