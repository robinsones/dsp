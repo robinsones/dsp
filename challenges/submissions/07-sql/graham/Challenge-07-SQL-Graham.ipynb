{
 "cells": [
  {
   "cell_type": "markdown",
   "metadata": {},
   "source": [
    "# SQL Challenges\n",
    "Challenge Set 7<br/>\n",
    "Allison and Graham<br/>\n",
    "Aug 1, 2016\n",
    "***"
   ]
  },
  {
   "cell_type": "markdown",
   "metadata": {},
   "source": [
    "### Challenge 0 - Practice Example\n",
    "\n",
    "What customers are from Sweden?"
   ]
  },
  {
   "cell_type": "code",
   "execution_count": null,
   "metadata": {
    "collapsed": true
   },
   "outputs": [],
   "source": [
    "SELECT * FROM Customers WHERE Country='Sweden';"
   ]
  },
  {
   "cell_type": "markdown",
   "metadata": {},
   "source": [
    "### Challenge 1 :What customers are from the UK?"
   ]
  },
  {
   "cell_type": "code",
   "execution_count": null,
   "metadata": {
    "collapsed": true
   },
   "outputs": [],
   "source": [
    "SELECT * FROM Customers WHERE Country='UK';"
   ]
  },
  {
   "cell_type": "markdown",
   "metadata": {},
   "source": [
    "### Challenge 2\n",
    "\n",
    "What is the name of the customer who has the most orders?"
   ]
  },
  {
   "cell_type": "code",
   "execution_count": null,
   "metadata": {
    "collapsed": true
   },
   "outputs": [],
   "source": [
    "SELECT count(*) as Order_Count , o.CustomerID, c.CustomerName \n",
    "FROM Orders o, Customers c\n",
    "WHERE c.CustomerID = o.CustomerID\n",
    "GROUP BY c.CustomerID \n",
    "ORDER BY -Count(*) LIMIT 1"
   ]
  },
  {
   "cell_type": "markdown",
   "metadata": {},
   "source": [
    "### Challenge 3\n",
    "What supplier has the highest average product price?"
   ]
  },
  {
   "cell_type": "code",
   "execution_count": null,
   "metadata": {
    "collapsed": true
   },
   "outputs": [],
   "source": [
    "SELECT s.SupplierName, Avg(p.Price) as AVG_Price\n",
    "FROM SUPPLIERS s, Products p \n",
    "WHERE s.SupplierID = p.SupplierID \n",
    "GROUP BY s.SupplierName \n",
    "ORDER BY -Avg_Price LIMIT 1"
   ]
  },
  {
   "cell_type": "markdown",
   "metadata": {},
   "source": [
    "### Challenge  4\n",
    "How many different countries are their customers from? (Hint: Consider DISTINCT.)"
   ]
  },
  {
   "cell_type": "code",
   "execution_count": null,
   "metadata": {
    "collapsed": true
   },
   "outputs": [],
   "source": [
    "SELECT COUNT (DISTINCT(Country))\n",
    "FROM Customers"
   ]
  },
  {
   "cell_type": "markdown",
   "metadata": {},
   "source": [
    "### Challenge 5\n",
    "What category appears the most in order details?"
   ]
  },
  {
   "cell_type": "code",
   "execution_count": null,
   "metadata": {
    "collapsed": true
   },
   "outputs": [],
   "source": [
    "SELECT c.CategoryName , SUM(p.ProductID) AS Count \n",
    "FROM Products p\n",
    "LEFT JOIN OrderDetails od\n",
    "ON p.ProductID = od.ProductID\n",
    "LEFT JOIN Categories c\n",
    "ON p.CategoryID = c.CategoryID\n",
    "GROUP BY p.CategoryID\n",
    "ORDER BY -Count;"
   ]
  },
  {
   "cell_type": "markdown",
   "metadata": {},
   "source": [
    "### Challenge 6\n",
    "What was the total cost for each order?"
   ]
  },
  {
   "cell_type": "code",
   "execution_count": null,
   "metadata": {
    "collapsed": true
   },
   "outputs": [],
   "source": [
    "SELECT o.OrderID, SUM(od.Quantity*p.Price) as Total_Cost \n",
    "FROM OrderDetails od, Orders o, Products p \n",
    "WHERE od.ProductID = p.ProductID  and o.OrderID = od.OrderID  \n",
    "GROUP BY o.OrderID"
   ]
  },
  {
   "cell_type": "markdown",
   "metadata": {},
   "source": [
    "### Challenge 7\n",
    "What employee made the most sales (by total cost)?"
   ]
  },
  {
   "cell_type": "code",
   "execution_count": null,
   "metadata": {
    "collapsed": true
   },
   "outputs": [],
   "source": [
    "SELECT e.EmployeeID, e.LastName, e.FirstName, SUM(od.Quantity*p.Price) as Order_Total \n",
    "FROM Orders o, OrderDetails od, Products p, Employees e \n",
    "WHERE o.OrderID = od.OrderID and e.EmployeeID = o.EmployeeID  and od.ProductID = p.ProductID \n",
    "GROUP BY e.EmployeeID \n",
    "ORDER BY -Order_Total \n",
    "LIMIT 1"
   ]
  },
  {
   "cell_type": "markdown",
   "metadata": {},
   "source": [
    "### Challenge 8\n",
    "What employees have BS degrees? (Hint: Look at the LIKE operator.)"
   ]
  },
  {
   "cell_type": "code",
   "execution_count": null,
   "metadata": {
    "collapsed": true
   },
   "outputs": [],
   "source": [
    "SELECT LastName, FirstName, Notes \n",
    "FROM Employees\n",
    "WHERE Notes LIKE '%BS%'"
   ]
  },
  {
   "cell_type": "markdown",
   "metadata": {},
   "source": [
    "### Challenge 9\n",
    "What supplier of three or more products has the highest average product price? (Hint: Look at the HAVING operator.)"
   ]
  },
  {
   "cell_type": "code",
   "execution_count": null,
   "metadata": {
    "collapsed": true
   },
   "outputs": [],
   "source": [
    "SELECT s.SupplierName, AVG(p.Price) as AVG_Price\n",
    "FROM Suppliers s, Products p\n",
    "WHERE s.SupplierID = p.SupplierID\n",
    "GROUP BY p.SupplierID HAVING COUNT(*) >= 3\n",
    "ORDER BY -AVG_Price LIMIT 1"
   ]
  }
 ],
 "metadata": {
  "_draft": {
   "nbviewer_url": "https://gist.github.com/e82f9b489c2b66b4dbf34fbff22a6b15"
  },
  "gist": {
   "data": {
    "description": "challenges/challenges_questions/05-classification/Untitled.ipynb",
    "public": true
   },
   "id": "e82f9b489c2b66b4dbf34fbff22a6b15"
  },
  "kernelspec": {
   "display_name": "Python 3",
   "language": "python",
   "name": "python3"
  },
  "language_info": {
   "codemirror_mode": {
    "name": "ipython",
    "version": 3
   },
   "file_extension": ".py",
   "mimetype": "text/x-python",
   "name": "python",
   "nbconvert_exporter": "python",
   "pygments_lexer": "ipython3",
   "version": "3.5.2"
  }
 },
 "nbformat": 4,
 "nbformat_minor": 0
}
