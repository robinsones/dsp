{
 "cells": [
  {
   "cell_type": "markdown",
   "metadata": {},
   "source": [
    "|Challenge Set 7|\n",
    "|---------------|\n",
    "|Topic: |SQL|\n",
    "|Date: |08/01/2016|\n",
    "|Name: |Jessica Cox|"
   ]
  },
  {
   "cell_type": "markdown",
   "metadata": {},
   "source": [
    "Q1.  What customers are from the UK?"
   ]
  },
  {
   "cell_type": "raw",
   "metadata": {},
   "source": [
    "SELECT CustomerName FROM Customers WHERE Country='UK';"
   ]
  },
  {
   "cell_type": "markdown",
   "metadata": {},
   "source": [
    "|CustomerName|\n",
    "|------------|\n",
    "|Around the Horn|\n",
    "|B's Beverages|\n",
    "|Consolidated Holdings|\n",
    "|Eastern Connection|\n",
    "|Island Trading|\n",
    "|North/South|\n",
    "|Seven Seas Imports|"
   ]
  },
  {
   "cell_type": "markdown",
   "metadata": {},
   "source": [
    "Q2.    What is the name of the customer who has the most orders?"
   ]
  },
  {
   "cell_type": "raw",
   "metadata": {},
   "source": [
    "SELECT CustomerID, COUNT(CustomerID) AS MOST_FREQUENT\n",
    "FROM Orders\n",
    "GROUP BY CustomerID\n",
    "ORDER BY COUNT(CustomerID) DESC LIMIT 1;"
   ]
  },
  {
   "cell_type": "markdown",
   "metadata": {},
   "source": [
    "|CustomerID\t |MOST_FREQUENT|\n",
    "|--------------------------|\n",
    "|20|\t10|"
   ]
  },
  {
   "cell_type": "markdown",
   "metadata": {},
   "source": [
    "Q3. What supplier has the highest average product price?"
   ]
  },
  {
   "cell_type": "raw",
   "metadata": {},
   "source": [
    "SELECT SupplierID, AVG(Price) FROM Products GROUP BY SupplierID ORDER BY AVG(Price) DESC LIMIT 1;"
   ]
  },
  {
   "cell_type": "markdown",
   "metadata": {},
   "source": [
    "|SupplierID|\tAVG(Price)|\n",
    "|-------------------------|\n",
    "|18|\t140.75|\n"
   ]
  },
  {
   "cell_type": "markdown",
   "metadata": {},
   "source": [
    "Q4. How many different countries are their customers from? (Hint: Consider DISTINCT.)\n",
    "\n"
   ]
  },
  {
   "cell_type": "raw",
   "metadata": {
    "collapsed": true
   },
   "source": [
    "SELECT COUNT(DISTINCT(Country)) FROM Customers;"
   ]
  },
  {
   "cell_type": "markdown",
   "metadata": {},
   "source": [
    "COUNT(DISTINCT(Country))\n",
    "21"
   ]
  },
  {
   "cell_type": "markdown",
   "metadata": {},
   "source": [
    "Q5.  What category appears the most in order details?"
   ]
  },
  {
   "cell_type": "raw",
   "metadata": {},
   "source": [
    "SELECT C.CategoryName,count(C.CategoryID) as most_sold \n",
    "FROM OrderDetails O, Categories C, Products P \n",
    "WHERE C.CategoryID = P.CategoryID and O.ProductID = O.ProductID \n",
    "GROUP BY C.CategoryID \n",
    "ORDER BY C.CategoryID DESC LIMIT 1"
   ]
  },
  {
   "cell_type": "markdown",
   "metadata": {},
   "source": [
    "|CategoryName|most_sold|\n",
    "|----------------------|\n",
    "|Seafood|6216|"
   ]
  },
  {
   "cell_type": "markdown",
   "metadata": {},
   "source": [
    "Q6.  What was the total cost for each order?"
   ]
  },
  {
   "cell_type": "raw",
   "metadata": {},
   "source": [
    "SELECT O.OrderID, sum(OD.Quantity*P.Price) \n",
    "AS t_cost \n",
    "FROM Orders O,OrderDetails OD,Products P, Categories C\n",
    "WHERE C.CategoryName = 'Seafood'\n",
    "AND O.OrderID = OD.OrderID and OD.ProductID = P.ProductID \n",
    "GROUP BY C.CategoryName"
   ]
  },
  {
   "cell_type": "markdown",
   "metadata": {},
   "source": [
    "|OrderID|t_cost|\n",
    "|--------------|\n",
    "|10443|386424.23|"
   ]
  },
  {
   "cell_type": "markdown",
   "metadata": {},
   "source": [
    "Q7.  What employee made the most sales (by total cost)?"
   ]
  },
  {
   "cell_type": "raw",
   "metadata": {},
   "source": [
    "SELECT E.EmployeeID,E.LastName,E.FirstName,sum(OD.Quantity*P.Price) AS Most_sales \n",
    "FROM Orders O,OrderDetails OD,Products P,Employees E \n",
    "WHERE O.OrderID = OD.OrderID AND OD.ProductID = P.ProductID \n",
    "AND E.EmployeeID = O.EmployeeID \n",
    "GROUP BY E.EmployeeID ORDER BY Most_sales DESC LIMIT 1"
   ]
  },
  {
   "cell_type": "markdown",
   "metadata": {},
   "source": [
    "|EmployeeID|LastName|FirstName|Most_sales|\n",
    "|----------------------------------------|\n",
    "|4|Peacock|Margaret|105696.49999999999|"
   ]
  },
  {
   "cell_type": "markdown",
   "metadata": {},
   "source": [
    "Q8. What employees have BS degrees? (Hint: Look at the LIKE operator.)"
   ]
  },
  {
   "cell_type": "raw",
   "metadata": {},
   "source": [
    "SELECT E.EmployeeID, E.LastName, E.FirstName\n",
    "FROM Employees E\n",
    "WHERE E.Notes LIKE '%BS%'"
   ]
  },
  {
   "cell_type": "markdown",
   "metadata": {},
   "source": [
    "|EmployeeID|LastName|FirstName|\n",
    "|-----------------------------|\n",
    "|3|Leverling|Janet|\n",
    "|5|Buchanan|Steven|\n"
   ]
  },
  {
   "cell_type": "markdown",
   "metadata": {},
   "source": [
    "Q9.  What supplier of three or more products has the highest average product price? (Hint: Look at the HAVING operator.)"
   ]
  },
  {
   "cell_type": "raw",
   "metadata": {
    "collapsed": true
   },
   "source": [
    "SELECT S.SupplierID, S.SupplierName, AVG(P.Price)\n",
    "FROM Suppliers S, Products P, Orders O\n",
    "WHERE S.SupplierID = P.SupplierID\n",
    "GROUP BY S.SupplierID\n",
    "HAVING COUNT(P.ProductID) >= 3\n",
    "ORDER BY AVG(P.Price)\n",
    "DESC LIMIT 1"
   ]
  },
  {
   "cell_type": "markdown",
   "metadata": {},
   "source": [
    "|SupplierID|SupplierName|AVG(P.Price)|\n",
    "|------------------------------------|\n",
    "|18|Aux joyeux ecclésiastiques|140.75|"
   ]
  }
 ],
 "metadata": {
  "kernelspec": {
   "display_name": "Python 3",
   "language": "python",
   "name": "python3"
  },
  "language_info": {
   "codemirror_mode": {
    "name": "ipython",
    "version": 3
   },
   "file_extension": ".py",
   "mimetype": "text/x-python",
   "name": "python",
   "nbconvert_exporter": "python",
   "pygments_lexer": "ipython3",
   "version": "3.5.2"
  }
 },
 "nbformat": 4,
 "nbformat_minor": 0
}
