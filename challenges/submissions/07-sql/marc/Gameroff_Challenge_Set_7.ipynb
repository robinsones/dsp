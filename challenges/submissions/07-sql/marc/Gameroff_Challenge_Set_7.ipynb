{
 "cells": [
  {
   "cell_type": "markdown",
   "metadata": {},
   "source": [
    "# Challenge set 7\n",
    "\n",
    "\n",
    "Name: Marc Gameroff  \n",
    "Topic: SQL  \n",
    "Date: August 7, 2016"
   ]
  },
  {
   "cell_type": "markdown",
   "metadata": {},
   "source": [
    "## Challenge 1\n",
    "\n",
    "What customers are from the UK?"
   ]
  },
  {
   "cell_type": "markdown",
   "metadata": {},
   "source": [
    "```SQL\n",
    "SELECT * \n",
    "FROM [Customers]\n",
    "WHERE Country = 'UK';\n",
    "```"
   ]
  },
  {
   "cell_type": "markdown",
   "metadata": {},
   "source": [
    "**Number of Records: 7**  \n",
    "_CustomerID\tCustomerName\tContactName\tAddress\tCity\tPostalCode\tCountry _   \n",
    "4\tAround the Horn\tThomas Hardy\t120 Hanover Sq.\tLondon\tWA1 1DP\tUK  \n",
    "11\tB's Beverages\tVictoria Ashworth\tFauntleroy Circus\tLondon\tEC2 5NT\tUK  \n",
    "16\tConsolidated Holdings\tElizabeth Brown\tBerkeley Gardens 12 Brewery\tLondon\tWX1 6LT\tUK  \n",
    "19\tEastern Connection\tAnn Devon\t35 King George\tLondon\tWX3 6FW\tUK  \n",
    "38\tIsland Trading\tHelen Bennett\tGarden House Crowther Way\tCowes\tPO31 7PJ\tUK  \n",
    "53\tNorth/South\tSimon Crowther\tSouth House 300 Queensbridge\tLondon\tSW7 1RZ\tUK  \n",
    "72\tSeven Seas Imports\tHari Kumar\t90 Wadhurst Rd.\tLondon\tOX15 4NB\tUK\n"
   ]
  },
  {
   "cell_type": "markdown",
   "metadata": {},
   "source": [
    "## Challenge 2\n",
    "\n",
    "What is the name of the customer who has the most orders?"
   ]
  },
  {
   "cell_type": "markdown",
   "metadata": {},
   "source": [
    "```SQL\n",
    "SELECT CustomerName, count(o.CustomerID) AS num_orders\n",
    "FROM Orders as o\n",
    "JOIN Customers as c\n",
    "ON o.CustomerID = c.CustomerID\n",
    "GROUP BY CustomerName\n",
    "ORDER BY num_orders DESC LIMIT 1\n",
    "```"
   ]
  },
  {
   "cell_type": "markdown",
   "metadata": {},
   "source": [
    "Number of Records: 1  \n",
    "CustomerName\tnum_orders  \n",
    "**Ernst Handel**\t10"
   ]
  },
  {
   "cell_type": "markdown",
   "metadata": {},
   "source": [
    "## Challenge 3\n",
    "\n",
    "What supplier has the highest average product price?"
   ]
  },
  {
   "cell_type": "markdown",
   "metadata": {},
   "source": [
    "```SQL\n",
    "SELECT s.SupplierName, AVG(p.Price) AS avg_price\n",
    "FROM Products as p\n",
    "JOIN Suppliers as s\n",
    "ON p.SupplierID = s.SupplierID\n",
    "GROUP BY SupplierName\n",
    "ORDER BY avg_price DESC LIMIT 1\n",
    "```"
   ]
  },
  {
   "cell_type": "markdown",
   "metadata": {},
   "source": [
    "Number of Records: 1  \n",
    "SupplierName\tavg_price  \n",
    "**Aux joyeux ecclésiastiques**\t140.75"
   ]
  },
  {
   "cell_type": "markdown",
   "metadata": {},
   "source": [
    "## Challenge 4\n",
    "\n",
    "How many different countries are their customers from? (Hint: Consider DISTINCT.)"
   ]
  },
  {
   "cell_type": "markdown",
   "metadata": {},
   "source": [
    "```SQL\n",
    "SELECT count(DISTINCT(Country)) \n",
    "FROM Customers\n",
    "```"
   ]
  },
  {
   "cell_type": "markdown",
   "metadata": {},
   "source": [
    "Number of Records: 1  \n",
    "count(DISTINCT(Country))  \n",
    "**21**"
   ]
  },
  {
   "cell_type": "markdown",
   "metadata": {},
   "source": [
    "## Challenge 5\n",
    "\n",
    "What category appears the most in order details?"
   ]
  },
  {
   "cell_type": "markdown",
   "metadata": {},
   "source": [
    "```SQL\n",
    "SELECT categoryname, COUNT(categoryname) AS count\n",
    "FROM Products AS p\n",
    "JOIN OrderDetails AS o\n",
    "ON o.ProductID=p.productID\n",
    "JOIN Categories AS c\n",
    "ON c.CategoryID = p.CategoryID\n",
    "GROUP BY categoryname\n",
    "ORDER BY COUNT(categoryname) DESC LIMIT 1\n",
    "```"
   ]
  },
  {
   "cell_type": "markdown",
   "metadata": {},
   "source": [
    "Number of Records: 1  \n",
    "CategoryName\tcount  \n",
    "**Dairy Products**\t100"
   ]
  },
  {
   "cell_type": "markdown",
   "metadata": {},
   "source": [
    "## Challenge 6\n",
    "\n",
    "What was the total cost for each order?"
   ]
  },
  {
   "cell_type": "markdown",
   "metadata": {},
   "source": [
    "```SQL\n",
    "SELECT o.OrderID, sum(quantity*price) AS TOT_PRICE \n",
    "FROM [Orders] AS O\n",
    "JOIN ORDERDETAILS AS OD\n",
    "ON O.ORDERID = OD.ORDERID\n",
    "JOIN PRODUCTS AS P\n",
    "ON P.PRODUCTID = OD.PRODUCTID\n",
    "group by o.orderid\n",
    "order by tot_price desc\n",
    "```"
   ]
  },
  {
   "cell_type": "markdown",
   "metadata": {},
   "source": [
    "Beginning of output:\n",
    "\n",
    "Number of Records: 196  \n",
    "OrderID\tTOT_PRICE  \n",
    "10372\t**15353.6**  \n",
    "10424\t**14366.5** \n",
    "10417\t**14104** \n",
    "10353\t**13427**  "
   ]
  },
  {
   "cell_type": "markdown",
   "metadata": {},
   "source": [
    "## Challenge 7\n",
    "\n",
    "What employee made the most sales (by total cost)?"
   ]
  },
  {
   "cell_type": "markdown",
   "metadata": {},
   "source": [
    "```SQL\n",
    "SELECT e.lastname, e.firstname , sum(quantity*price) AS TOT_PRICE\n",
    "FROM [Orders] AS O\n",
    "JOIN ORDERDETAILS AS OD\n",
    "ON O.ORDERID = OD.ORDERID\n",
    "JOIN PRODUCTS AS P\n",
    "ON P.PRODUCTID = OD.PRODUCTID\n",
    "JOIN employees AS e\n",
    "ON e.employeeid = o.employeeid\n",
    "GROUP BY o.employeeid\n",
    "ORDER BY tot_price DESC limit 1\n",
    "```\n",
    "\n"
   ]
  },
  {
   "cell_type": "markdown",
   "metadata": {},
   "source": [
    "Number of Records: 1  \n",
    "LastName\tFirstName\tTOT_PRICE  \n",
    "**Peacock\tMargaret**\t105696.49999999999"
   ]
  },
  {
   "cell_type": "markdown",
   "metadata": {},
   "source": [
    "## Challenge 8\n",
    "\n",
    "What employees have BS degrees? (Hint: Look at the LIKE operator.)\n",
    "\n"
   ]
  },
  {
   "cell_type": "markdown",
   "metadata": {},
   "source": [
    "```SQL\n",
    "SELECT lastname, firstname \n",
    "FROM [Employees]\n",
    "WHERE notes LIKE \"%BS%\"\n",
    "```"
   ]
  },
  {
   "cell_type": "markdown",
   "metadata": {},
   "source": [
    "Number of Records: 2  \n",
    "LastName\tFirstName  \n",
    "**Leverling\tJanet  \n",
    "Buchanan\tSteven** "
   ]
  },
  {
   "cell_type": "markdown",
   "metadata": {},
   "source": [
    "## Challenge 9\n",
    "\n",
    "What supplier of three or more products has the highest average product price? (Hint: Look at the HAVING operator.)"
   ]
  },
  {
   "cell_type": "markdown",
   "metadata": {},
   "source": [
    "```SQL\n",
    "SELECT s.SupplierName, AVG(p.Price) AS avg_price, COUNT(DISTINCT(p.productid)) AS num_prods\n",
    "FROM Products AS p\n",
    "left JOIN Suppliers AS s\n",
    "ON p.SupplierID = s.SupplierID\n",
    "GROUP BY SupplierName\n",
    "HAVING num_prods > 2\n",
    "ORDER BY avg_price DESC LIMIT 1\n",
    "```"
   ]
  },
  {
   "cell_type": "markdown",
   "metadata": {},
   "source": [
    "Number of Records: 1  \n",
    "SupplierName\tavg_price\tnum_prods  \n",
    "**Tokyo Traders**\t46\t3"
   ]
  }
 ],
 "metadata": {
  "kernelspec": {
   "display_name": "Python 3",
   "language": "python",
   "name": "python3"
  },
  "language_info": {
   "codemirror_mode": {
    "name": "ipython",
    "version": 3
   },
   "file_extension": ".py",
   "mimetype": "text/x-python",
   "name": "python",
   "nbconvert_exporter": "python",
   "pygments_lexer": "ipython3",
   "version": "3.5.2"
  }
 },
 "nbformat": 4,
 "nbformat_minor": 0
}
