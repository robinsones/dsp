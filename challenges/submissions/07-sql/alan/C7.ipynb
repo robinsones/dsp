{
 "cells": [
  {
   "cell_type": "markdown",
   "metadata": {},
   "source": [
    "### SQL Challenges\n",
    "\n",
    "The core SQL challenges consist of the activities at the end of the SQL lab.  \n",
    "http://www.w3schools.com/sql/trysql.asp?filename=trysql_select_all  \n",
    "\n",
    "You can run the queries in W3 schools and include your work in a markdown file (exercise number, question, SQL query, result of query)\n",
    "\n",
    "---\n",
    "\n",
    "**Challenge 0 - Practice Example**\n",
    "\n",
    "What customers are from Sweden?\n",
    "\n",
    "```sql\n",
    "SELECT * FROM Customers WHERE Country='Sweden';\n",
    "```\n",
    "\n",
    ">Berglunds snabbköp  |Christina Berglund  \n",
    "Folk och fä HB  |Maria Larsson   "
   ]
  },
  {
   "cell_type": "markdown",
   "metadata": {},
   "source": [
    "**Challenge 1**\n",
    "\n",
    "What customers are from the UK?"
   ]
  },
  {
   "cell_type": "markdown",
   "metadata": {},
   "source": [
    "```\n",
    "SELECT * FROM Customers WHERE Country='UK';\n",
    "```\n",
    "CustomerID|CustomerName|ContactName|Address|City|PostalCode|Country\n",
    "---|---|---|---|---|---|---\n",
    "4|Around the Horn|Thomas Hardy|120 Hanover Sq.|London|WA1 1DP|UK  \n",
    "11|B's Beverages|Victoria Ashworth|Fauntleroy Circus|London|EC2 5NT|UK  \n",
    "16|Consolidated Holdings|Elizabeth Brown|Berkeley Gardens 12 Brewery|London|WX1 6LT|UK  \n",
    "19|Eastern Connection|Ann Devon|35 King George|London|WX3 6FW|UK  \n",
    "38|Island Trading|Helen Bennett|Garden House Crowther Way|Cowes|PO31 7PJ|UK  \n",
    "53|North/South|Simon Crowther|South House 300 Queensbridge|London|SW7 1RZ|UK  \n",
    "72|Seven Seas Imports|Hari Kumar|90 Wadhurst Rd.|London|OX15 4NB|UK  "
   ]
  },
  {
   "cell_type": "markdown",
   "metadata": {},
   "source": [
    "**Challenge 2**\n",
    "\n",
    "What is the name of the customer who has the most orders?"
   ]
  },
  {
   "cell_type": "markdown",
   "metadata": {},
   "source": [
    "```SELECT Customers.CustomerName, COUNT(DISTINCT OrderID) as ct FROM Orders\n",
    "LEFT JOIN Customers ON Orders.CustomerID==Customers.CustomerID\n",
    "GROUP BY Orders.CustomerId ORDER BY ct DESC\n",
    "LIMIT 1;```\n",
    "\n",
    "CustomerName|ct\n",
    "---|---\n",
    "Ernst Handel|10"
   ]
  },
  {
   "cell_type": "markdown",
   "metadata": {},
   "source": [
    "**Challenge 3**\n",
    "\n",
    "What supplier has the highest average product price?"
   ]
  },
  {
   "cell_type": "markdown",
   "metadata": {},
   "source": [
    "```\n",
    "SELECT SupplierName, AVG(p.Price) as av FROM Products as p  \n",
    "LEFT JOIN Suppliers as s  \n",
    "ON p.SupplierID = s.SupplierID  \n",
    "GROUP BY p.SupplierID  \n",
    "ORDER BY av DESC  \n",
    "LIMIT 1;  \n",
    "```\n",
    "\n",
    ">SupplierName|av  \n",
    "Aux joyeux ecclésiastiques|140.75  "
   ]
  },
  {
   "cell_type": "markdown",
   "metadata": {},
   "source": [
    "**Challenge 4**\n",
    "\n",
    "How many different countries are their customers from? (Hint: Consider DISTINCT.)\n",
    "\n",
    "```\n",
    "SELECT DISTINCT Country FROM [Customers]\n",
    "```\n",
    "\n",
    "> Number of Records: 21\n"
   ]
  },
  {
   "cell_type": "markdown",
   "metadata": {},
   "source": [
    "**Challenge 5**\n",
    "\n",
    "What category appears the most in order details?"
   ]
  },
  {
   "cell_type": "markdown",
   "metadata": {},
   "source": [
    "```\n",
    "SELECT c.CategoryName, COUNT(*) as ct FROM OrderDetails as o\n",
    "LEFT JOIN Products as p ON o.ProductID = p.ProductID\n",
    "LEFT JOIN Categories as c on p.CategoryID = c.CategoryId\n",
    "GROUP BY p.CategoryID\n",
    "ORDER BY ct DESC\n",
    "LIMIT 1;\n",
    "```\n",
    "\n",
    "> CategoryName|ct  \n",
    "Dairy Products|100"
   ]
  },
  {
   "cell_type": "markdown",
   "metadata": {},
   "source": [
    "**Challenge 6**\n",
    "\n",
    "What was the total cost for each order?"
   ]
  },
  {
   "cell_type": "markdown",
   "metadata": {},
   "source": [
    "```\n",
    "SELECT o.OrderID, sum(p.Price) as total_cost FROM OrderDetails as o\n",
    "LEFT JOIN Products as p ON o.ProductID = p.ProductID\n",
    "GROUP BY o.OrderID\n",
    "LIMIT 5;\n",
    "```\n",
    "\n",
    "> OrderID|total_cost  \n",
    "10248|69.8  \n",
    "10249|76.25  \n",
    "10250|83.7  \n",
    "10251|61.55  \n",
    "10252|117.5  "
   ]
  },
  {
   "cell_type": "markdown",
   "metadata": {},
   "source": [
    "**Challenge 7**\n",
    "\n",
    "What employee made the most sales (by total cost)?"
   ]
  },
  {
   "cell_type": "markdown",
   "metadata": {},
   "source": [
    "```\n",
    "SELECT e.employeeID, e.Lastname, e.FirstName, sum(p.Price) as total_sales FROM OrderDetails as od\n",
    "LEFT JOIN Products as p ON od.ProductID = p.ProductID\n",
    "LEFT JOIN Orders as o ON od.OrderID = o.OrderID\n",
    "LEFT JOIN Employees as e on o.EmployeeID = e.EmployeeID\n",
    "GROUP BY e.EmployeeID;\n",
    "```\n",
    "\n",
    "> EmployeeID|LastName|FirstName|total_sales  \n",
    "1|Davolio|Nancy|2393.6800000000003  \n",
    "2|Fuller|Andrew|1215.1499999999999  \n",
    "3|Leverling|Janet|1765.8100000000004  \n",
    "4|Peacock|Margaret|3887.22  \n",
    "5|Buchanan|Steven|873.8999999999999  \n",
    "6|Suyama|Michael|1181.4999999999998  \n",
    "7|King|Robert|1216.25  \n",
    "8|Callahan|Laura|2172.17  \n",
    "9|Dodsworth|Anne|424.68999999999994  "
   ]
  },
  {
   "cell_type": "markdown",
   "metadata": {},
   "source": [
    "**Challenge 8**\n",
    "\n",
    "What employees have BS degrees? (Hint: Look at the LIKE operator.)"
   ]
  },
  {
   "cell_type": "markdown",
   "metadata": {},
   "source": [
    "```\n",
    "SELECT * FROM Employees\n",
    "WHERE Notes LIKE '%BS%';\n",
    "```\n",
    "\n",
    "> |EmployeeID|LastName|FirstName|BirthDate|Photo|Notes|\n",
    "|---|---|---|---|---|---|\n",
    "|3|Leverling|Janet|1963-08-30|EmpID3.pic|Janet has a BS degree in chemistry from Boston College). She has also completed a certificate program in food retailing management. Janet was hired as a sales associate and was promoted to sales representative.|\n",
    "|5|Buchanan|Steven|1955-03-04|EmpID5.pic|Steven Buchanan graduated from St. Andrews University, Scotland, with a BSC degree. Upon joining the company as a sales representative, he spent 6 months in an orientation program at the Seattle office and then returned to his permanent post in London, where he was promoted to sales manager. Mr. Buchanan has completed the courses 'Successful Telemarketing' and 'International Sales Management'. He is fluent in French.|"
   ]
  },
  {
   "cell_type": "markdown",
   "metadata": {},
   "source": [
    "**Challenge 9**\n",
    "\n",
    "What supplier of three or more products has the highest average product price? (Hint: Look at the HAVING operator.)"
   ]
  },
  {
   "cell_type": "markdown",
   "metadata": {},
   "source": [
    "```\n",
    "SELECT SupplierName, AVG(p.Price) as av, COUNT(p.ProductID) as ct FROM Products as p  \n",
    "LEFT JOIN Suppliers as s  \n",
    "ON p.SupplierID = s.SupplierID  \n",
    "GROUP BY p.SupplierID\n",
    "HAVING ct > 2\n",
    "ORDER BY av DESC\n",
    "LIMIT 3; \n",
    "```\n",
    "\n",
    "> SupplierName\tav\tct  \n",
    "Tokyo Traders\t46\t3  \n",
    "Plutzer Lebensmittelgroßmärkte AG\t44.678000000000004\t5  \n",
    "Pavlova, Ltd.\t35.57\t5  "
   ]
  },
  {
   "cell_type": "code",
   "execution_count": null,
   "metadata": {
    "collapsed": true
   },
   "outputs": [],
   "source": []
  }
 ],
 "metadata": {
  "kernelspec": {
   "display_name": "Python 2",
   "language": "python",
   "name": "python2"
  },
  "language_info": {
   "codemirror_mode": {
    "name": "ipython",
    "version": 2
   },
   "file_extension": ".py",
   "mimetype": "text/x-python",
   "name": "python",
   "nbconvert_exporter": "python",
   "pygments_lexer": "ipython2",
   "version": "2.7.12"
  }
 },
 "nbformat": 4,
 "nbformat_minor": 0
}
