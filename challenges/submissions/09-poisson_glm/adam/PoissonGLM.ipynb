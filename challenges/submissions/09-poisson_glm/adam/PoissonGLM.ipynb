{
 "cells": [
  {
   "cell_type": "markdown",
   "metadata": {},
   "source": [
    "# Challenges 9\n",
    "Topic: Poisson GLM  \n",
    "Name: Adam Levin  \n",
    "Date: 8/7/2016  "
   ]
  },
  {
   "cell_type": "markdown",
   "metadata": {},
   "source": [
    "**Challenge 1**"
   ]
  },
  {
   "cell_type": "code",
   "execution_count": 229,
   "metadata": {
    "collapsed": true
   },
   "outputs": [],
   "source": [
    "import pandas as pd\n",
    "import numpy as np\n",
    "from pandas.io.stata import StataReader"
   ]
  },
  {
   "cell_type": "code",
   "execution_count": 230,
   "metadata": {
    "collapsed": false
   },
   "outputs": [
    {
     "name": "stdout",
     "output_type": "stream",
     "text": [
      "  % Total    % Received % Xferd  Average Speed   Time    Time     Time  Current\n",
      "                                 Dload  Upload   Total   Spent    Left  Speed\n",
      "100  2324  100  2324    0     0   4950      0 --:--:-- --:--:-- --:--:-- 56682\n"
     ]
    }
   ],
   "source": [
    "!curl http://data.princeton.edu/wws509/datasets/ships.dta > ships.dta"
   ]
  },
  {
   "cell_type": "code",
   "execution_count": 231,
   "metadata": {
    "collapsed": false
   },
   "outputs": [],
   "source": [
    "reader = StataReader('ships.dta')\n",
    "data = reader.read()"
   ]
  },
  {
   "cell_type": "code",
   "execution_count": 232,
   "metadata": {
    "collapsed": false
   },
   "outputs": [
    {
     "data": {
      "text/html": [
       "<div>\n",
       "<table border=\"1\" class=\"dataframe\">\n",
       "  <thead>\n",
       "    <tr style=\"text-align: right;\">\n",
       "      <th></th>\n",
       "      <th>type</th>\n",
       "      <th>construction</th>\n",
       "      <th>operation</th>\n",
       "      <th>months</th>\n",
       "      <th>damage</th>\n",
       "    </tr>\n",
       "  </thead>\n",
       "  <tbody>\n",
       "    <tr>\n",
       "      <th>0</th>\n",
       "      <td>A</td>\n",
       "      <td>1960-64</td>\n",
       "      <td>1960-74</td>\n",
       "      <td>127.0</td>\n",
       "      <td>0.0</td>\n",
       "    </tr>\n",
       "    <tr>\n",
       "      <th>1</th>\n",
       "      <td>A</td>\n",
       "      <td>1960-64</td>\n",
       "      <td>1975-79</td>\n",
       "      <td>63.0</td>\n",
       "      <td>0.0</td>\n",
       "    </tr>\n",
       "    <tr>\n",
       "      <th>2</th>\n",
       "      <td>A</td>\n",
       "      <td>1965-70</td>\n",
       "      <td>1960-74</td>\n",
       "      <td>1095.0</td>\n",
       "      <td>3.0</td>\n",
       "    </tr>\n",
       "    <tr>\n",
       "      <th>3</th>\n",
       "      <td>A</td>\n",
       "      <td>1965-70</td>\n",
       "      <td>1975-79</td>\n",
       "      <td>1095.0</td>\n",
       "      <td>4.0</td>\n",
       "    </tr>\n",
       "    <tr>\n",
       "      <th>4</th>\n",
       "      <td>A</td>\n",
       "      <td>1970-74</td>\n",
       "      <td>1960-74</td>\n",
       "      <td>1512.0</td>\n",
       "      <td>6.0</td>\n",
       "    </tr>\n",
       "  </tbody>\n",
       "</table>\n",
       "</div>"
      ],
      "text/plain": [
       "  type construction operation  months  damage\n",
       "0    A      1960-64   1960-74   127.0     0.0\n",
       "1    A      1960-64   1975-79    63.0     0.0\n",
       "2    A      1965-70   1960-74  1095.0     3.0\n",
       "3    A      1965-70   1975-79  1095.0     4.0\n",
       "4    A      1970-74   1960-74  1512.0     6.0"
      ]
     },
     "execution_count": 232,
     "metadata": {},
     "output_type": "execute_result"
    }
   ],
   "source": [
    "data.head()"
   ]
  },
  {
   "cell_type": "code",
   "execution_count": 233,
   "metadata": {
    "collapsed": false
   },
   "outputs": [
    {
     "data": {
      "text/plain": [
       "1970-74    10\n",
       "1965-70    10\n",
       "1960-64     9\n",
       "1975-79     5\n",
       "Name: construction, dtype: int64"
      ]
     },
     "execution_count": 233,
     "metadata": {},
     "output_type": "execute_result"
    }
   ],
   "source": [
    "data.construction.value_counts()"
   ]
  },
  {
   "cell_type": "code",
   "execution_count": 234,
   "metadata": {
    "collapsed": false
   },
   "outputs": [],
   "source": [
    "data = data.replace('1970-74',1972)\n",
    "data = data.replace('1965-70',1967.5)\n",
    "data = data.replace('1960-64',1962)\n",
    "data = data.replace('1975-79',1977)"
   ]
  },
  {
   "cell_type": "code",
   "execution_count": 235,
   "metadata": {
    "collapsed": false
   },
   "outputs": [
    {
     "data": {
      "text/plain": [
       "1977       19\n",
       "1960-74    15\n",
       "Name: operation, dtype: int64"
      ]
     },
     "execution_count": 235,
     "metadata": {},
     "output_type": "execute_result"
    }
   ],
   "source": [
    "data.operation.value_counts()"
   ]
  },
  {
   "cell_type": "code",
   "execution_count": 236,
   "metadata": {
    "collapsed": true
   },
   "outputs": [],
   "source": [
    "data = data.replace('1960-74',1967)\n",
    "data = data.replace('1977',1977)"
   ]
  },
  {
   "cell_type": "code",
   "execution_count": 237,
   "metadata": {
    "collapsed": true
   },
   "outputs": [],
   "source": [
    "data = pd.get_dummies(data)"
   ]
  },
  {
   "cell_type": "code",
   "execution_count": 238,
   "metadata": {
    "collapsed": false
   },
   "outputs": [
    {
     "data": {
      "text/html": [
       "<div>\n",
       "<table border=\"1\" class=\"dataframe\">\n",
       "  <thead>\n",
       "    <tr style=\"text-align: right;\">\n",
       "      <th></th>\n",
       "      <th>construction</th>\n",
       "      <th>operation</th>\n",
       "      <th>months</th>\n",
       "      <th>damage</th>\n",
       "      <th>type_A</th>\n",
       "      <th>type_B</th>\n",
       "      <th>type_C</th>\n",
       "      <th>type_D</th>\n",
       "      <th>type_E</th>\n",
       "    </tr>\n",
       "  </thead>\n",
       "  <tbody>\n",
       "    <tr>\n",
       "      <th>0</th>\n",
       "      <td>1962.0</td>\n",
       "      <td>1967</td>\n",
       "      <td>127.0</td>\n",
       "      <td>0.0</td>\n",
       "      <td>1.0</td>\n",
       "      <td>0.0</td>\n",
       "      <td>0.0</td>\n",
       "      <td>0.0</td>\n",
       "      <td>0.0</td>\n",
       "    </tr>\n",
       "    <tr>\n",
       "      <th>1</th>\n",
       "      <td>1962.0</td>\n",
       "      <td>1977</td>\n",
       "      <td>63.0</td>\n",
       "      <td>0.0</td>\n",
       "      <td>1.0</td>\n",
       "      <td>0.0</td>\n",
       "      <td>0.0</td>\n",
       "      <td>0.0</td>\n",
       "      <td>0.0</td>\n",
       "    </tr>\n",
       "    <tr>\n",
       "      <th>2</th>\n",
       "      <td>1967.5</td>\n",
       "      <td>1967</td>\n",
       "      <td>1095.0</td>\n",
       "      <td>3.0</td>\n",
       "      <td>1.0</td>\n",
       "      <td>0.0</td>\n",
       "      <td>0.0</td>\n",
       "      <td>0.0</td>\n",
       "      <td>0.0</td>\n",
       "    </tr>\n",
       "    <tr>\n",
       "      <th>3</th>\n",
       "      <td>1967.5</td>\n",
       "      <td>1977</td>\n",
       "      <td>1095.0</td>\n",
       "      <td>4.0</td>\n",
       "      <td>1.0</td>\n",
       "      <td>0.0</td>\n",
       "      <td>0.0</td>\n",
       "      <td>0.0</td>\n",
       "      <td>0.0</td>\n",
       "    </tr>\n",
       "    <tr>\n",
       "      <th>4</th>\n",
       "      <td>1972.0</td>\n",
       "      <td>1967</td>\n",
       "      <td>1512.0</td>\n",
       "      <td>6.0</td>\n",
       "      <td>1.0</td>\n",
       "      <td>0.0</td>\n",
       "      <td>0.0</td>\n",
       "      <td>0.0</td>\n",
       "      <td>0.0</td>\n",
       "    </tr>\n",
       "  </tbody>\n",
       "</table>\n",
       "</div>"
      ],
      "text/plain": [
       "   construction  operation  months  damage  type_A  type_B  type_C  type_D  \\\n",
       "0        1962.0       1967   127.0     0.0     1.0     0.0     0.0     0.0   \n",
       "1        1962.0       1977    63.0     0.0     1.0     0.0     0.0     0.0   \n",
       "2        1967.5       1967  1095.0     3.0     1.0     0.0     0.0     0.0   \n",
       "3        1967.5       1977  1095.0     4.0     1.0     0.0     0.0     0.0   \n",
       "4        1972.0       1967  1512.0     6.0     1.0     0.0     0.0     0.0   \n",
       "\n",
       "   type_E  \n",
       "0     0.0  \n",
       "1     0.0  \n",
       "2     0.0  \n",
       "3     0.0  \n",
       "4     0.0  "
      ]
     },
     "execution_count": 238,
     "metadata": {},
     "output_type": "execute_result"
    }
   ],
   "source": [
    "data.head()"
   ]
  },
  {
   "cell_type": "code",
   "execution_count": 239,
   "metadata": {
    "collapsed": true
   },
   "outputs": [],
   "source": [
    "import statsmodels.api as sm"
   ]
  },
  {
   "cell_type": "code",
   "execution_count": 240,
   "metadata": {
    "collapsed": false,
    "scrolled": true
   },
   "outputs": [],
   "source": [
    "poisson_model = sm.GLM(data['damage'],data.drop('damage',axis=1),family=sm.families.Poisson())"
   ]
  },
  {
   "cell_type": "code",
   "execution_count": 241,
   "metadata": {
    "collapsed": false
   },
   "outputs": [
    {
     "data": {
      "text/plain": [
       "[statsmodels.genmod.families.links.log,\n",
       " statsmodels.genmod.families.links.identity,\n",
       " statsmodels.genmod.families.links.sqrt]"
      ]
     },
     "execution_count": 241,
     "metadata": {},
     "output_type": "execute_result"
    }
   ],
   "source": [
    "sm.families.family.Poisson.links"
   ]
  },
  {
   "cell_type": "code",
   "execution_count": 242,
   "metadata": {
    "collapsed": false
   },
   "outputs": [],
   "source": [
    "results = poisson_model.fit()"
   ]
  },
  {
   "cell_type": "code",
   "execution_count": 243,
   "metadata": {
    "collapsed": false
   },
   "outputs": [
    {
     "data": {
      "text/html": [
       "<table class=\"simpletable\">\n",
       "<caption>Generalized Linear Model Regression Results</caption>\n",
       "<tr>\n",
       "  <th>Dep. Variable:</th>       <td>damage</td>      <th>  No. Observations:  </th>  <td>    34</td> \n",
       "</tr>\n",
       "<tr>\n",
       "  <th>Model:</th>                 <td>GLM</td>       <th>  Df Residuals:      </th>  <td>    26</td> \n",
       "</tr>\n",
       "<tr>\n",
       "  <th>Model Family:</th>        <td>Poisson</td>     <th>  Df Model:          </th>  <td>     7</td> \n",
       "</tr>\n",
       "<tr>\n",
       "  <th>Link Function:</th>         <td>log</td>       <th>  Scale:             </th>    <td>1.0</td>  \n",
       "</tr>\n",
       "<tr>\n",
       "  <th>Method:</th>               <td>IRLS</td>       <th>  Log-Likelihood:    </th> <td> -108.37</td>\n",
       "</tr>\n",
       "<tr>\n",
       "  <th>Date:</th>           <td>Sun, 07 Aug 2016</td> <th>  Deviance:          </th> <td>  118.88</td>\n",
       "</tr>\n",
       "<tr>\n",
       "  <th>Time:</th>               <td>21:38:22</td>     <th>  Pearson chi2:      </th>  <td>  112.</td> \n",
       "</tr>\n",
       "<tr>\n",
       "  <th>No. Iterations:</th>         <td>9</td>        <th>                     </th>     <td> </td>   \n",
       "</tr>\n",
       "</table>\n",
       "<table class=\"simpletable\">\n",
       "<tr>\n",
       "        <td></td>          <th>coef</th>     <th>std err</th>      <th>z</th>      <th>P>|z|</th> <th>[95.0% Conf. Int.]</th> \n",
       "</tr>\n",
       "<tr>\n",
       "  <th>construction</th> <td>    0.0564</td> <td>    0.014</td> <td>    4.017</td> <td> 0.000</td> <td>    0.029     0.084</td>\n",
       "</tr>\n",
       "<tr>\n",
       "  <th>operation</th>    <td>    0.0546</td> <td>    0.014</td> <td>    3.934</td> <td> 0.000</td> <td>    0.027     0.082</td>\n",
       "</tr>\n",
       "<tr>\n",
       "  <th>months</th>       <td>  4.89e-05</td> <td> 7.11e-06</td> <td>    6.875</td> <td> 0.000</td> <td>  3.5e-05  6.28e-05</td>\n",
       "</tr>\n",
       "<tr>\n",
       "  <th>type_A</th>       <td> -217.1916</td> <td>   38.301</td> <td>   -5.671</td> <td> 0.000</td> <td> -292.260  -142.123</td>\n",
       "</tr>\n",
       "<tr>\n",
       "  <th>type_B</th>       <td> -216.2441</td> <td>   38.373</td> <td>   -5.635</td> <td> 0.000</td> <td> -291.454  -141.034</td>\n",
       "</tr>\n",
       "<tr>\n",
       "  <th>type_C</th>       <td> -218.4018</td> <td>   38.294</td> <td>   -5.703</td> <td> 0.000</td> <td> -293.456  -143.347</td>\n",
       "</tr>\n",
       "<tr>\n",
       "  <th>type_D</th>       <td> -218.0558</td> <td>   38.297</td> <td>   -5.694</td> <td> 0.000</td> <td> -293.116  -142.996</td>\n",
       "</tr>\n",
       "<tr>\n",
       "  <th>type_E</th>       <td> -217.3055</td> <td>   38.302</td> <td>   -5.674</td> <td> 0.000</td> <td> -292.376  -142.235</td>\n",
       "</tr>\n",
       "</table>"
      ],
      "text/plain": [
       "<class 'statsmodels.iolib.summary.Summary'>\n",
       "\"\"\"\n",
       "                 Generalized Linear Model Regression Results                  \n",
       "==============================================================================\n",
       "Dep. Variable:                 damage   No. Observations:                   34\n",
       "Model:                            GLM   Df Residuals:                       26\n",
       "Model Family:                 Poisson   Df Model:                            7\n",
       "Link Function:                    log   Scale:                             1.0\n",
       "Method:                          IRLS   Log-Likelihood:                -108.37\n",
       "Date:                Sun, 07 Aug 2016   Deviance:                       118.88\n",
       "Time:                        21:38:22   Pearson chi2:                     112.\n",
       "No. Iterations:                     9                                         \n",
       "================================================================================\n",
       "                   coef    std err          z      P>|z|      [95.0% Conf. Int.]\n",
       "--------------------------------------------------------------------------------\n",
       "construction     0.0564      0.014      4.017      0.000         0.029     0.084\n",
       "operation        0.0546      0.014      3.934      0.000         0.027     0.082\n",
       "months         4.89e-05   7.11e-06      6.875      0.000       3.5e-05  6.28e-05\n",
       "type_A        -217.1916     38.301     -5.671      0.000      -292.260  -142.123\n",
       "type_B        -216.2441     38.373     -5.635      0.000      -291.454  -141.034\n",
       "type_C        -218.4018     38.294     -5.703      0.000      -293.456  -143.347\n",
       "type_D        -218.0558     38.297     -5.694      0.000      -293.116  -142.996\n",
       "type_E        -217.3055     38.302     -5.674      0.000      -292.376  -142.235\n",
       "================================================================================\n",
       "\"\"\""
      ]
     },
     "execution_count": 243,
     "metadata": {},
     "output_type": "execute_result"
    }
   ],
   "source": [
    "results.summary()"
   ]
  },
  {
   "cell_type": "markdown",
   "metadata": {},
   "source": [
    "This model is not very good. The chi2 statistic is 112 with 26 degrees of freedom. Since P(chi-sq-26) < 112 = 1, the model fits poorly. The sample size is very small. "
   ]
  },
  {
   "cell_type": "markdown",
   "metadata": {},
   "source": [
    "**Challenge 2**"
   ]
  },
  {
   "cell_type": "code",
   "execution_count": 244,
   "metadata": {
    "collapsed": true
   },
   "outputs": [],
   "source": [
    "poisson_model = sm.GLM(data['damage'],data.drop(['damage','months'],axis=1),\n",
    "                       offset=np.log(data['months']),family=sm.families.Poisson())"
   ]
  },
  {
   "cell_type": "code",
   "execution_count": 245,
   "metadata": {
    "collapsed": true
   },
   "outputs": [],
   "source": [
    "results = poisson_model.fit()"
   ]
  },
  {
   "cell_type": "code",
   "execution_count": 246,
   "metadata": {
    "collapsed": false
   },
   "outputs": [
    {
     "data": {
      "text/html": [
       "<table class=\"simpletable\">\n",
       "<caption>Generalized Linear Model Regression Results</caption>\n",
       "<tr>\n",
       "  <th>Dep. Variable:</th>       <td>damage</td>      <th>  No. Observations:  </th>  <td>    34</td> \n",
       "</tr>\n",
       "<tr>\n",
       "  <th>Model:</th>                 <td>GLM</td>       <th>  Df Residuals:      </th>  <td>    27</td> \n",
       "</tr>\n",
       "<tr>\n",
       "  <th>Model Family:</th>        <td>Poisson</td>     <th>  Df Model:          </th>  <td>     6</td> \n",
       "</tr>\n",
       "<tr>\n",
       "  <th>Link Function:</th>         <td>log</td>       <th>  Scale:             </th>    <td>1.0</td>  \n",
       "</tr>\n",
       "<tr>\n",
       "  <th>Method:</th>               <td>IRLS</td>       <th>  Log-Likelihood:    </th> <td> -78.076</td>\n",
       "</tr>\n",
       "<tr>\n",
       "  <th>Date:</th>           <td>Sun, 07 Aug 2016</td> <th>  Deviance:          </th> <td>  58.286</td>\n",
       "</tr>\n",
       "<tr>\n",
       "  <th>Time:</th>               <td>21:38:23</td>     <th>  Pearson chi2:      </th>  <td>  64.6</td> \n",
       "</tr>\n",
       "<tr>\n",
       "  <th>No. Iterations:</th>         <td>9</td>        <th>                     </th>     <td> </td>   \n",
       "</tr>\n",
       "</table>\n",
       "<table class=\"simpletable\">\n",
       "<tr>\n",
       "        <td></td>          <th>coef</th>     <th>std err</th>      <th>z</th>      <th>P>|z|</th> <th>[95.0% Conf. Int.]</th> \n",
       "</tr>\n",
       "<tr>\n",
       "  <th>construction</th> <td>    0.0445</td> <td>    0.013</td> <td>    3.450</td> <td> 0.001</td> <td>    0.019     0.070</td>\n",
       "</tr>\n",
       "<tr>\n",
       "  <th>operation</th>    <td>    0.0349</td> <td>    0.012</td> <td>    2.880</td> <td> 0.004</td> <td>    0.011     0.059</td>\n",
       "</tr>\n",
       "<tr>\n",
       "  <th>type_A</th>       <td> -162.1934</td> <td>   27.270</td> <td>   -5.948</td> <td> 0.000</td> <td> -215.641  -108.746</td>\n",
       "</tr>\n",
       "<tr>\n",
       "  <th>type_B</th>       <td> -162.7330</td> <td>   27.213</td> <td>   -5.980</td> <td> 0.000</td> <td> -216.070  -109.396</td>\n",
       "</tr>\n",
       "<tr>\n",
       "  <th>type_C</th>       <td> -162.8204</td> <td>   27.239</td> <td>   -5.978</td> <td> 0.000</td> <td> -216.207  -109.433</td>\n",
       "</tr>\n",
       "<tr>\n",
       "  <th>type_D</th>       <td> -162.4262</td> <td>   27.286</td> <td>   -5.953</td> <td> 0.000</td> <td> -215.906  -108.947</td>\n",
       "</tr>\n",
       "<tr>\n",
       "  <th>type_E</th>       <td> -161.7863</td> <td>   27.258</td> <td>   -5.935</td> <td> 0.000</td> <td> -215.211  -108.362</td>\n",
       "</tr>\n",
       "</table>"
      ],
      "text/plain": [
       "<class 'statsmodels.iolib.summary.Summary'>\n",
       "\"\"\"\n",
       "                 Generalized Linear Model Regression Results                  \n",
       "==============================================================================\n",
       "Dep. Variable:                 damage   No. Observations:                   34\n",
       "Model:                            GLM   Df Residuals:                       27\n",
       "Model Family:                 Poisson   Df Model:                            6\n",
       "Link Function:                    log   Scale:                             1.0\n",
       "Method:                          IRLS   Log-Likelihood:                -78.076\n",
       "Date:                Sun, 07 Aug 2016   Deviance:                       58.286\n",
       "Time:                        21:38:23   Pearson chi2:                     64.6\n",
       "No. Iterations:                     9                                         \n",
       "================================================================================\n",
       "                   coef    std err          z      P>|z|      [95.0% Conf. Int.]\n",
       "--------------------------------------------------------------------------------\n",
       "construction     0.0445      0.013      3.450      0.001         0.019     0.070\n",
       "operation        0.0349      0.012      2.880      0.004         0.011     0.059\n",
       "type_A        -162.1934     27.270     -5.948      0.000      -215.641  -108.746\n",
       "type_B        -162.7330     27.213     -5.980      0.000      -216.070  -109.396\n",
       "type_C        -162.8204     27.239     -5.978      0.000      -216.207  -109.433\n",
       "type_D        -162.4262     27.286     -5.953      0.000      -215.906  -108.947\n",
       "type_E        -161.7863     27.258     -5.935      0.000      -215.211  -108.362\n",
       "================================================================================\n",
       "\"\"\""
      ]
     },
     "execution_count": 246,
     "metadata": {},
     "output_type": "execute_result"
    }
   ],
   "source": [
    "results.summary()"
   ]
  },
  {
   "cell_type": "markdown",
   "metadata": {},
   "source": [
    "This model performs a little better - the log-liklihood has increased."
   ]
  },
  {
   "cell_type": "markdown",
   "metadata": {},
   "source": [
    "**Challenge 3**"
   ]
  },
  {
   "cell_type": "markdown",
   "metadata": {},
   "source": [
    "I'll predict 10 hold-out points and calculate the MSE."
   ]
  },
  {
   "cell_type": "code",
   "execution_count": 247,
   "metadata": {
    "collapsed": true
   },
   "outputs": [],
   "source": [
    "test_inds = np.random.choice(range(len(data)),10,replace=False)\n",
    "train_inds = [i for i in range(len(data)) if i not in test_inds]"
   ]
  },
  {
   "cell_type": "code",
   "execution_count": 248,
   "metadata": {
    "collapsed": false
   },
   "outputs": [],
   "source": [
    "poisson_model = sm.GLM(data.ix[train_inds,'damage'],data.drop(['damage','months'],axis=1).iloc[train_inds,:],\n",
    "                       offset=np.log(data.ix[train_inds,'months']),family=sm.families.Poisson())"
   ]
  },
  {
   "cell_type": "code",
   "execution_count": 249,
   "metadata": {
    "collapsed": false
   },
   "outputs": [],
   "source": [
    "results = poisson_model.fit()\n",
    "predictions = results.predict(data.drop(['damage','months'],axis=1).iloc[test_inds,:],\n",
    "                              offset=np.log(data.ix[test_inds,'months']))\n",
    "true_values = data.ix[test_inds,'damage']"
   ]
  },
  {
   "cell_type": "code",
   "execution_count": 250,
   "metadata": {
    "collapsed": false,
    "scrolled": true
   },
   "outputs": [
    {
     "data": {
      "text/html": [
       "<div>\n",
       "<table border=\"1\" class=\"dataframe\">\n",
       "  <thead>\n",
       "    <tr style=\"text-align: right;\">\n",
       "      <th></th>\n",
       "      <th>Prediction</th>\n",
       "      <th>True Value</th>\n",
       "    </tr>\n",
       "  </thead>\n",
       "  <tbody>\n",
       "    <tr>\n",
       "      <th>22</th>\n",
       "      <td>0.166098</td>\n",
       "      <td>0.0</td>\n",
       "    </tr>\n",
       "    <tr>\n",
       "      <th>28</th>\n",
       "      <td>0.200016</td>\n",
       "      <td>0.0</td>\n",
       "    </tr>\n",
       "    <tr>\n",
       "      <th>30</th>\n",
       "      <td>2.568388</td>\n",
       "      <td>7.0</td>\n",
       "    </tr>\n",
       "    <tr>\n",
       "      <th>10</th>\n",
       "      <td>50.354988</td>\n",
       "      <td>53.0</td>\n",
       "    </tr>\n",
       "    <tr>\n",
       "      <th>33</th>\n",
       "      <td>3.828940</td>\n",
       "      <td>1.0</td>\n",
       "    </tr>\n",
       "    <tr>\n",
       "      <th>7</th>\n",
       "      <td>83.906596</td>\n",
       "      <td>39.0</td>\n",
       "    </tr>\n",
       "    <tr>\n",
       "      <th>8</th>\n",
       "      <td>38.169414</td>\n",
       "      <td>29.0</td>\n",
       "    </tr>\n",
       "    <tr>\n",
       "      <th>26</th>\n",
       "      <td>2.319248</td>\n",
       "      <td>11.0</td>\n",
       "    </tr>\n",
       "    <tr>\n",
       "      <th>16</th>\n",
       "      <td>1.663109</td>\n",
       "      <td>0.0</td>\n",
       "    </tr>\n",
       "    <tr>\n",
       "      <th>14</th>\n",
       "      <td>2.256969</td>\n",
       "      <td>1.0</td>\n",
       "    </tr>\n",
       "  </tbody>\n",
       "</table>\n",
       "</div>"
      ],
      "text/plain": [
       "    Prediction  True Value\n",
       "22    0.166098         0.0\n",
       "28    0.200016         0.0\n",
       "30    2.568388         7.0\n",
       "10   50.354988        53.0\n",
       "33    3.828940         1.0\n",
       "7    83.906596        39.0\n",
       "8    38.169414        29.0\n",
       "26    2.319248        11.0\n",
       "16    1.663109         0.0\n",
       "14    2.256969         1.0"
      ]
     },
     "execution_count": 250,
     "metadata": {},
     "output_type": "execute_result"
    }
   ],
   "source": [
    "pd.DataFrame({'True Value':true_values,'Prediction':predictions})"
   ]
  },
  {
   "cell_type": "code",
   "execution_count": 251,
   "metadata": {
    "collapsed": false
   },
   "outputs": [
    {
     "name": "stdout",
     "output_type": "stream",
     "text": [
      "MSE: 221.509\n"
     ]
    }
   ],
   "source": [
    "print 'MSE: %g' % np.mean((predictions-true_values)**2)"
   ]
  },
  {
   "cell_type": "code",
   "execution_count": 252,
   "metadata": {
    "collapsed": false
   },
   "outputs": [
    {
     "name": "stdout",
     "output_type": "stream",
     "text": [
      "MSE of prediction with mean: 335.49\n"
     ]
    }
   ],
   "source": [
    "print 'MSE of prediction with mean: %g' % np.mean((np.mean(true_values)-true_values)**2)"
   ]
  },
  {
   "cell_type": "markdown",
   "metadata": {},
   "source": [
    "I'm impressed!"
   ]
  },
  {
   "cell_type": "markdown",
   "metadata": {},
   "source": [
    "**Challenge 4**"
   ]
  },
  {
   "cell_type": "code",
   "execution_count": 253,
   "metadata": {
    "collapsed": true
   },
   "outputs": [],
   "source": [
    "from scipy.stats import chi2"
   ]
  },
  {
   "cell_type": "code",
   "execution_count": 254,
   "metadata": {
    "collapsed": true
   },
   "outputs": [],
   "source": [
    "poisson_model = sm.GLM(data['damage'],data.drop(['damage','months'],axis=1),\n",
    "                       offset=np.log(data['months']),family=sm.families.Poisson())"
   ]
  },
  {
   "cell_type": "code",
   "execution_count": 255,
   "metadata": {
    "collapsed": true
   },
   "outputs": [],
   "source": [
    "results = poisson_model.fit()"
   ]
  },
  {
   "cell_type": "code",
   "execution_count": 256,
   "metadata": {
    "collapsed": false
   },
   "outputs": [],
   "source": [
    "rv = chi2(7)"
   ]
  },
  {
   "cell_type": "code",
   "execution_count": 257,
   "metadata": {
    "collapsed": false
   },
   "outputs": [
    {
     "data": {
      "text/plain": [
       "1.7881696123822621e-11"
      ]
     },
     "execution_count": 257,
     "metadata": {},
     "output_type": "execute_result"
    }
   ],
   "source": [
    "1 - rv.cdf(results.pearson_chi2)"
   ]
  },
  {
   "cell_type": "markdown",
   "metadata": {},
   "source": [
    "The probability of observing a chi2 statistic more extreme than the one observed in the model by random chance is very small so we can safely conclude the the model is better than the null model."
   ]
  },
  {
   "cell_type": "markdown",
   "metadata": {},
   "source": [
    "**Challenge 5**"
   ]
  },
  {
   "cell_type": "code",
   "execution_count": 258,
   "metadata": {
    "collapsed": false
   },
   "outputs": [],
   "source": [
    "ols = sm.OLS(np.log(data['damage']+1),data.drop('damage',axis=1))"
   ]
  },
  {
   "cell_type": "code",
   "execution_count": 259,
   "metadata": {
    "collapsed": true
   },
   "outputs": [],
   "source": [
    "results = ols.fit()"
   ]
  },
  {
   "cell_type": "code",
   "execution_count": 260,
   "metadata": {
    "collapsed": false
   },
   "outputs": [
    {
     "data": {
      "text/html": [
       "<table class=\"simpletable\">\n",
       "<caption>OLS Regression Results</caption>\n",
       "<tr>\n",
       "  <th>Dep. Variable:</th>         <td>damage</td>      <th>  R-squared:         </th> <td>   0.761</td>\n",
       "</tr>\n",
       "<tr>\n",
       "  <th>Model:</th>                   <td>OLS</td>       <th>  Adj. R-squared:    </th> <td>   0.697</td>\n",
       "</tr>\n",
       "<tr>\n",
       "  <th>Method:</th>             <td>Least Squares</td>  <th>  F-statistic:       </th> <td>   11.83</td>\n",
       "</tr>\n",
       "<tr>\n",
       "  <th>Date:</th>             <td>Sun, 07 Aug 2016</td> <th>  Prob (F-statistic):</th> <td>1.11e-06</td>\n",
       "</tr>\n",
       "<tr>\n",
       "  <th>Time:</th>                 <td>21:38:27</td>     <th>  Log-Likelihood:    </th> <td> -32.762</td>\n",
       "</tr>\n",
       "<tr>\n",
       "  <th>No. Observations:</th>      <td>    34</td>      <th>  AIC:               </th> <td>   81.52</td>\n",
       "</tr>\n",
       "<tr>\n",
       "  <th>Df Residuals:</th>          <td>    26</td>      <th>  BIC:               </th> <td>   93.73</td>\n",
       "</tr>\n",
       "<tr>\n",
       "  <th>Df Model:</th>              <td>     7</td>      <th>                     </th>     <td> </td>   \n",
       "</tr>\n",
       "<tr>\n",
       "  <th>Covariance Type:</th>      <td>nonrobust</td>    <th>                     </th>     <td> </td>   \n",
       "</tr>\n",
       "</table>\n",
       "<table class=\"simpletable\">\n",
       "<tr>\n",
       "        <td></td>          <th>coef</th>     <th>std err</th>      <th>t</th>      <th>P>|t|</th> <th>[95.0% Conf. Int.]</th> \n",
       "</tr>\n",
       "<tr>\n",
       "  <th>construction</th> <td>    0.0876</td> <td>    0.026</td> <td>    3.305</td> <td> 0.003</td> <td>    0.033     0.142</td>\n",
       "</tr>\n",
       "<tr>\n",
       "  <th>operation</th>    <td>    0.0242</td> <td>    0.026</td> <td>    0.916</td> <td> 0.368</td> <td>   -0.030     0.078</td>\n",
       "</tr>\n",
       "<tr>\n",
       "  <th>months</th>       <td> 6.338e-05</td> <td>  2.3e-05</td> <td>    2.760</td> <td> 0.010</td> <td> 1.62e-05     0.000</td>\n",
       "</tr>\n",
       "<tr>\n",
       "  <th>type_A</th>       <td> -218.6444</td> <td>   63.946</td> <td>   -3.419</td> <td> 0.002</td> <td> -350.088   -87.201</td>\n",
       "</tr>\n",
       "<tr>\n",
       "  <th>type_B</th>       <td> -217.7965</td> <td>   64.072</td> <td>   -3.399</td> <td> 0.002</td> <td> -349.498   -86.095</td>\n",
       "</tr>\n",
       "<tr>\n",
       "  <th>type_C</th>       <td> -219.2652</td> <td>   63.943</td> <td>   -3.429</td> <td> 0.002</td> <td> -350.702   -87.829</td>\n",
       "</tr>\n",
       "<tr>\n",
       "  <th>type_D</th>       <td> -219.3385</td> <td>   63.941</td> <td>   -3.430</td> <td> 0.002</td> <td> -350.772   -87.905</td>\n",
       "</tr>\n",
       "<tr>\n",
       "  <th>type_E</th>       <td> -218.6381</td> <td>   63.949</td> <td>   -3.419</td> <td> 0.002</td> <td> -350.088   -87.189</td>\n",
       "</tr>\n",
       "</table>\n",
       "<table class=\"simpletable\">\n",
       "<tr>\n",
       "  <th>Omnibus:</th>       <td> 0.377</td> <th>  Durbin-Watson:     </th> <td>   1.834</td>\n",
       "</tr>\n",
       "<tr>\n",
       "  <th>Prob(Omnibus):</th> <td> 0.828</td> <th>  Jarque-Bera (JB):  </th> <td>   0.437</td>\n",
       "</tr>\n",
       "<tr>\n",
       "  <th>Skew:</th>          <td>-0.225</td> <th>  Prob(JB):          </th> <td>   0.804</td>\n",
       "</tr>\n",
       "<tr>\n",
       "  <th>Kurtosis:</th>      <td> 2.674</td> <th>  Cond. No.          </th> <td>1.23e+07</td>\n",
       "</tr>\n",
       "</table>"
      ],
      "text/plain": [
       "<class 'statsmodels.iolib.summary.Summary'>\n",
       "\"\"\"\n",
       "                            OLS Regression Results                            \n",
       "==============================================================================\n",
       "Dep. Variable:                 damage   R-squared:                       0.761\n",
       "Model:                            OLS   Adj. R-squared:                  0.697\n",
       "Method:                 Least Squares   F-statistic:                     11.83\n",
       "Date:                Sun, 07 Aug 2016   Prob (F-statistic):           1.11e-06\n",
       "Time:                        21:38:27   Log-Likelihood:                -32.762\n",
       "No. Observations:                  34   AIC:                             81.52\n",
       "Df Residuals:                      26   BIC:                             93.73\n",
       "Df Model:                           7                                         \n",
       "Covariance Type:            nonrobust                                         \n",
       "================================================================================\n",
       "                   coef    std err          t      P>|t|      [95.0% Conf. Int.]\n",
       "--------------------------------------------------------------------------------\n",
       "construction     0.0876      0.026      3.305      0.003         0.033     0.142\n",
       "operation        0.0242      0.026      0.916      0.368        -0.030     0.078\n",
       "months        6.338e-05    2.3e-05      2.760      0.010      1.62e-05     0.000\n",
       "type_A        -218.6444     63.946     -3.419      0.002      -350.088   -87.201\n",
       "type_B        -217.7965     64.072     -3.399      0.002      -349.498   -86.095\n",
       "type_C        -219.2652     63.943     -3.429      0.002      -350.702   -87.829\n",
       "type_D        -219.3385     63.941     -3.430      0.002      -350.772   -87.905\n",
       "type_E        -218.6381     63.949     -3.419      0.002      -350.088   -87.189\n",
       "==============================================================================\n",
       "Omnibus:                        0.377   Durbin-Watson:                   1.834\n",
       "Prob(Omnibus):                  0.828   Jarque-Bera (JB):                0.437\n",
       "Skew:                          -0.225   Prob(JB):                        0.804\n",
       "Kurtosis:                       2.674   Cond. No.                     1.23e+07\n",
       "==============================================================================\n",
       "\n",
       "Warnings:\n",
       "[1] Standard Errors assume that the covariance matrix of the errors is correctly specified.\n",
       "[2] The condition number is large, 1.23e+07. This might indicate that there are\n",
       "strong multicollinearity or other numerical problems.\n",
       "\"\"\""
      ]
     },
     "execution_count": 260,
     "metadata": {},
     "output_type": "execute_result"
    }
   ],
   "source": [
    "results.summary()"
   ]
  },
  {
   "cell_type": "markdown",
   "metadata": {},
   "source": [
    "In general the coefficients are similiar - they're signs are the same. The magnitudes seem more extreme with OLS."
   ]
  },
  {
   "cell_type": "markdown",
   "metadata": {},
   "source": [
    "Let's see how the MSE on a test set compares to Poisson GLM."
   ]
  },
  {
   "cell_type": "code",
   "execution_count": 261,
   "metadata": {
    "collapsed": true
   },
   "outputs": [],
   "source": [
    "ols = sm.OLS(np.log(data.ix[train_inds,'damage']+1),data.drop('damage',axis=1).iloc[train_inds,:])"
   ]
  },
  {
   "cell_type": "code",
   "execution_count": 262,
   "metadata": {
    "collapsed": true
   },
   "outputs": [],
   "source": [
    "results = ols.fit()"
   ]
  },
  {
   "cell_type": "code",
   "execution_count": 263,
   "metadata": {
    "collapsed": true
   },
   "outputs": [],
   "source": [
    "predictions = np.exp(results.predict(data.drop('damage',axis=1).iloc[test_inds,:]))"
   ]
  },
  {
   "cell_type": "code",
   "execution_count": 264,
   "metadata": {
    "collapsed": false
   },
   "outputs": [
    {
     "data": {
      "text/html": [
       "<div>\n",
       "<table border=\"1\" class=\"dataframe\">\n",
       "  <thead>\n",
       "    <tr style=\"text-align: right;\">\n",
       "      <th></th>\n",
       "      <th>Prediction</th>\n",
       "      <th>True Value</th>\n",
       "    </tr>\n",
       "  </thead>\n",
       "  <tbody>\n",
       "    <tr>\n",
       "      <th>22</th>\n",
       "      <td>0.756647</td>\n",
       "      <td>0.0</td>\n",
       "    </tr>\n",
       "    <tr>\n",
       "      <th>28</th>\n",
       "      <td>2.953097</td>\n",
       "      <td>0.0</td>\n",
       "    </tr>\n",
       "    <tr>\n",
       "      <th>30</th>\n",
       "      <td>5.668235</td>\n",
       "      <td>7.0</td>\n",
       "    </tr>\n",
       "    <tr>\n",
       "      <th>10</th>\n",
       "      <td>34.456175</td>\n",
       "      <td>53.0</td>\n",
       "    </tr>\n",
       "    <tr>\n",
       "      <th>33</th>\n",
       "      <td>15.951005</td>\n",
       "      <td>1.0</td>\n",
       "    </tr>\n",
       "    <tr>\n",
       "      <th>7</th>\n",
       "      <td>253.980043</td>\n",
       "      <td>39.0</td>\n",
       "    </tr>\n",
       "    <tr>\n",
       "      <th>8</th>\n",
       "      <td>13.562853</td>\n",
       "      <td>29.0</td>\n",
       "    </tr>\n",
       "    <tr>\n",
       "      <th>26</th>\n",
       "      <td>2.498855</td>\n",
       "      <td>11.0</td>\n",
       "    </tr>\n",
       "    <tr>\n",
       "      <th>16</th>\n",
       "      <td>2.061596</td>\n",
       "      <td>0.0</td>\n",
       "    </tr>\n",
       "    <tr>\n",
       "      <th>14</th>\n",
       "      <td>1.189208</td>\n",
       "      <td>1.0</td>\n",
       "    </tr>\n",
       "  </tbody>\n",
       "</table>\n",
       "</div>"
      ],
      "text/plain": [
       "    Prediction  True Value\n",
       "22    0.756647         0.0\n",
       "28    2.953097         0.0\n",
       "30    5.668235         7.0\n",
       "10   34.456175        53.0\n",
       "33   15.951005         1.0\n",
       "7   253.980043        39.0\n",
       "8    13.562853        29.0\n",
       "26    2.498855        11.0\n",
       "16    2.061596         0.0\n",
       "14    1.189208         1.0"
      ]
     },
     "execution_count": 264,
     "metadata": {},
     "output_type": "execute_result"
    }
   ],
   "source": [
    "pd.DataFrame({'True Value':true_values,'Prediction':predictions})"
   ]
  },
  {
   "cell_type": "code",
   "execution_count": 265,
   "metadata": {
    "collapsed": false
   },
   "outputs": [
    {
     "name": "stdout",
     "output_type": "stream",
     "text": [
      "MSE: 4710.98\n"
     ]
    }
   ],
   "source": [
    "print 'MSE: %g' % np.mean((predictions-true_values)**2)"
   ]
  },
  {
   "cell_type": "markdown",
   "metadata": {},
   "source": [
    "It's way worse."
   ]
  },
  {
   "cell_type": "markdown",
   "metadata": {},
   "source": [
    "**Challenge 6**"
   ]
  },
  {
   "cell_type": "code",
   "execution_count": 266,
   "metadata": {
    "collapsed": false
   },
   "outputs": [
    {
     "name": "stdout",
     "output_type": "stream",
     "text": [
      "  % Total    % Received % Xferd  Average Speed   Time    Time     Time  Current\n",
      "                                 Dload  Upload   Total   Spent    Left  Speed\n",
      "100  1840  100  1840    0     0  37550      0 --:--:-- --:--:-- --:--:-- 39148\n"
     ]
    }
   ],
   "source": [
    "!curl http://data.princeton.edu/wws509/datasets/smoking.dta > smoking.dta"
   ]
  },
  {
   "cell_type": "code",
   "execution_count": 267,
   "metadata": {
    "collapsed": true
   },
   "outputs": [],
   "source": [
    "reader = StataReader('smoking.dta')\n",
    "data = reader.read()"
   ]
  },
  {
   "cell_type": "code",
   "execution_count": 268,
   "metadata": {
    "collapsed": false
   },
   "outputs": [
    {
     "data": {
      "text/html": [
       "<div>\n",
       "<table border=\"1\" class=\"dataframe\">\n",
       "  <thead>\n",
       "    <tr style=\"text-align: right;\">\n",
       "      <th></th>\n",
       "      <th>age</th>\n",
       "      <th>smoke</th>\n",
       "      <th>pop</th>\n",
       "      <th>dead</th>\n",
       "    </tr>\n",
       "  </thead>\n",
       "  <tbody>\n",
       "    <tr>\n",
       "      <th>0</th>\n",
       "      <td>40-44</td>\n",
       "      <td>Doesn't smoke</td>\n",
       "      <td>656.0</td>\n",
       "      <td>18.0</td>\n",
       "    </tr>\n",
       "    <tr>\n",
       "      <th>1</th>\n",
       "      <td>45-49</td>\n",
       "      <td>Doesn't smoke</td>\n",
       "      <td>359.0</td>\n",
       "      <td>22.0</td>\n",
       "    </tr>\n",
       "  </tbody>\n",
       "</table>\n",
       "</div>"
      ],
      "text/plain": [
       "     age          smoke    pop  dead\n",
       "0  40-44  Doesn't smoke  656.0  18.0\n",
       "1  45-49  Doesn't smoke  359.0  22.0"
      ]
     },
     "execution_count": 268,
     "metadata": {},
     "output_type": "execute_result"
    }
   ],
   "source": [
    "data.head(2)"
   ]
  },
  {
   "cell_type": "code",
   "execution_count": 269,
   "metadata": {
    "collapsed": false
   },
   "outputs": [],
   "source": [
    "data.age = data.age.cat.rename_categories([42,47,52,57,62,67,72,77,83]).astype(int)"
   ]
  },
  {
   "cell_type": "code",
   "execution_count": 270,
   "metadata": {
    "collapsed": false
   },
   "outputs": [],
   "source": [
    "data = pd.get_dummies(data)"
   ]
  },
  {
   "cell_type": "code",
   "execution_count": 271,
   "metadata": {
    "collapsed": false
   },
   "outputs": [
    {
     "data": {
      "text/html": [
       "<div>\n",
       "<table border=\"1\" class=\"dataframe\">\n",
       "  <thead>\n",
       "    <tr style=\"text-align: right;\">\n",
       "      <th></th>\n",
       "      <th>age</th>\n",
       "      <th>pop</th>\n",
       "      <th>dead</th>\n",
       "      <th>smoke_Doesn't smoke</th>\n",
       "      <th>smoke_Smokes cigars or pipe only</th>\n",
       "      <th>smoke_Smokes cigarettes and cigar or pipe</th>\n",
       "      <th>smoke_smokes cigarettes only</th>\n",
       "    </tr>\n",
       "  </thead>\n",
       "  <tbody>\n",
       "    <tr>\n",
       "      <th>0</th>\n",
       "      <td>42</td>\n",
       "      <td>656.0</td>\n",
       "      <td>18.0</td>\n",
       "      <td>1.0</td>\n",
       "      <td>0.0</td>\n",
       "      <td>0.0</td>\n",
       "      <td>0.0</td>\n",
       "    </tr>\n",
       "    <tr>\n",
       "      <th>1</th>\n",
       "      <td>47</td>\n",
       "      <td>359.0</td>\n",
       "      <td>22.0</td>\n",
       "      <td>1.0</td>\n",
       "      <td>0.0</td>\n",
       "      <td>0.0</td>\n",
       "      <td>0.0</td>\n",
       "    </tr>\n",
       "  </tbody>\n",
       "</table>\n",
       "</div>"
      ],
      "text/plain": [
       "   age    pop  dead  smoke_Doesn't smoke  smoke_Smokes cigars or pipe only  \\\n",
       "0   42  656.0  18.0                  1.0                               0.0   \n",
       "1   47  359.0  22.0                  1.0                               0.0   \n",
       "\n",
       "   smoke_Smokes cigarettes and cigar or pipe  smoke_smokes cigarettes only  \n",
       "0                                        0.0                           0.0  \n",
       "1                                        0.0                           0.0  "
      ]
     },
     "execution_count": 271,
     "metadata": {},
     "output_type": "execute_result"
    }
   ],
   "source": [
    "data.head(2)"
   ]
  },
  {
   "cell_type": "code",
   "execution_count": 272,
   "metadata": {
    "collapsed": true
   },
   "outputs": [],
   "source": [
    "poisson_model = sm.GLM(data['dead'],data.drop(['dead','pop'],axis=1),\n",
    "                       offset=np.log(data['pop']),family=sm.families.Poisson())"
   ]
  },
  {
   "cell_type": "code",
   "execution_count": 273,
   "metadata": {
    "collapsed": true
   },
   "outputs": [],
   "source": [
    "results = poisson_model.fit()"
   ]
  },
  {
   "cell_type": "code",
   "execution_count": 274,
   "metadata": {
    "collapsed": false
   },
   "outputs": [
    {
     "data": {
      "text/html": [
       "<table class=\"simpletable\">\n",
       "<caption>Generalized Linear Model Regression Results</caption>\n",
       "<tr>\n",
       "  <th>Dep. Variable:</th>        <td>dead</td>       <th>  No. Observations:  </th>  <td>    36</td> \n",
       "</tr>\n",
       "<tr>\n",
       "  <th>Model:</th>                 <td>GLM</td>       <th>  Df Residuals:      </th>  <td>    31</td> \n",
       "</tr>\n",
       "<tr>\n",
       "  <th>Model Family:</th>        <td>Poisson</td>     <th>  Df Model:          </th>  <td>     4</td> \n",
       "</tr>\n",
       "<tr>\n",
       "  <th>Link Function:</th>         <td>log</td>       <th>  Scale:             </th>    <td>1.0</td>  \n",
       "</tr>\n",
       "<tr>\n",
       "  <th>Method:</th>               <td>IRLS</td>       <th>  Log-Likelihood:    </th> <td> -162.95</td>\n",
       "</tr>\n",
       "<tr>\n",
       "  <th>Date:</th>           <td>Sun, 07 Aug 2016</td> <th>  Deviance:          </th> <td>  85.874</td>\n",
       "</tr>\n",
       "<tr>\n",
       "  <th>Time:</th>               <td>21:38:31</td>     <th>  Pearson chi2:      </th>  <td>  81.2</td> \n",
       "</tr>\n",
       "<tr>\n",
       "  <th>No. Iterations:</th>         <td>9</td>        <th>                     </th>     <td> </td>   \n",
       "</tr>\n",
       "</table>\n",
       "<table class=\"simpletable\">\n",
       "<tr>\n",
       "                      <td></td>                         <th>coef</th>     <th>std err</th>      <th>z</th>      <th>P>|z|</th> <th>[95.0% Conf. Int.]</th> \n",
       "</tr>\n",
       "<tr>\n",
       "  <th>age</th>                                       <td>    0.0657</td> <td>    0.001</td> <td>   59.801</td> <td> 0.000</td> <td>    0.064     0.068</td>\n",
       "</tr>\n",
       "<tr>\n",
       "  <th>smoke_Doesn't smoke</th>                       <td>   -6.1519</td> <td>    0.084</td> <td>  -73.499</td> <td> 0.000</td> <td>   -6.316    -5.988</td>\n",
       "</tr>\n",
       "<tr>\n",
       "  <th>smoke_Smokes cigars or pipe only</th>          <td>   -6.1218</td> <td>    0.086</td> <td>  -70.973</td> <td> 0.000</td> <td>   -6.291    -5.953</td>\n",
       "</tr>\n",
       "<tr>\n",
       "  <th>smoke_Smokes cigarettes and cigar or pipe</th> <td>   -5.9125</td> <td>    0.072</td> <td>  -81.716</td> <td> 0.000</td> <td>   -6.054    -5.771</td>\n",
       "</tr>\n",
       "<tr>\n",
       "  <th>smoke_smokes cigarettes only</th>              <td>   -5.7105</td> <td>    0.071</td> <td>  -80.003</td> <td> 0.000</td> <td>   -5.850    -5.571</td>\n",
       "</tr>\n",
       "</table>"
      ],
      "text/plain": [
       "<class 'statsmodels.iolib.summary.Summary'>\n",
       "\"\"\"\n",
       "                 Generalized Linear Model Regression Results                  \n",
       "==============================================================================\n",
       "Dep. Variable:                   dead   No. Observations:                   36\n",
       "Model:                            GLM   Df Residuals:                       31\n",
       "Model Family:                 Poisson   Df Model:                            4\n",
       "Link Function:                    log   Scale:                             1.0\n",
       "Method:                          IRLS   Log-Likelihood:                -162.95\n",
       "Date:                Sun, 07 Aug 2016   Deviance:                       85.874\n",
       "Time:                        21:38:31   Pearson chi2:                     81.2\n",
       "No. Iterations:                     9                                         \n",
       "=============================================================================================================\n",
       "                                                coef    std err          z      P>|z|      [95.0% Conf. Int.]\n",
       "-------------------------------------------------------------------------------------------------------------\n",
       "age                                           0.0657      0.001     59.801      0.000         0.064     0.068\n",
       "smoke_Doesn't smoke                          -6.1519      0.084    -73.499      0.000        -6.316    -5.988\n",
       "smoke_Smokes cigars or pipe only             -6.1218      0.086    -70.973      0.000        -6.291    -5.953\n",
       "smoke_Smokes cigarettes and cigar or pipe    -5.9125      0.072    -81.716      0.000        -6.054    -5.771\n",
       "smoke_smokes cigarettes only                 -5.7105      0.071    -80.003      0.000        -5.850    -5.571\n",
       "=============================================================================================================\n",
       "\"\"\""
      ]
     },
     "execution_count": 274,
     "metadata": {},
     "output_type": "execute_result"
    }
   ],
   "source": [
    "results.summary()"
   ]
  },
  {
   "cell_type": "code",
   "execution_count": 275,
   "metadata": {
    "collapsed": true
   },
   "outputs": [],
   "source": [
    "ols = sm.OLS(np.log(data['dead']),data.drop('dead',axis=1))"
   ]
  },
  {
   "cell_type": "code",
   "execution_count": 276,
   "metadata": {
    "collapsed": true
   },
   "outputs": [],
   "source": [
    "results = ols.fit()"
   ]
  },
  {
   "cell_type": "code",
   "execution_count": 277,
   "metadata": {
    "collapsed": false
   },
   "outputs": [
    {
     "data": {
      "text/html": [
       "<table class=\"simpletable\">\n",
       "<caption>OLS Regression Results</caption>\n",
       "<tr>\n",
       "  <th>Dep. Variable:</th>          <td>dead</td>       <th>  R-squared:         </th> <td>   0.829</td>\n",
       "</tr>\n",
       "<tr>\n",
       "  <th>Model:</th>                   <td>OLS</td>       <th>  Adj. R-squared:    </th> <td>   0.801</td>\n",
       "</tr>\n",
       "<tr>\n",
       "  <th>Method:</th>             <td>Least Squares</td>  <th>  F-statistic:       </th> <td>   29.12</td>\n",
       "</tr>\n",
       "<tr>\n",
       "  <th>Date:</th>             <td>Sun, 07 Aug 2016</td> <th>  Prob (F-statistic):</th> <td>1.17e-10</td>\n",
       "</tr>\n",
       "<tr>\n",
       "  <th>Time:</th>                 <td>21:38:31</td>     <th>  Log-Likelihood:    </th> <td> -34.119</td>\n",
       "</tr>\n",
       "<tr>\n",
       "  <th>No. Observations:</th>      <td>    36</td>      <th>  AIC:               </th> <td>   80.24</td>\n",
       "</tr>\n",
       "<tr>\n",
       "  <th>Df Residuals:</th>          <td>    30</td>      <th>  BIC:               </th> <td>   89.74</td>\n",
       "</tr>\n",
       "<tr>\n",
       "  <th>Df Model:</th>              <td>     5</td>      <th>                     </th>     <td> </td>   \n",
       "</tr>\n",
       "<tr>\n",
       "  <th>Covariance Type:</th>      <td>nonrobust</td>    <th>                     </th>     <td> </td>   \n",
       "</tr>\n",
       "</table>\n",
       "<table class=\"simpletable\">\n",
       "<tr>\n",
       "                      <td></td>                         <th>coef</th>     <th>std err</th>      <th>t</th>      <th>P>|t|</th> <th>[95.0% Conf. Int.]</th> \n",
       "</tr>\n",
       "<tr>\n",
       "  <th>age</th>                                       <td>    0.0785</td> <td>    0.010</td> <td>    8.259</td> <td> 0.000</td> <td>    0.059     0.098</td>\n",
       "</tr>\n",
       "<tr>\n",
       "  <th>pop</th>                                       <td>    0.0007</td> <td>    0.000</td> <td>    6.483</td> <td> 0.000</td> <td>    0.001     0.001</td>\n",
       "</tr>\n",
       "<tr>\n",
       "  <th>smoke_Doesn't smoke</th>                       <td>   -1.1181</td> <td>    0.660</td> <td>   -1.695</td> <td> 0.100</td> <td>   -2.465     0.229</td>\n",
       "</tr>\n",
       "<tr>\n",
       "  <th>smoke_Smokes cigars or pipe only</th>          <td>   -1.5690</td> <td>    0.656</td> <td>   -2.392</td> <td> 0.023</td> <td>   -2.909    -0.229</td>\n",
       "</tr>\n",
       "<tr>\n",
       "  <th>smoke_Smokes cigarettes and cigar or pipe</th> <td>   -1.2479</td> <td>    0.828</td> <td>   -1.507</td> <td> 0.142</td> <td>   -2.939     0.443</td>\n",
       "</tr>\n",
       "<tr>\n",
       "  <th>smoke_smokes cigarettes only</th>              <td>   -0.8442</td> <td>    0.753</td> <td>   -1.121</td> <td> 0.271</td> <td>   -2.382     0.693</td>\n",
       "</tr>\n",
       "</table>\n",
       "<table class=\"simpletable\">\n",
       "<tr>\n",
       "  <th>Omnibus:</th>       <td> 7.055</td> <th>  Durbin-Watson:     </th> <td>   0.993</td>\n",
       "</tr>\n",
       "<tr>\n",
       "  <th>Prob(Omnibus):</th> <td> 0.029</td> <th>  Jarque-Bera (JB):  </th> <td>   6.189</td>\n",
       "</tr>\n",
       "<tr>\n",
       "  <th>Skew:</th>          <td>-1.008</td> <th>  Prob(JB):          </th> <td>  0.0453</td>\n",
       "</tr>\n",
       "<tr>\n",
       "  <th>Kurtosis:</th>      <td> 3.253</td> <th>  Cond. No.          </th> <td>2.67e+04</td>\n",
       "</tr>\n",
       "</table>"
      ],
      "text/plain": [
       "<class 'statsmodels.iolib.summary.Summary'>\n",
       "\"\"\"\n",
       "                            OLS Regression Results                            \n",
       "==============================================================================\n",
       "Dep. Variable:                   dead   R-squared:                       0.829\n",
       "Model:                            OLS   Adj. R-squared:                  0.801\n",
       "Method:                 Least Squares   F-statistic:                     29.12\n",
       "Date:                Sun, 07 Aug 2016   Prob (F-statistic):           1.17e-10\n",
       "Time:                        21:38:31   Log-Likelihood:                -34.119\n",
       "No. Observations:                  36   AIC:                             80.24\n",
       "Df Residuals:                      30   BIC:                             89.74\n",
       "Df Model:                           5                                         \n",
       "Covariance Type:            nonrobust                                         \n",
       "=============================================================================================================\n",
       "                                                coef    std err          t      P>|t|      [95.0% Conf. Int.]\n",
       "-------------------------------------------------------------------------------------------------------------\n",
       "age                                           0.0785      0.010      8.259      0.000         0.059     0.098\n",
       "pop                                           0.0007      0.000      6.483      0.000         0.001     0.001\n",
       "smoke_Doesn't smoke                          -1.1181      0.660     -1.695      0.100        -2.465     0.229\n",
       "smoke_Smokes cigars or pipe only             -1.5690      0.656     -2.392      0.023        -2.909    -0.229\n",
       "smoke_Smokes cigarettes and cigar or pipe    -1.2479      0.828     -1.507      0.142        -2.939     0.443\n",
       "smoke_smokes cigarettes only                 -0.8442      0.753     -1.121      0.271        -2.382     0.693\n",
       "==============================================================================\n",
       "Omnibus:                        7.055   Durbin-Watson:                   0.993\n",
       "Prob(Omnibus):                  0.029   Jarque-Bera (JB):                6.189\n",
       "Skew:                          -1.008   Prob(JB):                       0.0453\n",
       "Kurtosis:                       3.253   Cond. No.                     2.67e+04\n",
       "==============================================================================\n",
       "\n",
       "Warnings:\n",
       "[1] Standard Errors assume that the covariance matrix of the errors is correctly specified.\n",
       "[2] The condition number is large, 2.67e+04. This might indicate that there are\n",
       "strong multicollinearity or other numerical problems.\n",
       "\"\"\""
      ]
     },
     "execution_count": 277,
     "metadata": {},
     "output_type": "execute_result"
    }
   ],
   "source": [
    "results.summary()"
   ]
  },
  {
   "cell_type": "markdown",
   "metadata": {},
   "source": [
    "Let's see how the MSE of the two models compares on some hold out data."
   ]
  },
  {
   "cell_type": "code",
   "execution_count": 282,
   "metadata": {
    "collapsed": true
   },
   "outputs": [],
   "source": [
    "test_inds = np.random.choice(range(len(data)),10,replace=False)\n",
    "train_inds = [i for i in range(len(data)) if i not in test_inds]"
   ]
  },
  {
   "cell_type": "code",
   "execution_count": 283,
   "metadata": {
    "collapsed": false
   },
   "outputs": [],
   "source": [
    "poisson_model = sm.GLM(data.ix[train_inds,'dead'],data.drop(['dead','pop'],axis=1).iloc[train_inds,:],\n",
    "                       offset=np.log(data.ix[train_inds,'pop']),family=sm.families.Poisson())\n",
    "ols = sm.OLS(np.log(data.ix[train_inds,'dead']),data.drop('dead',axis=1).iloc[train_inds,:])\n",
    "results_p = poisson_model.fit()\n",
    "results_o = ols.fit()\n",
    "predictions_p = results_p.predict(data.drop(['dead','pop'],axis=1).iloc[test_inds,:],\n",
    "                                  offset = np.log(data.ix[test_inds,'pop']))\n",
    "predictions_o = np.exp(results_o.predict(data.drop('dead',axis=1).iloc[test_inds,:]))\n",
    "true_values = data.ix[test_inds,'dead']"
   ]
  },
  {
   "cell_type": "code",
   "execution_count": 284,
   "metadata": {
    "collapsed": false
   },
   "outputs": [
    {
     "data": {
      "text/html": [
       "<div>\n",
       "<table border=\"1\" class=\"dataframe\">\n",
       "  <thead>\n",
       "    <tr style=\"text-align: right;\">\n",
       "      <th></th>\n",
       "      <th>True Values</th>\n",
       "      <th>Poisson Model Predictions</th>\n",
       "      <th>OLS Model Predictions</th>\n",
       "    </tr>\n",
       "  </thead>\n",
       "  <tbody>\n",
       "    <tr>\n",
       "      <th>11</th>\n",
       "      <td>3.0</td>\n",
       "      <td>6.428349</td>\n",
       "      <td>14.919311</td>\n",
       "    </tr>\n",
       "    <tr>\n",
       "      <th>4</th>\n",
       "      <td>117.0</td>\n",
       "      <td>140.445758</td>\n",
       "      <td>106.672713</td>\n",
       "    </tr>\n",
       "    <tr>\n",
       "      <th>33</th>\n",
       "      <td>432.0</td>\n",
       "      <td>432.463428</td>\n",
       "      <td>257.429855</td>\n",
       "    </tr>\n",
       "    <tr>\n",
       "      <th>15</th>\n",
       "      <td>212.0</td>\n",
       "      <td>203.920014</td>\n",
       "      <td>121.141717</td>\n",
       "    </tr>\n",
       "    <tr>\n",
       "      <th>2</th>\n",
       "      <td>19.0</td>\n",
       "      <td>16.873836</td>\n",
       "      <td>26.501693</td>\n",
       "    </tr>\n",
       "    <tr>\n",
       "      <th>25</th>\n",
       "      <td>337.0</td>\n",
       "      <td>377.395733</td>\n",
       "      <td>177.736577</td>\n",
       "    </tr>\n",
       "    <tr>\n",
       "      <th>8</th>\n",
       "      <td>120.0</td>\n",
       "      <td>145.407613</td>\n",
       "      <td>295.334732</td>\n",
       "    </tr>\n",
       "    <tr>\n",
       "      <th>20</th>\n",
       "      <td>193.0</td>\n",
       "      <td>186.812594</td>\n",
       "      <td>74.520865</td>\n",
       "    </tr>\n",
       "    <tr>\n",
       "      <th>32</th>\n",
       "      <td>689.0</td>\n",
       "      <td>628.653746</td>\n",
       "      <td>443.921383</td>\n",
       "    </tr>\n",
       "    <tr>\n",
       "      <th>31</th>\n",
       "      <td>778.0</td>\n",
       "      <td>706.326754</td>\n",
       "      <td>853.941339</td>\n",
       "    </tr>\n",
       "  </tbody>\n",
       "</table>\n",
       "</div>"
      ],
      "text/plain": [
       "    True Values  Poisson Model Predictions  OLS Model Predictions\n",
       "11          3.0                   6.428349              14.919311\n",
       "4         117.0                 140.445758             106.672713\n",
       "33        432.0                 432.463428             257.429855\n",
       "15        212.0                 203.920014             121.141717\n",
       "2          19.0                  16.873836              26.501693\n",
       "25        337.0                 377.395733             177.736577\n",
       "8         120.0                 145.407613             295.334732\n",
       "20        193.0                 186.812594              74.520865\n",
       "32        689.0                 628.653746             443.921383\n",
       "31        778.0                 706.326754             853.941339"
      ]
     },
     "execution_count": 284,
     "metadata": {},
     "output_type": "execute_result"
    }
   ],
   "source": [
    "pd.DataFrame({'True Values':true_values,\n",
    "              'Poisson Model Predictions':predictions_p,\n",
    "              'OLS Model Predictions':predictions_o})[['True Values','Poisson Model Predictions','OLS Model Predictions']]"
   ]
  },
  {
   "cell_type": "code",
   "execution_count": 285,
   "metadata": {
    "collapsed": false
   },
   "outputs": [
    {
     "name": "stdout",
     "output_type": "stream",
     "text": [
      "MSE of prediction with mean: 64985\n",
      "MSE of prediction with GLM: 1172.58\n",
      "MSE of prediction with OLS: 17501\n"
     ]
    }
   ],
   "source": [
    "print 'MSE of prediction with mean: %g' % np.mean((true_values-np.mean(true_values))**2)\n",
    "print 'MSE of prediction with GLM: %g' % np.mean((true_values-predictions_p)**2)\n",
    "print 'MSE of prediction with OLS: %g' % np.mean((true_values-predictions_o)**2)"
   ]
  },
  {
   "cell_type": "markdown",
   "metadata": {},
   "source": [
    "Wow, GLMs are the bomb!"
   ]
  }
 ],
 "metadata": {
  "kernelspec": {
   "display_name": "Python 2",
   "language": "python",
   "name": "python2"
  },
  "language_info": {
   "codemirror_mode": {
    "name": "ipython",
    "version": 2
   },
   "file_extension": ".py",
   "mimetype": "text/x-python",
   "name": "python",
   "nbconvert_exporter": "python",
   "pygments_lexer": "ipython2",
   "version": "2.7.11"
  }
 },
 "nbformat": 4,
 "nbformat_minor": 0
}
