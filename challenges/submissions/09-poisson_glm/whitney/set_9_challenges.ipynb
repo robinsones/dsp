{
 "cells": [
  {
   "cell_type": "markdown",
   "metadata": {},
   "source": [
    "<a id='top'></a>\n",
    "# Challenge Set 9\n",
    "Topic:        Classification  \n",
    "Date:         8/8/2016  \n",
    "Name:         Whitney Chia  \n",
    "Worked with:  All by myyyyyyyself"
   ]
  },
  {
   "cell_type": "markdown",
   "metadata": {},
   "source": [
    "[Question 1](#question1)   \n",
    "[Question 2](#question2)   \n",
    "[Question 3](#question3)  \n",
    "[Question 4](#question4)   \n",
    "[Question 5](#question5)   \n",
    "[Question 6](#question6)"
   ]
  },
  {
   "cell_type": "markdown",
   "metadata": {},
   "source": [
    "<a id='question1'></a>\n",
    "# Question 1   \n",
    "[Top](#top)"
   ]
  },
  {
   "cell_type": "code",
   "execution_count": 91,
   "metadata": {
    "collapsed": false
   },
   "outputs": [],
   "source": [
    "# %matplotlib inline\n",
    "import matplotlib.pyplot as plt\n",
    "import numpy as np\n",
    "import pandas as pd\n",
    "import seaborn as sns\n",
    "from sklearn.linear_model import LinearRegression\n",
    "from patsy import dmatrices\n",
    "import statsmodels.api as sm\n",
    "from statsmodels.regression.linear_model import OLS\n",
    "pd.options.display.max_rows = 999\n",
    "plt.style.use('ggplot')\n",
    "sns.set_context('poster')\n",
    "sns.set_style('darkgrid')\n",
    "sns.set_palette('dark')\n",
    "import matplotlib.patches as mpatches\n",
    "from sklearn.cross_validation import train_test_split\n",
    "from sklearn import cross_validation as cv\n",
    "from sklearn.metrics import mean_squared_error, mean_absolute_error"
   ]
  },
  {
   "cell_type": "code",
   "execution_count": 33,
   "metadata": {
    "collapsed": false
   },
   "outputs": [],
   "source": [
    "from pandas.io.stata import StataReader\n",
    "reader = StataReader('ships.dta')\n",
    "df = reader.data()"
   ]
  },
  {
   "cell_type": "code",
   "execution_count": 34,
   "metadata": {
    "collapsed": false
   },
   "outputs": [
    {
     "data": {
      "text/html": [
       "<div>\n",
       "<table border=\"1\" class=\"dataframe\">\n",
       "  <thead>\n",
       "    <tr style=\"text-align: right;\">\n",
       "      <th></th>\n",
       "      <th>type</th>\n",
       "      <th>construction</th>\n",
       "      <th>operation</th>\n",
       "      <th>months</th>\n",
       "      <th>damage</th>\n",
       "    </tr>\n",
       "  </thead>\n",
       "  <tbody>\n",
       "    <tr>\n",
       "      <th>0</th>\n",
       "      <td>A</td>\n",
       "      <td>1960-64</td>\n",
       "      <td>1960-74</td>\n",
       "      <td>127.0</td>\n",
       "      <td>0.0</td>\n",
       "    </tr>\n",
       "    <tr>\n",
       "      <th>1</th>\n",
       "      <td>A</td>\n",
       "      <td>1960-64</td>\n",
       "      <td>1975-79</td>\n",
       "      <td>63.0</td>\n",
       "      <td>0.0</td>\n",
       "    </tr>\n",
       "    <tr>\n",
       "      <th>2</th>\n",
       "      <td>A</td>\n",
       "      <td>1965-70</td>\n",
       "      <td>1960-74</td>\n",
       "      <td>1095.0</td>\n",
       "      <td>3.0</td>\n",
       "    </tr>\n",
       "    <tr>\n",
       "      <th>3</th>\n",
       "      <td>A</td>\n",
       "      <td>1965-70</td>\n",
       "      <td>1975-79</td>\n",
       "      <td>1095.0</td>\n",
       "      <td>4.0</td>\n",
       "    </tr>\n",
       "    <tr>\n",
       "      <th>4</th>\n",
       "      <td>A</td>\n",
       "      <td>1970-74</td>\n",
       "      <td>1960-74</td>\n",
       "      <td>1512.0</td>\n",
       "      <td>6.0</td>\n",
       "    </tr>\n",
       "  </tbody>\n",
       "</table>\n",
       "</div>"
      ],
      "text/plain": [
       "  type construction operation  months  damage\n",
       "0    A      1960-64   1960-74   127.0     0.0\n",
       "1    A      1960-64   1975-79    63.0     0.0\n",
       "2    A      1965-70   1960-74  1095.0     3.0\n",
       "3    A      1965-70   1975-79  1095.0     4.0\n",
       "4    A      1970-74   1960-74  1512.0     6.0"
      ]
     },
     "execution_count": 34,
     "metadata": {},
     "output_type": "execute_result"
    }
   ],
   "source": [
    "df.head()"
   ]
  },
  {
   "cell_type": "code",
   "execution_count": 35,
   "metadata": {
    "collapsed": false
   },
   "outputs": [
    {
     "data": {
      "text/plain": [
       "[A, B, C, D, E]\n",
       "Categories (5, object): [A < B < C < D < E]"
      ]
     },
     "execution_count": 35,
     "metadata": {},
     "output_type": "execute_result"
    }
   ],
   "source": [
    "df['type'].unique()"
   ]
  },
  {
   "cell_type": "code",
   "execution_count": 36,
   "metadata": {
    "collapsed": false
   },
   "outputs": [],
   "source": [
    "df['1960_64_con'] = [1 if x == '1960-64' else 0 for x in df['construction']]\n",
    "df['1965-70_con'] = [1 if x == '1965-70' else 0 for x in df['construction']]\n",
    "df['1970_74_con'] = [1 if x == '1970-74' else 0 for x in df['construction']]\n",
    "df['1975_79_con'] = [1 if x == '1975-79' else 0 for x in df['construction']]"
   ]
  },
  {
   "cell_type": "code",
   "execution_count": 37,
   "metadata": {
    "collapsed": false
   },
   "outputs": [],
   "source": [
    "df['1960_74_op'] = [1 if x == '1960-74' else 0 for x in df['operation']]\n",
    "df['1975_79_op'] = [1 if x == '1975-79' else 0 for x in df['operation']]\n",
    "df['constant'] = [1 for x in df['operation']]"
   ]
  },
  {
   "cell_type": "code",
   "execution_count": 38,
   "metadata": {
    "collapsed": true
   },
   "outputs": [],
   "source": [
    "df['A'] = [1 if x == 'A' else 0 for x in df['type']]\n",
    "df['B'] = [1 if x == 'B' else 0 for x in df['type']]\n",
    "df['C'] = [1 if x == 'C' else 0 for x in df['type']]\n",
    "df['D'] = [1 if x == 'D' else 0 for x in df['type']]\n",
    "df['E'] = [1 if x == 'E' else 0 for x in df['type']]"
   ]
  },
  {
   "cell_type": "code",
   "execution_count": 132,
   "metadata": {
    "collapsed": false
   },
   "outputs": [
    {
     "data": {
      "text/html": [
       "<div>\n",
       "<table border=\"1\" class=\"dataframe\">\n",
       "  <thead>\n",
       "    <tr style=\"text-align: right;\">\n",
       "      <th></th>\n",
       "      <th>type</th>\n",
       "      <th>construction</th>\n",
       "      <th>operation</th>\n",
       "      <th>months</th>\n",
       "      <th>damage</th>\n",
       "      <th>1960_64_con</th>\n",
       "      <th>1965-70_con</th>\n",
       "      <th>1970_74_con</th>\n",
       "      <th>1975_79_con</th>\n",
       "      <th>1960_74_op</th>\n",
       "      <th>1975_79_op</th>\n",
       "      <th>constant</th>\n",
       "      <th>A</th>\n",
       "      <th>B</th>\n",
       "      <th>C</th>\n",
       "      <th>D</th>\n",
       "      <th>E</th>\n",
       "    </tr>\n",
       "  </thead>\n",
       "  <tbody>\n",
       "    <tr>\n",
       "      <th>0</th>\n",
       "      <td>A</td>\n",
       "      <td>1960-64</td>\n",
       "      <td>1960-74</td>\n",
       "      <td>127.0</td>\n",
       "      <td>0.0</td>\n",
       "      <td>1</td>\n",
       "      <td>0</td>\n",
       "      <td>0</td>\n",
       "      <td>0</td>\n",
       "      <td>1</td>\n",
       "      <td>0</td>\n",
       "      <td>1</td>\n",
       "      <td>1</td>\n",
       "      <td>0</td>\n",
       "      <td>0</td>\n",
       "      <td>0</td>\n",
       "      <td>0</td>\n",
       "    </tr>\n",
       "    <tr>\n",
       "      <th>1</th>\n",
       "      <td>A</td>\n",
       "      <td>1960-64</td>\n",
       "      <td>1975-79</td>\n",
       "      <td>63.0</td>\n",
       "      <td>0.0</td>\n",
       "      <td>1</td>\n",
       "      <td>0</td>\n",
       "      <td>0</td>\n",
       "      <td>0</td>\n",
       "      <td>0</td>\n",
       "      <td>1</td>\n",
       "      <td>1</td>\n",
       "      <td>1</td>\n",
       "      <td>0</td>\n",
       "      <td>0</td>\n",
       "      <td>0</td>\n",
       "      <td>0</td>\n",
       "    </tr>\n",
       "    <tr>\n",
       "      <th>2</th>\n",
       "      <td>A</td>\n",
       "      <td>1965-70</td>\n",
       "      <td>1960-74</td>\n",
       "      <td>1095.0</td>\n",
       "      <td>3.0</td>\n",
       "      <td>0</td>\n",
       "      <td>1</td>\n",
       "      <td>0</td>\n",
       "      <td>0</td>\n",
       "      <td>1</td>\n",
       "      <td>0</td>\n",
       "      <td>1</td>\n",
       "      <td>1</td>\n",
       "      <td>0</td>\n",
       "      <td>0</td>\n",
       "      <td>0</td>\n",
       "      <td>0</td>\n",
       "    </tr>\n",
       "    <tr>\n",
       "      <th>3</th>\n",
       "      <td>A</td>\n",
       "      <td>1965-70</td>\n",
       "      <td>1975-79</td>\n",
       "      <td>1095.0</td>\n",
       "      <td>4.0</td>\n",
       "      <td>0</td>\n",
       "      <td>1</td>\n",
       "      <td>0</td>\n",
       "      <td>0</td>\n",
       "      <td>0</td>\n",
       "      <td>1</td>\n",
       "      <td>1</td>\n",
       "      <td>1</td>\n",
       "      <td>0</td>\n",
       "      <td>0</td>\n",
       "      <td>0</td>\n",
       "      <td>0</td>\n",
       "    </tr>\n",
       "    <tr>\n",
       "      <th>4</th>\n",
       "      <td>A</td>\n",
       "      <td>1970-74</td>\n",
       "      <td>1960-74</td>\n",
       "      <td>1512.0</td>\n",
       "      <td>6.0</td>\n",
       "      <td>0</td>\n",
       "      <td>0</td>\n",
       "      <td>1</td>\n",
       "      <td>0</td>\n",
       "      <td>1</td>\n",
       "      <td>0</td>\n",
       "      <td>1</td>\n",
       "      <td>1</td>\n",
       "      <td>0</td>\n",
       "      <td>0</td>\n",
       "      <td>0</td>\n",
       "      <td>0</td>\n",
       "    </tr>\n",
       "  </tbody>\n",
       "</table>\n",
       "</div>"
      ],
      "text/plain": [
       "  type construction operation  months  damage  1960_64_con  1965-70_con  \\\n",
       "0    A      1960-64   1960-74   127.0     0.0            1            0   \n",
       "1    A      1960-64   1975-79    63.0     0.0            1            0   \n",
       "2    A      1965-70   1960-74  1095.0     3.0            0            1   \n",
       "3    A      1965-70   1975-79  1095.0     4.0            0            1   \n",
       "4    A      1970-74   1960-74  1512.0     6.0            0            0   \n",
       "\n",
       "   1970_74_con  1975_79_con  1960_74_op  1975_79_op  constant  A  B  C  D  E  \n",
       "0            0            0           1           0         1  1  0  0  0  0  \n",
       "1            0            0           0           1         1  1  0  0  0  0  \n",
       "2            0            0           1           0         1  1  0  0  0  0  \n",
       "3            0            0           0           1         1  1  0  0  0  0  \n",
       "4            1            0           1           0         1  1  0  0  0  0  "
      ]
     },
     "execution_count": 132,
     "metadata": {},
     "output_type": "execute_result"
    }
   ],
   "source": [
    "df.head()"
   ]
  },
  {
   "cell_type": "code",
   "execution_count": 40,
   "metadata": {
    "collapsed": false
   },
   "outputs": [],
   "source": [
    "Y, X = np.ravel(df['damage']), df[['months', '1960_64_con', '1965-70_con', '1970_74_con',\\\n",
    "                                               '1975_79_con', '1960_74_op', '1975_79_op', 'constant',\\\n",
    "                                              'A', 'B', 'C', 'D', 'E']]"
   ]
  },
  {
   "cell_type": "code",
   "execution_count": 41,
   "metadata": {
    "collapsed": false
   },
   "outputs": [
    {
     "name": "stdout",
     "output_type": "stream",
     "text": [
      "                 Generalized Linear Model Regression Results                  \n",
      "==============================================================================\n",
      "Dep. Variable:                      y   No. Observations:                   34\n",
      "Model:                            GLM   Df Residuals:                       24\n",
      "Model Family:                 Poisson   Df Model:                            9\n",
      "Link Function:                    log   Scale:                             1.0\n",
      "Method:                          IRLS   Log-Likelihood:                -84.182\n",
      "Date:                Tue, 09 Aug 2016   Deviance:                       70.498\n",
      "Time:                        15:51:26   Pearson chi2:                     65.8\n",
      "No. Iterations:                     9                                         \n",
      "===============================================================================\n",
      "                  coef    std err          z      P>|z|      [95.0% Conf. Int.]\n",
      "-------------------------------------------------------------------------------\n",
      "months       6.697e-05   8.52e-06      7.857      0.000      5.03e-05  8.37e-05\n",
      "1960_64_con    -0.7190      0.161     -4.479      0.000        -1.034    -0.404\n",
      "1965-70_con     0.3683      0.088      4.203      0.000         0.197     0.540\n",
      "1970_74_con     0.7809      0.098      7.958      0.000         0.589     0.973\n",
      "1975_79_con     0.1355      0.152      0.892      0.372        -0.162     0.433\n",
      "1960_74_op     -0.0813      0.087     -0.938      0.348        -0.251     0.089\n",
      "1975_79_op      0.6471      0.061     10.620      0.000         0.528     0.766\n",
      "constant        0.5657      0.064      8.891      0.000         0.441     0.690\n",
      "A               0.4132      0.148      2.784      0.005         0.122     0.704\n",
      "B               1.0832      0.156      6.952      0.000         0.778     1.389\n",
      "C              -0.7784      0.246     -3.162      0.002        -1.261    -0.296\n",
      "D              -0.4162      0.212     -1.964      0.050        -0.832    -0.001\n",
      "E               0.2639      0.164      1.607      0.108        -0.058     0.586\n",
      "===============================================================================\n"
     ]
    }
   ],
   "source": [
    "pois_m = sm.GLM(Y,X, family=sm.families.Poisson(sm.families.links.log))\n",
    "pois_results=pois_m.fit()\n",
    "\n",
    "print pois_results.summary()"
   ]
  },
  {
   "cell_type": "markdown",
   "metadata": {},
   "source": [
    "It's very hard to tell if this is a good model or not without any context. Looking at the deviance and the Pearson chi-squared gives us a number but without looking at other models, those numbers have no context. We can't say this is a good model or a bad model without being able to compare it to another model. I would say it's an ok model since the deviance and the pearson aren't gigantic, but without a comparison, you can't really draw too many conclusions from those."
   ]
  },
  {
   "cell_type": "markdown",
   "metadata": {},
   "source": [
    "# <a id='question2'></a>\n",
    "# Question 2   \n",
    "[Top](#top)"
   ]
  },
  {
   "cell_type": "code",
   "execution_count": 45,
   "metadata": {
    "collapsed": true
   },
   "outputs": [],
   "source": [
    "Y, X = np.ravel(df['damage']), df[['1960_64_con', '1965-70_con', '1970_74_con',\\\n",
    "                                               '1975_79_con', '1960_74_op', '1975_79_op', 'constant',\\\n",
    "                                              'A', 'B', 'C', 'D', 'E']]\n",
    "months = df['months']"
   ]
  },
  {
   "cell_type": "code",
   "execution_count": 46,
   "metadata": {
    "collapsed": false
   },
   "outputs": [
    {
     "name": "stdout",
     "output_type": "stream",
     "text": [
      "                 Generalized Linear Model Regression Results                  \n",
      "==============================================================================\n",
      "Dep. Variable:                      y   No. Observations:                   34\n",
      "Model:                            GLM   Df Residuals:                       25\n",
      "Model Family:                 Poisson   Df Model:                            8\n",
      "Link Function:                    log   Scale:                             1.0\n",
      "Method:                          IRLS   Log-Likelihood:                -68.281\n",
      "Date:                Tue, 09 Aug 2016   Deviance:                       38.695\n",
      "Time:                        15:52:25   Pearson chi2:                     42.3\n",
      "No. Iterations:                     9                                         \n",
      "===============================================================================\n",
      "                  coef    std err          z      P>|z|      [95.0% Conf. Int.]\n",
      "-------------------------------------------------------------------------------\n",
      "1960_64_con    -1.2509      0.118    -10.617      0.000        -1.482    -1.020\n",
      "1965-70_con    -0.5538      0.091     -6.110      0.000        -0.731    -0.376\n",
      "1970_74_con    -0.4325      0.091     -4.740      0.000        -0.611    -0.254\n",
      "1975_79_con    -0.7975      0.149     -5.352      0.000        -1.090    -0.505\n",
      "1960_74_op     -1.7096      0.069    -24.813      0.000        -1.845    -1.575\n",
      "1975_79_op     -1.3251      0.059    -22.334      0.000        -1.441    -1.209\n",
      "constant       -3.0347      0.050    -60.137      0.000        -3.134    -2.936\n",
      "A              -0.4107      0.149     -2.765      0.006        -0.702    -0.120\n",
      "B              -0.9541      0.105     -9.100      0.000        -1.160    -0.749\n",
      "C              -1.0981      0.246     -4.463      0.000        -1.580    -0.616\n",
      "D              -0.4867      0.216     -2.256      0.024        -0.909    -0.064\n",
      "E              -0.0851      0.166     -0.514      0.607        -0.410     0.239\n",
      "===============================================================================\n"
     ]
    }
   ],
   "source": [
    "pois_m = sm.GLM(Y,X, offset=np.log(months), family=sm.families.Poisson(sm.families.links.log))\n",
    "pois_results=pois_m.fit()\n",
    "\n",
    "print pois_results.summary()"
   ]
  },
  {
   "cell_type": "markdown",
   "metadata": {},
   "source": [
    "Using the offset clearly makes this model better, the deviance and the pearson chi2 have gotten smaller compared to the model without the offset. I believe the offset makes and adjustment for the time intervals so that they change to a rate, using that seems to be more effective for our model. "
   ]
  },
  {
   "cell_type": "markdown",
   "metadata": {},
   "source": [
    "# <a id='question3'></a>\n",
    "# Question 3   \n",
    "[Top](#top)"
   ]
  },
  {
   "cell_type": "code",
   "execution_count": 64,
   "metadata": {
    "collapsed": false
   },
   "outputs": [],
   "source": [
    "Y, X = np.ravel(df['damage']), df[['months', '1960_64_con', '1965-70_con', '1970_74_con',\\\n",
    "                                               '1975_79_con', '1960_74_op', '1975_79_op', 'constant',\\\n",
    "                                              'A', 'B', 'C', 'D', 'E']]"
   ]
  },
  {
   "cell_type": "code",
   "execution_count": 65,
   "metadata": {
    "collapsed": false
   },
   "outputs": [],
   "source": [
    "x_train, x_test, y_train, y_test = cv.train_test_split(X,Y,test_size=.30, random_state=4444)\n",
    "\n",
    "months_train = x_train['months']\n",
    "months_test = x_test['months']\n",
    "\n",
    "x_train = x_train[['1960_64_con', '1965-70_con', '1970_74_con',\\\n",
    "                                               '1975_79_con', '1960_74_op', '1975_79_op', 'constant',\\\n",
    "                                              'A', 'B', 'C', 'D', 'E']]\n",
    "x_test = x_test[['1960_64_con', '1965-70_con', '1970_74_con',\\\n",
    "                                               '1975_79_con', '1960_74_op', '1975_79_op', 'constant',\\\n",
    "                                              'A', 'B', 'C', 'D', 'E']]\n",
    "\n"
   ]
  },
  {
   "cell_type": "markdown",
   "metadata": {},
   "source": [
    "Ask about getting the offset into this. I can't since I am slicing from my X and Y that I defined."
   ]
  },
  {
   "cell_type": "code",
   "execution_count": 67,
   "metadata": {
    "collapsed": false
   },
   "outputs": [],
   "source": [
    "pois_m = sm.GLM(y_train, x_train, offset=np.log(months_train), family=sm.families.Poisson(sm.families.links.log))\n",
    "pois_results = pois_m.fit()\n",
    "pois_test = pois_results.predict(x_test)"
   ]
  },
  {
   "cell_type": "code",
   "execution_count": 68,
   "metadata": {
    "collapsed": false
   },
   "outputs": [],
   "source": [
    "from sklearn.metrics import mean_squared_error, mean_absolute_error"
   ]
  },
  {
   "cell_type": "code",
   "execution_count": 133,
   "metadata": {
    "collapsed": false
   },
   "outputs": [
    {
     "name": "stdout",
     "output_type": "stream",
     "text": [
      "The mean squared error is: 189.576620543\n",
      "The mean absolute error is: 8.17832847596\n"
     ]
    }
   ],
   "source": [
    "print 'The mean squared error is: ' + str(mean_squared_error(y_test, pois_test))\n",
    "print 'The mean absolute error is: ' + str(mean_absolute_error(y_test, pois_test))"
   ]
  },
  {
   "cell_type": "markdown",
   "metadata": {},
   "source": [
    "# <a id='question4'></a>\n",
    "# Question 4   \n",
    "[Top](#top)"
   ]
  },
  {
   "cell_type": "code",
   "execution_count": 83,
   "metadata": {
    "collapsed": true
   },
   "outputs": [],
   "source": [
    "from statsmodels.genmod.generalized_linear_model import GLMResults"
   ]
  },
  {
   "cell_type": "code",
   "execution_count": 84,
   "metadata": {
    "collapsed": true
   },
   "outputs": [],
   "source": [
    "Y, X = np.ravel(df['damage']), df[['1960_64_con', '1965-70_con', '1970_74_con',\\\n",
    "                                               '1975_79_con', '1960_74_op', '1975_79_op', 'constant',\\\n",
    "                                              'A', 'B', 'C', 'D', 'E']]\n",
    "months = df['months']"
   ]
  },
  {
   "cell_type": "code",
   "execution_count": 85,
   "metadata": {
    "collapsed": false
   },
   "outputs": [
    {
     "name": "stdout",
     "output_type": "stream",
     "text": [
      "                 Generalized Linear Model Regression Results                  \n",
      "==============================================================================\n",
      "Dep. Variable:                      y   No. Observations:                   34\n",
      "Model:                            GLM   Df Residuals:                       25\n",
      "Model Family:                 Poisson   Df Model:                            8\n",
      "Link Function:                    log   Scale:                             1.0\n",
      "Method:                          IRLS   Log-Likelihood:                -68.281\n",
      "Date:                Tue, 09 Aug 2016   Deviance:                       38.695\n",
      "Time:                        16:04:42   Pearson chi2:                     42.3\n",
      "No. Iterations:                     9                                         \n",
      "===============================================================================\n",
      "                  coef    std err          z      P>|z|      [95.0% Conf. Int.]\n",
      "-------------------------------------------------------------------------------\n",
      "1960_64_con    -1.2509      0.118    -10.617      0.000        -1.482    -1.020\n",
      "1965-70_con    -0.5538      0.091     -6.110      0.000        -0.731    -0.376\n",
      "1970_74_con    -0.4325      0.091     -4.740      0.000        -0.611    -0.254\n",
      "1975_79_con    -0.7975      0.149     -5.352      0.000        -1.090    -0.505\n",
      "1960_74_op     -1.7096      0.069    -24.813      0.000        -1.845    -1.575\n",
      "1975_79_op     -1.3251      0.059    -22.334      0.000        -1.441    -1.209\n",
      "constant       -3.0347      0.050    -60.137      0.000        -3.134    -2.936\n",
      "A              -0.4107      0.149     -2.765      0.006        -0.702    -0.120\n",
      "B              -0.9541      0.105     -9.100      0.000        -1.160    -0.749\n",
      "C              -1.0981      0.246     -4.463      0.000        -1.580    -0.616\n",
      "D              -0.4867      0.216     -2.256      0.024        -0.909    -0.064\n",
      "E              -0.0851      0.166     -0.514      0.607        -0.410     0.239\n",
      "===============================================================================\n"
     ]
    }
   ],
   "source": [
    "pois_m = sm.GLM(Y,X, offset=np.log(months), family=sm.families.Poisson(sm.families.links.log))\n",
    "pois_results=pois_m.fit()\n",
    "\n",
    "print pois_results.summary()"
   ]
  },
  {
   "cell_type": "code",
   "execution_count": 86,
   "metadata": {
    "collapsed": false
   },
   "outputs": [],
   "source": [
    "Y, X = np.ravel(df['damage']), df['constant']"
   ]
  },
  {
   "cell_type": "code",
   "execution_count": 88,
   "metadata": {
    "collapsed": false
   },
   "outputs": [
    {
     "name": "stdout",
     "output_type": "stream",
     "text": [
      "                 Generalized Linear Model Regression Results                  \n",
      "==============================================================================\n",
      "Dep. Variable:                      y   No. Observations:                   34\n",
      "Model:                            GLM   Df Residuals:                       33\n",
      "Model Family:                 Poisson   Df Model:                            0\n",
      "Link Function:                    log   Scale:                             1.0\n",
      "Method:                          IRLS   Log-Likelihood:                -356.20\n",
      "Date:                Tue, 09 Aug 2016   Deviance:                       614.54\n",
      "Time:                        16:04:49   Pearson chi2:                     780.\n",
      "No. Iterations:                     8                                         \n",
      "==============================================================================\n",
      "                 coef    std err          z      P>|z|      [95.0% Conf. Int.]\n",
      "------------------------------------------------------------------------------\n",
      "constant       2.3486      0.053     44.313      0.000         2.245     2.452\n",
      "==============================================================================\n"
     ]
    }
   ],
   "source": [
    "pois_m = sm.GLM(Y,X, family=sm.families.Poisson(sm.families.links.log))\n",
    "pois_results_null=pois_m.fit()\n",
    "\n",
    "print pois_results_null.summary()"
   ]
  },
  {
   "cell_type": "markdown",
   "metadata": {},
   "source": [
    "Not 100% sure how to interpret this but I would think that we can reject the null hypothesis because our model performs so much better than the null model based on deviance and pearson chi2."
   ]
  },
  {
   "cell_type": "markdown",
   "metadata": {},
   "source": [
    "# <a id='question5'></a>\n",
    "# Question 5   \n",
    "[Top](#top)"
   ]
  },
  {
   "cell_type": "code",
   "execution_count": 143,
   "metadata": {
    "collapsed": true
   },
   "outputs": [],
   "source": [
    "df['logY'] = [np.log(x +.1) for x in df['damage']]"
   ]
  },
  {
   "cell_type": "code",
   "execution_count": 144,
   "metadata": {
    "collapsed": true
   },
   "outputs": [],
   "source": [
    "Y, X = np.ravel(df['logY']), df[['months', '1960_64_con', '1965-70_con', '1970_74_con',\\\n",
    "                                               '1975_79_con', '1960_74_op', '1975_79_op', 'constant',\\\n",
    "                                              'A', 'B', 'C', 'D', 'E']]"
   ]
  },
  {
   "cell_type": "code",
   "execution_count": 145,
   "metadata": {
    "collapsed": false
   },
   "outputs": [
    {
     "name": "stdout",
     "output_type": "stream",
     "text": [
      "                 Generalized Linear Model Regression Results                  \n",
      "==============================================================================\n",
      "Dep. Variable:                      y   No. Observations:                   34\n",
      "Model:                            GLM   Df Residuals:                       24\n",
      "Model Family:                Gaussian   Df Model:                            9\n",
      "Link Function:                    log   Scale:                   2.89974044179\n",
      "Method:                          IRLS   Log-Likelihood:                -61.342\n",
      "Date:                Tue, 09 Aug 2016   Deviance:                       69.594\n",
      "Time:                        17:36:22   Pearson chi2:                     69.6\n",
      "No. Iterations:                   100                                         \n",
      "===============================================================================\n",
      "                  coef    std err          z      P>|z|      [95.0% Conf. Int.]\n",
      "-------------------------------------------------------------------------------\n",
      "months       7.487e-05   3.21e-05      2.335      0.020       1.2e-05     0.000\n",
      "1960_64_con    -1.5312      0.704     -2.175      0.030        -2.911    -0.151\n",
      "1965-70_con    -0.1091      0.284     -0.384      0.701        -0.666     0.447\n",
      "1970_74_con     0.7112      0.333      2.133      0.033         0.058     1.365\n",
      "1975_79_con     0.4659      0.490      0.951      0.342        -0.494     1.426\n",
      "1960_74_op     -0.4644      0.289     -1.608      0.108        -1.030     0.102\n",
      "1975_79_op      0.0012      0.215      0.005      0.996        -0.420     0.422\n",
      "constant       -0.4632      0.298     -1.556      0.120        -1.047     0.120\n",
      "A               0.5670      0.499      1.136      0.256        -0.411     1.545\n",
      "B               0.3798      0.588      0.646      0.518        -0.772     1.531\n",
      "C              -0.9820      1.480     -0.663      0.507        -3.883     1.919\n",
      "D              -0.8932      0.919     -0.972      0.331        -2.694     0.908\n",
      "E               0.4652      0.570      0.816      0.414        -0.652     1.582\n",
      "===============================================================================\n"
     ]
    }
   ],
   "source": [
    "OLS = sm.GLM(Y,X, family=sm.families.Gaussian(sm.families.links.log))\n",
    "OLS_results = OLS.fit()\n",
    "\n",
    "print OLS_results.summary()"
   ]
  },
  {
   "cell_type": "markdown",
   "metadata": {},
   "source": [
    "These definitely do not perform similarly, the deviance and the Pearson chi2 are higher than our poisson with an offset. Additionally you will notice that our P-values are all higher for the linear regression which would suggest model fits very poorly. Our p-values for the poisson with the offset showed that our features were actually significant whereas this one does not suggest that at all."
   ]
  },
  {
   "cell_type": "markdown",
   "metadata": {},
   "source": [
    "# <a id='question6'></a>\n",
    "# Question 6   \n",
    "[Top](#top)"
   ]
  },
  {
   "cell_type": "code",
   "execution_count": 101,
   "metadata": {
    "collapsed": true
   },
   "outputs": [],
   "source": [
    "reader = StataReader('smoking.dta')\n",
    "df2 = reader.data()"
   ]
  },
  {
   "cell_type": "code",
   "execution_count": 103,
   "metadata": {
    "collapsed": false
   },
   "outputs": [
    {
     "data": {
      "text/html": [
       "<div>\n",
       "<table border=\"1\" class=\"dataframe\">\n",
       "  <thead>\n",
       "    <tr style=\"text-align: right;\">\n",
       "      <th></th>\n",
       "      <th>age</th>\n",
       "      <th>smoke</th>\n",
       "      <th>pop</th>\n",
       "      <th>dead</th>\n",
       "    </tr>\n",
       "  </thead>\n",
       "  <tbody>\n",
       "    <tr>\n",
       "      <th>0</th>\n",
       "      <td>40-44</td>\n",
       "      <td>Doesn't smoke</td>\n",
       "      <td>656.0</td>\n",
       "      <td>18.0</td>\n",
       "    </tr>\n",
       "    <tr>\n",
       "      <th>1</th>\n",
       "      <td>45-49</td>\n",
       "      <td>Doesn't smoke</td>\n",
       "      <td>359.0</td>\n",
       "      <td>22.0</td>\n",
       "    </tr>\n",
       "    <tr>\n",
       "      <th>2</th>\n",
       "      <td>50-54</td>\n",
       "      <td>Doesn't smoke</td>\n",
       "      <td>249.0</td>\n",
       "      <td>19.0</td>\n",
       "    </tr>\n",
       "    <tr>\n",
       "      <th>3</th>\n",
       "      <td>55-59</td>\n",
       "      <td>Doesn't smoke</td>\n",
       "      <td>632.0</td>\n",
       "      <td>55.0</td>\n",
       "    </tr>\n",
       "    <tr>\n",
       "      <th>4</th>\n",
       "      <td>60-64</td>\n",
       "      <td>Doesn't smoke</td>\n",
       "      <td>1067.0</td>\n",
       "      <td>117.0</td>\n",
       "    </tr>\n",
       "  </tbody>\n",
       "</table>\n",
       "</div>"
      ],
      "text/plain": [
       "     age          smoke     pop   dead\n",
       "0  40-44  Doesn't smoke   656.0   18.0\n",
       "1  45-49  Doesn't smoke   359.0   22.0\n",
       "2  50-54  Doesn't smoke   249.0   19.0\n",
       "3  55-59  Doesn't smoke   632.0   55.0\n",
       "4  60-64  Doesn't smoke  1067.0  117.0"
      ]
     },
     "execution_count": 103,
     "metadata": {},
     "output_type": "execute_result"
    }
   ],
   "source": [
    "df2.head()"
   ]
  },
  {
   "cell_type": "code",
   "execution_count": 107,
   "metadata": {
    "collapsed": false
   },
   "outputs": [
    {
     "data": {
      "text/plain": [
       "Index([u'age', u'smoke', u'pop', u'dead'], dtype='object')"
      ]
     },
     "execution_count": 107,
     "metadata": {},
     "output_type": "execute_result"
    }
   ],
   "source": [
    "df2.columns"
   ]
  },
  {
   "cell_type": "code",
   "execution_count": 105,
   "metadata": {
    "collapsed": false
   },
   "outputs": [
    {
     "data": {
      "text/plain": [
       "[Doesn't smoke, Smokes cigars or pipe only, Smokes cigarettes and cigar or pipe, smokes cigarettes only]\n",
       "Categories (4, object): [Doesn't smoke < Smokes cigars or pipe only < Smokes cigarettes and cigar or pipe < smokes cigarettes only]"
      ]
     },
     "execution_count": 105,
     "metadata": {},
     "output_type": "execute_result"
    }
   ],
   "source": [
    "df2['smoke'].unique()"
   ]
  },
  {
   "cell_type": "code",
   "execution_count": 110,
   "metadata": {
    "collapsed": false
   },
   "outputs": [],
   "source": [
    "df2['40-44_age'] = [1 if x == '40-44' else 0 for x in df2['age']]\n",
    "df2['45-49_age'] = [1 if x == '45-49' else 0 for x in df2['age']]\n",
    "df2['50-54_age'] = [1 if x == '50-54' else 0 for x in df2['age']]\n",
    "df2['55-59_age'] = [1 if x == '55-59' else 0 for x in df2['age']]\n",
    "df2['60-64_age'] = [1 if x == '60-64' else 0 for x in df2['age']]\n",
    "df2['65-69_age'] = [1 if x == '65-69' else 0 for x in df2['age']]\n",
    "df2['70-74_age'] = [1 if x == '70-74' else 0 for x in df2['age']]\n",
    "df2['75-79_age'] = [1 if x == '75-79' else 0 for x in df2['age']]\n",
    "df2['80+_age'] = [1 if x == '80+' else 0 for x in df2['age']]\n",
    "df2[\"Doesn't smoke\"] = [1 if x == \"Doesn't smoke\" else 0 for x in df2['smoke']]\n",
    "df2['Smokes cigars or pipe only'] = [1 if x == 'Smokes cigars or pipe only' else 0 for x in df2['smoke']]\n",
    "df2['Smokes cigarettes and cigar or pipe'] = [1 if x == 'Smokes cigarettes and cigar or pipe' else 0 for x in df2['smoke']]\n",
    "df2['smokes cigarettes only'] = [1 if x == 'smokes cigarettes only' else 0 for x in df2['smoke']]"
   ]
  },
  {
   "cell_type": "code",
   "execution_count": 112,
   "metadata": {
    "collapsed": false
   },
   "outputs": [
    {
     "data": {
      "text/plain": [
       "Index([                                u'age',\n",
       "                                     u'smoke',\n",
       "                                       u'pop',\n",
       "                                      u'dead',\n",
       "                                 u'40-44_age',\n",
       "                                 u'45-49_age',\n",
       "                                 u'50-54_age',\n",
       "                                 u'55-59_age',\n",
       "                                 u'60-64_age',\n",
       "                                 u'65-69_age',\n",
       "                                 u'70-74_age',\n",
       "                                 u'75-79_age',\n",
       "                                   u'80+_age',\n",
       "                             u'Doesn't smoke',\n",
       "                u'Smokes cigars or pipe only',\n",
       "       u'Smokes cigarettes and cigar or pipe',\n",
       "                    u'smokes cigarettes only'],\n",
       "      dtype='object')"
      ]
     },
     "execution_count": 112,
     "metadata": {},
     "output_type": "execute_result"
    }
   ],
   "source": [
    "df2.columns"
   ]
  },
  {
   "cell_type": "code",
   "execution_count": 126,
   "metadata": {
    "collapsed": false
   },
   "outputs": [],
   "source": [
    "Y, X = np.ravel(df2['dead']), df2[[ '40-44_age', '45-49_age', '50-54_age', '55-59_age', '60-64_age', '65-69_age',\\\n",
    "                                '70-74_age', '75-79_age', '80+_age', \"Doesn't smoke\", 'Smokes cigars or pipe only',\\\n",
    "                                 'Smokes cigarettes and cigar or pipe','smokes cigarettes only']]\n",
    "offset = df2['pop']"
   ]
  },
  {
   "cell_type": "code",
   "execution_count": 128,
   "metadata": {
    "collapsed": false
   },
   "outputs": [
    {
     "name": "stdout",
     "output_type": "stream",
     "text": [
      "                 Generalized Linear Model Regression Results                  \n",
      "==============================================================================\n",
      "Dep. Variable:                      y   No. Observations:                   36\n",
      "Model:                            GLM   Df Residuals:                       24\n",
      "Model Family:                 Poisson   Df Model:                           11\n",
      "Link Function:                    log   Scale:                             1.0\n",
      "Method:                          IRLS   Log-Likelihood:                -130.75\n",
      "Date:                Tue, 09 Aug 2016   Deviance:                       21.487\n",
      "Time:                        17:21:54   Pearson chi2:                     20.6\n",
      "No. Iterations:                     9                                         \n",
      "=======================================================================================================\n",
      "                                          coef    std err          z      P>|z|      [95.0% Conf. Int.]\n",
      "-------------------------------------------------------------------------------------------------------\n",
      "40-44_age                              -2.1754      0.055    -39.643      0.000        -2.283    -2.068\n",
      "45-49_age                              -1.6215      0.051    -31.491      0.000        -1.722    -1.521\n",
      "50-54_age                              -1.1950      0.047    -25.293      0.000        -1.288    -1.102\n",
      "55-59_age                              -0.7960      0.029    -27.598      0.000        -0.852    -0.739\n",
      "60-64_age                              -0.5212      0.023    -22.730      0.000        -0.566    -0.476\n",
      "65-69_age                              -0.1772      0.023     -7.693      0.000        -0.222    -0.132\n",
      "70-74_age                               0.0960      0.026      3.697      0.000         0.045     0.147\n",
      "75-79_age                               0.3832      0.032     11.988      0.000         0.321     0.446\n",
      "80+_age                                 0.6715      0.039     17.224      0.000         0.595     0.748\n",
      "Doesn't smoke                          -1.5046      0.033    -45.406      0.000        -1.570    -1.440\n",
      "Smokes cigars or pipe only             -1.4568      0.031    -47.440      0.000        -1.517    -1.397\n",
      "Smokes cigarettes and cigar or pipe    -1.2867      0.016    -80.025      0.000        -1.318    -1.255\n",
      "smokes cigarettes only                 -1.0876      0.018    -60.309      0.000        -1.123    -1.052\n",
      "=======================================================================================================\n"
     ]
    }
   ],
   "source": [
    "pois_m = sm.GLM(Y,X, offset=np.log(offset), family=sm.families.Poisson(sm.families.links.log))\n",
    "pois_results=pois_m.fit()\n",
    "\n",
    "print pois_results.summary()"
   ]
  },
  {
   "cell_type": "code",
   "execution_count": 129,
   "metadata": {
    "collapsed": false
   },
   "outputs": [
    {
     "name": "stdout",
     "output_type": "stream",
     "text": [
      "                 Generalized Linear Model Regression Results                  \n",
      "==============================================================================\n",
      "Dep. Variable:                      y   No. Observations:                   36\n",
      "Model:                            GLM   Df Residuals:                       24\n",
      "Model Family:                Gaussian   Df Model:                           11\n",
      "Link Function:                    log   Scale:                   5836.21677323\n",
      "Method:                          IRLS   Log-Likelihood:                -201.17\n",
      "Date:                Tue, 09 Aug 2016   Deviance:                   1.4007e+05\n",
      "Time:                        17:21:58   Pearson chi2:                 1.40e+05\n",
      "No. Iterations:                    13                                         \n",
      "=======================================================================================================\n",
      "                                          coef    std err          z      P>|z|      [95.0% Conf. Int.]\n",
      "-------------------------------------------------------------------------------------------------------\n",
      "40-44_age                               0.6480      0.370      1.749      0.080        -0.078     1.374\n",
      "45-49_age                               0.7745      0.328      2.363      0.018         0.132     1.417\n",
      "50-54_age                               0.9661      0.273      3.542      0.000         0.431     1.501\n",
      "55-59_age                               2.0312      0.110     18.448      0.000         1.815     2.247\n",
      "60-64_age                               2.5389      0.082     30.866      0.000         2.378     2.700\n",
      "65-69_age                               2.4450      0.086     28.434      0.000         2.276     2.614\n",
      "70-74_age                               2.0615      0.108     19.117      0.000         1.850     2.273\n",
      "75-79_age                               1.4827      0.170      8.724      0.000         1.150     1.816\n",
      "80+_age                                 0.8684      0.299      2.900      0.004         0.282     1.455\n",
      "Doesn't smoke                           2.6175      0.247     10.578      0.000         2.132     3.102\n",
      "Smokes cigars or pipe only              2.7472      0.219     12.542      0.000         2.318     3.177\n",
      "Smokes cigarettes and cigar or pipe     4.3564      0.071     61.459      0.000         4.217     4.495\n",
      "smokes cigarettes only                  4.0952      0.079     51.786      0.000         3.940     4.250\n",
      "=======================================================================================================\n"
     ]
    }
   ],
   "source": [
    "OLS = sm.GLM(Y,X, family=sm.families.Gaussian(sm.families.links.log))\n",
    "OLS_results = OLS.fit()\n",
    "\n",
    "print OLS_results.summary()"
   ]
  },
  {
   "cell_type": "markdown",
   "metadata": {},
   "source": [
    "Again, our poisson performs better from both a deviance and a Pearson chi2 standpoint. Additionally our p-values for the poisson are all very small whereas the linear regression has some features that aren't contributing as much as they are in the poisson distribution."
   ]
  }
 ],
 "metadata": {
  "kernelspec": {
   "display_name": "Python 2",
   "language": "python",
   "name": "python2"
  },
  "language_info": {
   "codemirror_mode": {
    "name": "ipython",
    "version": 2
   },
   "file_extension": ".py",
   "mimetype": "text/x-python",
   "name": "python",
   "nbconvert_exporter": "python",
   "pygments_lexer": "ipython2",
   "version": "2.7.12"
  }
 },
 "nbformat": 4,
 "nbformat_minor": 0
}
