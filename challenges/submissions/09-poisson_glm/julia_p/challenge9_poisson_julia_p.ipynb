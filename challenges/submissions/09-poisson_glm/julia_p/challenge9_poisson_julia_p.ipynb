{
 "cells": [
  {
   "cell_type": "code",
   "execution_count": 3,
   "metadata": {
    "collapsed": true
   },
   "outputs": [],
   "source": [
    "from pandas.io.stata import StataReader\n",
    "\n",
    "import pandas as pd\n",
    "import numpy as np\n",
    "\n",
    "import statsmodels.api as sm\n",
    "from sklearn.cross_validation import train_test_split\n",
    "from sklearn.metrics import mean_squared_error"
   ]
  },
  {
   "cell_type": "markdown",
   "metadata": {},
   "source": [
    "### Challenge 1"
   ]
  },
  {
   "cell_type": "code",
   "execution_count": 4,
   "metadata": {
    "collapsed": false
   },
   "outputs": [],
   "source": [
    "reader = StataReader('ships.dta')\n",
    "df = reader.read()"
   ]
  },
  {
   "cell_type": "code",
   "execution_count": 5,
   "metadata": {
    "collapsed": false
   },
   "outputs": [],
   "source": [
    "data = pd.get_dummies(df)\n",
    "y = data.damage\n",
    "X = data.drop('damage', axis = 1)"
   ]
  },
  {
   "cell_type": "code",
   "execution_count": 6,
   "metadata": {
    "collapsed": false
   },
   "outputs": [],
   "source": [
    "x_train, x_test, y_train, y_test = train_test_split(X, y,test_size=0.30,random_state=4444)"
   ]
  },
  {
   "cell_type": "code",
   "execution_count": 49,
   "metadata": {
    "collapsed": false
   },
   "outputs": [
    {
     "name": "stdout",
     "output_type": "stream",
     "text": [
      "                 Generalized Linear Model Regression Results                  \n",
      "==============================================================================\n",
      "Dep. Variable:                 damage   No. Observations:                   23\n",
      "Model:                            GLM   Df Residuals:                       13\n",
      "Model Family:                 Poisson   Df Model:                            9\n",
      "Link Function:                    log   Scale:                             1.0\n",
      "Method:                          IRLS   Log-Likelihood:                -57.077\n",
      "Date:                Mon, 15 Aug 2016   Deviance:                       50.036\n",
      "Time:                        16:05:18   Pearson chi2:                     45.9\n",
      "No. Iterations:                     9                                         \n",
      "========================================================================================\n",
      "                           coef    std err          z      P>|z|      [95.0% Conf. Int.]\n",
      "----------------------------------------------------------------------------------------\n",
      "const                    0.4767      0.087      5.464      0.000         0.306     0.648\n",
      "months                   0.0001   1.83e-05      6.357      0.000      8.03e-05     0.000\n",
      "type_A                   0.5156      0.169      3.051      0.002         0.184     0.847\n",
      "type_B                   0.4811      0.279      1.721      0.085        -0.067     1.029\n",
      "type_C                  -0.6238      0.298     -2.091      0.037        -1.209    -0.039\n",
      "type_D                  -0.1737      0.236     -0.735      0.462        -0.637     0.289\n",
      "type_E                   0.2775      0.345      0.805      0.421        -0.398     0.953\n",
      "construction_1960-64    -0.5030      0.164     -3.075      0.002        -0.824    -0.182\n",
      "construction_1965-70    -0.0178      0.173     -0.103      0.918        -0.357     0.321\n",
      "construction_1970-74     0.8395      0.132      6.376      0.000         0.581     1.098\n",
      "construction_1975-79     0.1579      0.239      0.662      0.508        -0.310     0.626\n",
      "operation_1960-74       -0.1255      0.106     -1.188      0.235        -0.332     0.081\n",
      "operation_1975-79        0.6021      0.070      8.583      0.000         0.465     0.740\n",
      "========================================================================================\n"
     ]
    }
   ],
   "source": [
    "# Data \n",
    "pois_no_offset_model=sm.GLM(y_train, sm.add_constant(x_train), family=sm.families.Poisson(sm.families.links.log))\n",
    "\n",
    "# Fitting our model using Maximum likelihood\n",
    "pois_no_offset_model_results=pois_no_offset_model.fit()\n",
    "y_hat_no_offset = pois_no_offset_model_results.predict(sm.add_constant(x_test))\n",
    "\n",
    "print(pois_no_offset_model_results.summary())"
   ]
  },
  {
   "cell_type": "markdown",
   "metadata": {},
   "source": [
    "For this model a lot of coefficients appear significant, we may try to improve the model and reduce number of significant values. Question: does Pearson chi-squared test if the model follows a Poisson distribution or if residuals follow normal distribution?"
   ]
  },
  {
   "cell_type": "markdown",
   "metadata": {},
   "source": [
    "### Challenge 2"
   ]
  },
  {
   "cell_type": "code",
   "execution_count": 11,
   "metadata": {
    "collapsed": false
   },
   "outputs": [
    {
     "name": "stdout",
     "output_type": "stream",
     "text": [
      "                 Generalized Linear Model Regression Results                  \n",
      "==============================================================================\n",
      "Dep. Variable:                 damage   No. Observations:                   23\n",
      "Model:                            GLM   Df Residuals:                       13\n",
      "Model Family:                 Poisson   Df Model:                            9\n",
      "Link Function:                    log   Scale:                             1.0\n",
      "Method:                          IRLS   Log-Likelihood:                -44.986\n",
      "Date:                Mon, 15 Aug 2016   Deviance:                       25.853\n",
      "Time:                        15:43:09   Pearson chi2:                     28.3\n",
      "No. Iterations:                     9                                         \n",
      "========================================================================================\n",
      "                           coef    std err          z      P>|z|      [95.0% Conf. Int.]\n",
      "----------------------------------------------------------------------------------------\n",
      "const                   -3.0585      0.088    -34.658      0.000        -3.232    -2.886\n",
      "months                1.868e-05   1.79e-05      1.043      0.297     -1.64e-05  5.38e-05\n",
      "type_A                  -0.4221      0.172     -2.459      0.014        -0.759    -0.086\n",
      "type_B                  -1.2669      0.268     -4.732      0.000        -1.792    -0.742\n",
      "type_C                  -1.2368      0.296     -4.185      0.000        -1.816    -0.658\n",
      "type_D                  -0.4204      0.243     -1.732      0.083        -0.896     0.055\n",
      "type_E                   0.2877      0.345      0.835      0.404        -0.388     0.963\n",
      "construction_1960-64    -1.0708      0.175     -6.124      0.000        -1.414    -0.728\n",
      "construction_1965-70    -0.6791      0.172     -3.950      0.000        -1.016    -0.342\n",
      "construction_1970-74    -0.2902      0.131     -2.209      0.027        -0.548    -0.033\n",
      "construction_1975-79    -1.0184      0.237     -4.305      0.000        -1.482    -0.555\n",
      "operation_1960-74       -1.7017      0.103    -16.526      0.000        -1.904    -1.500\n",
      "operation_1975-79       -1.3568      0.071    -19.190      0.000        -1.495    -1.218\n",
      "========================================================================================\n"
     ]
    }
   ],
   "source": [
    "# Data \n",
    "pois_offset_model=sm.GLM(y_train, sm.add_constant(x_train), family=sm.families.Poisson(sm.families.links.log), offset = np.log(x_train['months']))\n",
    "\n",
    "# Fitting our model using Maximum likelihood\n",
    "pois_offset_model_results=pois_offset_model.fit()\n",
    "print(pois_offset_model_results.summary())"
   ]
  },
  {
   "cell_type": "markdown",
   "metadata": {},
   "source": [
    "### Challenge 3\n"
   ]
  },
  {
   "cell_type": "code",
   "execution_count": 12,
   "metadata": {
    "collapsed": true
   },
   "outputs": [],
   "source": [
    "x_train, x_test, y_train, y_test = train_test_split(X, y,test_size=0.30,random_state=4444)"
   ]
  },
  {
   "cell_type": "code",
   "execution_count": 48,
   "metadata": {
    "collapsed": false
   },
   "outputs": [
    {
     "name": "stdout",
     "output_type": "stream",
     "text": [
      "Mean Squared Error = 189.567282412\n"
     ]
    }
   ],
   "source": [
    "pois_m = sm.GLM(y_train, sm.add_constant(x_train), family=sm.families.Poisson(sm.families.links.log), offset = np.log(x_train['months']))\n",
    "pois_results = pois_m.fit()\n",
    "\n",
    "y_hat_offset = pois_results.predict(sm.add_constant(x_test))\n",
    "\n",
    "print('Mean Squared Error =', mean_squared_error(y_test,y_hat_offset))"
   ]
  },
  {
   "cell_type": "markdown",
   "metadata": {},
   "source": [
    "### Challenge 4\n",
    "\n",
    "It is possible to compute null_deviance without fitting the null model."
   ]
  },
  {
   "cell_type": "code",
   "execution_count": 12,
   "metadata": {
    "collapsed": false
   },
   "outputs": [
    {
     "name": "stdout",
     "output_type": "stream",
     "text": [
      "P-value of the difference btwn null and full model with the offset 0.000212155421377\n",
      "P-value of the difference btwn null and full model without offset 5.103091909e-84\n"
     ]
    }
   ],
   "source": [
    "from scipy.stats import chisqprob\n",
    "\n",
    "\n",
    "print('P-value of the difference btwn null and full model with the offset',\n",
    "      chisqprob(pois_offset_model_results.null_deviance - pois_offset_model_results.deviance,12))\n",
    "\n",
    "print('P-value of the difference btwn null and full model without offset',\n",
    "      chisqprob(pois_no_offset_model_results.null_deviance - pois_no_offset_model_results.deviance,12))\n"
   ]
  },
  {
   "cell_type": "markdown",
   "metadata": {},
   "source": [
    "Since, both p-values are small we would reject the hypothesis that the parameters of the model are zero, hence use the full model, not the null model with or wothout the offset."
   ]
  },
  {
   "cell_type": "markdown",
   "metadata": {},
   "source": [
    "### Challenge 5"
   ]
  },
  {
   "cell_type": "code",
   "execution_count": 13,
   "metadata": {
    "collapsed": false
   },
   "outputs": [],
   "source": [
    "from statsmodels.formula.api import OLS"
   ]
  },
  {
   "cell_type": "markdown",
   "metadata": {},
   "source": [
    "Compute OLS for log(Y), fit to test data"
   ]
  },
  {
   "cell_type": "code",
   "execution_count": 22,
   "metadata": {
    "collapsed": false
   },
   "outputs": [
    {
     "name": "stdout",
     "output_type": "stream",
     "text": [
      "Mean Squared Error = 140438.582342\n"
     ]
    }
   ],
   "source": [
    "ls_m = sm.OLS(np.log(y_train + 0.0001), sm.add_constant(x_train))\n",
    "ls_m_results = ls_m.fit()\n",
    "\n",
    "log_y_hat = ls_m_results.predict(sm.add_constant(x_test))\n",
    "\n",
    "print('Mean Squared Error =', mean_squared_error(y_test,np.exp(log_y_hat)))"
   ]
  },
  {
   "cell_type": "markdown",
   "metadata": {},
   "source": [
    "Compare coefficients for all three models. I am not sure it makes sense."
   ]
  },
  {
   "cell_type": "code",
   "execution_count": 45,
   "metadata": {
    "collapsed": false
   },
   "outputs": [
    {
     "data": {
      "text/html": [
       "<div>\n",
       "<table border=\"1\" class=\"dataframe\">\n",
       "  <thead>\n",
       "    <tr style=\"text-align: right;\">\n",
       "      <th></th>\n",
       "      <th>GLM_no_offset</th>\n",
       "      <th>GLM_offset</th>\n",
       "      <th>OLS</th>\n",
       "    </tr>\n",
       "  </thead>\n",
       "  <tbody>\n",
       "    <tr>\n",
       "      <th>const</th>\n",
       "      <td>0.476679</td>\n",
       "      <td>-3.058540</td>\n",
       "      <td>-1.377016</td>\n",
       "    </tr>\n",
       "    <tr>\n",
       "      <th>months</th>\n",
       "      <td>0.000116</td>\n",
       "      <td>0.000019</td>\n",
       "      <td>0.000351</td>\n",
       "    </tr>\n",
       "    <tr>\n",
       "      <th>type_A</th>\n",
       "      <td>0.515644</td>\n",
       "      <td>-0.422135</td>\n",
       "      <td>0.519184</td>\n",
       "    </tr>\n",
       "    <tr>\n",
       "      <th>type_B</th>\n",
       "      <td>0.481056</td>\n",
       "      <td>-1.266918</td>\n",
       "      <td>-0.233956</td>\n",
       "    </tr>\n",
       "    <tr>\n",
       "      <th>type_C</th>\n",
       "      <td>-0.623834</td>\n",
       "      <td>-1.236767</td>\n",
       "      <td>-1.040510</td>\n",
       "    </tr>\n",
       "    <tr>\n",
       "      <th>type_D</th>\n",
       "      <td>-0.173691</td>\n",
       "      <td>-0.420427</td>\n",
       "      <td>-1.816054</td>\n",
       "    </tr>\n",
       "    <tr>\n",
       "      <th>type_E</th>\n",
       "      <td>0.277504</td>\n",
       "      <td>0.287707</td>\n",
       "      <td>1.194321</td>\n",
       "    </tr>\n",
       "    <tr>\n",
       "      <th>construction_1960-64</th>\n",
       "      <td>-0.502999</td>\n",
       "      <td>-1.070824</td>\n",
       "      <td>-5.814979</td>\n",
       "    </tr>\n",
       "    <tr>\n",
       "      <th>construction_1965-70</th>\n",
       "      <td>-0.017770</td>\n",
       "      <td>-0.679140</td>\n",
       "      <td>-1.168822</td>\n",
       "    </tr>\n",
       "    <tr>\n",
       "      <th>construction_1970-74</th>\n",
       "      <td>0.839550</td>\n",
       "      <td>-0.290216</td>\n",
       "      <td>3.283761</td>\n",
       "    </tr>\n",
       "    <tr>\n",
       "      <th>construction_1975-79</th>\n",
       "      <td>0.157898</td>\n",
       "      <td>-1.018360</td>\n",
       "      <td>2.323024</td>\n",
       "    </tr>\n",
       "    <tr>\n",
       "      <th>operation_1960-74</th>\n",
       "      <td>-0.125464</td>\n",
       "      <td>-1.701733</td>\n",
       "      <td>-1.161087</td>\n",
       "    </tr>\n",
       "    <tr>\n",
       "      <th>operation_1975-79</th>\n",
       "      <td>0.602143</td>\n",
       "      <td>-1.356808</td>\n",
       "      <td>-0.215929</td>\n",
       "    </tr>\n",
       "  </tbody>\n",
       "</table>\n",
       "</div>"
      ],
      "text/plain": [
       "                      GLM_no_offset  GLM_offset       OLS\n",
       "const                      0.476679   -3.058540 -1.377016\n",
       "months                     0.000116    0.000019  0.000351\n",
       "type_A                     0.515644   -0.422135  0.519184\n",
       "type_B                     0.481056   -1.266918 -0.233956\n",
       "type_C                    -0.623834   -1.236767 -1.040510\n",
       "type_D                    -0.173691   -0.420427 -1.816054\n",
       "type_E                     0.277504    0.287707  1.194321\n",
       "construction_1960-64      -0.502999   -1.070824 -5.814979\n",
       "construction_1965-70      -0.017770   -0.679140 -1.168822\n",
       "construction_1970-74       0.839550   -0.290216  3.283761\n",
       "construction_1975-79       0.157898   -1.018360  2.323024\n",
       "operation_1960-74         -0.125464   -1.701733 -1.161087\n",
       "operation_1975-79          0.602143   -1.356808 -0.215929"
      ]
     },
     "execution_count": 45,
     "metadata": {},
     "output_type": "execute_result"
    }
   ],
   "source": [
    "dictionary = {'GLM_offset':pois_offset_model_results.params,'GLM_no_offset': pois_no_offset_model_results.params,'OLS':ls_m_results.params}\n",
    "\n",
    "table1 = pd.DataFrame.from_dict(dictionary)\n",
    "table1"
   ]
  },
  {
   "cell_type": "markdown",
   "metadata": {},
   "source": [
    "Compare mean squared errors."
   ]
  },
  {
   "cell_type": "code",
   "execution_count": 53,
   "metadata": {
    "collapsed": false
   },
   "outputs": [
    {
     "data": {
      "text/html": [
       "<div>\n",
       "<table border=\"1\" class=\"dataframe\">\n",
       "  <thead>\n",
       "    <tr style=\"text-align: right;\">\n",
       "      <th></th>\n",
       "      <th>GLM_no_offset</th>\n",
       "      <th>GLM_offset</th>\n",
       "      <th>OLS</th>\n",
       "    </tr>\n",
       "  </thead>\n",
       "  <tbody>\n",
       "    <tr>\n",
       "      <th>MSE</th>\n",
       "      <td>4240.470053</td>\n",
       "      <td>189.567282</td>\n",
       "      <td>140438.582342</td>\n",
       "    </tr>\n",
       "  </tbody>\n",
       "</table>\n",
       "</div>"
      ],
      "text/plain": [
       "     GLM_no_offset  GLM_offset            OLS\n",
       "MSE    4240.470053  189.567282  140438.582342"
      ]
     },
     "execution_count": 53,
     "metadata": {},
     "output_type": "execute_result"
    }
   ],
   "source": [
    "dictionary = {'GLM_offset':mean_squared_error(y_test,y_hat_offset),'GLM_no_offset': mean_squared_error(y_test,y_hat_no_offset),'OLS': mean_squared_error(y_test,np.exp(log_y_hat))}\n",
    "\n",
    "table2 = pd.DataFrame(dictionary,index = ['MSE'])\n",
    "table2"
   ]
  },
  {
   "cell_type": "markdown",
   "metadata": {},
   "source": [
    "### Challenge 6"
   ]
  },
  {
   "cell_type": "code",
   "execution_count": 54,
   "metadata": {
    "collapsed": false
   },
   "outputs": [],
   "source": [
    "reader = StataReader('smoking.dta')\n",
    "df = reader.read()"
   ]
  },
  {
   "cell_type": "code",
   "execution_count": 101,
   "metadata": {
    "collapsed": false
   },
   "outputs": [
    {
     "data": {
      "text/html": [
       "<div>\n",
       "<table border=\"1\" class=\"dataframe\">\n",
       "  <thead>\n",
       "    <tr style=\"text-align: right;\">\n",
       "      <th></th>\n",
       "      <th>age</th>\n",
       "      <th>smoke</th>\n",
       "      <th>pop</th>\n",
       "      <th>dead</th>\n",
       "    </tr>\n",
       "  </thead>\n",
       "  <tbody>\n",
       "    <tr>\n",
       "      <th>0</th>\n",
       "      <td>40-44</td>\n",
       "      <td>Doesn't smoke</td>\n",
       "      <td>656.0</td>\n",
       "      <td>18.0</td>\n",
       "    </tr>\n",
       "    <tr>\n",
       "      <th>1</th>\n",
       "      <td>45-49</td>\n",
       "      <td>Doesn't smoke</td>\n",
       "      <td>359.0</td>\n",
       "      <td>22.0</td>\n",
       "    </tr>\n",
       "    <tr>\n",
       "      <th>2</th>\n",
       "      <td>50-54</td>\n",
       "      <td>Doesn't smoke</td>\n",
       "      <td>249.0</td>\n",
       "      <td>19.0</td>\n",
       "    </tr>\n",
       "    <tr>\n",
       "      <th>3</th>\n",
       "      <td>55-59</td>\n",
       "      <td>Doesn't smoke</td>\n",
       "      <td>632.0</td>\n",
       "      <td>55.0</td>\n",
       "    </tr>\n",
       "    <tr>\n",
       "      <th>4</th>\n",
       "      <td>60-64</td>\n",
       "      <td>Doesn't smoke</td>\n",
       "      <td>1067.0</td>\n",
       "      <td>117.0</td>\n",
       "    </tr>\n",
       "  </tbody>\n",
       "</table>\n",
       "</div>"
      ],
      "text/plain": [
       "     age          smoke     pop   dead\n",
       "0  40-44  Doesn't smoke   656.0   18.0\n",
       "1  45-49  Doesn't smoke   359.0   22.0\n",
       "2  50-54  Doesn't smoke   249.0   19.0\n",
       "3  55-59  Doesn't smoke   632.0   55.0\n",
       "4  60-64  Doesn't smoke  1067.0  117.0"
      ]
     },
     "execution_count": 101,
     "metadata": {},
     "output_type": "execute_result"
    }
   ],
   "source": [
    "df.head(5)"
   ]
  },
  {
   "cell_type": "code",
   "execution_count": 56,
   "metadata": {
    "collapsed": false
   },
   "outputs": [
    {
     "name": "stdout",
     "output_type": "stream",
     "text": [
      "<class 'pandas.core.frame.DataFrame'>\n",
      "Int64Index: 36 entries, 0 to 35\n",
      "Data columns (total 4 columns):\n",
      "age      36 non-null category\n",
      "smoke    36 non-null category\n",
      "pop      36 non-null float32\n",
      "dead     36 non-null float32\n",
      "dtypes: category(2), float32(2)\n",
      "memory usage: 752.0 bytes\n"
     ]
    }
   ],
   "source": [
    "df.info()"
   ]
  },
  {
   "cell_type": "code",
   "execution_count": 112,
   "metadata": {
    "collapsed": true
   },
   "outputs": [],
   "source": [
    "y = df.dead\n",
    "X = pd.get_dummies(df.iloc[:,:3])"
   ]
  },
  {
   "cell_type": "code",
   "execution_count": 119,
   "metadata": {
    "collapsed": false
   },
   "outputs": [],
   "source": [
    "x_train, x_test, y_train, y_test = train_test_split(sm.add_constant(X), y,test_size=0.15,random_state=4444)"
   ]
  },
  {
   "cell_type": "code",
   "execution_count": 120,
   "metadata": {
    "collapsed": false
   },
   "outputs": [],
   "source": [
    "pois_m = sm.GLM(y_train, x_train, family=sm.families.Poisson(sm.families.links.log), offset = np.log(x_train['pop']))\n",
    "pois_results = pois_m.fit()\n",
    "y_GLM = pois_results.predict(x_test)\n",
    "\n",
    "\n",
    "ls_m = sm.OLS(np.log(y_train + 0.0001), x_train)\n",
    "ls_results = ls_m.fit()\n",
    "y_OLS = ls_results.predict(x_test)"
   ]
  },
  {
   "cell_type": "code",
   "execution_count": 121,
   "metadata": {
    "collapsed": false
   },
   "outputs": [
    {
     "data": {
      "text/html": [
       "<div>\n",
       "<table border=\"1\" class=\"dataframe\">\n",
       "  <thead>\n",
       "    <tr style=\"text-align: right;\">\n",
       "      <th></th>\n",
       "      <th>GLM_offset</th>\n",
       "      <th>OLS</th>\n",
       "    </tr>\n",
       "  </thead>\n",
       "  <tbody>\n",
       "    <tr>\n",
       "      <th>MSE</th>\n",
       "      <td>192817.404474</td>\n",
       "      <td>71088.147661</td>\n",
       "    </tr>\n",
       "  </tbody>\n",
       "</table>\n",
       "</div>"
      ],
      "text/plain": [
       "        GLM_offset           OLS\n",
       "MSE  192817.404474  71088.147661"
      ]
     },
     "execution_count": 121,
     "metadata": {},
     "output_type": "execute_result"
    }
   ],
   "source": [
    "dictionary = {'GLM_offset':mean_squared_error(y_test,y_GLM),'OLS': mean_squared_error(y_test,np.exp(y_OLS))}\n",
    "\n",
    "table2 = pd.DataFrame(dictionary,index = ['MSE'])\n",
    "table2"
   ]
  },
  {
   "cell_type": "markdown",
   "metadata": {},
   "source": [
    "For Poisson model the offset is the population size."
   ]
  },
  {
   "cell_type": "code",
   "execution_count": null,
   "metadata": {
    "collapsed": true
   },
   "outputs": [],
   "source": []
  }
 ],
 "metadata": {
  "kernelspec": {
   "display_name": "Python 3",
   "language": "python",
   "name": "python3"
  },
  "language_info": {
   "codemirror_mode": {
    "name": "ipython",
    "version": 3
   },
   "file_extension": ".py",
   "mimetype": "text/x-python",
   "name": "python",
   "nbconvert_exporter": "python",
   "pygments_lexer": "ipython3",
   "version": "3.5.1"
  }
 },
 "nbformat": 4,
 "nbformat_minor": 0
}
