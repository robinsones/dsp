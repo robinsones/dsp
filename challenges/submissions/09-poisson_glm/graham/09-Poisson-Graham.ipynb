{
 "cells": [
  {
   "cell_type": "markdown",
   "metadata": {},
   "source": [
    "### Challenge 1:\n",
    "The months of service provides the time interval in which a ship has chances to acquire damages. It can be thought of \"exposure\", and this column can be used as an offset.\n",
    "Model the damage incident counts with a Poisson Regression."
   ]
  },
  {
   "cell_type": "code",
   "execution_count": 57,
   "metadata": {
    "collapsed": false
   },
   "outputs": [],
   "source": [
    "from statsmodels.regression.linear_model import OLSResults \n",
    "from sklearn.metrics import mean_squared_error\n",
    "from sklearn import metrics\n",
    "from sklearn.cross_validation import train_test_split\n",
    "from sklearn.metrics import mean_absolute_error, mean_squared_error\n",
    "from scipy.stats import chisqprob, chi2\n",
    "\n",
    "import numpy as np\n",
    "import statsmodels.api as sm\n",
    "from patsy import dmatrices\n",
    "from pandas.io.stata import StataReader\n"
   ]
  },
  {
   "cell_type": "code",
   "execution_count": null,
   "metadata": {
    "collapsed": true
   },
   "outputs": [],
   "source": [
    "reader = StataReader('ships.dta')\n",
    "df = reader.data()"
   ]
  },
  {
   "cell_type": "code",
   "execution_count": 10,
   "metadata": {
    "collapsed": false
   },
   "outputs": [
    {
     "data": {
      "text/html": [
       "<div>\n",
       "<table border=\"1\" class=\"dataframe\">\n",
       "  <thead>\n",
       "    <tr style=\"text-align: right;\">\n",
       "      <th></th>\n",
       "      <th>type</th>\n",
       "      <th>construction</th>\n",
       "      <th>operation</th>\n",
       "      <th>months</th>\n",
       "      <th>damage</th>\n",
       "    </tr>\n",
       "  </thead>\n",
       "  <tbody>\n",
       "    <tr>\n",
       "      <th>0</th>\n",
       "      <td>A</td>\n",
       "      <td>1960-64</td>\n",
       "      <td>1960-74</td>\n",
       "      <td>127.0</td>\n",
       "      <td>0.0</td>\n",
       "    </tr>\n",
       "    <tr>\n",
       "      <th>1</th>\n",
       "      <td>A</td>\n",
       "      <td>1960-64</td>\n",
       "      <td>1975-79</td>\n",
       "      <td>63.0</td>\n",
       "      <td>0.0</td>\n",
       "    </tr>\n",
       "    <tr>\n",
       "      <th>2</th>\n",
       "      <td>A</td>\n",
       "      <td>1965-70</td>\n",
       "      <td>1960-74</td>\n",
       "      <td>1095.0</td>\n",
       "      <td>3.0</td>\n",
       "    </tr>\n",
       "    <tr>\n",
       "      <th>3</th>\n",
       "      <td>A</td>\n",
       "      <td>1965-70</td>\n",
       "      <td>1975-79</td>\n",
       "      <td>1095.0</td>\n",
       "      <td>4.0</td>\n",
       "    </tr>\n",
       "    <tr>\n",
       "      <th>4</th>\n",
       "      <td>A</td>\n",
       "      <td>1970-74</td>\n",
       "      <td>1960-74</td>\n",
       "      <td>1512.0</td>\n",
       "      <td>6.0</td>\n",
       "    </tr>\n",
       "  </tbody>\n",
       "</table>\n",
       "</div>"
      ],
      "text/plain": [
       "  type construction operation  months  damage\n",
       "0    A      1960-64   1960-74   127.0     0.0\n",
       "1    A      1960-64   1975-79    63.0     0.0\n",
       "2    A      1965-70   1960-74  1095.0     3.0\n",
       "3    A      1965-70   1975-79  1095.0     4.0\n",
       "4    A      1970-74   1960-74  1512.0     6.0"
      ]
     },
     "execution_count": 10,
     "metadata": {},
     "output_type": "execute_result"
    }
   ],
   "source": [
    "df.head()"
   ]
  },
  {
   "cell_type": "code",
   "execution_count": 42,
   "metadata": {
    "collapsed": false
   },
   "outputs": [],
   "source": [
    "df['construction_mean'] = (df\n",
    "                           .construction.str.extract(r\"\"\"([0-9]{2})-([0-9]{2})\"\"\", expand=True)\n",
    "                           .astype(int).mean(axis=1)\n",
    "                           )\n",
    "\n",
    "\n",
    "df['operation_mean'] = df.operation.str.extract(r\"([0-9]{2})-([0-9]{2})\", expand=True).astype(int).mean(axis=1)\n",
    "\n"
   ]
  },
  {
   "cell_type": "code",
   "execution_count": 43,
   "metadata": {
    "collapsed": false
   },
   "outputs": [
    {
     "data": {
      "text/html": [
       "<div>\n",
       "<table border=\"1\" class=\"dataframe\">\n",
       "  <thead>\n",
       "    <tr style=\"text-align: right;\">\n",
       "      <th></th>\n",
       "      <th>type</th>\n",
       "      <th>construction</th>\n",
       "      <th>operation</th>\n",
       "      <th>months</th>\n",
       "      <th>damage</th>\n",
       "      <th>construction_mean</th>\n",
       "      <th>operation_mean</th>\n",
       "    </tr>\n",
       "  </thead>\n",
       "  <tbody>\n",
       "    <tr>\n",
       "      <th>0</th>\n",
       "      <td>A</td>\n",
       "      <td>1960-64</td>\n",
       "      <td>1960-74</td>\n",
       "      <td>127.0</td>\n",
       "      <td>0.0</td>\n",
       "      <td>62.0</td>\n",
       "      <td>67.0</td>\n",
       "    </tr>\n",
       "    <tr>\n",
       "      <th>1</th>\n",
       "      <td>A</td>\n",
       "      <td>1960-64</td>\n",
       "      <td>1975-79</td>\n",
       "      <td>63.0</td>\n",
       "      <td>0.0</td>\n",
       "      <td>62.0</td>\n",
       "      <td>77.0</td>\n",
       "    </tr>\n",
       "    <tr>\n",
       "      <th>2</th>\n",
       "      <td>A</td>\n",
       "      <td>1965-70</td>\n",
       "      <td>1960-74</td>\n",
       "      <td>1095.0</td>\n",
       "      <td>3.0</td>\n",
       "      <td>67.5</td>\n",
       "      <td>67.0</td>\n",
       "    </tr>\n",
       "    <tr>\n",
       "      <th>3</th>\n",
       "      <td>A</td>\n",
       "      <td>1965-70</td>\n",
       "      <td>1975-79</td>\n",
       "      <td>1095.0</td>\n",
       "      <td>4.0</td>\n",
       "      <td>67.5</td>\n",
       "      <td>77.0</td>\n",
       "    </tr>\n",
       "    <tr>\n",
       "      <th>4</th>\n",
       "      <td>A</td>\n",
       "      <td>1970-74</td>\n",
       "      <td>1960-74</td>\n",
       "      <td>1512.0</td>\n",
       "      <td>6.0</td>\n",
       "      <td>72.0</td>\n",
       "      <td>67.0</td>\n",
       "    </tr>\n",
       "  </tbody>\n",
       "</table>\n",
       "</div>"
      ],
      "text/plain": [
       "  type construction operation  months  damage  construction_mean  \\\n",
       "0    A      1960-64   1960-74   127.0     0.0               62.0   \n",
       "1    A      1960-64   1975-79    63.0     0.0               62.0   \n",
       "2    A      1965-70   1960-74  1095.0     3.0               67.5   \n",
       "3    A      1965-70   1975-79  1095.0     4.0               67.5   \n",
       "4    A      1970-74   1960-74  1512.0     6.0               72.0   \n",
       "\n",
       "   operation_mean  \n",
       "0            67.0  \n",
       "1            77.0  \n",
       "2            67.0  \n",
       "3            77.0  \n",
       "4            67.0  "
      ]
     },
     "execution_count": 43,
     "metadata": {},
     "output_type": "execute_result"
    }
   ],
   "source": [
    "df.head()"
   ]
  },
  {
   "cell_type": "code",
   "execution_count": 44,
   "metadata": {
    "collapsed": false
   },
   "outputs": [
    {
     "name": "stdout",
     "output_type": "stream",
     "text": [
      "                 Generalized Linear Model Regression Results                  \n",
      "==============================================================================\n",
      "Dep. Variable:                 damage   No. Observations:                   34\n",
      "Model:                            GLM   Df Residuals:                       26\n",
      "Model Family:                 Poisson   Df Model:                            7\n",
      "Link Function:                    log   Scale:                             1.0\n",
      "Method:                          IRLS   Log-Likelihood:                -108.37\n",
      "Date:                Tue, 09 Aug 2016   Deviance:                       118.88\n",
      "Time:                        16:26:30   Pearson chi2:                     112.\n",
      "No. Iterations:                     9                                         \n",
      "=====================================================================================\n",
      "                        coef    std err          z      P>|z|      [95.0% Conf. Int.]\n",
      "-------------------------------------------------------------------------------------\n",
      "Intercept            -6.2302      1.426     -4.370      0.000        -9.025    -3.436\n",
      "type[T.B]             0.9475      0.206      4.598      0.000         0.544     1.351\n",
      "type[T.C]            -1.2102      0.327     -3.696      0.000        -1.852    -0.568\n",
      "type[T.D]            -0.8642      0.288     -3.006      0.003        -1.428    -0.301\n",
      "type[T.E]            -0.1139      0.235     -0.485      0.628        -0.575     0.347\n",
      "construction_mean     0.0564      0.014      4.017      0.000         0.029     0.084\n",
      "operation_mean        0.0546      0.014      3.934      0.000         0.027     0.082\n",
      "months              4.89e-05   7.11e-06      6.875      0.000       3.5e-05  6.28e-05\n",
      "=====================================================================================\n"
     ]
    }
   ],
   "source": [
    "y, X = dmatrices('damage ~ type + construction_mean + operation_mean + months ', data=df, return_type='dataframe')\n",
    " \n",
    "\n",
    "pois_m=sm.GLM(y,X, family=sm.families.Poisson(sm.families.links.log))\n",
    "# Fitting our model using Maximum likelihood\n",
    "pois_results=pois_m.fit()\n",
    "\n",
    "print(pois_results.summary())"
   ]
  },
  {
   "cell_type": "markdown",
   "metadata": {},
   "source": [
    "## Answer\n",
    "> Chsq is 112"
   ]
  },
  {
   "cell_type": "markdown",
   "metadata": {},
   "source": [
    "## Challenge 2: \n",
    "The months of service provides the time interval in which a ship has chances to acquire damages. It can be thought of \"exposure\", and this column can be used as an offset.\n",
    "Try your model with months of service as the offset. Does it perform better?"
   ]
  },
  {
   "cell_type": "code",
   "execution_count": 46,
   "metadata": {
    "collapsed": false,
    "scrolled": true
   },
   "outputs": [
    {
     "name": "stdout",
     "output_type": "stream",
     "text": [
      "                 Generalized Linear Model Regression Results                  \n",
      "==============================================================================\n",
      "Dep. Variable:                 damage   No. Observations:                   34\n",
      "Model:                            GLM   Df Residuals:                       27\n",
      "Model Family:                 Poisson   Df Model:                            6\n",
      "Link Function:                    log   Scale:                             1.0\n",
      "Method:                          IRLS   Log-Likelihood:                -78.076\n",
      "Date:                Tue, 09 Aug 2016   Deviance:                       58.286\n",
      "Time:                        16:27:04   Pearson chi2:                     64.6\n",
      "No. Iterations:                     9                                         \n",
      "=====================================================================================\n",
      "                        coef    std err          z      P>|z|      [95.0% Conf. Int.]\n",
      "-------------------------------------------------------------------------------------\n",
      "Intercept           -11.2451      1.031    -10.911      0.000       -13.265    -9.225\n",
      "type[T.B]            -0.5397      0.178     -3.031      0.002        -0.889    -0.191\n",
      "type[T.C]            -0.6270      0.329     -1.903      0.057        -1.273     0.019\n",
      "type[T.D]            -0.2328      0.288     -0.809      0.419        -0.797     0.332\n",
      "type[T.E]             0.4071      0.235      1.733      0.083        -0.053     0.868\n",
      "construction_mean     0.0445      0.013      3.450      0.001         0.019     0.070\n",
      "operation_mean        0.0349      0.012      2.880      0.004         0.011     0.059\n",
      "=====================================================================================\n"
     ]
    }
   ],
   "source": [
    "y,X = dmatrices('damage ~ type + construction_mean + operation_mean', data=df, return_type='dataframe')\n",
    "logmonths = np.log(df.months)\n",
    "p_glm_offset = sm.GLM(y, X, offset=logmonths, family=sm.families.Poisson()).fit()\n",
    "\n",
    "print(p_glm_offset.summary())"
   ]
  },
  {
   "cell_type": "markdown",
   "metadata": {},
   "source": [
    "### Question: Did it perform better\n",
    ">> Chi2 of 64.6 is way better than 112."
   ]
  },
  {
   "cell_type": "markdown",
   "metadata": {},
   "source": [
    "### Challenge 3\n",
    "Now separate your data (even though it's only 14 rows) into a training and test set (your test will only be 4 or 5 rows), and check if you predict well (you can look at mean absolute error or mean squared error using sklearn.metrics)."
   ]
  },
  {
   "cell_type": "code",
   "execution_count": 56,
   "metadata": {
    "collapsed": false
   },
   "outputs": [
    {
     "data": {
      "text/plain": [
       "(25, 9)"
      ]
     },
     "execution_count": 56,
     "metadata": {},
     "output_type": "execute_result"
    }
   ],
   "source": [
    "train, test = train_test_split(df, test_size= .25, random_state=4444)\n",
    "\n",
    "y_train, X_train = dmatrices(\"damage ~ type + construction_mean + operation_mean\", \n",
    "                             data=train, return_type='dataframe')\n",
    "\n",
    "y_test,  X_test =  dmatrices(\"damage ~ type + construction_mean + operation_mean\", \n",
    "                             data=test, return_type='dataframe')\n",
    "\n",
    "\n",
    "poisson_model3 = sm.GLM(y_train, X_train, \n",
    "                        offset = np.log(train['months']),\n",
    "                        family = sm.families.Poisson()).fit()\n",
    "\n",
    "len(train), len(test)\n"
   ]
  },
  {
   "cell_type": "code",
   "execution_count": 59,
   "metadata": {
    "collapsed": false
   },
   "outputs": [
    {
     "data": {
      "text/plain": [
       "5.4412987707392837"
      ]
     },
     "execution_count": 59,
     "metadata": {},
     "output_type": "execute_result"
    }
   ],
   "source": [
    "y_pred = poisson_model3.predict(X_test)\n",
    "mean_absolute_error(y_test, y_pred)\n"
   ]
  },
  {
   "cell_type": "code",
   "execution_count": 60,
   "metadata": {
    "collapsed": false
   },
   "outputs": [
    {
     "data": {
      "text/plain": [
       "62.280577572572106"
      ]
     },
     "execution_count": 60,
     "metadata": {},
     "output_type": "execute_result"
    }
   ],
   "source": [
    "mean_squared_error(y_test, y_pred)"
   ]
  },
  {
   "cell_type": "markdown",
   "metadata": {},
   "source": [
    "### Challenge 4\n",
    "Deviance. Compute the difference in Deviance statistics for your model and the null model. This is called the null deviance. You can do this in one of 2 ways:\n",
    "We need the deviance for the null model (a model where none of the explanatory variables are used; it's just a model with a mean guess). To do that, fit a poisson regression with only a constant. Get the deviance for this null model. Take the difference of deviances between your model and this null model.\n",
    "Use statsmodels.genmod.generalized_linear_model.GLMResults Check if this difference is extreme enough that we can reject the null hypothesis. If we can't reject the null hypothesis, we cannot say that this model tells us more than that trivial, null model. To calculate the p-value (prob. of getting a deviance difference at least as extreme as this under the null hypothesis), we need to do a hypothesis test.\n",
    "Is your model better than the null model?"
   ]
  },
  {
   "cell_type": "code",
   "execution_count": 61,
   "metadata": {
    "collapsed": true
   },
   "outputs": [],
   "source": [
    "y_train, X_train = dmatrices(\"damage ~ 1\", \n",
    "                             data=train, return_type='dataframe')\n",
    "\n",
    "y_test,  X_test  = dmatrices(\"damage ~ 1\", \n",
    "                             data=test, return_type='dataframe')\n",
    "\n",
    "poisson_model_null = sm.GLM(y_train, X_train, \n",
    "                            #offset=np.log(train.months),\n",
    "                            family=sm.families.Poisson())"
   ]
  },
  {
   "cell_type": "code",
   "execution_count": 73,
   "metadata": {
    "collapsed": false
   },
   "outputs": [
    {
     "data": {
      "text/html": [
       "<table class=\"simpletable\">\n",
       "<caption>Generalized Linear Model Regression Results</caption>\n",
       "<tr>\n",
       "  <th>Dep. Variable:</th>       <td>damage</td>      <th>  No. Observations:  </th>  <td>    25</td> \n",
       "</tr>\n",
       "<tr>\n",
       "  <th>Model:</th>                 <td>GLM</td>       <th>  Df Residuals:      </th>  <td>    24</td> \n",
       "</tr>\n",
       "<tr>\n",
       "  <th>Model Family:</th>        <td>Poisson</td>     <th>  Df Model:          </th>  <td>     0</td> \n",
       "</tr>\n",
       "<tr>\n",
       "  <th>Link Function:</th>         <td>log</td>       <th>  Scale:             </th>    <td>1.0</td>  \n",
       "</tr>\n",
       "<tr>\n",
       "  <th>Method:</th>               <td>IRLS</td>       <th>  Log-Likelihood:    </th> <td> -300.47</td>\n",
       "</tr>\n",
       "<tr>\n",
       "  <th>Date:</th>           <td>Tue, 09 Aug 2016</td> <th>  Deviance:          </th> <td>  528.71</td>\n",
       "</tr>\n",
       "<tr>\n",
       "  <th>Time:</th>               <td>16:58:06</td>     <th>  Pearson chi2:      </th>  <td>  616.</td> \n",
       "</tr>\n",
       "<tr>\n",
       "  <th>No. Iterations:</th>         <td>8</td>        <th>                     </th>     <td> </td>   \n",
       "</tr>\n",
       "</table>\n",
       "<table class=\"simpletable\">\n",
       "<tr>\n",
       "      <td></td>         <th>coef</th>     <th>std err</th>      <th>z</th>      <th>P>|z|</th> <th>[95.0% Conf. Int.]</th> \n",
       "</tr>\n",
       "<tr>\n",
       "  <th>Intercept</th> <td>    2.5080</td> <td>    0.057</td> <td>   43.943</td> <td> 0.000</td> <td>    2.396     2.620</td>\n",
       "</tr>\n",
       "</table>"
      ],
      "text/plain": [
       "<class 'statsmodels.iolib.summary.Summary'>\n",
       "\"\"\"\n",
       "                 Generalized Linear Model Regression Results                  \n",
       "==============================================================================\n",
       "Dep. Variable:                 damage   No. Observations:                   25\n",
       "Model:                            GLM   Df Residuals:                       24\n",
       "Model Family:                 Poisson   Df Model:                            0\n",
       "Link Function:                    log   Scale:                             1.0\n",
       "Method:                          IRLS   Log-Likelihood:                -300.47\n",
       "Date:                Tue, 09 Aug 2016   Deviance:                       528.71\n",
       "Time:                        16:58:06   Pearson chi2:                     616.\n",
       "No. Iterations:                     8                                         \n",
       "==============================================================================\n",
       "                 coef    std err          z      P>|z|      [95.0% Conf. Int.]\n",
       "------------------------------------------------------------------------------\n",
       "Intercept      2.5080      0.057     43.943      0.000         2.396     2.620\n",
       "==============================================================================\n",
       "\"\"\""
      ]
     },
     "execution_count": 73,
     "metadata": {},
     "output_type": "execute_result"
    }
   ],
   "source": [
    "poisson_model_null.fit().summary()"
   ]
  },
  {
   "cell_type": "markdown",
   "metadata": {},
   "source": [
    "### Challenge 5\n",
    "Now, instead of a poisson regression, do an ordinary least squares regression with log Y. Compare the models. Are the coefficients close? Do they perform similarly?"
   ]
  },
  {
   "cell_type": "code",
   "execution_count": 76,
   "metadata": {
    "collapsed": false
   },
   "outputs": [],
   "source": [
    "y_train, X_train = dmatrices('np.log(damage+0.1) ~ type + construction_mean + operation_mean',\n",
    "                            data=train, return_type='dataframe')\n",
    "\n",
    "y_test, X_test = dmatrices('np.log(damage + 0.1) ~ type + construction_mean + operation_mean',\n",
    "                            data=test, return_type='dataframe')\n",
    "\n",
    "linear_model = sm.OLS(y_train, X_train).fit()\n"
   ]
  },
  {
   "cell_type": "code",
   "execution_count": 79,
   "metadata": {
    "collapsed": false
   },
   "outputs": [
    {
     "data": {
      "text/html": [
       "<table class=\"simpletable\">\n",
       "<caption>OLS Regression Results</caption>\n",
       "<tr>\n",
       "  <th>Dep. Variable:</th>    <td>np.log(damage + 0.1)</td> <th>  R-squared:         </th> <td>   0.715</td>\n",
       "</tr>\n",
       "<tr>\n",
       "  <th>Model:</th>                     <td>OLS</td>         <th>  Adj. R-squared:    </th> <td>   0.620</td>\n",
       "</tr>\n",
       "<tr>\n",
       "  <th>Method:</th>               <td>Least Squares</td>    <th>  F-statistic:       </th> <td>   7.539</td>\n",
       "</tr>\n",
       "<tr>\n",
       "  <th>Date:</th>               <td>Tue, 09 Aug 2016</td>   <th>  Prob (F-statistic):</th> <td>0.000374</td>\n",
       "</tr>\n",
       "<tr>\n",
       "  <th>Time:</th>                   <td>17:00:58</td>       <th>  Log-Likelihood:    </th> <td> -40.262</td>\n",
       "</tr>\n",
       "<tr>\n",
       "  <th>No. Observations:</th>        <td>    25</td>        <th>  AIC:               </th> <td>   94.52</td>\n",
       "</tr>\n",
       "<tr>\n",
       "  <th>Df Residuals:</th>            <td>    18</td>        <th>  BIC:               </th> <td>   103.1</td>\n",
       "</tr>\n",
       "<tr>\n",
       "  <th>Df Model:</th>                <td>     6</td>        <th>                     </th>     <td> </td>   \n",
       "</tr>\n",
       "<tr>\n",
       "  <th>Covariance Type:</th>        <td>nonrobust</td>      <th>                     </th>     <td> </td>   \n",
       "</tr>\n",
       "</table>\n",
       "<table class=\"simpletable\">\n",
       "<tr>\n",
       "          <td></td>             <th>coef</th>     <th>std err</th>      <th>t</th>      <th>P>|t|</th> <th>[95.0% Conf. Int.]</th> \n",
       "</tr>\n",
       "<tr>\n",
       "  <th>Intercept</th>         <td>  -15.0671</td> <td>    5.175</td> <td>   -2.912</td> <td> 0.009</td> <td>  -25.939    -4.195</td>\n",
       "</tr>\n",
       "<tr>\n",
       "  <th>type[T.B]</th>         <td>    3.3320</td> <td>    0.830</td> <td>    4.016</td> <td> 0.001</td> <td>    1.589     5.075</td>\n",
       "</tr>\n",
       "<tr>\n",
       "  <th>type[T.C]</th>         <td>   -0.7603</td> <td>    0.923</td> <td>   -0.823</td> <td> 0.421</td> <td>   -2.700     1.179</td>\n",
       "</tr>\n",
       "<tr>\n",
       "  <th>type[T.D]</th>         <td>   -0.9786</td> <td>    0.830</td> <td>   -1.179</td> <td> 0.254</td> <td>   -2.723     0.766</td>\n",
       "</tr>\n",
       "<tr>\n",
       "  <th>type[T.E]</th>         <td>   -0.7275</td> <td>    1.014</td> <td>   -0.717</td> <td> 0.482</td> <td>   -2.859     1.404</td>\n",
       "</tr>\n",
       "<tr>\n",
       "  <th>construction_mean</th> <td>    0.2399</td> <td>    0.061</td> <td>    3.957</td> <td> 0.001</td> <td>    0.113     0.367</td>\n",
       "</tr>\n",
       "<tr>\n",
       "  <th>operation_mean</th>    <td>   -0.0113</td> <td>    0.061</td> <td>   -0.187</td> <td> 0.854</td> <td>   -0.139     0.116</td>\n",
       "</tr>\n",
       "</table>\n",
       "<table class=\"simpletable\">\n",
       "<tr>\n",
       "  <th>Omnibus:</th>       <td> 0.538</td> <th>  Durbin-Watson:     </th> <td>   1.833</td>\n",
       "</tr>\n",
       "<tr>\n",
       "  <th>Prob(Omnibus):</th> <td> 0.764</td> <th>  Jarque-Bera (JB):  </th> <td>   0.602</td>\n",
       "</tr>\n",
       "<tr>\n",
       "  <th>Skew:</th>          <td>-0.046</td> <th>  Prob(JB):          </th> <td>   0.740</td>\n",
       "</tr>\n",
       "<tr>\n",
       "  <th>Kurtosis:</th>      <td> 2.245</td> <th>  Cond. No.          </th> <td>1.81e+03</td>\n",
       "</tr>\n",
       "</table>"
      ],
      "text/plain": [
       "<class 'statsmodels.iolib.summary.Summary'>\n",
       "\"\"\"\n",
       "                             OLS Regression Results                             \n",
       "================================================================================\n",
       "Dep. Variable:     np.log(damage + 0.1)   R-squared:                       0.715\n",
       "Model:                              OLS   Adj. R-squared:                  0.620\n",
       "Method:                   Least Squares   F-statistic:                     7.539\n",
       "Date:                  Tue, 09 Aug 2016   Prob (F-statistic):           0.000374\n",
       "Time:                          17:00:58   Log-Likelihood:                -40.262\n",
       "No. Observations:                    25   AIC:                             94.52\n",
       "Df Residuals:                        18   BIC:                             103.1\n",
       "Df Model:                             6                                         \n",
       "Covariance Type:              nonrobust                                         \n",
       "=====================================================================================\n",
       "                        coef    std err          t      P>|t|      [95.0% Conf. Int.]\n",
       "-------------------------------------------------------------------------------------\n",
       "Intercept           -15.0671      5.175     -2.912      0.009       -25.939    -4.195\n",
       "type[T.B]             3.3320      0.830      4.016      0.001         1.589     5.075\n",
       "type[T.C]            -0.7603      0.923     -0.823      0.421        -2.700     1.179\n",
       "type[T.D]            -0.9786      0.830     -1.179      0.254        -2.723     0.766\n",
       "type[T.E]            -0.7275      1.014     -0.717      0.482        -2.859     1.404\n",
       "construction_mean     0.2399      0.061      3.957      0.001         0.113     0.367\n",
       "operation_mean       -0.0113      0.061     -0.187      0.854        -0.139     0.116\n",
       "==============================================================================\n",
       "Omnibus:                        0.538   Durbin-Watson:                   1.833\n",
       "Prob(Omnibus):                  0.764   Jarque-Bera (JB):                0.602\n",
       "Skew:                          -0.046   Prob(JB):                        0.740\n",
       "Kurtosis:                       2.245   Cond. No.                     1.81e+03\n",
       "==============================================================================\n",
       "\n",
       "Warnings:\n",
       "[1] Standard Errors assume that the covariance matrix of the errors is correctly specified.\n",
       "[2] The condition number is large, 1.81e+03. This might indicate that there are\n",
       "strong multicollinearity or other numerical problems.\n",
       "\"\"\""
      ]
     },
     "execution_count": 79,
     "metadata": {},
     "output_type": "execute_result"
    }
   ],
   "source": [
    "linear_model.summary()"
   ]
  }
 ],
 "metadata": {
  "kernelspec": {
   "display_name": "Python 3",
   "language": "python",
   "name": "python3"
  },
  "language_info": {
   "codemirror_mode": {
    "name": "ipython",
    "version": 3
   },
   "file_extension": ".py",
   "mimetype": "text/x-python",
   "name": "python",
   "nbconvert_exporter": "python",
   "pygments_lexer": "ipython3",
   "version": "3.5.2"
  }
 },
 "nbformat": 4,
 "nbformat_minor": 0
}
