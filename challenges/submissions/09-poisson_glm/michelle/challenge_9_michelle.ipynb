{
 "cells": [
  {
   "cell_type": "markdown",
   "metadata": {
    "run_control": {
     "marked": true
    }
   },
   "source": [
    "# Challenge 9: Poisson-GLM Challenges\n",
    "\n",
    "| Title        | Answer                     |\n",
    "| :---------- | :------------------------ |\n",
    "| Topic:       | Poisson-GLM Challenges | \n",
    "| Date:        | 2016/08/06                 |\n",
    "| Name:        | Michelle L. Gill           |\n",
    "| Worked with: | None                       | \n",
    "\n",
    "\n"
   ]
  },
  {
   "cell_type": "code",
   "execution_count": 38,
   "metadata": {
    "ExecuteTime": {
     "end_time": "2016-08-08T17:23:33.054262",
     "start_time": "2016-08-08T17:23:33.044457"
    },
    "collapsed": false,
    "run_control": {
     "marked": true
    }
   },
   "outputs": [],
   "source": [
    "import pandas as pd\n",
    "import numpy as np\n",
    "\n",
    "from pandas.io.stata import StataReader\n",
    "from patsy import dmatrices\n",
    "import statsmodels.api as sm\n",
    "import statsmodels.formula.api as smf\n",
    "\n",
    "from sklearn.cross_validation import train_test_split, StratifiedKFold\n",
    "from sklearn.metrics import mean_absolute_error, mean_squared_error\n",
    "\n",
    "from scipy.stats import chisqprob, chi2"
   ]
  },
  {
   "cell_type": "markdown",
   "metadata": {
    "run_control": {
     "marked": true
    }
   },
   "source": [
    "## Question 1\n",
    "\n",
    "Model the damage incident counts with a Poisson Regression.\n",
    "\n",
    "Hint: You can look at the previous ipython notebook with the logistic GLM example to see how you can do GLM with statsmodels\n",
    "Remember that you will have to create dummy variables for categorical variables, and if you have time bins (like \"1960-1964\"), you have the option of either a) treating each bin as a category (and create dummies for each bin), or b) treat it as a continuous variable and take the mid-value (1962). Also remember to add a constant (to model the intercept).\n",
    "\n",
    "Take a look at the statsmodels summary table, the goodness of fit indicators (Deviance, Pearson's chi square statistic) and the coefficients. Is this a good model?"
   ]
  },
  {
   "cell_type": "code",
   "execution_count": 20,
   "metadata": {
    "ExecuteTime": {
     "end_time": "2016-08-08T17:12:55.813298",
     "start_time": "2016-08-08T17:12:55.197423"
    },
    "collapsed": false
   },
   "outputs": [
    {
     "name": "stdout",
     "output_type": "stream",
     "text": [
      "  % Total    % Received % Xferd  Average Speed   Time    Time     Time  Current\r\n",
      "                                 Dload  Upload   Total   Spent    Left  Speed\r\n",
      "\r",
      "  0     0    0     0    0     0      0      0 --:--:-- --:--:-- --:--:--     0\r",
      "100  2324  100  2324    0     0   5504      0 --:--:-- --:--:-- --:--:--  103k\r\n"
     ]
    },
    {
     "data": {
      "text/html": [
       "<div>\n",
       "<table border=\"1\" class=\"dataframe\">\n",
       "  <thead>\n",
       "    <tr style=\"text-align: right;\">\n",
       "      <th></th>\n",
       "      <th>type</th>\n",
       "      <th>construction</th>\n",
       "      <th>operation</th>\n",
       "      <th>months</th>\n",
       "      <th>damage</th>\n",
       "    </tr>\n",
       "  </thead>\n",
       "  <tbody>\n",
       "    <tr>\n",
       "      <th>0</th>\n",
       "      <td>A</td>\n",
       "      <td>1960-64</td>\n",
       "      <td>1960-74</td>\n",
       "      <td>127.0</td>\n",
       "      <td>0.0</td>\n",
       "    </tr>\n",
       "  </tbody>\n",
       "</table>\n",
       "</div>"
      ],
      "text/plain": [
       "  type construction operation  months  damage\n",
       "0    A      1960-64   1960-74   127.0     0.0"
      ]
     },
     "execution_count": 20,
     "metadata": {},
     "output_type": "execute_result"
    }
   ],
   "source": [
    "! curl http://data.princeton.edu/wws509/datasets/ships.dta -o ships.dta\n",
    "ships = StataReader('ships.dta').read()\n",
    "ships.head(1)"
   ]
  },
  {
   "cell_type": "code",
   "execution_count": 25,
   "metadata": {
    "ExecuteTime": {
     "end_time": "2016-08-08T17:15:49.757801",
     "start_time": "2016-08-08T17:15:49.742206"
    },
    "collapsed": false
   },
   "outputs": [],
   "source": [
    "# Convert date ranges to means\n",
    "ships['construction_mean'] = (ships\n",
    "                              .construction\n",
    "                              .str.extract(r\"\"\"([0-9]{2})-([0-9]{2})\"\"\", expand=True)\n",
    "                              .astype(int)\n",
    "                              .mean(axis=1))\n",
    "\n",
    "ships['operation_mean'] = (ships\n",
    "                              .operation\n",
    "                              .str.extract(r\"\"\"([0-9]{2})-([0-9]{2})\"\"\", expand=True)\n",
    "                              .astype(int)\n",
    "                              .mean(axis=1))"
   ]
  },
  {
   "cell_type": "code",
   "execution_count": 26,
   "metadata": {
    "ExecuteTime": {
     "end_time": "2016-08-08T17:15:50.020272",
     "start_time": "2016-08-08T17:15:49.966923"
    },
    "collapsed": false
   },
   "outputs": [
    {
     "data": {
      "text/html": [
       "<table class=\"simpletable\">\n",
       "<caption>Generalized Linear Model Regression Results</caption>\n",
       "<tr>\n",
       "  <th>Dep. Variable:</th>       <td>damage</td>      <th>  No. Observations:  </th>  <td>    34</td> \n",
       "</tr>\n",
       "<tr>\n",
       "  <th>Model:</th>                 <td>GLM</td>       <th>  Df Residuals:      </th>  <td>    26</td> \n",
       "</tr>\n",
       "<tr>\n",
       "  <th>Model Family:</th>        <td>Poisson</td>     <th>  Df Model:          </th>  <td>     7</td> \n",
       "</tr>\n",
       "<tr>\n",
       "  <th>Link Function:</th>         <td>log</td>       <th>  Scale:             </th>    <td>1.0</td>  \n",
       "</tr>\n",
       "<tr>\n",
       "  <th>Method:</th>               <td>IRLS</td>       <th>  Log-Likelihood:    </th> <td> -108.37</td>\n",
       "</tr>\n",
       "<tr>\n",
       "  <th>Date:</th>           <td>Mon, 08 Aug 2016</td> <th>  Deviance:          </th> <td>  118.88</td>\n",
       "</tr>\n",
       "<tr>\n",
       "  <th>Time:</th>               <td>17:15:50</td>     <th>  Pearson chi2:      </th>  <td>  112.</td> \n",
       "</tr>\n",
       "<tr>\n",
       "  <th>No. Iterations:</th>         <td>9</td>        <th>                     </th>     <td> </td>   \n",
       "</tr>\n",
       "</table>\n",
       "<table class=\"simpletable\">\n",
       "<tr>\n",
       "          <td></td>             <th>coef</th>     <th>std err</th>      <th>z</th>      <th>P>|z|</th> <th>[95.0% Conf. Int.]</th> \n",
       "</tr>\n",
       "<tr>\n",
       "  <th>Intercept</th>         <td>   -6.2302</td> <td>    1.426</td> <td>   -4.370</td> <td> 0.000</td> <td>   -9.025    -3.436</td>\n",
       "</tr>\n",
       "<tr>\n",
       "  <th>type[T.B]</th>         <td>    0.9475</td> <td>    0.206</td> <td>    4.598</td> <td> 0.000</td> <td>    0.544     1.351</td>\n",
       "</tr>\n",
       "<tr>\n",
       "  <th>type[T.C]</th>         <td>   -1.2102</td> <td>    0.327</td> <td>   -3.696</td> <td> 0.000</td> <td>   -1.852    -0.568</td>\n",
       "</tr>\n",
       "<tr>\n",
       "  <th>type[T.D]</th>         <td>   -0.8642</td> <td>    0.288</td> <td>   -3.006</td> <td> 0.003</td> <td>   -1.428    -0.301</td>\n",
       "</tr>\n",
       "<tr>\n",
       "  <th>type[T.E]</th>         <td>   -0.1139</td> <td>    0.235</td> <td>   -0.485</td> <td> 0.628</td> <td>   -0.575     0.347</td>\n",
       "</tr>\n",
       "<tr>\n",
       "  <th>construction_mean</th> <td>    0.0564</td> <td>    0.014</td> <td>    4.017</td> <td> 0.000</td> <td>    0.029     0.084</td>\n",
       "</tr>\n",
       "<tr>\n",
       "  <th>operation_mean</th>    <td>    0.0546</td> <td>    0.014</td> <td>    3.934</td> <td> 0.000</td> <td>    0.027     0.082</td>\n",
       "</tr>\n",
       "<tr>\n",
       "  <th>months</th>            <td>  4.89e-05</td> <td> 7.11e-06</td> <td>    6.875</td> <td> 0.000</td> <td>  3.5e-05  6.28e-05</td>\n",
       "</tr>\n",
       "</table>"
      ],
      "text/plain": [
       "<class 'statsmodels.iolib.summary.Summary'>\n",
       "\"\"\"\n",
       "                 Generalized Linear Model Regression Results                  \n",
       "==============================================================================\n",
       "Dep. Variable:                 damage   No. Observations:                   34\n",
       "Model:                            GLM   Df Residuals:                       26\n",
       "Model Family:                 Poisson   Df Model:                            7\n",
       "Link Function:                    log   Scale:                             1.0\n",
       "Method:                          IRLS   Log-Likelihood:                -108.37\n",
       "Date:                Mon, 08 Aug 2016   Deviance:                       118.88\n",
       "Time:                        17:15:50   Pearson chi2:                     112.\n",
       "No. Iterations:                     9                                         \n",
       "=====================================================================================\n",
       "                        coef    std err          z      P>|z|      [95.0% Conf. Int.]\n",
       "-------------------------------------------------------------------------------------\n",
       "Intercept            -6.2302      1.426     -4.370      0.000        -9.025    -3.436\n",
       "type[T.B]             0.9475      0.206      4.598      0.000         0.544     1.351\n",
       "type[T.C]            -1.2102      0.327     -3.696      0.000        -1.852    -0.568\n",
       "type[T.D]            -0.8642      0.288     -3.006      0.003        -1.428    -0.301\n",
       "type[T.E]            -0.1139      0.235     -0.485      0.628        -0.575     0.347\n",
       "construction_mean     0.0564      0.014      4.017      0.000         0.029     0.084\n",
       "operation_mean        0.0546      0.014      3.934      0.000         0.027     0.082\n",
       "months              4.89e-05   7.11e-06      6.875      0.000       3.5e-05  6.28e-05\n",
       "=====================================================================================\n",
       "\"\"\""
      ]
     },
     "execution_count": 26,
     "metadata": {},
     "output_type": "execute_result"
    }
   ],
   "source": [
    "Y, X = dmatrices(\"damage ~ type + construction_mean + operation_mean + months\", \n",
    "                 data=ships, return_type='dataframe')\n",
    "\n",
    "poisson_model1 = sm.GLM(Y, X, family=sm.families.Poisson())\n",
    "\n",
    "poisson_model1.fit().summary()"
   ]
  },
  {
   "cell_type": "markdown",
   "metadata": {},
   "source": [
    "Based on coefficient ranges and fit parameters, this does not appear to be a good model.\n",
    "\n",
    "## Question 2\n",
    "\n",
    "The months of service provides the time interval in which a ship has chances to acquire damages. It can be thought of \"exposure\", and this column can be used as an offset.\n",
    "\n",
    "You can check these two resources for a quick idea on exposure and using an offset:\n",
    "\n",
    "* Offset in Wikipedia\n",
    "* When to use an offset in CrossValidated (StackOverflow for statistics)\n",
    "\n",
    "Try your model with months of service as the offset. Does it perform better?"
   ]
  },
  {
   "cell_type": "code",
   "execution_count": 27,
   "metadata": {
    "ExecuteTime": {
     "end_time": "2016-08-08T17:15:51.087350",
     "start_time": "2016-08-08T17:15:51.068127"
    },
    "collapsed": false
   },
   "outputs": [],
   "source": [
    "Y, X = dmatrices(\"damage ~ type + construction_mean + operation_mean\", \n",
    "                 data=ships, return_type='dataframe')\n",
    "\n",
    "poisson_model2 = sm.GLM(Y, X, \n",
    "                        offset=np.log(ships.months),\n",
    "                        family=sm.families.Poisson())"
   ]
  },
  {
   "cell_type": "code",
   "execution_count": 28,
   "metadata": {
    "ExecuteTime": {
     "end_time": "2016-08-08T17:15:51.703283",
     "start_time": "2016-08-08T17:15:51.670191"
    },
    "collapsed": false
   },
   "outputs": [
    {
     "data": {
      "text/html": [
       "<table class=\"simpletable\">\n",
       "<caption>Generalized Linear Model Regression Results</caption>\n",
       "<tr>\n",
       "  <th>Dep. Variable:</th>       <td>damage</td>      <th>  No. Observations:  </th>  <td>    34</td> \n",
       "</tr>\n",
       "<tr>\n",
       "  <th>Model:</th>                 <td>GLM</td>       <th>  Df Residuals:      </th>  <td>    27</td> \n",
       "</tr>\n",
       "<tr>\n",
       "  <th>Model Family:</th>        <td>Poisson</td>     <th>  Df Model:          </th>  <td>     6</td> \n",
       "</tr>\n",
       "<tr>\n",
       "  <th>Link Function:</th>         <td>log</td>       <th>  Scale:             </th>    <td>1.0</td>  \n",
       "</tr>\n",
       "<tr>\n",
       "  <th>Method:</th>               <td>IRLS</td>       <th>  Log-Likelihood:    </th> <td> -78.076</td>\n",
       "</tr>\n",
       "<tr>\n",
       "  <th>Date:</th>           <td>Mon, 08 Aug 2016</td> <th>  Deviance:          </th> <td>  58.286</td>\n",
       "</tr>\n",
       "<tr>\n",
       "  <th>Time:</th>               <td>17:15:51</td>     <th>  Pearson chi2:      </th>  <td>  64.6</td> \n",
       "</tr>\n",
       "<tr>\n",
       "  <th>No. Iterations:</th>         <td>9</td>        <th>                     </th>     <td> </td>   \n",
       "</tr>\n",
       "</table>\n",
       "<table class=\"simpletable\">\n",
       "<tr>\n",
       "          <td></td>             <th>coef</th>     <th>std err</th>      <th>z</th>      <th>P>|z|</th> <th>[95.0% Conf. Int.]</th> \n",
       "</tr>\n",
       "<tr>\n",
       "  <th>Intercept</th>         <td>  -11.2451</td> <td>    1.031</td> <td>  -10.911</td> <td> 0.000</td> <td>  -13.265    -9.225</td>\n",
       "</tr>\n",
       "<tr>\n",
       "  <th>type[T.B]</th>         <td>   -0.5397</td> <td>    0.178</td> <td>   -3.031</td> <td> 0.002</td> <td>   -0.889    -0.191</td>\n",
       "</tr>\n",
       "<tr>\n",
       "  <th>type[T.C]</th>         <td>   -0.6270</td> <td>    0.329</td> <td>   -1.903</td> <td> 0.057</td> <td>   -1.273     0.019</td>\n",
       "</tr>\n",
       "<tr>\n",
       "  <th>type[T.D]</th>         <td>   -0.2328</td> <td>    0.288</td> <td>   -0.809</td> <td> 0.419</td> <td>   -0.797     0.332</td>\n",
       "</tr>\n",
       "<tr>\n",
       "  <th>type[T.E]</th>         <td>    0.4071</td> <td>    0.235</td> <td>    1.733</td> <td> 0.083</td> <td>   -0.053     0.868</td>\n",
       "</tr>\n",
       "<tr>\n",
       "  <th>construction_mean</th> <td>    0.0445</td> <td>    0.013</td> <td>    3.450</td> <td> 0.001</td> <td>    0.019     0.070</td>\n",
       "</tr>\n",
       "<tr>\n",
       "  <th>operation_mean</th>    <td>    0.0349</td> <td>    0.012</td> <td>    2.880</td> <td> 0.004</td> <td>    0.011     0.059</td>\n",
       "</tr>\n",
       "</table>"
      ],
      "text/plain": [
       "<class 'statsmodels.iolib.summary.Summary'>\n",
       "\"\"\"\n",
       "                 Generalized Linear Model Regression Results                  \n",
       "==============================================================================\n",
       "Dep. Variable:                 damage   No. Observations:                   34\n",
       "Model:                            GLM   Df Residuals:                       27\n",
       "Model Family:                 Poisson   Df Model:                            6\n",
       "Link Function:                    log   Scale:                             1.0\n",
       "Method:                          IRLS   Log-Likelihood:                -78.076\n",
       "Date:                Mon, 08 Aug 2016   Deviance:                       58.286\n",
       "Time:                        17:15:51   Pearson chi2:                     64.6\n",
       "No. Iterations:                     9                                         \n",
       "=====================================================================================\n",
       "                        coef    std err          z      P>|z|      [95.0% Conf. Int.]\n",
       "-------------------------------------------------------------------------------------\n",
       "Intercept           -11.2451      1.031    -10.911      0.000       -13.265    -9.225\n",
       "type[T.B]            -0.5397      0.178     -3.031      0.002        -0.889    -0.191\n",
       "type[T.C]            -0.6270      0.329     -1.903      0.057        -1.273     0.019\n",
       "type[T.D]            -0.2328      0.288     -0.809      0.419        -0.797     0.332\n",
       "type[T.E]             0.4071      0.235      1.733      0.083        -0.053     0.868\n",
       "construction_mean     0.0445      0.013      3.450      0.001         0.019     0.070\n",
       "operation_mean        0.0349      0.012      2.880      0.004         0.011     0.059\n",
       "=====================================================================================\n",
       "\"\"\""
      ]
     },
     "execution_count": 28,
     "metadata": {},
     "output_type": "execute_result"
    }
   ],
   "source": [
    "poisson_model2.fit().summary()"
   ]
  },
  {
   "cell_type": "markdown",
   "metadata": {},
   "source": [
    "Note that the log-likelihood is might higher with this model and the deviance is much smaller.\n",
    "\n",
    "## Question 3\n",
    "\n",
    "Now separate your data (even though it's only 14 rows) into a training and test set (your test will only be 4 or 5 rows), and check if you predict well (you can look at mean absolute error or mean squared error using sklearn.metrics)."
   ]
  },
  {
   "cell_type": "code",
   "execution_count": 48,
   "metadata": {
    "ExecuteTime": {
     "end_time": "2016-08-08T17:45:29.879229",
     "start_time": "2016-08-08T17:45:29.831488"
    },
    "collapsed": false
   },
   "outputs": [
    {
     "name": "stdout",
     "output_type": "stream",
     "text": [
      "(25, 7) (9, 7)\n"
     ]
    }
   ],
   "source": [
    "train, test = train_test_split(ships, test_size=0.25, random_state=4444)\n",
    "\n",
    "print train.shape, test.shape\n",
    "\n",
    "Y_train, X_train = dmatrices(\"damage ~ type + construction_mean + operation_mean\", \n",
    "                             data=train, return_type='dataframe')\n",
    "\n",
    "\n",
    "Y_test,  X_test =  dmatrices(\"damage ~ type + construction_mean + operation_mean\", \n",
    "                             data=test, return_type='dataframe')\n",
    "\n",
    "poisson_model3 = sm.GLM(Y_train, X_train, \n",
    "                        offset=np.log(train['months']),\n",
    "                        family=sm.families.Poisson()).fit()"
   ]
  },
  {
   "cell_type": "code",
   "execution_count": 49,
   "metadata": {
    "ExecuteTime": {
     "end_time": "2016-08-08T17:45:30.385890",
     "start_time": "2016-08-08T17:45:30.381821"
    },
    "collapsed": false
   },
   "outputs": [],
   "source": [
    "Y_pred = poisson_model3.predict(X_test)"
   ]
  },
  {
   "cell_type": "code",
   "execution_count": 50,
   "metadata": {
    "ExecuteTime": {
     "end_time": "2016-08-08T17:45:31.076783",
     "start_time": "2016-08-08T17:45:31.069351"
    },
    "collapsed": false
   },
   "outputs": [
    {
     "data": {
      "text/plain": [
       "5.4412987707392837"
      ]
     },
     "execution_count": 50,
     "metadata": {},
     "output_type": "execute_result"
    }
   ],
   "source": [
    "mean_absolute_error(Y_test, Y_pred)"
   ]
  },
  {
   "cell_type": "code",
   "execution_count": 51,
   "metadata": {
    "ExecuteTime": {
     "end_time": "2016-08-08T17:45:31.757930",
     "start_time": "2016-08-08T17:45:31.751168"
    },
    "collapsed": false
   },
   "outputs": [
    {
     "data": {
      "text/plain": [
       "62.280577572572106"
      ]
     },
     "execution_count": 51,
     "metadata": {},
     "output_type": "execute_result"
    }
   ],
   "source": [
    "mean_squared_error(Y_test, Y_pred)"
   ]
  },
  {
   "cell_type": "markdown",
   "metadata": {},
   "source": [
    "## Question 4\n",
    "\n",
    "Deviance. Compute the difference in Deviance statistics for your model and the null model. This is called the null deviance. You can do this in one of 2 ways:\n",
    "\n",
    "We need the deviance for the null model (a model where none of the explanatory variables are used; it's just a model with a mean guess). To do that, fit a poisson regression with only a constant. Get the deviance for this null model. Take the difference of deviances between your model and this null model.\n",
    "\n",
    "Use statsmodels.genmod.generalized_linear_model.GLMResults\n",
    "Check if this difference is extreme enough that we can reject the null hypothesis. If we can't reject the null hypothesis, we cannot say that this model tells us more than that trivial, null model. To calculate the p-value (prob. of getting a deviance difference at least as extreme as this under the null hypothesis), we need to do a hypothesis test.\n",
    "\n",
    "Is your model better than the null model?"
   ]
  },
  {
   "cell_type": "code",
   "execution_count": 52,
   "metadata": {
    "ExecuteTime": {
     "end_time": "2016-08-08T17:46:02.294056",
     "start_time": "2016-08-08T17:46:02.276635"
    },
    "collapsed": true
   },
   "outputs": [],
   "source": [
    "Y_train, X_train = dmatrices(\"damage ~ 1\", \n",
    "                             data=train, return_type='dataframe')\n",
    "\n",
    "Y_test,  X_test  = dmatrices(\"damage ~ 1\", \n",
    "                             data=test, return_type='dataframe')\n",
    "\n",
    "poisson_model_null = sm.GLM(Y_train, X_train, \n",
    "                            #offset=np.log(train.months),\n",
    "                            family=sm.families.Poisson())"
   ]
  },
  {
   "cell_type": "code",
   "execution_count": 53,
   "metadata": {
    "ExecuteTime": {
     "end_time": "2016-08-08T17:46:04.156789",
     "start_time": "2016-08-08T17:46:04.124820"
    },
    "collapsed": false
   },
   "outputs": [
    {
     "data": {
      "text/html": [
       "<table class=\"simpletable\">\n",
       "<caption>Generalized Linear Model Regression Results</caption>\n",
       "<tr>\n",
       "  <th>Dep. Variable:</th>       <td>damage</td>      <th>  No. Observations:  </th>  <td>    25</td> \n",
       "</tr>\n",
       "<tr>\n",
       "  <th>Model:</th>                 <td>GLM</td>       <th>  Df Residuals:      </th>  <td>    24</td> \n",
       "</tr>\n",
       "<tr>\n",
       "  <th>Model Family:</th>        <td>Poisson</td>     <th>  Df Model:          </th>  <td>     0</td> \n",
       "</tr>\n",
       "<tr>\n",
       "  <th>Link Function:</th>         <td>log</td>       <th>  Scale:             </th>    <td>1.0</td>  \n",
       "</tr>\n",
       "<tr>\n",
       "  <th>Method:</th>               <td>IRLS</td>       <th>  Log-Likelihood:    </th> <td> -300.47</td>\n",
       "</tr>\n",
       "<tr>\n",
       "  <th>Date:</th>           <td>Mon, 08 Aug 2016</td> <th>  Deviance:          </th> <td>  528.71</td>\n",
       "</tr>\n",
       "<tr>\n",
       "  <th>Time:</th>               <td>17:46:04</td>     <th>  Pearson chi2:      </th>  <td>  616.</td> \n",
       "</tr>\n",
       "<tr>\n",
       "  <th>No. Iterations:</th>         <td>8</td>        <th>                     </th>     <td> </td>   \n",
       "</tr>\n",
       "</table>\n",
       "<table class=\"simpletable\">\n",
       "<tr>\n",
       "      <td></td>         <th>coef</th>     <th>std err</th>      <th>z</th>      <th>P>|z|</th> <th>[95.0% Conf. Int.]</th> \n",
       "</tr>\n",
       "<tr>\n",
       "  <th>Intercept</th> <td>    2.5080</td> <td>    0.057</td> <td>   43.943</td> <td> 0.000</td> <td>    2.396     2.620</td>\n",
       "</tr>\n",
       "</table>"
      ],
      "text/plain": [
       "<class 'statsmodels.iolib.summary.Summary'>\n",
       "\"\"\"\n",
       "                 Generalized Linear Model Regression Results                  \n",
       "==============================================================================\n",
       "Dep. Variable:                 damage   No. Observations:                   25\n",
       "Model:                            GLM   Df Residuals:                       24\n",
       "Model Family:                 Poisson   Df Model:                            0\n",
       "Link Function:                    log   Scale:                             1.0\n",
       "Method:                          IRLS   Log-Likelihood:                -300.47\n",
       "Date:                Mon, 08 Aug 2016   Deviance:                       528.71\n",
       "Time:                        17:46:04   Pearson chi2:                     616.\n",
       "No. Iterations:                     8                                         \n",
       "==============================================================================\n",
       "                 coef    std err          z      P>|z|      [95.0% Conf. Int.]\n",
       "------------------------------------------------------------------------------\n",
       "Intercept      2.5080      0.057     43.943      0.000         2.396     2.620\n",
       "==============================================================================\n",
       "\"\"\""
      ]
     },
     "execution_count": 53,
     "metadata": {},
     "output_type": "execute_result"
    }
   ],
   "source": [
    "poisson_model_null.fit().summary()"
   ]
  },
  {
   "cell_type": "markdown",
   "metadata": {},
   "source": [
    "## Question 5\n",
    "Now, instead of a poisson regression, do an ordinary least squares regression with log Y. Compare the models. Are the coefficients close? Do they perform similarly?"
   ]
  },
  {
   "cell_type": "code",
   "execution_count": 46,
   "metadata": {
    "ExecuteTime": {
     "end_time": "2016-08-08T17:34:29.641243",
     "start_time": "2016-08-08T17:34:29.598407"
    },
    "collapsed": false
   },
   "outputs": [],
   "source": [
    "Y_train, X_train = dmatrices(\"np.log(damage+0.1) ~ type + construction_mean + operation_mean + months\", \n",
    "                             data=train, return_type='dataframe')\n",
    "\n",
    "\n",
    "Y_test, X_test = dmatrices(\"np.log(damage+0.1) ~ type + construction_mean + operation_mean + months\", \n",
    "                             data=test, return_type='dataframe')\n",
    "\n",
    "linear_model = sm.OLS(Y_train, X_train).fit()"
   ]
  },
  {
   "cell_type": "code",
   "execution_count": 47,
   "metadata": {
    "ExecuteTime": {
     "end_time": "2016-08-08T17:34:30.210851",
     "start_time": "2016-08-08T17:34:30.168214"
    },
    "collapsed": false
   },
   "outputs": [
    {
     "data": {
      "text/html": [
       "<table class=\"simpletable\">\n",
       "<caption>OLS Regression Results</caption>\n",
       "<tr>\n",
       "  <th>Dep. Variable:</th>    <td>np.log(damage + 0.1)</td> <th>  R-squared:         </th> <td>   0.769</td>\n",
       "</tr>\n",
       "<tr>\n",
       "  <th>Model:</th>                     <td>OLS</td>         <th>  Adj. R-squared:    </th> <td>   0.673</td>\n",
       "</tr>\n",
       "<tr>\n",
       "  <th>Method:</th>               <td>Least Squares</td>    <th>  F-statistic:       </th> <td>   8.072</td>\n",
       "</tr>\n",
       "<tr>\n",
       "  <th>Date:</th>               <td>Mon, 08 Aug 2016</td>   <th>  Prob (F-statistic):</th> <td>0.000222</td>\n",
       "</tr>\n",
       "<tr>\n",
       "  <th>Time:</th>                   <td>17:34:30</td>       <th>  Log-Likelihood:    </th> <td> -37.666</td>\n",
       "</tr>\n",
       "<tr>\n",
       "  <th>No. Observations:</th>        <td>    25</td>        <th>  AIC:               </th> <td>   91.33</td>\n",
       "</tr>\n",
       "<tr>\n",
       "  <th>Df Residuals:</th>            <td>    17</td>        <th>  BIC:               </th> <td>   101.1</td>\n",
       "</tr>\n",
       "<tr>\n",
       "  <th>Df Model:</th>                <td>     7</td>        <th>                     </th>     <td> </td>   \n",
       "</tr>\n",
       "<tr>\n",
       "  <th>Covariance Type:</th>        <td>nonrobust</td>      <th>                     </th>     <td> </td>   \n",
       "</tr>\n",
       "</table>\n",
       "<table class=\"simpletable\">\n",
       "<tr>\n",
       "          <td></td>             <th>coef</th>     <th>std err</th>      <th>t</th>      <th>P>|t|</th> <th>[95.0% Conf. Int.]</th> \n",
       "</tr>\n",
       "<tr>\n",
       "  <th>Intercept</th>         <td>  -17.4152</td> <td>    4.944</td> <td>   -3.523</td> <td> 0.003</td> <td>  -27.846    -6.984</td>\n",
       "</tr>\n",
       "<tr>\n",
       "  <th>type[T.B]</th>         <td>    1.5305</td> <td>    1.191</td> <td>    1.285</td> <td> 0.216</td> <td>   -0.983     4.044</td>\n",
       "</tr>\n",
       "<tr>\n",
       "  <th>type[T.C]</th>         <td>   -0.7477</td> <td>    0.856</td> <td>   -0.873</td> <td> 0.395</td> <td>   -2.555     1.059</td>\n",
       "</tr>\n",
       "<tr>\n",
       "  <th>type[T.D]</th>         <td>   -0.9369</td> <td>    0.770</td> <td>   -1.216</td> <td> 0.241</td> <td>   -2.562     0.688</td>\n",
       "</tr>\n",
       "<tr>\n",
       "  <th>type[T.E]</th>         <td>   -0.6235</td> <td>    0.942</td> <td>   -0.662</td> <td> 0.517</td> <td>   -2.612     1.365</td>\n",
       "</tr>\n",
       "<tr>\n",
       "  <th>construction_mean</th> <td>    0.2587</td> <td>    0.057</td> <td>    4.537</td> <td> 0.000</td> <td>    0.138     0.379</td>\n",
       "</tr>\n",
       "<tr>\n",
       "  <th>operation_mean</th>    <td>    0.0015</td> <td>    0.057</td> <td>    0.027</td> <td> 0.979</td> <td>   -0.118     0.121</td>\n",
       "</tr>\n",
       "<tr>\n",
       "  <th>months</th>            <td> 8.948e-05</td> <td> 4.52e-05</td> <td>    1.981</td> <td> 0.064</td> <td>-5.83e-06     0.000</td>\n",
       "</tr>\n",
       "</table>\n",
       "<table class=\"simpletable\">\n",
       "<tr>\n",
       "  <th>Omnibus:</th>       <td> 0.404</td> <th>  Durbin-Watson:     </th> <td>   1.841</td>\n",
       "</tr>\n",
       "<tr>\n",
       "  <th>Prob(Omnibus):</th> <td> 0.817</td> <th>  Jarque-Bera (JB):  </th> <td>   0.507</td>\n",
       "</tr>\n",
       "<tr>\n",
       "  <th>Skew:</th>          <td> 0.252</td> <th>  Prob(JB):          </th> <td>   0.776</td>\n",
       "</tr>\n",
       "<tr>\n",
       "  <th>Kurtosis:</th>      <td> 2.517</td> <th>  Cond. No.          </th> <td>2.30e+05</td>\n",
       "</tr>\n",
       "</table>"
      ],
      "text/plain": [
       "<class 'statsmodels.iolib.summary.Summary'>\n",
       "\"\"\"\n",
       "                             OLS Regression Results                             \n",
       "================================================================================\n",
       "Dep. Variable:     np.log(damage + 0.1)   R-squared:                       0.769\n",
       "Model:                              OLS   Adj. R-squared:                  0.673\n",
       "Method:                   Least Squares   F-statistic:                     8.072\n",
       "Date:                  Mon, 08 Aug 2016   Prob (F-statistic):           0.000222\n",
       "Time:                          17:34:30   Log-Likelihood:                -37.666\n",
       "No. Observations:                    25   AIC:                             91.33\n",
       "Df Residuals:                        17   BIC:                             101.1\n",
       "Df Model:                             7                                         \n",
       "Covariance Type:              nonrobust                                         \n",
       "=====================================================================================\n",
       "                        coef    std err          t      P>|t|      [95.0% Conf. Int.]\n",
       "-------------------------------------------------------------------------------------\n",
       "Intercept           -17.4152      4.944     -3.523      0.003       -27.846    -6.984\n",
       "type[T.B]             1.5305      1.191      1.285      0.216        -0.983     4.044\n",
       "type[T.C]            -0.7477      0.856     -0.873      0.395        -2.555     1.059\n",
       "type[T.D]            -0.9369      0.770     -1.216      0.241        -2.562     0.688\n",
       "type[T.E]            -0.6235      0.942     -0.662      0.517        -2.612     1.365\n",
       "construction_mean     0.2587      0.057      4.537      0.000         0.138     0.379\n",
       "operation_mean        0.0015      0.057      0.027      0.979        -0.118     0.121\n",
       "months             8.948e-05   4.52e-05      1.981      0.064     -5.83e-06     0.000\n",
       "==============================================================================\n",
       "Omnibus:                        0.404   Durbin-Watson:                   1.841\n",
       "Prob(Omnibus):                  0.817   Jarque-Bera (JB):                0.507\n",
       "Skew:                           0.252   Prob(JB):                        0.776\n",
       "Kurtosis:                       2.517   Cond. No.                     2.30e+05\n",
       "==============================================================================\n",
       "\n",
       "Warnings:\n",
       "[1] Standard Errors assume that the covariance matrix of the errors is correctly specified.\n",
       "[2] The condition number is large, 2.3e+05. This might indicate that there are\n",
       "strong multicollinearity or other numerical problems.\n",
       "\"\"\""
      ]
     },
     "execution_count": 47,
     "metadata": {},
     "output_type": "execute_result"
    }
   ],
   "source": [
    "linear_model.summary()"
   ]
  },
  {
   "cell_type": "markdown",
   "metadata": {},
   "source": [
    "All coefficients are important in the model, which is a tell-tale sign that the fit is poor.\n",
    "\n",
    "## Question 6\n",
    "Now, let's do this on another dataset: Smoking and Cancer. This dataset has information on lung cancer deaths by age and smoking status. It has these columns:\n",
    "\n",
    "age: in five-year age groups coded 1 to 9 for 40-44, 45-49, 50-54, 55-59, 60-64, 65-69, 70-74, 75-79, 80+.\n",
    "smoking status: coded 1 = doesn't smoke, 2 = smokes cigars or pipe only, 3 = smokes cigarrettes and cigar or pipe, and 4 = smokes cigarrettes only,\n",
    "population: in hundreds of thousands\n",
    "deaths: number of lung cancer deaths in a year.\n",
    "That population looks a lot like an offset!\n",
    "\n",
    "Fit poisson and OLS models and compare them."
   ]
  },
  {
   "cell_type": "code",
   "execution_count": 54,
   "metadata": {
    "ExecuteTime": {
     "end_time": "2016-08-09T08:05:19.387968",
     "start_time": "2016-08-09T08:05:18.578527"
    },
    "collapsed": false
   },
   "outputs": [
    {
     "name": "stdout",
     "output_type": "stream",
     "text": [
      "  % Total    % Received % Xferd  Average Speed   Time    Time     Time  Current\r\n",
      "                                 Dload  Upload   Total   Spent    Left  Speed\r\n",
      "\r",
      "  0     0    0     0    0     0      0      0 --:--:-- --:--:-- --:--:--     0\r",
      "100  1840  100  1840    0     0   3988      0 --:--:-- --:--:-- --:--:-- 63448\r\n"
     ]
    },
    {
     "data": {
      "text/html": [
       "<div>\n",
       "<table border=\"1\" class=\"dataframe\">\n",
       "  <thead>\n",
       "    <tr style=\"text-align: right;\">\n",
       "      <th></th>\n",
       "      <th>age</th>\n",
       "      <th>smoke</th>\n",
       "      <th>pop</th>\n",
       "      <th>dead</th>\n",
       "    </tr>\n",
       "  </thead>\n",
       "  <tbody>\n",
       "    <tr>\n",
       "      <th>0</th>\n",
       "      <td>40-44</td>\n",
       "      <td>Doesn't smoke</td>\n",
       "      <td>656.0</td>\n",
       "      <td>18.0</td>\n",
       "    </tr>\n",
       "  </tbody>\n",
       "</table>\n",
       "</div>"
      ],
      "text/plain": [
       "     age          smoke    pop  dead\n",
       "0  40-44  Doesn't smoke  656.0  18.0"
      ]
     },
     "execution_count": 54,
     "metadata": {},
     "output_type": "execute_result"
    }
   ],
   "source": [
    "! curl http://data.princeton.edu/wws509/datasets/smoking.dta -o smoking_cancer.dta\n",
    "smoking = StataReader('smoking_cancer.dta').read()\n",
    "smoking.head(1)"
   ]
  },
  {
   "cell_type": "code",
   "execution_count": 69,
   "metadata": {
    "ExecuteTime": {
     "end_time": "2016-08-09T08:29:57.799760",
     "start_time": "2016-08-09T08:29:57.791084"
    },
    "collapsed": false
   },
   "outputs": [],
   "source": [
    "# Convert age ranges to means\n",
    "smoking['age_mean'] = (smoking\n",
    "                      .age\n",
    "                      .str.extract(r\"\"\"([0-9]{2})(?:-([0-9]{2}))?\"\"\", expand=True)\n",
    "                      .astype(float)\n",
    "                      .mean(axis=1))"
   ]
  },
  {
   "cell_type": "code",
   "execution_count": null,
   "metadata": {
    "collapsed": true
   },
   "outputs": [],
   "source": []
  }
 ],
 "metadata": {
  "kernelspec": {
   "display_name": "Python 2",
   "language": "python",
   "name": "python2"
  },
  "language_info": {
   "codemirror_mode": {
    "name": "ipython",
    "version": 2
   },
   "file_extension": ".py",
   "mimetype": "text/x-python",
   "name": "python",
   "nbconvert_exporter": "python",
   "pygments_lexer": "ipython2",
   "version": "2.7.12"
  }
 },
 "nbformat": 4,
 "nbformat_minor": 0
}
