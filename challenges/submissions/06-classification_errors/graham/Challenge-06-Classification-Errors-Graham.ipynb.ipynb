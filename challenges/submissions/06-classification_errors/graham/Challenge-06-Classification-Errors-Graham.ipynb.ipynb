{
 "cells": [
  {
   "cell_type": "raw",
   "metadata": {},
   "source": [
    "Challenge Set 6  \n",
    "Topic: Classification Errors\n",
    "Date: August 1, 2016\n",
    "Name: Graham Anderson\n",
    "Worked with: Allison"
   ]
  },
  {
   "cell_type": "markdown",
   "metadata": {},
   "source": [
    "## Q1"
   ]
  },
  {
   "cell_type": "markdown",
   "metadata": {},
   "source": [
    "For the house representatives data set, calculate the accuracy, precision, recall and f1 scores of each classifier you built (on the test set).\n",
    "\n"
   ]
  },
  {
   "cell_type": "code",
   "execution_count": 2,
   "metadata": {
    "collapsed": true
   },
   "outputs": [],
   "source": [
    "import pandas as pd\n",
    "import csv\n",
    "import numpy as np\n",
    "import re\n",
    "from sklearn.neighbors import KNeighborsClassifier\n",
    "from sklearn.metrics import accuracy_score\n",
    "from sklearn.cross_validation import train_test_split\n",
    "import sklearn\n",
    "from sklearn import cross_validation as cv\n",
    "from sklearn import preprocessing\n",
    "from sklearn.linear_model import LinearRegression, Ridge, Lasso\n",
    "from patsy import dmatrices"
   ]
  },
  {
   "cell_type": "code",
   "execution_count": 3,
   "metadata": {
    "collapsed": false
   },
   "outputs": [
    {
     "data": {
      "text/html": [
       "<div>\n",
       "<table border=\"1\" class=\"dataframe\">\n",
       "  <thead>\n",
       "    <tr style=\"text-align: right;\">\n",
       "      <th></th>\n",
       "      <th>n</th>\n",
       "      <th>y</th>\n",
       "      <th>n1</th>\n",
       "      <th>y1</th>\n",
       "      <th>y2</th>\n",
       "      <th>y3</th>\n",
       "      <th>n2</th>\n",
       "      <th>n3</th>\n",
       "      <th>n4</th>\n",
       "      <th>y4</th>\n",
       "      <th>y9</th>\n",
       "      <th>y5</th>\n",
       "      <th>y6</th>\n",
       "      <th>y7</th>\n",
       "      <th>n5</th>\n",
       "      <th>y8</th>\n",
       "      <th>republican</th>\n",
       "    </tr>\n",
       "  </thead>\n",
       "  <tbody>\n",
       "    <tr>\n",
       "      <th>0</th>\n",
       "      <td>0.000000</td>\n",
       "      <td>1.0</td>\n",
       "      <td>0.0</td>\n",
       "      <td>1.000000</td>\n",
       "      <td>1.00000</td>\n",
       "      <td>1.0</td>\n",
       "      <td>0.0</td>\n",
       "      <td>0.0</td>\n",
       "      <td>0.0</td>\n",
       "      <td>0.0</td>\n",
       "      <td>0.0</td>\n",
       "      <td>1.000000</td>\n",
       "      <td>1.0</td>\n",
       "      <td>1.0</td>\n",
       "      <td>0.0</td>\n",
       "      <td>0.812121</td>\n",
       "      <td>republican</td>\n",
       "    </tr>\n",
       "    <tr>\n",
       "      <th>1</th>\n",
       "      <td>0.443128</td>\n",
       "      <td>1.0</td>\n",
       "      <td>1.0</td>\n",
       "      <td>0.416076</td>\n",
       "      <td>1.00000</td>\n",
       "      <td>1.0</td>\n",
       "      <td>0.0</td>\n",
       "      <td>0.0</td>\n",
       "      <td>0.0</td>\n",
       "      <td>0.0</td>\n",
       "      <td>1.0</td>\n",
       "      <td>0.000000</td>\n",
       "      <td>1.0</td>\n",
       "      <td>1.0</td>\n",
       "      <td>0.0</td>\n",
       "      <td>0.000000</td>\n",
       "      <td>democrat</td>\n",
       "    </tr>\n",
       "    <tr>\n",
       "      <th>2</th>\n",
       "      <td>0.000000</td>\n",
       "      <td>1.0</td>\n",
       "      <td>1.0</td>\n",
       "      <td>0.000000</td>\n",
       "      <td>0.50358</td>\n",
       "      <td>1.0</td>\n",
       "      <td>0.0</td>\n",
       "      <td>0.0</td>\n",
       "      <td>0.0</td>\n",
       "      <td>0.0</td>\n",
       "      <td>1.0</td>\n",
       "      <td>0.000000</td>\n",
       "      <td>1.0</td>\n",
       "      <td>0.0</td>\n",
       "      <td>0.0</td>\n",
       "      <td>1.000000</td>\n",
       "      <td>democrat</td>\n",
       "    </tr>\n",
       "    <tr>\n",
       "      <th>3</th>\n",
       "      <td>1.000000</td>\n",
       "      <td>1.0</td>\n",
       "      <td>1.0</td>\n",
       "      <td>0.000000</td>\n",
       "      <td>1.00000</td>\n",
       "      <td>1.0</td>\n",
       "      <td>0.0</td>\n",
       "      <td>0.0</td>\n",
       "      <td>0.0</td>\n",
       "      <td>0.0</td>\n",
       "      <td>1.0</td>\n",
       "      <td>0.421836</td>\n",
       "      <td>1.0</td>\n",
       "      <td>1.0</td>\n",
       "      <td>1.0</td>\n",
       "      <td>1.000000</td>\n",
       "      <td>democrat</td>\n",
       "    </tr>\n",
       "    <tr>\n",
       "      <th>4</th>\n",
       "      <td>0.000000</td>\n",
       "      <td>1.0</td>\n",
       "      <td>1.0</td>\n",
       "      <td>0.000000</td>\n",
       "      <td>1.00000</td>\n",
       "      <td>1.0</td>\n",
       "      <td>0.0</td>\n",
       "      <td>0.0</td>\n",
       "      <td>0.0</td>\n",
       "      <td>0.0</td>\n",
       "      <td>0.0</td>\n",
       "      <td>0.000000</td>\n",
       "      <td>1.0</td>\n",
       "      <td>1.0</td>\n",
       "      <td>1.0</td>\n",
       "      <td>1.000000</td>\n",
       "      <td>democrat</td>\n",
       "    </tr>\n",
       "  </tbody>\n",
       "</table>\n",
       "</div>"
      ],
      "text/plain": [
       "          n    y   n1        y1       y2   y3   n2   n3   n4   y4   y9  \\\n",
       "0  0.000000  1.0  0.0  1.000000  1.00000  1.0  0.0  0.0  0.0  0.0  0.0   \n",
       "1  0.443128  1.0  1.0  0.416076  1.00000  1.0  0.0  0.0  0.0  0.0  1.0   \n",
       "2  0.000000  1.0  1.0  0.000000  0.50358  1.0  0.0  0.0  0.0  0.0  1.0   \n",
       "3  1.000000  1.0  1.0  0.000000  1.00000  1.0  0.0  0.0  0.0  0.0  1.0   \n",
       "4  0.000000  1.0  1.0  0.000000  1.00000  1.0  0.0  0.0  0.0  0.0  0.0   \n",
       "\n",
       "         y5   y6   y7   n5        y8  republican  \n",
       "0  1.000000  1.0  1.0  0.0  0.812121  republican  \n",
       "1  0.000000  1.0  1.0  0.0  0.000000    democrat  \n",
       "2  0.000000  1.0  0.0  0.0  1.000000    democrat  \n",
       "3  0.421836  1.0  1.0  1.0  1.000000    democrat  \n",
       "4  0.000000  1.0  1.0  1.0  1.000000    democrat  "
      ]
     },
     "execution_count": 3,
     "metadata": {},
     "output_type": "execute_result"
    }
   ],
   "source": [
    "df_congress = pd.read_csv('house-votes-84.txt')\n",
    "df_congress.rename(columns={'republican.': 'republican'}, inplace=True) \n",
    "df_congress['republican'] = df_congress['republican'].apply(lambda x: re.sub('\\.', '', x).strip())\n",
    "df_congress['republican'].value_counts()\n",
    "df_congress.rename(columns=lambda x: re.sub('\\.','',x), inplace=True)\n",
    "df_congress.rename(columns={'?': 'y9'}, inplace=True) \n",
    "df_congress = df_congress.replace(['y', 'n'], [1, 0])\n",
    "df_congress = df_congress.replace('?', np.NaN)\n",
    "df_congress = df_congress.fillna(df_congress.mean())\n",
    "df_congress.head()"
   ]
  },
  {
   "cell_type": "code",
   "execution_count": 4,
   "metadata": {
    "collapsed": false
   },
   "outputs": [
    {
     "data": {
      "text/html": [
       "<div>\n",
       "<table border=\"1\" class=\"dataframe\">\n",
       "  <thead>\n",
       "    <tr style=\"text-align: right;\">\n",
       "      <th></th>\n",
       "      <th>republican[democrat]</th>\n",
       "      <th>republican[republican]</th>\n",
       "    </tr>\n",
       "  </thead>\n",
       "  <tbody>\n",
       "    <tr>\n",
       "      <th>0</th>\n",
       "      <td>0.0</td>\n",
       "      <td>1.0</td>\n",
       "    </tr>\n",
       "    <tr>\n",
       "      <th>1</th>\n",
       "      <td>1.0</td>\n",
       "      <td>0.0</td>\n",
       "    </tr>\n",
       "    <tr>\n",
       "      <th>2</th>\n",
       "      <td>1.0</td>\n",
       "      <td>0.0</td>\n",
       "    </tr>\n",
       "    <tr>\n",
       "      <th>3</th>\n",
       "      <td>1.0</td>\n",
       "      <td>0.0</td>\n",
       "    </tr>\n",
       "    <tr>\n",
       "      <th>4</th>\n",
       "      <td>1.0</td>\n",
       "      <td>0.0</td>\n",
       "    </tr>\n",
       "  </tbody>\n",
       "</table>\n",
       "</div>"
      ],
      "text/plain": [
       "   republican[democrat]  republican[republican]\n",
       "0                   0.0                     1.0\n",
       "1                   1.0                     0.0\n",
       "2                   1.0                     0.0\n",
       "3                   1.0                     0.0\n",
       "4                   1.0                     0.0"
      ]
     },
     "execution_count": 4,
     "metadata": {},
     "output_type": "execute_result"
    }
   ],
   "source": [
    "y,X = dmatrices('republican ~ n + y + n1 + y1 + y2 + y3 + n2 + n3 + n4 + y4 + y9 + y5 + y6 + y7 + n5 + y8',\n",
    "                data = df_congress, return_type='dataframe')\n",
    "y.head()"
   ]
  },
  {
   "cell_type": "code",
   "execution_count": 5,
   "metadata": {
    "collapsed": true
   },
   "outputs": [],
   "source": [
    "y = y['republican[republican]']\n",
    "x_train, x_test, y_train, y_test = train_test_split(X, y, test_size=0.30, random_state=4444)"
   ]
  },
  {
   "cell_type": "code",
   "execution_count": 7,
   "metadata": {
    "collapsed": false
   },
   "outputs": [
    {
     "name": "stdout",
     "output_type": "stream",
     "text": [
      "Logistic Accuracy:  0.961832061069\n",
      "Logistic Precision:  0.965405674465\n",
      "Logistic Recall:  0.955209347614\n",
      "Logistic FScore:  0.959719574442\n"
     ]
    }
   ],
   "source": [
    "from sklearn.linear_model import LogisticRegression\n",
    "logistics = LogisticRegression()\n",
    "logistics.fit(x_train, y_train)\n",
    "acc = accuracy_score(y_test, logistics.predict(x_test))\n",
    "print 'Logistic Accuracy: ', acc\n",
    "\n",
    "from sklearn.metrics import precision_recall_fscore_support as score\n",
    "precision, recall, fscore, support = score(y_test, logistics.predict(x_test))\n",
    "\n",
    "print 'Logistic Precision: ', np.mean(precision)\n",
    "print 'Logistic Recall: ', np.mean(recall)\n",
    "print 'Logistic FScore: ', np.mean(fscore)"
   ]
  },
  {
   "cell_type": "code",
   "execution_count": 59,
   "metadata": {
    "collapsed": false
   },
   "outputs": [
    {
     "name": "stdout",
     "output_type": "stream",
     "text": [
      "Gaussian Accuracy:  0.908396946565\n",
      "Gaussian Precision:  0.910140562249\n",
      "Gaussian Recall:  0.897760467381\n",
      "Gaussian FScore:  0.902962962963\n"
     ]
    }
   ],
   "source": [
    "from sklearn.naive_bayes import GaussianNB\n",
    "\n",
    "gaussian = GaussianNB()\n",
    "gaussian.fit(x_train, y_train)\n",
    "acc_gaus = accuracy_score(y_test, gaussian.predict(x_test))\n",
    "acc_gaus\n",
    "print 'Gaussian Accuracy: ', acc_gaus\n",
    "\n",
    "precision, recall, fscore, support = score(y_test, gaussian.predict(x_test))\n",
    "\n",
    "print 'Gaussian Precision: ', np.mean(precision)\n",
    "print 'Gaussian Recall: ', np.mean(recall)\n",
    "print 'Gaussian FScore: ', np.mean(fscore)"
   ]
  },
  {
   "cell_type": "code",
   "execution_count": 62,
   "metadata": {
    "collapsed": false
   },
   "outputs": [
    {
     "name": "stdout",
     "output_type": "stream",
     "text": [
      "SVC Accuracy:  0.954198473282\n",
      "SVC Precision:  0.952166504382\n",
      "SVC Recall:  0.952166504382\n",
      "SVC FScore:  0.952166504382\n"
     ]
    }
   ],
   "source": [
    "from sklearn.svm import SVC\n",
    "\n",
    "svc = SVC()\n",
    "svc.fit(x_train, y_train)\n",
    "acc_svc = accuracy_score(y_test, svc.predict(x_test))\n",
    "print 'SVC Accuracy: ', acc_svc\n",
    "\n",
    "precision, recall, fscore, support = score(y_test, svc.predict(x_test))\n",
    "\n",
    "print 'SVC Precision: ', np.mean(precision)\n",
    "print 'SVC Recall: ', np.mean(recall)\n",
    "print 'SVC FScore: ', np.mean(fscore)"
   ]
  },
  {
   "cell_type": "code",
   "execution_count": 64,
   "metadata": {
    "collapsed": false
   },
   "outputs": [
    {
     "name": "stdout",
     "output_type": "stream",
     "text": [
      "Decision Tree Accuracy:  0.923664122137\n",
      "Decision Tree Precision:  0.922962962963\n",
      "Decision Tree Recall:  0.916991236611\n",
      "Decision Tree FScore:  0.919730392157\n"
     ]
    }
   ],
   "source": [
    "from sklearn.tree import DecisionTreeClassifier\n",
    "\n",
    "decision_tree = DecisionTreeClassifier()\n",
    "decision_tree.fit(x_train, y_train)\n",
    "acc_decision_tree = accuracy_score(y_test, decision_tree.predict(x_test))\n",
    "print 'Decision Tree Accuracy: ', acc_decision_tree\n",
    "\n",
    "precision, recall, fscore, support = score(y_test, decision_tree.predict(x_test))\n",
    "\n",
    "print 'Decision Tree Precision: ', np.mean(precision)\n",
    "print 'Decision Tree Recall: ', np.mean(recall)\n",
    "print 'Decision Tree FScore: ', np.mean(fscore)"
   ]
  },
  {
   "cell_type": "code",
   "execution_count": 65,
   "metadata": {
    "collapsed": false
   },
   "outputs": [
    {
     "name": "stdout",
     "output_type": "stream",
     "text": [
      "Random Forest Accuracy:  0.961832061069\n",
      "Random Forest Precision:  0.958877600387\n",
      "Random Forest Recall:  0.961781888997\n",
      "Random Forest FScore:  0.960266909311\n"
     ]
    }
   ],
   "source": [
    "from sklearn.ensemble import RandomForestClassifier\n",
    "\n",
    "random_forest = RandomForestClassifier()\n",
    "random_forest.fit(x_train, y_train)\n",
    "acc_random_forest = accuracy_score(y_test, random_forest.predict(x_test))\n",
    "print 'Random Forest Accuracy: ', acc_random_forest\n",
    "\n",
    "precision, recall, fscore, support = score(y_test, random_forest.predict(x_test))\n",
    "\n",
    "print 'Random Forest Precision: ', np.mean(precision)\n",
    "print 'Random Forest Recall: ', np.mean(recall)\n",
    "print 'Random Forest FScore: ', np.mean(fscore)"
   ]
  },
  {
   "cell_type": "markdown",
   "metadata": {},
   "source": [
    "## Q2"
   ]
  },
  {
   "cell_type": "markdown",
   "metadata": {},
   "source": [
    "For each, draw the ROC curve and calculate the AUC."
   ]
  },
  {
   "cell_type": "code",
   "execution_count": 80,
   "metadata": {
    "collapsed": false
   },
   "outputs": [],
   "source": [
    "from sklearn.metrics import roc_curve\n",
    "from sklearn.metrics import auc\n",
    "from sklearn.metrics import roc_auc_score\n",
    "import matplotlib.pyplot as plt\n",
    "%matplotlib inline"
   ]
  },
  {
   "cell_type": "code",
   "execution_count": 84,
   "metadata": {
    "collapsed": false
   },
   "outputs": [
    {
     "data": {
      "image/png": "[encoded data removed]",
      "text/plain": [
       "<matplotlib.figure.Figure at 0x11a4e2190>"
      ]
     },
     "metadata": {},
     "output_type": "display_data"
    },
    {
     "name": "stdout",
     "output_type": "stream",
     "text": [
      "Logistic AUC Score:  0.955209347614\n"
     ]
    }
   ],
   "source": [
    "fpr, tpr, thresholds=roc_curve(y_test, logistics.predict(x_test))\n",
    "\n",
    "plt.plot(fpr, tpr)\n",
    "plt.xlim([0.0, 1.0])\n",
    "plt.ylim([0.0, 1.0])\n",
    "plt.title('Logistic Regression')\n",
    "plt.show()\n",
    "\n",
    "print 'Logistic AUC Score: ', roc_auc_score(y_test, logistics.predict(x_test))"
   ]
  },
  {
   "cell_type": "code",
   "execution_count": 86,
   "metadata": {
    "collapsed": false
   },
   "outputs": [
    {
     "data": {
      "image/png": "[encoded data removed]",
      "text/plain": [
       "<matplotlib.figure.Figure at 0x118c358d0>"
      ]
     },
     "metadata": {},
     "output_type": "display_data"
    },
    {
     "name": "stdout",
     "output_type": "stream",
     "text": [
      "Gaussian AUC Score:  0.897760467381\n"
     ]
    }
   ],
   "source": [
    "fpr, tpr, thresholds=roc_curve(y_test, gaussian.predict(x_test))\n",
    "\n",
    "plt.plot(fpr, tpr)\n",
    "plt.xlim([0.0, 1.0])\n",
    "plt.ylim([0.0, 1.0])\n",
    "plt.title('Gaussian')\n",
    "plt.show()\n",
    "\n",
    "print 'Gaussian AUC Score: ', roc_auc_score(y_test, gaussian.predict(x_test))"
   ]
  },
  {
   "cell_type": "code",
   "execution_count": 88,
   "metadata": {
    "collapsed": false
   },
   "outputs": [
    {
     "data": {
      "image/png": "[encoded data removed]",
      "text/plain": [
       "<matplotlib.figure.Figure at 0x118341610>"
      ]
     },
     "metadata": {},
     "output_type": "display_data"
    },
    {
     "name": "stdout",
     "output_type": "stream",
     "text": [
      "SVC AUC Score:  0.952166504382\n"
     ]
    }
   ],
   "source": [
    "fpr, tpr, thresholds=roc_curve(y_test, svc.predict(x_test))\n",
    "\n",
    "plt.plot(fpr, tpr)\n",
    "plt.xlim([0.0, 1.0])\n",
    "plt.ylim([0.0, 1.0])\n",
    "plt.title('SVC')\n",
    "plt.show()\n",
    "\n",
    "print 'SVC AUC Score: ', roc_auc_score(y_test, svc.predict(x_test))"
   ]
  },
  {
   "cell_type": "code",
   "execution_count": 89,
   "metadata": {
    "collapsed": false
   },
   "outputs": [
    {
     "data": {
      "image/png": "[encoded data removed]",
      "text/plain": [
       "<matplotlib.figure.Figure at 0x118c274d0>"
      ]
     },
     "metadata": {},
     "output_type": "display_data"
    },
    {
     "name": "stdout",
     "output_type": "stream",
     "text": [
      "Decision Tree AUC Score:  0.916991236611\n"
     ]
    }
   ],
   "source": [
    "fpr, tpr, thresholds=roc_curve(y_test, decision_tree.predict(x_test))\n",
    "\n",
    "plt.plot(fpr, tpr)\n",
    "plt.xlim([0.0, 1.0])\n",
    "plt.ylim([0.0, 1.0])\n",
    "plt.title('Decision Tree')\n",
    "plt.show()\n",
    "\n",
    "print 'Decision Tree AUC Score: ', roc_auc_score(y_test, decision_tree.predict(x_test))"
   ]
  },
  {
   "cell_type": "code",
   "execution_count": 91,
   "metadata": {
    "collapsed": false
   },
   "outputs": [
    {
     "data": {
      "image/png": "[encoded data removed]",
      "text/plain": [
       "<matplotlib.figure.Figure at 0x118c3ef90>"
      ]
     },
     "metadata": {},
     "output_type": "display_data"
    },
    {
     "name": "stdout",
     "output_type": "stream",
     "text": [
      "Random Forest AUC Score:  0.961781888997\n"
     ]
    }
   ],
   "source": [
    "fpr, tpr, thresholds=roc_curve(y_test, random_forest.predict(x_test))\n",
    "\n",
    "plt.plot(fpr, tpr)\n",
    "plt.xlim([0.0, 1.0])\n",
    "plt.ylim([0.0, 1.0])\n",
    "plt.title('Random Forest')\n",
    "plt.show()\n",
    "\n",
    "print 'Random Forest AUC Score: ', roc_auc_score(y_test, random_forest.predict(x_test))"
   ]
  },
  {
   "cell_type": "markdown",
   "metadata": {},
   "source": [
    "## Q3"
   ]
  },
  {
   "cell_type": "markdown",
   "metadata": {},
   "source": [
    "Calculate the same metrics you did in challenge 1, but this time in a cross validation scheme with the cross_val_score function (like in Challenge 9)."
   ]
  },
  {
   "cell_type": "code",
   "execution_count": 92,
   "metadata": {
    "collapsed": true
   },
   "outputs": [],
   "source": [
    "from sklearn.cross_validation import cross_val_score"
   ]
  },
  {
   "cell_type": "code",
   "execution_count": 106,
   "metadata": {
    "collapsed": false
   },
   "outputs": [
    {
     "name": "stdout",
     "output_type": "stream",
     "text": [
      "Logistic Regression CV Precision:  0.948761196874\n",
      "Logistic Regression CV Recall:  0.952164502165\n",
      "Logistic Regression CV Fscore:  0.949613514592\n"
     ]
    }
   ],
   "source": [
    "print 'Logistic Regression CV Precision: ', np.mean(cross_val_score(logistics, X, y, scoring='precision'))\n",
    "print 'Logistic Regression CV Recall: ', np.mean(cross_val_score(logistics, X, y, scoring='recall'))\n",
    "print 'Logistic Regression CV Fscore: ', np.mean(cross_val_score(logistics, X, y, scoring='f1'))"
   ]
  },
  {
   "cell_type": "code",
   "execution_count": 108,
   "metadata": {
    "collapsed": false
   },
   "outputs": [
    {
     "name": "stdout",
     "output_type": "stream",
     "text": [
      " Gaussian Regression CV Precision:  0.907820016128\n",
      "Gaussian Regression CV Recall:  0.916341991342\n",
      "Gaussian Regression CV Fscore:  0.910600361055\n"
     ]
    }
   ],
   "source": [
    "print 'Gaussian CV Precision: ', np.mean(cross_val_score(gaussian, X, y, scoring='precision'))\n",
    "print 'Gaussian CV Recall: ', np.mean(cross_val_score(gaussian, X, y, scoring='recall'))\n",
    "print 'Gaussian CV Fscore: ', np.mean(cross_val_score(gaussian, X, y, scoring='f1'))"
   ]
  },
  {
   "cell_type": "code",
   "execution_count": 109,
   "metadata": {
    "collapsed": false
   },
   "outputs": [
    {
     "name": "stdout",
     "output_type": "stream",
     "text": [
      "SVC CV Precision:  0.921588244806\n",
      "SVC CV Recall:  0.964177489177\n",
      "SVC CV Fscore:  0.941752568965\n"
     ]
    }
   ],
   "source": [
    "print 'SVC CV Precision: ', np.mean(cross_val_score(svc, X, y, scoring='precision'))\n",
    "print 'SVC CV Recall: ', np.mean(cross_val_score(svc, X, y, scoring='recall'))\n",
    "print 'SVC CV Fscore: ', np.mean(cross_val_score(svc, X, y, scoring='f1'))"
   ]
  },
  {
   "cell_type": "code",
   "execution_count": 110,
   "metadata": {
    "collapsed": false
   },
   "outputs": [
    {
     "name": "stdout",
     "output_type": "stream",
     "text": [
      "Decision Tree CV Precision:  0.919400315251\n",
      "Decision Tree CV Recall:  0.958116883117\n",
      "Decision Tree CV Fscore:  0.934872498287\n"
     ]
    }
   ],
   "source": [
    "print 'Decision Tree CV Precision: ', np.mean(cross_val_score(decision_tree, X, y, scoring='precision'))\n",
    "print 'Decision Tree CV Recall: ', np.mean(cross_val_score(decision_tree, X, y, scoring='recall'))\n",
    "print 'Decision Tree CV Fscore: ', np.mean(cross_val_score(decision_tree, X, y, scoring='f1'))"
   ]
  },
  {
   "cell_type": "code",
   "execution_count": 111,
   "metadata": {
    "collapsed": false
   },
   "outputs": [
    {
     "name": "stdout",
     "output_type": "stream",
     "text": [
      "Random Forest CV Precision:  0.946243814665\n",
      "Random Forest CV Recall:  0.958008658009\n",
      "Random Forest CV Fscore:  0.944556130647\n"
     ]
    }
   ],
   "source": [
    "print 'Random Forest CV Precision: ', np.mean(cross_val_score(random_forest, X, y, scoring='precision'))\n",
    "print 'Random Forest CV Recall: ', np.mean(cross_val_score(random_forest, X, y, scoring='recall'))\n",
    "print 'Random Forest CV Fscore: ', np.mean(cross_val_score(random_forest, X, y, scoring='f1'))"
   ]
  },
  {
   "cell_type": "code",
   "execution_count": null,
   "metadata": {
    "collapsed": true
   },
   "outputs": [],
   "source": []
  }
 ],
 "metadata": {
  "kernelspec": {
   "display_name": "Python 2",
   "language": "python",
   "name": "python2"
  },
  "language_info": {
   "codemirror_mode": {
    "name": "ipython",
    "version": 2
   },
   "file_extension": ".py",
   "mimetype": "text/x-python",
   "name": "python",
   "nbconvert_exporter": "python",
   "pygments_lexer": "ipython2",
   "version": "2.7.12"
  }
 },
 "nbformat": 4,
 "nbformat_minor": 0
}
