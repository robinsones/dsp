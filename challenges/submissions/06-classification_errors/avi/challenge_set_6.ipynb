{
 "cells": [
  {
   "cell_type": "markdown",
   "metadata": {},
   "source": [
    "Challenge Set 6  \n",
    "Topic:        Classification Errors  \n",
    "Date:         07/28/2016  \n",
    "Name:         Avi Grunwald  \n",
    "Worked with:  "
   ]
  },
  {
   "cell_type": "markdown",
   "metadata": {},
   "source": [
    "**Challenge 1**"
   ]
  },
  {
   "cell_type": "code",
   "execution_count": 1,
   "metadata": {
    "collapsed": true
   },
   "outputs": [],
   "source": [
    "import pandas as pd\n",
    "import numpy as np"
   ]
  },
  {
   "cell_type": "code",
   "execution_count": 2,
   "metadata": {
    "collapsed": false
   },
   "outputs": [],
   "source": [
    "house = pd.read_csv('/home/avi/Documents/metis/Projects/Challenges/house-votes-84.data', header=None)"
   ]
  },
  {
   "cell_type": "code",
   "execution_count": 3,
   "metadata": {
    "collapsed": true
   },
   "outputs": [],
   "source": [
    "house.replace(['y', 'n', '?'], [1, 0, np.nan], inplace=True)"
   ]
  },
  {
   "cell_type": "code",
   "execution_count": 4,
   "metadata": {
    "collapsed": false
   },
   "outputs": [],
   "source": [
    "means = [ house[x].mean() for x in house if x!=0 ]\n",
    "means_vote = [ round(house[x].mean()) for x in house if x!=0 ]"
   ]
  },
  {
   "cell_type": "code",
   "execution_count": 5,
   "metadata": {
    "collapsed": false
   },
   "outputs": [],
   "source": [
    "for x in range(1, len(house.columns)):\n",
    "        house[x] = house[x].replace(np.nan, means_vote[x-1])"
   ]
  },
  {
   "cell_type": "code",
   "execution_count": 6,
   "metadata": {
    "collapsed": false
   },
   "outputs": [
    {
     "data": {
      "text/html": [
       "<div>\n",
       "<table border=\"1\" class=\"dataframe\">\n",
       "  <thead>\n",
       "    <tr style=\"text-align: right;\">\n",
       "      <th></th>\n",
       "      <th>0</th>\n",
       "      <th>1</th>\n",
       "      <th>2</th>\n",
       "      <th>3</th>\n",
       "      <th>4</th>\n",
       "      <th>5</th>\n",
       "      <th>6</th>\n",
       "      <th>7</th>\n",
       "      <th>8</th>\n",
       "      <th>9</th>\n",
       "      <th>10</th>\n",
       "      <th>11</th>\n",
       "      <th>12</th>\n",
       "      <th>13</th>\n",
       "      <th>14</th>\n",
       "      <th>15</th>\n",
       "      <th>16</th>\n",
       "    </tr>\n",
       "  </thead>\n",
       "  <tbody>\n",
       "    <tr>\n",
       "      <th>0</th>\n",
       "      <td>republican</td>\n",
       "      <td>0.0</td>\n",
       "      <td>1.0</td>\n",
       "      <td>0.0</td>\n",
       "      <td>1.0</td>\n",
       "      <td>1.0</td>\n",
       "      <td>1.0</td>\n",
       "      <td>0.0</td>\n",
       "      <td>0.0</td>\n",
       "      <td>0.0</td>\n",
       "      <td>1.0</td>\n",
       "      <td>0.0</td>\n",
       "      <td>1.0</td>\n",
       "      <td>1.0</td>\n",
       "      <td>1.0</td>\n",
       "      <td>0.0</td>\n",
       "      <td>1.0</td>\n",
       "    </tr>\n",
       "    <tr>\n",
       "      <th>1</th>\n",
       "      <td>republican</td>\n",
       "      <td>0.0</td>\n",
       "      <td>1.0</td>\n",
       "      <td>0.0</td>\n",
       "      <td>1.0</td>\n",
       "      <td>1.0</td>\n",
       "      <td>1.0</td>\n",
       "      <td>0.0</td>\n",
       "      <td>0.0</td>\n",
       "      <td>0.0</td>\n",
       "      <td>0.0</td>\n",
       "      <td>0.0</td>\n",
       "      <td>1.0</td>\n",
       "      <td>1.0</td>\n",
       "      <td>1.0</td>\n",
       "      <td>0.0</td>\n",
       "      <td>1.0</td>\n",
       "    </tr>\n",
       "    <tr>\n",
       "      <th>2</th>\n",
       "      <td>democrat</td>\n",
       "      <td>0.0</td>\n",
       "      <td>1.0</td>\n",
       "      <td>1.0</td>\n",
       "      <td>0.0</td>\n",
       "      <td>1.0</td>\n",
       "      <td>1.0</td>\n",
       "      <td>0.0</td>\n",
       "      <td>0.0</td>\n",
       "      <td>0.0</td>\n",
       "      <td>0.0</td>\n",
       "      <td>1.0</td>\n",
       "      <td>0.0</td>\n",
       "      <td>1.0</td>\n",
       "      <td>1.0</td>\n",
       "      <td>0.0</td>\n",
       "      <td>0.0</td>\n",
       "    </tr>\n",
       "    <tr>\n",
       "      <th>3</th>\n",
       "      <td>democrat</td>\n",
       "      <td>0.0</td>\n",
       "      <td>1.0</td>\n",
       "      <td>1.0</td>\n",
       "      <td>0.0</td>\n",
       "      <td>1.0</td>\n",
       "      <td>1.0</td>\n",
       "      <td>0.0</td>\n",
       "      <td>0.0</td>\n",
       "      <td>0.0</td>\n",
       "      <td>0.0</td>\n",
       "      <td>1.0</td>\n",
       "      <td>0.0</td>\n",
       "      <td>1.0</td>\n",
       "      <td>0.0</td>\n",
       "      <td>0.0</td>\n",
       "      <td>1.0</td>\n",
       "    </tr>\n",
       "    <tr>\n",
       "      <th>4</th>\n",
       "      <td>democrat</td>\n",
       "      <td>1.0</td>\n",
       "      <td>1.0</td>\n",
       "      <td>1.0</td>\n",
       "      <td>0.0</td>\n",
       "      <td>1.0</td>\n",
       "      <td>1.0</td>\n",
       "      <td>0.0</td>\n",
       "      <td>0.0</td>\n",
       "      <td>0.0</td>\n",
       "      <td>0.0</td>\n",
       "      <td>1.0</td>\n",
       "      <td>0.0</td>\n",
       "      <td>1.0</td>\n",
       "      <td>1.0</td>\n",
       "      <td>1.0</td>\n",
       "      <td>1.0</td>\n",
       "    </tr>\n",
       "  </tbody>\n",
       "</table>\n",
       "</div>"
      ],
      "text/plain": [
       "           0    1    2    3    4    5    6    7    8    9    10   11   12  \\\n",
       "0  republican  0.0  1.0  0.0  1.0  1.0  1.0  0.0  0.0  0.0  1.0  0.0  1.0   \n",
       "1  republican  0.0  1.0  0.0  1.0  1.0  1.0  0.0  0.0  0.0  0.0  0.0  1.0   \n",
       "2    democrat  0.0  1.0  1.0  0.0  1.0  1.0  0.0  0.0  0.0  0.0  1.0  0.0   \n",
       "3    democrat  0.0  1.0  1.0  0.0  1.0  1.0  0.0  0.0  0.0  0.0  1.0  0.0   \n",
       "4    democrat  1.0  1.0  1.0  0.0  1.0  1.0  0.0  0.0  0.0  0.0  1.0  0.0   \n",
       "\n",
       "    13   14   15   16  \n",
       "0  1.0  1.0  0.0  1.0  \n",
       "1  1.0  1.0  0.0  1.0  \n",
       "2  1.0  1.0  0.0  0.0  \n",
       "3  1.0  0.0  0.0  1.0  \n",
       "4  1.0  1.0  1.0  1.0  "
      ]
     },
     "execution_count": 6,
     "metadata": {},
     "output_type": "execute_result"
    }
   ],
   "source": [
    "house.head()"
   ]
  },
  {
   "cell_type": "code",
   "execution_count": 7,
   "metadata": {
    "collapsed": true
   },
   "outputs": [],
   "source": [
    "parties = house[0].replace(['republican', 'democrat'], [0, 1])"
   ]
  },
  {
   "cell_type": "code",
   "execution_count": 8,
   "metadata": {
    "collapsed": false
   },
   "outputs": [],
   "source": [
    "from sklearn.cross_validation import train_test_split\n",
    "\n",
    "X = house.iloc[:,1:]\n",
    "y = parties\n",
    "\n",
    "x_train, x_test, y_train, y_test = train_test_split(X, y, test_size=.30, random_state=4444)"
   ]
  },
  {
   "cell_type": "code",
   "execution_count": 30,
   "metadata": {
    "collapsed": true
   },
   "outputs": [],
   "source": [
    "from sklearn.metrics import accuracy_score, precision_score, recall_score, f1_score, roc_curve, auc"
   ]
  },
  {
   "cell_type": "code",
   "execution_count": 17,
   "metadata": {
    "collapsed": false
   },
   "outputs": [],
   "source": [
    "from sklearn.neighbors import KNeighborsClassifier\n",
    "\n",
    "k_accs = []\n",
    "k_just_accs = []\n",
    "\n",
    "for i in range(1,21):\n",
    "    neigh = KNeighborsClassifier(n_neighbors=i)\n",
    "    neigh.fit(x_train, y_train)\n",
    "    k_just_accs.append(accuracy_score(y_test, neigh.predict(x_test)))\n",
    "    k_accs.append( [i, accuracy_score(y_test, neigh.predict(x_test))] )"
   ]
  },
  {
   "cell_type": "code",
   "execution_count": 11,
   "metadata": {
    "collapsed": false
   },
   "outputs": [
    {
     "data": {
      "text/plain": [
       "[4, 0.92366412213740456]"
      ]
     },
     "execution_count": 11,
     "metadata": {},
     "output_type": "execute_result"
    }
   ],
   "source": [
    "max(k_accs, key=lambda x: x[1])"
   ]
  },
  {
   "cell_type": "code",
   "execution_count": 20,
   "metadata": {
    "collapsed": false
   },
   "outputs": [
    {
     "name": "stdout",
     "output_type": "stream",
     "text": [
      "Accuracy Score: 0.9236641221374046\n",
      "Precision Score: 0.935064935064935\n",
      "Recall Score: 0.935064935064935\n",
      "F1 Score: 0.935064935064935\n"
     ]
    }
   ],
   "source": [
    "neigh = KNeighborsClassifier(n_neighbors=4)\n",
    "neigh.fit(x_train, y_train)\n",
    "print ('Accuracy Score: {}'.format(accuracy_score(y_test, neigh.predict(x_test))))\n",
    "print ('Precision Score: {}'.format(precision_score(y_test, neigh.predict(x_test))))\n",
    "print ('Recall Score: {}'.format(recall_score(y_test, neigh.predict(x_test))))\n",
    "print ('F1 Score: {}'.format(f1_score(y_test, neigh.predict(x_test))))"
   ]
  },
  {
   "cell_type": "code",
   "execution_count": 21,
   "metadata": {
    "collapsed": false
   },
   "outputs": [
    {
     "name": "stdout",
     "output_type": "stream",
     "text": [
      "Accuracy Score: 0.9389312977099237\n",
      "Precision Score: 0.9259259259259259\n",
      "Recall Score: 0.974025974025974\n",
      "F1 Score: 0.949367088607595\n"
     ]
    }
   ],
   "source": [
    "from sklearn.linear_model import LogisticRegression\n",
    "logreg = LogisticRegression()\n",
    "logreg.fit(x_train, y_train)\n",
    "log_acc = accuracy_score(y_test, logreg.predict(x_test))\n",
    "\n",
    "mod = logreg\n",
    "print ('Accuracy Score: {}'.format(accuracy_score(y_test, mod.predict(x_test))))\n",
    "print ('Precision Score: {}'.format(precision_score(y_test, mod.predict(x_test))))\n",
    "print ('Recall Score: {}'.format(recall_score(y_test, mod.predict(x_test))))\n",
    "print ('F1 Score: {}'.format(f1_score(y_test, mod.predict(x_test))))"
   ]
  },
  {
   "cell_type": "code",
   "execution_count": 22,
   "metadata": {
    "collapsed": false
   },
   "outputs": [
    {
     "name": "stdout",
     "output_type": "stream",
     "text": [
      "Accuracy Score: 0.9389312977099237\n",
      "Precision Score: 0.9259259259259259\n",
      "Recall Score: 0.974025974025974\n",
      "F1 Score: 0.949367088607595\n"
     ]
    }
   ],
   "source": [
    "from sklearn.naive_bayes import GaussianNB\n",
    "nb = GaussianNB()\n",
    "nb.fit(x_train, y_train)\n",
    "\n",
    "mod = nb\n",
    "print ('Accuracy Score: {}'.format(accuracy_score(y_test, mod.predict(x_test))))\n",
    "print ('Precision Score: {}'.format(precision_score(y_test, mod.predict(x_test))))\n",
    "print ('Recall Score: {}'.format(recall_score(y_test, mod.predict(x_test))))\n",
    "print ('F1 Score: {}'.format(f1_score(y_test, mod.predict(x_test))))"
   ]
  },
  {
   "cell_type": "code",
   "execution_count": 23,
   "metadata": {
    "collapsed": false
   },
   "outputs": [
    {
     "name": "stdout",
     "output_type": "stream",
     "text": [
      "Accuracy Score: 0.9541984732824428\n",
      "Precision Score: 0.9493670886075949\n",
      "Recall Score: 0.974025974025974\n",
      "F1 Score: 0.9615384615384615\n"
     ]
    }
   ],
   "source": [
    "from sklearn.svm import SVC\n",
    "svc = SVC()\n",
    "svc.fit(x_train, y_train)\n",
    "\n",
    "mod = svc\n",
    "print ('Accuracy Score: {}'.format(accuracy_score(y_test, mod.predict(x_test))))\n",
    "print ('Precision Score: {}'.format(precision_score(y_test, mod.predict(x_test))))\n",
    "print ('Recall Score: {}'.format(recall_score(y_test, mod.predict(x_test))))\n",
    "print ('F1 Score: {}'.format(f1_score(y_test, mod.predict(x_test))))"
   ]
  },
  {
   "cell_type": "code",
   "execution_count": 24,
   "metadata": {
    "collapsed": false
   },
   "outputs": [
    {
     "name": "stdout",
     "output_type": "stream",
     "text": [
      "Accuracy Score: 0.9389312977099237\n",
      "Precision Score: 0.948051948051948\n",
      "Recall Score: 0.948051948051948\n",
      "F1 Score: 0.948051948051948\n"
     ]
    }
   ],
   "source": [
    "from sklearn.tree import DecisionTreeClassifier\n",
    "dtc = DecisionTreeClassifier()\n",
    "dtc.fit(x_train, y_train)\n",
    "\n",
    "mod = dtc\n",
    "print ('Accuracy Score: {}'.format(accuracy_score(y_test, mod.predict(x_test))))\n",
    "print ('Precision Score: {}'.format(precision_score(y_test, mod.predict(x_test))))\n",
    "print ('Recall Score: {}'.format(recall_score(y_test, mod.predict(x_test))))\n",
    "print ('F1 Score: {}'.format(f1_score(y_test, mod.predict(x_test))))"
   ]
  },
  {
   "cell_type": "code",
   "execution_count": 25,
   "metadata": {
    "collapsed": false
   },
   "outputs": [
    {
     "name": "stdout",
     "output_type": "stream",
     "text": [
      "Accuracy Score: 0.9541984732824428\n",
      "Precision Score: 0.9382716049382716\n",
      "Recall Score: 0.987012987012987\n",
      "F1 Score: 0.9620253164556961\n"
     ]
    }
   ],
   "source": [
    "from sklearn.ensemble import RandomForestClassifier\n",
    "rfc = RandomForestClassifier()\n",
    "rfc.fit(x_train, y_train)\n",
    "\n",
    "mod = rfc\n",
    "print ('Accuracy Score: {}'.format(accuracy_score(y_test, mod.predict(x_test))))\n",
    "print ('Precision Score: {}'.format(precision_score(y_test, mod.predict(x_test))))\n",
    "print ('Recall Score: {}'.format(recall_score(y_test, mod.predict(x_test))))\n",
    "print ('F1 Score: {}'.format(f1_score(y_test, mod.predict(x_test))))"
   ]
  },
  {
   "cell_type": "markdown",
   "metadata": {},
   "source": [
    "**Challenge 2**"
   ]
  },
  {
   "cell_type": "code",
   "execution_count": 29,
   "metadata": {
    "collapsed": false
   },
   "outputs": [
    {
     "data": {
      "image/png": "[encoded data removed]",
      "text/plain": [
       "<matplotlib.figure.Figure at 0x7f7615c42400>"
      ]
     },
     "metadata": {},
     "output_type": "display_data"
    }
   ],
   "source": [
    "false_positive_rate, true_positive_rate, thresholds = roc_curve(y_test, neigh.predict(x_test))\n",
    "roc_auc = auc(false_positive_rate, true_positive_rate)\n",
    "\n",
    "plt.title('Receiver Operating Characteristic for KNN')\n",
    "plt.plot(false_positive_rate, true_positive_rate, 'b',\n",
    "label='AUC = %0.2f'% roc_auc)\n",
    "plt.legend(loc='lower right')\n",
    "plt.ylabel('True Positive Rate')\n",
    "plt.xlabel('False Positive Rate')\n",
    "plt.show()"
   ]
  },
  {
   "cell_type": "code",
   "execution_count": 31,
   "metadata": {
    "collapsed": false
   },
   "outputs": [
    {
     "data": {
      "image/png": "[encoded data removed]",
      "text/plain": [
       "<matplotlib.figure.Figure at 0x7f7615edd588>"
      ]
     },
     "metadata": {},
     "output_type": "display_data"
    }
   ],
   "source": [
    "false_positive_rate, true_positive_rate, thresholds = roc_curve(y_test, logreg.predict(x_test))\n",
    "roc_auc = auc(false_positive_rate, true_positive_rate)\n",
    "\n",
    "plt.title('Receiver Operating Characteristic for Logistic Regression')\n",
    "plt.plot(false_positive_rate, true_positive_rate, 'b',\n",
    "label='AUC = %0.2f'% roc_auc)\n",
    "plt.legend(loc='lower right')\n",
    "plt.ylabel('True Positive Rate')\n",
    "plt.xlabel('False Positive Rate')\n",
    "plt.show()"
   ]
  },
  {
   "cell_type": "code",
   "execution_count": 32,
   "metadata": {
    "collapsed": false
   },
   "outputs": [
    {
     "data": {
      "image/png": "[encoded data removed]",
      "text/plain": [
       "<matplotlib.figure.Figure at 0x7f7618c340b8>"
      ]
     },
     "metadata": {},
     "output_type": "display_data"
    }
   ],
   "source": [
    "false_positive_rate, true_positive_rate, thresholds = roc_curve(y_test, nb.predict(x_test))\n",
    "roc_auc = auc(false_positive_rate, true_positive_rate)\n",
    "\n",
    "plt.title('Receiver Operating Characteristic for Naive Bayes')\n",
    "plt.plot(false_positive_rate, true_positive_rate, 'b',\n",
    "label='AUC = %0.2f'% roc_auc)\n",
    "plt.legend(loc='lower right')\n",
    "plt.ylabel('True Positive Rate')\n",
    "plt.xlabel('False Positive Rate')\n",
    "plt.show()"
   ]
  },
  {
   "cell_type": "code",
   "execution_count": 33,
   "metadata": {
    "collapsed": false
   },
   "outputs": [
    {
     "data": {
      "image/png": "[encoded data removed]",
      "text/plain": [
       "<matplotlib.figure.Figure at 0x7f7615c7f320>"
      ]
     },
     "metadata": {},
     "output_type": "display_data"
    }
   ],
   "source": [
    "false_positive_rate, true_positive_rate, thresholds = roc_curve(y_test, svc.predict(x_test))\n",
    "roc_auc = auc(false_positive_rate, true_positive_rate)\n",
    "\n",
    "plt.title('Receiver Operating Characteristic for SVC')\n",
    "plt.plot(false_positive_rate, true_positive_rate, 'b',\n",
    "label='AUC = %0.2f'% roc_auc)\n",
    "plt.legend(loc='lower right')\n",
    "plt.ylabel('True Positive Rate')\n",
    "plt.xlabel('False Positive Rate')\n",
    "plt.show()"
   ]
  },
  {
   "cell_type": "code",
   "execution_count": 34,
   "metadata": {
    "collapsed": false
   },
   "outputs": [
    {
     "data": {
      "image/png": "[encoded data removed]",
      "text/plain": [
       "<matplotlib.figure.Figure at 0x7f7615bc90f0>"
      ]
     },
     "metadata": {},
     "output_type": "display_data"
    }
   ],
   "source": [
    "false_positive_rate, true_positive_rate, thresholds = roc_curve(y_test, dtc.predict(x_test))\n",
    "roc_auc = auc(false_positive_rate, true_positive_rate)\n",
    "\n",
    "plt.title('Receiver Operating Characteristic for Decision Tree')\n",
    "plt.plot(false_positive_rate, true_positive_rate, 'b',\n",
    "label='AUC = %0.2f'% roc_auc)\n",
    "plt.legend(loc='lower right')\n",
    "plt.ylabel('True Positive Rate')\n",
    "plt.xlabel('False Positive Rate')\n",
    "plt.show()"
   ]
  },
  {
   "cell_type": "code",
   "execution_count": 35,
   "metadata": {
    "collapsed": false
   },
   "outputs": [
    {
     "data": {
      "image/png": "[encoded data removed]",
      "text/plain": [
       "<matplotlib.figure.Figure at 0x7f7615ae9240>"
      ]
     },
     "metadata": {},
     "output_type": "display_data"
    }
   ],
   "source": [
    "false_positive_rate, true_positive_rate, thresholds = roc_curve(y_test, rfc.predict(x_test))\n",
    "roc_auc = auc(false_positive_rate, true_positive_rate)\n",
    "\n",
    "plt.title('Receiver Operating Characteristic for Random Forest')\n",
    "plt.plot(false_positive_rate, true_positive_rate, 'b',\n",
    "label='AUC = %0.2f'% roc_auc)\n",
    "plt.legend(loc='lower right')\n",
    "plt.ylabel('True Positive Rate')\n",
    "plt.xlabel('False Positive Rate')\n",
    "plt.show()"
   ]
  },
  {
   "cell_type": "markdown",
   "metadata": {},
   "source": [
    "All models variables = neigh, logreg, nb, svc, dtc, rfc"
   ]
  },
  {
   "cell_type": "markdown",
   "metadata": {},
   "source": [
    "**Challenge 3**"
   ]
  },
  {
   "cell_type": "code",
   "execution_count": 43,
   "metadata": {
    "collapsed": false
   },
   "outputs": [
    {
     "name": "stdout",
     "output_type": "stream",
     "text": [
      "neigh Accuracy: 0.9057471264367815\n",
      "neigh Recall: 0.8913857677902621\n",
      "neigh Precision: 0.952060512841831\n",
      "neigh F1: 0.9203638365488076\n",
      "\n",
      "logreg Accuracy: 0.960919540229885\n",
      "logreg Recall: 0.9700374531835205\n",
      "logreg Precision: 0.9668283083842857\n",
      "logreg F1: 0.9680987263341337\n",
      "\n",
      "nb Accuracy: 0.9264367816091954\n",
      "nb Recall: 0.9400749063670412\n",
      "nb Precision: 0.9407769163925033\n",
      "nb F1: 0.9399341271624247\n",
      "\n",
      "svc Accuracy: 0.9563218390804598\n",
      "svc Recall: 0.947565543071161\n",
      "svc Precision: 0.9808675866688926\n",
      "svc F1: 0.9636444277189398\n",
      "\n",
      "dtc Accuracy: 0.9402298850574713\n",
      "dtc Recall: 0.9250936329588014\n",
      "dtc Precision: 0.9725829725829725\n",
      "dtc F1: 0.9396713859996985\n",
      "\n",
      "rfc Accuracy: 0.9540229885057472\n",
      "rfc Recall: 0.947565543071161\n",
      "rfc Precision: 0.9806979720727242\n",
      "rfc F1: 0.9657695322707082\n",
      "\n"
     ]
    }
   ],
   "source": [
    "from sklearn.cross_validation import cross_val_score\n",
    "\n",
    "for mod in ['neigh', 'logreg', 'nb', 'svc', 'dtc', 'rfc']:\n",
    "    print ('{} Accuracy: {}'.format(mod, np.mean(cross_val_score(eval(mod), X, y, scoring='accuracy'))) )\n",
    "    print ('{} Recall: {}'.format(mod, np.mean(cross_val_score(eval(mod), X, y, scoring='recall'))) )\n",
    "    print ('{} Precision: {}'.format(mod, np.mean(cross_val_score(eval(mod), X, y, scoring='precision'))) )\n",
    "    print ('{} F1: {}'.format(mod, np.mean(cross_val_score(eval(mod), X, y, scoring='f1'))) )\n",
    "    print ('')\n",
    "\n",
    "# print ('LR: {}'.format(np.mean(cross_val_score(nb, X, y, scoring='recall'))) )\n",
    "# print ('NP: {}'.format(np.mean(cross_val_score(nb, X, y, scoring='recall'))) )\n",
    "# print ('SVC: {}'.format(np.mean(cross_val_score(svc, X, y))) )\n",
    "# print ('DTC: {}'.format(np.mean(cross_val_score(dtc, X, y))) )\n",
    "# print ('RFC: {}'.format(np.mean(cross_val_score(rfc, X, y))) )"
   ]
  },
  {
   "cell_type": "markdown",
   "metadata": {},
   "source": [
    "**Challenge 4**"
   ]
  },
  {
   "cell_type": "code",
   "execution_count": 52,
   "metadata": {
    "collapsed": false
   },
   "outputs": [
    {
     "data": {
      "text/html": [
       "<div>\n",
       "<table border=\"1\" class=\"dataframe\">\n",
       "  <thead>\n",
       "    <tr style=\"text-align: right;\">\n",
       "      <th></th>\n",
       "      <th>title</th>\n",
       "      <th>dtg</th>\n",
       "      <th>dist</th>\n",
       "      <th>rd</th>\n",
       "      <th>run</th>\n",
       "      <th>rating</th>\n",
       "      <th>pb</th>\n",
       "      <th>owg</th>\n",
       "      <th>owt</th>\n",
       "      <th>act</th>\n",
       "      <th>series</th>\n",
       "      <th>rdm</th>\n",
       "      <th>rdy</th>\n",
       "    </tr>\n",
       "  </thead>\n",
       "  <tbody>\n",
       "    <tr>\n",
       "      <th>0</th>\n",
       "      <td>Star Wars: The Force Awakens</td>\n",
       "      <td>936662225</td>\n",
       "      <td>Buena Vista</td>\n",
       "      <td>2015-12-18</td>\n",
       "      <td>136</td>\n",
       "      <td>PG-13</td>\n",
       "      <td>$245 million</td>\n",
       "      <td>247966675</td>\n",
       "      <td>4,134</td>\n",
       "      <td>15</td>\n",
       "      <td>Yes</td>\n",
       "      <td>December</td>\n",
       "      <td>2015</td>\n",
       "    </tr>\n",
       "    <tr>\n",
       "      <th>1</th>\n",
       "      <td>Marvel's The Avengers</td>\n",
       "      <td>623357910</td>\n",
       "      <td>Buena Vista</td>\n",
       "      <td>2012-05-04</td>\n",
       "      <td>142</td>\n",
       "      <td>PG-13</td>\n",
       "      <td>$220 million</td>\n",
       "      <td>207438708</td>\n",
       "      <td>4,349</td>\n",
       "      <td>13</td>\n",
       "      <td>Yes</td>\n",
       "      <td>May</td>\n",
       "      <td>2012</td>\n",
       "    </tr>\n",
       "    <tr>\n",
       "      <th>2</th>\n",
       "      <td>Jurassic World</td>\n",
       "      <td>652270625</td>\n",
       "      <td>Universal</td>\n",
       "      <td>2015-06-12</td>\n",
       "      <td>124</td>\n",
       "      <td>PG-13</td>\n",
       "      <td>$150 million</td>\n",
       "      <td>208806270</td>\n",
       "      <td>4,274</td>\n",
       "      <td>7</td>\n",
       "      <td>Yes</td>\n",
       "      <td>June</td>\n",
       "      <td>2015</td>\n",
       "    </tr>\n",
       "    <tr>\n",
       "      <th>3</th>\n",
       "      <td>Avengers: Age of Ultron</td>\n",
       "      <td>459005868</td>\n",
       "      <td>Buena Vista</td>\n",
       "      <td>2015-05-01</td>\n",
       "      <td>141</td>\n",
       "      <td>PG-13</td>\n",
       "      <td>$250 million</td>\n",
       "      <td>191271109</td>\n",
       "      <td>4,276</td>\n",
       "      <td>19</td>\n",
       "      <td>Yes</td>\n",
       "      <td>May</td>\n",
       "      <td>2015</td>\n",
       "    </tr>\n",
       "    <tr>\n",
       "      <th>4</th>\n",
       "      <td>The Dark Knight</td>\n",
       "      <td>533345358</td>\n",
       "      <td>Warner Bros.</td>\n",
       "      <td>2008-07-18</td>\n",
       "      <td>150</td>\n",
       "      <td>PG-13</td>\n",
       "      <td>$185 million</td>\n",
       "      <td>158411483</td>\n",
       "      <td>4,366</td>\n",
       "      <td>11</td>\n",
       "      <td>Yes</td>\n",
       "      <td>July</td>\n",
       "      <td>2008</td>\n",
       "    </tr>\n",
       "  </tbody>\n",
       "</table>\n",
       "</div>"
      ],
      "text/plain": [
       "                          title        dtg          dist         rd  run  \\\n",
       "0  Star Wars: The Force Awakens  936662225   Buena Vista 2015-12-18  136   \n",
       "1         Marvel's The Avengers  623357910   Buena Vista 2012-05-04  142   \n",
       "2                Jurassic World  652270625     Universal 2015-06-12  124   \n",
       "3       Avengers: Age of Ultron  459005868   Buena Vista 2015-05-01  141   \n",
       "4               The Dark Knight  533345358  Warner Bros. 2008-07-18  150   \n",
       "\n",
       "  rating            pb        owg    owt  act series       rdm   rdy  \n",
       "0  PG-13  $245 million  247966675  4,134   15    Yes  December  2015  \n",
       "1  PG-13  $220 million  207438708  4,349   13    Yes       May  2012  \n",
       "2  PG-13  $150 million  208806270  4,274    7    Yes      June  2015  \n",
       "3  PG-13  $250 million  191271109  4,276   19    Yes       May  2015  \n",
       "4  PG-13  $185 million  158411483  4,366   11    Yes      July  2008  "
      ]
     },
     "execution_count": 52,
     "metadata": {},
     "output_type": "execute_result"
    }
   ],
   "source": [
    "from datetime import datetime\n",
    "\n",
    "data_start = pd.read_csv('movies_list_all_df.csv', index_col=0)\n",
    "movie_data = pd.read_csv('2013_movies.csv')\n",
    "                        \n",
    "data_start['rdm'] = data_start['Release Date'].apply(lambda x: datetime.strptime(x, '%B %d, %Y').strftime('%B'))\n",
    "data_start['rdy'] = data_start['Release Date'].apply(lambda x: datetime.strptime(x, '%B %d, %Y').strftime('%Y'))\n",
    "data_start['Release Date'] = data_start['Release Date'].apply(lambda x: datetime.strptime(x, '%B %d, %Y'))\n",
    "# data_start['rd'] = pd.to_datetime(data_start.rd)\n",
    "\n",
    "data_start['Domestic Total Gross'] = data_start['Domestic Total Gross'].apply(lambda x: int(''.join([i for i in x if i.isnumeric()])))\n",
    "data_start['Opening Weekend Gross'] = data_start['Opening Weekend Gross'].apply(lambda x: int(''.join([i for i in x if i.isnumeric()])))\n",
    "\n",
    "data_start['Runtime'].fillna(value='0 hrs. 0 min.', inplace=True)\n",
    "data_start['Runtime'] = data_start['Runtime'].str.replace(' min.', '').str.split(' hrs. ').apply(lambda x: int(x[0]) * 60 + int(x[1]))\n",
    "data_start = data_start[data_start['Runtime']!=0]\n",
    "                         \n",
    "data_start.columns = [ 'title', 'dtg', 'dist', 'rd', 'run', 'rating', 'pb', 'owg', 'owt', 'act', 'series', 'rdm', 'rdy']\n",
    "data_start.head()"
   ]
  },
  {
   "cell_type": "code",
   "execution_count": 54,
   "metadata": {
    "collapsed": false
   },
   "outputs": [],
   "source": [
    "from patsy import dmatrices\n",
    "\n",
    "y, X = dmatrices('series ~ dtg + run + rating + owg + act + rdm + rdy', data=data_start, return_type='dataframe')"
   ]
  },
  {
   "cell_type": "code",
   "execution_count": 55,
   "metadata": {
    "collapsed": true
   },
   "outputs": [],
   "source": [
    "x_train, x_test, y_train, y_test = train_test_split(X, y['series[Yes]'], test_size=.30, random_state=4444)"
   ]
  },
  {
   "cell_type": "code",
   "execution_count": 56,
   "metadata": {
    "collapsed": true
   },
   "outputs": [],
   "source": [
    "series_accs = []\n",
    "series_just_accs = []\n",
    "\n",
    "for i in range(1,21):\n",
    "    knn = KNeighborsClassifier(n_neighbors=i)\n",
    "    knn.fit(x_train, y_train)\n",
    "    series_just_accs.append(accuracy_score(y_test, knn.predict(x_test)))\n",
    "    series_accs.append( [i, accuracy_score(y_test, knn.predict(x_test))] )"
   ]
  },
  {
   "cell_type": "code",
   "execution_count": 57,
   "metadata": {
    "collapsed": false
   },
   "outputs": [
    {
     "data": {
      "text/plain": [
       "[15, 0.88777698355968548]"
      ]
     },
     "execution_count": 57,
     "metadata": {},
     "output_type": "execute_result"
    }
   ],
   "source": [
    "max(series_accs, key=lambda x: x[1])"
   ]
  },
  {
   "cell_type": "code",
   "execution_count": 58,
   "metadata": {
    "collapsed": false
   },
   "outputs": [
    {
     "data": {
      "image/png": "[encoded data removed]",
      "text/plain": [
       "<matplotlib.figure.Figure at 0x7f76159b19b0>"
      ]
     },
     "metadata": {},
     "output_type": "display_data"
    }
   ],
   "source": [
    "plt.plot(range(1,21), series_just_accs)\n",
    "plt.show()"
   ]
  },
  {
   "cell_type": "code",
   "execution_count": 59,
   "metadata": {
    "collapsed": false
   },
   "outputs": [
    {
     "name": "stdout",
     "output_type": "stream",
     "text": [
      "KNN: 0.8676533676533676\n"
     ]
    }
   ],
   "source": [
    "print ('KNN: {}'.format(np.mean(cross_val_score(knn, X, y))) )"
   ]
  },
  {
   "cell_type": "code",
   "execution_count": 61,
   "metadata": {
    "collapsed": false
   },
   "outputs": [
    {
     "data": {
      "text/plain": [
       "0.83059328091493922"
      ]
     },
     "execution_count": 61,
     "metadata": {},
     "output_type": "execute_result"
    }
   ],
   "source": [
    "logreg = LogisticRegression()\n",
    "logreg.fit(x_train, y_train)\n",
    "accuracy_score(y_test, logreg.predict(x_test))"
   ]
  },
  {
   "cell_type": "code",
   "execution_count": 62,
   "metadata": {
    "collapsed": false
   },
   "outputs": [
    {
     "data": {
      "text/plain": [
       "0.87062187276626157"
      ]
     },
     "execution_count": 62,
     "metadata": {},
     "output_type": "execute_result"
    }
   ],
   "source": [
    "# Baseline if just predicted always not a series\n",
    "accuracy_score(y_test, [0 for x in y_test ])"
   ]
  },
  {
   "cell_type": "code",
   "execution_count": 67,
   "metadata": {
    "collapsed": false
   },
   "outputs": [
    {
     "name": "stdout",
     "output_type": "stream",
     "text": [
      "knn\n",
      "Accuracy Score: 0.8827734095782702\n",
      "Precision Score: 0.6231884057971014\n",
      "Recall Score: 0.23756906077348067\n",
      "F1 Score: 0.34400000000000003\n",
      "\n",
      "logreg\n",
      "Accuracy Score: 0.8305932809149392\n",
      "Precision Score: 0.07575757575757576\n",
      "Recall Score: 0.027624309392265192\n",
      "F1 Score: 0.040485829959514164\n",
      "\n"
     ]
    }
   ],
   "source": [
    "for mod in ['knn', 'logreg']:\n",
    "    print (mod)\n",
    "    print ('Accuracy Score: {}'.format(accuracy_score(y_test, eval(mod).predict(x_test))))\n",
    "    print ('Precision Score: {}'.format(precision_score(y_test, eval(mod).predict(x_test))))\n",
    "    print ('Recall Score: {}'.format(recall_score(y_test, eval(mod).predict(x_test))))\n",
    "    print ('F1 Score: {}'.format(f1_score(y_test, eval(mod).predict(x_test))))\n",
    "    print ()"
   ]
  },
  {
   "cell_type": "markdown",
   "metadata": {},
   "source": [
    "**Challenge 5**"
   ]
  },
  {
   "cell_type": "code",
   "execution_count": 44,
   "metadata": {
    "collapsed": true
   },
   "outputs": [],
   "source": [
    "surgery = pd.read_csv('/home/avi/Documents/metis/Projects/Challenges/haberman.data', header=None)\n",
    "surgery.columns = ['age', 'yr_op', 'pos_nodes', 'status']"
   ]
  },
  {
   "cell_type": "code",
   "execution_count": 45,
   "metadata": {
    "collapsed": false,
    "scrolled": true
   },
   "outputs": [
    {
     "data": {
      "text/html": [
       "<div>\n",
       "<table border=\"1\" class=\"dataframe\">\n",
       "  <thead>\n",
       "    <tr style=\"text-align: right;\">\n",
       "      <th></th>\n",
       "      <th>age</th>\n",
       "      <th>yr_op</th>\n",
       "      <th>pos_nodes</th>\n",
       "      <th>status</th>\n",
       "    </tr>\n",
       "  </thead>\n",
       "  <tbody>\n",
       "    <tr>\n",
       "      <th>count</th>\n",
       "      <td>306.000000</td>\n",
       "      <td>306.000000</td>\n",
       "      <td>306.000000</td>\n",
       "      <td>306.000000</td>\n",
       "    </tr>\n",
       "    <tr>\n",
       "      <th>mean</th>\n",
       "      <td>52.457516</td>\n",
       "      <td>62.852941</td>\n",
       "      <td>4.026144</td>\n",
       "      <td>1.264706</td>\n",
       "    </tr>\n",
       "    <tr>\n",
       "      <th>std</th>\n",
       "      <td>10.803452</td>\n",
       "      <td>3.249405</td>\n",
       "      <td>7.189654</td>\n",
       "      <td>0.441899</td>\n",
       "    </tr>\n",
       "    <tr>\n",
       "      <th>min</th>\n",
       "      <td>30.000000</td>\n",
       "      <td>58.000000</td>\n",
       "      <td>0.000000</td>\n",
       "      <td>1.000000</td>\n",
       "    </tr>\n",
       "    <tr>\n",
       "      <th>25%</th>\n",
       "      <td>44.000000</td>\n",
       "      <td>60.000000</td>\n",
       "      <td>0.000000</td>\n",
       "      <td>1.000000</td>\n",
       "    </tr>\n",
       "    <tr>\n",
       "      <th>50%</th>\n",
       "      <td>52.000000</td>\n",
       "      <td>63.000000</td>\n",
       "      <td>1.000000</td>\n",
       "      <td>1.000000</td>\n",
       "    </tr>\n",
       "    <tr>\n",
       "      <th>75%</th>\n",
       "      <td>60.750000</td>\n",
       "      <td>65.750000</td>\n",
       "      <td>4.000000</td>\n",
       "      <td>2.000000</td>\n",
       "    </tr>\n",
       "    <tr>\n",
       "      <th>max</th>\n",
       "      <td>83.000000</td>\n",
       "      <td>69.000000</td>\n",
       "      <td>52.000000</td>\n",
       "      <td>2.000000</td>\n",
       "    </tr>\n",
       "  </tbody>\n",
       "</table>\n",
       "</div>"
      ],
      "text/plain": [
       "              age       yr_op   pos_nodes      status\n",
       "count  306.000000  306.000000  306.000000  306.000000\n",
       "mean    52.457516   62.852941    4.026144    1.264706\n",
       "std     10.803452    3.249405    7.189654    0.441899\n",
       "min     30.000000   58.000000    0.000000    1.000000\n",
       "25%     44.000000   60.000000    0.000000    1.000000\n",
       "50%     52.000000   63.000000    1.000000    1.000000\n",
       "75%     60.750000   65.750000    4.000000    2.000000\n",
       "max     83.000000   69.000000   52.000000    2.000000"
      ]
     },
     "execution_count": 45,
     "metadata": {},
     "output_type": "execute_result"
    }
   ],
   "source": [
    "surgery.describe()"
   ]
  },
  {
   "cell_type": "code",
   "execution_count": 68,
   "metadata": {
    "collapsed": false
   },
   "outputs": [
    {
     "data": {
      "image/png": "[encoded data removed]",
      "text/plain": [
       "<matplotlib.figure.Figure at 0x7f7614dc8c18>"
      ]
     },
     "metadata": {},
     "output_type": "display_data"
    }
   ],
   "source": [
    "import seaborn as sns\n",
    "fig, (ax1, ax2) = plt.subplots(1, 2, sharey=False)\n",
    "sns.distplot(surgery.age, ax=ax1)\n",
    "ax1.set_title('Age')\n",
    "sns.distplot(surgery.pos_nodes, ax=ax2)\n",
    "ax2.set_title('Positive Nodes')\n",
    "plt.show()"
   ]
  },
  {
   "cell_type": "code",
   "execution_count": 49,
   "metadata": {
    "collapsed": false
   },
   "outputs": [
    {
     "name": "stdout",
     "output_type": "stream",
     "text": [
      "Accuracy Score: 0.8152173913043478\n"
     ]
    }
   ],
   "source": [
    "# y, X = dmatrices('status ~ age + pos_nodes', data=surgery, return_type='dataframe')\n",
    "X = surgery.iloc[:,:3]\n",
    "y = surgery.status.values\n",
    "\n",
    "x_train, x_test, y_train, y_test = train_test_split(X, y, test_size=.30, random_state=4444)\n",
    "\n",
    "logreg = LogisticRegression()\n",
    "logreg.fit(x_train, y_train)\n",
    "print ('Accuracy Score: {}'.format(accuracy_score(y_test, logreg.predict(x_test))))"
   ]
  },
  {
   "cell_type": "code",
   "execution_count": 168,
   "metadata": {
    "collapsed": false
   },
   "outputs": [
    {
     "data": {
      "image/png": "[encoded data removed]",
      "text/plain": [
       "<matplotlib.figure.Figure at 0x7f551e43e9e8>"
      ]
     },
     "metadata": {},
     "output_type": "display_data"
    }
   ],
   "source": [
    "from sklearn.learning_curve import learning_curve\n",
    "\n",
    "train_sizes, train_scores, test_scores = learning_curve(\n",
    "    logreg, X, y, cv=5, n_jobs=1)\n",
    "\n",
    "train_cv_scores = np.mean(train_scores, axis=1)\n",
    "test_cv_scores = np.mean(test_scores, axis=1)\n",
    "\n",
    "plt.plot(train_sizes, train_cv_scores, label='Train')\n",
    "plt.plot(train_sizes, test_cv_scores, label='Test')\n",
    "plt.legend()\n",
    "plt.show()"
   ]
  },
  {
   "cell_type": "markdown",
   "metadata": {},
   "source": [
    "ROC Curve and AUC"
   ]
  },
  {
   "cell_type": "code",
   "execution_count": 51,
   "metadata": {
    "collapsed": false
   },
   "outputs": [
    {
     "data": {
      "image/png": "[encoded data removed]",
      "text/plain": [
       "<matplotlib.figure.Figure at 0x7f7614e46d68>"
      ]
     },
     "metadata": {},
     "output_type": "display_data"
    }
   ],
   "source": [
    "from sklearn.preprocessing import LabelBinarizer\n",
    "\n",
    "lb = LabelBinarizer()\n",
    "\n",
    "X = surgery.iloc[:,:3]\n",
    "y = surgery.status.values\n",
    "\n",
    "x_train, x_test, y_train, y_test = train_test_split(X, y, test_size=.30, random_state=4444)\n",
    "y_train = np.array([number[0] for number in lb.fit_transform(y_train)])\n",
    "y_test = np.array([number[0] for number in lb.fit_transform(y_test)])\n",
    "\n",
    "logreg = LogisticRegression()\n",
    "logreg.fit(x_train, y_train)\n",
    "\n",
    "false_positive_rate, true_positive_rate, thresholds = roc_curve(y_test, logreg.predict(x_test))\n",
    "roc_auc = auc(false_positive_rate, true_positive_rate)\n",
    "\n",
    "plt.title('Receiver Operating Characteristic for Logistic Regression')\n",
    "plt.plot(false_positive_rate, true_positive_rate, 'b',\n",
    "label='AUC = %0.2f'% roc_auc)\n",
    "plt.legend(loc='lower right')\n",
    "plt.ylabel('True Positive Rate')\n",
    "plt.xlabel('False Positive Rate')\n",
    "plt.show()"
   ]
  },
  {
   "cell_type": "code",
   "execution_count": null,
   "metadata": {
    "collapsed": true
   },
   "outputs": [],
   "source": []
  }
 ],
 "metadata": {
  "kernelspec": {
   "display_name": "Python 3",
   "language": "python",
   "name": "python3"
  },
  "language_info": {
   "codemirror_mode": {
    "name": "ipython",
    "version": 3
   },
   "file_extension": ".py",
   "mimetype": "text/x-python",
   "name": "python",
   "nbconvert_exporter": "python",
   "pygments_lexer": "ipython3",
   "version": "3.5.2"
  }
 },
 "nbformat": 4,
 "nbformat_minor": 0
}
