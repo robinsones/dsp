{
 "cells": [
  {
   "cell_type": "markdown",
   "metadata": {},
   "source": [
    "# Challenge Set 6"
   ]
  },
  {
   "cell_type": "markdown",
   "metadata": {},
   "source": [
    "## Table of Contents\n",
    "\n",
    "<a href='#q1'>Q1</a>  \n",
    "<a href='#q2'>Q2</a>  \n",
    "<a href='#q3'>Q3</a>  \n",
    "<a href='#q4'>Q4</a>  \n",
    "<a href='#q5'>Q5</a>  \n",
    "<a href='#q6'>Q6</a>  \n",
    "<a href='#q7'>Q7</a>  \n",
    "<a href='#q8'>Q8</a>  \n",
    "<a href='#q9'>Q9</a>  \n",
    "<a href='#q10'>Q10</a>  \n",
    "<a href='#q11'>Q11</a>  \n",
    "<a href='#q12'>Q12</a>  "
   ]
  },
  {
   "cell_type": "markdown",
   "metadata": {},
   "source": [
    "## Imports"
   ]
  },
  {
   "cell_type": "code",
   "execution_count": 118,
   "metadata": {
    "collapsed": false
   },
   "outputs": [
    {
     "name": "stdout",
     "output_type": "stream",
     "text": [
      "\n"
     ]
    }
   ],
   "source": [
    "import pandas as pd\n",
    "import numpy as np\n",
    "import math\n",
    "import random\n",
    "from sklearn.neighbors import KNeighborsClassifier\n",
    "from sklearn.metrics import accuracy_score, roc_curve, auc, confusion_matrix\n",
    "from sklearn.cross_validation import train_test_split\n",
    "from sklearn.linear_model import LogisticRegression\n",
    "from sklearn.naive_bayes import GaussianNB\n",
    "from sklearn.svm import SVC\n",
    "from sklearn.tree import DecisionTreeClassifier\n",
    "from sklearn.ensemble import RandomForestClassifier\n",
    "import matplotlib.pyplot as plt\n",
    "from scipy import interp\n",
    "import seaborn as sb\n",
    "from sklearn.cross_validation import cross_val_score\n",
    "\n",
    "%matplotlib inline"
   ]
  },
  {
   "cell_type": "markdown",
   "metadata": {},
   "source": [
    "## Challenge 1\n",
    "\n",
    "For the house representatives data set, calculate the accuracy, precision, recall and f1 scores of each classifier you built (on the test set)."
   ]
  },
  {
   "cell_type": "code",
   "execution_count": 119,
   "metadata": {
    "collapsed": false
   },
   "outputs": [
    {
     "name": "stdout",
     "output_type": "stream",
     "text": [
      "  % Total    % Received % Xferd  Average Speed   Time    Time     Time  Current\n",
      "                                 Dload  Upload   Total   Spent    Left  Speed\n",
      "100 18171  100 18171    0     0   8326      0  0:00:02  0:00:02 --:--:--  8327\n"
     ]
    }
   ],
   "source": [
    "!curl -O https://archive.ics.uci.edu/ml/machine-learning-databases/voting-records/house-votes-84.data\n",
    "    \n",
    "df = pd.read_csv('house-votes-84.data', names = ['class', 'r1', 'r2', 'r3', 'r4', 'r5', 'r6', 'r7', 'r8', 'r9', 'r10', \n",
    "                                                 'r11', 'r12', 'r13', 'r14', 'r15', 'r16'])\n",
    "df = df.replace('y', int(1))\n",
    "df = df.replace('n', int(0))\n",
    "\n",
    "for i in df:\n",
    "    if i !='class':\n",
    "        p1 = int(math.floor(df[i][df[i] != '?'].mean()*100))\n",
    "        p0 = 100-p1\n",
    "        df[i] = df[i].replace('?', random.choice([1]*p1 + [0]*p0))\n",
    "\n",
    "df_x = df.drop('class', axis=1)\n",
    "\n",
    "X, y = df_x, df['class']"
   ]
  },
  {
   "cell_type": "code",
   "execution_count": 120,
   "metadata": {
    "collapsed": false
   },
   "outputs": [],
   "source": [
    "knn = KNeighborsClassifier(n_neighbors = 16, p=2, metric='minkowski')\n",
    "lr = LogisticRegression()\n",
    "gauss = GaussianNB()\n",
    "svc = SVC()\n",
    "tree = DecisionTreeClassifier()\n",
    "forest = RandomForestClassifier()\n",
    "\n",
    "classifiers = [knn, lr, gauss, svc, tree, forest]"
   ]
  },
  {
   "cell_type": "code",
   "execution_count": 121,
   "metadata": {
    "collapsed": false
   },
   "outputs": [],
   "source": [
    "def plot_confusion_matrix(cm, title='Confusion Matrix', cmap=plt.cm.Reds):\n",
    "    plt.imshow(cm, interpolation='nearest', cmap=cmap)\n",
    "    plt.title(title)\n",
    "    plt.colorbar()\n",
    "    plt.tight_layout()\n",
    "    plt.ylabel('true label')\n",
    "    plt.xlabel('predicted label')\n",
    "    \n",
    "def train_score(classifier, x, y):\n",
    "    X_train, X_test, y_train, y_test = train_test_split(X, y, test_size=.3, random_state=4444)\n",
    "    y_train = np.ravel(y_train)\n",
    "    clf = classifier.fit(X_train, y_train)\n",
    "    train_acc=clf.score(X_train, y_train)\n",
    "    test_acc=clf.score(X_test, y_test)\n",
    "    print \"Training Data Accuracy: %0.2f\" %(train_acc)\n",
    "    print \"Test Data Accuracy:     %0.2f\" %(test_acc)\n",
    "    \n",
    "    conf = confusion_matrix(y_test, clf.predict(X_test))\n",
    "    print conf\n",
    "    precision = (conf[0, 0] / (conf[0, 0] + conf[1, 0]))\n",
    "    recall = (conf[0, 0] / (conf[0, 0] + conf[0, 1]))\n",
    "    f1 = 2*((precision*recall)/(precision + recall))\n",
    "    \n",
    "    print \"Precision:              %0.2f\"% precision\n",
    "    print \"Recall:                 %0.2f\"% recall\n",
    "    print \"f1:                     %0.2f\"% f1\n",
    "    print '\\n'\n",
    "\n",
    "    plot_confusion_matrix(conf)"
   ]
  },
  {
   "cell_type": "code",
   "execution_count": 122,
   "metadata": {
    "collapsed": false
   },
   "outputs": [
    {
     "name": "stdout",
     "output_type": "stream",
     "text": [
      "Training Data Accuracy: 0.92\n",
      "Test Data Accuracy:     0.93\n",
      "[[73  4]\n",
      " [ 5 49]]\n",
      "Precision:              0.00\n",
      "Recall:                 0.00\n",
      "f1:                     0.00\n",
      "\n",
      "\n",
      "Training Data Accuracy: 0.97\n",
      "Test Data Accuracy:     0.94\n",
      "[[75  2]\n",
      " [ 6 48]]\n",
      "Precision:              0.00\n",
      "Recall:                 0.00\n",
      "f1:                     0.00\n",
      "\n",
      "\n",
      "Training Data Accuracy: 0.93\n",
      "Test Data Accuracy:     0.94\n",
      "[[76  1]\n",
      " [ 7 47]]\n",
      "Precision:              0.00\n",
      "Recall:                 0.00\n",
      "f1:                     0.00\n",
      "\n",
      "\n",
      "Training Data Accuracy: 0.97\n",
      "Test Data Accuracy:     0.95\n",
      "[[74  3]\n",
      " [ 4 50]]\n",
      "Precision:              0.00\n",
      "Recall:                 0.00\n",
      "f1:                     0.00\n",
      "\n",
      "\n",
      "Training Data Accuracy: 1.00\n",
      "Test Data Accuracy:     0.95\n",
      "[[74  3]\n",
      " [ 4 50]]\n",
      "Precision:              0.00\n",
      "Recall:                 0.00\n",
      "f1:                     0.00\n",
      "\n",
      "\n",
      "Training Data Accuracy: 1.00\n",
      "Test Data Accuracy:     0.95\n",
      "[[75  2]\n",
      " [ 4 50]]\n",
      "Precision:              0.00\n",
      "Recall:                 0.00\n",
      "f1:                     0.00\n",
      "\n",
      "\n"
     ]
    },
    {
     "data": {
      "image/png": "[encoded data removed]",
      "text/plain": [
       "<matplotlib.figure.Figure at 0x11858f790>"
      ]
     },
     "metadata": {},
     "output_type": "display_data"
    }
   ],
   "source": [
    "for clf in classifiers:\n",
    "    train_score(clf, X, y)"
   ]
  },
  {
   "cell_type": "markdown",
   "metadata": {},
   "source": [
    "## Challenge 2\n",
    "\n",
    "For each, draw the ROC curve and calculate the AUC."
   ]
  },
  {
   "cell_type": "code",
   "execution_count": 123,
   "metadata": {
    "collapsed": false
   },
   "outputs": [],
   "source": [
    "df['class'] = df['class'].replace('democrat', 1).replace('republican', 0)\n",
    "y = df['class']"
   ]
  },
  {
   "cell_type": "code",
   "execution_count": 124,
   "metadata": {
    "collapsed": false
   },
   "outputs": [],
   "source": [
    "def roc(classifier, x, y):\n",
    "    X_train, X_test, y_train, y_test = train_test_split(x, y, test_size=.3, random_state=4444)\n",
    "    y_train = np.ravel(y_train)\n",
    "    clf = classifier.fit(X_train, y_train)\n",
    "    \n",
    "    print 'fpr', roc_curve(y_test, clf.predict(X_test))[0][1]\n",
    "    print 'tpr', roc_curve(y_test, clf.predict(X_test))[0][0]\n",
    "    \n",
    "    roc=roc_curve(y_test, clf.predict(X_test))\n",
    "    plt.figure()\n",
    "    plt.plot([0,1], [0,1])\n",
    "    plt.plot(roc[0], roc[1])\n",
    "    plt.xlabel('FPR')\n",
    "    plt.ylabel('TPR')\n",
    "    \n",
    "    #print auc"
   ]
  },
  {
   "cell_type": "code",
   "execution_count": 125,
   "metadata": {
    "collapsed": false,
    "scrolled": true
   },
   "outputs": [
    {
     "name": "stdout",
     "output_type": "stream",
     "text": [
      "fpr 0.0925925925926\n",
      "tpr 0.0\n",
      "fpr 0.111111111111\n",
      "tpr 0.0\n",
      "fpr 0.12962962963\n",
      "tpr 0.0\n",
      "fpr 0.0740740740741\n",
      "tpr 0.0\n",
      "fpr 0.0555555555556\n",
      "tpr 0.0\n",
      "fpr 0.0555555555556\n",
      "tpr 0.0\n"
     ]
    },
    {
     "data": {
      "image/png": "[encoded data removed]",
      "text/plain": [
       "<matplotlib.figure.Figure at 0x1196f6590>"
      ]
     },
     "metadata": {},
     "output_type": "display_data"
    },
    {
     "data": {
      "image/png": "[encoded data removed]",
      "text/plain": [
       "<matplotlib.figure.Figure at 0x118f33f90>"
      ]
     },
     "metadata": {},
     "output_type": "display_data"
    },
    {
     "data": {
      "image/png": "[encoded data removed]",
      "text/plain": [
       "<matplotlib.figure.Figure at 0x118560190>"
      ]
     },
     "metadata": {},
     "output_type": "display_data"
    },
    {
     "data": {
      "image/png": "[encoded data removed]",
      "text/plain": [
       "<matplotlib.figure.Figure at 0x118fed850>"
      ]
     },
     "metadata": {},
     "output_type": "display_data"
    },
    {
     "data": {
      "image/png": "[encoded data removed]",
      "text/plain": [
       "<matplotlib.figure.Figure at 0x11959c2d0>"
      ]
     },
     "metadata": {},
     "output_type": "display_data"
    },
    {
     "data": {
      "image/png": "[encoded data removed]",
      "text/plain": [
       "<matplotlib.figure.Figure at 0x118a60050>"
      ]
     },
     "metadata": {},
     "output_type": "display_data"
    }
   ],
   "source": [
    "for clf in classifiers:\n",
    "    roc(clf, X, y)"
   ]
  },
  {
   "cell_type": "markdown",
   "metadata": {},
   "source": [
    "## Challenge 3\n",
    "\n",
    "Calculate the same metrics you did in challenge 1, but this time in a cross validation scheme with the cross_val_score function (like in Challenge 9)."
   ]
  },
  {
   "cell_type": "code",
   "execution_count": 109,
   "metadata": {
    "collapsed": false
   },
   "outputs": [],
   "source": [
    "def cv_score(classifier, x, y):\n",
    "    \n",
    "    accuracy = np.mean(cross_val_score(classifier, x, y, scoring='accuracy'))\n",
    "    f1 = np.mean(cross_val_score(classifier, x, y, scoring='f1'))\n",
    "    precision = np.mean(cross_val_score(classifier, x, y, scoring='precision'))\n",
    "    recall = np.mean(cross_val_score(classifier, x, y, scoring='recall'))\n",
    "\n",
    "    print \"Accuracy:     %0.2f\" %accuracy\n",
    "    print \"Precision:              %0.2f\"% precision\n",
    "    print \"Recall:                 %0.2f\"% recall\n",
    "    print \"f1:                     %0.2f\"% f1\n",
    "    print '\\n'\n"
   ]
  },
  {
   "cell_type": "code",
   "execution_count": 110,
   "metadata": {
    "collapsed": false
   },
   "outputs": [
    {
     "name": "stdout",
     "output_type": "stream",
     "text": [
      "Accuracy:     0.91\n",
      "Precision:              0.97\n",
      "Recall:                 0.88\n",
      "f1:                     0.93\n",
      "\n",
      "\n",
      "Accuracy:     0.96\n",
      "Precision:              0.98\n",
      "Recall:                 0.96\n",
      "f1:                     0.97\n",
      "\n",
      "\n",
      "Accuracy:     0.94\n",
      "Precision:              0.95\n",
      "Recall:                 0.94\n",
      "f1:                     0.95\n",
      "\n",
      "\n",
      "Accuracy:     0.95\n",
      "Precision:              0.99\n",
      "Recall:                 0.93\n",
      "f1:                     0.96\n",
      "\n",
      "\n",
      "Accuracy:     0.95\n",
      "Precision:              0.97\n",
      "Recall:                 0.94\n",
      "f1:                     0.96\n",
      "\n",
      "\n",
      "Accuracy:     0.95\n",
      "Precision:              0.98\n",
      "Recall:                 0.94\n",
      "f1:                     0.97\n",
      "\n",
      "\n"
     ]
    }
   ],
   "source": [
    "for clf in classifiers:\n",
    "    cv_score(clf, df_x, df['class'])"
   ]
  },
  {
   "cell_type": "markdown",
   "metadata": {},
   "source": [
    "## Challenge 4\n",
    "\n",
    "For your movie classifiers, calculate the precision and recall for each class.\n"
   ]
  },
  {
   "cell_type": "code",
   "execution_count": 115,
   "metadata": {
    "collapsed": false
   },
   "outputs": [
    {
     "name": "stdout",
     "output_type": "stream",
     "text": [
      "Precision (knn): 0.39\n",
      "Recall (knn): 0.44\n",
      "Precision (Logistic Regression): 0.52\n",
      "Recall (Logistic Regression): 0.55\n"
     ]
    },
    {
     "name": "stderr",
     "output_type": "stream",
     "text": [
      "/Users/kpully/anaconda/lib/python2.7/site-packages/sklearn/metrics/classification.py:1203: DeprecationWarning: The default `weighted` averaging is deprecated, and from version 0.18, use of precision, recall or F-score with multiclass or multilabel data or pos_label=None will result in an exception. Please set an explicit value for `average`, one of (None, 'micro', 'macro', 'weighted', 'samples'). In cross validation use, for instance, scoring=\"f1_weighted\" instead of scoring=\"f1\".\n",
      "  sample_weight=sample_weight)\n",
      "/Users/kpully/anaconda/lib/python2.7/site-packages/sklearn/metrics/classification.py:1203: DeprecationWarning: The default `weighted` averaging is deprecated, and from version 0.18, use of precision, recall or F-score with multiclass or multilabel data or pos_label=None will result in an exception. Please set an explicit value for `average`, one of (None, 'micro', 'macro', 'weighted', 'samples'). In cross validation use, for instance, scoring=\"f1_weighted\" instead of scoring=\"f1\".\n",
      "  sample_weight=sample_weight)\n",
      "/Users/kpully/anaconda/lib/python2.7/site-packages/sklearn/metrics/classification.py:1203: DeprecationWarning: The default `weighted` averaging is deprecated, and from version 0.18, use of precision, recall or F-score with multiclass or multilabel data or pos_label=None will result in an exception. Please set an explicit value for `average`, one of (None, 'micro', 'macro', 'weighted', 'samples'). In cross validation use, for instance, scoring=\"f1_weighted\" instead of scoring=\"f1\".\n",
      "  sample_weight=sample_weight)\n",
      "/Users/kpully/anaconda/lib/python2.7/site-packages/sklearn/metrics/classification.py:1304: DeprecationWarning: The default `weighted` averaging is deprecated, and from version 0.18, use of precision, recall or F-score with multiclass or multilabel data or pos_label=None will result in an exception. Please set an explicit value for `average`, one of (None, 'micro', 'macro', 'weighted', 'samples'). In cross validation use, for instance, scoring=\"f1_weighted\" instead of scoring=\"f1\".\n",
      "  sample_weight=sample_weight)\n",
      "/Users/kpully/anaconda/lib/python2.7/site-packages/sklearn/metrics/classification.py:1304: DeprecationWarning: The default `weighted` averaging is deprecated, and from version 0.18, use of precision, recall or F-score with multiclass or multilabel data or pos_label=None will result in an exception. Please set an explicit value for `average`, one of (None, 'micro', 'macro', 'weighted', 'samples'). In cross validation use, for instance, scoring=\"f1_weighted\" instead of scoring=\"f1\".\n",
      "  sample_weight=sample_weight)\n",
      "/Users/kpully/anaconda/lib/python2.7/site-packages/sklearn/metrics/classification.py:1304: DeprecationWarning: The default `weighted` averaging is deprecated, and from version 0.18, use of precision, recall or F-score with multiclass or multilabel data or pos_label=None will result in an exception. Please set an explicit value for `average`, one of (None, 'micro', 'macro', 'weighted', 'samples'). In cross validation use, for instance, scoring=\"f1_weighted\" instead of scoring=\"f1\".\n",
      "  sample_weight=sample_weight)\n",
      "/Users/kpully/anaconda/lib/python2.7/site-packages/sklearn/metrics/classification.py:1203: DeprecationWarning: The default `weighted` averaging is deprecated, and from version 0.18, use of precision, recall or F-score with multiclass or multilabel data or pos_label=None will result in an exception. Please set an explicit value for `average`, one of (None, 'micro', 'macro', 'weighted', 'samples'). In cross validation use, for instance, scoring=\"f1_weighted\" instead of scoring=\"f1\".\n",
      "  sample_weight=sample_weight)\n",
      "/Users/kpully/anaconda/lib/python2.7/site-packages/sklearn/metrics/classification.py:1203: DeprecationWarning: The default `weighted` averaging is deprecated, and from version 0.18, use of precision, recall or F-score with multiclass or multilabel data or pos_label=None will result in an exception. Please set an explicit value for `average`, one of (None, 'micro', 'macro', 'weighted', 'samples'). In cross validation use, for instance, scoring=\"f1_weighted\" instead of scoring=\"f1\".\n",
      "  sample_weight=sample_weight)\n",
      "/Users/kpully/anaconda/lib/python2.7/site-packages/sklearn/metrics/classification.py:1203: DeprecationWarning: The default `weighted` averaging is deprecated, and from version 0.18, use of precision, recall or F-score with multiclass or multilabel data or pos_label=None will result in an exception. Please set an explicit value for `average`, one of (None, 'micro', 'macro', 'weighted', 'samples'). In cross validation use, for instance, scoring=\"f1_weighted\" instead of scoring=\"f1\".\n",
      "  sample_weight=sample_weight)\n",
      "/Users/kpully/anaconda/lib/python2.7/site-packages/sklearn/metrics/classification.py:1304: DeprecationWarning: The default `weighted` averaging is deprecated, and from version 0.18, use of precision, recall or F-score with multiclass or multilabel data or pos_label=None will result in an exception. Please set an explicit value for `average`, one of (None, 'micro', 'macro', 'weighted', 'samples'). In cross validation use, for instance, scoring=\"f1_weighted\" instead of scoring=\"f1\".\n",
      "  sample_weight=sample_weight)\n",
      "/Users/kpully/anaconda/lib/python2.7/site-packages/sklearn/metrics/classification.py:1304: DeprecationWarning: The default `weighted` averaging is deprecated, and from version 0.18, use of precision, recall or F-score with multiclass or multilabel data or pos_label=None will result in an exception. Please set an explicit value for `average`, one of (None, 'micro', 'macro', 'weighted', 'samples'). In cross validation use, for instance, scoring=\"f1_weighted\" instead of scoring=\"f1\".\n",
      "  sample_weight=sample_weight)\n",
      "/Users/kpully/anaconda/lib/python2.7/site-packages/sklearn/metrics/classification.py:1304: DeprecationWarning: The default `weighted` averaging is deprecated, and from version 0.18, use of precision, recall or F-score with multiclass or multilabel data or pos_label=None will result in an exception. Please set an explicit value for `average`, one of (None, 'micro', 'macro', 'weighted', 'samples'). In cross validation use, for instance, scoring=\"f1_weighted\" instead of scoring=\"f1\".\n",
      "  sample_weight=sample_weight)\n"
     ]
    }
   ],
   "source": [
    "df = pd.read_csv('2013_movies.csv')\n",
    "df = df.dropna()\n",
    "\n",
    "X = df[['Budget', 'Runtime', 'DomesticTotalGross']]\n",
    "y = df['Rating']\n",
    "\n",
    "knn = KNeighborsClassifier(n_neighbors = 16, p=2, metric='minkowski')\n",
    "lr = LogisticRegression()\n",
    "\n",
    "p_knn = np.mean(cross_val_score(knn, X, y, scoring='precision'))\n",
    "r_knn = np.mean(cross_val_score(knn, X, y, scoring='recall'))\n",
    "\n",
    "p_lr = np.mean(cross_val_score(lr, X, y, scoring='precision'))\n",
    "r_lr = np.mean(cross_val_score(lr, X, y, scoring='recall'))\n",
    "\n",
    "print \"Precision (knn): %0.2f\" %p_knn\n",
    "print \"Recall (knn): %0.2f\" %r_knn\n",
    "\n",
    "print \"Precision (Logistic Regression): %0.2f\" %p_lr\n",
    "print \"Recall (Logistic Regression): %0.2f\" %r_lr"
   ]
  },
  {
   "cell_type": "markdown",
   "metadata": {},
   "source": [
    "## Challenge 5\n",
    "\n",
    "Draw the ROC curve (and calculate AUC) for the logistic regression classifier from challenge 12."
   ]
  },
  {
   "cell_type": "code",
   "execution_count": 116,
   "metadata": {
    "collapsed": true
   },
   "outputs": [],
   "source": [
    "df = pd.read_csv('haberman.data', names=['age', 'yr_operation', 'ax_nodes', 'survival'])\n",
    "\n",
    "X = df.drop('survival', axis=1)\n",
    "y = df.survival\n",
    "\n",
    "lr=LogisticRegression()"
   ]
  },
  {
   "cell_type": "code",
   "execution_count": 126,
   "metadata": {
    "collapsed": false
   },
   "outputs": [
    {
     "name": "stdout",
     "output_type": "stream",
     "text": [
      "fpr 0.111111111111\n",
      "tpr 0.0\n"
     ]
    },
    {
     "data": {
      "image/png": "[encoded data removed]",
      "text/plain": [
       "<matplotlib.figure.Figure at 0x11844ac10>"
      ]
     },
     "metadata": {},
     "output_type": "display_data"
    }
   ],
   "source": [
    "roc(lr, X, y)"
   ]
  }
 ],
 "metadata": {
  "kernelspec": {
   "display_name": "Python 2",
   "language": "python",
   "name": "python2"
  },
  "language_info": {
   "codemirror_mode": {
    "name": "ipython",
    "version": 2
   },
   "file_extension": ".py",
   "mimetype": "text/x-python",
   "name": "python",
   "nbconvert_exporter": "python",
   "pygments_lexer": "ipython2",
   "version": "2.7.12"
  }
 },
 "nbformat": 4,
 "nbformat_minor": 0
}
