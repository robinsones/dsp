{
 "cells": [
  {
   "cell_type": "markdown",
   "metadata": {},
   "source": [
    "### Challenge Set 6\n",
    "Topic:        Classification Errors\n",
    "\n",
    "Date:         07/31/2016\n",
    "\n",
    "Name:         sravanthi ponnana\n",
    "\n"
   ]
  },
  {
   "cell_type": "code",
   "execution_count": 14,
   "metadata": {
    "collapsed": true
   },
   "outputs": [],
   "source": [
    "import numpy as np\n",
    "import pandas as pd\n",
    "import seaborn as sns\n",
    "import matplotlib.pyplot as plt\n",
    "%matplotlib inline"
   ]
  },
  {
   "cell_type": "code",
   "execution_count": 15,
   "metadata": {
    "collapsed": true
   },
   "outputs": [],
   "source": [
    "from sklearn.linear_model import LogisticRegression\n",
    "from sklearn.neighbors import KNeighborsClassifier\n",
    "from sklearn.naive_bayes import GaussianNB\n",
    "from sklearn.svm import SVC\n",
    "from sklearn.tree import DecisionTreeClassifier\n",
    "from sklearn.ensemble import RandomForestClassifier\n",
    "from sklearn.cross_validation import train_test_split"
   ]
  },
  {
   "cell_type": "code",
   "execution_count": 16,
   "metadata": {
    "collapsed": true
   },
   "outputs": [],
   "source": [
    "from sklearn.metrics import accuracy_score\n",
    "from sklearn.metrics import precision_score\n",
    "from sklearn.metrics import recall_score\n",
    "from sklearn.metrics import f1_score"
   ]
  },
  {
   "cell_type": "code",
   "execution_count": 80,
   "metadata": {
    "collapsed": true
   },
   "outputs": [],
   "source": [
    "df = pd.read_csv('/Users/Manoj/Downloads/house-votes-84.data', header = None)"
   ]
  },
  {
   "cell_type": "code",
   "execution_count": 81,
   "metadata": {
    "collapsed": false
   },
   "outputs": [
    {
     "data": {
      "text/html": [
       "<div>\n",
       "<table border=\"1\" class=\"dataframe\">\n",
       "  <thead>\n",
       "    <tr style=\"text-align: right;\">\n",
       "      <th></th>\n",
       "      <th>0</th>\n",
       "      <th>1</th>\n",
       "      <th>2</th>\n",
       "      <th>3</th>\n",
       "      <th>4</th>\n",
       "      <th>5</th>\n",
       "      <th>6</th>\n",
       "      <th>7</th>\n",
       "      <th>8</th>\n",
       "      <th>9</th>\n",
       "      <th>10</th>\n",
       "      <th>11</th>\n",
       "      <th>12</th>\n",
       "      <th>13</th>\n",
       "      <th>14</th>\n",
       "      <th>15</th>\n",
       "      <th>16</th>\n",
       "    </tr>\n",
       "  </thead>\n",
       "  <tbody>\n",
       "    <tr>\n",
       "      <th>0</th>\n",
       "      <td>0</td>\n",
       "      <td>0.00000</td>\n",
       "      <td>1.0</td>\n",
       "      <td>0.0</td>\n",
       "      <td>1.000000</td>\n",
       "      <td>1.000000</td>\n",
       "      <td>1.0</td>\n",
       "      <td>0.0</td>\n",
       "      <td>0.0</td>\n",
       "      <td>0.0</td>\n",
       "      <td>1.0</td>\n",
       "      <td>0.362319</td>\n",
       "      <td>1.000000</td>\n",
       "      <td>1.0</td>\n",
       "      <td>1.0</td>\n",
       "      <td>0.0</td>\n",
       "      <td>1.000000</td>\n",
       "    </tr>\n",
       "    <tr>\n",
       "      <th>1</th>\n",
       "      <td>0</td>\n",
       "      <td>0.00000</td>\n",
       "      <td>1.0</td>\n",
       "      <td>0.0</td>\n",
       "      <td>1.000000</td>\n",
       "      <td>1.000000</td>\n",
       "      <td>1.0</td>\n",
       "      <td>0.0</td>\n",
       "      <td>0.0</td>\n",
       "      <td>0.0</td>\n",
       "      <td>0.0</td>\n",
       "      <td>0.000000</td>\n",
       "      <td>1.000000</td>\n",
       "      <td>1.0</td>\n",
       "      <td>1.0</td>\n",
       "      <td>0.0</td>\n",
       "      <td>0.812689</td>\n",
       "    </tr>\n",
       "    <tr>\n",
       "      <th>2</th>\n",
       "      <td>1</td>\n",
       "      <td>0.44208</td>\n",
       "      <td>1.0</td>\n",
       "      <td>1.0</td>\n",
       "      <td>0.417453</td>\n",
       "      <td>1.000000</td>\n",
       "      <td>1.0</td>\n",
       "      <td>0.0</td>\n",
       "      <td>0.0</td>\n",
       "      <td>0.0</td>\n",
       "      <td>0.0</td>\n",
       "      <td>1.000000</td>\n",
       "      <td>0.000000</td>\n",
       "      <td>1.0</td>\n",
       "      <td>1.0</td>\n",
       "      <td>0.0</td>\n",
       "      <td>0.000000</td>\n",
       "    </tr>\n",
       "    <tr>\n",
       "      <th>3</th>\n",
       "      <td>1</td>\n",
       "      <td>0.00000</td>\n",
       "      <td>1.0</td>\n",
       "      <td>1.0</td>\n",
       "      <td>0.000000</td>\n",
       "      <td>0.504762</td>\n",
       "      <td>1.0</td>\n",
       "      <td>0.0</td>\n",
       "      <td>0.0</td>\n",
       "      <td>0.0</td>\n",
       "      <td>0.0</td>\n",
       "      <td>1.000000</td>\n",
       "      <td>0.000000</td>\n",
       "      <td>1.0</td>\n",
       "      <td>0.0</td>\n",
       "      <td>0.0</td>\n",
       "      <td>1.000000</td>\n",
       "    </tr>\n",
       "    <tr>\n",
       "      <th>4</th>\n",
       "      <td>1</td>\n",
       "      <td>1.00000</td>\n",
       "      <td>1.0</td>\n",
       "      <td>1.0</td>\n",
       "      <td>0.000000</td>\n",
       "      <td>1.000000</td>\n",
       "      <td>1.0</td>\n",
       "      <td>0.0</td>\n",
       "      <td>0.0</td>\n",
       "      <td>0.0</td>\n",
       "      <td>0.0</td>\n",
       "      <td>1.000000</td>\n",
       "      <td>0.423267</td>\n",
       "      <td>1.0</td>\n",
       "      <td>1.0</td>\n",
       "      <td>1.0</td>\n",
       "      <td>1.000000</td>\n",
       "    </tr>\n",
       "  </tbody>\n",
       "</table>\n",
       "</div>"
      ],
      "text/plain": [
       "   0        1    2    3         4         5    6    7    8    9    10  \\\n",
       "0   0  0.00000  1.0  0.0  1.000000  1.000000  1.0  0.0  0.0  0.0  1.0   \n",
       "1   0  0.00000  1.0  0.0  1.000000  1.000000  1.0  0.0  0.0  0.0  0.0   \n",
       "2   1  0.44208  1.0  1.0  0.417453  1.000000  1.0  0.0  0.0  0.0  0.0   \n",
       "3   1  0.00000  1.0  1.0  0.000000  0.504762  1.0  0.0  0.0  0.0  0.0   \n",
       "4   1  1.00000  1.0  1.0  0.000000  1.000000  1.0  0.0  0.0  0.0  0.0   \n",
       "\n",
       "         11        12   13   14   15        16  \n",
       "0  0.362319  1.000000  1.0  1.0  0.0  1.000000  \n",
       "1  0.000000  1.000000  1.0  1.0  0.0  0.812689  \n",
       "2  1.000000  0.000000  1.0  1.0  0.0  0.000000  \n",
       "3  1.000000  0.000000  1.0  0.0  0.0  1.000000  \n",
       "4  1.000000  0.423267  1.0  1.0  1.0  1.000000  "
      ]
     },
     "execution_count": 81,
     "metadata": {},
     "output_type": "execute_result"
    }
   ],
   "source": [
    "df = df.replace('y',1)\n",
    "df = df.replace('n',0)\n",
    "df = df.replace('?',np.nan)\n",
    "df = df.fillna(df.mean())\n",
    "df = df.replace('republican',0)\n",
    "df = df.replace('democrat',1)\n",
    "df[:5]\n"
   ]
  },
  {
   "cell_type": "markdown",
   "metadata": {},
   "source": [
    "### Challenge 1"
   ]
  },
  {
   "cell_type": "code",
   "execution_count": 82,
   "metadata": {
    "collapsed": true
   },
   "outputs": [],
   "source": [
    "\n",
    "X_train,X_test,y_train,y_test = train_test_split(df.values[:,1:],df.values[:,0],test_size=.30, random_state=4444)"
   ]
  },
  {
   "cell_type": "code",
   "execution_count": 83,
   "metadata": {
    "collapsed": false
   },
   "outputs": [
    {
     "name": "stdout",
     "output_type": "stream",
     "text": [
      "Logistic Regression\n",
      "0.93893129771\n",
      "0.925925925926\n",
      "0.974025974026\n",
      "0.949367088608\n"
     ]
    }
   ],
   "source": [
    "print(\"Logistic Regression\")\n",
    "model = LogisticRegression(penalty='l2', fit_intercept=True)\n",
    "model.fit(X_train, y_train) \n",
    "print(accuracy_score(y_test, model.predict(X_test)))\n",
    "print(precision_score(y_test, model.predict(X_test)))\n",
    "print(recall_score(y_test, model.predict(X_test)))\n",
    "print(f1_score(y_test, model.predict(X_test)))"
   ]
  },
  {
   "cell_type": "code",
   "execution_count": 84,
   "metadata": {
    "collapsed": false
   },
   "outputs": [
    {
     "name": "stdout",
     "output_type": "stream",
     "text": [
      "K-Nearest Neighbours\n",
      "Accuracy score:\n",
      "0.931297709924\n",
      "[[4 9]]\n",
      "Precision:\n",
      "0.959459459459\n",
      "[[4]]\n",
      "Recall:\n",
      "0.948051948052\n",
      "[[9]]\n",
      "F1-score:\n",
      "0.941935483871\n",
      "[[9]]\n"
     ]
    }
   ],
   "source": [
    "print(\"K-Nearest Neighbours\")\n",
    "score = []\n",
    "precision = []\n",
    "recall = []\n",
    "f1 =[]\n",
    "for i in range(1,21):\n",
    "    neigh = KNeighborsClassifier(n_neighbors=i)\n",
    "    neigh.fit(X_train, y_train) \n",
    "    score.append(accuracy_score(y_test, neigh.predict(X_test)))\n",
    "    precision.append(precision_score(y_test, neigh.predict(X_test)))\n",
    "    recall.append(recall_score(y_test, neigh.predict(X_test)))\n",
    "    f1.append(f1_score(y_test, neigh.predict(X_test)))\n",
    "print(\"Accuracy score:\")\n",
    "score = np.array(score)\n",
    "print(max(score)) \n",
    "index = np.where(score == max(score))\n",
    "print(np.array(index)+1)\n",
    "print(\"Precision:\")\n",
    "precision = np.array(precision)\n",
    "print(max(precision)) \n",
    "index = np.where(precision == max(precision))\n",
    "print(np.array(index)+1)\n",
    "print(\"Recall:\")\n",
    "recall = np.array(recall)\n",
    "print(max(recall)) \n",
    "index = np.where(recall == max(recall))\n",
    "print(np.array(index)+1)\n",
    "print(\"F1-score:\")\n",
    "f1 = np.array(f1)\n",
    "print(max(f1)) \n",
    "index = np.where(f1 == max(f1))\n",
    "print(np.array(index)+1)\n",
    "\n"
   ]
  },
  {
   "cell_type": "code",
   "execution_count": 85,
   "metadata": {
    "collapsed": false
   },
   "outputs": [
    {
     "name": "stdout",
     "output_type": "stream",
     "text": [
      "Naive Bayes\n",
      "Accuracy score: 0.93893129771\n",
      "Precision score: 0.915662650602\n",
      "Recall score: 0.987012987013\n",
      "F1 score: 0.95\n"
     ]
    }
   ],
   "source": [
    "print(\"Naive Bayes\")\n",
    "nb_model = GaussianNB()\n",
    "nb_model.fit(X_train,y_train)\n",
    "print(\"Accuracy score:\",accuracy_score(y_test, nb_model.predict(X_test)))\n",
    "print(\"Precision score:\",precision_score(y_test, nb_model.predict(X_test)))\n",
    "print(\"Recall score:\",recall_score(y_test, nb_model.predict(X_test)))\n",
    "print(\"F1 score:\",f1_score(y_test, nb_model.predict(X_test)))"
   ]
  },
  {
   "cell_type": "code",
   "execution_count": 86,
   "metadata": {
    "collapsed": false
   },
   "outputs": [
    {
     "name": "stdout",
     "output_type": "stream",
     "text": [
      "Support Vector machine\n",
      "Accuracy score: 0.954198473282\n",
      "Precision score: 0.949367088608\n",
      "Recall score: 0.974025974026\n",
      "F1 score: 0.961538461538\n"
     ]
    }
   ],
   "source": [
    "print(\"Support Vector machine\")\n",
    "svc_model = SVC()\n",
    "svc_model.fit(X_train,y_train)\n",
    "print(\"Accuracy score:\",accuracy_score(y_test, svc_model.predict(X_test)))\n",
    "print(\"Precision score:\",precision_score(y_test, svc_model.predict(X_test)))\n",
    "print(\"Recall score:\",recall_score(y_test, svc_model.predict(X_test)))\n",
    "print(\"F1 score:\",f1_score(y_test, svc_model.predict(X_test)))"
   ]
  },
  {
   "cell_type": "code",
   "execution_count": 87,
   "metadata": {
    "collapsed": false
   },
   "outputs": [
    {
     "name": "stdout",
     "output_type": "stream",
     "text": [
      "Decision Tree\n",
      "Accuracy score: 0.946564885496\n",
      "Precision score: 0.9375\n",
      "Recall score: 0.974025974026\n",
      "F1 score: 0.955414012739\n"
     ]
    }
   ],
   "source": [
    "print(\"Decision Tree\")\n",
    "DT_model = DecisionTreeClassifier()\n",
    "DT_model.fit(X_train,y_train)\n",
    "print(\"Accuracy score:\",accuracy_score(y_test, DT_model.predict(X_test)))\n",
    "print(\"Precision score:\",precision_score(y_test, DT_model.predict(X_test)))\n",
    "print(\"Recall score:\",recall_score(y_test, DT_model.predict(X_test)))\n",
    "print(\"F1 score:\",f1_score(y_test, DT_model.predict(X_test)))"
   ]
  },
  {
   "cell_type": "code",
   "execution_count": 88,
   "metadata": {
    "collapsed": false
   },
   "outputs": [
    {
     "name": "stdout",
     "output_type": "stream",
     "text": [
      "Random Forest\n",
      "Accuracy score: 0.954198473282\n",
      "Precision score: 0.938271604938\n",
      "Recall score: 0.987012987013\n",
      "F1 score: 0.962025316456\n"
     ]
    }
   ],
   "source": [
    "print(\"Random Forest\")\n",
    "rf_model = RandomForestClassifier()\n",
    "rf_model.fit(X_train,y_train)\n",
    "print(\"Accuracy score:\",accuracy_score(y_test, rf_model.predict(X_test)))\n",
    "print(\"Precision score:\",precision_score(y_test, rf_model.predict(X_test)))\n",
    "print(\"Recall score:\",recall_score(y_test, rf_model.predict(X_test)))\n",
    "print(\"F1 score:\",f1_score(y_test, rf_model.predict(X_test)))"
   ]
  },
  {
   "cell_type": "markdown",
   "metadata": {},
   "source": [
    "### Challenge 2"
   ]
  },
  {
   "cell_type": "code",
   "execution_count": 89,
   "metadata": {
    "collapsed": false
   },
   "outputs": [],
   "source": [
    "from sklearn.metrics import roc_curve, roc_auc_score\n",
    "fpr, tpr, _ = roc_curve(y_test, rf_model.predict_proba(X_test)[:,1])"
   ]
  },
  {
   "cell_type": "code",
   "execution_count": 90,
   "metadata": {
    "collapsed": false
   },
   "outputs": [
    {
     "data": {
      "image/png": "[encoded data removed]",
      "text/plain": [
       "<matplotlib.figure.Figure at 0x11aacf3c8>"
      ]
     },
     "metadata": {},
     "output_type": "display_data"
    }
   ],
   "source": [
    "roc_auc = roc_auc_score(y_test, rf_model.predict_proba(X_test)[:,1])\n",
    "plt.figure()\n",
    "plt.plot(fpr, tpr, label='ROC curve (area = %0.2f)' % roc_auc)\n",
    "\n",
    "plt.plot([0, 1], 'k--')\n",
    "\n",
    "plt.xlim([0.0, 1.0])\n",
    "plt.ylim([0.0, 1.05])\n",
    "plt.xlabel('False Positive Rate')\n",
    "plt.ylabel('True Positive Rate')\n",
    "plt.title('ROC Curve for Random Forest')\n",
    "plt.legend(loc=\"lower right\")\n",
    "plt.show()\n"
   ]
  },
  {
   "cell_type": "code",
   "execution_count": 91,
   "metadata": {
    "collapsed": false
   },
   "outputs": [
    {
     "data": {
      "image/png": "[encoded data removed]",
      "text/plain": [
       "<matplotlib.figure.Figure at 0x11ab88e80>"
      ]
     },
     "metadata": {},
     "output_type": "display_data"
    }
   ],
   "source": [
    "fpr, tpr, _ = roc_curve(y_test, DT_model.predict_proba(X_test)[:,1])\n",
    "roc_auc = roc_auc_score(y_test, DT_model.predict_proba(X_test)[:,1])\n",
    "plt.figure()\n",
    "plt.plot(fpr, tpr, label='ROC curve (area = %0.2f)' % roc_auc)\n",
    "\n",
    "plt.plot([0,1],[0, 1], 'k--')\n",
    "\n",
    "plt.xlim([0.0, 1.0])\n",
    "plt.ylim([0.0, 1.05])\n",
    "plt.xlabel('False Positive Rate')\n",
    "plt.ylabel('True Positive Rate')\n",
    "plt.title('ROC Curve for Decision Tree')\n",
    "plt.legend(loc=\"lower right\")\n",
    "plt.show()\n",
    "\n"
   ]
  },
  {
   "cell_type": "code",
   "execution_count": 92,
   "metadata": {
    "collapsed": false
   },
   "outputs": [
    {
     "data": {
      "image/png": "[encoded data removed]",
      "text/plain": [
       "<matplotlib.figure.Figure at 0x11ab88780>"
      ]
     },
     "metadata": {},
     "output_type": "display_data"
    }
   ],
   "source": [
    "fpr, tpr, _ = roc_curve(y_test, nb_model.predict_proba(X_test)[:,1])\n",
    "roc_auc = roc_auc_score(y_test, nb_model.predict_proba(X_test)[:,1])\n",
    "plt.figure()\n",
    "plt.plot(fpr, tpr, label='ROC curve (area = %0.2f)' % roc_auc)\n",
    "\n",
    "plt.plot([0,1],[0, 1], 'k--')\n",
    "\n",
    "plt.xlim([0.0, 1.0])\n",
    "plt.ylim([0.0, 1.05])\n",
    "plt.xlabel('False Positive Rate')\n",
    "plt.ylabel('True Positive Rate')\n",
    "plt.title('ROC Curve for Naive Bayes')\n",
    "plt.legend(loc=\"lower right\")\n",
    "plt.show()"
   ]
  },
  {
   "cell_type": "code",
   "execution_count": 93,
   "metadata": {
    "collapsed": false
   },
   "outputs": [
    {
     "data": {
      "image/png": "[encoded data removed]",
      "text/plain": [
       "<matplotlib.figure.Figure at 0x11ada8f60>"
      ]
     },
     "metadata": {},
     "output_type": "display_data"
    }
   ],
   "source": [
    "fpr, tpr, _ = roc_curve(y_test, model.predict_proba(X_test)[:,1])\n",
    "roc_auc = roc_auc_score(y_test, model.predict_proba(X_test)[:,1])\n",
    "plt.figure()\n",
    "plt.plot(fpr, tpr, label='ROC curve (area = %0.2f)' % roc_auc)\n",
    "\n",
    "plt.plot([0,1],[0, 1], 'k--')\n",
    "\n",
    "plt.xlim([0.0, 1.0])\n",
    "plt.ylim([0.0, 1.05])\n",
    "plt.xlabel('False Positive Rate')\n",
    "plt.ylabel('True Positive Rate')\n",
    "plt.title('ROC Curve for Logistic Regression')\n",
    "plt.legend(loc=\"lower right\")\n",
    "plt.show()"
   ]
  },
  {
   "cell_type": "markdown",
   "metadata": {},
   "source": [
    "### Challenge 3"
   ]
  },
  {
   "cell_type": "code",
   "execution_count": 94,
   "metadata": {
    "collapsed": false
   },
   "outputs": [
    {
     "name": "stdout",
     "output_type": "stream",
     "text": [
      "Logistic Regression\n",
      "Accuracy: 0.967190836731\n",
      "Precision: 0.969213302379\n",
      "Recall: 0.979001322751\n",
      "F1-score: 0.973990712699\n"
     ]
    }
   ],
   "source": [
    "from sklearn.cross_validation import cross_val_score\n",
    "log_cross_score = cross_val_score(model, X_train, y_train)\n",
    "mean_log_cross_score = np.mean(log_cross_score)\n",
    "print(\"Logistic Regression\")\n",
    "print(\"Accuracy:\",mean_log_cross_score)\n",
    "print(\"Precision:\",np.mean(cross_val_score(model, X_train, y_train, scoring = 'precision')))\n",
    "print(\"Recall:\",np.mean(cross_val_score(model, X_train, y_train, scoring = 'recall')))\n",
    "print(\"F1-score:\",np.mean(cross_val_score(model, X_train, y_train, scoring = 'f1')))"
   ]
  },
  {
   "cell_type": "code",
   "execution_count": 95,
   "metadata": {
    "collapsed": false
   },
   "outputs": [
    {
     "name": "stdout",
     "output_type": "stream",
     "text": [
      "K Nearest Neighbours\n",
      "Accuracy: 0.911311719407\n",
      "Precision: 0.97095846962\n",
      "Recall: 0.884424603175\n",
      "F1-score: 0.925571662979\n"
     ]
    }
   ],
   "source": [
    "knn_cross_score = cross_val_score(neigh, X_train, y_train)\n",
    "mean_knn_cross_score = np.mean(knn_cross_score)\n",
    "print(\"K Nearest Neighbours\")\n",
    "print(\"Accuracy:\",mean_knn_cross_score)\n",
    "print(\"Precision:\",np.mean(cross_val_score(neigh, X_train, y_train, scoring = 'precision')))\n",
    "print(\"Recall:\",np.mean(cross_val_score(neigh, X_train, y_train, scoring = 'recall')))\n",
    "print(\"F1-score:\",np.mean(cross_val_score(neigh, X_train, y_train, scoring = 'f1')))"
   ]
  },
  {
   "cell_type": "code",
   "execution_count": 96,
   "metadata": {
    "collapsed": false
   },
   "outputs": [
    {
     "name": "stdout",
     "output_type": "stream",
     "text": [
      "SVM\n",
      "Accuracy: 0.963922862875\n",
      "Precision: 0.98378003296\n",
      "Recall: 0.95808531746\n",
      "F1-score: 0.970665983956\n"
     ]
    }
   ],
   "source": [
    "svc_cross_score = cross_val_score(svc_model, X_train, y_train)\n",
    "mean_svc_cross_score = np.mean(svc_cross_score)\n",
    "print(\"SVM\")\n",
    "print(\"Accuracy:\",mean_svc_cross_score)\n",
    "print(\"Precision:\",np.mean(cross_val_score(svc_model, X_train, y_train, scoring = 'precision')))\n",
    "print(\"Recall:\",np.mean(cross_val_score(svc_model, X_train, y_train, scoring = 'recall')))\n",
    "print(\"F1-score:\",np.mean(cross_val_score(svc_model, X_train, y_train, scoring = 'f1')))"
   ]
  },
  {
   "cell_type": "code",
   "execution_count": 97,
   "metadata": {
    "collapsed": false
   },
   "outputs": [
    {
     "name": "stdout",
     "output_type": "stream",
     "text": [
      "Naive Bayes\n",
      "Accuracy: 0.927748657219\n",
      "Precision: 0.9469192695\n",
      "Recall: 0.937003968254\n",
      "F1-score: 0.941922259718\n"
     ]
    }
   ],
   "source": [
    "gauss_cross_score = cross_val_score(nb_model, X_train, y_train)\n",
    "mean_gauss_cross_score = np.mean(gauss_cross_score)\n",
    "print(\"Naive Bayes\")\n",
    "print(\"Accuracy:\",mean_gauss_cross_score)\n",
    "print(\"Precision:\",np.mean(cross_val_score(nb_model, X_train, y_train, scoring = 'precision')))\n",
    "print(\"Recall:\",np.mean(cross_val_score(nb_model, X_train, y_train, scoring = 'recall')))\n",
    "print(\"F1-score:\",np.mean(cross_val_score(nb_model, X_train, y_train, scoring = 'f1')))"
   ]
  },
  {
   "cell_type": "code",
   "execution_count": 98,
   "metadata": {
    "collapsed": false
   },
   "outputs": [
    {
     "name": "stdout",
     "output_type": "stream",
     "text": [
      "Decision Trees\n",
      "Accuracy: 0.94742121271\n",
      "Precision: 0.963358147229\n",
      "Recall: 0.957837301587\n",
      "F1-score: 0.960486352357\n"
     ]
    }
   ],
   "source": [
    "dtc_cross_score = cross_val_score(DT_model, X_train, y_train)\n",
    "mean_dtc_cross_score = np.mean(dtc_cross_score)\n",
    "print(\"Decision Trees\")\n",
    "print(\"Accuracy:\",mean_dtc_cross_score)\n",
    "print(\"Precision:\",np.mean(cross_val_score(DT_model, X_train, y_train, scoring = 'precision')))\n",
    "print(\"Recall:\",np.mean(cross_val_score(DT_model, X_train, y_train, scoring = 'recall')))\n",
    "print(\"F1-score:\",np.mean(cross_val_score(DT_model, X_train, y_train, scoring = 'f1')))"
   ]
  },
  {
   "cell_type": "code",
   "execution_count": 99,
   "metadata": {
    "collapsed": false
   },
   "outputs": [
    {
     "name": "stdout",
     "output_type": "stream",
     "text": [
      "Random forest\n",
      "Accuracy: 0.954086585129\n",
      "Precision: 0.983333333333\n",
      "Recall: 0.937003968254\n",
      "F1-score: 0.960083290664\n"
     ]
    }
   ],
   "source": [
    "rfc_cross_score = cross_val_score(rf_model, X_train, y_train)\n",
    "mean_rfc_cross_score = np.mean(rfc_cross_score)\n",
    "print(\"Random forest\")\n",
    "print(\"Accuracy:\",mean_rfc_cross_score)\n",
    "print(\"Precision:\",np.mean(cross_val_score(rf_model, X_train, y_train, scoring = 'precision')))\n",
    "print(\"Recall:\",np.mean(cross_val_score(rf_model, X_train, y_train, scoring = 'recall')))\n",
    "print(\"F1-score:\",np.mean(cross_val_score(rf_model, X_train, y_train, scoring = 'f1')))"
   ]
  },
  {
   "cell_type": "markdown",
   "metadata": {},
   "source": [
    "### Challenge 4"
   ]
  },
  {
   "cell_type": "code",
   "execution_count": 103,
   "metadata": {
    "collapsed": true
   },
   "outputs": [],
   "source": [
    "movies = pd.read_csv('/Users/Manoj/Documents/metis/2013_movies.csv')"
   ]
  },
  {
   "cell_type": "code",
   "execution_count": 121,
   "metadata": {
    "collapsed": true
   },
   "outputs": [],
   "source": [
    "movies = movies.dropna()\n",
    "X = movies[[\"Budget\",\"DomesticTotalGross\",\"Runtime\"]]\n",
    "y = movies[\"Rating\"]"
   ]
  },
  {
   "cell_type": "code",
   "execution_count": 122,
   "metadata": {
    "collapsed": false
   },
   "outputs": [],
   "source": [
    "X_train, X_test, y_train, y_test = train_test_split(X, y, test_size=.30, random_state=4444,stratify = y)\n"
   ]
  },
  {
   "cell_type": "code",
   "execution_count": 123,
   "metadata": {
    "collapsed": false
   },
   "outputs": [
    {
     "name": "stdout",
     "output_type": "stream",
     "text": [
      "0.615384615385\n"
     ]
    }
   ],
   "source": [
    "from sklearn.linear_model import LogisticRegression\n",
    "model = LogisticRegression(penalty='l2', fit_intercept=True)\n",
    "model.fit(X_train, y_train) \n",
    "print(accuracy_score(y_test, model.predict(X_test)))"
   ]
  },
  {
   "cell_type": "code",
   "execution_count": 124,
   "metadata": {
    "collapsed": false
   },
   "outputs": [
    {
     "data": {
      "text/plain": [
       "PG-13    40\n",
       "R        33\n",
       "PG       14\n",
       "Name: Rating, dtype: int64"
      ]
     },
     "execution_count": 124,
     "metadata": {},
     "output_type": "execute_result"
    }
   ],
   "source": [
    "movies[\"Rating\"].value_counts()"
   ]
  },
  {
   "cell_type": "code",
   "execution_count": 128,
   "metadata": {
    "collapsed": false
   },
   "outputs": [
    {
     "name": "stdout",
     "output_type": "stream",
     "text": [
      "Precision for 'PG-13', 'R', 'PG' :\t [ 0.55        0.83333333  0.        ]\n",
      "Recall for 'PG-13', 'R', 'PG' :\t [ 0.91666667  0.5         0.        ]\n",
      "F1 score for 'PG-13', 'R', 'PG' :\t [ 0.6875  0.625   0.    ]\n"
     ]
    },
    {
     "name": "stderr",
     "output_type": "stream",
     "text": [
      "/Users/Manoj/anaconda/lib/python3.5/site-packages/sklearn/metrics/classification.py:1074: UndefinedMetricWarning: Precision and F-score are ill-defined and being set to 0.0 in labels with no predicted samples.\n",
      "  'precision', 'predicted', average, warn_for)\n"
     ]
    }
   ],
   "source": [
    "result = precision_recall_fscore_support(y_test, model.predict(X_test), average=None, labels=['PG-13', 'R', 'PG'])\n",
    "print(\"Precision for 'PG-13', 'R', 'PG' :\\t\",result[0])\n",
    "print(\"Recall for 'PG-13', 'R', 'PG' :\\t\",result[1])\n",
    "print(\"F1 score for 'PG-13', 'R', 'PG' :\\t\",result[2])"
   ]
  },
  {
   "cell_type": "markdown",
   "metadata": {},
   "source": [
    "### Challenge 5"
   ]
  },
  {
   "cell_type": "code",
   "execution_count": 41,
   "metadata": {
    "collapsed": false
   },
   "outputs": [],
   "source": [
    "survival_data = pd.read_csv('/Users/Manoj/Downloads/haberman.data', names=['age', 'year', 'pos_nodes', 'survival_status'])"
   ]
  },
  {
   "cell_type": "code",
   "execution_count": 42,
   "metadata": {
    "collapsed": false
   },
   "outputs": [
    {
     "data": {
      "text/html": [
       "<div>\n",
       "<table border=\"1\" class=\"dataframe\">\n",
       "  <thead>\n",
       "    <tr style=\"text-align: right;\">\n",
       "      <th></th>\n",
       "      <th>age</th>\n",
       "      <th>year</th>\n",
       "      <th>pos_nodes</th>\n",
       "      <th>survival_status</th>\n",
       "    </tr>\n",
       "  </thead>\n",
       "  <tbody>\n",
       "    <tr>\n",
       "      <th>0</th>\n",
       "      <td>30</td>\n",
       "      <td>64</td>\n",
       "      <td>1</td>\n",
       "      <td>1</td>\n",
       "    </tr>\n",
       "    <tr>\n",
       "      <th>1</th>\n",
       "      <td>30</td>\n",
       "      <td>62</td>\n",
       "      <td>3</td>\n",
       "      <td>1</td>\n",
       "    </tr>\n",
       "    <tr>\n",
       "      <th>2</th>\n",
       "      <td>30</td>\n",
       "      <td>65</td>\n",
       "      <td>0</td>\n",
       "      <td>1</td>\n",
       "    </tr>\n",
       "    <tr>\n",
       "      <th>3</th>\n",
       "      <td>31</td>\n",
       "      <td>59</td>\n",
       "      <td>2</td>\n",
       "      <td>1</td>\n",
       "    </tr>\n",
       "    <tr>\n",
       "      <th>4</th>\n",
       "      <td>31</td>\n",
       "      <td>65</td>\n",
       "      <td>4</td>\n",
       "      <td>1</td>\n",
       "    </tr>\n",
       "  </tbody>\n",
       "</table>\n",
       "</div>"
      ],
      "text/plain": [
       "   age  year  pos_nodes  survival_status\n",
       "0   30    64          1                1\n",
       "1   30    62          3                1\n",
       "2   30    65          0                1\n",
       "3   31    59          2                1\n",
       "4   31    65          4                1"
      ]
     },
     "execution_count": 42,
     "metadata": {},
     "output_type": "execute_result"
    }
   ],
   "source": [
    "survival_data[\"survival_status\"] = survival_data[\"survival_status\"].replace(2,0)\n",
    "\n",
    "survival_data[:5]"
   ]
  },
  {
   "cell_type": "code",
   "execution_count": 47,
   "metadata": {
    "collapsed": false
   },
   "outputs": [
    {
     "name": "stdout",
     "output_type": "stream",
     "text": [
      "0.815217391304\n"
     ]
    }
   ],
   "source": [
    "X_train, X_test, y_train, y_test = train_test_split(survival_data.values[:,[0,1,2]],survival_data.values[:,3], test_size=.30, random_state=4444)\n",
    "model = LogisticRegression()\n",
    "model.fit(X_train, y_train) \n",
    "print(accuracy_score(y_test, model.predict(X_test)))"
   ]
  },
  {
   "cell_type": "code",
   "execution_count": 48,
   "metadata": {
    "collapsed": false
   },
   "outputs": [
    {
     "data": {
      "image/png": "[encoded data removed]",
      "text/plain": [
       "<matplotlib.figure.Figure at 0x119fd6400>"
      ]
     },
     "metadata": {},
     "output_type": "display_data"
    }
   ],
   "source": [
    "fpr, tpr, _ = roc_curve(y_test, model.predict_proba(X_test)[:,1])\n",
    "roc_auc = roc_auc_score(y_test, model.predict_proba(X_test)[:,1])\n",
    "plt.figure()\n",
    "plt.plot(fpr, tpr, label='ROC curve (area = %0.2f)' % roc_auc)\n",
    "\n",
    "plt.plot([0,1],[0, 1], 'k--')\n",
    "\n",
    "plt.xlim([0.0, 1.0])\n",
    "plt.ylim([0.0, 1.05])\n",
    "plt.xlabel('False Positive Rate')\n",
    "plt.ylabel('True Positive Rate')\n",
    "plt.title('ROC Curve for Logistic Regression')\n",
    "plt.legend(loc=\"lower right\")\n",
    "plt.show()"
   ]
  },
  {
   "cell_type": "code",
   "execution_count": null,
   "metadata": {
    "collapsed": true
   },
   "outputs": [],
   "source": []
  }
 ],
 "metadata": {
  "kernelspec": {
   "display_name": "Python 3",
   "language": "python",
   "name": "python3"
  },
  "language_info": {
   "codemirror_mode": {
    "name": "ipython",
    "version": 3
   },
   "file_extension": ".py",
   "mimetype": "text/x-python",
   "name": "python",
   "nbconvert_exporter": "python",
   "pygments_lexer": "ipython3",
   "version": "3.5.2"
  }
 },
 "nbformat": 4,
 "nbformat_minor": 0
}
