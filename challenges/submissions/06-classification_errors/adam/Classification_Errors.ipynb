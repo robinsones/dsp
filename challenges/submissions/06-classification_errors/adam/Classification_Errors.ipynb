{
 "cells": [
  {
   "cell_type": "markdown",
   "metadata": {},
   "source": [
    "## Challenge Set 6\n",
    "Topic:        Classification Error  \n",
    "Date:         07/24/2016  \n",
    "Name:         Adam Levin  \n",
    "Worked with:  None"
   ]
  },
  {
   "cell_type": "code",
   "execution_count": 1,
   "metadata": {
    "collapsed": false,
    "scrolled": true
   },
   "outputs": [
    {
     "name": "stdout",
     "output_type": "stream",
     "text": [
      "  % Total    % Received % Xferd  Average Speed   Time    Time     Time  Current\n",
      "                                 Dload  Upload   Total   Spent    Left  Speed\n",
      "100 18171  100 18171    0     0  30521      0 --:--:-- --:--:-- --:--:-- 41110\n"
     ]
    }
   ],
   "source": [
    "!curl https://archive.ics.uci.edu/ml/machine-learning-databases/voting-records/house-votes-84.data > data.csv"
   ]
  },
  {
   "cell_type": "code",
   "execution_count": 2,
   "metadata": {
    "collapsed": true
   },
   "outputs": [],
   "source": [
    "import pandas as pd"
   ]
  },
  {
   "cell_type": "code",
   "execution_count": 51,
   "metadata": {
    "collapsed": false
   },
   "outputs": [
    {
     "name": "stdout",
     "output_type": "stream",
     "text": [
      "\n"
     ]
    }
   ],
   "source": [
    "data = pd.read_csv('data.csv',header=None)"
   ]
  },
  {
   "cell_type": "code",
   "execution_count": 52,
   "metadata": {
    "collapsed": false
   },
   "outputs": [
    {
     "data": {
      "text/html": [
       "<div>\n",
       "<table border=\"1\" class=\"dataframe\">\n",
       "  <thead>\n",
       "    <tr style=\"text-align: right;\">\n",
       "      <th></th>\n",
       "      <th>0</th>\n",
       "      <th>1</th>\n",
       "      <th>2</th>\n",
       "      <th>3</th>\n",
       "      <th>4</th>\n",
       "      <th>5</th>\n",
       "      <th>6</th>\n",
       "      <th>7</th>\n",
       "      <th>8</th>\n",
       "      <th>9</th>\n",
       "      <th>10</th>\n",
       "      <th>11</th>\n",
       "      <th>12</th>\n",
       "      <th>13</th>\n",
       "      <th>14</th>\n",
       "      <th>15</th>\n",
       "      <th>16</th>\n",
       "    </tr>\n",
       "  </thead>\n",
       "  <tbody>\n",
       "    <tr>\n",
       "      <th>0</th>\n",
       "      <td>republican</td>\n",
       "      <td>n</td>\n",
       "      <td>y</td>\n",
       "      <td>n</td>\n",
       "      <td>y</td>\n",
       "      <td>y</td>\n",
       "      <td>y</td>\n",
       "      <td>n</td>\n",
       "      <td>n</td>\n",
       "      <td>n</td>\n",
       "      <td>y</td>\n",
       "      <td>?</td>\n",
       "      <td>y</td>\n",
       "      <td>y</td>\n",
       "      <td>y</td>\n",
       "      <td>n</td>\n",
       "      <td>y</td>\n",
       "    </tr>\n",
       "    <tr>\n",
       "      <th>1</th>\n",
       "      <td>republican</td>\n",
       "      <td>n</td>\n",
       "      <td>y</td>\n",
       "      <td>n</td>\n",
       "      <td>y</td>\n",
       "      <td>y</td>\n",
       "      <td>y</td>\n",
       "      <td>n</td>\n",
       "      <td>n</td>\n",
       "      <td>n</td>\n",
       "      <td>n</td>\n",
       "      <td>n</td>\n",
       "      <td>y</td>\n",
       "      <td>y</td>\n",
       "      <td>y</td>\n",
       "      <td>n</td>\n",
       "      <td>?</td>\n",
       "    </tr>\n",
       "  </tbody>\n",
       "</table>\n",
       "</div>"
      ],
      "text/plain": [
       "           0  1  2  3  4  5  6  7  8  9  10 11 12 13 14 15 16\n",
       "0  republican  n  y  n  y  y  y  n  n  n  y  ?  y  y  y  n  y\n",
       "1  republican  n  y  n  y  y  y  n  n  n  n  n  y  y  y  n  ?"
      ]
     },
     "execution_count": 52,
     "metadata": {},
     "output_type": "execute_result"
    }
   ],
   "source": [
    "data.head(2)"
   ]
  },
  {
   "cell_type": "markdown",
   "metadata": {},
   "source": [
    "**Challenge 1**"
   ]
  },
  {
   "cell_type": "code",
   "execution_count": 53,
   "metadata": {
    "collapsed": true
   },
   "outputs": [],
   "source": [
    "data = data.replace('n',0)\n",
    "data = data.replace('y',1)"
   ]
  },
  {
   "cell_type": "code",
   "execution_count": 54,
   "metadata": {
    "collapsed": true
   },
   "outputs": [],
   "source": [
    "col_means = [data.loc[data[col]!='?',col].mean() for col in data.columns[1:]]"
   ]
  },
  {
   "cell_type": "code",
   "execution_count": 55,
   "metadata": {
    "collapsed": true
   },
   "outputs": [],
   "source": [
    "for col in data.columns[1:]:\n",
    "    data[col] = data[col].replace('?',col_means[col-1])"
   ]
  },
  {
   "cell_type": "code",
   "execution_count": 56,
   "metadata": {
    "collapsed": false
   },
   "outputs": [
    {
     "data": {
      "text/html": [
       "<div>\n",
       "<table border=\"1\" class=\"dataframe\">\n",
       "  <thead>\n",
       "    <tr style=\"text-align: right;\">\n",
       "      <th></th>\n",
       "      <th>0</th>\n",
       "      <th>1</th>\n",
       "      <th>2</th>\n",
       "      <th>3</th>\n",
       "      <th>4</th>\n",
       "      <th>5</th>\n",
       "      <th>6</th>\n",
       "      <th>7</th>\n",
       "      <th>8</th>\n",
       "      <th>9</th>\n",
       "      <th>10</th>\n",
       "      <th>11</th>\n",
       "      <th>12</th>\n",
       "      <th>13</th>\n",
       "      <th>14</th>\n",
       "      <th>15</th>\n",
       "      <th>16</th>\n",
       "    </tr>\n",
       "  </thead>\n",
       "  <tbody>\n",
       "    <tr>\n",
       "      <th>0</th>\n",
       "      <td>republican</td>\n",
       "      <td>0.0</td>\n",
       "      <td>1.0</td>\n",
       "      <td>0.0</td>\n",
       "      <td>1.0</td>\n",
       "      <td>1.0</td>\n",
       "      <td>1.0</td>\n",
       "      <td>0.0</td>\n",
       "      <td>0.0</td>\n",
       "      <td>0.0</td>\n",
       "      <td>1.0</td>\n",
       "      <td>0.362319</td>\n",
       "      <td>1.0</td>\n",
       "      <td>1.0</td>\n",
       "      <td>1.0</td>\n",
       "      <td>0.0</td>\n",
       "      <td>1.000000</td>\n",
       "    </tr>\n",
       "    <tr>\n",
       "      <th>1</th>\n",
       "      <td>republican</td>\n",
       "      <td>0.0</td>\n",
       "      <td>1.0</td>\n",
       "      <td>0.0</td>\n",
       "      <td>1.0</td>\n",
       "      <td>1.0</td>\n",
       "      <td>1.0</td>\n",
       "      <td>0.0</td>\n",
       "      <td>0.0</td>\n",
       "      <td>0.0</td>\n",
       "      <td>0.0</td>\n",
       "      <td>0.000000</td>\n",
       "      <td>1.0</td>\n",
       "      <td>1.0</td>\n",
       "      <td>1.0</td>\n",
       "      <td>0.0</td>\n",
       "      <td>0.812689</td>\n",
       "    </tr>\n",
       "  </tbody>\n",
       "</table>\n",
       "</div>"
      ],
      "text/plain": [
       "           0    1    2    3    4    5    6    7    8    9    10        11  \\\n",
       "0  republican  0.0  1.0  0.0  1.0  1.0  1.0  0.0  0.0  0.0  1.0  0.362319   \n",
       "1  republican  0.0  1.0  0.0  1.0  1.0  1.0  0.0  0.0  0.0  0.0  0.000000   \n",
       "\n",
       "    12   13   14   15        16  \n",
       "0  1.0  1.0  1.0  0.0  1.000000  \n",
       "1  1.0  1.0  1.0  0.0  0.812689  "
      ]
     },
     "execution_count": 56,
     "metadata": {},
     "output_type": "execute_result"
    }
   ],
   "source": [
    "data.head(2)"
   ]
  },
  {
   "cell_type": "code",
   "execution_count": 57,
   "metadata": {
    "collapsed": true
   },
   "outputs": [],
   "source": [
    "from sklearn.cross_validation import train_test_split"
   ]
  },
  {
   "cell_type": "code",
   "execution_count": 102,
   "metadata": {
    "collapsed": true
   },
   "outputs": [],
   "source": [
    "X_train,X_test,y_train,y_test = train_test_split(data.values[:,1:],data.values[:,0],test_size=.30, random_state=4444)"
   ]
  },
  {
   "cell_type": "code",
   "execution_count": 103,
   "metadata": {
    "collapsed": true
   },
   "outputs": [],
   "source": [
    "from sklearn.preprocessing import normalize\n",
    "from numpy.linalg import norm\n",
    "from sklearn.neighbors import KNeighborsClassifier\n",
    "from sklearn.linear_model import LogisticRegression\n",
    "from sklearn.naive_bayes import GaussianNB\n",
    "from sklearn.svm import SVC\n",
    "from sklearn.tree import DecisionTreeClassifier\n",
    "from sklearn.ensemble import RandomForestClassifier\n",
    "from sklearn.ensemble import ExtraTreesClassifier"
   ]
  },
  {
   "cell_type": "code",
   "execution_count": 104,
   "metadata": {
    "collapsed": true
   },
   "outputs": [],
   "source": [
    "knn = KNeighborsClassifier(3,'distance',p=1) ## best k from previous challenges\n",
    "lgr = LogisticRegression()\n",
    "gnb = GaussianNB()\n",
    "svc = SVC(probability=True)\n",
    "dtc = DecisionTreeClassifier()\n",
    "rfc = RandomForestClassifier(50)\n",
    "etc = ExtraTreesClassifier(100)\n",
    "clfs = [knn,lgr,gnb,svc,dtc,rfc,etc]"
   ]
  },
  {
   "cell_type": "code",
   "execution_count": 105,
   "metadata": {
    "collapsed": false
   },
   "outputs": [],
   "source": [
    "accuracies, precisions, recalls, f1_scores = [],[],[],[]\n",
    "for clf in clfs:\n",
    "    if clf==knn:\n",
    "        lengths = norm(X_train.astype(float),axis=0)\n",
    "        X_train_sp = normalize(X_train.astype(float),axis=0)\n",
    "        X_test_sp = X_test/lengths\n",
    "        clf.fit(X_train_sp,y_train)\n",
    "        y_pred = clf.predict(X_test_sp)\n",
    "    else:\n",
    "        clf.fit(X_train,y_train)\n",
    "        y_pred = clf.predict(X_test)\n",
    "    \n",
    "    y_true = y_test\n",
    "    \n",
    "    num_rep_p = sum(y_pred=='republican')\n",
    "    num_rep_t = sum(y_true=='republican')\n",
    "    num_dem_p = len(y_true) - num_rep_p\n",
    "    num_dem_t = len(y_true) - num_rep_t\n",
    "    \n",
    "    acc = sum(1 for i,j in zip(y_pred,y_true) if i==j) / float(len(y_true))\n",
    "    \n",
    "    precision_rep = sum(1 for i,j in zip(y_pred,y_true) if i==j=='republican') / float(num_rep_p)\n",
    "    precision_dem = sum(1 for i,j in zip(y_pred,y_true) if i==j=='democrat') / float(num_dem_p)\n",
    "    \n",
    "    recall_rep = sum(1 for i,j in zip(y_pred,y_true) if i==j=='republican') / float(num_rep_t)\n",
    "    recall_dem = sum(1 for i,j in zip(y_pred,y_true) if i==j=='democrat') / float(num_dem_t)\n",
    "    \n",
    "    f1_rep = 2 * recall_rep * precision_rep / (recall_rep + precision_rep)\n",
    "    f1_dem = 2 * recall_dem * precision_dem / (recall_dem + precision_dem)\n",
    "    \n",
    "    accuracies.append(acc)\n",
    "    precisions.append((precision_rep,precision_dem))\n",
    "    recalls.append((recall_rep,recall_dem))\n",
    "    f1_scores.append((f1_rep,f1_dem))"
   ]
  },
  {
   "cell_type": "code",
   "execution_count": 106,
   "metadata": {
    "collapsed": false
   },
   "outputs": [
    {
     "name": "stdout",
     "output_type": "stream",
     "text": [
      "   Classifier                      Accuracy \n",
      "\n",
      "KNeighborsClassifier            0.931297709924\n",
      "LogisticRegression              0.93893129771\n",
      "GaussianNB                      0.93893129771\n",
      "SVC                             0.954198473282\n",
      "DecisionTreeClassifier          0.93893129771\n",
      "RandomForestClassifier          0.954198473282\n",
      "ExtraTreesClassifier            0.954198473282\n"
     ]
    }
   ],
   "source": [
    "print '   Classifier',' ' * (30-len('Classifier')),'Accuracy','\\n'\n",
    "for u,clf in enumerate(clfs):\n",
    "    s = str(clf).split('(')[0]\n",
    "    print s,' ' * (30-len(s)),accuracies[u]"
   ]
  },
  {
   "cell_type": "code",
   "execution_count": 107,
   "metadata": {
    "collapsed": false
   },
   "outputs": [
    {
     "name": "stdout",
     "output_type": "stream",
     "text": [
      "    Classifier              Precision - Republican          Precision - Democrat \n",
      "\n",
      "KNeighborsClassifier            0.941176470588                  0.925\n",
      "LogisticRegression              0.96                            0.925925925926\n",
      "GaussianNB                      0.979166666667                  0.915662650602\n",
      "SVC                             0.961538461538                  0.949367088608\n",
      "DecisionTreeClassifier          0.942307692308                  0.936708860759\n",
      "RandomForestClassifier          0.961538461538                  0.949367088608\n",
      "ExtraTreesClassifier            0.98                            0.938271604938\n"
     ]
    }
   ],
   "source": [
    "print '    Classifier',' ' * (22-len('Classifier')),'Precision - Republican', ' ' * (30-len('Precision - Republican')),'Precision - Democrat','\\n'\n",
    "for u,clf in enumerate(clfs):\n",
    "    s = str(clf).split('(')[0]\n",
    "    print s,' ' * (30-len(s)),precisions[u][0],' ' * (30-len(str(precisions[u][0]))),precisions[u][1]"
   ]
  },
  {
   "cell_type": "code",
   "execution_count": 108,
   "metadata": {
    "collapsed": false
   },
   "outputs": [
    {
     "name": "stdout",
     "output_type": "stream",
     "text": [
      "     Classifier              Recall - Republican              Recall - Democrat \n",
      "\n",
      "KNeighborsClassifier            0.888888888889                  0.961038961039\n",
      "LogisticRegression              0.888888888889                  0.974025974026\n",
      "GaussianNB                      0.87037037037                   0.987012987013\n",
      "SVC                             0.925925925926                  0.974025974026\n",
      "DecisionTreeClassifier          0.907407407407                  0.961038961039\n",
      "RandomForestClassifier          0.925925925926                  0.974025974026\n",
      "ExtraTreesClassifier            0.907407407407                  0.987012987013\n"
     ]
    }
   ],
   "source": [
    "print '     Classifier',' ' * (22-len('Classifier')),'Recall - Republican', ' ' * (31-len('Recall - Republican')),'Recall - Democrat','\\n'\n",
    "for u,clf in enumerate(clfs):\n",
    "    s = str(clf).split('(')[0]\n",
    "    print s,' ' * (30-len(s)),recalls[u][0],' ' * (30-len(str(recalls[u][0]))),recalls[u][1]"
   ]
  },
  {
   "cell_type": "code",
   "execution_count": 109,
   "metadata": {
    "collapsed": false
   },
   "outputs": [
    {
     "name": "stdout",
     "output_type": "stream",
     "text": [
      "     Classifier              F1 Score - Republican            F1 Score - Democrat \n",
      "\n",
      "KNeighborsClassifier            0.914285714286                  0.942675159236\n",
      "LogisticRegression              0.923076923077                  0.949367088608\n",
      "GaussianNB                      0.921568627451                  0.95\n",
      "SVC                             0.943396226415                  0.961538461538\n",
      "DecisionTreeClassifier          0.924528301887                  0.948717948718\n",
      "RandomForestClassifier          0.943396226415                  0.961538461538\n",
      "ExtraTreesClassifier            0.942307692308                  0.962025316456\n"
     ]
    }
   ],
   "source": [
    "print '     Classifier',' ' * (22-len('Classifier')),'F1 Score - Republican', ' ' * (31-len('F1 Score - Republican')),'F1 Score - Democrat','\\n'\n",
    "for u,clf in enumerate(clfs):\n",
    "    s = str(clf).split('(')[0]\n",
    "    print s,' ' * (30-len(s)),f1_scores[u][0],' ' * (30-len(str(f1_scores[u][0]))),f1_scores[u][1]"
   ]
  },
  {
   "cell_type": "markdown",
   "metadata": {},
   "source": [
    "**Challenge 2**"
   ]
  },
  {
   "cell_type": "code",
   "execution_count": 110,
   "metadata": {
    "collapsed": true
   },
   "outputs": [],
   "source": [
    "from sklearn.metrics import roc_curve, auc\n",
    "import matplotlib.pyplot as plt\n",
    "%matplotlib inline"
   ]
  },
  {
   "cell_type": "code",
   "execution_count": 111,
   "metadata": {
    "collapsed": true
   },
   "outputs": [],
   "source": [
    "y_train = [1 if p=='republican' else 0 for p in y_train] ## converting to numbers so clfs can predict probabilities\n",
    "y_test = [1 if p=='republican' else 0 for p in y_test]"
   ]
  },
  {
   "cell_type": "code",
   "execution_count": 112,
   "metadata": {
    "collapsed": false
   },
   "outputs": [],
   "source": [
    "fprs,tprs,roc_aucs = [],[],[]\n",
    "for clf in clfs:\n",
    "    if clf==knn:\n",
    "        clf.fit(X_train_sp,y_train)\n",
    "        y_pred = clf.predict_proba(X_test_sp)[:,1]\n",
    "    else:\n",
    "        clf.fit(X_train,y_train)\n",
    "        y_pred = clf.predict_proba(X_test)[:,1]\n",
    "    \n",
    "    y_true = y_test\n",
    "    \n",
    "    fpr, tpr, _ = roc_curve(y_true, y_pred)\n",
    "    roc_auc = auc(fpr, tpr)\n",
    "    \n",
    "    fprs.append(fpr)\n",
    "    tprs.append(tpr)\n",
    "    roc_aucs.append(roc_auc)"
   ]
  },
  {
   "cell_type": "code",
   "execution_count": 113,
   "metadata": {
    "collapsed": false
   },
   "outputs": [
    {
     "data": {
      "image/png": "[encoded data removed]",
      "text/plain": [
       "<matplotlib.figure.Figure at 0x11a5b6190>"
      ]
     },
     "metadata": {},
     "output_type": "display_data"
    }
   ],
   "source": [
    "for u,clf in enumerate(clfs):\n",
    "    s = str(clf).split('(')[0]\n",
    "    plt.plot(fprs[u], tprs[u], label='%s (area = %0.2f)' % (s,roc_aucs[u]))\n",
    "plt.plot([0, 1], [0, 1], 'k--')\n",
    "plt.xlim([0.0, 1.0])\n",
    "plt.ylim([0.0, 1.05])\n",
    "plt.xlabel('False Positive Rate')\n",
    "plt.ylabel('True Positive Rate')\n",
    "plt.title('ROC')\n",
    "plt.legend(loc=\"lower right\");"
   ]
  },
  {
   "cell_type": "markdown",
   "metadata": {},
   "source": [
    "**Challenge 3**"
   ]
  },
  {
   "cell_type": "code",
   "execution_count": 114,
   "metadata": {
    "collapsed": true
   },
   "outputs": [],
   "source": [
    "from sklearn.cross_validation import cross_val_score"
   ]
  },
  {
   "cell_type": "code",
   "execution_count": 115,
   "metadata": {
    "collapsed": false
   },
   "outputs": [
    {
     "name": "stdout",
     "output_type": "stream",
     "text": [
      "     Classifier                      Average Precision            Average Recall               Average F1-Score \n",
      "\n",
      "KNeighborsClassifier                  0.903328172188              0.956140350877               0.928082512893\n",
      "LogisticRegression                    0.964387464387              0.947368421053               0.955541515542\n",
      "GaussianNB                            0.896761133603              0.912280701754               0.904420141262\n",
      "SVC                                   0.933910997005              0.973684210526               0.95314519665\n",
      "DecisionTreeClassifier                0.922331947332              0.938596491228               0.929682929683\n",
      "RandomForestClassifier                0.932028789924              0.973684210526               0.948930113487\n",
      "ExtraTreesClassifier                  0.932456140351              0.964912280702               0.951803868646\n"
     ]
    }
   ],
   "source": [
    "print '     Classifier',' ' * (30-len('Classifier')),'Average Precision',' ' * (27-len('Average Precision')), \\\n",
    "        'Average Recall',' ' * (27-len('Average Recall')),'Average F1-Score','\\n'\n",
    "for clf in clfs:\n",
    "    s = str(clf).split('(')[0]\n",
    "    if clf==knn:\n",
    "        print s,' '*(36-len(s)),cross_val_score(clf,X_train_sp,y_train,scoring='precision').mean(),\n",
    "        print ' '*(26-len(str(cross_val_score(clf,X_train_sp,y_train,scoring='precision').mean()))),\n",
    "        print cross_val_score(clf,X_train_sp,y_train,scoring='recall').mean(),\n",
    "        print ' '*(27-len(str(cross_val_score(clf,X_train_sp,y_train,scoring='recall').mean()))),\n",
    "        print cross_val_score(clf,X_train_sp,y_train,scoring='f1').mean()\n",
    "                \n",
    "    else:\n",
    "        print s,' '*(36-len(s)),cross_val_score(clf,X_train,y_train,scoring='precision').mean(),\n",
    "        print ' '*(26-len(str(cross_val_score(clf,X_train,y_train,scoring='precision').mean()))),\n",
    "        print cross_val_score(clf,X_train,y_train,scoring='recall').mean(),\n",
    "        print ' '*(27-len(str(cross_val_score(clf,X_train,y_train,scoring='recall').mean()))),\n",
    "        print cross_val_score(clf,X_train,y_train,scoring='f1').mean()"
   ]
  },
  {
   "cell_type": "markdown",
   "metadata": {},
   "source": [
    "**Challenge 4**"
   ]
  },
  {
   "cell_type": "code",
   "execution_count": 117,
   "metadata": {
    "collapsed": false
   },
   "outputs": [],
   "source": [
    "data = pd.read_csv('./../../../challenges_data/2013_movies.csv')"
   ]
  },
  {
   "cell_type": "code",
   "execution_count": 118,
   "metadata": {
    "collapsed": false
   },
   "outputs": [
    {
     "data": {
      "text/html": [
       "<div>\n",
       "<table border=\"1\" class=\"dataframe\">\n",
       "  <thead>\n",
       "    <tr style=\"text-align: right;\">\n",
       "      <th></th>\n",
       "      <th>Title</th>\n",
       "      <th>Budget</th>\n",
       "      <th>DomesticTotalGross</th>\n",
       "      <th>Director</th>\n",
       "      <th>Rating</th>\n",
       "      <th>Runtime</th>\n",
       "      <th>ReleaseDate</th>\n",
       "    </tr>\n",
       "  </thead>\n",
       "  <tbody>\n",
       "    <tr>\n",
       "      <th>0</th>\n",
       "      <td>The Hunger Games: Catching Fire</td>\n",
       "      <td>130000000.0</td>\n",
       "      <td>424668047</td>\n",
       "      <td>Francis Lawrence</td>\n",
       "      <td>PG-13</td>\n",
       "      <td>146</td>\n",
       "      <td>2013-11-22 00:00:00</td>\n",
       "    </tr>\n",
       "    <tr>\n",
       "      <th>1</th>\n",
       "      <td>Iron Man 3</td>\n",
       "      <td>200000000.0</td>\n",
       "      <td>409013994</td>\n",
       "      <td>Shane Black</td>\n",
       "      <td>PG-13</td>\n",
       "      <td>129</td>\n",
       "      <td>2013-05-03 00:00:00</td>\n",
       "    </tr>\n",
       "  </tbody>\n",
       "</table>\n",
       "</div>"
      ],
      "text/plain": [
       "                             Title       Budget  DomesticTotalGross  \\\n",
       "0  The Hunger Games: Catching Fire  130000000.0           424668047   \n",
       "1                       Iron Man 3  200000000.0           409013994   \n",
       "\n",
       "           Director Rating  Runtime          ReleaseDate  \n",
       "0  Francis Lawrence  PG-13      146  2013-11-22 00:00:00  \n",
       "1       Shane Black  PG-13      129  2013-05-03 00:00:00  "
      ]
     },
     "execution_count": 118,
     "metadata": {},
     "output_type": "execute_result"
    }
   ],
   "source": [
    "data.head(2)"
   ]
  },
  {
   "cell_type": "markdown",
   "metadata": {},
   "source": [
    "Imputing Budget.."
   ]
  },
  {
   "cell_type": "code",
   "execution_count": 121,
   "metadata": {
    "collapsed": false
   },
   "outputs": [],
   "source": [
    "import numpy as np\n",
    "from numpy.linalg import norm\n",
    "from sklearn.neighbors import KNeighborsRegressor"
   ]
  },
  {
   "cell_type": "code",
   "execution_count": 122,
   "metadata": {
    "collapsed": false
   },
   "outputs": [],
   "source": [
    "mask = data.Budget.isnull().values\n",
    "X_train = np.hstack((data.values[np.logical_not(mask),:][:,[5]],\n",
    "                     pd.get_dummies(data.Rating).values[np.logical_not(mask),:]))\n",
    "X_train[:,1] = np.ones(sum(np.logical_not(mask))) ## sidestep the issue of having 0 length vector\n",
    "lengths = norm(X_train.astype(float),axis=0)\n",
    "X_train = normalize(X_train.astype(float),axis=0)\n",
    "y_train = data.values[np.logical_not(mask),1]\n",
    "model = KNeighborsRegressor(n_neighbors=5, weights='distance', leaf_size=30, p=1, n_jobs=1)\n",
    "model.fit(X_train,y_train);\n",
    "X_test = np.hstack((data.values[mask,:][:,[5]],\n",
    "                     pd.get_dummies(data.Rating).values[mask,:])) / lengths\n",
    "data.ix[mask,'Budget'] = model.predict(X_test)"
   ]
  },
  {
   "cell_type": "code",
   "execution_count": 123,
   "metadata": {
    "collapsed": false
   },
   "outputs": [],
   "source": [
    "split = data.DomesticTotalGross.median()\n",
    "X = np.hstack((data.values[:,1][:,None],pd.get_dummies(data.Rating).values,data.values[:,5][:,None])).astype(float)\n",
    "y = (data.DomesticTotalGross>=split).astype(float)"
   ]
  },
  {
   "cell_type": "code",
   "execution_count": 124,
   "metadata": {
    "collapsed": true
   },
   "outputs": [],
   "source": [
    "X_train,X_test,y_train,y_test = train_test_split(X,y,test_size=.30, random_state=4444)"
   ]
  },
  {
   "cell_type": "code",
   "execution_count": 125,
   "metadata": {
    "collapsed": true
   },
   "outputs": [],
   "source": [
    "knn = KNeighborsClassifier(16,'distance',p=18) ##best k from previous challenges\n",
    "lgr = LogisticRegression()\n",
    "clfs = [knn,lgr]"
   ]
  },
  {
   "cell_type": "code",
   "execution_count": 126,
   "metadata": {
    "collapsed": false
   },
   "outputs": [],
   "source": [
    "precisions, recalls = [],[]\n",
    "for clf in clfs:\n",
    "    if clf==knn:\n",
    "        X_train_sp = normalize(X_train.astype(float),axis=0)\n",
    "        X_test_sp = normalize(X_test.astype(float),axis=0)\n",
    "        clf.fit(X_train_sp,y_train)\n",
    "        y_pred = clf.predict(X_test_sp)\n",
    "    else:\n",
    "        clf.fit(X_train,y_train)\n",
    "        y_pred = clf.predict(X_test)\n",
    "        \n",
    "    y_true = y_test\n",
    "    \n",
    "    num_y_p = sum(y_pred)\n",
    "    num_y_t = sum(y_true)\n",
    "    num_n_p = len(y_true) - num_y_p\n",
    "    num_n_t = len(y_true) - num_y_t\n",
    "    \n",
    "    precision_y = sum(1 for i,j in zip(y_pred,y_true) if i==j==1) / float(num_y_p) if float(num_y_p)!=0 else 'undef.'\n",
    "    precision_n = sum(1 for i,j in zip(y_pred,y_true) if i==j==0) / float(num_n_p) if float(num_n_p)!=0 else 'undef.'\n",
    "    \n",
    "    recall_y = sum(1 for i,j in zip(y_pred,y_true) if i==j==1) / float(num_y_t) if float(num_y_t)!=0 else 'undef.'\n",
    "    recall_n = sum(1 for i,j in zip(y_pred,y_true) if i==j==0) / float(num_n_t) if float(num_n_t)!=0 else 'undef.'\n",
    "    \n",
    "    precisions.append((precision_y,precision_n))\n",
    "    recalls.append((recall_y,recall_n))"
   ]
  },
  {
   "cell_type": "code",
   "execution_count": 127,
   "metadata": {
    "collapsed": false
   },
   "outputs": [
    {
     "name": "stdout",
     "output_type": "stream",
     "text": [
      "    Classifier              Precision - Yes                 Precision - No \n",
      "\n",
      "KNeighborsClassifier            0.521739130435                  0.571428571429\n",
      "LogisticRegression              0.5                             undef.\n"
     ]
    }
   ],
   "source": [
    "print '    Classifier',' ' * (22-len('Classifier')),'Precision - Yes', ' ' * (30-len('Precision - Yes')),'Precision - No','\\n'\n",
    "for u,clf in enumerate(clfs):\n",
    "    s = str(clf).split('(')[0]\n",
    "    print s,' ' * (30-len(s)),precisions[u][0],' ' * (30-len(str(precisions[u][0]))),precisions[u][1]"
   ]
  },
  {
   "cell_type": "code",
   "execution_count": 128,
   "metadata": {
    "collapsed": false
   },
   "outputs": [
    {
     "name": "stdout",
     "output_type": "stream",
     "text": [
      "     Classifier              Recall - Yes                     Recall - No \n",
      "\n",
      "KNeighborsClassifier            0.8                             0.266666666667\n",
      "LogisticRegression              1.0                             0.0\n"
     ]
    }
   ],
   "source": [
    "print '     Classifier',' ' * (22-len('Classifier')),'Recall - Yes', ' ' * (31-len('Recall - Yes')),'Recall - No','\\n'\n",
    "for u,clf in enumerate(clfs):\n",
    "    s = str(clf).split('(')[0]\n",
    "    print s,' ' * (30-len(s)),recalls[u][0],' ' * (30-len(str(recalls[u][0]))),recalls[u][1]"
   ]
  },
  {
   "cell_type": "markdown",
   "metadata": {},
   "source": [
    "**Challenge 5**"
   ]
  },
  {
   "cell_type": "code",
   "execution_count": 129,
   "metadata": {
    "collapsed": false
   },
   "outputs": [
    {
     "name": "stdout",
     "output_type": "stream",
     "text": [
      "  % Total    % Received % Xferd  Average Speed   Time    Time     Time  Current\n",
      "                                 Dload  Upload   Total   Spent    Left  Speed\n",
      "100  3103  100  3103    0     0   9485      0 --:--:-- --:--:-- --:--:--  9547\n"
     ]
    }
   ],
   "source": [
    "!curl https://archive.ics.uci.edu/ml/machine-learning-databases/haberman/haberman.data > data.csv"
   ]
  },
  {
   "cell_type": "code",
   "execution_count": 130,
   "metadata": {
    "collapsed": true
   },
   "outputs": [],
   "source": [
    "data = pd.read_csv('data.csv',header=None)\n",
    "data.columns = ['Age','Year','Nodes','Status']"
   ]
  },
  {
   "cell_type": "code",
   "execution_count": 131,
   "metadata": {
    "collapsed": false
   },
   "outputs": [
    {
     "data": {
      "text/html": [
       "<div>\n",
       "<table border=\"1\" class=\"dataframe\">\n",
       "  <thead>\n",
       "    <tr style=\"text-align: right;\">\n",
       "      <th></th>\n",
       "      <th>Age</th>\n",
       "      <th>Year</th>\n",
       "      <th>Nodes</th>\n",
       "      <th>Status</th>\n",
       "    </tr>\n",
       "  </thead>\n",
       "  <tbody>\n",
       "    <tr>\n",
       "      <th>0</th>\n",
       "      <td>30</td>\n",
       "      <td>64</td>\n",
       "      <td>1</td>\n",
       "      <td>1</td>\n",
       "    </tr>\n",
       "    <tr>\n",
       "      <th>1</th>\n",
       "      <td>30</td>\n",
       "      <td>62</td>\n",
       "      <td>3</td>\n",
       "      <td>1</td>\n",
       "    </tr>\n",
       "  </tbody>\n",
       "</table>\n",
       "</div>"
      ],
      "text/plain": [
       "   Age  Year  Nodes  Status\n",
       "0   30    64      1       1\n",
       "1   30    62      3       1"
      ]
     },
     "execution_count": 131,
     "metadata": {},
     "output_type": "execute_result"
    }
   ],
   "source": [
    "data.head(2)"
   ]
  },
  {
   "cell_type": "code",
   "execution_count": 132,
   "metadata": {
    "collapsed": true
   },
   "outputs": [],
   "source": [
    "from sklearn.preprocessing import LabelBinarizer \n",
    "lb = LabelBinarizer()\n",
    "X = data.values[:,[0,1,2]]\n",
    "y = np.ravel(lb.fit_transform(data.values[:,3]))"
   ]
  },
  {
   "cell_type": "code",
   "execution_count": 133,
   "metadata": {
    "collapsed": true
   },
   "outputs": [],
   "source": [
    "X_train,X_test,y_train,y_test = train_test_split(X,y,test_size=.30, random_state=4444)"
   ]
  },
  {
   "cell_type": "code",
   "execution_count": 134,
   "metadata": {
    "collapsed": false
   },
   "outputs": [
    {
     "data": {
      "text/plain": [
       "LogisticRegression(C=1.0, class_weight=None, dual=False, fit_intercept=True,\n",
       "          intercept_scaling=1, max_iter=100, multi_class='ovr', n_jobs=1,\n",
       "          penalty='l2', random_state=None, solver='liblinear', tol=0.0001,\n",
       "          verbose=0, warm_start=False)"
      ]
     },
     "execution_count": 134,
     "metadata": {},
     "output_type": "execute_result"
    }
   ],
   "source": [
    "lgr.fit(X_train,y_train)"
   ]
  },
  {
   "cell_type": "code",
   "execution_count": 138,
   "metadata": {
    "collapsed": false
   },
   "outputs": [],
   "source": [
    "fpr, tpr, _ = roc_curve(y_test, lgr.predict_proba(X_test)[:,1])\n",
    "roc_auc = auc(fpr, tpr)"
   ]
  },
  {
   "cell_type": "code",
   "execution_count": 139,
   "metadata": {
    "collapsed": false
   },
   "outputs": [
    {
     "data": {
      "image/png": "[encoded data removed]",
      "text/plain": [
       "<matplotlib.figure.Figure at 0x11b196b90>"
      ]
     },
     "metadata": {},
     "output_type": "display_data"
    }
   ],
   "source": [
    "plt.plot(fpr, tpr, label='Area = %0.2f' % roc_auc)\n",
    "plt.plot([0, 1], [0, 1], 'k--')\n",
    "plt.xlim([0.0, 1.0])\n",
    "plt.ylim([0.0, 1.05])\n",
    "plt.xlabel('False Positive Rate')\n",
    "plt.ylabel('True Positive Rate')\n",
    "plt.title('ROC')\n",
    "plt.legend(loc=\"lower right\");"
   ]
  }
 ],
 "metadata": {
  "kernelspec": {
   "display_name": "Python 2",
   "language": "python",
   "name": "python2"
  },
  "language_info": {
   "codemirror_mode": {
    "name": "ipython",
    "version": 2
   },
   "file_extension": ".py",
   "mimetype": "text/x-python",
   "name": "python",
   "nbconvert_exporter": "python",
   "pygments_lexer": "ipython2",
   "version": "2.7.11"
  }
 },
 "nbformat": 4,
 "nbformat_minor": 0
}
