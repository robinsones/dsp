{
 "cells": [
  {
   "cell_type": "markdown",
   "metadata": {},
   "source": [
    "# Challenge 6 - Classification Errors\n",
    "\n",
    "Date - 8/1/16\n",
    "\n",
    "Sunne Kuo\n",
    "\n",
    "Worked with Avi"
   ]
  },
  {
   "cell_type": "code",
   "execution_count": 6,
   "metadata": {
    "collapsed": true
   },
   "outputs": [],
   "source": [
    "import pandas as pd\n",
    "import matplotlib.pyplot as plt\n",
    "%matplotlib inline\n",
    "import numpy as np\n",
    "from sklearn.cross_validation import train_test_split\n",
    "from sklearn import cross_validation\n",
    "from sklearn.cross_validation import cross_val_score\n",
    "import seaborn as sns\n",
    "import pprint\n",
    "from sklearn import metrics"
   ]
  },
  {
   "cell_type": "code",
   "execution_count": 7,
   "metadata": {
    "collapsed": true
   },
   "outputs": [],
   "source": [
    "from sklearn.neighbors import KNeighborsClassifier\n",
    "from sklearn.linear_model import LogisticRegression\n",
    "from sklearn.naive_bayes import GaussianNB\n",
    "from sklearn.svm import SVC\n",
    "from sklearn.tree import DecisionTreeClassifier\n",
    "from sklearn.ensemble import RandomForestClassifier\n",
    "from sklearn.metrics import accuracy_score\n",
    "from sklearn.metrics import precision_score\n",
    "from sklearn.metrics import recall_score\n",
    "from sklearn.metrics import f1_score\n",
    "import numpy as np"
   ]
  },
  {
   "cell_type": "code",
   "execution_count": 8,
   "metadata": {
    "collapsed": false
   },
   "outputs": [],
   "source": [
    "def ROC_viz(clf, x,y): \n",
    "    xtrain, xtest, ytrain, ytest = cross_validation.train_test_split(x, y, test_size=0.2, random_state=1234)\n",
    "    ytrain=np.ravel(ytrain)\n",
    "    clf = clf.fit(xtrain, ytrain)\n",
    "    roc=metrics.roc_curve(ytest,clf.predict(xtest))\n",
    "    auc=metrics.roc_auc_score(ytest,clf.predict(xtest))\n",
    "    plt.figure()\n",
    "    # Plotting our Baseline! \n",
    "    plt.plot([0,1],[0,1])\n",
    "    plt.plot(roc[0],roc[1])\n",
    "    plt.xlabel('FPR')\n",
    "    plt.ylabel('TPR')\n",
    "    print ('fpr', metrics.roc_curve(ytest, clf.predict(xtest))[0][1])\n",
    "    print ('tpr', metrics.roc_curve(ytest, clf.predict(xtest))[1][1])\n",
    "    print('AUC score:', auc)"
   ]
  },
  {
   "cell_type": "code",
   "execution_count": 72,
   "metadata": {
    "collapsed": false
   },
   "outputs": [],
   "source": [
    "votes_df = pd.read_csv('house-votes-84.data.txt', header = None)\n",
    "votes_df.head()\n",
    "votes1 = votes_df.copy()\n",
    "votes_df.replace(['y', 'n', '?'], [1, 0, np.nan], inplace = True)\n",
    "\n",
    "means = [np.mean(votes_df[x]) for x in range(len(votes_df.columns)) if x > 0]\n",
    "means = [round(x) for x in  means]\n",
    "for x in range(1, len(votes_df.columns)):\n",
    "    votes_df[x] = votes_df[x].replace(np.nan, round(means[x-1]))  \n",
    "    \n",
    "length = int(len(votes_df)*.75)\n",
    "\n",
    "party = votes_df.iloc[:,:1]\n",
    "votes = votes_df.iloc[:, 1:]\n",
    "party.replace(['democrat', 'republican'], [1, 0], inplace = True)"
   ]
  },
  {
   "cell_type": "code",
   "execution_count": 10,
   "metadata": {
    "collapsed": false
   },
   "outputs": [],
   "source": [
    "x_train, x_test, y_train, y_test = train_test_split(votes, np.ravel(party), test_size = .3, random_state = 4444)"
   ]
  },
  {
   "cell_type": "markdown",
   "metadata": {},
   "source": [
    "## Challenge 1 & 3\n",
    "1) For the house representatives data set, calculate the accuracy, precision, recall and f1 scores of each classifier you built (on the test set).\n",
    "\n",
    "3) Calculate the same metrics you did in challenge 1, but this time in a cross validation scheme with the cross_val_score function (like in Challenge 9).\n",
    "\n"
   ]
  },
  {
   "cell_type": "code",
   "execution_count": 89,
   "metadata": {
    "collapsed": true
   },
   "outputs": [],
   "source": [
    "accuracy_tup=[]\n",
    "accuracy = []\n",
    "precision = []\n",
    "recall = []\n",
    "f1_scores = []\n",
    "\n",
    "for i in range(1, 21):\n",
    "    neigh = KNeighborsClassifier(n_neighbors=i)\n",
    "    model = neigh.fit(x_train, y_train)\n",
    "    accuracy.append(accuracy_score(y_test, model.predict(x_test)))\n",
    "    accuracy_tup.append((i, accuracy_score(y_test, model.predict(x_test))))\n",
    "    precision.append(precision_score(y_test, model.predict(x_test)))\n",
    "    recall.append(recall_score(y_test, model.predict(x_test)))\n",
    "    f1_scores.append(f1_score(y_test, model.predict(x_test)))"
   ]
  },
  {
   "cell_type": "code",
   "execution_count": 92,
   "metadata": {
    "collapsed": false
   },
   "outputs": [
    {
     "name": "stdout",
     "output_type": "stream",
     "text": [
      "K Nearest Neighbors:\n",
      "Accuracy Array: 0.815217391304\n",
      "Precision Array: 0.837837837838\n",
      "Recall Array: 0.959459459459\n",
      "F1 Array: 0.893081761006\n",
      "--------------------------------------------\n",
      "Cross Validation Accuracy: 0.91724137931\n",
      "Cross Validation Precision: 0.960465104351\n",
      "Cross Validation Recall: 0.902621722846\n",
      "Cross Validation F1: 0.930441901919\n",
      "\n",
      "\n",
      "Logistic Regressio:\n",
      "Accuracy Score: 0.826086956522\n",
      "Precision Score: 0.822222222222\n",
      "Recall Score: 1.0\n",
      "F1 Score: 0.90243902439\n",
      "\n",
      "\n",
      "Cross Validation Accuracy: 0.96091954023\n",
      "Cross Validation Precision: 0.966828308384\n",
      "Cross Validation Recall: 0.970037453184\n",
      "Cross Validation F1: 0.968098726334\n",
      "\n",
      "\n",
      "Gaussian Naive Bayes:\n",
      "Accuracy Score: 0.836956521739\n",
      "Precision Score: 0.831460674157\n",
      "Recall Score: 1.0\n",
      "F1 Score: 0.907975460123\n",
      "--------------------------------------------\n",
      "Cross Validation Accuracy: 0.926436781609\n",
      "Cross Validation Precision: 0.940776916393\n",
      "Cross Validation Recall: 0.940074906367\n",
      "Cross Validation F1: 0.939934127162\n",
      "\n",
      "\n",
      "Support Vector Machines:\n",
      "Accuracy Score: 0.782608695652\n",
      "Precision Score: 0.813953488372\n",
      "Recall Score: 0.945945945946\n",
      "F1 Score: 0.875\n",
      "--------------------------------------------\n",
      "Cross Validation Accuracy: 0.95632183908\n",
      "Cross Validation Precision: 0.980867586669\n",
      "Cross Validation Recall: 0.947565543071\n",
      "Cross Validation F1: 0.963644427719\n",
      "\n",
      "\n",
      "Decision Tree:\n",
      "Accuracy Score: 0.695652173913\n",
      "Precision Score: 0.828571428571\n",
      "Recall Score: 0.783783783784\n",
      "F1 Score: 0.805555555556\n",
      "--------------------------------------------\n",
      "Cross Validation Accuracy: 0.935632183908\n",
      "Cross Validation Precision: 0.972380065617\n",
      "Cross Validation Recall: 0.917602996255\n",
      "Cross Validation F1: 0.955668887982\n",
      "\n",
      "\n",
      "Random Forests:\n",
      "Accuracy Score: 0.70652173913\n",
      "Precision Score: 0.821917808219\n",
      "Recall Score: 0.810810810811\n",
      "F1 Score: 0.816326530612\n",
      "--------------------------------------------\n",
      "Cross Validation Accuracy: 0.949425287356\n",
      "Cross Validation Precision: 0.97707208263\n",
      "Cross Validation Recall: 0.955056179775\n",
      "Cross Validation F1: 0.95802556277\n",
      "\n",
      "\n"
     ]
    }
   ],
   "source": [
    "\n",
    "print('K Nearest Neighbors:')\n",
    "print(\"Accuracy Array:\", max(accuracy))\n",
    "print(\"Precision Array:\", max(precision))\n",
    "print(\"Recall Array:\", max(recall))\n",
    "print(\"F1 Array:\", max(f1_scores))\n",
    "print('--------------------------------------------')\n",
    "print('Cross Validation Accuracy:', np.mean(cross_val_score(neigh, votes, np.ravel(party), scoring='accuracy'))) \n",
    "print('Cross Validation Precision:', np.mean(cross_val_score(neigh, votes, np.ravel(party), scoring='precision')))\n",
    "print('Cross Validation Recall:', np.mean(cross_val_score(neigh, votes, np.ravel(party), scoring='recall')))\n",
    "print('Cross Validation F1:', np.mean(cross_val_score(neigh, votes, np.ravel(party), scoring='f1'))) \n",
    "print('\\n')\n",
    "\n",
    "logreg = LogisticRegression()\n",
    "logreg.fit(x_train, y_train)\n",
    "print('Logistic Regressio:')\n",
    "print('Accuracy Score:', accuracy_score(y_test, logreg.predict(x_test)))\n",
    "logreg_acc = [accuracy_score(y_test, logreg.predict(x_test)) for i in range(1, 21)]\n",
    "print('Precision Score:', precision_score(y_test, logreg.predict(x_test)))\n",
    "print('Recall Score:', recall_score(y_test, logreg.predict(x_test)))\n",
    "print('F1 Score:', f1_score(y_test, logreg.predict(x_test)))\n",
    "print('\\n')\n",
    "print('Cross Validation Accuracy:', np.mean(cross_val_score(logreg, votes, np.ravel(party), scoring='accuracy'))) \n",
    "print('Cross Validation Precision:', np.mean(cross_val_score(logreg, votes, np.ravel(party), scoring='precision')))\n",
    "print('Cross Validation Recall:', np.mean(cross_val_score(logreg, votes, np.ravel(party), scoring='recall')))\n",
    "print('Cross Validation F1:', np.mean(cross_val_score(logreg, votes, np.ravel(party), scoring='f1'))) \n",
    "print('\\n')\n",
    "\n",
    "nb = GaussianNB()\n",
    "nb.fit(x_train, y_train)\n",
    "print('Gaussian Naive Bayes:')\n",
    "print('Accuracy Score:', accuracy_score(y_test, nb.predict(x_test)))\n",
    "print('Precision Score:', precision_score(y_test, nb.predict(x_test)))\n",
    "print('Recall Score:', recall_score(y_test, nb.predict(x_test)))\n",
    "print('F1 Score:', f1_score(y_test, nb.predict(x_test)))\n",
    "print('--------------------------------------------')\n",
    "print('Cross Validation Accuracy:', np.mean(cross_val_score(nb, votes, np.ravel(party), scoring='accuracy'))) \n",
    "print('Cross Validation Precision:', np.mean(cross_val_score(nb, votes, np.ravel(party), scoring='precision')))\n",
    "print('Cross Validation Recall:', np.mean(cross_val_score(nb, votes, np.ravel(party), scoring='recall')))\n",
    "print('Cross Validation F1:', np.mean(cross_val_score(nb, votes, np.ravel(party), scoring='f1')))\n",
    "print('\\n')\n",
    "\n",
    "svm = SVC()\n",
    "svm.fit(x_train, y_train)\n",
    "print('Support Vector Machines:')\n",
    "print('Accuracy Score:', accuracy_score(y_test, svm.predict(x_test)))\n",
    "print('Precision Score:', precision_score(y_test, svm.predict(x_test)))\n",
    "print('Recall Score:', recall_score(y_test, svm.predict(x_test)))\n",
    "print('F1 Score:', f1_score(y_test, svm.predict(x_test)))\n",
    "print('--------------------------------------------')\n",
    "print('Cross Validation Accuracy:', np.mean(cross_val_score(svm, votes, np.ravel(party), scoring='accuracy'))) \n",
    "print('Cross Validation Precision:', np.mean(cross_val_score(svm, votes, np.ravel(party), scoring='precision')))\n",
    "print('Cross Validation Recall:', np.mean(cross_val_score(svm, votes, np.ravel(party), scoring='recall')))\n",
    "print('Cross Validation F1:', np.mean(cross_val_score(svm, votes, np.ravel(party), scoring='f1')))\n",
    "print('\\n')\n",
    "\n",
    "tree = DecisionTreeClassifier()\n",
    "tree.fit(x_train, y_train)\n",
    "print('Decision Tree:')\n",
    "print('Accuracy Score:', accuracy_score(y_test, tree.predict(x_test)))\n",
    "print('Precision Score:', precision_score(y_test, tree.predict(x_test)))\n",
    "print('Recall Score:', recall_score(y_test, tree.predict(x_test)))\n",
    "print('F1 Score:', f1_score(y_test, tree.predict(x_test)))\n",
    "print('--------------------------------------------')\n",
    "print('Cross Validation Accuracy:', np.mean(cross_val_score(tree, votes, np.ravel(party), scoring='accuracy'))) \n",
    "print('Cross Validation Precision:', np.mean(cross_val_score(tree, votes, np.ravel(party), scoring='precision')))\n",
    "print('Cross Validation Recall:', np.mean(cross_val_score(tree, votes, np.ravel(party), scoring='recall')))\n",
    "print('Cross Validation F1:', np.mean(cross_val_score(tree, votes, np.ravel(party), scoring='f1')))\n",
    "print('\\n')\n",
    "\n",
    "ensem = RandomForestClassifier()\n",
    "ensem.fit(x_train, y_train)\n",
    "print('Random Forests:')\n",
    "print('Accuracy Score:', accuracy_score(y_test, ensem.predict(x_test)))\n",
    "print('Precision Score:', precision_score(y_test, ensem.predict(x_test)))\n",
    "print('Recall Score:', recall_score(y_test, ensem.predict(x_test)))\n",
    "print('F1 Score:', f1_score(y_test, ensem.predict(x_test)))\n",
    "print('--------------------------------------------')\n",
    "print('Cross Validation Accuracy:', np.mean(cross_val_score(ensem, votes, np.ravel(party), scoring='accuracy'))) \n",
    "print('Cross Validation Precision:', np.mean(cross_val_score(ensem, votes, np.ravel(party), scoring='precision')))\n",
    "print('Cross Validation Recall:', np.mean(cross_val_score(ensem, votes, np.ravel(party), scoring='recall')))\n",
    "print('Cross Validation F1:', np.mean(cross_val_score(ensem, votes, np.ravel(party), scoring='f1')))\n",
    "print('\\n')"
   ]
  },
  {
   "cell_type": "markdown",
   "metadata": {},
   "source": [
    "### Challenges 2 & 5\n",
    "For each, draw the ROC curve and calculate the AUC.\n",
    "\n",
    "Draw the ROC curve (and calculate AUC) for the logistic regression classifier from challenge 12.\n"
   ]
  },
  {
   "cell_type": "code",
   "execution_count": 101,
   "metadata": {
    "collapsed": false
   },
   "outputs": [
    {
     "name": "stdout",
     "output_type": "stream",
     "text": [
      "Logistic Regression\n",
      "fpr 0.0333333333333\n",
      "tpr 0.947368421053\n",
      "AUC score: 0.95701754386\n"
     ]
    },
    {
     "data": {
      "image/png": "[encoded data removed]",
      "text/plain": [
       "<matplotlib.figure.Figure at 0x11f6afd30>"
      ]
     },
     "metadata": {},
     "output_type": "display_data"
    }
   ],
   "source": [
    "print('Logistic Regression')\n",
    "ROC_viz(logreg, votes,np.ravel(party))"
   ]
  },
  {
   "cell_type": "code",
   "execution_count": 102,
   "metadata": {
    "collapsed": false
   },
   "outputs": [
    {
     "name": "stdout",
     "output_type": "stream",
     "text": [
      "Naive Bayes\n",
      "fpr 0.1\n",
      "tpr 0.929824561404\n",
      "AUC score: 0.914912280702\n"
     ]
    },
    {
     "data": {
      "image/png": "[encoded data removed]",
      "text/plain": [
       "<matplotlib.figure.Figure at 0x11e79d240>"
      ]
     },
     "metadata": {},
     "output_type": "display_data"
    }
   ],
   "source": [
    "print('Naive Bayes')\n",
    "ROC_viz(nb, votes,np.ravel(party))"
   ]
  },
  {
   "cell_type": "code",
   "execution_count": 103,
   "metadata": {
    "collapsed": false
   },
   "outputs": [
    {
     "name": "stdout",
     "output_type": "stream",
     "text": [
      "Support Vector Machines\n",
      "fpr 1.0\n",
      "tpr 1.0\n",
      "AUC score: 0.964912280702\n"
     ]
    },
    {
     "data": {
      "image/png": "[encoded data removed]",
      "text/plain": [
       "<matplotlib.figure.Figure at 0x11e71c550>"
      ]
     },
     "metadata": {},
     "output_type": "display_data"
    }
   ],
   "source": [
    "print('Support Vector Machines')\n",
    "ROC_viz(svm, votes,np.ravel(party))"
   ]
  },
  {
   "cell_type": "code",
   "execution_count": 104,
   "metadata": {
    "collapsed": false
   },
   "outputs": [
    {
     "name": "stdout",
     "output_type": "stream",
     "text": [
      "Decision Tree\n",
      "fpr 0.0333333333333\n",
      "tpr 0.947368421053\n",
      "AUC score: 0.95701754386\n"
     ]
    },
    {
     "data": {
      "image/png": "[encoded data removed]",
      "text/plain": [
       "<matplotlib.figure.Figure at 0x11d9849e8>"
      ]
     },
     "metadata": {},
     "output_type": "display_data"
    }
   ],
   "source": [
    "print('Decision Tree')\n",
    "ROC_viz(tree, votes,np.ravel(party))"
   ]
  },
  {
   "cell_type": "code",
   "execution_count": 105,
   "metadata": {
    "collapsed": false
   },
   "outputs": [
    {
     "name": "stdout",
     "output_type": "stream",
     "text": [
      "Random Forests\n",
      "fpr 0.0333333333333\n",
      "tpr 0.929824561404\n",
      "AUC score: 0.948245614035\n"
     ]
    },
    {
     "data": {
      "image/png": "[encoded data removed]",
      "text/plain": [
       "<matplotlib.figure.Figure at 0x11f67d240>"
      ]
     },
     "metadata": {},
     "output_type": "display_data"
    }
   ],
   "source": [
    "print('Random Forests')\n",
    "ROC_viz(ensem, votes,np.ravel(party))"
   ]
  },
  {
   "cell_type": "code",
   "execution_count": 32,
   "metadata": {
    "collapsed": true
   },
   "outputs": [],
   "source": [
    "x_train, x_test, y_train, y_test = train_test_split(votes, np.ravel(party), test_size = .3, random_state = 4444)"
   ]
  },
  {
   "cell_type": "markdown",
   "metadata": {},
   "source": [
    "### Challenge 4\n",
    "For your movie classifiers, calculate the precision and recall for each class.\n",
    "\n"
   ]
  },
  {
   "cell_type": "code",
   "execution_count": 11,
   "metadata": {
    "collapsed": true
   },
   "outputs": [],
   "source": [
    "from patsy import dmatrices\n",
    "import scipy as sp\n",
    "import statsmodels.api as sm"
   ]
  },
  {
   "cell_type": "code",
   "execution_count": 12,
   "metadata": {
    "collapsed": false
   },
   "outputs": [],
   "source": [
    "movies = pd.read_csv('2013_movies.csv')"
   ]
  },
  {
   "cell_type": "code",
   "execution_count": 13,
   "metadata": {
    "collapsed": false
   },
   "outputs": [],
   "source": [
    "#movies.head()"
   ]
  },
  {
   "cell_type": "code",
   "execution_count": 14,
   "metadata": {
    "collapsed": false
   },
   "outputs": [],
   "source": [
    "movies['ReleaseDate'] = pd.to_datetime(movies['ReleaseDate'])\n",
    "movies['Release_Month'] = movies['ReleaseDate'].apply(lambda x: x.month)\n",
    "#movies.head(2)"
   ]
  },
  {
   "cell_type": "code",
   "execution_count": 15,
   "metadata": {
    "collapsed": false
   },
   "outputs": [],
   "source": [
    "x, y = dmatrices('Release_Month ~ Budget + DomesticTotalGross + Runtime + Rating ',\\\n",
    "                 data = movies, return_type = 'dataframe')"
   ]
  },
  {
   "cell_type": "code",
   "execution_count": 16,
   "metadata": {
    "collapsed": false
   },
   "outputs": [],
   "source": [
    "x_train, x_test, y_train, y_test = train_test_split(y, np.ravel(x), test_size = .3, random_state = 4444)"
   ]
  },
  {
   "cell_type": "code",
   "execution_count": 18,
   "metadata": {
    "collapsed": false
   },
   "outputs": [
    {
     "name": "stdout",
     "output_type": "stream",
     "text": [
      "Accuracy Score: 0.148148148148\n",
      "Precision Score: 0.0374779541446\n",
      "Recall Score: 0.148148148148\n"
     ]
    },
    {
     "name": "stderr",
     "output_type": "stream",
     "text": [
      "/Users/sunkuo/anaconda/lib/python3.5/site-packages/sklearn/metrics/classification.py:1203: DeprecationWarning: The default `weighted` averaging is deprecated, and from version 0.18, use of precision, recall or F-score with multiclass or multilabel data or pos_label=None will result in an exception. Please set an explicit value for `average`, one of (None, 'micro', 'macro', 'weighted', 'samples'). In cross validation use, for instance, scoring=\"f1_weighted\" instead of scoring=\"f1\".\n",
      "  sample_weight=sample_weight)\n",
      "/Users/sunkuo/anaconda/lib/python3.5/site-packages/sklearn/metrics/classification.py:1074: UndefinedMetricWarning: Precision is ill-defined and being set to 0.0 in labels with no predicted samples.\n",
      "  'precision', 'predicted', average, warn_for)\n",
      "/Users/sunkuo/anaconda/lib/python3.5/site-packages/sklearn/metrics/classification.py:1304: DeprecationWarning: The default `weighted` averaging is deprecated, and from version 0.18, use of precision, recall or F-score with multiclass or multilabel data or pos_label=None will result in an exception. Please set an explicit value for `average`, one of (None, 'micro', 'macro', 'weighted', 'samples'). In cross validation use, for instance, scoring=\"f1_weighted\" instead of scoring=\"f1\".\n",
      "  sample_weight=sample_weight)\n"
     ]
    }
   ],
   "source": [
    "logreg = LogisticRegression()\n",
    "logreg.fit(x_train, y_train)\n",
    "print('Accuracy Score:', accuracy_score(y_test, logreg.predict(x_test)))\n",
    "print('Precision Score:', precision_score(y_test, logreg.predict(x_test)))\n",
    "print('Recall Score:', recall_score(y_test, logreg.predict(x_test)))\n"
   ]
  },
  {
   "cell_type": "code",
   "execution_count": null,
   "metadata": {
    "collapsed": true
   },
   "outputs": [],
   "source": []
  }
 ],
 "metadata": {
  "kernelspec": {
   "display_name": "Python 3",
   "language": "python",
   "name": "python3"
  },
  "language_info": {
   "codemirror_mode": {
    "name": "ipython",
    "version": 3
   },
   "file_extension": ".py",
   "mimetype": "text/x-python",
   "name": "python",
   "nbconvert_exporter": "python",
   "pygments_lexer": "ipython3",
   "version": "3.5.1"
  }
 },
 "nbformat": 4,
 "nbformat_minor": 0
}
