{
 "cells": [
  {
   "cell_type": "markdown",
   "metadata": {},
   "source": [
    "# <a id='top'></a>\n",
    "# Challenge Set 6\n",
    "Topic:        Classification Errors  \n",
    "Date:         8/1/2016  \n",
    "Name:         Whitney Chia  \n",
    "Worked with:  Cheated by looking at solutions for ROC and AUC parts"
   ]
  },
  {
   "cell_type": "markdown",
   "metadata": {
    "collapsed": true
   },
   "source": [
    "[Question 1](#question1)   \n",
    "[Question 2](#question2)   \n",
    "[Question 3](#question3)   \n",
    "[Question 4](#question4)  \n",
    "[Question 5](#question5)"
   ]
  },
  {
   "cell_type": "markdown",
   "metadata": {},
   "source": [
    "<a id='question1'></a>\n",
    "# Question 1  \n",
    "[Top](#top)"
   ]
  },
  {
   "cell_type": "code",
   "execution_count": 1,
   "metadata": {
    "collapsed": false
   },
   "outputs": [],
   "source": [
    "%matplotlib inline\n",
    "import matplotlib.pyplot as plt\n",
    "import numpy as np\n",
    "import pandas as pd\n",
    "import seaborn as sns\n",
    "from sklearn.linear_model import LinearRegression\n",
    "from patsy import dmatrices\n",
    "import statsmodels.api as sm\n",
    "pd.options.display.max_rows = 999\n",
    "plt.style.use('ggplot')\n",
    "sns.set_context('poster')\n",
    "sns.set_style('darkgrid')\n",
    "sns.set_palette('dark')\n",
    "import matplotlib.patches as mpatches"
   ]
  },
  {
   "cell_type": "code",
   "execution_count": 2,
   "metadata": {
    "collapsed": true
   },
   "outputs": [],
   "source": [
    "df = pd.read_csv('house-votes-84.data', header=None)"
   ]
  },
  {
   "cell_type": "code",
   "execution_count": 3,
   "metadata": {
    "collapsed": true
   },
   "outputs": [],
   "source": [
    "df.columns = ['Party','handicapped_infants', 'water_project_cost_sharing',\\\n",
    "        'adoption_of_the_budget_resolution', 'physician_fee_freeze', 'el_salvador_aid',\\\n",
    "             'religious_groups_in_schools', 'anti_satellite_test_ban', 'aid_to_nicaraguan_contras',\\\n",
    "             'mx_missile', 'immigration', 'synfuels_corporation_cutback', 'education_spending', 'superfund_right_to_sue',\\\n",
    "             'crime', 'duty_free_exports', 'export_administration_act_south_africa']"
   ]
  },
  {
   "cell_type": "code",
   "execution_count": 4,
   "metadata": {
    "collapsed": true
   },
   "outputs": [],
   "source": [
    "df = df.replace(['republican', 'democrat', 'y','n', '?'], [0,1,1,0, np.nan])"
   ]
  },
  {
   "cell_type": "code",
   "execution_count": 5,
   "metadata": {
    "collapsed": true
   },
   "outputs": [],
   "source": [
    "df = df.astype(float)"
   ]
  },
  {
   "cell_type": "code",
   "execution_count": 6,
   "metadata": {
    "collapsed": true
   },
   "outputs": [],
   "source": [
    "df = df.fillna(df.mean())"
   ]
  },
  {
   "cell_type": "code",
   "execution_count": 7,
   "metadata": {
    "collapsed": true
   },
   "outputs": [],
   "source": [
    "from sklearn.cross_validation import train_test_split\n",
    "from sklearn import cross_validation as cv\n",
    "from patsy import dmatrices"
   ]
  },
  {
   "cell_type": "code",
   "execution_count": 8,
   "metadata": {
    "collapsed": true
   },
   "outputs": [],
   "source": [
    "y, X = dmatrices('Party ~ handicapped_infants + water_project_cost_sharing\\\n",
    "        + adoption_of_the_budget_resolution + physician_fee_freeze + el_salvador_aid\\\n",
    "             + religious_groups_in_schools + anti_satellite_test_ban + aid_to_nicaraguan_contras\\\n",
    "             + mx_missile + immigration + synfuels_corporation_cutback + education_spending + superfund_right_to_sue\\\n",
    "             + crime + duty_free_exports + export_administration_act_south_africa', data=df, return_type='dataframe')"
   ]
  },
  {
   "cell_type": "code",
   "execution_count": 9,
   "metadata": {
    "collapsed": true
   },
   "outputs": [],
   "source": [
    "x_train, x_test, y_train, y_test = cv.train_test_split(X,y,test_size=.30, random_state=4444)"
   ]
  },
  {
   "cell_type": "code",
   "execution_count": 10,
   "metadata": {
    "collapsed": true
   },
   "outputs": [],
   "source": [
    "from sklearn.neighbors import KNeighborsClassifier\n",
    "from sklearn.metrics import accuracy_score, precision_score, recall_score, f1_score, roc_curve, auc\n",
    "from sklearn.linear_model import LogisticRegression\n",
    "from sklearn.naive_bayes import GaussianNB\n",
    "from sklearn.svm import SVC\n",
    "from sklearn.tree import DecisionTreeClassifier\n",
    "from sklearn.ensemble import RandomForestClassifier"
   ]
  },
  {
   "cell_type": "code",
   "execution_count": 11,
   "metadata": {
    "collapsed": false
   },
   "outputs": [
    {
     "name": "stdout",
     "output_type": "stream",
     "text": [
      "The accuracy score when K is 1 is: 0.900763358779\n",
      "The precision score when K is 1 is: 0.910256410256\n",
      "The recall score when K is 1 is: 0.922077922078\n",
      "The f1 score when K is 1 is: 0.916129032258\n",
      "The accuracy score when K is 2 is: 0.916030534351\n",
      "The precision score when K is 2 is: 0.934210526316\n",
      "The recall score when K is 2 is: 0.922077922078\n",
      "The f1 score when K is 2 is: 0.928104575163\n",
      "The accuracy score when K is 3 is: 0.900763358779\n",
      "The precision score when K is 3 is: 0.910256410256\n",
      "The recall score when K is 3 is: 0.922077922078\n",
      "The f1 score when K is 3 is: 0.916129032258\n",
      "The accuracy score when K is 4 is: 0.931297709924\n",
      "The precision score when K is 4 is: 0.959459459459\n",
      "The recall score when K is 4 is: 0.922077922078\n",
      "The f1 score when K is 4 is: 0.940397350993\n",
      "The accuracy score when K is 5 is: 0.916030534351\n",
      "The precision score when K is 5 is: 0.923076923077\n",
      "The recall score when K is 5 is: 0.935064935065\n",
      "The f1 score when K is 5 is: 0.929032258065\n",
      "The accuracy score when K is 6 is: 0.916030534351\n",
      "The precision score when K is 6 is: 0.934210526316\n",
      "The recall score when K is 6 is: 0.922077922078\n",
      "The f1 score when K is 6 is: 0.928104575163\n",
      "The accuracy score when K is 7 is: 0.916030534351\n",
      "The precision score when K is 7 is: 0.934210526316\n",
      "The recall score when K is 7 is: 0.922077922078\n",
      "The f1 score when K is 7 is: 0.928104575163\n",
      "The accuracy score when K is 8 is: 0.916030534351\n",
      "The precision score when K is 8 is: 0.934210526316\n",
      "The recall score when K is 8 is: 0.922077922078\n",
      "The f1 score when K is 8 is: 0.928104575163\n",
      "The accuracy score when K is 9 is: 0.931297709924\n",
      "The precision score when K is 9 is: 0.935897435897\n",
      "The recall score when K is 9 is: 0.948051948052\n",
      "The f1 score when K is 9 is: 0.941935483871\n",
      "The accuracy score when K is 10 is: 0.916030534351\n",
      "The precision score when K is 10 is: 0.934210526316\n",
      "The recall score when K is 10 is: 0.922077922078\n",
      "The f1 score when K is 10 is: 0.928104575163\n",
      "The accuracy score when K is 11 is: 0.923664122137\n",
      "The precision score when K is 11 is: 0.935064935065\n",
      "The recall score when K is 11 is: 0.935064935065\n",
      "The f1 score when K is 11 is: 0.935064935065\n",
      "The accuracy score when K is 12 is: 0.923664122137\n",
      "The precision score when K is 12 is: 0.935064935065\n",
      "The recall score when K is 12 is: 0.935064935065\n",
      "The f1 score when K is 12 is: 0.935064935065\n",
      "The accuracy score when K is 13 is: 0.923664122137\n",
      "The precision score when K is 13 is: 0.935064935065\n",
      "The recall score when K is 13 is: 0.935064935065\n",
      "The f1 score when K is 13 is: 0.935064935065\n",
      "The accuracy score when K is 14 is: 0.923664122137\n",
      "The precision score when K is 14 is: 0.935064935065\n",
      "The recall score when K is 14 is: 0.935064935065\n",
      "The f1 score when K is 14 is: 0.935064935065\n",
      "The accuracy score when K is 15 is: 0.923664122137\n",
      "The precision score when K is 15 is: 0.935064935065\n",
      "The recall score when K is 15 is: 0.935064935065\n",
      "The f1 score when K is 15 is: 0.935064935065\n",
      "The accuracy score when K is 16 is: 0.923664122137\n",
      "The precision score when K is 16 is: 0.935064935065\n",
      "The recall score when K is 16 is: 0.935064935065\n",
      "The f1 score when K is 16 is: 0.935064935065\n",
      "The accuracy score when K is 17 is: 0.923664122137\n",
      "The precision score when K is 17 is: 0.935064935065\n",
      "The recall score when K is 17 is: 0.935064935065\n",
      "The f1 score when K is 17 is: 0.935064935065\n",
      "The accuracy score when K is 18 is: 0.908396946565\n",
      "The precision score when K is 18 is: 0.933333333333\n",
      "The recall score when K is 18 is: 0.909090909091\n",
      "The f1 score when K is 18 is: 0.921052631579\n",
      "The accuracy score when K is 19 is: 0.916030534351\n",
      "The precision score when K is 19 is: 0.923076923077\n",
      "The recall score when K is 19 is: 0.935064935065\n",
      "The f1 score when K is 19 is: 0.929032258065\n",
      "The accuracy score when K is 20 is: 0.916030534351\n",
      "The precision score when K is 20 is: 0.923076923077\n",
      "The recall score when K is 20 is: 0.935064935065\n",
      "The f1 score when K is 20 is: 0.929032258065\n"
     ]
    },
    {
     "name": "stderr",
     "output_type": "stream",
     "text": [
      "/Users/whitneychia/anaconda/lib/python2.7/site-packages/ipykernel/__main__.py:3: DataConversionWarning: A column-vector y was passed when a 1d array was expected. Please change the shape of y to (n_samples, ), for example using ravel().\n",
      "  app.launch_new_instance()\n",
      "/Users/whitneychia/anaconda/lib/python2.7/site-packages/ipykernel/__main__.py:3: DataConversionWarning: A column-vector y was passed when a 1d array was expected. Please change the shape of y to (n_samples, ), for example using ravel().\n",
      "  app.launch_new_instance()\n",
      "/Users/whitneychia/anaconda/lib/python2.7/site-packages/ipykernel/__main__.py:3: DataConversionWarning: A column-vector y was passed when a 1d array was expected. Please change the shape of y to (n_samples, ), for example using ravel().\n",
      "  app.launch_new_instance()\n",
      "/Users/whitneychia/anaconda/lib/python2.7/site-packages/ipykernel/__main__.py:3: DataConversionWarning: A column-vector y was passed when a 1d array was expected. Please change the shape of y to (n_samples, ), for example using ravel().\n",
      "  app.launch_new_instance()\n",
      "/Users/whitneychia/anaconda/lib/python2.7/site-packages/ipykernel/__main__.py:3: DataConversionWarning: A column-vector y was passed when a 1d array was expected. Please change the shape of y to (n_samples, ), for example using ravel().\n",
      "  app.launch_new_instance()\n",
      "/Users/whitneychia/anaconda/lib/python2.7/site-packages/ipykernel/__main__.py:3: DataConversionWarning: A column-vector y was passed when a 1d array was expected. Please change the shape of y to (n_samples, ), for example using ravel().\n",
      "  app.launch_new_instance()\n",
      "/Users/whitneychia/anaconda/lib/python2.7/site-packages/ipykernel/__main__.py:3: DataConversionWarning: A column-vector y was passed when a 1d array was expected. Please change the shape of y to (n_samples, ), for example using ravel().\n",
      "  app.launch_new_instance()\n",
      "/Users/whitneychia/anaconda/lib/python2.7/site-packages/ipykernel/__main__.py:3: DataConversionWarning: A column-vector y was passed when a 1d array was expected. Please change the shape of y to (n_samples, ), for example using ravel().\n",
      "  app.launch_new_instance()\n",
      "/Users/whitneychia/anaconda/lib/python2.7/site-packages/ipykernel/__main__.py:3: DataConversionWarning: A column-vector y was passed when a 1d array was expected. Please change the shape of y to (n_samples, ), for example using ravel().\n",
      "  app.launch_new_instance()\n",
      "/Users/whitneychia/anaconda/lib/python2.7/site-packages/ipykernel/__main__.py:3: DataConversionWarning: A column-vector y was passed when a 1d array was expected. Please change the shape of y to (n_samples, ), for example using ravel().\n",
      "  app.launch_new_instance()\n",
      "/Users/whitneychia/anaconda/lib/python2.7/site-packages/ipykernel/__main__.py:3: DataConversionWarning: A column-vector y was passed when a 1d array was expected. Please change the shape of y to (n_samples, ), for example using ravel().\n",
      "  app.launch_new_instance()\n",
      "/Users/whitneychia/anaconda/lib/python2.7/site-packages/ipykernel/__main__.py:3: DataConversionWarning: A column-vector y was passed when a 1d array was expected. Please change the shape of y to (n_samples, ), for example using ravel().\n",
      "  app.launch_new_instance()\n",
      "/Users/whitneychia/anaconda/lib/python2.7/site-packages/ipykernel/__main__.py:3: DataConversionWarning: A column-vector y was passed when a 1d array was expected. Please change the shape of y to (n_samples, ), for example using ravel().\n",
      "  app.launch_new_instance()\n",
      "/Users/whitneychia/anaconda/lib/python2.7/site-packages/ipykernel/__main__.py:3: DataConversionWarning: A column-vector y was passed when a 1d array was expected. Please change the shape of y to (n_samples, ), for example using ravel().\n",
      "  app.launch_new_instance()\n",
      "/Users/whitneychia/anaconda/lib/python2.7/site-packages/ipykernel/__main__.py:3: DataConversionWarning: A column-vector y was passed when a 1d array was expected. Please change the shape of y to (n_samples, ), for example using ravel().\n",
      "  app.launch_new_instance()\n",
      "/Users/whitneychia/anaconda/lib/python2.7/site-packages/ipykernel/__main__.py:3: DataConversionWarning: A column-vector y was passed when a 1d array was expected. Please change the shape of y to (n_samples, ), for example using ravel().\n",
      "  app.launch_new_instance()\n",
      "/Users/whitneychia/anaconda/lib/python2.7/site-packages/ipykernel/__main__.py:3: DataConversionWarning: A column-vector y was passed when a 1d array was expected. Please change the shape of y to (n_samples, ), for example using ravel().\n",
      "  app.launch_new_instance()\n",
      "/Users/whitneychia/anaconda/lib/python2.7/site-packages/ipykernel/__main__.py:3: DataConversionWarning: A column-vector y was passed when a 1d array was expected. Please change the shape of y to (n_samples, ), for example using ravel().\n",
      "  app.launch_new_instance()\n",
      "/Users/whitneychia/anaconda/lib/python2.7/site-packages/ipykernel/__main__.py:3: DataConversionWarning: A column-vector y was passed when a 1d array was expected. Please change the shape of y to (n_samples, ), for example using ravel().\n",
      "  app.launch_new_instance()\n",
      "/Users/whitneychia/anaconda/lib/python2.7/site-packages/ipykernel/__main__.py:3: DataConversionWarning: A column-vector y was passed when a 1d array was expected. Please change the shape of y to (n_samples, ), for example using ravel().\n",
      "  app.launch_new_instance()\n"
     ]
    }
   ],
   "source": [
    "for i in range(1,21):\n",
    "    KNN = KNeighborsClassifier(n_neighbors=i)\n",
    "    KNN.fit(x_train, y_train)\n",
    "    pred = KNN.predict(x_test)\n",
    "    print 'The accuracy score when K is ' + str(i) + ' is: ' + str(accuracy_score(y_test, pred))\n",
    "    print 'The precision score when K is ' + str(i) + ' is: ' + str(precision_score(y_test, pred))\n",
    "    print 'The recall score when K is ' + str(i) + ' is: ' + str(recall_score(y_test, pred))\n",
    "    print 'The f1 score when K is ' + str(i) + ' is: ' + str(f1_score(y_test, pred))"
   ]
  },
  {
   "cell_type": "code",
   "execution_count": 12,
   "metadata": {
    "collapsed": false
   },
   "outputs": [
    {
     "name": "stdout",
     "output_type": "stream",
     "text": [
      "The accuracy score when K is 20 is: 0.93893129771\n",
      "The precision score when K is 20 is: 0.925925925926\n",
      "The recall score when K is 20 is: 0.974025974026\n",
      "The f1 score when K is 20 is: 0.949367088608\n"
     ]
    },
    {
     "name": "stderr",
     "output_type": "stream",
     "text": [
      "/Users/whitneychia/anaconda/lib/python2.7/site-packages/sklearn/utils/validation.py:515: DataConversionWarning: A column-vector y was passed when a 1d array was expected. Please change the shape of y to (n_samples, ), for example using ravel().\n",
      "  y = column_or_1d(y, warn=True)\n"
     ]
    }
   ],
   "source": [
    "logreg = LogisticRegression(C=10)\n",
    "logreg.fit(x_train, y_train)\n",
    "pred = logreg.predict(x_test)\n",
    "print 'The accuracy score when K is ' + str(i) + ' is: ' + str(accuracy_score(y_test, pred))\n",
    "print 'The precision score when K is ' + str(i) + ' is: ' + str(precision_score(y_test, pred))\n",
    "print 'The recall score when K is ' + str(i) + ' is: ' + str(recall_score(y_test, pred))\n",
    "print 'The f1 score when K is ' + str(i) + ' is: ' + str(f1_score(y_test, pred))"
   ]
  },
  {
   "cell_type": "code",
   "execution_count": 13,
   "metadata": {
    "collapsed": false
   },
   "outputs": [
    {
     "name": "stdout",
     "output_type": "stream",
     "text": [
      "The accuracy score when K is 20 is: 0.93893129771\n",
      "The precision score when K is 20 is: 0.915662650602\n",
      "The recall score when K is 20 is: 0.987012987013\n",
      "The f1 score when K is 20 is: 0.95\n"
     ]
    },
    {
     "name": "stderr",
     "output_type": "stream",
     "text": [
      "/Users/whitneychia/anaconda/lib/python2.7/site-packages/sklearn/utils/validation.py:515: DataConversionWarning: A column-vector y was passed when a 1d array was expected. Please change the shape of y to (n_samples, ), for example using ravel().\n",
      "  y = column_or_1d(y, warn=True)\n"
     ]
    }
   ],
   "source": [
    "NB = GaussianNB()\n",
    "NB.fit(x_train, y_train)\n",
    "pred = NB.predict(x_test)\n",
    "print 'The accuracy score when K is ' + str(i) + ' is: ' + str(accuracy_score(y_test, pred))\n",
    "print 'The precision score when K is ' + str(i) + ' is: ' + str(precision_score(y_test, pred))\n",
    "print 'The recall score when K is ' + str(i) + ' is: ' + str(recall_score(y_test, pred))\n",
    "print 'The f1 score when K is ' + str(i) + ' is: ' + str(f1_score(y_test, pred))"
   ]
  },
  {
   "cell_type": "code",
   "execution_count": 14,
   "metadata": {
    "collapsed": false
   },
   "outputs": [
    {
     "name": "stdout",
     "output_type": "stream",
     "text": [
      "The accuracy score when K is 20 is: 0.954198473282\n",
      "The precision score when K is 20 is: 0.949367088608\n",
      "The recall score when K is 20 is: 0.974025974026\n",
      "The f1 score when K is 20 is: 0.961538461538\n"
     ]
    },
    {
     "name": "stderr",
     "output_type": "stream",
     "text": [
      "/Users/whitneychia/anaconda/lib/python2.7/site-packages/sklearn/svm/base.py:514: DataConversionWarning: A column-vector y was passed when a 1d array was expected. Please change the shape of y to (n_samples, ), for example using ravel().\n",
      "  y_ = column_or_1d(y, warn=True)\n"
     ]
    }
   ],
   "source": [
    "SVC = SVC()\n",
    "SVC.fit(x_train, y_train)\n",
    "pred = SVC.predict(x_test)\n",
    "print 'The accuracy score when K is ' + str(i) + ' is: ' + str(accuracy_score(y_test, pred))\n",
    "print 'The precision score when K is ' + str(i) + ' is: ' + str(precision_score(y_test, pred))\n",
    "print 'The recall score when K is ' + str(i) + ' is: ' + str(recall_score(y_test, pred))\n",
    "print 'The f1 score when K is ' + str(i) + ' is: ' + str(f1_score(y_test, pred))"
   ]
  },
  {
   "cell_type": "code",
   "execution_count": 15,
   "metadata": {
    "collapsed": false
   },
   "outputs": [
    {
     "name": "stdout",
     "output_type": "stream",
     "text": [
      "The accuracy score when K is 20 is: 0.93893129771\n",
      "The precision score when K is 20 is: 0.925925925926\n",
      "The recall score when K is 20 is: 0.974025974026\n",
      "The f1 score when K is 20 is: 0.949367088608\n"
     ]
    }
   ],
   "source": [
    "DTC = DecisionTreeClassifier()\n",
    "DTC.fit(x_train, y_train)\n",
    "pred = DTC.predict(x_test)\n",
    "print 'The accuracy score when K is ' + str(i) + ' is: ' + str(accuracy_score(y_test, pred))\n",
    "print 'The precision score when K is ' + str(i) + ' is: ' + str(precision_score(y_test, pred))\n",
    "print 'The recall score when K is ' + str(i) + ' is: ' + str(recall_score(y_test, pred))\n",
    "print 'The f1 score when K is ' + str(i) + ' is: ' + str(f1_score(y_test, pred))"
   ]
  },
  {
   "cell_type": "code",
   "execution_count": 16,
   "metadata": {
    "collapsed": false,
    "scrolled": true
   },
   "outputs": [
    {
     "name": "stdout",
     "output_type": "stream",
     "text": [
      "The accuracy score when K is 20 is: 0.93893129771\n",
      "The precision score when K is 20 is: 0.948051948052\n",
      "The recall score when K is 20 is: 0.948051948052\n",
      "The f1 score when K is 20 is: 0.948051948052\n"
     ]
    },
    {
     "name": "stderr",
     "output_type": "stream",
     "text": [
      "/Users/whitneychia/anaconda/lib/python2.7/site-packages/ipykernel/__main__.py:2: DataConversionWarning: A column-vector y was passed when a 1d array was expected. Please change the shape of y to (n_samples,), for example using ravel().\n",
      "  from ipykernel import kernelapp as app\n"
     ]
    }
   ],
   "source": [
    "RFC = RandomForestClassifier()\n",
    "RFC.fit(x_train, y_train)\n",
    "pred = RFC.predict(x_test)\n",
    "print 'The accuracy score when K is ' + str(i) + ' is: ' + str(accuracy_score(y_test, pred))\n",
    "print 'The precision score when K is ' + str(i) + ' is: ' + str(precision_score(y_test, pred))\n",
    "print 'The recall score when K is ' + str(i) + ' is: ' + str(recall_score(y_test, pred))\n",
    "print 'The f1 score when K is ' + str(i) + ' is: ' + str(f1_score(y_test, pred))"
   ]
  },
  {
   "cell_type": "markdown",
   "metadata": {},
   "source": [
    "<a id='question2'></a>\n",
    "# Question 2  \n",
    "[Top](#top)"
   ]
  },
  {
   "cell_type": "code",
   "execution_count": 17,
   "metadata": {
    "collapsed": true
   },
   "outputs": [],
   "source": [
    "from sklearn.metrics import roc_curve, roc_auc_score"
   ]
  },
  {
   "cell_type": "code",
   "execution_count": 18,
   "metadata": {
    "collapsed": false
   },
   "outputs": [
    {
     "name": "stderr",
     "output_type": "stream",
     "text": [
      "/Users/whitneychia/anaconda/lib/python2.7/site-packages/ipykernel/__main__.py:2: DataConversionWarning: A column-vector y was passed when a 1d array was expected. Please change the shape of y to (n_samples, ), for example using ravel().\n",
      "  from ipykernel import kernelapp as app\n"
     ]
    },
    {
     "data": {
      "text/plain": [
       "<matplotlib.legend.Legend at 0x114934190>"
      ]
     },
     "execution_count": 18,
     "metadata": {},
     "output_type": "execute_result"
    },
    {
     "data": {
      "image/png": "[encoded data removed]",
      "text/plain": [
       "<matplotlib.figure.Figure at 0x103a060d0>"
      ]
     },
     "metadata": {},
     "output_type": "display_data"
    }
   ],
   "source": [
    "KNN = KNeighborsClassifier(n_neighbors=i)\n",
    "KNN.fit(x_train, y_train)\n",
    "fpr, tpr, _ = roc_curve(y_test, KNN.predict_proba(x_test)[:,1])\n",
    "roc_auc = roc_auc_score(y_test, KNN.predict_proba(x_test)[:,1])\n",
    "\n",
    "\n",
    "plt.plot(fpr, tpr, label='ROC curve (area = %0.2f)' % roc_auc)\n",
    "plt.xlim([0.0, 1.0])\n",
    "plt.ylim([0.0, 1.05])\n",
    "plt.xlabel('False Positive Rate')\n",
    "plt.ylabel('True Positive Rate')\n",
    "plt.title('ROC Curve for K-Nearest Neighbors')\n",
    "plt.legend(loc='best')"
   ]
  },
  {
   "cell_type": "code",
   "execution_count": 19,
   "metadata": {
    "collapsed": false
   },
   "outputs": [
    {
     "name": "stderr",
     "output_type": "stream",
     "text": [
      "/Users/whitneychia/anaconda/lib/python2.7/site-packages/sklearn/utils/validation.py:515: DataConversionWarning: A column-vector y was passed when a 1d array was expected. Please change the shape of y to (n_samples, ), for example using ravel().\n",
      "  y = column_or_1d(y, warn=True)\n"
     ]
    },
    {
     "data": {
      "text/plain": [
       "<matplotlib.legend.Legend at 0x1151a1b10>"
      ]
     },
     "execution_count": 19,
     "metadata": {},
     "output_type": "execute_result"
    },
    {
     "data": {
      "image/png": "[encoded data removed]",
      "text/plain": [
       "<matplotlib.figure.Figure at 0x1151b3110>"
      ]
     },
     "metadata": {},
     "output_type": "display_data"
    }
   ],
   "source": [
    "logreg.fit(x_train, y_train)\n",
    "fpr, tpr, _ = roc_curve(y_test, logreg.predict_proba(x_test)[:,1])\n",
    "roc_auc = roc_auc_score(y_test, logreg.predict_proba(x_test)[:,1])\n",
    "\n",
    "plt.plot(fpr, tpr, label='ROC curve (area = %0.2f)' % roc_auc)\n",
    "plt.xlim([0.0, 1.0])\n",
    "plt.ylim([0.0, 1.05])\n",
    "plt.xlabel('False Positive Rate')\n",
    "plt.ylabel('True Positive Rate')\n",
    "plt.title('ROC Curve for Logistic Regression')\n",
    "plt.legend(loc='best')"
   ]
  },
  {
   "cell_type": "code",
   "execution_count": 20,
   "metadata": {
    "collapsed": false
   },
   "outputs": [
    {
     "name": "stderr",
     "output_type": "stream",
     "text": [
      "/Users/whitneychia/anaconda/lib/python2.7/site-packages/sklearn/utils/validation.py:515: DataConversionWarning: A column-vector y was passed when a 1d array was expected. Please change the shape of y to (n_samples, ), for example using ravel().\n",
      "  y = column_or_1d(y, warn=True)\n"
     ]
    },
    {
     "data": {
      "text/plain": [
       "<matplotlib.legend.Legend at 0x117fae110>"
      ]
     },
     "execution_count": 20,
     "metadata": {},
     "output_type": "execute_result"
    },
    {
     "data": {
      "image/png": "[encoded data removed]",
      "text/plain": [
       "<matplotlib.figure.Figure at 0x1151b3690>"
      ]
     },
     "metadata": {},
     "output_type": "display_data"
    }
   ],
   "source": [
    "NB.fit(x_train, y_train)\n",
    "fpr, tpr, _ = roc_curve(y_test, NB.predict_proba(x_test)[:,1])\n",
    "roc_auc = roc_auc_score(y_test, NB.predict_proba(x_test)[:,1])\n",
    "\n",
    "plt.plot(fpr, tpr, label='ROC curve (area = %0.2f)' % roc_auc)\n",
    "plt.xlim([0.0, 1.0])\n",
    "plt.ylim([0.0, 1.05])\n",
    "plt.xlabel('False Positive Rate')\n",
    "plt.ylabel('True Positive Rate')\n",
    "plt.title('ROC Curve for Naive Bayes')\n",
    "plt.legend(loc='best')"
   ]
  },
  {
   "cell_type": "code",
   "execution_count": 21,
   "metadata": {
    "collapsed": false
   },
   "outputs": [
    {
     "data": {
      "text/plain": [
       "<matplotlib.legend.Legend at 0x114f36c10>"
      ]
     },
     "execution_count": 21,
     "metadata": {},
     "output_type": "execute_result"
    },
    {
     "data": {
      "image/png": "[encoded data removed]",
      "text/plain": [
       "<matplotlib.figure.Figure at 0x114f36950>"
      ]
     },
     "metadata": {},
     "output_type": "display_data"
    }
   ],
   "source": [
    "DTC.fit(x_train, y_train)\n",
    "fpr, tpr, _ = roc_curve(y_test, DTC.predict_proba(x_test)[:,1])\n",
    "roc_auc = roc_auc_score(y_test, DTC.predict_proba(x_test)[:,1])\n",
    "\n",
    "plt.plot(fpr, tpr, label='ROC curve (area = %0.2f)' % roc_auc)\n",
    "plt.xlim([0.0, 1.0])\n",
    "plt.ylim([0.0, 1.05])\n",
    "plt.xlabel('False Positive Rate')\n",
    "plt.ylabel('True Positive Rate')\n",
    "plt.title('ROC Curve for Decision Tree')\n",
    "plt.legend(loc='best')"
   ]
  },
  {
   "cell_type": "code",
   "execution_count": 22,
   "metadata": {
    "collapsed": false
   },
   "outputs": [
    {
     "name": "stderr",
     "output_type": "stream",
     "text": [
      "/Users/whitneychia/anaconda/lib/python2.7/site-packages/ipykernel/__main__.py:1: DataConversionWarning: A column-vector y was passed when a 1d array was expected. Please change the shape of y to (n_samples,), for example using ravel().\n",
      "  if __name__ == '__main__':\n"
     ]
    },
    {
     "data": {
      "text/plain": [
       "<matplotlib.legend.Legend at 0x118630310>"
      ]
     },
     "execution_count": 22,
     "metadata": {},
     "output_type": "execute_result"
    },
    {
     "data": {
      "image/png": "[encoded data removed]",
      "text/plain": [
       "<matplotlib.figure.Figure at 0x11866d310>"
      ]
     },
     "metadata": {},
     "output_type": "display_data"
    }
   ],
   "source": [
    "RFC.fit(x_train, y_train)\n",
    "fpr, tpr, _ = roc_curve(y_test, RFC.predict_proba(x_test)[:,1])\n",
    "roc_auc = roc_auc_score(y_test, RFC.predict_proba(x_test)[:,1])\n",
    "\n",
    "plt.plot(fpr, tpr, label='ROC curve (area = %0.2f)' % roc_auc)\n",
    "plt.xlim([0.0, 1.0])\n",
    "plt.ylim([0.0, 1.05])\n",
    "plt.xlabel('False Positive Rate')\n",
    "plt.ylabel('True Positive Rate')\n",
    "plt.title('ROC Curve for Random Forest')\n",
    "plt.legend(loc='best')"
   ]
  },
  {
   "cell_type": "markdown",
   "metadata": {},
   "source": [
    "# <a id='question3'></a>\n",
    "# Question 3  \n",
    "[Top](#top)"
   ]
  },
  {
   "cell_type": "code",
   "execution_count": 23,
   "metadata": {
    "collapsed": false
   },
   "outputs": [],
   "source": [
    "from sklearn.cross_validation import cross_val_score"
   ]
  },
  {
   "cell_type": "code",
   "execution_count": 24,
   "metadata": {
    "collapsed": false
   },
   "outputs": [],
   "source": [
    "KNN = KNeighborsClassifier(n_neighbors=9)\n",
    "lr_cross_val = cross_val_score(logreg, x_train, y_train['Party'], scoring = 'precision')\n",
    "knn_cross_val = cross_val_score(KNN, x_train, y_train['Party'])\n",
    "NB_cross_val = cross_val_score(NB, x_train, y_train['Party'])\n",
    "svc_cross_val = cross_val_score(SVC, x_train, y_train['Party'])\n",
    "dtc_cross_val = cross_val_score(DTC, x_train, y_train['Party'])\n",
    "rfc_cross_val = cross_val_score(RFC, x_train, y_train['Party'])"
   ]
  },
  {
   "cell_type": "code",
   "execution_count": 25,
   "metadata": {
    "collapsed": false
   },
   "outputs": [
    {
     "name": "stdout",
     "output_type": "stream",
     "text": [
      "Accuracy for log reg is: 0.960654889018\n",
      "Precision for log reg is: 0.968581989247\n",
      "Recall for log reg is: 0.968584656085\n",
      "F1 for log reg is: 0.968541994751\n"
     ]
    }
   ],
   "source": [
    "print 'Accuracy for log reg is: ' + str(np.mean(cross_val_score(logreg, x_train, y_train['Party'])))\n",
    "print 'Precision for log reg is: ' + str(np.mean(cross_val_score(logreg, x_train, y_train['Party'], scoring = 'precision')))\n",
    "print 'Recall for log reg is: ' + str(np.mean(cross_val_score(logreg, x_train, y_train['Party'], scoring = 'recall')))\n",
    "print 'F1 for log reg is: ' + str(np.mean(cross_val_score(logreg, x_train, y_train['Party'], scoring = 'f1')))"
   ]
  },
  {
   "cell_type": "code",
   "execution_count": 26,
   "metadata": {
    "collapsed": false
   },
   "outputs": [
    {
     "name": "stdout",
     "output_type": "stream",
     "text": [
      "Accuracy for KNN is: 0.927781013395\n",
      "Precision for KNN is: 0.961384335155\n",
      "Recall for KNN is: 0.921296296296\n",
      "F1 for KNN is: 0.940860215054\n"
     ]
    }
   ],
   "source": [
    "print 'Accuracy for KNN is: ' + str(np.mean(cross_val_score(KNN, x_train, y_train['Party'])))\n",
    "print 'Precision for KNN is: ' + str(np.mean(cross_val_score(KNN, x_train, y_train['Party'], scoring = 'precision')))\n",
    "print 'Recall for KNN is: ' + str(np.mean(cross_val_score(KNN, x_train, y_train['Party'], scoring = 'recall')))\n",
    "print 'F1 for KNN is: ' + str(np.mean(cross_val_score(KNN, x_train, y_train['Party'], scoring = 'f1')))"
   ]
  },
  {
   "cell_type": "code",
   "execution_count": 27,
   "metadata": {
    "collapsed": false
   },
   "outputs": [
    {
     "name": "stdout",
     "output_type": "stream",
     "text": [
      "Accuracy for Naive Bayes is: 0.927748657219\n",
      "Precision for Naive Bayes is: 0.9469192695\n",
      "Recall for Naive Bayes is: 0.937003968254\n",
      "F1 for Naive Bayes is: 0.941922259718\n"
     ]
    }
   ],
   "source": [
    "print 'Accuracy for Naive Bayes is: ' + str(np.mean(cross_val_score(NB, x_train, y_train['Party'])))\n",
    "print 'Precision for Naive Bayes is: ' + str(np.mean(cross_val_score(NB, x_train, y_train['Party'], scoring = 'precision')))\n",
    "print 'Recall for Naive Bayes is: ' + str(np.mean(cross_val_score(NB, x_train, y_train['Party'], scoring = 'recall')))\n",
    "print 'F1 for Naive Bayes is: ' + str(np.mean(cross_val_score(NB, x_train, y_train['Party'], scoring = 'f1')))"
   ]
  },
  {
   "cell_type": "code",
   "execution_count": 28,
   "metadata": {
    "collapsed": false
   },
   "outputs": [
    {
     "name": "stdout",
     "output_type": "stream",
     "text": [
      "Accuracy for SVC is: 0.963922862875\n",
      "Precision for SVC is: 0.98378003296\n",
      "Recall for SVC is: 0.95808531746\n",
      "F1 for SVC is: 0.970665983956\n"
     ]
    }
   ],
   "source": [
    "print 'Accuracy for SVC is: ' + str(np.mean(cross_val_score(SVC, x_train, y_train['Party'])))\n",
    "print 'Precision for SVC is: ' + str(np.mean(cross_val_score(SVC, x_train, y_train['Party'], scoring = 'precision')))\n",
    "print 'Recall for SVC is: ' + str(np.mean(cross_val_score(SVC, x_train, y_train['Party'], scoring = 'recall')))\n",
    "print 'F1 for SVC is: ' + str(np.mean(cross_val_score(SVC, x_train, y_train['Party'], scoring = 'f1')))"
   ]
  },
  {
   "cell_type": "code",
   "execution_count": 29,
   "metadata": {
    "collapsed": false
   },
   "outputs": [
    {
     "name": "stdout",
     "output_type": "stream",
     "text": [
      "Accuracy for DTC is: 0.947388856533\n",
      "Precision for DTC is: 0.963580810752\n",
      "Recall for DTC is: 0.957837301587\n",
      "F1 for DTC is: 0.960742368742\n"
     ]
    }
   ],
   "source": [
    "print 'Accuracy for DTC is: ' + str(np.mean(cross_val_score(DTC, x_train, y_train['Party'])))\n",
    "print 'Precision for DTC is: ' + str(np.mean(cross_val_score(DTC, x_train, y_train['Party'], scoring = 'precision')))\n",
    "print 'Recall for DTC is: ' + str(np.mean(cross_val_score(DTC, x_train, y_train['Party'], scoring = 'recall')))\n",
    "print 'F1 for DTC is: ' + str(np.mean(cross_val_score(DTC, x_train, y_train['Party'], scoring = 'f1')))"
   ]
  },
  {
   "cell_type": "code",
   "execution_count": 30,
   "metadata": {
    "collapsed": false
   },
   "outputs": [
    {
     "name": "stdout",
     "output_type": "stream",
     "text": [
      "Accuracy for RFC is: 0.94742121271\n",
      "Precision for RFC is: 0.983512544803\n",
      "Recall for RFC is: 0.947503306878\n",
      "F1 for RFC is: 0.965073537064\n"
     ]
    }
   ],
   "source": [
    "print 'Accuracy for RFC is: ' + str(np.mean(cross_val_score(RFC, x_train, y_train['Party'])))\n",
    "print 'Precision for RFC is: ' + str(np.mean(cross_val_score(RFC, x_train, y_train['Party'], scoring = 'precision')))\n",
    "print 'Recall for RFC is: ' + str(np.mean(cross_val_score(RFC, x_train, y_train['Party'], scoring = 'recall')))\n",
    "print 'F1 for RFC is: ' + str(np.mean(cross_val_score(RFC, x_train, y_train['Party'], scoring = 'f1')))"
   ]
  },
  {
   "cell_type": "markdown",
   "metadata": {},
   "source": [
    "# <a id='question4'></a>\n",
    "# Question 4  \n",
    "[Top](#top)"
   ]
  },
  {
   "cell_type": "code",
   "execution_count": 31,
   "metadata": {
    "collapsed": true
   },
   "outputs": [],
   "source": [
    "df3 = pd.read_csv('2013_movies.csv')"
   ]
  },
  {
   "cell_type": "code",
   "execution_count": 32,
   "metadata": {
    "collapsed": true
   },
   "outputs": [],
   "source": [
    "rating_dict = {'R':1,'PG-13':2 ,'PG':3,'G':4 }\n",
    "\n",
    "df3['Rating_bin'] = [rating_dict[x] for x in df3['Rating']]"
   ]
  },
  {
   "cell_type": "code",
   "execution_count": 33,
   "metadata": {
    "collapsed": false,
    "scrolled": false
   },
   "outputs": [
    {
     "data": {
      "text/html": [
       "<div>\n",
       "<table border=\"1\" class=\"dataframe\">\n",
       "  <thead>\n",
       "    <tr style=\"text-align: right;\">\n",
       "      <th></th>\n",
       "      <th>Title</th>\n",
       "      <th>Budget</th>\n",
       "      <th>DomesticTotalGross</th>\n",
       "      <th>Director</th>\n",
       "      <th>Rating</th>\n",
       "      <th>Runtime</th>\n",
       "      <th>ReleaseDate</th>\n",
       "      <th>Rating_bin</th>\n",
       "    </tr>\n",
       "  </thead>\n",
       "  <tbody>\n",
       "    <tr>\n",
       "      <th>0</th>\n",
       "      <td>The Hunger Games: Catching Fire</td>\n",
       "      <td>130000000.0</td>\n",
       "      <td>424668047</td>\n",
       "      <td>Francis Lawrence</td>\n",
       "      <td>PG-13</td>\n",
       "      <td>146</td>\n",
       "      <td>2013-11-22 00:00:00</td>\n",
       "      <td>2</td>\n",
       "    </tr>\n",
       "    <tr>\n",
       "      <th>1</th>\n",
       "      <td>Iron Man 3</td>\n",
       "      <td>200000000.0</td>\n",
       "      <td>409013994</td>\n",
       "      <td>Shane Black</td>\n",
       "      <td>PG-13</td>\n",
       "      <td>129</td>\n",
       "      <td>2013-05-03 00:00:00</td>\n",
       "      <td>2</td>\n",
       "    </tr>\n",
       "    <tr>\n",
       "      <th>2</th>\n",
       "      <td>Frozen</td>\n",
       "      <td>150000000.0</td>\n",
       "      <td>400738009</td>\n",
       "      <td>Chris BuckJennifer Lee</td>\n",
       "      <td>PG</td>\n",
       "      <td>108</td>\n",
       "      <td>2013-11-22 00:00:00</td>\n",
       "      <td>3</td>\n",
       "    </tr>\n",
       "    <tr>\n",
       "      <th>3</th>\n",
       "      <td>Despicable Me 2</td>\n",
       "      <td>76000000.0</td>\n",
       "      <td>368061265</td>\n",
       "      <td>Pierre CoffinChris Renaud</td>\n",
       "      <td>PG</td>\n",
       "      <td>98</td>\n",
       "      <td>2013-07-03 00:00:00</td>\n",
       "      <td>3</td>\n",
       "    </tr>\n",
       "    <tr>\n",
       "      <th>4</th>\n",
       "      <td>Man of Steel</td>\n",
       "      <td>225000000.0</td>\n",
       "      <td>291045518</td>\n",
       "      <td>Zack Snyder</td>\n",
       "      <td>PG-13</td>\n",
       "      <td>143</td>\n",
       "      <td>2013-06-14 00:00:00</td>\n",
       "      <td>2</td>\n",
       "    </tr>\n",
       "    <tr>\n",
       "      <th>5</th>\n",
       "      <td>Gravity</td>\n",
       "      <td>100000000.0</td>\n",
       "      <td>274092705</td>\n",
       "      <td>Alfonso Cuaron</td>\n",
       "      <td>PG-13</td>\n",
       "      <td>91</td>\n",
       "      <td>2013-10-04 00:00:00</td>\n",
       "      <td>2</td>\n",
       "    </tr>\n",
       "    <tr>\n",
       "      <th>8</th>\n",
       "      <td>Fast &amp; Furious 6</td>\n",
       "      <td>160000000.0</td>\n",
       "      <td>238679850</td>\n",
       "      <td>Justin Lin</td>\n",
       "      <td>PG-13</td>\n",
       "      <td>130</td>\n",
       "      <td>2013-05-24 00:00:00</td>\n",
       "      <td>2</td>\n",
       "    </tr>\n",
       "    <tr>\n",
       "      <th>9</th>\n",
       "      <td>Oz The Great and Powerful</td>\n",
       "      <td>215000000.0</td>\n",
       "      <td>234911825</td>\n",
       "      <td>Sam Raimi</td>\n",
       "      <td>PG</td>\n",
       "      <td>127</td>\n",
       "      <td>2013-03-08 00:00:00</td>\n",
       "      <td>3</td>\n",
       "    </tr>\n",
       "    <tr>\n",
       "      <th>10</th>\n",
       "      <td>Star Trek Into Darkness</td>\n",
       "      <td>190000000.0</td>\n",
       "      <td>228778661</td>\n",
       "      <td>J.J. Abrams</td>\n",
       "      <td>PG-13</td>\n",
       "      <td>123</td>\n",
       "      <td>2013-05-16 00:00:00</td>\n",
       "      <td>2</td>\n",
       "    </tr>\n",
       "    <tr>\n",
       "      <th>11</th>\n",
       "      <td>Thor: The Dark World</td>\n",
       "      <td>170000000.0</td>\n",
       "      <td>206362140</td>\n",
       "      <td>Alan Taylor</td>\n",
       "      <td>PG-13</td>\n",
       "      <td>120</td>\n",
       "      <td>2013-11-08 00:00:00</td>\n",
       "      <td>2</td>\n",
       "    </tr>\n",
       "    <tr>\n",
       "      <th>12</th>\n",
       "      <td>World War Z</td>\n",
       "      <td>190000000.0</td>\n",
       "      <td>202359711</td>\n",
       "      <td>Marc Forster</td>\n",
       "      <td>PG-13</td>\n",
       "      <td>116</td>\n",
       "      <td>2013-06-21 00:00:00</td>\n",
       "      <td>2</td>\n",
       "    </tr>\n",
       "    <tr>\n",
       "      <th>13</th>\n",
       "      <td>The Croods</td>\n",
       "      <td>135000000.0</td>\n",
       "      <td>187168425</td>\n",
       "      <td>Kirk De MiccoChris Sanders</td>\n",
       "      <td>PG</td>\n",
       "      <td>98</td>\n",
       "      <td>2013-03-22 00:00:00</td>\n",
       "      <td>3</td>\n",
       "    </tr>\n",
       "    <tr>\n",
       "      <th>14</th>\n",
       "      <td>The Heat</td>\n",
       "      <td>43000000.0</td>\n",
       "      <td>159582188</td>\n",
       "      <td>Paul Feig</td>\n",
       "      <td>R</td>\n",
       "      <td>117</td>\n",
       "      <td>2013-06-28 00:00:00</td>\n",
       "      <td>1</td>\n",
       "    </tr>\n",
       "    <tr>\n",
       "      <th>15</th>\n",
       "      <td>We're the Millers</td>\n",
       "      <td>37000000.0</td>\n",
       "      <td>150394119</td>\n",
       "      <td>Rawson Marshall Thurber</td>\n",
       "      <td>R</td>\n",
       "      <td>110</td>\n",
       "      <td>2013-08-07 00:00:00</td>\n",
       "      <td>1</td>\n",
       "    </tr>\n",
       "    <tr>\n",
       "      <th>16</th>\n",
       "      <td>American Hustle</td>\n",
       "      <td>40000000.0</td>\n",
       "      <td>150117807</td>\n",
       "      <td>David O. Russell</td>\n",
       "      <td>R</td>\n",
       "      <td>138</td>\n",
       "      <td>2013-12-13 00:00:00</td>\n",
       "      <td>1</td>\n",
       "    </tr>\n",
       "    <tr>\n",
       "      <th>17</th>\n",
       "      <td>The Great Gatsby</td>\n",
       "      <td>105000000.0</td>\n",
       "      <td>144840419</td>\n",
       "      <td>Baz Luhrmann</td>\n",
       "      <td>PG-13</td>\n",
       "      <td>143</td>\n",
       "      <td>2013-05-10 00:00:00</td>\n",
       "      <td>2</td>\n",
       "    </tr>\n",
       "    <tr>\n",
       "      <th>18</th>\n",
       "      <td>The Conjuring</td>\n",
       "      <td>20000000.0</td>\n",
       "      <td>137400141</td>\n",
       "      <td>James Wan</td>\n",
       "      <td>R</td>\n",
       "      <td>112</td>\n",
       "      <td>2013-07-19 00:00:00</td>\n",
       "      <td>1</td>\n",
       "    </tr>\n",
       "    <tr>\n",
       "      <th>19</th>\n",
       "      <td>Identity Thief</td>\n",
       "      <td>35000000.0</td>\n",
       "      <td>134506920</td>\n",
       "      <td>Seth Gordon</td>\n",
       "      <td>R</td>\n",
       "      <td>111</td>\n",
       "      <td>2013-02-08 00:00:00</td>\n",
       "      <td>1</td>\n",
       "    </tr>\n",
       "    <tr>\n",
       "      <th>20</th>\n",
       "      <td>Grown Ups 2</td>\n",
       "      <td>80000000.0</td>\n",
       "      <td>133668525</td>\n",
       "      <td>Dennis Dugan</td>\n",
       "      <td>PG-13</td>\n",
       "      <td>101</td>\n",
       "      <td>2013-07-12 00:00:00</td>\n",
       "      <td>2</td>\n",
       "    </tr>\n",
       "    <tr>\n",
       "      <th>21</th>\n",
       "      <td>The Wolverine</td>\n",
       "      <td>120000000.0</td>\n",
       "      <td>132556852</td>\n",
       "      <td>James Mangold</td>\n",
       "      <td>PG-13</td>\n",
       "      <td>126</td>\n",
       "      <td>2013-07-26 00:00:00</td>\n",
       "      <td>2</td>\n",
       "    </tr>\n",
       "    <tr>\n",
       "      <th>22</th>\n",
       "      <td>Anchorman 2: The Legend Continues</td>\n",
       "      <td>50000000.0</td>\n",
       "      <td>125168368</td>\n",
       "      <td>Adam McKay</td>\n",
       "      <td>PG-13</td>\n",
       "      <td>119</td>\n",
       "      <td>2013-12-18 00:00:00</td>\n",
       "      <td>2</td>\n",
       "    </tr>\n",
       "    <tr>\n",
       "      <th>23</th>\n",
       "      <td>Lone Survivor</td>\n",
       "      <td>40000000.0</td>\n",
       "      <td>125095601</td>\n",
       "      <td>Peter Berg</td>\n",
       "      <td>R</td>\n",
       "      <td>121</td>\n",
       "      <td>2013-12-25 00:00:00</td>\n",
       "      <td>1</td>\n",
       "    </tr>\n",
       "    <tr>\n",
       "      <th>24</th>\n",
       "      <td>G.I. Joe: Retaliation</td>\n",
       "      <td>130000000.0</td>\n",
       "      <td>122523060</td>\n",
       "      <td>Jon Chu</td>\n",
       "      <td>PG-13</td>\n",
       "      <td>99</td>\n",
       "      <td>2013-03-28 00:00:00</td>\n",
       "      <td>2</td>\n",
       "    </tr>\n",
       "    <tr>\n",
       "      <th>26</th>\n",
       "      <td>Now You See Me</td>\n",
       "      <td>75000000.0</td>\n",
       "      <td>117723989</td>\n",
       "      <td>Louis Leterrier</td>\n",
       "      <td>PG-13</td>\n",
       "      <td>116</td>\n",
       "      <td>2013-05-31 00:00:00</td>\n",
       "      <td>2</td>\n",
       "    </tr>\n",
       "    <tr>\n",
       "      <th>27</th>\n",
       "      <td>The Wolf of Wall Street</td>\n",
       "      <td>100000000.0</td>\n",
       "      <td>116900694</td>\n",
       "      <td>Martin Scorsese</td>\n",
       "      <td>R</td>\n",
       "      <td>180</td>\n",
       "      <td>2013-12-25 00:00:00</td>\n",
       "      <td>1</td>\n",
       "    </tr>\n",
       "    <tr>\n",
       "      <th>28</th>\n",
       "      <td>Lee Daniels' The Butler</td>\n",
       "      <td>30000000.0</td>\n",
       "      <td>116632095</td>\n",
       "      <td>Lee Daniels</td>\n",
       "      <td>PG-13</td>\n",
       "      <td>132</td>\n",
       "      <td>2013-08-16 00:00:00</td>\n",
       "      <td>2</td>\n",
       "    </tr>\n",
       "    <tr>\n",
       "      <th>29</th>\n",
       "      <td>The Hangover Part III</td>\n",
       "      <td>103000000.0</td>\n",
       "      <td>112200072</td>\n",
       "      <td>Todd Phillips</td>\n",
       "      <td>R</td>\n",
       "      <td>100</td>\n",
       "      <td>2013-05-23 00:00:00</td>\n",
       "      <td>1</td>\n",
       "    </tr>\n",
       "    <tr>\n",
       "      <th>30</th>\n",
       "      <td>Epic</td>\n",
       "      <td>100000000.0</td>\n",
       "      <td>107518682</td>\n",
       "      <td>Chris Wedge</td>\n",
       "      <td>PG</td>\n",
       "      <td>102</td>\n",
       "      <td>2013-05-24 00:00:00</td>\n",
       "      <td>3</td>\n",
       "    </tr>\n",
       "    <tr>\n",
       "      <th>31</th>\n",
       "      <td>Captain Phillips</td>\n",
       "      <td>55000000.0</td>\n",
       "      <td>107100855</td>\n",
       "      <td>Paul Greengrass</td>\n",
       "      <td>PG-13</td>\n",
       "      <td>134</td>\n",
       "      <td>2013-10-11 00:00:00</td>\n",
       "      <td>2</td>\n",
       "    </tr>\n",
       "    <tr>\n",
       "      <th>32</th>\n",
       "      <td>Jackass Presents: Bad Grandpa</td>\n",
       "      <td>15000000.0</td>\n",
       "      <td>102003019</td>\n",
       "      <td>Jeff Tremaine</td>\n",
       "      <td>R</td>\n",
       "      <td>93</td>\n",
       "      <td>2013-10-25 00:00:00</td>\n",
       "      <td>1</td>\n",
       "    </tr>\n",
       "    <tr>\n",
       "      <th>33</th>\n",
       "      <td>Pacific Rim</td>\n",
       "      <td>190000000.0</td>\n",
       "      <td>101802906</td>\n",
       "      <td>Guillermo del Toro</td>\n",
       "      <td>PG-13</td>\n",
       "      <td>131</td>\n",
       "      <td>2013-07-12 00:00:00</td>\n",
       "      <td>2</td>\n",
       "    </tr>\n",
       "    <tr>\n",
       "      <th>34</th>\n",
       "      <td>This is the End</td>\n",
       "      <td>32000000.0</td>\n",
       "      <td>101470202</td>\n",
       "      <td>Evan GoldbergSeth Rogen</td>\n",
       "      <td>R</td>\n",
       "      <td>107</td>\n",
       "      <td>2013-06-12 00:00:00</td>\n",
       "      <td>1</td>\n",
       "    </tr>\n",
       "    <tr>\n",
       "      <th>35</th>\n",
       "      <td>Olympus Has Fallen</td>\n",
       "      <td>70000000.0</td>\n",
       "      <td>98925640</td>\n",
       "      <td>Antoine Fuqua</td>\n",
       "      <td>R</td>\n",
       "      <td>120</td>\n",
       "      <td>2013-03-22 00:00:00</td>\n",
       "      <td>1</td>\n",
       "    </tr>\n",
       "    <tr>\n",
       "      <th>36</th>\n",
       "      <td>42</td>\n",
       "      <td>40000000.0</td>\n",
       "      <td>95020213</td>\n",
       "      <td>Brian Helgeland</td>\n",
       "      <td>PG-13</td>\n",
       "      <td>128</td>\n",
       "      <td>2013-04-12 00:00:00</td>\n",
       "      <td>2</td>\n",
       "    </tr>\n",
       "    <tr>\n",
       "      <th>37</th>\n",
       "      <td>Elysium</td>\n",
       "      <td>115000000.0</td>\n",
       "      <td>93050117</td>\n",
       "      <td>Neill Blomkamp</td>\n",
       "      <td>R</td>\n",
       "      <td>109</td>\n",
       "      <td>2013-08-09 00:00:00</td>\n",
       "      <td>1</td>\n",
       "    </tr>\n",
       "    <tr>\n",
       "      <th>38</th>\n",
       "      <td>Planes</td>\n",
       "      <td>50000000.0</td>\n",
       "      <td>90288712</td>\n",
       "      <td>Klay Hall</td>\n",
       "      <td>PG</td>\n",
       "      <td>92</td>\n",
       "      <td>2013-08-09 00:00:00</td>\n",
       "      <td>3</td>\n",
       "    </tr>\n",
       "    <tr>\n",
       "      <th>39</th>\n",
       "      <td>The Lone Ranger</td>\n",
       "      <td>215000000.0</td>\n",
       "      <td>89302115</td>\n",
       "      <td>Gore Verbinski</td>\n",
       "      <td>PG-13</td>\n",
       "      <td>149</td>\n",
       "      <td>2013-07-03 00:00:00</td>\n",
       "      <td>2</td>\n",
       "    </tr>\n",
       "    <tr>\n",
       "      <th>40</th>\n",
       "      <td>Oblivion</td>\n",
       "      <td>120000000.0</td>\n",
       "      <td>89107235</td>\n",
       "      <td>Joseph Kosinski</td>\n",
       "      <td>PG-13</td>\n",
       "      <td>125</td>\n",
       "      <td>2013-04-19 00:00:00</td>\n",
       "      <td>2</td>\n",
       "    </tr>\n",
       "    <tr>\n",
       "      <th>41</th>\n",
       "      <td>Insidious Chapter 2</td>\n",
       "      <td>5000000.0</td>\n",
       "      <td>83586447</td>\n",
       "      <td>James Wan</td>\n",
       "      <td>PG-13</td>\n",
       "      <td>105</td>\n",
       "      <td>2013-09-13 00:00:00</td>\n",
       "      <td>2</td>\n",
       "    </tr>\n",
       "    <tr>\n",
       "      <th>42</th>\n",
       "      <td>Saving Mr. Banks</td>\n",
       "      <td>35000000.0</td>\n",
       "      <td>83301580</td>\n",
       "      <td>John Lee Hancock</td>\n",
       "      <td>PG-13</td>\n",
       "      <td>120</td>\n",
       "      <td>2013-12-13 00:00:00</td>\n",
       "      <td>2</td>\n",
       "    </tr>\n",
       "    <tr>\n",
       "      <th>43</th>\n",
       "      <td>Turbo</td>\n",
       "      <td>135000000.0</td>\n",
       "      <td>83028128</td>\n",
       "      <td>David Soren</td>\n",
       "      <td>PG</td>\n",
       "      <td>96</td>\n",
       "      <td>2013-07-17 00:00:00</td>\n",
       "      <td>3</td>\n",
       "    </tr>\n",
       "    <tr>\n",
       "      <th>44</th>\n",
       "      <td>2 Guns</td>\n",
       "      <td>61000000.0</td>\n",
       "      <td>75612460</td>\n",
       "      <td>Baltasar Kormakur</td>\n",
       "      <td>R</td>\n",
       "      <td>109</td>\n",
       "      <td>2013-08-02 00:00:00</td>\n",
       "      <td>1</td>\n",
       "    </tr>\n",
       "    <tr>\n",
       "      <th>45</th>\n",
       "      <td>White House Down</td>\n",
       "      <td>150000000.0</td>\n",
       "      <td>73103784</td>\n",
       "      <td>Roland Emmerich</td>\n",
       "      <td>PG-13</td>\n",
       "      <td>137</td>\n",
       "      <td>2013-06-28 00:00:00</td>\n",
       "      <td>2</td>\n",
       "    </tr>\n",
       "    <tr>\n",
       "      <th>46</th>\n",
       "      <td>Mama</td>\n",
       "      <td>15000000.0</td>\n",
       "      <td>71628180</td>\n",
       "      <td>Andres Muschietti</td>\n",
       "      <td>PG-13</td>\n",
       "      <td>100</td>\n",
       "      <td>2013-01-18 00:00:00</td>\n",
       "      <td>2</td>\n",
       "    </tr>\n",
       "    <tr>\n",
       "      <th>47</th>\n",
       "      <td>Safe Haven</td>\n",
       "      <td>28000000.0</td>\n",
       "      <td>71349120</td>\n",
       "      <td>Lasse Hallstrom</td>\n",
       "      <td>PG-13</td>\n",
       "      <td>115</td>\n",
       "      <td>2013-02-14 00:00:00</td>\n",
       "      <td>2</td>\n",
       "    </tr>\n",
       "    <tr>\n",
       "      <th>48</th>\n",
       "      <td>The Smurfs 2</td>\n",
       "      <td>105000000.0</td>\n",
       "      <td>71017784</td>\n",
       "      <td>Raja Gosnell</td>\n",
       "      <td>PG</td>\n",
       "      <td>105</td>\n",
       "      <td>2013-07-31 00:00:00</td>\n",
       "      <td>3</td>\n",
       "    </tr>\n",
       "    <tr>\n",
       "      <th>49</th>\n",
       "      <td>The Best Man Holiday</td>\n",
       "      <td>17000000.0</td>\n",
       "      <td>70525195</td>\n",
       "      <td>Malcolm D. Lee</td>\n",
       "      <td>R</td>\n",
       "      <td>122</td>\n",
       "      <td>2013-11-15 00:00:00</td>\n",
       "      <td>1</td>\n",
       "    </tr>\n",
       "    <tr>\n",
       "      <th>50</th>\n",
       "      <td>Percy Jackson: Sea of Monsters</td>\n",
       "      <td>90000000.0</td>\n",
       "      <td>68559554</td>\n",
       "      <td>Thor Freudenthal</td>\n",
       "      <td>PG</td>\n",
       "      <td>106</td>\n",
       "      <td>2013-08-07 00:00:00</td>\n",
       "      <td>3</td>\n",
       "    </tr>\n",
       "    <tr>\n",
       "      <th>51</th>\n",
       "      <td>A Good Day to Die Hard</td>\n",
       "      <td>92000000.0</td>\n",
       "      <td>67349198</td>\n",
       "      <td>John Moore</td>\n",
       "      <td>R</td>\n",
       "      <td>97</td>\n",
       "      <td>2013-02-14 00:00:00</td>\n",
       "      <td>1</td>\n",
       "    </tr>\n",
       "    <tr>\n",
       "      <th>52</th>\n",
       "      <td>Warm Bodies</td>\n",
       "      <td>35000000.0</td>\n",
       "      <td>66380662</td>\n",
       "      <td>Jonathan Levine</td>\n",
       "      <td>PG-13</td>\n",
       "      <td>97</td>\n",
       "      <td>2013-02-01 00:00:00</td>\n",
       "      <td>2</td>\n",
       "    </tr>\n",
       "    <tr>\n",
       "      <th>53</th>\n",
       "      <td>Jack the Giant Slayer</td>\n",
       "      <td>195000000.0</td>\n",
       "      <td>65187603</td>\n",
       "      <td>Bryan Singer</td>\n",
       "      <td>PG-13</td>\n",
       "      <td>114</td>\n",
       "      <td>2013-03-01 00:00:00</td>\n",
       "      <td>2</td>\n",
       "    </tr>\n",
       "    <tr>\n",
       "      <th>54</th>\n",
       "      <td>The Purge</td>\n",
       "      <td>3000000.0</td>\n",
       "      <td>64473115</td>\n",
       "      <td>James DeMonaco</td>\n",
       "      <td>R</td>\n",
       "      <td>85</td>\n",
       "      <td>2013-06-07 00:00:00</td>\n",
       "      <td>1</td>\n",
       "    </tr>\n",
       "    <tr>\n",
       "      <th>55</th>\n",
       "      <td>Last Vegas</td>\n",
       "      <td>28000000.0</td>\n",
       "      <td>63914167</td>\n",
       "      <td>Jon Turteltaub</td>\n",
       "      <td>PG-13</td>\n",
       "      <td>90</td>\n",
       "      <td>2013-11-01 00:00:00</td>\n",
       "      <td>2</td>\n",
       "    </tr>\n",
       "    <tr>\n",
       "      <th>56</th>\n",
       "      <td>Ender's Game</td>\n",
       "      <td>110000000.0</td>\n",
       "      <td>61737191</td>\n",
       "      <td>Gavin Hood</td>\n",
       "      <td>PG-13</td>\n",
       "      <td>114</td>\n",
       "      <td>2013-11-01 00:00:00</td>\n",
       "      <td>2</td>\n",
       "    </tr>\n",
       "    <tr>\n",
       "      <th>57</th>\n",
       "      <td>Prisoners</td>\n",
       "      <td>46000000.0</td>\n",
       "      <td>61002302</td>\n",
       "      <td>Denis Villeneuve</td>\n",
       "      <td>R</td>\n",
       "      <td>146</td>\n",
       "      <td>2013-09-20 00:00:00</td>\n",
       "      <td>1</td>\n",
       "    </tr>\n",
       "    <tr>\n",
       "      <th>58</th>\n",
       "      <td>After Earth</td>\n",
       "      <td>130000000.0</td>\n",
       "      <td>60522097</td>\n",
       "      <td>M. Night Shyamalan</td>\n",
       "      <td>PG-13</td>\n",
       "      <td>100</td>\n",
       "      <td>2013-05-31 00:00:00</td>\n",
       "      <td>2</td>\n",
       "    </tr>\n",
       "    <tr>\n",
       "      <th>59</th>\n",
       "      <td>The Secret Life of Walter Mitty</td>\n",
       "      <td>90000000.0</td>\n",
       "      <td>58236838</td>\n",
       "      <td>Ben Stiller</td>\n",
       "      <td>PG</td>\n",
       "      <td>114</td>\n",
       "      <td>2013-12-25 00:00:00</td>\n",
       "      <td>3</td>\n",
       "    </tr>\n",
       "    <tr>\n",
       "      <th>60</th>\n",
       "      <td>Escape From Planet Earth</td>\n",
       "      <td>40000000.0</td>\n",
       "      <td>57012977</td>\n",
       "      <td>Cal Brunker</td>\n",
       "      <td>PG</td>\n",
       "      <td>89</td>\n",
       "      <td>2013-02-15 00:00:00</td>\n",
       "      <td>3</td>\n",
       "    </tr>\n",
       "    <tr>\n",
       "      <th>61</th>\n",
       "      <td>12 Years a Slave</td>\n",
       "      <td>20000000.0</td>\n",
       "      <td>56671993</td>\n",
       "      <td>Steve McQueen (II)</td>\n",
       "      <td>R</td>\n",
       "      <td>133</td>\n",
       "      <td>2013-10-18 00:00:00</td>\n",
       "      <td>1</td>\n",
       "    </tr>\n",
       "    <tr>\n",
       "      <th>62</th>\n",
       "      <td>Free Birds</td>\n",
       "      <td>55000000.0</td>\n",
       "      <td>55750480</td>\n",
       "      <td>Jimmy Hayward</td>\n",
       "      <td>PG</td>\n",
       "      <td>90</td>\n",
       "      <td>2013-11-01 00:00:00</td>\n",
       "      <td>3</td>\n",
       "    </tr>\n",
       "    <tr>\n",
       "      <th>63</th>\n",
       "      <td>Hansel and Gretel: Witch Hunters</td>\n",
       "      <td>50000000.0</td>\n",
       "      <td>55703475</td>\n",
       "      <td>Tommy Wirkola</td>\n",
       "      <td>R</td>\n",
       "      <td>88</td>\n",
       "      <td>2013-01-25 00:00:00</td>\n",
       "      <td>1</td>\n",
       "    </tr>\n",
       "    <tr>\n",
       "      <th>64</th>\n",
       "      <td>Evil Dead</td>\n",
       "      <td>17000000.0</td>\n",
       "      <td>54239856</td>\n",
       "      <td>Fede Alvarez</td>\n",
       "      <td>R</td>\n",
       "      <td>91</td>\n",
       "      <td>2013-04-05 00:00:00</td>\n",
       "      <td>1</td>\n",
       "    </tr>\n",
       "    <tr>\n",
       "      <th>65</th>\n",
       "      <td>Red 2</td>\n",
       "      <td>84000000.0</td>\n",
       "      <td>53262560</td>\n",
       "      <td>Dean Parisot</td>\n",
       "      <td>PG-13</td>\n",
       "      <td>116</td>\n",
       "      <td>2013-07-19 00:00:00</td>\n",
       "      <td>2</td>\n",
       "    </tr>\n",
       "    <tr>\n",
       "      <th>68</th>\n",
       "      <td>The Call</td>\n",
       "      <td>13000000.0</td>\n",
       "      <td>51872378</td>\n",
       "      <td>Brad Anderson</td>\n",
       "      <td>R</td>\n",
       "      <td>95</td>\n",
       "      <td>2013-03-15 00:00:00</td>\n",
       "      <td>1</td>\n",
       "    </tr>\n",
       "    <tr>\n",
       "      <th>69</th>\n",
       "      <td>Pain and Gain</td>\n",
       "      <td>26000000.0</td>\n",
       "      <td>49875291</td>\n",
       "      <td>Michael Bay</td>\n",
       "      <td>R</td>\n",
       "      <td>129</td>\n",
       "      <td>2013-04-26 00:00:00</td>\n",
       "      <td>1</td>\n",
       "    </tr>\n",
       "    <tr>\n",
       "      <th>70</th>\n",
       "      <td>Gangster Squad</td>\n",
       "      <td>60000000.0</td>\n",
       "      <td>46000903</td>\n",
       "      <td>Ruben Fleischer</td>\n",
       "      <td>R</td>\n",
       "      <td>113</td>\n",
       "      <td>2013-01-11 00:00:00</td>\n",
       "      <td>1</td>\n",
       "    </tr>\n",
       "    <tr>\n",
       "      <th>72</th>\n",
       "      <td>The Internship</td>\n",
       "      <td>58000000.0</td>\n",
       "      <td>44672764</td>\n",
       "      <td>Shawn Levy</td>\n",
       "      <td>PG-13</td>\n",
       "      <td>119</td>\n",
       "      <td>2013-06-07 00:00:00</td>\n",
       "      <td>2</td>\n",
       "    </tr>\n",
       "    <tr>\n",
       "      <th>75</th>\n",
       "      <td>Riddick</td>\n",
       "      <td>38000000.0</td>\n",
       "      <td>42025135</td>\n",
       "      <td>David Twohy</td>\n",
       "      <td>R</td>\n",
       "      <td>119</td>\n",
       "      <td>2013-09-06 00:00:00</td>\n",
       "      <td>1</td>\n",
       "    </tr>\n",
       "    <tr>\n",
       "      <th>76</th>\n",
       "      <td>A Haunted House</td>\n",
       "      <td>2500000.0</td>\n",
       "      <td>40041683</td>\n",
       "      <td>Michael Tiddes</td>\n",
       "      <td>R</td>\n",
       "      <td>80</td>\n",
       "      <td>2013-01-11 00:00:00</td>\n",
       "      <td>1</td>\n",
       "    </tr>\n",
       "    <tr>\n",
       "      <th>77</th>\n",
       "      <td>47 Ronin</td>\n",
       "      <td>175000000.0</td>\n",
       "      <td>38362475</td>\n",
       "      <td>Carl Rinsch</td>\n",
       "      <td>PG-13</td>\n",
       "      <td>127</td>\n",
       "      <td>2013-12-25 00:00:00</td>\n",
       "      <td>2</td>\n",
       "    </tr>\n",
       "    <tr>\n",
       "      <th>79</th>\n",
       "      <td>Philomena</td>\n",
       "      <td>12000000.0</td>\n",
       "      <td>37709979</td>\n",
       "      <td>Stephen Frears</td>\n",
       "      <td>PG-13</td>\n",
       "      <td>95</td>\n",
       "      <td>2013-11-22 00:00:00</td>\n",
       "      <td>2</td>\n",
       "    </tr>\n",
       "    <tr>\n",
       "      <th>80</th>\n",
       "      <td>The Family</td>\n",
       "      <td>30000000.0</td>\n",
       "      <td>36918811</td>\n",
       "      <td>Luc Besson</td>\n",
       "      <td>R</td>\n",
       "      <td>112</td>\n",
       "      <td>2013-09-13 00:00:00</td>\n",
       "      <td>1</td>\n",
       "    </tr>\n",
       "    <tr>\n",
       "      <th>81</th>\n",
       "      <td>Walking with Dinosaurs</td>\n",
       "      <td>80000000.0</td>\n",
       "      <td>36076121</td>\n",
       "      <td>Barry CookNeil Nightingale</td>\n",
       "      <td>PG</td>\n",
       "      <td>87</td>\n",
       "      <td>2013-12-20 00:00:00</td>\n",
       "      <td>3</td>\n",
       "    </tr>\n",
       "    <tr>\n",
       "      <th>82</th>\n",
       "      <td>Carrie</td>\n",
       "      <td>30000000.0</td>\n",
       "      <td>35266619</td>\n",
       "      <td>Kimberly Peirce</td>\n",
       "      <td>R</td>\n",
       "      <td>92</td>\n",
       "      <td>2013-10-18 00:00:00</td>\n",
       "      <td>1</td>\n",
       "    </tr>\n",
       "    <tr>\n",
       "      <th>84</th>\n",
       "      <td>R.I.P.D.</td>\n",
       "      <td>130000000.0</td>\n",
       "      <td>33618855</td>\n",
       "      <td>Robert Schwentke</td>\n",
       "      <td>PG-13</td>\n",
       "      <td>96</td>\n",
       "      <td>2013-07-19 00:00:00</td>\n",
       "      <td>2</td>\n",
       "    </tr>\n",
       "    <tr>\n",
       "      <th>88</th>\n",
       "      <td>Scary Movie 5</td>\n",
       "      <td>20000000.0</td>\n",
       "      <td>32015787</td>\n",
       "      <td>Malcolm D. Lee</td>\n",
       "      <td>PG-13</td>\n",
       "      <td>85</td>\n",
       "      <td>2013-04-12 00:00:00</td>\n",
       "      <td>2</td>\n",
       "    </tr>\n",
       "    <tr>\n",
       "      <th>89</th>\n",
       "      <td>The Mortal Instruments: City of Bones</td>\n",
       "      <td>60000000.0</td>\n",
       "      <td>31165421</td>\n",
       "      <td>Harald Zwart</td>\n",
       "      <td>PG-13</td>\n",
       "      <td>120</td>\n",
       "      <td>2013-08-21 00:00:00</td>\n",
       "      <td>2</td>\n",
       "    </tr>\n",
       "    <tr>\n",
       "      <th>90</th>\n",
       "      <td>Delivery Man</td>\n",
       "      <td>26000000.0</td>\n",
       "      <td>30664106</td>\n",
       "      <td>Ken Scott</td>\n",
       "      <td>PG-13</td>\n",
       "      <td>105</td>\n",
       "      <td>2013-11-22 00:00:00</td>\n",
       "      <td>2</td>\n",
       "    </tr>\n",
       "    <tr>\n",
       "      <th>91</th>\n",
       "      <td>Grudge Match</td>\n",
       "      <td>40000000.0</td>\n",
       "      <td>29807260</td>\n",
       "      <td>Peter Segal</td>\n",
       "      <td>PG-13</td>\n",
       "      <td>113</td>\n",
       "      <td>2013-12-25 00:00:00</td>\n",
       "      <td>2</td>\n",
       "    </tr>\n",
       "    <tr>\n",
       "      <th>92</th>\n",
       "      <td>One Direction: This is Us</td>\n",
       "      <td>10000000.0</td>\n",
       "      <td>28873374</td>\n",
       "      <td>Morgan Spurlock</td>\n",
       "      <td>PG</td>\n",
       "      <td>92</td>\n",
       "      <td>2013-08-30 00:00:00</td>\n",
       "      <td>3</td>\n",
       "    </tr>\n",
       "    <tr>\n",
       "      <th>93</th>\n",
       "      <td>Kick-Ass 2</td>\n",
       "      <td>28000000.0</td>\n",
       "      <td>28795985</td>\n",
       "      <td>Jeff Wadlow</td>\n",
       "      <td>R</td>\n",
       "      <td>103</td>\n",
       "      <td>2013-08-16 00:00:00</td>\n",
       "      <td>1</td>\n",
       "    </tr>\n",
       "    <tr>\n",
       "      <th>94</th>\n",
       "      <td>Dallas Buyers Club</td>\n",
       "      <td>5000000.0</td>\n",
       "      <td>27298285</td>\n",
       "      <td>Jean-Marc Vallee</td>\n",
       "      <td>R</td>\n",
       "      <td>117</td>\n",
       "      <td>2013-11-01 00:00:00</td>\n",
       "      <td>1</td>\n",
       "    </tr>\n",
       "    <tr>\n",
       "      <th>95</th>\n",
       "      <td>Rush</td>\n",
       "      <td>38000000.0</td>\n",
       "      <td>26947624</td>\n",
       "      <td>Ron Howard</td>\n",
       "      <td>R</td>\n",
       "      <td>123</td>\n",
       "      <td>2013-09-20 00:00:00</td>\n",
       "      <td>1</td>\n",
       "    </tr>\n",
       "    <tr>\n",
       "      <th>96</th>\n",
       "      <td>The Host</td>\n",
       "      <td>40000000.0</td>\n",
       "      <td>26627201</td>\n",
       "      <td>Andrew Niccol</td>\n",
       "      <td>PG-13</td>\n",
       "      <td>125</td>\n",
       "      <td>2013-03-29 00:00:00</td>\n",
       "      <td>2</td>\n",
       "    </tr>\n",
       "    <tr>\n",
       "      <th>97</th>\n",
       "      <td>The World's End</td>\n",
       "      <td>20000000.0</td>\n",
       "      <td>26004851</td>\n",
       "      <td>Edgar Wright</td>\n",
       "      <td>R</td>\n",
       "      <td>109</td>\n",
       "      <td>2013-08-23 00:00:00</td>\n",
       "      <td>1</td>\n",
       "    </tr>\n",
       "    <tr>\n",
       "      <th>98</th>\n",
       "      <td>21 and Over</td>\n",
       "      <td>13000000.0</td>\n",
       "      <td>25682380</td>\n",
       "      <td>Jon LucasScott Moore</td>\n",
       "      <td>R</td>\n",
       "      <td>93</td>\n",
       "      <td>2013-03-01 00:00:00</td>\n",
       "      <td>1</td>\n",
       "    </tr>\n",
       "    <tr>\n",
       "      <th>99</th>\n",
       "      <td>Her</td>\n",
       "      <td>23000000.0</td>\n",
       "      <td>25568251</td>\n",
       "      <td>Spike Jonze</td>\n",
       "      <td>R</td>\n",
       "      <td>120</td>\n",
       "      <td>2013-12-18 00:00:00</td>\n",
       "      <td>1</td>\n",
       "    </tr>\n",
       "  </tbody>\n",
       "</table>\n",
       "</div>"
      ],
      "text/plain": [
       "                                    Title       Budget  DomesticTotalGross  \\\n",
       "0         The Hunger Games: Catching Fire  130000000.0           424668047   \n",
       "1                              Iron Man 3  200000000.0           409013994   \n",
       "2                                  Frozen  150000000.0           400738009   \n",
       "3                         Despicable Me 2   76000000.0           368061265   \n",
       "4                            Man of Steel  225000000.0           291045518   \n",
       "5                                 Gravity  100000000.0           274092705   \n",
       "8                        Fast & Furious 6  160000000.0           238679850   \n",
       "9               Oz The Great and Powerful  215000000.0           234911825   \n",
       "10                Star Trek Into Darkness  190000000.0           228778661   \n",
       "11                   Thor: The Dark World  170000000.0           206362140   \n",
       "12                            World War Z  190000000.0           202359711   \n",
       "13                             The Croods  135000000.0           187168425   \n",
       "14                               The Heat   43000000.0           159582188   \n",
       "15                      We're the Millers   37000000.0           150394119   \n",
       "16                        American Hustle   40000000.0           150117807   \n",
       "17                       The Great Gatsby  105000000.0           144840419   \n",
       "18                          The Conjuring   20000000.0           137400141   \n",
       "19                         Identity Thief   35000000.0           134506920   \n",
       "20                            Grown Ups 2   80000000.0           133668525   \n",
       "21                          The Wolverine  120000000.0           132556852   \n",
       "22      Anchorman 2: The Legend Continues   50000000.0           125168368   \n",
       "23                          Lone Survivor   40000000.0           125095601   \n",
       "24                  G.I. Joe: Retaliation  130000000.0           122523060   \n",
       "26                         Now You See Me   75000000.0           117723989   \n",
       "27                The Wolf of Wall Street  100000000.0           116900694   \n",
       "28                Lee Daniels' The Butler   30000000.0           116632095   \n",
       "29                  The Hangover Part III  103000000.0           112200072   \n",
       "30                                   Epic  100000000.0           107518682   \n",
       "31                       Captain Phillips   55000000.0           107100855   \n",
       "32          Jackass Presents: Bad Grandpa   15000000.0           102003019   \n",
       "33                            Pacific Rim  190000000.0           101802906   \n",
       "34                        This is the End   32000000.0           101470202   \n",
       "35                     Olympus Has Fallen   70000000.0            98925640   \n",
       "36                                     42   40000000.0            95020213   \n",
       "37                                Elysium  115000000.0            93050117   \n",
       "38                                 Planes   50000000.0            90288712   \n",
       "39                        The Lone Ranger  215000000.0            89302115   \n",
       "40                               Oblivion  120000000.0            89107235   \n",
       "41                    Insidious Chapter 2    5000000.0            83586447   \n",
       "42                       Saving Mr. Banks   35000000.0            83301580   \n",
       "43                                  Turbo  135000000.0            83028128   \n",
       "44                                 2 Guns   61000000.0            75612460   \n",
       "45                       White House Down  150000000.0            73103784   \n",
       "46                                   Mama   15000000.0            71628180   \n",
       "47                             Safe Haven   28000000.0            71349120   \n",
       "48                           The Smurfs 2  105000000.0            71017784   \n",
       "49                   The Best Man Holiday   17000000.0            70525195   \n",
       "50         Percy Jackson: Sea of Monsters   90000000.0            68559554   \n",
       "51                 A Good Day to Die Hard   92000000.0            67349198   \n",
       "52                            Warm Bodies   35000000.0            66380662   \n",
       "53                  Jack the Giant Slayer  195000000.0            65187603   \n",
       "54                              The Purge    3000000.0            64473115   \n",
       "55                             Last Vegas   28000000.0            63914167   \n",
       "56                           Ender's Game  110000000.0            61737191   \n",
       "57                              Prisoners   46000000.0            61002302   \n",
       "58                            After Earth  130000000.0            60522097   \n",
       "59        The Secret Life of Walter Mitty   90000000.0            58236838   \n",
       "60               Escape From Planet Earth   40000000.0            57012977   \n",
       "61                       12 Years a Slave   20000000.0            56671993   \n",
       "62                             Free Birds   55000000.0            55750480   \n",
       "63       Hansel and Gretel: Witch Hunters   50000000.0            55703475   \n",
       "64                              Evil Dead   17000000.0            54239856   \n",
       "65                                  Red 2   84000000.0            53262560   \n",
       "68                               The Call   13000000.0            51872378   \n",
       "69                          Pain and Gain   26000000.0            49875291   \n",
       "70                         Gangster Squad   60000000.0            46000903   \n",
       "72                         The Internship   58000000.0            44672764   \n",
       "75                                Riddick   38000000.0            42025135   \n",
       "76                        A Haunted House    2500000.0            40041683   \n",
       "77                               47 Ronin  175000000.0            38362475   \n",
       "79                              Philomena   12000000.0            37709979   \n",
       "80                             The Family   30000000.0            36918811   \n",
       "81                 Walking with Dinosaurs   80000000.0            36076121   \n",
       "82                                 Carrie   30000000.0            35266619   \n",
       "84                               R.I.P.D.  130000000.0            33618855   \n",
       "88                          Scary Movie 5   20000000.0            32015787   \n",
       "89  The Mortal Instruments: City of Bones   60000000.0            31165421   \n",
       "90                           Delivery Man   26000000.0            30664106   \n",
       "91                           Grudge Match   40000000.0            29807260   \n",
       "92              One Direction: This is Us   10000000.0            28873374   \n",
       "93                             Kick-Ass 2   28000000.0            28795985   \n",
       "94                     Dallas Buyers Club    5000000.0            27298285   \n",
       "95                                   Rush   38000000.0            26947624   \n",
       "96                               The Host   40000000.0            26627201   \n",
       "97                        The World's End   20000000.0            26004851   \n",
       "98                            21 and Over   13000000.0            25682380   \n",
       "99                                    Her   23000000.0            25568251   \n",
       "\n",
       "                      Director Rating  Runtime          ReleaseDate  \\\n",
       "0             Francis Lawrence  PG-13      146  2013-11-22 00:00:00   \n",
       "1                  Shane Black  PG-13      129  2013-05-03 00:00:00   \n",
       "2       Chris BuckJennifer Lee     PG      108  2013-11-22 00:00:00   \n",
       "3    Pierre CoffinChris Renaud     PG       98  2013-07-03 00:00:00   \n",
       "4                  Zack Snyder  PG-13      143  2013-06-14 00:00:00   \n",
       "5               Alfonso Cuaron  PG-13       91  2013-10-04 00:00:00   \n",
       "8                   Justin Lin  PG-13      130  2013-05-24 00:00:00   \n",
       "9                    Sam Raimi     PG      127  2013-03-08 00:00:00   \n",
       "10                 J.J. Abrams  PG-13      123  2013-05-16 00:00:00   \n",
       "11                 Alan Taylor  PG-13      120  2013-11-08 00:00:00   \n",
       "12                Marc Forster  PG-13      116  2013-06-21 00:00:00   \n",
       "13  Kirk De MiccoChris Sanders     PG       98  2013-03-22 00:00:00   \n",
       "14                   Paul Feig      R      117  2013-06-28 00:00:00   \n",
       "15     Rawson Marshall Thurber      R      110  2013-08-07 00:00:00   \n",
       "16            David O. Russell      R      138  2013-12-13 00:00:00   \n",
       "17                Baz Luhrmann  PG-13      143  2013-05-10 00:00:00   \n",
       "18                   James Wan      R      112  2013-07-19 00:00:00   \n",
       "19                 Seth Gordon      R      111  2013-02-08 00:00:00   \n",
       "20                Dennis Dugan  PG-13      101  2013-07-12 00:00:00   \n",
       "21               James Mangold  PG-13      126  2013-07-26 00:00:00   \n",
       "22                  Adam McKay  PG-13      119  2013-12-18 00:00:00   \n",
       "23                  Peter Berg      R      121  2013-12-25 00:00:00   \n",
       "24                     Jon Chu  PG-13       99  2013-03-28 00:00:00   \n",
       "26             Louis Leterrier  PG-13      116  2013-05-31 00:00:00   \n",
       "27             Martin Scorsese      R      180  2013-12-25 00:00:00   \n",
       "28                 Lee Daniels  PG-13      132  2013-08-16 00:00:00   \n",
       "29               Todd Phillips      R      100  2013-05-23 00:00:00   \n",
       "30                 Chris Wedge     PG      102  2013-05-24 00:00:00   \n",
       "31             Paul Greengrass  PG-13      134  2013-10-11 00:00:00   \n",
       "32               Jeff Tremaine      R       93  2013-10-25 00:00:00   \n",
       "33          Guillermo del Toro  PG-13      131  2013-07-12 00:00:00   \n",
       "34     Evan GoldbergSeth Rogen      R      107  2013-06-12 00:00:00   \n",
       "35               Antoine Fuqua      R      120  2013-03-22 00:00:00   \n",
       "36             Brian Helgeland  PG-13      128  2013-04-12 00:00:00   \n",
       "37              Neill Blomkamp      R      109  2013-08-09 00:00:00   \n",
       "38                   Klay Hall     PG       92  2013-08-09 00:00:00   \n",
       "39              Gore Verbinski  PG-13      149  2013-07-03 00:00:00   \n",
       "40             Joseph Kosinski  PG-13      125  2013-04-19 00:00:00   \n",
       "41                   James Wan  PG-13      105  2013-09-13 00:00:00   \n",
       "42            John Lee Hancock  PG-13      120  2013-12-13 00:00:00   \n",
       "43                 David Soren     PG       96  2013-07-17 00:00:00   \n",
       "44           Baltasar Kormakur      R      109  2013-08-02 00:00:00   \n",
       "45             Roland Emmerich  PG-13      137  2013-06-28 00:00:00   \n",
       "46           Andres Muschietti  PG-13      100  2013-01-18 00:00:00   \n",
       "47             Lasse Hallstrom  PG-13      115  2013-02-14 00:00:00   \n",
       "48                Raja Gosnell     PG      105  2013-07-31 00:00:00   \n",
       "49              Malcolm D. Lee      R      122  2013-11-15 00:00:00   \n",
       "50            Thor Freudenthal     PG      106  2013-08-07 00:00:00   \n",
       "51                  John Moore      R       97  2013-02-14 00:00:00   \n",
       "52             Jonathan Levine  PG-13       97  2013-02-01 00:00:00   \n",
       "53                Bryan Singer  PG-13      114  2013-03-01 00:00:00   \n",
       "54              James DeMonaco      R       85  2013-06-07 00:00:00   \n",
       "55              Jon Turteltaub  PG-13       90  2013-11-01 00:00:00   \n",
       "56                  Gavin Hood  PG-13      114  2013-11-01 00:00:00   \n",
       "57            Denis Villeneuve      R      146  2013-09-20 00:00:00   \n",
       "58          M. Night Shyamalan  PG-13      100  2013-05-31 00:00:00   \n",
       "59                 Ben Stiller     PG      114  2013-12-25 00:00:00   \n",
       "60                 Cal Brunker     PG       89  2013-02-15 00:00:00   \n",
       "61          Steve McQueen (II)      R      133  2013-10-18 00:00:00   \n",
       "62               Jimmy Hayward     PG       90  2013-11-01 00:00:00   \n",
       "63               Tommy Wirkola      R       88  2013-01-25 00:00:00   \n",
       "64                Fede Alvarez      R       91  2013-04-05 00:00:00   \n",
       "65                Dean Parisot  PG-13      116  2013-07-19 00:00:00   \n",
       "68               Brad Anderson      R       95  2013-03-15 00:00:00   \n",
       "69                 Michael Bay      R      129  2013-04-26 00:00:00   \n",
       "70             Ruben Fleischer      R      113  2013-01-11 00:00:00   \n",
       "72                  Shawn Levy  PG-13      119  2013-06-07 00:00:00   \n",
       "75                 David Twohy      R      119  2013-09-06 00:00:00   \n",
       "76              Michael Tiddes      R       80  2013-01-11 00:00:00   \n",
       "77                 Carl Rinsch  PG-13      127  2013-12-25 00:00:00   \n",
       "79              Stephen Frears  PG-13       95  2013-11-22 00:00:00   \n",
       "80                  Luc Besson      R      112  2013-09-13 00:00:00   \n",
       "81  Barry CookNeil Nightingale     PG       87  2013-12-20 00:00:00   \n",
       "82             Kimberly Peirce      R       92  2013-10-18 00:00:00   \n",
       "84            Robert Schwentke  PG-13       96  2013-07-19 00:00:00   \n",
       "88              Malcolm D. Lee  PG-13       85  2013-04-12 00:00:00   \n",
       "89                Harald Zwart  PG-13      120  2013-08-21 00:00:00   \n",
       "90                   Ken Scott  PG-13      105  2013-11-22 00:00:00   \n",
       "91                 Peter Segal  PG-13      113  2013-12-25 00:00:00   \n",
       "92             Morgan Spurlock     PG       92  2013-08-30 00:00:00   \n",
       "93                 Jeff Wadlow      R      103  2013-08-16 00:00:00   \n",
       "94            Jean-Marc Vallee      R      117  2013-11-01 00:00:00   \n",
       "95                  Ron Howard      R      123  2013-09-20 00:00:00   \n",
       "96               Andrew Niccol  PG-13      125  2013-03-29 00:00:00   \n",
       "97                Edgar Wright      R      109  2013-08-23 00:00:00   \n",
       "98        Jon LucasScott Moore      R       93  2013-03-01 00:00:00   \n",
       "99                 Spike Jonze      R      120  2013-12-18 00:00:00   \n",
       "\n",
       "    Rating_bin  \n",
       "0            2  \n",
       "1            2  \n",
       "2            3  \n",
       "3            3  \n",
       "4            2  \n",
       "5            2  \n",
       "8            2  \n",
       "9            3  \n",
       "10           2  \n",
       "11           2  \n",
       "12           2  \n",
       "13           3  \n",
       "14           1  \n",
       "15           1  \n",
       "16           1  \n",
       "17           2  \n",
       "18           1  \n",
       "19           1  \n",
       "20           2  \n",
       "21           2  \n",
       "22           2  \n",
       "23           1  \n",
       "24           2  \n",
       "26           2  \n",
       "27           1  \n",
       "28           2  \n",
       "29           1  \n",
       "30           3  \n",
       "31           2  \n",
       "32           1  \n",
       "33           2  \n",
       "34           1  \n",
       "35           1  \n",
       "36           2  \n",
       "37           1  \n",
       "38           3  \n",
       "39           2  \n",
       "40           2  \n",
       "41           2  \n",
       "42           2  \n",
       "43           3  \n",
       "44           1  \n",
       "45           2  \n",
       "46           2  \n",
       "47           2  \n",
       "48           3  \n",
       "49           1  \n",
       "50           3  \n",
       "51           1  \n",
       "52           2  \n",
       "53           2  \n",
       "54           1  \n",
       "55           2  \n",
       "56           2  \n",
       "57           1  \n",
       "58           2  \n",
       "59           3  \n",
       "60           3  \n",
       "61           1  \n",
       "62           3  \n",
       "63           1  \n",
       "64           1  \n",
       "65           2  \n",
       "68           1  \n",
       "69           1  \n",
       "70           1  \n",
       "72           2  \n",
       "75           1  \n",
       "76           1  \n",
       "77           2  \n",
       "79           2  \n",
       "80           1  \n",
       "81           3  \n",
       "82           1  \n",
       "84           2  \n",
       "88           2  \n",
       "89           2  \n",
       "90           2  \n",
       "91           2  \n",
       "92           3  \n",
       "93           1  \n",
       "94           1  \n",
       "95           1  \n",
       "96           2  \n",
       "97           1  \n",
       "98           1  \n",
       "99           1  "
      ]
     },
     "execution_count": 33,
     "metadata": {},
     "output_type": "execute_result"
    }
   ],
   "source": [
    "df3.dropna()"
   ]
  },
  {
   "cell_type": "code",
   "execution_count": 34,
   "metadata": {
    "collapsed": true
   },
   "outputs": [],
   "source": [
    "y, X = np.ravel(df3[['Rating_bin']]), df3[['Rating_bin', 'DomesticTotalGross']]"
   ]
  },
  {
   "cell_type": "code",
   "execution_count": 35,
   "metadata": {
    "collapsed": true
   },
   "outputs": [],
   "source": [
    "x_train, x_test, y_train, y_test = cv.train_test_split(X,y,test_size=.30, random_state=4444)"
   ]
  },
  {
   "cell_type": "code",
   "execution_count": 36,
   "metadata": {
    "collapsed": false
   },
   "outputs": [],
   "source": [
    "logreg3 = LogisticRegression(C=.001)\n",
    "logreg3 = logreg3.fit(x_train, y_train)\n",
    "y_pred = logreg3.predict(x_test)"
   ]
  },
  {
   "cell_type": "code",
   "execution_count": 37,
   "metadata": {
    "collapsed": true
   },
   "outputs": [],
   "source": [
    "from sklearn.metrics import precision_recall_fscore_support"
   ]
  },
  {
   "cell_type": "code",
   "execution_count": 38,
   "metadata": {
    "collapsed": false
   },
   "outputs": [
    {
     "name": "stderr",
     "output_type": "stream",
     "text": [
      "/Users/whitneychia/anaconda/lib/python2.7/site-packages/sklearn/metrics/classification.py:1074: UndefinedMetricWarning: Precision and F-score are ill-defined and being set to 0.0 in labels with no predicted samples.\n",
      "  'precision', 'predicted', average, warn_for)\n",
      "/Users/whitneychia/anaconda/lib/python2.7/site-packages/sklearn/metrics/classification.py:1076: UndefinedMetricWarning: Recall and F-score are ill-defined and being set to 0.0 in labels with no true samples.\n",
      "  'recall', 'true', average, warn_for)\n"
     ]
    }
   ],
   "source": [
    "scores = precision_recall_fscore_support(y_test, y_pred, labels=[1,2,3,4], warn_for=('precision', 'recall', 'f-score'))"
   ]
  },
  {
   "cell_type": "code",
   "execution_count": 39,
   "metadata": {
    "collapsed": false
   },
   "outputs": [
    {
     "name": "stdout",
     "output_type": "stream",
     "text": [
      "The precision for R, PG-13, PG, G  :[ 0.          0.46666667  0.          0.        ]\n",
      "The recall for R, PG-13, PG, G:[ 0.  1.  0.  0.]\n",
      "The f_score for R, PG-13, PG, G:[ 0.          0.63636364  0.          0.        ]\n"
     ]
    }
   ],
   "source": [
    "print 'The precision for R, PG-13, PG, G  :' + str(scores[0])\n",
    "print 'The recall for R, PG-13, PG, G:' + str(scores[1])\n",
    "print 'The f_score for R, PG-13, PG, G:' + str(scores[2])"
   ]
  },
  {
   "cell_type": "markdown",
   "metadata": {},
   "source": [
    "THIS LOOKS WRONG....I'll have to look into it later and re-submit."
   ]
  },
  {
   "cell_type": "markdown",
   "metadata": {},
   "source": [
    "# <a id='question5'></a>\n",
    "# Question 5  \n",
    "[Top](#top)"
   ]
  },
  {
   "cell_type": "code",
   "execution_count": 40,
   "metadata": {
    "collapsed": true
   },
   "outputs": [],
   "source": [
    "df4 = pd.read_csv('haberman.data', header=None)"
   ]
  },
  {
   "cell_type": "code",
   "execution_count": 41,
   "metadata": {
    "collapsed": true
   },
   "outputs": [],
   "source": [
    "df4.columns = ['age', 'year_operation', 'positive_nodes', 'survival_status']"
   ]
  },
  {
   "cell_type": "code",
   "execution_count": 42,
   "metadata": {
    "collapsed": true
   },
   "outputs": [],
   "source": [
    "y, X = dmatrices('survival_status ~ age + year_operation + positive_nodes', data=df4, return_type='dataframe')"
   ]
  },
  {
   "cell_type": "code",
   "execution_count": 43,
   "metadata": {
    "collapsed": true
   },
   "outputs": [],
   "source": [
    "x_train, x_test, y_train, y_test = cv.train_test_split(X,y,test_size=.30, random_state=4444)"
   ]
  },
  {
   "cell_type": "code",
   "execution_count": 56,
   "metadata": {
    "collapsed": false,
    "scrolled": true
   },
   "outputs": [
    {
     "name": "stderr",
     "output_type": "stream",
     "text": [
      "/Users/whitneychia/anaconda/lib/python2.7/site-packages/sklearn/utils/validation.py:515: DataConversionWarning: A column-vector y was passed when a 1d array was expected. Please change the shape of y to (n_samples, ), for example using ravel().\n",
      "  y = column_or_1d(y, warn=True)\n"
     ]
    },
    {
     "data": {
      "text/plain": [
       "LogisticRegression(C=0.001, class_weight=None, dual=False, fit_intercept=True,\n",
       "          intercept_scaling=1, max_iter=100, multi_class='ovr', n_jobs=1,\n",
       "          penalty='l2', random_state=None, solver='liblinear', tol=0.0001,\n",
       "          verbose=0, warm_start=False)"
      ]
     },
     "execution_count": 56,
     "metadata": {},
     "output_type": "execute_result"
    }
   ],
   "source": [
    "logreg_UCI = LogisticRegression(C = .001)\n",
    "logreg_UCI.fit(x_train, y_train)"
   ]
  },
  {
   "cell_type": "code",
   "execution_count": 57,
   "metadata": {
    "collapsed": false
   },
   "outputs": [
    {
     "ename": "ValueError",
     "evalue": "Data is not binary and pos_label is not specified",
     "output_type": "error",
     "traceback": [
      "\u001b[0;31m---------------------------------------------------------------------------\u001b[0m",
      "\u001b[0;31mValueError\u001b[0m                                Traceback (most recent call last)",
      "\u001b[0;32m<ipython-input-57-4284d1458697>\u001b[0m in \u001b[0;36m<module>\u001b[0;34m()\u001b[0m\n\u001b[0;32m----> 1\u001b[0;31m \u001b[0mfpr\u001b[0m\u001b[0;34m,\u001b[0m \u001b[0mtpr\u001b[0m\u001b[0;34m,\u001b[0m \u001b[0m_\u001b[0m \u001b[0;34m=\u001b[0m \u001b[0mroc_curve\u001b[0m\u001b[0;34m(\u001b[0m\u001b[0my_test\u001b[0m\u001b[0;34m,\u001b[0m \u001b[0mlogreg_UCI\u001b[0m\u001b[0;34m.\u001b[0m\u001b[0mpredict_proba\u001b[0m\u001b[0;34m(\u001b[0m\u001b[0mx_test\u001b[0m\u001b[0;34m)\u001b[0m\u001b[0;34m[\u001b[0m\u001b[0;34m:\u001b[0m\u001b[0;34m,\u001b[0m\u001b[0;36m1\u001b[0m\u001b[0;34m]\u001b[0m\u001b[0;34m)\u001b[0m\u001b[0;34m\u001b[0m\u001b[0m\n\u001b[0m\u001b[1;32m      2\u001b[0m \u001b[0mroc_auc\u001b[0m \u001b[0;34m=\u001b[0m \u001b[0mroc_auc_score\u001b[0m\u001b[0;34m(\u001b[0m\u001b[0my_test\u001b[0m\u001b[0;34m,\u001b[0m \u001b[0mlogreg_UCI\u001b[0m\u001b[0;34m.\u001b[0m\u001b[0mpredict_proba\u001b[0m\u001b[0;34m(\u001b[0m\u001b[0mx_test\u001b[0m\u001b[0;34m)\u001b[0m\u001b[0;34m[\u001b[0m\u001b[0;34m:\u001b[0m\u001b[0;34m,\u001b[0m\u001b[0;36m1\u001b[0m\u001b[0;34m]\u001b[0m\u001b[0;34m)\u001b[0m\u001b[0;34m\u001b[0m\u001b[0m\n\u001b[1;32m      3\u001b[0m \u001b[0;34m\u001b[0m\u001b[0m\n\u001b[1;32m      4\u001b[0m \u001b[0mplt\u001b[0m\u001b[0;34m.\u001b[0m\u001b[0mplot\u001b[0m\u001b[0;34m(\u001b[0m\u001b[0mfpr\u001b[0m\u001b[0;34m,\u001b[0m \u001b[0mtpr\u001b[0m\u001b[0;34m,\u001b[0m \u001b[0mlabel\u001b[0m\u001b[0;34m=\u001b[0m\u001b[0;34m'ROC curve (area = %0.2f)'\u001b[0m \u001b[0;34m%\u001b[0m \u001b[0mroc_auc\u001b[0m\u001b[0;34m)\u001b[0m\u001b[0;34m\u001b[0m\u001b[0m\n\u001b[1;32m      5\u001b[0m \u001b[0mplt\u001b[0m\u001b[0;34m.\u001b[0m\u001b[0mxlim\u001b[0m\u001b[0;34m(\u001b[0m\u001b[0;34m[\u001b[0m\u001b[0;36m0.0\u001b[0m\u001b[0;34m,\u001b[0m \u001b[0;36m1.0\u001b[0m\u001b[0;34m]\u001b[0m\u001b[0;34m)\u001b[0m\u001b[0;34m\u001b[0m\u001b[0m\n",
      "\u001b[0;32m/Users/whitneychia/anaconda/lib/python2.7/site-packages/sklearn/metrics/ranking.pyc\u001b[0m in \u001b[0;36mroc_curve\u001b[0;34m(y_true, y_score, pos_label, sample_weight, drop_intermediate)\u001b[0m\n\u001b[1;32m    499\u001b[0m     \"\"\"\n\u001b[1;32m    500\u001b[0m     fps, tps, thresholds = _binary_clf_curve(\n\u001b[0;32m--> 501\u001b[0;31m         y_true, y_score, pos_label=pos_label, sample_weight=sample_weight)\n\u001b[0m\u001b[1;32m    502\u001b[0m \u001b[0;34m\u001b[0m\u001b[0m\n\u001b[1;32m    503\u001b[0m     \u001b[0;31m# Attempt to drop thresholds corresponding to points in between and\u001b[0m\u001b[0;34m\u001b[0m\u001b[0;34m\u001b[0m\u001b[0m\n",
      "\u001b[0;32m/Users/whitneychia/anaconda/lib/python2.7/site-packages/sklearn/metrics/ranking.pyc\u001b[0m in \u001b[0;36m_binary_clf_curve\u001b[0;34m(y_true, y_score, pos_label, sample_weight)\u001b[0m\n\u001b[1;32m    306\u001b[0m              \u001b[0marray_equal\u001b[0m\u001b[0;34m(\u001b[0m\u001b[0mclasses\u001b[0m\u001b[0;34m,\u001b[0m \u001b[0;34m[\u001b[0m\u001b[0;34m-\u001b[0m\u001b[0;36m1\u001b[0m\u001b[0;34m]\u001b[0m\u001b[0;34m)\u001b[0m \u001b[0;32mor\u001b[0m\u001b[0;34m\u001b[0m\u001b[0m\n\u001b[1;32m    307\u001b[0m              array_equal(classes, [1]))):\n\u001b[0;32m--> 308\u001b[0;31m         \u001b[0;32mraise\u001b[0m \u001b[0mValueError\u001b[0m\u001b[0;34m(\u001b[0m\u001b[0;34m\"Data is not binary and pos_label is not specified\"\u001b[0m\u001b[0;34m)\u001b[0m\u001b[0;34m\u001b[0m\u001b[0m\n\u001b[0m\u001b[1;32m    309\u001b[0m     \u001b[0;32melif\u001b[0m \u001b[0mpos_label\u001b[0m \u001b[0;32mis\u001b[0m \u001b[0mNone\u001b[0m\u001b[0;34m:\u001b[0m\u001b[0;34m\u001b[0m\u001b[0m\n\u001b[1;32m    310\u001b[0m         \u001b[0mpos_label\u001b[0m \u001b[0;34m=\u001b[0m \u001b[0;36m1.\u001b[0m\u001b[0;34m\u001b[0m\u001b[0m\n",
      "\u001b[0;31mValueError\u001b[0m: Data is not binary and pos_label is not specified"
     ]
    }
   ],
   "source": [
    "fpr, tpr, _ = roc_curve(y_test, logreg_UCI.predict_proba(x_test)[:,1])\n",
    "roc_auc = roc_auc_score(y_test, logreg_UCI.predict_proba(x_test)[:,1])\n",
    "\n",
    "plt.plot(fpr, tpr, label='ROC curve (area = %0.2f)' % roc_auc)\n",
    "plt.xlim([0.0, 1.0])\n",
    "plt.ylim([0.0, 1.05])\n",
    "plt.xlabel('False Positive Rate')\n",
    "plt.ylabel('True Positive Rate')\n",
    "plt.title('ROC Curve for Logistic Regression')\n",
    "plt.legend(loc='best')"
   ]
  },
  {
   "cell_type": "markdown",
   "metadata": {
    "collapsed": true
   },
   "source": [
    "I think my code is ok, I'm giving up cause I have to work on my project."
   ]
  },
  {
   "cell_type": "code",
   "execution_count": null,
   "metadata": {
    "collapsed": true
   },
   "outputs": [],
   "source": []
  }
 ],
 "metadata": {
  "kernelspec": {
   "display_name": "Python 2",
   "language": "python",
   "name": "python2"
  },
  "language_info": {
   "codemirror_mode": {
    "name": "ipython",
    "version": 2
   },
   "file_extension": ".py",
   "mimetype": "text/x-python",
   "name": "python",
   "nbconvert_exporter": "python",
   "pygments_lexer": "ipython2",
   "version": "2.7.12"
  }
 },
 "nbformat": 4,
 "nbformat_minor": 0
}
