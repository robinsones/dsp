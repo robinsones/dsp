{
 "cells": [
  {
   "cell_type": "markdown",
   "metadata": {},
   "source": [
    "## Challenge Set 6\n",
    "Topic: Classification Errors Challenges  \n",
    "Date: 07/29/2016  \n",
    "Name: Kevin Cole "
   ]
  },
  {
   "cell_type": "code",
   "execution_count": 2,
   "metadata": {
    "collapsed": true
   },
   "outputs": [],
   "source": [
    "import pandas as pd\n",
    "%matplotlib inline\n",
    "from datetime import date\n",
    "import matplotlib.pyplot as plt\n",
    "import seaborn as sns\n",
    "import numpy as np\n",
    "from patsy import dmatrices\n",
    "import statsmodels.api as sm"
   ]
  },
  {
   "cell_type": "markdown",
   "metadata": {
    "collapsed": true
   },
   "source": [
    "## Challenge 1\n"
   ]
  },
  {
   "cell_type": "code",
   "execution_count": 28,
   "metadata": {
    "collapsed": false
   },
   "outputs": [],
   "source": [
    "df = pd.read_csv('../../../challenges_data/house-votes-84.data', header = None)"
   ]
  },
  {
   "cell_type": "code",
   "execution_count": 29,
   "metadata": {
    "collapsed": false
   },
   "outputs": [],
   "source": [
    "df = df.replace('y', 1)\n",
    "df = df.replace('n', 0)\n",
    "\n",
    "for col in df.columns[df.columns != 16]:\n",
    "    df[col] = df[col].replace('?', np.mean(df[col][df[col] != '?']))\n",
    "    \n",
    "df[16] = df[16].str.replace('.', '')\n",
    "df[16] = df[16].replace('republican', 0)\n",
    "df[16] = df[16].replace('democrat', 1)"
   ]
  },
  {
   "cell_type": "code",
   "execution_count": 30,
   "metadata": {
    "collapsed": false
   },
   "outputs": [
    {
     "data": {
      "text/html": [
       "<div>\n",
       "<table border=\"1\" class=\"dataframe\">\n",
       "  <thead>\n",
       "    <tr style=\"text-align: right;\">\n",
       "      <th></th>\n",
       "      <th>0</th>\n",
       "      <th>1</th>\n",
       "      <th>2</th>\n",
       "      <th>3</th>\n",
       "      <th>4</th>\n",
       "      <th>5</th>\n",
       "      <th>6</th>\n",
       "      <th>7</th>\n",
       "      <th>8</th>\n",
       "      <th>9</th>\n",
       "      <th>10</th>\n",
       "      <th>11</th>\n",
       "      <th>12</th>\n",
       "      <th>13</th>\n",
       "      <th>14</th>\n",
       "      <th>15</th>\n",
       "      <th>16</th>\n",
       "    </tr>\n",
       "  </thead>\n",
       "  <tbody>\n",
       "    <tr>\n",
       "      <th>0</th>\n",
       "      <td>0.0</td>\n",
       "      <td>1.0</td>\n",
       "      <td>0.0</td>\n",
       "      <td>1.0</td>\n",
       "      <td>1.0</td>\n",
       "      <td>1.0</td>\n",
       "      <td>0.0</td>\n",
       "      <td>0.0</td>\n",
       "      <td>0.0</td>\n",
       "      <td>1.0</td>\n",
       "      <td>0.362319</td>\n",
       "      <td>1.0</td>\n",
       "      <td>1.0</td>\n",
       "      <td>1.0</td>\n",
       "      <td>0.0</td>\n",
       "      <td>1.000000</td>\n",
       "      <td>0</td>\n",
       "    </tr>\n",
       "    <tr>\n",
       "      <th>1</th>\n",
       "      <td>0.0</td>\n",
       "      <td>1.0</td>\n",
       "      <td>0.0</td>\n",
       "      <td>1.0</td>\n",
       "      <td>1.0</td>\n",
       "      <td>1.0</td>\n",
       "      <td>0.0</td>\n",
       "      <td>0.0</td>\n",
       "      <td>0.0</td>\n",
       "      <td>0.0</td>\n",
       "      <td>0.000000</td>\n",
       "      <td>1.0</td>\n",
       "      <td>1.0</td>\n",
       "      <td>1.0</td>\n",
       "      <td>0.0</td>\n",
       "      <td>0.812689</td>\n",
       "      <td>0</td>\n",
       "    </tr>\n",
       "  </tbody>\n",
       "</table>\n",
       "</div>"
      ],
      "text/plain": [
       "    0    1    2    3    4    5    6    7    8    9         10   11   12   13  \\\n",
       "0  0.0  1.0  0.0  1.0  1.0  1.0  0.0  0.0  0.0  1.0  0.362319  1.0  1.0  1.0   \n",
       "1  0.0  1.0  0.0  1.0  1.0  1.0  0.0  0.0  0.0  0.0  0.000000  1.0  1.0  1.0   \n",
       "\n",
       "    14        15  16  \n",
       "0  0.0  1.000000   0  \n",
       "1  0.0  0.812689   0  "
      ]
     },
     "execution_count": 30,
     "metadata": {},
     "output_type": "execute_result"
    }
   ],
   "source": [
    "df.head(2)"
   ]
  },
  {
   "cell_type": "code",
   "execution_count": 31,
   "metadata": {
    "collapsed": true
   },
   "outputs": [],
   "source": [
    "from sklearn.cross_validation import train_test_split\n",
    "\n",
    "y, X = np.ravel(df[[16]]), df.drop([16], axis=1)\n",
    "X_train, X_test, y_train, y_test = train_test_split(X, y, test_size=0.25)"
   ]
  },
  {
   "cell_type": "code",
   "execution_count": 36,
   "metadata": {
    "collapsed": false
   },
   "outputs": [],
   "source": [
    "from sklearn.neighbors import KNeighborsClassifier\n",
    "from sklearn.metrics import accuracy_score\n",
    "from sklearn.metrics import precision_score\n",
    "from sklearn.metrics import recall_score\n",
    "from sklearn.metrics import f1_score\n",
    "\n",
    "acc_score = {}\n",
    "pre_score = {}\n",
    "rec_score = {}\n",
    "f_one_score = {}\n",
    "\n",
    "for i in range(1,21):\n",
    "    neigh = KNeighborsClassifier(n_neighbors=i)\n",
    "    neigh.fit(X_train, y_train)\n",
    "    acc_score[i] = accuracy_score(y_test, neigh.predict(X_test))\n",
    "    pre_score[i] = precision_score(y_test, neigh.predict(X_test))\n",
    "    rec_score[i] = recall_score(y_test, neigh.predict(X_test))\n",
    "    f_one_score[i] = f1_score(y_test, neigh.predict(X_test))"
   ]
  },
  {
   "cell_type": "code",
   "execution_count": 37,
   "metadata": {
    "collapsed": false
   },
   "outputs": [
    {
     "name": "stdout",
     "output_type": "stream",
     "text": [
      "3 0.908256880734\n",
      "4 0.966666666667\n",
      "3 0.89552238806\n",
      "3 0.923076923077\n"
     ]
    }
   ],
   "source": [
    "high = max(acc_score, key=lambda i: acc_score[i])\n",
    "print(high, acc_score[high])\n",
    "high = max(pre_score, key=lambda i: pre_score[i])\n",
    "print(high, pre_score[high])\n",
    "high = max(rec_score, key=lambda i: rec_score[i])\n",
    "print(high, rec_score[high])\n",
    "high = max(f_one_score, key=lambda i: f_one_score[i])\n",
    "print(high, f_one_score[high])"
   ]
  },
  {
   "cell_type": "markdown",
   "metadata": {},
   "source": [
    "## Challenge 2"
   ]
  },
  {
   "cell_type": "code",
   "execution_count": 39,
   "metadata": {
    "collapsed": true
   },
   "outputs": [],
   "source": [
    "from sklearn.linear_model import LogisticRegression\n",
    "log_model = LogisticRegression()\n",
    "\n",
    "from sklearn.naive_bayes import GaussianNB\n",
    "Gmodel=GaussianNB()\n",
    "\n",
    "from sklearn.svm import SVC\n",
    "svc_model = SVC()\n",
    "\n",
    "from sklearn.tree import DecisionTreeClassifier\n",
    "dtc_model = DecisionTreeClassifier()\n",
    "\n",
    "from sklearn.ensemble import RandomForestClassifier\n",
    "rfc_model = RandomForestClassifier()"
   ]
  },
  {
   "cell_type": "code",
   "execution_count": 52,
   "metadata": {
    "collapsed": false
   },
   "outputs": [
    {
     "name": "stdout",
     "output_type": "stream",
     "text": [
      "fpr 0.0333333333333\n",
      "tpr 0.947368421053\n",
      "AUC score: 0.95701754386\n"
     ]
    },
    {
     "data": {
      "text/plain": [
       "<matplotlib.text.Text at 0x11b9f28d0>"
      ]
     },
     "execution_count": 52,
     "metadata": {},
     "output_type": "execute_result"
    },
    {
     "data": {
      "image/png": "[encoded data removed]",
      "text/plain": [
       "<matplotlib.figure.Figure at 0x11b9c9550>"
      ]
     },
     "metadata": {},
     "output_type": "display_data"
    }
   ],
   "source": [
    "from sklearn import metrics\n",
    "\n",
    "xtrain, xtest, ytrain, ytest = train_test_split(X, y, test_size=0.2, random_state=1234)\n",
    "ytrain=np.ravel(ytrain)\n",
    "\n",
    "clf = log_model.fit(xtrain, ytrain)\n",
    "\n",
    "print ('fpr', metrics.roc_curve(ytest, clf.predict(xtest))[0][1])\n",
    "print ('tpr', metrics.roc_curve(ytest, clf.predict(xtest))[1][1])\n",
    "    \n",
    "roc=metrics.roc_curve(ytest,clf.predict(xtest))\n",
    "auc=metrics.roc_auc_score(ytest,clf.predict(xtest))\n",
    "print('AUC score:', auc)\n",
    "plt.figure()\n",
    "# Plotting our Baseline! \n",
    "plt.plot([0,1],[0,1])\n",
    "plt.plot(roc[0],roc[1])\n",
    "plt.xlabel('FPR')\n",
    "plt.ylabel('TPR')"
   ]
  },
  {
   "cell_type": "code",
   "execution_count": 54,
   "metadata": {
    "collapsed": false
   },
   "outputs": [
    {
     "name": "stdout",
     "output_type": "stream",
     "text": [
      "fpr 0.1\n",
      "tpr 0.929824561404\n",
      "AUC score: 0.914912280702\n"
     ]
    },
    {
     "data": {
      "text/plain": [
       "<matplotlib.text.Text at 0x11bfee9e8>"
      ]
     },
     "execution_count": 54,
     "metadata": {},
     "output_type": "execute_result"
    },
    {
     "data": {
      "image/png": "[encoded data removed]",
      "text/plain": [
       "<matplotlib.figure.Figure at 0x11bfe0128>"
      ]
     },
     "metadata": {},
     "output_type": "display_data"
    }
   ],
   "source": [
    "from sklearn import metrics\n",
    "\n",
    "xtrain, xtest, ytrain, ytest = train_test_split(X, y, test_size=0.2, random_state=1234)\n",
    "ytrain=np.ravel(ytrain)\n",
    "\n",
    "clf = Gmodel.fit(xtrain, ytrain)\n",
    "\n",
    "print ('fpr', metrics.roc_curve(ytest, clf.predict(xtest))[0][1])\n",
    "print ('tpr', metrics.roc_curve(ytest, clf.predict(xtest))[1][1])\n",
    "    \n",
    "roc=metrics.roc_curve(ytest,clf.predict(xtest))\n",
    "auc=metrics.roc_auc_score(ytest,clf.predict(xtest))\n",
    "print('AUC score:', auc)\n",
    "plt.figure()\n",
    "# Plotting our Baseline! \n",
    "plt.plot([0,1],[0,1])\n",
    "plt.plot(roc[0],roc[1])\n",
    "plt.xlabel('FPR')\n",
    "plt.ylabel('TPR')"
   ]
  },
  {
   "cell_type": "code",
   "execution_count": 55,
   "metadata": {
    "collapsed": false
   },
   "outputs": [
    {
     "name": "stdout",
     "output_type": "stream",
     "text": [
      "fpr 0.0333333333333\n",
      "tpr 0.929824561404\n",
      "AUC score: 0.948245614035\n"
     ]
    },
    {
     "data": {
      "text/plain": [
       "<matplotlib.text.Text at 0x11c056710>"
      ]
     },
     "execution_count": 55,
     "metadata": {},
     "output_type": "execute_result"
    },
    {
     "data": {
      "image/png": "[encoded data removed]",
      "text/plain": [
       "<matplotlib.figure.Figure at 0x11bfe05f8>"
      ]
     },
     "metadata": {},
     "output_type": "display_data"
    }
   ],
   "source": [
    "from sklearn import metrics\n",
    "\n",
    "xtrain, xtest, ytrain, ytest = train_test_split(X, y, test_size=0.2, random_state=1234)\n",
    "ytrain=np.ravel(ytrain)\n",
    "\n",
    "clf = svc_model.fit(xtrain, ytrain)\n",
    "\n",
    "print ('fpr', metrics.roc_curve(ytest, clf.predict(xtest))[0][1])\n",
    "print ('tpr', metrics.roc_curve(ytest, clf.predict(xtest))[1][1])\n",
    "    \n",
    "roc=metrics.roc_curve(ytest,clf.predict(xtest))\n",
    "auc=metrics.roc_auc_score(ytest,clf.predict(xtest))\n",
    "print('AUC score:', auc)\n",
    "plt.figure()\n",
    "# Plotting our Baseline! \n",
    "plt.plot([0,1],[0,1])\n",
    "plt.plot(roc[0],roc[1])\n",
    "plt.xlabel('FPR')\n",
    "plt.ylabel('TPR')"
   ]
  },
  {
   "cell_type": "code",
   "execution_count": 56,
   "metadata": {
    "collapsed": false
   },
   "outputs": [
    {
     "name": "stdout",
     "output_type": "stream",
     "text": [
      "fpr 0.0333333333333\n",
      "tpr 0.912280701754\n",
      "AUC score: 0.939473684211\n"
     ]
    },
    {
     "data": {
      "text/plain": [
       "<matplotlib.text.Text at 0x11c167f60>"
      ]
     },
     "execution_count": 56,
     "metadata": {},
     "output_type": "execute_result"
    },
    {
     "data": {
      "image/png": "[encoded data removed]",
      "text/plain": [
       "<matplotlib.figure.Figure at 0x11bfee1d0>"
      ]
     },
     "metadata": {},
     "output_type": "display_data"
    }
   ],
   "source": [
    "from sklearn import metrics\n",
    "\n",
    "xtrain, xtest, ytrain, ytest = train_test_split(X, y, test_size=0.2, random_state=1234)\n",
    "ytrain=np.ravel(ytrain)\n",
    "\n",
    "clf = dtc_model.fit(xtrain, ytrain)\n",
    "\n",
    "print ('fpr', metrics.roc_curve(ytest, clf.predict(xtest))[0][1])\n",
    "print ('tpr', metrics.roc_curve(ytest, clf.predict(xtest))[1][1])\n",
    "    \n",
    "roc=metrics.roc_curve(ytest,clf.predict(xtest))\n",
    "auc=metrics.roc_auc_score(ytest,clf.predict(xtest))\n",
    "print('AUC score:', auc)\n",
    "plt.figure()\n",
    "# Plotting our Baseline! \n",
    "plt.plot([0,1],[0,1])\n",
    "plt.plot(roc[0],roc[1])\n",
    "plt.xlabel('FPR')\n",
    "plt.ylabel('TPR')"
   ]
  },
  {
   "cell_type": "code",
   "execution_count": 57,
   "metadata": {
    "collapsed": false
   },
   "outputs": [
    {
     "name": "stdout",
     "output_type": "stream",
     "text": [
      "fpr 0.0333333333333\n",
      "tpr 0.929824561404\n",
      "AUC score: 0.948245614035\n"
     ]
    },
    {
     "data": {
      "text/plain": [
       "<matplotlib.text.Text at 0x11c16db00>"
      ]
     },
     "execution_count": 57,
     "metadata": {},
     "output_type": "execute_result"
    },
    {
     "data": {
      "image/png": "[encoded data removed]",
      "text/plain": [
       "<matplotlib.figure.Figure at 0x11c268748>"
      ]
     },
     "metadata": {},
     "output_type": "display_data"
    }
   ],
   "source": [
    "from sklearn import metrics\n",
    "\n",
    "xtrain, xtest, ytrain, ytest = train_test_split(X, y, test_size=0.2, random_state=1234)\n",
    "ytrain=np.ravel(ytrain)\n",
    "\n",
    "clf = rfc_model.fit(xtrain, ytrain)\n",
    "\n",
    "print ('fpr', metrics.roc_curve(ytest, clf.predict(xtest))[0][1])\n",
    "print ('tpr', metrics.roc_curve(ytest, clf.predict(xtest))[1][1])\n",
    "    \n",
    "roc=metrics.roc_curve(ytest,clf.predict(xtest))\n",
    "auc=metrics.roc_auc_score(ytest,clf.predict(xtest))\n",
    "print('AUC score:', auc)\n",
    "plt.figure()\n",
    "# Plotting our Baseline! \n",
    "plt.plot([0,1],[0,1])\n",
    "plt.plot(roc[0],roc[1])\n",
    "plt.xlabel('FPR')\n",
    "plt.ylabel('TPR')"
   ]
  },
  {
   "cell_type": "markdown",
   "metadata": {},
   "source": [
    "## Challenge 3"
   ]
  },
  {
   "cell_type": "code",
   "execution_count": 61,
   "metadata": {
    "collapsed": false
   },
   "outputs": [
    {
     "name": "stdout",
     "output_type": "stream",
     "text": [
      "0.969847731042\n",
      "0.965098748681\n",
      "0.967418546366\n"
     ]
    }
   ],
   "source": [
    "from sklearn.cross_validation import cross_val_score\n",
    "\n",
    "gaus_model = GaussianNB()\n",
    "gaus_model.fit(X_train, y_train)\n",
    "print(np.mean(cross_val_score(gaus_model, X_train, y_train, scoring = 'precision')))\n",
    "print(np.mean(cross_val_score(gaus_model, X_train, y_train, scoring = 'recall')))\n",
    "print(np.mean(cross_val_score(gaus_model, X_train, y_train, scoring = 'f1')))"
   ]
  },
  {
   "cell_type": "code",
   "execution_count": 62,
   "metadata": {
    "collapsed": false
   },
   "outputs": [
    {
     "name": "stdout",
     "output_type": "stream",
     "text": [
      "0.979557703905\n",
      "0.965098748681\n",
      "0.972162665737\n"
     ]
    }
   ],
   "source": [
    "svc_model = SVC()\n",
    "svc_model.fit(X_train, y_train)\n",
    "print(np.mean(cross_val_score(svc_model, X_train, y_train, scoring = 'precision')))\n",
    "print(np.mean(cross_val_score(svc_model, X_train, y_train, scoring = 'recall')))\n",
    "print(np.mean(cross_val_score(svc_model, X_train, y_train, scoring = 'f1')))"
   ]
  },
  {
   "cell_type": "code",
   "execution_count": 63,
   "metadata": {
    "collapsed": false
   },
   "outputs": [
    {
     "name": "stdout",
     "output_type": "stream",
     "text": [
      "0.969909502262\n",
      "0.965023368008\n",
      "0.974668654312\n"
     ]
    }
   ],
   "source": [
    "rfc_model = RandomForestClassifier()\n",
    "rfc_model.fit(X_train, y_train)\n",
    "print(np.mean(cross_val_score(rfc_model, X_train, y_train, scoring = 'precision')))\n",
    "print(np.mean(cross_val_score(rfc_model, X_train, y_train, scoring = 'recall')))\n",
    "print(np.mean(cross_val_score(rfc_model, X_train, y_train, scoring = 'f1')))"
   ]
  },
  {
   "cell_type": "markdown",
   "metadata": {},
   "source": [
    "## Challenge 4"
   ]
  },
  {
   "cell_type": "code",
   "execution_count": 64,
   "metadata": {
    "collapsed": true
   },
   "outputs": [],
   "source": [
    "movies = pd.read_csv('~/ds/metis/nyc16_ds8/challenges/challenges_data/2013_movies.csv')"
   ]
  },
  {
   "cell_type": "code",
   "execution_count": 65,
   "metadata": {
    "collapsed": true
   },
   "outputs": [],
   "source": [
    "#get rid of NaNs\n",
    "\n",
    "movies = movies.dropna()\n",
    "\n",
    "y, X = np.ravel(movies[['Rating']]), movies.drop(['Rating', 'Title', 'Director', \"ReleaseDate\"], axis=1)\n",
    "X_train, X_test, y_train, y_test = train_test_split(X, y, test_size=0.25)"
   ]
  },
  {
   "cell_type": "code",
   "execution_count": 68,
   "metadata": {
    "collapsed": false
   },
   "outputs": [
    {
     "name": "stdout",
     "output_type": "stream",
     "text": [
      "0.395454545455\n",
      "0.409090909091\n"
     ]
    },
    {
     "name": "stderr",
     "output_type": "stream",
     "text": [
      "/Users/colekev/anaconda3/lib/python3.5/site-packages/sklearn/metrics/classification.py:1203: DeprecationWarning: The default `weighted` averaging is deprecated, and from version 0.18, use of precision, recall or F-score with multiclass or multilabel data or pos_label=None will result in an exception. Please set an explicit value for `average`, one of (None, 'micro', 'macro', 'weighted', 'samples'). In cross validation use, for instance, scoring=\"f1_weighted\" instead of scoring=\"f1\".\n",
      "  sample_weight=sample_weight)\n",
      "/Users/colekev/anaconda3/lib/python3.5/site-packages/sklearn/metrics/classification.py:1074: UndefinedMetricWarning: Precision is ill-defined and being set to 0.0 in labels with no predicted samples.\n",
      "  'precision', 'predicted', average, warn_for)\n",
      "/Users/colekev/anaconda3/lib/python3.5/site-packages/sklearn/metrics/classification.py:1304: DeprecationWarning: The default `weighted` averaging is deprecated, and from version 0.18, use of precision, recall or F-score with multiclass or multilabel data or pos_label=None will result in an exception. Please set an explicit value for `average`, one of (None, 'micro', 'macro', 'weighted', 'samples'). In cross validation use, for instance, scoring=\"f1_weighted\" instead of scoring=\"f1\".\n",
      "  sample_weight=sample_weight)\n"
     ]
    }
   ],
   "source": [
    "log_model = LogisticRegression()\n",
    "log_model.fit(X_train, y_train)\n",
    "pre_acc = precision_score(y_test, log_model.predict(X_test))\n",
    "rec_acc = recall_score(y_test, log_model.predict(X_test))\n",
    "\n",
    "print(pre_acc)\n",
    "print(rec_acc)"
   ]
  },
  {
   "cell_type": "markdown",
   "metadata": {},
   "source": [
    "## Challenge 5"
   ]
  },
  {
   "cell_type": "code",
   "execution_count": 69,
   "metadata": {
    "collapsed": true
   },
   "outputs": [],
   "source": [
    "hsd = pd.read_csv('../../../challenges_data/haberman.data', \n",
    "                  names=['age', 'year', 'pos_nodes', 'survival'])"
   ]
  },
  {
   "cell_type": "code",
   "execution_count": 73,
   "metadata": {
    "collapsed": false
   },
   "outputs": [],
   "source": [
    "hsd['survival'] = hsd.survival.replace(2, 0)"
   ]
  },
  {
   "cell_type": "code",
   "execution_count": 74,
   "metadata": {
    "collapsed": false
   },
   "outputs": [
    {
     "name": "stdout",
     "output_type": "stream",
     "text": [
      "fpr 0.904761904762\n",
      "tpr 0.951219512195\n",
      "AUC score: 0.523228803717\n"
     ]
    },
    {
     "data": {
      "text/plain": [
       "<matplotlib.text.Text at 0x11c4f1978>"
      ]
     },
     "execution_count": 74,
     "metadata": {},
     "output_type": "execute_result"
    },
    {
     "data": {
      "image/png": "[encoded data removed]",
      "text/plain": [
       "<matplotlib.figure.Figure at 0x11c268588>"
      ]
     },
     "metadata": {},
     "output_type": "display_data"
    }
   ],
   "source": [
    "y, X = np.ravel(hsd[['survival']]), hsd.drop(['survival'], axis=1)\n",
    "\n",
    "xtrain, xtest, ytrain, ytest = train_test_split(X, y, test_size=0.2, random_state=1234)\n",
    "ytrain=np.ravel(ytrain)\n",
    "\n",
    "log_model = LogisticRegression()\n",
    "\n",
    "clf = log_model.fit(xtrain, ytrain)\n",
    "\n",
    "print ('fpr', metrics.roc_curve(ytest, clf.predict(xtest))[0][1])\n",
    "print ('tpr', metrics.roc_curve(ytest, clf.predict(xtest))[1][1])\n",
    "    \n",
    "roc=metrics.roc_curve(ytest,clf.predict(xtest))\n",
    "auc=metrics.roc_auc_score(ytest,clf.predict(xtest))\n",
    "print('AUC score:', auc)\n",
    "plt.figure()\n",
    "# Plotting our Baseline! \n",
    "plt.plot([0,1],[0,1])\n",
    "plt.plot(roc[0],roc[1])\n",
    "plt.xlabel('FPR')\n",
    "plt.ylabel('TPR')"
   ]
  }
 ],
 "metadata": {
  "kernelspec": {
   "display_name": "Python 3",
   "language": "python",
   "name": "python3"
  },
  "language_info": {
   "codemirror_mode": {
    "name": "ipython",
    "version": 3
   },
   "file_extension": ".py",
   "mimetype": "text/x-python",
   "name": "python",
   "nbconvert_exporter": "python",
   "pygments_lexer": "ipython3",
   "version": "3.5.1"
  }
 },
 "nbformat": 4,
 "nbformat_minor": 0
}
