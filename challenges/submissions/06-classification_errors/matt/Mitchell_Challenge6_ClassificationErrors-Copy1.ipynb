{
 "cells": [
  {
   "cell_type": "markdown",
   "metadata": {},
   "source": [
    "Challenge Set 6\n",
    "Topic:        Classification Errors\n",
    "Date:         08/01/2016\n",
    "Name:         Matthew Mitchell\n",
    "Worked with:  N/A"
   ]
  },
  {
   "cell_type": "markdown",
   "metadata": {},
   "source": [
    "##Challenge 1\n",
    "\n",
    "For the house representatives data set, calculate the accuracy, precision, recall and f1 scores of each classifier you built (on the test set).\n"
   ]
  },
  {
   "cell_type": "code",
   "execution_count": 13,
   "metadata": {
    "collapsed": false
   },
   "outputs": [],
   "source": [
    "import pandas as pd\n",
    "import numpy as np"
   ]
  },
  {
   "cell_type": "code",
   "execution_count": 25,
   "metadata": {
    "collapsed": false
   },
   "outputs": [
    {
     "data": {
      "text/html": [
       "<div>\n",
       "<table border=\"1\" class=\"dataframe\">\n",
       "  <thead>\n",
       "    <tr style=\"text-align: right;\">\n",
       "      <th></th>\n",
       "      <th>0</th>\n",
       "      <th>1</th>\n",
       "      <th>2</th>\n",
       "      <th>3</th>\n",
       "      <th>4</th>\n",
       "      <th>5</th>\n",
       "      <th>6</th>\n",
       "      <th>7</th>\n",
       "      <th>8</th>\n",
       "      <th>9</th>\n",
       "      <th>10</th>\n",
       "      <th>11</th>\n",
       "      <th>12</th>\n",
       "      <th>13</th>\n",
       "      <th>14</th>\n",
       "      <th>15</th>\n",
       "      <th>16</th>\n",
       "    </tr>\n",
       "  </thead>\n",
       "  <tbody>\n",
       "    <tr>\n",
       "      <th>0</th>\n",
       "      <td>0</td>\n",
       "      <td>0.00000</td>\n",
       "      <td>1</td>\n",
       "      <td>0</td>\n",
       "      <td>1.000000</td>\n",
       "      <td>1.000000</td>\n",
       "      <td>1</td>\n",
       "      <td>0</td>\n",
       "      <td>0</td>\n",
       "      <td>0</td>\n",
       "      <td>1</td>\n",
       "      <td>0.362319</td>\n",
       "      <td>1.000000</td>\n",
       "      <td>1</td>\n",
       "      <td>1</td>\n",
       "      <td>0</td>\n",
       "      <td>1.000000</td>\n",
       "    </tr>\n",
       "    <tr>\n",
       "      <th>1</th>\n",
       "      <td>0</td>\n",
       "      <td>0.00000</td>\n",
       "      <td>1</td>\n",
       "      <td>0</td>\n",
       "      <td>1.000000</td>\n",
       "      <td>1.000000</td>\n",
       "      <td>1</td>\n",
       "      <td>0</td>\n",
       "      <td>0</td>\n",
       "      <td>0</td>\n",
       "      <td>0</td>\n",
       "      <td>0.000000</td>\n",
       "      <td>1.000000</td>\n",
       "      <td>1</td>\n",
       "      <td>1</td>\n",
       "      <td>0</td>\n",
       "      <td>0.812689</td>\n",
       "    </tr>\n",
       "    <tr>\n",
       "      <th>2</th>\n",
       "      <td>1</td>\n",
       "      <td>0.44208</td>\n",
       "      <td>1</td>\n",
       "      <td>1</td>\n",
       "      <td>0.417453</td>\n",
       "      <td>1.000000</td>\n",
       "      <td>1</td>\n",
       "      <td>0</td>\n",
       "      <td>0</td>\n",
       "      <td>0</td>\n",
       "      <td>0</td>\n",
       "      <td>1.000000</td>\n",
       "      <td>0.000000</td>\n",
       "      <td>1</td>\n",
       "      <td>1</td>\n",
       "      <td>0</td>\n",
       "      <td>0.000000</td>\n",
       "    </tr>\n",
       "    <tr>\n",
       "      <th>3</th>\n",
       "      <td>1</td>\n",
       "      <td>0.00000</td>\n",
       "      <td>1</td>\n",
       "      <td>1</td>\n",
       "      <td>0.000000</td>\n",
       "      <td>0.504762</td>\n",
       "      <td>1</td>\n",
       "      <td>0</td>\n",
       "      <td>0</td>\n",
       "      <td>0</td>\n",
       "      <td>0</td>\n",
       "      <td>1.000000</td>\n",
       "      <td>0.000000</td>\n",
       "      <td>1</td>\n",
       "      <td>0</td>\n",
       "      <td>0</td>\n",
       "      <td>1.000000</td>\n",
       "    </tr>\n",
       "    <tr>\n",
       "      <th>4</th>\n",
       "      <td>1</td>\n",
       "      <td>1.00000</td>\n",
       "      <td>1</td>\n",
       "      <td>1</td>\n",
       "      <td>0.000000</td>\n",
       "      <td>1.000000</td>\n",
       "      <td>1</td>\n",
       "      <td>0</td>\n",
       "      <td>0</td>\n",
       "      <td>0</td>\n",
       "      <td>0</td>\n",
       "      <td>1.000000</td>\n",
       "      <td>0.423267</td>\n",
       "      <td>1</td>\n",
       "      <td>1</td>\n",
       "      <td>1</td>\n",
       "      <td>1.000000</td>\n",
       "    </tr>\n",
       "  </tbody>\n",
       "</table>\n",
       "</div>"
      ],
      "text/plain": [
       "   0        1   2   3         4         5   6   7   8   9   10        11  \\\n",
       "0   0  0.00000   1   0  1.000000  1.000000   1   0   0   0   1  0.362319   \n",
       "1   0  0.00000   1   0  1.000000  1.000000   1   0   0   0   0  0.000000   \n",
       "2   1  0.44208   1   1  0.417453  1.000000   1   0   0   0   0  1.000000   \n",
       "3   1  0.00000   1   1  0.000000  0.504762   1   0   0   0   0  1.000000   \n",
       "4   1  1.00000   1   1  0.000000  1.000000   1   0   0   0   0  1.000000   \n",
       "\n",
       "         12  13  14  15        16  \n",
       "0  1.000000   1   1   0  1.000000  \n",
       "1  1.000000   1   1   0  0.812689  \n",
       "2  0.000000   1   1   0  0.000000  \n",
       "3  0.000000   1   0   0  1.000000  \n",
       "4  0.423267   1   1   1  1.000000  "
      ]
     },
     "execution_count": 25,
     "metadata": {},
     "output_type": "execute_result"
    }
   ],
   "source": [
    "house_df=pd.read_csv('house-votes-84.data.txt', header=None)\n",
    "house_df=house_df.replace(to_replace='y', value=1)\n",
    "house_df=house_df.replace(to_replace='n', value=0)\n",
    "house_df=house_df.replace(to_replace='?', value=np.nan)\n",
    "house_df=house_df.fillna(house_df.mean())\n",
    "house_df=house_df.replace(to_replace='democrat', value=1)\n",
    "house_df=house_df.replace(to_replace='republican', value=0)\n",
    "house_df.head()"
   ]
  },
  {
   "cell_type": "code",
   "execution_count": 27,
   "metadata": {
    "collapsed": true
   },
   "outputs": [],
   "source": [
    "from sklearn.metrics import *\n",
    "from sklearn.cross_validation import train_test_split\n",
    "from sklearn.neighbors import KNeighborsClassifier\n",
    "from sklearn.linear_model import LogisticRegression\n",
    "from sklearn.naive_bayes import GaussianNB\n",
    "from sklearn.svm import SVC\n",
    "from sklearn.tree import DecisionTreeClassifier\n",
    "from sklearn.ensemble import RandomForestClassifier"
   ]
  },
  {
   "cell_type": "code",
   "execution_count": 28,
   "metadata": {
    "collapsed": false
   },
   "outputs": [
    {
     "name": "stdout",
     "output_type": "stream",
     "text": [
      "KNN \n",
      "\n",
      "Recall: 0.922077922078 \n",
      "\n",
      "Precision: 0.934210526316 \n",
      "\n",
      "F1: 0.928104575163 \n",
      "\n",
      "\n",
      "\n",
      "LogReg \n",
      "\n",
      "Recall: 0.974025974026 \n",
      "\n",
      "Precision: 0.925925925926 \n",
      "\n",
      "F1: 0.949367088608 \n",
      "\n",
      "\n",
      "\n",
      "Gaussian NB \n",
      "\n",
      "Recall: 0.987012987013 \n",
      "\n",
      "Precision: 0.915662650602 \n",
      "\n",
      "F1: 0.95 \n",
      "\n",
      "\n",
      "\n",
      "DecisionTree \n",
      "\n",
      "Recall: 0.961038961039 \n",
      "\n",
      "Precision: 0.948717948718 \n",
      "\n",
      "F1: 0.954838709677 \n",
      "\n",
      "\n",
      "\n",
      "RandomForest \n",
      "\n",
      "Recall: 0.974025974026 \n",
      "\n",
      "Precision: 0.949367088608 \n",
      "\n",
      "F1: 0.961538461538 \n",
      "\n",
      "\n",
      "\n"
     ]
    }
   ],
   "source": [
    "#Split\n",
    "X_train, X_test, y_train, y_test = train_test_split(house_df.ix[:,1:], house_df.ix[:,0], test_size=.30, random_state=4444)\n",
    "\n",
    "#KNN, K=6\n",
    "neigh6=KNeighborsClassifier(n_neighbors=6)\n",
    "neigh6.fit(X_train, y_train)\n",
    "y_pred = neigh6.predict(X_test)\n",
    "print \"KNN \\n\"\n",
    "print \"Recall:\", recall_score(y_test, y_pred), \"\\n\"\n",
    "print \"Precision:\", precision_score(y_test, y_pred), \"\\n\"\n",
    "print \"F1:\", f1_score(y_test, y_pred), \"\\n\\n\\n\"\n",
    "\n",
    "#LogReg\n",
    "logreg=LogisticRegression()\n",
    "logreg.fit(X_train, y_train)\n",
    "y_pred = logreg.predict(X_test)\n",
    "print \"LogReg \\n\"\n",
    "print \"Recall:\", recall_score(y_test, y_pred), \"\\n\"\n",
    "print \"Precision:\", precision_score(y_test, y_pred), \"\\n\"\n",
    "print \"F1:\", f1_score(y_test, y_pred), \"\\n\\n\\n\"\n",
    "\n",
    "#Gaussian NB\n",
    "gaussianNB=GaussianNB()\n",
    "gaussianNB.fit(X_train, y_train)\n",
    "y_pred = gaussianNB.predict(X_test)\n",
    "print \"Gaussian NB \\n\"\n",
    "print \"Recall:\", recall_score(y_test, y_pred), \"\\n\"\n",
    "print \"Precision:\", precision_score(y_test, y_pred), \"\\n\"\n",
    "print \"F1:\", f1_score(y_test, y_pred), \"\\n\\n\\n\"\n",
    "\n",
    "#DecisionTree\n",
    "decisionTree=DecisionTreeClassifier()\n",
    "decisionTree.fit(X_train, y_train)\n",
    "y_pred = decisionTree.predict(X_test)\n",
    "print \"DecisionTree \\n\"\n",
    "print \"Recall:\", recall_score(y_test, y_pred), \"\\n\"\n",
    "print \"Precision:\", precision_score(y_test, y_pred), \"\\n\"\n",
    "print \"F1:\", f1_score(y_test, y_pred), \"\\n\\n\\n\"\n",
    "\n",
    "#RandomForest\n",
    "RandomForest=RandomForestClassifier()\n",
    "RandomForest.fit(X_train, y_train)\n",
    "y_pred = RandomForest.predict(X_test)\n",
    "print \"RandomForest \\n\"\n",
    "print \"Recall:\", recall_score(y_test, y_pred), \"\\n\"\n",
    "print \"Precision:\", precision_score(y_test, y_pred), \"\\n\"\n",
    "print \"F1:\", f1_score(y_test, y_pred), \"\\n\\n\\n\"\n"
   ]
  },
  {
   "cell_type": "markdown",
   "metadata": {},
   "source": [
    "\n",
    "##Challenge 2\n",
    "\n",
    "For each, draw the ROC curve and calculate the AUC.\n",
    "\n"
   ]
  },
  {
   "cell_type": "code",
   "execution_count": null,
   "metadata": {
    "collapsed": true
   },
   "outputs": [],
   "source": []
  },
  {
   "cell_type": "markdown",
   "metadata": {},
   "source": [
    "\n",
    "Challenge 3\n",
    "\n",
    "Calculate the same metrics you did in challenge 1, but this time in a cross validation scheme with the cross_val_score function (like in Challenge 9).\n",
    "\n",
    "Challenge 4\n",
    "\n",
    "For your movie classifiers, calculate the precision and recall for each class.\n",
    "\n",
    "Challenge 5\n",
    "\n",
    "Draw the ROC curve (and calculate AUC) for the logistic regression classifier from challenge 12."
   ]
  },
  {
   "cell_type": "code",
   "execution_count": 24,
   "metadata": {
    "collapsed": false
   },
   "outputs": [
    {
     "data": {
      "text/plain": [
       "131"
      ]
     },
     "execution_count": 24,
     "metadata": {},
     "output_type": "execute_result"
    }
   ],
   "source": [
    "len(y_pred)"
   ]
  },
  {
   "cell_type": "code",
   "execution_count": 23,
   "metadata": {
    "collapsed": false
   },
   "outputs": [
    {
     "data": {
      "text/plain": [
       "131"
      ]
     },
     "execution_count": 23,
     "metadata": {},
     "output_type": "execute_result"
    }
   ],
   "source": [
    "len(y_test)"
   ]
  },
  {
   "cell_type": "code",
   "execution_count": null,
   "metadata": {
    "collapsed": true
   },
   "outputs": [],
   "source": []
  }
 ],
 "metadata": {
  "kernelspec": {
   "display_name": "Python 2",
   "language": "python",
   "name": "python2"
  },
  "language_info": {
   "codemirror_mode": {
    "name": "ipython",
    "version": 2
   },
   "file_extension": ".py",
   "mimetype": "text/x-python",
   "name": "python",
   "nbconvert_exporter": "python",
   "pygments_lexer": "ipython2",
   "version": "2.7.12"
  }
 },
 "nbformat": 4,
 "nbformat_minor": 0
}
