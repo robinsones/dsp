{
 "cells": [
  {
   "cell_type": "markdown",
   "metadata": {
    "run_control": {
     "marked": true
    }
   },
   "source": [
    "# Challenge 6: Classification Error Metric Challenges\n",
    "\n",
    "| Title        | Answer                     |\n",
    "| :---------- | :------------------------ |\n",
    "| Topic:       | Classification Errors | \n",
    "| Date:        | 2016/07/31                 |\n",
    "| Name:        | Michelle L. Gill           |\n",
    "| Worked with: | None                       | \n",
    "\n",
    "\n"
   ]
  },
  {
   "cell_type": "code",
   "execution_count": 1,
   "metadata": {
    "ExecuteTime": {
     "end_time": "2016-08-02T05:30:37.402198",
     "start_time": "2016-08-02T05:30:35.215228"
    },
    "collapsed": false,
    "run_control": {
     "marked": true
    }
   },
   "outputs": [],
   "source": [
    "import pandas as pd\n",
    "import numpy as np\n",
    "import cPickle as pickle\n",
    "\n",
    "from sklearn.metrics import accuracy_score, f1_score, precision_score, recall_score \n",
    "from sklearn.metrics import auc, roc_curve, roc_auc_score, confusion_matrix\n",
    "from sklearn.cross_validation import cross_val_score\n",
    "from sklearn.preprocessing import Normalizer\n",
    "from sklearn.cross_validation import train_test_split\n",
    "\n",
    "import matplotlib.pyplot as plt\n",
    "import seaborn as sns\n",
    "\n",
    "sns.set_context('talk')\n",
    "sns.set_style('white')\n",
    "sns.set_palette('dark')\n",
    "\n",
    "%matplotlib inline"
   ]
  },
  {
   "cell_type": "markdown",
   "metadata": {
    "run_control": {
     "marked": true
    }
   },
   "source": [
    "## Question 1\n",
    "\n",
    "For the house representatives data set, calculate the accuracy, precision, recall and f1 scores of each classifier you built (on the test set)."
   ]
  },
  {
   "cell_type": "code",
   "execution_count": 2,
   "metadata": {
    "ExecuteTime": {
     "end_time": "2016-08-02T05:30:37.605736",
     "start_time": "2016-08-02T05:30:37.407846"
    },
    "collapsed": false,
    "run_control": {
     "marked": true
    }
   },
   "outputs": [],
   "source": [
    "votes = pd.read_pickle('../../05-classification/michelle/votes.pkl')  \n",
    "knn   = pd.read_pickle('../../05-classification/michelle/knn_house.mdl')\n",
    "log   = pd.read_pickle('../../05-classification/michelle/log_house.mdl')\n",
    "tree  = pd.read_pickle('../../05-classification/michelle/decisiontreeclassifier_house.mdl')\n",
    "nb    = pd.read_pickle('../../05-classification/michelle/gaussiannb_house.mdl')\n",
    "rf    = pd.read_pickle('../../05-classification/michelle/randomforestclassifier_house.mdl')\n",
    "svc   = pd.read_pickle('../../05-classification/michelle/svc_house.mdl')"
   ]
  },
  {
   "cell_type": "code",
   "execution_count": 3,
   "metadata": {
    "ExecuteTime": {
     "end_time": "2016-08-02T05:30:37.747179",
     "start_time": "2016-08-02T05:30:37.609267"
    },
    "collapsed": false
   },
   "outputs": [],
   "source": [
    "def recode(arr):\n",
    "    return [1 if x=='republican' else 0 for x in arr]\n",
    "\n",
    "train, test = train_test_split(votes, test_size=0.3, random_state=4444)\n",
    "vote_cols = ['v{}'.format(x) for x in range(1,17)]\n",
    "\n",
    "merit_list = list()\n",
    "\n",
    "for model,name in zip([log, knn, tree, nb, rf[0], svc],\n",
    "                      ['Logistic','KNN','DecisionTree',\n",
    "                       'NaiveBayes','RandomForest',\n",
    "                       'SVM']):\n",
    "\n",
    "    Ytest = test['party'].astype(np.object)\n",
    "    Ypred = model.predict(test[vote_cols]).astype(np.object)\n",
    "    Ytest = recode(Ytest)\n",
    "    Ypred = recode(Ypred)\n",
    "    \n",
    "    accuracy = accuracy_score(Ytest, Ypred)\n",
    "    precision = precision_score(Ytest, Ypred)\n",
    "    recall = recall_score(Ytest, Ypred)\n",
    "    f1 = f1_score(Ytest, Ypred)\n",
    "    auc = roc_auc_score(Ytest, Ypred)\n",
    "\n",
    "    xdata, ydata, _ = roc_curve(Ytest, Ypred)\n",
    "\n",
    "    df = pd.Series({'data':name, \n",
    "                    'f1': f1, \n",
    "                    'accuracy':accuracy, 'auc':auc,\n",
    "                    'roc_x': xdata, 'roc_y': ydata})\n",
    "    \n",
    "    merit_list.append(df)"
   ]
  },
  {
   "cell_type": "code",
   "execution_count": 4,
   "metadata": {
    "ExecuteTime": {
     "end_time": "2016-08-02T05:30:37.784679",
     "start_time": "2016-08-02T05:30:37.749200"
    },
    "collapsed": false
   },
   "outputs": [
    {
     "data": {
      "text/html": [
       "<div>\n",
       "<table border=\"1\" class=\"dataframe\">\n",
       "  <thead>\n",
       "    <tr style=\"text-align: right;\">\n",
       "      <th></th>\n",
       "      <th>data</th>\n",
       "      <th>f1</th>\n",
       "      <th>accuracy</th>\n",
       "      <th>auc</th>\n",
       "    </tr>\n",
       "  </thead>\n",
       "  <tbody>\n",
       "    <tr>\n",
       "      <th>0</th>\n",
       "      <td>Logistic</td>\n",
       "      <td>0.933333</td>\n",
       "      <td>0.946565</td>\n",
       "      <td>0.940717</td>\n",
       "    </tr>\n",
       "    <tr>\n",
       "      <th>1</th>\n",
       "      <td>KNN</td>\n",
       "      <td>0.914286</td>\n",
       "      <td>0.931298</td>\n",
       "      <td>0.924964</td>\n",
       "    </tr>\n",
       "    <tr>\n",
       "      <th>2</th>\n",
       "      <td>DecisionTree</td>\n",
       "      <td>0.924528</td>\n",
       "      <td>0.938931</td>\n",
       "      <td>0.934223</td>\n",
       "    </tr>\n",
       "    <tr>\n",
       "      <th>3</th>\n",
       "      <td>NaiveBayes</td>\n",
       "      <td>0.932039</td>\n",
       "      <td>0.946565</td>\n",
       "      <td>0.937951</td>\n",
       "    </tr>\n",
       "    <tr>\n",
       "      <th>4</th>\n",
       "      <td>RandomForest</td>\n",
       "      <td>0.882353</td>\n",
       "      <td>0.908397</td>\n",
       "      <td>0.897186</td>\n",
       "    </tr>\n",
       "    <tr>\n",
       "      <th>5</th>\n",
       "      <td>SVM</td>\n",
       "      <td>0.944444</td>\n",
       "      <td>0.954198</td>\n",
       "      <td>0.952742</td>\n",
       "    </tr>\n",
       "  </tbody>\n",
       "</table>\n",
       "</div>"
      ],
      "text/plain": [
       "           data        f1  accuracy       auc\n",
       "0      Logistic  0.933333  0.946565  0.940717\n",
       "1           KNN  0.914286  0.931298  0.924964\n",
       "2  DecisionTree  0.924528  0.938931  0.934223\n",
       "3    NaiveBayes  0.932039  0.946565  0.937951\n",
       "4  RandomForest  0.882353  0.908397  0.897186\n",
       "5           SVM  0.944444  0.954198  0.952742"
      ]
     },
     "execution_count": 4,
     "metadata": {},
     "output_type": "execute_result"
    }
   ],
   "source": [
    "merit_df = pd.concat(merit_list, axis=1).T\n",
    "merit_df[['data','f1','accuracy','auc']]"
   ]
  },
  {
   "cell_type": "markdown",
   "metadata": {
    "run_control": {
     "marked": true
    }
   },
   "source": [
    "## Question 2\n",
    "For each, draw the ROC curve and calculate the AUC.\n",
    "\n",
    "*AUC is calculated above*"
   ]
  },
  {
   "cell_type": "code",
   "execution_count": 5,
   "metadata": {
    "ExecuteTime": {
     "end_time": "2016-08-02T05:30:38.328283",
     "start_time": "2016-08-02T05:30:37.788872"
    },
    "collapsed": false,
    "run_control": {
     "marked": true
    }
   },
   "outputs": [
    {
     "data": {
      "image/png": "[encoded data removed]",
      "text/plain": [
       "<matplotlib.figure.Figure at 0x1183d4850>"
      ]
     },
     "metadata": {},
     "output_type": "display_data"
    }
   ],
   "source": [
    "f = plt.figure()\n",
    "f.set_size_inches(7,5)\n",
    "ax = plt.axes()\n",
    "\n",
    "for idx,dat in merit_df.iterrows():\n",
    "    name = dat['data']\n",
    "    xdata = dat.roc_x\n",
    "    ydata = dat.roc_y\n",
    "    ax.plot(xdata,ydata,label=name)\n",
    "    \n",
    "ax.legend(loc=0)\n",
    "_ = ax.set(xlabel='False Positive',ylabel='True Positive',title='ROC Curve')"
   ]
  },
  {
   "cell_type": "markdown",
   "metadata": {
    "run_control": {
     "marked": true
    }
   },
   "source": [
    "## Question 3\n",
    "Calculate the same metrics you did in challenge 1, but this time in a cross validation scheme with the cross_val_score function (like in Challenge 9)."
   ]
  },
  {
   "cell_type": "code",
   "execution_count": 6,
   "metadata": {
    "ExecuteTime": {
     "end_time": "2016-08-02T05:30:38.945827",
     "start_time": "2016-08-02T05:30:38.696759"
    },
    "collapsed": true,
    "run_control": {
     "marked": true
    }
   },
   "outputs": [],
   "source": [
    "cv_list = list()\n",
    "\n",
    "for model,name in zip([log, knn, tree, nb, rf[0], svc],\n",
    "                      ['Logistic','KNN','DecisionTree',\n",
    "                       'NaiveBayes','RandomForest',\n",
    "                       'SVM']):\n",
    "\n",
    "    cv_val = cross_val_score(model, train[vote_cols], train['party'])\n",
    "    df = pd.Series({'label':name, 'cv':cv_val.mean()})\n",
    "    cv_list.append(df)"
   ]
  },
  {
   "cell_type": "code",
   "execution_count": 7,
   "metadata": {
    "ExecuteTime": {
     "end_time": "2016-08-02T05:30:39.027065",
     "start_time": "2016-08-02T05:30:39.000188"
    },
    "collapsed": false
   },
   "outputs": [
    {
     "data": {
      "text/html": [
       "<div>\n",
       "<table border=\"1\" class=\"dataframe\">\n",
       "  <thead>\n",
       "    <tr style=\"text-align: right;\">\n",
       "      <th></th>\n",
       "      <th>label</th>\n",
       "      <th>cv</th>\n",
       "    </tr>\n",
       "  </thead>\n",
       "  <tbody>\n",
       "    <tr>\n",
       "      <th>0</th>\n",
       "      <td>Logistic</td>\n",
       "      <td>0.96059</td>\n",
       "    </tr>\n",
       "    <tr>\n",
       "      <th>1</th>\n",
       "      <td>KNN</td>\n",
       "      <td>0.940821</td>\n",
       "    </tr>\n",
       "    <tr>\n",
       "      <th>2</th>\n",
       "      <td>DecisionTree</td>\n",
       "      <td>0.950624</td>\n",
       "    </tr>\n",
       "    <tr>\n",
       "      <th>3</th>\n",
       "      <td>NaiveBayes</td>\n",
       "      <td>0.924513</td>\n",
       "    </tr>\n",
       "    <tr>\n",
       "      <th>4</th>\n",
       "      <td>RandomForest</td>\n",
       "      <td>0.93092</td>\n",
       "    </tr>\n",
       "    <tr>\n",
       "      <th>5</th>\n",
       "      <td>SVM</td>\n",
       "      <td>0.960655</td>\n",
       "    </tr>\n",
       "  </tbody>\n",
       "</table>\n",
       "</div>"
      ],
      "text/plain": [
       "          label        cv\n",
       "0      Logistic   0.96059\n",
       "1           KNN  0.940821\n",
       "2  DecisionTree  0.950624\n",
       "3    NaiveBayes  0.924513\n",
       "4  RandomForest   0.93092\n",
       "5           SVM  0.960655"
      ]
     },
     "execution_count": 7,
     "metadata": {},
     "output_type": "execute_result"
    }
   ],
   "source": [
    "pd.concat(cv_list, axis=1).T[['label','cv']]"
   ]
  },
  {
   "cell_type": "markdown",
   "metadata": {
    "run_control": {
     "marked": true
    }
   },
   "source": [
    "## Question 4\n",
    "For your movie classifiers, calculate the precision and recall for each class."
   ]
  },
  {
   "cell_type": "code",
   "execution_count": 8,
   "metadata": {
    "ExecuteTime": {
     "end_time": "2016-08-02T05:30:39.830771",
     "start_time": "2016-08-02T05:30:39.742923"
    },
    "collapsed": false
   },
   "outputs": [],
   "source": [
    "movies = pd.read_csv('../../../challenges_data/2013_movies.csv').dropna()\n",
    "\n",
    "feat_cols = ['Budget', 'DomesticTotalGross', 'Runtime']\n",
    "movies[feat_cols] = Normalizer().fit_transform(movies[feat_cols])\n",
    "\n",
    "mtrain, mtest = train_test_split(movies, test_size=0.3, random_state=4444)\n",
    "\n",
    "LR = pd.read_pickle('../../05-classification/michelle/log_movie.mdl')\n",
    "KNN = pd.read_pickle('../../05-classification/michelle/knn_movie.mdl')"
   ]
  },
  {
   "cell_type": "code",
   "execution_count": 9,
   "metadata": {
    "ExecuteTime": {
     "end_time": "2016-08-02T05:30:40.526746",
     "start_time": "2016-08-02T05:30:40.486740"
    },
    "collapsed": false,
    "scrolled": true
   },
   "outputs": [
    {
     "name": "stderr",
     "output_type": "stream",
     "text": [
      "/Volumes/Files/miniconda/envs/scienv2/lib/python2.7/site-packages/sklearn/metrics/classification.py:1203: DeprecationWarning: The default `weighted` averaging is deprecated, and from version 0.18, use of precision, recall or F-score with multiclass or multilabel data or pos_label=None will result in an exception. Please set an explicit value for `average`, one of (None, 'micro', 'macro', 'weighted', 'samples'). In cross validation use, for instance, scoring=\"f1_weighted\" instead of scoring=\"f1\".\n",
      "  sample_weight=sample_weight)\n",
      "/Volumes/Files/miniconda/envs/scienv2/lib/python2.7/site-packages/sklearn/metrics/classification.py:1074: UndefinedMetricWarning: Precision is ill-defined and being set to 0.0 in labels with no predicted samples.\n",
      "  'precision', 'predicted', average, warn_for)\n",
      "/Volumes/Files/miniconda/envs/scienv2/lib/python2.7/site-packages/sklearn/metrics/classification.py:1304: DeprecationWarning: The default `weighted` averaging is deprecated, and from version 0.18, use of precision, recall or F-score with multiclass or multilabel data or pos_label=None will result in an exception. Please set an explicit value for `average`, one of (None, 'micro', 'macro', 'weighted', 'samples'). In cross validation use, for instance, scoring=\"f1_weighted\" instead of scoring=\"f1\".\n",
      "  sample_weight=sample_weight)\n",
      "/Volumes/Files/miniconda/envs/scienv2/lib/python2.7/site-packages/sklearn/metrics/classification.py:1203: DeprecationWarning: The default `weighted` averaging is deprecated, and from version 0.18, use of precision, recall or F-score with multiclass or multilabel data or pos_label=None will result in an exception. Please set an explicit value for `average`, one of (None, 'micro', 'macro', 'weighted', 'samples'). In cross validation use, for instance, scoring=\"f1_weighted\" instead of scoring=\"f1\".\n",
      "  sample_weight=sample_weight)\n",
      "/Volumes/Files/miniconda/envs/scienv2/lib/python2.7/site-packages/sklearn/metrics/classification.py:1304: DeprecationWarning: The default `weighted` averaging is deprecated, and from version 0.18, use of precision, recall or F-score with multiclass or multilabel data or pos_label=None will result in an exception. Please set an explicit value for `average`, one of (None, 'micro', 'macro', 'weighted', 'samples'). In cross validation use, for instance, scoring=\"f1_weighted\" instead of scoring=\"f1\".\n",
      "  sample_weight=sample_weight)\n"
     ]
    }
   ],
   "source": [
    "# Logistic\n",
    "Ytest = mtest['Rating']\n",
    "Ypred = LR.predict(mtest[feat_cols])\n",
    "\n",
    "pr_list = list()\n",
    "\n",
    "df = pd.Series({'name':'Logistic', 'precision':precision_score(Ytest, Ypred), \n",
    "                'recall':recall_score(Ytest, Ypred)})\n",
    "\n",
    "pr_list.append(df)\n",
    "\n",
    "# KNN\n",
    "Ypred = KNN.predict(mtest[feat_cols])\n",
    "\n",
    "df = pd.Series({'name':'KNN', 'precision':precision_score(Ytest, Ypred), \n",
    "                'recall':recall_score(Ytest, Ypred)})\n",
    "pr_list.append(df)"
   ]
  },
  {
   "cell_type": "code",
   "execution_count": 10,
   "metadata": {
    "ExecuteTime": {
     "end_time": "2016-08-02T05:30:41.035036",
     "start_time": "2016-08-02T05:30:41.007693"
    },
    "collapsed": false
   },
   "outputs": [
    {
     "data": {
      "text/html": [
       "<div>\n",
       "<table border=\"1\" class=\"dataframe\">\n",
       "  <thead>\n",
       "    <tr style=\"text-align: right;\">\n",
       "      <th></th>\n",
       "      <th>name</th>\n",
       "      <th>precision</th>\n",
       "      <th>recall</th>\n",
       "    </tr>\n",
       "  </thead>\n",
       "  <tbody>\n",
       "    <tr>\n",
       "      <th>0</th>\n",
       "      <td>Logistic</td>\n",
       "      <td>0.281433</td>\n",
       "      <td>0.333333</td>\n",
       "    </tr>\n",
       "    <tr>\n",
       "      <th>1</th>\n",
       "      <td>KNN</td>\n",
       "      <td>0.362637</td>\n",
       "      <td>0.444444</td>\n",
       "    </tr>\n",
       "  </tbody>\n",
       "</table>\n",
       "</div>"
      ],
      "text/plain": [
       "       name precision    recall\n",
       "0  Logistic  0.281433  0.333333\n",
       "1       KNN  0.362637  0.444444"
      ]
     },
     "execution_count": 10,
     "metadata": {},
     "output_type": "execute_result"
    }
   ],
   "source": [
    "pd.concat(pr_list, axis=1).T"
   ]
  },
  {
   "cell_type": "markdown",
   "metadata": {},
   "source": [
    "## Question 5\n",
    "Draw the ROC curve (and calculate AUC) for the logistic regression classifier from challenge 12."
   ]
  },
  {
   "cell_type": "code",
   "execution_count": 11,
   "metadata": {
    "ExecuteTime": {
     "end_time": "2016-08-02T05:30:41.729219",
     "start_time": "2016-08-02T05:30:41.712177"
    },
    "collapsed": false
   },
   "outputs": [],
   "source": [
    "with open('../../05-classification/michelle/LR_haberman.pkl','r') as fh:\n",
    "    LR = pickle.load(fh)\n",
    "    \n",
    "train = pd.read_pickle('../../05-classification/michelle/haberman_train.pkl')\n",
    "test = pd.read_pickle('../../05-classification/michelle/haberman_test.pkl')\n",
    "\n",
    "Ytest = test['survival']\n",
    "Ypred = LR.predict(test[['age_op','year_op','num_nodes']])\n",
    "\n",
    "auc = roc_auc_score(Ytest-1, Ypred-1)\n",
    "\n",
    "xdata, ydata, _ = roc_curve(Ytest-1, Ypred-1)"
   ]
  },
  {
   "cell_type": "code",
   "execution_count": 12,
   "metadata": {
    "ExecuteTime": {
     "end_time": "2016-08-02T05:30:43.201201",
     "start_time": "2016-08-02T05:30:42.886099"
    },
    "collapsed": false
   },
   "outputs": [
    {
     "name": "stderr",
     "output_type": "stream",
     "text": [
      "/Volumes/Files/miniconda/envs/scienv2/lib/python2.7/site-packages/matplotlib/axes/_axes.py:519: UserWarning: No labelled objects found. Use label='...' kwarg on individual plots.\n",
      "  warnings.warn(\"No labelled objects found. \"\n"
     ]
    },
    {
     "data": {
      "image/png": "[encoded data removed]",
      "text/plain": [
       "<matplotlib.figure.Figure at 0x11ac52bd0>"
      ]
     },
     "metadata": {},
     "output_type": "display_data"
    }
   ],
   "source": [
    "f = plt.figure()\n",
    "f.set_size_inches(7,5)\n",
    "ax = plt.axes()\n",
    "\n",
    "ax.plot(xdata,ydata)\n",
    "    \n",
    "ax.legend(loc=0)\n",
    "_ = ax.set(xlabel='False Positive',ylabel='True Positive',title='ROC Curve')"
   ]
  }
 ],
 "metadata": {
  "kernelspec": {
   "display_name": "Python 2",
   "language": "python",
   "name": "python2"
  },
  "language_info": {
   "codemirror_mode": {
    "name": "ipython",
    "version": 2
   },
   "file_extension": ".py",
   "mimetype": "text/x-python",
   "name": "python",
   "nbconvert_exporter": "python",
   "pygments_lexer": "ipython2",
   "version": "2.7.12"
  }
 },
 "nbformat": 4,
 "nbformat_minor": 0
}
