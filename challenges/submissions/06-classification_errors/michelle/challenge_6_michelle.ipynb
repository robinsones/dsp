{
 "cells": [
  {
   "cell_type": "markdown",
   "metadata": {
    "run_control": {
     "marked": true
    }
   },
   "source": [
    "# Challenge 6: Classification Error Metric Challenges\n",
    "\n",
    "| Title        | Answer                     |\n",
    "| :---------- | :------------------------ |\n",
    "| Topic:       | Classification Errors | \n",
    "| Date:        | 2016/07/31                 |\n",
    "| Name:        | Michelle L. Gill           |\n",
    "| Worked with: | None                       | \n",
    "\n",
    "\n"
   ]
  },
  {
   "cell_type": "code",
   "execution_count": 79,
   "metadata": {
    "ExecuteTime": {
     "end_time": "2016-08-07T08:12:35.244121",
     "start_time": "2016-08-07T08:12:35.211909"
    },
    "collapsed": false,
    "run_control": {
     "marked": true
    }
   },
   "outputs": [],
   "source": [
    "import pandas as pd\n",
    "import numpy as np\n",
    "import cPickle as pickle\n",
    "\n",
    "from sklearn.metrics import accuracy_score, f1_score, precision_score, recall_score \n",
    "from sklearn.metrics import auc, roc_curve, roc_auc_score, confusion_matrix\n",
    "from sklearn.cross_validation import cross_val_score\n",
    "from sklearn.preprocessing import Normalizer\n",
    "from sklearn.cross_validation import train_test_split\n",
    "\n",
    "import matplotlib.pyplot as plt\n",
    "import seaborn as sns\n",
    "\n",
    "sns.set_context('talk')\n",
    "sns.set_style('white')\n",
    "sns.set_palette('dark')\n",
    "\n",
    "%matplotlib inline"
   ]
  },
  {
   "cell_type": "markdown",
   "metadata": {
    "run_control": {
     "marked": true
    }
   },
   "source": [
    "## Question 1\n",
    "\n",
    "For the house representatives data set, calculate the accuracy, precision, recall and f1 scores of each classifier you built (on the test set)."
   ]
  },
  {
   "cell_type": "code",
   "execution_count": 80,
   "metadata": {
    "ExecuteTime": {
     "end_time": "2016-08-07T08:12:36.086996",
     "start_time": "2016-08-07T08:12:36.011891"
    },
    "collapsed": false,
    "run_control": {
     "marked": true
    }
   },
   "outputs": [],
   "source": [
    "votes = pd.read_pickle('../../05-classification/michelle/votes.pkl')  \n",
    "knn   = pd.read_pickle('../../05-classification/michelle/knn_house.mdl')\n",
    "log   = pd.read_pickle('../../05-classification/michelle/log_house.mdl')\n",
    "tree  = pd.read_pickle('../../05-classification/michelle/decisiontreeclassifier_house.mdl')\n",
    "nb    = pd.read_pickle('../../05-classification/michelle/gaussiannb_house.mdl')\n",
    "rf    = pd.read_pickle('../../05-classification/michelle/randomforestclassifier_house.mdl')\n",
    "svc   = pd.read_pickle('../../05-classification/michelle/svc_house.mdl')"
   ]
  },
  {
   "cell_type": "code",
   "execution_count": 81,
   "metadata": {
    "ExecuteTime": {
     "end_time": "2016-08-07T08:12:36.729381",
     "start_time": "2016-08-07T08:12:36.633798"
    },
    "collapsed": false
   },
   "outputs": [],
   "source": [
    "def recode(arr):\n",
    "    return [1 if x=='republican' else 0 for x in arr]\n",
    "\n",
    "train, test = train_test_split(votes, test_size=0.3, random_state=4444)\n",
    "vote_cols = ['v{}'.format(x) for x in range(1,17)]\n",
    "\n",
    "# train['party'] = recode(train['party'])\n",
    "# test['party'] = recode(test['party'])\n",
    "\n",
    "merit_list = list()\n",
    "\n",
    "for model,name in zip([log, knn, tree, nb, rf[0], svc],\n",
    "                      ['Logistic','KNN','DecisionTree',\n",
    "                       'NaiveBayes','RandomForest',\n",
    "                       'SVM']):\n",
    "\n",
    "    Ytest = test['party'].astype(np.object)\n",
    "    Ytest = recode(Ytest)\n",
    "    \n",
    "    Ypred = model.predict(test[vote_cols])\n",
    "    Ypred = recode(Ypred)\n",
    "    \n",
    "    try:\n",
    "        Ypred_plot = model.decision_function(test[vote_cols])\n",
    "    except:\n",
    "        Ypred_plot = model.predict_proba(test[vote_cols])[:,1]\n",
    "    \n",
    "    accuracy = accuracy_score(Ytest, Ypred)\n",
    "    precision = precision_score(Ytest, Ypred)\n",
    "    recall = recall_score(Ytest, Ypred)\n",
    "    f1 = f1_score(Ytest, Ypred)\n",
    "    auc = roc_auc_score(Ytest, Ypred)\n",
    "\n",
    "    #xdata, ydata, _ = roc_curve(Ytest, Ypred)\n",
    "    xdata, ydata, _ = roc_curve(Ytest, Ypred_plot)\n",
    "\n",
    "    df = pd.Series({'data':name, \n",
    "                    'f1': f1, \n",
    "                    'accuracy':accuracy, 'auc':auc,\n",
    "                    'precision':precision, 'recall':recall,\n",
    "                    'roc_x': xdata, 'roc_y': ydata})\n",
    "    \n",
    "    merit_list.append(df)"
   ]
  },
  {
   "cell_type": "code",
   "execution_count": 82,
   "metadata": {
    "ExecuteTime": {
     "end_time": "2016-08-07T08:12:37.193573",
     "start_time": "2016-08-07T08:12:37.159962"
    },
    "collapsed": false
   },
   "outputs": [
    {
     "data": {
      "text/html": [
       "<div>\n",
       "<table border=\"1\" class=\"dataframe\">\n",
       "  <thead>\n",
       "    <tr style=\"text-align: right;\">\n",
       "      <th></th>\n",
       "      <th>data</th>\n",
       "      <th>f1</th>\n",
       "      <th>accuracy</th>\n",
       "      <th>precision</th>\n",
       "      <th>recall</th>\n",
       "    </tr>\n",
       "  </thead>\n",
       "  <tbody>\n",
       "    <tr>\n",
       "      <th>0</th>\n",
       "      <td>Logistic</td>\n",
       "      <td>0.923077</td>\n",
       "      <td>0.938931</td>\n",
       "      <td>0.96</td>\n",
       "      <td>0.888889</td>\n",
       "    </tr>\n",
       "    <tr>\n",
       "      <th>1</th>\n",
       "      <td>KNN</td>\n",
       "      <td>0.915888</td>\n",
       "      <td>0.931298</td>\n",
       "      <td>0.924528</td>\n",
       "      <td>0.907407</td>\n",
       "    </tr>\n",
       "    <tr>\n",
       "      <th>2</th>\n",
       "      <td>DecisionTree</td>\n",
       "      <td>0.924528</td>\n",
       "      <td>0.938931</td>\n",
       "      <td>0.942308</td>\n",
       "      <td>0.907407</td>\n",
       "    </tr>\n",
       "    <tr>\n",
       "      <th>3</th>\n",
       "      <td>NaiveBayes</td>\n",
       "      <td>0.932039</td>\n",
       "      <td>0.946565</td>\n",
       "      <td>0.979592</td>\n",
       "      <td>0.888889</td>\n",
       "    </tr>\n",
       "    <tr>\n",
       "      <th>4</th>\n",
       "      <td>RandomForest</td>\n",
       "      <td>0.921569</td>\n",
       "      <td>0.938931</td>\n",
       "      <td>0.979167</td>\n",
       "      <td>0.87037</td>\n",
       "    </tr>\n",
       "    <tr>\n",
       "      <th>5</th>\n",
       "      <td>SVM</td>\n",
       "      <td>0.953271</td>\n",
       "      <td>0.961832</td>\n",
       "      <td>0.962264</td>\n",
       "      <td>0.944444</td>\n",
       "    </tr>\n",
       "  </tbody>\n",
       "</table>\n",
       "</div>"
      ],
      "text/plain": [
       "           data        f1  accuracy precision    recall\n",
       "0      Logistic  0.923077  0.938931      0.96  0.888889\n",
       "1           KNN  0.915888  0.931298  0.924528  0.907407\n",
       "2  DecisionTree  0.924528  0.938931  0.942308  0.907407\n",
       "3    NaiveBayes  0.932039  0.946565  0.979592  0.888889\n",
       "4  RandomForest  0.921569  0.938931  0.979167   0.87037\n",
       "5           SVM  0.953271  0.961832  0.962264  0.944444"
      ]
     },
     "execution_count": 82,
     "metadata": {},
     "output_type": "execute_result"
    }
   ],
   "source": [
    "merit_df = pd.concat(merit_list, axis=1).T\n",
    "merit_df[['data','f1','accuracy','precision','recall']]"
   ]
  },
  {
   "cell_type": "markdown",
   "metadata": {
    "run_control": {
     "marked": true
    }
   },
   "source": [
    "## Question 2\n",
    "For each, draw the ROC curve and calculate the AUC.\n",
    "\n",
    "*AUC is calculated above*"
   ]
  },
  {
   "cell_type": "code",
   "execution_count": 83,
   "metadata": {
    "ExecuteTime": {
     "end_time": "2016-08-07T08:12:38.586263",
     "start_time": "2016-08-07T08:12:38.188207"
    },
    "collapsed": false,
    "run_control": {
     "marked": true
    }
   },
   "outputs": [
    {
     "data": {
      "image/png": "[encoded data removed]",
      "text/plain": [
       "<matplotlib.figure.Figure at 0x11b87d2d0>"
      ]
     },
     "metadata": {},
     "output_type": "display_data"
    }
   ],
   "source": [
    "f = plt.figure()\n",
    "f.set_size_inches(7,5)\n",
    "ax = plt.axes()\n",
    "\n",
    "for idx,dat in merit_df.iterrows():\n",
    "    name = dat['data']\n",
    "    auc = dat['auc']\n",
    "    xdata = dat.roc_x\n",
    "    ydata = dat.roc_y\n",
    "    ax.plot(xdata,ydata,label='AUC {:.2f}, {}'.format(auc,name))\n",
    "    \n",
    "ax.legend(loc=0)\n",
    "_ = ax.set(xlabel='False Positive',ylabel='True Positive',title='ROC Curve')"
   ]
  },
  {
   "cell_type": "markdown",
   "metadata": {
    "run_control": {
     "marked": true
    }
   },
   "source": [
    "## Question 3\n",
    "Calculate the same metrics you did in challenge 1, but this time in a cross validation scheme with the cross_val_score function (like in Challenge 9)."
   ]
  },
  {
   "cell_type": "code",
   "execution_count": 84,
   "metadata": {
    "ExecuteTime": {
     "end_time": "2016-08-07T08:12:40.506446",
     "start_time": "2016-08-07T08:12:39.702537"
    },
    "collapsed": false,
    "run_control": {
     "marked": true
    }
   },
   "outputs": [],
   "source": [
    "cv_list = list()\n",
    "\n",
    "for model,name in zip([log, knn, tree, nb, rf[0], svc],\n",
    "                      ['Logistic','KNN','DecisionTree',\n",
    "                       'NaiveBayes','RandomForest',\n",
    "                       'SVM']):\n",
    "\n",
    "    accuracy = cross_val_score(model, train[vote_cols], train['party'], scoring='accuracy').mean()\n",
    "    precision = cross_val_score(model, train[vote_cols], recode(train['party']), scoring='precision').mean()\n",
    "    recall = cross_val_score(model, train[vote_cols], recode(train['party']), scoring='recall').mean()\n",
    "    f1 = cross_val_score(model, train[vote_cols], recode(train['party']), scoring='f1').mean()\n",
    "    \n",
    "    df = pd.Series({'label':name, 'accuracy':accuracy, 'precision':precision,\n",
    "                    'recall':recall, 'f1':f1})\n",
    "    cv_list.append(df)"
   ]
  },
  {
   "cell_type": "code",
   "execution_count": 85,
   "metadata": {
    "ExecuteTime": {
     "end_time": "2016-08-07T08:12:41.086722",
     "start_time": "2016-08-07T08:12:41.054908"
    },
    "collapsed": false
   },
   "outputs": [
    {
     "data": {
      "text/html": [
       "<div>\n",
       "<table border=\"1\" class=\"dataframe\">\n",
       "  <thead>\n",
       "    <tr style=\"text-align: right;\">\n",
       "      <th></th>\n",
       "      <th>label</th>\n",
       "      <th>accuracy</th>\n",
       "      <th>f1</th>\n",
       "      <th>precision</th>\n",
       "      <th>recall</th>\n",
       "    </tr>\n",
       "  </thead>\n",
       "  <tbody>\n",
       "    <tr>\n",
       "      <th>0</th>\n",
       "      <td>Logistic</td>\n",
       "      <td>0.957257</td>\n",
       "      <td>0.94196</td>\n",
       "      <td>0.955364</td>\n",
       "      <td>0.929825</td>\n",
       "    </tr>\n",
       "    <tr>\n",
       "      <th>1</th>\n",
       "      <td>KNN</td>\n",
       "      <td>0.924513</td>\n",
       "      <td>0.902954</td>\n",
       "      <td>0.869919</td>\n",
       "      <td>0.938596</td>\n",
       "    </tr>\n",
       "    <tr>\n",
       "      <th>2</th>\n",
       "      <td>DecisionTree</td>\n",
       "      <td>0.93422</td>\n",
       "      <td>0.926287</td>\n",
       "      <td>0.905514</td>\n",
       "      <td>0.947368</td>\n",
       "    </tr>\n",
       "    <tr>\n",
       "      <th>3</th>\n",
       "      <td>NaiveBayes</td>\n",
       "      <td>0.927781</td>\n",
       "      <td>0.905308</td>\n",
       "      <td>0.890351</td>\n",
       "      <td>0.921053</td>\n",
       "    </tr>\n",
       "    <tr>\n",
       "      <th>4</th>\n",
       "      <td>RandomForest</td>\n",
       "      <td>0.93752</td>\n",
       "      <td>0.914718</td>\n",
       "      <td>0.932732</td>\n",
       "      <td>0.95614</td>\n",
       "    </tr>\n",
       "    <tr>\n",
       "      <th>5</th>\n",
       "      <td>SVM</td>\n",
       "      <td>0.960655</td>\n",
       "      <td>0.950161</td>\n",
       "      <td>0.921531</td>\n",
       "      <td>0.982456</td>\n",
       "    </tr>\n",
       "  </tbody>\n",
       "</table>\n",
       "</div>"
      ],
      "text/plain": [
       "          label  accuracy        f1 precision    recall\n",
       "0      Logistic  0.957257   0.94196  0.955364  0.929825\n",
       "1           KNN  0.924513  0.902954  0.869919  0.938596\n",
       "2  DecisionTree   0.93422  0.926287  0.905514  0.947368\n",
       "3    NaiveBayes  0.927781  0.905308  0.890351  0.921053\n",
       "4  RandomForest   0.93752  0.914718  0.932732   0.95614\n",
       "5           SVM  0.960655  0.950161  0.921531  0.982456"
      ]
     },
     "execution_count": 85,
     "metadata": {},
     "output_type": "execute_result"
    }
   ],
   "source": [
    "pd.concat(cv_list, axis=1).T[['label','accuracy','f1','precision','recall']]"
   ]
  },
  {
   "cell_type": "markdown",
   "metadata": {
    "run_control": {
     "marked": true
    }
   },
   "source": [
    "## Question 4\n",
    "For your movie classifiers, calculate the precision and recall for each class."
   ]
  },
  {
   "cell_type": "code",
   "execution_count": 86,
   "metadata": {
    "ExecuteTime": {
     "end_time": "2016-08-07T08:12:42.110871",
     "start_time": "2016-08-07T08:12:41.955774"
    },
    "collapsed": false
   },
   "outputs": [],
   "source": [
    "movies = pd.read_csv('../../../challenges_data/2013_movies.csv').dropna()\n",
    "\n",
    "feat_cols = ['Budget', 'DomesticTotalGross', 'Runtime']\n",
    "movies[feat_cols] = Normalizer().fit_transform(movies[feat_cols])\n",
    "\n",
    "mtrain, mtest = train_test_split(movies, test_size=0.3, random_state=4444)\n",
    "Ytest = mtest['Rating']\n",
    "\n",
    "#LR = pd.read_pickle('../../05-classification/michelle/log_movie.mdl')\n",
    "#KNN = pd.read_pickle('../../05-classification/michelle/knn_movie.mdl')"
   ]
  },
  {
   "cell_type": "code",
   "execution_count": 87,
   "metadata": {
    "ExecuteTime": {
     "end_time": "2016-08-07T08:12:42.687350",
     "start_time": "2016-08-07T08:12:42.621877"
    },
    "collapsed": false,
    "scrolled": true
   },
   "outputs": [
    {
     "name": "stderr",
     "output_type": "stream",
     "text": [
      "/Volumes/Files/miniconda/envs/scienv2/lib/python2.7/site-packages/sklearn/metrics/classification.py:1203: DeprecationWarning: The default `weighted` averaging is deprecated, and from version 0.18, use of precision, recall or F-score with multiclass or multilabel data or pos_label=None will result in an exception. Please set an explicit value for `average`, one of (None, 'micro', 'macro', 'weighted', 'samples'). In cross validation use, for instance, scoring=\"f1_weighted\" instead of scoring=\"f1\".\n",
      "  sample_weight=sample_weight)\n",
      "/Volumes/Files/miniconda/envs/scienv2/lib/python2.7/site-packages/sklearn/metrics/classification.py:1304: DeprecationWarning: The default `weighted` averaging is deprecated, and from version 0.18, use of precision, recall or F-score with multiclass or multilabel data or pos_label=None will result in an exception. Please set an explicit value for `average`, one of (None, 'micro', 'macro', 'weighted', 'samples'). In cross validation use, for instance, scoring=\"f1_weighted\" instead of scoring=\"f1\".\n",
      "  sample_weight=sample_weight)\n",
      "/Volumes/Files/miniconda/envs/scienv2/lib/python2.7/site-packages/sklearn/metrics/classification.py:1203: DeprecationWarning: The default `weighted` averaging is deprecated, and from version 0.18, use of precision, recall or F-score with multiclass or multilabel data or pos_label=None will result in an exception. Please set an explicit value for `average`, one of (None, 'micro', 'macro', 'weighted', 'samples'). In cross validation use, for instance, scoring=\"f1_weighted\" instead of scoring=\"f1\".\n",
      "  sample_weight=sample_weight)\n",
      "/Volumes/Files/miniconda/envs/scienv2/lib/python2.7/site-packages/sklearn/metrics/classification.py:1304: DeprecationWarning: The default `weighted` averaging is deprecated, and from version 0.18, use of precision, recall or F-score with multiclass or multilabel data or pos_label=None will result in an exception. Please set an explicit value for `average`, one of (None, 'micro', 'macro', 'weighted', 'samples'). In cross validation use, for instance, scoring=\"f1_weighted\" instead of scoring=\"f1\".\n",
      "  sample_weight=sample_weight)\n"
     ]
    }
   ],
   "source": [
    "from sklearn.multiclass import OneVsRestClassifier\n",
    "from sklearn.metrics import precision_recall_fscore_support\n",
    "\n",
    "from sklearn.linear_model import LogisticRegression\n",
    "from sklearn.neighbors import KNeighborsClassifier\n",
    "\n",
    "# Logistic multiclass\n",
    "LR = OneVsRestClassifier(LogisticRegression())\n",
    "LR.fit(mtrain[feat_cols], mtrain['Rating'])\n",
    "\n",
    "Ypred = LR.predict(mtest[feat_cols])\n",
    "\n",
    "pr_list = list()\n",
    "df = pd.Series({'name':'Logistic', \n",
    "                'precision':precision_score(Ytest, Ypred), \n",
    "                'recall':recall_score(Ytest, Ypred)})\n",
    "\n",
    "pr_list.append(df)\n",
    "\n",
    "\n",
    "# KNN\n",
    "KNN = OneVsRestClassifier(KNeighborsClassifier(n_neighbors=5))\n",
    "KNN.fit(mtrain[feat_cols], mtrain['Rating'])\n",
    "\n",
    "Ypred = KNN.predict(mtest[feat_cols])\n",
    "\n",
    "df = pd.Series({'name':'KNN', 'precision':precision_score(Ytest, Ypred), \n",
    "                'recall':recall_score(Ytest, Ypred)})\n",
    "\n",
    "pr_list.append(df)"
   ]
  },
  {
   "cell_type": "code",
   "execution_count": 88,
   "metadata": {
    "ExecuteTime": {
     "end_time": "2016-08-07T08:12:43.155623",
     "start_time": "2016-08-07T08:12:43.140257"
    },
    "collapsed": false
   },
   "outputs": [
    {
     "data": {
      "text/html": [
       "<div>\n",
       "<table border=\"1\" class=\"dataframe\">\n",
       "  <thead>\n",
       "    <tr style=\"text-align: right;\">\n",
       "      <th></th>\n",
       "      <th>name</th>\n",
       "      <th>precision</th>\n",
       "      <th>recall</th>\n",
       "    </tr>\n",
       "  </thead>\n",
       "  <tbody>\n",
       "    <tr>\n",
       "      <th>0</th>\n",
       "      <td>Logistic</td>\n",
       "      <td>0.281433</td>\n",
       "      <td>0.333333</td>\n",
       "    </tr>\n",
       "    <tr>\n",
       "      <th>1</th>\n",
       "      <td>KNN</td>\n",
       "      <td>0.391738</td>\n",
       "      <td>0.481481</td>\n",
       "    </tr>\n",
       "  </tbody>\n",
       "</table>\n",
       "</div>"
      ],
      "text/plain": [
       "       name precision    recall\n",
       "0  Logistic  0.281433  0.333333\n",
       "1       KNN  0.391738  0.481481"
      ]
     },
     "execution_count": 88,
     "metadata": {},
     "output_type": "execute_result"
    }
   ],
   "source": [
    "pd.concat(pr_list, axis=1).T"
   ]
  },
  {
   "cell_type": "markdown",
   "metadata": {},
   "source": [
    "## Question 5\n",
    "Draw the ROC curve (and calculate AUC) for the logistic regression classifier from challenge 12."
   ]
  },
  {
   "cell_type": "code",
   "execution_count": 90,
   "metadata": {
    "ExecuteTime": {
     "end_time": "2016-08-07T08:13:26.073480",
     "start_time": "2016-08-07T08:13:26.052461"
    },
    "collapsed": false
   },
   "outputs": [],
   "source": [
    "with open('../../05-classification/michelle/LR_haberman.pkl','r') as fh:\n",
    "    LR = pickle.load(fh)\n",
    "    \n",
    "train = pd.read_pickle('../../05-classification/michelle/haberman_train.pkl')\n",
    "test = pd.read_pickle('../../05-classification/michelle/haberman_test.pkl')\n",
    "\n",
    "train['survival'] -= 1\n",
    "test['survival'] -= 1\n",
    "\n",
    "\n",
    "Ytest = test['survival']\n",
    "Ypred = LR.predict(test[['age_op','year_op','num_nodes']])\n",
    "Ypred_plot = LR.predict_proba(test[['age_op','year_op','num_nodes']])[:,1]\n",
    "\n",
    "auc = roc_auc_score(Ytest, Ypred_plot)\n",
    "\n",
    "xdata, ydata, _ = roc_curve(Ytest, Ypred_plot)"
   ]
  },
  {
   "cell_type": "code",
   "execution_count": 91,
   "metadata": {
    "ExecuteTime": {
     "end_time": "2016-08-07T08:13:27.572103",
     "start_time": "2016-08-07T08:13:27.298835"
    },
    "collapsed": false
   },
   "outputs": [
    {
     "data": {
      "image/png": "[encoded data removed]",
      "text/plain": [
       "<matplotlib.figure.Figure at 0x11a82fc10>"
      ]
     },
     "metadata": {},
     "output_type": "display_data"
    }
   ],
   "source": [
    "f = plt.figure()\n",
    "f.set_size_inches(7, 5)\n",
    "ax = plt.axes()\n",
    "\n",
    "ax.plot(xdata, ydata)\n",
    "    \n",
    "ax.legend(loc=0)\n",
    "_ = ax.set(xlabel='False Positive', \n",
    "           ylabel='True Positive', \n",
    "           title='ROC Curve')"
   ]
  }
 ],
 "metadata": {
  "kernelspec": {
   "display_name": "Python 2",
   "language": "python",
   "name": "python2"
  },
  "language_info": {
   "codemirror_mode": {
    "name": "ipython",
    "version": 2
   },
   "file_extension": ".py",
   "mimetype": "text/x-python",
   "name": "python",
   "nbconvert_exporter": "python",
   "pygments_lexer": "ipython2",
   "version": "2.7.12"
  }
 },
 "nbformat": 4,
 "nbformat_minor": 0
}
