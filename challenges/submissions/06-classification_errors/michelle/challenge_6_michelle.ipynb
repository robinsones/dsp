{
 "cells": [
  {
   "cell_type": "markdown",
   "metadata": {
    "run_control": {
     "marked": true
    }
   },
   "source": [
    "# Challenge 6: Classification Error Metric Challenges\n",
    "\n",
    "| Title        | Answer                     |\n",
    "| :---------- | :------------------------ |\n",
    "| Topic:       | Classification Errors | \n",
    "| Date:        | 2016/07/31                 |\n",
    "| Name:        | Michelle L. Gill           |\n",
    "| Worked with: | None                       | \n",
    "\n",
    "\n"
   ]
  },
  {
   "cell_type": "code",
   "execution_count": 1,
   "metadata": {
    "ExecuteTime": {
     "end_time": "2016-08-07T08:30:29.221584",
     "start_time": "2016-08-07T08:30:27.246926"
    },
    "collapsed": false,
    "run_control": {
     "marked": true
    }
   },
   "outputs": [],
   "source": [
    "import pandas as pd\n",
    "import numpy as np\n",
    "import cPickle as pickle\n",
    "\n",
    "from sklearn.metrics import accuracy_score, f1_score, precision_score, recall_score \n",
    "from sklearn.metrics import auc, roc_curve, roc_auc_score, confusion_matrix\n",
    "from sklearn.cross_validation import cross_val_score\n",
    "from sklearn.preprocessing import Normalizer\n",
    "from sklearn.cross_validation import train_test_split\n",
    "\n",
    "import matplotlib.pyplot as plt\n",
    "import seaborn as sns\n",
    "\n",
    "sns.set_context('talk')\n",
    "sns.set_style('white')\n",
    "sns.set_palette('dark')\n",
    "\n",
    "%matplotlib inline"
   ]
  },
  {
   "cell_type": "markdown",
   "metadata": {
    "run_control": {
     "marked": true
    }
   },
   "source": [
    "## Question 1\n",
    "\n",
    "For the house representatives data set, calculate the accuracy, precision, recall and f1 scores of each classifier you built (on the test set)."
   ]
  },
  {
   "cell_type": "code",
   "execution_count": 2,
   "metadata": {
    "ExecuteTime": {
     "end_time": "2016-08-07T08:30:29.394920",
     "start_time": "2016-08-07T08:30:29.224270"
    },
    "collapsed": false,
    "run_control": {
     "marked": true
    }
   },
   "outputs": [],
   "source": [
    "votes = pd.read_pickle('../../05-classification/michelle/votes.pkl')  \n",
    "knn   = pd.read_pickle('../../05-classification/michelle/knn_house.mdl')\n",
    "log   = pd.read_pickle('../../05-classification/michelle/log_house.mdl')\n",
    "tree  = pd.read_pickle('../../05-classification/michelle/decisiontreeclassifier_house.mdl')\n",
    "nb    = pd.read_pickle('../../05-classification/michelle/gaussiannb_house.mdl')\n",
    "rf    = pd.read_pickle('../../05-classification/michelle/randomforestclassifier_house.mdl')\n",
    "svc   = pd.read_pickle('../../05-classification/michelle/svc_house.mdl')"
   ]
  },
  {
   "cell_type": "code",
   "execution_count": 3,
   "metadata": {
    "ExecuteTime": {
     "end_time": "2016-08-07T08:30:29.600384",
     "start_time": "2016-08-07T08:30:29.397474"
    },
    "collapsed": false
   },
   "outputs": [],
   "source": [
    "def recode(arr):\n",
    "    return [1 if x=='republican' else 0 for x in arr]\n",
    "\n",
    "train, test = train_test_split(votes, test_size=0.3, random_state=4444)\n",
    "vote_cols = ['v{}'.format(x) for x in range(1,17)]\n",
    "\n",
    "# train['party'] = recode(train['party'])\n",
    "# test['party'] = recode(test['party'])\n",
    "\n",
    "merit_list = list()\n",
    "\n",
    "for model,name in zip([log, knn, tree, nb, rf[0], svc],\n",
    "                      ['Logistic','KNN','DecisionTree',\n",
    "                       'NaiveBayes','RandomForest',\n",
    "                       'SVM']):\n",
    "\n",
    "    Ytest = test['party'].astype(np.object)\n",
    "    Ytest = recode(Ytest)\n",
    "    \n",
    "    Ypred = model.predict(test[vote_cols])\n",
    "    Ypred = recode(Ypred)\n",
    "    \n",
    "    try:\n",
    "        Ypred_plot = model.decision_function(test[vote_cols])\n",
    "    except:\n",
    "        Ypred_plot = model.predict_proba(test[vote_cols])[:,1]\n",
    "    \n",
    "    accuracy = accuracy_score(Ytest, Ypred)\n",
    "    precision = precision_score(Ytest, Ypred)\n",
    "    recall = recall_score(Ytest, Ypred)\n",
    "    f1 = f1_score(Ytest, Ypred)\n",
    "    auc = roc_auc_score(Ytest, Ypred)\n",
    "\n",
    "    #xdata, ydata, _ = roc_curve(Ytest, Ypred)\n",
    "    xdata, ydata, _ = roc_curve(Ytest, Ypred_plot)\n",
    "\n",
    "    df = pd.Series({'data':name, \n",
    "                    'f1': f1, \n",
    "                    'accuracy':accuracy, 'auc':auc,\n",
    "                    'precision':precision, 'recall':recall,\n",
    "                    'roc_x': xdata, 'roc_y': ydata})\n",
    "    \n",
    "    merit_list.append(df)"
   ]
  },
  {
   "cell_type": "code",
   "execution_count": 4,
   "metadata": {
    "ExecuteTime": {
     "end_time": "2016-08-07T08:30:29.647952",
     "start_time": "2016-08-07T08:30:29.602927"
    },
    "collapsed": false
   },
   "outputs": [
    {
     "data": {
      "text/html": [
       "<div>\n",
       "<table border=\"1\" class=\"dataframe\">\n",
       "  <thead>\n",
       "    <tr style=\"text-align: right;\">\n",
       "      <th></th>\n",
       "      <th>data</th>\n",
       "      <th>f1</th>\n",
       "      <th>accuracy</th>\n",
       "      <th>precision</th>\n",
       "      <th>recall</th>\n",
       "    </tr>\n",
       "  </thead>\n",
       "  <tbody>\n",
       "    <tr>\n",
       "      <th>0</th>\n",
       "      <td>Logistic</td>\n",
       "      <td>0.925926</td>\n",
       "      <td>0.938931</td>\n",
       "      <td>0.925926</td>\n",
       "      <td>0.925926</td>\n",
       "    </tr>\n",
       "    <tr>\n",
       "      <th>1</th>\n",
       "      <td>KNN</td>\n",
       "      <td>0.93578</td>\n",
       "      <td>0.946565</td>\n",
       "      <td>0.927273</td>\n",
       "      <td>0.944444</td>\n",
       "    </tr>\n",
       "    <tr>\n",
       "      <th>2</th>\n",
       "      <td>DecisionTree</td>\n",
       "      <td>0.914286</td>\n",
       "      <td>0.931298</td>\n",
       "      <td>0.941176</td>\n",
       "      <td>0.888889</td>\n",
       "    </tr>\n",
       "    <tr>\n",
       "      <th>3</th>\n",
       "      <td>NaiveBayes</td>\n",
       "      <td>0.932039</td>\n",
       "      <td>0.946565</td>\n",
       "      <td>0.979592</td>\n",
       "      <td>0.888889</td>\n",
       "    </tr>\n",
       "    <tr>\n",
       "      <th>4</th>\n",
       "      <td>RandomForest</td>\n",
       "      <td>0.895238</td>\n",
       "      <td>0.916031</td>\n",
       "      <td>0.921569</td>\n",
       "      <td>0.87037</td>\n",
       "    </tr>\n",
       "    <tr>\n",
       "      <th>5</th>\n",
       "      <td>SVM</td>\n",
       "      <td>0.93578</td>\n",
       "      <td>0.946565</td>\n",
       "      <td>0.927273</td>\n",
       "      <td>0.944444</td>\n",
       "    </tr>\n",
       "  </tbody>\n",
       "</table>\n",
       "</div>"
      ],
      "text/plain": [
       "           data        f1  accuracy precision    recall\n",
       "0      Logistic  0.925926  0.938931  0.925926  0.925926\n",
       "1           KNN   0.93578  0.946565  0.927273  0.944444\n",
       "2  DecisionTree  0.914286  0.931298  0.941176  0.888889\n",
       "3    NaiveBayes  0.932039  0.946565  0.979592  0.888889\n",
       "4  RandomForest  0.895238  0.916031  0.921569   0.87037\n",
       "5           SVM   0.93578  0.946565  0.927273  0.944444"
      ]
     },
     "execution_count": 4,
     "metadata": {},
     "output_type": "execute_result"
    }
   ],
   "source": [
    "merit_df = pd.concat(merit_list, axis=1).T\n",
    "merit_df[['data','f1','accuracy','precision','recall']]"
   ]
  },
  {
   "cell_type": "markdown",
   "metadata": {
    "run_control": {
     "marked": true
    }
   },
   "source": [
    "## Question 2\n",
    "For each, draw the ROC curve and calculate the AUC.\n",
    "\n",
    "*AUC is calculated above*"
   ]
  },
  {
   "cell_type": "code",
   "execution_count": 5,
   "metadata": {
    "ExecuteTime": {
     "end_time": "2016-08-07T08:30:30.210608",
     "start_time": "2016-08-07T08:30:29.651313"
    },
    "collapsed": false,
    "run_control": {
     "marked": true
    }
   },
   "outputs": [
    {
     "data": {
      "image/png": "[encoded data removed]",
      "text/plain": [
       "<matplotlib.figure.Figure at 0x1181a6d90>"
      ]
     },
     "metadata": {},
     "output_type": "display_data"
    }
   ],
   "source": [
    "f = plt.figure()\n",
    "f.set_size_inches(7,5)\n",
    "ax = plt.axes()\n",
    "\n",
    "for idx,dat in merit_df.iterrows():\n",
    "    name = dat['data']\n",
    "    auc = dat['auc']\n",
    "    xdata = dat.roc_x\n",
    "    ydata = dat.roc_y\n",
    "    ax.plot(xdata,ydata,label='AUC {:.2f}, {}'.format(auc,name))\n",
    "    \n",
    "ax.legend(loc=0)\n",
    "_ = ax.set(xlabel='False Positive',ylabel='True Positive',title='ROC Curve')"
   ]
  },
  {
   "cell_type": "markdown",
   "metadata": {
    "run_control": {
     "marked": true
    }
   },
   "source": [
    "## Question 3\n",
    "Calculate the same metrics you did in challenge 1, but this time in a cross validation scheme with the cross_val_score function (like in Challenge 9)."
   ]
  },
  {
   "cell_type": "code",
   "execution_count": 6,
   "metadata": {
    "ExecuteTime": {
     "end_time": "2016-08-07T08:30:31.597906",
     "start_time": "2016-08-07T08:30:30.628234"
    },
    "collapsed": false,
    "run_control": {
     "marked": true
    }
   },
   "outputs": [],
   "source": [
    "cv_list = list()\n",
    "\n",
    "for model,name in zip([log, knn, tree, nb, rf[0], svc],\n",
    "                      ['Logistic','KNN','DecisionTree',\n",
    "                       'NaiveBayes','RandomForest',\n",
    "                       'SVM']):\n",
    "\n",
    "    accuracy = cross_val_score(model, train[vote_cols], train['party'], scoring='accuracy').mean()\n",
    "    precision = cross_val_score(model, train[vote_cols], recode(train['party']), scoring='precision').mean()\n",
    "    recall = cross_val_score(model, train[vote_cols], recode(train['party']), scoring='recall').mean()\n",
    "    f1 = cross_val_score(model, train[vote_cols], recode(train['party']), scoring='f1').mean()\n",
    "    \n",
    "    df = pd.Series({'label':name, 'accuracy':accuracy, 'precision':precision,\n",
    "                    'recall':recall, 'f1':f1})\n",
    "    cv_list.append(df)"
   ]
  },
  {
   "cell_type": "code",
   "execution_count": 7,
   "metadata": {
    "ExecuteTime": {
     "end_time": "2016-08-07T08:30:31.632417",
     "start_time": "2016-08-07T08:30:31.600168"
    },
    "collapsed": false
   },
   "outputs": [
    {
     "data": {
      "text/html": [
       "<div>\n",
       "<table border=\"1\" class=\"dataframe\">\n",
       "  <thead>\n",
       "    <tr style=\"text-align: right;\">\n",
       "      <th></th>\n",
       "      <th>label</th>\n",
       "      <th>accuracy</th>\n",
       "      <th>f1</th>\n",
       "      <th>precision</th>\n",
       "      <th>recall</th>\n",
       "    </tr>\n",
       "  </thead>\n",
       "  <tbody>\n",
       "    <tr>\n",
       "      <th>0</th>\n",
       "      <td>Logistic</td>\n",
       "      <td>0.95399</td>\n",
       "      <td>0.937552</td>\n",
       "      <td>0.949294</td>\n",
       "      <td>0.929825</td>\n",
       "    </tr>\n",
       "    <tr>\n",
       "      <th>1</th>\n",
       "      <td>KNN</td>\n",
       "      <td>0.917912</td>\n",
       "      <td>0.89715</td>\n",
       "      <td>0.85291</td>\n",
       "      <td>0.947368</td>\n",
       "    </tr>\n",
       "    <tr>\n",
       "      <th>2</th>\n",
       "      <td>DecisionTree</td>\n",
       "      <td>0.950689</td>\n",
       "      <td>0.926946</td>\n",
       "      <td>0.915961</td>\n",
       "      <td>0.95614</td>\n",
       "    </tr>\n",
       "    <tr>\n",
       "      <th>3</th>\n",
       "      <td>NaiveBayes</td>\n",
       "      <td>0.937617</td>\n",
       "      <td>0.918526</td>\n",
       "      <td>0.899359</td>\n",
       "      <td>0.938596</td>\n",
       "    </tr>\n",
       "    <tr>\n",
       "      <th>4</th>\n",
       "      <td>RandomForest</td>\n",
       "      <td>0.957257</td>\n",
       "      <td>0.944231</td>\n",
       "      <td>0.93198</td>\n",
       "      <td>0.973684</td>\n",
       "    </tr>\n",
       "    <tr>\n",
       "      <th>5</th>\n",
       "      <td>SVM</td>\n",
       "      <td>0.960623</td>\n",
       "      <td>0.949763</td>\n",
       "      <td>0.920326</td>\n",
       "      <td>0.982456</td>\n",
       "    </tr>\n",
       "  </tbody>\n",
       "</table>\n",
       "</div>"
      ],
      "text/plain": [
       "          label  accuracy        f1 precision    recall\n",
       "0      Logistic   0.95399  0.937552  0.949294  0.929825\n",
       "1           KNN  0.917912   0.89715   0.85291  0.947368\n",
       "2  DecisionTree  0.950689  0.926946  0.915961   0.95614\n",
       "3    NaiveBayes  0.937617  0.918526  0.899359  0.938596\n",
       "4  RandomForest  0.957257  0.944231   0.93198  0.973684\n",
       "5           SVM  0.960623  0.949763  0.920326  0.982456"
      ]
     },
     "execution_count": 7,
     "metadata": {},
     "output_type": "execute_result"
    }
   ],
   "source": [
    "pd.concat(cv_list, axis=1).T[['label','accuracy','f1','precision','recall']]"
   ]
  },
  {
   "cell_type": "markdown",
   "metadata": {
    "run_control": {
     "marked": true
    }
   },
   "source": [
    "## Question 4\n",
    "For your movie classifiers, calculate the precision and recall for each class."
   ]
  },
  {
   "cell_type": "code",
   "execution_count": 20,
   "metadata": {
    "ExecuteTime": {
     "end_time": "2016-08-07T08:38:27.626376",
     "start_time": "2016-08-07T08:38:27.446470"
    },
    "collapsed": false
   },
   "outputs": [
    {
     "name": "stderr",
     "output_type": "stream",
     "text": [
      "/Volumes/Files/miniconda/envs/scienv2/lib/python2.7/site-packages/ipykernel/__main__.py:9: SettingWithCopyWarning: \n",
      "A value is trying to be set on a copy of a slice from a DataFrame.\n",
      "Try using .loc[row_indexer,col_indexer] = value instead\n",
      "\n",
      "See the caveats in the documentation: http://pandas.pydata.org/pandas-docs/stable/indexing.html#indexing-view-versus-copy\n",
      "/Volumes/Files/miniconda/envs/scienv2/lib/python2.7/site-packages/ipykernel/__main__.py:10: SettingWithCopyWarning: \n",
      "A value is trying to be set on a copy of a slice from a DataFrame.\n",
      "Try using .loc[row_indexer,col_indexer] = value instead\n",
      "\n",
      "See the caveats in the documentation: http://pandas.pydata.org/pandas-docs/stable/indexing.html#indexing-view-versus-copy\n"
     ]
    }
   ],
   "source": [
    "movies = pd.read_csv('../../../challenges_data/2013_movies.csv').dropna()\n",
    "\n",
    "feat_cols = ['Budget', 'DomesticTotalGross', 'Runtime']\n",
    "movies[feat_cols] = Normalizer().fit_transform(movies[feat_cols])\n",
    "\n",
    "mtrain, mtest = train_test_split(movies, test_size=0.3, random_state=4444)\n",
    "\n",
    "conv_dict = {'PG':0, 'PG-13':1, 'R':2}\n",
    "mtrain['Rating'] = mtrain.Rating.apply(lambda x: conv_dict[x])\n",
    "mtest['Rating']  = mtest.Rating.apply(lambda x: conv_dict[x])\n",
    "\n",
    "Ytest = mtest['Rating']"
   ]
  },
  {
   "cell_type": "code",
   "execution_count": 26,
   "metadata": {
    "ExecuteTime": {
     "end_time": "2016-08-07T08:42:38.557400",
     "start_time": "2016-08-07T08:42:38.488549"
    },
    "collapsed": false,
    "scrolled": true
   },
   "outputs": [],
   "source": [
    "from sklearn.multiclass import OneVsRestClassifier\n",
    "from sklearn.metrics import precision_recall_fscore_support\n",
    "\n",
    "from sklearn.linear_model import LogisticRegression\n",
    "from sklearn.neighbors import KNeighborsClassifier\n",
    "\n",
    "# Logistic multiclass\n",
    "LR = OneVsRestClassifier(LogisticRegression())\n",
    "LR.fit(mtrain[feat_cols], mtrain['Rating'])\n",
    "\n",
    "Ypred = LR.predict(mtest[feat_cols])\n",
    "\n",
    "pr_list = list()\n",
    "df = pd.DataFrame(dict(zip(['precision','recall','fbeta','support'], \n",
    "                      precision_recall_fscore_support(Ytest, Ypred))))\n",
    "df['label'] = ['PG', 'PG-13', 'R']\n",
    "df['name'] = 'Logistic'\n",
    "\n",
    "pr_list.append(df)\n",
    "\n",
    "\n",
    "# KNN\n",
    "KNN = OneVsRestClassifier(KNeighborsClassifier(n_neighbors=5))\n",
    "KNN.fit(mtrain[feat_cols], mtrain['Rating'])\n",
    "\n",
    "Ypred = KNN.predict(mtest[feat_cols])\n",
    "\n",
    "df = pd.DataFrame(dict(zip(['precision','recall','fbeta','support'], \n",
    "                      precision_recall_fscore_support(Ytest, Ypred))))\n",
    "df['label'] = ['PG', 'PG-13', 'R']\n",
    "df['name'] = 'KNN'\n",
    "\n",
    "pr_list.append(df)"
   ]
  },
  {
   "cell_type": "code",
   "execution_count": 30,
   "metadata": {
    "ExecuteTime": {
     "end_time": "2016-08-07T08:43:10.281598",
     "start_time": "2016-08-07T08:43:10.251779"
    },
    "collapsed": false
   },
   "outputs": [
    {
     "data": {
      "text/html": [
       "<div>\n",
       "<table border=\"1\" class=\"dataframe\">\n",
       "  <thead>\n",
       "    <tr style=\"text-align: right;\">\n",
       "      <th></th>\n",
       "      <th></th>\n",
       "      <th>fbeta</th>\n",
       "      <th>precision</th>\n",
       "      <th>recall</th>\n",
       "      <th>support</th>\n",
       "    </tr>\n",
       "    <tr>\n",
       "      <th>name</th>\n",
       "      <th>label</th>\n",
       "      <th></th>\n",
       "      <th></th>\n",
       "      <th></th>\n",
       "      <th></th>\n",
       "    </tr>\n",
       "  </thead>\n",
       "  <tbody>\n",
       "    <tr>\n",
       "      <th rowspan=\"3\" valign=\"top\">Logistic</th>\n",
       "      <th>PG</th>\n",
       "      <td>0.000000</td>\n",
       "      <td>0.000000</td>\n",
       "      <td>0.000000</td>\n",
       "      <td>5</td>\n",
       "    </tr>\n",
       "    <tr>\n",
       "      <th>PG-13</th>\n",
       "      <td>0.400000</td>\n",
       "      <td>0.315789</td>\n",
       "      <td>0.545455</td>\n",
       "      <td>11</td>\n",
       "    </tr>\n",
       "    <tr>\n",
       "      <th>R</th>\n",
       "      <td>0.315789</td>\n",
       "      <td>0.375000</td>\n",
       "      <td>0.272727</td>\n",
       "      <td>11</td>\n",
       "    </tr>\n",
       "    <tr>\n",
       "      <th rowspan=\"3\" valign=\"top\">KNN</th>\n",
       "      <th>PG</th>\n",
       "      <td>0.000000</td>\n",
       "      <td>0.000000</td>\n",
       "      <td>0.000000</td>\n",
       "      <td>5</td>\n",
       "    </tr>\n",
       "    <tr>\n",
       "      <th>PG-13</th>\n",
       "      <td>0.500000</td>\n",
       "      <td>0.461538</td>\n",
       "      <td>0.545455</td>\n",
       "      <td>11</td>\n",
       "    </tr>\n",
       "    <tr>\n",
       "      <th>R</th>\n",
       "      <td>0.560000</td>\n",
       "      <td>0.500000</td>\n",
       "      <td>0.636364</td>\n",
       "      <td>11</td>\n",
       "    </tr>\n",
       "  </tbody>\n",
       "</table>\n",
       "</div>"
      ],
      "text/plain": [
       "                   fbeta  precision    recall  support\n",
       "name     label                                        \n",
       "Logistic PG     0.000000   0.000000  0.000000        5\n",
       "         PG-13  0.400000   0.315789  0.545455       11\n",
       "         R      0.315789   0.375000  0.272727       11\n",
       "KNN      PG     0.000000   0.000000  0.000000        5\n",
       "         PG-13  0.500000   0.461538  0.545455       11\n",
       "         R      0.560000   0.500000  0.636364       11"
      ]
     },
     "execution_count": 30,
     "metadata": {},
     "output_type": "execute_result"
    }
   ],
   "source": [
    "pd.concat(pr_list, axis=0).set_index(['name','label'])"
   ]
  },
  {
   "cell_type": "markdown",
   "metadata": {},
   "source": [
    "## Question 5\n",
    "Draw the ROC curve (and calculate AUC) for the logistic regression classifier from challenge 12."
   ]
  },
  {
   "cell_type": "code",
   "execution_count": 90,
   "metadata": {
    "ExecuteTime": {
     "end_time": "2016-08-07T08:13:26.073480",
     "start_time": "2016-08-07T08:13:26.052461"
    },
    "collapsed": false
   },
   "outputs": [],
   "source": [
    "with open('../../05-classification/michelle/LR_haberman.pkl','r') as fh:\n",
    "    LR = pickle.load(fh)\n",
    "    \n",
    "train = pd.read_pickle('../../05-classification/michelle/haberman_train.pkl')\n",
    "test = pd.read_pickle('../../05-classification/michelle/haberman_test.pkl')\n",
    "\n",
    "train['survival'] -= 1\n",
    "test['survival'] -= 1\n",
    "\n",
    "\n",
    "Ytest = test['survival']\n",
    "Ypred = LR.predict(test[['age_op','year_op','num_nodes']])\n",
    "Ypred_plot = LR.predict_proba(test[['age_op','year_op','num_nodes']])[:,1]\n",
    "\n",
    "auc = roc_auc_score(Ytest, Ypred_plot)\n",
    "\n",
    "xdata, ydata, _ = roc_curve(Ytest, Ypred_plot)"
   ]
  },
  {
   "cell_type": "code",
   "execution_count": 91,
   "metadata": {
    "ExecuteTime": {
     "end_time": "2016-08-07T08:13:27.572103",
     "start_time": "2016-08-07T08:13:27.298835"
    },
    "collapsed": false
   },
   "outputs": [
    {
     "data": {
      "image/png": "[encoded data removed]",
      "text/plain": [
       "<matplotlib.figure.Figure at 0x11a82fc10>"
      ]
     },
     "metadata": {},
     "output_type": "display_data"
    }
   ],
   "source": [
    "f = plt.figure()\n",
    "f.set_size_inches(7, 5)\n",
    "ax = plt.axes()\n",
    "\n",
    "ax.plot(xdata, ydata)\n",
    "    \n",
    "ax.legend(loc=0)\n",
    "_ = ax.set(xlabel='False Positive', \n",
    "           ylabel='True Positive', \n",
    "           title='ROC Curve')"
   ]
  }
 ],
 "metadata": {
  "kernelspec": {
   "display_name": "Python 2",
   "language": "python",
   "name": "python2"
  },
  "language_info": {
   "codemirror_mode": {
    "name": "ipython",
    "version": 2
   },
   "file_extension": ".py",
   "mimetype": "text/x-python",
   "name": "python",
   "nbconvert_exporter": "python",
   "pygments_lexer": "ipython2",
   "version": "2.7.12"
  }
 },
 "nbformat": 4,
 "nbformat_minor": 0
}
