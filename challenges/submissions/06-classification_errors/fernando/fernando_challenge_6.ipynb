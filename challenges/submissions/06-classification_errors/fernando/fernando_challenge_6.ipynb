{
 "cells": [
  {
   "cell_type": "code",
   "execution_count": 34,
   "metadata": {
    "collapsed": true
   },
   "outputs": [],
   "source": [
    "import pandas as pd\n",
    "import numpy as np\n",
    "import matplotlib.pyplot as plt\n",
    "\n",
    "%matplotlib inline"
   ]
  },
  {
   "cell_type": "code",
   "execution_count": 35,
   "metadata": {
    "collapsed": true
   },
   "outputs": [],
   "source": [
    "data = pd.read_csv('house-votes-84.data.csv', header = None)\n",
    "data = data.replace('y', 1)\n",
    "data = data.replace('n', 0)\n",
    "\n",
    "for column in data.columns[:-2]:\n",
    "    data[column] = data[column].replace('?', np.mean(data[column][data[column] != '?']))\n",
    "    \n",
    "data[16] = data[16].apply(lambda x: x.replace('.', ''))"
   ]
  },
  {
   "cell_type": "code",
   "execution_count": 72,
   "metadata": {
    "collapsed": false
   },
   "outputs": [],
   "source": [
    "from sklearn.cross_validation import train_test_split\n",
    "\n",
    "X, y = data[data.columns[:-2]], data[data.columns[-1]]\n",
    "\n",
    "X_train, X_test, y_train, y_test = train_test_split(X,y)\n",
    "y_train = [1 if i == 'democrat' else 0 for i in y_train]\n",
    "y_test = [1 if i == 'democrat' else 0 for i in y_test]"
   ]
  },
  {
   "cell_type": "code",
   "execution_count": 93,
   "metadata": {
    "collapsed": false
   },
   "outputs": [],
   "source": [
    "\n",
    "\n",
    "from sklearn import neighbors, metrics, ensemble\n",
    "from sklearn.linear_model import LogisticRegression\n",
    "from sklearn.naive_bayes import GaussianNB\n",
    "\n",
    "knn_clf = neighbors.KNeighborsClassifier(n_neighbors=6)\n",
    "knn_clf.fit(X_train, y_train)\n",
    "knn_pred = knn_clf.predict(X_test)\n",
    "knn_y_pred = knn_clf.predict_proba(X_test)[:,1]\n",
    "\n",
    "\n",
    "log_clf = LogisticRegression()\n",
    "log_clf.fit(X_train, y_train)\n",
    "log_pred = log_clf.predict(X_test)\n",
    "log_y_pred = log_clf.predict_proba(X_test)[:,1]\n",
    "\n",
    "bayes_clf = GaussianNB()\n",
    "bayes_clf.fit(X_train, y_train)\n",
    "bayes_pred = bayes_clf.predict(X_test)\n",
    "bayes_y_pred = bayes_clf.predict_proba(X_test)[:,1]\n",
    "\n",
    "tree_clf = ensemble.RandomForestClassifier()\n",
    "tree_clf.fit(X_train, y_train)\n",
    "tree_pred = tree_clf.predict(X_test)\n",
    "tree_y_pred = tree_clf.predict_proba(X_test)[:,1]"
   ]
  },
  {
   "cell_type": "code",
   "execution_count": 94,
   "metadata": {
    "collapsed": false
   },
   "outputs": [
    {
     "name": "stdout",
     "output_type": "stream",
     "text": [
      "             precision    recall  f1-score   support\n",
      "\n",
      "          0       0.97      0.90      0.94        40\n",
      "          1       0.94      0.99      0.96        69\n",
      "\n",
      "avg / total       0.95      0.95      0.95       109\n",
      "\n",
      "             precision    recall  f1-score   support\n",
      "\n",
      "          0       0.95      0.97      0.96        36\n",
      "          1       0.99      0.97      0.98        73\n",
      "\n",
      "avg / total       0.97      0.97      0.97       109\n",
      "\n",
      "             precision    recall  f1-score   support\n",
      "\n",
      "          0       0.95      0.95      0.95        37\n",
      "          1       0.97      0.97      0.97        72\n",
      "\n",
      "avg / total       0.96      0.96      0.96       109\n",
      "\n",
      "             precision    recall  f1-score   support\n",
      "\n",
      "          0       0.97      0.95      0.96        38\n",
      "          1       0.97      0.99      0.98        71\n",
      "\n",
      "avg / total       0.97      0.97      0.97       109\n",
      "\n"
     ]
    }
   ],
   "source": [
    "print metrics.classification_report(knn_pred, y_test)\n",
    "print metrics.classification_report(log_pred, y_test)\n",
    "print metrics.classification_report(bayes_pred, y_test)\n",
    "print metrics.classification_report(tree_pred, y_test)"
   ]
  },
  {
   "cell_type": "code",
   "execution_count": 95,
   "metadata": {
    "collapsed": false
   },
   "outputs": [],
   "source": [
    "from sklearn.metrics import roc_curve, auc\n",
    "\n",
    "fpr, tpr, _ = roc_curve(y_test, bayes_y_pred)\n",
    "roc_auc = auc(fpr, tpr)"
   ]
  },
  {
   "cell_type": "code",
   "execution_count": 124,
   "metadata": {
    "collapsed": false
   },
   "outputs": [
    {
     "data": {
      "image/png": "[encoded data removed]",
      "text/plain": [
       "<matplotlib.figure.Figure at 0x11d25c210>"
      ]
     },
     "metadata": {},
     "output_type": "display_data"
    }
   ],
   "source": [
    "preds = [knn_y_pred, bayes_y_pred, log_y_pred, tree_y_pred]\n",
    "names = ['knn', 'bayes', 'log', 'random_forrest']\n",
    "for i, pred in enumerate(preds):\n",
    "    fpr, tpr, _ = roc_curve(y_test, pred)\n",
    "    plt.plot(fpr,tpr, label = names[i])\n",
    "g = plt.title('ROC Curve')\n",
    "g.figure.set_size_inches(7,7)\n",
    "plt.plot([0,1],[0,1], '--', label = 'baseline')\n",
    "plt.legend(bbox_to_anchor=(1, 1), loc=2, borderaxespad=0.)\n",
    "plt.show()"
   ]
  },
  {
   "cell_type": "code",
   "execution_count": 131,
   "metadata": {
    "collapsed": false
   },
   "outputs": [
    {
     "name": "stdout",
     "output_type": "stream",
     "text": [
      "knn\n",
      "Precision: 0.97267759562841538\n",
      "Recall: 0.89743589743589747\n",
      "F1 Score: 0.93341076267905543\n",
      "-------------\n",
      "bayes\n",
      "Precision: 0.97299475013290804\n",
      "Recall: 0.93846153846153857\n",
      "F1 Score: 0.95084660421115308\n",
      "-------------\n",
      "log\n",
      "Precision: 0.9638573232323232\n",
      "Recall: 0.95897435897435901\n",
      "F1 Score: 0.96135866027575589\n",
      "-------------\n",
      "random_forrest\n",
      "Precision: 0.94853294853294867\n",
      "Recall: 0.94871794871794879\n",
      "F1 Score: 0.94851304071246811\n",
      "-------------\n"
     ]
    }
   ],
   "source": [
    "from sklearn.cross_validation import cross_val_scores\n",
    "clfs = [knn_clf, tree_clf, log_clf, bayes_clf]\n",
    "\n",
    "for i, clf in enumerate(clfs):\n",
    "    print names[i]\n",
    "    print \"Precision: %r\" %np.mean(cross_val_score(clf, X_train, y_train, scoring = 'precision'))\n",
    "    print \"Recall: %r\" %np.mean(cross_val_score(clf, X_train, y_train, scoring = 'recall'))\n",
    "    print \"F1 Score: %r\" %np.mean(cross_val_score(clf, X_train, y_train, scoring = 'f1'))\n",
    "    print '-------------'"
   ]
  },
  {
   "cell_type": "code",
   "execution_count": 159,
   "metadata": {
    "collapsed": true
   },
   "outputs": [],
   "source": [
    "movies = pd.read_csv('2013_movies.csv')\n",
    "movies = movies.dropna()\n",
    "movies.columns = [column.lower() for column in movies.columns]"
   ]
  },
  {
   "cell_type": "code",
   "execution_count": 160,
   "metadata": {
    "collapsed": false
   },
   "outputs": [
    {
     "data": {
      "text/html": [
       "<div>\n",
       "<table border=\"1\" class=\"dataframe\">\n",
       "  <thead>\n",
       "    <tr style=\"text-align: right;\">\n",
       "      <th></th>\n",
       "      <th>title</th>\n",
       "      <th>budget</th>\n",
       "      <th>domestictotalgross</th>\n",
       "      <th>director</th>\n",
       "      <th>rating</th>\n",
       "      <th>runtime</th>\n",
       "      <th>releasedate</th>\n",
       "    </tr>\n",
       "  </thead>\n",
       "  <tbody>\n",
       "    <tr>\n",
       "      <th>0</th>\n",
       "      <td>The Hunger Games: Catching Fire</td>\n",
       "      <td>130000000.0</td>\n",
       "      <td>424668047</td>\n",
       "      <td>Francis Lawrence</td>\n",
       "      <td>PG-13</td>\n",
       "      <td>146</td>\n",
       "      <td>2013-11-22 00:00:00</td>\n",
       "    </tr>\n",
       "    <tr>\n",
       "      <th>1</th>\n",
       "      <td>Iron Man 3</td>\n",
       "      <td>200000000.0</td>\n",
       "      <td>409013994</td>\n",
       "      <td>Shane Black</td>\n",
       "      <td>PG-13</td>\n",
       "      <td>129</td>\n",
       "      <td>2013-05-03 00:00:00</td>\n",
       "    </tr>\n",
       "    <tr>\n",
       "      <th>2</th>\n",
       "      <td>Frozen</td>\n",
       "      <td>150000000.0</td>\n",
       "      <td>400738009</td>\n",
       "      <td>Chris BuckJennifer Lee</td>\n",
       "      <td>PG</td>\n",
       "      <td>108</td>\n",
       "      <td>2013-11-22 00:00:00</td>\n",
       "    </tr>\n",
       "    <tr>\n",
       "      <th>3</th>\n",
       "      <td>Despicable Me 2</td>\n",
       "      <td>76000000.0</td>\n",
       "      <td>368061265</td>\n",
       "      <td>Pierre CoffinChris Renaud</td>\n",
       "      <td>PG</td>\n",
       "      <td>98</td>\n",
       "      <td>2013-07-03 00:00:00</td>\n",
       "    </tr>\n",
       "    <tr>\n",
       "      <th>4</th>\n",
       "      <td>Man of Steel</td>\n",
       "      <td>225000000.0</td>\n",
       "      <td>291045518</td>\n",
       "      <td>Zack Snyder</td>\n",
       "      <td>PG-13</td>\n",
       "      <td>143</td>\n",
       "      <td>2013-06-14 00:00:00</td>\n",
       "    </tr>\n",
       "  </tbody>\n",
       "</table>\n",
       "</div>"
      ],
      "text/plain": [
       "                             title       budget  domestictotalgross  \\\n",
       "0  The Hunger Games: Catching Fire  130000000.0           424668047   \n",
       "1                       Iron Man 3  200000000.0           409013994   \n",
       "2                           Frozen  150000000.0           400738009   \n",
       "3                  Despicable Me 2   76000000.0           368061265   \n",
       "4                     Man of Steel  225000000.0           291045518   \n",
       "\n",
       "                    director rating  runtime          releasedate  \n",
       "0           Francis Lawrence  PG-13      146  2013-11-22 00:00:00  \n",
       "1                Shane Black  PG-13      129  2013-05-03 00:00:00  \n",
       "2     Chris BuckJennifer Lee     PG      108  2013-11-22 00:00:00  \n",
       "3  Pierre CoffinChris Renaud     PG       98  2013-07-03 00:00:00  \n",
       "4                Zack Snyder  PG-13      143  2013-06-14 00:00:00  "
      ]
     },
     "execution_count": 160,
     "metadata": {},
     "output_type": "execute_result"
    }
   ],
   "source": [
    "movies.head()"
   ]
  },
  {
   "cell_type": "code",
   "execution_count": 161,
   "metadata": {
    "collapsed": false
   },
   "outputs": [],
   "source": [
    "y, X = movies['rating'], movies[['budget', 'runtime']]"
   ]
  },
  {
   "cell_type": "code",
   "execution_count": 175,
   "metadata": {
    "collapsed": true
   },
   "outputs": [],
   "source": [
    "X_train, X_test, y_train, y_test = train_test_split(X, y, test_size=.30, random_state=4444)"
   ]
  },
  {
   "cell_type": "code",
   "execution_count": 176,
   "metadata": {
    "collapsed": false
   },
   "outputs": [
    {
     "name": "stdout",
     "output_type": "stream",
     "text": [
      "Precision Score is 0.391358024691358 and Recall is 0.37037037037037035\n"
     ]
    },
    {
     "name": "stderr",
     "output_type": "stream",
     "text": [
      "/Users/Fernanhid/anaconda/lib/python2.7/site-packages/sklearn/metrics/classification.py:1203: DeprecationWarning: The default `weighted` averaging is deprecated, and from version 0.18, use of precision, recall or F-score with multiclass or multilabel data or pos_label=None will result in an exception. Please set an explicit value for `average`, one of (None, 'micro', 'macro', 'weighted', 'samples'). In cross validation use, for instance, scoring=\"f1_weighted\" instead of scoring=\"f1\".\n",
      "  sample_weight=sample_weight)\n",
      "/Users/Fernanhid/anaconda/lib/python2.7/site-packages/sklearn/metrics/classification.py:1304: DeprecationWarning: The default `weighted` averaging is deprecated, and from version 0.18, use of precision, recall or F-score with multiclass or multilabel data or pos_label=None will result in an exception. Please set an explicit value for `average`, one of (None, 'micro', 'macro', 'weighted', 'samples'). In cross validation use, for instance, scoring=\"f1_weighted\" instead of scoring=\"f1\".\n",
      "  sample_weight=sample_weight)\n"
     ]
    }
   ],
   "source": [
    "\n",
    "tree_model = ensemble.RandomForestClassifier()\n",
    "tree_model.fit(X_train, y_train)\n",
    "pre_score = metrics.precision_score(y_test, tree_model.predict(X_test))\n",
    "re_score = metrics.recall_score(y_test, tree_model.predict(X_test))\n",
    "\n",
    "print 'Precision Score is %r and Recall is %r'% (pre_score, re_score)"
   ]
  },
  {
   "cell_type": "code",
   "execution_count": null,
   "metadata": {
    "collapsed": true
   },
   "outputs": [],
   "source": []
  }
 ],
 "metadata": {
  "kernelspec": {
   "display_name": "Python 2",
   "language": "python",
   "name": "python2"
  },
  "language_info": {
   "codemirror_mode": {
    "name": "ipython",
    "version": 2
   },
   "file_extension": ".py",
   "mimetype": "text/x-python",
   "name": "python",
   "nbconvert_exporter": "python",
   "pygments_lexer": "ipython2",
   "version": "2.7.12"
  }
 },
 "nbformat": 4,
 "nbformat_minor": 0
}
