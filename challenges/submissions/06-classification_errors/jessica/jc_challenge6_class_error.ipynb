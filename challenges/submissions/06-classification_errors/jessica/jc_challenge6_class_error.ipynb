{
 "cells": [
  {
   "cell_type": "markdown",
   "metadata": {},
   "source": [
    "|Challenge Set 6|\n",
    "|--------------|\n",
    "|Name|Jessica Cox|\n",
    "|Date|August,1 2016|\n",
    "|Topic|Classification Error|"
   ]
  },
  {
   "cell_type": "code",
   "execution_count": 23,
   "metadata": {
    "collapsed": true
   },
   "outputs": [],
   "source": [
    "import pandas as pd\n",
    "%matplotlib inline\n",
    "from datetime import date\n",
    "import matplotlib.pyplot as plt\n",
    "import seaborn as sns\n",
    "import numpy as np\n",
    "from patsy import dmatrices\n",
    "import statsmodels.api as sm\n",
    "\n",
    "from patsy import dmatrices\n",
    "\n",
    "from sklearn import linear_model as lm\n",
    "from sklearn.linear_model import LogisticRegression\n",
    "from sklearn import cross_validation\n",
    "from sklearn import metrics\n",
    "from sklearn.metrics import confusion_matrix\n",
    "from sklearn.naive_bayes import GaussianNB\n",
    "from sklearn.svm import SVC\n",
    "from sklearn.tree import DecisionTreeClassifier\n",
    "from sklearn.ensemble import RandomForestClassifier"
   ]
  },
  {
   "cell_type": "code",
   "execution_count": 2,
   "metadata": {
    "collapsed": false
   },
   "outputs": [
    {
     "name": "stdout",
     "output_type": "stream",
     "text": [
      "  % Total    % Received % Xferd  Average Speed   Time    Time     Time  Current\n",
      "                                 Dload  Upload   Total   Spent    Left  Speed\n",
      "100 18171  100 18171    0     0  16773      0  0:00:01  0:00:01 --:--:-- 16793\n"
     ]
    }
   ],
   "source": [
    "!curl -O 'https://archive.ics.uci.edu/ml/machine-learning-databases/voting-records/house-votes-84.data'"
   ]
  },
  {
   "cell_type": "code",
   "execution_count": 88,
   "metadata": {
    "collapsed": true
   },
   "outputs": [],
   "source": [
    "file = 'house-votes-84.data'\n",
    "f = pd.read_csv(file, header = None)"
   ]
  },
  {
   "cell_type": "code",
   "execution_count": 89,
   "metadata": {
    "collapsed": true
   },
   "outputs": [],
   "source": [
    "columns = ['party', '1', '2', '3', '4', '5', '6', '7', \n",
    "          '8', '9', '10', '11', '12', '13', '14', '15',\n",
    "          '16']"
   ]
  },
  {
   "cell_type": "code",
   "execution_count": 90,
   "metadata": {
    "collapsed": true
   },
   "outputs": [],
   "source": [
    "f.columns = columns"
   ]
  },
  {
   "cell_type": "code",
   "execution_count": 91,
   "metadata": {
    "collapsed": true
   },
   "outputs": [],
   "source": [
    "f.replace('y', 1, inplace = True)\n",
    "f.replace('n', 0, inplace = True)\n",
    "f.replace('republican', 1, inplace = True)\n",
    "f.replace('democrat', 0, inplace = True)"
   ]
  },
  {
   "cell_type": "code",
   "execution_count": 92,
   "metadata": {
    "collapsed": false
   },
   "outputs": [],
   "source": [
    "for col in f.columns[f.columns != 'party']:\n",
    "    f[col] = f[col].replace('?', np.mean(f[col][f[col] != '?']))"
   ]
  },
  {
   "cell_type": "code",
   "execution_count": 93,
   "metadata": {
    "collapsed": true
   },
   "outputs": [],
   "source": [
    "from sklearn.cross_validation import train_test_split"
   ]
  },
  {
   "cell_type": "code",
   "execution_count": 94,
   "metadata": {
    "collapsed": true
   },
   "outputs": [],
   "source": [
    "y, X = np.ravel(f[['party']]), f.drop(['party'], axis=1)\n",
    "X_train, X_test, y_train, y_test = train_test_split(X, y, \n",
    "                                                    test_size=0.30, \n",
    "                                                    random_state=4444)"
   ]
  },
  {
   "cell_type": "markdown",
   "metadata": {},
   "source": [
    "# Challenge 1  "
   ]
  },
  {
   "cell_type": "code",
   "execution_count": 119,
   "metadata": {
    "collapsed": false
   },
   "outputs": [],
   "source": [
    "from sklearn.neighbors import KNeighborsClassifier\n",
    "from sklearn.metrics import accuracy_score\n",
    "from sklearn.metrics import precision_score\n",
    "from sklearn.metrics import recall_score\n",
    "from sklearn.metrics import f1_score\n",
    "from sklearn.metrics import roc_curve\n",
    "from sklearn.metrics import roc_auc_score"
   ]
  },
  {
   "cell_type": "code",
   "execution_count": 120,
   "metadata": {
    "collapsed": false
   },
   "outputs": [
    {
     "name": "stdout",
     "output_type": "stream",
     "text": [
      "Logistic Regression\n",
      "Test Data Accuracy:  0.94\n",
      "Test Precision Score:    0.96\n",
      "Test Recall Score:    0.89\n",
      "F1 Score:    0.92\n"
     ]
    }
   ],
   "source": [
    "print(\"Logistic Regression\")\n",
    "\n",
    "model = LogisticRegression()\n",
    "model.fit(X_train, y_train) \n",
    "\n",
    "print(\"Test Data Accuracy:  %0.2f\" %(accuracy_score(y_test, model.predict(X_test))))\n",
    "print(\"Test Precision Score:    %0.2f\" %(precision_score(y_test, model.predict(X_test))))\n",
    "print(\"Test Recall Score:    %0.2f\" %(recall_score(y_test, model.predict(X_test))))\n",
    "print(\"F1 Score:    %0.2f\" %(f1_score(y_test, model.predict(X_test))))\n"
   ]
  },
  {
   "cell_type": "code",
   "execution_count": 100,
   "metadata": {
    "collapsed": false
   },
   "outputs": [
    {
     "name": "stdout",
     "output_type": "stream",
     "text": [
      "KNN = 6\n",
      "Test Data Accuracy:  0.93\n",
      "Test Precision Score:    0.94\n",
      "Test Recall Score:    0.89\n",
      "F1 Score:    0.91\n"
     ]
    }
   ],
   "source": [
    "print(\"KNN = 6\")\n",
    "\n",
    "model = KNeighborsClassifier(n_neighbors=6)\n",
    "model.fit(X_train, y_train) \n",
    "\n",
    "print(\"Test Data Accuracy:  %0.2f\" %(accuracy_score(y_test, model.predict(X_test))))\n",
    "print(\"Test Precision Score:    %0.2f\" %(precision_score(y_test, model.predict(X_test))))\n",
    "print(\"Test Recall Score:    %0.2f\" %(recall_score(y_test, model.predict(X_test))))\n",
    "print(\"F1 Score:    %0.2f\" %(f1_score(y_test, model.predict(X_test))))\n"
   ]
  },
  {
   "cell_type": "code",
   "execution_count": 102,
   "metadata": {
    "collapsed": false
   },
   "outputs": [
    {
     "name": "stdout",
     "output_type": "stream",
     "text": [
      "Gaussian Naive Bayes\n",
      "Test Data Accuracy:  0.94\n",
      "Test Precision Score:    0.98\n",
      "Test Recall Score:    0.87\n",
      "F1 Score:    0.92\n"
     ]
    }
   ],
   "source": [
    "print(\"Gaussian Naive Bayes\")\n",
    "\n",
    "model = GaussianNB()\n",
    "model.fit(X_train, y_train) \n",
    "\n",
    "print(\"Test Data Accuracy:  %0.2f\" %(accuracy_score(y_test, model.predict(X_test))))\n",
    "print(\"Test Precision Score:    %0.2f\" %(precision_score(y_test, model.predict(X_test))))\n",
    "print(\"Test Recall Score:    %0.2f\" %(recall_score(y_test, model.predict(X_test))))\n",
    "print(\"F1 Score:    %0.2f\" %(f1_score(y_test, model.predict(X_test))))\n"
   ]
  },
  {
   "cell_type": "code",
   "execution_count": 104,
   "metadata": {
    "collapsed": false
   },
   "outputs": [
    {
     "name": "stdout",
     "output_type": "stream",
     "text": [
      "SVC\n",
      "Test Data Accuracy:  0.95\n",
      "Test Precision Score:    0.96\n",
      "Test Recall Score:    0.93\n",
      "F1 Score:    0.94\n"
     ]
    }
   ],
   "source": [
    "print(\"SVC\")\n",
    "\n",
    "model = SVC()\n",
    "model.fit(X_train, y_train) \n",
    "\n",
    "print(\"Test Data Accuracy:  %0.2f\" %(accuracy_score(y_test, model.predict(X_test))))\n",
    "print(\"Test Precision Score:    %0.2f\" %(precision_score(y_test, model.predict(X_test))))\n",
    "print(\"Test Recall Score:    %0.2f\" %(recall_score(y_test, model.predict(X_test))))\n",
    "print(\"F1 Score:    %0.2f\" %(f1_score(y_test, model.predict(X_test))))\n"
   ]
  },
  {
   "cell_type": "code",
   "execution_count": 106,
   "metadata": {
    "collapsed": false
   },
   "outputs": [
    {
     "name": "stdout",
     "output_type": "stream",
     "text": [
      "Decision Tree Classifier\n",
      "Test Data Accuracy:  0.95\n",
      "Test Precision Score:    0.96\n",
      "Test Recall Score:    0.91\n",
      "F1 Score:    0.93\n"
     ]
    }
   ],
   "source": [
    "print(\"Decision Tree Classifier\")\n",
    "\n",
    "model = DecisionTreeClassifier()\n",
    "model.fit(X_train, y_train) \n",
    "\n",
    "print(\"Test Data Accuracy:  %0.2f\" %(accuracy_score(y_test, model.predict(X_test))))\n",
    "print(\"Test Precision Score:    %0.2f\" %(precision_score(y_test, model.predict(X_test))))\n",
    "print(\"Test Recall Score:    %0.2f\" %(recall_score(y_test, model.predict(X_test))))\n",
    "print(\"F1 Score:    %0.2f\" %(f1_score(y_test, model.predict(X_test))))\n"
   ]
  },
  {
   "cell_type": "code",
   "execution_count": 107,
   "metadata": {
    "collapsed": false
   },
   "outputs": [
    {
     "name": "stdout",
     "output_type": "stream",
     "text": [
      "Random Forest Classifier\n",
      "Test Data Accuracy:  0.95\n",
      "Test Precision Score:    0.98\n",
      "Test Recall Score:    0.89\n",
      "F1 Score:    0.93\n"
     ]
    }
   ],
   "source": [
    "print(\"Random Forest Classifier\")\n",
    "\n",
    "model = RandomForestClassifier()\n",
    "model.fit(X_train, y_train) \n",
    "\n",
    "print(\"Test Data Accuracy:  %0.2f\" %(accuracy_score(y_test, model.predict(X_test))))\n",
    "print(\"Test Precision Score:    %0.2f\" %(precision_score(y_test, model.predict(X_test))))\n",
    "print(\"Test Recall Score:    %0.2f\" %(recall_score(y_test, model.predict(X_test))))\n",
    "print(\"F1 Score:    %0.2f\" %(f1_score(y_test, model.predict(X_test))))\n"
   ]
  },
  {
   "cell_type": "markdown",
   "metadata": {},
   "source": [
    "# Challenge 2"
   ]
  },
  {
   "cell_type": "code",
   "execution_count": 133,
   "metadata": {
    "collapsed": false
   },
   "outputs": [
    {
     "name": "stdout",
     "output_type": "stream",
     "text": [
      "fpr 0.025974025974\n",
      "tpr 0.888888888889\n",
      "auc 0.931457431457\n"
     ]
    },
    {
     "data": {
      "text/plain": [
       "<matplotlib.text.Text at 0x1172276a0>"
      ]
     },
     "execution_count": 133,
     "metadata": {},
     "output_type": "execute_result"
    },
    {
     "data": {
      "image/png": "[encoded data removed]",
      "text/plain": [
       "<matplotlib.figure.Figure at 0x116099908>"
      ]
     },
     "metadata": {},
     "output_type": "display_data"
    }
   ],
   "source": [
    "clf = LogisticRegression()\n",
    "clf = clf.fit(X_train, y_train)\n",
    "    \n",
    "print('fpr', metrics.roc_curve(y_test, clf.predict(X_test))[0][1])\n",
    "print('tpr', metrics.roc_curve(y_test, clf.predict(X_test))[1][1])\n",
    "print('auc', metrics.roc_auc_score(y_test, clf.predict(X_test)))\n",
    "\n",
    "roc=metrics.roc_curve(y_test,clf.predict(X_test))\n",
    "\n",
    "plt.figure()\n",
    "plt.plot([0,1],[0,1])\n",
    "plt.plot(roc[0],roc[1])\n",
    "plt.xlabel('FPR')\n",
    "plt.ylabel('TPR')\n",
    "plt.title('Logistic regression ROC')"
   ]
  },
  {
   "cell_type": "code",
   "execution_count": 135,
   "metadata": {
    "collapsed": false
   },
   "outputs": [
    {
     "name": "stdout",
     "output_type": "stream",
     "text": [
      "fpr 0.038961038961\n",
      "tpr 0.888888888889\n",
      "auc 0.924963924964\n"
     ]
    },
    {
     "data": {
      "text/plain": [
       "<matplotlib.text.Text at 0x1167ed748>"
      ]
     },
     "execution_count": 135,
     "metadata": {},
     "output_type": "execute_result"
    },
    {
     "data": {
      "image/png": "[encoded data removed]",
      "text/plain": [
       "<matplotlib.figure.Figure at 0x115fc7c50>"
      ]
     },
     "metadata": {},
     "output_type": "display_data"
    }
   ],
   "source": [
    "clf = KNeighborsClassifier(n_neighbors=6)\n",
    "clf = clf.fit(X_train, y_train)\n",
    "    \n",
    "print('fpr', metrics.roc_curve(y_test, clf.predict(X_test))[0][1])\n",
    "print('tpr', metrics.roc_curve(y_test, clf.predict(X_test))[1][1])\n",
    "print('auc', metrics.roc_auc_score(y_test, clf.predict(X_test)))\n",
    "\n",
    "roc=metrics.roc_curve(y_test,clf.predict(X_test))\n",
    "\n",
    "plt.figure()\n",
    "plt.plot([0,1],[0,1])\n",
    "plt.plot(roc[0],roc[1])\n",
    "plt.xlabel('FPR')\n",
    "plt.ylabel('TPR')\n",
    "plt.title('KNN = 6 ROC')"
   ]
  },
  {
   "cell_type": "code",
   "execution_count": 136,
   "metadata": {
    "collapsed": false
   },
   "outputs": [
    {
     "name": "stdout",
     "output_type": "stream",
     "text": [
      "fpr 0.012987012987\n",
      "tpr 0.87037037037\n",
      "auc 0.928691678692\n"
     ]
    },
    {
     "data": {
      "text/plain": [
       "<matplotlib.text.Text at 0x11666edd8>"
      ]
     },
     "execution_count": 136,
     "metadata": {},
     "output_type": "execute_result"
    },
    {
     "data": {
      "image/png": "[encoded data removed]",
      "text/plain": [
       "<matplotlib.figure.Figure at 0x1157a6128>"
      ]
     },
     "metadata": {},
     "output_type": "display_data"
    }
   ],
   "source": [
    "clf = GaussianNB()\n",
    "clf = clf.fit(X_train, y_train)\n",
    "    \n",
    "print('fpr', metrics.roc_curve(y_test, clf.predict(X_test))[0][1])\n",
    "print('tpr', metrics.roc_curve(y_test, clf.predict(X_test))[1][1])\n",
    "print('auc', metrics.roc_auc_score(y_test, clf.predict(X_test)))\n",
    "\n",
    "roc=metrics.roc_curve(y_test,clf.predict(X_test))\n",
    "\n",
    "plt.figure()\n",
    "plt.plot([0,1],[0,1])\n",
    "plt.plot(roc[0],roc[1])\n",
    "plt.xlabel('FPR')\n",
    "plt.ylabel('TPR')\n",
    "plt.title('GaussianNB ROC')"
   ]
  },
  {
   "cell_type": "code",
   "execution_count": 137,
   "metadata": {
    "collapsed": false
   },
   "outputs": [
    {
     "name": "stdout",
     "output_type": "stream",
     "text": [
      "fpr 0.025974025974\n",
      "tpr 0.925925925926\n",
      "auc 0.949975949976\n"
     ]
    },
    {
     "data": {
      "text/plain": [
       "<matplotlib.text.Text at 0x11727e588>"
      ]
     },
     "execution_count": 137,
     "metadata": {},
     "output_type": "execute_result"
    },
    {
     "data": {
      "image/png": "[encoded data removed]",
      "text/plain": [
       "<matplotlib.figure.Figure at 0x1170178d0>"
      ]
     },
     "metadata": {},
     "output_type": "display_data"
    }
   ],
   "source": [
    "clf = SVC()\n",
    "clf = clf.fit(X_train, y_train)\n",
    "    \n",
    "print('fpr', metrics.roc_curve(y_test, clf.predict(X_test))[0][1])\n",
    "print('tpr', metrics.roc_curve(y_test, clf.predict(X_test))[1][1])\n",
    "print('auc', metrics.roc_auc_score(y_test, clf.predict(X_test)))\n",
    "\n",
    "roc=metrics.roc_curve(y_test,clf.predict(X_test))\n",
    "\n",
    "plt.figure()\n",
    "plt.plot([0,1],[0,1])\n",
    "plt.plot(roc[0],roc[1])\n",
    "plt.xlabel('FPR')\n",
    "plt.ylabel('TPR')\n",
    "plt.title('SVC ROC')"
   ]
  },
  {
   "cell_type": "code",
   "execution_count": 138,
   "metadata": {
    "collapsed": false
   },
   "outputs": [
    {
     "name": "stdout",
     "output_type": "stream",
     "text": [
      "fpr 0.025974025974\n",
      "tpr 0.907407407407\n",
      "auc 0.940716690717\n"
     ]
    },
    {
     "data": {
      "text/plain": [
       "<matplotlib.text.Text at 0x11737dc50>"
      ]
     },
     "execution_count": 138,
     "metadata": {},
     "output_type": "execute_result"
    },
    {
     "data": {
      "image/png": "[encoded data removed]",
      "text/plain": [
       "<matplotlib.figure.Figure at 0x1170176d8>"
      ]
     },
     "metadata": {},
     "output_type": "display_data"
    }
   ],
   "source": [
    "clf = DecisionTreeClassifier()\n",
    "clf = clf.fit(X_train, y_train)\n",
    "    \n",
    "print('fpr', metrics.roc_curve(y_test, clf.predict(X_test))[0][1])\n",
    "print('tpr', metrics.roc_curve(y_test, clf.predict(X_test))[1][1])\n",
    "print('auc', metrics.roc_auc_score(y_test, clf.predict(X_test)))\n",
    "\n",
    "roc=metrics.roc_curve(y_test,clf.predict(X_test))\n",
    "\n",
    "plt.figure()\n",
    "plt.plot([0,1],[0,1])\n",
    "plt.plot(roc[0],roc[1])\n",
    "plt.xlabel('FPR')\n",
    "plt.ylabel('TPR')\n",
    "plt.title('DTC ROC')"
   ]
  },
  {
   "cell_type": "code",
   "execution_count": 139,
   "metadata": {
    "collapsed": false
   },
   "outputs": [
    {
     "name": "stdout",
     "output_type": "stream",
     "text": [
      "fpr 0.025974025974\n",
      "tpr 0.87037037037\n",
      "auc 0.922198172198\n"
     ]
    },
    {
     "data": {
      "text/plain": [
       "<matplotlib.text.Text at 0x115ec8438>"
      ]
     },
     "execution_count": 139,
     "metadata": {},
     "output_type": "execute_result"
    },
    {
     "data": {
      "image/png": "[encoded data removed]",
      "text/plain": [
       "<matplotlib.figure.Figure at 0x1172634a8>"
      ]
     },
     "metadata": {},
     "output_type": "display_data"
    }
   ],
   "source": [
    "clf = RandomForestClassifier()\n",
    "clf = clf.fit(X_train, y_train)\n",
    "    \n",
    "print('fpr', metrics.roc_curve(y_test, clf.predict(X_test))[0][1])\n",
    "print('tpr', metrics.roc_curve(y_test, clf.predict(X_test))[1][1])\n",
    "print('auc', metrics.roc_auc_score(y_test, clf.predict(X_test)))\n",
    "\n",
    "roc=metrics.roc_curve(y_test,clf.predict(X_test))\n",
    "\n",
    "plt.figure()\n",
    "plt.plot([0,1],[0,1])\n",
    "plt.plot(roc[0],roc[1])\n",
    "plt.xlabel('FPR')\n",
    "plt.ylabel('TPR')\n",
    "plt.title('RFC ROC')"
   ]
  },
  {
   "cell_type": "markdown",
   "metadata": {},
   "source": [
    "# Challenge 3"
   ]
  },
  {
   "cell_type": "code",
   "execution_count": 144,
   "metadata": {
    "collapsed": false
   },
   "outputs": [
    {
     "name": "stdout",
     "output_type": "stream",
     "text": [
      "Logistic Regression\n",
      "Accuracy: 0.923890063425\n",
      "Precision: 0.912280701754\n",
      "Recall: 0.907407407407\n",
      "F1-score: 0.908320084791\n"
     ]
    }
   ],
   "source": [
    "from sklearn.cross_validation import cross_val_score\n",
    "\n",
    "model_log = LogisticRegression()\n",
    "log_cross_score = cross_val_score(model_log, X_train, y_train)\n",
    "print(\"Logistic Regression\")\n",
    "print(\"Accuracy:\",np.mean(cross_val_score(model, X_test, y_test, scoring = 'accuracy')))\n",
    "print(\"Precision:\",np.mean(cross_val_score(model, X_test, y_test, scoring = 'precision')))\n",
    "print(\"Recall:\",np.mean(cross_val_score(model, X_test, y_test, scoring = 'recall')))\n",
    "print(\"F1-score:\",np.mean(cross_val_score(model, X_test, y_test, scoring = 'f1')))"
   ]
  },
  {
   "cell_type": "code",
   "execution_count": 150,
   "metadata": {
    "collapsed": false
   },
   "outputs": [
    {
     "name": "stdout",
     "output_type": "stream",
     "text": [
      "KNN = 6\n",
      "Accuracy: 0.885835095137\n",
      "Precision: 0.847058823529\n",
      "Recall: 0.888888888889\n",
      "F1-score: 0.866165413534\n"
     ]
    }
   ],
   "source": [
    "model = KNeighborsClassifier(n_neighbors=6)\n",
    "log_cross_score = cross_val_score(model, X_train, y_train)\n",
    "print(\"KNN = 6\")\n",
    "print(\"Accuracy:\",np.mean(cross_val_score(model, X_test, y_test, scoring = 'accuracy')))\n",
    "print(\"Precision:\",np.mean(cross_val_score(model, X_test, y_test, scoring = 'precision')))\n",
    "print(\"Recall:\",np.mean(cross_val_score(model, X_test, y_test, scoring = 'recall')))\n",
    "print(\"F1-score:\",np.mean(cross_val_score(model, X_test, y_test, scoring = 'f1')))"
   ]
  },
  {
   "cell_type": "code",
   "execution_count": 151,
   "metadata": {
    "collapsed": false
   },
   "outputs": [
    {
     "name": "stdout",
     "output_type": "stream",
     "text": [
      "GaussianNB\n",
      "Accuracy: 0.946617336152\n",
      "Precision: 0.961622807018\n",
      "Recall: 0.907407407407\n",
      "F1-score: 0.932167461579\n"
     ]
    }
   ],
   "source": [
    "model = GaussianNB()\n",
    "log_cross_score = cross_val_score(model, X_train, y_train)\n",
    "print(\"GaussianNB\")\n",
    "print(\"Accuracy:\",np.mean(cross_val_score(model, X_test, y_test, scoring = 'accuracy')))\n",
    "print(\"Precision:\",np.mean(cross_val_score(model, X_test, y_test, scoring = 'precision')))\n",
    "print(\"Recall:\",np.mean(cross_val_score(model, X_test, y_test, scoring = 'recall')))\n",
    "print(\"F1-score:\",np.mean(cross_val_score(model, X_test, y_test, scoring = 'f1')))"
   ]
  },
  {
   "cell_type": "code",
   "execution_count": 152,
   "metadata": {
    "collapsed": false
   },
   "outputs": [
    {
     "name": "stdout",
     "output_type": "stream",
     "text": [
      "SVC\n",
      "Accuracy: 0.931465821001\n",
      "Precision: 0.926900584795\n",
      "Recall: 0.907407407407\n",
      "F1-score: 0.915827592298\n"
     ]
    }
   ],
   "source": [
    "model = SVC()\n",
    "log_cross_score = cross_val_score(model, X_train, y_train)\n",
    "print(\"SVC\")\n",
    "print(\"Accuracy:\",np.mean(cross_val_score(model, X_test, y_test, scoring = 'accuracy')))\n",
    "print(\"Precision:\",np.mean(cross_val_score(model, X_test, y_test, scoring = 'precision')))\n",
    "print(\"Recall:\",np.mean(cross_val_score(model, X_test, y_test, scoring = 'recall')))\n",
    "print(\"F1-score:\",np.mean(cross_val_score(model, X_test, y_test, scoring = 'f1')))"
   ]
  },
  {
   "cell_type": "code",
   "execution_count": 153,
   "metadata": {
    "collapsed": false
   },
   "outputs": [
    {
     "name": "stdout",
     "output_type": "stream",
     "text": [
      "DTC\n",
      "Accuracy: 0.961945031712\n",
      "Precision: 0.945304437564\n",
      "Recall: 0.962962962963\n",
      "F1-score: 0.944930644931\n"
     ]
    }
   ],
   "source": [
    "model = DecisionTreeClassifier()\n",
    "log_cross_score = cross_val_score(model, X_train, y_train)\n",
    "print(\"DTC\")\n",
    "print(\"Accuracy:\",np.mean(cross_val_score(model, X_test, y_test, scoring = 'accuracy')))\n",
    "print(\"Precision:\",np.mean(cross_val_score(model, X_test, y_test, scoring = 'precision')))\n",
    "print(\"Recall:\",np.mean(cross_val_score(model, X_test, y_test, scoring = 'recall')))\n",
    "print(\"F1-score:\",np.mean(cross_val_score(model, X_test, y_test, scoring = 'f1')))"
   ]
  },
  {
   "cell_type": "code",
   "execution_count": 154,
   "metadata": {
    "collapsed": false
   },
   "outputs": [
    {
     "name": "stdout",
     "output_type": "stream",
     "text": [
      "RFC\n",
      "Accuracy: 0.924066243834\n",
      "Precision: 0.905723905724\n",
      "Recall: 0.925925925926\n",
      "F1-score: 0.908320084791\n"
     ]
    }
   ],
   "source": [
    "model = RandomForestClassifier()\n",
    "log_cross_score = cross_val_score(model, X_train, y_train)\n",
    "print(\"RFC\")\n",
    "print(\"Accuracy:\",np.mean(cross_val_score(model, X_test, y_test, scoring = 'accuracy')))\n",
    "print(\"Precision:\",np.mean(cross_val_score(model, X_test, y_test, scoring = 'precision')))\n",
    "print(\"Recall:\",np.mean(cross_val_score(model, X_test, y_test, scoring = 'recall')))\n",
    "print(\"F1-score:\",np.mean(cross_val_score(model, X_test, y_test, scoring = 'f1')))"
   ]
  },
  {
   "cell_type": "markdown",
   "metadata": {},
   "source": [
    "# Challenge 4"
   ]
  },
  {
   "cell_type": "code",
   "execution_count": 155,
   "metadata": {
    "collapsed": true
   },
   "outputs": [],
   "source": [
    "movies = pd.read_csv('~/ds/nyc16_ds8/challenges/challenges_data/2013_movies.csv')"
   ]
  },
  {
   "cell_type": "code",
   "execution_count": 156,
   "metadata": {
    "collapsed": false
   },
   "outputs": [
    {
     "data": {
      "text/html": [
       "<div>\n",
       "<table border=\"1\" class=\"dataframe\">\n",
       "  <thead>\n",
       "    <tr style=\"text-align: right;\">\n",
       "      <th></th>\n",
       "      <th>Title</th>\n",
       "      <th>Budget</th>\n",
       "      <th>DomesticTotalGross</th>\n",
       "      <th>Director</th>\n",
       "      <th>Rating</th>\n",
       "      <th>Runtime</th>\n",
       "      <th>ReleaseDate</th>\n",
       "    </tr>\n",
       "  </thead>\n",
       "  <tbody>\n",
       "    <tr>\n",
       "      <th>0</th>\n",
       "      <td>The Hunger Games: Catching Fire</td>\n",
       "      <td>130000000.0</td>\n",
       "      <td>424668047</td>\n",
       "      <td>Francis Lawrence</td>\n",
       "      <td>PG-13</td>\n",
       "      <td>146</td>\n",
       "      <td>2013-11-22 00:00:00</td>\n",
       "    </tr>\n",
       "  </tbody>\n",
       "</table>\n",
       "</div>"
      ],
      "text/plain": [
       "                             Title       Budget  DomesticTotalGross  \\\n",
       "0  The Hunger Games: Catching Fire  130000000.0           424668047   \n",
       "\n",
       "           Director Rating  Runtime          ReleaseDate  \n",
       "0  Francis Lawrence  PG-13      146  2013-11-22 00:00:00  "
      ]
     },
     "execution_count": 156,
     "metadata": {},
     "output_type": "execute_result"
    }
   ],
   "source": [
    "movies = movies.dropna()\n",
    "movies.head(1)"
   ]
  },
  {
   "cell_type": "code",
   "execution_count": 157,
   "metadata": {
    "collapsed": true
   },
   "outputs": [],
   "source": [
    "y, X = np.ravel(movies[['Rating']]), movies.drop(['Rating', 'Title', 'Director', \"ReleaseDate\"], axis=1)"
   ]
  },
  {
   "cell_type": "code",
   "execution_count": 158,
   "metadata": {
    "collapsed": true
   },
   "outputs": [],
   "source": [
    "X_train, X_test, y_train, y_test = train_test_split(X, y, test_size=0.30, random_state=4444)"
   ]
  },
  {
   "cell_type": "code",
   "execution_count": 168,
   "metadata": {
    "collapsed": false
   },
   "outputs": [
    {
     "name": "stdout",
     "output_type": "stream",
     "text": [
      "Pecision score: 0.411111111111\n",
      "Accuracy score: 0.444444444444\n"
     ]
    },
    {
     "name": "stderr",
     "output_type": "stream",
     "text": [
      "//anaconda/lib/python3.5/site-packages/sklearn/metrics/classification.py:1203: DeprecationWarning: The default `weighted` averaging is deprecated, and from version 0.18, use of precision, recall or F-score with multiclass or multilabel data or pos_label=None will result in an exception. Please set an explicit value for `average`, one of (None, 'micro', 'macro', 'weighted', 'samples'). In cross validation use, for instance, scoring=\"f1_weighted\" instead of scoring=\"f1\".\n",
      "  sample_weight=sample_weight)\n",
      "//anaconda/lib/python3.5/site-packages/sklearn/metrics/classification.py:1074: UndefinedMetricWarning: Precision is ill-defined and being set to 0.0 in labels with no predicted samples.\n",
      "  'precision', 'predicted', average, warn_for)\n",
      "//anaconda/lib/python3.5/site-packages/sklearn/metrics/classification.py:1304: DeprecationWarning: The default `weighted` averaging is deprecated, and from version 0.18, use of precision, recall or F-score with multiclass or multilabel data or pos_label=None will result in an exception. Please set an explicit value for `average`, one of (None, 'micro', 'macro', 'weighted', 'samples'). In cross validation use, for instance, scoring=\"f1_weighted\" instead of scoring=\"f1\".\n",
      "  sample_weight=sample_weight)\n"
     ]
    }
   ],
   "source": [
    "model_log = LogisticRegression()\n",
    "model_log.fit(X_train, y_train)\n",
    "pre_acc = precision_score(y_test, model_log.predict(X_test))\n",
    "rec_acc = recall_score(y_test, model_log.predict(X_test))\n",
    "\n",
    "print(\"Pecision score:\", pre_acc)\n",
    "print(\"Accuracy score:\", rec_acc)\n"
   ]
  },
  {
   "cell_type": "markdown",
   "metadata": {},
   "source": [
    "# Challenge 5"
   ]
  },
  {
   "cell_type": "code",
   "execution_count": 169,
   "metadata": {
    "collapsed": false
   },
   "outputs": [
    {
     "name": "stdout",
     "output_type": "stream",
     "text": [
      "  % Total    % Received % Xferd  Average Speed   Time    Time     Time  Current\n",
      "                                 Dload  Upload   Total   Spent    Left  Speed\n",
      "100  3103  100  3103    0     0   1427      0  0:00:02  0:00:02 --:--:--  1428\n"
     ]
    }
   ],
   "source": [
    "!curl https://archive.ics.uci.edu/ml/machine-learning-databases/haberman/haberman.data > data.csv"
   ]
  },
  {
   "cell_type": "code",
   "execution_count": 183,
   "metadata": {
    "collapsed": true
   },
   "outputs": [],
   "source": [
    "bc = pd.read_csv('data.csv', header = None)\n",
    "bc.columns = ['age','year','nodes','status']\n",
    "bc['status'] = bc.status.replace(2, 0)"
   ]
  },
  {
   "cell_type": "code",
   "execution_count": 184,
   "metadata": {
    "collapsed": false
   },
   "outputs": [
    {
     "data": {
      "text/html": [
       "<div>\n",
       "<table border=\"1\" class=\"dataframe\">\n",
       "  <thead>\n",
       "    <tr style=\"text-align: right;\">\n",
       "      <th></th>\n",
       "      <th>age</th>\n",
       "      <th>year</th>\n",
       "      <th>nodes</th>\n",
       "      <th>status</th>\n",
       "    </tr>\n",
       "  </thead>\n",
       "  <tbody>\n",
       "    <tr>\n",
       "      <th>0</th>\n",
       "      <td>30</td>\n",
       "      <td>64</td>\n",
       "      <td>1</td>\n",
       "      <td>1</td>\n",
       "    </tr>\n",
       "    <tr>\n",
       "      <th>1</th>\n",
       "      <td>30</td>\n",
       "      <td>62</td>\n",
       "      <td>3</td>\n",
       "      <td>1</td>\n",
       "    </tr>\n",
       "  </tbody>\n",
       "</table>\n",
       "</div>"
      ],
      "text/plain": [
       "   age  year  nodes  status\n",
       "0   30    64      1       1\n",
       "1   30    62      3       1"
      ]
     },
     "execution_count": 184,
     "metadata": {},
     "output_type": "execute_result"
    }
   ],
   "source": [
    "bc.head(2)"
   ]
  },
  {
   "cell_type": "code",
   "execution_count": 185,
   "metadata": {
    "collapsed": true
   },
   "outputs": [],
   "source": [
    "y, X = np.ravel(bc[['status']]), bc.drop(['status'], axis=1)"
   ]
  },
  {
   "cell_type": "code",
   "execution_count": 186,
   "metadata": {
    "collapsed": true
   },
   "outputs": [],
   "source": [
    "X_train, X_test, y_train, y_test = train_test_split(X, y, test_size=0.3, \n",
    "                                                    random_state = 4444)"
   ]
  },
  {
   "cell_type": "code",
   "execution_count": 188,
   "metadata": {
    "collapsed": false
   },
   "outputs": [
    {
     "name": "stdout",
     "output_type": "stream",
     "text": [
      "fpr 0.944444444444\n",
      "tpr 1.0\n",
      "auc 0.472222222222\n"
     ]
    },
    {
     "data": {
      "text/plain": [
       "<matplotlib.text.Text at 0x11679a240>"
      ]
     },
     "execution_count": 188,
     "metadata": {},
     "output_type": "execute_result"
    },
    {
     "data": {
      "image/png": "[encoded data removed]",
      "text/plain": [
       "<matplotlib.figure.Figure at 0x117198f28>"
      ]
     },
     "metadata": {},
     "output_type": "display_data"
    }
   ],
   "source": [
    "model_log = LogisticRegression()\n",
    "model_log.fit(X_train, y_train)\n",
    "    \n",
    "print('fpr', metrics.roc_curve(y_test, model_log.predict(X_test))[0][1])\n",
    "print('tpr', metrics.roc_curve(y_test, model_log.predict(X_test))[1][1])\n",
    "print('auc', metrics.roc_auc_score(y_test, clf.predict(X_test)))\n",
    "\n",
    "roc=metrics.roc_curve(y_test,clf.predict(X_test))\n",
    "\n",
    "plt.figure()\n",
    "plt.plot([0,1],[0,1])\n",
    "plt.plot(roc[0],roc[1])\n",
    "plt.xlabel('FPR')\n",
    "plt.ylabel('TPR')\n",
    "plt.title('Logistic regression ROC')"
   ]
  },
  {
   "cell_type": "code",
   "execution_count": null,
   "metadata": {
    "collapsed": true
   },
   "outputs": [],
   "source": []
  }
 ],
 "metadata": {
  "kernelspec": {
   "display_name": "Python 3",
   "language": "python",
   "name": "python3"
  },
  "language_info": {
   "codemirror_mode": {
    "name": "ipython",
    "version": 3
   },
   "file_extension": ".py",
   "mimetype": "text/x-python",
   "name": "python",
   "nbconvert_exporter": "python",
   "pygments_lexer": "ipython3",
   "version": "3.5.2"
  }
 },
 "nbformat": 4,
 "nbformat_minor": 0
}
