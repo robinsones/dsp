{
 "cells": [
  {
   "cell_type": "markdown",
   "metadata": {},
   "source": [
    "## Challenges: Classification Error."
   ]
  },
  {
   "cell_type": "code",
   "execution_count": 1,
   "metadata": {
    "collapsed": false
   },
   "outputs": [],
   "source": [
    "import pandas as pd\n",
    "import numpy as np\n",
    "\n",
    "import matplotlib.pyplot as plt\n",
    "import seaborn as sns\n",
    "%matplotlib inline\n",
    "\n",
    "from sklearn.cross_validation import train_test_split\n",
    "from sklearn.neighbors import KNeighborsClassifier\n",
    "from sklearn.metrics import accuracy_score, precision_recall_fscore_support, roc_curve, roc_auc_score\n",
    "from sklearn.linear_model import LogisticRegression\n",
    "from sklearn.naive_bayes import GaussianNB\n",
    "from sklearn.svm import SVC\n",
    "from sklearn.ensemble import RandomForestClassifier\n",
    "from sklearn.preprocessing import LabelBinarizer\n",
    "\n",
    "from sklearn.cross_validation import cross_val_score\n",
    "from sklearn.learning_curve import learning_curve"
   ]
  },
  {
   "cell_type": "code",
   "execution_count": 2,
   "metadata": {
    "collapsed": true
   },
   "outputs": [],
   "source": [
    "df = pd.read_csv(\"house-votes-84.csv\", header = None)"
   ]
  },
  {
   "cell_type": "code",
   "execution_count": 3,
   "metadata": {
    "collapsed": true
   },
   "outputs": [],
   "source": [
    "df.columns = ['party','hndc_inf','water_project','budget_res','phys_fee','salvador','relig_grp','sattelite','nicaragua',\n",
    "             'missile','immigration','synfuels','education','superfund', 'crime','dutyt_free','south_africa']"
   ]
  },
  {
   "cell_type": "markdown",
   "metadata": {},
   "source": [
    "### Challenge 1"
   ]
  },
  {
   "cell_type": "code",
   "execution_count": 4,
   "metadata": {
    "collapsed": false
   },
   "outputs": [],
   "source": [
    "df = df.replace(to_replace = ['y','n','?'], value = [1,0,None])\n",
    "df = df.fillna(df.mean(axis = 0));"
   ]
  },
  {
   "cell_type": "code",
   "execution_count": 5,
   "metadata": {
    "collapsed": false
   },
   "outputs": [],
   "source": [
    "x_train, x_test, y_train, y_test = train_test_split(df.iloc[:,1:],df.iloc[:,0],test_size=0.3,random_state=4444)"
   ]
  },
  {
   "cell_type": "code",
   "execution_count": 6,
   "metadata": {
    "collapsed": false
   },
   "outputs": [
    {
     "name": "stdout",
     "output_type": "stream",
     "text": [
      "Compare accuracy. precision, f-score and recall for choosing a Democrat representative:\n"
     ]
    },
    {
     "data": {
      "text/html": [
       "<div>\n",
       "<table border=\"1\" class=\"dataframe\">\n",
       "  <thead>\n",
       "    <tr style=\"text-align: right;\">\n",
       "      <th></th>\n",
       "      <th>accuracy</th>\n",
       "      <th>f1_score</th>\n",
       "      <th>precision</th>\n",
       "      <th>recall</th>\n",
       "    </tr>\n",
       "  </thead>\n",
       "  <tbody>\n",
       "    <tr>\n",
       "      <th>KNN</th>\n",
       "      <td>0.916031</td>\n",
       "      <td>0.929032</td>\n",
       "      <td>0.923077</td>\n",
       "      <td>0.935065</td>\n",
       "    </tr>\n",
       "    <tr>\n",
       "      <th>Logit</th>\n",
       "      <td>0.938931</td>\n",
       "      <td>0.949367</td>\n",
       "      <td>0.925926</td>\n",
       "      <td>0.974026</td>\n",
       "    </tr>\n",
       "    <tr>\n",
       "      <th>GaussianNB</th>\n",
       "      <td>0.938931</td>\n",
       "      <td>0.950000</td>\n",
       "      <td>0.915663</td>\n",
       "      <td>0.987013</td>\n",
       "    </tr>\n",
       "    <tr>\n",
       "      <th>SVC</th>\n",
       "      <td>0.954198</td>\n",
       "      <td>0.961538</td>\n",
       "      <td>0.949367</td>\n",
       "      <td>0.974026</td>\n",
       "    </tr>\n",
       "    <tr>\n",
       "      <th>Random Forest</th>\n",
       "      <td>0.961832</td>\n",
       "      <td>0.968553</td>\n",
       "      <td>0.939024</td>\n",
       "      <td>1.000000</td>\n",
       "    </tr>\n",
       "  </tbody>\n",
       "</table>\n",
       "</div>"
      ],
      "text/plain": [
       "               accuracy  f1_score  precision    recall\n",
       "KNN            0.916031  0.929032   0.923077  0.935065\n",
       "Logit          0.938931  0.949367   0.925926  0.974026\n",
       "GaussianNB     0.938931  0.950000   0.915663  0.987013\n",
       "SVC            0.954198  0.961538   0.949367  0.974026\n",
       "Random Forest  0.961832  0.968553   0.939024  1.000000"
      ]
     },
     "execution_count": 6,
     "metadata": {},
     "output_type": "execute_result"
    }
   ],
   "source": [
    "knn = KNeighborsClassifier(n_neighbors=5)\n",
    "knn.fit(x_train,y_train)\n",
    "y_hat = knn.predict(x_test)\n",
    "prec, recall, fscore, _ = precision_recall_fscore_support(y_test,y_hat)\n",
    "acc = accuracy_score(y_test,y_hat)\n",
    "prec, recall, fscore, _ = precision_recall_fscore_support(y_test,y_hat, pos_label = 'democrat', average = 'binary')\n",
    "temp = dict(zip(['precision','accuracy','recall','f1_score'],[prec, acc, recall, fscore]))\n",
    "scores = pd.DataFrame(temp, index = ['KNN'])\n",
    "\n",
    "\n",
    "LR = LogisticRegression()\n",
    "LR.fit(x_train,y_train)\n",
    "y_hat = LR.predict(x_test)\n",
    "acc = accuracy_score(y_test,y_hat)\n",
    "prec, recall, fscore, _ = precision_recall_fscore_support(y_test,y_hat, pos_label = 'democrat', average = 'binary')\n",
    "temp = dict(zip(['precision','accuracy','recall','f1_score'],[prec, acc, recall, fscore]))\n",
    "scores = scores.append(pd.DataFrame(temp, index = ['Logit']))\n",
    "\n",
    "\n",
    "model = GaussianNB()\n",
    "model.fit(x_train,y_train)\n",
    "y_hat = model.predict(x_test)\n",
    "acc = accuracy_score(y_test,y_hat)\n",
    "prec, recall, fscore, _ = precision_recall_fscore_support(y_test,y_hat, pos_label = 'democrat', average = 'binary')\n",
    "temp = dict(zip(['precision','accuracy','recall','f1_score'],[prec, acc, recall, fscore]))\n",
    "scores = scores.append(pd.DataFrame(temp, index = ['GaussianNB']))\n",
    "\n",
    "model = SVC()\n",
    "model.fit(x_train,y_train)\n",
    "y_hat = model.predict(x_test)\n",
    "prec, recall, fscore, _ = precision_recall_fscore_support(y_test,y_hat)\n",
    "acc = accuracy_score(y_test,y_hat)\n",
    "prec, recall, fscore, _ = precision_recall_fscore_support(y_test,y_hat, pos_label = 'democrat', average = 'binary')\n",
    "temp = dict(zip(['precision','accuracy','recall','f1_score'],[prec, acc, recall, fscore]))\n",
    "scores = scores.append(pd.DataFrame(temp, index = ['SVC']))\n",
    "\n",
    "model = RandomForestClassifier()\n",
    "model.fit(x_train,y_train)\n",
    "y_hat = model.predict(x_test)\n",
    "prec, recall, fscore, _ = precision_recall_fscore_support(y_test,y_hat)\n",
    "acc = accuracy_score(y_test,y_hat)\n",
    "prec, recall, fscore, _ = precision_recall_fscore_support(y_test,y_hat, pos_label = 'democrat', average = 'binary')\n",
    "temp = dict(zip(['precision','accuracy','recall','f1_score'],[prec, acc, recall, fscore]))\n",
    "scores = scores.append(pd.DataFrame(temp, index = ['Random Forest']))\n",
    "\n",
    "print('Compare accuracy. precision, f-score and recall for choosing a Democrat representative:')\n",
    "scores"
   ]
  },
  {
   "cell_type": "markdown",
   "metadata": {},
   "source": [
    "### Challenge 2"
   ]
  },
  {
   "cell_type": "code",
   "execution_count": 7,
   "metadata": {
    "collapsed": false
   },
   "outputs": [
    {
     "name": "stdout",
     "output_type": "stream",
     "text": [
      "auc for logistic regression is 0.9877\n",
      "auc for SVC is 0.9949\n",
      "auc for Random Forest is 0.9945\n",
      "auc for GaussianNB is 0.9945\n",
      "auc for RFC is 0.9945\n"
     ]
    }
   ],
   "source": [
    "LR = LogisticRegression()\n",
    "LR.fit(x_train,y_train)\n",
    "fprLR, tprLR, thresholdsLR = roc_curve(y_test, LR.predict_proba(x_test)[:,0], pos_label = 'democrat')\n",
    "#there is an indication of a bug in roc_auc_score that throws \"pos_label required\" error,\n",
    "#when I try to use string labeled data\n",
    "aucLR = roc_auc_score(y_test.replace(to_replace=['democrat','republican'],value=[1,0]), LR.predict_proba(x_test)[:,0])\n",
    "\n",
    "KNN = KNeighborsClassifier(n_neighbors=5)\n",
    "KNN.fit(x_train,y_train)\n",
    "fprKNN, tprKNN, thresholdsKNN = roc_curve(y_test, knn.predict_proba(x_test)[:,0], pos_label = 'democrat')\n",
    "aucKNN = roc_auc_score(y_test.replace(to_replace=['democrat','republican'],value=[1,0]), KNN.predict_proba(x_test)[:,0])\n",
    "\n",
    "\n",
    "GNB = GaussianNB()\n",
    "GNB.fit(x_train,y_train)\n",
    "fprGNB, tprGNB, thresholdsGNB = roc_curve(y_test, GNB.predict_proba(x_test)[:,0], pos_label = 'democrat')\n",
    "aucGNB = roc_auc_score(y_test.replace(to_replace=['democrat','republican'],value=[1,0]), GNB.predict_proba(x_test)[:,0])\n",
    "\n",
    "SVCm = SVC(probability=True)\n",
    "SVCm.fit(x_train,y_train)\n",
    "fprSVCm, tprSVCm, thresholdsSVCm = roc_curve(y_test, SVCm.predict_proba(x_test)[:,0], pos_label = 'democrat')\n",
    "aucSVCm = roc_auc_score(y_test.replace(to_replace=['democrat','republican'],value=[1,0]), SVCm.predict_proba(x_test)[:,0])\n",
    "\n",
    "RFC = RandomForestClassifier()\n",
    "RFC.fit(x_train,y_train)\n",
    "fprRFC, tprRFC, thresholdsRFC = roc_curve(y_test, RFC.predict_proba(x_test)[:,0], pos_label = 'democrat')\n",
    "aucRFC = roc_auc_score(y_test.replace(to_replace=['democrat','republican'],value=[1,0]), RFC.predict_proba(x_test)[:,0])\n",
    "\n",
    "print('auc for logistic regression is', \"{0:.4f}\".format(aucLR))\n",
    "print('auc for SVC is', \"{0:.4f}\".format(aucSVCm))\n",
    "print('auc for Random Forest is', \"{0:.4f}\".format(aucRFC))\n",
    "print('auc for GaussianNB is', \"{0:.4f}\".format(aucRFC))\n",
    "print('auc for RFC is', \"{0:.4f}\".format(aucRFC))\n"
   ]
  },
  {
   "cell_type": "code",
   "execution_count": 8,
   "metadata": {
    "collapsed": false
   },
   "outputs": [
    {
     "data": {
      "image/png": "[encoded data removed]",
      "text/plain": [
       "<matplotlib.figure.Figure at 0x117967b70>"
      ]
     },
     "metadata": {},
     "output_type": "display_data"
    }
   ],
   "source": [
    "f = plt.figure(figsize = (12,5))\n",
    "\n",
    "plt.subplot(1,2,1)\n",
    "p1, = plt.plot(fprLR,tprLR)\n",
    "p2, = plt.plot(fprSVCm,tprSVCm)\n",
    "p3, = plt.plot(fprRFC,tprRFC)\n",
    "plt.legend([p1,p2,p3],['Linear Regression', 'SVC','Random Forest'])\n",
    "plt.title('ROC curves')\n",
    "\n",
    "plt.subplot(1,2,2)\n",
    "p4, = plt.plot(fprKNN,tprKNN)\n",
    "p5, = plt.plot(fprGNB,tprGNB)\n",
    "plt.legend([p4,p5],['KNN', 'GaussianNB'])\n",
    "plt.title('ROC curves');"
   ]
  },
  {
   "cell_type": "markdown",
   "metadata": {},
   "source": [
    "### Challenge 3"
   ]
  },
  {
   "cell_type": "code",
   "execution_count": 9,
   "metadata": {
    "collapsed": true
   },
   "outputs": [],
   "source": [
    "from sklearn.cross_validation import cross_val_score"
   ]
  },
  {
   "cell_type": "code",
   "execution_count": 10,
   "metadata": {
    "collapsed": false
   },
   "outputs": [],
   "source": [
    "classifiers = [LogisticRegression(), GaussianNB(), RandomForestClassifier(), SVC(), KNeighborsClassifier(n_neighbors=5)]\n",
    "names = ['Logit','GaussianNB','Random Forest','SVC', 'KNN']\n",
    "\n",
    "y = df.iloc[:,0].replace(to_replace=['democrat','republican'],value=[1,0])\n",
    "\n",
    "for ind, cls in enumerate(classifiers):\n",
    "    accuracy = cross_val_score(cls, df.iloc[:,1:], y, cv=3, scoring='accuracy')\n",
    "    recall = cross_val_score(cls, df.iloc[:,1:], y, cv=3, scoring='recall')\n",
    "    precision = cross_val_score(cls, df.iloc[:,1:], y, cv=3, scoring='precision')\n",
    "    f1 = cross_val_score(cls, df.iloc[:,1:], y, cv=3, scoring='f1')\n",
    "    \n",
    "    temp = dict(zip(['precision','accuracy','recall','f1'],[precision.mean(), accuracy.mean(), recall.mean(), f1.mean()]))\n",
    "    if ind == 0:\n",
    "        scores2 = pd.DataFrame(temp, index =[names[ind]])\n",
    "    else:\n",
    "        scores2 = scores2.append(pd.DataFrame(temp, index =[names[ind]]))"
   ]
  },
  {
   "cell_type": "code",
   "execution_count": 11,
   "metadata": {
    "collapsed": false
   },
   "outputs": [
    {
     "data": {
      "text/html": [
       "<div>\n",
       "<table border=\"1\" class=\"dataframe\">\n",
       "  <thead>\n",
       "    <tr style=\"text-align: right;\">\n",
       "      <th></th>\n",
       "      <th>accuracy</th>\n",
       "      <th>f1</th>\n",
       "      <th>precision</th>\n",
       "      <th>recall</th>\n",
       "    </tr>\n",
       "  </thead>\n",
       "  <tbody>\n",
       "    <tr>\n",
       "      <th>Logit</th>\n",
       "      <td>0.960920</td>\n",
       "      <td>0.967864</td>\n",
       "      <td>0.970163</td>\n",
       "      <td>0.966292</td>\n",
       "    </tr>\n",
       "    <tr>\n",
       "      <th>GaussianNB</th>\n",
       "      <td>0.931034</td>\n",
       "      <td>0.943525</td>\n",
       "      <td>0.948219</td>\n",
       "      <td>0.940075</td>\n",
       "    </tr>\n",
       "    <tr>\n",
       "      <th>Random Forest</th>\n",
       "      <td>0.967816</td>\n",
       "      <td>0.969652</td>\n",
       "      <td>0.980884</td>\n",
       "      <td>0.962547</td>\n",
       "    </tr>\n",
       "    <tr>\n",
       "      <th>SVC</th>\n",
       "      <td>0.954023</td>\n",
       "      <td>0.961804</td>\n",
       "      <td>0.977123</td>\n",
       "      <td>0.947566</td>\n",
       "    </tr>\n",
       "    <tr>\n",
       "      <th>KNN</th>\n",
       "      <td>0.933333</td>\n",
       "      <td>0.944804</td>\n",
       "      <td>0.961372</td>\n",
       "      <td>0.928839</td>\n",
       "    </tr>\n",
       "  </tbody>\n",
       "</table>\n",
       "</div>"
      ],
      "text/plain": [
       "               accuracy        f1  precision    recall\n",
       "Logit          0.960920  0.967864   0.970163  0.966292\n",
       "GaussianNB     0.931034  0.943525   0.948219  0.940075\n",
       "Random Forest  0.967816  0.969652   0.980884  0.962547\n",
       "SVC            0.954023  0.961804   0.977123  0.947566\n",
       "KNN            0.933333  0.944804   0.961372  0.928839"
      ]
     },
     "execution_count": 11,
     "metadata": {},
     "output_type": "execute_result"
    }
   ],
   "source": [
    "scores2"
   ]
  },
  {
   "cell_type": "markdown",
   "metadata": {},
   "source": [
    "### Challenge 4"
   ]
  },
  {
   "cell_type": "code",
   "execution_count": 12,
   "metadata": {
    "collapsed": false
   },
   "outputs": [],
   "source": [
    "import sklearn.preprocessing\n",
    "from statsmodels.formula.api import Logit\n",
    "from patsy import dmatrices"
   ]
  },
  {
   "cell_type": "code",
   "execution_count": 13,
   "metadata": {
    "collapsed": false
   },
   "outputs": [
    {
     "data": {
      "text/html": [
       "<div>\n",
       "<table border=\"1\" class=\"dataframe\">\n",
       "  <thead>\n",
       "    <tr style=\"text-align: right;\">\n",
       "      <th></th>\n",
       "      <th>Title</th>\n",
       "      <th>Budget</th>\n",
       "      <th>DomesticTotalGross</th>\n",
       "      <th>Director</th>\n",
       "      <th>Rating</th>\n",
       "      <th>Runtime</th>\n",
       "      <th>ReleaseDate</th>\n",
       "    </tr>\n",
       "  </thead>\n",
       "  <tbody>\n",
       "    <tr>\n",
       "      <th>0</th>\n",
       "      <td>The Hunger Games: Catching Fire</td>\n",
       "      <td>130000000.0</td>\n",
       "      <td>424668047</td>\n",
       "      <td>Francis Lawrence</td>\n",
       "      <td>PG-13</td>\n",
       "      <td>146</td>\n",
       "      <td>2013-11-22 00:00:00</td>\n",
       "    </tr>\n",
       "    <tr>\n",
       "      <th>1</th>\n",
       "      <td>Iron Man 3</td>\n",
       "      <td>200000000.0</td>\n",
       "      <td>409013994</td>\n",
       "      <td>Shane Black</td>\n",
       "      <td>PG-13</td>\n",
       "      <td>129</td>\n",
       "      <td>2013-05-03 00:00:00</td>\n",
       "    </tr>\n",
       "    <tr>\n",
       "      <th>2</th>\n",
       "      <td>Frozen</td>\n",
       "      <td>150000000.0</td>\n",
       "      <td>400738009</td>\n",
       "      <td>Chris BuckJennifer Lee</td>\n",
       "      <td>PG</td>\n",
       "      <td>108</td>\n",
       "      <td>2013-11-22 00:00:00</td>\n",
       "    </tr>\n",
       "    <tr>\n",
       "      <th>3</th>\n",
       "      <td>Despicable Me 2</td>\n",
       "      <td>76000000.0</td>\n",
       "      <td>368061265</td>\n",
       "      <td>Pierre CoffinChris Renaud</td>\n",
       "      <td>PG</td>\n",
       "      <td>98</td>\n",
       "      <td>2013-07-03 00:00:00</td>\n",
       "    </tr>\n",
       "    <tr>\n",
       "      <th>4</th>\n",
       "      <td>Man of Steel</td>\n",
       "      <td>225000000.0</td>\n",
       "      <td>291045518</td>\n",
       "      <td>Zack Snyder</td>\n",
       "      <td>PG-13</td>\n",
       "      <td>143</td>\n",
       "      <td>2013-06-14 00:00:00</td>\n",
       "    </tr>\n",
       "  </tbody>\n",
       "</table>\n",
       "</div>"
      ],
      "text/plain": [
       "                             Title       Budget  DomesticTotalGross  \\\n",
       "0  The Hunger Games: Catching Fire  130000000.0           424668047   \n",
       "1                       Iron Man 3  200000000.0           409013994   \n",
       "2                           Frozen  150000000.0           400738009   \n",
       "3                  Despicable Me 2   76000000.0           368061265   \n",
       "4                     Man of Steel  225000000.0           291045518   \n",
       "\n",
       "                    Director Rating  Runtime          ReleaseDate  \n",
       "0           Francis Lawrence  PG-13      146  2013-11-22 00:00:00  \n",
       "1                Shane Black  PG-13      129  2013-05-03 00:00:00  \n",
       "2     Chris BuckJennifer Lee     PG      108  2013-11-22 00:00:00  \n",
       "3  Pierre CoffinChris Renaud     PG       98  2013-07-03 00:00:00  \n",
       "4                Zack Snyder  PG-13      143  2013-06-14 00:00:00  "
      ]
     },
     "execution_count": 13,
     "metadata": {},
     "output_type": "execute_result"
    }
   ],
   "source": [
    "df = pd.read_csv(\"2013_movies.csv\")\n",
    "df.head(5)"
   ]
  },
  {
   "cell_type": "code",
   "execution_count": 14,
   "metadata": {
    "collapsed": false
   },
   "outputs": [],
   "source": [
    "X = df[['Budget','DomesticTotalGross','Runtime']].copy()\n",
    "X.Budget = X.Budget.fillna(X.Budget.mean())\n",
    "X.DomesticTotalGross = X.DomesticTotalGross.fillna(X.DomesticTotalGross.mean())\n",
    "X.Runtime = X.Runtime.fillna(X.Runtime.mean())\n",
    "y = df.Rating"
   ]
  },
  {
   "cell_type": "code",
   "execution_count": 15,
   "metadata": {
    "collapsed": false
   },
   "outputs": [
    {
     "name": "stdout",
     "output_type": "stream",
     "text": [
      "KNN classifier for movie data:\n",
      "labels ['G' 'PG' 'PG-13' 'R']\n",
      "precision =  [ 0.5         0.47619048  0.2       ]\n",
      "recall =  [ 0.28571429  0.71428571  0.11111111]\n",
      "\n",
      "\n",
      "Logistic Regression classifier for movie data:\n",
      "labels ['G' 'PG' 'PG-13' 'R']\n",
      "precision =  [ 1.          0.625       0.46153846]\n",
      "recall =  [ 0.14285714  0.71428571  0.66666667]\n"
     ]
    }
   ],
   "source": [
    "x_train, x_test, y_train, y_test = train_test_split(X, y,test_size=0.3,random_state=4444)\n",
    "scaler = sklearn.preprocessing.StandardScaler().fit(X)\n",
    "\n",
    "\n",
    "knn = KNeighborsClassifier(n_neighbors=4)\n",
    "knn.fit(scaler.transform(x_train),y_train)\n",
    "y_hat = knn.predict(scaler.transform(x_test))\n",
    "prec, recall, fscore, _ = precision_recall_fscore_support(y_test,y_hat)\n",
    "print('KNN classifier for movie data:')\n",
    "print('labels', knn.classes_)\n",
    "print('precision = ', prec)\n",
    "print('recall = ', recall)\n",
    "print('\\n')\n",
    "    \n",
    "    \n",
    "LR = LogisticRegression()\n",
    "LR.fit(scaler.transform(x_train),y_train)\n",
    "y_hat = LR.predict(scaler.transform(x_test))\n",
    "prec, recall, fscore, _ = precision_recall_fscore_support(y_test,y_hat)\n",
    "print('Logistic Regression classifier for movie data:')\n",
    "print('labels', knn.classes_)\n",
    "print('precision = ', prec)\n",
    "print('recall = ', recall)\n",
    "    "
   ]
  },
  {
   "cell_type": "markdown",
   "metadata": {},
   "source": [
    "### Challenge 12"
   ]
  },
  {
   "cell_type": "code",
   "execution_count": 16,
   "metadata": {
    "collapsed": true
   },
   "outputs": [],
   "source": [
    "df = pd.read_csv('haberman.csv', header = None)\n",
    "df.columns = ['age_at_diag', 'surgery','lymph_nodes','survival']"
   ]
  },
  {
   "cell_type": "code",
   "execution_count": 18,
   "metadata": {
    "collapsed": false
   },
   "outputs": [],
   "source": [
    "df.survival = df.survival.replace(to_replace=[1,2],value=[0,1])\n",
    "df.age_at_diag = df.age_at_diag.astype(int)\n",
    "df.lymph_nodes = df.lymph_nodes.astype(int)\n",
    "df.surgery = df.surgery.astype(int);"
   ]
  },
  {
   "cell_type": "code",
   "execution_count": 19,
   "metadata": {
    "collapsed": true
   },
   "outputs": [],
   "source": [
    "x_train, x_test, y_train, y_test = train_test_split(df.iloc[:,:3],df.iloc[:,-1],test_size=0.3,random_state=4444)"
   ]
  },
  {
   "cell_type": "code",
   "execution_count": 20,
   "metadata": {
    "collapsed": false
   },
   "outputs": [],
   "source": [
    "LR = LogisticRegression()\n",
    "LR.fit(x_train,y_train)\n",
    "fprLR, tprLR, thresholdsLR = roc_curve(y_test, LR.predict_proba(x_test)[:,1])\n",
    "aucLR = roc_auc_score(y_test, LR.predict_proba(x_test)[:,1])\n"
   ]
  },
  {
   "cell_type": "code",
   "execution_count": 21,
   "metadata": {
    "collapsed": false
   },
   "outputs": [
    {
     "data": {
      "image/png": "[encoded data removed]",
      "text/plain": [
       "<matplotlib.figure.Figure at 0x11a6af080>"
      ]
     },
     "metadata": {},
     "output_type": "display_data"
    }
   ],
   "source": [
    "plt.figure(figsize = (7,7))\n",
    "sns.set(context=\"notebook\", style = 'whitegrid', color_codes=True)\n",
    "\n",
    "p1, = plt.plot(fprLR, tprLR)\n",
    "p2, = plt.plot([0,1],[0,1])\n",
    "\n",
    "plt.xlabel('false positive rate', fontsize = 16)\n",
    "plt.ylabel('true positive rate', fontsize = 16)\n",
    "plt.title(\"ROC, AUC =\" + \"{0:.3f}\".format(aucLR) , fontsize=18);\n"
   ]
  }
 ],
 "metadata": {
  "kernelspec": {
   "display_name": "Python 3",
   "language": "python",
   "name": "python3"
  },
  "language_info": {
   "codemirror_mode": {
    "name": "ipython",
    "version": 3
   },
   "file_extension": ".py",
   "mimetype": "text/x-python",
   "name": "python",
   "nbconvert_exporter": "python",
   "pygments_lexer": "ipython3",
   "version": "3.5.1"
  }
 },
 "nbformat": 4,
 "nbformat_minor": 0
}
