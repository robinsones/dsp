{
 "cells": [
  {
   "cell_type": "markdown",
   "metadata": {},
   "source": [
    "## Challenge Set 9\n",
    "### McNulty - Poisson GLM Challenges"
   ]
  },
  {
   "cell_type": "markdown",
   "metadata": {},
   "source": [
    "#### Updated:  11/5/15\n",
    "#### By:  Bo, Reshama"
   ]
  },
  {
   "cell_type": "markdown",
   "metadata": {},
   "source": [
    "##Table of Contents \n",
    "\n",
    "[Challenge01](#1) \n",
    "\n",
    "Model the damage incident counts (ship data) with a Poisson Regression.\n",
    "\n",
    "[Challenge02](#2)\n",
    "\n",
    "Try your model with months of service as the offset. Does it perform better?\n",
    "\n",
    "[Challenge03](#3)\n",
    "\n",
    "Now separate your data and check if you predict well (you can look at mean absolute error or mean squared error using sklearn.metrics).\n",
    "\n",
    "[Challenge04](#4)\n",
    "\n",
    "Deviance Compute the difference in Deviance statistics for your model and the null model. \n",
    "\n",
    "[Challenge05](#5)\n",
    "\n",
    "Now, instead of a poisson regression, do an ordinary least squares regression with log Y. Compare the models. Are the coefficients close? Do they perform similarly?\n",
    "\n",
    "[Challenge06](#6)\n",
    "\n",
    "Now, let's do this on another dataset: Smoking and Cancer.  That population looks a lot like an offset!\n",
    "Fit poisson and OLS models and compare them.\n",
    "\n",
    "[Challenge06b](#6b)\n",
    "GLM with Poisson\n",
    "\n",
    "[Challenge06c](#6c)\n",
    "OLS\n",
    "\n",
    "[Bonus](#7)\n",
    "\n",
    "Try all these things in R! Your numerical answers should all be the same."
   ]
  },
  {
   "cell_type": "markdown",
   "metadata": {},
   "source": [
    "-----------"
   ]
  },
  {
   "cell_type": "code",
   "execution_count": 1,
   "metadata": {
    "collapsed": false
   },
   "outputs": [],
   "source": [
    "import numpy as np\n",
    "import pandas as pd\n",
    "import statsmodels.api as sm\n",
    "from pandas.io.stata import StataReader\n",
    "from scipy.stats import chisqprob"
   ]
  },
  {
   "cell_type": "markdown",
   "metadata": {},
   "source": [
    "The dataset we will use is poached from STATA.\n",
    "\n",
    "Here is the actual file: http://data.princeton.edu/wws509/datasets/ships.dta\n",
    "\n",
    "More info: http://data.princeton.edu/wws509/datasets/#ships\n",
    "\n",
    "Here are some details on this dataset:\n",
    "\n",
    "The file has 34 rows corresponding to the observed combinations of type of ship, year of construction and period of operation.\n",
    "\n",
    "Each row has information on five variables as follows:\n",
    "\n",
    " * ship type, coded 1-5 for A, B, C, D and E,\n",
    " * year of construction (1=1960-64, 2=1965-70, 3=1970-74, 4=1975-79),\n",
    " * period of operation (1=1960-74, 2=1975-79)\n",
    " * months of service, ranging from 63 to 20,370, and\n",
    " * damage incidents, ranging from 0 to 53.\n",
    " * Note that there no ships of type E built in 1960-64, and that ships built in 1970-74 could not have operated in 1960-74. These combinations are omitted from the data file.\n",
    "\n"
   ]
  },
  {
   "cell_type": "markdown",
   "metadata": {},
   "source": [
    "### <a id='1'></a> Challenge 1"
   ]
  },
  {
   "cell_type": "markdown",
   "metadata": {},
   "source": [
    "Model the damage incident counts with a Poisson Regression.\n",
    "\n",
    "> Hint: You can look at the previous ipython notebook with the logistic GLM example to see how you can do GLM with statsmodels.\n",
    "Remember that you will have to create dummy variables for categorical variables, and if you have time bins (like \"1960-1964\"), you have the option of either a) treating each bin as a category (and create dummies for each bin), or b) treat it as a continuous variable and take the mid-value (1962). Also remember to add a constant (to model the intercept).\n",
    "\n",
    "Take a look at the statsmodels summary table, the goodness of fit indicators (Deviance, Pearson's chi square statistic) and the coefficients. Is this a good model?"
   ]
  },
  {
   "cell_type": "code",
   "execution_count": 2,
   "metadata": {
    "collapsed": false
   },
   "outputs": [],
   "source": [
    "#!wget http://data.princeton.edu/wws509/datasets/ships.dta"
   ]
  },
  {
   "cell_type": "code",
   "execution_count": 3,
   "metadata": {
    "collapsed": false
   },
   "outputs": [],
   "source": [
    "# this code updated on 10/6/15\n",
    "data = pd.read_stata('ships.dta')"
   ]
  },
  {
   "cell_type": "code",
   "execution_count": 4,
   "metadata": {
    "collapsed": false
   },
   "outputs": [
    {
     "name": "stdout",
     "output_type": "stream",
     "text": [
      "(34, 5)\n",
      "  type construction operation  months  damage\n",
      "0    A      1960-64   1960-74     127       0\n",
      "1    A      1960-64   1975-79      63       0\n",
      "2    A      1965-70   1960-74    1095       3\n",
      "3    A      1965-70   1975-79    1095       4\n",
      "4    A      1970-74   1960-74    1512       6\n"
     ]
    }
   ],
   "source": [
    "print data.shape\n",
    "print data.head()"
   ]
  },
  {
   "cell_type": "code",
   "execution_count": 5,
   "metadata": {
    "collapsed": false
   },
   "outputs": [],
   "source": [
    "# this code no longer works since anaconda was updated\n",
    "# # load dataset \n",
    "# reader = StataReader('ships.dta')\n",
    "# data = reader.data() #a pandas DataFrame"
   ]
  },
  {
   "cell_type": "code",
   "execution_count": 6,
   "metadata": {
    "collapsed": false
   },
   "outputs": [
    {
     "name": "stdout",
     "output_type": "stream",
     "text": [
      "  type construction operation  months  damage\n",
      "0    A      1960-64   1960-74     127       0\n",
      "1    A      1960-64   1975-79      63       0\n",
      "2    A      1965-70   1960-74    1095       3\n",
      "3    A      1965-70   1975-79    1095       4\n",
      "4    A      1970-74   1960-74    1512       6\n"
     ]
    }
   ],
   "source": [
    "print data[:5]"
   ]
  },
  {
   "cell_type": "code",
   "execution_count": 7,
   "metadata": {
    "collapsed": false
   },
   "outputs": [
    {
     "name": "stdout",
     "output_type": "stream",
     "text": [
      "   type_A  type_B  type_C  type_D  type_E\n",
      "0       1       0       0       0       0\n",
      "1       1       0       0       0       0\n",
      "2       1       0       0       0       0\n",
      "   construction_1960-64  construction_1965-70  construction_1970-74  \\\n",
      "0                     1                     0                     0   \n",
      "1                     1                     0                     0   \n",
      "2                     0                     1                     0   \n",
      "\n",
      "   construction_1975-79  \n",
      "0                     0  \n",
      "1                     0  \n",
      "2                     0  \n",
      "   operation_1960-74  operation_1975-79\n",
      "0                  1                  0\n",
      "1                  0                  1\n",
      "2                  1                  0\n",
      "---------------------------------------------------------------------------\n",
      "   type_A  type_B  type_C  type_D  type_E  construction_1960-64  \\\n",
      "0       1       0       0       0       0                     1   \n",
      "1       1       0       0       0       0                     1   \n",
      "2       1       0       0       0       0                     0   \n",
      "3       1       0       0       0       0                     0   \n",
      "4       1       0       0       0       0                     0   \n",
      "\n",
      "   construction_1965-70  construction_1970-74  construction_1975-79  \\\n",
      "0                     0                     0                     0   \n",
      "1                     0                     0                     0   \n",
      "2                     1                     0                     0   \n",
      "3                     1                     0                     0   \n",
      "4                     0                     1                     0   \n",
      "\n",
      "   operation_1960-74  operation_1975-79  \n",
      "0                  1                  0  \n",
      "1                  0                  1  \n",
      "2                  1                  0  \n",
      "3                  0                  1  \n",
      "4                  1                  0  \n"
     ]
    }
   ],
   "source": [
    "# dummify rank\n",
    "types = pd.get_dummies(data['type'], prefix='type')\n",
    "construction = pd.get_dummies(data['construction'], prefix='construction')\n",
    "operation    = pd.get_dummies(data['operation'], prefix='operation')\n",
    "\n",
    "print types[:3]\n",
    "print construction[:3]\n",
    "print operation[:3]\n",
    "\n",
    "dummies_only = pd.concat([types, construction,operation],axis=1)\n",
    "print '-'*75\n",
    "print dummies_only[:5]\n"
   ]
  },
  {
   "cell_type": "code",
   "execution_count": 8,
   "metadata": {
    "collapsed": false
   },
   "outputs": [
    {
     "name": "stdout",
     "output_type": "stream",
     "text": [
      "(34, 10)\n"
     ]
    },
    {
     "data": {
      "text/html": [
       "<div>\n",
       "<table border=\"1\" class=\"dataframe\">\n",
       "  <thead>\n",
       "    <tr style=\"text-align: right;\">\n",
       "      <th></th>\n",
       "      <th>const</th>\n",
       "      <th>months</th>\n",
       "      <th>type_B</th>\n",
       "      <th>type_C</th>\n",
       "      <th>type_D</th>\n",
       "      <th>type_E</th>\n",
       "      <th>construction_1965-70</th>\n",
       "      <th>construction_1970-74</th>\n",
       "      <th>construction_1975-79</th>\n",
       "      <th>operation_1975-79</th>\n",
       "    </tr>\n",
       "  </thead>\n",
       "  <tbody>\n",
       "    <tr>\n",
       "      <th>0</th>\n",
       "      <td>1</td>\n",
       "      <td>127</td>\n",
       "      <td>0</td>\n",
       "      <td>0</td>\n",
       "      <td>0</td>\n",
       "      <td>0</td>\n",
       "      <td>0</td>\n",
       "      <td>0</td>\n",
       "      <td>0</td>\n",
       "      <td>0</td>\n",
       "    </tr>\n",
       "    <tr>\n",
       "      <th>1</th>\n",
       "      <td>1</td>\n",
       "      <td>63</td>\n",
       "      <td>0</td>\n",
       "      <td>0</td>\n",
       "      <td>0</td>\n",
       "      <td>0</td>\n",
       "      <td>0</td>\n",
       "      <td>0</td>\n",
       "      <td>0</td>\n",
       "      <td>1</td>\n",
       "    </tr>\n",
       "    <tr>\n",
       "      <th>2</th>\n",
       "      <td>1</td>\n",
       "      <td>1095</td>\n",
       "      <td>0</td>\n",
       "      <td>0</td>\n",
       "      <td>0</td>\n",
       "      <td>0</td>\n",
       "      <td>1</td>\n",
       "      <td>0</td>\n",
       "      <td>0</td>\n",
       "      <td>0</td>\n",
       "    </tr>\n",
       "    <tr>\n",
       "      <th>3</th>\n",
       "      <td>1</td>\n",
       "      <td>1095</td>\n",
       "      <td>0</td>\n",
       "      <td>0</td>\n",
       "      <td>0</td>\n",
       "      <td>0</td>\n",
       "      <td>1</td>\n",
       "      <td>0</td>\n",
       "      <td>0</td>\n",
       "      <td>1</td>\n",
       "    </tr>\n",
       "    <tr>\n",
       "      <th>4</th>\n",
       "      <td>1</td>\n",
       "      <td>1512</td>\n",
       "      <td>0</td>\n",
       "      <td>0</td>\n",
       "      <td>0</td>\n",
       "      <td>0</td>\n",
       "      <td>0</td>\n",
       "      <td>1</td>\n",
       "      <td>0</td>\n",
       "      <td>0</td>\n",
       "    </tr>\n",
       "  </tbody>\n",
       "</table>\n",
       "</div>"
      ],
      "text/plain": [
       "   const  months  type_B  type_C  type_D  type_E  construction_1965-70  \\\n",
       "0      1     127       0       0       0       0                     0   \n",
       "1      1      63       0       0       0       0                     0   \n",
       "2      1    1095       0       0       0       0                     1   \n",
       "3      1    1095       0       0       0       0                     1   \n",
       "4      1    1512       0       0       0       0                     0   \n",
       "\n",
       "   construction_1970-74  construction_1975-79  operation_1975-79  \n",
       "0                     0                     0                  0  \n",
       "1                     0                     0                  1  \n",
       "2                     0                     0                  0  \n",
       "3                     0                     0                  1  \n",
       "4                     1                     0                  0  "
      ]
     },
     "execution_count": 8,
     "metadata": {},
     "output_type": "execute_result"
    }
   ],
   "source": [
    "# Getting the design matrix (sm_X) ready to input into the GLM. \n",
    "# Remove the redundant dummy columns; add a column for the constant\n",
    "subset_dummy = dummies_only[[\"type_B\",\"type_C\",\"type_D\", \"type_E\",\n",
    "                             \"construction_1965-70\", \"construction_1970-74\", \n",
    "                             \"construction_1975-79\", \"operation_1975-79\"\n",
    "                             ]]\n",
    "\n",
    "sm_X = pd.concat([data.months, subset_dummy], axis=1)\n",
    "sm_X = sm.add_constant(sm_X)\n",
    "\n",
    "print sm_X.shape\n",
    "sm_X.head()"
   ]
  },
  {
   "cell_type": "code",
   "execution_count": 9,
   "metadata": {
    "collapsed": false
   },
   "outputs": [
    {
     "name": "stdout",
     "output_type": "stream",
     "text": [
      "(34,)\n",
      "0    0\n",
      "1    0\n",
      "2    3\n",
      "3    4\n",
      "4    6\n",
      "Name: damage, dtype: float32\n"
     ]
    }
   ],
   "source": [
    "# Our response variable, call it Y\n",
    "Y = data.damage\n",
    "print Y.shape\n",
    "print Y.head()"
   ]
  },
  {
   "cell_type": "code",
   "execution_count": 10,
   "metadata": {
    "collapsed": false
   },
   "outputs": [
    {
     "data": {
      "text/html": [
       "<table class=\"simpletable\">\n",
       "<caption>Generalized Linear Model Regression Results</caption>\n",
       "<tr>\n",
       "  <th>Dep. Variable:</th>       <td>damage</td>      <th>  No. Observations:  </th>  <td>    34</td> \n",
       "</tr>\n",
       "<tr>\n",
       "  <th>Model:</th>                 <td>GLM</td>       <th>  Df Residuals:      </th>  <td>    24</td> \n",
       "</tr>\n",
       "<tr>\n",
       "  <th>Model Family:</th>        <td>Poisson</td>     <th>  Df Model:          </th>  <td>     9</td> \n",
       "</tr>\n",
       "<tr>\n",
       "  <th>Link Function:</th>         <td>log</td>       <th>  Scale:             </th>    <td>1.0</td>  \n",
       "</tr>\n",
       "<tr>\n",
       "  <th>Method:</th>               <td>IRLS</td>       <th>  Log-Likelihood:    </th> <td> -84.182</td>\n",
       "</tr>\n",
       "<tr>\n",
       "  <th>Date:</th>           <td>Thu, 05 Nov 2015</td> <th>  Deviance:          </th> <td>  70.498</td>\n",
       "</tr>\n",
       "<tr>\n",
       "  <th>Time:</th>               <td>21:08:30</td>     <th>  Pearson chi2:      </th>  <td>  65.8</td> \n",
       "</tr>\n",
       "<tr>\n",
       "  <th>No. Iterations:</th>         <td>9</td>        <th>                     </th>     <td> </td>   \n",
       "</tr>\n",
       "</table>\n",
       "<table class=\"simpletable\">\n",
       "<tr>\n",
       "            <td></td>              <th>coef</th>     <th>std err</th>      <th>z</th>      <th>P>|z|</th> <th>[95.0% Conf. Int.]</th> \n",
       "</tr>\n",
       "<tr>\n",
       "  <th>const</th>                <td>    0.1786</td> <td>    0.277</td> <td>    0.645</td> <td> 0.519</td> <td>   -0.364     0.722</td>\n",
       "</tr>\n",
       "<tr>\n",
       "  <th>months</th>               <td> 6.697e-05</td> <td> 8.52e-06</td> <td>    7.857</td> <td> 0.000</td> <td> 5.03e-05  8.37e-05</td>\n",
       "</tr>\n",
       "<tr>\n",
       "  <th>type_B</th>               <td>    0.6701</td> <td>    0.217</td> <td>    3.085</td> <td> 0.002</td> <td>    0.244     1.096</td>\n",
       "</tr>\n",
       "<tr>\n",
       "  <th>type_C</th>               <td>   -1.1916</td> <td>    0.328</td> <td>   -3.638</td> <td> 0.000</td> <td>   -1.833    -0.550</td>\n",
       "</tr>\n",
       "<tr>\n",
       "  <th>type_D</th>               <td>   -0.8294</td> <td>    0.288</td> <td>   -2.883</td> <td> 0.004</td> <td>   -1.393    -0.266</td>\n",
       "</tr>\n",
       "<tr>\n",
       "  <th>type_E</th>               <td>   -0.1493</td> <td>    0.235</td> <td>   -0.636</td> <td> 0.525</td> <td>   -0.610     0.311</td>\n",
       "</tr>\n",
       "<tr>\n",
       "  <th>construction_1965-70</th> <td>    1.0873</td> <td>    0.179</td> <td>    6.067</td> <td> 0.000</td> <td>    0.736     1.439</td>\n",
       "</tr>\n",
       "<tr>\n",
       "  <th>construction_1970-74</th> <td>    1.4998</td> <td>    0.225</td> <td>    6.673</td> <td> 0.000</td> <td>    1.059     1.940</td>\n",
       "</tr>\n",
       "<tr>\n",
       "  <th>construction_1975-79</th> <td>    0.8545</td> <td>    0.276</td> <td>    3.097</td> <td> 0.002</td> <td>    0.314     1.395</td>\n",
       "</tr>\n",
       "<tr>\n",
       "  <th>operation_1975-79</th>    <td>    0.7284</td> <td>    0.136</td> <td>    5.369</td> <td> 0.000</td> <td>    0.462     0.994</td>\n",
       "</tr>\n",
       "</table>"
      ],
      "text/plain": [
       "<class 'statsmodels.iolib.summary.Summary'>\n",
       "\"\"\"\n",
       "                 Generalized Linear Model Regression Results                  \n",
       "==============================================================================\n",
       "Dep. Variable:                 damage   No. Observations:                   34\n",
       "Model:                            GLM   Df Residuals:                       24\n",
       "Model Family:                 Poisson   Df Model:                            9\n",
       "Link Function:                    log   Scale:                             1.0\n",
       "Method:                          IRLS   Log-Likelihood:                -84.182\n",
       "Date:                Thu, 05 Nov 2015   Deviance:                       70.498\n",
       "Time:                        21:08:30   Pearson chi2:                     65.8\n",
       "No. Iterations:                     9                                         \n",
       "========================================================================================\n",
       "                           coef    std err          z      P>|z|      [95.0% Conf. Int.]\n",
       "----------------------------------------------------------------------------------------\n",
       "const                    0.1786      0.277      0.645      0.519        -0.364     0.722\n",
       "months                6.697e-05   8.52e-06      7.857      0.000      5.03e-05  8.37e-05\n",
       "type_B                   0.6701      0.217      3.085      0.002         0.244     1.096\n",
       "type_C                  -1.1916      0.328     -3.638      0.000        -1.833    -0.550\n",
       "type_D                  -0.8294      0.288     -2.883      0.004        -1.393    -0.266\n",
       "type_E                  -0.1493      0.235     -0.636      0.525        -0.610     0.311\n",
       "construction_1965-70     1.0873      0.179      6.067      0.000         0.736     1.439\n",
       "construction_1970-74     1.4998      0.225      6.673      0.000         1.059     1.940\n",
       "construction_1975-79     0.8545      0.276      3.097      0.002         0.314     1.395\n",
       "operation_1975-79        0.7284      0.136      5.369      0.000         0.462     0.994\n",
       "========================================================================================\n",
       "\"\"\""
      ]
     },
     "execution_count": 10,
     "metadata": {},
     "output_type": "execute_result"
    }
   ],
   "source": [
    "## NOTE: without the offset, this model is incorrect. The correct model is in Challenge 2.\n",
    "\n",
    "glm_no_offset = sm.GLM(Y, sm_X, family=sm.families.Poisson(link=sm.families.links.log)).fit()\n",
    "glm_no_offset.summary()"
   ]
  },
  {
   "cell_type": "code",
   "execution_count": 11,
   "metadata": {
    "collapsed": false
   },
   "outputs": [
    {
     "name": "stdout",
     "output_type": "stream",
     "text": [
      "Model:  no offset\n",
      "deviance: 70.4976721566\n",
      "pearson's chi-squared test statistic: 65.7751214105\n"
     ]
    }
   ],
   "source": [
    "## Both the model's Deviance and Chi-square test statistics \n",
    "## are Chi-squared distributed with n-p degrees of freedom, \n",
    "## where n = number of observations = 34, \n",
    "## and p = number of covariates (number of columns of X) = 9\n",
    "print \"Model:  no offset\"\n",
    "print \"deviance:\", glm_no_offset.deviance\n",
    "print \"pearson's chi-squared test statistic:\", glm_no_offset.pearson_chi2"
   ]
  },
  {
   "cell_type": "markdown",
   "metadata": {},
   "source": [
    "NOTE: rather than just adding number of months to the model as a covariate, it makes much more sense to add number of months as an offset (i.e. what we do in Challenge 2).\n",
    "\n"
   ]
  },
  {
   "cell_type": "code",
   "execution_count": 12,
   "metadata": {
    "collapsed": false
   },
   "outputs": [
    {
     "data": {
      "text/html": [
       "<div>\n",
       "<table border=\"1\" class=\"dataframe\">\n",
       "  <thead>\n",
       "    <tr style=\"text-align: right;\">\n",
       "      <th></th>\n",
       "      <th>const</th>\n",
       "      <th>type_B</th>\n",
       "      <th>type_C</th>\n",
       "      <th>type_D</th>\n",
       "      <th>type_E</th>\n",
       "      <th>construction_1965-70</th>\n",
       "      <th>construction_1970-74</th>\n",
       "      <th>construction_1975-79</th>\n",
       "      <th>operation_1975-79</th>\n",
       "    </tr>\n",
       "  </thead>\n",
       "  <tbody>\n",
       "    <tr>\n",
       "      <th>0</th>\n",
       "      <td>1</td>\n",
       "      <td>0</td>\n",
       "      <td>0</td>\n",
       "      <td>0</td>\n",
       "      <td>0</td>\n",
       "      <td>0</td>\n",
       "      <td>0</td>\n",
       "      <td>0</td>\n",
       "      <td>0</td>\n",
       "    </tr>\n",
       "    <tr>\n",
       "      <th>1</th>\n",
       "      <td>1</td>\n",
       "      <td>0</td>\n",
       "      <td>0</td>\n",
       "      <td>0</td>\n",
       "      <td>0</td>\n",
       "      <td>0</td>\n",
       "      <td>0</td>\n",
       "      <td>0</td>\n",
       "      <td>1</td>\n",
       "    </tr>\n",
       "    <tr>\n",
       "      <th>2</th>\n",
       "      <td>1</td>\n",
       "      <td>0</td>\n",
       "      <td>0</td>\n",
       "      <td>0</td>\n",
       "      <td>0</td>\n",
       "      <td>1</td>\n",
       "      <td>0</td>\n",
       "      <td>0</td>\n",
       "      <td>0</td>\n",
       "    </tr>\n",
       "  </tbody>\n",
       "</table>\n",
       "</div>"
      ],
      "text/plain": [
       "   const  type_B  type_C  type_D  type_E  construction_1965-70  \\\n",
       "0      1       0       0       0       0                     0   \n",
       "1      1       0       0       0       0                     0   \n",
       "2      1       0       0       0       0                     1   \n",
       "\n",
       "   construction_1970-74  construction_1975-79  operation_1975-79  \n",
       "0                     0                     0                  0  \n",
       "1                     0                     0                  1  \n",
       "2                     0                     0                  0  "
      ]
     },
     "execution_count": 12,
     "metadata": {},
     "output_type": "execute_result"
    }
   ],
   "source": [
    "X_no_months = sm_X.drop([\"months\"], axis=1)\n",
    "X_no_months.head(3)"
   ]
  },
  {
   "cell_type": "markdown",
   "metadata": {},
   "source": [
    "### <a id='2'></a> Challenge 2"
   ]
  },
  {
   "cell_type": "markdown",
   "metadata": {},
   "source": [
    "The months of service provides the time interval in which a ship has chances to acquire damages. It can be thought of \"exposure\", and this column can be used as an offset.  \n",
    " \n",
    "Try your model with months of service as the offset. Does it perform better?"
   ]
  },
  {
   "cell_type": "code",
   "execution_count": 13,
   "metadata": {
    "collapsed": false
   },
   "outputs": [
    {
     "name": "stdout",
     "output_type": "stream",
     "text": [
      "Model:  offset = logmonths\n",
      "deviance: 38.69504856\n",
      "pearson's chi-squared test statistic: 42.2752462015\n"
     ]
    }
   ],
   "source": [
    "## This is the correct model.\n",
    "## You need to add the offset.\n",
    "\n",
    "logmonths = np.log(sm_X.months)\n",
    "\n",
    "glm_offset = sm.GLM(Y, X_no_months, offset=logmonths, family=sm.families.Poisson()).fit()\n",
    "glm_offset.summary()\n",
    "\n",
    "## Note: the offset parameter doesn't get its own covariate output. \n",
    "## The would-be coefficient for the offset is \n",
    "## forced to be 1 (or as close to 1 as possible).\n",
    "\n",
    "print \"Model:  offset = logmonths\"\n",
    "print \"deviance:\", glm_offset.deviance\n",
    "print \"pearson's chi-squared test statistic:\", glm_offset.pearson_chi2"
   ]
  },
  {
   "cell_type": "code",
   "execution_count": 14,
   "metadata": {
    "collapsed": false
   },
   "outputs": [
    {
     "data": {
      "text/html": [
       "<table class=\"simpletable\">\n",
       "<caption>Generalized Linear Model Regression Results</caption>\n",
       "<tr>\n",
       "  <th>Dep. Variable:</th>       <td>damage</td>      <th>  No. Observations:  </th>  <td>    34</td> \n",
       "</tr>\n",
       "<tr>\n",
       "  <th>Model:</th>                 <td>GLM</td>       <th>  Df Residuals:      </th>  <td>    25</td> \n",
       "</tr>\n",
       "<tr>\n",
       "  <th>Model Family:</th>        <td>Poisson</td>     <th>  Df Model:          </th>  <td>     8</td> \n",
       "</tr>\n",
       "<tr>\n",
       "  <th>Link Function:</th>         <td>log</td>       <th>  Scale:             </th>    <td>1.0</td>  \n",
       "</tr>\n",
       "<tr>\n",
       "  <th>Method:</th>               <td>IRLS</td>       <th>  Log-Likelihood:    </th> <td> -68.281</td>\n",
       "</tr>\n",
       "<tr>\n",
       "  <th>Date:</th>           <td>Thu, 05 Nov 2015</td> <th>  Deviance:          </th> <td>  38.695</td>\n",
       "</tr>\n",
       "<tr>\n",
       "  <th>Time:</th>               <td>21:08:30</td>     <th>  Pearson chi2:      </th>  <td>  42.3</td> \n",
       "</tr>\n",
       "<tr>\n",
       "  <th>No. Iterations:</th>         <td>9</td>        <th>                     </th>     <td> </td>   \n",
       "</tr>\n",
       "</table>\n",
       "<table class=\"simpletable\">\n",
       "<tr>\n",
       "            <td></td>              <th>coef</th>     <th>std err</th>      <th>z</th>      <th>P>|z|</th> <th>[95.0% Conf. Int.]</th> \n",
       "</tr>\n",
       "<tr>\n",
       "  <th>const</th>                <td>   -6.4059</td> <td>    0.217</td> <td>  -29.460</td> <td> 0.000</td> <td>   -6.832    -5.980</td>\n",
       "</tr>\n",
       "<tr>\n",
       "  <th>type_B</th>               <td>   -0.5433</td> <td>    0.178</td> <td>   -3.060</td> <td> 0.002</td> <td>   -0.891    -0.195</td>\n",
       "</tr>\n",
       "<tr>\n",
       "  <th>type_C</th>               <td>   -0.6874</td> <td>    0.329</td> <td>   -2.089</td> <td> 0.037</td> <td>   -1.332    -0.042</td>\n",
       "</tr>\n",
       "<tr>\n",
       "  <th>type_D</th>               <td>   -0.0760</td> <td>    0.291</td> <td>   -0.261</td> <td> 0.794</td> <td>   -0.645     0.494</td>\n",
       "</tr>\n",
       "<tr>\n",
       "  <th>type_E</th>               <td>    0.3256</td> <td>    0.236</td> <td>    1.380</td> <td> 0.168</td> <td>   -0.137     0.788</td>\n",
       "</tr>\n",
       "<tr>\n",
       "  <th>construction_1965-70</th> <td>    0.6971</td> <td>    0.150</td> <td>    4.659</td> <td> 0.000</td> <td>    0.404     0.990</td>\n",
       "</tr>\n",
       "<tr>\n",
       "  <th>construction_1970-74</th> <td>    0.8184</td> <td>    0.170</td> <td>    4.821</td> <td> 0.000</td> <td>    0.486     1.151</td>\n",
       "</tr>\n",
       "<tr>\n",
       "  <th>construction_1975-79</th> <td>    0.4534</td> <td>    0.233</td> <td>    1.945</td> <td> 0.052</td> <td>   -0.004     0.910</td>\n",
       "</tr>\n",
       "<tr>\n",
       "  <th>operation_1975-79</th>    <td>    0.3845</td> <td>    0.118</td> <td>    3.251</td> <td> 0.001</td> <td>    0.153     0.616</td>\n",
       "</tr>\n",
       "</table>"
      ],
      "text/plain": [
       "<class 'statsmodels.iolib.summary.Summary'>\n",
       "\"\"\"\n",
       "                 Generalized Linear Model Regression Results                  \n",
       "==============================================================================\n",
       "Dep. Variable:                 damage   No. Observations:                   34\n",
       "Model:                            GLM   Df Residuals:                       25\n",
       "Model Family:                 Poisson   Df Model:                            8\n",
       "Link Function:                    log   Scale:                             1.0\n",
       "Method:                          IRLS   Log-Likelihood:                -68.281\n",
       "Date:                Thu, 05 Nov 2015   Deviance:                       38.695\n",
       "Time:                        21:08:30   Pearson chi2:                     42.3\n",
       "No. Iterations:                     9                                         \n",
       "========================================================================================\n",
       "                           coef    std err          z      P>|z|      [95.0% Conf. Int.]\n",
       "----------------------------------------------------------------------------------------\n",
       "const                   -6.4059      0.217    -29.460      0.000        -6.832    -5.980\n",
       "type_B                  -0.5433      0.178     -3.060      0.002        -0.891    -0.195\n",
       "type_C                  -0.6874      0.329     -2.089      0.037        -1.332    -0.042\n",
       "type_D                  -0.0760      0.291     -0.261      0.794        -0.645     0.494\n",
       "type_E                   0.3256      0.236      1.380      0.168        -0.137     0.788\n",
       "construction_1965-70     0.6971      0.150      4.659      0.000         0.404     0.990\n",
       "construction_1970-74     0.8184      0.170      4.821      0.000         0.486     1.151\n",
       "construction_1975-79     0.4534      0.233      1.945      0.052        -0.004     0.910\n",
       "operation_1975-79        0.3845      0.118      3.251      0.001         0.153     0.616\n",
       "========================================================================================\n",
       "\"\"\""
      ]
     },
     "execution_count": 14,
     "metadata": {},
     "output_type": "execute_result"
    }
   ],
   "source": [
    "glm_offset.summary()"
   ]
  },
  {
   "cell_type": "code",
   "execution_count": 15,
   "metadata": {
    "collapsed": false,
    "scrolled": true
   },
   "outputs": [
    {
     "data": {
      "text/html": [
       "<table class=\"simpletable\">\n",
       "<caption>Generalized Linear Model Regression Results</caption>\n",
       "<tr>\n",
       "  <th>Dep. Variable:</th>       <td>damage</td>      <th>  No. Observations:  </th>  <td>    34</td> \n",
       "</tr>\n",
       "<tr>\n",
       "  <th>Model:</th>                 <td>GLM</td>       <th>  Df Residuals:      </th>  <td>    24</td> \n",
       "</tr>\n",
       "<tr>\n",
       "  <th>Model Family:</th>        <td>Poisson</td>     <th>  Df Model:          </th>  <td>     9</td> \n",
       "</tr>\n",
       "<tr>\n",
       "  <th>Link Function:</th>         <td>log</td>       <th>  Scale:             </th>    <td>1.0</td>  \n",
       "</tr>\n",
       "<tr>\n",
       "  <th>Method:</th>               <td>IRLS</td>       <th>  Log-Likelihood:    </th> <td> -67.835</td>\n",
       "</tr>\n",
       "<tr>\n",
       "  <th>Date:</th>           <td>Thu, 05 Nov 2015</td> <th>  Deviance:          </th> <td>  37.804</td>\n",
       "</tr>\n",
       "<tr>\n",
       "  <th>Time:</th>               <td>21:08:30</td>     <th>  Pearson chi2:      </th>  <td>  39.4</td> \n",
       "</tr>\n",
       "<tr>\n",
       "  <th>No. Iterations:</th>         <td>9</td>        <th>                     </th>     <td> </td>   \n",
       "</tr>\n",
       "</table>\n",
       "<table class=\"simpletable\">\n",
       "<tr>\n",
       "            <td></td>              <th>coef</th>     <th>std err</th>      <th>z</th>      <th>P>|z|</th> <th>[95.0% Conf. Int.]</th> \n",
       "</tr>\n",
       "<tr>\n",
       "  <th>logmonths</th>            <td>    0.9027</td> <td>    0.102</td> <td>    8.867</td> <td> 0.000</td> <td>    0.703     1.102</td>\n",
       "</tr>\n",
       "<tr>\n",
       "  <th>const</th>                <td>   -5.5940</td> <td>    0.872</td> <td>   -6.412</td> <td> 0.000</td> <td>   -7.304    -3.884</td>\n",
       "</tr>\n",
       "<tr>\n",
       "  <th>type_B</th>               <td>   -0.3499</td> <td>    0.270</td> <td>   -1.295</td> <td> 0.195</td> <td>   -0.879     0.180</td>\n",
       "</tr>\n",
       "<tr>\n",
       "  <th>type_C</th>               <td>   -0.7631</td> <td>    0.338</td> <td>   -2.257</td> <td> 0.024</td> <td>   -1.426    -0.100</td>\n",
       "</tr>\n",
       "<tr>\n",
       "  <th>type_D</th>               <td>   -0.1355</td> <td>    0.297</td> <td>   -0.456</td> <td> 0.648</td> <td>   -0.718     0.447</td>\n",
       "</tr>\n",
       "<tr>\n",
       "  <th>type_E</th>               <td>    0.2739</td> <td>    0.242</td> <td>    1.133</td> <td> 0.257</td> <td>   -0.200     0.748</td>\n",
       "</tr>\n",
       "<tr>\n",
       "  <th>construction_1965-70</th> <td>    0.6625</td> <td>    0.154</td> <td>    4.312</td> <td> 0.000</td> <td>    0.361     0.964</td>\n",
       "</tr>\n",
       "<tr>\n",
       "  <th>construction_1970-74</th> <td>    0.7597</td> <td>    0.178</td> <td>    4.276</td> <td> 0.000</td> <td>    0.412     1.108</td>\n",
       "</tr>\n",
       "<tr>\n",
       "  <th>construction_1975-79</th> <td>    0.3697</td> <td>    0.246</td> <td>    1.504</td> <td> 0.133</td> <td>   -0.112     0.852</td>\n",
       "</tr>\n",
       "<tr>\n",
       "  <th>operation_1975-79</th>    <td>    0.3703</td> <td>    0.118</td> <td>    3.134</td> <td> 0.002</td> <td>    0.139     0.602</td>\n",
       "</tr>\n",
       "</table>"
      ],
      "text/plain": [
       "<class 'statsmodels.iolib.summary.Summary'>\n",
       "\"\"\"\n",
       "                 Generalized Linear Model Regression Results                  \n",
       "==============================================================================\n",
       "Dep. Variable:                 damage   No. Observations:                   34\n",
       "Model:                            GLM   Df Residuals:                       24\n",
       "Model Family:                 Poisson   Df Model:                            9\n",
       "Link Function:                    log   Scale:                             1.0\n",
       "Method:                          IRLS   Log-Likelihood:                -67.835\n",
       "Date:                Thu, 05 Nov 2015   Deviance:                       37.804\n",
       "Time:                        21:08:30   Pearson chi2:                     39.4\n",
       "No. Iterations:                     9                                         \n",
       "========================================================================================\n",
       "                           coef    std err          z      P>|z|      [95.0% Conf. Int.]\n",
       "----------------------------------------------------------------------------------------\n",
       "logmonths                0.9027      0.102      8.867      0.000         0.703     1.102\n",
       "const                   -5.5940      0.872     -6.412      0.000        -7.304    -3.884\n",
       "type_B                  -0.3499      0.270     -1.295      0.195        -0.879     0.180\n",
       "type_C                  -0.7631      0.338     -2.257      0.024        -1.426    -0.100\n",
       "type_D                  -0.1355      0.297     -0.456      0.648        -0.718     0.447\n",
       "type_E                   0.2739      0.242      1.133      0.257        -0.200     0.748\n",
       "construction_1965-70     0.6625      0.154      4.312      0.000         0.361     0.964\n",
       "construction_1970-74     0.7597      0.178      4.276      0.000         0.412     1.108\n",
       "construction_1975-79     0.3697      0.246      1.504      0.133        -0.112     0.852\n",
       "operation_1975-79        0.3703      0.118      3.134      0.002         0.139     0.602\n",
       "========================================================================================\n",
       "\"\"\""
      ]
     },
     "execution_count": 15,
     "metadata": {},
     "output_type": "execute_result"
    }
   ],
   "source": [
    "# Just testing the assumption that the offset parameter should have coefficient of 1.\n",
    "# We get the coefficient is 0.903, which is pretty close. \n",
    "# So our above assumption is OK.\n",
    "\n",
    "test_X_log = pd.concat([logmonths, X_no_months], axis=1)\n",
    "test_X_log = test_X_log.rename(columns={'months': 'logmonths'})\n",
    "#print test_X_log.head()\n",
    "\n",
    "glm_manual_log = sm.GLM(Y, test_X_log, family=sm.families.Poisson()).fit()\n",
    "glm_manual_log.summary()"
   ]
  },
  {
   "cell_type": "markdown",
   "metadata": {},
   "source": [
    "### <a id='3'></a> Challenge 3"
   ]
  },
  {
   "cell_type": "markdown",
   "metadata": {},
   "source": [
    "Now separate your data and check if you predict well (you can look at mean absolute error or mean squared error using sklearn.metrics)."
   ]
  },
  {
   "cell_type": "code",
   "execution_count": 16,
   "metadata": {
    "collapsed": false
   },
   "outputs": [],
   "source": [
    "# test and train..."
   ]
  },
  {
   "cell_type": "code",
   "execution_count": 17,
   "metadata": {
    "collapsed": false
   },
   "outputs": [
    {
     "name": "stdout",
     "output_type": "stream",
     "text": [
      "   const  months  type_B  type_C  type_D  type_E  construction_1965-70  \\\n",
      "0      1     127       0       0       0       0                     0   \n",
      "1      1      63       0       0       0       0                     0   \n",
      "2      1    1095       0       0       0       0                     1   \n",
      "3      1    1095       0       0       0       0                     1   \n",
      "4      1    1512       0       0       0       0                     0   \n",
      "\n",
      "   construction_1970-74  construction_1975-79  operation_1975-79  logmonths  \n",
      "0                     0                     0                  0   4.844187  \n",
      "1                     0                     0                  1   4.143135  \n",
      "2                     0                     0                  0   6.998510  \n",
      "3                     0                     0                  1   6.998510  \n",
      "4                     1                     0                  0   7.321189  \n"
     ]
    }
   ],
   "source": [
    "from math import log\n",
    "sm_X['logmonths'] = sm_X['months'].apply(lambda x: log(x))\n",
    "print sm_X[:5]"
   ]
  },
  {
   "cell_type": "code",
   "execution_count": 18,
   "metadata": {
    "collapsed": false
   },
   "outputs": [
    {
     "name": "stdout",
     "output_type": "stream",
     "text": [
      "Index([u'const', u'months', u'type_B', u'type_C', u'type_D', u'type_E',\n",
      "       u'construction_1965-70', u'construction_1970-74',\n",
      "       u'construction_1975-79', u'operation_1975-79', u'logmonths'],\n",
      "      dtype='object')\n",
      "Index([u'const', u'type_B', u'type_C', u'type_D', u'type_E',\n",
      "       u'construction_1965-70', u'construction_1970-74',\n",
      "       u'construction_1975-79', u'operation_1975-79', u'logmonths'],\n",
      "      dtype='object')\n"
     ]
    }
   ],
   "source": [
    "print sm_X.columns\n",
    "X_forglm = sm_X.drop(\"months\", axis=1)\n",
    "print X_forglm.columns"
   ]
  },
  {
   "cell_type": "code",
   "execution_count": 19,
   "metadata": {
    "collapsed": false
   },
   "outputs": [
    {
     "name": "stdout",
     "output_type": "stream",
     "text": [
      "(23, 10)\n",
      "(11, 10)\n"
     ]
    }
   ],
   "source": [
    "from sklearn.cross_validation import train_test_split\n",
    "\n",
    "X_train, X_test, Y_train, Y_test = train_test_split(X_forglm, Y, test_size=.30, random_state=4444)\n",
    "\n",
    "print X_train.shape\n",
    "print X_test.shape\n"
   ]
  },
  {
   "cell_type": "code",
   "execution_count": 20,
   "metadata": {
    "collapsed": false
   },
   "outputs": [
    {
     "name": "stdout",
     "output_type": "stream",
     "text": [
      "Model:  Training Set\n",
      "deviance: 25.6186721348\n",
      "pearson's chi-squared test statistic: 29.487016212\n",
      "y_pred [ 30.33896189   4.16404498   3.28370759   0.72115728   1.10531272\n",
      "   0.25506496   0.58670575   9.82378737  10.91907357  67.25446562\n",
      "   1.23882325]\n",
      "32    12\n",
      "3      4\n",
      "30     7\n",
      "23     0\n",
      "14     1\n",
      "20     1\n",
      "15     1\n",
      "13    18\n",
      "31     5\n",
      "7     39\n",
      "25     2\n",
      "Name: damage, dtype: float32\n"
     ]
    },
    {
     "data": {
      "text/plain": [
       "113.83566043040624"
      ]
     },
     "execution_count": 20,
     "metadata": {},
     "output_type": "execute_result"
    }
   ],
   "source": [
    "glm_train = sm.GLM(Y_train, X_train, family=sm.families.Poisson()).fit()\n",
    "glm_train.summary()\n",
    "\n",
    "y_pred = glm_train.predict(X_test)\n",
    "\n",
    "print \"Model:  Training Set\"\n",
    "print \"deviance:\", glm_train.deviance\n",
    "print \"pearson's chi-squared test statistic:\", glm_train.pearson_chi2\n",
    "\n",
    "y_obs = Y_test\n",
    "print \"y_pred\", y_pred\n",
    "print y_obs\n",
    "\n",
    "from sklearn.metrics import mean_squared_error\n",
    "\n",
    "mean_squared_error(y_obs, y_pred)"
   ]
  },
  {
   "cell_type": "markdown",
   "metadata": {},
   "source": [
    "###Compare 3 Models\n",
    "\n",
    "Model:  no offset\n",
    "deviance: 49.9752187193\n",
    "pearson's chi-squared test statistic: 39.618907712\n",
    "\n",
    "Model:  offset = logmonths\n",
    "deviance: 44.0586445985\n",
    "pearson's chi-squared test statistic: 42.2752462015\n",
    "\n",
    "Model:  Training Set\n",
    "deviance: 44.3452260955\n",
    "pearson's chi-squared test statistic: 29.487016212\n",
    "\n",
    "MSE for Train/Test:  113.84\n"
   ]
  },
  {
   "cell_type": "markdown",
   "metadata": {},
   "source": [
    "### <a id='4'></a> Challenge 4"
   ]
  },
  {
   "cell_type": "markdown",
   "metadata": {},
   "source": [
    "Deviance. Compute the difference in Deviance statistics for your model and the null model. This is called the null deviance. You can do this in one of 2 ways:\n",
    "\n",
    " 1. We need the deviance for the null model (a model where none of the explanatory variables are used; it's just a model with a mean guess). To do that, fit a poisson regression with only a constant. Get the deviance for this null model. Take the difference of deviances between your model and this null model.\n",
    " \n",
    " 2. Use \n",
    "     > statsmodels.genmod.generalized_linear_model.GLMResults\n",
    " \n",
    "Check if this difference is extreme enough that we can reject the null hypothesis. If we can't reject the null hypothesis, we cannot say that this model tells us more than that trivial, null model. To calculate the p-value (prob. of getting a deviance difference at least as extreme as this under the null hypothesis), we need to do a hypothesis test.\n",
    "\n",
    "You can import the chi square test from scipy for this:\n",
    "\n",
    "    from scipy.stats import chisqprob\n",
    "    \n",
    "Is your model better than the null model?"
   ]
  },
  {
   "cell_type": "markdown",
   "metadata": {},
   "source": [
    "**Deviance**\n",
    "\n",
    "$D = 2*[Log\\_likelihood (saturated\\ model) - Log\\_likelihood (null\\ model)]$\n",
    "\n",
    "$D \\sim \\ {\\chi}^2_{(n-p)} $\n",
    "\n",
    "$D_{red} - D_{full} \\sim  {\\chi}^2_{(full - red)}$"
   ]
  },
  {
   "cell_type": "code",
   "execution_count": 21,
   "metadata": {
    "collapsed": false
   },
   "outputs": [
    {
     "name": "stdout",
     "output_type": "stream",
     "text": [
      "Deviance:  107.638\n",
      "degrees of freedom:  8\n",
      "\n",
      "p-value:  1.16355243681e-19\n",
      "0.000000\n",
      "\n",
      "p-value is < 0.05\n",
      "if p < 0.05, then fuller model is better.\n",
      "\n",
      "Conclusion:  GLM offset model is better.\n"
     ]
    }
   ],
   "source": [
    "# First way to compare deviance\n",
    "LL_saturated = -68.281\n",
    "LL_null = -122.10\n",
    "\n",
    "df_saturated = 8\n",
    "df_null = 0\n",
    "\n",
    "deviance = 2*(LL_saturated - LL_null)\n",
    "deg_freedom = df_saturated - df_null\n",
    "print \"Deviance: \", deviance\n",
    "print \"degrees of freedom: \", deg_freedom\n",
    "\n",
    "from scipy.stats import chisqprob\n",
    "\n",
    "p_value = chisqprob(deviance, deg_freedom)\n",
    "\n",
    "print\n",
    "print \"p-value: \", p_value\n",
    "print(\"%.6f\" % p_value)\n",
    "print\n",
    "print \"p-value is < 0.05\"\n",
    "print \"if p < 0.05, then fuller model is better.\"\n",
    "print\n",
    "print \"Conclusion:  GLM offset model is better.\"\n"
   ]
  },
  {
   "cell_type": "code",
   "execution_count": 22,
   "metadata": {
    "collapsed": false
   },
   "outputs": [
    {
     "name": "stdout",
     "output_type": "stream",
     "text": [
      "                 Generalized Linear Model Regression Results                  \n",
      "==============================================================================\n",
      "Dep. Variable:                 damage   No. Observations:                   34\n",
      "Model:                            GLM   Df Residuals:                       33\n",
      "Model Family:                 Poisson   Df Model:                            0\n",
      "Link Function:                    log   Scale:                             1.0\n",
      "Method:                          IRLS   Log-Likelihood:                -122.10\n",
      "Date:                Thu, 05 Nov 2015   Deviance:                       146.33\n",
      "Time:                        21:08:31   Pearson chi2:                     190.\n",
      "No. Iterations:                     9                                         \n",
      "==============================================================================\n",
      "                 coef    std err          z      P>|z|      [95.0% Conf. Int.]\n",
      "------------------------------------------------------------------------------\n",
      "const         -6.1301      0.053   -115.662      0.000        -6.234    -6.026\n",
      "==============================================================================\n"
     ]
    }
   ],
   "source": [
    "## Method 1:\n",
    "## Getting deviance for null model\n",
    "glm_null_model = sm.GLM(Y, sm_X.const, offset=logmonths, family=sm.families.Poisson()).fit()\n",
    "print glm_null_model.summary()\n",
    "\n",
    "# Note: glm_null_model.null_deviance = glm_null_model.deviance\n"
   ]
  },
  {
   "cell_type": "code",
   "execution_count": 23,
   "metadata": {
    "collapsed": false,
    "scrolled": true
   },
   "outputs": [
    {
     "name": "stdout",
     "output_type": "stream",
     "text": [
      "reduced model (null)       deviance  146.328315595\n",
      "full model    (glm_offset) deviance  38.69504856\n",
      "\n",
      "Difference in Deviances is 107.63\n",
      "\n",
      "Chi-squared df\n",
      "full    (glm_offset) df:  8\n",
      "reduced (glm_null)   df:  0\n",
      "\n",
      "Find p-value for 107.633267035 with 8 df\n",
      "p-value:  1.16615828764e-19\n",
      "0.000000\n",
      "p-value is < 0.05\n",
      "GLM offset model is better.\n"
     ]
    }
   ],
   "source": [
    "# Second way to compare deviance\n",
    "print \"reduced model (null)       deviance \", glm_null_model.deviance\n",
    "print \"full model    (glm_offset) deviance \", glm_offset.deviance\n",
    "\n",
    "print\n",
    "\n",
    "d_diff = glm_null_model.deviance - glm_offset.deviance\n",
    "print \"Difference in Deviances is %.2f\" % d_diff\n",
    "print\n",
    "print \"Chi-squared df\"\n",
    "print \"full    (glm_offset) df: \", 8\n",
    "print \"reduced (glm_null)   df: \", 0\n",
    "\n",
    "print\n",
    "print \"Find p-value for \" + str(d_diff) + \" with 8 df\"\n",
    "\n",
    "from scipy.stats import chisqprob\n",
    "p_value = chisqprob(d_diff, 8)\n",
    "\n",
    "print \"p-value: \", p_value\n",
    "print(\"%.6f\" % p_value)\n",
    "print \"p-value is < 0.05\"\n",
    "print \"GLM offset model is better.\"\n",
    " "
   ]
  },
  {
   "cell_type": "markdown",
   "metadata": {},
   "source": [
    "Conclusion:  Since the p-value is small, there is evidence that the addition of\n",
    "X vars explains a significant amount (more) of the\n",
    "deviance"
   ]
  },
  {
   "cell_type": "markdown",
   "metadata": {},
   "source": [
    "**Extra Resource:**  lots of good discussions on Deviance on Stack Exchange\n",
    "\n",
    "http://stats.stackexchange.com/questions/6581/what-is-deviance-specifically-in-cart-rpart"
   ]
  },
  {
   "cell_type": "markdown",
   "metadata": {},
   "source": [
    "### <a id='5'></a> Challenge 5"
   ]
  },
  {
   "cell_type": "markdown",
   "metadata": {},
   "source": [
    "Now, instead of a poisson regression, do an ordinary least squares regression with log Y. Compare the models. Are the coefficients close? Do they perform similarly?"
   ]
  },
  {
   "cell_type": "code",
   "execution_count": 24,
   "metadata": {
    "collapsed": false
   },
   "outputs": [
    {
     "data": {
      "text/html": [
       "<table class=\"simpletable\">\n",
       "<caption>OLS Regression Results</caption>\n",
       "<tr>\n",
       "  <th>Dep. Variable:</th>         <td>damage</td>      <th>  R-squared:         </th> <td>   0.841</td>\n",
       "</tr>\n",
       "<tr>\n",
       "  <th>Model:</th>                   <td>OLS</td>       <th>  Adj. R-squared:    </th> <td>   0.781</td>\n",
       "</tr>\n",
       "<tr>\n",
       "  <th>Method:</th>             <td>Least Squares</td>  <th>  F-statistic:       </th> <td>   14.07</td>\n",
       "</tr>\n",
       "<tr>\n",
       "  <th>Date:</th>             <td>Thu, 05 Nov 2015</td> <th>  Prob (F-statistic):</th> <td>1.43e-07</td>\n",
       "</tr>\n",
       "<tr>\n",
       "  <th>Time:</th>                 <td>21:08:31</td>     <th>  Log-Likelihood:    </th> <td> -54.030</td>\n",
       "</tr>\n",
       "<tr>\n",
       "  <th>No. Observations:</th>      <td>    34</td>      <th>  AIC:               </th> <td>   128.1</td>\n",
       "</tr>\n",
       "<tr>\n",
       "  <th>Df Residuals:</th>          <td>    24</td>      <th>  BIC:               </th> <td>   143.3</td>\n",
       "</tr>\n",
       "<tr>\n",
       "  <th>Df Model:</th>              <td>     9</td>      <th>                     </th>     <td> </td>   \n",
       "</tr>\n",
       "<tr>\n",
       "  <th>Covariance Type:</th>      <td>nonrobust</td>    <th>                     </th>     <td> </td>   \n",
       "</tr>\n",
       "</table>\n",
       "<table class=\"simpletable\">\n",
       "<tr>\n",
       "            <td></td>              <th>coef</th>     <th>std err</th>      <th>t</th>      <th>P>|t|</th> <th>[95.0% Conf. Int.]</th> \n",
       "</tr>\n",
       "<tr>\n",
       "  <th>logmonths</th>            <td>    1.5826</td> <td>    0.283</td> <td>    5.601</td> <td> 0.000</td> <td>    0.999     2.166</td>\n",
       "</tr>\n",
       "<tr>\n",
       "  <th>const</th>                <td>  -11.5168</td> <td>    1.778</td> <td>   -6.477</td> <td> 0.000</td> <td>  -15.187    -7.847</td>\n",
       "</tr>\n",
       "<tr>\n",
       "  <th>type_B</th>               <td>   -1.5012</td> <td>    1.157</td> <td>   -1.298</td> <td> 0.207</td> <td>   -3.888     0.886</td>\n",
       "</tr>\n",
       "<tr>\n",
       "  <th>type_C</th>               <td>   -0.4156</td> <td>    0.754</td> <td>   -0.551</td> <td> 0.587</td> <td>   -1.972     1.141</td>\n",
       "</tr>\n",
       "<tr>\n",
       "  <th>type_D</th>               <td>   -1.0339</td> <td>    0.775</td> <td>   -1.333</td> <td> 0.195</td> <td>   -2.634     0.567</td>\n",
       "</tr>\n",
       "<tr>\n",
       "  <th>type_E</th>               <td>    0.9529</td> <td>    0.799</td> <td>    1.192</td> <td> 0.245</td> <td>   -0.697     2.603</td>\n",
       "</tr>\n",
       "<tr>\n",
       "  <th>construction_1965-70</th> <td>    0.3999</td> <td>    0.698</td> <td>    0.573</td> <td> 0.572</td> <td>   -1.040     1.840</td>\n",
       "</tr>\n",
       "<tr>\n",
       "  <th>construction_1970-74</th> <td>    1.6630</td> <td>    0.755</td> <td>    2.203</td> <td> 0.037</td> <td>    0.105     3.221</td>\n",
       "</tr>\n",
       "<tr>\n",
       "  <th>construction_1975-79</th> <td>    1.1490</td> <td>    0.886</td> <td>    1.296</td> <td> 0.207</td> <td>   -0.680     2.978</td>\n",
       "</tr>\n",
       "<tr>\n",
       "  <th>operation_1975-79</th>    <td>    0.6693</td> <td>    0.527</td> <td>    1.270</td> <td> 0.216</td> <td>   -0.418     1.757</td>\n",
       "</tr>\n",
       "</table>\n",
       "<table class=\"simpletable\">\n",
       "<tr>\n",
       "  <th>Omnibus:</th>       <td> 3.949</td> <th>  Durbin-Watson:     </th> <td>   2.082</td>\n",
       "</tr>\n",
       "<tr>\n",
       "  <th>Prob(Omnibus):</th> <td> 0.139</td> <th>  Jarque-Bera (JB):  </th> <td>   2.521</td>\n",
       "</tr>\n",
       "<tr>\n",
       "  <th>Skew:</th>          <td>-0.525</td> <th>  Prob(JB):          </th> <td>   0.284</td>\n",
       "</tr>\n",
       "<tr>\n",
       "  <th>Kurtosis:</th>      <td> 3.823</td> <th>  Cond. No.          </th> <td>    61.6</td>\n",
       "</tr>\n",
       "</table>"
      ],
      "text/plain": [
       "<class 'statsmodels.iolib.summary.Summary'>\n",
       "\"\"\"\n",
       "                            OLS Regression Results                            \n",
       "==============================================================================\n",
       "Dep. Variable:                 damage   R-squared:                       0.841\n",
       "Model:                            OLS   Adj. R-squared:                  0.781\n",
       "Method:                 Least Squares   F-statistic:                     14.07\n",
       "Date:                Thu, 05 Nov 2015   Prob (F-statistic):           1.43e-07\n",
       "Time:                        21:08:31   Log-Likelihood:                -54.030\n",
       "No. Observations:                  34   AIC:                             128.1\n",
       "Df Residuals:                      24   BIC:                             143.3\n",
       "Df Model:                           9                                         \n",
       "Covariance Type:            nonrobust                                         \n",
       "========================================================================================\n",
       "                           coef    std err          t      P>|t|      [95.0% Conf. Int.]\n",
       "----------------------------------------------------------------------------------------\n",
       "logmonths                1.5826      0.283      5.601      0.000         0.999     2.166\n",
       "const                  -11.5168      1.778     -6.477      0.000       -15.187    -7.847\n",
       "type_B                  -1.5012      1.157     -1.298      0.207        -3.888     0.886\n",
       "type_C                  -0.4156      0.754     -0.551      0.587        -1.972     1.141\n",
       "type_D                  -1.0339      0.775     -1.333      0.195        -2.634     0.567\n",
       "type_E                   0.9529      0.799      1.192      0.245        -0.697     2.603\n",
       "construction_1965-70     0.3999      0.698      0.573      0.572        -1.040     1.840\n",
       "construction_1970-74     1.6630      0.755      2.203      0.037         0.105     3.221\n",
       "construction_1975-79     1.1490      0.886      1.296      0.207        -0.680     2.978\n",
       "operation_1975-79        0.6693      0.527      1.270      0.216        -0.418     1.757\n",
       "==============================================================================\n",
       "Omnibus:                        3.949   Durbin-Watson:                   2.082\n",
       "Prob(Omnibus):                  0.139   Jarque-Bera (JB):                2.521\n",
       "Skew:                          -0.525   Prob(JB):                        0.284\n",
       "Kurtosis:                       3.823   Cond. No.                         61.6\n",
       "==============================================================================\n",
       "\n",
       "Warnings:\n",
       "[1] Standard Errors assume that the covariance matrix of the errors is correctly specified.\n",
       "\"\"\""
      ]
     },
     "execution_count": 24,
     "metadata": {},
     "output_type": "execute_result"
    }
   ],
   "source": [
    "Y_hack = Y.replace(0, 0.01)\n",
    "logY = np.log(Y_hack)\n",
    "\n",
    "linear_model = sm.OLS(logY, test_X_log).fit()\n",
    "linear_model.summary()\n",
    "\n",
    "## The F-statistic p-value suggests that the model itself \n",
    "## explains the variation in the data better than a null model,\n",
    "## but it misleadingly suggests that none of the covariates \n",
    "## other than logmonths and the constant are significant. \n",
    "## This suggests that there might be collinearity in the model."
   ]
  },
  {
   "cell_type": "markdown",
   "metadata": {},
   "source": [
    "### <a id='6'></a> Challenge 6"
   ]
  },
  {
   "cell_type": "markdown",
   "metadata": {},
   "source": [
    "Now, let's do this on another dataset: Smoking and Cancer.\n",
    "\n",
    "You can get it here: [http://data.princeton.edu/wws509/datasets/smoking.dta](http://data.princeton.edu/wws509/datasets/smoking.dta)\n",
    "This dataset has information on lung cancer deaths by age and smoking status.\n",
    "It has these columns:\n",
    "\n",
    "- age: in five-year age groups coded 1 to 9 for 40-44, 45-49, 50-54, 55-59, 60-64, 65-69, 70-74, 75-79, 80+.\n",
    "- smoking status: coded 1 = doesn't smoke, 2 = smokes cigars or pipe only, 3 = smokes cigarrettes and cigar or pipe, and 4 = smokes cigarrettes only,\n",
    "- population: in hundreds of thousands, and\n",
    "- deaths: number of lung cancer deaths in a year.\n",
    "\n",
    "That population looks a lot like an offset!\n",
    "\n",
    "Fit poisson and OLS models and compare them."
   ]
  },
  {
   "cell_type": "code",
   "execution_count": 25,
   "metadata": {
    "collapsed": false
   },
   "outputs": [],
   "source": [
    "#!wget http://data.princeton.edu/wws509/datasets/smoking.dta"
   ]
  },
  {
   "cell_type": "code",
   "execution_count": 26,
   "metadata": {
    "collapsed": false
   },
   "outputs": [
    {
     "name": "stdout",
     "output_type": "stream",
     "text": [
      "(36, 4)\n"
     ]
    },
    {
     "name": "stderr",
     "output_type": "stream",
     "text": [
      "/Users/reshamashaikh/anaconda/lib/python2.7/site-packages/pandas/io/stata.py:1254: UserWarning: 'data' is deprecated, use 'read' instead\n",
      "  warnings.warn(\"'data' is deprecated, use 'read' instead\")\n"
     ]
    },
    {
     "data": {
      "text/html": [
       "<div>\n",
       "<table border=\"1\" class=\"dataframe\">\n",
       "  <thead>\n",
       "    <tr style=\"text-align: right;\">\n",
       "      <th></th>\n",
       "      <th>age</th>\n",
       "      <th>smoke</th>\n",
       "      <th>pop</th>\n",
       "      <th>dead</th>\n",
       "    </tr>\n",
       "  </thead>\n",
       "  <tbody>\n",
       "    <tr>\n",
       "      <th>0</th>\n",
       "      <td>40-44</td>\n",
       "      <td>Doesn't smoke</td>\n",
       "      <td>656</td>\n",
       "      <td>18</td>\n",
       "    </tr>\n",
       "    <tr>\n",
       "      <th>1</th>\n",
       "      <td>45-49</td>\n",
       "      <td>Doesn't smoke</td>\n",
       "      <td>359</td>\n",
       "      <td>22</td>\n",
       "    </tr>\n",
       "    <tr>\n",
       "      <th>2</th>\n",
       "      <td>50-54</td>\n",
       "      <td>Doesn't smoke</td>\n",
       "      <td>249</td>\n",
       "      <td>19</td>\n",
       "    </tr>\n",
       "    <tr>\n",
       "      <th>3</th>\n",
       "      <td>55-59</td>\n",
       "      <td>Doesn't smoke</td>\n",
       "      <td>632</td>\n",
       "      <td>55</td>\n",
       "    </tr>\n",
       "    <tr>\n",
       "      <th>4</th>\n",
       "      <td>60-64</td>\n",
       "      <td>Doesn't smoke</td>\n",
       "      <td>1067</td>\n",
       "      <td>117</td>\n",
       "    </tr>\n",
       "  </tbody>\n",
       "</table>\n",
       "</div>"
      ],
      "text/plain": [
       "     age          smoke   pop  dead\n",
       "0  40-44  Doesn't smoke   656    18\n",
       "1  45-49  Doesn't smoke   359    22\n",
       "2  50-54  Doesn't smoke   249    19\n",
       "3  55-59  Doesn't smoke   632    55\n",
       "4  60-64  Doesn't smoke  1067   117"
      ]
     },
     "execution_count": 26,
     "metadata": {},
     "output_type": "execute_result"
    }
   ],
   "source": [
    "# load dataset \n",
    "reader = StataReader('smoking.dta')\n",
    "smoking_data = reader.data() #a pandas DataFrame\n",
    "print smoking_data.shape\n",
    "smoking_data.head()"
   ]
  },
  {
   "cell_type": "code",
   "execution_count": 27,
   "metadata": {
    "collapsed": false
   },
   "outputs": [],
   "source": [
    "# set population in hundred thousands\n",
    "smoking_data['pop_ht'] = smoking_data['pop'].apply(lambda x: (x*1000))"
   ]
  },
  {
   "cell_type": "code",
   "execution_count": 28,
   "metadata": {
    "collapsed": false
   },
   "outputs": [
    {
     "data": {
      "text/html": [
       "<div>\n",
       "<table border=\"1\" class=\"dataframe\">\n",
       "  <thead>\n",
       "    <tr style=\"text-align: right;\">\n",
       "      <th></th>\n",
       "      <th>pop</th>\n",
       "      <th>dead</th>\n",
       "      <th>pop_ht</th>\n",
       "    </tr>\n",
       "  </thead>\n",
       "  <tbody>\n",
       "    <tr>\n",
       "      <th>count</th>\n",
       "      <td>36.000000</td>\n",
       "      <td>36.000000</td>\n",
       "      <td>36.000000</td>\n",
       "    </tr>\n",
       "    <tr>\n",
       "      <th>mean</th>\n",
       "      <td>1558.944458</td>\n",
       "      <td>253.611115</td>\n",
       "      <td>1558944.444444</td>\n",
       "    </tr>\n",
       "    <tr>\n",
       "      <th>std</th>\n",
       "      <td>1562.232137</td>\n",
       "      <td>262.597497</td>\n",
       "      <td>1562232.174888</td>\n",
       "    </tr>\n",
       "    <tr>\n",
       "      <th>min</th>\n",
       "      <td>98.000000</td>\n",
       "      <td>2.000000</td>\n",
       "      <td>98000.000000</td>\n",
       "    </tr>\n",
       "    <tr>\n",
       "      <th>25%</th>\n",
       "      <td>369.250000</td>\n",
       "      <td>100.500000</td>\n",
       "      <td>369250.000000</td>\n",
       "    </tr>\n",
       "    <tr>\n",
       "      <th>50%</th>\n",
       "      <td>858.500000</td>\n",
       "      <td>171.500000</td>\n",
       "      <td>858500.000000</td>\n",
       "    </tr>\n",
       "    <tr>\n",
       "      <th>75%</th>\n",
       "      <td>2305.500000</td>\n",
       "      <td>274.000000</td>\n",
       "      <td>2305500.000000</td>\n",
       "    </tr>\n",
       "    <tr>\n",
       "      <th>max</th>\n",
       "      <td>6052.000000</td>\n",
       "      <td>1001.000000</td>\n",
       "      <td>6052000.000000</td>\n",
       "    </tr>\n",
       "  </tbody>\n",
       "</table>\n",
       "</div>"
      ],
      "text/plain": [
       "               pop         dead          pop_ht\n",
       "count    36.000000    36.000000       36.000000\n",
       "mean   1558.944458   253.611115  1558944.444444\n",
       "std    1562.232137   262.597497  1562232.174888\n",
       "min      98.000000     2.000000    98000.000000\n",
       "25%     369.250000   100.500000   369250.000000\n",
       "50%     858.500000   171.500000   858500.000000\n",
       "75%    2305.500000   274.000000  2305500.000000\n",
       "max    6052.000000  1001.000000  6052000.000000"
      ]
     },
     "execution_count": 28,
     "metadata": {},
     "output_type": "execute_result"
    }
   ],
   "source": [
    "smoking_data.describe()"
   ]
  },
  {
   "cell_type": "code",
   "execution_count": 29,
   "metadata": {
    "collapsed": false
   },
   "outputs": [
    {
     "data": {
      "image/png": "[encoded data removed]",
      "text/plain": [
       "<matplotlib.figure.Figure at 0x107f8ef10>"
      ]
     },
     "metadata": {},
     "output_type": "display_data"
    }
   ],
   "source": [
    "import matplotlib.pyplot as plt\n",
    "%matplotlib inline\n",
    "smoking_data.sort('pop_ht', inplace=True)\n",
    "plt.plot(smoking_data['pop_ht'], smoking_data['dead'], linewidth=2.0)\n",
    "plt.title(\"Smoking: Plot 1\")\n",
    "plt.xlabel(\"Population\")\n",
    "plt.ylabel(\"Deaths\")\n",
    "plt.show()"
   ]
  },
  {
   "cell_type": "code",
   "execution_count": 30,
   "metadata": {
    "collapsed": false
   },
   "outputs": [
    {
     "name": "stdout",
     "output_type": "stream",
     "text": [
      "      age                       smoke  pop  dead  pop_ht\n",
      "11  50-54  Smokes cigars or pipe only   98     3   98000\n",
      "10  45-49  Smokes cigars or pipe only  104     4  104000\n",
      "35    80+      smokes cigarettes only  113    63  113000\n",
      "9   40-44  Smokes cigars or pipe only  145     2  145000\n",
      "2   50-54               Doesn't smoke  249    19  249000\n"
     ]
    },
    {
     "data": {
      "text/html": [
       "<div>\n",
       "<table border=\"1\" class=\"dataframe\">\n",
       "  <thead>\n",
       "    <tr style=\"text-align: right;\">\n",
       "      <th></th>\n",
       "      <th>pop</th>\n",
       "      <th>dead</th>\n",
       "      <th>pop_ht</th>\n",
       "      <th>poplog</th>\n",
       "      <th>deadlog</th>\n",
       "    </tr>\n",
       "  </thead>\n",
       "  <tbody>\n",
       "    <tr>\n",
       "      <th>count</th>\n",
       "      <td>36.000000</td>\n",
       "      <td>36.000000</td>\n",
       "      <td>36.000000</td>\n",
       "      <td>36.000000</td>\n",
       "      <td>36.000000</td>\n",
       "    </tr>\n",
       "    <tr>\n",
       "      <th>mean</th>\n",
       "      <td>1558.944458</td>\n",
       "      <td>253.611115</td>\n",
       "      <td>1558944.444444</td>\n",
       "      <td>13.700535</td>\n",
       "      <td>4.822854</td>\n",
       "    </tr>\n",
       "    <tr>\n",
       "      <th>std</th>\n",
       "      <td>1562.232217</td>\n",
       "      <td>262.597512</td>\n",
       "      <td>1562232.174888</td>\n",
       "      <td>1.157593</td>\n",
       "      <td>1.531767</td>\n",
       "    </tr>\n",
       "    <tr>\n",
       "      <th>min</th>\n",
       "      <td>98.000000</td>\n",
       "      <td>2.000000</td>\n",
       "      <td>98000.000000</td>\n",
       "      <td>11.492723</td>\n",
       "      <td>0.693147</td>\n",
       "    </tr>\n",
       "    <tr>\n",
       "      <th>25%</th>\n",
       "      <td>369.250000</td>\n",
       "      <td>100.500000</td>\n",
       "      <td>369250.000000</td>\n",
       "      <td>12.819145</td>\n",
       "      <td>4.581325</td>\n",
       "    </tr>\n",
       "    <tr>\n",
       "      <th>50%</th>\n",
       "      <td>858.500000</td>\n",
       "      <td>171.500000</td>\n",
       "      <td>858500.000000</td>\n",
       "      <td>13.662836</td>\n",
       "      <td>5.144545</td>\n",
       "    </tr>\n",
       "    <tr>\n",
       "      <th>75%</th>\n",
       "      <td>2305.500000</td>\n",
       "      <td>274.000000</td>\n",
       "      <td>2305500.000000</td>\n",
       "      <td>14.650399</td>\n",
       "      <td>5.605063</td>\n",
       "    </tr>\n",
       "    <tr>\n",
       "      <th>max</th>\n",
       "      <td>6052.000000</td>\n",
       "      <td>1001.000000</td>\n",
       "      <td>6052000.000000</td>\n",
       "      <td>15.615899</td>\n",
       "      <td>6.908755</td>\n",
       "    </tr>\n",
       "  </tbody>\n",
       "</table>\n",
       "</div>"
      ],
      "text/plain": [
       "               pop         dead          pop_ht     poplog    deadlog\n",
       "count    36.000000    36.000000       36.000000  36.000000  36.000000\n",
       "mean   1558.944458   253.611115  1558944.444444  13.700535   4.822854\n",
       "std    1562.232217   262.597512  1562232.174888   1.157593   1.531767\n",
       "min      98.000000     2.000000    98000.000000  11.492723   0.693147\n",
       "25%     369.250000   100.500000   369250.000000  12.819145   4.581325\n",
       "50%     858.500000   171.500000   858500.000000  13.662836   5.144545\n",
       "75%    2305.500000   274.000000  2305500.000000  14.650399   5.605063\n",
       "max    6052.000000  1001.000000  6052000.000000  15.615899   6.908755"
      ]
     },
     "execution_count": 30,
     "metadata": {},
     "output_type": "execute_result"
    }
   ],
   "source": [
    "check_smoking = smoking_data.copy(deep=True)\n",
    "\n",
    "print check_smoking[:5]\n",
    "\n",
    "check_smoking['poplog']  = np.log(check_smoking['pop_ht'])\n",
    "check_smoking['deadlog'] = np.log(check_smoking['dead'])\n",
    "\n",
    "check_smoking.describe()"
   ]
  },
  {
   "cell_type": "code",
   "execution_count": 31,
   "metadata": {
    "collapsed": false
   },
   "outputs": [
    {
     "data": {
      "image/png": "[encoded data removed]",
      "text/plain": [
       "<matplotlib.figure.Figure at 0x107f8ef50>"
      ]
     },
     "metadata": {},
     "output_type": "display_data"
    }
   ],
   "source": [
    "# re-graph using log values for population only\n",
    "check_smoking.sort('poplog', inplace=True)\n",
    "plt.plot(check_smoking['poplog'], check_smoking['dead'], linewidth=2.0)\n",
    "\n",
    "plt.title(\"Smoking: Plot 2\")\n",
    "plt.xlabel(\"log(Population)\")\n",
    "plt.ylabel(\"Deaths\")\n",
    "\n",
    "plt.show()"
   ]
  },
  {
   "cell_type": "code",
   "execution_count": 32,
   "metadata": {
    "collapsed": false
   },
   "outputs": [
    {
     "data": {
      "image/png": "[encoded data removed]",
      "text/plain": [
       "<matplotlib.figure.Figure at 0x108d6d550>"
      ]
     },
     "metadata": {},
     "output_type": "display_data"
    }
   ],
   "source": [
    "# re-graph using log values for both dead and population\n",
    "check_smoking.sort('poplog', inplace=True)\n",
    "plt.plot(check_smoking['poplog'], check_smoking['deadlog'], linewidth=2.0)\n",
    "\n",
    "plt.title(\"Smoking: Plot 3\")\n",
    "plt.xlabel(\"log(Population)\")\n",
    "plt.ylabel(\"log(Deaths)\")\n",
    "\n",
    "plt.show()"
   ]
  },
  {
   "cell_type": "code",
   "execution_count": 33,
   "metadata": {
    "collapsed": false
   },
   "outputs": [
    {
     "data": {
      "image/png": "[encoded data removed]",
      "text/plain": [
       "<matplotlib.figure.Figure at 0x107f96c50>"
      ]
     },
     "metadata": {},
     "output_type": "display_data"
    }
   ],
   "source": [
    "plt.hist(check_smoking['dead'], bins=30, color=\"#6495ED\") \n",
    "plt.title(\"Number of lung cancer deaths per year\")\n",
    "plt.show()"
   ]
  },
  {
   "cell_type": "code",
   "execution_count": 34,
   "metadata": {
    "collapsed": false
   },
   "outputs": [
    {
     "data": {
      "image/png": "[encoded data removed]",
      "text/plain": [
       "<matplotlib.figure.Figure at 0x107f96bd0>"
      ]
     },
     "metadata": {},
     "output_type": "display_data"
    }
   ],
   "source": [
    "plt.hist(check_smoking['deadlog'], bins=30, color=\"#6496ED\", alpha=0.5)\n",
    "plt.title(\"LOG of Number of lung cancer deaths per year\")\n",
    "plt.show()"
   ]
  },
  {
   "cell_type": "code",
   "execution_count": 35,
   "metadata": {
    "collapsed": false
   },
   "outputs": [
    {
     "data": {
      "image/png": "[encoded data removed]",
      "text/plain": [
       "<matplotlib.figure.Figure at 0x107f96690>"
      ]
     },
     "metadata": {},
     "output_type": "display_data"
    }
   ],
   "source": [
    "plt.hist(check_smoking['pop'], bins=40, color=\"#5555ED\") \n",
    "plt.title(\"Population (in hundreds of thousands)\")\n",
    "plt.show()"
   ]
  },
  {
   "cell_type": "code",
   "execution_count": 36,
   "metadata": {
    "collapsed": false
   },
   "outputs": [
    {
     "data": {
      "image/png": "[encoded data removed]",
      "text/plain": [
       "<matplotlib.figure.Figure at 0x1095f3a50>"
      ]
     },
     "metadata": {},
     "output_type": "display_data"
    }
   ],
   "source": [
    "plt.hist(check_smoking['poplog'], bins=40, color=\"#7777ED\") \n",
    "plt.title(\"LOG of population\")\n",
    "plt.show()"
   ]
  },
  {
   "cell_type": "code",
   "execution_count": 37,
   "metadata": {
    "collapsed": false
   },
   "outputs": [
    {
     "name": "stdout",
     "output_type": "stream",
     "text": [
      "age       category\n",
      "smoke     category\n",
      "pop        float32\n",
      "dead       float32\n",
      "pop_ht     float64\n",
      "dtype: object\n"
     ]
    }
   ],
   "source": [
    "print smoking_data.dtypes"
   ]
  },
  {
   "cell_type": "code",
   "execution_count": 38,
   "metadata": {
    "collapsed": false
   },
   "outputs": [],
   "source": [
    "smoking_data = check_smoking"
   ]
  },
  {
   "cell_type": "code",
   "execution_count": 39,
   "metadata": {
    "collapsed": false
   },
   "outputs": [
    {
     "name": "stdout",
     "output_type": "stream",
     "text": [
      "age        category\n",
      "smoke      category\n",
      "pop         float32\n",
      "dead        float32\n",
      "pop_ht      float64\n",
      "poplog      float64\n",
      "deadlog     float32\n",
      "dtype: object\n"
     ]
    }
   ],
   "source": [
    "print smoking_data.dtypes"
   ]
  },
  {
   "cell_type": "code",
   "execution_count": 40,
   "metadata": {
    "collapsed": false
   },
   "outputs": [],
   "source": [
    "smoking_data['deathrate'] = (smoking_data['deadlog']) / (smoking_data['poplog'])"
   ]
  },
  {
   "cell_type": "code",
   "execution_count": 41,
   "metadata": {
    "collapsed": false
   },
   "outputs": [
    {
     "name": "stdout",
     "output_type": "stream",
     "text": [
      "                                     age  pop  dead  pop_ht  poplog  deadlog  \\\n",
      "smoke                                                                          \n",
      "Doesn't smoke                          9    9     9       9       9        9   \n",
      "Smokes cigars or pipe only             9    9     9       9       9        9   \n",
      "Smokes cigarettes and cigar or pipe    9    9     9       9       9        9   \n",
      "smokes cigarettes only                 9    9     9       9       9        9   \n",
      "\n",
      "                                     deathrate  \n",
      "smoke                                           \n",
      "Doesn't smoke                                9  \n",
      "Smokes cigars or pipe only                   9  \n",
      "Smokes cigarettes and cigar or pipe          9  \n",
      "smokes cigarettes only                       9  \n",
      "       smoke  pop  dead  pop_ht  poplog  deadlog  deathrate\n",
      "age                                                        \n",
      "40-44      4    4     4       4       4        4          4\n",
      "45-49      4    4     4       4       4        4          4\n",
      "50-54      4    4     4       4       4        4          4\n",
      "55-59      4    4     4       4       4        4          4\n",
      "60-64      4    4     4       4       4        4          4\n",
      "65-69      4    4     4       4       4        4          4\n",
      "70-74      4    4     4       4       4        4          4\n",
      "75-79      4    4     4       4       4        4          4\n",
      "80+        4    4     4       4       4        4          4\n"
     ]
    }
   ],
   "source": [
    "by_smokegrp = smoking_data.groupby('smoke')\n",
    "print by_smokegrp.count()\n",
    "\n",
    "by_agegrp = smoking_data.groupby('age')\n",
    "print by_agegrp.count()\n"
   ]
  },
  {
   "cell_type": "code",
   "execution_count": 42,
   "metadata": {
    "collapsed": false
   },
   "outputs": [
    {
     "name": "stdout",
     "output_type": "stream",
     "text": [
      "           pop    dead   pop_ht     poplog   deadlog  deathrate\n",
      "age                                                            \n",
      "40-44  2185.50   73.25  2185500  13.911770  3.351937   0.230265\n",
      "45-49  1433.00   83.75  1433000  13.472209  3.637219   0.260841\n",
      "50-54  1116.25  100.50  1116250  13.245784  3.634212   0.263668\n",
      "55-59  2239.00  295.75  2239000  14.135708  5.060812   0.353398\n",
      "60-64  2939.00  502.25  2939000  14.573169  5.763761   0.392830\n",
      "65-69  2036.75  483.25  2036750  14.335253  5.906959   0.410536\n",
      "70-74  1180.00  359.00  1180000  13.888162  5.757691   0.413886\n",
      "75-79   583.75  228.50   583750  13.217493  5.366653   0.405621\n",
      "80+     317.25  156.25   317250  12.525270  4.926441   0.392230\n",
      "\n",
      "\n",
      "                                             pop        dead          pop_ht  \\\n",
      "smoke                                                                          \n",
      "Doesn't smoke                         573.666687   91.111115   573666.666667   \n",
      "Smokes cigars or pipe only            504.666656  115.666664   504666.666667   \n",
      "Smokes cigarettes and cigar or pipe  3076.777832  458.666656  3076777.777778   \n",
      "smokes cigarettes only               2080.666748  349.000000  2080666.666667   \n",
      "\n",
      "                                        poplog   deadlog  deathrate  \n",
      "smoke                                                                \n",
      "Doesn't smoke                        13.142620  4.177059   0.317276  \n",
      "Smokes cigars or pipe only           12.821519  3.675484   0.277839  \n",
      "Smokes cigarettes and cigar or pipe  14.664966  5.882789   0.401447  \n",
      "smokes cigarettes only               14.173037  5.556084   0.391561  \n"
     ]
    }
   ],
   "source": [
    "print by_agegrp.mean() \n",
    "print '\\n'\n",
    "print by_smokegrp.mean() "
   ]
  },
  {
   "cell_type": "code",
   "execution_count": 43,
   "metadata": {
    "collapsed": false
   },
   "outputs": [
    {
     "name": "stdout",
     "output_type": "stream",
     "text": [
      "      age                       smoke  pop  dead  pop_ht     poplog   deadlog  \\\n",
      "11  50-54  Smokes cigars or pipe only   98     3   98000  11.492723  1.098612   \n",
      "10  45-49  Smokes cigars or pipe only  104     4  104000  11.552146  1.386294   \n",
      "35    80+      smokes cigarettes only  113    63  113000  11.635143  4.143135   \n",
      "9   40-44  Smokes cigars or pipe only  145     2  145000  11.884489  0.693147   \n",
      "2   50-54               Doesn't smoke  249    19  249000  12.425208  2.944439   \n",
      "\n",
      "    deathrate  \n",
      "11   0.095592  \n",
      "10   0.120003  \n",
      "35   0.356088  \n",
      "9    0.058324  \n",
      "2    0.236973  \n"
     ]
    }
   ],
   "source": [
    "print smoking_data[:5]"
   ]
  },
  {
   "cell_type": "code",
   "execution_count": 44,
   "metadata": {
    "collapsed": false
   },
   "outputs": [
    {
     "name": "stdout",
     "output_type": "stream",
     "text": [
      "    age_40-44  age_45-49  age_50-54  age_55-59  age_60-64  age_65-69  \\\n",
      "11          0          0          1          0          0          0   \n",
      "10          0          1          0          0          0          0   \n",
      "35          0          0          0          0          0          0   \n",
      "\n",
      "    age_70-74  age_75-79  age_80+  \n",
      "11          0          0        0  \n",
      "10          0          0        0  \n",
      "35          0          0        1  \n",
      "    smoke_Doesn't smoke  smoke_Smokes cigars or pipe only  \\\n",
      "11                    0                                 1   \n",
      "10                    0                                 1   \n",
      "35                    0                                 0   \n",
      "\n",
      "    smoke_Smokes cigarettes and cigar or pipe  smoke_smokes cigarettes only  \n",
      "11                                          0                             0  \n",
      "10                                          0                             0  \n",
      "35                                          0                             1  \n",
      "---------------------------------------------------------------------------\n",
      "    const  age_40-44  age_45-49  age_50-54  age_55-59  age_60-64  age_65-69  \\\n",
      "11      1          0          0          1          0          0          0   \n",
      "10      1          0          1          0          0          0          0   \n",
      "35      1          0          0          0          0          0          0   \n",
      "9       1          1          0          0          0          0          0   \n",
      "2       1          0          0          1          0          0          0   \n",
      "\n",
      "    age_70-74  age_75-79  age_80+  smoke_Doesn't smoke  \\\n",
      "11          0          0        0                    0   \n",
      "10          0          0        0                    0   \n",
      "35          0          0        1                    0   \n",
      "9           0          0        0                    0   \n",
      "2           0          0        0                    1   \n",
      "\n",
      "    smoke_Smokes cigars or pipe only  \\\n",
      "11                                 1   \n",
      "10                                 1   \n",
      "35                                 0   \n",
      "9                                  1   \n",
      "2                                  0   \n",
      "\n",
      "    smoke_Smokes cigarettes and cigar or pipe  smoke_smokes cigarettes only  \n",
      "11                                          0                             0  \n",
      "10                                          0                             0  \n",
      "35                                          0                             1  \n",
      "9                                           0                             0  \n",
      "2                                           0                             0  \n"
     ]
    }
   ],
   "source": [
    "# Set dummy variables\n",
    "age   = pd.get_dummies(smoking_data['age'], prefix='age')\n",
    "smoke = pd.get_dummies(smoking_data['smoke'], prefix='smoke')\n",
    "\n",
    "print age[:3]\n",
    "print smoke[:3]\n",
    "\n",
    "dummies_only = pd.concat([age, smoke],axis=1)\n",
    "\n",
    "# add constant\n",
    "dummies_only = sm.add_constant(dummies_only)\n",
    "print '-'*75\n",
    "print dummies_only[:5]\n"
   ]
  },
  {
   "cell_type": "markdown",
   "metadata": {},
   "source": [
    "#### Challenge 6 - Model 1 (Y=deathrate, no offset parameter used)"
   ]
  },
  {
   "cell_type": "code",
   "execution_count": 45,
   "metadata": {
    "collapsed": false
   },
   "outputs": [
    {
     "name": "stdout",
     "output_type": "stream",
     "text": [
      "(36, 14)\n",
      "    const  age_40-44  age_45-49  age_50-54  age_55-59  age_60-64  age_65-69  \\\n",
      "11      1          0          0          1          0          0          0   \n",
      "10      1          0          1          0          0          0          0   \n",
      "35      1          0          0          0          0          0          0   \n",
      "\n",
      "    age_70-74  age_75-79  age_80+  smoke_Doesn't smoke  \\\n",
      "11          0          0        0                    0   \n",
      "10          0          0        0                    0   \n",
      "35          0          0        1                    0   \n",
      "\n",
      "    smoke_Smokes cigars or pipe only  \\\n",
      "11                                 1   \n",
      "10                                 1   \n",
      "35                                 0   \n",
      "\n",
      "    smoke_Smokes cigarettes and cigar or pipe  smoke_smokes cigarettes only  \n",
      "11                                          0                             0  \n",
      "10                                          0                             0  \n",
      "35                                          0                             1  \n",
      "(36,)\n",
      "11    0.095592\n",
      "10    0.120003\n",
      "35    0.356088\n",
      "Name: deathrate, dtype: float64\n"
     ]
    }
   ],
   "source": [
    "Y_smoking = smoking_data['deathrate']\n",
    "X_smoking = dummies_only\n",
    "\n",
    "print X_smoking.shape\n",
    "print X_smoking.head(3)\n",
    "\n",
    "print Y_smoking.shape\n",
    "print Y_smoking.head(3)\n"
   ]
  },
  {
   "cell_type": "code",
   "execution_count": 46,
   "metadata": {
    "collapsed": false
   },
   "outputs": [
    {
     "name": "stdout",
     "output_type": "stream",
     "text": [
      "Data:      smoking\n",
      "Model_Num: 1\n",
      "Model:     GLM(no offset), Y = deathrate\n"
     ]
    },
    {
     "data": {
      "text/html": [
       "<table class=\"simpletable\">\n",
       "<caption>Generalized Linear Model Regression Results</caption>\n",
       "<tr>\n",
       "  <th>Dep. Variable:</th>      <td>deathrate</td>    <th>  No. Observations:  </th>  <td>    36</td> \n",
       "</tr>\n",
       "<tr>\n",
       "  <th>Model:</th>                 <td>GLM</td>       <th>  Df Residuals:      </th>  <td>    24</td> \n",
       "</tr>\n",
       "<tr>\n",
       "  <th>Model Family:</th>        <td>Poisson</td>     <th>  Df Model:          </th>  <td>    11</td> \n",
       "</tr>\n",
       "<tr>\n",
       "  <th>Link Function:</th>         <td>log</td>       <th>  Scale:             </th>    <td>1.0</td>  \n",
       "</tr>\n",
       "<tr>\n",
       "  <th>Method:</th>               <td>IRLS</td>       <th>  Log-Likelihood:    </th> <td> -21.366</td>\n",
       "</tr>\n",
       "<tr>\n",
       "  <th>Date:</th>           <td>Thu, 05 Nov 2015</td> <th>  Deviance:          </th> <td> 0.41879</td>\n",
       "</tr>\n",
       "<tr>\n",
       "  <th>Time:</th>               <td>21:08:33</td>     <th>  Pearson chi2:      </th>  <td> 0.372</td> \n",
       "</tr>\n",
       "<tr>\n",
       "  <th>No. Iterations:</th>         <td>7</td>        <th>                     </th>     <td> </td>   \n",
       "</tr>\n",
       "</table>\n",
       "<table class=\"simpletable\">\n",
       "<tr>\n",
       "                      <td></td>                         <th>coef</th>     <th>std err</th>      <th>z</th>      <th>P>|z|</th> <th>[95.0% Conf. Int.]</th> \n",
       "</tr>\n",
       "<tr>\n",
       "  <th>const</th>                                     <td>   -0.8027</td> <td>    0.215</td> <td>   -3.729</td> <td> 0.000</td> <td>   -1.225    -0.381</td>\n",
       "</tr>\n",
       "<tr>\n",
       "  <th>age_40-44</th>                                 <td>   -0.4765</td> <td>    0.967</td> <td>   -0.493</td> <td> 0.622</td> <td>   -2.372     1.419</td>\n",
       "</tr>\n",
       "<tr>\n",
       "  <th>age_45-49</th>                                 <td>   -0.3519</td> <td>    0.913</td> <td>   -0.385</td> <td> 0.700</td> <td>   -2.141     1.438</td>\n",
       "</tr>\n",
       "<tr>\n",
       "  <th>age_50-54</th>                                 <td>   -0.3411</td> <td>    0.909</td> <td>   -0.375</td> <td> 0.707</td> <td>   -2.122     1.440</td>\n",
       "</tr>\n",
       "<tr>\n",
       "  <th>age_55-59</th>                                 <td>   -0.0482</td> <td>    0.796</td> <td>   -0.060</td> <td> 0.952</td> <td>   -1.609     1.512</td>\n",
       "</tr>\n",
       "<tr>\n",
       "  <th>age_60-64</th>                                 <td>    0.0576</td> <td>    0.760</td> <td>    0.076</td> <td> 0.940</td> <td>   -1.432     1.547</td>\n",
       "</tr>\n",
       "<tr>\n",
       "  <th>age_65-69</th>                                 <td>    0.1017</td> <td>    0.745</td> <td>    0.136</td> <td> 0.891</td> <td>   -1.359     1.563</td>\n",
       "</tr>\n",
       "<tr>\n",
       "  <th>age_70-74</th>                                 <td>    0.1098</td> <td>    0.743</td> <td>    0.148</td> <td> 0.882</td> <td>   -1.346     1.565</td>\n",
       "</tr>\n",
       "<tr>\n",
       "  <th>age_75-79</th>                                 <td>    0.0897</td> <td>    0.749</td> <td>    0.120</td> <td> 0.905</td> <td>   -1.379     1.558</td>\n",
       "</tr>\n",
       "<tr>\n",
       "  <th>age_80+</th>                                   <td>    0.0561</td> <td>    0.760</td> <td>    0.074</td> <td> 0.941</td> <td>   -1.434     1.546</td>\n",
       "</tr>\n",
       "<tr>\n",
       "  <th>smoke_Doesn't smoke</th>                       <td>   -0.2789</td> <td>    0.512</td> <td>   -0.545</td> <td> 0.586</td> <td>   -1.282     0.724</td>\n",
       "</tr>\n",
       "<tr>\n",
       "  <th>smoke_Smokes cigars or pipe only</th>          <td>   -0.4116</td> <td>    0.540</td> <td>   -0.763</td> <td> 0.446</td> <td>   -1.470     0.646</td>\n",
       "</tr>\n",
       "<tr>\n",
       "  <th>smoke_Smokes cigarettes and cigar or pipe</th> <td>   -0.0436</td> <td>    0.467</td> <td>   -0.093</td> <td> 0.926</td> <td>   -0.960     0.873</td>\n",
       "</tr>\n",
       "<tr>\n",
       "  <th>smoke_smokes cigarettes only</th>              <td>   -0.0685</td> <td>    0.472</td> <td>   -0.145</td> <td> 0.885</td> <td>   -0.993     0.856</td>\n",
       "</tr>\n",
       "</table>"
      ],
      "text/plain": [
       "<class 'statsmodels.iolib.summary.Summary'>\n",
       "\"\"\"\n",
       "                 Generalized Linear Model Regression Results                  \n",
       "==============================================================================\n",
       "Dep. Variable:              deathrate   No. Observations:                   36\n",
       "Model:                            GLM   Df Residuals:                       24\n",
       "Model Family:                 Poisson   Df Model:                           11\n",
       "Link Function:                    log   Scale:                             1.0\n",
       "Method:                          IRLS   Log-Likelihood:                -21.366\n",
       "Date:                Thu, 05 Nov 2015   Deviance:                      0.41879\n",
       "Time:                        21:08:33   Pearson chi2:                    0.372\n",
       "No. Iterations:                     7                                         \n",
       "=============================================================================================================\n",
       "                                                coef    std err          z      P>|z|      [95.0% Conf. Int.]\n",
       "-------------------------------------------------------------------------------------------------------------\n",
       "const                                        -0.8027      0.215     -3.729      0.000        -1.225    -0.381\n",
       "age_40-44                                    -0.4765      0.967     -0.493      0.622        -2.372     1.419\n",
       "age_45-49                                    -0.3519      0.913     -0.385      0.700        -2.141     1.438\n",
       "age_50-54                                    -0.3411      0.909     -0.375      0.707        -2.122     1.440\n",
       "age_55-59                                    -0.0482      0.796     -0.060      0.952        -1.609     1.512\n",
       "age_60-64                                     0.0576      0.760      0.076      0.940        -1.432     1.547\n",
       "age_65-69                                     0.1017      0.745      0.136      0.891        -1.359     1.563\n",
       "age_70-74                                     0.1098      0.743      0.148      0.882        -1.346     1.565\n",
       "age_75-79                                     0.0897      0.749      0.120      0.905        -1.379     1.558\n",
       "age_80+                                       0.0561      0.760      0.074      0.941        -1.434     1.546\n",
       "smoke_Doesn't smoke                          -0.2789      0.512     -0.545      0.586        -1.282     0.724\n",
       "smoke_Smokes cigars or pipe only             -0.4116      0.540     -0.763      0.446        -1.470     0.646\n",
       "smoke_Smokes cigarettes and cigar or pipe    -0.0436      0.467     -0.093      0.926        -0.960     0.873\n",
       "smoke_smokes cigarettes only                 -0.0685      0.472     -0.145      0.885        -0.993     0.856\n",
       "=============================================================================================================\n",
       "\"\"\""
      ]
     },
     "execution_count": 46,
     "metadata": {},
     "output_type": "execute_result"
    }
   ],
   "source": [
    "## Model 1:  Y = deathrate ; no offset parameter used\n",
    "\n",
    "glm_no_offset = sm.GLM(Y_smoking, X_smoking, \\\n",
    "                     family=sm.families.Poisson(link=sm.families.links.log)).fit()\n",
    "\n",
    "print \"Data:      smoking\"\n",
    "print \"Model_Num: 1\"\n",
    "print \"Model:     GLM(no offset), Y = deathrate\" \n",
    "glm_no_offset.summary()\n"
   ]
  },
  {
   "cell_type": "code",
   "execution_count": 47,
   "metadata": {
    "collapsed": false
   },
   "outputs": [
    {
     "name": "stdout",
     "output_type": "stream",
     "text": [
      "Data:                smoking\n",
      "Model_Num:           1\n",
      "Model:               GLM(no offset), Y = deathrate (deadlog/poplog)\n",
      "deviance:            0.418792389366\n",
      "pearson chi-squared: 0.372144392497\n"
     ]
    }
   ],
   "source": [
    "# Note:  This is considered a bad model, has linear link (rather than Poisson)\n",
    "print \"Data:                smoking\"\n",
    "print \"Model_Num:           1\"\n",
    "print \"Model:               GLM(no offset), Y = deathrate (deadlog/poplog)\" \n",
    "print \"deviance:           \", glm_no_offset.deviance\n",
    "print \"pearson chi-squared:\", glm_no_offset.pearson_chi2"
   ]
  },
  {
   "cell_type": "markdown",
   "metadata": {},
   "source": [
    "### <a id='6b'></a> Challenge 6b - GLM with Poisson"
   ]
  },
  {
   "cell_type": "markdown",
   "metadata": {},
   "source": [
    "#### Challenge 6 - Model 2 (Y=deadlog, offset=poplog)"
   ]
  },
  {
   "cell_type": "markdown",
   "metadata": {},
   "source": [
    "Now try with offset, using population as offset"
   ]
  },
  {
   "cell_type": "code",
   "execution_count": 48,
   "metadata": {
    "collapsed": false
   },
   "outputs": [
    {
     "name": "stdout",
     "output_type": "stream",
     "text": [
      "Index([      u'age',     u'smoke',       u'pop',      u'dead',    u'pop_ht',\n",
      "          u'poplog',   u'deadlog', u'deathrate'],\n",
      "      dtype='object')\n",
      "\n",
      "\n",
      "Index([                                    u'const',\n",
      "                                       u'age_40-44',\n",
      "                                       u'age_45-49',\n",
      "                                       u'age_50-54',\n",
      "                                       u'age_55-59',\n",
      "                                       u'age_60-64',\n",
      "                                       u'age_65-69',\n",
      "                                       u'age_70-74',\n",
      "                                       u'age_75-79',\n",
      "                                         u'age_80+',\n",
      "                             u'smoke_Doesn't smoke',\n",
      "                u'smoke_Smokes cigars or pipe only',\n",
      "       u'smoke_Smokes cigarettes and cigar or pipe',\n",
      "                    u'smoke_smokes cigarettes only'],\n",
      "      dtype='object')\n",
      "\n",
      "\n",
      "11    0.095592\n",
      "10    0.120003\n",
      "35    0.356088\n",
      "9     0.058324\n",
      "2     0.236973\n",
      "Name: deathrate, dtype: float64\n"
     ]
    }
   ],
   "source": [
    "print smoking_data.columns\n",
    "print \"\\n\"\n",
    "print X_smoking.columns\n",
    "print \"\\n\"\n",
    "print Y_smoking[:5]\n",
    "#Y_smoking = smoking_data['deathrate']"
   ]
  },
  {
   "cell_type": "code",
   "execution_count": 49,
   "metadata": {
    "collapsed": false
   },
   "outputs": [
    {
     "name": "stdout",
     "output_type": "stream",
     "text": [
      "Data:                smoking\n",
      "Model_Num:           2\n",
      "Model:               GLM: Y = deadlog (offset = logpop)\n",
      "\n",
      "\n",
      "X:          \n",
      "Index([                                    u'const',\n",
      "                                       u'age_40-44',\n",
      "                                       u'age_45-49',\n",
      "                                       u'age_50-54',\n",
      "                                       u'age_55-59',\n",
      "                                       u'age_60-64',\n",
      "                                       u'age_65-69',\n",
      "                                       u'age_70-74',\n",
      "                                       u'age_75-79',\n",
      "                                         u'age_80+',\n",
      "                             u'smoke_Doesn't smoke',\n",
      "                u'smoke_Smokes cigars or pipe only',\n",
      "       u'smoke_Smokes cigarettes and cigar or pipe',\n",
      "                    u'smoke_smokes cigarettes only'],\n",
      "      dtype='object')\n",
      "\n",
      "Y:          \n",
      "11    1.098612\n",
      "10    1.386294\n",
      "35    4.143135\n",
      "9     0.693147\n",
      "2     2.944439\n",
      "Name: deadlog, dtype: float32\n",
      "\n",
      "offset:     \n",
      "11    2.441714\n",
      "10    2.446871\n",
      "35    2.454030\n",
      "9     2.475234\n",
      "2     2.519727\n",
      "Name: poplog, dtype: float64\n"
     ]
    }
   ],
   "source": [
    "print \"Data:                smoking\"\n",
    "print \"Model_Num:           2\"\n",
    "print \"Model:               GLM: Y = deadlog (offset = logpop)\" \n",
    "print \"\\n\"\n",
    "\n",
    "## Add population as offset to this model\n",
    "\n",
    "Y_smoking_dead = smoking_data['deadlog']\n",
    "#smoking_pop_offset = smoking_data['pop']\n",
    "logpop = np.log(smoking_data['poplog'])\n",
    "\n",
    "print \"X:          \"\n",
    "#print X_smoking[:5]\n",
    "print X_smoking.columns\n",
    "print \"\\nY:          \" \n",
    "print Y_smoking_dead[:5]\n",
    "print \"\\noffset:     \"\n",
    "print logpop[:5]\n",
    "\n"
   ]
  },
  {
   "cell_type": "code",
   "execution_count": 50,
   "metadata": {
    "collapsed": false
   },
   "outputs": [
    {
     "name": "stdout",
     "output_type": "stream",
     "text": [
      "Data:                smoking\n",
      "Model_Num:           2\n",
      "Model:               GLM: Y = deadlog (offset = logpop)\n"
     ]
    },
    {
     "data": {
      "text/html": [
       "<table class=\"simpletable\">\n",
       "<caption>Generalized Linear Model Regression Results</caption>\n",
       "<tr>\n",
       "  <th>Dep. Variable:</th>       <td>deadlog</td>     <th>  No. Observations:  </th>  <td>    36</td> \n",
       "</tr>\n",
       "<tr>\n",
       "  <th>Model:</th>                 <td>GLM</td>       <th>  Df Residuals:      </th>  <td>    24</td> \n",
       "</tr>\n",
       "<tr>\n",
       "  <th>Model Family:</th>        <td>Poisson</td>     <th>  Df Model:          </th>  <td>    11</td> \n",
       "</tr>\n",
       "<tr>\n",
       "  <th>Link Function:</th>         <td>log</td>       <th>  Scale:             </th>    <td>1.0</td>  \n",
       "</tr>\n",
       "<tr>\n",
       "  <th>Method:</th>               <td>IRLS</td>       <th>  Log-Likelihood:    </th> <td> -63.240</td>\n",
       "</tr>\n",
       "<tr>\n",
       "  <th>Date:</th>           <td>Thu, 05 Nov 2015</td> <th>  Deviance:          </th> <td>  5.2232</td>\n",
       "</tr>\n",
       "<tr>\n",
       "  <th>Time:</th>               <td>21:08:34</td>     <th>  Pearson chi2:      </th>  <td>  4.57</td> \n",
       "</tr>\n",
       "<tr>\n",
       "  <th>No. Iterations:</th>         <td>7</td>        <th>                     </th>     <td> </td>   \n",
       "</tr>\n",
       "</table>\n",
       "<table class=\"simpletable\">\n",
       "<tr>\n",
       "                      <td></td>                         <th>coef</th>     <th>std err</th>      <th>z</th>      <th>P>|z|</th> <th>[95.0% Conf. Int.]</th> \n",
       "</tr>\n",
       "<tr>\n",
       "  <th>const</th>                                     <td>   -0.7958</td> <td>    0.058</td> <td>  -13.691</td> <td> 0.000</td> <td>   -0.910    -0.682</td>\n",
       "</tr>\n",
       "<tr>\n",
       "  <th>age_40-44</th>                                 <td>   -0.4535</td> <td>    0.254</td> <td>   -1.786</td> <td> 0.074</td> <td>   -0.951     0.044</td>\n",
       "</tr>\n",
       "<tr>\n",
       "  <th>age_45-49</th>                                 <td>   -0.3402</td> <td>    0.245</td> <td>   -1.391</td> <td> 0.164</td> <td>   -0.820     0.139</td>\n",
       "</tr>\n",
       "<tr>\n",
       "  <th>age_50-54</th>                                 <td>   -0.3239</td> <td>    0.245</td> <td>   -1.324</td> <td> 0.186</td> <td>   -0.803     0.156</td>\n",
       "</tr>\n",
       "<tr>\n",
       "  <th>age_55-59</th>                                 <td>   -0.0542</td> <td>    0.211</td> <td>   -0.257</td> <td> 0.797</td> <td>   -0.467     0.359</td>\n",
       "</tr>\n",
       "<tr>\n",
       "  <th>age_60-64</th>                                 <td>    0.0482</td> <td>    0.199</td> <td>    0.242</td> <td> 0.809</td> <td>   -0.342     0.438</td>\n",
       "</tr>\n",
       "<tr>\n",
       "  <th>age_65-69</th>                                 <td>    0.0914</td> <td>    0.197</td> <td>    0.464</td> <td> 0.643</td> <td>   -0.295     0.477</td>\n",
       "</tr>\n",
       "<tr>\n",
       "  <th>age_70-74</th>                                 <td>    0.0997</td> <td>    0.199</td> <td>    0.501</td> <td> 0.617</td> <td>   -0.291     0.490</td>\n",
       "</tr>\n",
       "<tr>\n",
       "  <th>age_75-79</th>                                 <td>    0.0817</td> <td>    0.205</td> <td>    0.398</td> <td> 0.691</td> <td>   -0.321     0.484</td>\n",
       "</tr>\n",
       "<tr>\n",
       "  <th>age_80+</th>                                   <td>    0.0549</td> <td>    0.213</td> <td>    0.257</td> <td> 0.797</td> <td>   -0.363     0.473</td>\n",
       "</tr>\n",
       "<tr>\n",
       "  <th>smoke_Doesn't smoke</th>                       <td>   -0.2848</td> <td>    0.141</td> <td>   -2.027</td> <td> 0.043</td> <td>   -0.560    -0.009</td>\n",
       "</tr>\n",
       "<tr>\n",
       "  <th>smoke_Smokes cigars or pipe only</th>          <td>   -0.3983</td> <td>    0.148</td> <td>   -2.689</td> <td> 0.007</td> <td>   -0.689    -0.108</td>\n",
       "</tr>\n",
       "<tr>\n",
       "  <th>smoke_Smokes cigarettes and cigar or pipe</th> <td>   -0.0460</td> <td>    0.123</td> <td>   -0.374</td> <td> 0.709</td> <td>   -0.287     0.195</td>\n",
       "</tr>\n",
       "<tr>\n",
       "  <th>smoke_smokes cigarettes only</th>              <td>   -0.0666</td> <td>    0.126</td> <td>   -0.530</td> <td> 0.596</td> <td>   -0.313     0.180</td>\n",
       "</tr>\n",
       "</table>"
      ],
      "text/plain": [
       "<class 'statsmodels.iolib.summary.Summary'>\n",
       "\"\"\"\n",
       "                 Generalized Linear Model Regression Results                  \n",
       "==============================================================================\n",
       "Dep. Variable:                deadlog   No. Observations:                   36\n",
       "Model:                            GLM   Df Residuals:                       24\n",
       "Model Family:                 Poisson   Df Model:                           11\n",
       "Link Function:                    log   Scale:                             1.0\n",
       "Method:                          IRLS   Log-Likelihood:                -63.240\n",
       "Date:                Thu, 05 Nov 2015   Deviance:                       5.2232\n",
       "Time:                        21:08:34   Pearson chi2:                     4.57\n",
       "No. Iterations:                     7                                         \n",
       "=============================================================================================================\n",
       "                                                coef    std err          z      P>|z|      [95.0% Conf. Int.]\n",
       "-------------------------------------------------------------------------------------------------------------\n",
       "const                                        -0.7958      0.058    -13.691      0.000        -0.910    -0.682\n",
       "age_40-44                                    -0.4535      0.254     -1.786      0.074        -0.951     0.044\n",
       "age_45-49                                    -0.3402      0.245     -1.391      0.164        -0.820     0.139\n",
       "age_50-54                                    -0.3239      0.245     -1.324      0.186        -0.803     0.156\n",
       "age_55-59                                    -0.0542      0.211     -0.257      0.797        -0.467     0.359\n",
       "age_60-64                                     0.0482      0.199      0.242      0.809        -0.342     0.438\n",
       "age_65-69                                     0.0914      0.197      0.464      0.643        -0.295     0.477\n",
       "age_70-74                                     0.0997      0.199      0.501      0.617        -0.291     0.490\n",
       "age_75-79                                     0.0817      0.205      0.398      0.691        -0.321     0.484\n",
       "age_80+                                       0.0549      0.213      0.257      0.797        -0.363     0.473\n",
       "smoke_Doesn't smoke                          -0.2848      0.141     -2.027      0.043        -0.560    -0.009\n",
       "smoke_Smokes cigars or pipe only             -0.3983      0.148     -2.689      0.007        -0.689    -0.108\n",
       "smoke_Smokes cigarettes and cigar or pipe    -0.0460      0.123     -0.374      0.709        -0.287     0.195\n",
       "smoke_smokes cigarettes only                 -0.0666      0.126     -0.530      0.596        -0.313     0.180\n",
       "=============================================================================================================\n",
       "\"\"\""
      ]
     },
     "execution_count": 50,
     "metadata": {},
     "output_type": "execute_result"
    }
   ],
   "source": [
    "print \"Data:                smoking\"\n",
    "print \"Model_Num:           2\"\n",
    "print \"Model:               GLM: Y = deadlog (offset = logpop)\"\n",
    "\n",
    "glm_offset = sm.GLM(Y_smoking_dead, X_smoking, \\\n",
    "                    offset=logpop, family=sm.families.Poisson()).fit()\n",
    "glm_offset.summary()\n",
    "\n",
    "## Note: the offset parameter doesn't get its own covariate output. \n",
    "## The would-be coefficient for the offset is \n",
    "## forced to be 1 (or as close to 1 as possible)."
   ]
  },
  {
   "cell_type": "code",
   "execution_count": 51,
   "metadata": {
    "collapsed": false
   },
   "outputs": [
    {
     "name": "stdout",
     "output_type": "stream",
     "text": [
      "Data:                smoking\n",
      "Model_Num:           2\n",
      "Model:               GLM: Y = deadlog (offset = logpop)\n",
      "deviance:            5.22324006947\n",
      "pearson chi-squared: 4.57119393402\n"
     ]
    }
   ],
   "source": [
    "print \"Data:                smoking\"\n",
    "print \"Model_Num:           2\"\n",
    "print \"Model:               GLM: Y = deadlog (offset = logpop)\" \n",
    "print \"deviance:           \", glm_offset.deviance\n",
    "print \"pearson chi-squared:\", glm_offset.pearson_chi2\n",
    "\n",
    "#print \"\\nparameters: \"\n",
    "#print glm_offset.params\n"
   ]
  },
  {
   "cell_type": "markdown",
   "metadata": {},
   "source": [
    "#### <a id='6c'></a> Challenge 6c - OLS"
   ]
  },
  {
   "cell_type": "markdown",
   "metadata": {},
   "source": [
    "#### Challenge 6 - Model 3 (OLS, Y=deadlog)"
   ]
  },
  {
   "cell_type": "code",
   "execution_count": 52,
   "metadata": {
    "collapsed": false
   },
   "outputs": [
    {
     "name": "stdout",
     "output_type": "stream",
     "text": [
      "X:          \n",
      "    const  age_40-44  age_45-49  age_50-54  age_55-59  age_60-64  age_65-69  \\\n",
      "11      1          0          0          1          0          0          0   \n",
      "10      1          0          1          0          0          0          0   \n",
      "35      1          0          0          0          0          0          0   \n",
      "9       1          1          0          0          0          0          0   \n",
      "2       1          0          0          1          0          0          0   \n",
      "\n",
      "    age_70-74  age_75-79  age_80+  smoke_Doesn't smoke  \\\n",
      "11          0          0        0                    0   \n",
      "10          0          0        0                    0   \n",
      "35          0          0        1                    0   \n",
      "9           0          0        0                    0   \n",
      "2           0          0        0                    1   \n",
      "\n",
      "    smoke_Smokes cigars or pipe only  \\\n",
      "11                                 1   \n",
      "10                                 1   \n",
      "35                                 0   \n",
      "9                                  1   \n",
      "2                                  0   \n",
      "\n",
      "    smoke_Smokes cigarettes and cigar or pipe  smoke_smokes cigarettes only  \\\n",
      "11                                          0                             0   \n",
      "10                                          0                             0   \n",
      "35                                          0                             1   \n",
      "9                                           0                             0   \n",
      "2                                           0                             0   \n",
      "\n",
      "       poplog  \n",
      "11  11.492723  \n",
      "10  11.552146  \n",
      "35  11.635143  \n",
      "9   11.884489  \n",
      "2   12.425208  \n",
      "\n",
      "Y:          \n",
      "11    1.098612\n",
      "10    1.386294\n",
      "35    4.143135\n",
      "9     0.693147\n",
      "2     2.944439\n",
      "Name: deadlog, dtype: float32\n"
     ]
    }
   ],
   "source": [
    "#Y_hack = Y.replace(0, 0.01)\n",
    "#logY = np.log(Y_hack)\n",
    "\n",
    "# Set dummy variables\n",
    "age   = pd.get_dummies(smoking_data['age'], prefix='age')\n",
    "smoke = pd.get_dummies(smoking_data['smoke'], prefix='smoke')\n",
    "poplog= smoking_data['poplog']\n",
    "\n",
    "X_smoking_pop = pd.concat([age, smoke, poplog], axis=1)\n",
    "# add constant\n",
    "X_smoking_pop = sm.add_constant(X_smoking_pop)\n",
    "\n",
    "# tranform Y to log\n",
    "Y_smoking_dead = smoking_data['deadlog']\n",
    "\n",
    "print \"X:          \"\n",
    "print X_smoking_pop[:5]\n",
    "print \"\\nY:          \" \n",
    "print Y_smoking_dead[:5]\n",
    "#print \"\\noffset:     \"\n",
    "#print logpop[:5]\n",
    "\n",
    "#print X_smoking_pop[:5]\n",
    "#print Y_smoking_dead.describe()\n"
   ]
  },
  {
   "cell_type": "code",
   "execution_count": 53,
   "metadata": {
    "collapsed": false
   },
   "outputs": [
    {
     "name": "stdout",
     "output_type": "stream",
     "text": [
      "Data:                smoking\n",
      "Model_Num:           3\n",
      "Model:               OLS, Y = deadlog\n"
     ]
    },
    {
     "data": {
      "text/html": [
       "<table class=\"simpletable\">\n",
       "<caption>OLS Regression Results</caption>\n",
       "<tr>\n",
       "  <th>Dep. Variable:</th>         <td>deadlog</td>     <th>  R-squared:         </th> <td>   0.993</td>\n",
       "</tr>\n",
       "<tr>\n",
       "  <th>Model:</th>                   <td>OLS</td>       <th>  Adj. R-squared:    </th> <td>   0.989</td>\n",
       "</tr>\n",
       "<tr>\n",
       "  <th>Method:</th>             <td>Least Squares</td>  <th>  F-statistic:       </th> <td>   257.0</td>\n",
       "</tr>\n",
       "<tr>\n",
       "  <th>Date:</th>             <td>Thu, 05 Nov 2015</td> <th>  Prob (F-statistic):</th> <td>1.59e-21</td>\n",
       "</tr>\n",
       "<tr>\n",
       "  <th>Time:</th>                 <td>21:08:34</td>     <th>  Log-Likelihood:    </th> <td>  22.379</td>\n",
       "</tr>\n",
       "<tr>\n",
       "  <th>No. Observations:</th>      <td>    36</td>      <th>  AIC:               </th> <td>  -18.76</td>\n",
       "</tr>\n",
       "<tr>\n",
       "  <th>Df Residuals:</th>          <td>    23</td>      <th>  BIC:               </th> <td>   1.828</td>\n",
       "</tr>\n",
       "<tr>\n",
       "  <th>Df Model:</th>              <td>    12</td>      <th>                     </th>     <td> </td>   \n",
       "</tr>\n",
       "<tr>\n",
       "  <th>Covariance Type:</th>      <td>nonrobust</td>    <th>                     </th>     <td> </td>   \n",
       "</tr>\n",
       "</table>\n",
       "<table class=\"simpletable\">\n",
       "<tr>\n",
       "                      <td></td>                         <th>coef</th>     <th>std err</th>      <th>t</th>      <th>P>|t|</th> <th>[95.0% Conf. Int.]</th> \n",
       "</tr>\n",
       "<tr>\n",
       "  <th>const</th>                                     <td>   -8.0129</td> <td>    0.445</td> <td>  -17.997</td> <td> 0.000</td> <td>   -8.934    -7.092</td>\n",
       "</tr>\n",
       "<tr>\n",
       "  <th>age_40-44</th>                                 <td>   -2.6038</td> <td>    0.097</td> <td>  -26.954</td> <td> 0.000</td> <td>   -2.804    -2.404</td>\n",
       "</tr>\n",
       "<tr>\n",
       "  <th>age_45-49</th>                                 <td>   -1.8138</td> <td>    0.086</td> <td>  -21.048</td> <td> 0.000</td> <td>   -1.992    -1.636</td>\n",
       "</tr>\n",
       "<tr>\n",
       "  <th>age_50-54</th>                                 <td>   -1.5569</td> <td>    0.082</td> <td>  -18.965</td> <td> 0.000</td> <td>   -1.727    -1.387</td>\n",
       "</tr>\n",
       "<tr>\n",
       "  <th>age_55-59</th>                                 <td>   -1.1520</td> <td>    0.103</td> <td>  -11.193</td> <td> 0.000</td> <td>   -1.365    -0.939</td>\n",
       "</tr>\n",
       "<tr>\n",
       "  <th>age_60-64</th>                                 <td>   -0.9513</td> <td>    0.117</td> <td>   -8.151</td> <td> 0.000</td> <td>   -1.193    -0.710</td>\n",
       "</tr>\n",
       "<tr>\n",
       "  <th>age_65-69</th>                                 <td>   -0.5349</td> <td>    0.109</td> <td>   -4.908</td> <td> 0.000</td> <td>   -0.760    -0.309</td>\n",
       "</tr>\n",
       "<tr>\n",
       "  <th>age_70-74</th>                                 <td>   -0.1709</td> <td>    0.096</td> <td>   -1.781</td> <td> 0.088</td> <td>   -0.369     0.028</td>\n",
       "</tr>\n",
       "<tr>\n",
       "  <th>age_75-79</th>                                 <td>    0.2080</td> <td>    0.082</td> <td>    2.548</td> <td> 0.018</td> <td>    0.039     0.377</td>\n",
       "</tr>\n",
       "<tr>\n",
       "  <th>age_80+</th>                                   <td>    0.5626</td> <td>    0.077</td> <td>    7.333</td> <td> 0.000</td> <td>    0.404     0.721</td>\n",
       "</tr>\n",
       "<tr>\n",
       "  <th>smoke_Doesn't smoke</th>                       <td>   -2.0085</td> <td>    0.099</td> <td>  -20.374</td> <td> 0.000</td> <td>   -2.212    -1.805</td>\n",
       "</tr>\n",
       "<tr>\n",
       "  <th>smoke_Smokes cigars or pipe only</th>          <td>   -2.1414</td> <td>    0.086</td> <td>  -24.788</td> <td> 0.000</td> <td>   -2.320    -1.963</td>\n",
       "</tr>\n",
       "<tr>\n",
       "  <th>smoke_Smokes cigarettes and cigar or pipe</th> <td>   -2.0505</td> <td>    0.161</td> <td>  -12.744</td> <td> 0.000</td> <td>   -2.383    -1.718</td>\n",
       "</tr>\n",
       "<tr>\n",
       "  <th>smoke_smokes cigarettes only</th>              <td>   -1.8125</td> <td>    0.140</td> <td>  -12.922</td> <td> 0.000</td> <td>   -2.103    -1.522</td>\n",
       "</tr>\n",
       "<tr>\n",
       "  <th>poplog</th>                                    <td>    1.1481</td> <td>    0.044</td> <td>   25.981</td> <td> 0.000</td> <td>    1.057     1.239</td>\n",
       "</tr>\n",
       "</table>\n",
       "<table class=\"simpletable\">\n",
       "<tr>\n",
       "  <th>Omnibus:</th>       <td> 3.745</td> <th>  Durbin-Watson:     </th> <td>   2.345</td>\n",
       "</tr>\n",
       "<tr>\n",
       "  <th>Prob(Omnibus):</th> <td> 0.154</td> <th>  Jarque-Bera (JB):  </th> <td>   2.404</td>\n",
       "</tr>\n",
       "<tr>\n",
       "  <th>Skew:</th>          <td>-0.477</td> <th>  Prob(JB):          </th> <td>   0.301</td>\n",
       "</tr>\n",
       "<tr>\n",
       "  <th>Kurtosis:</th>      <td> 3.832</td> <th>  Cond. No.          </th> <td>2.75e+17</td>\n",
       "</tr>\n",
       "</table>"
      ],
      "text/plain": [
       "<class 'statsmodels.iolib.summary.Summary'>\n",
       "\"\"\"\n",
       "                            OLS Regression Results                            \n",
       "==============================================================================\n",
       "Dep. Variable:                deadlog   R-squared:                       0.993\n",
       "Model:                            OLS   Adj. R-squared:                  0.989\n",
       "Method:                 Least Squares   F-statistic:                     257.0\n",
       "Date:                Thu, 05 Nov 2015   Prob (F-statistic):           1.59e-21\n",
       "Time:                        21:08:34   Log-Likelihood:                 22.379\n",
       "No. Observations:                  36   AIC:                            -18.76\n",
       "Df Residuals:                      23   BIC:                             1.828\n",
       "Df Model:                          12                                         \n",
       "Covariance Type:            nonrobust                                         \n",
       "=============================================================================================================\n",
       "                                                coef    std err          t      P>|t|      [95.0% Conf. Int.]\n",
       "-------------------------------------------------------------------------------------------------------------\n",
       "const                                        -8.0129      0.445    -17.997      0.000        -8.934    -7.092\n",
       "age_40-44                                    -2.6038      0.097    -26.954      0.000        -2.804    -2.404\n",
       "age_45-49                                    -1.8138      0.086    -21.048      0.000        -1.992    -1.636\n",
       "age_50-54                                    -1.5569      0.082    -18.965      0.000        -1.727    -1.387\n",
       "age_55-59                                    -1.1520      0.103    -11.193      0.000        -1.365    -0.939\n",
       "age_60-64                                    -0.9513      0.117     -8.151      0.000        -1.193    -0.710\n",
       "age_65-69                                    -0.5349      0.109     -4.908      0.000        -0.760    -0.309\n",
       "age_70-74                                    -0.1709      0.096     -1.781      0.088        -0.369     0.028\n",
       "age_75-79                                     0.2080      0.082      2.548      0.018         0.039     0.377\n",
       "age_80+                                       0.5626      0.077      7.333      0.000         0.404     0.721\n",
       "smoke_Doesn't smoke                          -2.0085      0.099    -20.374      0.000        -2.212    -1.805\n",
       "smoke_Smokes cigars or pipe only             -2.1414      0.086    -24.788      0.000        -2.320    -1.963\n",
       "smoke_Smokes cigarettes and cigar or pipe    -2.0505      0.161    -12.744      0.000        -2.383    -1.718\n",
       "smoke_smokes cigarettes only                 -1.8125      0.140    -12.922      0.000        -2.103    -1.522\n",
       "poplog                                        1.1481      0.044     25.981      0.000         1.057     1.239\n",
       "==============================================================================\n",
       "Omnibus:                        3.745   Durbin-Watson:                   2.345\n",
       "Prob(Omnibus):                  0.154   Jarque-Bera (JB):                2.404\n",
       "Skew:                          -0.477   Prob(JB):                        0.301\n",
       "Kurtosis:                       3.832   Cond. No.                     2.75e+17\n",
       "==============================================================================\n",
       "\n",
       "Warnings:\n",
       "[1] Standard Errors assume that the covariance matrix of the errors is correctly specified.\n",
       "[2] The smallest eigenvalue is 9.06e-32. This might indicate that there are\n",
       "strong multicollinearity problems or that the design matrix is singular.\n",
       "\"\"\""
      ]
     },
     "execution_count": 53,
     "metadata": {},
     "output_type": "execute_result"
    }
   ],
   "source": [
    "print \"Data:                smoking\"\n",
    "print \"Model_Num:           3\"\n",
    "print \"Model:               OLS, Y = deadlog\"\n",
    "\n",
    "linear_model = sm.OLS(Y_smoking_dead, X_smoking_pop).fit()\n",
    "linear_model.summary()"
   ]
  },
  {
   "cell_type": "code",
   "execution_count": 54,
   "metadata": {
    "collapsed": false
   },
   "outputs": [
    {
     "name": "stdout",
     "output_type": "stream",
     "text": [
      "Data:                smoking\n",
      "Model_Num:           3\n",
      "Model:               OLS, Y = deadlog\n",
      "\n",
      "parameters: \n",
      "                            OLS Regression Results                            \n",
      "==============================================================================\n",
      "Dep. Variable:                deadlog   R-squared:                       0.993\n",
      "Model:                            OLS   Adj. R-squared:                  0.989\n",
      "Method:                 Least Squares   F-statistic:                     257.0\n",
      "Date:                Thu, 05 Nov 2015   Prob (F-statistic):           1.59e-21\n",
      "Time:                        21:08:34   Log-Likelihood:                 22.379\n",
      "No. Observations:                  36   AIC:                            -18.76\n",
      "Df Residuals:                      23   BIC:                             1.828\n",
      "Df Model:                          12                                         \n",
      "Covariance Type:            nonrobust                                         \n",
      "=============================================================================================================\n",
      "                                                coef    std err          t      P>|t|      [95.0% Conf. Int.]\n",
      "-------------------------------------------------------------------------------------------------------------\n",
      "const                                        -8.0129      0.445    -17.997      0.000        -8.934    -7.092\n",
      "age_40-44                                    -2.6038      0.097    -26.954      0.000        -2.804    -2.404\n",
      "age_45-49                                    -1.8138      0.086    -21.048      0.000        -1.992    -1.636\n",
      "age_50-54                                    -1.5569      0.082    -18.965      0.000        -1.727    -1.387\n",
      "age_55-59                                    -1.1520      0.103    -11.193      0.000        -1.365    -0.939\n",
      "age_60-64                                    -0.9513      0.117     -8.151      0.000        -1.193    -0.710\n",
      "age_65-69                                    -0.5349      0.109     -4.908      0.000        -0.760    -0.309\n",
      "age_70-74                                    -0.1709      0.096     -1.781      0.088        -0.369     0.028\n",
      "age_75-79                                     0.2080      0.082      2.548      0.018         0.039     0.377\n",
      "age_80+                                       0.5626      0.077      7.333      0.000         0.404     0.721\n",
      "smoke_Doesn't smoke                          -2.0085      0.099    -20.374      0.000        -2.212    -1.805\n",
      "smoke_Smokes cigars or pipe only             -2.1414      0.086    -24.788      0.000        -2.320    -1.963\n",
      "smoke_Smokes cigarettes and cigar or pipe    -2.0505      0.161    -12.744      0.000        -2.383    -1.718\n",
      "smoke_smokes cigarettes only                 -1.8125      0.140    -12.922      0.000        -2.103    -1.522\n",
      "poplog                                        1.1481      0.044     25.981      0.000         1.057     1.239\n",
      "==============================================================================\n",
      "Omnibus:                        3.745   Durbin-Watson:                   2.345\n",
      "Prob(Omnibus):                  0.154   Jarque-Bera (JB):                2.404\n",
      "Skew:                          -0.477   Prob(JB):                        0.301\n",
      "Kurtosis:                       3.832   Cond. No.                     2.75e+17\n",
      "==============================================================================\n",
      "\n",
      "Warnings:\n",
      "[1] Standard Errors assume that the covariance matrix of the errors is correctly specified.\n",
      "[2] The smallest eigenvalue is 9.06e-32. This might indicate that there are\n",
      "strong multicollinearity problems or that the design matrix is singular.\n"
     ]
    }
   ],
   "source": [
    "print \"Data:                smoking\"\n",
    "print \"Model_Num:           3\"\n",
    "print \"Model:               OLS, Y = deadlog\" \n",
    "\n",
    "print \"\\nparameters: \"\n",
    "#print linear_model.params\n",
    "print linear_model.summary()"
   ]
  },
  {
   "cell_type": "markdown",
   "metadata": {},
   "source": [
    "Compare p-values between the two models.  In OLS, almost all p-values are significant (plus warning message).  In the GLM/Poisson, just a few of the variables are significant, which provides more information."
   ]
  },
  {
   "cell_type": "markdown",
   "metadata": {},
   "source": [
    "http://courses.education.illinois.edu/EdPsy589/lectures/4glm3-ha-online.pdf"
   ]
  },
  {
   "cell_type": "markdown",
   "metadata": {},
   "source": [
    "### <a id='7'></a> Bonus"
   ]
  },
  {
   "cell_type": "markdown",
   "metadata": {},
   "source": [
    "Try all these things in R! \n",
    "Your numerical answers should all be the same."
   ]
  }
 ],
 "metadata": {
  "kernelspec": {
   "display_name": "Python 2",
   "language": "python",
   "name": "python2"
  },
  "language_info": {
   "codemirror_mode": {
    "name": "ipython",
    "version": 2
   },
   "file_extension": ".py",
   "mimetype": "text/x-python",
   "name": "python",
   "nbconvert_exporter": "python",
   "pygments_lexer": "ipython2",
   "version": "2.7.11"
  }
 },
 "nbformat": 4,
 "nbformat_minor": 0
}
