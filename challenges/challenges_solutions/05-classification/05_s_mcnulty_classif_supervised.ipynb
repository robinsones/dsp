{
 "metadata": {
  "name": "",
  "signature": "sha256:d2cff6449edea31006eb5ce4e3c545e4ea5214958cf682a1c3c24a87bb3ba442"
 },
 "nbformat": 3,
 "nbformat_minor": 0,
 "worksheets": [
  {
   "cells": [
    {
     "cell_type": "code",
     "collapsed": false,
     "input": [
      "%matplotlib inline\n",
      "import pandas as pd\n",
      "import numpy as np\n",
      "from datetime import datetime\n",
      "import matplotlib.pyplot as plt\n"
     ],
     "language": "python",
     "metadata": {},
     "outputs": [],
     "prompt_number": 1
    },
    {
     "cell_type": "markdown",
     "metadata": {},
     "source": [
      "###Challenge 1\n",
      "\n",
      "Load the data into a pandas dataframe. Replace 'y's with 1s, 'n's with 0s.\n",
      "Now, almost every representative has a ?. This represents a no vote (they were absent or some other similar reason). If we dropped all the rows that had a ?, we would throw out most of our data. Instead, we will replace ? with the best guess in the Bayesian sense: in the absence of any other information, we will say that the probability of the representative saying YES is the ratio of others that said YES over the whole votes.  \n",
      "So, convert each ? to this probability (when yes=1 and no=0, this is the mean of the column)"
     ]
    },
    {
     "cell_type": "code",
     "collapsed": false,
     "input": [
      "representatives = pd.read_csv(\"house-votes-84.data\", header=None)\n",
      "\n",
      "representatives.head()"
     ],
     "language": "python",
     "metadata": {},
     "outputs": [
      {
       "html": [
        "<div style=\"max-height:1000px;max-width:1500px;overflow:auto;\">\n",
        "<table border=\"1\" class=\"dataframe\">\n",
        "  <thead>\n",
        "    <tr style=\"text-align: right;\">\n",
        "      <th></th>\n",
        "      <th>0</th>\n",
        "      <th>1</th>\n",
        "      <th>2</th>\n",
        "      <th>3</th>\n",
        "      <th>4</th>\n",
        "      <th>5</th>\n",
        "      <th>6</th>\n",
        "      <th>7</th>\n",
        "      <th>8</th>\n",
        "      <th>9</th>\n",
        "      <th>10</th>\n",
        "      <th>11</th>\n",
        "      <th>12</th>\n",
        "      <th>13</th>\n",
        "      <th>14</th>\n",
        "      <th>15</th>\n",
        "      <th>16</th>\n",
        "    </tr>\n",
        "  </thead>\n",
        "  <tbody>\n",
        "    <tr>\n",
        "      <th>0</th>\n",
        "      <td> republican</td>\n",
        "      <td> n</td>\n",
        "      <td> y</td>\n",
        "      <td> n</td>\n",
        "      <td> y</td>\n",
        "      <td> y</td>\n",
        "      <td> y</td>\n",
        "      <td> n</td>\n",
        "      <td> n</td>\n",
        "      <td> n</td>\n",
        "      <td> y</td>\n",
        "      <td> ?</td>\n",
        "      <td> y</td>\n",
        "      <td> y</td>\n",
        "      <td> y</td>\n",
        "      <td> n</td>\n",
        "      <td> y</td>\n",
        "    </tr>\n",
        "    <tr>\n",
        "      <th>1</th>\n",
        "      <td> republican</td>\n",
        "      <td> n</td>\n",
        "      <td> y</td>\n",
        "      <td> n</td>\n",
        "      <td> y</td>\n",
        "      <td> y</td>\n",
        "      <td> y</td>\n",
        "      <td> n</td>\n",
        "      <td> n</td>\n",
        "      <td> n</td>\n",
        "      <td> n</td>\n",
        "      <td> n</td>\n",
        "      <td> y</td>\n",
        "      <td> y</td>\n",
        "      <td> y</td>\n",
        "      <td> n</td>\n",
        "      <td> ?</td>\n",
        "    </tr>\n",
        "    <tr>\n",
        "      <th>2</th>\n",
        "      <td>   democrat</td>\n",
        "      <td> ?</td>\n",
        "      <td> y</td>\n",
        "      <td> y</td>\n",
        "      <td> ?</td>\n",
        "      <td> y</td>\n",
        "      <td> y</td>\n",
        "      <td> n</td>\n",
        "      <td> n</td>\n",
        "      <td> n</td>\n",
        "      <td> n</td>\n",
        "      <td> y</td>\n",
        "      <td> n</td>\n",
        "      <td> y</td>\n",
        "      <td> y</td>\n",
        "      <td> n</td>\n",
        "      <td> n</td>\n",
        "    </tr>\n",
        "    <tr>\n",
        "      <th>3</th>\n",
        "      <td>   democrat</td>\n",
        "      <td> n</td>\n",
        "      <td> y</td>\n",
        "      <td> y</td>\n",
        "      <td> n</td>\n",
        "      <td> ?</td>\n",
        "      <td> y</td>\n",
        "      <td> n</td>\n",
        "      <td> n</td>\n",
        "      <td> n</td>\n",
        "      <td> n</td>\n",
        "      <td> y</td>\n",
        "      <td> n</td>\n",
        "      <td> y</td>\n",
        "      <td> n</td>\n",
        "      <td> n</td>\n",
        "      <td> y</td>\n",
        "    </tr>\n",
        "    <tr>\n",
        "      <th>4</th>\n",
        "      <td>   democrat</td>\n",
        "      <td> y</td>\n",
        "      <td> y</td>\n",
        "      <td> y</td>\n",
        "      <td> n</td>\n",
        "      <td> y</td>\n",
        "      <td> y</td>\n",
        "      <td> n</td>\n",
        "      <td> n</td>\n",
        "      <td> n</td>\n",
        "      <td> n</td>\n",
        "      <td> y</td>\n",
        "      <td> ?</td>\n",
        "      <td> y</td>\n",
        "      <td> y</td>\n",
        "      <td> y</td>\n",
        "      <td> y</td>\n",
        "    </tr>\n",
        "  </tbody>\n",
        "</table>\n",
        "</div>"
       ],
       "metadata": {},
       "output_type": "pyout",
       "prompt_number": 2,
       "text": [
        "           0  1  2  3  4  5  6  7  8  9  10 11 12 13 14 15 16\n",
        "0  republican  n  y  n  y  y  y  n  n  n  y  ?  y  y  y  n  y\n",
        "1  republican  n  y  n  y  y  y  n  n  n  n  n  y  y  y  n  ?\n",
        "2    democrat  ?  y  y  ?  y  y  n  n  n  n  y  n  y  y  n  n\n",
        "3    democrat  n  y  y  n  ?  y  n  n  n  n  y  n  y  n  n  y\n",
        "4    democrat  y  y  y  n  y  y  n  n  n  n  y  ?  y  y  y  y"
       ]
      }
     ],
     "prompt_number": 2
    },
    {
     "cell_type": "markdown",
     "metadata": {},
     "source": [
      "#####Columns:\n",
      "0. party: 2 (republican, democrat)\n",
      "2. handicapped-infants: 2 (y,n)\n",
      "3. water-project-cost-sharing: 2 (y,n)\n",
      "4. adoption-of-the-budget-resolution: 2 (y,n)\n",
      "5. physician-fee-freeze: 2 (y,n)\n",
      "6. el-salvador-aid: 2 (y,n)\n",
      "7. religious-groups-in-schools: 2 (y,n)\n",
      "8. anti-satellite-test-ban: 2 (y,n)\n",
      "9. aid-to-nicaraguan-contras: 2 (y,n)\n",
      "10. mx-missile: 2 (y,n)\n",
      "11. immigration: 2 (y,n)\n",
      "12. synfuels-corporation-cutback: 2 (y,n)\n",
      "13. education-spending: 2 (y,n)\n",
      "14. superfund-right-to-sue: 2 (y,n)\n",
      "15. crime: 2 (y,n)\n",
      "16. duty-free-exports: 2 (y,n)\n",
      "17. export-administration-act-south-africa: 2 (y,n)"
     ]
    },
    {
     "cell_type": "code",
     "collapsed": false,
     "input": [
      "representatives = representatives.replace('y',1)\n",
      "representatives = representatives.replace('n',0)\n",
      "representatives = representatives.replace('?',np.nan)\n",
      "\n",
      "#replace ? values with the column mean\n",
      "for column in range(1,17):\n",
      "    colmean = representatives[column].mean()\n",
      "    representatives.loc[np.isnan(representatives[column]), column] = colmean\n",
      "\n",
      "representatives.head()"
     ],
     "language": "python",
     "metadata": {},
     "outputs": [
      {
       "html": [
        "<div style=\"max-height:1000px;max-width:1500px;overflow:auto;\">\n",
        "<table border=\"1\" class=\"dataframe\">\n",
        "  <thead>\n",
        "    <tr style=\"text-align: right;\">\n",
        "      <th></th>\n",
        "      <th>0</th>\n",
        "      <th>1</th>\n",
        "      <th>2</th>\n",
        "      <th>3</th>\n",
        "      <th>4</th>\n",
        "      <th>5</th>\n",
        "      <th>6</th>\n",
        "      <th>7</th>\n",
        "      <th>8</th>\n",
        "      <th>9</th>\n",
        "      <th>10</th>\n",
        "      <th>11</th>\n",
        "      <th>12</th>\n",
        "      <th>13</th>\n",
        "      <th>14</th>\n",
        "      <th>15</th>\n",
        "      <th>16</th>\n",
        "    </tr>\n",
        "  </thead>\n",
        "  <tbody>\n",
        "    <tr>\n",
        "      <th>0</th>\n",
        "      <td> republican</td>\n",
        "      <td> 0.00000</td>\n",
        "      <td> 1</td>\n",
        "      <td> 0</td>\n",
        "      <td> 1.000000</td>\n",
        "      <td> 1.000000</td>\n",
        "      <td> 1</td>\n",
        "      <td> 0</td>\n",
        "      <td> 0</td>\n",
        "      <td> 0</td>\n",
        "      <td> 1</td>\n",
        "      <td> 0.362319</td>\n",
        "      <td> 1.000000</td>\n",
        "      <td> 1</td>\n",
        "      <td> 1</td>\n",
        "      <td> 0</td>\n",
        "      <td> 1.000000</td>\n",
        "    </tr>\n",
        "    <tr>\n",
        "      <th>1</th>\n",
        "      <td> republican</td>\n",
        "      <td> 0.00000</td>\n",
        "      <td> 1</td>\n",
        "      <td> 0</td>\n",
        "      <td> 1.000000</td>\n",
        "      <td> 1.000000</td>\n",
        "      <td> 1</td>\n",
        "      <td> 0</td>\n",
        "      <td> 0</td>\n",
        "      <td> 0</td>\n",
        "      <td> 0</td>\n",
        "      <td> 0.000000</td>\n",
        "      <td> 1.000000</td>\n",
        "      <td> 1</td>\n",
        "      <td> 1</td>\n",
        "      <td> 0</td>\n",
        "      <td> 0.812689</td>\n",
        "    </tr>\n",
        "    <tr>\n",
        "      <th>2</th>\n",
        "      <td>   democrat</td>\n",
        "      <td> 0.44208</td>\n",
        "      <td> 1</td>\n",
        "      <td> 1</td>\n",
        "      <td> 0.417453</td>\n",
        "      <td> 1.000000</td>\n",
        "      <td> 1</td>\n",
        "      <td> 0</td>\n",
        "      <td> 0</td>\n",
        "      <td> 0</td>\n",
        "      <td> 0</td>\n",
        "      <td> 1.000000</td>\n",
        "      <td> 0.000000</td>\n",
        "      <td> 1</td>\n",
        "      <td> 1</td>\n",
        "      <td> 0</td>\n",
        "      <td> 0.000000</td>\n",
        "    </tr>\n",
        "    <tr>\n",
        "      <th>3</th>\n",
        "      <td>   democrat</td>\n",
        "      <td> 0.00000</td>\n",
        "      <td> 1</td>\n",
        "      <td> 1</td>\n",
        "      <td> 0.000000</td>\n",
        "      <td> 0.504762</td>\n",
        "      <td> 1</td>\n",
        "      <td> 0</td>\n",
        "      <td> 0</td>\n",
        "      <td> 0</td>\n",
        "      <td> 0</td>\n",
        "      <td> 1.000000</td>\n",
        "      <td> 0.000000</td>\n",
        "      <td> 1</td>\n",
        "      <td> 0</td>\n",
        "      <td> 0</td>\n",
        "      <td> 1.000000</td>\n",
        "    </tr>\n",
        "    <tr>\n",
        "      <th>4</th>\n",
        "      <td>   democrat</td>\n",
        "      <td> 1.00000</td>\n",
        "      <td> 1</td>\n",
        "      <td> 1</td>\n",
        "      <td> 0.000000</td>\n",
        "      <td> 1.000000</td>\n",
        "      <td> 1</td>\n",
        "      <td> 0</td>\n",
        "      <td> 0</td>\n",
        "      <td> 0</td>\n",
        "      <td> 0</td>\n",
        "      <td> 1.000000</td>\n",
        "      <td> 0.423267</td>\n",
        "      <td> 1</td>\n",
        "      <td> 1</td>\n",
        "      <td> 1</td>\n",
        "      <td> 1.000000</td>\n",
        "    </tr>\n",
        "  </tbody>\n",
        "</table>\n",
        "</div>"
       ],
       "metadata": {},
       "output_type": "pyout",
       "prompt_number": 3,
       "text": [
        "           0        1   2   3         4         5   6   7   8   9   10  \\\n",
        "0  republican  0.00000   1   0  1.000000  1.000000   1   0   0   0   1   \n",
        "1  republican  0.00000   1   0  1.000000  1.000000   1   0   0   0   0   \n",
        "2    democrat  0.44208   1   1  0.417453  1.000000   1   0   0   0   0   \n",
        "3    democrat  0.00000   1   1  0.000000  0.504762   1   0   0   0   0   \n",
        "4    democrat  1.00000   1   1  0.000000  1.000000   1   0   0   0   0   \n",
        "\n",
        "         11        12  13  14  15        16  \n",
        "0  0.362319  1.000000   1   1   0  1.000000  \n",
        "1  0.000000  1.000000   1   1   0  0.812689  \n",
        "2  1.000000  0.000000   1   1   0  0.000000  \n",
        "3  1.000000  0.000000   1   0   0  1.000000  \n",
        "4  1.000000  0.423267   1   1   1  1.000000  "
       ]
      }
     ],
     "prompt_number": 3
    },
    {
     "cell_type": "markdown",
     "metadata": {},
     "source": [
      "###Challenge 2\n",
      "\n",
      "Split the data into a test and training set. But this time, use this function: from sklearn.cross_validation import train_test_split"
     ]
    },
    {
     "cell_type": "code",
     "collapsed": false,
     "input": [
      "from sklearn.cross_validation import train_test_split\n",
      "\n",
      "X = representatives[range(1,17)]\n",
      "Y = representatives[0]\n",
      "\n",
      "X_train, X_test, Y_train, Y_test = train_test_split(X,Y, test_size=.30, random_state=4444)"
     ],
     "language": "python",
     "metadata": {},
     "outputs": [],
     "prompt_number": 7
    },
    {
     "cell_type": "markdown",
     "metadata": {},
     "source": [
      "### Challenge 3\n",
      "\n",
      "Using scikit.learn's KNN algorithm, train a model that predicts the party (republican/democrat) from sklearn.neighbors import KNeighborsClassifier\n",
      "\n",
      "Try it with a lot of different k values (number of neighbors), from 1 to 20, and on the test set calculate the accuracy (number of correct predictions / number of all predictions) for each k\n",
      "\n",
      "You can use this to calculate accuracy: from sklearn.metrics import accuracy_score\n",
      "\n",
      "Which k value gives the highest accuracy?"
     ]
    },
    {
     "cell_type": "code",
     "collapsed": false,
     "input": [
      "import sklearn\n",
      "print sklearn.__version__"
     ],
     "language": "python",
     "metadata": {},
     "outputs": [
      {
       "output_type": "stream",
       "stream": "stdout",
       "text": [
        "0.15.1\n"
       ]
      }
     ],
     "prompt_number": 6
    },
    {
     "cell_type": "code",
     "collapsed": false,
     "input": [
      "from sklearn.metrics import accuracy_score\n",
      "from sklearn.neighbors import KNeighborsClassifier\n",
      "\n",
      "accs = []\n",
      "for n in range(1,20):\n",
      "    model = KNeighborsClassifier(n_neighbors=n).fit(X_train,Y_train)\n",
      "    Y_test_pred = model.predict(X_test)\n",
      "    accuracy = accuracy_score(Y_test, Y_test_pred)\n",
      "    accs.append(accuracy)\n",
      "    print 'KNN (n=%i) accuracy: %.4f' % (n,accuracy)\n",
      "\n",
      "print 'KNN max accuracy: %.4f' % max(accs)\n",
      "plt.plot(range(1,20), accs)\n",
      "plt.xlabel('k neighbors')\n",
      "plt.ylabel('Accuracy')"
     ],
     "language": "python",
     "metadata": {},
     "outputs": [
      {
       "output_type": "stream",
       "stream": "stdout",
       "text": [
        "KNN (n=1) accuracy: 0.9008\n",
        "KNN (n=2) accuracy: 0.8931\n",
        "KNN (n=3) accuracy: 0.9008\n",
        "KNN (n=4) accuracy: 0.9008\n",
        "KNN (n=5) accuracy: 0.9160\n",
        "KNN (n=6) accuracy: 0.9313\n",
        "KNN (n=7) accuracy: 0.9160\n",
        "KNN (n=8) accuracy: 0.9237\n",
        "KNN (n=9) accuracy: 0.9313\n",
        "KNN (n=10) accuracy: 0.9313\n",
        "KNN (n=11) accuracy: 0.9237\n",
        "KNN (n=12) accuracy: 0.9237\n",
        "KNN (n=13) accuracy: 0.9237\n",
        "KNN (n=14) accuracy: 0.9237\n",
        "KNN (n=15) accuracy: 0.9237\n",
        "KNN (n=16) accuracy: 0.9237\n",
        "KNN (n=17) accuracy: 0.9237"
       ]
      },
      {
       "output_type": "stream",
       "stream": "stdout",
       "text": [
        "\n",
        "KNN (n=18) accuracy: 0.9160\n",
        "KNN (n=19) accuracy: 0.9160\n",
        "KNN max accuracy: 0.9313\n"
       ]
      },
      {
       "metadata": {},
       "output_type": "pyout",
       "prompt_number": 5,
       "text": [
        "<matplotlib.text.Text at 0x10ca9ce90>"
       ]
      },
      {
       "metadata": {},
       "output_type": "display_data",
       "png": "[encoded data removed]",
       "text": [
        "<matplotlib.figure.Figure at 0x10c8c6990>"
       ]
      }
     ],
     "prompt_number": 5
    },
    {
     "cell_type": "markdown",
     "metadata": {},
     "source": [
      "#### Challenge 4\n",
      "\n",
      "Make a similar model but with LogisticRegression instead, calculate test accuracy."
     ]
    },
    {
     "cell_type": "code",
     "collapsed": false,
     "input": [
      "from sklearn.linear_model import LogisticRegression\n",
      "\n",
      "model = LogisticRegression().fit(X_train, Y_train)\n",
      "Y_test_pred = model.predict(X_test)\n",
      "logit_accuracy = accuracy_score(Y_test, Y_test_pred)\n",
      "print 'Logistic Regression accuracy: %.4f' % logit_accuracy"
     ],
     "language": "python",
     "metadata": {},
     "outputs": [
      {
       "output_type": "stream",
       "stream": "stdout",
       "text": [
        "Logistic Regression accuracy: 0.9389\n"
       ]
      }
     ],
     "prompt_number": 66
    },
    {
     "cell_type": "markdown",
     "metadata": {},
     "source": [
      "### Challenge 5\n",
      "\n",
      "Make a bar graph of democrats and republicans. How many of each are there? Make a very simple predictor that predicts 'democrat' for every incoming example. (Just make a function that takes in an X --an array or matrix with input examples--, and returns an array of the same length as X, where each value is 'democrat'. For example, if X is three rows, your function should return ['democrat','democrat','democrat']) Make a y_predicted vector using this and measure its accuracy. Do the same with predicting 'republican' all the time and measure its accuracy."
     ]
    },
    {
     "cell_type": "code",
     "collapsed": false,
     "input": [
      "representatives.groupby(0)[0].count().plot(kind='bar')"
     ],
     "language": "python",
     "metadata": {},
     "outputs": [
      {
       "metadata": {},
       "output_type": "pyout",
       "prompt_number": 7,
       "text": [
        "<matplotlib.axes.AxesSubplot at 0x117d52f50>"
       ]
      },
      {
       "metadata": {},
       "output_type": "display_data",
       "png": "[encoded data removed]",
       "text": [
        "<matplotlib.figure.Figure at 0x111dd7290>"
       ]
      }
     ],
     "prompt_number": 7
    },
    {
     "cell_type": "code",
     "collapsed": false,
     "input": [
      "def baseline_model(X, same_guess=\"democrat\"):\n",
      "    \"\"\"guess the same for any input\"\"\"\n",
      "    pred = np.array([same_guess] * len(X))\n",
      "    return pred\n",
      "\n",
      "y_pred_democ_baseline = baseline_model(X_test, same_guess='democrat')\n",
      "democ_accuracy = accuracy_score(Y_test, y_pred_democ_baseline)\n",
      "\n",
      "\n",
      "y_pred_repub_baseline = baseline_model(X_test, same_guess='republican')\n",
      "repub_accuracy = accuracy_score(Y_test, y_pred_repub_baseline)\n",
      "\n",
      "\n",
      "for values in [(\"democrat\", democ_accuracy), (\"republican\", repub_accuracy)]:\n",
      "    print 'Baseline %s guess predictor accuracy: %.4f' % values\n"
     ],
     "language": "python",
     "metadata": {},
     "outputs": [
      {
       "output_type": "stream",
       "stream": "stdout",
       "text": [
        "Baseline democrat guess predictor accuracy: 0.5878\n",
        "Baseline republican guess predictor accuracy: 0.4122\n"
       ]
      }
     ],
     "prompt_number": 8
    },
    {
     "cell_type": "markdown",
     "metadata": {},
     "source": [
      "### Challenge 6\n",
      "\n",
      "Plot the accuracies as a function of k. Since k only matters for KNN, your logistic regression accuracy, 'democrat' predictor accuracy and 'republican' predictor accuracy will stay the same over all k, so each of these three will be a horizontal line. But the KNN accuracy will change with k.\n",
      "\n"
     ]
    },
    {
     "cell_type": "code",
     "collapsed": false,
     "input": [
      "knn, = plt.plot(range(1,20), accs)\n",
      "logit, = plt.plot(range(1,20), [logit_accuracy]*19)\n",
      "democ, = plt.plot(range(1,20), [democ_accuracy]*19)\n",
      "repub, = plt.plot(range(1,20), [repub_accuracy]*19)\n",
      "plt.legend((logit,knn,democ,repub),\n",
      "           (\"LogitReg\",\"KNN\",\"Democrat\", \"Republican\"),\n",
      "           loc='best')\n",
      "plt.xlabel('k neighbors')\n",
      "plt.ylabel('Accuracy')"
     ],
     "language": "python",
     "metadata": {},
     "outputs": [
      {
       "metadata": {},
       "output_type": "pyout",
       "prompt_number": 9,
       "text": [
        "<matplotlib.text.Text at 0x117eccb50>"
       ]
      },
      {
       "metadata": {},
       "output_type": "display_data",
       "png": "[encoded data removed]",
       "text": [
        "<matplotlib.figure.Figure at 0x117d977d0>"
       ]
      }
     ],
     "prompt_number": 9
    },
    {
     "cell_type": "markdown",
     "metadata": {},
     "source": [
      "### Challenge 7\n",
      "\n",
      "Plot a learning curve for the logistic regression model. But instead of going through the painstaking steps of doing it yourself, use this function:\n",
      "from sklearn.learning_curve import learning_curve\n",
      "\n",
      "This will give you the m, training errors and testing errors. All you need to do is plot them. You don't even need to give it separate training/test sets. It will do crossvalidation all by itself. Easy, isn't it? : )\n",
      "\n",
      "Remember, since it does cross-validation, it doesn't have a single training error or test error per m value. Instead, it has one for each fold (separate partition) of the cross validation. A good idea is to take the mean of these errors from different folds. This gives you a meaningful single number per m. What I mean is that doing something like: train_cv_err = np.mean(train_err,axis=1) test_cv_err = np.mean(ts_err,axis=1)\n",
      "\n",
      "before plotting m vs train_cv_err and m vs test_cv_err, where train_err and test_err are the vectors returned by the learning curve function. The np.mean(...., axis=1) means take the mean along axis 1 (axis 1 is the columns axis-- for each row, you have a bunch of columns, each corresponding to a cross validation fold, you are averaging these columns for each row).\n",
      "\n",
      "Draw the learning curve for KNN with the best k value as well."
     ]
    },
    {
     "cell_type": "code",
     "collapsed": false,
     "input": [
      "from sklearn.learning_curve import learning_curve\n",
      "\n",
      "m,train_err,ts_err = learning_curve(LogisticRegression(),\n",
      "                                    X,\n",
      "                                    Y, \n",
      "                                    train_sizes=np.linspace(0.1, 1.0, 80))\n",
      "\n",
      "train_cv_err = np.mean(train_err,axis=1)\n",
      "test_cv_err = np.mean(ts_err,axis=1)\n",
      " \n",
      "tr, = plt.plot(m,train_cv_err)\n",
      "ts, = plt.plot(m,test_cv_err)\n",
      "plt.legend((tr,ts),('training','test'),loc='best')\n",
      "plt.title('Logistic Regression Learning Curve')\n",
      "\n",
      "# As you can see, in this case we are plotting training and test ACCURACY,\n",
      "# instead of errors. So, test accuracy is lower than training accuracy, and\n",
      "# it is increasing as we train on more and more data, and the learning curve\n",
      "# moves towards conversion just like in the other case."
     ],
     "language": "python",
     "metadata": {},
     "outputs": [
      {
       "metadata": {},
       "output_type": "pyout",
       "prompt_number": 10,
       "text": [
        "<matplotlib.text.Text at 0x117ecc890>"
       ]
      },
      {
       "metadata": {},
       "output_type": "display_data",
       "png": "[encoded data removed]",
       "text": [
        "<matplotlib.figure.Figure at 0x117db7c90>"
       ]
      }
     ],
     "prompt_number": 10
    },
    {
     "cell_type": "code",
     "collapsed": false,
     "input": [
      "from sklearn.learning_curve import learning_curve\n",
      "\n",
      "m,train_err,ts_err = learning_curve(KNeighborsClassifier(n_neighbors=6),\n",
      "                                    X,\n",
      "                                    Y, \n",
      "                                    train_sizes=np.linspace(0.1, 1.0, 80))\n",
      "\n",
      "train_cv_err = np.mean(train_err,axis=1)\n",
      "test_cv_err = np.mean(ts_err,axis=1)\n",
      "\n",
      "tr, =plt.plot(m,train_cv_err)\n",
      "ts, = plt.plot(m,test_cv_err)\n",
      "plt.legend((tr,ts),('training','test'),loc='best')\n",
      "plt.title('KNN with k=6 Learning Curve')"
     ],
     "language": "python",
     "metadata": {},
     "outputs": [
      {
       "metadata": {},
       "output_type": "pyout",
       "prompt_number": 11,
       "text": [
        "<matplotlib.text.Text at 0x1180fc850>"
       ]
      },
      {
       "metadata": {},
       "output_type": "display_data",
       "png": "[encoded data removed]",
       "text": [
        "<matplotlib.figure.Figure at 0x1180e3f10>"
       ]
      }
     ],
     "prompt_number": 11
    },
    {
     "cell_type": "markdown",
     "metadata": {},
     "source": [
      "### Challenge 8\n",
      "\n",
      "This is a preview of many other classification algorithms that we will go over. Scikit.learn has the same interface for all of these, so you can use them exactly the same way as you did LogisticRegression and KNeighborsClassifier. Use each of these to classify your data and print the test accuracy of each:\n",
      "\n",
      "Gaussian Naive Bayes \n",
      "from sklearn.naive_bayes import GaussianNB\n",
      "\n",
      "SVM (Support Vector Machine) Classifier\n",
      "from sklearn.svm import SVC\n",
      "\n",
      "Decision Tree\n",
      "from sklearn.tree import DecisionTreeClassifier\n",
      "\n",
      "Random Forest\n",
      "from sklearn.ensemble import RandomForestClassifier"
     ]
    },
    {
     "cell_type": "code",
     "collapsed": false,
     "input": [
      "from sklearn.naive_bayes import GaussianNB\n",
      "\n",
      "model = GaussianNB().fit(X_train, Y_train)\n",
      "Y_test_pred = model.predict(X_test)\n",
      "print 'Naive Bayes (Gaussian) accuracy: %.4f' % accuracy_score(Y_test, Y_test_pred)"
     ],
     "language": "python",
     "metadata": {},
     "outputs": [
      {
       "output_type": "stream",
       "stream": "stdout",
       "text": [
        "Naive Bayes (Gaussian) accuracy: 0.9389\n"
       ]
      }
     ],
     "prompt_number": 12
    },
    {
     "cell_type": "code",
     "collapsed": false,
     "input": [
      "from sklearn.svm import SVC\n",
      "model = SVC().fit(X_train, Y_train)\n",
      "Y_test_pred = model.predict(X_test)\n",
      "print 'SVM Classifier accuracy: %.4f' % accuracy_score(Y_test, Y_test_pred)"
     ],
     "language": "python",
     "metadata": {},
     "outputs": [
      {
       "output_type": "stream",
       "stream": "stdout",
       "text": [
        "SVM Classifier accuracy: 0.9542\n"
       ]
      }
     ],
     "prompt_number": 13
    },
    {
     "cell_type": "code",
     "collapsed": false,
     "input": [
      "from sklearn.tree import DecisionTreeClassifier\n",
      "model = DecisionTreeClassifier().fit(X_train, Y_train)\n",
      "Y_test_pred = model.predict(X_test)\n",
      "print 'Decision Tree accuracy: %.4f' % accuracy_score(Y_test, Y_test_pred)"
     ],
     "language": "python",
     "metadata": {},
     "outputs": [
      {
       "output_type": "stream",
       "stream": "stdout",
       "text": [
        "Decision Tree accuracy: 0.9466\n"
       ]
      }
     ],
     "prompt_number": 14
    },
    {
     "cell_type": "code",
     "collapsed": false,
     "input": [
      "from sklearn.ensemble import RandomForestClassifier\n",
      "model = RandomForestClassifier().fit(X_train, Y_train)\n",
      "Y_test_pred = model.predict(X_test)\n",
      "print 'Random Forest accuracy: %.4f' % accuracy_score(Y_test, Y_test_pred)"
     ],
     "language": "python",
     "metadata": {},
     "outputs": [
      {
       "output_type": "stream",
       "stream": "stdout",
       "text": [
        "Random Forest accuracy: 0.9771\n"
       ]
      }
     ],
     "prompt_number": 15
    },
    {
     "cell_type": "markdown",
     "metadata": {},
     "source": [
      "### Challenge 9\n",
      "\n",
      "There is actually a way to do cross validation quickly to get your accuracy results for an algorithm, without separating training and test yourself:\n",
      "from sklearn.cross_validation import cross_val_score\n",
      "\n",
      "Just like the learning_curve function, this takes a classifier object, X and Y. Returns accuracy (or whatever score you prefer by using the scoring keyword argument). Of course, it will return a score for each cross validation fold, so to get the generalized accuracy, you need to take the mean of what it returns.\n",
      "\n",
      "Use this function to calculate the cross validation score of each of the classifiers you tried before."
     ]
    },
    {
     "cell_type": "code",
     "collapsed": false,
     "input": [
      "from sklearn.cross_validation import cross_val_score\n",
      "\n",
      "names, accs = [],[]\n",
      "for algorithm in (LogisticRegression, \n",
      "                  KNeighborsClassifier,\n",
      "                  GaussianNB,\n",
      "                  SVC,\n",
      "                  DecisionTreeClassifier,\n",
      "                  RandomForestClassifier):\n",
      "\n",
      "    accuracy = np.mean(cross_val_score(algorithm(), X,Y, cv=10)) #10-fold cross validation\n",
      "    print '%-30s %.4f' % (algorithm.__name__, accuracy)\n",
      "    names.append(algorithm.__name__)\n",
      "    accs.append(accuracy)"
     ],
     "language": "python",
     "metadata": {},
     "outputs": [
      {
       "output_type": "stream",
       "stream": "stdout",
       "text": [
        "LogisticRegression             0.9582\n",
        "KNeighborsClassifier           0.9283\n",
        "GaussianNB                     0.9398"
       ]
      },
      {
       "output_type": "stream",
       "stream": "stdout",
       "text": [
        "\n",
        "SVC                            0.9583"
       ]
      },
      {
       "output_type": "stream",
       "stream": "stdout",
       "text": [
        "\n",
        "DecisionTreeClassifier         0.9399\n",
        "RandomForestClassifier         0.9559"
       ]
      },
      {
       "output_type": "stream",
       "stream": "stdout",
       "text": [
        "\n"
       ]
      }
     ],
     "prompt_number": 16
    },
    {
     "cell_type": "code",
     "collapsed": false,
     "input": [
      "plt.figure(figsize=(15,5))\n",
      "\n",
      "plt.subplot(121)\n",
      "plt.bar(range(6), accs, color='#75A3FF')\n",
      "plt.xticks(np.arange(6)+0.35, names, rotation=90)\n",
      "plt.ylabel(\"Accuracy\")\n",
      "plt.title('They are all pretty accurate')\n",
      "\n",
      "plt.subplot(122)\n",
      "plt.bar(range(6), accs, color='#CC6699')\n",
      "plt.xticks(np.arange(6)+0.35, names, rotation=90)\n",
      "plt.ylim(0.88, 1.0)\n",
      "plt.ylabel(\"Accuracy\")\n",
      "plt.title('Zooming in to see differences')"
     ],
     "language": "python",
     "metadata": {},
     "outputs": [
      {
       "metadata": {},
       "output_type": "pyout",
       "prompt_number": 17,
       "text": [
        "<matplotlib.text.Text at 0x1184462d0>"
       ]
      },
      {
       "metadata": {},
       "output_type": "display_data",
       "png": "[encoded data removed]",
       "text": [
        "<matplotlib.figure.Figure at 0x118318590>"
       ]
      }
     ],
     "prompt_number": 17
    },
    {
     "cell_type": "markdown",
     "metadata": {},
     "source": [
      "### Challenge 10\n",
      "\n",
      "Instead of 'democrat' or 'republican', can you predict the vote of a representative based on their other votes?\n",
      "\n",
      "Reload the data from scratch. Convert y-->1, n-->0. Choose one vote. Build a classifier (logistic regression or KNN), that uses the other votes (do not use the party as a feature) to predict if the vote will be 1 or 0.\n",
      "\n",
      "Convert each ? to the mode of the column (if a senator has not voted, make their vote 1 if most others voted 1, make it 0 if most others voted 0).\n",
      "\n",
      "Calculate the cross validation accuracy of your classifier for predicting how each representative will vote on the issue."
     ]
    },
    {
     "cell_type": "code",
     "collapsed": false,
     "input": [
      "# Predict the El Salvador Aid vote (column 5) using the other votes\n",
      "rep = pd.read_csv('house_votes.csv', header=None)\n",
      "rep = rep.replace('y',1)\n",
      "rep = rep.replace('n',0)\n",
      "rep = rep.replace('?',np.nan)\n",
      "\n",
      "# drop the rows where our outcome vote is missing    \n",
      "rep = rep[-np.isnan(rep[5])]\n",
      "\n",
      "# Features: All votes but column 5 (also no column 0-- party)\n",
      "feature_cols = range(1,5)+range(6,17)\n",
      "\n",
      "#Replace missing values with the column's mode\n",
      "for column in feature_cols:\n",
      "    # This [0] is ugly but pandas mode() returns a DataFrame instead of a value,\n",
      "    # and we need to take the value in its zeroth column. Uglyish design decision by pandas.\n",
      "    colmode = rep[column].mode()[0]   \n",
      "    rep.loc[np.isnan(rep[column]), column] = colmode\n",
      "    \n",
      "\n",
      "\n",
      "X = rep[feature_cols]\n",
      "Y = rep[5]\n",
      "\n",
      "\n",
      "# Classify with the whole gamut and report accuracy\n",
      "for algorithm in (LogisticRegression, \n",
      "                  KNeighborsClassifier,\n",
      "                  GaussianNB,\n",
      "                  SVC,\n",
      "                  DecisionTreeClassifier,\n",
      "                  RandomForestClassifier):\n",
      "    accuracy = np.mean(cross_val_score(algorithm(), X,Y, cv=10))\n",
      "    print '%-30s %.4f' % (algorithm.__name__, accuracy)"
     ],
     "language": "python",
     "metadata": {},
     "outputs": [
      {
       "output_type": "stream",
       "stream": "stdout",
       "text": [
        "LogisticRegression             0.9545\n",
        "KNeighborsClassifier           0.9402\n",
        "GaussianNB                     0.9565"
       ]
      },
      {
       "output_type": "stream",
       "stream": "stdout",
       "text": [
        "\n",
        "SVC                            0.9616"
       ]
      },
      {
       "output_type": "stream",
       "stream": "stdout",
       "text": [
        "\n",
        "DecisionTreeClassifier         0.9471\n",
        "RandomForestClassifier         0.9329"
       ]
      },
      {
       "output_type": "stream",
       "stream": "stdout",
       "text": [
        "\n"
       ]
      }
     ],
     "prompt_number": 18
    },
    {
     "cell_type": "markdown",
     "metadata": {},
     "source": [
      "### Challenge 11\n",
      "\n",
      "Back to your movie data! Choose one categoric feature to predict. I chose MPAA Rating, but genre, month, etc. are all decent choices. If you don't have any non-numeric features, you can make two bins out of a numeric one (like \"Runtime>100 mins\" and \"Runtime<=100 mins\")\n",
      "\n",
      "Make a bar graph of how many of each movie there is in the data. For example, with Ratings, show how many G, PG, PG-13, R movies there are, etc. (basically a histogram of your labels).\n",
      "\n",
      "Predict your outcome variable (labels) using KNN and logistic regression. Calculate their accuracies.\n",
      "\n",
      "Make a baseline stupid predictor that always predicts the label that is present the most in the data. Calculate its accuracy on a test set.\n",
      "\n",
      "How much better do KNN and logistic regression do versus the baseline?\n",
      "\n",
      "What are the coefficients of logistic regression? Which features affect the outcome how?"
     ]
    },
    {
     "cell_type": "code",
     "collapsed": false,
     "input": [
      "%matplotlib inline\n",
      "import pandas as pd\n",
      "import numpy as np\n",
      "from datetime import datetime\n",
      "import matplotlib.pyplot as plt\n",
      "\n",
      "# Note: Here I'm loading my movie csv file to make a data frame\n",
      "# You can work on your own data frame\n",
      "\n",
      "movies = pd.read_csv('scraped_movies.csv', parse_dates={'Date':['ReleaseDate']})\n",
      "movies = movies.dropna(axis=0, subset=['Budget'])\n",
      "#movies['Ones'] = 1\n",
      "\n",
      "movies.head()"
     ],
     "language": "python",
     "metadata": {},
     "outputs": [
      {
       "html": [
        "<div style=\"max-height:1000px;max-width:1500px;overflow:auto;\">\n",
        "<table border=\"1\" class=\"dataframe\">\n",
        "  <thead>\n",
        "    <tr style=\"text-align: right;\">\n",
        "      <th></th>\n",
        "      <th>Date</th>\n",
        "      <th>Title</th>\n",
        "      <th>Runtime</th>\n",
        "      <th>Rating</th>\n",
        "      <th>DomesticTotalGross</th>\n",
        "      <th>Director</th>\n",
        "      <th>Budget</th>\n",
        "    </tr>\n",
        "  </thead>\n",
        "  <tbody>\n",
        "    <tr>\n",
        "      <th>0</th>\n",
        "      <td>2008-07-18</td>\n",
        "      <td>                                   The Dark Knight</td>\n",
        "      <td> 150</td>\n",
        "      <td> PG-13</td>\n",
        "      <td> 533345358</td>\n",
        "      <td> Christopher Nolan</td>\n",
        "      <td> 185000000</td>\n",
        "    </tr>\n",
        "    <tr>\n",
        "      <th>1</th>\n",
        "      <td>2008-05-02</td>\n",
        "      <td>                                          Iron Man</td>\n",
        "      <td> 126</td>\n",
        "      <td> PG-13</td>\n",
        "      <td> 318412101</td>\n",
        "      <td>       Jon Favreau</td>\n",
        "      <td> 140000000</td>\n",
        "    </tr>\n",
        "    <tr>\n",
        "      <th>2</th>\n",
        "      <td>2008-05-22</td>\n",
        "      <td> Indiana Jones and the Kingdom of the Crystal S...</td>\n",
        "      <td> 120</td>\n",
        "      <td> PG-13</td>\n",
        "      <td> 317101119</td>\n",
        "      <td>  Steven Spielberg</td>\n",
        "      <td> 185000000</td>\n",
        "    </tr>\n",
        "    <tr>\n",
        "      <th>3</th>\n",
        "      <td>2008-07-02</td>\n",
        "      <td>                                           Hancock</td>\n",
        "      <td>  92</td>\n",
        "      <td> PG-13</td>\n",
        "      <td> 227946274</td>\n",
        "      <td>        Peter Berg</td>\n",
        "      <td> 150000000</td>\n",
        "    </tr>\n",
        "    <tr>\n",
        "      <th>4</th>\n",
        "      <td>2008-06-27</td>\n",
        "      <td>                                            WALL-E</td>\n",
        "      <td>  97</td>\n",
        "      <td>     G</td>\n",
        "      <td> 223808164</td>\n",
        "      <td>    Andrew Stanton</td>\n",
        "      <td> 180000000</td>\n",
        "    </tr>\n",
        "  </tbody>\n",
        "</table>\n",
        "</div>"
       ],
       "metadata": {},
       "output_type": "pyout",
       "prompt_number": 68,
       "text": [
        "        Date                                              Title  Runtime  \\\n",
        "0 2008-07-18                                    The Dark Knight      150   \n",
        "1 2008-05-02                                           Iron Man      126   \n",
        "2 2008-05-22  Indiana Jones and the Kingdom of the Crystal S...      120   \n",
        "3 2008-07-02                                            Hancock       92   \n",
        "4 2008-06-27                                             WALL-E       97   \n",
        "\n",
        "  Rating  DomesticTotalGross           Director     Budget  \n",
        "0  PG-13           533345358  Christopher Nolan  185000000  \n",
        "1  PG-13           318412101        Jon Favreau  140000000  \n",
        "2  PG-13           317101119   Steven Spielberg  185000000  \n",
        "3  PG-13           227946274         Peter Berg  150000000  \n",
        "4      G           223808164     Andrew Stanton  180000000  "
       ]
      }
     ],
     "prompt_number": 68
    },
    {
     "cell_type": "code",
     "collapsed": false,
     "input": [
      "movies.groupby('Rating')['Title'].count().plot(kind='bar')"
     ],
     "language": "python",
     "metadata": {},
     "outputs": [
      {
       "metadata": {},
       "output_type": "pyout",
       "prompt_number": 20,
       "text": [
        "<matplotlib.axes.AxesSubplot at 0x11863ed10>"
       ]
      },
      {
       "metadata": {},
       "output_type": "display_data",
       "png": "[encoded data removed]",
       "text": [
        "<matplotlib.figure.Figure at 0x118452150>"
       ]
      }
     ],
     "prompt_number": 20
    },
    {
     "cell_type": "code",
     "collapsed": false,
     "input": [
      "X = movies[['Runtime','DomesticTotalGross','Budget']]\n",
      "Y = movies['Rating']\n",
      "\n",
      "for k in range(1,30):\n",
      "    model = KNeighborsClassifier(n_neighbors=k)\n",
      "    accuracy = np.mean(cross_val_score(model, X,Y, cv=10))\n",
      "    print 'KNN(k=%i) accuracy: %.3f' % (k,accuracy)"
     ],
     "language": "python",
     "metadata": {},
     "outputs": [
      {
       "output_type": "stream",
       "stream": "stdout",
       "text": [
        "KNN(k=1) accuracy: 0.388\n",
        "KNN(k=2) accuracy: 0.327\n",
        "KNN(k=3) accuracy: 0.373"
       ]
      },
      {
       "output_type": "stream",
       "stream": "stdout",
       "text": [
        "\n",
        "KNN(k=4) accuracy: 0.388\n",
        "KNN(k=5) accuracy: 0.393"
       ]
      },
      {
       "output_type": "stream",
       "stream": "stdout",
       "text": [
        "\n",
        "KNN(k=6) accuracy: 0.388\n",
        "KNN(k=7) accuracy: 0.420"
       ]
      },
      {
       "output_type": "stream",
       "stream": "stdout",
       "text": [
        "\n",
        "KNN(k=8) accuracy: 0.424\n",
        "KNN(k=9) accuracy: 0.408"
       ]
      },
      {
       "output_type": "stream",
       "stream": "stdout",
       "text": [
        "\n",
        "KNN(k=10) accuracy: 0.420\n",
        "KNN(k=11) accuracy: 0.423"
       ]
      },
      {
       "output_type": "stream",
       "stream": "stdout",
       "text": [
        "\n",
        "KNN(k=12) accuracy: 0.440\n",
        "KNN(k=13) accuracy: 0.428"
       ]
      },
      {
       "output_type": "stream",
       "stream": "stdout",
       "text": [
        "\n",
        "KNN(k=14) accuracy: 0.431\n",
        "KNN(k=15) accuracy: 0.443"
       ]
      },
      {
       "output_type": "stream",
       "stream": "stdout",
       "text": [
        "\n",
        "KNN(k=16) accuracy: 0.427\n",
        "KNN(k=17) accuracy: 0.434"
       ]
      },
      {
       "output_type": "stream",
       "stream": "stdout",
       "text": [
        "\n",
        "KNN(k=18) accuracy: 0.418\n",
        "KNN(k=19) accuracy: 0.420"
       ]
      },
      {
       "output_type": "stream",
       "stream": "stdout",
       "text": [
        "\n",
        "KNN(k=20) accuracy: 0.416\n",
        "KNN(k=21) accuracy: 0.426"
       ]
      },
      {
       "output_type": "stream",
       "stream": "stdout",
       "text": [
        "\n",
        "KNN(k=22) accuracy: 0.438\n",
        "KNN(k=23) accuracy: 0.422"
       ]
      },
      {
       "output_type": "stream",
       "stream": "stdout",
       "text": [
        "\n",
        "KNN(k=24) accuracy: 0.434\n",
        "KNN(k=25) accuracy: 0.436"
       ]
      },
      {
       "output_type": "stream",
       "stream": "stdout",
       "text": [
        "\n",
        "KNN(k=26) accuracy: 0.430\n",
        "KNN(k=27) accuracy: 0.429"
       ]
      },
      {
       "output_type": "stream",
       "stream": "stdout",
       "text": [
        "\n",
        "KNN(k=28) accuracy: 0.425\n",
        "KNN(k=29) accuracy: 0.432"
       ]
      },
      {
       "output_type": "stream",
       "stream": "stdout",
       "text": [
        "\n"
       ]
      }
     ],
     "prompt_number": 69
    },
    {
     "cell_type": "code",
     "collapsed": false,
     "input": [
      "model = LogisticRegression()\n",
      "accuracy = np.mean(cross_val_score(model, X,Y, cv=10))\n",
      "print 'Logistic Regression (L2 penalty) accuracy: %.3f' % accuracy\n",
      "\n",
      "# L1 and L2 are just two different forms of regularization. The form of\n",
      "# what is added to the cost funtion is slightly different. L2 is default,\n",
      "# Let's try L1 here, too. Different problems work better with different\n",
      "# penalty forms.\n",
      "model = LogisticRegression(penalty='l1')\n",
      "accuracy = np.mean(cross_val_score(model, X,Y, cv=10))\n",
      "print 'Logistic Regression (L1 penalty) accuracy: %.3f' % accuracy\n",
      "\n",
      "# Ok, let's also check different C values. C is just like alpha in Ridge Regression,\n",
      "# It let's us fine tune how much regularization (how much shrinking) we will do on\n",
      "# coeefficients. Default C is 1.0. Small C means more shrinking, tends to underfit,\n",
      "# Large C means less shrinking, tends to overfit.\n",
      "for C in np.linspace(0.05,100,10):\n",
      "    model = LogisticRegression(penalty='l1', C=C)\n",
      "    accuracy = np.mean(cross_val_score(model, X,Y, cv=10))\n",
      "    print 'Logistic Regression (L1 penalty, C=%.2f) accuracy: %.3f' % (C,accuracy)\n"
     ],
     "language": "python",
     "metadata": {},
     "outputs": [
      {
       "output_type": "stream",
       "stream": "stdout",
       "text": [
        "Logistic Regression (L2 penalty) accuracy: 0.478\n",
        "Logistic Regression (L1 penalty) accuracy: 0.528"
       ]
      },
      {
       "output_type": "stream",
       "stream": "stdout",
       "text": [
        "\n",
        "Logistic Regression (L1 penalty, C=0.05) accuracy: 0.503"
       ]
      },
      {
       "output_type": "stream",
       "stream": "stdout",
       "text": [
        "\n",
        "Logistic Regression (L1 penalty, C=11.16) accuracy: 0.530"
       ]
      },
      {
       "output_type": "stream",
       "stream": "stdout",
       "text": [
        "\n",
        "Logistic Regression (L1 penalty, C=22.26) accuracy: 0.532"
       ]
      },
      {
       "output_type": "stream",
       "stream": "stdout",
       "text": [
        "\n",
        "Logistic Regression (L1 penalty, C=33.37) accuracy: 0.532"
       ]
      },
      {
       "output_type": "stream",
       "stream": "stdout",
       "text": [
        "\n",
        "Logistic Regression (L1 penalty, C=44.47) accuracy: 0.528"
       ]
      },
      {
       "output_type": "stream",
       "stream": "stdout",
       "text": [
        "\n",
        "Logistic Regression (L1 penalty, C=55.58) accuracy: 0.530"
       ]
      },
      {
       "output_type": "stream",
       "stream": "stdout",
       "text": [
        "\n",
        "Logistic Regression (L1 penalty, C=66.68) accuracy: 0.532"
       ]
      },
      {
       "output_type": "stream",
       "stream": "stdout",
       "text": [
        "\n",
        "Logistic Regression (L1 penalty, C=77.79) accuracy: 0.530"
       ]
      },
      {
       "output_type": "stream",
       "stream": "stdout",
       "text": [
        "\n",
        "Logistic Regression (L1 penalty, C=88.89) accuracy: 0.528"
       ]
      },
      {
       "output_type": "stream",
       "stream": "stdout",
       "text": [
        "\n",
        "Logistic Regression (L1 penalty, C=100.00) accuracy: 0.530"
       ]
      },
      {
       "output_type": "stream",
       "stream": "stdout",
       "text": [
        "\n"
       ]
      }
     ],
     "prompt_number": 37
    },
    {
     "cell_type": "code",
     "collapsed": false,
     "input": [
      "def baseline_model(X, same_guess=\"PG-13\"):\n",
      "    \"\"\"guess the same for any input\"\"\"\n",
      "    pred = np.array([same_guess] * len(X))\n",
      "    return pred\n",
      "\n",
      "# We already showed how to make baseline predictions with a function like\n",
      "# this (baseline_model) on a test set and calculate \n",
      "# the test accuracy in a previous challange.\n",
      "#\n",
      "# Here I want to show how to use this with the cross_val_score function.\n",
      "# That function takes a model instance, like LogisticRegression()\n",
      "# Scikitlearn models all have a few methods that they are expected to have.\n",
      "# I will imitate a model class like that for my baseline model.\n",
      "#\n",
      "# You don't need to do that, you can do this just like we did in Challenge 5.\n",
      "# This is extra, showing how to use cross_val_score with a model class of your\n",
      "# own.\n",
      "#\n",
      "# I need to make a class that will behave exactly like a sklearn model\n",
      "# for this baseline predictor. All it needs is a fit method so you can run\n",
      "# baseline.fit(X,Y)\n",
      "# and also a predict method so you can run\n",
      "# baseline.predict(X)\n",
      "# It should also have a score method like this:\n",
      "# baseline.score(X,Y)\n",
      "# It should also have a get_params method:\n",
      "# baseline.get_params(deep=True)\n",
      "# These are the three functions that cross_val_score runs\n",
      "\n",
      "class Baseline(object):\n",
      "    \n",
      "    def __init__(self, guess):\n",
      "        self.guess = guess\n",
      "        \n",
      "    def fit(self, X, Y):\n",
      "        # Do nothing. This classifier\n",
      "        # doesn't really train on data,\n",
      "        # it will only guess the same thing!\n",
      "        pass\n",
      "    \n",
      "    def predict(self, X):\n",
      "        # create an array full of the exact same\n",
      "        # guess and return it!\n",
      "        pred = np.array([self.guess] * len(X))\n",
      "        return pred        \n",
      "    \n",
      "    def score(self, X,Y):\n",
      "        # Calculate the accuracy of your\n",
      "        # stupid predictions against the\n",
      "        # actual values\n",
      "        Y_pred = self.predict(X)\n",
      "        Y_true = Y\n",
      "        return accuracy_score(Y_true, Y_pred)\n",
      "    \n",
      "    def get_params(self, deep=False):\n",
      "        # Scikitlearn models return a dictionary\n",
      "        # of {parameter: value} with this function\n",
      "        # We only have one parameter, out guess.\n",
      "        # You don't even need to worry about the \n",
      "        # \"deep\" kw argument, we're not using it.\n",
      "        return {'guess': self.guess}\n",
      "    \n",
      "# Ok, now that our class has fit, predict, score and get_params\n",
      "# just as cross_val_score expects, we can run it!\n",
      "model = Baseline(guess=\"PG-13\")\n",
      "accuracy = np.mean(cross_val_score(model, X,Y, cv=10))\n",
      "print 'Baseline PG-13 guess accuracy: %.3f' % accuracy\n",
      "\n"
     ],
     "language": "python",
     "metadata": {},
     "outputs": [
      {
       "output_type": "stream",
       "stream": "stdout",
       "text": [
        "Baseline PG-13 guess accuracy: 0.467\n"
       ]
      }
     ],
     "prompt_number": 50
    },
    {
     "cell_type": "markdown",
     "metadata": {},
     "source": [
      "Well, looks like baseline accuracy is 0.467, but we can hit 0.532 with logistic regression, using budget, gross and runtime as . This means that these features DO carry information about the rating. KNN accuracy was 0.438, so it basically could NOT pass baseline accuracy. Sorry, KNN. You failed today. But trust me people, sometimes, in some problems, KNN outperforms the smartest, sleekest algorithms."
     ]
    },
    {
     "cell_type": "markdown",
     "metadata": {},
     "source": [
      "Let's check coefficients now."
     ]
    },
    {
     "cell_type": "code",
     "collapsed": false,
     "input": [
      "model = LogisticRegression(penalty='l1', C=22)\n",
      "model.fit(X, Y)\n",
      "\n",
      "model.coef_"
     ],
     "language": "python",
     "metadata": {},
     "outputs": [
      {
       "metadata": {},
       "output_type": "pyout",
       "prompt_number": 73,
       "text": [
        "array([[ -9.31589347e-02,   7.20963840e-09,   7.21185529e-09],\n",
        "       [ -7.62231992e-02,   1.57324252e-09,   1.55512123e-08],\n",
        "       [  2.23504399e-02,  -7.42325058e-10,   4.39736390e-09],\n",
        "       [  2.09316494e-02,  -2.32783130e-09,  -2.20097142e-08]])"
       ]
      }
     ],
     "prompt_number": 73
    },
    {
     "cell_type": "markdown",
     "metadata": {},
     "source": [
      "Wait, what, why are there 4 rows and three columns?\n",
      "Well. LogisticRegression.coef\\_ is an array of shape (n_classes, n_features)\n",
      "So, one row for each class (G,PG,PG-13,R), one column for each feature (runtime, gross, budget).\n",
      "\n",
      "Why does it have different coefficients for each class?\n",
      "Because as we saw in class, the model can distinguish only between two classes. So how will it distinguish between multiple classes?\n",
      "One vs All: For each class, it fits a separate logistic regression model with 2 labels each:  \n",
      "1)G vs 'not G'\n",
      "2)PG vs 'not PG'\n",
      "3)PG-13 vs 'not PG-13'\n",
      "4)R vs 'not R'\n",
      "\n",
      "If more than one reports positive (like, 1 says not G, 2 say PG, 3 says PG13, 4 says notR), the winner with the highest confidence level (actualy logistic regression output before the threshold cutoff) is chosen as the predicted class (like, if this example model we mentioned had reported a higher value for PG13 vs 'not PG13' than PG vs 'not PG', PG13 is chosen as prediction).\n",
      "\n",
      "See http://en.wikipedia.org/wiki/Multiclass_classification#One-vs.-rest"
     ]
    },
    {
     "cell_type": "code",
     "collapsed": false,
     "input": [
      "# print Y to find our which class comes first in the coef_\n",
      "print Y[:10]\n",
      "print model.coef_"
     ],
     "language": "python",
     "metadata": {},
     "outputs": [
      {
       "output_type": "stream",
       "stream": "stdout",
       "text": [
        "0    PG-13\n",
        "1    PG-13\n",
        "2    PG-13\n",
        "3    PG-13\n",
        "4        G\n",
        "5       PG\n",
        "6    PG-13\n",
        "7       PG\n",
        "8    PG-13\n",
        "9        G\n",
        "Name: Rating, dtype: object\n",
        "[[ -9.31589347e-02   7.20963840e-09   7.21185529e-09]\n",
        " [ -7.62231992e-02   1.57324252e-09   1.55512123e-08]\n",
        " [  2.23504399e-02  -7.42325058e-10   4.39736390e-09]\n",
        " [  2.09316494e-02  -2.32783130e-09  -2.20097142e-08]]\n"
       ]
      }
     ],
     "prompt_number": 74
    },
    {
     "cell_type": "markdown",
     "metadata": {},
     "source": [
      "Ok, so the 4 rows in coef\\_ correspond to, in order, PG-13, G, PG and R.\n",
      "The 3 columns are runtime, gross, budget.\n",
      "\n",
      "We can see that for PG-13, gross and budget both increase the confidence substantially.\n",
      "Budget also increases confidence for PG, but not as much as PG-13, and gross actually has a negative effect on PG confidence, so a huge budget is a sign that this is less likely to be PG.\n",
      "For R, both budget and gross have negative coefficients, we know those are smaller.\n",
      "G (which includes many animations) is also guessible from a high budget/high gross, but those increase confidence with less of a boost than they do for PG-13. Long runtimes seem to be lowering confidence in PG-13 or G, but slightly increasing it in PG and R."
     ]
    },
    {
     "cell_type": "markdown",
     "metadata": {},
     "source": [
      "### Challenge 12\n",
      "\n",
      "Now you are a classification master. The representative votes dataset only had 0s and 1s. Let's just swiftly tackle the breast cancer surgery data we talked about in class.\n",
      "\n",
      "What is the average and standard deviation of the age of all of the patients?  \n",
      "What is the average and standard deviation of the age of those patients that survived 5 or more years after surgery?  \n",
      "What is the average and standard deviation of the age of those patients who survived fewer than 5 years after surgery?  \n",
      "Plot a histogram of the ages side by side with a histogram of the number of axillary nodes.  \n",
      "What is the earliest year of surgery in this dataset?  \n",
      "What is the most recent year of surgery?  \n",
      "\n",
      "Use logistic regression to predict survival after 5 years. How well does your model do?   \n",
      "What are the coefficients of logistic regression? Which features affect the outcome how?  \n",
      "\n",
      "Draw the learning curve for logistic regression in this case.  \n",
      "\n"
     ]
    },
    {
     "cell_type": "code",
     "collapsed": false,
     "input": [
      "patients = pd.read_csv(\"haberman.data\", header=None)\n",
      "\n",
      "patients.columns=['age','year','nodes','survived']\n",
      "patients=patients.replace(2,0)\n",
      "patients.head()"
     ],
     "language": "python",
     "metadata": {},
     "outputs": [
      {
       "html": [
        "<div style=\"max-height:1000px;max-width:1500px;overflow:auto;\">\n",
        "<table border=\"1\" class=\"dataframe\">\n",
        "  <thead>\n",
        "    <tr style=\"text-align: right;\">\n",
        "      <th></th>\n",
        "      <th>age</th>\n",
        "      <th>year</th>\n",
        "      <th>nodes</th>\n",
        "      <th>survived</th>\n",
        "    </tr>\n",
        "  </thead>\n",
        "  <tbody>\n",
        "    <tr>\n",
        "      <th>0</th>\n",
        "      <td> 30</td>\n",
        "      <td> 64</td>\n",
        "      <td> 1</td>\n",
        "      <td> 1</td>\n",
        "    </tr>\n",
        "    <tr>\n",
        "      <th>1</th>\n",
        "      <td> 30</td>\n",
        "      <td> 62</td>\n",
        "      <td> 3</td>\n",
        "      <td> 1</td>\n",
        "    </tr>\n",
        "    <tr>\n",
        "      <th>2</th>\n",
        "      <td> 30</td>\n",
        "      <td> 65</td>\n",
        "      <td> 0</td>\n",
        "      <td> 1</td>\n",
        "    </tr>\n",
        "    <tr>\n",
        "      <th>3</th>\n",
        "      <td> 31</td>\n",
        "      <td> 59</td>\n",
        "      <td> 0</td>\n",
        "      <td> 1</td>\n",
        "    </tr>\n",
        "    <tr>\n",
        "      <th>4</th>\n",
        "      <td> 31</td>\n",
        "      <td> 65</td>\n",
        "      <td> 4</td>\n",
        "      <td> 1</td>\n",
        "    </tr>\n",
        "  </tbody>\n",
        "</table>\n",
        "</div>"
       ],
       "metadata": {},
       "output_type": "pyout",
       "prompt_number": 90,
       "text": [
        "   age  year  nodes  survived\n",
        "0   30    64      1         1\n",
        "1   30    62      3         1\n",
        "2   30    65      0         1\n",
        "3   31    59      0         1\n",
        "4   31    65      4         1"
       ]
      }
     ],
     "prompt_number": 90
    },
    {
     "cell_type": "code",
     "collapsed": false,
     "input": [
      "#average and standard deviation of the age of all of the patients?\n",
      "patients['age'].describe()"
     ],
     "language": "python",
     "metadata": {},
     "outputs": [
      {
       "metadata": {},
       "output_type": "pyout",
       "prompt_number": 91,
       "text": [
        "count    306.000000\n",
        "mean      52.457516\n",
        "std       10.803452\n",
        "min       30.000000\n",
        "25%       44.000000\n",
        "50%       52.000000\n",
        "75%       60.750000\n",
        "max       83.000000\n",
        "dtype: float64"
       ]
      }
     ],
     "prompt_number": 91
    },
    {
     "cell_type": "code",
     "collapsed": false,
     "input": [
      "#average and std of the age of those patients that survived 5 or more years after surgery?\n",
      "patients['age'][patients['survived']==1].describe()"
     ],
     "language": "python",
     "metadata": {},
     "outputs": [
      {
       "metadata": {},
       "output_type": "pyout",
       "prompt_number": 92,
       "text": [
        "count    225.000000\n",
        "mean      52.017778\n",
        "std       11.012154\n",
        "min       30.000000\n",
        "25%       43.000000\n",
        "50%       52.000000\n",
        "75%       60.000000\n",
        "max       77.000000\n",
        "dtype: float64"
       ]
      }
     ],
     "prompt_number": 92
    },
    {
     "cell_type": "code",
     "collapsed": false,
     "input": [
      "#average and std of the age of those patients who survived fewer than 5 years after surgery?\n",
      "patients['age'][patients['survived']==0].describe()"
     ],
     "language": "python",
     "metadata": {},
     "outputs": [
      {
       "metadata": {},
       "output_type": "pyout",
       "prompt_number": 94,
       "text": [
        "count    81.000000\n",
        "mean     53.679012\n",
        "std      10.167137\n",
        "min      34.000000\n",
        "25%      46.000000\n",
        "50%      53.000000\n",
        "75%      61.000000\n",
        "max      83.000000\n",
        "dtype: float64"
       ]
      }
     ],
     "prompt_number": 94
    },
    {
     "cell_type": "code",
     "collapsed": false,
     "input": [
      "#histogram of the ages side by side with a histogram of the number of axillary nodes\n",
      "plt.figure(figsize=(15,5))\n",
      "plt.subplot(121)\n",
      "patients['age'].hist(bins=13)\n",
      "plt.title('Ages')\n",
      "plt.subplot(122)\n",
      "patients['nodes'].hist(bins=13)\n",
      "plt.title('Number of positive nodes')"
     ],
     "language": "python",
     "metadata": {},
     "outputs": [
      {
       "metadata": {},
       "output_type": "pyout",
       "prompt_number": 131,
       "text": [
        "<matplotlib.text.Text at 0x11c3cf210>"
       ]
      },
      {
       "metadata": {},
       "output_type": "display_data",
       "png": "[encoded data removed]",
       "text": [
        "<matplotlib.figure.Figure at 0x11b691910>"
       ]
      }
     ],
     "prompt_number": 131
    },
    {
     "cell_type": "code",
     "collapsed": false,
     "input": [
      "#earliest year of surgery in this dataset?\n",
      "patients['year'].min()"
     ],
     "language": "python",
     "metadata": {},
     "outputs": [
      {
       "metadata": {},
       "output_type": "pyout",
       "prompt_number": 110,
       "text": [
        "58"
       ]
      }
     ],
     "prompt_number": 110
    },
    {
     "cell_type": "code",
     "collapsed": false,
     "input": [
      "#the most recent year of surgery?\n",
      "patients['year'].max()"
     ],
     "language": "python",
     "metadata": {},
     "outputs": [
      {
       "metadata": {},
       "output_type": "pyout",
       "prompt_number": 111,
       "text": [
        "69"
       ]
      }
     ],
     "prompt_number": 111
    },
    {
     "cell_type": "code",
     "collapsed": false,
     "input": [
      "#Use logistic regression to predict survival after 5 years. How well does your model do?\n",
      "X = patients[['age','year','nodes']]\n",
      "Y = patients['survived']\n",
      "model = LogisticRegression()\n",
      "accuracy = np.mean(cross_val_score(model, X,Y, cv=10))\n",
      "print 'Logistic Regression accuracy: %.3f' % accuracy"
     ],
     "language": "python",
     "metadata": {},
     "outputs": [
      {
       "output_type": "stream",
       "stream": "stdout",
       "text": [
        "Logistic Regression accuracy: 0.752\n"
       ]
      }
     ],
     "prompt_number": 120
    },
    {
     "cell_type": "code",
     "collapsed": false,
     "input": [
      "#What are the coefficients of logistic regression? Which features affect the outcome how?\n",
      "model.fit(X,Y).coef_"
     ],
     "language": "python",
     "metadata": {},
     "outputs": [
      {
       "metadata": {},
       "output_type": "pyout",
       "prompt_number": 121,
       "text": [
        "array([[-0.01854801,  0.03455384, -0.08687346]])"
       ]
      }
     ],
     "prompt_number": 121
    },
    {
     "cell_type": "markdown",
     "metadata": {},
     "source": [
      "Age coefficient is negative. Being older decreases the chance of survival.\n",
      "Year coeff. is positive (technology develops, makes sense). With each additional year, chances of survival increase. This effect is about twice as strong as the age effect. (Every year you age one year but technology advances, too, and the overall effect is positive!)\n",
      "Positive lyph nodes coeff. is understandably negative, and is the most powerful predictor among the others. More cancerous nodes means lower chance of survival."
     ]
    },
    {
     "cell_type": "code",
     "collapsed": false,
     "input": [
      "#Draw the learning curve for logistic regression in this case.\n",
      "m,train_err,ts_err = learning_curve(LogisticRegression(),X,Y,\n",
      "                                    train_sizes=np.linspace(0.4, 1.0, 50))\n",
      "\n",
      "train_cv_err = np.mean(train_err,axis=1)\n",
      "test_cv_err = np.mean(ts_err,axis=1)\n",
      "\n",
      "tr, =plt.plot(m,train_cv_err)\n",
      "ts, = plt.plot(m,test_cv_err)\n",
      "plt.legend((tr,ts),('training','test'),loc='best')\n",
      "plt.title('Learning Curve for Survival 5 yr After Surgery')"
     ],
     "language": "python",
     "metadata": {},
     "outputs": [
      {
       "metadata": {},
       "output_type": "pyout",
       "prompt_number": 129,
       "text": [
        "<matplotlib.text.Text at 0x11be511d0>"
       ]
      },
      {
       "metadata": {},
       "output_type": "display_data",
       "png": "[encoded data removed]",
       "text": [
        "<matplotlib.figure.Figure at 0x11bbb4a50>"
       ]
      }
     ],
     "prompt_number": 129
    }
   ],
   "metadata": {}
  }
 ]
}