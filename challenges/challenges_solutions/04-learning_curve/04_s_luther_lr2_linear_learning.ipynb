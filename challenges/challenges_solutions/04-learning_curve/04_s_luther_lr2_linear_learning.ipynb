{
 "cells": [
  {
   "cell_type": "markdown",
   "metadata": {},
   "source": [
    "### Challenge Set 4:  Linear Regression and Learning\n",
    "\n",
    "#### Date Updated:  11/01/15\n",
    "\n",
    "#### Data Used:  Simulate data"
   ]
  },
  {
   "cell_type": "markdown",
   "metadata": {},
   "source": [
    "---"
   ]
  },
  {
   "cell_type": "markdown",
   "metadata": {},
   "source": [
    "### Table of Contents\n",
    "\n",
    "[Challenge01](#1) \n",
    "\n",
    "\n",
    "[Challenge02](#2) \n",
    " \n",
    "\n",
    "[Challenge03](#3) \n",
    " \n",
    " \n",
    "[Challenge04](#4) \n",
    "\n",
    "\n"
   ]
  },
  {
   "cell_type": "markdown",
   "metadata": {},
   "source": [
    "----"
   ]
  },
  {
   "cell_type": "code",
   "execution_count": 1,
   "metadata": {
    "collapsed": false
   },
   "outputs": [
    {
     "name": "stdout",
     "output_type": "stream",
     "text": [
      "Populating the interactive namespace from numpy and matplotlib\n"
     ]
    }
   ],
   "source": [
    "% pylab inline\n",
    "\n",
    "import pandas as pd\n",
    "import numpy as np\n",
    "from datetime import datetime\n",
    "import statsmodels.formula.api as sm\n",
    "from sklearn.metrics import mean_squared_error\n",
    "from random import gauss"
   ]
  },
  {
   "cell_type": "markdown",
   "metadata": {},
   "source": [
    " ### <a id='1'></a> Challenge 1"
   ]
  },
  {
   "cell_type": "markdown",
   "metadata": {},
   "source": [
    "Generate (fake) data that is linearly related to $log(x)$\n",
    "\n",
    "You are making this model up (you're making up the parameters.) \n",
    "\n",
    "It is of the form:  $\\beta_0 + \\beta_1 + log(x) + \\epsilon $\n",
    "\n",
    "\n",
    "Simulate some data from this model.\n",
    "\n",
    "Then fit two models to it:\n",
    " 1. quadratic (second degree polynomial)\n",
    " 2. logarithmic:  $log(x)$\n",
    "\n",
    "(The second one should fit really well, since it has the same form as the underlying model!)"
   ]
  },
  {
   "cell_type": "code",
   "execution_count": 2,
   "metadata": {
    "collapsed": true
   },
   "outputs": [],
   "source": [
    "# Simulate data\n",
    "import random\n",
    "def simulate_gross(budget_array):\n",
    "    epsilon_array = [random.gauss(0, residual_stdev) for x in budget_array]\n",
    "    sim_gross_array = beta_0 + beta_1 * budget_array + epsilon_array\n",
    "    return sim_gross_array"
   ]
  },
  {
   "cell_type": "code",
   "execution_count": 3,
   "metadata": {
    "collapsed": false
   },
   "outputs": [
    {
     "name": "stdout",
     "output_type": "stream",
     "text": [
      "X:   [  10.           60.20100503  110.40201005  160.60301508  210.8040201 ]\n"
     ]
    },
    {
     "data": {
      "text/plain": [
       "<matplotlib.text.Text at 0x108d21110>"
      ]
     },
     "execution_count": 3,
     "metadata": {},
     "output_type": "execute_result"
    },
    {
     "data": {
      "image/png": "[encoded data removed]",
      "text/plain": [
       "<matplotlib.figure.Figure at 0x108c81a50>"
      ]
     },
     "metadata": {},
     "output_type": "display_data"
    }
   ],
   "source": [
    "# A function to simulate Y values for given X values\n",
    "# It simulates them according to the model\n",
    "# beta_0 + beta_1 log(X) + epsilon\n",
    "# The beta coefficients and the size of noise is up to you\n",
    "def simulate_logx_model(x_array, beta_0, beta_1, noise_std):\n",
    "    epsilon_array = [random.gauss(0, noise_std) for x in x_array]\n",
    "    y_array = beta_0 + beta_1 * np.log(x_array) + epsilon_array\n",
    "    return y_array\n",
    "\n",
    "\n",
    "# Create fake data (200 points)\n",
    "# I choose the beta 0, beta 1 and noise std values as\n",
    "# 500, 5 and 3, you can play around with these\n",
    "# It is your fake data :)\n",
    "\n",
    "# Example:  numpy.linspace(start, stop, num=50, endpoint=True, retstep=False, dtype=None)[source]\n",
    "# Returns num evenly spaced samples, calculated over the interval [start, stop].\n",
    "# 1e4 = 10,000\n",
    "\n",
    "X = np.linspace(10, 1e4, num = 200)\n",
    "print \"X:  \", X[:5]\n",
    "Y = simulate_logx_model(X, beta_0=500, beta_1=5, noise_std=3)\n",
    "\n",
    "# Start a figure with 1x3 subplots\n",
    "plt.figure(figsize=(15,5))\n",
    "\n",
    "# Plot fake data\n",
    "plt.scatter(X,Y)\n",
    "plt.title('Function:  Y = 500 + 5*log(X)')\n",
    "plt.xlabel('X')\n",
    "plt.ylabel('Y')\n",
    "\n"
   ]
  },
  {
   "cell_type": "markdown",
   "metadata": {},
   "source": [
    "#### Fit and plot quadratic model"
   ]
  },
  {
   "cell_type": "code",
   "execution_count": 4,
   "metadata": {
    "collapsed": false
   },
   "outputs": [
    {
     "name": "stdout",
     "output_type": "stream",
     "text": [
      "(200, 3)\n",
      "\n",
      "[[   100.      10.       1. ]\n",
      " [  3624.2     60.2      1. ]\n",
      " [ 12188.6    110.4      1. ]\n",
      " [ 25793.3    160.6      1. ]\n",
      " [ 44438.3    210.8      1. ]]\n"
     ]
    }
   ],
   "source": [
    "from pprint import pprint \n",
    "\n",
    "np.set_printoptions(precision=3)\n",
    "\n",
    "# Fit and plot quadratic model\n",
    "# ---first create an input matrix with X^2, X and Ones features\n",
    "Xsq = X**2\n",
    "Ones = np.ones(200)\n",
    "X_input = np.column_stack((Xsq, X, Ones))\n",
    "# ---now fit\n",
    "\n",
    "print X_input.shape\n",
    "print \n",
    "print np.array_str(X_input[:5], precision=1, suppress_small=True)\n",
    "\n",
    "quad_model = sm.OLS(Y,X_input).fit()"
   ]
  },
  {
   "cell_type": "code",
   "execution_count": 5,
   "metadata": {
    "collapsed": false
   },
   "outputs": [
    {
     "data": {
      "text/plain": [
       "<matplotlib.text.Text at 0x10919d4d0>"
      ]
     },
     "execution_count": 5,
     "metadata": {},
     "output_type": "execute_result"
    },
    {
     "data": {
      "image/png": "[encoded data removed]",
      "text/plain": [
       "<matplotlib.figure.Figure at 0x103cac750>"
      ]
     },
     "metadata": {},
     "output_type": "display_data"
    }
   ],
   "source": [
    "#---plot\n",
    "\n",
    "\n",
    "plt.subplot(121)\n",
    "plt.scatter(X,Y)\n",
    "plt.plot(X, quad_model.predict(X_input), 'r-', linewidth=5)\n",
    "plt.title(\"Quadratic Model\")\n",
    "\n",
    "# Fit and plot log x model\n",
    "# ---input matrix with logX and Ones features\n",
    "logX = np.log(X)\n",
    "Ones = np.ones(200)\n",
    "X_input = np.column_stack((logX,Ones))\n",
    "# ---fit\n",
    "logx_model = sm.OLS(Y,X_input).fit()\n",
    "#---plot\n",
    "plt.subplot(122)\n",
    "plt.scatter(X,Y)\n",
    "plt.plot(X,logx_model.predict(X_input), 'g-', linewidth=5)\n",
    "plt.title(\"Logarithmic Model\")"
   ]
  },
  {
   "cell_type": "markdown",
   "metadata": {},
   "source": [
    "### <a id='2'></a> Challenge 2"
   ]
  },
  {
   "cell_type": "markdown",
   "metadata": {},
   "source": [
    "Generate (fake) data from a model of the form: *$\\beta_0 + \\beta_1X + \\beta_2X^2 + \\epsilon$ *\n",
    "\n",
    "(You are making up the parameters.)\n",
    "\n",
    "Split the data into a training and test set.\n",
    "\n",
    "Fit a model to your training set. Calculate mean squared error on your training set. Then calculate it on your test set.\n",
    "\n",
    "(You could use sklearn.metrics.mean_squared_error.)"
   ]
  },
  {
   "cell_type": "code",
   "execution_count": 6,
   "metadata": {
    "collapsed": false
   },
   "outputs": [
    {
     "name": "stdout",
     "output_type": "stream",
     "text": [
      "Training Error:\t70170.3705818\n",
      "Testing Error:\t74301.8183374\n"
     ]
    }
   ],
   "source": [
    "from sklearn import cross_validation\n",
    "\n",
    "X = np.linspace(10,1e4, num = 200)\n",
    "Y = simulate_logx_model(X, beta_0=500, beta_1=5, noise_std=3)\n",
    "\n",
    "# Split data in test and train datasets:  \n",
    "xtrain, xtest, ytrain, ytest = cross_validation.train_test_split(X, Y, test_size=0.30, random_state=4444)\n",
    "\n",
    "# fit the model to the training set\n",
    "model = sm.OLS(ytrain, xtrain).fit()\n",
    "\n",
    "# measure training error: \n",
    "Y_train_pred = model.predict(xtrain)\n",
    "train_err = mean_squared_error(ytrain,Y_train_pred)\n",
    "print 'Training Error:\\t',train_err\n",
    "\n",
    "# measure MSE testing error:\n",
    "Y_test_pred = model.predict(xtest)\n",
    "test_err = mean_squared_error(ytest, Y_test_pred)\n",
    "print 'Testing Error:\\t',test_err"
   ]
  },
  {
   "cell_type": "markdown",
   "metadata": {},
   "source": [
    "### <a id='3'></a> Challenge 3"
   ]
  },
  {
   "cell_type": "markdown",
   "metadata": {},
   "source": [
    "For the data from Challenge 2, try polynomial fits from 0th (just constant) to 7th order (highest term $X^7$). Over the x axis of model degree (8 points), plot:\n",
    "\n",
    "training error\n",
    "test error\n",
    "R squared\n",
    "AIC"
   ]
  },
  {
   "cell_type": "code",
   "execution_count": 7,
   "metadata": {
    "collapsed": false
   },
   "outputs": [],
   "source": [
    "from sklearn.linear_model import LinearRegression\n",
    "from sklearn.metrics import mean_squared_error, r2_score"
   ]
  },
  {
   "cell_type": "code",
   "execution_count": 8,
   "metadata": {
    "collapsed": false
   },
   "outputs": [
    {
     "data": {
      "text/html": [
       "<div>\n",
       "<table border=\"1\" class=\"dataframe\">\n",
       "  <thead>\n",
       "    <tr style=\"text-align: right;\">\n",
       "      <th></th>\n",
       "      <th>X^1</th>\n",
       "      <th>X^0</th>\n",
       "      <th>X^2</th>\n",
       "      <th>X^3</th>\n",
       "    </tr>\n",
       "  </thead>\n",
       "  <tbody>\n",
       "    <tr>\n",
       "      <th>0</th>\n",
       "      <td>10.000000</td>\n",
       "      <td>1</td>\n",
       "      <td>100.000000</td>\n",
       "      <td>1000.000000</td>\n",
       "    </tr>\n",
       "    <tr>\n",
       "      <th>1</th>\n",
       "      <td>60.201005</td>\n",
       "      <td>1</td>\n",
       "      <td>3624.161006</td>\n",
       "      <td>218178.134936</td>\n",
       "    </tr>\n",
       "    <tr>\n",
       "      <th>2</th>\n",
       "      <td>110.402010</td>\n",
       "      <td>1</td>\n",
       "      <td>12188.603823</td>\n",
       "      <td>1345646.361780</td>\n",
       "    </tr>\n",
       "    <tr>\n",
       "      <th>3</th>\n",
       "      <td>160.603015</td>\n",
       "      <td>1</td>\n",
       "      <td>25793.328451</td>\n",
       "      <td>4142486.318109</td>\n",
       "    </tr>\n",
       "    <tr>\n",
       "      <th>4</th>\n",
       "      <td>210.804020</td>\n",
       "      <td>1</td>\n",
       "      <td>44438.334891</td>\n",
       "      <td>9367779.641497</td>\n",
       "    </tr>\n",
       "  </tbody>\n",
       "</table>\n",
       "</div>"
      ],
      "text/plain": [
       "          X^1  X^0           X^2             X^3\n",
       "0   10.000000    1    100.000000     1000.000000\n",
       "1   60.201005    1   3624.161006   218178.134936\n",
       "2  110.402010    1  12188.603823  1345646.361780\n",
       "3  160.603015    1  25793.328451  4142486.318109\n",
       "4  210.804020    1  44438.334891  9367779.641497"
      ]
     },
     "execution_count": 8,
     "metadata": {},
     "output_type": "execute_result"
    }
   ],
   "source": [
    "\n",
    "## Make a function to create an input matrix with the poly deg. of X\n",
    "# with vectors X,, X**2.. \n",
    "\n",
    "X = np.linspace(10,1e4, num = 200)\n",
    "Y = simulate_logx_model(X, beta_0=500, beta_1=5, noise_std=3)\n",
    "\n",
    "\n",
    "def gen_exp_df(X,deg):\n",
    "    df=pd.DataFrame()\n",
    "    df['X^1']=X\n",
    "    df['X^0']=1\n",
    "    if deg >=2:\n",
    "        for i in range(2,deg+1):\n",
    "            new_Series=(X)**i\n",
    "            df['X^'+str(i)]=new_Series\n",
    "    return df\n",
    "\n",
    "# testing.. \n",
    "df = gen_exp_df(X,3)\n",
    "df.head()"
   ]
  },
  {
   "cell_type": "code",
   "execution_count": 9,
   "metadata": {
    "collapsed": false
   },
   "outputs": [
    {
     "name": "stdout",
     "output_type": "stream",
     "text": [
      "[  7.831e-03  -8.254e-11  -1.151e-06   5.940e-11]\n"
     ]
    }
   ],
   "source": [
    "# Another function to fit a polynomial model for a \n",
    "# given X\n",
    "\n",
    "def fit_poly_model(X,Y,deg):\n",
    "    poly_input = gen_exp_df(X,deg)\n",
    "    poly_model = LinearRegression()\n",
    "    poly_model.fit(poly_input,Y)\n",
    "    return poly_model\n",
    "\n",
    "print fit_poly_model(X,Y,3).coef_"
   ]
  },
  {
   "cell_type": "code",
   "execution_count": 10,
   "metadata": {
    "collapsed": false
   },
   "outputs": [
    {
     "name": "stdout",
     "output_type": "stream",
     "text": [
      "150\n"
     ]
    }
   ],
   "source": [
    "# Set Y into DF, so that we can index\n",
    "DF=pd.DataFrame()\n",
    "DF['Y']=Y\n",
    "\n",
    "test_length=int(len(DF)*.25)\n",
    "\n",
    "\n",
    "# split X & Y into testing / training sets\n",
    "random.seed(4444)\n",
    "test_rows=random.sample(DF.index,test_length)\n",
    "X_test=df.ix[test_rows]\n",
    "Y_test=DF.ix[test_rows]\n",
    "X_train=df.drop(test_rows)\n",
    "Y_train=DF.drop(test_rows)\n",
    "\n",
    "print len(X_train)"
   ]
  },
  {
   "cell_type": "code",
   "execution_count": 11,
   "metadata": {
    "collapsed": false
   },
   "outputs": [
    {
     "name": "stdout",
     "output_type": "stream",
     "text": [
      "[Degree 0]   Training err: 17.4704   Testing err: 11.188\n",
      "[Degree 1]   Training err: 17.4704   Testing err: 11.188\n",
      "[Degree 2]   Training err: 12.302   Testing err: 11.5668\n",
      "[Degree 3]   Training err: 11.5862   Testing err: 8.55339\n",
      "[Degree 4]   Training err: 10.7399   Testing err: 9.17382\n",
      "[Degree 5]   Training err: 12.277   Testing err: 10.3606\n",
      "[Degree 6]   Training err: 14.4214   Testing err: 12.1287\n",
      "[Degree 7]   Training err: 16.8551   Testing err: 13.7959\n"
     ]
    },
    {
     "data": {
      "text/plain": [
       "<matplotlib.text.Text at 0x1096d4dd0>"
      ]
     },
     "execution_count": 11,
     "metadata": {},
     "output_type": "execute_result"
    },
    {
     "data": {
      "image/png": "[encoded data removed]",
      "text/plain": [
       "<matplotlib.figure.Figure at 0x105346dd0>"
      ]
     },
     "metadata": {},
     "output_type": "display_data"
    }
   ],
   "source": [
    "#For each degree from 1 to 7, fit a polynomial and record the test and training errors\n",
    "degrees = []\n",
    "training_errors = []\n",
    "test_errors = []\n",
    "r2s = []\n",
    "aics=[]\n",
    "\n",
    "\n",
    "for degree in range(0,8):\n",
    "    poly_model=fit_poly_model(X,Y,degree)\n",
    "    \n",
    "    \n",
    "    # get our X_df: \n",
    "    df=pd.DataFrame()\n",
    "    df=gen_exp_df(X,degree)\n",
    "    \n",
    "    # get our Y_DF:\n",
    "    DF=pd.DataFrame()\n",
    "    DF['Y']=Y\n",
    "    \n",
    "    # get our training  /test\n",
    "    random.seed(4444)\n",
    "    test_rows=random.sample(DF.index,test_length)\n",
    "    X_test=df.ix[test_rows]\n",
    "    Y_test=DF.ix[test_rows]\n",
    "    X_train=df.drop(test_rows)\n",
    "    Y_train=DF.drop(test_rows)\n",
    "    \n",
    "    # training_error\n",
    "    X_train_input=gen_exp_df(X_train['X^1'],degree)\n",
    "    Y_train_pred=poly_model.predict(X_train_input)\n",
    "    train_err=mean_squared_error(Y_train,Y_train_pred)\n",
    "    training_errors.append(train_err)\n",
    "    \n",
    "    # testing error\n",
    "    X_test_input=gen_exp_df(X_test['X^1'],degree)\n",
    "    Y_test_pred=poly_model.predict(X_test_input)\n",
    "    test_err=mean_squared_error(Y_test,Y_test_pred)\n",
    "    test_errors.append(test_err)\n",
    "    \n",
    "    #R squared\n",
    "    r_squared=r2_score(Y_train,Y_train_pred)\n",
    "    r2s.append(r_squared)\n",
    "    \n",
    "    #AIC:\n",
    "    aic=sm.OLS(Y_train,X_train_input).fit().aic\n",
    "    aics.append(aic)\n",
    "    \n",
    "    print '[Degree %i]   Training err: %g   Testing err: %g'  %(degree, train_err, test_err)\n",
    "    degrees.append(degree)\n",
    "# Plot Errors\n",
    "plt.figure(figsize=(9,15))\n",
    "plt.subplot(311)\n",
    "tr, = plt.plot(degrees, training_errors, color='red')\n",
    "te, = plt.plot(degrees, test_errors, color='green')\n",
    "plt.legend((tr,te), ('Training error', 'Test Error'), loc='upper right')\n",
    "plt.title(\"Errors\")\n",
    "plt.xlabel(\"model degree\")\n",
    "\n",
    "# Plot R^2\n",
    "plt.subplot(312)\n",
    "plt.plot(degrees, r2s, 'b-')\n",
    "plt.title(\"R squared\")\n",
    "plt.xlabel(\"model degree\")\n",
    "\n",
    "# Plot AIC\n",
    "plt.subplot(313)\n",
    "plt.plot(degrees, aics, 'm-')\n",
    "plt.title(\"AIC\")\n",
    "plt.xlabel(\"model degree\")"
   ]
  },
  {
   "cell_type": "markdown",
   "metadata": {},
   "source": [
    "### <a id='4'></a> Challenge 4"
   ]
  },
  {
   "cell_type": "markdown",
   "metadata": {
    "collapsed": false
   },
   "source": [
    "For the data from two (above), fit a model to only the first 5 of your data points (m=5). Then to first 10 (m=10). Then to first 15 (m=15). In this manner, keep fitting until you fit your entire training set. For each step, calculate the training error and the test error. \n",
    "Plot both (in the same plot) over m. This is called a learning curve."
   ]
  },
  {
   "cell_type": "code",
   "execution_count": 12,
   "metadata": {
    "collapsed": true
   },
   "outputs": [],
   "source": [
    "# DF : just X's and ones.. \n",
    "df=pd.DataFrame()\n",
    "df['X']=X\n",
    "df['Ones']=1\n",
    "df['Y']=Y"
   ]
  },
  {
   "cell_type": "code",
   "execution_count": 13,
   "metadata": {
    "collapsed": true
   },
   "outputs": [],
   "source": [
    "def fit_poly_model(X,Y,deg):\n",
    "    poly_input = gen_exp_df(X,deg)\n",
    "    poly_model = LinearRegression()\n",
    "    poly_model.fit(poly_input,Y)\n",
    "    return poly_model"
   ]
  },
  {
   "cell_type": "code",
   "execution_count": 14,
   "metadata": {
    "collapsed": false
   },
   "outputs": [],
   "source": [
    "def model(X,Y):\n",
    "    poly_model = LinearRegression()\n",
    "    poly_model.fit(X,Y)\n",
    "    return poly_model\n",
    "\n",
    "\n",
    "m_s = []\n",
    "train_errs = []\n",
    "test_errs = []\n",
    "\n",
    "# 20 iterations. . \n",
    "stages=20\n",
    "\n",
    "# get our training  /test\n",
    "random.seed(4444)\n",
    "test_rows = random.sample(df.index,test_length)\n",
    "X_test = df[['X','Ones']].ix[test_rows]\n",
    "Y_test = df[['Y']].ix[test_rows]\n",
    "\n",
    "X_train = df[['X','Ones']].drop(test_rows)\n",
    "Y_train = df[['Y']].drop(test_rows)\n",
    "\n",
    "\n",
    "for i in range(1,stages):\n",
    "    m=(i*10)\n",
    "    this_df=df[:m]\n",
    "    lin_model=model(this_df[['Ones','X']],this_df.Y)\n",
    "    \n",
    "    # Training err\n",
    "    Predict_Y=lin_model.predict(X_train)\n",
    "    train_err=mean_squared_error(Y_train,Predict_Y)\n",
    "    train_errs.append(train_err)\n",
    "    \n",
    "    \n",
    "    # Testing err\n",
    "    Predict_Y_test=lin_model.predict(X_test)\n",
    "    test_err=mean_squared_error(Y_test,Predict_Y_test)\n",
    "    test_errs.append(test_err)\n",
    "    \n",
    "    m_s.append(m)\n",
    "    "
   ]
  },
  {
   "cell_type": "code",
   "execution_count": 16,
   "metadata": {
    "collapsed": false
   },
   "outputs": [
    {
     "data": {
      "text/plain": [
       "<matplotlib.text.Text at 0x109c18950>"
      ]
     },
     "execution_count": 16,
     "metadata": {},
     "output_type": "execute_result"
    },
    {
     "data": {
      "image/png": "[encoded data removed]",
      "text/plain": [
       "<matplotlib.figure.Figure at 0x109e66fd0>"
      ]
     },
     "metadata": {},
     "output_type": "display_data"
    }
   ],
   "source": [
    "# Plot full learning curve (~200 points)\n",
    "\n",
    "\n",
    "plt.figure(figsize=(18,5))\n",
    "plt.subplot(121)\n",
    "tr, = plt.plot(m_s, train_errs, color='red')\n",
    "te, = plt.plot(m_s, test_errs, color='green')\n",
    "plt.legend((tr,te), ('Training error', 'Test Error'), loc='upper right')\n",
    "plt.title(\"Learning curve\")\n",
    "plt.xlabel(\"Number of data points\")\n",
    "plt.ylabel(\"Error\")\n",
    "\n",
    "\n",
    "    "
   ]
  }
 ],
 "metadata": {
  "kernelspec": {
   "display_name": "Python 2",
   "language": "python",
   "name": "python2"
  },
  "language_info": {
   "codemirror_mode": {
    "name": "ipython",
    "version": 2
   },
   "file_extension": ".py",
   "mimetype": "text/x-python",
   "name": "python",
   "nbconvert_exporter": "python",
   "pygments_lexer": "ipython2",
   "version": "2.7.11"
  }
 },
 "nbformat": 4,
 "nbformat_minor": 0
}
