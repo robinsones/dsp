{
 "cells": [
  {
   "cell_type": "markdown",
   "metadata": {},
   "source": [
    "## McNulty - Error Analysis Challenges"
   ]
  },
  {
   "cell_type": "markdown",
   "metadata": {},
   "source": [
    "We will go back to the original Supervised Learning Challenges.\n",
    "\n",
    "By:       Reshama\n",
    "\n",
    "Updated:  8/19/15\n",
    "\n",
    "**Settings:  Where applicable, use test_size=0.30, random_state=4444.  This will permit comparison of results across users.**"
   ]
  },
  {
   "cell_type": "markdown",
   "metadata": {},
   "source": [
    "##Table of Contents \n",
    "[Challenge01](#1) \n",
    "\n",
    "For the house representatives data set, calculate the accuracy, precision, recall and f1 scores of each classifier you built (on the test set).\n",
    "\n",
    "[Challenge02](#2)\n",
    "\n",
    "For each, draw the ROC curve and calculate the AUC.\n",
    "\n",
    "[Challenge03](#3)\n",
    "\n",
    "Calculate the same metrics you did in challenge 1, but this time in a cross validation scheme with the cross_val_score function (like in Challenge 9)\n",
    "\n",
    "[Challenge04](#4)\n",
    "\n",
    "For your movie classifiers, calculate the precision and recall for each class.\n",
    "\n",
    "[Challenge05](#5)\n",
    "\n",
    "Draw the ROC curve (and calculate AUC) for the logistic regression classifier from challenge 12"
   ]
  },
  {
   "cell_type": "markdown",
   "metadata": {},
   "source": [
    "### <a id='1'></a> Challenge 1"
   ]
  },
  {
   "cell_type": "markdown",
   "metadata": {},
   "source": [
    "####Data:  house-votes-84.data\n",
    "\n",
    "https://archive.ics.uci.edu/ml/machine-learning-databases/voting-records/house-votes-84.data\n",
    "\n",
    "For the house representatives data set, calculate the accuracy, precision, recall and f1 scores of each classifier you built (on the test set)."
   ]
  },
  {
   "cell_type": "markdown",
   "metadata": {},
   "source": [
    "### Accuracy / Precision / Recall / F1"
   ]
  },
  {
   "cell_type": "code",
   "execution_count": 6,
   "metadata": {
    "collapsed": false
   },
   "outputs": [
    {
     "data": {
      "text/html": [
       "<img src=\"precision_recall.png\" width=400 height=200/>"
      ],
      "text/plain": [
       "<IPython.core.display.HTML object>"
      ]
     },
     "execution_count": 6,
     "metadata": {},
     "output_type": "execute_result"
    }
   ],
   "source": [
    "from IPython.core.display import HTML \n",
    "HTML('<img src=\"precision_recall.png\" width=400 height=200/>') "
   ]
  },
  {
   "cell_type": "markdown",
   "metadata": {},
   "source": [
    "###Accuracy\n",
    "\n",
    "Percent of correctly predicted (1 to 1 and 0 to 0)\n",
    "Assumes equal cost for either type of error.\n",
    "\n",
    "$Accuracy = \\frac{\\ (a \\ + \\ d)}{(a \\ + \\ b \\ + \\ c \\ + \\ d)}$\n",
    "\n",
    "\n",
    "\n",
    "###Precision\n",
    "\n",
    "How many of the returned documents are correct\n",
    "\n",
    "$Precision = \\frac{a}{(a \\ +  \\ c)}$\n",
    "\n",
    "###Recall\n",
    "\n",
    "How many of the positives does the model return\n",
    "\n",
    "$Recall = \\frac{a}{(a \\ + b)}$\n",
    "\n",
    "\n",
    "\n",
    "###F1\n",
    "\n",
    "Harmonic average of precision and recall\n",
    "\n",
    "\n",
    "$F1 = \\frac{\\ 2\\ *\\ (Precision \\ x \\ Recall)}{(Precision \\ + \\ Recall)}$\n",
    "\n",
    "\n"
   ]
  },
  {
   "cell_type": "code",
   "execution_count": 7,
   "metadata": {
    "collapsed": true
   },
   "outputs": [],
   "source": [
    "%matplotlib inline\n",
    "import pandas as pd\n",
    "import numpy as np\n",
    "from datetime import datetime\n",
    "import matplotlib.pyplot as plt\n"
   ]
  },
  {
   "cell_type": "code",
   "execution_count": 8,
   "metadata": {
    "collapsed": false
   },
   "outputs": [
    {
     "data": {
      "text/html": [
       "<div style=\"max-height:1000px;max-width:1500px;overflow:auto;\">\n",
       "<table border=\"1\" class=\"dataframe\">\n",
       "  <thead>\n",
       "    <tr style=\"text-align: right;\">\n",
       "      <th></th>\n",
       "      <th>0</th>\n",
       "      <th>1</th>\n",
       "      <th>2</th>\n",
       "      <th>3</th>\n",
       "      <th>4</th>\n",
       "      <th>5</th>\n",
       "      <th>6</th>\n",
       "      <th>7</th>\n",
       "      <th>8</th>\n",
       "      <th>9</th>\n",
       "      <th>10</th>\n",
       "      <th>11</th>\n",
       "      <th>12</th>\n",
       "      <th>13</th>\n",
       "      <th>14</th>\n",
       "      <th>15</th>\n",
       "      <th>16</th>\n",
       "    </tr>\n",
       "  </thead>\n",
       "  <tbody>\n",
       "    <tr>\n",
       "      <th>0</th>\n",
       "      <td> n</td>\n",
       "      <td> y</td>\n",
       "      <td> n</td>\n",
       "      <td> y</td>\n",
       "      <td> y</td>\n",
       "      <td> y</td>\n",
       "      <td> n</td>\n",
       "      <td> n</td>\n",
       "      <td> n</td>\n",
       "      <td> y</td>\n",
       "      <td> ?</td>\n",
       "      <td> y</td>\n",
       "      <td> y</td>\n",
       "      <td> y</td>\n",
       "      <td> n</td>\n",
       "      <td> y</td>\n",
       "      <td> republican.</td>\n",
       "    </tr>\n",
       "    <tr>\n",
       "      <th>1</th>\n",
       "      <td> n</td>\n",
       "      <td> y</td>\n",
       "      <td> n</td>\n",
       "      <td> y</td>\n",
       "      <td> y</td>\n",
       "      <td> y</td>\n",
       "      <td> n</td>\n",
       "      <td> n</td>\n",
       "      <td> n</td>\n",
       "      <td> n</td>\n",
       "      <td> n</td>\n",
       "      <td> y</td>\n",
       "      <td> y</td>\n",
       "      <td> y</td>\n",
       "      <td> n</td>\n",
       "      <td> ?</td>\n",
       "      <td> republican.</td>\n",
       "    </tr>\n",
       "    <tr>\n",
       "      <th>2</th>\n",
       "      <td> ?</td>\n",
       "      <td> y</td>\n",
       "      <td> y</td>\n",
       "      <td> ?</td>\n",
       "      <td> y</td>\n",
       "      <td> y</td>\n",
       "      <td> n</td>\n",
       "      <td> n</td>\n",
       "      <td> n</td>\n",
       "      <td> n</td>\n",
       "      <td> y</td>\n",
       "      <td> n</td>\n",
       "      <td> y</td>\n",
       "      <td> y</td>\n",
       "      <td> n</td>\n",
       "      <td> n</td>\n",
       "      <td>   democrat.</td>\n",
       "    </tr>\n",
       "  </tbody>\n",
       "</table>\n",
       "</div>"
      ],
      "text/plain": [
       "  0  1  2  3  4  5  6  7  8  9  10 11 12 13 14 15           16\n",
       "0  n  y  n  y  y  y  n  n  n  y  ?  y  y  y  n  y  republican.\n",
       "1  n  y  n  y  y  y  n  n  n  n  n  y  y  y  n  ?  republican.\n",
       "2  ?  y  y  ?  y  y  n  n  n  n  y  n  y  y  n  n    democrat."
      ]
     },
     "execution_count": 8,
     "metadata": {},
     "output_type": "execute_result"
    }
   ],
   "source": [
    "# read in pandas dataframe\n",
    "representatives = pd.read_csv(\"house-votes-84.data\", header=None)\n",
    "representatives.head(3)\n"
   ]
  },
  {
   "cell_type": "code",
   "execution_count": 9,
   "metadata": {
    "collapsed": false
   },
   "outputs": [],
   "source": [
    "#!ls -alF"
   ]
  },
  {
   "cell_type": "code",
   "execution_count": 10,
   "metadata": {
    "collapsed": false
   },
   "outputs": [
    {
     "data": {
      "text/html": [
       "<div style=\"max-height:1000px;max-width:1500px;overflow:auto;\">\n",
       "<table border=\"1\" class=\"dataframe\">\n",
       "  <thead>\n",
       "    <tr style=\"text-align: right;\">\n",
       "      <th></th>\n",
       "      <th>0</th>\n",
       "      <th>1</th>\n",
       "      <th>2</th>\n",
       "      <th>3</th>\n",
       "      <th>4</th>\n",
       "      <th>5</th>\n",
       "      <th>6</th>\n",
       "      <th>7</th>\n",
       "      <th>8</th>\n",
       "      <th>9</th>\n",
       "      <th>10</th>\n",
       "      <th>11</th>\n",
       "      <th>12</th>\n",
       "      <th>13</th>\n",
       "      <th>14</th>\n",
       "      <th>15</th>\n",
       "      <th>16</th>\n",
       "    </tr>\n",
       "  </thead>\n",
       "  <tbody>\n",
       "    <tr>\n",
       "      <th>0</th>\n",
       "      <td> 0.00000</td>\n",
       "      <td> 1</td>\n",
       "      <td> 0</td>\n",
       "      <td> 1.000000</td>\n",
       "      <td> 1</td>\n",
       "      <td> 1</td>\n",
       "      <td> 0</td>\n",
       "      <td> 0</td>\n",
       "      <td> 0</td>\n",
       "      <td> 1</td>\n",
       "      <td> 0.362319</td>\n",
       "      <td> 1</td>\n",
       "      <td> 1</td>\n",
       "      <td> 1</td>\n",
       "      <td> 0</td>\n",
       "      <td> 1.000000</td>\n",
       "      <td> republican.</td>\n",
       "    </tr>\n",
       "    <tr>\n",
       "      <th>1</th>\n",
       "      <td> 0.00000</td>\n",
       "      <td> 1</td>\n",
       "      <td> 0</td>\n",
       "      <td> 1.000000</td>\n",
       "      <td> 1</td>\n",
       "      <td> 1</td>\n",
       "      <td> 0</td>\n",
       "      <td> 0</td>\n",
       "      <td> 0</td>\n",
       "      <td> 0</td>\n",
       "      <td> 0.000000</td>\n",
       "      <td> 1</td>\n",
       "      <td> 1</td>\n",
       "      <td> 1</td>\n",
       "      <td> 0</td>\n",
       "      <td> 0.812689</td>\n",
       "      <td> republican.</td>\n",
       "    </tr>\n",
       "    <tr>\n",
       "      <th>2</th>\n",
       "      <td> 0.44208</td>\n",
       "      <td> 1</td>\n",
       "      <td> 1</td>\n",
       "      <td> 0.417453</td>\n",
       "      <td> 1</td>\n",
       "      <td> 1</td>\n",
       "      <td> 0</td>\n",
       "      <td> 0</td>\n",
       "      <td> 0</td>\n",
       "      <td> 0</td>\n",
       "      <td> 1.000000</td>\n",
       "      <td> 0</td>\n",
       "      <td> 1</td>\n",
       "      <td> 1</td>\n",
       "      <td> 0</td>\n",
       "      <td> 0.000000</td>\n",
       "      <td>   democrat.</td>\n",
       "    </tr>\n",
       "  </tbody>\n",
       "</table>\n",
       "</div>"
      ],
      "text/plain": [
       "        0   1   2         3   4   5   6   7   8   9         10  11  12  13  \\\n",
       "0  0.00000   1   0  1.000000   1   1   0   0   0   1  0.362319   1   1   1   \n",
       "1  0.00000   1   0  1.000000   1   1   0   0   0   0  0.000000   1   1   1   \n",
       "2  0.44208   1   1  0.417453   1   1   0   0   0   0  1.000000   0   1   1   \n",
       "\n",
       "   14        15           16  \n",
       "0   0  1.000000  republican.  \n",
       "1   0  0.812689  republican.  \n",
       "2   0  0.000000    democrat.  "
      ]
     },
     "execution_count": 10,
     "metadata": {},
     "output_type": "execute_result"
    }
   ],
   "source": [
    "# replaces y, n with numeric 1, 0\n",
    "representatives = representatives.replace('y',1)\n",
    "representatives = representatives.replace('n',0)\n",
    "representatives = representatives.replace('?',np.nan)\n",
    "\n",
    "#replace '?' values with the column mean\n",
    "for column in range(0,16):\n",
    "    colmean = representatives[column].mean()\n",
    "    representatives.loc[np.isnan(representatives[column]), column] = colmean\n",
    "\n",
    "representatives.head(3)\n",
    "#representatives.tail(3)"
   ]
  },
  {
   "cell_type": "code",
   "execution_count": 11,
   "metadata": {
    "collapsed": false
   },
   "outputs": [
    {
     "name": "stdout",
     "output_type": "stream",
     "text": [
      "BEFORE setting republican/democrat to numeric \n",
      "\n",
      "              0    1    2    3    4    5    6    7    8    9    10   11   12  \\\n",
      "16                                                                             \n",
      "democrat     262  262  262  262  262  262  262  262  262  262  262  262  262   \n",
      "democrat.      5    5    5    5    5    5    5    5    5    5    5    5    5   \n",
      "republican   166  166  166  166  166  166  166  166  166  166  166  166  166   \n",
      "republican.    2    2    2    2    2    2    2    2    2    2    2    2    2   \n",
      "\n",
      "              13   14   15  \n",
      "16                          \n",
      "democrat     262  262  262  \n",
      "democrat.      5    5    5  \n",
      "republican   166  166  166  \n",
      "republican.    2    2    2  \n",
      "\n",
      "AFTER setting republican/democrat to numeric \n",
      "     0    1    2    3    4    5    6    7    8    9    10   11   12   13   14  \\\n",
      "16                                                                              \n",
      "0   267  267  267  267  267  267  267  267  267  267  267  267  267  267  267   \n",
      "1   168  168  168  168  168  168  168  168  168  168  168  168  168  168  168   \n",
      "\n",
      "     15  \n",
      "16       \n",
      "0   267  \n",
      "1   168  \n"
     ]
    }
   ],
   "source": [
    "# Set Y to numeric\n",
    "\n",
    "print 'BEFORE setting republican/democrat to numeric \\n'\n",
    "by_party = representatives.groupby(16)\n",
    "print by_party.count()\n",
    "\n",
    "rep = representatives.replace('republican.',1.0)\n",
    "rep = rep.replace('republican',1.0)\n",
    "rep = rep.replace('democrat.',0.0)\n",
    "rep = rep.replace('democrat',0.0) \n",
    "\n",
    "print '\\nAFTER setting republican/democrat to numeric '\n",
    "by_party = rep.groupby(16)\n",
    "print by_party.count()\n"
   ]
  },
  {
   "cell_type": "code",
   "execution_count": 12,
   "metadata": {
    "collapsed": false
   },
   "outputs": [],
   "source": [
    "representatives = rep"
   ]
  },
  {
   "cell_type": "code",
   "execution_count": 13,
   "metadata": {
    "collapsed": false
   },
   "outputs": [
    {
     "name": "stdout",
     "output_type": "stream",
     "text": [
      "repres,  len, shape:  435 (435, 17)\n",
      "X--> len, shape(X):  435 (435, 16)\n",
      "Y--> len, shape(Y):  435 (435,)\n",
      "\n",
      "\n",
      "0    1\n",
      "1    1\n",
      "2    0\n",
      "3    0\n",
      "4    0\n",
      "Name: 16, dtype: float64\n"
     ]
    }
   ],
   "source": [
    "from sklearn.cross_validation import train_test_split\n",
    "\n",
    "X = representatives[range(0,16)]\n",
    "Y = representatives[16]\n",
    "\n",
    "print \"repres,  len, shape: \", len(representatives), representatives.shape\n",
    "print \"X--> len, shape(X): \", len(X), X.shape\n",
    "print \"Y--> len, shape(Y): \", len(Y), Y.shape\n",
    "\n",
    "print \"\\n\"\n",
    "#print X.head()\n",
    "print Y.head()\n",
    "\n",
    "testpct = 0.30\n",
    "#testpct = 0.25\n",
    "\n",
    "X_train, X_test, Y_train, Y_test = train_test_split(X,Y, test_size=testpct, random_state=4444)"
   ]
  },
  {
   "cell_type": "code",
   "execution_count": 17,
   "metadata": {
    "collapsed": false
   },
   "outputs": [
    {
     "name": "stdout",
     "output_type": "stream",
     "text": [
      "\n",
      "\n",
      "KNeighborsClassifier\n",
      "--------------------\n",
      "\n",
      "classification report\n",
      "             precision    recall  f1-score   support\n",
      "\n",
      "        0.0       0.94      0.95      0.94        77\n",
      "        1.0       0.92      0.91      0.92        54\n",
      "\n",
      "avg / total       0.93      0.93      0.93       131\n",
      "\n",
      "\n",
      "   accuracy score             0.9313 \n",
      "   precision score            0.9245 \n",
      "   recall score               0.9074 \n",
      "   f1 score                   0.9159 \n",
      "\n",
      "\n",
      "LogisticRegression\n",
      "--------------------\n",
      "\n",
      "classification report\n",
      "             precision    recall  f1-score   support\n",
      "\n",
      "        0.0       0.82      0.96      0.89        77\n",
      "        1.0       0.93      0.70      0.80        54\n",
      "\n",
      "avg / total       0.87      0.85      0.85       131\n",
      "\n",
      "\n",
      "   accuracy score             0.8550 \n",
      "   precision score            0.9268 \n",
      "   recall score               0.7037 \n",
      "   f1 score                   0.8000 \n",
      "\n",
      "\n",
      "SVC\n",
      "--------------------\n",
      "\n",
      "classification report\n",
      "             precision    recall  f1-score   support\n",
      "\n",
      "        0.0       0.95      0.97      0.96        77\n",
      "        1.0       0.96      0.93      0.94        54\n",
      "\n",
      "avg / total       0.95      0.95      0.95       131\n",
      "\n",
      "\n",
      "   accuracy score             0.9542 \n",
      "   precision score            0.9615 \n",
      "   recall score               0.9259 \n",
      "   f1 score                   0.9434 \n",
      "\n",
      "\n",
      "GaussianNB\n",
      "--------------------\n",
      "\n",
      "classification report\n",
      "             precision    recall  f1-score   support\n",
      "\n",
      "        0.0       0.92      0.99      0.95        77\n",
      "        1.0       0.98      0.87      0.92        54\n",
      "\n",
      "avg / total       0.94      0.94      0.94       131\n",
      "\n",
      "\n",
      "   accuracy score             0.9389 \n",
      "   precision score            0.9792 \n",
      "   recall score               0.8704 \n",
      "   f1 score                   0.9216 \n",
      "\n",
      "\n",
      "DecisionTreeClassifier\n",
      "--------------------\n",
      "\n",
      "classification report\n",
      "             precision    recall  f1-score   support\n",
      "\n",
      "        0.0       0.95      0.96      0.95        77\n",
      "        1.0       0.94      0.93      0.93        54\n",
      "\n",
      "avg / total       0.95      0.95      0.95       131\n",
      "\n",
      "\n",
      "   accuracy score             0.9466 \n",
      "   precision score            0.9434 \n",
      "   recall score               0.9259 \n",
      "   f1 score                   0.9346 \n",
      "\n",
      "\n",
      "RandomForestClassifier\n",
      "--------------------\n",
      "\n",
      "classification report\n",
      "             precision    recall  f1-score   support\n",
      "\n",
      "        0.0       0.93      0.99      0.96        77\n",
      "        1.0       0.98      0.89      0.93        54\n",
      "\n",
      "avg / total       0.95      0.95      0.95       131\n",
      "\n",
      "\n",
      "   accuracy score             0.9466 \n",
      "   precision score            0.9796 \n",
      "   recall score               0.8889 \n",
      "   f1 score                   0.9320 \n",
      "\n",
      "Present by Statistics to Compare Models\n",
      "\n",
      "Accuracy\n",
      "  LogisticRegression             0.8550\n",
      "  RandomForestClassifier         0.9466\n",
      "  GaussianNB                     0.9389\n",
      "  SVC                            0.9542\n",
      "  DecisionTreeClassifier         0.9466\n",
      "  KNeighborsClassifier           0.9313\n",
      "\n",
      "Precision\n",
      "  LogisticRegression             0.9268\n",
      "  RandomForestClassifier         0.9796\n",
      "  GaussianNB                     0.9792\n",
      "  SVC                            0.9615\n",
      "  DecisionTreeClassifier         0.9434\n",
      "  KNeighborsClassifier           0.9245\n",
      "\n",
      "Recall\n",
      "  LogisticRegression             0.7037\n",
      "  RandomForestClassifier         0.8889\n",
      "  GaussianNB                     0.8704\n",
      "  SVC                            0.9259\n",
      "  DecisionTreeClassifier         0.9259\n",
      "  KNeighborsClassifier           0.9074\n",
      "\n",
      "F1\n",
      "  LogisticRegression             0.8000\n",
      "  RandomForestClassifier         0.9320\n",
      "  GaussianNB                     0.9216\n",
      "  SVC                            0.9434\n",
      "  DecisionTreeClassifier         0.9346\n",
      "  KNeighborsClassifier           0.9159\n"
     ]
    }
   ],
   "source": [
    "# Challenge 1\n",
    "# For the house representatives data set, calculate the accuracy, precision, recall and f1 scores \n",
    "# of each classifier you built (on the test set).\n",
    "\n",
    "from sklearn.neighbors import KNeighborsClassifier\n",
    "from sklearn.linear_model import LogisticRegression\n",
    "from sklearn.svm import SVC\n",
    "from sklearn.naive_bayes import GaussianNB\n",
    "from sklearn.tree import DecisionTreeClassifier\n",
    "from sklearn.ensemble import RandomForestClassifier\n",
    "from sklearn.metrics import classification_report\n",
    "\n",
    "from sklearn.metrics import accuracy_score, precision_score, recall_score, f1_score\n",
    "from sklearn.cross_validation import cross_val_score\n",
    "    \n",
    "y_obs = Y_test\n",
    "\n",
    "accuracy_dict = dict()\n",
    "precision_dict = dict()\n",
    "recall_dict = dict()\n",
    "f1_dict = dict()\n",
    " \n",
    "for algorithm in [KNeighborsClassifier(n_neighbors=10),\n",
    "            LogisticRegression(C=0.001), \n",
    "            SVC(),  \n",
    "            GaussianNB(), \n",
    "            DecisionTreeClassifier(), \n",
    "            RandomForestClassifier()]:\n",
    "     \n",
    "    algorithm.fit(X_train, Y_train)\n",
    "    y_pred = algorithm.predict(X_test)\n",
    "    alg_label = str(algorithm)\n",
    "    alg_label = alg_label[:alg_label.index('(')]\n",
    "    \n",
    "    # create dictionary of stats\n",
    "    accuracy_dict[alg_label] = accuracy_score(y_obs, y_pred)\n",
    "    precision_dict[alg_label] = precision_score(y_obs, y_pred)\n",
    "    recall_dict[alg_label] = recall_score(y_obs, y_pred)\n",
    "    f1_dict[alg_label] = f1_score(y_obs, y_pred)\n",
    "\n",
    "    print '\\n'\n",
    "    print alg_label\n",
    "    print '-'*20\n",
    "    print\n",
    "    print \"classification report\"\n",
    "    print classification_report(y_obs, y_pred)\n",
    "    print\n",
    "    print '   accuracy score             %.4f ' % (accuracy_score(y_obs, y_pred))\n",
    "    print '   precision score            %.4f ' % precision_score(y_obs, y_pred)\n",
    "    print '   recall score               %.4f ' % recall_score(y_obs, y_pred)\n",
    "    print '   f1 score                   %.4f ' % f1_score(y_obs, y_pred)\n",
    "    \n",
    "    \n",
    "\n",
    "    \n",
    "def print_items(dictionary):\n",
    "    for k,v in dictionary.iteritems():\n",
    "        spaces = 30-len(k)\n",
    "        newclf = k + ' '*spaces\n",
    "        print '  %s %.4f' % (newclf, v)\n",
    "        \n",
    "\n",
    "print '\\nPresent by Statistics to Compare Models'\n",
    "\n",
    "print '\\nAccuracy'\n",
    "print_items(accuracy_dict)\n",
    "\n",
    "print '\\nPrecision'\n",
    "print_items(precision_dict)\n",
    "\n",
    "print '\\nRecall'\n",
    "print_items(recall_dict)\n",
    "\n",
    "print '\\nF1'\n",
    "print_items(f1_dict)\n",
    "    \n",
    "    "
   ]
  },
  {
   "cell_type": "markdown",
   "metadata": {},
   "source": [
    "### <a id='2'></a> Challenge 2"
   ]
  },
  {
   "cell_type": "markdown",
   "metadata": {},
   "source": [
    "For each, draw the ROC curve and calculate the AUC."
   ]
  },
  {
   "cell_type": "code",
   "execution_count": 61,
   "metadata": {
    "collapsed": false
   },
   "outputs": [
    {
     "data": {
      "text/plain": [
       "<matplotlib.legend.Legend at 0x109d23850>"
      ]
     },
     "execution_count": 61,
     "metadata": {},
     "output_type": "execute_result"
    },
    {
     "data": {
      "image/png": "[encoded data removed]",
      "text/plain": [
       "<matplotlib.figure.Figure at 0x102806150>"
      ]
     },
     "metadata": {},
     "output_type": "display_data"
    }
   ],
   "source": [
    "import matplotlib.pyplot as plt\n",
    "%matplotlib inline\n",
    "\n",
    "from sklearn.metrics import roc_curve, auc\n",
    "\n",
    "fig = plt.figure()\n",
    "fig.set_figheight(6)\n",
    "fig.set_figwidth(9)\n",
    "plt.subplot(1,1,1)\n",
    "\n",
    "for i, alg in enumerate([\n",
    "            KNeighborsClassifier(n_neighbors=10), \n",
    "            LogisticRegression(C=0.001), \n",
    "            SVC(),  \n",
    "            GaussianNB(), \n",
    "            DecisionTreeClassifier(), \n",
    "            RandomForestClassifier()]):\n",
    "    alg.fit(X_train, Y_train)\n",
    "    y_pred = alg.predict(X_test)\n",
    "\n",
    "    try:\n",
    "        y_score = alg.fit(X_train, Y_train).decision_function(X_test)\n",
    "    except:\n",
    "        y_score = (alg.fit(X_train, Y_train).predict_proba(X_test))[:,1]\n",
    "\n",
    "    # Compute ROC curve and ROC area for each class\n",
    "    fpr = dict()\n",
    "    tpr = dict()\n",
    "    roc_auc = dict()\n",
    "    fpr[i], tpr[i], _ = roc_curve(y_obs, y_score)\n",
    "    roc_auc[i] = auc(fpr[i], tpr[i])\n",
    "\n",
    "    # Plot ROC curve\n",
    "    alg_label = str(alg)\n",
    "    alg_label = alg_label[:alg_label.index('(')]\n",
    "    plt.plot(fpr[i], tpr[i], label='ROC curve of ' + alg_label+ '  (area = {1:0.2f})'.format(alg_label, roc_auc[i]))\n",
    "\n",
    "\n",
    "plt.plot([0, 1], [0, 1], 'k--')\n",
    "plt.xlim([0.0, 1.0])\n",
    "plt.ylim([0.0, 1.05])\n",
    "plt.xlabel('False Positive Rate')\n",
    "plt.ylabel('True Positive Rate')\n",
    "plt.title('ROC curve per classifier')\n",
    "plt.legend(loc=\"lower right\")"
   ]
  },
  {
   "cell_type": "markdown",
   "metadata": {},
   "source": [
    "### <a id='3'></a> Challenge 3"
   ]
  },
  {
   "cell_type": "markdown",
   "metadata": {},
   "source": [
    "Calculate the same metrics you did in challenge 1, but this time in a cross validation scheme with the cross_val_score function (like in McNulty's Supervised Challenge 9)"
   ]
  },
  {
   "cell_type": "code",
   "execution_count": 62,
   "metadata": {
    "collapsed": false
   },
   "outputs": [
    {
     "name": "stdout",
     "output_type": "stream",
     "text": [
      "\n",
      "Algorithm \t\t\tAccuracy \tPrecision \tRecall \tF1\n",
      "-------------------------------------------------------------------------------------\n",
      "  KNeighborsClassifier           0.9329 \t0.9036 \t\t0.9338 \t0.9159\n",
      "  LogisticRegression             0.8893 \t0.9190 \t\t0.7919 \t0.8457\n",
      "  SVC                            0.9583 \t0.9347 \t\t0.9643 \t0.9476\n",
      "  GaussianNB                     0.9398 \t0.9259 \t\t0.9221 \t0.9227\n",
      "  DecisionTreeClassifier         0.9376 \t0.9221 \t\t0.9408 \t0.9207\n",
      "  RandomForestClassifier         0.9559 \t0.9333 \t\t0.9224 \t0.9416\n"
     ]
    }
   ],
   "source": [
    "# Irmak's code from McNulty's supervised challenges    \n",
    "from sklearn.cross_validation import cross_val_score\n",
    "import re\n",
    "\n",
    "print '\\nAlgorithm \\t\\t\\tAccuracy \\tPrecision \\tRecall \\tF1'\n",
    "print '-'*85\n",
    "for algorithm in [KNeighborsClassifier(n_neighbors=10),\n",
    "                  LogisticRegression(C=0.001), \n",
    "                  SVC(),\n",
    "                  GaussianNB(),\n",
    "                  DecisionTreeClassifier(),\n",
    "                  RandomForestClassifier()]:\n",
    "    \n",
    "    # just to get clean label\n",
    "    algorithm.fit(X_train, Y_train)\n",
    "    y_pred = algorithm.predict(X_test)\n",
    "    alg_label = str(algorithm)\n",
    "    alg_label = alg_label[:alg_label.index('(')]\n",
    "\n",
    "    \n",
    "    accuracy = np.mean(cross_val_score(algorithm, X,Y, cv=10, scoring='accuracy')) #10-fold cross validation\n",
    "    precision = np.mean(cross_val_score(algorithm, X,Y, cv=10, scoring='precision')) #10-fold cross validation\n",
    "    recall = np.mean(cross_val_score(algorithm, X,Y, cv=10, scoring='recall')) #10-fold cross validation\n",
    "    f1 = np.mean(cross_val_score(algorithm, X,Y, cv=10, scoring='f1')) #10-fold cross validation\n",
    "\n",
    "    alg_name = alg_label.split('(')\n",
    "    alg_name = alg_name[0]\n",
    "    print '  %-30s %.4f \\t%.4f \\t\\t%.4f \\t%.4f' % (alg_name, accuracy, precision, recall, f1)\n",
    " \n"
   ]
  },
  {
   "cell_type": "markdown",
   "metadata": {},
   "source": [
    "### <a id='4'></a> Challenge 4"
   ]
  },
  {
   "cell_type": "markdown",
   "metadata": {},
   "source": [
    "For your movie classifiers, calculate the precision and recall for each class."
   ]
  },
  {
   "cell_type": "code",
   "execution_count": 63,
   "metadata": {
    "collapsed": false
   },
   "outputs": [],
   "source": [
    "movies = pd.read_csv('2013_movies.csv')"
   ]
  },
  {
   "cell_type": "code",
   "execution_count": 64,
   "metadata": {
    "collapsed": false
   },
   "outputs": [
    {
     "name": "stdout",
     "output_type": "stream",
     "text": [
      "len(data): \n",
      "100\n",
      "--------------------------------------------------\n",
      "column names:\n",
      "Index([u'Title', u'Budget', u'DomesticTotalGross', u'Director', u'Rating', u'Runtime', u'ReleaseDate'], dtype='object')\n",
      "--------------------------------------------------\n",
      "df.types\n",
      "Title                  object\n",
      "Budget                float64\n",
      "DomesticTotalGross      int64\n",
      "Director               object\n",
      "Rating                 object\n",
      "Runtime                 int64\n",
      "ReleaseDate            object\n",
      "dtype: object\n",
      "--------------------------------------------------\n",
      "df.describe: \n",
      "             Budget  DomesticTotalGross     Runtime\n",
      "count  8.900000e+01        1.000000e+02  100.000000\n",
      "mean   7.474719e+07        1.005969e+08  112.260000\n",
      "std    5.941692e+07        8.739641e+07   18.190696\n",
      "min    2.500000e+06        2.556825e+07   75.000000\n",
      "25%    2.800000e+07        4.270413e+07   98.000000\n",
      "50%    5.500000e+07        6.954237e+07  112.000000\n",
      "75%    1.100000e+08        1.204759e+08  123.000000\n",
      "max    2.250000e+08        4.246680e+08  180.000000\n",
      "--------------------------------------------------\n",
      "df.head: \n",
      "                             Title     Budget  DomesticTotalGross  \\\n",
      "0  The Hunger Games: Catching Fire  130000000           424668047   \n",
      "1                       Iron Man 3  200000000           409013994   \n",
      "2                           Frozen  150000000           400738009   \n",
      "\n",
      "                 Director Rating  Runtime          ReleaseDate  \n",
      "0        Francis Lawrence  PG-13      146  2013-11-22 00:00:00  \n",
      "1             Shane Black  PG-13      129  2013-05-03 00:00:00  \n",
      "2  Chris BuckJennifer Lee     PG      108  2013-11-22 00:00:00  \n"
     ]
    }
   ],
   "source": [
    "def CheckData(df):\n",
    "    print \"len(data): \"\n",
    "    print len(df)\n",
    "    print '-'*50\n",
    "    \n",
    "    print \"column names:\"\n",
    "    print df.columns\n",
    "    print '-'*50\n",
    "    \n",
    "    print \"df.types\"\n",
    "    print df.dtypes\n",
    "    print '-'*50 \n",
    "\n",
    "    print \"df.describe: \"\n",
    "    print df.describe()\n",
    "    print '-'*50 \n",
    "    \n",
    "    print \"df.head: \"\n",
    "    print df.head(3)\n",
    " \n",
    "    #print df.tail(5)\n",
    "\n",
    "    \n",
    "CheckData(movies)"
   ]
  },
  {
   "cell_type": "code",
   "execution_count": 65,
   "metadata": {
    "collapsed": false
   },
   "outputs": [
    {
     "name": "stdout",
     "output_type": "stream",
     "text": [
      "BEFORE setting Rating to numeric\n",
      "--------------------------------------------------\n",
      "        Title  Budget  DomesticTotalGross  Director  Runtime  ReleaseDate\n",
      "Rating                                                                   \n",
      "PG         14      14                  14        14       14           14\n",
      "PG-13      40      40                  40        40       40           40\n",
      "R          33      33                  33        33       33           33\n",
      "\n",
      "AFTER setting Rating to numeric\n",
      "--------------------------------------------------\n",
      "        Title  Budget  DomesticTotalGross  Director  Runtime  ReleaseDate\n",
      "Rating                                                                   \n",
      "1          14      14                  14        14       14           14\n",
      "2          40      40                  40        40       40           40\n",
      "3          33      33                  33        33       33           33\n"
     ]
    }
   ],
   "source": [
    "movies = pd.read_csv('2013_movies.csv')\n",
    "movies = movies.dropna()\n",
    "print 'BEFORE setting Rating to numeric'\n",
    "print '-'*50\n",
    "by_rating = movies.groupby('Rating')\n",
    "print by_rating.count()\n",
    "\n",
    "# replace values, do mapping\n",
    "di = {\"G\": 0, \"PG\": 1, \"PG-13\": 2, \"R\": 3}\n",
    "movies['Rating'].replace(di, inplace=True)\n",
    "\n",
    "\n",
    "print '\\nAFTER setting Rating to numeric'\n",
    "print '-'*50\n",
    "by_rating = movies.groupby('Rating')\n",
    "print by_rating.count()"
   ]
  },
  {
   "cell_type": "code",
   "execution_count": 66,
   "metadata": {
    "collapsed": false
   },
   "outputs": [
    {
     "name": "stdout",
     "output_type": "stream",
     "text": [
      "X.shape:  (87, 3)\n",
      "Y.shape:  (87,)\n"
     ]
    }
   ],
   "source": [
    "X = movies[['Budget', 'DomesticTotalGross', 'Runtime']]\n",
    "Y = movies['Rating']\n",
    "Y_category=np.asarray(Y)\n",
    "\n",
    "print \"X.shape: \", X.shape\n",
    "print \"Y.shape: \", Y.shape"
   ]
  },
  {
   "cell_type": "markdown",
   "metadata": {},
   "source": [
    "Challenge 4\n",
    "For your movie classifiers, calculate the precision and recall for each class."
   ]
  },
  {
   "cell_type": "code",
   "execution_count": 67,
   "metadata": {
    "collapsed": false
   },
   "outputs": [
    {
     "name": "stdout",
     "output_type": "stream",
     "text": [
      "Y_test:  [3 2 2 1 1 1 2 3 3 3 2 2 2 3 3 2 2 1 3 2 3 2 2 1 3 3 3]\n",
      "y_pred:  [2 2 2 2 2 2 2 3 3 2 2 2 2 2 3 2 3 2 2 2 2 3 2 2 2 2 2]\n",
      "\n",
      "Precision (for each class):  [ 0.          0.40909091  0.6       ]\n",
      "Recall (for each class):     [ 0.          0.81818182  0.27272727]\n"
     ]
    }
   ],
   "source": [
    "X_train, X_test, Y_train, Y_test = train_test_split(X, Y, test_size=0.30, random_state=4444)\n",
    "\n",
    "from sklearn.multiclass import OneVsRestClassifier\n",
    "from sklearn.metrics import precision_recall_fscore_support\n",
    "\n",
    "alg = OneVsRestClassifier(LogisticRegression())\n",
    "alg.fit(X_train, Y_train)\n",
    "y_pred = alg.predict(X_test)\n",
    "\n",
    "#col_names = [\"PG\", \"PG-13\", \"R\"]\n",
    "col_names = [1, 2, 3]\n",
    "p, r, f, s = precision_recall_fscore_support(Y_test, y_pred, average=None, labels=col_names)\n",
    "\n",
    "print \"Y_test: \", Y_test\n",
    "print \"y_pred: \", y_pred\n",
    "\n",
    "print \"\\nPrecision (for each class): \", p\n",
    "print \"Recall (for each class):    \", r"
   ]
  },
  {
   "cell_type": "markdown",
   "metadata": {},
   "source": [
    "### <a id='5'></a> Challenge 5"
   ]
  },
  {
   "cell_type": "markdown",
   "metadata": {},
   "source": [
    "Draw the ROC curve (and calculate AUC) for the logistic regression classifier from challenge 12 (McNulty supervised)"
   ]
  },
  {
   "cell_type": "markdown",
   "metadata": {},
   "source": [
    "Description of Dataset:\n",
    "\n",
    "4. Relevant Information:\n",
    "   The dataset contains cases from a study that was conducted between\n",
    "   1958 and 1970 at the University of Chicago's Billings Hospital on\n",
    "   the survival of patients who had undergone surgery for breast\n",
    "   cancer.\n",
    "\n",
    "5. Number of Instances: 306\n",
    "\n",
    "6. Number of Attributes: 4 (including the class attribute)\n",
    "\n",
    "7. Attribute Information:\n",
    "   1. Age of patient at time of operation (numerical)\n",
    "   2. Patient's year of operation (year - 1900, numerical)\n",
    "   3. Number of positive axillary nodes detected (numerical)\n",
    "   4. Survival status (class attribute)\n",
    "         1 = the patient survived 5 years or longer\n",
    "         2 = the patient died within 5 year\n",
    "\n",
    "8. Missing Attribute Values: None"
   ]
  },
  {
   "cell_type": "code",
   "execution_count": 68,
   "metadata": {
    "collapsed": false
   },
   "outputs": [],
   "source": [
    "#!wget https://archive.ics.uci.edu/ml/machine-learning-databases/haberman/haberman.data"
   ]
  },
  {
   "cell_type": "code",
   "execution_count": 69,
   "metadata": {
    "collapsed": false
   },
   "outputs": [],
   "source": [
    "data = pd.read_csv('haberman.data', header=None)"
   ]
  },
  {
   "cell_type": "code",
   "execution_count": 70,
   "metadata": {
    "collapsed": false
   },
   "outputs": [
    {
     "name": "stdout",
     "output_type": "stream",
     "text": [
      "len(data): \n",
      "306\n",
      "--------------------------------------------------\n",
      "column names:\n",
      "Int64Index([0, 1, 2, 3], dtype='int64')\n",
      "--------------------------------------------------\n",
      "df.types\n",
      "0    int64\n",
      "1    int64\n",
      "2    int64\n",
      "3    int64\n",
      "dtype: object\n",
      "--------------------------------------------------\n",
      "df.describe: \n",
      "                0           1           2           3\n",
      "count  306.000000  306.000000  306.000000  306.000000\n",
      "mean    52.457516   62.852941    4.026144    1.264706\n",
      "std     10.803452    3.249405    7.189654    0.441899\n",
      "min     30.000000   58.000000    0.000000    1.000000\n",
      "25%     44.000000   60.000000    0.000000    1.000000\n",
      "50%     52.000000   63.000000    1.000000    1.000000\n",
      "75%     60.750000   65.750000    4.000000    2.000000\n",
      "max     83.000000   69.000000   52.000000    2.000000\n",
      "--------------------------------------------------\n",
      "df.head: \n",
      "    0   1  2  3\n",
      "0  30  64  1  1\n",
      "1  30  62  3  1\n",
      "2  30  65  0  1\n"
     ]
    }
   ],
   "source": [
    "CheckData(data)"
   ]
  },
  {
   "cell_type": "code",
   "execution_count": 71,
   "metadata": {
    "collapsed": false
   },
   "outputs": [],
   "source": [
    "!grep \"NaN\" haberman.data"
   ]
  },
  {
   "cell_type": "code",
   "execution_count": 72,
   "metadata": {
    "collapsed": false
   },
   "outputs": [
    {
     "name": "stdout",
     "output_type": "stream",
     "text": [
      "78,65,1,2\r\n"
     ]
    }
   ],
   "source": [
    "!grep \"78\" haberman.data"
   ]
  },
  {
   "cell_type": "code",
   "execution_count": 73,
   "metadata": {
    "collapsed": false
   },
   "outputs": [
    {
     "name": "stdout",
     "output_type": "stream",
     "text": [
      "306\n"
     ]
    }
   ],
   "source": [
    "data_clean = data.dropna()\n",
    "print len(data_clean)"
   ]
  },
  {
   "cell_type": "code",
   "execution_count": 74,
   "metadata": {
    "collapsed": false
   },
   "outputs": [],
   "source": [
    "labels = ['age', 'year', 'nodes', 'survival']\n",
    "data.columns=labels\n",
    "\n",
    "# replace values, do mapping\n",
    "di = {2: 0, 1:1}\n",
    "data['survival'].replace(di, inplace=True)\n",
    "\n",
    "X = data[['age', 'year', 'nodes']]\n",
    "Y = data[['survival']]\n"
   ]
  },
  {
   "cell_type": "code",
   "execution_count": 75,
   "metadata": {
    "collapsed": false
   },
   "outputs": [
    {
     "data": {
      "text/html": [
       "<div style=\"max-height:1000px;max-width:1500px;overflow:auto;\">\n",
       "<table border=\"1\" class=\"dataframe\">\n",
       "  <thead>\n",
       "    <tr style=\"text-align: right;\">\n",
       "      <th></th>\n",
       "      <th>age</th>\n",
       "      <th>year</th>\n",
       "      <th>nodes</th>\n",
       "      <th>survival</th>\n",
       "    </tr>\n",
       "  </thead>\n",
       "  <tbody>\n",
       "    <tr>\n",
       "      <th>count</th>\n",
       "      <td> 306.000000</td>\n",
       "      <td> 306.000000</td>\n",
       "      <td> 306.000000</td>\n",
       "      <td> 306.000000</td>\n",
       "    </tr>\n",
       "    <tr>\n",
       "      <th>mean</th>\n",
       "      <td>  52.457516</td>\n",
       "      <td>  62.852941</td>\n",
       "      <td>   4.026144</td>\n",
       "      <td>   0.735294</td>\n",
       "    </tr>\n",
       "    <tr>\n",
       "      <th>std</th>\n",
       "      <td>  10.803452</td>\n",
       "      <td>   3.249405</td>\n",
       "      <td>   7.189654</td>\n",
       "      <td>   0.441899</td>\n",
       "    </tr>\n",
       "    <tr>\n",
       "      <th>min</th>\n",
       "      <td>  30.000000</td>\n",
       "      <td>  58.000000</td>\n",
       "      <td>   0.000000</td>\n",
       "      <td>   0.000000</td>\n",
       "    </tr>\n",
       "    <tr>\n",
       "      <th>25%</th>\n",
       "      <td>  44.000000</td>\n",
       "      <td>  60.000000</td>\n",
       "      <td>   0.000000</td>\n",
       "      <td>   0.000000</td>\n",
       "    </tr>\n",
       "    <tr>\n",
       "      <th>50%</th>\n",
       "      <td>  52.000000</td>\n",
       "      <td>  63.000000</td>\n",
       "      <td>   1.000000</td>\n",
       "      <td>   1.000000</td>\n",
       "    </tr>\n",
       "    <tr>\n",
       "      <th>75%</th>\n",
       "      <td>  60.750000</td>\n",
       "      <td>  65.750000</td>\n",
       "      <td>   4.000000</td>\n",
       "      <td>   1.000000</td>\n",
       "    </tr>\n",
       "    <tr>\n",
       "      <th>max</th>\n",
       "      <td>  83.000000</td>\n",
       "      <td>  69.000000</td>\n",
       "      <td>  52.000000</td>\n",
       "      <td>   1.000000</td>\n",
       "    </tr>\n",
       "  </tbody>\n",
       "</table>\n",
       "</div>"
      ],
      "text/plain": [
       "              age        year       nodes    survival\n",
       "count  306.000000  306.000000  306.000000  306.000000\n",
       "mean    52.457516   62.852941    4.026144    0.735294\n",
       "std     10.803452    3.249405    7.189654    0.441899\n",
       "min     30.000000   58.000000    0.000000    0.000000\n",
       "25%     44.000000   60.000000    0.000000    0.000000\n",
       "50%     52.000000   63.000000    1.000000    1.000000\n",
       "75%     60.750000   65.750000    4.000000    1.000000\n",
       "max     83.000000   69.000000   52.000000    1.000000"
      ]
     },
     "execution_count": 75,
     "metadata": {},
     "output_type": "execute_result"
    }
   ],
   "source": [
    "data.describe()"
   ]
  },
  {
   "cell_type": "code",
   "execution_count": 76,
   "metadata": {
    "collapsed": false
   },
   "outputs": [
    {
     "name": "stdout",
     "output_type": "stream",
     "text": [
      "0.735294117647\n"
     ]
    }
   ],
   "source": [
    "data['survival'].sum()\n",
    "print float(225)/float(306)"
   ]
  },
  {
   "cell_type": "code",
   "execution_count": 77,
   "metadata": {
    "collapsed": false
   },
   "outputs": [
    {
     "name": "stdout",
     "output_type": "stream",
     "text": [
      "data.shape:     (306, 4)\n",
      "\n",
      "X.shape:        (306, 3)\n",
      "Y.shape:        (306, 1)\n",
      "\n",
      "X_train.shape:  (214, 3)\n",
      "Y_train.shape:  (214, 1)\n",
      "\n",
      "X_test.shape:   (92, 3)\n",
      "Y_test.shape:   (92, 1)\n"
     ]
    }
   ],
   "source": [
    "X_train, X_test, Y_train, Y_test = train_test_split(X, Y, test_size=0.30, random_state=4444)\n",
    "\n",
    "print \"data.shape:    \", data.shape\n",
    "\n",
    "print \"\\nX.shape:       \", X.shape\n",
    "print \"Y.shape:       \", Y.shape\n",
    "\n",
    "print \"\\nX_train.shape: \", X_train.shape\n",
    "print \"Y_train.shape: \", Y_train.shape\n",
    "\n",
    "print \"\\nX_test.shape:  \", X_test.shape\n",
    "print \"Y_test.shape:  \", Y_test.shape"
   ]
  },
  {
   "cell_type": "code",
   "execution_count": 78,
   "metadata": {
    "collapsed": false
   },
   "outputs": [
    {
     "name": "stderr",
     "output_type": "stream",
     "text": [
      "//anaconda/lib/python2.7/site-packages/sklearn/preprocessing/label.py:124: DataConversionWarning: A column-vector y was passed when a 1d array was expected. Please change the shape of y to (n_samples, ), for example using ravel().\n",
      "  y = column_or_1d(y, warn=True)\n",
      "//anaconda/lib/python2.7/site-packages/sklearn/preprocessing/label.py:124: DataConversionWarning: A column-vector y was passed when a 1d array was expected. Please change the shape of y to (n_samples, ), for example using ravel().\n",
      "  y = column_or_1d(y, warn=True)\n"
     ]
    },
    {
     "data": {
      "text/plain": [
       "<matplotlib.legend.Legend at 0x10a84c610>"
      ]
     },
     "execution_count": 78,
     "metadata": {},
     "output_type": "execute_result"
    },
    {
     "data": {
      "image/png": "[encoded data removed]",
      "text/plain": [
       "<matplotlib.figure.Figure at 0x109bdf150>"
      ]
     },
     "metadata": {},
     "output_type": "display_data"
    }
   ],
   "source": [
    "# Draw the ROC curve (and calculate AUC) for the logistic regression classifier from challenge 12 (McNulty supervised)\n",
    "import matplotlib.pyplot as plt\n",
    "%matplotlib inline\n",
    "\n",
    "from sklearn.metrics import roc_curve, auc\n",
    "\n",
    "fig = plt.figure()\n",
    "fig.set_figheight(7)\n",
    "fig.set_figwidth(7)\n",
    "plt.subplot(1,1,1)\n",
    "\n",
    "models = [LogisticRegression(C=0.001)]\n",
    "\n",
    "for i, alg in enumerate(models):\n",
    "    alg.fit(X_train, Y_train)\n",
    "    y_pred = alg.predict(X_test)\n",
    "\n",
    "    try:\n",
    "        y_score = alg.fit(X_train, Y_train).decision_function(X_test)\n",
    "    except:\n",
    "        y_score = (alg.fit(X_train, Y_train).predict_proba(X_test))[:,1]\n",
    "\n",
    "    # Compute ROC curve and ROC area for each class\n",
    "    fpr = dict()\n",
    "    tpr = dict()\n",
    "    roc_auc = dict()\n",
    "    fpr[i], tpr[i], _ = roc_curve(Y_test, y_score)\n",
    "    roc_auc[i] = auc(fpr[i], tpr[i])\n",
    "\n",
    "    # Plot ROC curve\n",
    "    alg_label = str(alg)\n",
    "    alg_label = alg_label[:alg_label.index('(')]\n",
    "    plt.plot(fpr[i], tpr[i], label='ROC curve of '+ alg_label +' (area = {1:0.2f})'.format(alg_label, roc_auc[i]))\n",
    "\n",
    "plt.plot([0, 1], [0, 1], 'k--')\n",
    "plt.xlim([0.0, 1.0])\n",
    "plt.ylim([0.0, 1.05])\n",
    "plt.xlabel('False Positive Rate')\n",
    "plt.ylabel('True Positive Rate')\n",
    "plt.title('ROC curve per classifier')\n",
    "plt.legend(loc=\"lower right\")"
   ]
  },
  {
   "cell_type": "code",
   "execution_count": null,
   "metadata": {
    "collapsed": false
   },
   "outputs": [],
   "source": []
  }
 ],
 "metadata": {
  "kernelspec": {
   "display_name": "Python 2",
   "language": "python",
   "name": "python2"
  },
  "language_info": {
   "codemirror_mode": {
    "name": "ipython",
    "version": 2
   },
   "file_extension": ".py",
   "mimetype": "text/x-python",
   "name": "python",
   "nbconvert_exporter": "python",
   "pygments_lexer": "ipython2",
   "version": "2.7.9"
  }
 },
 "nbformat": 4,
 "nbformat_minor": 0
}
