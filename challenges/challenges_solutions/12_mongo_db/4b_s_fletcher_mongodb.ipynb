{
 "cells": [
  {
   "cell_type": "markdown",
   "metadata": {},
   "source": [
    "_First, some initial setup. Remember: the mongo server has to be running._\n",
    "\n",
    "_Start one by going to your terminal and typing:_\n",
    "\n",
    "    mongod"
   ]
  },
  {
   "cell_type": "code",
   "execution_count": 1,
   "metadata": {
    "collapsed": false
   },
   "outputs": [],
   "source": [
    "%matplotlib inline\n",
    "import matplotlib.pyplot as plt\n",
    "import pickle\n",
    "import pymongo\n",
    "\n",
    "with open(\"heavy_metal_parsed.pkl\", \"rb\") as datafile:\n",
    "    reviews = pickle.load(datafile)\n",
    "\n",
    "client = pymongo.MongoClient()\n",
    "db = client.challenge_db\n",
    "hmm = client.challenge_db.hmm_collection\n",
    "\n",
    "hmm.drop() # Clear out any data we had in the collection.\n",
    "\n",
    "for review in reviews:\n",
    "    hmm.save(review)\n",
    "\n",
    "# Alternativlely try: \n",
    "# hmm.insert_many(reviews);"
   ]
  },
  {
   "cell_type": "code",
   "execution_count": 2,
   "metadata": {
    "collapsed": false,
    "scrolled": true
   },
   "outputs": [
    {
     "name": "stdout",
     "output_type": "stream",
     "text": [
      "Count of number of documents: 856\n",
      "Keys in one example document: [u'raw', u'head', u'metal_cred', u'title', u'direct', u'solid_metal_nuggets', u'cast', u'the_meat', u'year', u'_id', u'sections']\n"
     ]
    }
   ],
   "source": [
    "## Some basic exploration\n",
    "print \"Count of number of documents:\", hmm.count()\n",
    "print \"Keys in one example document:\", hmm.find_one().keys()\n",
    "#hmm.find_one() # Uncomment this line to see what a full document looks like."
   ]
  },
  {
   "cell_type": "markdown",
   "metadata": {},
   "source": [
    "### Challenge 1\n",
    "\n",
    "Make a histogram of the years in the data. How many Heavy Metal films came out over the years?"
   ]
  },
  {
   "cell_type": "code",
   "execution_count": 5,
   "metadata": {
    "collapsed": false
   },
   "outputs": [
    {
     "data": {
      "image/png": "[encoded data removed]",
      "text/plain": [
       "<matplotlib.figure.Figure at 0x10bf087d0>"
      ]
     },
     "metadata": {},
     "output_type": "display_data"
    }
   ],
   "source": [
    "## Scan over all the documents in the collection and build up a list of years the films were\n",
    "## released.\n",
    "\n",
    "years = []\n",
    "for film in hmm.find({}, {\"year\": 1, \"_id\": 0}):\n",
    "    years.append(film[\"year\"])\n",
    "\n",
    "## Alternatively using a list comprehension.\n",
    "#years = [film[\"year\"] for film in hmm.find({}, {\"year\": 1, \"_id\": 0})]\n",
    "\n",
    "plt.hist(years, bins=50);"
   ]
  },
  {
   "cell_type": "code",
   "execution_count": 6,
   "metadata": {
    "collapsed": false,
    "scrolled": true
   },
   "outputs": [
    {
     "data": {
      "image/png": "[encoded data removed]",
      "text/plain": [
       "<matplotlib.figure.Figure at 0x10c2726d0>"
      ]
     },
     "metadata": {},
     "output_type": "display_data"
    }
   ],
   "source": [
    "## Alternative solution to Challenge 1: use the aggregation framework in MongoDB to compute the\n",
    "## frequency.\n",
    "\n",
    "cursor = hmm.aggregate([\n",
    "    {\"$group\": {\n",
    "        \"_id\": \"$year\",\n",
    "        \"year_count\": {\"$sum\": 1} \n",
    "    }}\n",
    "])\n",
    "\n",
    "years = []\n",
    "counts = []\n",
    "for doc in cursor:\n",
    "    years.append(doc[\"_id\"])\n",
    "    counts.append(doc[\"year_count\"])\n",
    "\n",
    "plt.hist(years, weights=counts, bins=50);"
   ]
  },
  {
   "cell_type": "markdown",
   "metadata": {},
   "source": [
    "### Challenge 2\n",
    "\n",
    "Find the cast member that appeared in the greatest number of Heavy Metal films."
   ]
  },
  {
   "cell_type": "code",
   "execution_count": 7,
   "metadata": {
    "collapsed": false
   },
   "outputs": [
    {
     "name": "stdout",
     "output_type": "stream",
     "text": [
      "{u'_id': u'', u'number': 22}\n",
      "{u'_id': u'Alice Cooper', u'number': 15}\n",
      "{u'_id': u'Christopher Lee', u'number': 14}\n",
      "{u'_id': u'Arnold Schwarzenegger', u'number': 10}\n",
      "{u'_id': u'Ozzy Osbourne', u'number': 9}\n"
     ]
    }
   ],
   "source": [
    "cursor = hmm.aggregate([\n",
    "    {\"$unwind\": \"$cast\"},\n",
    "    {\"$group\": {\n",
    "        \"_id\": \"$cast\",\n",
    "        \"number\": {\"$sum\" : 1}\n",
    "    }},\n",
    "    {\"$sort\": {\"number\": -1}},\n",
    "    {\"$limit\": 5}\n",
    "])\n",
    "\n",
    "for popular_actor in cursor:\n",
    "    print popular_actor\n",
    "\n",
    "## From the output below, we see that Alice Cooper is the most popular actor."
   ]
  },
  {
   "cell_type": "markdown",
   "metadata": {},
   "source": [
    "### Challenge 3\n",
    "\n",
    "Find the most commonly used words in Heavy Metal film titles. Is there a word that appears in a lot of them? Is it \"The\"? If it is something like \"the\", How can you get around that? Find one \"meaningful\" word that appears the most (this means non-structural word, unlike \"the\" or \"a\" or \"in\")."
   ]
  },
  {
   "cell_type": "code",
   "execution_count": 8,
   "metadata": {
    "collapsed": false
   },
   "outputs": [
    {
     "data": {
      "text/plain": [
       "[(u'the', 325),\n",
       " (u'of', 147),\n",
       " (u'metal', 35),\n",
       " (u'a', 33),\n",
       " (u'and', 27),\n",
       " (u'in', 25),\n",
       " (u'dead', 24),\n",
       " (u'rock', 19),\n",
       " (u'heavy', 19),\n",
       " (u'to', 17)]"
      ]
     },
     "execution_count": 8,
     "metadata": {},
     "output_type": "execute_result"
    }
   ],
   "source": [
    "from collections import Counter\n",
    "\n",
    "def clean_str(s):\n",
    "    return s.lower().replace(\":\", \"\")\n",
    "\n",
    "titles = []\n",
    "for film in hmm.find({}, {\"title\": 1, \"_id\": 0}):\n",
    "    titles.append(film[\"title\"])\n",
    "\n",
    "title_words = []\n",
    "for title in titles:\n",
    "    words = [clean_str(word) for word in title.split()]\n",
    "    title_words.extend(words)\n",
    "    \n",
    "counter = Counter(title_words)\n",
    "counter.most_common(10)\n",
    "\n",
    "## From here, we can see that the most common word  is \"the\" but the most common non-stopword\n",
    "## word is \"metal\"."
   ]
  },
  {
   "cell_type": "code",
   "execution_count": 9,
   "metadata": {
    "collapsed": false
   },
   "outputs": [
    {
     "name": "stdout",
     "output_type": "stream",
     "text": [
      "[(u'the', 325.0), (u'of', 147.0), (u'metal', 35.0), (u'a', 33.0), (u'and', 27.0), (u'in', 25.0), (u'dead', 24.0), (u'heavy', 19.0), (u'rock', 19.0), (u'2', 17.0)]\n"
     ]
    }
   ],
   "source": [
    "## Alternative solution to Challenge 3: use map-reduce in MongoDB to split the words in the\n",
    "## title and compute their frequency.\n",
    "\n",
    "import bson\n",
    "import operator\n",
    "\n",
    "mapper = bson.code.Code(r\"\"\"\n",
    "    function() {   \n",
    "        var words = this.title.split(/[ \\n]+/);\n",
    "        words.forEach(function(word) {\n",
    "            word = word.toLocaleLowerCase().replace(/:/g, \"\");\n",
    "            emit(word, 1);\n",
    "        });\n",
    "    }\n",
    "\"\"\")\n",
    "\n",
    "reducer = bson.code.Code(r\"\"\"\n",
    "    function (key, values) {\n",
    "        // Return the total number of occurrences.\n",
    "        return values.reduce(function add(a, b) { return a + b; }, 0);\n",
    "    }\n",
    "\"\"\")\n",
    "\n",
    "result = hmm.map_reduce(mapper, reducer, \"title_words\")\n",
    "\n",
    "word_dict = {}\n",
    "for doc in result.find():\n",
    "    word_dict[doc[\"_id\"]] = doc[\"value\"]\n",
    "\n",
    "print sorted(word_dict.items(), key=operator.itemgetter(1), reverse=True)[:10]"
   ]
  },
  {
   "cell_type": "markdown",
   "metadata": {},
   "source": [
    "### Challenge 4\n",
    "\n",
    "The METAL CRED section lists themes included in these films that makes them more metal. What were the top 5 `metal_cred` keywords in the 70s? In the 80s? In the 90s? In the 2000s?"
   ]
  },
  {
   "cell_type": "code",
   "execution_count": 10,
   "metadata": {
    "collapsed": false,
    "scrolled": true
   },
   "outputs": [
    {
     "name": "stdout",
     "output_type": "stream",
     "text": [
      "Top metal cred keywords from the 1970s:\n",
      "[(u'metal', 167), (u'cred', 157), (u'satan', 21), (u'\\u201970s', 19), (u'black', 14)]\n",
      "\n",
      "Top metal cred keywords from the 1980s:\n",
      "[(u'metal', 304), (u'cred', 285), (u'\\u201980s', 82), (u'\\u2013', 47), (u'post-apocalypse', 31)]\n",
      "\n",
      "Top metal cred keywords from the 1990s:\n",
      "[(u'metal', 119), (u'cred', 106), (u'soundtrack', 41), (u'black', 9), (u'alice', 8)]\n",
      "\n",
      "Top metal cred keywords from the 2000s:\n",
      "[(u'metal', 188), (u'cred', 162), (u'soundtrack', 51), (u'black', 14), (u'porn', 12)]\n",
      "\n"
     ]
    }
   ],
   "source": [
    "stopwords = [\"the\", \"of\", \"by\", \"and\"]\n",
    "\n",
    "def top_metal_cred_words(begin, end):\n",
    "    mc_word_list = []\n",
    "\n",
    "    query = {\"year\": {\"$gte\": begin, \"$lte\": end}}\n",
    "    projection = {\"metal_cred\": 1, \"year\": 1, \"_id\": 0}\n",
    "\n",
    "    for film in hmm.find(query, projection):\n",
    "        for phrase in film[\"metal_cred\"]:\n",
    "            mc_word_list.extend([clean_str(word) for word in phrase.split()])\n",
    "    \n",
    "    # Filter out the stopwords.\n",
    "    mc_word_list = [word for word in mc_word_list if word not in stopwords]\n",
    "    return Counter(mc_word_list).most_common(5)\n",
    "\n",
    "for year in range(1970, 2010, 10):\n",
    "    print \"Top metal cred keywords from the %is:\" % year\n",
    "    print top_metal_cred_words(year, year + 9)\n",
    "    print"
   ]
  },
  {
   "cell_type": "markdown",
   "metadata": {},
   "source": [
    "### Challenge 5\n",
    "\n",
    "Let's use the length of the METAL CRED section as a proxy for how metal a film is and call it the film's META SCORE. Add a `metal_score` field to each document with the film's METAL SCORE."
   ]
  },
  {
   "cell_type": "code",
   "execution_count": 11,
   "metadata": {
    "collapsed": false
   },
   "outputs": [],
   "source": [
    "for doc in hmm.find({}, {\"metal_cred\": 1}):\n",
    "    metal_score = len(doc[\"metal_cred\"])\n",
    "    hmm.update_one({\"_id\": doc[\"_id\"]}, {\"$set\": {\"metal_score\": metal_score}})"
   ]
  },
  {
   "cell_type": "code",
   "execution_count": 12,
   "metadata": {
    "collapsed": false
   },
   "outputs": [
    {
     "name": "stdout",
     "output_type": "stream",
     "text": [
      "{u'metal_score': 2, u'metal_cred': [u'METAL CRED', u'Few of us were overly hip to the\\nSri Lankan metal scene before this movie.']}\n",
      "{u'metal_score': 3, u'metal_cred': [u'METAL CRED', u'Frank Zappa', u'Nun Desecration']}\n",
      "{u'metal_score': 8, u'metal_cred': [u'METAL CRED', u'Sword and Sorcery', u'Battle Elephants vs. Battle Rhinos', u'Pit of Death', u'Sparta band\\u2014UK', u'Spartan Warrior\\u2014UK', u'Leonidas band\\u2014Argentina', u'Xerxes band\\u2014Switzerland']}\n",
      "{u'metal_score': 5, u'metal_cred': [u'METAL CRED', u'Post-Apocalypse', u'Big Brother', u'1984 album\\u2014Van Halen', u'\\u201cBig Brother\\u201d songs\\u2014A.N.D.,\\nAntischism, Blackhole, Samson, Sed Lex, Soundscape, Thrashsteel, Wintercold']}\n"
     ]
    }
   ],
   "source": [
    "## Little test to take a look at some of our metal scores.\n",
    "for doc in hmm.find({}, {\"metal_cred\": 1, \"metal_score\": 1, \"_id\": 0}).limit(4):\n",
    "    print doc"
   ]
  },
  {
   "cell_type": "markdown",
   "metadata": {},
   "source": [
    "### Challenge 6\n",
    "\n",
    "Find the director that is MOST METAL per movie (director with the highest average metal score). Remember that some movies have multiple directors."
   ]
  },
  {
   "cell_type": "code",
   "execution_count": 13,
   "metadata": {
    "collapsed": false
   },
   "outputs": [
    {
     "name": "stdout",
     "output_type": "stream",
     "text": [
      "{u'film_count': 1, u'_id': u'John Milius', u'avg_metal_score': 75.0}\n",
      "{u'film_count': 1, u'_id': u'David Jacobson', u'avg_metal_score': 27.0}\n",
      "{u'film_count': 1, u'_id': u'Laurence Merrick', u'avg_metal_score': 18.0}\n",
      "{u'film_count': 1, u'_id': u'Robert Hendrickson', u'avg_metal_score': 18.0}\n",
      "{u'film_count': 1, u'_id': u'Tinto Brass', u'avg_metal_score': 13.0}\n"
     ]
    }
   ],
   "source": [
    "cursor = hmm.aggregate([\n",
    "    {\"$unwind\": \"$direct\"},\n",
    "    {\"$group\" : {\n",
    "        \"_id\" : \"$direct\", \n",
    "        \"film_count\": {\"$sum\": 1},\n",
    "        \"avg_metal_score\": {\"$avg\": \"$metal_score\"} \n",
    "    }},\n",
    "    {\"$sort\": {\"avg_metal_score\": -1}},\n",
    "    {\"$limit\": 5}\n",
    "])\n",
    "\n",
    "for most_metal_director in cursor:\n",
    "    print most_metal_director"
   ]
  },
  {
   "cell_type": "code",
   "execution_count": 14,
   "metadata": {
    "collapsed": false
   },
   "outputs": [
    {
     "name": "stdout",
     "output_type": "stream",
     "text": [
      "[u'CONAN THE BARBARIAN (1982)', u'DIRECTOR: John Milius', u'CAST: Arnold Schwarzenegger, Sandahl Bergman, James Earl Jones,']\n",
      "75\n"
     ]
    }
   ],
   "source": [
    "## Double checking the answer. Did this John Milius guy really get such high cred?!\n",
    "\n",
    "for film in hmm.find({\"direct\": \"John Milius\"}):\n",
    "    print film[\"head\"]\n",
    "    #print film[\"metal_cred\"]\n",
    "    print len(film[\"metal_cred\"])"
   ]
  },
  {
   "cell_type": "markdown",
   "metadata": {},
   "source": [
    "### Challenge 7\n",
    "\n",
    "The majority of directors and actors will have worked on a single movie. See if there are any directors that worked with an actor more than once. If so, find the director-actor duo that have worked together the most times."
   ]
  },
  {
   "cell_type": "code",
   "execution_count": 15,
   "metadata": {
    "collapsed": false
   },
   "outputs": [
    {
     "name": "stdout",
     "output_type": "stream",
     "text": [
      "{u'duo_count': 4, u'_id': {u'director': u'Joe D\\u2019Amato', u'actor': u'George Eastman'}}\n",
      "{u'duo_count': 4, u'_id': {u'director': u'Dario Argento', u'actor': u'Daria Nicolodi'}}\n",
      "{u'duo_count': 4, u'_id': {u'director': u'Peter Jackson', u'actor': u'Christopher Lee'}}\n",
      "{u'duo_count': 4, u'_id': {u'director': u'Rob Zombie', u'actor': u'Sheri Moon Zombie'}}\n",
      "{u'duo_count': 3, u'_id': {u'director': u'Bruce Sinofsky', u'actor': u'Jessie Misskelley'}}\n"
     ]
    }
   ],
   "source": [
    "cursor = hmm.aggregate([\n",
    "    {\"$unwind\": \"$direct\"},\n",
    "    {\"$unwind\": \"$cast\"},\n",
    "    {\"$group\": {\n",
    "        \"_id\" : {\"director\" : \"$direct\", \"actor\": \"$cast\"},\n",
    "        \"duo_count\": {\"$sum\": 1 },\n",
    "    }},\n",
    "    {\"$sort\": {\"duo_count\": -1}},\n",
    "    {\"$limit\": 5}\n",
    "])\n",
    "\n",
    "for director_actor_pair in cursor:\n",
    "    print director_actor_pair"
   ]
  },
  {
   "cell_type": "markdown",
   "metadata": {},
   "source": [
    "### Challenge 8\n",
    "\n",
    "Create an index on the 'director' field to make the queries involving it faster. "
   ]
  },
  {
   "cell_type": "code",
   "execution_count": 16,
   "metadata": {
    "collapsed": false
   },
   "outputs": [
    {
     "data": {
      "text/plain": [
       "u'direct_1'"
      ]
     },
     "execution_count": 16,
     "metadata": {},
     "output_type": "execute_result"
    }
   ],
   "source": [
    "hmm.create_index(\"direct\")"
   ]
  },
  {
   "cell_type": "markdown",
   "metadata": {},
   "source": [
    "### Challenge 9 \n",
    "\n",
    "For each decade, make a histogram of metal scores. Also, calculate the average metal score for each decade. Which decade was the most pure metal decade?"
   ]
  },
  {
   "cell_type": "code",
   "execution_count": 17,
   "metadata": {
    "collapsed": false
   },
   "outputs": [
    {
     "name": "stdout",
     "output_type": "stream",
     "text": [
      "Average metal score for the 1970s is 4.58\n",
      "Average metal score for the 1980s is 4.47\n",
      "Average metal score for the 1990s is 3.79\n",
      "Average metal score for the 2000s is 3.59\n"
     ]
    },
    {
     "data": {
      "image/png": "[encoded data removed]",
      "text/plain": [
       "<matplotlib.figure.Figure at 0x10c731c90>"
      ]
     },
     "metadata": {},
     "output_type": "display_data"
    },
    {
     "data": {
      "image/png": "[encoded data removed]",
      "text/plain": [
       "<matplotlib.figure.Figure at 0x10cb63210>"
      ]
     },
     "metadata": {},
     "output_type": "display_data"
    },
    {
     "data": {
      "image/png": "[encoded data removed]",
      "text/plain": [
       "<matplotlib.figure.Figure at 0x10cc07d50>"
      ]
     },
     "metadata": {},
     "output_type": "display_data"
    },
    {
     "data": {
      "image/png": "[encoded data removed]",
      "text/plain": [
       "<matplotlib.figure.Figure at 0x10c01b050>"
      ]
     },
     "metadata": {},
     "output_type": "display_data"
    }
   ],
   "source": [
    "def metal_calculator(begin, end, plot=True):\n",
    "    metal_scores = []\n",
    "\n",
    "    query = {\"year\": {\"$gte\": begin, \"$lte\": end}}\n",
    "    projection = {\"metal_score\": 1, \"year\": 1, \"_id\": 0}\n",
    "\n",
    "    for film in hmm.find(query, projection):\n",
    "        metal_scores.append(film[\"metal_score\"])\n",
    "\n",
    "    if plot:\n",
    "        title = \"Histogram of Metal Scores from the %ds\" % (begin)\n",
    "        fig = plt.figure()\n",
    "        fig.suptitle(title)\n",
    "        plt.hist(metal_scores)\n",
    "        \n",
    "    avg_metal_score = sum(metal_scores) / float(len(metal_scores))\n",
    "    return avg_metal_score\n",
    "\n",
    "for year in range(1970, 2010, 10):\n",
    "    avg_metal_score = metal_calculator(year, year + 9)\n",
    "    print \"Average metal score for the %ds is %.2f\" % (year, avg_metal_score)\n",
    "    \n",
    "## From the results we can clearly see that the most metal decade was the 1970s."
   ]
  }
 ],
 "metadata": {
  "kernelspec": {
   "display_name": "Python 2",
   "language": "python",
   "name": "python2"
  },
  "language_info": {
   "codemirror_mode": {
    "name": "ipython",
    "version": 2
   },
   "file_extension": ".py",
   "mimetype": "text/x-python",
   "name": "python",
   "nbconvert_exporter": "python",
   "pygments_lexer": "ipython2",
   "version": "2.7.10"
  }
 },
 "nbformat": 4,
 "nbformat_minor": 0
}
