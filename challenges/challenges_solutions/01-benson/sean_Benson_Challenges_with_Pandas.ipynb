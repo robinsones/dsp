{
 "cells": [
  {
   "cell_type": "markdown",
   "metadata": {
    "collapsed": true
   },
   "source": [
    "# MTA Turnstile Data Analysis\n",
    "## Benson Challenges\n",
    "### *With Pandas*"
   ]
  },
  {
   "cell_type": "markdown",
   "metadata": {},
   "source": [
    "### Table of Contents:\n",
    " - [**Challenge 1**](#1)\n",
    " - [**Challenge 2**](#2)\n",
    " - [**Challenge 3**](#3)\n",
    " - [**Challenge 4**](#4)\n",
    " - [**Challenge 5**](#5)\n",
    " - [**Challenge 6**](#6)\n",
    " - [**Challenge 7**](#7)\n",
    " - [**Challenge 8**](#8)\n",
    " - [**Challenge 9**](#9)\n",
    " - [**Challenge 10**](#10)"
   ]
  },
  {
   "cell_type": "code",
   "execution_count": 17,
   "metadata": {
    "collapsed": true
   },
   "outputs": [],
   "source": [
    "# Import Dependencies\n",
    "import pandas as pd  #\n",
    "import numpy as np    # Arrays and matrices\n",
    "from GetDataURLs import GetDataURLs\n",
    "import csv\n",
    "import dateutil.parser\n",
    "\n",
    "# For display\n",
    "import pprint\n",
    "import matplotlib.pyplot as plt\n",
    "%matplotlib inline"
   ]
  },
  {
   "cell_type": "markdown",
   "metadata": {},
   "source": [
    "### <a id='1'></a>Challenge 1:"
   ]
  },
  {
   "cell_type": "code",
   "execution_count": 58,
   "metadata": {
    "collapsed": false
   },
   "outputs": [],
   "source": [
    "def download_and_process_raw_data(raw_HTML_data_URLs):\n",
    "    \"\"\"\n",
    "    In: \n",
    "    raw_HTML_data_URLs = A .txt file with unparsed HTML code containing the desired URLs to the data\n",
    "    \n",
    "    Out:\n",
    "    df = A pandas dataframe with the raw data\n",
    "    \"\"\"\n",
    "    \n",
    "    # Parse raw HTML using regular expressions to get URLs to data files\n",
    "    link_list = GetDataURLs(raw_HTML_data_URLs)\n",
    "    \n",
    "    #Split each URL by \"/\" and take the last item to the file name and extension without the past (e.g. \"data.txt\")\n",
    "    file_list = [link.split(\"/\")[-1] for link in link_list]\n",
    "    \n",
    "    all_rows = []\n",
    "    headers = ['C/A', 'UNIT', 'SCP', 'STATION', 'LINENAME', 'DIVISION', 'DATE', 'TIME', 'DESC', 'ENTRIES', 'EXITS']\n",
    "\n",
    "    \n",
    "    for link, file in zip(link_list, file_list):\n",
    "        \"\"\"\n",
    "        Download the raw data\n",
    "        \n",
    "        To save time do this ONLY ONCE, and then comment out!\n",
    "        \"\"\"\n",
    "        # !curl -O http://web.mta.info/developers/$link\n",
    "\n",
    "        # Open files from the \"data\" folder\n",
    "        with open(\"./data/\" + file) as f:\n",
    "            reader = csv.reader(f)\n",
    "            rows = [[cell.strip() for cell in row] for row in reader]\n",
    "\n",
    "        \n",
    "        # Check that the data file headers are correct and remove\n",
    "        assert rows.pop(0) == headers\n",
    "        \n",
    "        for row in rows:\n",
    "            all_rows.append(row)\n",
    "\n",
    "    df = pd.DataFrame(all_rows, columns=headers)\n",
    "    \n",
    "    return df\n",
    "\n",
    "raw_df = download_and_process_raw_data(\"rawHTMLdataURLs.txt\")"
   ]
  },
  {
   "cell_type": "code",
   "execution_count": 60,
   "metadata": {
    "collapsed": false
   },
   "outputs": [],
   "source": [
    "def fix_linename_order(df):\n",
    "    \"\"\"\n",
    "    In:\n",
    "    df = pandas dataframe with raw data\n",
    "    \n",
    "    Out:\n",
    "    Returns pandas dataframe with the order of linename made consistent (e.g. 123ABC instead of 3C12BA)\n",
    "    \"\"\"\n",
    "    df[\"LINENAME\"] = df[\"LINENAME\"].apply(lambda x: \"\".join(sorted([c for c in x])))\n",
    "    return df\n",
    "    \n",
    "processed_df = fix_linename_order(raw_df)"
   ]
  },
  {
   "cell_type": "code",
   "execution_count": 62,
   "metadata": {
    "collapsed": false
   },
   "outputs": [],
   "source": [
    "def make_key(df):\n",
    "    \"\"\"\n",
    "    In:\n",
    "    df = pandas dataframe with fixed linename order\n",
    "    \n",
    "    Out:\n",
    "    Returns pandas dataframe with new KEY field that is a tuple of (\"C/A\", \"UNIT\", \"SCP\", \"STATION\", \"LINENAME\")\n",
    "    \"\"\"\n",
    "    df[\"KEY\"] = tuple(zip(df[\"C/A\"], df[\"UNIT\"], df[\"SCP\"], df[\"STATION\"], df[\"LINENAME\"]))\n",
    "    \n",
    "    return df\n",
    "\n",
    "processed_df = make_key(processed_df)"
   ]
  },
  {
   "cell_type": "markdown",
   "metadata": {},
   "source": [
    "### <a id='2'></a>Challenge 2:"
   ]
  },
  {
   "cell_type": "code",
   "execution_count": 64,
   "metadata": {
    "collapsed": false
   },
   "outputs": [],
   "source": [
    "def add_timestamps(df):\n",
    "    \"\"\"\n",
    "    In:\n",
    "    df = pandas dataframe with fixed linename order, and key\n",
    "    \n",
    "    Out:\n",
    "    Returns pandas dataframe with new DATETIME field that is a datetime of DATE and TIME combined\n",
    "    \"\"\"\n",
    "    df[\"DATETIME\"] = df[\"DATE\"] + \" \" + df[\"TIME\"]\n",
    "    # df[\"DATETIME\"] = pd.to_datetime(df[\"DATETIME\"])\n",
    "    df[\"DATETIME\"] = df[\"DATETIME\"].apply(lambda x: dateutil.parser.parse(x))\n",
    "    \n",
    "    return df\n",
    "\n",
    "processed_df = add_timestamps(processed_df)"
   ]
  },
  {
   "cell_type": "code",
   "execution_count": 124,
   "metadata": {
    "collapsed": false
   },
   "outputs": [],
   "source": [
    "def get_net_entries(df):\n",
    "    \"\"\"\n",
    "    In:\n",
    "    df = dataframe object with TIME and DATE converted to DATETIME for each turnstile measurement\n",
    "    \n",
    "    Out:\n",
    "    new_df = a pandas dataframe with the raw entries totals converted to a net entry count since the previous report\n",
    "    \"\"\"\n",
    "    df[\"ENTRIES\"] = df[\"ENTRIES\"].apply(lambda x: int(x))\n",
    "    all_data_list = []\n",
    "    headers = \"\"\n",
    "    i = 0\n",
    "    \n",
    "    by_turnstile = df.groupby(\"KEY\")\n",
    "    for turnstile, data in by_turnstile:\n",
    "        data = data.sort([\"DATETIME\"])\n",
    "        data[\"SHIFTED\"] = data[\"ENTRIES\"].shift()\n",
    "        data[\"NET_ENTRIES\"] = data[\"ENTRIES\"] - data[\"SHIFTED\"]\n",
    "        data[\"NET_ENTRIES\"].fillna(0, inplace=True)\n",
    "        \n",
    "        if i == 0:\n",
    "            headers = list(data.columns)\n",
    "            i += 1\n",
    "        \n",
    "        data_as_list = data.values.tolist()\n",
    "        for row in data_as_list:\n",
    "            all_data_list.append(row)\n",
    "        \n",
    "    new_df = pd.DataFrame(all_data_list, columns=headers)\n",
    "    return new_df\n",
    "\n",
    "processed_df = get_net_entries(processed_df)"
   ]
  },
  {
   "cell_type": "code",
   "execution_count": 133,
   "metadata": {
    "collapsed": false
   },
   "outputs": [],
   "source": [
    "def remove_entry_count_outliers(df):\n",
    "    \"\"\"\n",
    "    In: \n",
    "    df = processed pandas dataframe with net entry counts rather than raw totals\n",
    "    \n",
    "    Out: \n",
    "    new dictionary removing outliers (negative entries or over 10,000 entries per 4 hours)\n",
    "    \"\"\"\n",
    "    return df[(0 <= df[\"NET_ENTRIES\"]) & (df[\"NET_ENTRIES\"] <= 10000)]\n",
    "\n",
    "outliers_removed_df = remove_entry_count_outliers(processed_df)"
   ]
  },
  {
   "cell_type": "code",
   "execution_count": 137,
   "metadata": {
    "collapsed": false
   },
   "outputs": [],
   "source": [
    "def cleanup_df(df):\n",
    "    \"\"\"\n",
    "    In:\n",
    "    df = processed pandas dataframe with datetimes, net entry counts, and outliers removed \n",
    "    \n",
    "    Out:\n",
    "    Returns a pandas dataframe removing old and unneeded columns\n",
    "    \"\"\"\n",
    "    return df[[\"KEY\", \"DATETIME\", \"NET_ENTRIES\"]]\n",
    "\n",
    "cleaned_df = cleanup_df(outliers_removed_df)"
   ]
  },
  {
   "cell_type": "markdown",
   "metadata": {},
   "source": [
    "### <a id='3'></a>Challenge 3:\n",
    "The counts (for the majority of data points) are for **every 4 hours** (though there are some turnstiles reporting longer or shorter times between reports)."
   ]
  },
  {
   "cell_type": "code",
   "execution_count": 159,
   "metadata": {
    "collapsed": true
   },
   "outputs": [],
   "source": [
    "def datetime_to_date(dt):\n",
    "        \"\"\"\n",
    "        In:\n",
    "        dt = datetime.datetime object\n",
    "        \n",
    "        Out:\n",
    "        date = datetime.date object (unlike .date() converted with error handling)\n",
    "        \"\"\"\n",
    "        try:\n",
    "            date = dt.date()\n",
    "        except AttributeError:\n",
    "            date = dt  # If object is already a date, no need to call .date()\n",
    "        return date"
   ]
  },
  {
   "cell_type": "code",
   "execution_count": 208,
   "metadata": {
    "collapsed": false
   },
   "outputs": [],
   "source": [
    "def roll_up_by_date(df):\n",
    "    \"\"\"\n",
    "    In:\n",
    "    df = processed pandas dataframe with net entry counts rather than raw totals and outliers removed\n",
    "    \n",
    "    Out:\n",
    "    new_df = new pandas dataframe with all the readings within each date combined for each key (turnstile)\n",
    "    \"\"\"    \n",
    "    df[\"DATETIME\"].apply(datetime_to_date)\n",
    "    by_turnstile_and_date = df.groupby([\"KEY\", \"DATETIME\"])\n",
    "    new_df = by_turnstile_and_date[\"NET_ENTRIES\"].sum()            \n",
    "    new_df = pd.DataFrame(new_df)\n",
    "    \n",
    "    new_df.reset_index(level=0, inplace=True)\n",
    "    new_df.reset_index(level=0, inplace=True)\n",
    "    \n",
    "    return new_df\n",
    "\n",
    "grouped_dates_df = roll_up_by_date(cleaned_df)"
   ]
  },
  {
   "cell_type": "markdown",
   "metadata": {
    "collapsed": false
   },
   "source": [
    "### <a id='4'></a>Challenge 4:"
   ]
  },
  {
   "cell_type": "code",
   "execution_count": 180,
   "metadata": {
    "collapsed": false
   },
   "outputs": [],
   "source": [
    "# See begining of file for the \"%matplotlib inline\" and \"import matplotlib.pyplot as plt\"\n",
    "\n",
    "def get_by_date_plot_data(df, k):\n",
    "    \"\"\"\n",
    "    In:\n",
    "    df = pandas dataframe with grouped dates for each turnstile\n",
    "    k = key (e.g. turnstile, station, etc.) whose data you want to plot\n",
    "    \n",
    "    Out:\n",
    "    (dates, counts) = tuple with dates and entry counts for plotting\n",
    "    \"\"\"\n",
    "    sub_df = df[df[\"KEY\"] == k]\n",
    "    \n",
    "    dates = sub_df[\"DATETIME\"].values\n",
    "    counts = sub_df[\"NET_ENTRIES\"].values\n",
    "    return dates, counts"
   ]
  },
  {
   "cell_type": "code",
   "execution_count": 181,
   "metadata": {
    "collapsed": false,
    "scrolled": true
   },
   "outputs": [
    {
     "data": {
      "image/png": "[encoded data removed]",
      "text/plain": [
       "<matplotlib.figure.Figure at 0x27a83ce80>"
      ]
     },
     "metadata": {},
     "output_type": "display_data"
    }
   ],
   "source": [
    "def plot_time_series(datetimes, counts):\n",
    "    \"\"\"\n",
    "    In:\n",
    "    datetimes = list of dates and/or times to plot (x-axis values)\n",
    "    counts = list of counts or other data to plot (y-axis values)\n",
    "    \n",
    "    Out:\n",
    "    Plot of counts by datetime\n",
    "    \"\"\"\n",
    "    plt.figure(figsize=(10,3))\n",
    "    plt.plot(datetimes, counts)\n",
    "    \n",
    "dates, counts = get_by_date_plot_data(grouped_dates_df, grouped_dates_df[\"KEY\"][0])\n",
    "plot_time_series(dates, counts)"
   ]
  },
  {
   "cell_type": "markdown",
   "metadata": {
    "collapsed": true
   },
   "source": [
    "### <a id='5'></a>Challenge 5:"
   ]
  },
  {
   "cell_type": "code",
   "execution_count": 210,
   "metadata": {
    "collapsed": false
   },
   "outputs": [],
   "source": [
    "def roll_up_SCPs(df):\n",
    "    \"\"\"\n",
    "    In:\n",
    "    df = processed pandas dataframe grouped by date for each turnstile\n",
    "    \n",
    "    Out:\n",
    "    new_df = pandas dataframe rolling up individual turnstiles to the (\"C/A\", \"UNIT\", \"STATION\", \"LINENAME\") level\n",
    "    \"\"\"\n",
    "    df[\"SCP\"] = df[\"KEY\"].apply(lambda x: x[2])\n",
    "    df[\"KEY\"] = df[\"KEY\"].apply(lambda x: tuple(x[:2] + x[-2:]))\n",
    "    \n",
    "    # Re-combine dates since there will now be multiple instances of each date again given the SCP roll up\n",
    "    new_df = roll_up_by_date(df) \n",
    "    \n",
    "    return new_df[[\"KEY\", \"DATETIME\", \"NET_ENTRIES\"]]\n",
    "\n",
    "SCPs_rolled_df = roll_up_SCPs(grouped_dates_df)"
   ]
  },
  {
   "cell_type": "markdown",
   "metadata": {},
   "source": [
    "### <a id='6'></a>Challenge 6:"
   ]
  },
  {
   "cell_type": "code",
   "execution_count": 212,
   "metadata": {
    "collapsed": true
   },
   "outputs": [],
   "source": [
    "def roll_up_to_stations(df):\n",
    "    \"\"\"\n",
    "    In:\n",
    "    df = processed pandas dataframe grouped by date with rolled up turnstile SCPs\n",
    "    \n",
    "    Out:\n",
    "    new_df = pandas dataframe rolling up all turnstiles to the STATION - LINENAME\" level\n",
    "    \"\"\"\n",
    "    df[\"C/A_UNIT\"] = df[\"KEY\"].apply(lambda x: x[:2])\n",
    "    df[\"KEY\"] = df[\"KEY\"].apply(lambda x: tuple(x[-2:]))\n",
    "    \n",
    "    # Re-combine dates since there will now be multiple instances of each date again given the SCP roll up\n",
    "    new_df = roll_up_by_date(df) \n",
    "    \n",
    "    return new_df[[\"KEY\", \"DATETIME\", \"NET_ENTRIES\"]]\n",
    "\n",
    "by_station_df = roll_up_to_stations(SCPs_rolled_df)"
   ]
  },
  {
   "cell_type": "markdown",
   "metadata": {},
   "source": [
    "### <a id='7'></a>Challenge 7:"
   ]
  },
  {
   "cell_type": "code",
   "execution_count": 220,
   "metadata": {
    "collapsed": false
   },
   "outputs": [
    {
     "data": {
      "image/png": "[encoded data removed]",
      "text/plain": [
       "<matplotlib.figure.Figure at 0x18fdd5828>"
      ]
     },
     "metadata": {},
     "output_type": "display_data"
    }
   ],
   "source": [
    "dates, counts = get_by_date_plot_data(by_station_df, by_station_df[\"KEY\"][0])\n",
    "plot_time_series(dates, counts)"
   ]
  },
  {
   "cell_type": "markdown",
   "metadata": {},
   "source": [
    "### <a id='8'></a>Challenge 8:"
   ]
  },
  {
   "cell_type": "code",
   "execution_count": null,
   "metadata": {
    "collapsed": false,
    "scrolled": false
   },
   "outputs": [],
   "source": [
    "def split_station_into_weekly_lists(df, station):\n",
    "    \"\"\"\n",
    "    In:\n",
    "    df = processed python dataframe grouped by date, rolled up by station\n",
    "    station = station for which you want get weekly lists of entry counts by day\n",
    "    \n",
    "    Out:\n",
    "    list_of_weekly_entries = list of weekly lists of count of entries (Sunday - Saturday)\n",
    "    \"\"\"\n",
    "    station_df = df[df[\"KEY\"] == station]\n",
    "    station_df[\"DAY\"] = station_df[\"DATETIME\"].apply(lambda x: x.weekday())\n",
    "    station_df[\"NEW_WEEK\"] = station_df[\"DAY\"].apply(lambda x: 1 if x == 6 else 0)\n",
    "    station_df[\"WEEK\"] = station_df[\"NEW_WEEK\"].cumsum()\n",
    "    \n",
    "    by_week = station_df.groupby(\"WEEK\")\n",
    "    list_of_weekly_entries = []\n",
    "    for week, data in by_week:\n",
    "        week_entries = []\n",
    "        week_entries += list(data[\"NET_ENTRIES\"].values)\n",
    "\n",
    "        if week == 0:\n",
    "            days_ahead = 7 - len(week_entries)\n",
    "            week_entries = ([0] * days_ahead) + week_entries\n",
    "        elif len(week_entries) != 7:\n",
    "            days_behind = 7 - len(week_entries)\n",
    "            week_entries = week_entries + ([0] * days_behind)\n",
    "            \n",
    "        list_of_weekly_entries.append(week_entries)\n",
    "    \n",
    "    return list_of_weekly_entries\n",
    "\n",
    "weekly_lists = split_station_into_weekly_lists(by_station_df, by_station_df[\"KEY\"][0])"
   ]
  },
  {
   "cell_type": "code",
   "execution_count": 243,
   "metadata": {
    "collapsed": true
   },
   "outputs": [],
   "source": [
    "def get_by_weekday_plot_data(one_week_list):\n",
    "    \"\"\"\n",
    "    In:\n",
    "    one_week_list = list of counts corresponding to each weekday Sunday - Saturday\n",
    "    \n",
    "    Out:\n",
    "    (weekydays, counts) = tuple of weekday numbers and counts to plot\n",
    "    \"\"\"\n",
    "    # weekdays = [\"Sunday\", \"Monday\", \"Tuesday\", \"Wednesday\", \"Thursday\", \"Friday\", \"Saturday\"]\n",
    "    weekdays = [x + 1 for x in range(7)]\n",
    "    counts = one_week_list\n",
    "    return weekdays, counts"
   ]
  },
  {
   "cell_type": "code",
   "execution_count": 244,
   "metadata": {
    "collapsed": false,
    "scrolled": true
   },
   "outputs": [
    {
     "data": {
      "image/png": "[encoded data removed]",
      "text/plain": [
       "<matplotlib.figure.Figure at 0x2af1c1be0>"
      ]
     },
     "metadata": {},
     "output_type": "display_data"
    }
   ],
   "source": [
    "def plot_weekly_rainbow_chart(weekly_lists):\n",
    "    \"\"\"\n",
    "    In:\n",
    "    weekly_lists = list of weekly lists of count of entries (Sunday - Saturday) to be plotted\n",
    "    \n",
    "    Out:\n",
    "    \"Rainbow\" chart plot\n",
    "    \"\"\"\n",
    "    for week in weekly_lists:\n",
    "        weekdays, counts = get_by_weekday_plot_data(week)\n",
    "        plt.plot(weekdays, counts)\n",
    "\n",
    "plot_weekly_rainbow_chart(weekly_lists)"
   ]
  },
  {
   "cell_type": "markdown",
   "metadata": {},
   "source": [
    "### <a id='9'></a>Challenge 9:"
   ]
  },
  {
   "cell_type": "code",
   "execution_count": 253,
   "metadata": {
    "collapsed": false
   },
   "outputs": [],
   "source": [
    "def roll_all_dates_by_stations(df):\n",
    "    \"\"\"\n",
    "    In:\n",
    "    df = processed pandas dataframe grouped by date with rolled up stations\n",
    "    \n",
    "    Out:\n",
    "    new_df = pandas dataframe with all dates rolled up to a single value for each station\n",
    "    \"\"\"\n",
    "    by_station = df.groupby(\"KEY\")\n",
    "    new_df = by_station[\"NET_ENTRIES\"].sum()\n",
    "    new_df.sort(\"NET_ENTRIES\", ascending=False, inplace=True)\n",
    "    new_df = pd.DataFrame(new_df)\n",
    "    new_df.reset_index(level=0, inplace=True)\n",
    "    return new_df\n",
    "\n",
    "all_dates_rolled = roll_all_dates_by_stations(by_station_df)"
   ]
  },
  {
   "cell_type": "markdown",
   "metadata": {},
   "source": [
    "### <a id='10'></a>Challenge 10:"
   ]
  },
  {
   "cell_type": "code",
   "execution_count": 255,
   "metadata": {
    "collapsed": false
   },
   "outputs": [
    {
     "data": {
      "text/plain": [
       "(array([ 359.,   76.,   16.,    6.,    3.,    3.,    1.,    1.,    1.,    1.]),\n",
       " array([  8.45700000e+03,   1.29658760e+06,   2.58471820e+06,\n",
       "          3.87284880e+06,   5.16097940e+06,   6.44911000e+06,\n",
       "          7.73724060e+06,   9.02537120e+06,   1.03135018e+07,\n",
       "          1.16016324e+07,   1.28897630e+07]),\n",
       " <a list of 10 Patch objects>)"
      ]
     },
     "execution_count": 255,
     "metadata": {},
     "output_type": "execute_result"
    },
    {
     "data": {
      "image/png": "[encoded data removed]",
      "text/plain": [
       "<matplotlib.figure.Figure at 0x12d755a90>"
      ]
     },
     "metadata": {},
     "output_type": "display_data"
    }
   ],
   "source": [
    "counts = all_dates_rolled[\"NET_ENTRIES\"].values\n",
    "plt.hist(counts)"
   ]
  },
  {
   "cell_type": "code",
   "execution_count": 256,
   "metadata": {
    "collapsed": false
   },
   "outputs": [
    {
     "data": {
      "text/plain": [
       "<Container object of 467 artists>"
      ]
     },
     "execution_count": 256,
     "metadata": {},
     "output_type": "execute_result"
    },
    {
     "data": {
      "image/png": "[encoded data removed]",
      "text/plain": [
       "<matplotlib.figure.Figure at 0x12ca990f0>"
      ]
     },
     "metadata": {},
     "output_type": "display_data"
    }
   ],
   "source": [
    "indices = range(1, len(counts) + 1)\n",
    "plt.bar(indices, counts)"
   ]
  },
  {
   "cell_type": "code",
   "execution_count": null,
   "metadata": {
    "collapsed": true
   },
   "outputs": [],
   "source": []
  }
 ],
 "metadata": {
  "kernelspec": {
   "display_name": "Python 3",
   "language": "python",
   "name": "python3"
  },
  "language_info": {
   "codemirror_mode": {
    "name": "ipython",
    "version": 3
   },
   "file_extension": ".py",
   "mimetype": "text/x-python",
   "name": "python",
   "nbconvert_exporter": "python",
   "pygments_lexer": "ipython3",
   "version": "3.4.3"
  }
 },
 "nbformat": 4,
 "nbformat_minor": 0
}
