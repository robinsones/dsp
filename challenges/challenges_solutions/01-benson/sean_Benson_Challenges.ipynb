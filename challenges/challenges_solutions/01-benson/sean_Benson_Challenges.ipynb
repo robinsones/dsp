{
 "cells": [
  {
   "cell_type": "markdown",
   "metadata": {
    "collapsed": true
   },
   "source": [
    "# MTA Turnstile Data Analysis\n",
    "## Benson Challenges"
   ]
  },
  {
   "cell_type": "markdown",
   "metadata": {},
   "source": [
    "### Table of Contents:\n",
    " - [**Challenge 1**](#1)\n",
    " - [**Challenge 2**](#2)\n",
    " - [**Challenge 3**](#3)\n",
    " - [**Challenge 4**](#4)\n",
    " - [**Challenge 5**](#5)\n",
    " - [**Challenge 6**](#6)\n",
    " - [**Challenge 7**](#7)\n",
    " - [**Challenge 8**](#8)\n",
    " - [**Challenge 9**](#9)\n",
    " - [**Challenge 10**](#10)"
   ]
  },
  {
   "cell_type": "code",
   "execution_count": 2,
   "metadata": {
    "collapsed": true
   },
   "outputs": [],
   "source": [
    "# Import Dependencies\n",
    "from GetDataURLs import GetDataURLs\n",
    "import csv\n",
    "from collections import defaultdict\n",
    "import dateutil.parser\n",
    "\n",
    "# For display\n",
    "import pprint\n",
    "import matplotlib.pyplot as plt\n",
    "%matplotlib inline"
   ]
  },
  {
   "cell_type": "markdown",
   "metadata": {},
   "source": [
    "### <a id='1'></a>Challenge 1:"
   ]
  },
  {
   "cell_type": "code",
   "execution_count": 6,
   "metadata": {
    "collapsed": false
   },
   "outputs": [],
   "source": [
    "def download_and_process_raw_data(raw_HTML_data_URLs):\n",
    "    \"\"\"\n",
    "    In: \n",
    "    raw_HTML_data_URLs = A .txt file with unparsed HTML code containing the desired URLs to the data\n",
    "    \n",
    "    Out:\n",
    "    raw_data_dict = A dictionary of the raw data with keys as a tuple: (\"C/A\", \"UNIT\", \"SCP\", \"STATION - LINENAME\")\n",
    "    \"\"\"\n",
    "    \n",
    "    # Parse raw HTML using regular expressions to get URLs to data files\n",
    "    link_list = GetDataURLs(raw_HTML_data_URLs)\n",
    "    \n",
    "    #Split each URL by \"/\" and take the last item to the file name and extension without the past (e.g. \"data.txt\")\n",
    "    file_list = [link.split(\"/\")[-1] for link in link_list]\n",
    "    \n",
    "    raw_data_dict = {}\n",
    "    \n",
    "    for link, file in zip(link_list, file_list):\n",
    "        \"\"\"\n",
    "        Download the raw data\n",
    "        \n",
    "        To save time do this ONLY ONCE, and then comment out!\n",
    "        \"\"\"\n",
    "        # !curl -O http://web.mta.info/developers/$link\n",
    "\n",
    "        # Open files from the \"data\" folder\n",
    "        with open(\"./data/\" + file) as f:\n",
    "            reader = csv.reader(f)\n",
    "            rows = [[cell.strip() for cell in row] for row in reader]\n",
    "\n",
    "        \n",
    "        # Check that the data file headers are correct and remove\n",
    "        assert rows.pop(0) == ['C/A', 'UNIT', 'SCP', 'STATION', 'LINENAME',\n",
    "                           'DIVISION', 'DATE', 'TIME', 'DESC', 'ENTRIES',\n",
    "                           'EXITS']\n",
    "\n",
    "        for row in rows:\n",
    "            # Make key, appending LINENAME to STATION after sorting the characters in LINENAME to ensure consistency\n",
    "            dict_key = tuple([row[0], row[1], row[2], row[3] + \" - \" + \"\".join(sorted([c for c in row[4]]))])\n",
    "            \n",
    "            raw_data_dict.setdefault(dict_key, []).append(row[4:])\n",
    "\n",
    "    return raw_data_dict\n",
    "\n",
    "raw_data_dict = download_and_process_raw_data(\"rawHTMLdataURLs.txt\")"
   ]
  },
  {
   "cell_type": "markdown",
   "metadata": {},
   "source": [
    "### <a id='2'></a>Challenge 2:"
   ]
  },
  {
   "cell_type": "code",
   "execution_count": 8,
   "metadata": {
    "collapsed": false
   },
   "outputs": [],
   "source": [
    "def raw_dict_to_datetime_and_entries(d):\n",
    "    \"\"\"\n",
    "    In:\n",
    "    d = raw data dictionary\n",
    "    \n",
    "    Out:\n",
    "    new_dict = new dictionary with date and time strings combined and converted to dateime, \n",
    "               and turnstile entries converted from raw total to net new entries (integer)\n",
    "    \"\"\"\n",
    "    new_dict = defaultdict()\n",
    "    \n",
    "    for k, lst in d.items():\n",
    "        \n",
    "        new_dict[k] = []\n",
    "        \n",
    "        for data_row in lst:\n",
    "            # Find dates and time data points and combine into one\n",
    "            datetime_str = str(data_row[2]) + \" \" + str(data_row[3])\n",
    "            \n",
    "            # Use dateutil to convert to datetime\n",
    "            new_date = dateutil.parser.parse(datetime_str)\n",
    "            \n",
    "            #Get turnstile entries count and convert to integer\n",
    "            entries = int(data_row[5])\n",
    "            \n",
    "            # Append datetime and entries to new data row list\n",
    "            new_data_row = []\n",
    "            new_data_row.append(new_date)\n",
    "            new_data_row.append(entries)\n",
    "            \n",
    "            # Append new data row list to new dict. under the key\n",
    "            new_dict[k].append(new_data_row)\n",
    "            \n",
    "    for k, lst in new_dict.items():\n",
    "        lst = sorted(lst, key=lambda x: x[0])\n",
    "        \n",
    "        for i, data_row in enumerate(lst):\n",
    "            if i == 0:\n",
    "                data_row.append(0)\n",
    "            else:\n",
    "                data_row.append(lst[i][1] - lst[i-1][1])\n",
    "            \n",
    "        for data_row in lst:\n",
    "            data_row.pop(-2)\n",
    "    \n",
    "    return new_dict\n",
    "\n",
    "processed_dict = raw_dict_to_datetime_and_entries(raw_data_dict)"
   ]
  },
  {
   "cell_type": "code",
   "execution_count": 10,
   "metadata": {
    "collapsed": true
   },
   "outputs": [],
   "source": [
    "def remove_entry_count_outliers(d):\n",
    "    \"\"\"\n",
    "    In: \n",
    "    d = processed dictionary with net entry counts rather than raw totals\n",
    "    \n",
    "    Out: \n",
    "    new dictionary removing outliers (negative entries or over 10,000 entries per 4 hours)\n",
    "    \"\"\"\n",
    "    return {turnstile: [(time, count) for (time, count) in rows if 0 <= count <= 10000]\n",
    "                for turnstile, rows in d.items()}\n",
    "\n",
    "processed_dict = remove_entry_count_outliers(processed_dict)"
   ]
  },
  {
   "cell_type": "markdown",
   "metadata": {},
   "source": [
    "### <a id='3'></a>Challenge 3:\n",
    "The counts (for the majority of data points) are for **every 4 hours** (though there are some turnstiles reporting longer or shorter times between reports)."
   ]
  },
  {
   "cell_type": "code",
   "execution_count": 16,
   "metadata": {
    "collapsed": false
   },
   "outputs": [],
   "source": [
    "def roll_up_by_date(d):\n",
    "    \"\"\"\n",
    "    In:\n",
    "    d = processed dictionary with net entry counts rather than raw totals and outliers removed\n",
    "    \n",
    "    Out:\n",
    "    new_dict = new dictionary with all the readings within each date combined for each key (turnstile)\n",
    "    \"\"\"\n",
    "    new_dict = defaultdict()\n",
    "    for k, list_of_lists in d.items():\n",
    "        sorted_LoL = sorted(list_of_lists)  # Sort so that dates are in order\n",
    "        \n",
    "        new_dict[k] = []\n",
    "        \n",
    "        last_date = \"\"\n",
    "        total = 0\n",
    "        \n",
    "        for i, data_list in enumerate(sorted_LoL):\n",
    "            try:\n",
    "                date = data_list[0].date()\n",
    "            except AttributeError:\n",
    "                date = data_list[0]  # If object is already a date, no need to call .date()\n",
    "            entries = data_list[1]\n",
    "            \n",
    "            if i == 0:\n",
    "                last_date = date\n",
    "            \n",
    "            if date == last_date:\n",
    "                total += entries\n",
    "            else:\n",
    "                new_dict[k].append([last_date, total])\n",
    "                last_date = date\n",
    "                total = entries\n",
    "                \n",
    "        new_dict[k].append([last_date, total])\n",
    "                \n",
    "    return new_dict\n",
    "\n",
    "grouped_dates_dict = roll_up_by_date(processed_dict)"
   ]
  },
  {
   "cell_type": "markdown",
   "metadata": {
    "collapsed": false
   },
   "source": [
    "### <a id='4'></a>Challenge 4:"
   ]
  },
  {
   "cell_type": "code",
   "execution_count": 18,
   "metadata": {
    "collapsed": false
   },
   "outputs": [],
   "source": [
    "# See begining of file for the \"%matplotlib inline\" and \"import matplotlib.pyplot as plt\"\n",
    "\n",
    "def get_by_date_plot_data(d, k):\n",
    "    \"\"\"\n",
    "    In:\n",
    "    d = dictionary with grouped dates for each turnstile\n",
    "    k = key (e.g. turnstile, station, etc.) whose data you want to plot\n",
    "    \n",
    "    Out:\n",
    "    (dates, counts) = tuple with dates and entry counts for plotting\n",
    "    \"\"\"\n",
    "    dates = [x[0] for x in d[k]]\n",
    "    counts = [x[1] for x in d[k]]\n",
    "    return dates, counts"
   ]
  },
  {
   "cell_type": "code",
   "execution_count": 19,
   "metadata": {
    "collapsed": false,
    "scrolled": true
   },
   "outputs": [
    {
     "data": {
      "image/png": "[encoded data removed]",
      "text/plain": [
       "<matplotlib.figure.Figure at 0x117fd5198>"
      ]
     },
     "metadata": {},
     "output_type": "display_data"
    }
   ],
   "source": [
    "def plot_time_series(datetimes, counts):\n",
    "    \"\"\"\n",
    "    In:\n",
    "    datetimes = list of dates and/or times to plot (x-axis values)\n",
    "    counts = list of counts or other data to plot (y-axis values)\n",
    "    \n",
    "    Out:\n",
    "    Plot of counts by datetime\n",
    "    \"\"\"\n",
    "    plt.figure(figsize=(10,3))\n",
    "    plt.plot(datetimes, counts)\n",
    "    \n",
    "dates, counts = get_by_date_plot_data(grouped_dates_dict, list(grouped_dates_dict.keys())[0])\n",
    "plot_time_series(dates, counts)"
   ]
  },
  {
   "cell_type": "markdown",
   "metadata": {
    "collapsed": true
   },
   "source": [
    "### <a id='5'></a>Challenge 5:"
   ]
  },
  {
   "cell_type": "code",
   "execution_count": 20,
   "metadata": {
    "collapsed": false
   },
   "outputs": [],
   "source": [
    "def roll_up_SCPs(d):\n",
    "    \"\"\"\n",
    "    In:\n",
    "    d = processed dictionary grouped by date for each turnstile\n",
    "    \n",
    "    Out:\n",
    "    new_dict = dictionary rolling up individual turnstiles to the (\"C/A\", \"UNIT\", \"STATION - LINENAME\") level\n",
    "    \"\"\"\n",
    "    new_dict = defaultdict()\n",
    "    \n",
    "    for k, list_of_lists in d.items():\n",
    "        new_key = tuple(k[:2] + (k[3],))\n",
    "        try:\n",
    "            new_dict[new_key] += list_of_lists\n",
    "        except KeyError:\n",
    "            # if there is no entry for this key, make one\n",
    "            new_dict[new_key] = list_of_lists\n",
    "        \n",
    "    # Re-combine dates since there will now be multiple instances of each date again given the SCP roll up\n",
    "    new_dict = roll_up_by_date(new_dict)\n",
    "    \n",
    "    return new_dict\n",
    "\n",
    "SCPs_rolled_dict = roll_up_SCPs(grouped_dates_dict)"
   ]
  },
  {
   "cell_type": "markdown",
   "metadata": {},
   "source": [
    "### <a id='6'></a>Challenge 6:"
   ]
  },
  {
   "cell_type": "code",
   "execution_count": 22,
   "metadata": {
    "collapsed": true
   },
   "outputs": [],
   "source": [
    "def roll_up_to_stations(d):\n",
    "    \"\"\"\n",
    "    In:\n",
    "    d = processed dictionary grouped by date with rolled up turnstile SCPs\n",
    "    \n",
    "    Out:\n",
    "    new_dict = dictionary rolling up all turnstiles to the STATION - LINENAME\" level\n",
    "    \"\"\"\n",
    "    new_dict = defaultdict()\n",
    "    \n",
    "    for k, list_of_lists in d.items():\n",
    "        new_key = k[2]  # \"STATION - LINENAME\"\n",
    "        try:\n",
    "            new_dict[new_key] += list_of_lists\n",
    "        except KeyError:\n",
    "            # if there is no entry for this key, make one\n",
    "            new_dict[new_key] = list_of_lists\n",
    "        \n",
    "    # Re-combine dates since there will now be multiple instances of each date again given the roll up\n",
    "    new_dict = roll_up_by_date(new_dict)\n",
    "    \n",
    "    return new_dict\n",
    "\n",
    "by_station_dict = roll_up_to_stations(SCPs_rolled_dict)"
   ]
  },
  {
   "cell_type": "markdown",
   "metadata": {},
   "source": [
    "### <a id='7'></a>Challenge 7:"
   ]
  },
  {
   "cell_type": "code",
   "execution_count": 24,
   "metadata": {
    "collapsed": false
   },
   "outputs": [
    {
     "data": {
      "image/png": "[encoded data removed]",
      "text/plain": [
       "<matplotlib.figure.Figure at 0x117f219b0>"
      ]
     },
     "metadata": {},
     "output_type": "display_data"
    }
   ],
   "source": [
    "dates, counts = get_by_date_plot_data(by_station_dict, list(by_station_dict.keys())[0])\n",
    "plot_time_series(dates, counts)"
   ]
  },
  {
   "cell_type": "markdown",
   "metadata": {},
   "source": [
    "### <a id='8'></a>Challenge 8:"
   ]
  },
  {
   "cell_type": "code",
   "execution_count": 27,
   "metadata": {
    "collapsed": false
   },
   "outputs": [],
   "source": [
    "def split_station_into_weekly_lists(d, station):\n",
    "    \"\"\"\n",
    "    In:\n",
    "    d = processed dictionary grouped by date, rolled up by station\n",
    "    station = station for which you want get weekly lists of entry counts by day\n",
    "    \n",
    "    Out:\n",
    "    list_of_weekly_entries = list of weekly lists of count of entries (Sunday - Saturday)\n",
    "    \"\"\"\n",
    "    list_of_weekly_entries = []\n",
    "    week_entries = []\n",
    "    \n",
    "    for i, data_list in enumerate(sorted(d[station])):  # Sort to make sure dates are in order\n",
    "        date = data_list[0]\n",
    "        weekday = date.weekday()  # Returns weekday number where 0 = Monday\n",
    "        entries = data_list[1]\n",
    "        \n",
    "        if (i == 0) and (weekday != 6):  # If first item in list and weekday is NOT Sunday\n",
    "            days_ahead = (7 + weekday) - 6\n",
    "            for i in range(days_ahead):\n",
    "                week_entries.append(0)\n",
    "        \n",
    "        week_entries.append(entries)\n",
    "        \n",
    "        if (weekday == 5):  # If Saturday (last day in week)\n",
    "            list_of_weekly_entries.append(week_entries)\n",
    "            week_entries = []\n",
    "        \n",
    "    last_week_len = len(week_entries)\n",
    "    if last_week_len != 0:\n",
    "        for i in range(7 - last_week_len):\n",
    "            week_entries.append(0)\n",
    "\n",
    "    list_of_weekly_entries.append(week_entries)\n",
    "    \n",
    "    return list_of_weekly_entries\n",
    "\n",
    "weekly_lists = split_station_into_weekly_lists(by_station_dict, list(by_station_dict.keys())[0])"
   ]
  },
  {
   "cell_type": "code",
   "execution_count": 29,
   "metadata": {
    "collapsed": true
   },
   "outputs": [],
   "source": [
    "def get_by_weekday_plot_data(one_week_list):\n",
    "    \"\"\"\n",
    "    In:\n",
    "    one_week_list = list of counts corresponding to each weekday Sunday - Saturday\n",
    "    \n",
    "    Out:\n",
    "    (weekydays, counts) = tuple of weekday numbers and counts to plot\n",
    "    \"\"\"\n",
    "    # weekdays = [\"Sunday\", \"Monday\", \"Tuesday\", \"Wednesday\", \"Thursday\", \"Friday\", \"Saturday\"]\n",
    "    weekdays = [x + 1 for x in range(7)]\n",
    "    counts = one_week_list\n",
    "    return weekdays, counts"
   ]
  },
  {
   "cell_type": "code",
   "execution_count": 30,
   "metadata": {
    "collapsed": false,
    "scrolled": true
   },
   "outputs": [
    {
     "data": {
      "image/png": "[encoded data removed]",
      "text/plain": [
       "<matplotlib.figure.Figure at 0x128b21390>"
      ]
     },
     "metadata": {},
     "output_type": "display_data"
    }
   ],
   "source": [
    "def plot_weekly_rainbow_chart(weekly_lists):\n",
    "    \"\"\"\n",
    "    In:\n",
    "    weekly_lists = list of weekly lists of count of entries (Sunday - Saturday) to be plotted\n",
    "    \n",
    "    Out:\n",
    "    \"Rainbow\" chart plot\n",
    "    \"\"\"\n",
    "    for week in weekly_lists:\n",
    "        weekdays, counts = get_by_weekday_plot_data(week)\n",
    "        plt.plot(weekdays, counts)\n",
    "\n",
    "plot_weekly_rainbow_chart(weekly_lists)"
   ]
  },
  {
   "cell_type": "markdown",
   "metadata": {},
   "source": [
    "### <a id='9'></a>Challenge 9:"
   ]
  },
  {
   "cell_type": "code",
   "execution_count": 31,
   "metadata": {
    "collapsed": false
   },
   "outputs": [],
   "source": [
    "def roll_all_dates_by_stations(d):\n",
    "    \"\"\"\n",
    "    In:\n",
    "    d = processed dictionary grouped by date with rolled up stations\n",
    "    \n",
    "    Out:\n",
    "    Dictionary with all dates rolled up to a single value for each station\n",
    "    \"\"\"\n",
    "    return {k: sum([lst[1] for lst in LoLs]) for k, LoLs in d.items()}\n",
    "\n",
    "all_dates_rolled = sorted(roll_all_dates_by_stations(by_station_dict).items(), key=lambda x: x[1], reverse=True)"
   ]
  },
  {
   "cell_type": "markdown",
   "metadata": {},
   "source": [
    "### <a id='10'></a>Challenge 10:"
   ]
  },
  {
   "cell_type": "code",
   "execution_count": 34,
   "metadata": {
    "collapsed": false
   },
   "outputs": [
    {
     "data": {
      "text/plain": [
       "(array([ 359.,   76.,   16.,    6.,    3.,    3.,    1.,    1.,    1.,    1.]),\n",
       " array([  8.45700000e+03,   1.29658760e+06,   2.58471820e+06,\n",
       "          3.87284880e+06,   5.16097940e+06,   6.44911000e+06,\n",
       "          7.73724060e+06,   9.02537120e+06,   1.03135018e+07,\n",
       "          1.16016324e+07,   1.28897630e+07]),\n",
       " <a list of 10 Patch objects>)"
      ]
     },
     "execution_count": 34,
     "metadata": {},
     "output_type": "execute_result"
    },
    {
     "data": {
      "image/png": "[encoded data removed]",
      "text/plain": [
       "<matplotlib.figure.Figure at 0x10a4322e8>"
      ]
     },
     "metadata": {},
     "output_type": "display_data"
    }
   ],
   "source": [
    "counts = [count for station, count in all_dates_rolled]\n",
    "plt.hist(counts)"
   ]
  },
  {
   "cell_type": "code",
   "execution_count": 35,
   "metadata": {
    "collapsed": false
   },
   "outputs": [
    {
     "data": {
      "text/plain": [
       "<Container object of 467 artists>"
      ]
     },
     "execution_count": 35,
     "metadata": {},
     "output_type": "execute_result"
    },
    {
     "data": {
      "image/png": "[encoded data removed]",
      "text/plain": [
       "<matplotlib.figure.Figure at 0x1347360f0>"
      ]
     },
     "metadata": {},
     "output_type": "display_data"
    }
   ],
   "source": [
    "indices = range(1, len(counts) + 1)\n",
    "plt.bar(indices, counts)"
   ]
  },
  {
   "cell_type": "code",
   "execution_count": null,
   "metadata": {
    "collapsed": true
   },
   "outputs": [],
   "source": []
  }
 ],
 "metadata": {
  "kernelspec": {
   "display_name": "Python 3",
   "language": "python",
   "name": "python3"
  },
  "language_info": {
   "codemirror_mode": {
    "name": "ipython",
    "version": 3
   },
   "file_extension": ".py",
   "mimetype": "text/x-python",
   "name": "python",
   "nbconvert_exporter": "python",
   "pygments_lexer": "ipython3",
   "version": "3.4.3"
  }
 },
 "nbformat": 4,
 "nbformat_minor": 0
}
