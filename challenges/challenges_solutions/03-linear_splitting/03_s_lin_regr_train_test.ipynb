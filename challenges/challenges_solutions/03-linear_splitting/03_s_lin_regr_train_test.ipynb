{
 "cells": [
  {
   "cell_type": "markdown",
   "metadata": {},
   "source": [
    "## Challenge Set 3\n",
    "## Linear Regression and Train/Test Split\n"
   ]
  },
  {
   "cell_type": "markdown",
   "metadata": {},
   "source": [
    "### Table of Contents \n",
    "\n",
    "Ideally, try these with your own data! (Alternatively, there is the 2013_movies.csv data set.)\n",
    "\n",
    "[Challenge01](#1) \n",
    "\n",
    "[Challenge02](#2) \n",
    "\n",
    "[Challenge03](#3) \n",
    "\n",
    "[Challenge04](#4) \n",
    "\n",
    "[Challenge05](#5) "
   ]
  },
  {
   "cell_type": "markdown",
   "metadata": {},
   "source": [
    "---"
   ]
  },
  {
   "cell_type": "code",
   "execution_count": 1,
   "metadata": {
    "collapsed": false
   },
   "outputs": [
    {
     "name": "stdout",
     "output_type": "stream",
     "text": [
      "Populating the interactive namespace from numpy and matplotlib\n"
     ]
    }
   ],
   "source": [
    "% pylab inline"
   ]
  },
  {
   "cell_type": "code",
   "execution_count": 106,
   "metadata": {
    "collapsed": false
   },
   "outputs": [],
   "source": [
    "import pandas as pd\n",
    "import statsmodels.formula.api as sm\n",
    "\n",
    "movies = pd.read_csv('2013_movies.csv', parse_dates={'Date':['ReleaseDate']})\n",
    "# Adding Our Constants.. \n",
    "movies['ones']=1"
   ]
  },
  {
   "cell_type": "code",
   "execution_count": 29,
   "metadata": {
    "collapsed": false
   },
   "outputs": [
    {
     "data": {
      "text/html": [
       "<div style=\"max-height:1000px;max-width:1500px;overflow:auto;\">\n",
       "<table border=\"1\" class=\"dataframe\">\n",
       "  <thead>\n",
       "    <tr style=\"text-align: right;\">\n",
       "      <th></th>\n",
       "      <th>Date</th>\n",
       "      <th>Title</th>\n",
       "      <th>Budget</th>\n",
       "      <th>DomesticTotalGross</th>\n",
       "      <th>Director</th>\n",
       "      <th>Rating</th>\n",
       "      <th>Runtime</th>\n",
       "      <th>ones</th>\n",
       "    </tr>\n",
       "  </thead>\n",
       "  <tbody>\n",
       "    <tr>\n",
       "      <th>0</th>\n",
       "      <td>2013-11-22</td>\n",
       "      <td>The Hunger Games: Catching Fire</td>\n",
       "      <td>130000000</td>\n",
       "      <td>424668047</td>\n",
       "      <td>Francis Lawrence</td>\n",
       "      <td>PG-13</td>\n",
       "      <td>146</td>\n",
       "      <td>1</td>\n",
       "    </tr>\n",
       "    <tr>\n",
       "      <th>1</th>\n",
       "      <td>2013-05-03</td>\n",
       "      <td>Iron Man 3</td>\n",
       "      <td>200000000</td>\n",
       "      <td>409013994</td>\n",
       "      <td>Shane Black</td>\n",
       "      <td>PG-13</td>\n",
       "      <td>129</td>\n",
       "      <td>1</td>\n",
       "    </tr>\n",
       "    <tr>\n",
       "      <th>2</th>\n",
       "      <td>2013-11-22</td>\n",
       "      <td>Frozen</td>\n",
       "      <td>150000000</td>\n",
       "      <td>400738009</td>\n",
       "      <td>Chris BuckJennifer Lee</td>\n",
       "      <td>PG</td>\n",
       "      <td>108</td>\n",
       "      <td>1</td>\n",
       "    </tr>\n",
       "    <tr>\n",
       "      <th>3</th>\n",
       "      <td>2013-07-03</td>\n",
       "      <td>Despicable Me 2</td>\n",
       "      <td>76000000</td>\n",
       "      <td>368061265</td>\n",
       "      <td>Pierre CoffinChris Renaud</td>\n",
       "      <td>PG</td>\n",
       "      <td>98</td>\n",
       "      <td>1</td>\n",
       "    </tr>\n",
       "    <tr>\n",
       "      <th>4</th>\n",
       "      <td>2013-06-14</td>\n",
       "      <td>Man of Steel</td>\n",
       "      <td>225000000</td>\n",
       "      <td>291045518</td>\n",
       "      <td>Zack Snyder</td>\n",
       "      <td>PG-13</td>\n",
       "      <td>143</td>\n",
       "      <td>1</td>\n",
       "    </tr>\n",
       "  </tbody>\n",
       "</table>\n",
       "</div>"
      ],
      "text/plain": [
       "        Date                            Title     Budget  DomesticTotalGross  \\\n",
       "0 2013-11-22  The Hunger Games: Catching Fire  130000000           424668047   \n",
       "1 2013-05-03                       Iron Man 3  200000000           409013994   \n",
       "2 2013-11-22                           Frozen  150000000           400738009   \n",
       "3 2013-07-03                  Despicable Me 2   76000000           368061265   \n",
       "4 2013-06-14                     Man of Steel  225000000           291045518   \n",
       "\n",
       "                    Director Rating  Runtime  ones  \n",
       "0           Francis Lawrence  PG-13      146     1  \n",
       "1                Shane Black  PG-13      129     1  \n",
       "2     Chris BuckJennifer Lee     PG      108     1  \n",
       "3  Pierre CoffinChris Renaud     PG       98     1  \n",
       "4                Zack Snyder  PG-13      143     1  "
      ]
     },
     "execution_count": 29,
     "metadata": {},
     "output_type": "execute_result"
    }
   ],
   "source": [
    "movies.head()"
   ]
  },
  {
   "cell_type": "markdown",
   "metadata": {},
   "source": [
    "### <a id='1'></a> Challenge 1"
   ]
  },
  {
   "cell_type": "markdown",
   "metadata": {},
   "source": [
    "Build a linear model that uses only a constant term (a column of ones) to predict a continuous outcome (like domestic total gross). How can you interpret the results of this model? What does it predict? Make a plot of predictions against actual outcome. Make a histogram of residuals. How are the residuals distributed?"
   ]
  },
  {
   "cell_type": "code",
   "execution_count": 35,
   "metadata": {
    "collapsed": false
   },
   "outputs": [],
   "source": [
    "# Part One ~ Use only constants for prediction\n",
    "def train_model(dataframe, explanatory_vars, outcome_var):\n",
    "    X = dataframe[explanatory_vars]\n",
    "    Y = dataframe[outcome_var]\n",
    "    model = smf.OLS(Y, X).fit()\n",
    "    return model\n",
    "\n",
    "\n",
    "lin_model = train_model(movies, ['ones'], 'DomesticTotalGross')"
   ]
  },
  {
   "cell_type": "code",
   "execution_count": 7,
   "metadata": {
    "collapsed": false
   },
   "outputs": [
    {
     "name": "stdout",
     "output_type": "stream",
     "text": [
      "<statsmodels.regression.linear_model.RegressionResultsWrapper object at 0x108ea23d0>\n"
     ]
    }
   ],
   "source": [
    "print lin_model"
   ]
  },
  {
   "cell_type": "code",
   "execution_count": 39,
   "metadata": {
    "collapsed": false
   },
   "outputs": [],
   "source": [
    "\n",
    "# Plotting predictions for linear model\n",
    "\n",
    "def plot_predictions(X, Y, model,new_series):\n",
    "    plt.plot(model.predict(X),Y,'go')\n",
    "    # plot actual\n",
    "    plt.xlabel('Predicted Outcome Var')\n",
    "    plt.ylabel('Actual Outcome Var')\n",
    "    new_series=model.predict(X)\n",
    "    return new_series"
   ]
  },
  {
   "cell_type": "code",
   "execution_count": 11,
   "metadata": {
    "collapsed": false
   },
   "outputs": [
    {
     "data": {
      "text/html": [
       "<div style=\"max-height:1000px;max-width:1500px;overflow:auto;\">\n",
       "<table border=\"1\" class=\"dataframe\">\n",
       "  <thead>\n",
       "    <tr style=\"text-align: right;\">\n",
       "      <th></th>\n",
       "      <th>Date</th>\n",
       "      <th>Title</th>\n",
       "      <th>Budget</th>\n",
       "      <th>DomesticTotalGross</th>\n",
       "      <th>Director</th>\n",
       "      <th>Rating</th>\n",
       "      <th>Runtime</th>\n",
       "      <th>ones</th>\n",
       "      <th>predict</th>\n",
       "    </tr>\n",
       "  </thead>\n",
       "  <tbody>\n",
       "    <tr>\n",
       "      <th>0</th>\n",
       "      <td>2013-11-22</td>\n",
       "      <td>The Hunger Games: Catching Fire</td>\n",
       "      <td>130000000</td>\n",
       "      <td>424668047</td>\n",
       "      <td>Francis Lawrence</td>\n",
       "      <td>PG-13</td>\n",
       "      <td>146</td>\n",
       "      <td>1</td>\n",
       "      <td>1.005969e+08</td>\n",
       "    </tr>\n",
       "    <tr>\n",
       "      <th>1</th>\n",
       "      <td>2013-05-03</td>\n",
       "      <td>Iron Man 3</td>\n",
       "      <td>200000000</td>\n",
       "      <td>409013994</td>\n",
       "      <td>Shane Black</td>\n",
       "      <td>PG-13</td>\n",
       "      <td>129</td>\n",
       "      <td>1</td>\n",
       "      <td>1.005969e+08</td>\n",
       "    </tr>\n",
       "    <tr>\n",
       "      <th>2</th>\n",
       "      <td>2013-11-22</td>\n",
       "      <td>Frozen</td>\n",
       "      <td>150000000</td>\n",
       "      <td>400738009</td>\n",
       "      <td>Chris BuckJennifer Lee</td>\n",
       "      <td>PG</td>\n",
       "      <td>108</td>\n",
       "      <td>1</td>\n",
       "      <td>1.005969e+08</td>\n",
       "    </tr>\n",
       "    <tr>\n",
       "      <th>3</th>\n",
       "      <td>2013-07-03</td>\n",
       "      <td>Despicable Me 2</td>\n",
       "      <td>76000000</td>\n",
       "      <td>368061265</td>\n",
       "      <td>Pierre CoffinChris Renaud</td>\n",
       "      <td>PG</td>\n",
       "      <td>98</td>\n",
       "      <td>1</td>\n",
       "      <td>1.005969e+08</td>\n",
       "    </tr>\n",
       "    <tr>\n",
       "      <th>4</th>\n",
       "      <td>2013-06-14</td>\n",
       "      <td>Man of Steel</td>\n",
       "      <td>225000000</td>\n",
       "      <td>291045518</td>\n",
       "      <td>Zack Snyder</td>\n",
       "      <td>PG-13</td>\n",
       "      <td>143</td>\n",
       "      <td>1</td>\n",
       "      <td>1.005969e+08</td>\n",
       "    </tr>\n",
       "  </tbody>\n",
       "</table>\n",
       "</div>"
      ],
      "text/plain": [
       "        Date                            Title     Budget  DomesticTotalGross  \\\n",
       "0 2013-11-22  The Hunger Games: Catching Fire  130000000           424668047   \n",
       "1 2013-05-03                       Iron Man 3  200000000           409013994   \n",
       "2 2013-11-22                           Frozen  150000000           400738009   \n",
       "3 2013-07-03                  Despicable Me 2   76000000           368061265   \n",
       "4 2013-06-14                     Man of Steel  225000000           291045518   \n",
       "\n",
       "                    Director Rating  Runtime  ones       predict  \n",
       "0           Francis Lawrence  PG-13      146     1  1.005969e+08  \n",
       "1                Shane Black  PG-13      129     1  1.005969e+08  \n",
       "2     Chris BuckJennifer Lee     PG      108     1  1.005969e+08  \n",
       "3  Pierre CoffinChris Renaud     PG       98     1  1.005969e+08  \n",
       "4                Zack Snyder  PG-13      143     1  1.005969e+08  "
      ]
     },
     "execution_count": 11,
     "metadata": {},
     "output_type": "execute_result"
    }
   ],
   "source": [
    "movies['predict']=lin_model.predict(movies.ones)\n",
    "movies.head()"
   ]
  },
  {
   "cell_type": "code",
   "execution_count": 12,
   "metadata": {
    "collapsed": false
   },
   "outputs": [
    {
     "data": {
      "image/png": "[encoded data removed]",
      "text/plain": [
       "<matplotlib.figure.Figure at 0x10902b190>"
      ]
     },
     "metadata": {},
     "output_type": "display_data"
    }
   ],
   "source": [
    "plot_predictions(movies.ones, movies.DomesticTotalGross,lin_model,movies['predict'])\n",
    "\n",
    "#create new series for predictions\n",
    "movies['predict']=plot_predictions(movies.ones, movies.DomesticTotalGross,lin_model,movies['predict'])"
   ]
  },
  {
   "cell_type": "code",
   "execution_count": 67,
   "metadata": {
    "collapsed": false
   },
   "outputs": [
    {
     "name": "stdout",
     "output_type": "stream",
     "text": [
      "[  1.00596875e+08]\n"
     ]
    }
   ],
   "source": [
    "# We can develop this another way.. \n",
    "\n",
    "def ols_regression(y_response):\n",
    "    \"\"\"solution for solving a regression.\n",
    "    x_input: an input narray (X)\n",
    "    y_response: a 1d array of expected outputs (y)\n",
    "    X and y must have equal lengths, but x can be multiple dimensions\n",
    "    should return back a 1d array of 1 intercept + all coefficients\n",
    "    \"\"\"\n",
    "    intercept_matrix = np.ones(len(y_response))\n",
    "    x_var = np.array([intercept_matrix]).T\n",
    "    x_inv = x_var.T\n",
    "    a = np.linalg.inv(x_inv.dot(x_var))\n",
    "    b = x_inv.dot(y_response)\n",
    "    return a.dot(b)\n",
    "\n",
    "\n",
    "y_prediction= ols_regression(movies.DomesticTotalGross)\n",
    "print y_intercept"
   ]
  },
  {
   "cell_type": "markdown",
   "metadata": {},
   "source": [
    "'How can you interpret the results of this model?, ~ What does it predict?'\n",
    "\n",
    "- This result is just predicting the y intercept value.  We can see above, that when we only input a vector of ones for the X_var: our returned vector has a length of one (y intercept)"
   ]
  },
  {
   "cell_type": "code",
   "execution_count": 54,
   "metadata": {
    "collapsed": false
   },
   "outputs": [
    {
     "data": {
      "text/plain": [
       "<matplotlib.axes.AxesSubplot at 0x10936b390>"
      ]
     },
     "execution_count": 54,
     "metadata": {},
     "output_type": "execute_result"
    },
    {
     "data": {
      "image/png": "[encoded data removed]",
      "text/plain": [
       "<matplotlib.figure.Figure at 0x1090d6550>"
      ]
     },
     "metadata": {},
     "output_type": "display_data"
    }
   ],
   "source": [
    "def residual(Predicted,X,model):\n",
    "    Observed=model.predict(X)\n",
    "    res=Observed-Predicted\n",
    "    return res\n",
    "\n",
    "movies['residuals']=residual(movies.DomesticTotalGross, movies.ones,lin_model)\n",
    "\n",
    "movies['residuals'].hist(bins=20)\n",
    "\n"
   ]
  },
  {
   "cell_type": "markdown",
   "metadata": {},
   "source": [
    "'How are the residuals distributed'?\n",
    "\n",
    "- the distribution has a 'negative' skew, and is left-tailed.  This seems to illustrate an 'Unbalanced' X-Axis  (Residuals are not evenly distributed).. "
   ]
  },
  {
   "cell_type": "markdown",
   "metadata": {},
   "source": [
    "### <a id='2'></a> Challenge 2"
   ]
  },
  {
   "cell_type": "markdown",
   "metadata": {},
   "source": [
    " - Repeat the process of challenge one, but also add one continuous (numeric) predictor variable. \n",
    "Also add plots of model prediction against your feature variable and residuals against feature variable. \n",
    "How can you interpret what's happening in the model?"
   ]
  },
  {
   "cell_type": "code",
   "execution_count": 48,
   "metadata": {
    "collapsed": false
   },
   "outputs": [
    {
     "data": {
      "text/html": [
       "<div style=\"max-height:1000px;max-width:1500px;overflow:auto;\">\n",
       "<table border=\"1\" class=\"dataframe\">\n",
       "  <thead>\n",
       "    <tr style=\"text-align: right;\">\n",
       "      <th></th>\n",
       "      <th>Budget</th>\n",
       "      <th>DomesticTotalGross</th>\n",
       "      <th>Runtime</th>\n",
       "      <th>ones</th>\n",
       "    </tr>\n",
       "  </thead>\n",
       "  <tbody>\n",
       "    <tr>\n",
       "      <th>count</th>\n",
       "      <td>1.000000e+02</td>\n",
       "      <td>1.000000e+02</td>\n",
       "      <td>100.000000</td>\n",
       "      <td>100</td>\n",
       "    </tr>\n",
       "    <tr>\n",
       "      <th>mean</th>\n",
       "      <td>7.474719e+07</td>\n",
       "      <td>1.005969e+08</td>\n",
       "      <td>112.260000</td>\n",
       "      <td>1</td>\n",
       "    </tr>\n",
       "    <tr>\n",
       "      <th>std</th>\n",
       "      <td>5.601881e+07</td>\n",
       "      <td>8.739641e+07</td>\n",
       "      <td>18.190696</td>\n",
       "      <td>0</td>\n",
       "    </tr>\n",
       "    <tr>\n",
       "      <th>min</th>\n",
       "      <td>2.500000e+06</td>\n",
       "      <td>2.556825e+07</td>\n",
       "      <td>75.000000</td>\n",
       "      <td>1</td>\n",
       "    </tr>\n",
       "    <tr>\n",
       "      <th>25%</th>\n",
       "      <td>3.000000e+07</td>\n",
       "      <td>4.270413e+07</td>\n",
       "      <td>98.000000</td>\n",
       "      <td>1</td>\n",
       "    </tr>\n",
       "    <tr>\n",
       "      <th>50%</th>\n",
       "      <td>6.550000e+07</td>\n",
       "      <td>6.954237e+07</td>\n",
       "      <td>112.000000</td>\n",
       "      <td>1</td>\n",
       "    </tr>\n",
       "    <tr>\n",
       "      <th>75%</th>\n",
       "      <td>1.035000e+08</td>\n",
       "      <td>1.204759e+08</td>\n",
       "      <td>123.000000</td>\n",
       "      <td>1</td>\n",
       "    </tr>\n",
       "    <tr>\n",
       "      <th>max</th>\n",
       "      <td>2.250000e+08</td>\n",
       "      <td>4.246680e+08</td>\n",
       "      <td>180.000000</td>\n",
       "      <td>1</td>\n",
       "    </tr>\n",
       "  </tbody>\n",
       "</table>\n",
       "</div>"
      ],
      "text/plain": [
       "             Budget  DomesticTotalGross     Runtime  ones\n",
       "count  1.000000e+02        1.000000e+02  100.000000   100\n",
       "mean   7.474719e+07        1.005969e+08  112.260000     1\n",
       "std    5.601881e+07        8.739641e+07   18.190696     0\n",
       "min    2.500000e+06        2.556825e+07   75.000000     1\n",
       "25%    3.000000e+07        4.270413e+07   98.000000     1\n",
       "50%    6.550000e+07        6.954237e+07  112.000000     1\n",
       "75%    1.035000e+08        1.204759e+08  123.000000     1\n",
       "max    2.250000e+08        4.246680e+08  180.000000     1"
      ]
     },
     "execution_count": 48,
     "metadata": {},
     "output_type": "execute_result"
    }
   ],
   "source": [
    "# Fill na for some missing data.. \n",
    " \n",
    "movies.Budget=movies.Budget.fillna(movies.Budget.mean())\n",
    "movies.describe()\n"
   ]
  },
  {
   "cell_type": "code",
   "execution_count": 65,
   "metadata": {
    "collapsed": false
   },
   "outputs": [
    {
     "data": {
      "text/plain": [
       "<matplotlib.axes.AxesSubplot at 0x109c0da50>"
      ]
     },
     "execution_count": 65,
     "metadata": {},
     "output_type": "execute_result"
    },
    {
     "data": {
      "image/png": "[encoded data removed]",
      "text/plain": [
       "<matplotlib.figure.Figure at 0x1096a6c90>"
      ]
     },
     "metadata": {},
     "output_type": "display_data"
    }
   ],
   "source": [
    "movies.Budget.hist(bins=30)"
   ]
  },
  {
   "cell_type": "code",
   "execution_count": 51,
   "metadata": {
    "collapsed": false
   },
   "outputs": [],
   "source": [
    "# Get 'train_model' function from above\n",
    "\n",
    "lin_model2=train_model(movies,['Budget'], 'DomesticTotalGross')"
   ]
  },
  {
   "cell_type": "code",
   "execution_count": 86,
   "metadata": {
    "collapsed": false
   },
   "outputs": [
    {
     "data": {
      "image/png": "[encoded data removed]",
      "text/plain": [
       "<matplotlib.figure.Figure at 0x10c767a10>"
      ]
     },
     "metadata": {},
     "output_type": "display_data"
    }
   ],
   "source": [
    "# Refine plot_predictions function to accomodate 2 variables.. \n",
    "\n",
    "def plot_predictions(dataframe, explanatory_vars, outcome_var, model):\n",
    "    X = dataframe[explanatory_vars]\n",
    "    # plot the predictions \n",
    "    plt.plot(dataframe[outcome_var], model.predict(X), 'go')\n",
    "    # plot the 1:1 actual outcome line\n",
    "    plt.plot(dataframe[outcome_var], dataframe[outcome_var], 'b')\n",
    "    # axis labels\n",
    "    plt.xlabel('Actual %s' % outcome_var)\n",
    "    plt.ylabel('Predicted %s' % outcome_var)\n",
    "    plt.title(\"Actual vs Predicted Y\")\n",
    "\n",
    "plot_predictions(movies, ['Budget'], 'DomesticTotalGross', lin_model2)"
   ]
  },
  {
   "cell_type": "code",
   "execution_count": 91,
   "metadata": {
    "collapsed": false
   },
   "outputs": [
    {
     "data": {
      "text/plain": [
       "<matplotlib.text.Text at 0x10d2c9b10>"
      ]
     },
     "execution_count": 91,
     "metadata": {},
     "output_type": "execute_result"
    },
    {
     "data": {
      "image/png": "[encoded data removed]",
      "text/plain": [
       "<matplotlib.figure.Figure at 0x109e7a7d0>"
      ]
     },
     "metadata": {},
     "output_type": "display_data"
    }
   ],
   "source": [
    "plt.plot(movies.Budget, movies.DomesticTotalGross, 'go')\n",
    "plt.xlabel('X Variable~ Budget')\n",
    "plt.ylabel('Y Variable ~ DTG')\n",
    "plt.title('Budget vs DTG Correlation plot')"
   ]
  },
  {
   "cell_type": "code",
   "execution_count": null,
   "metadata": {
    "collapsed": true
   },
   "outputs": [],
   "source": [
    "# Q : How can you interpret what's happening in the model? \n",
    "\n",
    "# A: We can use observed, predicted & residual values to asses what is going on with the model.\n",
    "\n",
    "# We can see from above the \"Actual vs Predicted Plot, that this model is not terribly accurate. \n",
    "\n",
    "# We can also see from the following Residual histogram that there is a left-tail distribution.\n",
    "# We can assume that this models simply needs more varialbles!"
   ]
  },
  {
   "cell_type": "code",
   "execution_count": 90,
   "metadata": {
    "collapsed": false
   },
   "outputs": [
    {
     "data": {
      "text/plain": [
       "<matplotlib.axes.AxesSubplot at 0x10d2946d0>"
      ]
     },
     "execution_count": 90,
     "metadata": {},
     "output_type": "execute_result"
    },
    {
     "data": {
      "image/png": "[encoded data removed]",
      "text/plain": [
       "<matplotlib.figure.Figure at 0x109dc3a90>"
      ]
     },
     "metadata": {},
     "output_type": "display_data"
    }
   ],
   "source": [
    "# Get Residual (using residual function above) \n",
    "movies['residual2s']=residual(movies.DomesticTotalGross, movies.Budget,lin_model2)\n",
    "#plot Histogram of Residuals.. \n",
    "movies['residual2s'].hist(bins=30)"
   ]
  },
  {
   "cell_type": "code",
   "execution_count": 64,
   "metadata": {
    "collapsed": false
   },
   "outputs": [
    {
     "data": {
      "text/plain": [
       "<matplotlib.collections.PathCollection at 0x109be9490>"
      ]
     },
     "execution_count": 64,
     "metadata": {},
     "output_type": "execute_result"
    },
    {
     "data": {
      "image/png": "[encoded data removed]",
      "text/plain": [
       "<matplotlib.figure.Figure at 0x10930ad10>"
      ]
     },
     "metadata": {},
     "output_type": "display_data"
    }
   ],
   "source": [
    "plt.scatter(lin_model2.predict(movies.Budget),movies.residual2s)"
   ]
  },
  {
   "cell_type": "markdown",
   "metadata": {},
   "source": [
    "### <a id='3'></a> Challenge 3"
   ]
  },
  {
   "cell_type": "markdown",
   "metadata": {},
   "source": [
    "Repeat the process of challenge 1, but add a categorical feature (like genre). \n",
    "You'll have to convert a column of text into a number of numerical columns (\"dummy variables\").\n",
    "How can you interpret what's happening in the model?"
   ]
  },
  {
   "cell_type": "code",
   "execution_count": 96,
   "metadata": {
    "collapsed": false
   },
   "outputs": [
    {
     "data": {
      "text/html": [
       "<div style=\"max-height:1000px;max-width:1500px;overflow:auto;\">\n",
       "<table border=\"1\" class=\"dataframe\">\n",
       "  <thead>\n",
       "    <tr style=\"text-align: right;\">\n",
       "      <th></th>\n",
       "      <th>Date</th>\n",
       "      <th>Title</th>\n",
       "      <th>Budget</th>\n",
       "      <th>DomesticTotalGross</th>\n",
       "      <th>Director</th>\n",
       "      <th>Rating</th>\n",
       "      <th>Runtime</th>\n",
       "      <th>ones</th>\n",
       "      <th>residuals</th>\n",
       "      <th>residual2s</th>\n",
       "      <th>Log_Budget</th>\n",
       "      <th>G</th>\n",
       "      <th>PG</th>\n",
       "      <th>PG-13</th>\n",
       "      <th>R</th>\n",
       "    </tr>\n",
       "  </thead>\n",
       "  <tbody>\n",
       "    <tr>\n",
       "      <th>0</th>\n",
       "      <td>2013-11-22</td>\n",
       "      <td>The Hunger Games: Catching Fire</td>\n",
       "      <td>130000000</td>\n",
       "      <td>424668047</td>\n",
       "      <td>Francis Lawrence</td>\n",
       "      <td>PG-13</td>\n",
       "      <td>146</td>\n",
       "      <td>1</td>\n",
       "      <td>-3.240712e+08</td>\n",
       "      <td>-2.757805e+08</td>\n",
       "      <td>18.683045</td>\n",
       "      <td>0</td>\n",
       "      <td>0</td>\n",
       "      <td>1</td>\n",
       "      <td>0</td>\n",
       "    </tr>\n",
       "  </tbody>\n",
       "</table>\n",
       "</div>"
      ],
      "text/plain": [
       "        Date                            Title     Budget  DomesticTotalGross  \\\n",
       "0 2013-11-22  The Hunger Games: Catching Fire  130000000           424668047   \n",
       "\n",
       "           Director Rating  Runtime  ones     residuals    residual2s  \\\n",
       "0  Francis Lawrence  PG-13      146     1 -3.240712e+08 -2.757805e+08   \n",
       "\n",
       "   Log_Budget  G  PG  PG-13  R  \n",
       "0   18.683045  0   0      1  0  "
      ]
     },
     "execution_count": 96,
     "metadata": {},
     "output_type": "execute_result"
    }
   ],
   "source": [
    "# Convert Director via get dummies ! \n",
    "\n",
    "these=pd.get_dummies(movies.Rating)\n",
    "movies=movies.join(these)\n",
    "movies.head(1)"
   ]
  },
  {
   "cell_type": "code",
   "execution_count": 97,
   "metadata": {
    "collapsed": false
   },
   "outputs": [],
   "source": [
    "# Get 'train_model' function from above\n",
    "\n",
    "lin_model3=train_model(movies,['G','PG','PG-13','R'], 'DomesticTotalGross')"
   ]
  },
  {
   "cell_type": "code",
   "execution_count": 98,
   "metadata": {
    "collapsed": false
   },
   "outputs": [
    {
     "data": {
      "image/png": "[encoded data removed]",
      "text/plain": [
       "<matplotlib.figure.Figure at 0x10c743710>"
      ]
     },
     "metadata": {},
     "output_type": "display_data"
    }
   ],
   "source": [
    "# Get 'plot_predictions' function from above\n",
    "\n",
    "plot_predictions(movies,['G','PG','PG-13','R'], 'DomesticTotalGross', lin_model3)"
   ]
  },
  {
   "cell_type": "code",
   "execution_count": null,
   "metadata": {
    "collapsed": true
   },
   "outputs": [],
   "source": [
    "# Q: 'How can you tell what is happening with your model ? \n",
    "#A: Again, we can use our Observed, Predicted and Residual data to observe what is happening with our models. .\n",
    "# We can tell from the above plot, that this model is NOT accurate.  We can assume that binary explanatory variables are no\n",
    "# ideal for linear regression"
   ]
  },
  {
   "cell_type": "markdown",
   "metadata": {},
   "source": [
    "### <a id='4'></a> Challenge 4"
   ]
  },
  {
   "cell_type": "markdown",
   "metadata": {},
   "source": [
    "Enhance your model further by adding more features and/or transforming existing features. \n",
    "Think about how you build the model matrix and how to interpret what the model is doing.\n"
   ]
  },
  {
   "cell_type": "code",
   "execution_count": 108,
   "metadata": {
    "collapsed": false
   },
   "outputs": [
    {
     "name": "stderr",
     "output_type": "stream",
     "text": [
      "/Users/julialintern/anaconda/lib/python2.7/site-packages/matplotlib/axes.py:2536: UserWarning: Attempting to set identical left==right results\n",
      "in singular transformations; automatically expanding.\n",
      "left=1.0, right=1.0\n",
      "  + 'left=%s, right=%s') % (left, right))\n",
      "/Users/julialintern/anaconda/lib/python2.7/site-packages/matplotlib/axes.py:2760: UserWarning: Attempting to set identical bottom==top results\n",
      "in singular transformations; automatically expanding.\n",
      "bottom=1.0, top=1.0\n",
      "  + 'bottom=%s, top=%s') % (bottom, top))\n"
     ]
    },
    {
     "data": {
      "text/plain": [
       "array([[<matplotlib.axes.AxesSubplot object at 0x10daf2e50>,\n",
       "        <matplotlib.axes.AxesSubplot object at 0x10d537790>,\n",
       "        <matplotlib.axes.AxesSubplot object at 0x10d659a90>,\n",
       "        <matplotlib.axes.AxesSubplot object at 0x10dd42a50>],\n",
       "       [<matplotlib.axes.AxesSubplot object at 0x10ddc3a10>,\n",
       "        <matplotlib.axes.AxesSubplot object at 0x10de28a10>,\n",
       "        <matplotlib.axes.AxesSubplot object at 0x10deabad0>,\n",
       "        <matplotlib.axes.AxesSubplot object at 0x10dee4110>],\n",
       "       [<matplotlib.axes.AxesSubplot object at 0x10df9d8d0>,\n",
       "        <matplotlib.axes.AxesSubplot object at 0x10e023890>,\n",
       "        <matplotlib.axes.AxesSubplot object at 0x10e090950>,\n",
       "        <matplotlib.axes.AxesSubplot object at 0x10e111ed0>],\n",
       "       [<matplotlib.axes.AxesSubplot object at 0x10e16bd10>,\n",
       "        <matplotlib.axes.AxesSubplot object at 0x10e347310>,\n",
       "        <matplotlib.axes.AxesSubplot object at 0x10e37e550>,\n",
       "        <matplotlib.axes.AxesSubplot object at 0x10e42ce10>]], dtype=object)"
      ]
     },
     "execution_count": 108,
     "metadata": {},
     "output_type": "execute_result"
    },
    {
     "data": {
      "image/png": "[encoded data removed]",
      "text/plain": [
       "<matplotlib.figure.Figure at 0x109f05990>"
      ]
     },
     "metadata": {},
     "output_type": "display_data"
    }
   ],
   "source": [
    "# Lets take a look at our entire model, and try to determine some of our stronger features\n",
    "pd.tools.plotting.scatter_matrix(movies)"
   ]
  },
  {
   "cell_type": "code",
   "execution_count": 115,
   "metadata": {
    "collapsed": false
   },
   "outputs": [],
   "source": [
    "movies.Budget=movies.Budget.fillna(movies.Budget.mean())"
   ]
  },
  {
   "cell_type": "code",
   "execution_count": 119,
   "metadata": {
    "collapsed": false
   },
   "outputs": [],
   "source": [
    "# Enhance the model \n",
    "## STEP 1: I will log transform any skewed features\n",
    "\n",
    "movies['log_Budget']=np.log(movies.Budget)\n",
    "movies['log_DTG']=np.log(movies.DomesticTotalGross)\n",
    "movies['log_Run']=np.log(movies.Runtime)"
   ]
  },
  {
   "cell_type": "code",
   "execution_count": 117,
   "metadata": {
    "collapsed": false
   },
   "outputs": [
    {
     "name": "stdout",
     "output_type": "stream",
     "text": [
      "                            OLS Regression Results                            \n",
      "==============================================================================\n",
      "Dep. Variable:     DomesticTotalGross   R-squared:                       0.687\n",
      "Model:                            OLS   Adj. R-squared:                  0.681\n",
      "Method:                 Least Squares   F-statistic:                     107.6\n",
      "Date:                Thu, 03 Sep 2015   Prob (F-statistic):           1.86e-25\n",
      "Time:                        20:17:21   Log-Likelihood:                -1954.4\n",
      "No. Observations:                 100   AIC:                             3913.\n",
      "Df Residuals:                      98   BIC:                             3918.\n",
      "Df Model:                           2                                         \n",
      "Covariance Type:            nonrobust                                         \n",
      "==============================================================================\n",
      "                 coef    std err          t      P>|t|      [95.0% Conf. Int.]\n",
      "------------------------------------------------------------------------------\n",
      "Budget         0.7217      0.142      5.096      0.000         0.441     1.003\n",
      "Runtime     4.224e+05   1.16e+05      3.637      0.000      1.92e+05  6.53e+05\n",
      "==============================================================================\n",
      "Omnibus:                       41.786   Durbin-Watson:                   0.563\n",
      "Prob(Omnibus):                  0.000   Jarque-Bera (JB):               95.876\n",
      "Skew:                           1.599   Prob(JB):                     1.52e-21\n",
      "Kurtosis:                       6.575   Cond. No.                     1.44e+06\n",
      "==============================================================================\n",
      "\n",
      "Warnings:\n",
      "[1] Standard Errors assume that the covariance matrix of the errors is correctly specified.\n",
      "[2] The condition number is large, 1.44e+06. This might indicate that there are\n",
      "strong multicollinearity or other numerical problems.\n"
     ]
    }
   ],
   "source": [
    "## STEP 2:  I will add all original numeric features into my linear model, and then compare to the model with\n",
    "# log_linear features\n",
    "\n",
    "\n",
    "lin_model4=train_model(movies,['Budget','Runtime'], 'DomesticTotalGross')\n",
    "print lin_model4.summary()"
   ]
  },
  {
   "cell_type": "code",
   "execution_count": null,
   "metadata": {
    "collapsed": true
   },
   "outputs": [],
   "source": [
    "# We can see the R^2 value above is only 0.687, we will see if this can be improved upon."
   ]
  },
  {
   "cell_type": "code",
   "execution_count": 122,
   "metadata": {
    "collapsed": false
   },
   "outputs": [
    {
     "name": "stdout",
     "output_type": "stream",
     "text": [
      "                            OLS Regression Results                            \n",
      "==============================================================================\n",
      "Dep. Variable:                log_DTG   R-squared:                       0.999\n",
      "Model:                            OLS   Adj. R-squared:                  0.999\n",
      "Method:                 Least Squares   F-statistic:                 3.418e+04\n",
      "Date:                Thu, 03 Sep 2015   Prob (F-statistic):          4.28e-140\n",
      "Time:                        20:22:02   Log-Likelihood:                -104.36\n",
      "No. Observations:                 100   AIC:                             212.7\n",
      "Df Residuals:                      98   BIC:                             217.9\n",
      "Df Model:                           2                                         \n",
      "Covariance Type:            nonrobust                                         \n",
      "==============================================================================\n",
      "                 coef    std err          t      P>|t|      [95.0% Conf. Int.]\n",
      "------------------------------------------------------------------------------\n",
      "log_Run        2.3748      0.280      8.470      0.000         1.818     2.931\n",
      "log_Budget     0.3911      0.074      5.273      0.000         0.244     0.538\n",
      "==============================================================================\n",
      "Omnibus:                        1.463   Durbin-Watson:                   1.454\n",
      "Prob(Omnibus):                  0.481   Jarque-Bera (JB):                1.502\n",
      "Skew:                           0.231   Prob(JB):                        0.472\n",
      "Kurtosis:                       2.616   Cond. No.                         77.0\n",
      "==============================================================================\n",
      "\n",
      "Warnings:\n",
      "[1] Standard Errors assume that the covariance matrix of the errors is correctly specified.\n"
     ]
    }
   ],
   "source": [
    "lin_model5=train_model(movies,['log_Run','log_Budget'], 'log_DTG')\n",
    "print lin_model5.summary()"
   ]
  },
  {
   "cell_type": "code",
   "execution_count": null,
   "metadata": {
    "collapsed": true
   },
   "outputs": [],
   "source": [
    "## We can see that the above with log transformed feat has a much improved R^2 value.\n"
   ]
  },
  {
   "cell_type": "markdown",
   "metadata": {},
   "source": [
    "### <a id='5'></a> Challenge 5"
   ]
  },
  {
   "cell_type": "markdown",
   "metadata": {},
   "source": [
    "Fitting and checking predictions on the exact same data set can be misleading. \n",
    "Divide your data into two sets: a training and a test set (roughly 75% training, 25% test is a fine split). \n",
    "Fit a model on the training set, check the predictions (by plotting versus actual values) in the test set."
   ]
  },
  {
   "cell_type": "code",
   "execution_count": 138,
   "metadata": {
    "collapsed": false
   },
   "outputs": [
    {
     "data": {
      "text/plain": [
       "<matplotlib.text.Text at 0x10f1d6710>"
      ]
     },
     "execution_count": 138,
     "metadata": {},
     "output_type": "execute_result"
    },
    {
     "data": {
      "image/png": "[encoded data removed]",
      "text/plain": [
       "<matplotlib.figure.Figure at 0x10efa0bd0>"
      ]
     },
     "metadata": {},
     "output_type": "display_data"
    }
   ],
   "source": [
    "from sklearn import cross_validation\n",
    "from sklearn.cross_validation import train_test_split\n",
    "\n",
    "X=movies[['log_Run','log_Budget']]\n",
    "Y=movies['log_DTG']\n",
    "xtrain, xtest, ytrain, ytest=cross_validation.train_test_split(X,Y, test_size=0.25, random_state=1234)\n",
    "\n",
    "model = smf.OLS(ytrain, xtrain).fit()\n",
    "\n",
    "predictions=model.predict(xtest)\n",
    "\n",
    "plt.plot(ytest, predictions,'go')\n",
    "\n",
    "# plot the 1:1 actual outcome line\n",
    "plt.plot(ytest, ytest, 'b')\n",
    "plt.xlabel('Actual')\n",
    "plt.ylabel('Predicted')\n",
    "plt.title(\"Actual vs Predicted Y\")"
   ]
  }
 ],
 "metadata": {
  "kernelspec": {
   "display_name": "Python 2",
   "language": "python",
   "name": "python2"
  },
  "language_info": {
   "codemirror_mode": {
    "name": "ipython",
    "version": 2
   },
   "file_extension": ".py",
   "mimetype": "text/x-python",
   "name": "python",
   "nbconvert_exporter": "python",
   "pygments_lexer": "ipython2",
   "version": "2.7.11"
  }
 },
 "nbformat": 4,
 "nbformat_minor": 0
}
