{
 "cells": [
  {
   "cell_type": "markdown",
   "metadata": {},
   "source": [
    "### Set 13 - NLP Unsupervised (Twitter data) Challenges Solutions\n",
    "#### Last Updated:  3/20/2016\n",
    "#### Updated By:  Reshama, Julia"
   ]
  },
  {
   "cell_type": "markdown",
   "metadata": {},
   "source": [
    "---"
   ]
  },
  {
   "cell_type": "markdown",
   "metadata": {},
   "source": [
    "### Table of Contents \n",
    "[Challenge01](#1) \n",
    "\n",
    " \n",
    "Cluster sentences with K-means. If you have your own Fletcher test data, get sentences out and cluster them. If not, cluster the tweets you gathered during the last challenge set. For each cluster, print out the sentences, try to see how close the sentences are. Try different K values and try to find a K value that makes the most sense (the sentences look like they do form a meaningful cluster).\n",
    "\n",
    "How do you deal with retweets if you're clustering tweets?\n",
    "\n",
    "\n",
    "[Challenge02](#2)\n",
    "\n",
    "Draw the inertia curve over different k values. (Sklearn KMeans class has an inertia_ attribute) \n",
    "\n",
    "[Challenge03](#3)\n",
    "\n",
    "Let's name the clusters 1 For each cluster, find the sentence closest to the centroid of the cluster. (You can use sklearn.metrics.pairwise_distances7 or scipy.spatial.distance4 [check pdist, cdist, and euclidean distance] to find distances to the centroid). KMeans has a cluster_centroids_ attribute. This sentence (closest to centroid) is now the name of the cluster. For each cluster, print the representative sentence, and print 'N people expressed a similar statement', or something like that relevant to your dataset. (This is very close to what amazon used to do in the reviews section up to a year ago.)\n",
    "\n",
    "Find the biggest 3 clusters, and print their representative sentences (This is close to what amazon is doing now in the reviews section, except they choose the sentence from the most helpful review instead of closest to center) \n",
    "\n",
    "[Challenge04](#4)\n",
    " \n",
    "Let's name the clusters 2 Calculate the tf-idf of each word in each cluster (think of all sentences of a cluster together as a document). Represent each cluster with the top 1, or top 2 or... to 5 tf-idf words. For each cluster, print the name (keywords) of the cluster, and \"N statements\" in the cluster (N is the size of the cluster)\n",
    "\n",
    "[Challenge05](#5)\n",
    "\n",
    "Let's name the clusters 3 Same as the previous challenge, but this time, calculate tf-idf only for nouns (NN tag) and build keyword(s) with nouns. (This is close to what amazon switched to last year, before settling into the current design). (They would show five nouns, you would click on one and it would show sentences - linked to the reviews- that were related to that noun.) \n",
    "\n",
    "[Challenge06](#6)\n",
    "\n",
    "Cluster the same data with MiniBatchKMeans4. MiniBatchKMeans is a fast way to apply K-means to large data without much loss -- The results are very similar. Instead of using EVERY single point to find the new place of the centroid, MiniBatch just randomly samples a small number (like 100) in the cluster to calculate the new center. Since this is usually very close to the actual center, the algorithm gets there much faster. Try it and compare the results. Example on two-feature data5\n",
    "\n",
    "[Challenge07](#7)\n",
    "\n",
    "Switch the init parameter to \"random\" (instead of the default kmeans++) and plot the inertia curve for each of the n_init values for K-Means: 1, 2, 3, 10 (n_init is the number of different runs to try with different random initializations)\n",
    "\n",
    "[Challenge08](#8)\n",
    "\n",
    "Download this dataset on the Purchase Stats from Clients of a Wholesale Distributor:\n",
    "https://archive.ics.uci.edu/ml/machine-learning-databases/00292/\n",
    "\n",
    "Cluster the clients based on their annual spending features (fresh, milk, grocery, frozen, detergents_paper, delicatessen). Remember to scale the features before clustering. After finding a reasonable amount of clusters, for EACH cluster, plot the histogram for every single feature: FRESH, MILK, GROCERY, FROZEN, DETERGENTS_PAPER, DELICATESSEN, CHANNEL, REGION. \n",
    "\n",
    "Is there a natural way to characterize each cluster? How would you describe each cluster to the wholesale distributor if you were working for them?\n",
    "\n",
    "[Challenge08a](#8a) - load into pandas dataframe\n",
    "\n",
    "[Challenge08b](#8b) - scale the data\n",
    "\n",
    "[Challenge08c](#8c) - cluster the data"
   ]
  },
  {
   "cell_type": "code",
   "execution_count": 133,
   "metadata": {
    "collapsed": false
   },
   "outputs": [
    {
     "name": "stdout",
     "output_type": "stream",
     "text": [
      "Downloading/unpacking textblob\n",
      "  Downloading textblob-0.9.0-py2.py3-none-any.whl (640kB): 640kB downloaded\n",
      "Downloading/unpacking nltk>=3.0 (from textblob)\n",
      "  Downloading nltk-3.0.2.tar.gz (991kB): 991kB downloaded\n",
      "  Running setup.py (path:/private/var/folders/f5/4hllfzqx6pq2sfm22_khf5400000gn/T/pip_build_reshamashaikh/nltk/setup.py) egg_info for package nltk\n",
      "    \n",
      "    warning: no files found matching 'Makefile' under directory '*.txt'\n",
      "    warning: no previously-included files matching '*~' found anywhere in distribution\n",
      "Installing collected packages: textblob, nltk\n",
      "  Found existing installation: nltk 2.0.4\n",
      "    Uninstalling nltk:\n",
      "      Successfully uninstalled nltk\n",
      "  Running setup.py install for nltk\n",
      "    \n",
      "    warning: no files found matching 'Makefile' under directory '*.txt'\n",
      "    warning: no previously-included files matching '*~' found anywhere in distribution\n",
      "Successfully installed textblob nltk\n",
      "Cleaning up...\n"
     ]
    }
   ],
   "source": [
    "#!pip install textblob"
   ]
  },
  {
   "cell_type": "code",
   "execution_count": 33,
   "metadata": {
    "collapsed": false
   },
   "outputs": [
    {
     "name": "stdout",
     "output_type": "stream",
     "text": [
      "Populating the interactive namespace from numpy and matplotlib\n"
     ]
    }
   ],
   "source": [
    "import nltk\n",
    "from nltk.tokenize import sent_tokenize\n",
    "from nltk.tokenize import TreebankWordTokenizer\n",
    "from nltk.tokenize import word_tokenize\n",
    "from nltk.tokenize import wordpunct_tokenize\n",
    "from nltk.tag import pos_tag\n",
    "from nltk.chunk import ne_chunk\n",
    "from nltk.corpus import treebank_chunk\n",
    "from nltk.corpus import stopwords\n",
    "from nltk.corpus import movie_reviews\n",
    "from nltk.util import ngrams\n",
    "\n",
    "from textblob import TextBlob\n",
    "\n",
    "from collections import Counter\n",
    "from operator import itemgetter\n",
    "\n",
    "\n",
    "from sklearn.feature_extraction.text import TfidfVectorizer\n",
    "from sklearn.feature_extraction.text import CountVectorizer\n",
    "from sklearn.feature_extraction.text import HashingVectorizer\n",
    "from sklearn.feature_extraction.text import TfidfTransformer\n",
    "from sklearn.pipeline import make_pipeline\n",
    "from sklearn.preprocessing import Normalizer\n",
    "from sklearn.preprocessing import scale\n",
    "from sklearn import metrics\n",
    "\n",
    "\n",
    "from sklearn.naive_bayes import MultinomialNB\n",
    "from sklearn.cluster import KMeans, MiniBatchKMeans\n",
    "\n",
    "from scipy import sparse\n",
    "\n",
    "import pymongo\n",
    "import tweepy\n",
    "from pymongo import MongoClient\n",
    "\n",
    "\n",
    "from pprint import pprint\n",
    "\n",
    "import numpy as np\n",
    "import pandas as pd\n",
    "import matplotlib.pyplot as plt\n",
    "import statsmodels.api as sm\n",
    "\n",
    "import requests\n",
    "from requests_oauthlib import OAuth1\n",
    "\n",
    "#%base16_mplrc light default\n",
    "%pylab inline\n",
    "\n",
    "\n",
    "nltk.data.path.append(\"/Users/reshamashaikh/_ds/metis/nltk_data\")"
   ]
  },
  {
   "cell_type": "markdown",
   "metadata": {},
   "source": [
    "### <a id='1'></a> Challenge 1"
   ]
  },
  {
   "cell_type": "markdown",
   "metadata": {},
   "source": [
    "Cluster sentences with K-means. If you have your own Fletcher test data, get sentences out and cluster them. If not, cluster the tweets you gathered during the last challenge set. For each cluster, print out the sentences, try to see how close the sentences are. Try different K values and try to find a K value that makes the most sense (the sentences look like they do form a meaningful cluster).\n",
    "\n",
    "How do you deal with retweets if you're clustering tweets?"
   ]
  },
  {
   "cell_type": "code",
   "execution_count": null,
   "metadata": {
    "collapsed": false
   },
   "outputs": [],
   "source": [
    "!pip install requests_oauthlib"
   ]
  },
  {
   "cell_type": "code",
   "execution_count": null,
   "metadata": {
    "collapsed": false
   },
   "outputs": [],
   "source": [
    "!pip install tweepy"
   ]
  },
  {
   "cell_type": "code",
   "execution_count": 4,
   "metadata": {
    "collapsed": false
   },
   "outputs": [],
   "source": [
    "# This is Irmak's twitter account\n",
    "consumer_key = \"lKUArvkhsKdbL22g03K0pjwSn\"\n",
    "consumer_secret = \"wSaWT7YCvLGWVnvyRiOeYbio4vMsFQjzZkc9nzTcapZXFeGFg9\"\n",
    "access_token = \"16876526-suFANtp7Bs0GE3vCYdBuomCXZzq75Mz4Pzj0ImxGh\"\n",
    "access_secret = \"kMOfJZJELwz03ZMKOzV2USFTFyK4IYp5oB7lQKAJUPsWg\""
   ]
  },
  {
   "cell_type": "code",
   "execution_count": 5,
   "metadata": {
    "collapsed": false
   },
   "outputs": [],
   "source": [
    "import requests\n",
    "from requests_oauthlib import OAuth1\n",
    "\n",
    "oauth = OAuth1(consumer_key,\n",
    "               client_secret = consumer_secret,\n",
    "               resource_owner_key = access_token,\n",
    "               resource_owner_secret = access_secret)"
   ]
  },
  {
   "cell_type": "code",
   "execution_count": 6,
   "metadata": {
    "collapsed": false
   },
   "outputs": [],
   "source": [
    "import tweepy\n",
    "\n",
    "auth = tweepy.OAuthHandler(consumer_key, consumer_secret)\n",
    "auth.set_access_token(access_token, access_secret)\n",
    "\n",
    "api = tweepy.API(auth)"
   ]
  },
  {
   "cell_type": "markdown",
   "metadata": {},
   "source": [
    "Print some tweets from Irmak's twitter profile\n",
    "Example of accessing tweets from a user"
   ]
  },
  {
   "cell_type": "code",
   "execution_count": 7,
   "metadata": {
    "collapsed": false
   },
   "outputs": [
    {
     "name": "stdout",
     "output_type": "stream",
     "text": [
      "0 Priors and Prejudice in Thinking Machines https://t.co/l55MSIjUI4\n",
      "\n",
      "1 The couch is lovely, soft and deep. But I have promises to keep. And miles to code before I sleep. And miles to code before I sleep.\n",
      "\n",
      "2 RT @DsAtweet: A relatively recent addition to our caffeine arsenal at Datascope HQ: Turkish tea! Thanks @frrmack https://t.co/p8OvCLGedR\n",
      "\n"
     ]
    }
   ],
   "source": [
    "irmak_tweets = api.user_timeline(\"frrmack\", count=3)\n",
    "\n",
    "for i, tweet in enumerate(irmak_tweets):\n",
    "    print i, tweet.text\n",
    "    print"
   ]
  },
  {
   "cell_type": "markdown",
   "metadata": {},
   "source": [
    "### Using Data:  tweets related to query term \"marchmadness\", save 300 tweets to list"
   ]
  },
  {
   "cell_type": "code",
   "execution_count": 8,
   "metadata": {
    "collapsed": false
   },
   "outputs": [
    {
     "name": "stdout",
     "output_type": "stream",
     "text": [
      "PAGE 1\n",
      "1 #MarchMadness\n",
      "\n",
      "2 RT @YNGPfounder: @YNGPfounder RETWEET MY FLYER AND LETS GET IT !!!! Support the #MarchMadness Gangskeet SwaggMobb no competition !\n",
      "\n",
      "3 RT @PopCrush: It’s @LittleMix’s #Mixers vs. @GirlsGeneration’s #Sones in Round 1 of #MarchMadness: https://t.co/Ci9o8E3tgh https://t.co/5Og…\n",
      "\n",
      "4 RT @ChoJustice: Beware the #IdesOfMarch = #Shakespeare U.S. We say #MarchMadness  Enjoy it Friends. Dance, Sing,Live cc @ayla79_nl 🌹 https:…\n",
      "\n",
      "5 RT @SBTVNation: ***RETWEET AND LISTEN NOW***\n",
      "\n",
      "#SPORTS RADIO LIVE\n",
      "\n",
      "CLICK HERE: https://t.co/eNplUO5CPr\n",
      "\n",
      "#NBA #NHL #MarchMadness #Show https:…\n",
      "\n",
      "6 RT @TaySixO: Believe It Or Not Nigga Yeaaaaaa😈🔥 #MarchMadness\n",
      "\n",
      "7 RT @Emonn_: Only make 21 once so Ima live it up, happy 21st birthday to me ! #MarchMadness 😈😍🎉😝2️⃣1️⃣ https://t.co/poysq59CHe\n",
      "\n",
      "8 RT @marchmadness: A career-high for Kris Jenkins as No. 3 Villanova dominates DePaul, 83-62. https://t.co/4wOSaeO0vk\n",
      "\n",
      "9 RT @marchmadness: Housed!\n",
      "\n",
      "Senior guard scores 19 as No. 20 Texas A&amp;M uses big 2nd half to rout Auburn, 81-63: https://t.co/XJtRaXPMmf http…\n",
      "\n",
      "10 RT @TaySixO: Believe It Or Not Nigga Yeaaaaaa😈🔥 #MarchMadness\n",
      "\n",
      "11 @marchmadness get @1future to perform march madness at march madness\n",
      "\n",
      "12 RT @London366: Follow&amp;RT @wrestlelamia to #win £20 love2shop voucher. Cd. 25/3 #RAW  #WWE #MarchMadness #comp #Cats https://t.co/OyLrafrgxQ\n",
      "\n",
      "13 RT @SBTVNation: ***RETWEET AND LISTEN NOW***\n",
      "\n",
      "#SPORTS RADIO LIVE\n",
      "\n",
      "CLICK HERE: https://t.co/eNplUO5CPr\n",
      "\n",
      "#NBA #NHL #MarchMadness #Show https:…\n",
      "\n",
      "14 RT @TaySixO: Believe It Or Not Nigga Yeaaaaaa😈🔥 #MarchMadness\n",
      "\n",
      "15 RT @TaySixO: Believe It Or Not Nigga Yeaaaaaa😈🔥 #MarchMadness\n",
      "\n",
      "16 Best thing bout March is #MarchMadness\n",
      "\n",
      "17 Believe It Or Not Nigga Yeaaaaaa😈🔥 #MarchMadness\n",
      "\n",
      "18 If you haven't hit personal or professional #goals yet keep your #motivation going &amp; get your #MarchMadness on to finish the quarter strong\n",
      "\n",
      "19 RT @BlueCartHQ: BlueCart announces March Madness Challenge for #DC food industry workers. https://t.co/yXVEzfALgw @ZagatDC #DMV https://t.c…\n",
      "\n",
      "20 RT @SBTVNation: ***RETWEET AND LISTEN NOW***\n",
      "\n",
      "#SPORTS RADIO LIVE\n",
      "\n",
      "CLICK HERE: https://t.co/eNplUO5CPr\n",
      "\n",
      "#NBA #NHL #MarchMadness #Show https:…\n",
      "\n",
      "21 RT @London366: Follow&amp;RT @wrestlelamia to #win £20 love2shop voucher. Cd. 25/3 #RAW  #WWE #MarchMadness #comp https://t.co/0Wn76ENUDy\n",
      "\n",
      "22 RT @marchmadness: Morrison, Reddick, Noah and George Mason. 2006's #OneShiningMoment had it all. Watch: https://t.co/VflMMRz3gu https://t.c…\n",
      "\n",
      "23 RT @bcdsheadmaster: Are you ready for March Madness @Buckleycds. We are. See for yourself: https://t.co/whFsGYLLyp #MarchMadness https://t.…\n",
      "\n",
      "24 RT @soldierforalife: Time to defend our title! Vote! 💪 #PersonOfInterest #RootAndShaw #MarchMadness #Zimbio https://t.co/NF51JRZECx https:/…\n",
      "\n",
      "25 RT @jrutmusic: My #MichiganState #SpartanNation custom hat, just in time for #MarchMadness to go with this Michigan snow madness ❄😊 https:/…\n",
      "\n",
      "26 RT @SBTVNation: ***RETWEET AND LISTEN NOW***\n",
      "\n",
      "#SPORTS RADIO LIVE\n",
      "\n",
      "CLICK HERE: https://t.co/eNplUO5CPr\n",
      "\n",
      "#NBA #NHL #MarchMadness #Show https:…\n",
      "\n",
      "27 RT @Emonn_: Only make 21 once so Ima live it up, happy 21st birthday to me ! #MarchMadness 😈😍🎉😝2️⃣1️⃣ https://t.co/poysq59CHe\n",
      "\n",
      "28 RT @Emonn_: Only make 21 once so Ima live it up, happy 21st birthday to me ! #MarchMadness 😈😍🎉😝2️⃣1️⃣ https://t.co/poysq59CHe\n",
      "\n",
      "29 @FieldOfJoyInsta is fields of joy insta pop-up mobile food unit previews @ProduceExchange @MidtownGlobal #marchmadness\n",
      "\n",
      "30 Cricut Mystery Box https://t.co/JQ3Xm1VvBZ  Free Shipping use MARCHMADNESS https://t.co/5BsmbqiK8c\n",
      "\n",
      "31 59% of senior managers said March Madness activities have no impact via@mjfan23... https://t.co/IEKxTfduRR #marchmadness\n",
      "\n",
      "32 RT @Emonn_: Only make 21 once so Ima live it up, happy 21st birthday to me ! #MarchMadness 😈😍🎉😝2️⃣1️⃣ https://t.co/poysq59CHe\n",
      "\n",
      "33 lifestyle is always #WackyRaces with @ItsKwambox @mikewachira @MrKerryMartin #Wackies and good music this #Marchmadness #WackyWednesday\n",
      "\n",
      "34 RT @GoSoundtracks: #MarchMadness #JohnWilliams Score Tournament Bracket 1!\n",
      "Catch Me If You Can (2002) vs The Empire Strikes Back (1980)\n",
      "\n",
      "35 RT @notJohnDoyle: Yeah, traffic is just like my  teammates, a bunch of loonies getting in the way of Clap Nasty going bar south on a hot mo…\n",
      "\n",
      "36 #MarchMadness NBS Contest sign is a GO! #CBB https://t.co/SStpkuTF4P\n",
      "\n",
      "37 RT @blu_juic3: Lol, @_JBright @Rap1d_PHIre @KenSo_Heartless #InstantClassic #MarchMadness  https://t.co/0IDPtTZzMg\n",
      "\n",
      "38 RT @Emonn_: Only make 21 once so Ima live it up, happy 21st birthday to me ! #MarchMadness 😈😍🎉😝2️⃣1️⃣ https://t.co/poysq59CHe\n",
      "\n",
      "39 RT @LanreMula: Time to download MarchMadness @YoungsTeflon 👀🔊🔥\n",
      "\n",
      "40 RT @SBTVNation: ***RETWEET AND LISTEN NOW***\n",
      "\n",
      "#SPORTS RADIO LIVE\n",
      "\n",
      "CLICK HERE: https://t.co/eNplUO5CPr\n",
      "\n",
      "#NBA #NHL #MarchMadness #Show https:…\n",
      "\n",
      "41 RT @1fufure: #MarchMadness 😈\n",
      "\n",
      "42 RT @GoSoundtracks: #MarchMadness #JohnWilliams Score Tournament Bracket 2!\n",
      "'Midway' (1976) vs 'Raiders of the Lost Ark' (1981)\n",
      "\n",
      "43 Yall Ready? 😈\n",
      "Snapchat Add Party #MarchMadness 😎,Start Putting Your Names, So People Can Add… https://t.co/08JKKskGd1\n",
      "\n",
      "44 RT @Emonn_: Only make 21 once so Ima live it up, happy 21st birthday to me ! #MarchMadness 😈😍🎉😝2️⃣1️⃣ https://t.co/poysq59CHe\n",
      "\n",
      "45 Whopping 45% Off!!  #Marchmadness @itsasecretco https://t.co/tB17NGGb1G\n",
      "\n",
      "46 RT @MatthewACherry: Happy March 1st!\n",
      "\n",
      "cc: @TheKidSkoob #MarchMadness https://t.co/SfMW7O8EGK\n",
      "\n",
      "47 RT @jrutmusic: My #MichiganState #SpartanNation custom hat, just in time for #MarchMadness to go with this Michigan snow madness ❄😊 https:/…\n",
      "\n",
      "48 RT @BlueCartHQ: BlueCart announces March Madness Challenge for #DC food industry workers. https://t.co/yXVEzfALgw @ZagatDC #DMV https://t.c…\n",
      "\n",
      "49 RT @MsKlafter: Congrats to our 10th Grade Honor Roll and High Honors winners @MrChiariello @tbaupdates #marchmadness https://t.co/3if2CNzuEJ\n",
      "\n",
      "50 RT @soldierforalife: Time to defend our title! Vote! 💪 #PersonOfInterest #RootAndShaw #MarchMadness #Zimbio https://t.co/NF51JRZECx https:/…\n",
      "\n",
      "51 RT @London366: Follow&amp;RT @wrestlelamia to #win £20 love2shop voucher. Cd. 25/3 #RAW  #WWE #MarchMadness #comp #Cats https://t.co/OyLrafrgxQ\n",
      "\n",
      "52 RT @SBTVNation: ***RETWEET AND LISTEN NOW***\n",
      "\n",
      "#SPORTS RADIO LIVE\n",
      "\n",
      "CLICK HERE: https://t.co/eNplUO5CPr\n",
      "\n",
      "#NBA #NHL #MarchMadness #Show https:…\n",
      "\n",
      "53 RT @OmigadyTV: I liked a @YouTube video from @k33yuh https://t.co/bhHBb8lDlF #MARCHMadness - NBA 2K16, The Division, &amp; Girl Talk Collabs!\n",
      "\n",
      "54 RT @UNHMBB: GameDay!! #AEPlayoffs #MarchMadness Go Cats! https://t.co/cMQQP3GBwI\n",
      "\n",
      "55 RT @peta2: To be a sport, both sides must agree to play.\n",
      "\n",
      "#MarchMadness #BanHunting https://t.co/UTGASUi6Ko\n",
      "\n",
      "56 Showing love for my Hoosiers today!!!   🏀🏀❤️❤️ #iubb #marchmadness… https://t.co/cUQjEeAN1N\n",
      "\n",
      "57 Typical FOMO over missing @Nov_Project_WOO's #MarchMadness workout. Stupid sleep. A solid core crew. https://t.co/7o9Q8bSOWR\n",
      "\n",
      "58 RT @marchmadness: Morrison, Reddick, Noah and George Mason. 2006's #OneShiningMoment had it all. Watch: https://t.co/VflMMRz3gu https://t.c…\n",
      "\n",
      "59 RT @SBTVNation: ***RETWEET AND LISTEN NOW***\n",
      "\n",
      "#SPORTS RADIO LIVE\n",
      "\n",
      "CLICK HERE: https://t.co/eNplUO5CPr\n",
      "\n",
      "#NBA #NHL #MarchMadness #Show https:…\n",
      "\n",
      "60 RT @BrandonSaho: When it's March 1st and this is all you can think about... #MarchMadness https://t.co/S7dtemWTcm\n",
      "\n",
      "61 RT @marchmadness: Morrison, Reddick, Noah and George Mason. 2006's #OneShiningMoment had it all. Watch: https://t.co/VflMMRz3gu https://t.c…\n",
      "\n",
      "62 Have we gone mad? Get this gorgeous Ivy set for $399! https://t.co/IjcOq1tYl1 #MarchMadness #Kenchii #Stylist #Hair https://t.co/KPxb1cYEkJ\n",
      "\n",
      "63 #MarchMadness 😈\n",
      "\n",
      "64 #MarchMadness mood = FREAKIN EXCITED! Make reservations in advance to secure a table! https://t.co/Fwy8CWyqqE\n",
      "\n",
      "65 RT @PAHSAlumniAssc: Are you ready for the madness? We are! #MarchMadness #pelicanpride #dontstopuntilyoureproud https://t.co/0fCSZbOdRE\n",
      "\n",
      "66 RT @Emonn_: Only make 21 once so Ima live it up, happy 21st birthday to me ! #MarchMadness 😈😍🎉😝2️⃣1️⃣ https://t.co/poysq59CHe\n",
      "\n",
      "67 RT @_kingkavalli: #MarchMadness #RoseposCityReturns #MarchMadness #RoseposCityReturns #MarchMadness\n",
      "\n",
      "68 RT @_kingkavalli: #MarchMadness #RoseposCityReturns #MarchMadness #RoseposCityReturns #MarchMadness #RoseposCityReturns\n",
      "\n",
      "69 RT @SBTVNation: ***RETWEET AND LISTEN NOW***\n",
      "\n",
      "#SPORTS RADIO LIVE\n",
      "\n",
      "CLICK HERE: https://t.co/eNplUO5CPr\n",
      "\n",
      "#NBA #NHL #MarchMadness #Show https:…\n",
      "\n",
      "70 RT @marchmadness: It's the most wonderful time of the year. #MarchMadness\n",
      "https://t.co/8dy8HdHEMp\n",
      "\n",
      "71 MONSTER card for today!!!! 65***** UNITS in play. https://t.co/Mxh1ig44sd $100 for 1 YEAR of all access VIP wagers!! #marchMADNESS #MLB\n",
      "\n",
      "72 The KCKCC Men also won their Semifinal game and are headed to the Championship!! #GoBlueDevils #MarchMadness https://t.co/TL3YDABcpN\n",
      "\n",
      "73 RT @UNHMBB: GameDay!! #AEPlayoffs #MarchMadness Go Cats! https://t.co/cMQQP3GBwI\n",
      "\n",
      "74 Only make 21 once so Ima live it up, happy 21st birthday to me ! #MarchMadness 😈😍🎉😝2️⃣1️⃣ https://t.co/poysq59CHe\n",
      "\n",
      "75 #MarchMadness 🐊🏀\n",
      "\n",
      "76 RT @88Keys_No_Locks: Damn this before and after is lit lol. Thank you, Miss Daisha! #PiscesGang #MarchMadness #13DaysForYou 😈 https://t.co/…\n",
      "\n",
      "77 #blackhistorymonth  #Continues #MarchMadness #TheBlackOut #revolutionary #blacklivesbeenmattered… https://t.co/RNMwhl9V5i\n",
      "\n",
      "78 #MarchMadness is almost here and thanks to #FiOSPhilly I won't be missing a minute of it ad https://t.co/ALwfml9OMk\n",
      "\n",
      "79 .@wealthspeaker on #Periscope: STOP being #Fooled with your #Finances #marchmadness #startup #scopestars https://t.co/GTgXFG1haT\n",
      "\n",
      "80 #blackmagic #dressitupandmakeitrealforme #marchmadness https://t.co/a0ohh8qftF\n",
      "\n",
      "81 RT @1fufure: #MarchMadness 😈\n",
      "\n",
      "82 .@wealthspeaker on #Periscope: STOP being #Fooled with your #Finances #marchmadness #startup #scopestars https://t.co/w492DRp4o8\n",
      "\n",
      "83 Damn this before and after is lit lol. Thank you, Miss Daisha! #PiscesGang #MarchMadness #13DaysForYou 😈 https://t.co/uehNAzKMbH\n",
      "\n",
      "84 RT @PopCrush: It's @5SOS' #5SOSFAM vs @adamlambert's #Glamberts in Round 1 of #MarchMadness https://t.co/s5kwVuXBkl https://t.co/REyXyVDynO\n",
      "\n",
      "85 RT @jjcarr_23: It's March, which mean #MarchMadness 🏀😈\n",
      "\n",
      "86 This never gets old.  https://t.co/kgtJmjHD6X\n",
      "\n",
      "87 RT @SBTVNation: ***RETWEET AND LISTEN NOW***\n",
      "\n",
      "#SPORTS RADIO LIVE\n",
      "\n",
      "CLICK HERE: https://t.co/eNplUO5CPr\n",
      "\n",
      "#NBA #NHL #MarchMadness #Show https:…\n",
      "\n",
      "88 Hey @marchmadness - I see you over there 🏀 #hurryup\n",
      "\n",
      "89 RT @2HARD2GUARD3: #marchmadness🏀\n",
      "\n",
      "90 RT @SBTVNation: ***RETWEET AND LISTEN NOW***\n",
      "\n",
      "#SPORTS RADIO LIVE\n",
      "\n",
      "CLICK HERE: https://t.co/eNplUO5CPr\n",
      "\n",
      "#NBA #NHL #MarchMadness #Show https:…\n",
      "\n",
      "91 My favorite alpha, my Pisces brotha, my trill nigga, TRELLMODOLLAZ. HAPPY BIRTHDAY NIGGA. #MarchMadness #PISCESGANG https://t.co/dgu9sX8GBQ\n",
      "\n",
      "92 RT @jrutmusic: My #MichiganState #SpartanNation custom hat, just in time for #MarchMadness to go with this Michigan snow madness ❄😊 https:/…\n",
      "\n",
      "93 @kellycanes @Cubiche047 @S_Ingersoll @Flash0151 @dacqua1323 @flkeyssb20 Happy Wednesday everyone!!! #BeatTheIrish #TheU #MarchMadness\n",
      "\n",
      "94 College bball #champweek is here! #MarchMadness is nearly upon us! 🏀🎉🏀🎉🏀 https://t.co/osTYdkHtvF\n",
      "\n",
      "95 RT @TheWallnuts: Round 1, Group 5: RT for left, LIKE for right (c. ACMI) #MarchMadness #Gotye https://t.co/Q2zglmO8hI\n",
      "\n",
      "96 RT @TheWallnuts: Round 1, Group 8: RT for left, LIKE for right. #MarchMadness #Gotye https://t.co/phndgaNJnS\n",
      "\n",
      "97 Yep yep!! #marchmadness https://t.co/VgI9OIWLyr\n",
      "\n",
      "98 GAMEDAY @OVCSports STYLE! Ready for @AustinPeayMBB to return to Music City TONIGHT! #marchmadness begins tonight at 6:00 @ESPNClarksville\n",
      "\n",
      "99 RT @BrandonSaho: When it's March 1st and this is all you can think about... #MarchMadness https://t.co/S7dtemWTcm\n",
      "\n",
      "100 Just 11 more days till Selection Sunday! #MarchMadness #CollegeBasketball #Countdown 🏀\n",
      "\n",
      "PAGE 2\n",
      "101 Round 1, Group 8: RT for left, LIKE for right. #MarchMadness #Gotye https://t.co/phndgaNJnS\n",
      "\n",
      "102 Congrats to our 10th Grade Honor Roll and High Honors winners @MrChiariello @tbaupdates #marchmadness https://t.co/3if2CNzuEJ\n",
      "\n",
      "103 RT @PopCrush: It's @rihanna’s #Navy vs @britneyspears' #britneyarmy in the first round of #MarchMadness: https://t.co/Wc7plLDUsS https://t.…\n",
      "\n",
      "104 RT @Emalie021: March 1st makes me happy because that means #MarchMadness starts soon😁🏀\n",
      "\n",
      "105 Great job Lady Blue Devils! Wichita here we come!! #GoBlueDevils #KCKCCPride #MarchMadness #basketball https://t.co/9ZtTP07pxp\n",
      "\n",
      "106 Repost from @amiram17  -  Our #marchmadness has begun! #letsgowarriors #spiritfingers… https://t.co/5agIO7gDHm\n",
      "\n",
      "107 RT @marchmadness: Morrison, Reddick, Noah and George Mason. 2006's #OneShiningMoment had it all. Watch: https://t.co/VflMMRz3gu https://t.c…\n",
      "\n",
      "108 RT @marchmadness: Morrison, Reddick, Noah and George Mason. 2006's #OneShiningMoment had it all. Watch: https://t.co/VflMMRz3gu https://t.c…\n",
      "\n",
      "109 We're all a little mad here 😈 #MarchMadness https://t.co/fWbFM0dYpg\n",
      "\n",
      "110 RT @marchmadness: Morrison, Reddick, Noah and George Mason. 2006's #OneShiningMoment had it all. Watch: https://t.co/VflMMRz3gu https://t.c…\n",
      "\n",
      "111 RT @PopCrush: It’s @LittleMix’s #Mixers vs. @GirlsGeneration’s #Sones in Round 1 of #MarchMadness: https://t.co/Ci9o8E3tgh https://t.co/5Og…\n",
      "\n",
      "112 SPONSORING ⬆️ PV ⬆️ INCOME ⬆️ \n",
      "#MarchMadness @ Doubletree by Hilton Richmond Midlothian https://t.co/QhMKeGBMHb\n",
      "\n",
      "113 The first of three Final Fours that I went to with Florida. Can't wait to go there to cheer for @CanesHoops one day https://t.co/wYVLaOj0Cy\n",
      "\n",
      "114 #SusanMiller just blew my mind - #MarchMadness\n",
      "\n",
      "115 RT @1fufure: #MarchMadness 😈\n",
      "\n",
      "116 $OXYS - OxySure Therapeutics Launches \"March Madness\" Sales Competition https://t.co/gailjKsVWx #MarchMadness\n",
      "\n",
      "117 My #MichiganState #SpartanNation custom hat, just in time for #MarchMadness to go with this Michigan snow madness ❄😊 https://t.co/77cDXABUOg\n",
      "\n",
      "118 RT @BrandonSaho: When it's March 1st and this is all you can think about... #MarchMadness https://t.co/S7dtemWTcm\n",
      "\n",
      "119 Balling like its March madness🏀 #futuresintown #Marchmadness\n",
      "\n",
      "120 RT @LycaRadio1458: @AmboMagic is giving away a DAB radio before 4pm today! Here's the number 0844 33 898 44, keep listening for the questio…\n",
      "\n",
      "121 Get double on all in store printing! The perfect time to get your promotional materials! #printing #brochures #MarchMadness #DoubleYourPrint\n",
      "\n",
      "122 RT @theACCDN: Happy March! Let's dance! #MarchMadness \n",
      "\n",
      "(cc: @DGreen_14) https://t.co/oYI6PFF1fb\n",
      "\n",
      "123 RT @MCTuring: Round 1! Vote for Root and Shaw! \n",
      "\n",
      "https://t.co/Ev6Jt6Y8i2\n",
      "\n",
      "#MarchMadness #Zimbio #PersonOfInterest https://t.co/BWBSbhY2rL\n",
      "\n",
      "124 Round 1, Group 7: RT for left, LIKE for right. #MarchMadness #Gotye https://t.co/zgcQx600Cj\n",
      "\n",
      "125 RT @RidersBball: Huge thanks again to @LCFC for the hospitality at last night match #LeicesterSport #MarchMadness https://t.co/gualWg3A06\n",
      "\n",
      "126 Ya mismo es el marchmadness 🔥🔥🔥\n",
      "\n",
      "127 #MarchMadness, 1/2 off @IslandCreek Oysters, $25 Menu #LobsterRoll #Chowder @Gansettbeer #WhoopiePie @izzysmiami https://t.co/HugNYAKaCg\n",
      "\n",
      "128 #OnMyOwnTHEMIXTAPE #SoonerThanYouThink #March2016 #MarchMadness #NDO #WatchMeWork #HunterPromotions https://t.co/zcbKVAE4rU\n",
      "\n",
      "129 RT @Emalie021: March 1st makes me happy because that means #MarchMadness starts soon😁🏀\n",
      "\n",
      "130 RT @BrandonSaho: When it's March 1st and this is all you can think about... #MarchMadness https://t.co/S7dtemWTcm\n",
      "\n",
      "131 Lol, @_JBright @Rap1d_PHIre @KenSo_Heartless #InstantClassic #MarchMadness  https://t.co/0IDPtTZzMg\n",
      "\n",
      "132 #marchmadness aka ALEXUS BIRTH MONTH 💋\n",
      "\n",
      "133 RT @KP_Trill: greatest song about the greatest month RT @C_da_Esquire: #MarchMadness\n",
      "\n",
      "134 #MarchMadness in Vegas baby!! just 2 mo' weeks.\n",
      "\n",
      "135 greatest song about the greatest month RT @C_da_Esquire: #MarchMadness\n",
      "\n",
      "136 RT @SanJacWBB: Come out and support your @SanJacCollege Gators in the Region XIV Tournament this week in Lufkin, TX. #MarchMadness https://…\n",
      "\n",
      "137 RT @jvfernandez87: It's a good feeling to wake up today and realize that both #MarchMadness and #MarchMATness are barely 2 weeks away. http…\n",
      "\n",
      "138 @AmboMagic is giving away a DAB radio before 4pm today! Here's the number 0844 33 898 44, keep listening for the question! #marchmadness\n",
      "\n",
      "139 RT @ShareefAbdur_R: Idk about you, but I’m ready for some #MarchMadness. Let’s go @CalMensBBall #TogetherWeAttack\n",
      "\n",
      "140 RT @SBTVNation: ***RETWEET AND LISTEN NOW***\n",
      "\n",
      "#SPORTS RADIO LIVE\n",
      "\n",
      "CLICK HERE: https://t.co/eNplUO5CPr\n",
      "\n",
      "#NBA #NHL #MarchMadness #Show https:…\n",
      "\n",
      "141 RT @marchmadness: Morrison, Reddick, Noah and George Mason. 2006's #OneShiningMoment had it all. Watch: https://t.co/VflMMRz3gu https://t.c…\n",
      "\n",
      "142 RT @TheWallnuts: Round 1, Group 5: RT for left, LIKE for right (c. ACMI) #MarchMadness #Gotye https://t.co/Q2zglmO8hI\n",
      "\n",
      "143 March has always been one of my most PROFITABLE months\n",
      "3-1 start 💰 +7.10U\n",
      "4-0 run 🔥 on 5* MAX plays\n",
      "https://t.co/YFQgMgDDig\n",
      "#marchmadness\n",
      "\n",
      "144 RT @jcall1: It's the most wonderful time of the year #MarchMadness 😎🏀\n",
      "\n",
      "145 RT @RidersBball: Huge thanks again to @LCFC for the hospitality at last night match #LeicesterSport #MarchMadness https://t.co/gualWg3A06\n",
      "\n",
      "146 RT @UNHMBB: GameDay!! #AEPlayoffs #MarchMadness Go Cats! https://t.co/cMQQP3GBwI\n",
      "\n",
      "147 #MarchMadness\n",
      "\n",
      "148 Round 1, Group 6: RT for left (c. Mat Ward), LIKE for right (c.Cybele Malinowski) #MarchMadness #Gotye https://t.co/CC7hF6H8uB\n",
      "\n",
      "149 RT @RidersBball: #AllAccess: The team are back on court today getting ready for this weekend's game to begin #MarchMadness! https://t.co/ur…\n",
      "\n",
      "150 Today for #MarchMadness! Pint and a pound $12.99 AND $1 off any appetizer! #wingsandthings #ColeHarbour https://t.co/ju9XPZzFE6\n",
      "\n",
      "151 RT @SBTVNation: ***RETWEET AND LISTEN NOW***\n",
      "\n",
      "#SPORTS RADIO LIVE\n",
      "\n",
      "CLICK HERE: https://t.co/eNplUO5CPr\n",
      "\n",
      "#NBA #NHL #MarchMadness #Show https:…\n",
      "\n",
      "152 RT @1fufure: #MarchMadness 😈\n",
      "\n",
      "153 RT @London366: Follow&amp;RT @wrestlelamia to #win £20 love2shop voucher. Cd. 25/3 #RAW  #WWE #MarchMadness #comp #Cats https://t.co/OyLrafrgxQ\n",
      "\n",
      "154 You know you cannot miss a Red Robin burger, enter now. #marchmadness #betting #sportsbetting #sports #cbb #nba #nfl https://t.co/fTb0TD6O7V\n",
      "\n",
      "155 March Madness Sale at https://t.co/c5VLQWh9My Just use Coupon Code MarchMadness for 15% off your order!! :) :)\n",
      "\n",
      "156 Hercu || H E R C U L E S. Weekend I See You #SlimeSeason #ImUp #marchmadness #wednesdaygrind💪💪💪 https://t.co/ABQ9zR9xwp\n",
      "\n",
      "157 RT @marchmadness: Morrison, Reddick, Noah and George Mason. 2006's #OneShiningMoment had it all. Watch: https://t.co/VflMMRz3gu https://t.c…\n",
      "\n",
      "158 RT @GetQuicker: #MarchMadness starts tonight @LRUWBB at Anderson and @LRU_Basketball hosts Newberry #PacktheShu #ItsAllAboutLRU 🐻🏀 https://…\n",
      "\n",
      "159 @_KatieMJones @FGCU_MBB @UNFOspreys \n",
      "\n",
      "If FGCU wins, we'll have a game at Alico for a trip to #MarchMadness.\n",
      "\n",
      "160 MarchMadness 😅\n",
      "\n",
      "161 RT @UNHMBB: GameDay!! #AEPlayoffs #MarchMadness Go Cats! https://t.co/cMQQP3GBwI\n",
      "\n",
      "162 RT @1fufure: #MarchMadness 😈\n",
      "\n",
      "163 ....that clock might not hit midnight for a long time ... Feels good to hit up this hashtag.... #MarchMadness... https://t.co/X3NtcWLlge\n",
      "\n",
      "164 RT @ChoJustice: Beware the #IdesOfMarch = #Shakespeare U.S. We say #MarchMadness  Enjoy it Friends. Dance, Sing,Live cc @ayla79_nl 🌹 https:…\n",
      "\n",
      "165 RT @SBTVNation: ***RETWEET AND LISTEN NOW***\n",
      "\n",
      "#SPORTS RADIO LIVE\n",
      "\n",
      "CLICK HERE: https://t.co/eNplUO5CPr\n",
      "\n",
      "#NBA #NHL #MarchMadness #Show https:…\n",
      "\n",
      "166 * * VOTE Higher M-Pact on https://t.co/Sj9NLKVWBK * *\n",
      "We're in Round 1, Match 3 of 16 // #MarchMadness #Sweet16 https://t.co/l2Qvw0SMz4\n",
      "\n",
      "167 RT @SBTVNation: ***RETWEET AND LISTEN NOW***\n",
      "\n",
      "#SPORTS RADIO LIVE\n",
      "\n",
      "CLICK HERE: https://t.co/eNplUO5CPr\n",
      "\n",
      "#NBA #NHL #MarchMadness #Show https:…\n",
      "\n",
      "168 Round 1, Group 5: RT for left, LIKE for right (c. ACMI) #MarchMadness #Gotye https://t.co/Q2zglmO8hI\n",
      "\n",
      "169 RT @marchmadness: Boiler up!\n",
      "\n",
      "Vince Edwards leads strong shooting night for No. 15 Purdue in 81-62 win at Nebraska. https://t.co/BTFUtwvBmG\n",
      "\n",
      "170 Happy #MarchMadness month! Join our #Pool 4 a chance 2 #Win #FREE #STATS #FORAYEAR. #NCAA #Basketball #Bracket #Atl https://t.co/bGw7rjj47M\n",
      "\n",
      "171 RT @SBTVNation: ***RETWEET AND LISTEN NOW***\n",
      "\n",
      "#SPORTS RADIO LIVE\n",
      "\n",
      "CLICK HERE: https://t.co/eNplUO5CPr\n",
      "\n",
      "#NBA #NHL #MarchMadness #Show https:…\n",
      "\n",
      "172 RT @brotherbynature: @ThatCatCavalier shares with us his story, and how music is a part of his everyday life. #PROFILES #MarchMadness https…\n",
      "\n",
      "173 RT @brotherbynature: @ThatCatCavalier shares with us his story, and how music is a part of his everyday life. #PROFILES #MarchMadness https…\n",
      "\n",
      "174 One of my favourite years of college basketball💕 Also it's spelt Redick.  https://t.co/ZJp9yaOe2G\n",
      "\n",
      "175 .@wealthspeaker on #Periscope: STOP being #Fooled with your #Finances #marchmadness #startup #scopestars https://t.co/errRvI1nE7\n",
      "\n",
      "176 RT @1fufure: #MarchMadness 😈\n",
      "\n",
      "177 RT @BradPowers7: 3 more conference tournaments start today in @AmericaEast @NECsports and @OVCSports #MarchMadness\n",
      "\n",
      "178 The Leaders Of The Challenge #SendYourVideos #FreeVIPTable #MarchMadness #March4th #GetYaPreSale… https://t.co/cllsx5egfL\n",
      "\n",
      "179 #marchmadness\n",
      "\n",
      "180 RT @SBTVNation: ***RETWEET AND LISTEN NOW***\n",
      "\n",
      "#SPORTS RADIO LIVE\n",
      "\n",
      "CLICK HERE: https://t.co/eNplUO5CPr\n",
      "\n",
      "#NBA #NHL #MarchMadness #Show https:…\n",
      "\n",
      "181 RT @London366: Follow&amp;RT @wrestlelamia to #win £20 love2shop voucher. Cd. 25/3 #RAW  #WWE #MarchMadness #comp #Cats https://t.co/OyLrafrgxQ\n",
      "\n",
      "182 RT @LzLJT: Friday March 18th we goin crazy at Firestone once again 😈 #ClimaX3 LINK IN MY BIO 🙌🏾 #MarchMadness #LjT 🔥🔥🔥🔥🔥 https://t.co/RVGIO…\n",
      "\n",
      "183 RT @marchmadness: A career-high for Kris Jenkins as No. 3 Villanova dominates DePaul, 83-62. https://t.co/4wOSaeO0vk\n",
      "\n",
      "184 #WIN 2 color changing t-shirts of choice from @delsolcolor Ends 3/3 #Giveaway #marchmadness https://t.co/MWDNZOvZ1O https://t.co/LqQ2vOb4vr\n",
      "\n",
      "185 It's #MarchMadness on the blog! Today I talk about #SpringTrends &amp; how to style them. Enjoy! https://t.co/0Fw7B51Grb https://t.co/pP52cNqxhr\n",
      "\n",
      "186 RT @marchmadness: Morrison, Reddick, Noah and George Mason. 2006's #OneShiningMoment had it all. Watch: https://t.co/VflMMRz3gu https://t.c…\n",
      "\n",
      "187 RT @BradPowers7: 3 more conference tournaments start today in @AmericaEast @NECsports and @OVCSports #MarchMadness\n",
      "\n",
      "188 #WIN 2 color changing t-shirts of choice from @delsolcolor Ends 3/3 #Giveaway #marchmadness https://t.co/0nBDVrfyGB https://t.co/Vm0AGKl8yi\n",
      "\n",
      "189 RT @RaNgErScOpE: MARCH VIDEO SCHEDULE: TUESDAY, FRIDAY &amp; SATURDAY @ 3PM PACIFIC / 6PM EASTERN. ~SHARK CARD GIVEAWAY!!~ #MarchMadness https:…\n",
      "\n",
      "190 COLUMBIA!!! Repost from @louiveemydj - #MarchMadness this Saturday, March 5th at myxxnightlife •… https://t.co/1gxJA7SuP2\n",
      "\n",
      "191 #MarchMadness #LowLife\n",
      "\n",
      "192 RT @KHQMattRogers: Move over #MarchMadness we're talking baseball on #gds @Mariners in action! See you on @MyFoxSpokane at 7AM! https://t.c…\n",
      "\n",
      "193 RT @RaNgErScOpE: MARCH VIDEO SCHEDULE: TUESDAY, FRIDAY &amp; SATURDAY @ 3PM PACIFIC / 6PM EASTERN. ~SHARK CARD GIVEAWAY!!~ #MarchMadness https:…\n",
      "\n",
      "194 RT @London366: Follow&amp;RT @wrestlelamia to #win £20 love2shop voucher. Cd. 25/3 #RAW  #WWE #MarchMadness #comp https://t.co/0Wn76ENUDy\n",
      "\n",
      "195 RT @LzLJT: Friday March 18th we goin crazy at Firestone once again 😈 #ClimaX3 LINK IN MY BIO 🙌🏾 #MarchMadness #LjT 🔥🔥🔥🔥🔥 https://t.co/RVGIO…\n",
      "\n",
      "196 RT @miakhalifa: HAPPY MARCH 1st!! Let the madness begin!!! #MarchMadness\n",
      "\n",
      "197 RT @GreendaleHoops: #Panthers finished the regular season 14-8 and will host Waukesha North in the regional semi-finals Friday March 4th #M…\n",
      "\n",
      "198 RT @1fufure: #MarchMadness 😈\n",
      "\n",
      "199 RT @MCTuring: Round 1! Vote for Root and Shaw! \n",
      "\n",
      "https://t.co/Ev6Jt6Y8i2\n",
      "\n",
      "#MarchMadness #Zimbio #PersonOfInterest https://t.co/BWBSbhY2rL\n",
      "\n",
      "200 #MarchMadness\n",
      "\n",
      "PAGE 3\n",
      "201 RT @marchmadness: Morrison, Reddick, Noah and George Mason. 2006's #OneShiningMoment had it all. Watch: https://t.co/VflMMRz3gu https://t.c…\n",
      "\n",
      "202 RT @marchmadness: Morrison, Reddick, Noah and George Mason. 2006's #OneShiningMoment had it all. Watch: https://t.co/VflMMRz3gu https://t.c…\n",
      "\n",
      "203 #MarchMadness\n",
      "\n",
      "204 RT @Bellavixenn_: #Marchmadness @1178Wave https://t.co/BNAT4p7kHT\n",
      "\n",
      "205 RT @C_da_Esquire: #MarchMadness\n",
      "\n",
      "206 #MarchMadness @ProfessorX16 Duke got it this year🔵⚪️😅\n",
      "\n",
      "207 RT @marchmadness: Morrison, Reddick, Noah and George Mason. 2006's #OneShiningMoment had it all. Watch: https://t.co/VflMMRz3gu https://t.c…\n",
      "\n",
      "208 RT @SBTVNation: ***RETWEET AND LISTEN NOW***\n",
      "\n",
      "#SPORTS RADIO LIVE\n",
      "\n",
      "CLICK HERE: https://t.co/eNplUO5CPr\n",
      "\n",
      "#NBA #NHL #MarchMadness #Show https:…\n",
      "\n",
      "209 RT @SBTVNation: ***RETWEET AND LISTEN NOW***\n",
      "\n",
      "#SPORTS RADIO LIVE\n",
      "\n",
      "CLICK HERE: https://t.co/eNplUO5CPr\n",
      "\n",
      "#NBA #NHL #MarchMadness #Show https:…\n",
      "\n",
      "210 RT @marchmadness: Morrison, Reddick, Noah and George Mason. 2006's #OneShiningMoment had it all. Watch: https://t.co/VflMMRz3gu https://t.c…\n",
      "\n",
      "211 RT @UNHMBB: GameDay!! #AEPlayoffs #MarchMadness Go Cats! https://t.co/cMQQP3GBwI\n",
      "\n",
      "212 RT @lipstickthvg: #MarchMadness https://t.co/iTR40MUcRX\n",
      "\n",
      "213 ballin like #marchmadness\n",
      "\n",
      "214 By _weonent_official via repostwhiz app:\n",
      "😈😈 3/25 ☔️☔️ #MarchMadness… https://t.co/ZDjYoIqFbu\n",
      "\n",
      "215 #truth #marchmadness  https://t.co/aNZDLG2LnL\n",
      "\n",
      "216 RT @marchmadness: Morrison, Reddick, Noah and George Mason. 2006's #OneShiningMoment had it all. Watch: https://t.co/VflMMRz3gu https://t.c…\n",
      "\n",
      "217 RT @carpeNIKA: #MarchMadness\n",
      "40 Oz Party\n",
      "SXSW\n",
      "FullpieATL \n",
      "\n",
      "..let's get it!\n",
      "\n",
      "218 RT @RADPAC: March 1st = time for our 4th Annual #MarchMadness for #RADPAC. Learn how your chapter can win $500! Details: https://t.co/ELvoL…\n",
      "\n",
      "219 It's #MarchMadness at @Choice_Pet !!!!! https://t.co/t8CbupNaP2\n",
      "\n",
      "220 Get your March Maddness on https://t.co/YyTwRmFMLW #MarchMadness #MADDTalent @SportsCenter @espn https://t.co/WIi6ioaz2Y\n",
      "\n",
      "221 RT @C_da_Esquire: #MarchMadness\n",
      "\n",
      "222 RT @SBTVNation: ***RETWEET AND LISTEN NOW***\n",
      "\n",
      "#SPORTS RADIO LIVE\n",
      "\n",
      "CLICK HERE: https://t.co/eNplUO5CPr\n",
      "\n",
      "#NBA #NHL #MarchMadness #Show https:…\n",
      "\n",
      "223 RT @SBTVNation: ***RETWEET AND LISTEN NOW***\n",
      "\n",
      "#SPORTS RADIO LIVE\n",
      "\n",
      "CLICK HERE: https://t.co/eNplUO5CPr\n",
      "\n",
      "#NBA #NHL #MarchMadness #Show https:…\n",
      "\n",
      "224 RT @C_da_Esquire: #MarchMadness\n",
      "\n",
      "225 Almost forgot... Shout out my guy tonyskinn10 in the paper last week! #marchmadness https://t.co/QlkdaSMPwV\n",
      "\n",
      "226 Move over #MarchMadness we're talking baseball on #gds @Mariners in action! See you on @MyFoxSpokane at 7AM! https://t.co/VBtEt3j0l6\n",
      "\n",
      "227 RT @C_da_Esquire: #MarchMadness\n",
      "\n",
      "228 #MarchMadness\n",
      "\n",
      "229 #MarchMadness\n",
      "\n",
      "230 RT @misterlaplante: #gameday 🏀 #MarchMadness\n",
      "\n",
      "231 RT @AlexBiggerstaff: LE MEILLEUR MOIS DE L'ANNÉE EST ENFIN ARRIVÉ. \n",
      "\n",
      "#MARCHMADNESS #NCAAMCS 🏀🔥🏀🔥🏀 https://t.co/QpECfenGbo\n",
      "\n",
      "232 RT @MarkiaBaggs: #MarchMadness 😎\n",
      "\n",
      "233 3 more conference tournaments start today in @AmericaEast @NECsports and @OVCSports #MarchMadness\n",
      "\n",
      "234 RT @1fufure: #MarchMadness 😈\n",
      "\n",
      "235 Bring on the college basketball 😈🔥🔥🔥 #MarchMadness\n",
      "\n",
      "236 .@wealthspeaker on #Periscope: STOP being #Fooled with your #Finances #marchmadness #startup #scopestars https://t.co/p1L62U76AD\n",
      "\n",
      "237 There's still time to vote in Round 1 of our #MarchMadness #BattleOfTheBooks! https://t.co/1pnzWRUaZH #ScoutsRead https://t.co/0KoqX2eVkI\n",
      "\n",
      "238 Freshman applications were due yesterday! Temple is on Spring Break and I'm NC for #SETC2016 #MarchMadness is here! https://t.co/7ILKD4McyN\n",
      "\n",
      "239 RT @marchmadness: Morrison, Reddick, Noah and George Mason. 2006's #OneShiningMoment had it all. Watch: https://t.co/VflMMRz3gu https://t.c…\n",
      "\n",
      "240 Enter CURE's #MarchMadness bracket to help kids with #cancer + win prizes! https://t.co/5Jvss2B2Ql #basketball\n",
      "\n",
      "241 RT @DanielSeanKase: March 1st means #MarchMadness soon!! #PressVirginia #WVU\n",
      "\n",
      "242 11 more fuckin days im SO hype #PurpleReignTour #HoustonTexas #MarchMadness @1future 💜🍇☔️\n",
      "\n",
      "243 RT @GrindTimeTV: #MarchMadness #GrindTimeTv\n",
      "\n",
      "244 RT @marchmadness: Morrison, Reddick, Noah and George Mason. 2006's #OneShiningMoment had it all. Watch: https://t.co/VflMMRz3gu https://t.c…\n",
      "\n",
      "245 #SPORTS! #EXTRA: #WarrenBuffett  is holding a $100,000 #MarchMadness Pool... https://t.co/4dKVRcRJFm\n",
      "\n",
      "246 RT @GetQuicker: #MarchMadness starts tonight @LRUWBB at Anderson and @LRU_Basketball hosts Newberry #PacktheShu #ItsAllAboutLRU 🐻🏀 https://…\n",
      "\n",
      "247 RT @BojiGBB: Good luck to @ladydutchhoops today at the Well! We'll be pulling for you guys!#MarchMadness\n",
      "\n",
      "248 #gameday 🏀 #MarchMadness\n",
      "\n",
      "249 RT @marchmadness: Virginia still alive for share of @theACC title.\n",
      "\n",
      "No. 4 Cavs pick up road win at Clemson, 64-57. https://t.co/3aJNZu4vqK\n",
      "\n",
      "250 RT @SBTVNation: ***RETWEET AND LISTEN NOW***\n",
      "\n",
      "#SPORTS RADIO LIVE\n",
      "\n",
      "CLICK HERE: https://t.co/eNplUO5CPr\n",
      "\n",
      "#NBA #NHL #MarchMadness #Show https:…\n",
      "\n",
      "251 RT @1fufure: #MarchMadness 😈\n",
      "\n",
      "252 RT @1fufure: #MarchMadness 😈\n",
      "\n",
      "253 #MarchMadness #GrindTimeTv\n",
      "\n",
      "254 That's not all though! You'll also be entered into our grand prize #MarchMadness raffle. Winner picked at end of month. Prize? Spa retreat!\n",
      "\n",
      "255 .@wealthspeaker on #Periscope: STOP being #Fooled with your #Finances #marchmadness #startup #scopestars https://t.co/7e7a73d5o3\n",
      "\n",
      "256 RT @GetQuicker: #MarchMadness starts tonight @LRUWBB at Anderson and @LRU_Basketball hosts Newberry #PacktheShu #ItsAllAboutLRU 🐻🏀 https://…\n",
      "\n",
      "257 RT @PopeJohnBball: State Playoffs start tonight. At home at 6:00 vs Delbarton. #playoffs #marchmadness #njhoops\n",
      "\n",
      "258 We Bout To Go Ham This Month #BossbredFamily #MarchMadness https://t.co/yz4NAhqiXn\n",
      "\n",
      "259 It's a winter wonderland out there, people! Enjoy! #marchmadness #MarchBreak #SnowDay\n",
      "\n",
      "260 #MarchMadness\n",
      "\n",
      "261 .@wealthspeaker on #Periscope: STOP being #Fooled with your #Finances #marchmadness #startup #scopestars https://t.co/ZZ6UiSu6HN\n",
      "\n",
      "262 We're doing our own #MarchMadness! Spend $150+ in retail at our @2NDStDistrict or @HCGalleria locations and pick from our grab bag of gifts!\n",
      "\n",
      "263 RT @SBTVNation: ***RETWEET AND LISTEN NOW***\n",
      "\n",
      "#SPORTS RADIO LIVE\n",
      "\n",
      "CLICK HERE: https://t.co/eNplUO5CPr\n",
      "\n",
      "#NBA #NHL #MarchMadness #Show https:…\n",
      "\n",
      "264 .@wealthspeaker on #Periscope: STOP being #Fooled with your #Finances #marchmadness #startup #scopestars https://t.co/xBEBClmyGy\n",
      "\n",
      "265 Old creepy GW mascot at 0:02 https://t.co/nfpXPkvAEh\n",
      "\n",
      "266 RT @PopeJohnBball: State Playoffs start tonight. At home at 6:00 vs Delbarton. #playoffs #marchmadness #njhoops\n",
      "\n",
      "267 25% off all cottages plus $100 gift card with any 2-night stay in March! Visit https://t.co/O9nHpn1xfI or call 800-559-6391.\n",
      "\n",
      "268 RT @TheddlovatoSC: Demi via snapchat: 1 hr cardio = DONE!!! #MarchMadness 🏋🏿💪 https://t.co/M7zpLNU0NW\n",
      "\n",
      "269 State Playoffs start tonight. At home at 6:00 vs Delbarton. #playoffs #marchmadness #njhoops\n",
      "\n",
      "270 Comic Con + @elliegoulding + @the1975 + @TheVampsband / @ConorMaynard = My March 😍 #ComicCon #Concerts #Gigs #MarchMadness\n",
      "\n",
      "271 RT @TheddlovatoSC: Demi via snapchat: 1 hr 40  in the gym complete!! #marchmadness 💙💚 https://t.co/Z449rZ7MZD\n",
      "\n",
      "272 Good morning from the @Raleigh_CC #Raleigh #local #travel #hotel #car #flight #MarchMadness #vacation #tmpvacations https://t.co/MfL4qWXAuX\n",
      "\n",
      "273 RT @TeamAINIOM: BARS from @2gmakeamove,👂🏾more here https://t.co/k84POKqLdM #marchmadness #season4 #shesgottashow #AINIOM @CMPLX2010 https:/…\n",
      "\n",
      "274 RT @SanJacWBB: Come out and support your @SanJacCollege Gators in the Region XIV Tournament this week in Lufkin, TX. #MarchMadness https://…\n",
      "\n",
      "275 @marchmadness Solid throwback.\n",
      "\n",
      "276 What2Watch #MarchMadness 2nite #TV: 8-11pm @ABC f/: #TheGoldbergs; #TheRealONeals #SeriesPremiere; #ModernFamily &amp; @TheRealONeals!\n",
      "\n",
      "277 @YoungsTeflon #marchmadness making noise 👊🏽\n",
      "\n",
      "278 RT @StoneBearMayor: The Bear released 3 artists in the last 6 weeks. Stoked.\n",
      "Get the tracks now on #iTunes\n",
      "#Oscars #MarchMadness #Music htt…\n",
      "\n",
      "279 RT @SBTVNation: ***RETWEET AND LISTEN NOW***\n",
      "\n",
      "#SPORTS RADIO LIVE\n",
      "\n",
      "CLICK HERE: https://t.co/eNplUO5CPr\n",
      "\n",
      "#NBA #NHL #MarchMadness #Show https:…\n",
      "\n",
      "280 RT @ChoJustice: Beware the #IdesOfMarch = #Shakespeare U.S. We say #MarchMadness  Enjoy it Friends. Dance, Sing,Live cc @ayla79_nl 🌹 https:…\n",
      "\n",
      "281 .@wealthspeaker on #Periscope: STOP being #Fooled with your #Finances #marchmadness #startup #scopestars https://t.co/h0NZBoTBaM\n",
      "\n",
      "282 RT @sanjacsports: Come out and support your @SanJacCollege Gators in the Region XIV Tournament this week in Lufkin, TX. #MarchMadness https…\n",
      "\n",
      "283 What2Watch #MarchMadness 2nite #TV: 8:30pm-10pm @ABC f/: #TheRealONeals #SeriesPremiere; #ModernFamily &amp; #RealONeals 2nd Ep.\n",
      "#comedy\n",
      "\n",
      "284 RT @1fufure: #MarchMadness 😈\n",
      "\n",
      "285 RT @soldierforalife: Time to defend our title! Vote! 💪 #PersonOfInterest #RootAndShaw #MarchMadness #Zimbio https://t.co/NF51JRZECx https:/…\n",
      "\n",
      "286 RT @HDofModesto: #MarchMadness time to turn the page on the calendar. Time to ride. #time #ride https://t.co/tMbnlWBV8P\n",
      "\n",
      "287 RT @SBTVNation: ***RETWEET AND LISTEN NOW***\n",
      "\n",
      "#SPORTS RADIO LIVE\n",
      "\n",
      "CLICK HERE: https://t.co/eNplUO5CPr\n",
      "\n",
      "#NBA #NHL #MarchMadness #Show https:…\n",
      "\n",
      "288 RT @SBTVNation: ***RETWEET AND LISTEN NOW***\n",
      "\n",
      "#SPORTS RADIO LIVE\n",
      "\n",
      "CLICK HERE: https://t.co/eNplUO5CPr\n",
      "\n",
      "#NBA #NHL #MarchMadness #Show https:…\n",
      "\n",
      "289 What2Watch #MarchMadness 2nite #TV: 8:30pm #TheRealONeals #SeriesPremiere &amp; @TheRealONeals 2nd New Ep. 9:30pm @ABC! \n",
      "#ABCFunny\n",
      "\n",
      "290 Can it just be Friday? #MarchMadness\n",
      "\n",
      "291 RT @1fufure: #MarchMadness 😈\n",
      "\n",
      "292 .@wealthspeaker on #Periscope: STOP being #Fooled with your #Finances #marchmadness #startup #scopestars https://t.co/mKwj8qOnci\n",
      "\n",
      "293 RT @London366: Follow&amp;RT @wrestlelamia to #win £20 love2shop voucher. Cd. 25/3 #RAW  #WWE #MarchMadness #comp #Cats https://t.co/OyLrafrgxQ\n",
      "\n",
      "294 Best NCAA tournament ever!  https://t.co/wnHPl9rYsP\n",
      "\n",
      "295 I turn 21 in 21 days.\n",
      "\n",
      "#marchmadness\n",
      "\n",
      "296 What2Watch #MarchMadness 2nite #TV: 8pm @FOXTV- #RosewoodReturns w/#Rosewood #MidSeasonPremiere! \n",
      "@MorrisChestnut3 \n",
      "@RosewoodFOX\n",
      "\n",
      "297 RT @soldierforalife: Time to defend our title! Vote! 💪 #PersonOfInterest #RootAndShaw #MarchMadness #Zimbio https://t.co/NF51JRZECx https:/…\n",
      "\n",
      "298 RT @SBTVNation: ***RETWEET AND LISTEN NOW***\n",
      "\n",
      "#SPORTS RADIO LIVE\n",
      "\n",
      "CLICK HERE: https://t.co/eNplUO5CPr\n",
      "\n",
      "#NBA #NHL #MarchMadness #Show https:…\n",
      "\n",
      "299 #CoCoRaHS #MarchMadness has begun! If you are interested in being a volunteer #rain/snow reporter visit https://t.co/iSJEROaGaI #orwx #wawx\n",
      "\n",
      "300 Really looking forward to telling my joke at the @StressFactoryCC tonight for the kick off of the #MarchMadness tournament\n",
      "\n"
     ]
    }
   ],
   "source": [
    "search_url = \"https://api.twitter.com/1.1/search/tweets.json\"\n",
    "parameters = {\"q\": \"marchmadness\", \"count\":300}\n",
    "response = requests.get(search_url, params=parameters, auth=oauth)\n",
    "tweets = response.json()['statuses']\n",
    "\n",
    "tweets_marchmadness = []\n",
    "\n",
    "count = 0\n",
    "print 'PAGE 1'\n",
    "for tweet in tweets:\n",
    "    count += 1\n",
    "    #print type(tweet[\"text\"])\n",
    "    print count, tweet[\"text\"]\n",
    "    tweets_marchmadness.append(tweet[\"text\"])\n",
    "    print\n",
    "    \n",
    "next_page_url = search_url + response.json()[\"search_metadata\"][\"next_results\"]\n",
    "response = requests.get(next_page_url, auth=oauth)\n",
    "\n",
    "print 'PAGE 2'\n",
    "for tweet in response.json()[\"statuses\"]:\n",
    "    count += 1\n",
    "    print count, tweet[\"text\"]\n",
    "    tweets_marchmadness.append(tweet[\"text\"])\n",
    "    print\n",
    "    \n",
    "    \n",
    "next_page_url = search_url + response.json()[\"search_metadata\"][\"next_results\"]\n",
    "response = requests.get(next_page_url, auth=oauth)\n",
    "\n",
    "print 'PAGE 3'\n",
    "for tweet in response.json()[\"statuses\"]:\n",
    "    count += 1\n",
    "    print count, tweet[\"text\"]\n",
    "    tweets_marchmadness.append(tweet[\"text\"])\n",
    "    print\n",
    "    \n",
    "    \n",
    "    "
   ]
  },
  {
   "cell_type": "code",
   "execution_count": null,
   "metadata": {
    "collapsed": false
   },
   "outputs": [],
   "source": [
    "# Save a list into a pickle file.\n",
    "import pickle \n",
    "\n",
    "datapath = \"/Users/reshamashaikh/_ds/metis/solutions/mcnulty_unsupervised/\"\n",
    "\n",
    "# list that will be pickled:  tweets_marchmadness\n",
    "pickle.dump( tweets_marchmadness, open( datapath+\"tweets_marchmadness_list.p\", \"wb\" ) )\n"
   ]
  },
  {
   "cell_type": "code",
   "execution_count": 24,
   "metadata": {
    "collapsed": false
   },
   "outputs": [
    {
     "name": "stdout",
     "output_type": "stream",
     "text": [
      "--------------------------------------------------\n",
      "<type 'list'>\n",
      "300\n",
      "--------------------------------------------------\n",
      "[u'[Download IT] DJ Limelightz https://t.co/TCbDpu9fsw #2K15 #IBGM http://t.co/Vj6wPcHZzg', u'[Download IT] DJ Limelightz https://t.co/UDkUA1kANO #2K15 #IBGM http://t.co/bRN7u1U3Ei', u'Happy Spring #flowers #ncaatournament #marchmadness #springbreak http://t.co/KeXROvISpi', u\"RT @marchmadness: In the toughest moment, a coach's compassion heals. #MarchMadness #RealStrength http://t.co/dZ2pkoWgBS\", u'\\u201c@marchmadness: \"Louisville completes the emotional journey to the championship!\"\\n\\nWatch 2013\\'s #OneShiningMoment: https://t.co/JR501gVHwI\\u201d']\n"
     ]
    }
   ],
   "source": [
    "# unpickle list of tweets that was previously saved\n",
    "# we are doing this since the list is dynamic; if we pull tweets, they will change with each run.\n",
    "\n",
    "# Open the file and call pickle.load.\n",
    "with open(\"tweets_marchmadness_list.p\", \"rb\") as f:\n",
    "    data = pickle.load(f)\n",
    "    #print(\"after:\", data)\n",
    "\n",
    "tweets = data\n",
    "\n",
    "# check pickle file - type, len are same; first 5 tweets match\n",
    "print '-'*50\n",
    "print type(tweets)\n",
    "print len(tweets)\n",
    "print '-'*50\n",
    "print tweets[:5]\n"
   ]
  },
  {
   "cell_type": "code",
   "execution_count": 11,
   "metadata": {
    "collapsed": false
   },
   "outputs": [],
   "source": [
    "\n",
    "# clean up tweets\n",
    "import re\n",
    "clean_tweets = []\n",
    "\n",
    "# remove retweets from clean tweets file.\n",
    "retweets = []\n",
    "\n",
    "uselist = tweets_marchmadness[:]\n",
    "\n",
    "for tweet in uselist:\n",
    "    #print '-'*75\n",
    "    #print tweet\n",
    "    \n",
    "    tweet1 = tweet.replace(' rt ', ' RT ')\n",
    "\n",
    "    #tweet2 = re.sub(r\"(?:\\@|https?\\://)\\S+\", \"\", tweet1)  # this line remove @ symbol and links\n",
    "    tweet2 = re.sub(r\"(https?\\://)\\S+\", \"\", tweet1)        # this line removes links\n",
    "    #print tweet2\n",
    "    \n",
    "    retweet = re.search(r'RT ', tweet1)\n",
    "    #print retweet\n",
    "    if retweet:\n",
    "        retweets.append(tweet2)\n",
    "    else:\n",
    "        clean_tweets.append(tweet2)"
   ]
  },
  {
   "cell_type": "code",
   "execution_count": 15,
   "metadata": {
    "collapsed": false
   },
   "outputs": [
    {
     "name": "stdout",
     "output_type": "stream",
     "text": [
      "121\n",
      "179\n"
     ]
    }
   ],
   "source": [
    "print len(clean_tweets)\n",
    "print len(retweets)\n"
   ]
  },
  {
   "cell_type": "code",
   "execution_count": 13,
   "metadata": {
    "collapsed": false
   },
   "outputs": [
    {
     "name": "stdout",
     "output_type": "stream",
     "text": [
      "[2 2 2 2 2 2 2 2 2 2 2 2 2 2 2 2 2 2 4 2 2 2 2 1 2 1 2 3 2 2 2 2 2 2 2 2 2\n",
      " 2 2 2 0 2 2 2 2 2 2 0 2 2 3 2 2 2 2 2 2 2 2 4 2 2 2 3 3 1 2 2 2 2 2 2 2 2\n",
      " 2 2 2 0 2 2 2 2 2 2 2 2 2 1 2 2 2 2 2 2 2 3 1 3 2 2 1 2 1 0 0 2 2 2 2 2 2\n",
      " 1 2 2 2 1 3 2 2 2 2]\n"
     ]
    }
   ],
   "source": [
    "from sklearn.feature_extraction.text import TfidfVectorizer\n",
    "from sklearn.cluster import KMeans, MiniBatchKMeans\n",
    "from sklearn.preprocessing import scale\n",
    "\n",
    "tweet_list =  clean_tweets\n",
    "\n",
    "vectorizer = TfidfVectorizer(stop_words=\"english\", ngram_range=(1,2))\n",
    "tweet_vectors = vectorizer.fit_transform(tweet_list)\n",
    "\n",
    "nk = 5\n",
    "km = KMeans(n_clusters=nk, init='k-means++', max_iter=100, n_init=1)\n",
    "scale(tweet_vectors,with_mean=False)\n",
    "clusters = km.fit_predict(tweet_vectors)\n",
    "\n",
    "print clusters"
   ]
  },
  {
   "cell_type": "code",
   "execution_count": 30,
   "metadata": {
    "collapsed": false
   },
   "outputs": [
    {
     "data": {
      "text/html": [
       "<div style=\"max-height:1000px;max-width:1500px;overflow:auto;\">\n",
       "<table border=\"1\" class=\"dataframe\">\n",
       "  <thead>\n",
       "    <tr style=\"text-align: right;\">\n",
       "      <th></th>\n",
       "      <th>00</th>\n",
       "      <th>00 espnclarksville</th>\n",
       "      <th>00 vs</th>\n",
       "      <th>000</th>\n",
       "      <th>000 marchmadness</th>\n",
       "      <th>02</th>\n",
       "      <th>0844</th>\n",
       "      <th>0844 33</th>\n",
       "      <th>100</th>\n",
       "      <th>100 000</th>\n",
       "      <th>...</th>\n",
       "      <th>year access</th>\n",
       "      <th>years</th>\n",
       "      <th>years college</th>\n",
       "      <th>yep</th>\n",
       "      <th>yep marchmadness</th>\n",
       "      <th>yep yep</th>\n",
       "      <th>yesterday</th>\n",
       "      <th>yesterday temple</th>\n",
       "      <th>youngsteflon</th>\n",
       "      <th>youngsteflon marchmadness</th>\n",
       "    </tr>\n",
       "  </thead>\n",
       "  <tbody>\n",
       "    <tr>\n",
       "      <th>0</th>\n",
       "      <td>0</td>\n",
       "      <td>0</td>\n",
       "      <td>0</td>\n",
       "      <td>0</td>\n",
       "      <td>0</td>\n",
       "      <td>0</td>\n",
       "      <td>0</td>\n",
       "      <td>0</td>\n",
       "      <td>0</td>\n",
       "      <td>0</td>\n",
       "      <td>...</td>\n",
       "      <td>0</td>\n",
       "      <td>0</td>\n",
       "      <td>0</td>\n",
       "      <td>0</td>\n",
       "      <td>0</td>\n",
       "      <td>0</td>\n",
       "      <td>0</td>\n",
       "      <td>0</td>\n",
       "      <td>0</td>\n",
       "      <td>0</td>\n",
       "    </tr>\n",
       "    <tr>\n",
       "      <th>1</th>\n",
       "      <td>0</td>\n",
       "      <td>0</td>\n",
       "      <td>0</td>\n",
       "      <td>0</td>\n",
       "      <td>0</td>\n",
       "      <td>0</td>\n",
       "      <td>0</td>\n",
       "      <td>0</td>\n",
       "      <td>0</td>\n",
       "      <td>0</td>\n",
       "      <td>...</td>\n",
       "      <td>0</td>\n",
       "      <td>0</td>\n",
       "      <td>0</td>\n",
       "      <td>0</td>\n",
       "      <td>0</td>\n",
       "      <td>0</td>\n",
       "      <td>0</td>\n",
       "      <td>0</td>\n",
       "      <td>0</td>\n",
       "      <td>0</td>\n",
       "    </tr>\n",
       "    <tr>\n",
       "      <th>2</th>\n",
       "      <td>0</td>\n",
       "      <td>0</td>\n",
       "      <td>0</td>\n",
       "      <td>0</td>\n",
       "      <td>0</td>\n",
       "      <td>0</td>\n",
       "      <td>0</td>\n",
       "      <td>0</td>\n",
       "      <td>0</td>\n",
       "      <td>0</td>\n",
       "      <td>...</td>\n",
       "      <td>0</td>\n",
       "      <td>0</td>\n",
       "      <td>0</td>\n",
       "      <td>0</td>\n",
       "      <td>0</td>\n",
       "      <td>0</td>\n",
       "      <td>0</td>\n",
       "      <td>0</td>\n",
       "      <td>0</td>\n",
       "      <td>0</td>\n",
       "    </tr>\n",
       "    <tr>\n",
       "      <th>3</th>\n",
       "      <td>0</td>\n",
       "      <td>0</td>\n",
       "      <td>0</td>\n",
       "      <td>0</td>\n",
       "      <td>0</td>\n",
       "      <td>0</td>\n",
       "      <td>0</td>\n",
       "      <td>0</td>\n",
       "      <td>0</td>\n",
       "      <td>0</td>\n",
       "      <td>...</td>\n",
       "      <td>0</td>\n",
       "      <td>0</td>\n",
       "      <td>0</td>\n",
       "      <td>0</td>\n",
       "      <td>0</td>\n",
       "      <td>0</td>\n",
       "      <td>0</td>\n",
       "      <td>0</td>\n",
       "      <td>0</td>\n",
       "      <td>0</td>\n",
       "    </tr>\n",
       "    <tr>\n",
       "      <th>4</th>\n",
       "      <td>0</td>\n",
       "      <td>0</td>\n",
       "      <td>0</td>\n",
       "      <td>0</td>\n",
       "      <td>0</td>\n",
       "      <td>0</td>\n",
       "      <td>0</td>\n",
       "      <td>0</td>\n",
       "      <td>0</td>\n",
       "      <td>0</td>\n",
       "      <td>...</td>\n",
       "      <td>0</td>\n",
       "      <td>0</td>\n",
       "      <td>0</td>\n",
       "      <td>0</td>\n",
       "      <td>0</td>\n",
       "      <td>0</td>\n",
       "      <td>0</td>\n",
       "      <td>0</td>\n",
       "      <td>0</td>\n",
       "      <td>0</td>\n",
       "    </tr>\n",
       "  </tbody>\n",
       "</table>\n",
       "<p>5 rows × 1228 columns</p>\n",
       "</div>"
      ],
      "text/plain": [
       "   00  00 espnclarksville  00 vs  000  000 marchmadness  02  0844  0844 33  \\\n",
       "0   0                   0      0    0                 0   0     0        0   \n",
       "1   0                   0      0    0                 0   0     0        0   \n",
       "2   0                   0      0    0                 0   0     0        0   \n",
       "3   0                   0      0    0                 0   0     0        0   \n",
       "4   0                   0      0    0                 0   0     0        0   \n",
       "\n",
       "   100  100 000            ...              year access  years  years college  \\\n",
       "0    0        0            ...                        0      0              0   \n",
       "1    0        0            ...                        0      0              0   \n",
       "2    0        0            ...                        0      0              0   \n",
       "3    0        0            ...                        0      0              0   \n",
       "4    0        0            ...                        0      0              0   \n",
       "\n",
       "   yep  yep marchmadness  yep yep  yesterday  yesterday temple  youngsteflon  \\\n",
       "0    0                 0        0          0                 0             0   \n",
       "1    0                 0        0          0                 0             0   \n",
       "2    0                 0        0          0                 0             0   \n",
       "3    0                 0        0          0                 0             0   \n",
       "4    0                 0        0          0                 0             0   \n",
       "\n",
       "   youngsteflon marchmadness  \n",
       "0                          0  \n",
       "1                          0  \n",
       "2                          0  \n",
       "3                          0  \n",
       "4                          0  \n",
       "\n",
       "[5 rows x 1228 columns]"
      ]
     },
     "execution_count": 30,
     "metadata": {},
     "output_type": "execute_result"
    }
   ],
   "source": [
    "# visualize the transformation above..\n",
    "vects=vectorizer.transform(tweet_list)\n",
    "back=vects.toarray()\n",
    "\n",
    "tweets_frame=pd.DataFrame(back, columns=vectorizer.get_feature_names())\n",
    "tweets_frame.head()"
   ]
  },
  {
   "cell_type": "code",
   "execution_count": 18,
   "metadata": {
    "collapsed": true
   },
   "outputs": [],
   "source": [
    "features = vectorizer.get_feature_names()\n",
    "\n",
    "clusters_tweets = {}\n",
    "for i in range(nk):\n",
    "    clusters_tweets[i] = []\n",
    "    \n",
    "    \n",
    "for idx, cluster in enumerate(clusters):\n",
    "    clusters_tweets[cluster].append(tweet_list[idx])"
   ]
  },
  {
   "cell_type": "code",
   "execution_count": 19,
   "metadata": {
    "collapsed": false
   },
   "outputs": [
    {
     "name": "stdout",
     "output_type": "stream",
     "text": [
      "0\n",
      "[u\"The first of three Final Fours that I went to with Florida. Can't wait to go there to cheer for @CanesHoops one day \", u'#MarchMadness, 1/2 off @IslandCreek Oysters, $25 Menu #LobsterRoll #Chowder @Gansettbeer #WhoopiePie @izzysmiami ', u'By _weonent_official via repostwhiz app:\\n\\U0001f608\\U0001f608 3/25 \\u2614\\ufe0f\\u2614\\ufe0f #MarchMadness\\u2026 ', u'Old creepy GW mascot at 0:02 ', u'25% off all cottages plus $100 gift card with any 2-night stay in March! Visit  or call 800-559-6391.']\n",
      "1\n",
      "[u'.@wealthspeaker on #Periscope: STOP being #Fooled with your #Finances #marchmadness #startup #scopestars ', u'.@wealthspeaker on #Periscope: STOP being #Fooled with your #Finances #marchmadness #startup #scopestars ', u'.@wealthspeaker on #Periscope: STOP being #Fooled with your #Finances #marchmadness #startup #scopestars ', u'.@wealthspeaker on #Periscope: STOP being #Fooled with your #Finances #marchmadness #startup #scopestars ', u'.@wealthspeaker on #Periscope: STOP being #Fooled with your #Finances #marchmadness #startup #scopestars ', u'.@wealthspeaker on #Periscope: STOP being #Fooled with your #Finances #marchmadness #startup #scopestars ', u'.@wealthspeaker on #Periscope: STOP being #Fooled with your #Finances #marchmadness #startup #scopestars ', u'.@wealthspeaker on #Periscope: STOP being #Fooled with your #Finances #marchmadness #startup #scopestars ', u'.@wealthspeaker on #Periscope: STOP being #Fooled with your #Finances #marchmadness #startup #scopestars ']\n",
      "2\n",
      "[u'#MarchMadness', u'@marchmadness get @1future to perform march madness at march madness', u'Best thing bout March is #MarchMadness', u'Believe It Or Not Nigga Yeaaaaaa\\U0001f608\\U0001f525 #MarchMadness', u\"If you haven't hit personal or professional #goals yet keep your #motivation going &amp; get your #MarchMadness on to finish the quarter strong\", u'@FieldOfJoyInsta is fields of joy insta pop-up mobile food unit previews @ProduceExchange @MidtownGlobal #marchmadness', u'Cricut Mystery Box   Free Shipping use MARCHMADNESS ', u'59% of senior managers said March Madness activities have no impact via@mjfan23...  #marchmadness', u'lifestyle is always #WackyRaces with @ItsKwambox @mikewachira @MrKerryMartin #Wackies and good music this #Marchmadness #WackyWednesday', u'#MarchMadness NBS Contest sign is a GO! #CBB ']\n",
      "3\n",
      "[u'This never gets old.  ', u'#marchmadness aka ALEXUS BIRTH MONTH \\U0001f48b', u'Happy #MarchMadness month! Join our #Pool 4 a chance 2 #Win #FREE #STATS #FORAYEAR. #NCAA #Basketball #Bracket #Atl ', u\"One of my favourite years of college basketball\\U0001f495 Also it's spelt Redick.  \", u\"That's not all though! You'll also be entered into our grand prize #MarchMadness raffle. Winner picked at end of month. Prize? Spa retreat!\", u'We Bout To Go Ham This Month #BossbredFamily #MarchMadness ', u'Best NCAA tournament ever!  ']\n",
      "4\n",
      "[u'The KCKCC Men also won their Semifinal game and are headed to the Championship!! #GoBlueDevils #MarchMadness ', u\"@_KatieMJones @FGCU_MBB @UNFOspreys \\n\\nIf FGCU wins, we'll have a game at Alico for a trip to #MarchMadness.\"]\n"
     ]
    }
   ],
   "source": [
    "for k in clusters_tweets.keys():\n",
    "    print (k)\n",
    "    print (clusters_tweets[k][0:10])"
   ]
  },
  {
   "cell_type": "markdown",
   "metadata": {},
   "source": [
    "### <a id='2'></a> Challenge 2"
   ]
  },
  {
   "cell_type": "markdown",
   "metadata": {},
   "source": [
    "Draw the inertia curve over different k values. (Sklearn KMeans class has an inertia_ attribute)."
   ]
  },
  {
   "cell_type": "markdown",
   "metadata": {},
   "source": [
    "The KMeans algorithm clusters data by trying to separate samples in n groups of equal variance, minimizing a criterion known as the inertia or within-cluster sum-of-squares. "
   ]
  },
  {
   "cell_type": "code",
   "execution_count": 20,
   "metadata": {
    "collapsed": false
   },
   "outputs": [
    {
     "data": {
      "text/plain": [
       "[<matplotlib.lines.Line2D at 0x10d9fff90>]"
      ]
     },
     "execution_count": 20,
     "metadata": {},
     "output_type": "execute_result"
    },
    {
     "data": {
      "image/png": "[encoded data removed]",
      "text/plain": [
       "<matplotlib.figure.Figure at 0x10da67e50>"
      ]
     },
     "metadata": {},
     "output_type": "display_data"
    }
   ],
   "source": [
    "import matplotlib.pyplot as plt\n",
    "\n",
    "inertia_list = []\n",
    "maxk = 15\n",
    "for k in range(1,maxk):\n",
    "    km = KMeans(n_clusters=k, init='k-means++', max_iter=100, n_init=1)\n",
    "    scale(tweet_vectors,with_mean=False)\n",
    "    km.fit(tweet_vectors)\n",
    "    inertia_list.append(km.inertia_)\n",
    "\n",
    "plot(range(1,maxk),inertia_list)"
   ]
  },
  {
   "cell_type": "markdown",
   "metadata": {},
   "source": [
    "### <a id='3'></a> Challenge 3"
   ]
  },
  {
   "cell_type": "markdown",
   "metadata": {},
   "source": [
    "Let's name the clusters.  For each cluster, find the sentence closest to the centroid of the cluster. (You can use sklearn.metrics.pairwisedistances7 or scipy.spatial.distance4 [check pdist, cdist, and euclidean distance] to find distances to the centroid). KMeans has a cluster_centroids attribute. This sentence (closest to centroid) is now the name of the cluster. For each cluster, print the representative sentence, and print 'N people expressed a similar statement', or something like that relevant to your dataset. (This is very close to what amazon used to do in the reviews section up to a year ago.)\n",
    "\n",
    "Find the biggest 3 clusters, and print their representative sentences (This is close to what amazon is doing now in the reviews section, except they choose the sentence from the most helpful review instead of closest to center)"
   ]
  },
  {
   "cell_type": "code",
   "execution_count": 48,
   "metadata": {
    "collapsed": false
   },
   "outputs": [],
   "source": [
    "vectorizer = TfidfVectorizer(stop_words=\"english\", ngram_range=(1,2))\n",
    "tweet_vectors = vectorizer.fit_transform(tweet_list)\n",
    "\n",
    "#using 8 clusters, based on the graph above: \n",
    "nk = 8\n",
    "km = KMeans(n_clusters=nk, init='k-means++', max_iter=100, n_init=10)\n",
    "scale(tweet_vectors,with_mean=False)\n",
    "clusters = km.fit_predict(tweet_vectors)\n",
    "\n",
    "features = vectorizer.get_feature_names()\n",
    "\n",
    "clusters_tweets = {}\n",
    "for i in range(nk):\n",
    "    clusters_tweets[i] = []\n",
    "    \n",
    "for idx, cluster in enumerate(clusters):\n",
    "    clusters_tweets[cluster].append(tweet_list[idx])"
   ]
  },
  {
   "cell_type": "code",
   "execution_count": 71,
   "metadata": {
    "collapsed": false
   },
   "outputs": [
    {
     "data": {
      "text/html": [
       "<div style=\"max-height:1000px;max-width:1500px;overflow:auto;\">\n",
       "<table border=\"1\" class=\"dataframe\">\n",
       "  <thead>\n",
       "    <tr style=\"text-align: right;\">\n",
       "      <th></th>\n",
       "      <th>0</th>\n",
       "      <th>1</th>\n",
       "      <th>2</th>\n",
       "      <th>3</th>\n",
       "      <th>4</th>\n",
       "      <th>5</th>\n",
       "      <th>6</th>\n",
       "      <th>7</th>\n",
       "    </tr>\n",
       "  </thead>\n",
       "  <tbody>\n",
       "    <tr>\n",
       "      <th>0</th>\n",
       "      <td>1.117123</td>\n",
       "      <td>0.832495</td>\n",
       "      <td>1.356524</td>\n",
       "      <td>1.373985</td>\n",
       "      <td>1.134460</td>\n",
       "      <td>1.144923</td>\n",
       "      <td>1.193009</td>\n",
       "      <td>1.414214</td>\n",
       "    </tr>\n",
       "    <tr>\n",
       "      <th>1</th>\n",
       "      <td>1.126830</td>\n",
       "      <td>0.983369</td>\n",
       "      <td>1.410880</td>\n",
       "      <td>1.411875</td>\n",
       "      <td>1.153516</td>\n",
       "      <td>1.169096</td>\n",
       "      <td>1.227447</td>\n",
       "      <td>1.414214</td>\n",
       "    </tr>\n",
       "    <tr>\n",
       "      <th>2</th>\n",
       "      <td>1.126646</td>\n",
       "      <td>0.991120</td>\n",
       "      <td>1.409866</td>\n",
       "      <td>1.411164</td>\n",
       "      <td>1.157881</td>\n",
       "      <td>1.125448</td>\n",
       "      <td>1.226801</td>\n",
       "      <td>1.414214</td>\n",
       "    </tr>\n",
       "    <tr>\n",
       "      <th>3</th>\n",
       "      <td>1.126565</td>\n",
       "      <td>0.994048</td>\n",
       "      <td>1.409419</td>\n",
       "      <td>1.410851</td>\n",
       "      <td>1.166906</td>\n",
       "      <td>1.168440</td>\n",
       "      <td>1.226516</td>\n",
       "      <td>1.414214</td>\n",
       "    </tr>\n",
       "    <tr>\n",
       "      <th>4</th>\n",
       "      <td>1.126980</td>\n",
       "      <td>1.001310</td>\n",
       "      <td>1.411707</td>\n",
       "      <td>1.412455</td>\n",
       "      <td>1.168317</td>\n",
       "      <td>1.169467</td>\n",
       "      <td>1.210897</td>\n",
       "      <td>1.414214</td>\n",
       "    </tr>\n",
       "  </tbody>\n",
       "</table>\n",
       "</div>"
      ],
      "text/plain": [
       "          0         1         2         3         4         5         6  \\\n",
       "0  1.117123  0.832495  1.356524  1.373985  1.134460  1.144923  1.193009   \n",
       "1  1.126830  0.983369  1.410880  1.411875  1.153516  1.169096  1.227447   \n",
       "2  1.126646  0.991120  1.409866  1.411164  1.157881  1.125448  1.226801   \n",
       "3  1.126565  0.994048  1.409419  1.410851  1.166906  1.168440  1.226516   \n",
       "4  1.126980  1.001310  1.411707  1.412455  1.168317  1.169467  1.210897   \n",
       "\n",
       "          7  \n",
       "0  1.414214  \n",
       "1  1.414214  \n",
       "2  1.414214  \n",
       "3  1.414214  \n",
       "4  1.414214  "
      ]
     },
     "execution_count": 71,
     "metadata": {},
     "output_type": "execute_result"
    }
   ],
   "source": [
    "#Transform tweet_vectors to a cluster-distance space.\n",
    "\n",
    "#In the new space, each dimension is the distance to each of the cluster centers\n",
    "\n",
    "dists= km.transform(tweet_vectors)\n",
    "disd_df = pd.DataFrame(dists)\n",
    "disd_df.head()\n"
   ]
  },
  {
   "cell_type": "code",
   "execution_count": 49,
   "metadata": {
    "collapsed": false
   },
   "outputs": [
    {
     "name": "stdout",
     "output_type": "stream",
     "text": [
      "For each cluster, printing the sentence closest to the centroid of each cluster\n",
      "Cluster size represents number of users who expressed similar sentiment\n",
      "\n",
      "Cluster ID:                 0\n",
      "Cluster Size:               4\n",
      "Cluster Centroid Sentence:  This never gets old.  \n",
      "\n",
      "\n",
      "Cluster ID:                 1\n",
      "Cluster Size:               95\n",
      "Cluster Centroid Sentence:  #MarchMadness\n",
      "\n",
      "\n",
      "Cluster ID:                 2\n",
      "Cluster Size:               9\n",
      "Cluster Centroid Sentence:  .@wealthspeaker on #Periscope: STOP being #Fooled with your #Finances #marchmadness #startup #scopestars \n",
      "\n",
      "\n",
      "Cluster ID:                 3\n",
      "Cluster Size:               2\n",
      "Cluster Centroid Sentence:  #WIN 2 color changing t-shirts of choice from @delsolcolor Ends 3/3 #Giveaway #marchmadness  \n",
      "\n",
      "\n",
      "Cluster ID:                 4\n",
      "Cluster Size:               3\n",
      "Cluster Centroid Sentence:  By _weonent_official via repostwhiz app:\n",
      "😈😈 3/25 ☔️☔️ #MarchMadness… \n",
      "\n",
      "\n",
      "Cluster ID:                 5\n",
      "Cluster Size:               3\n",
      "Cluster Centroid Sentence:  Really looking forward to telling my joke at the @StressFactoryCC tonight for the kick off of the #MarchMadness tournament\n",
      "\n",
      "\n",
      "Cluster ID:                 6\n",
      "Cluster Size:               4\n",
      "Cluster Centroid Sentence:  What2Watch #MarchMadness 2nite #TV: 8:30pm-10pm @ABC f/: #TheRealONeals #SeriesPremiere; #ModernFamily &amp; #RealONeals 2nd Ep.\n",
      "#comedy\n",
      "\n",
      "\n",
      "Cluster ID:                 7\n",
      "Cluster Size:               1\n",
      "Cluster Centroid Sentence:  The first of three Final Fours that I went to with Florida. Can't wait to go there to cheer for @CanesHoops one day \n",
      "\n",
      "\n"
     ]
    }
   ],
   "source": [
    "# get the tweets that are closest to each of the cluster centroids.. \n",
    "nearest_to_centers = list(disd_df.idxmin(axis=0))\n",
    "\n",
    "print 'For each cluster, printing the sentence closest to the centroid of each cluster'\n",
    "print 'Cluster size represents number of users who expressed similar sentiment'\n",
    "print\n",
    "for idx, cluster in enumerate(nearest_to_centers):\n",
    "    print 'Cluster ID:                ', idx\n",
    "    print 'Cluster Size:              ', len(clusters_tweets[idx])\n",
    "    print 'Cluster Centroid Sentence: ', tweet_list[cluster]\n",
    "    print(\"\\n\")\n",
    "    \n",
    "# clusters_tweets[5]"
   ]
  },
  {
   "cell_type": "markdown",
   "metadata": {},
   "source": [
    "### <a id='4'></a> Challenge 4"
   ]
  },
  {
   "cell_type": "markdown",
   "metadata": {},
   "source": [
    "Let's name the clusters.  Calculate the tf-idf of each word in each cluster (think of all sentences of a cluster together as a document). Represent each cluster with the top 1, or top 2 or... to 5 tf-idf words. For each cluster, print the name (keywords) of the cluster, and \"N statements\" in the cluster (N is the size of the cluster)"
   ]
  },
  {
   "cell_type": "code",
   "execution_count": 121,
   "metadata": {
    "collapsed": false,
    "scrolled": true
   },
   "outputs": [
    {
     "name": "stdout",
     "output_type": "stream",
     "text": [
      "(0, [u'mascot', u'gw', u'creepy', u'02'], 'containing', 4)\n",
      "(1, [u'wawx', u'volunteer', u'visit', u'reporter'], 'containing', 95)\n",
      "(2, [u'wealthspeaker', u'stop', u'startup', u'scopestars'], 'containing', 9)\n",
      "(3, [u'win', u'shirts', u'marchmadness', u'giveaway'], 'containing', 2)\n",
      "(4, [u'visit', u'stay', u'plus', u'night'], 'containing', 3)\n",
      "(5, [u'telling', u'stressfactorycc', u'really', u'looking'], 'containing', 3)\n",
      "(6, [u'rosewoodreturns', u'rosewoodfox', u'rosewood', u'morrischestnut3'], 'containing', 4)\n",
      "(7, [u'went', u'wait', u'fours', u'florida'], 'containing', 1)\n"
     ]
    }
   ],
   "source": [
    "def high_tfidf(X,X_feature_list):\n",
    "    feature_list = X_feature_list\n",
    "    for row in range(0,X.shape[0]):\n",
    "        ir, ic, val = sparse.find(X.getrow(row))\n",
    "        col_val_pairs = list(zip(list(ic), list(val)))\n",
    "\n",
    "        top_wold_cols = sorted(col_val_pairs, key=lambda x:x[1])[:-5:-1]  \n",
    "        \n",
    "        top_features = []\n",
    "        for idx in top_wold_cols:\n",
    "            top_features.append(feature_list[idx[0]])\n",
    "    return top_features\n",
    "\n",
    "for cluster, ctweets in clusters_tweets.items():\n",
    "    vectorizer = TfidfVectorizer(stop_words=\"english\", ngram_range=(1,1))\n",
    "    cluster_vectors = vectorizer.fit_transform(ctweets)\n",
    "    print (cluster, high_tfidf(cluster_vectors,vectorizer.get_feature_names()),\"containing\" ,len(ctweets))"
   ]
  },
  {
   "cell_type": "markdown",
   "metadata": {},
   "source": [
    "### <a id='5'></a> Challenge 5"
   ]
  },
  {
   "cell_type": "markdown",
   "metadata": {},
   "source": [
    "Let's name the clusters.  Same as the previous challenge, but this time, calculate tf-idf only for nouns (NN tag) and build keyword(s) with nouns. (This is close to what amazon switched to last year, before settling into the current design). (They would show five nouns, you would click on one and it would show sentences - linked to the reviews- that were related to that noun.)"
   ]
  },
  {
   "cell_type": "code",
   "execution_count": 124,
   "metadata": {
    "collapsed": false
   },
   "outputs": [
    {
     "name": "stdout",
     "output_type": "stream",
     "text": [
      "0 [u'old', u'mascot', u'gw', u'creepy'] containing 4\n",
      "1 [u'wawx', u'volunteer', u'visit', u'reporter'] containing 95\n",
      "2 [u'wealthspeaker', u'stop', u'startup', u'scopestars'] containing 9\n",
      "3 [u'win', u'shirts', u'marchmadness', u'giveaway'] containing 2\n",
      "4 [u'visit', u'stay', u'march', u'gift'] containing 3\n",
      "5 [u'stressfactorycc', u'kick', u'joke', u'tournament'] containing 3\n",
      "6 [u'rosewoodreturns', u'rosewoodfox', u'rosewood', u'morrischestnut3'] containing 4\n",
      "7 [u'fours', u'florida', u'final', u'day'] containing 1\n"
     ]
    }
   ],
   "source": [
    "# only for nouns .. \n",
    "\n",
    "def just_nouns(tweets):\n",
    "    tokenizer = TreebankWordTokenizer()\n",
    "    Nouns=[]\n",
    "    for i in tweets:\n",
    "        nouns=[]\n",
    "        words= tokenizer.tokenize(i)\n",
    "        tags= pos_tag(words)\n",
    "        for t in tags: \n",
    "            if 'NN' in t[1]:\n",
    "                nouns.append(t[0])\n",
    "        Nouns.append(\",\".join(nouns))\n",
    "    return Nouns\n",
    "\n",
    "for cluster, ctweets in clusters_tweets.items():\n",
    "    # getting tfidf's on a cluster by cluster basis for nouns only:\n",
    "    nounified= just_nouns(ctweets)\n",
    "    vectorizer = TfidfVectorizer(stop_words=\"english\", ngram_range=(1,1))\n",
    "    cluster_vectors=vectorizer.fit_transform(nounified)\n",
    "    print cluster,high_tfidf(cluster_vectors,vectorizer.get_feature_names()),\"containing\" ,len(ctweets)\n",
    "    \n",
    "\n"
   ]
  },
  {
   "cell_type": "markdown",
   "metadata": {},
   "source": [
    "### <a id='6'></a> Challenge 6"
   ]
  },
  {
   "cell_type": "markdown",
   "metadata": {},
   "source": [
    "Cluster the same data with MiniBatchKMeans4. MiniBatchKMeans is a fast way to apply K-means to large data without much loss -- The results are very similar. Instead of using EVERY single point to find the new place of the centroid, MiniBatch just randomly samples a small number (like 100) in the cluster to calculate the new center. Since this is usually very close to the actual center, the algorithm gets there much faster. Try it and compare the results. Example on two-feature data"
   ]
  },
  {
   "cell_type": "code",
   "execution_count": 125,
   "metadata": {
    "collapsed": false
   },
   "outputs": [
    {
     "name": "stdout",
     "output_type": "stream",
     "text": [
      "(u'MONSTER card for today!!!! 65***** UNITS in play.  $100 for 1 YEAR of all access VIP wagers!! #marchMADNESS #MLB', 'containing', 4)\n",
      "\n",
      "\n",
      "(u'.@wealthspeaker on #Periscope: STOP being #Fooled with your #Finances #marchmadness #startup #scopestars ', 'containing', 95)\n",
      "\n",
      "\n",
      "(u'#MarchMadness', 'containing', 9)\n",
      "\n",
      "\n",
      "(u'What2Watch #MarchMadness 2nite #TV: 8-11pm @ABC f/: #TheGoldbergs; #TheRealONeals #SeriesPremiere; #ModernFamily &amp; @TheRealONeals!', 'containing', 2)\n",
      "\n",
      "\n",
      "(u'College bball #champweek is here! #MarchMadness is nearly upon us! \\U0001f3c0\\U0001f389\\U0001f3c0\\U0001f389\\U0001f3c0 ', 'containing', 3)\n",
      "\n",
      "\n",
      "(u'This never gets old.  ', 'containing', 3)\n",
      "\n",
      "\n",
      "(u'#WIN 2 color changing t-shirts of choice from @delsolcolor Ends 3/3 #Giveaway #marchmadness  ', 'containing', 4)\n",
      "\n",
      "\n",
      "(u'Get double on all in store printing! The perfect time to get your promotional materials! #printing #brochures #MarchMadness #DoubleYourPrint', 'containing', 1)\n",
      "\n",
      "\n"
     ]
    }
   ],
   "source": [
    "nk = 8\n",
    "vectorizer = TfidfVectorizer(stop_words=\"english\", ngram_range=(1,2))\n",
    "tweet_vectors = vectorizer.fit_transform(tweet_list)\n",
    "\n",
    "km = MiniBatchKMeans(n_clusters=nk, init='k-means++', max_iter=100, n_init=10)\n",
    "scale(tweet_vectors,with_mean=False)\n",
    "\n",
    "clusters = km.fit_predict(tweet_vectors)\n",
    "\n",
    "dists= km.transform(tweet_vectors)\n",
    "disd_df = pd.DataFrame(dists)\n",
    "\n",
    "nearest_to_centers = list(disd_df.idxmin(axis=0))\n",
    "\n",
    "for idx, cluster in enumerate(nearest_to_centers):\n",
    "    print(tweet_list[cluster],\"containing\" ,len(clusters_tweets[idx]))\n",
    "    print(\"\\n\")"
   ]
  },
  {
   "cell_type": "markdown",
   "metadata": {},
   "source": [
    "### <a id='7'></a> Challenge 7"
   ]
  },
  {
   "cell_type": "markdown",
   "metadata": {},
   "source": [
    "Switch the init parameter to \"random\" (instead of the default kmeans++) and plot the inertia curve for each of the n_init values for K-Means: 1, 2, 3, 10 (n_init is the number of different runs to try with different random initializations)"
   ]
  },
  {
   "cell_type": "code",
   "execution_count": 126,
   "metadata": {
    "collapsed": false
   },
   "outputs": [
    {
     "data": {
      "text/plain": [
       "[<matplotlib.lines.Line2D at 0x10f0c4990>,\n",
       " <matplotlib.lines.Line2D at 0x10f0c4b50>]"
      ]
     },
     "execution_count": 126,
     "metadata": {},
     "output_type": "execute_result"
    },
    {
     "data": {
      "image/png": "[encoded data removed]",
      "text/plain": [
       "<matplotlib.figure.Figure at 0x10dfe1710>"
      ]
     },
     "metadata": {},
     "output_type": "display_data"
    }
   ],
   "source": [
    "inertia_list = []\n",
    "maxk=10\n",
    "for k in range(1,maxk):\n",
    "    km = KMeans(n_clusters=k, init='random', max_iter=100, n_init=1)\n",
    "    scale(tweet_vectors,with_mean=False)\n",
    "    km.fit(tweet_vectors)\n",
    "    inertia_list.append(km.inertia_)\n",
    "    \n",
    "inertia_list_kp = []\n",
    "maxk=10\n",
    "for k in range(1,maxk):\n",
    "    km = KMeans(n_clusters=k, init='k-means++', max_iter=100, n_init=1)\n",
    "    scale(tweet_vectors,with_mean=False)\n",
    "    km.fit(tweet_vectors)\n",
    "    inertia_list_kp.append(km.inertia_)\n",
    "\n",
    "plt.plot(range(1,maxk),inertia_list,range(1,maxk),inertia_list_kp )"
   ]
  },
  {
   "cell_type": "markdown",
   "metadata": {},
   "source": [
    "### <a id='8'></a> Challenge 8"
   ]
  },
  {
   "cell_type": "markdown",
   "metadata": {},
   "source": [
    "Download this dataset on the Purchase Stats from Clients of a Wholesale Distributor:\n",
    "https://archive.ics.uci.edu/ml/machine-learning-databases/00292/\n",
    "\n",
    "Cluster the clients based on their annual spending features (fresh, milk, grocery, frozen, detergents_paper, delicatessen). Remember to scale the features before clustering. After finding a reasonable amount of clusters, for EACH cluster, plot the histogram for every single feature: FRESH, MILK, GROCERY, FROZEN, DETERGENTS_PAPER, DELICATESSEN, CHANNEL, REGION. \n",
    "\n",
    "Is there a natural way to characterize each cluster? \n",
    "\n",
    "How would you describe each cluster to the wholesale distributor if you were working for them?"
   ]
  },
  {
   "cell_type": "code",
   "execution_count": 130,
   "metadata": {
    "collapsed": false
   },
   "outputs": [
    {
     "name": "stdout",
     "output_type": "stream",
     "text": [
      "--2016-03-02 13:32:28--  https://archive.ics.uci.edu/ml/machine-learning-databases/00292/\n",
      "Resolving archive.ics.uci.edu... 128.195.10.249\n",
      "Connecting to archive.ics.uci.edu|128.195.10.249|:443... connected.\n",
      "HTTP request sent, awaiting response... 200 OK\n",
      "Length: 1044 (1.0K) [text/html]\n",
      "Saving to: 'index.html.1'\n",
      "\n",
      "index.html.1        100%[=====================>]   1.02K  --.-KB/s   in 0s     \n",
      "\n",
      "2016-03-02 13:32:29 (28.4 MB/s) - 'index.html.1' saved [1044/1044]\n",
      "\n",
      "/Users/julialintern/ds_winter/: Scheme missing.\n",
      "FINISHED --2016-03-02 13:32:29--\n",
      "Total wall clock time: 1.0s\n",
      "Downloaded: 1 files, 1.0K in 0s (28.4 MB/s)\n"
     ]
    }
   ],
   "source": [
    "!wget https://archive.ics.uci.edu/ml/machine-learning-databases/00292/ "
   ]
  },
  {
   "cell_type": "markdown",
   "metadata": {},
   "source": [
    "#### <a id='8a'></a> Challenge 8a - load into pandas dataframe"
   ]
  },
  {
   "cell_type": "code",
   "execution_count": 270,
   "metadata": {
    "collapsed": true
   },
   "outputs": [],
   "source": [
    "import numpy as np\n",
    "import pandas as pd\n",
    "import matplotlib.pyplot as plt\n",
    "import statsmodels.api as sm"
   ]
  },
  {
   "cell_type": "code",
   "execution_count": 271,
   "metadata": {
    "collapsed": false
   },
   "outputs": [],
   "source": [
    "df = pd.read_csv(\"wholesale.csv\")"
   ]
  },
  {
   "cell_type": "code",
   "execution_count": 272,
   "metadata": {
    "collapsed": false
   },
   "outputs": [
    {
     "name": "stdout",
     "output_type": "stream",
     "text": [
      "len(df):  440\n",
      "\n",
      "\n",
      "column names:\n",
      "Index([u'Channel', u'Region', u'Fresh', u'Milk', u'Grocery', u'Frozen',\n",
      "       u'Detergents_Paper', u'Delicassen'],\n",
      "      dtype='object')\n",
      "\n",
      "\n",
      "data types: \n",
      "Channel             int64\n",
      "Region              int64\n",
      "Fresh               int64\n",
      "Milk                int64\n",
      "Grocery             int64\n",
      "Frozen              int64\n",
      "Detergents_Paper    int64\n",
      "Delicassen          int64\n",
      "dtype: object\n",
      "\n",
      "\n",
      "   Channel  Region  Fresh  Milk  Grocery  Frozen  Detergents_Paper  Delicassen\n",
      "0        2       3  12669  9656     7561     214              2674        1338\n",
      "1        2       3   7057  9810     9568    1762              3293        1776\n",
      "2        2       3   6353  8808     7684    2405              3516        7844\n",
      "\n",
      "\n",
      "          Channel      Region          Fresh          Milk       Grocery  \\\n",
      "count  440.000000  440.000000     440.000000    440.000000    440.000000   \n",
      "mean     1.322727    2.543182   12000.297727   5796.265909   7951.277273   \n",
      "std      0.468052    0.774272   12647.328865   7380.377175   9503.162829   \n",
      "min      1.000000    1.000000       3.000000     55.000000      3.000000   \n",
      "25%      1.000000    2.000000    3127.750000   1533.000000   2153.000000   \n",
      "50%      1.000000    3.000000    8504.000000   3627.000000   4755.500000   \n",
      "75%      2.000000    3.000000   16933.750000   7190.250000  10655.750000   \n",
      "max      2.000000    3.000000  112151.000000  73498.000000  92780.000000   \n",
      "\n",
      "             Frozen  Detergents_Paper    Delicassen  \n",
      "count    440.000000        440.000000    440.000000  \n",
      "mean    3071.931818       2881.493182   1524.870455  \n",
      "std     4854.673333       4767.854448   2820.105937  \n",
      "min       25.000000          3.000000      3.000000  \n",
      "25%      742.250000        256.750000    408.250000  \n",
      "50%     1526.000000        816.500000    965.500000  \n",
      "75%     3554.250000       3922.000000   1820.250000  \n",
      "max    60869.000000      40827.000000  47943.000000  \n"
     ]
    }
   ],
   "source": [
    "# take look at data \n",
    "def CheckData(df):\n",
    "    print \"len(df): \", len(df)\n",
    "    print \"\\n\"\n",
    "    print \"column names:\"\n",
    "    print df.columns\n",
    "    print \"\\n\"\n",
    "    print \"data types: \"\n",
    "    print df.dtypes\n",
    "    print \"\\n\"\n",
    "    print df.head(3)\n",
    "    #print \"\\n\"\n",
    "    #print df.tail(5)\n",
    "    print \"\\n\"\n",
    "    print df.describe()\n",
    "    \n",
    "CheckData(df)"
   ]
  },
  {
   "cell_type": "code",
   "execution_count": 4,
   "metadata": {
    "collapsed": false
   },
   "outputs": [
    {
     "name": "stdout",
     "output_type": "stream",
     "text": [
      "         Region  Fresh  Milk  Grocery  Frozen  Detergents_Paper  Delicassen\n",
      "Channel                                                                    \n",
      "1           298    298   298      298     298               298         298\n",
      "2           142    142   142      142     142               142         142\n",
      "\n",
      "\n",
      "        Channel  Fresh  Milk  Grocery  Frozen  Detergents_Paper  Delicassen\n",
      "Region                                                                     \n",
      "1            77     77    77       77      77                77          77\n",
      "2            47     47    47       47      47                47          47\n",
      "3           316    316   316      316     316               316         316\n"
     ]
    }
   ],
   "source": [
    "# Check frequency distribution of categorical parameters\n",
    "by_channel = df.groupby('Channel')\n",
    "#print by_channel\n",
    "print by_channel.count()\n",
    "\n",
    "print \"\\n\"\n",
    "by_region = df.groupby('Region')\n",
    "print by_region.count()"
   ]
  },
  {
   "cell_type": "code",
   "execution_count": 5,
   "metadata": {
    "collapsed": false
   },
   "outputs": [
    {
     "data": {
      "text/plain": [
       "3    316\n",
       "1     77\n",
       "2     47\n",
       "dtype: int64"
      ]
     },
     "execution_count": 5,
     "metadata": {},
     "output_type": "execute_result"
    }
   ],
   "source": [
    "# Another way to see frequency counts\n",
    "df['Region'].value_counts()"
   ]
  },
  {
   "cell_type": "code",
   "execution_count": 6,
   "metadata": {
    "collapsed": false
   },
   "outputs": [
    {
     "name": "stdout",
     "output_type": "stream",
     "text": [
      "                Fresh  Milk  Grocery  Frozen  Detergents_Paper  Delicassen\n",
      "Channel Region                                                            \n",
      "1       1          59    59       59      59                59          59\n",
      "        2          28    28       28      28                28          28\n",
      "        3         211   211      211     211               211         211\n",
      "2       1          18    18       18      18                18          18\n",
      "        2          19    19       19      19                19          19\n",
      "        3         105   105      105     105               105         105\n"
     ]
    }
   ],
   "source": [
    "grouped = df.groupby(['Channel', 'Region'])\n",
    "print grouped.count()"
   ]
  },
  {
   "cell_type": "markdown",
   "metadata": {},
   "source": [
    "#### <a id='8b'></a> Challenge 8b - scale the data"
   ]
  },
  {
   "cell_type": "code",
   "execution_count": 273,
   "metadata": {
    "collapsed": true
   },
   "outputs": [],
   "source": [
    "#Apply operates on each row or column with the lambda function\n",
    "#axis = 0 -> act on columns, axis = 1 act on rows\n",
    "#x is a variable for the whole row or column\n",
    "#This line will scale minimum = 0 and maximum = 1 for each column\n",
    "df2 = df.apply(lambda x:(x.astype(float) - min(x))/(max(x)-min(x)), axis = 0)"
   ]
  },
  {
   "cell_type": "code",
   "execution_count": 274,
   "metadata": {
    "collapsed": false
   },
   "outputs": [
    {
     "data": {
      "text/html": [
       "<div style=\"max-height:1000px;max-width:1500px;overflow:auto;\">\n",
       "<table border=\"1\" class=\"dataframe\">\n",
       "  <thead>\n",
       "    <tr style=\"text-align: right;\">\n",
       "      <th></th>\n",
       "      <th>Channel</th>\n",
       "      <th>Region</th>\n",
       "      <th>Fresh</th>\n",
       "      <th>Milk</th>\n",
       "      <th>Grocery</th>\n",
       "      <th>Frozen</th>\n",
       "      <th>Detergents_Paper</th>\n",
       "      <th>Delicassen</th>\n",
       "    </tr>\n",
       "  </thead>\n",
       "  <tbody>\n",
       "    <tr>\n",
       "      <th>0</th>\n",
       "      <td>1</td>\n",
       "      <td>1</td>\n",
       "      <td>0.112940</td>\n",
       "      <td>0.130727</td>\n",
       "      <td>0.081464</td>\n",
       "      <td>0.003106</td>\n",
       "      <td>0.065427</td>\n",
       "      <td>0.027847</td>\n",
       "    </tr>\n",
       "    <tr>\n",
       "      <th>1</th>\n",
       "      <td>1</td>\n",
       "      <td>1</td>\n",
       "      <td>0.062899</td>\n",
       "      <td>0.132824</td>\n",
       "      <td>0.103097</td>\n",
       "      <td>0.028548</td>\n",
       "      <td>0.080590</td>\n",
       "      <td>0.036984</td>\n",
       "    </tr>\n",
       "    <tr>\n",
       "      <th>2</th>\n",
       "      <td>1</td>\n",
       "      <td>1</td>\n",
       "      <td>0.056622</td>\n",
       "      <td>0.119181</td>\n",
       "      <td>0.082790</td>\n",
       "      <td>0.039116</td>\n",
       "      <td>0.086052</td>\n",
       "      <td>0.163559</td>\n",
       "    </tr>\n",
       "    <tr>\n",
       "      <th>3</th>\n",
       "      <td>0</td>\n",
       "      <td>1</td>\n",
       "      <td>0.118254</td>\n",
       "      <td>0.015536</td>\n",
       "      <td>0.045464</td>\n",
       "      <td>0.104842</td>\n",
       "      <td>0.012346</td>\n",
       "      <td>0.037234</td>\n",
       "    </tr>\n",
       "    <tr>\n",
       "      <th>4</th>\n",
       "      <td>1</td>\n",
       "      <td>1</td>\n",
       "      <td>0.201626</td>\n",
       "      <td>0.072914</td>\n",
       "      <td>0.077552</td>\n",
       "      <td>0.063934</td>\n",
       "      <td>0.043455</td>\n",
       "      <td>0.108093</td>\n",
       "    </tr>\n",
       "  </tbody>\n",
       "</table>\n",
       "</div>"
      ],
      "text/plain": [
       "   Channel  Region     Fresh      Milk   Grocery    Frozen  Detergents_Paper  \\\n",
       "0        1       1  0.112940  0.130727  0.081464  0.003106          0.065427   \n",
       "1        1       1  0.062899  0.132824  0.103097  0.028548          0.080590   \n",
       "2        1       1  0.056622  0.119181  0.082790  0.039116          0.086052   \n",
       "3        0       1  0.118254  0.015536  0.045464  0.104842          0.012346   \n",
       "4        1       1  0.201626  0.072914  0.077552  0.063934          0.043455   \n",
       "\n",
       "   Delicassen  \n",
       "0    0.027847  \n",
       "1    0.036984  \n",
       "2    0.163559  \n",
       "3    0.037234  \n",
       "4    0.108093  "
      ]
     },
     "execution_count": 274,
     "metadata": {},
     "output_type": "execute_result"
    }
   ],
   "source": [
    "df2[:5]\n",
    "#df2[:-10] # print last 10 rows"
   ]
  },
  {
   "cell_type": "code",
   "execution_count": 13,
   "metadata": {
    "collapsed": false
   },
   "outputs": [
    {
     "name": "stdout",
     "output_type": "stream",
     "text": [
      "                Fresh  Milk  Grocery  Frozen  Detergents_Paper  Delicassen\n",
      "Channel Region                                                            \n",
      "0       0.0        59    59       59      59                59          59\n",
      "        0.5        28    28       28      28                28          28\n",
      "        1.0       211   211      211     211               211         211\n",
      "1       0.0        18    18       18      18                18          18\n",
      "        0.5        19    19       19      19                19          19\n",
      "        1.0       105   105      105     105               105         105\n"
     ]
    }
   ],
   "source": [
    "grouped2 = df2.groupby(['Channel', 'Region'])\n",
    "print grouped2.count()"
   ]
  },
  {
   "cell_type": "markdown",
   "metadata": {},
   "source": [
    "#### <a id='8c'></a> Challenge 8c - Cluster the Data"
   ]
  },
  {
   "cell_type": "code",
   "execution_count": 275,
   "metadata": {
    "collapsed": false
   },
   "outputs": [
    {
     "name": "stdout",
     "output_type": "stream",
     "text": [
      "['Fresh' 'Milk' 'Grocery' 'Frozen' 'Detergents_Paper' 'Delicassen']\n"
     ]
    },
    {
     "data": {
      "text/html": [
       "<div style=\"max-height:1000px;max-width:1500px;overflow:auto;\">\n",
       "<table border=\"1\" class=\"dataframe\">\n",
       "  <thead>\n",
       "    <tr style=\"text-align: right;\">\n",
       "      <th></th>\n",
       "      <th>Fresh</th>\n",
       "      <th>Milk</th>\n",
       "      <th>Grocery</th>\n",
       "      <th>Frozen</th>\n",
       "      <th>Detergents_Paper</th>\n",
       "      <th>Delicassen</th>\n",
       "    </tr>\n",
       "  </thead>\n",
       "  <tbody>\n",
       "    <tr>\n",
       "      <th>0</th>\n",
       "      <td>0.112940</td>\n",
       "      <td>0.130727</td>\n",
       "      <td>0.081464</td>\n",
       "      <td>0.003106</td>\n",
       "      <td>0.065427</td>\n",
       "      <td>0.027847</td>\n",
       "    </tr>\n",
       "    <tr>\n",
       "      <th>1</th>\n",
       "      <td>0.062899</td>\n",
       "      <td>0.132824</td>\n",
       "      <td>0.103097</td>\n",
       "      <td>0.028548</td>\n",
       "      <td>0.080590</td>\n",
       "      <td>0.036984</td>\n",
       "    </tr>\n",
       "    <tr>\n",
       "      <th>2</th>\n",
       "      <td>0.056622</td>\n",
       "      <td>0.119181</td>\n",
       "      <td>0.082790</td>\n",
       "      <td>0.039116</td>\n",
       "      <td>0.086052</td>\n",
       "      <td>0.163559</td>\n",
       "    </tr>\n",
       "    <tr>\n",
       "      <th>3</th>\n",
       "      <td>0.118254</td>\n",
       "      <td>0.015536</td>\n",
       "      <td>0.045464</td>\n",
       "      <td>0.104842</td>\n",
       "      <td>0.012346</td>\n",
       "      <td>0.037234</td>\n",
       "    </tr>\n",
       "    <tr>\n",
       "      <th>4</th>\n",
       "      <td>0.201626</td>\n",
       "      <td>0.072914</td>\n",
       "      <td>0.077552</td>\n",
       "      <td>0.063934</td>\n",
       "      <td>0.043455</td>\n",
       "      <td>0.108093</td>\n",
       "    </tr>\n",
       "  </tbody>\n",
       "</table>\n",
       "</div>"
      ],
      "text/plain": [
       "      Fresh      Milk   Grocery    Frozen  Detergents_Paper  Delicassen\n",
       "0  0.112940  0.130727  0.081464  0.003106          0.065427    0.027847\n",
       "1  0.062899  0.132824  0.103097  0.028548          0.080590    0.036984\n",
       "2  0.056622  0.119181  0.082790  0.039116          0.086052    0.163559\n",
       "3  0.118254  0.015536  0.045464  0.104842          0.012346    0.037234\n",
       "4  0.201626  0.072914  0.077552  0.063934          0.043455    0.108093"
      ]
     },
     "execution_count": 275,
     "metadata": {},
     "output_type": "execute_result"
    }
   ],
   "source": [
    "print df2.columns[2:].values\n",
    "data=df2[df2.columns[2:].values]\n",
    "\n",
    "data.head()"
   ]
  },
  {
   "cell_type": "code",
   "execution_count": 179,
   "metadata": {
    "collapsed": false
   },
   "outputs": [
    {
     "data": {
      "text/plain": [
       "[<matplotlib.lines.Line2D at 0x112b4a150>]"
      ]
     },
     "execution_count": 179,
     "metadata": {},
     "output_type": "execute_result"
    },
    {
     "data": {
      "image/png": "[encoded data removed]",
      "text/plain": [
       "<matplotlib.figure.Figure at 0x1149d38d0>"
      ]
     },
     "metadata": {},
     "output_type": "display_data"
    }
   ],
   "source": [
    "# Looking for the optimal # of clusters first\n",
    "\n",
    "# I will use the scaled data (and will also drop columns: 'Channel and Region' \n",
    "# bc: the Objective is to cluster based on spending features\n",
    "\n",
    "import matplotlib.pyplot as plt\n",
    "from sklearn.cluster import KMeans, MiniBatchKMeans\n",
    "from sklearn.preprocessing import scale\n",
    "\n",
    "data=df2[df2.columns[2:].values]\n",
    "\n",
    "inertia_list_shopping = []\n",
    "maxk = 15\n",
    "\n",
    "for k in range(1,maxk):\n",
    "    km = KMeans(n_clusters=k, init='k-means++', max_iter=100, n_init=1)\n",
    "    scale(data,with_mean=False)\n",
    "    km.fit(data)\n",
    "    inertia_list_shopping.append(km.inertia_)\n",
    "\n",
    "plot(range(1,maxk),inertia_list_shopping)\n",
    "\n"
   ]
  },
  {
   "cell_type": "markdown",
   "metadata": {},
   "source": [
    "Source:\n",
    "http://www.slideshare.net/SarahGuido/kmeans-clustering-with-scikitlearn"
   ]
  },
  {
   "cell_type": "code",
   "execution_count": 187,
   "metadata": {
    "collapsed": false
   },
   "outputs": [],
   "source": [
    "# Based on the above plot, an ideal # of clusters is approx. 8\n",
    "from sklearn.cluster import KMeans, MiniBatchKMeans\n",
    "\n",
    "kmeans = KMeans(n_clusters=8)\n",
    "kmeans.fit(data)\n",
    "\n",
    "labels=kmeans.predict(data)"
   ]
  },
  {
   "cell_type": "code",
   "execution_count": 191,
   "metadata": {
    "collapsed": false
   },
   "outputs": [
    {
     "name": "stdout",
     "output_type": "stream",
     "text": [
      "440\n",
      "440\n"
     ]
    }
   ],
   "source": [
    "print len(df)\n",
    "print len(pca_d)"
   ]
  },
  {
   "cell_type": "code",
   "execution_count": 203,
   "metadata": {
    "collapsed": false
   },
   "outputs": [
    {
     "data": {
      "text/plain": [
       "<matplotlib.collections.PathCollection at 0x11a9d4290>"
      ]
     },
     "execution_count": 203,
     "metadata": {},
     "output_type": "execute_result"
    },
    {
     "data": {
      "image/png": "[encoded data removed]",
      "text/plain": [
       "<matplotlib.figure.Figure at 0x117c6db10>"
      ]
     },
     "metadata": {},
     "output_type": "display_data"
    }
   ],
   "source": [
    "# I want to visualize my clusters, I am goint to transform my data into 2 features, \n",
    "# so I can plot on 2 dimensions\n",
    "\n",
    "from sklearn.decomposition import PCA\n",
    "pca=PCA(n_components=2)\n",
    "pca_d=pca.fit_transform(data)\n",
    "# a sample of our data with the reduced dimensions.. \n",
    "\n",
    "# Based on the above plot, an ideal # of clusters is approx. 8\n",
    "from sklearn.cluster import KMeans, MiniBatchKMeans\n",
    "\n",
    "\n",
    "\n",
    "\n",
    "## -- 6 Clusters-- \n",
    "kmeans = KMeans(n_clusters=6)\n",
    "kmeans.fit(data)\n",
    "labels=kmeans.predict(data)\n",
    "fig, ax = plt.subplots(1, 3, figsize=[9, 4])\n",
    "ax[0].scatter(pca_d[:,0],pca_d[:,1],c=labels)\n",
    "fig.suptitle('Wholesale Cluster Targets')\n",
    "\n",
    "## -- 7 Clusters-- \n",
    "kmeans = KMeans(n_clusters=7)\n",
    "kmeans.fit(data)\n",
    "labels=kmeans.predict(data)\n",
    "ax[1].scatter(pca_d[:,0],pca_d[:,1],c=labels)\n",
    "\n",
    "## -- 8 Clusters-- \n",
    "kmeans = KMeans(n_clusters=8)\n",
    "kmeans.fit(data)\n",
    "labels=kmeans.predict(data)\n",
    "ax[2].scatter(pca_d[:,0],pca_d[:,1],c=labels)\n",
    "\n",
    "# Judging by this plot I think 6 or 7 clusters make the most sense.. "
   ]
  },
  {
   "cell_type": "code",
   "execution_count": 276,
   "metadata": {
    "collapsed": false
   },
   "outputs": [
    {
     "name": "stderr",
     "output_type": "stream",
     "text": [
      "/Users/julialintern/anaconda/lib/python2.7/site-packages/IPython/kernel/__main__.py:6: SettingWithCopyWarning: \n",
      "A value is trying to be set on a copy of a slice from a DataFrame.\n",
      "Try using .loc[row_indexer,col_indexer] = value instead\n",
      "\n",
      "See the the caveats in the documentation: http://pandas.pydata.org/pandas-docs/stable/indexing.html#indexing-view-versus-copy\n"
     ]
    }
   ],
   "source": [
    "# append cluster predictions to our data set:\n",
    "\n",
    "\n",
    "km=KMeans(n_clusters=8)\n",
    "km.fit(data)\n",
    "data['clusters']=km.predict(data)"
   ]
  },
  {
   "cell_type": "code",
   "execution_count": 388,
   "metadata": {
    "collapsed": false
   },
   "outputs": [
    {
     "data": {
      "image/png": "[encoded data removed]",
      "text/plain": [
       "<matplotlib.figure.Figure at 0x1247f91d0>"
      ]
     },
     "metadata": {},
     "output_type": "display_data"
    },
    {
     "data": {
      "image/png": "[encoded data removed]",
      "text/plain": [
       "<matplotlib.figure.Figure at 0x12b81bb90>"
      ]
     },
     "metadata": {},
     "output_type": "display_data"
    },
    {
     "data": {
      "image/png": "[encoded data removed]",
      "text/plain": [
       "<matplotlib.figure.Figure at 0x130529ad0>"
      ]
     },
     "metadata": {},
     "output_type": "display_data"
    },
    {
     "data": {
      "image/png": "[encoded data removed]",
      "text/plain": [
       "<matplotlib.figure.Figure at 0x12f64c4d0>"
      ]
     },
     "metadata": {},
     "output_type": "display_data"
    },
    {
     "data": {
      "image/png": "[encoded data removed]",
      "text/plain": [
       "<matplotlib.figure.Figure at 0x12bc396d0>"
      ]
     },
     "metadata": {},
     "output_type": "display_data"
    },
    {
     "data": {
      "image/png": "[encoded data removed]",
      "text/plain": [
       "<matplotlib.figure.Figure at 0x11e6ab710>"
      ]
     },
     "metadata": {},
     "output_type": "display_data"
    }
   ],
   "source": [
    "# genereate scatterplot matrices for each cluster..  : \n",
    "features = ['Fresh',\n",
    "        'Milk',\n",
    "        'Grocery',\n",
    "        'Frozen',\n",
    "        'Detergents_Paper',\n",
    "        'Delicassen']\n",
    "\n",
    "#fig, axes = plt.subplots(1,7,figsize=[14, 6])\n",
    "for i in range(6):\n",
    "    data_clusters[features[i]].plot(kind='hist',labels=True, title=features[i])\n",
    "    ax=axes[i]\n",
    "    plt.legend()\n",
    "    plt.show()\n",
    "    \n",
    "    \n"
   ]
  },
  {
   "cell_type": "markdown",
   "metadata": {
    "collapsed": false
   },
   "source": [
    "####  Summary of Clusters:  \n",
    "Judging by the distributions for the different features, we can \n",
    "develop the following generalizations about our clusters:\n",
    "    \n",
    "Cluster 0 & 1: 'The Small Market Clusters': Seems to have higher distributions for most features (except Produce)  \n",
    "Cluster 2 & 4 :'The Bodega Clusters' : Many small sized purchases of everything  \n",
    "Cluster 3: 'Ice cream shop Cluster : Large, but infrequent purchases of dairy and grocery   \n",
    "Cluster 5:'The Garden-Fresh Cluster': Large purchases of Fresh produce  \n",
    "Cluster 6: 'Catering Cluster': Large infrequent purchases of Delicassen, Frozen & Dairy  \n",
    "Cluster 7:' Medium Market Cluster: Medium sized purchases on most items  \n"
   ]
  },
  {
   "cell_type": "code",
   "execution_count": null,
   "metadata": {
    "collapsed": false
   },
   "outputs": [],
   "source": []
  }
 ],
 "metadata": {
  "kernelspec": {
   "display_name": "Python 2",
   "language": "python",
   "name": "python2"
  },
  "language_info": {
   "codemirror_mode": {
    "name": "ipython",
    "version": 2
   },
   "file_extension": ".py",
   "mimetype": "text/x-python",
   "name": "python",
   "nbconvert_exporter": "python",
   "pygments_lexer": "ipython2",
   "version": "2.7.11"
  }
 },
 "nbformat": 4,
 "nbformat_minor": 0
}
