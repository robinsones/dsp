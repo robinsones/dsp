{
 "cells": [
  {
   "cell_type": "code",
   "execution_count": 293,
   "metadata": {
    "collapsed": false
   },
   "outputs": [],
   "source": [
    "from sklearn import feature_selection,preprocessing,grid_search,cross_validation\n",
    "from sklearn import linear_model\n",
    "from sklearn.ensemble import RandomForestClassifier\n",
    "from sklearn import learning_curve\n",
    "from sklearn.metrics import accuracy_score, classification_report\n",
    "from sklearn import naive_bayes\n",
    "from sklearn.tree import DecisionTreeClassifier\n",
    "from sklearn import svm\n",
    "from sklearn.metrics import confusion_matrix\n",
    "import pandas as pd\n",
    "import patsy\n",
    "import matplotlib.pyplot as plt\n",
    "import seaborn as sns"
   ]
  },
  {
   "cell_type": "markdown",
   "metadata": {},
   "source": [
    "logististic\n",
    "\n",
    "svm\n",
    "\n",
    "decision tress"
   ]
  },
  {
   "cell_type": "code",
   "execution_count": null,
   "metadata": {
    "collapsed": true
   },
   "outputs": [],
   "source": [
    "feature_selection"
   ]
  },
  {
   "cell_type": "markdown",
   "metadata": {},
   "source": [
    "sklearn.feature_selection.f_classif\n",
    "\n",
    "sklearn.feature_selection.chi2\n",
    "\n",
    "RFE"
   ]
  },
  {
   "cell_type": "code",
   "execution_count": 166,
   "metadata": {
    "collapsed": false,
    "scrolled": true
   },
   "outputs": [],
   "source": [
    "mbdata = pd.read_csv('beethoven_mozart.csv').drop('Unnamed: 0',axis=1)"
   ]
  },
  {
   "cell_type": "code",
   "execution_count": 167,
   "metadata": {
    "collapsed": false
   },
   "outputs": [],
   "source": [
    "object_cols = ['Most_Common_Note_Quarter_Length', 'Most_Common_Note_Quarter_Length.1']\n",
    "frac_map = {'1/3':'.333', '1/6':'0.166'}\n",
    "mbdata[object_cols[0]]=mbdata[object_cols[0]].apply(lambda x : frac_map[x] if x=='1/3' or x== '1/6' else x).astype(float)\n",
    "mbdata[object_cols[1]]=mbdata[object_cols[1]].apply(lambda x : frac_map[x] if x=='1/3' or x== '1/6' else x).astype(float)\n",
    "mbdata['Composer'] = (mbdata['Composer']=='Mozart').astype(int)"
   ]
  },
  {
   "cell_type": "code",
   "execution_count": 307,
   "metadata": {
    "collapsed": false,
    "scrolled": true
   },
   "outputs": [],
   "source": [
    "predictors = mbdata.columns[1:-1]\n",
    "composer = mbdata.columns[-1]\n",
    "X , y = mbdata[predictors], mbdata[composer]\n",
    "preprocessing.scale(X)\n",
    "def cv(X,y,n): \n",
    "    kf = cross_validation.KFold(len(X),n, shuffle=True)\n",
    "    for train_index, test_index in kf:\n",
    "        xtrain, xtest = X.iloc[train_index], X.iloc[test_index]\n",
    "        ytrain, ytest = y.iloc[train_index], y.iloc[test_index]\n",
    "    return xtrain, xtest, ytrain, ytest\n",
    "\n",
    "xtrain, xtest, ytrain, ytest = cv(X,y,4)"
   ]
  },
  {
   "cell_type": "markdown",
   "metadata": {},
   "source": [
    "## SVC"
   ]
  },
  {
   "cell_type": "code",
   "execution_count": 308,
   "metadata": {
    "collapsed": false
   },
   "outputs": [
    {
     "name": "stdout",
     "output_type": "stream",
     "text": [
      "             precision    recall  f1-score   support\n",
      "\n",
      "     Mozart       0.85      0.73      0.79        15\n",
      "  Beethoven       0.84      0.91      0.87        23\n",
      "\n",
      "avg / total       0.84      0.84      0.84        38\n",
      "\n"
     ]
    }
   ],
   "source": [
    "#xtrain, xtest, ytrain, ytest = cv(X,y,4)\n",
    "svc = svm.SVC(kernel='rbf')\n",
    "svc.fit(xtrain,ytrain)\n",
    "print(classification_report(ytest,svc.predict(xtest),target_names=['Mozart','Beethoven']))\n"
   ]
  },
  {
   "cell_type": "markdown",
   "metadata": {},
   "source": [
    "## Decision Tree Classifier "
   ]
  },
  {
   "cell_type": "code",
   "execution_count": 309,
   "metadata": {
    "collapsed": false,
    "scrolled": true
   },
   "outputs": [
    {
     "name": "stdout",
     "output_type": "stream",
     "text": [
      "             precision    recall  f1-score   support\n",
      "\n",
      "     Mozart       0.62      0.53      0.57        15\n",
      "  Beethoven       0.72      0.78      0.75        23\n",
      "\n",
      "avg / total       0.68      0.68      0.68        38\n",
      "\n"
     ]
    }
   ],
   "source": [
    "#xtrain, xtest, ytrain, ytest = cv(X,y,4)\n",
    "dtc = DecisionTreeClassifier()\n",
    "dtc.fit(xtrain,ytrain)\n",
    "print(classification_report(ytest,dtc.predict(xtest),target_names=['Mozart','Beethoven']))\n",
    "dtcfi = dtc.feature_importances_"
   ]
  },
  {
   "cell_type": "markdown",
   "metadata": {},
   "source": [
    "## Random Forest Classifier"
   ]
  },
  {
   "cell_type": "code",
   "execution_count": 310,
   "metadata": {
    "collapsed": false,
    "scrolled": true
   },
   "outputs": [
    {
     "name": "stdout",
     "output_type": "stream",
     "text": [
      "             precision    recall  f1-score   support\n",
      "\n",
      "     Mozart       0.76      0.87      0.81        15\n",
      "  Beethoven       0.90      0.83      0.86        23\n",
      "\n",
      "avg / total       0.85      0.84      0.84        38\n",
      "\n"
     ]
    }
   ],
   "source": [
    "#xtrain, xtest, ytrain, ytest = cv(X,y,4)\n",
    "rfc = RandomForestClassifier()\n",
    "rfc.fit(xtrain,ytrain)\n",
    "feature_selection.SelectFromModel(rfc)\n",
    "print(classification_report(ytest,rfc.predict(xtest),target_names=['Mozart','Beethoven']))\n",
    "rfcfi = rfc.feature_importances_"
   ]
  }
 ],
 "metadata": {
  "anaconda-cloud": {},
  "kernelspec": {
   "display_name": "Python [Root]",
   "language": "python",
   "name": "Python [Root]"
  },
  "language_info": {
   "codemirror_mode": {
    "name": "ipython",
    "version": 3
   },
   "file_extension": ".py",
   "mimetype": "text/x-python",
   "name": "python",
   "nbconvert_exporter": "python",
   "pygments_lexer": "ipython3",
   "version": "3.5.2"
  }
 },
 "nbformat": 4,
 "nbformat_minor": 0
}
