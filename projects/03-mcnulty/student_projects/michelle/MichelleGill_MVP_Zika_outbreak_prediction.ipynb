{
 "cells": [
  {
   "cell_type": "code",
   "execution_count": 163,
   "metadata": {
    "ExecuteTime": {
     "end_time": "2016-07-29T04:24:52.726751",
     "start_time": "2016-07-29T04:24:52.696716"
    },
    "collapsed": false
   },
   "outputs": [],
   "source": [
    "from sqlalchemy import create_engine\n",
    "from api_keys import POSTGRES_PWD\n",
    "import dill\n",
    "\n",
    "import pandas as pd\n",
    "import numpy as np\n",
    "\n",
    "from sklearn.preprocessing import normalize\n",
    "from sklearn.cross_validation import train_test_split\n",
    "from sklearn.linear_model import LogisticRegressionCV\n",
    "from sklearn.ensemble import RandomForestClassifier\n",
    "from sklearn.metrics import confusion_matrix, f1_score, roc_auc_score, roc_curve, auc, accuracy_score\n",
    "\n",
    "import matplotlib.pyplot as plt\n",
    "import seaborn as sns\n",
    "\n",
    "sns.set_context('talk')\n",
    "sns.set_palette('dark')\n",
    "sns.set_style('white')\n",
    "\n",
    "%matplotlib inline"
   ]
  },
  {
   "cell_type": "markdown",
   "metadata": {},
   "source": [
    "# Summary\n",
    "\n",
    "Michelle L. Gill  \n",
    "2016/07/28  \n",
    "\n",
    "The ability to predict Zika outbreaks is being modeled. For the purposes of modelling this as a classification problem, a threshold was used to determine Zika outbreaks. Various threshold levels were tried, including the absence of any cases of Zika.\n",
    "\n",
    "A logistic regression classifier was first trained and had approximately 93% accuracy, however there is some class imbalance and/or inseparability of features. Likely related to this is that, despite preliminary model tuining efforts, there are never any false positives in the confusion matrix, but the true postive and false negative values are similar in size. (Thus, the results are similar to guessing on the smallest class.)\n",
    "\n",
    "The ROC curve for a Random Forest model is consistently flat, which also reflects the absence of sensitivity (see below). However, when the maximum tree depth is increased (~ >=5), then both classes are correctly guessed. Likely this is overfitting, but the statistics don't seem to be reflecting it.\n",
    "\n",
    "I have some thoughts for how to proceed with both modelling and additional data collection efforts, but would like to discuss on Friday to assess whether this or switching to my backup project is the best idea.\n",
    "\n",
    "![](./ROC.png)\n",
    "\n",
    "\n",
    "\n",
    "## Input data\n",
    "\n",
    "The input data include the following:\n",
    "\n",
    "1. Zika outbreak data downloaded from this [GitHub repo](https://github.com/cdcepi/zika)\n",
    "2. Scraped Latitude and longitude data for locations of confirmed Zika cases from the following:\n",
    "\n",
    "    * Google Maps API\n",
    "    * Google Search\n",
    "    * From [https://www.distancesto.com](https://www.distancesto.com)\n",
    "\n",
    "3. Airport information for worldwide airports, including latitude and longitude scraped from [http://fallingrain.com](http://fallingrain.com)\n",
    "\n",
    "4. Worldwide historical weather data, scraped from [http://wunderground.com](https://www.wunderground.com) by proximal airport code\n",
    "\n",
    "5. Population density from NASA Socioeconomic Data and Applications Center (SEDAC), Gridded Population and Population Density of the World from [http://sedac.ciesin.columbia.edu/data/set/gpw-v4-population-density](http://sedac.ciesin.columbia.edu/data/set/gpw-v4-population-density)\n",
    "\n",
    "6. *Aedes aegypti* and *Aedes albopictus* occurrences from [Dryad](http://dx.doi.org/10.5061/dryad.47v3c/1)\n",
    "\n",
    "> Kraemer MUG, Sinka ME, Duda KA, Mylne A, Shearer FM, Brady OJ, Messina JP, Barker CM, Moore CG, Carvalho RG, Coelho GE, Van Bortel W, Hendrickx G, Schaffner F, Wint GRW, Elyazar IRF, Teng H, Hay SI (2015) The global compendium of Aedes aegypti and Ae. albopictus occurrence. Scientific Data 2(7): 150035. [http://dx.doi.org/10.1038/sdata.2015.35](http://dx.doi.org/10.1038/sdata.2015.35)"
   ]
  },
  {
   "cell_type": "markdown",
   "metadata": {},
   "source": [
    "## Import and examine data\n",
    "\n",
    "Need to get this working with AWS. The data import into the database works fine, but I can't download any data. Have already tried using SSH tunnel from home, which works fine for upload."
   ]
  },
  {
   "cell_type": "code",
   "execution_count": 178,
   "metadata": {
    "ExecuteTime": {
     "end_time": "2016-07-29T04:30:45.727149",
     "start_time": "2016-07-29T04:30:45.338087"
    },
    "collapsed": false
   },
   "outputs": [],
   "source": [
    "with open('../pkl/07_feature_engineering_and_cleaning.pkl','r') as fh:\n",
    "    model = dill.load(fh)\n",
    "    \n",
    "# postgres_str = 'postgresql://mlgill:{}@127.0.0.1:12345/{}'.format(POSTGRES_PWD, 'mcnulty')\n",
    "# connection = create_engine(postgres_str)\n",
    "# model = pd.read_sql_query(\"select * from '07_feature_engineering_and_cleaning';\", connection)"
   ]
  },
  {
   "cell_type": "code",
   "execution_count": 179,
   "metadata": {
    "ExecuteTime": {
     "end_time": "2016-07-29T04:30:45.749213",
     "start_time": "2016-07-29T04:30:45.729145"
    },
    "collapsed": true
   },
   "outputs": [],
   "source": [
    "id_data = model[['date','location']]\n",
    "model.drop(['date','location'], axis=1, inplace=True)"
   ]
  },
  {
   "cell_type": "markdown",
   "metadata": {},
   "source": [
    "There are over 100,000 observations in the data set and about 15,000 of them contain non-zero values (*i.e.* Zika occurrences)."
   ]
  },
  {
   "cell_type": "code",
   "execution_count": 180,
   "metadata": {
    "ExecuteTime": {
     "end_time": "2016-07-29T04:30:46.412280",
     "start_time": "2016-07-29T04:30:46.347956"
    },
    "collapsed": false
   },
   "outputs": [
    {
     "name": "stdout",
     "output_type": "stream",
     "text": [
      "Total entries:  110821 , Non-zero entries:  14858\n",
      "Entries without NaNs:  110719\n"
     ]
    }
   ],
   "source": [
    "print 'Total entries: ', model.shape[0], ', Non-zero entries: ', (model.zika_cases>0).sum()\n",
    "\n",
    "print 'Entries without NaNs: ', model.dropna().shape[0]\n",
    "\n",
    "model = model.dropna()"
   ]
  },
  {
   "cell_type": "markdown",
   "metadata": {},
   "source": [
    "One issue with the Zika data that could use additional attention is the determination of Zika cases. In many situations, the data are provided as per-weekly numbers. However, in others, the values are clearly cummulative. Labels don't make it clear which is the case, so I've decided for now to truncate the data at 5,000 cases per entry."
   ]
  },
  {
   "cell_type": "code",
   "execution_count": 181,
   "metadata": {
    "ExecuteTime": {
     "end_time": "2016-07-29T04:30:52.387947",
     "start_time": "2016-07-29T04:30:51.763354"
    },
    "collapsed": false
   },
   "outputs": [
    {
     "data": {
      "image/png": "[encoded data removed]",
      "text/plain": [
       "<matplotlib.figure.Figure at 0x1209a1dd0>"
      ]
     },
     "metadata": {},
     "output_type": "display_data"
    }
   ],
   "source": [
    "ax = model.zika_cases.hist(bins=100, alpha=0.5)\n",
    "ax.set_ylim(0,100)\n",
    "_ = ax.set(xlabel='Zika Cases per Week', \n",
    "           ylabel='Frequency (Scale Limited to 100)', \n",
    "           title='Histogram of Zika Cases')\n",
    "ax.grid('off')\n",
    "sns.despine()"
   ]
  },
  {
   "cell_type": "code",
   "execution_count": 182,
   "metadata": {
    "ExecuteTime": {
     "end_time": "2016-07-29T04:30:53.144871",
     "start_time": "2016-07-29T04:30:53.117371"
    },
    "collapsed": false
   },
   "outputs": [
    {
     "data": {
      "text/plain": [
       "(110719, 110659)"
      ]
     },
     "execution_count": 182,
     "metadata": {},
     "output_type": "execute_result"
    }
   ],
   "source": [
    "model.shape[0], model.query('zika_cases<=5000').shape[0]"
   ]
  },
  {
   "cell_type": "code",
   "execution_count": 184,
   "metadata": {
    "ExecuteTime": {
     "end_time": "2016-07-29T04:31:09.683993",
     "start_time": "2016-07-29T04:31:09.661963"
    },
    "collapsed": false
   },
   "outputs": [
    {
     "name": "stdout",
     "output_type": "stream",
     "text": [
      "Non-zero entries below 5,000:  14777\n"
     ]
    }
   ],
   "source": [
    "mask = ((model.zika_cases>0) & (model.zika_cases<=5000))\n",
    "print 'Non-zero entries below 5,000: ', mask.sum()\n",
    "model = model.loc[model.zika_cases<=5000]"
   ]
  },
  {
   "cell_type": "markdown",
   "metadata": {},
   "source": [
    "Other input variables are shown below. Weather data (temperature, rain, wind) are present for the current week and timeshifted for the two previous weeks, as the lifespan of a mosquito is approximately two weeks. Population density, proximity to airports (both major and any size) as well as location of the closest *Aedes aegypti* mosquito is included in the input data."
   ]
  },
  {
   "cell_type": "code",
   "execution_count": 185,
   "metadata": {
    "ExecuteTime": {
     "end_time": "2016-07-29T04:31:11.930828",
     "start_time": "2016-07-29T04:31:11.918139"
    },
    "collapsed": false
   },
   "outputs": [
    {
     "data": {
      "text/plain": [
       "max_temp                67.000000\n",
       "max_temp1               70.000000\n",
       "max_temp2               68.000000\n",
       "mean_temp               53.000000\n",
       "mean_temp1              57.000000\n",
       "mean_temp2              56.000000\n",
       "min_temp                38.000000\n",
       "min_temp1               43.000000\n",
       "min_temp2               44.000000\n",
       "dew_point               41.000000\n",
       "dew_point1              50.000000\n",
       "dew_point2              47.000000\n",
       "precipitation            0.000000\n",
       "precipitation1           2.050000\n",
       "precipitation2           2.320000\n",
       "wind                     4.000000\n",
       "wind1                    5.000000\n",
       "wind2                    6.000000\n",
       "zika_cases               0.000000\n",
       "density_per_km        1096.302124\n",
       "airport_dist_any         1.263055\n",
       "airport_dist_large       1.293253\n",
       "mosquito_dist           10.017954\n",
       "Name: 0, dtype: float64"
      ]
     },
     "execution_count": 185,
     "metadata": {},
     "output_type": "execute_result"
    }
   ],
   "source": [
    "model.iloc[0].T"
   ]
  },
  {
   "cell_type": "markdown",
   "metadata": {},
   "source": [
    "## Logistic Regression\n",
    "\n",
    "Logistic regression was performed on the ratio of Zika cases per population. I tried a couple different thresholds for the predictor variable. Given the relatively large number of 'zero' values, I'm currently using any occurrence as the definition of an outbreak. Could explore this more, though I'll likely try to switch to `RandomForestClassifier`."
   ]
  },
  {
   "cell_type": "code",
   "execution_count": 186,
   "metadata": {
    "ExecuteTime": {
     "end_time": "2016-07-29T04:31:13.299535",
     "start_time": "2016-07-29T04:31:13.184118"
    },
    "collapsed": true
   },
   "outputs": [],
   "source": [
    "model['zika_ratio'] = model.zika_cases / model.density_per_km\n",
    "\n",
    "X_cols = [x for x in model.columns if x not in ['zika_cases','zika_bool']]\n",
    "Y_cols = ['zika_bool']"
   ]
  },
  {
   "cell_type": "code",
   "execution_count": 187,
   "metadata": {
    "ExecuteTime": {
     "end_time": "2016-07-29T04:31:13.954859",
     "start_time": "2016-07-29T04:31:13.911534"
    },
    "collapsed": false
   },
   "outputs": [
    {
     "name": "stdout",
     "output_type": "stream",
     "text": [
      "(0, 110659, 14777)\n"
     ]
    }
   ],
   "source": [
    "# thresh = model.zika_ratio.loc[model.zika_ratio>0].quantile(0.02)\n",
    "thresh = 0\n",
    "\n",
    "model['zika_bool'] = 0\n",
    "model.loc[model.zika_ratio>thresh, 'zika_bool'] = 1\n",
    "model['zika_bool'] = model.zika_bool.astype(int)\n",
    "\n",
    "print(thresh, model.shape[0], model.zika_bool.sum())"
   ]
  },
  {
   "cell_type": "markdown",
   "metadata": {},
   "source": [
    "I have some concerns that the above class is a little imbalanced and there are no false positives in the confusion matrix below."
   ]
  },
  {
   "cell_type": "code",
   "execution_count": 188,
   "metadata": {
    "ExecuteTime": {
     "end_time": "2016-07-29T04:31:27.069303",
     "start_time": "2016-07-29T04:31:16.590174"
    },
    "collapsed": false
   },
   "outputs": [],
   "source": [
    "train, test = train_test_split(model, test_size=0.30, random_state=42)\n",
    "\n",
    "Xtrain = normalize(train[X_cols])\n",
    "Xtest = normalize(test[X_cols])\n",
    "\n",
    "# Double check that Y-data needs to be normalized\n",
    "# but I don't think it should hurt the results\n",
    "Ytrain = normalize(train[Y_cols]).ravel()\n",
    "Ytest = normalize(test[Y_cols]).ravel()\n",
    "\n",
    "LR = LogisticRegressionCV(Cs=10, penalty='l2')\n",
    "#LR = LogisticRegressionCV(Cs=10, penalty='l1', solver='liblinear')\n",
    "\n",
    "LR.fit(Xtrain, Ytrain)\n",
    "\n",
    "Ypred = LR.predict(Xtest)"
   ]
  },
  {
   "cell_type": "code",
   "execution_count": 189,
   "metadata": {
    "ExecuteTime": {
     "end_time": "2016-07-29T04:31:27.129108",
     "start_time": "2016-07-29T04:31:27.071726"
    },
    "collapsed": false
   },
   "outputs": [],
   "source": [
    "logistic_cm = confusion_matrix(Ytest, Ypred)\n",
    "logistic_f1 = f1_score(Ytest, Ypred)\n",
    "logistic_accuracy = accuracy_score(Ytest, Ypred)"
   ]
  },
  {
   "cell_type": "code",
   "execution_count": 190,
   "metadata": {
    "ExecuteTime": {
     "end_time": "2016-07-29T04:31:27.141207",
     "start_time": "2016-07-29T04:31:27.131454"
    },
    "collapsed": false
   },
   "outputs": [
    {
     "data": {
      "text/plain": [
       "array([[28699,     0],\n",
       "       [ 3190,  1309]])"
      ]
     },
     "execution_count": 190,
     "metadata": {},
     "output_type": "execute_result"
    }
   ],
   "source": [
    "logistic_cm"
   ]
  },
  {
   "cell_type": "code",
   "execution_count": 191,
   "metadata": {
    "ExecuteTime": {
     "end_time": "2016-07-29T04:31:32.687266",
     "start_time": "2016-07-29T04:31:32.681376"
    },
    "collapsed": false
   },
   "outputs": [
    {
     "data": {
      "text/plain": [
       "0.4507575757575758"
      ]
     },
     "execution_count": 191,
     "metadata": {},
     "output_type": "execute_result"
    }
   ],
   "source": [
    "logistic_f1"
   ]
  },
  {
   "cell_type": "code",
   "execution_count": 192,
   "metadata": {
    "ExecuteTime": {
     "end_time": "2016-07-29T04:31:33.190690",
     "start_time": "2016-07-29T04:31:33.183053"
    },
    "collapsed": false
   },
   "outputs": [
    {
     "data": {
      "text/plain": [
       "0.90390987408880052"
      ]
     },
     "execution_count": 192,
     "metadata": {},
     "output_type": "execute_result"
    }
   ],
   "source": [
    "logistic_accuracy"
   ]
  },
  {
   "cell_type": "markdown",
   "metadata": {},
   "source": [
    "## Random Forest Classifier"
   ]
  },
  {
   "cell_type": "code",
   "execution_count": 238,
   "metadata": {
    "ExecuteTime": {
     "end_time": "2016-07-29T04:49:35.334640",
     "start_time": "2016-07-29T04:49:31.879149"
    },
    "collapsed": false
   },
   "outputs": [
    {
     "name": "stderr",
     "output_type": "stream",
     "text": [
      "[Parallel(n_jobs=-1)]: Done  42 tasks      | elapsed:    0.8s\n",
      "[Parallel(n_jobs=-1)]: Done 100 out of 100 | elapsed:    2.0s finished\n"
     ]
    },
    {
     "data": {
      "text/plain": [
       "RandomForestClassifier(bootstrap=True, class_weight=None, criterion='gini',\n",
       "            max_depth=3, max_features='auto', max_leaf_nodes=None,\n",
       "            min_samples_leaf=1, min_samples_split=2,\n",
       "            min_weight_fraction_leaf=0.0, n_estimators=100, n_jobs=-1,\n",
       "            oob_score=True, random_state=42, verbose=1, warm_start=False)"
      ]
     },
     "execution_count": 238,
     "metadata": {},
     "output_type": "execute_result"
    }
   ],
   "source": [
    "# Xtrain = train[X_cols]\n",
    "# Xtest = test[X_cols]\n",
    "\n",
    "# Ytrain = train[Y_cols]\n",
    "# Ytest = test[Y_cols].squeeze()\n",
    "\n",
    "# Don't need train/test if using OOB, right?\n",
    "Ydata = model[Y_cols]\n",
    "Xdata = model[X_cols]\n",
    "\n",
    "forest = RandomForestClassifier(n_estimators=100, max_depth=3, n_jobs=-1, \n",
    "                                random_state=42, verbose=1, oob_score=True)\n",
    "\n",
    "forest.fit(Xdata, Ydata.values.ravel())"
   ]
  },
  {
   "cell_type": "code",
   "execution_count": 242,
   "metadata": {
    "ExecuteTime": {
     "end_time": "2016-07-29T04:51:37.388107",
     "start_time": "2016-07-29T04:51:36.858344"
    },
    "collapsed": false
   },
   "outputs": [
    {
     "name": "stderr",
     "output_type": "stream",
     "text": [
      "[Parallel(n_jobs=4)]: Done  42 tasks      | elapsed:    0.1s\n",
      "[Parallel(n_jobs=4)]: Done 100 out of 100 | elapsed:    0.3s finished\n"
     ]
    },
    {
     "name": "stdout",
     "output_type": "stream",
     "text": [
      "[[95882     0]\n",
      " [ 4153 10624]]\n"
     ]
    }
   ],
   "source": [
    "Ypred1 = forest.predict(Xdata)\n",
    "print confusion_matrix(Ydata, Ypred1)"
   ]
  },
  {
   "cell_type": "markdown",
   "metadata": {},
   "source": [
    "Messing with the threshold of the decision function can increase sensitivity, although I think this is somewhat arbitrary since now there are now false negatives."
   ]
  },
  {
   "cell_type": "code",
   "execution_count": 243,
   "metadata": {
    "ExecuteTime": {
     "end_time": "2016-07-29T04:51:39.651266",
     "start_time": "2016-07-29T04:51:39.215184"
    },
    "collapsed": false
   },
   "outputs": [
    {
     "data": {
      "text/plain": [
       "array([[95185,   697],\n",
       "       [    0, 14777]])"
      ]
     },
     "execution_count": 243,
     "metadata": {},
     "output_type": "execute_result"
    }
   ],
   "source": [
    "Ypred2 = forest.oob_decision_function_[:,1]>0.12\n",
    "confusion_matrix(Ydata, Ypred2)"
   ]
  },
  {
   "cell_type": "code",
   "execution_count": 245,
   "metadata": {
    "ExecuteTime": {
     "end_time": "2016-07-29T04:51:59.442567",
     "start_time": "2016-07-29T04:51:59.408020"
    },
    "collapsed": false
   },
   "outputs": [
    {
     "data": {
      "text/plain": [
       "(0.85947756648846174, 0.99636532404413758)"
      ]
     },
     "execution_count": 245,
     "metadata": {},
     "output_type": "execute_result"
    }
   ],
   "source": [
    "roc_auc_score(Ydata, Ypred1), roc_auc_score(Ydata, Ypred2)"
   ]
  },
  {
   "cell_type": "code",
   "execution_count": 247,
   "metadata": {
    "ExecuteTime": {
     "end_time": "2016-07-29T04:53:10.188003",
     "start_time": "2016-07-29T04:53:10.165503"
    },
    "collapsed": false
   },
   "outputs": [],
   "source": [
    "xdata1, ydata1, _ = roc_curve(Ydata, Ypred1)\n",
    "xdata2, ydata2, _ = roc_curve(Ydata, Ypred2)"
   ]
  },
  {
   "cell_type": "code",
   "execution_count": 248,
   "metadata": {
    "ExecuteTime": {
     "end_time": "2016-07-29T04:53:23.193060",
     "start_time": "2016-07-29T04:53:23.187115"
    },
    "collapsed": false
   },
   "outputs": [
    {
     "name": "stdout",
     "output_type": "stream",
     "text": [
      "(0.85947756648846174, 0.99636532404413758)\n"
     ]
    }
   ],
   "source": [
    "roc_auc1 = auc(xdata1, ydata1)\n",
    "roc_auc2 = auc(xdata2, ydata2)\n",
    "print(roc_auc1, roc_auc2)"
   ]
  },
  {
   "cell_type": "code",
   "execution_count": 258,
   "metadata": {
    "ExecuteTime": {
     "end_time": "2016-07-29T04:58:21.935766",
     "start_time": "2016-07-29T04:58:21.492632"
    },
    "collapsed": false
   },
   "outputs": [
    {
     "data": {
      "image/png": "[encoded data removed]",
      "text/plain": [
       "<matplotlib.figure.Figure at 0x1046d7050>"
      ]
     },
     "metadata": {},
     "output_type": "display_data"
    }
   ],
   "source": [
    "f = plt.figure()\n",
    "f.set_size_inches(7,5)\n",
    "ax = plt.axes()\n",
    "\n",
    "colors = sns.color_palette()\n",
    "ax.plot(xdata1, ydata1, color=colors[0], label='Default OOB Threshold')\n",
    "ax.plot(xdata2, ydata2, color=colors[1], label='OOB Threshold = 0.12')\n",
    "ax.legend(loc=0)\n",
    "\n",
    "_ = ax.set(xlabel='False Positive Rate', \n",
    "       ylabel='True Positive Rate',\n",
    "       title='ROC Curve')\n",
    "\n",
    "plt.tight_layout()\n",
    "f.savefig('ROC.png')"
   ]
  }
 ],
 "metadata": {
  "kernelspec": {
   "display_name": "Python 2",
   "language": "python",
   "name": "python2"
  },
  "language_info": {
   "codemirror_mode": {
    "name": "ipython",
    "version": 2
   },
   "file_extension": ".py",
   "mimetype": "text/x-python",
   "name": "python",
   "nbconvert_exporter": "python",
   "pygments_lexer": "ipython2",
   "version": "2.7.12"
  }
 },
 "nbformat": 4,
 "nbformat_minor": 0
}
