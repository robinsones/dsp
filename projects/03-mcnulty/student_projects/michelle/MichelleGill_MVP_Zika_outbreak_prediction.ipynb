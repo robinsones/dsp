{
 "cells": [
  {
   "cell_type": "code",
   "execution_count": 139,
   "metadata": {
    "ExecuteTime": {
     "end_time": "2016-07-28T23:26:27.020720",
     "start_time": "2016-07-28T23:26:27.001038"
    },
    "collapsed": false
   },
   "outputs": [],
   "source": [
    "from sqlalchemy import create_engine\n",
    "from api_keys import POSTGRES_PWD\n",
    "import dill\n",
    "\n",
    "import pandas as pd\n",
    "import numpy as np\n",
    "\n",
    "from sklearn.preprocessing import normalize\n",
    "from sklearn.cross_validation import train_test_split\n",
    "from sklearn.linear_model import LogisticRegressionCV\n",
    "from sklearn.ensemble import RandomForestClassifier\n",
    "from sklearn.metrics import confusion_matrix, f1_score, roc_auc_score, roc_curve, auc, accuracy_score\n",
    "\n",
    "import matplotlib.pyplot as plt\n",
    "import seaborn as sns\n",
    "\n",
    "sns.set_context('talk')\n",
    "sns.set_palette('dark')\n",
    "sns.set_style('white')\n",
    "\n",
    "%matplotlib inline"
   ]
  },
  {
   "cell_type": "markdown",
   "metadata": {},
   "source": [
    "# Summary\n",
    "\n",
    "Michelle L. Gill  \n",
    "2016/07/28  \n",
    "\n",
    "The ability to predict Zika outbreaks is being modeled. For classification purposes, the threshold was initially set as the existence of any case of Zika.\n",
    "\n",
    "A logistic regression classifier was trained with approximately 93% accuracy, however there may be some class imbalance and there are no false positives in the confusion matrix.\n",
    "\n",
    "## Input data\n",
    "\n",
    "The input data include the following:\n",
    "\n",
    "1. Zika outbreak data downloaded from this [GitHub repo](https://github.com/cdcepi/zika)\n",
    "2. Scraped Latitude and longitude data for Zika outbreaks:\n",
    "\n",
    "    * Google Maps API\n",
    "    * Google Search\n",
    "    * From [https://www.distancesto.com](https://www.distancesto.com)--this was a very forgiving search engine\n",
    "\n",
    "3. Airport information for worldwide airports, including latitude and longitude scraped from [http://fallingrain.com](http://fallingrain.com)\n",
    "\n",
    "4. Worldwide historical weather data, scraped from [http://wunderground.com](https://www.wunderground.com) by proximal airport code\n",
    "\n",
    "5. Population density from NASA Socioeconomic Data and Applications Center (SEDAC), Gridded Population and Population Density of the World from [http://sedac.ciesin.columbia.edu/data/set/gpw-v4-population-density](http://sedac.ciesin.columbia.edu/data/set/gpw-v4-population-density)\n",
    "\n",
    "6. *Aedes aegypti* and *Aedes albopictus* occurrences from [Dryad](http://dx.doi.org/10.5061/dryad.47v3c/1)\n",
    "\n",
    "> Kraemer MUG, Sinka ME, Duda KA, Mylne A, Shearer FM, Brady OJ, Messina JP, Barker CM, Moore CG, Carvalho RG, Coelho GE, Van Bortel W, Hendrickx G, Schaffner F, Wint GRW, Elyazar IRF, Teng H, Hay SI (2015) The global compendium of Aedes aegypti and Ae. albopictus occurrence. Scientific Data 2(7): 150035. [http://dx.doi.org/10.1038/sdata.2015.35](http://dx.doi.org/10.1038/sdata.2015.35)"
   ]
  },
  {
   "cell_type": "markdown",
   "metadata": {},
   "source": [
    "## Import and examine data\n",
    "\n",
    "Need to get this working with AWS. The data import works fine, but I can't download."
   ]
  },
  {
   "cell_type": "code",
   "execution_count": 56,
   "metadata": {
    "ExecuteTime": {
     "end_time": "2016-07-28T22:45:01.890299",
     "start_time": "2016-07-28T22:45:01.531574"
    },
    "collapsed": false
   },
   "outputs": [],
   "source": [
    "with open('../pkl/07_feature_engineering_and_cleaning.pkl','r') as fh:\n",
    "    model = dill.load(fh)\n",
    "    \n",
    "# postgres_str = 'postgresql://mlgill:{}@127.0.0.1:12345/{}'.format(POSTGRES_PWD, 'mcnulty')\n",
    "# connection = create_engine(postgres_str)\n",
    "# model = pd.read_sql_query(\"select * from '07_feature_engineering_and_cleaning';\", connection)"
   ]
  },
  {
   "cell_type": "code",
   "execution_count": 57,
   "metadata": {
    "ExecuteTime": {
     "end_time": "2016-07-28T22:45:22.993040",
     "start_time": "2016-07-28T22:45:22.971989"
    },
    "collapsed": true
   },
   "outputs": [],
   "source": [
    "id_data = model[['date','location']]\n",
    "model.drop(['date','location'], axis=1, inplace=True)"
   ]
  },
  {
   "cell_type": "code",
   "execution_count": 58,
   "metadata": {
    "ExecuteTime": {
     "end_time": "2016-07-28T22:45:23.526158",
     "start_time": "2016-07-28T22:45:23.514917"
    },
    "collapsed": false
   },
   "outputs": [
    {
     "data": {
      "text/plain": [
       "max_temp              float64\n",
       "max_temp1             float64\n",
       "max_temp2             float64\n",
       "mean_temp             float64\n",
       "mean_temp1            float64\n",
       "mean_temp2            float64\n",
       "min_temp              float64\n",
       "min_temp1             float64\n",
       "min_temp2             float64\n",
       "dew_point             float64\n",
       "dew_point1            float64\n",
       "dew_point2            float64\n",
       "precipitation         float64\n",
       "precipitation1        float64\n",
       "precipitation2        float64\n",
       "wind                  float64\n",
       "wind1                 float64\n",
       "wind2                 float64\n",
       "zika_cases            float64\n",
       "density_per_km        float64\n",
       "airport_dist_any      float64\n",
       "airport_dist_large    float64\n",
       "mosquito_dist         float64\n",
       "dtype: object"
      ]
     },
     "execution_count": 58,
     "metadata": {},
     "output_type": "execute_result"
    }
   ],
   "source": [
    "model.dtypes"
   ]
  },
  {
   "cell_type": "markdown",
   "metadata": {},
   "source": [
    "There are over 100,000 observations in the data set and about 15,000 of them contain non-zero values (*i.e.* Zika occurrences)."
   ]
  },
  {
   "cell_type": "code",
   "execution_count": 59,
   "metadata": {
    "ExecuteTime": {
     "end_time": "2016-07-28T22:45:24.840125",
     "start_time": "2016-07-28T22:45:24.779180"
    },
    "collapsed": false
   },
   "outputs": [
    {
     "name": "stdout",
     "output_type": "stream",
     "text": [
      "Total entries:  110821 , Non-zero entries:  14858\n",
      "Entries without NaNs:  110719\n"
     ]
    }
   ],
   "source": [
    "print 'Total entries: ', model.shape[0], ', Non-zero entries: ', (model.zika_cases>0).sum()\n",
    "\n",
    "print 'Entries without NaNs: ', model.dropna().shape[0]\n",
    "\n",
    "model = model.dropna()"
   ]
  },
  {
   "cell_type": "markdown",
   "metadata": {},
   "source": [
    "One issue with the Zika data that could use additional attention is the determination of Zika cases. In many situations, the data are provided as per-weekly numbers. However, in others, the values are clearly cummulative. Labels don't make it clear which is the case, so I've decided for now to truncate the data at 5,000 cases per entry."
   ]
  },
  {
   "cell_type": "code",
   "execution_count": 60,
   "metadata": {
    "ExecuteTime": {
     "end_time": "2016-07-28T22:45:26.728971",
     "start_time": "2016-07-28T22:45:26.116587"
    },
    "collapsed": false
   },
   "outputs": [
    {
     "data": {
      "image/png": "[encoded data removed]",
      "text/plain": [
       "<matplotlib.figure.Figure at 0x11fac5fd0>"
      ]
     },
     "metadata": {},
     "output_type": "display_data"
    }
   ],
   "source": [
    "ax = model.zika_cases.hist(bins=100, alpha=0.5)\n",
    "ax.set_ylim(0,100)\n",
    "_ = ax.set(xlabel='Zika Cases per Week', \n",
    "           ylabel='Frequency (Scale Limited to 100)', \n",
    "           title='Histogram of Zika Cases')\n",
    "ax.grid('off')\n",
    "sns.despine()"
   ]
  },
  {
   "cell_type": "code",
   "execution_count": 61,
   "metadata": {
    "ExecuteTime": {
     "end_time": "2016-07-28T22:45:27.271172",
     "start_time": "2016-07-28T22:45:27.245927"
    },
    "collapsed": false
   },
   "outputs": [
    {
     "data": {
      "text/plain": [
       "(110719, 110659)"
      ]
     },
     "execution_count": 61,
     "metadata": {},
     "output_type": "execute_result"
    }
   ],
   "source": [
    "model.shape[0], model.query('zika_cases<=5000').shape[0]"
   ]
  },
  {
   "cell_type": "code",
   "execution_count": 62,
   "metadata": {
    "ExecuteTime": {
     "end_time": "2016-07-28T22:45:28.139598",
     "start_time": "2016-07-28T22:45:28.117445"
    },
    "collapsed": false
   },
   "outputs": [
    {
     "name": "stdout",
     "output_type": "stream",
     "text": [
      "Non-zero entries below 5,000:  14777\n"
     ]
    }
   ],
   "source": [
    "mask = ((model.zika_cases>0) & (model.zika_cases<=5000))\n",
    "print 'Non-zero entries below 5,000: ', mask.sum()\n",
    "model = model.loc[model.zika_cases<=5000]"
   ]
  },
  {
   "cell_type": "markdown",
   "metadata": {},
   "source": [
    "Other input variables are shown below. Weather data (temperature, rain, wind) are present for the current week and timeshifted for the two previous weeks, as the lifespan of a mosquito is approximately two weeks. Population density, proximity to airports (both major and any size) as well as location of the closest *Aedes aegypti* mosquito is included in the input data."
   ]
  },
  {
   "cell_type": "code",
   "execution_count": 63,
   "metadata": {
    "ExecuteTime": {
     "end_time": "2016-07-28T22:45:30.536619",
     "start_time": "2016-07-28T22:45:30.525337"
    },
    "collapsed": false
   },
   "outputs": [
    {
     "data": {
      "text/plain": [
       "max_temp                67.000000\n",
       "max_temp1               70.000000\n",
       "max_temp2               68.000000\n",
       "mean_temp               53.000000\n",
       "mean_temp1              57.000000\n",
       "mean_temp2              56.000000\n",
       "min_temp                38.000000\n",
       "min_temp1               43.000000\n",
       "min_temp2               44.000000\n",
       "dew_point               41.000000\n",
       "dew_point1              50.000000\n",
       "dew_point2              47.000000\n",
       "precipitation            0.000000\n",
       "precipitation1           2.050000\n",
       "precipitation2           2.320000\n",
       "wind                     4.000000\n",
       "wind1                    5.000000\n",
       "wind2                    6.000000\n",
       "zika_cases               0.000000\n",
       "density_per_km        1096.302124\n",
       "airport_dist_any         1.263055\n",
       "airport_dist_large       1.293253\n",
       "mosquito_dist           10.017954\n",
       "Name: 0, dtype: float64"
      ]
     },
     "execution_count": 63,
     "metadata": {},
     "output_type": "execute_result"
    }
   ],
   "source": [
    "model.iloc[0].T"
   ]
  },
  {
   "cell_type": "markdown",
   "metadata": {},
   "source": [
    "## Logistic Regression\n",
    "\n",
    "Logistic regression was performed on the ratio of Zika cases per population. I tried a couple different thresholds for the predictor variable. Given the relatively large number of 'zero' values, I'm currently using any occurrence as the definition of an outbreak. Could explore this more, though I'll likely try to switch to `RandomForestClassifier`."
   ]
  },
  {
   "cell_type": "code",
   "execution_count": 64,
   "metadata": {
    "ExecuteTime": {
     "end_time": "2016-07-28T22:47:33.168739",
     "start_time": "2016-07-28T22:47:32.977876"
    },
    "collapsed": true
   },
   "outputs": [],
   "source": [
    "model['zika_ratio'] = model.zika_cases / model.density_per_km\n",
    "\n",
    "X_cols = [x for x in model.columns if x not in ['zika_cases','zika_bool']]\n",
    "Y_cols = ['zika_bool']"
   ]
  },
  {
   "cell_type": "code",
   "execution_count": 65,
   "metadata": {
    "ExecuteTime": {
     "end_time": "2016-07-28T22:47:33.309685",
     "start_time": "2016-07-28T22:47:33.240970"
    },
    "collapsed": false
   },
   "outputs": [
    {
     "name": "stdout",
     "output_type": "stream",
     "text": [
      "(0, 110659, 14777)\n"
     ]
    }
   ],
   "source": [
    "# thresh = model.zika_ratio.loc[model.zika_ratio>0].quantile(0.02)\n",
    "thresh = 0\n",
    "\n",
    "model['zika_bool'] = 0\n",
    "model.loc[model.zika_ratio>thresh, 'zika_bool'] = 1\n",
    "model['zika_bool'] = model.zika_bool.astype(int)\n",
    "\n",
    "print(thresh, model.shape[0], model.zika_bool.sum())"
   ]
  },
  {
   "cell_type": "markdown",
   "metadata": {},
   "source": [
    "I have some concerns that the above class is a little imbalanced and there are no false positives in the confusion matrix below."
   ]
  },
  {
   "cell_type": "code",
   "execution_count": 66,
   "metadata": {
    "ExecuteTime": {
     "end_time": "2016-07-28T22:47:45.909936",
     "start_time": "2016-07-28T22:47:35.328571"
    },
    "collapsed": false
   },
   "outputs": [],
   "source": [
    "train, test = train_test_split(model, test_size=0.30, random_state=42)\n",
    "\n",
    "Xtrain = normalize(train[X_cols])\n",
    "Xtest = normalize(test[X_cols])\n",
    "\n",
    "# Double check that Y-data needs to be normalized\n",
    "# but I don't think it should hurt the results\n",
    "Ytrain = normalize(train[Y_cols]).ravel()\n",
    "Ytest = normalize(test[Y_cols]).ravel()\n",
    "\n",
    "LR = LogisticRegressionCV(Cs=10, penalty='l2')\n",
    "#LR = LogisticRegressionCV(Cs=10, penalty='l1', solver='liblinear')\n",
    "\n",
    "LR.fit(Xtrain, Ytrain)\n",
    "\n",
    "Ypred = LR.predict(Xtest)"
   ]
  },
  {
   "cell_type": "code",
   "execution_count": 132,
   "metadata": {
    "ExecuteTime": {
     "end_time": "2016-07-28T23:14:31.392270",
     "start_time": "2016-07-28T23:14:31.335661"
    },
    "collapsed": false
   },
   "outputs": [],
   "source": [
    "logistic_cm = confusion_matrix(Ytest, Ypred)\n",
    "logistic_f1 = f1_score(Ytest, Ypred)\n",
    "logistic_accuracy = accuracy_score(Ytest, Ypred)"
   ]
  },
  {
   "cell_type": "code",
   "execution_count": 133,
   "metadata": {
    "ExecuteTime": {
     "end_time": "2016-07-28T23:14:40.262679",
     "start_time": "2016-07-28T23:14:40.254548"
    },
    "collapsed": false
   },
   "outputs": [
    {
     "data": {
      "text/plain": [
       "array([[28699,     0],\n",
       "       [ 2482,  2017]])"
      ]
     },
     "execution_count": 133,
     "metadata": {},
     "output_type": "execute_result"
    }
   ],
   "source": [
    "logistic_cm"
   ]
  },
  {
   "cell_type": "code",
   "execution_count": 134,
   "metadata": {
    "ExecuteTime": {
     "end_time": "2016-07-28T23:14:47.311420",
     "start_time": "2016-07-28T23:14:47.305137"
    },
    "collapsed": false
   },
   "outputs": [
    {
     "data": {
      "text/plain": [
       "0.61909146715776553"
      ]
     },
     "execution_count": 134,
     "metadata": {},
     "output_type": "execute_result"
    }
   ],
   "source": [
    "logistic_f1"
   ]
  },
  {
   "cell_type": "code",
   "execution_count": 135,
   "metadata": {
    "ExecuteTime": {
     "end_time": "2016-07-28T23:14:51.494028",
     "start_time": "2016-07-28T23:14:51.487270"
    },
    "collapsed": false
   },
   "outputs": [
    {
     "data": {
      "text/plain": [
       "0.92523646002771254"
      ]
     },
     "execution_count": 135,
     "metadata": {},
     "output_type": "execute_result"
    }
   ],
   "source": [
    "logistic_accuracy"
   ]
  },
  {
   "cell_type": "markdown",
   "metadata": {},
   "source": [
    "## Random Forest Classifier"
   ]
  },
  {
   "cell_type": "code",
   "execution_count": 125,
   "metadata": {
    "ExecuteTime": {
     "end_time": "2016-07-28T23:11:59.934847",
     "start_time": "2016-07-28T23:11:58.621193"
    },
    "collapsed": false
   },
   "outputs": [
    {
     "name": "stderr",
     "output_type": "stream",
     "text": [
      "[Parallel(n_jobs=-1)]: Done  42 tasks      | elapsed:    0.7s\n",
      "[Parallel(n_jobs=-1)]: Done  50 out of  50 | elapsed:    0.8s finished\n",
      "[Parallel(n_jobs=4)]: Done  42 tasks      | elapsed:    0.0s\n",
      "[Parallel(n_jobs=4)]: Done  50 out of  50 | elapsed:    0.1s finished\n"
     ]
    }
   ],
   "source": [
    "Xtrain = train[X_cols]\n",
    "Xtest = test[X_cols]\n",
    "\n",
    "Ytrain = train[Y_cols]\n",
    "Ytest = test[Y_cols].squeeze()\n",
    "\n",
    "forest = RandomForestClassifier(n_estimators=50, max_depth=3, n_jobs=-1, \n",
    "                                random_state=42, verbose=1)\n",
    "\n",
    "forest.fit(Xtrain, Ytrain.values.ravel())\n",
    "\n",
    "Ypred = forest.predict(Xtest)\n",
    "# Ypred = (forest.oob_decision_function_[:,1]>0.5).astype(int)"
   ]
  },
  {
   "cell_type": "code",
   "execution_count": 126,
   "metadata": {
    "ExecuteTime": {
     "end_time": "2016-07-28T23:12:03.784933",
     "start_time": "2016-07-28T23:12:03.715804"
    },
    "collapsed": false
   },
   "outputs": [
    {
     "data": {
      "text/plain": [
       "array([[28699,     0],\n",
       "       [ 2482,  2017]])"
      ]
     },
     "execution_count": 126,
     "metadata": {},
     "output_type": "execute_result"
    }
   ],
   "source": [
    "confusion_matrix(Ytest, Ypred)"
   ]
  },
  {
   "cell_type": "code",
   "execution_count": 127,
   "metadata": {
    "ExecuteTime": {
     "end_time": "2016-07-28T23:12:14.282501",
     "start_time": "2016-07-28T23:12:14.272121"
    },
    "collapsed": false
   },
   "outputs": [
    {
     "data": {
      "text/plain": [
       "0.72416092464992221"
      ]
     },
     "execution_count": 127,
     "metadata": {},
     "output_type": "execute_result"
    }
   ],
   "source": [
    "# roc_auc_score(Ytest, Ypred)"
   ]
  },
  {
   "cell_type": "code",
   "execution_count": 144,
   "metadata": {
    "ExecuteTime": {
     "end_time": "2016-07-28T23:59:57.200215",
     "start_time": "2016-07-28T23:59:57.187519"
    },
    "collapsed": false
   },
   "outputs": [],
   "source": [
    "# xdata, ydata, _ = roc_curve(Ytest, Ypred)\n",
    "# roc_auc = auc(xdata, ydata)"
   ]
  }
 ],
 "metadata": {
  "kernelspec": {
   "display_name": "Python 2",
   "language": "python",
   "name": "python2"
  },
  "language_info": {
   "codemirror_mode": {
    "name": "ipython",
    "version": 2
   },
   "file_extension": ".py",
   "mimetype": "text/x-python",
   "name": "python",
   "nbconvert_exporter": "python",
   "pygments_lexer": "ipython2",
   "version": "2.7.12"
  }
 },
 "nbformat": 4,
 "nbformat_minor": 0
}
