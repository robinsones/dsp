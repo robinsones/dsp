{
 "cells": [
  {
   "cell_type": "markdown",
   "metadata": {
    "collapsed": true
   },
   "source": [
    "## Gameroff _ McNulty MVP (NAMCS Data Project)\n"
   ]
  },
  {
   "cell_type": "code",
   "execution_count": 596,
   "metadata": {
    "collapsed": true
   },
   "outputs": [],
   "source": [
    "import numpy as np\n",
    "import pandas as pd\n",
    "import matplotlib.pyplot as plt\n",
    "from patsy import dmatrices\n",
    "from sklearn.linear_model import LinearRegression\n",
    "%matplotlib inline"
   ]
  },
  {
   "cell_type": "markdown",
   "metadata": {},
   "source": [
    "# Note:\n",
    "\n",
    "**Dataset**: National Ambulatory Medical Care Survey (2012 data file)\n",
    "\n",
    "**Label**: Intentional (vs. unintentional) physical injury to self\n",
    "\n",
    "**Features considered:** age, sex, race/ethnicity, private insurance (rough proxy for SES), current tobacco use, total number of chronic medical conditions.\n",
    "\n",
    "**Issues and Strategy**: Intentionality is relatively rare. Classes are extremely unbalanced (43:1).\n",
    "As a first strategy, model with logistic regression, attempt to make classes more balanced by undersampling the majority class and oversampling the minority class. Training/testing data ratio: 75%/25%. (Later refinements will include more sophisticated oversampling method [SMOTE], using other ML methods [e.g., SVM], considering polynomials and/or interactions among features, etc.)\n",
    "\n",
    "## Included in this notebook:\n",
    "- Selected cells showing some of my work\n",
    "- _**AT THE VERY BOTTOM OF THIS NOTEBOOK**_ are graphs showing score, recall, and prediction values at different weight settings for the minority class (weights of 1.0, 2.0, 5.0, and 10.0). These weights are probably too high. Further work with other estimators will attempt to keep them between 1.0 and 2.0.\n",
    "    - There are 10 graphs, for every combination of penalty type (L1 vs, L2) and selected values of C (0.001, 0.01, 1, 10, 100)\n"
   ]
  },
  {
   "cell_type": "code",
   "execution_count": 599,
   "metadata": {
    "collapsed": false
   },
   "outputs": [
    {
     "data": {
      "text/plain": [
       "-9    73791\n",
       " 1     2475\n",
       " 2       57\n",
       "-8        7\n",
       "Name: INTENT, dtype: int64"
      ]
     },
     "execution_count": 599,
     "metadata": {},
     "output_type": "execute_result"
    }
   ],
   "source": [
    "df.INTENT.value_counts()"
   ]
  },
  {
   "cell_type": "code",
   "execution_count": 614,
   "metadata": {
    "collapsed": false
   },
   "outputs": [],
   "source": [
    "from patsy import dmatrices\n",
    "y, X = dmatrices('intent ~ age + sex + totchron + priv_insurance + curtobac + C(RACERETH)', \\\n",
    "                 data=df2, return_type = 'dataframe')"
   ]
  },
  {
   "cell_type": "code",
   "execution_count": 615,
   "metadata": {
    "collapsed": false
   },
   "outputs": [
    {
     "data": {
      "text/html": [
       "<div>\n",
       "<table border=\"1\" class=\"dataframe\">\n",
       "  <thead>\n",
       "    <tr style=\"text-align: right;\">\n",
       "      <th></th>\n",
       "      <th>Intercept</th>\n",
       "      <th>C(RACERETH)[T.2.0]</th>\n",
       "      <th>C(RACERETH)[T.3.0]</th>\n",
       "      <th>C(RACERETH)[T.4.0]</th>\n",
       "      <th>age</th>\n",
       "      <th>sex</th>\n",
       "      <th>totchron</th>\n",
       "      <th>priv_insurance</th>\n",
       "      <th>curtobac</th>\n",
       "    </tr>\n",
       "  </thead>\n",
       "  <tbody>\n",
       "    <tr>\n",
       "      <th>0</th>\n",
       "      <td>1</td>\n",
       "      <td>0</td>\n",
       "      <td>0</td>\n",
       "      <td>0</td>\n",
       "      <td>80</td>\n",
       "      <td>0</td>\n",
       "      <td>2</td>\n",
       "      <td>0</td>\n",
       "      <td>0</td>\n",
       "    </tr>\n",
       "    <tr>\n",
       "      <th>1</th>\n",
       "      <td>1</td>\n",
       "      <td>0</td>\n",
       "      <td>0</td>\n",
       "      <td>0</td>\n",
       "      <td>70</td>\n",
       "      <td>1</td>\n",
       "      <td>1</td>\n",
       "      <td>0</td>\n",
       "      <td>0</td>\n",
       "    </tr>\n",
       "    <tr>\n",
       "      <th>2</th>\n",
       "      <td>1</td>\n",
       "      <td>1</td>\n",
       "      <td>0</td>\n",
       "      <td>0</td>\n",
       "      <td>14</td>\n",
       "      <td>0</td>\n",
       "      <td>0</td>\n",
       "      <td>1</td>\n",
       "      <td>0</td>\n",
       "    </tr>\n",
       "    <tr>\n",
       "      <th>3</th>\n",
       "      <td>1</td>\n",
       "      <td>0</td>\n",
       "      <td>1</td>\n",
       "      <td>0</td>\n",
       "      <td>12</td>\n",
       "      <td>1</td>\n",
       "      <td>0</td>\n",
       "      <td>1</td>\n",
       "      <td>0</td>\n",
       "    </tr>\n",
       "    <tr>\n",
       "      <th>4</th>\n",
       "      <td>1</td>\n",
       "      <td>0</td>\n",
       "      <td>0</td>\n",
       "      <td>0</td>\n",
       "      <td>30</td>\n",
       "      <td>0</td>\n",
       "      <td>0</td>\n",
       "      <td>0</td>\n",
       "      <td>0</td>\n",
       "    </tr>\n",
       "  </tbody>\n",
       "</table>\n",
       "</div>"
      ],
      "text/plain": [
       "   Intercept  C(RACERETH)[T.2.0]  C(RACERETH)[T.3.0]  C(RACERETH)[T.4.0]  age  \\\n",
       "0          1                   0                   0                   0   80   \n",
       "1          1                   0                   0                   0   70   \n",
       "2          1                   1                   0                   0   14   \n",
       "3          1                   0                   1                   0   12   \n",
       "4          1                   0                   0                   0   30   \n",
       "\n",
       "   sex  totchron  priv_insurance  curtobac  \n",
       "0    0         2               0         0  \n",
       "1    1         1               0         0  \n",
       "2    0         0               1         0  \n",
       "3    1         0               1         0  \n",
       "4    0         0               0         0  "
      ]
     },
     "execution_count": 615,
     "metadata": {},
     "output_type": "execute_result"
    }
   ],
   "source": [
    "X.head()"
   ]
  },
  {
   "cell_type": "code",
   "execution_count": 616,
   "metadata": {
    "collapsed": false
   },
   "outputs": [
    {
     "data": {
      "text/html": [
       "<div>\n",
       "<table border=\"1\" class=\"dataframe\">\n",
       "  <thead>\n",
       "    <tr style=\"text-align: right;\">\n",
       "      <th></th>\n",
       "      <th>intent</th>\n",
       "    </tr>\n",
       "  </thead>\n",
       "  <tbody>\n",
       "    <tr>\n",
       "      <th>0</th>\n",
       "      <td>0</td>\n",
       "    </tr>\n",
       "    <tr>\n",
       "      <th>1</th>\n",
       "      <td>0</td>\n",
       "    </tr>\n",
       "    <tr>\n",
       "      <th>2</th>\n",
       "      <td>0</td>\n",
       "    </tr>\n",
       "    <tr>\n",
       "      <th>3</th>\n",
       "      <td>0</td>\n",
       "    </tr>\n",
       "    <tr>\n",
       "      <th>4</th>\n",
       "      <td>0</td>\n",
       "    </tr>\n",
       "  </tbody>\n",
       "</table>\n",
       "</div>"
      ],
      "text/plain": [
       "   intent\n",
       "0       0\n",
       "1       0\n",
       "2       0\n",
       "3       0\n",
       "4       0"
      ]
     },
     "execution_count": 616,
     "metadata": {},
     "output_type": "execute_result"
    }
   ],
   "source": [
    "y.head()"
   ]
  },
  {
   "cell_type": "code",
   "execution_count": 618,
   "metadata": {
    "collapsed": true
   },
   "outputs": [],
   "source": [
    "from sklearn.cross_validation import train_test_split\n",
    "X_train, X_test, y_train, y_test = \\\n",
    "    train_test_split(X, y, stratify=y, test_size=0.25, random_state=42)"
   ]
  },
  {
   "cell_type": "code",
   "execution_count": 619,
   "metadata": {
    "collapsed": false
   },
   "outputs": [
    {
     "name": "stdout",
     "output_type": "stream",
     "text": [
      "(1899, 9)\n",
      "(1899, 1)\n",
      "(633, 9)\n",
      "(633, 1)\n"
     ]
    }
   ],
   "source": [
    "print(X_train.shape)\n",
    "print(y_train.shape)\n",
    "print(X_test.shape)\n",
    "print(y_test.shape)"
   ]
  },
  {
   "cell_type": "code",
   "execution_count": 620,
   "metadata": {
    "collapsed": true
   },
   "outputs": [],
   "source": [
    "X_train = X_train.replace(-6, -9)\n",
    "X_train = X_train.replace(-7, -9)\n",
    "X_train = X_train.replace(-8, -9)\n",
    "X_train = X_train.replace(-9, -9)\n",
    "\n",
    "X_test = X_test.replace(-6, -9)\n",
    "X_test = X_test.replace(-7, -9)\n",
    "X_test = X_test.replace(-8, -9)\n",
    "X_test = X_test.replace(-9, -9)"
   ]
  },
  {
   "cell_type": "code",
   "execution_count": 621,
   "metadata": {
    "collapsed": false
   },
   "outputs": [
    {
     "data": {
      "text/plain": [
       "Imputer(axis=0, copy=True, missing_values=-9, strategy='median', verbose=1)"
      ]
     },
     "execution_count": 621,
     "metadata": {},
     "output_type": "execute_result"
    }
   ],
   "source": [
    "from sklearn.preprocessing import Imputer\n",
    "imp = Imputer(missing_values=-9, strategy='median', axis=0, verbose=1)\n",
    "imp.fit(X_train)"
   ]
  },
  {
   "cell_type": "code",
   "execution_count": 622,
   "metadata": {
    "collapsed": true
   },
   "outputs": [],
   "source": [
    "X_train_imputed = pd.DataFrame(imp.transform(X_train))"
   ]
  },
  {
   "cell_type": "code",
   "execution_count": 623,
   "metadata": {
    "collapsed": true
   },
   "outputs": [],
   "source": [
    "X_test_imputed = pd.DataFrame(imp.transform(X_test))"
   ]
  },
  {
   "cell_type": "code",
   "execution_count": 624,
   "metadata": {
    "collapsed": false
   },
   "outputs": [
    {
     "name": "stdout",
     "output_type": "stream",
     "text": [
      "(1899, 9)\n",
      "(633, 9)\n",
      "(1899, 1)\n",
      "(633, 1)\n"
     ]
    }
   ],
   "source": [
    "print(X_train_imputed.shape)\n",
    "print(X_test_imputed.shape)\n",
    "print(y_train.shape)\n",
    "print(y_test.shape)"
   ]
  },
  {
   "cell_type": "code",
   "execution_count": 625,
   "metadata": {
    "collapsed": true
   },
   "outputs": [],
   "source": [
    "X_train_imputed.rename(columns={0: 'Intercept', 1:'C(RACERETH)[T.2.0]', \\\n",
    "          2: 'C(RACERETH)[T.3.0]',  3 : 'C(RACERETH)[T.4.0]', \\\n",
    "          4: 'age',   5: 'sex',  6: 'totchron', \\\n",
    "          7: 'priv_insurance', 8: 'curtobac'}, inplace=True)\n",
    "X_test_imputed.rename(columns={0: 'Intercept', 1:'C(RACERETH)[T.2.0]', \\\n",
    "          2: 'C(RACERETH)[T.3.0]',  3 : 'C(RACERETH)[T.4.0]', \\\n",
    "          4: 'age',   5: 'sex',  6: 'totchron', \\\n",
    "          7: 'priv_insurance', 8: 'curtobac'}, inplace=True)"
   ]
  },
  {
   "cell_type": "code",
   "execution_count": 626,
   "metadata": {
    "collapsed": false
   },
   "outputs": [
    {
     "data": {
      "text/html": [
       "<div>\n",
       "<table border=\"1\" class=\"dataframe\">\n",
       "  <thead>\n",
       "    <tr style=\"text-align: right;\">\n",
       "      <th></th>\n",
       "      <th>Intercept</th>\n",
       "      <th>C(RACERETH)[T.2.0]</th>\n",
       "      <th>C(RACERETH)[T.3.0]</th>\n",
       "      <th>C(RACERETH)[T.4.0]</th>\n",
       "      <th>age</th>\n",
       "      <th>sex</th>\n",
       "      <th>totchron</th>\n",
       "      <th>priv_insurance</th>\n",
       "      <th>curtobac</th>\n",
       "    </tr>\n",
       "  </thead>\n",
       "  <tbody>\n",
       "    <tr>\n",
       "      <th>0</th>\n",
       "      <td>1</td>\n",
       "      <td>0</td>\n",
       "      <td>1</td>\n",
       "      <td>0</td>\n",
       "      <td>21</td>\n",
       "      <td>0</td>\n",
       "      <td>0</td>\n",
       "      <td>1</td>\n",
       "      <td>0</td>\n",
       "    </tr>\n",
       "    <tr>\n",
       "      <th>1</th>\n",
       "      <td>1</td>\n",
       "      <td>0</td>\n",
       "      <td>0</td>\n",
       "      <td>0</td>\n",
       "      <td>78</td>\n",
       "      <td>0</td>\n",
       "      <td>4</td>\n",
       "      <td>0</td>\n",
       "      <td>0</td>\n",
       "    </tr>\n",
       "    <tr>\n",
       "      <th>2</th>\n",
       "      <td>1</td>\n",
       "      <td>0</td>\n",
       "      <td>0</td>\n",
       "      <td>0</td>\n",
       "      <td>32</td>\n",
       "      <td>0</td>\n",
       "      <td>0</td>\n",
       "      <td>1</td>\n",
       "      <td>0</td>\n",
       "    </tr>\n",
       "    <tr>\n",
       "      <th>3</th>\n",
       "      <td>1</td>\n",
       "      <td>0</td>\n",
       "      <td>0</td>\n",
       "      <td>0</td>\n",
       "      <td>52</td>\n",
       "      <td>1</td>\n",
       "      <td>0</td>\n",
       "      <td>1</td>\n",
       "      <td>0</td>\n",
       "    </tr>\n",
       "    <tr>\n",
       "      <th>4</th>\n",
       "      <td>1</td>\n",
       "      <td>0</td>\n",
       "      <td>1</td>\n",
       "      <td>0</td>\n",
       "      <td>53</td>\n",
       "      <td>1</td>\n",
       "      <td>0</td>\n",
       "      <td>0</td>\n",
       "      <td>0</td>\n",
       "    </tr>\n",
       "  </tbody>\n",
       "</table>\n",
       "</div>"
      ],
      "text/plain": [
       "   Intercept  C(RACERETH)[T.2.0]  C(RACERETH)[T.3.0]  C(RACERETH)[T.4.0]  age  \\\n",
       "0          1                   0                   1                   0   21   \n",
       "1          1                   0                   0                   0   78   \n",
       "2          1                   0                   0                   0   32   \n",
       "3          1                   0                   0                   0   52   \n",
       "4          1                   0                   1                   0   53   \n",
       "\n",
       "   sex  totchron  priv_insurance  curtobac  \n",
       "0    0         0               1         0  \n",
       "1    0         4               0         0  \n",
       "2    0         0               1         0  \n",
       "3    1         0               1         0  \n",
       "4    1         0               0         0  "
      ]
     },
     "execution_count": 626,
     "metadata": {},
     "output_type": "execute_result"
    }
   ],
   "source": [
    "X_train_imputed.head()"
   ]
  },
  {
   "cell_type": "code",
   "execution_count": 627,
   "metadata": {
    "collapsed": false
   },
   "outputs": [
    {
     "data": {
      "text/html": [
       "<div>\n",
       "<table border=\"1\" class=\"dataframe\">\n",
       "  <thead>\n",
       "    <tr style=\"text-align: right;\">\n",
       "      <th></th>\n",
       "      <th>Intercept</th>\n",
       "      <th>C(RACERETH)[T.2.0]</th>\n",
       "      <th>C(RACERETH)[T.3.0]</th>\n",
       "      <th>C(RACERETH)[T.4.0]</th>\n",
       "      <th>age</th>\n",
       "      <th>sex</th>\n",
       "      <th>totchron</th>\n",
       "      <th>priv_insurance</th>\n",
       "      <th>curtobac</th>\n",
       "    </tr>\n",
       "  </thead>\n",
       "  <tbody>\n",
       "    <tr>\n",
       "      <th>0</th>\n",
       "      <td>1</td>\n",
       "      <td>0</td>\n",
       "      <td>0</td>\n",
       "      <td>0</td>\n",
       "      <td>56</td>\n",
       "      <td>1</td>\n",
       "      <td>1</td>\n",
       "      <td>0</td>\n",
       "      <td>0</td>\n",
       "    </tr>\n",
       "    <tr>\n",
       "      <th>1</th>\n",
       "      <td>1</td>\n",
       "      <td>0</td>\n",
       "      <td>1</td>\n",
       "      <td>0</td>\n",
       "      <td>45</td>\n",
       "      <td>0</td>\n",
       "      <td>1</td>\n",
       "      <td>1</td>\n",
       "      <td>0</td>\n",
       "    </tr>\n",
       "    <tr>\n",
       "      <th>2</th>\n",
       "      <td>1</td>\n",
       "      <td>0</td>\n",
       "      <td>0</td>\n",
       "      <td>0</td>\n",
       "      <td>33</td>\n",
       "      <td>1</td>\n",
       "      <td>0</td>\n",
       "      <td>1</td>\n",
       "      <td>0</td>\n",
       "    </tr>\n",
       "    <tr>\n",
       "      <th>3</th>\n",
       "      <td>1</td>\n",
       "      <td>0</td>\n",
       "      <td>0</td>\n",
       "      <td>0</td>\n",
       "      <td>56</td>\n",
       "      <td>0</td>\n",
       "      <td>1</td>\n",
       "      <td>0</td>\n",
       "      <td>0</td>\n",
       "    </tr>\n",
       "    <tr>\n",
       "      <th>4</th>\n",
       "      <td>1</td>\n",
       "      <td>0</td>\n",
       "      <td>0</td>\n",
       "      <td>0</td>\n",
       "      <td>20</td>\n",
       "      <td>0</td>\n",
       "      <td>0</td>\n",
       "      <td>1</td>\n",
       "      <td>0</td>\n",
       "    </tr>\n",
       "  </tbody>\n",
       "</table>\n",
       "</div>"
      ],
      "text/plain": [
       "   Intercept  C(RACERETH)[T.2.0]  C(RACERETH)[T.3.0]  C(RACERETH)[T.4.0]  age  \\\n",
       "0          1                   0                   0                   0   56   \n",
       "1          1                   0                   1                   0   45   \n",
       "2          1                   0                   0                   0   33   \n",
       "3          1                   0                   0                   0   56   \n",
       "4          1                   0                   0                   0   20   \n",
       "\n",
       "   sex  totchron  priv_insurance  curtobac  \n",
       "0    1         1               0         0  \n",
       "1    0         1               1         0  \n",
       "2    1         0               1         0  \n",
       "3    0         1               0         0  \n",
       "4    0         0               1         0  "
      ]
     },
     "execution_count": 627,
     "metadata": {},
     "output_type": "execute_result"
    }
   ],
   "source": [
    "X_test_imputed.head()"
   ]
  },
  {
   "cell_type": "code",
   "execution_count": 628,
   "metadata": {
    "collapsed": false
   },
   "outputs": [
    {
     "name": "stdout",
     "output_type": "stream",
     "text": [
      "Age:  [ 21.  78.  32.  52.  53.  29.  28.  92.  67.  14.  48.  63.  26.  46.  34.\n",
      "  16.  57.  85.  47.  65.  18.  12.  36.  51.  61.  45.  68.  42.  15.  55.\n",
      "  60.  87.  54.   9.  24.  30.  31.  56.   8.  19.  10.  20.   2.  13.  38.\n",
      "  11.  62.  37.  41.   3.  69.  33.   7.  72.  79.   5.  59.  22.  39.  44.\n",
      "  70.  35.  71.  50.  25.  81.  40.  90.  49.  27.  58.  73.  17.  75.   4.\n",
      "   6.  23.  76.  80.  82.  74.  86.  43.   1.  84.   0.  77.  64.  89.  66.\n",
      "  88.  91.  83.]\n",
      "Sex:  [ 0.  1.]\n",
      "No. of chronic disorders:  [  0.   4.   2.   1.   3.   5.   6.  10.   7.]\n",
      "Private insurance  [ 1.  0.]\n",
      "Current tobacco:  [ 0.  1.]\n",
      "RACERETH 1:  [ 0.  1.]\n",
      "RACERETH 2:  [ 0.  1.]\n",
      "RACERETH 3:  [ 0.  1.]\n"
     ]
    }
   ],
   "source": [
    "#print ('Intent: ', X_train_imputed['intent'].unique())\n",
    "print ('Age: ', X_train_imputed['age'].unique())\n",
    "print ('Sex: ', X_train_imputed['sex'].unique())\n",
    "print ('No. of chronic disorders: ', X_train_imputed['totchron'].unique())\n",
    "print ('Private insurance ', X_train_imputed['priv_insurance'].unique())\n",
    "print ('Current tobacco: ', X_train_imputed['curtobac'].unique())\n",
    "\n",
    "print ('RACERETH 1: ', X_train_imputed['C(RACERETH)[T.2.0]'].unique())\n",
    "print ('RACERETH 2: ', X_train_imputed['C(RACERETH)[T.2.0]'].unique())\n",
    "print ('RACERETH 3: ', X_train_imputed['C(RACERETH)[T.2.0]'].unique())"
   ]
  },
  {
   "cell_type": "code",
   "execution_count": 629,
   "metadata": {
    "collapsed": false
   },
   "outputs": [
    {
     "name": "stdout",
     "output_type": "stream",
     "text": [
      "Age:  [ 56.  45.  33.  20.  38.  29.  67.  49.  15.  53.  58.  78.  36.  62.  59.\n",
      "  48.  35.  44.  13.  69.   6.  43.  17.  21.   4.   0.  81.  64.  24.  87.\n",
      "  11.  63.   8.  32.  47.  46.  54.  30.   2.   5.  25.  39.  41.  14.  86.\n",
      "  61.  50.   9.  12.  66.  65.   3.  16.  75.  71.  10.  55.  85.   7.  37.\n",
      "  76.  26.  51.  73.  40.  52.  22.  19.  57.  80.  42.  28.  18.   1.  34.\n",
      "  83.  23.  68.  82.  72.  27.  77.  70.  60.  92.  74.  79.  31.]\n",
      "Sex:  [ 1.  0.]\n",
      "No. of chronic disorders:  [ 1.  0.  2.  3.  4.  5.  8.  6.  7.]\n",
      "Private insurance  [ 0.  1.]\n",
      "Current tobacco:  [ 0.  1.]\n",
      "RACERETH 1:  [ 0.  1.]\n",
      "RACERETH 2:  [ 0.  1.]\n",
      "RACERETH 3:  [ 0.  1.]\n"
     ]
    }
   ],
   "source": [
    "#print ('Intent: ', X_train_imputed['intent'].unique())\n",
    "print ('Age: ', X_test_imputed['age'].unique())\n",
    "print ('Sex: ', X_test_imputed['sex'].unique())\n",
    "print ('No. of chronic disorders: ', X_test_imputed['totchron'].unique())\n",
    "print ('Private insurance ', X_test_imputed['priv_insurance'].unique())\n",
    "print ('Current tobacco: ', X_test_imputed['curtobac'].unique())\n",
    "\n",
    "print ('RACERETH 1: ', X_test_imputed['C(RACERETH)[T.2.0]'].unique())\n",
    "print ('RACERETH 2: ', X_test_imputed['C(RACERETH)[T.2.0]'].unique())\n",
    "print ('RACERETH 3: ', X_test_imputed['C(RACERETH)[T.2.0]'].unique())\n"
   ]
  },
  {
   "cell_type": "code",
   "execution_count": 1034,
   "metadata": {
    "collapsed": false
   },
   "outputs": [
    {
     "name": "stdout",
     "output_type": "stream",
     "text": [
      "<class 'pandas.core.frame.DataFrame'>\n",
      "Int64Index: 40 entries, 27 to 21\n",
      "Data columns (total 7 columns):\n",
      "penalty        40 non-null object\n",
      "C              40 non-null float64\n",
      "majority_wt    40 non-null float64\n",
      "minority_wt    40 non-null float64\n",
      "score          40 non-null float64\n",
      "recall         40 non-null float64\n",
      "predict        40 non-null float64\n",
      "dtypes: float64(6), object(1)\n",
      "memory usage: 2.5+ KB\n"
     ]
    },
    {
     "data": {
      "text/html": [
       "<div>\n",
       "<table border=\"1\" class=\"dataframe\">\n",
       "  <thead>\n",
       "    <tr style=\"text-align: right;\">\n",
       "      <th></th>\n",
       "      <th>penalty</th>\n",
       "      <th>C</th>\n",
       "      <th>majority_wt</th>\n",
       "      <th>minority_wt</th>\n",
       "      <th>score</th>\n",
       "      <th>recall</th>\n",
       "      <th>predict</th>\n",
       "    </tr>\n",
       "  </thead>\n",
       "  <tbody>\n",
       "    <tr>\n",
       "      <th>27</th>\n",
       "      <td>L1</td>\n",
       "      <td>0.001</td>\n",
       "      <td>0.2</td>\n",
       "      <td>1</td>\n",
       "      <td>0.977883</td>\n",
       "      <td>0.000000</td>\n",
       "      <td>0.000000</td>\n",
       "    </tr>\n",
       "    <tr>\n",
       "      <th>6</th>\n",
       "      <td>L1</td>\n",
       "      <td>0.001</td>\n",
       "      <td>0.2</td>\n",
       "      <td>2</td>\n",
       "      <td>0.977883</td>\n",
       "      <td>0.000000</td>\n",
       "      <td>0.000000</td>\n",
       "    </tr>\n",
       "    <tr>\n",
       "      <th>16</th>\n",
       "      <td>L1</td>\n",
       "      <td>0.001</td>\n",
       "      <td>0.2</td>\n",
       "      <td>5</td>\n",
       "      <td>0.977883</td>\n",
       "      <td>0.000000</td>\n",
       "      <td>0.000000</td>\n",
       "    </tr>\n",
       "    <tr>\n",
       "      <th>3</th>\n",
       "      <td>L1</td>\n",
       "      <td>0.001</td>\n",
       "      <td>0.2</td>\n",
       "      <td>10</td>\n",
       "      <td>0.977883</td>\n",
       "      <td>0.000000</td>\n",
       "      <td>0.000000</td>\n",
       "    </tr>\n",
       "    <tr>\n",
       "      <th>31</th>\n",
       "      <td>L1</td>\n",
       "      <td>0.010</td>\n",
       "      <td>0.2</td>\n",
       "      <td>1</td>\n",
       "      <td>0.977883</td>\n",
       "      <td>0.000000</td>\n",
       "      <td>0.000000</td>\n",
       "    </tr>\n",
       "    <tr>\n",
       "      <th>7</th>\n",
       "      <td>L1</td>\n",
       "      <td>0.010</td>\n",
       "      <td>0.2</td>\n",
       "      <td>2</td>\n",
       "      <td>0.977883</td>\n",
       "      <td>0.000000</td>\n",
       "      <td>0.000000</td>\n",
       "    </tr>\n",
       "    <tr>\n",
       "      <th>34</th>\n",
       "      <td>L1</td>\n",
       "      <td>0.010</td>\n",
       "      <td>0.2</td>\n",
       "      <td>5</td>\n",
       "      <td>0.977883</td>\n",
       "      <td>0.000000</td>\n",
       "      <td>0.000000</td>\n",
       "    </tr>\n",
       "    <tr>\n",
       "      <th>15</th>\n",
       "      <td>L1</td>\n",
       "      <td>0.010</td>\n",
       "      <td>0.2</td>\n",
       "      <td>10</td>\n",
       "      <td>0.977883</td>\n",
       "      <td>0.000000</td>\n",
       "      <td>0.000000</td>\n",
       "    </tr>\n",
       "    <tr>\n",
       "      <th>39</th>\n",
       "      <td>L1</td>\n",
       "      <td>1.000</td>\n",
       "      <td>0.2</td>\n",
       "      <td>1</td>\n",
       "      <td>0.971564</td>\n",
       "      <td>0.000000</td>\n",
       "      <td>0.000000</td>\n",
       "    </tr>\n",
       "    <tr>\n",
       "      <th>2</th>\n",
       "      <td>L1</td>\n",
       "      <td>1.000</td>\n",
       "      <td>0.2</td>\n",
       "      <td>2</td>\n",
       "      <td>0.941548</td>\n",
       "      <td>0.142857</td>\n",
       "      <td>0.074074</td>\n",
       "    </tr>\n",
       "    <tr>\n",
       "      <th>30</th>\n",
       "      <td>L1</td>\n",
       "      <td>1.000</td>\n",
       "      <td>0.2</td>\n",
       "      <td>5</td>\n",
       "      <td>0.819905</td>\n",
       "      <td>0.714286</td>\n",
       "      <td>0.083333</td>\n",
       "    </tr>\n",
       "    <tr>\n",
       "      <th>35</th>\n",
       "      <td>L1</td>\n",
       "      <td>1.000</td>\n",
       "      <td>0.2</td>\n",
       "      <td>10</td>\n",
       "      <td>0.630332</td>\n",
       "      <td>0.928571</td>\n",
       "      <td>0.052846</td>\n",
       "    </tr>\n",
       "    <tr>\n",
       "      <th>18</th>\n",
       "      <td>L1</td>\n",
       "      <td>10.000</td>\n",
       "      <td>0.2</td>\n",
       "      <td>1</td>\n",
       "      <td>0.969984</td>\n",
       "      <td>0.000000</td>\n",
       "      <td>0.000000</td>\n",
       "    </tr>\n",
       "    <tr>\n",
       "      <th>19</th>\n",
       "      <td>L1</td>\n",
       "      <td>10.000</td>\n",
       "      <td>0.2</td>\n",
       "      <td>2</td>\n",
       "      <td>0.930490</td>\n",
       "      <td>0.142857</td>\n",
       "      <td>0.058824</td>\n",
       "    </tr>\n",
       "    <tr>\n",
       "      <th>8</th>\n",
       "      <td>L1</td>\n",
       "      <td>10.000</td>\n",
       "      <td>0.2</td>\n",
       "      <td>5</td>\n",
       "      <td>0.816746</td>\n",
       "      <td>0.785714</td>\n",
       "      <td>0.088710</td>\n",
       "    </tr>\n",
       "    <tr>\n",
       "      <th>24</th>\n",
       "      <td>L1</td>\n",
       "      <td>10.000</td>\n",
       "      <td>0.2</td>\n",
       "      <td>10</td>\n",
       "      <td>0.631912</td>\n",
       "      <td>0.928571</td>\n",
       "      <td>0.053061</td>\n",
       "    </tr>\n",
       "    <tr>\n",
       "      <th>25</th>\n",
       "      <td>L1</td>\n",
       "      <td>100.000</td>\n",
       "      <td>0.2</td>\n",
       "      <td>1</td>\n",
       "      <td>0.968404</td>\n",
       "      <td>0.000000</td>\n",
       "      <td>0.000000</td>\n",
       "    </tr>\n",
       "    <tr>\n",
       "      <th>11</th>\n",
       "      <td>L1</td>\n",
       "      <td>100.000</td>\n",
       "      <td>0.2</td>\n",
       "      <td>2</td>\n",
       "      <td>0.930490</td>\n",
       "      <td>0.214286</td>\n",
       "      <td>0.083333</td>\n",
       "    </tr>\n",
       "    <tr>\n",
       "      <th>33</th>\n",
       "      <td>L1</td>\n",
       "      <td>100.000</td>\n",
       "      <td>0.2</td>\n",
       "      <td>5</td>\n",
       "      <td>0.816746</td>\n",
       "      <td>0.785714</td>\n",
       "      <td>0.088710</td>\n",
       "    </tr>\n",
       "    <tr>\n",
       "      <th>37</th>\n",
       "      <td>L1</td>\n",
       "      <td>100.000</td>\n",
       "      <td>0.2</td>\n",
       "      <td>10</td>\n",
       "      <td>0.631912</td>\n",
       "      <td>0.928571</td>\n",
       "      <td>0.053061</td>\n",
       "    </tr>\n",
       "    <tr>\n",
       "      <th>5</th>\n",
       "      <td>L2</td>\n",
       "      <td>0.001</td>\n",
       "      <td>0.2</td>\n",
       "      <td>1</td>\n",
       "      <td>0.977883</td>\n",
       "      <td>0.000000</td>\n",
       "      <td>0.000000</td>\n",
       "    </tr>\n",
       "    <tr>\n",
       "      <th>28</th>\n",
       "      <td>L2</td>\n",
       "      <td>0.001</td>\n",
       "      <td>0.2</td>\n",
       "      <td>2</td>\n",
       "      <td>0.977883</td>\n",
       "      <td>0.000000</td>\n",
       "      <td>0.000000</td>\n",
       "    </tr>\n",
       "    <tr>\n",
       "      <th>38</th>\n",
       "      <td>L2</td>\n",
       "      <td>0.001</td>\n",
       "      <td>0.2</td>\n",
       "      <td>5</td>\n",
       "      <td>0.960506</td>\n",
       "      <td>0.071429</td>\n",
       "      <td>0.076923</td>\n",
       "    </tr>\n",
       "    <tr>\n",
       "      <th>13</th>\n",
       "      <td>L2</td>\n",
       "      <td>0.001</td>\n",
       "      <td>0.2</td>\n",
       "      <td>10</td>\n",
       "      <td>0.854660</td>\n",
       "      <td>0.428571</td>\n",
       "      <td>0.066667</td>\n",
       "    </tr>\n",
       "    <tr>\n",
       "      <th>9</th>\n",
       "      <td>L2</td>\n",
       "      <td>0.010</td>\n",
       "      <td>0.2</td>\n",
       "      <td>1</td>\n",
       "      <td>0.977883</td>\n",
       "      <td>0.000000</td>\n",
       "      <td>0.000000</td>\n",
       "    </tr>\n",
       "    <tr>\n",
       "      <th>29</th>\n",
       "      <td>L2</td>\n",
       "      <td>0.010</td>\n",
       "      <td>0.2</td>\n",
       "      <td>2</td>\n",
       "      <td>0.977883</td>\n",
       "      <td>0.000000</td>\n",
       "      <td>0.000000</td>\n",
       "    </tr>\n",
       "    <tr>\n",
       "      <th>26</th>\n",
       "      <td>L2</td>\n",
       "      <td>0.010</td>\n",
       "      <td>0.2</td>\n",
       "      <td>5</td>\n",
       "      <td>0.900474</td>\n",
       "      <td>0.214286</td>\n",
       "      <td>0.054545</td>\n",
       "    </tr>\n",
       "    <tr>\n",
       "      <th>36</th>\n",
       "      <td>L2</td>\n",
       "      <td>0.010</td>\n",
       "      <td>0.2</td>\n",
       "      <td>10</td>\n",
       "      <td>0.665087</td>\n",
       "      <td>0.857143</td>\n",
       "      <td>0.054054</td>\n",
       "    </tr>\n",
       "    <tr>\n",
       "      <th>17</th>\n",
       "      <td>L2</td>\n",
       "      <td>1.000</td>\n",
       "      <td>0.2</td>\n",
       "      <td>1</td>\n",
       "      <td>0.971564</td>\n",
       "      <td>0.000000</td>\n",
       "      <td>0.000000</td>\n",
       "    </tr>\n",
       "    <tr>\n",
       "      <th>20</th>\n",
       "      <td>L2</td>\n",
       "      <td>1.000</td>\n",
       "      <td>0.2</td>\n",
       "      <td>2</td>\n",
       "      <td>0.936809</td>\n",
       "      <td>0.142857</td>\n",
       "      <td>0.066667</td>\n",
       "    </tr>\n",
       "    <tr>\n",
       "      <th>22</th>\n",
       "      <td>L2</td>\n",
       "      <td>1.000</td>\n",
       "      <td>0.2</td>\n",
       "      <td>5</td>\n",
       "      <td>0.821485</td>\n",
       "      <td>0.785714</td>\n",
       "      <td>0.090909</td>\n",
       "    </tr>\n",
       "    <tr>\n",
       "      <th>14</th>\n",
       "      <td>L2</td>\n",
       "      <td>1.000</td>\n",
       "      <td>0.2</td>\n",
       "      <td>10</td>\n",
       "      <td>0.635071</td>\n",
       "      <td>0.928571</td>\n",
       "      <td>0.053498</td>\n",
       "    </tr>\n",
       "    <tr>\n",
       "      <th>0</th>\n",
       "      <td>L2</td>\n",
       "      <td>10.000</td>\n",
       "      <td>0.2</td>\n",
       "      <td>1</td>\n",
       "      <td>0.969984</td>\n",
       "      <td>0.000000</td>\n",
       "      <td>0.000000</td>\n",
       "    </tr>\n",
       "    <tr>\n",
       "      <th>1</th>\n",
       "      <td>L2</td>\n",
       "      <td>10.000</td>\n",
       "      <td>0.2</td>\n",
       "      <td>2</td>\n",
       "      <td>0.932070</td>\n",
       "      <td>0.214286</td>\n",
       "      <td>0.085714</td>\n",
       "    </tr>\n",
       "    <tr>\n",
       "      <th>10</th>\n",
       "      <td>L2</td>\n",
       "      <td>10.000</td>\n",
       "      <td>0.2</td>\n",
       "      <td>5</td>\n",
       "      <td>0.816746</td>\n",
       "      <td>0.785714</td>\n",
       "      <td>0.088710</td>\n",
       "    </tr>\n",
       "    <tr>\n",
       "      <th>23</th>\n",
       "      <td>L2</td>\n",
       "      <td>10.000</td>\n",
       "      <td>0.2</td>\n",
       "      <td>10</td>\n",
       "      <td>0.631912</td>\n",
       "      <td>0.928571</td>\n",
       "      <td>0.053061</td>\n",
       "    </tr>\n",
       "    <tr>\n",
       "      <th>4</th>\n",
       "      <td>L2</td>\n",
       "      <td>100.000</td>\n",
       "      <td>0.2</td>\n",
       "      <td>1</td>\n",
       "      <td>0.968404</td>\n",
       "      <td>0.000000</td>\n",
       "      <td>0.000000</td>\n",
       "    </tr>\n",
       "    <tr>\n",
       "      <th>32</th>\n",
       "      <td>L2</td>\n",
       "      <td>100.000</td>\n",
       "      <td>0.2</td>\n",
       "      <td>2</td>\n",
       "      <td>0.930490</td>\n",
       "      <td>0.214286</td>\n",
       "      <td>0.083333</td>\n",
       "    </tr>\n",
       "    <tr>\n",
       "      <th>12</th>\n",
       "      <td>L2</td>\n",
       "      <td>100.000</td>\n",
       "      <td>0.2</td>\n",
       "      <td>5</td>\n",
       "      <td>0.816746</td>\n",
       "      <td>0.785714</td>\n",
       "      <td>0.088710</td>\n",
       "    </tr>\n",
       "    <tr>\n",
       "      <th>21</th>\n",
       "      <td>L2</td>\n",
       "      <td>100.000</td>\n",
       "      <td>0.2</td>\n",
       "      <td>10</td>\n",
       "      <td>0.631912</td>\n",
       "      <td>0.928571</td>\n",
       "      <td>0.053061</td>\n",
       "    </tr>\n",
       "  </tbody>\n",
       "</table>\n",
       "</div>"
      ],
      "text/plain": [
       "   penalty        C  majority_wt  minority_wt     score    recall   predict\n",
       "27      L1    0.001          0.2            1  0.977883  0.000000  0.000000\n",
       "6       L1    0.001          0.2            2  0.977883  0.000000  0.000000\n",
       "16      L1    0.001          0.2            5  0.977883  0.000000  0.000000\n",
       "3       L1    0.001          0.2           10  0.977883  0.000000  0.000000\n",
       "31      L1    0.010          0.2            1  0.977883  0.000000  0.000000\n",
       "7       L1    0.010          0.2            2  0.977883  0.000000  0.000000\n",
       "34      L1    0.010          0.2            5  0.977883  0.000000  0.000000\n",
       "15      L1    0.010          0.2           10  0.977883  0.000000  0.000000\n",
       "39      L1    1.000          0.2            1  0.971564  0.000000  0.000000\n",
       "2       L1    1.000          0.2            2  0.941548  0.142857  0.074074\n",
       "30      L1    1.000          0.2            5  0.819905  0.714286  0.083333\n",
       "35      L1    1.000          0.2           10  0.630332  0.928571  0.052846\n",
       "18      L1   10.000          0.2            1  0.969984  0.000000  0.000000\n",
       "19      L1   10.000          0.2            2  0.930490  0.142857  0.058824\n",
       "8       L1   10.000          0.2            5  0.816746  0.785714  0.088710\n",
       "24      L1   10.000          0.2           10  0.631912  0.928571  0.053061\n",
       "25      L1  100.000          0.2            1  0.968404  0.000000  0.000000\n",
       "11      L1  100.000          0.2            2  0.930490  0.214286  0.083333\n",
       "33      L1  100.000          0.2            5  0.816746  0.785714  0.088710\n",
       "37      L1  100.000          0.2           10  0.631912  0.928571  0.053061\n",
       "5       L2    0.001          0.2            1  0.977883  0.000000  0.000000\n",
       "28      L2    0.001          0.2            2  0.977883  0.000000  0.000000\n",
       "38      L2    0.001          0.2            5  0.960506  0.071429  0.076923\n",
       "13      L2    0.001          0.2           10  0.854660  0.428571  0.066667\n",
       "9       L2    0.010          0.2            1  0.977883  0.000000  0.000000\n",
       "29      L2    0.010          0.2            2  0.977883  0.000000  0.000000\n",
       "26      L2    0.010          0.2            5  0.900474  0.214286  0.054545\n",
       "36      L2    0.010          0.2           10  0.665087  0.857143  0.054054\n",
       "17      L2    1.000          0.2            1  0.971564  0.000000  0.000000\n",
       "20      L2    1.000          0.2            2  0.936809  0.142857  0.066667\n",
       "22      L2    1.000          0.2            5  0.821485  0.785714  0.090909\n",
       "14      L2    1.000          0.2           10  0.635071  0.928571  0.053498\n",
       "0       L2   10.000          0.2            1  0.969984  0.000000  0.000000\n",
       "1       L2   10.000          0.2            2  0.932070  0.214286  0.085714\n",
       "10      L2   10.000          0.2            5  0.816746  0.785714  0.088710\n",
       "23      L2   10.000          0.2           10  0.631912  0.928571  0.053061\n",
       "4       L2  100.000          0.2            1  0.968404  0.000000  0.000000\n",
       "32      L2  100.000          0.2            2  0.930490  0.214286  0.083333\n",
       "12      L2  100.000          0.2            5  0.816746  0.785714  0.088710\n",
       "21      L2  100.000          0.2           10  0.631912  0.928571  0.053061"
      ]
     },
     "execution_count": 1034,
     "metadata": {},
     "output_type": "execute_result"
    }
   ],
   "source": [
    "df_sort.info()\n",
    "df_sort"
   ]
  },
  {
   "cell_type": "code",
   "execution_count": 1095,
   "metadata": {
    "collapsed": false
   },
   "outputs": [],
   "source": [
    "def plotme (data,ddd):\n",
    "    fig, ax = plt.subplots()\n",
    "    line1 = ax.plot(df2.minority_wt, df2.recall,  '-', color='blue')\n",
    "    #ax.plot(df2.minority_wt, df2.recall,  'o', color='blue')\n",
    "    line2 = ax.plot(df2.minority_wt, df2.predict,  '-', color='red')\n",
    "    #ax.plot(df2.minority_wt, df2.predict,  'o', color='red')\n",
    "    line3 = ax.plot(df2.minority_wt, df2.score,  '-', color='green')\n",
    "    #ax.plot(df2.minority_wt, df2.score,  'o', color='green')    \n",
    "    #ax.set_ylim(0,1)\n",
    "    #ax.set_xlim(0,1)\n",
    "    #ax_legend\n",
    "    handles, labels = ax.get_legend_handles_labels()\n",
    "    #print (handles, labels)\n",
    "    ax.legend(handles, labels)\n",
    "    ax.legend(bbox_to_anchor=[1.15, .7], loc='lower center', ncol=1)\n",
    "    #ax.legend((line1, line2, line3), ('recall', 'predict', 'score'))\n",
    "    ax.set_xlabel('Weight of minority class')\n",
    "    ax.set_ylabel('Value')\n",
    "    ax.set_title(ddd)\n",
    "    plt.show()"
   ]
  },
  {
   "cell_type": "code",
   "execution_count": 1098,
   "metadata": {
    "collapsed": false
   },
   "outputs": [
    {
     "data": {
      "image/png": "[encoded data removed]",
      "text/plain": [
       "<matplotlib.figure.Figure at 0x119b218d0>"
      ]
     },
     "metadata": {},
     "output_type": "display_data"
    },
    {
     "data": {
      "image/png": "[encoded data removed]",
      "text/plain": [
       "<matplotlib.figure.Figure at 0x117fe3a58>"
      ]
     },
     "metadata": {},
     "output_type": "display_data"
    },
    {
     "data": {
      "image/png": "[encoded data removed]",
      "text/plain": [
       "<matplotlib.figure.Figure at 0x125d9b550>"
      ]
     },
     "metadata": {},
     "output_type": "display_data"
    },
    {
     "data": {
      "image/png": "[encoded data removed]",
      "text/plain": [
       "<matplotlib.figure.Figure at 0x118098a90>"
      ]
     },
     "metadata": {},
     "output_type": "display_data"
    },
    {
     "data": {
      "image/png": "[encoded data removed]",
      "text/plain": [
       "<matplotlib.figure.Figure at 0x127288ac8>"
      ]
     },
     "metadata": {},
     "output_type": "display_data"
    },
    {
     "data": {
      "image/png": "[encoded data removed]",
      "text/plain": [
       "<matplotlib.figure.Figure at 0x119b4bb70>"
      ]
     },
     "metadata": {},
     "output_type": "display_data"
    },
    {
     "data": {
      "image/png": "[encoded data removed]",
      "text/plain": [
       "<matplotlib.figure.Figure at 0x127086780>"
      ]
     },
     "metadata": {},
     "output_type": "display_data"
    },
    {
     "data": {
      "image/png": "[encoded data removed]",
      "text/plain": [
       "<matplotlib.figure.Figure at 0x11808e908>"
      ]
     },
     "metadata": {},
     "output_type": "display_data"
    },
    {
     "data": {
      "image/png": "[encoded data removed]",
      "text/plain": [
       "<matplotlib.figure.Figure at 0x1093f5320>"
      ]
     },
     "metadata": {},
     "output_type": "display_data"
    },
    {
     "data": {
      "image/png": "[encoded data removed]",
      "text/plain": [
       "<matplotlib.figure.Figure at 0x131018978>"
      ]
     },
     "metadata": {},
     "output_type": "display_data"
    }
   ],
   "source": [
    "df2 = df_sort[(df_sort[\"penalty\"] == 'L2') & (df_sort[\"C\"] == .001)]\n",
    "plotme(df2,'Penalty = L2, C = 0.001')\n",
    "df2 = df_sort[(df_sort[\"penalty\"] == 'L2') & (df_sort[\"C\"] == .01)]\n",
    "plotme(df2,'Penalty = L2, C = 0.01')\n",
    "df2 = df_sort[(df_sort[\"penalty\"] == 'L2') & (df_sort[\"C\"] == 1)]\n",
    "plotme(df2,'Penalty = L2, C = 1')\n",
    "df2 = df_sort[(df_sort[\"penalty\"] == 'L2') & (df_sort[\"C\"] == 10)]\n",
    "plotme(df2,'Penalty = L2, C = 10')\n",
    "df2 = df_sort[(df_sort[\"penalty\"] == 'L2') & (df_sort[\"C\"] == 100)]\n",
    "plotme(df2,'Penalty = L2, C = 100')\n",
    "\n",
    "df2 = df_sort[(df_sort[\"penalty\"] == 'L1') & (df_sort[\"C\"] == .001)]\n",
    "plotme(df2,'Penalty = L1, C = 0.001')\n",
    "df2 = df_sort[(df_sort[\"penalty\"] == 'L1') & (df_sort[\"C\"] == .01)]\n",
    "plotme(df2,'Penalty = L1, C = 0.01')\n",
    "df2 = df_sort[(df_sort[\"penalty\"] == 'L1') & (df_sort[\"C\"] == 1)]\n",
    "plotme(df2,'Penalty = L1, C = 1')\n",
    "df2 = df_sort[(df_sort[\"penalty\"] == 'L1') & (df_sort[\"C\"] == 10)]\n",
    "plotme(df2,'Penalty = L1, C = 10')\n",
    "df2 = df_sort[(df_sort[\"penalty\"] == 'L1') & (df_sort[\"C\"] == 100)]\n",
    "plotme(df2,'Penalty = L1, C = 100')"
   ]
  }
 ],
 "metadata": {
  "kernelspec": {
   "display_name": "Python 3",
   "language": "python",
   "name": "python3"
  },
  "language_info": {
   "codemirror_mode": {
    "name": "ipython",
    "version": 3
   },
   "file_extension": ".py",
   "mimetype": "text/x-python",
   "name": "python",
   "nbconvert_exporter": "python",
   "pygments_lexer": "ipython3",
   "version": "3.5.2"
  }
 },
 "nbformat": 4,
 "nbformat_minor": 0
}
