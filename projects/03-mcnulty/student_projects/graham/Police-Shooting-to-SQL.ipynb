{
 "cells": [
  {
   "cell_type": "code",
   "execution_count": 1,
   "metadata": {
    "collapsed": true
   },
   "outputs": [],
   "source": [
    "import pickle\n",
    "import pandas as pd\n",
    "from sqlalchemy import create_engine\n",
    "cnx = create_engine('postgresql://politics@54.209.198.31:5432/politics')"
   ]
  },
  {
   "cell_type": "code",
   "execution_count": 2,
   "metadata": {
    "collapsed": true
   },
   "outputs": [],
   "source": [
    "df = pickle.load(open('df_big_table_save_pre_neighborhhod_racial_composition.p', 'rb'))"
   ]
  },
  {
   "cell_type": "code",
   "execution_count": null,
   "metadata": {
    "collapsed": false
   },
   "outputs": [],
   "source": [
    "#df['sources']=df['sources'].to_json()"
   ]
  },
  {
   "cell_type": "markdown",
   "metadata": {},
   "source": [
    "### Not importing JSON string yet from 'sources' columns"
   ]
  },
  {
   "cell_type": "code",
   "execution_count": 3,
   "metadata": {
    "collapsed": false
   },
   "outputs": [
    {
     "name": "stdout",
     "output_type": "stream",
     "text": [
      "['county-kaggleprimary-2016', 'congress_20002015_congressroster_govtrack', 'fake_df', 'state_2007_110term_demo_acs', 'state_2008_110term_demo_acs', 'state_2009_111term_demo_acs', 'state_2010_111term_demo_acs', 'state_2011_112term_demo_acs', 'state_2012_113term_demo_acs', 'state_2013_113term_demo_acs', 'state_2014_114term_demo_acs', 'police_shootings_test']\n"
     ]
    }
   ],
   "source": [
    "test = df[['id', 'name', 'date', 'manner_of_death', 'armed', 'age',\n",
    "           'gender', 'race', 'city', 'state', 'signs_of_mental_illness',\n",
    "           'flee', 'body_camera', 'is_geocoding_exact','is_officer_charged', \n",
    "           'lat', 'lon', \n",
    "           'Zip', 'Median','Mean', 'Pop','TotalWages', 'EstimatedPopulation', \n",
    "           'police_force_size','all', 'white', 'non-white', 'black', 'hispanic', 'asian'\n",
    "          ]]\n",
    "test.to_sql(\"police_shootings_test\", flavor='postgresql', con=cnx, if_exists=\"replace\")\n",
    "print(cnx.table_names())"
   ]
  },
  {
   "cell_type": "code",
   "execution_count": 4,
   "metadata": {
    "collapsed": false,
    "scrolled": true
   },
   "outputs": [
    {
     "data": {
      "text/html": [
       "<div>\n",
       "<table border=\"1\" class=\"dataframe\">\n",
       "  <thead>\n",
       "    <tr style=\"text-align: right;\">\n",
       "      <th></th>\n",
       "      <th>index</th>\n",
       "      <th>id</th>\n",
       "      <th>name</th>\n",
       "      <th>date</th>\n",
       "      <th>manner_of_death</th>\n",
       "      <th>armed</th>\n",
       "      <th>age</th>\n",
       "      <th>gender</th>\n",
       "      <th>race</th>\n",
       "      <th>city</th>\n",
       "      <th>...</th>\n",
       "      <th>Pop</th>\n",
       "      <th>TotalWages</th>\n",
       "      <th>EstimatedPopulation</th>\n",
       "      <th>police_force_size</th>\n",
       "      <th>all</th>\n",
       "      <th>white</th>\n",
       "      <th>non-white</th>\n",
       "      <th>black</th>\n",
       "      <th>hispanic</th>\n",
       "      <th>asian</th>\n",
       "    </tr>\n",
       "  </thead>\n",
       "  <tbody>\n",
       "    <tr>\n",
       "      <th>0</th>\n",
       "      <td>0</td>\n",
       "      <td>424</td>\n",
       "      <td>Erick Emmanuel Sanchez</td>\n",
       "      <td>2015-04-30</td>\n",
       "      <td>shot and Tasered</td>\n",
       "      <td>metal object</td>\n",
       "      <td>22</td>\n",
       "      <td>M</td>\n",
       "      <td>H</td>\n",
       "      <td>el paso</td>\n",
       "      <td>...</td>\n",
       "      <td>11,328</td>\n",
       "      <td>91447915</td>\n",
       "      <td>12682</td>\n",
       "      <td>2260</td>\n",
       "      <td>0.85177</td>\n",
       "      <td>0.826446</td>\n",
       "      <td>0.861027</td>\n",
       "      <td>**</td>\n",
       "      <td>0.86102719</td>\n",
       "      <td>**</td>\n",
       "    </tr>\n",
       "    <tr>\n",
       "      <th>1</th>\n",
       "      <td>1</td>\n",
       "      <td>424</td>\n",
       "      <td>Erick Emmanuel Sanchez</td>\n",
       "      <td>2015-04-30</td>\n",
       "      <td>shot and Tasered</td>\n",
       "      <td>metal object</td>\n",
       "      <td>22</td>\n",
       "      <td>M</td>\n",
       "      <td>H</td>\n",
       "      <td>el paso</td>\n",
       "      <td>...</td>\n",
       "      <td>21,236</td>\n",
       "      <td>270117955</td>\n",
       "      <td>16056</td>\n",
       "      <td>2260</td>\n",
       "      <td>0.85177</td>\n",
       "      <td>0.826446</td>\n",
       "      <td>0.861027</td>\n",
       "      <td>**</td>\n",
       "      <td>0.86102719</td>\n",
       "      <td>**</td>\n",
       "    </tr>\n",
       "    <tr>\n",
       "      <th>2</th>\n",
       "      <td>2</td>\n",
       "      <td>424</td>\n",
       "      <td>Erick Emmanuel Sanchez</td>\n",
       "      <td>2015-04-30</td>\n",
       "      <td>shot and Tasered</td>\n",
       "      <td>metal object</td>\n",
       "      <td>22</td>\n",
       "      <td>M</td>\n",
       "      <td>H</td>\n",
       "      <td>el paso</td>\n",
       "      <td>...</td>\n",
       "      <td>18,451</td>\n",
       "      <td>163746053</td>\n",
       "      <td>14072</td>\n",
       "      <td>2260</td>\n",
       "      <td>0.85177</td>\n",
       "      <td>0.826446</td>\n",
       "      <td>0.861027</td>\n",
       "      <td>**</td>\n",
       "      <td>0.86102719</td>\n",
       "      <td>**</td>\n",
       "    </tr>\n",
       "    <tr>\n",
       "      <th>3</th>\n",
       "      <td>3</td>\n",
       "      <td>424</td>\n",
       "      <td>Erick Emmanuel Sanchez</td>\n",
       "      <td>2015-04-30</td>\n",
       "      <td>shot and Tasered</td>\n",
       "      <td>metal object</td>\n",
       "      <td>22</td>\n",
       "      <td>M</td>\n",
       "      <td>H</td>\n",
       "      <td>el paso</td>\n",
       "      <td>...</td>\n",
       "      <td>35,060</td>\n",
       "      <td>299539712</td>\n",
       "      <td>24327</td>\n",
       "      <td>2260</td>\n",
       "      <td>0.85177</td>\n",
       "      <td>0.826446</td>\n",
       "      <td>0.861027</td>\n",
       "      <td>**</td>\n",
       "      <td>0.86102719</td>\n",
       "      <td>**</td>\n",
       "    </tr>\n",
       "    <tr>\n",
       "      <th>4</th>\n",
       "      <td>4</td>\n",
       "      <td>424</td>\n",
       "      <td>Erick Emmanuel Sanchez</td>\n",
       "      <td>2015-04-30</td>\n",
       "      <td>shot and Tasered</td>\n",
       "      <td>metal object</td>\n",
       "      <td>22</td>\n",
       "      <td>M</td>\n",
       "      <td>H</td>\n",
       "      <td>el paso</td>\n",
       "      <td>...</td>\n",
       "      <td>26,036</td>\n",
       "      <td>171092470</td>\n",
       "      <td>18528</td>\n",
       "      <td>2260</td>\n",
       "      <td>0.85177</td>\n",
       "      <td>0.826446</td>\n",
       "      <td>0.861027</td>\n",
       "      <td>**</td>\n",
       "      <td>0.86102719</td>\n",
       "      <td>**</td>\n",
       "    </tr>\n",
       "  </tbody>\n",
       "</table>\n",
       "<p>5 rows × 31 columns</p>\n",
       "</div>"
      ],
      "text/plain": [
       "   index   id                    name       date   manner_of_death  \\\n",
       "0      0  424  Erick Emmanuel Sanchez 2015-04-30  shot and Tasered   \n",
       "1      1  424  Erick Emmanuel Sanchez 2015-04-30  shot and Tasered   \n",
       "2      2  424  Erick Emmanuel Sanchez 2015-04-30  shot and Tasered   \n",
       "3      3  424  Erick Emmanuel Sanchez 2015-04-30  shot and Tasered   \n",
       "4      4  424  Erick Emmanuel Sanchez 2015-04-30  shot and Tasered   \n",
       "\n",
       "          armed  age gender race     city  ...      Pop TotalWages  \\\n",
       "0  metal object   22      M    H  el paso  ...   11,328   91447915   \n",
       "1  metal object   22      M    H  el paso  ...   21,236  270117955   \n",
       "2  metal object   22      M    H  el paso  ...   18,451  163746053   \n",
       "3  metal object   22      M    H  el paso  ...   35,060  299539712   \n",
       "4  metal object   22      M    H  el paso  ...   26,036  171092470   \n",
       "\n",
       "  EstimatedPopulation police_force_size      all     white  non-white  black  \\\n",
       "0               12682              2260  0.85177  0.826446   0.861027     **   \n",
       "1               16056              2260  0.85177  0.826446   0.861027     **   \n",
       "2               14072              2260  0.85177  0.826446   0.861027     **   \n",
       "3               24327              2260  0.85177  0.826446   0.861027     **   \n",
       "4               18528              2260  0.85177  0.826446   0.861027     **   \n",
       "\n",
       "     hispanic asian  \n",
       "0  0.86102719    **  \n",
       "1  0.86102719    **  \n",
       "2  0.86102719    **  \n",
       "3  0.86102719    **  \n",
       "4  0.86102719    **  \n",
       "\n",
       "[5 rows x 31 columns]"
      ]
     },
     "execution_count": 4,
     "metadata": {},
     "output_type": "execute_result"
    }
   ],
   "source": [
    "pd.read_sql_query('''SELECT * FROM \"police_shootings_test\" LIMIT 5''',cnx)"
   ]
  },
  {
   "cell_type": "code",
   "execution_count": 5,
   "metadata": {
    "collapsed": true
   },
   "outputs": [],
   "source": [
    "sources = df['sources'].copy()"
   ]
  },
  {
   "cell_type": "markdown",
   "metadata": {},
   "source": [
    "### Testing for Dictionary/JSON field into Postgres--Currently Fails"
   ]
  },
  {
   "cell_type": "code",
   "execution_count": 6,
   "metadata": {
    "collapsed": false
   },
   "outputs": [
    {
     "ename": "ProgrammingError",
     "evalue": "(psycopg2.ProgrammingError) can't adapt type 'dict' [SQL: 'INSERT INTO json_dict_test (index, sources) VALUES (%(index)s, %(sources)s)'] [parameters: ({'sources': [{'source_name': 'El Paso Times.com', 'title': 'El Paso police officer shot and killed burglary suspect Wednesday night', 'url': 'http://www.elpasotimes.com/news/ci_28023272/el-paso-police-officer-shot-and-killed-burglary', 'type': 'NEWS'}, {'source_name': 'KVIA', 'title': 'Update: Man shot by officer after burglary has died', 'url': 'http://www.kvia.com/news/officer-shoots-burglary-suspect/32655866', 'type': 'NEWS'}], 'index': 0}, {'sources': [{'source_name': 'El Paso Times.com', 'title': 'El Paso police officer shot and killed burglary suspect Wednesday night', 'url': 'http://www.elpasotimes.com/news/ci_28023272/el-paso-police-officer-shot-and-killed-burglary', 'type': 'NEWS'}, {'source_name': 'KVIA', 'title': 'Update: Man shot by officer after burglary has died', 'url': 'http://www.kvia.com/news/officer-shoots-burglary-suspect/32655866', 'type': 'NEWS'}], 'index': 1}, {'sources': [{'source_name': 'El Paso Times.com', 'title': 'El Paso police officer shot and killed burglary suspect Wednesday night', 'url': 'http://www.elpasotimes.com/news/ci_28023272/el-paso-police-officer-shot-and-killed-burglary', 'type': 'NEWS'}, {'source_name': 'KVIA', 'title': 'Update: Man shot by officer after burglary has died', 'url': 'http://www.kvia.com/news/officer-shoots-burglary-suspect/32655866', 'type': 'NEWS'}], 'index': 2}, {'sources': [{'source_name': 'El Paso Times.com', 'title': 'El Paso police officer shot and killed burglary suspect Wednesday night', 'url': 'http://www.elpasotimes.com/news/ci_28023272/el-paso-police-officer-shot-and-killed-burglary', 'type': 'NEWS'}, {'source_name': 'KVIA', 'title': 'Update: Man shot by officer after burglary has died', 'url': 'http://www.kvia.com/news/officer-shoots-burglary-suspect/32655866', 'type': 'NEWS'}], 'index': 3}, {'sources': [{'source_name': 'El Paso Times.com', 'title': 'El Paso police officer shot and killed burglary suspect Wednesday night', 'url': 'http://www.elpasotimes.com/news/ci_28023272/el-paso-police-officer-shot-and-killed-burglary', 'type': 'NEWS'}, {'source_name': 'KVIA', 'title': 'Update: Man shot by officer after burglary has died', 'url': 'http://www.kvia.com/news/officer-shoots-burglary-suspect/32655866', 'type': 'NEWS'}], 'index': 4}, {'sources': [{'source_name': 'El Paso Times.com', 'title': 'El Paso police officer shot and killed burglary suspect Wednesday night', 'url': 'http://www.elpasotimes.com/news/ci_28023272/el-paso-police-officer-shot-and-killed-burglary', 'type': 'NEWS'}, {'source_name': 'KVIA', 'title': 'Update: Man shot by officer after burglary has died', 'url': 'http://www.kvia.com/news/officer-shoots-burglary-suspect/32655866', 'type': 'NEWS'}], 'index': 5}, {'sources': [{'source_name': 'El Paso Times.com', 'title': 'El Paso police officer shot and killed burglary suspect Wednesday night', 'url': 'http://www.elpasotimes.com/news/ci_28023272/el-paso-police-officer-shot-and-killed-burglary', 'type': 'NEWS'}, {'source_name': 'KVIA', 'title': 'Update: Man shot by officer after burglary has died', 'url': 'http://www.kvia.com/news/officer-shoots-burglary-suspect/32655866', 'type': 'NEWS'}], 'index': 6}, {'sources': [{'source_name': 'El Paso Times.com', 'title': 'El Paso police officer shot and killed burglary suspect Wednesday night', 'url': 'http://www.elpasotimes.com/news/ci_28023272/el-paso-police-officer-shot-and-killed-burglary', 'type': 'NEWS'}, {'source_name': 'KVIA', 'title': 'Update: Man shot by officer after burglary has died', 'url': 'http://www.kvia.com/news/officer-shoots-burglary-suspect/32655866', 'type': 'NEWS'}], 'index': 7}  ... displaying 10 of 5865 total bound parameter sets ...  {'sources': [{'source_name': 'KNXV', 'title': 'PD: Man shot by officers after stabbing himself', 'url': 'http://www.abc15.com/news/region-phoenix-metro/north-phoenix/pd-officer-involved-in-n-phoenix-shooting', 'type': 'NEWS'}, {'source_name': 'KNXV', 'title': 'Police identify Ken Cockerel as man who stabbed himself then threatened officers with knives', 'url': 'http://www.abc15.com/news/region-phoenix-metro/north-phoenix/police-identify-ken-cockerel-as-man-who-stabbed-himself-then-threatened-officers-with-knives', 'type': 'NEWS'}], 'index': 5863}, {'sources': [{'source_name': 'KNXV', 'title': 'PD: Man shot by officers after stabbing himself', 'url': 'http://www.abc15.com/news/region-phoenix-metro/north-phoenix/pd-officer-involved-in-n-phoenix-shooting', 'type': 'NEWS'}, {'source_name': 'KNXV', 'title': 'Police identify Ken Cockerel as man who stabbed himself then threatened officers with knives', 'url': 'http://www.abc15.com/news/region-phoenix-metro/north-phoenix/police-identify-ken-cockerel-as-man-who-stabbed-himself-then-threatened-officers-with-knives', 'type': 'NEWS'}], 'index': 5864})]",
     "output_type": "error",
     "traceback": [
      "\u001b[0;31m---------------------------------------------------------------------------\u001b[0m",
      "\u001b[0;31mProgrammingError\u001b[0m                          Traceback (most recent call last)",
      "\u001b[0;32m//anaconda/lib/python3.5/site-packages/sqlalchemy/engine/base.py\u001b[0m in \u001b[0;36m_execute_context\u001b[0;34m(self, dialect, constructor, statement, parameters, *args)\u001b[0m\n\u001b[1;32m   1115\u001b[0m                         \u001b[0mparameters\u001b[0m\u001b[0;34m,\u001b[0m\u001b[0;34m\u001b[0m\u001b[0m\n\u001b[0;32m-> 1116\u001b[0;31m                         context)\n\u001b[0m\u001b[1;32m   1117\u001b[0m             \u001b[0;32melif\u001b[0m \u001b[0;32mnot\u001b[0m \u001b[0mparameters\u001b[0m \u001b[0;32mand\u001b[0m \u001b[0mcontext\u001b[0m\u001b[0;34m.\u001b[0m\u001b[0mno_parameters\u001b[0m\u001b[0;34m:\u001b[0m\u001b[0;34m\u001b[0m\u001b[0m\n",
      "\u001b[0;32m//anaconda/lib/python3.5/site-packages/sqlalchemy/engine/default.py\u001b[0m in \u001b[0;36mdo_executemany\u001b[0;34m(self, cursor, statement, parameters, context)\u001b[0m\n\u001b[1;32m    446\u001b[0m     \u001b[0;32mdef\u001b[0m \u001b[0mdo_executemany\u001b[0m\u001b[0;34m(\u001b[0m\u001b[0mself\u001b[0m\u001b[0;34m,\u001b[0m \u001b[0mcursor\u001b[0m\u001b[0;34m,\u001b[0m \u001b[0mstatement\u001b[0m\u001b[0;34m,\u001b[0m \u001b[0mparameters\u001b[0m\u001b[0;34m,\u001b[0m \u001b[0mcontext\u001b[0m\u001b[0;34m=\u001b[0m\u001b[0;32mNone\u001b[0m\u001b[0;34m)\u001b[0m\u001b[0;34m:\u001b[0m\u001b[0;34m\u001b[0m\u001b[0m\n\u001b[0;32m--> 447\u001b[0;31m         \u001b[0mcursor\u001b[0m\u001b[0;34m.\u001b[0m\u001b[0mexecutemany\u001b[0m\u001b[0;34m(\u001b[0m\u001b[0mstatement\u001b[0m\u001b[0;34m,\u001b[0m \u001b[0mparameters\u001b[0m\u001b[0;34m)\u001b[0m\u001b[0;34m\u001b[0m\u001b[0m\n\u001b[0m\u001b[1;32m    448\u001b[0m \u001b[0;34m\u001b[0m\u001b[0m\n",
      "\u001b[0;31mProgrammingError\u001b[0m: can't adapt type 'dict'",
      "\nThe above exception was the direct cause of the following exception:\n",
      "\u001b[0;31mProgrammingError\u001b[0m                          Traceback (most recent call last)",
      "\u001b[0;32m<ipython-input-6-eb48fa19c5dc>\u001b[0m in \u001b[0;36m<module>\u001b[0;34m()\u001b[0m\n\u001b[0;32m----> 1\u001b[0;31m \u001b[0msources\u001b[0m\u001b[0;34m.\u001b[0m\u001b[0mto_sql\u001b[0m\u001b[0;34m(\u001b[0m\u001b[0;34m\"json_dict_test\"\u001b[0m\u001b[0;34m,\u001b[0m \u001b[0mflavor\u001b[0m\u001b[0;34m=\u001b[0m\u001b[0;34m'postgresql'\u001b[0m\u001b[0;34m,\u001b[0m \u001b[0mcon\u001b[0m\u001b[0;34m=\u001b[0m\u001b[0mcnx\u001b[0m\u001b[0;34m,\u001b[0m \u001b[0mif_exists\u001b[0m\u001b[0;34m=\u001b[0m\u001b[0;34m\"replace\"\u001b[0m\u001b[0;34m)\u001b[0m\u001b[0;34m\u001b[0m\u001b[0m\n\u001b[0m\u001b[1;32m      2\u001b[0m \u001b[0mprint\u001b[0m\u001b[0;34m(\u001b[0m\u001b[0mcnx\u001b[0m\u001b[0;34m.\u001b[0m\u001b[0mtable_names\u001b[0m\u001b[0;34m(\u001b[0m\u001b[0;34m)\u001b[0m\u001b[0;34m)\u001b[0m\u001b[0;34m\u001b[0m\u001b[0m\n",
      "\u001b[0;32m//anaconda/lib/python3.5/site-packages/pandas/core/generic.py\u001b[0m in \u001b[0;36mto_sql\u001b[0;34m(self, name, con, flavor, schema, if_exists, index, index_label, chunksize, dtype)\u001b[0m\n\u001b[1;32m   1001\u001b[0m             \u001b[0mself\u001b[0m\u001b[0;34m,\u001b[0m \u001b[0mname\u001b[0m\u001b[0;34m,\u001b[0m \u001b[0mcon\u001b[0m\u001b[0;34m,\u001b[0m \u001b[0mflavor\u001b[0m\u001b[0;34m=\u001b[0m\u001b[0mflavor\u001b[0m\u001b[0;34m,\u001b[0m \u001b[0mschema\u001b[0m\u001b[0;34m=\u001b[0m\u001b[0mschema\u001b[0m\u001b[0;34m,\u001b[0m \u001b[0mif_exists\u001b[0m\u001b[0;34m=\u001b[0m\u001b[0mif_exists\u001b[0m\u001b[0;34m,\u001b[0m\u001b[0;34m\u001b[0m\u001b[0m\n\u001b[1;32m   1002\u001b[0m             \u001b[0mindex\u001b[0m\u001b[0;34m=\u001b[0m\u001b[0mindex\u001b[0m\u001b[0;34m,\u001b[0m \u001b[0mindex_label\u001b[0m\u001b[0;34m=\u001b[0m\u001b[0mindex_label\u001b[0m\u001b[0;34m,\u001b[0m \u001b[0mchunksize\u001b[0m\u001b[0;34m=\u001b[0m\u001b[0mchunksize\u001b[0m\u001b[0;34m,\u001b[0m\u001b[0;34m\u001b[0m\u001b[0m\n\u001b[0;32m-> 1003\u001b[0;31m             dtype=dtype)\n\u001b[0m\u001b[1;32m   1004\u001b[0m \u001b[0;34m\u001b[0m\u001b[0m\n\u001b[1;32m   1005\u001b[0m     \u001b[0;32mdef\u001b[0m \u001b[0mto_pickle\u001b[0m\u001b[0;34m(\u001b[0m\u001b[0mself\u001b[0m\u001b[0;34m,\u001b[0m \u001b[0mpath\u001b[0m\u001b[0;34m)\u001b[0m\u001b[0;34m:\u001b[0m\u001b[0;34m\u001b[0m\u001b[0m\n",
      "\u001b[0;32m//anaconda/lib/python3.5/site-packages/pandas/io/sql.py\u001b[0m in \u001b[0;36mto_sql\u001b[0;34m(frame, name, con, flavor, schema, if_exists, index, index_label, chunksize, dtype)\u001b[0m\n\u001b[1;32m    567\u001b[0m     pandas_sql.to_sql(frame, name, if_exists=if_exists, index=index,\n\u001b[1;32m    568\u001b[0m                       \u001b[0mindex_label\u001b[0m\u001b[0;34m=\u001b[0m\u001b[0mindex_label\u001b[0m\u001b[0;34m,\u001b[0m \u001b[0mschema\u001b[0m\u001b[0;34m=\u001b[0m\u001b[0mschema\u001b[0m\u001b[0;34m,\u001b[0m\u001b[0;34m\u001b[0m\u001b[0m\n\u001b[0;32m--> 569\u001b[0;31m                       chunksize=chunksize, dtype=dtype)\n\u001b[0m\u001b[1;32m    570\u001b[0m \u001b[0;34m\u001b[0m\u001b[0m\n\u001b[1;32m    571\u001b[0m \u001b[0;34m\u001b[0m\u001b[0m\n",
      "\u001b[0;32m//anaconda/lib/python3.5/site-packages/pandas/io/sql.py\u001b[0m in \u001b[0;36mto_sql\u001b[0;34m(self, frame, name, if_exists, index, index_label, schema, chunksize, dtype)\u001b[0m\n\u001b[1;32m   1239\u001b[0m                          schema=schema, dtype=dtype)\n\u001b[1;32m   1240\u001b[0m         \u001b[0mtable\u001b[0m\u001b[0;34m.\u001b[0m\u001b[0mcreate\u001b[0m\u001b[0;34m(\u001b[0m\u001b[0;34m)\u001b[0m\u001b[0;34m\u001b[0m\u001b[0m\n\u001b[0;32m-> 1241\u001b[0;31m         \u001b[0mtable\u001b[0m\u001b[0;34m.\u001b[0m\u001b[0minsert\u001b[0m\u001b[0;34m(\u001b[0m\u001b[0mchunksize\u001b[0m\u001b[0;34m)\u001b[0m\u001b[0;34m\u001b[0m\u001b[0m\n\u001b[0m\u001b[1;32m   1242\u001b[0m         \u001b[0;31m# check for potentially case sensitivity issues (GH7815)\u001b[0m\u001b[0;34m\u001b[0m\u001b[0;34m\u001b[0m\u001b[0m\n\u001b[1;32m   1243\u001b[0m         \u001b[0mengine\u001b[0m \u001b[0;34m=\u001b[0m \u001b[0mself\u001b[0m\u001b[0;34m.\u001b[0m\u001b[0mconnectable\u001b[0m\u001b[0;34m.\u001b[0m\u001b[0mengine\u001b[0m\u001b[0;34m\u001b[0m\u001b[0m\n",
      "\u001b[0;32m//anaconda/lib/python3.5/site-packages/pandas/io/sql.py\u001b[0m in \u001b[0;36minsert\u001b[0;34m(self, chunksize)\u001b[0m\n\u001b[1;32m    763\u001b[0m \u001b[0;34m\u001b[0m\u001b[0m\n\u001b[1;32m    764\u001b[0m                 \u001b[0mchunk_iter\u001b[0m \u001b[0;34m=\u001b[0m \u001b[0mzip\u001b[0m\u001b[0;34m(\u001b[0m\u001b[0;34m*\u001b[0m\u001b[0;34m[\u001b[0m\u001b[0marr\u001b[0m\u001b[0;34m[\u001b[0m\u001b[0mstart_i\u001b[0m\u001b[0;34m:\u001b[0m\u001b[0mend_i\u001b[0m\u001b[0;34m]\u001b[0m \u001b[0;32mfor\u001b[0m \u001b[0marr\u001b[0m \u001b[0;32min\u001b[0m \u001b[0mdata_list\u001b[0m\u001b[0;34m]\u001b[0m\u001b[0;34m)\u001b[0m\u001b[0;34m\u001b[0m\u001b[0m\n\u001b[0;32m--> 765\u001b[0;31m                 \u001b[0mself\u001b[0m\u001b[0;34m.\u001b[0m\u001b[0m_execute_insert\u001b[0m\u001b[0;34m(\u001b[0m\u001b[0mconn\u001b[0m\u001b[0;34m,\u001b[0m \u001b[0mkeys\u001b[0m\u001b[0;34m,\u001b[0m \u001b[0mchunk_iter\u001b[0m\u001b[0;34m)\u001b[0m\u001b[0;34m\u001b[0m\u001b[0m\n\u001b[0m\u001b[1;32m    766\u001b[0m \u001b[0;34m\u001b[0m\u001b[0m\n\u001b[1;32m    767\u001b[0m     def _query_iterator(self, result, chunksize, columns, coerce_float=True,\n",
      "\u001b[0;32m//anaconda/lib/python3.5/site-packages/pandas/io/sql.py\u001b[0m in \u001b[0;36m_execute_insert\u001b[0;34m(self, conn, keys, data_iter)\u001b[0m\n\u001b[1;32m    738\u001b[0m     \u001b[0;32mdef\u001b[0m \u001b[0m_execute_insert\u001b[0m\u001b[0;34m(\u001b[0m\u001b[0mself\u001b[0m\u001b[0;34m,\u001b[0m \u001b[0mconn\u001b[0m\u001b[0;34m,\u001b[0m \u001b[0mkeys\u001b[0m\u001b[0;34m,\u001b[0m \u001b[0mdata_iter\u001b[0m\u001b[0;34m)\u001b[0m\u001b[0;34m:\u001b[0m\u001b[0;34m\u001b[0m\u001b[0m\n\u001b[1;32m    739\u001b[0m         \u001b[0mdata\u001b[0m \u001b[0;34m=\u001b[0m \u001b[0;34m[\u001b[0m\u001b[0mdict\u001b[0m\u001b[0;34m(\u001b[0m\u001b[0;34m(\u001b[0m\u001b[0mk\u001b[0m\u001b[0;34m,\u001b[0m \u001b[0mv\u001b[0m\u001b[0;34m)\u001b[0m \u001b[0;32mfor\u001b[0m \u001b[0mk\u001b[0m\u001b[0;34m,\u001b[0m \u001b[0mv\u001b[0m \u001b[0;32min\u001b[0m \u001b[0mzip\u001b[0m\u001b[0;34m(\u001b[0m\u001b[0mkeys\u001b[0m\u001b[0;34m,\u001b[0m \u001b[0mrow\u001b[0m\u001b[0;34m)\u001b[0m\u001b[0;34m)\u001b[0m \u001b[0;32mfor\u001b[0m \u001b[0mrow\u001b[0m \u001b[0;32min\u001b[0m \u001b[0mdata_iter\u001b[0m\u001b[0;34m]\u001b[0m\u001b[0;34m\u001b[0m\u001b[0m\n\u001b[0;32m--> 740\u001b[0;31m         \u001b[0mconn\u001b[0m\u001b[0;34m.\u001b[0m\u001b[0mexecute\u001b[0m\u001b[0;34m(\u001b[0m\u001b[0mself\u001b[0m\u001b[0;34m.\u001b[0m\u001b[0minsert_statement\u001b[0m\u001b[0;34m(\u001b[0m\u001b[0;34m)\u001b[0m\u001b[0;34m,\u001b[0m \u001b[0mdata\u001b[0m\u001b[0;34m)\u001b[0m\u001b[0;34m\u001b[0m\u001b[0m\n\u001b[0m\u001b[1;32m    741\u001b[0m \u001b[0;34m\u001b[0m\u001b[0m\n\u001b[1;32m    742\u001b[0m     \u001b[0;32mdef\u001b[0m \u001b[0minsert\u001b[0m\u001b[0;34m(\u001b[0m\u001b[0mself\u001b[0m\u001b[0;34m,\u001b[0m \u001b[0mchunksize\u001b[0m\u001b[0;34m=\u001b[0m\u001b[0;32mNone\u001b[0m\u001b[0;34m)\u001b[0m\u001b[0;34m:\u001b[0m\u001b[0;34m\u001b[0m\u001b[0m\n",
      "\u001b[0;32m//anaconda/lib/python3.5/site-packages/sqlalchemy/engine/base.py\u001b[0m in \u001b[0;36mexecute\u001b[0;34m(self, object, *multiparams, **params)\u001b[0m\n\u001b[1;32m    912\u001b[0m                 type(object))\n\u001b[1;32m    913\u001b[0m         \u001b[0;32melse\u001b[0m\u001b[0;34m:\u001b[0m\u001b[0;34m\u001b[0m\u001b[0m\n\u001b[0;32m--> 914\u001b[0;31m             \u001b[0;32mreturn\u001b[0m \u001b[0mmeth\u001b[0m\u001b[0;34m(\u001b[0m\u001b[0mself\u001b[0m\u001b[0;34m,\u001b[0m \u001b[0mmultiparams\u001b[0m\u001b[0;34m,\u001b[0m \u001b[0mparams\u001b[0m\u001b[0;34m)\u001b[0m\u001b[0;34m\u001b[0m\u001b[0m\n\u001b[0m\u001b[1;32m    915\u001b[0m \u001b[0;34m\u001b[0m\u001b[0m\n\u001b[1;32m    916\u001b[0m     \u001b[0;32mdef\u001b[0m \u001b[0m_execute_function\u001b[0m\u001b[0;34m(\u001b[0m\u001b[0mself\u001b[0m\u001b[0;34m,\u001b[0m \u001b[0mfunc\u001b[0m\u001b[0;34m,\u001b[0m \u001b[0mmultiparams\u001b[0m\u001b[0;34m,\u001b[0m \u001b[0mparams\u001b[0m\u001b[0;34m)\u001b[0m\u001b[0;34m:\u001b[0m\u001b[0;34m\u001b[0m\u001b[0m\n",
      "\u001b[0;32m//anaconda/lib/python3.5/site-packages/sqlalchemy/sql/elements.py\u001b[0m in \u001b[0;36m_execute_on_connection\u001b[0;34m(self, connection, multiparams, params)\u001b[0m\n\u001b[1;32m    321\u001b[0m \u001b[0;34m\u001b[0m\u001b[0m\n\u001b[1;32m    322\u001b[0m     \u001b[0;32mdef\u001b[0m \u001b[0m_execute_on_connection\u001b[0m\u001b[0;34m(\u001b[0m\u001b[0mself\u001b[0m\u001b[0;34m,\u001b[0m \u001b[0mconnection\u001b[0m\u001b[0;34m,\u001b[0m \u001b[0mmultiparams\u001b[0m\u001b[0;34m,\u001b[0m \u001b[0mparams\u001b[0m\u001b[0;34m)\u001b[0m\u001b[0;34m:\u001b[0m\u001b[0;34m\u001b[0m\u001b[0m\n\u001b[0;32m--> 323\u001b[0;31m         \u001b[0;32mreturn\u001b[0m \u001b[0mconnection\u001b[0m\u001b[0;34m.\u001b[0m\u001b[0m_execute_clauseelement\u001b[0m\u001b[0;34m(\u001b[0m\u001b[0mself\u001b[0m\u001b[0;34m,\u001b[0m \u001b[0mmultiparams\u001b[0m\u001b[0;34m,\u001b[0m \u001b[0mparams\u001b[0m\u001b[0;34m)\u001b[0m\u001b[0;34m\u001b[0m\u001b[0m\n\u001b[0m\u001b[1;32m    324\u001b[0m \u001b[0;34m\u001b[0m\u001b[0m\n\u001b[1;32m    325\u001b[0m     \u001b[0;32mdef\u001b[0m \u001b[0munique_params\u001b[0m\u001b[0;34m(\u001b[0m\u001b[0mself\u001b[0m\u001b[0;34m,\u001b[0m \u001b[0;34m*\u001b[0m\u001b[0moptionaldict\u001b[0m\u001b[0;34m,\u001b[0m \u001b[0;34m**\u001b[0m\u001b[0mkwargs\u001b[0m\u001b[0;34m)\u001b[0m\u001b[0;34m:\u001b[0m\u001b[0;34m\u001b[0m\u001b[0m\n",
      "\u001b[0;32m//anaconda/lib/python3.5/site-packages/sqlalchemy/engine/base.py\u001b[0m in \u001b[0;36m_execute_clauseelement\u001b[0;34m(self, elem, multiparams, params)\u001b[0m\n\u001b[1;32m   1008\u001b[0m             \u001b[0mcompiled_sql\u001b[0m\u001b[0;34m,\u001b[0m\u001b[0;34m\u001b[0m\u001b[0m\n\u001b[1;32m   1009\u001b[0m             \u001b[0mdistilled_params\u001b[0m\u001b[0;34m,\u001b[0m\u001b[0;34m\u001b[0m\u001b[0m\n\u001b[0;32m-> 1010\u001b[0;31m             \u001b[0mcompiled_sql\u001b[0m\u001b[0;34m,\u001b[0m \u001b[0mdistilled_params\u001b[0m\u001b[0;34m\u001b[0m\u001b[0m\n\u001b[0m\u001b[1;32m   1011\u001b[0m         )\n\u001b[1;32m   1012\u001b[0m         \u001b[0;32mif\u001b[0m \u001b[0mself\u001b[0m\u001b[0;34m.\u001b[0m\u001b[0m_has_events\u001b[0m \u001b[0;32mor\u001b[0m \u001b[0mself\u001b[0m\u001b[0;34m.\u001b[0m\u001b[0mengine\u001b[0m\u001b[0;34m.\u001b[0m\u001b[0m_has_events\u001b[0m\u001b[0;34m:\u001b[0m\u001b[0;34m\u001b[0m\u001b[0m\n",
      "\u001b[0;32m//anaconda/lib/python3.5/site-packages/sqlalchemy/engine/base.py\u001b[0m in \u001b[0;36m_execute_context\u001b[0;34m(self, dialect, constructor, statement, parameters, *args)\u001b[0m\n\u001b[1;32m   1144\u001b[0m                 \u001b[0mparameters\u001b[0m\u001b[0;34m,\u001b[0m\u001b[0;34m\u001b[0m\u001b[0m\n\u001b[1;32m   1145\u001b[0m                 \u001b[0mcursor\u001b[0m\u001b[0;34m,\u001b[0m\u001b[0;34m\u001b[0m\u001b[0m\n\u001b[0;32m-> 1146\u001b[0;31m                 context)\n\u001b[0m\u001b[1;32m   1147\u001b[0m \u001b[0;34m\u001b[0m\u001b[0m\n\u001b[1;32m   1148\u001b[0m         \u001b[0;32mif\u001b[0m \u001b[0mself\u001b[0m\u001b[0;34m.\u001b[0m\u001b[0m_has_events\u001b[0m \u001b[0;32mor\u001b[0m \u001b[0mself\u001b[0m\u001b[0;34m.\u001b[0m\u001b[0mengine\u001b[0m\u001b[0;34m.\u001b[0m\u001b[0m_has_events\u001b[0m\u001b[0;34m:\u001b[0m\u001b[0;34m\u001b[0m\u001b[0m\n",
      "\u001b[0;32m//anaconda/lib/python3.5/site-packages/sqlalchemy/engine/base.py\u001b[0m in \u001b[0;36m_handle_dbapi_exception\u001b[0;34m(self, e, statement, parameters, cursor, context)\u001b[0m\n\u001b[1;32m   1339\u001b[0m                 util.raise_from_cause(\n\u001b[1;32m   1340\u001b[0m                     \u001b[0msqlalchemy_exception\u001b[0m\u001b[0;34m,\u001b[0m\u001b[0;34m\u001b[0m\u001b[0m\n\u001b[0;32m-> 1341\u001b[0;31m                     \u001b[0mexc_info\u001b[0m\u001b[0;34m\u001b[0m\u001b[0m\n\u001b[0m\u001b[1;32m   1342\u001b[0m                 )\n\u001b[1;32m   1343\u001b[0m             \u001b[0;32melse\u001b[0m\u001b[0;34m:\u001b[0m\u001b[0;34m\u001b[0m\u001b[0m\n",
      "\u001b[0;32m//anaconda/lib/python3.5/site-packages/sqlalchemy/util/compat.py\u001b[0m in \u001b[0;36mraise_from_cause\u001b[0;34m(exception, exc_info)\u001b[0m\n\u001b[1;32m    187\u001b[0m             \u001b[0mexc_info\u001b[0m \u001b[0;34m=\u001b[0m \u001b[0msys\u001b[0m\u001b[0;34m.\u001b[0m\u001b[0mexc_info\u001b[0m\u001b[0;34m(\u001b[0m\u001b[0;34m)\u001b[0m\u001b[0;34m\u001b[0m\u001b[0m\n\u001b[1;32m    188\u001b[0m         \u001b[0mexc_type\u001b[0m\u001b[0;34m,\u001b[0m \u001b[0mexc_value\u001b[0m\u001b[0;34m,\u001b[0m \u001b[0mexc_tb\u001b[0m \u001b[0;34m=\u001b[0m \u001b[0mexc_info\u001b[0m\u001b[0;34m\u001b[0m\u001b[0m\n\u001b[0;32m--> 189\u001b[0;31m         \u001b[0mreraise\u001b[0m\u001b[0;34m(\u001b[0m\u001b[0mtype\u001b[0m\u001b[0;34m(\u001b[0m\u001b[0mexception\u001b[0m\u001b[0;34m)\u001b[0m\u001b[0;34m,\u001b[0m \u001b[0mexception\u001b[0m\u001b[0;34m,\u001b[0m \u001b[0mtb\u001b[0m\u001b[0;34m=\u001b[0m\u001b[0mexc_tb\u001b[0m\u001b[0;34m,\u001b[0m \u001b[0mcause\u001b[0m\u001b[0;34m=\u001b[0m\u001b[0mexc_value\u001b[0m\u001b[0;34m)\u001b[0m\u001b[0;34m\u001b[0m\u001b[0m\n\u001b[0m\u001b[1;32m    190\u001b[0m \u001b[0;32melse\u001b[0m\u001b[0;34m:\u001b[0m\u001b[0;34m\u001b[0m\u001b[0m\n\u001b[1;32m    191\u001b[0m     exec(\"def reraise(tp, value, tb=None, cause=None):\\n\"\n",
      "\u001b[0;32m//anaconda/lib/python3.5/site-packages/sqlalchemy/util/compat.py\u001b[0m in \u001b[0;36mreraise\u001b[0;34m(tp, value, tb, cause)\u001b[0m\n\u001b[1;32m    180\u001b[0m             \u001b[0mvalue\u001b[0m\u001b[0;34m.\u001b[0m\u001b[0m__cause__\u001b[0m \u001b[0;34m=\u001b[0m \u001b[0mcause\u001b[0m\u001b[0;34m\u001b[0m\u001b[0m\n\u001b[1;32m    181\u001b[0m         \u001b[0;32mif\u001b[0m \u001b[0mvalue\u001b[0m\u001b[0;34m.\u001b[0m\u001b[0m__traceback__\u001b[0m \u001b[0;32mis\u001b[0m \u001b[0;32mnot\u001b[0m \u001b[0mtb\u001b[0m\u001b[0;34m:\u001b[0m\u001b[0;34m\u001b[0m\u001b[0m\n\u001b[0;32m--> 182\u001b[0;31m             \u001b[0;32mraise\u001b[0m \u001b[0mvalue\u001b[0m\u001b[0;34m.\u001b[0m\u001b[0mwith_traceback\u001b[0m\u001b[0;34m(\u001b[0m\u001b[0mtb\u001b[0m\u001b[0;34m)\u001b[0m\u001b[0;34m\u001b[0m\u001b[0m\n\u001b[0m\u001b[1;32m    183\u001b[0m         \u001b[0;32mraise\u001b[0m \u001b[0mvalue\u001b[0m\u001b[0;34m\u001b[0m\u001b[0m\n\u001b[1;32m    184\u001b[0m \u001b[0;34m\u001b[0m\u001b[0m\n",
      "\u001b[0;32m//anaconda/lib/python3.5/site-packages/sqlalchemy/engine/base.py\u001b[0m in \u001b[0;36m_execute_context\u001b[0;34m(self, dialect, constructor, statement, parameters, *args)\u001b[0m\n\u001b[1;32m   1114\u001b[0m                         \u001b[0mstatement\u001b[0m\u001b[0;34m,\u001b[0m\u001b[0;34m\u001b[0m\u001b[0m\n\u001b[1;32m   1115\u001b[0m                         \u001b[0mparameters\u001b[0m\u001b[0;34m,\u001b[0m\u001b[0;34m\u001b[0m\u001b[0m\n\u001b[0;32m-> 1116\u001b[0;31m                         context)\n\u001b[0m\u001b[1;32m   1117\u001b[0m             \u001b[0;32melif\u001b[0m \u001b[0;32mnot\u001b[0m \u001b[0mparameters\u001b[0m \u001b[0;32mand\u001b[0m \u001b[0mcontext\u001b[0m\u001b[0;34m.\u001b[0m\u001b[0mno_parameters\u001b[0m\u001b[0;34m:\u001b[0m\u001b[0;34m\u001b[0m\u001b[0m\n\u001b[1;32m   1118\u001b[0m                 \u001b[0;32mif\u001b[0m \u001b[0mself\u001b[0m\u001b[0;34m.\u001b[0m\u001b[0mdialect\u001b[0m\u001b[0;34m.\u001b[0m\u001b[0m_has_events\u001b[0m\u001b[0;34m:\u001b[0m\u001b[0;34m\u001b[0m\u001b[0m\n",
      "\u001b[0;32m//anaconda/lib/python3.5/site-packages/sqlalchemy/engine/default.py\u001b[0m in \u001b[0;36mdo_executemany\u001b[0;34m(self, cursor, statement, parameters, context)\u001b[0m\n\u001b[1;32m    445\u001b[0m \u001b[0;34m\u001b[0m\u001b[0m\n\u001b[1;32m    446\u001b[0m     \u001b[0;32mdef\u001b[0m \u001b[0mdo_executemany\u001b[0m\u001b[0;34m(\u001b[0m\u001b[0mself\u001b[0m\u001b[0;34m,\u001b[0m \u001b[0mcursor\u001b[0m\u001b[0;34m,\u001b[0m \u001b[0mstatement\u001b[0m\u001b[0;34m,\u001b[0m \u001b[0mparameters\u001b[0m\u001b[0;34m,\u001b[0m \u001b[0mcontext\u001b[0m\u001b[0;34m=\u001b[0m\u001b[0;32mNone\u001b[0m\u001b[0;34m)\u001b[0m\u001b[0;34m:\u001b[0m\u001b[0;34m\u001b[0m\u001b[0m\n\u001b[0;32m--> 447\u001b[0;31m         \u001b[0mcursor\u001b[0m\u001b[0;34m.\u001b[0m\u001b[0mexecutemany\u001b[0m\u001b[0;34m(\u001b[0m\u001b[0mstatement\u001b[0m\u001b[0;34m,\u001b[0m \u001b[0mparameters\u001b[0m\u001b[0;34m)\u001b[0m\u001b[0;34m\u001b[0m\u001b[0m\n\u001b[0m\u001b[1;32m    448\u001b[0m \u001b[0;34m\u001b[0m\u001b[0m\n\u001b[1;32m    449\u001b[0m     \u001b[0;32mdef\u001b[0m \u001b[0mdo_execute\u001b[0m\u001b[0;34m(\u001b[0m\u001b[0mself\u001b[0m\u001b[0;34m,\u001b[0m \u001b[0mcursor\u001b[0m\u001b[0;34m,\u001b[0m \u001b[0mstatement\u001b[0m\u001b[0;34m,\u001b[0m \u001b[0mparameters\u001b[0m\u001b[0;34m,\u001b[0m \u001b[0mcontext\u001b[0m\u001b[0;34m=\u001b[0m\u001b[0;32mNone\u001b[0m\u001b[0;34m)\u001b[0m\u001b[0;34m:\u001b[0m\u001b[0;34m\u001b[0m\u001b[0m\n",
      "\u001b[0;31mProgrammingError\u001b[0m: (psycopg2.ProgrammingError) can't adapt type 'dict' [SQL: 'INSERT INTO json_dict_test (index, sources) VALUES (%(index)s, %(sources)s)'] [parameters: ({'sources': [{'source_name': 'El Paso Times.com', 'title': 'El Paso police officer shot and killed burglary suspect Wednesday night', 'url': 'http://www.elpasotimes.com/news/ci_28023272/el-paso-police-officer-shot-and-killed-burglary', 'type': 'NEWS'}, {'source_name': 'KVIA', 'title': 'Update: Man shot by officer after burglary has died', 'url': 'http://www.kvia.com/news/officer-shoots-burglary-suspect/32655866', 'type': 'NEWS'}], 'index': 0}, {'sources': [{'source_name': 'El Paso Times.com', 'title': 'El Paso police officer shot and killed burglary suspect Wednesday night', 'url': 'http://www.elpasotimes.com/news/ci_28023272/el-paso-police-officer-shot-and-killed-burglary', 'type': 'NEWS'}, {'source_name': 'KVIA', 'title': 'Update: Man shot by officer after burglary has died', 'url': 'http://www.kvia.com/news/officer-shoots-burglary-suspect/32655866', 'type': 'NEWS'}], 'index': 1}, {'sources': [{'source_name': 'El Paso Times.com', 'title': 'El Paso police officer shot and killed burglary suspect Wednesday night', 'url': 'http://www.elpasotimes.com/news/ci_28023272/el-paso-police-officer-shot-and-killed-burglary', 'type': 'NEWS'}, {'source_name': 'KVIA', 'title': 'Update: Man shot by officer after burglary has died', 'url': 'http://www.kvia.com/news/officer-shoots-burglary-suspect/32655866', 'type': 'NEWS'}], 'index': 2}, {'sources': [{'source_name': 'El Paso Times.com', 'title': 'El Paso police officer shot and killed burglary suspect Wednesday night', 'url': 'http://www.elpasotimes.com/news/ci_28023272/el-paso-police-officer-shot-and-killed-burglary', 'type': 'NEWS'}, {'source_name': 'KVIA', 'title': 'Update: Man shot by officer after burglary has died', 'url': 'http://www.kvia.com/news/officer-shoots-burglary-suspect/32655866', 'type': 'NEWS'}], 'index': 3}, {'sources': [{'source_name': 'El Paso Times.com', 'title': 'El Paso police officer shot and killed burglary suspect Wednesday night', 'url': 'http://www.elpasotimes.com/news/ci_28023272/el-paso-police-officer-shot-and-killed-burglary', 'type': 'NEWS'}, {'source_name': 'KVIA', 'title': 'Update: Man shot by officer after burglary has died', 'url': 'http://www.kvia.com/news/officer-shoots-burglary-suspect/32655866', 'type': 'NEWS'}], 'index': 4}, {'sources': [{'source_name': 'El Paso Times.com', 'title': 'El Paso police officer shot and killed burglary suspect Wednesday night', 'url': 'http://www.elpasotimes.com/news/ci_28023272/el-paso-police-officer-shot-and-killed-burglary', 'type': 'NEWS'}, {'source_name': 'KVIA', 'title': 'Update: Man shot by officer after burglary has died', 'url': 'http://www.kvia.com/news/officer-shoots-burglary-suspect/32655866', 'type': 'NEWS'}], 'index': 5}, {'sources': [{'source_name': 'El Paso Times.com', 'title': 'El Paso police officer shot and killed burglary suspect Wednesday night', 'url': 'http://www.elpasotimes.com/news/ci_28023272/el-paso-police-officer-shot-and-killed-burglary', 'type': 'NEWS'}, {'source_name': 'KVIA', 'title': 'Update: Man shot by officer after burglary has died', 'url': 'http://www.kvia.com/news/officer-shoots-burglary-suspect/32655866', 'type': 'NEWS'}], 'index': 6}, {'sources': [{'source_name': 'El Paso Times.com', 'title': 'El Paso police officer shot and killed burglary suspect Wednesday night', 'url': 'http://www.elpasotimes.com/news/ci_28023272/el-paso-police-officer-shot-and-killed-burglary', 'type': 'NEWS'}, {'source_name': 'KVIA', 'title': 'Update: Man shot by officer after burglary has died', 'url': 'http://www.kvia.com/news/officer-shoots-burglary-suspect/32655866', 'type': 'NEWS'}], 'index': 7}  ... displaying 10 of 5865 total bound parameter sets ...  {'sources': [{'source_name': 'KNXV', 'title': 'PD: Man shot by officers after stabbing himself', 'url': 'http://www.abc15.com/news/region-phoenix-metro/north-phoenix/pd-officer-involved-in-n-phoenix-shooting', 'type': 'NEWS'}, {'source_name': 'KNXV', 'title': 'Police identify Ken Cockerel as man who stabbed himself then threatened officers with knives', 'url': 'http://www.abc15.com/news/region-phoenix-metro/north-phoenix/police-identify-ken-cockerel-as-man-who-stabbed-himself-then-threatened-officers-with-knives', 'type': 'NEWS'}], 'index': 5863}, {'sources': [{'source_name': 'KNXV', 'title': 'PD: Man shot by officers after stabbing himself', 'url': 'http://www.abc15.com/news/region-phoenix-metro/north-phoenix/pd-officer-involved-in-n-phoenix-shooting', 'type': 'NEWS'}, {'source_name': 'KNXV', 'title': 'Police identify Ken Cockerel as man who stabbed himself then threatened officers with knives', 'url': 'http://www.abc15.com/news/region-phoenix-metro/north-phoenix/police-identify-ken-cockerel-as-man-who-stabbed-himself-then-threatened-officers-with-knives', 'type': 'NEWS'}], 'index': 5864})]"
     ]
    }
   ],
   "source": [
    "sources.to_sql(\"json_dict_test\", flavor='postgresql', con=cnx, if_exists=\"replace\")\n",
    "print(cnx.table_names())"
   ]
  }
 ],
 "metadata": {
  "kernelspec": {
   "display_name": "Python 3",
   "language": "python",
   "name": "python3"
  },
  "language_info": {
   "codemirror_mode": {
    "name": "ipython",
    "version": 3
   },
   "file_extension": ".py",
   "mimetype": "text/x-python",
   "name": "python",
   "nbconvert_exporter": "python",
   "pygments_lexer": "ipython3",
   "version": "3.5.2"
  }
 },
 "nbformat": 4,
 "nbformat_minor": 0
}
