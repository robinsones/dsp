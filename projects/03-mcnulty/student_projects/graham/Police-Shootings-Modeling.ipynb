{
 "cells": [
  {
   "cell_type": "code",
   "execution_count": 6,
   "metadata": {
    "collapsed": true
   },
   "outputs": [],
   "source": [
    "import pandas as pd\n",
    "import pickle\n",
    "import numpy as np\n",
    "from time import time\n",
    "from operator import itemgetter\n",
    "from scipy.stats import randint as sp_randint\n",
    "\n",
    "from sklearn.grid_search import GridSearchCV, RandomizedSearchCV\n",
    "from sklearn.datasets import load_digits\n",
    "from sklearn.ensemble import RandomForestClassifier\n",
    "from sklearn.cross_validation import StratifiedKFold\n",
    "from sklearn import datasets\n",
    "from sklearn.cross_validation import train_test_split\n",
    "from sklearn.metrics import classification_report\n",
    "\n",
    "from patsy import dmatrices\n",
    "\n",
    "%matplotlib inline\n"
   ]
  },
  {
   "cell_type": "markdown",
   "metadata": {},
   "source": [
    "### Loading Datafame created in Police Shootings- Cleaning Data Notebook"
   ]
  },
  {
   "cell_type": "code",
   "execution_count": 3,
   "metadata": {
    "collapsed": false
   },
   "outputs": [],
   "source": [
    "df_dsmpl = pickle.load(open('df_dsmpl_orginal_charged_50.p', 'rb'))"
   ]
  },
  {
   "cell_type": "markdown",
   "metadata": {},
   "source": [
    "### Random Forest Grid Search"
   ]
  },
  {
   "cell_type": "code",
   "execution_count": 4,
   "metadata": {
    "collapsed": false
   },
   "outputs": [
    {
     "name": "stdout",
     "output_type": "stream",
     "text": [
      "RandomizedSearchCV took 2.56 seconds for 20 candidates parameter settings.\n",
      "Model with rank: 1\n",
      "Mean validation score: 0.388 (std: 0.196)\n",
      "Parameters: {'bootstrap': True, 'min_samples_split': 6, 'max_depth': None, 'max_features': 10, 'min_samples_leaf': 1, 'criterion': 'entropy'}\n",
      "\n",
      "Model with rank: 2\n",
      "Mean validation score: 0.084 (std: 0.118)\n",
      "Parameters: {'bootstrap': False, 'min_samples_split': 10, 'max_depth': None, 'max_features': 8, 'min_samples_leaf': 2, 'criterion': 'entropy'}\n",
      "\n",
      "Model with rank: 3\n",
      "Mean validation score: 0.000 (std: 0.000)\n",
      "Parameters: {'bootstrap': False, 'min_samples_split': 5, 'max_depth': 3, 'max_features': 7, 'min_samples_leaf': 4, 'criterion': 'entropy'}\n",
      "\n",
      "GridSearchCV took 35.26 seconds for 216 candidate parameter settings.\n",
      "Model with rank: 1\n",
      "Mean validation score: 0.541 (std: 0.138)\n",
      "Parameters: {'bootstrap': True, 'min_samples_split': 1, 'max_depth': None, 'max_features': 1, 'min_samples_leaf': 1, 'criterion': 'gini'}\n",
      "\n",
      "Model with rank: 2\n",
      "Mean validation score: 0.541 (std: 0.138)\n",
      "Parameters: {'bootstrap': True, 'min_samples_split': 3, 'max_depth': None, 'max_features': 1, 'min_samples_leaf': 1, 'criterion': 'gini'}\n",
      "\n",
      "Model with rank: 3\n",
      "Mean validation score: 0.541 (std: 0.138)\n",
      "Parameters: {'bootstrap': True, 'min_samples_split': 1, 'max_depth': None, 'max_features': 3, 'min_samples_leaf': 1, 'criterion': 'gini'}\n",
      "\n"
     ]
    }
   ],
   "source": [
    "y,X=dmatrices('charged_bool ~ manner_of_death + armed + age + gender + race +\\\n",
    "                city + state + signs_of_mental_illness + threat_level + flee + body_camera',\n",
    "                data = df_dsmpl, return_type='dataframe')\n",
    "\n",
    "\n",
    "# Split the dataset in four equal parts\n",
    "X_train, X_test, y_train, y_test = train_test_split(\n",
    "    X, np.ravel(y), test_size=0.25, random_state=0)\n",
    "\n",
    "\n",
    "# build a classifier\n",
    "clf = RandomForestClassifier(n_estimators=20)\n",
    "\n",
    "\n",
    "# Utility function to report best scores\n",
    "def report(grid_scores, n_top=3):\n",
    "    top_scores = sorted(grid_scores, key=itemgetter(1), reverse=True)[:n_top]\n",
    "    for i, score in enumerate(top_scores):\n",
    "        print(\"Model with rank: {0}\".format(i + 1))\n",
    "        print(\"Mean validation score: {0:.3f} (std: {1:.3f})\".format(\n",
    "              score.mean_validation_score,\n",
    "              np.std(score.cv_validation_scores)))\n",
    "        print(\"Parameters: {0}\".format(score.parameters))\n",
    "        print(\"\")\n",
    "\n",
    "\n",
    "# specify parameters and distributions to sample from\n",
    "param_dist = {\"max_depth\": [3, None],\n",
    "              \"max_features\": sp_randint(1, 11),\n",
    "              \"min_samples_split\": sp_randint(1, 11),\n",
    "              \"min_samples_leaf\": sp_randint(1, 11),\n",
    "              \"bootstrap\": [True, False],\n",
    "              \"criterion\": [\"gini\", \"entropy\"]}\n",
    "\n",
    "# run randomized search\n",
    "n_iter_search = 20\n",
    "\n",
    "random_search = RandomizedSearchCV(clf, param_distributions=param_dist, scoring = 'recall',\n",
    "                                   n_iter=n_iter_search)\n",
    "\n",
    "start = time()\n",
    "random_search.fit(X, np.ravel(y))\n",
    "print(\"RandomizedSearchCV took %.2f seconds for %d candidates\"\n",
    "      \" parameter settings.\" % ((time() - start), n_iter_search))\n",
    "report(random_search.grid_scores_)\n",
    "\n",
    "# use a full grid over all parameters\n",
    "param_grid = {\"max_depth\": [3, None],\n",
    "              \"max_features\": [1, 3, 10],\n",
    "              \"min_samples_split\": [1, 3, 10],\n",
    "              \"min_samples_leaf\": [1, 3, 10],\n",
    "              \"bootstrap\": [True, False],\n",
    "              \"criterion\": [\"gini\", \"entropy\"]}\n",
    "\n",
    "# run grid search\n",
    "grid_search = GridSearchCV(clf, param_grid=param_grid, scoring= 'recall', cv =StratifiedKFold(np.ravel(y), n_folds=4))\n",
    "start = time()\n",
    "grid_search.fit(X, np.ravel(y))\n",
    "\n",
    "print(\"GridSearchCV took %.2f seconds for %d candidate parameter settings.\"\n",
    "      % (time() - start, len(grid_search.grid_scores_)))\n",
    "report(grid_search.grid_scores_)"
   ]
  },
  {
   "cell_type": "code",
   "execution_count": 7,
   "metadata": {
    "collapsed": false
   },
   "outputs": [
    {
     "data": {
      "image/png": "[encoded data removed]",
      "text/plain": [
       "<matplotlib.figure.Figure at 0x1151afe80>"
      ]
     },
     "metadata": {},
     "output_type": "display_data"
    }
   ],
   "source": [
    "import seaborn as sns\n",
    "\n",
    "\n",
    "\n",
    "clf = RandomForestClassifier(n_estimators=100, criterion='entropy',\\\n",
    "                             max_depth=None, bootstrap=True, min_samples_split=1, \n",
    "                             oob_score=True, min_samples_leaf=1)\n",
    "clf = clf.fit(X, np.ravel(y))\n",
    "clf.score(X, np.ravel(y))\n",
    "\n",
    "\n",
    "features = X.columns\n",
    "feature_importance = clf.feature_importances_\n",
    "importance_df = pd.DataFrame({'Features': features, 'Importance': feature_importance})\n",
    "importance_df.sort_values('Importance', inplace = True, ascending = False)\n",
    "\n",
    "importance_df.sort_values\n",
    "\n",
    "# Plotting the Graph\n",
    "g = sns.barplot(x = \"Importance\", y = \"Features\", data = importance_df.head(20), orient = \"h\")\n",
    "g.figure.set_size_inches(15,10)"
   ]
  }
 ],
 "metadata": {
  "kernelspec": {
   "display_name": "Python 3",
   "language": "python",
   "name": "python3"
  },
  "language_info": {
   "codemirror_mode": {
    "name": "ipython",
    "version": 3
   },
   "file_extension": ".py",
   "mimetype": "text/x-python",
   "name": "python",
   "nbconvert_exporter": "python",
   "pygments_lexer": "ipython3",
   "version": "3.5.2"
  }
 },
 "nbformat": 4,
 "nbformat_minor": 0
}
