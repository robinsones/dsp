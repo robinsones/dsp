{
 "cells": [
  {
   "cell_type": "markdown",
   "metadata": {},
   "source": [
    "The purpose of the project is to try and predict the probability of NFL success for a quarterback. The definition of success is three or more years on an NFL roster.  There will be two techniques used in this project: Logistic Regression, and Random Forests.\n",
    "\n",
    "The regression will be based on the following explanatory variables:\n",
    "\n",
    "a. The number of college games started-A quarterback that is an NFL prospect should be the starting quarterback on the team and; therefore, should be playing in more games.  This will give the player more game experience and should make him a better player.  \n",
    "\n",
    "b. The pass completion percentage-This is the number of passes completed per the number of pass attempts.  This metric accounts for the number of number of pass attempts made each game.  This is important since the number of passes attempted will differ depending on the opponent and on the type of offensive system used by each quarterback.  Some teams rely more on the pass than others.  In addition, the % completion is a measure of quarterback accuracy.  \n",
    "\n",
    "c. Yards per Attempt-This measures the number of yards gained on a completed forward pass per pass attempt.  A high yds./attempt number suggest that more long passes are being thrown than short passes by a quarterback.  \n",
    "\n",
    "d. Passer Efficiency Rating-  This is a measure of quarterback efficiency and is given by the following formula:  \n",
    "\n",
    "$$Eff= \\frac {8.4(Yds Gained) + 330 (Num Touchdowns) +100(Pct. Comp) -200(Num Interceptions)}{Num Pass Attempts}$$  \n",
    "\n",
    "e. Touchdown to Interception Ratio-This measures the decision making ability of a QB since a low TD/INT ratio suggests that a quarterback has a problem reading opponents defensive coverage schemes.  \n",
    "\n",
    "f. Passing Yards per Game- A measure of passing success in a game.  Usually, a quarterback that throws for a high number of yards per game wins more games than he loses.  Additionally, this is indicative of good decision making as well.  \n",
    "\n",
    "g. Touchdowns per Attempt-A measure normalizing the number of touchdowns thrown in a season by the number of passes attempted.  \n",
    "\n",
    "h. Interceptions per attempt- A measure normalizing the number of interceptions thrown in a season by the number of passes attempted."
   ]
  },
  {
   "cell_type": "code",
   "execution_count": 1,
   "metadata": {
    "collapsed": false
   },
   "outputs": [],
   "source": [
    "import pandas as pd\n",
    "import numpy as np\n",
    "import statsmodels.api as sm\n",
    "import matplotlib.pyplot as plt\n",
    "import seaborn as sn\n",
    "from statsmodels.formula.api import logit, glm\n",
    "from sklearn.cross_validation import train_test_split\n",
    "import sklearn\n",
    "%matplotlib inline\n",
    "\n",
    "QB0005 = pd.read_csv('/home/brianc/McNulty Project/Data/PassingStats20002005.csv')\n",
    "QB0611 = pd.read_csv('/home/brianc/McNulty Project/Data/PassingStats20062011.csv')\n",
    "QB0005.rename(columns={'TotGames':'Games'}, inplace=True)\n",
    "QB0611['CompPct']=QB0611['TotComp']/QB0611['TotAtt']\n",
    "QB0611 = QB0611[['Last','First','Games','TotAtt','TotComp','TotYds','TotTD','TotInt','PassRt','CompPct','YPAtt','TDPAtt','IntPAtt','YPGm','TDPInt','yr3NFLVet']]\n",
    "QBall = pd.concat([QB0005,QB0611],axis = 0)\n",
    "QBall.sort_values(by=['Last','First'])\n",
    "QBall= QBall.reset_index()\n",
    "del QBall['index']\n",
    "train = QBall.sample(frac=0.8, random_state=1)\n",
    "test = QBall.loc[~QBall.index.isin(train.index)]"
   ]
  },
  {
   "cell_type": "markdown",
   "metadata": {},
   "source": [
    "## Exploratory Data Analysis"
   ]
  },
  {
   "cell_type": "markdown",
   "metadata": {},
   "source": [
    "## One Parameter Analysis"
   ]
  },
  {
   "cell_type": "code",
   "execution_count": 2,
   "metadata": {
    "collapsed": false
   },
   "outputs": [
    {
     "name": "stdout",
     "output_type": "stream",
     "text": [
      "                 Generalized Linear Model Regression Results                  \n",
      "==============================================================================\n",
      "Dep. Variable:              yr3NFLVet   No. Observations:                  563\n",
      "Model:                            GLM   Df Residuals:                      561\n",
      "Model Family:                Binomial   Df Model:                            1\n",
      "Link Function:                  logit   Scale:                             1.0\n",
      "Method:                          IRLS   Log-Likelihood:                -214.20\n",
      "Date:                Thu, 28 Jul 2016   Deviance:                       428.40\n",
      "Time:                        16:51:55   Pearson chi2:                     552.\n",
      "No. Iterations:                     7                                         \n",
      "==============================================================================\n",
      "                 coef    std err          z      P>|z|      [95.0% Conf. Int.]\n",
      "------------------------------------------------------------------------------\n",
      "Intercept     -2.7953      0.272    -10.273      0.000        -3.329    -2.262\n",
      "Games          0.0428      0.010      4.231      0.000         0.023     0.063\n",
      "==============================================================================\n"
     ]
    }
   ],
   "source": [
    "QBallMod1 = glm('yr3NFLVet ~ Games', data= train,family = sm.families.Binomial(sm.families.links.logit)).fit()\n",
    "print(QBallMod1.summary())     "
   ]
  },
  {
   "cell_type": "code",
   "execution_count": 3,
   "metadata": {
    "collapsed": false
   },
   "outputs": [
    {
     "name": "stdout",
     "output_type": "stream",
     "text": [
      "                 Generalized Linear Model Regression Results                  \n",
      "==============================================================================\n",
      "Dep. Variable:              yr3NFLVet   No. Observations:                  563\n",
      "Model:                            GLM   Df Residuals:                      561\n",
      "Model Family:                Binomial   Df Model:                            1\n",
      "Link Function:                  logit   Scale:                             1.0\n",
      "Method:                          IRLS   Log-Likelihood:                -204.83\n",
      "Date:                Thu, 28 Jul 2016   Deviance:                       409.66\n",
      "Time:                        16:51:56   Pearson chi2:                     577.\n",
      "No. Iterations:                     8                                         \n",
      "==============================================================================\n",
      "                 coef    std err          z      P>|z|      [95.0% Conf. Int.]\n",
      "------------------------------------------------------------------------------\n",
      "Intercept     -2.9292      0.271    -10.828      0.000        -3.459    -2.399\n",
      "CompPct        0.0289      0.005      5.399      0.000         0.018     0.039\n",
      "==============================================================================\n"
     ]
    }
   ],
   "source": [
    "QBallMod1 = glm('yr3NFLVet ~ CompPct', data= train,family = sm.families.Binomial(sm.families.links.logit)).fit()\n",
    "print(QBallMod1.summary()) "
   ]
  },
  {
   "cell_type": "code",
   "execution_count": 4,
   "metadata": {
    "collapsed": false
   },
   "outputs": [
    {
     "name": "stdout",
     "output_type": "stream",
     "text": [
      "                 Generalized Linear Model Regression Results                  \n",
      "==============================================================================\n",
      "Dep. Variable:              yr3NFLVet   No. Observations:                  563\n",
      "Model:                            GLM   Df Residuals:                      561\n",
      "Model Family:                Binomial   Df Model:                            1\n",
      "Link Function:                  logit   Scale:                             1.0\n",
      "Method:                          IRLS   Log-Likelihood:                -212.50\n",
      "Date:                Thu, 28 Jul 2016   Deviance:                       424.99\n",
      "Time:                        16:51:57   Pearson chi2:                     537.\n",
      "No. Iterations:                     7                                         \n",
      "==============================================================================\n",
      "                 coef    std err          z      P>|z|      [95.0% Conf. Int.]\n",
      "------------------------------------------------------------------------------\n",
      "Intercept     -6.1894      1.014     -6.104      0.000        -8.177    -4.202\n",
      "YPAtt          0.5909      0.134      4.396      0.000         0.327     0.854\n",
      "==============================================================================\n"
     ]
    }
   ],
   "source": [
    "QBallMod1 = glm('yr3NFLVet ~ YPAtt', data= train,family = sm.families.Binomial(sm.families.links.logit)).fit()\n",
    "print(QBallMod1.summary()) "
   ]
  },
  {
   "cell_type": "code",
   "execution_count": 5,
   "metadata": {
    "collapsed": false
   },
   "outputs": [
    {
     "name": "stdout",
     "output_type": "stream",
     "text": [
      "                 Generalized Linear Model Regression Results                  \n",
      "==============================================================================\n",
      "Dep. Variable:              yr3NFLVet   No. Observations:                  563\n",
      "Model:                            GLM   Df Residuals:                      561\n",
      "Model Family:                Binomial   Df Model:                            1\n",
      "Link Function:                  logit   Scale:                             1.0\n",
      "Method:                          IRLS   Log-Likelihood:                -209.43\n",
      "Date:                Thu, 28 Jul 2016   Deviance:                       418.86\n",
      "Time:                        16:51:57   Pearson chi2:                     547.\n",
      "No. Iterations:                     7                                         \n",
      "==============================================================================\n",
      "                 coef    std err          z      P>|z|      [95.0% Conf. Int.]\n",
      "------------------------------------------------------------------------------\n",
      "Intercept     -7.1125      1.075     -6.619      0.000        -9.219    -5.006\n",
      "PassRt         0.0399      0.008      5.049      0.000         0.024     0.055\n",
      "==============================================================================\n"
     ]
    }
   ],
   "source": [
    "QBallMod1 = glm('yr3NFLVet ~ PassRt', data= train,family = sm.families.Binomial(sm.families.links.logit)).fit()\n",
    "print(QBallMod1.summary()) "
   ]
  },
  {
   "cell_type": "code",
   "execution_count": 6,
   "metadata": {
    "collapsed": false
   },
   "outputs": [
    {
     "name": "stdout",
     "output_type": "stream",
     "text": [
      "                 Generalized Linear Model Regression Results                  \n",
      "==============================================================================\n",
      "Dep. Variable:              yr3NFLVet   No. Observations:                  563\n",
      "Model:                            GLM   Df Residuals:                      561\n",
      "Model Family:                Binomial   Df Model:                            1\n",
      "Link Function:                  logit   Scale:                             1.0\n",
      "Method:                          IRLS   Log-Likelihood:                -209.86\n",
      "Date:                Thu, 28 Jul 2016   Deviance:                       419.72\n",
      "Time:                        16:51:58   Pearson chi2:                     540.\n",
      "No. Iterations:                     7                                         \n",
      "==============================================================================\n",
      "                 coef    std err          z      P>|z|      [95.0% Conf. Int.]\n",
      "------------------------------------------------------------------------------\n",
      "Intercept     -2.9637      0.270    -10.958      0.000        -3.494    -2.434\n",
      "TDPInt         0.5739      0.115      4.986      0.000         0.348     0.800\n",
      "==============================================================================\n"
     ]
    }
   ],
   "source": [
    "QBallMod1 = glm('yr3NFLVet ~ TDPInt', data= train,family = sm.families.Binomial(sm.families.links.logit)).fit()\n",
    "print(QBallMod1.summary()) "
   ]
  },
  {
   "cell_type": "code",
   "execution_count": 7,
   "metadata": {
    "collapsed": false
   },
   "outputs": [
    {
     "name": "stdout",
     "output_type": "stream",
     "text": [
      "                 Generalized Linear Model Regression Results                  \n",
      "==============================================================================\n",
      "Dep. Variable:              yr3NFLVet   No. Observations:                  563\n",
      "Model:                            GLM   Df Residuals:                      561\n",
      "Model Family:                Binomial   Df Model:                            1\n",
      "Link Function:                  logit   Scale:                             1.0\n",
      "Method:                          IRLS   Log-Likelihood:                -203.89\n",
      "Date:                Thu, 28 Jul 2016   Deviance:                       407.78\n",
      "Time:                        16:51:59   Pearson chi2:                     527.\n",
      "No. Iterations:                     7                                         \n",
      "==============================================================================\n",
      "                 coef    std err          z      P>|z|      [95.0% Conf. Int.]\n",
      "------------------------------------------------------------------------------\n",
      "Intercept     -4.8714      0.550     -8.857      0.000        -5.949    -3.793\n",
      "YPGm           0.0142      0.002      5.948      0.000         0.009     0.019\n",
      "==============================================================================\n"
     ]
    }
   ],
   "source": [
    "QBallMod1 = glm('yr3NFLVet ~ YPGm', data= train,family = sm.families.Binomial(sm.families.links.logit)).fit()\n",
    "print(QBallMod1.summary()) "
   ]
  },
  {
   "cell_type": "code",
   "execution_count": 8,
   "metadata": {
    "collapsed": false
   },
   "outputs": [
    {
     "name": "stdout",
     "output_type": "stream",
     "text": [
      "                 Generalized Linear Model Regression Results                  \n",
      "==============================================================================\n",
      "Dep. Variable:              yr3NFLVet   No. Observations:                  563\n",
      "Model:                            GLM   Df Residuals:                      561\n",
      "Model Family:                Binomial   Df Model:                            1\n",
      "Link Function:                  logit   Scale:                             1.0\n",
      "Method:                          IRLS   Log-Likelihood:                -215.64\n",
      "Date:                Thu, 28 Jul 2016   Deviance:                       431.27\n",
      "Time:                        16:51:59   Pearson chi2:                     551.\n",
      "No. Iterations:                     7                                         \n",
      "==============================================================================\n",
      "                 coef    std err          z      P>|z|      [95.0% Conf. Int.]\n",
      "------------------------------------------------------------------------------\n",
      "Intercept     -3.2891      0.416     -7.910      0.000        -4.104    -2.474\n",
      "TDPAtt        27.6726      7.300      3.791      0.000        13.364    41.981\n",
      "==============================================================================\n"
     ]
    }
   ],
   "source": [
    "QBallMod1 = glm('yr3NFLVet ~ TDPAtt', data= train,family = sm.families.Binomial(sm.families.links.logit)).fit()\n",
    "print(QBallMod1.summary()) "
   ]
  },
  {
   "cell_type": "code",
   "execution_count": 9,
   "metadata": {
    "collapsed": false
   },
   "outputs": [
    {
     "name": "stdout",
     "output_type": "stream",
     "text": [
      "                 Generalized Linear Model Regression Results                  \n",
      "==============================================================================\n",
      "Dep. Variable:              yr3NFLVet   No. Observations:                  563\n",
      "Model:                            GLM   Df Residuals:                      561\n",
      "Model Family:                Binomial   Df Model:                            1\n",
      "Link Function:                  logit   Scale:                             1.0\n",
      "Method:                          IRLS   Log-Likelihood:                -213.72\n",
      "Date:                Thu, 28 Jul 2016   Deviance:                       427.44\n",
      "Time:                        16:52:12   Pearson chi2:                     551.\n",
      "No. Iterations:                     7                                         \n",
      "==============================================================================\n",
      "                 coef    std err          z      P>|z|      [95.0% Conf. Int.]\n",
      "------------------------------------------------------------------------------\n",
      "Intercept     -0.1698      0.416     -0.408      0.683        -0.986     0.646\n",
      "IntPAtt      -56.8745     14.254     -3.990      0.000       -84.812   -28.938\n",
      "==============================================================================\n"
     ]
    }
   ],
   "source": [
    "QBallMod1 = glm('yr3NFLVet ~ IntPAtt', data= train,family = sm.families.Binomial(sm.families.links.logit)).fit()\n",
    "print(QBallMod1.summary()) "
   ]
  },
  {
   "cell_type": "markdown",
   "metadata": {},
   "source": [
    "## Variable Reduction"
   ]
  },
  {
   "cell_type": "code",
   "execution_count": 2,
   "metadata": {
    "collapsed": false
   },
   "outputs": [
    {
     "name": "stdout",
     "output_type": "stream",
     "text": [
      "                 Generalized Linear Model Regression Results                  \n",
      "==============================================================================\n",
      "Dep. Variable:              yr3NFLVet   No. Observations:                  563\n",
      "Model:                            GLM   Df Residuals:                      554\n",
      "Model Family:                Binomial   Df Model:                            8\n",
      "Link Function:                  logit   Scale:                             1.0\n",
      "Method:                          IRLS   Log-Likelihood:                -173.96\n",
      "Date:                Thu, 28 Jul 2016   Deviance:                       347.91\n",
      "Time:                        16:57:20   Pearson chi2:                     540.\n",
      "No. Iterations:                     8                                         \n",
      "==============================================================================\n",
      "                 coef    std err          z      P>|z|      [95.0% Conf. Int.]\n",
      "------------------------------------------------------------------------------\n",
      "Intercept     -7.5961      2.138     -3.553      0.000       -11.787    -3.405\n",
      "Games          0.0285      0.012      2.393      0.017         0.005     0.052\n",
      "CompPct        0.0336      0.006      5.991      0.000         0.023     0.045\n",
      "YPAtt          0.1452      0.332      0.438      0.662        -0.505     0.795\n",
      "PassRt         0.0073      0.027      0.273      0.785        -0.045     0.060\n",
      "TDPInt         0.2602      0.305      0.853      0.393        -0.337     0.858\n",
      "YPGm           0.0097      0.003      3.095      0.002         0.004     0.016\n",
      "TDPAtt        -4.0837     18.736     -0.218      0.827       -40.806    32.639\n",
      "IntPAtt      -17.3408     25.916     -0.669      0.503       -68.135    33.454\n",
      "==============================================================================\n"
     ]
    }
   ],
   "source": [
    "QBallMod1 = glm('yr3NFLVet ~ Games+CompPct+YPAtt+PassRt+TDPInt+YPGm+TDPAtt+IntPAtt', data= train,family = sm.families.Binomial(sm.families.links.logit)).fit()\n",
    "print(QBallMod1.summary()) "
   ]
  },
  {
   "cell_type": "code",
   "execution_count": 3,
   "metadata": {
    "collapsed": false
   },
   "outputs": [
    {
     "data": {
      "text/html": [
       "<div>\n",
       "<table border=\"1\" class=\"dataframe\">\n",
       "  <thead>\n",
       "    <tr style=\"text-align: right;\">\n",
       "      <th></th>\n",
       "      <th>Intercept</th>\n",
       "      <th>Games</th>\n",
       "      <th>CompPct</th>\n",
       "      <th>YPAtt</th>\n",
       "      <th>PassRt</th>\n",
       "      <th>TDPInt</th>\n",
       "      <th>YPGm</th>\n",
       "      <th>TDPAtt</th>\n",
       "      <th>IntPAtt</th>\n",
       "    </tr>\n",
       "  </thead>\n",
       "  <tbody>\n",
       "    <tr>\n",
       "      <th>402</th>\n",
       "      <td>1.0</td>\n",
       "      <td>21.0</td>\n",
       "      <td>0.596947</td>\n",
       "      <td>7.39</td>\n",
       "      <td>135.12</td>\n",
       "      <td>1.71</td>\n",
       "      <td>230.57</td>\n",
       "      <td>0.06</td>\n",
       "      <td>0.04</td>\n",
       "    </tr>\n",
       "    <tr>\n",
       "      <th>422</th>\n",
       "      <td>1.0</td>\n",
       "      <td>39.0</td>\n",
       "      <td>0.603740</td>\n",
       "      <td>8.22</td>\n",
       "      <td>147.26</td>\n",
       "      <td>3.36</td>\n",
       "      <td>236.74</td>\n",
       "      <td>0.07</td>\n",
       "      <td>0.02</td>\n",
       "    </tr>\n",
       "    <tr>\n",
       "      <th>331</th>\n",
       "      <td>1.0</td>\n",
       "      <td>11.0</td>\n",
       "      <td>50.530000</td>\n",
       "      <td>8.19</td>\n",
       "      <td>131.41</td>\n",
       "      <td>1.55</td>\n",
       "      <td>210.82</td>\n",
       "      <td>0.06</td>\n",
       "      <td>0.04</td>\n",
       "    </tr>\n",
       "    <tr>\n",
       "      <th>189</th>\n",
       "      <td>1.0</td>\n",
       "      <td>11.0</td>\n",
       "      <td>56.100000</td>\n",
       "      <td>7.76</td>\n",
       "      <td>125.48</td>\n",
       "      <td>1.00</td>\n",
       "      <td>173.45</td>\n",
       "      <td>0.03</td>\n",
       "      <td>0.03</td>\n",
       "    </tr>\n",
       "    <tr>\n",
       "      <th>185</th>\n",
       "      <td>1.0</td>\n",
       "      <td>9.0</td>\n",
       "      <td>50.880000</td>\n",
       "      <td>5.65</td>\n",
       "      <td>100.60</td>\n",
       "      <td>0.75</td>\n",
       "      <td>107.44</td>\n",
       "      <td>0.04</td>\n",
       "      <td>0.05</td>\n",
       "    </tr>\n",
       "  </tbody>\n",
       "</table>\n",
       "</div>"
      ],
      "text/plain": [
       "     Intercept  Games    CompPct  YPAtt  PassRt  TDPInt    YPGm  TDPAtt  \\\n",
       "402        1.0   21.0   0.596947   7.39  135.12    1.71  230.57    0.06   \n",
       "422        1.0   39.0   0.603740   8.22  147.26    3.36  236.74    0.07   \n",
       "331        1.0   11.0  50.530000   8.19  131.41    1.55  210.82    0.06   \n",
       "189        1.0   11.0  56.100000   7.76  125.48    1.00  173.45    0.03   \n",
       "185        1.0    9.0  50.880000   5.65  100.60    0.75  107.44    0.04   \n",
       "\n",
       "     IntPAtt  \n",
       "402     0.04  \n",
       "422     0.02  \n",
       "331     0.04  \n",
       "189     0.03  \n",
       "185     0.05  "
      ]
     },
     "execution_count": 3,
     "metadata": {},
     "output_type": "execute_result"
    }
   ],
   "source": [
    "#train\n",
    "from patsy import dmatrices\n",
    "y,X = dmatrices('yr3NFLVet ~ Games+CompPct+YPAtt+PassRt+TDPInt+YPGm+TDPAtt+IntPAtt',data= train,return_type='dataframe')\n",
    "X.head()\n"
   ]
  },
  {
   "cell_type": "code",
   "execution_count": 32,
   "metadata": {
    "collapsed": false
   },
   "outputs": [
    {
     "data": {
      "text/plain": [
       "array([1, 2, 3, 5, 4, 1, 6, 1, 1])"
      ]
     },
     "execution_count": 32,
     "metadata": {},
     "output_type": "execute_result"
    }
   ],
   "source": [
    "from sklearn.feature_selection import RFE\n",
    "from sklearn.linear_model import LogisticRegression\n",
    "estimator = LogisticRegression(C = 0.5)\n",
    "selector = RFE(estimator,None,step = 1)\n",
    "selector = selector.fit(X,np.ravel(y))\n",
    "selector.support_\n",
    "selector.ranking_"
   ]
  },
  {
   "cell_type": "code",
   "execution_count": 33,
   "metadata": {
    "collapsed": false
   },
   "outputs": [
    {
     "name": "stdout",
     "output_type": "stream",
     "text": [
      "Index(['Intercept', 'TDPInt', 'TDPAtt', 'IntPAtt'], dtype='object')\n"
     ]
    }
   ],
   "source": [
    "select=selector.get_support()\n",
    "test=X.columns[select]\n",
    "print(test) "
   ]
  },
  {
   "cell_type": "code",
   "execution_count": 27,
   "metadata": {
    "collapsed": false
   },
   "outputs": [
    {
     "data": {
      "text/plain": [
       "{'estimator': LogisticRegression(C=0.5, class_weight=None, dual=False, fit_intercept=True,\n",
       "           intercept_scaling=1, max_iter=100, multi_class='ovr', n_jobs=1,\n",
       "           penalty='l2', random_state=None, solver='liblinear', tol=0.0001,\n",
       "           verbose=0, warm_start=False),\n",
       " 'estimator__C': 0.5,\n",
       " 'estimator__class_weight': None,\n",
       " 'estimator__dual': False,\n",
       " 'estimator__fit_intercept': True,\n",
       " 'estimator__intercept_scaling': 1,\n",
       " 'estimator__max_iter': 100,\n",
       " 'estimator__multi_class': 'ovr',\n",
       " 'estimator__n_jobs': 1,\n",
       " 'estimator__penalty': 'l2',\n",
       " 'estimator__random_state': None,\n",
       " 'estimator__solver': 'liblinear',\n",
       " 'estimator__tol': 0.0001,\n",
       " 'estimator__verbose': 0,\n",
       " 'estimator__warm_start': False,\n",
       " 'estimator_params': None,\n",
       " 'n_features_to_select': 6,\n",
       " 'step': 1,\n",
       " 'verbose': 0}"
      ]
     },
     "execution_count": 27,
     "metadata": {},
     "output_type": "execute_result"
    }
   ],
   "source": [
    "selector.get_params()"
   ]
  },
  {
   "cell_type": "code",
   "execution_count": null,
   "metadata": {
    "collapsed": true
   },
   "outputs": [],
   "source": []
  },
  {
   "cell_type": "code",
   "execution_count": 31,
   "metadata": {
    "collapsed": false
   },
   "outputs": [
    {
     "data": {
      "text/html": [
       "<div>\n",
       "<table border=\"1\" class=\"dataframe\">\n",
       "  <thead>\n",
       "    <tr style=\"text-align: right;\">\n",
       "      <th></th>\n",
       "      <th>yr3NFLVet</th>\n",
       "    </tr>\n",
       "  </thead>\n",
       "  <tbody>\n",
       "    <tr>\n",
       "      <th>count</th>\n",
       "      <td>563.000000</td>\n",
       "    </tr>\n",
       "    <tr>\n",
       "      <th>mean</th>\n",
       "      <td>0.134991</td>\n",
       "    </tr>\n",
       "    <tr>\n",
       "      <th>std</th>\n",
       "      <td>0.342018</td>\n",
       "    </tr>\n",
       "    <tr>\n",
       "      <th>min</th>\n",
       "      <td>0.000000</td>\n",
       "    </tr>\n",
       "    <tr>\n",
       "      <th>25%</th>\n",
       "      <td>0.000000</td>\n",
       "    </tr>\n",
       "    <tr>\n",
       "      <th>50%</th>\n",
       "      <td>0.000000</td>\n",
       "    </tr>\n",
       "    <tr>\n",
       "      <th>75%</th>\n",
       "      <td>0.000000</td>\n",
       "    </tr>\n",
       "    <tr>\n",
       "      <th>max</th>\n",
       "      <td>1.000000</td>\n",
       "    </tr>\n",
       "  </tbody>\n",
       "</table>\n",
       "</div>"
      ],
      "text/plain": [
       "        yr3NFLVet\n",
       "count  563.000000\n",
       "mean     0.134991\n",
       "std      0.342018\n",
       "min      0.000000\n",
       "25%      0.000000\n",
       "50%      0.000000\n",
       "75%      0.000000\n",
       "max      1.000000"
      ]
     },
     "execution_count": 31,
     "metadata": {},
     "output_type": "execute_result"
    }
   ],
   "source": []
  },
  {
   "cell_type": "code",
   "execution_count": 29,
   "metadata": {
    "collapsed": false
   },
   "outputs": [
    {
     "data": {
      "text/plain": [
       "(563, 1)"
      ]
     },
     "execution_count": 29,
     "metadata": {},
     "output_type": "execute_result"
    }
   ],
   "source": [
    "y.shape"
   ]
  },
  {
   "cell_type": "code",
   "execution_count": 34,
   "metadata": {
    "collapsed": false
   },
   "outputs": [
    {
     "name": "stdout",
     "output_type": "stream",
     "text": [
      "/home/brianc/McNulty Project/Code\r\n"
     ]
    }
   ],
   "source": [
    "!pwd\n"
   ]
  }
 ],
 "metadata": {
  "kernelspec": {
   "display_name": "Python 3",
   "language": "python",
   "name": "python3"
  },
  "language_info": {
   "codemirror_mode": {
    "name": "ipython",
    "version": 3
   },
   "file_extension": ".py",
   "mimetype": "text/x-python",
   "name": "python",
   "nbconvert_exporter": "python",
   "pygments_lexer": "ipython3",
   "version": "3.5.2"
  }
 },
 "nbformat": 4,
 "nbformat_minor": 0
}
