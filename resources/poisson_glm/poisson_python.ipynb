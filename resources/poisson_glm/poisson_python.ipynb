{
 "cells": [
  {
   "cell_type": "markdown",
   "metadata": {},
   "source": [
    "##  The Poisson Distribution"
   ]
  },
  {
   "cell_type": "code",
   "execution_count": 1,
   "metadata": {
    "collapsed": false
   },
   "outputs": [
    {
     "name": "stdout",
     "output_type": "stream",
     "text": [
      "Populating the interactive namespace from numpy and matplotlib\n"
     ]
    }
   ],
   "source": [
    "% pylab inline\n",
    "from __future__ import division\n",
    "import seaborn as sns\n",
    "\n",
    "from IPython.display import Math\n",
    "import pandas as pd"
   ]
  },
  {
   "cell_type": "markdown",
   "metadata": {},
   "source": [
    "###  How many pieces of mail do you receive daily?\n",
    "\n",
    "Let's say you usually get 4 letters a day.. \n",
    "\n",
    "We can use the Poisson Equation to look at the Probability Mass Function"
   ]
  },
  {
   "cell_type": "code",
   "execution_count": 2,
   "metadata": {
    "collapsed": false
   },
   "outputs": [
    {
     "data": {
      "text/latex": [
       "$$P(Y|\\lambda)  = (\\lambda^ye^{-\\lambda})/y!$$"
      ],
      "text/plain": [
       "<IPython.core.display.Math object>"
      ]
     },
     "metadata": {},
     "output_type": "display_data"
    },
    {
     "data": {
      "text/latex": [
       "$$E(Y)=\\lambda$$"
      ],
      "text/plain": [
       "<IPython.core.display.Math object>"
      ]
     },
     "metadata": {},
     "output_type": "display_data"
    },
    {
     "data": {
      "text/latex": [
       "$$Var(Y)=\\lambda$$"
      ],
      "text/plain": [
       "<IPython.core.display.Math object>"
      ]
     },
     "metadata": {},
     "output_type": "display_data"
    }
   ],
   "source": [
    "from IPython.display import display, Math, Latex\n",
    "display(Math(r'P(Y|\\lambda)  = (\\lambda^ye^{-\\lambda})/y!'));\n",
    "\n",
    "display(Math(r'E(Y)=\\lambda'));\n",
    "display(Math(r'Var(Y)=\\lambda'));"
   ]
  },
  {
   "cell_type": "code",
   "execution_count": 3,
   "metadata": {
    "collapsed": false
   },
   "outputs": [],
   "source": [
    "sum=0\n",
    "pois=[]\n",
    "def our_poisson(x,lam):\n",
    "    p=(lam**x)*np.exp(-lam)/(math.factorial(x))\n",
    "    return p\n",
    "\n",
    "for x in range(50):\n",
    "    pois.append(our_poisson(x,10))"
   ]
  },
  {
   "cell_type": "code",
   "execution_count": 19,
   "metadata": {
    "collapsed": false
   },
   "outputs": [
    {
     "data": {
      "text/plain": [
       "<matplotlib.text.Text at 0x10a42e250>"
      ]
     },
     "execution_count": 19,
     "metadata": {},
     "output_type": "execute_result"
    },
    {
     "data": {
      "image/png": "[encoded data removed]",
      "text/plain": [
       "<matplotlib.figure.Figure at 0x109cb6110>"
      ]
     },
     "metadata": {},
     "output_type": "display_data"
    }
   ],
   "source": [
    "plt.scatter(xrange(50),pois)\n",
    "plt.title(\"Probability Mass Function\")\n",
    "plt.ylabel(\"P(X=x)\")\n",
    "plt.xlabel(\"x\")"
   ]
  },
  {
   "cell_type": "markdown",
   "metadata": {},
   "source": [
    "#### The poisson distribution applies when:   \n",
    "    - The event is something that can be counted in whole numbers   \n",
    "    - Occurences are independent, (one occurence can not affect the chances of a previous or subsequent occurence)   \n",
    "    - Average frequency of occurence for the time period in question is known.   \n",
    "    - It is possible to count have many events have occurred ( How many firealarms went off in the building today)   \n",
    "    \n",
    "#### More examples:   \n",
    "    # of births per hour in a hospital   \n",
    "    # of cars passing by Madison Ave in some time interval  \n",
    "    # of goals in a hockey game\n",
    "    # Soldiers in the Prussian calvary killed by horse kicks"
   ]
  },
  {
   "cell_type": "markdown",
   "metadata": {},
   "source": [
    "## Poisson Distribution:"
   ]
  },
  {
   "cell_type": "code",
   "execution_count": 4,
   "metadata": {
    "collapsed": false
   },
   "outputs": [
    {
     "data": {
      "text/latex": [
       "$$P(Y|\\lambda)  = (\\lambda^ye^{-\\lambda})/y!$$"
      ],
      "text/plain": [
       "<IPython.core.display.Math object>"
      ]
     },
     "metadata": {},
     "output_type": "display_data"
    },
    {
     "data": {
      "text/latex": [
       "$$E(Y)=\\lambda$$"
      ],
      "text/plain": [
       "<IPython.core.display.Math object>"
      ]
     },
     "metadata": {},
     "output_type": "display_data"
    },
    {
     "data": {
      "text/latex": [
       "$$Var(Y)=\\lambda$$"
      ],
      "text/plain": [
       "<IPython.core.display.Math object>"
      ]
     },
     "metadata": {},
     "output_type": "display_data"
    }
   ],
   "source": [
    "from IPython.display import display, Math, Latex\n",
    "display(Math(r'P(Y|\\lambda)  = (\\lambda^ye^{-\\lambda})/y!'));\n",
    "\n",
    "display(Math(r'E(Y)=\\lambda'));\n",
    "display(Math(r'Var(Y)=\\lambda'));"
   ]
  },
  {
   "cell_type": "code",
   "execution_count": 5,
   "metadata": {
    "collapsed": false
   },
   "outputs": [
    {
     "name": "stdout",
     "output_type": "stream",
     "text": [
      "4.1\n",
      "3.67\n"
     ]
    }
   ],
   "source": [
    "sample=np.random.poisson(4, 100)\n",
    "print sample.mean()\n",
    "print sample.var()"
   ]
  },
  {
   "cell_type": "code",
   "execution_count": 8,
   "metadata": {
    "collapsed": false
   },
   "outputs": [
    {
     "data": {
      "text/html": [
       "<div style=\"max-height:1000px;max-width:1500px;overflow:auto;\">\n",
       "<table border=\"1\" class=\"dataframe\">\n",
       "  <thead>\n",
       "    <tr style=\"text-align: right;\">\n",
       "      <th></th>\n",
       "      <th>STA</th>\n",
       "      <th>Lambda</th>\n",
       "    </tr>\n",
       "  </thead>\n",
       "  <tbody>\n",
       "    <tr>\n",
       "      <th>0</th>\n",
       "      <td>JFK</td>\n",
       "      <td>16</td>\n",
       "    </tr>\n",
       "    <tr>\n",
       "      <th>1</th>\n",
       "      <td>FLL</td>\n",
       "      <td>7</td>\n",
       "    </tr>\n",
       "    <tr>\n",
       "      <th>2</th>\n",
       "      <td>EWR</td>\n",
       "      <td>5</td>\n",
       "    </tr>\n",
       "    <tr>\n",
       "      <th>3</th>\n",
       "      <td>LGB</td>\n",
       "      <td>4</td>\n",
       "    </tr>\n",
       "    <tr>\n",
       "      <th>4</th>\n",
       "      <td>MCO</td>\n",
       "      <td>4</td>\n",
       "    </tr>\n",
       "  </tbody>\n",
       "</table>\n",
       "</div>"
      ],
      "text/plain": [
       "   STA  Lambda\n",
       "0  JFK      16\n",
       "1  FLL       7\n",
       "2  EWR       5\n",
       "3  LGB       4\n",
       "4  MCO       4"
      ]
     },
     "execution_count": 8,
     "metadata": {},
     "output_type": "execute_result"
    }
   ],
   "source": [
    "# A REAL Example: 'Turn Around Time' for a Nose Landing Gear Tire (Delivery) was 9.25 days\n",
    "\n",
    "dets=[['JFK',16],['FLL',7],['EWR',5],['LGB',4],['MCO',4]]\n",
    "data=pd.DataFrame(dets,columns=['STA','Lambda'])\n",
    "data.head()"
   ]
  },
  {
   "cell_type": "code",
   "execution_count": 7,
   "metadata": {
    "collapsed": false
   },
   "outputs": [
    {
     "name": "stdout",
     "output_type": "stream",
     "text": [
      "JFK\n",
      "25\n",
      "0.986881437112\n",
      "\n",
      "\n",
      "FLL\n",
      "13\n",
      "0.987188607197\n",
      "\n",
      "\n",
      "EWR\n",
      "10\n",
      "0.986304731402\n",
      "\n",
      "\n",
      "LGB\n",
      "9\n",
      "0.991867757203\n",
      "\n",
      "\n",
      "MCO\n",
      "9\n",
      "0.991867757203\n",
      "\n",
      "\n"
     ]
    }
   ],
   "source": [
    "# \n",
    "sum=0\n",
    "for i in range(len(data)):\n",
    "    sum=0\n",
    "    for j in range(40):\n",
    "        sum+=our_poisson(j,int(data.Lambda[i]))\n",
    "        if sum > 0.985:\n",
    "            print data.STA[i]\n",
    "            print j\n",
    "            print sum\n",
    "            print '\\n'\n",
    "            break"
   ]
  },
  {
   "cell_type": "markdown",
   "metadata": {},
   "source": [
    "### Poisson Regression Example"
   ]
  },
  {
   "cell_type": "code",
   "execution_count": 7,
   "metadata": {
    "collapsed": false
   },
   "outputs": [],
   "source": [
    "import statsmodels.api as smf\n",
    "from patsy import dmatrices"
   ]
  },
  {
   "cell_type": "code",
   "execution_count": 6,
   "metadata": {
    "collapsed": false
   },
   "outputs": [
    {
     "data": {
      "text/html": [
       "<div style=\"max-height:1000px;max-width:1500px;overflow:auto;\">\n",
       "<table border=\"1\" class=\"dataframe\">\n",
       "  <thead>\n",
       "    <tr style=\"text-align: right;\">\n",
       "      <th></th>\n",
       "      <th>Job</th>\n",
       "      <th>Race</th>\n",
       "      <th>Income</th>\n",
       "      <th>GPA</th>\n",
       "    </tr>\n",
       "  </thead>\n",
       "  <tbody>\n",
       "    <tr>\n",
       "      <th>0</th>\n",
       "      <td>0</td>\n",
       "      <td>3</td>\n",
       "      <td>39.693</td>\n",
       "      <td>2.53</td>\n",
       "    </tr>\n",
       "    <tr>\n",
       "      <th>1</th>\n",
       "      <td>0</td>\n",
       "      <td>3</td>\n",
       "      <td>45.250</td>\n",
       "      <td>1.99</td>\n",
       "    </tr>\n",
       "    <tr>\n",
       "      <th>2</th>\n",
       "      <td>0</td>\n",
       "      <td>3</td>\n",
       "      <td>45.688</td>\n",
       "      <td>3.83</td>\n",
       "    </tr>\n",
       "    <tr>\n",
       "      <th>3</th>\n",
       "      <td>0</td>\n",
       "      <td>3</td>\n",
       "      <td>46.927</td>\n",
       "      <td>1.99</td>\n",
       "    </tr>\n",
       "    <tr>\n",
       "      <th>4</th>\n",
       "      <td>1</td>\n",
       "      <td>3</td>\n",
       "      <td>47.436</td>\n",
       "      <td>3.21</td>\n",
       "    </tr>\n",
       "  </tbody>\n",
       "</table>\n",
       "</div>"
      ],
      "text/plain": [
       "   Job Race  Income   GPA\n",
       "0    0    3  39.693  2.53\n",
       "1    0    3  45.250  1.99\n",
       "2    0    3  45.688  3.83\n",
       "3    0    3  46.927  1.99\n",
       "4    1    3  47.436  3.21"
      ]
     },
     "execution_count": 6,
     "metadata": {},
     "output_type": "execute_result"
    }
   ],
   "source": [
    "url='http://quantedu.com/wp-content/uploads/2014/05/job.txt'\n",
    "data=pd.read_csv(url,delimiter=r\"\\s+\")\n",
    "data.Race=data.Race.astype(str)\n",
    "data.head()"
   ]
  },
  {
   "cell_type": "code",
   "execution_count": 9,
   "metadata": {
    "collapsed": false
   },
   "outputs": [
    {
     "data": {
      "text/html": [
       "<div style=\"max-height:1000px;max-width:1500px;overflow:auto;\">\n",
       "<table border=\"1\" class=\"dataframe\">\n",
       "  <thead>\n",
       "    <tr style=\"text-align: right;\">\n",
       "      <th></th>\n",
       "      <th>Intercept</th>\n",
       "      <th>Race[T.2]</th>\n",
       "      <th>Race[T.3]</th>\n",
       "      <th>Income</th>\n",
       "      <th>GPA</th>\n",
       "    </tr>\n",
       "  </thead>\n",
       "  <tbody>\n",
       "    <tr>\n",
       "      <th>0</th>\n",
       "      <td>1</td>\n",
       "      <td>0</td>\n",
       "      <td>1</td>\n",
       "      <td>39.693</td>\n",
       "      <td>2.53</td>\n",
       "    </tr>\n",
       "    <tr>\n",
       "      <th>1</th>\n",
       "      <td>1</td>\n",
       "      <td>0</td>\n",
       "      <td>1</td>\n",
       "      <td>45.250</td>\n",
       "      <td>1.99</td>\n",
       "    </tr>\n",
       "    <tr>\n",
       "      <th>2</th>\n",
       "      <td>1</td>\n",
       "      <td>0</td>\n",
       "      <td>1</td>\n",
       "      <td>45.688</td>\n",
       "      <td>3.83</td>\n",
       "    </tr>\n",
       "    <tr>\n",
       "      <th>3</th>\n",
       "      <td>1</td>\n",
       "      <td>0</td>\n",
       "      <td>1</td>\n",
       "      <td>46.927</td>\n",
       "      <td>1.99</td>\n",
       "    </tr>\n",
       "    <tr>\n",
       "      <th>4</th>\n",
       "      <td>1</td>\n",
       "      <td>0</td>\n",
       "      <td>1</td>\n",
       "      <td>47.436</td>\n",
       "      <td>3.21</td>\n",
       "    </tr>\n",
       "  </tbody>\n",
       "</table>\n",
       "</div>"
      ],
      "text/plain": [
       "   Intercept  Race[T.2]  Race[T.3]  Income   GPA\n",
       "0          1          0          1  39.693  2.53\n",
       "1          1          0          1  45.250  1.99\n",
       "2          1          0          1  45.688  3.83\n",
       "3          1          0          1  46.927  1.99\n",
       "4          1          0          1  47.436  3.21"
      ]
     },
     "execution_count": 9,
     "metadata": {},
     "output_type": "execute_result"
    }
   ],
   "source": [
    "Y,X = dmatrices('Job ~Race + Income + GPA', data=data, return_type='dataframe')\n",
    "X.head()"
   ]
  },
  {
   "cell_type": "code",
   "execution_count": 93,
   "metadata": {
    "collapsed": false
   },
   "outputs": [
    {
     "name": "stdout",
     "output_type": "stream",
     "text": [
      "                 Generalized Linear Model Regression Results                  \n",
      "==============================================================================\n",
      "Dep. Variable:                    Job   No. Observations:                  200\n",
      "Model:                            GLM   Df Residuals:                      195\n",
      "Model Family:                 Poisson   Df Model:                            4\n",
      "Link Function:                    log   Scale:                             1.0\n",
      "Method:                          IRLS   Log-Likelihood:                -192.06\n",
      "Date:                Thu, 22 Oct 2015   Deviance:                       183.17\n",
      "Time:                        08:11:05   Pearson chi2:                     198.\n",
      "No. Iterations:                     8                                         \n",
      "==============================================================================\n",
      "                 coef    std err          z      P>|z|      [95.0% Conf. Int.]\n",
      "------------------------------------------------------------------------------\n",
      "Intercept     -5.8078      0.706     -8.222      0.000        -7.192    -4.423\n",
      "Race[T.2]      1.0338      0.325      3.177      0.001         0.396     1.672\n",
      "Race[T.3]      0.2703      0.410      0.659      0.510        -0.534     1.074\n",
      "Income         0.0643      0.008      7.829      0.000         0.048     0.080\n",
      "GPA            0.1220      0.110      1.114      0.265        -0.093     0.337\n",
      "==============================================================================\n"
     ]
    }
   ],
   "source": [
    "# Data \n",
    "pois_m=sm.GLM(Y,X, family=sm.families.Poisson(sm.families.links.log))\n",
    "# Fitting our model using Maximum likelihood\n",
    "pois_results=pois_m.fit()\n",
    "\n",
    "print pois_results.summary()"
   ]
  },
  {
   "cell_type": "code",
   "execution_count": null,
   "metadata": {
    "collapsed": true
   },
   "outputs": [],
   "source": []
  }
 ],
 "metadata": {
  "kernelspec": {
   "display_name": "Python 2",
   "language": "python",
   "name": "python2"
  },
  "language_info": {
   "codemirror_mode": {
    "name": "ipython",
    "version": 2
   },
   "file_extension": ".py",
   "mimetype": "text/x-python",
   "name": "python",
   "nbconvert_exporter": "python",
   "pygments_lexer": "ipython2",
   "version": "2.7.10"
  }
 },
 "nbformat": 4,
 "nbformat_minor": 0
}
