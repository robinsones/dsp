{
 "cells": [
  {
   "cell_type": "code",
   "execution_count": 1,
   "metadata": {
    "ExecuteTime": {
     "end_time": "2016-07-02T22:17:13.887838",
     "start_time": "2016-07-02T22:17:13.870566"
    },
    "collapsed": true
   },
   "outputs": [],
   "source": [
    "import dateutil.parser as dtparser"
   ]
  },
  {
   "cell_type": "markdown",
   "metadata": {},
   "source": [
    "## Jupyter Printing via `__str__`\n",
    "\n",
    "Michelle L. Gill  \n",
    "2015/07/02\n",
    "\n",
    "Exploration of Jupyter printing behavior of a string and related parsed datetime object."
   ]
  },
  {
   "cell_type": "code",
   "execution_count": 2,
   "metadata": {
    "ExecuteTime": {
     "end_time": "2016-07-02T22:17:14.281374",
     "start_time": "2016-07-02T22:17:14.276014"
    },
    "collapsed": false
   },
   "outputs": [],
   "source": [
    "# An example string object\n",
    "date_str = '2016/07/02 10:05:03'\n",
    "\n",
    "# Parsed to a datetime\n",
    "date_par = dtparser.parse(date_str)"
   ]
  },
  {
   "cell_type": "markdown",
   "metadata": {},
   "source": [
    "Viewing the contents of the parsed variable by typing its name does not invoke any special formatting."
   ]
  },
  {
   "cell_type": "code",
   "execution_count": 3,
   "metadata": {
    "ExecuteTime": {
     "end_time": "2016-07-02T22:17:15.093456",
     "start_time": "2016-07-02T22:17:15.063093"
    },
    "collapsed": false
   },
   "outputs": [
    {
     "data": {
      "text/plain": [
       "datetime.datetime(2016, 7, 2, 10, 5, 3)"
      ]
     },
     "execution_count": 3,
     "metadata": {},
     "output_type": "execute_result"
    }
   ],
   "source": [
    "date_par"
   ]
  },
  {
   "cell_type": "markdown",
   "metadata": {},
   "source": [
    "However, using the `print` function invokes whatever is stored in the `__str__` method if custom formatting is not supplied. The result below is equivalent to what caused the confusion for us on Friday. \n",
    "\n",
    "Note that the separators between date objects are *NOT* the same as what was supplied in the string. This is some default format that is used by the dateutil.parser. However, this wasn't obvious on Friday because I believe the data had the same format as `__str__`."
   ]
  },
  {
   "cell_type": "code",
   "execution_count": 4,
   "metadata": {
    "ExecuteTime": {
     "end_time": "2016-07-02T22:17:15.785356",
     "start_time": "2016-07-02T22:17:15.780835"
    },
    "collapsed": false
   },
   "outputs": [
    {
     "name": "stdout",
     "output_type": "stream",
     "text": [
      "2016-07-02 10:05:03\n"
     ]
    }
   ],
   "source": [
    "print(date_par)"
   ]
  },
  {
   "cell_type": "markdown",
   "metadata": {},
   "source": [
    "And here are the contents stored in the `__str__` method. They are identical to that produced by `print`."
   ]
  },
  {
   "cell_type": "code",
   "execution_count": 5,
   "metadata": {
    "ExecuteTime": {
     "end_time": "2016-07-02T22:17:17.595663",
     "start_time": "2016-07-02T22:17:17.589512"
    },
    "collapsed": false
   },
   "outputs": [
    {
     "data": {
      "text/plain": [
       "'2016-07-02 10:05:03'"
      ]
     },
     "execution_count": 5,
     "metadata": {},
     "output_type": "execute_result"
    }
   ],
   "source": [
    "date_par.__str__()"
   ]
  }
 ],
 "metadata": {
  "kernelspec": {
   "display_name": "Python 2",
   "language": "python",
   "name": "python2"
  },
  "language_info": {
   "codemirror_mode": {
    "name": "ipython",
    "version": 2
   },
   "file_extension": ".py",
   "mimetype": "text/x-python",
   "name": "python",
   "nbconvert_exporter": "python",
   "pygments_lexer": "ipython2",
   "version": "2.7.12"
  }
 },
 "nbformat": 4,
 "nbformat_minor": 0
}
